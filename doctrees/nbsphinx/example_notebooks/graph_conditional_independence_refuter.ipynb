{
 "cells": [
  {
   "cell_type": "markdown",
   "metadata": {},
   "source": [
    "# Testing Assumptions in model with DoWhy: A simple example\n",
    "This is a quick introduction to how we can test if our assumed graph is correct and the assumptions match with the dataset.\n",
    "We do so by checking the conditional independences in the graph and see if they hold true for the data as well. Currently we are using partial correlation to test continuous data and conditional mutual information to test discrete data.\n",
    "\n",
    "First, let us load all required packages."
   ]
  },
  {
   "cell_type": "code",
   "execution_count": 1,
   "metadata": {
    "execution": {
     "iopub.execute_input": "2022-07-16T03:56:36.337414Z",
     "iopub.status.busy": "2022-07-16T03:56:36.336061Z",
     "iopub.status.idle": "2022-07-16T03:56:36.390540Z",
     "shell.execute_reply": "2022-07-16T03:56:36.391549Z"
    }
   },
   "outputs": [],
   "source": [
    "%load_ext autoreload\n",
    "%autoreload 2"
   ]
  },
  {
   "cell_type": "code",
   "execution_count": 2,
   "metadata": {
    "execution": {
     "iopub.execute_input": "2022-07-16T03:56:36.399950Z",
     "iopub.status.busy": "2022-07-16T03:56:36.398655Z",
     "iopub.status.idle": "2022-07-16T03:56:38.581927Z",
     "shell.execute_reply": "2022-07-16T03:56:38.582930Z"
    }
   },
   "outputs": [],
   "source": [
    "import numpy as np\n",
    "import pandas as pd\n",
    "import os, sys\n",
    "sys.path.append(os.path.abspath(\"../../../\"))\n",
    "import dowhy\n",
    "from dowhy import CausalModel\n",
    "import dowhy.datasets "
   ]
  },
  {
   "cell_type": "markdown",
   "metadata": {},
   "source": [
    "## Step 1: Load dataset\n",
    "The function `dataset_from_random_graph(num_vars, num_samples, prob_edge, random_seed, prob_type_data)` can be used to create a\n",
    "dataset from a randomly generated directed graph. The data can be mixture of discrete, binary and continuous variables. The parameters have the following significance -\n",
    "- num_vars : Number of variables in the dataset\n",
    "- num_samples: Number of samples in the dataset\n",
    "- prob_edge : Probability of an edge between two random nodes in a graph\n",
    "- random_seed: Seed for generating random graph\n",
    "- prob_type_of_data : 3-element tuple containing the probability of data being discrete, binary and continuous respectively.(Should add up to 1)"
   ]
  },
  {
   "cell_type": "code",
   "execution_count": 3,
   "metadata": {
    "execution": {
     "iopub.execute_input": "2022-07-16T03:56:38.592970Z",
     "iopub.status.busy": "2022-07-16T03:56:38.591596Z",
     "iopub.status.idle": "2022-07-16T03:56:39.168222Z",
     "shell.execute_reply": "2022-07-16T03:56:39.169885Z"
    }
   },
   "outputs": [
    {
     "name": "stdout",
     "output_type": "stream",
     "text": [
      "['a', 'c', 'e', 'f', 'h'] ['b', 'd', 'g', 'i', 'j'] ['c', 'e']\n",
      "   a         b  c         d  e  f         g  h         i         j\n",
      "0 -1 -1.170054  1  0.996507  1  0 -0.218214 -1 -1.107993  0.699933\n",
      "1  0  0.527130  1  0.894435  1  1  1.485562  0 -1.450727 -1.055649\n",
      "2  0  0.436049  0 -0.151908  0  0  0.195296  0  2.280391  1.162284\n",
      "3  0  0.005213  1  0.347139  1  0 -0.727156 -1 -1.140999 -2.165819\n",
      "4  0  1.212397  0 -1.230150  0  1  0.582913  0 -1.377051 -2.359753\n"
     ]
    }
   ],
   "source": [
    "data = dowhy.datasets.dataset_from_random_graph(num_vars = 10,\n",
    "                                                num_samples = 5000,\n",
    "                                                prob_edge = 0.3,\n",
    "                                                random_seed = 100,\n",
    "                                                prob_type_of_data = (0.333, 0.333, 0.334)) \n",
    "df = data[\"df\"] #Insert dataset here\n",
    "print(data[\"discrete_columns\"], data[\"continuous_columns\"], data[\"binary_columns\"])\n",
    "print(df.head())"
   ]
  },
  {
   "cell_type": "markdown",
   "metadata": {},
   "source": [
    "Note that we are using a pandas dataframe to load the data. At present, DoWhy only supports pandas dataframe as input."
   ]
  },
  {
   "cell_type": "markdown",
   "metadata": {},
   "source": [
    "## Step 2: Input causal graph"
   ]
  },
  {
   "cell_type": "markdown",
   "metadata": {},
   "source": [
    "We now input a causal graph. You can do that in the GML graph format (recommended), DOT format or the output from daggity -\n",
    "To create the causal graph for your dataset, you can use a tool like [DAGitty](http://dagitty.net/dags.html#) that provides a GUI to construct the graph. You can export the graph string that it generates."
   ]
  },
  {
   "cell_type": "code",
   "execution_count": 4,
   "metadata": {
    "execution": {
     "iopub.execute_input": "2022-07-16T03:56:39.180671Z",
     "iopub.status.busy": "2022-07-16T03:56:39.179035Z",
     "iopub.status.idle": "2022-07-16T03:56:39.288537Z",
     "shell.execute_reply": "2022-07-16T03:56:39.289141Z"
    }
   },
   "outputs": [],
   "source": [
    "graph_string = \"\"\"graph [\n",
    "  directed 1\n",
    "  node [\n",
    "    id 0\n",
    "    label \"a\"\n",
    "  ]\n",
    "  node [\n",
    "    id 1\n",
    "    label \"b\"\n",
    "  ]\n",
    "  node [\n",
    "    id 2\n",
    "    label \"c\"\n",
    "  ]\n",
    "  node [\n",
    "    id 3\n",
    "    label \"d\"\n",
    "  ]\n",
    "  node [\n",
    "    id 4\n",
    "    label \"e\"\n",
    "  ]\n",
    "  node [\n",
    "    id 5\n",
    "    label \"f\"\n",
    "  ]\n",
    "  node [\n",
    "    id 6\n",
    "    label \"g\"\n",
    "  ]\n",
    "  node [\n",
    "    id 7\n",
    "    label \"h\"\n",
    "  ]\n",
    "  node [\n",
    "    id 8\n",
    "    label \"i\"\n",
    "  ]\n",
    "  node [\n",
    "    id 9\n",
    "    label \"j\"\n",
    "  ]\n",
    "  edge [\n",
    "    source 0\n",
    "    target 1\n",
    "  ]\n",
    "  edge [\n",
    "    source 0\n",
    "    target 8\n",
    "  ]\n",
    "  edge [\n",
    "    source 1\n",
    "    target 2\n",
    "  ]\n",
    "  edge [\n",
    "    source 1\n",
    "    target 5\n",
    "  ]\n",
    "  edge [\n",
    "    source 2\n",
    "    target 3\n",
    "  ]\n",
    "  edge [\n",
    "    source 2\n",
    "    target 4\n",
    "  ]\n",
    "  edge [\n",
    "    source 3\n",
    "    target 4\n",
    "  ]\n",
    "  edge [\n",
    "    source 4\n",
    "    target 5\n",
    "  ]\n",
    "  edge [\n",
    "    source 5\n",
    "    target 6\n",
    "  ]\n",
    "  edge [\n",
    "    source 6\n",
    "    target 7\n",
    "  ]\n",
    "  edge [\n",
    "    source 7\n",
    "    target 8\n",
    "  ]\n",
    "  edge [\n",
    "    source 8\n",
    "    target 9\n",
    "  ]\n",
    "]\n",
    "\n",
    "\"\"\""
   ]
  },
  {
   "cell_type": "markdown",
   "metadata": {},
   "source": [
    "## Step 3: Create Causal Model"
   ]
  },
  {
   "cell_type": "code",
   "execution_count": 5,
   "metadata": {
    "execution": {
     "iopub.execute_input": "2022-07-16T03:56:39.294056Z",
     "iopub.status.busy": "2022-07-16T03:56:39.293296Z",
     "iopub.status.idle": "2022-07-16T03:56:39.338090Z",
     "shell.execute_reply": "2022-07-16T03:56:39.338676Z"
    }
   },
   "outputs": [],
   "source": [
    "model=CausalModel(\n",
    "        data = df,\n",
    "        treatment=data[\"treatment_name\"],\n",
    "        outcome=data[\"outcome_name\"],\n",
    "        graph=graph_string\n",
    "        )"
   ]
  },
  {
   "cell_type": "code",
   "execution_count": 6,
   "metadata": {
    "execution": {
     "iopub.execute_input": "2022-07-16T03:56:39.344168Z",
     "iopub.status.busy": "2022-07-16T03:56:39.343377Z",
     "iopub.status.idle": "2022-07-16T03:56:39.581515Z",
     "shell.execute_reply": "2022-07-16T03:56:39.582129Z"
    }
   },
   "outputs": [],
   "source": [
    "model.view_model()"
   ]
  },
  {
   "cell_type": "code",
   "execution_count": 7,
   "metadata": {
    "execution": {
     "iopub.execute_input": "2022-07-16T03:56:39.589361Z",
     "iopub.status.busy": "2022-07-16T03:56:39.588626Z",
     "iopub.status.idle": "2022-07-16T03:56:39.659976Z",
     "shell.execute_reply": "2022-07-16T03:56:39.660903Z"
    },
    "scrolled": true
   },
   "outputs": [
    {
     "data": {
      "image/png": "[encoded data removed]",
      "text/plain": [
       "<IPython.core.display.Image object>"
      ]
     },
     "metadata": {},
     "output_type": "display_data"
    }
   ],
   "source": [
    "from IPython.display import Image, display\n",
    "display(Image(filename=\"causal_model.png\"))"
   ]
  },
  {
   "cell_type": "markdown",
   "metadata": {},
   "source": [
    "## Step 4: Testing for Conditional Independence\n",
    "We can check if the assumptions of the graph hold true for the data using<br> `model.refute_graph(k, independence_test = {'test_for_continuous': 'partial_correlation', 'test_for_discrete' : 'conditional_mutual_information'})` <br>\n",
    "We are testing X ⫫ Y | Z where X and Y are singular sets and Z can have k number of variables. k value is 1 by default unless input. <br>\n",
    "Currently we are using following settings - \n",
    "- \"partial_correlation\"  for continuous data<br>\n",
    "- \"conditional_mutual_information\" for discrete data<br>\n",
    "- \"conditional_mutua_information\" when Z is discrete and either of X and Y is continuous\n",
    "- \"partial_correlation\" when Z is continuous/binary and X and Y are either continuous/binary\n",
    "- \"conditional_mutual_information\" when X and Y are discrete and Z has mixed data\n",
    "- other settings are currently not supported"
   ]
  },
  {
   "cell_type": "code",
   "execution_count": 8,
   "metadata": {
    "execution": {
     "iopub.execute_input": "2022-07-16T03:56:39.669744Z",
     "iopub.status.busy": "2022-07-16T03:56:39.668508Z",
     "iopub.status.idle": "2022-07-16T03:56:40.064491Z",
     "shell.execute_reply": "2022-07-16T03:56:40.063447Z"
    },
    "scrolled": false
   },
   "outputs": [
    {
     "name": "stdout",
     "output_type": "stream",
     "text": [
      "The following setting with j as continuous, f as discrete, ('i',) as ['continuous'] not supported\n",
      "The following setting with j as continuous, a as discrete, ('i',) as ['continuous'] not supported\n",
      "The following setting with j as continuous, h as discrete, ('i',) as ['continuous'] not supported\n",
      "The following setting with a as discrete, g as continuous, ('b',) as ['continuous'] not supported\n",
      "The following setting with a as discrete, d as continuous, ('b',) as ['continuous'] not supported\n",
      "The following setting with g as continuous, b as continuous, ('f',) as ['discrete'] not supported\n",
      "The following setting with g as continuous, d as continuous, ('f',) as ['discrete'] not supported\n",
      "The following setting with b as continuous, h as discrete, ('g',) as ['continuous'] not supported\n"
     ]
    },
    {
     "name": "stdout",
     "output_type": "stream",
     "text": [
      "The following setting with h as discrete, d as continuous, ('g',) as ['continuous'] not supported\n"
     ]
    }
   ],
   "source": [
    "refuter_object = model.refute_graph(k=1, independence_test = {'test_for_continuous': 'partial_correlation', 'test_for_discrete' : 'conditional_mutual_information'}) #Change k parameter to test conditional independence given different number of variables "
   ]
  },
  {
   "cell_type": "code",
   "execution_count": 9,
   "metadata": {
    "execution": {
     "iopub.execute_input": "2022-07-16T03:56:40.071505Z",
     "iopub.status.busy": "2022-07-16T03:56:40.070144Z",
     "iopub.status.idle": "2022-07-16T03:56:40.115490Z",
     "shell.execute_reply": "2022-07-16T03:56:40.114449Z"
    }
   },
   "outputs": [
    {
     "name": "stdout",
     "output_type": "stream",
     "text": [
      "Method name for discrete data:conditional_mutual_information\n",
      "Method name for continuous data:partial_correlation\n",
      "Number of conditional independencies entailed by model:34\n",
      "Number of independences satisfied by data:25\n",
      "Test passed:True\n",
      "\n"
     ]
    }
   ],
   "source": [
    "print(refuter_object)"
   ]
  },
  {
   "cell_type": "markdown",
   "metadata": {},
   "source": [
    "### Testing for a set of edges\n",
    "We can also test a set of conditional independences whether they are true or not The input has to be in the form - <br>\n",
    "[( x1, y1, (z1, z2)), <br>\n",
    " ( x2, y2, (z3, z4)),<br>\n",
    " ( x3, y3, (z5,)),<br>\n",
    " ( x4, y4, ())<br>\n",
    " ]<br>\n",
    " ##### The testing data can be a mix of discrete and continuous types as well (Here binary implies discrete only) -"
   ]
  },
  {
   "cell_type": "code",
   "execution_count": 10,
   "metadata": {
    "execution": {
     "iopub.execute_input": "2022-07-16T03:56:40.123262Z",
     "iopub.status.busy": "2022-07-16T03:56:40.121972Z",
     "iopub.status.idle": "2022-07-16T03:56:40.187735Z",
     "shell.execute_reply": "2022-07-16T03:56:40.188661Z"
    }
   },
   "outputs": [],
   "source": [
    "refuter_object = model.refute_graph(independence_constraints = [('c', 'e' , ('g',)), # c and e - binary, g - continuous\n",
    "                                                                ('f', 'h' , ('b',)), # f and h - discrete, b - continuous\n",
    "                                                                ('e', 'g' , ('h',)), # e - binary, g - continuous, h - discrete\n",
    "                                                                ('c', 'a' , ('b',)), # c and a - discrete, b - continuous\n",
    "                                                                ('d', 'i' , ('c',)), # d and i - continuous, c - binary\n",
    "                                                                ('a', 'j' , ())      # a - discrete, j - continuous\n",
    "                                                               ],\n",
    "                         independence_test = {'test_for_continuous': 'partial_correlation', 'test_for_discrete' : 'conditional_mutual_information'}\n",
    "                        )"
   ]
  },
  {
   "cell_type": "code",
   "execution_count": 11,
   "metadata": {
    "execution": {
     "iopub.execute_input": "2022-07-16T03:56:40.196402Z",
     "iopub.status.busy": "2022-07-16T03:56:40.195174Z",
     "iopub.status.idle": "2022-07-16T03:56:40.236282Z",
     "shell.execute_reply": "2022-07-16T03:56:40.235188Z"
    }
   },
   "outputs": [
    {
     "name": "stdout",
     "output_type": "stream",
     "text": [
      "Method name for discrete data:conditional_mutual_information\n",
      "Method name for continuous data:partial_correlation\n",
      "Number of conditional independencies entailed by model:6\n",
      "Number of independences satisfied by data:6\n",
      "Test passed:True\n",
      "\n"
     ]
    }
   ],
   "source": [
    "print(refuter_object)"
   ]
  },
  {
   "cell_type": "markdown",
   "metadata": {},
   "source": [
    "## Testing with a wrong graph input"
   ]
  },
  {
   "cell_type": "code",
   "execution_count": 12,
   "metadata": {
    "execution": {
     "iopub.execute_input": "2022-07-16T03:56:40.243709Z",
     "iopub.status.busy": "2022-07-16T03:56:40.242018Z",
     "iopub.status.idle": "2022-07-16T03:56:40.282999Z",
     "shell.execute_reply": "2022-07-16T03:56:40.283931Z"
    }
   },
   "outputs": [],
   "source": [
    "graph_string = \"\"\"graph [\n",
    "        directed 1\n",
    "        node [\n",
    "            id 0\n",
    "            label \"a\"\n",
    "        ]\n",
    "        node [\n",
    "            id 1\n",
    "            label \"b\"\n",
    "        ]\n",
    "        node [\n",
    "            id 2\n",
    "            label \"c\"\n",
    "        ]\n",
    "        node [\n",
    "            id 3\n",
    "            label \"d\"\n",
    "        ]\n",
    "        node [\n",
    "            id 4\n",
    "            label \"e\"\n",
    "        ]\n",
    "        node [\n",
    "            id 5\n",
    "            label \"f\"\n",
    "        ]\n",
    "        node [\n",
    "            id 6\n",
    "            label \"g\"\n",
    "        ]\n",
    "        node [\n",
    "            id 7\n",
    "            label \"h\"\n",
    "        ]\n",
    "        node [\n",
    "            id 8\n",
    "            label \"i\"\n",
    "        ]\n",
    "        node [\n",
    "            id 9\n",
    "            label \"j\"\n",
    "        ]\n",
    "        edge [\n",
    "            source 0\n",
    "            target 1\n",
    "        ]\n",
    "        edge [\n",
    "            source 0\n",
    "            target 2\n",
    "        ]\n",
    "        edge [\n",
    "            source 0\n",
    "            target 3\n",
    "        ]\n",
    "        edge [\n",
    "            source 1\n",
    "            target 4\n",
    "        ]\n",
    "        edge [\n",
    "            source 1\n",
    "            target 5\n",
    "        ]\n",
    "        edge [\n",
    "            source 2\n",
    "            target 3\n",
    "        ]\n",
    "        edge [\n",
    "            source 4\n",
    "            target 2\n",
    "        ]\n",
    "        edge [\n",
    "            source 4\n",
    "            target 5\n",
    "        ]\n",
    "        edge [\n",
    "            source 4\n",
    "            target 6\n",
    "        ]\n",
    "        edge [\n",
    "            source 4\n",
    "            target 7\n",
    "        ]\n",
    "        edge [\n",
    "            source 8\n",
    "            target 6\n",
    "        ]\n",
    "        edge\n",
    "        [\n",
    "        source 9\n",
    "        target 0\n",
    "        ]\n",
    "        ]\"\"\""
   ]
  },
  {
   "cell_type": "code",
   "execution_count": 13,
   "metadata": {
    "execution": {
     "iopub.execute_input": "2022-07-16T03:56:40.290868Z",
     "iopub.status.busy": "2022-07-16T03:56:40.289596Z",
     "iopub.status.idle": "2022-07-16T03:56:40.328674Z",
     "shell.execute_reply": "2022-07-16T03:56:40.329670Z"
    }
   },
   "outputs": [],
   "source": [
    "model = CausalModel(\n",
    "            data=df,\n",
    "            treatment=data[\"treatment_name\"],\n",
    "            outcome=data[\"outcome_name\"],\n",
    "            graph=graph_string,\n",
    "        )"
   ]
  },
  {
   "cell_type": "code",
   "execution_count": 14,
   "metadata": {
    "execution": {
     "iopub.execute_input": "2022-07-16T03:56:40.336072Z",
     "iopub.status.busy": "2022-07-16T03:56:40.334829Z",
     "iopub.status.idle": "2022-07-16T03:56:40.506872Z",
     "shell.execute_reply": "2022-07-16T03:56:40.507865Z"
    }
   },
   "outputs": [],
   "source": [
    "model.view_model()"
   ]
  },
  {
   "cell_type": "code",
   "execution_count": 15,
   "metadata": {
    "execution": {
     "iopub.execute_input": "2022-07-16T03:56:40.515896Z",
     "iopub.status.busy": "2022-07-16T03:56:40.514653Z",
     "iopub.status.idle": "2022-07-16T03:56:40.565657Z",
     "shell.execute_reply": "2022-07-16T03:56:40.566656Z"
    }
   },
   "outputs": [
    {
     "data": {
      "image/png": "[encoded data removed]",
      "text/plain": [
       "<IPython.core.display.Image object>"
      ]
     },
     "metadata": {},
     "output_type": "display_data"
    }
   ],
   "source": [
    "from IPython.display import Image, display\n",
    "display(Image(filename=\"causal_model.png\"))"
   ]
  },
  {
   "cell_type": "code",
   "execution_count": 16,
   "metadata": {
    "execution": {
     "iopub.execute_input": "2022-07-16T03:56:40.572997Z",
     "iopub.status.busy": "2022-07-16T03:56:40.571765Z",
     "iopub.status.idle": "2022-07-16T03:56:42.307455Z",
     "shell.execute_reply": "2022-07-16T03:56:42.308458Z"
    }
   },
   "outputs": [
    {
     "name": "stdout",
     "output_type": "stream",
     "text": [
      "The following setting with j as continuous, e as binary, ('f', 'b') as ['discrete', 'continuous'] not supported\n",
      "The following setting with j as continuous, e as binary, ('i', 'a') as ['continuous', 'discrete'] not supported\n",
      "The following setting with j as continuous, e as binary, ('a', 'g') as ['discrete', 'continuous'] not supported\n",
      "The following setting with j as continuous, e as binary, ('a', 'b') as ['discrete', 'continuous'] not supported\n",
      "The following setting with j as continuous, e as binary, ('a', 'd') as ['discrete', 'continuous'] not supported\n",
      "The following setting with j as continuous, e as binary, ('b', 'h') as ['continuous', 'discrete'] not supported\n",
      "The following setting with j as continuous, f as discrete, ('e', 'b') as ['binary', 'continuous'] not supported\n",
      "The following setting with j as continuous, f as discrete, ('i', 'a') as ['continuous', 'discrete'] not supported\n",
      "The following setting with j as continuous, f as discrete, ('i', 'b') as ['continuous', 'continuous'] not supported\n",
      "The following setting with j as continuous, f as discrete, ('a', 'g') as ['discrete', 'continuous'] not supported\n",
      "The following setting with j as continuous, f as discrete, ('a', 'b') as ['discrete', 'continuous'] not supported\n",
      "The following setting with j as continuous, f as discrete, ('a', 'd') as ['discrete', 'continuous'] not supported\n",
      "The following setting with j as continuous, f as discrete, ('g', 'b') as ['continuous', 'continuous'] not supported\n",
      "The following setting with j as continuous, f as discrete, ('b', 'h') as ['continuous', 'discrete'] not supported\n",
      "The following setting with j as continuous, i as continuous, ('e', 'f') as ['binary', 'discrete'] not supported\n",
      "The following setting with j as continuous, i as continuous, ('e', 'a') as ['binary', 'discrete'] not supported\n",
      "The following setting with j as continuous, i as continuous, ('e', 'h') as ['binary', 'discrete'] not supported\n",
      "The following setting with j as continuous, i as continuous, ('f', 'a') as ['discrete', 'discrete'] not supported\n",
      "The following setting with j as continuous, i as continuous, ('f', 'b') as ['discrete', 'continuous'] not supported\n",
      "The following setting with j as continuous, i as continuous, ('f', 'h') as ['discrete', 'discrete'] not supported\n",
      "The following setting with j as continuous, i as continuous, ('f', 'd') as ['discrete', 'continuous'] not supported\n",
      "The following setting with j as continuous, i as continuous, ('f', 'c') as ['discrete', 'binary'] not supported\n",
      "The following setting with j as continuous, i as continuous, ('a', 'g') as ['discrete', 'continuous'] not supported\n",
      "The following setting with j as continuous, i as continuous, ('a', 'b') as ['discrete', 'continuous'] not supported\n",
      "The following setting with j as continuous, i as continuous, ('a', 'h') as ['discrete', 'discrete'] not supported\n",
      "The following setting with j as continuous, i as continuous, ('a', 'd') as ['discrete', 'continuous'] not supported\n",
      "The following setting with j as continuous, i as continuous, ('a', 'c') as ['discrete', 'binary'] not supported\n",
      "The following setting with j as continuous, i as continuous, ('b', 'h') as ['continuous', 'discrete'] not supported\n",
      "The following setting with j as continuous, i as continuous, ('h', 'd') as ['discrete', 'continuous'] not supported\n",
      "The following setting with j as continuous, i as continuous, ('h', 'c') as ['discrete', 'binary'] not supported\n",
      "The following setting with j as continuous, g as continuous, ('e', 'f') as ['binary', 'discrete'] not supported\n",
      "The following setting with j as continuous, g as continuous, ('e', 'a') as ['binary', 'discrete'] not supported\n",
      "The following setting with j as continuous, g as continuous, ('e', 'h') as ['binary', 'discrete'] not supported\n",
      "The following setting with j as continuous, g as continuous, ('f', 'a') as ['discrete', 'discrete'] not supported\n",
      "The following setting with j as continuous, g as continuous, ('f', 'b') as ['discrete', 'continuous'] not supported\n",
      "The following setting with j as continuous, g as continuous, ('i', 'a') as ['continuous', 'discrete'] not supported\n",
      "The following setting with j as continuous, g as continuous, ('a', 'b') as ['discrete', 'continuous'] not supported\n",
      "The following setting with j as continuous, g as continuous, ('a', 'h') as ['discrete', 'discrete'] not supported\n",
      "The following setting with j as continuous, g as continuous, ('a', 'd') as ['discrete', 'continuous'] not supported\n",
      "The following setting with j as continuous, g as continuous, ('a', 'c') as ['discrete', 'binary'] not supported\n",
      "The following setting with j as continuous, g as continuous, ('b', 'h') as ['continuous', 'discrete'] not supported\n",
      "The following setting with j as continuous, b as continuous, ('e', 'a') as ['binary', 'discrete'] not supported\n",
      "The following setting with j as continuous, b as continuous, ('f', 'a') as ['discrete', 'discrete'] not supported\n",
      "The following setting with j as continuous, b as continuous, ('i', 'a') as ['continuous', 'discrete'] not supported\n",
      "The following setting with j as continuous, b as continuous, ('a', 'g') as ['discrete', 'continuous'] not supported\n",
      "The following setting with j as continuous, b as continuous, ('a', 'h') as ['discrete', 'discrete'] not supported\n",
      "The following setting with j as continuous, b as continuous, ('a', 'd') as ['discrete', 'continuous'] not supported\n",
      "The following setting with j as continuous, b as continuous, ('a', 'c') as ['discrete', 'binary'] not supported\n",
      "The following setting with j as continuous, h as discrete, ('e', 'i') as ['binary', 'continuous'] not supported\n",
      "The following setting with j as continuous, h as discrete, ('e', 'g') as ['binary', 'continuous'] not supported\n",
      "The following setting with j as continuous, h as discrete, ('e', 'b') as ['binary', 'continuous'] not supported\n",
      "The following setting with j as continuous, h as discrete, ('e', 'd') as ['binary', 'continuous'] not supported\n",
      "The following setting with j as continuous, h as discrete, ('f', 'b') as ['discrete', 'continuous'] not supported\n",
      "The following setting with j as continuous, h as discrete, ('i', 'a') as ['continuous', 'discrete'] not supported\n",
      "The following setting with j as continuous, h as discrete, ('i', 'b') as ['continuous', 'continuous'] not supported\n",
      "The following setting with j as continuous, h as discrete, ('a', 'g') as ['discrete', 'continuous'] not supported\n",
      "The following setting with j as continuous, h as discrete, ('a', 'b') as ['discrete', 'continuous'] not supported\n",
      "The following setting with j as continuous, h as discrete, ('a', 'd') as ['discrete', 'continuous'] not supported\n",
      "The following setting with j as continuous, h as discrete, ('g', 'b') as ['continuous', 'continuous'] not supported\n",
      "The following setting with j as continuous, d as continuous, ('e', 'a') as ['binary', 'discrete'] not supported\n",
      "The following setting with j as continuous, d as continuous, ('f', 'a') as ['discrete', 'discrete'] not supported\n",
      "The following setting with j as continuous, d as continuous, ('i', 'a') as ['continuous', 'discrete'] not supported\n",
      "The following setting with j as continuous, d as continuous, ('a', 'g') as ['discrete', 'continuous'] not supported\n",
      "The following setting with j as continuous, d as continuous, ('a', 'b') as ['discrete', 'continuous'] not supported\n"
     ]
    },
    {
     "name": "stdout",
     "output_type": "stream",
     "text": [
      "The following setting with j as continuous, d as continuous, ('a', 'h') as ['discrete', 'discrete'] not supported\n",
      "The following setting with j as continuous, d as continuous, ('a', 'c') as ['discrete', 'binary'] not supported\n",
      "The following setting with j as continuous, c as binary, ('i', 'a') as ['continuous', 'discrete'] not supported\n",
      "The following setting with j as continuous, c as binary, ('a', 'g') as ['discrete', 'continuous'] not supported\n",
      "The following setting with j as continuous, c as binary, ('a', 'b') as ['discrete', 'continuous'] not supported\n",
      "The following setting with j as continuous, c as binary, ('a', 'd') as ['discrete', 'continuous'] not supported\n",
      "The following setting with e as binary, i as continuous, ('j', 'f') as ['continuous', 'discrete'] not supported\n",
      "The following setting with e as binary, i as continuous, ('j', 'a') as ['continuous', 'discrete'] not supported\n",
      "The following setting with e as binary, i as continuous, ('j', 'h') as ['continuous', 'discrete'] not supported\n",
      "The following setting with e as binary, i as continuous, ('f', 'b') as ['discrete', 'continuous'] not supported\n",
      "The following setting with e as binary, i as continuous, ('f', 'd') as ['discrete', 'continuous'] not supported\n",
      "The following setting with e as binary, i as continuous, ('a', 'b') as ['discrete', 'continuous'] not supported\n",
      "The following setting with e as binary, i as continuous, ('a', 'd') as ['discrete', 'continuous'] not supported\n",
      "The following setting with e as binary, i as continuous, ('b', 'h') as ['continuous', 'discrete'] not supported\n",
      "The following setting with e as binary, i as continuous, ('h', 'd') as ['discrete', 'continuous'] not supported\n",
      "The following setting with f as discrete, i as continuous, ('j', 'e') as ['continuous', 'binary'] not supported\n",
      "The following setting with f as discrete, i as continuous, ('j', 'a') as ['continuous', 'discrete'] not supported\n",
      "The following setting with f as discrete, i as continuous, ('j', 'b') as ['continuous', 'continuous'] not supported\n",
      "The following setting with f as discrete, i as continuous, ('j', 'h') as ['continuous', 'discrete'] not supported\n",
      "The following setting with f as discrete, i as continuous, ('j', 'd') as ['continuous', 'continuous'] not supported\n",
      "The following setting with f as discrete, i as continuous, ('j', 'c') as ['continuous', 'binary'] not supported\n",
      "The following setting with f as discrete, i as continuous, ('e', 'g') as ['binary', 'continuous'] not supported\n",
      "The following setting with f as discrete, i as continuous, ('e', 'b') as ['binary', 'continuous'] not supported\n"
     ]
    },
    {
     "name": "stdout",
     "output_type": "stream",
     "text": [
      "The following setting with f as discrete, i as continuous, ('e', 'd') as ['binary', 'continuous'] not supported\n",
      "The following setting with f as discrete, i as continuous, ('a', 'b') as ['discrete', 'continuous'] not supported\n",
      "The following setting with f as discrete, i as continuous, ('a', 'd') as ['discrete', 'continuous'] not supported\n",
      "The following setting with f as discrete, i as continuous, ('b', 'h') as ['continuous', 'discrete'] not supported\n",
      "The following setting with f as discrete, i as continuous, ('b', 'd') as ['continuous', 'continuous'] not supported\n",
      "The following setting with f as discrete, i as continuous, ('b', 'c') as ['continuous', 'binary'] not supported\n",
      "The following setting with f as discrete, i as continuous, ('h', 'd') as ['discrete', 'continuous'] not supported\n",
      "The following setting with f as discrete, i as continuous, ('d', 'c') as ['continuous', 'binary'] not supported\n",
      "The following setting with f as discrete, g as continuous, ('j', 'e') as ['continuous', 'binary'] not supported\n",
      "The following setting with f as discrete, g as continuous, ('e', 'i') as ['binary', 'continuous'] not supported\n",
      "The following setting with f as discrete, g as continuous, ('e', 'b') as ['binary', 'continuous'] not supported\n",
      "The following setting with f as discrete, g as continuous, ('e', 'd') as ['binary', 'continuous'] not supported\n",
      "The following setting with f as discrete, d as continuous, ('e', 'b') as ['binary', 'continuous'] not supported\n"
     ]
    },
    {
     "name": "stdout",
     "output_type": "stream",
     "text": [
      "The following setting with i as continuous, a as discrete, ('j', 'e') as ['continuous', 'binary'] not supported\n",
      "The following setting with i as continuous, a as discrete, ('j', 'f') as ['continuous', 'discrete'] not supported\n",
      "The following setting with i as continuous, a as discrete, ('j', 'b') as ['continuous', 'continuous'] not supported\n",
      "The following setting with i as continuous, a as discrete, ('j', 'h') as ['continuous', 'discrete'] not supported\n",
      "The following setting with i as continuous, a as discrete, ('j', 'd') as ['continuous', 'continuous'] not supported\n",
      "The following setting with i as continuous, a as discrete, ('j', 'c') as ['continuous', 'binary'] not supported\n",
      "The following setting with i as continuous, a as discrete, ('e', 'g') as ['binary', 'continuous'] not supported\n",
      "The following setting with i as continuous, a as discrete, ('e', 'b') as ['binary', 'continuous'] not supported\n",
      "The following setting with i as continuous, a as discrete, ('e', 'd') as ['binary', 'continuous'] not supported\n",
      "The following setting with i as continuous, a as discrete, ('f', 'b') as ['discrete', 'continuous'] not supported\n",
      "The following setting with i as continuous, a as discrete, ('f', 'd') as ['discrete', 'continuous'] not supported\n",
      "The following setting with i as continuous, a as discrete, ('g', 'b') as ['continuous', 'continuous'] not supported\n",
      "The following setting with i as continuous, a as discrete, ('b', 'h') as ['continuous', 'discrete'] not supported\n",
      "The following setting with i as continuous, a as discrete, ('b', 'd') as ['continuous', 'continuous'] not supported\n",
      "The following setting with i as continuous, a as discrete, ('b', 'c') as ['continuous', 'binary'] not supported\n",
      "The following setting with i as continuous, a as discrete, ('h', 'd') as ['discrete', 'continuous'] not supported\n",
      "The following setting with i as continuous, a as discrete, ('d', 'c') as ['continuous', 'binary'] not supported\n",
      "The following setting with i as continuous, b as continuous, ('j', 'f') as ['continuous', 'discrete'] not supported\n",
      "The following setting with i as continuous, b as continuous, ('j', 'a') as ['continuous', 'discrete'] not supported\n",
      "The following setting with i as continuous, b as continuous, ('j', 'h') as ['continuous', 'discrete'] not supported\n",
      "The following setting with i as continuous, b as continuous, ('e', 'f') as ['binary', 'discrete'] not supported\n",
      "The following setting with i as continuous, b as continuous, ('e', 'a') as ['binary', 'discrete'] not supported\n",
      "The following setting with i as continuous, b as continuous, ('e', 'h') as ['binary', 'discrete'] not supported\n",
      "The following setting with i as continuous, b as continuous, ('f', 'a') as ['discrete', 'discrete'] not supported\n",
      "The following setting with i as continuous, b as continuous, ('f', 'h') as ['discrete', 'discrete'] not supported\n",
      "The following setting with i as continuous, b as continuous, ('f', 'd') as ['discrete', 'continuous'] not supported\n",
      "The following setting with i as continuous, b as continuous, ('f', 'c') as ['discrete', 'binary'] not supported\n",
      "The following setting with i as continuous, b as continuous, ('a', 'h') as ['discrete', 'discrete'] not supported\n",
      "The following setting with i as continuous, b as continuous, ('a', 'd') as ['discrete', 'continuous'] not supported\n",
      "The following setting with i as continuous, b as continuous, ('a', 'c') as ['discrete', 'binary'] not supported\n",
      "The following setting with i as continuous, b as continuous, ('h', 'd') as ['discrete', 'continuous'] not supported\n",
      "The following setting with i as continuous, b as continuous, ('h', 'c') as ['discrete', 'binary'] not supported\n",
      "The following setting with i as continuous, h as discrete, ('j', 'e') as ['continuous', 'binary'] not supported\n",
      "The following setting with i as continuous, h as discrete, ('j', 'f') as ['continuous', 'discrete'] not supported\n",
      "The following setting with i as continuous, h as discrete, ('j', 'a') as ['continuous', 'discrete'] not supported\n",
      "The following setting with i as continuous, h as discrete, ('j', 'b') as ['continuous', 'continuous'] not supported\n",
      "The following setting with i as continuous, h as discrete, ('j', 'd') as ['continuous', 'continuous'] not supported\n",
      "The following setting with i as continuous, h as discrete, ('j', 'c') as ['continuous', 'binary'] not supported\n",
      "The following setting with i as continuous, h as discrete, ('e', 'g') as ['binary', 'continuous'] not supported\n",
      "The following setting with i as continuous, h as discrete, ('e', 'b') as ['binary', 'continuous'] not supported\n",
      "The following setting with i as continuous, h as discrete, ('e', 'd') as ['binary', 'continuous'] not supported\n",
      "The following setting with i as continuous, h as discrete, ('f', 'b') as ['discrete', 'continuous'] not supported\n",
      "The following setting with i as continuous, h as discrete, ('f', 'd') as ['discrete', 'continuous'] not supported\n",
      "The following setting with i as continuous, h as discrete, ('a', 'b') as ['discrete', 'continuous'] not supported\n",
      "The following setting with i as continuous, h as discrete, ('a', 'd') as ['discrete', 'continuous'] not supported\n",
      "The following setting with i as continuous, h as discrete, ('b', 'd') as ['continuous', 'continuous'] not supported\n",
      "The following setting with i as continuous, h as discrete, ('b', 'c') as ['continuous', 'binary'] not supported\n",
      "The following setting with i as continuous, h as discrete, ('d', 'c') as ['continuous', 'binary'] not supported\n",
      "The following setting with i as continuous, d as continuous, ('j', 'f') as ['continuous', 'discrete'] not supported\n",
      "The following setting with i as continuous, d as continuous, ('j', 'a') as ['continuous', 'discrete'] not supported\n",
      "The following setting with i as continuous, d as continuous, ('j', 'h') as ['continuous', 'discrete'] not supported\n",
      "The following setting with i as continuous, d as continuous, ('e', 'f') as ['binary', 'discrete'] not supported\n",
      "The following setting with i as continuous, d as continuous, ('e', 'a') as ['binary', 'discrete'] not supported\n",
      "The following setting with i as continuous, d as continuous, ('e', 'h') as ['binary', 'discrete'] not supported\n",
      "The following setting with i as continuous, d as continuous, ('f', 'a') as ['discrete', 'discrete'] not supported\n",
      "The following setting with i as continuous, d as continuous, ('f', 'b') as ['discrete', 'continuous'] not supported\n",
      "The following setting with i as continuous, d as continuous, ('f', 'h') as ['discrete', 'discrete'] not supported\n",
      "The following setting with i as continuous, d as continuous, ('f', 'c') as ['discrete', 'binary'] not supported\n",
      "The following setting with i as continuous, d as continuous, ('a', 'b') as ['discrete', 'continuous'] not supported\n",
      "The following setting with i as continuous, d as continuous, ('a', 'h') as ['discrete', 'discrete'] not supported\n",
      "The following setting with i as continuous, d as continuous, ('a', 'c') as ['discrete', 'binary'] not supported\n",
      "The following setting with i as continuous, d as continuous, ('b', 'h') as ['continuous', 'discrete'] not supported\n",
      "The following setting with i as continuous, d as continuous, ('h', 'c') as ['discrete', 'binary'] not supported\n",
      "The following setting with i as continuous, c as binary, ('j', 'f') as ['continuous', 'discrete'] not supported\n",
      "The following setting with i as continuous, c as binary, ('j', 'a') as ['continuous', 'discrete'] not supported\n",
      "The following setting with i as continuous, c as binary, ('j', 'h') as ['continuous', 'discrete'] not supported\n"
     ]
    },
    {
     "name": "stdout",
     "output_type": "stream",
     "text": [
      "The following setting with i as continuous, c as binary, ('f', 'b') as ['discrete', 'continuous'] not supported\n",
      "The following setting with i as continuous, c as binary, ('f', 'd') as ['discrete', 'continuous'] not supported\n",
      "The following setting with i as continuous, c as binary, ('a', 'b') as ['discrete', 'continuous'] not supported\n",
      "The following setting with i as continuous, c as binary, ('a', 'd') as ['discrete', 'continuous'] not supported\n",
      "The following setting with i as continuous, c as binary, ('b', 'h') as ['continuous', 'discrete'] not supported\n",
      "The following setting with i as continuous, c as binary, ('h', 'd') as ['discrete', 'continuous'] not supported\n",
      "The following setting with a as discrete, g as continuous, ('j', 'e') as ['continuous', 'binary'] not supported\n",
      "The following setting with a as discrete, g as continuous, ('j', 'b') as ['continuous', 'continuous'] not supported\n",
      "The following setting with a as discrete, g as continuous, ('e', 'i') as ['binary', 'continuous'] not supported\n",
      "The following setting with a as discrete, g as continuous, ('e', 'b') as ['binary', 'continuous'] not supported\n",
      "The following setting with a as discrete, g as continuous, ('e', 'd') as ['binary', 'continuous'] not supported\n",
      "The following setting with a as discrete, g as continuous, ('f', 'b') as ['discrete', 'continuous'] not supported\n",
      "The following setting with a as discrete, g as continuous, ('i', 'b') as ['continuous', 'continuous'] not supported\n",
      "The following setting with a as discrete, g as continuous, ('b', 'h') as ['continuous', 'discrete'] not supported\n",
      "The following setting with g as continuous, b as continuous, ('e', 'f') as ['binary', 'discrete'] not supported\n",
      "The following setting with g as continuous, b as continuous, ('e', 'a') as ['binary', 'discrete'] not supported\n",
      "The following setting with g as continuous, b as continuous, ('e', 'h') as ['binary', 'discrete'] not supported\n",
      "The following setting with g as continuous, h as discrete, ('j', 'e') as ['continuous', 'binary'] not supported\n"
     ]
    },
    {
     "name": "stdout",
     "output_type": "stream",
     "text": [
      "The following setting with g as continuous, h as discrete, ('e', 'i') as ['binary', 'continuous'] not supported\n",
      "The following setting with g as continuous, h as discrete, ('e', 'b') as ['binary', 'continuous'] not supported\n",
      "The following setting with g as continuous, h as discrete, ('e', 'd') as ['binary', 'continuous'] not supported\n",
      "The following setting with g as continuous, d as continuous, ('e', 'f') as ['binary', 'discrete'] not supported\n",
      "The following setting with g as continuous, d as continuous, ('e', 'a') as ['binary', 'discrete'] not supported\n",
      "The following setting with g as continuous, d as continuous, ('e', 'h') as ['binary', 'discrete'] not supported\n",
      "The following setting with g as continuous, d as continuous, ('a', 'c') as ['discrete', 'binary'] not supported\n",
      "The following setting with b as continuous, h as discrete, ('j', 'e') as ['continuous', 'binary'] not supported\n",
      "The following setting with b as continuous, h as discrete, ('e', 'i') as ['binary', 'continuous'] not supported\n",
      "The following setting with b as continuous, h as discrete, ('e', 'g') as ['binary', 'continuous'] not supported\n",
      "The following setting with b as continuous, h as discrete, ('e', 'd') as ['binary', 'continuous'] not supported\n",
      "The following setting with b as continuous, d as continuous, ('e', 'a') as ['binary', 'discrete'] not supported\n",
      "The following setting with b as continuous, d as continuous, ('a', 'c') as ['discrete', 'binary'] not supported\n",
      "The following setting with h as discrete, d as continuous, ('j', 'e') as ['continuous', 'binary'] not supported\n",
      "The following setting with h as discrete, d as continuous, ('e', 'i') as ['binary', 'continuous'] not supported\n",
      "The following setting with h as discrete, d as continuous, ('e', 'g') as ['binary', 'continuous'] not supported\n",
      "The following setting with h as discrete, d as continuous, ('e', 'b') as ['binary', 'continuous'] not supported\n"
     ]
    }
   ],
   "source": [
    "refuter_object = model.refute_graph(k=2)"
   ]
  },
  {
   "cell_type": "markdown",
   "metadata": {},
   "source": [
    "We can see that since we input the wrong graph, many conditional independences were not met"
   ]
  },
  {
   "cell_type": "code",
   "execution_count": 17,
   "metadata": {
    "execution": {
     "iopub.execute_input": "2022-07-16T03:56:42.316620Z",
     "iopub.status.busy": "2022-07-16T03:56:42.315344Z",
     "iopub.status.idle": "2022-07-16T03:56:42.358144Z",
     "shell.execute_reply": "2022-07-16T03:56:42.359069Z"
    }
   },
   "outputs": [
    {
     "name": "stdout",
     "output_type": "stream",
     "text": [
      "Method name for discrete data:conditional_mutual_information\n",
      "Method name for continuous data:partial_correlation\n",
      "Number of conditional independencies entailed by model:359\n",
      "Number of independences satisfied by data:144\n",
      "Test passed:False\n",
      "\n"
     ]
    }
   ],
   "source": [
    "print(refuter_object)"
   ]
  },
  {
   "cell_type": "code",
   "execution_count": null,
   "metadata": {},
   "outputs": [],
   "source": []
  }
 ],
 "metadata": {
  "kernelspec": {
   "display_name": "Python 3",
   "language": "python",
   "name": "python3"
  },
  "language_info": {
   "codemirror_mode": {
    "name": "ipython",
    "version": 3
   },
   "file_extension": ".py",
   "mimetype": "text/x-python",
   "name": "python",
   "nbconvert_exporter": "python",
   "pygments_lexer": "ipython3",
   "version": "3.8.12"
  },
  "toc": {
   "base_numbering": 1,
   "nav_menu": {},
   "number_sections": false,
   "sideBar": true,
   "skip_h1_title": true,
   "title_cell": "Table of Contents",
   "title_sidebar": "Contents",
   "toc_cell": false,
   "toc_position": {},
   "toc_section_display": true,
   "toc_window_display": false
  }
 },
 "nbformat": 4,
 "nbformat_minor": 4
}
