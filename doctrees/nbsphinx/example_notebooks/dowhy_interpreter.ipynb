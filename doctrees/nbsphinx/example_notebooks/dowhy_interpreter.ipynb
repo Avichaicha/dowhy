{
 "cells": [
  {
   "cell_type": "markdown",
   "id": "5df14b9f",
   "metadata": {},
   "source": [
    "# DoWhy: Interpreters for Causal Estimators\n",
    "\n",
    "This is a quick introduction to the use of interpreters in the DoWhy causal inference library.\n",
    "We will load in a sample dataset, use different methods for estimating the causal effect of a (pre-specified)treatment variable on a (pre-specified) outcome variable and demonstrate how to interpret the obtained results.\n",
    "\n",
    "First, let us add the required path for Python to find the DoWhy code and load all required packages"
   ]
  },
  {
   "cell_type": "code",
   "execution_count": 1,
   "id": "c751341e",
   "metadata": {
    "execution": {
     "iopub.execute_input": "2022-03-02T04:44:52.523462Z",
     "iopub.status.busy": "2022-03-02T04:44:52.522173Z",
     "iopub.status.idle": "2022-03-02T04:44:52.556422Z",
     "shell.execute_reply": "2022-03-02T04:44:52.557383Z"
    }
   },
   "outputs": [],
   "source": [
    "%load_ext autoreload\n",
    "%autoreload 2"
   ]
  },
  {
   "cell_type": "code",
   "execution_count": 2,
   "id": "b1a57ad0",
   "metadata": {
    "execution": {
     "iopub.execute_input": "2022-03-02T04:44:52.564891Z",
     "iopub.status.busy": "2022-03-02T04:44:52.563595Z",
     "iopub.status.idle": "2022-03-02T04:44:54.710331Z",
     "shell.execute_reply": "2022-03-02T04:44:54.711276Z"
    }
   },
   "outputs": [],
   "source": [
    "import numpy as np\n",
    "import pandas as pd\n",
    "import logging\n",
    "\n",
    "import dowhy\n",
    "from dowhy import CausalModel\n",
    "import dowhy.datasets "
   ]
  },
  {
   "cell_type": "markdown",
   "id": "16df64be",
   "metadata": {},
   "source": [
    "Now, let us load a dataset. For simplicity, we simulate a dataset with linear relationships between common causes and treatment, and common causes and outcome.\n",
    "\n",
    "Beta is the true causal effect."
   ]
  },
  {
   "cell_type": "code",
   "execution_count": 3,
   "id": "6b5b1ea9",
   "metadata": {
    "execution": {
     "iopub.execute_input": "2022-03-02T04:44:54.719087Z",
     "iopub.status.busy": "2022-03-02T04:44:54.717785Z",
     "iopub.status.idle": "2022-03-02T04:44:55.330391Z",
     "shell.execute_reply": "2022-03-02T04:44:55.331353Z"
    }
   },
   "outputs": [
    {
     "name": "stdout",
     "output_type": "stream",
     "text": [
      "8800\n"
     ]
    },
    {
     "data": {
      "text/html": [
       "<div>\n",
       "<style scoped>\n",
       "    .dataframe tbody tr th:only-of-type {\n",
       "        vertical-align: middle;\n",
       "    }\n",
       "\n",
       "    .dataframe tbody tr th {\n",
       "        vertical-align: top;\n",
       "    }\n",
       "\n",
       "    .dataframe thead th {\n",
       "        text-align: right;\n",
       "    }\n",
       "</style>\n",
       "<table border=\"1\" class=\"dataframe\">\n",
       "  <thead>\n",
       "    <tr style=\"text-align: right;\">\n",
       "      <th></th>\n",
       "      <th>Z0</th>\n",
       "      <th>Z1</th>\n",
       "      <th>W0</th>\n",
       "      <th>W1</th>\n",
       "      <th>W2</th>\n",
       "      <th>W3</th>\n",
       "      <th>W4</th>\n",
       "      <th>v0</th>\n",
       "      <th>y</th>\n",
       "    </tr>\n",
       "  </thead>\n",
       "  <tbody>\n",
       "    <tr>\n",
       "      <th>0</th>\n",
       "      <td>0.0</td>\n",
       "      <td>0.000093</td>\n",
       "      <td>0.630722</td>\n",
       "      <td>1.183475</td>\n",
       "      <td>-0.389165</td>\n",
       "      <td>-1.962898</td>\n",
       "      <td>3</td>\n",
       "      <td>True</td>\n",
       "      <td>2.937234</td>\n",
       "    </tr>\n",
       "    <tr>\n",
       "      <th>1</th>\n",
       "      <td>1.0</td>\n",
       "      <td>0.077843</td>\n",
       "      <td>0.758947</td>\n",
       "      <td>-0.125340</td>\n",
       "      <td>2.188719</td>\n",
       "      <td>0.541497</td>\n",
       "      <td>1</td>\n",
       "      <td>True</td>\n",
       "      <td>3.158536</td>\n",
       "    </tr>\n",
       "    <tr>\n",
       "      <th>2</th>\n",
       "      <td>1.0</td>\n",
       "      <td>0.043627</td>\n",
       "      <td>-0.833162</td>\n",
       "      <td>0.733572</td>\n",
       "      <td>-0.081481</td>\n",
       "      <td>-2.197478</td>\n",
       "      <td>1</td>\n",
       "      <td>True</td>\n",
       "      <td>0.095811</td>\n",
       "    </tr>\n",
       "    <tr>\n",
       "      <th>3</th>\n",
       "      <td>0.0</td>\n",
       "      <td>0.027291</td>\n",
       "      <td>0.668638</td>\n",
       "      <td>0.647834</td>\n",
       "      <td>1.397222</td>\n",
       "      <td>0.014453</td>\n",
       "      <td>2</td>\n",
       "      <td>True</td>\n",
       "      <td>3.863510</td>\n",
       "    </tr>\n",
       "    <tr>\n",
       "      <th>4</th>\n",
       "      <td>0.0</td>\n",
       "      <td>0.681846</td>\n",
       "      <td>-0.674770</td>\n",
       "      <td>-0.199139</td>\n",
       "      <td>-0.229564</td>\n",
       "      <td>0.089541</td>\n",
       "      <td>1</td>\n",
       "      <td>True</td>\n",
       "      <td>0.914955</td>\n",
       "    </tr>\n",
       "    <tr>\n",
       "      <th>...</th>\n",
       "      <td>...</td>\n",
       "      <td>...</td>\n",
       "      <td>...</td>\n",
       "      <td>...</td>\n",
       "      <td>...</td>\n",
       "      <td>...</td>\n",
       "      <td>...</td>\n",
       "      <td>...</td>\n",
       "      <td>...</td>\n",
       "    </tr>\n",
       "    <tr>\n",
       "      <th>9995</th>\n",
       "      <td>0.0</td>\n",
       "      <td>0.072736</td>\n",
       "      <td>0.294715</td>\n",
       "      <td>0.009247</td>\n",
       "      <td>-0.547336</td>\n",
       "      <td>-2.975297</td>\n",
       "      <td>1</td>\n",
       "      <td>True</td>\n",
       "      <td>-0.514199</td>\n",
       "    </tr>\n",
       "    <tr>\n",
       "      <th>9996</th>\n",
       "      <td>0.0</td>\n",
       "      <td>0.233386</td>\n",
       "      <td>1.905740</td>\n",
       "      <td>0.016224</td>\n",
       "      <td>1.786457</td>\n",
       "      <td>-1.428089</td>\n",
       "      <td>3</td>\n",
       "      <td>True</td>\n",
       "      <td>3.837461</td>\n",
       "    </tr>\n",
       "    <tr>\n",
       "      <th>9997</th>\n",
       "      <td>0.0</td>\n",
       "      <td>0.880742</td>\n",
       "      <td>-0.330787</td>\n",
       "      <td>1.488197</td>\n",
       "      <td>0.438866</td>\n",
       "      <td>-0.792863</td>\n",
       "      <td>0</td>\n",
       "      <td>True</td>\n",
       "      <td>1.778064</td>\n",
       "    </tr>\n",
       "    <tr>\n",
       "      <th>9998</th>\n",
       "      <td>1.0</td>\n",
       "      <td>0.985738</td>\n",
       "      <td>1.141710</td>\n",
       "      <td>1.549135</td>\n",
       "      <td>0.855518</td>\n",
       "      <td>0.654972</td>\n",
       "      <td>1</td>\n",
       "      <td>True</td>\n",
       "      <td>4.771606</td>\n",
       "    </tr>\n",
       "    <tr>\n",
       "      <th>9999</th>\n",
       "      <td>1.0</td>\n",
       "      <td>0.470291</td>\n",
       "      <td>-0.166010</td>\n",
       "      <td>0.196332</td>\n",
       "      <td>1.221501</td>\n",
       "      <td>-1.052591</td>\n",
       "      <td>0</td>\n",
       "      <td>False</td>\n",
       "      <td>-0.302430</td>\n",
       "    </tr>\n",
       "  </tbody>\n",
       "</table>\n",
       "<p>10000 rows × 9 columns</p>\n",
       "</div>"
      ],
      "text/plain": [
       "       Z0        Z1        W0        W1        W2        W3 W4     v0  \\\n",
       "0     0.0  0.000093  0.630722  1.183475 -0.389165 -1.962898  3   True   \n",
       "1     1.0  0.077843  0.758947 -0.125340  2.188719  0.541497  1   True   \n",
       "2     1.0  0.043627 -0.833162  0.733572 -0.081481 -2.197478  1   True   \n",
       "3     0.0  0.027291  0.668638  0.647834  1.397222  0.014453  2   True   \n",
       "4     0.0  0.681846 -0.674770 -0.199139 -0.229564  0.089541  1   True   \n",
       "...   ...       ...       ...       ...       ...       ... ..    ...   \n",
       "9995  0.0  0.072736  0.294715  0.009247 -0.547336 -2.975297  1   True   \n",
       "9996  0.0  0.233386  1.905740  0.016224  1.786457 -1.428089  3   True   \n",
       "9997  0.0  0.880742 -0.330787  1.488197  0.438866 -0.792863  0   True   \n",
       "9998  1.0  0.985738  1.141710  1.549135  0.855518  0.654972  1   True   \n",
       "9999  1.0  0.470291 -0.166010  0.196332  1.221501 -1.052591  0  False   \n",
       "\n",
       "             y  \n",
       "0     2.937234  \n",
       "1     3.158536  \n",
       "2     0.095811  \n",
       "3     3.863510  \n",
       "4     0.914955  \n",
       "...        ...  \n",
       "9995 -0.514199  \n",
       "9996  3.837461  \n",
       "9997  1.778064  \n",
       "9998  4.771606  \n",
       "9999 -0.302430  \n",
       "\n",
       "[10000 rows x 9 columns]"
      ]
     },
     "execution_count": 3,
     "metadata": {},
     "output_type": "execute_result"
    }
   ],
   "source": [
    "data = dowhy.datasets.linear_dataset(beta=1,\n",
    "        num_common_causes=5, \n",
    "        num_instruments = 2,\n",
    "        num_treatments=1,\n",
    "        num_discrete_common_causes=1,\n",
    "        num_samples=10000,\n",
    "        treatment_is_binary=True,\n",
    "        outcome_is_binary=False)\n",
    "df = data[\"df\"]\n",
    "print(df[df.v0==True].shape[0])\n",
    "df"
   ]
  },
  {
   "cell_type": "markdown",
   "id": "36665cbe",
   "metadata": {},
   "source": [
    "Note that we are using a pandas dataframe to load the data."
   ]
  },
  {
   "cell_type": "markdown",
   "id": "b0cf9042",
   "metadata": {},
   "source": [
    "## Identifying the causal estimand"
   ]
  },
  {
   "cell_type": "markdown",
   "id": "05f8e5f0",
   "metadata": {},
   "source": [
    "We now input a causal graph in the GML graph format."
   ]
  },
  {
   "cell_type": "code",
   "execution_count": 4,
   "id": "d24af9da",
   "metadata": {
    "execution": {
     "iopub.execute_input": "2022-03-02T04:44:55.339453Z",
     "iopub.status.busy": "2022-03-02T04:44:55.338305Z",
     "iopub.status.idle": "2022-03-02T04:44:55.415152Z",
     "shell.execute_reply": "2022-03-02T04:44:55.415720Z"
    }
   },
   "outputs": [],
   "source": [
    "# With graph\n",
    "model=CausalModel(\n",
    "        data = df,\n",
    "        treatment=data[\"treatment_name\"],\n",
    "        outcome=data[\"outcome_name\"],\n",
    "        graph=data[\"gml_graph\"],\n",
    "        instruments=data[\"instrument_names\"]\n",
    "        )"
   ]
  },
  {
   "cell_type": "code",
   "execution_count": 5,
   "id": "6ab4a70c",
   "metadata": {
    "execution": {
     "iopub.execute_input": "2022-03-02T04:44:55.420287Z",
     "iopub.status.busy": "2022-03-02T04:44:55.419587Z",
     "iopub.status.idle": "2022-03-02T04:44:55.619915Z",
     "shell.execute_reply": "2022-03-02T04:44:55.619284Z"
    }
   },
   "outputs": [],
   "source": [
    "model.view_model()"
   ]
  },
  {
   "cell_type": "code",
   "execution_count": 6,
   "id": "b245e710",
   "metadata": {
    "execution": {
     "iopub.execute_input": "2022-03-02T04:44:55.626805Z",
     "iopub.status.busy": "2022-03-02T04:44:55.626027Z",
     "iopub.status.idle": "2022-03-02T04:44:55.692776Z",
     "shell.execute_reply": "2022-03-02T04:44:55.693745Z"
    }
   },
   "outputs": [
    {
     "data": {
      "image/png": "[encoded data removed]",
      "text/plain": [
       "<IPython.core.display.Image object>"
      ]
     },
     "metadata": {},
     "output_type": "display_data"
    }
   ],
   "source": [
    "from IPython.display import Image, display\n",
    "display(Image(filename=\"causal_model.png\"))"
   ]
  },
  {
   "cell_type": "markdown",
   "id": "dd385745",
   "metadata": {},
   "source": [
    "We get a causal graph. Now identification and estimation is done."
   ]
  },
  {
   "cell_type": "code",
   "execution_count": 7,
   "id": "c49ef33d",
   "metadata": {
    "execution": {
     "iopub.execute_input": "2022-03-02T04:44:55.700995Z",
     "iopub.status.busy": "2022-03-02T04:44:55.699784Z",
     "iopub.status.idle": "2022-03-02T04:44:55.767018Z",
     "shell.execute_reply": "2022-03-02T04:44:55.765854Z"
    }
   },
   "outputs": [
    {
     "name": "stdout",
     "output_type": "stream",
     "text": [
      "Estimand type: nonparametric-ate\n",
      "\n",
      "### Estimand : 1\n",
      "Estimand name: backdoor\n",
      "Estimand expression:\n",
      "  d                                 \n",
      "─────(Expectation(y|W0,W4,W1,W3,W2))\n",
      "d[v₀]                               \n",
      "Estimand assumption 1, Unconfoundedness: If U→{v0} and U→y then P(y|v0,W0,W4,W1,W3,W2,U) = P(y|v0,W0,W4,W1,W3,W2)\n",
      "\n",
      "### Estimand : 2\n",
      "Estimand name: iv\n",
      "Estimand expression:\n",
      "Expectation(Derivative(y, [Z1, Z0])*Derivative([v0], [Z1, Z0])**(-1))\n",
      "Estimand assumption 1, As-if-random: If U→→y then ¬(U →→{Z1,Z0})\n",
      "Estimand assumption 2, Exclusion: If we remove {Z1,Z0}→{v0}, then ¬({Z1,Z0}→y)\n",
      "\n",
      "### Estimand : 3\n",
      "Estimand name: frontdoor\n",
      "No such variable(s) found!\n",
      "\n"
     ]
    }
   ],
   "source": [
    "identified_estimand = model.identify_effect(proceed_when_unidentifiable=True)\n",
    "print(identified_estimand)"
   ]
  },
  {
   "cell_type": "markdown",
   "id": "1c78c83e",
   "metadata": {},
   "source": [
    "## Method 1: Propensity Score Stratification\n",
    "\n",
    "We will be using propensity scores to stratify units in the data."
   ]
  },
  {
   "cell_type": "code",
   "execution_count": 8,
   "id": "eb78c7df",
   "metadata": {
    "execution": {
     "iopub.execute_input": "2022-03-02T04:44:55.773534Z",
     "iopub.status.busy": "2022-03-02T04:44:55.772276Z",
     "iopub.status.idle": "2022-03-02T04:44:57.278217Z",
     "shell.execute_reply": "2022-03-02T04:44:57.279457Z"
    }
   },
   "outputs": [
    {
     "name": "stderr",
     "output_type": "stream",
     "text": [
      "/home/amshar/python-environments/vpy38/lib/python3.8/site-packages/sklearn/utils/validation.py:63: DataConversionWarning: A column-vector y was passed when a 1d array was expected. Please change the shape of y to (n_samples, ), for example using ravel().\n",
      "  return f(*args, **kwargs)\n"
     ]
    },
    {
     "name": "stdout",
     "output_type": "stream",
     "text": [
      "*** Causal Estimate ***\n",
      "\n",
      "## Identified estimand\n",
      "Estimand type: nonparametric-ate\n",
      "\n",
      "### Estimand : 1\n",
      "Estimand name: backdoor\n",
      "Estimand expression:\n",
      "  d                                 \n",
      "─────(Expectation(y|W0,W4,W1,W3,W2))\n",
      "d[v₀]                               \n",
      "Estimand assumption 1, Unconfoundedness: If U→{v0} and U→y then P(y|v0,W0,W4,W1,W3,W2,U) = P(y|v0,W0,W4,W1,W3,W2)\n",
      "\n",
      "## Realized estimand\n",
      "b: y~v0+W0+W4+W1+W3+W2\n",
      "Target units: att\n",
      "\n",
      "## Estimate\n",
      "Mean value: 0.9948470962708686\n",
      "\n",
      "Causal Estimate is 0.9948470962708686\n"
     ]
    }
   ],
   "source": [
    "causal_estimate_strat = model.estimate_effect(identified_estimand,\n",
    "                                              method_name=\"backdoor.propensity_score_stratification\",\n",
    "                                              target_units=\"att\")\n",
    "print(causal_estimate_strat)\n",
    "print(\"Causal Estimate is \" + str(causal_estimate_strat.value))"
   ]
  },
  {
   "cell_type": "markdown",
   "id": "a34aba0e",
   "metadata": {},
   "source": [
    "### Textual Interpreter\n",
    "\n",
    "The textual Interpreter describes (in words) the effect of unit change in the treatment variable on the outcome variable."
   ]
  },
  {
   "cell_type": "code",
   "execution_count": 9,
   "id": "8fa32b3f",
   "metadata": {
    "execution": {
     "iopub.execute_input": "2022-03-02T04:44:57.286138Z",
     "iopub.status.busy": "2022-03-02T04:44:57.284911Z",
     "iopub.status.idle": "2022-03-02T04:44:57.352586Z",
     "shell.execute_reply": "2022-03-02T04:44:57.353565Z"
    }
   },
   "outputs": [
    {
     "name": "stdout",
     "output_type": "stream",
     "text": [
      "Increasing the treatment variable(s) [v0] from 0 to 1 causes an increase of 0.9948470962708686 in the expected value of the outcome [y], over the data distribution/population represented by the dataset.\n"
     ]
    }
   ],
   "source": [
    "# Textual Interpreter\n",
    "interpretation = causal_estimate_strat.interpret(method_name=\"textual_effect_interpreter\")"
   ]
  },
  {
   "cell_type": "markdown",
   "id": "f46ee6fd",
   "metadata": {},
   "source": [
    "### Visual Interpreter\n",
    "\n",
    "The visual interpreter plots the change in the standardized mean difference (SMD) before and after Propensity Score based adjustment of the dataset. The formula for SMD is given below.\n",
    "\n",
    "\n",
    "$SMD = \\frac{\\bar X_{1} - \\bar X_{2}}{\\sqrt{(S_{1}^{2} + S_{2}^{2})/2}}$\n",
    "\n",
    "Here, $\\bar X_{1}$ and $\\bar X_{2}$ are the sample mean for the treated and control groups.\n"
   ]
  },
  {
   "cell_type": "code",
   "execution_count": 10,
   "id": "2e450f68",
   "metadata": {
    "execution": {
     "iopub.execute_input": "2022-03-02T04:44:57.359823Z",
     "iopub.status.busy": "2022-03-02T04:44:57.358581Z",
     "iopub.status.idle": "2022-03-02T04:44:58.723925Z",
     "shell.execute_reply": "2022-03-02T04:44:58.724916Z"
    }
   },
   "outputs": [
    {
     "data": {
      "image/png": "[encoded data removed]",
      "text/plain": [
       "<Figure size 432x288 with 1 Axes>"
      ]
     },
     "metadata": {},
     "output_type": "display_data"
    }
   ],
   "source": [
    "# Visual Interpreter\n",
    "interpretation = causal_estimate_strat.interpret(method_name=\"propensity_balance_interpreter\")"
   ]
  },
  {
   "cell_type": "markdown",
   "id": "71277208",
   "metadata": {},
   "source": [
    "This plot shows how the SMD decreases from the unadjusted to the stratified units. "
   ]
  },
  {
   "cell_type": "markdown",
   "id": "64fe03d7",
   "metadata": {},
   "source": [
    "## Method 2: Propensity Score Matching\n",
    "\n",
    "We will be using propensity scores to match units in the data."
   ]
  },
  {
   "cell_type": "code",
   "execution_count": 11,
   "id": "ab83c56c",
   "metadata": {
    "execution": {
     "iopub.execute_input": "2022-03-02T04:44:58.732176Z",
     "iopub.status.busy": "2022-03-02T04:44:58.730945Z",
     "iopub.status.idle": "2022-03-02T04:45:06.741557Z",
     "shell.execute_reply": "2022-03-02T04:45:06.742559Z"
    }
   },
   "outputs": [
    {
     "name": "stderr",
     "output_type": "stream",
     "text": [
      "/home/amshar/python-environments/vpy38/lib/python3.8/site-packages/sklearn/utils/validation.py:63: DataConversionWarning: A column-vector y was passed when a 1d array was expected. Please change the shape of y to (n_samples, ), for example using ravel().\n",
      "  return f(*args, **kwargs)\n"
     ]
    },
    {
     "name": "stdout",
     "output_type": "stream",
     "text": [
      "*** Causal Estimate ***\n",
      "\n",
      "## Identified estimand\n",
      "Estimand type: nonparametric-ate\n",
      "\n",
      "### Estimand : 1\n",
      "Estimand name: backdoor\n",
      "Estimand expression:\n",
      "  d                                 \n",
      "─────(Expectation(y|W0,W4,W1,W3,W2))\n",
      "d[v₀]                               \n",
      "Estimand assumption 1, Unconfoundedness: If U→{v0} and U→y then P(y|v0,W0,W4,W1,W3,W2,U) = P(y|v0,W0,W4,W1,W3,W2)\n",
      "\n",
      "## Realized estimand\n",
      "b: y~v0+W0+W4+W1+W3+W2\n",
      "Target units: atc\n",
      "\n",
      "## Estimate\n",
      "Mean value: 0.9993179558239426\n",
      "\n",
      "Causal Estimate is 0.9993179558239426\n"
     ]
    }
   ],
   "source": [
    "causal_estimate_match = model.estimate_effect(identified_estimand,\n",
    "                                              method_name=\"backdoor.propensity_score_matching\",\n",
    "                                              target_units=\"atc\")\n",
    "print(causal_estimate_match)\n",
    "print(\"Causal Estimate is \" + str(causal_estimate_match.value))"
   ]
  },
  {
   "cell_type": "code",
   "execution_count": 12,
   "id": "ecf1285c",
   "metadata": {
    "execution": {
     "iopub.execute_input": "2022-03-02T04:45:06.749320Z",
     "iopub.status.busy": "2022-03-02T04:45:06.748082Z",
     "iopub.status.idle": "2022-03-02T04:45:06.797070Z",
     "shell.execute_reply": "2022-03-02T04:45:06.795980Z"
    }
   },
   "outputs": [
    {
     "name": "stdout",
     "output_type": "stream",
     "text": [
      "Increasing the treatment variable(s) [v0] from 0 to 1 causes an increase of 0.9993179558239426 in the expected value of the outcome [y], over the data distribution/population represented by the dataset.\n"
     ]
    }
   ],
   "source": [
    "# Textual Interpreter\n",
    "interpretation = causal_estimate_match.interpret(method_name=\"textual_effect_interpreter\")"
   ]
  },
  {
   "cell_type": "markdown",
   "id": "e5624404",
   "metadata": {},
   "source": [
    "Cannot use propensity balance interpretor here since the interpreter method only supports propensity score stratification estimator."
   ]
  },
  {
   "cell_type": "markdown",
   "id": "571851a7",
   "metadata": {},
   "source": [
    "## Method 3: Weighting\n",
    "\n",
    "We will be using (inverse) propensity scores to assign weights to units in the data. DoWhy supports a few different weighting schemes:\n",
    "1. Vanilla Inverse Propensity Score weighting (IPS) (weighting_scheme=\"ips_weight\")\n",
    "2. Self-normalized IPS weighting (also known as the Hajek estimator) (weighting_scheme=\"ips_normalized_weight\")\n",
    "3. Stabilized IPS weighting (weighting_scheme = \"ips_stabilized_weight\")"
   ]
  },
  {
   "cell_type": "code",
   "execution_count": 13,
   "id": "3b2b0416",
   "metadata": {
    "execution": {
     "iopub.execute_input": "2022-03-02T04:45:06.804589Z",
     "iopub.status.busy": "2022-03-02T04:45:06.803349Z",
     "iopub.status.idle": "2022-03-02T04:45:06.969197Z",
     "shell.execute_reply": "2022-03-02T04:45:06.970131Z"
    }
   },
   "outputs": [
    {
     "name": "stdout",
     "output_type": "stream",
     "text": [
      "*** Causal Estimate ***\n",
      "\n",
      "## Identified estimand\n",
      "Estimand type: nonparametric-ate\n",
      "\n",
      "### Estimand : 1\n",
      "Estimand name: backdoor\n",
      "Estimand expression:\n",
      "  d                                 \n",
      "─────(Expectation(y|W0,W4,W1,W3,W2))\n",
      "d[v₀]                               \n",
      "Estimand assumption 1, Unconfoundedness: If U→{v0} and U→y then P(y|v0,W0,W4,W1,W3,W2,U) = P(y|v0,W0,W4,W1,W3,W2)\n",
      "\n",
      "## Realized estimand\n",
      "b: y~v0+W0+W4+W1+W3+W2\n",
      "Target units: ate\n",
      "\n",
      "## Estimate\n",
      "Mean value: 1.22658073183534\n",
      "\n",
      "Causal Estimate is 1.22658073183534\n"
     ]
    },
    {
     "name": "stderr",
     "output_type": "stream",
     "text": [
      "/home/amshar/python-environments/vpy38/lib/python3.8/site-packages/sklearn/utils/validation.py:63: DataConversionWarning: A column-vector y was passed when a 1d array was expected. Please change the shape of y to (n_samples, ), for example using ravel().\n",
      "  return f(*args, **kwargs)\n"
     ]
    }
   ],
   "source": [
    "causal_estimate_ipw = model.estimate_effect(identified_estimand,\n",
    "                                            method_name=\"backdoor.propensity_score_weighting\",\n",
    "                                            target_units = \"ate\",\n",
    "                                            method_params={\"weighting_scheme\":\"ips_weight\"})\n",
    "print(causal_estimate_ipw)\n",
    "print(\"Causal Estimate is \" + str(causal_estimate_ipw.value))"
   ]
  },
  {
   "cell_type": "code",
   "execution_count": 14,
   "id": "c89a27fa",
   "metadata": {
    "execution": {
     "iopub.execute_input": "2022-03-02T04:45:06.977287Z",
     "iopub.status.busy": "2022-03-02T04:45:06.976053Z",
     "iopub.status.idle": "2022-03-02T04:45:07.066462Z",
     "shell.execute_reply": "2022-03-02T04:45:07.067052Z"
    }
   },
   "outputs": [
    {
     "name": "stdout",
     "output_type": "stream",
     "text": [
      "Increasing the treatment variable(s) [v0] from 0 to 1 causes an increase of 1.22658073183534 in the expected value of the outcome [y], over the data distribution/population represented by the dataset.\n"
     ]
    }
   ],
   "source": [
    "# Textual Interpreter\n",
    "interpretation = causal_estimate_ipw.interpret(method_name=\"textual_effect_interpreter\")"
   ]
  },
  {
   "cell_type": "code",
   "execution_count": 15,
   "id": "5f4c52e2",
   "metadata": {
    "execution": {
     "iopub.execute_input": "2022-03-02T04:45:07.071951Z",
     "iopub.status.busy": "2022-03-02T04:45:07.071236Z",
     "iopub.status.idle": "2022-03-02T04:45:07.419445Z",
     "shell.execute_reply": "2022-03-02T04:45:07.418122Z"
    }
   },
   "outputs": [
    {
     "data": {
      "image/png": "[encoded data removed]",
      "text/plain": [
       "<Figure size 576x576 with 2 Axes>"
      ]
     },
     "metadata": {},
     "output_type": "display_data"
    }
   ],
   "source": [
    "interpretation = causal_estimate_ipw.interpret(method_name=\"confounder_distribution_interpreter\", fig_size=(8,8), font_size=12, var_name='W4', var_type='discrete')"
   ]
  },
  {
   "cell_type": "code",
   "execution_count": null,
   "id": "316f30f6",
   "metadata": {},
   "outputs": [],
   "source": []
  }
 ],
 "metadata": {
  "kernelspec": {
   "display_name": "Python 3",
   "language": "python",
   "name": "python3"
  },
  "language_info": {
   "codemirror_mode": {
    "name": "ipython",
    "version": 3
   },
   "file_extension": ".py",
   "mimetype": "text/x-python",
   "name": "python",
   "nbconvert_exporter": "python",
   "pygments_lexer": "ipython3",
   "version": "3.8.12"
  },
  "toc": {
   "base_numbering": 1,
   "nav_menu": {},
   "number_sections": false,
   "sideBar": true,
   "skip_h1_title": true,
   "title_cell": "Table of Contents",
   "title_sidebar": "Contents",
   "toc_cell": false,
   "toc_position": {},
   "toc_section_display": true,
   "toc_window_display": false
  }
 },
 "nbformat": 4,
 "nbformat_minor": 5
}
