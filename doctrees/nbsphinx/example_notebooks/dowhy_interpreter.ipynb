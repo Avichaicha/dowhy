{
 "cells": [
  {
   "cell_type": "markdown",
   "id": "6b3a3f85",
   "metadata": {},
   "source": [
    "# DoWhy: Interpreters for Causal Estimators\n",
    "\n",
    "This is a quick introduction to the use of interpreters in the DoWhy causal inference library.\n",
    "We will load in a sample dataset, use different methods for estimating the causal effect of a (pre-specified)treatment variable on a (pre-specified) outcome variable and demonstrate how to interpret the obtained results.\n",
    "\n",
    "First, let us add the required path for Python to find the DoWhy code and load all required packages"
   ]
  },
  {
   "cell_type": "code",
   "execution_count": 1,
   "id": "33a16b56",
   "metadata": {
    "execution": {
     "iopub.execute_input": "2022-07-16T03:19:36.799453Z",
     "iopub.status.busy": "2022-07-16T03:19:36.798145Z",
     "iopub.status.idle": "2022-07-16T03:19:36.828872Z",
     "shell.execute_reply": "2022-07-16T03:19:36.829527Z"
    }
   },
   "outputs": [],
   "source": [
    "%load_ext autoreload\n",
    "%autoreload 2"
   ]
  },
  {
   "cell_type": "code",
   "execution_count": 2,
   "id": "963b16da",
   "metadata": {
    "execution": {
     "iopub.execute_input": "2022-07-16T03:19:36.835566Z",
     "iopub.status.busy": "2022-07-16T03:19:36.834776Z",
     "iopub.status.idle": "2022-07-16T03:19:38.717603Z",
     "shell.execute_reply": "2022-07-16T03:19:38.718048Z"
    }
   },
   "outputs": [],
   "source": [
    "import numpy as np\n",
    "import pandas as pd\n",
    "import logging\n",
    "\n",
    "import dowhy\n",
    "from dowhy import CausalModel\n",
    "import dowhy.datasets "
   ]
  },
  {
   "cell_type": "markdown",
   "id": "f9abb6fc",
   "metadata": {},
   "source": [
    "Now, let us load a dataset. For simplicity, we simulate a dataset with linear relationships between common causes and treatment, and common causes and outcome.\n",
    "\n",
    "Beta is the true causal effect."
   ]
  },
  {
   "cell_type": "code",
   "execution_count": 3,
   "id": "8d0af6e9",
   "metadata": {
    "execution": {
     "iopub.execute_input": "2022-07-16T03:19:38.723731Z",
     "iopub.status.busy": "2022-07-16T03:19:38.723145Z",
     "iopub.status.idle": "2022-07-16T03:19:39.392460Z",
     "shell.execute_reply": "2022-07-16T03:19:39.393569Z"
    }
   },
   "outputs": [
    {
     "name": "stdout",
     "output_type": "stream",
     "text": [
      "8603\n"
     ]
    },
    {
     "data": {
      "text/html": [
       "<div>\n",
       "<style scoped>\n",
       "    .dataframe tbody tr th:only-of-type {\n",
       "        vertical-align: middle;\n",
       "    }\n",
       "\n",
       "    .dataframe tbody tr th {\n",
       "        vertical-align: top;\n",
       "    }\n",
       "\n",
       "    .dataframe thead th {\n",
       "        text-align: right;\n",
       "    }\n",
       "</style>\n",
       "<table border=\"1\" class=\"dataframe\">\n",
       "  <thead>\n",
       "    <tr style=\"text-align: right;\">\n",
       "      <th></th>\n",
       "      <th>Z0</th>\n",
       "      <th>Z1</th>\n",
       "      <th>W0</th>\n",
       "      <th>W1</th>\n",
       "      <th>W2</th>\n",
       "      <th>W3</th>\n",
       "      <th>W4</th>\n",
       "      <th>v0</th>\n",
       "      <th>y</th>\n",
       "    </tr>\n",
       "  </thead>\n",
       "  <tbody>\n",
       "    <tr>\n",
       "      <th>0</th>\n",
       "      <td>1.0</td>\n",
       "      <td>0.814282</td>\n",
       "      <td>-0.299129</td>\n",
       "      <td>0.571621</td>\n",
       "      <td>1.408631</td>\n",
       "      <td>0.182364</td>\n",
       "      <td>1</td>\n",
       "      <td>True</td>\n",
       "      <td>2.612786</td>\n",
       "    </tr>\n",
       "    <tr>\n",
       "      <th>1</th>\n",
       "      <td>0.0</td>\n",
       "      <td>0.682007</td>\n",
       "      <td>-1.390299</td>\n",
       "      <td>-1.464128</td>\n",
       "      <td>0.206843</td>\n",
       "      <td>1.426256</td>\n",
       "      <td>3</td>\n",
       "      <td>True</td>\n",
       "      <td>2.586400</td>\n",
       "    </tr>\n",
       "    <tr>\n",
       "      <th>2</th>\n",
       "      <td>0.0</td>\n",
       "      <td>0.848873</td>\n",
       "      <td>0.765106</td>\n",
       "      <td>-2.366631</td>\n",
       "      <td>0.185987</td>\n",
       "      <td>-0.068339</td>\n",
       "      <td>2</td>\n",
       "      <td>True</td>\n",
       "      <td>0.498424</td>\n",
       "    </tr>\n",
       "    <tr>\n",
       "      <th>3</th>\n",
       "      <td>1.0</td>\n",
       "      <td>0.675171</td>\n",
       "      <td>-1.174202</td>\n",
       "      <td>0.751574</td>\n",
       "      <td>1.246662</td>\n",
       "      <td>0.487901</td>\n",
       "      <td>0</td>\n",
       "      <td>True</td>\n",
       "      <td>1.946396</td>\n",
       "    </tr>\n",
       "    <tr>\n",
       "      <th>4</th>\n",
       "      <td>0.0</td>\n",
       "      <td>0.574140</td>\n",
       "      <td>-1.949091</td>\n",
       "      <td>-0.575147</td>\n",
       "      <td>1.241705</td>\n",
       "      <td>-0.470474</td>\n",
       "      <td>2</td>\n",
       "      <td>True</td>\n",
       "      <td>1.455890</td>\n",
       "    </tr>\n",
       "    <tr>\n",
       "      <th>...</th>\n",
       "      <td>...</td>\n",
       "      <td>...</td>\n",
       "      <td>...</td>\n",
       "      <td>...</td>\n",
       "      <td>...</td>\n",
       "      <td>...</td>\n",
       "      <td>...</td>\n",
       "      <td>...</td>\n",
       "      <td>...</td>\n",
       "    </tr>\n",
       "    <tr>\n",
       "      <th>9995</th>\n",
       "      <td>0.0</td>\n",
       "      <td>0.170648</td>\n",
       "      <td>0.666073</td>\n",
       "      <td>0.475494</td>\n",
       "      <td>1.781870</td>\n",
       "      <td>-0.075045</td>\n",
       "      <td>0</td>\n",
       "      <td>True</td>\n",
       "      <td>1.888294</td>\n",
       "    </tr>\n",
       "    <tr>\n",
       "      <th>9996</th>\n",
       "      <td>0.0</td>\n",
       "      <td>0.201072</td>\n",
       "      <td>0.310371</td>\n",
       "      <td>-0.281969</td>\n",
       "      <td>1.095426</td>\n",
       "      <td>0.072040</td>\n",
       "      <td>0</td>\n",
       "      <td>True</td>\n",
       "      <td>1.055005</td>\n",
       "    </tr>\n",
       "    <tr>\n",
       "      <th>9997</th>\n",
       "      <td>0.0</td>\n",
       "      <td>0.791473</td>\n",
       "      <td>0.412689</td>\n",
       "      <td>0.178754</td>\n",
       "      <td>-1.234568</td>\n",
       "      <td>-0.210780</td>\n",
       "      <td>0</td>\n",
       "      <td>False</td>\n",
       "      <td>-0.099253</td>\n",
       "    </tr>\n",
       "    <tr>\n",
       "      <th>9998</th>\n",
       "      <td>0.0</td>\n",
       "      <td>0.286908</td>\n",
       "      <td>-0.483866</td>\n",
       "      <td>0.638887</td>\n",
       "      <td>1.023028</td>\n",
       "      <td>-0.351553</td>\n",
       "      <td>2</td>\n",
       "      <td>True</td>\n",
       "      <td>3.000631</td>\n",
       "    </tr>\n",
       "    <tr>\n",
       "      <th>9999</th>\n",
       "      <td>0.0</td>\n",
       "      <td>0.801481</td>\n",
       "      <td>0.087352</td>\n",
       "      <td>0.071887</td>\n",
       "      <td>-0.427608</td>\n",
       "      <td>0.558146</td>\n",
       "      <td>0</td>\n",
       "      <td>True</td>\n",
       "      <td>1.378648</td>\n",
       "    </tr>\n",
       "  </tbody>\n",
       "</table>\n",
       "<p>10000 rows × 9 columns</p>\n",
       "</div>"
      ],
      "text/plain": [
       "       Z0        Z1        W0        W1        W2        W3 W4     v0  \\\n",
       "0     1.0  0.814282 -0.299129  0.571621  1.408631  0.182364  1   True   \n",
       "1     0.0  0.682007 -1.390299 -1.464128  0.206843  1.426256  3   True   \n",
       "2     0.0  0.848873  0.765106 -2.366631  0.185987 -0.068339  2   True   \n",
       "3     1.0  0.675171 -1.174202  0.751574  1.246662  0.487901  0   True   \n",
       "4     0.0  0.574140 -1.949091 -0.575147  1.241705 -0.470474  2   True   \n",
       "...   ...       ...       ...       ...       ...       ... ..    ...   \n",
       "9995  0.0  0.170648  0.666073  0.475494  1.781870 -0.075045  0   True   \n",
       "9996  0.0  0.201072  0.310371 -0.281969  1.095426  0.072040  0   True   \n",
       "9997  0.0  0.791473  0.412689  0.178754 -1.234568 -0.210780  0  False   \n",
       "9998  0.0  0.286908 -0.483866  0.638887  1.023028 -0.351553  2   True   \n",
       "9999  0.0  0.801481  0.087352  0.071887 -0.427608  0.558146  0   True   \n",
       "\n",
       "             y  \n",
       "0     2.612786  \n",
       "1     2.586400  \n",
       "2     0.498424  \n",
       "3     1.946396  \n",
       "4     1.455890  \n",
       "...        ...  \n",
       "9995  1.888294  \n",
       "9996  1.055005  \n",
       "9997 -0.099253  \n",
       "9998  3.000631  \n",
       "9999  1.378648  \n",
       "\n",
       "[10000 rows x 9 columns]"
      ]
     },
     "execution_count": 3,
     "metadata": {},
     "output_type": "execute_result"
    }
   ],
   "source": [
    "data = dowhy.datasets.linear_dataset(beta=1,\n",
    "        num_common_causes=5, \n",
    "        num_instruments = 2,\n",
    "        num_treatments=1,\n",
    "        num_discrete_common_causes=1,\n",
    "        num_samples=10000,\n",
    "        treatment_is_binary=True,\n",
    "        outcome_is_binary=False)\n",
    "df = data[\"df\"]\n",
    "print(df[df.v0==True].shape[0])\n",
    "df"
   ]
  },
  {
   "cell_type": "markdown",
   "id": "bef58bc2",
   "metadata": {},
   "source": [
    "Note that we are using a pandas dataframe to load the data."
   ]
  },
  {
   "cell_type": "markdown",
   "id": "9091d14e",
   "metadata": {},
   "source": [
    "## Identifying the causal estimand"
   ]
  },
  {
   "cell_type": "markdown",
   "id": "96c32600",
   "metadata": {},
   "source": [
    "We now input a causal graph in the GML graph format."
   ]
  },
  {
   "cell_type": "code",
   "execution_count": 4,
   "id": "beb2a722",
   "metadata": {
    "execution": {
     "iopub.execute_input": "2022-07-16T03:19:39.403266Z",
     "iopub.status.busy": "2022-07-16T03:19:39.401959Z",
     "iopub.status.idle": "2022-07-16T03:19:39.481764Z",
     "shell.execute_reply": "2022-07-16T03:19:39.482744Z"
    }
   },
   "outputs": [],
   "source": [
    "# With graph\n",
    "model=CausalModel(\n",
    "        data = df,\n",
    "        treatment=data[\"treatment_name\"],\n",
    "        outcome=data[\"outcome_name\"],\n",
    "        graph=data[\"gml_graph\"],\n",
    "        instruments=data[\"instrument_names\"]\n",
    "        )"
   ]
  },
  {
   "cell_type": "code",
   "execution_count": 5,
   "id": "60e227b0",
   "metadata": {
    "execution": {
     "iopub.execute_input": "2022-07-16T03:19:39.487833Z",
     "iopub.status.busy": "2022-07-16T03:19:39.487141Z",
     "iopub.status.idle": "2022-07-16T03:19:39.725205Z",
     "shell.execute_reply": "2022-07-16T03:19:39.723831Z"
    }
   },
   "outputs": [],
   "source": [
    "model.view_model()"
   ]
  },
  {
   "cell_type": "code",
   "execution_count": 6,
   "id": "c29bb4f2",
   "metadata": {
    "execution": {
     "iopub.execute_input": "2022-07-16T03:19:39.733702Z",
     "iopub.status.busy": "2022-07-16T03:19:39.732398Z",
     "iopub.status.idle": "2022-07-16T03:19:39.801208Z",
     "shell.execute_reply": "2022-07-16T03:19:39.800689Z"
    }
   },
   "outputs": [
    {
     "data": {
      "image/png": "[encoded data removed]",
      "text/plain": [
       "<IPython.core.display.Image object>"
      ]
     },
     "metadata": {},
     "output_type": "display_data"
    }
   ],
   "source": [
    "from IPython.display import Image, display\n",
    "display(Image(filename=\"causal_model.png\"))"
   ]
  },
  {
   "cell_type": "markdown",
   "id": "497f073c",
   "metadata": {},
   "source": [
    "We get a causal graph. Now identification and estimation is done."
   ]
  },
  {
   "cell_type": "code",
   "execution_count": 7,
   "id": "c8df12f0",
   "metadata": {
    "execution": {
     "iopub.execute_input": "2022-07-16T03:19:39.807927Z",
     "iopub.status.busy": "2022-07-16T03:19:39.806664Z",
     "iopub.status.idle": "2022-07-16T03:19:39.876656Z",
     "shell.execute_reply": "2022-07-16T03:19:39.875643Z"
    }
   },
   "outputs": [
    {
     "name": "stdout",
     "output_type": "stream",
     "text": [
      "Estimand type: nonparametric-ate\n",
      "\n",
      "### Estimand : 1\n",
      "Estimand name: backdoor\n",
      "Estimand expression:\n",
      "  d                                 \n",
      "─────(Expectation(y|W4,W1,W2,W0,W3))\n",
      "d[v₀]                               \n",
      "Estimand assumption 1, Unconfoundedness: If U→{v0} and U→y then P(y|v0,W4,W1,W2,W0,W3,U) = P(y|v0,W4,W1,W2,W0,W3)\n",
      "\n",
      "### Estimand : 2\n",
      "Estimand name: iv\n",
      "Estimand expression:\n",
      "Expectation(Derivative(y, [Z1, Z0])*Derivative([v0], [Z1, Z0])**(-1))\n",
      "Estimand assumption 1, As-if-random: If U→→y then ¬(U →→{Z1,Z0})\n",
      "Estimand assumption 2, Exclusion: If we remove {Z1,Z0}→{v0}, then ¬({Z1,Z0}→y)\n",
      "\n",
      "### Estimand : 3\n",
      "Estimand name: frontdoor\n",
      "No such variable(s) found!\n",
      "\n"
     ]
    }
   ],
   "source": [
    "identified_estimand = model.identify_effect(proceed_when_unidentifiable=True)\n",
    "print(identified_estimand)"
   ]
  },
  {
   "cell_type": "markdown",
   "id": "fd253f9f",
   "metadata": {},
   "source": [
    "## Method 1: Propensity Score Stratification\n",
    "\n",
    "We will be using propensity scores to stratify units in the data."
   ]
  },
  {
   "cell_type": "code",
   "execution_count": 8,
   "id": "72def1fa",
   "metadata": {
    "execution": {
     "iopub.execute_input": "2022-07-16T03:19:39.883248Z",
     "iopub.status.busy": "2022-07-16T03:19:39.882033Z",
     "iopub.status.idle": "2022-07-16T03:19:40.956761Z",
     "shell.execute_reply": "2022-07-16T03:19:40.955726Z"
    }
   },
   "outputs": [
    {
     "name": "stdout",
     "output_type": "stream",
     "text": [
      "propensity_score_stratification\n"
     ]
    },
    {
     "name": "stderr",
     "output_type": "stream",
     "text": [
      "/home/amshar/python-environments/vpy38/lib/python3.8/site-packages/sklearn/utils/validation.py:1111: DataConversionWarning: A column-vector y was passed when a 1d array was expected. Please change the shape of y to (n_samples, ), for example using ravel().\n",
      "  y = column_or_1d(y, warn=True)\n"
     ]
    },
    {
     "name": "stdout",
     "output_type": "stream",
     "text": [
      "*** Causal Estimate ***\n",
      "\n",
      "## Identified estimand\n",
      "Estimand type: nonparametric-ate\n",
      "\n",
      "### Estimand : 1\n",
      "Estimand name: backdoor\n",
      "Estimand expression:\n",
      "  d                                 \n",
      "─────(Expectation(y|W4,W1,W2,W0,W3))\n",
      "d[v₀]                               \n",
      "Estimand assumption 1, Unconfoundedness: If U→{v0} and U→y then P(y|v0,W4,W1,W2,W0,W3,U) = P(y|v0,W4,W1,W2,W0,W3)\n",
      "\n",
      "## Realized estimand\n",
      "b: y~v0+W4+W1+W2+W0+W3\n",
      "Target units: att\n",
      "\n",
      "## Estimate\n",
      "Mean value: 1.0114176805198902\n",
      "\n",
      "Causal Estimate is 1.0114176805198902\n"
     ]
    }
   ],
   "source": [
    "causal_estimate_strat = model.estimate_effect(identified_estimand,\n",
    "                                              method_name=\"backdoor.propensity_score_stratification\",\n",
    "                                              target_units=\"att\")\n",
    "print(causal_estimate_strat)\n",
    "print(\"Causal Estimate is \" + str(causal_estimate_strat.value))"
   ]
  },
  {
   "cell_type": "markdown",
   "id": "88a41ec2",
   "metadata": {},
   "source": [
    "### Textual Interpreter\n",
    "\n",
    "The textual Interpreter describes (in words) the effect of unit change in the treatment variable on the outcome variable."
   ]
  },
  {
   "cell_type": "code",
   "execution_count": 9,
   "id": "02f6e299",
   "metadata": {
    "execution": {
     "iopub.execute_input": "2022-07-16T03:19:40.961932Z",
     "iopub.status.busy": "2022-07-16T03:19:40.961311Z",
     "iopub.status.idle": "2022-07-16T03:19:41.057632Z",
     "shell.execute_reply": "2022-07-16T03:19:41.058513Z"
    }
   },
   "outputs": [
    {
     "name": "stdout",
     "output_type": "stream",
     "text": [
      "Increasing the treatment variable(s) [v0] from 0 to 1 causes an increase of 1.0114176805198902 in the expected value of the outcome [y], over the data distribution/population represented by the dataset.\n"
     ]
    }
   ],
   "source": [
    "# Textual Interpreter\n",
    "interpretation = causal_estimate_strat.interpret(method_name=\"textual_effect_interpreter\")"
   ]
  },
  {
   "cell_type": "markdown",
   "id": "99762068",
   "metadata": {},
   "source": [
    "### Visual Interpreter\n",
    "\n",
    "The visual interpreter plots the change in the standardized mean difference (SMD) before and after Propensity Score based adjustment of the dataset. The formula for SMD is given below.\n",
    "\n",
    "\n",
    "$SMD = \\frac{\\bar X_{1} - \\bar X_{2}}{\\sqrt{(S_{1}^{2} + S_{2}^{2})/2}}$\n",
    "\n",
    "Here, $\\bar X_{1}$ and $\\bar X_{2}$ are the sample mean for the treated and control groups.\n"
   ]
  },
  {
   "cell_type": "code",
   "execution_count": 10,
   "id": "de15df04",
   "metadata": {
    "execution": {
     "iopub.execute_input": "2022-07-16T03:19:41.066128Z",
     "iopub.status.busy": "2022-07-16T03:19:41.064955Z",
     "iopub.status.idle": "2022-07-16T03:19:42.151343Z",
     "shell.execute_reply": "2022-07-16T03:19:42.152278Z"
    }
   },
   "outputs": [
    {
     "data": {
      "image/png": "[encoded data removed]",
      "text/plain": [
       "<Figure size 432x288 with 1 Axes>"
      ]
     },
     "metadata": {},
     "output_type": "display_data"
    }
   ],
   "source": [
    "# Visual Interpreter\n",
    "interpretation = causal_estimate_strat.interpret(method_name=\"propensity_balance_interpreter\")"
   ]
  },
  {
   "cell_type": "markdown",
   "id": "f33430f5",
   "metadata": {},
   "source": [
    "This plot shows how the SMD decreases from the unadjusted to the stratified units. "
   ]
  },
  {
   "cell_type": "markdown",
   "id": "e993cb96",
   "metadata": {},
   "source": [
    "## Method 2: Propensity Score Matching\n",
    "\n",
    "We will be using propensity scores to match units in the data."
   ]
  },
  {
   "cell_type": "code",
   "execution_count": 11,
   "id": "63a9d828",
   "metadata": {
    "execution": {
     "iopub.execute_input": "2022-07-16T03:19:42.159326Z",
     "iopub.status.busy": "2022-07-16T03:19:42.158780Z",
     "iopub.status.idle": "2022-07-16T03:19:47.252312Z",
     "shell.execute_reply": "2022-07-16T03:19:47.252754Z"
    }
   },
   "outputs": [
    {
     "name": "stdout",
     "output_type": "stream",
     "text": [
      "propensity_score_matching\n"
     ]
    },
    {
     "name": "stderr",
     "output_type": "stream",
     "text": [
      "/home/amshar/python-environments/vpy38/lib/python3.8/site-packages/sklearn/utils/validation.py:1111: DataConversionWarning: A column-vector y was passed when a 1d array was expected. Please change the shape of y to (n_samples, ), for example using ravel().\n",
      "  y = column_or_1d(y, warn=True)\n"
     ]
    },
    {
     "name": "stdout",
     "output_type": "stream",
     "text": [
      "*** Causal Estimate ***\n",
      "\n",
      "## Identified estimand\n",
      "Estimand type: nonparametric-ate\n",
      "\n",
      "### Estimand : 1\n",
      "Estimand name: backdoor\n",
      "Estimand expression:\n",
      "  d                                 \n",
      "─────(Expectation(y|W4,W1,W2,W0,W3))\n",
      "d[v₀]                               \n",
      "Estimand assumption 1, Unconfoundedness: If U→{v0} and U→y then P(y|v0,W4,W1,W2,W0,W3,U) = P(y|v0,W4,W1,W2,W0,W3)\n",
      "\n",
      "## Realized estimand\n",
      "b: y~v0+W4+W1+W2+W0+W3\n",
      "Target units: atc\n",
      "\n",
      "## Estimate\n",
      "Mean value: 1.0506733573599378\n",
      "\n",
      "Causal Estimate is 1.0506733573599378\n"
     ]
    }
   ],
   "source": [
    "causal_estimate_match = model.estimate_effect(identified_estimand,\n",
    "                                              method_name=\"backdoor.propensity_score_matching\",\n",
    "                                              target_units=\"atc\")\n",
    "print(causal_estimate_match)\n",
    "print(\"Causal Estimate is \" + str(causal_estimate_match.value))"
   ]
  },
  {
   "cell_type": "code",
   "execution_count": 12,
   "id": "3616cbad",
   "metadata": {
    "execution": {
     "iopub.execute_input": "2022-07-16T03:19:47.260027Z",
     "iopub.status.busy": "2022-07-16T03:19:47.258839Z",
     "iopub.status.idle": "2022-07-16T03:19:47.305018Z",
     "shell.execute_reply": "2022-07-16T03:19:47.304564Z"
    }
   },
   "outputs": [
    {
     "name": "stdout",
     "output_type": "stream",
     "text": [
      "Increasing the treatment variable(s) [v0] from 0 to 1 causes an increase of 1.0506733573599378 in the expected value of the outcome [y], over the data distribution/population represented by the dataset.\n"
     ]
    }
   ],
   "source": [
    "# Textual Interpreter\n",
    "interpretation = causal_estimate_match.interpret(method_name=\"textual_effect_interpreter\")"
   ]
  },
  {
   "cell_type": "markdown",
   "id": "cf22810b",
   "metadata": {},
   "source": [
    "Cannot use propensity balance interpretor here since the interpreter method only supports propensity score stratification estimator."
   ]
  },
  {
   "cell_type": "markdown",
   "id": "d32a113c",
   "metadata": {},
   "source": [
    "## Method 3: Weighting\n",
    "\n",
    "We will be using (inverse) propensity scores to assign weights to units in the data. DoWhy supports a few different weighting schemes:\n",
    "1. Vanilla Inverse Propensity Score weighting (IPS) (weighting_scheme=\"ips_weight\")\n",
    "2. Self-normalized IPS weighting (also known as the Hajek estimator) (weighting_scheme=\"ips_normalized_weight\")\n",
    "3. Stabilized IPS weighting (weighting_scheme = \"ips_stabilized_weight\")"
   ]
  },
  {
   "cell_type": "code",
   "execution_count": 13,
   "id": "0270bdae",
   "metadata": {
    "execution": {
     "iopub.execute_input": "2022-07-16T03:19:47.312112Z",
     "iopub.status.busy": "2022-07-16T03:19:47.311609Z",
     "iopub.status.idle": "2022-07-16T03:19:47.463377Z",
     "shell.execute_reply": "2022-07-16T03:19:47.464452Z"
    }
   },
   "outputs": [
    {
     "name": "stdout",
     "output_type": "stream",
     "text": [
      "propensity_score_weighting\n"
     ]
    },
    {
     "name": "stdout",
     "output_type": "stream",
     "text": [
      "*** Causal Estimate ***\n",
      "\n",
      "## Identified estimand\n",
      "Estimand type: nonparametric-ate\n",
      "\n",
      "### Estimand : 1\n",
      "Estimand name: backdoor\n",
      "Estimand expression:\n",
      "  d                                 \n",
      "─────(Expectation(y|W4,W1,W2,W0,W3))\n",
      "d[v₀]                               \n",
      "Estimand assumption 1, Unconfoundedness: If U→{v0} and U→y then P(y|v0,W4,W1,W2,W0,W3,U) = P(y|v0,W4,W1,W2,W0,W3)\n",
      "\n",
      "## Realized estimand\n",
      "b: y~v0+W4+W1+W2+W0+W3\n",
      "Target units: ate\n",
      "\n",
      "## Estimate\n",
      "Mean value: 1.3948273512723577\n",
      "\n",
      "Causal Estimate is 1.3948273512723577\n"
     ]
    },
    {
     "name": "stderr",
     "output_type": "stream",
     "text": [
      "/home/amshar/python-environments/vpy38/lib/python3.8/site-packages/sklearn/utils/validation.py:1111: DataConversionWarning: A column-vector y was passed when a 1d array was expected. Please change the shape of y to (n_samples, ), for example using ravel().\n",
      "  y = column_or_1d(y, warn=True)\n"
     ]
    }
   ],
   "source": [
    "causal_estimate_ipw = model.estimate_effect(identified_estimand,\n",
    "                                            method_name=\"backdoor.propensity_score_weighting\",\n",
    "                                            target_units = \"ate\",\n",
    "                                            method_params={\"weighting_scheme\":\"ips_weight\"})\n",
    "print(causal_estimate_ipw)\n",
    "print(\"Causal Estimate is \" + str(causal_estimate_ipw.value))"
   ]
  },
  {
   "cell_type": "code",
   "execution_count": 14,
   "id": "b71b5036",
   "metadata": {
    "execution": {
     "iopub.execute_input": "2022-07-16T03:19:47.471936Z",
     "iopub.status.busy": "2022-07-16T03:19:47.470769Z",
     "iopub.status.idle": "2022-07-16T03:19:47.569381Z",
     "shell.execute_reply": "2022-07-16T03:19:47.569888Z"
    }
   },
   "outputs": [
    {
     "name": "stdout",
     "output_type": "stream",
     "text": [
      "Increasing the treatment variable(s) [v0] from 0 to 1 causes an increase of 1.3948273512723577 in the expected value of the outcome [y], over the data distribution/population represented by the dataset.\n"
     ]
    }
   ],
   "source": [
    "# Textual Interpreter\n",
    "interpretation = causal_estimate_ipw.interpret(method_name=\"textual_effect_interpreter\")"
   ]
  },
  {
   "cell_type": "code",
   "execution_count": 15,
   "id": "a7799d4b",
   "metadata": {
    "execution": {
     "iopub.execute_input": "2022-07-16T03:19:47.574861Z",
     "iopub.status.busy": "2022-07-16T03:19:47.574128Z",
     "iopub.status.idle": "2022-07-16T03:19:47.944247Z",
     "shell.execute_reply": "2022-07-16T03:19:47.944664Z"
    }
   },
   "outputs": [
    {
     "data": {
      "image/png": "[encoded data removed]",
      "text/plain": [
       "<Figure size 576x576 with 2 Axes>"
      ]
     },
     "metadata": {},
     "output_type": "display_data"
    }
   ],
   "source": [
    "interpretation = causal_estimate_ipw.interpret(method_name=\"confounder_distribution_interpreter\", fig_size=(8,8), font_size=12, var_name='W4', var_type='discrete')"
   ]
  },
  {
   "cell_type": "code",
   "execution_count": null,
   "id": "d88b6e25",
   "metadata": {},
   "outputs": [],
   "source": []
  }
 ],
 "metadata": {
  "kernelspec": {
   "display_name": "Python 3",
   "language": "python",
   "name": "python3"
  },
  "language_info": {
   "codemirror_mode": {
    "name": "ipython",
    "version": 3
   },
   "file_extension": ".py",
   "mimetype": "text/x-python",
   "name": "python",
   "nbconvert_exporter": "python",
   "pygments_lexer": "ipython3",
   "version": "3.8.12"
  },
  "toc": {
   "base_numbering": 1,
   "nav_menu": {},
   "number_sections": false,
   "sideBar": true,
   "skip_h1_title": true,
   "title_cell": "Table of Contents",
   "title_sidebar": "Contents",
   "toc_cell": false,
   "toc_position": {},
   "toc_section_display": true,
   "toc_window_display": false
  }
 },
 "nbformat": 4,
 "nbformat_minor": 5
}
