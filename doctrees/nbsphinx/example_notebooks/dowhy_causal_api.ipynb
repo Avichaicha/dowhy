{
 "cells": [
  {
   "cell_type": "markdown",
   "metadata": {},
   "source": [
    "# Demo for the DoWhy causal API\n",
    "We show a simple example of adding a causal extension to any dataframe. "
   ]
  },
  {
   "cell_type": "code",
   "execution_count": 1,
   "metadata": {
    "execution": {
     "iopub.execute_input": "2022-03-20T14:41:12.074598Z",
     "iopub.status.busy": "2022-03-20T14:41:12.073235Z",
     "iopub.status.idle": "2022-03-20T14:41:14.568581Z",
     "shell.execute_reply": "2022-03-20T14:41:14.567298Z"
    }
   },
   "outputs": [],
   "source": [
    "import dowhy.datasets\n",
    "import dowhy.api\n",
    "\n",
    "import numpy as np\n",
    "import pandas as pd\n",
    "\n",
    "from statsmodels.api import OLS"
   ]
  },
  {
   "cell_type": "code",
   "execution_count": 2,
   "metadata": {
    "execution": {
     "iopub.execute_input": "2022-03-20T14:41:14.587867Z",
     "iopub.status.busy": "2022-03-20T14:41:14.576562Z",
     "iopub.status.idle": "2022-03-20T14:41:14.637777Z",
     "shell.execute_reply": "2022-03-20T14:41:14.638799Z"
    }
   },
   "outputs": [
    {
     "data": {
      "text/html": [
       "<div>\n",
       "<style scoped>\n",
       "    .dataframe tbody tr th:only-of-type {\n",
       "        vertical-align: middle;\n",
       "    }\n",
       "\n",
       "    .dataframe tbody tr th {\n",
       "        vertical-align: top;\n",
       "    }\n",
       "\n",
       "    .dataframe thead th {\n",
       "        text-align: right;\n",
       "    }\n",
       "</style>\n",
       "<table border=\"1\" class=\"dataframe\">\n",
       "  <thead>\n",
       "    <tr style=\"text-align: right;\">\n",
       "      <th></th>\n",
       "      <th>W0</th>\n",
       "      <th>v0</th>\n",
       "      <th>y</th>\n",
       "    </tr>\n",
       "  </thead>\n",
       "  <tbody>\n",
       "    <tr>\n",
       "      <th>0</th>\n",
       "      <td>0.351416</td>\n",
       "      <td>False</td>\n",
       "      <td>1.770602</td>\n",
       "    </tr>\n",
       "    <tr>\n",
       "      <th>1</th>\n",
       "      <td>1.307170</td>\n",
       "      <td>True</td>\n",
       "      <td>6.098464</td>\n",
       "    </tr>\n",
       "    <tr>\n",
       "      <th>2</th>\n",
       "      <td>-1.429158</td>\n",
       "      <td>False</td>\n",
       "      <td>-0.416234</td>\n",
       "    </tr>\n",
       "    <tr>\n",
       "      <th>3</th>\n",
       "      <td>1.561882</td>\n",
       "      <td>True</td>\n",
       "      <td>7.383313</td>\n",
       "    </tr>\n",
       "    <tr>\n",
       "      <th>4</th>\n",
       "      <td>-0.746316</td>\n",
       "      <td>False</td>\n",
       "      <td>0.126371</td>\n",
       "    </tr>\n",
       "    <tr>\n",
       "      <th>...</th>\n",
       "      <td>...</td>\n",
       "      <td>...</td>\n",
       "      <td>...</td>\n",
       "    </tr>\n",
       "    <tr>\n",
       "      <th>995</th>\n",
       "      <td>-0.317264</td>\n",
       "      <td>False</td>\n",
       "      <td>-0.444288</td>\n",
       "    </tr>\n",
       "    <tr>\n",
       "      <th>996</th>\n",
       "      <td>-0.384342</td>\n",
       "      <td>False</td>\n",
       "      <td>1.373162</td>\n",
       "    </tr>\n",
       "    <tr>\n",
       "      <th>997</th>\n",
       "      <td>-3.703138</td>\n",
       "      <td>False</td>\n",
       "      <td>-5.521368</td>\n",
       "    </tr>\n",
       "    <tr>\n",
       "      <th>998</th>\n",
       "      <td>-0.530284</td>\n",
       "      <td>False</td>\n",
       "      <td>-0.674066</td>\n",
       "    </tr>\n",
       "    <tr>\n",
       "      <th>999</th>\n",
       "      <td>-1.655624</td>\n",
       "      <td>False</td>\n",
       "      <td>-3.293027</td>\n",
       "    </tr>\n",
       "  </tbody>\n",
       "</table>\n",
       "<p>1000 rows × 3 columns</p>\n",
       "</div>"
      ],
      "text/plain": [
       "           W0     v0         y\n",
       "0    0.351416  False  1.770602\n",
       "1    1.307170   True  6.098464\n",
       "2   -1.429158  False -0.416234\n",
       "3    1.561882   True  7.383313\n",
       "4   -0.746316  False  0.126371\n",
       "..        ...    ...       ...\n",
       "995 -0.317264  False -0.444288\n",
       "996 -0.384342  False  1.373162\n",
       "997 -3.703138  False -5.521368\n",
       "998 -0.530284  False -0.674066\n",
       "999 -1.655624  False -3.293027\n",
       "\n",
       "[1000 rows x 3 columns]"
      ]
     },
     "execution_count": 2,
     "metadata": {},
     "output_type": "execute_result"
    }
   ],
   "source": [
    "data = dowhy.datasets.linear_dataset(beta=5,\n",
    "        num_common_causes=1,\n",
    "        num_instruments = 0,\n",
    "        num_samples=1000,\n",
    "        treatment_is_binary=True)\n",
    "df = data['df']\n",
    "df['y'] = df['y'] + np.random.normal(size=len(df)) # Adding noise to data. Without noise, the variance in Y|X, Z is zero, and mcmc fails.\n",
    "#data['dot_graph'] = 'digraph { v ->y;X0-> v;X0-> y;}'\n",
    "\n",
    "treatment= data[\"treatment_name\"][0]\n",
    "outcome = data[\"outcome_name\"][0]\n",
    "common_cause = data[\"common_causes_names\"][0]\n",
    "df"
   ]
  },
  {
   "cell_type": "code",
   "execution_count": 3,
   "metadata": {
    "execution": {
     "iopub.execute_input": "2022-03-20T14:41:14.646444Z",
     "iopub.status.busy": "2022-03-20T14:41:14.645132Z",
     "iopub.status.idle": "2022-03-20T14:41:15.452973Z",
     "shell.execute_reply": "2022-03-20T14:41:15.453996Z"
    }
   },
   "outputs": [
    {
     "data": {
      "text/plain": [
       "<AxesSubplot:xlabel='v0'>"
      ]
     },
     "execution_count": 3,
     "metadata": {},
     "output_type": "execute_result"
    },
    {
     "data": {
      "image/png": "[encoded data removed]",
      "text/plain": [
       "<Figure size 432x288 with 1 Axes>"
      ]
     },
     "metadata": {
      "needs_background": "light"
     },
     "output_type": "display_data"
    }
   ],
   "source": [
    "# data['df'] is just a regular pandas.DataFrame\n",
    "df.causal.do(x=treatment,\n",
    "                     variable_types={treatment: 'b', outcome: 'c', common_cause: 'c'},\n",
    "                     outcome=outcome,\n",
    "                     common_causes=[common_cause],\n",
    "                     proceed_when_unidentifiable=True).groupby(treatment).mean().plot(y=outcome, kind='bar')"
   ]
  },
  {
   "cell_type": "code",
   "execution_count": 4,
   "metadata": {
    "execution": {
     "iopub.execute_input": "2022-03-20T14:41:15.470893Z",
     "iopub.status.busy": "2022-03-20T14:41:15.469626Z",
     "iopub.status.idle": "2022-03-20T14:41:15.584389Z",
     "shell.execute_reply": "2022-03-20T14:41:15.585333Z"
    }
   },
   "outputs": [
    {
     "data": {
      "text/plain": [
       "<AxesSubplot:xlabel='v0'>"
      ]
     },
     "execution_count": 4,
     "metadata": {},
     "output_type": "execute_result"
    },
    {
     "data": {
      "image/png": "[encoded data removed]",
      "text/plain": [
       "<Figure size 432x288 with 1 Axes>"
      ]
     },
     "metadata": {
      "needs_background": "light"
     },
     "output_type": "display_data"
    }
   ],
   "source": [
    "df.causal.do(x={treatment: 1}, \n",
    "              variable_types={treatment:'b', outcome: 'c', common_cause: 'c'}, \n",
    "              outcome=outcome,\n",
    "              method='weighting', \n",
    "              common_causes=[common_cause],\n",
    "              proceed_when_unidentifiable=True).groupby(treatment).mean().plot(y=outcome, kind='bar')"
   ]
  },
  {
   "cell_type": "code",
   "execution_count": 5,
   "metadata": {
    "execution": {
     "iopub.execute_input": "2022-03-20T14:41:15.593667Z",
     "iopub.status.busy": "2022-03-20T14:41:15.592351Z",
     "iopub.status.idle": "2022-03-20T14:41:15.639915Z",
     "shell.execute_reply": "2022-03-20T14:41:15.639181Z"
    }
   },
   "outputs": [],
   "source": [
    "cdf_1 = df.causal.do(x={treatment: 1}, \n",
    "              variable_types={treatment: 'b', outcome: 'c', common_cause: 'c'}, \n",
    "              outcome=outcome, \n",
    "              dot_graph=data['dot_graph'],\n",
    "              proceed_when_unidentifiable=True)\n",
    "\n",
    "cdf_0 = df.causal.do(x={treatment: 0}, \n",
    "              variable_types={treatment: 'b', outcome: 'c', common_cause: 'c'}, \n",
    "              outcome=outcome, \n",
    "              dot_graph=data['dot_graph'],\n",
    "              proceed_when_unidentifiable=True)\n"
   ]
  },
  {
   "cell_type": "code",
   "execution_count": 6,
   "metadata": {
    "execution": {
     "iopub.execute_input": "2022-03-20T14:41:15.654962Z",
     "iopub.status.busy": "2022-03-20T14:41:15.654083Z",
     "iopub.status.idle": "2022-03-20T14:41:15.658113Z",
     "shell.execute_reply": "2022-03-20T14:41:15.657389Z"
    },
    "scrolled": true
   },
   "outputs": [
    {
     "data": {
      "text/html": [
       "<div>\n",
       "<style scoped>\n",
       "    .dataframe tbody tr th:only-of-type {\n",
       "        vertical-align: middle;\n",
       "    }\n",
       "\n",
       "    .dataframe tbody tr th {\n",
       "        vertical-align: top;\n",
       "    }\n",
       "\n",
       "    .dataframe thead th {\n",
       "        text-align: right;\n",
       "    }\n",
       "</style>\n",
       "<table border=\"1\" class=\"dataframe\">\n",
       "  <thead>\n",
       "    <tr style=\"text-align: right;\">\n",
       "      <th></th>\n",
       "      <th>W0</th>\n",
       "      <th>v0</th>\n",
       "      <th>y</th>\n",
       "      <th>propensity_score</th>\n",
       "      <th>weight</th>\n",
       "    </tr>\n",
       "  </thead>\n",
       "  <tbody>\n",
       "    <tr>\n",
       "      <th>0</th>\n",
       "      <td>-1.284470</td>\n",
       "      <td>False</td>\n",
       "      <td>-1.385669</td>\n",
       "      <td>0.925169</td>\n",
       "      <td>1.080884</td>\n",
       "    </tr>\n",
       "    <tr>\n",
       "      <th>1</th>\n",
       "      <td>0.795281</td>\n",
       "      <td>False</td>\n",
       "      <td>-0.111928</td>\n",
       "      <td>0.146294</td>\n",
       "      <td>6.835559</td>\n",
       "    </tr>\n",
       "    <tr>\n",
       "      <th>2</th>\n",
       "      <td>1.486917</td>\n",
       "      <td>False</td>\n",
       "      <td>1.190343</td>\n",
       "      <td>0.039662</td>\n",
       "      <td>25.212908</td>\n",
       "    </tr>\n",
       "    <tr>\n",
       "      <th>3</th>\n",
       "      <td>-1.107896</td>\n",
       "      <td>False</td>\n",
       "      <td>-3.000521</td>\n",
       "      <td>0.895806</td>\n",
       "      <td>1.116313</td>\n",
       "    </tr>\n",
       "    <tr>\n",
       "      <th>4</th>\n",
       "      <td>-0.596811</td>\n",
       "      <td>False</td>\n",
       "      <td>-0.986136</td>\n",
       "      <td>0.750261</td>\n",
       "      <td>1.332869</td>\n",
       "    </tr>\n",
       "    <tr>\n",
       "      <th>...</th>\n",
       "      <td>...</td>\n",
       "      <td>...</td>\n",
       "      <td>...</td>\n",
       "      <td>...</td>\n",
       "      <td>...</td>\n",
       "    </tr>\n",
       "    <tr>\n",
       "      <th>995</th>\n",
       "      <td>-0.398276</td>\n",
       "      <td>False</td>\n",
       "      <td>-0.373717</td>\n",
       "      <td>0.666313</td>\n",
       "      <td>1.500796</td>\n",
       "    </tr>\n",
       "    <tr>\n",
       "      <th>996</th>\n",
       "      <td>0.173618</td>\n",
       "      <td>False</td>\n",
       "      <td>-0.020477</td>\n",
       "      <td>0.381069</td>\n",
       "      <td>2.624194</td>\n",
       "    </tr>\n",
       "    <tr>\n",
       "      <th>997</th>\n",
       "      <td>-0.041073</td>\n",
       "      <td>False</td>\n",
       "      <td>-1.274254</td>\n",
       "      <td>0.489171</td>\n",
       "      <td>2.044276</td>\n",
       "    </tr>\n",
       "    <tr>\n",
       "      <th>998</th>\n",
       "      <td>-0.552771</td>\n",
       "      <td>False</td>\n",
       "      <td>-2.036346</td>\n",
       "      <td>0.732903</td>\n",
       "      <td>1.364437</td>\n",
       "    </tr>\n",
       "    <tr>\n",
       "      <th>999</th>\n",
       "      <td>0.328146</td>\n",
       "      <td>False</td>\n",
       "      <td>0.260005</td>\n",
       "      <td>0.309400</td>\n",
       "      <td>3.232058</td>\n",
       "    </tr>\n",
       "  </tbody>\n",
       "</table>\n",
       "<p>1000 rows × 5 columns</p>\n",
       "</div>"
      ],
      "text/plain": [
       "           W0     v0         y  propensity_score     weight\n",
       "0   -1.284470  False -1.385669          0.925169   1.080884\n",
       "1    0.795281  False -0.111928          0.146294   6.835559\n",
       "2    1.486917  False  1.190343          0.039662  25.212908\n",
       "3   -1.107896  False -3.000521          0.895806   1.116313\n",
       "4   -0.596811  False -0.986136          0.750261   1.332869\n",
       "..        ...    ...       ...               ...        ...\n",
       "995 -0.398276  False -0.373717          0.666313   1.500796\n",
       "996  0.173618  False -0.020477          0.381069   2.624194\n",
       "997 -0.041073  False -1.274254          0.489171   2.044276\n",
       "998 -0.552771  False -2.036346          0.732903   1.364437\n",
       "999  0.328146  False  0.260005          0.309400   3.232058\n",
       "\n",
       "[1000 rows x 5 columns]"
      ]
     },
     "execution_count": 6,
     "metadata": {},
     "output_type": "execute_result"
    }
   ],
   "source": [
    "cdf_0"
   ]
  },
  {
   "cell_type": "code",
   "execution_count": 7,
   "metadata": {
    "execution": {
     "iopub.execute_input": "2022-03-20T14:41:15.672184Z",
     "iopub.status.busy": "2022-03-20T14:41:15.671303Z",
     "iopub.status.idle": "2022-03-20T14:41:15.675108Z",
     "shell.execute_reply": "2022-03-20T14:41:15.675761Z"
    }
   },
   "outputs": [
    {
     "data": {
      "text/html": [
       "<div>\n",
       "<style scoped>\n",
       "    .dataframe tbody tr th:only-of-type {\n",
       "        vertical-align: middle;\n",
       "    }\n",
       "\n",
       "    .dataframe tbody tr th {\n",
       "        vertical-align: top;\n",
       "    }\n",
       "\n",
       "    .dataframe thead th {\n",
       "        text-align: right;\n",
       "    }\n",
       "</style>\n",
       "<table border=\"1\" class=\"dataframe\">\n",
       "  <thead>\n",
       "    <tr style=\"text-align: right;\">\n",
       "      <th></th>\n",
       "      <th>W0</th>\n",
       "      <th>v0</th>\n",
       "      <th>y</th>\n",
       "      <th>propensity_score</th>\n",
       "      <th>weight</th>\n",
       "    </tr>\n",
       "  </thead>\n",
       "  <tbody>\n",
       "    <tr>\n",
       "      <th>0</th>\n",
       "      <td>-0.969820</td>\n",
       "      <td>True</td>\n",
       "      <td>2.027891</td>\n",
       "      <td>0.133842</td>\n",
       "      <td>7.471486</td>\n",
       "    </tr>\n",
       "    <tr>\n",
       "      <th>1</th>\n",
       "      <td>-1.536529</td>\n",
       "      <td>True</td>\n",
       "      <td>0.812138</td>\n",
       "      <td>0.045944</td>\n",
       "      <td>21.765787</td>\n",
       "    </tr>\n",
       "    <tr>\n",
       "      <th>2</th>\n",
       "      <td>-1.398063</td>\n",
       "      <td>True</td>\n",
       "      <td>2.279418</td>\n",
       "      <td>0.060175</td>\n",
       "      <td>16.618194</td>\n",
       "    </tr>\n",
       "    <tr>\n",
       "      <th>3</th>\n",
       "      <td>0.441375</td>\n",
       "      <td>True</td>\n",
       "      <td>4.470792</td>\n",
       "      <td>0.738053</td>\n",
       "      <td>1.354917</td>\n",
       "    </tr>\n",
       "    <tr>\n",
       "      <th>4</th>\n",
       "      <td>-0.660118</td>\n",
       "      <td>True</td>\n",
       "      <td>3.341546</td>\n",
       "      <td>0.226138</td>\n",
       "      <td>4.422085</td>\n",
       "    </tr>\n",
       "    <tr>\n",
       "      <th>...</th>\n",
       "      <td>...</td>\n",
       "      <td>...</td>\n",
       "      <td>...</td>\n",
       "      <td>...</td>\n",
       "      <td>...</td>\n",
       "    </tr>\n",
       "    <tr>\n",
       "      <th>995</th>\n",
       "      <td>0.257336</td>\n",
       "      <td>True</td>\n",
       "      <td>3.424474</td>\n",
       "      <td>0.658642</td>\n",
       "      <td>1.518276</td>\n",
       "    </tr>\n",
       "    <tr>\n",
       "      <th>996</th>\n",
       "      <td>-0.532030</td>\n",
       "      <td>True</td>\n",
       "      <td>4.848077</td>\n",
       "      <td>0.275532</td>\n",
       "      <td>3.629336</td>\n",
       "    </tr>\n",
       "    <tr>\n",
       "      <th>997</th>\n",
       "      <td>-0.085724</td>\n",
       "      <td>True</td>\n",
       "      <td>4.059201</td>\n",
       "      <td>0.487868</td>\n",
       "      <td>2.049735</td>\n",
       "    </tr>\n",
       "    <tr>\n",
       "      <th>998</th>\n",
       "      <td>0.050890</td>\n",
       "      <td>True</td>\n",
       "      <td>5.275804</td>\n",
       "      <td>0.557870</td>\n",
       "      <td>1.792533</td>\n",
       "    </tr>\n",
       "    <tr>\n",
       "      <th>999</th>\n",
       "      <td>0.192435</td>\n",
       "      <td>True</td>\n",
       "      <td>7.228887</td>\n",
       "      <td>0.628018</td>\n",
       "      <td>1.592310</td>\n",
       "    </tr>\n",
       "  </tbody>\n",
       "</table>\n",
       "<p>1000 rows × 5 columns</p>\n",
       "</div>"
      ],
      "text/plain": [
       "           W0    v0         y  propensity_score     weight\n",
       "0   -0.969820  True  2.027891          0.133842   7.471486\n",
       "1   -1.536529  True  0.812138          0.045944  21.765787\n",
       "2   -1.398063  True  2.279418          0.060175  16.618194\n",
       "3    0.441375  True  4.470792          0.738053   1.354917\n",
       "4   -0.660118  True  3.341546          0.226138   4.422085\n",
       "..        ...   ...       ...               ...        ...\n",
       "995  0.257336  True  3.424474          0.658642   1.518276\n",
       "996 -0.532030  True  4.848077          0.275532   3.629336\n",
       "997 -0.085724  True  4.059201          0.487868   2.049735\n",
       "998  0.050890  True  5.275804          0.557870   1.792533\n",
       "999  0.192435  True  7.228887          0.628018   1.592310\n",
       "\n",
       "[1000 rows x 5 columns]"
      ]
     },
     "execution_count": 7,
     "metadata": {},
     "output_type": "execute_result"
    }
   ],
   "source": [
    "cdf_1"
   ]
  },
  {
   "cell_type": "markdown",
   "metadata": {},
   "source": [
    "## Comparing the estimate to Linear Regression\n",
    "First, estimating the effect using the causal data frame, and the 95% confidence interval."
   ]
  },
  {
   "cell_type": "code",
   "execution_count": 8,
   "metadata": {
    "execution": {
     "iopub.execute_input": "2022-03-20T14:41:15.682187Z",
     "iopub.status.busy": "2022-03-20T14:41:15.681317Z",
     "iopub.status.idle": "2022-03-20T14:41:16.153371Z",
     "shell.execute_reply": "2022-03-20T14:41:16.154392Z"
    }
   },
   "outputs": [
    {
     "name": "stderr",
     "output_type": "stream",
     "text": [
      "/home/amshar/python-environments/vpy38/lib/python3.8/site-packages/IPython/lib/latextools.py:126: MatplotlibDeprecationWarning: \n",
      "The to_png function was deprecated in Matplotlib 3.4 and will be removed two minor releases later. Use mathtext.math_to_image instead.\n",
      "  mt.to_png(f, s, fontsize=12, dpi=dpi, color=color)\n",
      "/home/amshar/python-environments/vpy38/lib/python3.8/site-packages/IPython/lib/latextools.py:126: MatplotlibDeprecationWarning: \n",
      "The to_rgba function was deprecated in Matplotlib 3.4 and will be removed two minor releases later. Use mathtext.math_to_image instead.\n",
      "  mt.to_png(f, s, fontsize=12, dpi=dpi, color=color)\n",
      "/home/amshar/python-environments/vpy38/lib/python3.8/site-packages/IPython/lib/latextools.py:126: MatplotlibDeprecationWarning: \n",
      "The to_mask function was deprecated in Matplotlib 3.4 and will be removed two minor releases later. Use mathtext.math_to_image instead.\n",
      "  mt.to_png(f, s, fontsize=12, dpi=dpi, color=color)\n",
      "/home/amshar/python-environments/vpy38/lib/python3.8/site-packages/IPython/lib/latextools.py:126: MatplotlibDeprecationWarning: \n",
      "The MathtextBackendBitmap class was deprecated in Matplotlib 3.4 and will be removed two minor releases later. Use mathtext.math_to_image instead.\n",
      "  mt.to_png(f, s, fontsize=12, dpi=dpi, color=color)\n"
     ]
    },
    {
     "data": {
      "image/png": "[encoded data removed]",
      "text/latex": [
       "$\\displaystyle 5.18426620396613$"
      ],
      "text/plain": [
       "5.184266203966126"
      ]
     },
     "execution_count": 8,
     "metadata": {},
     "output_type": "execute_result"
    }
   ],
   "source": [
    "(cdf_1['y'] - cdf_0['y']).mean()"
   ]
  },
  {
   "cell_type": "code",
   "execution_count": 9,
   "metadata": {
    "execution": {
     "iopub.execute_input": "2022-03-20T14:41:16.164973Z",
     "iopub.status.busy": "2022-03-20T14:41:16.163698Z",
     "iopub.status.idle": "2022-03-20T14:41:16.401669Z",
     "shell.execute_reply": "2022-03-20T14:41:16.402690Z"
    }
   },
   "outputs": [
    {
     "name": "stderr",
     "output_type": "stream",
     "text": [
      "/home/amshar/python-environments/vpy38/lib/python3.8/site-packages/IPython/lib/latextools.py:126: MatplotlibDeprecationWarning: \n",
      "The to_png function was deprecated in Matplotlib 3.4 and will be removed two minor releases later. Use mathtext.math_to_image instead.\n",
      "  mt.to_png(f, s, fontsize=12, dpi=dpi, color=color)\n",
      "/home/amshar/python-environments/vpy38/lib/python3.8/site-packages/IPython/lib/latextools.py:126: MatplotlibDeprecationWarning: \n",
      "The to_rgba function was deprecated in Matplotlib 3.4 and will be removed two minor releases later. Use mathtext.math_to_image instead.\n",
      "  mt.to_png(f, s, fontsize=12, dpi=dpi, color=color)\n",
      "/home/amshar/python-environments/vpy38/lib/python3.8/site-packages/IPython/lib/latextools.py:126: MatplotlibDeprecationWarning: \n",
      "The to_mask function was deprecated in Matplotlib 3.4 and will be removed two minor releases later. Use mathtext.math_to_image instead.\n",
      "  mt.to_png(f, s, fontsize=12, dpi=dpi, color=color)\n",
      "/home/amshar/python-environments/vpy38/lib/python3.8/site-packages/IPython/lib/latextools.py:126: MatplotlibDeprecationWarning: \n",
      "The MathtextBackendBitmap class was deprecated in Matplotlib 3.4 and will be removed two minor releases later. Use mathtext.math_to_image instead.\n",
      "  mt.to_png(f, s, fontsize=12, dpi=dpi, color=color)\n"
     ]
    },
    {
     "data": {
      "image/png": "[encoded data removed]",
      "text/latex": [
       "$\\displaystyle 0.15019793442215$"
      ],
      "text/plain": [
       "0.1501979344221505"
      ]
     },
     "execution_count": 9,
     "metadata": {},
     "output_type": "execute_result"
    }
   ],
   "source": [
    "1.96*(cdf_1['y'] - cdf_0['y']).std() / np.sqrt(len(df))"
   ]
  },
  {
   "cell_type": "markdown",
   "metadata": {},
   "source": [
    "Comparing to the estimate from OLS."
   ]
  },
  {
   "cell_type": "code",
   "execution_count": 10,
   "metadata": {
    "execution": {
     "iopub.execute_input": "2022-03-20T14:41:16.426070Z",
     "iopub.status.busy": "2022-03-20T14:41:16.414395Z",
     "iopub.status.idle": "2022-03-20T14:41:16.429572Z",
     "shell.execute_reply": "2022-03-20T14:41:16.430589Z"
    }
   },
   "outputs": [
    {
     "data": {
      "text/html": [
       "<table class=\"simpletable\">\n",
       "<caption>OLS Regression Results</caption>\n",
       "<tr>\n",
       "  <th>Dep. Variable:</th>            <td>y</td>        <th>  R-squared (uncentered):</th>      <td>   0.941</td>\n",
       "</tr>\n",
       "<tr>\n",
       "  <th>Model:</th>                   <td>OLS</td>       <th>  Adj. R-squared (uncentered):</th> <td>   0.941</td>\n",
       "</tr>\n",
       "<tr>\n",
       "  <th>Method:</th>             <td>Least Squares</td>  <th>  F-statistic:       </th>          <td>   7960.</td>\n",
       "</tr>\n",
       "<tr>\n",
       "  <th>Date:</th>             <td>Sun, 20 Mar 2022</td> <th>  Prob (F-statistic):</th>           <td>  0.00</td> \n",
       "</tr>\n",
       "<tr>\n",
       "  <th>Time:</th>                 <td>20:11:16</td>     <th>  Log-Likelihood:    </th>          <td> -1415.6</td>\n",
       "</tr>\n",
       "<tr>\n",
       "  <th>No. Observations:</th>      <td>  1000</td>      <th>  AIC:               </th>          <td>   2835.</td>\n",
       "</tr>\n",
       "<tr>\n",
       "  <th>Df Residuals:</th>          <td>   998</td>      <th>  BIC:               </th>          <td>   2845.</td>\n",
       "</tr>\n",
       "<tr>\n",
       "  <th>Df Model:</th>              <td>     2</td>      <th>                     </th>              <td> </td>   \n",
       "</tr>\n",
       "<tr>\n",
       "  <th>Covariance Type:</th>      <td>nonrobust</td>    <th>                     </th>              <td> </td>   \n",
       "</tr>\n",
       "</table>\n",
       "<table class=\"simpletable\">\n",
       "<tr>\n",
       "   <td></td>     <th>coef</th>     <th>std err</th>      <th>t</th>      <th>P>|t|</th>  <th>[0.025</th>    <th>0.975]</th>  \n",
       "</tr>\n",
       "<tr>\n",
       "  <th>x1</th> <td>    1.5066</td> <td>    0.031</td> <td>   48.447</td> <td> 0.000</td> <td>    1.446</td> <td>    1.568</td>\n",
       "</tr>\n",
       "<tr>\n",
       "  <th>x2</th> <td>    5.0092</td> <td>    0.050</td> <td>   99.802</td> <td> 0.000</td> <td>    4.911</td> <td>    5.108</td>\n",
       "</tr>\n",
       "</table>\n",
       "<table class=\"simpletable\">\n",
       "<tr>\n",
       "  <th>Omnibus:</th>       <td> 1.385</td> <th>  Durbin-Watson:     </th> <td>   2.099</td>\n",
       "</tr>\n",
       "<tr>\n",
       "  <th>Prob(Omnibus):</th> <td> 0.500</td> <th>  Jarque-Bera (JB):  </th> <td>   1.435</td>\n",
       "</tr>\n",
       "<tr>\n",
       "  <th>Skew:</th>          <td> 0.088</td> <th>  Prob(JB):          </th> <td>   0.488</td>\n",
       "</tr>\n",
       "<tr>\n",
       "  <th>Kurtosis:</th>      <td> 2.942</td> <th>  Cond. No.          </th> <td>    1.74</td>\n",
       "</tr>\n",
       "</table><br/><br/>Notes:<br/>[1] R² is computed without centering (uncentered) since the model does not contain a constant.<br/>[2] Standard Errors assume that the covariance matrix of the errors is correctly specified."
      ],
      "text/plain": [
       "<class 'statsmodels.iolib.summary.Summary'>\n",
       "\"\"\"\n",
       "                                 OLS Regression Results                                \n",
       "=======================================================================================\n",
       "Dep. Variable:                      y   R-squared (uncentered):                   0.941\n",
       "Model:                            OLS   Adj. R-squared (uncentered):              0.941\n",
       "Method:                 Least Squares   F-statistic:                              7960.\n",
       "Date:                Sun, 20 Mar 2022   Prob (F-statistic):                        0.00\n",
       "Time:                        20:11:16   Log-Likelihood:                         -1415.6\n",
       "No. Observations:                1000   AIC:                                      2835.\n",
       "Df Residuals:                     998   BIC:                                      2845.\n",
       "Df Model:                           2                                                  \n",
       "Covariance Type:            nonrobust                                                  \n",
       "==============================================================================\n",
       "                 coef    std err          t      P>|t|      [0.025      0.975]\n",
       "------------------------------------------------------------------------------\n",
       "x1             1.5066      0.031     48.447      0.000       1.446       1.568\n",
       "x2             5.0092      0.050     99.802      0.000       4.911       5.108\n",
       "==============================================================================\n",
       "Omnibus:                        1.385   Durbin-Watson:                   2.099\n",
       "Prob(Omnibus):                  0.500   Jarque-Bera (JB):                1.435\n",
       "Skew:                           0.088   Prob(JB):                        0.488\n",
       "Kurtosis:                       2.942   Cond. No.                         1.74\n",
       "==============================================================================\n",
       "\n",
       "Notes:\n",
       "[1] R² is computed without centering (uncentered) since the model does not contain a constant.\n",
       "[2] Standard Errors assume that the covariance matrix of the errors is correctly specified.\n",
       "\"\"\""
      ]
     },
     "execution_count": 10,
     "metadata": {},
     "output_type": "execute_result"
    }
   ],
   "source": [
    "model = OLS(np.asarray(df[outcome]), np.asarray(df[[common_cause, treatment]], dtype=np.float64))\n",
    "result = model.fit()\n",
    "result.summary()"
   ]
  }
 ],
 "metadata": {
  "kernelspec": {
   "display_name": "Python 3",
   "language": "python",
   "name": "python3"
  },
  "language_info": {
   "codemirror_mode": {
    "name": "ipython",
    "version": 3
   },
   "file_extension": ".py",
   "mimetype": "text/x-python",
   "name": "python",
   "nbconvert_exporter": "python",
   "pygments_lexer": "ipython3",
   "version": "3.8.12"
  },
  "toc": {
   "base_numbering": 1,
   "nav_menu": {},
   "number_sections": false,
   "sideBar": true,
   "skip_h1_title": true,
   "title_cell": "Table of Contents",
   "title_sidebar": "Contents",
   "toc_cell": false,
   "toc_position": {},
   "toc_section_display": true,
   "toc_window_display": false
  }
 },
 "nbformat": 4,
 "nbformat_minor": 4
}
