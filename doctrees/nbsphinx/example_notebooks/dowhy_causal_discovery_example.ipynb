{
 "cells": [
  {
   "cell_type": "markdown",
   "metadata": {},
   "source": [
    "# Causal Discovery example\n",
    "\n",
    "The goal of this notebook is to show how causal discovery methods can work with DoWhy. We use discovery methods from [Causal Discovery Tool (CDT)](https://github.com/FenTechSolutions/CausalDiscoveryToolbox) repo. As we will see, causal discovery methods are not fool-proof and there is no guarantee that they will recover the correct causal graph. Even for the simple examples below, there is a large variance in results. These methods, however, may be combined usefully with domain knowledge to construct the final causal graph."
   ]
  },
  {
   "cell_type": "code",
   "execution_count": 1,
   "metadata": {
    "execution": {
     "iopub.execute_input": "2022-03-20T14:41:21.022906Z",
     "iopub.status.busy": "2022-03-20T14:41:21.021564Z",
     "iopub.status.idle": "2022-03-20T14:41:27.196563Z",
     "shell.execute_reply": "2022-03-20T14:41:27.197623Z"
    }
   },
   "outputs": [],
   "source": [
    "import dowhy\n",
    "from dowhy import CausalModel\n",
    "\n",
    "from rpy2.robjects import r as R\n",
    "%load_ext rpy2.ipython\n",
    "\n",
    "import numpy as np\n",
    "import pandas as pd\n",
    "import graphviz\n",
    "import networkx as nx \n",
    "\n",
    "np.set_printoptions(precision=3, suppress=True)\n",
    "np.random.seed(0)"
   ]
  },
  {
   "cell_type": "markdown",
   "metadata": {},
   "source": [
    "## Utility function\n",
    "We define a utility function to draw the directed acyclic graph."
   ]
  },
  {
   "cell_type": "code",
   "execution_count": 2,
   "metadata": {
    "execution": {
     "iopub.execute_input": "2022-03-20T14:41:27.213757Z",
     "iopub.status.busy": "2022-03-20T14:41:27.213131Z",
     "iopub.status.idle": "2022-03-20T14:41:27.217885Z",
     "shell.execute_reply": "2022-03-20T14:41:27.216802Z"
    }
   },
   "outputs": [],
   "source": [
    "def make_graph(adjacency_matrix, labels=None):\n",
    "    idx = np.abs(adjacency_matrix) > 0.01\n",
    "    dirs = np.where(idx)\n",
    "    d = graphviz.Digraph(engine='dot')\n",
    "    names = labels if labels else [f'x{i}' for i in range(len(adjacency_matrix))]\n",
    "    for name in names:\n",
    "        d.node(name)\n",
    "    for to, from_, coef in zip(dirs[0], dirs[1], adjacency_matrix[idx]):\n",
    "        d.edge(names[from_], names[to], label=str(coef))\n",
    "    return d\n",
    "\n",
    "def str_to_dot(string):\n",
    "    '''\n",
    "    Converts input string from graphviz library to valid DOT graph format.\n",
    "    '''\n",
    "    graph = string.replace('\\n', ';').replace('\\t','')\n",
    "    graph = graph[:9] + graph[10:-2] + graph[-1] # Removing unnecessary characters from string\n",
    "    return graph"
   ]
  },
  {
   "cell_type": "markdown",
   "metadata": {},
   "source": [
    "# Experiments on the Auto-MPG dataset\n",
    "\n",
    "In this section, we will use a dataset on the technical specification of cars. The dataset is downloaded from UCI Machine Learning Repository. The dataset contains 9 attributes and 398 instances. We do not know the true causal graph for the dataset and will use CDT to discover it. The causal graph obtained will then be used to estimate the causal effect.\n"
   ]
  },
  {
   "cell_type": "markdown",
   "metadata": {},
   "source": [
    "## 1. Load the data"
   ]
  },
  {
   "cell_type": "code",
   "execution_count": 3,
   "metadata": {
    "execution": {
     "iopub.execute_input": "2022-03-20T14:41:27.227466Z",
     "iopub.status.busy": "2022-03-20T14:41:27.226184Z",
     "iopub.status.idle": "2022-03-20T14:41:28.264665Z",
     "shell.execute_reply": "2022-03-20T14:41:28.265707Z"
    }
   },
   "outputs": [
    {
     "name": "stdout",
     "output_type": "stream",
     "text": [
      "(392, 6)\n"
     ]
    },
    {
     "data": {
      "text/html": [
       "<div>\n",
       "<style scoped>\n",
       "    .dataframe tbody tr th:only-of-type {\n",
       "        vertical-align: middle;\n",
       "    }\n",
       "\n",
       "    .dataframe tbody tr th {\n",
       "        vertical-align: top;\n",
       "    }\n",
       "\n",
       "    .dataframe thead th {\n",
       "        text-align: right;\n",
       "    }\n",
       "</style>\n",
       "<table border=\"1\" class=\"dataframe\">\n",
       "  <thead>\n",
       "    <tr style=\"text-align: right;\">\n",
       "      <th></th>\n",
       "      <th>mpg</th>\n",
       "      <th>cylinders</th>\n",
       "      <th>displacement</th>\n",
       "      <th>horsepower</th>\n",
       "      <th>weight</th>\n",
       "      <th>acceleration</th>\n",
       "    </tr>\n",
       "  </thead>\n",
       "  <tbody>\n",
       "    <tr>\n",
       "      <th>0</th>\n",
       "      <td>18.0</td>\n",
       "      <td>8.0</td>\n",
       "      <td>307.0</td>\n",
       "      <td>130.0</td>\n",
       "      <td>3504.0</td>\n",
       "      <td>12.0</td>\n",
       "    </tr>\n",
       "    <tr>\n",
       "      <th>1</th>\n",
       "      <td>15.0</td>\n",
       "      <td>8.0</td>\n",
       "      <td>350.0</td>\n",
       "      <td>165.0</td>\n",
       "      <td>3693.0</td>\n",
       "      <td>11.5</td>\n",
       "    </tr>\n",
       "    <tr>\n",
       "      <th>2</th>\n",
       "      <td>18.0</td>\n",
       "      <td>8.0</td>\n",
       "      <td>318.0</td>\n",
       "      <td>150.0</td>\n",
       "      <td>3436.0</td>\n",
       "      <td>11.0</td>\n",
       "    </tr>\n",
       "    <tr>\n",
       "      <th>3</th>\n",
       "      <td>16.0</td>\n",
       "      <td>8.0</td>\n",
       "      <td>304.0</td>\n",
       "      <td>150.0</td>\n",
       "      <td>3433.0</td>\n",
       "      <td>12.0</td>\n",
       "    </tr>\n",
       "    <tr>\n",
       "      <th>4</th>\n",
       "      <td>17.0</td>\n",
       "      <td>8.0</td>\n",
       "      <td>302.0</td>\n",
       "      <td>140.0</td>\n",
       "      <td>3449.0</td>\n",
       "      <td>10.5</td>\n",
       "    </tr>\n",
       "  </tbody>\n",
       "</table>\n",
       "</div>"
      ],
      "text/plain": [
       "    mpg  cylinders  displacement  horsepower  weight  acceleration\n",
       "0  18.0        8.0         307.0       130.0  3504.0          12.0\n",
       "1  15.0        8.0         350.0       165.0  3693.0          11.5\n",
       "2  18.0        8.0         318.0       150.0  3436.0          11.0\n",
       "3  16.0        8.0         304.0       150.0  3433.0          12.0\n",
       "4  17.0        8.0         302.0       140.0  3449.0          10.5"
      ]
     },
     "execution_count": 3,
     "metadata": {},
     "output_type": "execute_result"
    }
   ],
   "source": [
    "data_mpg = pd.read_csv('http://archive.ics.uci.edu/ml/machine-learning-databases/auto-mpg/auto-mpg.data-original',\n",
    "                   delim_whitespace=True, header=None,\n",
    "                   names = ['mpg', 'cylinders', 'displacement',\n",
    "                            'horsepower', 'weight', 'acceleration',\n",
    "                            'model year', 'origin', 'car name'])\n",
    "data_mpg.dropna(inplace=True)\n",
    "data_mpg.drop(['model year', 'origin', 'car name'], axis=1, inplace=True)\n",
    "print(data_mpg.shape)\n",
    "data_mpg.head()"
   ]
  },
  {
   "cell_type": "markdown",
   "metadata": {},
   "source": [
    "# Causal Discovery with Causal Discovery Tool (CDT)\n",
    "\n",
    "We use the CDT library to perform causal discovery on the Auto-MPG dataset. We use three methods for causal discovery here -LiNGAM, PC and GES. These methods are widely used and do not take much time to run. Hence, these are ideal for an introduction to the topic. Other neural network based methods are also available in CDT and the users are encouraged to try them out by themselves. \n",
    "\n",
    "The documentation for the methods used are as follows:\n",
    "- LiNGAM [[link]](https://fentechsolutions.github.io/CausalDiscoveryToolbox/html/_modules/cdt/causality/graph/LiNGAM.html)\n",
    "- PC [[link]](https://fentechsolutions.github.io/CausalDiscoveryToolbox/html/_modules/cdt/causality/graph/PC.html)\n",
    "- GES [[link]](https://fentechsolutions.github.io/CausalDiscoveryToolbox/html/_modules/cdt/causality/graph/GES.html)"
   ]
  },
  {
   "cell_type": "code",
   "execution_count": 4,
   "metadata": {
    "execution": {
     "iopub.execute_input": "2022-03-20T14:41:28.277149Z",
     "iopub.status.busy": "2022-03-20T14:41:28.275814Z",
     "iopub.status.idle": "2022-03-20T14:41:47.266163Z",
     "shell.execute_reply": "2022-03-20T14:41:47.265485Z"
    }
   },
   "outputs": [
    {
     "name": "stderr",
     "output_type": "stream",
     "text": [
      "No GPU automatically detected. Setting SETTINGS.GPU to 0, and SETTINGS.NJOBS to cpu_count.\n"
     ]
    },
    {
     "name": "stdout",
     "output_type": "stream",
     "text": [
      "Method : LiNGAM\n"
     ]
    },
    {
     "data": {
      "image/svg+xml": [
       "<?xml version=\"1.0\" encoding=\"UTF-8\" standalone=\"no\"?>\n",
       "<!DOCTYPE svg PUBLIC \"-//W3C//DTD SVG 1.1//EN\"\n",
       " \"http://www.w3.org/Graphics/SVG/1.1/DTD/svg11.dtd\">\n",
       "<!-- Generated by graphviz version 2.40.1 (20161225.0304)\n",
       " -->\n",
       "<!-- Title: %3 Pages: 1 -->\n",
       "<svg width=\"636pt\" height=\"392pt\"\n",
       " viewBox=\"0.00 0.00 635.81 392.00\" xmlns=\"http://www.w3.org/2000/svg\" xmlns:xlink=\"http://www.w3.org/1999/xlink\">\n",
       "<g id=\"graph0\" class=\"graph\" transform=\"scale(1 1) rotate(0) translate(4 388)\">\n",
       "<title>%3</title>\n",
       "<polygon fill=\"#ffffff\" stroke=\"transparent\" points=\"-4,4 -4,-388 631.8089,-388 631.8089,4 -4,4\"/>\n",
       "<!-- mpg -->\n",
       "<g id=\"node1\" class=\"node\">\n",
       "<title>mpg</title>\n",
       "<ellipse fill=\"none\" stroke=\"#000000\" cx=\"76.8089\" cy=\"-279\" rx=\"27\" ry=\"18\"/>\n",
       "<text text-anchor=\"middle\" x=\"76.8089\" y=\"-275.3\" font-family=\"Times,serif\" font-size=\"14.00\" fill=\"#000000\">mpg</text>\n",
       "</g>\n",
       "<!-- displacement -->\n",
       "<g id=\"node3\" class=\"node\">\n",
       "<title>displacement</title>\n",
       "<ellipse fill=\"none\" stroke=\"#000000\" cx=\"235.8089\" cy=\"-105\" rx=\"57.6901\" ry=\"18\"/>\n",
       "<text text-anchor=\"middle\" x=\"235.8089\" y=\"-101.3\" font-family=\"Times,serif\" font-size=\"14.00\" fill=\"#000000\">displacement</text>\n",
       "</g>\n",
       "<!-- mpg&#45;&gt;displacement -->\n",
       "<g id=\"edge2\" class=\"edge\">\n",
       "<title>mpg&#45;&gt;displacement</title>\n",
       "<path fill=\"none\" stroke=\"#000000\" d=\"M76.0856,-260.9864C76.1585,-237.9172 79.7975,-198.0544 101.8089,-174 124.1684,-149.5652 157.176,-132.425 184.8358,-121.3395\"/>\n",
       "<polygon fill=\"#000000\" stroke=\"#000000\" points=\"186.2954,-124.5281 194.3702,-117.6689 183.7804,-117.9955 186.2954,-124.5281\"/>\n",
       "<text text-anchor=\"middle\" x=\"156.8089\" y=\"-188.3\" font-family=\"Times,serif\" font-size=\"14.00\" fill=\"#000000\">&#45;2.03256227570648</text>\n",
       "</g>\n",
       "<!-- horsepower -->\n",
       "<g id=\"node4\" class=\"node\">\n",
       "<title>horsepower</title>\n",
       "<ellipse fill=\"none\" stroke=\"#000000\" cx=\"346.8089\" cy=\"-192\" rx=\"51.9908\" ry=\"18\"/>\n",
       "<text text-anchor=\"middle\" x=\"346.8089\" y=\"-188.3\" font-family=\"Times,serif\" font-size=\"14.00\" fill=\"#000000\">horsepower</text>\n",
       "</g>\n",
       "<!-- mpg&#45;&gt;horsepower -->\n",
       "<g id=\"edge5\" class=\"edge\">\n",
       "<title>mpg&#45;&gt;horsepower</title>\n",
       "<path fill=\"none\" stroke=\"#000000\" d=\"M78.1276,-260.9987C79.9348,-249.8119 84.1332,-236.0705 93.8089,-228 101.2015,-221.8338 214.8922,-207.4779 287.3273,-198.8737\"/>\n",
       "<polygon fill=\"#000000\" stroke=\"#000000\" points=\"287.7393,-202.3494 297.259,-197.6992 286.9172,-195.3978 287.7393,-202.3494\"/>\n",
       "<text text-anchor=\"middle\" x=\"148.8089\" y=\"-231.8\" font-family=\"Times,serif\" font-size=\"14.00\" fill=\"#000000\">&#45;2.34003517426168</text>\n",
       "</g>\n",
       "<!-- weight -->\n",
       "<g id=\"node5\" class=\"node\">\n",
       "<title>weight</title>\n",
       "<ellipse fill=\"none\" stroke=\"#000000\" cx=\"334.8089\" cy=\"-18\" rx=\"34.394\" ry=\"18\"/>\n",
       "<text text-anchor=\"middle\" x=\"334.8089\" y=\"-14.3\" font-family=\"Times,serif\" font-size=\"14.00\" fill=\"#000000\">weight</text>\n",
       "</g>\n",
       "<!-- mpg&#45;&gt;weight -->\n",
       "<g id=\"edge8\" class=\"edge\">\n",
       "<title>mpg&#45;&gt;weight</title>\n",
       "<path fill=\"none\" stroke=\"#000000\" d=\"M59.8247,-264.535C31.3836,-238.5382 -20.0544,-182.7395 8.8089,-141 42.2983,-92.5706 213.372,-46.669 293.4134,-27.4563\"/>\n",
       "<polygon fill=\"#000000\" stroke=\"#000000\" points=\"294.2458,-30.856 303.1661,-25.1394 292.6279,-24.0456 294.2458,-30.856\"/>\n",
       "<text text-anchor=\"middle\" x=\"63.8089\" y=\"-144.8\" font-family=\"Times,serif\" font-size=\"14.00\" fill=\"#000000\">&#45;33.5886541842027</text>\n",
       "</g>\n",
       "<!-- cylinders -->\n",
       "<g id=\"node2\" class=\"node\">\n",
       "<title>cylinders</title>\n",
       "<ellipse fill=\"none\" stroke=\"#000000\" cx=\"283.8089\" cy=\"-366\" rx=\"42.7926\" ry=\"18\"/>\n",
       "<text text-anchor=\"middle\" x=\"283.8089\" y=\"-362.3\" font-family=\"Times,serif\" font-size=\"14.00\" fill=\"#000000\">cylinders</text>\n",
       "</g>\n",
       "<!-- cylinders&#45;&gt;mpg -->\n",
       "<g id=\"edge1\" class=\"edge\">\n",
       "<title>cylinders&#45;&gt;mpg</title>\n",
       "<path fill=\"none\" stroke=\"#000000\" d=\"M241.6819,-362.0065C194.9395,-356.8371 123.263,-346.4846 101.8089,-330 94.1963,-324.1507 88.7581,-315.3741 84.9414,-306.7427\"/>\n",
       "<polygon fill=\"#000000\" stroke=\"#000000\" points=\"88.1397,-305.3076 81.2919,-297.2231 81.6036,-307.8134 88.1397,-305.3076\"/>\n",
       "<text text-anchor=\"middle\" x=\"156.8089\" y=\"-318.8\" font-family=\"Times,serif\" font-size=\"14.00\" fill=\"#000000\">&#45;2.88980482664149</text>\n",
       "</g>\n",
       "<!-- cylinders&#45;&gt;displacement -->\n",
       "<g id=\"edge3\" class=\"edge\">\n",
       "<title>cylinders&#45;&gt;displacement</title>\n",
       "<path fill=\"none\" stroke=\"#000000\" d=\"M271.9553,-348.6543C257.0517,-325.6918 232.2721,-283.3806 222.8089,-243 214.0452,-205.6041 221.2628,-161.1956 227.9404,-133.0554\"/>\n",
       "<polygon fill=\"#000000\" stroke=\"#000000\" points=\"231.3955,-133.667 230.4388,-123.1154 224.6066,-131.9606 231.3955,-133.667\"/>\n",
       "<text text-anchor=\"middle\" x=\"275.8089\" y=\"-231.8\" font-family=\"Times,serif\" font-size=\"14.00\" fill=\"#000000\">36.0048676951333</text>\n",
       "</g>\n",
       "<!-- cylinders&#45;&gt;horsepower -->\n",
       "<g id=\"edge6\" class=\"edge\">\n",
       "<title>cylinders&#45;&gt;horsepower</title>\n",
       "<path fill=\"none\" stroke=\"#000000\" d=\"M291.7569,-347.8973C302.0269,-324.1163 320.0944,-280.9214 332.8089,-243 335.2972,-235.5786 337.6808,-227.4444 339.7534,-219.8951\"/>\n",
       "<polygon fill=\"#000000\" stroke=\"#000000\" points=\"343.1746,-220.649 342.3677,-210.085 336.4106,-218.8465 343.1746,-220.649\"/>\n",
       "<text text-anchor=\"middle\" x=\"379.8089\" y=\"-275.3\" font-family=\"Times,serif\" font-size=\"14.00\" fill=\"#000000\">6.11319623482435</text>\n",
       "</g>\n",
       "<!-- acceleration -->\n",
       "<g id=\"node6\" class=\"node\">\n",
       "<title>acceleration</title>\n",
       "<ellipse fill=\"none\" stroke=\"#000000\" cx=\"522.8089\" cy=\"-279\" rx=\"53.0913\" ry=\"18\"/>\n",
       "<text text-anchor=\"middle\" x=\"522.8089\" y=\"-275.3\" font-family=\"Times,serif\" font-size=\"14.00\" fill=\"#000000\">acceleration</text>\n",
       "</g>\n",
       "<!-- cylinders&#45;&gt;acceleration -->\n",
       "<g id=\"edge12\" class=\"edge\">\n",
       "<title>cylinders&#45;&gt;acceleration</title>\n",
       "<path fill=\"none\" stroke=\"#000000\" d=\"M316.5397,-354.0854C357.9557,-339.0093 429.5404,-312.9513 476.536,-295.8441\"/>\n",
       "<polygon fill=\"#000000\" stroke=\"#000000\" points=\"477.9718,-299.0462 486.1714,-292.3367 475.5774,-292.4684 477.9718,-299.0462\"/>\n",
       "<text text-anchor=\"middle\" x=\"476.3089\" y=\"-318.8\" font-family=\"Times,serif\" font-size=\"14.00\" fill=\"#000000\">&#45;0.644482628348415</text>\n",
       "</g>\n",
       "<!-- displacement&#45;&gt;weight -->\n",
       "<g id=\"edge9\" class=\"edge\">\n",
       "<title>displacement&#45;&gt;weight</title>\n",
       "<path fill=\"none\" stroke=\"#000000\" d=\"M243.4227,-86.7835C248.5442,-76.2076 256.1291,-63.1998 265.8089,-54 274.8376,-45.419 286.3115,-38.3498 297.2986,-32.8163\"/>\n",
       "<polygon fill=\"#000000\" stroke=\"#000000\" points=\"298.8095,-35.9735 306.349,-28.5299 295.8132,-29.6471 298.8095,-35.9735\"/>\n",
       "<text text-anchor=\"middle\" x=\"318.8089\" y=\"-57.8\" font-family=\"Times,serif\" font-size=\"14.00\" fill=\"#000000\">4.39362650060749</text>\n",
       "</g>\n",
       "<!-- horsepower&#45;&gt;displacement -->\n",
       "<g id=\"edge4\" class=\"edge\">\n",
       "<title>horsepower&#45;&gt;displacement</title>\n",
       "<path fill=\"none\" stroke=\"#000000\" d=\"M304.2297,-181.4048C288.7771,-175.8731 272.1119,-167.732 259.8089,-156 253.09,-149.5929 248.0549,-140.9301 244.3783,-132.5635\"/>\n",
       "<polygon fill=\"#000000\" stroke=\"#000000\" points=\"247.5566,-131.0796 240.6669,-123.0308 241.0335,-133.6193 247.5566,-131.0796\"/>\n",
       "<text text-anchor=\"middle\" x=\"315.8089\" y=\"-144.8\" font-family=\"Times,serif\" font-size=\"14.00\" fill=\"#000000\">0.766763598436459</text>\n",
       "</g>\n",
       "<!-- horsepower&#45;&gt;weight -->\n",
       "<g id=\"edge10\" class=\"edge\">\n",
       "<title>horsepower&#45;&gt;weight</title>\n",
       "<path fill=\"none\" stroke=\"#000000\" d=\"M362.1301,-174.4636C366.0647,-168.925 369.7623,-162.5353 371.8089,-156 385.3571,-112.7385 389.4437,-95.7627 371.8089,-54 369.6299,-48.8397 366.3095,-44.0533 362.5349,-39.7658\"/>\n",
       "<polygon fill=\"#000000\" stroke=\"#000000\" points=\"364.9396,-37.2205 355.3985,-32.6142 359.9845,-42.165 364.9396,-37.2205\"/>\n",
       "<text text-anchor=\"middle\" x=\"436.8089\" y=\"-101.3\" font-family=\"Times,serif\" font-size=\"14.00\" fill=\"#000000\">8.57936162097385</text>\n",
       "</g>\n",
       "<!-- acceleration&#45;&gt;horsepower -->\n",
       "<g id=\"edge7\" class=\"edge\">\n",
       "<title>acceleration&#45;&gt;horsepower</title>\n",
       "<path fill=\"none\" stroke=\"#000000\" d=\"M481.2124,-267.5549C446.3167,-257.8694 401.5656,-245.2158 397.8089,-243 386.3495,-236.2409 375.6171,-226.3073 366.9823,-216.9985\"/>\n",
       "<polygon fill=\"#000000\" stroke=\"#000000\" points=\"369.5061,-214.5692 360.2525,-209.4095 364.2687,-219.2136 369.5061,-214.5692\"/>\n",
       "<text text-anchor=\"middle\" x=\"452.8089\" y=\"-231.8\" font-family=\"Times,serif\" font-size=\"14.00\" fill=\"#000000\">&#45;4.84723964549182</text>\n",
       "</g>\n",
       "<!-- acceleration&#45;&gt;weight -->\n",
       "<g id=\"edge11\" class=\"edge\">\n",
       "<title>acceleration&#45;&gt;weight</title>\n",
       "<path fill=\"none\" stroke=\"#000000\" d=\"M525.415,-260.9343C529.6908,-224.0975 534.0919,-139.3746 493.8089,-87 465.8886,-50.6989 414.9704,-33.1731 378.2665,-24.9287\"/>\n",
       "<polygon fill=\"#000000\" stroke=\"#000000\" points=\"378.8277,-21.4703 368.322,-22.8416 377.3899,-28.3211 378.8277,-21.4703\"/>\n",
       "<text text-anchor=\"middle\" x=\"574.8089\" y=\"-144.8\" font-family=\"Times,serif\" font-size=\"14.00\" fill=\"#000000\">57.9680558738442</text>\n",
       "</g>\n",
       "</g>\n",
       "</svg>\n"
      ],
      "text/plain": [
       "<graphviz.dot.Digraph at 0x7f8144cf6a30>"
      ]
     },
     "metadata": {},
     "output_type": "display_data"
    },
    {
     "name": "stdout",
     "output_type": "stream",
     "text": [
      "Method : PC\n"
     ]
    },
    {
     "data": {
      "image/svg+xml": [
       "<?xml version=\"1.0\" encoding=\"UTF-8\" standalone=\"no\"?>\n",
       "<!DOCTYPE svg PUBLIC \"-//W3C//DTD SVG 1.1//EN\"\n",
       " \"http://www.w3.org/Graphics/SVG/1.1/DTD/svg11.dtd\">\n",
       "<!-- Generated by graphviz version 2.40.1 (20161225.0304)\n",
       " -->\n",
       "<!-- Title: %3 Pages: 1 -->\n",
       "<svg width=\"339pt\" height=\"305pt\"\n",
       " viewBox=\"0.00 0.00 338.84 305.00\" xmlns=\"http://www.w3.org/2000/svg\" xmlns:xlink=\"http://www.w3.org/1999/xlink\">\n",
       "<g id=\"graph0\" class=\"graph\" transform=\"scale(1 1) rotate(0) translate(4 301)\">\n",
       "<title>%3</title>\n",
       "<polygon fill=\"#ffffff\" stroke=\"transparent\" points=\"-4,4 -4,-301 334.8449,-301 334.8449,4 -4,4\"/>\n",
       "<!-- mpg -->\n",
       "<g id=\"node1\" class=\"node\">\n",
       "<title>mpg</title>\n",
       "<ellipse fill=\"none\" stroke=\"#000000\" cx=\"248.8449\" cy=\"-279\" rx=\"27\" ry=\"18\"/>\n",
       "<text text-anchor=\"middle\" x=\"248.8449\" y=\"-275.3\" font-family=\"Times,serif\" font-size=\"14.00\" fill=\"#000000\">mpg</text>\n",
       "</g>\n",
       "<!-- horsepower -->\n",
       "<g id=\"node4\" class=\"node\">\n",
       "<title>horsepower</title>\n",
       "<ellipse fill=\"none\" stroke=\"#000000\" cx=\"176.8449\" cy=\"-192\" rx=\"51.9908\" ry=\"18\"/>\n",
       "<text text-anchor=\"middle\" x=\"176.8449\" y=\"-188.3\" font-family=\"Times,serif\" font-size=\"14.00\" fill=\"#000000\">horsepower</text>\n",
       "</g>\n",
       "<!-- mpg&#45;&gt;horsepower -->\n",
       "<g id=\"edge7\" class=\"edge\">\n",
       "<title>mpg&#45;&gt;horsepower</title>\n",
       "<path fill=\"none\" stroke=\"#000000\" d=\"M225.125,-270.1411C212.5475,-264.2753 197.8715,-255.3613 188.8449,-243 184.0707,-236.4622 181.1657,-228.3061 179.4072,-220.4471\"/>\n",
       "<polygon fill=\"#000000\" stroke=\"#000000\" points=\"182.8327,-219.7139 177.6952,-210.448 175.9331,-220.8952 182.8327,-219.7139\"/>\n",
       "<text text-anchor=\"middle\" x=\"197.8449\" y=\"-231.8\" font-family=\"Times,serif\" font-size=\"14.00\" fill=\"#000000\">1.0</text>\n",
       "</g>\n",
       "<!-- weight -->\n",
       "<g id=\"node5\" class=\"node\">\n",
       "<title>weight</title>\n",
       "<ellipse fill=\"none\" stroke=\"#000000\" cx=\"183.8449\" cy=\"-18\" rx=\"34.394\" ry=\"18\"/>\n",
       "<text text-anchor=\"middle\" x=\"183.8449\" y=\"-14.3\" font-family=\"Times,serif\" font-size=\"14.00\" fill=\"#000000\">weight</text>\n",
       "</g>\n",
       "<!-- mpg&#45;&gt;weight -->\n",
       "<g id=\"edge10\" class=\"edge\">\n",
       "<title>mpg&#45;&gt;weight</title>\n",
       "<path fill=\"none\" stroke=\"#000000\" d=\"M253.0991,-260.9759C260.4617,-225.9675 272.6361,-146.9519 248.8449,-87 241.3854,-68.2027 226.1105,-51.5529 212.2419,-39.3201\"/>\n",
       "<polygon fill=\"#000000\" stroke=\"#000000\" points=\"214.2137,-36.405 204.3085,-32.6451 209.707,-41.7614 214.2137,-36.405\"/>\n",
       "<text text-anchor=\"middle\" x=\"271.8449\" y=\"-144.8\" font-family=\"Times,serif\" font-size=\"14.00\" fill=\"#000000\">1.0</text>\n",
       "</g>\n",
       "<!-- cylinders -->\n",
       "<g id=\"node2\" class=\"node\">\n",
       "<title>cylinders</title>\n",
       "<ellipse fill=\"none\" stroke=\"#000000\" cx=\"74.8449\" cy=\"-18\" rx=\"42.7926\" ry=\"18\"/>\n",
       "<text text-anchor=\"middle\" x=\"74.8449\" y=\"-14.3\" font-family=\"Times,serif\" font-size=\"14.00\" fill=\"#000000\">cylinders</text>\n",
       "</g>\n",
       "<!-- displacement -->\n",
       "<g id=\"node3\" class=\"node\">\n",
       "<title>displacement</title>\n",
       "<ellipse fill=\"none\" stroke=\"#000000\" cx=\"57.8449\" cy=\"-105\" rx=\"57.6901\" ry=\"18\"/>\n",
       "<text text-anchor=\"middle\" x=\"57.8449\" y=\"-101.3\" font-family=\"Times,serif\" font-size=\"14.00\" fill=\"#000000\">displacement</text>\n",
       "</g>\n",
       "<!-- cylinders&#45;&gt;displacement -->\n",
       "<g id=\"edge4\" class=\"edge\">\n",
       "<title>cylinders&#45;&gt;displacement</title>\n",
       "<path fill=\"none\" stroke=\"#000000\" d=\"M71.327,-36.0034C69.0258,-47.7801 65.9716,-63.4102 63.3522,-76.8156\"/>\n",
       "<polygon fill=\"#000000\" stroke=\"#000000\" points=\"59.8501,-76.4879 61.3673,-86.9735 66.7201,-77.8304 59.8501,-76.4879\"/>\n",
       "<text text-anchor=\"middle\" x=\"76.8449\" y=\"-57.8\" font-family=\"Times,serif\" font-size=\"14.00\" fill=\"#000000\">1.0</text>\n",
       "</g>\n",
       "<!-- displacement&#45;&gt;cylinders -->\n",
       "<g id=\"edge3\" class=\"edge\">\n",
       "<title>displacement&#45;&gt;cylinders</title>\n",
       "<path fill=\"none\" stroke=\"#000000\" d=\"M44.5976,-87.4115C38.8204,-77.5256 34.2889,-64.9991 38.8449,-54 40.7327,-49.4423 43.5085,-45.1608 46.6954,-41.2517\"/>\n",
       "<polygon fill=\"#000000\" stroke=\"#000000\" points=\"49.4012,-43.4821 53.6614,-33.7815 44.2817,-38.7081 49.4012,-43.4821\"/>\n",
       "<text text-anchor=\"middle\" x=\"47.8449\" y=\"-57.8\" font-family=\"Times,serif\" font-size=\"14.00\" fill=\"#000000\">1.0</text>\n",
       "</g>\n",
       "<!-- displacement&#45;&gt;horsepower -->\n",
       "<g id=\"edge8\" class=\"edge\">\n",
       "<title>displacement&#45;&gt;horsepower</title>\n",
       "<path fill=\"none\" stroke=\"#000000\" d=\"M80.5321,-121.5865C99.1999,-135.2343 125.8315,-154.7045 146.3608,-169.7133\"/>\n",
       "<polygon fill=\"#000000\" stroke=\"#000000\" points=\"144.3235,-172.5595 154.4619,-175.636 148.4549,-166.9086 144.3235,-172.5595\"/>\n",
       "<text text-anchor=\"middle\" x=\"133.8449\" y=\"-144.8\" font-family=\"Times,serif\" font-size=\"14.00\" fill=\"#000000\">1.0</text>\n",
       "</g>\n",
       "<!-- displacement&#45;&gt;weight -->\n",
       "<g id=\"edge11\" class=\"edge\">\n",
       "<title>displacement&#45;&gt;weight</title>\n",
       "<path fill=\"none\" stroke=\"#000000\" d=\"M81.8411,-88.4312C102.5164,-74.1554 132.4316,-53.4997 154.5224,-38.2465\"/>\n",
       "<polygon fill=\"#000000\" stroke=\"#000000\" points=\"156.6258,-41.0474 162.8661,-32.4853 152.6484,-35.2871 156.6258,-41.0474\"/>\n",
       "<text text-anchor=\"middle\" x=\"137.8449\" y=\"-57.8\" font-family=\"Times,serif\" font-size=\"14.00\" fill=\"#000000\">1.0</text>\n",
       "</g>\n",
       "<!-- horsepower&#45;&gt;mpg -->\n",
       "<g id=\"edge1\" class=\"edge\">\n",
       "<title>horsepower&#45;&gt;mpg</title>\n",
       "<path fill=\"none\" stroke=\"#000000\" d=\"M193.867,-209.2035C199.4288,-215.0379 205.537,-221.6803 210.8449,-228 217.8753,-236.3706 225.151,-245.8942 231.431,-254.4272\"/>\n",
       "<polygon fill=\"#000000\" stroke=\"#000000\" points=\"228.6236,-256.5177 237.3331,-262.5505 234.2867,-252.4031 228.6236,-256.5177\"/>\n",
       "<text text-anchor=\"middle\" x=\"230.8449\" y=\"-231.8\" font-family=\"Times,serif\" font-size=\"14.00\" fill=\"#000000\">1.0</text>\n",
       "</g>\n",
       "<!-- horsepower&#45;&gt;displacement -->\n",
       "<g id=\"edge5\" class=\"edge\">\n",
       "<title>horsepower&#45;&gt;displacement</title>\n",
       "<path fill=\"none\" stroke=\"#000000\" d=\"M128.9596,-184.9045C109.5863,-179.8008 88.4053,-171.0376 73.8449,-156 67.7872,-149.7438 64.0206,-141.221 61.6795,-132.9341\"/>\n",
       "<polygon fill=\"#000000\" stroke=\"#000000\" points=\"65.0796,-132.1007 59.4726,-123.1112 58.2498,-133.6352 65.0796,-132.1007\"/>\n",
       "<text text-anchor=\"middle\" x=\"82.8449\" y=\"-144.8\" font-family=\"Times,serif\" font-size=\"14.00\" fill=\"#000000\">1.0</text>\n",
       "</g>\n",
       "<!-- acceleration -->\n",
       "<g id=\"node6\" class=\"node\">\n",
       "<title>acceleration</title>\n",
       "<ellipse fill=\"none\" stroke=\"#000000\" cx=\"186.8449\" cy=\"-105\" rx=\"53.0913\" ry=\"18\"/>\n",
       "<text text-anchor=\"middle\" x=\"186.8449\" y=\"-101.3\" font-family=\"Times,serif\" font-size=\"14.00\" fill=\"#000000\">acceleration</text>\n",
       "</g>\n",
       "<!-- horsepower&#45;&gt;acceleration -->\n",
       "<g id=\"edge12\" class=\"edge\">\n",
       "<title>horsepower&#45;&gt;acceleration</title>\n",
       "<path fill=\"none\" stroke=\"#000000\" d=\"M165.0275,-174.0621C160.0593,-164.2878 156.1851,-151.9792 159.8449,-141 161.0261,-137.4563 162.7079,-133.9806 164.6621,-130.671\"/>\n",
       "<polygon fill=\"#000000\" stroke=\"#000000\" points=\"167.5814,-132.6022 170.3145,-122.366 161.7945,-128.6637 167.5814,-132.6022\"/>\n",
       "<text text-anchor=\"middle\" x=\"168.8449\" y=\"-144.8\" font-family=\"Times,serif\" font-size=\"14.00\" fill=\"#000000\">1.0</text>\n",
       "</g>\n",
       "<!-- weight&#45;&gt;mpg -->\n",
       "<g id=\"edge2\" class=\"edge\">\n",
       "<title>weight&#45;&gt;mpg</title>\n",
       "<path fill=\"none\" stroke=\"#000000\" d=\"M215.1625,-25.5184C240.6292,-32.3183 273.6395,-42.935 281.8449,-54 331.8798,-121.4722 314.5311,-165.6203 281.8449,-243 279.6592,-248.1743 276.3947,-253.0815 272.7561,-257.5133\"/>\n",
       "<polygon fill=\"#000000\" stroke=\"#000000\" points=\"270.1326,-255.1957 265.9549,-264.9321 275.2925,-259.926 270.1326,-255.1957\"/>\n",
       "<text text-anchor=\"middle\" x=\"321.8449\" y=\"-144.8\" font-family=\"Times,serif\" font-size=\"14.00\" fill=\"#000000\">1.0</text>\n",
       "</g>\n",
       "<!-- weight&#45;&gt;displacement -->\n",
       "<g id=\"edge6\" class=\"edge\">\n",
       "<title>weight&#45;&gt;displacement</title>\n",
       "<path fill=\"none\" stroke=\"#000000\" d=\"M177.2343,-36.1756C172.4785,-47.0045 165.0884,-60.2917 154.8449,-69 147.352,-75.3699 128.5223,-82.877 109.4248,-89.383\"/>\n",
       "<polygon fill=\"#000000\" stroke=\"#000000\" points=\"108.1648,-86.1134 99.7758,-92.5846 110.3692,-92.7573 108.1648,-86.1134\"/>\n",
       "<text text-anchor=\"middle\" x=\"176.8449\" y=\"-57.8\" font-family=\"Times,serif\" font-size=\"14.00\" fill=\"#000000\">1.0</text>\n",
       "</g>\n",
       "<!-- acceleration&#45;&gt;horsepower -->\n",
       "<g id=\"edge9\" class=\"edge\">\n",
       "<title>acceleration&#45;&gt;horsepower</title>\n",
       "<path fill=\"none\" stroke=\"#000000\" d=\"M184.7755,-123.0034C183.4219,-134.7801 181.6253,-150.4102 180.0844,-163.8156\"/>\n",
       "<polygon fill=\"#000000\" stroke=\"#000000\" points=\"176.5818,-163.6393 178.9169,-173.9735 183.536,-164.4387 176.5818,-163.6393\"/>\n",
       "<text text-anchor=\"middle\" x=\"191.8449\" y=\"-144.8\" font-family=\"Times,serif\" font-size=\"14.00\" fill=\"#000000\">1.0</text>\n",
       "</g>\n",
       "</g>\n",
       "</svg>\n"
      ],
      "text/plain": [
       "<graphviz.dot.Digraph at 0x7f8144cf6730>"
      ]
     },
     "metadata": {},
     "output_type": "display_data"
    },
    {
     "name": "stdout",
     "output_type": "stream",
     "text": [
      "Method : GES\n"
     ]
    },
    {
     "data": {
      "image/svg+xml": [
       "<?xml version=\"1.0\" encoding=\"UTF-8\" standalone=\"no\"?>\n",
       "<!DOCTYPE svg PUBLIC \"-//W3C//DTD SVG 1.1//EN\"\n",
       " \"http://www.w3.org/Graphics/SVG/1.1/DTD/svg11.dtd\">\n",
       "<!-- Generated by graphviz version 2.40.1 (20161225.0304)\n",
       " -->\n",
       "<!-- Title: %3 Pages: 1 -->\n",
       "<svg width=\"425pt\" height=\"218pt\"\n",
       " viewBox=\"0.00 0.00 424.93 218.00\" xmlns=\"http://www.w3.org/2000/svg\" xmlns:xlink=\"http://www.w3.org/1999/xlink\">\n",
       "<g id=\"graph0\" class=\"graph\" transform=\"scale(1 1) rotate(0) translate(4 214)\">\n",
       "<title>%3</title>\n",
       "<polygon fill=\"#ffffff\" stroke=\"transparent\" points=\"-4,4 -4,-214 420.93,-214 420.93,4 -4,4\"/>\n",
       "<!-- mpg -->\n",
       "<g id=\"node1\" class=\"node\">\n",
       "<title>mpg</title>\n",
       "<ellipse fill=\"none\" stroke=\"#000000\" cx=\"162.93\" cy=\"-192\" rx=\"27\" ry=\"18\"/>\n",
       "<text text-anchor=\"middle\" x=\"162.93\" y=\"-188.3\" font-family=\"Times,serif\" font-size=\"14.00\" fill=\"#000000\">mpg</text>\n",
       "</g>\n",
       "<!-- displacement -->\n",
       "<g id=\"node3\" class=\"node\">\n",
       "<title>displacement</title>\n",
       "<ellipse fill=\"none\" stroke=\"#000000\" cx=\"203.93\" cy=\"-105\" rx=\"57.6901\" ry=\"18\"/>\n",
       "<text text-anchor=\"middle\" x=\"203.93\" y=\"-101.3\" font-family=\"Times,serif\" font-size=\"14.00\" fill=\"#000000\">displacement</text>\n",
       "</g>\n",
       "<!-- mpg&#45;&gt;displacement -->\n",
       "<g id=\"edge5\" class=\"edge\">\n",
       "<title>mpg&#45;&gt;displacement</title>\n",
       "<path fill=\"none\" stroke=\"#000000\" d=\"M157.7837,-174.1945C155.8183,-164.0093 155.0683,-151.2593 159.93,-141 162.1965,-136.2171 165.4441,-131.8584 169.1624,-127.9559\"/>\n",
       "<polygon fill=\"#000000\" stroke=\"#000000\" points=\"171.7323,-130.3489 176.7586,-121.0222 167.0132,-125.1788 171.7323,-130.3489\"/>\n",
       "<text text-anchor=\"middle\" x=\"168.93\" y=\"-144.8\" font-family=\"Times,serif\" font-size=\"14.00\" fill=\"#000000\">1.0</text>\n",
       "</g>\n",
       "<!-- horsepower -->\n",
       "<g id=\"node4\" class=\"node\">\n",
       "<title>horsepower</title>\n",
       "<ellipse fill=\"none\" stroke=\"#000000\" cx=\"68.93\" cy=\"-18\" rx=\"51.9908\" ry=\"18\"/>\n",
       "<text text-anchor=\"middle\" x=\"68.93\" y=\"-14.3\" font-family=\"Times,serif\" font-size=\"14.00\" fill=\"#000000\">horsepower</text>\n",
       "</g>\n",
       "<!-- mpg&#45;&gt;horsepower -->\n",
       "<g id=\"edge10\" class=\"edge\">\n",
       "<title>mpg&#45;&gt;horsepower</title>\n",
       "<path fill=\"none\" stroke=\"#000000\" d=\"M137.519,-185.0976C110.4174,-176.0682 69.7884,-157.2126 57.93,-123 49.212,-97.8481 53.9262,-67.44 59.6378,-45.8348\"/>\n",
       "<polygon fill=\"#000000\" stroke=\"#000000\" points=\"63.0667,-46.5753 62.4673,-35.9974 56.3394,-44.6403 63.0667,-46.5753\"/>\n",
       "<text text-anchor=\"middle\" x=\"66.93\" y=\"-101.3\" font-family=\"Times,serif\" font-size=\"14.00\" fill=\"#000000\">1.0</text>\n",
       "</g>\n",
       "<!-- weight -->\n",
       "<g id=\"node5\" class=\"node\">\n",
       "<title>weight</title>\n",
       "<ellipse fill=\"none\" stroke=\"#000000\" cx=\"339.93\" cy=\"-18\" rx=\"34.394\" ry=\"18\"/>\n",
       "<text text-anchor=\"middle\" x=\"339.93\" y=\"-14.3\" font-family=\"Times,serif\" font-size=\"14.00\" fill=\"#000000\">weight</text>\n",
       "</g>\n",
       "<!-- mpg&#45;&gt;weight -->\n",
       "<g id=\"edge13\" class=\"edge\">\n",
       "<title>mpg&#45;&gt;weight</title>\n",
       "<path fill=\"none\" stroke=\"#000000\" d=\"M184.3632,-180.55C189.0937,-178.2304 194.1277,-175.9174 198.93,-174 224.3909,-163.8341 235.4426,-171.682 257.93,-156 297.7398,-128.2379 301.6688,-112.1277 323.93,-69 327.6589,-61.7758 330.7094,-53.5231 333.1092,-45.7921\"/>\n",
       "<polygon fill=\"#000000\" stroke=\"#000000\" points=\"336.5079,-46.6366 335.8914,-36.0597 329.7775,-44.7126 336.5079,-46.6366\"/>\n",
       "<text text-anchor=\"middle\" x=\"322.93\" y=\"-101.3\" font-family=\"Times,serif\" font-size=\"14.00\" fill=\"#000000\">1.0</text>\n",
       "</g>\n",
       "<!-- cylinders -->\n",
       "<g id=\"node2\" class=\"node\">\n",
       "<title>cylinders</title>\n",
       "<ellipse fill=\"none\" stroke=\"#000000\" cx=\"203.93\" cy=\"-18\" rx=\"42.7926\" ry=\"18\"/>\n",
       "<text text-anchor=\"middle\" x=\"203.93\" y=\"-14.3\" font-family=\"Times,serif\" font-size=\"14.00\" fill=\"#000000\">cylinders</text>\n",
       "</g>\n",
       "<!-- cylinders&#45;&gt;displacement -->\n",
       "<g id=\"edge6\" class=\"edge\">\n",
       "<title>cylinders&#45;&gt;displacement</title>\n",
       "<path fill=\"none\" stroke=\"#000000\" d=\"M190.6588,-35.407C187.1098,-41.0394 183.7551,-47.5132 181.93,-54 179.6275,-62.183 181.5197,-70.778 184.9906,-78.5309\"/>\n",
       "<polygon fill=\"#000000\" stroke=\"#000000\" points=\"181.997,-80.3532 189.8314,-87.4857 188.1548,-77.0243 181.997,-80.3532\"/>\n",
       "<text text-anchor=\"middle\" x=\"190.93\" y=\"-57.8\" font-family=\"Times,serif\" font-size=\"14.00\" fill=\"#000000\">1.0</text>\n",
       "</g>\n",
       "<!-- displacement&#45;&gt;mpg -->\n",
       "<g id=\"edge1\" class=\"edge\">\n",
       "<title>displacement&#45;&gt;mpg</title>\n",
       "<path fill=\"none\" stroke=\"#000000\" d=\"M196.5322,-123.0926C192.4155,-132.9122 187.0925,-145.2148 181.93,-156 180.3881,-159.2211 178.7147,-162.5732 177.0217,-165.8791\"/>\n",
       "<polygon fill=\"#000000\" stroke=\"#000000\" points=\"173.8231,-164.4429 172.2915,-174.9265 180.0264,-167.6862 173.8231,-164.4429\"/>\n",
       "<text text-anchor=\"middle\" x=\"197.93\" y=\"-144.8\" font-family=\"Times,serif\" font-size=\"14.00\" fill=\"#000000\">1.0</text>\n",
       "</g>\n",
       "<!-- displacement&#45;&gt;cylinders -->\n",
       "<g id=\"edge4\" class=\"edge\">\n",
       "<title>displacement&#45;&gt;cylinders</title>\n",
       "<path fill=\"none\" stroke=\"#000000\" d=\"M203.93,-86.9735C203.93,-75.1918 203.93,-59.5607 203.93,-46.1581\"/>\n",
       "<polygon fill=\"#000000\" stroke=\"#000000\" points=\"207.4301,-46.0033 203.93,-36.0034 200.4301,-46.0034 207.4301,-46.0033\"/>\n",
       "<text text-anchor=\"middle\" x=\"212.93\" y=\"-57.8\" font-family=\"Times,serif\" font-size=\"14.00\" fill=\"#000000\">1.0</text>\n",
       "</g>\n",
       "<!-- displacement&#45;&gt;horsepower -->\n",
       "<g id=\"edge11\" class=\"edge\">\n",
       "<title>displacement&#45;&gt;horsepower</title>\n",
       "<path fill=\"none\" stroke=\"#000000\" d=\"M157.7622,-93.842C140.6938,-88.2412 121.8815,-80.1998 106.93,-69 98.181,-62.4464 90.5159,-53.3345 84.4047,-44.623\"/>\n",
       "<polygon fill=\"#000000\" stroke=\"#000000\" points=\"87.2515,-42.5821 78.829,-36.1547 81.405,-46.4316 87.2515,-42.5821\"/>\n",
       "<text text-anchor=\"middle\" x=\"115.93\" y=\"-57.8\" font-family=\"Times,serif\" font-size=\"14.00\" fill=\"#000000\">1.0</text>\n",
       "</g>\n",
       "<!-- displacement&#45;&gt;weight -->\n",
       "<g id=\"edge14\" class=\"edge\">\n",
       "<title>displacement&#45;&gt;weight</title>\n",
       "<path fill=\"none\" stroke=\"#000000\" d=\"M241.5561,-91.3147C255.6955,-85.4036 271.5688,-77.8103 284.93,-69 296.5962,-61.3073 308.1463,-51.1023 317.6277,-41.843\"/>\n",
       "<polygon fill=\"#000000\" stroke=\"#000000\" points=\"320.1772,-44.2429 324.7507,-34.686 315.2156,-39.3049 320.1772,-44.2429\"/>\n",
       "<text text-anchor=\"middle\" x=\"310.93\" y=\"-57.8\" font-family=\"Times,serif\" font-size=\"14.00\" fill=\"#000000\">1.0</text>\n",
       "</g>\n",
       "<!-- horsepower&#45;&gt;mpg -->\n",
       "<g id=\"edge2\" class=\"edge\">\n",
       "<title>horsepower&#45;&gt;mpg</title>\n",
       "<path fill=\"none\" stroke=\"#000000\" d=\"M45.6347,-34.2532C30.2079,-46.6352 11.4756,-65.2303 3.93,-87 -1.31,-102.1176 -1.31,-107.8824 3.93,-123 10.045,-140.6422 14.3518,-145.7062 29.93,-156 58.7758,-175.0608 97.4449,-184.0739 125.65,-188.3092\"/>\n",
       "<polygon fill=\"#000000\" stroke=\"#000000\" points=\"125.5237,-191.8243 135.9053,-189.7095 126.4707,-184.8887 125.5237,-191.8243\"/>\n",
       "<text text-anchor=\"middle\" x=\"12.93\" y=\"-101.3\" font-family=\"Times,serif\" font-size=\"14.00\" fill=\"#000000\">1.0</text>\n",
       "</g>\n",
       "<!-- horsepower&#45;&gt;displacement -->\n",
       "<g id=\"edge7\" class=\"edge\">\n",
       "<title>horsepower&#45;&gt;displacement</title>\n",
       "<path fill=\"none\" stroke=\"#000000\" d=\"M93.7525,-33.9967C115.1196,-47.7667 146.16,-67.7705 169.8524,-83.0389\"/>\n",
       "<polygon fill=\"#000000\" stroke=\"#000000\" points=\"168.2358,-86.1609 178.5375,-88.636 172.0277,-80.2769 168.2358,-86.1609\"/>\n",
       "<text text-anchor=\"middle\" x=\"153.93\" y=\"-57.8\" font-family=\"Times,serif\" font-size=\"14.00\" fill=\"#000000\">1.0</text>\n",
       "</g>\n",
       "<!-- weight&#45;&gt;mpg -->\n",
       "<g id=\"edge3\" class=\"edge\">\n",
       "<title>weight&#45;&gt;mpg</title>\n",
       "<path fill=\"none\" stroke=\"#000000\" d=\"M346.4796,-35.7041C348.2983,-41.4566 350.0224,-47.9243 350.93,-54 357.8412,-100.2696 360.3734,-125.4647 324.93,-156 282.0728,-192.9224 252.9254,-157.1331 198.93,-174 197.029,-174.5938 195.1052,-175.2785 193.1871,-176.0264\"/>\n",
       "<polygon fill=\"#000000\" stroke=\"#000000\" points=\"191.5212,-172.9355 183.777,-180.1659 194.3399,-179.343 191.5212,-172.9355\"/>\n",
       "<text text-anchor=\"middle\" x=\"363.93\" y=\"-101.3\" font-family=\"Times,serif\" font-size=\"14.00\" fill=\"#000000\">1.0</text>\n",
       "</g>\n",
       "<!-- weight&#45;&gt;displacement -->\n",
       "<g id=\"edge8\" class=\"edge\">\n",
       "<title>weight&#45;&gt;displacement</title>\n",
       "<path fill=\"none\" stroke=\"#000000\" d=\"M313.1464,-29.4672C298.9932,-35.9537 281.5693,-44.6303 266.93,-54 254.4627,-61.9794 241.6045,-72.0119 230.7815,-81.063\"/>\n",
       "<polygon fill=\"#000000\" stroke=\"#000000\" points=\"228.2835,-78.5932 222.9419,-87.7429 232.8235,-83.9213 228.2835,-78.5932\"/>\n",
       "<text text-anchor=\"middle\" x=\"275.93\" y=\"-57.8\" font-family=\"Times,serif\" font-size=\"14.00\" fill=\"#000000\">1.0</text>\n",
       "</g>\n",
       "<!-- acceleration -->\n",
       "<g id=\"node6\" class=\"node\">\n",
       "<title>acceleration</title>\n",
       "<ellipse fill=\"none\" stroke=\"#000000\" cx=\"260.93\" cy=\"-192\" rx=\"53.0913\" ry=\"18\"/>\n",
       "<text text-anchor=\"middle\" x=\"260.93\" y=\"-188.3\" font-family=\"Times,serif\" font-size=\"14.00\" fill=\"#000000\">acceleration</text>\n",
       "</g>\n",
       "<!-- acceleration&#45;&gt;displacement -->\n",
       "<g id=\"edge9\" class=\"edge\">\n",
       "<title>acceleration&#45;&gt;displacement</title>\n",
       "<path fill=\"none\" stroke=\"#000000\" d=\"M249.3952,-174.3943C241.3363,-162.0938 230.4319,-145.4503 221.3224,-131.5463\"/>\n",
       "<polygon fill=\"#000000\" stroke=\"#000000\" points=\"224.0512,-129.3247 215.6432,-122.8782 218.1959,-133.1609 224.0512,-129.3247\"/>\n",
       "<text text-anchor=\"middle\" x=\"244.93\" y=\"-144.8\" font-family=\"Times,serif\" font-size=\"14.00\" fill=\"#000000\">1.0</text>\n",
       "</g>\n",
       "<!-- acceleration&#45;&gt;horsepower -->\n",
       "<g id=\"edge12\" class=\"edge\">\n",
       "<title>acceleration&#45;&gt;horsepower</title>\n",
       "<path fill=\"none\" stroke=\"#000000\" d=\"M219.8362,-180.37C194.3966,-172.7756 164.4571,-163.0058 152.93,-156 112.2702,-131.2882 88.6117,-78.7293 77.2768,-46.0809\"/>\n",
       "<polygon fill=\"#000000\" stroke=\"#000000\" points=\"80.4858,-44.6369 74.0238,-36.2409 73.8396,-46.8342 80.4858,-44.6369\"/>\n",
       "<text text-anchor=\"middle\" x=\"125.93\" y=\"-101.3\" font-family=\"Times,serif\" font-size=\"14.00\" fill=\"#000000\">1.0</text>\n",
       "</g>\n",
       "<!-- acceleration&#45;&gt;weight -->\n",
       "<g id=\"edge15\" class=\"edge\">\n",
       "<title>acceleration&#45;&gt;weight</title>\n",
       "<path fill=\"none\" stroke=\"#000000\" d=\"M307.1913,-182.8134C335.7759,-176.2319 368.8623,-166.6722 378.93,-156 410.0379,-123.0241 401.9103,-93.0771 378.93,-54 375.8778,-48.8099 371.8428,-43.9238 367.5256,-39.5247\"/>\n",
       "<polygon fill=\"#000000\" stroke=\"#000000\" points=\"369.8169,-36.8758 360.1173,-32.6135 365.0419,-41.9943 369.8169,-36.8758\"/>\n",
       "<text text-anchor=\"middle\" x=\"407.93\" y=\"-101.3\" font-family=\"Times,serif\" font-size=\"14.00\" fill=\"#000000\">1.0</text>\n",
       "</g>\n",
       "</g>\n",
       "</svg>\n"
      ],
      "text/plain": [
       "<graphviz.dot.Digraph at 0x7f8144cf6970>"
      ]
     },
     "metadata": {},
     "output_type": "display_data"
    }
   ],
   "source": [
    "from cdt.causality.graph import LiNGAM, PC, GES\n",
    "\n",
    "graphs = {}\n",
    "labels = [f'{col}' for i, col in enumerate(data_mpg.columns)]\n",
    "functions = {\n",
    "    'LiNGAM' : LiNGAM,\n",
    "    'PC' : PC,\n",
    "    'GES' : GES,\n",
    "}\n",
    "\n",
    "for method, lib in functions.items():\n",
    "    obj = lib()\n",
    "    output = obj.predict(data_mpg)\n",
    "    adj_matrix = nx.to_numpy_matrix(output)\n",
    "    adj_matrix = np.asarray(adj_matrix)\n",
    "    graph_dot = make_graph(adj_matrix, labels)\n",
    "    graphs[method] = graph_dot\n",
    "\n",
    "# Visualize graphs\n",
    "for method, graph in graphs.items():\n",
    "    print(\"Method : %s\"%(method))\n",
    "    display(graph)"
   ]
  },
  {
   "cell_type": "markdown",
   "metadata": {},
   "source": [
    "As you can see, no two methods agree on the graphs. PC and GES effectively produce an undirected graph whereas LiNGAM produces a directed graph. We use only the LiNGAM method in the next section."
   ]
  },
  {
   "cell_type": "markdown",
   "metadata": {},
   "source": [
    "## Estimate causal effects using Linear Regression\n",
    "\n",
    "Now let us see whether these differences in the graphs also lead to signficant differences in the causal estimate of effect of *mpg* on *weight*."
   ]
  },
  {
   "cell_type": "code",
   "execution_count": 5,
   "metadata": {
    "execution": {
     "iopub.execute_input": "2022-03-20T14:41:47.284833Z",
     "iopub.status.busy": "2022-03-20T14:41:47.284091Z",
     "iopub.status.idle": "2022-03-20T14:42:04.007527Z",
     "shell.execute_reply": "2022-03-20T14:42:04.008540Z"
    }
   },
   "outputs": [
    {
     "name": "stdout",
     "output_type": "stream",
     "text": [
      "\n",
      "*****************************************************************************\n",
      "\n",
      "Causal Discovery Method : LiNGAM\n"
     ]
    },
    {
     "name": "stdout",
     "output_type": "stream",
     "text": [
      "Estimand type: nonparametric-ate\n",
      "\n",
      "### Estimand : 1\n",
      "Estimand name: backdoor\n",
      "Estimand expression:\n",
      "  d                                  \n",
      "──────(Expectation(weight|cylinders))\n",
      "d[mpg]                               \n",
      "Estimand assumption 1, Unconfoundedness: If U→{mpg} and U→weight then P(weight|mpg,cylinders,U) = P(weight|mpg,cylinders)\n",
      "\n",
      "### Estimand : 2\n",
      "Estimand name: iv\n",
      "No such variable(s) found!\n",
      "\n",
      "### Estimand : 3\n",
      "Estimand name: frontdoor\n",
      "No such variable(s) found!\n",
      "\n",
      "linear_regression\n"
     ]
    },
    {
     "name": "stdout",
     "output_type": "stream",
     "text": [
      "{'control_value': 0, 'treatment_value': 1, 'test_significance': True, 'evaluate_effect_strength': False, 'confidence_intervals': True, 'target_units': 'ate', 'effect_modifiers': ['acceleration']}\n",
      "{'treatment_value': 1, 'control_value': 0, 'test_significance': False, 'evaluate_effect_strength': False, 'confidence_intervals': False, 'target_units': 'ate', 'effect_modifiers': ['acceleration']}\n"
     ]
    },
    {
     "name": "stderr",
     "output_type": "stream",
     "text": [
      "\n",
      "A value is trying to be set on a copy of a slice from a DataFrame.\n",
      "Try using .loc[row_indexer,col_indexer] = value instead\n",
      "\n",
      "See the caveats in the documentation: https://pandas.pydata.org/pandas-docs/stable/user_guide/indexing.html#returning-a-view-versus-a-copy\n",
      "\n",
      "A value is trying to be set on a copy of a slice from a DataFrame.\n",
      "Try using .loc[row_indexer,col_indexer] = value instead\n",
      "\n",
      "See the caveats in the documentation: https://pandas.pydata.org/pandas-docs/stable/user_guide/indexing.html#returning-a-view-versus-a-copy\n"
     ]
    },
    {
     "name": "stdout",
     "output_type": "stream",
     "text": [
      "{'treatment_value': 1, 'control_value': 0, 'test_significance': False, 'evaluate_effect_strength': False, 'confidence_intervals': False, 'target_units': 'ate', 'effect_modifiers': ['acceleration']}\n",
      "{'treatment_value': 1, 'control_value': 0, 'test_significance': False, 'evaluate_effect_strength': False, 'confidence_intervals': False, 'target_units': 'ate', 'effect_modifiers': ['acceleration']}\n"
     ]
    },
    {
     "name": "stderr",
     "output_type": "stream",
     "text": [
      "\n",
      "A value is trying to be set on a copy of a slice from a DataFrame.\n",
      "Try using .loc[row_indexer,col_indexer] = value instead\n",
      "\n",
      "See the caveats in the documentation: https://pandas.pydata.org/pandas-docs/stable/user_guide/indexing.html#returning-a-view-versus-a-copy\n",
      "\n",
      "A value is trying to be set on a copy of a slice from a DataFrame.\n",
      "Try using .loc[row_indexer,col_indexer] = value instead\n",
      "\n",
      "See the caveats in the documentation: https://pandas.pydata.org/pandas-docs/stable/user_guide/indexing.html#returning-a-view-versus-a-copy\n",
      "\n",
      "A value is trying to be set on a copy of a slice from a DataFrame.\n",
      "Try using .loc[row_indexer,col_indexer] = value instead\n",
      "\n",
      "See the caveats in the documentation: https://pandas.pydata.org/pandas-docs/stable/user_guide/indexing.html#returning-a-view-versus-a-copy\n"
     ]
    },
    {
     "name": "stdout",
     "output_type": "stream",
     "text": [
      "{'treatment_value': 1, 'control_value': 0, 'test_significance': False, 'evaluate_effect_strength': False, 'confidence_intervals': False, 'target_units': 'ate', 'effect_modifiers': ['acceleration']}\n",
      "{'treatment_value': 1, 'control_value': 0, 'test_significance': False, 'evaluate_effect_strength': False, 'confidence_intervals': False, 'target_units': 'ate', 'effect_modifiers': ['acceleration']}\n"
     ]
    },
    {
     "name": "stdout",
     "output_type": "stream",
     "text": [
      "{'treatment_value': 1, 'control_value': 0, 'test_significance': False, 'evaluate_effect_strength': False, 'confidence_intervals': False, 'target_units': 'ate', 'effect_modifiers': ['acceleration']}\n",
      "{'treatment_value': 1, 'control_value': 0, 'test_significance': False, 'evaluate_effect_strength': False, 'confidence_intervals': False, 'target_units': 'ate', 'effect_modifiers': ['acceleration']}\n"
     ]
    },
    {
     "name": "stderr",
     "output_type": "stream",
     "text": [
      "\n",
      "A value is trying to be set on a copy of a slice from a DataFrame.\n",
      "Try using .loc[row_indexer,col_indexer] = value instead\n",
      "\n",
      "See the caveats in the documentation: https://pandas.pydata.org/pandas-docs/stable/user_guide/indexing.html#returning-a-view-versus-a-copy\n",
      "\n",
      "A value is trying to be set on a copy of a slice from a DataFrame.\n",
      "Try using .loc[row_indexer,col_indexer] = value instead\n",
      "\n",
      "See the caveats in the documentation: https://pandas.pydata.org/pandas-docs/stable/user_guide/indexing.html#returning-a-view-versus-a-copy\n"
     ]
    },
    {
     "name": "stdout",
     "output_type": "stream",
     "text": [
      "{'treatment_value': 1, 'control_value': 0, 'test_significance': False, 'evaluate_effect_strength': False, 'confidence_intervals': False, 'target_units': 'ate', 'effect_modifiers': ['acceleration']}\n",
      "{'treatment_value': 1, 'control_value': 0, 'test_significance': False, 'evaluate_effect_strength': False, 'confidence_intervals': False, 'target_units': 'ate', 'effect_modifiers': ['acceleration']}\n"
     ]
    },
    {
     "name": "stderr",
     "output_type": "stream",
     "text": [
      "\n",
      "A value is trying to be set on a copy of a slice from a DataFrame.\n",
      "Try using .loc[row_indexer,col_indexer] = value instead\n",
      "\n",
      "See the caveats in the documentation: https://pandas.pydata.org/pandas-docs/stable/user_guide/indexing.html#returning-a-view-versus-a-copy\n",
      "\n",
      "A value is trying to be set on a copy of a slice from a DataFrame.\n",
      "Try using .loc[row_indexer,col_indexer] = value instead\n",
      "\n",
      "See the caveats in the documentation: https://pandas.pydata.org/pandas-docs/stable/user_guide/indexing.html#returning-a-view-versus-a-copy\n",
      "\n",
      "A value is trying to be set on a copy of a slice from a DataFrame.\n",
      "Try using .loc[row_indexer,col_indexer] = value instead\n",
      "\n",
      "See the caveats in the documentation: https://pandas.pydata.org/pandas-docs/stable/user_guide/indexing.html#returning-a-view-versus-a-copy\n"
     ]
    },
    {
     "name": "stdout",
     "output_type": "stream",
     "text": [
      "{'treatment_value': 1, 'control_value': 0, 'test_significance': False, 'evaluate_effect_strength': False, 'confidence_intervals': False, 'target_units': 'ate', 'effect_modifiers': ['acceleration']}\n",
      "{'treatment_value': 1, 'control_value': 0, 'test_significance': False, 'evaluate_effect_strength': False, 'confidence_intervals': False, 'target_units': 'ate', 'effect_modifiers': ['acceleration']}\n"
     ]
    },
    {
     "name": "stderr",
     "output_type": "stream",
     "text": [
      "\n",
      "A value is trying to be set on a copy of a slice from a DataFrame.\n",
      "Try using .loc[row_indexer,col_indexer] = value instead\n",
      "\n",
      "See the caveats in the documentation: https://pandas.pydata.org/pandas-docs/stable/user_guide/indexing.html#returning-a-view-versus-a-copy\n",
      "\n",
      "A value is trying to be set on a copy of a slice from a DataFrame.\n",
      "Try using .loc[row_indexer,col_indexer] = value instead\n",
      "\n",
      "See the caveats in the documentation: https://pandas.pydata.org/pandas-docs/stable/user_guide/indexing.html#returning-a-view-versus-a-copy\n"
     ]
    },
    {
     "name": "stdout",
     "output_type": "stream",
     "text": [
      "{'treatment_value': 1, 'control_value': 0, 'test_significance': False, 'evaluate_effect_strength': False, 'confidence_intervals': False, 'target_units': 'ate', 'effect_modifiers': ['acceleration']}\n",
      "{'treatment_value': 1, 'control_value': 0, 'test_significance': False, 'evaluate_effect_strength': False, 'confidence_intervals': False, 'target_units': 'ate', 'effect_modifiers': ['acceleration']}\n"
     ]
    },
    {
     "name": "stderr",
     "output_type": "stream",
     "text": [
      "\n",
      "A value is trying to be set on a copy of a slice from a DataFrame.\n",
      "Try using .loc[row_indexer,col_indexer] = value instead\n",
      "\n",
      "See the caveats in the documentation: https://pandas.pydata.org/pandas-docs/stable/user_guide/indexing.html#returning-a-view-versus-a-copy\n",
      "\n",
      "A value is trying to be set on a copy of a slice from a DataFrame.\n",
      "Try using .loc[row_indexer,col_indexer] = value instead\n",
      "\n",
      "See the caveats in the documentation: https://pandas.pydata.org/pandas-docs/stable/user_guide/indexing.html#returning-a-view-versus-a-copy\n",
      "\n",
      "A value is trying to be set on a copy of a slice from a DataFrame.\n",
      "Try using .loc[row_indexer,col_indexer] = value instead\n",
      "\n",
      "See the caveats in the documentation: https://pandas.pydata.org/pandas-docs/stable/user_guide/indexing.html#returning-a-view-versus-a-copy\n"
     ]
    },
    {
     "name": "stdout",
     "output_type": "stream",
     "text": [
      "{'treatment_value': 1, 'control_value': 0, 'test_significance': False, 'evaluate_effect_strength': False, 'confidence_intervals': False, 'target_units': 'ate', 'effect_modifiers': ['acceleration']}\n",
      "{'treatment_value': 1, 'control_value': 0, 'test_significance': False, 'evaluate_effect_strength': False, 'confidence_intervals': False, 'target_units': 'ate', 'effect_modifiers': ['acceleration']}\n"
     ]
    },
    {
     "name": "stdout",
     "output_type": "stream",
     "text": [
      "{'treatment_value': 1, 'control_value': 0, 'test_significance': False, 'evaluate_effect_strength': False, 'confidence_intervals': False, 'target_units': 'ate', 'effect_modifiers': ['acceleration']}\n",
      "{'treatment_value': 1, 'control_value': 0, 'test_significance': False, 'evaluate_effect_strength': False, 'confidence_intervals': False, 'target_units': 'ate', 'effect_modifiers': ['acceleration']}\n"
     ]
    },
    {
     "name": "stderr",
     "output_type": "stream",
     "text": [
      "\n",
      "A value is trying to be set on a copy of a slice from a DataFrame.\n",
      "Try using .loc[row_indexer,col_indexer] = value instead\n",
      "\n",
      "See the caveats in the documentation: https://pandas.pydata.org/pandas-docs/stable/user_guide/indexing.html#returning-a-view-versus-a-copy\n",
      "\n",
      "A value is trying to be set on a copy of a slice from a DataFrame.\n",
      "Try using .loc[row_indexer,col_indexer] = value instead\n",
      "\n",
      "See the caveats in the documentation: https://pandas.pydata.org/pandas-docs/stable/user_guide/indexing.html#returning-a-view-versus-a-copy\n"
     ]
    },
    {
     "name": "stdout",
     "output_type": "stream",
     "text": [
      "{'treatment_value': 1, 'control_value': 0, 'test_significance': False, 'evaluate_effect_strength': False, 'confidence_intervals': False, 'target_units': 'ate', 'effect_modifiers': ['acceleration']}\n",
      "{'treatment_value': 1, 'control_value': 0, 'test_significance': False, 'evaluate_effect_strength': False, 'confidence_intervals': False, 'target_units': 'ate', 'effect_modifiers': ['acceleration']}\n"
     ]
    },
    {
     "name": "stderr",
     "output_type": "stream",
     "text": [
      "\n",
      "A value is trying to be set on a copy of a slice from a DataFrame.\n",
      "Try using .loc[row_indexer,col_indexer] = value instead\n",
      "\n",
      "See the caveats in the documentation: https://pandas.pydata.org/pandas-docs/stable/user_guide/indexing.html#returning-a-view-versus-a-copy\n",
      "\n",
      "A value is trying to be set on a copy of a slice from a DataFrame.\n",
      "Try using .loc[row_indexer,col_indexer] = value instead\n",
      "\n",
      "See the caveats in the documentation: https://pandas.pydata.org/pandas-docs/stable/user_guide/indexing.html#returning-a-view-versus-a-copy\n"
     ]
    },
    {
     "name": "stdout",
     "output_type": "stream",
     "text": [
      "{'treatment_value': 1, 'control_value': 0, 'test_significance': False, 'evaluate_effect_strength': False, 'confidence_intervals': False, 'target_units': 'ate', 'effect_modifiers': ['acceleration']}\n",
      "{'treatment_value': 1, 'control_value': 0, 'test_significance': False, 'evaluate_effect_strength': False, 'confidence_intervals': False, 'target_units': 'ate', 'effect_modifiers': ['acceleration']}\n"
     ]
    },
    {
     "name": "stderr",
     "output_type": "stream",
     "text": [
      "\n",
      "A value is trying to be set on a copy of a slice from a DataFrame.\n",
      "Try using .loc[row_indexer,col_indexer] = value instead\n",
      "\n",
      "See the caveats in the documentation: https://pandas.pydata.org/pandas-docs/stable/user_guide/indexing.html#returning-a-view-versus-a-copy\n",
      "\n",
      "A value is trying to be set on a copy of a slice from a DataFrame.\n",
      "Try using .loc[row_indexer,col_indexer] = value instead\n",
      "\n",
      "See the caveats in the documentation: https://pandas.pydata.org/pandas-docs/stable/user_guide/indexing.html#returning-a-view-versus-a-copy\n"
     ]
    },
    {
     "name": "stdout",
     "output_type": "stream",
     "text": [
      "{'treatment_value': 1, 'control_value': 0, 'test_significance': False, 'evaluate_effect_strength': False, 'confidence_intervals': False, 'target_units': 'ate', 'effect_modifiers': ['acceleration']}\n",
      "{'treatment_value': 1, 'control_value': 0, 'test_significance': False, 'evaluate_effect_strength': False, 'confidence_intervals': False, 'target_units': 'ate', 'effect_modifiers': ['acceleration']}\n"
     ]
    },
    {
     "name": "stderr",
     "output_type": "stream",
     "text": [
      "\n",
      "A value is trying to be set on a copy of a slice from a DataFrame.\n",
      "Try using .loc[row_indexer,col_indexer] = value instead\n",
      "\n",
      "See the caveats in the documentation: https://pandas.pydata.org/pandas-docs/stable/user_guide/indexing.html#returning-a-view-versus-a-copy\n",
      "\n",
      "A value is trying to be set on a copy of a slice from a DataFrame.\n",
      "Try using .loc[row_indexer,col_indexer] = value instead\n",
      "\n",
      "See the caveats in the documentation: https://pandas.pydata.org/pandas-docs/stable/user_guide/indexing.html#returning-a-view-versus-a-copy\n"
     ]
    },
    {
     "name": "stdout",
     "output_type": "stream",
     "text": [
      "{'treatment_value': 1, 'control_value': 0, 'test_significance': False, 'evaluate_effect_strength': False, 'confidence_intervals': False, 'target_units': 'ate', 'effect_modifiers': ['acceleration']}\n",
      "{'treatment_value': 1, 'control_value': 0, 'test_significance': False, 'evaluate_effect_strength': False, 'confidence_intervals': False, 'target_units': 'ate', 'effect_modifiers': ['acceleration']}\n"
     ]
    },
    {
     "name": "stderr",
     "output_type": "stream",
     "text": [
      "\n",
      "A value is trying to be set on a copy of a slice from a DataFrame.\n",
      "Try using .loc[row_indexer,col_indexer] = value instead\n",
      "\n",
      "See the caveats in the documentation: https://pandas.pydata.org/pandas-docs/stable/user_guide/indexing.html#returning-a-view-versus-a-copy\n",
      "\n",
      "A value is trying to be set on a copy of a slice from a DataFrame.\n",
      "Try using .loc[row_indexer,col_indexer] = value instead\n",
      "\n",
      "See the caveats in the documentation: https://pandas.pydata.org/pandas-docs/stable/user_guide/indexing.html#returning-a-view-versus-a-copy\n"
     ]
    },
    {
     "name": "stdout",
     "output_type": "stream",
     "text": [
      "{'treatment_value': 1, 'control_value': 0, 'test_significance': False, 'evaluate_effect_strength': False, 'confidence_intervals': False, 'target_units': 'ate', 'effect_modifiers': ['acceleration']}\n",
      "{'treatment_value': 1, 'control_value': 0, 'test_significance': False, 'evaluate_effect_strength': False, 'confidence_intervals': False, 'target_units': 'ate', 'effect_modifiers': ['acceleration']}\n"
     ]
    },
    {
     "name": "stderr",
     "output_type": "stream",
     "text": [
      "\n",
      "A value is trying to be set on a copy of a slice from a DataFrame.\n",
      "Try using .loc[row_indexer,col_indexer] = value instead\n",
      "\n",
      "See the caveats in the documentation: https://pandas.pydata.org/pandas-docs/stable/user_guide/indexing.html#returning-a-view-versus-a-copy\n",
      "\n",
      "A value is trying to be set on a copy of a slice from a DataFrame.\n",
      "Try using .loc[row_indexer,col_indexer] = value instead\n",
      "\n",
      "See the caveats in the documentation: https://pandas.pydata.org/pandas-docs/stable/user_guide/indexing.html#returning-a-view-versus-a-copy\n"
     ]
    },
    {
     "name": "stdout",
     "output_type": "stream",
     "text": [
      "{'treatment_value': 1, 'control_value': 0, 'test_significance': False, 'evaluate_effect_strength': False, 'confidence_intervals': False, 'target_units': 'ate', 'effect_modifiers': ['acceleration']}\n",
      "{'treatment_value': 1, 'control_value': 0, 'test_significance': False, 'evaluate_effect_strength': False, 'confidence_intervals': False, 'target_units': 'ate', 'effect_modifiers': ['acceleration']}\n"
     ]
    },
    {
     "name": "stderr",
     "output_type": "stream",
     "text": [
      "\n",
      "A value is trying to be set on a copy of a slice from a DataFrame.\n",
      "Try using .loc[row_indexer,col_indexer] = value instead\n",
      "\n",
      "See the caveats in the documentation: https://pandas.pydata.org/pandas-docs/stable/user_guide/indexing.html#returning-a-view-versus-a-copy\n",
      "\n",
      "A value is trying to be set on a copy of a slice from a DataFrame.\n",
      "Try using .loc[row_indexer,col_indexer] = value instead\n",
      "\n",
      "See the caveats in the documentation: https://pandas.pydata.org/pandas-docs/stable/user_guide/indexing.html#returning-a-view-versus-a-copy\n"
     ]
    },
    {
     "name": "stdout",
     "output_type": "stream",
     "text": [
      "{'treatment_value': 1, 'control_value': 0, 'test_significance': False, 'evaluate_effect_strength': False, 'confidence_intervals': False, 'target_units': 'ate', 'effect_modifiers': ['acceleration']}\n",
      "{'treatment_value': 1, 'control_value': 0, 'test_significance': False, 'evaluate_effect_strength': False, 'confidence_intervals': False, 'target_units': 'ate', 'effect_modifiers': ['acceleration']}\n"
     ]
    },
    {
     "name": "stderr",
     "output_type": "stream",
     "text": [
      "\n",
      "A value is trying to be set on a copy of a slice from a DataFrame.\n",
      "Try using .loc[row_indexer,col_indexer] = value instead\n",
      "\n",
      "See the caveats in the documentation: https://pandas.pydata.org/pandas-docs/stable/user_guide/indexing.html#returning-a-view-versus-a-copy\n",
      "\n",
      "A value is trying to be set on a copy of a slice from a DataFrame.\n",
      "Try using .loc[row_indexer,col_indexer] = value instead\n",
      "\n",
      "See the caveats in the documentation: https://pandas.pydata.org/pandas-docs/stable/user_guide/indexing.html#returning-a-view-versus-a-copy\n"
     ]
    },
    {
     "name": "stdout",
     "output_type": "stream",
     "text": [
      "{'treatment_value': 1, 'control_value': 0, 'test_significance': False, 'evaluate_effect_strength': False, 'confidence_intervals': False, 'target_units': 'ate', 'effect_modifiers': ['acceleration']}\n",
      "{'treatment_value': 1, 'control_value': 0, 'test_significance': False, 'evaluate_effect_strength': False, 'confidence_intervals': False, 'target_units': 'ate', 'effect_modifiers': ['acceleration']}\n"
     ]
    },
    {
     "name": "stderr",
     "output_type": "stream",
     "text": [
      "\n",
      "A value is trying to be set on a copy of a slice from a DataFrame.\n",
      "Try using .loc[row_indexer,col_indexer] = value instead\n",
      "\n",
      "See the caveats in the documentation: https://pandas.pydata.org/pandas-docs/stable/user_guide/indexing.html#returning-a-view-versus-a-copy\n",
      "\n",
      "A value is trying to be set on a copy of a slice from a DataFrame.\n",
      "Try using .loc[row_indexer,col_indexer] = value instead\n",
      "\n",
      "See the caveats in the documentation: https://pandas.pydata.org/pandas-docs/stable/user_guide/indexing.html#returning-a-view-versus-a-copy\n",
      "\n",
      "A value is trying to be set on a copy of a slice from a DataFrame.\n",
      "Try using .loc[row_indexer,col_indexer] = value instead\n",
      "\n",
      "See the caveats in the documentation: https://pandas.pydata.org/pandas-docs/stable/user_guide/indexing.html#returning-a-view-versus-a-copy\n"
     ]
    },
    {
     "name": "stdout",
     "output_type": "stream",
     "text": [
      "{'treatment_value': 1, 'control_value': 0, 'test_significance': False, 'evaluate_effect_strength': False, 'confidence_intervals': False, 'target_units': 'ate', 'effect_modifiers': ['acceleration']}\n",
      "{'treatment_value': 1, 'control_value': 0, 'test_significance': False, 'evaluate_effect_strength': False, 'confidence_intervals': False, 'target_units': 'ate', 'effect_modifiers': ['acceleration']}\n"
     ]
    },
    {
     "name": "stderr",
     "output_type": "stream",
     "text": [
      "\n",
      "A value is trying to be set on a copy of a slice from a DataFrame.\n",
      "Try using .loc[row_indexer,col_indexer] = value instead\n",
      "\n",
      "See the caveats in the documentation: https://pandas.pydata.org/pandas-docs/stable/user_guide/indexing.html#returning-a-view-versus-a-copy\n",
      "\n",
      "A value is trying to be set on a copy of a slice from a DataFrame.\n",
      "Try using .loc[row_indexer,col_indexer] = value instead\n",
      "\n",
      "See the caveats in the documentation: https://pandas.pydata.org/pandas-docs/stable/user_guide/indexing.html#returning-a-view-versus-a-copy\n",
      "\n",
      "A value is trying to be set on a copy of a slice from a DataFrame.\n",
      "Try using .loc[row_indexer,col_indexer] = value instead\n",
      "\n",
      "See the caveats in the documentation: https://pandas.pydata.org/pandas-docs/stable/user_guide/indexing.html#returning-a-view-versus-a-copy\n"
     ]
    },
    {
     "name": "stdout",
     "output_type": "stream",
     "text": [
      "{'treatment_value': 1, 'control_value': 0, 'test_significance': False, 'evaluate_effect_strength': False, 'confidence_intervals': False, 'target_units': 'ate', 'effect_modifiers': ['acceleration']}\n",
      "{'treatment_value': 1, 'control_value': 0, 'test_significance': False, 'evaluate_effect_strength': False, 'confidence_intervals': False, 'target_units': 'ate', 'effect_modifiers': ['acceleration']}\n"
     ]
    },
    {
     "name": "stdout",
     "output_type": "stream",
     "text": [
      "{'treatment_value': 1, 'control_value': 0, 'test_significance': False, 'evaluate_effect_strength': False, 'confidence_intervals': False, 'target_units': 'ate', 'effect_modifiers': ['acceleration']}\n",
      "{'treatment_value': 1, 'control_value': 0, 'test_significance': False, 'evaluate_effect_strength': False, 'confidence_intervals': False, 'target_units': 'ate', 'effect_modifiers': ['acceleration']}\n"
     ]
    },
    {
     "name": "stderr",
     "output_type": "stream",
     "text": [
      "\n",
      "A value is trying to be set on a copy of a slice from a DataFrame.\n",
      "Try using .loc[row_indexer,col_indexer] = value instead\n",
      "\n",
      "See the caveats in the documentation: https://pandas.pydata.org/pandas-docs/stable/user_guide/indexing.html#returning-a-view-versus-a-copy\n",
      "\n",
      "A value is trying to be set on a copy of a slice from a DataFrame.\n",
      "Try using .loc[row_indexer,col_indexer] = value instead\n",
      "\n",
      "See the caveats in the documentation: https://pandas.pydata.org/pandas-docs/stable/user_guide/indexing.html#returning-a-view-versus-a-copy\n"
     ]
    },
    {
     "name": "stdout",
     "output_type": "stream",
     "text": [
      "{'treatment_value': 1, 'control_value': 0, 'test_significance': False, 'evaluate_effect_strength': False, 'confidence_intervals': False, 'target_units': 'ate', 'effect_modifiers': ['acceleration']}\n",
      "{'treatment_value': 1, 'control_value': 0, 'test_significance': False, 'evaluate_effect_strength': False, 'confidence_intervals': False, 'target_units': 'ate', 'effect_modifiers': ['acceleration']}\n"
     ]
    },
    {
     "name": "stderr",
     "output_type": "stream",
     "text": [
      "\n",
      "A value is trying to be set on a copy of a slice from a DataFrame.\n",
      "Try using .loc[row_indexer,col_indexer] = value instead\n",
      "\n",
      "See the caveats in the documentation: https://pandas.pydata.org/pandas-docs/stable/user_guide/indexing.html#returning-a-view-versus-a-copy\n",
      "\n",
      "A value is trying to be set on a copy of a slice from a DataFrame.\n",
      "Try using .loc[row_indexer,col_indexer] = value instead\n",
      "\n",
      "See the caveats in the documentation: https://pandas.pydata.org/pandas-docs/stable/user_guide/indexing.html#returning-a-view-versus-a-copy\n"
     ]
    },
    {
     "name": "stdout",
     "output_type": "stream",
     "text": [
      "{'treatment_value': 1, 'control_value': 0, 'test_significance': False, 'evaluate_effect_strength': False, 'confidence_intervals': False, 'target_units': 'ate', 'effect_modifiers': ['acceleration']}\n",
      "{'treatment_value': 1, 'control_value': 0, 'test_significance': False, 'evaluate_effect_strength': False, 'confidence_intervals': False, 'target_units': 'ate', 'effect_modifiers': ['acceleration']}\n"
     ]
    },
    {
     "name": "stderr",
     "output_type": "stream",
     "text": [
      "\n",
      "A value is trying to be set on a copy of a slice from a DataFrame.\n",
      "Try using .loc[row_indexer,col_indexer] = value instead\n",
      "\n",
      "See the caveats in the documentation: https://pandas.pydata.org/pandas-docs/stable/user_guide/indexing.html#returning-a-view-versus-a-copy\n",
      "\n",
      "A value is trying to be set on a copy of a slice from a DataFrame.\n",
      "Try using .loc[row_indexer,col_indexer] = value instead\n",
      "\n",
      "See the caveats in the documentation: https://pandas.pydata.org/pandas-docs/stable/user_guide/indexing.html#returning-a-view-versus-a-copy\n"
     ]
    },
    {
     "name": "stdout",
     "output_type": "stream",
     "text": [
      "{'treatment_value': 1, 'control_value': 0, 'test_significance': False, 'evaluate_effect_strength': False, 'confidence_intervals': False, 'target_units': 'ate', 'effect_modifiers': ['acceleration']}\n",
      "{'treatment_value': 1, 'control_value': 0, 'test_significance': False, 'evaluate_effect_strength': False, 'confidence_intervals': False, 'target_units': 'ate', 'effect_modifiers': ['acceleration']}\n"
     ]
    },
    {
     "name": "stderr",
     "output_type": "stream",
     "text": [
      "\n",
      "A value is trying to be set on a copy of a slice from a DataFrame.\n",
      "Try using .loc[row_indexer,col_indexer] = value instead\n",
      "\n",
      "See the caveats in the documentation: https://pandas.pydata.org/pandas-docs/stable/user_guide/indexing.html#returning-a-view-versus-a-copy\n",
      "\n",
      "A value is trying to be set on a copy of a slice from a DataFrame.\n",
      "Try using .loc[row_indexer,col_indexer] = value instead\n",
      "\n",
      "See the caveats in the documentation: https://pandas.pydata.org/pandas-docs/stable/user_guide/indexing.html#returning-a-view-versus-a-copy\n",
      "\n",
      "A value is trying to be set on a copy of a slice from a DataFrame.\n",
      "Try using .loc[row_indexer,col_indexer] = value instead\n",
      "\n",
      "See the caveats in the documentation: https://pandas.pydata.org/pandas-docs/stable/user_guide/indexing.html#returning-a-view-versus-a-copy\n"
     ]
    },
    {
     "name": "stdout",
     "output_type": "stream",
     "text": [
      "{'treatment_value': 1, 'control_value': 0, 'test_significance': False, 'evaluate_effect_strength': False, 'confidence_intervals': False, 'target_units': 'ate', 'effect_modifiers': ['acceleration']}\n",
      "{'treatment_value': 1, 'control_value': 0, 'test_significance': False, 'evaluate_effect_strength': False, 'confidence_intervals': False, 'target_units': 'ate', 'effect_modifiers': ['acceleration']}\n"
     ]
    },
    {
     "name": "stderr",
     "output_type": "stream",
     "text": [
      "\n",
      "A value is trying to be set on a copy of a slice from a DataFrame.\n",
      "Try using .loc[row_indexer,col_indexer] = value instead\n",
      "\n",
      "See the caveats in the documentation: https://pandas.pydata.org/pandas-docs/stable/user_guide/indexing.html#returning-a-view-versus-a-copy\n",
      "\n",
      "A value is trying to be set on a copy of a slice from a DataFrame.\n",
      "Try using .loc[row_indexer,col_indexer] = value instead\n",
      "\n",
      "See the caveats in the documentation: https://pandas.pydata.org/pandas-docs/stable/user_guide/indexing.html#returning-a-view-versus-a-copy\n"
     ]
    },
    {
     "name": "stdout",
     "output_type": "stream",
     "text": [
      "{'treatment_value': 1, 'control_value': 0, 'test_significance': False, 'evaluate_effect_strength': False, 'confidence_intervals': False, 'target_units': 'ate', 'effect_modifiers': ['acceleration']}\n",
      "{'treatment_value': 1, 'control_value': 0, 'test_significance': False, 'evaluate_effect_strength': False, 'confidence_intervals': False, 'target_units': 'ate', 'effect_modifiers': ['acceleration']}\n"
     ]
    },
    {
     "name": "stderr",
     "output_type": "stream",
     "text": [
      "\n",
      "A value is trying to be set on a copy of a slice from a DataFrame.\n",
      "Try using .loc[row_indexer,col_indexer] = value instead\n",
      "\n",
      "See the caveats in the documentation: https://pandas.pydata.org/pandas-docs/stable/user_guide/indexing.html#returning-a-view-versus-a-copy\n",
      "\n",
      "A value is trying to be set on a copy of a slice from a DataFrame.\n",
      "Try using .loc[row_indexer,col_indexer] = value instead\n",
      "\n",
      "See the caveats in the documentation: https://pandas.pydata.org/pandas-docs/stable/user_guide/indexing.html#returning-a-view-versus-a-copy\n",
      "\n",
      "A value is trying to be set on a copy of a slice from a DataFrame.\n",
      "Try using .loc[row_indexer,col_indexer] = value instead\n",
      "\n",
      "See the caveats in the documentation: https://pandas.pydata.org/pandas-docs/stable/user_guide/indexing.html#returning-a-view-versus-a-copy\n"
     ]
    },
    {
     "name": "stdout",
     "output_type": "stream",
     "text": [
      "{'treatment_value': 1, 'control_value': 0, 'test_significance': False, 'evaluate_effect_strength': False, 'confidence_intervals': False, 'target_units': 'ate', 'effect_modifiers': ['acceleration']}\n",
      "{'treatment_value': 1, 'control_value': 0, 'test_significance': False, 'evaluate_effect_strength': False, 'confidence_intervals': False, 'target_units': 'ate', 'effect_modifiers': ['acceleration']}\n"
     ]
    },
    {
     "name": "stdout",
     "output_type": "stream",
     "text": [
      "{'treatment_value': 1, 'control_value': 0, 'test_significance': False, 'evaluate_effect_strength': False, 'confidence_intervals': False, 'target_units': 'ate', 'effect_modifiers': ['acceleration']}\n",
      "{'treatment_value': 1, 'control_value': 0, 'test_significance': False, 'evaluate_effect_strength': False, 'confidence_intervals': False, 'target_units': 'ate', 'effect_modifiers': ['acceleration']}\n",
      "{'treatment_value': 1, 'control_value': 0, 'test_significance': False, 'evaluate_effect_strength': False, 'confidence_intervals': False, 'target_units': 'ate', 'effect_modifiers': ['acceleration']}"
     ]
    },
    {
     "name": "stderr",
     "output_type": "stream",
     "text": [
      "\n",
      "A value is trying to be set on a copy of a slice from a DataFrame.\n",
      "Try using .loc[row_indexer,col_indexer] = value instead\n",
      "\n",
      "See the caveats in the documentation: https://pandas.pydata.org/pandas-docs/stable/user_guide/indexing.html#returning-a-view-versus-a-copy\n",
      "\n",
      "A value is trying to be set on a copy of a slice from a DataFrame.\n",
      "Try using .loc[row_indexer,col_indexer] = value instead\n",
      "\n",
      "See the caveats in the documentation: https://pandas.pydata.org/pandas-docs/stable/user_guide/indexing.html#returning-a-view-versus-a-copy\n"
     ]
    },
    {
     "name": "stdout",
     "output_type": "stream",
     "text": [
      "\n",
      "{'treatment_value': 1, 'control_value': 0, 'test_significance': False, 'evaluate_effect_strength': False, 'confidence_intervals': False, 'target_units': 'ate', 'effect_modifiers': ['acceleration']}\n"
     ]
    },
    {
     "name": "stderr",
     "output_type": "stream",
     "text": [
      "\n",
      "A value is trying to be set on a copy of a slice from a DataFrame.\n",
      "Try using .loc[row_indexer,col_indexer] = value instead\n",
      "\n",
      "See the caveats in the documentation: https://pandas.pydata.org/pandas-docs/stable/user_guide/indexing.html#returning-a-view-versus-a-copy\n",
      "\n",
      "A value is trying to be set on a copy of a slice from a DataFrame.\n",
      "Try using .loc[row_indexer,col_indexer] = value instead\n",
      "\n",
      "See the caveats in the documentation: https://pandas.pydata.org/pandas-docs/stable/user_guide/indexing.html#returning-a-view-versus-a-copy\n"
     ]
    },
    {
     "name": "stdout",
     "output_type": "stream",
     "text": [
      "{'treatment_value': 1, 'control_value': 0, 'test_significance': False, 'evaluate_effect_strength': False, 'confidence_intervals': False, 'target_units': 'ate', 'effect_modifiers': ['acceleration']}\n",
      "{'treatment_value': 1, 'control_value': 0, 'test_significance': False, 'evaluate_effect_strength': False, 'confidence_intervals': False, 'target_units': 'ate', 'effect_modifiers': ['acceleration']}\n"
     ]
    },
    {
     "name": "stderr",
     "output_type": "stream",
     "text": [
      "\n",
      "A value is trying to be set on a copy of a slice from a DataFrame.\n",
      "Try using .loc[row_indexer,col_indexer] = value instead\n",
      "\n",
      "See the caveats in the documentation: https://pandas.pydata.org/pandas-docs/stable/user_guide/indexing.html#returning-a-view-versus-a-copy\n",
      "\n",
      "A value is trying to be set on a copy of a slice from a DataFrame.\n",
      "Try using .loc[row_indexer,col_indexer] = value instead\n",
      "\n",
      "See the caveats in the documentation: https://pandas.pydata.org/pandas-docs/stable/user_guide/indexing.html#returning-a-view-versus-a-copy\n",
      "\n",
      "A value is trying to be set on a copy of a slice from a DataFrame.\n",
      "Try using .loc[row_indexer,col_indexer] = value instead\n",
      "\n",
      "See the caveats in the documentation: https://pandas.pydata.org/pandas-docs/stable/user_guide/indexing.html#returning-a-view-versus-a-copy\n"
     ]
    },
    {
     "name": "stdout",
     "output_type": "stream",
     "text": [
      "{'treatment_value': 1, 'control_value': 0, 'test_significance': False, 'evaluate_effect_strength': False, 'confidence_intervals': False, 'target_units': 'ate', 'effect_modifiers': ['acceleration']}\n",
      "{'treatment_value': 1, 'control_value': 0, 'test_significance': False, 'evaluate_effect_strength': False, 'confidence_intervals': False, 'target_units': 'ate', 'effect_modifiers': ['acceleration']}\n"
     ]
    },
    {
     "name": "stderr",
     "output_type": "stream",
     "text": [
      "\n",
      "A value is trying to be set on a copy of a slice from a DataFrame.\n",
      "Try using .loc[row_indexer,col_indexer] = value instead\n",
      "\n",
      "See the caveats in the documentation: https://pandas.pydata.org/pandas-docs/stable/user_guide/indexing.html#returning-a-view-versus-a-copy\n",
      "\n",
      "A value is trying to be set on a copy of a slice from a DataFrame.\n",
      "Try using .loc[row_indexer,col_indexer] = value instead\n",
      "\n",
      "See the caveats in the documentation: https://pandas.pydata.org/pandas-docs/stable/user_guide/indexing.html#returning-a-view-versus-a-copy\n"
     ]
    },
    {
     "name": "stdout",
     "output_type": "stream",
     "text": [
      "{'treatment_value': 1, 'control_value': 0, 'test_significance': False, 'evaluate_effect_strength': False, 'confidence_intervals': False, 'target_units': 'ate', 'effect_modifiers': ['acceleration']}\n",
      "{'treatment_value': 1, 'control_value': 0, 'test_significance': False, 'evaluate_effect_strength': False, 'confidence_intervals': False, 'target_units': 'ate', 'effect_modifiers': ['acceleration']}\n"
     ]
    },
    {
     "name": "stderr",
     "output_type": "stream",
     "text": [
      "\n",
      "A value is trying to be set on a copy of a slice from a DataFrame.\n",
      "Try using .loc[row_indexer,col_indexer] = value instead\n",
      "\n",
      "See the caveats in the documentation: https://pandas.pydata.org/pandas-docs/stable/user_guide/indexing.html#returning-a-view-versus-a-copy\n",
      "\n",
      "A value is trying to be set on a copy of a slice from a DataFrame.\n",
      "Try using .loc[row_indexer,col_indexer] = value instead\n",
      "\n",
      "See the caveats in the documentation: https://pandas.pydata.org/pandas-docs/stable/user_guide/indexing.html#returning-a-view-versus-a-copy\n",
      "\n",
      "A value is trying to be set on a copy of a slice from a DataFrame.\n",
      "Try using .loc[row_indexer,col_indexer] = value instead\n",
      "\n",
      "See the caveats in the documentation: https://pandas.pydata.org/pandas-docs/stable/user_guide/indexing.html#returning-a-view-versus-a-copy\n"
     ]
    },
    {
     "name": "stdout",
     "output_type": "stream",
     "text": [
      "{'treatment_value': 1, 'control_value': 0, 'test_significance': False, 'evaluate_effect_strength': False, 'confidence_intervals': False, 'target_units': 'ate', 'effect_modifiers': ['acceleration']}\n",
      "{'treatment_value': 1, 'control_value': 0, 'test_significance': False, 'evaluate_effect_strength': False, 'confidence_intervals': False, 'target_units': 'ate', 'effect_modifiers': ['acceleration']}\n"
     ]
    },
    {
     "name": "stdout",
     "output_type": "stream",
     "text": [
      "{'treatment_value': 1, 'control_value': 0, 'test_significance': False, 'evaluate_effect_strength': False, 'confidence_intervals': False, 'target_units': 'ate', 'effect_modifiers': ['acceleration']}\n",
      "{'treatment_value': 1, 'control_value': 0, 'test_significance': False, 'evaluate_effect_strength': False, 'confidence_intervals': False, 'target_units': 'ate', 'effect_modifiers': ['acceleration']}\n"
     ]
    },
    {
     "name": "stderr",
     "output_type": "stream",
     "text": [
      "\n",
      "A value is trying to be set on a copy of a slice from a DataFrame.\n",
      "Try using .loc[row_indexer,col_indexer] = value instead\n",
      "\n",
      "See the caveats in the documentation: https://pandas.pydata.org/pandas-docs/stable/user_guide/indexing.html#returning-a-view-versus-a-copy\n",
      "\n",
      "A value is trying to be set on a copy of a slice from a DataFrame.\n",
      "Try using .loc[row_indexer,col_indexer] = value instead\n",
      "\n",
      "See the caveats in the documentation: https://pandas.pydata.org/pandas-docs/stable/user_guide/indexing.html#returning-a-view-versus-a-copy\n"
     ]
    },
    {
     "name": "stdout",
     "output_type": "stream",
     "text": [
      "{'treatment_value': 1, 'control_value': 0, 'test_significance': False, 'evaluate_effect_strength': False, 'confidence_intervals': False, 'target_units': 'ate', 'effect_modifiers': ['acceleration']}\n",
      "{'treatment_value': 1, 'control_value': 0, 'test_significance': False, 'evaluate_effect_strength': False, 'confidence_intervals': False, 'target_units': 'ate', 'effect_modifiers': ['acceleration']}\n"
     ]
    },
    {
     "name": "stderr",
     "output_type": "stream",
     "text": [
      "\n",
      "A value is trying to be set on a copy of a slice from a DataFrame.\n",
      "Try using .loc[row_indexer,col_indexer] = value instead\n",
      "\n",
      "See the caveats in the documentation: https://pandas.pydata.org/pandas-docs/stable/user_guide/indexing.html#returning-a-view-versus-a-copy\n",
      "\n",
      "A value is trying to be set on a copy of a slice from a DataFrame.\n",
      "Try using .loc[row_indexer,col_indexer] = value instead\n",
      "\n",
      "See the caveats in the documentation: https://pandas.pydata.org/pandas-docs/stable/user_guide/indexing.html#returning-a-view-versus-a-copy\n",
      "\n",
      "A value is trying to be set on a copy of a slice from a DataFrame.\n",
      "Try using .loc[row_indexer,col_indexer] = value instead\n",
      "\n",
      "See the caveats in the documentation: https://pandas.pydata.org/pandas-docs/stable/user_guide/indexing.html#returning-a-view-versus-a-copy\n"
     ]
    },
    {
     "name": "stdout",
     "output_type": "stream",
     "text": [
      "{'treatment_value': 1, 'control_value': 0, 'test_significance': False, 'evaluate_effect_strength': False, 'confidence_intervals': False, 'target_units': 'ate', 'effect_modifiers': ['acceleration']}\n",
      "{'treatment_value': 1, 'control_value': 0, 'test_significance': False, 'evaluate_effect_strength': False, 'confidence_intervals': False, 'target_units': 'ate', 'effect_modifiers': ['acceleration']}\n"
     ]
    },
    {
     "name": "stderr",
     "output_type": "stream",
     "text": [
      "\n",
      "A value is trying to be set on a copy of a slice from a DataFrame.\n",
      "Try using .loc[row_indexer,col_indexer] = value instead\n",
      "\n",
      "See the caveats in the documentation: https://pandas.pydata.org/pandas-docs/stable/user_guide/indexing.html#returning-a-view-versus-a-copy\n",
      "\n",
      "A value is trying to be set on a copy of a slice from a DataFrame.\n",
      "Try using .loc[row_indexer,col_indexer] = value instead\n",
      "\n",
      "See the caveats in the documentation: https://pandas.pydata.org/pandas-docs/stable/user_guide/indexing.html#returning-a-view-versus-a-copy\n",
      "\n",
      "A value is trying to be set on a copy of a slice from a DataFrame.\n",
      "Try using .loc[row_indexer,col_indexer] = value instead\n",
      "\n",
      "See the caveats in the documentation: https://pandas.pydata.org/pandas-docs/stable/user_guide/indexing.html#returning-a-view-versus-a-copy\n"
     ]
    },
    {
     "name": "stdout",
     "output_type": "stream",
     "text": [
      "{'treatment_value': 1, 'control_value': 0, 'test_significance': False, 'evaluate_effect_strength': False, 'confidence_intervals': False, 'target_units': 'ate', 'effect_modifiers': ['acceleration']}\n",
      "{'treatment_value': 1, 'control_value': 0, 'test_significance': False, 'evaluate_effect_strength': False, 'confidence_intervals': False, 'target_units': 'ate', 'effect_modifiers': ['acceleration']}\n"
     ]
    },
    {
     "name": "stdout",
     "output_type": "stream",
     "text": [
      "{'treatment_value': 1, 'control_value': 0, 'test_significance': False, 'evaluate_effect_strength': False, 'confidence_intervals': False, 'target_units': 'ate', 'effect_modifiers': ['acceleration']}\n",
      "{'treatment_value': 1, 'control_value': 0, 'test_significance': False, 'evaluate_effect_strength': False, 'confidence_intervals': False, 'target_units': 'ate', 'effect_modifiers': ['acceleration']}\n"
     ]
    },
    {
     "name": "stderr",
     "output_type": "stream",
     "text": [
      "\n",
      "A value is trying to be set on a copy of a slice from a DataFrame.\n",
      "Try using .loc[row_indexer,col_indexer] = value instead\n",
      "\n",
      "See the caveats in the documentation: https://pandas.pydata.org/pandas-docs/stable/user_guide/indexing.html#returning-a-view-versus-a-copy\n",
      "\n",
      "A value is trying to be set on a copy of a slice from a DataFrame.\n",
      "Try using .loc[row_indexer,col_indexer] = value instead\n",
      "\n",
      "See the caveats in the documentation: https://pandas.pydata.org/pandas-docs/stable/user_guide/indexing.html#returning-a-view-versus-a-copy\n"
     ]
    },
    {
     "name": "stdout",
     "output_type": "stream",
     "text": [
      "{'treatment_value': 1, 'control_value': 0, 'test_significance': False, 'evaluate_effect_strength': False, 'confidence_intervals': False, 'target_units': 'ate', 'effect_modifiers': ['acceleration']}\n",
      "{'treatment_value': 1, 'control_value': 0, 'test_significance': False, 'evaluate_effect_strength': False, 'confidence_intervals': False, 'target_units': 'ate', 'effect_modifiers': ['acceleration']}\n"
     ]
    },
    {
     "name": "stderr",
     "output_type": "stream",
     "text": [
      "\n",
      "A value is trying to be set on a copy of a slice from a DataFrame.\n",
      "Try using .loc[row_indexer,col_indexer] = value instead\n",
      "\n",
      "See the caveats in the documentation: https://pandas.pydata.org/pandas-docs/stable/user_guide/indexing.html#returning-a-view-versus-a-copy\n",
      "\n",
      "A value is trying to be set on a copy of a slice from a DataFrame.\n",
      "Try using .loc[row_indexer,col_indexer] = value instead\n",
      "\n",
      "See the caveats in the documentation: https://pandas.pydata.org/pandas-docs/stable/user_guide/indexing.html#returning-a-view-versus-a-copy\n"
     ]
    },
    {
     "name": "stdout",
     "output_type": "stream",
     "text": [
      "{'treatment_value': 1, 'control_value': 0, 'test_significance': False, 'evaluate_effect_strength': False, 'confidence_intervals': False, 'target_units': 'ate', 'effect_modifiers': ['acceleration']}\n",
      "{'treatment_value': 1, 'control_value': 0, 'test_significance': False, 'evaluate_effect_strength': False, 'confidence_intervals': False, 'target_units': 'ate', 'effect_modifiers': ['acceleration']}\n"
     ]
    },
    {
     "name": "stderr",
     "output_type": "stream",
     "text": [
      "\n",
      "A value is trying to be set on a copy of a slice from a DataFrame.\n",
      "Try using .loc[row_indexer,col_indexer] = value instead\n",
      "\n",
      "See the caveats in the documentation: https://pandas.pydata.org/pandas-docs/stable/user_guide/indexing.html#returning-a-view-versus-a-copy\n",
      "\n",
      "A value is trying to be set on a copy of a slice from a DataFrame.\n",
      "Try using .loc[row_indexer,col_indexer] = value instead\n",
      "\n",
      "See the caveats in the documentation: https://pandas.pydata.org/pandas-docs/stable/user_guide/indexing.html#returning-a-view-versus-a-copy\n"
     ]
    },
    {
     "name": "stdout",
     "output_type": "stream",
     "text": [
      "{'treatment_value': 1, 'control_value': 0, 'test_significance': False, 'evaluate_effect_strength': False, 'confidence_intervals': False, 'target_units': 'ate', 'effect_modifiers': ['acceleration']}\n",
      "{'treatment_value': 1, 'control_value': 0, 'test_significance': False, 'evaluate_effect_strength': False, 'confidence_intervals': False, 'target_units': 'ate', 'effect_modifiers': ['acceleration']}\n"
     ]
    },
    {
     "name": "stderr",
     "output_type": "stream",
     "text": [
      "\n",
      "A value is trying to be set on a copy of a slice from a DataFrame.\n",
      "Try using .loc[row_indexer,col_indexer] = value instead\n",
      "\n",
      "See the caveats in the documentation: https://pandas.pydata.org/pandas-docs/stable/user_guide/indexing.html#returning-a-view-versus-a-copy\n",
      "\n",
      "A value is trying to be set on a copy of a slice from a DataFrame.\n",
      "Try using .loc[row_indexer,col_indexer] = value instead\n",
      "\n",
      "See the caveats in the documentation: https://pandas.pydata.org/pandas-docs/stable/user_guide/indexing.html#returning-a-view-versus-a-copy\n"
     ]
    },
    {
     "name": "stdout",
     "output_type": "stream",
     "text": [
      "{'treatment_value': 1, 'control_value': 0, 'test_significance': False, 'evaluate_effect_strength': False, 'confidence_intervals': False, 'target_units': 'ate', 'effect_modifiers': ['acceleration']}\n",
      "{'treatment_value': 1, 'control_value': 0, 'test_significance': False, 'evaluate_effect_strength': False, 'confidence_intervals': False, 'target_units': 'ate', 'effect_modifiers': ['acceleration']}\n"
     ]
    },
    {
     "name": "stderr",
     "output_type": "stream",
     "text": [
      "\n",
      "A value is trying to be set on a copy of a slice from a DataFrame.\n",
      "Try using .loc[row_indexer,col_indexer] = value instead\n",
      "\n",
      "See the caveats in the documentation: https://pandas.pydata.org/pandas-docs/stable/user_guide/indexing.html#returning-a-view-versus-a-copy\n",
      "\n",
      "A value is trying to be set on a copy of a slice from a DataFrame.\n",
      "Try using .loc[row_indexer,col_indexer] = value instead\n",
      "\n",
      "See the caveats in the documentation: https://pandas.pydata.org/pandas-docs/stable/user_guide/indexing.html#returning-a-view-versus-a-copy\n"
     ]
    },
    {
     "name": "stdout",
     "output_type": "stream",
     "text": [
      "{'treatment_value': 1, 'control_value': 0, 'test_significance': False, 'evaluate_effect_strength': False, 'confidence_intervals': False, 'target_units': 'ate', 'effect_modifiers': ['acceleration']}\n",
      "{'treatment_value': 1, 'control_value': 0, 'test_significance': False, 'evaluate_effect_strength': False, 'confidence_intervals': False, 'target_units': 'ate', 'effect_modifiers': ['acceleration']}\n"
     ]
    },
    {
     "name": "stderr",
     "output_type": "stream",
     "text": [
      "\n",
      "A value is trying to be set on a copy of a slice from a DataFrame.\n",
      "Try using .loc[row_indexer,col_indexer] = value instead\n",
      "\n",
      "See the caveats in the documentation: https://pandas.pydata.org/pandas-docs/stable/user_guide/indexing.html#returning-a-view-versus-a-copy\n",
      "\n",
      "A value is trying to be set on a copy of a slice from a DataFrame.\n",
      "Try using .loc[row_indexer,col_indexer] = value instead\n",
      "\n",
      "See the caveats in the documentation: https://pandas.pydata.org/pandas-docs/stable/user_guide/indexing.html#returning-a-view-versus-a-copy\n"
     ]
    },
    {
     "name": "stdout",
     "output_type": "stream",
     "text": [
      "{'treatment_value': 1, 'control_value': 0, 'test_significance': False, 'evaluate_effect_strength': False, 'confidence_intervals': False, 'target_units': 'ate', 'effect_modifiers': ['acceleration']}\n",
      "{'treatment_value': 1, 'control_value': 0, 'test_significance': False, 'evaluate_effect_strength': False, 'confidence_intervals': False, 'target_units': 'ate', 'effect_modifiers': ['acceleration']}\n"
     ]
    },
    {
     "name": "stderr",
     "output_type": "stream",
     "text": [
      "\n",
      "A value is trying to be set on a copy of a slice from a DataFrame.\n",
      "Try using .loc[row_indexer,col_indexer] = value instead\n",
      "\n",
      "See the caveats in the documentation: https://pandas.pydata.org/pandas-docs/stable/user_guide/indexing.html#returning-a-view-versus-a-copy\n",
      "\n",
      "A value is trying to be set on a copy of a slice from a DataFrame.\n",
      "Try using .loc[row_indexer,col_indexer] = value instead\n",
      "\n",
      "See the caveats in the documentation: https://pandas.pydata.org/pandas-docs/stable/user_guide/indexing.html#returning-a-view-versus-a-copy\n"
     ]
    },
    {
     "name": "stdout",
     "output_type": "stream",
     "text": [
      "{'treatment_value': 1, 'control_value': 0, 'test_significance': False, 'evaluate_effect_strength': False, 'confidence_intervals': False, 'target_units': 'ate', 'effect_modifiers': ['acceleration']}\n",
      "{'treatment_value': 1, 'control_value': 0, 'test_significance': False, 'evaluate_effect_strength': False, 'confidence_intervals': False, 'target_units': 'ate', 'effect_modifiers': ['acceleration']}\n"
     ]
    },
    {
     "name": "stderr",
     "output_type": "stream",
     "text": [
      "\n",
      "A value is trying to be set on a copy of a slice from a DataFrame.\n",
      "Try using .loc[row_indexer,col_indexer] = value instead\n",
      "\n",
      "See the caveats in the documentation: https://pandas.pydata.org/pandas-docs/stable/user_guide/indexing.html#returning-a-view-versus-a-copy\n",
      "\n",
      "A value is trying to be set on a copy of a slice from a DataFrame.\n",
      "Try using .loc[row_indexer,col_indexer] = value instead\n",
      "\n",
      "See the caveats in the documentation: https://pandas.pydata.org/pandas-docs/stable/user_guide/indexing.html#returning-a-view-versus-a-copy\n"
     ]
    },
    {
     "name": "stdout",
     "output_type": "stream",
     "text": [
      "{'treatment_value': 1, 'control_value': 0, 'test_significance': False, 'evaluate_effect_strength': False, 'confidence_intervals': False, 'target_units': 'ate', 'effect_modifiers': ['acceleration']}\n",
      "{'treatment_value': 1, 'control_value': 0, 'test_significance': False, 'evaluate_effect_strength': False, 'confidence_intervals': False, 'target_units': 'ate', 'effect_modifiers': ['acceleration']}\n"
     ]
    },
    {
     "name": "stderr",
     "output_type": "stream",
     "text": [
      "\n",
      "A value is trying to be set on a copy of a slice from a DataFrame.\n",
      "Try using .loc[row_indexer,col_indexer] = value instead\n",
      "\n",
      "See the caveats in the documentation: https://pandas.pydata.org/pandas-docs/stable/user_guide/indexing.html#returning-a-view-versus-a-copy\n",
      "\n",
      "A value is trying to be set on a copy of a slice from a DataFrame.\n",
      "Try using .loc[row_indexer,col_indexer] = value instead\n",
      "\n",
      "See the caveats in the documentation: https://pandas.pydata.org/pandas-docs/stable/user_guide/indexing.html#returning-a-view-versus-a-copy\n",
      "\n",
      "A value is trying to be set on a copy of a slice from a DataFrame.\n",
      "Try using .loc[row_indexer,col_indexer] = value instead\n",
      "\n",
      "See the caveats in the documentation: https://pandas.pydata.org/pandas-docs/stable/user_guide/indexing.html#returning-a-view-versus-a-copy\n"
     ]
    },
    {
     "name": "stdout",
     "output_type": "stream",
     "text": [
      "{'treatment_value': 1, 'control_value': 0, 'test_significance': False, 'evaluate_effect_strength': False, 'confidence_intervals': False, 'target_units': 'ate', 'effect_modifiers': ['acceleration']}\n",
      "{'treatment_value': 1, 'control_value': 0, 'test_significance': False, 'evaluate_effect_strength': False, 'confidence_intervals': False, 'target_units': 'ate', 'effect_modifiers': ['acceleration']}\n"
     ]
    },
    {
     "name": "stderr",
     "output_type": "stream",
     "text": [
      "\n",
      "A value is trying to be set on a copy of a slice from a DataFrame.\n",
      "Try using .loc[row_indexer,col_indexer] = value instead\n",
      "\n",
      "See the caveats in the documentation: https://pandas.pydata.org/pandas-docs/stable/user_guide/indexing.html#returning-a-view-versus-a-copy\n",
      "\n",
      "A value is trying to be set on a copy of a slice from a DataFrame.\n",
      "Try using .loc[row_indexer,col_indexer] = value instead\n",
      "\n",
      "See the caveats in the documentation: https://pandas.pydata.org/pandas-docs/stable/user_guide/indexing.html#returning-a-view-versus-a-copy\n"
     ]
    },
    {
     "name": "stdout",
     "output_type": "stream",
     "text": [
      "{'treatment_value': 1, 'control_value': 0, 'test_significance': False, 'evaluate_effect_strength': False, 'confidence_intervals': False, 'target_units': 'ate', 'effect_modifiers': ['acceleration']}\n",
      "{'treatment_value': 1, 'control_value': 0, 'test_significance': False, 'evaluate_effect_strength': False, 'confidence_intervals': False, 'target_units': 'ate', 'effect_modifiers': ['acceleration']}\n"
     ]
    },
    {
     "name": "stderr",
     "output_type": "stream",
     "text": [
      "\n",
      "A value is trying to be set on a copy of a slice from a DataFrame.\n",
      "Try using .loc[row_indexer,col_indexer] = value instead\n",
      "\n",
      "See the caveats in the documentation: https://pandas.pydata.org/pandas-docs/stable/user_guide/indexing.html#returning-a-view-versus-a-copy\n",
      "\n",
      "A value is trying to be set on a copy of a slice from a DataFrame.\n",
      "Try using .loc[row_indexer,col_indexer] = value instead\n",
      "\n",
      "See the caveats in the documentation: https://pandas.pydata.org/pandas-docs/stable/user_guide/indexing.html#returning-a-view-versus-a-copy\n",
      "\n",
      "A value is trying to be set on a copy of a slice from a DataFrame.\n",
      "Try using .loc[row_indexer,col_indexer] = value instead\n",
      "\n",
      "See the caveats in the documentation: https://pandas.pydata.org/pandas-docs/stable/user_guide/indexing.html#returning-a-view-versus-a-copy\n"
     ]
    },
    {
     "name": "stdout",
     "output_type": "stream",
     "text": [
      "{'treatment_value': 1, 'control_value': 0, 'test_significance': False, 'evaluate_effect_strength': False, 'confidence_intervals': False, 'target_units': 'ate', 'effect_modifiers': ['acceleration']}\n",
      "{'treatment_value': 1, 'control_value': 0, 'test_significance': False, 'evaluate_effect_strength': False, 'confidence_intervals': False, 'target_units': 'ate', 'effect_modifiers': ['acceleration']}\n"
     ]
    },
    {
     "name": "stdout",
     "output_type": "stream",
     "text": [
      "{'treatment_value': 1, 'control_value': 0, 'test_significance': False, 'evaluate_effect_strength': False, 'confidence_intervals': False, 'target_units': 'ate', 'effect_modifiers': ['acceleration']}\n",
      "{'treatment_value': 1, 'control_value': 0, 'test_significance': False, 'evaluate_effect_strength': False, 'confidence_intervals': False, 'target_units': 'ate', 'effect_modifiers': ['acceleration']}\n"
     ]
    },
    {
     "name": "stderr",
     "output_type": "stream",
     "text": [
      "\n",
      "A value is trying to be set on a copy of a slice from a DataFrame.\n",
      "Try using .loc[row_indexer,col_indexer] = value instead\n",
      "\n",
      "See the caveats in the documentation: https://pandas.pydata.org/pandas-docs/stable/user_guide/indexing.html#returning-a-view-versus-a-copy\n",
      "\n",
      "A value is trying to be set on a copy of a slice from a DataFrame.\n",
      "Try using .loc[row_indexer,col_indexer] = value instead\n",
      "\n",
      "See the caveats in the documentation: https://pandas.pydata.org/pandas-docs/stable/user_guide/indexing.html#returning-a-view-versus-a-copy\n"
     ]
    },
    {
     "name": "stdout",
     "output_type": "stream",
     "text": [
      "{'treatment_value': 1, 'control_value': 0, 'test_significance': False, 'evaluate_effect_strength': False, 'confidence_intervals': False, 'target_units': 'ate', 'effect_modifiers': ['acceleration']}\n",
      "{'treatment_value': 1, 'control_value': 0, 'test_significance': False, 'evaluate_effect_strength': False, 'confidence_intervals': False, 'target_units': 'ate', 'effect_modifiers': ['acceleration']}\n"
     ]
    },
    {
     "name": "stderr",
     "output_type": "stream",
     "text": [
      "\n",
      "A value is trying to be set on a copy of a slice from a DataFrame.\n",
      "Try using .loc[row_indexer,col_indexer] = value instead\n",
      "\n",
      "See the caveats in the documentation: https://pandas.pydata.org/pandas-docs/stable/user_guide/indexing.html#returning-a-view-versus-a-copy\n",
      "\n",
      "A value is trying to be set on a copy of a slice from a DataFrame.\n",
      "Try using .loc[row_indexer,col_indexer] = value instead\n",
      "\n",
      "See the caveats in the documentation: https://pandas.pydata.org/pandas-docs/stable/user_guide/indexing.html#returning-a-view-versus-a-copy\n"
     ]
    },
    {
     "name": "stdout",
     "output_type": "stream",
     "text": [
      "{'treatment_value': 1, 'control_value': 0, 'test_significance': False, 'evaluate_effect_strength': False, 'confidence_intervals': False, 'target_units': 'ate', 'effect_modifiers': ['acceleration']}\n",
      "Causal Estimate is -38.94097365620837\n"
     ]
    },
    {
     "name": "stderr",
     "output_type": "stream",
     "text": [
      "\n",
      "A value is trying to be set on a copy of a slice from a DataFrame.\n",
      "Try using .loc[row_indexer,col_indexer] = value instead\n",
      "\n",
      "See the caveats in the documentation: https://pandas.pydata.org/pandas-docs/stable/user_guide/indexing.html#returning-a-view-versus-a-copy\n"
     ]
    }
   ],
   "source": [
    "for method, graph in graphs.items():\n",
    "        if method != \"LiNGAM\":\n",
    "            continue\n",
    "        print('\\n*****************************************************************************\\n')\n",
    "        print(\"Causal Discovery Method : %s\"%(method))\n",
    "        \n",
    "        # Obtain valid dot format\n",
    "        graph_dot = str_to_dot(graph.source)\n",
    "\n",
    "        # Define Causal Model\n",
    "        model=CausalModel(\n",
    "                data = data_mpg,\n",
    "                treatment='mpg',\n",
    "                outcome='weight',\n",
    "                graph=graph_dot)\n",
    "\n",
    "        # Identification\n",
    "        identified_estimand = model.identify_effect(proceed_when_unidentifiable=True)\n",
    "        print(identified_estimand)\n",
    "        \n",
    "        # Estimation\n",
    "        estimate = model.estimate_effect(identified_estimand,\n",
    "                                        method_name=\"backdoor.linear_regression\",\n",
    "                                        control_value=0,\n",
    "                                        treatment_value=1,\n",
    "                                        confidence_intervals=True,\n",
    "                                        test_significance=True)\n",
    "        print(\"Causal Estimate is \" + str(estimate.value))"
   ]
  },
  {
   "cell_type": "markdown",
   "metadata": {},
   "source": [
    "As mentioned earlier, due to the absence of directed edges, no backdoor, instrmental or frontdoor variables can be found out for PC and GES. Thus, causal effect estimation is not possible for these methods. However, LiNGAM does discover a DAG and hence, its possible to output a causal estimate for LiNGAM. The estimate is still pretty far from the original estimate of -70.466 (which can be calculated from the graph)."
   ]
  },
  {
   "cell_type": "markdown",
   "metadata": {},
   "source": [
    "# Experiments on the Sachs dataset\n",
    "\n",
    "The dataset consists of the simultaneous measurements of 11 phosphorylated proteins and phospholipids derived from thousands of individual primary immune system cells, subjected to both general and specific molecular interventions (Sachs et al., 2005).\n",
    "\n",
    "The specifications of the dataset are as follows - \n",
    "- Number of nodes: 11\n",
    "- Number of arcs: 17\n",
    "- Number of parameters: 178\n",
    "- Average Markov blanket size: 3.09\n",
    "- Average degree: 3.09\n",
    "- Maximum in-degree: 3\n",
    "- Number of instances: 7466\n",
    "\n",
    "The original causal graph is known for the Sachs dataset and we compare the original graph with the ones discovered using CDT in this section."
   ]
  },
  {
   "cell_type": "markdown",
   "metadata": {},
   "source": [
    "## 1. Load the data"
   ]
  },
  {
   "cell_type": "code",
   "execution_count": 6,
   "metadata": {
    "execution": {
     "iopub.execute_input": "2022-03-20T14:42:04.015952Z",
     "iopub.status.busy": "2022-03-20T14:42:04.014690Z",
     "iopub.status.idle": "2022-03-20T14:42:04.083028Z",
     "shell.execute_reply": "2022-03-20T14:42:04.084040Z"
    }
   },
   "outputs": [
    {
     "name": "stdout",
     "output_type": "stream",
     "text": [
      "(7466, 11)\n"
     ]
    },
    {
     "data": {
      "text/html": [
       "<div>\n",
       "<style scoped>\n",
       "    .dataframe tbody tr th:only-of-type {\n",
       "        vertical-align: middle;\n",
       "    }\n",
       "\n",
       "    .dataframe tbody tr th {\n",
       "        vertical-align: top;\n",
       "    }\n",
       "\n",
       "    .dataframe thead th {\n",
       "        text-align: right;\n",
       "    }\n",
       "</style>\n",
       "<table border=\"1\" class=\"dataframe\">\n",
       "  <thead>\n",
       "    <tr style=\"text-align: right;\">\n",
       "      <th></th>\n",
       "      <th>praf</th>\n",
       "      <th>pmek</th>\n",
       "      <th>plcg</th>\n",
       "      <th>PIP2</th>\n",
       "      <th>PIP3</th>\n",
       "      <th>p44/42</th>\n",
       "      <th>pakts473</th>\n",
       "      <th>PKA</th>\n",
       "      <th>PKC</th>\n",
       "      <th>P38</th>\n",
       "      <th>pjnk</th>\n",
       "    </tr>\n",
       "  </thead>\n",
       "  <tbody>\n",
       "    <tr>\n",
       "      <th>0</th>\n",
       "      <td>26.4</td>\n",
       "      <td>13.2</td>\n",
       "      <td>8.82</td>\n",
       "      <td>18.30</td>\n",
       "      <td>58.80</td>\n",
       "      <td>6.61</td>\n",
       "      <td>17.0</td>\n",
       "      <td>414.0</td>\n",
       "      <td>17.00</td>\n",
       "      <td>44.9</td>\n",
       "      <td>40.0</td>\n",
       "    </tr>\n",
       "    <tr>\n",
       "      <th>1</th>\n",
       "      <td>35.9</td>\n",
       "      <td>16.5</td>\n",
       "      <td>12.30</td>\n",
       "      <td>16.80</td>\n",
       "      <td>8.13</td>\n",
       "      <td>18.60</td>\n",
       "      <td>32.5</td>\n",
       "      <td>352.0</td>\n",
       "      <td>3.37</td>\n",
       "      <td>16.5</td>\n",
       "      <td>61.5</td>\n",
       "    </tr>\n",
       "    <tr>\n",
       "      <th>2</th>\n",
       "      <td>59.4</td>\n",
       "      <td>44.1</td>\n",
       "      <td>14.60</td>\n",
       "      <td>10.20</td>\n",
       "      <td>13.00</td>\n",
       "      <td>14.90</td>\n",
       "      <td>32.5</td>\n",
       "      <td>403.0</td>\n",
       "      <td>11.40</td>\n",
       "      <td>31.9</td>\n",
       "      <td>19.5</td>\n",
       "    </tr>\n",
       "    <tr>\n",
       "      <th>3</th>\n",
       "      <td>73.0</td>\n",
       "      <td>82.8</td>\n",
       "      <td>23.10</td>\n",
       "      <td>13.50</td>\n",
       "      <td>1.29</td>\n",
       "      <td>5.83</td>\n",
       "      <td>11.8</td>\n",
       "      <td>528.0</td>\n",
       "      <td>13.70</td>\n",
       "      <td>28.6</td>\n",
       "      <td>23.1</td>\n",
       "    </tr>\n",
       "    <tr>\n",
       "      <th>4</th>\n",
       "      <td>33.7</td>\n",
       "      <td>19.8</td>\n",
       "      <td>5.19</td>\n",
       "      <td>9.73</td>\n",
       "      <td>24.80</td>\n",
       "      <td>21.10</td>\n",
       "      <td>46.1</td>\n",
       "      <td>305.0</td>\n",
       "      <td>4.66</td>\n",
       "      <td>25.7</td>\n",
       "      <td>81.3</td>\n",
       "    </tr>\n",
       "  </tbody>\n",
       "</table>\n",
       "</div>"
      ],
      "text/plain": [
       "   praf  pmek   plcg   PIP2   PIP3  p44/42  pakts473    PKA    PKC   P38  pjnk\n",
       "0  26.4  13.2   8.82  18.30  58.80    6.61      17.0  414.0  17.00  44.9  40.0\n",
       "1  35.9  16.5  12.30  16.80   8.13   18.60      32.5  352.0   3.37  16.5  61.5\n",
       "2  59.4  44.1  14.60  10.20  13.00   14.90      32.5  403.0  11.40  31.9  19.5\n",
       "3  73.0  82.8  23.10  13.50   1.29    5.83      11.8  528.0  13.70  28.6  23.1\n",
       "4  33.7  19.8   5.19   9.73  24.80   21.10      46.1  305.0   4.66  25.7  81.3"
      ]
     },
     "execution_count": 6,
     "metadata": {},
     "output_type": "execute_result"
    }
   ],
   "source": [
    "from cdt.data import load_dataset\n",
    "data_sachs, graph_sachs = load_dataset(\"sachs\")\n",
    "\n",
    "data_sachs.dropna(inplace=True)\n",
    "print(data_sachs.shape)\n",
    "data_sachs.head()"
   ]
  },
  {
   "cell_type": "markdown",
   "metadata": {},
   "source": [
    "## Ground truth of the causal graph"
   ]
  },
  {
   "cell_type": "code",
   "execution_count": 7,
   "metadata": {
    "execution": {
     "iopub.execute_input": "2022-03-20T14:42:04.185954Z",
     "iopub.status.busy": "2022-03-20T14:42:04.090977Z",
     "iopub.status.idle": "2022-03-20T14:42:04.342367Z",
     "shell.execute_reply": "2022-03-20T14:42:04.343012Z"
    }
   },
   "outputs": [
    {
     "data": {
      "image/svg+xml": [
       "<?xml version=\"1.0\" encoding=\"UTF-8\" standalone=\"no\"?>\n",
       "<!DOCTYPE svg PUBLIC \"-//W3C//DTD SVG 1.1//EN\"\n",
       " \"http://www.w3.org/Graphics/SVG/1.1/DTD/svg11.dtd\">\n",
       "<!-- Generated by graphviz version 2.40.1 (20161225.0304)\n",
       " -->\n",
       "<!-- Title: %3 Pages: 1 -->\n",
       "<svg width=\"432pt\" height=\"566pt\"\n",
       " viewBox=\"0.00 0.00 432.43 566.00\" xmlns=\"http://www.w3.org/2000/svg\" xmlns:xlink=\"http://www.w3.org/1999/xlink\">\n",
       "<g id=\"graph0\" class=\"graph\" transform=\"scale(1 1) rotate(0) translate(4 562)\">\n",
       "<title>%3</title>\n",
       "<polygon fill=\"#ffffff\" stroke=\"transparent\" points=\"-4,4 -4,-562 428.4272,-562 428.4272,4 -4,4\"/>\n",
       "<!-- praf -->\n",
       "<g id=\"node1\" class=\"node\">\n",
       "<title>praf</title>\n",
       "<ellipse fill=\"none\" stroke=\"#000000\" cx=\"134.4272\" cy=\"-192\" rx=\"27\" ry=\"18\"/>\n",
       "<text text-anchor=\"middle\" x=\"134.4272\" y=\"-188.3\" font-family=\"Times,serif\" font-size=\"14.00\" fill=\"#000000\">praf</text>\n",
       "</g>\n",
       "<!-- plcg -->\n",
       "<g id=\"node3\" class=\"node\">\n",
       "<title>plcg</title>\n",
       "<ellipse fill=\"none\" stroke=\"#000000\" cx=\"197.4272\" cy=\"-105\" rx=\"27\" ry=\"18\"/>\n",
       "<text text-anchor=\"middle\" x=\"197.4272\" y=\"-101.3\" font-family=\"Times,serif\" font-size=\"14.00\" fill=\"#000000\">plcg</text>\n",
       "</g>\n",
       "<!-- praf&#45;&gt;plcg -->\n",
       "<g id=\"edge7\" class=\"edge\">\n",
       "<title>praf&#45;&gt;plcg</title>\n",
       "<path fill=\"none\" stroke=\"#000000\" d=\"M144.6342,-175.1219C150.9173,-165.0204 159.3001,-152.0413 167.4272,-141 170.4053,-136.9541 173.6921,-132.7654 176.9656,-128.7383\"/>\n",
       "<polygon fill=\"#000000\" stroke=\"#000000\" points=\"179.8652,-130.7251 183.5626,-120.7964 174.4805,-126.2523 179.8652,-130.7251\"/>\n",
       "<text text-anchor=\"middle\" x=\"176.4272\" y=\"-144.8\" font-family=\"Times,serif\" font-size=\"14.00\" fill=\"#000000\">1.0</text>\n",
       "</g>\n",
       "<!-- pmek -->\n",
       "<g id=\"node2\" class=\"node\">\n",
       "<title>pmek</title>\n",
       "<ellipse fill=\"none\" stroke=\"#000000\" cx=\"134.4272\" cy=\"-279\" rx=\"30.5947\" ry=\"18\"/>\n",
       "<text text-anchor=\"middle\" x=\"134.4272\" y=\"-275.3\" font-family=\"Times,serif\" font-size=\"14.00\" fill=\"#000000\">pmek</text>\n",
       "</g>\n",
       "<!-- pmek&#45;&gt;praf -->\n",
       "<g id=\"edge1\" class=\"edge\">\n",
       "<title>pmek&#45;&gt;praf</title>\n",
       "<path fill=\"none\" stroke=\"#000000\" d=\"M134.4272,-260.9735C134.4272,-249.1918 134.4272,-233.5607 134.4272,-220.1581\"/>\n",
       "<polygon fill=\"#000000\" stroke=\"#000000\" points=\"137.9273,-220.0033 134.4272,-210.0034 130.9273,-220.0034 137.9273,-220.0033\"/>\n",
       "<text text-anchor=\"middle\" x=\"143.4272\" y=\"-231.8\" font-family=\"Times,serif\" font-size=\"14.00\" fill=\"#000000\">1.0</text>\n",
       "</g>\n",
       "<!-- pmek&#45;&gt;plcg -->\n",
       "<g id=\"edge8\" class=\"edge\">\n",
       "<title>pmek&#45;&gt;plcg</title>\n",
       "<path fill=\"none\" stroke=\"#000000\" d=\"M145.4729,-262.083C149.1518,-256.1557 153.1451,-249.3839 156.4272,-243 174.7687,-207.3254 186.2273,-162.1413 192.2242,-133.3933\"/>\n",
       "<polygon fill=\"#000000\" stroke=\"#000000\" points=\"195.7268,-133.7268 194.2581,-123.2342 188.863,-132.3525 195.7268,-133.7268\"/>\n",
       "<text text-anchor=\"middle\" x=\"191.4272\" y=\"-188.3\" font-family=\"Times,serif\" font-size=\"14.00\" fill=\"#000000\">1.0</text>\n",
       "</g>\n",
       "<!-- PIP2 -->\n",
       "<g id=\"node4\" class=\"node\">\n",
       "<title>PIP2</title>\n",
       "<ellipse fill=\"none\" stroke=\"#000000\" cx=\"197.4272\" cy=\"-18\" rx=\"27.8951\" ry=\"18\"/>\n",
       "<text text-anchor=\"middle\" x=\"197.4272\" y=\"-14.3\" font-family=\"Times,serif\" font-size=\"14.00\" fill=\"#000000\">PIP2</text>\n",
       "</g>\n",
       "<!-- plcg&#45;&gt;PIP2 -->\n",
       "<g id=\"edge9\" class=\"edge\">\n",
       "<title>plcg&#45;&gt;PIP2</title>\n",
       "<path fill=\"none\" stroke=\"#000000\" d=\"M197.4272,-86.9735C197.4272,-75.1918 197.4272,-59.5607 197.4272,-46.1581\"/>\n",
       "<polygon fill=\"#000000\" stroke=\"#000000\" points=\"200.9273,-46.0033 197.4272,-36.0034 193.9273,-46.0034 200.9273,-46.0033\"/>\n",
       "<text text-anchor=\"middle\" x=\"206.4272\" y=\"-57.8\" font-family=\"Times,serif\" font-size=\"14.00\" fill=\"#000000\">1.0</text>\n",
       "</g>\n",
       "<!-- PIP2&#45;&gt;praf -->\n",
       "<g id=\"edge2\" class=\"edge\">\n",
       "<title>PIP2&#45;&gt;praf</title>\n",
       "<path fill=\"none\" stroke=\"#000000\" d=\"M181.3605,-33.0318C168.656,-45.9939 151.7241,-65.908 143.4272,-87 133.7443,-111.6153 132.1277,-141.9161 132.5549,-163.6301\"/>\n",
       "<polygon fill=\"#000000\" stroke=\"#000000\" points=\"129.0643,-163.9622 132.9173,-173.8316 136.0599,-163.7136 129.0643,-163.9622\"/>\n",
       "<text text-anchor=\"middle\" x=\"152.4272\" y=\"-101.3\" font-family=\"Times,serif\" font-size=\"14.00\" fill=\"#000000\">1.0</text>\n",
       "</g>\n",
       "<!-- PIP3 -->\n",
       "<g id=\"node5\" class=\"node\">\n",
       "<title>PIP3</title>\n",
       "<ellipse fill=\"none\" stroke=\"#000000\" cx=\"226.4272\" cy=\"-366\" rx=\"27.8951\" ry=\"18\"/>\n",
       "<text text-anchor=\"middle\" x=\"226.4272\" y=\"-362.3\" font-family=\"Times,serif\" font-size=\"14.00\" fill=\"#000000\">PIP3</text>\n",
       "</g>\n",
       "<!-- PIP3&#45;&gt;pmek -->\n",
       "<g id=\"edge3\" class=\"edge\">\n",
       "<title>PIP3&#45;&gt;pmek</title>\n",
       "<path fill=\"none\" stroke=\"#000000\" d=\"M206.0451,-353.0885C196.5959,-346.6715 185.481,-338.4844 176.4272,-330 168.0551,-322.1543 159.813,-312.6532 152.8777,-303.9882\"/>\n",
       "<polygon fill=\"#000000\" stroke=\"#000000\" points=\"155.5745,-301.7547 146.6671,-296.018 150.0529,-306.0573 155.5745,-301.7547\"/>\n",
       "<text text-anchor=\"middle\" x=\"185.4272\" y=\"-318.8\" font-family=\"Times,serif\" font-size=\"14.00\" fill=\"#000000\">1.0</text>\n",
       "</g>\n",
       "<!-- pakts473 -->\n",
       "<g id=\"node7\" class=\"node\">\n",
       "<title>pakts473</title>\n",
       "<ellipse fill=\"none\" stroke=\"#000000\" cx=\"273.4272\" cy=\"-279\" rx=\"42.4939\" ry=\"18\"/>\n",
       "<text text-anchor=\"middle\" x=\"273.4272\" y=\"-275.3\" font-family=\"Times,serif\" font-size=\"14.00\" fill=\"#000000\">pakts473</text>\n",
       "</g>\n",
       "<!-- PIP3&#45;&gt;pakts473 -->\n",
       "<g id=\"edge11\" class=\"edge\">\n",
       "<title>PIP3&#45;&gt;pakts473</title>\n",
       "<path fill=\"none\" stroke=\"#000000\" d=\"M235.7129,-348.8116C242.3208,-336.5801 251.3303,-319.9027 258.8865,-305.9158\"/>\n",
       "<polygon fill=\"#000000\" stroke=\"#000000\" points=\"262.1644,-307.2118 263.8381,-296.75 256.0057,-303.8846 262.1644,-307.2118\"/>\n",
       "<text text-anchor=\"middle\" x=\"262.4272\" y=\"-318.8\" font-family=\"Times,serif\" font-size=\"14.00\" fill=\"#000000\">1.0</text>\n",
       "</g>\n",
       "<!-- p44/42 -->\n",
       "<g id=\"node6\" class=\"node\">\n",
       "<title>p44/42</title>\n",
       "<ellipse fill=\"none\" stroke=\"#000000\" cx=\"145.4272\" cy=\"-366\" rx=\"35.194\" ry=\"18\"/>\n",
       "<text text-anchor=\"middle\" x=\"145.4272\" y=\"-362.3\" font-family=\"Times,serif\" font-size=\"14.00\" fill=\"#000000\">p44/42</text>\n",
       "</g>\n",
       "<!-- p44/42&#45;&gt;pmek -->\n",
       "<g id=\"edge4\" class=\"edge\">\n",
       "<title>p44/42&#45;&gt;pmek</title>\n",
       "<path fill=\"none\" stroke=\"#000000\" d=\"M139.5423,-348.2448C137.8927,-342.4895 136.3099,-336.0332 135.4272,-330 134.3467,-322.6148 133.8693,-314.5645 133.7149,-307.0876\"/>\n",
       "<polygon fill=\"#000000\" stroke=\"#000000\" points=\"137.2148,-307.0171 133.6827,-297.0284 130.2149,-307.0396 137.2148,-307.0171\"/>\n",
       "<text text-anchor=\"middle\" x=\"144.4272\" y=\"-318.8\" font-family=\"Times,serif\" font-size=\"14.00\" fill=\"#000000\">1.0</text>\n",
       "</g>\n",
       "<!-- p44/42&#45;&gt;pakts473 -->\n",
       "<g id=\"edge12\" class=\"edge\">\n",
       "<title>p44/42&#45;&gt;pakts473</title>\n",
       "<path fill=\"none\" stroke=\"#000000\" d=\"M166.8515,-351.4382C187.4244,-337.4551 218.7391,-316.1709 242.1083,-300.2871\"/>\n",
       "<polygon fill=\"#000000\" stroke=\"#000000\" points=\"244.3338,-303.0064 250.6368,-294.4904 240.3988,-297.2171 244.3338,-303.0064\"/>\n",
       "<text text-anchor=\"middle\" x=\"226.4272\" y=\"-318.8\" font-family=\"Times,serif\" font-size=\"14.00\" fill=\"#000000\">1.0</text>\n",
       "</g>\n",
       "<!-- PKA -->\n",
       "<g id=\"node8\" class=\"node\">\n",
       "<title>PKA</title>\n",
       "<ellipse fill=\"none\" stroke=\"#000000\" cx=\"63.4272\" cy=\"-366\" rx=\"28.6953\" ry=\"18\"/>\n",
       "<text text-anchor=\"middle\" x=\"63.4272\" y=\"-362.3\" font-family=\"Times,serif\" font-size=\"14.00\" fill=\"#000000\">PKA</text>\n",
       "</g>\n",
       "<!-- PKA&#45;&gt;pmek -->\n",
       "<g id=\"edge5\" class=\"edge\">\n",
       "<title>PKA&#45;&gt;pmek</title>\n",
       "<path fill=\"none\" stroke=\"#000000\" d=\"M54.0935,-348.724C49.7988,-338.2337 46.9373,-324.9865 53.4272,-315 62.802,-300.5744 79.4365,-291.8826 95.202,-286.6679\"/>\n",
       "<polygon fill=\"#000000\" stroke=\"#000000\" points=\"96.2185,-290.0173 104.8333,-283.8501 94.2528,-283.2989 96.2185,-290.0173\"/>\n",
       "<text text-anchor=\"middle\" x=\"62.4272\" y=\"-318.8\" font-family=\"Times,serif\" font-size=\"14.00\" fill=\"#000000\">1.0</text>\n",
       "</g>\n",
       "<!-- PKA&#45;&gt;pakts473 -->\n",
       "<g id=\"edge13\" class=\"edge\">\n",
       "<title>PKA&#45;&gt;pakts473</title>\n",
       "<path fill=\"none\" stroke=\"#000000\" d=\"M75.2649,-349.2693C84.1971,-337.8943 97.4473,-323.4321 112.4272,-315 122.2683,-309.4605 181.0907,-297.0828 224.8071,-288.3951\"/>\n",
       "<polygon fill=\"#000000\" stroke=\"#000000\" points=\"225.5858,-291.809 234.7177,-286.437 224.2289,-284.9417 225.5858,-291.809\"/>\n",
       "<text text-anchor=\"middle\" x=\"121.4272\" y=\"-318.8\" font-family=\"Times,serif\" font-size=\"14.00\" fill=\"#000000\">1.0</text>\n",
       "</g>\n",
       "<!-- PKC -->\n",
       "<g id=\"node9\" class=\"node\">\n",
       "<title>PKC</title>\n",
       "<ellipse fill=\"none\" stroke=\"#000000\" cx=\"220.4272\" cy=\"-453\" rx=\"27.8951\" ry=\"18\"/>\n",
       "<text text-anchor=\"middle\" x=\"220.4272\" y=\"-449.3\" font-family=\"Times,serif\" font-size=\"14.00\" fill=\"#000000\">PKC</text>\n",
       "</g>\n",
       "<!-- PKC&#45;&gt;pmek -->\n",
       "<g id=\"edge6\" class=\"edge\">\n",
       "<title>PKC&#45;&gt;pmek</title>\n",
       "<path fill=\"none\" stroke=\"#000000\" d=\"M193.3046,-448.2601C141.0624,-438.5191 29.6602,-414.5727 7.4272,-384 -22.4975,-342.8504 50.4523,-308.1986 97.7806,-290.8768\"/>\n",
       "<polygon fill=\"#000000\" stroke=\"#000000\" points=\"99.1911,-294.0902 107.4448,-287.4475 96.8501,-287.4932 99.1911,-294.0902\"/>\n",
       "<text text-anchor=\"middle\" x=\"16.4272\" y=\"-362.3\" font-family=\"Times,serif\" font-size=\"14.00\" fill=\"#000000\">1.0</text>\n",
       "</g>\n",
       "<!-- PKC&#45;&gt;pakts473 -->\n",
       "<g id=\"edge14\" class=\"edge\">\n",
       "<title>PKC&#45;&gt;pakts473</title>\n",
       "<path fill=\"none\" stroke=\"#000000\" d=\"M232.906,-436.5712C242.5644,-423.1069 255.5775,-403.2067 263.4272,-384 272.7284,-361.2419 272.7445,-354.4387 275.4272,-330 276.2421,-322.5765 276.3037,-314.5131 276.0196,-307.0359\"/>\n",
       "<polygon fill=\"#000000\" stroke=\"#000000\" points=\"279.5096,-306.7615 275.4304,-296.9835 272.5216,-307.1712 279.5096,-306.7615\"/>\n",
       "<text text-anchor=\"middle\" x=\"282.4272\" y=\"-362.3\" font-family=\"Times,serif\" font-size=\"14.00\" fill=\"#000000\">1.0</text>\n",
       "</g>\n",
       "<!-- PKC&#45;&gt;PKA -->\n",
       "<g id=\"edge17\" class=\"edge\">\n",
       "<title>PKC&#45;&gt;PKA</title>\n",
       "<path fill=\"none\" stroke=\"#000000\" d=\"M198.9262,-441.0854C171.7557,-426.0292 124.8192,-400.0198 93.9459,-382.9116\"/>\n",
       "<polygon fill=\"#000000\" stroke=\"#000000\" points=\"95.3632,-379.6956 84.9199,-377.9099 91.9702,-385.8183 95.3632,-379.6956\"/>\n",
       "<text text-anchor=\"middle\" x=\"160.4272\" y=\"-405.8\" font-family=\"Times,serif\" font-size=\"14.00\" fill=\"#000000\">1.0</text>\n",
       "</g>\n",
       "<!-- P38 -->\n",
       "<g id=\"node10\" class=\"node\">\n",
       "<title>P38</title>\n",
       "<ellipse fill=\"none\" stroke=\"#000000\" cx=\"278.4272\" cy=\"-540\" rx=\"27\" ry=\"18\"/>\n",
       "<text text-anchor=\"middle\" x=\"278.4272\" y=\"-536.3\" font-family=\"Times,serif\" font-size=\"14.00\" fill=\"#000000\">P38</text>\n",
       "</g>\n",
       "<!-- P38&#45;&gt;pakts473 -->\n",
       "<g id=\"edge15\" class=\"edge\">\n",
       "<title>P38&#45;&gt;pakts473</title>\n",
       "<path fill=\"none\" stroke=\"#000000\" d=\"M281.9884,-522.0129C288.2778,-488.0344 300.2534,-412.0689 295.4272,-348 294.313,-333.2078 294.7511,-329.1899 290.4272,-315 289.5099,-311.9896 288.3811,-308.9113 287.1452,-305.8844\"/>\n",
       "<polygon fill=\"#000000\" stroke=\"#000000\" points=\"290.2406,-304.233 282.9592,-296.5368 283.8519,-307.094 290.2406,-304.233\"/>\n",
       "<text text-anchor=\"middle\" x=\"305.4272\" y=\"-405.8\" font-family=\"Times,serif\" font-size=\"14.00\" fill=\"#000000\">1.0</text>\n",
       "</g>\n",
       "<!-- P38&#45;&gt;PKC -->\n",
       "<g id=\"edge18\" class=\"edge\">\n",
       "<title>P38&#45;&gt;PKC</title>\n",
       "<path fill=\"none\" stroke=\"#000000\" d=\"M267.2442,-523.2255C258.739,-510.4677 246.8955,-492.7024 237.2489,-478.2325\"/>\n",
       "<polygon fill=\"#000000\" stroke=\"#000000\" points=\"240.0351,-476.102 231.5759,-469.723 234.2107,-479.985 240.0351,-476.102\"/>\n",
       "<text text-anchor=\"middle\" x=\"262.4272\" y=\"-492.8\" font-family=\"Times,serif\" font-size=\"14.00\" fill=\"#000000\">1.0</text>\n",
       "</g>\n",
       "<!-- pjnk -->\n",
       "<g id=\"node11\" class=\"node\">\n",
       "<title>pjnk</title>\n",
       "<ellipse fill=\"none\" stroke=\"#000000\" cx=\"397.4272\" cy=\"-366\" rx=\"27\" ry=\"18\"/>\n",
       "<text text-anchor=\"middle\" x=\"397.4272\" y=\"-362.3\" font-family=\"Times,serif\" font-size=\"14.00\" fill=\"#000000\">pjnk</text>\n",
       "</g>\n",
       "<!-- pjnk&#45;&gt;PIP2 -->\n",
       "<g id=\"edge10\" class=\"edge\">\n",
       "<title>pjnk&#45;&gt;PIP2</title>\n",
       "<path fill=\"none\" stroke=\"#000000\" d=\"M399.0644,-348.022C400.5226,-330.4415 402.4272,-302.904 402.4272,-279 402.4272,-279 402.4272,-279 402.4272,-105 402.4272,-68.8919 293.2936,-39.1596 234.2805,-25.7217\"/>\n",
       "<polygon fill=\"#000000\" stroke=\"#000000\" points=\"234.7495,-22.2403 224.2274,-23.4795 233.2257,-29.0725 234.7495,-22.2403\"/>\n",
       "<text text-anchor=\"middle\" x=\"411.4272\" y=\"-188.3\" font-family=\"Times,serif\" font-size=\"14.00\" fill=\"#000000\">1.0</text>\n",
       "</g>\n",
       "<!-- pjnk&#45;&gt;pakts473 -->\n",
       "<g id=\"edge16\" class=\"edge\">\n",
       "<title>pjnk&#45;&gt;pakts473</title>\n",
       "<path fill=\"none\" stroke=\"#000000\" d=\"M384.2019,-349.8551C374.7581,-339.0373 361.3135,-324.9985 347.4272,-315 337.1918,-307.6302 325.2156,-301.0622 313.9164,-295.6195\"/>\n",
       "<polygon fill=\"#000000\" stroke=\"#000000\" points=\"315.1821,-292.3485 304.6374,-291.3193 312.2388,-298.6996 315.1821,-292.3485\"/>\n",
       "<text text-anchor=\"middle\" x=\"373.4272\" y=\"-318.8\" font-family=\"Times,serif\" font-size=\"14.00\" fill=\"#000000\">1.0</text>\n",
       "</g>\n",
       "</g>\n",
       "</svg>\n"
      ],
      "text/plain": [
       "<graphviz.dot.Digraph at 0x7f810db316a0>"
      ]
     },
     "metadata": {},
     "output_type": "display_data"
    }
   ],
   "source": [
    "labels = [f'{col}' for i, col in enumerate(data_sachs.columns)]\n",
    "adj_matrix = nx.to_numpy_matrix(graph_sachs)\n",
    "adj_matrix = np.asarray(adj_matrix)\n",
    "graph_dot = make_graph(adj_matrix, labels)\n",
    "display(graph_dot)"
   ]
  },
  {
   "cell_type": "markdown",
   "metadata": {},
   "source": [
    "# Causal Discovery with Causal Discovery Tool (CDT)\n",
    "\n",
    "We use the CDT library to perform causal discovery on the Auto-MPG dataset. We use three methods for causal discovery here -LiNGAM, PC and GES. These methods are widely used and do not take much time to run. Hence, these are ideal for an introduction to the topic. Other neural network based methods are also available in CDT and the users the encourages to try them out by themselves. \n",
    "\n",
    "The documentation for the methods used in as follows:\n",
    "- LiNGAM [[link]](https://fentechsolutions.github.io/CausalDiscoveryToolbox/html/_modules/cdt/causality/graph/LiNGAM.html)\n",
    "- PC [[link]](https://fentechsolutions.github.io/CausalDiscoveryToolbox/html/_modules/cdt/causality/graph/PC.html)\n",
    "- GES [[link]](https://fentechsolutions.github.io/CausalDiscoveryToolbox/html/_modules/cdt/causality/graph/GES.html)"
   ]
  },
  {
   "cell_type": "code",
   "execution_count": 8,
   "metadata": {
    "execution": {
     "iopub.execute_input": "2022-03-20T14:42:04.360372Z",
     "iopub.status.busy": "2022-03-20T14:42:04.359624Z",
     "iopub.status.idle": "2022-03-20T14:42:14.512060Z",
     "shell.execute_reply": "2022-03-20T14:42:14.512709Z"
    }
   },
   "outputs": [
    {
     "name": "stdout",
     "output_type": "stream",
     "text": [
      "Method : LiNGAM\n"
     ]
    },
    {
     "data": {
      "image/svg+xml": [
       "<?xml version=\"1.0\" encoding=\"UTF-8\" standalone=\"no\"?>\n",
       "<!DOCTYPE svg PUBLIC \"-//W3C//DTD SVG 1.1//EN\"\n",
       " \"http://www.w3.org/Graphics/SVG/1.1/DTD/svg11.dtd\">\n",
       "<!-- Generated by graphviz version 2.40.1 (20161225.0304)\n",
       " -->\n",
       "<!-- Title: %3 Pages: 1 -->\n",
       "<svg width=\"697pt\" height=\"218pt\"\n",
       " viewBox=\"0.00 0.00 696.55 218.00\" xmlns=\"http://www.w3.org/2000/svg\" xmlns:xlink=\"http://www.w3.org/1999/xlink\">\n",
       "<g id=\"graph0\" class=\"graph\" transform=\"scale(1 1) rotate(0) translate(4 214)\">\n",
       "<title>%3</title>\n",
       "<polygon fill=\"#ffffff\" stroke=\"transparent\" points=\"-4,4 -4,-214 692.5473,-214 692.5473,4 -4,4\"/>\n",
       "<!-- praf -->\n",
       "<g id=\"node1\" class=\"node\">\n",
       "<title>praf</title>\n",
       "<ellipse fill=\"none\" stroke=\"#000000\" cx=\"30.5473\" cy=\"-192\" rx=\"27\" ry=\"18\"/>\n",
       "<text text-anchor=\"middle\" x=\"30.5473\" y=\"-188.3\" font-family=\"Times,serif\" font-size=\"14.00\" fill=\"#000000\">praf</text>\n",
       "</g>\n",
       "<!-- pmek -->\n",
       "<g id=\"node2\" class=\"node\">\n",
       "<title>pmek</title>\n",
       "<ellipse fill=\"none\" stroke=\"#000000\" cx=\"30.5473\" cy=\"-105\" rx=\"30.5947\" ry=\"18\"/>\n",
       "<text text-anchor=\"middle\" x=\"30.5473\" y=\"-101.3\" font-family=\"Times,serif\" font-size=\"14.00\" fill=\"#000000\">pmek</text>\n",
       "</g>\n",
       "<!-- praf&#45;&gt;pmek -->\n",
       "<g id=\"edge1\" class=\"edge\">\n",
       "<title>praf&#45;&gt;pmek</title>\n",
       "<path fill=\"none\" stroke=\"#000000\" d=\"M30.5473,-173.9735C30.5473,-162.1918 30.5473,-146.5607 30.5473,-133.1581\"/>\n",
       "<polygon fill=\"#000000\" stroke=\"#000000\" points=\"34.0474,-133.0033 30.5473,-123.0034 27.0474,-133.0034 34.0474,-133.0033\"/>\n",
       "<text text-anchor=\"middle\" x=\"86.5473\" y=\"-144.8\" font-family=\"Times,serif\" font-size=\"14.00\" fill=\"#000000\">0.864379315846681</text>\n",
       "</g>\n",
       "<!-- plcg -->\n",
       "<g id=\"node3\" class=\"node\">\n",
       "<title>plcg</title>\n",
       "<ellipse fill=\"none\" stroke=\"#000000\" cx=\"165.5473\" cy=\"-192\" rx=\"27\" ry=\"18\"/>\n",
       "<text text-anchor=\"middle\" x=\"165.5473\" y=\"-188.3\" font-family=\"Times,serif\" font-size=\"14.00\" fill=\"#000000\">plcg</text>\n",
       "</g>\n",
       "<!-- PIP2 -->\n",
       "<g id=\"node4\" class=\"node\">\n",
       "<title>PIP2</title>\n",
       "<ellipse fill=\"none\" stroke=\"#000000\" cx=\"226.5473\" cy=\"-105\" rx=\"27.8951\" ry=\"18\"/>\n",
       "<text text-anchor=\"middle\" x=\"226.5473\" y=\"-101.3\" font-family=\"Times,serif\" font-size=\"14.00\" fill=\"#000000\">PIP2</text>\n",
       "</g>\n",
       "<!-- plcg&#45;&gt;PIP2 -->\n",
       "<g id=\"edge2\" class=\"edge\">\n",
       "<title>plcg&#45;&gt;PIP2</title>\n",
       "<path fill=\"none\" stroke=\"#000000\" d=\"M161.7862,-173.8567C160.6159,-163.5589 160.8659,-150.8089 166.5473,-141 172.3742,-130.9398 182.2299,-123.3702 192.2877,-117.835\"/>\n",
       "<polygon fill=\"#000000\" stroke=\"#000000\" points=\"194.0479,-120.8696 201.4715,-113.3105 190.9542,-114.5903 194.0479,-120.8696\"/>\n",
       "<text text-anchor=\"middle\" x=\"216.0473\" y=\"-144.8\" font-family=\"Times,serif\" font-size=\"14.00\" fill=\"#000000\">1.7589781213857</text>\n",
       "</g>\n",
       "<!-- PIP3 -->\n",
       "<g id=\"node5\" class=\"node\">\n",
       "<title>PIP3</title>\n",
       "<ellipse fill=\"none\" stroke=\"#000000\" cx=\"287.5473\" cy=\"-192\" rx=\"27.8951\" ry=\"18\"/>\n",
       "<text text-anchor=\"middle\" x=\"287.5473\" y=\"-188.3\" font-family=\"Times,serif\" font-size=\"14.00\" fill=\"#000000\">PIP3</text>\n",
       "</g>\n",
       "<!-- PIP3&#45;&gt;PIP2 -->\n",
       "<g id=\"edge3\" class=\"edge\">\n",
       "<title>PIP3&#45;&gt;PIP2</title>\n",
       "<path fill=\"none\" stroke=\"#000000\" d=\"M281.8982,-174.0539C278.1819,-163.8219 272.6819,-151.0719 265.5473,-141 261.7723,-135.6708 257.0982,-130.5331 252.3123,-125.8893\"/>\n",
       "<polygon fill=\"#000000\" stroke=\"#000000\" points=\"254.5575,-123.1998 244.8126,-119.0419 249.8377,-128.3693 254.5575,-123.1998\"/>\n",
       "<text text-anchor=\"middle\" x=\"330.5473\" y=\"-144.8\" font-family=\"Times,serif\" font-size=\"14.00\" fill=\"#000000\">0.833424626995035</text>\n",
       "</g>\n",
       "<!-- p44/42 -->\n",
       "<g id=\"node6\" class=\"node\">\n",
       "<title>p44/42</title>\n",
       "<ellipse fill=\"none\" stroke=\"#000000\" cx=\"422.5473\" cy=\"-192\" rx=\"35.194\" ry=\"18\"/>\n",
       "<text text-anchor=\"middle\" x=\"422.5473\" y=\"-188.3\" font-family=\"Times,serif\" font-size=\"14.00\" fill=\"#000000\">p44/42</text>\n",
       "</g>\n",
       "<!-- pakts473 -->\n",
       "<g id=\"node7\" class=\"node\">\n",
       "<title>pakts473</title>\n",
       "<ellipse fill=\"none\" stroke=\"#000000\" cx=\"422.5473\" cy=\"-105\" rx=\"42.4939\" ry=\"18\"/>\n",
       "<text text-anchor=\"middle\" x=\"422.5473\" y=\"-101.3\" font-family=\"Times,serif\" font-size=\"14.00\" fill=\"#000000\">pakts473</text>\n",
       "</g>\n",
       "<!-- p44/42&#45;&gt;pakts473 -->\n",
       "<g id=\"edge4\" class=\"edge\">\n",
       "<title>p44/42&#45;&gt;pakts473</title>\n",
       "<path fill=\"none\" stroke=\"#000000\" d=\"M422.5473,-173.9735C422.5473,-162.1918 422.5473,-146.5607 422.5473,-133.1581\"/>\n",
       "<polygon fill=\"#000000\" stroke=\"#000000\" points=\"426.0474,-133.0033 422.5473,-123.0034 419.0474,-133.0034 426.0474,-133.0033\"/>\n",
       "<text text-anchor=\"middle\" x=\"475.5473\" y=\"-144.8\" font-family=\"Times,serif\" font-size=\"14.00\" fill=\"#000000\">2.25734133053002</text>\n",
       "</g>\n",
       "<!-- PKA -->\n",
       "<g id=\"node8\" class=\"node\">\n",
       "<title>PKA</title>\n",
       "<ellipse fill=\"none\" stroke=\"#000000\" cx=\"422.5473\" cy=\"-18\" rx=\"28.6953\" ry=\"18\"/>\n",
       "<text text-anchor=\"middle\" x=\"422.5473\" y=\"-14.3\" font-family=\"Times,serif\" font-size=\"14.00\" fill=\"#000000\">PKA</text>\n",
       "</g>\n",
       "<!-- pakts473&#45;&gt;PKA -->\n",
       "<g id=\"edge5\" class=\"edge\">\n",
       "<title>pakts473&#45;&gt;PKA</title>\n",
       "<path fill=\"none\" stroke=\"#000000\" d=\"M422.5473,-86.9735C422.5473,-75.1918 422.5473,-59.5607 422.5473,-46.1581\"/>\n",
       "<polygon fill=\"#000000\" stroke=\"#000000\" points=\"426.0474,-46.0033 422.5473,-36.0034 419.0474,-46.0034 426.0474,-46.0033\"/>\n",
       "<text text-anchor=\"middle\" x=\"472.0473\" y=\"-57.8\" font-family=\"Times,serif\" font-size=\"14.00\" fill=\"#000000\">12.587072805305</text>\n",
       "</g>\n",
       "<!-- PKC -->\n",
       "<g id=\"node9\" class=\"node\">\n",
       "<title>PKC</title>\n",
       "<ellipse fill=\"none\" stroke=\"#000000\" cx=\"503.5473\" cy=\"-192\" rx=\"27.8951\" ry=\"18\"/>\n",
       "<text text-anchor=\"middle\" x=\"503.5473\" y=\"-188.3\" font-family=\"Times,serif\" font-size=\"14.00\" fill=\"#000000\">PKC</text>\n",
       "</g>\n",
       "<!-- P38 -->\n",
       "<g id=\"node10\" class=\"node\">\n",
       "<title>P38</title>\n",
       "<ellipse fill=\"none\" stroke=\"#000000\" cx=\"576.5473\" cy=\"-192\" rx=\"27\" ry=\"18\"/>\n",
       "<text text-anchor=\"middle\" x=\"576.5473\" y=\"-188.3\" font-family=\"Times,serif\" font-size=\"14.00\" fill=\"#000000\">P38</text>\n",
       "</g>\n",
       "<!-- pjnk -->\n",
       "<g id=\"node11\" class=\"node\">\n",
       "<title>pjnk</title>\n",
       "<ellipse fill=\"none\" stroke=\"#000000\" cx=\"576.5473\" cy=\"-105\" rx=\"27\" ry=\"18\"/>\n",
       "<text text-anchor=\"middle\" x=\"576.5473\" y=\"-101.3\" font-family=\"Times,serif\" font-size=\"14.00\" fill=\"#000000\">pjnk</text>\n",
       "</g>\n",
       "<!-- P38&#45;&gt;pjnk -->\n",
       "<g id=\"edge6\" class=\"edge\">\n",
       "<title>P38&#45;&gt;pjnk</title>\n",
       "<path fill=\"none\" stroke=\"#000000\" d=\"M576.5473,-173.9735C576.5473,-162.1918 576.5473,-146.5607 576.5473,-133.1581\"/>\n",
       "<polygon fill=\"#000000\" stroke=\"#000000\" points=\"580.0474,-133.0033 576.5473,-123.0034 573.0474,-133.0034 580.0474,-133.0033\"/>\n",
       "<text text-anchor=\"middle\" x=\"632.5473\" y=\"-144.8\" font-family=\"Times,serif\" font-size=\"14.00\" fill=\"#000000\">0.699393944664836</text>\n",
       "</g>\n",
       "</g>\n",
       "</svg>\n"
      ],
      "text/plain": [
       "<graphviz.dot.Digraph at 0x7f810db28c10>"
      ]
     },
     "metadata": {},
     "output_type": "display_data"
    },
    {
     "name": "stdout",
     "output_type": "stream",
     "text": [
      "Method : PC\n"
     ]
    },
    {
     "data": {
      "image/svg+xml": [
       "<?xml version=\"1.0\" encoding=\"UTF-8\" standalone=\"no\"?>\n",
       "<!DOCTYPE svg PUBLIC \"-//W3C//DTD SVG 1.1//EN\"\n",
       " \"http://www.w3.org/Graphics/SVG/1.1/DTD/svg11.dtd\">\n",
       "<!-- Generated by graphviz version 2.40.1 (20161225.0304)\n",
       " -->\n",
       "<!-- Title: %3 Pages: 1 -->\n",
       "<svg width=\"483pt\" height=\"740pt\"\n",
       " viewBox=\"0.00 0.00 482.95 740.00\" xmlns=\"http://www.w3.org/2000/svg\" xmlns:xlink=\"http://www.w3.org/1999/xlink\">\n",
       "<g id=\"graph0\" class=\"graph\" transform=\"scale(1 1) rotate(0) translate(4 736)\">\n",
       "<title>%3</title>\n",
       "<polygon fill=\"#ffffff\" stroke=\"transparent\" points=\"-4,4 -4,-736 478.9475,-736 478.9475,4 -4,4\"/>\n",
       "<!-- praf -->\n",
       "<g id=\"node1\" class=\"node\">\n",
       "<title>praf</title>\n",
       "<ellipse fill=\"none\" stroke=\"#000000\" cx=\"198\" cy=\"-540\" rx=\"27\" ry=\"18\"/>\n",
       "<text text-anchor=\"middle\" x=\"198\" y=\"-536.3\" font-family=\"Times,serif\" font-size=\"14.00\" fill=\"#000000\">praf</text>\n",
       "</g>\n",
       "<!-- pmek -->\n",
       "<g id=\"node2\" class=\"node\">\n",
       "<title>pmek</title>\n",
       "<ellipse fill=\"none\" stroke=\"#000000\" cx=\"197\" cy=\"-453\" rx=\"30.5947\" ry=\"18\"/>\n",
       "<text text-anchor=\"middle\" x=\"197\" y=\"-449.3\" font-family=\"Times,serif\" font-size=\"14.00\" fill=\"#000000\">pmek</text>\n",
       "</g>\n",
       "<!-- praf&#45;&gt;pmek -->\n",
       "<g id=\"edge4\" class=\"edge\">\n",
       "<title>praf&#45;&gt;pmek</title>\n",
       "<path fill=\"none\" stroke=\"#000000\" d=\"M197.7928,-521.9735C197.6574,-510.1918 197.4777,-494.5607 197.3237,-481.1581\"/>\n",
       "<polygon fill=\"#000000\" stroke=\"#000000\" points=\"200.8217,-480.9624 197.2069,-471.0034 193.8222,-481.043 200.8217,-480.9624\"/>\n",
       "<text text-anchor=\"middle\" x=\"206\" y=\"-492.8\" font-family=\"Times,serif\" font-size=\"14.00\" fill=\"#000000\">1.0</text>\n",
       "</g>\n",
       "<!-- P38 -->\n",
       "<g id=\"node10\" class=\"node\">\n",
       "<title>P38</title>\n",
       "<ellipse fill=\"none\" stroke=\"#000000\" cx=\"155\" cy=\"-366\" rx=\"27\" ry=\"18\"/>\n",
       "<text text-anchor=\"middle\" x=\"155\" y=\"-362.3\" font-family=\"Times,serif\" font-size=\"14.00\" fill=\"#000000\">P38</text>\n",
       "</g>\n",
       "<!-- pmek&#45;&gt;P38 -->\n",
       "<g id=\"edge21\" class=\"edge\">\n",
       "<title>pmek&#45;&gt;P38</title>\n",
       "<path fill=\"none\" stroke=\"#000000\" d=\"M188.5007,-435.3943C182.5412,-423.0496 174.4699,-406.3306 167.7431,-392.3965\"/>\n",
       "<polygon fill=\"#000000\" stroke=\"#000000\" points=\"170.8428,-390.7665 163.3434,-383.2827 164.539,-393.8098 170.8428,-390.7665\"/>\n",
       "<text text-anchor=\"middle\" x=\"187\" y=\"-405.8\" font-family=\"Times,serif\" font-size=\"14.00\" fill=\"#000000\">1.0</text>\n",
       "</g>\n",
       "<!-- plcg -->\n",
       "<g id=\"node3\" class=\"node\">\n",
       "<title>plcg</title>\n",
       "<ellipse fill=\"none\" stroke=\"#000000\" cx=\"327\" cy=\"-627\" rx=\"27\" ry=\"18\"/>\n",
       "<text text-anchor=\"middle\" x=\"327\" y=\"-623.3\" font-family=\"Times,serif\" font-size=\"14.00\" fill=\"#000000\">plcg</text>\n",
       "</g>\n",
       "<!-- plcg&#45;&gt;praf -->\n",
       "<g id=\"edge1\" class=\"edge\">\n",
       "<title>plcg&#45;&gt;praf</title>\n",
       "<path fill=\"none\" stroke=\"#000000\" d=\"M300.6957,-621.9004C280.0128,-616.8399 251.3849,-607.4048 231,-591 222.8289,-584.4243 216.0261,-575.2607 210.7616,-566.5123\"/>\n",
       "<polygon fill=\"#000000\" stroke=\"#000000\" points=\"213.7621,-564.7063 205.8396,-557.6718 207.6461,-568.1115 213.7621,-564.7063\"/>\n",
       "<text text-anchor=\"middle\" x=\"240\" y=\"-579.8\" font-family=\"Times,serif\" font-size=\"14.00\" fill=\"#000000\">1.0</text>\n",
       "</g>\n",
       "<!-- plcg&#45;&gt;pmek -->\n",
       "<g id=\"edge5\" class=\"edge\">\n",
       "<title>plcg&#45;&gt;pmek</title>\n",
       "<path fill=\"none\" stroke=\"#000000\" d=\"M312.5998,-611.5493C306.9536,-605.3006 300.5188,-597.9363 295,-591 264.7891,-553.0291 232.7775,-506.6257 213.8581,-478.4668\"/>\n",
       "<polygon fill=\"#000000\" stroke=\"#000000\" points=\"216.6633,-476.3653 208.1944,-469.9992 210.8449,-480.2572 216.6633,-476.3653\"/>\n",
       "<text text-anchor=\"middle\" x=\"277\" y=\"-536.3\" font-family=\"Times,serif\" font-size=\"14.00\" fill=\"#000000\">1.0</text>\n",
       "</g>\n",
       "<!-- PIP3 -->\n",
       "<g id=\"node5\" class=\"node\">\n",
       "<title>PIP3</title>\n",
       "<ellipse fill=\"none\" stroke=\"#000000\" cx=\"447\" cy=\"-540\" rx=\"27.8951\" ry=\"18\"/>\n",
       "<text text-anchor=\"middle\" x=\"447\" y=\"-536.3\" font-family=\"Times,serif\" font-size=\"14.00\" fill=\"#000000\">PIP3</text>\n",
       "</g>\n",
       "<!-- plcg&#45;&gt;PIP3 -->\n",
       "<g id=\"edge9\" class=\"edge\">\n",
       "<title>plcg&#45;&gt;PIP3</title>\n",
       "<path fill=\"none\" stroke=\"#000000\" d=\"M350.1393,-617.3765C364.3221,-610.9393 382.4791,-601.7024 397,-591 407.7612,-583.0686 418.3264,-572.7723 426.9522,-563.5097\"/>\n",
       "<polygon fill=\"#000000\" stroke=\"#000000\" points=\"429.5902,-565.8108 433.7033,-556.0469 424.3991,-561.1147 429.5902,-565.8108\"/>\n",
       "<text text-anchor=\"middle\" x=\"422\" y=\"-579.8\" font-family=\"Times,serif\" font-size=\"14.00\" fill=\"#000000\">1.0</text>\n",
       "</g>\n",
       "<!-- p44/42 -->\n",
       "<g id=\"node6\" class=\"node\">\n",
       "<title>p44/42</title>\n",
       "<ellipse fill=\"none\" stroke=\"#000000\" cx=\"259\" cy=\"-192\" rx=\"35.194\" ry=\"18\"/>\n",
       "<text text-anchor=\"middle\" x=\"259\" y=\"-188.3\" font-family=\"Times,serif\" font-size=\"14.00\" fill=\"#000000\">p44/42</text>\n",
       "</g>\n",
       "<!-- plcg&#45;&gt;p44/42 -->\n",
       "<g id=\"edge11\" class=\"edge\">\n",
       "<title>plcg&#45;&gt;p44/42</title>\n",
       "<path fill=\"none\" stroke=\"#000000\" d=\"M331.1724,-609.1538C332.33,-603.3937 333.4262,-596.9575 334,-591 334.6392,-584.364 334.1417,-582.6652 334,-576 331.008,-435.3113 348.3132,-393.881 302,-261 296.5797,-245.4483 287.1677,-229.7391 278.5287,-217.2467\"/>\n",
       "<polygon fill=\"#000000\" stroke=\"#000000\" points=\"281.1171,-214.8505 272.4429,-208.7671 275.4302,-218.932 281.1171,-214.8505\"/>\n",
       "<text text-anchor=\"middle\" x=\"343\" y=\"-405.8\" font-family=\"Times,serif\" font-size=\"14.00\" fill=\"#000000\">1.0</text>\n",
       "</g>\n",
       "<!-- pakts473 -->\n",
       "<g id=\"node7\" class=\"node\">\n",
       "<title>pakts473</title>\n",
       "<ellipse fill=\"none\" stroke=\"#000000\" cx=\"78\" cy=\"-279\" rx=\"42.4939\" ry=\"18\"/>\n",
       "<text text-anchor=\"middle\" x=\"78\" y=\"-275.3\" font-family=\"Times,serif\" font-size=\"14.00\" fill=\"#000000\">pakts473</text>\n",
       "</g>\n",
       "<!-- plcg&#45;&gt;pakts473 -->\n",
       "<g id=\"edge14\" class=\"edge\">\n",
       "<title>plcg&#45;&gt;pakts473</title>\n",
       "<path fill=\"none\" stroke=\"#000000\" d=\"M299.962,-625.6086C221.617,-620.8461 0,-601.9033 0,-540 0,-540 0,-540 0,-366 0,-337.8297 22.9517,-314.6215 43.9547,-299.2811\"/>\n",
       "<polygon fill=\"#000000\" stroke=\"#000000\" points=\"46.228,-301.9643 52.4599,-293.396 42.245,-296.2079 46.228,-301.9643\"/>\n",
       "<text text-anchor=\"middle\" x=\"9\" y=\"-449.3\" font-family=\"Times,serif\" font-size=\"14.00\" fill=\"#000000\">1.0</text>\n",
       "</g>\n",
       "<!-- PKA -->\n",
       "<g id=\"node8\" class=\"node\">\n",
       "<title>PKA</title>\n",
       "<ellipse fill=\"none\" stroke=\"#000000\" cx=\"264\" cy=\"-279\" rx=\"28.6953\" ry=\"18\"/>\n",
       "<text text-anchor=\"middle\" x=\"264\" y=\"-275.3\" font-family=\"Times,serif\" font-size=\"14.00\" fill=\"#000000\">PKA</text>\n",
       "</g>\n",
       "<!-- plcg&#45;&gt;PKA -->\n",
       "<g id=\"edge17\" class=\"edge\">\n",
       "<title>plcg&#45;&gt;PKA</title>\n",
       "<path fill=\"none\" stroke=\"#000000\" d=\"M325.0622,-608.8584C319.6831,-560.5629 303.1489,-425.0391 276,-315 275.3047,-312.1816 274.4932,-309.267 273.6261,-306.3726\"/>\n",
       "<polygon fill=\"#000000\" stroke=\"#000000\" points=\"276.937,-305.235 270.5523,-296.78 270.2709,-307.3711 276.937,-305.235\"/>\n",
       "<text text-anchor=\"middle\" x=\"315\" y=\"-449.3\" font-family=\"Times,serif\" font-size=\"14.00\" fill=\"#000000\">1.0</text>\n",
       "</g>\n",
       "<!-- pjnk -->\n",
       "<g id=\"node11\" class=\"node\">\n",
       "<title>pjnk</title>\n",
       "<ellipse fill=\"none\" stroke=\"#000000\" cx=\"186\" cy=\"-105\" rx=\"27\" ry=\"18\"/>\n",
       "<text text-anchor=\"middle\" x=\"186\" y=\"-101.3\" font-family=\"Times,serif\" font-size=\"14.00\" fill=\"#000000\">pjnk</text>\n",
       "</g>\n",
       "<!-- plcg&#45;&gt;pjnk -->\n",
       "<g id=\"edge23\" class=\"edge\">\n",
       "<title>plcg&#45;&gt;pjnk</title>\n",
       "<path fill=\"none\" stroke=\"#000000\" d=\"M344.3828,-612.964C361.7864,-597.2168 386,-569.9297 386,-540 386,-540 386,-540 386,-192 386,-156.5475 278.9897,-126.4105 221.5192,-112.7817\"/>\n",
       "<polygon fill=\"#000000\" stroke=\"#000000\" points=\"222.2699,-109.3629 211.7371,-110.5078 220.6849,-116.1812 222.2699,-109.3629\"/>\n",
       "<text text-anchor=\"middle\" x=\"395\" y=\"-362.3\" font-family=\"Times,serif\" font-size=\"14.00\" fill=\"#000000\">1.0</text>\n",
       "</g>\n",
       "<!-- PIP2 -->\n",
       "<g id=\"node4\" class=\"node\">\n",
       "<title>PIP2</title>\n",
       "<ellipse fill=\"none\" stroke=\"#000000\" cx=\"389\" cy=\"-714\" rx=\"27.8951\" ry=\"18\"/>\n",
       "<text text-anchor=\"middle\" x=\"389\" y=\"-710.3\" font-family=\"Times,serif\" font-size=\"14.00\" fill=\"#000000\">PIP2</text>\n",
       "</g>\n",
       "<!-- PIP2&#45;&gt;plcg -->\n",
       "<g id=\"edge8\" class=\"edge\">\n",
       "<title>PIP2&#45;&gt;plcg</title>\n",
       "<path fill=\"none\" stroke=\"#000000\" d=\"M377.3383,-697.636C368.0722,-684.6336 354.9682,-666.2457 344.4529,-651.4904\"/>\n",
       "<polygon fill=\"#000000\" stroke=\"#000000\" points=\"347.2633,-649.4031 338.6094,-643.2907 341.5627,-653.4656 347.2633,-649.4031\"/>\n",
       "<text text-anchor=\"middle\" x=\"370\" y=\"-666.8\" font-family=\"Times,serif\" font-size=\"14.00\" fill=\"#000000\">1.0</text>\n",
       "</g>\n",
       "<!-- PIP2&#45;&gt;PIP3 -->\n",
       "<g id=\"edge10\" class=\"edge\">\n",
       "<title>PIP2&#45;&gt;PIP3</title>\n",
       "<path fill=\"none\" stroke=\"#000000\" d=\"M396.4234,-696.3177C406.1761,-672.6388 423.4198,-629.1801 435,-591 437.2507,-583.5795 439.3331,-575.4456 441.1097,-567.8962\"/>\n",
       "<polygon fill=\"#000000\" stroke=\"#000000\" points=\"444.5362,-568.6119 443.33,-558.086 437.7089,-567.0667 444.5362,-568.6119\"/>\n",
       "<text text-anchor=\"middle\" x=\"437\" y=\"-623.3\" font-family=\"Times,serif\" font-size=\"14.00\" fill=\"#000000\">1.0</text>\n",
       "</g>\n",
       "<!-- p44/42&#45;&gt;pjnk -->\n",
       "<g id=\"edge24\" class=\"edge\">\n",
       "<title>p44/42&#45;&gt;pjnk</title>\n",
       "<path fill=\"none\" stroke=\"#000000\" d=\"M244.9249,-175.2255C233.8083,-161.977 218.1606,-143.3284 205.7838,-128.578\"/>\n",
       "<polygon fill=\"#000000\" stroke=\"#000000\" points=\"208.4029,-126.2542 199.2938,-120.8433 203.0405,-130.7536 208.4029,-126.2542\"/>\n",
       "<text text-anchor=\"middle\" x=\"235\" y=\"-144.8\" font-family=\"Times,serif\" font-size=\"14.00\" fill=\"#000000\">1.0</text>\n",
       "</g>\n",
       "<!-- pakts473&#45;&gt;praf -->\n",
       "<g id=\"edge2\" class=\"edge\">\n",
       "<title>pakts473&#45;&gt;praf</title>\n",
       "<path fill=\"none\" stroke=\"#000000\" d=\"M76.1791,-297.2957C75.6947,-302.9642 75.2398,-309.2351 75,-315 73.7207,-345.7558 73.5944,-354.1217 81,-384 95.0559,-440.7089 143.332,-491.8542 173.3026,-519.1654\"/>\n",
       "<polygon fill=\"#000000\" stroke=\"#000000\" points=\"171.0675,-521.8617 180.8612,-525.9031 175.7253,-516.6363 171.0675,-521.8617\"/>\n",
       "<text text-anchor=\"middle\" x=\"101\" y=\"-405.8\" font-family=\"Times,serif\" font-size=\"14.00\" fill=\"#000000\">1.0</text>\n",
       "</g>\n",
       "<!-- pakts473&#45;&gt;pmek -->\n",
       "<g id=\"edge6\" class=\"edge\">\n",
       "<title>pakts473&#45;&gt;pmek</title>\n",
       "<path fill=\"none\" stroke=\"#000000\" d=\"M78.1249,-297.2214C79.096,-319.4443 83.4688,-357.336 101,-384 116.323,-407.3055 142.4286,-425.3112 163.5519,-437.0767\"/>\n",
       "<polygon fill=\"#000000\" stroke=\"#000000\" points=\"162.082,-440.2595 172.5511,-441.8869 165.3818,-434.0861 162.082,-440.2595\"/>\n",
       "<text text-anchor=\"middle\" x=\"110\" y=\"-362.3\" font-family=\"Times,serif\" font-size=\"14.00\" fill=\"#000000\">1.0</text>\n",
       "</g>\n",
       "<!-- pakts473&#45;&gt;p44/42 -->\n",
       "<g id=\"edge12\" class=\"edge\">\n",
       "<title>pakts473&#45;&gt;p44/42</title>\n",
       "<path fill=\"none\" stroke=\"#000000\" d=\"M117.6899,-272.8317C143.7496,-267.5906 177.8986,-258.3925 205,-243 217.2098,-236.0653 228.8026,-225.8028 238.0943,-216.2981\"/>\n",
       "<polygon fill=\"#000000\" stroke=\"#000000\" points=\"240.7306,-218.6036 245.0205,-208.9161 235.6257,-213.8139 240.7306,-218.6036\"/>\n",
       "<text text-anchor=\"middle\" x=\"233\" y=\"-231.8\" font-family=\"Times,serif\" font-size=\"14.00\" fill=\"#000000\">1.0</text>\n",
       "</g>\n",
       "<!-- PKA&#45;&gt;praf -->\n",
       "<g id=\"edge3\" class=\"edge\">\n",
       "<title>PKA&#45;&gt;praf</title>\n",
       "<path fill=\"none\" stroke=\"#000000\" d=\"M263.6463,-297.2404C262.4957,-331.9618 257.6192,-409.5701 237,-471 231.8206,-486.4308 223.1009,-502.3334 215.2185,-514.9772\"/>\n",
       "<polygon fill=\"#000000\" stroke=\"#000000\" points=\"212.1657,-513.2531 209.6895,-523.5545 218.0493,-517.0458 212.1657,-513.2531\"/>\n",
       "<text text-anchor=\"middle\" x=\"262\" y=\"-405.8\" font-family=\"Times,serif\" font-size=\"14.00\" fill=\"#000000\">1.0</text>\n",
       "</g>\n",
       "<!-- PKA&#45;&gt;pmek -->\n",
       "<g id=\"edge7\" class=\"edge\">\n",
       "<title>PKA&#45;&gt;pmek</title>\n",
       "<path fill=\"none\" stroke=\"#000000\" d=\"M255.2937,-296.346C248.5227,-310.1591 239.1151,-330.0821 232,-348 221.7615,-373.7836 211.9394,-403.881 205.3204,-425.2259\"/>\n",
       "<polygon fill=\"#000000\" stroke=\"#000000\" points=\"201.9259,-424.3573 202.3405,-434.944 208.6184,-426.4094 201.9259,-424.3573\"/>\n",
       "<text text-anchor=\"middle\" x=\"241\" y=\"-362.3\" font-family=\"Times,serif\" font-size=\"14.00\" fill=\"#000000\">1.0</text>\n",
       "</g>\n",
       "<!-- PKA&#45;&gt;p44/42 -->\n",
       "<g id=\"edge13\" class=\"edge\">\n",
       "<title>PKA&#45;&gt;p44/42</title>\n",
       "<path fill=\"none\" stroke=\"#000000\" d=\"M262.964,-260.9735C262.2869,-249.1918 261.3885,-233.5607 260.6183,-220.1581\"/>\n",
       "<polygon fill=\"#000000\" stroke=\"#000000\" points=\"264.1028,-219.786 260.0347,-210.0034 257.1143,-220.1877 264.1028,-219.786\"/>\n",
       "<text text-anchor=\"middle\" x=\"270\" y=\"-231.8\" font-family=\"Times,serif\" font-size=\"14.00\" fill=\"#000000\">1.0</text>\n",
       "</g>\n",
       "<!-- PKC -->\n",
       "<g id=\"node9\" class=\"node\">\n",
       "<title>PKC</title>\n",
       "<ellipse fill=\"none\" stroke=\"#000000\" cx=\"102\" cy=\"-18\" rx=\"27.8951\" ry=\"18\"/>\n",
       "<text text-anchor=\"middle\" x=\"102\" y=\"-14.3\" font-family=\"Times,serif\" font-size=\"14.00\" fill=\"#000000\">PKC</text>\n",
       "</g>\n",
       "<!-- P38&#45;&gt;pakts473 -->\n",
       "<g id=\"edge15\" class=\"edge\">\n",
       "<title>P38&#45;&gt;pakts473</title>\n",
       "<path fill=\"none\" stroke=\"#000000\" d=\"M138.0305,-351.5792C130.9352,-345.2398 122.781,-337.5336 116,-330 108.9824,-322.2035 101.9402,-313.1702 95.858,-304.8917\"/>\n",
       "<polygon fill=\"#000000\" stroke=\"#000000\" points=\"98.5895,-302.6953 89.9085,-296.6214 92.9071,-306.7831 98.5895,-302.6953\"/>\n",
       "<text text-anchor=\"middle\" x=\"125\" y=\"-318.8\" font-family=\"Times,serif\" font-size=\"14.00\" fill=\"#000000\">1.0</text>\n",
       "</g>\n",
       "<!-- P38&#45;&gt;PKA -->\n",
       "<g id=\"edge18\" class=\"edge\">\n",
       "<title>P38&#45;&gt;PKA</title>\n",
       "<path fill=\"none\" stroke=\"#000000\" d=\"M169.2378,-350.3848C179.2752,-339.8035 193.3168,-325.8295 207,-315 215.3287,-308.4083 224.9154,-301.966 233.8216,-296.3957\"/>\n",
       "<polygon fill=\"#000000\" stroke=\"#000000\" points=\"235.7164,-299.3396 242.429,-291.1427 232.0698,-293.3645 235.7164,-299.3396\"/>\n",
       "<text text-anchor=\"middle\" x=\"216\" y=\"-318.8\" font-family=\"Times,serif\" font-size=\"14.00\" fill=\"#000000\">1.0</text>\n",
       "</g>\n",
       "<!-- P38&#45;&gt;PKC -->\n",
       "<g id=\"edge19\" class=\"edge\">\n",
       "<title>P38&#45;&gt;PKC</title>\n",
       "<path fill=\"none\" stroke=\"#000000\" d=\"M152.185,-348.0443C148.477,-326.7342 140.985,-290.3878 129,-261 119.0694,-236.6497 105.9094,-235.3735 99,-210 83.6137,-153.4969 90.7552,-84.1357 96.753,-46.1656\"/>\n",
       "<polygon fill=\"#000000\" stroke=\"#000000\" points=\"100.2754,-46.3218 98.4729,-35.8815 93.3713,-45.1671 100.2754,-46.3218\"/>\n",
       "<text text-anchor=\"middle\" x=\"108\" y=\"-188.3\" font-family=\"Times,serif\" font-size=\"14.00\" fill=\"#000000\">1.0</text>\n",
       "</g>\n",
       "<!-- pjnk&#45;&gt;pakts473 -->\n",
       "<g id=\"edge16\" class=\"edge\">\n",
       "<title>pjnk&#45;&gt;pakts473</title>\n",
       "<path fill=\"none\" stroke=\"#000000\" d=\"M175.6575,-121.6629C156.823,-152.0074 116.8,-216.4889 94.2759,-252.7778\"/>\n",
       "<polygon fill=\"#000000\" stroke=\"#000000\" points=\"91.2499,-251.0162 88.95,-261.3584 97.1974,-254.7078 91.2499,-251.0162\"/>\n",
       "<text text-anchor=\"middle\" x=\"151\" y=\"-188.3\" font-family=\"Times,serif\" font-size=\"14.00\" fill=\"#000000\">1.0</text>\n",
       "</g>\n",
       "<!-- pjnk&#45;&gt;PKC -->\n",
       "<g id=\"edge20\" class=\"edge\">\n",
       "<title>pjnk&#45;&gt;PKC</title>\n",
       "<path fill=\"none\" stroke=\"#000000\" d=\"M171.3683,-89.8458C158.3993,-76.4136 139.2639,-56.5947 124.374,-41.173\"/>\n",
       "<polygon fill=\"#000000\" stroke=\"#000000\" points=\"126.4935,-38.3294 117.0296,-33.5664 121.4577,-43.1915 126.4935,-38.3294\"/>\n",
       "<text text-anchor=\"middle\" x=\"158\" y=\"-57.8\" font-family=\"Times,serif\" font-size=\"14.00\" fill=\"#000000\">1.0</text>\n",
       "</g>\n",
       "<!-- pjnk&#45;&gt;P38 -->\n",
       "<g id=\"edge22\" class=\"edge\">\n",
       "<title>pjnk&#45;&gt;P38</title>\n",
       "<path fill=\"none\" stroke=\"#000000\" d=\"M183.8637,-122.9862C178.5719,-167.5397 164.8204,-283.3183 158.3978,-337.3929\"/>\n",
       "<polygon fill=\"#000000\" stroke=\"#000000\" points=\"154.8838,-337.3039 157.1799,-347.647 161.835,-338.1296 154.8838,-337.3039\"/>\n",
       "<text text-anchor=\"middle\" x=\"180\" y=\"-231.8\" font-family=\"Times,serif\" font-size=\"14.00\" fill=\"#000000\">1.0</text>\n",
       "</g>\n",
       "</g>\n",
       "</svg>\n"
      ],
      "text/plain": [
       "<graphviz.dot.Digraph at 0x7f810db38670>"
      ]
     },
     "metadata": {},
     "output_type": "display_data"
    },
    {
     "name": "stdout",
     "output_type": "stream",
     "text": [
      "Method : GES\n"
     ]
    },
    {
     "data": {
      "image/svg+xml": [
       "<?xml version=\"1.0\" encoding=\"UTF-8\" standalone=\"no\"?>\n",
       "<!DOCTYPE svg PUBLIC \"-//W3C//DTD SVG 1.1//EN\"\n",
       " \"http://www.w3.org/Graphics/SVG/1.1/DTD/svg11.dtd\">\n",
       "<!-- Generated by graphviz version 2.40.1 (20161225.0304)\n",
       " -->\n",
       "<!-- Title: %3 Pages: 1 -->\n",
       "<svg width=\"670pt\" height=\"740pt\"\n",
       " viewBox=\"0.00 0.00 670.00 740.00\" xmlns=\"http://www.w3.org/2000/svg\" xmlns:xlink=\"http://www.w3.org/1999/xlink\">\n",
       "<g id=\"graph0\" class=\"graph\" transform=\"scale(1 1) rotate(0) translate(4 736)\">\n",
       "<title>%3</title>\n",
       "<polygon fill=\"#ffffff\" stroke=\"transparent\" points=\"-4,4 -4,-736 666,-736 666,4 -4,4\"/>\n",
       "<!-- praf -->\n",
       "<g id=\"node1\" class=\"node\">\n",
       "<title>praf</title>\n",
       "<ellipse fill=\"none\" stroke=\"#000000\" cx=\"245\" cy=\"-453\" rx=\"27\" ry=\"18\"/>\n",
       "<text text-anchor=\"middle\" x=\"245\" y=\"-449.3\" font-family=\"Times,serif\" font-size=\"14.00\" fill=\"#000000\">praf</text>\n",
       "</g>\n",
       "<!-- plcg -->\n",
       "<g id=\"node3\" class=\"node\">\n",
       "<title>plcg</title>\n",
       "<ellipse fill=\"none\" stroke=\"#000000\" cx=\"351\" cy=\"-366\" rx=\"27\" ry=\"18\"/>\n",
       "<text text-anchor=\"middle\" x=\"351\" y=\"-362.3\" font-family=\"Times,serif\" font-size=\"14.00\" fill=\"#000000\">plcg</text>\n",
       "</g>\n",
       "<!-- praf&#45;&gt;plcg -->\n",
       "<g id=\"edge6\" class=\"edge\">\n",
       "<title>praf&#45;&gt;plcg</title>\n",
       "<path fill=\"none\" stroke=\"#000000\" d=\"M255.3827,-435.8902C262.4769,-425.2041 272.6294,-411.6848 284,-402 294.3118,-393.2171 307.1171,-385.6927 318.762,-379.8284\"/>\n",
       "<polygon fill=\"#000000\" stroke=\"#000000\" points=\"320.2883,-382.9781 327.7825,-375.4889 317.2537,-376.6701 320.2883,-382.9781\"/>\n",
       "<text text-anchor=\"middle\" x=\"293\" y=\"-405.8\" font-family=\"Times,serif\" font-size=\"14.00\" fill=\"#000000\">1.0</text>\n",
       "</g>\n",
       "<!-- p44/42 -->\n",
       "<g id=\"node6\" class=\"node\">\n",
       "<title>p44/42</title>\n",
       "<ellipse fill=\"none\" stroke=\"#000000\" cx=\"303\" cy=\"-18\" rx=\"35.194\" ry=\"18\"/>\n",
       "<text text-anchor=\"middle\" x=\"303\" y=\"-14.3\" font-family=\"Times,serif\" font-size=\"14.00\" fill=\"#000000\">p44/42</text>\n",
       "</g>\n",
       "<!-- praf&#45;&gt;p44/42 -->\n",
       "<g id=\"edge15\" class=\"edge\">\n",
       "<title>praf&#45;&gt;p44/42</title>\n",
       "<path fill=\"none\" stroke=\"#000000\" d=\"M233.4047,-436.7208C200.5161,-390.2609 109,-258.8807 109,-235.5 109,-235.5 109,-235.5 109,-105 109,-71.9195 204.1006,-42.5134 261.1325,-27.8528\"/>\n",
       "<polygon fill=\"#000000\" stroke=\"#000000\" points=\"262.1239,-31.2125 270.9648,-25.3739 260.4126,-24.4248 262.1239,-31.2125\"/>\n",
       "<text text-anchor=\"middle\" x=\"120\" y=\"-231.8\" font-family=\"Times,serif\" font-size=\"14.00\" fill=\"#000000\">1.0</text>\n",
       "</g>\n",
       "<!-- pakts473 -->\n",
       "<g id=\"node7\" class=\"node\">\n",
       "<title>pakts473</title>\n",
       "<ellipse fill=\"none\" stroke=\"#000000\" cx=\"259\" cy=\"-192\" rx=\"42.4939\" ry=\"18\"/>\n",
       "<text text-anchor=\"middle\" x=\"259\" y=\"-188.3\" font-family=\"Times,serif\" font-size=\"14.00\" fill=\"#000000\">pakts473</text>\n",
       "</g>\n",
       "<!-- praf&#45;&gt;pakts473 -->\n",
       "<g id=\"edge21\" class=\"edge\">\n",
       "<title>praf&#45;&gt;pakts473</title>\n",
       "<path fill=\"none\" stroke=\"#000000\" d=\"M245.2272,-434.6828C245.6243,-408.2391 246.6394,-357.8384 249,-315 250.7868,-282.5758 253.9632,-245.429 256.2574,-220.5181\"/>\n",
       "<polygon fill=\"#000000\" stroke=\"#000000\" points=\"259.7649,-220.6001 257.2106,-210.3178 252.7953,-219.9488 259.7649,-220.6001\"/>\n",
       "<text text-anchor=\"middle\" x=\"258\" y=\"-318.8\" font-family=\"Times,serif\" font-size=\"14.00\" fill=\"#000000\">1.0</text>\n",
       "</g>\n",
       "<!-- pmek -->\n",
       "<g id=\"node2\" class=\"node\">\n",
       "<title>pmek</title>\n",
       "<ellipse fill=\"none\" stroke=\"#000000\" cx=\"225\" cy=\"-540\" rx=\"30.5947\" ry=\"18\"/>\n",
       "<text text-anchor=\"middle\" x=\"225\" y=\"-536.3\" font-family=\"Times,serif\" font-size=\"14.00\" fill=\"#000000\">pmek</text>\n",
       "</g>\n",
       "<!-- pmek&#45;&gt;praf -->\n",
       "<g id=\"edge1\" class=\"edge\">\n",
       "<title>pmek&#45;&gt;praf</title>\n",
       "<path fill=\"none\" stroke=\"#000000\" d=\"M229.144,-521.9735C231.8793,-510.0751 235.5171,-494.2508 238.6182,-480.7606\"/>\n",
       "<polygon fill=\"#000000\" stroke=\"#000000\" points=\"242.0318,-481.5333 240.8613,-471.0034 235.2098,-479.965 242.0318,-481.5333\"/>\n",
       "<text text-anchor=\"middle\" x=\"246\" y=\"-492.8\" font-family=\"Times,serif\" font-size=\"14.00\" fill=\"#000000\">1.0</text>\n",
       "</g>\n",
       "<!-- pmek&#45;&gt;plcg -->\n",
       "<g id=\"edge7\" class=\"edge\">\n",
       "<title>pmek&#45;&gt;plcg</title>\n",
       "<path fill=\"none\" stroke=\"#000000\" d=\"M240.8354,-524.3943C246.7755,-518.2473 253.431,-510.9945 259,-504 288.6495,-466.7612 318.3701,-420.0711 335.7063,-391.6644\"/>\n",
       "<polygon fill=\"#000000\" stroke=\"#000000\" points=\"338.9055,-393.1385 341.0928,-382.7719 332.9182,-389.5118 338.9055,-393.1385\"/>\n",
       "<text text-anchor=\"middle\" x=\"317\" y=\"-449.3\" font-family=\"Times,serif\" font-size=\"14.00\" fill=\"#000000\">1.0</text>\n",
       "</g>\n",
       "<!-- PIP3 -->\n",
       "<g id=\"node5\" class=\"node\">\n",
       "<title>PIP3</title>\n",
       "<ellipse fill=\"none\" stroke=\"#000000\" cx=\"203\" cy=\"-279\" rx=\"27.8951\" ry=\"18\"/>\n",
       "<text text-anchor=\"middle\" x=\"203\" y=\"-275.3\" font-family=\"Times,serif\" font-size=\"14.00\" fill=\"#000000\">PIP3</text>\n",
       "</g>\n",
       "<!-- pmek&#45;&gt;PIP3 -->\n",
       "<g id=\"edge11\" class=\"edge\">\n",
       "<title>pmek&#45;&gt;PIP3</title>\n",
       "<path fill=\"none\" stroke=\"#000000\" d=\"M219.8058,-522.0179C216.0641,-508.1964 211.2876,-488.5593 209,-471 201.4712,-413.2099 201.4252,-344.8513 202.1544,-307.2809\"/>\n",
       "<polygon fill=\"#000000\" stroke=\"#000000\" points=\"205.6577,-307.1719 202.3865,-297.0947 198.6595,-307.0124 205.6577,-307.1719\"/>\n",
       "<text text-anchor=\"middle\" x=\"214\" y=\"-405.8\" font-family=\"Times,serif\" font-size=\"14.00\" fill=\"#000000\">1.0</text>\n",
       "</g>\n",
       "<!-- pmek&#45;&gt;p44/42 -->\n",
       "<g id=\"edge16\" class=\"edge\">\n",
       "<title>pmek&#45;&gt;p44/42</title>\n",
       "<path fill=\"none\" stroke=\"#000000\" d=\"M195.4491,-535.2525C169.5702,-530.2101 131.5848,-520.6153 102,-504 72.6486,-487.5158 46,-486.6635 46,-453 46,-453 46,-453 46,-105 46,-60.5731 185.5292,-34.3826 258.9696,-23.6743\"/>\n",
       "<polygon fill=\"#000000\" stroke=\"#000000\" points=\"259.4649,-27.1391 268.8724,-22.2657 258.4791,-20.2089 259.4649,-27.1391\"/>\n",
       "<text text-anchor=\"middle\" x=\"55\" y=\"-275.3\" font-family=\"Times,serif\" font-size=\"14.00\" fill=\"#000000\">1.0</text>\n",
       "</g>\n",
       "<!-- pmek&#45;&gt;pakts473 -->\n",
       "<g id=\"edge22\" class=\"edge\">\n",
       "<title>pmek&#45;&gt;pakts473</title>\n",
       "<path fill=\"none\" stroke=\"#000000\" d=\"M196.0117,-534.1904C167.2406,-527.795 126.0231,-516.7173 116,-504 72.9945,-449.4346 87.2503,-414.8978 106,-348 122.8473,-287.8897 132.2142,-269.3301 179,-228 189.2783,-218.9202 202.2239,-211.7739 214.6887,-206.3242\"/>\n",
       "<polygon fill=\"#000000\" stroke=\"#000000\" points=\"216.1451,-209.5101 224.0748,-202.4837 213.4941,-203.0314 216.1451,-209.5101\"/>\n",
       "<text text-anchor=\"middle\" x=\"115\" y=\"-362.3\" font-family=\"Times,serif\" font-size=\"14.00\" fill=\"#000000\">1.0</text>\n",
       "</g>\n",
       "<!-- pjnk -->\n",
       "<g id=\"node11\" class=\"node\">\n",
       "<title>pjnk</title>\n",
       "<ellipse fill=\"none\" stroke=\"#000000\" cx=\"410\" cy=\"-105\" rx=\"27\" ry=\"18\"/>\n",
       "<text text-anchor=\"middle\" x=\"410\" y=\"-101.3\" font-family=\"Times,serif\" font-size=\"14.00\" fill=\"#000000\">pjnk</text>\n",
       "</g>\n",
       "<!-- pmek&#45;&gt;pjnk -->\n",
       "<g id=\"edge32\" class=\"edge\">\n",
       "<title>pmek&#45;&gt;pjnk</title>\n",
       "<path fill=\"none\" stroke=\"#000000\" d=\"M251.9122,-531.1567C301.6583,-513.0327 405.6927,-466.2931 436,-384 450.0628,-345.8152 447.1189,-157.483 441,-141 439.1809,-136.0996 436.3626,-131.4193 433.1513,-127.1503\"/>\n",
       "<polygon fill=\"#000000\" stroke=\"#000000\" points=\"435.7928,-124.8536 426.6511,-119.4982 430.4578,-129.3856 435.7928,-124.8536\"/>\n",
       "<text text-anchor=\"middle\" x=\"453\" y=\"-318.8\" font-family=\"Times,serif\" font-size=\"14.00\" fill=\"#000000\">1.0</text>\n",
       "</g>\n",
       "<!-- plcg&#45;&gt;PIP3 -->\n",
       "<g id=\"edge12\" class=\"edge\">\n",
       "<title>plcg&#45;&gt;PIP3</title>\n",
       "<path fill=\"none\" stroke=\"#000000\" d=\"M331.1705,-353.5753C320.1909,-346.6708 306.3125,-337.9025 294,-330 283.7294,-323.4081 281.5149,-321.1948 271,-315 259.1942,-308.0447 245.9316,-300.8832 234.2752,-294.7976\"/>\n",
       "<polygon fill=\"#000000\" stroke=\"#000000\" points=\"235.8202,-291.6563 225.3298,-290.1721 232.605,-297.8742 235.8202,-291.6563\"/>\n",
       "<text text-anchor=\"middle\" x=\"303\" y=\"-318.8\" font-family=\"Times,serif\" font-size=\"14.00\" fill=\"#000000\">1.0</text>\n",
       "</g>\n",
       "<!-- plcg&#45;&gt;p44/42 -->\n",
       "<g id=\"edge17\" class=\"edge\">\n",
       "<title>plcg&#45;&gt;p44/42</title>\n",
       "<path fill=\"none\" stroke=\"#000000\" d=\"M348.823,-347.897C344.1893,-309.6506 332.8825,-217.8227 322,-141 317.4065,-108.5733 311.5919,-71.4269 307.6125,-46.5168\"/>\n",
       "<polygon fill=\"#000000\" stroke=\"#000000\" points=\"311.0161,-45.6363 305.9763,-36.3169 304.1044,-46.7451 311.0161,-45.6363\"/>\n",
       "<text text-anchor=\"middle\" x=\"340\" y=\"-188.3\" font-family=\"Times,serif\" font-size=\"14.00\" fill=\"#000000\">1.0</text>\n",
       "</g>\n",
       "<!-- plcg&#45;&gt;pakts473 -->\n",
       "<g id=\"edge23\" class=\"edge\">\n",
       "<title>plcg&#45;&gt;pakts473</title>\n",
       "<path fill=\"none\" stroke=\"#000000\" d=\"M342.0111,-348.9993C325.9487,-318.6203 292.2118,-254.8136 273.0605,-218.5927\"/>\n",
       "<polygon fill=\"#000000\" stroke=\"#000000\" points=\"276.0671,-216.7911 268.2988,-209.5868 269.8789,-220.0631 276.0671,-216.7911\"/>\n",
       "<text text-anchor=\"middle\" x=\"324\" y=\"-275.3\" font-family=\"Times,serif\" font-size=\"14.00\" fill=\"#000000\">1.0</text>\n",
       "</g>\n",
       "<!-- plcg&#45;&gt;pjnk -->\n",
       "<g id=\"edge33\" class=\"edge\">\n",
       "<title>plcg&#45;&gt;pjnk</title>\n",
       "<path fill=\"none\" stroke=\"#000000\" d=\"M358.4554,-348.6323C360.7753,-342.787 363.1953,-336.1796 365,-330 385.3326,-260.3786 399.5057,-175.9783 405.9959,-133.037\"/>\n",
       "<polygon fill=\"#000000\" stroke=\"#000000\" points=\"409.4725,-133.4529 407.4796,-123.0472 402.5484,-132.4245 409.4725,-133.4529\"/>\n",
       "<text text-anchor=\"middle\" x=\"398\" y=\"-231.8\" font-family=\"Times,serif\" font-size=\"14.00\" fill=\"#000000\">1.0</text>\n",
       "</g>\n",
       "<!-- PIP2 -->\n",
       "<g id=\"node4\" class=\"node\">\n",
       "<title>PIP2</title>\n",
       "<ellipse fill=\"none\" stroke=\"#000000\" cx=\"232\" cy=\"-714\" rx=\"27.8951\" ry=\"18\"/>\n",
       "<text text-anchor=\"middle\" x=\"232\" y=\"-710.3\" font-family=\"Times,serif\" font-size=\"14.00\" fill=\"#000000\">PIP2</text>\n",
       "</g>\n",
       "<!-- PIP2&#45;&gt;plcg -->\n",
       "<g id=\"edge8\" class=\"edge\">\n",
       "<title>PIP2&#45;&gt;plcg</title>\n",
       "<path fill=\"none\" stroke=\"#000000\" d=\"M259.262,-709.3014C278.5641,-704.5862 303.6536,-695.4145 319,-678 390.4884,-596.8777 370.3252,-453.8774 357.6828,-393.8068\"/>\n",
       "<polygon fill=\"#000000\" stroke=\"#000000\" points=\"361.0737,-392.9303 355.5084,-383.9149 354.2369,-394.4331 361.0737,-392.9303\"/>\n",
       "<text text-anchor=\"middle\" x=\"379\" y=\"-536.3\" font-family=\"Times,serif\" font-size=\"14.00\" fill=\"#000000\">1.0</text>\n",
       "</g>\n",
       "<!-- PIP2&#45;&gt;PIP3 -->\n",
       "<g id=\"edge13\" class=\"edge\">\n",
       "<title>PIP2&#45;&gt;PIP3</title>\n",
       "<path fill=\"none\" stroke=\"#000000\" d=\"M208.2798,-704.3998C180.4331,-691.3726 138,-665.2467 138,-627 138,-627 138,-627 138,-409.5 138,-368.9716 163.4291,-328.0883 182.4768,-303.1494\"/>\n",
       "<polygon fill=\"#000000\" stroke=\"#000000\" points=\"185.4457,-305.0372 188.896,-295.0199 179.9519,-300.6992 185.4457,-305.0372\"/>\n",
       "<text text-anchor=\"middle\" x=\"147\" y=\"-492.8\" font-family=\"Times,serif\" font-size=\"14.00\" fill=\"#000000\">1.0</text>\n",
       "</g>\n",
       "<!-- PKC -->\n",
       "<g id=\"node9\" class=\"node\">\n",
       "<title>PKC</title>\n",
       "<ellipse fill=\"none\" stroke=\"#000000\" cx=\"232\" cy=\"-627\" rx=\"27.8951\" ry=\"18\"/>\n",
       "<text text-anchor=\"middle\" x=\"232\" y=\"-623.3\" font-family=\"Times,serif\" font-size=\"14.00\" fill=\"#000000\">PKC</text>\n",
       "</g>\n",
       "<!-- PIP2&#45;&gt;PKC -->\n",
       "<g id=\"edge30\" class=\"edge\">\n",
       "<title>PIP2&#45;&gt;PKC</title>\n",
       "<path fill=\"none\" stroke=\"#000000\" d=\"M232,-695.9735C232,-684.1918 232,-668.5607 232,-655.1581\"/>\n",
       "<polygon fill=\"#000000\" stroke=\"#000000\" points=\"235.5001,-655.0033 232,-645.0034 228.5001,-655.0034 235.5001,-655.0033\"/>\n",
       "<text text-anchor=\"middle\" x=\"241\" y=\"-666.8\" font-family=\"Times,serif\" font-size=\"14.00\" fill=\"#000000\">1.0</text>\n",
       "</g>\n",
       "<!-- PIP3&#45;&gt;pakts473 -->\n",
       "<g id=\"edge24\" class=\"edge\">\n",
       "<title>PIP3&#45;&gt;pakts473</title>\n",
       "<path fill=\"none\" stroke=\"#000000\" d=\"M209.8263,-261.3411C214.1018,-251.2048 220.1018,-238.4548 227,-228 229.556,-224.1262 232.5077,-220.2401 235.5635,-216.5289\"/>\n",
       "<polygon fill=\"#000000\" stroke=\"#000000\" points=\"238.3966,-218.6043 242.306,-208.7571 233.1091,-214.0171 238.3966,-218.6043\"/>\n",
       "<text text-anchor=\"middle\" x=\"236\" y=\"-231.8\" font-family=\"Times,serif\" font-size=\"14.00\" fill=\"#000000\">1.0</text>\n",
       "</g>\n",
       "<!-- p44/42&#45;&gt;pakts473 -->\n",
       "<g id=\"edge25\" class=\"edge\">\n",
       "<title>p44/42&#45;&gt;pakts473</title>\n",
       "<path fill=\"none\" stroke=\"#000000\" d=\"M287.3243,-34.2801C275.89,-47.3554 261.3318,-66.8103 255,-87 247.1078,-112.1652 249.4055,-142.3948 252.9008,-163.9426\"/>\n",
       "<polygon fill=\"#000000\" stroke=\"#000000\" points=\"249.5059,-164.8379 254.7316,-174.0543 256.3939,-163.5907 249.5059,-164.8379\"/>\n",
       "<text text-anchor=\"middle\" x=\"264\" y=\"-101.3\" font-family=\"Times,serif\" font-size=\"14.00\" fill=\"#000000\">1.0</text>\n",
       "</g>\n",
       "<!-- p44/42&#45;&gt;pjnk -->\n",
       "<g id=\"edge34\" class=\"edge\">\n",
       "<title>p44/42&#45;&gt;pjnk</title>\n",
       "<path fill=\"none\" stroke=\"#000000\" d=\"M334.353,-26.3715C350.7157,-32.0142 370.1525,-40.8708 384,-54 390.9168,-60.558 396.3002,-69.3602 400.3283,-77.8047\"/>\n",
       "<polygon fill=\"#000000\" stroke=\"#000000\" points=\"397.1392,-79.2485 404.3098,-87.048 403.5682,-76.4792 397.1392,-79.2485\"/>\n",
       "<text text-anchor=\"middle\" x=\"404\" y=\"-57.8\" font-family=\"Times,serif\" font-size=\"14.00\" fill=\"#000000\">1.0</text>\n",
       "</g>\n",
       "<!-- pakts473&#45;&gt;PIP3 -->\n",
       "<g id=\"edge14\" class=\"edge\">\n",
       "<title>pakts473&#45;&gt;PIP3</title>\n",
       "<path fill=\"none\" stroke=\"#000000\" d=\"M222.0956,-201.1896C208.3107,-206.6077 194.059,-215.04 186,-228 181.2016,-235.7164 182.5118,-244.94 185.9783,-253.4083\"/>\n",
       "<polygon fill=\"#000000\" stroke=\"#000000\" points=\"182.9565,-255.1884 190.5976,-262.5277 189.2011,-252.0253 182.9565,-255.1884\"/>\n",
       "<text text-anchor=\"middle\" x=\"195\" y=\"-231.8\" font-family=\"Times,serif\" font-size=\"14.00\" fill=\"#000000\">1.0</text>\n",
       "</g>\n",
       "<!-- pakts473&#45;&gt;p44/42 -->\n",
       "<g id=\"edge18\" class=\"edge\">\n",
       "<title>pakts473&#45;&gt;p44/42</title>\n",
       "<path fill=\"none\" stroke=\"#000000\" d=\"M263.543,-174.0343C271.237,-143.6084 286.881,-81.7433 295.9893,-45.724\"/>\n",
       "<polygon fill=\"#000000\" stroke=\"#000000\" points=\"299.4232,-46.4209 298.4817,-35.868 292.6368,-44.7047 299.4232,-46.4209\"/>\n",
       "<text text-anchor=\"middle\" x=\"295\" y=\"-101.3\" font-family=\"Times,serif\" font-size=\"14.00\" fill=\"#000000\">1.0</text>\n",
       "</g>\n",
       "<!-- pakts473&#45;&gt;pjnk -->\n",
       "<g id=\"edge35\" class=\"edge\">\n",
       "<title>pakts473&#45;&gt;pjnk</title>\n",
       "<path fill=\"none\" stroke=\"#000000\" d=\"M270.5932,-174.2471C278.5487,-163.3045 289.9945,-149.7409 303,-141 324.3454,-126.6539 351.9208,-117.5563 373.7316,-112.096\"/>\n",
       "<polygon fill=\"#000000\" stroke=\"#000000\" points=\"374.6813,-115.4681 383.6127,-109.7689 373.0767,-108.6545 374.6813,-115.4681\"/>\n",
       "<text text-anchor=\"middle\" x=\"312\" y=\"-144.8\" font-family=\"Times,serif\" font-size=\"14.00\" fill=\"#000000\">1.0</text>\n",
       "</g>\n",
       "<!-- PKA -->\n",
       "<g id=\"node8\" class=\"node\">\n",
       "<title>PKA</title>\n",
       "<ellipse fill=\"none\" stroke=\"#000000\" cx=\"468\" cy=\"-627\" rx=\"28.6953\" ry=\"18\"/>\n",
       "<text text-anchor=\"middle\" x=\"468\" y=\"-623.3\" font-family=\"Times,serif\" font-size=\"14.00\" fill=\"#000000\">PKA</text>\n",
       "</g>\n",
       "<!-- PKA&#45;&gt;praf -->\n",
       "<g id=\"edge2\" class=\"edge\">\n",
       "<title>PKA&#45;&gt;praf</title>\n",
       "<path fill=\"none\" stroke=\"#000000\" d=\"M444.8051,-616.2909C421.6863,-605.7172 385.0979,-589.2534 353,-576 332.3247,-567.4631 323.0342,-572.4976 306,-558 292.7875,-546.755 271.3488,-506.5652 257.7236,-479.2988\"/>\n",
       "<polygon fill=\"#000000\" stroke=\"#000000\" points=\"260.8254,-477.6754 253.2563,-470.2619 254.5503,-480.7775 260.8254,-477.6754\"/>\n",
       "<text text-anchor=\"middle\" x=\"315\" y=\"-536.3\" font-family=\"Times,serif\" font-size=\"14.00\" fill=\"#000000\">1.0</text>\n",
       "</g>\n",
       "<!-- PKA&#45;&gt;pmek -->\n",
       "<g id=\"edge3\" class=\"edge\">\n",
       "<title>PKA&#45;&gt;pmek</title>\n",
       "<path fill=\"none\" stroke=\"#000000\" d=\"M440.8349,-621.0758C413.6573,-614.8176 370.8511,-604.0558 335,-591 308.1219,-581.2119 278.7838,-567.4449 257.1709,-556.6812\"/>\n",
       "<polygon fill=\"#000000\" stroke=\"#000000\" points=\"258.6222,-553.4933 248.1164,-552.1226 255.4744,-559.7456 258.6222,-553.4933\"/>\n",
       "<text text-anchor=\"middle\" x=\"344\" y=\"-579.8\" font-family=\"Times,serif\" font-size=\"14.00\" fill=\"#000000\">1.0</text>\n",
       "</g>\n",
       "<!-- PKA&#45;&gt;plcg -->\n",
       "<g id=\"edge9\" class=\"edge\">\n",
       "<title>PKA&#45;&gt;plcg</title>\n",
       "<path fill=\"none\" stroke=\"#000000\" d=\"M467.5427,-608.8016C466.2728,-581.6403 461.5366,-529.3712 444,-489 426.9426,-449.732 394.9039,-411.5251 373.2579,-388.3776\"/>\n",
       "<polygon fill=\"#000000\" stroke=\"#000000\" points=\"375.7828,-385.9537 366.3522,-381.1251 370.7133,-390.7808 375.7828,-385.9537\"/>\n",
       "<text text-anchor=\"middle\" x=\"458\" y=\"-492.8\" font-family=\"Times,serif\" font-size=\"14.00\" fill=\"#000000\">1.0</text>\n",
       "</g>\n",
       "<!-- PKA&#45;&gt;p44/42 -->\n",
       "<g id=\"edge19\" class=\"edge\">\n",
       "<title>PKA&#45;&gt;p44/42</title>\n",
       "<path fill=\"none\" stroke=\"#000000\" d=\"M493.4057,-618.6248C508.1451,-612.7489 526.255,-603.6633 539,-591 573.4909,-556.7302 620,-517.0417 620,-409.5 620,-409.5 620,-409.5 620,-105 620,-49.3369 435.939,-27.9885 348.3236,-20.9795\"/>\n",
       "<polygon fill=\"#000000\" stroke=\"#000000\" points=\"348.3751,-17.4732 338.1357,-20.1945 347.8373,-24.4525 348.3751,-17.4732\"/>\n",
       "<text text-anchor=\"middle\" x=\"629\" y=\"-318.8\" font-family=\"Times,serif\" font-size=\"14.00\" fill=\"#000000\">1.0</text>\n",
       "</g>\n",
       "<!-- PKA&#45;&gt;pakts473 -->\n",
       "<g id=\"edge26\" class=\"edge\">\n",
       "<title>PKA&#45;&gt;pakts473</title>\n",
       "<path fill=\"none\" stroke=\"#000000\" d=\"M474.5496,-609.2959C476.3683,-603.5434 478.0925,-597.0757 479,-591 479.9849,-584.4065 479.1659,-582.6646 479,-576 476.1102,-459.8922 501.0719,-425.7219 466,-315 452.1863,-271.3901 448.6698,-253.9543 411,-228 377.7678,-205.1032 361.21,-219.5508 322,-210 315.9076,-208.516 309.5178,-206.8365 303.2411,-205.1145\"/>\n",
       "<polygon fill=\"#000000\" stroke=\"#000000\" points=\"304.1034,-201.7214 293.53,-202.3954 302.216,-208.4621 304.1034,-201.7214\"/>\n",
       "<text text-anchor=\"middle\" x=\"493\" y=\"-405.8\" font-family=\"Times,serif\" font-size=\"14.00\" fill=\"#000000\">1.0</text>\n",
       "</g>\n",
       "<!-- PKA&#45;&gt;pjnk -->\n",
       "<g id=\"edge36\" class=\"edge\">\n",
       "<title>PKA&#45;&gt;pjnk</title>\n",
       "<path fill=\"none\" stroke=\"#000000\" d=\"M489.5753,-614.6464C512.0442,-599.9897 544,-573.2924 544,-540 544,-540 544,-540 544,-192 544,-145.1783 485.7362,-122.2768 446.0465,-112.1079\"/>\n",
       "<polygon fill=\"#000000\" stroke=\"#000000\" points=\"446.6953,-108.6643 436.1547,-109.7345 445.062,-115.4711 446.6953,-108.6643\"/>\n",
       "<text text-anchor=\"middle\" x=\"553\" y=\"-362.3\" font-family=\"Times,serif\" font-size=\"14.00\" fill=\"#000000\">1.0</text>\n",
       "</g>\n",
       "<!-- PKC&#45;&gt;pmek -->\n",
       "<g id=\"edge4\" class=\"edge\">\n",
       "<title>PKC&#45;&gt;pmek</title>\n",
       "<path fill=\"none\" stroke=\"#000000\" d=\"M230.5496,-608.9735C229.6016,-597.1918 228.344,-581.5607 227.2656,-568.1581\"/>\n",
       "<polygon fill=\"#000000\" stroke=\"#000000\" points=\"230.7394,-567.6904 226.4485,-558.0034 223.7619,-568.2519 230.7394,-567.6904\"/>\n",
       "<text text-anchor=\"middle\" x=\"238\" y=\"-579.8\" font-family=\"Times,serif\" font-size=\"14.00\" fill=\"#000000\">1.0</text>\n",
       "</g>\n",
       "<!-- PKC&#45;&gt;pjnk -->\n",
       "<g id=\"edge37\" class=\"edge\">\n",
       "<title>PKC&#45;&gt;pjnk</title>\n",
       "<path fill=\"none\" stroke=\"#000000\" d=\"M257.1761,-618.7687C267.0655,-615.6092 278.535,-612.0356 289,-609 319.0254,-600.2904 331.7647,-609.4543 357,-591 371.0326,-580.7381 372.2754,-574.415 378,-558 424.3534,-425.0847 402.0417,-383.4808 411,-243 413.8856,-197.7499 414.8844,-186.3029 413,-141 412.8988,-138.5679 412.7594,-136.0458 412.5956,-133.5168\"/>\n",
       "<polygon fill=\"#000000\" stroke=\"#000000\" points=\"416.0668,-133.0026 411.8209,-123.2957 409.0868,-133.5317 416.0668,-133.0026\"/>\n",
       "<text text-anchor=\"middle\" x=\"417\" y=\"-362.3\" font-family=\"Times,serif\" font-size=\"14.00\" fill=\"#000000\">1.0</text>\n",
       "</g>\n",
       "<!-- P38 -->\n",
       "<g id=\"node10\" class=\"node\">\n",
       "<title>P38</title>\n",
       "<ellipse fill=\"none\" stroke=\"#000000\" cx=\"394\" cy=\"-714\" rx=\"27\" ry=\"18\"/>\n",
       "<text text-anchor=\"middle\" x=\"394\" y=\"-710.3\" font-family=\"Times,serif\" font-size=\"14.00\" fill=\"#000000\">P38</text>\n",
       "</g>\n",
       "<!-- P38&#45;&gt;pmek -->\n",
       "<g id=\"edge5\" class=\"edge\">\n",
       "<title>P38&#45;&gt;pmek</title>\n",
       "<path fill=\"none\" stroke=\"#000000\" d=\"M379.298,-698.863C349.6086,-668.2953 282.3451,-599.0417 247.2502,-562.9085\"/>\n",
       "<polygon fill=\"#000000\" stroke=\"#000000\" points=\"249.7526,-560.4614 240.2747,-555.7266 244.7312,-565.3385 249.7526,-560.4614\"/>\n",
       "<text text-anchor=\"middle\" x=\"335\" y=\"-623.3\" font-family=\"Times,serif\" font-size=\"14.00\" fill=\"#000000\">1.0</text>\n",
       "</g>\n",
       "<!-- P38&#45;&gt;plcg -->\n",
       "<g id=\"edge10\" class=\"edge\">\n",
       "<title>P38&#45;&gt;plcg</title>\n",
       "<path fill=\"none\" stroke=\"#000000\" d=\"M420.1805,-709.1811C480.4573,-696.6186 621.9585,-657.9948 596,-576 561.3409,-466.5225 498.0207,-469.3329 405,-402 396.6679,-395.9688 387.4115,-389.6612 378.9495,-384.0413\"/>\n",
       "<polygon fill=\"#000000\" stroke=\"#000000\" points=\"380.7681,-381.0483 370.4908,-378.474 376.9197,-386.8955 380.7681,-381.0483\"/>\n",
       "<text text-anchor=\"middle\" x=\"598\" y=\"-536.3\" font-family=\"Times,serif\" font-size=\"14.00\" fill=\"#000000\">1.0</text>\n",
       "</g>\n",
       "<!-- P38&#45;&gt;pakts473 -->\n",
       "<g id=\"edge27\" class=\"edge\">\n",
       "<title>P38&#45;&gt;pakts473</title>\n",
       "<path fill=\"none\" stroke=\"#000000\" d=\"M367.3143,-710.0915C326.7432,-703.8369 251.7511,-690.9592 228,-678 90.5726,-603.016 0,-566.0532 0,-409.5 0,-409.5 0,-409.5 0,-279 0,-235.5653 132.5465,-209.7515 207.9984,-198.5758\"/>\n",
       "<polygon fill=\"#000000\" stroke=\"#000000\" points=\"208.8494,-201.9893 218.2463,-197.0957 207.8487,-195.0611 208.8494,-201.9893\"/>\n",
       "<text text-anchor=\"middle\" x=\"15\" y=\"-449.3\" font-family=\"Times,serif\" font-size=\"14.00\" fill=\"#000000\">1.0</text>\n",
       "</g>\n",
       "<!-- P38&#45;&gt;PKA -->\n",
       "<g id=\"edge29\" class=\"edge\">\n",
       "<title>P38&#45;&gt;PKA</title>\n",
       "<path fill=\"none\" stroke=\"#000000\" d=\"M407.5727,-698.0429C418.7681,-684.8808 434.8245,-666.0036 447.5727,-651.0159\"/>\n",
       "<polygon fill=\"#000000\" stroke=\"#000000\" points=\"450.4497,-653.0355 454.2627,-643.1506 445.1176,-648.5002 450.4497,-653.0355\"/>\n",
       "<text text-anchor=\"middle\" x=\"444\" y=\"-666.8\" font-family=\"Times,serif\" font-size=\"14.00\" fill=\"#000000\">1.0</text>\n",
       "</g>\n",
       "<!-- P38&#45;&gt;PKC -->\n",
       "<g id=\"edge31\" class=\"edge\">\n",
       "<title>P38&#45;&gt;PKC</title>\n",
       "<path fill=\"none\" stroke=\"#000000\" d=\"M372.5319,-702.7062C359.1345,-695.6404 341.541,-686.3294 326,-678 304.7211,-666.5953 280.807,-653.6184 262.4247,-643.6088\"/>\n",
       "<polygon fill=\"#000000\" stroke=\"#000000\" points=\"264.0763,-640.523 253.6206,-638.8115 260.727,-646.6697 264.0763,-640.523\"/>\n",
       "<text text-anchor=\"middle\" x=\"335\" y=\"-666.8\" font-family=\"Times,serif\" font-size=\"14.00\" fill=\"#000000\">1.0</text>\n",
       "</g>\n",
       "<!-- P38&#45;&gt;pjnk -->\n",
       "<g id=\"edge38\" class=\"edge\">\n",
       "<title>P38&#45;&gt;pjnk</title>\n",
       "<path fill=\"none\" stroke=\"#000000\" d=\"M420.8468,-710.7668C452.6707,-706.2716 506.8279,-696.5123 550,-678 574.471,-667.5068 585.0938,-667.0623 600,-645 679.0708,-527.969 637.998,-471.1823 642,-330 644.7289,-233.7295 613.7894,-197.7826 536,-141 509.8823,-121.9353 473.926,-112.9431 447.1069,-108.7156\"/>\n",
       "<polygon fill=\"#000000\" stroke=\"#000000\" points=\"447.3474,-105.2147 436.9541,-107.2715 446.3616,-112.1449 447.3474,-105.2147\"/>\n",
       "<text text-anchor=\"middle\" x=\"653\" y=\"-405.8\" font-family=\"Times,serif\" font-size=\"14.00\" fill=\"#000000\">1.0</text>\n",
       "</g>\n",
       "<!-- pjnk&#45;&gt;p44/42 -->\n",
       "<g id=\"edge20\" class=\"edge\">\n",
       "<title>pjnk&#45;&gt;p44/42</title>\n",
       "<path fill=\"none\" stroke=\"#000000\" d=\"M392.8086,-91.0219C375.8541,-77.2365 349.6881,-55.9614 329.965,-39.9248\"/>\n",
       "<polygon fill=\"#000000\" stroke=\"#000000\" points=\"331.9193,-37.0029 321.9523,-33.4098 327.5032,-42.4341 331.9193,-37.0029\"/>\n",
       "<text text-anchor=\"middle\" x=\"371\" y=\"-57.8\" font-family=\"Times,serif\" font-size=\"14.00\" fill=\"#000000\">1.0</text>\n",
       "</g>\n",
       "<!-- pjnk&#45;&gt;pakts473 -->\n",
       "<g id=\"edge28\" class=\"edge\">\n",
       "<title>pjnk&#45;&gt;pakts473</title>\n",
       "<path fill=\"none\" stroke=\"#000000\" d=\"M389.8722,-117.3946C372.7353,-127.8707 347.4035,-143.1761 325,-156 315.1132,-161.6593 304.296,-167.6443 294.3323,-173.0751\"/>\n",
       "<polygon fill=\"#000000\" stroke=\"#000000\" points=\"292.5937,-170.0364 285.4729,-177.8815 295.9317,-176.1892 292.5937,-170.0364\"/>\n",
       "<text text-anchor=\"middle\" x=\"357\" y=\"-144.8\" font-family=\"Times,serif\" font-size=\"14.00\" fill=\"#000000\">1.0</text>\n",
       "</g>\n",
       "</g>\n",
       "</svg>\n"
      ],
      "text/plain": [
       "<graphviz.dot.Digraph at 0x7f8144d95520>"
      ]
     },
     "metadata": {},
     "output_type": "display_data"
    }
   ],
   "source": [
    "from cdt.causality.graph import LiNGAM, PC, GES\n",
    "\n",
    "graphs = {}\n",
    "graphs_nx = {}\n",
    "labels = [f'{col}' for i, col in enumerate(data_sachs.columns)]\n",
    "functions = {\n",
    "    'LiNGAM' : LiNGAM,\n",
    "    'PC' : PC,\n",
    "    'GES' : GES,\n",
    "}\n",
    "\n",
    "for method, lib in functions.items():\n",
    "    obj = lib()\n",
    "    output = obj.predict(data_sachs)\n",
    "    graphs_nx[method] = output\n",
    "    adj_matrix = nx.to_numpy_matrix(output)\n",
    "    adj_matrix = np.asarray(adj_matrix)\n",
    "    graph_dot = make_graph(adj_matrix, labels)\n",
    "    graphs[method] = graph_dot\n",
    "\n",
    "# Visualize graphs\n",
    "for method, graph in graphs.items():\n",
    "    print(\"Method : %s\"%(method))\n",
    "    display(graph)"
   ]
  },
  {
   "cell_type": "markdown",
   "metadata": {},
   "source": [
    "As you can see, no two methods agree on the graphs. Next we study the causal effects of these different graphs"
   ]
  },
  {
   "cell_type": "markdown",
   "metadata": {},
   "source": [
    "## Estimate effects using Linear Regression\n",
    "\n",
    "Now let us see whether these differences in the graphs also lead to signficant differences in the causal estimate of effect of *PIP2* on *PKC*."
   ]
  },
  {
   "cell_type": "code",
   "execution_count": 9,
   "metadata": {
    "execution": {
     "iopub.execute_input": "2022-03-20T14:42:14.529671Z",
     "iopub.status.busy": "2022-03-20T14:42:14.525401Z",
     "iopub.status.idle": "2022-03-20T14:42:14.546066Z",
     "shell.execute_reply": "2022-03-20T14:42:14.545454Z"
    }
   },
   "outputs": [
    {
     "name": "stdout",
     "output_type": "stream",
     "text": [
      "\n",
      "*****************************************************************************\n",
      "\n",
      "Causal Discovery Method : LiNGAM\n",
      "No directed path from ['PIP2'] to ['PKC'] in the causal graph.\n",
      "Causal effect is zero.\n",
      "linear_regression\n",
      "Causal Estimate is 0\n"
     ]
    }
   ],
   "source": [
    "for method, graph in graphs.items():\n",
    "        if method != \"LiNGAM\":\n",
    "            continue\n",
    "        print('\\n*****************************************************************************\\n')\n",
    "        print(\"Causal Discovery Method : %s\"%(method))\n",
    "\n",
    "        # Obtain valid dot format\n",
    "        graph_dot = str_to_dot(graph.source)\n",
    "\n",
    "        # Define Causal Model\n",
    "        model=CausalModel(\n",
    "                data = data_sachs,\n",
    "                treatment='PIP2',\n",
    "                outcome='PKC',\n",
    "                graph=graph_dot)\n",
    "\n",
    "        # Identification\n",
    "        identified_estimand = model.identify_effect(proceed_when_unidentifiable=True)\n",
    "        print(identified_estimand)\n",
    "\n",
    "        # Estimation\n",
    "        estimate = model.estimate_effect(identified_estimand,\n",
    "                                        method_name=\"backdoor.linear_regression\",\n",
    "                                        control_value=0,\n",
    "                                        treatment_value=1,\n",
    "                                        confidence_intervals=True,\n",
    "                                        test_significance=True)\n",
    "        print(\"Causal Estimate is \" + str(estimate.value))"
   ]
  },
  {
   "cell_type": "markdown",
   "metadata": {},
   "source": [
    "From the causal estimates obtained, it can be seen that the three estimates differ in different aspects. The graph obtained using LiNGAM contains a backdoor path and instrumental variables. On the other hand, the graph obtained using PC contains a backdoor path and a frontdoor path. However, despite these differences, both obtain the same mean causal estimate.\n",
    "\n",
    "The graph obtained using GES contains only a backdoor path with different backdoor variables and obtains a different causal estimate than the first two cases. "
   ]
  },
  {
   "cell_type": "markdown",
   "metadata": {},
   "source": [
    "## Graph Validation\n",
    "\n",
    "We compare the graphs obtained with the true causal graph using the causal discovery methods using 2 graph distance metrics - Structural Hamming Distance (SHD) and Structural Intervention Distance (SID). SHD between two graphs is, in simple terms, the number of edge insertions, deletions or flips in order to transform one graph to another graph. SID, on the other hand, is based on a graphical criterion only and quantifies the closeness between two DAGs in terms of their corresponding causal inference statements."
   ]
  },
  {
   "cell_type": "code",
   "execution_count": 10,
   "metadata": {
    "execution": {
     "iopub.execute_input": "2022-03-20T14:42:14.556953Z",
     "iopub.status.busy": "2022-03-20T14:42:14.556199Z",
     "iopub.status.idle": "2022-03-20T14:42:41.812475Z",
     "shell.execute_reply": "2022-03-20T14:42:41.812945Z"
    }
   },
   "outputs": [
    {
     "name": "stdout",
     "output_type": "stream",
     "text": [
      "***********************************************************\n",
      "Method: LiNGAM\n"
     ]
    },
    {
     "name": "stdout",
     "output_type": "stream",
     "text": [
      "SHD_CPDAG = 17.000000\n",
      "SHD = 18.000000\n"
     ]
    },
    {
     "name": "stdout",
     "output_type": "stream",
     "text": [
      "SID_CPDAG = [80.000000, 80.000000]\n"
     ]
    },
    {
     "name": "stdout",
     "output_type": "stream",
     "text": [
      "SID = 80.000000\n",
      "***********************************************************\n",
      "Method: PC\n"
     ]
    },
    {
     "name": "stdout",
     "output_type": "stream",
     "text": [
      "SHD_CPDAG = 29.000000\n",
      "SHD = 27.000000\n"
     ]
    },
    {
     "name": "stdout",
     "output_type": "stream",
     "text": [
      "SID_CPDAG = [82.000000, 82.000000]\n"
     ]
    },
    {
     "name": "stdout",
     "output_type": "stream",
     "text": [
      "SID = 82.000000\n",
      "***********************************************************\n",
      "Method: GES\n"
     ]
    },
    {
     "name": "stdout",
     "output_type": "stream",
     "text": [
      "SHD_CPDAG = 34.000000\n",
      "SHD = 31.000000\n"
     ]
    },
    {
     "name": "stdout",
     "output_type": "stream",
     "text": [
      "SID_CPDAG = [82.000000, 88.000000]\n"
     ]
    },
    {
     "name": "stdout",
     "output_type": "stream",
     "text": [
      "SID = 91.000000\n"
     ]
    }
   ],
   "source": [
    "from cdt.metrics import SHD, SHD_CPDAG, SID, SID_CPDAG\n",
    "from numpy.random import randint\n",
    "\n",
    "for method, graph in graphs_nx.items():\n",
    "    print(\"***********************************************************\")\n",
    "    print(\"Method: %s\"%(method))\n",
    "    tar, pred = graph_sachs, graph\n",
    "    print(\"SHD_CPDAG = %f\"%(SHD_CPDAG(tar, pred)))\n",
    "    print(\"SHD = %f\"%(SHD(tar, pred, double_for_anticausal=False)))\n",
    "    print(\"SID_CPDAG = [%f, %f]\"%(SID_CPDAG(tar, pred)))\n",
    "    print(\"SID = %f\"%(SID(tar, pred)))"
   ]
  },
  {
   "cell_type": "markdown",
   "metadata": {},
   "source": [
    "The graph similarity metrics show that the scores are the lowest for the LiNGAM method of graph extraction. Hence, of the three methods used, LiNGAM provides the graph that is most similar to the original graph."
   ]
  },
  {
   "cell_type": "markdown",
   "metadata": {},
   "source": [
    "## Graph Refutation\n",
    "\n",
    "Here, we use the same SHD and SID metric to find out how different the discovered graph are from each other."
   ]
  },
  {
   "cell_type": "code",
   "execution_count": 11,
   "metadata": {
    "execution": {
     "iopub.execute_input": "2022-03-20T14:42:41.827206Z",
     "iopub.status.busy": "2022-03-20T14:42:41.826197Z",
     "iopub.status.idle": "2022-03-20T14:43:07.025800Z",
     "shell.execute_reply": "2022-03-20T14:43:07.025276Z"
    }
   },
   "outputs": [
    {
     "name": "stdout",
     "output_type": "stream",
     "text": [
      "***********************************************************\n",
      "Methods: LiNGAM and PC\n"
     ]
    },
    {
     "name": "stdout",
     "output_type": "stream",
     "text": [
      "SHD_CPDAG = 25.000000\n",
      "SHD = 24.000000\n"
     ]
    },
    {
     "name": "stdout",
     "output_type": "stream",
     "text": [
      "SID_CPDAG = [13.000000, 13.000000]\n"
     ]
    },
    {
     "name": "stdout",
     "output_type": "stream",
     "text": [
      "SID = 13.000000\n",
      "***********************************************************\n",
      "Methods: LiNGAM and GES\n"
     ]
    },
    {
     "name": "stdout",
     "output_type": "stream",
     "text": [
      "SHD_CPDAG = 33.000000\n",
      "SHD = 33.000000\n"
     ]
    },
    {
     "name": "stdout",
     "output_type": "stream",
     "text": [
      "SID_CPDAG = [10.000000, 13.000000]\n"
     ]
    },
    {
     "name": "stdout",
     "output_type": "stream",
     "text": [
      "SID = 13.000000\n",
      "***********************************************************\n",
      "Methods: PC and GES\n"
     ]
    },
    {
     "name": "stdout",
     "output_type": "stream",
     "text": [
      "SHD_CPDAG = 22.000000\n",
      "SHD = 22.000000\n"
     ]
    },
    {
     "name": "stdout",
     "output_type": "stream",
     "text": [
      "SID_CPDAG = [70.000000, 78.000000]\n"
     ]
    },
    {
     "name": "stdout",
     "output_type": "stream",
     "text": [
      "SID = 78.000000\n"
     ]
    }
   ],
   "source": [
    "import itertools\n",
    "from numpy.random import randint\n",
    "from cdt.metrics import SHD, SHD_CPDAG, SID, SID_CPDAG\n",
    "\n",
    "# Find combinations of pair of methods to compare\n",
    "combinations = list(itertools.combinations(graphs_nx, 2))\n",
    "\n",
    "for pair in combinations:\n",
    "    print(\"***********************************************************\")\n",
    "    graph1 = graphs_nx[pair[0]]\n",
    "    graph2 = graphs_nx[pair[1]]\n",
    "    print(\"Methods: %s and %s\"%(pair[0], pair[1]))\n",
    "    print(\"SHD_CPDAG = %f\"%(SHD_CPDAG(graph1, graph2)))\n",
    "    print(\"SHD = %f\"%(SHD(graph1, graph2, double_for_anticausal=False)))\n",
    "    print(\"SID_CPDAG = [%f, %f]\"%(SID_CPDAG(graph1, graph2)))\n",
    "    print(\"SID = %f\"%(SID(graph1, graph2)))"
   ]
  },
  {
   "cell_type": "markdown",
   "metadata": {},
   "source": [
    "The values for the metrics show how different the graphs are from each other. A higher distance value implies that the difference between the graphs is more."
   ]
  },
  {
   "cell_type": "code",
   "execution_count": null,
   "metadata": {},
   "outputs": [],
   "source": []
  }
 ],
 "metadata": {
  "kernelspec": {
   "display_name": "Python 3 (ipykernel)",
   "language": "python",
   "name": "python3"
  },
  "language_info": {
   "codemirror_mode": {
    "name": "ipython",
    "version": 3
   },
   "file_extension": ".py",
   "mimetype": "text/x-python",
   "name": "python",
   "nbconvert_exporter": "python",
   "pygments_lexer": "ipython3",
   "version": "3.8.12"
  },
  "metadata": {
   "interpreter": {
    "hash": "31f2aee4e71d21fbe5cf8b01ff0e069b9275f58929596ceb00d14d90e3e16cd6"
   }
  },
  "toc": {
   "base_numbering": 1,
   "nav_menu": {},
   "number_sections": false,
   "sideBar": true,
   "skip_h1_title": true,
   "title_cell": "Table of Contents",
   "title_sidebar": "Contents",
   "toc_cell": false,
   "toc_position": {},
   "toc_section_display": true,
   "toc_window_display": false
  }
 },
 "nbformat": 4,
 "nbformat_minor": 2
}
