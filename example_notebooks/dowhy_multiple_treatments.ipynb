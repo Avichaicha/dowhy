{
 "cells": [
  {
   "cell_type": "markdown",
   "metadata": {},
   "source": [
    "# Estimating effect of multiple treatments"
   ]
  },
  {
   "cell_type": "code",
   "execution_count": 1,
   "metadata": {
    "execution": {
     "iopub.execute_input": "2022-03-02T04:45:29.610134Z",
     "iopub.status.busy": "2022-03-02T04:45:29.608825Z",
     "iopub.status.idle": "2022-03-02T04:45:31.594157Z",
     "shell.execute_reply": "2022-03-02T04:45:31.595112Z"
    }
   },
   "outputs": [],
   "source": [
    "import numpy as np\n",
    "import pandas as pd\n",
    "import logging\n",
    "\n",
    "import dowhy\n",
    "from dowhy import CausalModel\n",
    "import dowhy.datasets\n",
    "\n",
    "import econml\n",
    "import warnings\n",
    "warnings.filterwarnings('ignore')"
   ]
  },
  {
   "cell_type": "code",
   "execution_count": 2,
   "metadata": {
    "execution": {
     "iopub.execute_input": "2022-03-02T04:45:31.603002Z",
     "iopub.status.busy": "2022-03-02T04:45:31.601771Z",
     "iopub.status.idle": "2022-03-02T04:45:31.677327Z",
     "shell.execute_reply": "2022-03-02T04:45:31.678192Z"
    }
   },
   "outputs": [
    {
     "data": {
      "text/html": [
       "<div>\n",
       "<style scoped>\n",
       "    .dataframe tbody tr th:only-of-type {\n",
       "        vertical-align: middle;\n",
       "    }\n",
       "\n",
       "    .dataframe tbody tr th {\n",
       "        vertical-align: top;\n",
       "    }\n",
       "\n",
       "    .dataframe thead th {\n",
       "        text-align: right;\n",
       "    }\n",
       "</style>\n",
       "<table border=\"1\" class=\"dataframe\">\n",
       "  <thead>\n",
       "    <tr style=\"text-align: right;\">\n",
       "      <th></th>\n",
       "      <th>X0</th>\n",
       "      <th>X1</th>\n",
       "      <th>W0</th>\n",
       "      <th>W1</th>\n",
       "      <th>W2</th>\n",
       "      <th>W3</th>\n",
       "      <th>v0</th>\n",
       "      <th>v1</th>\n",
       "      <th>y</th>\n",
       "    </tr>\n",
       "  </thead>\n",
       "  <tbody>\n",
       "    <tr>\n",
       "      <th>0</th>\n",
       "      <td>0.527294</td>\n",
       "      <td>1.049505</td>\n",
       "      <td>0.834764</td>\n",
       "      <td>2.271138</td>\n",
       "      <td>3</td>\n",
       "      <td>2</td>\n",
       "      <td>24.175754</td>\n",
       "      <td>25.905022</td>\n",
       "      <td>2629.588350</td>\n",
       "    </tr>\n",
       "    <tr>\n",
       "      <th>1</th>\n",
       "      <td>-0.079852</td>\n",
       "      <td>1.892886</td>\n",
       "      <td>0.857098</td>\n",
       "      <td>-0.037082</td>\n",
       "      <td>2</td>\n",
       "      <td>1</td>\n",
       "      <td>13.538234</td>\n",
       "      <td>17.230472</td>\n",
       "      <td>1430.289811</td>\n",
       "    </tr>\n",
       "    <tr>\n",
       "      <th>2</th>\n",
       "      <td>0.094484</td>\n",
       "      <td>0.123848</td>\n",
       "      <td>-0.000933</td>\n",
       "      <td>-0.811917</td>\n",
       "      <td>1</td>\n",
       "      <td>1</td>\n",
       "      <td>4.056247</td>\n",
       "      <td>10.638289</td>\n",
       "      <td>168.876762</td>\n",
       "    </tr>\n",
       "    <tr>\n",
       "      <th>3</th>\n",
       "      <td>0.992897</td>\n",
       "      <td>-0.157136</td>\n",
       "      <td>0.000098</td>\n",
       "      <td>1.117635</td>\n",
       "      <td>1</td>\n",
       "      <td>0</td>\n",
       "      <td>6.156066</td>\n",
       "      <td>6.980156</td>\n",
       "      <td>175.670471</td>\n",
       "    </tr>\n",
       "    <tr>\n",
       "      <th>4</th>\n",
       "      <td>1.137194</td>\n",
       "      <td>-0.568269</td>\n",
       "      <td>0.537126</td>\n",
       "      <td>0.221259</td>\n",
       "      <td>2</td>\n",
       "      <td>1</td>\n",
       "      <td>13.896535</td>\n",
       "      <td>15.855084</td>\n",
       "      <td>306.401569</td>\n",
       "    </tr>\n",
       "  </tbody>\n",
       "</table>\n",
       "</div>"
      ],
      "text/plain": [
       "         X0        X1        W0        W1 W2 W3         v0         v1  \\\n",
       "0  0.527294  1.049505  0.834764  2.271138  3  2  24.175754  25.905022   \n",
       "1 -0.079852  1.892886  0.857098 -0.037082  2  1  13.538234  17.230472   \n",
       "2  0.094484  0.123848 -0.000933 -0.811917  1  1   4.056247  10.638289   \n",
       "3  0.992897 -0.157136  0.000098  1.117635  1  0   6.156066   6.980156   \n",
       "4  1.137194 -0.568269  0.537126  0.221259  2  1  13.896535  15.855084   \n",
       "\n",
       "             y  \n",
       "0  2629.588350  \n",
       "1  1430.289811  \n",
       "2   168.876762  \n",
       "3   175.670471  \n",
       "4   306.401569  "
      ]
     },
     "execution_count": 2,
     "metadata": {},
     "output_type": "execute_result"
    }
   ],
   "source": [
    "data = dowhy.datasets.linear_dataset(10, num_common_causes=4, num_samples=10000,\n",
    "                                    num_instruments=0, num_effect_modifiers=2,\n",
    "                                     num_treatments=2,\n",
    "                                    treatment_is_binary=False,\n",
    "                                    num_discrete_common_causes=2,\n",
    "                                    num_discrete_effect_modifiers=0,\n",
    "                                    one_hot_encode=False)\n",
    "df=data['df']\n",
    "df.head()"
   ]
  },
  {
   "cell_type": "code",
   "execution_count": 3,
   "metadata": {
    "execution": {
     "iopub.execute_input": "2022-03-02T04:45:31.691742Z",
     "iopub.status.busy": "2022-03-02T04:45:31.690768Z",
     "iopub.status.idle": "2022-03-02T04:45:31.693558Z",
     "shell.execute_reply": "2022-03-02T04:45:31.694348Z"
    }
   },
   "outputs": [],
   "source": [
    "model = CausalModel(data=data[\"df\"], \n",
    "                    treatment=data[\"treatment_name\"], outcome=data[\"outcome_name\"], \n",
    "                    graph=data[\"gml_graph\"])"
   ]
  },
  {
   "cell_type": "code",
   "execution_count": 4,
   "metadata": {
    "execution": {
     "iopub.execute_input": "2022-03-02T04:45:31.701660Z",
     "iopub.status.busy": "2022-03-02T04:45:31.700382Z",
     "iopub.status.idle": "2022-03-02T04:45:31.900098Z",
     "shell.execute_reply": "2022-03-02T04:45:31.898852Z"
    }
   },
   "outputs": [
    {
     "data": {
      "image/png": "[encoded data removed]",
      "text/plain": [
       "<IPython.core.display.Image object>"
      ]
     },
     "metadata": {},
     "output_type": "display_data"
    }
   ],
   "source": [
    "model.view_model()\n",
    "from IPython.display import Image, display\n",
    "display(Image(filename=\"causal_model.png\"))"
   ]
  },
  {
   "cell_type": "code",
   "execution_count": 5,
   "metadata": {
    "execution": {
     "iopub.execute_input": "2022-03-02T04:45:31.922886Z",
     "iopub.status.busy": "2022-03-02T04:45:31.922206Z",
     "iopub.status.idle": "2022-03-02T04:45:31.926449Z",
     "shell.execute_reply": "2022-03-02T04:45:31.927011Z"
    }
   },
   "outputs": [
    {
     "name": "stdout",
     "output_type": "stream",
     "text": [
      "Estimand type: nonparametric-ate\n",
      "\n",
      "### Estimand : 1\n",
      "Estimand name: backdoor\n",
      "Estimand expression:\n",
      "    d                                \n",
      "─────────(Expectation(y|W1,W3,W0,W2))\n",
      "d[v₀  v₁]                            \n",
      "Estimand assumption 1, Unconfoundedness: If U→{v0,v1} and U→y then P(y|v0,v1,W1,W3,W0,W2,U) = P(y|v0,v1,W1,W3,W0,W2)\n",
      "\n",
      "### Estimand : 2\n",
      "Estimand name: iv\n",
      "No such variable(s) found!\n",
      "\n",
      "### Estimand : 3\n",
      "Estimand name: frontdoor\n",
      "No such variable(s) found!\n",
      "\n"
     ]
    }
   ],
   "source": [
    "identified_estimand= model.identify_effect(proceed_when_unidentifiable=True)\n",
    "print(identified_estimand)"
   ]
  },
  {
   "cell_type": "markdown",
   "metadata": {},
   "source": [
    "## Linear model\n",
    "\n",
    "Let us first see an example for a linear model. The control_value and treatment_value can be provided as a tuple/list when the treatment is multi-dimensional.\n",
    "\n",
    "The interpretation is change in y when v0 and v1 are changed from (0,0) to (1,1)."
   ]
  },
  {
   "cell_type": "code",
   "execution_count": 6,
   "metadata": {
    "execution": {
     "iopub.execute_input": "2022-03-02T04:45:31.932791Z",
     "iopub.status.busy": "2022-03-02T04:45:31.932078Z",
     "iopub.status.idle": "2022-03-02T04:45:32.520390Z",
     "shell.execute_reply": "2022-03-02T04:45:32.521375Z"
    }
   },
   "outputs": [
    {
     "name": "stdout",
     "output_type": "stream",
     "text": [
      "*** Causal Estimate ***\n",
      "\n",
      "## Identified estimand\n",
      "Estimand type: nonparametric-ate\n",
      "\n",
      "### Estimand : 1\n",
      "Estimand name: backdoor\n",
      "Estimand expression:\n",
      "    d                                \n",
      "─────────(Expectation(y|W1,W3,W0,W2))\n",
      "d[v₀  v₁]                            \n",
      "Estimand assumption 1, Unconfoundedness: If U→{v0,v1} and U→y then P(y|v0,v1,W1,W3,W0,W2,U) = P(y|v0,v1,W1,W3,W0,W2)\n",
      "\n",
      "## Realized estimand\n",
      "b: y~v0+v1+W1+W3+W0+W2+v0*X0+v0*X1+v1*X0+v1*X1\n",
      "Target units: ate\n",
      "\n",
      "## Estimate\n",
      "Mean value: 98.3539533996165\n",
      "\n"
     ]
    }
   ],
   "source": [
    "linear_estimate = model.estimate_effect(identified_estimand, \n",
    "                                        method_name=\"backdoor.linear_regression\",\n",
    "                                       control_value=(0,0),\n",
    "                                       treatment_value=(1,1),\n",
    "                                       method_params={'need_conditional_estimates': False})\n",
    "print(linear_estimate) "
   ]
  },
  {
   "cell_type": "markdown",
   "metadata": {},
   "source": [
    "You can estimate conditional effects, based on effect modifiers. "
   ]
  },
  {
   "cell_type": "code",
   "execution_count": 7,
   "metadata": {
    "execution": {
     "iopub.execute_input": "2022-03-02T04:45:32.545498Z",
     "iopub.status.busy": "2022-03-02T04:45:32.540372Z",
     "iopub.status.idle": "2022-03-02T04:45:33.504385Z",
     "shell.execute_reply": "2022-03-02T04:45:33.503835Z"
    }
   },
   "outputs": [
    {
     "name": "stdout",
     "output_type": "stream",
     "text": [
      "*** Causal Estimate ***\n",
      "\n",
      "## Identified estimand\n",
      "Estimand type: nonparametric-ate\n",
      "\n",
      "### Estimand : 1\n",
      "Estimand name: backdoor\n",
      "Estimand expression:\n",
      "    d                                \n",
      "─────────(Expectation(y|W1,W3,W0,W2))\n",
      "d[v₀  v₁]                            \n",
      "Estimand assumption 1, Unconfoundedness: If U→{v0,v1} and U→y then P(y|v0,v1,W1,W3,W0,W2,U) = P(y|v0,v1,W1,W3,W0,W2)\n",
      "\n",
      "## Realized estimand\n",
      "b: y~v0+v1+W1+W3+W0+W2+v0*X0+v0*X1+v1*X0+v1*X1\n",
      "Target units: ate\n",
      "\n",
      "## Estimate\n",
      "Mean value: 98.3539533996165\n",
      "### Conditional Estimates\n",
      "__categorical__X0  __categorical__X1\n",
      "(-3.046, -0.372]   (-3.332, 0.1]         -8.960431\n",
      "                   (0.1, 0.682]          33.722133\n",
      "                   (0.682, 1.187]        61.147061\n",
      "                   (1.187, 1.78]         88.617238\n",
      "                   (1.78, 5.006]        132.490681\n",
      "(-0.372, 0.221]    (-3.332, 0.1]         10.706379\n",
      "                   (0.1, 0.682]          55.804364\n",
      "                   (0.682, 1.187]        84.003908\n",
      "                   (1.187, 1.78]        110.996392\n",
      "                   (1.78, 5.006]        154.212744\n",
      "(0.221, 0.733]     (-3.332, 0.1]         24.975711\n",
      "                   (0.1, 0.682]          70.723248\n",
      "                   (0.682, 1.187]        98.192611\n",
      "                   (1.187, 1.78]        126.224640\n",
      "                   (1.78, 5.006]        171.817935\n",
      "(0.733, 1.321]     (-3.332, 0.1]         41.196616\n",
      "                   (0.1, 0.682]          85.072065\n",
      "                   (0.682, 1.187]       112.577092\n",
      "                   (1.187, 1.78]        140.447254\n",
      "                   (1.78, 5.006]        184.126519\n",
      "(1.321, 4.803]     (-3.332, 0.1]         62.954621\n",
      "                   (0.1, 0.682]         108.866094\n",
      "                   (0.682, 1.187]       135.968070\n",
      "                   (1.187, 1.78]        163.399410\n",
      "                   (1.78, 5.006]        209.511938\n",
      "dtype: float64\n"
     ]
    }
   ],
   "source": [
    "linear_estimate = model.estimate_effect(identified_estimand, \n",
    "                                        method_name=\"backdoor.linear_regression\",\n",
    "                                       control_value=(0,0),\n",
    "                                       treatment_value=(1,1))\n",
    "print(linear_estimate) "
   ]
  },
  {
   "cell_type": "markdown",
   "metadata": {},
   "source": [
    "## More methods\n",
    "\n",
    "You can also use methods from EconML or CausalML libraries that support multiple treatments. You can look at examples from the conditional effect notebook: https://microsoft.github.io/dowhy/example_notebooks/dowhy-conditional-treatment-effects.html\n",
    "\n",
    "Propensity-based methods do not support multiple treatments currently. \n"
   ]
  }
 ],
 "metadata": {
  "kernelspec": {
   "display_name": "Python 3",
   "language": "python",
   "name": "python3"
  },
  "language_info": {
   "codemirror_mode": {
    "name": "ipython",
    "version": 3
   },
   "file_extension": ".py",
   "mimetype": "text/x-python",
   "name": "python",
   "nbconvert_exporter": "python",
   "pygments_lexer": "ipython3",
   "version": "3.8.12"
  },
  "toc": {
   "base_numbering": 1,
   "nav_menu": {},
   "number_sections": false,
   "sideBar": true,
   "skip_h1_title": true,
   "title_cell": "Table of Contents",
   "title_sidebar": "Contents",
   "toc_cell": false,
   "toc_position": {},
   "toc_section_display": true,
   "toc_window_display": false
  }
 },
 "nbformat": 4,
 "nbformat_minor": 4
}
