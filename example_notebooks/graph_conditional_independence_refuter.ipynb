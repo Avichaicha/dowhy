{
 "cells": [
  {
   "cell_type": "markdown",
   "metadata": {},
   "source": [
    "# Testing Assumptions in model with DoWhy: A simple example\n",
    "This is a quick introduction to how we can test if our assumed graph is correct and the assumptions match with the dataset.\n",
    "We do so by checking the conditional independences in the graph and see if they hold true for the data as well. Currently we are using partial correlation to do that. \n",
    "\n",
    "First, let us load all required packages."
   ]
  },
  {
   "cell_type": "code",
   "execution_count": 1,
   "metadata": {
    "execution": {
     "iopub.execute_input": "2022-03-02T05:28:12.177952Z",
     "iopub.status.busy": "2022-03-02T05:28:12.176516Z",
     "iopub.status.idle": "2022-03-02T05:28:12.222411Z",
     "shell.execute_reply": "2022-03-02T05:28:12.221605Z"
    }
   },
   "outputs": [],
   "source": [
    "%load_ext autoreload\n",
    "%autoreload 2"
   ]
  },
  {
   "cell_type": "code",
   "execution_count": 2,
   "metadata": {
    "execution": {
     "iopub.execute_input": "2022-03-02T05:28:12.229253Z",
     "iopub.status.busy": "2022-03-02T05:28:12.228044Z",
     "iopub.status.idle": "2022-03-02T05:28:25.125913Z",
     "shell.execute_reply": "2022-03-02T05:28:25.125234Z"
    }
   },
   "outputs": [],
   "source": [
    "import numpy as np\n",
    "import pandas as pd\n",
    "import os, sys\n",
    "sys.path.append(os.path.abspath(\"../../../\"))\n",
    "import dowhy\n",
    "from dowhy import CausalModel\n",
    "import dowhy.datasets "
   ]
  },
  {
   "cell_type": "markdown",
   "metadata": {},
   "source": [
    "## Step 1: Load dataset"
   ]
  },
  {
   "cell_type": "code",
   "execution_count": 3,
   "metadata": {
    "execution": {
     "iopub.execute_input": "2022-03-02T05:28:25.133644Z",
     "iopub.status.busy": "2022-03-02T05:28:25.132439Z",
     "iopub.status.idle": "2022-03-02T05:28:25.551025Z",
     "shell.execute_reply": "2022-03-02T05:28:25.551978Z"
    }
   },
   "outputs": [
    {
     "data": {
      "text/html": [
       "<div>\n",
       "<style scoped>\n",
       "    .dataframe tbody tr th:only-of-type {\n",
       "        vertical-align: middle;\n",
       "    }\n",
       "\n",
       "    .dataframe tbody tr th {\n",
       "        vertical-align: top;\n",
       "    }\n",
       "\n",
       "    .dataframe thead th {\n",
       "        text-align: right;\n",
       "    }\n",
       "</style>\n",
       "<table border=\"1\" class=\"dataframe\">\n",
       "  <thead>\n",
       "    <tr style=\"text-align: right;\">\n",
       "      <th></th>\n",
       "      <th>X0</th>\n",
       "      <th>Z0</th>\n",
       "      <th>Z1</th>\n",
       "      <th>W0</th>\n",
       "      <th>W1</th>\n",
       "      <th>W2</th>\n",
       "      <th>W3</th>\n",
       "      <th>W4</th>\n",
       "      <th>v0</th>\n",
       "      <th>y</th>\n",
       "    </tr>\n",
       "  </thead>\n",
       "  <tbody>\n",
       "    <tr>\n",
       "      <th>0</th>\n",
       "      <td>-1.614714</td>\n",
       "      <td>0.0</td>\n",
       "      <td>0.670102</td>\n",
       "      <td>-0.285415</td>\n",
       "      <td>2.353672</td>\n",
       "      <td>0.839046</td>\n",
       "      <td>1.321677</td>\n",
       "      <td>0</td>\n",
       "      <td>True</td>\n",
       "      <td>26.645992</td>\n",
       "    </tr>\n",
       "    <tr>\n",
       "      <th>1</th>\n",
       "      <td>-1.107990</td>\n",
       "      <td>0.0</td>\n",
       "      <td>0.451512</td>\n",
       "      <td>-1.283712</td>\n",
       "      <td>-0.808634</td>\n",
       "      <td>1.920393</td>\n",
       "      <td>0.812835</td>\n",
       "      <td>3</td>\n",
       "      <td>True</td>\n",
       "      <td>18.622764</td>\n",
       "    </tr>\n",
       "    <tr>\n",
       "      <th>2</th>\n",
       "      <td>0.478802</td>\n",
       "      <td>0.0</td>\n",
       "      <td>0.180037</td>\n",
       "      <td>-1.428622</td>\n",
       "      <td>0.540832</td>\n",
       "      <td>1.754006</td>\n",
       "      <td>1.967819</td>\n",
       "      <td>0</td>\n",
       "      <td>True</td>\n",
       "      <td>26.051047</td>\n",
       "    </tr>\n",
       "    <tr>\n",
       "      <th>3</th>\n",
       "      <td>-1.690426</td>\n",
       "      <td>0.0</td>\n",
       "      <td>0.081600</td>\n",
       "      <td>-0.819202</td>\n",
       "      <td>-0.646040</td>\n",
       "      <td>-0.332039</td>\n",
       "      <td>0.760431</td>\n",
       "      <td>3</td>\n",
       "      <td>False</td>\n",
       "      <td>2.358555</td>\n",
       "    </tr>\n",
       "    <tr>\n",
       "      <th>4</th>\n",
       "      <td>-0.720739</td>\n",
       "      <td>0.0</td>\n",
       "      <td>0.448382</td>\n",
       "      <td>0.381812</td>\n",
       "      <td>0.541719</td>\n",
       "      <td>0.856264</td>\n",
       "      <td>-0.991769</td>\n",
       "      <td>2</td>\n",
       "      <td>True</td>\n",
       "      <td>14.905391</td>\n",
       "    </tr>\n",
       "  </tbody>\n",
       "</table>\n",
       "</div>"
      ],
      "text/plain": [
       "         X0   Z0        Z1        W0        W1        W2        W3 W4     v0  \\\n",
       "0 -1.614714  0.0  0.670102 -0.285415  2.353672  0.839046  1.321677  0   True   \n",
       "1 -1.107990  0.0  0.451512 -1.283712 -0.808634  1.920393  0.812835  3   True   \n",
       "2  0.478802  0.0  0.180037 -1.428622  0.540832  1.754006  1.967819  0   True   \n",
       "3 -1.690426  0.0  0.081600 -0.819202 -0.646040 -0.332039  0.760431  3  False   \n",
       "4 -0.720739  0.0  0.448382  0.381812  0.541719  0.856264 -0.991769  2   True   \n",
       "\n",
       "           y  \n",
       "0  26.645992  \n",
       "1  18.622764  \n",
       "2  26.051047  \n",
       "3   2.358555  \n",
       "4  14.905391  "
      ]
     },
     "execution_count": 3,
     "metadata": {},
     "output_type": "execute_result"
    }
   ],
   "source": [
    "data = dowhy.datasets.linear_dataset(beta=10,\n",
    "        num_common_causes=5,\n",
    "        num_instruments = 2,\n",
    "        num_effect_modifiers=1,\n",
    "        num_samples=5000, \n",
    "        treatment_is_binary=True,\n",
    "        stddev_treatment_noise=10,\n",
    "        num_discrete_common_causes=1)\n",
    "\n",
    "df = data[\"df\"] #Insert dataset here\n",
    "df.head()"
   ]
  },
  {
   "cell_type": "markdown",
   "metadata": {},
   "source": [
    "Note that we are using a pandas dataframe to load the data. At present, DoWhy only supports pandas dataframe as input."
   ]
  },
  {
   "cell_type": "markdown",
   "metadata": {},
   "source": [
    "## Step 2: Input causal graph"
   ]
  },
  {
   "cell_type": "markdown",
   "metadata": {},
   "source": [
    "We now input a causal graph. You can do that in the GML graph format (recommended), DOT format or the output from daggity -\n",
    "To create the causal graph for your dataset, you can use a tool like [DAGitty](http://dagitty.net/dags.html#) that provides a GUI to construct the graph. You can export the graph string that it generates."
   ]
  },
  {
   "cell_type": "code",
   "execution_count": 4,
   "metadata": {
    "execution": {
     "iopub.execute_input": "2022-03-02T05:28:25.560397Z",
     "iopub.status.busy": "2022-03-02T05:28:25.559004Z",
     "iopub.status.idle": "2022-03-02T05:28:25.622854Z",
     "shell.execute_reply": "2022-03-02T05:28:25.623365Z"
    }
   },
   "outputs": [],
   "source": [
    "graph_string = \"\"\"dag {\n",
    "        W0 [pos=\"-2.200,-1.520\"]\n",
    "        W1 [pos=\"-1.457,-1.533\"]\n",
    "        W2 [pos=\"-0.763,-1.547\"]\n",
    "        W3 [pos=\"1.041,-1.587\"]\n",
    "        W4 [pos=\"1.510,-1.560\"]\n",
    "        X0 [pos=\"1.222,-0.625\"]\n",
    "        Z0 [pos=\"0.390,-1.601\"]\n",
    "        Z1 [pos=\"-0.176,-1.540\"]\n",
    "        v0 [pos=\"-0.219,-0.881\"]\n",
    "        y [pos=\"-0.144,-0.296\"]\n",
    "        W0 -> v0\n",
    "        W0 -> y\n",
    "        W1 -> v0\n",
    "        W1 -> y\n",
    "        W2 -> v0\n",
    "        W2 -> y\n",
    "        W3 -> v0\n",
    "        W3 -> y\n",
    "        W4 -> v0\n",
    "        W4 -> y\n",
    "        X0 -> y\n",
    "        Z0 -> v0\n",
    "        Z1 -> v0\n",
    "        v0 -> y\n",
    "        }\"\"\""
   ]
  },
  {
   "cell_type": "markdown",
   "metadata": {},
   "source": [
    "## Step 3: Create Causal Model"
   ]
  },
  {
   "cell_type": "code",
   "execution_count": 5,
   "metadata": {
    "execution": {
     "iopub.execute_input": "2022-03-02T05:28:25.629574Z",
     "iopub.status.busy": "2022-03-02T05:28:25.628419Z",
     "iopub.status.idle": "2022-03-02T05:28:25.793653Z",
     "shell.execute_reply": "2022-03-02T05:28:25.792628Z"
    }
   },
   "outputs": [],
   "source": [
    "model=CausalModel(\n",
    "        data = df,\n",
    "        treatment=data[\"treatment_name\"],\n",
    "        outcome=data[\"outcome_name\"],\n",
    "        graph=graph_string\n",
    "        )"
   ]
  },
  {
   "cell_type": "code",
   "execution_count": 6,
   "metadata": {
    "execution": {
     "iopub.execute_input": "2022-03-02T05:28:25.798844Z",
     "iopub.status.busy": "2022-03-02T05:28:25.798259Z",
     "iopub.status.idle": "2022-03-02T05:28:27.279600Z",
     "shell.execute_reply": "2022-03-02T05:28:27.280551Z"
    }
   },
   "outputs": [],
   "source": [
    "model.view_model()"
   ]
  },
  {
   "cell_type": "code",
   "execution_count": 7,
   "metadata": {
    "execution": {
     "iopub.execute_input": "2022-03-02T05:28:27.287564Z",
     "iopub.status.busy": "2022-03-02T05:28:27.286876Z",
     "iopub.status.idle": "2022-03-02T05:28:27.349090Z",
     "shell.execute_reply": "2022-03-02T05:28:27.347862Z"
    },
    "scrolled": true
   },
   "outputs": [
    {
     "data": {
      "image/png": "[encoded data removed]",
      "text/plain": [
       "<IPython.core.display.Image object>"
      ]
     },
     "metadata": {},
     "output_type": "display_data"
    }
   ],
   "source": [
    "from IPython.display import Image, display\n",
    "display(Image(filename=\"causal_model.png\"))"
   ]
  },
  {
   "cell_type": "markdown",
   "metadata": {},
   "source": [
    "## Step 4: Testing for Conditional Independence\n",
    "We can check if the assumptions of the graph hold true for the data using model.refute_graph(k, method_name,independence_constraints) \n",
    "We are testing X ⫫ Y | Z where X and Y are singular sets and Z can have k number of variables. \n",
    "Currently we are using \"partial_correlation\" method by default and k value is 1 by default unless input."
   ]
  },
  {
   "cell_type": "code",
   "execution_count": 8,
   "metadata": {
    "execution": {
     "iopub.execute_input": "2022-03-02T05:28:27.355581Z",
     "iopub.status.busy": "2022-03-02T05:28:27.354420Z",
     "iopub.status.idle": "2022-03-02T05:28:29.141117Z",
     "shell.execute_reply": "2022-03-02T05:28:29.140640Z"
    }
   },
   "outputs": [],
   "source": [
    "refuter_object = model.refute_graph(k=2, method_name = \"partial_correlation\")  #Change k parameter to test conditional independence given different number of variables "
   ]
  },
  {
   "cell_type": "code",
   "execution_count": 9,
   "metadata": {
    "execution": {
     "iopub.execute_input": "2022-03-02T05:28:29.145894Z",
     "iopub.status.busy": "2022-03-02T05:28:29.145257Z",
     "iopub.status.idle": "2022-03-02T05:28:29.205334Z",
     "shell.execute_reply": "2022-03-02T05:28:29.206283Z"
    }
   },
   "outputs": [
    {
     "name": "stdout",
     "output_type": "stream",
     "text": [
      "Method name:partial_correlation\n",
      "Number of conditional independencies entailed by model:483\n",
      "Number of independences satisfied by data:396\n",
      "Test passed:False\n",
      "\n"
     ]
    }
   ],
   "source": [
    "print(refuter_object)"
   ]
  },
  {
   "cell_type": "markdown",
   "metadata": {},
   "source": [
    "### Testing for a set of edges\n",
    "We can also test a set of conditional independences whether they are true or not The input has to be in the form - <br>\n",
    "[( x1, y1, (z1, z2)), <br>\n",
    " ( x2, y2, (z3, z4)),<br>\n",
    " ( x3, y3, (z5,)),<br>\n",
    " ( x4, y4, ())<br>\n",
    " ]"
   ]
  },
  {
   "cell_type": "code",
   "execution_count": 10,
   "metadata": {
    "execution": {
     "iopub.execute_input": "2022-03-02T05:28:29.214945Z",
     "iopub.status.busy": "2022-03-02T05:28:29.213793Z",
     "iopub.status.idle": "2022-03-02T05:28:29.274335Z",
     "shell.execute_reply": "2022-03-02T05:28:29.273344Z"
    }
   },
   "outputs": [
    {
     "name": "stdout",
     "output_type": "stream",
     "text": [
      "Method name:partial_correlation\n",
      "Number of conditional independencies entailed by model:3\n",
      "Number of independences satisfied by data:3\n",
      "Test passed:True\n",
      "\n"
     ]
    }
   ],
   "source": [
    "print(model.refute_graph(method_name = \"partial_correlation\",independence_constraints = [('W3', 'Z0', ()), ('W0', 'Z0', ()),('W3', 'Z0', ('W1','W2',))]))"
   ]
  },
  {
   "cell_type": "markdown",
   "metadata": {},
   "source": [
    "## Testing with a wrong graph input"
   ]
  },
  {
   "cell_type": "code",
   "execution_count": 11,
   "metadata": {
    "execution": {
     "iopub.execute_input": "2022-03-02T05:28:29.279784Z",
     "iopub.status.busy": "2022-03-02T05:28:29.279183Z",
     "iopub.status.idle": "2022-03-02T05:28:29.342190Z",
     "shell.execute_reply": "2022-03-02T05:28:29.342754Z"
    }
   },
   "outputs": [],
   "source": [
    "graph_string = \"\"\"dag {\n",
    "        W0 [pos=\"-2.200,-1.520\"]\n",
    "        W1 [pos=\"-1.457,-1.533\"]\n",
    "        W2 [pos=\"-0.763,-1.547\"]\n",
    "        W3 [pos=\"1.041,-1.587\"]\n",
    "        W4 [pos=\"1.510,-1.560\"]\n",
    "        X0 [pos=\"1.222,-0.625\"]\n",
    "        Z0 [pos=\"0.390,-1.601\"]\n",
    "        Z1 [pos=\"-0.176,-1.540\"]\n",
    "        v0 [pos=\"-0.219,-0.881\"]\n",
    "        y [pos=\"-0.144,-0.296\"]\n",
    "        W0 -> v0\n",
    "        W0 -> y\n",
    "        W1 -> v0\n",
    "        W1 -> y\n",
    "        W2 -> v0\n",
    "        W2 -> y\n",
    "        W3 -> v0\n",
    "        W3 -> y\n",
    "        W4 -> v0\n",
    "        X0 -> Z0\n",
    "        Z0 -> Z1\n",
    "        }\"\"\""
   ]
  },
  {
   "cell_type": "code",
   "execution_count": 12,
   "metadata": {
    "execution": {
     "iopub.execute_input": "2022-03-02T05:28:29.349474Z",
     "iopub.status.busy": "2022-03-02T05:28:29.348782Z",
     "iopub.status.idle": "2022-03-02T05:28:29.400253Z",
     "shell.execute_reply": "2022-03-02T05:28:29.401190Z"
    }
   },
   "outputs": [],
   "source": [
    "model = CausalModel(\n",
    "            data=df,\n",
    "            treatment=data[\"treatment_name\"],\n",
    "            outcome=data[\"outcome_name\"],\n",
    "            graph=graph_string,\n",
    "            proceed_when_unidentifiable=True,\n",
    "            test_significance=None\n",
    "        )"
   ]
  },
  {
   "cell_type": "code",
   "execution_count": 13,
   "metadata": {
    "execution": {
     "iopub.execute_input": "2022-03-02T05:28:29.407555Z",
     "iopub.status.busy": "2022-03-02T05:28:29.406405Z",
     "iopub.status.idle": "2022-03-02T05:28:29.592599Z",
     "shell.execute_reply": "2022-03-02T05:28:29.593498Z"
    }
   },
   "outputs": [],
   "source": [
    "model.view_model()"
   ]
  },
  {
   "cell_type": "code",
   "execution_count": 14,
   "metadata": {
    "execution": {
     "iopub.execute_input": "2022-03-02T05:28:29.600972Z",
     "iopub.status.busy": "2022-03-02T05:28:29.599782Z",
     "iopub.status.idle": "2022-03-02T05:28:29.669164Z",
     "shell.execute_reply": "2022-03-02T05:28:29.670120Z"
    }
   },
   "outputs": [
    {
     "data": {
      "image/png": "[encoded data removed]",
      "text/plain": [
       "<IPython.core.display.Image object>"
      ]
     },
     "metadata": {},
     "output_type": "display_data"
    }
   ],
   "source": [
    "from IPython.display import Image, display\n",
    "display(Image(filename=\"causal_model.png\"))"
   ]
  },
  {
   "cell_type": "code",
   "execution_count": 15,
   "metadata": {
    "execution": {
     "iopub.execute_input": "2022-03-02T05:28:29.677638Z",
     "iopub.status.busy": "2022-03-02T05:28:29.676474Z",
     "iopub.status.idle": "2022-03-02T05:28:30.515981Z",
     "shell.execute_reply": "2022-03-02T05:28:30.514682Z"
    }
   },
   "outputs": [],
   "source": [
    "refuter_object = model.refute_graph(k=1,method_name = \"partial_correlation\")"
   ]
  },
  {
   "cell_type": "markdown",
   "metadata": {},
   "source": [
    "We can see that since we input the wrong graph, many conditional independences were not met"
   ]
  },
  {
   "cell_type": "code",
   "execution_count": 16,
   "metadata": {
    "execution": {
     "iopub.execute_input": "2022-03-02T05:28:30.521781Z",
     "iopub.status.busy": "2022-03-02T05:28:30.520994Z",
     "iopub.status.idle": "2022-03-02T05:28:30.581476Z",
     "shell.execute_reply": "2022-03-02T05:28:30.582031Z"
    }
   },
   "outputs": [
    {
     "name": "stdout",
     "output_type": "stream",
     "text": [
      "Method name:partial_correlation\n",
      "Number of conditional independencies entailed by model:240\n",
      "Number of independences satisfied by data:152\n",
      "Test passed:False\n",
      "\n"
     ]
    }
   ],
   "source": [
    "print(refuter_object)"
   ]
  },
  {
   "cell_type": "code",
   "execution_count": null,
   "metadata": {},
   "outputs": [],
   "source": []
  }
 ],
 "metadata": {
  "kernelspec": {
   "display_name": "Python 3",
   "language": "python",
   "name": "python3"
  },
  "language_info": {
   "codemirror_mode": {
    "name": "ipython",
    "version": 3
   },
   "file_extension": ".py",
   "mimetype": "text/x-python",
   "name": "python",
   "nbconvert_exporter": "python",
   "pygments_lexer": "ipython3",
   "version": "3.8.12"
  },
  "toc": {
   "base_numbering": 1,
   "nav_menu": {},
   "number_sections": false,
   "sideBar": true,
   "skip_h1_title": true,
   "title_cell": "Table of Contents",
   "title_sidebar": "Contents",
   "toc_cell": false,
   "toc_position": {},
   "toc_section_display": true,
   "toc_window_display": false
  }
 },
 "nbformat": 4,
 "nbformat_minor": 4
}
