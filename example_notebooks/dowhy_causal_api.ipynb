{
 "cells": [
  {
   "cell_type": "markdown",
   "metadata": {},
   "source": [
    "# Demo for the DoWhy causal API\n",
    "We show a simple example of adding a causal extension to any dataframe. "
   ]
  },
  {
   "cell_type": "code",
   "execution_count": 1,
   "metadata": {
    "execution": {
     "iopub.execute_input": "2022-07-16T03:16:10.688706Z",
     "iopub.status.busy": "2022-07-16T03:16:10.687364Z",
     "iopub.status.idle": "2022-07-16T03:16:15.824494Z",
     "shell.execute_reply": "2022-07-16T03:16:15.825509Z"
    }
   },
   "outputs": [],
   "source": [
    "import dowhy.datasets\n",
    "import dowhy.api\n",
    "\n",
    "import numpy as np\n",
    "import pandas as pd\n",
    "\n",
    "from statsmodels.api import OLS"
   ]
  },
  {
   "cell_type": "code",
   "execution_count": 2,
   "metadata": {
    "execution": {
     "iopub.execute_input": "2022-07-16T03:16:15.865668Z",
     "iopub.status.busy": "2022-07-16T03:16:15.833519Z",
     "iopub.status.idle": "2022-07-16T03:16:15.926311Z",
     "shell.execute_reply": "2022-07-16T03:16:15.927360Z"
    }
   },
   "outputs": [
    {
     "data": {
      "text/html": [
       "<div>\n",
       "<style scoped>\n",
       "    .dataframe tbody tr th:only-of-type {\n",
       "        vertical-align: middle;\n",
       "    }\n",
       "\n",
       "    .dataframe tbody tr th {\n",
       "        vertical-align: top;\n",
       "    }\n",
       "\n",
       "    .dataframe thead th {\n",
       "        text-align: right;\n",
       "    }\n",
       "</style>\n",
       "<table border=\"1\" class=\"dataframe\">\n",
       "  <thead>\n",
       "    <tr style=\"text-align: right;\">\n",
       "      <th></th>\n",
       "      <th>W0</th>\n",
       "      <th>v0</th>\n",
       "      <th>y</th>\n",
       "    </tr>\n",
       "  </thead>\n",
       "  <tbody>\n",
       "    <tr>\n",
       "      <th>0</th>\n",
       "      <td>-0.258643</td>\n",
       "      <td>False</td>\n",
       "      <td>0.270686</td>\n",
       "    </tr>\n",
       "    <tr>\n",
       "      <th>1</th>\n",
       "      <td>0.454303</td>\n",
       "      <td>True</td>\n",
       "      <td>5.979422</td>\n",
       "    </tr>\n",
       "    <tr>\n",
       "      <th>2</th>\n",
       "      <td>-0.403510</td>\n",
       "      <td>False</td>\n",
       "      <td>0.232969</td>\n",
       "    </tr>\n",
       "    <tr>\n",
       "      <th>3</th>\n",
       "      <td>-0.374028</td>\n",
       "      <td>True</td>\n",
       "      <td>2.706533</td>\n",
       "    </tr>\n",
       "    <tr>\n",
       "      <th>4</th>\n",
       "      <td>0.922220</td>\n",
       "      <td>True</td>\n",
       "      <td>7.867688</td>\n",
       "    </tr>\n",
       "    <tr>\n",
       "      <th>...</th>\n",
       "      <td>...</td>\n",
       "      <td>...</td>\n",
       "      <td>...</td>\n",
       "    </tr>\n",
       "    <tr>\n",
       "      <th>995</th>\n",
       "      <td>-1.483949</td>\n",
       "      <td>False</td>\n",
       "      <td>-5.053757</td>\n",
       "    </tr>\n",
       "    <tr>\n",
       "      <th>996</th>\n",
       "      <td>-1.767764</td>\n",
       "      <td>False</td>\n",
       "      <td>-4.560044</td>\n",
       "    </tr>\n",
       "    <tr>\n",
       "      <th>997</th>\n",
       "      <td>-1.129240</td>\n",
       "      <td>False</td>\n",
       "      <td>-3.634375</td>\n",
       "    </tr>\n",
       "    <tr>\n",
       "      <th>998</th>\n",
       "      <td>-0.434160</td>\n",
       "      <td>False</td>\n",
       "      <td>-0.905667</td>\n",
       "    </tr>\n",
       "    <tr>\n",
       "      <th>999</th>\n",
       "      <td>0.360754</td>\n",
       "      <td>True</td>\n",
       "      <td>6.143928</td>\n",
       "    </tr>\n",
       "  </tbody>\n",
       "</table>\n",
       "<p>1000 rows × 3 columns</p>\n",
       "</div>"
      ],
      "text/plain": [
       "           W0     v0         y\n",
       "0   -0.258643  False  0.270686\n",
       "1    0.454303   True  5.979422\n",
       "2   -0.403510  False  0.232969\n",
       "3   -0.374028   True  2.706533\n",
       "4    0.922220   True  7.867688\n",
       "..        ...    ...       ...\n",
       "995 -1.483949  False -5.053757\n",
       "996 -1.767764  False -4.560044\n",
       "997 -1.129240  False -3.634375\n",
       "998 -0.434160  False -0.905667\n",
       "999  0.360754   True  6.143928\n",
       "\n",
       "[1000 rows x 3 columns]"
      ]
     },
     "execution_count": 2,
     "metadata": {},
     "output_type": "execute_result"
    }
   ],
   "source": [
    "data = dowhy.datasets.linear_dataset(beta=5,\n",
    "        num_common_causes=1,\n",
    "        num_instruments = 0,\n",
    "        num_samples=1000,\n",
    "        treatment_is_binary=True)\n",
    "df = data['df']\n",
    "df['y'] = df['y'] + np.random.normal(size=len(df)) # Adding noise to data. Without noise, the variance in Y|X, Z is zero, and mcmc fails.\n",
    "#data['dot_graph'] = 'digraph { v ->y;X0-> v;X0-> y;}'\n",
    "\n",
    "treatment= data[\"treatment_name\"][0]\n",
    "outcome = data[\"outcome_name\"][0]\n",
    "common_cause = data[\"common_causes_names\"][0]\n",
    "df"
   ]
  },
  {
   "cell_type": "code",
   "execution_count": 3,
   "metadata": {
    "execution": {
     "iopub.execute_input": "2022-07-16T03:16:15.935002Z",
     "iopub.status.busy": "2022-07-16T03:16:15.933685Z",
     "iopub.status.idle": "2022-07-16T03:16:19.266675Z",
     "shell.execute_reply": "2022-07-16T03:16:19.267741Z"
    }
   },
   "outputs": [
    {
     "data": {
      "text/plain": [
       "<AxesSubplot:xlabel='v0'>"
      ]
     },
     "execution_count": 3,
     "metadata": {},
     "output_type": "execute_result"
    },
    {
     "data": {
      "image/png": "[encoded data removed]",
      "text/plain": [
       "<Figure size 432x288 with 1 Axes>"
      ]
     },
     "metadata": {
      "needs_background": "light"
     },
     "output_type": "display_data"
    }
   ],
   "source": [
    "# data['df'] is just a regular pandas.DataFrame\n",
    "df.causal.do(x=treatment,\n",
    "                     variable_types={treatment: 'b', outcome: 'c', common_cause: 'c'},\n",
    "                     outcome=outcome,\n",
    "                     common_causes=[common_cause],\n",
    "                     proceed_when_unidentifiable=True).groupby(treatment).mean().plot(y=outcome, kind='bar')"
   ]
  },
  {
   "cell_type": "code",
   "execution_count": 4,
   "metadata": {
    "execution": {
     "iopub.execute_input": "2022-07-16T03:16:19.395472Z",
     "iopub.status.busy": "2022-07-16T03:16:19.282932Z",
     "iopub.status.idle": "2022-07-16T03:16:19.513428Z",
     "shell.execute_reply": "2022-07-16T03:16:19.512390Z"
    }
   },
   "outputs": [
    {
     "data": {
      "text/plain": [
       "<AxesSubplot:xlabel='v0'>"
      ]
     },
     "execution_count": 4,
     "metadata": {},
     "output_type": "execute_result"
    },
    {
     "data": {
      "image/png": "[encoded data removed]",
      "text/plain": [
       "<Figure size 432x288 with 1 Axes>"
      ]
     },
     "metadata": {
      "needs_background": "light"
     },
     "output_type": "display_data"
    }
   ],
   "source": [
    "df.causal.do(x={treatment: 1}, \n",
    "              variable_types={treatment:'b', outcome: 'c', common_cause: 'c'}, \n",
    "              outcome=outcome,\n",
    "              method='weighting', \n",
    "              common_causes=[common_cause],\n",
    "              proceed_when_unidentifiable=True).groupby(treatment).mean().plot(y=outcome, kind='bar')"
   ]
  },
  {
   "cell_type": "code",
   "execution_count": 5,
   "metadata": {
    "execution": {
     "iopub.execute_input": "2022-07-16T03:16:19.521984Z",
     "iopub.status.busy": "2022-07-16T03:16:19.520532Z",
     "iopub.status.idle": "2022-07-16T03:16:19.583967Z",
     "shell.execute_reply": "2022-07-16T03:16:19.584892Z"
    }
   },
   "outputs": [],
   "source": [
    "cdf_1 = df.causal.do(x={treatment: 1}, \n",
    "              variable_types={treatment: 'b', outcome: 'c', common_cause: 'c'}, \n",
    "              outcome=outcome, \n",
    "              dot_graph=data['dot_graph'],\n",
    "              proceed_when_unidentifiable=True)\n",
    "\n",
    "cdf_0 = df.causal.do(x={treatment: 0}, \n",
    "              variable_types={treatment: 'b', outcome: 'c', common_cause: 'c'}, \n",
    "              outcome=outcome, \n",
    "              dot_graph=data['dot_graph'],\n",
    "              proceed_when_unidentifiable=True)\n"
   ]
  },
  {
   "cell_type": "code",
   "execution_count": 6,
   "metadata": {
    "execution": {
     "iopub.execute_input": "2022-07-16T03:16:19.599198Z",
     "iopub.status.busy": "2022-07-16T03:16:19.597968Z",
     "iopub.status.idle": "2022-07-16T03:16:19.602536Z",
     "shell.execute_reply": "2022-07-16T03:16:19.603513Z"
    },
    "scrolled": true
   },
   "outputs": [
    {
     "data": {
      "text/html": [
       "<div>\n",
       "<style scoped>\n",
       "    .dataframe tbody tr th:only-of-type {\n",
       "        vertical-align: middle;\n",
       "    }\n",
       "\n",
       "    .dataframe tbody tr th {\n",
       "        vertical-align: top;\n",
       "    }\n",
       "\n",
       "    .dataframe thead th {\n",
       "        text-align: right;\n",
       "    }\n",
       "</style>\n",
       "<table border=\"1\" class=\"dataframe\">\n",
       "  <thead>\n",
       "    <tr style=\"text-align: right;\">\n",
       "      <th></th>\n",
       "      <th>W0</th>\n",
       "      <th>v0</th>\n",
       "      <th>y</th>\n",
       "      <th>propensity_score</th>\n",
       "      <th>weight</th>\n",
       "    </tr>\n",
       "  </thead>\n",
       "  <tbody>\n",
       "    <tr>\n",
       "      <th>0</th>\n",
       "      <td>0.816094</td>\n",
       "      <td>False</td>\n",
       "      <td>1.686673</td>\n",
       "      <td>0.197533</td>\n",
       "      <td>5.062433</td>\n",
       "    </tr>\n",
       "    <tr>\n",
       "      <th>1</th>\n",
       "      <td>1.140520</td>\n",
       "      <td>False</td>\n",
       "      <td>2.605438</td>\n",
       "      <td>0.118383</td>\n",
       "      <td>8.447168</td>\n",
       "    </tr>\n",
       "    <tr>\n",
       "      <th>2</th>\n",
       "      <td>-0.153549</td>\n",
       "      <td>False</td>\n",
       "      <td>-0.683939</td>\n",
       "      <td>0.600988</td>\n",
       "      <td>1.663926</td>\n",
       "    </tr>\n",
       "    <tr>\n",
       "      <th>3</th>\n",
       "      <td>-0.322642</td>\n",
       "      <td>False</td>\n",
       "      <td>-1.845678</td>\n",
       "      <td>0.673809</td>\n",
       "      <td>1.484100</td>\n",
       "    </tr>\n",
       "    <tr>\n",
       "      <th>4</th>\n",
       "      <td>-0.027045</td>\n",
       "      <td>False</td>\n",
       "      <td>0.354762</td>\n",
       "      <td>0.543209</td>\n",
       "      <td>1.840914</td>\n",
       "    </tr>\n",
       "    <tr>\n",
       "      <th>...</th>\n",
       "      <td>...</td>\n",
       "      <td>...</td>\n",
       "      <td>...</td>\n",
       "      <td>...</td>\n",
       "      <td>...</td>\n",
       "    </tr>\n",
       "    <tr>\n",
       "      <th>995</th>\n",
       "      <td>-0.042365</td>\n",
       "      <td>False</td>\n",
       "      <td>0.462657</td>\n",
       "      <td>0.550301</td>\n",
       "      <td>1.817189</td>\n",
       "    </tr>\n",
       "    <tr>\n",
       "      <th>996</th>\n",
       "      <td>-0.079335</td>\n",
       "      <td>False</td>\n",
       "      <td>-0.502332</td>\n",
       "      <td>0.567325</td>\n",
       "      <td>1.762657</td>\n",
       "    </tr>\n",
       "    <tr>\n",
       "      <th>997</th>\n",
       "      <td>1.903546</td>\n",
       "      <td>False</td>\n",
       "      <td>5.700887</td>\n",
       "      <td>0.031273</td>\n",
       "      <td>31.976365</td>\n",
       "    </tr>\n",
       "    <tr>\n",
       "      <th>998</th>\n",
       "      <td>0.704213</td>\n",
       "      <td>False</td>\n",
       "      <td>1.576448</td>\n",
       "      <td>0.232762</td>\n",
       "      <td>4.296229</td>\n",
       "    </tr>\n",
       "    <tr>\n",
       "      <th>999</th>\n",
       "      <td>1.903546</td>\n",
       "      <td>False</td>\n",
       "      <td>5.700887</td>\n",
       "      <td>0.031273</td>\n",
       "      <td>31.976365</td>\n",
       "    </tr>\n",
       "  </tbody>\n",
       "</table>\n",
       "<p>1000 rows × 5 columns</p>\n",
       "</div>"
      ],
      "text/plain": [
       "           W0     v0         y  propensity_score     weight\n",
       "0    0.816094  False  1.686673          0.197533   5.062433\n",
       "1    1.140520  False  2.605438          0.118383   8.447168\n",
       "2   -0.153549  False -0.683939          0.600988   1.663926\n",
       "3   -0.322642  False -1.845678          0.673809   1.484100\n",
       "4   -0.027045  False  0.354762          0.543209   1.840914\n",
       "..        ...    ...       ...               ...        ...\n",
       "995 -0.042365  False  0.462657          0.550301   1.817189\n",
       "996 -0.079335  False -0.502332          0.567325   1.762657\n",
       "997  1.903546  False  5.700887          0.031273  31.976365\n",
       "998  0.704213  False  1.576448          0.232762   4.296229\n",
       "999  1.903546  False  5.700887          0.031273  31.976365\n",
       "\n",
       "[1000 rows x 5 columns]"
      ]
     },
     "execution_count": 6,
     "metadata": {},
     "output_type": "execute_result"
    }
   ],
   "source": [
    "cdf_0"
   ]
  },
  {
   "cell_type": "code",
   "execution_count": 7,
   "metadata": {
    "execution": {
     "iopub.execute_input": "2022-07-16T03:16:19.616678Z",
     "iopub.status.busy": "2022-07-16T03:16:19.615443Z",
     "iopub.status.idle": "2022-07-16T03:16:19.619976Z",
     "shell.execute_reply": "2022-07-16T03:16:19.620957Z"
    }
   },
   "outputs": [
    {
     "data": {
      "text/html": [
       "<div>\n",
       "<style scoped>\n",
       "    .dataframe tbody tr th:only-of-type {\n",
       "        vertical-align: middle;\n",
       "    }\n",
       "\n",
       "    .dataframe tbody tr th {\n",
       "        vertical-align: top;\n",
       "    }\n",
       "\n",
       "    .dataframe thead th {\n",
       "        text-align: right;\n",
       "    }\n",
       "</style>\n",
       "<table border=\"1\" class=\"dataframe\">\n",
       "  <thead>\n",
       "    <tr style=\"text-align: right;\">\n",
       "      <th></th>\n",
       "      <th>W0</th>\n",
       "      <th>v0</th>\n",
       "      <th>y</th>\n",
       "      <th>propensity_score</th>\n",
       "      <th>weight</th>\n",
       "    </tr>\n",
       "  </thead>\n",
       "  <tbody>\n",
       "    <tr>\n",
       "      <th>0</th>\n",
       "      <td>0.103197</td>\n",
       "      <td>True</td>\n",
       "      <td>4.728649</td>\n",
       "      <td>0.517502</td>\n",
       "      <td>1.932360</td>\n",
       "    </tr>\n",
       "    <tr>\n",
       "      <th>1</th>\n",
       "      <td>-0.050658</td>\n",
       "      <td>True</td>\n",
       "      <td>3.458431</td>\n",
       "      <td>0.445869</td>\n",
       "      <td>2.242811</td>\n",
       "    </tr>\n",
       "    <tr>\n",
       "      <th>2</th>\n",
       "      <td>-0.119008</td>\n",
       "      <td>True</td>\n",
       "      <td>6.609158</td>\n",
       "      <td>0.414581</td>\n",
       "      <td>2.412075</td>\n",
       "    </tr>\n",
       "    <tr>\n",
       "      <th>3</th>\n",
       "      <td>-0.038747</td>\n",
       "      <td>True</td>\n",
       "      <td>6.093210</td>\n",
       "      <td>0.451373</td>\n",
       "      <td>2.215464</td>\n",
       "    </tr>\n",
       "    <tr>\n",
       "      <th>4</th>\n",
       "      <td>3.226027</td>\n",
       "      <td>True</td>\n",
       "      <td>12.332965</td>\n",
       "      <td>0.997278</td>\n",
       "      <td>1.002729</td>\n",
       "    </tr>\n",
       "    <tr>\n",
       "      <th>...</th>\n",
       "      <td>...</td>\n",
       "      <td>...</td>\n",
       "      <td>...</td>\n",
       "      <td>...</td>\n",
       "      <td>...</td>\n",
       "    </tr>\n",
       "    <tr>\n",
       "      <th>995</th>\n",
       "      <td>-1.020697</td>\n",
       "      <td>True</td>\n",
       "      <td>2.135535</td>\n",
       "      <td>0.116142</td>\n",
       "      <td>8.610153</td>\n",
       "    </tr>\n",
       "    <tr>\n",
       "      <th>996</th>\n",
       "      <td>0.651539</td>\n",
       "      <td>True</td>\n",
       "      <td>6.498636</td>\n",
       "      <td>0.749206</td>\n",
       "      <td>1.334747</td>\n",
       "    </tr>\n",
       "    <tr>\n",
       "      <th>997</th>\n",
       "      <td>0.257338</td>\n",
       "      <td>True</td>\n",
       "      <td>5.345168</td>\n",
       "      <td>0.588552</td>\n",
       "      <td>1.699085</td>\n",
       "    </tr>\n",
       "    <tr>\n",
       "      <th>998</th>\n",
       "      <td>0.058778</td>\n",
       "      <td>True</td>\n",
       "      <td>5.859101</td>\n",
       "      <td>0.496765</td>\n",
       "      <td>2.013025</td>\n",
       "    </tr>\n",
       "    <tr>\n",
       "      <th>999</th>\n",
       "      <td>0.399084</td>\n",
       "      <td>True</td>\n",
       "      <td>6.405068</td>\n",
       "      <td>0.650850</td>\n",
       "      <td>1.536453</td>\n",
       "    </tr>\n",
       "  </tbody>\n",
       "</table>\n",
       "<p>1000 rows × 5 columns</p>\n",
       "</div>"
      ],
      "text/plain": [
       "           W0    v0          y  propensity_score    weight\n",
       "0    0.103197  True   4.728649          0.517502  1.932360\n",
       "1   -0.050658  True   3.458431          0.445869  2.242811\n",
       "2   -0.119008  True   6.609158          0.414581  2.412075\n",
       "3   -0.038747  True   6.093210          0.451373  2.215464\n",
       "4    3.226027  True  12.332965          0.997278  1.002729\n",
       "..        ...   ...        ...               ...       ...\n",
       "995 -1.020697  True   2.135535          0.116142  8.610153\n",
       "996  0.651539  True   6.498636          0.749206  1.334747\n",
       "997  0.257338  True   5.345168          0.588552  1.699085\n",
       "998  0.058778  True   5.859101          0.496765  2.013025\n",
       "999  0.399084  True   6.405068          0.650850  1.536453\n",
       "\n",
       "[1000 rows x 5 columns]"
      ]
     },
     "execution_count": 7,
     "metadata": {},
     "output_type": "execute_result"
    }
   ],
   "source": [
    "cdf_1"
   ]
  },
  {
   "cell_type": "markdown",
   "metadata": {},
   "source": [
    "## Comparing the estimate to Linear Regression\n",
    "First, estimating the effect using the causal data frame, and the 95% confidence interval."
   ]
  },
  {
   "cell_type": "code",
   "execution_count": 8,
   "metadata": {
    "execution": {
     "iopub.execute_input": "2022-07-16T03:16:19.628481Z",
     "iopub.status.busy": "2022-07-16T03:16:19.627250Z",
     "iopub.status.idle": "2022-07-16T03:16:20.631484Z",
     "shell.execute_reply": "2022-07-16T03:16:20.630323Z"
    }
   },
   "outputs": [
    {
     "name": "stderr",
     "output_type": "stream",
     "text": [
      "/home/amshar/python-environments/vpy38/lib/python3.8/site-packages/IPython/lib/latextools.py:126: MatplotlibDeprecationWarning: \n",
      "The to_png function was deprecated in Matplotlib 3.4 and will be removed two minor releases later. Use mathtext.math_to_image instead.\n",
      "  mt.to_png(f, s, fontsize=12, dpi=dpi, color=color)\n",
      "/home/amshar/python-environments/vpy38/lib/python3.8/site-packages/IPython/lib/latextools.py:126: MatplotlibDeprecationWarning: \n",
      "The to_rgba function was deprecated in Matplotlib 3.4 and will be removed two minor releases later. Use mathtext.math_to_image instead.\n",
      "  mt.to_png(f, s, fontsize=12, dpi=dpi, color=color)\n",
      "/home/amshar/python-environments/vpy38/lib/python3.8/site-packages/IPython/lib/latextools.py:126: MatplotlibDeprecationWarning: \n",
      "The to_mask function was deprecated in Matplotlib 3.4 and will be removed two minor releases later. Use mathtext.math_to_image instead.\n",
      "  mt.to_png(f, s, fontsize=12, dpi=dpi, color=color)\n",
      "/home/amshar/python-environments/vpy38/lib/python3.8/site-packages/IPython/lib/latextools.py:126: MatplotlibDeprecationWarning: \n",
      "The MathtextBackendBitmap class was deprecated in Matplotlib 3.4 and will be removed two minor releases later. Use mathtext.math_to_image instead.\n",
      "  mt.to_png(f, s, fontsize=12, dpi=dpi, color=color)\n"
     ]
    },
    {
     "data": {
      "image/png": "[encoded data removed]",
      "text/latex": [
       "$\\displaystyle 5.29235911750489$"
      ],
      "text/plain": [
       "5.292359117504886"
      ]
     },
     "execution_count": 8,
     "metadata": {},
     "output_type": "execute_result"
    }
   ],
   "source": [
    "(cdf_1['y'] - cdf_0['y']).mean()"
   ]
  },
  {
   "cell_type": "code",
   "execution_count": 9,
   "metadata": {
    "execution": {
     "iopub.execute_input": "2022-07-16T03:16:20.642578Z",
     "iopub.status.busy": "2022-07-16T03:16:20.641368Z",
     "iopub.status.idle": "2022-07-16T03:16:20.932099Z",
     "shell.execute_reply": "2022-07-16T03:16:20.932679Z"
    }
   },
   "outputs": [
    {
     "name": "stderr",
     "output_type": "stream",
     "text": [
      "/home/amshar/python-environments/vpy38/lib/python3.8/site-packages/IPython/lib/latextools.py:126: MatplotlibDeprecationWarning: \n",
      "The to_png function was deprecated in Matplotlib 3.4 and will be removed two minor releases later. Use mathtext.math_to_image instead.\n",
      "  mt.to_png(f, s, fontsize=12, dpi=dpi, color=color)\n",
      "/home/amshar/python-environments/vpy38/lib/python3.8/site-packages/IPython/lib/latextools.py:126: MatplotlibDeprecationWarning: \n",
      "The to_rgba function was deprecated in Matplotlib 3.4 and will be removed two minor releases later. Use mathtext.math_to_image instead.\n",
      "  mt.to_png(f, s, fontsize=12, dpi=dpi, color=color)\n",
      "/home/amshar/python-environments/vpy38/lib/python3.8/site-packages/IPython/lib/latextools.py:126: MatplotlibDeprecationWarning: \n",
      "The to_mask function was deprecated in Matplotlib 3.4 and will be removed two minor releases later. Use mathtext.math_to_image instead.\n",
      "  mt.to_png(f, s, fontsize=12, dpi=dpi, color=color)\n",
      "/home/amshar/python-environments/vpy38/lib/python3.8/site-packages/IPython/lib/latextools.py:126: MatplotlibDeprecationWarning: \n",
      "The MathtextBackendBitmap class was deprecated in Matplotlib 3.4 and will be removed two minor releases later. Use mathtext.math_to_image instead.\n",
      "  mt.to_png(f, s, fontsize=12, dpi=dpi, color=color)\n"
     ]
    },
    {
     "data": {
      "image/png": "[encoded data removed]",
      "text/latex": [
       "$\\displaystyle 0.256265416710082$"
      ],
      "text/plain": [
       "0.2562654167100817"
      ]
     },
     "execution_count": 9,
     "metadata": {},
     "output_type": "execute_result"
    }
   ],
   "source": [
    "1.96*(cdf_1['y'] - cdf_0['y']).std() / np.sqrt(len(df))"
   ]
  },
  {
   "cell_type": "markdown",
   "metadata": {},
   "source": [
    "Comparing to the estimate from OLS."
   ]
  },
  {
   "cell_type": "code",
   "execution_count": 10,
   "metadata": {
    "execution": {
     "iopub.execute_input": "2022-07-16T03:16:20.944392Z",
     "iopub.status.busy": "2022-07-16T03:16:20.943150Z",
     "iopub.status.idle": "2022-07-16T03:16:20.962734Z",
     "shell.execute_reply": "2022-07-16T03:16:20.961975Z"
    }
   },
   "outputs": [
    {
     "data": {
      "text/html": [
       "<table class=\"simpletable\">\n",
       "<caption>OLS Regression Results</caption>\n",
       "<tr>\n",
       "  <th>Dep. Variable:</th>            <td>y</td>        <th>  R-squared (uncentered):</th>      <td>   0.963</td> \n",
       "</tr>\n",
       "<tr>\n",
       "  <th>Model:</th>                   <td>OLS</td>       <th>  Adj. R-squared (uncentered):</th> <td>   0.963</td> \n",
       "</tr>\n",
       "<tr>\n",
       "  <th>Method:</th>             <td>Least Squares</td>  <th>  F-statistic:       </th>          <td>1.301e+04</td>\n",
       "</tr>\n",
       "<tr>\n",
       "  <th>Date:</th>             <td>Sat, 16 Jul 2022</td> <th>  Prob (F-statistic):</th>           <td>  0.00</td>  \n",
       "</tr>\n",
       "<tr>\n",
       "  <th>Time:</th>                 <td>08:46:20</td>     <th>  Log-Likelihood:    </th>          <td> -1451.4</td> \n",
       "</tr>\n",
       "<tr>\n",
       "  <th>No. Observations:</th>      <td>  1000</td>      <th>  AIC:               </th>          <td>   2907.</td> \n",
       "</tr>\n",
       "<tr>\n",
       "  <th>Df Residuals:</th>          <td>   998</td>      <th>  BIC:               </th>          <td>   2917.</td> \n",
       "</tr>\n",
       "<tr>\n",
       "  <th>Df Model:</th>              <td>     2</td>      <th>                     </th>              <td> </td>    \n",
       "</tr>\n",
       "<tr>\n",
       "  <th>Covariance Type:</th>      <td>nonrobust</td>    <th>                     </th>              <td> </td>    \n",
       "</tr>\n",
       "</table>\n",
       "<table class=\"simpletable\">\n",
       "<tr>\n",
       "   <td></td>     <th>coef</th>     <th>std err</th>      <th>t</th>      <th>P>|t|</th>  <th>[0.025</th>    <th>0.975]</th>  \n",
       "</tr>\n",
       "<tr>\n",
       "  <th>x1</th> <td>    2.7189</td> <td>    0.036</td> <td>   75.912</td> <td> 0.000</td> <td>    2.649</td> <td>    2.789</td>\n",
       "</tr>\n",
       "<tr>\n",
       "  <th>x2</th> <td>    4.9698</td> <td>    0.052</td> <td>   95.102</td> <td> 0.000</td> <td>    4.867</td> <td>    5.072</td>\n",
       "</tr>\n",
       "</table>\n",
       "<table class=\"simpletable\">\n",
       "<tr>\n",
       "  <th>Omnibus:</th>       <td> 2.109</td> <th>  Durbin-Watson:     </th> <td>   2.152</td>\n",
       "</tr>\n",
       "<tr>\n",
       "  <th>Prob(Omnibus):</th> <td> 0.348</td> <th>  Jarque-Bera (JB):  </th> <td>   2.082</td>\n",
       "</tr>\n",
       "<tr>\n",
       "  <th>Skew:</th>          <td> 0.112</td> <th>  Prob(JB):          </th> <td>   0.353</td>\n",
       "</tr>\n",
       "<tr>\n",
       "  <th>Kurtosis:</th>      <td> 2.998</td> <th>  Cond. No.          </th> <td>    1.84</td>\n",
       "</tr>\n",
       "</table><br/><br/>Notes:<br/>[1] R² is computed without centering (uncentered) since the model does not contain a constant.<br/>[2] Standard Errors assume that the covariance matrix of the errors is correctly specified."
      ],
      "text/plain": [
       "<class 'statsmodels.iolib.summary.Summary'>\n",
       "\"\"\"\n",
       "                                 OLS Regression Results                                \n",
       "=======================================================================================\n",
       "Dep. Variable:                      y   R-squared (uncentered):                   0.963\n",
       "Model:                            OLS   Adj. R-squared (uncentered):              0.963\n",
       "Method:                 Least Squares   F-statistic:                          1.301e+04\n",
       "Date:                Sat, 16 Jul 2022   Prob (F-statistic):                        0.00\n",
       "Time:                        08:46:20   Log-Likelihood:                         -1451.4\n",
       "No. Observations:                1000   AIC:                                      2907.\n",
       "Df Residuals:                     998   BIC:                                      2917.\n",
       "Df Model:                           2                                                  \n",
       "Covariance Type:            nonrobust                                                  \n",
       "==============================================================================\n",
       "                 coef    std err          t      P>|t|      [0.025      0.975]\n",
       "------------------------------------------------------------------------------\n",
       "x1             2.7189      0.036     75.912      0.000       2.649       2.789\n",
       "x2             4.9698      0.052     95.102      0.000       4.867       5.072\n",
       "==============================================================================\n",
       "Omnibus:                        2.109   Durbin-Watson:                   2.152\n",
       "Prob(Omnibus):                  0.348   Jarque-Bera (JB):                2.082\n",
       "Skew:                           0.112   Prob(JB):                        0.353\n",
       "Kurtosis:                       2.998   Cond. No.                         1.84\n",
       "==============================================================================\n",
       "\n",
       "Notes:\n",
       "[1] R² is computed without centering (uncentered) since the model does not contain a constant.\n",
       "[2] Standard Errors assume that the covariance matrix of the errors is correctly specified.\n",
       "\"\"\""
      ]
     },
     "execution_count": 10,
     "metadata": {},
     "output_type": "execute_result"
    }
   ],
   "source": [
    "model = OLS(np.asarray(df[outcome]), np.asarray(df[[common_cause, treatment]], dtype=np.float64))\n",
    "result = model.fit()\n",
    "result.summary()"
   ]
  }
 ],
 "metadata": {
  "kernelspec": {
   "display_name": "Python 3",
   "language": "python",
   "name": "python3"
  },
  "language_info": {
   "codemirror_mode": {
    "name": "ipython",
    "version": 3
   },
   "file_extension": ".py",
   "mimetype": "text/x-python",
   "name": "python",
   "nbconvert_exporter": "python",
   "pygments_lexer": "ipython3",
   "version": "3.8.12"
  },
  "toc": {
   "base_numbering": 1,
   "nav_menu": {},
   "number_sections": false,
   "sideBar": true,
   "skip_h1_title": true,
   "title_cell": "Table of Contents",
   "title_sidebar": "Contents",
   "toc_cell": false,
   "toc_position": {},
   "toc_section_display": true,
   "toc_window_display": false
  }
 },
 "nbformat": 4,
 "nbformat_minor": 4
}
