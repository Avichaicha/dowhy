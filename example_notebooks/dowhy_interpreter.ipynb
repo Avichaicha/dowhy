{
 "cells": [
  {
   "cell_type": "markdown",
   "id": "09e76899",
   "metadata": {},
   "source": [
    "# DoWhy: Interpreters for Causal Estimators\n",
    "\n",
    "This is a quick introduction to the use of interpreters in the DoWhy causal inference library.\n",
    "We will load in a sample dataset, use different methods for estimating the causal effect of a (pre-specified)treatment variable on a (pre-specified) outcome variable and demonstrate how to interpret the obtained results.\n",
    "\n",
    "First, let us add the required path for Python to find the DoWhy code and load all required packages"
   ]
  },
  {
   "cell_type": "code",
   "execution_count": 1,
   "id": "7d2ea039",
   "metadata": {
    "execution": {
     "iopub.execute_input": "2022-03-20T14:44:59.409155Z",
     "iopub.status.busy": "2022-03-20T14:44:59.407820Z",
     "iopub.status.idle": "2022-03-20T14:44:59.437869Z",
     "shell.execute_reply": "2022-03-20T14:44:59.436626Z"
    }
   },
   "outputs": [],
   "source": [
    "%load_ext autoreload\n",
    "%autoreload 2"
   ]
  },
  {
   "cell_type": "code",
   "execution_count": 2,
   "id": "26d84e32",
   "metadata": {
    "execution": {
     "iopub.execute_input": "2022-03-20T14:44:59.443444Z",
     "iopub.status.busy": "2022-03-20T14:44:59.442820Z",
     "iopub.status.idle": "2022-03-20T14:45:01.481740Z",
     "shell.execute_reply": "2022-03-20T14:45:01.481230Z"
    }
   },
   "outputs": [],
   "source": [
    "import numpy as np\n",
    "import pandas as pd\n",
    "import logging\n",
    "\n",
    "import dowhy\n",
    "from dowhy import CausalModel\n",
    "import dowhy.datasets "
   ]
  },
  {
   "cell_type": "markdown",
   "id": "59a66374",
   "metadata": {},
   "source": [
    "Now, let us load a dataset. For simplicity, we simulate a dataset with linear relationships between common causes and treatment, and common causes and outcome.\n",
    "\n",
    "Beta is the true causal effect."
   ]
  },
  {
   "cell_type": "code",
   "execution_count": 3,
   "id": "6ef63296",
   "metadata": {
    "execution": {
     "iopub.execute_input": "2022-03-20T14:45:01.488617Z",
     "iopub.status.busy": "2022-03-20T14:45:01.487355Z",
     "iopub.status.idle": "2022-03-20T14:45:02.076334Z",
     "shell.execute_reply": "2022-03-20T14:45:02.077395Z"
    }
   },
   "outputs": [
    {
     "name": "stdout",
     "output_type": "stream",
     "text": [
      "9649\n"
     ]
    },
    {
     "data": {
      "text/html": [
       "<div>\n",
       "<style scoped>\n",
       "    .dataframe tbody tr th:only-of-type {\n",
       "        vertical-align: middle;\n",
       "    }\n",
       "\n",
       "    .dataframe tbody tr th {\n",
       "        vertical-align: top;\n",
       "    }\n",
       "\n",
       "    .dataframe thead th {\n",
       "        text-align: right;\n",
       "    }\n",
       "</style>\n",
       "<table border=\"1\" class=\"dataframe\">\n",
       "  <thead>\n",
       "    <tr style=\"text-align: right;\">\n",
       "      <th></th>\n",
       "      <th>Z0</th>\n",
       "      <th>Z1</th>\n",
       "      <th>W0</th>\n",
       "      <th>W1</th>\n",
       "      <th>W2</th>\n",
       "      <th>W3</th>\n",
       "      <th>W4</th>\n",
       "      <th>v0</th>\n",
       "      <th>y</th>\n",
       "    </tr>\n",
       "  </thead>\n",
       "  <tbody>\n",
       "    <tr>\n",
       "      <th>0</th>\n",
       "      <td>1.0</td>\n",
       "      <td>0.002852</td>\n",
       "      <td>2.507903</td>\n",
       "      <td>0.061213</td>\n",
       "      <td>-0.510954</td>\n",
       "      <td>1.187651</td>\n",
       "      <td>1</td>\n",
       "      <td>True</td>\n",
       "      <td>2.793672</td>\n",
       "    </tr>\n",
       "    <tr>\n",
       "      <th>1</th>\n",
       "      <td>1.0</td>\n",
       "      <td>0.090717</td>\n",
       "      <td>0.307325</td>\n",
       "      <td>0.258055</td>\n",
       "      <td>0.493854</td>\n",
       "      <td>1.347899</td>\n",
       "      <td>1</td>\n",
       "      <td>True</td>\n",
       "      <td>2.822050</td>\n",
       "    </tr>\n",
       "    <tr>\n",
       "      <th>2</th>\n",
       "      <td>1.0</td>\n",
       "      <td>0.817464</td>\n",
       "      <td>-0.637400</td>\n",
       "      <td>0.827633</td>\n",
       "      <td>-0.961173</td>\n",
       "      <td>-2.874834</td>\n",
       "      <td>1</td>\n",
       "      <td>True</td>\n",
       "      <td>0.086813</td>\n",
       "    </tr>\n",
       "    <tr>\n",
       "      <th>3</th>\n",
       "      <td>0.0</td>\n",
       "      <td>0.428283</td>\n",
       "      <td>-0.193230</td>\n",
       "      <td>-0.491553</td>\n",
       "      <td>0.015146</td>\n",
       "      <td>-1.038577</td>\n",
       "      <td>0</td>\n",
       "      <td>True</td>\n",
       "      <td>0.205723</td>\n",
       "    </tr>\n",
       "    <tr>\n",
       "      <th>4</th>\n",
       "      <td>1.0</td>\n",
       "      <td>0.725602</td>\n",
       "      <td>-0.830817</td>\n",
       "      <td>0.526357</td>\n",
       "      <td>0.384307</td>\n",
       "      <td>-1.916690</td>\n",
       "      <td>0</td>\n",
       "      <td>True</td>\n",
       "      <td>0.027397</td>\n",
       "    </tr>\n",
       "    <tr>\n",
       "      <th>...</th>\n",
       "      <td>...</td>\n",
       "      <td>...</td>\n",
       "      <td>...</td>\n",
       "      <td>...</td>\n",
       "      <td>...</td>\n",
       "      <td>...</td>\n",
       "      <td>...</td>\n",
       "      <td>...</td>\n",
       "      <td>...</td>\n",
       "    </tr>\n",
       "    <tr>\n",
       "      <th>9995</th>\n",
       "      <td>1.0</td>\n",
       "      <td>0.501781</td>\n",
       "      <td>-0.802291</td>\n",
       "      <td>-1.100837</td>\n",
       "      <td>-1.134130</td>\n",
       "      <td>0.231615</td>\n",
       "      <td>0</td>\n",
       "      <td>True</td>\n",
       "      <td>0.351913</td>\n",
       "    </tr>\n",
       "    <tr>\n",
       "      <th>9996</th>\n",
       "      <td>1.0</td>\n",
       "      <td>0.819102</td>\n",
       "      <td>1.119646</td>\n",
       "      <td>0.467355</td>\n",
       "      <td>-1.585836</td>\n",
       "      <td>-0.476903</td>\n",
       "      <td>3</td>\n",
       "      <td>True</td>\n",
       "      <td>3.035154</td>\n",
       "    </tr>\n",
       "    <tr>\n",
       "      <th>9997</th>\n",
       "      <td>1.0</td>\n",
       "      <td>0.255981</td>\n",
       "      <td>1.181626</td>\n",
       "      <td>0.166155</td>\n",
       "      <td>1.441666</td>\n",
       "      <td>2.011722</td>\n",
       "      <td>0</td>\n",
       "      <td>True</td>\n",
       "      <td>2.752900</td>\n",
       "    </tr>\n",
       "    <tr>\n",
       "      <th>9998</th>\n",
       "      <td>1.0</td>\n",
       "      <td>0.053849</td>\n",
       "      <td>-0.392363</td>\n",
       "      <td>-1.294023</td>\n",
       "      <td>0.269434</td>\n",
       "      <td>1.063710</td>\n",
       "      <td>1</td>\n",
       "      <td>True</td>\n",
       "      <td>1.911078</td>\n",
       "    </tr>\n",
       "    <tr>\n",
       "      <th>9999</th>\n",
       "      <td>1.0</td>\n",
       "      <td>0.982697</td>\n",
       "      <td>1.135266</td>\n",
       "      <td>-0.895874</td>\n",
       "      <td>0.187209</td>\n",
       "      <td>-0.229364</td>\n",
       "      <td>2</td>\n",
       "      <td>True</td>\n",
       "      <td>2.316731</td>\n",
       "    </tr>\n",
       "  </tbody>\n",
       "</table>\n",
       "<p>10000 rows × 9 columns</p>\n",
       "</div>"
      ],
      "text/plain": [
       "       Z0        Z1        W0        W1        W2        W3 W4    v0         y\n",
       "0     1.0  0.002852  2.507903  0.061213 -0.510954  1.187651  1  True  2.793672\n",
       "1     1.0  0.090717  0.307325  0.258055  0.493854  1.347899  1  True  2.822050\n",
       "2     1.0  0.817464 -0.637400  0.827633 -0.961173 -2.874834  1  True  0.086813\n",
       "3     0.0  0.428283 -0.193230 -0.491553  0.015146 -1.038577  0  True  0.205723\n",
       "4     1.0  0.725602 -0.830817  0.526357  0.384307 -1.916690  0  True  0.027397\n",
       "...   ...       ...       ...       ...       ...       ... ..   ...       ...\n",
       "9995  1.0  0.501781 -0.802291 -1.100837 -1.134130  0.231615  0  True  0.351913\n",
       "9996  1.0  0.819102  1.119646  0.467355 -1.585836 -0.476903  3  True  3.035154\n",
       "9997  1.0  0.255981  1.181626  0.166155  1.441666  2.011722  0  True  2.752900\n",
       "9998  1.0  0.053849 -0.392363 -1.294023  0.269434  1.063710  1  True  1.911078\n",
       "9999  1.0  0.982697  1.135266 -0.895874  0.187209 -0.229364  2  True  2.316731\n",
       "\n",
       "[10000 rows x 9 columns]"
      ]
     },
     "execution_count": 3,
     "metadata": {},
     "output_type": "execute_result"
    }
   ],
   "source": [
    "data = dowhy.datasets.linear_dataset(beta=1,\n",
    "        num_common_causes=5, \n",
    "        num_instruments = 2,\n",
    "        num_treatments=1,\n",
    "        num_discrete_common_causes=1,\n",
    "        num_samples=10000,\n",
    "        treatment_is_binary=True,\n",
    "        outcome_is_binary=False)\n",
    "df = data[\"df\"]\n",
    "print(df[df.v0==True].shape[0])\n",
    "df"
   ]
  },
  {
   "cell_type": "markdown",
   "id": "e7c5f88f",
   "metadata": {},
   "source": [
    "Note that we are using a pandas dataframe to load the data."
   ]
  },
  {
   "cell_type": "markdown",
   "id": "d9494674",
   "metadata": {},
   "source": [
    "## Identifying the causal estimand"
   ]
  },
  {
   "cell_type": "markdown",
   "id": "42e73055",
   "metadata": {},
   "source": [
    "We now input a causal graph in the GML graph format."
   ]
  },
  {
   "cell_type": "code",
   "execution_count": 4,
   "id": "92c8e056",
   "metadata": {
    "execution": {
     "iopub.execute_input": "2022-03-20T14:45:02.086239Z",
     "iopub.status.busy": "2022-03-20T14:45:02.085014Z",
     "iopub.status.idle": "2022-03-20T14:45:02.157974Z",
     "shell.execute_reply": "2022-03-20T14:45:02.156812Z"
    }
   },
   "outputs": [],
   "source": [
    "# With graph\n",
    "model=CausalModel(\n",
    "        data = df,\n",
    "        treatment=data[\"treatment_name\"],\n",
    "        outcome=data[\"outcome_name\"],\n",
    "        graph=data[\"gml_graph\"],\n",
    "        instruments=data[\"instrument_names\"]\n",
    "        )"
   ]
  },
  {
   "cell_type": "code",
   "execution_count": 5,
   "id": "ac4afc2e",
   "metadata": {
    "execution": {
     "iopub.execute_input": "2022-03-20T14:45:02.162889Z",
     "iopub.status.busy": "2022-03-20T14:45:02.162227Z",
     "iopub.status.idle": "2022-03-20T14:45:02.380898Z",
     "shell.execute_reply": "2022-03-20T14:45:02.381937Z"
    }
   },
   "outputs": [],
   "source": [
    "model.view_model()"
   ]
  },
  {
   "cell_type": "code",
   "execution_count": 6,
   "id": "fe6ba9e5",
   "metadata": {
    "execution": {
     "iopub.execute_input": "2022-03-20T14:45:02.390265Z",
     "iopub.status.busy": "2022-03-20T14:45:02.388945Z",
     "iopub.status.idle": "2022-03-20T14:45:02.453466Z",
     "shell.execute_reply": "2022-03-20T14:45:02.452940Z"
    }
   },
   "outputs": [
    {
     "data": {
      "image/png": "[encoded data removed]",
      "text/plain": [
       "<IPython.core.display.Image object>"
      ]
     },
     "metadata": {},
     "output_type": "display_data"
    }
   ],
   "source": [
    "from IPython.display import Image, display\n",
    "display(Image(filename=\"causal_model.png\"))"
   ]
  },
  {
   "cell_type": "markdown",
   "id": "75905b7b",
   "metadata": {},
   "source": [
    "We get a causal graph. Now identification and estimation is done."
   ]
  },
  {
   "cell_type": "code",
   "execution_count": 7,
   "id": "32842196",
   "metadata": {
    "execution": {
     "iopub.execute_input": "2022-03-20T14:45:02.459749Z",
     "iopub.status.busy": "2022-03-20T14:45:02.458475Z",
     "iopub.status.idle": "2022-03-20T14:45:02.525682Z",
     "shell.execute_reply": "2022-03-20T14:45:02.526646Z"
    }
   },
   "outputs": [
    {
     "name": "stdout",
     "output_type": "stream",
     "text": [
      "Estimand type: nonparametric-ate\n",
      "\n",
      "### Estimand : 1\n",
      "Estimand name: backdoor\n",
      "Estimand expression:\n",
      "  d                                 \n",
      "─────(Expectation(y|W1,W0,W2,W3,W4))\n",
      "d[v₀]                               \n",
      "Estimand assumption 1, Unconfoundedness: If U→{v0} and U→y then P(y|v0,W1,W0,W2,W3,W4,U) = P(y|v0,W1,W0,W2,W3,W4)\n",
      "\n",
      "### Estimand : 2\n",
      "Estimand name: iv\n",
      "Estimand expression:\n",
      "Expectation(Derivative(y, [Z0, Z1])*Derivative([v0], [Z0, Z1])**(-1))\n",
      "Estimand assumption 1, As-if-random: If U→→y then ¬(U →→{Z0,Z1})\n",
      "Estimand assumption 2, Exclusion: If we remove {Z0,Z1}→{v0}, then ¬({Z0,Z1}→y)\n",
      "\n",
      "### Estimand : 3\n",
      "Estimand name: frontdoor\n",
      "No such variable(s) found!\n",
      "\n"
     ]
    }
   ],
   "source": [
    "identified_estimand = model.identify_effect(proceed_when_unidentifiable=True)\n",
    "print(identified_estimand)"
   ]
  },
  {
   "cell_type": "markdown",
   "id": "75aa532e",
   "metadata": {},
   "source": [
    "## Method 1: Propensity Score Stratification\n",
    "\n",
    "We will be using propensity scores to stratify units in the data."
   ]
  },
  {
   "cell_type": "code",
   "execution_count": 8,
   "id": "01d3b915",
   "metadata": {
    "execution": {
     "iopub.execute_input": "2022-03-20T14:45:02.532077Z",
     "iopub.status.busy": "2022-03-20T14:45:02.531526Z",
     "iopub.status.idle": "2022-03-20T14:45:04.368105Z",
     "shell.execute_reply": "2022-03-20T14:45:04.369308Z"
    }
   },
   "outputs": [
    {
     "name": "stdout",
     "output_type": "stream",
     "text": [
      "propensity_score_stratification\n"
     ]
    },
    {
     "name": "stderr",
     "output_type": "stream",
     "text": [
      "/home/amshar/python-environments/vpy38/lib/python3.8/site-packages/sklearn/utils/validation.py:63: DataConversionWarning: A column-vector y was passed when a 1d array was expected. Please change the shape of y to (n_samples, ), for example using ravel().\n",
      "  return f(*args, **kwargs)\n"
     ]
    },
    {
     "name": "stdout",
     "output_type": "stream",
     "text": [
      "*** Causal Estimate ***\n",
      "\n",
      "## Identified estimand\n",
      "Estimand type: nonparametric-ate\n",
      "\n",
      "### Estimand : 1\n",
      "Estimand name: backdoor\n",
      "Estimand expression:\n",
      "  d                                 \n",
      "─────(Expectation(y|W1,W0,W2,W3,W4))\n",
      "d[v₀]                               \n",
      "Estimand assumption 1, Unconfoundedness: If U→{v0} and U→y then P(y|v0,W1,W0,W2,W3,W4,U) = P(y|v0,W1,W0,W2,W3,W4)\n",
      "\n",
      "## Realized estimand\n",
      "b: y~v0+W1+W0+W2+W3+W4\n",
      "Target units: att\n",
      "\n",
      "## Estimate\n",
      "Mean value: 1.0490977115071853\n",
      "\n",
      "Causal Estimate is 1.0490977115071853\n"
     ]
    }
   ],
   "source": [
    "causal_estimate_strat = model.estimate_effect(identified_estimand,\n",
    "                                              method_name=\"backdoor.propensity_score_stratification\",\n",
    "                                              target_units=\"att\")\n",
    "print(causal_estimate_strat)\n",
    "print(\"Causal Estimate is \" + str(causal_estimate_strat.value))"
   ]
  },
  {
   "cell_type": "markdown",
   "id": "93b3facb",
   "metadata": {},
   "source": [
    "### Textual Interpreter\n",
    "\n",
    "The textual Interpreter describes (in words) the effect of unit change in the treatment variable on the outcome variable."
   ]
  },
  {
   "cell_type": "code",
   "execution_count": 9,
   "id": "f04ba0ee",
   "metadata": {
    "execution": {
     "iopub.execute_input": "2022-03-20T14:45:04.375353Z",
     "iopub.status.busy": "2022-03-20T14:45:04.374616Z",
     "iopub.status.idle": "2022-03-20T14:45:04.431068Z",
     "shell.execute_reply": "2022-03-20T14:45:04.429822Z"
    }
   },
   "outputs": [
    {
     "name": "stdout",
     "output_type": "stream",
     "text": [
      "Increasing the treatment variable(s) [v0] from 0 to 1 causes an increase of 1.0490977115071853 in the expected value of the outcome [y], over the data distribution/population represented by the dataset.\n"
     ]
    }
   ],
   "source": [
    "# Textual Interpreter\n",
    "interpretation = causal_estimate_strat.interpret(method_name=\"textual_effect_interpreter\")"
   ]
  },
  {
   "cell_type": "markdown",
   "id": "5d53cae6",
   "metadata": {},
   "source": [
    "### Visual Interpreter\n",
    "\n",
    "The visual interpreter plots the change in the standardized mean difference (SMD) before and after Propensity Score based adjustment of the dataset. The formula for SMD is given below.\n",
    "\n",
    "\n",
    "$SMD = \\frac{\\bar X_{1} - \\bar X_{2}}{\\sqrt{(S_{1}^{2} + S_{2}^{2})/2}}$\n",
    "\n",
    "Here, $\\bar X_{1}$ and $\\bar X_{2}$ are the sample mean for the treated and control groups.\n"
   ]
  },
  {
   "cell_type": "code",
   "execution_count": 10,
   "id": "c86a6bc3",
   "metadata": {
    "execution": {
     "iopub.execute_input": "2022-03-20T14:45:04.435869Z",
     "iopub.status.busy": "2022-03-20T14:45:04.435340Z",
     "iopub.status.idle": "2022-03-20T14:45:05.290009Z",
     "shell.execute_reply": "2022-03-20T14:45:05.288953Z"
    }
   },
   "outputs": [
    {
     "data": {
      "image/png": "[encoded data removed]",
      "text/plain": [
       "<Figure size 432x288 with 1 Axes>"
      ]
     },
     "metadata": {},
     "output_type": "display_data"
    }
   ],
   "source": [
    "# Visual Interpreter\n",
    "interpretation = causal_estimate_strat.interpret(method_name=\"propensity_balance_interpreter\")"
   ]
  },
  {
   "cell_type": "markdown",
   "id": "f3319700",
   "metadata": {},
   "source": [
    "This plot shows how the SMD decreases from the unadjusted to the stratified units. "
   ]
  },
  {
   "cell_type": "markdown",
   "id": "ed7020d1",
   "metadata": {},
   "source": [
    "## Method 2: Propensity Score Matching\n",
    "\n",
    "We will be using propensity scores to match units in the data."
   ]
  },
  {
   "cell_type": "code",
   "execution_count": 11,
   "id": "d99a8222",
   "metadata": {
    "execution": {
     "iopub.execute_input": "2022-03-20T14:45:05.295888Z",
     "iopub.status.busy": "2022-03-20T14:45:05.295252Z",
     "iopub.status.idle": "2022-03-20T14:45:12.921451Z",
     "shell.execute_reply": "2022-03-20T14:45:12.920995Z"
    }
   },
   "outputs": [
    {
     "name": "stdout",
     "output_type": "stream",
     "text": [
      "propensity_score_matching\n"
     ]
    },
    {
     "name": "stderr",
     "output_type": "stream",
     "text": [
      "/home/amshar/python-environments/vpy38/lib/python3.8/site-packages/sklearn/utils/validation.py:63: DataConversionWarning: A column-vector y was passed when a 1d array was expected. Please change the shape of y to (n_samples, ), for example using ravel().\n",
      "  return f(*args, **kwargs)\n"
     ]
    },
    {
     "name": "stdout",
     "output_type": "stream",
     "text": [
      "*** Causal Estimate ***\n",
      "\n",
      "## Identified estimand\n",
      "Estimand type: nonparametric-ate\n",
      "\n",
      "### Estimand : 1\n",
      "Estimand name: backdoor\n",
      "Estimand expression:\n",
      "  d                                 \n",
      "─────(Expectation(y|W1,W0,W2,W3,W4))\n",
      "d[v₀]                               \n",
      "Estimand assumption 1, Unconfoundedness: If U→{v0} and U→y then P(y|v0,W1,W0,W2,W3,W4,U) = P(y|v0,W1,W0,W2,W3,W4)\n",
      "\n",
      "## Realized estimand\n",
      "b: y~v0+W1+W0+W2+W3+W4\n",
      "Target units: atc\n",
      "\n",
      "## Estimate\n",
      "Mean value: 1.0174434838697441\n",
      "\n",
      "Causal Estimate is 1.0174434838697441\n"
     ]
    }
   ],
   "source": [
    "causal_estimate_match = model.estimate_effect(identified_estimand,\n",
    "                                              method_name=\"backdoor.propensity_score_matching\",\n",
    "                                              target_units=\"atc\")\n",
    "print(causal_estimate_match)\n",
    "print(\"Causal Estimate is \" + str(causal_estimate_match.value))"
   ]
  },
  {
   "cell_type": "code",
   "execution_count": 12,
   "id": "d990cbc1",
   "metadata": {
    "execution": {
     "iopub.execute_input": "2022-03-20T14:45:12.926009Z",
     "iopub.status.busy": "2022-03-20T14:45:12.925460Z",
     "iopub.status.idle": "2022-03-20T14:45:12.992062Z",
     "shell.execute_reply": "2022-03-20T14:45:12.992955Z"
    }
   },
   "outputs": [
    {
     "name": "stdout",
     "output_type": "stream",
     "text": [
      "Increasing the treatment variable(s) [v0] from 0 to 1 causes an increase of 1.0174434838697441 in the expected value of the outcome [y], over the data distribution/population represented by the dataset.\n"
     ]
    }
   ],
   "source": [
    "# Textual Interpreter\n",
    "interpretation = causal_estimate_match.interpret(method_name=\"textual_effect_interpreter\")"
   ]
  },
  {
   "cell_type": "markdown",
   "id": "2dee668b",
   "metadata": {},
   "source": [
    "Cannot use propensity balance interpretor here since the interpreter method only supports propensity score stratification estimator."
   ]
  },
  {
   "cell_type": "markdown",
   "id": "9741bca9",
   "metadata": {},
   "source": [
    "## Method 3: Weighting\n",
    "\n",
    "We will be using (inverse) propensity scores to assign weights to units in the data. DoWhy supports a few different weighting schemes:\n",
    "1. Vanilla Inverse Propensity Score weighting (IPS) (weighting_scheme=\"ips_weight\")\n",
    "2. Self-normalized IPS weighting (also known as the Hajek estimator) (weighting_scheme=\"ips_normalized_weight\")\n",
    "3. Stabilized IPS weighting (weighting_scheme = \"ips_stabilized_weight\")"
   ]
  },
  {
   "cell_type": "code",
   "execution_count": 13,
   "id": "28da2ba5",
   "metadata": {
    "execution": {
     "iopub.execute_input": "2022-03-20T14:45:13.001128Z",
     "iopub.status.busy": "2022-03-20T14:45:12.999943Z",
     "iopub.status.idle": "2022-03-20T14:45:13.170409Z",
     "shell.execute_reply": "2022-03-20T14:45:13.171422Z"
    }
   },
   "outputs": [
    {
     "name": "stdout",
     "output_type": "stream",
     "text": [
      "propensity_score_weighting\n"
     ]
    },
    {
     "name": "stdout",
     "output_type": "stream",
     "text": [
      "*** Causal Estimate ***\n",
      "\n",
      "## Identified estimand\n",
      "Estimand type: nonparametric-ate\n",
      "\n",
      "### Estimand : 1\n",
      "Estimand name: backdoor\n",
      "Estimand expression:\n",
      "  d                                 \n",
      "─────(Expectation(y|W1,W0,W2,W3,W4))\n",
      "d[v₀]                               \n",
      "Estimand assumption 1, Unconfoundedness: If U→{v0} and U→y then P(y|v0,W1,W0,W2,W3,W4,U) = P(y|v0,W1,W0,W2,W3,W4)\n",
      "\n",
      "## Realized estimand\n",
      "b: y~v0+W1+W0+W2+W3+W4\n",
      "Target units: ate\n",
      "\n",
      "## Estimate\n",
      "Mean value: 1.7998696260544575\n",
      "\n",
      "Causal Estimate is 1.7998696260544575\n"
     ]
    },
    {
     "name": "stderr",
     "output_type": "stream",
     "text": [
      "/home/amshar/python-environments/vpy38/lib/python3.8/site-packages/sklearn/utils/validation.py:63: DataConversionWarning: A column-vector y was passed when a 1d array was expected. Please change the shape of y to (n_samples, ), for example using ravel().\n",
      "  return f(*args, **kwargs)\n"
     ]
    }
   ],
   "source": [
    "causal_estimate_ipw = model.estimate_effect(identified_estimand,\n",
    "                                            method_name=\"backdoor.propensity_score_weighting\",\n",
    "                                            target_units = \"ate\",\n",
    "                                            method_params={\"weighting_scheme\":\"ips_weight\"})\n",
    "print(causal_estimate_ipw)\n",
    "print(\"Causal Estimate is \" + str(causal_estimate_ipw.value))"
   ]
  },
  {
   "cell_type": "code",
   "execution_count": 14,
   "id": "a8005986",
   "metadata": {
    "execution": {
     "iopub.execute_input": "2022-03-20T14:45:13.179058Z",
     "iopub.status.busy": "2022-03-20T14:45:13.177791Z",
     "iopub.status.idle": "2022-03-20T14:45:13.263509Z",
     "shell.execute_reply": "2022-03-20T14:45:13.264087Z"
    }
   },
   "outputs": [
    {
     "name": "stdout",
     "output_type": "stream",
     "text": [
      "Increasing the treatment variable(s) [v0] from 0 to 1 causes an increase of 1.7998696260544575 in the expected value of the outcome [y], over the data distribution/population represented by the dataset.\n"
     ]
    }
   ],
   "source": [
    "# Textual Interpreter\n",
    "interpretation = causal_estimate_ipw.interpret(method_name=\"textual_effect_interpreter\")"
   ]
  },
  {
   "cell_type": "code",
   "execution_count": 15,
   "id": "90cdf240",
   "metadata": {
    "execution": {
     "iopub.execute_input": "2022-03-20T14:45:13.268418Z",
     "iopub.status.busy": "2022-03-20T14:45:13.267766Z",
     "iopub.status.idle": "2022-03-20T14:45:13.629699Z",
     "shell.execute_reply": "2022-03-20T14:45:13.630603Z"
    }
   },
   "outputs": [
    {
     "data": {
      "image/png": "[encoded data removed]",
      "text/plain": [
       "<Figure size 576x576 with 2 Axes>"
      ]
     },
     "metadata": {},
     "output_type": "display_data"
    }
   ],
   "source": [
    "interpretation = causal_estimate_ipw.interpret(method_name=\"confounder_distribution_interpreter\", fig_size=(8,8), font_size=12, var_name='W4', var_type='discrete')"
   ]
  },
  {
   "cell_type": "code",
   "execution_count": null,
   "id": "256d7611",
   "metadata": {},
   "outputs": [],
   "source": []
  }
 ],
 "metadata": {
  "kernelspec": {
   "display_name": "Python 3",
   "language": "python",
   "name": "python3"
  },
  "language_info": {
   "codemirror_mode": {
    "name": "ipython",
    "version": 3
   },
   "file_extension": ".py",
   "mimetype": "text/x-python",
   "name": "python",
   "nbconvert_exporter": "python",
   "pygments_lexer": "ipython3",
   "version": "3.8.12"
  },
  "toc": {
   "base_numbering": 1,
   "nav_menu": {},
   "number_sections": false,
   "sideBar": true,
   "skip_h1_title": true,
   "title_cell": "Table of Contents",
   "title_sidebar": "Contents",
   "toc_cell": false,
   "toc_position": {},
   "toc_section_display": true,
   "toc_window_display": false
  }
 },
 "nbformat": 4,
 "nbformat_minor": 5
}
