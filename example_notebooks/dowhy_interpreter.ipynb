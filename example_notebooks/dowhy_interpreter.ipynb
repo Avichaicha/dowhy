{
 "cells": [
  {
   "cell_type": "markdown",
   "id": "aa7893a7",
   "metadata": {},
   "source": [
    "# DoWhy: Interpreters for Causal Estimators\n",
    "\n",
    "This is a quick introduction to the use of interpreters in the DoWhy causal inference library.\n",
    "We will load in a sample dataset, use different methods for estimating the causal effect of a (pre-specified)treatment variable on a (pre-specified) outcome variable and demonstrate how to interpret the obtained results.\n",
    "\n",
    "First, let us add the required path for Python to find the DoWhy code and load all required packages"
   ]
  },
  {
   "cell_type": "code",
   "execution_count": 1,
   "id": "aee7f04a",
   "metadata": {
    "execution": {
     "iopub.execute_input": "2022-06-30T16:58:56.279482Z",
     "iopub.status.busy": "2022-06-30T16:58:56.273074Z",
     "iopub.status.idle": "2022-06-30T16:58:56.322033Z",
     "shell.execute_reply": "2022-06-30T16:58:56.320542Z"
    }
   },
   "outputs": [],
   "source": [
    "%load_ext autoreload\n",
    "%autoreload 2"
   ]
  },
  {
   "cell_type": "code",
   "execution_count": 2,
   "id": "12fc75b0",
   "metadata": {
    "execution": {
     "iopub.execute_input": "2022-06-30T16:58:56.329277Z",
     "iopub.status.busy": "2022-06-30T16:58:56.328356Z",
     "iopub.status.idle": "2022-06-30T16:58:59.225420Z",
     "shell.execute_reply": "2022-06-30T16:58:59.226435Z"
    }
   },
   "outputs": [],
   "source": [
    "import numpy as np\n",
    "import pandas as pd\n",
    "import logging\n",
    "\n",
    "import dowhy\n",
    "from dowhy import CausalModel\n",
    "import dowhy.datasets "
   ]
  },
  {
   "cell_type": "markdown",
   "id": "cf5006a9",
   "metadata": {},
   "source": [
    "Now, let us load a dataset. For simplicity, we simulate a dataset with linear relationships between common causes and treatment, and common causes and outcome.\n",
    "\n",
    "Beta is the true causal effect."
   ]
  },
  {
   "cell_type": "code",
   "execution_count": 3,
   "id": "de20f16a",
   "metadata": {
    "execution": {
     "iopub.execute_input": "2022-06-30T16:58:59.234669Z",
     "iopub.status.busy": "2022-06-30T16:58:59.233264Z",
     "iopub.status.idle": "2022-06-30T16:58:59.848066Z",
     "shell.execute_reply": "2022-06-30T16:58:59.849099Z"
    }
   },
   "outputs": [
    {
     "name": "stdout",
     "output_type": "stream",
     "text": [
      "8298\n"
     ]
    },
    {
     "data": {
      "text/html": [
       "<div>\n",
       "<style scoped>\n",
       "    .dataframe tbody tr th:only-of-type {\n",
       "        vertical-align: middle;\n",
       "    }\n",
       "\n",
       "    .dataframe tbody tr th {\n",
       "        vertical-align: top;\n",
       "    }\n",
       "\n",
       "    .dataframe thead th {\n",
       "        text-align: right;\n",
       "    }\n",
       "</style>\n",
       "<table border=\"1\" class=\"dataframe\">\n",
       "  <thead>\n",
       "    <tr style=\"text-align: right;\">\n",
       "      <th></th>\n",
       "      <th>Z0</th>\n",
       "      <th>Z1</th>\n",
       "      <th>W0</th>\n",
       "      <th>W1</th>\n",
       "      <th>W2</th>\n",
       "      <th>W3</th>\n",
       "      <th>W4</th>\n",
       "      <th>v0</th>\n",
       "      <th>y</th>\n",
       "    </tr>\n",
       "  </thead>\n",
       "  <tbody>\n",
       "    <tr>\n",
       "      <th>0</th>\n",
       "      <td>0.0</td>\n",
       "      <td>0.545902</td>\n",
       "      <td>-0.302163</td>\n",
       "      <td>1.644772</td>\n",
       "      <td>0.073330</td>\n",
       "      <td>-0.099467</td>\n",
       "      <td>1</td>\n",
       "      <td>True</td>\n",
       "      <td>1.529758</td>\n",
       "    </tr>\n",
       "    <tr>\n",
       "      <th>1</th>\n",
       "      <td>0.0</td>\n",
       "      <td>0.320325</td>\n",
       "      <td>-0.681440</td>\n",
       "      <td>0.090497</td>\n",
       "      <td>0.763261</td>\n",
       "      <td>-1.455273</td>\n",
       "      <td>3</td>\n",
       "      <td>True</td>\n",
       "      <td>1.957356</td>\n",
       "    </tr>\n",
       "    <tr>\n",
       "      <th>2</th>\n",
       "      <td>0.0</td>\n",
       "      <td>0.547674</td>\n",
       "      <td>0.865546</td>\n",
       "      <td>0.456019</td>\n",
       "      <td>-0.895032</td>\n",
       "      <td>-0.775293</td>\n",
       "      <td>3</td>\n",
       "      <td>True</td>\n",
       "      <td>2.104675</td>\n",
       "    </tr>\n",
       "    <tr>\n",
       "      <th>3</th>\n",
       "      <td>0.0</td>\n",
       "      <td>0.109228</td>\n",
       "      <td>-0.236762</td>\n",
       "      <td>1.351191</td>\n",
       "      <td>2.493054</td>\n",
       "      <td>0.339362</td>\n",
       "      <td>2</td>\n",
       "      <td>True</td>\n",
       "      <td>2.537201</td>\n",
       "    </tr>\n",
       "    <tr>\n",
       "      <th>4</th>\n",
       "      <td>1.0</td>\n",
       "      <td>0.140427</td>\n",
       "      <td>0.468774</td>\n",
       "      <td>0.486227</td>\n",
       "      <td>0.581387</td>\n",
       "      <td>1.448767</td>\n",
       "      <td>1</td>\n",
       "      <td>True</td>\n",
       "      <td>1.823609</td>\n",
       "    </tr>\n",
       "    <tr>\n",
       "      <th>...</th>\n",
       "      <td>...</td>\n",
       "      <td>...</td>\n",
       "      <td>...</td>\n",
       "      <td>...</td>\n",
       "      <td>...</td>\n",
       "      <td>...</td>\n",
       "      <td>...</td>\n",
       "      <td>...</td>\n",
       "      <td>...</td>\n",
       "    </tr>\n",
       "    <tr>\n",
       "      <th>9995</th>\n",
       "      <td>0.0</td>\n",
       "      <td>0.232127</td>\n",
       "      <td>1.136705</td>\n",
       "      <td>0.383676</td>\n",
       "      <td>-0.748315</td>\n",
       "      <td>0.285827</td>\n",
       "      <td>1</td>\n",
       "      <td>True</td>\n",
       "      <td>1.604582</td>\n",
       "    </tr>\n",
       "    <tr>\n",
       "      <th>9996</th>\n",
       "      <td>0.0</td>\n",
       "      <td>0.748771</td>\n",
       "      <td>-0.781641</td>\n",
       "      <td>0.218450</td>\n",
       "      <td>-0.578777</td>\n",
       "      <td>-1.074086</td>\n",
       "      <td>3</td>\n",
       "      <td>True</td>\n",
       "      <td>1.595329</td>\n",
       "    </tr>\n",
       "    <tr>\n",
       "      <th>9997</th>\n",
       "      <td>0.0</td>\n",
       "      <td>0.538217</td>\n",
       "      <td>0.877200</td>\n",
       "      <td>1.235303</td>\n",
       "      <td>0.486287</td>\n",
       "      <td>0.646654</td>\n",
       "      <td>2</td>\n",
       "      <td>True</td>\n",
       "      <td>2.360787</td>\n",
       "    </tr>\n",
       "    <tr>\n",
       "      <th>9998</th>\n",
       "      <td>0.0</td>\n",
       "      <td>0.625866</td>\n",
       "      <td>-1.176582</td>\n",
       "      <td>-0.605094</td>\n",
       "      <td>-0.862847</td>\n",
       "      <td>-0.338089</td>\n",
       "      <td>2</td>\n",
       "      <td>True</td>\n",
       "      <td>0.924417</td>\n",
       "    </tr>\n",
       "    <tr>\n",
       "      <th>9999</th>\n",
       "      <td>0.0</td>\n",
       "      <td>0.137491</td>\n",
       "      <td>0.526823</td>\n",
       "      <td>0.114569</td>\n",
       "      <td>1.595412</td>\n",
       "      <td>-0.588889</td>\n",
       "      <td>2</td>\n",
       "      <td>True</td>\n",
       "      <td>2.300710</td>\n",
       "    </tr>\n",
       "  </tbody>\n",
       "</table>\n",
       "<p>10000 rows × 9 columns</p>\n",
       "</div>"
      ],
      "text/plain": [
       "       Z0        Z1        W0        W1        W2        W3 W4    v0         y\n",
       "0     0.0  0.545902 -0.302163  1.644772  0.073330 -0.099467  1  True  1.529758\n",
       "1     0.0  0.320325 -0.681440  0.090497  0.763261 -1.455273  3  True  1.957356\n",
       "2     0.0  0.547674  0.865546  0.456019 -0.895032 -0.775293  3  True  2.104675\n",
       "3     0.0  0.109228 -0.236762  1.351191  2.493054  0.339362  2  True  2.537201\n",
       "4     1.0  0.140427  0.468774  0.486227  0.581387  1.448767  1  True  1.823609\n",
       "...   ...       ...       ...       ...       ...       ... ..   ...       ...\n",
       "9995  0.0  0.232127  1.136705  0.383676 -0.748315  0.285827  1  True  1.604582\n",
       "9996  0.0  0.748771 -0.781641  0.218450 -0.578777 -1.074086  3  True  1.595329\n",
       "9997  0.0  0.538217  0.877200  1.235303  0.486287  0.646654  2  True  2.360787\n",
       "9998  0.0  0.625866 -1.176582 -0.605094 -0.862847 -0.338089  2  True  0.924417\n",
       "9999  0.0  0.137491  0.526823  0.114569  1.595412 -0.588889  2  True  2.300710\n",
       "\n",
       "[10000 rows x 9 columns]"
      ]
     },
     "execution_count": 3,
     "metadata": {},
     "output_type": "execute_result"
    }
   ],
   "source": [
    "data = dowhy.datasets.linear_dataset(beta=1,\n",
    "        num_common_causes=5, \n",
    "        num_instruments = 2,\n",
    "        num_treatments=1,\n",
    "        num_discrete_common_causes=1,\n",
    "        num_samples=10000,\n",
    "        treatment_is_binary=True,\n",
    "        outcome_is_binary=False)\n",
    "df = data[\"df\"]\n",
    "print(df[df.v0==True].shape[0])\n",
    "df"
   ]
  },
  {
   "cell_type": "markdown",
   "id": "5ce8adbf",
   "metadata": {},
   "source": [
    "Note that we are using a pandas dataframe to load the data."
   ]
  },
  {
   "cell_type": "markdown",
   "id": "40966c07",
   "metadata": {},
   "source": [
    "## Identifying the causal estimand"
   ]
  },
  {
   "cell_type": "markdown",
   "id": "969d6522",
   "metadata": {},
   "source": [
    "We now input a causal graph in the GML graph format."
   ]
  },
  {
   "cell_type": "code",
   "execution_count": 4,
   "id": "d6f6b34b",
   "metadata": {
    "execution": {
     "iopub.execute_input": "2022-06-30T16:58:59.859113Z",
     "iopub.status.busy": "2022-06-30T16:58:59.857777Z",
     "iopub.status.idle": "2022-06-30T16:58:59.942297Z",
     "shell.execute_reply": "2022-06-30T16:58:59.941488Z"
    }
   },
   "outputs": [],
   "source": [
    "# With graph\n",
    "model=CausalModel(\n",
    "        data = df,\n",
    "        treatment=data[\"treatment_name\"],\n",
    "        outcome=data[\"outcome_name\"],\n",
    "        graph=data[\"gml_graph\"],\n",
    "        instruments=data[\"instrument_names\"]\n",
    "        )"
   ]
  },
  {
   "cell_type": "code",
   "execution_count": 5,
   "id": "ac5feba6",
   "metadata": {
    "execution": {
     "iopub.execute_input": "2022-06-30T16:58:59.947833Z",
     "iopub.status.busy": "2022-06-30T16:58:59.947052Z",
     "iopub.status.idle": "2022-06-30T16:59:00.192247Z",
     "shell.execute_reply": "2022-06-30T16:59:00.193228Z"
    }
   },
   "outputs": [],
   "source": [
    "model.view_model()"
   ]
  },
  {
   "cell_type": "code",
   "execution_count": 6,
   "id": "fdead9b2",
   "metadata": {
    "execution": {
     "iopub.execute_input": "2022-06-30T16:59:00.200321Z",
     "iopub.status.busy": "2022-06-30T16:59:00.198990Z",
     "iopub.status.idle": "2022-06-30T16:59:00.254935Z",
     "shell.execute_reply": "2022-06-30T16:59:00.256010Z"
    }
   },
   "outputs": [
    {
     "data": {
      "image/png": "[encoded data removed]",
      "text/plain": [
       "<IPython.core.display.Image object>"
      ]
     },
     "metadata": {},
     "output_type": "display_data"
    }
   ],
   "source": [
    "from IPython.display import Image, display\n",
    "display(Image(filename=\"causal_model.png\"))"
   ]
  },
  {
   "cell_type": "markdown",
   "id": "891c4174",
   "metadata": {},
   "source": [
    "We get a causal graph. Now identification and estimation is done."
   ]
  },
  {
   "cell_type": "code",
   "execution_count": 7,
   "id": "444f4712",
   "metadata": {
    "execution": {
     "iopub.execute_input": "2022-06-30T16:59:00.263304Z",
     "iopub.status.busy": "2022-06-30T16:59:00.261980Z",
     "iopub.status.idle": "2022-06-30T16:59:00.343520Z",
     "shell.execute_reply": "2022-06-30T16:59:00.342152Z"
    }
   },
   "outputs": [
    {
     "name": "stdout",
     "output_type": "stream",
     "text": [
      "Estimand type: nonparametric-ate\n",
      "\n",
      "### Estimand : 1\n",
      "Estimand name: backdoor\n",
      "Estimand expression:\n",
      "  d                                 \n",
      "─────(Expectation(y|W2,W3,W1,W4,W0))\n",
      "d[v₀]                               \n",
      "Estimand assumption 1, Unconfoundedness: If U→{v0} and U→y then P(y|v0,W2,W3,W1,W4,W0,U) = P(y|v0,W2,W3,W1,W4,W0)\n",
      "\n",
      "### Estimand : 2\n",
      "Estimand name: iv\n",
      "Estimand expression:\n",
      "Expectation(Derivative(y, [Z1, Z0])*Derivative([v0], [Z1, Z0])**(-1))\n",
      "Estimand assumption 1, As-if-random: If U→→y then ¬(U →→{Z1,Z0})\n",
      "Estimand assumption 2, Exclusion: If we remove {Z1,Z0}→{v0}, then ¬({Z1,Z0}→y)\n",
      "\n",
      "### Estimand : 3\n",
      "Estimand name: frontdoor\n",
      "No such variable(s) found!\n",
      "\n"
     ]
    }
   ],
   "source": [
    "identified_estimand = model.identify_effect(proceed_when_unidentifiable=True)\n",
    "print(identified_estimand)"
   ]
  },
  {
   "cell_type": "markdown",
   "id": "b1a89052",
   "metadata": {},
   "source": [
    "## Method 1: Propensity Score Stratification\n",
    "\n",
    "We will be using propensity scores to stratify units in the data."
   ]
  },
  {
   "cell_type": "code",
   "execution_count": 8,
   "id": "8bf3837b",
   "metadata": {
    "execution": {
     "iopub.execute_input": "2022-06-30T16:59:00.351025Z",
     "iopub.status.busy": "2022-06-30T16:59:00.349671Z",
     "iopub.status.idle": "2022-06-30T16:59:01.564330Z",
     "shell.execute_reply": "2022-06-30T16:59:01.565411Z"
    }
   },
   "outputs": [
    {
     "name": "stdout",
     "output_type": "stream",
     "text": [
      "propensity_score_stratification\n"
     ]
    },
    {
     "name": "stderr",
     "output_type": "stream",
     "text": [
      "/home/amshar/python-environments/vpy38/lib/python3.8/site-packages/sklearn/utils/validation.py:63: DataConversionWarning: A column-vector y was passed when a 1d array was expected. Please change the shape of y to (n_samples, ), for example using ravel().\n",
      "  return f(*args, **kwargs)\n"
     ]
    },
    {
     "name": "stdout",
     "output_type": "stream",
     "text": [
      "*** Causal Estimate ***\n",
      "\n",
      "## Identified estimand\n",
      "Estimand type: nonparametric-ate\n",
      "\n",
      "### Estimand : 1\n",
      "Estimand name: backdoor\n",
      "Estimand expression:\n",
      "  d                                 \n",
      "─────(Expectation(y|W2,W3,W1,W4,W0))\n",
      "d[v₀]                               \n",
      "Estimand assumption 1, Unconfoundedness: If U→{v0} and U→y then P(y|v0,W2,W3,W1,W4,W0,U) = P(y|v0,W2,W3,W1,W4,W0)\n",
      "\n",
      "## Realized estimand\n",
      "b: y~v0+W2+W3+W1+W4+W0\n",
      "Target units: att\n",
      "\n",
      "## Estimate\n",
      "Mean value: 1.003249582449449\n",
      "\n",
      "Causal Estimate is 1.003249582449449\n"
     ]
    }
   ],
   "source": [
    "causal_estimate_strat = model.estimate_effect(identified_estimand,\n",
    "                                              method_name=\"backdoor.propensity_score_stratification\",\n",
    "                                              target_units=\"att\")\n",
    "print(causal_estimate_strat)\n",
    "print(\"Causal Estimate is \" + str(causal_estimate_strat.value))"
   ]
  },
  {
   "cell_type": "markdown",
   "id": "8210c721",
   "metadata": {},
   "source": [
    "### Textual Interpreter\n",
    "\n",
    "The textual Interpreter describes (in words) the effect of unit change in the treatment variable on the outcome variable."
   ]
  },
  {
   "cell_type": "code",
   "execution_count": 9,
   "id": "4a4570b8",
   "metadata": {
    "execution": {
     "iopub.execute_input": "2022-06-30T16:59:01.572336Z",
     "iopub.status.busy": "2022-06-30T16:59:01.571052Z",
     "iopub.status.idle": "2022-06-30T16:59:01.650301Z",
     "shell.execute_reply": "2022-06-30T16:59:01.649140Z"
    }
   },
   "outputs": [
    {
     "name": "stdout",
     "output_type": "stream",
     "text": [
      "Increasing the treatment variable(s) [v0] from 0 to 1 causes an increase of 1.003249582449449 in the expected value of the outcome [y], over the data distribution/population represented by the dataset.\n"
     ]
    }
   ],
   "source": [
    "# Textual Interpreter\n",
    "interpretation = causal_estimate_strat.interpret(method_name=\"textual_effect_interpreter\")"
   ]
  },
  {
   "cell_type": "markdown",
   "id": "0f8caeaf",
   "metadata": {},
   "source": [
    "### Visual Interpreter\n",
    "\n",
    "The visual interpreter plots the change in the standardized mean difference (SMD) before and after Propensity Score based adjustment of the dataset. The formula for SMD is given below.\n",
    "\n",
    "\n",
    "$SMD = \\frac{\\bar X_{1} - \\bar X_{2}}{\\sqrt{(S_{1}^{2} + S_{2}^{2})/2}}$\n",
    "\n",
    "Here, $\\bar X_{1}$ and $\\bar X_{2}$ are the sample mean for the treated and control groups.\n"
   ]
  },
  {
   "cell_type": "code",
   "execution_count": 10,
   "id": "cbedc030",
   "metadata": {
    "execution": {
     "iopub.execute_input": "2022-06-30T16:59:01.656915Z",
     "iopub.status.busy": "2022-06-30T16:59:01.655630Z",
     "iopub.status.idle": "2022-06-30T16:59:02.681372Z",
     "shell.execute_reply": "2022-06-30T16:59:02.682312Z"
    }
   },
   "outputs": [
    {
     "data": {
      "image/png": "[encoded data removed]",
      "text/plain": [
       "<Figure size 432x288 with 1 Axes>"
      ]
     },
     "metadata": {},
     "output_type": "display_data"
    }
   ],
   "source": [
    "# Visual Interpreter\n",
    "interpretation = causal_estimate_strat.interpret(method_name=\"propensity_balance_interpreter\")"
   ]
  },
  {
   "cell_type": "markdown",
   "id": "2c00f7dd",
   "metadata": {},
   "source": [
    "This plot shows how the SMD decreases from the unadjusted to the stratified units. "
   ]
  },
  {
   "cell_type": "markdown",
   "id": "fcd21795",
   "metadata": {},
   "source": [
    "## Method 2: Propensity Score Matching\n",
    "\n",
    "We will be using propensity scores to match units in the data."
   ]
  },
  {
   "cell_type": "code",
   "execution_count": 11,
   "id": "e5df8edc",
   "metadata": {
    "execution": {
     "iopub.execute_input": "2022-06-30T16:59:02.691854Z",
     "iopub.status.busy": "2022-06-30T16:59:02.690549Z",
     "iopub.status.idle": "2022-06-30T16:59:08.002312Z",
     "shell.execute_reply": "2022-06-30T16:59:08.003337Z"
    }
   },
   "outputs": [
    {
     "name": "stdout",
     "output_type": "stream",
     "text": [
      "propensity_score_matching\n"
     ]
    },
    {
     "name": "stderr",
     "output_type": "stream",
     "text": [
      "/home/amshar/python-environments/vpy38/lib/python3.8/site-packages/sklearn/utils/validation.py:63: DataConversionWarning: A column-vector y was passed when a 1d array was expected. Please change the shape of y to (n_samples, ), for example using ravel().\n",
      "  return f(*args, **kwargs)\n"
     ]
    },
    {
     "name": "stdout",
     "output_type": "stream",
     "text": [
      "*** Causal Estimate ***\n",
      "\n",
      "## Identified estimand\n",
      "Estimand type: nonparametric-ate\n",
      "\n",
      "### Estimand : 1\n",
      "Estimand name: backdoor\n",
      "Estimand expression:\n",
      "  d                                 \n",
      "─────(Expectation(y|W2,W3,W1,W4,W0))\n",
      "d[v₀]                               \n",
      "Estimand assumption 1, Unconfoundedness: If U→{v0} and U→y then P(y|v0,W2,W3,W1,W4,W0,U) = P(y|v0,W2,W3,W1,W4,W0)\n",
      "\n",
      "## Realized estimand\n",
      "b: y~v0+W2+W3+W1+W4+W0\n",
      "Target units: atc\n",
      "\n",
      "## Estimate\n",
      "Mean value: 1.0113310032131548\n",
      "\n",
      "Causal Estimate is 1.0113310032131548\n"
     ]
    }
   ],
   "source": [
    "causal_estimate_match = model.estimate_effect(identified_estimand,\n",
    "                                              method_name=\"backdoor.propensity_score_matching\",\n",
    "                                              target_units=\"atc\")\n",
    "print(causal_estimate_match)\n",
    "print(\"Causal Estimate is \" + str(causal_estimate_match.value))"
   ]
  },
  {
   "cell_type": "code",
   "execution_count": 12,
   "id": "10d747c5",
   "metadata": {
    "execution": {
     "iopub.execute_input": "2022-06-30T16:59:08.010616Z",
     "iopub.status.busy": "2022-06-30T16:59:08.009336Z",
     "iopub.status.idle": "2022-06-30T16:59:08.064884Z",
     "shell.execute_reply": "2022-06-30T16:59:08.063543Z"
    }
   },
   "outputs": [
    {
     "name": "stdout",
     "output_type": "stream",
     "text": [
      "Increasing the treatment variable(s) [v0] from 0 to 1 causes an increase of 1.0113310032131548 in the expected value of the outcome [y], over the data distribution/population represented by the dataset.\n"
     ]
    }
   ],
   "source": [
    "# Textual Interpreter\n",
    "interpretation = causal_estimate_match.interpret(method_name=\"textual_effect_interpreter\")"
   ]
  },
  {
   "cell_type": "markdown",
   "id": "bdd496b1",
   "metadata": {},
   "source": [
    "Cannot use propensity balance interpretor here since the interpreter method only supports propensity score stratification estimator."
   ]
  },
  {
   "cell_type": "markdown",
   "id": "3f30a2b9",
   "metadata": {},
   "source": [
    "## Method 3: Weighting\n",
    "\n",
    "We will be using (inverse) propensity scores to assign weights to units in the data. DoWhy supports a few different weighting schemes:\n",
    "1. Vanilla Inverse Propensity Score weighting (IPS) (weighting_scheme=\"ips_weight\")\n",
    "2. Self-normalized IPS weighting (also known as the Hajek estimator) (weighting_scheme=\"ips_normalized_weight\")\n",
    "3. Stabilized IPS weighting (weighting_scheme = \"ips_stabilized_weight\")"
   ]
  },
  {
   "cell_type": "code",
   "execution_count": 13,
   "id": "30887503",
   "metadata": {
    "execution": {
     "iopub.execute_input": "2022-06-30T16:59:08.072513Z",
     "iopub.status.busy": "2022-06-30T16:59:08.071197Z",
     "iopub.status.idle": "2022-06-30T16:59:08.219667Z",
     "shell.execute_reply": "2022-06-30T16:59:08.220553Z"
    }
   },
   "outputs": [
    {
     "name": "stdout",
     "output_type": "stream",
     "text": [
      "propensity_score_weighting\n"
     ]
    },
    {
     "name": "stdout",
     "output_type": "stream",
     "text": [
      "*** Causal Estimate ***\n",
      "\n",
      "## Identified estimand\n",
      "Estimand type: nonparametric-ate\n",
      "\n",
      "### Estimand : 1\n",
      "Estimand name: backdoor\n",
      "Estimand expression:\n",
      "  d                                 \n",
      "─────(Expectation(y|W2,W3,W1,W4,W0))\n",
      "d[v₀]                               \n",
      "Estimand assumption 1, Unconfoundedness: If U→{v0} and U→y then P(y|v0,W2,W3,W1,W4,W0,U) = P(y|v0,W2,W3,W1,W4,W0)\n",
      "\n",
      "## Realized estimand\n",
      "b: y~v0+W2+W3+W1+W4+W0\n",
      "Target units: ate\n",
      "\n",
      "## Estimate\n",
      "Mean value: 1.1580232724976605\n",
      "\n",
      "Causal Estimate is 1.1580232724976605\n"
     ]
    },
    {
     "name": "stderr",
     "output_type": "stream",
     "text": [
      "/home/amshar/python-environments/vpy38/lib/python3.8/site-packages/sklearn/utils/validation.py:63: DataConversionWarning: A column-vector y was passed when a 1d array was expected. Please change the shape of y to (n_samples, ), for example using ravel().\n",
      "  return f(*args, **kwargs)\n"
     ]
    }
   ],
   "source": [
    "causal_estimate_ipw = model.estimate_effect(identified_estimand,\n",
    "                                            method_name=\"backdoor.propensity_score_weighting\",\n",
    "                                            target_units = \"ate\",\n",
    "                                            method_params={\"weighting_scheme\":\"ips_weight\"})\n",
    "print(causal_estimate_ipw)\n",
    "print(\"Causal Estimate is \" + str(causal_estimate_ipw.value))"
   ]
  },
  {
   "cell_type": "code",
   "execution_count": 14,
   "id": "b5c73355",
   "metadata": {
    "execution": {
     "iopub.execute_input": "2022-06-30T16:59:08.227817Z",
     "iopub.status.busy": "2022-06-30T16:59:08.226646Z",
     "iopub.status.idle": "2022-06-30T16:59:08.335988Z",
     "shell.execute_reply": "2022-06-30T16:59:08.335357Z"
    }
   },
   "outputs": [
    {
     "name": "stdout",
     "output_type": "stream",
     "text": [
      "Increasing the treatment variable(s) [v0] from 0 to 1 causes an increase of 1.1580232724976605 in the expected value of the outcome [y], over the data distribution/population represented by the dataset.\n"
     ]
    }
   ],
   "source": [
    "# Textual Interpreter\n",
    "interpretation = causal_estimate_ipw.interpret(method_name=\"textual_effect_interpreter\")"
   ]
  },
  {
   "cell_type": "code",
   "execution_count": 15,
   "id": "01497f86",
   "metadata": {
    "execution": {
     "iopub.execute_input": "2022-06-30T16:59:08.341401Z",
     "iopub.status.busy": "2022-06-30T16:59:08.340664Z",
     "iopub.status.idle": "2022-06-30T16:59:08.720349Z",
     "shell.execute_reply": "2022-06-30T16:59:08.719044Z"
    }
   },
   "outputs": [
    {
     "data": {
      "image/png": "[encoded data removed]",
      "text/plain": [
       "<Figure size 576x576 with 2 Axes>"
      ]
     },
     "metadata": {},
     "output_type": "display_data"
    }
   ],
   "source": [
    "interpretation = causal_estimate_ipw.interpret(method_name=\"confounder_distribution_interpreter\", fig_size=(8,8), font_size=12, var_name='W4', var_type='discrete')"
   ]
  },
  {
   "cell_type": "code",
   "execution_count": null,
   "id": "b1835fbc",
   "metadata": {},
   "outputs": [],
   "source": []
  }
 ],
 "metadata": {
  "kernelspec": {
   "display_name": "Python 3",
   "language": "python",
   "name": "python3"
  },
  "language_info": {
   "codemirror_mode": {
    "name": "ipython",
    "version": 3
   },
   "file_extension": ".py",
   "mimetype": "text/x-python",
   "name": "python",
   "nbconvert_exporter": "python",
   "pygments_lexer": "ipython3",
   "version": "3.8.12"
  },
  "toc": {
   "base_numbering": 1,
   "nav_menu": {},
   "number_sections": false,
   "sideBar": true,
   "skip_h1_title": true,
   "title_cell": "Table of Contents",
   "title_sidebar": "Contents",
   "toc_cell": false,
   "toc_position": {},
   "toc_section_display": true,
   "toc_window_display": false
  }
 },
 "nbformat": 4,
 "nbformat_minor": 5
}
