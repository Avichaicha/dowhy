{
 "cells": [
  {
   "cell_type": "markdown",
   "metadata": {},
   "source": [
    "# Demo for the DoWhy causal API\n",
    "We show a simple example of adding a causal extension to any dataframe. "
   ]
  },
  {
   "cell_type": "code",
   "execution_count": 1,
   "metadata": {
    "execution": {
     "iopub.execute_input": "2022-07-28T13:26:10.876793Z",
     "iopub.status.busy": "2022-07-28T13:26:10.876504Z",
     "iopub.status.idle": "2022-07-28T13:26:12.147896Z",
     "shell.execute_reply": "2022-07-28T13:26:12.146995Z"
    }
   },
   "outputs": [
    {
     "name": "stdout",
     "output_type": "stream",
     "text": [
      "keywords are unexpanded, not using\n"
     ]
    }
   ],
   "source": [
    "import dowhy.datasets\n",
    "import dowhy.api\n",
    "\n",
    "import numpy as np\n",
    "import pandas as pd\n",
    "\n",
    "from statsmodels.api import OLS"
   ]
  },
  {
   "cell_type": "code",
   "execution_count": 2,
   "metadata": {
    "execution": {
     "iopub.execute_input": "2022-07-28T13:26:12.152528Z",
     "iopub.status.busy": "2022-07-28T13:26:12.151793Z",
     "iopub.status.idle": "2022-07-28T13:26:12.208879Z",
     "shell.execute_reply": "2022-07-28T13:26:12.208149Z"
    }
   },
   "outputs": [
    {
     "data": {
      "text/html": [
       "<div>\n",
       "<style scoped>\n",
       "    .dataframe tbody tr th:only-of-type {\n",
       "        vertical-align: middle;\n",
       "    }\n",
       "\n",
       "    .dataframe tbody tr th {\n",
       "        vertical-align: top;\n",
       "    }\n",
       "\n",
       "    .dataframe thead th {\n",
       "        text-align: right;\n",
       "    }\n",
       "</style>\n",
       "<table border=\"1\" class=\"dataframe\">\n",
       "  <thead>\n",
       "    <tr style=\"text-align: right;\">\n",
       "      <th></th>\n",
       "      <th>W0</th>\n",
       "      <th>v0</th>\n",
       "      <th>y</th>\n",
       "    </tr>\n",
       "  </thead>\n",
       "  <tbody>\n",
       "    <tr>\n",
       "      <th>0</th>\n",
       "      <td>-0.580539</td>\n",
       "      <td>True</td>\n",
       "      <td>3.737223</td>\n",
       "    </tr>\n",
       "    <tr>\n",
       "      <th>1</th>\n",
       "      <td>-1.264492</td>\n",
       "      <td>True</td>\n",
       "      <td>1.009988</td>\n",
       "    </tr>\n",
       "    <tr>\n",
       "      <th>2</th>\n",
       "      <td>-0.192874</td>\n",
       "      <td>False</td>\n",
       "      <td>-0.747429</td>\n",
       "    </tr>\n",
       "    <tr>\n",
       "      <th>3</th>\n",
       "      <td>0.101457</td>\n",
       "      <td>True</td>\n",
       "      <td>4.045395</td>\n",
       "    </tr>\n",
       "    <tr>\n",
       "      <th>4</th>\n",
       "      <td>-0.318441</td>\n",
       "      <td>False</td>\n",
       "      <td>1.274264</td>\n",
       "    </tr>\n",
       "    <tr>\n",
       "      <th>...</th>\n",
       "      <td>...</td>\n",
       "      <td>...</td>\n",
       "      <td>...</td>\n",
       "    </tr>\n",
       "    <tr>\n",
       "      <th>995</th>\n",
       "      <td>0.542501</td>\n",
       "      <td>False</td>\n",
       "      <td>1.316512</td>\n",
       "    </tr>\n",
       "    <tr>\n",
       "      <th>996</th>\n",
       "      <td>-0.432295</td>\n",
       "      <td>True</td>\n",
       "      <td>3.467243</td>\n",
       "    </tr>\n",
       "    <tr>\n",
       "      <th>997</th>\n",
       "      <td>-1.155777</td>\n",
       "      <td>False</td>\n",
       "      <td>-2.957526</td>\n",
       "    </tr>\n",
       "    <tr>\n",
       "      <th>998</th>\n",
       "      <td>-0.336324</td>\n",
       "      <td>False</td>\n",
       "      <td>-1.651385</td>\n",
       "    </tr>\n",
       "    <tr>\n",
       "      <th>999</th>\n",
       "      <td>0.000756</td>\n",
       "      <td>False</td>\n",
       "      <td>-0.769508</td>\n",
       "    </tr>\n",
       "  </tbody>\n",
       "</table>\n",
       "<p>1000 rows × 3 columns</p>\n",
       "</div>"
      ],
      "text/plain": [
       "           W0     v0         y\n",
       "0   -0.580539   True  3.737223\n",
       "1   -1.264492   True  1.009988\n",
       "2   -0.192874  False -0.747429\n",
       "3    0.101457   True  4.045395\n",
       "4   -0.318441  False  1.274264\n",
       "..        ...    ...       ...\n",
       "995  0.542501  False  1.316512\n",
       "996 -0.432295   True  3.467243\n",
       "997 -1.155777  False -2.957526\n",
       "998 -0.336324  False -1.651385\n",
       "999  0.000756  False -0.769508\n",
       "\n",
       "[1000 rows x 3 columns]"
      ]
     },
     "execution_count": 2,
     "metadata": {},
     "output_type": "execute_result"
    }
   ],
   "source": [
    "data = dowhy.datasets.linear_dataset(beta=5,\n",
    "        num_common_causes=1,\n",
    "        num_instruments = 0,\n",
    "        num_samples=1000,\n",
    "        treatment_is_binary=True)\n",
    "df = data['df']\n",
    "df['y'] = df['y'] + np.random.normal(size=len(df)) # Adding noise to data. Without noise, the variance in Y|X, Z is zero, and mcmc fails.\n",
    "#data['dot_graph'] = 'digraph { v ->y;X0-> v;X0-> y;}'\n",
    "\n",
    "treatment= data[\"treatment_name\"][0]\n",
    "outcome = data[\"outcome_name\"][0]\n",
    "common_cause = data[\"common_causes_names\"][0]\n",
    "df"
   ]
  },
  {
   "cell_type": "code",
   "execution_count": 3,
   "metadata": {
    "execution": {
     "iopub.execute_input": "2022-07-28T13:26:12.212718Z",
     "iopub.status.busy": "2022-07-28T13:26:12.212271Z",
     "iopub.status.idle": "2022-07-28T13:26:13.036523Z",
     "shell.execute_reply": "2022-07-28T13:26:13.035896Z"
    }
   },
   "outputs": [
    {
     "data": {
      "text/plain": [
       "<AxesSubplot:xlabel='v0'>"
      ]
     },
     "execution_count": 3,
     "metadata": {},
     "output_type": "execute_result"
    },
    {
     "data": {
      "image/png": "[encoded data removed]",
      "text/plain": [
       "<Figure size 432x288 with 1 Axes>"
      ]
     },
     "metadata": {
      "needs_background": "light"
     },
     "output_type": "display_data"
    }
   ],
   "source": [
    "# data['df'] is just a regular pandas.DataFrame\n",
    "df.causal.do(x=treatment,\n",
    "                     variable_types={treatment: 'b', outcome: 'c', common_cause: 'c'},\n",
    "                     outcome=outcome,\n",
    "                     common_causes=[common_cause],\n",
    "                     proceed_when_unidentifiable=True).groupby(treatment).mean().plot(y=outcome, kind='bar')"
   ]
  },
  {
   "cell_type": "code",
   "execution_count": 4,
   "metadata": {
    "execution": {
     "iopub.execute_input": "2022-07-28T13:26:13.041597Z",
     "iopub.status.busy": "2022-07-28T13:26:13.040269Z",
     "iopub.status.idle": "2022-07-28T13:26:13.148768Z",
     "shell.execute_reply": "2022-07-28T13:26:13.148165Z"
    }
   },
   "outputs": [
    {
     "data": {
      "text/plain": [
       "<AxesSubplot:xlabel='v0'>"
      ]
     },
     "execution_count": 4,
     "metadata": {},
     "output_type": "execute_result"
    },
    {
     "data": {
      "image/png": "[encoded data removed]",
      "text/plain": [
       "<Figure size 432x288 with 1 Axes>"
      ]
     },
     "metadata": {
      "needs_background": "light"
     },
     "output_type": "display_data"
    }
   ],
   "source": [
    "df.causal.do(x={treatment: 1}, \n",
    "              variable_types={treatment:'b', outcome: 'c', common_cause: 'c'}, \n",
    "              outcome=outcome,\n",
    "              method='weighting', \n",
    "              common_causes=[common_cause],\n",
    "              proceed_when_unidentifiable=True).groupby(treatment).mean().plot(y=outcome, kind='bar')"
   ]
  },
  {
   "cell_type": "code",
   "execution_count": 5,
   "metadata": {
    "execution": {
     "iopub.execute_input": "2022-07-28T13:26:13.153462Z",
     "iopub.status.busy": "2022-07-28T13:26:13.152368Z",
     "iopub.status.idle": "2022-07-28T13:26:13.187913Z",
     "shell.execute_reply": "2022-07-28T13:26:13.187160Z"
    }
   },
   "outputs": [],
   "source": [
    "cdf_1 = df.causal.do(x={treatment: 1}, \n",
    "              variable_types={treatment: 'b', outcome: 'c', common_cause: 'c'}, \n",
    "              outcome=outcome, \n",
    "              dot_graph=data['dot_graph'],\n",
    "              proceed_when_unidentifiable=True)\n",
    "\n",
    "cdf_0 = df.causal.do(x={treatment: 0}, \n",
    "              variable_types={treatment: 'b', outcome: 'c', common_cause: 'c'}, \n",
    "              outcome=outcome, \n",
    "              dot_graph=data['dot_graph'],\n",
    "              proceed_when_unidentifiable=True)\n"
   ]
  },
  {
   "cell_type": "code",
   "execution_count": 6,
   "metadata": {
    "execution": {
     "iopub.execute_input": "2022-07-28T13:26:13.191842Z",
     "iopub.status.busy": "2022-07-28T13:26:13.191403Z",
     "iopub.status.idle": "2022-07-28T13:26:13.203320Z",
     "shell.execute_reply": "2022-07-28T13:26:13.202609Z"
    },
    "scrolled": true
   },
   "outputs": [
    {
     "data": {
      "text/html": [
       "<div>\n",
       "<style scoped>\n",
       "    .dataframe tbody tr th:only-of-type {\n",
       "        vertical-align: middle;\n",
       "    }\n",
       "\n",
       "    .dataframe tbody tr th {\n",
       "        vertical-align: top;\n",
       "    }\n",
       "\n",
       "    .dataframe thead th {\n",
       "        text-align: right;\n",
       "    }\n",
       "</style>\n",
       "<table border=\"1\" class=\"dataframe\">\n",
       "  <thead>\n",
       "    <tr style=\"text-align: right;\">\n",
       "      <th></th>\n",
       "      <th>W0</th>\n",
       "      <th>v0</th>\n",
       "      <th>y</th>\n",
       "      <th>propensity_score</th>\n",
       "      <th>weight</th>\n",
       "    </tr>\n",
       "  </thead>\n",
       "  <tbody>\n",
       "    <tr>\n",
       "      <th>0</th>\n",
       "      <td>-0.781321</td>\n",
       "      <td>False</td>\n",
       "      <td>0.080065</td>\n",
       "      <td>0.651507</td>\n",
       "      <td>1.534902</td>\n",
       "    </tr>\n",
       "    <tr>\n",
       "      <th>1</th>\n",
       "      <td>-1.172325</td>\n",
       "      <td>False</td>\n",
       "      <td>-0.569889</td>\n",
       "      <td>0.713046</td>\n",
       "      <td>1.402435</td>\n",
       "    </tr>\n",
       "    <tr>\n",
       "      <th>2</th>\n",
       "      <td>0.345713</td>\n",
       "      <td>False</td>\n",
       "      <td>-0.172516</td>\n",
       "      <td>0.451522</td>\n",
       "      <td>2.214729</td>\n",
       "    </tr>\n",
       "    <tr>\n",
       "      <th>3</th>\n",
       "      <td>0.170839</td>\n",
       "      <td>False</td>\n",
       "      <td>0.864035</td>\n",
       "      <td>0.483192</td>\n",
       "      <td>2.069571</td>\n",
       "    </tr>\n",
       "    <tr>\n",
       "      <th>4</th>\n",
       "      <td>-1.510178</td>\n",
       "      <td>False</td>\n",
       "      <td>-1.910415</td>\n",
       "      <td>0.760622</td>\n",
       "      <td>1.314714</td>\n",
       "    </tr>\n",
       "    <tr>\n",
       "      <th>...</th>\n",
       "      <td>...</td>\n",
       "      <td>...</td>\n",
       "      <td>...</td>\n",
       "      <td>...</td>\n",
       "      <td>...</td>\n",
       "    </tr>\n",
       "    <tr>\n",
       "      <th>995</th>\n",
       "      <td>0.351293</td>\n",
       "      <td>False</td>\n",
       "      <td>-0.527595</td>\n",
       "      <td>0.450517</td>\n",
       "      <td>2.219671</td>\n",
       "    </tr>\n",
       "    <tr>\n",
       "      <th>996</th>\n",
       "      <td>1.122907</td>\n",
       "      <td>False</td>\n",
       "      <td>1.922839</td>\n",
       "      <td>0.318620</td>\n",
       "      <td>3.138530</td>\n",
       "    </tr>\n",
       "    <tr>\n",
       "      <th>997</th>\n",
       "      <td>-1.513897</td>\n",
       "      <td>False</td>\n",
       "      <td>-4.728532</td>\n",
       "      <td>0.761114</td>\n",
       "      <td>1.313863</td>\n",
       "    </tr>\n",
       "    <tr>\n",
       "      <th>998</th>\n",
       "      <td>1.577619</td>\n",
       "      <td>False</td>\n",
       "      <td>2.119202</td>\n",
       "      <td>0.251424</td>\n",
       "      <td>3.977346</td>\n",
       "    </tr>\n",
       "    <tr>\n",
       "      <th>999</th>\n",
       "      <td>-1.095517</td>\n",
       "      <td>False</td>\n",
       "      <td>-1.425242</td>\n",
       "      <td>0.701474</td>\n",
       "      <td>1.425570</td>\n",
       "    </tr>\n",
       "  </tbody>\n",
       "</table>\n",
       "<p>1000 rows × 5 columns</p>\n",
       "</div>"
      ],
      "text/plain": [
       "           W0     v0         y  propensity_score    weight\n",
       "0   -0.781321  False  0.080065          0.651507  1.534902\n",
       "1   -1.172325  False -0.569889          0.713046  1.402435\n",
       "2    0.345713  False -0.172516          0.451522  2.214729\n",
       "3    0.170839  False  0.864035          0.483192  2.069571\n",
       "4   -1.510178  False -1.910415          0.760622  1.314714\n",
       "..        ...    ...       ...               ...       ...\n",
       "995  0.351293  False -0.527595          0.450517  2.219671\n",
       "996  1.122907  False  1.922839          0.318620  3.138530\n",
       "997 -1.513897  False -4.728532          0.761114  1.313863\n",
       "998  1.577619  False  2.119202          0.251424  3.977346\n",
       "999 -1.095517  False -1.425242          0.701474  1.425570\n",
       "\n",
       "[1000 rows x 5 columns]"
      ]
     },
     "execution_count": 6,
     "metadata": {},
     "output_type": "execute_result"
    }
   ],
   "source": [
    "cdf_0"
   ]
  },
  {
   "cell_type": "code",
   "execution_count": 7,
   "metadata": {
    "execution": {
     "iopub.execute_input": "2022-07-28T13:26:13.206493Z",
     "iopub.status.busy": "2022-07-28T13:26:13.206027Z",
     "iopub.status.idle": "2022-07-28T13:26:13.217814Z",
     "shell.execute_reply": "2022-07-28T13:26:13.216588Z"
    }
   },
   "outputs": [
    {
     "data": {
      "text/html": [
       "<div>\n",
       "<style scoped>\n",
       "    .dataframe tbody tr th:only-of-type {\n",
       "        vertical-align: middle;\n",
       "    }\n",
       "\n",
       "    .dataframe tbody tr th {\n",
       "        vertical-align: top;\n",
       "    }\n",
       "\n",
       "    .dataframe thead th {\n",
       "        text-align: right;\n",
       "    }\n",
       "</style>\n",
       "<table border=\"1\" class=\"dataframe\">\n",
       "  <thead>\n",
       "    <tr style=\"text-align: right;\">\n",
       "      <th></th>\n",
       "      <th>W0</th>\n",
       "      <th>v0</th>\n",
       "      <th>y</th>\n",
       "      <th>propensity_score</th>\n",
       "      <th>weight</th>\n",
       "    </tr>\n",
       "  </thead>\n",
       "  <tbody>\n",
       "    <tr>\n",
       "      <th>0</th>\n",
       "      <td>-0.809650</td>\n",
       "      <td>True</td>\n",
       "      <td>4.140290</td>\n",
       "      <td>0.343827</td>\n",
       "      <td>2.908442</td>\n",
       "    </tr>\n",
       "    <tr>\n",
       "      <th>1</th>\n",
       "      <td>-1.626474</td>\n",
       "      <td>True</td>\n",
       "      <td>3.152577</td>\n",
       "      <td>0.224310</td>\n",
       "      <td>4.458123</td>\n",
       "    </tr>\n",
       "    <tr>\n",
       "      <th>2</th>\n",
       "      <td>-0.963730</td>\n",
       "      <td>True</td>\n",
       "      <td>6.317438</td>\n",
       "      <td>0.318990</td>\n",
       "      <td>3.134897</td>\n",
       "    </tr>\n",
       "    <tr>\n",
       "      <th>3</th>\n",
       "      <td>0.095476</td>\n",
       "      <td>True</td>\n",
       "      <td>6.153191</td>\n",
       "      <td>0.503103</td>\n",
       "      <td>1.987664</td>\n",
       "    </tr>\n",
       "    <tr>\n",
       "      <th>4</th>\n",
       "      <td>-2.089886</td>\n",
       "      <td>True</td>\n",
       "      <td>1.551312</td>\n",
       "      <td>0.171083</td>\n",
       "      <td>5.845115</td>\n",
       "    </tr>\n",
       "    <tr>\n",
       "      <th>...</th>\n",
       "      <td>...</td>\n",
       "      <td>...</td>\n",
       "      <td>...</td>\n",
       "      <td>...</td>\n",
       "      <td>...</td>\n",
       "    </tr>\n",
       "    <tr>\n",
       "      <th>995</th>\n",
       "      <td>-2.026945</td>\n",
       "      <td>True</td>\n",
       "      <td>0.979397</td>\n",
       "      <td>0.177677</td>\n",
       "      <td>5.628190</td>\n",
       "    </tr>\n",
       "    <tr>\n",
       "      <th>996</th>\n",
       "      <td>-1.095732</td>\n",
       "      <td>True</td>\n",
       "      <td>2.678643</td>\n",
       "      <td>0.298494</td>\n",
       "      <td>3.350156</td>\n",
       "    </tr>\n",
       "    <tr>\n",
       "      <th>997</th>\n",
       "      <td>0.762054</td>\n",
       "      <td>True</td>\n",
       "      <td>6.651279</td>\n",
       "      <td>0.621874</td>\n",
       "      <td>1.608043</td>\n",
       "    </tr>\n",
       "    <tr>\n",
       "      <th>998</th>\n",
       "      <td>-2.089886</td>\n",
       "      <td>True</td>\n",
       "      <td>1.551312</td>\n",
       "      <td>0.171083</td>\n",
       "      <td>5.845115</td>\n",
       "    </tr>\n",
       "    <tr>\n",
       "      <th>999</th>\n",
       "      <td>-1.413091</td>\n",
       "      <td>True</td>\n",
       "      <td>3.901110</td>\n",
       "      <td>0.252478</td>\n",
       "      <td>3.960736</td>\n",
       "    </tr>\n",
       "  </tbody>\n",
       "</table>\n",
       "<p>1000 rows × 5 columns</p>\n",
       "</div>"
      ],
      "text/plain": [
       "           W0    v0         y  propensity_score    weight\n",
       "0   -0.809650  True  4.140290          0.343827  2.908442\n",
       "1   -1.626474  True  3.152577          0.224310  4.458123\n",
       "2   -0.963730  True  6.317438          0.318990  3.134897\n",
       "3    0.095476  True  6.153191          0.503103  1.987664\n",
       "4   -2.089886  True  1.551312          0.171083  5.845115\n",
       "..        ...   ...       ...               ...       ...\n",
       "995 -2.026945  True  0.979397          0.177677  5.628190\n",
       "996 -1.095732  True  2.678643          0.298494  3.350156\n",
       "997  0.762054  True  6.651279          0.621874  1.608043\n",
       "998 -2.089886  True  1.551312          0.171083  5.845115\n",
       "999 -1.413091  True  3.901110          0.252478  3.960736\n",
       "\n",
       "[1000 rows x 5 columns]"
      ]
     },
     "execution_count": 7,
     "metadata": {},
     "output_type": "execute_result"
    }
   ],
   "source": [
    "cdf_1"
   ]
  },
  {
   "cell_type": "markdown",
   "metadata": {},
   "source": [
    "## Comparing the estimate to Linear Regression\n",
    "First, estimating the effect using the causal data frame, and the 95% confidence interval."
   ]
  },
  {
   "cell_type": "code",
   "execution_count": 8,
   "metadata": {
    "execution": {
     "iopub.execute_input": "2022-07-28T13:26:13.221298Z",
     "iopub.status.busy": "2022-07-28T13:26:13.220746Z",
     "iopub.status.idle": "2022-07-28T13:26:13.325186Z",
     "shell.execute_reply": "2022-07-28T13:26:13.324365Z"
    }
   },
   "outputs": [
    {
     "data": {
      "image/png": "[encoded data removed]",
      "text/latex": [
       "$\\displaystyle 4.96796942506751$"
      ],
      "text/plain": [
       "4.967969425067508"
      ]
     },
     "execution_count": 8,
     "metadata": {},
     "output_type": "execute_result"
    }
   ],
   "source": [
    "(cdf_1['y'] - cdf_0['y']).mean()"
   ]
  },
  {
   "cell_type": "code",
   "execution_count": 9,
   "metadata": {
    "execution": {
     "iopub.execute_input": "2022-07-28T13:26:13.328935Z",
     "iopub.status.busy": "2022-07-28T13:26:13.328517Z",
     "iopub.status.idle": "2022-07-28T13:26:13.356187Z",
     "shell.execute_reply": "2022-07-28T13:26:13.355381Z"
    }
   },
   "outputs": [
    {
     "data": {
      "image/png": "[encoded data removed]",
      "text/latex": [
       "$\\displaystyle 0.169034203838591$"
      ],
      "text/plain": [
       "0.1690342038385908"
      ]
     },
     "execution_count": 9,
     "metadata": {},
     "output_type": "execute_result"
    }
   ],
   "source": [
    "1.96*(cdf_1['y'] - cdf_0['y']).std() / np.sqrt(len(df))"
   ]
  },
  {
   "cell_type": "markdown",
   "metadata": {},
   "source": [
    "Comparing to the estimate from OLS."
   ]
  },
  {
   "cell_type": "code",
   "execution_count": 10,
   "metadata": {
    "execution": {
     "iopub.execute_input": "2022-07-28T13:26:13.360236Z",
     "iopub.status.busy": "2022-07-28T13:26:13.359797Z",
     "iopub.status.idle": "2022-07-28T13:26:13.376256Z",
     "shell.execute_reply": "2022-07-28T13:26:13.375509Z"
    }
   },
   "outputs": [
    {
     "data": {
      "text/html": [
       "<table class=\"simpletable\">\n",
       "<caption>OLS Regression Results</caption>\n",
       "<tr>\n",
       "  <th>Dep. Variable:</th>            <td>y</td>        <th>  R-squared (uncentered):</th>      <td>   0.925</td>\n",
       "</tr>\n",
       "<tr>\n",
       "  <th>Model:</th>                   <td>OLS</td>       <th>  Adj. R-squared (uncentered):</th> <td>   0.925</td>\n",
       "</tr>\n",
       "<tr>\n",
       "  <th>Method:</th>             <td>Least Squares</td>  <th>  F-statistic:       </th>          <td>   6146.</td>\n",
       "</tr>\n",
       "<tr>\n",
       "  <th>Date:</th>             <td>Thu, 28 Jul 2022</td> <th>  Prob (F-statistic):</th>           <td>  0.00</td> \n",
       "</tr>\n",
       "<tr>\n",
       "  <th>Time:</th>                 <td>13:26:13</td>     <th>  Log-Likelihood:    </th>          <td> -1460.6</td>\n",
       "</tr>\n",
       "<tr>\n",
       "  <th>No. Observations:</th>      <td>  1000</td>      <th>  AIC:               </th>          <td>   2925.</td>\n",
       "</tr>\n",
       "<tr>\n",
       "  <th>Df Residuals:</th>          <td>   998</td>      <th>  BIC:               </th>          <td>   2935.</td>\n",
       "</tr>\n",
       "<tr>\n",
       "  <th>Df Model:</th>              <td>     2</td>      <th>                     </th>              <td> </td>   \n",
       "</tr>\n",
       "<tr>\n",
       "  <th>Covariance Type:</th>      <td>nonrobust</td>    <th>                     </th>              <td> </td>   \n",
       "</tr>\n",
       "</table>\n",
       "<table class=\"simpletable\">\n",
       "<tr>\n",
       "   <td></td>     <th>coef</th>     <th>std err</th>      <th>t</th>      <th>P>|t|</th>  <th>[0.025</th>    <th>0.975]</th>  \n",
       "</tr>\n",
       "<tr>\n",
       "  <th>x1</th> <td>    1.7962</td> <td>    0.031</td> <td>   57.233</td> <td> 0.000</td> <td>    1.735</td> <td>    1.858</td>\n",
       "</tr>\n",
       "<tr>\n",
       "  <th>x2</th> <td>    5.0144</td> <td>    0.051</td> <td>   97.866</td> <td> 0.000</td> <td>    4.914</td> <td>    5.115</td>\n",
       "</tr>\n",
       "</table>\n",
       "<table class=\"simpletable\">\n",
       "<tr>\n",
       "  <th>Omnibus:</th>       <td> 2.058</td> <th>  Durbin-Watson:     </th> <td>   1.912</td>\n",
       "</tr>\n",
       "<tr>\n",
       "  <th>Prob(Omnibus):</th> <td> 0.357</td> <th>  Jarque-Bera (JB):  </th> <td>   1.919</td>\n",
       "</tr>\n",
       "<tr>\n",
       "  <th>Skew:</th>          <td> 0.096</td> <th>  Prob(JB):          </th> <td>   0.383</td>\n",
       "</tr>\n",
       "<tr>\n",
       "  <th>Kurtosis:</th>      <td> 3.097</td> <th>  Cond. No.          </th> <td>    1.64</td>\n",
       "</tr>\n",
       "</table><br/><br/>Notes:<br/>[1] R² is computed without centering (uncentered) since the model does not contain a constant.<br/>[2] Standard Errors assume that the covariance matrix of the errors is correctly specified."
      ],
      "text/plain": [
       "<class 'statsmodels.iolib.summary.Summary'>\n",
       "\"\"\"\n",
       "                                 OLS Regression Results                                \n",
       "=======================================================================================\n",
       "Dep. Variable:                      y   R-squared (uncentered):                   0.925\n",
       "Model:                            OLS   Adj. R-squared (uncentered):              0.925\n",
       "Method:                 Least Squares   F-statistic:                              6146.\n",
       "Date:                Thu, 28 Jul 2022   Prob (F-statistic):                        0.00\n",
       "Time:                        13:26:13   Log-Likelihood:                         -1460.6\n",
       "No. Observations:                1000   AIC:                                      2925.\n",
       "Df Residuals:                     998   BIC:                                      2935.\n",
       "Df Model:                           2                                                  \n",
       "Covariance Type:            nonrobust                                                  \n",
       "==============================================================================\n",
       "                 coef    std err          t      P>|t|      [0.025      0.975]\n",
       "------------------------------------------------------------------------------\n",
       "x1             1.7962      0.031     57.233      0.000       1.735       1.858\n",
       "x2             5.0144      0.051     97.866      0.000       4.914       5.115\n",
       "==============================================================================\n",
       "Omnibus:                        2.058   Durbin-Watson:                   1.912\n",
       "Prob(Omnibus):                  0.357   Jarque-Bera (JB):                1.919\n",
       "Skew:                           0.096   Prob(JB):                        0.383\n",
       "Kurtosis:                       3.097   Cond. No.                         1.64\n",
       "==============================================================================\n",
       "\n",
       "Notes:\n",
       "[1] R² is computed without centering (uncentered) since the model does not contain a constant.\n",
       "[2] Standard Errors assume that the covariance matrix of the errors is correctly specified.\n",
       "\"\"\""
      ]
     },
     "execution_count": 10,
     "metadata": {},
     "output_type": "execute_result"
    }
   ],
   "source": [
    "model = OLS(np.asarray(df[outcome]), np.asarray(df[[common_cause, treatment]], dtype=np.float64))\n",
    "result = model.fit()\n",
    "result.summary()"
   ]
  }
 ],
 "metadata": {
  "kernelspec": {
   "display_name": "Python 3",
   "language": "python",
   "name": "python3"
  },
  "language_info": {
   "codemirror_mode": {
    "name": "ipython",
    "version": 3
   },
   "file_extension": ".py",
   "mimetype": "text/x-python",
   "name": "python",
   "nbconvert_exporter": "python",
   "pygments_lexer": "ipython3",
   "version": "3.8.10"
  },
  "toc": {
   "base_numbering": 1,
   "nav_menu": {},
   "number_sections": false,
   "sideBar": true,
   "skip_h1_title": true,
   "title_cell": "Table of Contents",
   "title_sidebar": "Contents",
   "toc_cell": false,
   "toc_position": {},
   "toc_section_display": true,
   "toc_window_display": false
  }
 },
 "nbformat": 4,
 "nbformat_minor": 4
}
