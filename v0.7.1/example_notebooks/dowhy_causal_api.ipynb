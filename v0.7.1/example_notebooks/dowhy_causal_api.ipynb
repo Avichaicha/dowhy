{
 "cells": [
  {
   "cell_type": "markdown",
   "metadata": {},
   "source": [
    "# Demo for the DoWhy causal API\n",
    "We show a simple example of adding a causal extension to any dataframe. "
   ]
  },
  {
   "cell_type": "code",
   "execution_count": 1,
   "metadata": {
    "execution": {
     "iopub.execute_input": "2022-08-19T23:13:42.778923Z",
     "iopub.status.busy": "2022-08-19T23:13:42.778600Z",
     "iopub.status.idle": "2022-08-19T23:13:43.865799Z",
     "shell.execute_reply": "2022-08-19T23:13:43.864873Z"
    }
   },
   "outputs": [],
   "source": [
    "import dowhy.datasets\n",
    "import dowhy.api\n",
    "\n",
    "import numpy as np\n",
    "import pandas as pd\n",
    "\n",
    "from statsmodels.api import OLS"
   ]
  },
  {
   "cell_type": "code",
   "execution_count": 2,
   "metadata": {
    "execution": {
     "iopub.execute_input": "2022-08-19T23:13:43.870922Z",
     "iopub.status.busy": "2022-08-19T23:13:43.869817Z",
     "iopub.status.idle": "2022-08-19T23:13:43.911389Z",
     "shell.execute_reply": "2022-08-19T23:13:43.910747Z"
    }
   },
   "outputs": [
    {
     "data": {
      "text/html": [
       "<div>\n",
       "<style scoped>\n",
       "    .dataframe tbody tr th:only-of-type {\n",
       "        vertical-align: middle;\n",
       "    }\n",
       "\n",
       "    .dataframe tbody tr th {\n",
       "        vertical-align: top;\n",
       "    }\n",
       "\n",
       "    .dataframe thead th {\n",
       "        text-align: right;\n",
       "    }\n",
       "</style>\n",
       "<table border=\"1\" class=\"dataframe\">\n",
       "  <thead>\n",
       "    <tr style=\"text-align: right;\">\n",
       "      <th></th>\n",
       "      <th>W0</th>\n",
       "      <th>v0</th>\n",
       "      <th>y</th>\n",
       "    </tr>\n",
       "  </thead>\n",
       "  <tbody>\n",
       "    <tr>\n",
       "      <th>0</th>\n",
       "      <td>-1.253421</td>\n",
       "      <td>False</td>\n",
       "      <td>-0.075338</td>\n",
       "    </tr>\n",
       "    <tr>\n",
       "      <th>1</th>\n",
       "      <td>-1.307667</td>\n",
       "      <td>False</td>\n",
       "      <td>-1.607124</td>\n",
       "    </tr>\n",
       "    <tr>\n",
       "      <th>2</th>\n",
       "      <td>-1.511298</td>\n",
       "      <td>False</td>\n",
       "      <td>-1.843642</td>\n",
       "    </tr>\n",
       "    <tr>\n",
       "      <th>3</th>\n",
       "      <td>-1.326911</td>\n",
       "      <td>False</td>\n",
       "      <td>-2.326025</td>\n",
       "    </tr>\n",
       "    <tr>\n",
       "      <th>4</th>\n",
       "      <td>0.217360</td>\n",
       "      <td>False</td>\n",
       "      <td>-0.741063</td>\n",
       "    </tr>\n",
       "    <tr>\n",
       "      <th>...</th>\n",
       "      <td>...</td>\n",
       "      <td>...</td>\n",
       "      <td>...</td>\n",
       "    </tr>\n",
       "    <tr>\n",
       "      <th>995</th>\n",
       "      <td>-1.079517</td>\n",
       "      <td>True</td>\n",
       "      <td>4.103752</td>\n",
       "    </tr>\n",
       "    <tr>\n",
       "      <th>996</th>\n",
       "      <td>-1.456861</td>\n",
       "      <td>False</td>\n",
       "      <td>-3.353512</td>\n",
       "    </tr>\n",
       "    <tr>\n",
       "      <th>997</th>\n",
       "      <td>0.235841</td>\n",
       "      <td>True</td>\n",
       "      <td>4.579066</td>\n",
       "    </tr>\n",
       "    <tr>\n",
       "      <th>998</th>\n",
       "      <td>0.076628</td>\n",
       "      <td>False</td>\n",
       "      <td>-0.916159</td>\n",
       "    </tr>\n",
       "    <tr>\n",
       "      <th>999</th>\n",
       "      <td>-0.419882</td>\n",
       "      <td>True</td>\n",
       "      <td>4.632523</td>\n",
       "    </tr>\n",
       "  </tbody>\n",
       "</table>\n",
       "<p>1000 rows × 3 columns</p>\n",
       "</div>"
      ],
      "text/plain": [
       "           W0     v0         y\n",
       "0   -1.253421  False -0.075338\n",
       "1   -1.307667  False -1.607124\n",
       "2   -1.511298  False -1.843642\n",
       "3   -1.326911  False -2.326025\n",
       "4    0.217360  False -0.741063\n",
       "..        ...    ...       ...\n",
       "995 -1.079517   True  4.103752\n",
       "996 -1.456861  False -3.353512\n",
       "997  0.235841   True  4.579066\n",
       "998  0.076628  False -0.916159\n",
       "999 -0.419882   True  4.632523\n",
       "\n",
       "[1000 rows x 3 columns]"
      ]
     },
     "execution_count": 2,
     "metadata": {},
     "output_type": "execute_result"
    }
   ],
   "source": [
    "data = dowhy.datasets.linear_dataset(beta=5,\n",
    "        num_common_causes=1,\n",
    "        num_instruments = 0,\n",
    "        num_samples=1000,\n",
    "        treatment_is_binary=True)\n",
    "df = data['df']\n",
    "df['y'] = df['y'] + np.random.normal(size=len(df)) # Adding noise to data. Without noise, the variance in Y|X, Z is zero, and mcmc fails.\n",
    "#data['dot_graph'] = 'digraph { v ->y;X0-> v;X0-> y;}'\n",
    "\n",
    "treatment= data[\"treatment_name\"][0]\n",
    "outcome = data[\"outcome_name\"][0]\n",
    "common_cause = data[\"common_causes_names\"][0]\n",
    "df"
   ]
  },
  {
   "cell_type": "code",
   "execution_count": 3,
   "metadata": {
    "execution": {
     "iopub.execute_input": "2022-08-19T23:13:43.914660Z",
     "iopub.status.busy": "2022-08-19T23:13:43.914247Z",
     "iopub.status.idle": "2022-08-19T23:13:44.660786Z",
     "shell.execute_reply": "2022-08-19T23:13:44.660243Z"
    }
   },
   "outputs": [
    {
     "data": {
      "text/plain": [
       "<AxesSubplot:xlabel='v0'>"
      ]
     },
     "execution_count": 3,
     "metadata": {},
     "output_type": "execute_result"
    },
    {
     "data": {
      "image/png": "[encoded data removed]",
      "text/plain": [
       "<Figure size 640x480 with 1 Axes>"
      ]
     },
     "metadata": {},
     "output_type": "display_data"
    }
   ],
   "source": [
    "# data['df'] is just a regular pandas.DataFrame\n",
    "df.causal.do(x=treatment,\n",
    "                     variable_types={treatment: 'b', outcome: 'c', common_cause: 'c'},\n",
    "                     outcome=outcome,\n",
    "                     common_causes=[common_cause],\n",
    "                     proceed_when_unidentifiable=True).groupby(treatment).mean().plot(y=outcome, kind='bar')"
   ]
  },
  {
   "cell_type": "code",
   "execution_count": 4,
   "metadata": {
    "execution": {
     "iopub.execute_input": "2022-08-19T23:13:44.663856Z",
     "iopub.status.busy": "2022-08-19T23:13:44.663276Z",
     "iopub.status.idle": "2022-08-19T23:13:44.772931Z",
     "shell.execute_reply": "2022-08-19T23:13:44.772299Z"
    }
   },
   "outputs": [
    {
     "data": {
      "text/plain": [
       "<AxesSubplot:xlabel='v0'>"
      ]
     },
     "execution_count": 4,
     "metadata": {},
     "output_type": "execute_result"
    },
    {
     "data": {
      "image/png": "[encoded data removed]",
      "text/plain": [
       "<Figure size 640x480 with 1 Axes>"
      ]
     },
     "metadata": {},
     "output_type": "display_data"
    }
   ],
   "source": [
    "df.causal.do(x={treatment: 1}, \n",
    "              variable_types={treatment:'b', outcome: 'c', common_cause: 'c'}, \n",
    "              outcome=outcome,\n",
    "              method='weighting', \n",
    "              common_causes=[common_cause],\n",
    "              proceed_when_unidentifiable=True).groupby(treatment).mean().plot(y=outcome, kind='bar')"
   ]
  },
  {
   "cell_type": "code",
   "execution_count": 5,
   "metadata": {
    "execution": {
     "iopub.execute_input": "2022-08-19T23:13:44.776315Z",
     "iopub.status.busy": "2022-08-19T23:13:44.775860Z",
     "iopub.status.idle": "2022-08-19T23:13:44.808026Z",
     "shell.execute_reply": "2022-08-19T23:13:44.807382Z"
    }
   },
   "outputs": [],
   "source": [
    "cdf_1 = df.causal.do(x={treatment: 1}, \n",
    "              variable_types={treatment: 'b', outcome: 'c', common_cause: 'c'}, \n",
    "              outcome=outcome, \n",
    "              dot_graph=data['dot_graph'],\n",
    "              proceed_when_unidentifiable=True)\n",
    "\n",
    "cdf_0 = df.causal.do(x={treatment: 0}, \n",
    "              variable_types={treatment: 'b', outcome: 'c', common_cause: 'c'}, \n",
    "              outcome=outcome, \n",
    "              dot_graph=data['dot_graph'],\n",
    "              proceed_when_unidentifiable=True)\n"
   ]
  },
  {
   "cell_type": "code",
   "execution_count": 6,
   "metadata": {
    "execution": {
     "iopub.execute_input": "2022-08-19T23:13:44.811758Z",
     "iopub.status.busy": "2022-08-19T23:13:44.811304Z",
     "iopub.status.idle": "2022-08-19T23:13:44.823651Z",
     "shell.execute_reply": "2022-08-19T23:13:44.823076Z"
    },
    "scrolled": true
   },
   "outputs": [
    {
     "data": {
      "text/html": [
       "<div>\n",
       "<style scoped>\n",
       "    .dataframe tbody tr th:only-of-type {\n",
       "        vertical-align: middle;\n",
       "    }\n",
       "\n",
       "    .dataframe tbody tr th {\n",
       "        vertical-align: top;\n",
       "    }\n",
       "\n",
       "    .dataframe thead th {\n",
       "        text-align: right;\n",
       "    }\n",
       "</style>\n",
       "<table border=\"1\" class=\"dataframe\">\n",
       "  <thead>\n",
       "    <tr style=\"text-align: right;\">\n",
       "      <th></th>\n",
       "      <th>W0</th>\n",
       "      <th>v0</th>\n",
       "      <th>y</th>\n",
       "      <th>propensity_score</th>\n",
       "      <th>weight</th>\n",
       "    </tr>\n",
       "  </thead>\n",
       "  <tbody>\n",
       "    <tr>\n",
       "      <th>0</th>\n",
       "      <td>-1.257634</td>\n",
       "      <td>False</td>\n",
       "      <td>-0.553131</td>\n",
       "      <td>0.772663</td>\n",
       "      <td>1.294225</td>\n",
       "    </tr>\n",
       "    <tr>\n",
       "      <th>1</th>\n",
       "      <td>-0.645825</td>\n",
       "      <td>False</td>\n",
       "      <td>-0.321828</td>\n",
       "      <td>0.643361</td>\n",
       "      <td>1.554336</td>\n",
       "    </tr>\n",
       "    <tr>\n",
       "      <th>2</th>\n",
       "      <td>-0.383345</td>\n",
       "      <td>False</td>\n",
       "      <td>0.553655</td>\n",
       "      <td>0.578893</td>\n",
       "      <td>1.727436</td>\n",
       "    </tr>\n",
       "    <tr>\n",
       "      <th>3</th>\n",
       "      <td>-1.247452</td>\n",
       "      <td>False</td>\n",
       "      <td>-1.921266</td>\n",
       "      <td>0.770806</td>\n",
       "      <td>1.297343</td>\n",
       "    </tr>\n",
       "    <tr>\n",
       "      <th>4</th>\n",
       "      <td>0.450689</td>\n",
       "      <td>False</td>\n",
       "      <td>0.317834</td>\n",
       "      <td>0.366961</td>\n",
       "      <td>2.725083</td>\n",
       "    </tr>\n",
       "    <tr>\n",
       "      <th>...</th>\n",
       "      <td>...</td>\n",
       "      <td>...</td>\n",
       "      <td>...</td>\n",
       "      <td>...</td>\n",
       "      <td>...</td>\n",
       "    </tr>\n",
       "    <tr>\n",
       "      <th>995</th>\n",
       "      <td>-0.796637</td>\n",
       "      <td>False</td>\n",
       "      <td>-1.341186</td>\n",
       "      <td>0.678334</td>\n",
       "      <td>1.474201</td>\n",
       "    </tr>\n",
       "    <tr>\n",
       "      <th>996</th>\n",
       "      <td>-0.834450</td>\n",
       "      <td>False</td>\n",
       "      <td>-1.717455</td>\n",
       "      <td>0.686816</td>\n",
       "      <td>1.455995</td>\n",
       "    </tr>\n",
       "    <tr>\n",
       "      <th>997</th>\n",
       "      <td>-1.039332</td>\n",
       "      <td>False</td>\n",
       "      <td>-1.052645</td>\n",
       "      <td>0.730546</td>\n",
       "      <td>1.368839</td>\n",
       "    </tr>\n",
       "    <tr>\n",
       "      <th>998</th>\n",
       "      <td>-1.677686</td>\n",
       "      <td>False</td>\n",
       "      <td>-2.779087</td>\n",
       "      <td>0.840010</td>\n",
       "      <td>1.190461</td>\n",
       "    </tr>\n",
       "    <tr>\n",
       "      <th>999</th>\n",
       "      <td>-0.159602</td>\n",
       "      <td>False</td>\n",
       "      <td>-0.960163</td>\n",
       "      <td>0.521631</td>\n",
       "      <td>1.917062</td>\n",
       "    </tr>\n",
       "  </tbody>\n",
       "</table>\n",
       "<p>1000 rows × 5 columns</p>\n",
       "</div>"
      ],
      "text/plain": [
       "           W0     v0         y  propensity_score    weight\n",
       "0   -1.257634  False -0.553131          0.772663  1.294225\n",
       "1   -0.645825  False -0.321828          0.643361  1.554336\n",
       "2   -0.383345  False  0.553655          0.578893  1.727436\n",
       "3   -1.247452  False -1.921266          0.770806  1.297343\n",
       "4    0.450689  False  0.317834          0.366961  2.725083\n",
       "..        ...    ...       ...               ...       ...\n",
       "995 -0.796637  False -1.341186          0.678334  1.474201\n",
       "996 -0.834450  False -1.717455          0.686816  1.455995\n",
       "997 -1.039332  False -1.052645          0.730546  1.368839\n",
       "998 -1.677686  False -2.779087          0.840010  1.190461\n",
       "999 -0.159602  False -0.960163          0.521631  1.917062\n",
       "\n",
       "[1000 rows x 5 columns]"
      ]
     },
     "execution_count": 6,
     "metadata": {},
     "output_type": "execute_result"
    }
   ],
   "source": [
    "cdf_0"
   ]
  },
  {
   "cell_type": "code",
   "execution_count": 7,
   "metadata": {
    "execution": {
     "iopub.execute_input": "2022-08-19T23:13:44.826490Z",
     "iopub.status.busy": "2022-08-19T23:13:44.825988Z",
     "iopub.status.idle": "2022-08-19T23:13:44.835823Z",
     "shell.execute_reply": "2022-08-19T23:13:44.835218Z"
    }
   },
   "outputs": [
    {
     "data": {
      "text/html": [
       "<div>\n",
       "<style scoped>\n",
       "    .dataframe tbody tr th:only-of-type {\n",
       "        vertical-align: middle;\n",
       "    }\n",
       "\n",
       "    .dataframe tbody tr th {\n",
       "        vertical-align: top;\n",
       "    }\n",
       "\n",
       "    .dataframe thead th {\n",
       "        text-align: right;\n",
       "    }\n",
       "</style>\n",
       "<table border=\"1\" class=\"dataframe\">\n",
       "  <thead>\n",
       "    <tr style=\"text-align: right;\">\n",
       "      <th></th>\n",
       "      <th>W0</th>\n",
       "      <th>v0</th>\n",
       "      <th>y</th>\n",
       "      <th>propensity_score</th>\n",
       "      <th>weight</th>\n",
       "    </tr>\n",
       "  </thead>\n",
       "  <tbody>\n",
       "    <tr>\n",
       "      <th>0</th>\n",
       "      <td>-0.621381</td>\n",
       "      <td>True</td>\n",
       "      <td>5.116336</td>\n",
       "      <td>0.362466</td>\n",
       "      <td>2.758878</td>\n",
       "    </tr>\n",
       "    <tr>\n",
       "      <th>1</th>\n",
       "      <td>-0.954664</td>\n",
       "      <td>True</td>\n",
       "      <td>3.162908</td>\n",
       "      <td>0.287054</td>\n",
       "      <td>3.483666</td>\n",
       "    </tr>\n",
       "    <tr>\n",
       "      <th>2</th>\n",
       "      <td>-1.341518</td>\n",
       "      <td>True</td>\n",
       "      <td>4.688111</td>\n",
       "      <td>0.212444</td>\n",
       "      <td>4.707134</td>\n",
       "    </tr>\n",
       "    <tr>\n",
       "      <th>3</th>\n",
       "      <td>-2.394587</td>\n",
       "      <td>True</td>\n",
       "      <td>2.193829</td>\n",
       "      <td>0.083132</td>\n",
       "      <td>12.029112</td>\n",
       "    </tr>\n",
       "    <tr>\n",
       "      <th>4</th>\n",
       "      <td>0.844425</td>\n",
       "      <td>True</td>\n",
       "      <td>5.274384</td>\n",
       "      <td>0.721703</td>\n",
       "      <td>1.385612</td>\n",
       "    </tr>\n",
       "    <tr>\n",
       "      <th>...</th>\n",
       "      <td>...</td>\n",
       "      <td>...</td>\n",
       "      <td>...</td>\n",
       "      <td>...</td>\n",
       "      <td>...</td>\n",
       "    </tr>\n",
       "    <tr>\n",
       "      <th>995</th>\n",
       "      <td>0.585564</td>\n",
       "      <td>True</td>\n",
       "      <td>5.975241</td>\n",
       "      <td>0.664835</td>\n",
       "      <td>1.504133</td>\n",
       "    </tr>\n",
       "    <tr>\n",
       "      <th>996</th>\n",
       "      <td>-2.392109</td>\n",
       "      <td>True</td>\n",
       "      <td>2.552650</td>\n",
       "      <td>0.083327</td>\n",
       "      <td>12.000846</td>\n",
       "    </tr>\n",
       "    <tr>\n",
       "      <th>997</th>\n",
       "      <td>-0.808953</td>\n",
       "      <td>True</td>\n",
       "      <td>5.108415</td>\n",
       "      <td>0.318890</td>\n",
       "      <td>3.135873</td>\n",
       "    </tr>\n",
       "    <tr>\n",
       "      <th>998</th>\n",
       "      <td>-0.378498</td>\n",
       "      <td>True</td>\n",
       "      <td>6.949859</td>\n",
       "      <td>0.422331</td>\n",
       "      <td>2.367810</td>\n",
       "    </tr>\n",
       "    <tr>\n",
       "      <th>999</th>\n",
       "      <td>-0.317391</td>\n",
       "      <td>True</td>\n",
       "      <td>5.239359</td>\n",
       "      <td>0.437837</td>\n",
       "      <td>2.283955</td>\n",
       "    </tr>\n",
       "  </tbody>\n",
       "</table>\n",
       "<p>1000 rows × 5 columns</p>\n",
       "</div>"
      ],
      "text/plain": [
       "           W0    v0         y  propensity_score     weight\n",
       "0   -0.621381  True  5.116336          0.362466   2.758878\n",
       "1   -0.954664  True  3.162908          0.287054   3.483666\n",
       "2   -1.341518  True  4.688111          0.212444   4.707134\n",
       "3   -2.394587  True  2.193829          0.083132  12.029112\n",
       "4    0.844425  True  5.274384          0.721703   1.385612\n",
       "..        ...   ...       ...               ...        ...\n",
       "995  0.585564  True  5.975241          0.664835   1.504133\n",
       "996 -2.392109  True  2.552650          0.083327  12.000846\n",
       "997 -0.808953  True  5.108415          0.318890   3.135873\n",
       "998 -0.378498  True  6.949859          0.422331   2.367810\n",
       "999 -0.317391  True  5.239359          0.437837   2.283955\n",
       "\n",
       "[1000 rows x 5 columns]"
      ]
     },
     "execution_count": 7,
     "metadata": {},
     "output_type": "execute_result"
    }
   ],
   "source": [
    "cdf_1"
   ]
  },
  {
   "cell_type": "markdown",
   "metadata": {},
   "source": [
    "## Comparing the estimate to Linear Regression\n",
    "First, estimating the effect using the causal data frame, and the 95% confidence interval."
   ]
  },
  {
   "cell_type": "code",
   "execution_count": 8,
   "metadata": {
    "execution": {
     "iopub.execute_input": "2022-08-19T23:13:44.839244Z",
     "iopub.status.busy": "2022-08-19T23:13:44.838748Z",
     "iopub.status.idle": "2022-08-19T23:13:44.928507Z",
     "shell.execute_reply": "2022-08-19T23:13:44.927737Z"
    }
   },
   "outputs": [
    {
     "data": {
      "image/png": "[encoded data removed]",
      "text/latex": [
       "$\\displaystyle 4.99133497104878$"
      ],
      "text/plain": [
       "4.99133497104878"
      ]
     },
     "execution_count": 8,
     "metadata": {},
     "output_type": "execute_result"
    }
   ],
   "source": [
    "(cdf_1['y'] - cdf_0['y']).mean()"
   ]
  },
  {
   "cell_type": "code",
   "execution_count": 9,
   "metadata": {
    "execution": {
     "iopub.execute_input": "2022-08-19T23:13:44.932185Z",
     "iopub.status.busy": "2022-08-19T23:13:44.931779Z",
     "iopub.status.idle": "2022-08-19T23:13:44.955612Z",
     "shell.execute_reply": "2022-08-19T23:13:44.954876Z"
    }
   },
   "outputs": [
    {
     "data": {
      "image/png": "[encoded data removed]",
      "text/latex": [
       "$\\displaystyle 0.123865156062161$"
      ],
      "text/plain": [
       "0.1238651560621607"
      ]
     },
     "execution_count": 9,
     "metadata": {},
     "output_type": "execute_result"
    }
   ],
   "source": [
    "1.96*(cdf_1['y'] - cdf_0['y']).std() / np.sqrt(len(df))"
   ]
  },
  {
   "cell_type": "markdown",
   "metadata": {},
   "source": [
    "Comparing to the estimate from OLS."
   ]
  },
  {
   "cell_type": "code",
   "execution_count": 10,
   "metadata": {
    "execution": {
     "iopub.execute_input": "2022-08-19T23:13:44.959301Z",
     "iopub.status.busy": "2022-08-19T23:13:44.958930Z",
     "iopub.status.idle": "2022-08-19T23:13:44.974793Z",
     "shell.execute_reply": "2022-08-19T23:13:44.974159Z"
    }
   },
   "outputs": [
    {
     "data": {
      "text/html": [
       "<table class=\"simpletable\">\n",
       "<caption>OLS Regression Results</caption>\n",
       "<tr>\n",
       "  <th>Dep. Variable:</th>            <td>y</td>        <th>  R-squared (uncentered):</th>      <td>   0.900</td>\n",
       "</tr>\n",
       "<tr>\n",
       "  <th>Model:</th>                   <td>OLS</td>       <th>  Adj. R-squared (uncentered):</th> <td>   0.900</td>\n",
       "</tr>\n",
       "<tr>\n",
       "  <th>Method:</th>             <td>Least Squares</td>  <th>  F-statistic:       </th>          <td>   4506.</td>\n",
       "</tr>\n",
       "<tr>\n",
       "  <th>Date:</th>             <td>Fri, 19 Aug 2022</td> <th>  Prob (F-statistic):</th>           <td>  0.00</td> \n",
       "</tr>\n",
       "<tr>\n",
       "  <th>Time:</th>                 <td>23:13:44</td>     <th>  Log-Likelihood:    </th>          <td> -1406.3</td>\n",
       "</tr>\n",
       "<tr>\n",
       "  <th>No. Observations:</th>      <td>  1000</td>      <th>  AIC:               </th>          <td>   2817.</td>\n",
       "</tr>\n",
       "<tr>\n",
       "  <th>Df Residuals:</th>          <td>   998</td>      <th>  BIC:               </th>          <td>   2826.</td>\n",
       "</tr>\n",
       "<tr>\n",
       "  <th>Df Model:</th>              <td>     2</td>      <th>                     </th>              <td> </td>   \n",
       "</tr>\n",
       "<tr>\n",
       "  <th>Covariance Type:</th>      <td>nonrobust</td>    <th>                     </th>              <td> </td>   \n",
       "</tr>\n",
       "</table>\n",
       "<table class=\"simpletable\">\n",
       "<tr>\n",
       "   <td></td>     <th>coef</th>     <th>std err</th>      <th>t</th>      <th>P>|t|</th>  <th>[0.025</th>    <th>0.975]</th>  \n",
       "</tr>\n",
       "<tr>\n",
       "  <th>x1</th> <td>    1.0167</td> <td>    0.023</td> <td>   43.693</td> <td> 0.000</td> <td>    0.971</td> <td>    1.062</td>\n",
       "</tr>\n",
       "<tr>\n",
       "  <th>x2</th> <td>    4.9931</td> <td>    0.055</td> <td>   89.988</td> <td> 0.000</td> <td>    4.884</td> <td>    5.102</td>\n",
       "</tr>\n",
       "</table>\n",
       "<table class=\"simpletable\">\n",
       "<tr>\n",
       "  <th>Omnibus:</th>       <td> 3.267</td> <th>  Durbin-Watson:     </th> <td>   1.977</td>\n",
       "</tr>\n",
       "<tr>\n",
       "  <th>Prob(Omnibus):</th> <td> 0.195</td> <th>  Jarque-Bera (JB):  </th> <td>   3.296</td>\n",
       "</tr>\n",
       "<tr>\n",
       "  <th>Skew:</th>          <td> 0.084</td> <th>  Prob(JB):          </th> <td>   0.192</td>\n",
       "</tr>\n",
       "<tr>\n",
       "  <th>Kurtosis:</th>      <td> 3.225</td> <th>  Cond. No.          </th> <td>    2.43</td>\n",
       "</tr>\n",
       "</table><br/><br/>Notes:<br/>[1] R² is computed without centering (uncentered) since the model does not contain a constant.<br/>[2] Standard Errors assume that the covariance matrix of the errors is correctly specified."
      ],
      "text/plain": [
       "<class 'statsmodels.iolib.summary.Summary'>\n",
       "\"\"\"\n",
       "                                 OLS Regression Results                                \n",
       "=======================================================================================\n",
       "Dep. Variable:                      y   R-squared (uncentered):                   0.900\n",
       "Model:                            OLS   Adj. R-squared (uncentered):              0.900\n",
       "Method:                 Least Squares   F-statistic:                              4506.\n",
       "Date:                Fri, 19 Aug 2022   Prob (F-statistic):                        0.00\n",
       "Time:                        23:13:44   Log-Likelihood:                         -1406.3\n",
       "No. Observations:                1000   AIC:                                      2817.\n",
       "Df Residuals:                     998   BIC:                                      2826.\n",
       "Df Model:                           2                                                  \n",
       "Covariance Type:            nonrobust                                                  \n",
       "==============================================================================\n",
       "                 coef    std err          t      P>|t|      [0.025      0.975]\n",
       "------------------------------------------------------------------------------\n",
       "x1             1.0167      0.023     43.693      0.000       0.971       1.062\n",
       "x2             4.9931      0.055     89.988      0.000       4.884       5.102\n",
       "==============================================================================\n",
       "Omnibus:                        3.267   Durbin-Watson:                   1.977\n",
       "Prob(Omnibus):                  0.195   Jarque-Bera (JB):                3.296\n",
       "Skew:                           0.084   Prob(JB):                        0.192\n",
       "Kurtosis:                       3.225   Cond. No.                         2.43\n",
       "==============================================================================\n",
       "\n",
       "Notes:\n",
       "[1] R² is computed without centering (uncentered) since the model does not contain a constant.\n",
       "[2] Standard Errors assume that the covariance matrix of the errors is correctly specified.\n",
       "\"\"\""
      ]
     },
     "execution_count": 10,
     "metadata": {},
     "output_type": "execute_result"
    }
   ],
   "source": [
    "model = OLS(np.asarray(df[outcome]), np.asarray(df[[common_cause, treatment]], dtype=np.float64))\n",
    "result = model.fit()\n",
    "result.summary()"
   ]
  }
 ],
 "metadata": {
  "kernelspec": {
   "display_name": "Python 3",
   "language": "python",
   "name": "python3"
  },
  "language_info": {
   "codemirror_mode": {
    "name": "ipython",
    "version": 3
   },
   "file_extension": ".py",
   "mimetype": "text/x-python",
   "name": "python",
   "nbconvert_exporter": "python",
   "pygments_lexer": "ipython3",
   "version": "3.8.10"
  },
  "toc": {
   "base_numbering": 1,
   "nav_menu": {},
   "number_sections": false,
   "sideBar": true,
   "skip_h1_title": true,
   "title_cell": "Table of Contents",
   "title_sidebar": "Contents",
   "toc_cell": false,
   "toc_position": {},
   "toc_section_display": true,
   "toc_window_display": false
  }
 },
 "nbformat": 4,
 "nbformat_minor": 4
}
