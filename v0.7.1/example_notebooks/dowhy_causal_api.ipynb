{
 "cells": [
  {
   "cell_type": "markdown",
   "metadata": {},
   "source": [
    "# Demo for the DoWhy causal API\n",
    "We show a simple example of adding a causal extension to any dataframe. "
   ]
  },
  {
   "cell_type": "code",
   "execution_count": 1,
   "metadata": {
    "execution": {
     "iopub.execute_input": "2022-08-22T06:28:49.890087Z",
     "iopub.status.busy": "2022-08-22T06:28:49.889754Z",
     "iopub.status.idle": "2022-08-22T06:28:51.287011Z",
     "shell.execute_reply": "2022-08-22T06:28:51.286011Z"
    }
   },
   "outputs": [],
   "source": [
    "import dowhy.datasets\n",
    "import dowhy.api\n",
    "\n",
    "import numpy as np\n",
    "import pandas as pd\n",
    "\n",
    "from statsmodels.api import OLS"
   ]
  },
  {
   "cell_type": "code",
   "execution_count": 2,
   "metadata": {
    "execution": {
     "iopub.execute_input": "2022-08-22T06:28:51.291643Z",
     "iopub.status.busy": "2022-08-22T06:28:51.291167Z",
     "iopub.status.idle": "2022-08-22T06:28:51.359544Z",
     "shell.execute_reply": "2022-08-22T06:28:51.355998Z"
    }
   },
   "outputs": [
    {
     "data": {
      "text/html": [
       "<div>\n",
       "<style scoped>\n",
       "    .dataframe tbody tr th:only-of-type {\n",
       "        vertical-align: middle;\n",
       "    }\n",
       "\n",
       "    .dataframe tbody tr th {\n",
       "        vertical-align: top;\n",
       "    }\n",
       "\n",
       "    .dataframe thead th {\n",
       "        text-align: right;\n",
       "    }\n",
       "</style>\n",
       "<table border=\"1\" class=\"dataframe\">\n",
       "  <thead>\n",
       "    <tr style=\"text-align: right;\">\n",
       "      <th></th>\n",
       "      <th>W0</th>\n",
       "      <th>v0</th>\n",
       "      <th>y</th>\n",
       "    </tr>\n",
       "  </thead>\n",
       "  <tbody>\n",
       "    <tr>\n",
       "      <th>0</th>\n",
       "      <td>0.702248</td>\n",
       "      <td>True</td>\n",
       "      <td>5.978465</td>\n",
       "    </tr>\n",
       "    <tr>\n",
       "      <th>1</th>\n",
       "      <td>0.242950</td>\n",
       "      <td>True</td>\n",
       "      <td>5.179916</td>\n",
       "    </tr>\n",
       "    <tr>\n",
       "      <th>2</th>\n",
       "      <td>-0.116326</td>\n",
       "      <td>False</td>\n",
       "      <td>-0.356853</td>\n",
       "    </tr>\n",
       "    <tr>\n",
       "      <th>3</th>\n",
       "      <td>1.645223</td>\n",
       "      <td>True</td>\n",
       "      <td>8.752096</td>\n",
       "    </tr>\n",
       "    <tr>\n",
       "      <th>4</th>\n",
       "      <td>-0.723724</td>\n",
       "      <td>False</td>\n",
       "      <td>-2.508062</td>\n",
       "    </tr>\n",
       "    <tr>\n",
       "      <th>...</th>\n",
       "      <td>...</td>\n",
       "      <td>...</td>\n",
       "      <td>...</td>\n",
       "    </tr>\n",
       "    <tr>\n",
       "      <th>995</th>\n",
       "      <td>-0.889849</td>\n",
       "      <td>False</td>\n",
       "      <td>-1.559411</td>\n",
       "    </tr>\n",
       "    <tr>\n",
       "      <th>996</th>\n",
       "      <td>1.151900</td>\n",
       "      <td>True</td>\n",
       "      <td>5.837588</td>\n",
       "    </tr>\n",
       "    <tr>\n",
       "      <th>997</th>\n",
       "      <td>0.445196</td>\n",
       "      <td>True</td>\n",
       "      <td>6.059408</td>\n",
       "    </tr>\n",
       "    <tr>\n",
       "      <th>998</th>\n",
       "      <td>-1.054015</td>\n",
       "      <td>True</td>\n",
       "      <td>1.756732</td>\n",
       "    </tr>\n",
       "    <tr>\n",
       "      <th>999</th>\n",
       "      <td>-0.531488</td>\n",
       "      <td>False</td>\n",
       "      <td>-0.940063</td>\n",
       "    </tr>\n",
       "  </tbody>\n",
       "</table>\n",
       "<p>1000 rows × 3 columns</p>\n",
       "</div>"
      ],
      "text/plain": [
       "           W0     v0         y\n",
       "0    0.702248   True  5.978465\n",
       "1    0.242950   True  5.179916\n",
       "2   -0.116326  False -0.356853\n",
       "3    1.645223   True  8.752096\n",
       "4   -0.723724  False -2.508062\n",
       "..        ...    ...       ...\n",
       "995 -0.889849  False -1.559411\n",
       "996  1.151900   True  5.837588\n",
       "997  0.445196   True  6.059408\n",
       "998 -1.054015   True  1.756732\n",
       "999 -0.531488  False -0.940063\n",
       "\n",
       "[1000 rows x 3 columns]"
      ]
     },
     "execution_count": 2,
     "metadata": {},
     "output_type": "execute_result"
    }
   ],
   "source": [
    "data = dowhy.datasets.linear_dataset(beta=5,\n",
    "        num_common_causes=1,\n",
    "        num_instruments = 0,\n",
    "        num_samples=1000,\n",
    "        treatment_is_binary=True)\n",
    "df = data['df']\n",
    "df['y'] = df['y'] + np.random.normal(size=len(df)) # Adding noise to data. Without noise, the variance in Y|X, Z is zero, and mcmc fails.\n",
    "#data['dot_graph'] = 'digraph { v ->y;X0-> v;X0-> y;}'\n",
    "\n",
    "treatment= data[\"treatment_name\"][0]\n",
    "outcome = data[\"outcome_name\"][0]\n",
    "common_cause = data[\"common_causes_names\"][0]\n",
    "df"
   ]
  },
  {
   "cell_type": "code",
   "execution_count": 3,
   "metadata": {
    "execution": {
     "iopub.execute_input": "2022-08-22T06:28:51.363177Z",
     "iopub.status.busy": "2022-08-22T06:28:51.362909Z",
     "iopub.status.idle": "2022-08-22T06:28:52.340456Z",
     "shell.execute_reply": "2022-08-22T06:28:52.339446Z"
    }
   },
   "outputs": [
    {
     "data": {
      "text/plain": [
       "<AxesSubplot:xlabel='v0'>"
      ]
     },
     "execution_count": 3,
     "metadata": {},
     "output_type": "execute_result"
    },
    {
     "data": {
      "image/png": "[encoded data removed]",
      "text/plain": [
       "<Figure size 640x480 with 1 Axes>"
      ]
     },
     "metadata": {},
     "output_type": "display_data"
    }
   ],
   "source": [
    "# data['df'] is just a regular pandas.DataFrame\n",
    "df.causal.do(x=treatment,\n",
    "                     variable_types={treatment: 'b', outcome: 'c', common_cause: 'c'},\n",
    "                     outcome=outcome,\n",
    "                     common_causes=[common_cause],\n",
    "                     proceed_when_unidentifiable=True).groupby(treatment).mean().plot(y=outcome, kind='bar')"
   ]
  },
  {
   "cell_type": "code",
   "execution_count": 4,
   "metadata": {
    "execution": {
     "iopub.execute_input": "2022-08-22T06:28:52.344743Z",
     "iopub.status.busy": "2022-08-22T06:28:52.344279Z",
     "iopub.status.idle": "2022-08-22T06:28:52.496895Z",
     "shell.execute_reply": "2022-08-22T06:28:52.496114Z"
    }
   },
   "outputs": [
    {
     "data": {
      "text/plain": [
       "<AxesSubplot:xlabel='v0'>"
      ]
     },
     "execution_count": 4,
     "metadata": {},
     "output_type": "execute_result"
    },
    {
     "data": {
      "image/png": "[encoded data removed]",
      "text/plain": [
       "<Figure size 640x480 with 1 Axes>"
      ]
     },
     "metadata": {},
     "output_type": "display_data"
    }
   ],
   "source": [
    "df.causal.do(x={treatment: 1}, \n",
    "              variable_types={treatment:'b', outcome: 'c', common_cause: 'c'}, \n",
    "              outcome=outcome,\n",
    "              method='weighting', \n",
    "              common_causes=[common_cause],\n",
    "              proceed_when_unidentifiable=True).groupby(treatment).mean().plot(y=outcome, kind='bar')"
   ]
  },
  {
   "cell_type": "code",
   "execution_count": 5,
   "metadata": {
    "execution": {
     "iopub.execute_input": "2022-08-22T06:28:52.500608Z",
     "iopub.status.busy": "2022-08-22T06:28:52.500210Z",
     "iopub.status.idle": "2022-08-22T06:28:52.539510Z",
     "shell.execute_reply": "2022-08-22T06:28:52.538480Z"
    }
   },
   "outputs": [],
   "source": [
    "cdf_1 = df.causal.do(x={treatment: 1}, \n",
    "              variable_types={treatment: 'b', outcome: 'c', common_cause: 'c'}, \n",
    "              outcome=outcome, \n",
    "              dot_graph=data['dot_graph'],\n",
    "              proceed_when_unidentifiable=True)\n",
    "\n",
    "cdf_0 = df.causal.do(x={treatment: 0}, \n",
    "              variable_types={treatment: 'b', outcome: 'c', common_cause: 'c'}, \n",
    "              outcome=outcome, \n",
    "              dot_graph=data['dot_graph'],\n",
    "              proceed_when_unidentifiable=True)\n"
   ]
  },
  {
   "cell_type": "code",
   "execution_count": 6,
   "metadata": {
    "execution": {
     "iopub.execute_input": "2022-08-22T06:28:52.542736Z",
     "iopub.status.busy": "2022-08-22T06:28:52.542488Z",
     "iopub.status.idle": "2022-08-22T06:28:52.555209Z",
     "shell.execute_reply": "2022-08-22T06:28:52.554418Z"
    },
    "scrolled": true
   },
   "outputs": [
    {
     "data": {
      "text/html": [
       "<div>\n",
       "<style scoped>\n",
       "    .dataframe tbody tr th:only-of-type {\n",
       "        vertical-align: middle;\n",
       "    }\n",
       "\n",
       "    .dataframe tbody tr th {\n",
       "        vertical-align: top;\n",
       "    }\n",
       "\n",
       "    .dataframe thead th {\n",
       "        text-align: right;\n",
       "    }\n",
       "</style>\n",
       "<table border=\"1\" class=\"dataframe\">\n",
       "  <thead>\n",
       "    <tr style=\"text-align: right;\">\n",
       "      <th></th>\n",
       "      <th>W0</th>\n",
       "      <th>v0</th>\n",
       "      <th>y</th>\n",
       "      <th>propensity_score</th>\n",
       "      <th>weight</th>\n",
       "    </tr>\n",
       "  </thead>\n",
       "  <tbody>\n",
       "    <tr>\n",
       "      <th>0</th>\n",
       "      <td>-0.733220</td>\n",
       "      <td>False</td>\n",
       "      <td>-1.790374</td>\n",
       "      <td>0.708815</td>\n",
       "      <td>1.410805</td>\n",
       "    </tr>\n",
       "    <tr>\n",
       "      <th>1</th>\n",
       "      <td>-0.172106</td>\n",
       "      <td>False</td>\n",
       "      <td>-1.911025</td>\n",
       "      <td>0.549149</td>\n",
       "      <td>1.820999</td>\n",
       "    </tr>\n",
       "    <tr>\n",
       "      <th>2</th>\n",
       "      <td>-0.209882</td>\n",
       "      <td>False</td>\n",
       "      <td>-2.585859</td>\n",
       "      <td>0.560662</td>\n",
       "      <td>1.783607</td>\n",
       "    </tr>\n",
       "    <tr>\n",
       "      <th>3</th>\n",
       "      <td>0.153014</td>\n",
       "      <td>False</td>\n",
       "      <td>0.795389</td>\n",
       "      <td>0.449186</td>\n",
       "      <td>2.226247</td>\n",
       "    </tr>\n",
       "    <tr>\n",
       "      <th>4</th>\n",
       "      <td>-0.511758</td>\n",
       "      <td>False</td>\n",
       "      <td>-1.381405</td>\n",
       "      <td>0.649390</td>\n",
       "      <td>1.539907</td>\n",
       "    </tr>\n",
       "    <tr>\n",
       "      <th>...</th>\n",
       "      <td>...</td>\n",
       "      <td>...</td>\n",
       "      <td>...</td>\n",
       "      <td>...</td>\n",
       "      <td>...</td>\n",
       "    </tr>\n",
       "    <tr>\n",
       "      <th>995</th>\n",
       "      <td>-0.388414</td>\n",
       "      <td>False</td>\n",
       "      <td>0.023920</td>\n",
       "      <td>0.613999</td>\n",
       "      <td>1.628667</td>\n",
       "    </tr>\n",
       "    <tr>\n",
       "      <th>996</th>\n",
       "      <td>-0.441582</td>\n",
       "      <td>False</td>\n",
       "      <td>-1.326555</td>\n",
       "      <td>0.629428</td>\n",
       "      <td>1.588745</td>\n",
       "    </tr>\n",
       "    <tr>\n",
       "      <th>997</th>\n",
       "      <td>0.484657</td>\n",
       "      <td>False</td>\n",
       "      <td>1.561905</td>\n",
       "      <td>0.351330</td>\n",
       "      <td>2.846330</td>\n",
       "    </tr>\n",
       "    <tr>\n",
       "      <th>998</th>\n",
       "      <td>-1.015037</td>\n",
       "      <td>False</td>\n",
       "      <td>-1.370874</td>\n",
       "      <td>0.775110</td>\n",
       "      <td>1.290139</td>\n",
       "    </tr>\n",
       "    <tr>\n",
       "      <th>999</th>\n",
       "      <td>-1.043779</td>\n",
       "      <td>False</td>\n",
       "      <td>-2.725977</td>\n",
       "      <td>0.781232</td>\n",
       "      <td>1.280029</td>\n",
       "    </tr>\n",
       "  </tbody>\n",
       "</table>\n",
       "<p>1000 rows × 5 columns</p>\n",
       "</div>"
      ],
      "text/plain": [
       "           W0     v0         y  propensity_score    weight\n",
       "0   -0.733220  False -1.790374          0.708815  1.410805\n",
       "1   -0.172106  False -1.911025          0.549149  1.820999\n",
       "2   -0.209882  False -2.585859          0.560662  1.783607\n",
       "3    0.153014  False  0.795389          0.449186  2.226247\n",
       "4   -0.511758  False -1.381405          0.649390  1.539907\n",
       "..        ...    ...       ...               ...       ...\n",
       "995 -0.388414  False  0.023920          0.613999  1.628667\n",
       "996 -0.441582  False -1.326555          0.629428  1.588745\n",
       "997  0.484657  False  1.561905          0.351330  2.846330\n",
       "998 -1.015037  False -1.370874          0.775110  1.290139\n",
       "999 -1.043779  False -2.725977          0.781232  1.280029\n",
       "\n",
       "[1000 rows x 5 columns]"
      ]
     },
     "execution_count": 6,
     "metadata": {},
     "output_type": "execute_result"
    }
   ],
   "source": [
    "cdf_0"
   ]
  },
  {
   "cell_type": "code",
   "execution_count": 7,
   "metadata": {
    "execution": {
     "iopub.execute_input": "2022-08-22T06:28:52.558259Z",
     "iopub.status.busy": "2022-08-22T06:28:52.558011Z",
     "iopub.status.idle": "2022-08-22T06:28:52.570332Z",
     "shell.execute_reply": "2022-08-22T06:28:52.569540Z"
    }
   },
   "outputs": [
    {
     "data": {
      "text/html": [
       "<div>\n",
       "<style scoped>\n",
       "    .dataframe tbody tr th:only-of-type {\n",
       "        vertical-align: middle;\n",
       "    }\n",
       "\n",
       "    .dataframe tbody tr th {\n",
       "        vertical-align: top;\n",
       "    }\n",
       "\n",
       "    .dataframe thead th {\n",
       "        text-align: right;\n",
       "    }\n",
       "</style>\n",
       "<table border=\"1\" class=\"dataframe\">\n",
       "  <thead>\n",
       "    <tr style=\"text-align: right;\">\n",
       "      <th></th>\n",
       "      <th>W0</th>\n",
       "      <th>v0</th>\n",
       "      <th>y</th>\n",
       "      <th>propensity_score</th>\n",
       "      <th>weight</th>\n",
       "    </tr>\n",
       "  </thead>\n",
       "  <tbody>\n",
       "    <tr>\n",
       "      <th>0</th>\n",
       "      <td>-0.376530</td>\n",
       "      <td>True</td>\n",
       "      <td>2.719697</td>\n",
       "      <td>0.389482</td>\n",
       "      <td>2.567510</td>\n",
       "    </tr>\n",
       "    <tr>\n",
       "      <th>1</th>\n",
       "      <td>1.799778</td>\n",
       "      <td>True</td>\n",
       "      <td>8.977890</td>\n",
       "      <td>0.903439</td>\n",
       "      <td>1.106882</td>\n",
       "    </tr>\n",
       "    <tr>\n",
       "      <th>2</th>\n",
       "      <td>-0.622399</td>\n",
       "      <td>True</td>\n",
       "      <td>4.438742</td>\n",
       "      <td>0.320193</td>\n",
       "      <td>3.123119</td>\n",
       "    </tr>\n",
       "    <tr>\n",
       "      <th>3</th>\n",
       "      <td>-1.497676</td>\n",
       "      <td>True</td>\n",
       "      <td>1.796665</td>\n",
       "      <td>0.137886</td>\n",
       "      <td>7.252373</td>\n",
       "    </tr>\n",
       "    <tr>\n",
       "      <th>4</th>\n",
       "      <td>-0.326504</td>\n",
       "      <td>True</td>\n",
       "      <td>2.444747</td>\n",
       "      <td>0.404257</td>\n",
       "      <td>2.473673</td>\n",
       "    </tr>\n",
       "    <tr>\n",
       "      <th>...</th>\n",
       "      <td>...</td>\n",
       "      <td>...</td>\n",
       "      <td>...</td>\n",
       "      <td>...</td>\n",
       "      <td>...</td>\n",
       "    </tr>\n",
       "    <tr>\n",
       "      <th>995</th>\n",
       "      <td>-0.065326</td>\n",
       "      <td>True</td>\n",
       "      <td>5.570035</td>\n",
       "      <td>0.483639</td>\n",
       "      <td>2.067659</td>\n",
       "    </tr>\n",
       "    <tr>\n",
       "      <th>996</th>\n",
       "      <td>-0.696123</td>\n",
       "      <td>True</td>\n",
       "      <td>1.774305</td>\n",
       "      <td>0.300722</td>\n",
       "      <td>3.325327</td>\n",
       "    </tr>\n",
       "    <tr>\n",
       "      <th>997</th>\n",
       "      <td>-1.039387</td>\n",
       "      <td>True</td>\n",
       "      <td>1.776274</td>\n",
       "      <td>0.219696</td>\n",
       "      <td>4.551753</td>\n",
       "    </tr>\n",
       "    <tr>\n",
       "      <th>998</th>\n",
       "      <td>0.488424</td>\n",
       "      <td>True</td>\n",
       "      <td>4.557893</td>\n",
       "      <td>0.649729</td>\n",
       "      <td>1.539103</td>\n",
       "    </tr>\n",
       "    <tr>\n",
       "      <th>999</th>\n",
       "      <td>-1.523073</td>\n",
       "      <td>True</td>\n",
       "      <td>2.705185</td>\n",
       "      <td>0.134203</td>\n",
       "      <td>7.451425</td>\n",
       "    </tr>\n",
       "  </tbody>\n",
       "</table>\n",
       "<p>1000 rows × 5 columns</p>\n",
       "</div>"
      ],
      "text/plain": [
       "           W0    v0         y  propensity_score    weight\n",
       "0   -0.376530  True  2.719697          0.389482  2.567510\n",
       "1    1.799778  True  8.977890          0.903439  1.106882\n",
       "2   -0.622399  True  4.438742          0.320193  3.123119\n",
       "3   -1.497676  True  1.796665          0.137886  7.252373\n",
       "4   -0.326504  True  2.444747          0.404257  2.473673\n",
       "..        ...   ...       ...               ...       ...\n",
       "995 -0.065326  True  5.570035          0.483639  2.067659\n",
       "996 -0.696123  True  1.774305          0.300722  3.325327\n",
       "997 -1.039387  True  1.776274          0.219696  4.551753\n",
       "998  0.488424  True  4.557893          0.649729  1.539103\n",
       "999 -1.523073  True  2.705185          0.134203  7.451425\n",
       "\n",
       "[1000 rows x 5 columns]"
      ]
     },
     "execution_count": 7,
     "metadata": {},
     "output_type": "execute_result"
    }
   ],
   "source": [
    "cdf_1"
   ]
  },
  {
   "cell_type": "markdown",
   "metadata": {},
   "source": [
    "## Comparing the estimate to Linear Regression\n",
    "First, estimating the effect using the causal data frame, and the 95% confidence interval."
   ]
  },
  {
   "cell_type": "code",
   "execution_count": 8,
   "metadata": {
    "execution": {
     "iopub.execute_input": "2022-08-22T06:28:52.573912Z",
     "iopub.status.busy": "2022-08-22T06:28:52.573667Z",
     "iopub.status.idle": "2022-08-22T06:28:52.686731Z",
     "shell.execute_reply": "2022-08-22T06:28:52.685922Z"
    }
   },
   "outputs": [
    {
     "data": {
      "image/png": "[encoded data removed]",
      "text/latex": [
       "$\\displaystyle 5.1044955541791$"
      ],
      "text/plain": [
       "5.104495554179102"
      ]
     },
     "execution_count": 8,
     "metadata": {},
     "output_type": "execute_result"
    }
   ],
   "source": [
    "(cdf_1['y'] - cdf_0['y']).mean()"
   ]
  },
  {
   "cell_type": "code",
   "execution_count": 9,
   "metadata": {
    "execution": {
     "iopub.execute_input": "2022-08-22T06:28:52.690547Z",
     "iopub.status.busy": "2022-08-22T06:28:52.690248Z",
     "iopub.status.idle": "2022-08-22T06:28:52.719211Z",
     "shell.execute_reply": "2022-08-22T06:28:52.718426Z"
    }
   },
   "outputs": [
    {
     "data": {
      "image/png": "[encoded data removed]",
      "text/latex": [
       "$\\displaystyle 0.200690406855579$"
      ],
      "text/plain": [
       "0.20069040685557857"
      ]
     },
     "execution_count": 9,
     "metadata": {},
     "output_type": "execute_result"
    }
   ],
   "source": [
    "1.96*(cdf_1['y'] - cdf_0['y']).std() / np.sqrt(len(df))"
   ]
  },
  {
   "cell_type": "markdown",
   "metadata": {},
   "source": [
    "Comparing to the estimate from OLS."
   ]
  },
  {
   "cell_type": "code",
   "execution_count": 10,
   "metadata": {
    "execution": {
     "iopub.execute_input": "2022-08-22T06:28:52.723127Z",
     "iopub.status.busy": "2022-08-22T06:28:52.722883Z",
     "iopub.status.idle": "2022-08-22T06:28:52.740999Z",
     "shell.execute_reply": "2022-08-22T06:28:52.739983Z"
    }
   },
   "outputs": [
    {
     "data": {
      "text/html": [
       "<table class=\"simpletable\">\n",
       "<caption>OLS Regression Results</caption>\n",
       "<tr>\n",
       "  <th>Dep. Variable:</th>            <td>y</td>        <th>  R-squared (uncentered):</th>      <td>   0.943</td>\n",
       "</tr>\n",
       "<tr>\n",
       "  <th>Model:</th>                   <td>OLS</td>       <th>  Adj. R-squared (uncentered):</th> <td>   0.943</td>\n",
       "</tr>\n",
       "<tr>\n",
       "  <th>Method:</th>             <td>Least Squares</td>  <th>  F-statistic:       </th>          <td>   8206.</td>\n",
       "</tr>\n",
       "<tr>\n",
       "  <th>Date:</th>             <td>Mon, 22 Aug 2022</td> <th>  Prob (F-statistic):</th>           <td>  0.00</td> \n",
       "</tr>\n",
       "<tr>\n",
       "  <th>Time:</th>                 <td>06:28:52</td>     <th>  Log-Likelihood:    </th>          <td> -1412.4</td>\n",
       "</tr>\n",
       "<tr>\n",
       "  <th>No. Observations:</th>      <td>  1000</td>      <th>  AIC:               </th>          <td>   2829.</td>\n",
       "</tr>\n",
       "<tr>\n",
       "  <th>Df Residuals:</th>          <td>   998</td>      <th>  BIC:               </th>          <td>   2839.</td>\n",
       "</tr>\n",
       "<tr>\n",
       "  <th>Df Model:</th>              <td>     2</td>      <th>                     </th>              <td> </td>   \n",
       "</tr>\n",
       "<tr>\n",
       "  <th>Covariance Type:</th>      <td>nonrobust</td>    <th>                     </th>              <td> </td>   \n",
       "</tr>\n",
       "</table>\n",
       "<table class=\"simpletable\">\n",
       "<tr>\n",
       "   <td></td>     <th>coef</th>     <th>std err</th>      <th>t</th>      <th>P>|t|</th>  <th>[0.025</th>    <th>0.975]</th>  \n",
       "</tr>\n",
       "<tr>\n",
       "  <th>x1</th> <td>    2.1886</td> <td>    0.029</td> <td>   76.776</td> <td> 0.000</td> <td>    2.133</td> <td>    2.245</td>\n",
       "</tr>\n",
       "<tr>\n",
       "  <th>x2</th> <td>    4.9412</td> <td>    0.050</td> <td>   97.961</td> <td> 0.000</td> <td>    4.842</td> <td>    5.040</td>\n",
       "</tr>\n",
       "</table>\n",
       "<table class=\"simpletable\">\n",
       "<tr>\n",
       "  <th>Omnibus:</th>       <td> 6.349</td> <th>  Durbin-Watson:     </th> <td>   1.999</td>\n",
       "</tr>\n",
       "<tr>\n",
       "  <th>Prob(Omnibus):</th> <td> 0.042</td> <th>  Jarque-Bera (JB):  </th> <td>   6.342</td>\n",
       "</tr>\n",
       "<tr>\n",
       "  <th>Skew:</th>          <td> 0.164</td> <th>  Prob(JB):          </th> <td>  0.0420</td>\n",
       "</tr>\n",
       "<tr>\n",
       "  <th>Kurtosis:</th>      <td> 3.213</td> <th>  Cond. No.          </th> <td>    1.78</td>\n",
       "</tr>\n",
       "</table><br/><br/>Notes:<br/>[1] R² is computed without centering (uncentered) since the model does not contain a constant.<br/>[2] Standard Errors assume that the covariance matrix of the errors is correctly specified."
      ],
      "text/plain": [
       "<class 'statsmodels.iolib.summary.Summary'>\n",
       "\"\"\"\n",
       "                                 OLS Regression Results                                \n",
       "=======================================================================================\n",
       "Dep. Variable:                      y   R-squared (uncentered):                   0.943\n",
       "Model:                            OLS   Adj. R-squared (uncentered):              0.943\n",
       "Method:                 Least Squares   F-statistic:                              8206.\n",
       "Date:                Mon, 22 Aug 2022   Prob (F-statistic):                        0.00\n",
       "Time:                        06:28:52   Log-Likelihood:                         -1412.4\n",
       "No. Observations:                1000   AIC:                                      2829.\n",
       "Df Residuals:                     998   BIC:                                      2839.\n",
       "Df Model:                           2                                                  \n",
       "Covariance Type:            nonrobust                                                  \n",
       "==============================================================================\n",
       "                 coef    std err          t      P>|t|      [0.025      0.975]\n",
       "------------------------------------------------------------------------------\n",
       "x1             2.1886      0.029     76.776      0.000       2.133       2.245\n",
       "x2             4.9412      0.050     97.961      0.000       4.842       5.040\n",
       "==============================================================================\n",
       "Omnibus:                        6.349   Durbin-Watson:                   1.999\n",
       "Prob(Omnibus):                  0.042   Jarque-Bera (JB):                6.342\n",
       "Skew:                           0.164   Prob(JB):                       0.0420\n",
       "Kurtosis:                       3.213   Cond. No.                         1.78\n",
       "==============================================================================\n",
       "\n",
       "Notes:\n",
       "[1] R² is computed without centering (uncentered) since the model does not contain a constant.\n",
       "[2] Standard Errors assume that the covariance matrix of the errors is correctly specified.\n",
       "\"\"\""
      ]
     },
     "execution_count": 10,
     "metadata": {},
     "output_type": "execute_result"
    }
   ],
   "source": [
    "model = OLS(np.asarray(df[outcome]), np.asarray(df[[common_cause, treatment]], dtype=np.float64))\n",
    "result = model.fit()\n",
    "result.summary()"
   ]
  }
 ],
 "metadata": {
  "kernelspec": {
   "display_name": "Python 3",
   "language": "python",
   "name": "python3"
  },
  "language_info": {
   "codemirror_mode": {
    "name": "ipython",
    "version": 3
   },
   "file_extension": ".py",
   "mimetype": "text/x-python",
   "name": "python",
   "nbconvert_exporter": "python",
   "pygments_lexer": "ipython3",
   "version": "3.8.10"
  },
  "toc": {
   "base_numbering": 1,
   "nav_menu": {},
   "number_sections": false,
   "sideBar": true,
   "skip_h1_title": true,
   "title_cell": "Table of Contents",
   "title_sidebar": "Contents",
   "toc_cell": false,
   "toc_position": {},
   "toc_section_display": true,
   "toc_window_display": false
  }
 },
 "nbformat": 4,
 "nbformat_minor": 4
}
