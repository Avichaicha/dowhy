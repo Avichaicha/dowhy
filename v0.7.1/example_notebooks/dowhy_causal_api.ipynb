{
 "cells": [
  {
   "cell_type": "markdown",
   "metadata": {},
   "source": [
    "# Demo for the DoWhy causal API\n",
    "We show a simple example of adding a causal extension to any dataframe. "
   ]
  },
  {
   "cell_type": "code",
   "execution_count": 1,
   "metadata": {
    "execution": {
     "iopub.execute_input": "2022-09-01T23:20:44.456830Z",
     "iopub.status.busy": "2022-09-01T23:20:44.456252Z",
     "iopub.status.idle": "2022-09-01T23:20:45.889456Z",
     "shell.execute_reply": "2022-09-01T23:20:45.888418Z"
    }
   },
   "outputs": [],
   "source": [
    "import dowhy.datasets\n",
    "import dowhy.api\n",
    "\n",
    "import numpy as np\n",
    "import pandas as pd\n",
    "\n",
    "from statsmodels.api import OLS"
   ]
  },
  {
   "cell_type": "code",
   "execution_count": 2,
   "metadata": {
    "execution": {
     "iopub.execute_input": "2022-09-01T23:20:45.894293Z",
     "iopub.status.busy": "2022-09-01T23:20:45.893857Z",
     "iopub.status.idle": "2022-09-01T23:20:45.946215Z",
     "shell.execute_reply": "2022-09-01T23:20:45.945440Z"
    }
   },
   "outputs": [
    {
     "data": {
      "text/html": [
       "<div>\n",
       "<style scoped>\n",
       "    .dataframe tbody tr th:only-of-type {\n",
       "        vertical-align: middle;\n",
       "    }\n",
       "\n",
       "    .dataframe tbody tr th {\n",
       "        vertical-align: top;\n",
       "    }\n",
       "\n",
       "    .dataframe thead th {\n",
       "        text-align: right;\n",
       "    }\n",
       "</style>\n",
       "<table border=\"1\" class=\"dataframe\">\n",
       "  <thead>\n",
       "    <tr style=\"text-align: right;\">\n",
       "      <th></th>\n",
       "      <th>W0</th>\n",
       "      <th>v0</th>\n",
       "      <th>y</th>\n",
       "    </tr>\n",
       "  </thead>\n",
       "  <tbody>\n",
       "    <tr>\n",
       "      <th>0</th>\n",
       "      <td>-0.387993</td>\n",
       "      <td>False</td>\n",
       "      <td>-2.701408</td>\n",
       "    </tr>\n",
       "    <tr>\n",
       "      <th>1</th>\n",
       "      <td>0.349937</td>\n",
       "      <td>True</td>\n",
       "      <td>6.887390</td>\n",
       "    </tr>\n",
       "    <tr>\n",
       "      <th>2</th>\n",
       "      <td>-0.794214</td>\n",
       "      <td>False</td>\n",
       "      <td>-0.697657</td>\n",
       "    </tr>\n",
       "    <tr>\n",
       "      <th>3</th>\n",
       "      <td>-1.914613</td>\n",
       "      <td>True</td>\n",
       "      <td>4.519245</td>\n",
       "    </tr>\n",
       "    <tr>\n",
       "      <th>4</th>\n",
       "      <td>-0.335556</td>\n",
       "      <td>False</td>\n",
       "      <td>0.367590</td>\n",
       "    </tr>\n",
       "    <tr>\n",
       "      <th>...</th>\n",
       "      <td>...</td>\n",
       "      <td>...</td>\n",
       "      <td>...</td>\n",
       "    </tr>\n",
       "    <tr>\n",
       "      <th>995</th>\n",
       "      <td>-0.107765</td>\n",
       "      <td>True</td>\n",
       "      <td>5.913964</td>\n",
       "    </tr>\n",
       "    <tr>\n",
       "      <th>996</th>\n",
       "      <td>-1.662093</td>\n",
       "      <td>True</td>\n",
       "      <td>5.533166</td>\n",
       "    </tr>\n",
       "    <tr>\n",
       "      <th>997</th>\n",
       "      <td>-2.019542</td>\n",
       "      <td>False</td>\n",
       "      <td>-1.104075</td>\n",
       "    </tr>\n",
       "    <tr>\n",
       "      <th>998</th>\n",
       "      <td>-1.511729</td>\n",
       "      <td>False</td>\n",
       "      <td>-1.661734</td>\n",
       "    </tr>\n",
       "    <tr>\n",
       "      <th>999</th>\n",
       "      <td>-0.928612</td>\n",
       "      <td>True</td>\n",
       "      <td>3.257116</td>\n",
       "    </tr>\n",
       "  </tbody>\n",
       "</table>\n",
       "<p>1000 rows × 3 columns</p>\n",
       "</div>"
      ],
      "text/plain": [
       "           W0     v0         y\n",
       "0   -0.387993  False -2.701408\n",
       "1    0.349937   True  6.887390\n",
       "2   -0.794214  False -0.697657\n",
       "3   -1.914613   True  4.519245\n",
       "4   -0.335556  False  0.367590\n",
       "..        ...    ...       ...\n",
       "995 -0.107765   True  5.913964\n",
       "996 -1.662093   True  5.533166\n",
       "997 -2.019542  False -1.104075\n",
       "998 -1.511729  False -1.661734\n",
       "999 -0.928612   True  3.257116\n",
       "\n",
       "[1000 rows x 3 columns]"
      ]
     },
     "execution_count": 2,
     "metadata": {},
     "output_type": "execute_result"
    }
   ],
   "source": [
    "data = dowhy.datasets.linear_dataset(beta=5,\n",
    "        num_common_causes=1,\n",
    "        num_instruments = 0,\n",
    "        num_samples=1000,\n",
    "        treatment_is_binary=True)\n",
    "df = data['df']\n",
    "df['y'] = df['y'] + np.random.normal(size=len(df)) # Adding noise to data. Without noise, the variance in Y|X, Z is zero, and mcmc fails.\n",
    "#data['dot_graph'] = 'digraph { v ->y;X0-> v;X0-> y;}'\n",
    "\n",
    "treatment= data[\"treatment_name\"][0]\n",
    "outcome = data[\"outcome_name\"][0]\n",
    "common_cause = data[\"common_causes_names\"][0]\n",
    "df"
   ]
  },
  {
   "cell_type": "code",
   "execution_count": 3,
   "metadata": {
    "execution": {
     "iopub.execute_input": "2022-09-01T23:20:45.950984Z",
     "iopub.status.busy": "2022-09-01T23:20:45.950143Z",
     "iopub.status.idle": "2022-09-01T23:20:46.883318Z",
     "shell.execute_reply": "2022-09-01T23:20:46.882660Z"
    }
   },
   "outputs": [
    {
     "data": {
      "text/plain": [
       "<AxesSubplot:xlabel='v0'>"
      ]
     },
     "execution_count": 3,
     "metadata": {},
     "output_type": "execute_result"
    },
    {
     "data": {
      "image/png": "[encoded data removed]",
      "text/plain": [
       "<Figure size 640x480 with 1 Axes>"
      ]
     },
     "metadata": {},
     "output_type": "display_data"
    }
   ],
   "source": [
    "# data['df'] is just a regular pandas.DataFrame\n",
    "df.causal.do(x=treatment,\n",
    "                     variable_types={treatment: 'b', outcome: 'c', common_cause: 'c'},\n",
    "                     outcome=outcome,\n",
    "                     common_causes=[common_cause],\n",
    "                     proceed_when_unidentifiable=True).groupby(treatment).mean().plot(y=outcome, kind='bar')"
   ]
  },
  {
   "cell_type": "code",
   "execution_count": 4,
   "metadata": {
    "execution": {
     "iopub.execute_input": "2022-09-01T23:20:46.887948Z",
     "iopub.status.busy": "2022-09-01T23:20:46.887211Z",
     "iopub.status.idle": "2022-09-01T23:20:47.013356Z",
     "shell.execute_reply": "2022-09-01T23:20:47.012686Z"
    }
   },
   "outputs": [
    {
     "data": {
      "text/plain": [
       "<AxesSubplot:xlabel='v0'>"
      ]
     },
     "execution_count": 4,
     "metadata": {},
     "output_type": "execute_result"
    },
    {
     "data": {
      "image/png": "[encoded data removed]",
      "text/plain": [
       "<Figure size 640x480 with 1 Axes>"
      ]
     },
     "metadata": {},
     "output_type": "display_data"
    }
   ],
   "source": [
    "df.causal.do(x={treatment: 1}, \n",
    "              variable_types={treatment:'b', outcome: 'c', common_cause: 'c'}, \n",
    "              outcome=outcome,\n",
    "              method='weighting', \n",
    "              common_causes=[common_cause],\n",
    "              proceed_when_unidentifiable=True).groupby(treatment).mean().plot(y=outcome, kind='bar')"
   ]
  },
  {
   "cell_type": "code",
   "execution_count": 5,
   "metadata": {
    "execution": {
     "iopub.execute_input": "2022-09-01T23:20:47.018761Z",
     "iopub.status.busy": "2022-09-01T23:20:47.017109Z",
     "iopub.status.idle": "2022-09-01T23:20:47.056292Z",
     "shell.execute_reply": "2022-09-01T23:20:47.055498Z"
    }
   },
   "outputs": [],
   "source": [
    "cdf_1 = df.causal.do(x={treatment: 1}, \n",
    "              variable_types={treatment: 'b', outcome: 'c', common_cause: 'c'}, \n",
    "              outcome=outcome, \n",
    "              dot_graph=data['dot_graph'],\n",
    "              proceed_when_unidentifiable=True)\n",
    "\n",
    "cdf_0 = df.causal.do(x={treatment: 0}, \n",
    "              variable_types={treatment: 'b', outcome: 'c', common_cause: 'c'}, \n",
    "              outcome=outcome, \n",
    "              dot_graph=data['dot_graph'],\n",
    "              proceed_when_unidentifiable=True)\n"
   ]
  },
  {
   "cell_type": "code",
   "execution_count": 6,
   "metadata": {
    "execution": {
     "iopub.execute_input": "2022-09-01T23:20:47.060359Z",
     "iopub.status.busy": "2022-09-01T23:20:47.059824Z",
     "iopub.status.idle": "2022-09-01T23:20:47.073957Z",
     "shell.execute_reply": "2022-09-01T23:20:47.073281Z"
    },
    "scrolled": true
   },
   "outputs": [
    {
     "data": {
      "text/html": [
       "<div>\n",
       "<style scoped>\n",
       "    .dataframe tbody tr th:only-of-type {\n",
       "        vertical-align: middle;\n",
       "    }\n",
       "\n",
       "    .dataframe tbody tr th {\n",
       "        vertical-align: top;\n",
       "    }\n",
       "\n",
       "    .dataframe thead th {\n",
       "        text-align: right;\n",
       "    }\n",
       "</style>\n",
       "<table border=\"1\" class=\"dataframe\">\n",
       "  <thead>\n",
       "    <tr style=\"text-align: right;\">\n",
       "      <th></th>\n",
       "      <th>W0</th>\n",
       "      <th>v0</th>\n",
       "      <th>y</th>\n",
       "      <th>propensity_score</th>\n",
       "      <th>weight</th>\n",
       "    </tr>\n",
       "  </thead>\n",
       "  <tbody>\n",
       "    <tr>\n",
       "      <th>0</th>\n",
       "      <td>0.096195</td>\n",
       "      <td>False</td>\n",
       "      <td>-1.539132</td>\n",
       "      <td>0.483702</td>\n",
       "      <td>2.067389</td>\n",
       "    </tr>\n",
       "    <tr>\n",
       "      <th>1</th>\n",
       "      <td>-2.648642</td>\n",
       "      <td>False</td>\n",
       "      <td>-2.610466</td>\n",
       "      <td>0.695574</td>\n",
       "      <td>1.437662</td>\n",
       "    </tr>\n",
       "    <tr>\n",
       "      <th>2</th>\n",
       "      <td>0.566909</td>\n",
       "      <td>False</td>\n",
       "      <td>0.293894</td>\n",
       "      <td>0.445689</td>\n",
       "      <td>2.243716</td>\n",
       "    </tr>\n",
       "    <tr>\n",
       "      <th>3</th>\n",
       "      <td>-1.523455</td>\n",
       "      <td>False</td>\n",
       "      <td>-1.802583</td>\n",
       "      <td>0.613215</td>\n",
       "      <td>1.630749</td>\n",
       "    </tr>\n",
       "    <tr>\n",
       "      <th>4</th>\n",
       "      <td>-2.087956</td>\n",
       "      <td>False</td>\n",
       "      <td>-0.992591</td>\n",
       "      <td>0.655702</td>\n",
       "      <td>1.525084</td>\n",
       "    </tr>\n",
       "    <tr>\n",
       "      <th>...</th>\n",
       "      <td>...</td>\n",
       "      <td>...</td>\n",
       "      <td>...</td>\n",
       "      <td>...</td>\n",
       "      <td>...</td>\n",
       "    </tr>\n",
       "    <tr>\n",
       "      <th>995</th>\n",
       "      <td>-0.874294</td>\n",
       "      <td>False</td>\n",
       "      <td>-1.286866</td>\n",
       "      <td>0.562176</td>\n",
       "      <td>1.778801</td>\n",
       "    </tr>\n",
       "    <tr>\n",
       "      <th>996</th>\n",
       "      <td>-0.480560</td>\n",
       "      <td>False</td>\n",
       "      <td>0.395871</td>\n",
       "      <td>0.530491</td>\n",
       "      <td>1.885047</td>\n",
       "    </tr>\n",
       "    <tr>\n",
       "      <th>997</th>\n",
       "      <td>-1.638826</td>\n",
       "      <td>False</td>\n",
       "      <td>-0.781799</td>\n",
       "      <td>0.622064</td>\n",
       "      <td>1.607551</td>\n",
       "    </tr>\n",
       "    <tr>\n",
       "      <th>998</th>\n",
       "      <td>-1.617081</td>\n",
       "      <td>False</td>\n",
       "      <td>-1.892660</td>\n",
       "      <td>0.620402</td>\n",
       "      <td>1.611857</td>\n",
       "    </tr>\n",
       "    <tr>\n",
       "      <th>999</th>\n",
       "      <td>-1.290063</td>\n",
       "      <td>False</td>\n",
       "      <td>-1.765016</td>\n",
       "      <td>0.595088</td>\n",
       "      <td>1.680423</td>\n",
       "    </tr>\n",
       "  </tbody>\n",
       "</table>\n",
       "<p>1000 rows × 5 columns</p>\n",
       "</div>"
      ],
      "text/plain": [
       "           W0     v0         y  propensity_score    weight\n",
       "0    0.096195  False -1.539132          0.483702  2.067389\n",
       "1   -2.648642  False -2.610466          0.695574  1.437662\n",
       "2    0.566909  False  0.293894          0.445689  2.243716\n",
       "3   -1.523455  False -1.802583          0.613215  1.630749\n",
       "4   -2.087956  False -0.992591          0.655702  1.525084\n",
       "..        ...    ...       ...               ...       ...\n",
       "995 -0.874294  False -1.286866          0.562176  1.778801\n",
       "996 -0.480560  False  0.395871          0.530491  1.885047\n",
       "997 -1.638826  False -0.781799          0.622064  1.607551\n",
       "998 -1.617081  False -1.892660          0.620402  1.611857\n",
       "999 -1.290063  False -1.765016          0.595088  1.680423\n",
       "\n",
       "[1000 rows x 5 columns]"
      ]
     },
     "execution_count": 6,
     "metadata": {},
     "output_type": "execute_result"
    }
   ],
   "source": [
    "cdf_0"
   ]
  },
  {
   "cell_type": "code",
   "execution_count": 7,
   "metadata": {
    "execution": {
     "iopub.execute_input": "2022-09-01T23:20:47.077251Z",
     "iopub.status.busy": "2022-09-01T23:20:47.076828Z",
     "iopub.status.idle": "2022-09-01T23:20:47.090156Z",
     "shell.execute_reply": "2022-09-01T23:20:47.089428Z"
    }
   },
   "outputs": [
    {
     "data": {
      "text/html": [
       "<div>\n",
       "<style scoped>\n",
       "    .dataframe tbody tr th:only-of-type {\n",
       "        vertical-align: middle;\n",
       "    }\n",
       "\n",
       "    .dataframe tbody tr th {\n",
       "        vertical-align: top;\n",
       "    }\n",
       "\n",
       "    .dataframe thead th {\n",
       "        text-align: right;\n",
       "    }\n",
       "</style>\n",
       "<table border=\"1\" class=\"dataframe\">\n",
       "  <thead>\n",
       "    <tr style=\"text-align: right;\">\n",
       "      <th></th>\n",
       "      <th>W0</th>\n",
       "      <th>v0</th>\n",
       "      <th>y</th>\n",
       "      <th>propensity_score</th>\n",
       "      <th>weight</th>\n",
       "    </tr>\n",
       "  </thead>\n",
       "  <tbody>\n",
       "    <tr>\n",
       "      <th>0</th>\n",
       "      <td>-1.747681</td>\n",
       "      <td>True</td>\n",
       "      <td>3.522562</td>\n",
       "      <td>0.369660</td>\n",
       "      <td>2.705188</td>\n",
       "    </tr>\n",
       "    <tr>\n",
       "      <th>1</th>\n",
       "      <td>-0.462317</td>\n",
       "      <td>True</td>\n",
       "      <td>3.873671</td>\n",
       "      <td>0.470985</td>\n",
       "      <td>2.123209</td>\n",
       "    </tr>\n",
       "    <tr>\n",
       "      <th>2</th>\n",
       "      <td>-1.459731</td>\n",
       "      <td>True</td>\n",
       "      <td>3.896596</td>\n",
       "      <td>0.391705</td>\n",
       "      <td>2.552939</td>\n",
       "    </tr>\n",
       "    <tr>\n",
       "      <th>3</th>\n",
       "      <td>0.546305</td>\n",
       "      <td>True</td>\n",
       "      <td>4.519155</td>\n",
       "      <td>0.552657</td>\n",
       "      <td>1.809441</td>\n",
       "    </tr>\n",
       "    <tr>\n",
       "      <th>4</th>\n",
       "      <td>-0.443537</td>\n",
       "      <td>True</td>\n",
       "      <td>5.006714</td>\n",
       "      <td>0.472505</td>\n",
       "      <td>2.116378</td>\n",
       "    </tr>\n",
       "    <tr>\n",
       "      <th>...</th>\n",
       "      <td>...</td>\n",
       "      <td>...</td>\n",
       "      <td>...</td>\n",
       "      <td>...</td>\n",
       "      <td>...</td>\n",
       "    </tr>\n",
       "    <tr>\n",
       "      <th>995</th>\n",
       "      <td>-0.975308</td>\n",
       "      <td>True</td>\n",
       "      <td>3.706193</td>\n",
       "      <td>0.429765</td>\n",
       "      <td>2.326852</td>\n",
       "    </tr>\n",
       "    <tr>\n",
       "      <th>996</th>\n",
       "      <td>-0.978049</td>\n",
       "      <td>True</td>\n",
       "      <td>5.303622</td>\n",
       "      <td>0.429547</td>\n",
       "      <td>2.328033</td>\n",
       "    </tr>\n",
       "    <tr>\n",
       "      <th>997</th>\n",
       "      <td>-1.894453</td>\n",
       "      <td>True</td>\n",
       "      <td>2.663233</td>\n",
       "      <td>0.358623</td>\n",
       "      <td>2.788446</td>\n",
       "    </tr>\n",
       "    <tr>\n",
       "      <th>998</th>\n",
       "      <td>-1.018748</td>\n",
       "      <td>True</td>\n",
       "      <td>4.322951</td>\n",
       "      <td>0.426311</td>\n",
       "      <td>2.345705</td>\n",
       "    </tr>\n",
       "    <tr>\n",
       "      <th>999</th>\n",
       "      <td>-0.505625</td>\n",
       "      <td>True</td>\n",
       "      <td>5.784972</td>\n",
       "      <td>0.467482</td>\n",
       "      <td>2.139120</td>\n",
       "    </tr>\n",
       "  </tbody>\n",
       "</table>\n",
       "<p>1000 rows × 5 columns</p>\n",
       "</div>"
      ],
      "text/plain": [
       "           W0    v0         y  propensity_score    weight\n",
       "0   -1.747681  True  3.522562          0.369660  2.705188\n",
       "1   -0.462317  True  3.873671          0.470985  2.123209\n",
       "2   -1.459731  True  3.896596          0.391705  2.552939\n",
       "3    0.546305  True  4.519155          0.552657  1.809441\n",
       "4   -0.443537  True  5.006714          0.472505  2.116378\n",
       "..        ...   ...       ...               ...       ...\n",
       "995 -0.975308  True  3.706193          0.429765  2.326852\n",
       "996 -0.978049  True  5.303622          0.429547  2.328033\n",
       "997 -1.894453  True  2.663233          0.358623  2.788446\n",
       "998 -1.018748  True  4.322951          0.426311  2.345705\n",
       "999 -0.505625  True  5.784972          0.467482  2.139120\n",
       "\n",
       "[1000 rows x 5 columns]"
      ]
     },
     "execution_count": 7,
     "metadata": {},
     "output_type": "execute_result"
    }
   ],
   "source": [
    "cdf_1"
   ]
  },
  {
   "cell_type": "markdown",
   "metadata": {},
   "source": [
    "## Comparing the estimate to Linear Regression\n",
    "First, estimating the effect using the causal data frame, and the 95% confidence interval."
   ]
  },
  {
   "cell_type": "code",
   "execution_count": 8,
   "metadata": {
    "execution": {
     "iopub.execute_input": "2022-09-01T23:20:47.093551Z",
     "iopub.status.busy": "2022-09-01T23:20:47.093286Z",
     "iopub.status.idle": "2022-09-01T23:20:47.214968Z",
     "shell.execute_reply": "2022-09-01T23:20:47.213880Z"
    }
   },
   "outputs": [
    {
     "data": {
      "image/png": "[encoded data removed]",
      "text/latex": [
       "$\\displaystyle 5.17381677699213$"
      ],
      "text/plain": [
       "5.173816776992125"
      ]
     },
     "execution_count": 8,
     "metadata": {},
     "output_type": "execute_result"
    }
   ],
   "source": [
    "(cdf_1['y'] - cdf_0['y']).mean()"
   ]
  },
  {
   "cell_type": "code",
   "execution_count": 9,
   "metadata": {
    "execution": {
     "iopub.execute_input": "2022-09-01T23:20:47.221836Z",
     "iopub.status.busy": "2022-09-01T23:20:47.221317Z",
     "iopub.status.idle": "2022-09-01T23:20:47.251916Z",
     "shell.execute_reply": "2022-09-01T23:20:47.251096Z"
    }
   },
   "outputs": [
    {
     "data": {
      "image/png": "[encoded data removed]",
      "text/latex": [
       "$\\displaystyle 0.109780125653412$"
      ],
      "text/plain": [
       "0.10978012565341158"
      ]
     },
     "execution_count": 9,
     "metadata": {},
     "output_type": "execute_result"
    }
   ],
   "source": [
    "1.96*(cdf_1['y'] - cdf_0['y']).std() / np.sqrt(len(df))"
   ]
  },
  {
   "cell_type": "markdown",
   "metadata": {},
   "source": [
    "Comparing to the estimate from OLS."
   ]
  },
  {
   "cell_type": "code",
   "execution_count": 10,
   "metadata": {
    "execution": {
     "iopub.execute_input": "2022-09-01T23:20:47.255899Z",
     "iopub.status.busy": "2022-09-01T23:20:47.255275Z",
     "iopub.status.idle": "2022-09-01T23:20:47.274374Z",
     "shell.execute_reply": "2022-09-01T23:20:47.273590Z"
    }
   },
   "outputs": [
    {
     "data": {
      "text/html": [
       "<table class=\"simpletable\">\n",
       "<caption>OLS Regression Results</caption>\n",
       "<tr>\n",
       "  <th>Dep. Variable:</th>            <td>y</td>        <th>  R-squared (uncentered):</th>      <td>   0.908</td>\n",
       "</tr>\n",
       "<tr>\n",
       "  <th>Model:</th>                   <td>OLS</td>       <th>  Adj. R-squared (uncentered):</th> <td>   0.908</td>\n",
       "</tr>\n",
       "<tr>\n",
       "  <th>Method:</th>             <td>Least Squares</td>  <th>  F-statistic:       </th>          <td>   4919.</td>\n",
       "</tr>\n",
       "<tr>\n",
       "  <th>Date:</th>             <td>Thu, 01 Sep 2022</td> <th>  Prob (F-statistic):</th>           <td>  0.00</td> \n",
       "</tr>\n",
       "<tr>\n",
       "  <th>Time:</th>                 <td>23:20:47</td>     <th>  Log-Likelihood:    </th>          <td> -1408.0</td>\n",
       "</tr>\n",
       "<tr>\n",
       "  <th>No. Observations:</th>      <td>  1000</td>      <th>  AIC:               </th>          <td>   2820.</td>\n",
       "</tr>\n",
       "<tr>\n",
       "  <th>Df Residuals:</th>          <td>   998</td>      <th>  BIC:               </th>          <td>   2830.</td>\n",
       "</tr>\n",
       "<tr>\n",
       "  <th>Df Model:</th>              <td>     2</td>      <th>                     </th>              <td> </td>   \n",
       "</tr>\n",
       "<tr>\n",
       "  <th>Covariance Type:</th>      <td>nonrobust</td>    <th>                     </th>              <td> </td>   \n",
       "</tr>\n",
       "</table>\n",
       "<table class=\"simpletable\">\n",
       "<tr>\n",
       "   <td></td>     <th>coef</th>     <th>std err</th>      <th>t</th>      <th>P>|t|</th>  <th>[0.025</th>    <th>0.975]</th>  \n",
       "</tr>\n",
       "<tr>\n",
       "  <th>x1</th> <td>    0.7673</td> <td>    0.023</td> <td>   32.854</td> <td> 0.000</td> <td>    0.721</td> <td>    0.813</td>\n",
       "</tr>\n",
       "<tr>\n",
       "  <th>x2</th> <td>    5.0991</td> <td>    0.051</td> <td>   99.107</td> <td> 0.000</td> <td>    4.998</td> <td>    5.200</td>\n",
       "</tr>\n",
       "</table>\n",
       "<table class=\"simpletable\">\n",
       "<tr>\n",
       "  <th>Omnibus:</th>       <td> 1.887</td> <th>  Durbin-Watson:     </th> <td>   2.143</td>\n",
       "</tr>\n",
       "<tr>\n",
       "  <th>Prob(Omnibus):</th> <td> 0.389</td> <th>  Jarque-Bera (JB):  </th> <td>   1.840</td>\n",
       "</tr>\n",
       "<tr>\n",
       "  <th>Skew:</th>          <td> 0.105</td> <th>  Prob(JB):          </th> <td>   0.398</td>\n",
       "</tr>\n",
       "<tr>\n",
       "  <th>Kurtosis:</th>      <td> 3.011</td> <th>  Cond. No.          </th> <td>    2.45</td>\n",
       "</tr>\n",
       "</table><br/><br/>Notes:<br/>[1] R² is computed without centering (uncentered) since the model does not contain a constant.<br/>[2] Standard Errors assume that the covariance matrix of the errors is correctly specified."
      ],
      "text/plain": [
       "<class 'statsmodels.iolib.summary.Summary'>\n",
       "\"\"\"\n",
       "                                 OLS Regression Results                                \n",
       "=======================================================================================\n",
       "Dep. Variable:                      y   R-squared (uncentered):                   0.908\n",
       "Model:                            OLS   Adj. R-squared (uncentered):              0.908\n",
       "Method:                 Least Squares   F-statistic:                              4919.\n",
       "Date:                Thu, 01 Sep 2022   Prob (F-statistic):                        0.00\n",
       "Time:                        23:20:47   Log-Likelihood:                         -1408.0\n",
       "No. Observations:                1000   AIC:                                      2820.\n",
       "Df Residuals:                     998   BIC:                                      2830.\n",
       "Df Model:                           2                                                  \n",
       "Covariance Type:            nonrobust                                                  \n",
       "==============================================================================\n",
       "                 coef    std err          t      P>|t|      [0.025      0.975]\n",
       "------------------------------------------------------------------------------\n",
       "x1             0.7673      0.023     32.854      0.000       0.721       0.813\n",
       "x2             5.0991      0.051     99.107      0.000       4.998       5.200\n",
       "==============================================================================\n",
       "Omnibus:                        1.887   Durbin-Watson:                   2.143\n",
       "Prob(Omnibus):                  0.389   Jarque-Bera (JB):                1.840\n",
       "Skew:                           0.105   Prob(JB):                        0.398\n",
       "Kurtosis:                       3.011   Cond. No.                         2.45\n",
       "==============================================================================\n",
       "\n",
       "Notes:\n",
       "[1] R² is computed without centering (uncentered) since the model does not contain a constant.\n",
       "[2] Standard Errors assume that the covariance matrix of the errors is correctly specified.\n",
       "\"\"\""
      ]
     },
     "execution_count": 10,
     "metadata": {},
     "output_type": "execute_result"
    }
   ],
   "source": [
    "model = OLS(np.asarray(df[outcome]), np.asarray(df[[common_cause, treatment]], dtype=np.float64))\n",
    "result = model.fit()\n",
    "result.summary()"
   ]
  }
 ],
 "metadata": {
  "kernelspec": {
   "display_name": "Python 3",
   "language": "python",
   "name": "python3"
  },
  "language_info": {
   "codemirror_mode": {
    "name": "ipython",
    "version": 3
   },
   "file_extension": ".py",
   "mimetype": "text/x-python",
   "name": "python",
   "nbconvert_exporter": "python",
   "pygments_lexer": "ipython3",
   "version": "3.8.10"
  },
  "toc": {
   "base_numbering": 1,
   "nav_menu": {},
   "number_sections": false,
   "sideBar": true,
   "skip_h1_title": true,
   "title_cell": "Table of Contents",
   "title_sidebar": "Contents",
   "toc_cell": false,
   "toc_position": {},
   "toc_section_display": true,
   "toc_window_display": false
  }
 },
 "nbformat": 4,
 "nbformat_minor": 4
}
