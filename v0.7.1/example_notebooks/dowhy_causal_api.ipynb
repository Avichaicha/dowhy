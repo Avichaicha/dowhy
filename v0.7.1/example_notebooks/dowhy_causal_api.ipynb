{
 "cells": [
  {
   "cell_type": "markdown",
   "metadata": {},
   "source": [
    "# Demo for the DoWhy causal API\n",
    "We show a simple example of adding a causal extension to any dataframe. "
   ]
  },
  {
   "cell_type": "code",
   "execution_count": 1,
   "metadata": {
    "execution": {
     "iopub.execute_input": "2022-07-28T10:36:51.737101Z",
     "iopub.status.busy": "2022-07-28T10:36:51.736751Z",
     "iopub.status.idle": "2022-07-28T10:36:53.140724Z",
     "shell.execute_reply": "2022-07-28T10:36:53.139354Z"
    }
   },
   "outputs": [
    {
     "name": "stdout",
     "output_type": "stream",
     "text": [
      "keywords are unexpanded, not using\n"
     ]
    }
   ],
   "source": [
    "import dowhy.datasets\n",
    "import dowhy.api\n",
    "\n",
    "import numpy as np\n",
    "import pandas as pd\n",
    "\n",
    "from statsmodels.api import OLS"
   ]
  },
  {
   "cell_type": "code",
   "execution_count": 2,
   "metadata": {
    "execution": {
     "iopub.execute_input": "2022-07-28T10:36:53.146556Z",
     "iopub.status.busy": "2022-07-28T10:36:53.145696Z",
     "iopub.status.idle": "2022-07-28T10:36:53.199944Z",
     "shell.execute_reply": "2022-07-28T10:36:53.199071Z"
    }
   },
   "outputs": [
    {
     "data": {
      "text/html": [
       "<div>\n",
       "<style scoped>\n",
       "    .dataframe tbody tr th:only-of-type {\n",
       "        vertical-align: middle;\n",
       "    }\n",
       "\n",
       "    .dataframe tbody tr th {\n",
       "        vertical-align: top;\n",
       "    }\n",
       "\n",
       "    .dataframe thead th {\n",
       "        text-align: right;\n",
       "    }\n",
       "</style>\n",
       "<table border=\"1\" class=\"dataframe\">\n",
       "  <thead>\n",
       "    <tr style=\"text-align: right;\">\n",
       "      <th></th>\n",
       "      <th>W0</th>\n",
       "      <th>v0</th>\n",
       "      <th>y</th>\n",
       "    </tr>\n",
       "  </thead>\n",
       "  <tbody>\n",
       "    <tr>\n",
       "      <th>0</th>\n",
       "      <td>-1.333254</td>\n",
       "      <td>False</td>\n",
       "      <td>-4.036600</td>\n",
       "    </tr>\n",
       "    <tr>\n",
       "      <th>1</th>\n",
       "      <td>-2.580767</td>\n",
       "      <td>False</td>\n",
       "      <td>-3.174365</td>\n",
       "    </tr>\n",
       "    <tr>\n",
       "      <th>2</th>\n",
       "      <td>0.110417</td>\n",
       "      <td>False</td>\n",
       "      <td>-0.023928</td>\n",
       "    </tr>\n",
       "    <tr>\n",
       "      <th>3</th>\n",
       "      <td>-2.142098</td>\n",
       "      <td>False</td>\n",
       "      <td>-1.706643</td>\n",
       "    </tr>\n",
       "    <tr>\n",
       "      <th>4</th>\n",
       "      <td>-0.119242</td>\n",
       "      <td>False</td>\n",
       "      <td>-0.255492</td>\n",
       "    </tr>\n",
       "    <tr>\n",
       "      <th>...</th>\n",
       "      <td>...</td>\n",
       "      <td>...</td>\n",
       "      <td>...</td>\n",
       "    </tr>\n",
       "    <tr>\n",
       "      <th>995</th>\n",
       "      <td>-1.058446</td>\n",
       "      <td>False</td>\n",
       "      <td>-1.488079</td>\n",
       "    </tr>\n",
       "    <tr>\n",
       "      <th>996</th>\n",
       "      <td>-0.579523</td>\n",
       "      <td>False</td>\n",
       "      <td>-0.726904</td>\n",
       "    </tr>\n",
       "    <tr>\n",
       "      <th>997</th>\n",
       "      <td>-1.098309</td>\n",
       "      <td>False</td>\n",
       "      <td>-1.617708</td>\n",
       "    </tr>\n",
       "    <tr>\n",
       "      <th>998</th>\n",
       "      <td>-1.039810</td>\n",
       "      <td>False</td>\n",
       "      <td>-1.273360</td>\n",
       "    </tr>\n",
       "    <tr>\n",
       "      <th>999</th>\n",
       "      <td>-1.786803</td>\n",
       "      <td>True</td>\n",
       "      <td>5.353299</td>\n",
       "    </tr>\n",
       "  </tbody>\n",
       "</table>\n",
       "<p>1000 rows × 3 columns</p>\n",
       "</div>"
      ],
      "text/plain": [
       "           W0     v0         y\n",
       "0   -1.333254  False -4.036600\n",
       "1   -2.580767  False -3.174365\n",
       "2    0.110417  False -0.023928\n",
       "3   -2.142098  False -1.706643\n",
       "4   -0.119242  False -0.255492\n",
       "..        ...    ...       ...\n",
       "995 -1.058446  False -1.488079\n",
       "996 -0.579523  False -0.726904\n",
       "997 -1.098309  False -1.617708\n",
       "998 -1.039810  False -1.273360\n",
       "999 -1.786803   True  5.353299\n",
       "\n",
       "[1000 rows x 3 columns]"
      ]
     },
     "execution_count": 2,
     "metadata": {},
     "output_type": "execute_result"
    }
   ],
   "source": [
    "data = dowhy.datasets.linear_dataset(beta=5,\n",
    "        num_common_causes=1,\n",
    "        num_instruments = 0,\n",
    "        num_samples=1000,\n",
    "        treatment_is_binary=True)\n",
    "df = data['df']\n",
    "df['y'] = df['y'] + np.random.normal(size=len(df)) # Adding noise to data. Without noise, the variance in Y|X, Z is zero, and mcmc fails.\n",
    "#data['dot_graph'] = 'digraph { v ->y;X0-> v;X0-> y;}'\n",
    "\n",
    "treatment= data[\"treatment_name\"][0]\n",
    "outcome = data[\"outcome_name\"][0]\n",
    "common_cause = data[\"common_causes_names\"][0]\n",
    "df"
   ]
  },
  {
   "cell_type": "code",
   "execution_count": 3,
   "metadata": {
    "execution": {
     "iopub.execute_input": "2022-07-28T10:36:53.204479Z",
     "iopub.status.busy": "2022-07-28T10:36:53.204024Z",
     "iopub.status.idle": "2022-07-28T10:36:54.106511Z",
     "shell.execute_reply": "2022-07-28T10:36:54.105884Z"
    }
   },
   "outputs": [
    {
     "data": {
      "text/plain": [
       "<AxesSubplot:xlabel='v0'>"
      ]
     },
     "execution_count": 3,
     "metadata": {},
     "output_type": "execute_result"
    },
    {
     "data": {
      "image/png": "[encoded data removed]",
      "text/plain": [
       "<Figure size 432x288 with 1 Axes>"
      ]
     },
     "metadata": {
      "needs_background": "light"
     },
     "output_type": "display_data"
    }
   ],
   "source": [
    "# data['df'] is just a regular pandas.DataFrame\n",
    "df.causal.do(x=treatment,\n",
    "                     variable_types={treatment: 'b', outcome: 'c', common_cause: 'c'},\n",
    "                     outcome=outcome,\n",
    "                     common_causes=[common_cause],\n",
    "                     proceed_when_unidentifiable=True).groupby(treatment).mean().plot(y=outcome, kind='bar')"
   ]
  },
  {
   "cell_type": "code",
   "execution_count": 4,
   "metadata": {
    "execution": {
     "iopub.execute_input": "2022-07-28T10:36:54.110995Z",
     "iopub.status.busy": "2022-07-28T10:36:54.110372Z",
     "iopub.status.idle": "2022-07-28T10:36:54.218659Z",
     "shell.execute_reply": "2022-07-28T10:36:54.218007Z"
    }
   },
   "outputs": [
    {
     "data": {
      "text/plain": [
       "<AxesSubplot:xlabel='v0'>"
      ]
     },
     "execution_count": 4,
     "metadata": {},
     "output_type": "execute_result"
    },
    {
     "data": {
      "image/png": "[encoded data removed]",
      "text/plain": [
       "<Figure size 432x288 with 1 Axes>"
      ]
     },
     "metadata": {
      "needs_background": "light"
     },
     "output_type": "display_data"
    }
   ],
   "source": [
    "df.causal.do(x={treatment: 1}, \n",
    "              variable_types={treatment:'b', outcome: 'c', common_cause: 'c'}, \n",
    "              outcome=outcome,\n",
    "              method='weighting', \n",
    "              common_causes=[common_cause],\n",
    "              proceed_when_unidentifiable=True).groupby(treatment).mean().plot(y=outcome, kind='bar')"
   ]
  },
  {
   "cell_type": "code",
   "execution_count": 5,
   "metadata": {
    "execution": {
     "iopub.execute_input": "2022-07-28T10:36:54.224041Z",
     "iopub.status.busy": "2022-07-28T10:36:54.222741Z",
     "iopub.status.idle": "2022-07-28T10:36:54.261009Z",
     "shell.execute_reply": "2022-07-28T10:36:54.260289Z"
    }
   },
   "outputs": [],
   "source": [
    "cdf_1 = df.causal.do(x={treatment: 1}, \n",
    "              variable_types={treatment: 'b', outcome: 'c', common_cause: 'c'}, \n",
    "              outcome=outcome, \n",
    "              dot_graph=data['dot_graph'],\n",
    "              proceed_when_unidentifiable=True)\n",
    "\n",
    "cdf_0 = df.causal.do(x={treatment: 0}, \n",
    "              variable_types={treatment: 'b', outcome: 'c', common_cause: 'c'}, \n",
    "              outcome=outcome, \n",
    "              dot_graph=data['dot_graph'],\n",
    "              proceed_when_unidentifiable=True)\n"
   ]
  },
  {
   "cell_type": "code",
   "execution_count": 6,
   "metadata": {
    "execution": {
     "iopub.execute_input": "2022-07-28T10:36:54.266425Z",
     "iopub.status.busy": "2022-07-28T10:36:54.265150Z",
     "iopub.status.idle": "2022-07-28T10:36:54.280284Z",
     "shell.execute_reply": "2022-07-28T10:36:54.279606Z"
    },
    "scrolled": true
   },
   "outputs": [
    {
     "data": {
      "text/html": [
       "<div>\n",
       "<style scoped>\n",
       "    .dataframe tbody tr th:only-of-type {\n",
       "        vertical-align: middle;\n",
       "    }\n",
       "\n",
       "    .dataframe tbody tr th {\n",
       "        vertical-align: top;\n",
       "    }\n",
       "\n",
       "    .dataframe thead th {\n",
       "        text-align: right;\n",
       "    }\n",
       "</style>\n",
       "<table border=\"1\" class=\"dataframe\">\n",
       "  <thead>\n",
       "    <tr style=\"text-align: right;\">\n",
       "      <th></th>\n",
       "      <th>W0</th>\n",
       "      <th>v0</th>\n",
       "      <th>y</th>\n",
       "      <th>propensity_score</th>\n",
       "      <th>weight</th>\n",
       "    </tr>\n",
       "  </thead>\n",
       "  <tbody>\n",
       "    <tr>\n",
       "      <th>0</th>\n",
       "      <td>0.012520</td>\n",
       "      <td>False</td>\n",
       "      <td>-0.293696</td>\n",
       "      <td>0.515386</td>\n",
       "      <td>1.940293</td>\n",
       "    </tr>\n",
       "    <tr>\n",
       "      <th>1</th>\n",
       "      <td>0.340230</td>\n",
       "      <td>False</td>\n",
       "      <td>0.906081</td>\n",
       "      <td>0.399300</td>\n",
       "      <td>2.504384</td>\n",
       "    </tr>\n",
       "    <tr>\n",
       "      <th>2</th>\n",
       "      <td>-0.432397</td>\n",
       "      <td>False</td>\n",
       "      <td>-0.053043</td>\n",
       "      <td>0.668097</td>\n",
       "      <td>1.496789</td>\n",
       "    </tr>\n",
       "    <tr>\n",
       "      <th>3</th>\n",
       "      <td>-1.202346</td>\n",
       "      <td>False</td>\n",
       "      <td>-1.625096</td>\n",
       "      <td>0.858601</td>\n",
       "      <td>1.164685</td>\n",
       "    </tr>\n",
       "    <tr>\n",
       "      <th>4</th>\n",
       "      <td>-0.621602</td>\n",
       "      <td>False</td>\n",
       "      <td>0.260048</td>\n",
       "      <td>0.725302</td>\n",
       "      <td>1.378736</td>\n",
       "    </tr>\n",
       "    <tr>\n",
       "      <th>...</th>\n",
       "      <td>...</td>\n",
       "      <td>...</td>\n",
       "      <td>...</td>\n",
       "      <td>...</td>\n",
       "      <td>...</td>\n",
       "    </tr>\n",
       "    <tr>\n",
       "      <th>995</th>\n",
       "      <td>-0.665665</td>\n",
       "      <td>False</td>\n",
       "      <td>-0.128105</td>\n",
       "      <td>0.737711</td>\n",
       "      <td>1.355545</td>\n",
       "    </tr>\n",
       "    <tr>\n",
       "      <th>996</th>\n",
       "      <td>-1.462363</td>\n",
       "      <td>False</td>\n",
       "      <td>-0.895230</td>\n",
       "      <td>0.898128</td>\n",
       "      <td>1.113427</td>\n",
       "    </tr>\n",
       "    <tr>\n",
       "      <th>997</th>\n",
       "      <td>0.975940</td>\n",
       "      <td>False</td>\n",
       "      <td>0.845184</td>\n",
       "      <td>0.210816</td>\n",
       "      <td>4.743462</td>\n",
       "    </tr>\n",
       "    <tr>\n",
       "      <th>998</th>\n",
       "      <td>-0.792791</td>\n",
       "      <td>False</td>\n",
       "      <td>0.196740</td>\n",
       "      <td>0.771430</td>\n",
       "      <td>1.296293</td>\n",
       "    </tr>\n",
       "    <tr>\n",
       "      <th>999</th>\n",
       "      <td>-1.989294</td>\n",
       "      <td>False</td>\n",
       "      <td>-0.401770</td>\n",
       "      <td>0.949417</td>\n",
       "      <td>1.053278</td>\n",
       "    </tr>\n",
       "  </tbody>\n",
       "</table>\n",
       "<p>1000 rows × 5 columns</p>\n",
       "</div>"
      ],
      "text/plain": [
       "           W0     v0         y  propensity_score    weight\n",
       "0    0.012520  False -0.293696          0.515386  1.940293\n",
       "1    0.340230  False  0.906081          0.399300  2.504384\n",
       "2   -0.432397  False -0.053043          0.668097  1.496789\n",
       "3   -1.202346  False -1.625096          0.858601  1.164685\n",
       "4   -0.621602  False  0.260048          0.725302  1.378736\n",
       "..        ...    ...       ...               ...       ...\n",
       "995 -0.665665  False -0.128105          0.737711  1.355545\n",
       "996 -1.462363  False -0.895230          0.898128  1.113427\n",
       "997  0.975940  False  0.845184          0.210816  4.743462\n",
       "998 -0.792791  False  0.196740          0.771430  1.296293\n",
       "999 -1.989294  False -0.401770          0.949417  1.053278\n",
       "\n",
       "[1000 rows x 5 columns]"
      ]
     },
     "execution_count": 6,
     "metadata": {},
     "output_type": "execute_result"
    }
   ],
   "source": [
    "cdf_0"
   ]
  },
  {
   "cell_type": "code",
   "execution_count": 7,
   "metadata": {
    "execution": {
     "iopub.execute_input": "2022-07-28T10:36:54.285005Z",
     "iopub.status.busy": "2022-07-28T10:36:54.283615Z",
     "iopub.status.idle": "2022-07-28T10:36:54.297718Z",
     "shell.execute_reply": "2022-07-28T10:36:54.297067Z"
    }
   },
   "outputs": [
    {
     "data": {
      "text/html": [
       "<div>\n",
       "<style scoped>\n",
       "    .dataframe tbody tr th:only-of-type {\n",
       "        vertical-align: middle;\n",
       "    }\n",
       "\n",
       "    .dataframe tbody tr th {\n",
       "        vertical-align: top;\n",
       "    }\n",
       "\n",
       "    .dataframe thead th {\n",
       "        text-align: right;\n",
       "    }\n",
       "</style>\n",
       "<table border=\"1\" class=\"dataframe\">\n",
       "  <thead>\n",
       "    <tr style=\"text-align: right;\">\n",
       "      <th></th>\n",
       "      <th>W0</th>\n",
       "      <th>v0</th>\n",
       "      <th>y</th>\n",
       "      <th>propensity_score</th>\n",
       "      <th>weight</th>\n",
       "    </tr>\n",
       "  </thead>\n",
       "  <tbody>\n",
       "    <tr>\n",
       "      <th>0</th>\n",
       "      <td>-1.880858</td>\n",
       "      <td>True</td>\n",
       "      <td>2.751596</td>\n",
       "      <td>0.058595</td>\n",
       "      <td>17.066382</td>\n",
       "    </tr>\n",
       "    <tr>\n",
       "      <th>1</th>\n",
       "      <td>-0.539968</td>\n",
       "      <td>True</td>\n",
       "      <td>4.673894</td>\n",
       "      <td>0.298626</td>\n",
       "      <td>3.348669</td>\n",
       "    </tr>\n",
       "    <tr>\n",
       "      <th>2</th>\n",
       "      <td>-0.939457</td>\n",
       "      <td>True</td>\n",
       "      <td>4.128437</td>\n",
       "      <td>0.193609</td>\n",
       "      <td>5.165054</td>\n",
       "    </tr>\n",
       "    <tr>\n",
       "      <th>3</th>\n",
       "      <td>0.943469</td>\n",
       "      <td>True</td>\n",
       "      <td>7.881093</td>\n",
       "      <td>0.781332</td>\n",
       "      <td>1.279865</td>\n",
       "    </tr>\n",
       "    <tr>\n",
       "      <th>4</th>\n",
       "      <td>-0.921393</td>\n",
       "      <td>True</td>\n",
       "      <td>2.507726</td>\n",
       "      <td>0.197685</td>\n",
       "      <td>5.058550</td>\n",
       "    </tr>\n",
       "    <tr>\n",
       "      <th>...</th>\n",
       "      <td>...</td>\n",
       "      <td>...</td>\n",
       "      <td>...</td>\n",
       "      <td>...</td>\n",
       "      <td>...</td>\n",
       "    </tr>\n",
       "    <tr>\n",
       "      <th>995</th>\n",
       "      <td>1.345061</td>\n",
       "      <td>True</td>\n",
       "      <td>6.782603</td>\n",
       "      <td>0.864050</td>\n",
       "      <td>1.157340</td>\n",
       "    </tr>\n",
       "    <tr>\n",
       "      <th>996</th>\n",
       "      <td>-1.151941</td>\n",
       "      <td>True</td>\n",
       "      <td>4.356264</td>\n",
       "      <td>0.150404</td>\n",
       "      <td>6.648773</td>\n",
       "    </tr>\n",
       "    <tr>\n",
       "      <th>997</th>\n",
       "      <td>-1.439451</td>\n",
       "      <td>True</td>\n",
       "      <td>3.908115</td>\n",
       "      <td>0.104918</td>\n",
       "      <td>9.531258</td>\n",
       "    </tr>\n",
       "    <tr>\n",
       "      <th>998</th>\n",
       "      <td>-0.408666</td>\n",
       "      <td>True</td>\n",
       "      <td>5.028167</td>\n",
       "      <td>0.339492</td>\n",
       "      <td>2.945575</td>\n",
       "    </tr>\n",
       "    <tr>\n",
       "      <th>999</th>\n",
       "      <td>-2.059971</td>\n",
       "      <td>True</td>\n",
       "      <td>3.322675</td>\n",
       "      <td>0.045932</td>\n",
       "      <td>21.771511</td>\n",
       "    </tr>\n",
       "  </tbody>\n",
       "</table>\n",
       "<p>1000 rows × 5 columns</p>\n",
       "</div>"
      ],
      "text/plain": [
       "           W0    v0         y  propensity_score     weight\n",
       "0   -1.880858  True  2.751596          0.058595  17.066382\n",
       "1   -0.539968  True  4.673894          0.298626   3.348669\n",
       "2   -0.939457  True  4.128437          0.193609   5.165054\n",
       "3    0.943469  True  7.881093          0.781332   1.279865\n",
       "4   -0.921393  True  2.507726          0.197685   5.058550\n",
       "..        ...   ...       ...               ...        ...\n",
       "995  1.345061  True  6.782603          0.864050   1.157340\n",
       "996 -1.151941  True  4.356264          0.150404   6.648773\n",
       "997 -1.439451  True  3.908115          0.104918   9.531258\n",
       "998 -0.408666  True  5.028167          0.339492   2.945575\n",
       "999 -2.059971  True  3.322675          0.045932  21.771511\n",
       "\n",
       "[1000 rows x 5 columns]"
      ]
     },
     "execution_count": 7,
     "metadata": {},
     "output_type": "execute_result"
    }
   ],
   "source": [
    "cdf_1"
   ]
  },
  {
   "cell_type": "markdown",
   "metadata": {},
   "source": [
    "## Comparing the estimate to Linear Regression\n",
    "First, estimating the effect using the causal data frame, and the 95% confidence interval."
   ]
  },
  {
   "cell_type": "code",
   "execution_count": 8,
   "metadata": {
    "execution": {
     "iopub.execute_input": "2022-07-28T10:36:54.301496Z",
     "iopub.status.busy": "2022-07-28T10:36:54.301228Z",
     "iopub.status.idle": "2022-07-28T10:36:54.426360Z",
     "shell.execute_reply": "2022-07-28T10:36:54.425529Z"
    }
   },
   "outputs": [
    {
     "data": {
      "image/png": "[encoded data removed]",
      "text/latex": [
       "$\\displaystyle 5.0889960140898$"
      ],
      "text/plain": [
       "5.088996014089805"
      ]
     },
     "execution_count": 8,
     "metadata": {},
     "output_type": "execute_result"
    }
   ],
   "source": [
    "(cdf_1['y'] - cdf_0['y']).mean()"
   ]
  },
  {
   "cell_type": "code",
   "execution_count": 9,
   "metadata": {
    "execution": {
     "iopub.execute_input": "2022-07-28T10:36:54.430632Z",
     "iopub.status.busy": "2022-07-28T10:36:54.429956Z",
     "iopub.status.idle": "2022-07-28T10:36:54.461748Z",
     "shell.execute_reply": "2022-07-28T10:36:54.460844Z"
    }
   },
   "outputs": [
    {
     "data": {
      "image/png": "[encoded data removed]",
      "text/latex": [
       "$\\displaystyle 0.113450222282864$"
      ],
      "text/plain": [
       "0.11345022228286397"
      ]
     },
     "execution_count": 9,
     "metadata": {},
     "output_type": "execute_result"
    }
   ],
   "source": [
    "1.96*(cdf_1['y'] - cdf_0['y']).std() / np.sqrt(len(df))"
   ]
  },
  {
   "cell_type": "markdown",
   "metadata": {},
   "source": [
    "Comparing to the estimate from OLS."
   ]
  },
  {
   "cell_type": "code",
   "execution_count": 10,
   "metadata": {
    "execution": {
     "iopub.execute_input": "2022-07-28T10:36:54.466232Z",
     "iopub.status.busy": "2022-07-28T10:36:54.465534Z",
     "iopub.status.idle": "2022-07-28T10:36:54.486289Z",
     "shell.execute_reply": "2022-07-28T10:36:54.485588Z"
    }
   },
   "outputs": [
    {
     "data": {
      "text/html": [
       "<table class=\"simpletable\">\n",
       "<caption>OLS Regression Results</caption>\n",
       "<tr>\n",
       "  <th>Dep. Variable:</th>            <td>y</td>        <th>  R-squared (uncentered):</th>      <td>   0.911</td>\n",
       "</tr>\n",
       "<tr>\n",
       "  <th>Model:</th>                   <td>OLS</td>       <th>  Adj. R-squared (uncentered):</th> <td>   0.911</td>\n",
       "</tr>\n",
       "<tr>\n",
       "  <th>Method:</th>             <td>Least Squares</td>  <th>  F-statistic:       </th>          <td>   5127.</td>\n",
       "</tr>\n",
       "<tr>\n",
       "  <th>Date:</th>             <td>Thu, 28 Jul 2022</td> <th>  Prob (F-statistic):</th>           <td>  0.00</td> \n",
       "</tr>\n",
       "<tr>\n",
       "  <th>Time:</th>                 <td>10:36:54</td>     <th>  Log-Likelihood:    </th>          <td> -1374.9</td>\n",
       "</tr>\n",
       "<tr>\n",
       "  <th>No. Observations:</th>      <td>  1000</td>      <th>  AIC:               </th>          <td>   2754.</td>\n",
       "</tr>\n",
       "<tr>\n",
       "  <th>Df Residuals:</th>          <td>   998</td>      <th>  BIC:               </th>          <td>   2764.</td>\n",
       "</tr>\n",
       "<tr>\n",
       "  <th>Df Model:</th>              <td>     2</td>      <th>                     </th>              <td> </td>   \n",
       "</tr>\n",
       "<tr>\n",
       "  <th>Covariance Type:</th>      <td>nonrobust</td>    <th>                     </th>              <td> </td>   \n",
       "</tr>\n",
       "</table>\n",
       "<table class=\"simpletable\">\n",
       "<tr>\n",
       "   <td></td>     <th>coef</th>     <th>std err</th>      <th>t</th>      <th>P>|t|</th>  <th>[0.025</th>    <th>0.975]</th>  \n",
       "</tr>\n",
       "<tr>\n",
       "  <th>x1</th> <td>    0.9434</td> <td>    0.025</td> <td>   38.013</td> <td> 0.000</td> <td>    0.895</td> <td>    0.992</td>\n",
       "</tr>\n",
       "<tr>\n",
       "  <th>x2</th> <td>    4.9962</td> <td>    0.054</td> <td>   92.832</td> <td> 0.000</td> <td>    4.891</td> <td>    5.102</td>\n",
       "</tr>\n",
       "</table>\n",
       "<table class=\"simpletable\">\n",
       "<tr>\n",
       "  <th>Omnibus:</th>       <td> 4.604</td> <th>  Durbin-Watson:     </th> <td>   2.030</td>\n",
       "</tr>\n",
       "<tr>\n",
       "  <th>Prob(Omnibus):</th> <td> 0.100</td> <th>  Jarque-Bera (JB):  </th> <td>   4.675</td>\n",
       "</tr>\n",
       "<tr>\n",
       "  <th>Skew:</th>          <td>-0.156</td> <th>  Prob(JB):          </th> <td>  0.0966</td>\n",
       "</tr>\n",
       "<tr>\n",
       "  <th>Kurtosis:</th>      <td> 2.876</td> <th>  Cond. No.          </th> <td>    2.17</td>\n",
       "</tr>\n",
       "</table><br/><br/>Notes:<br/>[1] R² is computed without centering (uncentered) since the model does not contain a constant.<br/>[2] Standard Errors assume that the covariance matrix of the errors is correctly specified."
      ],
      "text/plain": [
       "<class 'statsmodels.iolib.summary.Summary'>\n",
       "\"\"\"\n",
       "                                 OLS Regression Results                                \n",
       "=======================================================================================\n",
       "Dep. Variable:                      y   R-squared (uncentered):                   0.911\n",
       "Model:                            OLS   Adj. R-squared (uncentered):              0.911\n",
       "Method:                 Least Squares   F-statistic:                              5127.\n",
       "Date:                Thu, 28 Jul 2022   Prob (F-statistic):                        0.00\n",
       "Time:                        10:36:54   Log-Likelihood:                         -1374.9\n",
       "No. Observations:                1000   AIC:                                      2754.\n",
       "Df Residuals:                     998   BIC:                                      2764.\n",
       "Df Model:                           2                                                  \n",
       "Covariance Type:            nonrobust                                                  \n",
       "==============================================================================\n",
       "                 coef    std err          t      P>|t|      [0.025      0.975]\n",
       "------------------------------------------------------------------------------\n",
       "x1             0.9434      0.025     38.013      0.000       0.895       0.992\n",
       "x2             4.9962      0.054     92.832      0.000       4.891       5.102\n",
       "==============================================================================\n",
       "Omnibus:                        4.604   Durbin-Watson:                   2.030\n",
       "Prob(Omnibus):                  0.100   Jarque-Bera (JB):                4.675\n",
       "Skew:                          -0.156   Prob(JB):                       0.0966\n",
       "Kurtosis:                       2.876   Cond. No.                         2.17\n",
       "==============================================================================\n",
       "\n",
       "Notes:\n",
       "[1] R² is computed without centering (uncentered) since the model does not contain a constant.\n",
       "[2] Standard Errors assume that the covariance matrix of the errors is correctly specified.\n",
       "\"\"\""
      ]
     },
     "execution_count": 10,
     "metadata": {},
     "output_type": "execute_result"
    }
   ],
   "source": [
    "model = OLS(np.asarray(df[outcome]), np.asarray(df[[common_cause, treatment]], dtype=np.float64))\n",
    "result = model.fit()\n",
    "result.summary()"
   ]
  }
 ],
 "metadata": {
  "kernelspec": {
   "display_name": "Python 3",
   "language": "python",
   "name": "python3"
  },
  "language_info": {
   "codemirror_mode": {
    "name": "ipython",
    "version": 3
   },
   "file_extension": ".py",
   "mimetype": "text/x-python",
   "name": "python",
   "nbconvert_exporter": "python",
   "pygments_lexer": "ipython3",
   "version": "3.8.10"
  },
  "toc": {
   "base_numbering": 1,
   "nav_menu": {},
   "number_sections": false,
   "sideBar": true,
   "skip_h1_title": true,
   "title_cell": "Table of Contents",
   "title_sidebar": "Contents",
   "toc_cell": false,
   "toc_position": {},
   "toc_section_display": true,
   "toc_window_display": false
  }
 },
 "nbformat": 4,
 "nbformat_minor": 4
}
