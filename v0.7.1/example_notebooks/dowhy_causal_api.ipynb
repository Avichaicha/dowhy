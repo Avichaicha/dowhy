{
 "cells": [
  {
   "cell_type": "markdown",
   "metadata": {},
   "source": [
    "# Demo for the DoWhy causal API\n",
    "We show a simple example of adding a causal extension to any dataframe. "
   ]
  },
  {
   "cell_type": "code",
   "execution_count": 1,
   "metadata": {
    "execution": {
     "iopub.execute_input": "2022-08-03T13:25:22.338082Z",
     "iopub.status.busy": "2022-08-03T13:25:22.337740Z",
     "iopub.status.idle": "2022-08-03T13:25:23.882848Z",
     "shell.execute_reply": "2022-08-03T13:25:23.881662Z"
    }
   },
   "outputs": [
    {
     "name": "stdout",
     "output_type": "stream",
     "text": [
      "keywords are unexpanded, not using\n"
     ]
    }
   ],
   "source": [
    "import dowhy.datasets\n",
    "import dowhy.api\n",
    "\n",
    "import numpy as np\n",
    "import pandas as pd\n",
    "\n",
    "from statsmodels.api import OLS"
   ]
  },
  {
   "cell_type": "code",
   "execution_count": 2,
   "metadata": {
    "execution": {
     "iopub.execute_input": "2022-08-03T13:25:23.888868Z",
     "iopub.status.busy": "2022-08-03T13:25:23.887768Z",
     "iopub.status.idle": "2022-08-03T13:25:23.956688Z",
     "shell.execute_reply": "2022-08-03T13:25:23.955903Z"
    }
   },
   "outputs": [
    {
     "data": {
      "text/html": [
       "<div>\n",
       "<style scoped>\n",
       "    .dataframe tbody tr th:only-of-type {\n",
       "        vertical-align: middle;\n",
       "    }\n",
       "\n",
       "    .dataframe tbody tr th {\n",
       "        vertical-align: top;\n",
       "    }\n",
       "\n",
       "    .dataframe thead th {\n",
       "        text-align: right;\n",
       "    }\n",
       "</style>\n",
       "<table border=\"1\" class=\"dataframe\">\n",
       "  <thead>\n",
       "    <tr style=\"text-align: right;\">\n",
       "      <th></th>\n",
       "      <th>W0</th>\n",
       "      <th>v0</th>\n",
       "      <th>y</th>\n",
       "    </tr>\n",
       "  </thead>\n",
       "  <tbody>\n",
       "    <tr>\n",
       "      <th>0</th>\n",
       "      <td>0.525629</td>\n",
       "      <td>True</td>\n",
       "      <td>6.965736</td>\n",
       "    </tr>\n",
       "    <tr>\n",
       "      <th>1</th>\n",
       "      <td>0.297731</td>\n",
       "      <td>True</td>\n",
       "      <td>5.865002</td>\n",
       "    </tr>\n",
       "    <tr>\n",
       "      <th>2</th>\n",
       "      <td>0.833755</td>\n",
       "      <td>False</td>\n",
       "      <td>2.402004</td>\n",
       "    </tr>\n",
       "    <tr>\n",
       "      <th>3</th>\n",
       "      <td>-0.245080</td>\n",
       "      <td>False</td>\n",
       "      <td>-1.212799</td>\n",
       "    </tr>\n",
       "    <tr>\n",
       "      <th>4</th>\n",
       "      <td>-1.016627</td>\n",
       "      <td>False</td>\n",
       "      <td>-1.995421</td>\n",
       "    </tr>\n",
       "    <tr>\n",
       "      <th>...</th>\n",
       "      <td>...</td>\n",
       "      <td>...</td>\n",
       "      <td>...</td>\n",
       "    </tr>\n",
       "    <tr>\n",
       "      <th>995</th>\n",
       "      <td>-1.591958</td>\n",
       "      <td>False</td>\n",
       "      <td>-2.851605</td>\n",
       "    </tr>\n",
       "    <tr>\n",
       "      <th>996</th>\n",
       "      <td>1.709123</td>\n",
       "      <td>False</td>\n",
       "      <td>4.847076</td>\n",
       "    </tr>\n",
       "    <tr>\n",
       "      <th>997</th>\n",
       "      <td>-1.141965</td>\n",
       "      <td>False</td>\n",
       "      <td>-2.455751</td>\n",
       "    </tr>\n",
       "    <tr>\n",
       "      <th>998</th>\n",
       "      <td>-0.776968</td>\n",
       "      <td>False</td>\n",
       "      <td>-2.792224</td>\n",
       "    </tr>\n",
       "    <tr>\n",
       "      <th>999</th>\n",
       "      <td>-1.401028</td>\n",
       "      <td>True</td>\n",
       "      <td>2.031042</td>\n",
       "    </tr>\n",
       "  </tbody>\n",
       "</table>\n",
       "<p>1000 rows × 3 columns</p>\n",
       "</div>"
      ],
      "text/plain": [
       "           W0     v0         y\n",
       "0    0.525629   True  6.965736\n",
       "1    0.297731   True  5.865002\n",
       "2    0.833755  False  2.402004\n",
       "3   -0.245080  False -1.212799\n",
       "4   -1.016627  False -1.995421\n",
       "..        ...    ...       ...\n",
       "995 -1.591958  False -2.851605\n",
       "996  1.709123  False  4.847076\n",
       "997 -1.141965  False -2.455751\n",
       "998 -0.776968  False -2.792224\n",
       "999 -1.401028   True  2.031042\n",
       "\n",
       "[1000 rows x 3 columns]"
      ]
     },
     "execution_count": 2,
     "metadata": {},
     "output_type": "execute_result"
    }
   ],
   "source": [
    "data = dowhy.datasets.linear_dataset(beta=5,\n",
    "        num_common_causes=1,\n",
    "        num_instruments = 0,\n",
    "        num_samples=1000,\n",
    "        treatment_is_binary=True)\n",
    "df = data['df']\n",
    "df['y'] = df['y'] + np.random.normal(size=len(df)) # Adding noise to data. Without noise, the variance in Y|X, Z is zero, and mcmc fails.\n",
    "#data['dot_graph'] = 'digraph { v ->y;X0-> v;X0-> y;}'\n",
    "\n",
    "treatment= data[\"treatment_name\"][0]\n",
    "outcome = data[\"outcome_name\"][0]\n",
    "common_cause = data[\"common_causes_names\"][0]\n",
    "df"
   ]
  },
  {
   "cell_type": "code",
   "execution_count": 3,
   "metadata": {
    "execution": {
     "iopub.execute_input": "2022-08-03T13:25:23.960672Z",
     "iopub.status.busy": "2022-08-03T13:25:23.960107Z",
     "iopub.status.idle": "2022-08-03T13:25:24.977092Z",
     "shell.execute_reply": "2022-08-03T13:25:24.976409Z"
    }
   },
   "outputs": [
    {
     "data": {
      "text/plain": [
       "<AxesSubplot:xlabel='v0'>"
      ]
     },
     "execution_count": 3,
     "metadata": {},
     "output_type": "execute_result"
    },
    {
     "data": {
      "image/png": "[encoded data removed]",
      "text/plain": [
       "<Figure size 432x288 with 1 Axes>"
      ]
     },
     "metadata": {
      "needs_background": "light"
     },
     "output_type": "display_data"
    }
   ],
   "source": [
    "# data['df'] is just a regular pandas.DataFrame\n",
    "df.causal.do(x=treatment,\n",
    "                     variable_types={treatment: 'b', outcome: 'c', common_cause: 'c'},\n",
    "                     outcome=outcome,\n",
    "                     common_causes=[common_cause],\n",
    "                     proceed_when_unidentifiable=True).groupby(treatment).mean().plot(y=outcome, kind='bar')"
   ]
  },
  {
   "cell_type": "code",
   "execution_count": 4,
   "metadata": {
    "execution": {
     "iopub.execute_input": "2022-08-03T13:25:24.981099Z",
     "iopub.status.busy": "2022-08-03T13:25:24.980388Z",
     "iopub.status.idle": "2022-08-03T13:25:25.101040Z",
     "shell.execute_reply": "2022-08-03T13:25:25.100222Z"
    }
   },
   "outputs": [
    {
     "data": {
      "text/plain": [
       "<AxesSubplot:xlabel='v0'>"
      ]
     },
     "execution_count": 4,
     "metadata": {},
     "output_type": "execute_result"
    },
    {
     "data": {
      "image/png": "[encoded data removed]",
      "text/plain": [
       "<Figure size 432x288 with 1 Axes>"
      ]
     },
     "metadata": {
      "needs_background": "light"
     },
     "output_type": "display_data"
    }
   ],
   "source": [
    "df.causal.do(x={treatment: 1}, \n",
    "              variable_types={treatment:'b', outcome: 'c', common_cause: 'c'}, \n",
    "              outcome=outcome,\n",
    "              method='weighting', \n",
    "              common_causes=[common_cause],\n",
    "              proceed_when_unidentifiable=True).groupby(treatment).mean().plot(y=outcome, kind='bar')"
   ]
  },
  {
   "cell_type": "code",
   "execution_count": 5,
   "metadata": {
    "execution": {
     "iopub.execute_input": "2022-08-03T13:25:25.105657Z",
     "iopub.status.busy": "2022-08-03T13:25:25.105080Z",
     "iopub.status.idle": "2022-08-03T13:25:25.147100Z",
     "shell.execute_reply": "2022-08-03T13:25:25.146179Z"
    }
   },
   "outputs": [],
   "source": [
    "cdf_1 = df.causal.do(x={treatment: 1}, \n",
    "              variable_types={treatment: 'b', outcome: 'c', common_cause: 'c'}, \n",
    "              outcome=outcome, \n",
    "              dot_graph=data['dot_graph'],\n",
    "              proceed_when_unidentifiable=True)\n",
    "\n",
    "cdf_0 = df.causal.do(x={treatment: 0}, \n",
    "              variable_types={treatment: 'b', outcome: 'c', common_cause: 'c'}, \n",
    "              outcome=outcome, \n",
    "              dot_graph=data['dot_graph'],\n",
    "              proceed_when_unidentifiable=True)\n"
   ]
  },
  {
   "cell_type": "code",
   "execution_count": 6,
   "metadata": {
    "execution": {
     "iopub.execute_input": "2022-08-03T13:25:25.151697Z",
     "iopub.status.busy": "2022-08-03T13:25:25.150896Z",
     "iopub.status.idle": "2022-08-03T13:25:25.164551Z",
     "shell.execute_reply": "2022-08-03T13:25:25.163288Z"
    },
    "scrolled": true
   },
   "outputs": [
    {
     "data": {
      "text/html": [
       "<div>\n",
       "<style scoped>\n",
       "    .dataframe tbody tr th:only-of-type {\n",
       "        vertical-align: middle;\n",
       "    }\n",
       "\n",
       "    .dataframe tbody tr th {\n",
       "        vertical-align: top;\n",
       "    }\n",
       "\n",
       "    .dataframe thead th {\n",
       "        text-align: right;\n",
       "    }\n",
       "</style>\n",
       "<table border=\"1\" class=\"dataframe\">\n",
       "  <thead>\n",
       "    <tr style=\"text-align: right;\">\n",
       "      <th></th>\n",
       "      <th>W0</th>\n",
       "      <th>v0</th>\n",
       "      <th>y</th>\n",
       "      <th>propensity_score</th>\n",
       "      <th>weight</th>\n",
       "    </tr>\n",
       "  </thead>\n",
       "  <tbody>\n",
       "    <tr>\n",
       "      <th>0</th>\n",
       "      <td>0.110555</td>\n",
       "      <td>False</td>\n",
       "      <td>0.877857</td>\n",
       "      <td>0.474323</td>\n",
       "      <td>2.108266</td>\n",
       "    </tr>\n",
       "    <tr>\n",
       "      <th>1</th>\n",
       "      <td>-0.261117</td>\n",
       "      <td>False</td>\n",
       "      <td>0.632827</td>\n",
       "      <td>0.483149</td>\n",
       "      <td>2.069753</td>\n",
       "    </tr>\n",
       "    <tr>\n",
       "      <th>2</th>\n",
       "      <td>-0.262210</td>\n",
       "      <td>False</td>\n",
       "      <td>-0.644399</td>\n",
       "      <td>0.483175</td>\n",
       "      <td>2.069642</td>\n",
       "    </tr>\n",
       "    <tr>\n",
       "      <th>3</th>\n",
       "      <td>0.726015</td>\n",
       "      <td>False</td>\n",
       "      <td>0.749272</td>\n",
       "      <td>0.459746</td>\n",
       "      <td>2.175115</td>\n",
       "    </tr>\n",
       "    <tr>\n",
       "      <th>4</th>\n",
       "      <td>-1.560226</td>\n",
       "      <td>False</td>\n",
       "      <td>-4.770958</td>\n",
       "      <td>0.514046</td>\n",
       "      <td>1.945351</td>\n",
       "    </tr>\n",
       "    <tr>\n",
       "      <th>...</th>\n",
       "      <td>...</td>\n",
       "      <td>...</td>\n",
       "      <td>...</td>\n",
       "      <td>...</td>\n",
       "      <td>...</td>\n",
       "    </tr>\n",
       "    <tr>\n",
       "      <th>995</th>\n",
       "      <td>-0.991105</td>\n",
       "      <td>False</td>\n",
       "      <td>-4.401180</td>\n",
       "      <td>0.500510</td>\n",
       "      <td>1.997962</td>\n",
       "    </tr>\n",
       "    <tr>\n",
       "      <th>996</th>\n",
       "      <td>0.882820</td>\n",
       "      <td>False</td>\n",
       "      <td>1.452944</td>\n",
       "      <td>0.456042</td>\n",
       "      <td>2.192781</td>\n",
       "    </tr>\n",
       "    <tr>\n",
       "      <th>997</th>\n",
       "      <td>-0.585689</td>\n",
       "      <td>False</td>\n",
       "      <td>-2.365337</td>\n",
       "      <td>0.490866</td>\n",
       "      <td>2.037216</td>\n",
       "    </tr>\n",
       "    <tr>\n",
       "      <th>998</th>\n",
       "      <td>-0.294285</td>\n",
       "      <td>False</td>\n",
       "      <td>-1.937770</td>\n",
       "      <td>0.483938</td>\n",
       "      <td>2.066382</td>\n",
       "    </tr>\n",
       "    <tr>\n",
       "      <th>999</th>\n",
       "      <td>2.491469</td>\n",
       "      <td>False</td>\n",
       "      <td>6.597122</td>\n",
       "      <td>0.418394</td>\n",
       "      <td>2.390094</td>\n",
       "    </tr>\n",
       "  </tbody>\n",
       "</table>\n",
       "<p>1000 rows × 5 columns</p>\n",
       "</div>"
      ],
      "text/plain": [
       "           W0     v0         y  propensity_score    weight\n",
       "0    0.110555  False  0.877857          0.474323  2.108266\n",
       "1   -0.261117  False  0.632827          0.483149  2.069753\n",
       "2   -0.262210  False -0.644399          0.483175  2.069642\n",
       "3    0.726015  False  0.749272          0.459746  2.175115\n",
       "4   -1.560226  False -4.770958          0.514046  1.945351\n",
       "..        ...    ...       ...               ...       ...\n",
       "995 -0.991105  False -4.401180          0.500510  1.997962\n",
       "996  0.882820  False  1.452944          0.456042  2.192781\n",
       "997 -0.585689  False -2.365337          0.490866  2.037216\n",
       "998 -0.294285  False -1.937770          0.483938  2.066382\n",
       "999  2.491469  False  6.597122          0.418394  2.390094\n",
       "\n",
       "[1000 rows x 5 columns]"
      ]
     },
     "execution_count": 6,
     "metadata": {},
     "output_type": "execute_result"
    }
   ],
   "source": [
    "cdf_0"
   ]
  },
  {
   "cell_type": "code",
   "execution_count": 7,
   "metadata": {
    "execution": {
     "iopub.execute_input": "2022-08-03T13:25:25.168061Z",
     "iopub.status.busy": "2022-08-03T13:25:25.167371Z",
     "iopub.status.idle": "2022-08-03T13:25:25.181052Z",
     "shell.execute_reply": "2022-08-03T13:25:25.180169Z"
    }
   },
   "outputs": [
    {
     "data": {
      "text/html": [
       "<div>\n",
       "<style scoped>\n",
       "    .dataframe tbody tr th:only-of-type {\n",
       "        vertical-align: middle;\n",
       "    }\n",
       "\n",
       "    .dataframe tbody tr th {\n",
       "        vertical-align: top;\n",
       "    }\n",
       "\n",
       "    .dataframe thead th {\n",
       "        text-align: right;\n",
       "    }\n",
       "</style>\n",
       "<table border=\"1\" class=\"dataframe\">\n",
       "  <thead>\n",
       "    <tr style=\"text-align: right;\">\n",
       "      <th></th>\n",
       "      <th>W0</th>\n",
       "      <th>v0</th>\n",
       "      <th>y</th>\n",
       "      <th>propensity_score</th>\n",
       "      <th>weight</th>\n",
       "    </tr>\n",
       "  </thead>\n",
       "  <tbody>\n",
       "    <tr>\n",
       "      <th>0</th>\n",
       "      <td>1.296394</td>\n",
       "      <td>True</td>\n",
       "      <td>7.998249</td>\n",
       "      <td>0.553703</td>\n",
       "      <td>1.806022</td>\n",
       "    </tr>\n",
       "    <tr>\n",
       "      <th>1</th>\n",
       "      <td>0.010921</td>\n",
       "      <td>True</td>\n",
       "      <td>3.417666</td>\n",
       "      <td>0.523312</td>\n",
       "      <td>1.910906</td>\n",
       "    </tr>\n",
       "    <tr>\n",
       "      <th>2</th>\n",
       "      <td>-0.315457</td>\n",
       "      <td>True</td>\n",
       "      <td>4.852574</td>\n",
       "      <td>0.515559</td>\n",
       "      <td>1.939642</td>\n",
       "    </tr>\n",
       "    <tr>\n",
       "      <th>3</th>\n",
       "      <td>0.927482</td>\n",
       "      <td>True</td>\n",
       "      <td>8.156602</td>\n",
       "      <td>0.545012</td>\n",
       "      <td>1.834821</td>\n",
       "    </tr>\n",
       "    <tr>\n",
       "      <th>4</th>\n",
       "      <td>-0.220592</td>\n",
       "      <td>True</td>\n",
       "      <td>4.914179</td>\n",
       "      <td>0.517813</td>\n",
       "      <td>1.931197</td>\n",
       "    </tr>\n",
       "    <tr>\n",
       "      <th>...</th>\n",
       "      <td>...</td>\n",
       "      <td>...</td>\n",
       "      <td>...</td>\n",
       "      <td>...</td>\n",
       "      <td>...</td>\n",
       "    </tr>\n",
       "    <tr>\n",
       "      <th>995</th>\n",
       "      <td>1.472212</td>\n",
       "      <td>True</td>\n",
       "      <td>8.215237</td>\n",
       "      <td>0.557834</td>\n",
       "      <td>1.792648</td>\n",
       "    </tr>\n",
       "    <tr>\n",
       "      <th>996</th>\n",
       "      <td>1.296882</td>\n",
       "      <td>True</td>\n",
       "      <td>10.096357</td>\n",
       "      <td>0.553715</td>\n",
       "      <td>1.805984</td>\n",
       "    </tr>\n",
       "    <tr>\n",
       "      <th>997</th>\n",
       "      <td>-2.234279</td>\n",
       "      <td>True</td>\n",
       "      <td>-3.848106</td>\n",
       "      <td>0.469950</td>\n",
       "      <td>2.127885</td>\n",
       "    </tr>\n",
       "    <tr>\n",
       "      <th>998</th>\n",
       "      <td>0.387120</td>\n",
       "      <td>True</td>\n",
       "      <td>7.218330</td>\n",
       "      <td>0.532234</td>\n",
       "      <td>1.878872</td>\n",
       "    </tr>\n",
       "    <tr>\n",
       "      <th>999</th>\n",
       "      <td>-1.456014</td>\n",
       "      <td>True</td>\n",
       "      <td>1.351787</td>\n",
       "      <td>0.488432</td>\n",
       "      <td>2.047370</td>\n",
       "    </tr>\n",
       "  </tbody>\n",
       "</table>\n",
       "<p>1000 rows × 5 columns</p>\n",
       "</div>"
      ],
      "text/plain": [
       "           W0    v0          y  propensity_score    weight\n",
       "0    1.296394  True   7.998249          0.553703  1.806022\n",
       "1    0.010921  True   3.417666          0.523312  1.910906\n",
       "2   -0.315457  True   4.852574          0.515559  1.939642\n",
       "3    0.927482  True   8.156602          0.545012  1.834821\n",
       "4   -0.220592  True   4.914179          0.517813  1.931197\n",
       "..        ...   ...        ...               ...       ...\n",
       "995  1.472212  True   8.215237          0.557834  1.792648\n",
       "996  1.296882  True  10.096357          0.553715  1.805984\n",
       "997 -2.234279  True  -3.848106          0.469950  2.127885\n",
       "998  0.387120  True   7.218330          0.532234  1.878872\n",
       "999 -1.456014  True   1.351787          0.488432  2.047370\n",
       "\n",
       "[1000 rows x 5 columns]"
      ]
     },
     "execution_count": 7,
     "metadata": {},
     "output_type": "execute_result"
    }
   ],
   "source": [
    "cdf_1"
   ]
  },
  {
   "cell_type": "markdown",
   "metadata": {},
   "source": [
    "## Comparing the estimate to Linear Regression\n",
    "First, estimating the effect using the causal data frame, and the 95% confidence interval."
   ]
  },
  {
   "cell_type": "code",
   "execution_count": 8,
   "metadata": {
    "execution": {
     "iopub.execute_input": "2022-08-03T13:25:25.184871Z",
     "iopub.status.busy": "2022-08-03T13:25:25.184364Z",
     "iopub.status.idle": "2022-08-03T13:25:25.312491Z",
     "shell.execute_reply": "2022-08-03T13:25:25.311374Z"
    }
   },
   "outputs": [
    {
     "data": {
      "image/png": "[encoded data removed]",
      "text/latex": [
       "$\\displaystyle 5.17967196949114$"
      ],
      "text/plain": [
       "5.179671969491139"
      ]
     },
     "execution_count": 8,
     "metadata": {},
     "output_type": "execute_result"
    }
   ],
   "source": [
    "(cdf_1['y'] - cdf_0['y']).mean()"
   ]
  },
  {
   "cell_type": "code",
   "execution_count": 9,
   "metadata": {
    "execution": {
     "iopub.execute_input": "2022-08-03T13:25:25.318870Z",
     "iopub.status.busy": "2022-08-03T13:25:25.318481Z",
     "iopub.status.idle": "2022-08-03T13:25:25.359337Z",
     "shell.execute_reply": "2022-08-03T13:25:25.356133Z"
    }
   },
   "outputs": [
    {
     "data": {
      "image/png": "[encoded data removed]",
      "text/latex": [
       "$\\displaystyle 0.254047136370511$"
      ],
      "text/plain": [
       "0.2540471363705108"
      ]
     },
     "execution_count": 9,
     "metadata": {},
     "output_type": "execute_result"
    }
   ],
   "source": [
    "1.96*(cdf_1['y'] - cdf_0['y']).std() / np.sqrt(len(df))"
   ]
  },
  {
   "cell_type": "markdown",
   "metadata": {},
   "source": [
    "Comparing to the estimate from OLS."
   ]
  },
  {
   "cell_type": "code",
   "execution_count": 10,
   "metadata": {
    "execution": {
     "iopub.execute_input": "2022-08-03T13:25:25.364979Z",
     "iopub.status.busy": "2022-08-03T13:25:25.364369Z",
     "iopub.status.idle": "2022-08-03T13:25:25.387654Z",
     "shell.execute_reply": "2022-08-03T13:25:25.386823Z"
    }
   },
   "outputs": [
    {
     "data": {
      "text/html": [
       "<table class=\"simpletable\">\n",
       "<caption>OLS Regression Results</caption>\n",
       "<tr>\n",
       "  <th>Dep. Variable:</th>            <td>y</td>        <th>  R-squared (uncentered):</th>      <td>   0.956</td> \n",
       "</tr>\n",
       "<tr>\n",
       "  <th>Model:</th>                   <td>OLS</td>       <th>  Adj. R-squared (uncentered):</th> <td>   0.956</td> \n",
       "</tr>\n",
       "<tr>\n",
       "  <th>Method:</th>             <td>Least Squares</td>  <th>  F-statistic:       </th>          <td>1.085e+04</td>\n",
       "</tr>\n",
       "<tr>\n",
       "  <th>Date:</th>             <td>Wed, 03 Aug 2022</td> <th>  Prob (F-statistic):</th>           <td>  0.00</td>  \n",
       "</tr>\n",
       "<tr>\n",
       "  <th>Time:</th>                 <td>13:25:25</td>     <th>  Log-Likelihood:    </th>          <td> -1397.8</td> \n",
       "</tr>\n",
       "<tr>\n",
       "  <th>No. Observations:</th>      <td>  1000</td>      <th>  AIC:               </th>          <td>   2800.</td> \n",
       "</tr>\n",
       "<tr>\n",
       "  <th>Df Residuals:</th>          <td>   998</td>      <th>  BIC:               </th>          <td>   2809.</td> \n",
       "</tr>\n",
       "<tr>\n",
       "  <th>Df Model:</th>              <td>     2</td>      <th>                     </th>              <td> </td>    \n",
       "</tr>\n",
       "<tr>\n",
       "  <th>Covariance Type:</th>      <td>nonrobust</td>    <th>                     </th>              <td> </td>    \n",
       "</tr>\n",
       "</table>\n",
       "<table class=\"simpletable\">\n",
       "<tr>\n",
       "   <td></td>     <th>coef</th>     <th>std err</th>      <th>t</th>      <th>P>|t|</th>  <th>[0.025</th>    <th>0.975]</th>  \n",
       "</tr>\n",
       "<tr>\n",
       "  <th>x1</th> <td>    2.6550</td> <td>    0.031</td> <td>   85.840</td> <td> 0.000</td> <td>    2.594</td> <td>    2.716</td>\n",
       "</tr>\n",
       "<tr>\n",
       "  <th>x2</th> <td>    5.0108</td> <td>    0.043</td> <td>  116.858</td> <td> 0.000</td> <td>    4.927</td> <td>    5.095</td>\n",
       "</tr>\n",
       "</table>\n",
       "<table class=\"simpletable\">\n",
       "<tr>\n",
       "  <th>Omnibus:</th>       <td> 2.946</td> <th>  Durbin-Watson:     </th> <td>   1.863</td>\n",
       "</tr>\n",
       "<tr>\n",
       "  <th>Prob(Omnibus):</th> <td> 0.229</td> <th>  Jarque-Bera (JB):  </th> <td>   2.714</td>\n",
       "</tr>\n",
       "<tr>\n",
       "  <th>Skew:</th>          <td>-0.065</td> <th>  Prob(JB):          </th> <td>   0.257</td>\n",
       "</tr>\n",
       "<tr>\n",
       "  <th>Kurtosis:</th>      <td> 2.780</td> <th>  Cond. No.          </th> <td>    1.39</td>\n",
       "</tr>\n",
       "</table><br/><br/>Notes:<br/>[1] R² is computed without centering (uncentered) since the model does not contain a constant.<br/>[2] Standard Errors assume that the covariance matrix of the errors is correctly specified."
      ],
      "text/plain": [
       "<class 'statsmodels.iolib.summary.Summary'>\n",
       "\"\"\"\n",
       "                                 OLS Regression Results                                \n",
       "=======================================================================================\n",
       "Dep. Variable:                      y   R-squared (uncentered):                   0.956\n",
       "Model:                            OLS   Adj. R-squared (uncentered):              0.956\n",
       "Method:                 Least Squares   F-statistic:                          1.085e+04\n",
       "Date:                Wed, 03 Aug 2022   Prob (F-statistic):                        0.00\n",
       "Time:                        13:25:25   Log-Likelihood:                         -1397.8\n",
       "No. Observations:                1000   AIC:                                      2800.\n",
       "Df Residuals:                     998   BIC:                                      2809.\n",
       "Df Model:                           2                                                  \n",
       "Covariance Type:            nonrobust                                                  \n",
       "==============================================================================\n",
       "                 coef    std err          t      P>|t|      [0.025      0.975]\n",
       "------------------------------------------------------------------------------\n",
       "x1             2.6550      0.031     85.840      0.000       2.594       2.716\n",
       "x2             5.0108      0.043    116.858      0.000       4.927       5.095\n",
       "==============================================================================\n",
       "Omnibus:                        2.946   Durbin-Watson:                   1.863\n",
       "Prob(Omnibus):                  0.229   Jarque-Bera (JB):                2.714\n",
       "Skew:                          -0.065   Prob(JB):                        0.257\n",
       "Kurtosis:                       2.780   Cond. No.                         1.39\n",
       "==============================================================================\n",
       "\n",
       "Notes:\n",
       "[1] R² is computed without centering (uncentered) since the model does not contain a constant.\n",
       "[2] Standard Errors assume that the covariance matrix of the errors is correctly specified.\n",
       "\"\"\""
      ]
     },
     "execution_count": 10,
     "metadata": {},
     "output_type": "execute_result"
    }
   ],
   "source": [
    "model = OLS(np.asarray(df[outcome]), np.asarray(df[[common_cause, treatment]], dtype=np.float64))\n",
    "result = model.fit()\n",
    "result.summary()"
   ]
  }
 ],
 "metadata": {
  "kernelspec": {
   "display_name": "Python 3",
   "language": "python",
   "name": "python3"
  },
  "language_info": {
   "codemirror_mode": {
    "name": "ipython",
    "version": 3
   },
   "file_extension": ".py",
   "mimetype": "text/x-python",
   "name": "python",
   "nbconvert_exporter": "python",
   "pygments_lexer": "ipython3",
   "version": "3.8.10"
  },
  "toc": {
   "base_numbering": 1,
   "nav_menu": {},
   "number_sections": false,
   "sideBar": true,
   "skip_h1_title": true,
   "title_cell": "Table of Contents",
   "title_sidebar": "Contents",
   "toc_cell": false,
   "toc_position": {},
   "toc_section_display": true,
   "toc_window_display": false
  }
 },
 "nbformat": 4,
 "nbformat_minor": 4
}
