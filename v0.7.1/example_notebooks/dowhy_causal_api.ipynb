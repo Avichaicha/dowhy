{
 "cells": [
  {
   "cell_type": "markdown",
   "metadata": {},
   "source": [
    "# Demo for the DoWhy causal API\n",
    "We show a simple example of adding a causal extension to any dataframe. "
   ]
  },
  {
   "cell_type": "code",
   "execution_count": 1,
   "metadata": {
    "execution": {
     "iopub.execute_input": "2022-09-07T07:18:32.037876Z",
     "iopub.status.busy": "2022-09-07T07:18:32.037471Z",
     "iopub.status.idle": "2022-09-07T07:18:33.085668Z",
     "shell.execute_reply": "2022-09-07T07:18:33.084834Z"
    }
   },
   "outputs": [],
   "source": [
    "import dowhy.datasets\n",
    "import dowhy.api\n",
    "\n",
    "import numpy as np\n",
    "import pandas as pd\n",
    "\n",
    "from statsmodels.api import OLS"
   ]
  },
  {
   "cell_type": "code",
   "execution_count": 2,
   "metadata": {
    "execution": {
     "iopub.execute_input": "2022-09-07T07:18:33.088927Z",
     "iopub.status.busy": "2022-09-07T07:18:33.088572Z",
     "iopub.status.idle": "2022-09-07T07:18:33.128121Z",
     "shell.execute_reply": "2022-09-07T07:18:33.127583Z"
    }
   },
   "outputs": [
    {
     "data": {
      "text/html": [
       "<div>\n",
       "<style scoped>\n",
       "    .dataframe tbody tr th:only-of-type {\n",
       "        vertical-align: middle;\n",
       "    }\n",
       "\n",
       "    .dataframe tbody tr th {\n",
       "        vertical-align: top;\n",
       "    }\n",
       "\n",
       "    .dataframe thead th {\n",
       "        text-align: right;\n",
       "    }\n",
       "</style>\n",
       "<table border=\"1\" class=\"dataframe\">\n",
       "  <thead>\n",
       "    <tr style=\"text-align: right;\">\n",
       "      <th></th>\n",
       "      <th>W0</th>\n",
       "      <th>v0</th>\n",
       "      <th>y</th>\n",
       "    </tr>\n",
       "  </thead>\n",
       "  <tbody>\n",
       "    <tr>\n",
       "      <th>0</th>\n",
       "      <td>1.804779</td>\n",
       "      <td>True</td>\n",
       "      <td>7.370380</td>\n",
       "    </tr>\n",
       "    <tr>\n",
       "      <th>1</th>\n",
       "      <td>0.493811</td>\n",
       "      <td>True</td>\n",
       "      <td>4.978687</td>\n",
       "    </tr>\n",
       "    <tr>\n",
       "      <th>2</th>\n",
       "      <td>-0.113740</td>\n",
       "      <td>True</td>\n",
       "      <td>4.909221</td>\n",
       "    </tr>\n",
       "    <tr>\n",
       "      <th>3</th>\n",
       "      <td>-0.032150</td>\n",
       "      <td>True</td>\n",
       "      <td>6.343420</td>\n",
       "    </tr>\n",
       "    <tr>\n",
       "      <th>4</th>\n",
       "      <td>1.520886</td>\n",
       "      <td>True</td>\n",
       "      <td>8.037291</td>\n",
       "    </tr>\n",
       "    <tr>\n",
       "      <th>...</th>\n",
       "      <td>...</td>\n",
       "      <td>...</td>\n",
       "      <td>...</td>\n",
       "    </tr>\n",
       "    <tr>\n",
       "      <th>995</th>\n",
       "      <td>2.083107</td>\n",
       "      <td>True</td>\n",
       "      <td>7.268335</td>\n",
       "    </tr>\n",
       "    <tr>\n",
       "      <th>996</th>\n",
       "      <td>0.934966</td>\n",
       "      <td>True</td>\n",
       "      <td>6.459352</td>\n",
       "    </tr>\n",
       "    <tr>\n",
       "      <th>997</th>\n",
       "      <td>0.677021</td>\n",
       "      <td>True</td>\n",
       "      <td>6.892703</td>\n",
       "    </tr>\n",
       "    <tr>\n",
       "      <th>998</th>\n",
       "      <td>0.502681</td>\n",
       "      <td>True</td>\n",
       "      <td>4.899572</td>\n",
       "    </tr>\n",
       "    <tr>\n",
       "      <th>999</th>\n",
       "      <td>0.906590</td>\n",
       "      <td>True</td>\n",
       "      <td>7.079190</td>\n",
       "    </tr>\n",
       "  </tbody>\n",
       "</table>\n",
       "<p>1000 rows × 3 columns</p>\n",
       "</div>"
      ],
      "text/plain": [
       "           W0    v0         y\n",
       "0    1.804779  True  7.370380\n",
       "1    0.493811  True  4.978687\n",
       "2   -0.113740  True  4.909221\n",
       "3   -0.032150  True  6.343420\n",
       "4    1.520886  True  8.037291\n",
       "..        ...   ...       ...\n",
       "995  2.083107  True  7.268335\n",
       "996  0.934966  True  6.459352\n",
       "997  0.677021  True  6.892703\n",
       "998  0.502681  True  4.899572\n",
       "999  0.906590  True  7.079190\n",
       "\n",
       "[1000 rows x 3 columns]"
      ]
     },
     "execution_count": 2,
     "metadata": {},
     "output_type": "execute_result"
    }
   ],
   "source": [
    "data = dowhy.datasets.linear_dataset(beta=5,\n",
    "        num_common_causes=1,\n",
    "        num_instruments = 0,\n",
    "        num_samples=1000,\n",
    "        treatment_is_binary=True)\n",
    "df = data['df']\n",
    "df['y'] = df['y'] + np.random.normal(size=len(df)) # Adding noise to data. Without noise, the variance in Y|X, Z is zero, and mcmc fails.\n",
    "#data['dot_graph'] = 'digraph { v ->y;X0-> v;X0-> y;}'\n",
    "\n",
    "treatment= data[\"treatment_name\"][0]\n",
    "outcome = data[\"outcome_name\"][0]\n",
    "common_cause = data[\"common_causes_names\"][0]\n",
    "df"
   ]
  },
  {
   "cell_type": "code",
   "execution_count": 3,
   "metadata": {
    "execution": {
     "iopub.execute_input": "2022-09-07T07:18:33.131210Z",
     "iopub.status.busy": "2022-09-07T07:18:33.130718Z",
     "iopub.status.idle": "2022-09-07T07:18:33.867181Z",
     "shell.execute_reply": "2022-09-07T07:18:33.866606Z"
    }
   },
   "outputs": [
    {
     "data": {
      "text/plain": [
       "<AxesSubplot:xlabel='v0'>"
      ]
     },
     "execution_count": 3,
     "metadata": {},
     "output_type": "execute_result"
    },
    {
     "data": {
      "image/png": "[encoded data removed]",
      "text/plain": [
       "<Figure size 640x480 with 1 Axes>"
      ]
     },
     "metadata": {},
     "output_type": "display_data"
    }
   ],
   "source": [
    "# data['df'] is just a regular pandas.DataFrame\n",
    "df.causal.do(x=treatment,\n",
    "                     variable_types={treatment: 'b', outcome: 'c', common_cause: 'c'},\n",
    "                     outcome=outcome,\n",
    "                     common_causes=[common_cause],\n",
    "                     proceed_when_unidentifiable=True).groupby(treatment).mean().plot(y=outcome, kind='bar')"
   ]
  },
  {
   "cell_type": "code",
   "execution_count": 4,
   "metadata": {
    "execution": {
     "iopub.execute_input": "2022-09-07T07:18:33.870405Z",
     "iopub.status.busy": "2022-09-07T07:18:33.869978Z",
     "iopub.status.idle": "2022-09-07T07:18:33.975336Z",
     "shell.execute_reply": "2022-09-07T07:18:33.974849Z"
    }
   },
   "outputs": [
    {
     "data": {
      "text/plain": [
       "<AxesSubplot:xlabel='v0'>"
      ]
     },
     "execution_count": 4,
     "metadata": {},
     "output_type": "execute_result"
    },
    {
     "data": {
      "image/png": "[encoded data removed]",
      "text/plain": [
       "<Figure size 640x480 with 1 Axes>"
      ]
     },
     "metadata": {},
     "output_type": "display_data"
    }
   ],
   "source": [
    "df.causal.do(x={treatment: 1}, \n",
    "              variable_types={treatment:'b', outcome: 'c', common_cause: 'c'}, \n",
    "              outcome=outcome,\n",
    "              method='weighting', \n",
    "              common_causes=[common_cause],\n",
    "              proceed_when_unidentifiable=True).groupby(treatment).mean().plot(y=outcome, kind='bar')"
   ]
  },
  {
   "cell_type": "code",
   "execution_count": 5,
   "metadata": {
    "execution": {
     "iopub.execute_input": "2022-09-07T07:18:33.979265Z",
     "iopub.status.busy": "2022-09-07T07:18:33.978275Z",
     "iopub.status.idle": "2022-09-07T07:18:34.008078Z",
     "shell.execute_reply": "2022-09-07T07:18:34.007539Z"
    }
   },
   "outputs": [],
   "source": [
    "cdf_1 = df.causal.do(x={treatment: 1}, \n",
    "              variable_types={treatment: 'b', outcome: 'c', common_cause: 'c'}, \n",
    "              outcome=outcome, \n",
    "              dot_graph=data['dot_graph'],\n",
    "              proceed_when_unidentifiable=True)\n",
    "\n",
    "cdf_0 = df.causal.do(x={treatment: 0}, \n",
    "              variable_types={treatment: 'b', outcome: 'c', common_cause: 'c'}, \n",
    "              outcome=outcome, \n",
    "              dot_graph=data['dot_graph'],\n",
    "              proceed_when_unidentifiable=True)\n"
   ]
  },
  {
   "cell_type": "code",
   "execution_count": 6,
   "metadata": {
    "execution": {
     "iopub.execute_input": "2022-09-07T07:18:34.011145Z",
     "iopub.status.busy": "2022-09-07T07:18:34.010830Z",
     "iopub.status.idle": "2022-09-07T07:18:34.023058Z",
     "shell.execute_reply": "2022-09-07T07:18:34.022375Z"
    },
    "scrolled": true
   },
   "outputs": [
    {
     "data": {
      "text/html": [
       "<div>\n",
       "<style scoped>\n",
       "    .dataframe tbody tr th:only-of-type {\n",
       "        vertical-align: middle;\n",
       "    }\n",
       "\n",
       "    .dataframe tbody tr th {\n",
       "        vertical-align: top;\n",
       "    }\n",
       "\n",
       "    .dataframe thead th {\n",
       "        text-align: right;\n",
       "    }\n",
       "</style>\n",
       "<table border=\"1\" class=\"dataframe\">\n",
       "  <thead>\n",
       "    <tr style=\"text-align: right;\">\n",
       "      <th></th>\n",
       "      <th>W0</th>\n",
       "      <th>v0</th>\n",
       "      <th>y</th>\n",
       "      <th>propensity_score</th>\n",
       "      <th>weight</th>\n",
       "    </tr>\n",
       "  </thead>\n",
       "  <tbody>\n",
       "    <tr>\n",
       "      <th>0</th>\n",
       "      <td>1.189536</td>\n",
       "      <td>False</td>\n",
       "      <td>1.456717</td>\n",
       "      <td>0.042536</td>\n",
       "      <td>23.509720</td>\n",
       "    </tr>\n",
       "    <tr>\n",
       "      <th>1</th>\n",
       "      <td>-0.549965</td>\n",
       "      <td>False</td>\n",
       "      <td>-1.566646</td>\n",
       "      <td>0.816607</td>\n",
       "      <td>1.224579</td>\n",
       "    </tr>\n",
       "    <tr>\n",
       "      <th>2</th>\n",
       "      <td>-0.215710</td>\n",
       "      <td>False</td>\n",
       "      <td>-1.299680</td>\n",
       "      <td>0.647524</td>\n",
       "      <td>1.544343</td>\n",
       "    </tr>\n",
       "    <tr>\n",
       "      <th>3</th>\n",
       "      <td>1.752461</td>\n",
       "      <td>False</td>\n",
       "      <td>1.772318</td>\n",
       "      <td>0.009903</td>\n",
       "      <td>100.981467</td>\n",
       "    </tr>\n",
       "    <tr>\n",
       "      <th>4</th>\n",
       "      <td>0.902115</td>\n",
       "      <td>False</td>\n",
       "      <td>1.037482</td>\n",
       "      <td>0.086856</td>\n",
       "      <td>11.513349</td>\n",
       "    </tr>\n",
       "    <tr>\n",
       "      <th>...</th>\n",
       "      <td>...</td>\n",
       "      <td>...</td>\n",
       "      <td>...</td>\n",
       "      <td>...</td>\n",
       "      <td>...</td>\n",
       "    </tr>\n",
       "    <tr>\n",
       "      <th>995</th>\n",
       "      <td>-0.233157</td>\n",
       "      <td>False</td>\n",
       "      <td>1.154574</td>\n",
       "      <td>0.657998</td>\n",
       "      <td>1.519761</td>\n",
       "    </tr>\n",
       "    <tr>\n",
       "      <th>996</th>\n",
       "      <td>0.665133</td>\n",
       "      <td>False</td>\n",
       "      <td>1.003686</td>\n",
       "      <td>0.151235</td>\n",
       "      <td>6.612214</td>\n",
       "    </tr>\n",
       "    <tr>\n",
       "      <th>997</th>\n",
       "      <td>0.749963</td>\n",
       "      <td>False</td>\n",
       "      <td>1.864372</td>\n",
       "      <td>0.124593</td>\n",
       "      <td>8.026126</td>\n",
       "    </tr>\n",
       "    <tr>\n",
       "      <th>998</th>\n",
       "      <td>1.095807</td>\n",
       "      <td>False</td>\n",
       "      <td>0.326436</td>\n",
       "      <td>0.053876</td>\n",
       "      <td>18.561094</td>\n",
       "    </tr>\n",
       "    <tr>\n",
       "      <th>999</th>\n",
       "      <td>-0.451790</td>\n",
       "      <td>False</td>\n",
       "      <td>0.487762</td>\n",
       "      <td>0.774428</td>\n",
       "      <td>1.291275</td>\n",
       "    </tr>\n",
       "  </tbody>\n",
       "</table>\n",
       "<p>1000 rows × 5 columns</p>\n",
       "</div>"
      ],
      "text/plain": [
       "           W0     v0         y  propensity_score      weight\n",
       "0    1.189536  False  1.456717          0.042536   23.509720\n",
       "1   -0.549965  False -1.566646          0.816607    1.224579\n",
       "2   -0.215710  False -1.299680          0.647524    1.544343\n",
       "3    1.752461  False  1.772318          0.009903  100.981467\n",
       "4    0.902115  False  1.037482          0.086856   11.513349\n",
       "..        ...    ...       ...               ...         ...\n",
       "995 -0.233157  False  1.154574          0.657998    1.519761\n",
       "996  0.665133  False  1.003686          0.151235    6.612214\n",
       "997  0.749963  False  1.864372          0.124593    8.026126\n",
       "998  1.095807  False  0.326436          0.053876   18.561094\n",
       "999 -0.451790  False  0.487762          0.774428    1.291275\n",
       "\n",
       "[1000 rows x 5 columns]"
      ]
     },
     "execution_count": 6,
     "metadata": {},
     "output_type": "execute_result"
    }
   ],
   "source": [
    "cdf_0"
   ]
  },
  {
   "cell_type": "code",
   "execution_count": 7,
   "metadata": {
    "execution": {
     "iopub.execute_input": "2022-09-07T07:18:34.025630Z",
     "iopub.status.busy": "2022-09-07T07:18:34.025428Z",
     "iopub.status.idle": "2022-09-07T07:18:34.036828Z",
     "shell.execute_reply": "2022-09-07T07:18:34.035910Z"
    }
   },
   "outputs": [
    {
     "data": {
      "text/html": [
       "<div>\n",
       "<style scoped>\n",
       "    .dataframe tbody tr th:only-of-type {\n",
       "        vertical-align: middle;\n",
       "    }\n",
       "\n",
       "    .dataframe tbody tr th {\n",
       "        vertical-align: top;\n",
       "    }\n",
       "\n",
       "    .dataframe thead th {\n",
       "        text-align: right;\n",
       "    }\n",
       "</style>\n",
       "<table border=\"1\" class=\"dataframe\">\n",
       "  <thead>\n",
       "    <tr style=\"text-align: right;\">\n",
       "      <th></th>\n",
       "      <th>W0</th>\n",
       "      <th>v0</th>\n",
       "      <th>y</th>\n",
       "      <th>propensity_score</th>\n",
       "      <th>weight</th>\n",
       "    </tr>\n",
       "  </thead>\n",
       "  <tbody>\n",
       "    <tr>\n",
       "      <th>0</th>\n",
       "      <td>1.031251</td>\n",
       "      <td>True</td>\n",
       "      <td>5.583040</td>\n",
       "      <td>0.936713</td>\n",
       "      <td>1.067563</td>\n",
       "    </tr>\n",
       "    <tr>\n",
       "      <th>1</th>\n",
       "      <td>1.753385</td>\n",
       "      <td>True</td>\n",
       "      <td>9.554727</td>\n",
       "      <td>0.990121</td>\n",
       "      <td>1.009977</td>\n",
       "    </tr>\n",
       "    <tr>\n",
       "      <th>2</th>\n",
       "      <td>1.396255</td>\n",
       "      <td>True</td>\n",
       "      <td>7.490978</td>\n",
       "      <td>0.974949</td>\n",
       "      <td>1.025694</td>\n",
       "    </tr>\n",
       "    <tr>\n",
       "      <th>3</th>\n",
       "      <td>2.873749</td>\n",
       "      <td>True</td>\n",
       "      <td>7.243575</td>\n",
       "      <td>0.999487</td>\n",
       "      <td>1.000513</td>\n",
       "    </tr>\n",
       "    <tr>\n",
       "      <th>4</th>\n",
       "      <td>0.319712</td>\n",
       "      <td>True</td>\n",
       "      <td>5.247007</td>\n",
       "      <td>0.692113</td>\n",
       "      <td>1.444851</td>\n",
       "    </tr>\n",
       "    <tr>\n",
       "      <th>...</th>\n",
       "      <td>...</td>\n",
       "      <td>...</td>\n",
       "      <td>...</td>\n",
       "      <td>...</td>\n",
       "      <td>...</td>\n",
       "    </tr>\n",
       "    <tr>\n",
       "      <th>995</th>\n",
       "      <td>1.083966</td>\n",
       "      <td>True</td>\n",
       "      <td>5.950411</td>\n",
       "      <td>0.944502</td>\n",
       "      <td>1.058758</td>\n",
       "    </tr>\n",
       "    <tr>\n",
       "      <th>996</th>\n",
       "      <td>1.416307</td>\n",
       "      <td>True</td>\n",
       "      <td>6.303534</td>\n",
       "      <td>0.976214</td>\n",
       "      <td>1.024365</td>\n",
       "    </tr>\n",
       "    <tr>\n",
       "      <th>997</th>\n",
       "      <td>1.590334</td>\n",
       "      <td>True</td>\n",
       "      <td>6.419443</td>\n",
       "      <td>0.984866</td>\n",
       "      <td>1.015367</td>\n",
       "    </tr>\n",
       "    <tr>\n",
       "      <th>998</th>\n",
       "      <td>0.969435</td>\n",
       "      <td>True</td>\n",
       "      <td>6.861684</td>\n",
       "      <td>0.926284</td>\n",
       "      <td>1.079583</td>\n",
       "    </tr>\n",
       "    <tr>\n",
       "      <th>999</th>\n",
       "      <td>1.191633</td>\n",
       "      <td>True</td>\n",
       "      <td>7.637841</td>\n",
       "      <td>0.957690</td>\n",
       "      <td>1.044179</td>\n",
       "    </tr>\n",
       "  </tbody>\n",
       "</table>\n",
       "<p>1000 rows × 5 columns</p>\n",
       "</div>"
      ],
      "text/plain": [
       "           W0    v0         y  propensity_score    weight\n",
       "0    1.031251  True  5.583040          0.936713  1.067563\n",
       "1    1.753385  True  9.554727          0.990121  1.009977\n",
       "2    1.396255  True  7.490978          0.974949  1.025694\n",
       "3    2.873749  True  7.243575          0.999487  1.000513\n",
       "4    0.319712  True  5.247007          0.692113  1.444851\n",
       "..        ...   ...       ...               ...       ...\n",
       "995  1.083966  True  5.950411          0.944502  1.058758\n",
       "996  1.416307  True  6.303534          0.976214  1.024365\n",
       "997  1.590334  True  6.419443          0.984866  1.015367\n",
       "998  0.969435  True  6.861684          0.926284  1.079583\n",
       "999  1.191633  True  7.637841          0.957690  1.044179\n",
       "\n",
       "[1000 rows x 5 columns]"
      ]
     },
     "execution_count": 7,
     "metadata": {},
     "output_type": "execute_result"
    }
   ],
   "source": [
    "cdf_1"
   ]
  },
  {
   "cell_type": "markdown",
   "metadata": {},
   "source": [
    "## Comparing the estimate to Linear Regression\n",
    "First, estimating the effect using the causal data frame, and the 95% confidence interval."
   ]
  },
  {
   "cell_type": "code",
   "execution_count": 8,
   "metadata": {
    "execution": {
     "iopub.execute_input": "2022-09-07T07:18:34.039435Z",
     "iopub.status.busy": "2022-09-07T07:18:34.039235Z",
     "iopub.status.idle": "2022-09-07T07:18:34.133869Z",
     "shell.execute_reply": "2022-09-07T07:18:34.133254Z"
    }
   },
   "outputs": [
    {
     "data": {
      "image/png": "[encoded data removed]",
      "text/latex": [
       "$\\displaystyle 5.57454105757756$"
      ],
      "text/plain": [
       "5.574541057577555"
      ]
     },
     "execution_count": 8,
     "metadata": {},
     "output_type": "execute_result"
    }
   ],
   "source": [
    "(cdf_1['y'] - cdf_0['y']).mean()"
   ]
  },
  {
   "cell_type": "code",
   "execution_count": 9,
   "metadata": {
    "execution": {
     "iopub.execute_input": "2022-09-07T07:18:34.136369Z",
     "iopub.status.busy": "2022-09-07T07:18:34.136159Z",
     "iopub.status.idle": "2022-09-07T07:18:34.159020Z",
     "shell.execute_reply": "2022-09-07T07:18:34.158435Z"
    }
   },
   "outputs": [
    {
     "data": {
      "image/png": "[encoded data removed]",
      "text/latex": [
       "$\\displaystyle 0.130088693095322$"
      ],
      "text/plain": [
       "0.1300886930953224"
      ]
     },
     "execution_count": 9,
     "metadata": {},
     "output_type": "execute_result"
    }
   ],
   "source": [
    "1.96*(cdf_1['y'] - cdf_0['y']).std() / np.sqrt(len(df))"
   ]
  },
  {
   "cell_type": "markdown",
   "metadata": {},
   "source": [
    "Comparing to the estimate from OLS."
   ]
  },
  {
   "cell_type": "code",
   "execution_count": 10,
   "metadata": {
    "execution": {
     "iopub.execute_input": "2022-09-07T07:18:34.161958Z",
     "iopub.status.busy": "2022-09-07T07:18:34.161406Z",
     "iopub.status.idle": "2022-09-07T07:18:34.176145Z",
     "shell.execute_reply": "2022-09-07T07:18:34.175587Z"
    }
   },
   "outputs": [
    {
     "data": {
      "text/html": [
       "<table class=\"simpletable\">\n",
       "<caption>OLS Regression Results</caption>\n",
       "<tr>\n",
       "  <th>Dep. Variable:</th>            <td>y</td>        <th>  R-squared (uncentered):</th>      <td>   0.973</td> \n",
       "</tr>\n",
       "<tr>\n",
       "  <th>Model:</th>                   <td>OLS</td>       <th>  Adj. R-squared (uncentered):</th> <td>   0.973</td> \n",
       "</tr>\n",
       "<tr>\n",
       "  <th>Method:</th>             <td>Least Squares</td>  <th>  F-statistic:       </th>          <td>1.786e+04</td>\n",
       "</tr>\n",
       "<tr>\n",
       "  <th>Date:</th>             <td>Wed, 07 Sep 2022</td> <th>  Prob (F-statistic):</th>           <td>  0.00</td>  \n",
       "</tr>\n",
       "<tr>\n",
       "  <th>Time:</th>                 <td>07:18:34</td>     <th>  Log-Likelihood:    </th>          <td> -1411.7</td> \n",
       "</tr>\n",
       "<tr>\n",
       "  <th>No. Observations:</th>      <td>  1000</td>      <th>  AIC:               </th>          <td>   2827.</td> \n",
       "</tr>\n",
       "<tr>\n",
       "  <th>Df Residuals:</th>          <td>   998</td>      <th>  BIC:               </th>          <td>   2837.</td> \n",
       "</tr>\n",
       "<tr>\n",
       "  <th>Df Model:</th>              <td>     2</td>      <th>                     </th>              <td> </td>    \n",
       "</tr>\n",
       "<tr>\n",
       "  <th>Covariance Type:</th>      <td>nonrobust</td>    <th>                     </th>              <td> </td>    \n",
       "</tr>\n",
       "</table>\n",
       "<table class=\"simpletable\">\n",
       "<tr>\n",
       "   <td></td>     <th>coef</th>     <th>std err</th>      <th>t</th>      <th>P>|t|</th>  <th>[0.025</th>    <th>0.975]</th>  \n",
       "</tr>\n",
       "<tr>\n",
       "  <th>x1</th> <td>    1.2242</td> <td>    0.039</td> <td>   31.003</td> <td> 0.000</td> <td>    1.147</td> <td>    1.302</td>\n",
       "</tr>\n",
       "<tr>\n",
       "  <th>x2</th> <td>    5.0752</td> <td>    0.061</td> <td>   83.072</td> <td> 0.000</td> <td>    4.955</td> <td>    5.195</td>\n",
       "</tr>\n",
       "</table>\n",
       "<table class=\"simpletable\">\n",
       "<tr>\n",
       "  <th>Omnibus:</th>       <td> 2.264</td> <th>  Durbin-Watson:     </th> <td>   1.880</td>\n",
       "</tr>\n",
       "<tr>\n",
       "  <th>Prob(Omnibus):</th> <td> 0.322</td> <th>  Jarque-Bera (JB):  </th> <td>   2.271</td>\n",
       "</tr>\n",
       "<tr>\n",
       "  <th>Skew:</th>          <td>-0.116</td> <th>  Prob(JB):          </th> <td>   0.321</td>\n",
       "</tr>\n",
       "<tr>\n",
       "  <th>Kurtosis:</th>      <td> 2.973</td> <th>  Cond. No.          </th> <td>    3.49</td>\n",
       "</tr>\n",
       "</table><br/><br/>Notes:<br/>[1] R² is computed without centering (uncentered) since the model does not contain a constant.<br/>[2] Standard Errors assume that the covariance matrix of the errors is correctly specified."
      ],
      "text/plain": [
       "<class 'statsmodels.iolib.summary.Summary'>\n",
       "\"\"\"\n",
       "                                 OLS Regression Results                                \n",
       "=======================================================================================\n",
       "Dep. Variable:                      y   R-squared (uncentered):                   0.973\n",
       "Model:                            OLS   Adj. R-squared (uncentered):              0.973\n",
       "Method:                 Least Squares   F-statistic:                          1.786e+04\n",
       "Date:                Wed, 07 Sep 2022   Prob (F-statistic):                        0.00\n",
       "Time:                        07:18:34   Log-Likelihood:                         -1411.7\n",
       "No. Observations:                1000   AIC:                                      2827.\n",
       "Df Residuals:                     998   BIC:                                      2837.\n",
       "Df Model:                           2                                                  \n",
       "Covariance Type:            nonrobust                                                  \n",
       "==============================================================================\n",
       "                 coef    std err          t      P>|t|      [0.025      0.975]\n",
       "------------------------------------------------------------------------------\n",
       "x1             1.2242      0.039     31.003      0.000       1.147       1.302\n",
       "x2             5.0752      0.061     83.072      0.000       4.955       5.195\n",
       "==============================================================================\n",
       "Omnibus:                        2.264   Durbin-Watson:                   1.880\n",
       "Prob(Omnibus):                  0.322   Jarque-Bera (JB):                2.271\n",
       "Skew:                          -0.116   Prob(JB):                        0.321\n",
       "Kurtosis:                       2.973   Cond. No.                         3.49\n",
       "==============================================================================\n",
       "\n",
       "Notes:\n",
       "[1] R² is computed without centering (uncentered) since the model does not contain a constant.\n",
       "[2] Standard Errors assume that the covariance matrix of the errors is correctly specified.\n",
       "\"\"\""
      ]
     },
     "execution_count": 10,
     "metadata": {},
     "output_type": "execute_result"
    }
   ],
   "source": [
    "model = OLS(np.asarray(df[outcome]), np.asarray(df[[common_cause, treatment]], dtype=np.float64))\n",
    "result = model.fit()\n",
    "result.summary()"
   ]
  }
 ],
 "metadata": {
  "kernelspec": {
   "display_name": "Python 3",
   "language": "python",
   "name": "python3"
  },
  "language_info": {
   "codemirror_mode": {
    "name": "ipython",
    "version": 3
   },
   "file_extension": ".py",
   "mimetype": "text/x-python",
   "name": "python",
   "nbconvert_exporter": "python",
   "pygments_lexer": "ipython3",
   "version": "3.8.10"
  },
  "toc": {
   "base_numbering": 1,
   "nav_menu": {},
   "number_sections": false,
   "sideBar": true,
   "skip_h1_title": true,
   "title_cell": "Table of Contents",
   "title_sidebar": "Contents",
   "toc_cell": false,
   "toc_position": {},
   "toc_section_display": true,
   "toc_window_display": false
  }
 },
 "nbformat": 4,
 "nbformat_minor": 4
}
