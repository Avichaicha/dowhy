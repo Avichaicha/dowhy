{
 "cells": [
  {
   "cell_type": "markdown",
   "metadata": {},
   "source": [
    "# Demo for the DoWhy causal API\n",
    "We show a simple example of adding a causal extension to any dataframe. "
   ]
  },
  {
   "cell_type": "code",
   "execution_count": 1,
   "metadata": {
    "execution": {
     "iopub.execute_input": "2022-08-13T01:36:53.308716Z",
     "iopub.status.busy": "2022-08-13T01:36:53.308264Z",
     "iopub.status.idle": "2022-08-13T01:36:54.456418Z",
     "shell.execute_reply": "2022-08-13T01:36:54.455467Z"
    }
   },
   "outputs": [],
   "source": [
    "import dowhy.datasets\n",
    "import dowhy.api\n",
    "\n",
    "import numpy as np\n",
    "import pandas as pd\n",
    "\n",
    "from statsmodels.api import OLS"
   ]
  },
  {
   "cell_type": "code",
   "execution_count": 2,
   "metadata": {
    "execution": {
     "iopub.execute_input": "2022-08-13T01:36:54.460333Z",
     "iopub.status.busy": "2022-08-13T01:36:54.459951Z",
     "iopub.status.idle": "2022-08-13T01:36:54.504955Z",
     "shell.execute_reply": "2022-08-13T01:36:54.504301Z"
    }
   },
   "outputs": [
    {
     "data": {
      "text/html": [
       "<div>\n",
       "<style scoped>\n",
       "    .dataframe tbody tr th:only-of-type {\n",
       "        vertical-align: middle;\n",
       "    }\n",
       "\n",
       "    .dataframe tbody tr th {\n",
       "        vertical-align: top;\n",
       "    }\n",
       "\n",
       "    .dataframe thead th {\n",
       "        text-align: right;\n",
       "    }\n",
       "</style>\n",
       "<table border=\"1\" class=\"dataframe\">\n",
       "  <thead>\n",
       "    <tr style=\"text-align: right;\">\n",
       "      <th></th>\n",
       "      <th>W0</th>\n",
       "      <th>v0</th>\n",
       "      <th>y</th>\n",
       "    </tr>\n",
       "  </thead>\n",
       "  <tbody>\n",
       "    <tr>\n",
       "      <th>0</th>\n",
       "      <td>0.776455</td>\n",
       "      <td>True</td>\n",
       "      <td>7.127610</td>\n",
       "    </tr>\n",
       "    <tr>\n",
       "      <th>1</th>\n",
       "      <td>-2.683864</td>\n",
       "      <td>False</td>\n",
       "      <td>-5.707601</td>\n",
       "    </tr>\n",
       "    <tr>\n",
       "      <th>2</th>\n",
       "      <td>-0.448552</td>\n",
       "      <td>False</td>\n",
       "      <td>-2.483746</td>\n",
       "    </tr>\n",
       "    <tr>\n",
       "      <th>3</th>\n",
       "      <td>-0.385375</td>\n",
       "      <td>False</td>\n",
       "      <td>-0.744725</td>\n",
       "    </tr>\n",
       "    <tr>\n",
       "      <th>4</th>\n",
       "      <td>0.227717</td>\n",
       "      <td>False</td>\n",
       "      <td>0.407495</td>\n",
       "    </tr>\n",
       "    <tr>\n",
       "      <th>...</th>\n",
       "      <td>...</td>\n",
       "      <td>...</td>\n",
       "      <td>...</td>\n",
       "    </tr>\n",
       "    <tr>\n",
       "      <th>995</th>\n",
       "      <td>-1.143809</td>\n",
       "      <td>False</td>\n",
       "      <td>-2.950720</td>\n",
       "    </tr>\n",
       "    <tr>\n",
       "      <th>996</th>\n",
       "      <td>-1.567100</td>\n",
       "      <td>False</td>\n",
       "      <td>-5.356781</td>\n",
       "    </tr>\n",
       "    <tr>\n",
       "      <th>997</th>\n",
       "      <td>-1.792233</td>\n",
       "      <td>False</td>\n",
       "      <td>-5.852981</td>\n",
       "    </tr>\n",
       "    <tr>\n",
       "      <th>998</th>\n",
       "      <td>-0.840831</td>\n",
       "      <td>False</td>\n",
       "      <td>-0.623573</td>\n",
       "    </tr>\n",
       "    <tr>\n",
       "      <th>999</th>\n",
       "      <td>0.851118</td>\n",
       "      <td>True</td>\n",
       "      <td>7.145511</td>\n",
       "    </tr>\n",
       "  </tbody>\n",
       "</table>\n",
       "<p>1000 rows × 3 columns</p>\n",
       "</div>"
      ],
      "text/plain": [
       "           W0     v0         y\n",
       "0    0.776455   True  7.127610\n",
       "1   -2.683864  False -5.707601\n",
       "2   -0.448552  False -2.483746\n",
       "3   -0.385375  False -0.744725\n",
       "4    0.227717  False  0.407495\n",
       "..        ...    ...       ...\n",
       "995 -1.143809  False -2.950720\n",
       "996 -1.567100  False -5.356781\n",
       "997 -1.792233  False -5.852981\n",
       "998 -0.840831  False -0.623573\n",
       "999  0.851118   True  7.145511\n",
       "\n",
       "[1000 rows x 3 columns]"
      ]
     },
     "execution_count": 2,
     "metadata": {},
     "output_type": "execute_result"
    }
   ],
   "source": [
    "data = dowhy.datasets.linear_dataset(beta=5,\n",
    "        num_common_causes=1,\n",
    "        num_instruments = 0,\n",
    "        num_samples=1000,\n",
    "        treatment_is_binary=True)\n",
    "df = data['df']\n",
    "df['y'] = df['y'] + np.random.normal(size=len(df)) # Adding noise to data. Without noise, the variance in Y|X, Z is zero, and mcmc fails.\n",
    "#data['dot_graph'] = 'digraph { v ->y;X0-> v;X0-> y;}'\n",
    "\n",
    "treatment= data[\"treatment_name\"][0]\n",
    "outcome = data[\"outcome_name\"][0]\n",
    "common_cause = data[\"common_causes_names\"][0]\n",
    "df"
   ]
  },
  {
   "cell_type": "code",
   "execution_count": 3,
   "metadata": {
    "execution": {
     "iopub.execute_input": "2022-08-13T01:36:54.508112Z",
     "iopub.status.busy": "2022-08-13T01:36:54.507871Z",
     "iopub.status.idle": "2022-08-13T01:36:55.264899Z",
     "shell.execute_reply": "2022-08-13T01:36:55.264252Z"
    }
   },
   "outputs": [
    {
     "data": {
      "text/plain": [
       "<AxesSubplot:xlabel='v0'>"
      ]
     },
     "execution_count": 3,
     "metadata": {},
     "output_type": "execute_result"
    },
    {
     "data": {
      "image/png": "[encoded data removed]",
      "text/plain": [
       "<Figure size 432x288 with 1 Axes>"
      ]
     },
     "metadata": {
      "needs_background": "light"
     },
     "output_type": "display_data"
    }
   ],
   "source": [
    "# data['df'] is just a regular pandas.DataFrame\n",
    "df.causal.do(x=treatment,\n",
    "                     variable_types={treatment: 'b', outcome: 'c', common_cause: 'c'},\n",
    "                     outcome=outcome,\n",
    "                     common_causes=[common_cause],\n",
    "                     proceed_when_unidentifiable=True).groupby(treatment).mean().plot(y=outcome, kind='bar')"
   ]
  },
  {
   "cell_type": "code",
   "execution_count": 4,
   "metadata": {
    "execution": {
     "iopub.execute_input": "2022-08-13T01:36:55.268122Z",
     "iopub.status.busy": "2022-08-13T01:36:55.267620Z",
     "iopub.status.idle": "2022-08-13T01:36:55.367612Z",
     "shell.execute_reply": "2022-08-13T01:36:55.367046Z"
    }
   },
   "outputs": [
    {
     "data": {
      "text/plain": [
       "<AxesSubplot:xlabel='v0'>"
      ]
     },
     "execution_count": 4,
     "metadata": {},
     "output_type": "execute_result"
    },
    {
     "data": {
      "image/png": "[encoded data removed]",
      "text/plain": [
       "<Figure size 432x288 with 1 Axes>"
      ]
     },
     "metadata": {
      "needs_background": "light"
     },
     "output_type": "display_data"
    }
   ],
   "source": [
    "df.causal.do(x={treatment: 1}, \n",
    "              variable_types={treatment:'b', outcome: 'c', common_cause: 'c'}, \n",
    "              outcome=outcome,\n",
    "              method='weighting', \n",
    "              common_causes=[common_cause],\n",
    "              proceed_when_unidentifiable=True).groupby(treatment).mean().plot(y=outcome, kind='bar')"
   ]
  },
  {
   "cell_type": "code",
   "execution_count": 5,
   "metadata": {
    "execution": {
     "iopub.execute_input": "2022-08-13T01:36:55.371660Z",
     "iopub.status.busy": "2022-08-13T01:36:55.370614Z",
     "iopub.status.idle": "2022-08-13T01:36:55.403988Z",
     "shell.execute_reply": "2022-08-13T01:36:55.403331Z"
    }
   },
   "outputs": [],
   "source": [
    "cdf_1 = df.causal.do(x={treatment: 1}, \n",
    "              variable_types={treatment: 'b', outcome: 'c', common_cause: 'c'}, \n",
    "              outcome=outcome, \n",
    "              dot_graph=data['dot_graph'],\n",
    "              proceed_when_unidentifiable=True)\n",
    "\n",
    "cdf_0 = df.causal.do(x={treatment: 0}, \n",
    "              variable_types={treatment: 'b', outcome: 'c', common_cause: 'c'}, \n",
    "              outcome=outcome, \n",
    "              dot_graph=data['dot_graph'],\n",
    "              proceed_when_unidentifiable=True)\n"
   ]
  },
  {
   "cell_type": "code",
   "execution_count": 6,
   "metadata": {
    "execution": {
     "iopub.execute_input": "2022-08-13T01:36:55.407613Z",
     "iopub.status.busy": "2022-08-13T01:36:55.407236Z",
     "iopub.status.idle": "2022-08-13T01:36:55.419047Z",
     "shell.execute_reply": "2022-08-13T01:36:55.418429Z"
    },
    "scrolled": true
   },
   "outputs": [
    {
     "data": {
      "text/html": [
       "<div>\n",
       "<style scoped>\n",
       "    .dataframe tbody tr th:only-of-type {\n",
       "        vertical-align: middle;\n",
       "    }\n",
       "\n",
       "    .dataframe tbody tr th {\n",
       "        vertical-align: top;\n",
       "    }\n",
       "\n",
       "    .dataframe thead th {\n",
       "        text-align: right;\n",
       "    }\n",
       "</style>\n",
       "<table border=\"1\" class=\"dataframe\">\n",
       "  <thead>\n",
       "    <tr style=\"text-align: right;\">\n",
       "      <th></th>\n",
       "      <th>W0</th>\n",
       "      <th>v0</th>\n",
       "      <th>y</th>\n",
       "      <th>propensity_score</th>\n",
       "      <th>weight</th>\n",
       "    </tr>\n",
       "  </thead>\n",
       "  <tbody>\n",
       "    <tr>\n",
       "      <th>0</th>\n",
       "      <td>-1.984048</td>\n",
       "      <td>False</td>\n",
       "      <td>-3.411204</td>\n",
       "      <td>0.976979</td>\n",
       "      <td>1.023563</td>\n",
       "    </tr>\n",
       "    <tr>\n",
       "      <th>1</th>\n",
       "      <td>-1.640299</td>\n",
       "      <td>False</td>\n",
       "      <td>-3.902026</td>\n",
       "      <td>0.957105</td>\n",
       "      <td>1.044817</td>\n",
       "    </tr>\n",
       "    <tr>\n",
       "      <th>2</th>\n",
       "      <td>1.138230</td>\n",
       "      <td>False</td>\n",
       "      <td>3.054754</td>\n",
       "      <td>0.109922</td>\n",
       "      <td>9.097324</td>\n",
       "    </tr>\n",
       "    <tr>\n",
       "      <th>3</th>\n",
       "      <td>-0.015472</td>\n",
       "      <td>False</td>\n",
       "      <td>-1.196752</td>\n",
       "      <td>0.516554</td>\n",
       "      <td>1.935907</td>\n",
       "    </tr>\n",
       "    <tr>\n",
       "      <th>4</th>\n",
       "      <td>-0.604633</td>\n",
       "      <td>False</td>\n",
       "      <td>-2.349184</td>\n",
       "      <td>0.762810</td>\n",
       "      <td>1.310942</td>\n",
       "    </tr>\n",
       "    <tr>\n",
       "      <th>...</th>\n",
       "      <td>...</td>\n",
       "      <td>...</td>\n",
       "      <td>...</td>\n",
       "      <td>...</td>\n",
       "      <td>...</td>\n",
       "    </tr>\n",
       "    <tr>\n",
       "      <th>995</th>\n",
       "      <td>1.507008</td>\n",
       "      <td>False</td>\n",
       "      <td>4.318191</td>\n",
       "      <td>0.058345</td>\n",
       "      <td>17.139348</td>\n",
       "    </tr>\n",
       "    <tr>\n",
       "      <th>996</th>\n",
       "      <td>-1.014575</td>\n",
       "      <td>False</td>\n",
       "      <td>-4.555769</td>\n",
       "      <td>0.873787</td>\n",
       "      <td>1.144444</td>\n",
       "    </tr>\n",
       "    <tr>\n",
       "      <th>997</th>\n",
       "      <td>-2.717871</td>\n",
       "      <td>False</td>\n",
       "      <td>-6.040382</td>\n",
       "      <td>0.994063</td>\n",
       "      <td>1.005973</td>\n",
       "    </tr>\n",
       "    <tr>\n",
       "      <th>998</th>\n",
       "      <td>-0.126003</td>\n",
       "      <td>False</td>\n",
       "      <td>-1.807830</td>\n",
       "      <td>0.567821</td>\n",
       "      <td>1.761119</td>\n",
       "    </tr>\n",
       "    <tr>\n",
       "      <th>999</th>\n",
       "      <td>-2.183127</td>\n",
       "      <td>False</td>\n",
       "      <td>-5.274958</td>\n",
       "      <td>0.984022</td>\n",
       "      <td>1.016238</td>\n",
       "    </tr>\n",
       "  </tbody>\n",
       "</table>\n",
       "<p>1000 rows × 5 columns</p>\n",
       "</div>"
      ],
      "text/plain": [
       "           W0     v0         y  propensity_score     weight\n",
       "0   -1.984048  False -3.411204          0.976979   1.023563\n",
       "1   -1.640299  False -3.902026          0.957105   1.044817\n",
       "2    1.138230  False  3.054754          0.109922   9.097324\n",
       "3   -0.015472  False -1.196752          0.516554   1.935907\n",
       "4   -0.604633  False -2.349184          0.762810   1.310942\n",
       "..        ...    ...       ...               ...        ...\n",
       "995  1.507008  False  4.318191          0.058345  17.139348\n",
       "996 -1.014575  False -4.555769          0.873787   1.144444\n",
       "997 -2.717871  False -6.040382          0.994063   1.005973\n",
       "998 -0.126003  False -1.807830          0.567821   1.761119\n",
       "999 -2.183127  False -5.274958          0.984022   1.016238\n",
       "\n",
       "[1000 rows x 5 columns]"
      ]
     },
     "execution_count": 6,
     "metadata": {},
     "output_type": "execute_result"
    }
   ],
   "source": [
    "cdf_0"
   ]
  },
  {
   "cell_type": "code",
   "execution_count": 7,
   "metadata": {
    "execution": {
     "iopub.execute_input": "2022-08-13T01:36:55.422121Z",
     "iopub.status.busy": "2022-08-13T01:36:55.421546Z",
     "iopub.status.idle": "2022-08-13T01:36:55.431866Z",
     "shell.execute_reply": "2022-08-13T01:36:55.431245Z"
    }
   },
   "outputs": [
    {
     "data": {
      "text/html": [
       "<div>\n",
       "<style scoped>\n",
       "    .dataframe tbody tr th:only-of-type {\n",
       "        vertical-align: middle;\n",
       "    }\n",
       "\n",
       "    .dataframe tbody tr th {\n",
       "        vertical-align: top;\n",
       "    }\n",
       "\n",
       "    .dataframe thead th {\n",
       "        text-align: right;\n",
       "    }\n",
       "</style>\n",
       "<table border=\"1\" class=\"dataframe\">\n",
       "  <thead>\n",
       "    <tr style=\"text-align: right;\">\n",
       "      <th></th>\n",
       "      <th>W0</th>\n",
       "      <th>v0</th>\n",
       "      <th>y</th>\n",
       "      <th>propensity_score</th>\n",
       "      <th>weight</th>\n",
       "    </tr>\n",
       "  </thead>\n",
       "  <tbody>\n",
       "    <tr>\n",
       "      <th>0</th>\n",
       "      <td>0.742938</td>\n",
       "      <td>True</td>\n",
       "      <td>6.986853</td>\n",
       "      <td>0.794492</td>\n",
       "      <td>1.258666</td>\n",
       "    </tr>\n",
       "    <tr>\n",
       "      <th>1</th>\n",
       "      <td>0.218969</td>\n",
       "      <td>True</td>\n",
       "      <td>4.575540</td>\n",
       "      <td>0.591999</td>\n",
       "      <td>1.689192</td>\n",
       "    </tr>\n",
       "    <tr>\n",
       "      <th>2</th>\n",
       "      <td>-1.211671</td>\n",
       "      <td>True</td>\n",
       "      <td>2.157353</td>\n",
       "      <td>0.090834</td>\n",
       "      <td>11.009099</td>\n",
       "    </tr>\n",
       "    <tr>\n",
       "      <th>3</th>\n",
       "      <td>-1.159913</td>\n",
       "      <td>True</td>\n",
       "      <td>2.450365</td>\n",
       "      <td>0.099151</td>\n",
       "      <td>10.085601</td>\n",
       "    </tr>\n",
       "    <tr>\n",
       "      <th>4</th>\n",
       "      <td>-1.333682</td>\n",
       "      <td>True</td>\n",
       "      <td>2.091381</td>\n",
       "      <td>0.073666</td>\n",
       "      <td>13.574767</td>\n",
       "    </tr>\n",
       "    <tr>\n",
       "      <th>...</th>\n",
       "      <td>...</td>\n",
       "      <td>...</td>\n",
       "      <td>...</td>\n",
       "      <td>...</td>\n",
       "      <td>...</td>\n",
       "    </tr>\n",
       "    <tr>\n",
       "      <th>995</th>\n",
       "      <td>-0.080130</td>\n",
       "      <td>True</td>\n",
       "      <td>2.336063</td>\n",
       "      <td>0.453344</td>\n",
       "      <td>2.205833</td>\n",
       "    </tr>\n",
       "    <tr>\n",
       "      <th>996</th>\n",
       "      <td>-0.169521</td>\n",
       "      <td>True</td>\n",
       "      <td>4.376790</td>\n",
       "      <td>0.412326</td>\n",
       "      <td>2.425266</td>\n",
       "    </tr>\n",
       "    <tr>\n",
       "      <th>997</th>\n",
       "      <td>-0.855582</td>\n",
       "      <td>True</td>\n",
       "      <td>2.631998</td>\n",
       "      <td>0.162806</td>\n",
       "      <td>6.142297</td>\n",
       "    </tr>\n",
       "    <tr>\n",
       "      <th>998</th>\n",
       "      <td>-0.567670</td>\n",
       "      <td>True</td>\n",
       "      <td>3.512827</td>\n",
       "      <td>0.249924</td>\n",
       "      <td>4.001219</td>\n",
       "    </tr>\n",
       "    <tr>\n",
       "      <th>999</th>\n",
       "      <td>-0.855582</td>\n",
       "      <td>True</td>\n",
       "      <td>2.631998</td>\n",
       "      <td>0.162806</td>\n",
       "      <td>6.142297</td>\n",
       "    </tr>\n",
       "  </tbody>\n",
       "</table>\n",
       "<p>1000 rows × 5 columns</p>\n",
       "</div>"
      ],
      "text/plain": [
       "           W0    v0         y  propensity_score     weight\n",
       "0    0.742938  True  6.986853          0.794492   1.258666\n",
       "1    0.218969  True  4.575540          0.591999   1.689192\n",
       "2   -1.211671  True  2.157353          0.090834  11.009099\n",
       "3   -1.159913  True  2.450365          0.099151  10.085601\n",
       "4   -1.333682  True  2.091381          0.073666  13.574767\n",
       "..        ...   ...       ...               ...        ...\n",
       "995 -0.080130  True  2.336063          0.453344   2.205833\n",
       "996 -0.169521  True  4.376790          0.412326   2.425266\n",
       "997 -0.855582  True  2.631998          0.162806   6.142297\n",
       "998 -0.567670  True  3.512827          0.249924   4.001219\n",
       "999 -0.855582  True  2.631998          0.162806   6.142297\n",
       "\n",
       "[1000 rows x 5 columns]"
      ]
     },
     "execution_count": 7,
     "metadata": {},
     "output_type": "execute_result"
    }
   ],
   "source": [
    "cdf_1"
   ]
  },
  {
   "cell_type": "markdown",
   "metadata": {},
   "source": [
    "## Comparing the estimate to Linear Regression\n",
    "First, estimating the effect using the causal data frame, and the 95% confidence interval."
   ]
  },
  {
   "cell_type": "code",
   "execution_count": 8,
   "metadata": {
    "execution": {
     "iopub.execute_input": "2022-08-13T01:36:55.434995Z",
     "iopub.status.busy": "2022-08-13T01:36:55.434562Z",
     "iopub.status.idle": "2022-08-13T01:36:55.528588Z",
     "shell.execute_reply": "2022-08-13T01:36:55.527845Z"
    }
   },
   "outputs": [
    {
     "data": {
      "image/png": "[encoded data removed]",
      "text/latex": [
       "$\\displaystyle 4.64648689073166$"
      ],
      "text/plain": [
       "4.646486890731663"
      ]
     },
     "execution_count": 8,
     "metadata": {},
     "output_type": "execute_result"
    }
   ],
   "source": [
    "(cdf_1['y'] - cdf_0['y']).mean()"
   ]
  },
  {
   "cell_type": "code",
   "execution_count": 9,
   "metadata": {
    "execution": {
     "iopub.execute_input": "2022-08-13T01:36:55.531910Z",
     "iopub.status.busy": "2022-08-13T01:36:55.531476Z",
     "iopub.status.idle": "2022-08-13T01:36:55.559099Z",
     "shell.execute_reply": "2022-08-13T01:36:55.558228Z"
    }
   },
   "outputs": [
    {
     "data": {
      "image/png": "[encoded data removed]",
      "text/latex": [
       "$\\displaystyle 0.214708385969658$"
      ],
      "text/plain": [
       "0.21470838596965808"
      ]
     },
     "execution_count": 9,
     "metadata": {},
     "output_type": "execute_result"
    }
   ],
   "source": [
    "1.96*(cdf_1['y'] - cdf_0['y']).std() / np.sqrt(len(df))"
   ]
  },
  {
   "cell_type": "markdown",
   "metadata": {},
   "source": [
    "Comparing to the estimate from OLS."
   ]
  },
  {
   "cell_type": "code",
   "execution_count": 10,
   "metadata": {
    "execution": {
     "iopub.execute_input": "2022-08-13T01:36:55.562685Z",
     "iopub.status.busy": "2022-08-13T01:36:55.562090Z",
     "iopub.status.idle": "2022-08-13T01:36:55.585003Z",
     "shell.execute_reply": "2022-08-13T01:36:55.584307Z"
    }
   },
   "outputs": [
    {
     "data": {
      "text/html": [
       "<table class=\"simpletable\">\n",
       "<caption>OLS Regression Results</caption>\n",
       "<tr>\n",
       "  <th>Dep. Variable:</th>            <td>y</td>        <th>  R-squared (uncentered):</th>      <td>   0.940</td>\n",
       "</tr>\n",
       "<tr>\n",
       "  <th>Model:</th>                   <td>OLS</td>       <th>  Adj. R-squared (uncentered):</th> <td>   0.940</td>\n",
       "</tr>\n",
       "<tr>\n",
       "  <th>Method:</th>             <td>Least Squares</td>  <th>  F-statistic:       </th>          <td>   7870.</td>\n",
       "</tr>\n",
       "<tr>\n",
       "  <th>Date:</th>             <td>Sat, 13 Aug 2022</td> <th>  Prob (F-statistic):</th>           <td>  0.00</td> \n",
       "</tr>\n",
       "<tr>\n",
       "  <th>Time:</th>                 <td>01:36:55</td>     <th>  Log-Likelihood:    </th>          <td> -1410.7</td>\n",
       "</tr>\n",
       "<tr>\n",
       "  <th>No. Observations:</th>      <td>  1000</td>      <th>  AIC:               </th>          <td>   2825.</td>\n",
       "</tr>\n",
       "<tr>\n",
       "  <th>Df Residuals:</th>          <td>   998</td>      <th>  BIC:               </th>          <td>   2835.</td>\n",
       "</tr>\n",
       "<tr>\n",
       "  <th>Df Model:</th>              <td>     2</td>      <th>                     </th>              <td> </td>   \n",
       "</tr>\n",
       "<tr>\n",
       "  <th>Covariance Type:</th>      <td>nonrobust</td>    <th>                     </th>              <td> </td>   \n",
       "</tr>\n",
       "</table>\n",
       "<table class=\"simpletable\">\n",
       "<tr>\n",
       "   <td></td>     <th>coef</th>     <th>std err</th>      <th>t</th>      <th>P>|t|</th>  <th>[0.025</th>    <th>0.975]</th>  \n",
       "</tr>\n",
       "<tr>\n",
       "  <th>x1</th> <td>    2.1694</td> <td>    0.027</td> <td>   81.651</td> <td> 0.000</td> <td>    2.117</td> <td>    2.222</td>\n",
       "</tr>\n",
       "<tr>\n",
       "  <th>x2</th> <td>    5.0127</td> <td>    0.056</td> <td>   88.788</td> <td> 0.000</td> <td>    4.902</td> <td>    5.124</td>\n",
       "</tr>\n",
       "</table>\n",
       "<table class=\"simpletable\">\n",
       "<tr>\n",
       "  <th>Omnibus:</th>       <td> 4.294</td> <th>  Durbin-Watson:     </th> <td>   2.028</td>\n",
       "</tr>\n",
       "<tr>\n",
       "  <th>Prob(Omnibus):</th> <td> 0.117</td> <th>  Jarque-Bera (JB):  </th> <td>   4.290</td>\n",
       "</tr>\n",
       "<tr>\n",
       "  <th>Skew:</th>          <td> 0.137</td> <th>  Prob(JB):          </th> <td>   0.117</td>\n",
       "</tr>\n",
       "<tr>\n",
       "  <th>Kurtosis:</th>      <td> 2.834</td> <th>  Cond. No.          </th> <td>    2.13</td>\n",
       "</tr>\n",
       "</table><br/><br/>Notes:<br/>[1] R² is computed without centering (uncentered) since the model does not contain a constant.<br/>[2] Standard Errors assume that the covariance matrix of the errors is correctly specified."
      ],
      "text/plain": [
       "<class 'statsmodels.iolib.summary.Summary'>\n",
       "\"\"\"\n",
       "                                 OLS Regression Results                                \n",
       "=======================================================================================\n",
       "Dep. Variable:                      y   R-squared (uncentered):                   0.940\n",
       "Model:                            OLS   Adj. R-squared (uncentered):              0.940\n",
       "Method:                 Least Squares   F-statistic:                              7870.\n",
       "Date:                Sat, 13 Aug 2022   Prob (F-statistic):                        0.00\n",
       "Time:                        01:36:55   Log-Likelihood:                         -1410.7\n",
       "No. Observations:                1000   AIC:                                      2825.\n",
       "Df Residuals:                     998   BIC:                                      2835.\n",
       "Df Model:                           2                                                  \n",
       "Covariance Type:            nonrobust                                                  \n",
       "==============================================================================\n",
       "                 coef    std err          t      P>|t|      [0.025      0.975]\n",
       "------------------------------------------------------------------------------\n",
       "x1             2.1694      0.027     81.651      0.000       2.117       2.222\n",
       "x2             5.0127      0.056     88.788      0.000       4.902       5.124\n",
       "==============================================================================\n",
       "Omnibus:                        4.294   Durbin-Watson:                   2.028\n",
       "Prob(Omnibus):                  0.117   Jarque-Bera (JB):                4.290\n",
       "Skew:                           0.137   Prob(JB):                        0.117\n",
       "Kurtosis:                       2.834   Cond. No.                         2.13\n",
       "==============================================================================\n",
       "\n",
       "Notes:\n",
       "[1] R² is computed without centering (uncentered) since the model does not contain a constant.\n",
       "[2] Standard Errors assume that the covariance matrix of the errors is correctly specified.\n",
       "\"\"\""
      ]
     },
     "execution_count": 10,
     "metadata": {},
     "output_type": "execute_result"
    }
   ],
   "source": [
    "model = OLS(np.asarray(df[outcome]), np.asarray(df[[common_cause, treatment]], dtype=np.float64))\n",
    "result = model.fit()\n",
    "result.summary()"
   ]
  }
 ],
 "metadata": {
  "kernelspec": {
   "display_name": "Python 3",
   "language": "python",
   "name": "python3"
  },
  "language_info": {
   "codemirror_mode": {
    "name": "ipython",
    "version": 3
   },
   "file_extension": ".py",
   "mimetype": "text/x-python",
   "name": "python",
   "nbconvert_exporter": "python",
   "pygments_lexer": "ipython3",
   "version": "3.8.10"
  },
  "toc": {
   "base_numbering": 1,
   "nav_menu": {},
   "number_sections": false,
   "sideBar": true,
   "skip_h1_title": true,
   "title_cell": "Table of Contents",
   "title_sidebar": "Contents",
   "toc_cell": false,
   "toc_position": {},
   "toc_section_display": true,
   "toc_window_display": false
  }
 },
 "nbformat": 4,
 "nbformat_minor": 4
}
