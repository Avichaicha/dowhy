{
 "cells": [
  {
   "cell_type": "markdown",
   "metadata": {},
   "source": [
    "# Demo for the DoWhy causal API\n",
    "We show a simple example of adding a causal extension to any dataframe. "
   ]
  },
  {
   "cell_type": "code",
   "execution_count": 1,
   "metadata": {
    "execution": {
     "iopub.execute_input": "2022-08-01T08:27:53.964923Z",
     "iopub.status.busy": "2022-08-01T08:27:53.964244Z",
     "iopub.status.idle": "2022-08-01T08:27:55.156656Z",
     "shell.execute_reply": "2022-08-01T08:27:55.155898Z"
    }
   },
   "outputs": [
    {
     "name": "stdout",
     "output_type": "stream",
     "text": [
      "keywords are unexpanded, not using\n"
     ]
    }
   ],
   "source": [
    "import dowhy.datasets\n",
    "import dowhy.api\n",
    "\n",
    "import numpy as np\n",
    "import pandas as pd\n",
    "\n",
    "from statsmodels.api import OLS"
   ]
  },
  {
   "cell_type": "code",
   "execution_count": 2,
   "metadata": {
    "execution": {
     "iopub.execute_input": "2022-08-01T08:27:55.160620Z",
     "iopub.status.busy": "2022-08-01T08:27:55.159973Z",
     "iopub.status.idle": "2022-08-01T08:27:55.208894Z",
     "shell.execute_reply": "2022-08-01T08:27:55.207546Z"
    }
   },
   "outputs": [
    {
     "data": {
      "text/html": [
       "<div>\n",
       "<style scoped>\n",
       "    .dataframe tbody tr th:only-of-type {\n",
       "        vertical-align: middle;\n",
       "    }\n",
       "\n",
       "    .dataframe tbody tr th {\n",
       "        vertical-align: top;\n",
       "    }\n",
       "\n",
       "    .dataframe thead th {\n",
       "        text-align: right;\n",
       "    }\n",
       "</style>\n",
       "<table border=\"1\" class=\"dataframe\">\n",
       "  <thead>\n",
       "    <tr style=\"text-align: right;\">\n",
       "      <th></th>\n",
       "      <th>W0</th>\n",
       "      <th>v0</th>\n",
       "      <th>y</th>\n",
       "    </tr>\n",
       "  </thead>\n",
       "  <tbody>\n",
       "    <tr>\n",
       "      <th>0</th>\n",
       "      <td>1.874351</td>\n",
       "      <td>True</td>\n",
       "      <td>6.028545</td>\n",
       "    </tr>\n",
       "    <tr>\n",
       "      <th>1</th>\n",
       "      <td>-0.605504</td>\n",
       "      <td>False</td>\n",
       "      <td>0.250185</td>\n",
       "    </tr>\n",
       "    <tr>\n",
       "      <th>2</th>\n",
       "      <td>-0.244749</td>\n",
       "      <td>False</td>\n",
       "      <td>-0.991139</td>\n",
       "    </tr>\n",
       "    <tr>\n",
       "      <th>3</th>\n",
       "      <td>1.777477</td>\n",
       "      <td>True</td>\n",
       "      <td>6.091334</td>\n",
       "    </tr>\n",
       "    <tr>\n",
       "      <th>4</th>\n",
       "      <td>-0.047667</td>\n",
       "      <td>True</td>\n",
       "      <td>6.193458</td>\n",
       "    </tr>\n",
       "    <tr>\n",
       "      <th>...</th>\n",
       "      <td>...</td>\n",
       "      <td>...</td>\n",
       "      <td>...</td>\n",
       "    </tr>\n",
       "    <tr>\n",
       "      <th>995</th>\n",
       "      <td>1.549313</td>\n",
       "      <td>True</td>\n",
       "      <td>6.333093</td>\n",
       "    </tr>\n",
       "    <tr>\n",
       "      <th>996</th>\n",
       "      <td>0.969023</td>\n",
       "      <td>True</td>\n",
       "      <td>3.646756</td>\n",
       "    </tr>\n",
       "    <tr>\n",
       "      <th>997</th>\n",
       "      <td>0.367884</td>\n",
       "      <td>False</td>\n",
       "      <td>-0.688026</td>\n",
       "    </tr>\n",
       "    <tr>\n",
       "      <th>998</th>\n",
       "      <td>-0.397649</td>\n",
       "      <td>False</td>\n",
       "      <td>0.682808</td>\n",
       "    </tr>\n",
       "    <tr>\n",
       "      <th>999</th>\n",
       "      <td>0.698275</td>\n",
       "      <td>True</td>\n",
       "      <td>4.409698</td>\n",
       "    </tr>\n",
       "  </tbody>\n",
       "</table>\n",
       "<p>1000 rows × 3 columns</p>\n",
       "</div>"
      ],
      "text/plain": [
       "           W0     v0         y\n",
       "0    1.874351   True  6.028545\n",
       "1   -0.605504  False  0.250185\n",
       "2   -0.244749  False -0.991139\n",
       "3    1.777477   True  6.091334\n",
       "4   -0.047667   True  6.193458\n",
       "..        ...    ...       ...\n",
       "995  1.549313   True  6.333093\n",
       "996  0.969023   True  3.646756\n",
       "997  0.367884  False -0.688026\n",
       "998 -0.397649  False  0.682808\n",
       "999  0.698275   True  4.409698\n",
       "\n",
       "[1000 rows x 3 columns]"
      ]
     },
     "execution_count": 2,
     "metadata": {},
     "output_type": "execute_result"
    }
   ],
   "source": [
    "data = dowhy.datasets.linear_dataset(beta=5,\n",
    "        num_common_causes=1,\n",
    "        num_instruments = 0,\n",
    "        num_samples=1000,\n",
    "        treatment_is_binary=True)\n",
    "df = data['df']\n",
    "df['y'] = df['y'] + np.random.normal(size=len(df)) # Adding noise to data. Without noise, the variance in Y|X, Z is zero, and mcmc fails.\n",
    "#data['dot_graph'] = 'digraph { v ->y;X0-> v;X0-> y;}'\n",
    "\n",
    "treatment= data[\"treatment_name\"][0]\n",
    "outcome = data[\"outcome_name\"][0]\n",
    "common_cause = data[\"common_causes_names\"][0]\n",
    "df"
   ]
  },
  {
   "cell_type": "code",
   "execution_count": 3,
   "metadata": {
    "execution": {
     "iopub.execute_input": "2022-08-01T08:27:55.212194Z",
     "iopub.status.busy": "2022-08-01T08:27:55.211796Z",
     "iopub.status.idle": "2022-08-01T08:27:55.972953Z",
     "shell.execute_reply": "2022-08-01T08:27:55.972369Z"
    }
   },
   "outputs": [
    {
     "data": {
      "text/plain": [
       "<AxesSubplot:xlabel='v0'>"
      ]
     },
     "execution_count": 3,
     "metadata": {},
     "output_type": "execute_result"
    },
    {
     "data": {
      "image/png": "[encoded data removed]",
      "text/plain": [
       "<Figure size 432x288 with 1 Axes>"
      ]
     },
     "metadata": {
      "needs_background": "light"
     },
     "output_type": "display_data"
    }
   ],
   "source": [
    "# data['df'] is just a regular pandas.DataFrame\n",
    "df.causal.do(x=treatment,\n",
    "                     variable_types={treatment: 'b', outcome: 'c', common_cause: 'c'},\n",
    "                     outcome=outcome,\n",
    "                     common_causes=[common_cause],\n",
    "                     proceed_when_unidentifiable=True).groupby(treatment).mean().plot(y=outcome, kind='bar')"
   ]
  },
  {
   "cell_type": "code",
   "execution_count": 4,
   "metadata": {
    "execution": {
     "iopub.execute_input": "2022-08-01T08:27:55.977599Z",
     "iopub.status.busy": "2022-08-01T08:27:55.976396Z",
     "iopub.status.idle": "2022-08-01T08:27:56.068607Z",
     "shell.execute_reply": "2022-08-01T08:27:56.068083Z"
    }
   },
   "outputs": [
    {
     "data": {
      "text/plain": [
       "<AxesSubplot:xlabel='v0'>"
      ]
     },
     "execution_count": 4,
     "metadata": {},
     "output_type": "execute_result"
    },
    {
     "data": {
      "image/png": "[encoded data removed]",
      "text/plain": [
       "<Figure size 432x288 with 1 Axes>"
      ]
     },
     "metadata": {
      "needs_background": "light"
     },
     "output_type": "display_data"
    }
   ],
   "source": [
    "df.causal.do(x={treatment: 1}, \n",
    "              variable_types={treatment:'b', outcome: 'c', common_cause: 'c'}, \n",
    "              outcome=outcome,\n",
    "              method='weighting', \n",
    "              common_causes=[common_cause],\n",
    "              proceed_when_unidentifiable=True).groupby(treatment).mean().plot(y=outcome, kind='bar')"
   ]
  },
  {
   "cell_type": "code",
   "execution_count": 5,
   "metadata": {
    "execution": {
     "iopub.execute_input": "2022-08-01T08:27:56.072850Z",
     "iopub.status.busy": "2022-08-01T08:27:56.071793Z",
     "iopub.status.idle": "2022-08-01T08:27:56.102215Z",
     "shell.execute_reply": "2022-08-01T08:27:56.101704Z"
    }
   },
   "outputs": [],
   "source": [
    "cdf_1 = df.causal.do(x={treatment: 1}, \n",
    "              variable_types={treatment: 'b', outcome: 'c', common_cause: 'c'}, \n",
    "              outcome=outcome, \n",
    "              dot_graph=data['dot_graph'],\n",
    "              proceed_when_unidentifiable=True)\n",
    "\n",
    "cdf_0 = df.causal.do(x={treatment: 0}, \n",
    "              variable_types={treatment: 'b', outcome: 'c', common_cause: 'c'}, \n",
    "              outcome=outcome, \n",
    "              dot_graph=data['dot_graph'],\n",
    "              proceed_when_unidentifiable=True)\n"
   ]
  },
  {
   "cell_type": "code",
   "execution_count": 6,
   "metadata": {
    "execution": {
     "iopub.execute_input": "2022-08-01T08:27:56.106391Z",
     "iopub.status.busy": "2022-08-01T08:27:56.105351Z",
     "iopub.status.idle": "2022-08-01T08:27:56.117796Z",
     "shell.execute_reply": "2022-08-01T08:27:56.117150Z"
    },
    "scrolled": true
   },
   "outputs": [
    {
     "data": {
      "text/html": [
       "<div>\n",
       "<style scoped>\n",
       "    .dataframe tbody tr th:only-of-type {\n",
       "        vertical-align: middle;\n",
       "    }\n",
       "\n",
       "    .dataframe tbody tr th {\n",
       "        vertical-align: top;\n",
       "    }\n",
       "\n",
       "    .dataframe thead th {\n",
       "        text-align: right;\n",
       "    }\n",
       "</style>\n",
       "<table border=\"1\" class=\"dataframe\">\n",
       "  <thead>\n",
       "    <tr style=\"text-align: right;\">\n",
       "      <th></th>\n",
       "      <th>W0</th>\n",
       "      <th>v0</th>\n",
       "      <th>y</th>\n",
       "      <th>propensity_score</th>\n",
       "      <th>weight</th>\n",
       "    </tr>\n",
       "  </thead>\n",
       "  <tbody>\n",
       "    <tr>\n",
       "      <th>0</th>\n",
       "      <td>2.449267</td>\n",
       "      <td>False</td>\n",
       "      <td>-0.025924</td>\n",
       "      <td>0.478381</td>\n",
       "      <td>2.090386</td>\n",
       "    </tr>\n",
       "    <tr>\n",
       "      <th>1</th>\n",
       "      <td>0.608230</td>\n",
       "      <td>False</td>\n",
       "      <td>-0.391562</td>\n",
       "      <td>0.503896</td>\n",
       "      <td>1.984537</td>\n",
       "    </tr>\n",
       "    <tr>\n",
       "      <th>2</th>\n",
       "      <td>-0.693045</td>\n",
       "      <td>False</td>\n",
       "      <td>-1.415921</td>\n",
       "      <td>0.521926</td>\n",
       "      <td>1.915981</td>\n",
       "    </tr>\n",
       "    <tr>\n",
       "      <th>3</th>\n",
       "      <td>1.529205</td>\n",
       "      <td>False</td>\n",
       "      <td>1.897774</td>\n",
       "      <td>0.491126</td>\n",
       "      <td>2.036137</td>\n",
       "    </tr>\n",
       "    <tr>\n",
       "      <th>4</th>\n",
       "      <td>0.481221</td>\n",
       "      <td>False</td>\n",
       "      <td>0.702206</td>\n",
       "      <td>0.505657</td>\n",
       "      <td>1.977626</td>\n",
       "    </tr>\n",
       "    <tr>\n",
       "      <th>...</th>\n",
       "      <td>...</td>\n",
       "      <td>...</td>\n",
       "      <td>...</td>\n",
       "      <td>...</td>\n",
       "      <td>...</td>\n",
       "    </tr>\n",
       "    <tr>\n",
       "      <th>995</th>\n",
       "      <td>0.489186</td>\n",
       "      <td>False</td>\n",
       "      <td>0.136740</td>\n",
       "      <td>0.505546</td>\n",
       "      <td>1.978058</td>\n",
       "    </tr>\n",
       "    <tr>\n",
       "      <th>996</th>\n",
       "      <td>2.212284</td>\n",
       "      <td>False</td>\n",
       "      <td>0.353749</td>\n",
       "      <td>0.481661</td>\n",
       "      <td>2.076147</td>\n",
       "    </tr>\n",
       "    <tr>\n",
       "      <th>997</th>\n",
       "      <td>-1.101505</td>\n",
       "      <td>False</td>\n",
       "      <td>-1.490907</td>\n",
       "      <td>0.527576</td>\n",
       "      <td>1.895462</td>\n",
       "    </tr>\n",
       "    <tr>\n",
       "      <th>998</th>\n",
       "      <td>-0.139931</td>\n",
       "      <td>False</td>\n",
       "      <td>0.225691</td>\n",
       "      <td>0.514266</td>\n",
       "      <td>1.944518</td>\n",
       "    </tr>\n",
       "    <tr>\n",
       "      <th>999</th>\n",
       "      <td>-0.238747</td>\n",
       "      <td>False</td>\n",
       "      <td>-1.941974</td>\n",
       "      <td>0.515635</td>\n",
       "      <td>1.939355</td>\n",
       "    </tr>\n",
       "  </tbody>\n",
       "</table>\n",
       "<p>1000 rows × 5 columns</p>\n",
       "</div>"
      ],
      "text/plain": [
       "           W0     v0         y  propensity_score    weight\n",
       "0    2.449267  False -0.025924          0.478381  2.090386\n",
       "1    0.608230  False -0.391562          0.503896  1.984537\n",
       "2   -0.693045  False -1.415921          0.521926  1.915981\n",
       "3    1.529205  False  1.897774          0.491126  2.036137\n",
       "4    0.481221  False  0.702206          0.505657  1.977626\n",
       "..        ...    ...       ...               ...       ...\n",
       "995  0.489186  False  0.136740          0.505546  1.978058\n",
       "996  2.212284  False  0.353749          0.481661  2.076147\n",
       "997 -1.101505  False -1.490907          0.527576  1.895462\n",
       "998 -0.139931  False  0.225691          0.514266  1.944518\n",
       "999 -0.238747  False -1.941974          0.515635  1.939355\n",
       "\n",
       "[1000 rows x 5 columns]"
      ]
     },
     "execution_count": 6,
     "metadata": {},
     "output_type": "execute_result"
    }
   ],
   "source": [
    "cdf_0"
   ]
  },
  {
   "cell_type": "code",
   "execution_count": 7,
   "metadata": {
    "execution": {
     "iopub.execute_input": "2022-08-01T08:27:56.121696Z",
     "iopub.status.busy": "2022-08-01T08:27:56.120525Z",
     "iopub.status.idle": "2022-08-01T08:27:56.132207Z",
     "shell.execute_reply": "2022-08-01T08:27:56.131654Z"
    }
   },
   "outputs": [
    {
     "data": {
      "text/html": [
       "<div>\n",
       "<style scoped>\n",
       "    .dataframe tbody tr th:only-of-type {\n",
       "        vertical-align: middle;\n",
       "    }\n",
       "\n",
       "    .dataframe tbody tr th {\n",
       "        vertical-align: top;\n",
       "    }\n",
       "\n",
       "    .dataframe thead th {\n",
       "        text-align: right;\n",
       "    }\n",
       "</style>\n",
       "<table border=\"1\" class=\"dataframe\">\n",
       "  <thead>\n",
       "    <tr style=\"text-align: right;\">\n",
       "      <th></th>\n",
       "      <th>W0</th>\n",
       "      <th>v0</th>\n",
       "      <th>y</th>\n",
       "      <th>propensity_score</th>\n",
       "      <th>weight</th>\n",
       "    </tr>\n",
       "  </thead>\n",
       "  <tbody>\n",
       "    <tr>\n",
       "      <th>0</th>\n",
       "      <td>0.109309</td>\n",
       "      <td>True</td>\n",
       "      <td>4.102851</td>\n",
       "      <td>0.489188</td>\n",
       "      <td>2.044206</td>\n",
       "    </tr>\n",
       "    <tr>\n",
       "      <th>1</th>\n",
       "      <td>0.065221</td>\n",
       "      <td>True</td>\n",
       "      <td>3.788517</td>\n",
       "      <td>0.488576</td>\n",
       "      <td>2.046762</td>\n",
       "    </tr>\n",
       "    <tr>\n",
       "      <th>2</th>\n",
       "      <td>0.936764</td>\n",
       "      <td>True</td>\n",
       "      <td>4.189632</td>\n",
       "      <td>0.500660</td>\n",
       "      <td>1.997364</td>\n",
       "    </tr>\n",
       "    <tr>\n",
       "      <th>3</th>\n",
       "      <td>1.436835</td>\n",
       "      <td>True</td>\n",
       "      <td>5.670753</td>\n",
       "      <td>0.507593</td>\n",
       "      <td>1.970081</td>\n",
       "    </tr>\n",
       "    <tr>\n",
       "      <th>4</th>\n",
       "      <td>0.873747</td>\n",
       "      <td>True</td>\n",
       "      <td>5.764765</td>\n",
       "      <td>0.499786</td>\n",
       "      <td>2.000857</td>\n",
       "    </tr>\n",
       "    <tr>\n",
       "      <th>...</th>\n",
       "      <td>...</td>\n",
       "      <td>...</td>\n",
       "      <td>...</td>\n",
       "      <td>...</td>\n",
       "      <td>...</td>\n",
       "    </tr>\n",
       "    <tr>\n",
       "      <th>995</th>\n",
       "      <td>0.737191</td>\n",
       "      <td>True</td>\n",
       "      <td>5.177182</td>\n",
       "      <td>0.497892</td>\n",
       "      <td>2.008466</td>\n",
       "    </tr>\n",
       "    <tr>\n",
       "      <th>996</th>\n",
       "      <td>3.015605</td>\n",
       "      <td>True</td>\n",
       "      <td>6.637514</td>\n",
       "      <td>0.529452</td>\n",
       "      <td>1.888745</td>\n",
       "    </tr>\n",
       "    <tr>\n",
       "      <th>997</th>\n",
       "      <td>0.467741</td>\n",
       "      <td>True</td>\n",
       "      <td>5.463631</td>\n",
       "      <td>0.494156</td>\n",
       "      <td>2.023651</td>\n",
       "    </tr>\n",
       "    <tr>\n",
       "      <th>998</th>\n",
       "      <td>1.516706</td>\n",
       "      <td>True</td>\n",
       "      <td>6.286433</td>\n",
       "      <td>0.508701</td>\n",
       "      <td>1.965792</td>\n",
       "    </tr>\n",
       "    <tr>\n",
       "      <th>999</th>\n",
       "      <td>1.318362</td>\n",
       "      <td>True</td>\n",
       "      <td>9.137647</td>\n",
       "      <td>0.505951</td>\n",
       "      <td>1.976476</td>\n",
       "    </tr>\n",
       "  </tbody>\n",
       "</table>\n",
       "<p>1000 rows × 5 columns</p>\n",
       "</div>"
      ],
      "text/plain": [
       "           W0    v0         y  propensity_score    weight\n",
       "0    0.109309  True  4.102851          0.489188  2.044206\n",
       "1    0.065221  True  3.788517          0.488576  2.046762\n",
       "2    0.936764  True  4.189632          0.500660  1.997364\n",
       "3    1.436835  True  5.670753          0.507593  1.970081\n",
       "4    0.873747  True  5.764765          0.499786  2.000857\n",
       "..        ...   ...       ...               ...       ...\n",
       "995  0.737191  True  5.177182          0.497892  2.008466\n",
       "996  3.015605  True  6.637514          0.529452  1.888745\n",
       "997  0.467741  True  5.463631          0.494156  2.023651\n",
       "998  1.516706  True  6.286433          0.508701  1.965792\n",
       "999  1.318362  True  9.137647          0.505951  1.976476\n",
       "\n",
       "[1000 rows x 5 columns]"
      ]
     },
     "execution_count": 7,
     "metadata": {},
     "output_type": "execute_result"
    }
   ],
   "source": [
    "cdf_1"
   ]
  },
  {
   "cell_type": "markdown",
   "metadata": {},
   "source": [
    "## Comparing the estimate to Linear Regression\n",
    "First, estimating the effect using the causal data frame, and the 95% confidence interval."
   ]
  },
  {
   "cell_type": "code",
   "execution_count": 8,
   "metadata": {
    "execution": {
     "iopub.execute_input": "2022-08-01T08:27:56.135276Z",
     "iopub.status.busy": "2022-08-01T08:27:56.134940Z",
     "iopub.status.idle": "2022-08-01T08:27:56.237634Z",
     "shell.execute_reply": "2022-08-01T08:27:56.236573Z"
    }
   },
   "outputs": [
    {
     "data": {
      "image/png": "[encoded data removed]",
      "text/latex": [
       "$\\displaystyle 5.24203551008996$"
      ],
      "text/plain": [
       "5.242035510089963"
      ]
     },
     "execution_count": 8,
     "metadata": {},
     "output_type": "execute_result"
    }
   ],
   "source": [
    "(cdf_1['y'] - cdf_0['y']).mean()"
   ]
  },
  {
   "cell_type": "code",
   "execution_count": 9,
   "metadata": {
    "execution": {
     "iopub.execute_input": "2022-08-01T08:27:56.241380Z",
     "iopub.status.busy": "2022-08-01T08:27:56.240920Z",
     "iopub.status.idle": "2022-08-01T08:27:56.266207Z",
     "shell.execute_reply": "2022-08-01T08:27:56.265610Z"
    }
   },
   "outputs": [
    {
     "data": {
      "image/png": "[encoded data removed]",
      "text/latex": [
       "$\\displaystyle 0.119237473777769$"
      ],
      "text/plain": [
       "0.11923747377776935"
      ]
     },
     "execution_count": 9,
     "metadata": {},
     "output_type": "execute_result"
    }
   ],
   "source": [
    "1.96*(cdf_1['y'] - cdf_0['y']).std() / np.sqrt(len(df))"
   ]
  },
  {
   "cell_type": "markdown",
   "metadata": {},
   "source": [
    "Comparing to the estimate from OLS."
   ]
  },
  {
   "cell_type": "code",
   "execution_count": 10,
   "metadata": {
    "execution": {
     "iopub.execute_input": "2022-08-01T08:27:56.269577Z",
     "iopub.status.busy": "2022-08-01T08:27:56.269161Z",
     "iopub.status.idle": "2022-08-01T08:27:56.287380Z",
     "shell.execute_reply": "2022-08-01T08:27:56.286611Z"
    }
   },
   "outputs": [
    {
     "data": {
      "text/html": [
       "<table class=\"simpletable\">\n",
       "<caption>OLS Regression Results</caption>\n",
       "<tr>\n",
       "  <th>Dep. Variable:</th>            <td>y</td>        <th>  R-squared (uncentered):</th>      <td>   0.946</td>\n",
       "</tr>\n",
       "<tr>\n",
       "  <th>Model:</th>                   <td>OLS</td>       <th>  Adj. R-squared (uncentered):</th> <td>   0.946</td>\n",
       "</tr>\n",
       "<tr>\n",
       "  <th>Method:</th>             <td>Least Squares</td>  <th>  F-statistic:       </th>          <td>   8682.</td>\n",
       "</tr>\n",
       "<tr>\n",
       "  <th>Date:</th>             <td>Mon, 01 Aug 2022</td> <th>  Prob (F-statistic):</th>           <td>  0.00</td> \n",
       "</tr>\n",
       "<tr>\n",
       "  <th>Time:</th>                 <td>08:27:56</td>     <th>  Log-Likelihood:    </th>          <td> -1458.2</td>\n",
       "</tr>\n",
       "<tr>\n",
       "  <th>No. Observations:</th>      <td>  1000</td>      <th>  AIC:               </th>          <td>   2920.</td>\n",
       "</tr>\n",
       "<tr>\n",
       "  <th>Df Residuals:</th>          <td>   998</td>      <th>  BIC:               </th>          <td>   2930.</td>\n",
       "</tr>\n",
       "<tr>\n",
       "  <th>Df Model:</th>              <td>     2</td>      <th>                     </th>              <td> </td>   \n",
       "</tr>\n",
       "<tr>\n",
       "  <th>Covariance Type:</th>      <td>nonrobust</td>    <th>                     </th>              <td> </td>   \n",
       "</tr>\n",
       "</table>\n",
       "<table class=\"simpletable\">\n",
       "<tr>\n",
       "   <td></td>     <th>coef</th>     <th>std err</th>      <th>t</th>      <th>P>|t|</th>  <th>[0.025</th>    <th>0.975]</th>  \n",
       "</tr>\n",
       "<tr>\n",
       "  <th>x1</th> <td>    0.8661</td> <td>    0.027</td> <td>   32.316</td> <td> 0.000</td> <td>    0.814</td> <td>    0.919</td>\n",
       "</tr>\n",
       "<tr>\n",
       "  <th>x2</th> <td>    5.0836</td> <td>    0.054</td> <td>   94.902</td> <td> 0.000</td> <td>    4.978</td> <td>    5.189</td>\n",
       "</tr>\n",
       "</table>\n",
       "<table class=\"simpletable\">\n",
       "<tr>\n",
       "  <th>Omnibus:</th>       <td> 0.421</td> <th>  Durbin-Watson:     </th> <td>   1.995</td>\n",
       "</tr>\n",
       "<tr>\n",
       "  <th>Prob(Omnibus):</th> <td> 0.810</td> <th>  Jarque-Bera (JB):  </th> <td>   0.332</td>\n",
       "</tr>\n",
       "<tr>\n",
       "  <th>Skew:</th>          <td> 0.036</td> <th>  Prob(JB):          </th> <td>   0.847</td>\n",
       "</tr>\n",
       "<tr>\n",
       "  <th>Kurtosis:</th>      <td> 3.052</td> <th>  Cond. No.          </th> <td>    2.47</td>\n",
       "</tr>\n",
       "</table><br/><br/>Notes:<br/>[1] R² is computed without centering (uncentered) since the model does not contain a constant.<br/>[2] Standard Errors assume that the covariance matrix of the errors is correctly specified."
      ],
      "text/plain": [
       "<class 'statsmodels.iolib.summary.Summary'>\n",
       "\"\"\"\n",
       "                                 OLS Regression Results                                \n",
       "=======================================================================================\n",
       "Dep. Variable:                      y   R-squared (uncentered):                   0.946\n",
       "Model:                            OLS   Adj. R-squared (uncentered):              0.946\n",
       "Method:                 Least Squares   F-statistic:                              8682.\n",
       "Date:                Mon, 01 Aug 2022   Prob (F-statistic):                        0.00\n",
       "Time:                        08:27:56   Log-Likelihood:                         -1458.2\n",
       "No. Observations:                1000   AIC:                                      2920.\n",
       "Df Residuals:                     998   BIC:                                      2930.\n",
       "Df Model:                           2                                                  \n",
       "Covariance Type:            nonrobust                                                  \n",
       "==============================================================================\n",
       "                 coef    std err          t      P>|t|      [0.025      0.975]\n",
       "------------------------------------------------------------------------------\n",
       "x1             0.8661      0.027     32.316      0.000       0.814       0.919\n",
       "x2             5.0836      0.054     94.902      0.000       4.978       5.189\n",
       "==============================================================================\n",
       "Omnibus:                        0.421   Durbin-Watson:                   1.995\n",
       "Prob(Omnibus):                  0.810   Jarque-Bera (JB):                0.332\n",
       "Skew:                           0.036   Prob(JB):                        0.847\n",
       "Kurtosis:                       3.052   Cond. No.                         2.47\n",
       "==============================================================================\n",
       "\n",
       "Notes:\n",
       "[1] R² is computed without centering (uncentered) since the model does not contain a constant.\n",
       "[2] Standard Errors assume that the covariance matrix of the errors is correctly specified.\n",
       "\"\"\""
      ]
     },
     "execution_count": 10,
     "metadata": {},
     "output_type": "execute_result"
    }
   ],
   "source": [
    "model = OLS(np.asarray(df[outcome]), np.asarray(df[[common_cause, treatment]], dtype=np.float64))\n",
    "result = model.fit()\n",
    "result.summary()"
   ]
  }
 ],
 "metadata": {
  "kernelspec": {
   "display_name": "Python 3",
   "language": "python",
   "name": "python3"
  },
  "language_info": {
   "codemirror_mode": {
    "name": "ipython",
    "version": 3
   },
   "file_extension": ".py",
   "mimetype": "text/x-python",
   "name": "python",
   "nbconvert_exporter": "python",
   "pygments_lexer": "ipython3",
   "version": "3.8.10"
  },
  "toc": {
   "base_numbering": 1,
   "nav_menu": {},
   "number_sections": false,
   "sideBar": true,
   "skip_h1_title": true,
   "title_cell": "Table of Contents",
   "title_sidebar": "Contents",
   "toc_cell": false,
   "toc_position": {},
   "toc_section_display": true,
   "toc_window_display": false
  }
 },
 "nbformat": 4,
 "nbformat_minor": 4
}
