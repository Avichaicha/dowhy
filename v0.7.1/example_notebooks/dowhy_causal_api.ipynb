{
 "cells": [
  {
   "cell_type": "markdown",
   "metadata": {},
   "source": [
    "# Demo for the DoWhy causal API\n",
    "We show a simple example of adding a causal extension to any dataframe. "
   ]
  },
  {
   "cell_type": "code",
   "execution_count": 1,
   "metadata": {
    "execution": {
     "iopub.execute_input": "2022-07-28T11:03:11.091466Z",
     "iopub.status.busy": "2022-07-28T11:03:11.091181Z",
     "iopub.status.idle": "2022-07-28T11:03:12.456112Z",
     "shell.execute_reply": "2022-07-28T11:03:12.454981Z"
    }
   },
   "outputs": [
    {
     "name": "stdout",
     "output_type": "stream",
     "text": [
      "keywords are unexpanded, not using\n"
     ]
    }
   ],
   "source": [
    "import dowhy.datasets\n",
    "import dowhy.api\n",
    "\n",
    "import numpy as np\n",
    "import pandas as pd\n",
    "\n",
    "from statsmodels.api import OLS"
   ]
  },
  {
   "cell_type": "code",
   "execution_count": 2,
   "metadata": {
    "execution": {
     "iopub.execute_input": "2022-07-28T11:03:12.461564Z",
     "iopub.status.busy": "2022-07-28T11:03:12.460504Z",
     "iopub.status.idle": "2022-07-28T11:03:12.517158Z",
     "shell.execute_reply": "2022-07-28T11:03:12.516413Z"
    }
   },
   "outputs": [
    {
     "data": {
      "text/html": [
       "<div>\n",
       "<style scoped>\n",
       "    .dataframe tbody tr th:only-of-type {\n",
       "        vertical-align: middle;\n",
       "    }\n",
       "\n",
       "    .dataframe tbody tr th {\n",
       "        vertical-align: top;\n",
       "    }\n",
       "\n",
       "    .dataframe thead th {\n",
       "        text-align: right;\n",
       "    }\n",
       "</style>\n",
       "<table border=\"1\" class=\"dataframe\">\n",
       "  <thead>\n",
       "    <tr style=\"text-align: right;\">\n",
       "      <th></th>\n",
       "      <th>W0</th>\n",
       "      <th>v0</th>\n",
       "      <th>y</th>\n",
       "    </tr>\n",
       "  </thead>\n",
       "  <tbody>\n",
       "    <tr>\n",
       "      <th>0</th>\n",
       "      <td>0.250449</td>\n",
       "      <td>False</td>\n",
       "      <td>-1.117088</td>\n",
       "    </tr>\n",
       "    <tr>\n",
       "      <th>1</th>\n",
       "      <td>-0.659693</td>\n",
       "      <td>False</td>\n",
       "      <td>-0.972320</td>\n",
       "    </tr>\n",
       "    <tr>\n",
       "      <th>2</th>\n",
       "      <td>0.637691</td>\n",
       "      <td>True</td>\n",
       "      <td>7.033255</td>\n",
       "    </tr>\n",
       "    <tr>\n",
       "      <th>3</th>\n",
       "      <td>0.518104</td>\n",
       "      <td>True</td>\n",
       "      <td>7.705279</td>\n",
       "    </tr>\n",
       "    <tr>\n",
       "      <th>4</th>\n",
       "      <td>0.192020</td>\n",
       "      <td>False</td>\n",
       "      <td>-0.127801</td>\n",
       "    </tr>\n",
       "    <tr>\n",
       "      <th>...</th>\n",
       "      <td>...</td>\n",
       "      <td>...</td>\n",
       "      <td>...</td>\n",
       "    </tr>\n",
       "    <tr>\n",
       "      <th>995</th>\n",
       "      <td>-0.183314</td>\n",
       "      <td>False</td>\n",
       "      <td>0.057426</td>\n",
       "    </tr>\n",
       "    <tr>\n",
       "      <th>996</th>\n",
       "      <td>2.206277</td>\n",
       "      <td>False</td>\n",
       "      <td>3.505940</td>\n",
       "    </tr>\n",
       "    <tr>\n",
       "      <th>997</th>\n",
       "      <td>0.885938</td>\n",
       "      <td>False</td>\n",
       "      <td>0.305131</td>\n",
       "    </tr>\n",
       "    <tr>\n",
       "      <th>998</th>\n",
       "      <td>-0.461530</td>\n",
       "      <td>True</td>\n",
       "      <td>3.398105</td>\n",
       "    </tr>\n",
       "    <tr>\n",
       "      <th>999</th>\n",
       "      <td>-0.401798</td>\n",
       "      <td>False</td>\n",
       "      <td>-1.574006</td>\n",
       "    </tr>\n",
       "  </tbody>\n",
       "</table>\n",
       "<p>1000 rows × 3 columns</p>\n",
       "</div>"
      ],
      "text/plain": [
       "           W0     v0         y\n",
       "0    0.250449  False -1.117088\n",
       "1   -0.659693  False -0.972320\n",
       "2    0.637691   True  7.033255\n",
       "3    0.518104   True  7.705279\n",
       "4    0.192020  False -0.127801\n",
       "..        ...    ...       ...\n",
       "995 -0.183314  False  0.057426\n",
       "996  2.206277  False  3.505940\n",
       "997  0.885938  False  0.305131\n",
       "998 -0.461530   True  3.398105\n",
       "999 -0.401798  False -1.574006\n",
       "\n",
       "[1000 rows x 3 columns]"
      ]
     },
     "execution_count": 2,
     "metadata": {},
     "output_type": "execute_result"
    }
   ],
   "source": [
    "data = dowhy.datasets.linear_dataset(beta=5,\n",
    "        num_common_causes=1,\n",
    "        num_instruments = 0,\n",
    "        num_samples=1000,\n",
    "        treatment_is_binary=True)\n",
    "df = data['df']\n",
    "df['y'] = df['y'] + np.random.normal(size=len(df)) # Adding noise to data. Without noise, the variance in Y|X, Z is zero, and mcmc fails.\n",
    "#data['dot_graph'] = 'digraph { v ->y;X0-> v;X0-> y;}'\n",
    "\n",
    "treatment= data[\"treatment_name\"][0]\n",
    "outcome = data[\"outcome_name\"][0]\n",
    "common_cause = data[\"common_causes_names\"][0]\n",
    "df"
   ]
  },
  {
   "cell_type": "code",
   "execution_count": 3,
   "metadata": {
    "execution": {
     "iopub.execute_input": "2022-07-28T11:03:12.521162Z",
     "iopub.status.busy": "2022-07-28T11:03:12.520624Z",
     "iopub.status.idle": "2022-07-28T11:03:13.402132Z",
     "shell.execute_reply": "2022-07-28T11:03:13.401463Z"
    }
   },
   "outputs": [
    {
     "data": {
      "text/plain": [
       "<AxesSubplot:xlabel='v0'>"
      ]
     },
     "execution_count": 3,
     "metadata": {},
     "output_type": "execute_result"
    },
    {
     "data": {
      "image/png": "[encoded data removed]",
      "text/plain": [
       "<Figure size 432x288 with 1 Axes>"
      ]
     },
     "metadata": {
      "needs_background": "light"
     },
     "output_type": "display_data"
    }
   ],
   "source": [
    "# data['df'] is just a regular pandas.DataFrame\n",
    "df.causal.do(x=treatment,\n",
    "                     variable_types={treatment: 'b', outcome: 'c', common_cause: 'c'},\n",
    "                     outcome=outcome,\n",
    "                     common_causes=[common_cause],\n",
    "                     proceed_when_unidentifiable=True).groupby(treatment).mean().plot(y=outcome, kind='bar')"
   ]
  },
  {
   "cell_type": "code",
   "execution_count": 4,
   "metadata": {
    "execution": {
     "iopub.execute_input": "2022-07-28T11:03:13.406124Z",
     "iopub.status.busy": "2022-07-28T11:03:13.405523Z",
     "iopub.status.idle": "2022-07-28T11:03:13.510944Z",
     "shell.execute_reply": "2022-07-28T11:03:13.510341Z"
    }
   },
   "outputs": [
    {
     "data": {
      "text/plain": [
       "<AxesSubplot:xlabel='v0'>"
      ]
     },
     "execution_count": 4,
     "metadata": {},
     "output_type": "execute_result"
    },
    {
     "data": {
      "image/png": "[encoded data removed]",
      "text/plain": [
       "<Figure size 432x288 with 1 Axes>"
      ]
     },
     "metadata": {
      "needs_background": "light"
     },
     "output_type": "display_data"
    }
   ],
   "source": [
    "df.causal.do(x={treatment: 1}, \n",
    "              variable_types={treatment:'b', outcome: 'c', common_cause: 'c'}, \n",
    "              outcome=outcome,\n",
    "              method='weighting', \n",
    "              common_causes=[common_cause],\n",
    "              proceed_when_unidentifiable=True).groupby(treatment).mean().plot(y=outcome, kind='bar')"
   ]
  },
  {
   "cell_type": "code",
   "execution_count": 5,
   "metadata": {
    "execution": {
     "iopub.execute_input": "2022-07-28T11:03:13.515872Z",
     "iopub.status.busy": "2022-07-28T11:03:13.514433Z",
     "iopub.status.idle": "2022-07-28T11:03:13.550356Z",
     "shell.execute_reply": "2022-07-28T11:03:13.549722Z"
    }
   },
   "outputs": [],
   "source": [
    "cdf_1 = df.causal.do(x={treatment: 1}, \n",
    "              variable_types={treatment: 'b', outcome: 'c', common_cause: 'c'}, \n",
    "              outcome=outcome, \n",
    "              dot_graph=data['dot_graph'],\n",
    "              proceed_when_unidentifiable=True)\n",
    "\n",
    "cdf_0 = df.causal.do(x={treatment: 0}, \n",
    "              variable_types={treatment: 'b', outcome: 'c', common_cause: 'c'}, \n",
    "              outcome=outcome, \n",
    "              dot_graph=data['dot_graph'],\n",
    "              proceed_when_unidentifiable=True)\n"
   ]
  },
  {
   "cell_type": "code",
   "execution_count": 6,
   "metadata": {
    "execution": {
     "iopub.execute_input": "2022-07-28T11:03:13.555243Z",
     "iopub.status.busy": "2022-07-28T11:03:13.553824Z",
     "iopub.status.idle": "2022-07-28T11:03:13.568076Z",
     "shell.execute_reply": "2022-07-28T11:03:13.567515Z"
    },
    "scrolled": true
   },
   "outputs": [
    {
     "data": {
      "text/html": [
       "<div>\n",
       "<style scoped>\n",
       "    .dataframe tbody tr th:only-of-type {\n",
       "        vertical-align: middle;\n",
       "    }\n",
       "\n",
       "    .dataframe tbody tr th {\n",
       "        vertical-align: top;\n",
       "    }\n",
       "\n",
       "    .dataframe thead th {\n",
       "        text-align: right;\n",
       "    }\n",
       "</style>\n",
       "<table border=\"1\" class=\"dataframe\">\n",
       "  <thead>\n",
       "    <tr style=\"text-align: right;\">\n",
       "      <th></th>\n",
       "      <th>W0</th>\n",
       "      <th>v0</th>\n",
       "      <th>y</th>\n",
       "      <th>propensity_score</th>\n",
       "      <th>weight</th>\n",
       "    </tr>\n",
       "  </thead>\n",
       "  <tbody>\n",
       "    <tr>\n",
       "      <th>0</th>\n",
       "      <td>0.292902</td>\n",
       "      <td>False</td>\n",
       "      <td>-0.685664</td>\n",
       "      <td>0.481658</td>\n",
       "      <td>2.076162</td>\n",
       "    </tr>\n",
       "    <tr>\n",
       "      <th>1</th>\n",
       "      <td>1.621036</td>\n",
       "      <td>False</td>\n",
       "      <td>0.408193</td>\n",
       "      <td>0.344603</td>\n",
       "      <td>2.901891</td>\n",
       "    </tr>\n",
       "    <tr>\n",
       "      <th>2</th>\n",
       "      <td>1.935281</td>\n",
       "      <td>False</td>\n",
       "      <td>4.103593</td>\n",
       "      <td>0.314841</td>\n",
       "      <td>3.176207</td>\n",
       "    </tr>\n",
       "    <tr>\n",
       "      <th>3</th>\n",
       "      <td>1.475524</td>\n",
       "      <td>False</td>\n",
       "      <td>2.096591</td>\n",
       "      <td>0.358827</td>\n",
       "      <td>2.786859</td>\n",
       "    </tr>\n",
       "    <tr>\n",
       "      <th>4</th>\n",
       "      <td>1.518369</td>\n",
       "      <td>False</td>\n",
       "      <td>3.241588</td>\n",
       "      <td>0.354612</td>\n",
       "      <td>2.819987</td>\n",
       "    </tr>\n",
       "    <tr>\n",
       "      <th>...</th>\n",
       "      <td>...</td>\n",
       "      <td>...</td>\n",
       "      <td>...</td>\n",
       "      <td>...</td>\n",
       "      <td>...</td>\n",
       "    </tr>\n",
       "    <tr>\n",
       "      <th>995</th>\n",
       "      <td>0.079760</td>\n",
       "      <td>False</td>\n",
       "      <td>-1.485742</td>\n",
       "      <td>0.504496</td>\n",
       "      <td>1.982176</td>\n",
       "    </tr>\n",
       "    <tr>\n",
       "      <th>996</th>\n",
       "      <td>0.226452</td>\n",
       "      <td>False</td>\n",
       "      <td>-0.377411</td>\n",
       "      <td>0.488774</td>\n",
       "      <td>2.045934</td>\n",
       "    </tr>\n",
       "    <tr>\n",
       "      <th>997</th>\n",
       "      <td>0.266241</td>\n",
       "      <td>False</td>\n",
       "      <td>0.316706</td>\n",
       "      <td>0.484512</td>\n",
       "      <td>2.063931</td>\n",
       "    </tr>\n",
       "    <tr>\n",
       "      <th>998</th>\n",
       "      <td>1.079696</td>\n",
       "      <td>False</td>\n",
       "      <td>1.507330</td>\n",
       "      <td>0.398734</td>\n",
       "      <td>2.507941</td>\n",
       "    </tr>\n",
       "    <tr>\n",
       "      <th>999</th>\n",
       "      <td>0.388023</td>\n",
       "      <td>False</td>\n",
       "      <td>2.241785</td>\n",
       "      <td>0.471485</td>\n",
       "      <td>2.120960</td>\n",
       "    </tr>\n",
       "  </tbody>\n",
       "</table>\n",
       "<p>1000 rows × 5 columns</p>\n",
       "</div>"
      ],
      "text/plain": [
       "           W0     v0         y  propensity_score    weight\n",
       "0    0.292902  False -0.685664          0.481658  2.076162\n",
       "1    1.621036  False  0.408193          0.344603  2.901891\n",
       "2    1.935281  False  4.103593          0.314841  3.176207\n",
       "3    1.475524  False  2.096591          0.358827  2.786859\n",
       "4    1.518369  False  3.241588          0.354612  2.819987\n",
       "..        ...    ...       ...               ...       ...\n",
       "995  0.079760  False -1.485742          0.504496  1.982176\n",
       "996  0.226452  False -0.377411          0.488774  2.045934\n",
       "997  0.266241  False  0.316706          0.484512  2.063931\n",
       "998  1.079696  False  1.507330          0.398734  2.507941\n",
       "999  0.388023  False  2.241785          0.471485  2.120960\n",
       "\n",
       "[1000 rows x 5 columns]"
      ]
     },
     "execution_count": 6,
     "metadata": {},
     "output_type": "execute_result"
    }
   ],
   "source": [
    "cdf_0"
   ]
  },
  {
   "cell_type": "code",
   "execution_count": 7,
   "metadata": {
    "execution": {
     "iopub.execute_input": "2022-07-28T11:03:13.571266Z",
     "iopub.status.busy": "2022-07-28T11:03:13.571001Z",
     "iopub.status.idle": "2022-07-28T11:03:13.583371Z",
     "shell.execute_reply": "2022-07-28T11:03:13.582625Z"
    }
   },
   "outputs": [
    {
     "data": {
      "text/html": [
       "<div>\n",
       "<style scoped>\n",
       "    .dataframe tbody tr th:only-of-type {\n",
       "        vertical-align: middle;\n",
       "    }\n",
       "\n",
       "    .dataframe tbody tr th {\n",
       "        vertical-align: top;\n",
       "    }\n",
       "\n",
       "    .dataframe thead th {\n",
       "        text-align: right;\n",
       "    }\n",
       "</style>\n",
       "<table border=\"1\" class=\"dataframe\">\n",
       "  <thead>\n",
       "    <tr style=\"text-align: right;\">\n",
       "      <th></th>\n",
       "      <th>W0</th>\n",
       "      <th>v0</th>\n",
       "      <th>y</th>\n",
       "      <th>propensity_score</th>\n",
       "      <th>weight</th>\n",
       "    </tr>\n",
       "  </thead>\n",
       "  <tbody>\n",
       "    <tr>\n",
       "      <th>0</th>\n",
       "      <td>1.159909</td>\n",
       "      <td>True</td>\n",
       "      <td>6.302796</td>\n",
       "      <td>0.609482</td>\n",
       "      <td>1.640737</td>\n",
       "    </tr>\n",
       "    <tr>\n",
       "      <th>1</th>\n",
       "      <td>0.154948</td>\n",
       "      <td>True</td>\n",
       "      <td>6.203229</td>\n",
       "      <td>0.503563</td>\n",
       "      <td>1.985848</td>\n",
       "    </tr>\n",
       "    <tr>\n",
       "      <th>2</th>\n",
       "      <td>1.530914</td>\n",
       "      <td>True</td>\n",
       "      <td>7.041628</td>\n",
       "      <td>0.646619</td>\n",
       "      <td>1.546507</td>\n",
       "    </tr>\n",
       "    <tr>\n",
       "      <th>3</th>\n",
       "      <td>-0.516360</td>\n",
       "      <td>True</td>\n",
       "      <td>5.628885</td>\n",
       "      <td>0.432030</td>\n",
       "      <td>2.314657</td>\n",
       "    </tr>\n",
       "    <tr>\n",
       "      <th>4</th>\n",
       "      <td>0.822897</td>\n",
       "      <td>True</td>\n",
       "      <td>7.071245</td>\n",
       "      <td>0.574599</td>\n",
       "      <td>1.740344</td>\n",
       "    </tr>\n",
       "    <tr>\n",
       "      <th>...</th>\n",
       "      <td>...</td>\n",
       "      <td>...</td>\n",
       "      <td>...</td>\n",
       "      <td>...</td>\n",
       "      <td>...</td>\n",
       "    </tr>\n",
       "    <tr>\n",
       "      <th>995</th>\n",
       "      <td>-0.933176</td>\n",
       "      <td>True</td>\n",
       "      <td>2.373203</td>\n",
       "      <td>0.388817</td>\n",
       "      <td>2.571906</td>\n",
       "    </tr>\n",
       "    <tr>\n",
       "      <th>996</th>\n",
       "      <td>0.518104</td>\n",
       "      <td>True</td>\n",
       "      <td>7.705279</td>\n",
       "      <td>0.542388</td>\n",
       "      <td>1.843700</td>\n",
       "    </tr>\n",
       "    <tr>\n",
       "      <th>997</th>\n",
       "      <td>0.262007</td>\n",
       "      <td>True</td>\n",
       "      <td>5.504281</td>\n",
       "      <td>0.515034</td>\n",
       "      <td>1.941619</td>\n",
       "    </tr>\n",
       "    <tr>\n",
       "      <th>998</th>\n",
       "      <td>-1.013483</td>\n",
       "      <td>True</td>\n",
       "      <td>3.397072</td>\n",
       "      <td>0.380666</td>\n",
       "      <td>2.626972</td>\n",
       "    </tr>\n",
       "    <tr>\n",
       "      <th>999</th>\n",
       "      <td>0.438501</td>\n",
       "      <td>True</td>\n",
       "      <td>3.198775</td>\n",
       "      <td>0.533905</td>\n",
       "      <td>1.872993</td>\n",
       "    </tr>\n",
       "  </tbody>\n",
       "</table>\n",
       "<p>1000 rows × 5 columns</p>\n",
       "</div>"
      ],
      "text/plain": [
       "           W0    v0         y  propensity_score    weight\n",
       "0    1.159909  True  6.302796          0.609482  1.640737\n",
       "1    0.154948  True  6.203229          0.503563  1.985848\n",
       "2    1.530914  True  7.041628          0.646619  1.546507\n",
       "3   -0.516360  True  5.628885          0.432030  2.314657\n",
       "4    0.822897  True  7.071245          0.574599  1.740344\n",
       "..        ...   ...       ...               ...       ...\n",
       "995 -0.933176  True  2.373203          0.388817  2.571906\n",
       "996  0.518104  True  7.705279          0.542388  1.843700\n",
       "997  0.262007  True  5.504281          0.515034  1.941619\n",
       "998 -1.013483  True  3.397072          0.380666  2.626972\n",
       "999  0.438501  True  3.198775          0.533905  1.872993\n",
       "\n",
       "[1000 rows x 5 columns]"
      ]
     },
     "execution_count": 7,
     "metadata": {},
     "output_type": "execute_result"
    }
   ],
   "source": [
    "cdf_1"
   ]
  },
  {
   "cell_type": "markdown",
   "metadata": {},
   "source": [
    "## Comparing the estimate to Linear Regression\n",
    "First, estimating the effect using the causal data frame, and the 95% confidence interval."
   ]
  },
  {
   "cell_type": "code",
   "execution_count": 8,
   "metadata": {
    "execution": {
     "iopub.execute_input": "2022-07-28T11:03:13.586653Z",
     "iopub.status.busy": "2022-07-28T11:03:13.586065Z",
     "iopub.status.idle": "2022-07-28T11:03:13.704005Z",
     "shell.execute_reply": "2022-07-28T11:03:13.703138Z"
    }
   },
   "outputs": [
    {
     "data": {
      "image/png": "[encoded data removed]",
      "text/latex": [
       "$\\displaystyle 5.02929975653335$"
      ],
      "text/plain": [
       "5.029299756533346"
      ]
     },
     "execution_count": 8,
     "metadata": {},
     "output_type": "execute_result"
    }
   ],
   "source": [
    "(cdf_1['y'] - cdf_0['y']).mean()"
   ]
  },
  {
   "cell_type": "code",
   "execution_count": 9,
   "metadata": {
    "execution": {
     "iopub.execute_input": "2022-07-28T11:03:13.708279Z",
     "iopub.status.busy": "2022-07-28T11:03:13.707723Z",
     "iopub.status.idle": "2022-07-28T11:03:13.736394Z",
     "shell.execute_reply": "2022-07-28T11:03:13.735585Z"
    }
   },
   "outputs": [
    {
     "data": {
      "image/png": "[encoded data removed]",
      "text/latex": [
       "$\\displaystyle 0.167241309136037$"
      ],
      "text/plain": [
       "0.16724130913603685"
      ]
     },
     "execution_count": 9,
     "metadata": {},
     "output_type": "execute_result"
    }
   ],
   "source": [
    "1.96*(cdf_1['y'] - cdf_0['y']).std() / np.sqrt(len(df))"
   ]
  },
  {
   "cell_type": "markdown",
   "metadata": {},
   "source": [
    "Comparing to the estimate from OLS."
   ]
  },
  {
   "cell_type": "code",
   "execution_count": 10,
   "metadata": {
    "execution": {
     "iopub.execute_input": "2022-07-28T11:03:13.740368Z",
     "iopub.status.busy": "2022-07-28T11:03:13.739951Z",
     "iopub.status.idle": "2022-07-28T11:03:13.756908Z",
     "shell.execute_reply": "2022-07-28T11:03:13.756149Z"
    }
   },
   "outputs": [
    {
     "data": {
      "text/html": [
       "<table class=\"simpletable\">\n",
       "<caption>OLS Regression Results</caption>\n",
       "<tr>\n",
       "  <th>Dep. Variable:</th>            <td>y</td>        <th>  R-squared (uncentered):</th>      <td>   0.948</td>\n",
       "</tr>\n",
       "<tr>\n",
       "  <th>Model:</th>                   <td>OLS</td>       <th>  Adj. R-squared (uncentered):</th> <td>   0.948</td>\n",
       "</tr>\n",
       "<tr>\n",
       "  <th>Method:</th>             <td>Least Squares</td>  <th>  F-statistic:       </th>          <td>   9054.</td>\n",
       "</tr>\n",
       "<tr>\n",
       "  <th>Date:</th>             <td>Thu, 28 Jul 2022</td> <th>  Prob (F-statistic):</th>           <td>  0.00</td> \n",
       "</tr>\n",
       "<tr>\n",
       "  <th>Time:</th>                 <td>11:03:13</td>     <th>  Log-Likelihood:    </th>          <td> -1461.7</td>\n",
       "</tr>\n",
       "<tr>\n",
       "  <th>No. Observations:</th>      <td>  1000</td>      <th>  AIC:               </th>          <td>   2927.</td>\n",
       "</tr>\n",
       "<tr>\n",
       "  <th>Df Residuals:</th>          <td>   998</td>      <th>  BIC:               </th>          <td>   2937.</td>\n",
       "</tr>\n",
       "<tr>\n",
       "  <th>Df Model:</th>              <td>     2</td>      <th>                     </th>              <td> </td>   \n",
       "</tr>\n",
       "<tr>\n",
       "  <th>Covariance Type:</th>      <td>nonrobust</td>    <th>                     </th>              <td> </td>   \n",
       "</tr>\n",
       "</table>\n",
       "<table class=\"simpletable\">\n",
       "<tr>\n",
       "   <td></td>     <th>coef</th>     <th>std err</th>      <th>t</th>      <th>P>|t|</th>  <th>[0.025</th>    <th>0.975]</th>  \n",
       "</tr>\n",
       "<tr>\n",
       "  <th>x1</th> <td>    1.6500</td> <td>    0.035</td> <td>   47.574</td> <td> 0.000</td> <td>    1.582</td> <td>    1.718</td>\n",
       "</tr>\n",
       "<tr>\n",
       "  <th>x2</th> <td>    4.8973</td> <td>    0.049</td> <td>   99.611</td> <td> 0.000</td> <td>    4.801</td> <td>    4.994</td>\n",
       "</tr>\n",
       "</table>\n",
       "<table class=\"simpletable\">\n",
       "<tr>\n",
       "  <th>Omnibus:</th>       <td> 1.868</td> <th>  Durbin-Watson:     </th> <td>   2.080</td>\n",
       "</tr>\n",
       "<tr>\n",
       "  <th>Prob(Omnibus):</th> <td> 0.393</td> <th>  Jarque-Bera (JB):  </th> <td>   1.934</td>\n",
       "</tr>\n",
       "<tr>\n",
       "  <th>Skew:</th>          <td> 0.087</td> <th>  Prob(JB):          </th> <td>   0.380</td>\n",
       "</tr>\n",
       "<tr>\n",
       "  <th>Kurtosis:</th>      <td> 2.873</td> <th>  Cond. No.          </th> <td>    1.69</td>\n",
       "</tr>\n",
       "</table><br/><br/>Notes:<br/>[1] R² is computed without centering (uncentered) since the model does not contain a constant.<br/>[2] Standard Errors assume that the covariance matrix of the errors is correctly specified."
      ],
      "text/plain": [
       "<class 'statsmodels.iolib.summary.Summary'>\n",
       "\"\"\"\n",
       "                                 OLS Regression Results                                \n",
       "=======================================================================================\n",
       "Dep. Variable:                      y   R-squared (uncentered):                   0.948\n",
       "Model:                            OLS   Adj. R-squared (uncentered):              0.948\n",
       "Method:                 Least Squares   F-statistic:                              9054.\n",
       "Date:                Thu, 28 Jul 2022   Prob (F-statistic):                        0.00\n",
       "Time:                        11:03:13   Log-Likelihood:                         -1461.7\n",
       "No. Observations:                1000   AIC:                                      2927.\n",
       "Df Residuals:                     998   BIC:                                      2937.\n",
       "Df Model:                           2                                                  \n",
       "Covariance Type:            nonrobust                                                  \n",
       "==============================================================================\n",
       "                 coef    std err          t      P>|t|      [0.025      0.975]\n",
       "------------------------------------------------------------------------------\n",
       "x1             1.6500      0.035     47.574      0.000       1.582       1.718\n",
       "x2             4.8973      0.049     99.611      0.000       4.801       4.994\n",
       "==============================================================================\n",
       "Omnibus:                        1.868   Durbin-Watson:                   2.080\n",
       "Prob(Omnibus):                  0.393   Jarque-Bera (JB):                1.934\n",
       "Skew:                           0.087   Prob(JB):                        0.380\n",
       "Kurtosis:                       2.873   Cond. No.                         1.69\n",
       "==============================================================================\n",
       "\n",
       "Notes:\n",
       "[1] R² is computed without centering (uncentered) since the model does not contain a constant.\n",
       "[2] Standard Errors assume that the covariance matrix of the errors is correctly specified.\n",
       "\"\"\""
      ]
     },
     "execution_count": 10,
     "metadata": {},
     "output_type": "execute_result"
    }
   ],
   "source": [
    "model = OLS(np.asarray(df[outcome]), np.asarray(df[[common_cause, treatment]], dtype=np.float64))\n",
    "result = model.fit()\n",
    "result.summary()"
   ]
  }
 ],
 "metadata": {
  "kernelspec": {
   "display_name": "Python 3",
   "language": "python",
   "name": "python3"
  },
  "language_info": {
   "codemirror_mode": {
    "name": "ipython",
    "version": 3
   },
   "file_extension": ".py",
   "mimetype": "text/x-python",
   "name": "python",
   "nbconvert_exporter": "python",
   "pygments_lexer": "ipython3",
   "version": "3.8.10"
  },
  "toc": {
   "base_numbering": 1,
   "nav_menu": {},
   "number_sections": false,
   "sideBar": true,
   "skip_h1_title": true,
   "title_cell": "Table of Contents",
   "title_sidebar": "Contents",
   "toc_cell": false,
   "toc_position": {},
   "toc_section_display": true,
   "toc_window_display": false
  }
 },
 "nbformat": 4,
 "nbformat_minor": 4
}
