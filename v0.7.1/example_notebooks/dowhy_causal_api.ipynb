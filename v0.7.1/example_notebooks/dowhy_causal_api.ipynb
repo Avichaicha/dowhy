{
 "cells": [
  {
   "cell_type": "markdown",
   "metadata": {},
   "source": [
    "# Demo for the DoWhy causal API\n",
    "We show a simple example of adding a causal extension to any dataframe. "
   ]
  },
  {
   "cell_type": "code",
   "execution_count": 1,
   "metadata": {
    "execution": {
     "iopub.execute_input": "2022-08-23T11:55:41.188357Z",
     "iopub.status.busy": "2022-08-23T11:55:41.187880Z",
     "iopub.status.idle": "2022-08-23T11:55:42.495050Z",
     "shell.execute_reply": "2022-08-23T11:55:42.493769Z"
    }
   },
   "outputs": [],
   "source": [
    "import dowhy.datasets\n",
    "import dowhy.api\n",
    "\n",
    "import numpy as np\n",
    "import pandas as pd\n",
    "\n",
    "from statsmodels.api import OLS"
   ]
  },
  {
   "cell_type": "code",
   "execution_count": 2,
   "metadata": {
    "execution": {
     "iopub.execute_input": "2022-08-23T11:55:42.499456Z",
     "iopub.status.busy": "2022-08-23T11:55:42.498996Z",
     "iopub.status.idle": "2022-08-23T11:55:42.550756Z",
     "shell.execute_reply": "2022-08-23T11:55:42.549846Z"
    }
   },
   "outputs": [
    {
     "data": {
      "text/html": [
       "<div>\n",
       "<style scoped>\n",
       "    .dataframe tbody tr th:only-of-type {\n",
       "        vertical-align: middle;\n",
       "    }\n",
       "\n",
       "    .dataframe tbody tr th {\n",
       "        vertical-align: top;\n",
       "    }\n",
       "\n",
       "    .dataframe thead th {\n",
       "        text-align: right;\n",
       "    }\n",
       "</style>\n",
       "<table border=\"1\" class=\"dataframe\">\n",
       "  <thead>\n",
       "    <tr style=\"text-align: right;\">\n",
       "      <th></th>\n",
       "      <th>W0</th>\n",
       "      <th>v0</th>\n",
       "      <th>y</th>\n",
       "    </tr>\n",
       "  </thead>\n",
       "  <tbody>\n",
       "    <tr>\n",
       "      <th>0</th>\n",
       "      <td>1.346107</td>\n",
       "      <td>True</td>\n",
       "      <td>10.061621</td>\n",
       "    </tr>\n",
       "    <tr>\n",
       "      <th>1</th>\n",
       "      <td>0.423382</td>\n",
       "      <td>False</td>\n",
       "      <td>-0.066451</td>\n",
       "    </tr>\n",
       "    <tr>\n",
       "      <th>2</th>\n",
       "      <td>1.580267</td>\n",
       "      <td>True</td>\n",
       "      <td>7.288788</td>\n",
       "    </tr>\n",
       "    <tr>\n",
       "      <th>3</th>\n",
       "      <td>0.687121</td>\n",
       "      <td>True</td>\n",
       "      <td>7.136655</td>\n",
       "    </tr>\n",
       "    <tr>\n",
       "      <th>4</th>\n",
       "      <td>0.285966</td>\n",
       "      <td>True</td>\n",
       "      <td>5.312043</td>\n",
       "    </tr>\n",
       "    <tr>\n",
       "      <th>...</th>\n",
       "      <td>...</td>\n",
       "      <td>...</td>\n",
       "      <td>...</td>\n",
       "    </tr>\n",
       "    <tr>\n",
       "      <th>995</th>\n",
       "      <td>0.749631</td>\n",
       "      <td>True</td>\n",
       "      <td>8.440484</td>\n",
       "    </tr>\n",
       "    <tr>\n",
       "      <th>996</th>\n",
       "      <td>0.674678</td>\n",
       "      <td>True</td>\n",
       "      <td>6.167290</td>\n",
       "    </tr>\n",
       "    <tr>\n",
       "      <th>997</th>\n",
       "      <td>1.709339</td>\n",
       "      <td>True</td>\n",
       "      <td>9.191946</td>\n",
       "    </tr>\n",
       "    <tr>\n",
       "      <th>998</th>\n",
       "      <td>1.978923</td>\n",
       "      <td>False</td>\n",
       "      <td>6.938018</td>\n",
       "    </tr>\n",
       "    <tr>\n",
       "      <th>999</th>\n",
       "      <td>-0.723770</td>\n",
       "      <td>False</td>\n",
       "      <td>-0.249062</td>\n",
       "    </tr>\n",
       "  </tbody>\n",
       "</table>\n",
       "<p>1000 rows × 3 columns</p>\n",
       "</div>"
      ],
      "text/plain": [
       "           W0     v0          y\n",
       "0    1.346107   True  10.061621\n",
       "1    0.423382  False  -0.066451\n",
       "2    1.580267   True   7.288788\n",
       "3    0.687121   True   7.136655\n",
       "4    0.285966   True   5.312043\n",
       "..        ...    ...        ...\n",
       "995  0.749631   True   8.440484\n",
       "996  0.674678   True   6.167290\n",
       "997  1.709339   True   9.191946\n",
       "998  1.978923  False   6.938018\n",
       "999 -0.723770  False  -0.249062\n",
       "\n",
       "[1000 rows x 3 columns]"
      ]
     },
     "execution_count": 2,
     "metadata": {},
     "output_type": "execute_result"
    }
   ],
   "source": [
    "data = dowhy.datasets.linear_dataset(beta=5,\n",
    "        num_common_causes=1,\n",
    "        num_instruments = 0,\n",
    "        num_samples=1000,\n",
    "        treatment_is_binary=True)\n",
    "df = data['df']\n",
    "df['y'] = df['y'] + np.random.normal(size=len(df)) # Adding noise to data. Without noise, the variance in Y|X, Z is zero, and mcmc fails.\n",
    "#data['dot_graph'] = 'digraph { v ->y;X0-> v;X0-> y;}'\n",
    "\n",
    "treatment= data[\"treatment_name\"][0]\n",
    "outcome = data[\"outcome_name\"][0]\n",
    "common_cause = data[\"common_causes_names\"][0]\n",
    "df"
   ]
  },
  {
   "cell_type": "code",
   "execution_count": 3,
   "metadata": {
    "execution": {
     "iopub.execute_input": "2022-08-23T11:55:42.555375Z",
     "iopub.status.busy": "2022-08-23T11:55:42.554579Z",
     "iopub.status.idle": "2022-08-23T11:55:43.444221Z",
     "shell.execute_reply": "2022-08-23T11:55:43.443569Z"
    }
   },
   "outputs": [
    {
     "data": {
      "text/plain": [
       "<AxesSubplot:xlabel='v0'>"
      ]
     },
     "execution_count": 3,
     "metadata": {},
     "output_type": "execute_result"
    },
    {
     "data": {
      "image/png": "[encoded data removed]",
      "text/plain": [
       "<Figure size 640x480 with 1 Axes>"
      ]
     },
     "metadata": {},
     "output_type": "display_data"
    }
   ],
   "source": [
    "# data['df'] is just a regular pandas.DataFrame\n",
    "df.causal.do(x=treatment,\n",
    "                     variable_types={treatment: 'b', outcome: 'c', common_cause: 'c'},\n",
    "                     outcome=outcome,\n",
    "                     common_causes=[common_cause],\n",
    "                     proceed_when_unidentifiable=True).groupby(treatment).mean().plot(y=outcome, kind='bar')"
   ]
  },
  {
   "cell_type": "code",
   "execution_count": 4,
   "metadata": {
    "execution": {
     "iopub.execute_input": "2022-08-23T11:55:43.448167Z",
     "iopub.status.busy": "2022-08-23T11:55:43.447504Z",
     "iopub.status.idle": "2022-08-23T11:55:43.573449Z",
     "shell.execute_reply": "2022-08-23T11:55:43.572826Z"
    }
   },
   "outputs": [
    {
     "data": {
      "text/plain": [
       "<AxesSubplot:xlabel='v0'>"
      ]
     },
     "execution_count": 4,
     "metadata": {},
     "output_type": "execute_result"
    },
    {
     "data": {
      "image/png": "[encoded data removed]",
      "text/plain": [
       "<Figure size 640x480 with 1 Axes>"
      ]
     },
     "metadata": {},
     "output_type": "display_data"
    }
   ],
   "source": [
    "df.causal.do(x={treatment: 1}, \n",
    "              variable_types={treatment:'b', outcome: 'c', common_cause: 'c'}, \n",
    "              outcome=outcome,\n",
    "              method='weighting', \n",
    "              common_causes=[common_cause],\n",
    "              proceed_when_unidentifiable=True).groupby(treatment).mean().plot(y=outcome, kind='bar')"
   ]
  },
  {
   "cell_type": "code",
   "execution_count": 5,
   "metadata": {
    "execution": {
     "iopub.execute_input": "2022-08-23T11:55:43.578112Z",
     "iopub.status.busy": "2022-08-23T11:55:43.576892Z",
     "iopub.status.idle": "2022-08-23T11:55:43.614101Z",
     "shell.execute_reply": "2022-08-23T11:55:43.613353Z"
    }
   },
   "outputs": [],
   "source": [
    "cdf_1 = df.causal.do(x={treatment: 1}, \n",
    "              variable_types={treatment: 'b', outcome: 'c', common_cause: 'c'}, \n",
    "              outcome=outcome, \n",
    "              dot_graph=data['dot_graph'],\n",
    "              proceed_when_unidentifiable=True)\n",
    "\n",
    "cdf_0 = df.causal.do(x={treatment: 0}, \n",
    "              variable_types={treatment: 'b', outcome: 'c', common_cause: 'c'}, \n",
    "              outcome=outcome, \n",
    "              dot_graph=data['dot_graph'],\n",
    "              proceed_when_unidentifiable=True)\n"
   ]
  },
  {
   "cell_type": "code",
   "execution_count": 6,
   "metadata": {
    "execution": {
     "iopub.execute_input": "2022-08-23T11:55:43.618880Z",
     "iopub.status.busy": "2022-08-23T11:55:43.617526Z",
     "iopub.status.idle": "2022-08-23T11:55:43.631256Z",
     "shell.execute_reply": "2022-08-23T11:55:43.630561Z"
    },
    "scrolled": true
   },
   "outputs": [
    {
     "data": {
      "text/html": [
       "<div>\n",
       "<style scoped>\n",
       "    .dataframe tbody tr th:only-of-type {\n",
       "        vertical-align: middle;\n",
       "    }\n",
       "\n",
       "    .dataframe tbody tr th {\n",
       "        vertical-align: top;\n",
       "    }\n",
       "\n",
       "    .dataframe thead th {\n",
       "        text-align: right;\n",
       "    }\n",
       "</style>\n",
       "<table border=\"1\" class=\"dataframe\">\n",
       "  <thead>\n",
       "    <tr style=\"text-align: right;\">\n",
       "      <th></th>\n",
       "      <th>W0</th>\n",
       "      <th>v0</th>\n",
       "      <th>y</th>\n",
       "      <th>propensity_score</th>\n",
       "      <th>weight</th>\n",
       "    </tr>\n",
       "  </thead>\n",
       "  <tbody>\n",
       "    <tr>\n",
       "      <th>0</th>\n",
       "      <td>1.506402</td>\n",
       "      <td>False</td>\n",
       "      <td>3.805754</td>\n",
       "      <td>0.052863</td>\n",
       "      <td>18.916685</td>\n",
       "    </tr>\n",
       "    <tr>\n",
       "      <th>1</th>\n",
       "      <td>1.506402</td>\n",
       "      <td>False</td>\n",
       "      <td>3.805754</td>\n",
       "      <td>0.052863</td>\n",
       "      <td>18.916685</td>\n",
       "    </tr>\n",
       "    <tr>\n",
       "      <th>2</th>\n",
       "      <td>0.500416</td>\n",
       "      <td>False</td>\n",
       "      <td>-0.110381</td>\n",
       "      <td>0.245388</td>\n",
       "      <td>4.075177</td>\n",
       "    </tr>\n",
       "    <tr>\n",
       "      <th>3</th>\n",
       "      <td>0.194370</td>\n",
       "      <td>False</td>\n",
       "      <td>2.224381</td>\n",
       "      <td>0.357276</td>\n",
       "      <td>2.798957</td>\n",
       "    </tr>\n",
       "    <tr>\n",
       "      <th>4</th>\n",
       "      <td>-0.080901</td>\n",
       "      <td>False</td>\n",
       "      <td>-0.990128</td>\n",
       "      <td>0.473783</td>\n",
       "      <td>2.110672</td>\n",
       "    </tr>\n",
       "    <tr>\n",
       "      <th>...</th>\n",
       "      <td>...</td>\n",
       "      <td>...</td>\n",
       "      <td>...</td>\n",
       "      <td>...</td>\n",
       "      <td>...</td>\n",
       "    </tr>\n",
       "    <tr>\n",
       "      <th>995</th>\n",
       "      <td>1.176165</td>\n",
       "      <td>False</td>\n",
       "      <td>3.243801</td>\n",
       "      <td>0.090529</td>\n",
       "      <td>11.046211</td>\n",
       "    </tr>\n",
       "    <tr>\n",
       "      <th>996</th>\n",
       "      <td>1.129811</td>\n",
       "      <td>False</td>\n",
       "      <td>3.524367</td>\n",
       "      <td>0.097441</td>\n",
       "      <td>10.262640</td>\n",
       "    </tr>\n",
       "    <tr>\n",
       "      <th>997</th>\n",
       "      <td>1.037146</td>\n",
       "      <td>False</td>\n",
       "      <td>3.137144</td>\n",
       "      <td>0.112680</td>\n",
       "      <td>8.874673</td>\n",
       "    </tr>\n",
       "    <tr>\n",
       "      <th>998</th>\n",
       "      <td>1.358866</td>\n",
       "      <td>False</td>\n",
       "      <td>5.635056</td>\n",
       "      <td>0.067404</td>\n",
       "      <td>14.835892</td>\n",
       "    </tr>\n",
       "    <tr>\n",
       "      <th>999</th>\n",
       "      <td>0.380741</td>\n",
       "      <td>False</td>\n",
       "      <td>-0.646492</td>\n",
       "      <td>0.286242</td>\n",
       "      <td>3.493546</td>\n",
       "    </tr>\n",
       "  </tbody>\n",
       "</table>\n",
       "<p>1000 rows × 5 columns</p>\n",
       "</div>"
      ],
      "text/plain": [
       "           W0     v0         y  propensity_score     weight\n",
       "0    1.506402  False  3.805754          0.052863  18.916685\n",
       "1    1.506402  False  3.805754          0.052863  18.916685\n",
       "2    0.500416  False -0.110381          0.245388   4.075177\n",
       "3    0.194370  False  2.224381          0.357276   2.798957\n",
       "4   -0.080901  False -0.990128          0.473783   2.110672\n",
       "..        ...    ...       ...               ...        ...\n",
       "995  1.176165  False  3.243801          0.090529  11.046211\n",
       "996  1.129811  False  3.524367          0.097441  10.262640\n",
       "997  1.037146  False  3.137144          0.112680   8.874673\n",
       "998  1.358866  False  5.635056          0.067404  14.835892\n",
       "999  0.380741  False -0.646492          0.286242   3.493546\n",
       "\n",
       "[1000 rows x 5 columns]"
      ]
     },
     "execution_count": 6,
     "metadata": {},
     "output_type": "execute_result"
    }
   ],
   "source": [
    "cdf_0"
   ]
  },
  {
   "cell_type": "code",
   "execution_count": 7,
   "metadata": {
    "execution": {
     "iopub.execute_input": "2022-08-23T11:55:43.634364Z",
     "iopub.status.busy": "2022-08-23T11:55:43.634119Z",
     "iopub.status.idle": "2022-08-23T11:55:43.647280Z",
     "shell.execute_reply": "2022-08-23T11:55:43.646651Z"
    }
   },
   "outputs": [
    {
     "data": {
      "text/html": [
       "<div>\n",
       "<style scoped>\n",
       "    .dataframe tbody tr th:only-of-type {\n",
       "        vertical-align: middle;\n",
       "    }\n",
       "\n",
       "    .dataframe tbody tr th {\n",
       "        vertical-align: top;\n",
       "    }\n",
       "\n",
       "    .dataframe thead th {\n",
       "        text-align: right;\n",
       "    }\n",
       "</style>\n",
       "<table border=\"1\" class=\"dataframe\">\n",
       "  <thead>\n",
       "    <tr style=\"text-align: right;\">\n",
       "      <th></th>\n",
       "      <th>W0</th>\n",
       "      <th>v0</th>\n",
       "      <th>y</th>\n",
       "      <th>propensity_score</th>\n",
       "      <th>weight</th>\n",
       "    </tr>\n",
       "  </thead>\n",
       "  <tbody>\n",
       "    <tr>\n",
       "      <th>0</th>\n",
       "      <td>1.267682</td>\n",
       "      <td>True</td>\n",
       "      <td>9.663402</td>\n",
       "      <td>0.921833</td>\n",
       "      <td>1.084795</td>\n",
       "    </tr>\n",
       "    <tr>\n",
       "      <th>1</th>\n",
       "      <td>-0.636702</td>\n",
       "      <td>True</td>\n",
       "      <td>3.940887</td>\n",
       "      <td>0.295518</td>\n",
       "      <td>3.383892</td>\n",
       "    </tr>\n",
       "    <tr>\n",
       "      <th>2</th>\n",
       "      <td>4.337642</td>\n",
       "      <td>True</td>\n",
       "      <td>15.357788</td>\n",
       "      <td>0.999609</td>\n",
       "      <td>1.000391</td>\n",
       "    </tr>\n",
       "    <tr>\n",
       "      <th>3</th>\n",
       "      <td>1.571427</td>\n",
       "      <td>True</td>\n",
       "      <td>10.260232</td>\n",
       "      <td>0.952558</td>\n",
       "      <td>1.049805</td>\n",
       "    </tr>\n",
       "    <tr>\n",
       "      <th>4</th>\n",
       "      <td>-1.251149</td>\n",
       "      <td>True</td>\n",
       "      <td>2.427442</td>\n",
       "      <td>0.125081</td>\n",
       "      <td>7.994835</td>\n",
       "    </tr>\n",
       "    <tr>\n",
       "      <th>...</th>\n",
       "      <td>...</td>\n",
       "      <td>...</td>\n",
       "      <td>...</td>\n",
       "      <td>...</td>\n",
       "      <td>...</td>\n",
       "    </tr>\n",
       "    <tr>\n",
       "      <th>995</th>\n",
       "      <td>1.316472</td>\n",
       "      <td>True</td>\n",
       "      <td>8.114695</td>\n",
       "      <td>0.927775</td>\n",
       "      <td>1.077848</td>\n",
       "    </tr>\n",
       "    <tr>\n",
       "      <th>996</th>\n",
       "      <td>1.234803</td>\n",
       "      <td>True</td>\n",
       "      <td>7.773848</td>\n",
       "      <td>0.917581</td>\n",
       "      <td>1.089822</td>\n",
       "    </tr>\n",
       "    <tr>\n",
       "      <th>997</th>\n",
       "      <td>1.516743</td>\n",
       "      <td>True</td>\n",
       "      <td>8.202760</td>\n",
       "      <td>0.948036</td>\n",
       "      <td>1.054812</td>\n",
       "    </tr>\n",
       "    <tr>\n",
       "      <th>998</th>\n",
       "      <td>2.695181</td>\n",
       "      <td>True</td>\n",
       "      <td>10.241695</td>\n",
       "      <td>0.993093</td>\n",
       "      <td>1.006955</td>\n",
       "    </tr>\n",
       "    <tr>\n",
       "      <th>999</th>\n",
       "      <td>1.151445</td>\n",
       "      <td>True</td>\n",
       "      <td>7.280648</td>\n",
       "      <td>0.905842</td>\n",
       "      <td>1.103945</td>\n",
       "    </tr>\n",
       "  </tbody>\n",
       "</table>\n",
       "<p>1000 rows × 5 columns</p>\n",
       "</div>"
      ],
      "text/plain": [
       "           W0    v0          y  propensity_score    weight\n",
       "0    1.267682  True   9.663402          0.921833  1.084795\n",
       "1   -0.636702  True   3.940887          0.295518  3.383892\n",
       "2    4.337642  True  15.357788          0.999609  1.000391\n",
       "3    1.571427  True  10.260232          0.952558  1.049805\n",
       "4   -1.251149  True   2.427442          0.125081  7.994835\n",
       "..        ...   ...        ...               ...       ...\n",
       "995  1.316472  True   8.114695          0.927775  1.077848\n",
       "996  1.234803  True   7.773848          0.917581  1.089822\n",
       "997  1.516743  True   8.202760          0.948036  1.054812\n",
       "998  2.695181  True  10.241695          0.993093  1.006955\n",
       "999  1.151445  True   7.280648          0.905842  1.103945\n",
       "\n",
       "[1000 rows x 5 columns]"
      ]
     },
     "execution_count": 7,
     "metadata": {},
     "output_type": "execute_result"
    }
   ],
   "source": [
    "cdf_1"
   ]
  },
  {
   "cell_type": "markdown",
   "metadata": {},
   "source": [
    "## Comparing the estimate to Linear Regression\n",
    "First, estimating the effect using the causal data frame, and the 95% confidence interval."
   ]
  },
  {
   "cell_type": "code",
   "execution_count": 8,
   "metadata": {
    "execution": {
     "iopub.execute_input": "2022-08-23T11:55:43.650256Z",
     "iopub.status.busy": "2022-08-23T11:55:43.650022Z",
     "iopub.status.idle": "2022-08-23T11:55:43.767762Z",
     "shell.execute_reply": "2022-08-23T11:55:43.766545Z"
    }
   },
   "outputs": [
    {
     "data": {
      "image/png": "[encoded data removed]",
      "text/latex": [
       "$\\displaystyle 5.18828800763712$"
      ],
      "text/plain": [
       "5.188288007637117"
      ]
     },
     "execution_count": 8,
     "metadata": {},
     "output_type": "execute_result"
    }
   ],
   "source": [
    "(cdf_1['y'] - cdf_0['y']).mean()"
   ]
  },
  {
   "cell_type": "code",
   "execution_count": 9,
   "metadata": {
    "execution": {
     "iopub.execute_input": "2022-08-23T11:55:43.772242Z",
     "iopub.status.busy": "2022-08-23T11:55:43.771688Z",
     "iopub.status.idle": "2022-08-23T11:55:43.800520Z",
     "shell.execute_reply": "2022-08-23T11:55:43.799804Z"
    }
   },
   "outputs": [
    {
     "data": {
      "image/png": "[encoded data removed]",
      "text/latex": [
       "$\\displaystyle 0.238522894483252$"
      ],
      "text/plain": [
       "0.23852289448325245"
      ]
     },
     "execution_count": 9,
     "metadata": {},
     "output_type": "execute_result"
    }
   ],
   "source": [
    "1.96*(cdf_1['y'] - cdf_0['y']).std() / np.sqrt(len(df))"
   ]
  },
  {
   "cell_type": "markdown",
   "metadata": {},
   "source": [
    "Comparing to the estimate from OLS."
   ]
  },
  {
   "cell_type": "code",
   "execution_count": 10,
   "metadata": {
    "execution": {
     "iopub.execute_input": "2022-08-23T11:55:43.804463Z",
     "iopub.status.busy": "2022-08-23T11:55:43.803966Z",
     "iopub.status.idle": "2022-08-23T11:55:43.825146Z",
     "shell.execute_reply": "2022-08-23T11:55:43.824468Z"
    }
   },
   "outputs": [
    {
     "data": {
      "text/html": [
       "<table class=\"simpletable\">\n",
       "<caption>OLS Regression Results</caption>\n",
       "<tr>\n",
       "  <th>Dep. Variable:</th>            <td>y</td>        <th>  R-squared (uncentered):</th>      <td>   0.981</td> \n",
       "</tr>\n",
       "<tr>\n",
       "  <th>Model:</th>                   <td>OLS</td>       <th>  Adj. R-squared (uncentered):</th> <td>   0.981</td> \n",
       "</tr>\n",
       "<tr>\n",
       "  <th>Method:</th>             <td>Least Squares</td>  <th>  F-statistic:       </th>          <td>2.553e+04</td>\n",
       "</tr>\n",
       "<tr>\n",
       "  <th>Date:</th>             <td>Tue, 23 Aug 2022</td> <th>  Prob (F-statistic):</th>           <td>  0.00</td>  \n",
       "</tr>\n",
       "<tr>\n",
       "  <th>Time:</th>                 <td>11:55:43</td>     <th>  Log-Likelihood:    </th>          <td> -1436.7</td> \n",
       "</tr>\n",
       "<tr>\n",
       "  <th>No. Observations:</th>      <td>  1000</td>      <th>  AIC:               </th>          <td>   2877.</td> \n",
       "</tr>\n",
       "<tr>\n",
       "  <th>Df Residuals:</th>          <td>   998</td>      <th>  BIC:               </th>          <td>   2887.</td> \n",
       "</tr>\n",
       "<tr>\n",
       "  <th>Df Model:</th>              <td>     2</td>      <th>                     </th>              <td> </td>    \n",
       "</tr>\n",
       "<tr>\n",
       "  <th>Covariance Type:</th>      <td>nonrobust</td>    <th>                     </th>              <td> </td>    \n",
       "</tr>\n",
       "</table>\n",
       "<table class=\"simpletable\">\n",
       "<tr>\n",
       "   <td></td>     <th>coef</th>     <th>std err</th>      <th>t</th>      <th>P>|t|</th>  <th>[0.025</th>    <th>0.975]</th>  \n",
       "</tr>\n",
       "<tr>\n",
       "  <th>x1</th> <td>    2.4294</td> <td>    0.038</td> <td>   64.577</td> <td> 0.000</td> <td>    2.356</td> <td>    2.503</td>\n",
       "</tr>\n",
       "<tr>\n",
       "  <th>x2</th> <td>    4.9039</td> <td>    0.059</td> <td>   83.394</td> <td> 0.000</td> <td>    4.789</td> <td>    5.019</td>\n",
       "</tr>\n",
       "</table>\n",
       "<table class=\"simpletable\">\n",
       "<tr>\n",
       "  <th>Omnibus:</th>       <td> 3.314</td> <th>  Durbin-Watson:     </th> <td>   1.989</td>\n",
       "</tr>\n",
       "<tr>\n",
       "  <th>Prob(Omnibus):</th> <td> 0.191</td> <th>  Jarque-Bera (JB):  </th> <td>   3.126</td>\n",
       "</tr>\n",
       "<tr>\n",
       "  <th>Skew:</th>          <td> 0.087</td> <th>  Prob(JB):          </th> <td>   0.209</td>\n",
       "</tr>\n",
       "<tr>\n",
       "  <th>Kurtosis:</th>      <td> 2.788</td> <th>  Cond. No.          </th> <td>    3.25</td>\n",
       "</tr>\n",
       "</table><br/><br/>Notes:<br/>[1] R² is computed without centering (uncentered) since the model does not contain a constant.<br/>[2] Standard Errors assume that the covariance matrix of the errors is correctly specified."
      ],
      "text/plain": [
       "<class 'statsmodels.iolib.summary.Summary'>\n",
       "\"\"\"\n",
       "                                 OLS Regression Results                                \n",
       "=======================================================================================\n",
       "Dep. Variable:                      y   R-squared (uncentered):                   0.981\n",
       "Model:                            OLS   Adj. R-squared (uncentered):              0.981\n",
       "Method:                 Least Squares   F-statistic:                          2.553e+04\n",
       "Date:                Tue, 23 Aug 2022   Prob (F-statistic):                        0.00\n",
       "Time:                        11:55:43   Log-Likelihood:                         -1436.7\n",
       "No. Observations:                1000   AIC:                                      2877.\n",
       "Df Residuals:                     998   BIC:                                      2887.\n",
       "Df Model:                           2                                                  \n",
       "Covariance Type:            nonrobust                                                  \n",
       "==============================================================================\n",
       "                 coef    std err          t      P>|t|      [0.025      0.975]\n",
       "------------------------------------------------------------------------------\n",
       "x1             2.4294      0.038     64.577      0.000       2.356       2.503\n",
       "x2             4.9039      0.059     83.394      0.000       4.789       5.019\n",
       "==============================================================================\n",
       "Omnibus:                        3.314   Durbin-Watson:                   1.989\n",
       "Prob(Omnibus):                  0.191   Jarque-Bera (JB):                3.126\n",
       "Skew:                           0.087   Prob(JB):                        0.209\n",
       "Kurtosis:                       2.788   Cond. No.                         3.25\n",
       "==============================================================================\n",
       "\n",
       "Notes:\n",
       "[1] R² is computed without centering (uncentered) since the model does not contain a constant.\n",
       "[2] Standard Errors assume that the covariance matrix of the errors is correctly specified.\n",
       "\"\"\""
      ]
     },
     "execution_count": 10,
     "metadata": {},
     "output_type": "execute_result"
    }
   ],
   "source": [
    "model = OLS(np.asarray(df[outcome]), np.asarray(df[[common_cause, treatment]], dtype=np.float64))\n",
    "result = model.fit()\n",
    "result.summary()"
   ]
  }
 ],
 "metadata": {
  "kernelspec": {
   "display_name": "Python 3",
   "language": "python",
   "name": "python3"
  },
  "language_info": {
   "codemirror_mode": {
    "name": "ipython",
    "version": 3
   },
   "file_extension": ".py",
   "mimetype": "text/x-python",
   "name": "python",
   "nbconvert_exporter": "python",
   "pygments_lexer": "ipython3",
   "version": "3.8.10"
  },
  "toc": {
   "base_numbering": 1,
   "nav_menu": {},
   "number_sections": false,
   "sideBar": true,
   "skip_h1_title": true,
   "title_cell": "Table of Contents",
   "title_sidebar": "Contents",
   "toc_cell": false,
   "toc_position": {},
   "toc_section_display": true,
   "toc_window_display": false
  }
 },
 "nbformat": 4,
 "nbformat_minor": 4
}
