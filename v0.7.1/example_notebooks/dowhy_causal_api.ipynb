{
 "cells": [
  {
   "cell_type": "markdown",
   "metadata": {},
   "source": [
    "# Demo for the DoWhy causal API\n",
    "We show a simple example of adding a causal extension to any dataframe. "
   ]
  },
  {
   "cell_type": "code",
   "execution_count": 1,
   "metadata": {
    "execution": {
     "iopub.execute_input": "2022-08-03T08:59:35.168345Z",
     "iopub.status.busy": "2022-08-03T08:59:35.168063Z",
     "iopub.status.idle": "2022-08-03T08:59:36.345263Z",
     "shell.execute_reply": "2022-08-03T08:59:36.344478Z"
    }
   },
   "outputs": [
    {
     "name": "stdout",
     "output_type": "stream",
     "text": [
      "keywords are unexpanded, not using\n"
     ]
    }
   ],
   "source": [
    "import dowhy.datasets\n",
    "import dowhy.api\n",
    "\n",
    "import numpy as np\n",
    "import pandas as pd\n",
    "\n",
    "from statsmodels.api import OLS"
   ]
  },
  {
   "cell_type": "code",
   "execution_count": 2,
   "metadata": {
    "execution": {
     "iopub.execute_input": "2022-08-03T08:59:36.349184Z",
     "iopub.status.busy": "2022-08-03T08:59:36.348693Z",
     "iopub.status.idle": "2022-08-03T08:59:36.397148Z",
     "shell.execute_reply": "2022-08-03T08:59:36.396488Z"
    }
   },
   "outputs": [
    {
     "data": {
      "text/html": [
       "<div>\n",
       "<style scoped>\n",
       "    .dataframe tbody tr th:only-of-type {\n",
       "        vertical-align: middle;\n",
       "    }\n",
       "\n",
       "    .dataframe tbody tr th {\n",
       "        vertical-align: top;\n",
       "    }\n",
       "\n",
       "    .dataframe thead th {\n",
       "        text-align: right;\n",
       "    }\n",
       "</style>\n",
       "<table border=\"1\" class=\"dataframe\">\n",
       "  <thead>\n",
       "    <tr style=\"text-align: right;\">\n",
       "      <th></th>\n",
       "      <th>W0</th>\n",
       "      <th>v0</th>\n",
       "      <th>y</th>\n",
       "    </tr>\n",
       "  </thead>\n",
       "  <tbody>\n",
       "    <tr>\n",
       "      <th>0</th>\n",
       "      <td>1.237826</td>\n",
       "      <td>True</td>\n",
       "      <td>5.785356</td>\n",
       "    </tr>\n",
       "    <tr>\n",
       "      <th>1</th>\n",
       "      <td>0.093665</td>\n",
       "      <td>True</td>\n",
       "      <td>7.114806</td>\n",
       "    </tr>\n",
       "    <tr>\n",
       "      <th>2</th>\n",
       "      <td>-0.904795</td>\n",
       "      <td>False</td>\n",
       "      <td>-0.654123</td>\n",
       "    </tr>\n",
       "    <tr>\n",
       "      <th>3</th>\n",
       "      <td>2.019728</td>\n",
       "      <td>True</td>\n",
       "      <td>5.711129</td>\n",
       "    </tr>\n",
       "    <tr>\n",
       "      <th>4</th>\n",
       "      <td>-0.244941</td>\n",
       "      <td>True</td>\n",
       "      <td>4.927456</td>\n",
       "    </tr>\n",
       "    <tr>\n",
       "      <th>...</th>\n",
       "      <td>...</td>\n",
       "      <td>...</td>\n",
       "      <td>...</td>\n",
       "    </tr>\n",
       "    <tr>\n",
       "      <th>995</th>\n",
       "      <td>0.474943</td>\n",
       "      <td>False</td>\n",
       "      <td>-0.408357</td>\n",
       "    </tr>\n",
       "    <tr>\n",
       "      <th>996</th>\n",
       "      <td>0.291592</td>\n",
       "      <td>True</td>\n",
       "      <td>5.823413</td>\n",
       "    </tr>\n",
       "    <tr>\n",
       "      <th>997</th>\n",
       "      <td>-1.030131</td>\n",
       "      <td>False</td>\n",
       "      <td>-0.567307</td>\n",
       "    </tr>\n",
       "    <tr>\n",
       "      <th>998</th>\n",
       "      <td>0.328965</td>\n",
       "      <td>True</td>\n",
       "      <td>6.065488</td>\n",
       "    </tr>\n",
       "    <tr>\n",
       "      <th>999</th>\n",
       "      <td>0.259052</td>\n",
       "      <td>True</td>\n",
       "      <td>5.979391</td>\n",
       "    </tr>\n",
       "  </tbody>\n",
       "</table>\n",
       "<p>1000 rows × 3 columns</p>\n",
       "</div>"
      ],
      "text/plain": [
       "           W0     v0         y\n",
       "0    1.237826   True  5.785356\n",
       "1    0.093665   True  7.114806\n",
       "2   -0.904795  False -0.654123\n",
       "3    2.019728   True  5.711129\n",
       "4   -0.244941   True  4.927456\n",
       "..        ...    ...       ...\n",
       "995  0.474943  False -0.408357\n",
       "996  0.291592   True  5.823413\n",
       "997 -1.030131  False -0.567307\n",
       "998  0.328965   True  6.065488\n",
       "999  0.259052   True  5.979391\n",
       "\n",
       "[1000 rows x 3 columns]"
      ]
     },
     "execution_count": 2,
     "metadata": {},
     "output_type": "execute_result"
    }
   ],
   "source": [
    "data = dowhy.datasets.linear_dataset(beta=5,\n",
    "        num_common_causes=1,\n",
    "        num_instruments = 0,\n",
    "        num_samples=1000,\n",
    "        treatment_is_binary=True)\n",
    "df = data['df']\n",
    "df['y'] = df['y'] + np.random.normal(size=len(df)) # Adding noise to data. Without noise, the variance in Y|X, Z is zero, and mcmc fails.\n",
    "#data['dot_graph'] = 'digraph { v ->y;X0-> v;X0-> y;}'\n",
    "\n",
    "treatment= data[\"treatment_name\"][0]\n",
    "outcome = data[\"outcome_name\"][0]\n",
    "common_cause = data[\"common_causes_names\"][0]\n",
    "df"
   ]
  },
  {
   "cell_type": "code",
   "execution_count": 3,
   "metadata": {
    "execution": {
     "iopub.execute_input": "2022-08-03T08:59:36.401302Z",
     "iopub.status.busy": "2022-08-03T08:59:36.400840Z",
     "iopub.status.idle": "2022-08-03T08:59:37.187695Z",
     "shell.execute_reply": "2022-08-03T08:59:37.187116Z"
    }
   },
   "outputs": [
    {
     "data": {
      "text/plain": [
       "<AxesSubplot:xlabel='v0'>"
      ]
     },
     "execution_count": 3,
     "metadata": {},
     "output_type": "execute_result"
    },
    {
     "data": {
      "image/png": "[encoded data removed]",
      "text/plain": [
       "<Figure size 432x288 with 1 Axes>"
      ]
     },
     "metadata": {
      "needs_background": "light"
     },
     "output_type": "display_data"
    }
   ],
   "source": [
    "# data['df'] is just a regular pandas.DataFrame\n",
    "df.causal.do(x=treatment,\n",
    "                     variable_types={treatment: 'b', outcome: 'c', common_cause: 'c'},\n",
    "                     outcome=outcome,\n",
    "                     common_causes=[common_cause],\n",
    "                     proceed_when_unidentifiable=True).groupby(treatment).mean().plot(y=outcome, kind='bar')"
   ]
  },
  {
   "cell_type": "code",
   "execution_count": 4,
   "metadata": {
    "execution": {
     "iopub.execute_input": "2022-08-03T08:59:37.191234Z",
     "iopub.status.busy": "2022-08-03T08:59:37.190717Z",
     "iopub.status.idle": "2022-08-03T08:59:37.286185Z",
     "shell.execute_reply": "2022-08-03T08:59:37.285625Z"
    }
   },
   "outputs": [
    {
     "data": {
      "text/plain": [
       "<AxesSubplot:xlabel='v0'>"
      ]
     },
     "execution_count": 4,
     "metadata": {},
     "output_type": "execute_result"
    },
    {
     "data": {
      "image/png": "[encoded data removed]",
      "text/plain": [
       "<Figure size 432x288 with 1 Axes>"
      ]
     },
     "metadata": {
      "needs_background": "light"
     },
     "output_type": "display_data"
    }
   ],
   "source": [
    "df.causal.do(x={treatment: 1}, \n",
    "              variable_types={treatment:'b', outcome: 'c', common_cause: 'c'}, \n",
    "              outcome=outcome,\n",
    "              method='weighting', \n",
    "              common_causes=[common_cause],\n",
    "              proceed_when_unidentifiable=True).groupby(treatment).mean().plot(y=outcome, kind='bar')"
   ]
  },
  {
   "cell_type": "code",
   "execution_count": 5,
   "metadata": {
    "execution": {
     "iopub.execute_input": "2022-08-03T08:59:37.290611Z",
     "iopub.status.busy": "2022-08-03T08:59:37.289571Z",
     "iopub.status.idle": "2022-08-03T08:59:37.320556Z",
     "shell.execute_reply": "2022-08-03T08:59:37.320025Z"
    }
   },
   "outputs": [],
   "source": [
    "cdf_1 = df.causal.do(x={treatment: 1}, \n",
    "              variable_types={treatment: 'b', outcome: 'c', common_cause: 'c'}, \n",
    "              outcome=outcome, \n",
    "              dot_graph=data['dot_graph'],\n",
    "              proceed_when_unidentifiable=True)\n",
    "\n",
    "cdf_0 = df.causal.do(x={treatment: 0}, \n",
    "              variable_types={treatment: 'b', outcome: 'c', common_cause: 'c'}, \n",
    "              outcome=outcome, \n",
    "              dot_graph=data['dot_graph'],\n",
    "              proceed_when_unidentifiable=True)\n"
   ]
  },
  {
   "cell_type": "code",
   "execution_count": 6,
   "metadata": {
    "execution": {
     "iopub.execute_input": "2022-08-03T08:59:37.324822Z",
     "iopub.status.busy": "2022-08-03T08:59:37.323783Z",
     "iopub.status.idle": "2022-08-03T08:59:37.336167Z",
     "shell.execute_reply": "2022-08-03T08:59:37.335595Z"
    },
    "scrolled": true
   },
   "outputs": [
    {
     "data": {
      "text/html": [
       "<div>\n",
       "<style scoped>\n",
       "    .dataframe tbody tr th:only-of-type {\n",
       "        vertical-align: middle;\n",
       "    }\n",
       "\n",
       "    .dataframe tbody tr th {\n",
       "        vertical-align: top;\n",
       "    }\n",
       "\n",
       "    .dataframe thead th {\n",
       "        text-align: right;\n",
       "    }\n",
       "</style>\n",
       "<table border=\"1\" class=\"dataframe\">\n",
       "  <thead>\n",
       "    <tr style=\"text-align: right;\">\n",
       "      <th></th>\n",
       "      <th>W0</th>\n",
       "      <th>v0</th>\n",
       "      <th>y</th>\n",
       "      <th>propensity_score</th>\n",
       "      <th>weight</th>\n",
       "    </tr>\n",
       "  </thead>\n",
       "  <tbody>\n",
       "    <tr>\n",
       "      <th>0</th>\n",
       "      <td>1.151061</td>\n",
       "      <td>False</td>\n",
       "      <td>-0.249701</td>\n",
       "      <td>0.274942</td>\n",
       "      <td>3.637125</td>\n",
       "    </tr>\n",
       "    <tr>\n",
       "      <th>1</th>\n",
       "      <td>0.583909</td>\n",
       "      <td>False</td>\n",
       "      <td>-1.142979</td>\n",
       "      <td>0.384252</td>\n",
       "      <td>2.602456</td>\n",
       "    </tr>\n",
       "    <tr>\n",
       "      <th>2</th>\n",
       "      <td>-0.837617</td>\n",
       "      <td>False</td>\n",
       "      <td>-0.595851</td>\n",
       "      <td>0.685043</td>\n",
       "      <td>1.459763</td>\n",
       "    </tr>\n",
       "    <tr>\n",
       "      <th>3</th>\n",
       "      <td>-0.391391</td>\n",
       "      <td>False</td>\n",
       "      <td>-0.339645</td>\n",
       "      <td>0.595104</td>\n",
       "      <td>1.680378</td>\n",
       "    </tr>\n",
       "    <tr>\n",
       "      <th>4</th>\n",
       "      <td>0.211298</td>\n",
       "      <td>False</td>\n",
       "      <td>1.012890</td>\n",
       "      <td>0.463998</td>\n",
       "      <td>2.155183</td>\n",
       "    </tr>\n",
       "    <tr>\n",
       "      <th>...</th>\n",
       "      <td>...</td>\n",
       "      <td>...</td>\n",
       "      <td>...</td>\n",
       "      <td>...</td>\n",
       "      <td>...</td>\n",
       "    </tr>\n",
       "    <tr>\n",
       "      <th>995</th>\n",
       "      <td>-0.396743</td>\n",
       "      <td>False</td>\n",
       "      <td>-0.211002</td>\n",
       "      <td>0.596237</td>\n",
       "      <td>1.677187</td>\n",
       "    </tr>\n",
       "    <tr>\n",
       "      <th>996</th>\n",
       "      <td>-0.937260</td>\n",
       "      <td>False</td>\n",
       "      <td>-1.334596</td>\n",
       "      <td>0.703614</td>\n",
       "      <td>1.421235</td>\n",
       "    </tr>\n",
       "    <tr>\n",
       "      <th>997</th>\n",
       "      <td>-0.149952</td>\n",
       "      <td>False</td>\n",
       "      <td>-1.184247</td>\n",
       "      <td>0.543153</td>\n",
       "      <td>1.841103</td>\n",
       "    </tr>\n",
       "    <tr>\n",
       "      <th>998</th>\n",
       "      <td>0.090830</td>\n",
       "      <td>False</td>\n",
       "      <td>-0.137512</td>\n",
       "      <td>0.490390</td>\n",
       "      <td>2.039195</td>\n",
       "    </tr>\n",
       "    <tr>\n",
       "      <th>999</th>\n",
       "      <td>-0.291555</td>\n",
       "      <td>False</td>\n",
       "      <td>1.122518</td>\n",
       "      <td>0.573811</td>\n",
       "      <td>1.742734</td>\n",
       "    </tr>\n",
       "  </tbody>\n",
       "</table>\n",
       "<p>1000 rows × 5 columns</p>\n",
       "</div>"
      ],
      "text/plain": [
       "           W0     v0         y  propensity_score    weight\n",
       "0    1.151061  False -0.249701          0.274942  3.637125\n",
       "1    0.583909  False -1.142979          0.384252  2.602456\n",
       "2   -0.837617  False -0.595851          0.685043  1.459763\n",
       "3   -0.391391  False -0.339645          0.595104  1.680378\n",
       "4    0.211298  False  1.012890          0.463998  2.155183\n",
       "..        ...    ...       ...               ...       ...\n",
       "995 -0.396743  False -0.211002          0.596237  1.677187\n",
       "996 -0.937260  False -1.334596          0.703614  1.421235\n",
       "997 -0.149952  False -1.184247          0.543153  1.841103\n",
       "998  0.090830  False -0.137512          0.490390  2.039195\n",
       "999 -0.291555  False  1.122518          0.573811  1.742734\n",
       "\n",
       "[1000 rows x 5 columns]"
      ]
     },
     "execution_count": 6,
     "metadata": {},
     "output_type": "execute_result"
    }
   ],
   "source": [
    "cdf_0"
   ]
  },
  {
   "cell_type": "code",
   "execution_count": 7,
   "metadata": {
    "execution": {
     "iopub.execute_input": "2022-08-03T08:59:37.338911Z",
     "iopub.status.busy": "2022-08-03T08:59:37.338688Z",
     "iopub.status.idle": "2022-08-03T08:59:37.350420Z",
     "shell.execute_reply": "2022-08-03T08:59:37.349853Z"
    }
   },
   "outputs": [
    {
     "data": {
      "text/html": [
       "<div>\n",
       "<style scoped>\n",
       "    .dataframe tbody tr th:only-of-type {\n",
       "        vertical-align: middle;\n",
       "    }\n",
       "\n",
       "    .dataframe tbody tr th {\n",
       "        vertical-align: top;\n",
       "    }\n",
       "\n",
       "    .dataframe thead th {\n",
       "        text-align: right;\n",
       "    }\n",
       "</style>\n",
       "<table border=\"1\" class=\"dataframe\">\n",
       "  <thead>\n",
       "    <tr style=\"text-align: right;\">\n",
       "      <th></th>\n",
       "      <th>W0</th>\n",
       "      <th>v0</th>\n",
       "      <th>y</th>\n",
       "      <th>propensity_score</th>\n",
       "      <th>weight</th>\n",
       "    </tr>\n",
       "  </thead>\n",
       "  <tbody>\n",
       "    <tr>\n",
       "      <th>0</th>\n",
       "      <td>0.274685</td>\n",
       "      <td>True</td>\n",
       "      <td>4.242270</td>\n",
       "      <td>0.549818</td>\n",
       "      <td>1.818785</td>\n",
       "    </tr>\n",
       "    <tr>\n",
       "      <th>1</th>\n",
       "      <td>-0.458963</td>\n",
       "      <td>True</td>\n",
       "      <td>6.288738</td>\n",
       "      <td>0.390679</td>\n",
       "      <td>2.559645</td>\n",
       "    </tr>\n",
       "    <tr>\n",
       "      <th>2</th>\n",
       "      <td>-0.698588</td>\n",
       "      <td>True</td>\n",
       "      <td>4.364895</td>\n",
       "      <td>0.341879</td>\n",
       "      <td>2.925009</td>\n",
       "    </tr>\n",
       "    <tr>\n",
       "      <th>3</th>\n",
       "      <td>1.365951</td>\n",
       "      <td>True</td>\n",
       "      <td>5.050833</td>\n",
       "      <td>0.761048</td>\n",
       "      <td>1.313977</td>\n",
       "    </tr>\n",
       "    <tr>\n",
       "      <th>4</th>\n",
       "      <td>-1.363955</td>\n",
       "      <td>True</td>\n",
       "      <td>4.802980</td>\n",
       "      <td>0.224549</td>\n",
       "      <td>4.453363</td>\n",
       "    </tr>\n",
       "    <tr>\n",
       "      <th>...</th>\n",
       "      <td>...</td>\n",
       "      <td>...</td>\n",
       "      <td>...</td>\n",
       "      <td>...</td>\n",
       "      <td>...</td>\n",
       "    </tr>\n",
       "    <tr>\n",
       "      <th>995</th>\n",
       "      <td>-0.888151</td>\n",
       "      <td>True</td>\n",
       "      <td>4.647860</td>\n",
       "      <td>0.305460</td>\n",
       "      <td>3.273751</td>\n",
       "    </tr>\n",
       "    <tr>\n",
       "      <th>996</th>\n",
       "      <td>0.743729</td>\n",
       "      <td>True</td>\n",
       "      <td>6.299105</td>\n",
       "      <td>0.648377</td>\n",
       "      <td>1.542312</td>\n",
       "    </tr>\n",
       "    <tr>\n",
       "      <th>997</th>\n",
       "      <td>0.264437</td>\n",
       "      <td>True</td>\n",
       "      <td>5.184571</td>\n",
       "      <td>0.547589</td>\n",
       "      <td>1.826188</td>\n",
       "    </tr>\n",
       "    <tr>\n",
       "      <th>998</th>\n",
       "      <td>1.627863</td>\n",
       "      <td>True</td>\n",
       "      <td>4.160355</td>\n",
       "      <td>0.800350</td>\n",
       "      <td>1.249453</td>\n",
       "    </tr>\n",
       "    <tr>\n",
       "      <th>999</th>\n",
       "      <td>-1.508661</td>\n",
       "      <td>True</td>\n",
       "      <td>5.130275</td>\n",
       "      <td>0.203194</td>\n",
       "      <td>4.921403</td>\n",
       "    </tr>\n",
       "  </tbody>\n",
       "</table>\n",
       "<p>1000 rows × 5 columns</p>\n",
       "</div>"
      ],
      "text/plain": [
       "           W0    v0         y  propensity_score    weight\n",
       "0    0.274685  True  4.242270          0.549818  1.818785\n",
       "1   -0.458963  True  6.288738          0.390679  2.559645\n",
       "2   -0.698588  True  4.364895          0.341879  2.925009\n",
       "3    1.365951  True  5.050833          0.761048  1.313977\n",
       "4   -1.363955  True  4.802980          0.224549  4.453363\n",
       "..        ...   ...       ...               ...       ...\n",
       "995 -0.888151  True  4.647860          0.305460  3.273751\n",
       "996  0.743729  True  6.299105          0.648377  1.542312\n",
       "997  0.264437  True  5.184571          0.547589  1.826188\n",
       "998  1.627863  True  4.160355          0.800350  1.249453\n",
       "999 -1.508661  True  5.130275          0.203194  4.921403\n",
       "\n",
       "[1000 rows x 5 columns]"
      ]
     },
     "execution_count": 7,
     "metadata": {},
     "output_type": "execute_result"
    }
   ],
   "source": [
    "cdf_1"
   ]
  },
  {
   "cell_type": "markdown",
   "metadata": {},
   "source": [
    "## Comparing the estimate to Linear Regression\n",
    "First, estimating the effect using the causal data frame, and the 95% confidence interval."
   ]
  },
  {
   "cell_type": "code",
   "execution_count": 8,
   "metadata": {
    "execution": {
     "iopub.execute_input": "2022-08-03T08:59:37.353311Z",
     "iopub.status.busy": "2022-08-03T08:59:37.353088Z",
     "iopub.status.idle": "2022-08-03T08:59:37.452725Z",
     "shell.execute_reply": "2022-08-03T08:59:37.451947Z"
    }
   },
   "outputs": [
    {
     "data": {
      "image/png": "[encoded data removed]",
      "text/latex": [
       "$\\displaystyle 5.02920399788259$"
      ],
      "text/plain": [
       "5.029203997882594"
      ]
     },
     "execution_count": 8,
     "metadata": {},
     "output_type": "execute_result"
    }
   ],
   "source": [
    "(cdf_1['y'] - cdf_0['y']).mean()"
   ]
  },
  {
   "cell_type": "code",
   "execution_count": 9,
   "metadata": {
    "execution": {
     "iopub.execute_input": "2022-08-03T08:59:37.456267Z",
     "iopub.status.busy": "2022-08-03T08:59:37.456030Z",
     "iopub.status.idle": "2022-08-03T08:59:37.481530Z",
     "shell.execute_reply": "2022-08-03T08:59:37.480815Z"
    }
   },
   "outputs": [
    {
     "data": {
      "image/png": "[encoded data removed]",
      "text/latex": [
       "$\\displaystyle 0.0923709322585355$"
      ],
      "text/plain": [
       "0.09237093225853549"
      ]
     },
     "execution_count": 9,
     "metadata": {},
     "output_type": "execute_result"
    }
   ],
   "source": [
    "1.96*(cdf_1['y'] - cdf_0['y']).std() / np.sqrt(len(df))"
   ]
  },
  {
   "cell_type": "markdown",
   "metadata": {},
   "source": [
    "Comparing to the estimate from OLS."
   ]
  },
  {
   "cell_type": "code",
   "execution_count": 10,
   "metadata": {
    "execution": {
     "iopub.execute_input": "2022-08-03T08:59:37.485104Z",
     "iopub.status.busy": "2022-08-03T08:59:37.484869Z",
     "iopub.status.idle": "2022-08-03T08:59:37.502423Z",
     "shell.execute_reply": "2022-08-03T08:59:37.501816Z"
    }
   },
   "outputs": [
    {
     "data": {
      "text/html": [
       "<table class=\"simpletable\">\n",
       "<caption>OLS Regression Results</caption>\n",
       "<tr>\n",
       "  <th>Dep. Variable:</th>            <td>y</td>        <th>  R-squared (uncentered):</th>      <td>   0.930</td>\n",
       "</tr>\n",
       "<tr>\n",
       "  <th>Model:</th>                   <td>OLS</td>       <th>  Adj. R-squared (uncentered):</th> <td>   0.930</td>\n",
       "</tr>\n",
       "<tr>\n",
       "  <th>Method:</th>             <td>Least Squares</td>  <th>  F-statistic:       </th>          <td>   6621.</td>\n",
       "</tr>\n",
       "<tr>\n",
       "  <th>Date:</th>             <td>Wed, 03 Aug 2022</td> <th>  Prob (F-statistic):</th>           <td>  0.00</td> \n",
       "</tr>\n",
       "<tr>\n",
       "  <th>Time:</th>                 <td>08:59:37</td>     <th>  Log-Likelihood:    </th>          <td> -1407.2</td>\n",
       "</tr>\n",
       "<tr>\n",
       "  <th>No. Observations:</th>      <td>  1000</td>      <th>  AIC:               </th>          <td>   2818.</td>\n",
       "</tr>\n",
       "<tr>\n",
       "  <th>Df Residuals:</th>          <td>   998</td>      <th>  BIC:               </th>          <td>   2828.</td>\n",
       "</tr>\n",
       "<tr>\n",
       "  <th>Df Model:</th>              <td>     2</td>      <th>                     </th>              <td> </td>   \n",
       "</tr>\n",
       "<tr>\n",
       "  <th>Covariance Type:</th>      <td>nonrobust</td>    <th>                     </th>              <td> </td>   \n",
       "</tr>\n",
       "</table>\n",
       "<table class=\"simpletable\">\n",
       "<tr>\n",
       "   <td></td>     <th>coef</th>     <th>std err</th>      <th>t</th>      <th>P>|t|</th>  <th>[0.025</th>    <th>0.975]</th>  \n",
       "</tr>\n",
       "<tr>\n",
       "  <th>x1</th> <td>    0.4559</td> <td>    0.032</td> <td>   14.205</td> <td> 0.000</td> <td>    0.393</td> <td>    0.519</td>\n",
       "</tr>\n",
       "<tr>\n",
       "  <th>x2</th> <td>    5.0221</td> <td>    0.046</td> <td>  108.255</td> <td> 0.000</td> <td>    4.931</td> <td>    5.113</td>\n",
       "</tr>\n",
       "</table>\n",
       "<table class=\"simpletable\">\n",
       "<tr>\n",
       "  <th>Omnibus:</th>       <td> 0.865</td> <th>  Durbin-Watson:     </th> <td>   1.993</td>\n",
       "</tr>\n",
       "<tr>\n",
       "  <th>Prob(Omnibus):</th> <td> 0.649</td> <th>  Jarque-Bera (JB):  </th> <td>   0.748</td>\n",
       "</tr>\n",
       "<tr>\n",
       "  <th>Skew:</th>          <td> 0.055</td> <th>  Prob(JB):          </th> <td>   0.688</td>\n",
       "</tr>\n",
       "<tr>\n",
       "  <th>Kurtosis:</th>      <td> 3.076</td> <th>  Cond. No.          </th> <td>    1.54</td>\n",
       "</tr>\n",
       "</table><br/><br/>Notes:<br/>[1] R² is computed without centering (uncentered) since the model does not contain a constant.<br/>[2] Standard Errors assume that the covariance matrix of the errors is correctly specified."
      ],
      "text/plain": [
       "<class 'statsmodels.iolib.summary.Summary'>\n",
       "\"\"\"\n",
       "                                 OLS Regression Results                                \n",
       "=======================================================================================\n",
       "Dep. Variable:                      y   R-squared (uncentered):                   0.930\n",
       "Model:                            OLS   Adj. R-squared (uncentered):              0.930\n",
       "Method:                 Least Squares   F-statistic:                              6621.\n",
       "Date:                Wed, 03 Aug 2022   Prob (F-statistic):                        0.00\n",
       "Time:                        08:59:37   Log-Likelihood:                         -1407.2\n",
       "No. Observations:                1000   AIC:                                      2818.\n",
       "Df Residuals:                     998   BIC:                                      2828.\n",
       "Df Model:                           2                                                  \n",
       "Covariance Type:            nonrobust                                                  \n",
       "==============================================================================\n",
       "                 coef    std err          t      P>|t|      [0.025      0.975]\n",
       "------------------------------------------------------------------------------\n",
       "x1             0.4559      0.032     14.205      0.000       0.393       0.519\n",
       "x2             5.0221      0.046    108.255      0.000       4.931       5.113\n",
       "==============================================================================\n",
       "Omnibus:                        0.865   Durbin-Watson:                   1.993\n",
       "Prob(Omnibus):                  0.649   Jarque-Bera (JB):                0.748\n",
       "Skew:                           0.055   Prob(JB):                        0.688\n",
       "Kurtosis:                       3.076   Cond. No.                         1.54\n",
       "==============================================================================\n",
       "\n",
       "Notes:\n",
       "[1] R² is computed without centering (uncentered) since the model does not contain a constant.\n",
       "[2] Standard Errors assume that the covariance matrix of the errors is correctly specified.\n",
       "\"\"\""
      ]
     },
     "execution_count": 10,
     "metadata": {},
     "output_type": "execute_result"
    }
   ],
   "source": [
    "model = OLS(np.asarray(df[outcome]), np.asarray(df[[common_cause, treatment]], dtype=np.float64))\n",
    "result = model.fit()\n",
    "result.summary()"
   ]
  }
 ],
 "metadata": {
  "kernelspec": {
   "display_name": "Python 3",
   "language": "python",
   "name": "python3"
  },
  "language_info": {
   "codemirror_mode": {
    "name": "ipython",
    "version": 3
   },
   "file_extension": ".py",
   "mimetype": "text/x-python",
   "name": "python",
   "nbconvert_exporter": "python",
   "pygments_lexer": "ipython3",
   "version": "3.8.10"
  },
  "toc": {
   "base_numbering": 1,
   "nav_menu": {},
   "number_sections": false,
   "sideBar": true,
   "skip_h1_title": true,
   "title_cell": "Table of Contents",
   "title_sidebar": "Contents",
   "toc_cell": false,
   "toc_position": {},
   "toc_section_display": true,
   "toc_window_display": false
  }
 },
 "nbformat": 4,
 "nbformat_minor": 4
}
