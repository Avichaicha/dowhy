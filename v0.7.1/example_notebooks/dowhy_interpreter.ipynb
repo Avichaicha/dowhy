{
 "cells": [
  {
   "cell_type": "markdown",
   "id": "75aa7380",
   "metadata": {},
   "source": [
    "# DoWhy: Interpreters for Causal Estimators\n",
    "\n",
    "This is a quick introduction to the use of interpreters in the DoWhy causal inference library.\n",
    "We will load in a sample dataset, use different methods for estimating the causal effect of a (pre-specified)treatment variable on a (pre-specified) outcome variable and demonstrate how to interpret the obtained results.\n",
    "\n",
    "First, let us add the required path for Python to find the DoWhy code and load all required packages"
   ]
  },
  {
   "cell_type": "code",
   "execution_count": 1,
   "id": "391d7e6b",
   "metadata": {
    "execution": {
     "iopub.execute_input": "2022-08-13T01:37:41.474383Z",
     "iopub.status.busy": "2022-08-13T01:37:41.474087Z",
     "iopub.status.idle": "2022-08-13T01:37:41.489943Z",
     "shell.execute_reply": "2022-08-13T01:37:41.489312Z"
    }
   },
   "outputs": [],
   "source": [
    "%load_ext autoreload\n",
    "%autoreload 2"
   ]
  },
  {
   "cell_type": "code",
   "execution_count": 2,
   "id": "165ee05c",
   "metadata": {
    "execution": {
     "iopub.execute_input": "2022-08-13T01:37:41.493467Z",
     "iopub.status.busy": "2022-08-13T01:37:41.493056Z",
     "iopub.status.idle": "2022-08-13T01:37:42.513666Z",
     "shell.execute_reply": "2022-08-13T01:37:42.512881Z"
    }
   },
   "outputs": [],
   "source": [
    "import numpy as np\n",
    "import pandas as pd\n",
    "import logging\n",
    "\n",
    "import dowhy\n",
    "from dowhy import CausalModel\n",
    "import dowhy.datasets "
   ]
  },
  {
   "cell_type": "markdown",
   "id": "041797e6",
   "metadata": {},
   "source": [
    "Now, let us load a dataset. For simplicity, we simulate a dataset with linear relationships between common causes and treatment, and common causes and outcome.\n",
    "\n",
    "Beta is the true causal effect."
   ]
  },
  {
   "cell_type": "code",
   "execution_count": 3,
   "id": "0e0e5973",
   "metadata": {
    "execution": {
     "iopub.execute_input": "2022-08-13T01:37:42.518215Z",
     "iopub.status.busy": "2022-08-13T01:37:42.517640Z",
     "iopub.status.idle": "2022-08-13T01:37:42.800594Z",
     "shell.execute_reply": "2022-08-13T01:37:42.800032Z"
    }
   },
   "outputs": [
    {
     "name": "stdout",
     "output_type": "stream",
     "text": [
      "9715\n"
     ]
    },
    {
     "data": {
      "text/html": [
       "<div>\n",
       "<style scoped>\n",
       "    .dataframe tbody tr th:only-of-type {\n",
       "        vertical-align: middle;\n",
       "    }\n",
       "\n",
       "    .dataframe tbody tr th {\n",
       "        vertical-align: top;\n",
       "    }\n",
       "\n",
       "    .dataframe thead th {\n",
       "        text-align: right;\n",
       "    }\n",
       "</style>\n",
       "<table border=\"1\" class=\"dataframe\">\n",
       "  <thead>\n",
       "    <tr style=\"text-align: right;\">\n",
       "      <th></th>\n",
       "      <th>Z0</th>\n",
       "      <th>Z1</th>\n",
       "      <th>W0</th>\n",
       "      <th>W1</th>\n",
       "      <th>W2</th>\n",
       "      <th>W3</th>\n",
       "      <th>W4</th>\n",
       "      <th>v0</th>\n",
       "      <th>y</th>\n",
       "    </tr>\n",
       "  </thead>\n",
       "  <tbody>\n",
       "    <tr>\n",
       "      <th>0</th>\n",
       "      <td>1.0</td>\n",
       "      <td>0.399229</td>\n",
       "      <td>-0.194600</td>\n",
       "      <td>2.549830</td>\n",
       "      <td>1.144618</td>\n",
       "      <td>-0.473204</td>\n",
       "      <td>0</td>\n",
       "      <td>True</td>\n",
       "      <td>3.388690</td>\n",
       "    </tr>\n",
       "    <tr>\n",
       "      <th>1</th>\n",
       "      <td>1.0</td>\n",
       "      <td>0.812673</td>\n",
       "      <td>-1.210829</td>\n",
       "      <td>-0.411446</td>\n",
       "      <td>-1.352307</td>\n",
       "      <td>0.226669</td>\n",
       "      <td>3</td>\n",
       "      <td>True</td>\n",
       "      <td>1.525972</td>\n",
       "    </tr>\n",
       "    <tr>\n",
       "      <th>2</th>\n",
       "      <td>0.0</td>\n",
       "      <td>0.322681</td>\n",
       "      <td>-0.160179</td>\n",
       "      <td>0.561464</td>\n",
       "      <td>1.107353</td>\n",
       "      <td>2.215528</td>\n",
       "      <td>2</td>\n",
       "      <td>True</td>\n",
       "      <td>5.484914</td>\n",
       "    </tr>\n",
       "    <tr>\n",
       "      <th>3</th>\n",
       "      <td>1.0</td>\n",
       "      <td>0.499925</td>\n",
       "      <td>0.094669</td>\n",
       "      <td>0.123043</td>\n",
       "      <td>-0.482375</td>\n",
       "      <td>1.033806</td>\n",
       "      <td>0</td>\n",
       "      <td>False</td>\n",
       "      <td>0.269739</td>\n",
       "    </tr>\n",
       "    <tr>\n",
       "      <th>4</th>\n",
       "      <td>1.0</td>\n",
       "      <td>0.993004</td>\n",
       "      <td>0.378484</td>\n",
       "      <td>-1.096863</td>\n",
       "      <td>1.133316</td>\n",
       "      <td>0.127207</td>\n",
       "      <td>2</td>\n",
       "      <td>True</td>\n",
       "      <td>3.565719</td>\n",
       "    </tr>\n",
       "    <tr>\n",
       "      <th>...</th>\n",
       "      <td>...</td>\n",
       "      <td>...</td>\n",
       "      <td>...</td>\n",
       "      <td>...</td>\n",
       "      <td>...</td>\n",
       "      <td>...</td>\n",
       "      <td>...</td>\n",
       "      <td>...</td>\n",
       "      <td>...</td>\n",
       "    </tr>\n",
       "    <tr>\n",
       "      <th>9995</th>\n",
       "      <td>1.0</td>\n",
       "      <td>0.189010</td>\n",
       "      <td>-1.780875</td>\n",
       "      <td>1.024840</td>\n",
       "      <td>-1.536993</td>\n",
       "      <td>-1.965628</td>\n",
       "      <td>2</td>\n",
       "      <td>True</td>\n",
       "      <td>-0.298452</td>\n",
       "    </tr>\n",
       "    <tr>\n",
       "      <th>9996</th>\n",
       "      <td>1.0</td>\n",
       "      <td>0.906442</td>\n",
       "      <td>0.240224</td>\n",
       "      <td>0.422042</td>\n",
       "      <td>1.091360</td>\n",
       "      <td>2.758694</td>\n",
       "      <td>2</td>\n",
       "      <td>True</td>\n",
       "      <td>5.942930</td>\n",
       "    </tr>\n",
       "    <tr>\n",
       "      <th>9997</th>\n",
       "      <td>1.0</td>\n",
       "      <td>0.670973</td>\n",
       "      <td>-0.279690</td>\n",
       "      <td>1.093673</td>\n",
       "      <td>-0.644978</td>\n",
       "      <td>2.599970</td>\n",
       "      <td>0</td>\n",
       "      <td>True</td>\n",
       "      <td>2.394871</td>\n",
       "    </tr>\n",
       "    <tr>\n",
       "      <th>9998</th>\n",
       "      <td>1.0</td>\n",
       "      <td>0.225299</td>\n",
       "      <td>0.357719</td>\n",
       "      <td>1.218642</td>\n",
       "      <td>2.498848</td>\n",
       "      <td>0.450822</td>\n",
       "      <td>0</td>\n",
       "      <td>True</td>\n",
       "      <td>4.722756</td>\n",
       "    </tr>\n",
       "    <tr>\n",
       "      <th>9999</th>\n",
       "      <td>1.0</td>\n",
       "      <td>0.708951</td>\n",
       "      <td>-2.504920</td>\n",
       "      <td>0.149242</td>\n",
       "      <td>1.356687</td>\n",
       "      <td>0.160001</td>\n",
       "      <td>1</td>\n",
       "      <td>True</td>\n",
       "      <td>1.683298</td>\n",
       "    </tr>\n",
       "  </tbody>\n",
       "</table>\n",
       "<p>10000 rows × 9 columns</p>\n",
       "</div>"
      ],
      "text/plain": [
       "       Z0        Z1        W0        W1        W2        W3 W4     v0  \\\n",
       "0     1.0  0.399229 -0.194600  2.549830  1.144618 -0.473204  0   True   \n",
       "1     1.0  0.812673 -1.210829 -0.411446 -1.352307  0.226669  3   True   \n",
       "2     0.0  0.322681 -0.160179  0.561464  1.107353  2.215528  2   True   \n",
       "3     1.0  0.499925  0.094669  0.123043 -0.482375  1.033806  0  False   \n",
       "4     1.0  0.993004  0.378484 -1.096863  1.133316  0.127207  2   True   \n",
       "...   ...       ...       ...       ...       ...       ... ..    ...   \n",
       "9995  1.0  0.189010 -1.780875  1.024840 -1.536993 -1.965628  2   True   \n",
       "9996  1.0  0.906442  0.240224  0.422042  1.091360  2.758694  2   True   \n",
       "9997  1.0  0.670973 -0.279690  1.093673 -0.644978  2.599970  0   True   \n",
       "9998  1.0  0.225299  0.357719  1.218642  2.498848  0.450822  0   True   \n",
       "9999  1.0  0.708951 -2.504920  0.149242  1.356687  0.160001  1   True   \n",
       "\n",
       "             y  \n",
       "0     3.388690  \n",
       "1     1.525972  \n",
       "2     5.484914  \n",
       "3     0.269739  \n",
       "4     3.565719  \n",
       "...        ...  \n",
       "9995 -0.298452  \n",
       "9996  5.942930  \n",
       "9997  2.394871  \n",
       "9998  4.722756  \n",
       "9999  1.683298  \n",
       "\n",
       "[10000 rows x 9 columns]"
      ]
     },
     "execution_count": 3,
     "metadata": {},
     "output_type": "execute_result"
    }
   ],
   "source": [
    "data = dowhy.datasets.linear_dataset(beta=1,\n",
    "        num_common_causes=5, \n",
    "        num_instruments = 2,\n",
    "        num_treatments=1,\n",
    "        num_discrete_common_causes=1,\n",
    "        num_samples=10000,\n",
    "        treatment_is_binary=True,\n",
    "        outcome_is_binary=False)\n",
    "df = data[\"df\"]\n",
    "print(df[df.v0==True].shape[0])\n",
    "df"
   ]
  },
  {
   "cell_type": "markdown",
   "id": "ea057abb",
   "metadata": {},
   "source": [
    "Note that we are using a pandas dataframe to load the data."
   ]
  },
  {
   "cell_type": "markdown",
   "id": "33d39ef7",
   "metadata": {},
   "source": [
    "## Identifying the causal estimand"
   ]
  },
  {
   "cell_type": "markdown",
   "id": "be4177ae",
   "metadata": {},
   "source": [
    "We now input a causal graph in the GML graph format."
   ]
  },
  {
   "cell_type": "code",
   "execution_count": 4,
   "id": "1500a6a0",
   "metadata": {
    "execution": {
     "iopub.execute_input": "2022-08-13T01:37:42.804121Z",
     "iopub.status.busy": "2022-08-13T01:37:42.803763Z",
     "iopub.status.idle": "2022-08-13T01:37:42.828720Z",
     "shell.execute_reply": "2022-08-13T01:37:42.828117Z"
    }
   },
   "outputs": [],
   "source": [
    "# With graph\n",
    "model=CausalModel(\n",
    "        data = df,\n",
    "        treatment=data[\"treatment_name\"],\n",
    "        outcome=data[\"outcome_name\"],\n",
    "        graph=data[\"gml_graph\"],\n",
    "        instruments=data[\"instrument_names\"]\n",
    "        )"
   ]
  },
  {
   "cell_type": "code",
   "execution_count": 5,
   "id": "fd2a2971",
   "metadata": {
    "execution": {
     "iopub.execute_input": "2022-08-13T01:37:42.833026Z",
     "iopub.status.busy": "2022-08-13T01:37:42.831964Z",
     "iopub.status.idle": "2022-08-13T01:37:42.883813Z",
     "shell.execute_reply": "2022-08-13T01:37:42.883134Z"
    }
   },
   "outputs": [],
   "source": [
    "model.view_model()"
   ]
  },
  {
   "cell_type": "code",
   "execution_count": 6,
   "id": "f0085137",
   "metadata": {
    "execution": {
     "iopub.execute_input": "2022-08-13T01:37:42.887261Z",
     "iopub.status.busy": "2022-08-13T01:37:42.886860Z",
     "iopub.status.idle": "2022-08-13T01:37:42.913460Z",
     "shell.execute_reply": "2022-08-13T01:37:42.912754Z"
    }
   },
   "outputs": [
    {
     "data": {
      "image/png": "[encoded data removed]",
      "text/plain": [
       "<IPython.core.display.Image object>"
      ]
     },
     "metadata": {},
     "output_type": "display_data"
    }
   ],
   "source": [
    "from IPython.display import Image, display\n",
    "display(Image(filename=\"causal_model.png\"))"
   ]
  },
  {
   "cell_type": "markdown",
   "id": "9f99c2f3",
   "metadata": {},
   "source": [
    "We get a causal graph. Now identification and estimation is done."
   ]
  },
  {
   "cell_type": "code",
   "execution_count": 7,
   "id": "79a9039d",
   "metadata": {
    "execution": {
     "iopub.execute_input": "2022-08-13T01:37:42.917137Z",
     "iopub.status.busy": "2022-08-13T01:37:42.916703Z",
     "iopub.status.idle": "2022-08-13T01:37:43.122104Z",
     "shell.execute_reply": "2022-08-13T01:37:43.121359Z"
    }
   },
   "outputs": [
    {
     "name": "stdout",
     "output_type": "stream",
     "text": [
      "Estimand type: nonparametric-ate\n",
      "\n",
      "### Estimand : 1\n",
      "Estimand name: backdoor\n",
      "Estimand expression:\n",
      "  d                       \n",
      "─────(E[y|W2,W0,W1,W3,W4])\n",
      "d[v₀]                     \n",
      "Estimand assumption 1, Unconfoundedness: If U→{v0} and U→y then P(y|v0,W2,W0,W1,W3,W4,U) = P(y|v0,W2,W0,W1,W3,W4)\n",
      "\n",
      "### Estimand : 2\n",
      "Estimand name: iv\n",
      "Estimand expression:\n",
      " ⎡                              -1⎤\n",
      " ⎢    d        ⎛    d          ⎞  ⎥\n",
      "E⎢─────────(y)⋅⎜─────────([v₀])⎟  ⎥\n",
      " ⎣d[Z₁  Z₀]    ⎝d[Z₁  Z₀]      ⎠  ⎦\n",
      "Estimand assumption 1, As-if-random: If U→→y then ¬(U →→{Z1,Z0})\n",
      "Estimand assumption 2, Exclusion: If we remove {Z1,Z0}→{v0}, then ¬({Z1,Z0}→y)\n",
      "\n",
      "### Estimand : 3\n",
      "Estimand name: frontdoor\n",
      "No such variable(s) found!\n",
      "\n"
     ]
    }
   ],
   "source": [
    "identified_estimand = model.identify_effect(proceed_when_unidentifiable=True)\n",
    "print(identified_estimand)"
   ]
  },
  {
   "cell_type": "markdown",
   "id": "20e58070",
   "metadata": {},
   "source": [
    "## Method 1: Propensity Score Stratification\n",
    "\n",
    "We will be using propensity scores to stratify units in the data."
   ]
  },
  {
   "cell_type": "code",
   "execution_count": 8,
   "id": "e431488c",
   "metadata": {
    "execution": {
     "iopub.execute_input": "2022-08-13T01:37:43.125493Z",
     "iopub.status.busy": "2022-08-13T01:37:43.125230Z",
     "iopub.status.idle": "2022-08-13T01:37:43.926430Z",
     "shell.execute_reply": "2022-08-13T01:37:43.925751Z"
    }
   },
   "outputs": [
    {
     "name": "stdout",
     "output_type": "stream",
     "text": [
      "propensity_score_stratification\n"
     ]
    },
    {
     "name": "stderr",
     "output_type": "stream",
     "text": [
      "/github/home/.cache/pypoetry/virtualenvs/dowhy-oN2hW5jr-py3.8/lib/python3.8/site-packages/sklearn/utils/validation.py:993: DataConversionWarning: A column-vector y was passed when a 1d array was expected. Please change the shape of y to (n_samples, ), for example using ravel().\n",
      "  y = column_or_1d(y, warn=True)\n"
     ]
    },
    {
     "name": "stdout",
     "output_type": "stream",
     "text": [
      "*** Causal Estimate ***\n",
      "\n",
      "## Identified estimand\n",
      "Estimand type: nonparametric-ate\n",
      "\n",
      "### Estimand : 1\n",
      "Estimand name: backdoor\n",
      "Estimand expression:\n",
      "  d                       \n",
      "─────(E[y|W2,W0,W1,W3,W4])\n",
      "d[v₀]                     \n",
      "Estimand assumption 1, Unconfoundedness: If U→{v0} and U→y then P(y|v0,W2,W0,W1,W3,W4,U) = P(y|v0,W2,W0,W1,W3,W4)\n",
      "\n",
      "## Realized estimand\n",
      "b: y~v0+W2+W0+W1+W3+W4\n",
      "Target units: att\n",
      "\n",
      "## Estimate\n",
      "Mean value: 1.0741609871079654\n",
      "\n",
      "Causal Estimate is 1.0741609871079654\n"
     ]
    }
   ],
   "source": [
    "causal_estimate_strat = model.estimate_effect(identified_estimand,\n",
    "                                              method_name=\"backdoor.propensity_score_stratification\",\n",
    "                                              target_units=\"att\")\n",
    "print(causal_estimate_strat)\n",
    "print(\"Causal Estimate is \" + str(causal_estimate_strat.value))"
   ]
  },
  {
   "cell_type": "markdown",
   "id": "841e6c4d",
   "metadata": {},
   "source": [
    "### Textual Interpreter\n",
    "\n",
    "The textual Interpreter describes (in words) the effect of unit change in the treatment variable on the outcome variable."
   ]
  },
  {
   "cell_type": "code",
   "execution_count": 9,
   "id": "834616a5",
   "metadata": {
    "execution": {
     "iopub.execute_input": "2022-08-13T01:37:43.930078Z",
     "iopub.status.busy": "2022-08-13T01:37:43.929695Z",
     "iopub.status.idle": "2022-08-13T01:37:43.957074Z",
     "shell.execute_reply": "2022-08-13T01:37:43.956286Z"
    }
   },
   "outputs": [
    {
     "name": "stdout",
     "output_type": "stream",
     "text": [
      "Increasing the treatment variable(s) [v0] from 0 to 1 causes an increase of 1.0741609871079654 in the expected value of the outcome [y], over the data distribution/population represented by the dataset.\n"
     ]
    }
   ],
   "source": [
    "# Textual Interpreter\n",
    "interpretation = causal_estimate_strat.interpret(method_name=\"textual_effect_interpreter\")"
   ]
  },
  {
   "cell_type": "markdown",
   "id": "fcfdc440",
   "metadata": {},
   "source": [
    "### Visual Interpreter\n",
    "\n",
    "The visual interpreter plots the change in the standardized mean difference (SMD) before and after Propensity Score based adjustment of the dataset. The formula for SMD is given below.\n",
    "\n",
    "\n",
    "$SMD = \\frac{\\bar X_{1} - \\bar X_{2}}{\\sqrt{(S_{1}^{2} + S_{2}^{2})/2}}$\n",
    "\n",
    "Here, $\\bar X_{1}$ and $\\bar X_{2}$ are the sample mean for the treated and control groups.\n"
   ]
  },
  {
   "cell_type": "code",
   "execution_count": 10,
   "id": "3733f7df",
   "metadata": {
    "execution": {
     "iopub.execute_input": "2022-08-13T01:37:43.960507Z",
     "iopub.status.busy": "2022-08-13T01:37:43.960109Z",
     "iopub.status.idle": "2022-08-13T01:37:44.846815Z",
     "shell.execute_reply": "2022-08-13T01:37:44.846018Z"
    }
   },
   "outputs": [
    {
     "data": {
      "image/png": "[encoded data removed]",
      "text/plain": [
       "<Figure size 432x288 with 1 Axes>"
      ]
     },
     "metadata": {
      "needs_background": "light"
     },
     "output_type": "display_data"
    }
   ],
   "source": [
    "# Visual Interpreter\n",
    "interpretation = causal_estimate_strat.interpret(method_name=\"propensity_balance_interpreter\")"
   ]
  },
  {
   "cell_type": "markdown",
   "id": "5f459517",
   "metadata": {},
   "source": [
    "This plot shows how the SMD decreases from the unadjusted to the stratified units. "
   ]
  },
  {
   "cell_type": "markdown",
   "id": "da5475f9",
   "metadata": {},
   "source": [
    "## Method 2: Propensity Score Matching\n",
    "\n",
    "We will be using propensity scores to match units in the data."
   ]
  },
  {
   "cell_type": "code",
   "execution_count": 11,
   "id": "3cb8521d",
   "metadata": {
    "execution": {
     "iopub.execute_input": "2022-08-13T01:37:44.850509Z",
     "iopub.status.busy": "2022-08-13T01:37:44.849954Z",
     "iopub.status.idle": "2022-08-13T01:37:48.819986Z",
     "shell.execute_reply": "2022-08-13T01:37:48.819291Z"
    }
   },
   "outputs": [
    {
     "name": "stdout",
     "output_type": "stream",
     "text": [
      "propensity_score_matching\n"
     ]
    },
    {
     "name": "stderr",
     "output_type": "stream",
     "text": [
      "/github/home/.cache/pypoetry/virtualenvs/dowhy-oN2hW5jr-py3.8/lib/python3.8/site-packages/sklearn/utils/validation.py:993: DataConversionWarning: A column-vector y was passed when a 1d array was expected. Please change the shape of y to (n_samples, ), for example using ravel().\n",
      "  y = column_or_1d(y, warn=True)\n"
     ]
    },
    {
     "name": "stdout",
     "output_type": "stream",
     "text": [
      "*** Causal Estimate ***\n",
      "\n",
      "## Identified estimand\n",
      "Estimand type: nonparametric-ate\n",
      "\n",
      "### Estimand : 1\n",
      "Estimand name: backdoor\n",
      "Estimand expression:\n",
      "  d                       \n",
      "─────(E[y|W2,W0,W1,W3,W4])\n",
      "d[v₀]                     \n",
      "Estimand assumption 1, Unconfoundedness: If U→{v0} and U→y then P(y|v0,W2,W0,W1,W3,W4,U) = P(y|v0,W2,W0,W1,W3,W4)\n",
      "\n",
      "## Realized estimand\n",
      "b: y~v0+W2+W0+W1+W3+W4\n",
      "Target units: atc\n",
      "\n",
      "## Estimate\n",
      "Mean value: 1.0082713975239466\n",
      "\n",
      "Causal Estimate is 1.0082713975239466\n"
     ]
    }
   ],
   "source": [
    "causal_estimate_match = model.estimate_effect(identified_estimand,\n",
    "                                              method_name=\"backdoor.propensity_score_matching\",\n",
    "                                              target_units=\"atc\")\n",
    "print(causal_estimate_match)\n",
    "print(\"Causal Estimate is \" + str(causal_estimate_match.value))"
   ]
  },
  {
   "cell_type": "code",
   "execution_count": 12,
   "id": "138776e0",
   "metadata": {
    "execution": {
     "iopub.execute_input": "2022-08-13T01:37:48.823242Z",
     "iopub.status.busy": "2022-08-13T01:37:48.822880Z",
     "iopub.status.idle": "2022-08-13T01:37:48.848333Z",
     "shell.execute_reply": "2022-08-13T01:37:48.847534Z"
    }
   },
   "outputs": [
    {
     "name": "stdout",
     "output_type": "stream",
     "text": [
      "Increasing the treatment variable(s) [v0] from 0 to 1 causes an increase of 1.0082713975239466 in the expected value of the outcome [y], over the data distribution/population represented by the dataset.\n"
     ]
    }
   ],
   "source": [
    "# Textual Interpreter\n",
    "interpretation = causal_estimate_match.interpret(method_name=\"textual_effect_interpreter\")"
   ]
  },
  {
   "cell_type": "markdown",
   "id": "ec03f27e",
   "metadata": {},
   "source": [
    "Cannot use propensity balance interpretor here since the interpreter method only supports propensity score stratification estimator."
   ]
  },
  {
   "cell_type": "markdown",
   "id": "4a0c37d6",
   "metadata": {},
   "source": [
    "## Method 3: Weighting\n",
    "\n",
    "We will be using (inverse) propensity scores to assign weights to units in the data. DoWhy supports a few different weighting schemes:\n",
    "1. Vanilla Inverse Propensity Score weighting (IPS) (weighting_scheme=\"ips_weight\")\n",
    "2. Self-normalized IPS weighting (also known as the Hajek estimator) (weighting_scheme=\"ips_normalized_weight\")\n",
    "3. Stabilized IPS weighting (weighting_scheme = \"ips_stabilized_weight\")"
   ]
  },
  {
   "cell_type": "code",
   "execution_count": 13,
   "id": "1f1fa1c6",
   "metadata": {
    "execution": {
     "iopub.execute_input": "2022-08-13T01:37:48.852180Z",
     "iopub.status.busy": "2022-08-13T01:37:48.851787Z",
     "iopub.status.idle": "2022-08-13T01:37:48.916620Z",
     "shell.execute_reply": "2022-08-13T01:37:48.914888Z"
    }
   },
   "outputs": [
    {
     "name": "stdout",
     "output_type": "stream",
     "text": [
      "propensity_score_weighting\n",
      "*** Causal Estimate ***\n",
      "\n",
      "## Identified estimand\n",
      "Estimand type: nonparametric-ate\n",
      "\n",
      "### Estimand : 1\n",
      "Estimand name: backdoor\n",
      "Estimand expression:\n",
      "  d                       \n",
      "─────(E[y|W2,W0,W1,W3,W4])\n",
      "d[v₀]                     \n",
      "Estimand assumption 1, Unconfoundedness: If U→{v0} and U→y then P(y|v0,W2,W0,W1,W3,W4,U) = P(y|v0,W2,W0,W1,W3,W4)\n",
      "\n",
      "## Realized estimand\n",
      "b: y~v0+W2+W0+W1+W3+W4\n",
      "Target units: ate\n",
      "\n",
      "## Estimate\n",
      "Mean value: 2.4896603644790085\n",
      "\n",
      "Causal Estimate is 2.4896603644790085\n"
     ]
    },
    {
     "name": "stderr",
     "output_type": "stream",
     "text": [
      "/github/home/.cache/pypoetry/virtualenvs/dowhy-oN2hW5jr-py3.8/lib/python3.8/site-packages/sklearn/utils/validation.py:993: DataConversionWarning: A column-vector y was passed when a 1d array was expected. Please change the shape of y to (n_samples, ), for example using ravel().\n",
      "  y = column_or_1d(y, warn=True)\n"
     ]
    }
   ],
   "source": [
    "causal_estimate_ipw = model.estimate_effect(identified_estimand,\n",
    "                                            method_name=\"backdoor.propensity_score_weighting\",\n",
    "                                            target_units = \"ate\",\n",
    "                                            method_params={\"weighting_scheme\":\"ips_weight\"})\n",
    "print(causal_estimate_ipw)\n",
    "print(\"Causal Estimate is \" + str(causal_estimate_ipw.value))"
   ]
  },
  {
   "cell_type": "code",
   "execution_count": 14,
   "id": "a2eb0b82",
   "metadata": {
    "execution": {
     "iopub.execute_input": "2022-08-13T01:37:48.919542Z",
     "iopub.status.busy": "2022-08-13T01:37:48.919309Z",
     "iopub.status.idle": "2022-08-13T01:37:48.943790Z",
     "shell.execute_reply": "2022-08-13T01:37:48.943142Z"
    }
   },
   "outputs": [
    {
     "name": "stdout",
     "output_type": "stream",
     "text": [
      "Increasing the treatment variable(s) [v0] from 0 to 1 causes an increase of 2.4896603644790085 in the expected value of the outcome [y], over the data distribution/population represented by the dataset.\n"
     ]
    }
   ],
   "source": [
    "# Textual Interpreter\n",
    "interpretation = causal_estimate_ipw.interpret(method_name=\"textual_effect_interpreter\")"
   ]
  },
  {
   "cell_type": "code",
   "execution_count": 15,
   "id": "ce71185c",
   "metadata": {
    "execution": {
     "iopub.execute_input": "2022-08-13T01:37:48.946468Z",
     "iopub.status.busy": "2022-08-13T01:37:48.946244Z",
     "iopub.status.idle": "2022-08-13T01:37:49.182748Z",
     "shell.execute_reply": "2022-08-13T01:37:49.182012Z"
    }
   },
   "outputs": [
    {
     "data": {
      "image/png": "[encoded data removed]",
      "text/plain": [
       "<Figure size 576x576 with 2 Axes>"
      ]
     },
     "metadata": {
      "needs_background": "light"
     },
     "output_type": "display_data"
    }
   ],
   "source": [
    "interpretation = causal_estimate_ipw.interpret(method_name=\"confounder_distribution_interpreter\", fig_size=(8,8), font_size=12, var_name='W4', var_type='discrete')"
   ]
  },
  {
   "cell_type": "code",
   "execution_count": null,
   "id": "acf8334c",
   "metadata": {},
   "outputs": [],
   "source": []
  }
 ],
 "metadata": {
  "kernelspec": {
   "display_name": "Python 3",
   "language": "python",
   "name": "python3"
  },
  "language_info": {
   "codemirror_mode": {
    "name": "ipython",
    "version": 3
   },
   "file_extension": ".py",
   "mimetype": "text/x-python",
   "name": "python",
   "nbconvert_exporter": "python",
   "pygments_lexer": "ipython3",
   "version": "3.8.10"
  },
  "toc": {
   "base_numbering": 1,
   "nav_menu": {},
   "number_sections": false,
   "sideBar": true,
   "skip_h1_title": true,
   "title_cell": "Table of Contents",
   "title_sidebar": "Contents",
   "toc_cell": false,
   "toc_position": {},
   "toc_section_display": true,
   "toc_window_display": false
  }
 },
 "nbformat": 4,
 "nbformat_minor": 5
}
