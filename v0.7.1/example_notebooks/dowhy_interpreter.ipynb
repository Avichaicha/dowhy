{
 "cells": [
  {
   "cell_type": "markdown",
   "id": "b425f3e9",
   "metadata": {},
   "source": [
    "# DoWhy: Interpreters for Causal Estimators\n",
    "\n",
    "This is a quick introduction to the use of interpreters in the DoWhy causal inference library.\n",
    "We will load in a sample dataset, use different methods for estimating the causal effect of a (pre-specified)treatment variable on a (pre-specified) outcome variable and demonstrate how to interpret the obtained results.\n",
    "\n",
    "First, let us add the required path for Python to find the DoWhy code and load all required packages"
   ]
  },
  {
   "cell_type": "code",
   "execution_count": 1,
   "id": "3a1c323d",
   "metadata": {
    "execution": {
     "iopub.execute_input": "2022-07-28T10:37:46.369702Z",
     "iopub.status.busy": "2022-07-28T10:37:46.369394Z",
     "iopub.status.idle": "2022-07-28T10:37:46.387818Z",
     "shell.execute_reply": "2022-07-28T10:37:46.387132Z"
    }
   },
   "outputs": [],
   "source": [
    "%load_ext autoreload\n",
    "%autoreload 2"
   ]
  },
  {
   "cell_type": "code",
   "execution_count": 2,
   "id": "078ace5e",
   "metadata": {
    "execution": {
     "iopub.execute_input": "2022-07-28T10:37:46.391507Z",
     "iopub.status.busy": "2022-07-28T10:37:46.391031Z",
     "iopub.status.idle": "2022-07-28T10:37:47.602081Z",
     "shell.execute_reply": "2022-07-28T10:37:47.600077Z"
    }
   },
   "outputs": [
    {
     "name": "stdout",
     "output_type": "stream",
     "text": [
      "keywords are unexpanded, not using\n"
     ]
    }
   ],
   "source": [
    "import numpy as np\n",
    "import pandas as pd\n",
    "import logging\n",
    "\n",
    "import dowhy\n",
    "from dowhy import CausalModel\n",
    "import dowhy.datasets "
   ]
  },
  {
   "cell_type": "markdown",
   "id": "80400472",
   "metadata": {},
   "source": [
    "Now, let us load a dataset. For simplicity, we simulate a dataset with linear relationships between common causes and treatment, and common causes and outcome.\n",
    "\n",
    "Beta is the true causal effect."
   ]
  },
  {
   "cell_type": "code",
   "execution_count": 3,
   "id": "487f6896",
   "metadata": {
    "execution": {
     "iopub.execute_input": "2022-07-28T10:37:47.606839Z",
     "iopub.status.busy": "2022-07-28T10:37:47.606062Z",
     "iopub.status.idle": "2022-07-28T10:37:47.982817Z",
     "shell.execute_reply": "2022-07-28T10:37:47.982156Z"
    }
   },
   "outputs": [
    {
     "name": "stdout",
     "output_type": "stream",
     "text": [
      "9456\n"
     ]
    },
    {
     "data": {
      "text/html": [
       "<div>\n",
       "<style scoped>\n",
       "    .dataframe tbody tr th:only-of-type {\n",
       "        vertical-align: middle;\n",
       "    }\n",
       "\n",
       "    .dataframe tbody tr th {\n",
       "        vertical-align: top;\n",
       "    }\n",
       "\n",
       "    .dataframe thead th {\n",
       "        text-align: right;\n",
       "    }\n",
       "</style>\n",
       "<table border=\"1\" class=\"dataframe\">\n",
       "  <thead>\n",
       "    <tr style=\"text-align: right;\">\n",
       "      <th></th>\n",
       "      <th>Z0</th>\n",
       "      <th>Z1</th>\n",
       "      <th>W0</th>\n",
       "      <th>W1</th>\n",
       "      <th>W2</th>\n",
       "      <th>W3</th>\n",
       "      <th>W4</th>\n",
       "      <th>v0</th>\n",
       "      <th>y</th>\n",
       "    </tr>\n",
       "  </thead>\n",
       "  <tbody>\n",
       "    <tr>\n",
       "      <th>0</th>\n",
       "      <td>1.0</td>\n",
       "      <td>0.445967</td>\n",
       "      <td>0.259775</td>\n",
       "      <td>0.494327</td>\n",
       "      <td>0.057128</td>\n",
       "      <td>1.390751</td>\n",
       "      <td>1</td>\n",
       "      <td>True</td>\n",
       "      <td>2.955193</td>\n",
       "    </tr>\n",
       "    <tr>\n",
       "      <th>1</th>\n",
       "      <td>1.0</td>\n",
       "      <td>0.188164</td>\n",
       "      <td>0.950875</td>\n",
       "      <td>-1.609828</td>\n",
       "      <td>0.406491</td>\n",
       "      <td>0.502152</td>\n",
       "      <td>0</td>\n",
       "      <td>True</td>\n",
       "      <td>1.587656</td>\n",
       "    </tr>\n",
       "    <tr>\n",
       "      <th>2</th>\n",
       "      <td>1.0</td>\n",
       "      <td>0.591386</td>\n",
       "      <td>-1.614683</td>\n",
       "      <td>1.216225</td>\n",
       "      <td>1.482933</td>\n",
       "      <td>2.076104</td>\n",
       "      <td>0</td>\n",
       "      <td>True</td>\n",
       "      <td>2.143446</td>\n",
       "    </tr>\n",
       "    <tr>\n",
       "      <th>3</th>\n",
       "      <td>1.0</td>\n",
       "      <td>0.365589</td>\n",
       "      <td>-0.419374</td>\n",
       "      <td>1.694288</td>\n",
       "      <td>0.475483</td>\n",
       "      <td>2.232298</td>\n",
       "      <td>1</td>\n",
       "      <td>True</td>\n",
       "      <td>3.680759</td>\n",
       "    </tr>\n",
       "    <tr>\n",
       "      <th>4</th>\n",
       "      <td>0.0</td>\n",
       "      <td>0.529752</td>\n",
       "      <td>0.924491</td>\n",
       "      <td>0.259476</td>\n",
       "      <td>-0.315423</td>\n",
       "      <td>1.709140</td>\n",
       "      <td>2</td>\n",
       "      <td>True</td>\n",
       "      <td>4.011800</td>\n",
       "    </tr>\n",
       "    <tr>\n",
       "      <th>...</th>\n",
       "      <td>...</td>\n",
       "      <td>...</td>\n",
       "      <td>...</td>\n",
       "      <td>...</td>\n",
       "      <td>...</td>\n",
       "      <td>...</td>\n",
       "      <td>...</td>\n",
       "      <td>...</td>\n",
       "      <td>...</td>\n",
       "    </tr>\n",
       "    <tr>\n",
       "      <th>9995</th>\n",
       "      <td>1.0</td>\n",
       "      <td>0.313257</td>\n",
       "      <td>-1.710785</td>\n",
       "      <td>2.188968</td>\n",
       "      <td>1.994786</td>\n",
       "      <td>0.999118</td>\n",
       "      <td>0</td>\n",
       "      <td>True</td>\n",
       "      <td>2.055341</td>\n",
       "    </tr>\n",
       "    <tr>\n",
       "      <th>9996</th>\n",
       "      <td>1.0</td>\n",
       "      <td>0.334003</td>\n",
       "      <td>-0.783238</td>\n",
       "      <td>1.806067</td>\n",
       "      <td>2.367551</td>\n",
       "      <td>-0.205548</td>\n",
       "      <td>1</td>\n",
       "      <td>True</td>\n",
       "      <td>2.612844</td>\n",
       "    </tr>\n",
       "    <tr>\n",
       "      <th>9997</th>\n",
       "      <td>1.0</td>\n",
       "      <td>0.348373</td>\n",
       "      <td>-2.065076</td>\n",
       "      <td>1.147742</td>\n",
       "      <td>-0.612418</td>\n",
       "      <td>-0.219309</td>\n",
       "      <td>0</td>\n",
       "      <td>True</td>\n",
       "      <td>-0.748645</td>\n",
       "    </tr>\n",
       "    <tr>\n",
       "      <th>9998</th>\n",
       "      <td>1.0</td>\n",
       "      <td>0.915314</td>\n",
       "      <td>-1.406558</td>\n",
       "      <td>-1.870486</td>\n",
       "      <td>0.829667</td>\n",
       "      <td>1.883640</td>\n",
       "      <td>0</td>\n",
       "      <td>True</td>\n",
       "      <td>0.369113</td>\n",
       "    </tr>\n",
       "    <tr>\n",
       "      <th>9999</th>\n",
       "      <td>1.0</td>\n",
       "      <td>0.723864</td>\n",
       "      <td>-0.696640</td>\n",
       "      <td>0.553070</td>\n",
       "      <td>0.551869</td>\n",
       "      <td>-0.428988</td>\n",
       "      <td>0</td>\n",
       "      <td>True</td>\n",
       "      <td>0.580301</td>\n",
       "    </tr>\n",
       "  </tbody>\n",
       "</table>\n",
       "<p>10000 rows × 9 columns</p>\n",
       "</div>"
      ],
      "text/plain": [
       "       Z0        Z1        W0        W1        W2        W3 W4    v0         y\n",
       "0     1.0  0.445967  0.259775  0.494327  0.057128  1.390751  1  True  2.955193\n",
       "1     1.0  0.188164  0.950875 -1.609828  0.406491  0.502152  0  True  1.587656\n",
       "2     1.0  0.591386 -1.614683  1.216225  1.482933  2.076104  0  True  2.143446\n",
       "3     1.0  0.365589 -0.419374  1.694288  0.475483  2.232298  1  True  3.680759\n",
       "4     0.0  0.529752  0.924491  0.259476 -0.315423  1.709140  2  True  4.011800\n",
       "...   ...       ...       ...       ...       ...       ... ..   ...       ...\n",
       "9995  1.0  0.313257 -1.710785  2.188968  1.994786  0.999118  0  True  2.055341\n",
       "9996  1.0  0.334003 -0.783238  1.806067  2.367551 -0.205548  1  True  2.612844\n",
       "9997  1.0  0.348373 -2.065076  1.147742 -0.612418 -0.219309  0  True -0.748645\n",
       "9998  1.0  0.915314 -1.406558 -1.870486  0.829667  1.883640  0  True  0.369113\n",
       "9999  1.0  0.723864 -0.696640  0.553070  0.551869 -0.428988  0  True  0.580301\n",
       "\n",
       "[10000 rows x 9 columns]"
      ]
     },
     "execution_count": 3,
     "metadata": {},
     "output_type": "execute_result"
    }
   ],
   "source": [
    "data = dowhy.datasets.linear_dataset(beta=1,\n",
    "        num_common_causes=5, \n",
    "        num_instruments = 2,\n",
    "        num_treatments=1,\n",
    "        num_discrete_common_causes=1,\n",
    "        num_samples=10000,\n",
    "        treatment_is_binary=True,\n",
    "        outcome_is_binary=False)\n",
    "df = data[\"df\"]\n",
    "print(df[df.v0==True].shape[0])\n",
    "df"
   ]
  },
  {
   "cell_type": "markdown",
   "id": "fa54cc4a",
   "metadata": {},
   "source": [
    "Note that we are using a pandas dataframe to load the data."
   ]
  },
  {
   "cell_type": "markdown",
   "id": "51a67d3c",
   "metadata": {},
   "source": [
    "## Identifying the causal estimand"
   ]
  },
  {
   "cell_type": "markdown",
   "id": "9127f7f1",
   "metadata": {},
   "source": [
    "We now input a causal graph in the GML graph format."
   ]
  },
  {
   "cell_type": "code",
   "execution_count": 4,
   "id": "b28a512c",
   "metadata": {
    "execution": {
     "iopub.execute_input": "2022-07-28T10:37:47.987378Z",
     "iopub.status.busy": "2022-07-28T10:37:47.986641Z",
     "iopub.status.idle": "2022-07-28T10:37:48.015803Z",
     "shell.execute_reply": "2022-07-28T10:37:48.015150Z"
    }
   },
   "outputs": [],
   "source": [
    "# With graph\n",
    "model=CausalModel(\n",
    "        data = df,\n",
    "        treatment=data[\"treatment_name\"],\n",
    "        outcome=data[\"outcome_name\"],\n",
    "        graph=data[\"gml_graph\"],\n",
    "        instruments=data[\"instrument_names\"]\n",
    "        )"
   ]
  },
  {
   "cell_type": "code",
   "execution_count": 5,
   "id": "7bff1c17",
   "metadata": {
    "execution": {
     "iopub.execute_input": "2022-07-28T10:37:48.020758Z",
     "iopub.status.busy": "2022-07-28T10:37:48.019248Z",
     "iopub.status.idle": "2022-07-28T10:37:48.082942Z",
     "shell.execute_reply": "2022-07-28T10:37:48.082121Z"
    }
   },
   "outputs": [],
   "source": [
    "model.view_model()"
   ]
  },
  {
   "cell_type": "code",
   "execution_count": 6,
   "id": "d1cf1b91",
   "metadata": {
    "execution": {
     "iopub.execute_input": "2022-07-28T10:37:48.087244Z",
     "iopub.status.busy": "2022-07-28T10:37:48.086470Z",
     "iopub.status.idle": "2022-07-28T10:37:48.117140Z",
     "shell.execute_reply": "2022-07-28T10:37:48.116272Z"
    }
   },
   "outputs": [
    {
     "data": {
      "image/png": "[encoded data removed]",
      "text/plain": [
       "<IPython.core.display.Image object>"
      ]
     },
     "metadata": {},
     "output_type": "display_data"
    }
   ],
   "source": [
    "from IPython.display import Image, display\n",
    "display(Image(filename=\"causal_model.png\"))"
   ]
  },
  {
   "cell_type": "markdown",
   "id": "b26037b8",
   "metadata": {},
   "source": [
    "We get a causal graph. Now identification and estimation is done."
   ]
  },
  {
   "cell_type": "code",
   "execution_count": 7,
   "id": "a25bd9d5",
   "metadata": {
    "execution": {
     "iopub.execute_input": "2022-07-28T10:37:48.121221Z",
     "iopub.status.busy": "2022-07-28T10:37:48.120752Z",
     "iopub.status.idle": "2022-07-28T10:37:48.385192Z",
     "shell.execute_reply": "2022-07-28T10:37:48.384324Z"
    }
   },
   "outputs": [
    {
     "name": "stdout",
     "output_type": "stream",
     "text": [
      "Estimand type: nonparametric-ate\n",
      "\n",
      "### Estimand : 1\n",
      "Estimand name: backdoor\n",
      "Estimand expression:\n",
      "  d                       \n",
      "─────(E[y|W4,W2,W1,W3,W0])\n",
      "d[v₀]                     \n",
      "Estimand assumption 1, Unconfoundedness: If U→{v0} and U→y then P(y|v0,W4,W2,W1,W3,W0,U) = P(y|v0,W4,W2,W1,W3,W0)\n",
      "\n",
      "### Estimand : 2\n",
      "Estimand name: iv\n",
      "Estimand expression:\n",
      " ⎡                              -1⎤\n",
      " ⎢    d        ⎛    d          ⎞  ⎥\n",
      "E⎢─────────(y)⋅⎜─────────([v₀])⎟  ⎥\n",
      " ⎣d[Z₁  Z₀]    ⎝d[Z₁  Z₀]      ⎠  ⎦\n",
      "Estimand assumption 1, As-if-random: If U→→y then ¬(U →→{Z1,Z0})\n",
      "Estimand assumption 2, Exclusion: If we remove {Z1,Z0}→{v0}, then ¬({Z1,Z0}→y)\n",
      "\n",
      "### Estimand : 3\n",
      "Estimand name: frontdoor\n",
      "No such variable(s) found!\n",
      "\n"
     ]
    }
   ],
   "source": [
    "identified_estimand = model.identify_effect(proceed_when_unidentifiable=True)\n",
    "print(identified_estimand)"
   ]
  },
  {
   "cell_type": "markdown",
   "id": "68afe69b",
   "metadata": {},
   "source": [
    "## Method 1: Propensity Score Stratification\n",
    "\n",
    "We will be using propensity scores to stratify units in the data."
   ]
  },
  {
   "cell_type": "code",
   "execution_count": 8,
   "id": "e520136c",
   "metadata": {
    "execution": {
     "iopub.execute_input": "2022-07-28T10:37:48.390044Z",
     "iopub.status.busy": "2022-07-28T10:37:48.389363Z",
     "iopub.status.idle": "2022-07-28T10:37:49.392751Z",
     "shell.execute_reply": "2022-07-28T10:37:49.391846Z"
    }
   },
   "outputs": [
    {
     "name": "stdout",
     "output_type": "stream",
     "text": [
      "propensity_score_stratification\n"
     ]
    },
    {
     "name": "stderr",
     "output_type": "stream",
     "text": [
      "/usr/local/lib/python3.8/dist-packages/sklearn/utils/validation.py:993: DataConversionWarning: A column-vector y was passed when a 1d array was expected. Please change the shape of y to (n_samples, ), for example using ravel().\n",
      "  y = column_or_1d(y, warn=True)\n"
     ]
    },
    {
     "name": "stdout",
     "output_type": "stream",
     "text": [
      "*** Causal Estimate ***\n",
      "\n",
      "## Identified estimand\n",
      "Estimand type: nonparametric-ate\n",
      "\n",
      "### Estimand : 1\n",
      "Estimand name: backdoor\n",
      "Estimand expression:\n",
      "  d                       \n",
      "─────(E[y|W4,W2,W1,W3,W0])\n",
      "d[v₀]                     \n",
      "Estimand assumption 1, Unconfoundedness: If U→{v0} and U→y then P(y|v0,W4,W2,W1,W3,W0,U) = P(y|v0,W4,W2,W1,W3,W0)\n",
      "\n",
      "## Realized estimand\n",
      "b: y~v0+W4+W2+W1+W3+W0\n",
      "Target units: att\n",
      "\n",
      "## Estimate\n",
      "Mean value: 0.987776010699416\n",
      "\n",
      "Causal Estimate is 0.987776010699416\n"
     ]
    }
   ],
   "source": [
    "causal_estimate_strat = model.estimate_effect(identified_estimand,\n",
    "                                              method_name=\"backdoor.propensity_score_stratification\",\n",
    "                                              target_units=\"att\")\n",
    "print(causal_estimate_strat)\n",
    "print(\"Causal Estimate is \" + str(causal_estimate_strat.value))"
   ]
  },
  {
   "cell_type": "markdown",
   "id": "a0e18dcd",
   "metadata": {},
   "source": [
    "### Textual Interpreter\n",
    "\n",
    "The textual Interpreter describes (in words) the effect of unit change in the treatment variable on the outcome variable."
   ]
  },
  {
   "cell_type": "code",
   "execution_count": 9,
   "id": "49dd520a",
   "metadata": {
    "execution": {
     "iopub.execute_input": "2022-07-28T10:37:49.397035Z",
     "iopub.status.busy": "2022-07-28T10:37:49.396557Z",
     "iopub.status.idle": "2022-07-28T10:37:49.428026Z",
     "shell.execute_reply": "2022-07-28T10:37:49.427086Z"
    }
   },
   "outputs": [
    {
     "name": "stdout",
     "output_type": "stream",
     "text": [
      "Increasing the treatment variable(s) [v0] from 0 to 1 causes an increase of 0.987776010699416 in the expected value of the outcome [y], over the data distribution/population represented by the dataset.\n"
     ]
    }
   ],
   "source": [
    "# Textual Interpreter\n",
    "interpretation = causal_estimate_strat.interpret(method_name=\"textual_effect_interpreter\")"
   ]
  },
  {
   "cell_type": "markdown",
   "id": "54b9f09b",
   "metadata": {},
   "source": [
    "### Visual Interpreter\n",
    "\n",
    "The visual interpreter plots the change in the standardized mean difference (SMD) before and after Propensity Score based adjustment of the dataset. The formula for SMD is given below.\n",
    "\n",
    "\n",
    "$SMD = \\frac{\\bar X_{1} - \\bar X_{2}}{\\sqrt{(S_{1}^{2} + S_{2}^{2})/2}}$\n",
    "\n",
    "Here, $\\bar X_{1}$ and $\\bar X_{2}$ are the sample mean for the treated and control groups.\n"
   ]
  },
  {
   "cell_type": "code",
   "execution_count": 10,
   "id": "5bc2a38b",
   "metadata": {
    "execution": {
     "iopub.execute_input": "2022-07-28T10:37:49.433888Z",
     "iopub.status.busy": "2022-07-28T10:37:49.433152Z",
     "iopub.status.idle": "2022-07-28T10:37:50.531566Z",
     "shell.execute_reply": "2022-07-28T10:37:50.530803Z"
    }
   },
   "outputs": [
    {
     "data": {
      "image/png": "[encoded data removed]",
      "text/plain": [
       "<Figure size 432x288 with 1 Axes>"
      ]
     },
     "metadata": {
      "needs_background": "light"
     },
     "output_type": "display_data"
    }
   ],
   "source": [
    "# Visual Interpreter\n",
    "interpretation = causal_estimate_strat.interpret(method_name=\"propensity_balance_interpreter\")"
   ]
  },
  {
   "cell_type": "markdown",
   "id": "a3ceaefc",
   "metadata": {},
   "source": [
    "This plot shows how the SMD decreases from the unadjusted to the stratified units. "
   ]
  },
  {
   "cell_type": "markdown",
   "id": "f4192cab",
   "metadata": {},
   "source": [
    "## Method 2: Propensity Score Matching\n",
    "\n",
    "We will be using propensity scores to match units in the data."
   ]
  },
  {
   "cell_type": "code",
   "execution_count": 11,
   "id": "ee049723",
   "metadata": {
    "execution": {
     "iopub.execute_input": "2022-07-28T10:37:50.535948Z",
     "iopub.status.busy": "2022-07-28T10:37:50.535329Z",
     "iopub.status.idle": "2022-07-28T10:37:55.669055Z",
     "shell.execute_reply": "2022-07-28T10:37:55.667911Z"
    }
   },
   "outputs": [
    {
     "name": "stdout",
     "output_type": "stream",
     "text": [
      "propensity_score_matching\n"
     ]
    },
    {
     "name": "stderr",
     "output_type": "stream",
     "text": [
      "/usr/local/lib/python3.8/dist-packages/sklearn/utils/validation.py:993: DataConversionWarning: A column-vector y was passed when a 1d array was expected. Please change the shape of y to (n_samples, ), for example using ravel().\n",
      "  y = column_or_1d(y, warn=True)\n"
     ]
    },
    {
     "name": "stdout",
     "output_type": "stream",
     "text": [
      "*** Causal Estimate ***\n",
      "\n",
      "## Identified estimand\n",
      "Estimand type: nonparametric-ate\n",
      "\n",
      "### Estimand : 1\n",
      "Estimand name: backdoor\n",
      "Estimand expression:\n",
      "  d                       \n",
      "─────(E[y|W4,W2,W1,W3,W0])\n",
      "d[v₀]                     \n",
      "Estimand assumption 1, Unconfoundedness: If U→{v0} and U→y then P(y|v0,W4,W2,W1,W3,W0,U) = P(y|v0,W4,W2,W1,W3,W0)\n",
      "\n",
      "## Realized estimand\n",
      "b: y~v0+W4+W2+W1+W3+W0\n",
      "Target units: atc\n",
      "\n",
      "## Estimate\n",
      "Mean value: 0.9905671828409642\n",
      "\n",
      "Causal Estimate is 0.9905671828409642\n"
     ]
    }
   ],
   "source": [
    "causal_estimate_match = model.estimate_effect(identified_estimand,\n",
    "                                              method_name=\"backdoor.propensity_score_matching\",\n",
    "                                              target_units=\"atc\")\n",
    "print(causal_estimate_match)\n",
    "print(\"Causal Estimate is \" + str(causal_estimate_match.value))"
   ]
  },
  {
   "cell_type": "code",
   "execution_count": 12,
   "id": "0c02c336",
   "metadata": {
    "execution": {
     "iopub.execute_input": "2022-07-28T10:37:55.673084Z",
     "iopub.status.busy": "2022-07-28T10:37:55.672413Z",
     "iopub.status.idle": "2022-07-28T10:37:55.701510Z",
     "shell.execute_reply": "2022-07-28T10:37:55.700806Z"
    }
   },
   "outputs": [
    {
     "name": "stdout",
     "output_type": "stream",
     "text": [
      "Increasing the treatment variable(s) [v0] from 0 to 1 causes an increase of 0.9905671828409642 in the expected value of the outcome [y], over the data distribution/population represented by the dataset.\n"
     ]
    }
   ],
   "source": [
    "# Textual Interpreter\n",
    "interpretation = causal_estimate_match.interpret(method_name=\"textual_effect_interpreter\")"
   ]
  },
  {
   "cell_type": "markdown",
   "id": "1fd21e15",
   "metadata": {},
   "source": [
    "Cannot use propensity balance interpretor here since the interpreter method only supports propensity score stratification estimator."
   ]
  },
  {
   "cell_type": "markdown",
   "id": "83237018",
   "metadata": {},
   "source": [
    "## Method 3: Weighting\n",
    "\n",
    "We will be using (inverse) propensity scores to assign weights to units in the data. DoWhy supports a few different weighting schemes:\n",
    "1. Vanilla Inverse Propensity Score weighting (IPS) (weighting_scheme=\"ips_weight\")\n",
    "2. Self-normalized IPS weighting (also known as the Hajek estimator) (weighting_scheme=\"ips_normalized_weight\")\n",
    "3. Stabilized IPS weighting (weighting_scheme = \"ips_stabilized_weight\")"
   ]
  },
  {
   "cell_type": "code",
   "execution_count": 13,
   "id": "cf2c7341",
   "metadata": {
    "execution": {
     "iopub.execute_input": "2022-07-28T10:37:55.705164Z",
     "iopub.status.busy": "2022-07-28T10:37:55.704762Z",
     "iopub.status.idle": "2022-07-28T10:37:55.783092Z",
     "shell.execute_reply": "2022-07-28T10:37:55.782199Z"
    }
   },
   "outputs": [
    {
     "name": "stdout",
     "output_type": "stream",
     "text": [
      "propensity_score_weighting\n",
      "*** Causal Estimate ***\n",
      "\n",
      "## Identified estimand\n",
      "Estimand type: nonparametric-ate\n",
      "\n",
      "### Estimand : 1\n",
      "Estimand name: backdoor\n",
      "Estimand expression:\n",
      "  d                       \n",
      "─────(E[y|W4,W2,W1,W3,W0])\n",
      "d[v₀]                     \n",
      "Estimand assumption 1, Unconfoundedness: If U→{v0} and U→y then P(y|v0,W4,W2,W1,W3,W0,U) = P(y|v0,W4,W2,W1,W3,W0)\n",
      "\n",
      "## Realized estimand\n",
      "b: y~v0+W4+W2+W1+W3+W0\n",
      "Target units: ate\n",
      "\n",
      "## Estimate\n",
      "Mean value: 1.9323800199665915\n",
      "\n",
      "Causal Estimate is 1.9323800199665915\n"
     ]
    },
    {
     "name": "stderr",
     "output_type": "stream",
     "text": [
      "/usr/local/lib/python3.8/dist-packages/sklearn/utils/validation.py:993: DataConversionWarning: A column-vector y was passed when a 1d array was expected. Please change the shape of y to (n_samples, ), for example using ravel().\n",
      "  y = column_or_1d(y, warn=True)\n"
     ]
    }
   ],
   "source": [
    "causal_estimate_ipw = model.estimate_effect(identified_estimand,\n",
    "                                            method_name=\"backdoor.propensity_score_weighting\",\n",
    "                                            target_units = \"ate\",\n",
    "                                            method_params={\"weighting_scheme\":\"ips_weight\"})\n",
    "print(causal_estimate_ipw)\n",
    "print(\"Causal Estimate is \" + str(causal_estimate_ipw.value))"
   ]
  },
  {
   "cell_type": "code",
   "execution_count": 14,
   "id": "27c169f3",
   "metadata": {
    "execution": {
     "iopub.execute_input": "2022-07-28T10:37:55.786490Z",
     "iopub.status.busy": "2022-07-28T10:37:55.786217Z",
     "iopub.status.idle": "2022-07-28T10:37:55.827235Z",
     "shell.execute_reply": "2022-07-28T10:37:55.826643Z"
    }
   },
   "outputs": [
    {
     "name": "stdout",
     "output_type": "stream",
     "text": [
      "Increasing the treatment variable(s) [v0] from 0 to 1 causes an increase of 1.9323800199665915 in the expected value of the outcome [y], over the data distribution/population represented by the dataset.\n"
     ]
    }
   ],
   "source": [
    "# Textual Interpreter\n",
    "interpretation = causal_estimate_ipw.interpret(method_name=\"textual_effect_interpreter\")"
   ]
  },
  {
   "cell_type": "code",
   "execution_count": 15,
   "id": "f5800e5f",
   "metadata": {
    "execution": {
     "iopub.execute_input": "2022-07-28T10:37:55.831156Z",
     "iopub.status.busy": "2022-07-28T10:37:55.830656Z",
     "iopub.status.idle": "2022-07-28T10:37:56.114844Z",
     "shell.execute_reply": "2022-07-28T10:37:56.113798Z"
    }
   },
   "outputs": [
    {
     "data": {
      "image/png": "[encoded data removed]",
      "text/plain": [
       "<Figure size 576x576 with 2 Axes>"
      ]
     },
     "metadata": {
      "needs_background": "light"
     },
     "output_type": "display_data"
    }
   ],
   "source": [
    "interpretation = causal_estimate_ipw.interpret(method_name=\"confounder_distribution_interpreter\", fig_size=(8,8), font_size=12, var_name='W4', var_type='discrete')"
   ]
  },
  {
   "cell_type": "code",
   "execution_count": null,
   "id": "5a172463",
   "metadata": {},
   "outputs": [],
   "source": []
  }
 ],
 "metadata": {
  "kernelspec": {
   "display_name": "Python 3",
   "language": "python",
   "name": "python3"
  },
  "language_info": {
   "codemirror_mode": {
    "name": "ipython",
    "version": 3
   },
   "file_extension": ".py",
   "mimetype": "text/x-python",
   "name": "python",
   "nbconvert_exporter": "python",
   "pygments_lexer": "ipython3",
   "version": "3.8.10"
  },
  "toc": {
   "base_numbering": 1,
   "nav_menu": {},
   "number_sections": false,
   "sideBar": true,
   "skip_h1_title": true,
   "title_cell": "Table of Contents",
   "title_sidebar": "Contents",
   "toc_cell": false,
   "toc_position": {},
   "toc_section_display": true,
   "toc_window_display": false
  }
 },
 "nbformat": 4,
 "nbformat_minor": 5
}
