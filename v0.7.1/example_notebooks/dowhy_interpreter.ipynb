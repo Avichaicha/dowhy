{
 "cells": [
  {
   "cell_type": "markdown",
   "id": "c3102082",
   "metadata": {},
   "source": [
    "# DoWhy: Interpreters for Causal Estimators\n",
    "\n",
    "This is a quick introduction to the use of interpreters in the DoWhy causal inference library.\n",
    "We will load in a sample dataset, use different methods for estimating the causal effect of a (pre-specified)treatment variable on a (pre-specified) outcome variable and demonstrate how to interpret the obtained results.\n",
    "\n",
    "First, let us add the required path for Python to find the DoWhy code and load all required packages"
   ]
  },
  {
   "cell_type": "code",
   "execution_count": 1,
   "id": "44df2f73",
   "metadata": {
    "execution": {
     "iopub.execute_input": "2022-07-28T11:04:03.378269Z",
     "iopub.status.busy": "2022-07-28T11:04:03.377711Z",
     "iopub.status.idle": "2022-07-28T11:04:03.396310Z",
     "shell.execute_reply": "2022-07-28T11:04:03.395611Z"
    }
   },
   "outputs": [],
   "source": [
    "%load_ext autoreload\n",
    "%autoreload 2"
   ]
  },
  {
   "cell_type": "code",
   "execution_count": 2,
   "id": "d8ee043c",
   "metadata": {
    "execution": {
     "iopub.execute_input": "2022-07-28T11:04:03.399817Z",
     "iopub.status.busy": "2022-07-28T11:04:03.399562Z",
     "iopub.status.idle": "2022-07-28T11:04:04.560036Z",
     "shell.execute_reply": "2022-07-28T11:04:04.558472Z"
    }
   },
   "outputs": [
    {
     "name": "stdout",
     "output_type": "stream",
     "text": [
      "keywords are unexpanded, not using\n"
     ]
    }
   ],
   "source": [
    "import numpy as np\n",
    "import pandas as pd\n",
    "import logging\n",
    "\n",
    "import dowhy\n",
    "from dowhy import CausalModel\n",
    "import dowhy.datasets "
   ]
  },
  {
   "cell_type": "markdown",
   "id": "a1635349",
   "metadata": {},
   "source": [
    "Now, let us load a dataset. For simplicity, we simulate a dataset with linear relationships between common causes and treatment, and common causes and outcome.\n",
    "\n",
    "Beta is the true causal effect."
   ]
  },
  {
   "cell_type": "code",
   "execution_count": 3,
   "id": "eb016dd4",
   "metadata": {
    "execution": {
     "iopub.execute_input": "2022-07-28T11:04:04.564353Z",
     "iopub.status.busy": "2022-07-28T11:04:04.563551Z",
     "iopub.status.idle": "2022-07-28T11:04:04.916513Z",
     "shell.execute_reply": "2022-07-28T11:04:04.915438Z"
    }
   },
   "outputs": [
    {
     "name": "stdout",
     "output_type": "stream",
     "text": [
      "9169\n"
     ]
    },
    {
     "data": {
      "text/html": [
       "<div>\n",
       "<style scoped>\n",
       "    .dataframe tbody tr th:only-of-type {\n",
       "        vertical-align: middle;\n",
       "    }\n",
       "\n",
       "    .dataframe tbody tr th {\n",
       "        vertical-align: top;\n",
       "    }\n",
       "\n",
       "    .dataframe thead th {\n",
       "        text-align: right;\n",
       "    }\n",
       "</style>\n",
       "<table border=\"1\" class=\"dataframe\">\n",
       "  <thead>\n",
       "    <tr style=\"text-align: right;\">\n",
       "      <th></th>\n",
       "      <th>Z0</th>\n",
       "      <th>Z1</th>\n",
       "      <th>W0</th>\n",
       "      <th>W1</th>\n",
       "      <th>W2</th>\n",
       "      <th>W3</th>\n",
       "      <th>W4</th>\n",
       "      <th>v0</th>\n",
       "      <th>y</th>\n",
       "    </tr>\n",
       "  </thead>\n",
       "  <tbody>\n",
       "    <tr>\n",
       "      <th>0</th>\n",
       "      <td>1.0</td>\n",
       "      <td>0.446319</td>\n",
       "      <td>-0.327254</td>\n",
       "      <td>-1.581885</td>\n",
       "      <td>0.972184</td>\n",
       "      <td>-0.110092</td>\n",
       "      <td>1</td>\n",
       "      <td>True</td>\n",
       "      <td>0.486186</td>\n",
       "    </tr>\n",
       "    <tr>\n",
       "      <th>1</th>\n",
       "      <td>1.0</td>\n",
       "      <td>0.433649</td>\n",
       "      <td>-0.121428</td>\n",
       "      <td>0.597291</td>\n",
       "      <td>-0.168168</td>\n",
       "      <td>0.681207</td>\n",
       "      <td>1</td>\n",
       "      <td>True</td>\n",
       "      <td>2.423426</td>\n",
       "    </tr>\n",
       "    <tr>\n",
       "      <th>2</th>\n",
       "      <td>1.0</td>\n",
       "      <td>0.812741</td>\n",
       "      <td>-0.508710</td>\n",
       "      <td>1.004392</td>\n",
       "      <td>1.709533</td>\n",
       "      <td>0.570339</td>\n",
       "      <td>3</td>\n",
       "      <td>True</td>\n",
       "      <td>4.886158</td>\n",
       "    </tr>\n",
       "    <tr>\n",
       "      <th>3</th>\n",
       "      <td>1.0</td>\n",
       "      <td>0.471267</td>\n",
       "      <td>-0.005438</td>\n",
       "      <td>0.752636</td>\n",
       "      <td>0.835847</td>\n",
       "      <td>0.516146</td>\n",
       "      <td>2</td>\n",
       "      <td>True</td>\n",
       "      <td>3.710156</td>\n",
       "    </tr>\n",
       "    <tr>\n",
       "      <th>4</th>\n",
       "      <td>1.0</td>\n",
       "      <td>0.935911</td>\n",
       "      <td>-0.996415</td>\n",
       "      <td>0.784424</td>\n",
       "      <td>1.158264</td>\n",
       "      <td>-0.127031</td>\n",
       "      <td>0</td>\n",
       "      <td>True</td>\n",
       "      <td>1.749945</td>\n",
       "    </tr>\n",
       "    <tr>\n",
       "      <th>...</th>\n",
       "      <td>...</td>\n",
       "      <td>...</td>\n",
       "      <td>...</td>\n",
       "      <td>...</td>\n",
       "      <td>...</td>\n",
       "      <td>...</td>\n",
       "      <td>...</td>\n",
       "      <td>...</td>\n",
       "      <td>...</td>\n",
       "    </tr>\n",
       "    <tr>\n",
       "      <th>9995</th>\n",
       "      <td>1.0</td>\n",
       "      <td>0.957819</td>\n",
       "      <td>-1.022332</td>\n",
       "      <td>-0.304421</td>\n",
       "      <td>0.877283</td>\n",
       "      <td>-1.694379</td>\n",
       "      <td>2</td>\n",
       "      <td>True</td>\n",
       "      <td>2.162291</td>\n",
       "    </tr>\n",
       "    <tr>\n",
       "      <th>9996</th>\n",
       "      <td>1.0</td>\n",
       "      <td>0.426282</td>\n",
       "      <td>-0.820314</td>\n",
       "      <td>-0.563068</td>\n",
       "      <td>1.580761</td>\n",
       "      <td>-0.943141</td>\n",
       "      <td>0</td>\n",
       "      <td>True</td>\n",
       "      <td>0.523089</td>\n",
       "    </tr>\n",
       "    <tr>\n",
       "      <th>9997</th>\n",
       "      <td>1.0</td>\n",
       "      <td>0.213258</td>\n",
       "      <td>-0.417639</td>\n",
       "      <td>0.246187</td>\n",
       "      <td>0.854038</td>\n",
       "      <td>1.287462</td>\n",
       "      <td>1</td>\n",
       "      <td>True</td>\n",
       "      <td>2.319913</td>\n",
       "    </tr>\n",
       "    <tr>\n",
       "      <th>9998</th>\n",
       "      <td>1.0</td>\n",
       "      <td>0.430901</td>\n",
       "      <td>-0.842109</td>\n",
       "      <td>-0.893921</td>\n",
       "      <td>-0.059605</td>\n",
       "      <td>-0.924936</td>\n",
       "      <td>1</td>\n",
       "      <td>True</td>\n",
       "      <td>0.626116</td>\n",
       "    </tr>\n",
       "    <tr>\n",
       "      <th>9999</th>\n",
       "      <td>1.0</td>\n",
       "      <td>0.111422</td>\n",
       "      <td>0.399599</td>\n",
       "      <td>-1.125985</td>\n",
       "      <td>-0.286441</td>\n",
       "      <td>0.952387</td>\n",
       "      <td>3</td>\n",
       "      <td>True</td>\n",
       "      <td>2.662338</td>\n",
       "    </tr>\n",
       "  </tbody>\n",
       "</table>\n",
       "<p>10000 rows × 9 columns</p>\n",
       "</div>"
      ],
      "text/plain": [
       "       Z0        Z1        W0        W1        W2        W3 W4    v0         y\n",
       "0     1.0  0.446319 -0.327254 -1.581885  0.972184 -0.110092  1  True  0.486186\n",
       "1     1.0  0.433649 -0.121428  0.597291 -0.168168  0.681207  1  True  2.423426\n",
       "2     1.0  0.812741 -0.508710  1.004392  1.709533  0.570339  3  True  4.886158\n",
       "3     1.0  0.471267 -0.005438  0.752636  0.835847  0.516146  2  True  3.710156\n",
       "4     1.0  0.935911 -0.996415  0.784424  1.158264 -0.127031  0  True  1.749945\n",
       "...   ...       ...       ...       ...       ...       ... ..   ...       ...\n",
       "9995  1.0  0.957819 -1.022332 -0.304421  0.877283 -1.694379  2  True  2.162291\n",
       "9996  1.0  0.426282 -0.820314 -0.563068  1.580761 -0.943141  0  True  0.523089\n",
       "9997  1.0  0.213258 -0.417639  0.246187  0.854038  1.287462  1  True  2.319913\n",
       "9998  1.0  0.430901 -0.842109 -0.893921 -0.059605 -0.924936  1  True  0.626116\n",
       "9999  1.0  0.111422  0.399599 -1.125985 -0.286441  0.952387  3  True  2.662338\n",
       "\n",
       "[10000 rows x 9 columns]"
      ]
     },
     "execution_count": 3,
     "metadata": {},
     "output_type": "execute_result"
    }
   ],
   "source": [
    "data = dowhy.datasets.linear_dataset(beta=1,\n",
    "        num_common_causes=5, \n",
    "        num_instruments = 2,\n",
    "        num_treatments=1,\n",
    "        num_discrete_common_causes=1,\n",
    "        num_samples=10000,\n",
    "        treatment_is_binary=True,\n",
    "        outcome_is_binary=False)\n",
    "df = data[\"df\"]\n",
    "print(df[df.v0==True].shape[0])\n",
    "df"
   ]
  },
  {
   "cell_type": "markdown",
   "id": "5434a1dd",
   "metadata": {},
   "source": [
    "Note that we are using a pandas dataframe to load the data."
   ]
  },
  {
   "cell_type": "markdown",
   "id": "c8462536",
   "metadata": {},
   "source": [
    "## Identifying the causal estimand"
   ]
  },
  {
   "cell_type": "markdown",
   "id": "2a0ff5a5",
   "metadata": {},
   "source": [
    "We now input a causal graph in the GML graph format."
   ]
  },
  {
   "cell_type": "code",
   "execution_count": 4,
   "id": "01bb3173",
   "metadata": {
    "execution": {
     "iopub.execute_input": "2022-07-28T11:04:04.920467Z",
     "iopub.status.busy": "2022-07-28T11:04:04.920037Z",
     "iopub.status.idle": "2022-07-28T11:04:04.946929Z",
     "shell.execute_reply": "2022-07-28T11:04:04.946253Z"
    }
   },
   "outputs": [],
   "source": [
    "# With graph\n",
    "model=CausalModel(\n",
    "        data = df,\n",
    "        treatment=data[\"treatment_name\"],\n",
    "        outcome=data[\"outcome_name\"],\n",
    "        graph=data[\"gml_graph\"],\n",
    "        instruments=data[\"instrument_names\"]\n",
    "        )"
   ]
  },
  {
   "cell_type": "code",
   "execution_count": 5,
   "id": "4011da43",
   "metadata": {
    "execution": {
     "iopub.execute_input": "2022-07-28T11:04:04.950636Z",
     "iopub.status.busy": "2022-07-28T11:04:04.950148Z",
     "iopub.status.idle": "2022-07-28T11:04:05.010352Z",
     "shell.execute_reply": "2022-07-28T11:04:05.009621Z"
    }
   },
   "outputs": [],
   "source": [
    "model.view_model()"
   ]
  },
  {
   "cell_type": "code",
   "execution_count": 6,
   "id": "19c74b01",
   "metadata": {
    "execution": {
     "iopub.execute_input": "2022-07-28T11:04:05.014000Z",
     "iopub.status.busy": "2022-07-28T11:04:05.013708Z",
     "iopub.status.idle": "2022-07-28T11:04:05.042685Z",
     "shell.execute_reply": "2022-07-28T11:04:05.041951Z"
    }
   },
   "outputs": [
    {
     "data": {
      "image/png": "[encoded data removed]",
      "text/plain": [
       "<IPython.core.display.Image object>"
      ]
     },
     "metadata": {},
     "output_type": "display_data"
    }
   ],
   "source": [
    "from IPython.display import Image, display\n",
    "display(Image(filename=\"causal_model.png\"))"
   ]
  },
  {
   "cell_type": "markdown",
   "id": "750d8987",
   "metadata": {},
   "source": [
    "We get a causal graph. Now identification and estimation is done."
   ]
  },
  {
   "cell_type": "code",
   "execution_count": 7,
   "id": "2c501e2d",
   "metadata": {
    "execution": {
     "iopub.execute_input": "2022-07-28T11:04:05.046291Z",
     "iopub.status.busy": "2022-07-28T11:04:05.045805Z",
     "iopub.status.idle": "2022-07-28T11:04:05.302712Z",
     "shell.execute_reply": "2022-07-28T11:04:05.301731Z"
    }
   },
   "outputs": [
    {
     "name": "stdout",
     "output_type": "stream",
     "text": [
      "Estimand type: nonparametric-ate\n",
      "\n",
      "### Estimand : 1\n",
      "Estimand name: backdoor\n",
      "Estimand expression:\n",
      "  d                       \n",
      "─────(E[y|W1,W3,W4,W0,W2])\n",
      "d[v₀]                     \n",
      "Estimand assumption 1, Unconfoundedness: If U→{v0} and U→y then P(y|v0,W1,W3,W4,W0,W2,U) = P(y|v0,W1,W3,W4,W0,W2)\n",
      "\n",
      "### Estimand : 2\n",
      "Estimand name: iv\n",
      "Estimand expression:\n",
      " ⎡                              -1⎤\n",
      " ⎢    d        ⎛    d          ⎞  ⎥\n",
      "E⎢─────────(y)⋅⎜─────────([v₀])⎟  ⎥\n",
      " ⎣d[Z₁  Z₀]    ⎝d[Z₁  Z₀]      ⎠  ⎦\n",
      "Estimand assumption 1, As-if-random: If U→→y then ¬(U →→{Z1,Z0})\n",
      "Estimand assumption 2, Exclusion: If we remove {Z1,Z0}→{v0}, then ¬({Z1,Z0}→y)\n",
      "\n",
      "### Estimand : 3\n",
      "Estimand name: frontdoor\n",
      "No such variable(s) found!\n",
      "\n"
     ]
    }
   ],
   "source": [
    "identified_estimand = model.identify_effect(proceed_when_unidentifiable=True)\n",
    "print(identified_estimand)"
   ]
  },
  {
   "cell_type": "markdown",
   "id": "43d82253",
   "metadata": {},
   "source": [
    "## Method 1: Propensity Score Stratification\n",
    "\n",
    "We will be using propensity scores to stratify units in the data."
   ]
  },
  {
   "cell_type": "code",
   "execution_count": 8,
   "id": "bfa19926",
   "metadata": {
    "execution": {
     "iopub.execute_input": "2022-07-28T11:04:05.307312Z",
     "iopub.status.busy": "2022-07-28T11:04:05.306526Z",
     "iopub.status.idle": "2022-07-28T11:04:06.240626Z",
     "shell.execute_reply": "2022-07-28T11:04:06.239703Z"
    }
   },
   "outputs": [
    {
     "name": "stdout",
     "output_type": "stream",
     "text": [
      "propensity_score_stratification\n"
     ]
    },
    {
     "name": "stderr",
     "output_type": "stream",
     "text": [
      "/usr/local/lib/python3.8/dist-packages/sklearn/utils/validation.py:993: DataConversionWarning: A column-vector y was passed when a 1d array was expected. Please change the shape of y to (n_samples, ), for example using ravel().\n",
      "  y = column_or_1d(y, warn=True)\n"
     ]
    },
    {
     "name": "stdout",
     "output_type": "stream",
     "text": [
      "*** Causal Estimate ***\n",
      "\n",
      "## Identified estimand\n",
      "Estimand type: nonparametric-ate\n",
      "\n",
      "### Estimand : 1\n",
      "Estimand name: backdoor\n",
      "Estimand expression:\n",
      "  d                       \n",
      "─────(E[y|W1,W3,W4,W0,W2])\n",
      "d[v₀]                     \n",
      "Estimand assumption 1, Unconfoundedness: If U→{v0} and U→y then P(y|v0,W1,W3,W4,W0,W2,U) = P(y|v0,W1,W3,W4,W0,W2)\n",
      "\n",
      "## Realized estimand\n",
      "b: y~v0+W1+W3+W4+W0+W2\n",
      "Target units: att\n",
      "\n",
      "## Estimate\n",
      "Mean value: 1.0302805639687502\n",
      "\n",
      "Causal Estimate is 1.0302805639687502\n"
     ]
    }
   ],
   "source": [
    "causal_estimate_strat = model.estimate_effect(identified_estimand,\n",
    "                                              method_name=\"backdoor.propensity_score_stratification\",\n",
    "                                              target_units=\"att\")\n",
    "print(causal_estimate_strat)\n",
    "print(\"Causal Estimate is \" + str(causal_estimate_strat.value))"
   ]
  },
  {
   "cell_type": "markdown",
   "id": "60297c66",
   "metadata": {},
   "source": [
    "### Textual Interpreter\n",
    "\n",
    "The textual Interpreter describes (in words) the effect of unit change in the treatment variable on the outcome variable."
   ]
  },
  {
   "cell_type": "code",
   "execution_count": 9,
   "id": "8ac78600",
   "metadata": {
    "execution": {
     "iopub.execute_input": "2022-07-28T11:04:06.244652Z",
     "iopub.status.busy": "2022-07-28T11:04:06.244370Z",
     "iopub.status.idle": "2022-07-28T11:04:06.272367Z",
     "shell.execute_reply": "2022-07-28T11:04:06.271434Z"
    }
   },
   "outputs": [
    {
     "name": "stdout",
     "output_type": "stream",
     "text": [
      "Increasing the treatment variable(s) [v0] from 0 to 1 causes an increase of 1.0302805639687502 in the expected value of the outcome [y], over the data distribution/population represented by the dataset.\n"
     ]
    }
   ],
   "source": [
    "# Textual Interpreter\n",
    "interpretation = causal_estimate_strat.interpret(method_name=\"textual_effect_interpreter\")"
   ]
  },
  {
   "cell_type": "markdown",
   "id": "387e083d",
   "metadata": {},
   "source": [
    "### Visual Interpreter\n",
    "\n",
    "The visual interpreter plots the change in the standardized mean difference (SMD) before and after Propensity Score based adjustment of the dataset. The formula for SMD is given below.\n",
    "\n",
    "\n",
    "$SMD = \\frac{\\bar X_{1} - \\bar X_{2}}{\\sqrt{(S_{1}^{2} + S_{2}^{2})/2}}$\n",
    "\n",
    "Here, $\\bar X_{1}$ and $\\bar X_{2}$ are the sample mean for the treated and control groups.\n"
   ]
  },
  {
   "cell_type": "code",
   "execution_count": 10,
   "id": "956bbf31",
   "metadata": {
    "execution": {
     "iopub.execute_input": "2022-07-28T11:04:06.275954Z",
     "iopub.status.busy": "2022-07-28T11:04:06.275680Z",
     "iopub.status.idle": "2022-07-28T11:04:07.355163Z",
     "shell.execute_reply": "2022-07-28T11:04:07.354399Z"
    }
   },
   "outputs": [
    {
     "data": {
      "image/png": "[encoded data removed]",
      "text/plain": [
       "<Figure size 432x288 with 1 Axes>"
      ]
     },
     "metadata": {
      "needs_background": "light"
     },
     "output_type": "display_data"
    }
   ],
   "source": [
    "# Visual Interpreter\n",
    "interpretation = causal_estimate_strat.interpret(method_name=\"propensity_balance_interpreter\")"
   ]
  },
  {
   "cell_type": "markdown",
   "id": "80573a3d",
   "metadata": {},
   "source": [
    "This plot shows how the SMD decreases from the unadjusted to the stratified units. "
   ]
  },
  {
   "cell_type": "markdown",
   "id": "1c923d4d",
   "metadata": {},
   "source": [
    "## Method 2: Propensity Score Matching\n",
    "\n",
    "We will be using propensity scores to match units in the data."
   ]
  },
  {
   "cell_type": "code",
   "execution_count": 11,
   "id": "1a40ad1d",
   "metadata": {
    "execution": {
     "iopub.execute_input": "2022-07-28T11:04:07.359762Z",
     "iopub.status.busy": "2022-07-28T11:04:07.358951Z",
     "iopub.status.idle": "2022-07-28T11:04:12.362639Z",
     "shell.execute_reply": "2022-07-28T11:04:12.361452Z"
    }
   },
   "outputs": [
    {
     "name": "stdout",
     "output_type": "stream",
     "text": [
      "propensity_score_matching\n"
     ]
    },
    {
     "name": "stderr",
     "output_type": "stream",
     "text": [
      "/usr/local/lib/python3.8/dist-packages/sklearn/utils/validation.py:993: DataConversionWarning: A column-vector y was passed when a 1d array was expected. Please change the shape of y to (n_samples, ), for example using ravel().\n",
      "  y = column_or_1d(y, warn=True)\n"
     ]
    },
    {
     "name": "stdout",
     "output_type": "stream",
     "text": [
      "*** Causal Estimate ***\n",
      "\n",
      "## Identified estimand\n",
      "Estimand type: nonparametric-ate\n",
      "\n",
      "### Estimand : 1\n",
      "Estimand name: backdoor\n",
      "Estimand expression:\n",
      "  d                       \n",
      "─────(E[y|W1,W3,W4,W0,W2])\n",
      "d[v₀]                     \n",
      "Estimand assumption 1, Unconfoundedness: If U→{v0} and U→y then P(y|v0,W1,W3,W4,W0,W2,U) = P(y|v0,W1,W3,W4,W0,W2)\n",
      "\n",
      "## Realized estimand\n",
      "b: y~v0+W1+W3+W4+W0+W2\n",
      "Target units: atc\n",
      "\n",
      "## Estimate\n",
      "Mean value: 1.0086585990921935\n",
      "\n",
      "Causal Estimate is 1.0086585990921935\n"
     ]
    }
   ],
   "source": [
    "causal_estimate_match = model.estimate_effect(identified_estimand,\n",
    "                                              method_name=\"backdoor.propensity_score_matching\",\n",
    "                                              target_units=\"atc\")\n",
    "print(causal_estimate_match)\n",
    "print(\"Causal Estimate is \" + str(causal_estimate_match.value))"
   ]
  },
  {
   "cell_type": "code",
   "execution_count": 12,
   "id": "73618c3e",
   "metadata": {
    "execution": {
     "iopub.execute_input": "2022-07-28T11:04:12.366462Z",
     "iopub.status.busy": "2022-07-28T11:04:12.365831Z",
     "iopub.status.idle": "2022-07-28T11:04:12.394393Z",
     "shell.execute_reply": "2022-07-28T11:04:12.393564Z"
    }
   },
   "outputs": [
    {
     "name": "stdout",
     "output_type": "stream",
     "text": [
      "Increasing the treatment variable(s) [v0] from 0 to 1 causes an increase of 1.0086585990921935 in the expected value of the outcome [y], over the data distribution/population represented by the dataset.\n"
     ]
    }
   ],
   "source": [
    "# Textual Interpreter\n",
    "interpretation = causal_estimate_match.interpret(method_name=\"textual_effect_interpreter\")"
   ]
  },
  {
   "cell_type": "markdown",
   "id": "d8f6083d",
   "metadata": {},
   "source": [
    "Cannot use propensity balance interpretor here since the interpreter method only supports propensity score stratification estimator."
   ]
  },
  {
   "cell_type": "markdown",
   "id": "d13930e5",
   "metadata": {},
   "source": [
    "## Method 3: Weighting\n",
    "\n",
    "We will be using (inverse) propensity scores to assign weights to units in the data. DoWhy supports a few different weighting schemes:\n",
    "1. Vanilla Inverse Propensity Score weighting (IPS) (weighting_scheme=\"ips_weight\")\n",
    "2. Self-normalized IPS weighting (also known as the Hajek estimator) (weighting_scheme=\"ips_normalized_weight\")\n",
    "3. Stabilized IPS weighting (weighting_scheme = \"ips_stabilized_weight\")"
   ]
  },
  {
   "cell_type": "code",
   "execution_count": 13,
   "id": "4e533ca0",
   "metadata": {
    "execution": {
     "iopub.execute_input": "2022-07-28T11:04:12.397953Z",
     "iopub.status.busy": "2022-07-28T11:04:12.397519Z",
     "iopub.status.idle": "2022-07-28T11:04:12.470526Z",
     "shell.execute_reply": "2022-07-28T11:04:12.469737Z"
    }
   },
   "outputs": [
    {
     "name": "stdout",
     "output_type": "stream",
     "text": [
      "propensity_score_weighting\n",
      "*** Causal Estimate ***\n",
      "\n",
      "## Identified estimand\n",
      "Estimand type: nonparametric-ate\n",
      "\n",
      "### Estimand : 1\n",
      "Estimand name: backdoor\n",
      "Estimand expression:\n",
      "  d                       \n",
      "─────(E[y|W1,W3,W4,W0,W2])\n",
      "d[v₀]                     \n",
      "Estimand assumption 1, Unconfoundedness: If U→{v0} and U→y then P(y|v0,W1,W3,W4,W0,W2,U) = P(y|v0,W1,W3,W4,W0,W2)\n",
      "\n",
      "## Realized estimand\n",
      "b: y~v0+W1+W3+W4+W0+W2\n",
      "Target units: ate\n",
      "\n",
      "## Estimate\n",
      "Mean value: 1.1667836263866656\n",
      "\n",
      "Causal Estimate is 1.1667836263866656\n"
     ]
    },
    {
     "name": "stderr",
     "output_type": "stream",
     "text": [
      "/usr/local/lib/python3.8/dist-packages/sklearn/utils/validation.py:993: DataConversionWarning: A column-vector y was passed when a 1d array was expected. Please change the shape of y to (n_samples, ), for example using ravel().\n",
      "  y = column_or_1d(y, warn=True)\n"
     ]
    }
   ],
   "source": [
    "causal_estimate_ipw = model.estimate_effect(identified_estimand,\n",
    "                                            method_name=\"backdoor.propensity_score_weighting\",\n",
    "                                            target_units = \"ate\",\n",
    "                                            method_params={\"weighting_scheme\":\"ips_weight\"})\n",
    "print(causal_estimate_ipw)\n",
    "print(\"Causal Estimate is \" + str(causal_estimate_ipw.value))"
   ]
  },
  {
   "cell_type": "code",
   "execution_count": 14,
   "id": "91f4f54a",
   "metadata": {
    "execution": {
     "iopub.execute_input": "2022-07-28T11:04:12.474543Z",
     "iopub.status.busy": "2022-07-28T11:04:12.474262Z",
     "iopub.status.idle": "2022-07-28T11:04:12.503843Z",
     "shell.execute_reply": "2022-07-28T11:04:12.503150Z"
    }
   },
   "outputs": [
    {
     "name": "stdout",
     "output_type": "stream",
     "text": [
      "Increasing the treatment variable(s) [v0] from 0 to 1 causes an increase of 1.1667836263866656 in the expected value of the outcome [y], over the data distribution/population represented by the dataset.\n"
     ]
    }
   ],
   "source": [
    "# Textual Interpreter\n",
    "interpretation = causal_estimate_ipw.interpret(method_name=\"textual_effect_interpreter\")"
   ]
  },
  {
   "cell_type": "code",
   "execution_count": 15,
   "id": "d4fc6a5a",
   "metadata": {
    "execution": {
     "iopub.execute_input": "2022-07-28T11:04:12.507583Z",
     "iopub.status.busy": "2022-07-28T11:04:12.507316Z",
     "iopub.status.idle": "2022-07-28T11:04:12.789788Z",
     "shell.execute_reply": "2022-07-28T11:04:12.789048Z"
    }
   },
   "outputs": [
    {
     "data": {
      "image/png": "[encoded data removed]",
      "text/plain": [
       "<Figure size 576x576 with 2 Axes>"
      ]
     },
     "metadata": {
      "needs_background": "light"
     },
     "output_type": "display_data"
    }
   ],
   "source": [
    "interpretation = causal_estimate_ipw.interpret(method_name=\"confounder_distribution_interpreter\", fig_size=(8,8), font_size=12, var_name='W4', var_type='discrete')"
   ]
  },
  {
   "cell_type": "code",
   "execution_count": null,
   "id": "2ba723a7",
   "metadata": {},
   "outputs": [],
   "source": []
  }
 ],
 "metadata": {
  "kernelspec": {
   "display_name": "Python 3",
   "language": "python",
   "name": "python3"
  },
  "language_info": {
   "codemirror_mode": {
    "name": "ipython",
    "version": 3
   },
   "file_extension": ".py",
   "mimetype": "text/x-python",
   "name": "python",
   "nbconvert_exporter": "python",
   "pygments_lexer": "ipython3",
   "version": "3.8.10"
  },
  "toc": {
   "base_numbering": 1,
   "nav_menu": {},
   "number_sections": false,
   "sideBar": true,
   "skip_h1_title": true,
   "title_cell": "Table of Contents",
   "title_sidebar": "Contents",
   "toc_cell": false,
   "toc_position": {},
   "toc_section_display": true,
   "toc_window_display": false
  }
 },
 "nbformat": 4,
 "nbformat_minor": 5
}
