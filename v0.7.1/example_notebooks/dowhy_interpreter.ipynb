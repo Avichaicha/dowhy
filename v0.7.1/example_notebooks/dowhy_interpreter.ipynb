{
 "cells": [
  {
   "cell_type": "markdown",
   "id": "602602c0",
   "metadata": {},
   "source": [
    "# DoWhy: Interpreters for Causal Estimators\n",
    "\n",
    "This is a quick introduction to the use of interpreters in the DoWhy causal inference library.\n",
    "We will load in a sample dataset, use different methods for estimating the causal effect of a (pre-specified)treatment variable on a (pre-specified) outcome variable and demonstrate how to interpret the obtained results.\n",
    "\n",
    "First, let us add the required path for Python to find the DoWhy code and load all required packages"
   ]
  },
  {
   "cell_type": "code",
   "execution_count": 1,
   "id": "4343ec85",
   "metadata": {
    "execution": {
     "iopub.execute_input": "2022-08-19T04:01:25.342995Z",
     "iopub.status.busy": "2022-08-19T04:01:25.342545Z",
     "iopub.status.idle": "2022-08-19T04:01:25.359163Z",
     "shell.execute_reply": "2022-08-19T04:01:25.358545Z"
    }
   },
   "outputs": [],
   "source": [
    "%load_ext autoreload\n",
    "%autoreload 2"
   ]
  },
  {
   "cell_type": "code",
   "execution_count": 2,
   "id": "a55a18b8",
   "metadata": {
    "execution": {
     "iopub.execute_input": "2022-08-19T04:01:25.362193Z",
     "iopub.status.busy": "2022-08-19T04:01:25.361855Z",
     "iopub.status.idle": "2022-08-19T04:01:26.392023Z",
     "shell.execute_reply": "2022-08-19T04:01:26.391314Z"
    }
   },
   "outputs": [],
   "source": [
    "import numpy as np\n",
    "import pandas as pd\n",
    "import logging\n",
    "\n",
    "import dowhy\n",
    "from dowhy import CausalModel\n",
    "import dowhy.datasets "
   ]
  },
  {
   "cell_type": "markdown",
   "id": "fccdd6fd",
   "metadata": {},
   "source": [
    "Now, let us load a dataset. For simplicity, we simulate a dataset with linear relationships between common causes and treatment, and common causes and outcome.\n",
    "\n",
    "Beta is the true causal effect."
   ]
  },
  {
   "cell_type": "code",
   "execution_count": 3,
   "id": "d51ff41a",
   "metadata": {
    "execution": {
     "iopub.execute_input": "2022-08-19T04:01:26.396220Z",
     "iopub.status.busy": "2022-08-19T04:01:26.395686Z",
     "iopub.status.idle": "2022-08-19T04:01:26.692636Z",
     "shell.execute_reply": "2022-08-19T04:01:26.692008Z"
    }
   },
   "outputs": [
    {
     "name": "stdout",
     "output_type": "stream",
     "text": [
      "8707\n"
     ]
    },
    {
     "data": {
      "text/html": [
       "<div>\n",
       "<style scoped>\n",
       "    .dataframe tbody tr th:only-of-type {\n",
       "        vertical-align: middle;\n",
       "    }\n",
       "\n",
       "    .dataframe tbody tr th {\n",
       "        vertical-align: top;\n",
       "    }\n",
       "\n",
       "    .dataframe thead th {\n",
       "        text-align: right;\n",
       "    }\n",
       "</style>\n",
       "<table border=\"1\" class=\"dataframe\">\n",
       "  <thead>\n",
       "    <tr style=\"text-align: right;\">\n",
       "      <th></th>\n",
       "      <th>Z0</th>\n",
       "      <th>Z1</th>\n",
       "      <th>W0</th>\n",
       "      <th>W1</th>\n",
       "      <th>W2</th>\n",
       "      <th>W3</th>\n",
       "      <th>W4</th>\n",
       "      <th>v0</th>\n",
       "      <th>y</th>\n",
       "    </tr>\n",
       "  </thead>\n",
       "  <tbody>\n",
       "    <tr>\n",
       "      <th>0</th>\n",
       "      <td>0.0</td>\n",
       "      <td>0.219248</td>\n",
       "      <td>0.158877</td>\n",
       "      <td>0.372409</td>\n",
       "      <td>0.082438</td>\n",
       "      <td>1.112753</td>\n",
       "      <td>1</td>\n",
       "      <td>True</td>\n",
       "      <td>2.508962</td>\n",
       "    </tr>\n",
       "    <tr>\n",
       "      <th>1</th>\n",
       "      <td>0.0</td>\n",
       "      <td>0.560076</td>\n",
       "      <td>-1.969176</td>\n",
       "      <td>0.679095</td>\n",
       "      <td>0.077838</td>\n",
       "      <td>-0.092839</td>\n",
       "      <td>1</td>\n",
       "      <td>True</td>\n",
       "      <td>1.674086</td>\n",
       "    </tr>\n",
       "    <tr>\n",
       "      <th>2</th>\n",
       "      <td>1.0</td>\n",
       "      <td>0.153561</td>\n",
       "      <td>-1.414782</td>\n",
       "      <td>1.709322</td>\n",
       "      <td>0.323854</td>\n",
       "      <td>-1.479877</td>\n",
       "      <td>3</td>\n",
       "      <td>True</td>\n",
       "      <td>2.356191</td>\n",
       "    </tr>\n",
       "    <tr>\n",
       "      <th>3</th>\n",
       "      <td>0.0</td>\n",
       "      <td>0.581356</td>\n",
       "      <td>-2.204148</td>\n",
       "      <td>0.574469</td>\n",
       "      <td>-0.396622</td>\n",
       "      <td>0.810472</td>\n",
       "      <td>3</td>\n",
       "      <td>True</td>\n",
       "      <td>3.036774</td>\n",
       "    </tr>\n",
       "    <tr>\n",
       "      <th>4</th>\n",
       "      <td>0.0</td>\n",
       "      <td>0.228422</td>\n",
       "      <td>-1.165577</td>\n",
       "      <td>2.410452</td>\n",
       "      <td>0.733166</td>\n",
       "      <td>-1.733531</td>\n",
       "      <td>0</td>\n",
       "      <td>True</td>\n",
       "      <td>1.167021</td>\n",
       "    </tr>\n",
       "    <tr>\n",
       "      <th>...</th>\n",
       "      <td>...</td>\n",
       "      <td>...</td>\n",
       "      <td>...</td>\n",
       "      <td>...</td>\n",
       "      <td>...</td>\n",
       "      <td>...</td>\n",
       "      <td>...</td>\n",
       "      <td>...</td>\n",
       "      <td>...</td>\n",
       "    </tr>\n",
       "    <tr>\n",
       "      <th>9995</th>\n",
       "      <td>0.0</td>\n",
       "      <td>0.420124</td>\n",
       "      <td>-1.604997</td>\n",
       "      <td>-0.463619</td>\n",
       "      <td>0.772018</td>\n",
       "      <td>1.772376</td>\n",
       "      <td>2</td>\n",
       "      <td>True</td>\n",
       "      <td>3.344256</td>\n",
       "    </tr>\n",
       "    <tr>\n",
       "      <th>9996</th>\n",
       "      <td>0.0</td>\n",
       "      <td>0.471726</td>\n",
       "      <td>0.430156</td>\n",
       "      <td>0.461735</td>\n",
       "      <td>-0.861463</td>\n",
       "      <td>-1.078424</td>\n",
       "      <td>3</td>\n",
       "      <td>True</td>\n",
       "      <td>1.606116</td>\n",
       "    </tr>\n",
       "    <tr>\n",
       "      <th>9997</th>\n",
       "      <td>1.0</td>\n",
       "      <td>0.325922</td>\n",
       "      <td>-3.216611</td>\n",
       "      <td>0.820856</td>\n",
       "      <td>-0.308360</td>\n",
       "      <td>1.689871</td>\n",
       "      <td>3</td>\n",
       "      <td>True</td>\n",
       "      <td>3.713428</td>\n",
       "    </tr>\n",
       "    <tr>\n",
       "      <th>9998</th>\n",
       "      <td>0.0</td>\n",
       "      <td>0.295737</td>\n",
       "      <td>0.406648</td>\n",
       "      <td>2.071011</td>\n",
       "      <td>-0.761052</td>\n",
       "      <td>2.483882</td>\n",
       "      <td>2</td>\n",
       "      <td>True</td>\n",
       "      <td>4.343709</td>\n",
       "    </tr>\n",
       "    <tr>\n",
       "      <th>9999</th>\n",
       "      <td>0.0</td>\n",
       "      <td>0.340292</td>\n",
       "      <td>-1.236945</td>\n",
       "      <td>-0.126501</td>\n",
       "      <td>0.271531</td>\n",
       "      <td>0.156611</td>\n",
       "      <td>3</td>\n",
       "      <td>True</td>\n",
       "      <td>2.666935</td>\n",
       "    </tr>\n",
       "  </tbody>\n",
       "</table>\n",
       "<p>10000 rows × 9 columns</p>\n",
       "</div>"
      ],
      "text/plain": [
       "       Z0        Z1        W0        W1        W2        W3 W4    v0         y\n",
       "0     0.0  0.219248  0.158877  0.372409  0.082438  1.112753  1  True  2.508962\n",
       "1     0.0  0.560076 -1.969176  0.679095  0.077838 -0.092839  1  True  1.674086\n",
       "2     1.0  0.153561 -1.414782  1.709322  0.323854 -1.479877  3  True  2.356191\n",
       "3     0.0  0.581356 -2.204148  0.574469 -0.396622  0.810472  3  True  3.036774\n",
       "4     0.0  0.228422 -1.165577  2.410452  0.733166 -1.733531  0  True  1.167021\n",
       "...   ...       ...       ...       ...       ...       ... ..   ...       ...\n",
       "9995  0.0  0.420124 -1.604997 -0.463619  0.772018  1.772376  2  True  3.344256\n",
       "9996  0.0  0.471726  0.430156  0.461735 -0.861463 -1.078424  3  True  1.606116\n",
       "9997  1.0  0.325922 -3.216611  0.820856 -0.308360  1.689871  3  True  3.713428\n",
       "9998  0.0  0.295737  0.406648  2.071011 -0.761052  2.483882  2  True  4.343709\n",
       "9999  0.0  0.340292 -1.236945 -0.126501  0.271531  0.156611  3  True  2.666935\n",
       "\n",
       "[10000 rows x 9 columns]"
      ]
     },
     "execution_count": 3,
     "metadata": {},
     "output_type": "execute_result"
    }
   ],
   "source": [
    "data = dowhy.datasets.linear_dataset(beta=1,\n",
    "        num_common_causes=5, \n",
    "        num_instruments = 2,\n",
    "        num_treatments=1,\n",
    "        num_discrete_common_causes=1,\n",
    "        num_samples=10000,\n",
    "        treatment_is_binary=True,\n",
    "        outcome_is_binary=False)\n",
    "df = data[\"df\"]\n",
    "print(df[df.v0==True].shape[0])\n",
    "df"
   ]
  },
  {
   "cell_type": "markdown",
   "id": "cce35b42",
   "metadata": {},
   "source": [
    "Note that we are using a pandas dataframe to load the data."
   ]
  },
  {
   "cell_type": "markdown",
   "id": "8daa37d3",
   "metadata": {},
   "source": [
    "## Identifying the causal estimand"
   ]
  },
  {
   "cell_type": "markdown",
   "id": "5e18212f",
   "metadata": {},
   "source": [
    "We now input a causal graph in the GML graph format."
   ]
  },
  {
   "cell_type": "code",
   "execution_count": 4,
   "id": "982776ba",
   "metadata": {
    "execution": {
     "iopub.execute_input": "2022-08-19T04:01:26.696541Z",
     "iopub.status.busy": "2022-08-19T04:01:26.696297Z",
     "iopub.status.idle": "2022-08-19T04:01:26.721358Z",
     "shell.execute_reply": "2022-08-19T04:01:26.720776Z"
    }
   },
   "outputs": [],
   "source": [
    "# With graph\n",
    "model=CausalModel(\n",
    "        data = df,\n",
    "        treatment=data[\"treatment_name\"],\n",
    "        outcome=data[\"outcome_name\"],\n",
    "        graph=data[\"gml_graph\"],\n",
    "        instruments=data[\"instrument_names\"]\n",
    "        )"
   ]
  },
  {
   "cell_type": "code",
   "execution_count": 5,
   "id": "1cfd4406",
   "metadata": {
    "execution": {
     "iopub.execute_input": "2022-08-19T04:01:26.724782Z",
     "iopub.status.busy": "2022-08-19T04:01:26.724558Z",
     "iopub.status.idle": "2022-08-19T04:01:26.779713Z",
     "shell.execute_reply": "2022-08-19T04:01:26.779039Z"
    }
   },
   "outputs": [],
   "source": [
    "model.view_model()"
   ]
  },
  {
   "cell_type": "code",
   "execution_count": 6,
   "id": "78856f89",
   "metadata": {
    "execution": {
     "iopub.execute_input": "2022-08-19T04:01:26.783468Z",
     "iopub.status.busy": "2022-08-19T04:01:26.783023Z",
     "iopub.status.idle": "2022-08-19T04:01:26.808079Z",
     "shell.execute_reply": "2022-08-19T04:01:26.807424Z"
    }
   },
   "outputs": [
    {
     "data": {
      "image/png": "[encoded data removed]",
      "text/plain": [
       "<IPython.core.display.Image object>"
      ]
     },
     "metadata": {},
     "output_type": "display_data"
    }
   ],
   "source": [
    "from IPython.display import Image, display\n",
    "display(Image(filename=\"causal_model.png\"))"
   ]
  },
  {
   "cell_type": "markdown",
   "id": "3d147426",
   "metadata": {},
   "source": [
    "We get a causal graph. Now identification and estimation is done."
   ]
  },
  {
   "cell_type": "code",
   "execution_count": 7,
   "id": "9ba80b06",
   "metadata": {
    "execution": {
     "iopub.execute_input": "2022-08-19T04:01:26.811408Z",
     "iopub.status.busy": "2022-08-19T04:01:26.810793Z",
     "iopub.status.idle": "2022-08-19T04:01:27.028347Z",
     "shell.execute_reply": "2022-08-19T04:01:27.027665Z"
    }
   },
   "outputs": [
    {
     "name": "stdout",
     "output_type": "stream",
     "text": [
      "Estimand type: nonparametric-ate\n",
      "\n",
      "### Estimand : 1\n",
      "Estimand name: backdoor\n",
      "Estimand expression:\n",
      "  d                       \n",
      "─────(E[y|W3,W0,W4,W1,W2])\n",
      "d[v₀]                     \n",
      "Estimand assumption 1, Unconfoundedness: If U→{v0} and U→y then P(y|v0,W3,W0,W4,W1,W2,U) = P(y|v0,W3,W0,W4,W1,W2)\n",
      "\n",
      "### Estimand : 2\n",
      "Estimand name: iv\n",
      "Estimand expression:\n",
      " ⎡                              -1⎤\n",
      " ⎢    d        ⎛    d          ⎞  ⎥\n",
      "E⎢─────────(y)⋅⎜─────────([v₀])⎟  ⎥\n",
      " ⎣d[Z₁  Z₀]    ⎝d[Z₁  Z₀]      ⎠  ⎦\n",
      "Estimand assumption 1, As-if-random: If U→→y then ¬(U →→{Z1,Z0})\n",
      "Estimand assumption 2, Exclusion: If we remove {Z1,Z0}→{v0}, then ¬({Z1,Z0}→y)\n",
      "\n",
      "### Estimand : 3\n",
      "Estimand name: frontdoor\n",
      "No such variable(s) found!\n",
      "\n"
     ]
    }
   ],
   "source": [
    "identified_estimand = model.identify_effect(proceed_when_unidentifiable=True)\n",
    "print(identified_estimand)"
   ]
  },
  {
   "cell_type": "markdown",
   "id": "6f9bf506",
   "metadata": {},
   "source": [
    "## Method 1: Propensity Score Stratification\n",
    "\n",
    "We will be using propensity scores to stratify units in the data."
   ]
  },
  {
   "cell_type": "code",
   "execution_count": 8,
   "id": "45bdaa75",
   "metadata": {
    "execution": {
     "iopub.execute_input": "2022-08-19T04:01:27.031869Z",
     "iopub.status.busy": "2022-08-19T04:01:27.031419Z",
     "iopub.status.idle": "2022-08-19T04:01:27.870500Z",
     "shell.execute_reply": "2022-08-19T04:01:27.869666Z"
    }
   },
   "outputs": [
    {
     "name": "stdout",
     "output_type": "stream",
     "text": [
      "propensity_score_stratification\n"
     ]
    },
    {
     "name": "stdout",
     "output_type": "stream",
     "text": [
      "*** Causal Estimate ***\n",
      "\n",
      "## Identified estimand\n",
      "Estimand type: nonparametric-ate\n",
      "\n",
      "### Estimand : 1\n",
      "Estimand name: backdoor\n",
      "Estimand expression:\n",
      "  d                       \n",
      "─────(E[y|W3,W0,W4,W1,W2])\n",
      "d[v₀]                     \n",
      "Estimand assumption 1, Unconfoundedness: If U→{v0} and U→y then P(y|v0,W3,W0,W4,W1,W2,U) = P(y|v0,W3,W0,W4,W1,W2)\n",
      "\n",
      "## Realized estimand\n",
      "b: y~v0+W3+W0+W4+W1+W2\n",
      "Target units: att\n",
      "\n",
      "## Estimate\n",
      "Mean value: 1.018041424633445\n",
      "\n",
      "Causal Estimate is 1.018041424633445\n"
     ]
    }
   ],
   "source": [
    "causal_estimate_strat = model.estimate_effect(identified_estimand,\n",
    "                                              method_name=\"backdoor.propensity_score_stratification\",\n",
    "                                              target_units=\"att\")\n",
    "print(causal_estimate_strat)\n",
    "print(\"Causal Estimate is \" + str(causal_estimate_strat.value))"
   ]
  },
  {
   "cell_type": "markdown",
   "id": "9a0bb079",
   "metadata": {},
   "source": [
    "### Textual Interpreter\n",
    "\n",
    "The textual Interpreter describes (in words) the effect of unit change in the treatment variable on the outcome variable."
   ]
  },
  {
   "cell_type": "code",
   "execution_count": 9,
   "id": "7c715566",
   "metadata": {
    "execution": {
     "iopub.execute_input": "2022-08-19T04:01:27.874293Z",
     "iopub.status.busy": "2022-08-19T04:01:27.873801Z",
     "iopub.status.idle": "2022-08-19T04:01:27.901545Z",
     "shell.execute_reply": "2022-08-19T04:01:27.900780Z"
    }
   },
   "outputs": [
    {
     "name": "stdout",
     "output_type": "stream",
     "text": [
      "Increasing the treatment variable(s) [v0] from 0 to 1 causes an increase of 1.018041424633445 in the expected value of the outcome [y], over the data distribution/population represented by the dataset.\n"
     ]
    }
   ],
   "source": [
    "# Textual Interpreter\n",
    "interpretation = causal_estimate_strat.interpret(method_name=\"textual_effect_interpreter\")"
   ]
  },
  {
   "cell_type": "markdown",
   "id": "d764fcb4",
   "metadata": {},
   "source": [
    "### Visual Interpreter\n",
    "\n",
    "The visual interpreter plots the change in the standardized mean difference (SMD) before and after Propensity Score based adjustment of the dataset. The formula for SMD is given below.\n",
    "\n",
    "\n",
    "$SMD = \\frac{\\bar X_{1} - \\bar X_{2}}{\\sqrt{(S_{1}^{2} + S_{2}^{2})/2}}$\n",
    "\n",
    "Here, $\\bar X_{1}$ and $\\bar X_{2}$ are the sample mean for the treated and control groups.\n"
   ]
  },
  {
   "cell_type": "code",
   "execution_count": 10,
   "id": "4e300f7b",
   "metadata": {
    "execution": {
     "iopub.execute_input": "2022-08-19T04:01:27.905009Z",
     "iopub.status.busy": "2022-08-19T04:01:27.904596Z",
     "iopub.status.idle": "2022-08-19T04:01:28.887892Z",
     "shell.execute_reply": "2022-08-19T04:01:28.887197Z"
    }
   },
   "outputs": [
    {
     "data": {
      "image/png": "[encoded data removed]",
      "text/plain": [
       "<Figure size 432x288 with 1 Axes>"
      ]
     },
     "metadata": {
      "needs_background": "light"
     },
     "output_type": "display_data"
    }
   ],
   "source": [
    "# Visual Interpreter\n",
    "interpretation = causal_estimate_strat.interpret(method_name=\"propensity_balance_interpreter\")"
   ]
  },
  {
   "cell_type": "markdown",
   "id": "f6dc12ad",
   "metadata": {},
   "source": [
    "This plot shows how the SMD decreases from the unadjusted to the stratified units. "
   ]
  },
  {
   "cell_type": "markdown",
   "id": "b2e40701",
   "metadata": {},
   "source": [
    "## Method 2: Propensity Score Matching\n",
    "\n",
    "We will be using propensity scores to match units in the data."
   ]
  },
  {
   "cell_type": "code",
   "execution_count": 11,
   "id": "041f52aa",
   "metadata": {
    "execution": {
     "iopub.execute_input": "2022-08-19T04:01:28.892091Z",
     "iopub.status.busy": "2022-08-19T04:01:28.891441Z",
     "iopub.status.idle": "2022-08-19T04:01:33.398882Z",
     "shell.execute_reply": "2022-08-19T04:01:33.398075Z"
    }
   },
   "outputs": [
    {
     "name": "stdout",
     "output_type": "stream",
     "text": [
      "propensity_score_matching\n"
     ]
    },
    {
     "name": "stdout",
     "output_type": "stream",
     "text": [
      "*** Causal Estimate ***\n",
      "\n",
      "## Identified estimand\n",
      "Estimand type: nonparametric-ate\n",
      "\n",
      "### Estimand : 1\n",
      "Estimand name: backdoor\n",
      "Estimand expression:\n",
      "  d                       \n",
      "─────(E[y|W3,W0,W4,W1,W2])\n",
      "d[v₀]                     \n",
      "Estimand assumption 1, Unconfoundedness: If U→{v0} and U→y then P(y|v0,W3,W0,W4,W1,W2,U) = P(y|v0,W3,W0,W4,W1,W2)\n",
      "\n",
      "## Realized estimand\n",
      "b: y~v0+W3+W0+W4+W1+W2\n",
      "Target units: atc\n",
      "\n",
      "## Estimate\n",
      "Mean value: 0.9962747822593738\n",
      "\n",
      "Causal Estimate is 0.9962747822593738\n"
     ]
    }
   ],
   "source": [
    "causal_estimate_match = model.estimate_effect(identified_estimand,\n",
    "                                              method_name=\"backdoor.propensity_score_matching\",\n",
    "                                              target_units=\"atc\")\n",
    "print(causal_estimate_match)\n",
    "print(\"Causal Estimate is \" + str(causal_estimate_match.value))"
   ]
  },
  {
   "cell_type": "code",
   "execution_count": 12,
   "id": "418000bb",
   "metadata": {
    "execution": {
     "iopub.execute_input": "2022-08-19T04:01:33.402158Z",
     "iopub.status.busy": "2022-08-19T04:01:33.401704Z",
     "iopub.status.idle": "2022-08-19T04:01:33.428119Z",
     "shell.execute_reply": "2022-08-19T04:01:33.427428Z"
    }
   },
   "outputs": [
    {
     "name": "stdout",
     "output_type": "stream",
     "text": [
      "Increasing the treatment variable(s) [v0] from 0 to 1 causes an increase of 0.9962747822593738 in the expected value of the outcome [y], over the data distribution/population represented by the dataset.\n"
     ]
    }
   ],
   "source": [
    "# Textual Interpreter\n",
    "interpretation = causal_estimate_match.interpret(method_name=\"textual_effect_interpreter\")"
   ]
  },
  {
   "cell_type": "markdown",
   "id": "be4d804d",
   "metadata": {},
   "source": [
    "Cannot use propensity balance interpretor here since the interpreter method only supports propensity score stratification estimator."
   ]
  },
  {
   "cell_type": "markdown",
   "id": "7c3f0c38",
   "metadata": {},
   "source": [
    "## Method 3: Weighting\n",
    "\n",
    "We will be using (inverse) propensity scores to assign weights to units in the data. DoWhy supports a few different weighting schemes:\n",
    "1. Vanilla Inverse Propensity Score weighting (IPS) (weighting_scheme=\"ips_weight\")\n",
    "2. Self-normalized IPS weighting (also known as the Hajek estimator) (weighting_scheme=\"ips_normalized_weight\")\n",
    "3. Stabilized IPS weighting (weighting_scheme = \"ips_stabilized_weight\")"
   ]
  },
  {
   "cell_type": "code",
   "execution_count": 13,
   "id": "5694dd91",
   "metadata": {
    "execution": {
     "iopub.execute_input": "2022-08-19T04:01:33.431354Z",
     "iopub.status.busy": "2022-08-19T04:01:33.431122Z",
     "iopub.status.idle": "2022-08-19T04:01:33.494316Z",
     "shell.execute_reply": "2022-08-19T04:01:33.493451Z"
    }
   },
   "outputs": [
    {
     "name": "stdout",
     "output_type": "stream",
     "text": [
      "propensity_score_weighting\n",
      "*** Causal Estimate ***\n",
      "\n",
      "## Identified estimand\n",
      "Estimand type: nonparametric-ate\n",
      "\n",
      "### Estimand : 1\n",
      "Estimand name: backdoor\n",
      "Estimand expression:\n",
      "  d                       \n",
      "─────(E[y|W3,W0,W4,W1,W2])\n",
      "d[v₀]                     \n",
      "Estimand assumption 1, Unconfoundedness: If U→{v0} and U→y then P(y|v0,W3,W0,W4,W1,W2,U) = P(y|v0,W3,W0,W4,W1,W2)\n",
      "\n",
      "## Realized estimand\n",
      "b: y~v0+W3+W0+W4+W1+W2\n",
      "Target units: ate\n",
      "\n",
      "## Estimate\n",
      "Mean value: 1.4057007552121976\n",
      "\n",
      "Causal Estimate is 1.4057007552121976\n"
     ]
    }
   ],
   "source": [
    "causal_estimate_ipw = model.estimate_effect(identified_estimand,\n",
    "                                            method_name=\"backdoor.propensity_score_weighting\",\n",
    "                                            target_units = \"ate\",\n",
    "                                            method_params={\"weighting_scheme\":\"ips_weight\"})\n",
    "print(causal_estimate_ipw)\n",
    "print(\"Causal Estimate is \" + str(causal_estimate_ipw.value))"
   ]
  },
  {
   "cell_type": "code",
   "execution_count": 14,
   "id": "8d3fb51a",
   "metadata": {
    "execution": {
     "iopub.execute_input": "2022-08-19T04:01:33.497275Z",
     "iopub.status.busy": "2022-08-19T04:01:33.497046Z",
     "iopub.status.idle": "2022-08-19T04:01:33.521308Z",
     "shell.execute_reply": "2022-08-19T04:01:33.520689Z"
    }
   },
   "outputs": [
    {
     "name": "stdout",
     "output_type": "stream",
     "text": [
      "Increasing the treatment variable(s) [v0] from 0 to 1 causes an increase of 1.4057007552121976 in the expected value of the outcome [y], over the data distribution/population represented by the dataset.\n"
     ]
    }
   ],
   "source": [
    "# Textual Interpreter\n",
    "interpretation = causal_estimate_ipw.interpret(method_name=\"textual_effect_interpreter\")"
   ]
  },
  {
   "cell_type": "code",
   "execution_count": 15,
   "id": "aaa8270a",
   "metadata": {
    "execution": {
     "iopub.execute_input": "2022-08-19T04:01:33.524320Z",
     "iopub.status.busy": "2022-08-19T04:01:33.524098Z",
     "iopub.status.idle": "2022-08-19T04:01:33.761636Z",
     "shell.execute_reply": "2022-08-19T04:01:33.760918Z"
    }
   },
   "outputs": [
    {
     "data": {
      "image/png": "[encoded data removed]",
      "text/plain": [
       "<Figure size 576x576 with 2 Axes>"
      ]
     },
     "metadata": {
      "needs_background": "light"
     },
     "output_type": "display_data"
    }
   ],
   "source": [
    "interpretation = causal_estimate_ipw.interpret(method_name=\"confounder_distribution_interpreter\", fig_size=(8,8), font_size=12, var_name='W4', var_type='discrete')"
   ]
  },
  {
   "cell_type": "code",
   "execution_count": null,
   "id": "ac4c6c26",
   "metadata": {},
   "outputs": [],
   "source": []
  }
 ],
 "metadata": {
  "kernelspec": {
   "display_name": "Python 3",
   "language": "python",
   "name": "python3"
  },
  "language_info": {
   "codemirror_mode": {
    "name": "ipython",
    "version": 3
   },
   "file_extension": ".py",
   "mimetype": "text/x-python",
   "name": "python",
   "nbconvert_exporter": "python",
   "pygments_lexer": "ipython3",
   "version": "3.8.10"
  },
  "toc": {
   "base_numbering": 1,
   "nav_menu": {},
   "number_sections": false,
   "sideBar": true,
   "skip_h1_title": true,
   "title_cell": "Table of Contents",
   "title_sidebar": "Contents",
   "toc_cell": false,
   "toc_position": {},
   "toc_section_display": true,
   "toc_window_display": false
  }
 },
 "nbformat": 4,
 "nbformat_minor": 5
}
