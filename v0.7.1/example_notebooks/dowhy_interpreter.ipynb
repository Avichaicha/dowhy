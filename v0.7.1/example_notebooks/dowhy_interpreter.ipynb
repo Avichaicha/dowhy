{
 "cells": [
  {
   "cell_type": "markdown",
   "id": "a346456e",
   "metadata": {},
   "source": [
    "# DoWhy: Interpreters for Causal Estimators\n",
    "\n",
    "This is a quick introduction to the use of interpreters in the DoWhy causal inference library.\n",
    "We will load in a sample dataset, use different methods for estimating the causal effect of a (pre-specified)treatment variable on a (pre-specified) outcome variable and demonstrate how to interpret the obtained results.\n",
    "\n",
    "First, let us add the required path for Python to find the DoWhy code and load all required packages"
   ]
  },
  {
   "cell_type": "code",
   "execution_count": 1,
   "id": "64a1b2be",
   "metadata": {
    "execution": {
     "iopub.execute_input": "2022-08-16T13:42:55.306241Z",
     "iopub.status.busy": "2022-08-16T13:42:55.305937Z",
     "iopub.status.idle": "2022-08-16T13:42:55.327372Z",
     "shell.execute_reply": "2022-08-16T13:42:55.326471Z"
    }
   },
   "outputs": [],
   "source": [
    "%load_ext autoreload\n",
    "%autoreload 2"
   ]
  },
  {
   "cell_type": "code",
   "execution_count": 2,
   "id": "1fc78f42",
   "metadata": {
    "execution": {
     "iopub.execute_input": "2022-08-16T13:42:55.330666Z",
     "iopub.status.busy": "2022-08-16T13:42:55.330367Z",
     "iopub.status.idle": "2022-08-16T13:42:56.618095Z",
     "shell.execute_reply": "2022-08-16T13:42:56.617106Z"
    }
   },
   "outputs": [],
   "source": [
    "import numpy as np\n",
    "import pandas as pd\n",
    "import logging\n",
    "\n",
    "import dowhy\n",
    "from dowhy import CausalModel\n",
    "import dowhy.datasets "
   ]
  },
  {
   "cell_type": "markdown",
   "id": "bea60ff7",
   "metadata": {},
   "source": [
    "Now, let us load a dataset. For simplicity, we simulate a dataset with linear relationships between common causes and treatment, and common causes and outcome.\n",
    "\n",
    "Beta is the true causal effect."
   ]
  },
  {
   "cell_type": "code",
   "execution_count": 3,
   "id": "032cdfe6",
   "metadata": {
    "execution": {
     "iopub.execute_input": "2022-08-16T13:42:56.623671Z",
     "iopub.status.busy": "2022-08-16T13:42:56.623096Z",
     "iopub.status.idle": "2022-08-16T13:42:57.101031Z",
     "shell.execute_reply": "2022-08-16T13:42:57.099883Z"
    }
   },
   "outputs": [
    {
     "name": "stdout",
     "output_type": "stream",
     "text": [
      "8669\n"
     ]
    },
    {
     "data": {
      "text/html": [
       "<div>\n",
       "<style scoped>\n",
       "    .dataframe tbody tr th:only-of-type {\n",
       "        vertical-align: middle;\n",
       "    }\n",
       "\n",
       "    .dataframe tbody tr th {\n",
       "        vertical-align: top;\n",
       "    }\n",
       "\n",
       "    .dataframe thead th {\n",
       "        text-align: right;\n",
       "    }\n",
       "</style>\n",
       "<table border=\"1\" class=\"dataframe\">\n",
       "  <thead>\n",
       "    <tr style=\"text-align: right;\">\n",
       "      <th></th>\n",
       "      <th>Z0</th>\n",
       "      <th>Z1</th>\n",
       "      <th>W0</th>\n",
       "      <th>W1</th>\n",
       "      <th>W2</th>\n",
       "      <th>W3</th>\n",
       "      <th>W4</th>\n",
       "      <th>v0</th>\n",
       "      <th>y</th>\n",
       "    </tr>\n",
       "  </thead>\n",
       "  <tbody>\n",
       "    <tr>\n",
       "      <th>0</th>\n",
       "      <td>1.0</td>\n",
       "      <td>0.592365</td>\n",
       "      <td>0.113148</td>\n",
       "      <td>-0.103927</td>\n",
       "      <td>1.557252</td>\n",
       "      <td>0.367347</td>\n",
       "      <td>0</td>\n",
       "      <td>True</td>\n",
       "      <td>1.461181</td>\n",
       "    </tr>\n",
       "    <tr>\n",
       "      <th>1</th>\n",
       "      <td>1.0</td>\n",
       "      <td>0.370637</td>\n",
       "      <td>1.219404</td>\n",
       "      <td>2.059963</td>\n",
       "      <td>-0.743368</td>\n",
       "      <td>-1.509071</td>\n",
       "      <td>1</td>\n",
       "      <td>True</td>\n",
       "      <td>1.565131</td>\n",
       "    </tr>\n",
       "    <tr>\n",
       "      <th>2</th>\n",
       "      <td>0.0</td>\n",
       "      <td>0.505514</td>\n",
       "      <td>-0.123612</td>\n",
       "      <td>0.409731</td>\n",
       "      <td>-0.690550</td>\n",
       "      <td>0.721049</td>\n",
       "      <td>0</td>\n",
       "      <td>True</td>\n",
       "      <td>1.346860</td>\n",
       "    </tr>\n",
       "    <tr>\n",
       "      <th>3</th>\n",
       "      <td>1.0</td>\n",
       "      <td>0.097791</td>\n",
       "      <td>0.883430</td>\n",
       "      <td>-0.711304</td>\n",
       "      <td>0.253910</td>\n",
       "      <td>-0.730112</td>\n",
       "      <td>1</td>\n",
       "      <td>True</td>\n",
       "      <td>0.913047</td>\n",
       "    </tr>\n",
       "    <tr>\n",
       "      <th>4</th>\n",
       "      <td>1.0</td>\n",
       "      <td>0.696105</td>\n",
       "      <td>-0.035187</td>\n",
       "      <td>0.054081</td>\n",
       "      <td>-1.175940</td>\n",
       "      <td>0.710895</td>\n",
       "      <td>3</td>\n",
       "      <td>True</td>\n",
       "      <td>1.490235</td>\n",
       "    </tr>\n",
       "    <tr>\n",
       "      <th>...</th>\n",
       "      <td>...</td>\n",
       "      <td>...</td>\n",
       "      <td>...</td>\n",
       "      <td>...</td>\n",
       "      <td>...</td>\n",
       "      <td>...</td>\n",
       "      <td>...</td>\n",
       "      <td>...</td>\n",
       "      <td>...</td>\n",
       "    </tr>\n",
       "    <tr>\n",
       "      <th>9995</th>\n",
       "      <td>0.0</td>\n",
       "      <td>0.394383</td>\n",
       "      <td>-0.853461</td>\n",
       "      <td>1.227988</td>\n",
       "      <td>1.894916</td>\n",
       "      <td>1.966565</td>\n",
       "      <td>3</td>\n",
       "      <td>False</td>\n",
       "      <td>1.617800</td>\n",
       "    </tr>\n",
       "    <tr>\n",
       "      <th>9996</th>\n",
       "      <td>1.0</td>\n",
       "      <td>0.954533</td>\n",
       "      <td>1.797459</td>\n",
       "      <td>1.215884</td>\n",
       "      <td>0.793983</td>\n",
       "      <td>-0.121442</td>\n",
       "      <td>2</td>\n",
       "      <td>True</td>\n",
       "      <td>2.588120</td>\n",
       "    </tr>\n",
       "    <tr>\n",
       "      <th>9997</th>\n",
       "      <td>0.0</td>\n",
       "      <td>0.807825</td>\n",
       "      <td>-0.545427</td>\n",
       "      <td>-0.619636</td>\n",
       "      <td>-1.188992</td>\n",
       "      <td>-0.348506</td>\n",
       "      <td>3</td>\n",
       "      <td>True</td>\n",
       "      <td>0.415974</td>\n",
       "    </tr>\n",
       "    <tr>\n",
       "      <th>9998</th>\n",
       "      <td>1.0</td>\n",
       "      <td>0.137569</td>\n",
       "      <td>-0.790826</td>\n",
       "      <td>-0.776774</td>\n",
       "      <td>-1.256211</td>\n",
       "      <td>2.093636</td>\n",
       "      <td>1</td>\n",
       "      <td>True</td>\n",
       "      <td>1.306801</td>\n",
       "    </tr>\n",
       "    <tr>\n",
       "      <th>9999</th>\n",
       "      <td>1.0</td>\n",
       "      <td>0.797550</td>\n",
       "      <td>0.031164</td>\n",
       "      <td>-0.030309</td>\n",
       "      <td>-0.110188</td>\n",
       "      <td>-0.619672</td>\n",
       "      <td>2</td>\n",
       "      <td>True</td>\n",
       "      <td>0.871430</td>\n",
       "    </tr>\n",
       "  </tbody>\n",
       "</table>\n",
       "<p>10000 rows × 9 columns</p>\n",
       "</div>"
      ],
      "text/plain": [
       "       Z0        Z1        W0        W1        W2        W3 W4     v0  \\\n",
       "0     1.0  0.592365  0.113148 -0.103927  1.557252  0.367347  0   True   \n",
       "1     1.0  0.370637  1.219404  2.059963 -0.743368 -1.509071  1   True   \n",
       "2     0.0  0.505514 -0.123612  0.409731 -0.690550  0.721049  0   True   \n",
       "3     1.0  0.097791  0.883430 -0.711304  0.253910 -0.730112  1   True   \n",
       "4     1.0  0.696105 -0.035187  0.054081 -1.175940  0.710895  3   True   \n",
       "...   ...       ...       ...       ...       ...       ... ..    ...   \n",
       "9995  0.0  0.394383 -0.853461  1.227988  1.894916  1.966565  3  False   \n",
       "9996  1.0  0.954533  1.797459  1.215884  0.793983 -0.121442  2   True   \n",
       "9997  0.0  0.807825 -0.545427 -0.619636 -1.188992 -0.348506  3   True   \n",
       "9998  1.0  0.137569 -0.790826 -0.776774 -1.256211  2.093636  1   True   \n",
       "9999  1.0  0.797550  0.031164 -0.030309 -0.110188 -0.619672  2   True   \n",
       "\n",
       "             y  \n",
       "0     1.461181  \n",
       "1     1.565131  \n",
       "2     1.346860  \n",
       "3     0.913047  \n",
       "4     1.490235  \n",
       "...        ...  \n",
       "9995  1.617800  \n",
       "9996  2.588120  \n",
       "9997  0.415974  \n",
       "9998  1.306801  \n",
       "9999  0.871430  \n",
       "\n",
       "[10000 rows x 9 columns]"
      ]
     },
     "execution_count": 3,
     "metadata": {},
     "output_type": "execute_result"
    }
   ],
   "source": [
    "data = dowhy.datasets.linear_dataset(beta=1,\n",
    "        num_common_causes=5, \n",
    "        num_instruments = 2,\n",
    "        num_treatments=1,\n",
    "        num_discrete_common_causes=1,\n",
    "        num_samples=10000,\n",
    "        treatment_is_binary=True,\n",
    "        outcome_is_binary=False)\n",
    "df = data[\"df\"]\n",
    "print(df[df.v0==True].shape[0])\n",
    "df"
   ]
  },
  {
   "cell_type": "markdown",
   "id": "ad5b0e0d",
   "metadata": {},
   "source": [
    "Note that we are using a pandas dataframe to load the data."
   ]
  },
  {
   "cell_type": "markdown",
   "id": "ed18c67a",
   "metadata": {},
   "source": [
    "## Identifying the causal estimand"
   ]
  },
  {
   "cell_type": "markdown",
   "id": "e3f77a89",
   "metadata": {},
   "source": [
    "We now input a causal graph in the GML graph format."
   ]
  },
  {
   "cell_type": "code",
   "execution_count": 4,
   "id": "3224498a",
   "metadata": {
    "execution": {
     "iopub.execute_input": "2022-08-16T13:42:57.105623Z",
     "iopub.status.busy": "2022-08-16T13:42:57.105321Z",
     "iopub.status.idle": "2022-08-16T13:42:57.138504Z",
     "shell.execute_reply": "2022-08-16T13:42:57.137281Z"
    }
   },
   "outputs": [],
   "source": [
    "# With graph\n",
    "model=CausalModel(\n",
    "        data = df,\n",
    "        treatment=data[\"treatment_name\"],\n",
    "        outcome=data[\"outcome_name\"],\n",
    "        graph=data[\"gml_graph\"],\n",
    "        instruments=data[\"instrument_names\"]\n",
    "        )"
   ]
  },
  {
   "cell_type": "code",
   "execution_count": 5,
   "id": "1ef740ca",
   "metadata": {
    "execution": {
     "iopub.execute_input": "2022-08-16T13:42:57.143399Z",
     "iopub.status.busy": "2022-08-16T13:42:57.143094Z",
     "iopub.status.idle": "2022-08-16T13:42:57.215592Z",
     "shell.execute_reply": "2022-08-16T13:42:57.214648Z"
    }
   },
   "outputs": [],
   "source": [
    "model.view_model()"
   ]
  },
  {
   "cell_type": "code",
   "execution_count": 6,
   "id": "f3ffd20b",
   "metadata": {
    "execution": {
     "iopub.execute_input": "2022-08-16T13:42:57.218969Z",
     "iopub.status.busy": "2022-08-16T13:42:57.218724Z",
     "iopub.status.idle": "2022-08-16T13:42:57.253060Z",
     "shell.execute_reply": "2022-08-16T13:42:57.251942Z"
    }
   },
   "outputs": [
    {
     "data": {
      "image/png": "[encoded data removed]",
      "text/plain": [
       "<IPython.core.display.Image object>"
      ]
     },
     "metadata": {},
     "output_type": "display_data"
    }
   ],
   "source": [
    "from IPython.display import Image, display\n",
    "display(Image(filename=\"causal_model.png\"))"
   ]
  },
  {
   "cell_type": "markdown",
   "id": "0feec765",
   "metadata": {},
   "source": [
    "We get a causal graph. Now identification and estimation is done."
   ]
  },
  {
   "cell_type": "code",
   "execution_count": 7,
   "id": "7db913a0",
   "metadata": {
    "execution": {
     "iopub.execute_input": "2022-08-16T13:42:57.256660Z",
     "iopub.status.busy": "2022-08-16T13:42:57.256371Z",
     "iopub.status.idle": "2022-08-16T13:42:57.545089Z",
     "shell.execute_reply": "2022-08-16T13:42:57.544185Z"
    }
   },
   "outputs": [
    {
     "name": "stdout",
     "output_type": "stream",
     "text": [
      "Estimand type: nonparametric-ate\n",
      "\n",
      "### Estimand : 1\n",
      "Estimand name: backdoor\n",
      "Estimand expression:\n",
      "  d                       \n",
      "─────(E[y|W0,W3,W2,W1,W4])\n",
      "d[v₀]                     \n",
      "Estimand assumption 1, Unconfoundedness: If U→{v0} and U→y then P(y|v0,W0,W3,W2,W1,W4,U) = P(y|v0,W0,W3,W2,W1,W4)\n",
      "\n",
      "### Estimand : 2\n",
      "Estimand name: iv\n",
      "Estimand expression:\n",
      " ⎡                              -1⎤\n",
      " ⎢    d        ⎛    d          ⎞  ⎥\n",
      "E⎢─────────(y)⋅⎜─────────([v₀])⎟  ⎥\n",
      " ⎣d[Z₁  Z₀]    ⎝d[Z₁  Z₀]      ⎠  ⎦\n",
      "Estimand assumption 1, As-if-random: If U→→y then ¬(U →→{Z1,Z0})\n",
      "Estimand assumption 2, Exclusion: If we remove {Z1,Z0}→{v0}, then ¬({Z1,Z0}→y)\n",
      "\n",
      "### Estimand : 3\n",
      "Estimand name: frontdoor\n",
      "No such variable(s) found!\n",
      "\n"
     ]
    }
   ],
   "source": [
    "identified_estimand = model.identify_effect(proceed_when_unidentifiable=True)\n",
    "print(identified_estimand)"
   ]
  },
  {
   "cell_type": "markdown",
   "id": "6dba5cdc",
   "metadata": {},
   "source": [
    "## Method 1: Propensity Score Stratification\n",
    "\n",
    "We will be using propensity scores to stratify units in the data."
   ]
  },
  {
   "cell_type": "code",
   "execution_count": 8,
   "id": "1a5fd106",
   "metadata": {
    "execution": {
     "iopub.execute_input": "2022-08-16T13:42:57.549009Z",
     "iopub.status.busy": "2022-08-16T13:42:57.548704Z",
     "iopub.status.idle": "2022-08-16T13:42:58.700805Z",
     "shell.execute_reply": "2022-08-16T13:42:58.699940Z"
    }
   },
   "outputs": [
    {
     "name": "stdout",
     "output_type": "stream",
     "text": [
      "propensity_score_stratification\n"
     ]
    },
    {
     "name": "stderr",
     "output_type": "stream",
     "text": [
      "/github/home/.cache/pypoetry/virtualenvs/dowhy-oN2hW5jr-py3.8/lib/python3.8/site-packages/sklearn/utils/validation.py:993: DataConversionWarning: A column-vector y was passed when a 1d array was expected. Please change the shape of y to (n_samples, ), for example using ravel().\n",
      "  y = column_or_1d(y, warn=True)\n"
     ]
    },
    {
     "name": "stdout",
     "output_type": "stream",
     "text": [
      "*** Causal Estimate ***\n",
      "\n",
      "## Identified estimand\n",
      "Estimand type: nonparametric-ate\n",
      "\n",
      "### Estimand : 1\n",
      "Estimand name: backdoor\n",
      "Estimand expression:\n",
      "  d                       \n",
      "─────(E[y|W0,W3,W2,W1,W4])\n",
      "d[v₀]                     \n",
      "Estimand assumption 1, Unconfoundedness: If U→{v0} and U→y then P(y|v0,W0,W3,W2,W1,W4,U) = P(y|v0,W0,W3,W2,W1,W4)\n",
      "\n",
      "## Realized estimand\n",
      "b: y~v0+W0+W3+W2+W1+W4\n",
      "Target units: att\n",
      "\n",
      "## Estimate\n",
      "Mean value: 1.0003613553391133\n",
      "\n",
      "Causal Estimate is 1.0003613553391133\n"
     ]
    }
   ],
   "source": [
    "causal_estimate_strat = model.estimate_effect(identified_estimand,\n",
    "                                              method_name=\"backdoor.propensity_score_stratification\",\n",
    "                                              target_units=\"att\")\n",
    "print(causal_estimate_strat)\n",
    "print(\"Causal Estimate is \" + str(causal_estimate_strat.value))"
   ]
  },
  {
   "cell_type": "markdown",
   "id": "57c1717b",
   "metadata": {},
   "source": [
    "### Textual Interpreter\n",
    "\n",
    "The textual Interpreter describes (in words) the effect of unit change in the treatment variable on the outcome variable."
   ]
  },
  {
   "cell_type": "code",
   "execution_count": 9,
   "id": "b8f39912",
   "metadata": {
    "execution": {
     "iopub.execute_input": "2022-08-16T13:42:58.705097Z",
     "iopub.status.busy": "2022-08-16T13:42:58.704693Z",
     "iopub.status.idle": "2022-08-16T13:42:58.736913Z",
     "shell.execute_reply": "2022-08-16T13:42:58.735956Z"
    }
   },
   "outputs": [
    {
     "name": "stdout",
     "output_type": "stream",
     "text": [
      "Increasing the treatment variable(s) [v0] from 0 to 1 causes an increase of 1.0003613553391133 in the expected value of the outcome [y], over the data distribution/population represented by the dataset.\n"
     ]
    }
   ],
   "source": [
    "# Textual Interpreter\n",
    "interpretation = causal_estimate_strat.interpret(method_name=\"textual_effect_interpreter\")"
   ]
  },
  {
   "cell_type": "markdown",
   "id": "df8a12ed",
   "metadata": {},
   "source": [
    "### Visual Interpreter\n",
    "\n",
    "The visual interpreter plots the change in the standardized mean difference (SMD) before and after Propensity Score based adjustment of the dataset. The formula for SMD is given below.\n",
    "\n",
    "\n",
    "$SMD = \\frac{\\bar X_{1} - \\bar X_{2}}{\\sqrt{(S_{1}^{2} + S_{2}^{2})/2}}$\n",
    "\n",
    "Here, $\\bar X_{1}$ and $\\bar X_{2}$ are the sample mean for the treated and control groups.\n"
   ]
  },
  {
   "cell_type": "code",
   "execution_count": 10,
   "id": "043ac4f7",
   "metadata": {
    "execution": {
     "iopub.execute_input": "2022-08-16T13:42:58.740907Z",
     "iopub.status.busy": "2022-08-16T13:42:58.740442Z",
     "iopub.status.idle": "2022-08-16T13:43:00.155513Z",
     "shell.execute_reply": "2022-08-16T13:43:00.154168Z"
    }
   },
   "outputs": [
    {
     "data": {
      "image/png": "[encoded data removed]",
      "text/plain": [
       "<Figure size 432x288 with 1 Axes>"
      ]
     },
     "metadata": {
      "needs_background": "light"
     },
     "output_type": "display_data"
    }
   ],
   "source": [
    "# Visual Interpreter\n",
    "interpretation = causal_estimate_strat.interpret(method_name=\"propensity_balance_interpreter\")"
   ]
  },
  {
   "cell_type": "markdown",
   "id": "167d03b2",
   "metadata": {},
   "source": [
    "This plot shows how the SMD decreases from the unadjusted to the stratified units. "
   ]
  },
  {
   "cell_type": "markdown",
   "id": "8eba380d",
   "metadata": {},
   "source": [
    "## Method 2: Propensity Score Matching\n",
    "\n",
    "We will be using propensity scores to match units in the data."
   ]
  },
  {
   "cell_type": "code",
   "execution_count": 11,
   "id": "b2984255",
   "metadata": {
    "execution": {
     "iopub.execute_input": "2022-08-16T13:43:00.161158Z",
     "iopub.status.busy": "2022-08-16T13:43:00.159983Z",
     "iopub.status.idle": "2022-08-16T13:43:06.577224Z",
     "shell.execute_reply": "2022-08-16T13:43:06.576496Z"
    }
   },
   "outputs": [
    {
     "name": "stdout",
     "output_type": "stream",
     "text": [
      "propensity_score_matching\n"
     ]
    },
    {
     "name": "stderr",
     "output_type": "stream",
     "text": [
      "/github/home/.cache/pypoetry/virtualenvs/dowhy-oN2hW5jr-py3.8/lib/python3.8/site-packages/sklearn/utils/validation.py:993: DataConversionWarning: A column-vector y was passed when a 1d array was expected. Please change the shape of y to (n_samples, ), for example using ravel().\n",
      "  y = column_or_1d(y, warn=True)\n"
     ]
    },
    {
     "name": "stdout",
     "output_type": "stream",
     "text": [
      "*** Causal Estimate ***\n",
      "\n",
      "## Identified estimand\n",
      "Estimand type: nonparametric-ate\n",
      "\n",
      "### Estimand : 1\n",
      "Estimand name: backdoor\n",
      "Estimand expression:\n",
      "  d                       \n",
      "─────(E[y|W0,W3,W2,W1,W4])\n",
      "d[v₀]                     \n",
      "Estimand assumption 1, Unconfoundedness: If U→{v0} and U→y then P(y|v0,W0,W3,W2,W1,W4,U) = P(y|v0,W0,W3,W2,W1,W4)\n",
      "\n",
      "## Realized estimand\n",
      "b: y~v0+W0+W3+W2+W1+W4\n",
      "Target units: atc\n",
      "\n",
      "## Estimate\n",
      "Mean value: 0.9991753502056313\n",
      "\n",
      "Causal Estimate is 0.9991753502056313\n"
     ]
    }
   ],
   "source": [
    "causal_estimate_match = model.estimate_effect(identified_estimand,\n",
    "                                              method_name=\"backdoor.propensity_score_matching\",\n",
    "                                              target_units=\"atc\")\n",
    "print(causal_estimate_match)\n",
    "print(\"Causal Estimate is \" + str(causal_estimate_match.value))"
   ]
  },
  {
   "cell_type": "code",
   "execution_count": 12,
   "id": "2864b1ee",
   "metadata": {
    "execution": {
     "iopub.execute_input": "2022-08-16T13:43:06.581720Z",
     "iopub.status.busy": "2022-08-16T13:43:06.581105Z",
     "iopub.status.idle": "2022-08-16T13:43:06.614710Z",
     "shell.execute_reply": "2022-08-16T13:43:06.613744Z"
    }
   },
   "outputs": [
    {
     "name": "stdout",
     "output_type": "stream",
     "text": [
      "Increasing the treatment variable(s) [v0] from 0 to 1 causes an increase of 0.9991753502056313 in the expected value of the outcome [y], over the data distribution/population represented by the dataset.\n"
     ]
    }
   ],
   "source": [
    "# Textual Interpreter\n",
    "interpretation = causal_estimate_match.interpret(method_name=\"textual_effect_interpreter\")"
   ]
  },
  {
   "cell_type": "markdown",
   "id": "c555df2c",
   "metadata": {},
   "source": [
    "Cannot use propensity balance interpretor here since the interpreter method only supports propensity score stratification estimator."
   ]
  },
  {
   "cell_type": "markdown",
   "id": "62421e71",
   "metadata": {},
   "source": [
    "## Method 3: Weighting\n",
    "\n",
    "We will be using (inverse) propensity scores to assign weights to units in the data. DoWhy supports a few different weighting schemes:\n",
    "1. Vanilla Inverse Propensity Score weighting (IPS) (weighting_scheme=\"ips_weight\")\n",
    "2. Self-normalized IPS weighting (also known as the Hajek estimator) (weighting_scheme=\"ips_normalized_weight\")\n",
    "3. Stabilized IPS weighting (weighting_scheme = \"ips_stabilized_weight\")"
   ]
  },
  {
   "cell_type": "code",
   "execution_count": 13,
   "id": "6d80f8d0",
   "metadata": {
    "execution": {
     "iopub.execute_input": "2022-08-16T13:43:06.620206Z",
     "iopub.status.busy": "2022-08-16T13:43:06.619828Z",
     "iopub.status.idle": "2022-08-16T13:43:06.711206Z",
     "shell.execute_reply": "2022-08-16T13:43:06.708928Z"
    }
   },
   "outputs": [
    {
     "name": "stdout",
     "output_type": "stream",
     "text": [
      "propensity_score_weighting\n",
      "*** Causal Estimate ***\n",
      "\n",
      "## Identified estimand\n",
      "Estimand type: nonparametric-ate\n",
      "\n",
      "### Estimand : 1\n",
      "Estimand name: backdoor\n",
      "Estimand expression:\n",
      "  d                       \n",
      "─────(E[y|W0,W3,W2,W1,W4])\n",
      "d[v₀]                     \n",
      "Estimand assumption 1, Unconfoundedness: If U→{v0} and U→y then P(y|v0,W0,W3,W2,W1,W4,U) = P(y|v0,W0,W3,W2,W1,W4)\n",
      "\n",
      "## Realized estimand\n",
      "b: y~v0+W0+W3+W2+W1+W4\n",
      "Target units: ate\n",
      "\n",
      "## Estimate\n",
      "Mean value: 1.0181329316191596\n",
      "\n",
      "Causal Estimate is 1.0181329316191596\n"
     ]
    },
    {
     "name": "stderr",
     "output_type": "stream",
     "text": [
      "/github/home/.cache/pypoetry/virtualenvs/dowhy-oN2hW5jr-py3.8/lib/python3.8/site-packages/sklearn/utils/validation.py:993: DataConversionWarning: A column-vector y was passed when a 1d array was expected. Please change the shape of y to (n_samples, ), for example using ravel().\n",
      "  y = column_or_1d(y, warn=True)\n"
     ]
    }
   ],
   "source": [
    "causal_estimate_ipw = model.estimate_effect(identified_estimand,\n",
    "                                            method_name=\"backdoor.propensity_score_weighting\",\n",
    "                                            target_units = \"ate\",\n",
    "                                            method_params={\"weighting_scheme\":\"ips_weight\"})\n",
    "print(causal_estimate_ipw)\n",
    "print(\"Causal Estimate is \" + str(causal_estimate_ipw.value))"
   ]
  },
  {
   "cell_type": "code",
   "execution_count": 14,
   "id": "af8818e6",
   "metadata": {
    "execution": {
     "iopub.execute_input": "2022-08-16T13:43:06.716005Z",
     "iopub.status.busy": "2022-08-16T13:43:06.715653Z",
     "iopub.status.idle": "2022-08-16T13:43:06.756200Z",
     "shell.execute_reply": "2022-08-16T13:43:06.755123Z"
    }
   },
   "outputs": [
    {
     "name": "stdout",
     "output_type": "stream",
     "text": [
      "Increasing the treatment variable(s) [v0] from 0 to 1 causes an increase of 1.0181329316191596 in the expected value of the outcome [y], over the data distribution/population represented by the dataset.\n"
     ]
    }
   ],
   "source": [
    "# Textual Interpreter\n",
    "interpretation = causal_estimate_ipw.interpret(method_name=\"textual_effect_interpreter\")"
   ]
  },
  {
   "cell_type": "code",
   "execution_count": 15,
   "id": "693c2843",
   "metadata": {
    "execution": {
     "iopub.execute_input": "2022-08-16T13:43:06.761912Z",
     "iopub.status.busy": "2022-08-16T13:43:06.760566Z",
     "iopub.status.idle": "2022-08-16T13:43:07.129953Z",
     "shell.execute_reply": "2022-08-16T13:43:07.128808Z"
    }
   },
   "outputs": [
    {
     "data": {
      "image/png": "[encoded data removed]",
      "text/plain": [
       "<Figure size 576x576 with 2 Axes>"
      ]
     },
     "metadata": {
      "needs_background": "light"
     },
     "output_type": "display_data"
    }
   ],
   "source": [
    "interpretation = causal_estimate_ipw.interpret(method_name=\"confounder_distribution_interpreter\", fig_size=(8,8), font_size=12, var_name='W4', var_type='discrete')"
   ]
  },
  {
   "cell_type": "code",
   "execution_count": null,
   "id": "93d25fc3",
   "metadata": {},
   "outputs": [],
   "source": []
  }
 ],
 "metadata": {
  "kernelspec": {
   "display_name": "Python 3",
   "language": "python",
   "name": "python3"
  },
  "language_info": {
   "codemirror_mode": {
    "name": "ipython",
    "version": 3
   },
   "file_extension": ".py",
   "mimetype": "text/x-python",
   "name": "python",
   "nbconvert_exporter": "python",
   "pygments_lexer": "ipython3",
   "version": "3.8.10"
  },
  "toc": {
   "base_numbering": 1,
   "nav_menu": {},
   "number_sections": false,
   "sideBar": true,
   "skip_h1_title": true,
   "title_cell": "Table of Contents",
   "title_sidebar": "Contents",
   "toc_cell": false,
   "toc_position": {},
   "toc_section_display": true,
   "toc_window_display": false
  }
 },
 "nbformat": 4,
 "nbformat_minor": 5
}
