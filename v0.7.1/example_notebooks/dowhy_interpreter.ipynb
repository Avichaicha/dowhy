{
 "cells": [
  {
   "cell_type": "markdown",
   "id": "94e5d575",
   "metadata": {},
   "source": [
    "# DoWhy: Interpreters for Causal Estimators\n",
    "\n",
    "This is a quick introduction to the use of interpreters in the DoWhy causal inference library.\n",
    "We will load in a sample dataset, use different methods for estimating the causal effect of a (pre-specified)treatment variable on a (pre-specified) outcome variable and demonstrate how to interpret the obtained results.\n",
    "\n",
    "First, let us add the required path for Python to find the DoWhy code and load all required packages"
   ]
  },
  {
   "cell_type": "code",
   "execution_count": 1,
   "id": "246ede00",
   "metadata": {
    "execution": {
     "iopub.execute_input": "2022-09-02T09:10:02.541447Z",
     "iopub.status.busy": "2022-09-02T09:10:02.539657Z",
     "iopub.status.idle": "2022-09-02T09:10:02.565412Z",
     "shell.execute_reply": "2022-09-02T09:10:02.564665Z"
    }
   },
   "outputs": [],
   "source": [
    "%load_ext autoreload\n",
    "%autoreload 2"
   ]
  },
  {
   "cell_type": "code",
   "execution_count": 2,
   "id": "2eb08226",
   "metadata": {
    "execution": {
     "iopub.execute_input": "2022-09-02T09:10:02.569823Z",
     "iopub.status.busy": "2022-09-02T09:10:02.569236Z",
     "iopub.status.idle": "2022-09-02T09:10:03.868942Z",
     "shell.execute_reply": "2022-09-02T09:10:03.868053Z"
    }
   },
   "outputs": [],
   "source": [
    "import numpy as np\n",
    "import pandas as pd\n",
    "import logging\n",
    "\n",
    "import dowhy\n",
    "from dowhy import CausalModel\n",
    "import dowhy.datasets "
   ]
  },
  {
   "cell_type": "markdown",
   "id": "2a573bda",
   "metadata": {},
   "source": [
    "Now, let us load a dataset. For simplicity, we simulate a dataset with linear relationships between common causes and treatment, and common causes and outcome.\n",
    "\n",
    "Beta is the true causal effect."
   ]
  },
  {
   "cell_type": "code",
   "execution_count": 3,
   "id": "c3b1cadd",
   "metadata": {
    "execution": {
     "iopub.execute_input": "2022-09-02T09:10:03.873794Z",
     "iopub.status.busy": "2022-09-02T09:10:03.873309Z",
     "iopub.status.idle": "2022-09-02T09:10:04.215617Z",
     "shell.execute_reply": "2022-09-02T09:10:04.214829Z"
    }
   },
   "outputs": [
    {
     "name": "stdout",
     "output_type": "stream",
     "text": [
      "8975\n"
     ]
    },
    {
     "data": {
      "text/html": [
       "<div>\n",
       "<style scoped>\n",
       "    .dataframe tbody tr th:only-of-type {\n",
       "        vertical-align: middle;\n",
       "    }\n",
       "\n",
       "    .dataframe tbody tr th {\n",
       "        vertical-align: top;\n",
       "    }\n",
       "\n",
       "    .dataframe thead th {\n",
       "        text-align: right;\n",
       "    }\n",
       "</style>\n",
       "<table border=\"1\" class=\"dataframe\">\n",
       "  <thead>\n",
       "    <tr style=\"text-align: right;\">\n",
       "      <th></th>\n",
       "      <th>Z0</th>\n",
       "      <th>Z1</th>\n",
       "      <th>W0</th>\n",
       "      <th>W1</th>\n",
       "      <th>W2</th>\n",
       "      <th>W3</th>\n",
       "      <th>W4</th>\n",
       "      <th>v0</th>\n",
       "      <th>y</th>\n",
       "    </tr>\n",
       "  </thead>\n",
       "  <tbody>\n",
       "    <tr>\n",
       "      <th>0</th>\n",
       "      <td>0.0</td>\n",
       "      <td>0.106546</td>\n",
       "      <td>-1.431707</td>\n",
       "      <td>-0.230081</td>\n",
       "      <td>0.142957</td>\n",
       "      <td>0.266265</td>\n",
       "      <td>3</td>\n",
       "      <td>True</td>\n",
       "      <td>1.800593</td>\n",
       "    </tr>\n",
       "    <tr>\n",
       "      <th>1</th>\n",
       "      <td>1.0</td>\n",
       "      <td>0.978749</td>\n",
       "      <td>2.206818</td>\n",
       "      <td>0.739537</td>\n",
       "      <td>0.074877</td>\n",
       "      <td>0.404157</td>\n",
       "      <td>1</td>\n",
       "      <td>True</td>\n",
       "      <td>3.948231</td>\n",
       "    </tr>\n",
       "    <tr>\n",
       "      <th>2</th>\n",
       "      <td>1.0</td>\n",
       "      <td>0.704522</td>\n",
       "      <td>-1.649031</td>\n",
       "      <td>0.238645</td>\n",
       "      <td>0.223383</td>\n",
       "      <td>0.288759</td>\n",
       "      <td>0</td>\n",
       "      <td>True</td>\n",
       "      <td>-0.036858</td>\n",
       "    </tr>\n",
       "    <tr>\n",
       "      <th>3</th>\n",
       "      <td>0.0</td>\n",
       "      <td>0.170689</td>\n",
       "      <td>0.786098</td>\n",
       "      <td>-0.847784</td>\n",
       "      <td>-0.368697</td>\n",
       "      <td>-0.265498</td>\n",
       "      <td>2</td>\n",
       "      <td>True</td>\n",
       "      <td>2.282981</td>\n",
       "    </tr>\n",
       "    <tr>\n",
       "      <th>4</th>\n",
       "      <td>0.0</td>\n",
       "      <td>0.174022</td>\n",
       "      <td>0.178350</td>\n",
       "      <td>1.538416</td>\n",
       "      <td>-0.934470</td>\n",
       "      <td>1.861362</td>\n",
       "      <td>2</td>\n",
       "      <td>True</td>\n",
       "      <td>3.598375</td>\n",
       "    </tr>\n",
       "    <tr>\n",
       "      <th>...</th>\n",
       "      <td>...</td>\n",
       "      <td>...</td>\n",
       "      <td>...</td>\n",
       "      <td>...</td>\n",
       "      <td>...</td>\n",
       "      <td>...</td>\n",
       "      <td>...</td>\n",
       "      <td>...</td>\n",
       "      <td>...</td>\n",
       "    </tr>\n",
       "    <tr>\n",
       "      <th>9995</th>\n",
       "      <td>0.0</td>\n",
       "      <td>0.451410</td>\n",
       "      <td>2.199691</td>\n",
       "      <td>-3.854540</td>\n",
       "      <td>0.255619</td>\n",
       "      <td>0.281927</td>\n",
       "      <td>2</td>\n",
       "      <td>True</td>\n",
       "      <td>2.279929</td>\n",
       "    </tr>\n",
       "    <tr>\n",
       "      <th>9996</th>\n",
       "      <td>0.0</td>\n",
       "      <td>0.195145</td>\n",
       "      <td>0.355651</td>\n",
       "      <td>1.072691</td>\n",
       "      <td>-0.750417</td>\n",
       "      <td>2.445305</td>\n",
       "      <td>2</td>\n",
       "      <td>True</td>\n",
       "      <td>3.768548</td>\n",
       "    </tr>\n",
       "    <tr>\n",
       "      <th>9997</th>\n",
       "      <td>0.0</td>\n",
       "      <td>0.794989</td>\n",
       "      <td>1.477545</td>\n",
       "      <td>-0.105302</td>\n",
       "      <td>-1.252641</td>\n",
       "      <td>0.947998</td>\n",
       "      <td>0</td>\n",
       "      <td>False</td>\n",
       "      <td>1.101086</td>\n",
       "    </tr>\n",
       "    <tr>\n",
       "      <th>9998</th>\n",
       "      <td>1.0</td>\n",
       "      <td>0.586201</td>\n",
       "      <td>1.245234</td>\n",
       "      <td>0.614362</td>\n",
       "      <td>-0.952110</td>\n",
       "      <td>1.640544</td>\n",
       "      <td>1</td>\n",
       "      <td>True</td>\n",
       "      <td>3.255174</td>\n",
       "    </tr>\n",
       "    <tr>\n",
       "      <th>9999</th>\n",
       "      <td>1.0</td>\n",
       "      <td>0.942608</td>\n",
       "      <td>-0.515185</td>\n",
       "      <td>1.639662</td>\n",
       "      <td>-1.385168</td>\n",
       "      <td>0.122734</td>\n",
       "      <td>0</td>\n",
       "      <td>True</td>\n",
       "      <td>1.040789</td>\n",
       "    </tr>\n",
       "  </tbody>\n",
       "</table>\n",
       "<p>10000 rows × 9 columns</p>\n",
       "</div>"
      ],
      "text/plain": [
       "       Z0        Z1        W0        W1        W2        W3 W4     v0  \\\n",
       "0     0.0  0.106546 -1.431707 -0.230081  0.142957  0.266265  3   True   \n",
       "1     1.0  0.978749  2.206818  0.739537  0.074877  0.404157  1   True   \n",
       "2     1.0  0.704522 -1.649031  0.238645  0.223383  0.288759  0   True   \n",
       "3     0.0  0.170689  0.786098 -0.847784 -0.368697 -0.265498  2   True   \n",
       "4     0.0  0.174022  0.178350  1.538416 -0.934470  1.861362  2   True   \n",
       "...   ...       ...       ...       ...       ...       ... ..    ...   \n",
       "9995  0.0  0.451410  2.199691 -3.854540  0.255619  0.281927  2   True   \n",
       "9996  0.0  0.195145  0.355651  1.072691 -0.750417  2.445305  2   True   \n",
       "9997  0.0  0.794989  1.477545 -0.105302 -1.252641  0.947998  0  False   \n",
       "9998  1.0  0.586201  1.245234  0.614362 -0.952110  1.640544  1   True   \n",
       "9999  1.0  0.942608 -0.515185  1.639662 -1.385168  0.122734  0   True   \n",
       "\n",
       "             y  \n",
       "0     1.800593  \n",
       "1     3.948231  \n",
       "2    -0.036858  \n",
       "3     2.282981  \n",
       "4     3.598375  \n",
       "...        ...  \n",
       "9995  2.279929  \n",
       "9996  3.768548  \n",
       "9997  1.101086  \n",
       "9998  3.255174  \n",
       "9999  1.040789  \n",
       "\n",
       "[10000 rows x 9 columns]"
      ]
     },
     "execution_count": 3,
     "metadata": {},
     "output_type": "execute_result"
    }
   ],
   "source": [
    "data = dowhy.datasets.linear_dataset(beta=1,\n",
    "        num_common_causes=5, \n",
    "        num_instruments = 2,\n",
    "        num_treatments=1,\n",
    "        num_discrete_common_causes=1,\n",
    "        num_samples=10000,\n",
    "        treatment_is_binary=True,\n",
    "        outcome_is_binary=False)\n",
    "df = data[\"df\"]\n",
    "print(df[df.v0==True].shape[0])\n",
    "df"
   ]
  },
  {
   "cell_type": "markdown",
   "id": "af9bb06b",
   "metadata": {},
   "source": [
    "Note that we are using a pandas dataframe to load the data."
   ]
  },
  {
   "cell_type": "markdown",
   "id": "7fada00c",
   "metadata": {},
   "source": [
    "## Identifying the causal estimand"
   ]
  },
  {
   "cell_type": "markdown",
   "id": "bea7b989",
   "metadata": {},
   "source": [
    "We now input a causal graph in the GML graph format."
   ]
  },
  {
   "cell_type": "code",
   "execution_count": 4,
   "id": "d527faff",
   "metadata": {
    "execution": {
     "iopub.execute_input": "2022-09-02T09:10:04.219900Z",
     "iopub.status.busy": "2022-09-02T09:10:04.219581Z",
     "iopub.status.idle": "2022-09-02T09:10:04.251387Z",
     "shell.execute_reply": "2022-09-02T09:10:04.250593Z"
    }
   },
   "outputs": [],
   "source": [
    "# With graph\n",
    "model=CausalModel(\n",
    "        data = df,\n",
    "        treatment=data[\"treatment_name\"],\n",
    "        outcome=data[\"outcome_name\"],\n",
    "        graph=data[\"gml_graph\"],\n",
    "        instruments=data[\"instrument_names\"]\n",
    "        )"
   ]
  },
  {
   "cell_type": "code",
   "execution_count": 5,
   "id": "0b902c72",
   "metadata": {
    "execution": {
     "iopub.execute_input": "2022-09-02T09:10:04.257669Z",
     "iopub.status.busy": "2022-09-02T09:10:04.255788Z",
     "iopub.status.idle": "2022-09-02T09:10:04.325135Z",
     "shell.execute_reply": "2022-09-02T09:10:04.323967Z"
    }
   },
   "outputs": [],
   "source": [
    "model.view_model()"
   ]
  },
  {
   "cell_type": "code",
   "execution_count": 6,
   "id": "059a36e9",
   "metadata": {
    "execution": {
     "iopub.execute_input": "2022-09-02T09:10:04.329643Z",
     "iopub.status.busy": "2022-09-02T09:10:04.328861Z",
     "iopub.status.idle": "2022-09-02T09:10:04.363449Z",
     "shell.execute_reply": "2022-09-02T09:10:04.362626Z"
    }
   },
   "outputs": [
    {
     "data": {
      "image/png": "[encoded data removed]",
      "text/plain": [
       "<IPython.core.display.Image object>"
      ]
     },
     "metadata": {},
     "output_type": "display_data"
    }
   ],
   "source": [
    "from IPython.display import Image, display\n",
    "display(Image(filename=\"causal_model.png\"))"
   ]
  },
  {
   "cell_type": "markdown",
   "id": "2dbf6b71",
   "metadata": {},
   "source": [
    "We get a causal graph. Now identification and estimation is done."
   ]
  },
  {
   "cell_type": "code",
   "execution_count": 7,
   "id": "4e14f880",
   "metadata": {
    "execution": {
     "iopub.execute_input": "2022-09-02T09:10:04.367563Z",
     "iopub.status.busy": "2022-09-02T09:10:04.367067Z",
     "iopub.status.idle": "2022-09-02T09:10:04.630860Z",
     "shell.execute_reply": "2022-09-02T09:10:04.629923Z"
    }
   },
   "outputs": [
    {
     "name": "stdout",
     "output_type": "stream",
     "text": [
      "Estimand type: nonparametric-ate\n",
      "\n",
      "### Estimand : 1\n",
      "Estimand name: backdoor\n",
      "Estimand expression:\n",
      "  d                       \n",
      "─────(E[y|W0,W3,W2,W4,W1])\n",
      "d[v₀]                     \n",
      "Estimand assumption 1, Unconfoundedness: If U→{v0} and U→y then P(y|v0,W0,W3,W2,W4,W1,U) = P(y|v0,W0,W3,W2,W4,W1)\n",
      "\n",
      "### Estimand : 2\n",
      "Estimand name: iv\n",
      "Estimand expression:\n",
      " ⎡                              -1⎤\n",
      " ⎢    d        ⎛    d          ⎞  ⎥\n",
      "E⎢─────────(y)⋅⎜─────────([v₀])⎟  ⎥\n",
      " ⎣d[Z₁  Z₀]    ⎝d[Z₁  Z₀]      ⎠  ⎦\n",
      "Estimand assumption 1, As-if-random: If U→→y then ¬(U →→{Z1,Z0})\n",
      "Estimand assumption 2, Exclusion: If we remove {Z1,Z0}→{v0}, then ¬({Z1,Z0}→y)\n",
      "\n",
      "### Estimand : 3\n",
      "Estimand name: frontdoor\n",
      "No such variable(s) found!\n",
      "\n"
     ]
    }
   ],
   "source": [
    "identified_estimand = model.identify_effect(proceed_when_unidentifiable=True)\n",
    "print(identified_estimand)"
   ]
  },
  {
   "cell_type": "markdown",
   "id": "d1626646",
   "metadata": {},
   "source": [
    "## Method 1: Propensity Score Stratification\n",
    "\n",
    "We will be using propensity scores to stratify units in the data."
   ]
  },
  {
   "cell_type": "code",
   "execution_count": 8,
   "id": "2532e76e",
   "metadata": {
    "execution": {
     "iopub.execute_input": "2022-09-02T09:10:04.634863Z",
     "iopub.status.busy": "2022-09-02T09:10:04.634532Z",
     "iopub.status.idle": "2022-09-02T09:10:05.572250Z",
     "shell.execute_reply": "2022-09-02T09:10:05.571308Z"
    }
   },
   "outputs": [
    {
     "name": "stdout",
     "output_type": "stream",
     "text": [
      "*** Causal Estimate ***\n",
      "\n",
      "## Identified estimand\n",
      "Estimand type: nonparametric-ate\n",
      "\n",
      "### Estimand : 1\n",
      "Estimand name: backdoor\n",
      "Estimand expression:\n",
      "  d                       \n",
      "─────(E[y|W0,W3,W2,W4,W1])\n",
      "d[v₀]                     \n",
      "Estimand assumption 1, Unconfoundedness: If U→{v0} and U→y then P(y|v0,W0,W3,W2,W4,W1,U) = P(y|v0,W0,W3,W2,W4,W1)\n",
      "\n",
      "## Realized estimand\n",
      "b: y~v0+W0+W3+W2+W4+W1\n",
      "Target units: att\n",
      "\n",
      "## Estimate\n",
      "Mean value: 1.0032020570801767\n",
      "\n",
      "Causal Estimate is 1.0032020570801767\n"
     ]
    }
   ],
   "source": [
    "causal_estimate_strat = model.estimate_effect(identified_estimand,\n",
    "                                              method_name=\"backdoor.propensity_score_stratification\",\n",
    "                                              target_units=\"att\")\n",
    "print(causal_estimate_strat)\n",
    "print(\"Causal Estimate is \" + str(causal_estimate_strat.value))"
   ]
  },
  {
   "cell_type": "markdown",
   "id": "8e897db8",
   "metadata": {},
   "source": [
    "### Textual Interpreter\n",
    "\n",
    "The textual Interpreter describes (in words) the effect of unit change in the treatment variable on the outcome variable."
   ]
  },
  {
   "cell_type": "code",
   "execution_count": 9,
   "id": "a3e4914f",
   "metadata": {
    "execution": {
     "iopub.execute_input": "2022-09-02T09:10:05.576719Z",
     "iopub.status.busy": "2022-09-02T09:10:05.576226Z",
     "iopub.status.idle": "2022-09-02T09:10:05.608114Z",
     "shell.execute_reply": "2022-09-02T09:10:05.607291Z"
    }
   },
   "outputs": [
    {
     "name": "stdout",
     "output_type": "stream",
     "text": [
      "Increasing the treatment variable(s) [v0] from 0 to 1 causes an increase of 1.0032020570801767 in the expected value of the outcome [y], over the data distribution/population represented by the dataset.\n"
     ]
    }
   ],
   "source": [
    "# Textual Interpreter\n",
    "interpretation = causal_estimate_strat.interpret(method_name=\"textual_effect_interpreter\")"
   ]
  },
  {
   "cell_type": "markdown",
   "id": "7e15681c",
   "metadata": {},
   "source": [
    "### Visual Interpreter\n",
    "\n",
    "The visual interpreter plots the change in the standardized mean difference (SMD) before and after Propensity Score based adjustment of the dataset. The formula for SMD is given below.\n",
    "\n",
    "\n",
    "$SMD = \\frac{\\bar X_{1} - \\bar X_{2}}{\\sqrt{(S_{1}^{2} + S_{2}^{2})/2}}$\n",
    "\n",
    "Here, $\\bar X_{1}$ and $\\bar X_{2}$ are the sample mean for the treated and control groups.\n"
   ]
  },
  {
   "cell_type": "code",
   "execution_count": 10,
   "id": "777cbb6a",
   "metadata": {
    "execution": {
     "iopub.execute_input": "2022-09-02T09:10:05.612247Z",
     "iopub.status.busy": "2022-09-02T09:10:05.611625Z",
     "iopub.status.idle": "2022-09-02T09:10:06.956247Z",
     "shell.execute_reply": "2022-09-02T09:10:06.955172Z"
    }
   },
   "outputs": [
    {
     "data": {
      "image/png": "[encoded data removed]",
      "text/plain": [
       "<Figure size 640x480 with 1 Axes>"
      ]
     },
     "metadata": {},
     "output_type": "display_data"
    }
   ],
   "source": [
    "# Visual Interpreter\n",
    "interpretation = causal_estimate_strat.interpret(method_name=\"propensity_balance_interpreter\")"
   ]
  },
  {
   "cell_type": "markdown",
   "id": "49b7d7fe",
   "metadata": {},
   "source": [
    "This plot shows how the SMD decreases from the unadjusted to the stratified units. "
   ]
  },
  {
   "cell_type": "markdown",
   "id": "a1bac3b6",
   "metadata": {},
   "source": [
    "## Method 2: Propensity Score Matching\n",
    "\n",
    "We will be using propensity scores to match units in the data."
   ]
  },
  {
   "cell_type": "code",
   "execution_count": 11,
   "id": "0024fc59",
   "metadata": {
    "execution": {
     "iopub.execute_input": "2022-09-02T09:10:06.961204Z",
     "iopub.status.busy": "2022-09-02T09:10:06.960174Z",
     "iopub.status.idle": "2022-09-02T09:10:12.024699Z",
     "shell.execute_reply": "2022-09-02T09:10:12.024004Z"
    }
   },
   "outputs": [
    {
     "name": "stdout",
     "output_type": "stream",
     "text": [
      "*** Causal Estimate ***\n",
      "\n",
      "## Identified estimand\n",
      "Estimand type: nonparametric-ate\n",
      "\n",
      "### Estimand : 1\n",
      "Estimand name: backdoor\n",
      "Estimand expression:\n",
      "  d                       \n",
      "─────(E[y|W0,W3,W2,W4,W1])\n",
      "d[v₀]                     \n",
      "Estimand assumption 1, Unconfoundedness: If U→{v0} and U→y then P(y|v0,W0,W3,W2,W4,W1,U) = P(y|v0,W0,W3,W2,W4,W1)\n",
      "\n",
      "## Realized estimand\n",
      "b: y~v0+W0+W3+W2+W4+W1\n",
      "Target units: atc\n",
      "\n",
      "## Estimate\n",
      "Mean value: 0.9294737810981393\n",
      "\n",
      "Causal Estimate is 0.9294737810981393\n"
     ]
    }
   ],
   "source": [
    "causal_estimate_match = model.estimate_effect(identified_estimand,\n",
    "                                              method_name=\"backdoor.propensity_score_matching\",\n",
    "                                              target_units=\"atc\")\n",
    "print(causal_estimate_match)\n",
    "print(\"Causal Estimate is \" + str(causal_estimate_match.value))"
   ]
  },
  {
   "cell_type": "code",
   "execution_count": 12,
   "id": "e5f97634",
   "metadata": {
    "execution": {
     "iopub.execute_input": "2022-09-02T09:10:12.028913Z",
     "iopub.status.busy": "2022-09-02T09:10:12.028089Z",
     "iopub.status.idle": "2022-09-02T09:10:12.057322Z",
     "shell.execute_reply": "2022-09-02T09:10:12.056421Z"
    }
   },
   "outputs": [
    {
     "name": "stdout",
     "output_type": "stream",
     "text": [
      "Increasing the treatment variable(s) [v0] from 0 to 1 causes an increase of 0.9294737810981393 in the expected value of the outcome [y], over the data distribution/population represented by the dataset.\n"
     ]
    }
   ],
   "source": [
    "# Textual Interpreter\n",
    "interpretation = causal_estimate_match.interpret(method_name=\"textual_effect_interpreter\")"
   ]
  },
  {
   "cell_type": "markdown",
   "id": "3ac5a331",
   "metadata": {},
   "source": [
    "Cannot use propensity balance interpretor here since the interpreter method only supports propensity score stratification estimator."
   ]
  },
  {
   "cell_type": "markdown",
   "id": "dfc3a87c",
   "metadata": {},
   "source": [
    "## Method 3: Weighting\n",
    "\n",
    "We will be using (inverse) propensity scores to assign weights to units in the data. DoWhy supports a few different weighting schemes:\n",
    "1. Vanilla Inverse Propensity Score weighting (IPS) (weighting_scheme=\"ips_weight\")\n",
    "2. Self-normalized IPS weighting (also known as the Hajek estimator) (weighting_scheme=\"ips_normalized_weight\")\n",
    "3. Stabilized IPS weighting (weighting_scheme = \"ips_stabilized_weight\")"
   ]
  },
  {
   "cell_type": "code",
   "execution_count": 13,
   "id": "009bc2d8",
   "metadata": {
    "execution": {
     "iopub.execute_input": "2022-09-02T09:10:12.061890Z",
     "iopub.status.busy": "2022-09-02T09:10:12.061606Z",
     "iopub.status.idle": "2022-09-02T09:10:12.134472Z",
     "shell.execute_reply": "2022-09-02T09:10:12.133652Z"
    }
   },
   "outputs": [
    {
     "name": "stdout",
     "output_type": "stream",
     "text": [
      "*** Causal Estimate ***\n",
      "\n",
      "## Identified estimand\n",
      "Estimand type: nonparametric-ate\n",
      "\n",
      "### Estimand : 1\n",
      "Estimand name: backdoor\n",
      "Estimand expression:\n",
      "  d                       \n",
      "─────(E[y|W0,W3,W2,W4,W1])\n",
      "d[v₀]                     \n",
      "Estimand assumption 1, Unconfoundedness: If U→{v0} and U→y then P(y|v0,W0,W3,W2,W4,W1,U) = P(y|v0,W0,W3,W2,W4,W1)\n",
      "\n",
      "## Realized estimand\n",
      "b: y~v0+W0+W3+W2+W4+W1\n",
      "Target units: ate\n",
      "\n",
      "## Estimate\n",
      "Mean value: 1.1955992522791092\n",
      "\n",
      "Causal Estimate is 1.1955992522791092\n"
     ]
    }
   ],
   "source": [
    "causal_estimate_ipw = model.estimate_effect(identified_estimand,\n",
    "                                            method_name=\"backdoor.propensity_score_weighting\",\n",
    "                                            target_units = \"ate\",\n",
    "                                            method_params={\"weighting_scheme\":\"ips_weight\"})\n",
    "print(causal_estimate_ipw)\n",
    "print(\"Causal Estimate is \" + str(causal_estimate_ipw.value))"
   ]
  },
  {
   "cell_type": "code",
   "execution_count": 14,
   "id": "b524e8fa",
   "metadata": {
    "execution": {
     "iopub.execute_input": "2022-09-02T09:10:12.138409Z",
     "iopub.status.busy": "2022-09-02T09:10:12.138131Z",
     "iopub.status.idle": "2022-09-02T09:10:12.166760Z",
     "shell.execute_reply": "2022-09-02T09:10:12.166051Z"
    }
   },
   "outputs": [
    {
     "name": "stdout",
     "output_type": "stream",
     "text": [
      "Increasing the treatment variable(s) [v0] from 0 to 1 causes an increase of 1.1955992522791092 in the expected value of the outcome [y], over the data distribution/population represented by the dataset.\n"
     ]
    }
   ],
   "source": [
    "# Textual Interpreter\n",
    "interpretation = causal_estimate_ipw.interpret(method_name=\"textual_effect_interpreter\")"
   ]
  },
  {
   "cell_type": "code",
   "execution_count": 15,
   "id": "817a4ad0",
   "metadata": {
    "execution": {
     "iopub.execute_input": "2022-09-02T09:10:12.170397Z",
     "iopub.status.busy": "2022-09-02T09:10:12.169869Z",
     "iopub.status.idle": "2022-09-02T09:10:12.467661Z",
     "shell.execute_reply": "2022-09-02T09:10:12.466697Z"
    }
   },
   "outputs": [
    {
     "data": {
      "image/png": "[encoded data removed]",
      "text/plain": [
       "<Figure size 800x800 with 2 Axes>"
      ]
     },
     "metadata": {},
     "output_type": "display_data"
    }
   ],
   "source": [
    "interpretation = causal_estimate_ipw.interpret(method_name=\"confounder_distribution_interpreter\", fig_size=(8,8), font_size=12, var_name='W4', var_type='discrete')"
   ]
  },
  {
   "cell_type": "code",
   "execution_count": null,
   "id": "752f9739",
   "metadata": {},
   "outputs": [],
   "source": []
  }
 ],
 "metadata": {
  "kernelspec": {
   "display_name": "Python 3",
   "language": "python",
   "name": "python3"
  },
  "language_info": {
   "codemirror_mode": {
    "name": "ipython",
    "version": 3
   },
   "file_extension": ".py",
   "mimetype": "text/x-python",
   "name": "python",
   "nbconvert_exporter": "python",
   "pygments_lexer": "ipython3",
   "version": "3.8.10"
  },
  "toc": {
   "base_numbering": 1,
   "nav_menu": {},
   "number_sections": false,
   "sideBar": true,
   "skip_h1_title": true,
   "title_cell": "Table of Contents",
   "title_sidebar": "Contents",
   "toc_cell": false,
   "toc_position": {},
   "toc_section_display": true,
   "toc_window_display": false
  }
 },
 "nbformat": 4,
 "nbformat_minor": 5
}
