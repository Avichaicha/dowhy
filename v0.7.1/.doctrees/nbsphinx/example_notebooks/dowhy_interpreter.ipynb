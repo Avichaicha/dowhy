{
 "cells": [
  {
   "cell_type": "markdown",
   "id": "4559156e",
   "metadata": {},
   "source": [
    "# DoWhy: Interpreters for Causal Estimators\n",
    "\n",
    "This is a quick introduction to the use of interpreters in the DoWhy causal inference library.\n",
    "We will load in a sample dataset, use different methods for estimating the causal effect of a (pre-specified)treatment variable on a (pre-specified) outcome variable and demonstrate how to interpret the obtained results.\n",
    "\n",
    "First, let us add the required path for Python to find the DoWhy code and load all required packages"
   ]
  },
  {
   "cell_type": "code",
   "execution_count": 1,
   "id": "33579fdb",
   "metadata": {
    "execution": {
     "iopub.execute_input": "2022-08-01T08:28:40.481276Z",
     "iopub.status.busy": "2022-08-01T08:28:40.480574Z",
     "iopub.status.idle": "2022-08-01T08:28:40.497584Z",
     "shell.execute_reply": "2022-08-01T08:28:40.496960Z"
    }
   },
   "outputs": [],
   "source": [
    "%load_ext autoreload\n",
    "%autoreload 2"
   ]
  },
  {
   "cell_type": "code",
   "execution_count": 2,
   "id": "cc4ec385",
   "metadata": {
    "execution": {
     "iopub.execute_input": "2022-08-01T08:28:40.500803Z",
     "iopub.status.busy": "2022-08-01T08:28:40.500450Z",
     "iopub.status.idle": "2022-08-01T08:28:41.530069Z",
     "shell.execute_reply": "2022-08-01T08:28:41.529094Z"
    }
   },
   "outputs": [
    {
     "name": "stdout",
     "output_type": "stream",
     "text": [
      "keywords are unexpanded, not using\n"
     ]
    }
   ],
   "source": [
    "import numpy as np\n",
    "import pandas as pd\n",
    "import logging\n",
    "\n",
    "import dowhy\n",
    "from dowhy import CausalModel\n",
    "import dowhy.datasets "
   ]
  },
  {
   "cell_type": "markdown",
   "id": "a772f6c7",
   "metadata": {},
   "source": [
    "Now, let us load a dataset. For simplicity, we simulate a dataset with linear relationships between common causes and treatment, and common causes and outcome.\n",
    "\n",
    "Beta is the true causal effect."
   ]
  },
  {
   "cell_type": "code",
   "execution_count": 3,
   "id": "e75dd934",
   "metadata": {
    "execution": {
     "iopub.execute_input": "2022-08-01T08:28:41.533960Z",
     "iopub.status.busy": "2022-08-01T08:28:41.533225Z",
     "iopub.status.idle": "2022-08-01T08:28:41.852411Z",
     "shell.execute_reply": "2022-08-01T08:28:41.851483Z"
    }
   },
   "outputs": [
    {
     "name": "stdout",
     "output_type": "stream",
     "text": [
      "7418\n"
     ]
    },
    {
     "data": {
      "text/html": [
       "<div>\n",
       "<style scoped>\n",
       "    .dataframe tbody tr th:only-of-type {\n",
       "        vertical-align: middle;\n",
       "    }\n",
       "\n",
       "    .dataframe tbody tr th {\n",
       "        vertical-align: top;\n",
       "    }\n",
       "\n",
       "    .dataframe thead th {\n",
       "        text-align: right;\n",
       "    }\n",
       "</style>\n",
       "<table border=\"1\" class=\"dataframe\">\n",
       "  <thead>\n",
       "    <tr style=\"text-align: right;\">\n",
       "      <th></th>\n",
       "      <th>Z0</th>\n",
       "      <th>Z1</th>\n",
       "      <th>W0</th>\n",
       "      <th>W1</th>\n",
       "      <th>W2</th>\n",
       "      <th>W3</th>\n",
       "      <th>W4</th>\n",
       "      <th>v0</th>\n",
       "      <th>y</th>\n",
       "    </tr>\n",
       "  </thead>\n",
       "  <tbody>\n",
       "    <tr>\n",
       "      <th>0</th>\n",
       "      <td>0.0</td>\n",
       "      <td>0.374831</td>\n",
       "      <td>-0.521775</td>\n",
       "      <td>-1.265163</td>\n",
       "      <td>1.323885</td>\n",
       "      <td>0.821662</td>\n",
       "      <td>2</td>\n",
       "      <td>True</td>\n",
       "      <td>3.369634</td>\n",
       "    </tr>\n",
       "    <tr>\n",
       "      <th>1</th>\n",
       "      <td>0.0</td>\n",
       "      <td>0.295779</td>\n",
       "      <td>-1.707492</td>\n",
       "      <td>0.580588</td>\n",
       "      <td>0.193083</td>\n",
       "      <td>0.271445</td>\n",
       "      <td>3</td>\n",
       "      <td>True</td>\n",
       "      <td>3.139293</td>\n",
       "    </tr>\n",
       "    <tr>\n",
       "      <th>2</th>\n",
       "      <td>0.0</td>\n",
       "      <td>0.090644</td>\n",
       "      <td>0.396805</td>\n",
       "      <td>-1.737259</td>\n",
       "      <td>0.268685</td>\n",
       "      <td>1.504464</td>\n",
       "      <td>2</td>\n",
       "      <td>False</td>\n",
       "      <td>2.282502</td>\n",
       "    </tr>\n",
       "    <tr>\n",
       "      <th>3</th>\n",
       "      <td>0.0</td>\n",
       "      <td>0.427624</td>\n",
       "      <td>-0.306487</td>\n",
       "      <td>-0.555020</td>\n",
       "      <td>-0.260429</td>\n",
       "      <td>0.638985</td>\n",
       "      <td>1</td>\n",
       "      <td>True</td>\n",
       "      <td>1.443277</td>\n",
       "    </tr>\n",
       "    <tr>\n",
       "      <th>4</th>\n",
       "      <td>0.0</td>\n",
       "      <td>0.565177</td>\n",
       "      <td>0.378999</td>\n",
       "      <td>-0.588893</td>\n",
       "      <td>-0.013406</td>\n",
       "      <td>0.948708</td>\n",
       "      <td>1</td>\n",
       "      <td>True</td>\n",
       "      <td>2.499589</td>\n",
       "    </tr>\n",
       "    <tr>\n",
       "      <th>...</th>\n",
       "      <td>...</td>\n",
       "      <td>...</td>\n",
       "      <td>...</td>\n",
       "      <td>...</td>\n",
       "      <td>...</td>\n",
       "      <td>...</td>\n",
       "      <td>...</td>\n",
       "      <td>...</td>\n",
       "      <td>...</td>\n",
       "    </tr>\n",
       "    <tr>\n",
       "      <th>9995</th>\n",
       "      <td>0.0</td>\n",
       "      <td>0.733352</td>\n",
       "      <td>0.226315</td>\n",
       "      <td>-1.058611</td>\n",
       "      <td>1.303865</td>\n",
       "      <td>0.594756</td>\n",
       "      <td>2</td>\n",
       "      <td>True</td>\n",
       "      <td>4.024872</td>\n",
       "    </tr>\n",
       "    <tr>\n",
       "      <th>9996</th>\n",
       "      <td>0.0</td>\n",
       "      <td>0.205611</td>\n",
       "      <td>-0.204526</td>\n",
       "      <td>0.552018</td>\n",
       "      <td>1.636257</td>\n",
       "      <td>0.639721</td>\n",
       "      <td>3</td>\n",
       "      <td>True</td>\n",
       "      <td>6.134747</td>\n",
       "    </tr>\n",
       "    <tr>\n",
       "      <th>9997</th>\n",
       "      <td>0.0</td>\n",
       "      <td>0.172035</td>\n",
       "      <td>-1.669007</td>\n",
       "      <td>-0.640583</td>\n",
       "      <td>0.515521</td>\n",
       "      <td>0.735455</td>\n",
       "      <td>3</td>\n",
       "      <td>False</td>\n",
       "      <td>1.886525</td>\n",
       "    </tr>\n",
       "    <tr>\n",
       "      <th>9998</th>\n",
       "      <td>0.0</td>\n",
       "      <td>0.316728</td>\n",
       "      <td>-1.105594</td>\n",
       "      <td>1.326522</td>\n",
       "      <td>1.293035</td>\n",
       "      <td>-0.825225</td>\n",
       "      <td>1</td>\n",
       "      <td>True</td>\n",
       "      <td>2.655673</td>\n",
       "    </tr>\n",
       "    <tr>\n",
       "      <th>9999</th>\n",
       "      <td>0.0</td>\n",
       "      <td>0.671434</td>\n",
       "      <td>-0.755070</td>\n",
       "      <td>-0.811527</td>\n",
       "      <td>0.002121</td>\n",
       "      <td>0.680762</td>\n",
       "      <td>3</td>\n",
       "      <td>True</td>\n",
       "      <td>3.076622</td>\n",
       "    </tr>\n",
       "  </tbody>\n",
       "</table>\n",
       "<p>10000 rows × 9 columns</p>\n",
       "</div>"
      ],
      "text/plain": [
       "       Z0        Z1        W0        W1        W2        W3 W4     v0  \\\n",
       "0     0.0  0.374831 -0.521775 -1.265163  1.323885  0.821662  2   True   \n",
       "1     0.0  0.295779 -1.707492  0.580588  0.193083  0.271445  3   True   \n",
       "2     0.0  0.090644  0.396805 -1.737259  0.268685  1.504464  2  False   \n",
       "3     0.0  0.427624 -0.306487 -0.555020 -0.260429  0.638985  1   True   \n",
       "4     0.0  0.565177  0.378999 -0.588893 -0.013406  0.948708  1   True   \n",
       "...   ...       ...       ...       ...       ...       ... ..    ...   \n",
       "9995  0.0  0.733352  0.226315 -1.058611  1.303865  0.594756  2   True   \n",
       "9996  0.0  0.205611 -0.204526  0.552018  1.636257  0.639721  3   True   \n",
       "9997  0.0  0.172035 -1.669007 -0.640583  0.515521  0.735455  3  False   \n",
       "9998  0.0  0.316728 -1.105594  1.326522  1.293035 -0.825225  1   True   \n",
       "9999  0.0  0.671434 -0.755070 -0.811527  0.002121  0.680762  3   True   \n",
       "\n",
       "             y  \n",
       "0     3.369634  \n",
       "1     3.139293  \n",
       "2     2.282502  \n",
       "3     1.443277  \n",
       "4     2.499589  \n",
       "...        ...  \n",
       "9995  4.024872  \n",
       "9996  6.134747  \n",
       "9997  1.886525  \n",
       "9998  2.655673  \n",
       "9999  3.076622  \n",
       "\n",
       "[10000 rows x 9 columns]"
      ]
     },
     "execution_count": 3,
     "metadata": {},
     "output_type": "execute_result"
    }
   ],
   "source": [
    "data = dowhy.datasets.linear_dataset(beta=1,\n",
    "        num_common_causes=5, \n",
    "        num_instruments = 2,\n",
    "        num_treatments=1,\n",
    "        num_discrete_common_causes=1,\n",
    "        num_samples=10000,\n",
    "        treatment_is_binary=True,\n",
    "        outcome_is_binary=False)\n",
    "df = data[\"df\"]\n",
    "print(df[df.v0==True].shape[0])\n",
    "df"
   ]
  },
  {
   "cell_type": "markdown",
   "id": "4ddea851",
   "metadata": {},
   "source": [
    "Note that we are using a pandas dataframe to load the data."
   ]
  },
  {
   "cell_type": "markdown",
   "id": "4fa984e2",
   "metadata": {},
   "source": [
    "## Identifying the causal estimand"
   ]
  },
  {
   "cell_type": "markdown",
   "id": "36f51abe",
   "metadata": {},
   "source": [
    "We now input a causal graph in the GML graph format."
   ]
  },
  {
   "cell_type": "code",
   "execution_count": 4,
   "id": "21bddb4e",
   "metadata": {
    "execution": {
     "iopub.execute_input": "2022-08-01T08:28:41.856018Z",
     "iopub.status.busy": "2022-08-01T08:28:41.855276Z",
     "iopub.status.idle": "2022-08-01T08:28:41.879343Z",
     "shell.execute_reply": "2022-08-01T08:28:41.878820Z"
    }
   },
   "outputs": [],
   "source": [
    "# With graph\n",
    "model=CausalModel(\n",
    "        data = df,\n",
    "        treatment=data[\"treatment_name\"],\n",
    "        outcome=data[\"outcome_name\"],\n",
    "        graph=data[\"gml_graph\"],\n",
    "        instruments=data[\"instrument_names\"]\n",
    "        )"
   ]
  },
  {
   "cell_type": "code",
   "execution_count": 5,
   "id": "d3ee191d",
   "metadata": {
    "execution": {
     "iopub.execute_input": "2022-08-01T08:28:41.881962Z",
     "iopub.status.busy": "2022-08-01T08:28:41.881619Z",
     "iopub.status.idle": "2022-08-01T08:28:41.947787Z",
     "shell.execute_reply": "2022-08-01T08:28:41.947169Z"
    }
   },
   "outputs": [],
   "source": [
    "model.view_model()"
   ]
  },
  {
   "cell_type": "code",
   "execution_count": 6,
   "id": "961382c6",
   "metadata": {
    "execution": {
     "iopub.execute_input": "2022-08-01T08:28:41.951111Z",
     "iopub.status.busy": "2022-08-01T08:28:41.950684Z",
     "iopub.status.idle": "2022-08-01T08:28:41.974892Z",
     "shell.execute_reply": "2022-08-01T08:28:41.974186Z"
    }
   },
   "outputs": [
    {
     "data": {
      "image/png": "[encoded data removed]",
      "text/plain": [
       "<IPython.core.display.Image object>"
      ]
     },
     "metadata": {},
     "output_type": "display_data"
    }
   ],
   "source": [
    "from IPython.display import Image, display\n",
    "display(Image(filename=\"causal_model.png\"))"
   ]
  },
  {
   "cell_type": "markdown",
   "id": "55a18e8a",
   "metadata": {},
   "source": [
    "We get a causal graph. Now identification and estimation is done."
   ]
  },
  {
   "cell_type": "code",
   "execution_count": 7,
   "id": "46939709",
   "metadata": {
    "execution": {
     "iopub.execute_input": "2022-08-01T08:28:41.978595Z",
     "iopub.status.busy": "2022-08-01T08:28:41.978243Z",
     "iopub.status.idle": "2022-08-01T08:28:42.198652Z",
     "shell.execute_reply": "2022-08-01T08:28:42.197976Z"
    }
   },
   "outputs": [
    {
     "name": "stdout",
     "output_type": "stream",
     "text": [
      "Estimand type: nonparametric-ate\n",
      "\n",
      "### Estimand : 1\n",
      "Estimand name: backdoor\n",
      "Estimand expression:\n",
      "  d                       \n",
      "─────(E[y|W1,W0,W3,W4,W2])\n",
      "d[v₀]                     \n",
      "Estimand assumption 1, Unconfoundedness: If U→{v0} and U→y then P(y|v0,W1,W0,W3,W4,W2,U) = P(y|v0,W1,W0,W3,W4,W2)\n",
      "\n",
      "### Estimand : 2\n",
      "Estimand name: iv\n",
      "Estimand expression:\n",
      " ⎡                              -1⎤\n",
      " ⎢    d        ⎛    d          ⎞  ⎥\n",
      "E⎢─────────(y)⋅⎜─────────([v₀])⎟  ⎥\n",
      " ⎣d[Z₁  Z₀]    ⎝d[Z₁  Z₀]      ⎠  ⎦\n",
      "Estimand assumption 1, As-if-random: If U→→y then ¬(U →→{Z1,Z0})\n",
      "Estimand assumption 2, Exclusion: If we remove {Z1,Z0}→{v0}, then ¬({Z1,Z0}→y)\n",
      "\n",
      "### Estimand : 3\n",
      "Estimand name: frontdoor\n",
      "No such variable(s) found!\n",
      "\n"
     ]
    }
   ],
   "source": [
    "identified_estimand = model.identify_effect(proceed_when_unidentifiable=True)\n",
    "print(identified_estimand)"
   ]
  },
  {
   "cell_type": "markdown",
   "id": "f8e2b7cb",
   "metadata": {},
   "source": [
    "## Method 1: Propensity Score Stratification\n",
    "\n",
    "We will be using propensity scores to stratify units in the data."
   ]
  },
  {
   "cell_type": "code",
   "execution_count": 8,
   "id": "a17a623d",
   "metadata": {
    "execution": {
     "iopub.execute_input": "2022-08-01T08:28:42.202220Z",
     "iopub.status.busy": "2022-08-01T08:28:42.201761Z",
     "iopub.status.idle": "2022-08-01T08:28:42.927183Z",
     "shell.execute_reply": "2022-08-01T08:28:42.926441Z"
    }
   },
   "outputs": [
    {
     "name": "stdout",
     "output_type": "stream",
     "text": [
      "propensity_score_stratification\n"
     ]
    },
    {
     "name": "stderr",
     "output_type": "stream",
     "text": [
      "/usr/local/lib/python3.8/dist-packages/sklearn/utils/validation.py:993: DataConversionWarning: A column-vector y was passed when a 1d array was expected. Please change the shape of y to (n_samples, ), for example using ravel().\n",
      "  y = column_or_1d(y, warn=True)\n"
     ]
    },
    {
     "name": "stdout",
     "output_type": "stream",
     "text": [
      "*** Causal Estimate ***\n",
      "\n",
      "## Identified estimand\n",
      "Estimand type: nonparametric-ate\n",
      "\n",
      "### Estimand : 1\n",
      "Estimand name: backdoor\n",
      "Estimand expression:\n",
      "  d                       \n",
      "─────(E[y|W1,W0,W3,W4,W2])\n",
      "d[v₀]                     \n",
      "Estimand assumption 1, Unconfoundedness: If U→{v0} and U→y then P(y|v0,W1,W0,W3,W4,W2,U) = P(y|v0,W1,W0,W3,W4,W2)\n",
      "\n",
      "## Realized estimand\n",
      "b: y~v0+W1+W0+W3+W4+W2\n",
      "Target units: att\n",
      "\n",
      "## Estimate\n",
      "Mean value: 1.0057661535583344\n",
      "\n",
      "Causal Estimate is 1.0057661535583344\n"
     ]
    }
   ],
   "source": [
    "causal_estimate_strat = model.estimate_effect(identified_estimand,\n",
    "                                              method_name=\"backdoor.propensity_score_stratification\",\n",
    "                                              target_units=\"att\")\n",
    "print(causal_estimate_strat)\n",
    "print(\"Causal Estimate is \" + str(causal_estimate_strat.value))"
   ]
  },
  {
   "cell_type": "markdown",
   "id": "1e3fa7c8",
   "metadata": {},
   "source": [
    "### Textual Interpreter\n",
    "\n",
    "The textual Interpreter describes (in words) the effect of unit change in the treatment variable on the outcome variable."
   ]
  },
  {
   "cell_type": "code",
   "execution_count": 9,
   "id": "106680c8",
   "metadata": {
    "execution": {
     "iopub.execute_input": "2022-08-01T08:28:42.930585Z",
     "iopub.status.busy": "2022-08-01T08:28:42.930303Z",
     "iopub.status.idle": "2022-08-01T08:28:42.954921Z",
     "shell.execute_reply": "2022-08-01T08:28:42.954278Z"
    }
   },
   "outputs": [
    {
     "name": "stdout",
     "output_type": "stream",
     "text": [
      "Increasing the treatment variable(s) [v0] from 0 to 1 causes an increase of 1.0057661535583344 in the expected value of the outcome [y], over the data distribution/population represented by the dataset.\n"
     ]
    }
   ],
   "source": [
    "# Textual Interpreter\n",
    "interpretation = causal_estimate_strat.interpret(method_name=\"textual_effect_interpreter\")"
   ]
  },
  {
   "cell_type": "markdown",
   "id": "62ab66e7",
   "metadata": {},
   "source": [
    "### Visual Interpreter\n",
    "\n",
    "The visual interpreter plots the change in the standardized mean difference (SMD) before and after Propensity Score based adjustment of the dataset. The formula for SMD is given below.\n",
    "\n",
    "\n",
    "$SMD = \\frac{\\bar X_{1} - \\bar X_{2}}{\\sqrt{(S_{1}^{2} + S_{2}^{2})/2}}$\n",
    "\n",
    "Here, $\\bar X_{1}$ and $\\bar X_{2}$ are the sample mean for the treated and control groups.\n"
   ]
  },
  {
   "cell_type": "code",
   "execution_count": 10,
   "id": "bd9b939f",
   "metadata": {
    "execution": {
     "iopub.execute_input": "2022-08-01T08:28:42.958197Z",
     "iopub.status.busy": "2022-08-01T08:28:42.957765Z",
     "iopub.status.idle": "2022-08-01T08:28:44.246203Z",
     "shell.execute_reply": "2022-08-01T08:28:44.245450Z"
    }
   },
   "outputs": [
    {
     "data": {
      "image/png": "[encoded data removed]",
      "text/plain": [
       "<Figure size 432x288 with 1 Axes>"
      ]
     },
     "metadata": {
      "needs_background": "light"
     },
     "output_type": "display_data"
    }
   ],
   "source": [
    "# Visual Interpreter\n",
    "interpretation = causal_estimate_strat.interpret(method_name=\"propensity_balance_interpreter\")"
   ]
  },
  {
   "cell_type": "markdown",
   "id": "689dca7c",
   "metadata": {},
   "source": [
    "This plot shows how the SMD decreases from the unadjusted to the stratified units. "
   ]
  },
  {
   "cell_type": "markdown",
   "id": "2162c236",
   "metadata": {},
   "source": [
    "## Method 2: Propensity Score Matching\n",
    "\n",
    "We will be using propensity scores to match units in the data."
   ]
  },
  {
   "cell_type": "code",
   "execution_count": 11,
   "id": "7944f362",
   "metadata": {
    "execution": {
     "iopub.execute_input": "2022-08-01T08:28:44.251493Z",
     "iopub.status.busy": "2022-08-01T08:28:44.249970Z",
     "iopub.status.idle": "2022-08-01T08:28:48.670262Z",
     "shell.execute_reply": "2022-08-01T08:28:48.669658Z"
    }
   },
   "outputs": [
    {
     "name": "stdout",
     "output_type": "stream",
     "text": [
      "propensity_score_matching\n"
     ]
    },
    {
     "name": "stderr",
     "output_type": "stream",
     "text": [
      "/usr/local/lib/python3.8/dist-packages/sklearn/utils/validation.py:993: DataConversionWarning: A column-vector y was passed when a 1d array was expected. Please change the shape of y to (n_samples, ), for example using ravel().\n",
      "  y = column_or_1d(y, warn=True)\n"
     ]
    },
    {
     "name": "stdout",
     "output_type": "stream",
     "text": [
      "*** Causal Estimate ***\n",
      "\n",
      "## Identified estimand\n",
      "Estimand type: nonparametric-ate\n",
      "\n",
      "### Estimand : 1\n",
      "Estimand name: backdoor\n",
      "Estimand expression:\n",
      "  d                       \n",
      "─────(E[y|W1,W0,W3,W4,W2])\n",
      "d[v₀]                     \n",
      "Estimand assumption 1, Unconfoundedness: If U→{v0} and U→y then P(y|v0,W1,W0,W3,W4,W2,U) = P(y|v0,W1,W0,W3,W4,W2)\n",
      "\n",
      "## Realized estimand\n",
      "b: y~v0+W1+W0+W3+W4+W2\n",
      "Target units: atc\n",
      "\n",
      "## Estimate\n",
      "Mean value: 1.0104700066554644\n",
      "\n",
      "Causal Estimate is 1.0104700066554644\n"
     ]
    }
   ],
   "source": [
    "causal_estimate_match = model.estimate_effect(identified_estimand,\n",
    "                                              method_name=\"backdoor.propensity_score_matching\",\n",
    "                                              target_units=\"atc\")\n",
    "print(causal_estimate_match)\n",
    "print(\"Causal Estimate is \" + str(causal_estimate_match.value))"
   ]
  },
  {
   "cell_type": "code",
   "execution_count": 12,
   "id": "0fa36005",
   "metadata": {
    "execution": {
     "iopub.execute_input": "2022-08-01T08:28:48.674396Z",
     "iopub.status.busy": "2022-08-01T08:28:48.673695Z",
     "iopub.status.idle": "2022-08-01T08:28:48.699309Z",
     "shell.execute_reply": "2022-08-01T08:28:48.698557Z"
    }
   },
   "outputs": [
    {
     "name": "stdout",
     "output_type": "stream",
     "text": [
      "Increasing the treatment variable(s) [v0] from 0 to 1 causes an increase of 1.0104700066554644 in the expected value of the outcome [y], over the data distribution/population represented by the dataset.\n"
     ]
    }
   ],
   "source": [
    "# Textual Interpreter\n",
    "interpretation = causal_estimate_match.interpret(method_name=\"textual_effect_interpreter\")"
   ]
  },
  {
   "cell_type": "markdown",
   "id": "df32dd83",
   "metadata": {},
   "source": [
    "Cannot use propensity balance interpretor here since the interpreter method only supports propensity score stratification estimator."
   ]
  },
  {
   "cell_type": "markdown",
   "id": "b73a5c27",
   "metadata": {},
   "source": [
    "## Method 3: Weighting\n",
    "\n",
    "We will be using (inverse) propensity scores to assign weights to units in the data. DoWhy supports a few different weighting schemes:\n",
    "1. Vanilla Inverse Propensity Score weighting (IPS) (weighting_scheme=\"ips_weight\")\n",
    "2. Self-normalized IPS weighting (also known as the Hajek estimator) (weighting_scheme=\"ips_normalized_weight\")\n",
    "3. Stabilized IPS weighting (weighting_scheme = \"ips_stabilized_weight\")"
   ]
  },
  {
   "cell_type": "code",
   "execution_count": 13,
   "id": "7ef995d7",
   "metadata": {
    "execution": {
     "iopub.execute_input": "2022-08-01T08:28:48.702952Z",
     "iopub.status.busy": "2022-08-01T08:28:48.702484Z",
     "iopub.status.idle": "2022-08-01T08:28:48.766369Z",
     "shell.execute_reply": "2022-08-01T08:28:48.765106Z"
    }
   },
   "outputs": [
    {
     "name": "stdout",
     "output_type": "stream",
     "text": [
      "propensity_score_weighting\n",
      "*** Causal Estimate ***\n",
      "\n",
      "## Identified estimand\n",
      "Estimand type: nonparametric-ate\n",
      "\n",
      "### Estimand : 1\n",
      "Estimand name: backdoor\n",
      "Estimand expression:\n",
      "  d                       \n",
      "─────(E[y|W1,W0,W3,W4,W2])\n",
      "d[v₀]                     \n",
      "Estimand assumption 1, Unconfoundedness: If U→{v0} and U→y then P(y|v0,W1,W0,W3,W4,W2,U) = P(y|v0,W1,W0,W3,W4,W2)\n",
      "\n",
      "## Realized estimand\n",
      "b: y~v0+W1+W0+W3+W4+W2\n",
      "Target units: ate\n",
      "\n",
      "## Estimate\n",
      "Mean value: 1.0171292243755896\n",
      "\n",
      "Causal Estimate is 1.0171292243755896\n"
     ]
    },
    {
     "name": "stderr",
     "output_type": "stream",
     "text": [
      "/usr/local/lib/python3.8/dist-packages/sklearn/utils/validation.py:993: DataConversionWarning: A column-vector y was passed when a 1d array was expected. Please change the shape of y to (n_samples, ), for example using ravel().\n",
      "  y = column_or_1d(y, warn=True)\n"
     ]
    }
   ],
   "source": [
    "causal_estimate_ipw = model.estimate_effect(identified_estimand,\n",
    "                                            method_name=\"backdoor.propensity_score_weighting\",\n",
    "                                            target_units = \"ate\",\n",
    "                                            method_params={\"weighting_scheme\":\"ips_weight\"})\n",
    "print(causal_estimate_ipw)\n",
    "print(\"Causal Estimate is \" + str(causal_estimate_ipw.value))"
   ]
  },
  {
   "cell_type": "code",
   "execution_count": 14,
   "id": "21de51a0",
   "metadata": {
    "execution": {
     "iopub.execute_input": "2022-08-01T08:28:48.769741Z",
     "iopub.status.busy": "2022-08-01T08:28:48.769301Z",
     "iopub.status.idle": "2022-08-01T08:28:48.794652Z",
     "shell.execute_reply": "2022-08-01T08:28:48.793887Z"
    }
   },
   "outputs": [
    {
     "name": "stdout",
     "output_type": "stream",
     "text": [
      "Increasing the treatment variable(s) [v0] from 0 to 1 causes an increase of 1.0171292243755896 in the expected value of the outcome [y], over the data distribution/population represented by the dataset.\n"
     ]
    }
   ],
   "source": [
    "# Textual Interpreter\n",
    "interpretation = causal_estimate_ipw.interpret(method_name=\"textual_effect_interpreter\")"
   ]
  },
  {
   "cell_type": "code",
   "execution_count": 15,
   "id": "fe10876c",
   "metadata": {
    "execution": {
     "iopub.execute_input": "2022-08-01T08:28:48.797616Z",
     "iopub.status.busy": "2022-08-01T08:28:48.797378Z",
     "iopub.status.idle": "2022-08-01T08:28:49.052966Z",
     "shell.execute_reply": "2022-08-01T08:28:49.052282Z"
    }
   },
   "outputs": [
    {
     "data": {
      "image/png": "[encoded data removed]",
      "text/plain": [
       "<Figure size 576x576 with 2 Axes>"
      ]
     },
     "metadata": {
      "needs_background": "light"
     },
     "output_type": "display_data"
    }
   ],
   "source": [
    "interpretation = causal_estimate_ipw.interpret(method_name=\"confounder_distribution_interpreter\", fig_size=(8,8), font_size=12, var_name='W4', var_type='discrete')"
   ]
  },
  {
   "cell_type": "code",
   "execution_count": null,
   "id": "ecbac2f5",
   "metadata": {},
   "outputs": [],
   "source": []
  }
 ],
 "metadata": {
  "kernelspec": {
   "display_name": "Python 3",
   "language": "python",
   "name": "python3"
  },
  "language_info": {
   "codemirror_mode": {
    "name": "ipython",
    "version": 3
   },
   "file_extension": ".py",
   "mimetype": "text/x-python",
   "name": "python",
   "nbconvert_exporter": "python",
   "pygments_lexer": "ipython3",
   "version": "3.8.10"
  },
  "toc": {
   "base_numbering": 1,
   "nav_menu": {},
   "number_sections": false,
   "sideBar": true,
   "skip_h1_title": true,
   "title_cell": "Table of Contents",
   "title_sidebar": "Contents",
   "toc_cell": false,
   "toc_position": {},
   "toc_section_display": true,
   "toc_window_display": false
  }
 },
 "nbformat": 4,
 "nbformat_minor": 5
}
