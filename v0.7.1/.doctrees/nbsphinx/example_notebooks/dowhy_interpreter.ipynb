{
 "cells": [
  {
   "cell_type": "markdown",
   "id": "c4912d62",
   "metadata": {},
   "source": [
    "# DoWhy: Interpreters for Causal Estimators\n",
    "\n",
    "This is a quick introduction to the use of interpreters in the DoWhy causal inference library.\n",
    "We will load in a sample dataset, use different methods for estimating the causal effect of a (pre-specified)treatment variable on a (pre-specified) outcome variable and demonstrate how to interpret the obtained results.\n",
    "\n",
    "First, let us add the required path for Python to find the DoWhy code and load all required packages"
   ]
  },
  {
   "cell_type": "code",
   "execution_count": 1,
   "id": "a2d3e5ed",
   "metadata": {
    "execution": {
     "iopub.execute_input": "2022-09-07T07:19:15.015027Z",
     "iopub.status.busy": "2022-09-07T07:19:15.014781Z",
     "iopub.status.idle": "2022-09-07T07:19:15.032128Z",
     "shell.execute_reply": "2022-09-07T07:19:15.031256Z"
    }
   },
   "outputs": [],
   "source": [
    "%load_ext autoreload\n",
    "%autoreload 2"
   ]
  },
  {
   "cell_type": "code",
   "execution_count": 2,
   "id": "7edb1321",
   "metadata": {
    "execution": {
     "iopub.execute_input": "2022-09-07T07:19:15.034748Z",
     "iopub.status.busy": "2022-09-07T07:19:15.034540Z",
     "iopub.status.idle": "2022-09-07T07:19:15.954228Z",
     "shell.execute_reply": "2022-09-07T07:19:15.953010Z"
    }
   },
   "outputs": [],
   "source": [
    "import numpy as np\n",
    "import pandas as pd\n",
    "import logging\n",
    "\n",
    "import dowhy\n",
    "from dowhy import CausalModel\n",
    "import dowhy.datasets "
   ]
  },
  {
   "cell_type": "markdown",
   "id": "89b2b88f",
   "metadata": {},
   "source": [
    "Now, let us load a dataset. For simplicity, we simulate a dataset with linear relationships between common causes and treatment, and common causes and outcome.\n",
    "\n",
    "Beta is the true causal effect."
   ]
  },
  {
   "cell_type": "code",
   "execution_count": 3,
   "id": "ce075d1e",
   "metadata": {
    "execution": {
     "iopub.execute_input": "2022-09-07T07:19:15.957784Z",
     "iopub.status.busy": "2022-09-07T07:19:15.957336Z",
     "iopub.status.idle": "2022-09-07T07:19:16.235939Z",
     "shell.execute_reply": "2022-09-07T07:19:16.235431Z"
    }
   },
   "outputs": [
    {
     "name": "stdout",
     "output_type": "stream",
     "text": [
      "7535\n"
     ]
    },
    {
     "data": {
      "text/html": [
       "<div>\n",
       "<style scoped>\n",
       "    .dataframe tbody tr th:only-of-type {\n",
       "        vertical-align: middle;\n",
       "    }\n",
       "\n",
       "    .dataframe tbody tr th {\n",
       "        vertical-align: top;\n",
       "    }\n",
       "\n",
       "    .dataframe thead th {\n",
       "        text-align: right;\n",
       "    }\n",
       "</style>\n",
       "<table border=\"1\" class=\"dataframe\">\n",
       "  <thead>\n",
       "    <tr style=\"text-align: right;\">\n",
       "      <th></th>\n",
       "      <th>Z0</th>\n",
       "      <th>Z1</th>\n",
       "      <th>W0</th>\n",
       "      <th>W1</th>\n",
       "      <th>W2</th>\n",
       "      <th>W3</th>\n",
       "      <th>W4</th>\n",
       "      <th>v0</th>\n",
       "      <th>y</th>\n",
       "    </tr>\n",
       "  </thead>\n",
       "  <tbody>\n",
       "    <tr>\n",
       "      <th>0</th>\n",
       "      <td>1.0</td>\n",
       "      <td>0.970274</td>\n",
       "      <td>1.101271</td>\n",
       "      <td>-0.516176</td>\n",
       "      <td>-1.195749</td>\n",
       "      <td>0.435383</td>\n",
       "      <td>1</td>\n",
       "      <td>True</td>\n",
       "      <td>1.333623</td>\n",
       "    </tr>\n",
       "    <tr>\n",
       "      <th>1</th>\n",
       "      <td>0.0</td>\n",
       "      <td>0.416142</td>\n",
       "      <td>-0.044914</td>\n",
       "      <td>-0.845441</td>\n",
       "      <td>0.219678</td>\n",
       "      <td>1.691083</td>\n",
       "      <td>1</td>\n",
       "      <td>True</td>\n",
       "      <td>2.080288</td>\n",
       "    </tr>\n",
       "    <tr>\n",
       "      <th>2</th>\n",
       "      <td>1.0</td>\n",
       "      <td>0.145413</td>\n",
       "      <td>-1.023526</td>\n",
       "      <td>0.387941</td>\n",
       "      <td>-0.852101</td>\n",
       "      <td>0.824199</td>\n",
       "      <td>0</td>\n",
       "      <td>True</td>\n",
       "      <td>1.671696</td>\n",
       "    </tr>\n",
       "    <tr>\n",
       "      <th>3</th>\n",
       "      <td>0.0</td>\n",
       "      <td>0.838639</td>\n",
       "      <td>0.678026</td>\n",
       "      <td>0.713934</td>\n",
       "      <td>0.951697</td>\n",
       "      <td>-1.305312</td>\n",
       "      <td>2</td>\n",
       "      <td>True</td>\n",
       "      <td>1.581392</td>\n",
       "    </tr>\n",
       "    <tr>\n",
       "      <th>4</th>\n",
       "      <td>1.0</td>\n",
       "      <td>0.105449</td>\n",
       "      <td>-0.091703</td>\n",
       "      <td>-0.779914</td>\n",
       "      <td>1.126568</td>\n",
       "      <td>0.729978</td>\n",
       "      <td>3</td>\n",
       "      <td>True</td>\n",
       "      <td>2.510453</td>\n",
       "    </tr>\n",
       "    <tr>\n",
       "      <th>...</th>\n",
       "      <td>...</td>\n",
       "      <td>...</td>\n",
       "      <td>...</td>\n",
       "      <td>...</td>\n",
       "      <td>...</td>\n",
       "      <td>...</td>\n",
       "      <td>...</td>\n",
       "      <td>...</td>\n",
       "      <td>...</td>\n",
       "    </tr>\n",
       "    <tr>\n",
       "      <th>9995</th>\n",
       "      <td>1.0</td>\n",
       "      <td>0.054844</td>\n",
       "      <td>0.546445</td>\n",
       "      <td>-0.829981</td>\n",
       "      <td>0.238308</td>\n",
       "      <td>-1.170176</td>\n",
       "      <td>0</td>\n",
       "      <td>True</td>\n",
       "      <td>-0.246817</td>\n",
       "    </tr>\n",
       "    <tr>\n",
       "      <th>9996</th>\n",
       "      <td>0.0</td>\n",
       "      <td>0.357521</td>\n",
       "      <td>-0.706788</td>\n",
       "      <td>-0.336895</td>\n",
       "      <td>-2.003992</td>\n",
       "      <td>-1.332291</td>\n",
       "      <td>2</td>\n",
       "      <td>False</td>\n",
       "      <td>-0.398393</td>\n",
       "    </tr>\n",
       "    <tr>\n",
       "      <th>9997</th>\n",
       "      <td>1.0</td>\n",
       "      <td>0.625655</td>\n",
       "      <td>0.196322</td>\n",
       "      <td>-0.445030</td>\n",
       "      <td>-0.269780</td>\n",
       "      <td>-1.703200</td>\n",
       "      <td>0</td>\n",
       "      <td>True</td>\n",
       "      <td>-0.451969</td>\n",
       "    </tr>\n",
       "    <tr>\n",
       "      <th>9998</th>\n",
       "      <td>0.0</td>\n",
       "      <td>0.098770</td>\n",
       "      <td>-1.530604</td>\n",
       "      <td>0.395238</td>\n",
       "      <td>-0.464385</td>\n",
       "      <td>-0.925161</td>\n",
       "      <td>2</td>\n",
       "      <td>True</td>\n",
       "      <td>1.477028</td>\n",
       "    </tr>\n",
       "    <tr>\n",
       "      <th>9999</th>\n",
       "      <td>0.0</td>\n",
       "      <td>0.257587</td>\n",
       "      <td>-1.185368</td>\n",
       "      <td>0.280074</td>\n",
       "      <td>0.017677</td>\n",
       "      <td>0.713555</td>\n",
       "      <td>3</td>\n",
       "      <td>False</td>\n",
       "      <td>2.009681</td>\n",
       "    </tr>\n",
       "  </tbody>\n",
       "</table>\n",
       "<p>10000 rows × 9 columns</p>\n",
       "</div>"
      ],
      "text/plain": [
       "       Z0        Z1        W0        W1        W2        W3 W4     v0  \\\n",
       "0     1.0  0.970274  1.101271 -0.516176 -1.195749  0.435383  1   True   \n",
       "1     0.0  0.416142 -0.044914 -0.845441  0.219678  1.691083  1   True   \n",
       "2     1.0  0.145413 -1.023526  0.387941 -0.852101  0.824199  0   True   \n",
       "3     0.0  0.838639  0.678026  0.713934  0.951697 -1.305312  2   True   \n",
       "4     1.0  0.105449 -0.091703 -0.779914  1.126568  0.729978  3   True   \n",
       "...   ...       ...       ...       ...       ...       ... ..    ...   \n",
       "9995  1.0  0.054844  0.546445 -0.829981  0.238308 -1.170176  0   True   \n",
       "9996  0.0  0.357521 -0.706788 -0.336895 -2.003992 -1.332291  2  False   \n",
       "9997  1.0  0.625655  0.196322 -0.445030 -0.269780 -1.703200  0   True   \n",
       "9998  0.0  0.098770 -1.530604  0.395238 -0.464385 -0.925161  2   True   \n",
       "9999  0.0  0.257587 -1.185368  0.280074  0.017677  0.713555  3  False   \n",
       "\n",
       "             y  \n",
       "0     1.333623  \n",
       "1     2.080288  \n",
       "2     1.671696  \n",
       "3     1.581392  \n",
       "4     2.510453  \n",
       "...        ...  \n",
       "9995 -0.246817  \n",
       "9996 -0.398393  \n",
       "9997 -0.451969  \n",
       "9998  1.477028  \n",
       "9999  2.009681  \n",
       "\n",
       "[10000 rows x 9 columns]"
      ]
     },
     "execution_count": 3,
     "metadata": {},
     "output_type": "execute_result"
    }
   ],
   "source": [
    "data = dowhy.datasets.linear_dataset(beta=1,\n",
    "        num_common_causes=5, \n",
    "        num_instruments = 2,\n",
    "        num_treatments=1,\n",
    "        num_discrete_common_causes=1,\n",
    "        num_samples=10000,\n",
    "        treatment_is_binary=True,\n",
    "        outcome_is_binary=False)\n",
    "df = data[\"df\"]\n",
    "print(df[df.v0==True].shape[0])\n",
    "df"
   ]
  },
  {
   "cell_type": "markdown",
   "id": "f3333c10",
   "metadata": {},
   "source": [
    "Note that we are using a pandas dataframe to load the data."
   ]
  },
  {
   "cell_type": "markdown",
   "id": "0f305ff6",
   "metadata": {},
   "source": [
    "## Identifying the causal estimand"
   ]
  },
  {
   "cell_type": "markdown",
   "id": "c6fb3d1d",
   "metadata": {},
   "source": [
    "We now input a causal graph in the GML graph format."
   ]
  },
  {
   "cell_type": "code",
   "execution_count": 4,
   "id": "c809839c",
   "metadata": {
    "execution": {
     "iopub.execute_input": "2022-09-07T07:19:16.239341Z",
     "iopub.status.busy": "2022-09-07T07:19:16.238900Z",
     "iopub.status.idle": "2022-09-07T07:19:16.262317Z",
     "shell.execute_reply": "2022-09-07T07:19:16.261768Z"
    }
   },
   "outputs": [],
   "source": [
    "# With graph\n",
    "model=CausalModel(\n",
    "        data = df,\n",
    "        treatment=data[\"treatment_name\"],\n",
    "        outcome=data[\"outcome_name\"],\n",
    "        graph=data[\"gml_graph\"],\n",
    "        instruments=data[\"instrument_names\"]\n",
    "        )"
   ]
  },
  {
   "cell_type": "code",
   "execution_count": 5,
   "id": "cd2c8f16",
   "metadata": {
    "execution": {
     "iopub.execute_input": "2022-09-07T07:19:16.265142Z",
     "iopub.status.busy": "2022-09-07T07:19:16.264939Z",
     "iopub.status.idle": "2022-09-07T07:19:16.317494Z",
     "shell.execute_reply": "2022-09-07T07:19:16.316917Z"
    }
   },
   "outputs": [],
   "source": [
    "model.view_model()"
   ]
  },
  {
   "cell_type": "code",
   "execution_count": 6,
   "id": "f12d9b74",
   "metadata": {
    "execution": {
     "iopub.execute_input": "2022-09-07T07:19:16.320320Z",
     "iopub.status.busy": "2022-09-07T07:19:16.319922Z",
     "iopub.status.idle": "2022-09-07T07:19:16.341867Z",
     "shell.execute_reply": "2022-09-07T07:19:16.341281Z"
    }
   },
   "outputs": [
    {
     "data": {
      "image/png": "[encoded data removed]",
      "text/plain": [
       "<IPython.core.display.Image object>"
      ]
     },
     "metadata": {},
     "output_type": "display_data"
    }
   ],
   "source": [
    "from IPython.display import Image, display\n",
    "display(Image(filename=\"causal_model.png\"))"
   ]
  },
  {
   "cell_type": "markdown",
   "id": "fb1ebb05",
   "metadata": {},
   "source": [
    "We get a causal graph. Now identification and estimation is done."
   ]
  },
  {
   "cell_type": "code",
   "execution_count": 7,
   "id": "bb9e789d",
   "metadata": {
    "execution": {
     "iopub.execute_input": "2022-09-07T07:19:16.344857Z",
     "iopub.status.busy": "2022-09-07T07:19:16.344546Z",
     "iopub.status.idle": "2022-09-07T07:19:16.555054Z",
     "shell.execute_reply": "2022-09-07T07:19:16.554359Z"
    }
   },
   "outputs": [
    {
     "name": "stdout",
     "output_type": "stream",
     "text": [
      "Estimand type: nonparametric-ate\n",
      "\n",
      "### Estimand : 1\n",
      "Estimand name: backdoor\n",
      "Estimand expression:\n",
      "  d                       \n",
      "─────(E[y|W2,W1,W0,W4,W3])\n",
      "d[v₀]                     \n",
      "Estimand assumption 1, Unconfoundedness: If U→{v0} and U→y then P(y|v0,W2,W1,W0,W4,W3,U) = P(y|v0,W2,W1,W0,W4,W3)\n",
      "\n",
      "### Estimand : 2\n",
      "Estimand name: iv\n",
      "Estimand expression:\n",
      " ⎡                              -1⎤\n",
      " ⎢    d        ⎛    d          ⎞  ⎥\n",
      "E⎢─────────(y)⋅⎜─────────([v₀])⎟  ⎥\n",
      " ⎣d[Z₀  Z₁]    ⎝d[Z₀  Z₁]      ⎠  ⎦\n",
      "Estimand assumption 1, As-if-random: If U→→y then ¬(U →→{Z0,Z1})\n",
      "Estimand assumption 2, Exclusion: If we remove {Z0,Z1}→{v0}, then ¬({Z0,Z1}→y)\n",
      "\n",
      "### Estimand : 3\n",
      "Estimand name: frontdoor\n",
      "No such variable(s) found!\n",
      "\n"
     ]
    }
   ],
   "source": [
    "identified_estimand = model.identify_effect(proceed_when_unidentifiable=True)\n",
    "print(identified_estimand)"
   ]
  },
  {
   "cell_type": "markdown",
   "id": "a45e75c7",
   "metadata": {},
   "source": [
    "## Method 1: Propensity Score Stratification\n",
    "\n",
    "We will be using propensity scores to stratify units in the data."
   ]
  },
  {
   "cell_type": "code",
   "execution_count": 8,
   "id": "b74c8ad5",
   "metadata": {
    "execution": {
     "iopub.execute_input": "2022-09-07T07:19:16.557886Z",
     "iopub.status.busy": "2022-09-07T07:19:16.557563Z",
     "iopub.status.idle": "2022-09-07T07:19:17.153139Z",
     "shell.execute_reply": "2022-09-07T07:19:17.152224Z"
    }
   },
   "outputs": [
    {
     "name": "stdout",
     "output_type": "stream",
     "text": [
      "*** Causal Estimate ***\n",
      "\n",
      "## Identified estimand\n",
      "Estimand type: nonparametric-ate\n",
      "\n",
      "### Estimand : 1\n",
      "Estimand name: backdoor\n",
      "Estimand expression:\n",
      "  d                       \n",
      "─────(E[y|W2,W1,W0,W4,W3])\n",
      "d[v₀]                     \n",
      "Estimand assumption 1, Unconfoundedness: If U→{v0} and U→y then P(y|v0,W2,W1,W0,W4,W3,U) = P(y|v0,W2,W1,W0,W4,W3)\n",
      "\n",
      "## Realized estimand\n",
      "b: y~v0+W2+W1+W0+W4+W3\n",
      "Target units: att\n",
      "\n",
      "## Estimate\n",
      "Mean value: 1.0160825819078636\n",
      "\n",
      "Causal Estimate is 1.0160825819078636\n"
     ]
    }
   ],
   "source": [
    "causal_estimate_strat = model.estimate_effect(identified_estimand,\n",
    "                                              method_name=\"backdoor.propensity_score_stratification\",\n",
    "                                              target_units=\"att\")\n",
    "print(causal_estimate_strat)\n",
    "print(\"Causal Estimate is \" + str(causal_estimate_strat.value))"
   ]
  },
  {
   "cell_type": "markdown",
   "id": "ce6b4f40",
   "metadata": {},
   "source": [
    "### Textual Interpreter\n",
    "\n",
    "The textual Interpreter describes (in words) the effect of unit change in the treatment variable on the outcome variable."
   ]
  },
  {
   "cell_type": "code",
   "execution_count": 9,
   "id": "fb957e87",
   "metadata": {
    "execution": {
     "iopub.execute_input": "2022-09-07T07:19:17.156384Z",
     "iopub.status.busy": "2022-09-07T07:19:17.156049Z",
     "iopub.status.idle": "2022-09-07T07:19:17.181155Z",
     "shell.execute_reply": "2022-09-07T07:19:17.180227Z"
    }
   },
   "outputs": [
    {
     "name": "stdout",
     "output_type": "stream",
     "text": [
      "Increasing the treatment variable(s) [v0] from 0 to 1 causes an increase of 1.0160825819078636 in the expected value of the outcome [y], over the data distribution/population represented by the dataset.\n"
     ]
    }
   ],
   "source": [
    "# Textual Interpreter\n",
    "interpretation = causal_estimate_strat.interpret(method_name=\"textual_effect_interpreter\")"
   ]
  },
  {
   "cell_type": "markdown",
   "id": "356190f2",
   "metadata": {},
   "source": [
    "### Visual Interpreter\n",
    "\n",
    "The visual interpreter plots the change in the standardized mean difference (SMD) before and after Propensity Score based adjustment of the dataset. The formula for SMD is given below.\n",
    "\n",
    "\n",
    "$SMD = \\frac{\\bar X_{1} - \\bar X_{2}}{\\sqrt{(S_{1}^{2} + S_{2}^{2})/2}}$\n",
    "\n",
    "Here, $\\bar X_{1}$ and $\\bar X_{2}$ are the sample mean for the treated and control groups.\n"
   ]
  },
  {
   "cell_type": "code",
   "execution_count": 10,
   "id": "d0e9a973",
   "metadata": {
    "execution": {
     "iopub.execute_input": "2022-09-07T07:19:17.183931Z",
     "iopub.status.busy": "2022-09-07T07:19:17.183721Z",
     "iopub.status.idle": "2022-09-07T07:19:18.362182Z",
     "shell.execute_reply": "2022-09-07T07:19:18.361520Z"
    }
   },
   "outputs": [
    {
     "data": {
      "image/png": "[encoded data removed]",
      "text/plain": [
       "<Figure size 640x480 with 1 Axes>"
      ]
     },
     "metadata": {},
     "output_type": "display_data"
    }
   ],
   "source": [
    "# Visual Interpreter\n",
    "interpretation = causal_estimate_strat.interpret(method_name=\"propensity_balance_interpreter\")"
   ]
  },
  {
   "cell_type": "markdown",
   "id": "8afcd79b",
   "metadata": {},
   "source": [
    "This plot shows how the SMD decreases from the unadjusted to the stratified units. "
   ]
  },
  {
   "cell_type": "markdown",
   "id": "400a99e1",
   "metadata": {},
   "source": [
    "## Method 2: Propensity Score Matching\n",
    "\n",
    "We will be using propensity scores to match units in the data."
   ]
  },
  {
   "cell_type": "code",
   "execution_count": 11,
   "id": "ad18aa69",
   "metadata": {
    "execution": {
     "iopub.execute_input": "2022-09-07T07:19:18.365947Z",
     "iopub.status.busy": "2022-09-07T07:19:18.365349Z",
     "iopub.status.idle": "2022-09-07T07:19:22.743497Z",
     "shell.execute_reply": "2022-09-07T07:19:22.742967Z"
    }
   },
   "outputs": [
    {
     "name": "stdout",
     "output_type": "stream",
     "text": [
      "*** Causal Estimate ***\n",
      "\n",
      "## Identified estimand\n",
      "Estimand type: nonparametric-ate\n",
      "\n",
      "### Estimand : 1\n",
      "Estimand name: backdoor\n",
      "Estimand expression:\n",
      "  d                       \n",
      "─────(E[y|W2,W1,W0,W4,W3])\n",
      "d[v₀]                     \n",
      "Estimand assumption 1, Unconfoundedness: If U→{v0} and U→y then P(y|v0,W2,W1,W0,W4,W3,U) = P(y|v0,W2,W1,W0,W4,W3)\n",
      "\n",
      "## Realized estimand\n",
      "b: y~v0+W2+W1+W0+W4+W3\n",
      "Target units: atc\n",
      "\n",
      "## Estimate\n",
      "Mean value: 1.0078628047465428\n",
      "\n",
      "Causal Estimate is 1.0078628047465428\n"
     ]
    }
   ],
   "source": [
    "causal_estimate_match = model.estimate_effect(identified_estimand,\n",
    "                                              method_name=\"backdoor.propensity_score_matching\",\n",
    "                                              target_units=\"atc\")\n",
    "print(causal_estimate_match)\n",
    "print(\"Causal Estimate is \" + str(causal_estimate_match.value))"
   ]
  },
  {
   "cell_type": "code",
   "execution_count": 12,
   "id": "df22d098",
   "metadata": {
    "execution": {
     "iopub.execute_input": "2022-09-07T07:19:22.746396Z",
     "iopub.status.busy": "2022-09-07T07:19:22.746182Z",
     "iopub.status.idle": "2022-09-07T07:19:22.770267Z",
     "shell.execute_reply": "2022-09-07T07:19:22.769699Z"
    }
   },
   "outputs": [
    {
     "name": "stdout",
     "output_type": "stream",
     "text": [
      "Increasing the treatment variable(s) [v0] from 0 to 1 causes an increase of 1.0078628047465428 in the expected value of the outcome [y], over the data distribution/population represented by the dataset.\n"
     ]
    }
   ],
   "source": [
    "# Textual Interpreter\n",
    "interpretation = causal_estimate_match.interpret(method_name=\"textual_effect_interpreter\")"
   ]
  },
  {
   "cell_type": "markdown",
   "id": "a9911d98",
   "metadata": {},
   "source": [
    "Cannot use propensity balance interpretor here since the interpreter method only supports propensity score stratification estimator."
   ]
  },
  {
   "cell_type": "markdown",
   "id": "f285467b",
   "metadata": {},
   "source": [
    "## Method 3: Weighting\n",
    "\n",
    "We will be using (inverse) propensity scores to assign weights to units in the data. DoWhy supports a few different weighting schemes:\n",
    "1. Vanilla Inverse Propensity Score weighting (IPS) (weighting_scheme=\"ips_weight\")\n",
    "2. Self-normalized IPS weighting (also known as the Hajek estimator) (weighting_scheme=\"ips_normalized_weight\")\n",
    "3. Stabilized IPS weighting (weighting_scheme = \"ips_stabilized_weight\")"
   ]
  },
  {
   "cell_type": "code",
   "execution_count": 13,
   "id": "08baeaa1",
   "metadata": {
    "execution": {
     "iopub.execute_input": "2022-09-07T07:19:22.773497Z",
     "iopub.status.busy": "2022-09-07T07:19:22.773008Z",
     "iopub.status.idle": "2022-09-07T07:19:22.830131Z",
     "shell.execute_reply": "2022-09-07T07:19:22.829559Z"
    }
   },
   "outputs": [
    {
     "name": "stdout",
     "output_type": "stream",
     "text": [
      "*** Causal Estimate ***\n",
      "\n",
      "## Identified estimand\n",
      "Estimand type: nonparametric-ate\n",
      "\n",
      "### Estimand : 1\n",
      "Estimand name: backdoor\n",
      "Estimand expression:\n",
      "  d                       \n",
      "─────(E[y|W2,W1,W0,W4,W3])\n",
      "d[v₀]                     \n",
      "Estimand assumption 1, Unconfoundedness: If U→{v0} and U→y then P(y|v0,W2,W1,W0,W4,W3,U) = P(y|v0,W2,W1,W0,W4,W3)\n",
      "\n",
      "## Realized estimand\n",
      "b: y~v0+W2+W1+W0+W4+W3\n",
      "Target units: ate\n",
      "\n",
      "## Estimate\n",
      "Mean value: 0.9937102964778903\n",
      "\n",
      "Causal Estimate is 0.9937102964778903\n"
     ]
    }
   ],
   "source": [
    "causal_estimate_ipw = model.estimate_effect(identified_estimand,\n",
    "                                            method_name=\"backdoor.propensity_score_weighting\",\n",
    "                                            target_units = \"ate\",\n",
    "                                            method_params={\"weighting_scheme\":\"ips_weight\"})\n",
    "print(causal_estimate_ipw)\n",
    "print(\"Causal Estimate is \" + str(causal_estimate_ipw.value))"
   ]
  },
  {
   "cell_type": "code",
   "execution_count": 14,
   "id": "c90a0e38",
   "metadata": {
    "execution": {
     "iopub.execute_input": "2022-09-07T07:19:22.833166Z",
     "iopub.status.busy": "2022-09-07T07:19:22.832702Z",
     "iopub.status.idle": "2022-09-07T07:19:22.858697Z",
     "shell.execute_reply": "2022-09-07T07:19:22.858140Z"
    }
   },
   "outputs": [
    {
     "name": "stdout",
     "output_type": "stream",
     "text": [
      "Increasing the treatment variable(s) [v0] from 0 to 1 causes an increase of 0.9937102964778903 in the expected value of the outcome [y], over the data distribution/population represented by the dataset.\n"
     ]
    }
   ],
   "source": [
    "# Textual Interpreter\n",
    "interpretation = causal_estimate_ipw.interpret(method_name=\"textual_effect_interpreter\")"
   ]
  },
  {
   "cell_type": "code",
   "execution_count": 15,
   "id": "73baead1",
   "metadata": {
    "execution": {
     "iopub.execute_input": "2022-09-07T07:19:22.861763Z",
     "iopub.status.busy": "2022-09-07T07:19:22.861460Z",
     "iopub.status.idle": "2022-09-07T07:19:23.176814Z",
     "shell.execute_reply": "2022-09-07T07:19:23.176207Z"
    }
   },
   "outputs": [
    {
     "data": {
      "image/png": "[encoded data removed]",
      "text/plain": [
       "<Figure size 800x800 with 2 Axes>"
      ]
     },
     "metadata": {},
     "output_type": "display_data"
    }
   ],
   "source": [
    "interpretation = causal_estimate_ipw.interpret(method_name=\"confounder_distribution_interpreter\", fig_size=(8,8), font_size=12, var_name='W4', var_type='discrete')"
   ]
  },
  {
   "cell_type": "code",
   "execution_count": null,
   "id": "dcf464f4",
   "metadata": {},
   "outputs": [],
   "source": []
  }
 ],
 "metadata": {
  "kernelspec": {
   "display_name": "Python 3",
   "language": "python",
   "name": "python3"
  },
  "language_info": {
   "codemirror_mode": {
    "name": "ipython",
    "version": 3
   },
   "file_extension": ".py",
   "mimetype": "text/x-python",
   "name": "python",
   "nbconvert_exporter": "python",
   "pygments_lexer": "ipython3",
   "version": "3.8.10"
  },
  "toc": {
   "base_numbering": 1,
   "nav_menu": {},
   "number_sections": false,
   "sideBar": true,
   "skip_h1_title": true,
   "title_cell": "Table of Contents",
   "title_sidebar": "Contents",
   "toc_cell": false,
   "toc_position": {},
   "toc_section_display": true,
   "toc_window_display": false
  }
 },
 "nbformat": 4,
 "nbformat_minor": 5
}
