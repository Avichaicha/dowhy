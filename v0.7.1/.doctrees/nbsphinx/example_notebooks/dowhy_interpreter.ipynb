{
 "cells": [
  {
   "cell_type": "markdown",
   "id": "fddf0086",
   "metadata": {},
   "source": [
    "# DoWhy: Interpreters for Causal Estimators\n",
    "\n",
    "This is a quick introduction to the use of interpreters in the DoWhy causal inference library.\n",
    "We will load in a sample dataset, use different methods for estimating the causal effect of a (pre-specified)treatment variable on a (pre-specified) outcome variable and demonstrate how to interpret the obtained results.\n",
    "\n",
    "First, let us add the required path for Python to find the DoWhy code and load all required packages"
   ]
  },
  {
   "cell_type": "code",
   "execution_count": 1,
   "id": "b1c39879",
   "metadata": {
    "execution": {
     "iopub.execute_input": "2022-08-03T13:26:24.347874Z",
     "iopub.status.busy": "2022-08-03T13:26:24.347558Z",
     "iopub.status.idle": "2022-08-03T13:26:24.368644Z",
     "shell.execute_reply": "2022-08-03T13:26:24.367907Z"
    }
   },
   "outputs": [],
   "source": [
    "%load_ext autoreload\n",
    "%autoreload 2"
   ]
  },
  {
   "cell_type": "code",
   "execution_count": 2,
   "id": "eb21a476",
   "metadata": {
    "execution": {
     "iopub.execute_input": "2022-08-03T13:26:24.372507Z",
     "iopub.status.busy": "2022-08-03T13:26:24.372243Z",
     "iopub.status.idle": "2022-08-03T13:26:25.717660Z",
     "shell.execute_reply": "2022-08-03T13:26:25.716669Z"
    }
   },
   "outputs": [
    {
     "name": "stdout",
     "output_type": "stream",
     "text": [
      "keywords are unexpanded, not using\n"
     ]
    }
   ],
   "source": [
    "import numpy as np\n",
    "import pandas as pd\n",
    "import logging\n",
    "\n",
    "import dowhy\n",
    "from dowhy import CausalModel\n",
    "import dowhy.datasets "
   ]
  },
  {
   "cell_type": "markdown",
   "id": "32c082a3",
   "metadata": {},
   "source": [
    "Now, let us load a dataset. For simplicity, we simulate a dataset with linear relationships between common causes and treatment, and common causes and outcome.\n",
    "\n",
    "Beta is the true causal effect."
   ]
  },
  {
   "cell_type": "code",
   "execution_count": 3,
   "id": "81d54308",
   "metadata": {
    "execution": {
     "iopub.execute_input": "2022-08-03T13:26:25.722335Z",
     "iopub.status.busy": "2022-08-03T13:26:25.721250Z",
     "iopub.status.idle": "2022-08-03T13:26:26.146854Z",
     "shell.execute_reply": "2022-08-03T13:26:26.146200Z"
    }
   },
   "outputs": [
    {
     "name": "stdout",
     "output_type": "stream",
     "text": [
      "8955\n"
     ]
    },
    {
     "data": {
      "text/html": [
       "<div>\n",
       "<style scoped>\n",
       "    .dataframe tbody tr th:only-of-type {\n",
       "        vertical-align: middle;\n",
       "    }\n",
       "\n",
       "    .dataframe tbody tr th {\n",
       "        vertical-align: top;\n",
       "    }\n",
       "\n",
       "    .dataframe thead th {\n",
       "        text-align: right;\n",
       "    }\n",
       "</style>\n",
       "<table border=\"1\" class=\"dataframe\">\n",
       "  <thead>\n",
       "    <tr style=\"text-align: right;\">\n",
       "      <th></th>\n",
       "      <th>Z0</th>\n",
       "      <th>Z1</th>\n",
       "      <th>W0</th>\n",
       "      <th>W1</th>\n",
       "      <th>W2</th>\n",
       "      <th>W3</th>\n",
       "      <th>W4</th>\n",
       "      <th>v0</th>\n",
       "      <th>y</th>\n",
       "    </tr>\n",
       "  </thead>\n",
       "  <tbody>\n",
       "    <tr>\n",
       "      <th>0</th>\n",
       "      <td>0.0</td>\n",
       "      <td>0.221797</td>\n",
       "      <td>-1.210509</td>\n",
       "      <td>1.994116</td>\n",
       "      <td>-1.940208</td>\n",
       "      <td>1.152420</td>\n",
       "      <td>3</td>\n",
       "      <td>True</td>\n",
       "      <td>2.354425</td>\n",
       "    </tr>\n",
       "    <tr>\n",
       "      <th>1</th>\n",
       "      <td>0.0</td>\n",
       "      <td>0.125152</td>\n",
       "      <td>-0.387015</td>\n",
       "      <td>0.325611</td>\n",
       "      <td>-1.330517</td>\n",
       "      <td>0.644454</td>\n",
       "      <td>0</td>\n",
       "      <td>True</td>\n",
       "      <td>0.572913</td>\n",
       "    </tr>\n",
       "    <tr>\n",
       "      <th>2</th>\n",
       "      <td>0.0</td>\n",
       "      <td>0.128745</td>\n",
       "      <td>-0.011238</td>\n",
       "      <td>2.397251</td>\n",
       "      <td>-3.172109</td>\n",
       "      <td>1.047800</td>\n",
       "      <td>1</td>\n",
       "      <td>True</td>\n",
       "      <td>2.194101</td>\n",
       "    </tr>\n",
       "    <tr>\n",
       "      <th>3</th>\n",
       "      <td>0.0</td>\n",
       "      <td>0.573646</td>\n",
       "      <td>-0.355033</td>\n",
       "      <td>1.287919</td>\n",
       "      <td>0.385666</td>\n",
       "      <td>0.909091</td>\n",
       "      <td>2</td>\n",
       "      <td>True</td>\n",
       "      <td>3.569514</td>\n",
       "    </tr>\n",
       "    <tr>\n",
       "      <th>4</th>\n",
       "      <td>0.0</td>\n",
       "      <td>0.608776</td>\n",
       "      <td>-2.383133</td>\n",
       "      <td>0.445202</td>\n",
       "      <td>-0.721764</td>\n",
       "      <td>-0.195100</td>\n",
       "      <td>2</td>\n",
       "      <td>True</td>\n",
       "      <td>-0.763076</td>\n",
       "    </tr>\n",
       "    <tr>\n",
       "      <th>...</th>\n",
       "      <td>...</td>\n",
       "      <td>...</td>\n",
       "      <td>...</td>\n",
       "      <td>...</td>\n",
       "      <td>...</td>\n",
       "      <td>...</td>\n",
       "      <td>...</td>\n",
       "      <td>...</td>\n",
       "      <td>...</td>\n",
       "    </tr>\n",
       "    <tr>\n",
       "      <th>9995</th>\n",
       "      <td>0.0</td>\n",
       "      <td>0.073011</td>\n",
       "      <td>-2.413781</td>\n",
       "      <td>1.540685</td>\n",
       "      <td>-1.472443</td>\n",
       "      <td>0.046756</td>\n",
       "      <td>2</td>\n",
       "      <td>False</td>\n",
       "      <td>-1.062061</td>\n",
       "    </tr>\n",
       "    <tr>\n",
       "      <th>9996</th>\n",
       "      <td>0.0</td>\n",
       "      <td>0.327825</td>\n",
       "      <td>-1.650611</td>\n",
       "      <td>0.887718</td>\n",
       "      <td>-1.370730</td>\n",
       "      <td>-0.942717</td>\n",
       "      <td>1</td>\n",
       "      <td>True</td>\n",
       "      <td>-1.096338</td>\n",
       "    </tr>\n",
       "    <tr>\n",
       "      <th>9997</th>\n",
       "      <td>0.0</td>\n",
       "      <td>0.240057</td>\n",
       "      <td>-2.436573</td>\n",
       "      <td>0.174495</td>\n",
       "      <td>-0.030096</td>\n",
       "      <td>0.305209</td>\n",
       "      <td>3</td>\n",
       "      <td>True</td>\n",
       "      <td>0.191357</td>\n",
       "    </tr>\n",
       "    <tr>\n",
       "      <th>9998</th>\n",
       "      <td>0.0</td>\n",
       "      <td>0.504460</td>\n",
       "      <td>-2.505045</td>\n",
       "      <td>1.363040</td>\n",
       "      <td>0.409242</td>\n",
       "      <td>1.545766</td>\n",
       "      <td>2</td>\n",
       "      <td>True</td>\n",
       "      <td>2.299266</td>\n",
       "    </tr>\n",
       "    <tr>\n",
       "      <th>9999</th>\n",
       "      <td>0.0</td>\n",
       "      <td>0.503480</td>\n",
       "      <td>-1.442693</td>\n",
       "      <td>2.238613</td>\n",
       "      <td>-0.676569</td>\n",
       "      <td>-0.907602</td>\n",
       "      <td>0</td>\n",
       "      <td>True</td>\n",
       "      <td>0.553968</td>\n",
       "    </tr>\n",
       "  </tbody>\n",
       "</table>\n",
       "<p>10000 rows × 9 columns</p>\n",
       "</div>"
      ],
      "text/plain": [
       "       Z0        Z1        W0        W1        W2        W3 W4     v0  \\\n",
       "0     0.0  0.221797 -1.210509  1.994116 -1.940208  1.152420  3   True   \n",
       "1     0.0  0.125152 -0.387015  0.325611 -1.330517  0.644454  0   True   \n",
       "2     0.0  0.128745 -0.011238  2.397251 -3.172109  1.047800  1   True   \n",
       "3     0.0  0.573646 -0.355033  1.287919  0.385666  0.909091  2   True   \n",
       "4     0.0  0.608776 -2.383133  0.445202 -0.721764 -0.195100  2   True   \n",
       "...   ...       ...       ...       ...       ...       ... ..    ...   \n",
       "9995  0.0  0.073011 -2.413781  1.540685 -1.472443  0.046756  2  False   \n",
       "9996  0.0  0.327825 -1.650611  0.887718 -1.370730 -0.942717  1   True   \n",
       "9997  0.0  0.240057 -2.436573  0.174495 -0.030096  0.305209  3   True   \n",
       "9998  0.0  0.504460 -2.505045  1.363040  0.409242  1.545766  2   True   \n",
       "9999  0.0  0.503480 -1.442693  2.238613 -0.676569 -0.907602  0   True   \n",
       "\n",
       "             y  \n",
       "0     2.354425  \n",
       "1     0.572913  \n",
       "2     2.194101  \n",
       "3     3.569514  \n",
       "4    -0.763076  \n",
       "...        ...  \n",
       "9995 -1.062061  \n",
       "9996 -1.096338  \n",
       "9997  0.191357  \n",
       "9998  2.299266  \n",
       "9999  0.553968  \n",
       "\n",
       "[10000 rows x 9 columns]"
      ]
     },
     "execution_count": 3,
     "metadata": {},
     "output_type": "execute_result"
    }
   ],
   "source": [
    "data = dowhy.datasets.linear_dataset(beta=1,\n",
    "        num_common_causes=5, \n",
    "        num_instruments = 2,\n",
    "        num_treatments=1,\n",
    "        num_discrete_common_causes=1,\n",
    "        num_samples=10000,\n",
    "        treatment_is_binary=True,\n",
    "        outcome_is_binary=False)\n",
    "df = data[\"df\"]\n",
    "print(df[df.v0==True].shape[0])\n",
    "df"
   ]
  },
  {
   "cell_type": "markdown",
   "id": "d4ecd370",
   "metadata": {},
   "source": [
    "Note that we are using a pandas dataframe to load the data."
   ]
  },
  {
   "cell_type": "markdown",
   "id": "c8466229",
   "metadata": {},
   "source": [
    "## Identifying the causal estimand"
   ]
  },
  {
   "cell_type": "markdown",
   "id": "87b552a6",
   "metadata": {},
   "source": [
    "We now input a causal graph in the GML graph format."
   ]
  },
  {
   "cell_type": "code",
   "execution_count": 4,
   "id": "ae6f84e0",
   "metadata": {
    "execution": {
     "iopub.execute_input": "2022-08-03T13:26:26.151515Z",
     "iopub.status.busy": "2022-08-03T13:26:26.151045Z",
     "iopub.status.idle": "2022-08-03T13:26:26.182118Z",
     "shell.execute_reply": "2022-08-03T13:26:26.181442Z"
    }
   },
   "outputs": [],
   "source": [
    "# With graph\n",
    "model=CausalModel(\n",
    "        data = df,\n",
    "        treatment=data[\"treatment_name\"],\n",
    "        outcome=data[\"outcome_name\"],\n",
    "        graph=data[\"gml_graph\"],\n",
    "        instruments=data[\"instrument_names\"]\n",
    "        )"
   ]
  },
  {
   "cell_type": "code",
   "execution_count": 5,
   "id": "6c7ecbf6",
   "metadata": {
    "execution": {
     "iopub.execute_input": "2022-08-03T13:26:26.186329Z",
     "iopub.status.busy": "2022-08-03T13:26:26.185772Z",
     "iopub.status.idle": "2022-08-03T13:26:26.258469Z",
     "shell.execute_reply": "2022-08-03T13:26:26.257332Z"
    }
   },
   "outputs": [],
   "source": [
    "model.view_model()"
   ]
  },
  {
   "cell_type": "code",
   "execution_count": 6,
   "id": "27a59c81",
   "metadata": {
    "execution": {
     "iopub.execute_input": "2022-08-03T13:26:26.263932Z",
     "iopub.status.busy": "2022-08-03T13:26:26.263616Z",
     "iopub.status.idle": "2022-08-03T13:26:26.297818Z",
     "shell.execute_reply": "2022-08-03T13:26:26.297052Z"
    }
   },
   "outputs": [
    {
     "data": {
      "image/png": "[encoded data removed]",
      "text/plain": [
       "<IPython.core.display.Image object>"
      ]
     },
     "metadata": {},
     "output_type": "display_data"
    }
   ],
   "source": [
    "from IPython.display import Image, display\n",
    "display(Image(filename=\"causal_model.png\"))"
   ]
  },
  {
   "cell_type": "markdown",
   "id": "921cffa5",
   "metadata": {},
   "source": [
    "We get a causal graph. Now identification and estimation is done."
   ]
  },
  {
   "cell_type": "code",
   "execution_count": 7,
   "id": "0e737e8b",
   "metadata": {
    "execution": {
     "iopub.execute_input": "2022-08-03T13:26:26.301642Z",
     "iopub.status.busy": "2022-08-03T13:26:26.301213Z",
     "iopub.status.idle": "2022-08-03T13:26:26.598753Z",
     "shell.execute_reply": "2022-08-03T13:26:26.597798Z"
    }
   },
   "outputs": [
    {
     "name": "stdout",
     "output_type": "stream",
     "text": [
      "Estimand type: nonparametric-ate\n",
      "\n",
      "### Estimand : 1\n",
      "Estimand name: backdoor\n",
      "Estimand expression:\n",
      "  d                       \n",
      "─────(E[y|W4,W2,W0,W1,W3])\n",
      "d[v₀]                     \n",
      "Estimand assumption 1, Unconfoundedness: If U→{v0} and U→y then P(y|v0,W4,W2,W0,W1,W3,U) = P(y|v0,W4,W2,W0,W1,W3)\n",
      "\n",
      "### Estimand : 2\n",
      "Estimand name: iv\n",
      "Estimand expression:\n",
      " ⎡                              -1⎤\n",
      " ⎢    d        ⎛    d          ⎞  ⎥\n",
      "E⎢─────────(y)⋅⎜─────────([v₀])⎟  ⎥\n",
      " ⎣d[Z₀  Z₁]    ⎝d[Z₀  Z₁]      ⎠  ⎦\n",
      "Estimand assumption 1, As-if-random: If U→→y then ¬(U →→{Z0,Z1})\n",
      "Estimand assumption 2, Exclusion: If we remove {Z0,Z1}→{v0}, then ¬({Z0,Z1}→y)\n",
      "\n",
      "### Estimand : 3\n",
      "Estimand name: frontdoor\n",
      "No such variable(s) found!\n",
      "\n"
     ]
    }
   ],
   "source": [
    "identified_estimand = model.identify_effect(proceed_when_unidentifiable=True)\n",
    "print(identified_estimand)"
   ]
  },
  {
   "cell_type": "markdown",
   "id": "fa8599f3",
   "metadata": {},
   "source": [
    "## Method 1: Propensity Score Stratification\n",
    "\n",
    "We will be using propensity scores to stratify units in the data."
   ]
  },
  {
   "cell_type": "code",
   "execution_count": 8,
   "id": "efd9fbb1",
   "metadata": {
    "execution": {
     "iopub.execute_input": "2022-08-03T13:26:26.602975Z",
     "iopub.status.busy": "2022-08-03T13:26:26.602393Z",
     "iopub.status.idle": "2022-08-03T13:26:27.607395Z",
     "shell.execute_reply": "2022-08-03T13:26:27.606511Z"
    }
   },
   "outputs": [
    {
     "name": "stdout",
     "output_type": "stream",
     "text": [
      "propensity_score_stratification\n"
     ]
    },
    {
     "name": "stderr",
     "output_type": "stream",
     "text": [
      "/usr/local/lib/python3.8/dist-packages/sklearn/utils/validation.py:993: DataConversionWarning: A column-vector y was passed when a 1d array was expected. Please change the shape of y to (n_samples, ), for example using ravel().\n",
      "  y = column_or_1d(y, warn=True)\n"
     ]
    },
    {
     "name": "stdout",
     "output_type": "stream",
     "text": [
      "*** Causal Estimate ***\n",
      "\n",
      "## Identified estimand\n",
      "Estimand type: nonparametric-ate\n",
      "\n",
      "### Estimand : 1\n",
      "Estimand name: backdoor\n",
      "Estimand expression:\n",
      "  d                       \n",
      "─────(E[y|W4,W2,W0,W1,W3])\n",
      "d[v₀]                     \n",
      "Estimand assumption 1, Unconfoundedness: If U→{v0} and U→y then P(y|v0,W4,W2,W0,W1,W3,U) = P(y|v0,W4,W2,W0,W1,W3)\n",
      "\n",
      "## Realized estimand\n",
      "b: y~v0+W4+W2+W0+W1+W3\n",
      "Target units: att\n",
      "\n",
      "## Estimate\n",
      "Mean value: 0.9937499848582859\n",
      "\n",
      "Causal Estimate is 0.9937499848582859\n"
     ]
    }
   ],
   "source": [
    "causal_estimate_strat = model.estimate_effect(identified_estimand,\n",
    "                                              method_name=\"backdoor.propensity_score_stratification\",\n",
    "                                              target_units=\"att\")\n",
    "print(causal_estimate_strat)\n",
    "print(\"Causal Estimate is \" + str(causal_estimate_strat.value))"
   ]
  },
  {
   "cell_type": "markdown",
   "id": "bceae0f7",
   "metadata": {},
   "source": [
    "### Textual Interpreter\n",
    "\n",
    "The textual Interpreter describes (in words) the effect of unit change in the treatment variable on the outcome variable."
   ]
  },
  {
   "cell_type": "code",
   "execution_count": 9,
   "id": "edd35e8b",
   "metadata": {
    "execution": {
     "iopub.execute_input": "2022-08-03T13:26:27.612233Z",
     "iopub.status.busy": "2022-08-03T13:26:27.611489Z",
     "iopub.status.idle": "2022-08-03T13:26:27.651421Z",
     "shell.execute_reply": "2022-08-03T13:26:27.650548Z"
    }
   },
   "outputs": [
    {
     "name": "stdout",
     "output_type": "stream",
     "text": [
      "Increasing the treatment variable(s) [v0] from 0 to 1 causes an increase of 0.9937499848582859 in the expected value of the outcome [y], over the data distribution/population represented by the dataset.\n"
     ]
    }
   ],
   "source": [
    "# Textual Interpreter\n",
    "interpretation = causal_estimate_strat.interpret(method_name=\"textual_effect_interpreter\")"
   ]
  },
  {
   "cell_type": "markdown",
   "id": "7c2b33b0",
   "metadata": {},
   "source": [
    "### Visual Interpreter\n",
    "\n",
    "The visual interpreter plots the change in the standardized mean difference (SMD) before and after Propensity Score based adjustment of the dataset. The formula for SMD is given below.\n",
    "\n",
    "\n",
    "$SMD = \\frac{\\bar X_{1} - \\bar X_{2}}{\\sqrt{(S_{1}^{2} + S_{2}^{2})/2}}$\n",
    "\n",
    "Here, $\\bar X_{1}$ and $\\bar X_{2}$ are the sample mean for the treated and control groups.\n"
   ]
  },
  {
   "cell_type": "code",
   "execution_count": 10,
   "id": "d93299b5",
   "metadata": {
    "execution": {
     "iopub.execute_input": "2022-08-03T13:26:27.655698Z",
     "iopub.status.busy": "2022-08-03T13:26:27.655153Z",
     "iopub.status.idle": "2022-08-03T13:26:29.067859Z",
     "shell.execute_reply": "2022-08-03T13:26:29.066988Z"
    }
   },
   "outputs": [
    {
     "data": {
      "image/png": "[encoded data removed]",
      "text/plain": [
       "<Figure size 432x288 with 1 Axes>"
      ]
     },
     "metadata": {
      "needs_background": "light"
     },
     "output_type": "display_data"
    }
   ],
   "source": [
    "# Visual Interpreter\n",
    "interpretation = causal_estimate_strat.interpret(method_name=\"propensity_balance_interpreter\")"
   ]
  },
  {
   "cell_type": "markdown",
   "id": "a19831c1",
   "metadata": {},
   "source": [
    "This plot shows how the SMD decreases from the unadjusted to the stratified units. "
   ]
  },
  {
   "cell_type": "markdown",
   "id": "153a1aab",
   "metadata": {},
   "source": [
    "## Method 2: Propensity Score Matching\n",
    "\n",
    "We will be using propensity scores to match units in the data."
   ]
  },
  {
   "cell_type": "code",
   "execution_count": 11,
   "id": "8b8fecf8",
   "metadata": {
    "execution": {
     "iopub.execute_input": "2022-08-03T13:26:29.073583Z",
     "iopub.status.busy": "2022-08-03T13:26:29.072611Z",
     "iopub.status.idle": "2022-08-03T13:26:34.645059Z",
     "shell.execute_reply": "2022-08-03T13:26:34.643809Z"
    }
   },
   "outputs": [
    {
     "name": "stdout",
     "output_type": "stream",
     "text": [
      "propensity_score_matching\n"
     ]
    },
    {
     "name": "stderr",
     "output_type": "stream",
     "text": [
      "/usr/local/lib/python3.8/dist-packages/sklearn/utils/validation.py:993: DataConversionWarning: A column-vector y was passed when a 1d array was expected. Please change the shape of y to (n_samples, ), for example using ravel().\n",
      "  y = column_or_1d(y, warn=True)\n"
     ]
    },
    {
     "name": "stdout",
     "output_type": "stream",
     "text": [
      "*** Causal Estimate ***\n",
      "\n",
      "## Identified estimand\n",
      "Estimand type: nonparametric-ate\n",
      "\n",
      "### Estimand : 1\n",
      "Estimand name: backdoor\n",
      "Estimand expression:\n",
      "  d                       \n",
      "─────(E[y|W4,W2,W0,W1,W3])\n",
      "d[v₀]                     \n",
      "Estimand assumption 1, Unconfoundedness: If U→{v0} and U→y then P(y|v0,W4,W2,W0,W1,W3,U) = P(y|v0,W4,W2,W0,W1,W3)\n",
      "\n",
      "## Realized estimand\n",
      "b: y~v0+W4+W2+W0+W1+W3\n",
      "Target units: atc\n",
      "\n",
      "## Estimate\n",
      "Mean value: 1.009585911286444\n",
      "\n",
      "Causal Estimate is 1.009585911286444\n"
     ]
    }
   ],
   "source": [
    "causal_estimate_match = model.estimate_effect(identified_estimand,\n",
    "                                              method_name=\"backdoor.propensity_score_matching\",\n",
    "                                              target_units=\"atc\")\n",
    "print(causal_estimate_match)\n",
    "print(\"Causal Estimate is \" + str(causal_estimate_match.value))"
   ]
  },
  {
   "cell_type": "code",
   "execution_count": 12,
   "id": "e7785b65",
   "metadata": {
    "execution": {
     "iopub.execute_input": "2022-08-03T13:26:34.649120Z",
     "iopub.status.busy": "2022-08-03T13:26:34.648377Z",
     "iopub.status.idle": "2022-08-03T13:26:34.679118Z",
     "shell.execute_reply": "2022-08-03T13:26:34.678129Z"
    }
   },
   "outputs": [
    {
     "name": "stdout",
     "output_type": "stream",
     "text": [
      "Increasing the treatment variable(s) [v0] from 0 to 1 causes an increase of 1.009585911286444 in the expected value of the outcome [y], over the data distribution/population represented by the dataset.\n"
     ]
    }
   ],
   "source": [
    "# Textual Interpreter\n",
    "interpretation = causal_estimate_match.interpret(method_name=\"textual_effect_interpreter\")"
   ]
  },
  {
   "cell_type": "markdown",
   "id": "4a9da6e1",
   "metadata": {},
   "source": [
    "Cannot use propensity balance interpretor here since the interpreter method only supports propensity score stratification estimator."
   ]
  },
  {
   "cell_type": "markdown",
   "id": "bb2c8acd",
   "metadata": {},
   "source": [
    "## Method 3: Weighting\n",
    "\n",
    "We will be using (inverse) propensity scores to assign weights to units in the data. DoWhy supports a few different weighting schemes:\n",
    "1. Vanilla Inverse Propensity Score weighting (IPS) (weighting_scheme=\"ips_weight\")\n",
    "2. Self-normalized IPS weighting (also known as the Hajek estimator) (weighting_scheme=\"ips_normalized_weight\")\n",
    "3. Stabilized IPS weighting (weighting_scheme = \"ips_stabilized_weight\")"
   ]
  },
  {
   "cell_type": "code",
   "execution_count": 13,
   "id": "8ab9da94",
   "metadata": {
    "execution": {
     "iopub.execute_input": "2022-08-03T13:26:34.684300Z",
     "iopub.status.busy": "2022-08-03T13:26:34.683344Z",
     "iopub.status.idle": "2022-08-03T13:26:34.765081Z",
     "shell.execute_reply": "2022-08-03T13:26:34.762678Z"
    }
   },
   "outputs": [
    {
     "name": "stdout",
     "output_type": "stream",
     "text": [
      "propensity_score_weighting\n",
      "*** Causal Estimate ***\n",
      "\n",
      "## Identified estimand\n",
      "Estimand type: nonparametric-ate\n",
      "\n",
      "### Estimand : 1\n",
      "Estimand name: backdoor\n",
      "Estimand expression:\n",
      "  d                       \n",
      "─────(E[y|W4,W2,W0,W1,W3])\n",
      "d[v₀]                     \n",
      "Estimand assumption 1, Unconfoundedness: If U→{v0} and U→y then P(y|v0,W4,W2,W0,W1,W3,U) = P(y|v0,W4,W2,W0,W1,W3)\n",
      "\n",
      "## Realized estimand\n",
      "b: y~v0+W4+W2+W0+W1+W3\n",
      "Target units: ate\n",
      "\n",
      "## Estimate\n",
      "Mean value: 1.3366993420852624\n",
      "\n",
      "Causal Estimate is 1.3366993420852624\n"
     ]
    },
    {
     "name": "stderr",
     "output_type": "stream",
     "text": [
      "/usr/local/lib/python3.8/dist-packages/sklearn/utils/validation.py:993: DataConversionWarning: A column-vector y was passed when a 1d array was expected. Please change the shape of y to (n_samples, ), for example using ravel().\n",
      "  y = column_or_1d(y, warn=True)\n"
     ]
    }
   ],
   "source": [
    "causal_estimate_ipw = model.estimate_effect(identified_estimand,\n",
    "                                            method_name=\"backdoor.propensity_score_weighting\",\n",
    "                                            target_units = \"ate\",\n",
    "                                            method_params={\"weighting_scheme\":\"ips_weight\"})\n",
    "print(causal_estimate_ipw)\n",
    "print(\"Causal Estimate is \" + str(causal_estimate_ipw.value))"
   ]
  },
  {
   "cell_type": "code",
   "execution_count": 14,
   "id": "3db1d4a8",
   "metadata": {
    "execution": {
     "iopub.execute_input": "2022-08-03T13:26:34.769334Z",
     "iopub.status.busy": "2022-08-03T13:26:34.769050Z",
     "iopub.status.idle": "2022-08-03T13:26:34.809728Z",
     "shell.execute_reply": "2022-08-03T13:26:34.809107Z"
    }
   },
   "outputs": [
    {
     "name": "stdout",
     "output_type": "stream",
     "text": [
      "Increasing the treatment variable(s) [v0] from 0 to 1 causes an increase of 1.3366993420852624 in the expected value of the outcome [y], over the data distribution/population represented by the dataset.\n"
     ]
    }
   ],
   "source": [
    "# Textual Interpreter\n",
    "interpretation = causal_estimate_ipw.interpret(method_name=\"textual_effect_interpreter\")"
   ]
  },
  {
   "cell_type": "code",
   "execution_count": 15,
   "id": "0e473732",
   "metadata": {
    "execution": {
     "iopub.execute_input": "2022-08-03T13:26:34.813966Z",
     "iopub.status.busy": "2022-08-03T13:26:34.813426Z",
     "iopub.status.idle": "2022-08-03T13:26:35.128457Z",
     "shell.execute_reply": "2022-08-03T13:26:35.127670Z"
    }
   },
   "outputs": [
    {
     "data": {
      "image/png": "[encoded data removed]",
      "text/plain": [
       "<Figure size 576x576 with 2 Axes>"
      ]
     },
     "metadata": {
      "needs_background": "light"
     },
     "output_type": "display_data"
    }
   ],
   "source": [
    "interpretation = causal_estimate_ipw.interpret(method_name=\"confounder_distribution_interpreter\", fig_size=(8,8), font_size=12, var_name='W4', var_type='discrete')"
   ]
  },
  {
   "cell_type": "code",
   "execution_count": null,
   "id": "161967ea",
   "metadata": {},
   "outputs": [],
   "source": []
  }
 ],
 "metadata": {
  "kernelspec": {
   "display_name": "Python 3",
   "language": "python",
   "name": "python3"
  },
  "language_info": {
   "codemirror_mode": {
    "name": "ipython",
    "version": 3
   },
   "file_extension": ".py",
   "mimetype": "text/x-python",
   "name": "python",
   "nbconvert_exporter": "python",
   "pygments_lexer": "ipython3",
   "version": "3.8.10"
  },
  "toc": {
   "base_numbering": 1,
   "nav_menu": {},
   "number_sections": false,
   "sideBar": true,
   "skip_h1_title": true,
   "title_cell": "Table of Contents",
   "title_sidebar": "Contents",
   "toc_cell": false,
   "toc_position": {},
   "toc_section_display": true,
   "toc_window_display": false
  }
 },
 "nbformat": 4,
 "nbformat_minor": 5
}
