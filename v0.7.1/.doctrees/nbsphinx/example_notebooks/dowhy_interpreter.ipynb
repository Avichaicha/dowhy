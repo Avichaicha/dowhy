{
 "cells": [
  {
   "cell_type": "markdown",
   "id": "66a93883",
   "metadata": {},
   "source": [
    "# DoWhy: Interpreters for Causal Estimators\n",
    "\n",
    "This is a quick introduction to the use of interpreters in the DoWhy causal inference library.\n",
    "We will load in a sample dataset, use different methods for estimating the causal effect of a (pre-specified)treatment variable on a (pre-specified) outcome variable and demonstrate how to interpret the obtained results.\n",
    "\n",
    "First, let us add the required path for Python to find the DoWhy code and load all required packages"
   ]
  },
  {
   "cell_type": "code",
   "execution_count": 1,
   "id": "d104b49d",
   "metadata": {
    "execution": {
     "iopub.execute_input": "2022-08-08T04:37:27.491829Z",
     "iopub.status.busy": "2022-08-08T04:37:27.491467Z",
     "iopub.status.idle": "2022-08-08T04:37:27.511423Z",
     "shell.execute_reply": "2022-08-08T04:37:27.510678Z"
    }
   },
   "outputs": [],
   "source": [
    "%load_ext autoreload\n",
    "%autoreload 2"
   ]
  },
  {
   "cell_type": "code",
   "execution_count": 2,
   "id": "085b71f5",
   "metadata": {
    "execution": {
     "iopub.execute_input": "2022-08-08T04:37:27.515483Z",
     "iopub.status.busy": "2022-08-08T04:37:27.515044Z",
     "iopub.status.idle": "2022-08-08T04:37:28.782902Z",
     "shell.execute_reply": "2022-08-08T04:37:28.781349Z"
    }
   },
   "outputs": [
    {
     "name": "stdout",
     "output_type": "stream",
     "text": [
      "keywords are unexpanded, not using\n"
     ]
    }
   ],
   "source": [
    "import numpy as np\n",
    "import pandas as pd\n",
    "import logging\n",
    "\n",
    "import dowhy\n",
    "from dowhy import CausalModel\n",
    "import dowhy.datasets "
   ]
  },
  {
   "cell_type": "markdown",
   "id": "fe634b19",
   "metadata": {},
   "source": [
    "Now, let us load a dataset. For simplicity, we simulate a dataset with linear relationships between common causes and treatment, and common causes and outcome.\n",
    "\n",
    "Beta is the true causal effect."
   ]
  },
  {
   "cell_type": "code",
   "execution_count": 3,
   "id": "7de3d11a",
   "metadata": {
    "execution": {
     "iopub.execute_input": "2022-08-08T04:37:28.787416Z",
     "iopub.status.busy": "2022-08-08T04:37:28.786518Z",
     "iopub.status.idle": "2022-08-08T04:37:29.175559Z",
     "shell.execute_reply": "2022-08-08T04:37:29.174881Z"
    }
   },
   "outputs": [
    {
     "name": "stdout",
     "output_type": "stream",
     "text": [
      "9135\n"
     ]
    },
    {
     "data": {
      "text/html": [
       "<div>\n",
       "<style scoped>\n",
       "    .dataframe tbody tr th:only-of-type {\n",
       "        vertical-align: middle;\n",
       "    }\n",
       "\n",
       "    .dataframe tbody tr th {\n",
       "        vertical-align: top;\n",
       "    }\n",
       "\n",
       "    .dataframe thead th {\n",
       "        text-align: right;\n",
       "    }\n",
       "</style>\n",
       "<table border=\"1\" class=\"dataframe\">\n",
       "  <thead>\n",
       "    <tr style=\"text-align: right;\">\n",
       "      <th></th>\n",
       "      <th>Z0</th>\n",
       "      <th>Z1</th>\n",
       "      <th>W0</th>\n",
       "      <th>W1</th>\n",
       "      <th>W2</th>\n",
       "      <th>W3</th>\n",
       "      <th>W4</th>\n",
       "      <th>v0</th>\n",
       "      <th>y</th>\n",
       "    </tr>\n",
       "  </thead>\n",
       "  <tbody>\n",
       "    <tr>\n",
       "      <th>0</th>\n",
       "      <td>1.0</td>\n",
       "      <td>0.184296</td>\n",
       "      <td>0.360899</td>\n",
       "      <td>0.288588</td>\n",
       "      <td>-0.030752</td>\n",
       "      <td>-2.654038</td>\n",
       "      <td>0</td>\n",
       "      <td>False</td>\n",
       "      <td>-2.326442</td>\n",
       "    </tr>\n",
       "    <tr>\n",
       "      <th>1</th>\n",
       "      <td>1.0</td>\n",
       "      <td>0.262245</td>\n",
       "      <td>0.230405</td>\n",
       "      <td>-0.616948</td>\n",
       "      <td>0.453253</td>\n",
       "      <td>0.690420</td>\n",
       "      <td>2</td>\n",
       "      <td>True</td>\n",
       "      <td>1.583622</td>\n",
       "    </tr>\n",
       "    <tr>\n",
       "      <th>2</th>\n",
       "      <td>1.0</td>\n",
       "      <td>0.455792</td>\n",
       "      <td>0.318079</td>\n",
       "      <td>-0.507484</td>\n",
       "      <td>-0.221736</td>\n",
       "      <td>0.122709</td>\n",
       "      <td>2</td>\n",
       "      <td>True</td>\n",
       "      <td>1.011806</td>\n",
       "    </tr>\n",
       "    <tr>\n",
       "      <th>3</th>\n",
       "      <td>1.0</td>\n",
       "      <td>0.875231</td>\n",
       "      <td>1.377080</td>\n",
       "      <td>-0.575109</td>\n",
       "      <td>-0.104821</td>\n",
       "      <td>0.890785</td>\n",
       "      <td>2</td>\n",
       "      <td>True</td>\n",
       "      <td>2.041269</td>\n",
       "    </tr>\n",
       "    <tr>\n",
       "      <th>4</th>\n",
       "      <td>1.0</td>\n",
       "      <td>0.079572</td>\n",
       "      <td>1.353126</td>\n",
       "      <td>1.083208</td>\n",
       "      <td>0.083847</td>\n",
       "      <td>-0.848699</td>\n",
       "      <td>2</td>\n",
       "      <td>True</td>\n",
       "      <td>1.175656</td>\n",
       "    </tr>\n",
       "    <tr>\n",
       "      <th>...</th>\n",
       "      <td>...</td>\n",
       "      <td>...</td>\n",
       "      <td>...</td>\n",
       "      <td>...</td>\n",
       "      <td>...</td>\n",
       "      <td>...</td>\n",
       "      <td>...</td>\n",
       "      <td>...</td>\n",
       "      <td>...</td>\n",
       "    </tr>\n",
       "    <tr>\n",
       "      <th>9995</th>\n",
       "      <td>0.0</td>\n",
       "      <td>0.954274</td>\n",
       "      <td>2.368527</td>\n",
       "      <td>0.270912</td>\n",
       "      <td>1.126540</td>\n",
       "      <td>0.132337</td>\n",
       "      <td>0</td>\n",
       "      <td>True</td>\n",
       "      <td>2.103373</td>\n",
       "    </tr>\n",
       "    <tr>\n",
       "      <th>9996</th>\n",
       "      <td>0.0</td>\n",
       "      <td>0.888018</td>\n",
       "      <td>-0.210305</td>\n",
       "      <td>-0.271294</td>\n",
       "      <td>1.376782</td>\n",
       "      <td>0.969210</td>\n",
       "      <td>0</td>\n",
       "      <td>True</td>\n",
       "      <td>1.953731</td>\n",
       "    </tr>\n",
       "    <tr>\n",
       "      <th>9997</th>\n",
       "      <td>0.0</td>\n",
       "      <td>0.448010</td>\n",
       "      <td>-0.533511</td>\n",
       "      <td>-0.810267</td>\n",
       "      <td>0.340229</td>\n",
       "      <td>1.450771</td>\n",
       "      <td>0</td>\n",
       "      <td>True</td>\n",
       "      <td>1.920720</td>\n",
       "    </tr>\n",
       "    <tr>\n",
       "      <th>9998</th>\n",
       "      <td>1.0</td>\n",
       "      <td>0.855660</td>\n",
       "      <td>-0.254222</td>\n",
       "      <td>0.803279</td>\n",
       "      <td>-0.266579</td>\n",
       "      <td>0.082186</td>\n",
       "      <td>2</td>\n",
       "      <td>True</td>\n",
       "      <td>1.432237</td>\n",
       "    </tr>\n",
       "    <tr>\n",
       "      <th>9999</th>\n",
       "      <td>1.0</td>\n",
       "      <td>0.634862</td>\n",
       "      <td>1.485934</td>\n",
       "      <td>-0.964399</td>\n",
       "      <td>1.232009</td>\n",
       "      <td>-0.371138</td>\n",
       "      <td>1</td>\n",
       "      <td>True</td>\n",
       "      <td>0.830801</td>\n",
       "    </tr>\n",
       "  </tbody>\n",
       "</table>\n",
       "<p>10000 rows × 9 columns</p>\n",
       "</div>"
      ],
      "text/plain": [
       "       Z0        Z1        W0        W1        W2        W3 W4     v0  \\\n",
       "0     1.0  0.184296  0.360899  0.288588 -0.030752 -2.654038  0  False   \n",
       "1     1.0  0.262245  0.230405 -0.616948  0.453253  0.690420  2   True   \n",
       "2     1.0  0.455792  0.318079 -0.507484 -0.221736  0.122709  2   True   \n",
       "3     1.0  0.875231  1.377080 -0.575109 -0.104821  0.890785  2   True   \n",
       "4     1.0  0.079572  1.353126  1.083208  0.083847 -0.848699  2   True   \n",
       "...   ...       ...       ...       ...       ...       ... ..    ...   \n",
       "9995  0.0  0.954274  2.368527  0.270912  1.126540  0.132337  0   True   \n",
       "9996  0.0  0.888018 -0.210305 -0.271294  1.376782  0.969210  0   True   \n",
       "9997  0.0  0.448010 -0.533511 -0.810267  0.340229  1.450771  0   True   \n",
       "9998  1.0  0.855660 -0.254222  0.803279 -0.266579  0.082186  2   True   \n",
       "9999  1.0  0.634862  1.485934 -0.964399  1.232009 -0.371138  1   True   \n",
       "\n",
       "             y  \n",
       "0    -2.326442  \n",
       "1     1.583622  \n",
       "2     1.011806  \n",
       "3     2.041269  \n",
       "4     1.175656  \n",
       "...        ...  \n",
       "9995  2.103373  \n",
       "9996  1.953731  \n",
       "9997  1.920720  \n",
       "9998  1.432237  \n",
       "9999  0.830801  \n",
       "\n",
       "[10000 rows x 9 columns]"
      ]
     },
     "execution_count": 3,
     "metadata": {},
     "output_type": "execute_result"
    }
   ],
   "source": [
    "data = dowhy.datasets.linear_dataset(beta=1,\n",
    "        num_common_causes=5, \n",
    "        num_instruments = 2,\n",
    "        num_treatments=1,\n",
    "        num_discrete_common_causes=1,\n",
    "        num_samples=10000,\n",
    "        treatment_is_binary=True,\n",
    "        outcome_is_binary=False)\n",
    "df = data[\"df\"]\n",
    "print(df[df.v0==True].shape[0])\n",
    "df"
   ]
  },
  {
   "cell_type": "markdown",
   "id": "f338e4d0",
   "metadata": {},
   "source": [
    "Note that we are using a pandas dataframe to load the data."
   ]
  },
  {
   "cell_type": "markdown",
   "id": "52d6bf52",
   "metadata": {},
   "source": [
    "## Identifying the causal estimand"
   ]
  },
  {
   "cell_type": "markdown",
   "id": "df5f508f",
   "metadata": {},
   "source": [
    "We now input a causal graph in the GML graph format."
   ]
  },
  {
   "cell_type": "code",
   "execution_count": 4,
   "id": "09c3ea0a",
   "metadata": {
    "execution": {
     "iopub.execute_input": "2022-08-08T04:37:29.179684Z",
     "iopub.status.busy": "2022-08-08T04:37:29.178897Z",
     "iopub.status.idle": "2022-08-08T04:37:29.208320Z",
     "shell.execute_reply": "2022-08-08T04:37:29.207627Z"
    }
   },
   "outputs": [],
   "source": [
    "# With graph\n",
    "model=CausalModel(\n",
    "        data = df,\n",
    "        treatment=data[\"treatment_name\"],\n",
    "        outcome=data[\"outcome_name\"],\n",
    "        graph=data[\"gml_graph\"],\n",
    "        instruments=data[\"instrument_names\"]\n",
    "        )"
   ]
  },
  {
   "cell_type": "code",
   "execution_count": 5,
   "id": "eee71f54",
   "metadata": {
    "execution": {
     "iopub.execute_input": "2022-08-08T04:37:29.212194Z",
     "iopub.status.busy": "2022-08-08T04:37:29.211643Z",
     "iopub.status.idle": "2022-08-08T04:37:29.277034Z",
     "shell.execute_reply": "2022-08-08T04:37:29.276266Z"
    }
   },
   "outputs": [],
   "source": [
    "model.view_model()"
   ]
  },
  {
   "cell_type": "code",
   "execution_count": 6,
   "id": "66f2b710",
   "metadata": {
    "execution": {
     "iopub.execute_input": "2022-08-08T04:37:29.281000Z",
     "iopub.status.busy": "2022-08-08T04:37:29.280460Z",
     "iopub.status.idle": "2022-08-08T04:37:29.313090Z",
     "shell.execute_reply": "2022-08-08T04:37:29.312390Z"
    }
   },
   "outputs": [
    {
     "data": {
      "image/png": "[encoded data removed]",
      "text/plain": [
       "<IPython.core.display.Image object>"
      ]
     },
     "metadata": {},
     "output_type": "display_data"
    }
   ],
   "source": [
    "from IPython.display import Image, display\n",
    "display(Image(filename=\"causal_model.png\"))"
   ]
  },
  {
   "cell_type": "markdown",
   "id": "58a0c355",
   "metadata": {},
   "source": [
    "We get a causal graph. Now identification and estimation is done."
   ]
  },
  {
   "cell_type": "code",
   "execution_count": 7,
   "id": "a49d12ea",
   "metadata": {
    "execution": {
     "iopub.execute_input": "2022-08-08T04:37:29.316967Z",
     "iopub.status.busy": "2022-08-08T04:37:29.316542Z",
     "iopub.status.idle": "2022-08-08T04:37:29.592837Z",
     "shell.execute_reply": "2022-08-08T04:37:29.591684Z"
    }
   },
   "outputs": [
    {
     "name": "stdout",
     "output_type": "stream",
     "text": [
      "Estimand type: nonparametric-ate\n",
      "\n",
      "### Estimand : 1\n",
      "Estimand name: backdoor\n",
      "Estimand expression:\n",
      "  d                       \n",
      "─────(E[y|W1,W4,W2,W3,W0])\n",
      "d[v₀]                     \n",
      "Estimand assumption 1, Unconfoundedness: If U→{v0} and U→y then P(y|v0,W1,W4,W2,W3,W0,U) = P(y|v0,W1,W4,W2,W3,W0)\n",
      "\n",
      "### Estimand : 2\n",
      "Estimand name: iv\n",
      "Estimand expression:\n",
      " ⎡                              -1⎤\n",
      " ⎢    d        ⎛    d          ⎞  ⎥\n",
      "E⎢─────────(y)⋅⎜─────────([v₀])⎟  ⎥\n",
      " ⎣d[Z₁  Z₀]    ⎝d[Z₁  Z₀]      ⎠  ⎦\n",
      "Estimand assumption 1, As-if-random: If U→→y then ¬(U →→{Z1,Z0})\n",
      "Estimand assumption 2, Exclusion: If we remove {Z1,Z0}→{v0}, then ¬({Z1,Z0}→y)\n",
      "\n",
      "### Estimand : 3\n",
      "Estimand name: frontdoor\n",
      "No such variable(s) found!\n",
      "\n"
     ]
    }
   ],
   "source": [
    "identified_estimand = model.identify_effect(proceed_when_unidentifiable=True)\n",
    "print(identified_estimand)"
   ]
  },
  {
   "cell_type": "markdown",
   "id": "cc91ffda",
   "metadata": {},
   "source": [
    "## Method 1: Propensity Score Stratification\n",
    "\n",
    "We will be using propensity scores to stratify units in the data."
   ]
  },
  {
   "cell_type": "code",
   "execution_count": 8,
   "id": "125c27e8",
   "metadata": {
    "execution": {
     "iopub.execute_input": "2022-08-08T04:37:29.596999Z",
     "iopub.status.busy": "2022-08-08T04:37:29.596535Z",
     "iopub.status.idle": "2022-08-08T04:37:30.626823Z",
     "shell.execute_reply": "2022-08-08T04:37:30.625573Z"
    }
   },
   "outputs": [
    {
     "name": "stdout",
     "output_type": "stream",
     "text": [
      "propensity_score_stratification\n"
     ]
    },
    {
     "name": "stderr",
     "output_type": "stream",
     "text": [
      "/usr/local/lib/python3.8/dist-packages/sklearn/utils/validation.py:993: DataConversionWarning: A column-vector y was passed when a 1d array was expected. Please change the shape of y to (n_samples, ), for example using ravel().\n",
      "  y = column_or_1d(y, warn=True)\n"
     ]
    },
    {
     "name": "stdout",
     "output_type": "stream",
     "text": [
      "*** Causal Estimate ***\n",
      "\n",
      "## Identified estimand\n",
      "Estimand type: nonparametric-ate\n",
      "\n",
      "### Estimand : 1\n",
      "Estimand name: backdoor\n",
      "Estimand expression:\n",
      "  d                       \n",
      "─────(E[y|W1,W4,W2,W3,W0])\n",
      "d[v₀]                     \n",
      "Estimand assumption 1, Unconfoundedness: If U→{v0} and U→y then P(y|v0,W1,W4,W2,W3,W0,U) = P(y|v0,W1,W4,W2,W3,W0)\n",
      "\n",
      "## Realized estimand\n",
      "b: y~v0+W1+W4+W2+W3+W0\n",
      "Target units: att\n",
      "\n",
      "## Estimate\n",
      "Mean value: 1.0080825247121386\n",
      "\n",
      "Causal Estimate is 1.0080825247121386\n"
     ]
    }
   ],
   "source": [
    "causal_estimate_strat = model.estimate_effect(identified_estimand,\n",
    "                                              method_name=\"backdoor.propensity_score_stratification\",\n",
    "                                              target_units=\"att\")\n",
    "print(causal_estimate_strat)\n",
    "print(\"Causal Estimate is \" + str(causal_estimate_strat.value))"
   ]
  },
  {
   "cell_type": "markdown",
   "id": "cc0003dd",
   "metadata": {},
   "source": [
    "### Textual Interpreter\n",
    "\n",
    "The textual Interpreter describes (in words) the effect of unit change in the treatment variable on the outcome variable."
   ]
  },
  {
   "cell_type": "code",
   "execution_count": 9,
   "id": "2e38151f",
   "metadata": {
    "execution": {
     "iopub.execute_input": "2022-08-08T04:37:30.631323Z",
     "iopub.status.busy": "2022-08-08T04:37:30.630612Z",
     "iopub.status.idle": "2022-08-08T04:37:30.661972Z",
     "shell.execute_reply": "2022-08-08T04:37:30.660855Z"
    }
   },
   "outputs": [
    {
     "name": "stdout",
     "output_type": "stream",
     "text": [
      "Increasing the treatment variable(s) [v0] from 0 to 1 causes an increase of 1.0080825247121386 in the expected value of the outcome [y], over the data distribution/population represented by the dataset.\n"
     ]
    }
   ],
   "source": [
    "# Textual Interpreter\n",
    "interpretation = causal_estimate_strat.interpret(method_name=\"textual_effect_interpreter\")"
   ]
  },
  {
   "cell_type": "markdown",
   "id": "37451211",
   "metadata": {},
   "source": [
    "### Visual Interpreter\n",
    "\n",
    "The visual interpreter plots the change in the standardized mean difference (SMD) before and after Propensity Score based adjustment of the dataset. The formula for SMD is given below.\n",
    "\n",
    "\n",
    "$SMD = \\frac{\\bar X_{1} - \\bar X_{2}}{\\sqrt{(S_{1}^{2} + S_{2}^{2})/2}}$\n",
    "\n",
    "Here, $\\bar X_{1}$ and $\\bar X_{2}$ are the sample mean for the treated and control groups.\n"
   ]
  },
  {
   "cell_type": "code",
   "execution_count": 10,
   "id": "141830d6",
   "metadata": {
    "execution": {
     "iopub.execute_input": "2022-08-08T04:37:30.666370Z",
     "iopub.status.busy": "2022-08-08T04:37:30.665605Z",
     "iopub.status.idle": "2022-08-08T04:37:31.850272Z",
     "shell.execute_reply": "2022-08-08T04:37:31.848850Z"
    }
   },
   "outputs": [
    {
     "data": {
      "image/png": "[encoded data removed]",
      "text/plain": [
       "<Figure size 432x288 with 1 Axes>"
      ]
     },
     "metadata": {
      "needs_background": "light"
     },
     "output_type": "display_data"
    }
   ],
   "source": [
    "# Visual Interpreter\n",
    "interpretation = causal_estimate_strat.interpret(method_name=\"propensity_balance_interpreter\")"
   ]
  },
  {
   "cell_type": "markdown",
   "id": "f5313cca",
   "metadata": {},
   "source": [
    "This plot shows how the SMD decreases from the unadjusted to the stratified units. "
   ]
  },
  {
   "cell_type": "markdown",
   "id": "7ff120a1",
   "metadata": {},
   "source": [
    "## Method 2: Propensity Score Matching\n",
    "\n",
    "We will be using propensity scores to match units in the data."
   ]
  },
  {
   "cell_type": "code",
   "execution_count": 11,
   "id": "fc87aa3d",
   "metadata": {
    "execution": {
     "iopub.execute_input": "2022-08-08T04:37:31.854498Z",
     "iopub.status.busy": "2022-08-08T04:37:31.854022Z",
     "iopub.status.idle": "2022-08-08T04:37:37.426868Z",
     "shell.execute_reply": "2022-08-08T04:37:37.425662Z"
    }
   },
   "outputs": [
    {
     "name": "stdout",
     "output_type": "stream",
     "text": [
      "propensity_score_matching\n"
     ]
    },
    {
     "name": "stderr",
     "output_type": "stream",
     "text": [
      "/usr/local/lib/python3.8/dist-packages/sklearn/utils/validation.py:993: DataConversionWarning: A column-vector y was passed when a 1d array was expected. Please change the shape of y to (n_samples, ), for example using ravel().\n",
      "  y = column_or_1d(y, warn=True)\n"
     ]
    },
    {
     "name": "stdout",
     "output_type": "stream",
     "text": [
      "*** Causal Estimate ***\n",
      "\n",
      "## Identified estimand\n",
      "Estimand type: nonparametric-ate\n",
      "\n",
      "### Estimand : 1\n",
      "Estimand name: backdoor\n",
      "Estimand expression:\n",
      "  d                       \n",
      "─────(E[y|W1,W4,W2,W3,W0])\n",
      "d[v₀]                     \n",
      "Estimand assumption 1, Unconfoundedness: If U→{v0} and U→y then P(y|v0,W1,W4,W2,W3,W0,U) = P(y|v0,W1,W4,W2,W3,W0)\n",
      "\n",
      "## Realized estimand\n",
      "b: y~v0+W1+W4+W2+W3+W0\n",
      "Target units: atc\n",
      "\n",
      "## Estimate\n",
      "Mean value: 0.9492913106758792\n",
      "\n",
      "Causal Estimate is 0.9492913106758792\n"
     ]
    }
   ],
   "source": [
    "causal_estimate_match = model.estimate_effect(identified_estimand,\n",
    "                                              method_name=\"backdoor.propensity_score_matching\",\n",
    "                                              target_units=\"atc\")\n",
    "print(causal_estimate_match)\n",
    "print(\"Causal Estimate is \" + str(causal_estimate_match.value))"
   ]
  },
  {
   "cell_type": "code",
   "execution_count": 12,
   "id": "484886a6",
   "metadata": {
    "execution": {
     "iopub.execute_input": "2022-08-08T04:37:37.430516Z",
     "iopub.status.busy": "2022-08-08T04:37:37.430226Z",
     "iopub.status.idle": "2022-08-08T04:37:37.461672Z",
     "shell.execute_reply": "2022-08-08T04:37:37.460755Z"
    }
   },
   "outputs": [
    {
     "name": "stdout",
     "output_type": "stream",
     "text": [
      "Increasing the treatment variable(s) [v0] from 0 to 1 causes an increase of 0.9492913106758792 in the expected value of the outcome [y], over the data distribution/population represented by the dataset.\n"
     ]
    }
   ],
   "source": [
    "# Textual Interpreter\n",
    "interpretation = causal_estimate_match.interpret(method_name=\"textual_effect_interpreter\")"
   ]
  },
  {
   "cell_type": "markdown",
   "id": "2ae13510",
   "metadata": {},
   "source": [
    "Cannot use propensity balance interpretor here since the interpreter method only supports propensity score stratification estimator."
   ]
  },
  {
   "cell_type": "markdown",
   "id": "0715edd5",
   "metadata": {},
   "source": [
    "## Method 3: Weighting\n",
    "\n",
    "We will be using (inverse) propensity scores to assign weights to units in the data. DoWhy supports a few different weighting schemes:\n",
    "1. Vanilla Inverse Propensity Score weighting (IPS) (weighting_scheme=\"ips_weight\")\n",
    "2. Self-normalized IPS weighting (also known as the Hajek estimator) (weighting_scheme=\"ips_normalized_weight\")\n",
    "3. Stabilized IPS weighting (weighting_scheme = \"ips_stabilized_weight\")"
   ]
  },
  {
   "cell_type": "code",
   "execution_count": 13,
   "id": "983c9768",
   "metadata": {
    "execution": {
     "iopub.execute_input": "2022-08-08T04:37:37.465753Z",
     "iopub.status.busy": "2022-08-08T04:37:37.465197Z",
     "iopub.status.idle": "2022-08-08T04:37:37.545211Z",
     "shell.execute_reply": "2022-08-08T04:37:37.542721Z"
    }
   },
   "outputs": [
    {
     "name": "stdout",
     "output_type": "stream",
     "text": [
      "propensity_score_weighting\n",
      "*** Causal Estimate ***\n",
      "\n",
      "## Identified estimand\n",
      "Estimand type: nonparametric-ate\n",
      "\n",
      "### Estimand : 1\n",
      "Estimand name: backdoor\n",
      "Estimand expression:\n",
      "  d                       \n",
      "─────(E[y|W1,W4,W2,W3,W0])\n",
      "d[v₀]                     \n",
      "Estimand assumption 1, Unconfoundedness: If U→{v0} and U→y then P(y|v0,W1,W4,W2,W3,W0,U) = P(y|v0,W1,W4,W2,W3,W0)\n",
      "\n",
      "## Realized estimand\n",
      "b: y~v0+W1+W4+W2+W3+W0\n",
      "Target units: ate\n",
      "\n",
      "## Estimate\n",
      "Mean value: 1.1900722844698046\n",
      "\n",
      "Causal Estimate is 1.1900722844698046\n"
     ]
    },
    {
     "name": "stderr",
     "output_type": "stream",
     "text": [
      "/usr/local/lib/python3.8/dist-packages/sklearn/utils/validation.py:993: DataConversionWarning: A column-vector y was passed when a 1d array was expected. Please change the shape of y to (n_samples, ), for example using ravel().\n",
      "  y = column_or_1d(y, warn=True)\n"
     ]
    }
   ],
   "source": [
    "causal_estimate_ipw = model.estimate_effect(identified_estimand,\n",
    "                                            method_name=\"backdoor.propensity_score_weighting\",\n",
    "                                            target_units = \"ate\",\n",
    "                                            method_params={\"weighting_scheme\":\"ips_weight\"})\n",
    "print(causal_estimate_ipw)\n",
    "print(\"Causal Estimate is \" + str(causal_estimate_ipw.value))"
   ]
  },
  {
   "cell_type": "code",
   "execution_count": 14,
   "id": "59ad7f02",
   "metadata": {
    "execution": {
     "iopub.execute_input": "2022-08-08T04:37:37.548953Z",
     "iopub.status.busy": "2022-08-08T04:37:37.548565Z",
     "iopub.status.idle": "2022-08-08T04:37:37.583973Z",
     "shell.execute_reply": "2022-08-08T04:37:37.583298Z"
    }
   },
   "outputs": [
    {
     "name": "stdout",
     "output_type": "stream",
     "text": [
      "Increasing the treatment variable(s) [v0] from 0 to 1 causes an increase of 1.1900722844698046 in the expected value of the outcome [y], over the data distribution/population represented by the dataset.\n"
     ]
    }
   ],
   "source": [
    "# Textual Interpreter\n",
    "interpretation = causal_estimate_ipw.interpret(method_name=\"textual_effect_interpreter\")"
   ]
  },
  {
   "cell_type": "code",
   "execution_count": 15,
   "id": "bafe6cb1",
   "metadata": {
    "execution": {
     "iopub.execute_input": "2022-08-08T04:37:37.589103Z",
     "iopub.status.busy": "2022-08-08T04:37:37.587789Z",
     "iopub.status.idle": "2022-08-08T04:37:37.889250Z",
     "shell.execute_reply": "2022-08-08T04:37:37.888105Z"
    }
   },
   "outputs": [
    {
     "data": {
      "image/png": "[encoded data removed]",
      "text/plain": [
       "<Figure size 576x576 with 2 Axes>"
      ]
     },
     "metadata": {
      "needs_background": "light"
     },
     "output_type": "display_data"
    }
   ],
   "source": [
    "interpretation = causal_estimate_ipw.interpret(method_name=\"confounder_distribution_interpreter\", fig_size=(8,8), font_size=12, var_name='W4', var_type='discrete')"
   ]
  },
  {
   "cell_type": "code",
   "execution_count": null,
   "id": "4b4eebab",
   "metadata": {},
   "outputs": [],
   "source": []
  }
 ],
 "metadata": {
  "kernelspec": {
   "display_name": "Python 3",
   "language": "python",
   "name": "python3"
  },
  "language_info": {
   "codemirror_mode": {
    "name": "ipython",
    "version": 3
   },
   "file_extension": ".py",
   "mimetype": "text/x-python",
   "name": "python",
   "nbconvert_exporter": "python",
   "pygments_lexer": "ipython3",
   "version": "3.8.10"
  },
  "toc": {
   "base_numbering": 1,
   "nav_menu": {},
   "number_sections": false,
   "sideBar": true,
   "skip_h1_title": true,
   "title_cell": "Table of Contents",
   "title_sidebar": "Contents",
   "toc_cell": false,
   "toc_position": {},
   "toc_section_display": true,
   "toc_window_display": false
  }
 },
 "nbformat": 4,
 "nbformat_minor": 5
}
