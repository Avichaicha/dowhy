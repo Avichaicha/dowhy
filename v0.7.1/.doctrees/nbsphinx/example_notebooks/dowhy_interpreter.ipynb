{
 "cells": [
  {
   "cell_type": "markdown",
   "id": "8bf3ce6a",
   "metadata": {},
   "source": [
    "# DoWhy: Interpreters for Causal Estimators\n",
    "\n",
    "This is a quick introduction to the use of interpreters in the DoWhy causal inference library.\n",
    "We will load in a sample dataset, use different methods for estimating the causal effect of a (pre-specified)treatment variable on a (pre-specified) outcome variable and demonstrate how to interpret the obtained results.\n",
    "\n",
    "First, let us add the required path for Python to find the DoWhy code and load all required packages"
   ]
  },
  {
   "cell_type": "code",
   "execution_count": 1,
   "id": "985ee830",
   "metadata": {
    "execution": {
     "iopub.execute_input": "2022-08-18T14:24:56.248620Z",
     "iopub.status.busy": "2022-08-18T14:24:56.248292Z",
     "iopub.status.idle": "2022-08-18T14:24:56.267906Z",
     "shell.execute_reply": "2022-08-18T14:24:56.267105Z"
    }
   },
   "outputs": [],
   "source": [
    "%load_ext autoreload\n",
    "%autoreload 2"
   ]
  },
  {
   "cell_type": "code",
   "execution_count": 2,
   "id": "7e0435a6",
   "metadata": {
    "execution": {
     "iopub.execute_input": "2022-08-18T14:24:56.272120Z",
     "iopub.status.busy": "2022-08-18T14:24:56.271831Z",
     "iopub.status.idle": "2022-08-18T14:24:57.522806Z",
     "shell.execute_reply": "2022-08-18T14:24:57.521681Z"
    }
   },
   "outputs": [],
   "source": [
    "import numpy as np\n",
    "import pandas as pd\n",
    "import logging\n",
    "\n",
    "import dowhy\n",
    "from dowhy import CausalModel\n",
    "import dowhy.datasets "
   ]
  },
  {
   "cell_type": "markdown",
   "id": "ccb33fb9",
   "metadata": {},
   "source": [
    "Now, let us load a dataset. For simplicity, we simulate a dataset with linear relationships between common causes and treatment, and common causes and outcome.\n",
    "\n",
    "Beta is the true causal effect."
   ]
  },
  {
   "cell_type": "code",
   "execution_count": 3,
   "id": "b79361da",
   "metadata": {
    "execution": {
     "iopub.execute_input": "2022-08-18T14:24:57.527988Z",
     "iopub.status.busy": "2022-08-18T14:24:57.527320Z",
     "iopub.status.idle": "2022-08-18T14:24:57.870883Z",
     "shell.execute_reply": "2022-08-18T14:24:57.869674Z"
    }
   },
   "outputs": [
    {
     "name": "stdout",
     "output_type": "stream",
     "text": [
      "8575\n"
     ]
    },
    {
     "data": {
      "text/html": [
       "<div>\n",
       "<style scoped>\n",
       "    .dataframe tbody tr th:only-of-type {\n",
       "        vertical-align: middle;\n",
       "    }\n",
       "\n",
       "    .dataframe tbody tr th {\n",
       "        vertical-align: top;\n",
       "    }\n",
       "\n",
       "    .dataframe thead th {\n",
       "        text-align: right;\n",
       "    }\n",
       "</style>\n",
       "<table border=\"1\" class=\"dataframe\">\n",
       "  <thead>\n",
       "    <tr style=\"text-align: right;\">\n",
       "      <th></th>\n",
       "      <th>Z0</th>\n",
       "      <th>Z1</th>\n",
       "      <th>W0</th>\n",
       "      <th>W1</th>\n",
       "      <th>W2</th>\n",
       "      <th>W3</th>\n",
       "      <th>W4</th>\n",
       "      <th>v0</th>\n",
       "      <th>y</th>\n",
       "    </tr>\n",
       "  </thead>\n",
       "  <tbody>\n",
       "    <tr>\n",
       "      <th>0</th>\n",
       "      <td>0.0</td>\n",
       "      <td>0.333821</td>\n",
       "      <td>-0.899008</td>\n",
       "      <td>-1.929586</td>\n",
       "      <td>-0.141190</td>\n",
       "      <td>1.076101</td>\n",
       "      <td>1</td>\n",
       "      <td>True</td>\n",
       "      <td>0.868981</td>\n",
       "    </tr>\n",
       "    <tr>\n",
       "      <th>1</th>\n",
       "      <td>1.0</td>\n",
       "      <td>0.923895</td>\n",
       "      <td>-1.592805</td>\n",
       "      <td>-0.643256</td>\n",
       "      <td>-0.779419</td>\n",
       "      <td>0.801798</td>\n",
       "      <td>2</td>\n",
       "      <td>True</td>\n",
       "      <td>0.541787</td>\n",
       "    </tr>\n",
       "    <tr>\n",
       "      <th>2</th>\n",
       "      <td>1.0</td>\n",
       "      <td>0.470874</td>\n",
       "      <td>-0.669652</td>\n",
       "      <td>0.495844</td>\n",
       "      <td>0.995797</td>\n",
       "      <td>0.304382</td>\n",
       "      <td>1</td>\n",
       "      <td>True</td>\n",
       "      <td>1.341324</td>\n",
       "    </tr>\n",
       "    <tr>\n",
       "      <th>3</th>\n",
       "      <td>1.0</td>\n",
       "      <td>0.750108</td>\n",
       "      <td>-0.555953</td>\n",
       "      <td>0.366651</td>\n",
       "      <td>1.991601</td>\n",
       "      <td>-1.599165</td>\n",
       "      <td>0</td>\n",
       "      <td>False</td>\n",
       "      <td>-0.412876</td>\n",
       "    </tr>\n",
       "    <tr>\n",
       "      <th>4</th>\n",
       "      <td>1.0</td>\n",
       "      <td>0.228089</td>\n",
       "      <td>-1.794198</td>\n",
       "      <td>-0.577991</td>\n",
       "      <td>0.191274</td>\n",
       "      <td>-1.145086</td>\n",
       "      <td>0</td>\n",
       "      <td>False</td>\n",
       "      <td>-2.045187</td>\n",
       "    </tr>\n",
       "    <tr>\n",
       "      <th>...</th>\n",
       "      <td>...</td>\n",
       "      <td>...</td>\n",
       "      <td>...</td>\n",
       "      <td>...</td>\n",
       "      <td>...</td>\n",
       "      <td>...</td>\n",
       "      <td>...</td>\n",
       "      <td>...</td>\n",
       "      <td>...</td>\n",
       "    </tr>\n",
       "    <tr>\n",
       "      <th>9995</th>\n",
       "      <td>1.0</td>\n",
       "      <td>0.348568</td>\n",
       "      <td>0.240508</td>\n",
       "      <td>0.823535</td>\n",
       "      <td>-1.146711</td>\n",
       "      <td>0.394671</td>\n",
       "      <td>0</td>\n",
       "      <td>True</td>\n",
       "      <td>1.046044</td>\n",
       "    </tr>\n",
       "    <tr>\n",
       "      <th>9996</th>\n",
       "      <td>1.0</td>\n",
       "      <td>0.611293</td>\n",
       "      <td>-1.259771</td>\n",
       "      <td>0.398350</td>\n",
       "      <td>-0.753813</td>\n",
       "      <td>0.780021</td>\n",
       "      <td>0</td>\n",
       "      <td>True</td>\n",
       "      <td>-0.130850</td>\n",
       "    </tr>\n",
       "    <tr>\n",
       "      <th>9997</th>\n",
       "      <td>0.0</td>\n",
       "      <td>0.790667</td>\n",
       "      <td>0.988286</td>\n",
       "      <td>1.199747</td>\n",
       "      <td>-1.046579</td>\n",
       "      <td>0.892411</td>\n",
       "      <td>1</td>\n",
       "      <td>True</td>\n",
       "      <td>2.504482</td>\n",
       "    </tr>\n",
       "    <tr>\n",
       "      <th>9998</th>\n",
       "      <td>1.0</td>\n",
       "      <td>0.086579</td>\n",
       "      <td>0.005203</td>\n",
       "      <td>1.458406</td>\n",
       "      <td>-1.209809</td>\n",
       "      <td>-0.684222</td>\n",
       "      <td>1</td>\n",
       "      <td>True</td>\n",
       "      <td>1.037355</td>\n",
       "    </tr>\n",
       "    <tr>\n",
       "      <th>9999</th>\n",
       "      <td>1.0</td>\n",
       "      <td>0.096478</td>\n",
       "      <td>-0.859944</td>\n",
       "      <td>-0.619547</td>\n",
       "      <td>0.690979</td>\n",
       "      <td>0.003727</td>\n",
       "      <td>2</td>\n",
       "      <td>True</td>\n",
       "      <td>1.443570</td>\n",
       "    </tr>\n",
       "  </tbody>\n",
       "</table>\n",
       "<p>10000 rows × 9 columns</p>\n",
       "</div>"
      ],
      "text/plain": [
       "       Z0        Z1        W0        W1        W2        W3 W4     v0  \\\n",
       "0     0.0  0.333821 -0.899008 -1.929586 -0.141190  1.076101  1   True   \n",
       "1     1.0  0.923895 -1.592805 -0.643256 -0.779419  0.801798  2   True   \n",
       "2     1.0  0.470874 -0.669652  0.495844  0.995797  0.304382  1   True   \n",
       "3     1.0  0.750108 -0.555953  0.366651  1.991601 -1.599165  0  False   \n",
       "4     1.0  0.228089 -1.794198 -0.577991  0.191274 -1.145086  0  False   \n",
       "...   ...       ...       ...       ...       ...       ... ..    ...   \n",
       "9995  1.0  0.348568  0.240508  0.823535 -1.146711  0.394671  0   True   \n",
       "9996  1.0  0.611293 -1.259771  0.398350 -0.753813  0.780021  0   True   \n",
       "9997  0.0  0.790667  0.988286  1.199747 -1.046579  0.892411  1   True   \n",
       "9998  1.0  0.086579  0.005203  1.458406 -1.209809 -0.684222  1   True   \n",
       "9999  1.0  0.096478 -0.859944 -0.619547  0.690979  0.003727  2   True   \n",
       "\n",
       "             y  \n",
       "0     0.868981  \n",
       "1     0.541787  \n",
       "2     1.341324  \n",
       "3    -0.412876  \n",
       "4    -2.045187  \n",
       "...        ...  \n",
       "9995  1.046044  \n",
       "9996 -0.130850  \n",
       "9997  2.504482  \n",
       "9998  1.037355  \n",
       "9999  1.443570  \n",
       "\n",
       "[10000 rows x 9 columns]"
      ]
     },
     "execution_count": 3,
     "metadata": {},
     "output_type": "execute_result"
    }
   ],
   "source": [
    "data = dowhy.datasets.linear_dataset(beta=1,\n",
    "        num_common_causes=5, \n",
    "        num_instruments = 2,\n",
    "        num_treatments=1,\n",
    "        num_discrete_common_causes=1,\n",
    "        num_samples=10000,\n",
    "        treatment_is_binary=True,\n",
    "        outcome_is_binary=False)\n",
    "df = data[\"df\"]\n",
    "print(df[df.v0==True].shape[0])\n",
    "df"
   ]
  },
  {
   "cell_type": "markdown",
   "id": "de41b188",
   "metadata": {},
   "source": [
    "Note that we are using a pandas dataframe to load the data."
   ]
  },
  {
   "cell_type": "markdown",
   "id": "23d7b952",
   "metadata": {},
   "source": [
    "## Identifying the causal estimand"
   ]
  },
  {
   "cell_type": "markdown",
   "id": "62c5e2cb",
   "metadata": {},
   "source": [
    "We now input a causal graph in the GML graph format."
   ]
  },
  {
   "cell_type": "code",
   "execution_count": 4,
   "id": "a4158c4d",
   "metadata": {
    "execution": {
     "iopub.execute_input": "2022-08-18T14:24:57.874608Z",
     "iopub.status.busy": "2022-08-18T14:24:57.874212Z",
     "iopub.status.idle": "2022-08-18T14:24:57.904222Z",
     "shell.execute_reply": "2022-08-18T14:24:57.903428Z"
    }
   },
   "outputs": [],
   "source": [
    "# With graph\n",
    "model=CausalModel(\n",
    "        data = df,\n",
    "        treatment=data[\"treatment_name\"],\n",
    "        outcome=data[\"outcome_name\"],\n",
    "        graph=data[\"gml_graph\"],\n",
    "        instruments=data[\"instrument_names\"]\n",
    "        )"
   ]
  },
  {
   "cell_type": "code",
   "execution_count": 5,
   "id": "27567358",
   "metadata": {
    "execution": {
     "iopub.execute_input": "2022-08-18T14:24:57.908378Z",
     "iopub.status.busy": "2022-08-18T14:24:57.907816Z",
     "iopub.status.idle": "2022-08-18T14:24:57.979091Z",
     "shell.execute_reply": "2022-08-18T14:24:57.978105Z"
    }
   },
   "outputs": [],
   "source": [
    "model.view_model()"
   ]
  },
  {
   "cell_type": "code",
   "execution_count": 6,
   "id": "f94ca8db",
   "metadata": {
    "execution": {
     "iopub.execute_input": "2022-08-18T14:24:57.983577Z",
     "iopub.status.busy": "2022-08-18T14:24:57.983091Z",
     "iopub.status.idle": "2022-08-18T14:24:58.015469Z",
     "shell.execute_reply": "2022-08-18T14:24:58.014599Z"
    }
   },
   "outputs": [
    {
     "data": {
      "image/png": "[encoded data removed]",
      "text/plain": [
       "<IPython.core.display.Image object>"
      ]
     },
     "metadata": {},
     "output_type": "display_data"
    }
   ],
   "source": [
    "from IPython.display import Image, display\n",
    "display(Image(filename=\"causal_model.png\"))"
   ]
  },
  {
   "cell_type": "markdown",
   "id": "50569218",
   "metadata": {},
   "source": [
    "We get a causal graph. Now identification and estimation is done."
   ]
  },
  {
   "cell_type": "code",
   "execution_count": 7,
   "id": "ab679982",
   "metadata": {
    "execution": {
     "iopub.execute_input": "2022-08-18T14:24:58.019683Z",
     "iopub.status.busy": "2022-08-18T14:24:58.019115Z",
     "iopub.status.idle": "2022-08-18T14:24:58.286088Z",
     "shell.execute_reply": "2022-08-18T14:24:58.285116Z"
    }
   },
   "outputs": [
    {
     "name": "stdout",
     "output_type": "stream",
     "text": [
      "Estimand type: nonparametric-ate\n",
      "\n",
      "### Estimand : 1\n",
      "Estimand name: backdoor\n",
      "Estimand expression:\n",
      "  d                       \n",
      "─────(E[y|W1,W2,W3,W4,W0])\n",
      "d[v₀]                     \n",
      "Estimand assumption 1, Unconfoundedness: If U→{v0} and U→y then P(y|v0,W1,W2,W3,W4,W0,U) = P(y|v0,W1,W2,W3,W4,W0)\n",
      "\n",
      "### Estimand : 2\n",
      "Estimand name: iv\n",
      "Estimand expression:\n",
      " ⎡                              -1⎤\n",
      " ⎢    d        ⎛    d          ⎞  ⎥\n",
      "E⎢─────────(y)⋅⎜─────────([v₀])⎟  ⎥\n",
      " ⎣d[Z₁  Z₀]    ⎝d[Z₁  Z₀]      ⎠  ⎦\n",
      "Estimand assumption 1, As-if-random: If U→→y then ¬(U →→{Z1,Z0})\n",
      "Estimand assumption 2, Exclusion: If we remove {Z1,Z0}→{v0}, then ¬({Z1,Z0}→y)\n",
      "\n",
      "### Estimand : 3\n",
      "Estimand name: frontdoor\n",
      "No such variable(s) found!\n",
      "\n"
     ]
    }
   ],
   "source": [
    "identified_estimand = model.identify_effect(proceed_when_unidentifiable=True)\n",
    "print(identified_estimand)"
   ]
  },
  {
   "cell_type": "markdown",
   "id": "c7acde7b",
   "metadata": {},
   "source": [
    "## Method 1: Propensity Score Stratification\n",
    "\n",
    "We will be using propensity scores to stratify units in the data."
   ]
  },
  {
   "cell_type": "code",
   "execution_count": 8,
   "id": "2ac0ebe1",
   "metadata": {
    "execution": {
     "iopub.execute_input": "2022-08-18T14:24:58.290134Z",
     "iopub.status.busy": "2022-08-18T14:24:58.289662Z",
     "iopub.status.idle": "2022-08-18T14:24:59.230364Z",
     "shell.execute_reply": "2022-08-18T14:24:59.229294Z"
    }
   },
   "outputs": [
    {
     "name": "stdout",
     "output_type": "stream",
     "text": [
      "propensity_score_stratification\n"
     ]
    },
    {
     "name": "stderr",
     "output_type": "stream",
     "text": [
      "/github/home/.cache/pypoetry/virtualenvs/dowhy-oN2hW5jr-py3.8/lib/python3.8/site-packages/sklearn/utils/validation.py:993: DataConversionWarning: A column-vector y was passed when a 1d array was expected. Please change the shape of y to (n_samples, ), for example using ravel().\n",
      "  y = column_or_1d(y, warn=True)\n"
     ]
    },
    {
     "name": "stdout",
     "output_type": "stream",
     "text": [
      "*** Causal Estimate ***\n",
      "\n",
      "## Identified estimand\n",
      "Estimand type: nonparametric-ate\n",
      "\n",
      "### Estimand : 1\n",
      "Estimand name: backdoor\n",
      "Estimand expression:\n",
      "  d                       \n",
      "─────(E[y|W1,W2,W3,W4,W0])\n",
      "d[v₀]                     \n",
      "Estimand assumption 1, Unconfoundedness: If U→{v0} and U→y then P(y|v0,W1,W2,W3,W4,W0,U) = P(y|v0,W1,W2,W3,W4,W0)\n",
      "\n",
      "## Realized estimand\n",
      "b: y~v0+W1+W2+W3+W4+W0\n",
      "Target units: att\n",
      "\n",
      "## Estimate\n",
      "Mean value: 0.9914227600583166\n",
      "\n",
      "Causal Estimate is 0.9914227600583166\n"
     ]
    }
   ],
   "source": [
    "causal_estimate_strat = model.estimate_effect(identified_estimand,\n",
    "                                              method_name=\"backdoor.propensity_score_stratification\",\n",
    "                                              target_units=\"att\")\n",
    "print(causal_estimate_strat)\n",
    "print(\"Causal Estimate is \" + str(causal_estimate_strat.value))"
   ]
  },
  {
   "cell_type": "markdown",
   "id": "a6a7e293",
   "metadata": {},
   "source": [
    "### Textual Interpreter\n",
    "\n",
    "The textual Interpreter describes (in words) the effect of unit change in the treatment variable on the outcome variable."
   ]
  },
  {
   "cell_type": "code",
   "execution_count": 9,
   "id": "c8147a01",
   "metadata": {
    "execution": {
     "iopub.execute_input": "2022-08-18T14:24:59.234567Z",
     "iopub.status.busy": "2022-08-18T14:24:59.234158Z",
     "iopub.status.idle": "2022-08-18T14:24:59.267619Z",
     "shell.execute_reply": "2022-08-18T14:24:59.266412Z"
    }
   },
   "outputs": [
    {
     "name": "stdout",
     "output_type": "stream",
     "text": [
      "Increasing the treatment variable(s) [v0] from 0 to 1 causes an increase of 0.9914227600583166 in the expected value of the outcome [y], over the data distribution/population represented by the dataset.\n"
     ]
    }
   ],
   "source": [
    "# Textual Interpreter\n",
    "interpretation = causal_estimate_strat.interpret(method_name=\"textual_effect_interpreter\")"
   ]
  },
  {
   "cell_type": "markdown",
   "id": "edf80603",
   "metadata": {},
   "source": [
    "### Visual Interpreter\n",
    "\n",
    "The visual interpreter plots the change in the standardized mean difference (SMD) before and after Propensity Score based adjustment of the dataset. The formula for SMD is given below.\n",
    "\n",
    "\n",
    "$SMD = \\frac{\\bar X_{1} - \\bar X_{2}}{\\sqrt{(S_{1}^{2} + S_{2}^{2})/2}}$\n",
    "\n",
    "Here, $\\bar X_{1}$ and $\\bar X_{2}$ are the sample mean for the treated and control groups.\n"
   ]
  },
  {
   "cell_type": "code",
   "execution_count": 10,
   "id": "2bf49f18",
   "metadata": {
    "execution": {
     "iopub.execute_input": "2022-08-18T14:24:59.272268Z",
     "iopub.status.busy": "2022-08-18T14:24:59.271817Z",
     "iopub.status.idle": "2022-08-18T14:25:00.579346Z",
     "shell.execute_reply": "2022-08-18T14:25:00.578492Z"
    }
   },
   "outputs": [
    {
     "data": {
      "image/png": "[encoded data removed]",
      "text/plain": [
       "<Figure size 432x288 with 1 Axes>"
      ]
     },
     "metadata": {
      "needs_background": "light"
     },
     "output_type": "display_data"
    }
   ],
   "source": [
    "# Visual Interpreter\n",
    "interpretation = causal_estimate_strat.interpret(method_name=\"propensity_balance_interpreter\")"
   ]
  },
  {
   "cell_type": "markdown",
   "id": "c734dea6",
   "metadata": {},
   "source": [
    "This plot shows how the SMD decreases from the unadjusted to the stratified units. "
   ]
  },
  {
   "cell_type": "markdown",
   "id": "a19c5a05",
   "metadata": {},
   "source": [
    "## Method 2: Propensity Score Matching\n",
    "\n",
    "We will be using propensity scores to match units in the data."
   ]
  },
  {
   "cell_type": "code",
   "execution_count": 11,
   "id": "fa18ac42",
   "metadata": {
    "execution": {
     "iopub.execute_input": "2022-08-18T14:25:00.586028Z",
     "iopub.status.busy": "2022-08-18T14:25:00.585514Z",
     "iopub.status.idle": "2022-08-18T14:25:05.910547Z",
     "shell.execute_reply": "2022-08-18T14:25:05.909829Z"
    }
   },
   "outputs": [
    {
     "name": "stdout",
     "output_type": "stream",
     "text": [
      "propensity_score_matching\n"
     ]
    },
    {
     "name": "stderr",
     "output_type": "stream",
     "text": [
      "/github/home/.cache/pypoetry/virtualenvs/dowhy-oN2hW5jr-py3.8/lib/python3.8/site-packages/sklearn/utils/validation.py:993: DataConversionWarning: A column-vector y was passed when a 1d array was expected. Please change the shape of y to (n_samples, ), for example using ravel().\n",
      "  y = column_or_1d(y, warn=True)\n"
     ]
    },
    {
     "name": "stdout",
     "output_type": "stream",
     "text": [
      "*** Causal Estimate ***\n",
      "\n",
      "## Identified estimand\n",
      "Estimand type: nonparametric-ate\n",
      "\n",
      "### Estimand : 1\n",
      "Estimand name: backdoor\n",
      "Estimand expression:\n",
      "  d                       \n",
      "─────(E[y|W1,W2,W3,W4,W0])\n",
      "d[v₀]                     \n",
      "Estimand assumption 1, Unconfoundedness: If U→{v0} and U→y then P(y|v0,W1,W2,W3,W4,W0,U) = P(y|v0,W1,W2,W3,W4,W0)\n",
      "\n",
      "## Realized estimand\n",
      "b: y~v0+W1+W2+W3+W4+W0\n",
      "Target units: atc\n",
      "\n",
      "## Estimate\n",
      "Mean value: 0.9767414901173068\n",
      "\n",
      "Causal Estimate is 0.9767414901173068\n"
     ]
    }
   ],
   "source": [
    "causal_estimate_match = model.estimate_effect(identified_estimand,\n",
    "                                              method_name=\"backdoor.propensity_score_matching\",\n",
    "                                              target_units=\"atc\")\n",
    "print(causal_estimate_match)\n",
    "print(\"Causal Estimate is \" + str(causal_estimate_match.value))"
   ]
  },
  {
   "cell_type": "code",
   "execution_count": 12,
   "id": "cf3cb9fe",
   "metadata": {
    "execution": {
     "iopub.execute_input": "2022-08-18T14:25:05.914781Z",
     "iopub.status.busy": "2022-08-18T14:25:05.914080Z",
     "iopub.status.idle": "2022-08-18T14:25:05.944705Z",
     "shell.execute_reply": "2022-08-18T14:25:05.943747Z"
    }
   },
   "outputs": [
    {
     "name": "stdout",
     "output_type": "stream",
     "text": [
      "Increasing the treatment variable(s) [v0] from 0 to 1 causes an increase of 0.9767414901173068 in the expected value of the outcome [y], over the data distribution/population represented by the dataset.\n"
     ]
    }
   ],
   "source": [
    "# Textual Interpreter\n",
    "interpretation = causal_estimate_match.interpret(method_name=\"textual_effect_interpreter\")"
   ]
  },
  {
   "cell_type": "markdown",
   "id": "6f809876",
   "metadata": {},
   "source": [
    "Cannot use propensity balance interpretor here since the interpreter method only supports propensity score stratification estimator."
   ]
  },
  {
   "cell_type": "markdown",
   "id": "267ee8fe",
   "metadata": {},
   "source": [
    "## Method 3: Weighting\n",
    "\n",
    "We will be using (inverse) propensity scores to assign weights to units in the data. DoWhy supports a few different weighting schemes:\n",
    "1. Vanilla Inverse Propensity Score weighting (IPS) (weighting_scheme=\"ips_weight\")\n",
    "2. Self-normalized IPS weighting (also known as the Hajek estimator) (weighting_scheme=\"ips_normalized_weight\")\n",
    "3. Stabilized IPS weighting (weighting_scheme = \"ips_stabilized_weight\")"
   ]
  },
  {
   "cell_type": "code",
   "execution_count": 13,
   "id": "4c87e6ae",
   "metadata": {
    "execution": {
     "iopub.execute_input": "2022-08-18T14:25:05.948858Z",
     "iopub.status.busy": "2022-08-18T14:25:05.948179Z",
     "iopub.status.idle": "2022-08-18T14:25:06.027498Z",
     "shell.execute_reply": "2022-08-18T14:25:06.026669Z"
    }
   },
   "outputs": [
    {
     "name": "stdout",
     "output_type": "stream",
     "text": [
      "propensity_score_weighting\n",
      "*** Causal Estimate ***\n",
      "\n",
      "## Identified estimand\n",
      "Estimand type: nonparametric-ate\n",
      "\n",
      "### Estimand : 1\n",
      "Estimand name: backdoor\n",
      "Estimand expression:\n",
      "  d                       \n",
      "─────(E[y|W1,W2,W3,W4,W0])\n",
      "d[v₀]                     \n",
      "Estimand assumption 1, Unconfoundedness: If U→{v0} and U→y then P(y|v0,W1,W2,W3,W4,W0,U) = P(y|v0,W1,W2,W3,W4,W0)\n",
      "\n",
      "## Realized estimand\n",
      "b: y~v0+W1+W2+W3+W4+W0\n",
      "Target units: ate\n",
      "\n",
      "## Estimate\n",
      "Mean value: 1.061371264552555\n",
      "\n",
      "Causal Estimate is 1.061371264552555\n"
     ]
    },
    {
     "name": "stderr",
     "output_type": "stream",
     "text": [
      "/github/home/.cache/pypoetry/virtualenvs/dowhy-oN2hW5jr-py3.8/lib/python3.8/site-packages/sklearn/utils/validation.py:993: DataConversionWarning: A column-vector y was passed when a 1d array was expected. Please change the shape of y to (n_samples, ), for example using ravel().\n",
      "  y = column_or_1d(y, warn=True)\n"
     ]
    }
   ],
   "source": [
    "causal_estimate_ipw = model.estimate_effect(identified_estimand,\n",
    "                                            method_name=\"backdoor.propensity_score_weighting\",\n",
    "                                            target_units = \"ate\",\n",
    "                                            method_params={\"weighting_scheme\":\"ips_weight\"})\n",
    "print(causal_estimate_ipw)\n",
    "print(\"Causal Estimate is \" + str(causal_estimate_ipw.value))"
   ]
  },
  {
   "cell_type": "code",
   "execution_count": 14,
   "id": "d2e95027",
   "metadata": {
    "execution": {
     "iopub.execute_input": "2022-08-18T14:25:06.031244Z",
     "iopub.status.busy": "2022-08-18T14:25:06.030572Z",
     "iopub.status.idle": "2022-08-18T14:25:06.061073Z",
     "shell.execute_reply": "2022-08-18T14:25:06.060071Z"
    }
   },
   "outputs": [
    {
     "name": "stdout",
     "output_type": "stream",
     "text": [
      "Increasing the treatment variable(s) [v0] from 0 to 1 causes an increase of 1.061371264552555 in the expected value of the outcome [y], over the data distribution/population represented by the dataset.\n"
     ]
    }
   ],
   "source": [
    "# Textual Interpreter\n",
    "interpretation = causal_estimate_ipw.interpret(method_name=\"textual_effect_interpreter\")"
   ]
  },
  {
   "cell_type": "code",
   "execution_count": 15,
   "id": "710ae05c",
   "metadata": {
    "execution": {
     "iopub.execute_input": "2022-08-18T14:25:06.064391Z",
     "iopub.status.busy": "2022-08-18T14:25:06.064098Z",
     "iopub.status.idle": "2022-08-18T14:25:06.356093Z",
     "shell.execute_reply": "2022-08-18T14:25:06.355207Z"
    }
   },
   "outputs": [
    {
     "data": {
      "image/png": "[encoded data removed]",
      "text/plain": [
       "<Figure size 576x576 with 2 Axes>"
      ]
     },
     "metadata": {
      "needs_background": "light"
     },
     "output_type": "display_data"
    }
   ],
   "source": [
    "interpretation = causal_estimate_ipw.interpret(method_name=\"confounder_distribution_interpreter\", fig_size=(8,8), font_size=12, var_name='W4', var_type='discrete')"
   ]
  },
  {
   "cell_type": "code",
   "execution_count": null,
   "id": "e3216c76",
   "metadata": {},
   "outputs": [],
   "source": []
  }
 ],
 "metadata": {
  "kernelspec": {
   "display_name": "Python 3",
   "language": "python",
   "name": "python3"
  },
  "language_info": {
   "codemirror_mode": {
    "name": "ipython",
    "version": 3
   },
   "file_extension": ".py",
   "mimetype": "text/x-python",
   "name": "python",
   "nbconvert_exporter": "python",
   "pygments_lexer": "ipython3",
   "version": "3.8.10"
  },
  "toc": {
   "base_numbering": 1,
   "nav_menu": {},
   "number_sections": false,
   "sideBar": true,
   "skip_h1_title": true,
   "title_cell": "Table of Contents",
   "title_sidebar": "Contents",
   "toc_cell": false,
   "toc_position": {},
   "toc_section_display": true,
   "toc_window_display": false
  }
 },
 "nbformat": 4,
 "nbformat_minor": 5
}
