{
 "cells": [
  {
   "cell_type": "markdown",
   "id": "2e3f1488",
   "metadata": {},
   "source": [
    "# DoWhy: Interpreters for Causal Estimators\n",
    "\n",
    "This is a quick introduction to the use of interpreters in the DoWhy causal inference library.\n",
    "We will load in a sample dataset, use different methods for estimating the causal effect of a (pre-specified)treatment variable on a (pre-specified) outcome variable and demonstrate how to interpret the obtained results.\n",
    "\n",
    "First, let us add the required path for Python to find the DoWhy code and load all required packages"
   ]
  },
  {
   "cell_type": "code",
   "execution_count": 1,
   "id": "0c313635",
   "metadata": {
    "execution": {
     "iopub.execute_input": "2022-07-29T10:37:03.292145Z",
     "iopub.status.busy": "2022-07-29T10:37:03.291709Z",
     "iopub.status.idle": "2022-07-29T10:37:03.311677Z",
     "shell.execute_reply": "2022-07-29T10:37:03.310713Z"
    }
   },
   "outputs": [],
   "source": [
    "%load_ext autoreload\n",
    "%autoreload 2"
   ]
  },
  {
   "cell_type": "code",
   "execution_count": 2,
   "id": "25d8d5f3",
   "metadata": {
    "execution": {
     "iopub.execute_input": "2022-07-29T10:37:03.315582Z",
     "iopub.status.busy": "2022-07-29T10:37:03.315307Z",
     "iopub.status.idle": "2022-07-29T10:37:04.669854Z",
     "shell.execute_reply": "2022-07-29T10:37:04.668721Z"
    }
   },
   "outputs": [
    {
     "name": "stdout",
     "output_type": "stream",
     "text": [
      "keywords are unexpanded, not using\n"
     ]
    }
   ],
   "source": [
    "import numpy as np\n",
    "import pandas as pd\n",
    "import logging\n",
    "\n",
    "import dowhy\n",
    "from dowhy import CausalModel\n",
    "import dowhy.datasets "
   ]
  },
  {
   "cell_type": "markdown",
   "id": "ff5aafea",
   "metadata": {},
   "source": [
    "Now, let us load a dataset. For simplicity, we simulate a dataset with linear relationships between common causes and treatment, and common causes and outcome.\n",
    "\n",
    "Beta is the true causal effect."
   ]
  },
  {
   "cell_type": "code",
   "execution_count": 3,
   "id": "70593f4c",
   "metadata": {
    "execution": {
     "iopub.execute_input": "2022-07-29T10:37:04.680690Z",
     "iopub.status.busy": "2022-07-29T10:37:04.679856Z",
     "iopub.status.idle": "2022-07-29T10:37:05.302463Z",
     "shell.execute_reply": "2022-07-29T10:37:05.301625Z"
    }
   },
   "outputs": [
    {
     "name": "stdout",
     "output_type": "stream",
     "text": [
      "6940\n"
     ]
    },
    {
     "data": {
      "text/html": [
       "<div>\n",
       "<style scoped>\n",
       "    .dataframe tbody tr th:only-of-type {\n",
       "        vertical-align: middle;\n",
       "    }\n",
       "\n",
       "    .dataframe tbody tr th {\n",
       "        vertical-align: top;\n",
       "    }\n",
       "\n",
       "    .dataframe thead th {\n",
       "        text-align: right;\n",
       "    }\n",
       "</style>\n",
       "<table border=\"1\" class=\"dataframe\">\n",
       "  <thead>\n",
       "    <tr style=\"text-align: right;\">\n",
       "      <th></th>\n",
       "      <th>Z0</th>\n",
       "      <th>Z1</th>\n",
       "      <th>W0</th>\n",
       "      <th>W1</th>\n",
       "      <th>W2</th>\n",
       "      <th>W3</th>\n",
       "      <th>W4</th>\n",
       "      <th>v0</th>\n",
       "      <th>y</th>\n",
       "    </tr>\n",
       "  </thead>\n",
       "  <tbody>\n",
       "    <tr>\n",
       "      <th>0</th>\n",
       "      <td>0.0</td>\n",
       "      <td>0.764605</td>\n",
       "      <td>0.647490</td>\n",
       "      <td>0.793360</td>\n",
       "      <td>0.067064</td>\n",
       "      <td>-0.711358</td>\n",
       "      <td>0</td>\n",
       "      <td>True</td>\n",
       "      <td>1.526429</td>\n",
       "    </tr>\n",
       "    <tr>\n",
       "      <th>1</th>\n",
       "      <td>0.0</td>\n",
       "      <td>0.769416</td>\n",
       "      <td>2.147541</td>\n",
       "      <td>-2.042415</td>\n",
       "      <td>1.086733</td>\n",
       "      <td>0.461824</td>\n",
       "      <td>2</td>\n",
       "      <td>False</td>\n",
       "      <td>0.046399</td>\n",
       "    </tr>\n",
       "    <tr>\n",
       "      <th>2</th>\n",
       "      <td>1.0</td>\n",
       "      <td>0.528726</td>\n",
       "      <td>1.723068</td>\n",
       "      <td>0.161301</td>\n",
       "      <td>-1.766098</td>\n",
       "      <td>-0.131726</td>\n",
       "      <td>0</td>\n",
       "      <td>True</td>\n",
       "      <td>1.615982</td>\n",
       "    </tr>\n",
       "    <tr>\n",
       "      <th>3</th>\n",
       "      <td>0.0</td>\n",
       "      <td>0.969149</td>\n",
       "      <td>-0.865741</td>\n",
       "      <td>-1.977316</td>\n",
       "      <td>1.070774</td>\n",
       "      <td>0.556740</td>\n",
       "      <td>3</td>\n",
       "      <td>True</td>\n",
       "      <td>-0.148868</td>\n",
       "    </tr>\n",
       "    <tr>\n",
       "      <th>4</th>\n",
       "      <td>0.0</td>\n",
       "      <td>0.890738</td>\n",
       "      <td>0.202932</td>\n",
       "      <td>-2.075947</td>\n",
       "      <td>-1.768731</td>\n",
       "      <td>-1.082389</td>\n",
       "      <td>2</td>\n",
       "      <td>True</td>\n",
       "      <td>-1.631329</td>\n",
       "    </tr>\n",
       "    <tr>\n",
       "      <th>...</th>\n",
       "      <td>...</td>\n",
       "      <td>...</td>\n",
       "      <td>...</td>\n",
       "      <td>...</td>\n",
       "      <td>...</td>\n",
       "      <td>...</td>\n",
       "      <td>...</td>\n",
       "      <td>...</td>\n",
       "      <td>...</td>\n",
       "    </tr>\n",
       "    <tr>\n",
       "      <th>9995</th>\n",
       "      <td>0.0</td>\n",
       "      <td>0.214055</td>\n",
       "      <td>2.054856</td>\n",
       "      <td>-0.079977</td>\n",
       "      <td>-0.278923</td>\n",
       "      <td>-0.217413</td>\n",
       "      <td>0</td>\n",
       "      <td>True</td>\n",
       "      <td>1.726656</td>\n",
       "    </tr>\n",
       "    <tr>\n",
       "      <th>9996</th>\n",
       "      <td>0.0</td>\n",
       "      <td>0.004370</td>\n",
       "      <td>2.459536</td>\n",
       "      <td>-0.028934</td>\n",
       "      <td>-2.553343</td>\n",
       "      <td>-0.547102</td>\n",
       "      <td>0</td>\n",
       "      <td>True</td>\n",
       "      <td>1.354007</td>\n",
       "    </tr>\n",
       "    <tr>\n",
       "      <th>9997</th>\n",
       "      <td>0.0</td>\n",
       "      <td>0.250507</td>\n",
       "      <td>-0.072502</td>\n",
       "      <td>-1.734181</td>\n",
       "      <td>-0.744976</td>\n",
       "      <td>-2.132049</td>\n",
       "      <td>0</td>\n",
       "      <td>False</td>\n",
       "      <td>-3.455292</td>\n",
       "    </tr>\n",
       "    <tr>\n",
       "      <th>9998</th>\n",
       "      <td>0.0</td>\n",
       "      <td>0.936436</td>\n",
       "      <td>0.428153</td>\n",
       "      <td>0.131473</td>\n",
       "      <td>0.959429</td>\n",
       "      <td>-1.402730</td>\n",
       "      <td>1</td>\n",
       "      <td>True</td>\n",
       "      <td>0.580651</td>\n",
       "    </tr>\n",
       "    <tr>\n",
       "      <th>9999</th>\n",
       "      <td>0.0</td>\n",
       "      <td>0.510456</td>\n",
       "      <td>2.878837</td>\n",
       "      <td>-1.279564</td>\n",
       "      <td>-0.559057</td>\n",
       "      <td>-0.325314</td>\n",
       "      <td>3</td>\n",
       "      <td>True</td>\n",
       "      <td>1.419882</td>\n",
       "    </tr>\n",
       "  </tbody>\n",
       "</table>\n",
       "<p>10000 rows × 9 columns</p>\n",
       "</div>"
      ],
      "text/plain": [
       "       Z0        Z1        W0        W1        W2        W3 W4     v0  \\\n",
       "0     0.0  0.764605  0.647490  0.793360  0.067064 -0.711358  0   True   \n",
       "1     0.0  0.769416  2.147541 -2.042415  1.086733  0.461824  2  False   \n",
       "2     1.0  0.528726  1.723068  0.161301 -1.766098 -0.131726  0   True   \n",
       "3     0.0  0.969149 -0.865741 -1.977316  1.070774  0.556740  3   True   \n",
       "4     0.0  0.890738  0.202932 -2.075947 -1.768731 -1.082389  2   True   \n",
       "...   ...       ...       ...       ...       ...       ... ..    ...   \n",
       "9995  0.0  0.214055  2.054856 -0.079977 -0.278923 -0.217413  0   True   \n",
       "9996  0.0  0.004370  2.459536 -0.028934 -2.553343 -0.547102  0   True   \n",
       "9997  0.0  0.250507 -0.072502 -1.734181 -0.744976 -2.132049  0  False   \n",
       "9998  0.0  0.936436  0.428153  0.131473  0.959429 -1.402730  1   True   \n",
       "9999  0.0  0.510456  2.878837 -1.279564 -0.559057 -0.325314  3   True   \n",
       "\n",
       "             y  \n",
       "0     1.526429  \n",
       "1     0.046399  \n",
       "2     1.615982  \n",
       "3    -0.148868  \n",
       "4    -1.631329  \n",
       "...        ...  \n",
       "9995  1.726656  \n",
       "9996  1.354007  \n",
       "9997 -3.455292  \n",
       "9998  0.580651  \n",
       "9999  1.419882  \n",
       "\n",
       "[10000 rows x 9 columns]"
      ]
     },
     "execution_count": 3,
     "metadata": {},
     "output_type": "execute_result"
    }
   ],
   "source": [
    "data = dowhy.datasets.linear_dataset(beta=1,\n",
    "        num_common_causes=5, \n",
    "        num_instruments = 2,\n",
    "        num_treatments=1,\n",
    "        num_discrete_common_causes=1,\n",
    "        num_samples=10000,\n",
    "        treatment_is_binary=True,\n",
    "        outcome_is_binary=False)\n",
    "df = data[\"df\"]\n",
    "print(df[df.v0==True].shape[0])\n",
    "df"
   ]
  },
  {
   "cell_type": "markdown",
   "id": "abf7b56c",
   "metadata": {},
   "source": [
    "Note that we are using a pandas dataframe to load the data."
   ]
  },
  {
   "cell_type": "markdown",
   "id": "8e91be6e",
   "metadata": {},
   "source": [
    "## Identifying the causal estimand"
   ]
  },
  {
   "cell_type": "markdown",
   "id": "2c1d5894",
   "metadata": {},
   "source": [
    "We now input a causal graph in the GML graph format."
   ]
  },
  {
   "cell_type": "code",
   "execution_count": 4,
   "id": "71011d27",
   "metadata": {
    "execution": {
     "iopub.execute_input": "2022-07-29T10:37:05.306752Z",
     "iopub.status.busy": "2022-07-29T10:37:05.306329Z",
     "iopub.status.idle": "2022-07-29T10:37:05.337969Z",
     "shell.execute_reply": "2022-07-29T10:37:05.337133Z"
    }
   },
   "outputs": [],
   "source": [
    "# With graph\n",
    "model=CausalModel(\n",
    "        data = df,\n",
    "        treatment=data[\"treatment_name\"],\n",
    "        outcome=data[\"outcome_name\"],\n",
    "        graph=data[\"gml_graph\"],\n",
    "        instruments=data[\"instrument_names\"]\n",
    "        )"
   ]
  },
  {
   "cell_type": "code",
   "execution_count": 5,
   "id": "2c84da75",
   "metadata": {
    "execution": {
     "iopub.execute_input": "2022-07-29T10:37:05.343943Z",
     "iopub.status.busy": "2022-07-29T10:37:05.342705Z",
     "iopub.status.idle": "2022-07-29T10:37:05.406227Z",
     "shell.execute_reply": "2022-07-29T10:37:05.405312Z"
    }
   },
   "outputs": [],
   "source": [
    "model.view_model()"
   ]
  },
  {
   "cell_type": "code",
   "execution_count": 6,
   "id": "f58a748e",
   "metadata": {
    "execution": {
     "iopub.execute_input": "2022-07-29T10:37:05.410487Z",
     "iopub.status.busy": "2022-07-29T10:37:05.410007Z",
     "iopub.status.idle": "2022-07-29T10:37:05.440550Z",
     "shell.execute_reply": "2022-07-29T10:37:05.438661Z"
    }
   },
   "outputs": [
    {
     "data": {
      "image/png": "[encoded data removed]",
      "text/plain": [
       "<IPython.core.display.Image object>"
      ]
     },
     "metadata": {},
     "output_type": "display_data"
    }
   ],
   "source": [
    "from IPython.display import Image, display\n",
    "display(Image(filename=\"causal_model.png\"))"
   ]
  },
  {
   "cell_type": "markdown",
   "id": "fd8117f6",
   "metadata": {},
   "source": [
    "We get a causal graph. Now identification and estimation is done."
   ]
  },
  {
   "cell_type": "code",
   "execution_count": 7,
   "id": "7cf797c5",
   "metadata": {
    "execution": {
     "iopub.execute_input": "2022-07-29T10:37:05.444308Z",
     "iopub.status.busy": "2022-07-29T10:37:05.443966Z",
     "iopub.status.idle": "2022-07-29T10:37:05.736782Z",
     "shell.execute_reply": "2022-07-29T10:37:05.735768Z"
    }
   },
   "outputs": [
    {
     "name": "stdout",
     "output_type": "stream",
     "text": [
      "Estimand type: nonparametric-ate\n",
      "\n",
      "### Estimand : 1\n",
      "Estimand name: backdoor\n",
      "Estimand expression:\n",
      "  d                       \n",
      "─────(E[y|W1,W4,W0,W3,W2])\n",
      "d[v₀]                     \n",
      "Estimand assumption 1, Unconfoundedness: If U→{v0} and U→y then P(y|v0,W1,W4,W0,W3,W2,U) = P(y|v0,W1,W4,W0,W3,W2)\n",
      "\n",
      "### Estimand : 2\n",
      "Estimand name: iv\n",
      "Estimand expression:\n",
      " ⎡                              -1⎤\n",
      " ⎢    d        ⎛    d          ⎞  ⎥\n",
      "E⎢─────────(y)⋅⎜─────────([v₀])⎟  ⎥\n",
      " ⎣d[Z₁  Z₀]    ⎝d[Z₁  Z₀]      ⎠  ⎦\n",
      "Estimand assumption 1, As-if-random: If U→→y then ¬(U →→{Z1,Z0})\n",
      "Estimand assumption 2, Exclusion: If we remove {Z1,Z0}→{v0}, then ¬({Z1,Z0}→y)\n",
      "\n",
      "### Estimand : 3\n",
      "Estimand name: frontdoor\n",
      "No such variable(s) found!\n",
      "\n"
     ]
    }
   ],
   "source": [
    "identified_estimand = model.identify_effect(proceed_when_unidentifiable=True)\n",
    "print(identified_estimand)"
   ]
  },
  {
   "cell_type": "markdown",
   "id": "8176bfef",
   "metadata": {},
   "source": [
    "## Method 1: Propensity Score Stratification\n",
    "\n",
    "We will be using propensity scores to stratify units in the data."
   ]
  },
  {
   "cell_type": "code",
   "execution_count": 8,
   "id": "ad061a49",
   "metadata": {
    "execution": {
     "iopub.execute_input": "2022-07-29T10:37:05.740885Z",
     "iopub.status.busy": "2022-07-29T10:37:05.740470Z",
     "iopub.status.idle": "2022-07-29T10:37:06.685751Z",
     "shell.execute_reply": "2022-07-29T10:37:06.684792Z"
    }
   },
   "outputs": [
    {
     "name": "stdout",
     "output_type": "stream",
     "text": [
      "propensity_score_stratification\n"
     ]
    },
    {
     "name": "stderr",
     "output_type": "stream",
     "text": [
      "/usr/local/lib/python3.8/dist-packages/sklearn/utils/validation.py:993: DataConversionWarning: A column-vector y was passed when a 1d array was expected. Please change the shape of y to (n_samples, ), for example using ravel().\n",
      "  y = column_or_1d(y, warn=True)\n"
     ]
    },
    {
     "name": "stdout",
     "output_type": "stream",
     "text": [
      "*** Causal Estimate ***\n",
      "\n",
      "## Identified estimand\n",
      "Estimand type: nonparametric-ate\n",
      "\n",
      "### Estimand : 1\n",
      "Estimand name: backdoor\n",
      "Estimand expression:\n",
      "  d                       \n",
      "─────(E[y|W1,W4,W0,W3,W2])\n",
      "d[v₀]                     \n",
      "Estimand assumption 1, Unconfoundedness: If U→{v0} and U→y then P(y|v0,W1,W4,W0,W3,W2,U) = P(y|v0,W1,W4,W0,W3,W2)\n",
      "\n",
      "## Realized estimand\n",
      "b: y~v0+W1+W4+W0+W3+W2\n",
      "Target units: att\n",
      "\n",
      "## Estimate\n",
      "Mean value: 0.9873642191929175\n",
      "\n",
      "Causal Estimate is 0.9873642191929175\n"
     ]
    }
   ],
   "source": [
    "causal_estimate_strat = model.estimate_effect(identified_estimand,\n",
    "                                              method_name=\"backdoor.propensity_score_stratification\",\n",
    "                                              target_units=\"att\")\n",
    "print(causal_estimate_strat)\n",
    "print(\"Causal Estimate is \" + str(causal_estimate_strat.value))"
   ]
  },
  {
   "cell_type": "markdown",
   "id": "5a8926a8",
   "metadata": {},
   "source": [
    "### Textual Interpreter\n",
    "\n",
    "The textual Interpreter describes (in words) the effect of unit change in the treatment variable on the outcome variable."
   ]
  },
  {
   "cell_type": "code",
   "execution_count": 9,
   "id": "86bfb23f",
   "metadata": {
    "execution": {
     "iopub.execute_input": "2022-07-29T10:37:06.689656Z",
     "iopub.status.busy": "2022-07-29T10:37:06.689362Z",
     "iopub.status.idle": "2022-07-29T10:37:06.723190Z",
     "shell.execute_reply": "2022-07-29T10:37:06.722257Z"
    }
   },
   "outputs": [
    {
     "name": "stdout",
     "output_type": "stream",
     "text": [
      "Increasing the treatment variable(s) [v0] from 0 to 1 causes an increase of 0.9873642191929175 in the expected value of the outcome [y], over the data distribution/population represented by the dataset.\n"
     ]
    }
   ],
   "source": [
    "# Textual Interpreter\n",
    "interpretation = causal_estimate_strat.interpret(method_name=\"textual_effect_interpreter\")"
   ]
  },
  {
   "cell_type": "markdown",
   "id": "e5d16674",
   "metadata": {},
   "source": [
    "### Visual Interpreter\n",
    "\n",
    "The visual interpreter plots the change in the standardized mean difference (SMD) before and after Propensity Score based adjustment of the dataset. The formula for SMD is given below.\n",
    "\n",
    "\n",
    "$SMD = \\frac{\\bar X_{1} - \\bar X_{2}}{\\sqrt{(S_{1}^{2} + S_{2}^{2})/2}}$\n",
    "\n",
    "Here, $\\bar X_{1}$ and $\\bar X_{2}$ are the sample mean for the treated and control groups.\n"
   ]
  },
  {
   "cell_type": "code",
   "execution_count": 10,
   "id": "b9e37787",
   "metadata": {
    "execution": {
     "iopub.execute_input": "2022-07-29T10:37:06.727389Z",
     "iopub.status.busy": "2022-07-29T10:37:06.726679Z",
     "iopub.status.idle": "2022-07-29T10:37:09.039757Z",
     "shell.execute_reply": "2022-07-29T10:37:09.038800Z"
    }
   },
   "outputs": [
    {
     "data": {
      "image/png": "[encoded data removed]",
      "text/plain": [
       "<Figure size 432x288 with 1 Axes>"
      ]
     },
     "metadata": {
      "needs_background": "light"
     },
     "output_type": "display_data"
    }
   ],
   "source": [
    "# Visual Interpreter\n",
    "interpretation = causal_estimate_strat.interpret(method_name=\"propensity_balance_interpreter\")"
   ]
  },
  {
   "cell_type": "markdown",
   "id": "578464bc",
   "metadata": {},
   "source": [
    "This plot shows how the SMD decreases from the unadjusted to the stratified units. "
   ]
  },
  {
   "cell_type": "markdown",
   "id": "766dd8bd",
   "metadata": {},
   "source": [
    "## Method 2: Propensity Score Matching\n",
    "\n",
    "We will be using propensity scores to match units in the data."
   ]
  },
  {
   "cell_type": "code",
   "execution_count": 11,
   "id": "f205d984",
   "metadata": {
    "execution": {
     "iopub.execute_input": "2022-07-29T10:37:09.044575Z",
     "iopub.status.busy": "2022-07-29T10:37:09.043906Z",
     "iopub.status.idle": "2022-07-29T10:37:15.450182Z",
     "shell.execute_reply": "2022-07-29T10:37:15.449167Z"
    }
   },
   "outputs": [
    {
     "name": "stdout",
     "output_type": "stream",
     "text": [
      "propensity_score_matching\n"
     ]
    },
    {
     "name": "stderr",
     "output_type": "stream",
     "text": [
      "/usr/local/lib/python3.8/dist-packages/sklearn/utils/validation.py:993: DataConversionWarning: A column-vector y was passed when a 1d array was expected. Please change the shape of y to (n_samples, ), for example using ravel().\n",
      "  y = column_or_1d(y, warn=True)\n"
     ]
    },
    {
     "name": "stdout",
     "output_type": "stream",
     "text": [
      "*** Causal Estimate ***\n",
      "\n",
      "## Identified estimand\n",
      "Estimand type: nonparametric-ate\n",
      "\n",
      "### Estimand : 1\n",
      "Estimand name: backdoor\n",
      "Estimand expression:\n",
      "  d                       \n",
      "─────(E[y|W1,W4,W0,W3,W2])\n",
      "d[v₀]                     \n",
      "Estimand assumption 1, Unconfoundedness: If U→{v0} and U→y then P(y|v0,W1,W4,W0,W3,W2,U) = P(y|v0,W1,W4,W0,W3,W2)\n",
      "\n",
      "## Realized estimand\n",
      "b: y~v0+W1+W4+W0+W3+W2\n",
      "Target units: atc\n",
      "\n",
      "## Estimate\n",
      "Mean value: 0.9796578957568542\n",
      "\n",
      "Causal Estimate is 0.9796578957568542\n"
     ]
    }
   ],
   "source": [
    "causal_estimate_match = model.estimate_effect(identified_estimand,\n",
    "                                              method_name=\"backdoor.propensity_score_matching\",\n",
    "                                              target_units=\"atc\")\n",
    "print(causal_estimate_match)\n",
    "print(\"Causal Estimate is \" + str(causal_estimate_match.value))"
   ]
  },
  {
   "cell_type": "code",
   "execution_count": 12,
   "id": "072122ba",
   "metadata": {
    "execution": {
     "iopub.execute_input": "2022-07-29T10:37:15.454198Z",
     "iopub.status.busy": "2022-07-29T10:37:15.453738Z",
     "iopub.status.idle": "2022-07-29T10:37:15.486525Z",
     "shell.execute_reply": "2022-07-29T10:37:15.485500Z"
    }
   },
   "outputs": [
    {
     "name": "stdout",
     "output_type": "stream",
     "text": [
      "Increasing the treatment variable(s) [v0] from 0 to 1 causes an increase of 0.9796578957568542 in the expected value of the outcome [y], over the data distribution/population represented by the dataset.\n"
     ]
    }
   ],
   "source": [
    "# Textual Interpreter\n",
    "interpretation = causal_estimate_match.interpret(method_name=\"textual_effect_interpreter\")"
   ]
  },
  {
   "cell_type": "markdown",
   "id": "6791f24b",
   "metadata": {},
   "source": [
    "Cannot use propensity balance interpretor here since the interpreter method only supports propensity score stratification estimator."
   ]
  },
  {
   "cell_type": "markdown",
   "id": "cb612307",
   "metadata": {},
   "source": [
    "## Method 3: Weighting\n",
    "\n",
    "We will be using (inverse) propensity scores to assign weights to units in the data. DoWhy supports a few different weighting schemes:\n",
    "1. Vanilla Inverse Propensity Score weighting (IPS) (weighting_scheme=\"ips_weight\")\n",
    "2. Self-normalized IPS weighting (also known as the Hajek estimator) (weighting_scheme=\"ips_normalized_weight\")\n",
    "3. Stabilized IPS weighting (weighting_scheme = \"ips_stabilized_weight\")"
   ]
  },
  {
   "cell_type": "code",
   "execution_count": 13,
   "id": "3ae10575",
   "metadata": {
    "execution": {
     "iopub.execute_input": "2022-07-29T10:37:15.490688Z",
     "iopub.status.busy": "2022-07-29T10:37:15.490246Z",
     "iopub.status.idle": "2022-07-29T10:37:15.574644Z",
     "shell.execute_reply": "2022-07-29T10:37:15.573805Z"
    }
   },
   "outputs": [
    {
     "name": "stdout",
     "output_type": "stream",
     "text": [
      "propensity_score_weighting\n",
      "*** Causal Estimate ***\n",
      "\n",
      "## Identified estimand\n",
      "Estimand type: nonparametric-ate\n",
      "\n",
      "### Estimand : 1\n",
      "Estimand name: backdoor\n",
      "Estimand expression:\n",
      "  d                       \n",
      "─────(E[y|W1,W4,W0,W3,W2])\n",
      "d[v₀]                     \n",
      "Estimand assumption 1, Unconfoundedness: If U→{v0} and U→y then P(y|v0,W1,W4,W0,W3,W2,U) = P(y|v0,W1,W4,W0,W3,W2)\n",
      "\n",
      "## Realized estimand\n",
      "b: y~v0+W1+W4+W0+W3+W2\n",
      "Target units: ate\n",
      "\n",
      "## Estimate\n",
      "Mean value: 1.0224027920211127\n",
      "\n",
      "Causal Estimate is 1.0224027920211127\n"
     ]
    },
    {
     "name": "stderr",
     "output_type": "stream",
     "text": [
      "/usr/local/lib/python3.8/dist-packages/sklearn/utils/validation.py:993: DataConversionWarning: A column-vector y was passed when a 1d array was expected. Please change the shape of y to (n_samples, ), for example using ravel().\n",
      "  y = column_or_1d(y, warn=True)\n"
     ]
    }
   ],
   "source": [
    "causal_estimate_ipw = model.estimate_effect(identified_estimand,\n",
    "                                            method_name=\"backdoor.propensity_score_weighting\",\n",
    "                                            target_units = \"ate\",\n",
    "                                            method_params={\"weighting_scheme\":\"ips_weight\"})\n",
    "print(causal_estimate_ipw)\n",
    "print(\"Causal Estimate is \" + str(causal_estimate_ipw.value))"
   ]
  },
  {
   "cell_type": "code",
   "execution_count": 14,
   "id": "5437d31f",
   "metadata": {
    "execution": {
     "iopub.execute_input": "2022-07-29T10:37:15.578786Z",
     "iopub.status.busy": "2022-07-29T10:37:15.578375Z",
     "iopub.status.idle": "2022-07-29T10:37:15.610810Z",
     "shell.execute_reply": "2022-07-29T10:37:15.609905Z"
    }
   },
   "outputs": [
    {
     "name": "stdout",
     "output_type": "stream",
     "text": [
      "Increasing the treatment variable(s) [v0] from 0 to 1 causes an increase of 1.0224027920211127 in the expected value of the outcome [y], over the data distribution/population represented by the dataset.\n"
     ]
    }
   ],
   "source": [
    "# Textual Interpreter\n",
    "interpretation = causal_estimate_ipw.interpret(method_name=\"textual_effect_interpreter\")"
   ]
  },
  {
   "cell_type": "code",
   "execution_count": 15,
   "id": "0ae7a0a3",
   "metadata": {
    "execution": {
     "iopub.execute_input": "2022-07-29T10:37:15.614792Z",
     "iopub.status.busy": "2022-07-29T10:37:15.614499Z",
     "iopub.status.idle": "2022-07-29T10:37:15.981942Z",
     "shell.execute_reply": "2022-07-29T10:37:15.980939Z"
    }
   },
   "outputs": [
    {
     "data": {
      "image/png": "[encoded data removed]",
      "text/plain": [
       "<Figure size 576x576 with 2 Axes>"
      ]
     },
     "metadata": {
      "needs_background": "light"
     },
     "output_type": "display_data"
    }
   ],
   "source": [
    "interpretation = causal_estimate_ipw.interpret(method_name=\"confounder_distribution_interpreter\", fig_size=(8,8), font_size=12, var_name='W4', var_type='discrete')"
   ]
  },
  {
   "cell_type": "code",
   "execution_count": null,
   "id": "a6708873",
   "metadata": {},
   "outputs": [],
   "source": []
  }
 ],
 "metadata": {
  "kernelspec": {
   "display_name": "Python 3",
   "language": "python",
   "name": "python3"
  },
  "language_info": {
   "codemirror_mode": {
    "name": "ipython",
    "version": 3
   },
   "file_extension": ".py",
   "mimetype": "text/x-python",
   "name": "python",
   "nbconvert_exporter": "python",
   "pygments_lexer": "ipython3",
   "version": "3.8.10"
  },
  "toc": {
   "base_numbering": 1,
   "nav_menu": {},
   "number_sections": false,
   "sideBar": true,
   "skip_h1_title": true,
   "title_cell": "Table of Contents",
   "title_sidebar": "Contents",
   "toc_cell": false,
   "toc_position": {},
   "toc_section_display": true,
   "toc_window_display": false
  }
 },
 "nbformat": 4,
 "nbformat_minor": 5
}
