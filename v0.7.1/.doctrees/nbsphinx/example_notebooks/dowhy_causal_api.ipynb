{
 "cells": [
  {
   "cell_type": "markdown",
   "metadata": {},
   "source": [
    "# Demo for the DoWhy causal API\n",
    "We show a simple example of adding a causal extension to any dataframe. "
   ]
  },
  {
   "cell_type": "code",
   "execution_count": 1,
   "metadata": {
    "execution": {
     "iopub.execute_input": "2022-08-08T04:36:31.274774Z",
     "iopub.status.busy": "2022-08-08T04:36:31.274444Z",
     "iopub.status.idle": "2022-08-08T04:36:32.699163Z",
     "shell.execute_reply": "2022-08-08T04:36:32.697843Z"
    }
   },
   "outputs": [
    {
     "name": "stdout",
     "output_type": "stream",
     "text": [
      "keywords are unexpanded, not using\n"
     ]
    }
   ],
   "source": [
    "import dowhy.datasets\n",
    "import dowhy.api\n",
    "\n",
    "import numpy as np\n",
    "import pandas as pd\n",
    "\n",
    "from statsmodels.api import OLS"
   ]
  },
  {
   "cell_type": "code",
   "execution_count": 2,
   "metadata": {
    "execution": {
     "iopub.execute_input": "2022-08-08T04:36:32.704705Z",
     "iopub.status.busy": "2022-08-08T04:36:32.703915Z",
     "iopub.status.idle": "2022-08-08T04:36:32.761648Z",
     "shell.execute_reply": "2022-08-08T04:36:32.760844Z"
    }
   },
   "outputs": [
    {
     "data": {
      "text/html": [
       "<div>\n",
       "<style scoped>\n",
       "    .dataframe tbody tr th:only-of-type {\n",
       "        vertical-align: middle;\n",
       "    }\n",
       "\n",
       "    .dataframe tbody tr th {\n",
       "        vertical-align: top;\n",
       "    }\n",
       "\n",
       "    .dataframe thead th {\n",
       "        text-align: right;\n",
       "    }\n",
       "</style>\n",
       "<table border=\"1\" class=\"dataframe\">\n",
       "  <thead>\n",
       "    <tr style=\"text-align: right;\">\n",
       "      <th></th>\n",
       "      <th>W0</th>\n",
       "      <th>v0</th>\n",
       "      <th>y</th>\n",
       "    </tr>\n",
       "  </thead>\n",
       "  <tbody>\n",
       "    <tr>\n",
       "      <th>0</th>\n",
       "      <td>0.185996</td>\n",
       "      <td>False</td>\n",
       "      <td>0.811559</td>\n",
       "    </tr>\n",
       "    <tr>\n",
       "      <th>1</th>\n",
       "      <td>-1.829677</td>\n",
       "      <td>False</td>\n",
       "      <td>-3.766985</td>\n",
       "    </tr>\n",
       "    <tr>\n",
       "      <th>2</th>\n",
       "      <td>-1.129297</td>\n",
       "      <td>True</td>\n",
       "      <td>3.252654</td>\n",
       "    </tr>\n",
       "    <tr>\n",
       "      <th>3</th>\n",
       "      <td>1.226271</td>\n",
       "      <td>True</td>\n",
       "      <td>5.942464</td>\n",
       "    </tr>\n",
       "    <tr>\n",
       "      <th>4</th>\n",
       "      <td>-0.267470</td>\n",
       "      <td>True</td>\n",
       "      <td>2.050480</td>\n",
       "    </tr>\n",
       "    <tr>\n",
       "      <th>...</th>\n",
       "      <td>...</td>\n",
       "      <td>...</td>\n",
       "      <td>...</td>\n",
       "    </tr>\n",
       "    <tr>\n",
       "      <th>995</th>\n",
       "      <td>-2.068876</td>\n",
       "      <td>False</td>\n",
       "      <td>-4.872676</td>\n",
       "    </tr>\n",
       "    <tr>\n",
       "      <th>996</th>\n",
       "      <td>-0.154224</td>\n",
       "      <td>False</td>\n",
       "      <td>-1.859878</td>\n",
       "    </tr>\n",
       "    <tr>\n",
       "      <th>997</th>\n",
       "      <td>-0.682200</td>\n",
       "      <td>True</td>\n",
       "      <td>3.794221</td>\n",
       "    </tr>\n",
       "    <tr>\n",
       "      <th>998</th>\n",
       "      <td>-0.349099</td>\n",
       "      <td>True</td>\n",
       "      <td>2.837868</td>\n",
       "    </tr>\n",
       "    <tr>\n",
       "      <th>999</th>\n",
       "      <td>-1.634817</td>\n",
       "      <td>True</td>\n",
       "      <td>1.897097</td>\n",
       "    </tr>\n",
       "  </tbody>\n",
       "</table>\n",
       "<p>1000 rows × 3 columns</p>\n",
       "</div>"
      ],
      "text/plain": [
       "           W0     v0         y\n",
       "0    0.185996  False  0.811559\n",
       "1   -1.829677  False -3.766985\n",
       "2   -1.129297   True  3.252654\n",
       "3    1.226271   True  5.942464\n",
       "4   -0.267470   True  2.050480\n",
       "..        ...    ...       ...\n",
       "995 -2.068876  False -4.872676\n",
       "996 -0.154224  False -1.859878\n",
       "997 -0.682200   True  3.794221\n",
       "998 -0.349099   True  2.837868\n",
       "999 -1.634817   True  1.897097\n",
       "\n",
       "[1000 rows x 3 columns]"
      ]
     },
     "execution_count": 2,
     "metadata": {},
     "output_type": "execute_result"
    }
   ],
   "source": [
    "data = dowhy.datasets.linear_dataset(beta=5,\n",
    "        num_common_causes=1,\n",
    "        num_instruments = 0,\n",
    "        num_samples=1000,\n",
    "        treatment_is_binary=True)\n",
    "df = data['df']\n",
    "df['y'] = df['y'] + np.random.normal(size=len(df)) # Adding noise to data. Without noise, the variance in Y|X, Z is zero, and mcmc fails.\n",
    "#data['dot_graph'] = 'digraph { v ->y;X0-> v;X0-> y;}'\n",
    "\n",
    "treatment= data[\"treatment_name\"][0]\n",
    "outcome = data[\"outcome_name\"][0]\n",
    "common_cause = data[\"common_causes_names\"][0]\n",
    "df"
   ]
  },
  {
   "cell_type": "code",
   "execution_count": 3,
   "metadata": {
    "execution": {
     "iopub.execute_input": "2022-08-08T04:36:32.765558Z",
     "iopub.status.busy": "2022-08-08T04:36:32.765035Z",
     "iopub.status.idle": "2022-08-08T04:36:33.694039Z",
     "shell.execute_reply": "2022-08-08T04:36:33.693360Z"
    }
   },
   "outputs": [
    {
     "data": {
      "text/plain": [
       "<AxesSubplot:xlabel='v0'>"
      ]
     },
     "execution_count": 3,
     "metadata": {},
     "output_type": "execute_result"
    },
    {
     "data": {
      "image/png": "[encoded data removed]",
      "text/plain": [
       "<Figure size 432x288 with 1 Axes>"
      ]
     },
     "metadata": {
      "needs_background": "light"
     },
     "output_type": "display_data"
    }
   ],
   "source": [
    "# data['df'] is just a regular pandas.DataFrame\n",
    "df.causal.do(x=treatment,\n",
    "                     variable_types={treatment: 'b', outcome: 'c', common_cause: 'c'},\n",
    "                     outcome=outcome,\n",
    "                     common_causes=[common_cause],\n",
    "                     proceed_when_unidentifiable=True).groupby(treatment).mean().plot(y=outcome, kind='bar')"
   ]
  },
  {
   "cell_type": "code",
   "execution_count": 4,
   "metadata": {
    "execution": {
     "iopub.execute_input": "2022-08-08T04:36:33.699198Z",
     "iopub.status.busy": "2022-08-08T04:36:33.697821Z",
     "iopub.status.idle": "2022-08-08T04:36:33.812238Z",
     "shell.execute_reply": "2022-08-08T04:36:33.811534Z"
    }
   },
   "outputs": [
    {
     "data": {
      "text/plain": [
       "<AxesSubplot:xlabel='v0'>"
      ]
     },
     "execution_count": 4,
     "metadata": {},
     "output_type": "execute_result"
    },
    {
     "data": {
      "image/png": "[encoded data removed]",
      "text/plain": [
       "<Figure size 432x288 with 1 Axes>"
      ]
     },
     "metadata": {
      "needs_background": "light"
     },
     "output_type": "display_data"
    }
   ],
   "source": [
    "df.causal.do(x={treatment: 1}, \n",
    "              variable_types={treatment:'b', outcome: 'c', common_cause: 'c'}, \n",
    "              outcome=outcome,\n",
    "              method='weighting', \n",
    "              common_causes=[common_cause],\n",
    "              proceed_when_unidentifiable=True).groupby(treatment).mean().plot(y=outcome, kind='bar')"
   ]
  },
  {
   "cell_type": "code",
   "execution_count": 5,
   "metadata": {
    "execution": {
     "iopub.execute_input": "2022-08-08T04:36:33.817260Z",
     "iopub.status.busy": "2022-08-08T04:36:33.815951Z",
     "iopub.status.idle": "2022-08-08T04:36:33.854597Z",
     "shell.execute_reply": "2022-08-08T04:36:33.853944Z"
    }
   },
   "outputs": [],
   "source": [
    "cdf_1 = df.causal.do(x={treatment: 1}, \n",
    "              variable_types={treatment: 'b', outcome: 'c', common_cause: 'c'}, \n",
    "              outcome=outcome, \n",
    "              dot_graph=data['dot_graph'],\n",
    "              proceed_when_unidentifiable=True)\n",
    "\n",
    "cdf_0 = df.causal.do(x={treatment: 0}, \n",
    "              variable_types={treatment: 'b', outcome: 'c', common_cause: 'c'}, \n",
    "              outcome=outcome, \n",
    "              dot_graph=data['dot_graph'],\n",
    "              proceed_when_unidentifiable=True)\n"
   ]
  },
  {
   "cell_type": "code",
   "execution_count": 6,
   "metadata": {
    "execution": {
     "iopub.execute_input": "2022-08-08T04:36:33.859779Z",
     "iopub.status.busy": "2022-08-08T04:36:33.858526Z",
     "iopub.status.idle": "2022-08-08T04:36:33.873662Z",
     "shell.execute_reply": "2022-08-08T04:36:33.872978Z"
    },
    "scrolled": true
   },
   "outputs": [
    {
     "data": {
      "text/html": [
       "<div>\n",
       "<style scoped>\n",
       "    .dataframe tbody tr th:only-of-type {\n",
       "        vertical-align: middle;\n",
       "    }\n",
       "\n",
       "    .dataframe tbody tr th {\n",
       "        vertical-align: top;\n",
       "    }\n",
       "\n",
       "    .dataframe thead th {\n",
       "        text-align: right;\n",
       "    }\n",
       "</style>\n",
       "<table border=\"1\" class=\"dataframe\">\n",
       "  <thead>\n",
       "    <tr style=\"text-align: right;\">\n",
       "      <th></th>\n",
       "      <th>W0</th>\n",
       "      <th>v0</th>\n",
       "      <th>y</th>\n",
       "      <th>propensity_score</th>\n",
       "      <th>weight</th>\n",
       "    </tr>\n",
       "  </thead>\n",
       "  <tbody>\n",
       "    <tr>\n",
       "      <th>0</th>\n",
       "      <td>-0.450128</td>\n",
       "      <td>False</td>\n",
       "      <td>-1.123750</td>\n",
       "      <td>0.639576</td>\n",
       "      <td>1.563535</td>\n",
       "    </tr>\n",
       "    <tr>\n",
       "      <th>1</th>\n",
       "      <td>-0.450128</td>\n",
       "      <td>False</td>\n",
       "      <td>-1.123750</td>\n",
       "      <td>0.639576</td>\n",
       "      <td>1.563535</td>\n",
       "    </tr>\n",
       "    <tr>\n",
       "      <th>2</th>\n",
       "      <td>-2.200439</td>\n",
       "      <td>False</td>\n",
       "      <td>-4.535381</td>\n",
       "      <td>0.923815</td>\n",
       "      <td>1.082468</td>\n",
       "    </tr>\n",
       "    <tr>\n",
       "      <th>3</th>\n",
       "      <td>-1.659571</td>\n",
       "      <td>False</td>\n",
       "      <td>-3.981770</td>\n",
       "      <td>0.870059</td>\n",
       "      <td>1.149348</td>\n",
       "    </tr>\n",
       "    <tr>\n",
       "      <th>4</th>\n",
       "      <td>-0.625355</td>\n",
       "      <td>False</td>\n",
       "      <td>-1.465888</td>\n",
       "      <td>0.682638</td>\n",
       "      <td>1.464905</td>\n",
       "    </tr>\n",
       "    <tr>\n",
       "      <th>...</th>\n",
       "      <td>...</td>\n",
       "      <td>...</td>\n",
       "      <td>...</td>\n",
       "      <td>...</td>\n",
       "      <td>...</td>\n",
       "    </tr>\n",
       "    <tr>\n",
       "      <th>995</th>\n",
       "      <td>-1.330808</td>\n",
       "      <td>False</td>\n",
       "      <td>-2.219560</td>\n",
       "      <td>0.823538</td>\n",
       "      <td>1.214274</td>\n",
       "    </tr>\n",
       "    <tr>\n",
       "      <th>996</th>\n",
       "      <td>-1.410193</td>\n",
       "      <td>False</td>\n",
       "      <td>-4.302867</td>\n",
       "      <td>0.835849</td>\n",
       "      <td>1.196388</td>\n",
       "    </tr>\n",
       "    <tr>\n",
       "      <th>997</th>\n",
       "      <td>0.173279</td>\n",
       "      <td>False</td>\n",
       "      <td>0.113379</td>\n",
       "      <td>0.472287</td>\n",
       "      <td>2.117357</td>\n",
       "    </tr>\n",
       "    <tr>\n",
       "      <th>998</th>\n",
       "      <td>-0.839927</td>\n",
       "      <td>False</td>\n",
       "      <td>-2.947091</td>\n",
       "      <td>0.731357</td>\n",
       "      <td>1.367321</td>\n",
       "    </tr>\n",
       "    <tr>\n",
       "      <th>999</th>\n",
       "      <td>1.027776</td>\n",
       "      <td>False</td>\n",
       "      <td>0.781855</td>\n",
       "      <td>0.259380</td>\n",
       "      <td>3.855346</td>\n",
       "    </tr>\n",
       "  </tbody>\n",
       "</table>\n",
       "<p>1000 rows × 5 columns</p>\n",
       "</div>"
      ],
      "text/plain": [
       "           W0     v0         y  propensity_score    weight\n",
       "0   -0.450128  False -1.123750          0.639576  1.563535\n",
       "1   -0.450128  False -1.123750          0.639576  1.563535\n",
       "2   -2.200439  False -4.535381          0.923815  1.082468\n",
       "3   -1.659571  False -3.981770          0.870059  1.149348\n",
       "4   -0.625355  False -1.465888          0.682638  1.464905\n",
       "..        ...    ...       ...               ...       ...\n",
       "995 -1.330808  False -2.219560          0.823538  1.214274\n",
       "996 -1.410193  False -4.302867          0.835849  1.196388\n",
       "997  0.173279  False  0.113379          0.472287  2.117357\n",
       "998 -0.839927  False -2.947091          0.731357  1.367321\n",
       "999  1.027776  False  0.781855          0.259380  3.855346\n",
       "\n",
       "[1000 rows x 5 columns]"
      ]
     },
     "execution_count": 6,
     "metadata": {},
     "output_type": "execute_result"
    }
   ],
   "source": [
    "cdf_0"
   ]
  },
  {
   "cell_type": "code",
   "execution_count": 7,
   "metadata": {
    "execution": {
     "iopub.execute_input": "2022-08-08T04:36:33.876960Z",
     "iopub.status.busy": "2022-08-08T04:36:33.876688Z",
     "iopub.status.idle": "2022-08-08T04:36:33.891502Z",
     "shell.execute_reply": "2022-08-08T04:36:33.890182Z"
    }
   },
   "outputs": [
    {
     "data": {
      "text/html": [
       "<div>\n",
       "<style scoped>\n",
       "    .dataframe tbody tr th:only-of-type {\n",
       "        vertical-align: middle;\n",
       "    }\n",
       "\n",
       "    .dataframe tbody tr th {\n",
       "        vertical-align: top;\n",
       "    }\n",
       "\n",
       "    .dataframe thead th {\n",
       "        text-align: right;\n",
       "    }\n",
       "</style>\n",
       "<table border=\"1\" class=\"dataframe\">\n",
       "  <thead>\n",
       "    <tr style=\"text-align: right;\">\n",
       "      <th></th>\n",
       "      <th>W0</th>\n",
       "      <th>v0</th>\n",
       "      <th>y</th>\n",
       "      <th>propensity_score</th>\n",
       "      <th>weight</th>\n",
       "    </tr>\n",
       "  </thead>\n",
       "  <tbody>\n",
       "    <tr>\n",
       "      <th>0</th>\n",
       "      <td>-2.190194</td>\n",
       "      <td>True</td>\n",
       "      <td>-0.664264</td>\n",
       "      <td>0.076981</td>\n",
       "      <td>12.990260</td>\n",
       "    </tr>\n",
       "    <tr>\n",
       "      <th>1</th>\n",
       "      <td>-2.204565</td>\n",
       "      <td>True</td>\n",
       "      <td>-0.855231</td>\n",
       "      <td>0.075867</td>\n",
       "      <td>13.180951</td>\n",
       "    </tr>\n",
       "    <tr>\n",
       "      <th>2</th>\n",
       "      <td>1.002572</td>\n",
       "      <td>True</td>\n",
       "      <td>6.914696</td>\n",
       "      <td>0.735268</td>\n",
       "      <td>1.360047</td>\n",
       "    </tr>\n",
       "    <tr>\n",
       "      <th>3</th>\n",
       "      <td>-1.146044</td>\n",
       "      <td>True</td>\n",
       "      <td>2.830075</td>\n",
       "      <td>0.207900</td>\n",
       "      <td>4.810011</td>\n",
       "    </tr>\n",
       "    <tr>\n",
       "      <th>4</th>\n",
       "      <td>-1.777388</td>\n",
       "      <td>True</td>\n",
       "      <td>-0.984186</td>\n",
       "      <td>0.116003</td>\n",
       "      <td>8.620477</td>\n",
       "    </tr>\n",
       "    <tr>\n",
       "      <th>...</th>\n",
       "      <td>...</td>\n",
       "      <td>...</td>\n",
       "      <td>...</td>\n",
       "      <td>...</td>\n",
       "      <td>...</td>\n",
       "    </tr>\n",
       "    <tr>\n",
       "      <th>995</th>\n",
       "      <td>-0.182658</td>\n",
       "      <td>True</td>\n",
       "      <td>5.417711</td>\n",
       "      <td>0.430491</td>\n",
       "      <td>2.322928</td>\n",
       "    </tr>\n",
       "    <tr>\n",
       "      <th>996</th>\n",
       "      <td>-1.189833</td>\n",
       "      <td>True</td>\n",
       "      <td>2.850478</td>\n",
       "      <td>0.200093</td>\n",
       "      <td>4.997673</td>\n",
       "    </tr>\n",
       "    <tr>\n",
       "      <th>997</th>\n",
       "      <td>-0.480086</td>\n",
       "      <td>True</td>\n",
       "      <td>3.367830</td>\n",
       "      <td>0.352876</td>\n",
       "      <td>2.833854</td>\n",
       "    </tr>\n",
       "    <tr>\n",
       "      <th>998</th>\n",
       "      <td>0.453010</td>\n",
       "      <td>True</td>\n",
       "      <td>6.140423</td>\n",
       "      <td>0.603030</td>\n",
       "      <td>1.658292</td>\n",
       "    </tr>\n",
       "    <tr>\n",
       "      <th>999</th>\n",
       "      <td>-0.637419</td>\n",
       "      <td>True</td>\n",
       "      <td>4.481323</td>\n",
       "      <td>0.314499</td>\n",
       "      <td>3.179659</td>\n",
       "    </tr>\n",
       "  </tbody>\n",
       "</table>\n",
       "<p>1000 rows × 5 columns</p>\n",
       "</div>"
      ],
      "text/plain": [
       "           W0    v0         y  propensity_score     weight\n",
       "0   -2.190194  True -0.664264          0.076981  12.990260\n",
       "1   -2.204565  True -0.855231          0.075867  13.180951\n",
       "2    1.002572  True  6.914696          0.735268   1.360047\n",
       "3   -1.146044  True  2.830075          0.207900   4.810011\n",
       "4   -1.777388  True -0.984186          0.116003   8.620477\n",
       "..        ...   ...       ...               ...        ...\n",
       "995 -0.182658  True  5.417711          0.430491   2.322928\n",
       "996 -1.189833  True  2.850478          0.200093   4.997673\n",
       "997 -0.480086  True  3.367830          0.352876   2.833854\n",
       "998  0.453010  True  6.140423          0.603030   1.658292\n",
       "999 -0.637419  True  4.481323          0.314499   3.179659\n",
       "\n",
       "[1000 rows x 5 columns]"
      ]
     },
     "execution_count": 7,
     "metadata": {},
     "output_type": "execute_result"
    }
   ],
   "source": [
    "cdf_1"
   ]
  },
  {
   "cell_type": "markdown",
   "metadata": {},
   "source": [
    "## Comparing the estimate to Linear Regression\n",
    "First, estimating the effect using the causal data frame, and the 95% confidence interval."
   ]
  },
  {
   "cell_type": "code",
   "execution_count": 8,
   "metadata": {
    "execution": {
     "iopub.execute_input": "2022-08-08T04:36:33.896258Z",
     "iopub.status.busy": "2022-08-08T04:36:33.895966Z",
     "iopub.status.idle": "2022-08-08T04:36:34.018479Z",
     "shell.execute_reply": "2022-08-08T04:36:34.017548Z"
    }
   },
   "outputs": [
    {
     "data": {
      "image/png": "[encoded data removed]",
      "text/latex": [
       "$\\displaystyle 4.9631921167357$"
      ],
      "text/plain": [
       "4.963192116735703"
      ]
     },
     "execution_count": 8,
     "metadata": {},
     "output_type": "execute_result"
    }
   ],
   "source": [
    "(cdf_1['y'] - cdf_0['y']).mean()"
   ]
  },
  {
   "cell_type": "code",
   "execution_count": 9,
   "metadata": {
    "execution": {
     "iopub.execute_input": "2022-08-08T04:36:34.022786Z",
     "iopub.status.busy": "2022-08-08T04:36:34.022117Z",
     "iopub.status.idle": "2022-08-08T04:36:34.051980Z",
     "shell.execute_reply": "2022-08-08T04:36:34.051085Z"
    }
   },
   "outputs": [
    {
     "data": {
      "image/png": "[encoded data removed]",
      "text/latex": [
       "$\\displaystyle 0.217205432632043$"
      ],
      "text/plain": [
       "0.21720543263204342"
      ]
     },
     "execution_count": 9,
     "metadata": {},
     "output_type": "execute_result"
    }
   ],
   "source": [
    "1.96*(cdf_1['y'] - cdf_0['y']).std() / np.sqrt(len(df))"
   ]
  },
  {
   "cell_type": "markdown",
   "metadata": {},
   "source": [
    "Comparing to the estimate from OLS."
   ]
  },
  {
   "cell_type": "code",
   "execution_count": 10,
   "metadata": {
    "execution": {
     "iopub.execute_input": "2022-08-08T04:36:34.056428Z",
     "iopub.status.busy": "2022-08-08T04:36:34.056125Z",
     "iopub.status.idle": "2022-08-08T04:36:34.075682Z",
     "shell.execute_reply": "2022-08-08T04:36:34.074913Z"
    }
   },
   "outputs": [
    {
     "data": {
      "text/html": [
       "<table class=\"simpletable\">\n",
       "<caption>OLS Regression Results</caption>\n",
       "<tr>\n",
       "  <th>Dep. Variable:</th>            <td>y</td>        <th>  R-squared (uncentered):</th>      <td>   0.934</td>\n",
       "</tr>\n",
       "<tr>\n",
       "  <th>Model:</th>                   <td>OLS</td>       <th>  Adj. R-squared (uncentered):</th> <td>   0.934</td>\n",
       "</tr>\n",
       "<tr>\n",
       "  <th>Method:</th>             <td>Least Squares</td>  <th>  F-statistic:       </th>          <td>   7110.</td>\n",
       "</tr>\n",
       "<tr>\n",
       "  <th>Date:</th>             <td>Mon, 08 Aug 2022</td> <th>  Prob (F-statistic):</th>           <td>  0.00</td> \n",
       "</tr>\n",
       "<tr>\n",
       "  <th>Time:</th>                 <td>04:36:34</td>     <th>  Log-Likelihood:    </th>          <td> -1440.8</td>\n",
       "</tr>\n",
       "<tr>\n",
       "  <th>No. Observations:</th>      <td>  1000</td>      <th>  AIC:               </th>          <td>   2886.</td>\n",
       "</tr>\n",
       "<tr>\n",
       "  <th>Df Residuals:</th>          <td>   998</td>      <th>  BIC:               </th>          <td>   2895.</td>\n",
       "</tr>\n",
       "<tr>\n",
       "  <th>Df Model:</th>              <td>     2</td>      <th>                     </th>              <td> </td>   \n",
       "</tr>\n",
       "<tr>\n",
       "  <th>Covariance Type:</th>      <td>nonrobust</td>    <th>                     </th>              <td> </td>   \n",
       "</tr>\n",
       "</table>\n",
       "<table class=\"simpletable\">\n",
       "<tr>\n",
       "   <td></td>     <th>coef</th>     <th>std err</th>      <th>t</th>      <th>P>|t|</th>  <th>[0.025</th>    <th>0.975]</th>  \n",
       "</tr>\n",
       "<tr>\n",
       "  <th>x1</th> <td>    2.2633</td> <td>    0.024</td> <td>   93.451</td> <td> 0.000</td> <td>    2.216</td> <td>    2.311</td>\n",
       "</tr>\n",
       "<tr>\n",
       "  <th>x2</th> <td>    5.0639</td> <td>    0.060</td> <td>   83.916</td> <td> 0.000</td> <td>    4.945</td> <td>    5.182</td>\n",
       "</tr>\n",
       "</table>\n",
       "<table class=\"simpletable\">\n",
       "<tr>\n",
       "  <th>Omnibus:</th>       <td> 2.765</td> <th>  Durbin-Watson:     </th> <td>   1.950</td>\n",
       "</tr>\n",
       "<tr>\n",
       "  <th>Prob(Omnibus):</th> <td> 0.251</td> <th>  Jarque-Bera (JB):  </th> <td>   2.831</td>\n",
       "</tr>\n",
       "<tr>\n",
       "  <th>Skew:</th>          <td> 0.124</td> <th>  Prob(JB):          </th> <td>   0.243</td>\n",
       "</tr>\n",
       "<tr>\n",
       "  <th>Kurtosis:</th>      <td> 2.917</td> <th>  Cond. No.          </th> <td>    2.51</td>\n",
       "</tr>\n",
       "</table><br/><br/>Notes:<br/>[1] R² is computed without centering (uncentered) since the model does not contain a constant.<br/>[2] Standard Errors assume that the covariance matrix of the errors is correctly specified."
      ],
      "text/plain": [
       "<class 'statsmodels.iolib.summary.Summary'>\n",
       "\"\"\"\n",
       "                                 OLS Regression Results                                \n",
       "=======================================================================================\n",
       "Dep. Variable:                      y   R-squared (uncentered):                   0.934\n",
       "Model:                            OLS   Adj. R-squared (uncentered):              0.934\n",
       "Method:                 Least Squares   F-statistic:                              7110.\n",
       "Date:                Mon, 08 Aug 2022   Prob (F-statistic):                        0.00\n",
       "Time:                        04:36:34   Log-Likelihood:                         -1440.8\n",
       "No. Observations:                1000   AIC:                                      2886.\n",
       "Df Residuals:                     998   BIC:                                      2895.\n",
       "Df Model:                           2                                                  \n",
       "Covariance Type:            nonrobust                                                  \n",
       "==============================================================================\n",
       "                 coef    std err          t      P>|t|      [0.025      0.975]\n",
       "------------------------------------------------------------------------------\n",
       "x1             2.2633      0.024     93.451      0.000       2.216       2.311\n",
       "x2             5.0639      0.060     83.916      0.000       4.945       5.182\n",
       "==============================================================================\n",
       "Omnibus:                        2.765   Durbin-Watson:                   1.950\n",
       "Prob(Omnibus):                  0.251   Jarque-Bera (JB):                2.831\n",
       "Skew:                           0.124   Prob(JB):                        0.243\n",
       "Kurtosis:                       2.917   Cond. No.                         2.51\n",
       "==============================================================================\n",
       "\n",
       "Notes:\n",
       "[1] R² is computed without centering (uncentered) since the model does not contain a constant.\n",
       "[2] Standard Errors assume that the covariance matrix of the errors is correctly specified.\n",
       "\"\"\""
      ]
     },
     "execution_count": 10,
     "metadata": {},
     "output_type": "execute_result"
    }
   ],
   "source": [
    "model = OLS(np.asarray(df[outcome]), np.asarray(df[[common_cause, treatment]], dtype=np.float64))\n",
    "result = model.fit()\n",
    "result.summary()"
   ]
  }
 ],
 "metadata": {
  "kernelspec": {
   "display_name": "Python 3",
   "language": "python",
   "name": "python3"
  },
  "language_info": {
   "codemirror_mode": {
    "name": "ipython",
    "version": 3
   },
   "file_extension": ".py",
   "mimetype": "text/x-python",
   "name": "python",
   "nbconvert_exporter": "python",
   "pygments_lexer": "ipython3",
   "version": "3.8.10"
  },
  "toc": {
   "base_numbering": 1,
   "nav_menu": {},
   "number_sections": false,
   "sideBar": true,
   "skip_h1_title": true,
   "title_cell": "Table of Contents",
   "title_sidebar": "Contents",
   "toc_cell": false,
   "toc_position": {},
   "toc_section_display": true,
   "toc_window_display": false
  }
 },
 "nbformat": 4,
 "nbformat_minor": 4
}
