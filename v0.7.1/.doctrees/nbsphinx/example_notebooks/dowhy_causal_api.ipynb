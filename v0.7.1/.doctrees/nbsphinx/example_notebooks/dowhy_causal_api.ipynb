{
 "cells": [
  {
   "cell_type": "markdown",
   "metadata": {},
   "source": [
    "# Demo for the DoWhy causal API\n",
    "We show a simple example of adding a causal extension to any dataframe. "
   ]
  },
  {
   "cell_type": "code",
   "execution_count": 1,
   "metadata": {
    "execution": {
     "iopub.execute_input": "2022-08-16T13:41:48.715214Z",
     "iopub.status.busy": "2022-08-16T13:41:48.714779Z",
     "iopub.status.idle": "2022-08-16T13:41:50.316176Z",
     "shell.execute_reply": "2022-08-16T13:41:50.315160Z"
    }
   },
   "outputs": [],
   "source": [
    "import dowhy.datasets\n",
    "import dowhy.api\n",
    "\n",
    "import numpy as np\n",
    "import pandas as pd\n",
    "\n",
    "from statsmodels.api import OLS"
   ]
  },
  {
   "cell_type": "code",
   "execution_count": 2,
   "metadata": {
    "execution": {
     "iopub.execute_input": "2022-08-16T13:41:50.321347Z",
     "iopub.status.busy": "2022-08-16T13:41:50.320837Z",
     "iopub.status.idle": "2022-08-16T13:41:50.392965Z",
     "shell.execute_reply": "2022-08-16T13:41:50.391589Z"
    }
   },
   "outputs": [
    {
     "data": {
      "text/html": [
       "<div>\n",
       "<style scoped>\n",
       "    .dataframe tbody tr th:only-of-type {\n",
       "        vertical-align: middle;\n",
       "    }\n",
       "\n",
       "    .dataframe tbody tr th {\n",
       "        vertical-align: top;\n",
       "    }\n",
       "\n",
       "    .dataframe thead th {\n",
       "        text-align: right;\n",
       "    }\n",
       "</style>\n",
       "<table border=\"1\" class=\"dataframe\">\n",
       "  <thead>\n",
       "    <tr style=\"text-align: right;\">\n",
       "      <th></th>\n",
       "      <th>W0</th>\n",
       "      <th>v0</th>\n",
       "      <th>y</th>\n",
       "    </tr>\n",
       "  </thead>\n",
       "  <tbody>\n",
       "    <tr>\n",
       "      <th>0</th>\n",
       "      <td>0.235590</td>\n",
       "      <td>False</td>\n",
       "      <td>-1.927445</td>\n",
       "    </tr>\n",
       "    <tr>\n",
       "      <th>1</th>\n",
       "      <td>-0.138515</td>\n",
       "      <td>True</td>\n",
       "      <td>4.699431</td>\n",
       "    </tr>\n",
       "    <tr>\n",
       "      <th>2</th>\n",
       "      <td>1.318997</td>\n",
       "      <td>False</td>\n",
       "      <td>0.369026</td>\n",
       "    </tr>\n",
       "    <tr>\n",
       "      <th>3</th>\n",
       "      <td>0.400672</td>\n",
       "      <td>True</td>\n",
       "      <td>6.129301</td>\n",
       "    </tr>\n",
       "    <tr>\n",
       "      <th>4</th>\n",
       "      <td>-0.725604</td>\n",
       "      <td>False</td>\n",
       "      <td>-0.026105</td>\n",
       "    </tr>\n",
       "    <tr>\n",
       "      <th>...</th>\n",
       "      <td>...</td>\n",
       "      <td>...</td>\n",
       "      <td>...</td>\n",
       "    </tr>\n",
       "    <tr>\n",
       "      <th>995</th>\n",
       "      <td>-0.251344</td>\n",
       "      <td>True</td>\n",
       "      <td>5.929147</td>\n",
       "    </tr>\n",
       "    <tr>\n",
       "      <th>996</th>\n",
       "      <td>1.071573</td>\n",
       "      <td>True</td>\n",
       "      <td>4.935116</td>\n",
       "    </tr>\n",
       "    <tr>\n",
       "      <th>997</th>\n",
       "      <td>1.257219</td>\n",
       "      <td>True</td>\n",
       "      <td>4.941646</td>\n",
       "    </tr>\n",
       "    <tr>\n",
       "      <th>998</th>\n",
       "      <td>0.224442</td>\n",
       "      <td>False</td>\n",
       "      <td>-0.493632</td>\n",
       "    </tr>\n",
       "    <tr>\n",
       "      <th>999</th>\n",
       "      <td>2.197252</td>\n",
       "      <td>True</td>\n",
       "      <td>5.391283</td>\n",
       "    </tr>\n",
       "  </tbody>\n",
       "</table>\n",
       "<p>1000 rows × 3 columns</p>\n",
       "</div>"
      ],
      "text/plain": [
       "           W0     v0         y\n",
       "0    0.235590  False -1.927445\n",
       "1   -0.138515   True  4.699431\n",
       "2    1.318997  False  0.369026\n",
       "3    0.400672   True  6.129301\n",
       "4   -0.725604  False -0.026105\n",
       "..        ...    ...       ...\n",
       "995 -0.251344   True  5.929147\n",
       "996  1.071573   True  4.935116\n",
       "997  1.257219   True  4.941646\n",
       "998  0.224442  False -0.493632\n",
       "999  2.197252   True  5.391283\n",
       "\n",
       "[1000 rows x 3 columns]"
      ]
     },
     "execution_count": 2,
     "metadata": {},
     "output_type": "execute_result"
    }
   ],
   "source": [
    "data = dowhy.datasets.linear_dataset(beta=5,\n",
    "        num_common_causes=1,\n",
    "        num_instruments = 0,\n",
    "        num_samples=1000,\n",
    "        treatment_is_binary=True)\n",
    "df = data['df']\n",
    "df['y'] = df['y'] + np.random.normal(size=len(df)) # Adding noise to data. Without noise, the variance in Y|X, Z is zero, and mcmc fails.\n",
    "#data['dot_graph'] = 'digraph { v ->y;X0-> v;X0-> y;}'\n",
    "\n",
    "treatment= data[\"treatment_name\"][0]\n",
    "outcome = data[\"outcome_name\"][0]\n",
    "common_cause = data[\"common_causes_names\"][0]\n",
    "df"
   ]
  },
  {
   "cell_type": "code",
   "execution_count": 3,
   "metadata": {
    "execution": {
     "iopub.execute_input": "2022-08-16T13:41:50.396789Z",
     "iopub.status.busy": "2022-08-16T13:41:50.396388Z",
     "iopub.status.idle": "2022-08-16T13:41:51.410018Z",
     "shell.execute_reply": "2022-08-16T13:41:51.409144Z"
    }
   },
   "outputs": [
    {
     "data": {
      "text/plain": [
       "<AxesSubplot:xlabel='v0'>"
      ]
     },
     "execution_count": 3,
     "metadata": {},
     "output_type": "execute_result"
    },
    {
     "data": {
      "image/png": "[encoded data removed]",
      "text/plain": [
       "<Figure size 432x288 with 1 Axes>"
      ]
     },
     "metadata": {
      "needs_background": "light"
     },
     "output_type": "display_data"
    }
   ],
   "source": [
    "# data['df'] is just a regular pandas.DataFrame\n",
    "df.causal.do(x=treatment,\n",
    "                     variable_types={treatment: 'b', outcome: 'c', common_cause: 'c'},\n",
    "                     outcome=outcome,\n",
    "                     common_causes=[common_cause],\n",
    "                     proceed_when_unidentifiable=True).groupby(treatment).mean().plot(y=outcome, kind='bar')"
   ]
  },
  {
   "cell_type": "code",
   "execution_count": 4,
   "metadata": {
    "execution": {
     "iopub.execute_input": "2022-08-16T13:41:51.414135Z",
     "iopub.status.busy": "2022-08-16T13:41:51.413680Z",
     "iopub.status.idle": "2022-08-16T13:41:51.588875Z",
     "shell.execute_reply": "2022-08-16T13:41:51.587721Z"
    }
   },
   "outputs": [
    {
     "data": {
      "text/plain": [
       "<AxesSubplot:xlabel='v0'>"
      ]
     },
     "execution_count": 4,
     "metadata": {},
     "output_type": "execute_result"
    },
    {
     "data": {
      "image/png": "[encoded data removed]",
      "text/plain": [
       "<Figure size 432x288 with 1 Axes>"
      ]
     },
     "metadata": {
      "needs_background": "light"
     },
     "output_type": "display_data"
    }
   ],
   "source": [
    "df.causal.do(x={treatment: 1}, \n",
    "              variable_types={treatment:'b', outcome: 'c', common_cause: 'c'}, \n",
    "              outcome=outcome,\n",
    "              method='weighting', \n",
    "              common_causes=[common_cause],\n",
    "              proceed_when_unidentifiable=True).groupby(treatment).mean().plot(y=outcome, kind='bar')"
   ]
  },
  {
   "cell_type": "code",
   "execution_count": 5,
   "metadata": {
    "execution": {
     "iopub.execute_input": "2022-08-16T13:41:51.593190Z",
     "iopub.status.busy": "2022-08-16T13:41:51.592401Z",
     "iopub.status.idle": "2022-08-16T13:41:51.640669Z",
     "shell.execute_reply": "2022-08-16T13:41:51.639470Z"
    }
   },
   "outputs": [],
   "source": [
    "cdf_1 = df.causal.do(x={treatment: 1}, \n",
    "              variable_types={treatment: 'b', outcome: 'c', common_cause: 'c'}, \n",
    "              outcome=outcome, \n",
    "              dot_graph=data['dot_graph'],\n",
    "              proceed_when_unidentifiable=True)\n",
    "\n",
    "cdf_0 = df.causal.do(x={treatment: 0}, \n",
    "              variable_types={treatment: 'b', outcome: 'c', common_cause: 'c'}, \n",
    "              outcome=outcome, \n",
    "              dot_graph=data['dot_graph'],\n",
    "              proceed_when_unidentifiable=True)\n"
   ]
  },
  {
   "cell_type": "code",
   "execution_count": 6,
   "metadata": {
    "execution": {
     "iopub.execute_input": "2022-08-16T13:41:51.645590Z",
     "iopub.status.busy": "2022-08-16T13:41:51.644520Z",
     "iopub.status.idle": "2022-08-16T13:41:51.660227Z",
     "shell.execute_reply": "2022-08-16T13:41:51.659478Z"
    },
    "scrolled": true
   },
   "outputs": [
    {
     "data": {
      "text/html": [
       "<div>\n",
       "<style scoped>\n",
       "    .dataframe tbody tr th:only-of-type {\n",
       "        vertical-align: middle;\n",
       "    }\n",
       "\n",
       "    .dataframe tbody tr th {\n",
       "        vertical-align: top;\n",
       "    }\n",
       "\n",
       "    .dataframe thead th {\n",
       "        text-align: right;\n",
       "    }\n",
       "</style>\n",
       "<table border=\"1\" class=\"dataframe\">\n",
       "  <thead>\n",
       "    <tr style=\"text-align: right;\">\n",
       "      <th></th>\n",
       "      <th>W0</th>\n",
       "      <th>v0</th>\n",
       "      <th>y</th>\n",
       "      <th>propensity_score</th>\n",
       "      <th>weight</th>\n",
       "    </tr>\n",
       "  </thead>\n",
       "  <tbody>\n",
       "    <tr>\n",
       "      <th>0</th>\n",
       "      <td>1.385684</td>\n",
       "      <td>False</td>\n",
       "      <td>-0.816065</td>\n",
       "      <td>0.258356</td>\n",
       "      <td>3.870635</td>\n",
       "    </tr>\n",
       "    <tr>\n",
       "      <th>1</th>\n",
       "      <td>0.925042</td>\n",
       "      <td>False</td>\n",
       "      <td>1.371057</td>\n",
       "      <td>0.333505</td>\n",
       "      <td>2.998456</td>\n",
       "    </tr>\n",
       "    <tr>\n",
       "      <th>2</th>\n",
       "      <td>-0.460712</td>\n",
       "      <td>False</td>\n",
       "      <td>0.477768</td>\n",
       "      <td>0.597993</td>\n",
       "      <td>1.672261</td>\n",
       "    </tr>\n",
       "    <tr>\n",
       "      <th>3</th>\n",
       "      <td>1.148797</td>\n",
       "      <td>False</td>\n",
       "      <td>0.580232</td>\n",
       "      <td>0.295610</td>\n",
       "      <td>3.382837</td>\n",
       "    </tr>\n",
       "    <tr>\n",
       "      <th>4</th>\n",
       "      <td>1.012931</td>\n",
       "      <td>False</td>\n",
       "      <td>-0.517560</td>\n",
       "      <td>0.318326</td>\n",
       "      <td>3.141430</td>\n",
       "    </tr>\n",
       "    <tr>\n",
       "      <th>...</th>\n",
       "      <td>...</td>\n",
       "      <td>...</td>\n",
       "      <td>...</td>\n",
       "      <td>...</td>\n",
       "      <td>...</td>\n",
       "    </tr>\n",
       "    <tr>\n",
       "      <th>995</th>\n",
       "      <td>0.636630</td>\n",
       "      <td>False</td>\n",
       "      <td>0.106068</td>\n",
       "      <td>0.385652</td>\n",
       "      <td>2.593009</td>\n",
       "    </tr>\n",
       "    <tr>\n",
       "      <th>996</th>\n",
       "      <td>1.174959</td>\n",
       "      <td>False</td>\n",
       "      <td>-0.336483</td>\n",
       "      <td>0.291345</td>\n",
       "      <td>3.432357</td>\n",
       "    </tr>\n",
       "    <tr>\n",
       "      <th>997</th>\n",
       "      <td>1.445152</td>\n",
       "      <td>False</td>\n",
       "      <td>3.044493</td>\n",
       "      <td>0.249499</td>\n",
       "      <td>4.008035</td>\n",
       "    </tr>\n",
       "    <tr>\n",
       "      <th>998</th>\n",
       "      <td>0.016808</td>\n",
       "      <td>False</td>\n",
       "      <td>1.501700</td>\n",
       "      <td>0.505420</td>\n",
       "      <td>1.978552</td>\n",
       "    </tr>\n",
       "    <tr>\n",
       "      <th>999</th>\n",
       "      <td>1.280373</td>\n",
       "      <td>False</td>\n",
       "      <td>0.973628</td>\n",
       "      <td>0.274534</td>\n",
       "      <td>3.642531</td>\n",
       "    </tr>\n",
       "  </tbody>\n",
       "</table>\n",
       "<p>1000 rows × 5 columns</p>\n",
       "</div>"
      ],
      "text/plain": [
       "           W0     v0         y  propensity_score    weight\n",
       "0    1.385684  False -0.816065          0.258356  3.870635\n",
       "1    0.925042  False  1.371057          0.333505  2.998456\n",
       "2   -0.460712  False  0.477768          0.597993  1.672261\n",
       "3    1.148797  False  0.580232          0.295610  3.382837\n",
       "4    1.012931  False -0.517560          0.318326  3.141430\n",
       "..        ...    ...       ...               ...       ...\n",
       "995  0.636630  False  0.106068          0.385652  2.593009\n",
       "996  1.174959  False -0.336483          0.291345  3.432357\n",
       "997  1.445152  False  3.044493          0.249499  4.008035\n",
       "998  0.016808  False  1.501700          0.505420  1.978552\n",
       "999  1.280373  False  0.973628          0.274534  3.642531\n",
       "\n",
       "[1000 rows x 5 columns]"
      ]
     },
     "execution_count": 6,
     "metadata": {},
     "output_type": "execute_result"
    }
   ],
   "source": [
    "cdf_0"
   ]
  },
  {
   "cell_type": "code",
   "execution_count": 7,
   "metadata": {
    "execution": {
     "iopub.execute_input": "2022-08-16T13:41:51.663958Z",
     "iopub.status.busy": "2022-08-16T13:41:51.663565Z",
     "iopub.status.idle": "2022-08-16T13:41:51.685409Z",
     "shell.execute_reply": "2022-08-16T13:41:51.684481Z"
    }
   },
   "outputs": [
    {
     "data": {
      "text/html": [
       "<div>\n",
       "<style scoped>\n",
       "    .dataframe tbody tr th:only-of-type {\n",
       "        vertical-align: middle;\n",
       "    }\n",
       "\n",
       "    .dataframe tbody tr th {\n",
       "        vertical-align: top;\n",
       "    }\n",
       "\n",
       "    .dataframe thead th {\n",
       "        text-align: right;\n",
       "    }\n",
       "</style>\n",
       "<table border=\"1\" class=\"dataframe\">\n",
       "  <thead>\n",
       "    <tr style=\"text-align: right;\">\n",
       "      <th></th>\n",
       "      <th>W0</th>\n",
       "      <th>v0</th>\n",
       "      <th>y</th>\n",
       "      <th>propensity_score</th>\n",
       "      <th>weight</th>\n",
       "    </tr>\n",
       "  </thead>\n",
       "  <tbody>\n",
       "    <tr>\n",
       "      <th>0</th>\n",
       "      <td>0.422091</td>\n",
       "      <td>True</td>\n",
       "      <td>3.209011</td>\n",
       "      <td>0.573698</td>\n",
       "      <td>1.743078</td>\n",
       "    </tr>\n",
       "    <tr>\n",
       "      <th>1</th>\n",
       "      <td>-1.821423</td>\n",
       "      <td>True</td>\n",
       "      <td>4.888212</td>\n",
       "      <td>0.187414</td>\n",
       "      <td>5.335786</td>\n",
       "    </tr>\n",
       "    <tr>\n",
       "      <th>2</th>\n",
       "      <td>2.328133</td>\n",
       "      <td>True</td>\n",
       "      <td>4.546269</td>\n",
       "      <td>0.857599</td>\n",
       "      <td>1.166046</td>\n",
       "    </tr>\n",
       "    <tr>\n",
       "      <th>3</th>\n",
       "      <td>-0.321664</td>\n",
       "      <td>True</td>\n",
       "      <td>2.364813</td>\n",
       "      <td>0.428545</td>\n",
       "      <td>2.333475</td>\n",
       "    </tr>\n",
       "    <tr>\n",
       "      <th>4</th>\n",
       "      <td>2.448271</td>\n",
       "      <td>True</td>\n",
       "      <td>7.385566</td>\n",
       "      <td>0.868749</td>\n",
       "      <td>1.151081</td>\n",
       "    </tr>\n",
       "    <tr>\n",
       "      <th>...</th>\n",
       "      <td>...</td>\n",
       "      <td>...</td>\n",
       "      <td>...</td>\n",
       "      <td>...</td>\n",
       "      <td>...</td>\n",
       "    </tr>\n",
       "    <tr>\n",
       "      <th>995</th>\n",
       "      <td>1.506348</td>\n",
       "      <td>True</td>\n",
       "      <td>6.957432</td>\n",
       "      <td>0.759401</td>\n",
       "      <td>1.316827</td>\n",
       "    </tr>\n",
       "    <tr>\n",
       "      <th>996</th>\n",
       "      <td>0.688487</td>\n",
       "      <td>True</td>\n",
       "      <td>5.355686</td>\n",
       "      <td>0.623961</td>\n",
       "      <td>1.602664</td>\n",
       "    </tr>\n",
       "    <tr>\n",
       "      <th>997</th>\n",
       "      <td>0.228848</td>\n",
       "      <td>True</td>\n",
       "      <td>6.008927</td>\n",
       "      <td>0.536193</td>\n",
       "      <td>1.865000</td>\n",
       "    </tr>\n",
       "    <tr>\n",
       "      <th>998</th>\n",
       "      <td>0.525638</td>\n",
       "      <td>True</td>\n",
       "      <td>4.406645</td>\n",
       "      <td>0.593478</td>\n",
       "      <td>1.684982</td>\n",
       "    </tr>\n",
       "    <tr>\n",
       "      <th>999</th>\n",
       "      <td>2.164821</td>\n",
       "      <td>True</td>\n",
       "      <td>5.182541</td>\n",
       "      <td>0.841188</td>\n",
       "      <td>1.188795</td>\n",
       "    </tr>\n",
       "  </tbody>\n",
       "</table>\n",
       "<p>1000 rows × 5 columns</p>\n",
       "</div>"
      ],
      "text/plain": [
       "           W0    v0         y  propensity_score    weight\n",
       "0    0.422091  True  3.209011          0.573698  1.743078\n",
       "1   -1.821423  True  4.888212          0.187414  5.335786\n",
       "2    2.328133  True  4.546269          0.857599  1.166046\n",
       "3   -0.321664  True  2.364813          0.428545  2.333475\n",
       "4    2.448271  True  7.385566          0.868749  1.151081\n",
       "..        ...   ...       ...               ...       ...\n",
       "995  1.506348  True  6.957432          0.759401  1.316827\n",
       "996  0.688487  True  5.355686          0.623961  1.602664\n",
       "997  0.228848  True  6.008927          0.536193  1.865000\n",
       "998  0.525638  True  4.406645          0.593478  1.684982\n",
       "999  2.164821  True  5.182541          0.841188  1.188795\n",
       "\n",
       "[1000 rows x 5 columns]"
      ]
     },
     "execution_count": 7,
     "metadata": {},
     "output_type": "execute_result"
    }
   ],
   "source": [
    "cdf_1"
   ]
  },
  {
   "cell_type": "markdown",
   "metadata": {},
   "source": [
    "## Comparing the estimate to Linear Regression\n",
    "First, estimating the effect using the causal data frame, and the 95% confidence interval."
   ]
  },
  {
   "cell_type": "code",
   "execution_count": 8,
   "metadata": {
    "execution": {
     "iopub.execute_input": "2022-08-16T13:41:51.690001Z",
     "iopub.status.busy": "2022-08-16T13:41:51.689677Z",
     "iopub.status.idle": "2022-08-16T13:41:51.829172Z",
     "shell.execute_reply": "2022-08-16T13:41:51.828282Z"
    }
   },
   "outputs": [
    {
     "data": {
      "image/png": "[encoded data removed]",
      "text/latex": [
       "$\\displaystyle 4.89595082440076$"
      ],
      "text/plain": [
       "4.895950824400763"
      ]
     },
     "execution_count": 8,
     "metadata": {},
     "output_type": "execute_result"
    }
   ],
   "source": [
    "(cdf_1['y'] - cdf_0['y']).mean()"
   ]
  },
  {
   "cell_type": "code",
   "execution_count": 9,
   "metadata": {
    "execution": {
     "iopub.execute_input": "2022-08-16T13:41:51.832633Z",
     "iopub.status.busy": "2022-08-16T13:41:51.832375Z",
     "iopub.status.idle": "2022-08-16T13:41:51.869251Z",
     "shell.execute_reply": "2022-08-16T13:41:51.868111Z"
    }
   },
   "outputs": [
    {
     "data": {
      "image/png": "[encoded data removed]",
      "text/latex": [
       "$\\displaystyle 0.0923132375825261$"
      ],
      "text/plain": [
       "0.09231323758252606"
      ]
     },
     "execution_count": 9,
     "metadata": {},
     "output_type": "execute_result"
    }
   ],
   "source": [
    "1.96*(cdf_1['y'] - cdf_0['y']).std() / np.sqrt(len(df))"
   ]
  },
  {
   "cell_type": "markdown",
   "metadata": {},
   "source": [
    "Comparing to the estimate from OLS."
   ]
  },
  {
   "cell_type": "code",
   "execution_count": 10,
   "metadata": {
    "execution": {
     "iopub.execute_input": "2022-08-16T13:41:51.875685Z",
     "iopub.status.busy": "2022-08-16T13:41:51.875002Z",
     "iopub.status.idle": "2022-08-16T13:41:51.899650Z",
     "shell.execute_reply": "2022-08-16T13:41:51.898872Z"
    }
   },
   "outputs": [
    {
     "data": {
      "text/html": [
       "<table class=\"simpletable\">\n",
       "<caption>OLS Regression Results</caption>\n",
       "<tr>\n",
       "  <th>Dep. Variable:</th>            <td>y</td>        <th>  R-squared (uncentered):</th>      <td>   0.941</td>\n",
       "</tr>\n",
       "<tr>\n",
       "  <th>Model:</th>                   <td>OLS</td>       <th>  Adj. R-squared (uncentered):</th> <td>   0.941</td>\n",
       "</tr>\n",
       "<tr>\n",
       "  <th>Method:</th>             <td>Least Squares</td>  <th>  F-statistic:       </th>          <td>   7970.</td>\n",
       "</tr>\n",
       "<tr>\n",
       "  <th>Date:</th>             <td>Tue, 16 Aug 2022</td> <th>  Prob (F-statistic):</th>           <td>  0.00</td> \n",
       "</tr>\n",
       "<tr>\n",
       "  <th>Time:</th>                 <td>13:41:51</td>     <th>  Log-Likelihood:    </th>          <td> -1420.3</td>\n",
       "</tr>\n",
       "<tr>\n",
       "  <th>No. Observations:</th>      <td>  1000</td>      <th>  AIC:               </th>          <td>   2845.</td>\n",
       "</tr>\n",
       "<tr>\n",
       "  <th>Df Residuals:</th>          <td>   998</td>      <th>  BIC:               </th>          <td>   2854.</td>\n",
       "</tr>\n",
       "<tr>\n",
       "  <th>Df Model:</th>              <td>     2</td>      <th>                     </th>              <td> </td>   \n",
       "</tr>\n",
       "<tr>\n",
       "  <th>Covariance Type:</th>      <td>nonrobust</td>    <th>                     </th>              <td> </td>   \n",
       "</tr>\n",
       "</table>\n",
       "<table class=\"simpletable\">\n",
       "<tr>\n",
       "   <td></td>     <th>coef</th>     <th>std err</th>      <th>t</th>      <th>P>|t|</th>  <th>[0.025</th>    <th>0.975]</th>  \n",
       "</tr>\n",
       "<tr>\n",
       "  <th>x1</th> <td>    0.1864</td> <td>    0.032</td> <td>    5.825</td> <td> 0.000</td> <td>    0.124</td> <td>    0.249</td>\n",
       "</tr>\n",
       "<tr>\n",
       "  <th>x2</th> <td>    4.9602</td> <td>    0.051</td> <td>   97.125</td> <td> 0.000</td> <td>    4.860</td> <td>    5.060</td>\n",
       "</tr>\n",
       "</table>\n",
       "<table class=\"simpletable\">\n",
       "<tr>\n",
       "  <th>Omnibus:</th>       <td> 2.485</td> <th>  Durbin-Watson:     </th> <td>   2.100</td>\n",
       "</tr>\n",
       "<tr>\n",
       "  <th>Prob(Omnibus):</th> <td> 0.289</td> <th>  Jarque-Bera (JB):  </th> <td>   2.588</td>\n",
       "</tr>\n",
       "<tr>\n",
       "  <th>Skew:</th>          <td>-0.030</td> <th>  Prob(JB):          </th> <td>   0.274</td>\n",
       "</tr>\n",
       "<tr>\n",
       "  <th>Kurtosis:</th>      <td> 3.242</td> <th>  Cond. No.          </th> <td>    2.36</td>\n",
       "</tr>\n",
       "</table><br/><br/>Notes:<br/>[1] R² is computed without centering (uncentered) since the model does not contain a constant.<br/>[2] Standard Errors assume that the covariance matrix of the errors is correctly specified."
      ],
      "text/plain": [
       "<class 'statsmodels.iolib.summary.Summary'>\n",
       "\"\"\"\n",
       "                                 OLS Regression Results                                \n",
       "=======================================================================================\n",
       "Dep. Variable:                      y   R-squared (uncentered):                   0.941\n",
       "Model:                            OLS   Adj. R-squared (uncentered):              0.941\n",
       "Method:                 Least Squares   F-statistic:                              7970.\n",
       "Date:                Tue, 16 Aug 2022   Prob (F-statistic):                        0.00\n",
       "Time:                        13:41:51   Log-Likelihood:                         -1420.3\n",
       "No. Observations:                1000   AIC:                                      2845.\n",
       "Df Residuals:                     998   BIC:                                      2854.\n",
       "Df Model:                           2                                                  \n",
       "Covariance Type:            nonrobust                                                  \n",
       "==============================================================================\n",
       "                 coef    std err          t      P>|t|      [0.025      0.975]\n",
       "------------------------------------------------------------------------------\n",
       "x1             0.1864      0.032      5.825      0.000       0.124       0.249\n",
       "x2             4.9602      0.051     97.125      0.000       4.860       5.060\n",
       "==============================================================================\n",
       "Omnibus:                        2.485   Durbin-Watson:                   2.100\n",
       "Prob(Omnibus):                  0.289   Jarque-Bera (JB):                2.588\n",
       "Skew:                          -0.030   Prob(JB):                        0.274\n",
       "Kurtosis:                       3.242   Cond. No.                         2.36\n",
       "==============================================================================\n",
       "\n",
       "Notes:\n",
       "[1] R² is computed without centering (uncentered) since the model does not contain a constant.\n",
       "[2] Standard Errors assume that the covariance matrix of the errors is correctly specified.\n",
       "\"\"\""
      ]
     },
     "execution_count": 10,
     "metadata": {},
     "output_type": "execute_result"
    }
   ],
   "source": [
    "model = OLS(np.asarray(df[outcome]), np.asarray(df[[common_cause, treatment]], dtype=np.float64))\n",
    "result = model.fit()\n",
    "result.summary()"
   ]
  }
 ],
 "metadata": {
  "kernelspec": {
   "display_name": "Python 3",
   "language": "python",
   "name": "python3"
  },
  "language_info": {
   "codemirror_mode": {
    "name": "ipython",
    "version": 3
   },
   "file_extension": ".py",
   "mimetype": "text/x-python",
   "name": "python",
   "nbconvert_exporter": "python",
   "pygments_lexer": "ipython3",
   "version": "3.8.10"
  },
  "toc": {
   "base_numbering": 1,
   "nav_menu": {},
   "number_sections": false,
   "sideBar": true,
   "skip_h1_title": true,
   "title_cell": "Table of Contents",
   "title_sidebar": "Contents",
   "toc_cell": false,
   "toc_position": {},
   "toc_section_display": true,
   "toc_window_display": false
  }
 },
 "nbformat": 4,
 "nbformat_minor": 4
}
