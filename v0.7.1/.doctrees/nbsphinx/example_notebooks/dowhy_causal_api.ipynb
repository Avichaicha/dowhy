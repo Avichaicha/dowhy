{
 "cells": [
  {
   "cell_type": "markdown",
   "metadata": {},
   "source": [
    "# Demo for the DoWhy causal API\n",
    "We show a simple example of adding a causal extension to any dataframe. "
   ]
  },
  {
   "cell_type": "code",
   "execution_count": 1,
   "metadata": {
    "execution": {
     "iopub.execute_input": "2022-09-02T09:09:02.802888Z",
     "iopub.status.busy": "2022-09-02T09:09:02.801879Z",
     "iopub.status.idle": "2022-09-02T09:09:04.382431Z",
     "shell.execute_reply": "2022-09-02T09:09:04.381236Z"
    }
   },
   "outputs": [],
   "source": [
    "import dowhy.datasets\n",
    "import dowhy.api\n",
    "\n",
    "import numpy as np\n",
    "import pandas as pd\n",
    "\n",
    "from statsmodels.api import OLS"
   ]
  },
  {
   "cell_type": "code",
   "execution_count": 2,
   "metadata": {
    "execution": {
     "iopub.execute_input": "2022-09-02T09:09:04.387200Z",
     "iopub.status.busy": "2022-09-02T09:09:04.386749Z",
     "iopub.status.idle": "2022-09-02T09:09:04.448284Z",
     "shell.execute_reply": "2022-09-02T09:09:04.447483Z"
    }
   },
   "outputs": [
    {
     "data": {
      "text/html": [
       "<div>\n",
       "<style scoped>\n",
       "    .dataframe tbody tr th:only-of-type {\n",
       "        vertical-align: middle;\n",
       "    }\n",
       "\n",
       "    .dataframe tbody tr th {\n",
       "        vertical-align: top;\n",
       "    }\n",
       "\n",
       "    .dataframe thead th {\n",
       "        text-align: right;\n",
       "    }\n",
       "</style>\n",
       "<table border=\"1\" class=\"dataframe\">\n",
       "  <thead>\n",
       "    <tr style=\"text-align: right;\">\n",
       "      <th></th>\n",
       "      <th>W0</th>\n",
       "      <th>v0</th>\n",
       "      <th>y</th>\n",
       "    </tr>\n",
       "  </thead>\n",
       "  <tbody>\n",
       "    <tr>\n",
       "      <th>0</th>\n",
       "      <td>-0.207692</td>\n",
       "      <td>True</td>\n",
       "      <td>4.164777</td>\n",
       "    </tr>\n",
       "    <tr>\n",
       "      <th>1</th>\n",
       "      <td>-0.459890</td>\n",
       "      <td>False</td>\n",
       "      <td>-0.604023</td>\n",
       "    </tr>\n",
       "    <tr>\n",
       "      <th>2</th>\n",
       "      <td>-0.076955</td>\n",
       "      <td>False</td>\n",
       "      <td>-0.324600</td>\n",
       "    </tr>\n",
       "    <tr>\n",
       "      <th>3</th>\n",
       "      <td>0.426903</td>\n",
       "      <td>False</td>\n",
       "      <td>-0.376944</td>\n",
       "    </tr>\n",
       "    <tr>\n",
       "      <th>4</th>\n",
       "      <td>1.736633</td>\n",
       "      <td>False</td>\n",
       "      <td>0.020950</td>\n",
       "    </tr>\n",
       "    <tr>\n",
       "      <th>...</th>\n",
       "      <td>...</td>\n",
       "      <td>...</td>\n",
       "      <td>...</td>\n",
       "    </tr>\n",
       "    <tr>\n",
       "      <th>995</th>\n",
       "      <td>-0.586682</td>\n",
       "      <td>False</td>\n",
       "      <td>-2.282914</td>\n",
       "    </tr>\n",
       "    <tr>\n",
       "      <th>996</th>\n",
       "      <td>-1.638754</td>\n",
       "      <td>False</td>\n",
       "      <td>0.066172</td>\n",
       "    </tr>\n",
       "    <tr>\n",
       "      <th>997</th>\n",
       "      <td>0.823974</td>\n",
       "      <td>True</td>\n",
       "      <td>5.351142</td>\n",
       "    </tr>\n",
       "    <tr>\n",
       "      <th>998</th>\n",
       "      <td>0.694116</td>\n",
       "      <td>False</td>\n",
       "      <td>0.178229</td>\n",
       "    </tr>\n",
       "    <tr>\n",
       "      <th>999</th>\n",
       "      <td>-1.854864</td>\n",
       "      <td>False</td>\n",
       "      <td>-0.908442</td>\n",
       "    </tr>\n",
       "  </tbody>\n",
       "</table>\n",
       "<p>1000 rows × 3 columns</p>\n",
       "</div>"
      ],
      "text/plain": [
       "           W0     v0         y\n",
       "0   -0.207692   True  4.164777\n",
       "1   -0.459890  False -0.604023\n",
       "2   -0.076955  False -0.324600\n",
       "3    0.426903  False -0.376944\n",
       "4    1.736633  False  0.020950\n",
       "..        ...    ...       ...\n",
       "995 -0.586682  False -2.282914\n",
       "996 -1.638754  False  0.066172\n",
       "997  0.823974   True  5.351142\n",
       "998  0.694116  False  0.178229\n",
       "999 -1.854864  False -0.908442\n",
       "\n",
       "[1000 rows x 3 columns]"
      ]
     },
     "execution_count": 2,
     "metadata": {},
     "output_type": "execute_result"
    }
   ],
   "source": [
    "data = dowhy.datasets.linear_dataset(beta=5,\n",
    "        num_common_causes=1,\n",
    "        num_instruments = 0,\n",
    "        num_samples=1000,\n",
    "        treatment_is_binary=True)\n",
    "df = data['df']\n",
    "df['y'] = df['y'] + np.random.normal(size=len(df)) # Adding noise to data. Without noise, the variance in Y|X, Z is zero, and mcmc fails.\n",
    "#data['dot_graph'] = 'digraph { v ->y;X0-> v;X0-> y;}'\n",
    "\n",
    "treatment= data[\"treatment_name\"][0]\n",
    "outcome = data[\"outcome_name\"][0]\n",
    "common_cause = data[\"common_causes_names\"][0]\n",
    "df"
   ]
  },
  {
   "cell_type": "code",
   "execution_count": 3,
   "metadata": {
    "execution": {
     "iopub.execute_input": "2022-09-02T09:09:04.452485Z",
     "iopub.status.busy": "2022-09-02T09:09:04.451942Z",
     "iopub.status.idle": "2022-09-02T09:09:05.451949Z",
     "shell.execute_reply": "2022-09-02T09:09:05.451290Z"
    }
   },
   "outputs": [
    {
     "data": {
      "text/plain": [
       "<AxesSubplot:xlabel='v0'>"
      ]
     },
     "execution_count": 3,
     "metadata": {},
     "output_type": "execute_result"
    },
    {
     "data": {
      "image/png": "[encoded data removed]",
      "text/plain": [
       "<Figure size 640x480 with 1 Axes>"
      ]
     },
     "metadata": {},
     "output_type": "display_data"
    }
   ],
   "source": [
    "# data['df'] is just a regular pandas.DataFrame\n",
    "df.causal.do(x=treatment,\n",
    "                     variable_types={treatment: 'b', outcome: 'c', common_cause: 'c'},\n",
    "                     outcome=outcome,\n",
    "                     common_causes=[common_cause],\n",
    "                     proceed_when_unidentifiable=True).groupby(treatment).mean().plot(y=outcome, kind='bar')"
   ]
  },
  {
   "cell_type": "code",
   "execution_count": 4,
   "metadata": {
    "execution": {
     "iopub.execute_input": "2022-09-02T09:09:05.456322Z",
     "iopub.status.busy": "2022-09-02T09:09:05.455592Z",
     "iopub.status.idle": "2022-09-02T09:09:05.589744Z",
     "shell.execute_reply": "2022-09-02T09:09:05.589086Z"
    }
   },
   "outputs": [
    {
     "data": {
      "text/plain": [
       "<AxesSubplot:xlabel='v0'>"
      ]
     },
     "execution_count": 4,
     "metadata": {},
     "output_type": "execute_result"
    },
    {
     "data": {
      "image/png": "[encoded data removed]",
      "text/plain": [
       "<Figure size 640x480 with 1 Axes>"
      ]
     },
     "metadata": {},
     "output_type": "display_data"
    }
   ],
   "source": [
    "df.causal.do(x={treatment: 1}, \n",
    "              variable_types={treatment:'b', outcome: 'c', common_cause: 'c'}, \n",
    "              outcome=outcome,\n",
    "              method='weighting', \n",
    "              common_causes=[common_cause],\n",
    "              proceed_when_unidentifiable=True).groupby(treatment).mean().plot(y=outcome, kind='bar')"
   ]
  },
  {
   "cell_type": "code",
   "execution_count": 5,
   "metadata": {
    "execution": {
     "iopub.execute_input": "2022-09-02T09:09:05.593436Z",
     "iopub.status.busy": "2022-09-02T09:09:05.592989Z",
     "iopub.status.idle": "2022-09-02T09:09:05.630351Z",
     "shell.execute_reply": "2022-09-02T09:09:05.629459Z"
    }
   },
   "outputs": [],
   "source": [
    "cdf_1 = df.causal.do(x={treatment: 1}, \n",
    "              variable_types={treatment: 'b', outcome: 'c', common_cause: 'c'}, \n",
    "              outcome=outcome, \n",
    "              dot_graph=data['dot_graph'],\n",
    "              proceed_when_unidentifiable=True)\n",
    "\n",
    "cdf_0 = df.causal.do(x={treatment: 0}, \n",
    "              variable_types={treatment: 'b', outcome: 'c', common_cause: 'c'}, \n",
    "              outcome=outcome, \n",
    "              dot_graph=data['dot_graph'],\n",
    "              proceed_when_unidentifiable=True)\n"
   ]
  },
  {
   "cell_type": "code",
   "execution_count": 6,
   "metadata": {
    "execution": {
     "iopub.execute_input": "2022-09-02T09:09:05.634358Z",
     "iopub.status.busy": "2022-09-02T09:09:05.633832Z",
     "iopub.status.idle": "2022-09-02T09:09:05.648205Z",
     "shell.execute_reply": "2022-09-02T09:09:05.647472Z"
    },
    "scrolled": true
   },
   "outputs": [
    {
     "data": {
      "text/html": [
       "<div>\n",
       "<style scoped>\n",
       "    .dataframe tbody tr th:only-of-type {\n",
       "        vertical-align: middle;\n",
       "    }\n",
       "\n",
       "    .dataframe tbody tr th {\n",
       "        vertical-align: top;\n",
       "    }\n",
       "\n",
       "    .dataframe thead th {\n",
       "        text-align: right;\n",
       "    }\n",
       "</style>\n",
       "<table border=\"1\" class=\"dataframe\">\n",
       "  <thead>\n",
       "    <tr style=\"text-align: right;\">\n",
       "      <th></th>\n",
       "      <th>W0</th>\n",
       "      <th>v0</th>\n",
       "      <th>y</th>\n",
       "      <th>propensity_score</th>\n",
       "      <th>weight</th>\n",
       "    </tr>\n",
       "  </thead>\n",
       "  <tbody>\n",
       "    <tr>\n",
       "      <th>0</th>\n",
       "      <td>-2.655357</td>\n",
       "      <td>False</td>\n",
       "      <td>-1.064664</td>\n",
       "      <td>0.530942</td>\n",
       "      <td>1.883444</td>\n",
       "    </tr>\n",
       "    <tr>\n",
       "      <th>1</th>\n",
       "      <td>-1.100907</td>\n",
       "      <td>False</td>\n",
       "      <td>-1.151810</td>\n",
       "      <td>0.524858</td>\n",
       "      <td>1.905277</td>\n",
       "    </tr>\n",
       "    <tr>\n",
       "      <th>2</th>\n",
       "      <td>0.252762</td>\n",
       "      <td>False</td>\n",
       "      <td>-0.419531</td>\n",
       "      <td>0.519554</td>\n",
       "      <td>1.924728</td>\n",
       "    </tr>\n",
       "    <tr>\n",
       "      <th>3</th>\n",
       "      <td>1.862745</td>\n",
       "      <td>False</td>\n",
       "      <td>0.069829</td>\n",
       "      <td>0.513240</td>\n",
       "      <td>1.948408</td>\n",
       "    </tr>\n",
       "    <tr>\n",
       "      <th>4</th>\n",
       "      <td>1.863891</td>\n",
       "      <td>False</td>\n",
       "      <td>0.945203</td>\n",
       "      <td>0.513235</td>\n",
       "      <td>1.948425</td>\n",
       "    </tr>\n",
       "    <tr>\n",
       "      <th>...</th>\n",
       "      <td>...</td>\n",
       "      <td>...</td>\n",
       "      <td>...</td>\n",
       "      <td>...</td>\n",
       "      <td>...</td>\n",
       "    </tr>\n",
       "    <tr>\n",
       "      <th>995</th>\n",
       "      <td>-0.910896</td>\n",
       "      <td>False</td>\n",
       "      <td>0.785751</td>\n",
       "      <td>0.524114</td>\n",
       "      <td>1.907982</td>\n",
       "    </tr>\n",
       "    <tr>\n",
       "      <th>996</th>\n",
       "      <td>-1.480212</td>\n",
       "      <td>False</td>\n",
       "      <td>-0.575497</td>\n",
       "      <td>0.526344</td>\n",
       "      <td>1.899900</td>\n",
       "    </tr>\n",
       "    <tr>\n",
       "      <th>997</th>\n",
       "      <td>-0.068917</td>\n",
       "      <td>False</td>\n",
       "      <td>0.441566</td>\n",
       "      <td>0.520815</td>\n",
       "      <td>1.920068</td>\n",
       "    </tr>\n",
       "    <tr>\n",
       "      <th>998</th>\n",
       "      <td>-0.586682</td>\n",
       "      <td>False</td>\n",
       "      <td>-2.282914</td>\n",
       "      <td>0.522844</td>\n",
       "      <td>1.912617</td>\n",
       "    </tr>\n",
       "    <tr>\n",
       "      <th>999</th>\n",
       "      <td>1.614059</td>\n",
       "      <td>False</td>\n",
       "      <td>-0.184444</td>\n",
       "      <td>0.514215</td>\n",
       "      <td>1.944711</td>\n",
       "    </tr>\n",
       "  </tbody>\n",
       "</table>\n",
       "<p>1000 rows × 5 columns</p>\n",
       "</div>"
      ],
      "text/plain": [
       "           W0     v0         y  propensity_score    weight\n",
       "0   -2.655357  False -1.064664          0.530942  1.883444\n",
       "1   -1.100907  False -1.151810          0.524858  1.905277\n",
       "2    0.252762  False -0.419531          0.519554  1.924728\n",
       "3    1.862745  False  0.069829          0.513240  1.948408\n",
       "4    1.863891  False  0.945203          0.513235  1.948425\n",
       "..        ...    ...       ...               ...       ...\n",
       "995 -0.910896  False  0.785751          0.524114  1.907982\n",
       "996 -1.480212  False -0.575497          0.526344  1.899900\n",
       "997 -0.068917  False  0.441566          0.520815  1.920068\n",
       "998 -0.586682  False -2.282914          0.522844  1.912617\n",
       "999  1.614059  False -0.184444          0.514215  1.944711\n",
       "\n",
       "[1000 rows x 5 columns]"
      ]
     },
     "execution_count": 6,
     "metadata": {},
     "output_type": "execute_result"
    }
   ],
   "source": [
    "cdf_0"
   ]
  },
  {
   "cell_type": "code",
   "execution_count": 7,
   "metadata": {
    "execution": {
     "iopub.execute_input": "2022-09-02T09:09:05.651966Z",
     "iopub.status.busy": "2022-09-02T09:09:05.651336Z",
     "iopub.status.idle": "2022-09-02T09:09:05.663886Z",
     "shell.execute_reply": "2022-09-02T09:09:05.662345Z"
    }
   },
   "outputs": [
    {
     "data": {
      "text/html": [
       "<div>\n",
       "<style scoped>\n",
       "    .dataframe tbody tr th:only-of-type {\n",
       "        vertical-align: middle;\n",
       "    }\n",
       "\n",
       "    .dataframe tbody tr th {\n",
       "        vertical-align: top;\n",
       "    }\n",
       "\n",
       "    .dataframe thead th {\n",
       "        text-align: right;\n",
       "    }\n",
       "</style>\n",
       "<table border=\"1\" class=\"dataframe\">\n",
       "  <thead>\n",
       "    <tr style=\"text-align: right;\">\n",
       "      <th></th>\n",
       "      <th>W0</th>\n",
       "      <th>v0</th>\n",
       "      <th>y</th>\n",
       "      <th>propensity_score</th>\n",
       "      <th>weight</th>\n",
       "    </tr>\n",
       "  </thead>\n",
       "  <tbody>\n",
       "    <tr>\n",
       "      <th>0</th>\n",
       "      <td>-0.291373</td>\n",
       "      <td>True</td>\n",
       "      <td>5.897116</td>\n",
       "      <td>0.478313</td>\n",
       "      <td>2.090680</td>\n",
       "    </tr>\n",
       "    <tr>\n",
       "      <th>1</th>\n",
       "      <td>-0.387313</td>\n",
       "      <td>True</td>\n",
       "      <td>4.897076</td>\n",
       "      <td>0.477937</td>\n",
       "      <td>2.092324</td>\n",
       "    </tr>\n",
       "    <tr>\n",
       "      <th>2</th>\n",
       "      <td>-1.206813</td>\n",
       "      <td>True</td>\n",
       "      <td>3.962397</td>\n",
       "      <td>0.474727</td>\n",
       "      <td>2.106474</td>\n",
       "    </tr>\n",
       "    <tr>\n",
       "      <th>3</th>\n",
       "      <td>-1.640396</td>\n",
       "      <td>True</td>\n",
       "      <td>4.221348</td>\n",
       "      <td>0.473029</td>\n",
       "      <td>2.114034</td>\n",
       "    </tr>\n",
       "    <tr>\n",
       "      <th>4</th>\n",
       "      <td>0.062713</td>\n",
       "      <td>True</td>\n",
       "      <td>5.061817</td>\n",
       "      <td>0.479701</td>\n",
       "      <td>2.084631</td>\n",
       "    </tr>\n",
       "    <tr>\n",
       "      <th>...</th>\n",
       "      <td>...</td>\n",
       "      <td>...</td>\n",
       "      <td>...</td>\n",
       "      <td>...</td>\n",
       "      <td>...</td>\n",
       "    </tr>\n",
       "    <tr>\n",
       "      <th>995</th>\n",
       "      <td>1.982424</td>\n",
       "      <td>True</td>\n",
       "      <td>5.340725</td>\n",
       "      <td>0.487230</td>\n",
       "      <td>2.052419</td>\n",
       "    </tr>\n",
       "    <tr>\n",
       "      <th>996</th>\n",
       "      <td>-0.930301</td>\n",
       "      <td>True</td>\n",
       "      <td>4.166256</td>\n",
       "      <td>0.475810</td>\n",
       "      <td>2.101679</td>\n",
       "    </tr>\n",
       "    <tr>\n",
       "      <th>997</th>\n",
       "      <td>-0.964810</td>\n",
       "      <td>True</td>\n",
       "      <td>4.947903</td>\n",
       "      <td>0.475675</td>\n",
       "      <td>2.102276</td>\n",
       "    </tr>\n",
       "    <tr>\n",
       "      <th>998</th>\n",
       "      <td>2.238575</td>\n",
       "      <td>True</td>\n",
       "      <td>5.692573</td>\n",
       "      <td>0.488235</td>\n",
       "      <td>2.048193</td>\n",
       "    </tr>\n",
       "    <tr>\n",
       "      <th>999</th>\n",
       "      <td>0.065891</td>\n",
       "      <td>True</td>\n",
       "      <td>4.223918</td>\n",
       "      <td>0.479714</td>\n",
       "      <td>2.084577</td>\n",
       "    </tr>\n",
       "  </tbody>\n",
       "</table>\n",
       "<p>1000 rows × 5 columns</p>\n",
       "</div>"
      ],
      "text/plain": [
       "           W0    v0         y  propensity_score    weight\n",
       "0   -0.291373  True  5.897116          0.478313  2.090680\n",
       "1   -0.387313  True  4.897076          0.477937  2.092324\n",
       "2   -1.206813  True  3.962397          0.474727  2.106474\n",
       "3   -1.640396  True  4.221348          0.473029  2.114034\n",
       "4    0.062713  True  5.061817          0.479701  2.084631\n",
       "..        ...   ...       ...               ...       ...\n",
       "995  1.982424  True  5.340725          0.487230  2.052419\n",
       "996 -0.930301  True  4.166256          0.475810  2.101679\n",
       "997 -0.964810  True  4.947903          0.475675  2.102276\n",
       "998  2.238575  True  5.692573          0.488235  2.048193\n",
       "999  0.065891  True  4.223918          0.479714  2.084577\n",
       "\n",
       "[1000 rows x 5 columns]"
      ]
     },
     "execution_count": 7,
     "metadata": {},
     "output_type": "execute_result"
    }
   ],
   "source": [
    "cdf_1"
   ]
  },
  {
   "cell_type": "markdown",
   "metadata": {},
   "source": [
    "## Comparing the estimate to Linear Regression\n",
    "First, estimating the effect using the causal data frame, and the 95% confidence interval."
   ]
  },
  {
   "cell_type": "code",
   "execution_count": 8,
   "metadata": {
    "execution": {
     "iopub.execute_input": "2022-09-02T09:09:05.667807Z",
     "iopub.status.busy": "2022-09-02T09:09:05.667534Z",
     "iopub.status.idle": "2022-09-02T09:09:05.798838Z",
     "shell.execute_reply": "2022-09-02T09:09:05.797905Z"
    }
   },
   "outputs": [
    {
     "data": {
      "image/png": "[encoded data removed]",
      "text/latex": [
       "$\\displaystyle 4.98614369357105$"
      ],
      "text/plain": [
       "4.986143693571052"
      ]
     },
     "execution_count": 8,
     "metadata": {},
     "output_type": "execute_result"
    }
   ],
   "source": [
    "(cdf_1['y'] - cdf_0['y']).mean()"
   ]
  },
  {
   "cell_type": "code",
   "execution_count": 9,
   "metadata": {
    "execution": {
     "iopub.execute_input": "2022-09-02T09:09:05.802838Z",
     "iopub.status.busy": "2022-09-02T09:09:05.802268Z",
     "iopub.status.idle": "2022-09-02T09:09:05.835732Z",
     "shell.execute_reply": "2022-09-02T09:09:05.834715Z"
    }
   },
   "outputs": [
    {
     "data": {
      "image/png": "[encoded data removed]",
      "text/latex": [
       "$\\displaystyle 0.0914407699711435$"
      ],
      "text/plain": [
       "0.0914407699711435"
      ]
     },
     "execution_count": 9,
     "metadata": {},
     "output_type": "execute_result"
    }
   ],
   "source": [
    "1.96*(cdf_1['y'] - cdf_0['y']).std() / np.sqrt(len(df))"
   ]
  },
  {
   "cell_type": "markdown",
   "metadata": {},
   "source": [
    "Comparing to the estimate from OLS."
   ]
  },
  {
   "cell_type": "code",
   "execution_count": 10,
   "metadata": {
    "execution": {
     "iopub.execute_input": "2022-09-02T09:09:05.839452Z",
     "iopub.status.busy": "2022-09-02T09:09:05.838995Z",
     "iopub.status.idle": "2022-09-02T09:09:05.859301Z",
     "shell.execute_reply": "2022-09-02T09:09:05.858420Z"
    }
   },
   "outputs": [
    {
     "data": {
      "text/html": [
       "<table class=\"simpletable\">\n",
       "<caption>OLS Regression Results</caption>\n",
       "<tr>\n",
       "  <th>Dep. Variable:</th>            <td>y</td>        <th>  R-squared (uncentered):</th>      <td>   0.926</td>\n",
       "</tr>\n",
       "<tr>\n",
       "  <th>Model:</th>                   <td>OLS</td>       <th>  Adj. R-squared (uncentered):</th> <td>   0.926</td>\n",
       "</tr>\n",
       "<tr>\n",
       "  <th>Method:</th>             <td>Least Squares</td>  <th>  F-statistic:       </th>          <td>   6282.</td>\n",
       "</tr>\n",
       "<tr>\n",
       "  <th>Date:</th>             <td>Fri, 02 Sep 2022</td> <th>  Prob (F-statistic):</th>           <td>  0.00</td> \n",
       "</tr>\n",
       "<tr>\n",
       "  <th>Time:</th>                 <td>09:09:05</td>     <th>  Log-Likelihood:    </th>          <td> -1402.6</td>\n",
       "</tr>\n",
       "<tr>\n",
       "  <th>No. Observations:</th>      <td>  1000</td>      <th>  AIC:               </th>          <td>   2809.</td>\n",
       "</tr>\n",
       "<tr>\n",
       "  <th>Df Residuals:</th>          <td>   998</td>      <th>  BIC:               </th>          <td>   2819.</td>\n",
       "</tr>\n",
       "<tr>\n",
       "  <th>Df Model:</th>              <td>     2</td>      <th>                     </th>              <td> </td>   \n",
       "</tr>\n",
       "<tr>\n",
       "  <th>Covariance Type:</th>      <td>nonrobust</td>    <th>                     </th>              <td> </td>   \n",
       "</tr>\n",
       "</table>\n",
       "<table class=\"simpletable\">\n",
       "<tr>\n",
       "   <td></td>     <th>coef</th>     <th>std err</th>      <th>t</th>      <th>P>|t|</th>  <th>[0.025</th>    <th>0.975]</th>  \n",
       "</tr>\n",
       "<tr>\n",
       "  <th>x1</th> <td>    0.3705</td> <td>    0.031</td> <td>   11.859</td> <td> 0.000</td> <td>    0.309</td> <td>    0.432</td>\n",
       "</tr>\n",
       "<tr>\n",
       "  <th>x2</th> <td>    4.9557</td> <td>    0.045</td> <td>  109.685</td> <td> 0.000</td> <td>    4.867</td> <td>    5.044</td>\n",
       "</tr>\n",
       "</table>\n",
       "<table class=\"simpletable\">\n",
       "<tr>\n",
       "  <th>Omnibus:</th>       <td> 3.315</td> <th>  Durbin-Watson:     </th> <td>   2.051</td>\n",
       "</tr>\n",
       "<tr>\n",
       "  <th>Prob(Omnibus):</th> <td> 0.191</td> <th>  Jarque-Bera (JB):  </th> <td>   3.708</td>\n",
       "</tr>\n",
       "<tr>\n",
       "  <th>Skew:</th>          <td> 0.018</td> <th>  Prob(JB):          </th> <td>   0.157</td>\n",
       "</tr>\n",
       "<tr>\n",
       "  <th>Kurtosis:</th>      <td> 3.296</td> <th>  Cond. No.          </th> <td>    1.47</td>\n",
       "</tr>\n",
       "</table><br/><br/>Notes:<br/>[1] R² is computed without centering (uncentered) since the model does not contain a constant.<br/>[2] Standard Errors assume that the covariance matrix of the errors is correctly specified."
      ],
      "text/plain": [
       "<class 'statsmodels.iolib.summary.Summary'>\n",
       "\"\"\"\n",
       "                                 OLS Regression Results                                \n",
       "=======================================================================================\n",
       "Dep. Variable:                      y   R-squared (uncentered):                   0.926\n",
       "Model:                            OLS   Adj. R-squared (uncentered):              0.926\n",
       "Method:                 Least Squares   F-statistic:                              6282.\n",
       "Date:                Fri, 02 Sep 2022   Prob (F-statistic):                        0.00\n",
       "Time:                        09:09:05   Log-Likelihood:                         -1402.6\n",
       "No. Observations:                1000   AIC:                                      2809.\n",
       "Df Residuals:                     998   BIC:                                      2819.\n",
       "Df Model:                           2                                                  \n",
       "Covariance Type:            nonrobust                                                  \n",
       "==============================================================================\n",
       "                 coef    std err          t      P>|t|      [0.025      0.975]\n",
       "------------------------------------------------------------------------------\n",
       "x1             0.3705      0.031     11.859      0.000       0.309       0.432\n",
       "x2             4.9557      0.045    109.685      0.000       4.867       5.044\n",
       "==============================================================================\n",
       "Omnibus:                        3.315   Durbin-Watson:                   2.051\n",
       "Prob(Omnibus):                  0.191   Jarque-Bera (JB):                3.708\n",
       "Skew:                           0.018   Prob(JB):                        0.157\n",
       "Kurtosis:                       3.296   Cond. No.                         1.47\n",
       "==============================================================================\n",
       "\n",
       "Notes:\n",
       "[1] R² is computed without centering (uncentered) since the model does not contain a constant.\n",
       "[2] Standard Errors assume that the covariance matrix of the errors is correctly specified.\n",
       "\"\"\""
      ]
     },
     "execution_count": 10,
     "metadata": {},
     "output_type": "execute_result"
    }
   ],
   "source": [
    "model = OLS(np.asarray(df[outcome]), np.asarray(df[[common_cause, treatment]], dtype=np.float64))\n",
    "result = model.fit()\n",
    "result.summary()"
   ]
  }
 ],
 "metadata": {
  "kernelspec": {
   "display_name": "Python 3",
   "language": "python",
   "name": "python3"
  },
  "language_info": {
   "codemirror_mode": {
    "name": "ipython",
    "version": 3
   },
   "file_extension": ".py",
   "mimetype": "text/x-python",
   "name": "python",
   "nbconvert_exporter": "python",
   "pygments_lexer": "ipython3",
   "version": "3.8.10"
  },
  "toc": {
   "base_numbering": 1,
   "nav_menu": {},
   "number_sections": false,
   "sideBar": true,
   "skip_h1_title": true,
   "title_cell": "Table of Contents",
   "title_sidebar": "Contents",
   "toc_cell": false,
   "toc_position": {},
   "toc_section_display": true,
   "toc_window_display": false
  }
 },
 "nbformat": 4,
 "nbformat_minor": 4
}
