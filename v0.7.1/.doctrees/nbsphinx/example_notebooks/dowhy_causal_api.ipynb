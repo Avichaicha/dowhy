{
 "cells": [
  {
   "cell_type": "markdown",
   "metadata": {},
   "source": [
    "# Demo for the DoWhy causal API\n",
    "We show a simple example of adding a causal extension to any dataframe. "
   ]
  },
  {
   "cell_type": "code",
   "execution_count": 1,
   "metadata": {
    "execution": {
     "iopub.execute_input": "2022-08-19T21:26:20.518807Z",
     "iopub.status.busy": "2022-08-19T21:26:20.518495Z",
     "iopub.status.idle": "2022-08-19T21:26:21.701044Z",
     "shell.execute_reply": "2022-08-19T21:26:21.699785Z"
    }
   },
   "outputs": [],
   "source": [
    "import dowhy.datasets\n",
    "import dowhy.api\n",
    "\n",
    "import numpy as np\n",
    "import pandas as pd\n",
    "\n",
    "from statsmodels.api import OLS"
   ]
  },
  {
   "cell_type": "code",
   "execution_count": 2,
   "metadata": {
    "execution": {
     "iopub.execute_input": "2022-08-19T21:26:21.705096Z",
     "iopub.status.busy": "2022-08-19T21:26:21.704698Z",
     "iopub.status.idle": "2022-08-19T21:26:21.752212Z",
     "shell.execute_reply": "2022-08-19T21:26:21.751608Z"
    }
   },
   "outputs": [
    {
     "data": {
      "text/html": [
       "<div>\n",
       "<style scoped>\n",
       "    .dataframe tbody tr th:only-of-type {\n",
       "        vertical-align: middle;\n",
       "    }\n",
       "\n",
       "    .dataframe tbody tr th {\n",
       "        vertical-align: top;\n",
       "    }\n",
       "\n",
       "    .dataframe thead th {\n",
       "        text-align: right;\n",
       "    }\n",
       "</style>\n",
       "<table border=\"1\" class=\"dataframe\">\n",
       "  <thead>\n",
       "    <tr style=\"text-align: right;\">\n",
       "      <th></th>\n",
       "      <th>W0</th>\n",
       "      <th>v0</th>\n",
       "      <th>y</th>\n",
       "    </tr>\n",
       "  </thead>\n",
       "  <tbody>\n",
       "    <tr>\n",
       "      <th>0</th>\n",
       "      <td>0.608250</td>\n",
       "      <td>False</td>\n",
       "      <td>-1.926270</td>\n",
       "    </tr>\n",
       "    <tr>\n",
       "      <th>1</th>\n",
       "      <td>-0.759941</td>\n",
       "      <td>True</td>\n",
       "      <td>3.439681</td>\n",
       "    </tr>\n",
       "    <tr>\n",
       "      <th>2</th>\n",
       "      <td>-0.477868</td>\n",
       "      <td>False</td>\n",
       "      <td>1.105473</td>\n",
       "    </tr>\n",
       "    <tr>\n",
       "      <th>3</th>\n",
       "      <td>-0.866413</td>\n",
       "      <td>False</td>\n",
       "      <td>-1.720845</td>\n",
       "    </tr>\n",
       "    <tr>\n",
       "      <th>4</th>\n",
       "      <td>-2.067664</td>\n",
       "      <td>False</td>\n",
       "      <td>0.802100</td>\n",
       "    </tr>\n",
       "    <tr>\n",
       "      <th>...</th>\n",
       "      <td>...</td>\n",
       "      <td>...</td>\n",
       "      <td>...</td>\n",
       "    </tr>\n",
       "    <tr>\n",
       "      <th>995</th>\n",
       "      <td>0.052898</td>\n",
       "      <td>True</td>\n",
       "      <td>3.117332</td>\n",
       "    </tr>\n",
       "    <tr>\n",
       "      <th>996</th>\n",
       "      <td>-0.956994</td>\n",
       "      <td>False</td>\n",
       "      <td>1.820293</td>\n",
       "    </tr>\n",
       "    <tr>\n",
       "      <th>997</th>\n",
       "      <td>-1.535498</td>\n",
       "      <td>False</td>\n",
       "      <td>0.603858</td>\n",
       "    </tr>\n",
       "    <tr>\n",
       "      <th>998</th>\n",
       "      <td>-1.092892</td>\n",
       "      <td>False</td>\n",
       "      <td>-1.880820</td>\n",
       "    </tr>\n",
       "    <tr>\n",
       "      <th>999</th>\n",
       "      <td>-1.737556</td>\n",
       "      <td>False</td>\n",
       "      <td>-1.548476</td>\n",
       "    </tr>\n",
       "  </tbody>\n",
       "</table>\n",
       "<p>1000 rows × 3 columns</p>\n",
       "</div>"
      ],
      "text/plain": [
       "           W0     v0         y\n",
       "0    0.608250  False -1.926270\n",
       "1   -0.759941   True  3.439681\n",
       "2   -0.477868  False  1.105473\n",
       "3   -0.866413  False -1.720845\n",
       "4   -2.067664  False  0.802100\n",
       "..        ...    ...       ...\n",
       "995  0.052898   True  3.117332\n",
       "996 -0.956994  False  1.820293\n",
       "997 -1.535498  False  0.603858\n",
       "998 -1.092892  False -1.880820\n",
       "999 -1.737556  False -1.548476\n",
       "\n",
       "[1000 rows x 3 columns]"
      ]
     },
     "execution_count": 2,
     "metadata": {},
     "output_type": "execute_result"
    }
   ],
   "source": [
    "data = dowhy.datasets.linear_dataset(beta=5,\n",
    "        num_common_causes=1,\n",
    "        num_instruments = 0,\n",
    "        num_samples=1000,\n",
    "        treatment_is_binary=True)\n",
    "df = data['df']\n",
    "df['y'] = df['y'] + np.random.normal(size=len(df)) # Adding noise to data. Without noise, the variance in Y|X, Z is zero, and mcmc fails.\n",
    "#data['dot_graph'] = 'digraph { v ->y;X0-> v;X0-> y;}'\n",
    "\n",
    "treatment= data[\"treatment_name\"][0]\n",
    "outcome = data[\"outcome_name\"][0]\n",
    "common_cause = data[\"common_causes_names\"][0]\n",
    "df"
   ]
  },
  {
   "cell_type": "code",
   "execution_count": 3,
   "metadata": {
    "execution": {
     "iopub.execute_input": "2022-08-19T21:26:21.755610Z",
     "iopub.status.busy": "2022-08-19T21:26:21.755166Z",
     "iopub.status.idle": "2022-08-19T21:26:22.554231Z",
     "shell.execute_reply": "2022-08-19T21:26:22.553566Z"
    }
   },
   "outputs": [
    {
     "data": {
      "text/plain": [
       "<AxesSubplot:xlabel='v0'>"
      ]
     },
     "execution_count": 3,
     "metadata": {},
     "output_type": "execute_result"
    },
    {
     "data": {
      "image/png": "[encoded data removed]",
      "text/plain": [
       "<Figure size 640x480 with 1 Axes>"
      ]
     },
     "metadata": {},
     "output_type": "display_data"
    }
   ],
   "source": [
    "# data['df'] is just a regular pandas.DataFrame\n",
    "df.causal.do(x=treatment,\n",
    "                     variable_types={treatment: 'b', outcome: 'c', common_cause: 'c'},\n",
    "                     outcome=outcome,\n",
    "                     common_causes=[common_cause],\n",
    "                     proceed_when_unidentifiable=True).groupby(treatment).mean().plot(y=outcome, kind='bar')"
   ]
  },
  {
   "cell_type": "code",
   "execution_count": 4,
   "metadata": {
    "execution": {
     "iopub.execute_input": "2022-08-19T21:26:22.558294Z",
     "iopub.status.busy": "2022-08-19T21:26:22.557586Z",
     "iopub.status.idle": "2022-08-19T21:26:22.664325Z",
     "shell.execute_reply": "2022-08-19T21:26:22.663675Z"
    }
   },
   "outputs": [
    {
     "data": {
      "text/plain": [
       "<AxesSubplot:xlabel='v0'>"
      ]
     },
     "execution_count": 4,
     "metadata": {},
     "output_type": "execute_result"
    },
    {
     "data": {
      "image/png": "[encoded data removed]",
      "text/plain": [
       "<Figure size 640x480 with 1 Axes>"
      ]
     },
     "metadata": {},
     "output_type": "display_data"
    }
   ],
   "source": [
    "df.causal.do(x={treatment: 1}, \n",
    "              variable_types={treatment:'b', outcome: 'c', common_cause: 'c'}, \n",
    "              outcome=outcome,\n",
    "              method='weighting', \n",
    "              common_causes=[common_cause],\n",
    "              proceed_when_unidentifiable=True).groupby(treatment).mean().plot(y=outcome, kind='bar')"
   ]
  },
  {
   "cell_type": "code",
   "execution_count": 5,
   "metadata": {
    "execution": {
     "iopub.execute_input": "2022-08-19T21:26:22.668764Z",
     "iopub.status.busy": "2022-08-19T21:26:22.667470Z",
     "iopub.status.idle": "2022-08-19T21:26:22.699613Z",
     "shell.execute_reply": "2022-08-19T21:26:22.699020Z"
    }
   },
   "outputs": [],
   "source": [
    "cdf_1 = df.causal.do(x={treatment: 1}, \n",
    "              variable_types={treatment: 'b', outcome: 'c', common_cause: 'c'}, \n",
    "              outcome=outcome, \n",
    "              dot_graph=data['dot_graph'],\n",
    "              proceed_when_unidentifiable=True)\n",
    "\n",
    "cdf_0 = df.causal.do(x={treatment: 0}, \n",
    "              variable_types={treatment: 'b', outcome: 'c', common_cause: 'c'}, \n",
    "              outcome=outcome, \n",
    "              dot_graph=data['dot_graph'],\n",
    "              proceed_when_unidentifiable=True)\n"
   ]
  },
  {
   "cell_type": "code",
   "execution_count": 6,
   "metadata": {
    "execution": {
     "iopub.execute_input": "2022-08-19T21:26:22.702774Z",
     "iopub.status.busy": "2022-08-19T21:26:22.702357Z",
     "iopub.status.idle": "2022-08-19T21:26:22.714095Z",
     "shell.execute_reply": "2022-08-19T21:26:22.713367Z"
    },
    "scrolled": true
   },
   "outputs": [
    {
     "data": {
      "text/html": [
       "<div>\n",
       "<style scoped>\n",
       "    .dataframe tbody tr th:only-of-type {\n",
       "        vertical-align: middle;\n",
       "    }\n",
       "\n",
       "    .dataframe tbody tr th {\n",
       "        vertical-align: top;\n",
       "    }\n",
       "\n",
       "    .dataframe thead th {\n",
       "        text-align: right;\n",
       "    }\n",
       "</style>\n",
       "<table border=\"1\" class=\"dataframe\">\n",
       "  <thead>\n",
       "    <tr style=\"text-align: right;\">\n",
       "      <th></th>\n",
       "      <th>W0</th>\n",
       "      <th>v0</th>\n",
       "      <th>y</th>\n",
       "      <th>propensity_score</th>\n",
       "      <th>weight</th>\n",
       "    </tr>\n",
       "  </thead>\n",
       "  <tbody>\n",
       "    <tr>\n",
       "      <th>0</th>\n",
       "      <td>-1.157717</td>\n",
       "      <td>False</td>\n",
       "      <td>-2.401010</td>\n",
       "      <td>0.734796</td>\n",
       "      <td>1.360921</td>\n",
       "    </tr>\n",
       "    <tr>\n",
       "      <th>1</th>\n",
       "      <td>-0.838878</td>\n",
       "      <td>False</td>\n",
       "      <td>0.461296</td>\n",
       "      <td>0.679849</td>\n",
       "      <td>1.470914</td>\n",
       "    </tr>\n",
       "    <tr>\n",
       "      <th>2</th>\n",
       "      <td>-1.021892</td>\n",
       "      <td>False</td>\n",
       "      <td>-0.783775</td>\n",
       "      <td>0.712134</td>\n",
       "      <td>1.404229</td>\n",
       "    </tr>\n",
       "    <tr>\n",
       "      <th>3</th>\n",
       "      <td>0.362048</td>\n",
       "      <td>False</td>\n",
       "      <td>-0.978428</td>\n",
       "      <td>0.438098</td>\n",
       "      <td>2.282594</td>\n",
       "    </tr>\n",
       "    <tr>\n",
       "      <th>4</th>\n",
       "      <td>-0.658212</td>\n",
       "      <td>False</td>\n",
       "      <td>0.987463</td>\n",
       "      <td>0.646193</td>\n",
       "      <td>1.547526</td>\n",
       "    </tr>\n",
       "    <tr>\n",
       "      <th>...</th>\n",
       "      <td>...</td>\n",
       "      <td>...</td>\n",
       "      <td>...</td>\n",
       "      <td>...</td>\n",
       "      <td>...</td>\n",
       "    </tr>\n",
       "    <tr>\n",
       "      <th>995</th>\n",
       "      <td>0.608250</td>\n",
       "      <td>False</td>\n",
       "      <td>-1.926270</td>\n",
       "      <td>0.388340</td>\n",
       "      <td>2.575066</td>\n",
       "    </tr>\n",
       "    <tr>\n",
       "      <th>996</th>\n",
       "      <td>-1.324057</td>\n",
       "      <td>False</td>\n",
       "      <td>-0.382468</td>\n",
       "      <td>0.760947</td>\n",
       "      <td>1.314152</td>\n",
       "    </tr>\n",
       "    <tr>\n",
       "      <th>997</th>\n",
       "      <td>-1.888506</td>\n",
       "      <td>False</td>\n",
       "      <td>-0.821131</td>\n",
       "      <td>0.836007</td>\n",
       "      <td>1.196162</td>\n",
       "    </tr>\n",
       "    <tr>\n",
       "      <th>998</th>\n",
       "      <td>0.718132</td>\n",
       "      <td>False</td>\n",
       "      <td>0.917579</td>\n",
       "      <td>0.366799</td>\n",
       "      <td>2.726291</td>\n",
       "    </tr>\n",
       "    <tr>\n",
       "      <th>999</th>\n",
       "      <td>0.107390</td>\n",
       "      <td>False</td>\n",
       "      <td>-0.725913</td>\n",
       "      <td>0.490897</td>\n",
       "      <td>2.037088</td>\n",
       "    </tr>\n",
       "  </tbody>\n",
       "</table>\n",
       "<p>1000 rows × 5 columns</p>\n",
       "</div>"
      ],
      "text/plain": [
       "           W0     v0         y  propensity_score    weight\n",
       "0   -1.157717  False -2.401010          0.734796  1.360921\n",
       "1   -0.838878  False  0.461296          0.679849  1.470914\n",
       "2   -1.021892  False -0.783775          0.712134  1.404229\n",
       "3    0.362048  False -0.978428          0.438098  2.282594\n",
       "4   -0.658212  False  0.987463          0.646193  1.547526\n",
       "..        ...    ...       ...               ...       ...\n",
       "995  0.608250  False -1.926270          0.388340  2.575066\n",
       "996 -1.324057  False -0.382468          0.760947  1.314152\n",
       "997 -1.888506  False -0.821131          0.836007  1.196162\n",
       "998  0.718132  False  0.917579          0.366799  2.726291\n",
       "999  0.107390  False -0.725913          0.490897  2.037088\n",
       "\n",
       "[1000 rows x 5 columns]"
      ]
     },
     "execution_count": 6,
     "metadata": {},
     "output_type": "execute_result"
    }
   ],
   "source": [
    "cdf_0"
   ]
  },
  {
   "cell_type": "code",
   "execution_count": 7,
   "metadata": {
    "execution": {
     "iopub.execute_input": "2022-08-19T21:26:22.716815Z",
     "iopub.status.busy": "2022-08-19T21:26:22.716577Z",
     "iopub.status.idle": "2022-08-19T21:26:22.726381Z",
     "shell.execute_reply": "2022-08-19T21:26:22.725736Z"
    }
   },
   "outputs": [
    {
     "data": {
      "text/html": [
       "<div>\n",
       "<style scoped>\n",
       "    .dataframe tbody tr th:only-of-type {\n",
       "        vertical-align: middle;\n",
       "    }\n",
       "\n",
       "    .dataframe tbody tr th {\n",
       "        vertical-align: top;\n",
       "    }\n",
       "\n",
       "    .dataframe thead th {\n",
       "        text-align: right;\n",
       "    }\n",
       "</style>\n",
       "<table border=\"1\" class=\"dataframe\">\n",
       "  <thead>\n",
       "    <tr style=\"text-align: right;\">\n",
       "      <th></th>\n",
       "      <th>W0</th>\n",
       "      <th>v0</th>\n",
       "      <th>y</th>\n",
       "      <th>propensity_score</th>\n",
       "      <th>weight</th>\n",
       "    </tr>\n",
       "  </thead>\n",
       "  <tbody>\n",
       "    <tr>\n",
       "      <th>0</th>\n",
       "      <td>-1.343018</td>\n",
       "      <td>True</td>\n",
       "      <td>5.406419</td>\n",
       "      <td>0.236187</td>\n",
       "      <td>4.233927</td>\n",
       "    </tr>\n",
       "    <tr>\n",
       "      <th>1</th>\n",
       "      <td>-0.403717</td>\n",
       "      <td>True</td>\n",
       "      <td>5.889422</td>\n",
       "      <td>0.403714</td>\n",
       "      <td>2.477000</td>\n",
       "    </tr>\n",
       "    <tr>\n",
       "      <th>2</th>\n",
       "      <td>0.278277</td>\n",
       "      <td>True</td>\n",
       "      <td>5.322908</td>\n",
       "      <td>0.544629</td>\n",
       "      <td>1.836113</td>\n",
       "    </tr>\n",
       "    <tr>\n",
       "      <th>3</th>\n",
       "      <td>-0.068127</td>\n",
       "      <td>True</td>\n",
       "      <td>4.772774</td>\n",
       "      <td>0.472522</td>\n",
       "      <td>2.116302</td>\n",
       "    </tr>\n",
       "    <tr>\n",
       "      <th>4</th>\n",
       "      <td>-0.743952</td>\n",
       "      <td>True</td>\n",
       "      <td>3.733427</td>\n",
       "      <td>0.337629</td>\n",
       "      <td>2.961835</td>\n",
       "    </tr>\n",
       "    <tr>\n",
       "      <th>...</th>\n",
       "      <td>...</td>\n",
       "      <td>...</td>\n",
       "      <td>...</td>\n",
       "      <td>...</td>\n",
       "      <td>...</td>\n",
       "    </tr>\n",
       "    <tr>\n",
       "      <th>995</th>\n",
       "      <td>1.276566</td>\n",
       "      <td>True</td>\n",
       "      <td>5.434029</td>\n",
       "      <td>0.733390</td>\n",
       "      <td>1.363531</td>\n",
       "    </tr>\n",
       "    <tr>\n",
       "      <th>996</th>\n",
       "      <td>-0.696496</td>\n",
       "      <td>True</td>\n",
       "      <td>5.808143</td>\n",
       "      <td>0.346539</td>\n",
       "      <td>2.885677</td>\n",
       "    </tr>\n",
       "    <tr>\n",
       "      <th>997</th>\n",
       "      <td>1.658569</td>\n",
       "      <td>True</td>\n",
       "      <td>4.903925</td>\n",
       "      <td>0.790941</td>\n",
       "      <td>1.264317</td>\n",
       "    </tr>\n",
       "    <tr>\n",
       "      <th>998</th>\n",
       "      <td>-0.505800</td>\n",
       "      <td>True</td>\n",
       "      <td>6.220691</td>\n",
       "      <td>0.383390</td>\n",
       "      <td>2.608310</td>\n",
       "    </tr>\n",
       "    <tr>\n",
       "      <th>999</th>\n",
       "      <td>-0.202243</td>\n",
       "      <td>True</td>\n",
       "      <td>5.001781</td>\n",
       "      <td>0.444747</td>\n",
       "      <td>2.248469</td>\n",
       "    </tr>\n",
       "  </tbody>\n",
       "</table>\n",
       "<p>1000 rows × 5 columns</p>\n",
       "</div>"
      ],
      "text/plain": [
       "           W0    v0         y  propensity_score    weight\n",
       "0   -1.343018  True  5.406419          0.236187  4.233927\n",
       "1   -0.403717  True  5.889422          0.403714  2.477000\n",
       "2    0.278277  True  5.322908          0.544629  1.836113\n",
       "3   -0.068127  True  4.772774          0.472522  2.116302\n",
       "4   -0.743952  True  3.733427          0.337629  2.961835\n",
       "..        ...   ...       ...               ...       ...\n",
       "995  1.276566  True  5.434029          0.733390  1.363531\n",
       "996 -0.696496  True  5.808143          0.346539  2.885677\n",
       "997  1.658569  True  4.903925          0.790941  1.264317\n",
       "998 -0.505800  True  6.220691          0.383390  2.608310\n",
       "999 -0.202243  True  5.001781          0.444747  2.248469\n",
       "\n",
       "[1000 rows x 5 columns]"
      ]
     },
     "execution_count": 7,
     "metadata": {},
     "output_type": "execute_result"
    }
   ],
   "source": [
    "cdf_1"
   ]
  },
  {
   "cell_type": "markdown",
   "metadata": {},
   "source": [
    "## Comparing the estimate to Linear Regression\n",
    "First, estimating the effect using the causal data frame, and the 95% confidence interval."
   ]
  },
  {
   "cell_type": "code",
   "execution_count": 8,
   "metadata": {
    "execution": {
     "iopub.execute_input": "2022-08-19T21:26:22.729883Z",
     "iopub.status.busy": "2022-08-19T21:26:22.729667Z",
     "iopub.status.idle": "2022-08-19T21:26:22.832214Z",
     "shell.execute_reply": "2022-08-19T21:26:22.831441Z"
    }
   },
   "outputs": [
    {
     "data": {
      "image/png": "[encoded data removed]",
      "text/latex": [
       "$\\displaystyle 5.20648240356613$"
      ],
      "text/plain": [
       "5.206482403566128"
      ]
     },
     "execution_count": 8,
     "metadata": {},
     "output_type": "execute_result"
    }
   ],
   "source": [
    "(cdf_1['y'] - cdf_0['y']).mean()"
   ]
  },
  {
   "cell_type": "code",
   "execution_count": 9,
   "metadata": {
    "execution": {
     "iopub.execute_input": "2022-08-19T21:26:22.835804Z",
     "iopub.status.busy": "2022-08-19T21:26:22.835242Z",
     "iopub.status.idle": "2022-08-19T21:26:22.861973Z",
     "shell.execute_reply": "2022-08-19T21:26:22.861247Z"
    }
   },
   "outputs": [
    {
     "data": {
      "image/png": "[encoded data removed]",
      "text/latex": [
       "$\\displaystyle 0.0883289378970323$"
      ],
      "text/plain": [
       "0.08832893789703235"
      ]
     },
     "execution_count": 9,
     "metadata": {},
     "output_type": "execute_result"
    }
   ],
   "source": [
    "1.96*(cdf_1['y'] - cdf_0['y']).std() / np.sqrt(len(df))"
   ]
  },
  {
   "cell_type": "markdown",
   "metadata": {},
   "source": [
    "Comparing to the estimate from OLS."
   ]
  },
  {
   "cell_type": "code",
   "execution_count": 10,
   "metadata": {
    "execution": {
     "iopub.execute_input": "2022-08-19T21:26:22.865392Z",
     "iopub.status.busy": "2022-08-19T21:26:22.864935Z",
     "iopub.status.idle": "2022-08-19T21:26:22.882312Z",
     "shell.execute_reply": "2022-08-19T21:26:22.881639Z"
    }
   },
   "outputs": [
    {
     "data": {
      "text/html": [
       "<table class=\"simpletable\">\n",
       "<caption>OLS Regression Results</caption>\n",
       "<tr>\n",
       "  <th>Dep. Variable:</th>            <td>y</td>        <th>  R-squared (uncentered):</th>      <td>   0.913</td>\n",
       "</tr>\n",
       "<tr>\n",
       "  <th>Model:</th>                   <td>OLS</td>       <th>  Adj. R-squared (uncentered):</th> <td>   0.913</td>\n",
       "</tr>\n",
       "<tr>\n",
       "  <th>Method:</th>             <td>Least Squares</td>  <th>  F-statistic:       </th>          <td>   5223.</td>\n",
       "</tr>\n",
       "<tr>\n",
       "  <th>Date:</th>             <td>Fri, 19 Aug 2022</td> <th>  Prob (F-statistic):</th>           <td>  0.00</td> \n",
       "</tr>\n",
       "<tr>\n",
       "  <th>Time:</th>                 <td>21:26:22</td>     <th>  Log-Likelihood:    </th>          <td> -1393.4</td>\n",
       "</tr>\n",
       "<tr>\n",
       "  <th>No. Observations:</th>      <td>  1000</td>      <th>  AIC:               </th>          <td>   2791.</td>\n",
       "</tr>\n",
       "<tr>\n",
       "  <th>Df Residuals:</th>          <td>   998</td>      <th>  BIC:               </th>          <td>   2801.</td>\n",
       "</tr>\n",
       "<tr>\n",
       "  <th>Df Model:</th>              <td>     2</td>      <th>                     </th>              <td> </td>   \n",
       "</tr>\n",
       "<tr>\n",
       "  <th>Covariance Type:</th>      <td>nonrobust</td>    <th>                     </th>              <td> </td>   \n",
       "</tr>\n",
       "</table>\n",
       "<table class=\"simpletable\">\n",
       "<tr>\n",
       "   <td></td>     <th>coef</th>     <th>std err</th>      <th>t</th>      <th>P>|t|</th>  <th>[0.025</th>    <th>0.975]</th>  \n",
       "</tr>\n",
       "<tr>\n",
       "  <th>x1</th> <td>    0.2332</td> <td>    0.027</td> <td>    8.508</td> <td> 0.000</td> <td>    0.179</td> <td>    0.287</td>\n",
       "</tr>\n",
       "<tr>\n",
       "  <th>x2</th> <td>    5.0420</td> <td>    0.049</td> <td>  102.158</td> <td> 0.000</td> <td>    4.945</td> <td>    5.139</td>\n",
       "</tr>\n",
       "</table>\n",
       "<table class=\"simpletable\">\n",
       "<tr>\n",
       "  <th>Omnibus:</th>       <td> 1.761</td> <th>  Durbin-Watson:     </th> <td>   1.962</td>\n",
       "</tr>\n",
       "<tr>\n",
       "  <th>Prob(Omnibus):</th> <td> 0.414</td> <th>  Jarque-Bera (JB):  </th> <td>   1.735</td>\n",
       "</tr>\n",
       "<tr>\n",
       "  <th>Skew:</th>          <td>-0.050</td> <th>  Prob(JB):          </th> <td>   0.420</td>\n",
       "</tr>\n",
       "<tr>\n",
       "  <th>Kurtosis:</th>      <td> 2.823</td> <th>  Cond. No.          </th> <td>    1.81</td>\n",
       "</tr>\n",
       "</table><br/><br/>Notes:<br/>[1] R² is computed without centering (uncentered) since the model does not contain a constant.<br/>[2] Standard Errors assume that the covariance matrix of the errors is correctly specified."
      ],
      "text/plain": [
       "<class 'statsmodels.iolib.summary.Summary'>\n",
       "\"\"\"\n",
       "                                 OLS Regression Results                                \n",
       "=======================================================================================\n",
       "Dep. Variable:                      y   R-squared (uncentered):                   0.913\n",
       "Model:                            OLS   Adj. R-squared (uncentered):              0.913\n",
       "Method:                 Least Squares   F-statistic:                              5223.\n",
       "Date:                Fri, 19 Aug 2022   Prob (F-statistic):                        0.00\n",
       "Time:                        21:26:22   Log-Likelihood:                         -1393.4\n",
       "No. Observations:                1000   AIC:                                      2791.\n",
       "Df Residuals:                     998   BIC:                                      2801.\n",
       "Df Model:                           2                                                  \n",
       "Covariance Type:            nonrobust                                                  \n",
       "==============================================================================\n",
       "                 coef    std err          t      P>|t|      [0.025      0.975]\n",
       "------------------------------------------------------------------------------\n",
       "x1             0.2332      0.027      8.508      0.000       0.179       0.287\n",
       "x2             5.0420      0.049    102.158      0.000       4.945       5.139\n",
       "==============================================================================\n",
       "Omnibus:                        1.761   Durbin-Watson:                   1.962\n",
       "Prob(Omnibus):                  0.414   Jarque-Bera (JB):                1.735\n",
       "Skew:                          -0.050   Prob(JB):                        0.420\n",
       "Kurtosis:                       2.823   Cond. No.                         1.81\n",
       "==============================================================================\n",
       "\n",
       "Notes:\n",
       "[1] R² is computed without centering (uncentered) since the model does not contain a constant.\n",
       "[2] Standard Errors assume that the covariance matrix of the errors is correctly specified.\n",
       "\"\"\""
      ]
     },
     "execution_count": 10,
     "metadata": {},
     "output_type": "execute_result"
    }
   ],
   "source": [
    "model = OLS(np.asarray(df[outcome]), np.asarray(df[[common_cause, treatment]], dtype=np.float64))\n",
    "result = model.fit()\n",
    "result.summary()"
   ]
  }
 ],
 "metadata": {
  "kernelspec": {
   "display_name": "Python 3",
   "language": "python",
   "name": "python3"
  },
  "language_info": {
   "codemirror_mode": {
    "name": "ipython",
    "version": 3
   },
   "file_extension": ".py",
   "mimetype": "text/x-python",
   "name": "python",
   "nbconvert_exporter": "python",
   "pygments_lexer": "ipython3",
   "version": "3.8.10"
  },
  "toc": {
   "base_numbering": 1,
   "nav_menu": {},
   "number_sections": false,
   "sideBar": true,
   "skip_h1_title": true,
   "title_cell": "Table of Contents",
   "title_sidebar": "Contents",
   "toc_cell": false,
   "toc_position": {},
   "toc_section_display": true,
   "toc_window_display": false
  }
 },
 "nbformat": 4,
 "nbformat_minor": 4
}
