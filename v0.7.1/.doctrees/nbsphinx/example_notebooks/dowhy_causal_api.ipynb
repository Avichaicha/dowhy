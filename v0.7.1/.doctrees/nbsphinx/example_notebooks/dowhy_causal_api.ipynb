{
 "cells": [
  {
   "cell_type": "markdown",
   "metadata": {},
   "source": [
    "# Demo for the DoWhy causal API\n",
    "We show a simple example of adding a causal extension to any dataframe. "
   ]
  },
  {
   "cell_type": "code",
   "execution_count": 1,
   "metadata": {
    "execution": {
     "iopub.execute_input": "2022-07-29T10:36:03.063885Z",
     "iopub.status.busy": "2022-07-29T10:36:03.063567Z",
     "iopub.status.idle": "2022-07-29T10:36:04.445826Z",
     "shell.execute_reply": "2022-07-29T10:36:04.444899Z"
    }
   },
   "outputs": [
    {
     "name": "stdout",
     "output_type": "stream",
     "text": [
      "keywords are unexpanded, not using\n"
     ]
    }
   ],
   "source": [
    "import dowhy.datasets\n",
    "import dowhy.api\n",
    "\n",
    "import numpy as np\n",
    "import pandas as pd\n",
    "\n",
    "from statsmodels.api import OLS"
   ]
  },
  {
   "cell_type": "code",
   "execution_count": 2,
   "metadata": {
    "execution": {
     "iopub.execute_input": "2022-07-29T10:36:04.449974Z",
     "iopub.status.busy": "2022-07-29T10:36:04.449473Z",
     "iopub.status.idle": "2022-07-29T10:36:04.516543Z",
     "shell.execute_reply": "2022-07-29T10:36:04.515712Z"
    }
   },
   "outputs": [
    {
     "data": {
      "text/html": [
       "<div>\n",
       "<style scoped>\n",
       "    .dataframe tbody tr th:only-of-type {\n",
       "        vertical-align: middle;\n",
       "    }\n",
       "\n",
       "    .dataframe tbody tr th {\n",
       "        vertical-align: top;\n",
       "    }\n",
       "\n",
       "    .dataframe thead th {\n",
       "        text-align: right;\n",
       "    }\n",
       "</style>\n",
       "<table border=\"1\" class=\"dataframe\">\n",
       "  <thead>\n",
       "    <tr style=\"text-align: right;\">\n",
       "      <th></th>\n",
       "      <th>W0</th>\n",
       "      <th>v0</th>\n",
       "      <th>y</th>\n",
       "    </tr>\n",
       "  </thead>\n",
       "  <tbody>\n",
       "    <tr>\n",
       "      <th>0</th>\n",
       "      <td>-0.772466</td>\n",
       "      <td>True</td>\n",
       "      <td>5.021690</td>\n",
       "    </tr>\n",
       "    <tr>\n",
       "      <th>1</th>\n",
       "      <td>-2.275255</td>\n",
       "      <td>False</td>\n",
       "      <td>-1.384672</td>\n",
       "    </tr>\n",
       "    <tr>\n",
       "      <th>2</th>\n",
       "      <td>-2.498680</td>\n",
       "      <td>True</td>\n",
       "      <td>3.418106</td>\n",
       "    </tr>\n",
       "    <tr>\n",
       "      <th>3</th>\n",
       "      <td>-1.024547</td>\n",
       "      <td>True</td>\n",
       "      <td>3.882678</td>\n",
       "    </tr>\n",
       "    <tr>\n",
       "      <th>4</th>\n",
       "      <td>-0.678188</td>\n",
       "      <td>False</td>\n",
       "      <td>-0.111998</td>\n",
       "    </tr>\n",
       "    <tr>\n",
       "      <th>...</th>\n",
       "      <td>...</td>\n",
       "      <td>...</td>\n",
       "      <td>...</td>\n",
       "    </tr>\n",
       "    <tr>\n",
       "      <th>995</th>\n",
       "      <td>-1.863676</td>\n",
       "      <td>False</td>\n",
       "      <td>-0.814584</td>\n",
       "    </tr>\n",
       "    <tr>\n",
       "      <th>996</th>\n",
       "      <td>-2.140205</td>\n",
       "      <td>True</td>\n",
       "      <td>2.989167</td>\n",
       "    </tr>\n",
       "    <tr>\n",
       "      <th>997</th>\n",
       "      <td>-0.746522</td>\n",
       "      <td>True</td>\n",
       "      <td>2.684424</td>\n",
       "    </tr>\n",
       "    <tr>\n",
       "      <th>998</th>\n",
       "      <td>-1.352330</td>\n",
       "      <td>True</td>\n",
       "      <td>4.502400</td>\n",
       "    </tr>\n",
       "    <tr>\n",
       "      <th>999</th>\n",
       "      <td>-2.428789</td>\n",
       "      <td>False</td>\n",
       "      <td>-3.611917</td>\n",
       "    </tr>\n",
       "  </tbody>\n",
       "</table>\n",
       "<p>1000 rows × 3 columns</p>\n",
       "</div>"
      ],
      "text/plain": [
       "           W0     v0         y\n",
       "0   -0.772466   True  5.021690\n",
       "1   -2.275255  False -1.384672\n",
       "2   -2.498680   True  3.418106\n",
       "3   -1.024547   True  3.882678\n",
       "4   -0.678188  False -0.111998\n",
       "..        ...    ...       ...\n",
       "995 -1.863676  False -0.814584\n",
       "996 -2.140205   True  2.989167\n",
       "997 -0.746522   True  2.684424\n",
       "998 -1.352330   True  4.502400\n",
       "999 -2.428789  False -3.611917\n",
       "\n",
       "[1000 rows x 3 columns]"
      ]
     },
     "execution_count": 2,
     "metadata": {},
     "output_type": "execute_result"
    }
   ],
   "source": [
    "data = dowhy.datasets.linear_dataset(beta=5,\n",
    "        num_common_causes=1,\n",
    "        num_instruments = 0,\n",
    "        num_samples=1000,\n",
    "        treatment_is_binary=True)\n",
    "df = data['df']\n",
    "df['y'] = df['y'] + np.random.normal(size=len(df)) # Adding noise to data. Without noise, the variance in Y|X, Z is zero, and mcmc fails.\n",
    "#data['dot_graph'] = 'digraph { v ->y;X0-> v;X0-> y;}'\n",
    "\n",
    "treatment= data[\"treatment_name\"][0]\n",
    "outcome = data[\"outcome_name\"][0]\n",
    "common_cause = data[\"common_causes_names\"][0]\n",
    "df"
   ]
  },
  {
   "cell_type": "code",
   "execution_count": 3,
   "metadata": {
    "execution": {
     "iopub.execute_input": "2022-07-29T10:36:04.519953Z",
     "iopub.status.busy": "2022-07-29T10:36:04.519711Z",
     "iopub.status.idle": "2022-07-29T10:36:05.405209Z",
     "shell.execute_reply": "2022-07-29T10:36:05.404507Z"
    }
   },
   "outputs": [
    {
     "data": {
      "text/plain": [
       "<AxesSubplot:xlabel='v0'>"
      ]
     },
     "execution_count": 3,
     "metadata": {},
     "output_type": "execute_result"
    },
    {
     "data": {
      "image/png": "[encoded data removed]",
      "text/plain": [
       "<Figure size 432x288 with 1 Axes>"
      ]
     },
     "metadata": {
      "needs_background": "light"
     },
     "output_type": "display_data"
    }
   ],
   "source": [
    "# data['df'] is just a regular pandas.DataFrame\n",
    "df.causal.do(x=treatment,\n",
    "                     variable_types={treatment: 'b', outcome: 'c', common_cause: 'c'},\n",
    "                     outcome=outcome,\n",
    "                     common_causes=[common_cause],\n",
    "                     proceed_when_unidentifiable=True).groupby(treatment).mean().plot(y=outcome, kind='bar')"
   ]
  },
  {
   "cell_type": "code",
   "execution_count": 4,
   "metadata": {
    "execution": {
     "iopub.execute_input": "2022-07-29T10:36:05.409449Z",
     "iopub.status.busy": "2022-07-29T10:36:05.408804Z",
     "iopub.status.idle": "2022-07-29T10:36:05.539436Z",
     "shell.execute_reply": "2022-07-29T10:36:05.538678Z"
    }
   },
   "outputs": [
    {
     "data": {
      "text/plain": [
       "<AxesSubplot:xlabel='v0'>"
      ]
     },
     "execution_count": 4,
     "metadata": {},
     "output_type": "execute_result"
    },
    {
     "data": {
      "image/png": "[encoded data removed]",
      "text/plain": [
       "<Figure size 432x288 with 1 Axes>"
      ]
     },
     "metadata": {
      "needs_background": "light"
     },
     "output_type": "display_data"
    }
   ],
   "source": [
    "df.causal.do(x={treatment: 1}, \n",
    "              variable_types={treatment:'b', outcome: 'c', common_cause: 'c'}, \n",
    "              outcome=outcome,\n",
    "              method='weighting', \n",
    "              common_causes=[common_cause],\n",
    "              proceed_when_unidentifiable=True).groupby(treatment).mean().plot(y=outcome, kind='bar')"
   ]
  },
  {
   "cell_type": "code",
   "execution_count": 5,
   "metadata": {
    "execution": {
     "iopub.execute_input": "2022-07-29T10:36:05.544220Z",
     "iopub.status.busy": "2022-07-29T10:36:05.542998Z",
     "iopub.status.idle": "2022-07-29T10:36:05.582702Z",
     "shell.execute_reply": "2022-07-29T10:36:05.581771Z"
    }
   },
   "outputs": [],
   "source": [
    "cdf_1 = df.causal.do(x={treatment: 1}, \n",
    "              variable_types={treatment: 'b', outcome: 'c', common_cause: 'c'}, \n",
    "              outcome=outcome, \n",
    "              dot_graph=data['dot_graph'],\n",
    "              proceed_when_unidentifiable=True)\n",
    "\n",
    "cdf_0 = df.causal.do(x={treatment: 0}, \n",
    "              variable_types={treatment: 'b', outcome: 'c', common_cause: 'c'}, \n",
    "              outcome=outcome, \n",
    "              dot_graph=data['dot_graph'],\n",
    "              proceed_when_unidentifiable=True)\n"
   ]
  },
  {
   "cell_type": "code",
   "execution_count": 6,
   "metadata": {
    "execution": {
     "iopub.execute_input": "2022-07-29T10:36:05.587143Z",
     "iopub.status.busy": "2022-07-29T10:36:05.586763Z",
     "iopub.status.idle": "2022-07-29T10:36:05.601968Z",
     "shell.execute_reply": "2022-07-29T10:36:05.601096Z"
    },
    "scrolled": true
   },
   "outputs": [
    {
     "data": {
      "text/html": [
       "<div>\n",
       "<style scoped>\n",
       "    .dataframe tbody tr th:only-of-type {\n",
       "        vertical-align: middle;\n",
       "    }\n",
       "\n",
       "    .dataframe tbody tr th {\n",
       "        vertical-align: top;\n",
       "    }\n",
       "\n",
       "    .dataframe thead th {\n",
       "        text-align: right;\n",
       "    }\n",
       "</style>\n",
       "<table border=\"1\" class=\"dataframe\">\n",
       "  <thead>\n",
       "    <tr style=\"text-align: right;\">\n",
       "      <th></th>\n",
       "      <th>W0</th>\n",
       "      <th>v0</th>\n",
       "      <th>y</th>\n",
       "      <th>propensity_score</th>\n",
       "      <th>weight</th>\n",
       "    </tr>\n",
       "  </thead>\n",
       "  <tbody>\n",
       "    <tr>\n",
       "      <th>0</th>\n",
       "      <td>-1.960916</td>\n",
       "      <td>False</td>\n",
       "      <td>-2.566127</td>\n",
       "      <td>0.517202</td>\n",
       "      <td>1.933481</td>\n",
       "    </tr>\n",
       "    <tr>\n",
       "      <th>1</th>\n",
       "      <td>0.150798</td>\n",
       "      <td>False</td>\n",
       "      <td>-0.718491</td>\n",
       "      <td>0.458954</td>\n",
       "      <td>2.178867</td>\n",
       "    </tr>\n",
       "    <tr>\n",
       "      <th>2</th>\n",
       "      <td>-0.012718</td>\n",
       "      <td>False</td>\n",
       "      <td>-0.100513</td>\n",
       "      <td>0.463445</td>\n",
       "      <td>2.157754</td>\n",
       "    </tr>\n",
       "    <tr>\n",
       "      <th>3</th>\n",
       "      <td>-1.179887</td>\n",
       "      <td>False</td>\n",
       "      <td>0.020608</td>\n",
       "      <td>0.495629</td>\n",
       "      <td>2.017639</td>\n",
       "    </tr>\n",
       "    <tr>\n",
       "      <th>4</th>\n",
       "      <td>-1.506756</td>\n",
       "      <td>False</td>\n",
       "      <td>-0.437904</td>\n",
       "      <td>0.504660</td>\n",
       "      <td>1.981532</td>\n",
       "    </tr>\n",
       "    <tr>\n",
       "      <th>...</th>\n",
       "      <td>...</td>\n",
       "      <td>...</td>\n",
       "      <td>...</td>\n",
       "      <td>...</td>\n",
       "      <td>...</td>\n",
       "    </tr>\n",
       "    <tr>\n",
       "      <th>995</th>\n",
       "      <td>-2.236010</td>\n",
       "      <td>False</td>\n",
       "      <td>-1.122510</td>\n",
       "      <td>0.524789</td>\n",
       "      <td>1.905527</td>\n",
       "    </tr>\n",
       "    <tr>\n",
       "      <th>996</th>\n",
       "      <td>-2.322494</td>\n",
       "      <td>False</td>\n",
       "      <td>-2.801729</td>\n",
       "      <td>0.527172</td>\n",
       "      <td>1.896913</td>\n",
       "    </tr>\n",
       "    <tr>\n",
       "      <th>997</th>\n",
       "      <td>0.185814</td>\n",
       "      <td>False</td>\n",
       "      <td>0.161717</td>\n",
       "      <td>0.457993</td>\n",
       "      <td>2.183438</td>\n",
       "    </tr>\n",
       "    <tr>\n",
       "      <th>998</th>\n",
       "      <td>-2.138517</td>\n",
       "      <td>False</td>\n",
       "      <td>-2.125574</td>\n",
       "      <td>0.522101</td>\n",
       "      <td>1.915337</td>\n",
       "    </tr>\n",
       "    <tr>\n",
       "      <th>999</th>\n",
       "      <td>-0.213131</td>\n",
       "      <td>False</td>\n",
       "      <td>1.063994</td>\n",
       "      <td>0.468957</td>\n",
       "      <td>2.132392</td>\n",
       "    </tr>\n",
       "  </tbody>\n",
       "</table>\n",
       "<p>1000 rows × 5 columns</p>\n",
       "</div>"
      ],
      "text/plain": [
       "           W0     v0         y  propensity_score    weight\n",
       "0   -1.960916  False -2.566127          0.517202  1.933481\n",
       "1    0.150798  False -0.718491          0.458954  2.178867\n",
       "2   -0.012718  False -0.100513          0.463445  2.157754\n",
       "3   -1.179887  False  0.020608          0.495629  2.017639\n",
       "4   -1.506756  False -0.437904          0.504660  1.981532\n",
       "..        ...    ...       ...               ...       ...\n",
       "995 -2.236010  False -1.122510          0.524789  1.905527\n",
       "996 -2.322494  False -2.801729          0.527172  1.896913\n",
       "997  0.185814  False  0.161717          0.457993  2.183438\n",
       "998 -2.138517  False -2.125574          0.522101  1.915337\n",
       "999 -0.213131  False  1.063994          0.468957  2.132392\n",
       "\n",
       "[1000 rows x 5 columns]"
      ]
     },
     "execution_count": 6,
     "metadata": {},
     "output_type": "execute_result"
    }
   ],
   "source": [
    "cdf_0"
   ]
  },
  {
   "cell_type": "code",
   "execution_count": 7,
   "metadata": {
    "execution": {
     "iopub.execute_input": "2022-07-29T10:36:05.605813Z",
     "iopub.status.busy": "2022-07-29T10:36:05.605437Z",
     "iopub.status.idle": "2022-07-29T10:36:05.620419Z",
     "shell.execute_reply": "2022-07-29T10:36:05.619553Z"
    }
   },
   "outputs": [
    {
     "data": {
      "text/html": [
       "<div>\n",
       "<style scoped>\n",
       "    .dataframe tbody tr th:only-of-type {\n",
       "        vertical-align: middle;\n",
       "    }\n",
       "\n",
       "    .dataframe tbody tr th {\n",
       "        vertical-align: top;\n",
       "    }\n",
       "\n",
       "    .dataframe thead th {\n",
       "        text-align: right;\n",
       "    }\n",
       "</style>\n",
       "<table border=\"1\" class=\"dataframe\">\n",
       "  <thead>\n",
       "    <tr style=\"text-align: right;\">\n",
       "      <th></th>\n",
       "      <th>W0</th>\n",
       "      <th>v0</th>\n",
       "      <th>y</th>\n",
       "      <th>propensity_score</th>\n",
       "      <th>weight</th>\n",
       "    </tr>\n",
       "  </thead>\n",
       "  <tbody>\n",
       "    <tr>\n",
       "      <th>0</th>\n",
       "      <td>-3.061506</td>\n",
       "      <td>True</td>\n",
       "      <td>3.332645</td>\n",
       "      <td>0.452525</td>\n",
       "      <td>2.209821</td>\n",
       "    </tr>\n",
       "    <tr>\n",
       "      <th>1</th>\n",
       "      <td>-2.688100</td>\n",
       "      <td>True</td>\n",
       "      <td>-0.339725</td>\n",
       "      <td>0.462768</td>\n",
       "      <td>2.160909</td>\n",
       "    </tr>\n",
       "    <tr>\n",
       "      <th>2</th>\n",
       "      <td>-1.141523</td>\n",
       "      <td>True</td>\n",
       "      <td>2.301455</td>\n",
       "      <td>0.505431</td>\n",
       "      <td>1.978509</td>\n",
       "    </tr>\n",
       "    <tr>\n",
       "      <th>3</th>\n",
       "      <td>0.033117</td>\n",
       "      <td>True</td>\n",
       "      <td>3.675636</td>\n",
       "      <td>0.537815</td>\n",
       "      <td>1.859377</td>\n",
       "    </tr>\n",
       "    <tr>\n",
       "      <th>4</th>\n",
       "      <td>-2.700694</td>\n",
       "      <td>True</td>\n",
       "      <td>2.456566</td>\n",
       "      <td>0.462422</td>\n",
       "      <td>2.162526</td>\n",
       "    </tr>\n",
       "    <tr>\n",
       "      <th>...</th>\n",
       "      <td>...</td>\n",
       "      <td>...</td>\n",
       "      <td>...</td>\n",
       "      <td>...</td>\n",
       "      <td>...</td>\n",
       "    </tr>\n",
       "    <tr>\n",
       "      <th>995</th>\n",
       "      <td>-2.627280</td>\n",
       "      <td>True</td>\n",
       "      <td>2.376058</td>\n",
       "      <td>0.464440</td>\n",
       "      <td>2.153132</td>\n",
       "    </tr>\n",
       "    <tr>\n",
       "      <th>996</th>\n",
       "      <td>-1.136288</td>\n",
       "      <td>True</td>\n",
       "      <td>3.252191</td>\n",
       "      <td>0.505576</td>\n",
       "      <td>1.977943</td>\n",
       "    </tr>\n",
       "    <tr>\n",
       "      <th>997</th>\n",
       "      <td>-1.430689</td>\n",
       "      <td>True</td>\n",
       "      <td>1.447231</td>\n",
       "      <td>0.497442</td>\n",
       "      <td>2.010286</td>\n",
       "    </tr>\n",
       "    <tr>\n",
       "      <th>998</th>\n",
       "      <td>-0.097989</td>\n",
       "      <td>True</td>\n",
       "      <td>5.504133</td>\n",
       "      <td>0.534211</td>\n",
       "      <td>1.871920</td>\n",
       "    </tr>\n",
       "    <tr>\n",
       "      <th>999</th>\n",
       "      <td>-1.386288</td>\n",
       "      <td>True</td>\n",
       "      <td>3.125046</td>\n",
       "      <td>0.498669</td>\n",
       "      <td>2.005340</td>\n",
       "    </tr>\n",
       "  </tbody>\n",
       "</table>\n",
       "<p>1000 rows × 5 columns</p>\n",
       "</div>"
      ],
      "text/plain": [
       "           W0    v0         y  propensity_score    weight\n",
       "0   -3.061506  True  3.332645          0.452525  2.209821\n",
       "1   -2.688100  True -0.339725          0.462768  2.160909\n",
       "2   -1.141523  True  2.301455          0.505431  1.978509\n",
       "3    0.033117  True  3.675636          0.537815  1.859377\n",
       "4   -2.700694  True  2.456566          0.462422  2.162526\n",
       "..        ...   ...       ...               ...       ...\n",
       "995 -2.627280  True  2.376058          0.464440  2.153132\n",
       "996 -1.136288  True  3.252191          0.505576  1.977943\n",
       "997 -1.430689  True  1.447231          0.497442  2.010286\n",
       "998 -0.097989  True  5.504133          0.534211  1.871920\n",
       "999 -1.386288  True  3.125046          0.498669  2.005340\n",
       "\n",
       "[1000 rows x 5 columns]"
      ]
     },
     "execution_count": 7,
     "metadata": {},
     "output_type": "execute_result"
    }
   ],
   "source": [
    "cdf_1"
   ]
  },
  {
   "cell_type": "markdown",
   "metadata": {},
   "source": [
    "## Comparing the estimate to Linear Regression\n",
    "First, estimating the effect using the causal data frame, and the 95% confidence interval."
   ]
  },
  {
   "cell_type": "code",
   "execution_count": 8,
   "metadata": {
    "execution": {
     "iopub.execute_input": "2022-07-29T10:36:05.624459Z",
     "iopub.status.busy": "2022-07-29T10:36:05.623833Z",
     "iopub.status.idle": "2022-07-29T10:36:05.744389Z",
     "shell.execute_reply": "2022-07-29T10:36:05.743469Z"
    }
   },
   "outputs": [
    {
     "data": {
      "image/png": "[encoded data removed]",
      "text/latex": [
       "$\\displaystyle 4.96158309937294$"
      ],
      "text/plain": [
       "4.961583099372942"
      ]
     },
     "execution_count": 8,
     "metadata": {},
     "output_type": "execute_result"
    }
   ],
   "source": [
    "(cdf_1['y'] - cdf_0['y']).mean()"
   ]
  },
  {
   "cell_type": "code",
   "execution_count": 9,
   "metadata": {
    "execution": {
     "iopub.execute_input": "2022-07-29T10:36:05.748221Z",
     "iopub.status.busy": "2022-07-29T10:36:05.747931Z",
     "iopub.status.idle": "2022-07-29T10:36:05.777756Z",
     "shell.execute_reply": "2022-07-29T10:36:05.776858Z"
    }
   },
   "outputs": [
    {
     "data": {
      "image/png": "[encoded data removed]",
      "text/latex": [
       "$\\displaystyle 0.121954700528841$"
      ],
      "text/plain": [
       "0.12195470052884115"
      ]
     },
     "execution_count": 9,
     "metadata": {},
     "output_type": "execute_result"
    }
   ],
   "source": [
    "1.96*(cdf_1['y'] - cdf_0['y']).std() / np.sqrt(len(df))"
   ]
  },
  {
   "cell_type": "markdown",
   "metadata": {},
   "source": [
    "Comparing to the estimate from OLS."
   ]
  },
  {
   "cell_type": "code",
   "execution_count": 10,
   "metadata": {
    "execution": {
     "iopub.execute_input": "2022-07-29T10:36:05.781609Z",
     "iopub.status.busy": "2022-07-29T10:36:05.781346Z",
     "iopub.status.idle": "2022-07-29T10:36:05.798499Z",
     "shell.execute_reply": "2022-07-29T10:36:05.797668Z"
    }
   },
   "outputs": [
    {
     "data": {
      "text/html": [
       "<table class=\"simpletable\">\n",
       "<caption>OLS Regression Results</caption>\n",
       "<tr>\n",
       "  <th>Dep. Variable:</th>            <td>y</td>        <th>  R-squared (uncentered):</th>      <td>   0.896</td>\n",
       "</tr>\n",
       "<tr>\n",
       "  <th>Model:</th>                   <td>OLS</td>       <th>  Adj. R-squared (uncentered):</th> <td>   0.896</td>\n",
       "</tr>\n",
       "<tr>\n",
       "  <th>Method:</th>             <td>Least Squares</td>  <th>  F-statistic:       </th>          <td>   4303.</td>\n",
       "</tr>\n",
       "<tr>\n",
       "  <th>Date:</th>             <td>Fri, 29 Jul 2022</td> <th>  Prob (F-statistic):</th>           <td>  0.00</td> \n",
       "</tr>\n",
       "<tr>\n",
       "  <th>Time:</th>                 <td>10:36:05</td>     <th>  Log-Likelihood:    </th>          <td> -1476.1</td>\n",
       "</tr>\n",
       "<tr>\n",
       "  <th>No. Observations:</th>      <td>  1000</td>      <th>  AIC:               </th>          <td>   2956.</td>\n",
       "</tr>\n",
       "<tr>\n",
       "  <th>Df Residuals:</th>          <td>   998</td>      <th>  BIC:               </th>          <td>   2966.</td>\n",
       "</tr>\n",
       "<tr>\n",
       "  <th>Df Model:</th>              <td>     2</td>      <th>                     </th>              <td> </td>   \n",
       "</tr>\n",
       "<tr>\n",
       "  <th>Covariance Type:</th>      <td>nonrobust</td>    <th>                     </th>              <td> </td>   \n",
       "</tr>\n",
       "</table>\n",
       "<table class=\"simpletable\">\n",
       "<tr>\n",
       "   <td></td>     <th>coef</th>     <th>std err</th>      <th>t</th>      <th>P>|t|</th>  <th>[0.025</th>    <th>0.975]</th>  \n",
       "</tr>\n",
       "<tr>\n",
       "  <th>x1</th> <td>    0.9680</td> <td>    0.027</td> <td>   35.770</td> <td> 0.000</td> <td>    0.915</td> <td>    1.021</td>\n",
       "</tr>\n",
       "<tr>\n",
       "  <th>x2</th> <td>    4.9481</td> <td>    0.054</td> <td>   92.219</td> <td> 0.000</td> <td>    4.843</td> <td>    5.053</td>\n",
       "</tr>\n",
       "</table>\n",
       "<table class=\"simpletable\">\n",
       "<tr>\n",
       "  <th>Omnibus:</th>       <td> 5.833</td> <th>  Durbin-Watson:     </th> <td>   2.015</td>\n",
       "</tr>\n",
       "<tr>\n",
       "  <th>Prob(Omnibus):</th> <td> 0.054</td> <th>  Jarque-Bera (JB):  </th> <td>   5.927</td>\n",
       "</tr>\n",
       "<tr>\n",
       "  <th>Skew:</th>          <td>-0.180</td> <th>  Prob(JB):          </th> <td>  0.0516</td>\n",
       "</tr>\n",
       "<tr>\n",
       "  <th>Kurtosis:</th>      <td> 2.891</td> <th>  Cond. No.          </th> <td>    2.43</td>\n",
       "</tr>\n",
       "</table><br/><br/>Notes:<br/>[1] R² is computed without centering (uncentered) since the model does not contain a constant.<br/>[2] Standard Errors assume that the covariance matrix of the errors is correctly specified."
      ],
      "text/plain": [
       "<class 'statsmodels.iolib.summary.Summary'>\n",
       "\"\"\"\n",
       "                                 OLS Regression Results                                \n",
       "=======================================================================================\n",
       "Dep. Variable:                      y   R-squared (uncentered):                   0.896\n",
       "Model:                            OLS   Adj. R-squared (uncentered):              0.896\n",
       "Method:                 Least Squares   F-statistic:                              4303.\n",
       "Date:                Fri, 29 Jul 2022   Prob (F-statistic):                        0.00\n",
       "Time:                        10:36:05   Log-Likelihood:                         -1476.1\n",
       "No. Observations:                1000   AIC:                                      2956.\n",
       "Df Residuals:                     998   BIC:                                      2966.\n",
       "Df Model:                           2                                                  \n",
       "Covariance Type:            nonrobust                                                  \n",
       "==============================================================================\n",
       "                 coef    std err          t      P>|t|      [0.025      0.975]\n",
       "------------------------------------------------------------------------------\n",
       "x1             0.9680      0.027     35.770      0.000       0.915       1.021\n",
       "x2             4.9481      0.054     92.219      0.000       4.843       5.053\n",
       "==============================================================================\n",
       "Omnibus:                        5.833   Durbin-Watson:                   2.015\n",
       "Prob(Omnibus):                  0.054   Jarque-Bera (JB):                5.927\n",
       "Skew:                          -0.180   Prob(JB):                       0.0516\n",
       "Kurtosis:                       2.891   Cond. No.                         2.43\n",
       "==============================================================================\n",
       "\n",
       "Notes:\n",
       "[1] R² is computed without centering (uncentered) since the model does not contain a constant.\n",
       "[2] Standard Errors assume that the covariance matrix of the errors is correctly specified.\n",
       "\"\"\""
      ]
     },
     "execution_count": 10,
     "metadata": {},
     "output_type": "execute_result"
    }
   ],
   "source": [
    "model = OLS(np.asarray(df[outcome]), np.asarray(df[[common_cause, treatment]], dtype=np.float64))\n",
    "result = model.fit()\n",
    "result.summary()"
   ]
  }
 ],
 "metadata": {
  "kernelspec": {
   "display_name": "Python 3",
   "language": "python",
   "name": "python3"
  },
  "language_info": {
   "codemirror_mode": {
    "name": "ipython",
    "version": 3
   },
   "file_extension": ".py",
   "mimetype": "text/x-python",
   "name": "python",
   "nbconvert_exporter": "python",
   "pygments_lexer": "ipython3",
   "version": "3.8.10"
  },
  "toc": {
   "base_numbering": 1,
   "nav_menu": {},
   "number_sections": false,
   "sideBar": true,
   "skip_h1_title": true,
   "title_cell": "Table of Contents",
   "title_sidebar": "Contents",
   "toc_cell": false,
   "toc_position": {},
   "toc_section_display": true,
   "toc_window_display": false
  }
 },
 "nbformat": 4,
 "nbformat_minor": 4
}
