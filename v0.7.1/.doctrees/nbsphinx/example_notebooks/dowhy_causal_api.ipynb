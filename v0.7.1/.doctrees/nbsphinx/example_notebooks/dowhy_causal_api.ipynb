{
 "cells": [
  {
   "cell_type": "markdown",
   "metadata": {},
   "source": [
    "# Demo for the DoWhy causal API\n",
    "We show a simple example of adding a causal extension to any dataframe. "
   ]
  },
  {
   "cell_type": "code",
   "execution_count": 1,
   "metadata": {
    "execution": {
     "iopub.execute_input": "2022-08-19T04:00:38.698368Z",
     "iopub.status.busy": "2022-08-19T04:00:38.697885Z",
     "iopub.status.idle": "2022-08-19T04:00:39.855383Z",
     "shell.execute_reply": "2022-08-19T04:00:39.854612Z"
    }
   },
   "outputs": [],
   "source": [
    "import dowhy.datasets\n",
    "import dowhy.api\n",
    "\n",
    "import numpy as np\n",
    "import pandas as pd\n",
    "\n",
    "from statsmodels.api import OLS"
   ]
  },
  {
   "cell_type": "code",
   "execution_count": 2,
   "metadata": {
    "execution": {
     "iopub.execute_input": "2022-08-19T04:00:39.859813Z",
     "iopub.status.busy": "2022-08-19T04:00:39.859202Z",
     "iopub.status.idle": "2022-08-19T04:00:39.904320Z",
     "shell.execute_reply": "2022-08-19T04:00:39.903599Z"
    }
   },
   "outputs": [
    {
     "data": {
      "text/html": [
       "<div>\n",
       "<style scoped>\n",
       "    .dataframe tbody tr th:only-of-type {\n",
       "        vertical-align: middle;\n",
       "    }\n",
       "\n",
       "    .dataframe tbody tr th {\n",
       "        vertical-align: top;\n",
       "    }\n",
       "\n",
       "    .dataframe thead th {\n",
       "        text-align: right;\n",
       "    }\n",
       "</style>\n",
       "<table border=\"1\" class=\"dataframe\">\n",
       "  <thead>\n",
       "    <tr style=\"text-align: right;\">\n",
       "      <th></th>\n",
       "      <th>W0</th>\n",
       "      <th>v0</th>\n",
       "      <th>y</th>\n",
       "    </tr>\n",
       "  </thead>\n",
       "  <tbody>\n",
       "    <tr>\n",
       "      <th>0</th>\n",
       "      <td>-1.554368</td>\n",
       "      <td>False</td>\n",
       "      <td>0.194190</td>\n",
       "    </tr>\n",
       "    <tr>\n",
       "      <th>1</th>\n",
       "      <td>0.312107</td>\n",
       "      <td>True</td>\n",
       "      <td>5.375545</td>\n",
       "    </tr>\n",
       "    <tr>\n",
       "      <th>2</th>\n",
       "      <td>-0.432204</td>\n",
       "      <td>False</td>\n",
       "      <td>-0.963408</td>\n",
       "    </tr>\n",
       "    <tr>\n",
       "      <th>3</th>\n",
       "      <td>-0.416231</td>\n",
       "      <td>True</td>\n",
       "      <td>6.597549</td>\n",
       "    </tr>\n",
       "    <tr>\n",
       "      <th>4</th>\n",
       "      <td>-1.054166</td>\n",
       "      <td>False</td>\n",
       "      <td>-0.492801</td>\n",
       "    </tr>\n",
       "    <tr>\n",
       "      <th>...</th>\n",
       "      <td>...</td>\n",
       "      <td>...</td>\n",
       "      <td>...</td>\n",
       "    </tr>\n",
       "    <tr>\n",
       "      <th>995</th>\n",
       "      <td>-0.292648</td>\n",
       "      <td>False</td>\n",
       "      <td>0.488714</td>\n",
       "    </tr>\n",
       "    <tr>\n",
       "      <th>996</th>\n",
       "      <td>-2.306151</td>\n",
       "      <td>False</td>\n",
       "      <td>0.827960</td>\n",
       "    </tr>\n",
       "    <tr>\n",
       "      <th>997</th>\n",
       "      <td>-1.927602</td>\n",
       "      <td>True</td>\n",
       "      <td>4.850829</td>\n",
       "    </tr>\n",
       "    <tr>\n",
       "      <th>998</th>\n",
       "      <td>-0.699479</td>\n",
       "      <td>False</td>\n",
       "      <td>0.780535</td>\n",
       "    </tr>\n",
       "    <tr>\n",
       "      <th>999</th>\n",
       "      <td>-1.561112</td>\n",
       "      <td>True</td>\n",
       "      <td>4.196288</td>\n",
       "    </tr>\n",
       "  </tbody>\n",
       "</table>\n",
       "<p>1000 rows × 3 columns</p>\n",
       "</div>"
      ],
      "text/plain": [
       "           W0     v0         y\n",
       "0   -1.554368  False  0.194190\n",
       "1    0.312107   True  5.375545\n",
       "2   -0.432204  False -0.963408\n",
       "3   -0.416231   True  6.597549\n",
       "4   -1.054166  False -0.492801\n",
       "..        ...    ...       ...\n",
       "995 -0.292648  False  0.488714\n",
       "996 -2.306151  False  0.827960\n",
       "997 -1.927602   True  4.850829\n",
       "998 -0.699479  False  0.780535\n",
       "999 -1.561112   True  4.196288\n",
       "\n",
       "[1000 rows x 3 columns]"
      ]
     },
     "execution_count": 2,
     "metadata": {},
     "output_type": "execute_result"
    }
   ],
   "source": [
    "data = dowhy.datasets.linear_dataset(beta=5,\n",
    "        num_common_causes=1,\n",
    "        num_instruments = 0,\n",
    "        num_samples=1000,\n",
    "        treatment_is_binary=True)\n",
    "df = data['df']\n",
    "df['y'] = df['y'] + np.random.normal(size=len(df)) # Adding noise to data. Without noise, the variance in Y|X, Z is zero, and mcmc fails.\n",
    "#data['dot_graph'] = 'digraph { v ->y;X0-> v;X0-> y;}'\n",
    "\n",
    "treatment= data[\"treatment_name\"][0]\n",
    "outcome = data[\"outcome_name\"][0]\n",
    "common_cause = data[\"common_causes_names\"][0]\n",
    "df"
   ]
  },
  {
   "cell_type": "code",
   "execution_count": 3,
   "metadata": {
    "execution": {
     "iopub.execute_input": "2022-08-19T04:00:39.907626Z",
     "iopub.status.busy": "2022-08-19T04:00:39.907222Z",
     "iopub.status.idle": "2022-08-19T04:00:40.682153Z",
     "shell.execute_reply": "2022-08-19T04:00:40.681510Z"
    }
   },
   "outputs": [
    {
     "data": {
      "text/plain": [
       "<AxesSubplot:xlabel='v0'>"
      ]
     },
     "execution_count": 3,
     "metadata": {},
     "output_type": "execute_result"
    },
    {
     "data": {
      "image/png": "[encoded data removed]",
      "text/plain": [
       "<Figure size 432x288 with 1 Axes>"
      ]
     },
     "metadata": {
      "needs_background": "light"
     },
     "output_type": "display_data"
    }
   ],
   "source": [
    "# data['df'] is just a regular pandas.DataFrame\n",
    "df.causal.do(x=treatment,\n",
    "                     variable_types={treatment: 'b', outcome: 'c', common_cause: 'c'},\n",
    "                     outcome=outcome,\n",
    "                     common_causes=[common_cause],\n",
    "                     proceed_when_unidentifiable=True).groupby(treatment).mean().plot(y=outcome, kind='bar')"
   ]
  },
  {
   "cell_type": "code",
   "execution_count": 4,
   "metadata": {
    "execution": {
     "iopub.execute_input": "2022-08-19T04:00:40.685666Z",
     "iopub.status.busy": "2022-08-19T04:00:40.685296Z",
     "iopub.status.idle": "2022-08-19T04:00:40.786539Z",
     "shell.execute_reply": "2022-08-19T04:00:40.785990Z"
    }
   },
   "outputs": [
    {
     "data": {
      "text/plain": [
       "<AxesSubplot:xlabel='v0'>"
      ]
     },
     "execution_count": 4,
     "metadata": {},
     "output_type": "execute_result"
    },
    {
     "data": {
      "image/png": "[encoded data removed]",
      "text/plain": [
       "<Figure size 432x288 with 1 Axes>"
      ]
     },
     "metadata": {
      "needs_background": "light"
     },
     "output_type": "display_data"
    }
   ],
   "source": [
    "df.causal.do(x={treatment: 1}, \n",
    "              variable_types={treatment:'b', outcome: 'c', common_cause: 'c'}, \n",
    "              outcome=outcome,\n",
    "              method='weighting', \n",
    "              common_causes=[common_cause],\n",
    "              proceed_when_unidentifiable=True).groupby(treatment).mean().plot(y=outcome, kind='bar')"
   ]
  },
  {
   "cell_type": "code",
   "execution_count": 5,
   "metadata": {
    "execution": {
     "iopub.execute_input": "2022-08-19T04:00:40.790680Z",
     "iopub.status.busy": "2022-08-19T04:00:40.789678Z",
     "iopub.status.idle": "2022-08-19T04:00:40.821354Z",
     "shell.execute_reply": "2022-08-19T04:00:40.820765Z"
    }
   },
   "outputs": [],
   "source": [
    "cdf_1 = df.causal.do(x={treatment: 1}, \n",
    "              variable_types={treatment: 'b', outcome: 'c', common_cause: 'c'}, \n",
    "              outcome=outcome, \n",
    "              dot_graph=data['dot_graph'],\n",
    "              proceed_when_unidentifiable=True)\n",
    "\n",
    "cdf_0 = df.causal.do(x={treatment: 0}, \n",
    "              variable_types={treatment: 'b', outcome: 'c', common_cause: 'c'}, \n",
    "              outcome=outcome, \n",
    "              dot_graph=data['dot_graph'],\n",
    "              proceed_when_unidentifiable=True)\n"
   ]
  },
  {
   "cell_type": "code",
   "execution_count": 6,
   "metadata": {
    "execution": {
     "iopub.execute_input": "2022-08-19T04:00:40.824766Z",
     "iopub.status.busy": "2022-08-19T04:00:40.824420Z",
     "iopub.status.idle": "2022-08-19T04:00:40.836039Z",
     "shell.execute_reply": "2022-08-19T04:00:40.835542Z"
    },
    "scrolled": true
   },
   "outputs": [
    {
     "data": {
      "text/html": [
       "<div>\n",
       "<style scoped>\n",
       "    .dataframe tbody tr th:only-of-type {\n",
       "        vertical-align: middle;\n",
       "    }\n",
       "\n",
       "    .dataframe tbody tr th {\n",
       "        vertical-align: top;\n",
       "    }\n",
       "\n",
       "    .dataframe thead th {\n",
       "        text-align: right;\n",
       "    }\n",
       "</style>\n",
       "<table border=\"1\" class=\"dataframe\">\n",
       "  <thead>\n",
       "    <tr style=\"text-align: right;\">\n",
       "      <th></th>\n",
       "      <th>W0</th>\n",
       "      <th>v0</th>\n",
       "      <th>y</th>\n",
       "      <th>propensity_score</th>\n",
       "      <th>weight</th>\n",
       "    </tr>\n",
       "  </thead>\n",
       "  <tbody>\n",
       "    <tr>\n",
       "      <th>0</th>\n",
       "      <td>-0.775427</td>\n",
       "      <td>False</td>\n",
       "      <td>-2.516631</td>\n",
       "      <td>0.567831</td>\n",
       "      <td>1.761088</td>\n",
       "    </tr>\n",
       "    <tr>\n",
       "      <th>1</th>\n",
       "      <td>-0.859360</td>\n",
       "      <td>False</td>\n",
       "      <td>0.131265</td>\n",
       "      <td>0.577858</td>\n",
       "      <td>1.730530</td>\n",
       "    </tr>\n",
       "    <tr>\n",
       "      <th>2</th>\n",
       "      <td>-0.112451</td>\n",
       "      <td>False</td>\n",
       "      <td>-0.423231</td>\n",
       "      <td>0.487332</td>\n",
       "      <td>2.051990</td>\n",
       "    </tr>\n",
       "    <tr>\n",
       "      <th>3</th>\n",
       "      <td>1.787187</td>\n",
       "      <td>False</td>\n",
       "      <td>0.256811</td>\n",
       "      <td>0.273257</td>\n",
       "      <td>3.659553</td>\n",
       "    </tr>\n",
       "    <tr>\n",
       "      <th>4</th>\n",
       "      <td>-1.777950</td>\n",
       "      <td>False</td>\n",
       "      <td>-0.240693</td>\n",
       "      <td>0.681891</td>\n",
       "      <td>1.466510</td>\n",
       "    </tr>\n",
       "    <tr>\n",
       "      <th>...</th>\n",
       "      <td>...</td>\n",
       "      <td>...</td>\n",
       "      <td>...</td>\n",
       "      <td>...</td>\n",
       "      <td>...</td>\n",
       "    </tr>\n",
       "    <tr>\n",
       "      <th>995</th>\n",
       "      <td>0.449551</td>\n",
       "      <td>False</td>\n",
       "      <td>0.756735</td>\n",
       "      <td>0.419440</td>\n",
       "      <td>2.384133</td>\n",
       "    </tr>\n",
       "    <tr>\n",
       "      <th>996</th>\n",
       "      <td>-0.495885</td>\n",
       "      <td>False</td>\n",
       "      <td>-0.492525</td>\n",
       "      <td>0.534078</td>\n",
       "      <td>1.872386</td>\n",
       "    </tr>\n",
       "    <tr>\n",
       "      <th>997</th>\n",
       "      <td>0.325575</td>\n",
       "      <td>False</td>\n",
       "      <td>0.815129</td>\n",
       "      <td>0.434247</td>\n",
       "      <td>2.302837</td>\n",
       "    </tr>\n",
       "    <tr>\n",
       "      <th>998</th>\n",
       "      <td>-1.011572</td>\n",
       "      <td>False</td>\n",
       "      <td>-0.467873</td>\n",
       "      <td>0.595874</td>\n",
       "      <td>1.678208</td>\n",
       "    </tr>\n",
       "    <tr>\n",
       "      <th>999</th>\n",
       "      <td>-0.593487</td>\n",
       "      <td>False</td>\n",
       "      <td>-1.322978</td>\n",
       "      <td>0.545914</td>\n",
       "      <td>1.831789</td>\n",
       "    </tr>\n",
       "  </tbody>\n",
       "</table>\n",
       "<p>1000 rows × 5 columns</p>\n",
       "</div>"
      ],
      "text/plain": [
       "           W0     v0         y  propensity_score    weight\n",
       "0   -0.775427  False -2.516631          0.567831  1.761088\n",
       "1   -0.859360  False  0.131265          0.577858  1.730530\n",
       "2   -0.112451  False -0.423231          0.487332  2.051990\n",
       "3    1.787187  False  0.256811          0.273257  3.659553\n",
       "4   -1.777950  False -0.240693          0.681891  1.466510\n",
       "..        ...    ...       ...               ...       ...\n",
       "995  0.449551  False  0.756735          0.419440  2.384133\n",
       "996 -0.495885  False -0.492525          0.534078  1.872386\n",
       "997  0.325575  False  0.815129          0.434247  2.302837\n",
       "998 -1.011572  False -0.467873          0.595874  1.678208\n",
       "999 -0.593487  False -1.322978          0.545914  1.831789\n",
       "\n",
       "[1000 rows x 5 columns]"
      ]
     },
     "execution_count": 6,
     "metadata": {},
     "output_type": "execute_result"
    }
   ],
   "source": [
    "cdf_0"
   ]
  },
  {
   "cell_type": "code",
   "execution_count": 7,
   "metadata": {
    "execution": {
     "iopub.execute_input": "2022-08-19T04:00:40.838841Z",
     "iopub.status.busy": "2022-08-19T04:00:40.838276Z",
     "iopub.status.idle": "2022-08-19T04:00:40.848933Z",
     "shell.execute_reply": "2022-08-19T04:00:40.848302Z"
    }
   },
   "outputs": [
    {
     "data": {
      "text/html": [
       "<div>\n",
       "<style scoped>\n",
       "    .dataframe tbody tr th:only-of-type {\n",
       "        vertical-align: middle;\n",
       "    }\n",
       "\n",
       "    .dataframe tbody tr th {\n",
       "        vertical-align: top;\n",
       "    }\n",
       "\n",
       "    .dataframe thead th {\n",
       "        text-align: right;\n",
       "    }\n",
       "</style>\n",
       "<table border=\"1\" class=\"dataframe\">\n",
       "  <thead>\n",
       "    <tr style=\"text-align: right;\">\n",
       "      <th></th>\n",
       "      <th>W0</th>\n",
       "      <th>v0</th>\n",
       "      <th>y</th>\n",
       "      <th>propensity_score</th>\n",
       "      <th>weight</th>\n",
       "    </tr>\n",
       "  </thead>\n",
       "  <tbody>\n",
       "    <tr>\n",
       "      <th>0</th>\n",
       "      <td>-1.211995</td>\n",
       "      <td>True</td>\n",
       "      <td>6.072981</td>\n",
       "      <td>0.380800</td>\n",
       "      <td>2.626052</td>\n",
       "    </tr>\n",
       "    <tr>\n",
       "      <th>1</th>\n",
       "      <td>-0.775903</td>\n",
       "      <td>True</td>\n",
       "      <td>5.398658</td>\n",
       "      <td>0.432112</td>\n",
       "      <td>2.314213</td>\n",
       "    </tr>\n",
       "    <tr>\n",
       "      <th>2</th>\n",
       "      <td>1.049796</td>\n",
       "      <td>True</td>\n",
       "      <td>5.325802</td>\n",
       "      <td>0.649795</td>\n",
       "      <td>1.538948</td>\n",
       "    </tr>\n",
       "    <tr>\n",
       "      <th>3</th>\n",
       "      <td>-1.458900</td>\n",
       "      <td>True</td>\n",
       "      <td>4.844858</td>\n",
       "      <td>0.352812</td>\n",
       "      <td>2.834374</td>\n",
       "    </tr>\n",
       "    <tr>\n",
       "      <th>4</th>\n",
       "      <td>0.727436</td>\n",
       "      <td>True</td>\n",
       "      <td>3.805028</td>\n",
       "      <td>0.613192</td>\n",
       "      <td>1.630811</td>\n",
       "    </tr>\n",
       "    <tr>\n",
       "      <th>...</th>\n",
       "      <td>...</td>\n",
       "      <td>...</td>\n",
       "      <td>...</td>\n",
       "      <td>...</td>\n",
       "      <td>...</td>\n",
       "    </tr>\n",
       "    <tr>\n",
       "      <th>995</th>\n",
       "      <td>0.552600</td>\n",
       "      <td>True</td>\n",
       "      <td>6.322926</td>\n",
       "      <td>0.592760</td>\n",
       "      <td>1.687024</td>\n",
       "    </tr>\n",
       "    <tr>\n",
       "      <th>996</th>\n",
       "      <td>0.998858</td>\n",
       "      <td>True</td>\n",
       "      <td>5.430310</td>\n",
       "      <td>0.644114</td>\n",
       "      <td>1.552519</td>\n",
       "    </tr>\n",
       "    <tr>\n",
       "      <th>997</th>\n",
       "      <td>-0.707247</td>\n",
       "      <td>True</td>\n",
       "      <td>5.890037</td>\n",
       "      <td>0.440356</td>\n",
       "      <td>2.270890</td>\n",
       "    </tr>\n",
       "    <tr>\n",
       "      <th>998</th>\n",
       "      <td>-1.438818</td>\n",
       "      <td>True</td>\n",
       "      <td>4.064720</td>\n",
       "      <td>0.355054</td>\n",
       "      <td>2.816476</td>\n",
       "    </tr>\n",
       "    <tr>\n",
       "      <th>999</th>\n",
       "      <td>-1.655116</td>\n",
       "      <td>True</td>\n",
       "      <td>4.955931</td>\n",
       "      <td>0.331257</td>\n",
       "      <td>3.018800</td>\n",
       "    </tr>\n",
       "  </tbody>\n",
       "</table>\n",
       "<p>1000 rows × 5 columns</p>\n",
       "</div>"
      ],
      "text/plain": [
       "           W0    v0         y  propensity_score    weight\n",
       "0   -1.211995  True  6.072981          0.380800  2.626052\n",
       "1   -0.775903  True  5.398658          0.432112  2.314213\n",
       "2    1.049796  True  5.325802          0.649795  1.538948\n",
       "3   -1.458900  True  4.844858          0.352812  2.834374\n",
       "4    0.727436  True  3.805028          0.613192  1.630811\n",
       "..        ...   ...       ...               ...       ...\n",
       "995  0.552600  True  6.322926          0.592760  1.687024\n",
       "996  0.998858  True  5.430310          0.644114  1.552519\n",
       "997 -0.707247  True  5.890037          0.440356  2.270890\n",
       "998 -1.438818  True  4.064720          0.355054  2.816476\n",
       "999 -1.655116  True  4.955931          0.331257  3.018800\n",
       "\n",
       "[1000 rows x 5 columns]"
      ]
     },
     "execution_count": 7,
     "metadata": {},
     "output_type": "execute_result"
    }
   ],
   "source": [
    "cdf_1"
   ]
  },
  {
   "cell_type": "markdown",
   "metadata": {},
   "source": [
    "## Comparing the estimate to Linear Regression\n",
    "First, estimating the effect using the causal data frame, and the 95% confidence interval."
   ]
  },
  {
   "cell_type": "code",
   "execution_count": 8,
   "metadata": {
    "execution": {
     "iopub.execute_input": "2022-08-19T04:00:40.851779Z",
     "iopub.status.busy": "2022-08-19T04:00:40.851555Z",
     "iopub.status.idle": "2022-08-19T04:00:40.952319Z",
     "shell.execute_reply": "2022-08-19T04:00:40.951600Z"
    }
   },
   "outputs": [
    {
     "data": {
      "image/png": "[encoded data removed]",
      "text/latex": [
       "$\\displaystyle 5.14353172556853$"
      ],
      "text/plain": [
       "5.143531725568527"
      ]
     },
     "execution_count": 8,
     "metadata": {},
     "output_type": "execute_result"
    }
   ],
   "source": [
    "(cdf_1['y'] - cdf_0['y']).mean()"
   ]
  },
  {
   "cell_type": "code",
   "execution_count": 9,
   "metadata": {
    "execution": {
     "iopub.execute_input": "2022-08-19T04:00:40.955631Z",
     "iopub.status.busy": "2022-08-19T04:00:40.955092Z",
     "iopub.status.idle": "2022-08-19T04:00:40.980852Z",
     "shell.execute_reply": "2022-08-19T04:00:40.980230Z"
    }
   },
   "outputs": [
    {
     "data": {
      "image/png": "[encoded data removed]",
      "text/latex": [
       "$\\displaystyle 0.0922983843257413$"
      ],
      "text/plain": [
       "0.09229838432574132"
      ]
     },
     "execution_count": 9,
     "metadata": {},
     "output_type": "execute_result"
    }
   ],
   "source": [
    "1.96*(cdf_1['y'] - cdf_0['y']).std() / np.sqrt(len(df))"
   ]
  },
  {
   "cell_type": "markdown",
   "metadata": {},
   "source": [
    "Comparing to the estimate from OLS."
   ]
  },
  {
   "cell_type": "code",
   "execution_count": 10,
   "metadata": {
    "execution": {
     "iopub.execute_input": "2022-08-19T04:00:40.984179Z",
     "iopub.status.busy": "2022-08-19T04:00:40.983752Z",
     "iopub.status.idle": "2022-08-19T04:00:41.001837Z",
     "shell.execute_reply": "2022-08-19T04:00:41.001277Z"
    }
   },
   "outputs": [
    {
     "data": {
      "text/html": [
       "<table class=\"simpletable\">\n",
       "<caption>OLS Regression Results</caption>\n",
       "<tr>\n",
       "  <th>Dep. Variable:</th>            <td>y</td>        <th>  R-squared (uncentered):</th>      <td>   0.932</td>\n",
       "</tr>\n",
       "<tr>\n",
       "  <th>Model:</th>                   <td>OLS</td>       <th>  Adj. R-squared (uncentered):</th> <td>   0.932</td>\n",
       "</tr>\n",
       "<tr>\n",
       "  <th>Method:</th>             <td>Least Squares</td>  <th>  F-statistic:       </th>          <td>   6883.</td>\n",
       "</tr>\n",
       "<tr>\n",
       "  <th>Date:</th>             <td>Fri, 19 Aug 2022</td> <th>  Prob (F-statistic):</th>           <td>  0.00</td> \n",
       "</tr>\n",
       "<tr>\n",
       "  <th>Time:</th>                 <td>04:00:40</td>     <th>  Log-Likelihood:    </th>          <td> -1402.6</td>\n",
       "</tr>\n",
       "<tr>\n",
       "  <th>No. Observations:</th>      <td>  1000</td>      <th>  AIC:               </th>          <td>   2809.</td>\n",
       "</tr>\n",
       "<tr>\n",
       "  <th>Df Residuals:</th>          <td>   998</td>      <th>  BIC:               </th>          <td>   2819.</td>\n",
       "</tr>\n",
       "<tr>\n",
       "  <th>Df Model:</th>              <td>     2</td>      <th>                     </th>              <td> </td>   \n",
       "</tr>\n",
       "<tr>\n",
       "  <th>Covariance Type:</th>      <td>nonrobust</td>    <th>                     </th>              <td> </td>   \n",
       "</tr>\n",
       "</table>\n",
       "<table class=\"simpletable\">\n",
       "<tr>\n",
       "   <td></td>     <th>coef</th>     <th>std err</th>      <th>t</th>      <th>P>|t|</th>  <th>[0.025</th>    <th>0.975]</th>  \n",
       "</tr>\n",
       "<tr>\n",
       "  <th>x1</th> <td>    0.3679</td> <td>    0.030</td> <td>   12.126</td> <td> 0.000</td> <td>    0.308</td> <td>    0.427</td>\n",
       "</tr>\n",
       "<tr>\n",
       "  <th>x2</th> <td>    5.0906</td> <td>    0.044</td> <td>  116.054</td> <td> 0.000</td> <td>    5.005</td> <td>    5.177</td>\n",
       "</tr>\n",
       "</table>\n",
       "<table class=\"simpletable\">\n",
       "<tr>\n",
       "  <th>Omnibus:</th>       <td> 1.490</td> <th>  Durbin-Watson:     </th> <td>   2.018</td>\n",
       "</tr>\n",
       "<tr>\n",
       "  <th>Prob(Omnibus):</th> <td> 0.475</td> <th>  Jarque-Bera (JB):  </th> <td>   1.516</td>\n",
       "</tr>\n",
       "<tr>\n",
       "  <th>Skew:</th>          <td>-0.093</td> <th>  Prob(JB):          </th> <td>   0.469</td>\n",
       "</tr>\n",
       "<tr>\n",
       "  <th>Kurtosis:</th>      <td> 2.962</td> <th>  Cond. No.          </th> <td>    1.45</td>\n",
       "</tr>\n",
       "</table><br/><br/>Notes:<br/>[1] R² is computed without centering (uncentered) since the model does not contain a constant.<br/>[2] Standard Errors assume that the covariance matrix of the errors is correctly specified."
      ],
      "text/plain": [
       "<class 'statsmodels.iolib.summary.Summary'>\n",
       "\"\"\"\n",
       "                                 OLS Regression Results                                \n",
       "=======================================================================================\n",
       "Dep. Variable:                      y   R-squared (uncentered):                   0.932\n",
       "Model:                            OLS   Adj. R-squared (uncentered):              0.932\n",
       "Method:                 Least Squares   F-statistic:                              6883.\n",
       "Date:                Fri, 19 Aug 2022   Prob (F-statistic):                        0.00\n",
       "Time:                        04:00:40   Log-Likelihood:                         -1402.6\n",
       "No. Observations:                1000   AIC:                                      2809.\n",
       "Df Residuals:                     998   BIC:                                      2819.\n",
       "Df Model:                           2                                                  \n",
       "Covariance Type:            nonrobust                                                  \n",
       "==============================================================================\n",
       "                 coef    std err          t      P>|t|      [0.025      0.975]\n",
       "------------------------------------------------------------------------------\n",
       "x1             0.3679      0.030     12.126      0.000       0.308       0.427\n",
       "x2             5.0906      0.044    116.054      0.000       5.005       5.177\n",
       "==============================================================================\n",
       "Omnibus:                        1.490   Durbin-Watson:                   2.018\n",
       "Prob(Omnibus):                  0.475   Jarque-Bera (JB):                1.516\n",
       "Skew:                          -0.093   Prob(JB):                        0.469\n",
       "Kurtosis:                       2.962   Cond. No.                         1.45\n",
       "==============================================================================\n",
       "\n",
       "Notes:\n",
       "[1] R² is computed without centering (uncentered) since the model does not contain a constant.\n",
       "[2] Standard Errors assume that the covariance matrix of the errors is correctly specified.\n",
       "\"\"\""
      ]
     },
     "execution_count": 10,
     "metadata": {},
     "output_type": "execute_result"
    }
   ],
   "source": [
    "model = OLS(np.asarray(df[outcome]), np.asarray(df[[common_cause, treatment]], dtype=np.float64))\n",
    "result = model.fit()\n",
    "result.summary()"
   ]
  }
 ],
 "metadata": {
  "kernelspec": {
   "display_name": "Python 3",
   "language": "python",
   "name": "python3"
  },
  "language_info": {
   "codemirror_mode": {
    "name": "ipython",
    "version": 3
   },
   "file_extension": ".py",
   "mimetype": "text/x-python",
   "name": "python",
   "nbconvert_exporter": "python",
   "pygments_lexer": "ipython3",
   "version": "3.8.10"
  },
  "toc": {
   "base_numbering": 1,
   "nav_menu": {},
   "number_sections": false,
   "sideBar": true,
   "skip_h1_title": true,
   "title_cell": "Table of Contents",
   "title_sidebar": "Contents",
   "toc_cell": false,
   "toc_position": {},
   "toc_section_display": true,
   "toc_window_display": false
  }
 },
 "nbformat": 4,
 "nbformat_minor": 4
}
