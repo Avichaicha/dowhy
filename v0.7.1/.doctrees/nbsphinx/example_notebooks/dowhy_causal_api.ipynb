{
 "cells": [
  {
   "cell_type": "markdown",
   "metadata": {},
   "source": [
    "# Demo for the DoWhy causal API\n",
    "We show a simple example of adding a causal extension to any dataframe. "
   ]
  },
  {
   "cell_type": "code",
   "execution_count": 1,
   "metadata": {
    "execution": {
     "iopub.execute_input": "2022-08-18T14:23:58.261669Z",
     "iopub.status.busy": "2022-08-18T14:23:58.261339Z",
     "iopub.status.idle": "2022-08-18T14:23:59.672755Z",
     "shell.execute_reply": "2022-08-18T14:23:59.671652Z"
    }
   },
   "outputs": [],
   "source": [
    "import dowhy.datasets\n",
    "import dowhy.api\n",
    "\n",
    "import numpy as np\n",
    "import pandas as pd\n",
    "\n",
    "from statsmodels.api import OLS"
   ]
  },
  {
   "cell_type": "code",
   "execution_count": 2,
   "metadata": {
    "execution": {
     "iopub.execute_input": "2022-08-18T14:23:59.677895Z",
     "iopub.status.busy": "2022-08-18T14:23:59.677107Z",
     "iopub.status.idle": "2022-08-18T14:23:59.744694Z",
     "shell.execute_reply": "2022-08-18T14:23:59.743559Z"
    }
   },
   "outputs": [
    {
     "data": {
      "text/html": [
       "<div>\n",
       "<style scoped>\n",
       "    .dataframe tbody tr th:only-of-type {\n",
       "        vertical-align: middle;\n",
       "    }\n",
       "\n",
       "    .dataframe tbody tr th {\n",
       "        vertical-align: top;\n",
       "    }\n",
       "\n",
       "    .dataframe thead th {\n",
       "        text-align: right;\n",
       "    }\n",
       "</style>\n",
       "<table border=\"1\" class=\"dataframe\">\n",
       "  <thead>\n",
       "    <tr style=\"text-align: right;\">\n",
       "      <th></th>\n",
       "      <th>W0</th>\n",
       "      <th>v0</th>\n",
       "      <th>y</th>\n",
       "    </tr>\n",
       "  </thead>\n",
       "  <tbody>\n",
       "    <tr>\n",
       "      <th>0</th>\n",
       "      <td>1.212408</td>\n",
       "      <td>True</td>\n",
       "      <td>6.536643</td>\n",
       "    </tr>\n",
       "    <tr>\n",
       "      <th>1</th>\n",
       "      <td>0.574675</td>\n",
       "      <td>False</td>\n",
       "      <td>1.027019</td>\n",
       "    </tr>\n",
       "    <tr>\n",
       "      <th>2</th>\n",
       "      <td>0.935205</td>\n",
       "      <td>True</td>\n",
       "      <td>5.876967</td>\n",
       "    </tr>\n",
       "    <tr>\n",
       "      <th>3</th>\n",
       "      <td>0.338902</td>\n",
       "      <td>True</td>\n",
       "      <td>6.597194</td>\n",
       "    </tr>\n",
       "    <tr>\n",
       "      <th>4</th>\n",
       "      <td>-0.580575</td>\n",
       "      <td>False</td>\n",
       "      <td>-0.853339</td>\n",
       "    </tr>\n",
       "    <tr>\n",
       "      <th>...</th>\n",
       "      <td>...</td>\n",
       "      <td>...</td>\n",
       "      <td>...</td>\n",
       "    </tr>\n",
       "    <tr>\n",
       "      <th>995</th>\n",
       "      <td>0.833749</td>\n",
       "      <td>True</td>\n",
       "      <td>5.393202</td>\n",
       "    </tr>\n",
       "    <tr>\n",
       "      <th>996</th>\n",
       "      <td>-0.541168</td>\n",
       "      <td>True</td>\n",
       "      <td>3.493459</td>\n",
       "    </tr>\n",
       "    <tr>\n",
       "      <th>997</th>\n",
       "      <td>1.070072</td>\n",
       "      <td>True</td>\n",
       "      <td>5.613771</td>\n",
       "    </tr>\n",
       "    <tr>\n",
       "      <th>998</th>\n",
       "      <td>-0.730321</td>\n",
       "      <td>False</td>\n",
       "      <td>-0.608369</td>\n",
       "    </tr>\n",
       "    <tr>\n",
       "      <th>999</th>\n",
       "      <td>-0.926048</td>\n",
       "      <td>False</td>\n",
       "      <td>-2.070744</td>\n",
       "    </tr>\n",
       "  </tbody>\n",
       "</table>\n",
       "<p>1000 rows × 3 columns</p>\n",
       "</div>"
      ],
      "text/plain": [
       "           W0     v0         y\n",
       "0    1.212408   True  6.536643\n",
       "1    0.574675  False  1.027019\n",
       "2    0.935205   True  5.876967\n",
       "3    0.338902   True  6.597194\n",
       "4   -0.580575  False -0.853339\n",
       "..        ...    ...       ...\n",
       "995  0.833749   True  5.393202\n",
       "996 -0.541168   True  3.493459\n",
       "997  1.070072   True  5.613771\n",
       "998 -0.730321  False -0.608369\n",
       "999 -0.926048  False -2.070744\n",
       "\n",
       "[1000 rows x 3 columns]"
      ]
     },
     "execution_count": 2,
     "metadata": {},
     "output_type": "execute_result"
    }
   ],
   "source": [
    "data = dowhy.datasets.linear_dataset(beta=5,\n",
    "        num_common_causes=1,\n",
    "        num_instruments = 0,\n",
    "        num_samples=1000,\n",
    "        treatment_is_binary=True)\n",
    "df = data['df']\n",
    "df['y'] = df['y'] + np.random.normal(size=len(df)) # Adding noise to data. Without noise, the variance in Y|X, Z is zero, and mcmc fails.\n",
    "#data['dot_graph'] = 'digraph { v ->y;X0-> v;X0-> y;}'\n",
    "\n",
    "treatment= data[\"treatment_name\"][0]\n",
    "outcome = data[\"outcome_name\"][0]\n",
    "common_cause = data[\"common_causes_names\"][0]\n",
    "df"
   ]
  },
  {
   "cell_type": "code",
   "execution_count": 3,
   "metadata": {
    "execution": {
     "iopub.execute_input": "2022-08-18T14:23:59.748652Z",
     "iopub.status.busy": "2022-08-18T14:23:59.748177Z",
     "iopub.status.idle": "2022-08-18T14:24:00.685557Z",
     "shell.execute_reply": "2022-08-18T14:24:00.684872Z"
    }
   },
   "outputs": [
    {
     "data": {
      "text/plain": [
       "<AxesSubplot:xlabel='v0'>"
      ]
     },
     "execution_count": 3,
     "metadata": {},
     "output_type": "execute_result"
    },
    {
     "data": {
      "image/png": "[encoded data removed]",
      "text/plain": [
       "<Figure size 432x288 with 1 Axes>"
      ]
     },
     "metadata": {
      "needs_background": "light"
     },
     "output_type": "display_data"
    }
   ],
   "source": [
    "# data['df'] is just a regular pandas.DataFrame\n",
    "df.causal.do(x=treatment,\n",
    "                     variable_types={treatment: 'b', outcome: 'c', common_cause: 'c'},\n",
    "                     outcome=outcome,\n",
    "                     common_causes=[common_cause],\n",
    "                     proceed_when_unidentifiable=True).groupby(treatment).mean().plot(y=outcome, kind='bar')"
   ]
  },
  {
   "cell_type": "code",
   "execution_count": 4,
   "metadata": {
    "execution": {
     "iopub.execute_input": "2022-08-18T14:24:00.689724Z",
     "iopub.status.busy": "2022-08-18T14:24:00.689232Z",
     "iopub.status.idle": "2022-08-18T14:24:00.808423Z",
     "shell.execute_reply": "2022-08-18T14:24:00.807730Z"
    }
   },
   "outputs": [
    {
     "data": {
      "text/plain": [
       "<AxesSubplot:xlabel='v0'>"
      ]
     },
     "execution_count": 4,
     "metadata": {},
     "output_type": "execute_result"
    },
    {
     "data": {
      "image/png": "[encoded data removed]",
      "text/plain": [
       "<Figure size 432x288 with 1 Axes>"
      ]
     },
     "metadata": {
      "needs_background": "light"
     },
     "output_type": "display_data"
    }
   ],
   "source": [
    "df.causal.do(x={treatment: 1}, \n",
    "              variable_types={treatment:'b', outcome: 'c', common_cause: 'c'}, \n",
    "              outcome=outcome,\n",
    "              method='weighting', \n",
    "              common_causes=[common_cause],\n",
    "              proceed_when_unidentifiable=True).groupby(treatment).mean().plot(y=outcome, kind='bar')"
   ]
  },
  {
   "cell_type": "code",
   "execution_count": 5,
   "metadata": {
    "execution": {
     "iopub.execute_input": "2022-08-18T14:24:00.812281Z",
     "iopub.status.busy": "2022-08-18T14:24:00.811734Z",
     "iopub.status.idle": "2022-08-18T14:24:00.851948Z",
     "shell.execute_reply": "2022-08-18T14:24:00.851219Z"
    }
   },
   "outputs": [],
   "source": [
    "cdf_1 = df.causal.do(x={treatment: 1}, \n",
    "              variable_types={treatment: 'b', outcome: 'c', common_cause: 'c'}, \n",
    "              outcome=outcome, \n",
    "              dot_graph=data['dot_graph'],\n",
    "              proceed_when_unidentifiable=True)\n",
    "\n",
    "cdf_0 = df.causal.do(x={treatment: 0}, \n",
    "              variable_types={treatment: 'b', outcome: 'c', common_cause: 'c'}, \n",
    "              outcome=outcome, \n",
    "              dot_graph=data['dot_graph'],\n",
    "              proceed_when_unidentifiable=True)\n"
   ]
  },
  {
   "cell_type": "code",
   "execution_count": 6,
   "metadata": {
    "execution": {
     "iopub.execute_input": "2022-08-18T14:24:00.855819Z",
     "iopub.status.busy": "2022-08-18T14:24:00.855229Z",
     "iopub.status.idle": "2022-08-18T14:24:00.869039Z",
     "shell.execute_reply": "2022-08-18T14:24:00.868238Z"
    },
    "scrolled": true
   },
   "outputs": [
    {
     "data": {
      "text/html": [
       "<div>\n",
       "<style scoped>\n",
       "    .dataframe tbody tr th:only-of-type {\n",
       "        vertical-align: middle;\n",
       "    }\n",
       "\n",
       "    .dataframe tbody tr th {\n",
       "        vertical-align: top;\n",
       "    }\n",
       "\n",
       "    .dataframe thead th {\n",
       "        text-align: right;\n",
       "    }\n",
       "</style>\n",
       "<table border=\"1\" class=\"dataframe\">\n",
       "  <thead>\n",
       "    <tr style=\"text-align: right;\">\n",
       "      <th></th>\n",
       "      <th>W0</th>\n",
       "      <th>v0</th>\n",
       "      <th>y</th>\n",
       "      <th>propensity_score</th>\n",
       "      <th>weight</th>\n",
       "    </tr>\n",
       "  </thead>\n",
       "  <tbody>\n",
       "    <tr>\n",
       "      <th>0</th>\n",
       "      <td>0.328751</td>\n",
       "      <td>False</td>\n",
       "      <td>-0.183292</td>\n",
       "      <td>0.362827</td>\n",
       "      <td>2.756137</td>\n",
       "    </tr>\n",
       "    <tr>\n",
       "      <th>1</th>\n",
       "      <td>-1.897793</td>\n",
       "      <td>False</td>\n",
       "      <td>-3.062250</td>\n",
       "      <td>0.987980</td>\n",
       "      <td>1.012166</td>\n",
       "    </tr>\n",
       "    <tr>\n",
       "      <th>2</th>\n",
       "      <td>-0.505040</td>\n",
       "      <td>False</td>\n",
       "      <td>-1.440963</td>\n",
       "      <td>0.785645</td>\n",
       "      <td>1.272840</td>\n",
       "    </tr>\n",
       "    <tr>\n",
       "      <th>3</th>\n",
       "      <td>-0.147939</td>\n",
       "      <td>False</td>\n",
       "      <td>-0.293244</td>\n",
       "      <td>0.622790</td>\n",
       "      <td>1.605677</td>\n",
       "    </tr>\n",
       "    <tr>\n",
       "      <th>4</th>\n",
       "      <td>-1.717888</td>\n",
       "      <td>False</td>\n",
       "      <td>-3.534673</td>\n",
       "      <td>0.982143</td>\n",
       "      <td>1.018181</td>\n",
       "    </tr>\n",
       "    <tr>\n",
       "      <th>...</th>\n",
       "      <td>...</td>\n",
       "      <td>...</td>\n",
       "      <td>...</td>\n",
       "      <td>...</td>\n",
       "      <td>...</td>\n",
       "    </tr>\n",
       "    <tr>\n",
       "      <th>995</th>\n",
       "      <td>-0.817409</td>\n",
       "      <td>False</td>\n",
       "      <td>-2.240138</td>\n",
       "      <td>0.880423</td>\n",
       "      <td>1.135818</td>\n",
       "    </tr>\n",
       "    <tr>\n",
       "      <th>996</th>\n",
       "      <td>-0.665062</td>\n",
       "      <td>False</td>\n",
       "      <td>-1.278563</td>\n",
       "      <td>0.839731</td>\n",
       "      <td>1.190858</td>\n",
       "    </tr>\n",
       "    <tr>\n",
       "      <th>997</th>\n",
       "      <td>0.328751</td>\n",
       "      <td>False</td>\n",
       "      <td>-0.183292</td>\n",
       "      <td>0.362827</td>\n",
       "      <td>2.756137</td>\n",
       "    </tr>\n",
       "    <tr>\n",
       "      <th>998</th>\n",
       "      <td>-0.754775</td>\n",
       "      <td>False</td>\n",
       "      <td>-0.737387</td>\n",
       "      <td>0.864897</td>\n",
       "      <td>1.156208</td>\n",
       "    </tr>\n",
       "    <tr>\n",
       "      <th>999</th>\n",
       "      <td>-0.272634</td>\n",
       "      <td>False</td>\n",
       "      <td>-0.149874</td>\n",
       "      <td>0.685652</td>\n",
       "      <td>1.458466</td>\n",
       "    </tr>\n",
       "  </tbody>\n",
       "</table>\n",
       "<p>1000 rows × 5 columns</p>\n",
       "</div>"
      ],
      "text/plain": [
       "           W0     v0         y  propensity_score    weight\n",
       "0    0.328751  False -0.183292          0.362827  2.756137\n",
       "1   -1.897793  False -3.062250          0.987980  1.012166\n",
       "2   -0.505040  False -1.440963          0.785645  1.272840\n",
       "3   -0.147939  False -0.293244          0.622790  1.605677\n",
       "4   -1.717888  False -3.534673          0.982143  1.018181\n",
       "..        ...    ...       ...               ...       ...\n",
       "995 -0.817409  False -2.240138          0.880423  1.135818\n",
       "996 -0.665062  False -1.278563          0.839731  1.190858\n",
       "997  0.328751  False -0.183292          0.362827  2.756137\n",
       "998 -0.754775  False -0.737387          0.864897  1.156208\n",
       "999 -0.272634  False -0.149874          0.685652  1.458466\n",
       "\n",
       "[1000 rows x 5 columns]"
      ]
     },
     "execution_count": 6,
     "metadata": {},
     "output_type": "execute_result"
    }
   ],
   "source": [
    "cdf_0"
   ]
  },
  {
   "cell_type": "code",
   "execution_count": 7,
   "metadata": {
    "execution": {
     "iopub.execute_input": "2022-08-18T14:24:00.872530Z",
     "iopub.status.busy": "2022-08-18T14:24:00.872054Z",
     "iopub.status.idle": "2022-08-18T14:24:00.884767Z",
     "shell.execute_reply": "2022-08-18T14:24:00.884005Z"
    }
   },
   "outputs": [
    {
     "data": {
      "text/html": [
       "<div>\n",
       "<style scoped>\n",
       "    .dataframe tbody tr th:only-of-type {\n",
       "        vertical-align: middle;\n",
       "    }\n",
       "\n",
       "    .dataframe tbody tr th {\n",
       "        vertical-align: top;\n",
       "    }\n",
       "\n",
       "    .dataframe thead th {\n",
       "        text-align: right;\n",
       "    }\n",
       "</style>\n",
       "<table border=\"1\" class=\"dataframe\">\n",
       "  <thead>\n",
       "    <tr style=\"text-align: right;\">\n",
       "      <th></th>\n",
       "      <th>W0</th>\n",
       "      <th>v0</th>\n",
       "      <th>y</th>\n",
       "      <th>propensity_score</th>\n",
       "      <th>weight</th>\n",
       "    </tr>\n",
       "  </thead>\n",
       "  <tbody>\n",
       "    <tr>\n",
       "      <th>0</th>\n",
       "      <td>1.030322</td>\n",
       "      <td>True</td>\n",
       "      <td>8.359780</td>\n",
       "      <td>0.893769</td>\n",
       "      <td>1.118857</td>\n",
       "    </tr>\n",
       "    <tr>\n",
       "      <th>1</th>\n",
       "      <td>0.068297</td>\n",
       "      <td>True</td>\n",
       "      <td>6.863013</td>\n",
       "      <td>0.495370</td>\n",
       "      <td>2.018691</td>\n",
       "    </tr>\n",
       "    <tr>\n",
       "      <th>2</th>\n",
       "      <td>0.129471</td>\n",
       "      <td>True</td>\n",
       "      <td>4.958344</td>\n",
       "      <td>0.529489</td>\n",
       "      <td>1.888613</td>\n",
       "    </tr>\n",
       "    <tr>\n",
       "      <th>3</th>\n",
       "      <td>-0.911207</td>\n",
       "      <td>True</td>\n",
       "      <td>3.771236</td>\n",
       "      <td>0.099221</td>\n",
       "      <td>10.078470</td>\n",
       "    </tr>\n",
       "    <tr>\n",
       "      <th>4</th>\n",
       "      <td>-0.034004</td>\n",
       "      <td>True</td>\n",
       "      <td>2.524764</td>\n",
       "      <td>0.438569</td>\n",
       "      <td>2.280143</td>\n",
       "    </tr>\n",
       "    <tr>\n",
       "      <th>...</th>\n",
       "      <td>...</td>\n",
       "      <td>...</td>\n",
       "      <td>...</td>\n",
       "      <td>...</td>\n",
       "      <td>...</td>\n",
       "    </tr>\n",
       "    <tr>\n",
       "      <th>995</th>\n",
       "      <td>1.597488</td>\n",
       "      <td>True</td>\n",
       "      <td>8.451245</td>\n",
       "      <td>0.967592</td>\n",
       "      <td>1.033493</td>\n",
       "    </tr>\n",
       "    <tr>\n",
       "      <th>996</th>\n",
       "      <td>-0.710274</td>\n",
       "      <td>True</td>\n",
       "      <td>5.515244</td>\n",
       "      <td>0.147143</td>\n",
       "      <td>6.796126</td>\n",
       "    </tr>\n",
       "    <tr>\n",
       "      <th>997</th>\n",
       "      <td>0.342769</td>\n",
       "      <td>True</td>\n",
       "      <td>6.352555</td>\n",
       "      <td>0.644379</td>\n",
       "      <td>1.551882</td>\n",
       "    </tr>\n",
       "    <tr>\n",
       "      <th>998</th>\n",
       "      <td>1.597488</td>\n",
       "      <td>True</td>\n",
       "      <td>8.451245</td>\n",
       "      <td>0.967592</td>\n",
       "      <td>1.033493</td>\n",
       "    </tr>\n",
       "    <tr>\n",
       "      <th>999</th>\n",
       "      <td>-0.911207</td>\n",
       "      <td>True</td>\n",
       "      <td>3.771236</td>\n",
       "      <td>0.099221</td>\n",
       "      <td>10.078470</td>\n",
       "    </tr>\n",
       "  </tbody>\n",
       "</table>\n",
       "<p>1000 rows × 5 columns</p>\n",
       "</div>"
      ],
      "text/plain": [
       "           W0    v0         y  propensity_score     weight\n",
       "0    1.030322  True  8.359780          0.893769   1.118857\n",
       "1    0.068297  True  6.863013          0.495370   2.018691\n",
       "2    0.129471  True  4.958344          0.529489   1.888613\n",
       "3   -0.911207  True  3.771236          0.099221  10.078470\n",
       "4   -0.034004  True  2.524764          0.438569   2.280143\n",
       "..        ...   ...       ...               ...        ...\n",
       "995  1.597488  True  8.451245          0.967592   1.033493\n",
       "996 -0.710274  True  5.515244          0.147143   6.796126\n",
       "997  0.342769  True  6.352555          0.644379   1.551882\n",
       "998  1.597488  True  8.451245          0.967592   1.033493\n",
       "999 -0.911207  True  3.771236          0.099221  10.078470\n",
       "\n",
       "[1000 rows x 5 columns]"
      ]
     },
     "execution_count": 7,
     "metadata": {},
     "output_type": "execute_result"
    }
   ],
   "source": [
    "cdf_1"
   ]
  },
  {
   "cell_type": "markdown",
   "metadata": {},
   "source": [
    "## Comparing the estimate to Linear Regression\n",
    "First, estimating the effect using the causal data frame, and the 95% confidence interval."
   ]
  },
  {
   "cell_type": "code",
   "execution_count": 8,
   "metadata": {
    "execution": {
     "iopub.execute_input": "2022-08-18T14:24:00.888759Z",
     "iopub.status.busy": "2022-08-18T14:24:00.888108Z",
     "iopub.status.idle": "2022-08-18T14:24:01.009039Z",
     "shell.execute_reply": "2022-08-18T14:24:01.007957Z"
    }
   },
   "outputs": [
    {
     "data": {
      "image/png": "[encoded data removed]",
      "text/latex": [
       "$\\displaystyle 5.68398048047857$"
      ],
      "text/plain": [
       "5.683980480478565"
      ]
     },
     "execution_count": 8,
     "metadata": {},
     "output_type": "execute_result"
    }
   ],
   "source": [
    "(cdf_1['y'] - cdf_0['y']).mean()"
   ]
  },
  {
   "cell_type": "code",
   "execution_count": 9,
   "metadata": {
    "execution": {
     "iopub.execute_input": "2022-08-18T14:24:01.013486Z",
     "iopub.status.busy": "2022-08-18T14:24:01.012998Z",
     "iopub.status.idle": "2022-08-18T14:24:01.046982Z",
     "shell.execute_reply": "2022-08-18T14:24:01.046120Z"
    }
   },
   "outputs": [
    {
     "data": {
      "image/png": "[encoded data removed]",
      "text/latex": [
       "$\\displaystyle 0.168134371651576$"
      ],
      "text/plain": [
       "0.16813437165157613"
      ]
     },
     "execution_count": 9,
     "metadata": {},
     "output_type": "execute_result"
    }
   ],
   "source": [
    "1.96*(cdf_1['y'] - cdf_0['y']).std() / np.sqrt(len(df))"
   ]
  },
  {
   "cell_type": "markdown",
   "metadata": {},
   "source": [
    "Comparing to the estimate from OLS."
   ]
  },
  {
   "cell_type": "code",
   "execution_count": 10,
   "metadata": {
    "execution": {
     "iopub.execute_input": "2022-08-18T14:24:01.051075Z",
     "iopub.status.busy": "2022-08-18T14:24:01.050512Z",
     "iopub.status.idle": "2022-08-18T14:24:01.078366Z",
     "shell.execute_reply": "2022-08-18T14:24:01.077402Z"
    }
   },
   "outputs": [
    {
     "data": {
      "text/html": [
       "<table class=\"simpletable\">\n",
       "<caption>OLS Regression Results</caption>\n",
       "<tr>\n",
       "  <th>Dep. Variable:</th>            <td>y</td>        <th>  R-squared (uncentered):</th>      <td>   0.954</td> \n",
       "</tr>\n",
       "<tr>\n",
       "  <th>Model:</th>                   <td>OLS</td>       <th>  Adj. R-squared (uncentered):</th> <td>   0.954</td> \n",
       "</tr>\n",
       "<tr>\n",
       "  <th>Method:</th>             <td>Least Squares</td>  <th>  F-statistic:       </th>          <td>1.035e+04</td>\n",
       "</tr>\n",
       "<tr>\n",
       "  <th>Date:</th>             <td>Thu, 18 Aug 2022</td> <th>  Prob (F-statistic):</th>           <td>  0.00</td>  \n",
       "</tr>\n",
       "<tr>\n",
       "  <th>Time:</th>                 <td>14:24:01</td>     <th>  Log-Likelihood:    </th>          <td> -1375.2</td> \n",
       "</tr>\n",
       "<tr>\n",
       "  <th>No. Observations:</th>      <td>  1000</td>      <th>  AIC:               </th>          <td>   2754.</td> \n",
       "</tr>\n",
       "<tr>\n",
       "  <th>Df Residuals:</th>          <td>   998</td>      <th>  BIC:               </th>          <td>   2764.</td> \n",
       "</tr>\n",
       "<tr>\n",
       "  <th>Df Model:</th>              <td>     2</td>      <th>                     </th>              <td> </td>    \n",
       "</tr>\n",
       "<tr>\n",
       "  <th>Covariance Type:</th>      <td>nonrobust</td>    <th>                     </th>              <td> </td>    \n",
       "</tr>\n",
       "</table>\n",
       "<table class=\"simpletable\">\n",
       "<tr>\n",
       "   <td></td>     <th>coef</th>     <th>std err</th>      <th>t</th>      <th>P>|t|</th>  <th>[0.025</th>    <th>0.975]</th>  \n",
       "</tr>\n",
       "<tr>\n",
       "  <th>x1</th> <td>    1.8191</td> <td>    0.032</td> <td>   56.618</td> <td> 0.000</td> <td>    1.756</td> <td>    1.882</td>\n",
       "</tr>\n",
       "<tr>\n",
       "  <th>x2</th> <td>    5.1496</td> <td>    0.050</td> <td>  103.008</td> <td> 0.000</td> <td>    5.052</td> <td>    5.248</td>\n",
       "</tr>\n",
       "</table>\n",
       "<table class=\"simpletable\">\n",
       "<tr>\n",
       "  <th>Omnibus:</th>       <td> 0.954</td> <th>  Durbin-Watson:     </th> <td>   2.078</td>\n",
       "</tr>\n",
       "<tr>\n",
       "  <th>Prob(Omnibus):</th> <td> 0.621</td> <th>  Jarque-Bera (JB):  </th> <td>   0.955</td>\n",
       "</tr>\n",
       "<tr>\n",
       "  <th>Skew:</th>          <td> 0.075</td> <th>  Prob(JB):          </th> <td>   0.620</td>\n",
       "</tr>\n",
       "<tr>\n",
       "  <th>Kurtosis:</th>      <td> 2.983</td> <th>  Cond. No.          </th> <td>    1.80</td>\n",
       "</tr>\n",
       "</table><br/><br/>Notes:<br/>[1] R² is computed without centering (uncentered) since the model does not contain a constant.<br/>[2] Standard Errors assume that the covariance matrix of the errors is correctly specified."
      ],
      "text/plain": [
       "<class 'statsmodels.iolib.summary.Summary'>\n",
       "\"\"\"\n",
       "                                 OLS Regression Results                                \n",
       "=======================================================================================\n",
       "Dep. Variable:                      y   R-squared (uncentered):                   0.954\n",
       "Model:                            OLS   Adj. R-squared (uncentered):              0.954\n",
       "Method:                 Least Squares   F-statistic:                          1.035e+04\n",
       "Date:                Thu, 18 Aug 2022   Prob (F-statistic):                        0.00\n",
       "Time:                        14:24:01   Log-Likelihood:                         -1375.2\n",
       "No. Observations:                1000   AIC:                                      2754.\n",
       "Df Residuals:                     998   BIC:                                      2764.\n",
       "Df Model:                           2                                                  \n",
       "Covariance Type:            nonrobust                                                  \n",
       "==============================================================================\n",
       "                 coef    std err          t      P>|t|      [0.025      0.975]\n",
       "------------------------------------------------------------------------------\n",
       "x1             1.8191      0.032     56.618      0.000       1.756       1.882\n",
       "x2             5.1496      0.050    103.008      0.000       5.052       5.248\n",
       "==============================================================================\n",
       "Omnibus:                        0.954   Durbin-Watson:                   2.078\n",
       "Prob(Omnibus):                  0.621   Jarque-Bera (JB):                0.955\n",
       "Skew:                           0.075   Prob(JB):                        0.620\n",
       "Kurtosis:                       2.983   Cond. No.                         1.80\n",
       "==============================================================================\n",
       "\n",
       "Notes:\n",
       "[1] R² is computed without centering (uncentered) since the model does not contain a constant.\n",
       "[2] Standard Errors assume that the covariance matrix of the errors is correctly specified.\n",
       "\"\"\""
      ]
     },
     "execution_count": 10,
     "metadata": {},
     "output_type": "execute_result"
    }
   ],
   "source": [
    "model = OLS(np.asarray(df[outcome]), np.asarray(df[[common_cause, treatment]], dtype=np.float64))\n",
    "result = model.fit()\n",
    "result.summary()"
   ]
  }
 ],
 "metadata": {
  "kernelspec": {
   "display_name": "Python 3",
   "language": "python",
   "name": "python3"
  },
  "language_info": {
   "codemirror_mode": {
    "name": "ipython",
    "version": 3
   },
   "file_extension": ".py",
   "mimetype": "text/x-python",
   "name": "python",
   "nbconvert_exporter": "python",
   "pygments_lexer": "ipython3",
   "version": "3.8.10"
  },
  "toc": {
   "base_numbering": 1,
   "nav_menu": {},
   "number_sections": false,
   "sideBar": true,
   "skip_h1_title": true,
   "title_cell": "Table of Contents",
   "title_sidebar": "Contents",
   "toc_cell": false,
   "toc_position": {},
   "toc_section_display": true,
   "toc_window_display": false
  }
 },
 "nbformat": 4,
 "nbformat_minor": 4
}
