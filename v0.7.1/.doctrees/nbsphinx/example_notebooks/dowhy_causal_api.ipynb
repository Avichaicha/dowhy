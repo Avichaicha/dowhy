{
 "cells": [
  {
   "cell_type": "markdown",
   "metadata": {},
   "source": [
    "# Demo for the DoWhy causal API\n",
    "We show a simple example of adding a causal extension to any dataframe. "
   ]
  },
  {
   "cell_type": "code",
   "execution_count": 1,
   "metadata": {
    "execution": {
     "iopub.execute_input": "2022-08-22T05:17:41.150542Z",
     "iopub.status.busy": "2022-08-22T05:17:41.149931Z",
     "iopub.status.idle": "2022-08-22T05:17:42.540863Z",
     "shell.execute_reply": "2022-08-22T05:17:42.539726Z"
    }
   },
   "outputs": [],
   "source": [
    "import dowhy.datasets\n",
    "import dowhy.api\n",
    "\n",
    "import numpy as np\n",
    "import pandas as pd\n",
    "\n",
    "from statsmodels.api import OLS"
   ]
  },
  {
   "cell_type": "code",
   "execution_count": 2,
   "metadata": {
    "execution": {
     "iopub.execute_input": "2022-08-22T05:17:42.546238Z",
     "iopub.status.busy": "2022-08-22T05:17:42.545800Z",
     "iopub.status.idle": "2022-08-22T05:17:42.596341Z",
     "shell.execute_reply": "2022-08-22T05:17:42.595616Z"
    }
   },
   "outputs": [
    {
     "data": {
      "text/html": [
       "<div>\n",
       "<style scoped>\n",
       "    .dataframe tbody tr th:only-of-type {\n",
       "        vertical-align: middle;\n",
       "    }\n",
       "\n",
       "    .dataframe tbody tr th {\n",
       "        vertical-align: top;\n",
       "    }\n",
       "\n",
       "    .dataframe thead th {\n",
       "        text-align: right;\n",
       "    }\n",
       "</style>\n",
       "<table border=\"1\" class=\"dataframe\">\n",
       "  <thead>\n",
       "    <tr style=\"text-align: right;\">\n",
       "      <th></th>\n",
       "      <th>W0</th>\n",
       "      <th>v0</th>\n",
       "      <th>y</th>\n",
       "    </tr>\n",
       "  </thead>\n",
       "  <tbody>\n",
       "    <tr>\n",
       "      <th>0</th>\n",
       "      <td>1.878513</td>\n",
       "      <td>True</td>\n",
       "      <td>10.109976</td>\n",
       "    </tr>\n",
       "    <tr>\n",
       "      <th>1</th>\n",
       "      <td>0.263387</td>\n",
       "      <td>False</td>\n",
       "      <td>-0.464678</td>\n",
       "    </tr>\n",
       "    <tr>\n",
       "      <th>2</th>\n",
       "      <td>0.235044</td>\n",
       "      <td>True</td>\n",
       "      <td>5.515349</td>\n",
       "    </tr>\n",
       "    <tr>\n",
       "      <th>3</th>\n",
       "      <td>1.473901</td>\n",
       "      <td>True</td>\n",
       "      <td>9.448202</td>\n",
       "    </tr>\n",
       "    <tr>\n",
       "      <th>4</th>\n",
       "      <td>0.602942</td>\n",
       "      <td>False</td>\n",
       "      <td>0.936806</td>\n",
       "    </tr>\n",
       "    <tr>\n",
       "      <th>...</th>\n",
       "      <td>...</td>\n",
       "      <td>...</td>\n",
       "      <td>...</td>\n",
       "    </tr>\n",
       "    <tr>\n",
       "      <th>995</th>\n",
       "      <td>0.330615</td>\n",
       "      <td>True</td>\n",
       "      <td>7.163719</td>\n",
       "    </tr>\n",
       "    <tr>\n",
       "      <th>996</th>\n",
       "      <td>0.352773</td>\n",
       "      <td>False</td>\n",
       "      <td>1.821211</td>\n",
       "    </tr>\n",
       "    <tr>\n",
       "      <th>997</th>\n",
       "      <td>0.648502</td>\n",
       "      <td>True</td>\n",
       "      <td>5.800821</td>\n",
       "    </tr>\n",
       "    <tr>\n",
       "      <th>998</th>\n",
       "      <td>1.066638</td>\n",
       "      <td>False</td>\n",
       "      <td>3.639751</td>\n",
       "    </tr>\n",
       "    <tr>\n",
       "      <th>999</th>\n",
       "      <td>-0.521796</td>\n",
       "      <td>True</td>\n",
       "      <td>2.956699</td>\n",
       "    </tr>\n",
       "  </tbody>\n",
       "</table>\n",
       "<p>1000 rows × 3 columns</p>\n",
       "</div>"
      ],
      "text/plain": [
       "           W0     v0          y\n",
       "0    1.878513   True  10.109976\n",
       "1    0.263387  False  -0.464678\n",
       "2    0.235044   True   5.515349\n",
       "3    1.473901   True   9.448202\n",
       "4    0.602942  False   0.936806\n",
       "..        ...    ...        ...\n",
       "995  0.330615   True   7.163719\n",
       "996  0.352773  False   1.821211\n",
       "997  0.648502   True   5.800821\n",
       "998  1.066638  False   3.639751\n",
       "999 -0.521796   True   2.956699\n",
       "\n",
       "[1000 rows x 3 columns]"
      ]
     },
     "execution_count": 2,
     "metadata": {},
     "output_type": "execute_result"
    }
   ],
   "source": [
    "data = dowhy.datasets.linear_dataset(beta=5,\n",
    "        num_common_causes=1,\n",
    "        num_instruments = 0,\n",
    "        num_samples=1000,\n",
    "        treatment_is_binary=True)\n",
    "df = data['df']\n",
    "df['y'] = df['y'] + np.random.normal(size=len(df)) # Adding noise to data. Without noise, the variance in Y|X, Z is zero, and mcmc fails.\n",
    "#data['dot_graph'] = 'digraph { v ->y;X0-> v;X0-> y;}'\n",
    "\n",
    "treatment= data[\"treatment_name\"][0]\n",
    "outcome = data[\"outcome_name\"][0]\n",
    "common_cause = data[\"common_causes_names\"][0]\n",
    "df"
   ]
  },
  {
   "cell_type": "code",
   "execution_count": 3,
   "metadata": {
    "execution": {
     "iopub.execute_input": "2022-08-22T05:17:42.600221Z",
     "iopub.status.busy": "2022-08-22T05:17:42.599534Z",
     "iopub.status.idle": "2022-08-22T05:17:43.518654Z",
     "shell.execute_reply": "2022-08-22T05:17:43.518003Z"
    }
   },
   "outputs": [
    {
     "data": {
      "text/plain": [
       "<AxesSubplot:xlabel='v0'>"
      ]
     },
     "execution_count": 3,
     "metadata": {},
     "output_type": "execute_result"
    },
    {
     "data": {
      "image/png": "[encoded data removed]",
      "text/plain": [
       "<Figure size 640x480 with 1 Axes>"
      ]
     },
     "metadata": {},
     "output_type": "display_data"
    }
   ],
   "source": [
    "# data['df'] is just a regular pandas.DataFrame\n",
    "df.causal.do(x=treatment,\n",
    "                     variable_types={treatment: 'b', outcome: 'c', common_cause: 'c'},\n",
    "                     outcome=outcome,\n",
    "                     common_causes=[common_cause],\n",
    "                     proceed_when_unidentifiable=True).groupby(treatment).mean().plot(y=outcome, kind='bar')"
   ]
  },
  {
   "cell_type": "code",
   "execution_count": 4,
   "metadata": {
    "execution": {
     "iopub.execute_input": "2022-08-22T05:17:43.522391Z",
     "iopub.status.busy": "2022-08-22T05:17:43.521695Z",
     "iopub.status.idle": "2022-08-22T05:17:43.649129Z",
     "shell.execute_reply": "2022-08-22T05:17:43.648441Z"
    }
   },
   "outputs": [
    {
     "data": {
      "text/plain": [
       "<AxesSubplot:xlabel='v0'>"
      ]
     },
     "execution_count": 4,
     "metadata": {},
     "output_type": "execute_result"
    },
    {
     "data": {
      "image/png": "[encoded data removed]",
      "text/plain": [
       "<Figure size 640x480 with 1 Axes>"
      ]
     },
     "metadata": {},
     "output_type": "display_data"
    }
   ],
   "source": [
    "df.causal.do(x={treatment: 1}, \n",
    "              variable_types={treatment:'b', outcome: 'c', common_cause: 'c'}, \n",
    "              outcome=outcome,\n",
    "              method='weighting', \n",
    "              common_causes=[common_cause],\n",
    "              proceed_when_unidentifiable=True).groupby(treatment).mean().plot(y=outcome, kind='bar')"
   ]
  },
  {
   "cell_type": "code",
   "execution_count": 5,
   "metadata": {
    "execution": {
     "iopub.execute_input": "2022-08-22T05:17:43.652651Z",
     "iopub.status.busy": "2022-08-22T05:17:43.652125Z",
     "iopub.status.idle": "2022-08-22T05:17:43.689058Z",
     "shell.execute_reply": "2022-08-22T05:17:43.688393Z"
    }
   },
   "outputs": [],
   "source": [
    "cdf_1 = df.causal.do(x={treatment: 1}, \n",
    "              variable_types={treatment: 'b', outcome: 'c', common_cause: 'c'}, \n",
    "              outcome=outcome, \n",
    "              dot_graph=data['dot_graph'],\n",
    "              proceed_when_unidentifiable=True)\n",
    "\n",
    "cdf_0 = df.causal.do(x={treatment: 0}, \n",
    "              variable_types={treatment: 'b', outcome: 'c', common_cause: 'c'}, \n",
    "              outcome=outcome, \n",
    "              dot_graph=data['dot_graph'],\n",
    "              proceed_when_unidentifiable=True)\n"
   ]
  },
  {
   "cell_type": "code",
   "execution_count": 6,
   "metadata": {
    "execution": {
     "iopub.execute_input": "2022-08-22T05:17:43.693010Z",
     "iopub.status.busy": "2022-08-22T05:17:43.692481Z",
     "iopub.status.idle": "2022-08-22T05:17:43.705087Z",
     "shell.execute_reply": "2022-08-22T05:17:43.704293Z"
    },
    "scrolled": true
   },
   "outputs": [
    {
     "data": {
      "text/html": [
       "<div>\n",
       "<style scoped>\n",
       "    .dataframe tbody tr th:only-of-type {\n",
       "        vertical-align: middle;\n",
       "    }\n",
       "\n",
       "    .dataframe tbody tr th {\n",
       "        vertical-align: top;\n",
       "    }\n",
       "\n",
       "    .dataframe thead th {\n",
       "        text-align: right;\n",
       "    }\n",
       "</style>\n",
       "<table border=\"1\" class=\"dataframe\">\n",
       "  <thead>\n",
       "    <tr style=\"text-align: right;\">\n",
       "      <th></th>\n",
       "      <th>W0</th>\n",
       "      <th>v0</th>\n",
       "      <th>y</th>\n",
       "      <th>propensity_score</th>\n",
       "      <th>weight</th>\n",
       "    </tr>\n",
       "  </thead>\n",
       "  <tbody>\n",
       "    <tr>\n",
       "      <th>0</th>\n",
       "      <td>0.199972</td>\n",
       "      <td>False</td>\n",
       "      <td>0.391715</td>\n",
       "      <td>0.436920</td>\n",
       "      <td>2.288750</td>\n",
       "    </tr>\n",
       "    <tr>\n",
       "      <th>1</th>\n",
       "      <td>0.116116</td>\n",
       "      <td>False</td>\n",
       "      <td>0.984177</td>\n",
       "      <td>0.454086</td>\n",
       "      <td>2.202224</td>\n",
       "    </tr>\n",
       "    <tr>\n",
       "      <th>2</th>\n",
       "      <td>1.173898</td>\n",
       "      <td>False</td>\n",
       "      <td>4.941088</td>\n",
       "      <td>0.257144</td>\n",
       "      <td>3.888865</td>\n",
       "    </tr>\n",
       "    <tr>\n",
       "      <th>3</th>\n",
       "      <td>-0.160956</td>\n",
       "      <td>False</td>\n",
       "      <td>0.854189</td>\n",
       "      <td>0.511364</td>\n",
       "      <td>1.955554</td>\n",
       "    </tr>\n",
       "    <tr>\n",
       "      <th>4</th>\n",
       "      <td>-1.044437</td>\n",
       "      <td>False</td>\n",
       "      <td>-1.413126</td>\n",
       "      <td>0.685183</td>\n",
       "      <td>1.459465</td>\n",
       "    </tr>\n",
       "    <tr>\n",
       "      <th>...</th>\n",
       "      <td>...</td>\n",
       "      <td>...</td>\n",
       "      <td>...</td>\n",
       "      <td>...</td>\n",
       "      <td>...</td>\n",
       "    </tr>\n",
       "    <tr>\n",
       "      <th>995</th>\n",
       "      <td>-0.038252</td>\n",
       "      <td>False</td>\n",
       "      <td>-0.039235</td>\n",
       "      <td>0.485945</td>\n",
       "      <td>2.057844</td>\n",
       "    </tr>\n",
       "    <tr>\n",
       "      <th>996</th>\n",
       "      <td>2.525902</td>\n",
       "      <td>False</td>\n",
       "      <td>6.177803</td>\n",
       "      <td>0.101433</td>\n",
       "      <td>9.858748</td>\n",
       "    </tr>\n",
       "    <tr>\n",
       "      <th>997</th>\n",
       "      <td>0.897783</td>\n",
       "      <td>False</td>\n",
       "      <td>3.074008</td>\n",
       "      <td>0.303218</td>\n",
       "      <td>3.297955</td>\n",
       "    </tr>\n",
       "    <tr>\n",
       "      <th>998</th>\n",
       "      <td>2.029909</td>\n",
       "      <td>False</td>\n",
       "      <td>5.413847</td>\n",
       "      <td>0.145502</td>\n",
       "      <td>6.872770</td>\n",
       "    </tr>\n",
       "    <tr>\n",
       "      <th>999</th>\n",
       "      <td>1.059363</td>\n",
       "      <td>False</td>\n",
       "      <td>2.889609</td>\n",
       "      <td>0.275691</td>\n",
       "      <td>3.627247</td>\n",
       "    </tr>\n",
       "  </tbody>\n",
       "</table>\n",
       "<p>1000 rows × 5 columns</p>\n",
       "</div>"
      ],
      "text/plain": [
       "           W0     v0         y  propensity_score    weight\n",
       "0    0.199972  False  0.391715          0.436920  2.288750\n",
       "1    0.116116  False  0.984177          0.454086  2.202224\n",
       "2    1.173898  False  4.941088          0.257144  3.888865\n",
       "3   -0.160956  False  0.854189          0.511364  1.955554\n",
       "4   -1.044437  False -1.413126          0.685183  1.459465\n",
       "..        ...    ...       ...               ...       ...\n",
       "995 -0.038252  False -0.039235          0.485945  2.057844\n",
       "996  2.525902  False  6.177803          0.101433  9.858748\n",
       "997  0.897783  False  3.074008          0.303218  3.297955\n",
       "998  2.029909  False  5.413847          0.145502  6.872770\n",
       "999  1.059363  False  2.889609          0.275691  3.627247\n",
       "\n",
       "[1000 rows x 5 columns]"
      ]
     },
     "execution_count": 6,
     "metadata": {},
     "output_type": "execute_result"
    }
   ],
   "source": [
    "cdf_0"
   ]
  },
  {
   "cell_type": "code",
   "execution_count": 7,
   "metadata": {
    "execution": {
     "iopub.execute_input": "2022-08-22T05:17:43.708803Z",
     "iopub.status.busy": "2022-08-22T05:17:43.708116Z",
     "iopub.status.idle": "2022-08-22T05:17:43.720019Z",
     "shell.execute_reply": "2022-08-22T05:17:43.719250Z"
    }
   },
   "outputs": [
    {
     "data": {
      "text/html": [
       "<div>\n",
       "<style scoped>\n",
       "    .dataframe tbody tr th:only-of-type {\n",
       "        vertical-align: middle;\n",
       "    }\n",
       "\n",
       "    .dataframe tbody tr th {\n",
       "        vertical-align: top;\n",
       "    }\n",
       "\n",
       "    .dataframe thead th {\n",
       "        text-align: right;\n",
       "    }\n",
       "</style>\n",
       "<table border=\"1\" class=\"dataframe\">\n",
       "  <thead>\n",
       "    <tr style=\"text-align: right;\">\n",
       "      <th></th>\n",
       "      <th>W0</th>\n",
       "      <th>v0</th>\n",
       "      <th>y</th>\n",
       "      <th>propensity_score</th>\n",
       "      <th>weight</th>\n",
       "    </tr>\n",
       "  </thead>\n",
       "  <tbody>\n",
       "    <tr>\n",
       "      <th>0</th>\n",
       "      <td>-1.369815</td>\n",
       "      <td>True</td>\n",
       "      <td>0.258790</td>\n",
       "      <td>0.259731</td>\n",
       "      <td>3.850138</td>\n",
       "    </tr>\n",
       "    <tr>\n",
       "      <th>1</th>\n",
       "      <td>1.739392</td>\n",
       "      <td>True</td>\n",
       "      <td>7.060110</td>\n",
       "      <td>0.821940</td>\n",
       "      <td>1.216634</td>\n",
       "    </tr>\n",
       "    <tr>\n",
       "      <th>2</th>\n",
       "      <td>0.354601</td>\n",
       "      <td>True</td>\n",
       "      <td>7.065264</td>\n",
       "      <td>0.594314</td>\n",
       "      <td>1.682611</td>\n",
       "    </tr>\n",
       "    <tr>\n",
       "      <th>3</th>\n",
       "      <td>0.478676</td>\n",
       "      <td>True</td>\n",
       "      <td>6.304771</td>\n",
       "      <td>0.618848</td>\n",
       "      <td>1.615905</td>\n",
       "    </tr>\n",
       "    <tr>\n",
       "      <th>4</th>\n",
       "      <td>0.386291</td>\n",
       "      <td>True</td>\n",
       "      <td>6.248980</td>\n",
       "      <td>0.600631</td>\n",
       "      <td>1.664916</td>\n",
       "    </tr>\n",
       "    <tr>\n",
       "      <th>...</th>\n",
       "      <td>...</td>\n",
       "      <td>...</td>\n",
       "      <td>...</td>\n",
       "      <td>...</td>\n",
       "      <td>...</td>\n",
       "    </tr>\n",
       "    <tr>\n",
       "      <th>995</th>\n",
       "      <td>-0.069568</td>\n",
       "      <td>True</td>\n",
       "      <td>3.965936</td>\n",
       "      <td>0.507569</td>\n",
       "      <td>1.970175</td>\n",
       "    </tr>\n",
       "    <tr>\n",
       "      <th>996</th>\n",
       "      <td>0.746270</td>\n",
       "      <td>True</td>\n",
       "      <td>5.560673</td>\n",
       "      <td>0.669615</td>\n",
       "      <td>1.493395</td>\n",
       "    </tr>\n",
       "    <tr>\n",
       "      <th>997</th>\n",
       "      <td>-0.678974</td>\n",
       "      <td>True</td>\n",
       "      <td>4.466460</td>\n",
       "      <td>0.383481</td>\n",
       "      <td>2.607688</td>\n",
       "    </tr>\n",
       "    <tr>\n",
       "      <th>998</th>\n",
       "      <td>-0.021441</td>\n",
       "      <td>True</td>\n",
       "      <td>6.573275</td>\n",
       "      <td>0.517534</td>\n",
       "      <td>1.932239</td>\n",
       "    </tr>\n",
       "    <tr>\n",
       "      <th>999</th>\n",
       "      <td>1.878432</td>\n",
       "      <td>True</td>\n",
       "      <td>8.228026</td>\n",
       "      <td>0.838185</td>\n",
       "      <td>1.193055</td>\n",
       "    </tr>\n",
       "  </tbody>\n",
       "</table>\n",
       "<p>1000 rows × 5 columns</p>\n",
       "</div>"
      ],
      "text/plain": [
       "           W0    v0         y  propensity_score    weight\n",
       "0   -1.369815  True  0.258790          0.259731  3.850138\n",
       "1    1.739392  True  7.060110          0.821940  1.216634\n",
       "2    0.354601  True  7.065264          0.594314  1.682611\n",
       "3    0.478676  True  6.304771          0.618848  1.615905\n",
       "4    0.386291  True  6.248980          0.600631  1.664916\n",
       "..        ...   ...       ...               ...       ...\n",
       "995 -0.069568  True  3.965936          0.507569  1.970175\n",
       "996  0.746270  True  5.560673          0.669615  1.493395\n",
       "997 -0.678974  True  4.466460          0.383481  2.607688\n",
       "998 -0.021441  True  6.573275          0.517534  1.932239\n",
       "999  1.878432  True  8.228026          0.838185  1.193055\n",
       "\n",
       "[1000 rows x 5 columns]"
      ]
     },
     "execution_count": 7,
     "metadata": {},
     "output_type": "execute_result"
    }
   ],
   "source": [
    "cdf_1"
   ]
  },
  {
   "cell_type": "markdown",
   "metadata": {},
   "source": [
    "## Comparing the estimate to Linear Regression\n",
    "First, estimating the effect using the causal data frame, and the 95% confidence interval."
   ]
  },
  {
   "cell_type": "code",
   "execution_count": 8,
   "metadata": {
    "execution": {
     "iopub.execute_input": "2022-08-22T05:17:43.723612Z",
     "iopub.status.busy": "2022-08-22T05:17:43.723098Z",
     "iopub.status.idle": "2022-08-22T05:17:43.843232Z",
     "shell.execute_reply": "2022-08-22T05:17:43.842142Z"
    }
   },
   "outputs": [
    {
     "data": {
      "image/png": "[encoded data removed]",
      "text/latex": [
       "$\\displaystyle 5.17225154750741$"
      ],
      "text/plain": [
       "5.172251547507408"
      ]
     },
     "execution_count": 8,
     "metadata": {},
     "output_type": "execute_result"
    }
   ],
   "source": [
    "(cdf_1['y'] - cdf_0['y']).mean()"
   ]
  },
  {
   "cell_type": "code",
   "execution_count": 9,
   "metadata": {
    "execution": {
     "iopub.execute_input": "2022-08-22T05:17:43.849075Z",
     "iopub.status.busy": "2022-08-22T05:17:43.848402Z",
     "iopub.status.idle": "2022-08-22T05:17:43.877577Z",
     "shell.execute_reply": "2022-08-22T05:17:43.876739Z"
    }
   },
   "outputs": [
    {
     "data": {
      "image/png": "[encoded data removed]",
      "text/latex": [
       "$\\displaystyle 0.216184652264273$"
      ],
      "text/plain": [
       "0.21618465226427264"
      ]
     },
     "execution_count": 9,
     "metadata": {},
     "output_type": "execute_result"
    }
   ],
   "source": [
    "1.96*(cdf_1['y'] - cdf_0['y']).std() / np.sqrt(len(df))"
   ]
  },
  {
   "cell_type": "markdown",
   "metadata": {},
   "source": [
    "Comparing to the estimate from OLS."
   ]
  },
  {
   "cell_type": "code",
   "execution_count": 10,
   "metadata": {
    "execution": {
     "iopub.execute_input": "2022-08-22T05:17:43.881748Z",
     "iopub.status.busy": "2022-08-22T05:17:43.881327Z",
     "iopub.status.idle": "2022-08-22T05:17:43.900490Z",
     "shell.execute_reply": "2022-08-22T05:17:43.899715Z"
    }
   },
   "outputs": [
    {
     "data": {
      "text/html": [
       "<table class=\"simpletable\">\n",
       "<caption>OLS Regression Results</caption>\n",
       "<tr>\n",
       "  <th>Dep. Variable:</th>            <td>y</td>        <th>  R-squared (uncentered):</th>      <td>   0.973</td> \n",
       "</tr>\n",
       "<tr>\n",
       "  <th>Model:</th>                   <td>OLS</td>       <th>  Adj. R-squared (uncentered):</th> <td>   0.972</td> \n",
       "</tr>\n",
       "<tr>\n",
       "  <th>Method:</th>             <td>Least Squares</td>  <th>  F-statistic:       </th>          <td>1.766e+04</td>\n",
       "</tr>\n",
       "<tr>\n",
       "  <th>Date:</th>             <td>Mon, 22 Aug 2022</td> <th>  Prob (F-statistic):</th>           <td>  0.00</td>  \n",
       "</tr>\n",
       "<tr>\n",
       "  <th>Time:</th>                 <td>05:17:43</td>     <th>  Log-Likelihood:    </th>          <td> -1428.4</td> \n",
       "</tr>\n",
       "<tr>\n",
       "  <th>No. Observations:</th>      <td>  1000</td>      <th>  AIC:               </th>          <td>   2861.</td> \n",
       "</tr>\n",
       "<tr>\n",
       "  <th>Df Residuals:</th>          <td>   998</td>      <th>  BIC:               </th>          <td>   2871.</td> \n",
       "</tr>\n",
       "<tr>\n",
       "  <th>Df Model:</th>              <td>     2</td>      <th>                     </th>              <td> </td>    \n",
       "</tr>\n",
       "<tr>\n",
       "  <th>Covariance Type:</th>      <td>nonrobust</td>    <th>                     </th>              <td> </td>    \n",
       "</tr>\n",
       "</table>\n",
       "<table class=\"simpletable\">\n",
       "<tr>\n",
       "   <td></td>     <th>coef</th>     <th>std err</th>      <th>t</th>      <th>P>|t|</th>  <th>[0.025</th>    <th>0.975]</th>  \n",
       "</tr>\n",
       "<tr>\n",
       "  <th>x1</th> <td>    2.2733</td> <td>    0.033</td> <td>   68.160</td> <td> 0.000</td> <td>    2.208</td> <td>    2.339</td>\n",
       "</tr>\n",
       "<tr>\n",
       "  <th>x2</th> <td>    5.0353</td> <td>    0.050</td> <td>  100.193</td> <td> 0.000</td> <td>    4.937</td> <td>    5.134</td>\n",
       "</tr>\n",
       "</table>\n",
       "<table class=\"simpletable\">\n",
       "<tr>\n",
       "  <th>Omnibus:</th>       <td> 1.125</td> <th>  Durbin-Watson:     </th> <td>   1.987</td>\n",
       "</tr>\n",
       "<tr>\n",
       "  <th>Prob(Omnibus):</th> <td> 0.570</td> <th>  Jarque-Bera (JB):  </th> <td>   1.204</td>\n",
       "</tr>\n",
       "<tr>\n",
       "  <th>Skew:</th>          <td> 0.062</td> <th>  Prob(JB):          </th> <td>   0.548</td>\n",
       "</tr>\n",
       "<tr>\n",
       "  <th>Kurtosis:</th>      <td> 2.885</td> <th>  Cond. No.          </th> <td>    2.26</td>\n",
       "</tr>\n",
       "</table><br/><br/>Notes:<br/>[1] R² is computed without centering (uncentered) since the model does not contain a constant.<br/>[2] Standard Errors assume that the covariance matrix of the errors is correctly specified."
      ],
      "text/plain": [
       "<class 'statsmodels.iolib.summary.Summary'>\n",
       "\"\"\"\n",
       "                                 OLS Regression Results                                \n",
       "=======================================================================================\n",
       "Dep. Variable:                      y   R-squared (uncentered):                   0.973\n",
       "Model:                            OLS   Adj. R-squared (uncentered):              0.972\n",
       "Method:                 Least Squares   F-statistic:                          1.766e+04\n",
       "Date:                Mon, 22 Aug 2022   Prob (F-statistic):                        0.00\n",
       "Time:                        05:17:43   Log-Likelihood:                         -1428.4\n",
       "No. Observations:                1000   AIC:                                      2861.\n",
       "Df Residuals:                     998   BIC:                                      2871.\n",
       "Df Model:                           2                                                  \n",
       "Covariance Type:            nonrobust                                                  \n",
       "==============================================================================\n",
       "                 coef    std err          t      P>|t|      [0.025      0.975]\n",
       "------------------------------------------------------------------------------\n",
       "x1             2.2733      0.033     68.160      0.000       2.208       2.339\n",
       "x2             5.0353      0.050    100.193      0.000       4.937       5.134\n",
       "==============================================================================\n",
       "Omnibus:                        1.125   Durbin-Watson:                   1.987\n",
       "Prob(Omnibus):                  0.570   Jarque-Bera (JB):                1.204\n",
       "Skew:                           0.062   Prob(JB):                        0.548\n",
       "Kurtosis:                       2.885   Cond. No.                         2.26\n",
       "==============================================================================\n",
       "\n",
       "Notes:\n",
       "[1] R² is computed without centering (uncentered) since the model does not contain a constant.\n",
       "[2] Standard Errors assume that the covariance matrix of the errors is correctly specified.\n",
       "\"\"\""
      ]
     },
     "execution_count": 10,
     "metadata": {},
     "output_type": "execute_result"
    }
   ],
   "source": [
    "model = OLS(np.asarray(df[outcome]), np.asarray(df[[common_cause, treatment]], dtype=np.float64))\n",
    "result = model.fit()\n",
    "result.summary()"
   ]
  }
 ],
 "metadata": {
  "kernelspec": {
   "display_name": "Python 3",
   "language": "python",
   "name": "python3"
  },
  "language_info": {
   "codemirror_mode": {
    "name": "ipython",
    "version": 3
   },
   "file_extension": ".py",
   "mimetype": "text/x-python",
   "name": "python",
   "nbconvert_exporter": "python",
   "pygments_lexer": "ipython3",
   "version": "3.8.10"
  },
  "toc": {
   "base_numbering": 1,
   "nav_menu": {},
   "number_sections": false,
   "sideBar": true,
   "skip_h1_title": true,
   "title_cell": "Table of Contents",
   "title_sidebar": "Contents",
   "toc_cell": false,
   "toc_position": {},
   "toc_section_display": true,
   "toc_window_display": false
  }
 },
 "nbformat": 4,
 "nbformat_minor": 4
}
