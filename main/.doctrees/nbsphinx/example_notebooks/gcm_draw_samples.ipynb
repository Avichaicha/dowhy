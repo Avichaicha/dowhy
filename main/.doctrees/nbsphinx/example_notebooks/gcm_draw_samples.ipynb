{
 "cells": [
  {
   "cell_type": "markdown",
   "id": "b72f7198",
   "metadata": {},
   "source": [
    "# Basic Example for generating samples from a GCM"
   ]
  },
  {
   "cell_type": "markdown",
   "id": "8fe6b612",
   "metadata": {},
   "source": [
    "A graphical causal model (GCM) describes the data generation process of the modeled variables. Therefore, after we fit\n",
    "a GCM, we can also generate completely new samples from it and, thus, can see it as data generator for synthetic data based on the underlying\n",
    "models. Generating new samples can generally be done by sorting the nodes in topological\n",
    "order, randomly sample from root-nodes and then propagate the data through the graph by evaluating the downstream\n",
    "causal mechanisms with randomly sampled noise. The ``dowhy.gcm`` package provides a simple helper function that does\n",
    "this automatically and, by this, offers a simple API to draw samples from a GCM.\n",
    "\n",
    "Lets take a look at the following example:"
   ]
  },
  {
   "cell_type": "code",
   "execution_count": 1,
   "id": "f22337ab",
   "metadata": {
    "execution": {
     "iopub.execute_input": "2022-07-29T09:52:00.316320Z",
     "iopub.status.busy": "2022-07-29T09:52:00.315952Z",
     "iopub.status.idle": "2022-07-29T09:52:00.625045Z",
     "shell.execute_reply": "2022-07-29T09:52:00.624109Z"
    }
   },
   "outputs": [
    {
     "data": {
      "text/html": [
       "<div>\n",
       "<style scoped>\n",
       "    .dataframe tbody tr th:only-of-type {\n",
       "        vertical-align: middle;\n",
       "    }\n",
       "\n",
       "    .dataframe tbody tr th {\n",
       "        vertical-align: top;\n",
       "    }\n",
       "\n",
       "    .dataframe thead th {\n",
       "        text-align: right;\n",
       "    }\n",
       "</style>\n",
       "<table border=\"1\" class=\"dataframe\">\n",
       "  <thead>\n",
       "    <tr style=\"text-align: right;\">\n",
       "      <th></th>\n",
       "      <th>X</th>\n",
       "      <th>Y</th>\n",
       "      <th>Z</th>\n",
       "    </tr>\n",
       "  </thead>\n",
       "  <tbody>\n",
       "    <tr>\n",
       "      <th>0</th>\n",
       "      <td>-0.716603</td>\n",
       "      <td>-1.416521</td>\n",
       "      <td>-4.056060</td>\n",
       "    </tr>\n",
       "    <tr>\n",
       "      <th>1</th>\n",
       "      <td>-0.096764</td>\n",
       "      <td>-0.614030</td>\n",
       "      <td>-1.703560</td>\n",
       "    </tr>\n",
       "    <tr>\n",
       "      <th>2</th>\n",
       "      <td>0.420125</td>\n",
       "      <td>2.863324</td>\n",
       "      <td>8.571210</td>\n",
       "    </tr>\n",
       "    <tr>\n",
       "      <th>3</th>\n",
       "      <td>0.059354</td>\n",
       "      <td>-0.097548</td>\n",
       "      <td>-1.758736</td>\n",
       "    </tr>\n",
       "    <tr>\n",
       "      <th>4</th>\n",
       "      <td>1.211225</td>\n",
       "      <td>3.246071</td>\n",
       "      <td>10.397455</td>\n",
       "    </tr>\n",
       "  </tbody>\n",
       "</table>\n",
       "</div>"
      ],
      "text/plain": [
       "          X         Y          Z\n",
       "0 -0.716603 -1.416521  -4.056060\n",
       "1 -0.096764 -0.614030  -1.703560\n",
       "2  0.420125  2.863324   8.571210\n",
       "3  0.059354 -0.097548  -1.758736\n",
       "4  1.211225  3.246071  10.397455"
      ]
     },
     "execution_count": 1,
     "metadata": {},
     "output_type": "execute_result"
    }
   ],
   "source": [
    "import numpy as np, pandas as pd\n",
    "\n",
    "X = np.random.normal(loc=0, scale=1, size=1000)\n",
    "Y = 2 * X + np.random.normal(loc=0, scale=1, size=1000)\n",
    "Z = 3 * Y + np.random.normal(loc=0, scale=1, size=1000)\n",
    "data = pd.DataFrame(data=dict(X=X, Y=Y, Z=Z))\n",
    "data.head()"
   ]
  },
  {
   "cell_type": "markdown",
   "id": "1a0bb234",
   "metadata": {},
   "source": [
    "Similar as in the introduction, we generate data for the simple linear DAG X→Y→Z. Lets define the GCM and fit it to the\n",
    "data:"
   ]
  },
  {
   "cell_type": "code",
   "execution_count": 2,
   "id": "0367caeb",
   "metadata": {
    "execution": {
     "iopub.execute_input": "2022-07-29T09:52:00.629654Z",
     "iopub.status.busy": "2022-07-29T09:52:00.629138Z",
     "iopub.status.idle": "2022-07-29T09:52:02.812641Z",
     "shell.execute_reply": "2022-07-29T09:52:02.811613Z"
    }
   },
   "outputs": [
    {
     "name": "stdout",
     "output_type": "stream",
     "text": [
      "keywords are unexpanded, not using\n"
     ]
    },
    {
     "name": "stderr",
     "output_type": "stream",
     "text": [
      "\r",
      "Fitting causal models:   0%|          | 0/3 [00:00<?, ?it/s]"
     ]
    },
    {
     "name": "stderr",
     "output_type": "stream",
     "text": [
      "\r",
      "Fitting causal mechanism of node X:   0%|          | 0/3 [00:00<?, ?it/s]"
     ]
    },
    {
     "name": "stderr",
     "output_type": "stream",
     "text": [
      "\r",
      "Fitting causal mechanism of node Y:   0%|          | 0/3 [00:00<?, ?it/s]"
     ]
    },
    {
     "name": "stderr",
     "output_type": "stream",
     "text": [
      "\r",
      "Fitting causal mechanism of node Z:   0%|          | 0/3 [00:00<?, ?it/s]"
     ]
    },
    {
     "name": "stderr",
     "output_type": "stream",
     "text": [
      "\r",
      "Fitting causal mechanism of node Z: 100%|██████████| 3/3 [00:00<00:00, 441.97it/s]"
     ]
    },
    {
     "name": "stderr",
     "output_type": "stream",
     "text": [
      "\n"
     ]
    }
   ],
   "source": [
    "import networkx as nx\n",
    "import dowhy.gcm as gcm\n",
    "\n",
    "causal_model = gcm.StructuralCausalModel(nx.DiGraph([('X', 'Y'), ('Y', 'Z')]))\n",
    "gcm.auto.assign_causal_mechanisms(causal_model, data) # Automatically assigns additive noise models to non-root nodes\n",
    "gcm.fit(causal_model, data)"
   ]
  },
  {
   "cell_type": "markdown",
   "id": "c779d943",
   "metadata": {
    "pycharm": {
     "name": "#%% md\n"
    }
   },
   "source": [
    "We now learned the generative models of the variables, based on the defined causal graph and the additive noise model assumption.\n",
    "To generate new samples from this model, we can now simply call:"
   ]
  },
  {
   "cell_type": "code",
   "execution_count": 3,
   "id": "eb63a8e1",
   "metadata": {
    "collapsed": false,
    "execution": {
     "iopub.execute_input": "2022-07-29T09:52:02.817250Z",
     "iopub.status.busy": "2022-07-29T09:52:02.816695Z",
     "iopub.status.idle": "2022-07-29T09:52:02.831604Z",
     "shell.execute_reply": "2022-07-29T09:52:02.830689Z"
    },
    "jupyter": {
     "outputs_hidden": false
    },
    "pycharm": {
     "name": "#%%\n"
    }
   },
   "outputs": [
    {
     "data": {
      "text/html": [
       "<div>\n",
       "<style scoped>\n",
       "    .dataframe tbody tr th:only-of-type {\n",
       "        vertical-align: middle;\n",
       "    }\n",
       "\n",
       "    .dataframe tbody tr th {\n",
       "        vertical-align: top;\n",
       "    }\n",
       "\n",
       "    .dataframe thead th {\n",
       "        text-align: right;\n",
       "    }\n",
       "</style>\n",
       "<table border=\"1\" class=\"dataframe\">\n",
       "  <thead>\n",
       "    <tr style=\"text-align: right;\">\n",
       "      <th></th>\n",
       "      <th>X</th>\n",
       "      <th>Y</th>\n",
       "      <th>Z</th>\n",
       "    </tr>\n",
       "  </thead>\n",
       "  <tbody>\n",
       "    <tr>\n",
       "      <th>0</th>\n",
       "      <td>0.531761</td>\n",
       "      <td>0.156555</td>\n",
       "      <td>1.834686</td>\n",
       "    </tr>\n",
       "    <tr>\n",
       "      <th>1</th>\n",
       "      <td>0.531761</td>\n",
       "      <td>-0.130652</td>\n",
       "      <td>0.499641</td>\n",
       "    </tr>\n",
       "    <tr>\n",
       "      <th>2</th>\n",
       "      <td>0.051539</td>\n",
       "      <td>0.475126</td>\n",
       "      <td>1.324027</td>\n",
       "    </tr>\n",
       "    <tr>\n",
       "      <th>3</th>\n",
       "      <td>1.458451</td>\n",
       "      <td>0.959247</td>\n",
       "      <td>4.775945</td>\n",
       "    </tr>\n",
       "    <tr>\n",
       "      <th>4</th>\n",
       "      <td>-0.903223</td>\n",
       "      <td>-3.418326</td>\n",
       "      <td>-9.438394</td>\n",
       "    </tr>\n",
       "  </tbody>\n",
       "</table>\n",
       "</div>"
      ],
      "text/plain": [
       "          X         Y         Z\n",
       "0  0.531761  0.156555  1.834686\n",
       "1  0.531761 -0.130652  0.499641\n",
       "2  0.051539  0.475126  1.324027\n",
       "3  1.458451  0.959247  4.775945\n",
       "4 -0.903223 -3.418326 -9.438394"
      ]
     },
     "execution_count": 3,
     "metadata": {},
     "output_type": "execute_result"
    }
   ],
   "source": [
    "generated_data = gcm.draw_samples(causal_model, num_samples=1000)\n",
    "generated_data.head()"
   ]
  },
  {
   "cell_type": "markdown",
   "id": "96b5e58a",
   "metadata": {
    "pycharm": {
     "name": "#%% md\n"
    }
   },
   "source": [
    "If our modeling assumptions are correct, the generated data should now resemble the observed data distribution, i.e. the\n",
    "generated samples correspond to the joint distribution we defined for our example data at the beginning. A quick\n",
    "way to make sure of this is to estimate the KL-divergence between observed and generated distribution:"
   ]
  },
  {
   "cell_type": "code",
   "execution_count": 4,
   "id": "557db59e",
   "metadata": {
    "collapsed": false,
    "execution": {
     "iopub.execute_input": "2022-07-29T09:52:02.835448Z",
     "iopub.status.busy": "2022-07-29T09:52:02.835058Z",
     "iopub.status.idle": "2022-07-29T09:52:03.069175Z",
     "shell.execute_reply": "2022-07-29T09:52:03.068241Z"
    },
    "jupyter": {
     "outputs_hidden": false
    },
    "pycharm": {
     "name": "#%%\n"
    }
   },
   "outputs": [
    {
     "data": {
      "image/png": "[encoded data removed]",
      "text/latex": [
       "$\\displaystyle 0.0134688496698645$"
      ],
      "text/plain": [
       "0.013468849669864506"
      ]
     },
     "execution_count": 4,
     "metadata": {},
     "output_type": "execute_result"
    }
   ],
   "source": [
    "gcm.divergence.auto_estimate_kl_divergence(data.to_numpy(), generated_data.to_numpy())"
   ]
  },
  {
   "cell_type": "markdown",
   "id": "0ccbc2ad",
   "metadata": {
    "pycharm": {
     "name": "#%% md\n"
    }
   },
   "source": [
    "Here, we expect the divergence to be (very) small.\n",
    "\n",
    "**Note**: We **cannot** validate the correctness of a causal graph this way,\n",
    "since any graph from a Markov equivalence class would be sufficient to generate data that is consistent with the observed one,\n",
    "but only one particular graph would generate the correct interventional and counterfactual distributions. This is, seeing the example above,\n",
    "X→Y→Z and X←Y←Z would generate the same observational distribution (since they encode the same conditionals), but only X→Y→Z would generate the\n",
    "correct interventional distribution (e.g. when intervening on Y)."
   ]
  }
 ],
 "metadata": {
  "kernelspec": {
   "display_name": "Python 3 (ipykernel)",
   "language": "python",
   "name": "python3"
  },
  "language_info": {
   "codemirror_mode": {
    "name": "ipython",
    "version": 3
   },
   "file_extension": ".py",
   "mimetype": "text/x-python",
   "name": "python",
   "nbconvert_exporter": "python",
   "pygments_lexer": "ipython3",
   "version": "3.8.10"
  }
 },
 "nbformat": 4,
 "nbformat_minor": 5
}
