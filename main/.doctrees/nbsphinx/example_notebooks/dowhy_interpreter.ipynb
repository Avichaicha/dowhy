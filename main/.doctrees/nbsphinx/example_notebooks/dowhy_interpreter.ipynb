{
 "cells": [
  {
   "cell_type": "markdown",
   "id": "e504cbd4",
   "metadata": {},
   "source": [
    "# DoWhy: Interpreters for Causal Estimators\n",
    "\n",
    "This is a quick introduction to the use of interpreters in the DoWhy causal inference library.\n",
    "We will load in a sample dataset, use different methods for estimating the causal effect of a (pre-specified)treatment variable on a (pre-specified) outcome variable and demonstrate how to interpret the obtained results.\n",
    "\n",
    "First, let us add the required path for Python to find the DoWhy code and load all required packages"
   ]
  },
  {
   "cell_type": "code",
   "execution_count": 1,
   "id": "881bf5f6",
   "metadata": {
    "execution": {
     "iopub.execute_input": "2022-08-19T05:07:23.031881Z",
     "iopub.status.busy": "2022-08-19T05:07:23.031386Z",
     "iopub.status.idle": "2022-08-19T05:07:23.047791Z",
     "shell.execute_reply": "2022-08-19T05:07:23.047183Z"
    }
   },
   "outputs": [],
   "source": [
    "%load_ext autoreload\n",
    "%autoreload 2"
   ]
  },
  {
   "cell_type": "code",
   "execution_count": 2,
   "id": "1cb456d1",
   "metadata": {
    "execution": {
     "iopub.execute_input": "2022-08-19T05:07:23.051161Z",
     "iopub.status.busy": "2022-08-19T05:07:23.050727Z",
     "iopub.status.idle": "2022-08-19T05:07:24.109535Z",
     "shell.execute_reply": "2022-08-19T05:07:24.108812Z"
    }
   },
   "outputs": [],
   "source": [
    "import numpy as np\n",
    "import pandas as pd\n",
    "import logging\n",
    "\n",
    "import dowhy\n",
    "from dowhy import CausalModel\n",
    "import dowhy.datasets "
   ]
  },
  {
   "cell_type": "markdown",
   "id": "b094d5ff",
   "metadata": {},
   "source": [
    "Now, let us load a dataset. For simplicity, we simulate a dataset with linear relationships between common causes and treatment, and common causes and outcome.\n",
    "\n",
    "Beta is the true causal effect."
   ]
  },
  {
   "cell_type": "code",
   "execution_count": 3,
   "id": "97888815",
   "metadata": {
    "execution": {
     "iopub.execute_input": "2022-08-19T05:07:24.113714Z",
     "iopub.status.busy": "2022-08-19T05:07:24.113329Z",
     "iopub.status.idle": "2022-08-19T05:07:24.409870Z",
     "shell.execute_reply": "2022-08-19T05:07:24.408930Z"
    }
   },
   "outputs": [
    {
     "name": "stdout",
     "output_type": "stream",
     "text": [
      "9539\n"
     ]
    },
    {
     "data": {
      "text/html": [
       "<div>\n",
       "<style scoped>\n",
       "    .dataframe tbody tr th:only-of-type {\n",
       "        vertical-align: middle;\n",
       "    }\n",
       "\n",
       "    .dataframe tbody tr th {\n",
       "        vertical-align: top;\n",
       "    }\n",
       "\n",
       "    .dataframe thead th {\n",
       "        text-align: right;\n",
       "    }\n",
       "</style>\n",
       "<table border=\"1\" class=\"dataframe\">\n",
       "  <thead>\n",
       "    <tr style=\"text-align: right;\">\n",
       "      <th></th>\n",
       "      <th>Z0</th>\n",
       "      <th>Z1</th>\n",
       "      <th>W0</th>\n",
       "      <th>W1</th>\n",
       "      <th>W2</th>\n",
       "      <th>W3</th>\n",
       "      <th>W4</th>\n",
       "      <th>v0</th>\n",
       "      <th>y</th>\n",
       "    </tr>\n",
       "  </thead>\n",
       "  <tbody>\n",
       "    <tr>\n",
       "      <th>0</th>\n",
       "      <td>1.0</td>\n",
       "      <td>0.613826</td>\n",
       "      <td>0.785650</td>\n",
       "      <td>-0.668629</td>\n",
       "      <td>0.004208</td>\n",
       "      <td>1.116654</td>\n",
       "      <td>0</td>\n",
       "      <td>True</td>\n",
       "      <td>1.948844</td>\n",
       "    </tr>\n",
       "    <tr>\n",
       "      <th>1</th>\n",
       "      <td>1.0</td>\n",
       "      <td>0.097531</td>\n",
       "      <td>2.013400</td>\n",
       "      <td>-0.282773</td>\n",
       "      <td>-0.332611</td>\n",
       "      <td>3.155569</td>\n",
       "      <td>0</td>\n",
       "      <td>True</td>\n",
       "      <td>4.437366</td>\n",
       "    </tr>\n",
       "    <tr>\n",
       "      <th>2</th>\n",
       "      <td>1.0</td>\n",
       "      <td>0.455132</td>\n",
       "      <td>1.470649</td>\n",
       "      <td>-0.788687</td>\n",
       "      <td>-0.765081</td>\n",
       "      <td>0.279778</td>\n",
       "      <td>0</td>\n",
       "      <td>True</td>\n",
       "      <td>1.151102</td>\n",
       "    </tr>\n",
       "    <tr>\n",
       "      <th>3</th>\n",
       "      <td>1.0</td>\n",
       "      <td>0.394668</td>\n",
       "      <td>1.329791</td>\n",
       "      <td>-0.404039</td>\n",
       "      <td>0.693917</td>\n",
       "      <td>2.011564</td>\n",
       "      <td>1</td>\n",
       "      <td>True</td>\n",
       "      <td>4.297246</td>\n",
       "    </tr>\n",
       "    <tr>\n",
       "      <th>4</th>\n",
       "      <td>1.0</td>\n",
       "      <td>0.042713</td>\n",
       "      <td>-0.923862</td>\n",
       "      <td>-0.425910</td>\n",
       "      <td>0.731468</td>\n",
       "      <td>1.640026</td>\n",
       "      <td>0</td>\n",
       "      <td>True</td>\n",
       "      <td>1.955063</td>\n",
       "    </tr>\n",
       "    <tr>\n",
       "      <th>...</th>\n",
       "      <td>...</td>\n",
       "      <td>...</td>\n",
       "      <td>...</td>\n",
       "      <td>...</td>\n",
       "      <td>...</td>\n",
       "      <td>...</td>\n",
       "      <td>...</td>\n",
       "      <td>...</td>\n",
       "      <td>...</td>\n",
       "    </tr>\n",
       "    <tr>\n",
       "      <th>9995</th>\n",
       "      <td>1.0</td>\n",
       "      <td>0.748621</td>\n",
       "      <td>0.394517</td>\n",
       "      <td>-0.774677</td>\n",
       "      <td>1.480150</td>\n",
       "      <td>1.528425</td>\n",
       "      <td>2</td>\n",
       "      <td>True</td>\n",
       "      <td>4.287059</td>\n",
       "    </tr>\n",
       "    <tr>\n",
       "      <th>9996</th>\n",
       "      <td>1.0</td>\n",
       "      <td>0.631216</td>\n",
       "      <td>0.826791</td>\n",
       "      <td>-0.914032</td>\n",
       "      <td>0.615603</td>\n",
       "      <td>0.010781</td>\n",
       "      <td>2</td>\n",
       "      <td>True</td>\n",
       "      <td>2.747443</td>\n",
       "    </tr>\n",
       "    <tr>\n",
       "      <th>9997</th>\n",
       "      <td>1.0</td>\n",
       "      <td>0.581749</td>\n",
       "      <td>0.783115</td>\n",
       "      <td>-1.768320</td>\n",
       "      <td>-0.958534</td>\n",
       "      <td>2.088322</td>\n",
       "      <td>2</td>\n",
       "      <td>True</td>\n",
       "      <td>3.274563</td>\n",
       "    </tr>\n",
       "    <tr>\n",
       "      <th>9998</th>\n",
       "      <td>1.0</td>\n",
       "      <td>0.017962</td>\n",
       "      <td>1.803389</td>\n",
       "      <td>-1.712567</td>\n",
       "      <td>0.695739</td>\n",
       "      <td>0.110088</td>\n",
       "      <td>0</td>\n",
       "      <td>True</td>\n",
       "      <td>1.204711</td>\n",
       "    </tr>\n",
       "    <tr>\n",
       "      <th>9999</th>\n",
       "      <td>1.0</td>\n",
       "      <td>0.957118</td>\n",
       "      <td>1.483218</td>\n",
       "      <td>-1.625130</td>\n",
       "      <td>1.100975</td>\n",
       "      <td>2.469621</td>\n",
       "      <td>2</td>\n",
       "      <td>True</td>\n",
       "      <td>4.964036</td>\n",
       "    </tr>\n",
       "  </tbody>\n",
       "</table>\n",
       "<p>10000 rows × 9 columns</p>\n",
       "</div>"
      ],
      "text/plain": [
       "       Z0        Z1        W0        W1        W2        W3 W4    v0         y\n",
       "0     1.0  0.613826  0.785650 -0.668629  0.004208  1.116654  0  True  1.948844\n",
       "1     1.0  0.097531  2.013400 -0.282773 -0.332611  3.155569  0  True  4.437366\n",
       "2     1.0  0.455132  1.470649 -0.788687 -0.765081  0.279778  0  True  1.151102\n",
       "3     1.0  0.394668  1.329791 -0.404039  0.693917  2.011564  1  True  4.297246\n",
       "4     1.0  0.042713 -0.923862 -0.425910  0.731468  1.640026  0  True  1.955063\n",
       "...   ...       ...       ...       ...       ...       ... ..   ...       ...\n",
       "9995  1.0  0.748621  0.394517 -0.774677  1.480150  1.528425  2  True  4.287059\n",
       "9996  1.0  0.631216  0.826791 -0.914032  0.615603  0.010781  2  True  2.747443\n",
       "9997  1.0  0.581749  0.783115 -1.768320 -0.958534  2.088322  2  True  3.274563\n",
       "9998  1.0  0.017962  1.803389 -1.712567  0.695739  0.110088  0  True  1.204711\n",
       "9999  1.0  0.957118  1.483218 -1.625130  1.100975  2.469621  2  True  4.964036\n",
       "\n",
       "[10000 rows x 9 columns]"
      ]
     },
     "execution_count": 3,
     "metadata": {},
     "output_type": "execute_result"
    }
   ],
   "source": [
    "data = dowhy.datasets.linear_dataset(beta=1,\n",
    "        num_common_causes=5, \n",
    "        num_instruments = 2,\n",
    "        num_treatments=1,\n",
    "        num_discrete_common_causes=1,\n",
    "        num_samples=10000,\n",
    "        treatment_is_binary=True,\n",
    "        outcome_is_binary=False)\n",
    "df = data[\"df\"]\n",
    "print(df[df.v0==True].shape[0])\n",
    "df"
   ]
  },
  {
   "cell_type": "markdown",
   "id": "8a0abfe2",
   "metadata": {},
   "source": [
    "Note that we are using a pandas dataframe to load the data."
   ]
  },
  {
   "cell_type": "markdown",
   "id": "c7feaf10",
   "metadata": {},
   "source": [
    "## Identifying the causal estimand"
   ]
  },
  {
   "cell_type": "markdown",
   "id": "ddac9d5c",
   "metadata": {},
   "source": [
    "We now input a causal graph in the GML graph format."
   ]
  },
  {
   "cell_type": "code",
   "execution_count": 4,
   "id": "fd77511b",
   "metadata": {
    "execution": {
     "iopub.execute_input": "2022-08-19T05:07:24.413144Z",
     "iopub.status.busy": "2022-08-19T05:07:24.412909Z",
     "iopub.status.idle": "2022-08-19T05:07:24.436594Z",
     "shell.execute_reply": "2022-08-19T05:07:24.436028Z"
    }
   },
   "outputs": [],
   "source": [
    "# With graph\n",
    "model=CausalModel(\n",
    "        data = df,\n",
    "        treatment=data[\"treatment_name\"],\n",
    "        outcome=data[\"outcome_name\"],\n",
    "        graph=data[\"gml_graph\"],\n",
    "        instruments=data[\"instrument_names\"]\n",
    "        )"
   ]
  },
  {
   "cell_type": "code",
   "execution_count": 5,
   "id": "efcc45b5",
   "metadata": {
    "execution": {
     "iopub.execute_input": "2022-08-19T05:07:24.439734Z",
     "iopub.status.busy": "2022-08-19T05:07:24.439447Z",
     "iopub.status.idle": "2022-08-19T05:07:24.495963Z",
     "shell.execute_reply": "2022-08-19T05:07:24.495310Z"
    }
   },
   "outputs": [],
   "source": [
    "model.view_model()"
   ]
  },
  {
   "cell_type": "code",
   "execution_count": 6,
   "id": "a3949b24",
   "metadata": {
    "execution": {
     "iopub.execute_input": "2022-08-19T05:07:24.499444Z",
     "iopub.status.busy": "2022-08-19T05:07:24.499005Z",
     "iopub.status.idle": "2022-08-19T05:07:24.526114Z",
     "shell.execute_reply": "2022-08-19T05:07:24.525468Z"
    }
   },
   "outputs": [
    {
     "data": {
      "image/png": "[encoded data removed]",
      "text/plain": [
       "<IPython.core.display.Image object>"
      ]
     },
     "metadata": {},
     "output_type": "display_data"
    }
   ],
   "source": [
    "from IPython.display import Image, display\n",
    "display(Image(filename=\"causal_model.png\"))"
   ]
  },
  {
   "cell_type": "markdown",
   "id": "2bbac429",
   "metadata": {},
   "source": [
    "We get a causal graph. Now identification and estimation is done."
   ]
  },
  {
   "cell_type": "code",
   "execution_count": 7,
   "id": "356e67b5",
   "metadata": {
    "execution": {
     "iopub.execute_input": "2022-08-19T05:07:24.529666Z",
     "iopub.status.busy": "2022-08-19T05:07:24.529246Z",
     "iopub.status.idle": "2022-08-19T05:07:24.755290Z",
     "shell.execute_reply": "2022-08-19T05:07:24.754468Z"
    }
   },
   "outputs": [
    {
     "name": "stdout",
     "output_type": "stream",
     "text": [
      "Estimand type: nonparametric-ate\n",
      "\n",
      "### Estimand : 1\n",
      "Estimand name: backdoor\n",
      "Estimand expression:\n",
      "  d                       \n",
      "─────(E[y|W2,W0,W3,W1,W4])\n",
      "d[v₀]                     \n",
      "Estimand assumption 1, Unconfoundedness: If U→{v0} and U→y then P(y|v0,W2,W0,W3,W1,W4,U) = P(y|v0,W2,W0,W3,W1,W4)\n",
      "\n",
      "### Estimand : 2\n",
      "Estimand name: iv\n",
      "Estimand expression:\n",
      " ⎡                              -1⎤\n",
      " ⎢    d        ⎛    d          ⎞  ⎥\n",
      "E⎢─────────(y)⋅⎜─────────([v₀])⎟  ⎥\n",
      " ⎣d[Z₀  Z₁]    ⎝d[Z₀  Z₁]      ⎠  ⎦\n",
      "Estimand assumption 1, As-if-random: If U→→y then ¬(U →→{Z0,Z1})\n",
      "Estimand assumption 2, Exclusion: If we remove {Z0,Z1}→{v0}, then ¬({Z0,Z1}→y)\n",
      "\n",
      "### Estimand : 3\n",
      "Estimand name: frontdoor\n",
      "No such variable(s) found!\n",
      "\n"
     ]
    }
   ],
   "source": [
    "identified_estimand = model.identify_effect(proceed_when_unidentifiable=True)\n",
    "print(identified_estimand)"
   ]
  },
  {
   "cell_type": "markdown",
   "id": "b6495d1f",
   "metadata": {},
   "source": [
    "## Method 1: Propensity Score Stratification\n",
    "\n",
    "We will be using propensity scores to stratify units in the data."
   ]
  },
  {
   "cell_type": "code",
   "execution_count": 8,
   "id": "e84a59eb",
   "metadata": {
    "execution": {
     "iopub.execute_input": "2022-08-19T05:07:24.759634Z",
     "iopub.status.busy": "2022-08-19T05:07:24.759209Z",
     "iopub.status.idle": "2022-08-19T05:07:25.593242Z",
     "shell.execute_reply": "2022-08-19T05:07:25.592528Z"
    }
   },
   "outputs": [
    {
     "name": "stdout",
     "output_type": "stream",
     "text": [
      "propensity_score_stratification\n"
     ]
    },
    {
     "name": "stdout",
     "output_type": "stream",
     "text": [
      "*** Causal Estimate ***\n",
      "\n",
      "## Identified estimand\n",
      "Estimand type: nonparametric-ate\n",
      "\n",
      "### Estimand : 1\n",
      "Estimand name: backdoor\n",
      "Estimand expression:\n",
      "  d                       \n",
      "─────(E[y|W2,W0,W3,W1,W4])\n",
      "d[v₀]                     \n",
      "Estimand assumption 1, Unconfoundedness: If U→{v0} and U→y then P(y|v0,W2,W0,W3,W1,W4,U) = P(y|v0,W2,W0,W3,W1,W4)\n",
      "\n",
      "## Realized estimand\n",
      "b: y~v0+W2+W0+W3+W1+W4\n",
      "Target units: att\n",
      "\n",
      "## Estimate\n",
      "Mean value: 1.0002046469044146\n",
      "\n",
      "Causal Estimate is 1.0002046469044146\n"
     ]
    }
   ],
   "source": [
    "causal_estimate_strat = model.estimate_effect(identified_estimand,\n",
    "                                              method_name=\"backdoor.propensity_score_stratification\",\n",
    "                                              target_units=\"att\")\n",
    "print(causal_estimate_strat)\n",
    "print(\"Causal Estimate is \" + str(causal_estimate_strat.value))"
   ]
  },
  {
   "cell_type": "markdown",
   "id": "1af2d0b2",
   "metadata": {},
   "source": [
    "### Textual Interpreter\n",
    "\n",
    "The textual Interpreter describes (in words) the effect of unit change in the treatment variable on the outcome variable."
   ]
  },
  {
   "cell_type": "code",
   "execution_count": 9,
   "id": "e9f89665",
   "metadata": {
    "execution": {
     "iopub.execute_input": "2022-08-19T05:07:25.597018Z",
     "iopub.status.busy": "2022-08-19T05:07:25.596595Z",
     "iopub.status.idle": "2022-08-19T05:07:25.621587Z",
     "shell.execute_reply": "2022-08-19T05:07:25.620776Z"
    }
   },
   "outputs": [
    {
     "name": "stdout",
     "output_type": "stream",
     "text": [
      "Increasing the treatment variable(s) [v0] from 0 to 1 causes an increase of 1.0002046469044146 in the expected value of the outcome [y], over the data distribution/population represented by the dataset.\n"
     ]
    }
   ],
   "source": [
    "# Textual Interpreter\n",
    "interpretation = causal_estimate_strat.interpret(method_name=\"textual_effect_interpreter\")"
   ]
  },
  {
   "cell_type": "markdown",
   "id": "8d1f7010",
   "metadata": {},
   "source": [
    "### Visual Interpreter\n",
    "\n",
    "The visual interpreter plots the change in the standardized mean difference (SMD) before and after Propensity Score based adjustment of the dataset. The formula for SMD is given below.\n",
    "\n",
    "\n",
    "$SMD = \\frac{\\bar X_{1} - \\bar X_{2}}{\\sqrt{(S_{1}^{2} + S_{2}^{2})/2}}$\n",
    "\n",
    "Here, $\\bar X_{1}$ and $\\bar X_{2}$ are the sample mean for the treated and control groups.\n"
   ]
  },
  {
   "cell_type": "code",
   "execution_count": 10,
   "id": "3fb3de03",
   "metadata": {
    "execution": {
     "iopub.execute_input": "2022-08-19T05:07:25.625194Z",
     "iopub.status.busy": "2022-08-19T05:07:25.624763Z",
     "iopub.status.idle": "2022-08-19T05:07:26.619499Z",
     "shell.execute_reply": "2022-08-19T05:07:26.618759Z"
    }
   },
   "outputs": [
    {
     "data": {
      "image/png": "[encoded data removed]",
      "text/plain": [
       "<Figure size 432x288 with 1 Axes>"
      ]
     },
     "metadata": {
      "needs_background": "light"
     },
     "output_type": "display_data"
    }
   ],
   "source": [
    "# Visual Interpreter\n",
    "interpretation = causal_estimate_strat.interpret(method_name=\"propensity_balance_interpreter\")"
   ]
  },
  {
   "cell_type": "markdown",
   "id": "a3d5f4e5",
   "metadata": {},
   "source": [
    "This plot shows how the SMD decreases from the unadjusted to the stratified units. "
   ]
  },
  {
   "cell_type": "markdown",
   "id": "d0517811",
   "metadata": {},
   "source": [
    "## Method 2: Propensity Score Matching\n",
    "\n",
    "We will be using propensity scores to match units in the data."
   ]
  },
  {
   "cell_type": "code",
   "execution_count": 11,
   "id": "6ceaefaf",
   "metadata": {
    "execution": {
     "iopub.execute_input": "2022-08-19T05:07:26.623263Z",
     "iopub.status.busy": "2022-08-19T05:07:26.622625Z",
     "iopub.status.idle": "2022-08-19T05:07:31.251710Z",
     "shell.execute_reply": "2022-08-19T05:07:31.251046Z"
    }
   },
   "outputs": [
    {
     "name": "stdout",
     "output_type": "stream",
     "text": [
      "propensity_score_matching\n"
     ]
    },
    {
     "name": "stdout",
     "output_type": "stream",
     "text": [
      "*** Causal Estimate ***\n",
      "\n",
      "## Identified estimand\n",
      "Estimand type: nonparametric-ate\n",
      "\n",
      "### Estimand : 1\n",
      "Estimand name: backdoor\n",
      "Estimand expression:\n",
      "  d                       \n",
      "─────(E[y|W2,W0,W3,W1,W4])\n",
      "d[v₀]                     \n",
      "Estimand assumption 1, Unconfoundedness: If U→{v0} and U→y then P(y|v0,W2,W0,W3,W1,W4,U) = P(y|v0,W2,W0,W3,W1,W4)\n",
      "\n",
      "## Realized estimand\n",
      "b: y~v0+W2+W0+W3+W1+W4\n",
      "Target units: atc\n",
      "\n",
      "## Estimate\n",
      "Mean value: 0.9557860643582194\n",
      "\n",
      "Causal Estimate is 0.9557860643582194\n"
     ]
    }
   ],
   "source": [
    "causal_estimate_match = model.estimate_effect(identified_estimand,\n",
    "                                              method_name=\"backdoor.propensity_score_matching\",\n",
    "                                              target_units=\"atc\")\n",
    "print(causal_estimate_match)\n",
    "print(\"Causal Estimate is \" + str(causal_estimate_match.value))"
   ]
  },
  {
   "cell_type": "code",
   "execution_count": 12,
   "id": "aa0cedb0",
   "metadata": {
    "execution": {
     "iopub.execute_input": "2022-08-19T05:07:31.255305Z",
     "iopub.status.busy": "2022-08-19T05:07:31.254676Z",
     "iopub.status.idle": "2022-08-19T05:07:31.280502Z",
     "shell.execute_reply": "2022-08-19T05:07:31.279762Z"
    }
   },
   "outputs": [
    {
     "name": "stdout",
     "output_type": "stream",
     "text": [
      "Increasing the treatment variable(s) [v0] from 0 to 1 causes an increase of 0.9557860643582194 in the expected value of the outcome [y], over the data distribution/population represented by the dataset.\n"
     ]
    }
   ],
   "source": [
    "# Textual Interpreter\n",
    "interpretation = causal_estimate_match.interpret(method_name=\"textual_effect_interpreter\")"
   ]
  },
  {
   "cell_type": "markdown",
   "id": "d08b5fa4",
   "metadata": {},
   "source": [
    "Cannot use propensity balance interpretor here since the interpreter method only supports propensity score stratification estimator."
   ]
  },
  {
   "cell_type": "markdown",
   "id": "069be0a4",
   "metadata": {},
   "source": [
    "## Method 3: Weighting\n",
    "\n",
    "We will be using (inverse) propensity scores to assign weights to units in the data. DoWhy supports a few different weighting schemes:\n",
    "1. Vanilla Inverse Propensity Score weighting (IPS) (weighting_scheme=\"ips_weight\")\n",
    "2. Self-normalized IPS weighting (also known as the Hajek estimator) (weighting_scheme=\"ips_normalized_weight\")\n",
    "3. Stabilized IPS weighting (weighting_scheme = \"ips_stabilized_weight\")"
   ]
  },
  {
   "cell_type": "code",
   "execution_count": 13,
   "id": "2ea90fd1",
   "metadata": {
    "execution": {
     "iopub.execute_input": "2022-08-19T05:07:31.284126Z",
     "iopub.status.busy": "2022-08-19T05:07:31.283646Z",
     "iopub.status.idle": "2022-08-19T05:07:31.349380Z",
     "shell.execute_reply": "2022-08-19T05:07:31.348696Z"
    }
   },
   "outputs": [
    {
     "name": "stdout",
     "output_type": "stream",
     "text": [
      "propensity_score_weighting\n",
      "*** Causal Estimate ***\n",
      "\n",
      "## Identified estimand\n",
      "Estimand type: nonparametric-ate\n",
      "\n",
      "### Estimand : 1\n",
      "Estimand name: backdoor\n",
      "Estimand expression:\n",
      "  d                       \n",
      "─────(E[y|W2,W0,W3,W1,W4])\n",
      "d[v₀]                     \n",
      "Estimand assumption 1, Unconfoundedness: If U→{v0} and U→y then P(y|v0,W2,W0,W3,W1,W4,U) = P(y|v0,W2,W0,W3,W1,W4)\n",
      "\n",
      "## Realized estimand\n",
      "b: y~v0+W2+W0+W3+W1+W4\n",
      "Target units: ate\n",
      "\n",
      "## Estimate\n",
      "Mean value: 1.775048011572277\n",
      "\n",
      "Causal Estimate is 1.775048011572277\n"
     ]
    }
   ],
   "source": [
    "causal_estimate_ipw = model.estimate_effect(identified_estimand,\n",
    "                                            method_name=\"backdoor.propensity_score_weighting\",\n",
    "                                            target_units = \"ate\",\n",
    "                                            method_params={\"weighting_scheme\":\"ips_weight\"})\n",
    "print(causal_estimate_ipw)\n",
    "print(\"Causal Estimate is \" + str(causal_estimate_ipw.value))"
   ]
  },
  {
   "cell_type": "code",
   "execution_count": 14,
   "id": "14e3124f",
   "metadata": {
    "execution": {
     "iopub.execute_input": "2022-08-19T05:07:31.352811Z",
     "iopub.status.busy": "2022-08-19T05:07:31.352391Z",
     "iopub.status.idle": "2022-08-19T05:07:31.377445Z",
     "shell.execute_reply": "2022-08-19T05:07:31.376811Z"
    }
   },
   "outputs": [
    {
     "name": "stdout",
     "output_type": "stream",
     "text": [
      "Increasing the treatment variable(s) [v0] from 0 to 1 causes an increase of 1.775048011572277 in the expected value of the outcome [y], over the data distribution/population represented by the dataset.\n"
     ]
    }
   ],
   "source": [
    "# Textual Interpreter\n",
    "interpretation = causal_estimate_ipw.interpret(method_name=\"textual_effect_interpreter\")"
   ]
  },
  {
   "cell_type": "code",
   "execution_count": 15,
   "id": "23354412",
   "metadata": {
    "execution": {
     "iopub.execute_input": "2022-08-19T05:07:31.380551Z",
     "iopub.status.busy": "2022-08-19T05:07:31.380248Z",
     "iopub.status.idle": "2022-08-19T05:07:31.632359Z",
     "shell.execute_reply": "2022-08-19T05:07:31.631598Z"
    }
   },
   "outputs": [
    {
     "data": {
      "image/png": "[encoded data removed]",
      "text/plain": [
       "<Figure size 576x576 with 2 Axes>"
      ]
     },
     "metadata": {
      "needs_background": "light"
     },
     "output_type": "display_data"
    }
   ],
   "source": [
    "interpretation = causal_estimate_ipw.interpret(method_name=\"confounder_distribution_interpreter\", fig_size=(8,8), font_size=12, var_name='W4', var_type='discrete')"
   ]
  },
  {
   "cell_type": "code",
   "execution_count": null,
   "id": "7306bf15",
   "metadata": {},
   "outputs": [],
   "source": []
  }
 ],
 "metadata": {
  "kernelspec": {
   "display_name": "Python 3",
   "language": "python",
   "name": "python3"
  },
  "language_info": {
   "codemirror_mode": {
    "name": "ipython",
    "version": 3
   },
   "file_extension": ".py",
   "mimetype": "text/x-python",
   "name": "python",
   "nbconvert_exporter": "python",
   "pygments_lexer": "ipython3",
   "version": "3.8.10"
  },
  "toc": {
   "base_numbering": 1,
   "nav_menu": {},
   "number_sections": false,
   "sideBar": true,
   "skip_h1_title": true,
   "title_cell": "Table of Contents",
   "title_sidebar": "Contents",
   "toc_cell": false,
   "toc_position": {},
   "toc_section_display": true,
   "toc_window_display": false
  }
 },
 "nbformat": 4,
 "nbformat_minor": 5
}
