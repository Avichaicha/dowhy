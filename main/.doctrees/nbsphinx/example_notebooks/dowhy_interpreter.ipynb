{
 "cells": [
  {
   "cell_type": "markdown",
   "id": "b66ea866",
   "metadata": {},
   "source": [
    "# DoWhy: Interpreters for Causal Estimators\n",
    "\n",
    "This is a quick introduction to the use of interpreters in the DoWhy causal inference library.\n",
    "We will load in a sample dataset, use different methods for estimating the causal effect of a (pre-specified)treatment variable on a (pre-specified) outcome variable and demonstrate how to interpret the obtained results.\n",
    "\n",
    "First, let us add the required path for Python to find the DoWhy code and load all required packages"
   ]
  },
  {
   "cell_type": "code",
   "execution_count": 1,
   "id": "6c1b781f",
   "metadata": {
    "execution": {
     "iopub.execute_input": "2022-08-16T15:10:27.615421Z",
     "iopub.status.busy": "2022-08-16T15:10:27.614851Z",
     "iopub.status.idle": "2022-08-16T15:10:27.634991Z",
     "shell.execute_reply": "2022-08-16T15:10:27.634078Z"
    }
   },
   "outputs": [],
   "source": [
    "%load_ext autoreload\n",
    "%autoreload 2"
   ]
  },
  {
   "cell_type": "code",
   "execution_count": 2,
   "id": "ef37492b",
   "metadata": {
    "execution": {
     "iopub.execute_input": "2022-08-16T15:10:27.638366Z",
     "iopub.status.busy": "2022-08-16T15:10:27.638069Z",
     "iopub.status.idle": "2022-08-16T15:10:29.001496Z",
     "shell.execute_reply": "2022-08-16T15:10:29.000439Z"
    }
   },
   "outputs": [],
   "source": [
    "import numpy as np\n",
    "import pandas as pd\n",
    "import logging\n",
    "\n",
    "import dowhy\n",
    "from dowhy import CausalModel\n",
    "import dowhy.datasets "
   ]
  },
  {
   "cell_type": "markdown",
   "id": "4f4f15a2",
   "metadata": {},
   "source": [
    "Now, let us load a dataset. For simplicity, we simulate a dataset with linear relationships between common causes and treatment, and common causes and outcome.\n",
    "\n",
    "Beta is the true causal effect."
   ]
  },
  {
   "cell_type": "code",
   "execution_count": 3,
   "id": "caae3288",
   "metadata": {
    "execution": {
     "iopub.execute_input": "2022-08-16T15:10:29.007352Z",
     "iopub.status.busy": "2022-08-16T15:10:29.006826Z",
     "iopub.status.idle": "2022-08-16T15:10:29.527484Z",
     "shell.execute_reply": "2022-08-16T15:10:29.526541Z"
    }
   },
   "outputs": [
    {
     "name": "stdout",
     "output_type": "stream",
     "text": [
      "9227\n"
     ]
    },
    {
     "data": {
      "text/html": [
       "<div>\n",
       "<style scoped>\n",
       "    .dataframe tbody tr th:only-of-type {\n",
       "        vertical-align: middle;\n",
       "    }\n",
       "\n",
       "    .dataframe tbody tr th {\n",
       "        vertical-align: top;\n",
       "    }\n",
       "\n",
       "    .dataframe thead th {\n",
       "        text-align: right;\n",
       "    }\n",
       "</style>\n",
       "<table border=\"1\" class=\"dataframe\">\n",
       "  <thead>\n",
       "    <tr style=\"text-align: right;\">\n",
       "      <th></th>\n",
       "      <th>Z0</th>\n",
       "      <th>Z1</th>\n",
       "      <th>W0</th>\n",
       "      <th>W1</th>\n",
       "      <th>W2</th>\n",
       "      <th>W3</th>\n",
       "      <th>W4</th>\n",
       "      <th>v0</th>\n",
       "      <th>y</th>\n",
       "    </tr>\n",
       "  </thead>\n",
       "  <tbody>\n",
       "    <tr>\n",
       "      <th>0</th>\n",
       "      <td>0.0</td>\n",
       "      <td>0.307684</td>\n",
       "      <td>1.037797</td>\n",
       "      <td>-0.640748</td>\n",
       "      <td>0.154148</td>\n",
       "      <td>0.969199</td>\n",
       "      <td>2</td>\n",
       "      <td>True</td>\n",
       "      <td>2.540649</td>\n",
       "    </tr>\n",
       "    <tr>\n",
       "      <th>1</th>\n",
       "      <td>0.0</td>\n",
       "      <td>0.706230</td>\n",
       "      <td>2.460009</td>\n",
       "      <td>1.248319</td>\n",
       "      <td>0.025862</td>\n",
       "      <td>0.324507</td>\n",
       "      <td>0</td>\n",
       "      <td>True</td>\n",
       "      <td>3.441175</td>\n",
       "    </tr>\n",
       "    <tr>\n",
       "      <th>2</th>\n",
       "      <td>1.0</td>\n",
       "      <td>0.676227</td>\n",
       "      <td>0.731933</td>\n",
       "      <td>0.730326</td>\n",
       "      <td>1.215567</td>\n",
       "      <td>-0.348348</td>\n",
       "      <td>3</td>\n",
       "      <td>True</td>\n",
       "      <td>4.700773</td>\n",
       "    </tr>\n",
       "    <tr>\n",
       "      <th>3</th>\n",
       "      <td>1.0</td>\n",
       "      <td>0.338783</td>\n",
       "      <td>-0.049180</td>\n",
       "      <td>0.989786</td>\n",
       "      <td>0.493897</td>\n",
       "      <td>-0.171741</td>\n",
       "      <td>0</td>\n",
       "      <td>True</td>\n",
       "      <td>2.204717</td>\n",
       "    </tr>\n",
       "    <tr>\n",
       "      <th>4</th>\n",
       "      <td>1.0</td>\n",
       "      <td>0.827901</td>\n",
       "      <td>-0.746232</td>\n",
       "      <td>0.159673</td>\n",
       "      <td>0.502524</td>\n",
       "      <td>0.145644</td>\n",
       "      <td>2</td>\n",
       "      <td>True</td>\n",
       "      <td>2.391890</td>\n",
       "    </tr>\n",
       "    <tr>\n",
       "      <th>...</th>\n",
       "      <td>...</td>\n",
       "      <td>...</td>\n",
       "      <td>...</td>\n",
       "      <td>...</td>\n",
       "      <td>...</td>\n",
       "      <td>...</td>\n",
       "      <td>...</td>\n",
       "      <td>...</td>\n",
       "      <td>...</td>\n",
       "    </tr>\n",
       "    <tr>\n",
       "      <th>9995</th>\n",
       "      <td>0.0</td>\n",
       "      <td>0.815632</td>\n",
       "      <td>-0.227418</td>\n",
       "      <td>0.366211</td>\n",
       "      <td>2.906354</td>\n",
       "      <td>0.567940</td>\n",
       "      <td>2</td>\n",
       "      <td>True</td>\n",
       "      <td>5.013218</td>\n",
       "    </tr>\n",
       "    <tr>\n",
       "      <th>9996</th>\n",
       "      <td>1.0</td>\n",
       "      <td>0.076665</td>\n",
       "      <td>1.044742</td>\n",
       "      <td>1.156512</td>\n",
       "      <td>-0.026931</td>\n",
       "      <td>2.983765</td>\n",
       "      <td>2</td>\n",
       "      <td>True</td>\n",
       "      <td>4.478177</td>\n",
       "    </tr>\n",
       "    <tr>\n",
       "      <th>9997</th>\n",
       "      <td>0.0</td>\n",
       "      <td>0.418569</td>\n",
       "      <td>0.781471</td>\n",
       "      <td>1.176823</td>\n",
       "      <td>0.068495</td>\n",
       "      <td>1.409942</td>\n",
       "      <td>0</td>\n",
       "      <td>True</td>\n",
       "      <td>2.869568</td>\n",
       "    </tr>\n",
       "    <tr>\n",
       "      <th>9998</th>\n",
       "      <td>0.0</td>\n",
       "      <td>0.927423</td>\n",
       "      <td>2.431355</td>\n",
       "      <td>0.972782</td>\n",
       "      <td>0.885094</td>\n",
       "      <td>0.166290</td>\n",
       "      <td>3</td>\n",
       "      <td>True</td>\n",
       "      <td>5.624489</td>\n",
       "    </tr>\n",
       "    <tr>\n",
       "      <th>9999</th>\n",
       "      <td>0.0</td>\n",
       "      <td>0.765361</td>\n",
       "      <td>-1.604167</td>\n",
       "      <td>2.166911</td>\n",
       "      <td>0.547052</td>\n",
       "      <td>-0.825884</td>\n",
       "      <td>2</td>\n",
       "      <td>True</td>\n",
       "      <td>3.487912</td>\n",
       "    </tr>\n",
       "  </tbody>\n",
       "</table>\n",
       "<p>10000 rows × 9 columns</p>\n",
       "</div>"
      ],
      "text/plain": [
       "       Z0        Z1        W0        W1        W2        W3 W4    v0         y\n",
       "0     0.0  0.307684  1.037797 -0.640748  0.154148  0.969199  2  True  2.540649\n",
       "1     0.0  0.706230  2.460009  1.248319  0.025862  0.324507  0  True  3.441175\n",
       "2     1.0  0.676227  0.731933  0.730326  1.215567 -0.348348  3  True  4.700773\n",
       "3     1.0  0.338783 -0.049180  0.989786  0.493897 -0.171741  0  True  2.204717\n",
       "4     1.0  0.827901 -0.746232  0.159673  0.502524  0.145644  2  True  2.391890\n",
       "...   ...       ...       ...       ...       ...       ... ..   ...       ...\n",
       "9995  0.0  0.815632 -0.227418  0.366211  2.906354  0.567940  2  True  5.013218\n",
       "9996  1.0  0.076665  1.044742  1.156512 -0.026931  2.983765  2  True  4.478177\n",
       "9997  0.0  0.418569  0.781471  1.176823  0.068495  1.409942  0  True  2.869568\n",
       "9998  0.0  0.927423  2.431355  0.972782  0.885094  0.166290  3  True  5.624489\n",
       "9999  0.0  0.765361 -1.604167  2.166911  0.547052 -0.825884  2  True  3.487912\n",
       "\n",
       "[10000 rows x 9 columns]"
      ]
     },
     "execution_count": 3,
     "metadata": {},
     "output_type": "execute_result"
    }
   ],
   "source": [
    "data = dowhy.datasets.linear_dataset(beta=1,\n",
    "        num_common_causes=5, \n",
    "        num_instruments = 2,\n",
    "        num_treatments=1,\n",
    "        num_discrete_common_causes=1,\n",
    "        num_samples=10000,\n",
    "        treatment_is_binary=True,\n",
    "        outcome_is_binary=False)\n",
    "df = data[\"df\"]\n",
    "print(df[df.v0==True].shape[0])\n",
    "df"
   ]
  },
  {
   "cell_type": "markdown",
   "id": "1fb09ae7",
   "metadata": {},
   "source": [
    "Note that we are using a pandas dataframe to load the data."
   ]
  },
  {
   "cell_type": "markdown",
   "id": "ddf0ee2b",
   "metadata": {},
   "source": [
    "## Identifying the causal estimand"
   ]
  },
  {
   "cell_type": "markdown",
   "id": "15f1872e",
   "metadata": {},
   "source": [
    "We now input a causal graph in the GML graph format."
   ]
  },
  {
   "cell_type": "code",
   "execution_count": 4,
   "id": "27f26573",
   "metadata": {
    "execution": {
     "iopub.execute_input": "2022-08-16T15:10:29.533187Z",
     "iopub.status.busy": "2022-08-16T15:10:29.532837Z",
     "iopub.status.idle": "2022-08-16T15:10:29.563990Z",
     "shell.execute_reply": "2022-08-16T15:10:29.563145Z"
    }
   },
   "outputs": [],
   "source": [
    "# With graph\n",
    "model=CausalModel(\n",
    "        data = df,\n",
    "        treatment=data[\"treatment_name\"],\n",
    "        outcome=data[\"outcome_name\"],\n",
    "        graph=data[\"gml_graph\"],\n",
    "        instruments=data[\"instrument_names\"]\n",
    "        )"
   ]
  },
  {
   "cell_type": "code",
   "execution_count": 5,
   "id": "e1dbe747",
   "metadata": {
    "execution": {
     "iopub.execute_input": "2022-08-16T15:10:29.568070Z",
     "iopub.status.busy": "2022-08-16T15:10:29.567561Z",
     "iopub.status.idle": "2022-08-16T15:10:29.636808Z",
     "shell.execute_reply": "2022-08-16T15:10:29.635702Z"
    }
   },
   "outputs": [],
   "source": [
    "model.view_model()"
   ]
  },
  {
   "cell_type": "code",
   "execution_count": 6,
   "id": "ccb03d68",
   "metadata": {
    "execution": {
     "iopub.execute_input": "2022-08-16T15:10:29.640990Z",
     "iopub.status.busy": "2022-08-16T15:10:29.640712Z",
     "iopub.status.idle": "2022-08-16T15:10:29.673285Z",
     "shell.execute_reply": "2022-08-16T15:10:29.672319Z"
    }
   },
   "outputs": [
    {
     "data": {
      "image/png": "[encoded data removed]",
      "text/plain": [
       "<IPython.core.display.Image object>"
      ]
     },
     "metadata": {},
     "output_type": "display_data"
    }
   ],
   "source": [
    "from IPython.display import Image, display\n",
    "display(Image(filename=\"causal_model.png\"))"
   ]
  },
  {
   "cell_type": "markdown",
   "id": "be2e08f2",
   "metadata": {},
   "source": [
    "We get a causal graph. Now identification and estimation is done."
   ]
  },
  {
   "cell_type": "code",
   "execution_count": 7,
   "id": "5437cc5d",
   "metadata": {
    "execution": {
     "iopub.execute_input": "2022-08-16T15:10:29.677992Z",
     "iopub.status.busy": "2022-08-16T15:10:29.677718Z",
     "iopub.status.idle": "2022-08-16T15:10:29.967633Z",
     "shell.execute_reply": "2022-08-16T15:10:29.966645Z"
    }
   },
   "outputs": [
    {
     "name": "stdout",
     "output_type": "stream",
     "text": [
      "Estimand type: nonparametric-ate\n",
      "\n",
      "### Estimand : 1\n",
      "Estimand name: backdoor\n",
      "Estimand expression:\n",
      "  d                       \n",
      "─────(E[y|W0,W1,W3,W2,W4])\n",
      "d[v₀]                     \n",
      "Estimand assumption 1, Unconfoundedness: If U→{v0} and U→y then P(y|v0,W0,W1,W3,W2,W4,U) = P(y|v0,W0,W1,W3,W2,W4)\n",
      "\n",
      "### Estimand : 2\n",
      "Estimand name: iv\n",
      "Estimand expression:\n",
      " ⎡                              -1⎤\n",
      " ⎢    d        ⎛    d          ⎞  ⎥\n",
      "E⎢─────────(y)⋅⎜─────────([v₀])⎟  ⎥\n",
      " ⎣d[Z₀  Z₁]    ⎝d[Z₀  Z₁]      ⎠  ⎦\n",
      "Estimand assumption 1, As-if-random: If U→→y then ¬(U →→{Z0,Z1})\n",
      "Estimand assumption 2, Exclusion: If we remove {Z0,Z1}→{v0}, then ¬({Z0,Z1}→y)\n",
      "\n",
      "### Estimand : 3\n",
      "Estimand name: frontdoor\n",
      "No such variable(s) found!\n",
      "\n"
     ]
    }
   ],
   "source": [
    "identified_estimand = model.identify_effect(proceed_when_unidentifiable=True)\n",
    "print(identified_estimand)"
   ]
  },
  {
   "cell_type": "markdown",
   "id": "e4a9d978",
   "metadata": {},
   "source": [
    "## Method 1: Propensity Score Stratification\n",
    "\n",
    "We will be using propensity scores to stratify units in the data."
   ]
  },
  {
   "cell_type": "code",
   "execution_count": 8,
   "id": "00e4c447",
   "metadata": {
    "execution": {
     "iopub.execute_input": "2022-08-16T15:10:29.971728Z",
     "iopub.status.busy": "2022-08-16T15:10:29.971422Z",
     "iopub.status.idle": "2022-08-16T15:10:31.215147Z",
     "shell.execute_reply": "2022-08-16T15:10:31.214159Z"
    }
   },
   "outputs": [
    {
     "name": "stdout",
     "output_type": "stream",
     "text": [
      "propensity_score_stratification\n"
     ]
    },
    {
     "name": "stderr",
     "output_type": "stream",
     "text": [
      "/github/home/.cache/pypoetry/virtualenvs/dowhy-oN2hW5jr-py3.8/lib/python3.8/site-packages/sklearn/utils/validation.py:993: DataConversionWarning: A column-vector y was passed when a 1d array was expected. Please change the shape of y to (n_samples, ), for example using ravel().\n",
      "  y = column_or_1d(y, warn=True)\n"
     ]
    },
    {
     "name": "stdout",
     "output_type": "stream",
     "text": [
      "*** Causal Estimate ***\n",
      "\n",
      "## Identified estimand\n",
      "Estimand type: nonparametric-ate\n",
      "\n",
      "### Estimand : 1\n",
      "Estimand name: backdoor\n",
      "Estimand expression:\n",
      "  d                       \n",
      "─────(E[y|W0,W1,W3,W2,W4])\n",
      "d[v₀]                     \n",
      "Estimand assumption 1, Unconfoundedness: If U→{v0} and U→y then P(y|v0,W0,W1,W3,W2,W4,U) = P(y|v0,W0,W1,W3,W2,W4)\n",
      "\n",
      "## Realized estimand\n",
      "b: y~v0+W0+W1+W3+W2+W4\n",
      "Target units: att\n",
      "\n",
      "## Estimate\n",
      "Mean value: 1.0164163357784555\n",
      "\n",
      "Causal Estimate is 1.0164163357784555\n"
     ]
    }
   ],
   "source": [
    "causal_estimate_strat = model.estimate_effect(identified_estimand,\n",
    "                                              method_name=\"backdoor.propensity_score_stratification\",\n",
    "                                              target_units=\"att\")\n",
    "print(causal_estimate_strat)\n",
    "print(\"Causal Estimate is \" + str(causal_estimate_strat.value))"
   ]
  },
  {
   "cell_type": "markdown",
   "id": "43c229fd",
   "metadata": {},
   "source": [
    "### Textual Interpreter\n",
    "\n",
    "The textual Interpreter describes (in words) the effect of unit change in the treatment variable on the outcome variable."
   ]
  },
  {
   "cell_type": "code",
   "execution_count": 9,
   "id": "8808d8d0",
   "metadata": {
    "execution": {
     "iopub.execute_input": "2022-08-16T15:10:31.219919Z",
     "iopub.status.busy": "2022-08-16T15:10:31.219640Z",
     "iopub.status.idle": "2022-08-16T15:10:31.254096Z",
     "shell.execute_reply": "2022-08-16T15:10:31.252940Z"
    }
   },
   "outputs": [
    {
     "name": "stdout",
     "output_type": "stream",
     "text": [
      "Increasing the treatment variable(s) [v0] from 0 to 1 causes an increase of 1.0164163357784555 in the expected value of the outcome [y], over the data distribution/population represented by the dataset.\n"
     ]
    }
   ],
   "source": [
    "# Textual Interpreter\n",
    "interpretation = causal_estimate_strat.interpret(method_name=\"textual_effect_interpreter\")"
   ]
  },
  {
   "cell_type": "markdown",
   "id": "4d150ada",
   "metadata": {},
   "source": [
    "### Visual Interpreter\n",
    "\n",
    "The visual interpreter plots the change in the standardized mean difference (SMD) before and after Propensity Score based adjustment of the dataset. The formula for SMD is given below.\n",
    "\n",
    "\n",
    "$SMD = \\frac{\\bar X_{1} - \\bar X_{2}}{\\sqrt{(S_{1}^{2} + S_{2}^{2})/2}}$\n",
    "\n",
    "Here, $\\bar X_{1}$ and $\\bar X_{2}$ are the sample mean for the treated and control groups.\n"
   ]
  },
  {
   "cell_type": "code",
   "execution_count": 10,
   "id": "6a5335c2",
   "metadata": {
    "execution": {
     "iopub.execute_input": "2022-08-16T15:10:31.258918Z",
     "iopub.status.busy": "2022-08-16T15:10:31.258583Z",
     "iopub.status.idle": "2022-08-16T15:10:32.605173Z",
     "shell.execute_reply": "2022-08-16T15:10:32.604181Z"
    }
   },
   "outputs": [
    {
     "data": {
      "image/png": "[encoded data removed]",
      "text/plain": [
       "<Figure size 432x288 with 1 Axes>"
      ]
     },
     "metadata": {
      "needs_background": "light"
     },
     "output_type": "display_data"
    }
   ],
   "source": [
    "# Visual Interpreter\n",
    "interpretation = causal_estimate_strat.interpret(method_name=\"propensity_balance_interpreter\")"
   ]
  },
  {
   "cell_type": "markdown",
   "id": "64238645",
   "metadata": {},
   "source": [
    "This plot shows how the SMD decreases from the unadjusted to the stratified units. "
   ]
  },
  {
   "cell_type": "markdown",
   "id": "c6b6e6a9",
   "metadata": {},
   "source": [
    "## Method 2: Propensity Score Matching\n",
    "\n",
    "We will be using propensity scores to match units in the data."
   ]
  },
  {
   "cell_type": "code",
   "execution_count": 11,
   "id": "b03818f3",
   "metadata": {
    "execution": {
     "iopub.execute_input": "2022-08-16T15:10:32.609646Z",
     "iopub.status.busy": "2022-08-16T15:10:32.609204Z",
     "iopub.status.idle": "2022-08-16T15:10:39.240749Z",
     "shell.execute_reply": "2022-08-16T15:10:39.239912Z"
    }
   },
   "outputs": [
    {
     "name": "stdout",
     "output_type": "stream",
     "text": [
      "propensity_score_matching\n"
     ]
    },
    {
     "name": "stderr",
     "output_type": "stream",
     "text": [
      "/github/home/.cache/pypoetry/virtualenvs/dowhy-oN2hW5jr-py3.8/lib/python3.8/site-packages/sklearn/utils/validation.py:993: DataConversionWarning: A column-vector y was passed when a 1d array was expected. Please change the shape of y to (n_samples, ), for example using ravel().\n",
      "  y = column_or_1d(y, warn=True)\n"
     ]
    },
    {
     "name": "stdout",
     "output_type": "stream",
     "text": [
      "*** Causal Estimate ***\n",
      "\n",
      "## Identified estimand\n",
      "Estimand type: nonparametric-ate\n",
      "\n",
      "### Estimand : 1\n",
      "Estimand name: backdoor\n",
      "Estimand expression:\n",
      "  d                       \n",
      "─────(E[y|W0,W1,W3,W2,W4])\n",
      "d[v₀]                     \n",
      "Estimand assumption 1, Unconfoundedness: If U→{v0} and U→y then P(y|v0,W0,W1,W3,W2,W4,U) = P(y|v0,W0,W1,W3,W2,W4)\n",
      "\n",
      "## Realized estimand\n",
      "b: y~v0+W0+W1+W3+W2+W4\n",
      "Target units: atc\n",
      "\n",
      "## Estimate\n",
      "Mean value: 1.0296375469405101\n",
      "\n",
      "Causal Estimate is 1.0296375469405101\n"
     ]
    }
   ],
   "source": [
    "causal_estimate_match = model.estimate_effect(identified_estimand,\n",
    "                                              method_name=\"backdoor.propensity_score_matching\",\n",
    "                                              target_units=\"atc\")\n",
    "print(causal_estimate_match)\n",
    "print(\"Causal Estimate is \" + str(causal_estimate_match.value))"
   ]
  },
  {
   "cell_type": "code",
   "execution_count": 12,
   "id": "34d1fe3e",
   "metadata": {
    "execution": {
     "iopub.execute_input": "2022-08-16T15:10:39.244972Z",
     "iopub.status.busy": "2022-08-16T15:10:39.244689Z",
     "iopub.status.idle": "2022-08-16T15:10:39.277454Z",
     "shell.execute_reply": "2022-08-16T15:10:39.276525Z"
    }
   },
   "outputs": [
    {
     "name": "stdout",
     "output_type": "stream",
     "text": [
      "Increasing the treatment variable(s) [v0] from 0 to 1 causes an increase of 1.0296375469405101 in the expected value of the outcome [y], over the data distribution/population represented by the dataset.\n"
     ]
    }
   ],
   "source": [
    "# Textual Interpreter\n",
    "interpretation = causal_estimate_match.interpret(method_name=\"textual_effect_interpreter\")"
   ]
  },
  {
   "cell_type": "markdown",
   "id": "0be445e5",
   "metadata": {},
   "source": [
    "Cannot use propensity balance interpretor here since the interpreter method only supports propensity score stratification estimator."
   ]
  },
  {
   "cell_type": "markdown",
   "id": "d9ad49bf",
   "metadata": {},
   "source": [
    "## Method 3: Weighting\n",
    "\n",
    "We will be using (inverse) propensity scores to assign weights to units in the data. DoWhy supports a few different weighting schemes:\n",
    "1. Vanilla Inverse Propensity Score weighting (IPS) (weighting_scheme=\"ips_weight\")\n",
    "2. Self-normalized IPS weighting (also known as the Hajek estimator) (weighting_scheme=\"ips_normalized_weight\")\n",
    "3. Stabilized IPS weighting (weighting_scheme = \"ips_stabilized_weight\")"
   ]
  },
  {
   "cell_type": "code",
   "execution_count": 13,
   "id": "96e33b0f",
   "metadata": {
    "execution": {
     "iopub.execute_input": "2022-08-16T15:10:39.281755Z",
     "iopub.status.busy": "2022-08-16T15:10:39.281253Z",
     "iopub.status.idle": "2022-08-16T15:10:39.368202Z",
     "shell.execute_reply": "2022-08-16T15:10:39.367099Z"
    }
   },
   "outputs": [
    {
     "name": "stdout",
     "output_type": "stream",
     "text": [
      "propensity_score_weighting\n",
      "*** Causal Estimate ***\n",
      "\n",
      "## Identified estimand\n",
      "Estimand type: nonparametric-ate\n",
      "\n",
      "### Estimand : 1\n",
      "Estimand name: backdoor\n",
      "Estimand expression:\n",
      "  d                       \n",
      "─────(E[y|W0,W1,W3,W2,W4])\n",
      "d[v₀]                     \n",
      "Estimand assumption 1, Unconfoundedness: If U→{v0} and U→y then P(y|v0,W0,W1,W3,W2,W4,U) = P(y|v0,W0,W1,W3,W2,W4)\n",
      "\n",
      "## Realized estimand\n",
      "b: y~v0+W0+W1+W3+W2+W4\n",
      "Target units: ate\n",
      "\n",
      "## Estimate\n",
      "Mean value: 1.4635675626015248\n",
      "\n",
      "Causal Estimate is 1.4635675626015248\n"
     ]
    },
    {
     "name": "stderr",
     "output_type": "stream",
     "text": [
      "/github/home/.cache/pypoetry/virtualenvs/dowhy-oN2hW5jr-py3.8/lib/python3.8/site-packages/sklearn/utils/validation.py:993: DataConversionWarning: A column-vector y was passed when a 1d array was expected. Please change the shape of y to (n_samples, ), for example using ravel().\n",
      "  y = column_or_1d(y, warn=True)\n"
     ]
    }
   ],
   "source": [
    "causal_estimate_ipw = model.estimate_effect(identified_estimand,\n",
    "                                            method_name=\"backdoor.propensity_score_weighting\",\n",
    "                                            target_units = \"ate\",\n",
    "                                            method_params={\"weighting_scheme\":\"ips_weight\"})\n",
    "print(causal_estimate_ipw)\n",
    "print(\"Causal Estimate is \" + str(causal_estimate_ipw.value))"
   ]
  },
  {
   "cell_type": "code",
   "execution_count": 14,
   "id": "246c1d98",
   "metadata": {
    "execution": {
     "iopub.execute_input": "2022-08-16T15:10:39.375458Z",
     "iopub.status.busy": "2022-08-16T15:10:39.375160Z",
     "iopub.status.idle": "2022-08-16T15:10:39.405946Z",
     "shell.execute_reply": "2022-08-16T15:10:39.405173Z"
    }
   },
   "outputs": [
    {
     "name": "stdout",
     "output_type": "stream",
     "text": [
      "Increasing the treatment variable(s) [v0] from 0 to 1 causes an increase of 1.4635675626015248 in the expected value of the outcome [y], over the data distribution/population represented by the dataset.\n"
     ]
    }
   ],
   "source": [
    "# Textual Interpreter\n",
    "interpretation = causal_estimate_ipw.interpret(method_name=\"textual_effect_interpreter\")"
   ]
  },
  {
   "cell_type": "code",
   "execution_count": 15,
   "id": "a022a303",
   "metadata": {
    "execution": {
     "iopub.execute_input": "2022-08-16T15:10:39.409292Z",
     "iopub.status.busy": "2022-08-16T15:10:39.409028Z",
     "iopub.status.idle": "2022-08-16T15:10:39.765092Z",
     "shell.execute_reply": "2022-08-16T15:10:39.764095Z"
    }
   },
   "outputs": [
    {
     "data": {
      "image/png": "[encoded data removed]",
      "text/plain": [
       "<Figure size 576x576 with 2 Axes>"
      ]
     },
     "metadata": {
      "needs_background": "light"
     },
     "output_type": "display_data"
    }
   ],
   "source": [
    "interpretation = causal_estimate_ipw.interpret(method_name=\"confounder_distribution_interpreter\", fig_size=(8,8), font_size=12, var_name='W4', var_type='discrete')"
   ]
  },
  {
   "cell_type": "code",
   "execution_count": null,
   "id": "c7acede4",
   "metadata": {},
   "outputs": [],
   "source": []
  }
 ],
 "metadata": {
  "kernelspec": {
   "display_name": "Python 3",
   "language": "python",
   "name": "python3"
  },
  "language_info": {
   "codemirror_mode": {
    "name": "ipython",
    "version": 3
   },
   "file_extension": ".py",
   "mimetype": "text/x-python",
   "name": "python",
   "nbconvert_exporter": "python",
   "pygments_lexer": "ipython3",
   "version": "3.8.10"
  },
  "toc": {
   "base_numbering": 1,
   "nav_menu": {},
   "number_sections": false,
   "sideBar": true,
   "skip_h1_title": true,
   "title_cell": "Table of Contents",
   "title_sidebar": "Contents",
   "toc_cell": false,
   "toc_position": {},
   "toc_section_display": true,
   "toc_window_display": false
  }
 },
 "nbformat": 4,
 "nbformat_minor": 5
}
