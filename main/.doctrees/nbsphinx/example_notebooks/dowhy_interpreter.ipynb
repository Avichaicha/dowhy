{
 "cells": [
  {
   "cell_type": "markdown",
   "id": "821d8470",
   "metadata": {},
   "source": [
    "# DoWhy: Interpreters for Causal Estimators\n",
    "\n",
    "This is a quick introduction to the use of interpreters in the DoWhy causal inference library.\n",
    "We will load in a sample dataset, use different methods for estimating the causal effect of a (pre-specified)treatment variable on a (pre-specified) outcome variable and demonstrate how to interpret the obtained results.\n",
    "\n",
    "First, let us add the required path for Python to find the DoWhy code and load all required packages"
   ]
  },
  {
   "cell_type": "code",
   "execution_count": 1,
   "id": "ea04cce7",
   "metadata": {
    "execution": {
     "iopub.execute_input": "2022-08-03T14:48:09.100059Z",
     "iopub.status.busy": "2022-08-03T14:48:09.099725Z",
     "iopub.status.idle": "2022-08-03T14:48:09.121243Z",
     "shell.execute_reply": "2022-08-03T14:48:09.120476Z"
    }
   },
   "outputs": [],
   "source": [
    "%load_ext autoreload\n",
    "%autoreload 2"
   ]
  },
  {
   "cell_type": "code",
   "execution_count": 2,
   "id": "2ec569b8",
   "metadata": {
    "execution": {
     "iopub.execute_input": "2022-08-03T14:48:09.125059Z",
     "iopub.status.busy": "2022-08-03T14:48:09.124632Z",
     "iopub.status.idle": "2022-08-03T14:48:10.479151Z",
     "shell.execute_reply": "2022-08-03T14:48:10.478296Z"
    }
   },
   "outputs": [
    {
     "name": "stdout",
     "output_type": "stream",
     "text": [
      "keywords are unexpanded, not using\n"
     ]
    }
   ],
   "source": [
    "import numpy as np\n",
    "import pandas as pd\n",
    "import logging\n",
    "\n",
    "import dowhy\n",
    "from dowhy import CausalModel\n",
    "import dowhy.datasets "
   ]
  },
  {
   "cell_type": "markdown",
   "id": "70564f25",
   "metadata": {},
   "source": [
    "Now, let us load a dataset. For simplicity, we simulate a dataset with linear relationships between common causes and treatment, and common causes and outcome.\n",
    "\n",
    "Beta is the true causal effect."
   ]
  },
  {
   "cell_type": "code",
   "execution_count": 3,
   "id": "c6dbe959",
   "metadata": {
    "execution": {
     "iopub.execute_input": "2022-08-03T14:48:10.483578Z",
     "iopub.status.busy": "2022-08-03T14:48:10.482622Z",
     "iopub.status.idle": "2022-08-03T14:48:10.922179Z",
     "shell.execute_reply": "2022-08-03T14:48:10.921381Z"
    }
   },
   "outputs": [
    {
     "name": "stdout",
     "output_type": "stream",
     "text": [
      "8479\n"
     ]
    },
    {
     "data": {
      "text/html": [
       "<div>\n",
       "<style scoped>\n",
       "    .dataframe tbody tr th:only-of-type {\n",
       "        vertical-align: middle;\n",
       "    }\n",
       "\n",
       "    .dataframe tbody tr th {\n",
       "        vertical-align: top;\n",
       "    }\n",
       "\n",
       "    .dataframe thead th {\n",
       "        text-align: right;\n",
       "    }\n",
       "</style>\n",
       "<table border=\"1\" class=\"dataframe\">\n",
       "  <thead>\n",
       "    <tr style=\"text-align: right;\">\n",
       "      <th></th>\n",
       "      <th>Z0</th>\n",
       "      <th>Z1</th>\n",
       "      <th>W0</th>\n",
       "      <th>W1</th>\n",
       "      <th>W2</th>\n",
       "      <th>W3</th>\n",
       "      <th>W4</th>\n",
       "      <th>v0</th>\n",
       "      <th>y</th>\n",
       "    </tr>\n",
       "  </thead>\n",
       "  <tbody>\n",
       "    <tr>\n",
       "      <th>0</th>\n",
       "      <td>0.0</td>\n",
       "      <td>0.311982</td>\n",
       "      <td>2.418686</td>\n",
       "      <td>2.086654</td>\n",
       "      <td>-0.213282</td>\n",
       "      <td>-0.444751</td>\n",
       "      <td>1</td>\n",
       "      <td>True</td>\n",
       "      <td>2.501339</td>\n",
       "    </tr>\n",
       "    <tr>\n",
       "      <th>1</th>\n",
       "      <td>0.0</td>\n",
       "      <td>0.670250</td>\n",
       "      <td>-0.486371</td>\n",
       "      <td>1.322870</td>\n",
       "      <td>-0.198424</td>\n",
       "      <td>1.772797</td>\n",
       "      <td>3</td>\n",
       "      <td>True</td>\n",
       "      <td>3.817091</td>\n",
       "    </tr>\n",
       "    <tr>\n",
       "      <th>2</th>\n",
       "      <td>0.0</td>\n",
       "      <td>0.227244</td>\n",
       "      <td>-0.319520</td>\n",
       "      <td>-0.947864</td>\n",
       "      <td>-0.588026</td>\n",
       "      <td>0.117772</td>\n",
       "      <td>0</td>\n",
       "      <td>False</td>\n",
       "      <td>-0.593729</td>\n",
       "    </tr>\n",
       "    <tr>\n",
       "      <th>3</th>\n",
       "      <td>1.0</td>\n",
       "      <td>0.475665</td>\n",
       "      <td>0.775442</td>\n",
       "      <td>0.284958</td>\n",
       "      <td>2.315080</td>\n",
       "      <td>-0.225897</td>\n",
       "      <td>3</td>\n",
       "      <td>True</td>\n",
       "      <td>1.954915</td>\n",
       "    </tr>\n",
       "    <tr>\n",
       "      <th>4</th>\n",
       "      <td>1.0</td>\n",
       "      <td>0.131193</td>\n",
       "      <td>1.088734</td>\n",
       "      <td>1.901325</td>\n",
       "      <td>0.341176</td>\n",
       "      <td>-0.819357</td>\n",
       "      <td>3</td>\n",
       "      <td>True</td>\n",
       "      <td>2.212821</td>\n",
       "    </tr>\n",
       "    <tr>\n",
       "      <th>...</th>\n",
       "      <td>...</td>\n",
       "      <td>...</td>\n",
       "      <td>...</td>\n",
       "      <td>...</td>\n",
       "      <td>...</td>\n",
       "      <td>...</td>\n",
       "      <td>...</td>\n",
       "      <td>...</td>\n",
       "      <td>...</td>\n",
       "    </tr>\n",
       "    <tr>\n",
       "      <th>9995</th>\n",
       "      <td>0.0</td>\n",
       "      <td>0.476896</td>\n",
       "      <td>-1.184612</td>\n",
       "      <td>2.188797</td>\n",
       "      <td>-0.224509</td>\n",
       "      <td>-1.228635</td>\n",
       "      <td>0</td>\n",
       "      <td>False</td>\n",
       "      <td>-0.060365</td>\n",
       "    </tr>\n",
       "    <tr>\n",
       "      <th>9996</th>\n",
       "      <td>1.0</td>\n",
       "      <td>0.713751</td>\n",
       "      <td>1.152921</td>\n",
       "      <td>0.500568</td>\n",
       "      <td>-0.185504</td>\n",
       "      <td>0.694423</td>\n",
       "      <td>2</td>\n",
       "      <td>True</td>\n",
       "      <td>2.498420</td>\n",
       "    </tr>\n",
       "    <tr>\n",
       "      <th>9997</th>\n",
       "      <td>0.0</td>\n",
       "      <td>0.663165</td>\n",
       "      <td>0.850761</td>\n",
       "      <td>0.284312</td>\n",
       "      <td>-0.526247</td>\n",
       "      <td>1.103464</td>\n",
       "      <td>3</td>\n",
       "      <td>True</td>\n",
       "      <td>2.830186</td>\n",
       "    </tr>\n",
       "    <tr>\n",
       "      <th>9998</th>\n",
       "      <td>1.0</td>\n",
       "      <td>0.168272</td>\n",
       "      <td>-0.281962</td>\n",
       "      <td>1.516238</td>\n",
       "      <td>-0.274179</td>\n",
       "      <td>-0.341830</td>\n",
       "      <td>2</td>\n",
       "      <td>True</td>\n",
       "      <td>1.887054</td>\n",
       "    </tr>\n",
       "    <tr>\n",
       "      <th>9999</th>\n",
       "      <td>0.0</td>\n",
       "      <td>0.806761</td>\n",
       "      <td>0.502738</td>\n",
       "      <td>2.113811</td>\n",
       "      <td>-0.307554</td>\n",
       "      <td>-0.970789</td>\n",
       "      <td>0</td>\n",
       "      <td>True</td>\n",
       "      <td>1.470631</td>\n",
       "    </tr>\n",
       "  </tbody>\n",
       "</table>\n",
       "<p>10000 rows × 9 columns</p>\n",
       "</div>"
      ],
      "text/plain": [
       "       Z0        Z1        W0        W1        W2        W3 W4     v0  \\\n",
       "0     0.0  0.311982  2.418686  2.086654 -0.213282 -0.444751  1   True   \n",
       "1     0.0  0.670250 -0.486371  1.322870 -0.198424  1.772797  3   True   \n",
       "2     0.0  0.227244 -0.319520 -0.947864 -0.588026  0.117772  0  False   \n",
       "3     1.0  0.475665  0.775442  0.284958  2.315080 -0.225897  3   True   \n",
       "4     1.0  0.131193  1.088734  1.901325  0.341176 -0.819357  3   True   \n",
       "...   ...       ...       ...       ...       ...       ... ..    ...   \n",
       "9995  0.0  0.476896 -1.184612  2.188797 -0.224509 -1.228635  0  False   \n",
       "9996  1.0  0.713751  1.152921  0.500568 -0.185504  0.694423  2   True   \n",
       "9997  0.0  0.663165  0.850761  0.284312 -0.526247  1.103464  3   True   \n",
       "9998  1.0  0.168272 -0.281962  1.516238 -0.274179 -0.341830  2   True   \n",
       "9999  0.0  0.806761  0.502738  2.113811 -0.307554 -0.970789  0   True   \n",
       "\n",
       "             y  \n",
       "0     2.501339  \n",
       "1     3.817091  \n",
       "2    -0.593729  \n",
       "3     1.954915  \n",
       "4     2.212821  \n",
       "...        ...  \n",
       "9995 -0.060365  \n",
       "9996  2.498420  \n",
       "9997  2.830186  \n",
       "9998  1.887054  \n",
       "9999  1.470631  \n",
       "\n",
       "[10000 rows x 9 columns]"
      ]
     },
     "execution_count": 3,
     "metadata": {},
     "output_type": "execute_result"
    }
   ],
   "source": [
    "data = dowhy.datasets.linear_dataset(beta=1,\n",
    "        num_common_causes=5, \n",
    "        num_instruments = 2,\n",
    "        num_treatments=1,\n",
    "        num_discrete_common_causes=1,\n",
    "        num_samples=10000,\n",
    "        treatment_is_binary=True,\n",
    "        outcome_is_binary=False)\n",
    "df = data[\"df\"]\n",
    "print(df[df.v0==True].shape[0])\n",
    "df"
   ]
  },
  {
   "cell_type": "markdown",
   "id": "9d8ba9b1",
   "metadata": {},
   "source": [
    "Note that we are using a pandas dataframe to load the data."
   ]
  },
  {
   "cell_type": "markdown",
   "id": "8568c5e7",
   "metadata": {},
   "source": [
    "## Identifying the causal estimand"
   ]
  },
  {
   "cell_type": "markdown",
   "id": "addd739f",
   "metadata": {},
   "source": [
    "We now input a causal graph in the GML graph format."
   ]
  },
  {
   "cell_type": "code",
   "execution_count": 4,
   "id": "c38aaae0",
   "metadata": {
    "execution": {
     "iopub.execute_input": "2022-08-03T14:48:10.928653Z",
     "iopub.status.busy": "2022-08-03T14:48:10.927332Z",
     "iopub.status.idle": "2022-08-03T14:48:10.961631Z",
     "shell.execute_reply": "2022-08-03T14:48:10.960903Z"
    }
   },
   "outputs": [],
   "source": [
    "# With graph\n",
    "model=CausalModel(\n",
    "        data = df,\n",
    "        treatment=data[\"treatment_name\"],\n",
    "        outcome=data[\"outcome_name\"],\n",
    "        graph=data[\"gml_graph\"],\n",
    "        instruments=data[\"instrument_names\"]\n",
    "        )"
   ]
  },
  {
   "cell_type": "code",
   "execution_count": 5,
   "id": "e68930d6",
   "metadata": {
    "execution": {
     "iopub.execute_input": "2022-08-03T14:48:10.967752Z",
     "iopub.status.busy": "2022-08-03T14:48:10.966379Z",
     "iopub.status.idle": "2022-08-03T14:48:11.043860Z",
     "shell.execute_reply": "2022-08-03T14:48:11.042916Z"
    }
   },
   "outputs": [],
   "source": [
    "model.view_model()"
   ]
  },
  {
   "cell_type": "code",
   "execution_count": 6,
   "id": "a9d69b74",
   "metadata": {
    "execution": {
     "iopub.execute_input": "2022-08-03T14:48:11.048309Z",
     "iopub.status.busy": "2022-08-03T14:48:11.047967Z",
     "iopub.status.idle": "2022-08-03T14:48:11.082293Z",
     "shell.execute_reply": "2022-08-03T14:48:11.081246Z"
    }
   },
   "outputs": [
    {
     "data": {
      "image/png": "[encoded data removed]",
      "text/plain": [
       "<IPython.core.display.Image object>"
      ]
     },
     "metadata": {},
     "output_type": "display_data"
    }
   ],
   "source": [
    "from IPython.display import Image, display\n",
    "display(Image(filename=\"causal_model.png\"))"
   ]
  },
  {
   "cell_type": "markdown",
   "id": "2122bd8b",
   "metadata": {},
   "source": [
    "We get a causal graph. Now identification and estimation is done."
   ]
  },
  {
   "cell_type": "code",
   "execution_count": 7,
   "id": "12deaacc",
   "metadata": {
    "execution": {
     "iopub.execute_input": "2022-08-03T14:48:11.087621Z",
     "iopub.status.busy": "2022-08-03T14:48:11.087063Z",
     "iopub.status.idle": "2022-08-03T14:48:11.370131Z",
     "shell.execute_reply": "2022-08-03T14:48:11.369260Z"
    }
   },
   "outputs": [
    {
     "name": "stdout",
     "output_type": "stream",
     "text": [
      "Estimand type: nonparametric-ate\n",
      "\n",
      "### Estimand : 1\n",
      "Estimand name: backdoor\n",
      "Estimand expression:\n",
      "  d                       \n",
      "─────(E[y|W1,W3,W2,W0,W4])\n",
      "d[v₀]                     \n",
      "Estimand assumption 1, Unconfoundedness: If U→{v0} and U→y then P(y|v0,W1,W3,W2,W0,W4,U) = P(y|v0,W1,W3,W2,W0,W4)\n",
      "\n",
      "### Estimand : 2\n",
      "Estimand name: iv\n",
      "Estimand expression:\n",
      " ⎡                              -1⎤\n",
      " ⎢    d        ⎛    d          ⎞  ⎥\n",
      "E⎢─────────(y)⋅⎜─────────([v₀])⎟  ⎥\n",
      " ⎣d[Z₁  Z₀]    ⎝d[Z₁  Z₀]      ⎠  ⎦\n",
      "Estimand assumption 1, As-if-random: If U→→y then ¬(U →→{Z1,Z0})\n",
      "Estimand assumption 2, Exclusion: If we remove {Z1,Z0}→{v0}, then ¬({Z1,Z0}→y)\n",
      "\n",
      "### Estimand : 3\n",
      "Estimand name: frontdoor\n",
      "No such variable(s) found!\n",
      "\n"
     ]
    }
   ],
   "source": [
    "identified_estimand = model.identify_effect(proceed_when_unidentifiable=True)\n",
    "print(identified_estimand)"
   ]
  },
  {
   "cell_type": "markdown",
   "id": "9cc679fc",
   "metadata": {},
   "source": [
    "## Method 1: Propensity Score Stratification\n",
    "\n",
    "We will be using propensity scores to stratify units in the data."
   ]
  },
  {
   "cell_type": "code",
   "execution_count": 8,
   "id": "4f0c4c97",
   "metadata": {
    "execution": {
     "iopub.execute_input": "2022-08-03T14:48:11.373945Z",
     "iopub.status.busy": "2022-08-03T14:48:11.373549Z",
     "iopub.status.idle": "2022-08-03T14:48:12.411589Z",
     "shell.execute_reply": "2022-08-03T14:48:12.410400Z"
    }
   },
   "outputs": [
    {
     "name": "stdout",
     "output_type": "stream",
     "text": [
      "propensity_score_stratification\n"
     ]
    },
    {
     "name": "stderr",
     "output_type": "stream",
     "text": [
      "/usr/local/lib/python3.8/dist-packages/sklearn/utils/validation.py:993: DataConversionWarning: A column-vector y was passed when a 1d array was expected. Please change the shape of y to (n_samples, ), for example using ravel().\n",
      "  y = column_or_1d(y, warn=True)\n"
     ]
    },
    {
     "name": "stdout",
     "output_type": "stream",
     "text": [
      "*** Causal Estimate ***\n",
      "\n",
      "## Identified estimand\n",
      "Estimand type: nonparametric-ate\n",
      "\n",
      "### Estimand : 1\n",
      "Estimand name: backdoor\n",
      "Estimand expression:\n",
      "  d                       \n",
      "─────(E[y|W1,W3,W2,W0,W4])\n",
      "d[v₀]                     \n",
      "Estimand assumption 1, Unconfoundedness: If U→{v0} and U→y then P(y|v0,W1,W3,W2,W0,W4,U) = P(y|v0,W1,W3,W2,W0,W4)\n",
      "\n",
      "## Realized estimand\n",
      "b: y~v0+W1+W3+W2+W0+W4\n",
      "Target units: att\n",
      "\n",
      "## Estimate\n",
      "Mean value: 1.0134627114766241\n",
      "\n",
      "Causal Estimate is 1.0134627114766241\n"
     ]
    }
   ],
   "source": [
    "causal_estimate_strat = model.estimate_effect(identified_estimand,\n",
    "                                              method_name=\"backdoor.propensity_score_stratification\",\n",
    "                                              target_units=\"att\")\n",
    "print(causal_estimate_strat)\n",
    "print(\"Causal Estimate is \" + str(causal_estimate_strat.value))"
   ]
  },
  {
   "cell_type": "markdown",
   "id": "f57a38ef",
   "metadata": {},
   "source": [
    "### Textual Interpreter\n",
    "\n",
    "The textual Interpreter describes (in words) the effect of unit change in the treatment variable on the outcome variable."
   ]
  },
  {
   "cell_type": "code",
   "execution_count": 9,
   "id": "38ce8d08",
   "metadata": {
    "execution": {
     "iopub.execute_input": "2022-08-03T14:48:12.416439Z",
     "iopub.status.busy": "2022-08-03T14:48:12.416008Z",
     "iopub.status.idle": "2022-08-03T14:48:12.446262Z",
     "shell.execute_reply": "2022-08-03T14:48:12.445205Z"
    }
   },
   "outputs": [
    {
     "name": "stdout",
     "output_type": "stream",
     "text": [
      "Increasing the treatment variable(s) [v0] from 0 to 1 causes an increase of 1.0134627114766241 in the expected value of the outcome [y], over the data distribution/population represented by the dataset.\n"
     ]
    }
   ],
   "source": [
    "# Textual Interpreter\n",
    "interpretation = causal_estimate_strat.interpret(method_name=\"textual_effect_interpreter\")"
   ]
  },
  {
   "cell_type": "markdown",
   "id": "3d5f9937",
   "metadata": {},
   "source": [
    "### Visual Interpreter\n",
    "\n",
    "The visual interpreter plots the change in the standardized mean difference (SMD) before and after Propensity Score based adjustment of the dataset. The formula for SMD is given below.\n",
    "\n",
    "\n",
    "$SMD = \\frac{\\bar X_{1} - \\bar X_{2}}{\\sqrt{(S_{1}^{2} + S_{2}^{2})/2}}$\n",
    "\n",
    "Here, $\\bar X_{1}$ and $\\bar X_{2}$ are the sample mean for the treated and control groups.\n"
   ]
  },
  {
   "cell_type": "code",
   "execution_count": 10,
   "id": "24d0d609",
   "metadata": {
    "execution": {
     "iopub.execute_input": "2022-08-03T14:48:12.450007Z",
     "iopub.status.busy": "2022-08-03T14:48:12.449669Z",
     "iopub.status.idle": "2022-08-03T14:48:13.837043Z",
     "shell.execute_reply": "2022-08-03T14:48:13.836083Z"
    }
   },
   "outputs": [
    {
     "data": {
      "image/png": "[encoded data removed]",
      "text/plain": [
       "<Figure size 432x288 with 1 Axes>"
      ]
     },
     "metadata": {
      "needs_background": "light"
     },
     "output_type": "display_data"
    }
   ],
   "source": [
    "# Visual Interpreter\n",
    "interpretation = causal_estimate_strat.interpret(method_name=\"propensity_balance_interpreter\")"
   ]
  },
  {
   "cell_type": "markdown",
   "id": "2d63b8bc",
   "metadata": {},
   "source": [
    "This plot shows how the SMD decreases from the unadjusted to the stratified units. "
   ]
  },
  {
   "cell_type": "markdown",
   "id": "a348797d",
   "metadata": {},
   "source": [
    "## Method 2: Propensity Score Matching\n",
    "\n",
    "We will be using propensity scores to match units in the data."
   ]
  },
  {
   "cell_type": "code",
   "execution_count": 11,
   "id": "9d0e72a9",
   "metadata": {
    "execution": {
     "iopub.execute_input": "2022-08-03T14:48:13.841857Z",
     "iopub.status.busy": "2022-08-03T14:48:13.841385Z",
     "iopub.status.idle": "2022-08-03T14:48:19.456761Z",
     "shell.execute_reply": "2022-08-03T14:48:19.455389Z"
    }
   },
   "outputs": [
    {
     "name": "stdout",
     "output_type": "stream",
     "text": [
      "propensity_score_matching\n"
     ]
    },
    {
     "name": "stderr",
     "output_type": "stream",
     "text": [
      "/usr/local/lib/python3.8/dist-packages/sklearn/utils/validation.py:993: DataConversionWarning: A column-vector y was passed when a 1d array was expected. Please change the shape of y to (n_samples, ), for example using ravel().\n",
      "  y = column_or_1d(y, warn=True)\n"
     ]
    },
    {
     "name": "stdout",
     "output_type": "stream",
     "text": [
      "*** Causal Estimate ***\n",
      "\n",
      "## Identified estimand\n",
      "Estimand type: nonparametric-ate\n",
      "\n",
      "### Estimand : 1\n",
      "Estimand name: backdoor\n",
      "Estimand expression:\n",
      "  d                       \n",
      "─────(E[y|W1,W3,W2,W0,W4])\n",
      "d[v₀]                     \n",
      "Estimand assumption 1, Unconfoundedness: If U→{v0} and U→y then P(y|v0,W1,W3,W2,W0,W4,U) = P(y|v0,W1,W3,W2,W0,W4)\n",
      "\n",
      "## Realized estimand\n",
      "b: y~v0+W1+W3+W2+W0+W4\n",
      "Target units: atc\n",
      "\n",
      "## Estimate\n",
      "Mean value: 1.0244510788776613\n",
      "\n",
      "Causal Estimate is 1.0244510788776613\n"
     ]
    }
   ],
   "source": [
    "causal_estimate_match = model.estimate_effect(identified_estimand,\n",
    "                                              method_name=\"backdoor.propensity_score_matching\",\n",
    "                                              target_units=\"atc\")\n",
    "print(causal_estimate_match)\n",
    "print(\"Causal Estimate is \" + str(causal_estimate_match.value))"
   ]
  },
  {
   "cell_type": "code",
   "execution_count": 12,
   "id": "782ca636",
   "metadata": {
    "execution": {
     "iopub.execute_input": "2022-08-03T14:48:19.462679Z",
     "iopub.status.busy": "2022-08-03T14:48:19.462057Z",
     "iopub.status.idle": "2022-08-03T14:48:19.496801Z",
     "shell.execute_reply": "2022-08-03T14:48:19.495822Z"
    }
   },
   "outputs": [
    {
     "name": "stdout",
     "output_type": "stream",
     "text": [
      "Increasing the treatment variable(s) [v0] from 0 to 1 causes an increase of 1.0244510788776613 in the expected value of the outcome [y], over the data distribution/population represented by the dataset.\n"
     ]
    }
   ],
   "source": [
    "# Textual Interpreter\n",
    "interpretation = causal_estimate_match.interpret(method_name=\"textual_effect_interpreter\")"
   ]
  },
  {
   "cell_type": "markdown",
   "id": "12514082",
   "metadata": {},
   "source": [
    "Cannot use propensity balance interpretor here since the interpreter method only supports propensity score stratification estimator."
   ]
  },
  {
   "cell_type": "markdown",
   "id": "3828872f",
   "metadata": {},
   "source": [
    "## Method 3: Weighting\n",
    "\n",
    "We will be using (inverse) propensity scores to assign weights to units in the data. DoWhy supports a few different weighting schemes:\n",
    "1. Vanilla Inverse Propensity Score weighting (IPS) (weighting_scheme=\"ips_weight\")\n",
    "2. Self-normalized IPS weighting (also known as the Hajek estimator) (weighting_scheme=\"ips_normalized_weight\")\n",
    "3. Stabilized IPS weighting (weighting_scheme = \"ips_stabilized_weight\")"
   ]
  },
  {
   "cell_type": "code",
   "execution_count": 13,
   "id": "da4e1345",
   "metadata": {
    "execution": {
     "iopub.execute_input": "2022-08-03T14:48:19.501135Z",
     "iopub.status.busy": "2022-08-03T14:48:19.500687Z",
     "iopub.status.idle": "2022-08-03T14:48:19.587063Z",
     "shell.execute_reply": "2022-08-03T14:48:19.584255Z"
    }
   },
   "outputs": [
    {
     "name": "stdout",
     "output_type": "stream",
     "text": [
      "propensity_score_weighting\n",
      "*** Causal Estimate ***\n",
      "\n",
      "## Identified estimand\n",
      "Estimand type: nonparametric-ate\n",
      "\n",
      "### Estimand : 1\n",
      "Estimand name: backdoor\n",
      "Estimand expression:\n",
      "  d                       \n",
      "─────(E[y|W1,W3,W2,W0,W4])\n",
      "d[v₀]                     \n",
      "Estimand assumption 1, Unconfoundedness: If U→{v0} and U→y then P(y|v0,W1,W3,W2,W0,W4,U) = P(y|v0,W1,W3,W2,W0,W4)\n",
      "\n",
      "## Realized estimand\n",
      "b: y~v0+W1+W3+W2+W0+W4\n",
      "Target units: ate\n",
      "\n",
      "## Estimate\n",
      "Mean value: 1.0883350789027362\n",
      "\n",
      "Causal Estimate is 1.0883350789027362\n"
     ]
    },
    {
     "name": "stderr",
     "output_type": "stream",
     "text": [
      "/usr/local/lib/python3.8/dist-packages/sklearn/utils/validation.py:993: DataConversionWarning: A column-vector y was passed when a 1d array was expected. Please change the shape of y to (n_samples, ), for example using ravel().\n",
      "  y = column_or_1d(y, warn=True)\n"
     ]
    }
   ],
   "source": [
    "causal_estimate_ipw = model.estimate_effect(identified_estimand,\n",
    "                                            method_name=\"backdoor.propensity_score_weighting\",\n",
    "                                            target_units = \"ate\",\n",
    "                                            method_params={\"weighting_scheme\":\"ips_weight\"})\n",
    "print(causal_estimate_ipw)\n",
    "print(\"Causal Estimate is \" + str(causal_estimate_ipw.value))"
   ]
  },
  {
   "cell_type": "code",
   "execution_count": 14,
   "id": "1c268322",
   "metadata": {
    "execution": {
     "iopub.execute_input": "2022-08-03T14:48:19.591299Z",
     "iopub.status.busy": "2022-08-03T14:48:19.590854Z",
     "iopub.status.idle": "2022-08-03T14:48:19.630717Z",
     "shell.execute_reply": "2022-08-03T14:48:19.630010Z"
    }
   },
   "outputs": [
    {
     "name": "stdout",
     "output_type": "stream",
     "text": [
      "Increasing the treatment variable(s) [v0] from 0 to 1 causes an increase of 1.0883350789027362 in the expected value of the outcome [y], over the data distribution/population represented by the dataset.\n"
     ]
    }
   ],
   "source": [
    "# Textual Interpreter\n",
    "interpretation = causal_estimate_ipw.interpret(method_name=\"textual_effect_interpreter\")"
   ]
  },
  {
   "cell_type": "code",
   "execution_count": 15,
   "id": "bc91572f",
   "metadata": {
    "execution": {
     "iopub.execute_input": "2022-08-03T14:48:19.637177Z",
     "iopub.status.busy": "2022-08-03T14:48:19.635365Z",
     "iopub.status.idle": "2022-08-03T14:48:19.940987Z",
     "shell.execute_reply": "2022-08-03T14:48:19.940131Z"
    }
   },
   "outputs": [
    {
     "data": {
      "image/png": "[encoded data removed]",
      "text/plain": [
       "<Figure size 576x576 with 2 Axes>"
      ]
     },
     "metadata": {
      "needs_background": "light"
     },
     "output_type": "display_data"
    }
   ],
   "source": [
    "interpretation = causal_estimate_ipw.interpret(method_name=\"confounder_distribution_interpreter\", fig_size=(8,8), font_size=12, var_name='W4', var_type='discrete')"
   ]
  },
  {
   "cell_type": "code",
   "execution_count": null,
   "id": "c4e5ba14",
   "metadata": {},
   "outputs": [],
   "source": []
  }
 ],
 "metadata": {
  "kernelspec": {
   "display_name": "Python 3",
   "language": "python",
   "name": "python3"
  },
  "language_info": {
   "codemirror_mode": {
    "name": "ipython",
    "version": 3
   },
   "file_extension": ".py",
   "mimetype": "text/x-python",
   "name": "python",
   "nbconvert_exporter": "python",
   "pygments_lexer": "ipython3",
   "version": "3.8.10"
  },
  "toc": {
   "base_numbering": 1,
   "nav_menu": {},
   "number_sections": false,
   "sideBar": true,
   "skip_h1_title": true,
   "title_cell": "Table of Contents",
   "title_sidebar": "Contents",
   "toc_cell": false,
   "toc_position": {},
   "toc_section_display": true,
   "toc_window_display": false
  }
 },
 "nbformat": 4,
 "nbformat_minor": 5
}
