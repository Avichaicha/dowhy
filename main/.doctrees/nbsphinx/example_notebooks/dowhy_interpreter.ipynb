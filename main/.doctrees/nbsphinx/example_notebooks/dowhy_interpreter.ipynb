{
 "cells": [
  {
   "cell_type": "markdown",
   "id": "c6fccd18",
   "metadata": {},
   "source": [
    "# DoWhy: Interpreters for Causal Estimators\n",
    "\n",
    "This is a quick introduction to the use of interpreters in the DoWhy causal inference library.\n",
    "We will load in a sample dataset, use different methods for estimating the causal effect of a (pre-specified)treatment variable on a (pre-specified) outcome variable and demonstrate how to interpret the obtained results.\n",
    "\n",
    "First, let us add the required path for Python to find the DoWhy code and load all required packages"
   ]
  },
  {
   "cell_type": "code",
   "execution_count": 1,
   "id": "7bf35028",
   "metadata": {
    "execution": {
     "iopub.execute_input": "2022-07-28T12:41:57.454757Z",
     "iopub.status.busy": "2022-07-28T12:41:57.454476Z",
     "iopub.status.idle": "2022-07-28T12:41:57.469836Z",
     "shell.execute_reply": "2022-07-28T12:41:57.469286Z"
    }
   },
   "outputs": [],
   "source": [
    "%load_ext autoreload\n",
    "%autoreload 2"
   ]
  },
  {
   "cell_type": "code",
   "execution_count": 2,
   "id": "e226c215",
   "metadata": {
    "execution": {
     "iopub.execute_input": "2022-07-28T12:41:57.472680Z",
     "iopub.status.busy": "2022-07-28T12:41:57.472473Z",
     "iopub.status.idle": "2022-07-28T12:41:58.487704Z",
     "shell.execute_reply": "2022-07-28T12:41:58.486763Z"
    }
   },
   "outputs": [
    {
     "name": "stdout",
     "output_type": "stream",
     "text": [
      "keywords are unexpanded, not using\n"
     ]
    }
   ],
   "source": [
    "import numpy as np\n",
    "import pandas as pd\n",
    "import logging\n",
    "\n",
    "import dowhy\n",
    "from dowhy import CausalModel\n",
    "import dowhy.datasets "
   ]
  },
  {
   "cell_type": "markdown",
   "id": "68828ed9",
   "metadata": {},
   "source": [
    "Now, let us load a dataset. For simplicity, we simulate a dataset with linear relationships between common causes and treatment, and common causes and outcome.\n",
    "\n",
    "Beta is the true causal effect."
   ]
  },
  {
   "cell_type": "code",
   "execution_count": 3,
   "id": "ff875c39",
   "metadata": {
    "execution": {
     "iopub.execute_input": "2022-07-28T12:41:58.491483Z",
     "iopub.status.busy": "2022-07-28T12:41:58.490621Z",
     "iopub.status.idle": "2022-07-28T12:41:58.788019Z",
     "shell.execute_reply": "2022-07-28T12:41:58.787400Z"
    }
   },
   "outputs": [
    {
     "name": "stdout",
     "output_type": "stream",
     "text": [
      "8029\n"
     ]
    },
    {
     "data": {
      "text/html": [
       "<div>\n",
       "<style scoped>\n",
       "    .dataframe tbody tr th:only-of-type {\n",
       "        vertical-align: middle;\n",
       "    }\n",
       "\n",
       "    .dataframe tbody tr th {\n",
       "        vertical-align: top;\n",
       "    }\n",
       "\n",
       "    .dataframe thead th {\n",
       "        text-align: right;\n",
       "    }\n",
       "</style>\n",
       "<table border=\"1\" class=\"dataframe\">\n",
       "  <thead>\n",
       "    <tr style=\"text-align: right;\">\n",
       "      <th></th>\n",
       "      <th>Z0</th>\n",
       "      <th>Z1</th>\n",
       "      <th>W0</th>\n",
       "      <th>W1</th>\n",
       "      <th>W2</th>\n",
       "      <th>W3</th>\n",
       "      <th>W4</th>\n",
       "      <th>v0</th>\n",
       "      <th>y</th>\n",
       "    </tr>\n",
       "  </thead>\n",
       "  <tbody>\n",
       "    <tr>\n",
       "      <th>0</th>\n",
       "      <td>0.0</td>\n",
       "      <td>0.510477</td>\n",
       "      <td>-3.251586</td>\n",
       "      <td>0.684006</td>\n",
       "      <td>-0.651404</td>\n",
       "      <td>1.907302</td>\n",
       "      <td>2</td>\n",
       "      <td>True</td>\n",
       "      <td>0.740672</td>\n",
       "    </tr>\n",
       "    <tr>\n",
       "      <th>1</th>\n",
       "      <td>0.0</td>\n",
       "      <td>0.483750</td>\n",
       "      <td>-0.926701</td>\n",
       "      <td>-0.167523</td>\n",
       "      <td>0.882853</td>\n",
       "      <td>1.836522</td>\n",
       "      <td>2</td>\n",
       "      <td>True</td>\n",
       "      <td>2.572732</td>\n",
       "    </tr>\n",
       "    <tr>\n",
       "      <th>2</th>\n",
       "      <td>0.0</td>\n",
       "      <td>0.284033</td>\n",
       "      <td>-0.239925</td>\n",
       "      <td>1.074817</td>\n",
       "      <td>-0.293421</td>\n",
       "      <td>1.284939</td>\n",
       "      <td>2</td>\n",
       "      <td>True</td>\n",
       "      <td>2.698948</td>\n",
       "    </tr>\n",
       "    <tr>\n",
       "      <th>3</th>\n",
       "      <td>0.0</td>\n",
       "      <td>0.092727</td>\n",
       "      <td>-1.970108</td>\n",
       "      <td>2.295006</td>\n",
       "      <td>0.437148</td>\n",
       "      <td>2.178617</td>\n",
       "      <td>2</td>\n",
       "      <td>True</td>\n",
       "      <td>2.601817</td>\n",
       "    </tr>\n",
       "    <tr>\n",
       "      <th>4</th>\n",
       "      <td>0.0</td>\n",
       "      <td>0.435577</td>\n",
       "      <td>-1.429221</td>\n",
       "      <td>1.742937</td>\n",
       "      <td>0.032656</td>\n",
       "      <td>1.393685</td>\n",
       "      <td>2</td>\n",
       "      <td>True</td>\n",
       "      <td>2.271773</td>\n",
       "    </tr>\n",
       "    <tr>\n",
       "      <th>...</th>\n",
       "      <td>...</td>\n",
       "      <td>...</td>\n",
       "      <td>...</td>\n",
       "      <td>...</td>\n",
       "      <td>...</td>\n",
       "      <td>...</td>\n",
       "      <td>...</td>\n",
       "      <td>...</td>\n",
       "      <td>...</td>\n",
       "    </tr>\n",
       "    <tr>\n",
       "      <th>9995</th>\n",
       "      <td>0.0</td>\n",
       "      <td>0.079560</td>\n",
       "      <td>-1.009350</td>\n",
       "      <td>1.116251</td>\n",
       "      <td>0.269319</td>\n",
       "      <td>1.225497</td>\n",
       "      <td>0</td>\n",
       "      <td>True</td>\n",
       "      <td>1.346723</td>\n",
       "    </tr>\n",
       "    <tr>\n",
       "      <th>9996</th>\n",
       "      <td>0.0</td>\n",
       "      <td>0.953929</td>\n",
       "      <td>-0.846839</td>\n",
       "      <td>-0.533435</td>\n",
       "      <td>0.325691</td>\n",
       "      <td>0.606795</td>\n",
       "      <td>0</td>\n",
       "      <td>True</td>\n",
       "      <td>0.679595</td>\n",
       "    </tr>\n",
       "    <tr>\n",
       "      <th>9997</th>\n",
       "      <td>0.0</td>\n",
       "      <td>0.883124</td>\n",
       "      <td>1.162592</td>\n",
       "      <td>-0.026296</td>\n",
       "      <td>-0.025220</td>\n",
       "      <td>-0.740707</td>\n",
       "      <td>3</td>\n",
       "      <td>True</td>\n",
       "      <td>2.940744</td>\n",
       "    </tr>\n",
       "    <tr>\n",
       "      <th>9998</th>\n",
       "      <td>1.0</td>\n",
       "      <td>0.000051</td>\n",
       "      <td>-0.430688</td>\n",
       "      <td>1.544036</td>\n",
       "      <td>0.751467</td>\n",
       "      <td>0.112229</td>\n",
       "      <td>2</td>\n",
       "      <td>True</td>\n",
       "      <td>2.553159</td>\n",
       "    </tr>\n",
       "    <tr>\n",
       "      <th>9999</th>\n",
       "      <td>1.0</td>\n",
       "      <td>0.665120</td>\n",
       "      <td>-1.223943</td>\n",
       "      <td>3.163859</td>\n",
       "      <td>0.593148</td>\n",
       "      <td>1.587958</td>\n",
       "      <td>1</td>\n",
       "      <td>True</td>\n",
       "      <td>2.642217</td>\n",
       "    </tr>\n",
       "  </tbody>\n",
       "</table>\n",
       "<p>10000 rows × 9 columns</p>\n",
       "</div>"
      ],
      "text/plain": [
       "       Z0        Z1        W0        W1        W2        W3 W4    v0         y\n",
       "0     0.0  0.510477 -3.251586  0.684006 -0.651404  1.907302  2  True  0.740672\n",
       "1     0.0  0.483750 -0.926701 -0.167523  0.882853  1.836522  2  True  2.572732\n",
       "2     0.0  0.284033 -0.239925  1.074817 -0.293421  1.284939  2  True  2.698948\n",
       "3     0.0  0.092727 -1.970108  2.295006  0.437148  2.178617  2  True  2.601817\n",
       "4     0.0  0.435577 -1.429221  1.742937  0.032656  1.393685  2  True  2.271773\n",
       "...   ...       ...       ...       ...       ...       ... ..   ...       ...\n",
       "9995  0.0  0.079560 -1.009350  1.116251  0.269319  1.225497  0  True  1.346723\n",
       "9996  0.0  0.953929 -0.846839 -0.533435  0.325691  0.606795  0  True  0.679595\n",
       "9997  0.0  0.883124  1.162592 -0.026296 -0.025220 -0.740707  3  True  2.940744\n",
       "9998  1.0  0.000051 -0.430688  1.544036  0.751467  0.112229  2  True  2.553159\n",
       "9999  1.0  0.665120 -1.223943  3.163859  0.593148  1.587958  1  True  2.642217\n",
       "\n",
       "[10000 rows x 9 columns]"
      ]
     },
     "execution_count": 3,
     "metadata": {},
     "output_type": "execute_result"
    }
   ],
   "source": [
    "data = dowhy.datasets.linear_dataset(beta=1,\n",
    "        num_common_causes=5, \n",
    "        num_instruments = 2,\n",
    "        num_treatments=1,\n",
    "        num_discrete_common_causes=1,\n",
    "        num_samples=10000,\n",
    "        treatment_is_binary=True,\n",
    "        outcome_is_binary=False)\n",
    "df = data[\"df\"]\n",
    "print(df[df.v0==True].shape[0])\n",
    "df"
   ]
  },
  {
   "cell_type": "markdown",
   "id": "f5a0688e",
   "metadata": {},
   "source": [
    "Note that we are using a pandas dataframe to load the data."
   ]
  },
  {
   "cell_type": "markdown",
   "id": "0c7f1ba2",
   "metadata": {},
   "source": [
    "## Identifying the causal estimand"
   ]
  },
  {
   "cell_type": "markdown",
   "id": "cbd4ea0f",
   "metadata": {},
   "source": [
    "We now input a causal graph in the GML graph format."
   ]
  },
  {
   "cell_type": "code",
   "execution_count": 4,
   "id": "951c3667",
   "metadata": {
    "execution": {
     "iopub.execute_input": "2022-07-28T12:41:58.791398Z",
     "iopub.status.busy": "2022-07-28T12:41:58.791025Z",
     "iopub.status.idle": "2022-07-28T12:41:58.816408Z",
     "shell.execute_reply": "2022-07-28T12:41:58.815777Z"
    }
   },
   "outputs": [],
   "source": [
    "# With graph\n",
    "model=CausalModel(\n",
    "        data = df,\n",
    "        treatment=data[\"treatment_name\"],\n",
    "        outcome=data[\"outcome_name\"],\n",
    "        graph=data[\"gml_graph\"],\n",
    "        instruments=data[\"instrument_names\"]\n",
    "        )"
   ]
  },
  {
   "cell_type": "code",
   "execution_count": 5,
   "id": "77035430",
   "metadata": {
    "execution": {
     "iopub.execute_input": "2022-07-28T12:41:58.819909Z",
     "iopub.status.busy": "2022-07-28T12:41:58.819673Z",
     "iopub.status.idle": "2022-07-28T12:41:58.873837Z",
     "shell.execute_reply": "2022-07-28T12:41:58.873160Z"
    }
   },
   "outputs": [],
   "source": [
    "model.view_model()"
   ]
  },
  {
   "cell_type": "code",
   "execution_count": 6,
   "id": "f6744ca4",
   "metadata": {
    "execution": {
     "iopub.execute_input": "2022-07-28T12:41:58.877263Z",
     "iopub.status.busy": "2022-07-28T12:41:58.876885Z",
     "iopub.status.idle": "2022-07-28T12:41:58.902939Z",
     "shell.execute_reply": "2022-07-28T12:41:58.902295Z"
    }
   },
   "outputs": [
    {
     "data": {
      "image/png": "[encoded data removed]",
      "text/plain": [
       "<IPython.core.display.Image object>"
      ]
     },
     "metadata": {},
     "output_type": "display_data"
    }
   ],
   "source": [
    "from IPython.display import Image, display\n",
    "display(Image(filename=\"causal_model.png\"))"
   ]
  },
  {
   "cell_type": "markdown",
   "id": "7c996c51",
   "metadata": {},
   "source": [
    "We get a causal graph. Now identification and estimation is done."
   ]
  },
  {
   "cell_type": "code",
   "execution_count": 7,
   "id": "7592a22d",
   "metadata": {
    "execution": {
     "iopub.execute_input": "2022-07-28T12:41:58.906405Z",
     "iopub.status.busy": "2022-07-28T12:41:58.906035Z",
     "iopub.status.idle": "2022-07-28T12:41:59.113322Z",
     "shell.execute_reply": "2022-07-28T12:41:59.112651Z"
    }
   },
   "outputs": [
    {
     "name": "stdout",
     "output_type": "stream",
     "text": [
      "Estimand type: nonparametric-ate\n",
      "\n",
      "### Estimand : 1\n",
      "Estimand name: backdoor\n",
      "Estimand expression:\n",
      "  d                       \n",
      "─────(E[y|W3,W4,W1,W2,W0])\n",
      "d[v₀]                     \n",
      "Estimand assumption 1, Unconfoundedness: If U→{v0} and U→y then P(y|v0,W3,W4,W1,W2,W0,U) = P(y|v0,W3,W4,W1,W2,W0)\n",
      "\n",
      "### Estimand : 2\n",
      "Estimand name: iv\n",
      "Estimand expression:\n",
      " ⎡                              -1⎤\n",
      " ⎢    d        ⎛    d          ⎞  ⎥\n",
      "E⎢─────────(y)⋅⎜─────────([v₀])⎟  ⎥\n",
      " ⎣d[Z₁  Z₀]    ⎝d[Z₁  Z₀]      ⎠  ⎦\n",
      "Estimand assumption 1, As-if-random: If U→→y then ¬(U →→{Z1,Z0})\n",
      "Estimand assumption 2, Exclusion: If we remove {Z1,Z0}→{v0}, then ¬({Z1,Z0}→y)\n",
      "\n",
      "### Estimand : 3\n",
      "Estimand name: frontdoor\n",
      "No such variable(s) found!\n",
      "\n"
     ]
    }
   ],
   "source": [
    "identified_estimand = model.identify_effect(proceed_when_unidentifiable=True)\n",
    "print(identified_estimand)"
   ]
  },
  {
   "cell_type": "markdown",
   "id": "8c828908",
   "metadata": {},
   "source": [
    "## Method 1: Propensity Score Stratification\n",
    "\n",
    "We will be using propensity scores to stratify units in the data."
   ]
  },
  {
   "cell_type": "code",
   "execution_count": 8,
   "id": "64dae3ca",
   "metadata": {
    "execution": {
     "iopub.execute_input": "2022-07-28T12:41:59.116766Z",
     "iopub.status.busy": "2022-07-28T12:41:59.116269Z",
     "iopub.status.idle": "2022-07-28T12:41:59.788458Z",
     "shell.execute_reply": "2022-07-28T12:41:59.787751Z"
    }
   },
   "outputs": [
    {
     "name": "stdout",
     "output_type": "stream",
     "text": [
      "propensity_score_stratification\n"
     ]
    },
    {
     "name": "stderr",
     "output_type": "stream",
     "text": [
      "/usr/local/lib/python3.8/dist-packages/sklearn/utils/validation.py:993: DataConversionWarning: A column-vector y was passed when a 1d array was expected. Please change the shape of y to (n_samples, ), for example using ravel().\n",
      "  y = column_or_1d(y, warn=True)\n"
     ]
    },
    {
     "name": "stdout",
     "output_type": "stream",
     "text": [
      "*** Causal Estimate ***\n",
      "\n",
      "## Identified estimand\n",
      "Estimand type: nonparametric-ate\n",
      "\n",
      "### Estimand : 1\n",
      "Estimand name: backdoor\n",
      "Estimand expression:\n",
      "  d                       \n",
      "─────(E[y|W3,W4,W1,W2,W0])\n",
      "d[v₀]                     \n",
      "Estimand assumption 1, Unconfoundedness: If U→{v0} and U→y then P(y|v0,W3,W4,W1,W2,W0,U) = P(y|v0,W3,W4,W1,W2,W0)\n",
      "\n",
      "## Realized estimand\n",
      "b: y~v0+W3+W4+W1+W2+W0\n",
      "Target units: att\n",
      "\n",
      "## Estimate\n",
      "Mean value: 1.006262354770901\n",
      "\n",
      "Causal Estimate is 1.006262354770901\n"
     ]
    }
   ],
   "source": [
    "causal_estimate_strat = model.estimate_effect(identified_estimand,\n",
    "                                              method_name=\"backdoor.propensity_score_stratification\",\n",
    "                                              target_units=\"att\")\n",
    "print(causal_estimate_strat)\n",
    "print(\"Causal Estimate is \" + str(causal_estimate_strat.value))"
   ]
  },
  {
   "cell_type": "markdown",
   "id": "db648f5c",
   "metadata": {},
   "source": [
    "### Textual Interpreter\n",
    "\n",
    "The textual Interpreter describes (in words) the effect of unit change in the treatment variable on the outcome variable."
   ]
  },
  {
   "cell_type": "code",
   "execution_count": 9,
   "id": "1e15e24c",
   "metadata": {
    "execution": {
     "iopub.execute_input": "2022-07-28T12:41:59.792156Z",
     "iopub.status.busy": "2022-07-28T12:41:59.791644Z",
     "iopub.status.idle": "2022-07-28T12:41:59.819213Z",
     "shell.execute_reply": "2022-07-28T12:41:59.818449Z"
    }
   },
   "outputs": [
    {
     "name": "stdout",
     "output_type": "stream",
     "text": [
      "Increasing the treatment variable(s) [v0] from 0 to 1 causes an increase of 1.006262354770901 in the expected value of the outcome [y], over the data distribution/population represented by the dataset.\n"
     ]
    }
   ],
   "source": [
    "# Textual Interpreter\n",
    "interpretation = causal_estimate_strat.interpret(method_name=\"textual_effect_interpreter\")"
   ]
  },
  {
   "cell_type": "markdown",
   "id": "b8fcf204",
   "metadata": {},
   "source": [
    "### Visual Interpreter\n",
    "\n",
    "The visual interpreter plots the change in the standardized mean difference (SMD) before and after Propensity Score based adjustment of the dataset. The formula for SMD is given below.\n",
    "\n",
    "\n",
    "$SMD = \\frac{\\bar X_{1} - \\bar X_{2}}{\\sqrt{(S_{1}^{2} + S_{2}^{2})/2}}$\n",
    "\n",
    "Here, $\\bar X_{1}$ and $\\bar X_{2}$ are the sample mean for the treated and control groups.\n"
   ]
  },
  {
   "cell_type": "code",
   "execution_count": 10,
   "id": "2f9c8260",
   "metadata": {
    "execution": {
     "iopub.execute_input": "2022-07-28T12:41:59.822627Z",
     "iopub.status.busy": "2022-07-28T12:41:59.822282Z",
     "iopub.status.idle": "2022-07-28T12:42:01.072724Z",
     "shell.execute_reply": "2022-07-28T12:42:01.071875Z"
    }
   },
   "outputs": [
    {
     "data": {
      "image/png": "[encoded data removed]",
      "text/plain": [
       "<Figure size 432x288 with 1 Axes>"
      ]
     },
     "metadata": {
      "needs_background": "light"
     },
     "output_type": "display_data"
    }
   ],
   "source": [
    "# Visual Interpreter\n",
    "interpretation = causal_estimate_strat.interpret(method_name=\"propensity_balance_interpreter\")"
   ]
  },
  {
   "cell_type": "markdown",
   "id": "bccb9127",
   "metadata": {},
   "source": [
    "This plot shows how the SMD decreases from the unadjusted to the stratified units. "
   ]
  },
  {
   "cell_type": "markdown",
   "id": "636de9c2",
   "metadata": {},
   "source": [
    "## Method 2: Propensity Score Matching\n",
    "\n",
    "We will be using propensity scores to match units in the data."
   ]
  },
  {
   "cell_type": "code",
   "execution_count": 11,
   "id": "cd1681eb",
   "metadata": {
    "execution": {
     "iopub.execute_input": "2022-07-28T12:42:01.076703Z",
     "iopub.status.busy": "2022-07-28T12:42:01.075901Z",
     "iopub.status.idle": "2022-07-28T12:42:05.204764Z",
     "shell.execute_reply": "2022-07-28T12:42:05.204152Z"
    }
   },
   "outputs": [
    {
     "name": "stdout",
     "output_type": "stream",
     "text": [
      "propensity_score_matching\n"
     ]
    },
    {
     "name": "stderr",
     "output_type": "stream",
     "text": [
      "/usr/local/lib/python3.8/dist-packages/sklearn/utils/validation.py:993: DataConversionWarning: A column-vector y was passed when a 1d array was expected. Please change the shape of y to (n_samples, ), for example using ravel().\n",
      "  y = column_or_1d(y, warn=True)\n"
     ]
    },
    {
     "name": "stdout",
     "output_type": "stream",
     "text": [
      "*** Causal Estimate ***\n",
      "\n",
      "## Identified estimand\n",
      "Estimand type: nonparametric-ate\n",
      "\n",
      "### Estimand : 1\n",
      "Estimand name: backdoor\n",
      "Estimand expression:\n",
      "  d                       \n",
      "─────(E[y|W3,W4,W1,W2,W0])\n",
      "d[v₀]                     \n",
      "Estimand assumption 1, Unconfoundedness: If U→{v0} and U→y then P(y|v0,W3,W4,W1,W2,W0,U) = P(y|v0,W3,W4,W1,W2,W0)\n",
      "\n",
      "## Realized estimand\n",
      "b: y~v0+W3+W4+W1+W2+W0\n",
      "Target units: atc\n",
      "\n",
      "## Estimate\n",
      "Mean value: 1.006545100957165\n",
      "\n",
      "Causal Estimate is 1.006545100957165\n"
     ]
    }
   ],
   "source": [
    "causal_estimate_match = model.estimate_effect(identified_estimand,\n",
    "                                              method_name=\"backdoor.propensity_score_matching\",\n",
    "                                              target_units=\"atc\")\n",
    "print(causal_estimate_match)\n",
    "print(\"Causal Estimate is \" + str(causal_estimate_match.value))"
   ]
  },
  {
   "cell_type": "code",
   "execution_count": 12,
   "id": "16c3687c",
   "metadata": {
    "execution": {
     "iopub.execute_input": "2022-07-28T12:42:05.208279Z",
     "iopub.status.busy": "2022-07-28T12:42:05.207805Z",
     "iopub.status.idle": "2022-07-28T12:42:05.233973Z",
     "shell.execute_reply": "2022-07-28T12:42:05.233115Z"
    }
   },
   "outputs": [
    {
     "name": "stdout",
     "output_type": "stream",
     "text": [
      "Increasing the treatment variable(s) [v0] from 0 to 1 causes an increase of 1.006545100957165 in the expected value of the outcome [y], over the data distribution/population represented by the dataset.\n"
     ]
    }
   ],
   "source": [
    "# Textual Interpreter\n",
    "interpretation = causal_estimate_match.interpret(method_name=\"textual_effect_interpreter\")"
   ]
  },
  {
   "cell_type": "markdown",
   "id": "8820adfb",
   "metadata": {},
   "source": [
    "Cannot use propensity balance interpretor here since the interpreter method only supports propensity score stratification estimator."
   ]
  },
  {
   "cell_type": "markdown",
   "id": "fdc325ac",
   "metadata": {},
   "source": [
    "## Method 3: Weighting\n",
    "\n",
    "We will be using (inverse) propensity scores to assign weights to units in the data. DoWhy supports a few different weighting schemes:\n",
    "1. Vanilla Inverse Propensity Score weighting (IPS) (weighting_scheme=\"ips_weight\")\n",
    "2. Self-normalized IPS weighting (also known as the Hajek estimator) (weighting_scheme=\"ips_normalized_weight\")\n",
    "3. Stabilized IPS weighting (weighting_scheme = \"ips_stabilized_weight\")"
   ]
  },
  {
   "cell_type": "code",
   "execution_count": 13,
   "id": "6259e489",
   "metadata": {
    "execution": {
     "iopub.execute_input": "2022-07-28T12:42:05.237534Z",
     "iopub.status.busy": "2022-07-28T12:42:05.237088Z",
     "iopub.status.idle": "2022-07-28T12:42:05.306264Z",
     "shell.execute_reply": "2022-07-28T12:42:05.305055Z"
    }
   },
   "outputs": [
    {
     "name": "stdout",
     "output_type": "stream",
     "text": [
      "propensity_score_weighting\n",
      "*** Causal Estimate ***\n",
      "\n",
      "## Identified estimand\n",
      "Estimand type: nonparametric-ate\n",
      "\n",
      "### Estimand : 1\n",
      "Estimand name: backdoor\n",
      "Estimand expression:\n",
      "  d                       \n",
      "─────(E[y|W3,W4,W1,W2,W0])\n",
      "d[v₀]                     \n",
      "Estimand assumption 1, Unconfoundedness: If U→{v0} and U→y then P(y|v0,W3,W4,W1,W2,W0,U) = P(y|v0,W3,W4,W1,W2,W0)\n",
      "\n",
      "## Realized estimand\n",
      "b: y~v0+W3+W4+W1+W2+W0\n",
      "Target units: ate\n",
      "\n",
      "## Estimate\n",
      "Mean value: 1.1098288954311504\n",
      "\n",
      "Causal Estimate is 1.1098288954311504\n"
     ]
    },
    {
     "name": "stderr",
     "output_type": "stream",
     "text": [
      "/usr/local/lib/python3.8/dist-packages/sklearn/utils/validation.py:993: DataConversionWarning: A column-vector y was passed when a 1d array was expected. Please change the shape of y to (n_samples, ), for example using ravel().\n",
      "  y = column_or_1d(y, warn=True)\n"
     ]
    }
   ],
   "source": [
    "causal_estimate_ipw = model.estimate_effect(identified_estimand,\n",
    "                                            method_name=\"backdoor.propensity_score_weighting\",\n",
    "                                            target_units = \"ate\",\n",
    "                                            method_params={\"weighting_scheme\":\"ips_weight\"})\n",
    "print(causal_estimate_ipw)\n",
    "print(\"Causal Estimate is \" + str(causal_estimate_ipw.value))"
   ]
  },
  {
   "cell_type": "code",
   "execution_count": 14,
   "id": "47639b7d",
   "metadata": {
    "execution": {
     "iopub.execute_input": "2022-07-28T12:42:05.309447Z",
     "iopub.status.busy": "2022-07-28T12:42:05.309204Z",
     "iopub.status.idle": "2022-07-28T12:42:05.334390Z",
     "shell.execute_reply": "2022-07-28T12:42:05.333544Z"
    }
   },
   "outputs": [
    {
     "name": "stdout",
     "output_type": "stream",
     "text": [
      "Increasing the treatment variable(s) [v0] from 0 to 1 causes an increase of 1.1098288954311504 in the expected value of the outcome [y], over the data distribution/population represented by the dataset.\n"
     ]
    }
   ],
   "source": [
    "# Textual Interpreter\n",
    "interpretation = causal_estimate_ipw.interpret(method_name=\"textual_effect_interpreter\")"
   ]
  },
  {
   "cell_type": "code",
   "execution_count": 15,
   "id": "ee3b128b",
   "metadata": {
    "execution": {
     "iopub.execute_input": "2022-07-28T12:42:05.337214Z",
     "iopub.status.busy": "2022-07-28T12:42:05.336974Z",
     "iopub.status.idle": "2022-07-28T12:42:05.576450Z",
     "shell.execute_reply": "2022-07-28T12:42:05.575747Z"
    }
   },
   "outputs": [
    {
     "data": {
      "image/png": "[encoded data removed]",
      "text/plain": [
       "<Figure size 576x576 with 2 Axes>"
      ]
     },
     "metadata": {
      "needs_background": "light"
     },
     "output_type": "display_data"
    }
   ],
   "source": [
    "interpretation = causal_estimate_ipw.interpret(method_name=\"confounder_distribution_interpreter\", fig_size=(8,8), font_size=12, var_name='W4', var_type='discrete')"
   ]
  },
  {
   "cell_type": "code",
   "execution_count": null,
   "id": "54b02ddc",
   "metadata": {},
   "outputs": [],
   "source": []
  }
 ],
 "metadata": {
  "kernelspec": {
   "display_name": "Python 3",
   "language": "python",
   "name": "python3"
  },
  "language_info": {
   "codemirror_mode": {
    "name": "ipython",
    "version": 3
   },
   "file_extension": ".py",
   "mimetype": "text/x-python",
   "name": "python",
   "nbconvert_exporter": "python",
   "pygments_lexer": "ipython3",
   "version": "3.8.10"
  },
  "toc": {
   "base_numbering": 1,
   "nav_menu": {},
   "number_sections": false,
   "sideBar": true,
   "skip_h1_title": true,
   "title_cell": "Table of Contents",
   "title_sidebar": "Contents",
   "toc_cell": false,
   "toc_position": {},
   "toc_section_display": true,
   "toc_window_display": false
  }
 },
 "nbformat": 4,
 "nbformat_minor": 5
}
