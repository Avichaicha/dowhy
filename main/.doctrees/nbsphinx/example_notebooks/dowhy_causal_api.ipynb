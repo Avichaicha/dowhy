{
 "cells": [
  {
   "cell_type": "markdown",
   "metadata": {},
   "source": [
    "# Demo for the DoWhy causal API\n",
    "We show a simple example of adding a causal extension to any dataframe. "
   ]
  },
  {
   "cell_type": "code",
   "execution_count": 1,
   "metadata": {
    "execution": {
     "iopub.execute_input": "2022-08-18T15:42:32.016843Z",
     "iopub.status.busy": "2022-08-18T15:42:32.016266Z",
     "iopub.status.idle": "2022-08-18T15:42:33.413452Z",
     "shell.execute_reply": "2022-08-18T15:42:33.412165Z"
    }
   },
   "outputs": [],
   "source": [
    "import dowhy.datasets\n",
    "import dowhy.api\n",
    "\n",
    "import numpy as np\n",
    "import pandas as pd\n",
    "\n",
    "from statsmodels.api import OLS"
   ]
  },
  {
   "cell_type": "code",
   "execution_count": 2,
   "metadata": {
    "execution": {
     "iopub.execute_input": "2022-08-18T15:42:33.419270Z",
     "iopub.status.busy": "2022-08-18T15:42:33.418816Z",
     "iopub.status.idle": "2022-08-18T15:42:33.472469Z",
     "shell.execute_reply": "2022-08-18T15:42:33.471404Z"
    }
   },
   "outputs": [
    {
     "data": {
      "text/html": [
       "<div>\n",
       "<style scoped>\n",
       "    .dataframe tbody tr th:only-of-type {\n",
       "        vertical-align: middle;\n",
       "    }\n",
       "\n",
       "    .dataframe tbody tr th {\n",
       "        vertical-align: top;\n",
       "    }\n",
       "\n",
       "    .dataframe thead th {\n",
       "        text-align: right;\n",
       "    }\n",
       "</style>\n",
       "<table border=\"1\" class=\"dataframe\">\n",
       "  <thead>\n",
       "    <tr style=\"text-align: right;\">\n",
       "      <th></th>\n",
       "      <th>W0</th>\n",
       "      <th>v0</th>\n",
       "      <th>y</th>\n",
       "    </tr>\n",
       "  </thead>\n",
       "  <tbody>\n",
       "    <tr>\n",
       "      <th>0</th>\n",
       "      <td>0.663272</td>\n",
       "      <td>False</td>\n",
       "      <td>1.300946</td>\n",
       "    </tr>\n",
       "    <tr>\n",
       "      <th>1</th>\n",
       "      <td>-0.971923</td>\n",
       "      <td>True</td>\n",
       "      <td>1.930220</td>\n",
       "    </tr>\n",
       "    <tr>\n",
       "      <th>2</th>\n",
       "      <td>-2.058550</td>\n",
       "      <td>False</td>\n",
       "      <td>-5.887663</td>\n",
       "    </tr>\n",
       "    <tr>\n",
       "      <th>3</th>\n",
       "      <td>-1.975342</td>\n",
       "      <td>False</td>\n",
       "      <td>-5.227590</td>\n",
       "    </tr>\n",
       "    <tr>\n",
       "      <th>4</th>\n",
       "      <td>0.002485</td>\n",
       "      <td>True</td>\n",
       "      <td>3.523150</td>\n",
       "    </tr>\n",
       "    <tr>\n",
       "      <th>...</th>\n",
       "      <td>...</td>\n",
       "      <td>...</td>\n",
       "      <td>...</td>\n",
       "    </tr>\n",
       "    <tr>\n",
       "      <th>995</th>\n",
       "      <td>-2.072616</td>\n",
       "      <td>False</td>\n",
       "      <td>-4.130594</td>\n",
       "    </tr>\n",
       "    <tr>\n",
       "      <th>996</th>\n",
       "      <td>-1.150093</td>\n",
       "      <td>False</td>\n",
       "      <td>-3.387742</td>\n",
       "    </tr>\n",
       "    <tr>\n",
       "      <th>997</th>\n",
       "      <td>-1.953267</td>\n",
       "      <td>True</td>\n",
       "      <td>-1.515564</td>\n",
       "    </tr>\n",
       "    <tr>\n",
       "      <th>998</th>\n",
       "      <td>0.656589</td>\n",
       "      <td>True</td>\n",
       "      <td>8.188685</td>\n",
       "    </tr>\n",
       "    <tr>\n",
       "      <th>999</th>\n",
       "      <td>-2.119524</td>\n",
       "      <td>False</td>\n",
       "      <td>-3.717844</td>\n",
       "    </tr>\n",
       "  </tbody>\n",
       "</table>\n",
       "<p>1000 rows × 3 columns</p>\n",
       "</div>"
      ],
      "text/plain": [
       "           W0     v0         y\n",
       "0    0.663272  False  1.300946\n",
       "1   -0.971923   True  1.930220\n",
       "2   -2.058550  False -5.887663\n",
       "3   -1.975342  False -5.227590\n",
       "4    0.002485   True  3.523150\n",
       "..        ...    ...       ...\n",
       "995 -2.072616  False -4.130594\n",
       "996 -1.150093  False -3.387742\n",
       "997 -1.953267   True -1.515564\n",
       "998  0.656589   True  8.188685\n",
       "999 -2.119524  False -3.717844\n",
       "\n",
       "[1000 rows x 3 columns]"
      ]
     },
     "execution_count": 2,
     "metadata": {},
     "output_type": "execute_result"
    }
   ],
   "source": [
    "data = dowhy.datasets.linear_dataset(beta=5,\n",
    "        num_common_causes=1,\n",
    "        num_instruments = 0,\n",
    "        num_samples=1000,\n",
    "        treatment_is_binary=True)\n",
    "df = data['df']\n",
    "df['y'] = df['y'] + np.random.normal(size=len(df)) # Adding noise to data. Without noise, the variance in Y|X, Z is zero, and mcmc fails.\n",
    "#data['dot_graph'] = 'digraph { v ->y;X0-> v;X0-> y;}'\n",
    "\n",
    "treatment= data[\"treatment_name\"][0]\n",
    "outcome = data[\"outcome_name\"][0]\n",
    "common_cause = data[\"common_causes_names\"][0]\n",
    "df"
   ]
  },
  {
   "cell_type": "code",
   "execution_count": 3,
   "metadata": {
    "execution": {
     "iopub.execute_input": "2022-08-18T15:42:33.477090Z",
     "iopub.status.busy": "2022-08-18T15:42:33.476608Z",
     "iopub.status.idle": "2022-08-18T15:42:34.393925Z",
     "shell.execute_reply": "2022-08-18T15:42:34.393231Z"
    }
   },
   "outputs": [
    {
     "data": {
      "text/plain": [
       "<AxesSubplot:xlabel='v0'>"
      ]
     },
     "execution_count": 3,
     "metadata": {},
     "output_type": "execute_result"
    },
    {
     "data": {
      "image/png": "[encoded data removed]",
      "text/plain": [
       "<Figure size 432x288 with 1 Axes>"
      ]
     },
     "metadata": {
      "needs_background": "light"
     },
     "output_type": "display_data"
    }
   ],
   "source": [
    "# data['df'] is just a regular pandas.DataFrame\n",
    "df.causal.do(x=treatment,\n",
    "                     variable_types={treatment: 'b', outcome: 'c', common_cause: 'c'},\n",
    "                     outcome=outcome,\n",
    "                     common_causes=[common_cause],\n",
    "                     proceed_when_unidentifiable=True).groupby(treatment).mean().plot(y=outcome, kind='bar')"
   ]
  },
  {
   "cell_type": "code",
   "execution_count": 4,
   "metadata": {
    "execution": {
     "iopub.execute_input": "2022-08-18T15:42:34.399467Z",
     "iopub.status.busy": "2022-08-18T15:42:34.398749Z",
     "iopub.status.idle": "2022-08-18T15:42:34.518696Z",
     "shell.execute_reply": "2022-08-18T15:42:34.517985Z"
    }
   },
   "outputs": [
    {
     "data": {
      "text/plain": [
       "<AxesSubplot:xlabel='v0'>"
      ]
     },
     "execution_count": 4,
     "metadata": {},
     "output_type": "execute_result"
    },
    {
     "data": {
      "image/png": "[encoded data removed]",
      "text/plain": [
       "<Figure size 432x288 with 1 Axes>"
      ]
     },
     "metadata": {
      "needs_background": "light"
     },
     "output_type": "display_data"
    }
   ],
   "source": [
    "df.causal.do(x={treatment: 1}, \n",
    "              variable_types={treatment:'b', outcome: 'c', common_cause: 'c'}, \n",
    "              outcome=outcome,\n",
    "              method='weighting', \n",
    "              common_causes=[common_cause],\n",
    "              proceed_when_unidentifiable=True).groupby(treatment).mean().plot(y=outcome, kind='bar')"
   ]
  },
  {
   "cell_type": "code",
   "execution_count": 5,
   "metadata": {
    "execution": {
     "iopub.execute_input": "2022-08-18T15:42:34.522581Z",
     "iopub.status.busy": "2022-08-18T15:42:34.522023Z",
     "iopub.status.idle": "2022-08-18T15:42:34.558802Z",
     "shell.execute_reply": "2022-08-18T15:42:34.558028Z"
    }
   },
   "outputs": [],
   "source": [
    "cdf_1 = df.causal.do(x={treatment: 1}, \n",
    "              variable_types={treatment: 'b', outcome: 'c', common_cause: 'c'}, \n",
    "              outcome=outcome, \n",
    "              dot_graph=data['dot_graph'],\n",
    "              proceed_when_unidentifiable=True)\n",
    "\n",
    "cdf_0 = df.causal.do(x={treatment: 0}, \n",
    "              variable_types={treatment: 'b', outcome: 'c', common_cause: 'c'}, \n",
    "              outcome=outcome, \n",
    "              dot_graph=data['dot_graph'],\n",
    "              proceed_when_unidentifiable=True)\n"
   ]
  },
  {
   "cell_type": "code",
   "execution_count": 6,
   "metadata": {
    "execution": {
     "iopub.execute_input": "2022-08-18T15:42:34.563699Z",
     "iopub.status.busy": "2022-08-18T15:42:34.563395Z",
     "iopub.status.idle": "2022-08-18T15:42:34.576063Z",
     "shell.execute_reply": "2022-08-18T15:42:34.575437Z"
    },
    "scrolled": true
   },
   "outputs": [
    {
     "data": {
      "text/html": [
       "<div>\n",
       "<style scoped>\n",
       "    .dataframe tbody tr th:only-of-type {\n",
       "        vertical-align: middle;\n",
       "    }\n",
       "\n",
       "    .dataframe tbody tr th {\n",
       "        vertical-align: top;\n",
       "    }\n",
       "\n",
       "    .dataframe thead th {\n",
       "        text-align: right;\n",
       "    }\n",
       "</style>\n",
       "<table border=\"1\" class=\"dataframe\">\n",
       "  <thead>\n",
       "    <tr style=\"text-align: right;\">\n",
       "      <th></th>\n",
       "      <th>W0</th>\n",
       "      <th>v0</th>\n",
       "      <th>y</th>\n",
       "      <th>propensity_score</th>\n",
       "      <th>weight</th>\n",
       "    </tr>\n",
       "  </thead>\n",
       "  <tbody>\n",
       "    <tr>\n",
       "      <th>0</th>\n",
       "      <td>0.148133</td>\n",
       "      <td>False</td>\n",
       "      <td>-0.142022</td>\n",
       "      <td>0.505068</td>\n",
       "      <td>1.979931</td>\n",
       "    </tr>\n",
       "    <tr>\n",
       "      <th>1</th>\n",
       "      <td>0.044572</td>\n",
       "      <td>False</td>\n",
       "      <td>1.017675</td>\n",
       "      <td>0.512014</td>\n",
       "      <td>1.953073</td>\n",
       "    </tr>\n",
       "    <tr>\n",
       "      <th>2</th>\n",
       "      <td>-0.057087</td>\n",
       "      <td>False</td>\n",
       "      <td>-0.379753</td>\n",
       "      <td>0.518827</td>\n",
       "      <td>1.927425</td>\n",
       "    </tr>\n",
       "    <tr>\n",
       "      <th>3</th>\n",
       "      <td>-1.238349</td>\n",
       "      <td>False</td>\n",
       "      <td>-1.586322</td>\n",
       "      <td>0.596845</td>\n",
       "      <td>1.675477</td>\n",
       "    </tr>\n",
       "    <tr>\n",
       "      <th>4</th>\n",
       "      <td>1.568434</td>\n",
       "      <td>False</td>\n",
       "      <td>3.275001</td>\n",
       "      <td>0.410750</td>\n",
       "      <td>2.434571</td>\n",
       "    </tr>\n",
       "    <tr>\n",
       "      <th>...</th>\n",
       "      <td>...</td>\n",
       "      <td>...</td>\n",
       "      <td>...</td>\n",
       "      <td>...</td>\n",
       "      <td>...</td>\n",
       "    </tr>\n",
       "    <tr>\n",
       "      <th>995</th>\n",
       "      <td>-1.167399</td>\n",
       "      <td>False</td>\n",
       "      <td>-4.252861</td>\n",
       "      <td>0.592255</td>\n",
       "      <td>1.688461</td>\n",
       "    </tr>\n",
       "    <tr>\n",
       "      <th>996</th>\n",
       "      <td>-0.272404</td>\n",
       "      <td>False</td>\n",
       "      <td>-0.594548</td>\n",
       "      <td>0.533232</td>\n",
       "      <td>1.875356</td>\n",
       "    </tr>\n",
       "    <tr>\n",
       "      <th>997</th>\n",
       "      <td>-1.110752</td>\n",
       "      <td>False</td>\n",
       "      <td>-2.751552</td>\n",
       "      <td>0.588579</td>\n",
       "      <td>1.699006</td>\n",
       "    </tr>\n",
       "    <tr>\n",
       "      <th>998</th>\n",
       "      <td>-1.566714</td>\n",
       "      <td>False</td>\n",
       "      <td>-3.350136</td>\n",
       "      <td>0.617855</td>\n",
       "      <td>1.618503</td>\n",
       "    </tr>\n",
       "    <tr>\n",
       "      <th>999</th>\n",
       "      <td>0.015991</td>\n",
       "      <td>False</td>\n",
       "      <td>0.530283</td>\n",
       "      <td>0.513930</td>\n",
       "      <td>1.945791</td>\n",
       "    </tr>\n",
       "  </tbody>\n",
       "</table>\n",
       "<p>1000 rows × 5 columns</p>\n",
       "</div>"
      ],
      "text/plain": [
       "           W0     v0         y  propensity_score    weight\n",
       "0    0.148133  False -0.142022          0.505068  1.979931\n",
       "1    0.044572  False  1.017675          0.512014  1.953073\n",
       "2   -0.057087  False -0.379753          0.518827  1.927425\n",
       "3   -1.238349  False -1.586322          0.596845  1.675477\n",
       "4    1.568434  False  3.275001          0.410750  2.434571\n",
       "..        ...    ...       ...               ...       ...\n",
       "995 -1.167399  False -4.252861          0.592255  1.688461\n",
       "996 -0.272404  False -0.594548          0.533232  1.875356\n",
       "997 -1.110752  False -2.751552          0.588579  1.699006\n",
       "998 -1.566714  False -3.350136          0.617855  1.618503\n",
       "999  0.015991  False  0.530283          0.513930  1.945791\n",
       "\n",
       "[1000 rows x 5 columns]"
      ]
     },
     "execution_count": 6,
     "metadata": {},
     "output_type": "execute_result"
    }
   ],
   "source": [
    "cdf_0"
   ]
  },
  {
   "cell_type": "code",
   "execution_count": 7,
   "metadata": {
    "execution": {
     "iopub.execute_input": "2022-08-18T15:42:34.581587Z",
     "iopub.status.busy": "2022-08-18T15:42:34.581287Z",
     "iopub.status.idle": "2022-08-18T15:42:34.596338Z",
     "shell.execute_reply": "2022-08-18T15:42:34.595587Z"
    }
   },
   "outputs": [
    {
     "data": {
      "text/html": [
       "<div>\n",
       "<style scoped>\n",
       "    .dataframe tbody tr th:only-of-type {\n",
       "        vertical-align: middle;\n",
       "    }\n",
       "\n",
       "    .dataframe tbody tr th {\n",
       "        vertical-align: top;\n",
       "    }\n",
       "\n",
       "    .dataframe thead th {\n",
       "        text-align: right;\n",
       "    }\n",
       "</style>\n",
       "<table border=\"1\" class=\"dataframe\">\n",
       "  <thead>\n",
       "    <tr style=\"text-align: right;\">\n",
       "      <th></th>\n",
       "      <th>W0</th>\n",
       "      <th>v0</th>\n",
       "      <th>y</th>\n",
       "      <th>propensity_score</th>\n",
       "      <th>weight</th>\n",
       "    </tr>\n",
       "  </thead>\n",
       "  <tbody>\n",
       "    <tr>\n",
       "      <th>0</th>\n",
       "      <td>-2.116181</td>\n",
       "      <td>True</td>\n",
       "      <td>-0.342258</td>\n",
       "      <td>0.347986</td>\n",
       "      <td>2.873677</td>\n",
       "    </tr>\n",
       "    <tr>\n",
       "      <th>1</th>\n",
       "      <td>0.399631</td>\n",
       "      <td>True</td>\n",
       "      <td>7.681840</td>\n",
       "      <td>0.511802</td>\n",
       "      <td>1.953881</td>\n",
       "    </tr>\n",
       "    <tr>\n",
       "      <th>2</th>\n",
       "      <td>-1.473042</td>\n",
       "      <td>True</td>\n",
       "      <td>1.249242</td>\n",
       "      <td>0.388097</td>\n",
       "      <td>2.576672</td>\n",
       "    </tr>\n",
       "    <tr>\n",
       "      <th>3</th>\n",
       "      <td>-0.849625</td>\n",
       "      <td>True</td>\n",
       "      <td>3.319554</td>\n",
       "      <td>0.428488</td>\n",
       "      <td>2.333786</td>\n",
       "    </tr>\n",
       "    <tr>\n",
       "      <th>4</th>\n",
       "      <td>0.551159</td>\n",
       "      <td>True</td>\n",
       "      <td>4.599578</td>\n",
       "      <td>0.521956</td>\n",
       "      <td>1.915871</td>\n",
       "    </tr>\n",
       "    <tr>\n",
       "      <th>...</th>\n",
       "      <td>...</td>\n",
       "      <td>...</td>\n",
       "      <td>...</td>\n",
       "      <td>...</td>\n",
       "      <td>...</td>\n",
       "    </tr>\n",
       "    <tr>\n",
       "      <th>995</th>\n",
       "      <td>-1.658473</td>\n",
       "      <td>True</td>\n",
       "      <td>-0.262118</td>\n",
       "      <td>0.376348</td>\n",
       "      <td>2.657113</td>\n",
       "    </tr>\n",
       "    <tr>\n",
       "      <th>996</th>\n",
       "      <td>-0.810453</td>\n",
       "      <td>True</td>\n",
       "      <td>3.243911</td>\n",
       "      <td>0.431064</td>\n",
       "      <td>2.319839</td>\n",
       "    </tr>\n",
       "    <tr>\n",
       "      <th>997</th>\n",
       "      <td>-0.092907</td>\n",
       "      <td>True</td>\n",
       "      <td>3.178890</td>\n",
       "      <td>0.478774</td>\n",
       "      <td>2.088669</td>\n",
       "    </tr>\n",
       "    <tr>\n",
       "      <th>998</th>\n",
       "      <td>-1.243633</td>\n",
       "      <td>True</td>\n",
       "      <td>1.056300</td>\n",
       "      <td>0.402814</td>\n",
       "      <td>2.482536</td>\n",
       "    </tr>\n",
       "    <tr>\n",
       "      <th>999</th>\n",
       "      <td>-1.259189</td>\n",
       "      <td>True</td>\n",
       "      <td>2.491385</td>\n",
       "      <td>0.401810</td>\n",
       "      <td>2.488738</td>\n",
       "    </tr>\n",
       "  </tbody>\n",
       "</table>\n",
       "<p>1000 rows × 5 columns</p>\n",
       "</div>"
      ],
      "text/plain": [
       "           W0    v0         y  propensity_score    weight\n",
       "0   -2.116181  True -0.342258          0.347986  2.873677\n",
       "1    0.399631  True  7.681840          0.511802  1.953881\n",
       "2   -1.473042  True  1.249242          0.388097  2.576672\n",
       "3   -0.849625  True  3.319554          0.428488  2.333786\n",
       "4    0.551159  True  4.599578          0.521956  1.915871\n",
       "..        ...   ...       ...               ...       ...\n",
       "995 -1.658473  True -0.262118          0.376348  2.657113\n",
       "996 -0.810453  True  3.243911          0.431064  2.319839\n",
       "997 -0.092907  True  3.178890          0.478774  2.088669\n",
       "998 -1.243633  True  1.056300          0.402814  2.482536\n",
       "999 -1.259189  True  2.491385          0.401810  2.488738\n",
       "\n",
       "[1000 rows x 5 columns]"
      ]
     },
     "execution_count": 7,
     "metadata": {},
     "output_type": "execute_result"
    }
   ],
   "source": [
    "cdf_1"
   ]
  },
  {
   "cell_type": "markdown",
   "metadata": {},
   "source": [
    "## Comparing the estimate to Linear Regression\n",
    "First, estimating the effect using the causal data frame, and the 95% confidence interval."
   ]
  },
  {
   "cell_type": "code",
   "execution_count": 8,
   "metadata": {
    "execution": {
     "iopub.execute_input": "2022-08-18T15:42:34.600404Z",
     "iopub.status.busy": "2022-08-18T15:42:34.599711Z",
     "iopub.status.idle": "2022-08-18T15:42:34.720717Z",
     "shell.execute_reply": "2022-08-18T15:42:34.719725Z"
    }
   },
   "outputs": [
    {
     "data": {
      "image/png": "[encoded data removed]",
      "text/latex": [
       "$\\displaystyle 5.11409195617942$"
      ],
      "text/plain": [
       "5.114091956179425"
      ]
     },
     "execution_count": 8,
     "metadata": {},
     "output_type": "execute_result"
    }
   ],
   "source": [
    "(cdf_1['y'] - cdf_0['y']).mean()"
   ]
  },
  {
   "cell_type": "code",
   "execution_count": 9,
   "metadata": {
    "execution": {
     "iopub.execute_input": "2022-08-18T15:42:34.726689Z",
     "iopub.status.busy": "2022-08-18T15:42:34.725920Z",
     "iopub.status.idle": "2022-08-18T15:42:34.757226Z",
     "shell.execute_reply": "2022-08-18T15:42:34.756329Z"
    }
   },
   "outputs": [
    {
     "data": {
      "image/png": "[encoded data removed]",
      "text/latex": [
       "$\\displaystyle 0.233957128636378$"
      ],
      "text/plain": [
       "0.23395712863637824"
      ]
     },
     "execution_count": 9,
     "metadata": {},
     "output_type": "execute_result"
    }
   ],
   "source": [
    "1.96*(cdf_1['y'] - cdf_0['y']).std() / np.sqrt(len(df))"
   ]
  },
  {
   "cell_type": "markdown",
   "metadata": {},
   "source": [
    "Comparing to the estimate from OLS."
   ]
  },
  {
   "cell_type": "code",
   "execution_count": 10,
   "metadata": {
    "execution": {
     "iopub.execute_input": "2022-08-18T15:42:34.761481Z",
     "iopub.status.busy": "2022-08-18T15:42:34.760951Z",
     "iopub.status.idle": "2022-08-18T15:42:34.781111Z",
     "shell.execute_reply": "2022-08-18T15:42:34.780303Z"
    }
   },
   "outputs": [
    {
     "data": {
      "text/html": [
       "<table class=\"simpletable\">\n",
       "<caption>OLS Regression Results</caption>\n",
       "<tr>\n",
       "  <th>Dep. Variable:</th>            <td>y</td>        <th>  R-squared (uncentered):</th>      <td>   0.932</td>\n",
       "</tr>\n",
       "<tr>\n",
       "  <th>Model:</th>                   <td>OLS</td>       <th>  Adj. R-squared (uncentered):</th> <td>   0.931</td>\n",
       "</tr>\n",
       "<tr>\n",
       "  <th>Method:</th>             <td>Least Squares</td>  <th>  F-statistic:       </th>          <td>   6786.</td>\n",
       "</tr>\n",
       "<tr>\n",
       "  <th>Date:</th>             <td>Thu, 18 Aug 2022</td> <th>  Prob (F-statistic):</th>           <td>  0.00</td> \n",
       "</tr>\n",
       "<tr>\n",
       "  <th>Time:</th>                 <td>15:42:34</td>     <th>  Log-Likelihood:    </th>          <td> -1426.2</td>\n",
       "</tr>\n",
       "<tr>\n",
       "  <th>No. Observations:</th>      <td>  1000</td>      <th>  AIC:               </th>          <td>   2856.</td>\n",
       "</tr>\n",
       "<tr>\n",
       "  <th>Df Residuals:</th>          <td>   998</td>      <th>  BIC:               </th>          <td>   2866.</td>\n",
       "</tr>\n",
       "<tr>\n",
       "  <th>Df Model:</th>              <td>     2</td>      <th>                     </th>              <td> </td>   \n",
       "</tr>\n",
       "<tr>\n",
       "  <th>Covariance Type:</th>      <td>nonrobust</td>    <th>                     </th>              <td> </td>   \n",
       "</tr>\n",
       "</table>\n",
       "<table class=\"simpletable\">\n",
       "<tr>\n",
       "   <td></td>     <th>coef</th>     <th>std err</th>      <th>t</th>      <th>P>|t|</th>  <th>[0.025</th>    <th>0.975]</th>  \n",
       "</tr>\n",
       "<tr>\n",
       "  <th>x1</th> <td>    2.5216</td> <td>    0.025</td> <td>   99.409</td> <td> 0.000</td> <td>    2.472</td> <td>    2.571</td>\n",
       "</tr>\n",
       "<tr>\n",
       "  <th>x2</th> <td>    5.0134</td> <td>    0.053</td> <td>   94.363</td> <td> 0.000</td> <td>    4.909</td> <td>    5.118</td>\n",
       "</tr>\n",
       "</table>\n",
       "<table class=\"simpletable\">\n",
       "<tr>\n",
       "  <th>Omnibus:</th>       <td> 3.459</td> <th>  Durbin-Watson:     </th> <td>   2.068</td>\n",
       "</tr>\n",
       "<tr>\n",
       "  <th>Prob(Omnibus):</th> <td> 0.177</td> <th>  Jarque-Bera (JB):  </th> <td>   3.037</td>\n",
       "</tr>\n",
       "<tr>\n",
       "  <th>Skew:</th>          <td>-0.056</td> <th>  Prob(JB):          </th> <td>   0.219</td>\n",
       "</tr>\n",
       "<tr>\n",
       "  <th>Kurtosis:</th>      <td> 2.754</td> <th>  Cond. No.          </th> <td>    2.36</td>\n",
       "</tr>\n",
       "</table><br/><br/>Notes:<br/>[1] R² is computed without centering (uncentered) since the model does not contain a constant.<br/>[2] Standard Errors assume that the covariance matrix of the errors is correctly specified."
      ],
      "text/plain": [
       "<class 'statsmodels.iolib.summary.Summary'>\n",
       "\"\"\"\n",
       "                                 OLS Regression Results                                \n",
       "=======================================================================================\n",
       "Dep. Variable:                      y   R-squared (uncentered):                   0.932\n",
       "Model:                            OLS   Adj. R-squared (uncentered):              0.931\n",
       "Method:                 Least Squares   F-statistic:                              6786.\n",
       "Date:                Thu, 18 Aug 2022   Prob (F-statistic):                        0.00\n",
       "Time:                        15:42:34   Log-Likelihood:                         -1426.2\n",
       "No. Observations:                1000   AIC:                                      2856.\n",
       "Df Residuals:                     998   BIC:                                      2866.\n",
       "Df Model:                           2                                                  \n",
       "Covariance Type:            nonrobust                                                  \n",
       "==============================================================================\n",
       "                 coef    std err          t      P>|t|      [0.025      0.975]\n",
       "------------------------------------------------------------------------------\n",
       "x1             2.5216      0.025     99.409      0.000       2.472       2.571\n",
       "x2             5.0134      0.053     94.363      0.000       4.909       5.118\n",
       "==============================================================================\n",
       "Omnibus:                        3.459   Durbin-Watson:                   2.068\n",
       "Prob(Omnibus):                  0.177   Jarque-Bera (JB):                3.037\n",
       "Skew:                          -0.056   Prob(JB):                        0.219\n",
       "Kurtosis:                       2.754   Cond. No.                         2.36\n",
       "==============================================================================\n",
       "\n",
       "Notes:\n",
       "[1] R² is computed without centering (uncentered) since the model does not contain a constant.\n",
       "[2] Standard Errors assume that the covariance matrix of the errors is correctly specified.\n",
       "\"\"\""
      ]
     },
     "execution_count": 10,
     "metadata": {},
     "output_type": "execute_result"
    }
   ],
   "source": [
    "model = OLS(np.asarray(df[outcome]), np.asarray(df[[common_cause, treatment]], dtype=np.float64))\n",
    "result = model.fit()\n",
    "result.summary()"
   ]
  }
 ],
 "metadata": {
  "kernelspec": {
   "display_name": "Python 3",
   "language": "python",
   "name": "python3"
  },
  "language_info": {
   "codemirror_mode": {
    "name": "ipython",
    "version": 3
   },
   "file_extension": ".py",
   "mimetype": "text/x-python",
   "name": "python",
   "nbconvert_exporter": "python",
   "pygments_lexer": "ipython3",
   "version": "3.8.10"
  },
  "toc": {
   "base_numbering": 1,
   "nav_menu": {},
   "number_sections": false,
   "sideBar": true,
   "skip_h1_title": true,
   "title_cell": "Table of Contents",
   "title_sidebar": "Contents",
   "toc_cell": false,
   "toc_position": {},
   "toc_section_display": true,
   "toc_window_display": false
  }
 },
 "nbformat": 4,
 "nbformat_minor": 4
}
