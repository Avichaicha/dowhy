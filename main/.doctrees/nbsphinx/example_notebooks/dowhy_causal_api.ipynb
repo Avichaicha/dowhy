{
 "cells": [
  {
   "cell_type": "markdown",
   "metadata": {},
   "source": [
    "# Demo for the DoWhy causal API\n",
    "We show a simple example of adding a causal extension to any dataframe. "
   ]
  },
  {
   "cell_type": "code",
   "execution_count": 1,
   "metadata": {
    "execution": {
     "iopub.execute_input": "2022-12-07T19:27:28.811394Z",
     "iopub.status.busy": "2022-12-07T19:27:28.810948Z",
     "iopub.status.idle": "2022-12-07T19:27:30.841378Z",
     "shell.execute_reply": "2022-12-07T19:27:30.840660Z"
    }
   },
   "outputs": [],
   "source": [
    "import dowhy.datasets\n",
    "import dowhy.api\n",
    "\n",
    "import numpy as np\n",
    "import pandas as pd\n",
    "\n",
    "from statsmodels.api import OLS"
   ]
  },
  {
   "cell_type": "code",
   "execution_count": 2,
   "metadata": {
    "execution": {
     "iopub.execute_input": "2022-12-07T19:27:30.845950Z",
     "iopub.status.busy": "2022-12-07T19:27:30.845278Z",
     "iopub.status.idle": "2022-12-07T19:27:30.886841Z",
     "shell.execute_reply": "2022-12-07T19:27:30.886134Z"
    }
   },
   "outputs": [
    {
     "data": {
      "text/html": [
       "<div>\n",
       "<style scoped>\n",
       "    .dataframe tbody tr th:only-of-type {\n",
       "        vertical-align: middle;\n",
       "    }\n",
       "\n",
       "    .dataframe tbody tr th {\n",
       "        vertical-align: top;\n",
       "    }\n",
       "\n",
       "    .dataframe thead th {\n",
       "        text-align: right;\n",
       "    }\n",
       "</style>\n",
       "<table border=\"1\" class=\"dataframe\">\n",
       "  <thead>\n",
       "    <tr style=\"text-align: right;\">\n",
       "      <th></th>\n",
       "      <th>W0</th>\n",
       "      <th>v0</th>\n",
       "      <th>y</th>\n",
       "    </tr>\n",
       "  </thead>\n",
       "  <tbody>\n",
       "    <tr>\n",
       "      <th>0</th>\n",
       "      <td>-0.727420</td>\n",
       "      <td>True</td>\n",
       "      <td>4.436339</td>\n",
       "    </tr>\n",
       "    <tr>\n",
       "      <th>1</th>\n",
       "      <td>2.734727</td>\n",
       "      <td>True</td>\n",
       "      <td>12.126358</td>\n",
       "    </tr>\n",
       "    <tr>\n",
       "      <th>2</th>\n",
       "      <td>0.545277</td>\n",
       "      <td>True</td>\n",
       "      <td>4.064681</td>\n",
       "    </tr>\n",
       "    <tr>\n",
       "      <th>3</th>\n",
       "      <td>-0.189455</td>\n",
       "      <td>True</td>\n",
       "      <td>6.461159</td>\n",
       "    </tr>\n",
       "    <tr>\n",
       "      <th>4</th>\n",
       "      <td>0.950907</td>\n",
       "      <td>True</td>\n",
       "      <td>7.184694</td>\n",
       "    </tr>\n",
       "    <tr>\n",
       "      <th>...</th>\n",
       "      <td>...</td>\n",
       "      <td>...</td>\n",
       "      <td>...</td>\n",
       "    </tr>\n",
       "    <tr>\n",
       "      <th>995</th>\n",
       "      <td>-0.165533</td>\n",
       "      <td>True</td>\n",
       "      <td>5.859161</td>\n",
       "    </tr>\n",
       "    <tr>\n",
       "      <th>996</th>\n",
       "      <td>3.388491</td>\n",
       "      <td>True</td>\n",
       "      <td>11.644466</td>\n",
       "    </tr>\n",
       "    <tr>\n",
       "      <th>997</th>\n",
       "      <td>1.295054</td>\n",
       "      <td>True</td>\n",
       "      <td>7.350901</td>\n",
       "    </tr>\n",
       "    <tr>\n",
       "      <th>998</th>\n",
       "      <td>0.854074</td>\n",
       "      <td>False</td>\n",
       "      <td>1.827955</td>\n",
       "    </tr>\n",
       "    <tr>\n",
       "      <th>999</th>\n",
       "      <td>1.572762</td>\n",
       "      <td>True</td>\n",
       "      <td>7.304026</td>\n",
       "    </tr>\n",
       "  </tbody>\n",
       "</table>\n",
       "<p>1000 rows × 3 columns</p>\n",
       "</div>"
      ],
      "text/plain": [
       "           W0     v0          y\n",
       "0   -0.727420   True   4.436339\n",
       "1    2.734727   True  12.126358\n",
       "2    0.545277   True   4.064681\n",
       "3   -0.189455   True   6.461159\n",
       "4    0.950907   True   7.184694\n",
       "..        ...    ...        ...\n",
       "995 -0.165533   True   5.859161\n",
       "996  3.388491   True  11.644466\n",
       "997  1.295054   True   7.350901\n",
       "998  0.854074  False   1.827955\n",
       "999  1.572762   True   7.304026\n",
       "\n",
       "[1000 rows x 3 columns]"
      ]
     },
     "execution_count": 2,
     "metadata": {},
     "output_type": "execute_result"
    }
   ],
   "source": [
    "data = dowhy.datasets.linear_dataset(beta=5,\n",
    "        num_common_causes=1,\n",
    "        num_instruments = 0,\n",
    "        num_samples=1000,\n",
    "        treatment_is_binary=True)\n",
    "df = data['df']\n",
    "df['y'] = df['y'] + np.random.normal(size=len(df)) # Adding noise to data. Without noise, the variance in Y|X, Z is zero, and mcmc fails.\n",
    "#data['dot_graph'] = 'digraph { v ->y;X0-> v;X0-> y;}'\n",
    "\n",
    "treatment= data[\"treatment_name\"][0]\n",
    "outcome = data[\"outcome_name\"][0]\n",
    "common_cause = data[\"common_causes_names\"][0]\n",
    "df"
   ]
  },
  {
   "cell_type": "code",
   "execution_count": 3,
   "metadata": {
    "execution": {
     "iopub.execute_input": "2022-12-07T19:27:30.890590Z",
     "iopub.status.busy": "2022-12-07T19:27:30.890155Z",
     "iopub.status.idle": "2022-12-07T19:27:31.050039Z",
     "shell.execute_reply": "2022-12-07T19:27:31.049467Z"
    }
   },
   "outputs": [
    {
     "data": {
      "text/plain": [
       "<AxesSubplot: xlabel='v0'>"
      ]
     },
     "execution_count": 3,
     "metadata": {},
     "output_type": "execute_result"
    },
    {
     "data": {
      "image/png": "[encoded data removed]",
      "text/plain": [
       "<Figure size 640x480 with 1 Axes>"
      ]
     },
     "metadata": {},
     "output_type": "display_data"
    }
   ],
   "source": [
    "# data['df'] is just a regular pandas.DataFrame\n",
    "df.causal.do(x=treatment,\n",
    "                     variable_types={treatment: 'b', outcome: 'c', common_cause: 'c'},\n",
    "                     outcome=outcome,\n",
    "                     common_causes=[common_cause],\n",
    "                     proceed_when_unidentifiable=True).groupby(treatment).mean().plot(y=outcome, kind='bar')"
   ]
  },
  {
   "cell_type": "code",
   "execution_count": 4,
   "metadata": {
    "execution": {
     "iopub.execute_input": "2022-12-07T19:27:31.053128Z",
     "iopub.status.busy": "2022-12-07T19:27:31.052646Z",
     "iopub.status.idle": "2022-12-07T19:27:31.178876Z",
     "shell.execute_reply": "2022-12-07T19:27:31.178304Z"
    }
   },
   "outputs": [
    {
     "data": {
      "text/plain": [
       "<AxesSubplot: xlabel='v0'>"
      ]
     },
     "execution_count": 4,
     "metadata": {},
     "output_type": "execute_result"
    },
    {
     "data": {
      "image/png": "[encoded data removed]",
      "text/plain": [
       "<Figure size 640x480 with 1 Axes>"
      ]
     },
     "metadata": {},
     "output_type": "display_data"
    }
   ],
   "source": [
    "df.causal.do(x={treatment: 1}, \n",
    "              variable_types={treatment:'b', outcome: 'c', common_cause: 'c'}, \n",
    "              outcome=outcome,\n",
    "              method='weighting', \n",
    "              common_causes=[common_cause],\n",
    "              proceed_when_unidentifiable=True).groupby(treatment).mean().plot(y=outcome, kind='bar')"
   ]
  },
  {
   "cell_type": "code",
   "execution_count": 5,
   "metadata": {
    "execution": {
     "iopub.execute_input": "2022-12-07T19:27:31.181758Z",
     "iopub.status.busy": "2022-12-07T19:27:31.181367Z",
     "iopub.status.idle": "2022-12-07T19:27:31.214673Z",
     "shell.execute_reply": "2022-12-07T19:27:31.214115Z"
    }
   },
   "outputs": [],
   "source": [
    "cdf_1 = df.causal.do(x={treatment: 1}, \n",
    "              variable_types={treatment: 'b', outcome: 'c', common_cause: 'c'}, \n",
    "              outcome=outcome, \n",
    "              dot_graph=data['dot_graph'],\n",
    "              proceed_when_unidentifiable=True)\n",
    "\n",
    "cdf_0 = df.causal.do(x={treatment: 0}, \n",
    "              variable_types={treatment: 'b', outcome: 'c', common_cause: 'c'}, \n",
    "              outcome=outcome, \n",
    "              dot_graph=data['dot_graph'],\n",
    "              proceed_when_unidentifiable=True)\n"
   ]
  },
  {
   "cell_type": "code",
   "execution_count": 6,
   "metadata": {
    "execution": {
     "iopub.execute_input": "2022-12-07T19:27:31.218334Z",
     "iopub.status.busy": "2022-12-07T19:27:31.217708Z",
     "iopub.status.idle": "2022-12-07T19:27:31.227977Z",
     "shell.execute_reply": "2022-12-07T19:27:31.227495Z"
    },
    "scrolled": true
   },
   "outputs": [
    {
     "data": {
      "text/html": [
       "<div>\n",
       "<style scoped>\n",
       "    .dataframe tbody tr th:only-of-type {\n",
       "        vertical-align: middle;\n",
       "    }\n",
       "\n",
       "    .dataframe tbody tr th {\n",
       "        vertical-align: top;\n",
       "    }\n",
       "\n",
       "    .dataframe thead th {\n",
       "        text-align: right;\n",
       "    }\n",
       "</style>\n",
       "<table border=\"1\" class=\"dataframe\">\n",
       "  <thead>\n",
       "    <tr style=\"text-align: right;\">\n",
       "      <th></th>\n",
       "      <th>W0</th>\n",
       "      <th>v0</th>\n",
       "      <th>y</th>\n",
       "      <th>propensity_score</th>\n",
       "      <th>weight</th>\n",
       "    </tr>\n",
       "  </thead>\n",
       "  <tbody>\n",
       "    <tr>\n",
       "      <th>0</th>\n",
       "      <td>-0.506601</td>\n",
       "      <td>False</td>\n",
       "      <td>-1.951679</td>\n",
       "      <td>0.621074</td>\n",
       "      <td>1.610113</td>\n",
       "    </tr>\n",
       "    <tr>\n",
       "      <th>1</th>\n",
       "      <td>0.944632</td>\n",
       "      <td>False</td>\n",
       "      <td>0.842246</td>\n",
       "      <td>0.222769</td>\n",
       "      <td>4.488963</td>\n",
       "    </tr>\n",
       "    <tr>\n",
       "      <th>2</th>\n",
       "      <td>-0.903366</td>\n",
       "      <td>False</td>\n",
       "      <td>-0.408792</td>\n",
       "      <td>0.725287</td>\n",
       "      <td>1.378765</td>\n",
       "    </tr>\n",
       "    <tr>\n",
       "      <th>3</th>\n",
       "      <td>0.494008</td>\n",
       "      <td>False</td>\n",
       "      <td>1.261760</td>\n",
       "      <td>0.330005</td>\n",
       "      <td>3.030256</td>\n",
       "    </tr>\n",
       "    <tr>\n",
       "      <th>4</th>\n",
       "      <td>-0.218463</td>\n",
       "      <td>False</td>\n",
       "      <td>-1.092038</td>\n",
       "      <td>0.536908</td>\n",
       "      <td>1.862516</td>\n",
       "    </tr>\n",
       "    <tr>\n",
       "      <th>...</th>\n",
       "      <td>...</td>\n",
       "      <td>...</td>\n",
       "      <td>...</td>\n",
       "      <td>...</td>\n",
       "      <td>...</td>\n",
       "    </tr>\n",
       "    <tr>\n",
       "      <th>995</th>\n",
       "      <td>3.413053</td>\n",
       "      <td>False</td>\n",
       "      <td>8.490188</td>\n",
       "      <td>0.014550</td>\n",
       "      <td>68.728841</td>\n",
       "    </tr>\n",
       "    <tr>\n",
       "      <th>996</th>\n",
       "      <td>0.407791</td>\n",
       "      <td>False</td>\n",
       "      <td>1.258398</td>\n",
       "      <td>0.353299</td>\n",
       "      <td>2.830462</td>\n",
       "    </tr>\n",
       "    <tr>\n",
       "      <th>997</th>\n",
       "      <td>-0.085650</td>\n",
       "      <td>False</td>\n",
       "      <td>0.931679</td>\n",
       "      <td>0.497080</td>\n",
       "      <td>2.011747</td>\n",
       "    </tr>\n",
       "    <tr>\n",
       "      <th>998</th>\n",
       "      <td>1.137395</td>\n",
       "      <td>False</td>\n",
       "      <td>1.402871</td>\n",
       "      <td>0.185244</td>\n",
       "      <td>5.398295</td>\n",
       "    </tr>\n",
       "    <tr>\n",
       "      <th>999</th>\n",
       "      <td>0.450631</td>\n",
       "      <td>False</td>\n",
       "      <td>0.369240</td>\n",
       "      <td>0.341629</td>\n",
       "      <td>2.927151</td>\n",
       "    </tr>\n",
       "  </tbody>\n",
       "</table>\n",
       "<p>1000 rows × 5 columns</p>\n",
       "</div>"
      ],
      "text/plain": [
       "           W0     v0         y  propensity_score     weight\n",
       "0   -0.506601  False -1.951679          0.621074   1.610113\n",
       "1    0.944632  False  0.842246          0.222769   4.488963\n",
       "2   -0.903366  False -0.408792          0.725287   1.378765\n",
       "3    0.494008  False  1.261760          0.330005   3.030256\n",
       "4   -0.218463  False -1.092038          0.536908   1.862516\n",
       "..        ...    ...       ...               ...        ...\n",
       "995  3.413053  False  8.490188          0.014550  68.728841\n",
       "996  0.407791  False  1.258398          0.353299   2.830462\n",
       "997 -0.085650  False  0.931679          0.497080   2.011747\n",
       "998  1.137395  False  1.402871          0.185244   5.398295\n",
       "999  0.450631  False  0.369240          0.341629   2.927151\n",
       "\n",
       "[1000 rows x 5 columns]"
      ]
     },
     "execution_count": 6,
     "metadata": {},
     "output_type": "execute_result"
    }
   ],
   "source": [
    "cdf_0"
   ]
  },
  {
   "cell_type": "code",
   "execution_count": 7,
   "metadata": {
    "execution": {
     "iopub.execute_input": "2022-12-07T19:27:31.230767Z",
     "iopub.status.busy": "2022-12-07T19:27:31.230341Z",
     "iopub.status.idle": "2022-12-07T19:27:31.239698Z",
     "shell.execute_reply": "2022-12-07T19:27:31.239226Z"
    }
   },
   "outputs": [
    {
     "data": {
      "text/html": [
       "<div>\n",
       "<style scoped>\n",
       "    .dataframe tbody tr th:only-of-type {\n",
       "        vertical-align: middle;\n",
       "    }\n",
       "\n",
       "    .dataframe tbody tr th {\n",
       "        vertical-align: top;\n",
       "    }\n",
       "\n",
       "    .dataframe thead th {\n",
       "        text-align: right;\n",
       "    }\n",
       "</style>\n",
       "<table border=\"1\" class=\"dataframe\">\n",
       "  <thead>\n",
       "    <tr style=\"text-align: right;\">\n",
       "      <th></th>\n",
       "      <th>W0</th>\n",
       "      <th>v0</th>\n",
       "      <th>y</th>\n",
       "      <th>propensity_score</th>\n",
       "      <th>weight</th>\n",
       "    </tr>\n",
       "  </thead>\n",
       "  <tbody>\n",
       "    <tr>\n",
       "      <th>0</th>\n",
       "      <td>1.653216</td>\n",
       "      <td>True</td>\n",
       "      <td>7.223742</td>\n",
       "      <td>0.891000</td>\n",
       "      <td>1.122334</td>\n",
       "    </tr>\n",
       "    <tr>\n",
       "      <th>1</th>\n",
       "      <td>2.473292</td>\n",
       "      <td>True</td>\n",
       "      <td>10.067585</td>\n",
       "      <td>0.956326</td>\n",
       "      <td>1.045668</td>\n",
       "    </tr>\n",
       "    <tr>\n",
       "      <th>2</th>\n",
       "      <td>1.940161</td>\n",
       "      <td>True</td>\n",
       "      <td>7.554565</td>\n",
       "      <td>0.920252</td>\n",
       "      <td>1.086659</td>\n",
       "    </tr>\n",
       "    <tr>\n",
       "      <th>3</th>\n",
       "      <td>3.270203</td>\n",
       "      <td>True</td>\n",
       "      <td>11.846300</td>\n",
       "      <td>0.982773</td>\n",
       "      <td>1.017529</td>\n",
       "    </tr>\n",
       "    <tr>\n",
       "      <th>4</th>\n",
       "      <td>0.250453</td>\n",
       "      <td>True</td>\n",
       "      <td>6.602606</td>\n",
       "      <td>0.602411</td>\n",
       "      <td>1.659997</td>\n",
       "    </tr>\n",
       "    <tr>\n",
       "      <th>...</th>\n",
       "      <td>...</td>\n",
       "      <td>...</td>\n",
       "      <td>...</td>\n",
       "      <td>...</td>\n",
       "      <td>...</td>\n",
       "    </tr>\n",
       "    <tr>\n",
       "      <th>995</th>\n",
       "      <td>0.295529</td>\n",
       "      <td>True</td>\n",
       "      <td>4.045257</td>\n",
       "      <td>0.615308</td>\n",
       "      <td>1.625201</td>\n",
       "    </tr>\n",
       "    <tr>\n",
       "      <th>996</th>\n",
       "      <td>0.535804</td>\n",
       "      <td>True</td>\n",
       "      <td>5.944694</td>\n",
       "      <td>0.681002</td>\n",
       "      <td>1.468424</td>\n",
       "    </tr>\n",
       "    <tr>\n",
       "      <th>997</th>\n",
       "      <td>1.427571</td>\n",
       "      <td>True</td>\n",
       "      <td>8.345234</td>\n",
       "      <td>0.861747</td>\n",
       "      <td>1.160434</td>\n",
       "    </tr>\n",
       "    <tr>\n",
       "      <th>998</th>\n",
       "      <td>0.256970</td>\n",
       "      <td>True</td>\n",
       "      <td>6.866930</td>\n",
       "      <td>0.604285</td>\n",
       "      <td>1.654849</td>\n",
       "    </tr>\n",
       "    <tr>\n",
       "      <th>999</th>\n",
       "      <td>0.579536</td>\n",
       "      <td>True</td>\n",
       "      <td>5.398110</td>\n",
       "      <td>0.692307</td>\n",
       "      <td>1.444446</td>\n",
       "    </tr>\n",
       "  </tbody>\n",
       "</table>\n",
       "<p>1000 rows × 5 columns</p>\n",
       "</div>"
      ],
      "text/plain": [
       "           W0    v0          y  propensity_score    weight\n",
       "0    1.653216  True   7.223742          0.891000  1.122334\n",
       "1    2.473292  True  10.067585          0.956326  1.045668\n",
       "2    1.940161  True   7.554565          0.920252  1.086659\n",
       "3    3.270203  True  11.846300          0.982773  1.017529\n",
       "4    0.250453  True   6.602606          0.602411  1.659997\n",
       "..        ...   ...        ...               ...       ...\n",
       "995  0.295529  True   4.045257          0.615308  1.625201\n",
       "996  0.535804  True   5.944694          0.681002  1.468424\n",
       "997  1.427571  True   8.345234          0.861747  1.160434\n",
       "998  0.256970  True   6.866930          0.604285  1.654849\n",
       "999  0.579536  True   5.398110          0.692307  1.444446\n",
       "\n",
       "[1000 rows x 5 columns]"
      ]
     },
     "execution_count": 7,
     "metadata": {},
     "output_type": "execute_result"
    }
   ],
   "source": [
    "cdf_1"
   ]
  },
  {
   "cell_type": "markdown",
   "metadata": {},
   "source": [
    "## Comparing the estimate to Linear Regression\n",
    "First, estimating the effect using the causal data frame, and the 95% confidence interval."
   ]
  },
  {
   "cell_type": "code",
   "execution_count": 8,
   "metadata": {
    "execution": {
     "iopub.execute_input": "2022-12-07T19:27:31.242430Z",
     "iopub.status.busy": "2022-12-07T19:27:31.241880Z",
     "iopub.status.idle": "2022-12-07T19:27:31.298936Z",
     "shell.execute_reply": "2022-12-07T19:27:31.298248Z"
    }
   },
   "outputs": [
    {
     "data": {
      "image/png": "[encoded data removed]",
      "text/latex": [
       "$\\displaystyle 5.04291464014015$"
      ],
      "text/plain": [
       "5.042914640140155"
      ]
     },
     "execution_count": 8,
     "metadata": {},
     "output_type": "execute_result"
    }
   ],
   "source": [
    "(cdf_1['y'] - cdf_0['y']).mean()"
   ]
  },
  {
   "cell_type": "code",
   "execution_count": 9,
   "metadata": {
    "execution": {
     "iopub.execute_input": "2022-12-07T19:27:31.302348Z",
     "iopub.status.busy": "2022-12-07T19:27:31.302116Z",
     "iopub.status.idle": "2022-12-07T19:27:31.321803Z",
     "shell.execute_reply": "2022-12-07T19:27:31.321167Z"
    }
   },
   "outputs": [
    {
     "data": {
      "image/png": "[encoded data removed]",
      "text/latex": [
       "$\\displaystyle 0.241185133131957$"
      ],
      "text/plain": [
       "0.24118513313195666"
      ]
     },
     "execution_count": 9,
     "metadata": {},
     "output_type": "execute_result"
    }
   ],
   "source": [
    "1.96*(cdf_1['y'] - cdf_0['y']).std() / np.sqrt(len(df))"
   ]
  },
  {
   "cell_type": "markdown",
   "metadata": {},
   "source": [
    "Comparing to the estimate from OLS."
   ]
  },
  {
   "cell_type": "code",
   "execution_count": 10,
   "metadata": {
    "execution": {
     "iopub.execute_input": "2022-12-07T19:27:31.324754Z",
     "iopub.status.busy": "2022-12-07T19:27:31.324339Z",
     "iopub.status.idle": "2022-12-07T19:27:31.340281Z",
     "shell.execute_reply": "2022-12-07T19:27:31.339652Z"
    }
   },
   "outputs": [
    {
     "data": {
      "text/html": [
       "<table class=\"simpletable\">\n",
       "<caption>OLS Regression Results</caption>\n",
       "<tr>\n",
       "  <th>Dep. Variable:</th>            <td>y</td>        <th>  R-squared (uncentered):</th>      <td>   0.977</td> \n",
       "</tr>\n",
       "<tr>\n",
       "  <th>Model:</th>                   <td>OLS</td>       <th>  Adj. R-squared (uncentered):</th> <td>   0.977</td> \n",
       "</tr>\n",
       "<tr>\n",
       "  <th>Method:</th>             <td>Least Squares</td>  <th>  F-statistic:       </th>          <td>2.120e+04</td>\n",
       "</tr>\n",
       "<tr>\n",
       "  <th>Date:</th>             <td>Wed, 07 Dec 2022</td> <th>  Prob (F-statistic):</th>           <td>  0.00</td>  \n",
       "</tr>\n",
       "<tr>\n",
       "  <th>Time:</th>                 <td>19:27:31</td>     <th>  Log-Likelihood:    </th>          <td> -1456.5</td> \n",
       "</tr>\n",
       "<tr>\n",
       "  <th>No. Observations:</th>      <td>  1000</td>      <th>  AIC:               </th>          <td>   2917.</td> \n",
       "</tr>\n",
       "<tr>\n",
       "  <th>Df Residuals:</th>          <td>   998</td>      <th>  BIC:               </th>          <td>   2927.</td> \n",
       "</tr>\n",
       "<tr>\n",
       "  <th>Df Model:</th>              <td>     2</td>      <th>                     </th>              <td> </td>    \n",
       "</tr>\n",
       "<tr>\n",
       "  <th>Covariance Type:</th>      <td>nonrobust</td>    <th>                     </th>              <td> </td>    \n",
       "</tr>\n",
       "</table>\n",
       "<table class=\"simpletable\">\n",
       "<tr>\n",
       "   <td></td>     <th>coef</th>     <th>std err</th>      <th>t</th>      <th>P>|t|</th>  <th>[0.025</th>    <th>0.975]</th>  \n",
       "</tr>\n",
       "<tr>\n",
       "  <th>x1</th> <td>    2.3185</td> <td>    0.035</td> <td>   65.493</td> <td> 0.000</td> <td>    2.249</td> <td>    2.388</td>\n",
       "</tr>\n",
       "<tr>\n",
       "  <th>x2</th> <td>    4.8981</td> <td>    0.057</td> <td>   86.244</td> <td> 0.000</td> <td>    4.787</td> <td>    5.010</td>\n",
       "</tr>\n",
       "</table>\n",
       "<table class=\"simpletable\">\n",
       "<tr>\n",
       "  <th>Omnibus:</th>       <td> 2.706</td> <th>  Durbin-Watson:     </th> <td>   1.976</td>\n",
       "</tr>\n",
       "<tr>\n",
       "  <th>Prob(Omnibus):</th> <td> 0.258</td> <th>  Jarque-Bera (JB):  </th> <td>   2.360</td>\n",
       "</tr>\n",
       "<tr>\n",
       "  <th>Skew:</th>          <td> 0.008</td> <th>  Prob(JB):          </th> <td>   0.307</td>\n",
       "</tr>\n",
       "<tr>\n",
       "  <th>Kurtosis:</th>      <td> 2.763</td> <th>  Cond. No.          </th> <td>    2.90</td>\n",
       "</tr>\n",
       "</table><br/><br/>Notes:<br/>[1] R² is computed without centering (uncentered) since the model does not contain a constant.<br/>[2] Standard Errors assume that the covariance matrix of the errors is correctly specified."
      ],
      "text/plain": [
       "<class 'statsmodels.iolib.summary.Summary'>\n",
       "\"\"\"\n",
       "                                 OLS Regression Results                                \n",
       "=======================================================================================\n",
       "Dep. Variable:                      y   R-squared (uncentered):                   0.977\n",
       "Model:                            OLS   Adj. R-squared (uncentered):              0.977\n",
       "Method:                 Least Squares   F-statistic:                          2.120e+04\n",
       "Date:                Wed, 07 Dec 2022   Prob (F-statistic):                        0.00\n",
       "Time:                        19:27:31   Log-Likelihood:                         -1456.5\n",
       "No. Observations:                1000   AIC:                                      2917.\n",
       "Df Residuals:                     998   BIC:                                      2927.\n",
       "Df Model:                           2                                                  \n",
       "Covariance Type:            nonrobust                                                  \n",
       "==============================================================================\n",
       "                 coef    std err          t      P>|t|      [0.025      0.975]\n",
       "------------------------------------------------------------------------------\n",
       "x1             2.3185      0.035     65.493      0.000       2.249       2.388\n",
       "x2             4.8981      0.057     86.244      0.000       4.787       5.010\n",
       "==============================================================================\n",
       "Omnibus:                        2.706   Durbin-Watson:                   1.976\n",
       "Prob(Omnibus):                  0.258   Jarque-Bera (JB):                2.360\n",
       "Skew:                           0.008   Prob(JB):                        0.307\n",
       "Kurtosis:                       2.763   Cond. No.                         2.90\n",
       "==============================================================================\n",
       "\n",
       "Notes:\n",
       "[1] R² is computed without centering (uncentered) since the model does not contain a constant.\n",
       "[2] Standard Errors assume that the covariance matrix of the errors is correctly specified.\n",
       "\"\"\""
      ]
     },
     "execution_count": 10,
     "metadata": {},
     "output_type": "execute_result"
    }
   ],
   "source": [
    "model = OLS(np.asarray(df[outcome]), np.asarray(df[[common_cause, treatment]], dtype=np.float64))\n",
    "result = model.fit()\n",
    "result.summary()"
   ]
  }
 ],
 "metadata": {
  "kernelspec": {
   "display_name": "Python 3",
   "language": "python",
   "name": "python3"
  },
  "language_info": {
   "codemirror_mode": {
    "name": "ipython",
    "version": 3
   },
   "file_extension": ".py",
   "mimetype": "text/x-python",
   "name": "python",
   "nbconvert_exporter": "python",
   "pygments_lexer": "ipython3",
   "version": "3.8.10"
  },
  "toc": {
   "base_numbering": 1,
   "nav_menu": {},
   "number_sections": false,
   "sideBar": true,
   "skip_h1_title": true,
   "title_cell": "Table of Contents",
   "title_sidebar": "Contents",
   "toc_cell": false,
   "toc_position": {},
   "toc_section_display": true,
   "toc_window_display": false
  }
 },
 "nbformat": 4,
 "nbformat_minor": 4
}
