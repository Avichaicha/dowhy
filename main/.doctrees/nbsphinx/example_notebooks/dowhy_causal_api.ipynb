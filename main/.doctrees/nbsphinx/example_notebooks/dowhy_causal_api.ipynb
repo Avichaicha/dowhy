{
 "cells": [
  {
   "cell_type": "markdown",
   "metadata": {},
   "source": [
    "# Demo for the DoWhy causal API\n",
    "We show a simple example of adding a causal extension to any dataframe. "
   ]
  },
  {
   "cell_type": "code",
   "execution_count": 1,
   "metadata": {
    "execution": {
     "iopub.execute_input": "2022-08-13T02:40:45.993833Z",
     "iopub.status.busy": "2022-08-13T02:40:45.993194Z",
     "iopub.status.idle": "2022-08-13T02:40:47.180759Z",
     "shell.execute_reply": "2022-08-13T02:40:47.179966Z"
    }
   },
   "outputs": [],
   "source": [
    "import dowhy.datasets\n",
    "import dowhy.api\n",
    "\n",
    "import numpy as np\n",
    "import pandas as pd\n",
    "\n",
    "from statsmodels.api import OLS"
   ]
  },
  {
   "cell_type": "code",
   "execution_count": 2,
   "metadata": {
    "execution": {
     "iopub.execute_input": "2022-08-13T02:40:47.184870Z",
     "iopub.status.busy": "2022-08-13T02:40:47.184460Z",
     "iopub.status.idle": "2022-08-13T02:40:47.228808Z",
     "shell.execute_reply": "2022-08-13T02:40:47.228125Z"
    }
   },
   "outputs": [
    {
     "data": {
      "text/html": [
       "<div>\n",
       "<style scoped>\n",
       "    .dataframe tbody tr th:only-of-type {\n",
       "        vertical-align: middle;\n",
       "    }\n",
       "\n",
       "    .dataframe tbody tr th {\n",
       "        vertical-align: top;\n",
       "    }\n",
       "\n",
       "    .dataframe thead th {\n",
       "        text-align: right;\n",
       "    }\n",
       "</style>\n",
       "<table border=\"1\" class=\"dataframe\">\n",
       "  <thead>\n",
       "    <tr style=\"text-align: right;\">\n",
       "      <th></th>\n",
       "      <th>W0</th>\n",
       "      <th>v0</th>\n",
       "      <th>y</th>\n",
       "    </tr>\n",
       "  </thead>\n",
       "  <tbody>\n",
       "    <tr>\n",
       "      <th>0</th>\n",
       "      <td>-1.257260</td>\n",
       "      <td>True</td>\n",
       "      <td>3.352305</td>\n",
       "    </tr>\n",
       "    <tr>\n",
       "      <th>1</th>\n",
       "      <td>0.837915</td>\n",
       "      <td>True</td>\n",
       "      <td>6.346178</td>\n",
       "    </tr>\n",
       "    <tr>\n",
       "      <th>2</th>\n",
       "      <td>-0.249020</td>\n",
       "      <td>False</td>\n",
       "      <td>-1.862087</td>\n",
       "    </tr>\n",
       "    <tr>\n",
       "      <th>3</th>\n",
       "      <td>-0.590371</td>\n",
       "      <td>True</td>\n",
       "      <td>3.457127</td>\n",
       "    </tr>\n",
       "    <tr>\n",
       "      <th>4</th>\n",
       "      <td>0.887002</td>\n",
       "      <td>True</td>\n",
       "      <td>7.542029</td>\n",
       "    </tr>\n",
       "    <tr>\n",
       "      <th>...</th>\n",
       "      <td>...</td>\n",
       "      <td>...</td>\n",
       "      <td>...</td>\n",
       "    </tr>\n",
       "    <tr>\n",
       "      <th>995</th>\n",
       "      <td>0.277364</td>\n",
       "      <td>True</td>\n",
       "      <td>7.077200</td>\n",
       "    </tr>\n",
       "    <tr>\n",
       "      <th>996</th>\n",
       "      <td>2.326230</td>\n",
       "      <td>True</td>\n",
       "      <td>12.787867</td>\n",
       "    </tr>\n",
       "    <tr>\n",
       "      <th>997</th>\n",
       "      <td>0.168356</td>\n",
       "      <td>True</td>\n",
       "      <td>5.664070</td>\n",
       "    </tr>\n",
       "    <tr>\n",
       "      <th>998</th>\n",
       "      <td>-0.364923</td>\n",
       "      <td>False</td>\n",
       "      <td>-0.328857</td>\n",
       "    </tr>\n",
       "    <tr>\n",
       "      <th>999</th>\n",
       "      <td>0.716946</td>\n",
       "      <td>True</td>\n",
       "      <td>7.062545</td>\n",
       "    </tr>\n",
       "  </tbody>\n",
       "</table>\n",
       "<p>1000 rows × 3 columns</p>\n",
       "</div>"
      ],
      "text/plain": [
       "           W0     v0          y\n",
       "0   -1.257260   True   3.352305\n",
       "1    0.837915   True   6.346178\n",
       "2   -0.249020  False  -1.862087\n",
       "3   -0.590371   True   3.457127\n",
       "4    0.887002   True   7.542029\n",
       "..        ...    ...        ...\n",
       "995  0.277364   True   7.077200\n",
       "996  2.326230   True  12.787867\n",
       "997  0.168356   True   5.664070\n",
       "998 -0.364923  False  -0.328857\n",
       "999  0.716946   True   7.062545\n",
       "\n",
       "[1000 rows x 3 columns]"
      ]
     },
     "execution_count": 2,
     "metadata": {},
     "output_type": "execute_result"
    }
   ],
   "source": [
    "data = dowhy.datasets.linear_dataset(beta=5,\n",
    "        num_common_causes=1,\n",
    "        num_instruments = 0,\n",
    "        num_samples=1000,\n",
    "        treatment_is_binary=True)\n",
    "df = data['df']\n",
    "df['y'] = df['y'] + np.random.normal(size=len(df)) # Adding noise to data. Without noise, the variance in Y|X, Z is zero, and mcmc fails.\n",
    "#data['dot_graph'] = 'digraph { v ->y;X0-> v;X0-> y;}'\n",
    "\n",
    "treatment= data[\"treatment_name\"][0]\n",
    "outcome = data[\"outcome_name\"][0]\n",
    "common_cause = data[\"common_causes_names\"][0]\n",
    "df"
   ]
  },
  {
   "cell_type": "code",
   "execution_count": 3,
   "metadata": {
    "execution": {
     "iopub.execute_input": "2022-08-13T02:40:47.232280Z",
     "iopub.status.busy": "2022-08-13T02:40:47.231886Z",
     "iopub.status.idle": "2022-08-13T02:40:47.989840Z",
     "shell.execute_reply": "2022-08-13T02:40:47.989171Z"
    }
   },
   "outputs": [
    {
     "data": {
      "text/plain": [
       "<AxesSubplot:xlabel='v0'>"
      ]
     },
     "execution_count": 3,
     "metadata": {},
     "output_type": "execute_result"
    },
    {
     "data": {
      "image/png": "[encoded data removed]",
      "text/plain": [
       "<Figure size 432x288 with 1 Axes>"
      ]
     },
     "metadata": {
      "needs_background": "light"
     },
     "output_type": "display_data"
    }
   ],
   "source": [
    "# data['df'] is just a regular pandas.DataFrame\n",
    "df.causal.do(x=treatment,\n",
    "                     variable_types={treatment: 'b', outcome: 'c', common_cause: 'c'},\n",
    "                     outcome=outcome,\n",
    "                     common_causes=[common_cause],\n",
    "                     proceed_when_unidentifiable=True).groupby(treatment).mean().plot(y=outcome, kind='bar')"
   ]
  },
  {
   "cell_type": "code",
   "execution_count": 4,
   "metadata": {
    "execution": {
     "iopub.execute_input": "2022-08-13T02:40:47.993249Z",
     "iopub.status.busy": "2022-08-13T02:40:47.992698Z",
     "iopub.status.idle": "2022-08-13T02:40:48.093230Z",
     "shell.execute_reply": "2022-08-13T02:40:48.092655Z"
    }
   },
   "outputs": [
    {
     "data": {
      "text/plain": [
       "<AxesSubplot:xlabel='v0'>"
      ]
     },
     "execution_count": 4,
     "metadata": {},
     "output_type": "execute_result"
    },
    {
     "data": {
      "image/png": "[encoded data removed]",
      "text/plain": [
       "<Figure size 432x288 with 1 Axes>"
      ]
     },
     "metadata": {
      "needs_background": "light"
     },
     "output_type": "display_data"
    }
   ],
   "source": [
    "df.causal.do(x={treatment: 1}, \n",
    "              variable_types={treatment:'b', outcome: 'c', common_cause: 'c'}, \n",
    "              outcome=outcome,\n",
    "              method='weighting', \n",
    "              common_causes=[common_cause],\n",
    "              proceed_when_unidentifiable=True).groupby(treatment).mean().plot(y=outcome, kind='bar')"
   ]
  },
  {
   "cell_type": "code",
   "execution_count": 5,
   "metadata": {
    "execution": {
     "iopub.execute_input": "2022-08-13T02:40:48.096433Z",
     "iopub.status.busy": "2022-08-13T02:40:48.095730Z",
     "iopub.status.idle": "2022-08-13T02:40:48.127682Z",
     "shell.execute_reply": "2022-08-13T02:40:48.126869Z"
    }
   },
   "outputs": [],
   "source": [
    "cdf_1 = df.causal.do(x={treatment: 1}, \n",
    "              variable_types={treatment: 'b', outcome: 'c', common_cause: 'c'}, \n",
    "              outcome=outcome, \n",
    "              dot_graph=data['dot_graph'],\n",
    "              proceed_when_unidentifiable=True)\n",
    "\n",
    "cdf_0 = df.causal.do(x={treatment: 0}, \n",
    "              variable_types={treatment: 'b', outcome: 'c', common_cause: 'c'}, \n",
    "              outcome=outcome, \n",
    "              dot_graph=data['dot_graph'],\n",
    "              proceed_when_unidentifiable=True)\n"
   ]
  },
  {
   "cell_type": "code",
   "execution_count": 6,
   "metadata": {
    "execution": {
     "iopub.execute_input": "2022-08-13T02:40:48.131032Z",
     "iopub.status.busy": "2022-08-13T02:40:48.130458Z",
     "iopub.status.idle": "2022-08-13T02:40:48.143361Z",
     "shell.execute_reply": "2022-08-13T02:40:48.142792Z"
    },
    "scrolled": true
   },
   "outputs": [
    {
     "data": {
      "text/html": [
       "<div>\n",
       "<style scoped>\n",
       "    .dataframe tbody tr th:only-of-type {\n",
       "        vertical-align: middle;\n",
       "    }\n",
       "\n",
       "    .dataframe tbody tr th {\n",
       "        vertical-align: top;\n",
       "    }\n",
       "\n",
       "    .dataframe thead th {\n",
       "        text-align: right;\n",
       "    }\n",
       "</style>\n",
       "<table border=\"1\" class=\"dataframe\">\n",
       "  <thead>\n",
       "    <tr style=\"text-align: right;\">\n",
       "      <th></th>\n",
       "      <th>W0</th>\n",
       "      <th>v0</th>\n",
       "      <th>y</th>\n",
       "      <th>propensity_score</th>\n",
       "      <th>weight</th>\n",
       "    </tr>\n",
       "  </thead>\n",
       "  <tbody>\n",
       "    <tr>\n",
       "      <th>0</th>\n",
       "      <td>0.051015</td>\n",
       "      <td>False</td>\n",
       "      <td>0.381437</td>\n",
       "      <td>0.483529</td>\n",
       "      <td>2.068129</td>\n",
       "    </tr>\n",
       "    <tr>\n",
       "      <th>1</th>\n",
       "      <td>-1.613068</td>\n",
       "      <td>False</td>\n",
       "      <td>-4.710927</td>\n",
       "      <td>0.645239</td>\n",
       "      <td>1.549814</td>\n",
       "    </tr>\n",
       "    <tr>\n",
       "      <th>2</th>\n",
       "      <td>1.773018</td>\n",
       "      <td>False</td>\n",
       "      <td>4.067163</td>\n",
       "      <td>0.320145</td>\n",
       "      <td>3.123585</td>\n",
       "    </tr>\n",
       "    <tr>\n",
       "      <th>3</th>\n",
       "      <td>1.427421</td>\n",
       "      <td>False</td>\n",
       "      <td>4.207830</td>\n",
       "      <td>0.350876</td>\n",
       "      <td>2.850006</td>\n",
       "    </tr>\n",
       "    <tr>\n",
       "      <th>4</th>\n",
       "      <td>1.480886</td>\n",
       "      <td>False</td>\n",
       "      <td>4.493874</td>\n",
       "      <td>0.346032</td>\n",
       "      <td>2.889903</td>\n",
       "    </tr>\n",
       "    <tr>\n",
       "      <th>...</th>\n",
       "      <td>...</td>\n",
       "      <td>...</td>\n",
       "      <td>...</td>\n",
       "      <td>...</td>\n",
       "      <td>...</td>\n",
       "    </tr>\n",
       "    <tr>\n",
       "      <th>995</th>\n",
       "      <td>1.480886</td>\n",
       "      <td>False</td>\n",
       "      <td>4.493874</td>\n",
       "      <td>0.346032</td>\n",
       "      <td>2.889903</td>\n",
       "    </tr>\n",
       "    <tr>\n",
       "      <th>996</th>\n",
       "      <td>0.114514</td>\n",
       "      <td>False</td>\n",
       "      <td>-0.413207</td>\n",
       "      <td>0.477204</td>\n",
       "      <td>2.095541</td>\n",
       "    </tr>\n",
       "    <tr>\n",
       "      <th>997</th>\n",
       "      <td>0.535401</td>\n",
       "      <td>False</td>\n",
       "      <td>-0.345827</td>\n",
       "      <td>0.435558</td>\n",
       "      <td>2.295908</td>\n",
       "    </tr>\n",
       "    <tr>\n",
       "      <th>998</th>\n",
       "      <td>1.230471</td>\n",
       "      <td>False</td>\n",
       "      <td>3.198157</td>\n",
       "      <td>0.368981</td>\n",
       "      <td>2.710169</td>\n",
       "    </tr>\n",
       "    <tr>\n",
       "      <th>999</th>\n",
       "      <td>1.129637</td>\n",
       "      <td>False</td>\n",
       "      <td>2.086488</td>\n",
       "      <td>0.378398</td>\n",
       "      <td>2.642719</td>\n",
       "    </tr>\n",
       "  </tbody>\n",
       "</table>\n",
       "<p>1000 rows × 5 columns</p>\n",
       "</div>"
      ],
      "text/plain": [
       "           W0     v0         y  propensity_score    weight\n",
       "0    0.051015  False  0.381437          0.483529  2.068129\n",
       "1   -1.613068  False -4.710927          0.645239  1.549814\n",
       "2    1.773018  False  4.067163          0.320145  3.123585\n",
       "3    1.427421  False  4.207830          0.350876  2.850006\n",
       "4    1.480886  False  4.493874          0.346032  2.889903\n",
       "..        ...    ...       ...               ...       ...\n",
       "995  1.480886  False  4.493874          0.346032  2.889903\n",
       "996  0.114514  False -0.413207          0.477204  2.095541\n",
       "997  0.535401  False -0.345827          0.435558  2.295908\n",
       "998  1.230471  False  3.198157          0.368981  2.710169\n",
       "999  1.129637  False  2.086488          0.378398  2.642719\n",
       "\n",
       "[1000 rows x 5 columns]"
      ]
     },
     "execution_count": 6,
     "metadata": {},
     "output_type": "execute_result"
    }
   ],
   "source": [
    "cdf_0"
   ]
  },
  {
   "cell_type": "code",
   "execution_count": 7,
   "metadata": {
    "execution": {
     "iopub.execute_input": "2022-08-13T02:40:48.145967Z",
     "iopub.status.busy": "2022-08-13T02:40:48.145742Z",
     "iopub.status.idle": "2022-08-13T02:40:48.155749Z",
     "shell.execute_reply": "2022-08-13T02:40:48.155258Z"
    }
   },
   "outputs": [
    {
     "data": {
      "text/html": [
       "<div>\n",
       "<style scoped>\n",
       "    .dataframe tbody tr th:only-of-type {\n",
       "        vertical-align: middle;\n",
       "    }\n",
       "\n",
       "    .dataframe tbody tr th {\n",
       "        vertical-align: top;\n",
       "    }\n",
       "\n",
       "    .dataframe thead th {\n",
       "        text-align: right;\n",
       "    }\n",
       "</style>\n",
       "<table border=\"1\" class=\"dataframe\">\n",
       "  <thead>\n",
       "    <tr style=\"text-align: right;\">\n",
       "      <th></th>\n",
       "      <th>W0</th>\n",
       "      <th>v0</th>\n",
       "      <th>y</th>\n",
       "      <th>propensity_score</th>\n",
       "      <th>weight</th>\n",
       "    </tr>\n",
       "  </thead>\n",
       "  <tbody>\n",
       "    <tr>\n",
       "      <th>0</th>\n",
       "      <td>0.124302</td>\n",
       "      <td>True</td>\n",
       "      <td>6.310779</td>\n",
       "      <td>0.523771</td>\n",
       "      <td>1.909232</td>\n",
       "    </tr>\n",
       "    <tr>\n",
       "      <th>1</th>\n",
       "      <td>2.008046</td>\n",
       "      <td>True</td>\n",
       "      <td>13.605664</td>\n",
       "      <td>0.699916</td>\n",
       "      <td>1.428743</td>\n",
       "    </tr>\n",
       "    <tr>\n",
       "      <th>2</th>\n",
       "      <td>1.108871</td>\n",
       "      <td>True</td>\n",
       "      <td>8.051774</td>\n",
       "      <td>0.619651</td>\n",
       "      <td>1.613813</td>\n",
       "    </tr>\n",
       "    <tr>\n",
       "      <th>3</th>\n",
       "      <td>1.785742</td>\n",
       "      <td>True</td>\n",
       "      <td>8.911968</td>\n",
       "      <td>0.680959</td>\n",
       "      <td>1.468517</td>\n",
       "    </tr>\n",
       "    <tr>\n",
       "      <th>4</th>\n",
       "      <td>0.115524</td>\n",
       "      <td>True</td>\n",
       "      <td>5.176355</td>\n",
       "      <td>0.522897</td>\n",
       "      <td>1.912423</td>\n",
       "    </tr>\n",
       "    <tr>\n",
       "      <th>...</th>\n",
       "      <td>...</td>\n",
       "      <td>...</td>\n",
       "      <td>...</td>\n",
       "      <td>...</td>\n",
       "      <td>...</td>\n",
       "    </tr>\n",
       "    <tr>\n",
       "      <th>995</th>\n",
       "      <td>-0.553558</td>\n",
       "      <td>True</td>\n",
       "      <td>2.921157</td>\n",
       "      <td>0.456272</td>\n",
       "      <td>2.191673</td>\n",
       "    </tr>\n",
       "    <tr>\n",
       "      <th>996</th>\n",
       "      <td>1.661085</td>\n",
       "      <td>True</td>\n",
       "      <td>9.315044</td>\n",
       "      <td>0.670056</td>\n",
       "      <td>1.492413</td>\n",
       "    </tr>\n",
       "    <tr>\n",
       "      <th>997</th>\n",
       "      <td>0.614121</td>\n",
       "      <td>True</td>\n",
       "      <td>5.708205</td>\n",
       "      <td>0.572149</td>\n",
       "      <td>1.747795</td>\n",
       "    </tr>\n",
       "    <tr>\n",
       "      <th>998</th>\n",
       "      <td>0.499723</td>\n",
       "      <td>True</td>\n",
       "      <td>6.550809</td>\n",
       "      <td>0.560939</td>\n",
       "      <td>1.782725</td>\n",
       "    </tr>\n",
       "    <tr>\n",
       "      <th>999</th>\n",
       "      <td>1.630372</td>\n",
       "      <td>True</td>\n",
       "      <td>10.186280</td>\n",
       "      <td>0.667340</td>\n",
       "      <td>1.498486</td>\n",
       "    </tr>\n",
       "  </tbody>\n",
       "</table>\n",
       "<p>1000 rows × 5 columns</p>\n",
       "</div>"
      ],
      "text/plain": [
       "           W0    v0          y  propensity_score    weight\n",
       "0    0.124302  True   6.310779          0.523771  1.909232\n",
       "1    2.008046  True  13.605664          0.699916  1.428743\n",
       "2    1.108871  True   8.051774          0.619651  1.613813\n",
       "3    1.785742  True   8.911968          0.680959  1.468517\n",
       "4    0.115524  True   5.176355          0.522897  1.912423\n",
       "..        ...   ...        ...               ...       ...\n",
       "995 -0.553558  True   2.921157          0.456272  2.191673\n",
       "996  1.661085  True   9.315044          0.670056  1.492413\n",
       "997  0.614121  True   5.708205          0.572149  1.747795\n",
       "998  0.499723  True   6.550809          0.560939  1.782725\n",
       "999  1.630372  True  10.186280          0.667340  1.498486\n",
       "\n",
       "[1000 rows x 5 columns]"
      ]
     },
     "execution_count": 7,
     "metadata": {},
     "output_type": "execute_result"
    }
   ],
   "source": [
    "cdf_1"
   ]
  },
  {
   "cell_type": "markdown",
   "metadata": {},
   "source": [
    "## Comparing the estimate to Linear Regression\n",
    "First, estimating the effect using the causal data frame, and the 95% confidence interval."
   ]
  },
  {
   "cell_type": "code",
   "execution_count": 8,
   "metadata": {
    "execution": {
     "iopub.execute_input": "2022-08-13T02:40:48.158802Z",
     "iopub.status.busy": "2022-08-13T02:40:48.158432Z",
     "iopub.status.idle": "2022-08-13T02:40:48.251422Z",
     "shell.execute_reply": "2022-08-13T02:40:48.250506Z"
    }
   },
   "outputs": [
    {
     "data": {
      "image/png": "[encoded data removed]",
      "text/latex": [
       "$\\displaystyle 5.38369771863777$"
      ],
      "text/plain": [
       "5.383697718637774"
      ]
     },
     "execution_count": 8,
     "metadata": {},
     "output_type": "execute_result"
    }
   ],
   "source": [
    "(cdf_1['y'] - cdf_0['y']).mean()"
   ]
  },
  {
   "cell_type": "code",
   "execution_count": 9,
   "metadata": {
    "execution": {
     "iopub.execute_input": "2022-08-13T02:40:48.255516Z",
     "iopub.status.busy": "2022-08-13T02:40:48.254944Z",
     "iopub.status.idle": "2022-08-13T02:40:48.280282Z",
     "shell.execute_reply": "2022-08-13T02:40:48.279553Z"
    }
   },
   "outputs": [
    {
     "data": {
      "image/png": "[encoded data removed]",
      "text/latex": [
       "$\\displaystyle 0.247372187984558$"
      ],
      "text/plain": [
       "0.24737218798455776"
      ]
     },
     "execution_count": 9,
     "metadata": {},
     "output_type": "execute_result"
    }
   ],
   "source": [
    "1.96*(cdf_1['y'] - cdf_0['y']).std() / np.sqrt(len(df))"
   ]
  },
  {
   "cell_type": "markdown",
   "metadata": {},
   "source": [
    "Comparing to the estimate from OLS."
   ]
  },
  {
   "cell_type": "code",
   "execution_count": 10,
   "metadata": {
    "execution": {
     "iopub.execute_input": "2022-08-13T02:40:48.283598Z",
     "iopub.status.busy": "2022-08-13T02:40:48.283166Z",
     "iopub.status.idle": "2022-08-13T02:40:48.299623Z",
     "shell.execute_reply": "2022-08-13T02:40:48.298948Z"
    }
   },
   "outputs": [
    {
     "data": {
      "text/html": [
       "<table class=\"simpletable\">\n",
       "<caption>OLS Regression Results</caption>\n",
       "<tr>\n",
       "  <th>Dep. Variable:</th>            <td>y</td>        <th>  R-squared (uncentered):</th>      <td>   0.973</td> \n",
       "</tr>\n",
       "<tr>\n",
       "  <th>Model:</th>                   <td>OLS</td>       <th>  Adj. R-squared (uncentered):</th> <td>   0.973</td> \n",
       "</tr>\n",
       "<tr>\n",
       "  <th>Method:</th>             <td>Least Squares</td>  <th>  F-statistic:       </th>          <td>1.783e+04</td>\n",
       "</tr>\n",
       "<tr>\n",
       "  <th>Date:</th>             <td>Sat, 13 Aug 2022</td> <th>  Prob (F-statistic):</th>           <td>  0.00</td>  \n",
       "</tr>\n",
       "<tr>\n",
       "  <th>Time:</th>                 <td>02:40:48</td>     <th>  Log-Likelihood:    </th>          <td> -1419.7</td> \n",
       "</tr>\n",
       "<tr>\n",
       "  <th>No. Observations:</th>      <td>  1000</td>      <th>  AIC:               </th>          <td>   2843.</td> \n",
       "</tr>\n",
       "<tr>\n",
       "  <th>Df Residuals:</th>          <td>   998</td>      <th>  BIC:               </th>          <td>   2853.</td> \n",
       "</tr>\n",
       "<tr>\n",
       "  <th>Df Model:</th>              <td>     2</td>      <th>                     </th>              <td> </td>    \n",
       "</tr>\n",
       "<tr>\n",
       "  <th>Covariance Type:</th>      <td>nonrobust</td>    <th>                     </th>              <td> </td>    \n",
       "</tr>\n",
       "</table>\n",
       "<table class=\"simpletable\">\n",
       "<tr>\n",
       "   <td></td>     <th>coef</th>     <th>std err</th>      <th>t</th>      <th>P>|t|</th>  <th>[0.025</th>    <th>0.975]</th>  \n",
       "</tr>\n",
       "<tr>\n",
       "  <th>x1</th> <td>    2.8072</td> <td>    0.032</td> <td>   86.813</td> <td> 0.000</td> <td>    2.744</td> <td>    2.871</td>\n",
       "</tr>\n",
       "<tr>\n",
       "  <th>x2</th> <td>    5.1060</td> <td>    0.048</td> <td>  106.488</td> <td> 0.000</td> <td>    5.012</td> <td>    5.200</td>\n",
       "</tr>\n",
       "</table>\n",
       "<table class=\"simpletable\">\n",
       "<tr>\n",
       "  <th>Omnibus:</th>       <td> 1.373</td> <th>  Durbin-Watson:     </th> <td>   2.041</td>\n",
       "</tr>\n",
       "<tr>\n",
       "  <th>Prob(Omnibus):</th> <td> 0.503</td> <th>  Jarque-Bera (JB):  </th> <td>   1.274</td>\n",
       "</tr>\n",
       "<tr>\n",
       "  <th>Skew:</th>          <td> 0.026</td> <th>  Prob(JB):          </th> <td>   0.529</td>\n",
       "</tr>\n",
       "<tr>\n",
       "  <th>Kurtosis:</th>      <td> 3.167</td> <th>  Cond. No.          </th> <td>    1.93</td>\n",
       "</tr>\n",
       "</table><br/><br/>Notes:<br/>[1] R² is computed without centering (uncentered) since the model does not contain a constant.<br/>[2] Standard Errors assume that the covariance matrix of the errors is correctly specified."
      ],
      "text/plain": [
       "<class 'statsmodels.iolib.summary.Summary'>\n",
       "\"\"\"\n",
       "                                 OLS Regression Results                                \n",
       "=======================================================================================\n",
       "Dep. Variable:                      y   R-squared (uncentered):                   0.973\n",
       "Model:                            OLS   Adj. R-squared (uncentered):              0.973\n",
       "Method:                 Least Squares   F-statistic:                          1.783e+04\n",
       "Date:                Sat, 13 Aug 2022   Prob (F-statistic):                        0.00\n",
       "Time:                        02:40:48   Log-Likelihood:                         -1419.7\n",
       "No. Observations:                1000   AIC:                                      2843.\n",
       "Df Residuals:                     998   BIC:                                      2853.\n",
       "Df Model:                           2                                                  \n",
       "Covariance Type:            nonrobust                                                  \n",
       "==============================================================================\n",
       "                 coef    std err          t      P>|t|      [0.025      0.975]\n",
       "------------------------------------------------------------------------------\n",
       "x1             2.8072      0.032     86.813      0.000       2.744       2.871\n",
       "x2             5.1060      0.048    106.488      0.000       5.012       5.200\n",
       "==============================================================================\n",
       "Omnibus:                        1.373   Durbin-Watson:                   2.041\n",
       "Prob(Omnibus):                  0.503   Jarque-Bera (JB):                1.274\n",
       "Skew:                           0.026   Prob(JB):                        0.529\n",
       "Kurtosis:                       3.167   Cond. No.                         1.93\n",
       "==============================================================================\n",
       "\n",
       "Notes:\n",
       "[1] R² is computed without centering (uncentered) since the model does not contain a constant.\n",
       "[2] Standard Errors assume that the covariance matrix of the errors is correctly specified.\n",
       "\"\"\""
      ]
     },
     "execution_count": 10,
     "metadata": {},
     "output_type": "execute_result"
    }
   ],
   "source": [
    "model = OLS(np.asarray(df[outcome]), np.asarray(df[[common_cause, treatment]], dtype=np.float64))\n",
    "result = model.fit()\n",
    "result.summary()"
   ]
  }
 ],
 "metadata": {
  "kernelspec": {
   "display_name": "Python 3",
   "language": "python",
   "name": "python3"
  },
  "language_info": {
   "codemirror_mode": {
    "name": "ipython",
    "version": 3
   },
   "file_extension": ".py",
   "mimetype": "text/x-python",
   "name": "python",
   "nbconvert_exporter": "python",
   "pygments_lexer": "ipython3",
   "version": "3.8.10"
  },
  "toc": {
   "base_numbering": 1,
   "nav_menu": {},
   "number_sections": false,
   "sideBar": true,
   "skip_h1_title": true,
   "title_cell": "Table of Contents",
   "title_sidebar": "Contents",
   "toc_cell": false,
   "toc_position": {},
   "toc_section_display": true,
   "toc_window_display": false
  }
 },
 "nbformat": 4,
 "nbformat_minor": 4
}
