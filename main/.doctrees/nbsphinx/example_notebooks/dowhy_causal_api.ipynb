{
 "cells": [
  {
   "cell_type": "markdown",
   "metadata": {},
   "source": [
    "# Demo for the DoWhy causal API\n",
    "We show a simple example of adding a causal extension to any dataframe. "
   ]
  },
  {
   "cell_type": "code",
   "execution_count": 1,
   "metadata": {
    "execution": {
     "iopub.execute_input": "2022-12-16T01:11:59.376628Z",
     "iopub.status.busy": "2022-12-16T01:11:59.376308Z",
     "iopub.status.idle": "2022-12-16T01:12:01.225312Z",
     "shell.execute_reply": "2022-12-16T01:12:01.224680Z"
    }
   },
   "outputs": [],
   "source": [
    "import dowhy.datasets\n",
    "import dowhy.api\n",
    "\n",
    "import numpy as np\n",
    "import pandas as pd\n",
    "\n",
    "from statsmodels.api import OLS"
   ]
  },
  {
   "cell_type": "code",
   "execution_count": 2,
   "metadata": {
    "execution": {
     "iopub.execute_input": "2022-12-16T01:12:01.228875Z",
     "iopub.status.busy": "2022-12-16T01:12:01.228255Z",
     "iopub.status.idle": "2022-12-16T01:12:01.267273Z",
     "shell.execute_reply": "2022-12-16T01:12:01.266635Z"
    }
   },
   "outputs": [
    {
     "data": {
      "text/html": [
       "<div>\n",
       "<style scoped>\n",
       "    .dataframe tbody tr th:only-of-type {\n",
       "        vertical-align: middle;\n",
       "    }\n",
       "\n",
       "    .dataframe tbody tr th {\n",
       "        vertical-align: top;\n",
       "    }\n",
       "\n",
       "    .dataframe thead th {\n",
       "        text-align: right;\n",
       "    }\n",
       "</style>\n",
       "<table border=\"1\" class=\"dataframe\">\n",
       "  <thead>\n",
       "    <tr style=\"text-align: right;\">\n",
       "      <th></th>\n",
       "      <th>W0</th>\n",
       "      <th>v0</th>\n",
       "      <th>y</th>\n",
       "    </tr>\n",
       "  </thead>\n",
       "  <tbody>\n",
       "    <tr>\n",
       "      <th>0</th>\n",
       "      <td>-1.269081</td>\n",
       "      <td>False</td>\n",
       "      <td>0.394192</td>\n",
       "    </tr>\n",
       "    <tr>\n",
       "      <th>1</th>\n",
       "      <td>0.841994</td>\n",
       "      <td>True</td>\n",
       "      <td>8.006270</td>\n",
       "    </tr>\n",
       "    <tr>\n",
       "      <th>2</th>\n",
       "      <td>1.336668</td>\n",
       "      <td>True</td>\n",
       "      <td>7.690033</td>\n",
       "    </tr>\n",
       "    <tr>\n",
       "      <th>3</th>\n",
       "      <td>-0.348362</td>\n",
       "      <td>False</td>\n",
       "      <td>0.580294</td>\n",
       "    </tr>\n",
       "    <tr>\n",
       "      <th>4</th>\n",
       "      <td>-1.278585</td>\n",
       "      <td>False</td>\n",
       "      <td>-0.168227</td>\n",
       "    </tr>\n",
       "    <tr>\n",
       "      <th>...</th>\n",
       "      <td>...</td>\n",
       "      <td>...</td>\n",
       "      <td>...</td>\n",
       "    </tr>\n",
       "    <tr>\n",
       "      <th>995</th>\n",
       "      <td>0.980275</td>\n",
       "      <td>True</td>\n",
       "      <td>5.476466</td>\n",
       "    </tr>\n",
       "    <tr>\n",
       "      <th>996</th>\n",
       "      <td>-0.451453</td>\n",
       "      <td>False</td>\n",
       "      <td>0.640976</td>\n",
       "    </tr>\n",
       "    <tr>\n",
       "      <th>997</th>\n",
       "      <td>-0.735478</td>\n",
       "      <td>False</td>\n",
       "      <td>0.466942</td>\n",
       "    </tr>\n",
       "    <tr>\n",
       "      <th>998</th>\n",
       "      <td>-1.182216</td>\n",
       "      <td>False</td>\n",
       "      <td>-1.120052</td>\n",
       "    </tr>\n",
       "    <tr>\n",
       "      <th>999</th>\n",
       "      <td>0.589075</td>\n",
       "      <td>True</td>\n",
       "      <td>7.189206</td>\n",
       "    </tr>\n",
       "  </tbody>\n",
       "</table>\n",
       "<p>1000 rows × 3 columns</p>\n",
       "</div>"
      ],
      "text/plain": [
       "           W0     v0         y\n",
       "0   -1.269081  False  0.394192\n",
       "1    0.841994   True  8.006270\n",
       "2    1.336668   True  7.690033\n",
       "3   -0.348362  False  0.580294\n",
       "4   -1.278585  False -0.168227\n",
       "..        ...    ...       ...\n",
       "995  0.980275   True  5.476466\n",
       "996 -0.451453  False  0.640976\n",
       "997 -0.735478  False  0.466942\n",
       "998 -1.182216  False -1.120052\n",
       "999  0.589075   True  7.189206\n",
       "\n",
       "[1000 rows x 3 columns]"
      ]
     },
     "execution_count": 2,
     "metadata": {},
     "output_type": "execute_result"
    }
   ],
   "source": [
    "data = dowhy.datasets.linear_dataset(beta=5,\n",
    "        num_common_causes=1,\n",
    "        num_instruments = 0,\n",
    "        num_samples=1000,\n",
    "        treatment_is_binary=True)\n",
    "df = data['df']\n",
    "df['y'] = df['y'] + np.random.normal(size=len(df)) # Adding noise to data. Without noise, the variance in Y|X, Z is zero, and mcmc fails.\n",
    "#data['dot_graph'] = 'digraph { v ->y;X0-> v;X0-> y;}'\n",
    "\n",
    "treatment= data[\"treatment_name\"][0]\n",
    "outcome = data[\"outcome_name\"][0]\n",
    "common_cause = data[\"common_causes_names\"][0]\n",
    "df"
   ]
  },
  {
   "cell_type": "code",
   "execution_count": 3,
   "metadata": {
    "execution": {
     "iopub.execute_input": "2022-12-16T01:12:01.270320Z",
     "iopub.status.busy": "2022-12-16T01:12:01.269789Z",
     "iopub.status.idle": "2022-12-16T01:12:01.414447Z",
     "shell.execute_reply": "2022-12-16T01:12:01.413896Z"
    }
   },
   "outputs": [
    {
     "data": {
      "text/plain": [
       "<AxesSubplot: xlabel='v0'>"
      ]
     },
     "execution_count": 3,
     "metadata": {},
     "output_type": "execute_result"
    },
    {
     "data": {
      "image/png": "[encoded data removed]",
      "text/plain": [
       "<Figure size 640x480 with 1 Axes>"
      ]
     },
     "metadata": {},
     "output_type": "display_data"
    }
   ],
   "source": [
    "# data['df'] is just a regular pandas.DataFrame\n",
    "df.causal.do(x=treatment,\n",
    "                     variable_types={treatment: 'b', outcome: 'c', common_cause: 'c'},\n",
    "                     outcome=outcome,\n",
    "                     common_causes=[common_cause],\n",
    "                     proceed_when_unidentifiable=True).groupby(treatment).mean().plot(y=outcome, kind='bar')"
   ]
  },
  {
   "cell_type": "code",
   "execution_count": 4,
   "metadata": {
    "execution": {
     "iopub.execute_input": "2022-12-16T01:12:01.417198Z",
     "iopub.status.busy": "2022-12-16T01:12:01.416855Z",
     "iopub.status.idle": "2022-12-16T01:12:01.524100Z",
     "shell.execute_reply": "2022-12-16T01:12:01.523579Z"
    }
   },
   "outputs": [
    {
     "data": {
      "text/plain": [
       "<AxesSubplot: xlabel='v0'>"
      ]
     },
     "execution_count": 4,
     "metadata": {},
     "output_type": "execute_result"
    },
    {
     "data": {
      "image/png": "[encoded data removed]",
      "text/plain": [
       "<Figure size 640x480 with 1 Axes>"
      ]
     },
     "metadata": {},
     "output_type": "display_data"
    }
   ],
   "source": [
    "df.causal.do(x={treatment: 1}, \n",
    "              variable_types={treatment:'b', outcome: 'c', common_cause: 'c'}, \n",
    "              outcome=outcome,\n",
    "              method='weighting', \n",
    "              common_causes=[common_cause],\n",
    "              proceed_when_unidentifiable=True).groupby(treatment).mean().plot(y=outcome, kind='bar')"
   ]
  },
  {
   "cell_type": "code",
   "execution_count": 5,
   "metadata": {
    "execution": {
     "iopub.execute_input": "2022-12-16T01:12:01.527329Z",
     "iopub.status.busy": "2022-12-16T01:12:01.526739Z",
     "iopub.status.idle": "2022-12-16T01:12:01.557933Z",
     "shell.execute_reply": "2022-12-16T01:12:01.557379Z"
    }
   },
   "outputs": [],
   "source": [
    "cdf_1 = df.causal.do(x={treatment: 1}, \n",
    "              variable_types={treatment: 'b', outcome: 'c', common_cause: 'c'}, \n",
    "              outcome=outcome, \n",
    "              dot_graph=data['dot_graph'],\n",
    "              proceed_when_unidentifiable=True)\n",
    "\n",
    "cdf_0 = df.causal.do(x={treatment: 0}, \n",
    "              variable_types={treatment: 'b', outcome: 'c', common_cause: 'c'}, \n",
    "              outcome=outcome, \n",
    "              dot_graph=data['dot_graph'],\n",
    "              proceed_when_unidentifiable=True)\n"
   ]
  },
  {
   "cell_type": "code",
   "execution_count": 6,
   "metadata": {
    "execution": {
     "iopub.execute_input": "2022-12-16T01:12:01.560876Z",
     "iopub.status.busy": "2022-12-16T01:12:01.560530Z",
     "iopub.status.idle": "2022-12-16T01:12:01.570085Z",
     "shell.execute_reply": "2022-12-16T01:12:01.569579Z"
    },
    "scrolled": true
   },
   "outputs": [
    {
     "data": {
      "text/html": [
       "<div>\n",
       "<style scoped>\n",
       "    .dataframe tbody tr th:only-of-type {\n",
       "        vertical-align: middle;\n",
       "    }\n",
       "\n",
       "    .dataframe tbody tr th {\n",
       "        vertical-align: top;\n",
       "    }\n",
       "\n",
       "    .dataframe thead th {\n",
       "        text-align: right;\n",
       "    }\n",
       "</style>\n",
       "<table border=\"1\" class=\"dataframe\">\n",
       "  <thead>\n",
       "    <tr style=\"text-align: right;\">\n",
       "      <th></th>\n",
       "      <th>W0</th>\n",
       "      <th>v0</th>\n",
       "      <th>y</th>\n",
       "      <th>propensity_score</th>\n",
       "      <th>weight</th>\n",
       "    </tr>\n",
       "  </thead>\n",
       "  <tbody>\n",
       "    <tr>\n",
       "      <th>0</th>\n",
       "      <td>-0.261125</td>\n",
       "      <td>False</td>\n",
       "      <td>-0.208418</td>\n",
       "      <td>0.620461</td>\n",
       "      <td>1.611705</td>\n",
       "    </tr>\n",
       "    <tr>\n",
       "      <th>1</th>\n",
       "      <td>-0.461002</td>\n",
       "      <td>False</td>\n",
       "      <td>-2.050497</td>\n",
       "      <td>0.725465</td>\n",
       "      <td>1.378426</td>\n",
       "    </tr>\n",
       "    <tr>\n",
       "      <th>2</th>\n",
       "      <td>-2.244137</td>\n",
       "      <td>False</td>\n",
       "      <td>-3.867934</td>\n",
       "      <td>0.994811</td>\n",
       "      <td>1.005216</td>\n",
       "    </tr>\n",
       "    <tr>\n",
       "      <th>3</th>\n",
       "      <td>-0.838721</td>\n",
       "      <td>False</td>\n",
       "      <td>-1.021192</td>\n",
       "      <td>0.867526</td>\n",
       "      <td>1.152704</td>\n",
       "    </tr>\n",
       "    <tr>\n",
       "      <th>4</th>\n",
       "      <td>-0.853096</td>\n",
       "      <td>False</td>\n",
       "      <td>-1.785286</td>\n",
       "      <td>0.871445</td>\n",
       "      <td>1.147520</td>\n",
       "    </tr>\n",
       "    <tr>\n",
       "      <th>...</th>\n",
       "      <td>...</td>\n",
       "      <td>...</td>\n",
       "      <td>...</td>\n",
       "      <td>...</td>\n",
       "      <td>...</td>\n",
       "    </tr>\n",
       "    <tr>\n",
       "      <th>995</th>\n",
       "      <td>-0.099527</td>\n",
       "      <td>False</td>\n",
       "      <td>0.634903</td>\n",
       "      <td>0.525788</td>\n",
       "      <td>1.901906</td>\n",
       "    </tr>\n",
       "    <tr>\n",
       "      <th>996</th>\n",
       "      <td>-0.372711</td>\n",
       "      <td>False</td>\n",
       "      <td>-1.155677</td>\n",
       "      <td>0.681268</td>\n",
       "      <td>1.467851</td>\n",
       "    </tr>\n",
       "    <tr>\n",
       "      <th>997</th>\n",
       "      <td>0.048756</td>\n",
       "      <td>False</td>\n",
       "      <td>-0.462660</td>\n",
       "      <td>0.437079</td>\n",
       "      <td>2.287914</td>\n",
       "    </tr>\n",
       "    <tr>\n",
       "      <th>998</th>\n",
       "      <td>-0.277210</td>\n",
       "      <td>False</td>\n",
       "      <td>0.563189</td>\n",
       "      <td>0.629519</td>\n",
       "      <td>1.588515</td>\n",
       "    </tr>\n",
       "    <tr>\n",
       "      <th>999</th>\n",
       "      <td>-1.274046</td>\n",
       "      <td>False</td>\n",
       "      <td>-1.867364</td>\n",
       "      <td>0.949077</td>\n",
       "      <td>1.053655</td>\n",
       "    </tr>\n",
       "  </tbody>\n",
       "</table>\n",
       "<p>1000 rows × 5 columns</p>\n",
       "</div>"
      ],
      "text/plain": [
       "           W0     v0         y  propensity_score    weight\n",
       "0   -0.261125  False -0.208418          0.620461  1.611705\n",
       "1   -0.461002  False -2.050497          0.725465  1.378426\n",
       "2   -2.244137  False -3.867934          0.994811  1.005216\n",
       "3   -0.838721  False -1.021192          0.867526  1.152704\n",
       "4   -0.853096  False -1.785286          0.871445  1.147520\n",
       "..        ...    ...       ...               ...       ...\n",
       "995 -0.099527  False  0.634903          0.525788  1.901906\n",
       "996 -0.372711  False -1.155677          0.681268  1.467851\n",
       "997  0.048756  False -0.462660          0.437079  2.287914\n",
       "998 -0.277210  False  0.563189          0.629519  1.588515\n",
       "999 -1.274046  False -1.867364          0.949077  1.053655\n",
       "\n",
       "[1000 rows x 5 columns]"
      ]
     },
     "execution_count": 6,
     "metadata": {},
     "output_type": "execute_result"
    }
   ],
   "source": [
    "cdf_0"
   ]
  },
  {
   "cell_type": "code",
   "execution_count": 7,
   "metadata": {
    "execution": {
     "iopub.execute_input": "2022-12-16T01:12:01.572651Z",
     "iopub.status.busy": "2022-12-16T01:12:01.572308Z",
     "iopub.status.idle": "2022-12-16T01:12:01.581480Z",
     "shell.execute_reply": "2022-12-16T01:12:01.581008Z"
    }
   },
   "outputs": [
    {
     "data": {
      "text/html": [
       "<div>\n",
       "<style scoped>\n",
       "    .dataframe tbody tr th:only-of-type {\n",
       "        vertical-align: middle;\n",
       "    }\n",
       "\n",
       "    .dataframe tbody tr th {\n",
       "        vertical-align: top;\n",
       "    }\n",
       "\n",
       "    .dataframe thead th {\n",
       "        text-align: right;\n",
       "    }\n",
       "</style>\n",
       "<table border=\"1\" class=\"dataframe\">\n",
       "  <thead>\n",
       "    <tr style=\"text-align: right;\">\n",
       "      <th></th>\n",
       "      <th>W0</th>\n",
       "      <th>v0</th>\n",
       "      <th>y</th>\n",
       "      <th>propensity_score</th>\n",
       "      <th>weight</th>\n",
       "    </tr>\n",
       "  </thead>\n",
       "  <tbody>\n",
       "    <tr>\n",
       "      <th>0</th>\n",
       "      <td>0.059656</td>\n",
       "      <td>True</td>\n",
       "      <td>5.066586</td>\n",
       "      <td>0.569353</td>\n",
       "      <td>1.756379</td>\n",
       "    </tr>\n",
       "    <tr>\n",
       "      <th>1</th>\n",
       "      <td>-1.647519</td>\n",
       "      <td>True</td>\n",
       "      <td>2.757396</td>\n",
       "      <td>0.021405</td>\n",
       "      <td>46.718194</td>\n",
       "    </tr>\n",
       "    <tr>\n",
       "      <th>2</th>\n",
       "      <td>1.368670</td>\n",
       "      <td>True</td>\n",
       "      <td>5.994871</td>\n",
       "      <td>0.968455</td>\n",
       "      <td>1.032572</td>\n",
       "    </tr>\n",
       "    <tr>\n",
       "      <th>3</th>\n",
       "      <td>-1.411787</td>\n",
       "      <td>True</td>\n",
       "      <td>1.293661</td>\n",
       "      <td>0.037108</td>\n",
       "      <td>26.948688</td>\n",
       "    </tr>\n",
       "    <tr>\n",
       "      <th>4</th>\n",
       "      <td>0.558353</td>\n",
       "      <td>True</td>\n",
       "      <td>4.959528</td>\n",
       "      <td>0.814179</td>\n",
       "      <td>1.228231</td>\n",
       "    </tr>\n",
       "    <tr>\n",
       "      <th>...</th>\n",
       "      <td>...</td>\n",
       "      <td>...</td>\n",
       "      <td>...</td>\n",
       "      <td>...</td>\n",
       "      <td>...</td>\n",
       "    </tr>\n",
       "    <tr>\n",
       "      <th>995</th>\n",
       "      <td>0.191881</td>\n",
       "      <td>True</td>\n",
       "      <td>7.020342</td>\n",
       "      <td>0.644947</td>\n",
       "      <td>1.550515</td>\n",
       "    </tr>\n",
       "    <tr>\n",
       "      <th>996</th>\n",
       "      <td>0.322923</td>\n",
       "      <td>True</td>\n",
       "      <td>6.596749</td>\n",
       "      <td>0.713357</td>\n",
       "      <td>1.401822</td>\n",
       "    </tr>\n",
       "    <tr>\n",
       "      <th>997</th>\n",
       "      <td>0.059656</td>\n",
       "      <td>True</td>\n",
       "      <td>5.066586</td>\n",
       "      <td>0.569353</td>\n",
       "      <td>1.756379</td>\n",
       "    </tr>\n",
       "    <tr>\n",
       "      <th>998</th>\n",
       "      <td>-0.923333</td>\n",
       "      <td>True</td>\n",
       "      <td>5.411143</td>\n",
       "      <td>0.110805</td>\n",
       "      <td>9.024869</td>\n",
       "    </tr>\n",
       "    <tr>\n",
       "      <th>999</th>\n",
       "      <td>-0.854922</td>\n",
       "      <td>True</td>\n",
       "      <td>5.277082</td>\n",
       "      <td>0.128065</td>\n",
       "      <td>7.808548</td>\n",
       "    </tr>\n",
       "  </tbody>\n",
       "</table>\n",
       "<p>1000 rows × 5 columns</p>\n",
       "</div>"
      ],
      "text/plain": [
       "           W0    v0         y  propensity_score     weight\n",
       "0    0.059656  True  5.066586          0.569353   1.756379\n",
       "1   -1.647519  True  2.757396          0.021405  46.718194\n",
       "2    1.368670  True  5.994871          0.968455   1.032572\n",
       "3   -1.411787  True  1.293661          0.037108  26.948688\n",
       "4    0.558353  True  4.959528          0.814179   1.228231\n",
       "..        ...   ...       ...               ...        ...\n",
       "995  0.191881  True  7.020342          0.644947   1.550515\n",
       "996  0.322923  True  6.596749          0.713357   1.401822\n",
       "997  0.059656  True  5.066586          0.569353   1.756379\n",
       "998 -0.923333  True  5.411143          0.110805   9.024869\n",
       "999 -0.854922  True  5.277082          0.128065   7.808548\n",
       "\n",
       "[1000 rows x 5 columns]"
      ]
     },
     "execution_count": 7,
     "metadata": {},
     "output_type": "execute_result"
    }
   ],
   "source": [
    "cdf_1"
   ]
  },
  {
   "cell_type": "markdown",
   "metadata": {},
   "source": [
    "## Comparing the estimate to Linear Regression\n",
    "First, estimating the effect using the causal data frame, and the 95% confidence interval."
   ]
  },
  {
   "cell_type": "code",
   "execution_count": 8,
   "metadata": {
    "execution": {
     "iopub.execute_input": "2022-12-16T01:12:01.584021Z",
     "iopub.status.busy": "2022-12-16T01:12:01.583687Z",
     "iopub.status.idle": "2022-12-16T01:12:01.641482Z",
     "shell.execute_reply": "2022-12-16T01:12:01.640848Z"
    }
   },
   "outputs": [
    {
     "data": {
      "image/png": "[encoded data removed]",
      "text/latex": [
       "$\\displaystyle 5.19003808626108$"
      ],
      "text/plain": [
       "5.190038086261078"
      ]
     },
     "execution_count": 8,
     "metadata": {},
     "output_type": "execute_result"
    }
   ],
   "source": [
    "(cdf_1['y'] - cdf_0['y']).mean()"
   ]
  },
  {
   "cell_type": "code",
   "execution_count": 9,
   "metadata": {
    "execution": {
     "iopub.execute_input": "2022-12-16T01:12:01.644556Z",
     "iopub.status.busy": "2022-12-16T01:12:01.644191Z",
     "iopub.status.idle": "2022-12-16T01:12:01.666414Z",
     "shell.execute_reply": "2022-12-16T01:12:01.665764Z"
    }
   },
   "outputs": [
    {
     "data": {
      "image/png": "[encoded data removed]",
      "text/latex": [
       "$\\displaystyle 0.127026435526052$"
      ],
      "text/plain": [
       "0.12702643552605175"
      ]
     },
     "execution_count": 9,
     "metadata": {},
     "output_type": "execute_result"
    }
   ],
   "source": [
    "1.96*(cdf_1['y'] - cdf_0['y']).std() / np.sqrt(len(df))"
   ]
  },
  {
   "cell_type": "markdown",
   "metadata": {},
   "source": [
    "Comparing to the estimate from OLS."
   ]
  },
  {
   "cell_type": "code",
   "execution_count": 10,
   "metadata": {
    "execution": {
     "iopub.execute_input": "2022-12-16T01:12:01.669458Z",
     "iopub.status.busy": "2022-12-16T01:12:01.669111Z",
     "iopub.status.idle": "2022-12-16T01:12:01.686728Z",
     "shell.execute_reply": "2022-12-16T01:12:01.686169Z"
    }
   },
   "outputs": [
    {
     "data": {
      "text/html": [
       "<table class=\"simpletable\">\n",
       "<caption>OLS Regression Results</caption>\n",
       "<tr>\n",
       "  <th>Dep. Variable:</th>            <td>y</td>        <th>  R-squared (uncentered):</th>      <td>   0.922</td>\n",
       "</tr>\n",
       "<tr>\n",
       "  <th>Model:</th>                   <td>OLS</td>       <th>  Adj. R-squared (uncentered):</th> <td>   0.922</td>\n",
       "</tr>\n",
       "<tr>\n",
       "  <th>Method:</th>             <td>Least Squares</td>  <th>  F-statistic:       </th>          <td>   5897.</td>\n",
       "</tr>\n",
       "<tr>\n",
       "  <th>Date:</th>             <td>Fri, 16 Dec 2022</td> <th>  Prob (F-statistic):</th>           <td>  0.00</td> \n",
       "</tr>\n",
       "<tr>\n",
       "  <th>Time:</th>                 <td>01:12:01</td>     <th>  Log-Likelihood:    </th>          <td> -1401.7</td>\n",
       "</tr>\n",
       "<tr>\n",
       "  <th>No. Observations:</th>      <td>  1000</td>      <th>  AIC:               </th>          <td>   2807.</td>\n",
       "</tr>\n",
       "<tr>\n",
       "  <th>Df Residuals:</th>          <td>   998</td>      <th>  BIC:               </th>          <td>   2817.</td>\n",
       "</tr>\n",
       "<tr>\n",
       "  <th>Df Model:</th>              <td>     2</td>      <th>                     </th>              <td> </td>   \n",
       "</tr>\n",
       "<tr>\n",
       "  <th>Covariance Type:</th>      <td>nonrobust</td>    <th>                     </th>              <td> </td>   \n",
       "</tr>\n",
       "</table>\n",
       "<table class=\"simpletable\">\n",
       "<tr>\n",
       "   <td></td>     <th>coef</th>     <th>std err</th>      <th>t</th>      <th>P>|t|</th>  <th>[0.025</th>    <th>0.975]</th>  \n",
       "</tr>\n",
       "<tr>\n",
       "  <th>x1</th> <td>    1.1173</td> <td>    0.029</td> <td>   38.787</td> <td> 0.000</td> <td>    1.061</td> <td>    1.174</td>\n",
       "</tr>\n",
       "<tr>\n",
       "  <th>x2</th> <td>    4.9541</td> <td>    0.053</td> <td>   93.163</td> <td> 0.000</td> <td>    4.850</td> <td>    5.058</td>\n",
       "</tr>\n",
       "</table>\n",
       "<table class=\"simpletable\">\n",
       "<tr>\n",
       "  <th>Omnibus:</th>       <td> 1.724</td> <th>  Durbin-Watson:     </th> <td>   2.129</td>\n",
       "</tr>\n",
       "<tr>\n",
       "  <th>Prob(Omnibus):</th> <td> 0.422</td> <th>  Jarque-Bera (JB):  </th> <td>   1.750</td>\n",
       "</tr>\n",
       "<tr>\n",
       "  <th>Skew:</th>          <td>-0.066</td> <th>  Prob(JB):          </th> <td>   0.417</td>\n",
       "</tr>\n",
       "<tr>\n",
       "  <th>Kurtosis:</th>      <td> 2.843</td> <th>  Cond. No.          </th> <td>    1.90</td>\n",
       "</tr>\n",
       "</table><br/><br/>Notes:<br/>[1] R² is computed without centering (uncentered) since the model does not contain a constant.<br/>[2] Standard Errors assume that the covariance matrix of the errors is correctly specified."
      ],
      "text/plain": [
       "<class 'statsmodels.iolib.summary.Summary'>\n",
       "\"\"\"\n",
       "                                 OLS Regression Results                                \n",
       "=======================================================================================\n",
       "Dep. Variable:                      y   R-squared (uncentered):                   0.922\n",
       "Model:                            OLS   Adj. R-squared (uncentered):              0.922\n",
       "Method:                 Least Squares   F-statistic:                              5897.\n",
       "Date:                Fri, 16 Dec 2022   Prob (F-statistic):                        0.00\n",
       "Time:                        01:12:01   Log-Likelihood:                         -1401.7\n",
       "No. Observations:                1000   AIC:                                      2807.\n",
       "Df Residuals:                     998   BIC:                                      2817.\n",
       "Df Model:                           2                                                  \n",
       "Covariance Type:            nonrobust                                                  \n",
       "==============================================================================\n",
       "                 coef    std err          t      P>|t|      [0.025      0.975]\n",
       "------------------------------------------------------------------------------\n",
       "x1             1.1173      0.029     38.787      0.000       1.061       1.174\n",
       "x2             4.9541      0.053     93.163      0.000       4.850       5.058\n",
       "==============================================================================\n",
       "Omnibus:                        1.724   Durbin-Watson:                   2.129\n",
       "Prob(Omnibus):                  0.422   Jarque-Bera (JB):                1.750\n",
       "Skew:                          -0.066   Prob(JB):                        0.417\n",
       "Kurtosis:                       2.843   Cond. No.                         1.90\n",
       "==============================================================================\n",
       "\n",
       "Notes:\n",
       "[1] R² is computed without centering (uncentered) since the model does not contain a constant.\n",
       "[2] Standard Errors assume that the covariance matrix of the errors is correctly specified.\n",
       "\"\"\""
      ]
     },
     "execution_count": 10,
     "metadata": {},
     "output_type": "execute_result"
    }
   ],
   "source": [
    "model = OLS(np.asarray(df[outcome]), np.asarray(df[[common_cause, treatment]], dtype=np.float64))\n",
    "result = model.fit()\n",
    "result.summary()"
   ]
  }
 ],
 "metadata": {
  "kernelspec": {
   "display_name": "Python 3",
   "language": "python",
   "name": "python3"
  },
  "language_info": {
   "codemirror_mode": {
    "name": "ipython",
    "version": 3
   },
   "file_extension": ".py",
   "mimetype": "text/x-python",
   "name": "python",
   "nbconvert_exporter": "python",
   "pygments_lexer": "ipython3",
   "version": "3.8.10"
  },
  "toc": {
   "base_numbering": 1,
   "nav_menu": {},
   "number_sections": false,
   "sideBar": true,
   "skip_h1_title": true,
   "title_cell": "Table of Contents",
   "title_sidebar": "Contents",
   "toc_cell": false,
   "toc_position": {},
   "toc_section_display": true,
   "toc_window_display": false
  }
 },
 "nbformat": 4,
 "nbformat_minor": 4
}
