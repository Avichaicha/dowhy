{
 "cells": [
  {
   "cell_type": "markdown",
   "metadata": {},
   "source": [
    "# Demo for the DoWhy causal API\n",
    "We show a simple example of adding a causal extension to any dataframe. "
   ]
  },
  {
   "cell_type": "code",
   "execution_count": 1,
   "metadata": {
    "execution": {
     "iopub.execute_input": "2022-12-12T09:28:00.460418Z",
     "iopub.status.busy": "2022-12-12T09:28:00.459875Z",
     "iopub.status.idle": "2022-12-12T09:28:02.496844Z",
     "shell.execute_reply": "2022-12-12T09:28:02.496101Z"
    }
   },
   "outputs": [],
   "source": [
    "import dowhy.datasets\n",
    "import dowhy.api\n",
    "\n",
    "import numpy as np\n",
    "import pandas as pd\n",
    "\n",
    "from statsmodels.api import OLS"
   ]
  },
  {
   "cell_type": "code",
   "execution_count": 2,
   "metadata": {
    "execution": {
     "iopub.execute_input": "2022-12-12T09:28:02.500634Z",
     "iopub.status.busy": "2022-12-12T09:28:02.500083Z",
     "iopub.status.idle": "2022-12-12T09:28:02.550389Z",
     "shell.execute_reply": "2022-12-12T09:28:02.549706Z"
    }
   },
   "outputs": [
    {
     "data": {
      "text/html": [
       "<div>\n",
       "<style scoped>\n",
       "    .dataframe tbody tr th:only-of-type {\n",
       "        vertical-align: middle;\n",
       "    }\n",
       "\n",
       "    .dataframe tbody tr th {\n",
       "        vertical-align: top;\n",
       "    }\n",
       "\n",
       "    .dataframe thead th {\n",
       "        text-align: right;\n",
       "    }\n",
       "</style>\n",
       "<table border=\"1\" class=\"dataframe\">\n",
       "  <thead>\n",
       "    <tr style=\"text-align: right;\">\n",
       "      <th></th>\n",
       "      <th>W0</th>\n",
       "      <th>v0</th>\n",
       "      <th>y</th>\n",
       "    </tr>\n",
       "  </thead>\n",
       "  <tbody>\n",
       "    <tr>\n",
       "      <th>0</th>\n",
       "      <td>0.705663</td>\n",
       "      <td>False</td>\n",
       "      <td>2.967907</td>\n",
       "    </tr>\n",
       "    <tr>\n",
       "      <th>1</th>\n",
       "      <td>1.231170</td>\n",
       "      <td>False</td>\n",
       "      <td>3.594875</td>\n",
       "    </tr>\n",
       "    <tr>\n",
       "      <th>2</th>\n",
       "      <td>0.420823</td>\n",
       "      <td>False</td>\n",
       "      <td>0.174293</td>\n",
       "    </tr>\n",
       "    <tr>\n",
       "      <th>3</th>\n",
       "      <td>-0.144315</td>\n",
       "      <td>False</td>\n",
       "      <td>-0.546638</td>\n",
       "    </tr>\n",
       "    <tr>\n",
       "      <th>4</th>\n",
       "      <td>-0.269736</td>\n",
       "      <td>True</td>\n",
       "      <td>2.830733</td>\n",
       "    </tr>\n",
       "    <tr>\n",
       "      <th>...</th>\n",
       "      <td>...</td>\n",
       "      <td>...</td>\n",
       "      <td>...</td>\n",
       "    </tr>\n",
       "    <tr>\n",
       "      <th>995</th>\n",
       "      <td>1.059536</td>\n",
       "      <td>True</td>\n",
       "      <td>9.365435</td>\n",
       "    </tr>\n",
       "    <tr>\n",
       "      <th>996</th>\n",
       "      <td>0.540831</td>\n",
       "      <td>False</td>\n",
       "      <td>1.125915</td>\n",
       "    </tr>\n",
       "    <tr>\n",
       "      <th>997</th>\n",
       "      <td>1.863398</td>\n",
       "      <td>True</td>\n",
       "      <td>10.618004</td>\n",
       "    </tr>\n",
       "    <tr>\n",
       "      <th>998</th>\n",
       "      <td>1.560471</td>\n",
       "      <td>False</td>\n",
       "      <td>3.999277</td>\n",
       "    </tr>\n",
       "    <tr>\n",
       "      <th>999</th>\n",
       "      <td>0.457757</td>\n",
       "      <td>False</td>\n",
       "      <td>1.241343</td>\n",
       "    </tr>\n",
       "  </tbody>\n",
       "</table>\n",
       "<p>1000 rows × 3 columns</p>\n",
       "</div>"
      ],
      "text/plain": [
       "           W0     v0          y\n",
       "0    0.705663  False   2.967907\n",
       "1    1.231170  False   3.594875\n",
       "2    0.420823  False   0.174293\n",
       "3   -0.144315  False  -0.546638\n",
       "4   -0.269736   True   2.830733\n",
       "..        ...    ...        ...\n",
       "995  1.059536   True   9.365435\n",
       "996  0.540831  False   1.125915\n",
       "997  1.863398   True  10.618004\n",
       "998  1.560471  False   3.999277\n",
       "999  0.457757  False   1.241343\n",
       "\n",
       "[1000 rows x 3 columns]"
      ]
     },
     "execution_count": 2,
     "metadata": {},
     "output_type": "execute_result"
    }
   ],
   "source": [
    "data = dowhy.datasets.linear_dataset(beta=5,\n",
    "        num_common_causes=1,\n",
    "        num_instruments = 0,\n",
    "        num_samples=1000,\n",
    "        treatment_is_binary=True)\n",
    "df = data['df']\n",
    "df['y'] = df['y'] + np.random.normal(size=len(df)) # Adding noise to data. Without noise, the variance in Y|X, Z is zero, and mcmc fails.\n",
    "#data['dot_graph'] = 'digraph { v ->y;X0-> v;X0-> y;}'\n",
    "\n",
    "treatment= data[\"treatment_name\"][0]\n",
    "outcome = data[\"outcome_name\"][0]\n",
    "common_cause = data[\"common_causes_names\"][0]\n",
    "df"
   ]
  },
  {
   "cell_type": "code",
   "execution_count": 3,
   "metadata": {
    "execution": {
     "iopub.execute_input": "2022-12-12T09:28:02.553522Z",
     "iopub.status.busy": "2022-12-12T09:28:02.553127Z",
     "iopub.status.idle": "2022-12-12T09:28:02.727112Z",
     "shell.execute_reply": "2022-12-12T09:28:02.726439Z"
    }
   },
   "outputs": [
    {
     "data": {
      "text/plain": [
       "<AxesSubplot: xlabel='v0'>"
      ]
     },
     "execution_count": 3,
     "metadata": {},
     "output_type": "execute_result"
    },
    {
     "data": {
      "image/png": "[encoded data removed]",
      "text/plain": [
       "<Figure size 640x480 with 1 Axes>"
      ]
     },
     "metadata": {},
     "output_type": "display_data"
    }
   ],
   "source": [
    "# data['df'] is just a regular pandas.DataFrame\n",
    "df.causal.do(x=treatment,\n",
    "                     variable_types={treatment: 'b', outcome: 'c', common_cause: 'c'},\n",
    "                     outcome=outcome,\n",
    "                     common_causes=[common_cause],\n",
    "                     proceed_when_unidentifiable=True).groupby(treatment).mean().plot(y=outcome, kind='bar')"
   ]
  },
  {
   "cell_type": "code",
   "execution_count": 4,
   "metadata": {
    "execution": {
     "iopub.execute_input": "2022-12-12T09:28:02.730148Z",
     "iopub.status.busy": "2022-12-12T09:28:02.729752Z",
     "iopub.status.idle": "2022-12-12T09:28:02.861203Z",
     "shell.execute_reply": "2022-12-12T09:28:02.860611Z"
    }
   },
   "outputs": [
    {
     "data": {
      "text/plain": [
       "<AxesSubplot: xlabel='v0'>"
      ]
     },
     "execution_count": 4,
     "metadata": {},
     "output_type": "execute_result"
    },
    {
     "data": {
      "image/png": "[encoded data removed]",
      "text/plain": [
       "<Figure size 640x480 with 1 Axes>"
      ]
     },
     "metadata": {},
     "output_type": "display_data"
    }
   ],
   "source": [
    "df.causal.do(x={treatment: 1}, \n",
    "              variable_types={treatment:'b', outcome: 'c', common_cause: 'c'}, \n",
    "              outcome=outcome,\n",
    "              method='weighting', \n",
    "              common_causes=[common_cause],\n",
    "              proceed_when_unidentifiable=True).groupby(treatment).mean().plot(y=outcome, kind='bar')"
   ]
  },
  {
   "cell_type": "code",
   "execution_count": 5,
   "metadata": {
    "execution": {
     "iopub.execute_input": "2022-12-12T09:28:02.864407Z",
     "iopub.status.busy": "2022-12-12T09:28:02.863821Z",
     "iopub.status.idle": "2022-12-12T09:28:02.897198Z",
     "shell.execute_reply": "2022-12-12T09:28:02.896527Z"
    }
   },
   "outputs": [],
   "source": [
    "cdf_1 = df.causal.do(x={treatment: 1}, \n",
    "              variable_types={treatment: 'b', outcome: 'c', common_cause: 'c'}, \n",
    "              outcome=outcome, \n",
    "              dot_graph=data['dot_graph'],\n",
    "              proceed_when_unidentifiable=True)\n",
    "\n",
    "cdf_0 = df.causal.do(x={treatment: 0}, \n",
    "              variable_types={treatment: 'b', outcome: 'c', common_cause: 'c'}, \n",
    "              outcome=outcome, \n",
    "              dot_graph=data['dot_graph'],\n",
    "              proceed_when_unidentifiable=True)\n"
   ]
  },
  {
   "cell_type": "code",
   "execution_count": 6,
   "metadata": {
    "execution": {
     "iopub.execute_input": "2022-12-12T09:28:02.900695Z",
     "iopub.status.busy": "2022-12-12T09:28:02.900308Z",
     "iopub.status.idle": "2022-12-12T09:28:02.911166Z",
     "shell.execute_reply": "2022-12-12T09:28:02.910525Z"
    },
    "scrolled": true
   },
   "outputs": [
    {
     "data": {
      "text/html": [
       "<div>\n",
       "<style scoped>\n",
       "    .dataframe tbody tr th:only-of-type {\n",
       "        vertical-align: middle;\n",
       "    }\n",
       "\n",
       "    .dataframe tbody tr th {\n",
       "        vertical-align: top;\n",
       "    }\n",
       "\n",
       "    .dataframe thead th {\n",
       "        text-align: right;\n",
       "    }\n",
       "</style>\n",
       "<table border=\"1\" class=\"dataframe\">\n",
       "  <thead>\n",
       "    <tr style=\"text-align: right;\">\n",
       "      <th></th>\n",
       "      <th>W0</th>\n",
       "      <th>v0</th>\n",
       "      <th>y</th>\n",
       "      <th>propensity_score</th>\n",
       "      <th>weight</th>\n",
       "    </tr>\n",
       "  </thead>\n",
       "  <tbody>\n",
       "    <tr>\n",
       "      <th>0</th>\n",
       "      <td>-0.492526</td>\n",
       "      <td>False</td>\n",
       "      <td>-1.876781</td>\n",
       "      <td>0.487027</td>\n",
       "      <td>2.053275</td>\n",
       "    </tr>\n",
       "    <tr>\n",
       "      <th>1</th>\n",
       "      <td>0.778173</td>\n",
       "      <td>False</td>\n",
       "      <td>1.900353</td>\n",
       "      <td>0.426077</td>\n",
       "      <td>2.346995</td>\n",
       "    </tr>\n",
       "    <tr>\n",
       "      <th>2</th>\n",
       "      <td>1.221873</td>\n",
       "      <td>False</td>\n",
       "      <td>2.604180</td>\n",
       "      <td>0.405219</td>\n",
       "      <td>2.467799</td>\n",
       "    </tr>\n",
       "    <tr>\n",
       "      <th>3</th>\n",
       "      <td>1.650736</td>\n",
       "      <td>False</td>\n",
       "      <td>6.233594</td>\n",
       "      <td>0.385379</td>\n",
       "      <td>2.594850</td>\n",
       "    </tr>\n",
       "    <tr>\n",
       "      <th>4</th>\n",
       "      <td>0.064968</td>\n",
       "      <td>False</td>\n",
       "      <td>-0.537042</td>\n",
       "      <td>0.460130</td>\n",
       "      <td>2.173300</td>\n",
       "    </tr>\n",
       "    <tr>\n",
       "      <th>...</th>\n",
       "      <td>...</td>\n",
       "      <td>...</td>\n",
       "      <td>...</td>\n",
       "      <td>...</td>\n",
       "      <td>...</td>\n",
       "    </tr>\n",
       "    <tr>\n",
       "      <th>995</th>\n",
       "      <td>1.182737</td>\n",
       "      <td>False</td>\n",
       "      <td>3.787311</td>\n",
       "      <td>0.407047</td>\n",
       "      <td>2.456722</td>\n",
       "    </tr>\n",
       "    <tr>\n",
       "      <th>996</th>\n",
       "      <td>0.014787</td>\n",
       "      <td>False</td>\n",
       "      <td>1.398110</td>\n",
       "      <td>0.462544</td>\n",
       "      <td>2.161958</td>\n",
       "    </tr>\n",
       "    <tr>\n",
       "      <th>997</th>\n",
       "      <td>-0.078052</td>\n",
       "      <td>False</td>\n",
       "      <td>-0.894837</td>\n",
       "      <td>0.467014</td>\n",
       "      <td>2.141263</td>\n",
       "    </tr>\n",
       "    <tr>\n",
       "      <th>998</th>\n",
       "      <td>-1.561230</td>\n",
       "      <td>False</td>\n",
       "      <td>-5.771837</td>\n",
       "      <td>0.538664</td>\n",
       "      <td>1.856444</td>\n",
       "    </tr>\n",
       "    <tr>\n",
       "      <th>999</th>\n",
       "      <td>3.894804</td>\n",
       "      <td>False</td>\n",
       "      <td>9.384833</td>\n",
       "      <td>0.288810</td>\n",
       "      <td>3.462478</td>\n",
       "    </tr>\n",
       "  </tbody>\n",
       "</table>\n",
       "<p>1000 rows × 5 columns</p>\n",
       "</div>"
      ],
      "text/plain": [
       "           W0     v0         y  propensity_score    weight\n",
       "0   -0.492526  False -1.876781          0.487027  2.053275\n",
       "1    0.778173  False  1.900353          0.426077  2.346995\n",
       "2    1.221873  False  2.604180          0.405219  2.467799\n",
       "3    1.650736  False  6.233594          0.385379  2.594850\n",
       "4    0.064968  False -0.537042          0.460130  2.173300\n",
       "..        ...    ...       ...               ...       ...\n",
       "995  1.182737  False  3.787311          0.407047  2.456722\n",
       "996  0.014787  False  1.398110          0.462544  2.161958\n",
       "997 -0.078052  False -0.894837          0.467014  2.141263\n",
       "998 -1.561230  False -5.771837          0.538664  1.856444\n",
       "999  3.894804  False  9.384833          0.288810  3.462478\n",
       "\n",
       "[1000 rows x 5 columns]"
      ]
     },
     "execution_count": 6,
     "metadata": {},
     "output_type": "execute_result"
    }
   ],
   "source": [
    "cdf_0"
   ]
  },
  {
   "cell_type": "code",
   "execution_count": 7,
   "metadata": {
    "execution": {
     "iopub.execute_input": "2022-12-12T09:28:02.914833Z",
     "iopub.status.busy": "2022-12-12T09:28:02.914378Z",
     "iopub.status.idle": "2022-12-12T09:28:02.924646Z",
     "shell.execute_reply": "2022-12-12T09:28:02.924010Z"
    }
   },
   "outputs": [
    {
     "data": {
      "text/html": [
       "<div>\n",
       "<style scoped>\n",
       "    .dataframe tbody tr th:only-of-type {\n",
       "        vertical-align: middle;\n",
       "    }\n",
       "\n",
       "    .dataframe tbody tr th {\n",
       "        vertical-align: top;\n",
       "    }\n",
       "\n",
       "    .dataframe thead th {\n",
       "        text-align: right;\n",
       "    }\n",
       "</style>\n",
       "<table border=\"1\" class=\"dataframe\">\n",
       "  <thead>\n",
       "    <tr style=\"text-align: right;\">\n",
       "      <th></th>\n",
       "      <th>W0</th>\n",
       "      <th>v0</th>\n",
       "      <th>y</th>\n",
       "      <th>propensity_score</th>\n",
       "      <th>weight</th>\n",
       "    </tr>\n",
       "  </thead>\n",
       "  <tbody>\n",
       "    <tr>\n",
       "      <th>0</th>\n",
       "      <td>0.669864</td>\n",
       "      <td>True</td>\n",
       "      <td>5.912730</td>\n",
       "      <td>0.568789</td>\n",
       "      <td>1.758122</td>\n",
       "    </tr>\n",
       "    <tr>\n",
       "      <th>1</th>\n",
       "      <td>0.334673</td>\n",
       "      <td>True</td>\n",
       "      <td>6.343450</td>\n",
       "      <td>0.552809</td>\n",
       "      <td>1.808943</td>\n",
       "    </tr>\n",
       "    <tr>\n",
       "      <th>2</th>\n",
       "      <td>0.299525</td>\n",
       "      <td>True</td>\n",
       "      <td>5.505543</td>\n",
       "      <td>0.551127</td>\n",
       "      <td>1.814465</td>\n",
       "    </tr>\n",
       "    <tr>\n",
       "      <th>3</th>\n",
       "      <td>0.932158</td>\n",
       "      <td>True</td>\n",
       "      <td>6.693782</td>\n",
       "      <td>0.581196</td>\n",
       "      <td>1.720591</td>\n",
       "    </tr>\n",
       "    <tr>\n",
       "      <th>4</th>\n",
       "      <td>0.194685</td>\n",
       "      <td>True</td>\n",
       "      <td>6.309244</td>\n",
       "      <td>0.546101</td>\n",
       "      <td>1.831163</td>\n",
       "    </tr>\n",
       "    <tr>\n",
       "      <th>...</th>\n",
       "      <td>...</td>\n",
       "      <td>...</td>\n",
       "      <td>...</td>\n",
       "      <td>...</td>\n",
       "      <td>...</td>\n",
       "    </tr>\n",
       "    <tr>\n",
       "      <th>995</th>\n",
       "      <td>-0.260626</td>\n",
       "      <td>True</td>\n",
       "      <td>3.062064</td>\n",
       "      <td>0.524180</td>\n",
       "      <td>1.907743</td>\n",
       "    </tr>\n",
       "    <tr>\n",
       "      <th>996</th>\n",
       "      <td>0.646505</td>\n",
       "      <td>True</td>\n",
       "      <td>3.149339</td>\n",
       "      <td>0.567679</td>\n",
       "      <td>1.761558</td>\n",
       "    </tr>\n",
       "    <tr>\n",
       "      <th>997</th>\n",
       "      <td>1.944469</td>\n",
       "      <td>True</td>\n",
       "      <td>10.587631</td>\n",
       "      <td>0.627998</td>\n",
       "      <td>1.592361</td>\n",
       "    </tr>\n",
       "    <tr>\n",
       "      <th>998</th>\n",
       "      <td>2.336485</td>\n",
       "      <td>True</td>\n",
       "      <td>10.701574</td>\n",
       "      <td>0.645547</td>\n",
       "      <td>1.549074</td>\n",
       "    </tr>\n",
       "    <tr>\n",
       "      <th>999</th>\n",
       "      <td>2.091571</td>\n",
       "      <td>True</td>\n",
       "      <td>11.816192</td>\n",
       "      <td>0.634626</td>\n",
       "      <td>1.575732</td>\n",
       "    </tr>\n",
       "  </tbody>\n",
       "</table>\n",
       "<p>1000 rows × 5 columns</p>\n",
       "</div>"
      ],
      "text/plain": [
       "           W0    v0          y  propensity_score    weight\n",
       "0    0.669864  True   5.912730          0.568789  1.758122\n",
       "1    0.334673  True   6.343450          0.552809  1.808943\n",
       "2    0.299525  True   5.505543          0.551127  1.814465\n",
       "3    0.932158  True   6.693782          0.581196  1.720591\n",
       "4    0.194685  True   6.309244          0.546101  1.831163\n",
       "..        ...   ...        ...               ...       ...\n",
       "995 -0.260626  True   3.062064          0.524180  1.907743\n",
       "996  0.646505  True   3.149339          0.567679  1.761558\n",
       "997  1.944469  True  10.587631          0.627998  1.592361\n",
       "998  2.336485  True  10.701574          0.645547  1.549074\n",
       "999  2.091571  True  11.816192          0.634626  1.575732\n",
       "\n",
       "[1000 rows x 5 columns]"
      ]
     },
     "execution_count": 7,
     "metadata": {},
     "output_type": "execute_result"
    }
   ],
   "source": [
    "cdf_1"
   ]
  },
  {
   "cell_type": "markdown",
   "metadata": {},
   "source": [
    "## Comparing the estimate to Linear Regression\n",
    "First, estimating the effect using the causal data frame, and the 95% confidence interval."
   ]
  },
  {
   "cell_type": "code",
   "execution_count": 8,
   "metadata": {
    "execution": {
     "iopub.execute_input": "2022-12-12T09:28:02.928291Z",
     "iopub.status.busy": "2022-12-12T09:28:02.927765Z",
     "iopub.status.idle": "2022-12-12T09:28:02.986673Z",
     "shell.execute_reply": "2022-12-12T09:28:02.985901Z"
    }
   },
   "outputs": [
    {
     "data": {
      "image/png": "[encoded data removed]",
      "text/latex": [
       "$\\displaystyle 5.07025030495185$"
      ],
      "text/plain": [
       "5.070250304951848"
      ]
     },
     "execution_count": 8,
     "metadata": {},
     "output_type": "execute_result"
    }
   ],
   "source": [
    "(cdf_1['y'] - cdf_0['y']).mean()"
   ]
  },
  {
   "cell_type": "code",
   "execution_count": 9,
   "metadata": {
    "execution": {
     "iopub.execute_input": "2022-12-12T09:28:02.989966Z",
     "iopub.status.busy": "2022-12-12T09:28:02.989416Z",
     "iopub.status.idle": "2022-12-12T09:28:03.010291Z",
     "shell.execute_reply": "2022-12-12T09:28:03.009579Z"
    }
   },
   "outputs": [
    {
     "data": {
      "image/png": "[encoded data removed]",
      "text/latex": [
       "$\\displaystyle 0.272862033844107$"
      ],
      "text/plain": [
       "0.27286203384410673"
      ]
     },
     "execution_count": 9,
     "metadata": {},
     "output_type": "execute_result"
    }
   ],
   "source": [
    "1.96*(cdf_1['y'] - cdf_0['y']).std() / np.sqrt(len(df))"
   ]
  },
  {
   "cell_type": "markdown",
   "metadata": {},
   "source": [
    "Comparing to the estimate from OLS."
   ]
  },
  {
   "cell_type": "code",
   "execution_count": 10,
   "metadata": {
    "execution": {
     "iopub.execute_input": "2022-12-12T09:28:03.013701Z",
     "iopub.status.busy": "2022-12-12T09:28:03.013317Z",
     "iopub.status.idle": "2022-12-12T09:28:03.030287Z",
     "shell.execute_reply": "2022-12-12T09:28:03.029604Z"
    }
   },
   "outputs": [
    {
     "data": {
      "text/html": [
       "<table class=\"simpletable\">\n",
       "<caption>OLS Regression Results</caption>\n",
       "<tr>\n",
       "  <th>Dep. Variable:</th>            <td>y</td>        <th>  R-squared (uncentered):</th>      <td>   0.981</td> \n",
       "</tr>\n",
       "<tr>\n",
       "  <th>Model:</th>                   <td>OLS</td>       <th>  Adj. R-squared (uncentered):</th> <td>   0.981</td> \n",
       "</tr>\n",
       "<tr>\n",
       "  <th>Method:</th>             <td>Least Squares</td>  <th>  F-statistic:       </th>          <td>2.561e+04</td>\n",
       "</tr>\n",
       "<tr>\n",
       "  <th>Date:</th>             <td>Mon, 12 Dec 2022</td> <th>  Prob (F-statistic):</th>           <td>  0.00</td>  \n",
       "</tr>\n",
       "<tr>\n",
       "  <th>Time:</th>                 <td>09:28:03</td>     <th>  Log-Likelihood:    </th>          <td> -1386.1</td> \n",
       "</tr>\n",
       "<tr>\n",
       "  <th>No. Observations:</th>      <td>  1000</td>      <th>  AIC:               </th>          <td>   2776.</td> \n",
       "</tr>\n",
       "<tr>\n",
       "  <th>Df Residuals:</th>          <td>   998</td>      <th>  BIC:               </th>          <td>   2786.</td> \n",
       "</tr>\n",
       "<tr>\n",
       "  <th>Df Model:</th>              <td>     2</td>      <th>                     </th>              <td> </td>    \n",
       "</tr>\n",
       "<tr>\n",
       "  <th>Covariance Type:</th>      <td>nonrobust</td>    <th>                     </th>              <td> </td>    \n",
       "</tr>\n",
       "</table>\n",
       "<table class=\"simpletable\">\n",
       "<tr>\n",
       "   <td></td>     <th>coef</th>     <th>std err</th>      <th>t</th>      <th>P>|t|</th>  <th>[0.025</th>    <th>0.975]</th>  \n",
       "</tr>\n",
       "<tr>\n",
       "  <th>x1</th> <td>    2.9435</td> <td>    0.027</td> <td>  108.953</td> <td> 0.000</td> <td>    2.890</td> <td>    2.996</td>\n",
       "</tr>\n",
       "<tr>\n",
       "  <th>x2</th> <td>    5.0208</td> <td>    0.049</td> <td>  103.458</td> <td> 0.000</td> <td>    4.926</td> <td>    5.116</td>\n",
       "</tr>\n",
       "</table>\n",
       "<table class=\"simpletable\">\n",
       "<tr>\n",
       "  <th>Omnibus:</th>       <td> 0.684</td> <th>  Durbin-Watson:     </th> <td>   1.942</td>\n",
       "</tr>\n",
       "<tr>\n",
       "  <th>Prob(Omnibus):</th> <td> 0.710</td> <th>  Jarque-Bera (JB):  </th> <td>   0.766</td>\n",
       "</tr>\n",
       "<tr>\n",
       "  <th>Skew:</th>          <td>-0.030</td> <th>  Prob(JB):          </th> <td>   0.682</td>\n",
       "</tr>\n",
       "<tr>\n",
       "  <th>Kurtosis:</th>      <td> 2.878</td> <th>  Cond. No.          </th> <td>    2.43</td>\n",
       "</tr>\n",
       "</table><br/><br/>Notes:<br/>[1] R² is computed without centering (uncentered) since the model does not contain a constant.<br/>[2] Standard Errors assume that the covariance matrix of the errors is correctly specified."
      ],
      "text/plain": [
       "<class 'statsmodels.iolib.summary.Summary'>\n",
       "\"\"\"\n",
       "                                 OLS Regression Results                                \n",
       "=======================================================================================\n",
       "Dep. Variable:                      y   R-squared (uncentered):                   0.981\n",
       "Model:                            OLS   Adj. R-squared (uncentered):              0.981\n",
       "Method:                 Least Squares   F-statistic:                          2.561e+04\n",
       "Date:                Mon, 12 Dec 2022   Prob (F-statistic):                        0.00\n",
       "Time:                        09:28:03   Log-Likelihood:                         -1386.1\n",
       "No. Observations:                1000   AIC:                                      2776.\n",
       "Df Residuals:                     998   BIC:                                      2786.\n",
       "Df Model:                           2                                                  \n",
       "Covariance Type:            nonrobust                                                  \n",
       "==============================================================================\n",
       "                 coef    std err          t      P>|t|      [0.025      0.975]\n",
       "------------------------------------------------------------------------------\n",
       "x1             2.9435      0.027    108.953      0.000       2.890       2.996\n",
       "x2             5.0208      0.049    103.458      0.000       4.926       5.116\n",
       "==============================================================================\n",
       "Omnibus:                        0.684   Durbin-Watson:                   1.942\n",
       "Prob(Omnibus):                  0.710   Jarque-Bera (JB):                0.766\n",
       "Skew:                          -0.030   Prob(JB):                        0.682\n",
       "Kurtosis:                       2.878   Cond. No.                         2.43\n",
       "==============================================================================\n",
       "\n",
       "Notes:\n",
       "[1] R² is computed without centering (uncentered) since the model does not contain a constant.\n",
       "[2] Standard Errors assume that the covariance matrix of the errors is correctly specified.\n",
       "\"\"\""
      ]
     },
     "execution_count": 10,
     "metadata": {},
     "output_type": "execute_result"
    }
   ],
   "source": [
    "model = OLS(np.asarray(df[outcome]), np.asarray(df[[common_cause, treatment]], dtype=np.float64))\n",
    "result = model.fit()\n",
    "result.summary()"
   ]
  }
 ],
 "metadata": {
  "kernelspec": {
   "display_name": "Python 3",
   "language": "python",
   "name": "python3"
  },
  "language_info": {
   "codemirror_mode": {
    "name": "ipython",
    "version": 3
   },
   "file_extension": ".py",
   "mimetype": "text/x-python",
   "name": "python",
   "nbconvert_exporter": "python",
   "pygments_lexer": "ipython3",
   "version": "3.8.10"
  },
  "toc": {
   "base_numbering": 1,
   "nav_menu": {},
   "number_sections": false,
   "sideBar": true,
   "skip_h1_title": true,
   "title_cell": "Table of Contents",
   "title_sidebar": "Contents",
   "toc_cell": false,
   "toc_position": {},
   "toc_section_display": true,
   "toc_window_display": false
  }
 },
 "nbformat": 4,
 "nbformat_minor": 4
}
