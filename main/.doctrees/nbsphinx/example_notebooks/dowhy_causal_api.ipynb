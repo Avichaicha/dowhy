{
 "cells": [
  {
   "cell_type": "markdown",
   "metadata": {},
   "source": [
    "# Demo for the DoWhy causal API\n",
    "We show a simple example of adding a causal extension to any dataframe. "
   ]
  },
  {
   "cell_type": "code",
   "execution_count": 1,
   "metadata": {
    "execution": {
     "iopub.execute_input": "2022-11-14T22:17:14.129012Z",
     "iopub.status.busy": "2022-11-14T22:17:14.128309Z",
     "iopub.status.idle": "2022-11-14T22:17:16.755436Z",
     "shell.execute_reply": "2022-11-14T22:17:16.754618Z"
    }
   },
   "outputs": [],
   "source": [
    "import dowhy.datasets\n",
    "import dowhy.api\n",
    "\n",
    "import numpy as np\n",
    "import pandas as pd\n",
    "\n",
    "from statsmodels.api import OLS"
   ]
  },
  {
   "cell_type": "code",
   "execution_count": 2,
   "metadata": {
    "execution": {
     "iopub.execute_input": "2022-11-14T22:17:16.760215Z",
     "iopub.status.busy": "2022-11-14T22:17:16.759411Z",
     "iopub.status.idle": "2022-11-14T22:17:16.815438Z",
     "shell.execute_reply": "2022-11-14T22:17:16.814551Z"
    }
   },
   "outputs": [
    {
     "data": {
      "text/html": [
       "<div>\n",
       "<style scoped>\n",
       "    .dataframe tbody tr th:only-of-type {\n",
       "        vertical-align: middle;\n",
       "    }\n",
       "\n",
       "    .dataframe tbody tr th {\n",
       "        vertical-align: top;\n",
       "    }\n",
       "\n",
       "    .dataframe thead th {\n",
       "        text-align: right;\n",
       "    }\n",
       "</style>\n",
       "<table border=\"1\" class=\"dataframe\">\n",
       "  <thead>\n",
       "    <tr style=\"text-align: right;\">\n",
       "      <th></th>\n",
       "      <th>W0</th>\n",
       "      <th>v0</th>\n",
       "      <th>y</th>\n",
       "    </tr>\n",
       "  </thead>\n",
       "  <tbody>\n",
       "    <tr>\n",
       "      <th>0</th>\n",
       "      <td>0.233095</td>\n",
       "      <td>False</td>\n",
       "      <td>0.051793</td>\n",
       "    </tr>\n",
       "    <tr>\n",
       "      <th>1</th>\n",
       "      <td>0.154879</td>\n",
       "      <td>True</td>\n",
       "      <td>5.624716</td>\n",
       "    </tr>\n",
       "    <tr>\n",
       "      <th>2</th>\n",
       "      <td>-2.053761</td>\n",
       "      <td>False</td>\n",
       "      <td>-2.132995</td>\n",
       "    </tr>\n",
       "    <tr>\n",
       "      <th>3</th>\n",
       "      <td>-1.521739</td>\n",
       "      <td>False</td>\n",
       "      <td>-1.203009</td>\n",
       "    </tr>\n",
       "    <tr>\n",
       "      <th>4</th>\n",
       "      <td>1.293783</td>\n",
       "      <td>False</td>\n",
       "      <td>0.259044</td>\n",
       "    </tr>\n",
       "    <tr>\n",
       "      <th>...</th>\n",
       "      <td>...</td>\n",
       "      <td>...</td>\n",
       "      <td>...</td>\n",
       "    </tr>\n",
       "    <tr>\n",
       "      <th>995</th>\n",
       "      <td>-0.448207</td>\n",
       "      <td>False</td>\n",
       "      <td>0.005774</td>\n",
       "    </tr>\n",
       "    <tr>\n",
       "      <th>996</th>\n",
       "      <td>-0.438602</td>\n",
       "      <td>True</td>\n",
       "      <td>4.766975</td>\n",
       "    </tr>\n",
       "    <tr>\n",
       "      <th>997</th>\n",
       "      <td>-0.330386</td>\n",
       "      <td>True</td>\n",
       "      <td>3.057610</td>\n",
       "    </tr>\n",
       "    <tr>\n",
       "      <th>998</th>\n",
       "      <td>-0.866487</td>\n",
       "      <td>False</td>\n",
       "      <td>-0.671404</td>\n",
       "    </tr>\n",
       "    <tr>\n",
       "      <th>999</th>\n",
       "      <td>-1.789490</td>\n",
       "      <td>False</td>\n",
       "      <td>-0.412190</td>\n",
       "    </tr>\n",
       "  </tbody>\n",
       "</table>\n",
       "<p>1000 rows × 3 columns</p>\n",
       "</div>"
      ],
      "text/plain": [
       "           W0     v0         y\n",
       "0    0.233095  False  0.051793\n",
       "1    0.154879   True  5.624716\n",
       "2   -2.053761  False -2.132995\n",
       "3   -1.521739  False -1.203009\n",
       "4    1.293783  False  0.259044\n",
       "..        ...    ...       ...\n",
       "995 -0.448207  False  0.005774\n",
       "996 -0.438602   True  4.766975\n",
       "997 -0.330386   True  3.057610\n",
       "998 -0.866487  False -0.671404\n",
       "999 -1.789490  False -0.412190\n",
       "\n",
       "[1000 rows x 3 columns]"
      ]
     },
     "execution_count": 2,
     "metadata": {},
     "output_type": "execute_result"
    }
   ],
   "source": [
    "data = dowhy.datasets.linear_dataset(beta=5,\n",
    "        num_common_causes=1,\n",
    "        num_instruments = 0,\n",
    "        num_samples=1000,\n",
    "        treatment_is_binary=True)\n",
    "df = data['df']\n",
    "df['y'] = df['y'] + np.random.normal(size=len(df)) # Adding noise to data. Without noise, the variance in Y|X, Z is zero, and mcmc fails.\n",
    "#data['dot_graph'] = 'digraph { v ->y;X0-> v;X0-> y;}'\n",
    "\n",
    "treatment= data[\"treatment_name\"][0]\n",
    "outcome = data[\"outcome_name\"][0]\n",
    "common_cause = data[\"common_causes_names\"][0]\n",
    "df"
   ]
  },
  {
   "cell_type": "code",
   "execution_count": 3,
   "metadata": {
    "execution": {
     "iopub.execute_input": "2022-11-14T22:17:16.819415Z",
     "iopub.status.busy": "2022-11-14T22:17:16.818933Z",
     "iopub.status.idle": "2022-11-14T22:17:17.007659Z",
     "shell.execute_reply": "2022-11-14T22:17:17.006869Z"
    }
   },
   "outputs": [
    {
     "data": {
      "text/plain": [
       "<AxesSubplot: xlabel='v0'>"
      ]
     },
     "execution_count": 3,
     "metadata": {},
     "output_type": "execute_result"
    },
    {
     "data": {
      "image/png": "[encoded data removed]",
      "text/plain": [
       "<Figure size 640x480 with 1 Axes>"
      ]
     },
     "metadata": {},
     "output_type": "display_data"
    }
   ],
   "source": [
    "# data['df'] is just a regular pandas.DataFrame\n",
    "df.causal.do(x=treatment,\n",
    "                     variable_types={treatment: 'b', outcome: 'c', common_cause: 'c'},\n",
    "                     outcome=outcome,\n",
    "                     common_causes=[common_cause],\n",
    "                     proceed_when_unidentifiable=True).groupby(treatment).mean().plot(y=outcome, kind='bar')"
   ]
  },
  {
   "cell_type": "code",
   "execution_count": 4,
   "metadata": {
    "execution": {
     "iopub.execute_input": "2022-11-14T22:17:17.011643Z",
     "iopub.status.busy": "2022-11-14T22:17:17.011334Z",
     "iopub.status.idle": "2022-11-14T22:17:17.148387Z",
     "shell.execute_reply": "2022-11-14T22:17:17.147752Z"
    }
   },
   "outputs": [
    {
     "data": {
      "text/plain": [
       "<AxesSubplot: xlabel='v0'>"
      ]
     },
     "execution_count": 4,
     "metadata": {},
     "output_type": "execute_result"
    },
    {
     "data": {
      "image/png": "[encoded data removed]",
      "text/plain": [
       "<Figure size 640x480 with 1 Axes>"
      ]
     },
     "metadata": {},
     "output_type": "display_data"
    }
   ],
   "source": [
    "df.causal.do(x={treatment: 1}, \n",
    "              variable_types={treatment:'b', outcome: 'c', common_cause: 'c'}, \n",
    "              outcome=outcome,\n",
    "              method='weighting', \n",
    "              common_causes=[common_cause],\n",
    "              proceed_when_unidentifiable=True).groupby(treatment).mean().plot(y=outcome, kind='bar')"
   ]
  },
  {
   "cell_type": "code",
   "execution_count": 5,
   "metadata": {
    "execution": {
     "iopub.execute_input": "2022-11-14T22:17:17.152462Z",
     "iopub.status.busy": "2022-11-14T22:17:17.151912Z",
     "iopub.status.idle": "2022-11-14T22:17:17.188906Z",
     "shell.execute_reply": "2022-11-14T22:17:17.188169Z"
    }
   },
   "outputs": [],
   "source": [
    "cdf_1 = df.causal.do(x={treatment: 1}, \n",
    "              variable_types={treatment: 'b', outcome: 'c', common_cause: 'c'}, \n",
    "              outcome=outcome, \n",
    "              dot_graph=data['dot_graph'],\n",
    "              proceed_when_unidentifiable=True)\n",
    "\n",
    "cdf_0 = df.causal.do(x={treatment: 0}, \n",
    "              variable_types={treatment: 'b', outcome: 'c', common_cause: 'c'}, \n",
    "              outcome=outcome, \n",
    "              dot_graph=data['dot_graph'],\n",
    "              proceed_when_unidentifiable=True)\n"
   ]
  },
  {
   "cell_type": "code",
   "execution_count": 6,
   "metadata": {
    "execution": {
     "iopub.execute_input": "2022-11-14T22:17:17.193131Z",
     "iopub.status.busy": "2022-11-14T22:17:17.192327Z",
     "iopub.status.idle": "2022-11-14T22:17:17.210780Z",
     "shell.execute_reply": "2022-11-14T22:17:17.210088Z"
    },
    "scrolled": true
   },
   "outputs": [
    {
     "data": {
      "text/html": [
       "<div>\n",
       "<style scoped>\n",
       "    .dataframe tbody tr th:only-of-type {\n",
       "        vertical-align: middle;\n",
       "    }\n",
       "\n",
       "    .dataframe tbody tr th {\n",
       "        vertical-align: top;\n",
       "    }\n",
       "\n",
       "    .dataframe thead th {\n",
       "        text-align: right;\n",
       "    }\n",
       "</style>\n",
       "<table border=\"1\" class=\"dataframe\">\n",
       "  <thead>\n",
       "    <tr style=\"text-align: right;\">\n",
       "      <th></th>\n",
       "      <th>W0</th>\n",
       "      <th>v0</th>\n",
       "      <th>y</th>\n",
       "      <th>propensity_score</th>\n",
       "      <th>weight</th>\n",
       "    </tr>\n",
       "  </thead>\n",
       "  <tbody>\n",
       "    <tr>\n",
       "      <th>0</th>\n",
       "      <td>-0.125816</td>\n",
       "      <td>False</td>\n",
       "      <td>-0.656390</td>\n",
       "      <td>0.524950</td>\n",
       "      <td>1.904944</td>\n",
       "    </tr>\n",
       "    <tr>\n",
       "      <th>1</th>\n",
       "      <td>-0.128129</td>\n",
       "      <td>False</td>\n",
       "      <td>-0.502759</td>\n",
       "      <td>0.525326</td>\n",
       "      <td>1.903578</td>\n",
       "    </tr>\n",
       "    <tr>\n",
       "      <th>2</th>\n",
       "      <td>-0.131679</td>\n",
       "      <td>False</td>\n",
       "      <td>1.249694</td>\n",
       "      <td>0.525905</td>\n",
       "      <td>1.901486</td>\n",
       "    </tr>\n",
       "    <tr>\n",
       "      <th>3</th>\n",
       "      <td>2.223567</td>\n",
       "      <td>False</td>\n",
       "      <td>0.993158</td>\n",
       "      <td>0.192413</td>\n",
       "      <td>5.197145</td>\n",
       "    </tr>\n",
       "    <tr>\n",
       "      <th>4</th>\n",
       "      <td>-2.612855</td>\n",
       "      <td>False</td>\n",
       "      <td>-2.785503</td>\n",
       "      <td>0.848652</td>\n",
       "      <td>1.178339</td>\n",
       "    </tr>\n",
       "    <tr>\n",
       "      <th>...</th>\n",
       "      <td>...</td>\n",
       "      <td>...</td>\n",
       "      <td>...</td>\n",
       "      <td>...</td>\n",
       "      <td>...</td>\n",
       "    </tr>\n",
       "    <tr>\n",
       "      <th>995</th>\n",
       "      <td>-1.199767</td>\n",
       "      <td>False</td>\n",
       "      <td>-1.369316</td>\n",
       "      <td>0.690239</td>\n",
       "      <td>1.448774</td>\n",
       "    </tr>\n",
       "    <tr>\n",
       "      <th>996</th>\n",
       "      <td>-1.174155</td>\n",
       "      <td>False</td>\n",
       "      <td>-0.979949</td>\n",
       "      <td>0.686651</td>\n",
       "      <td>1.456343</td>\n",
       "    </tr>\n",
       "    <tr>\n",
       "      <th>997</th>\n",
       "      <td>-0.895137</td>\n",
       "      <td>False</td>\n",
       "      <td>1.037601</td>\n",
       "      <td>0.646181</td>\n",
       "      <td>1.547554</td>\n",
       "    </tr>\n",
       "    <tr>\n",
       "      <th>998</th>\n",
       "      <td>0.054776</td>\n",
       "      <td>False</td>\n",
       "      <td>2.115230</td>\n",
       "      <td>0.495486</td>\n",
       "      <td>2.018219</td>\n",
       "    </tr>\n",
       "    <tr>\n",
       "      <th>999</th>\n",
       "      <td>-1.021145</td>\n",
       "      <td>False</td>\n",
       "      <td>-0.593060</td>\n",
       "      <td>0.664761</td>\n",
       "      <td>1.504299</td>\n",
       "    </tr>\n",
       "  </tbody>\n",
       "</table>\n",
       "<p>1000 rows × 5 columns</p>\n",
       "</div>"
      ],
      "text/plain": [
       "           W0     v0         y  propensity_score    weight\n",
       "0   -0.125816  False -0.656390          0.524950  1.904944\n",
       "1   -0.128129  False -0.502759          0.525326  1.903578\n",
       "2   -0.131679  False  1.249694          0.525905  1.901486\n",
       "3    2.223567  False  0.993158          0.192413  5.197145\n",
       "4   -2.612855  False -2.785503          0.848652  1.178339\n",
       "..        ...    ...       ...               ...       ...\n",
       "995 -1.199767  False -1.369316          0.690239  1.448774\n",
       "996 -1.174155  False -0.979949          0.686651  1.456343\n",
       "997 -0.895137  False  1.037601          0.646181  1.547554\n",
       "998  0.054776  False  2.115230          0.495486  2.018219\n",
       "999 -1.021145  False -0.593060          0.664761  1.504299\n",
       "\n",
       "[1000 rows x 5 columns]"
      ]
     },
     "execution_count": 6,
     "metadata": {},
     "output_type": "execute_result"
    }
   ],
   "source": [
    "cdf_0"
   ]
  },
  {
   "cell_type": "code",
   "execution_count": 7,
   "metadata": {
    "execution": {
     "iopub.execute_input": "2022-11-14T22:17:17.214539Z",
     "iopub.status.busy": "2022-11-14T22:17:17.214109Z",
     "iopub.status.idle": "2022-11-14T22:17:17.228414Z",
     "shell.execute_reply": "2022-11-14T22:17:17.227571Z"
    }
   },
   "outputs": [
    {
     "data": {
      "text/html": [
       "<div>\n",
       "<style scoped>\n",
       "    .dataframe tbody tr th:only-of-type {\n",
       "        vertical-align: middle;\n",
       "    }\n",
       "\n",
       "    .dataframe tbody tr th {\n",
       "        vertical-align: top;\n",
       "    }\n",
       "\n",
       "    .dataframe thead th {\n",
       "        text-align: right;\n",
       "    }\n",
       "</style>\n",
       "<table border=\"1\" class=\"dataframe\">\n",
       "  <thead>\n",
       "    <tr style=\"text-align: right;\">\n",
       "      <th></th>\n",
       "      <th>W0</th>\n",
       "      <th>v0</th>\n",
       "      <th>y</th>\n",
       "      <th>propensity_score</th>\n",
       "      <th>weight</th>\n",
       "    </tr>\n",
       "  </thead>\n",
       "  <tbody>\n",
       "    <tr>\n",
       "      <th>0</th>\n",
       "      <td>-1.090826</td>\n",
       "      <td>True</td>\n",
       "      <td>2.554525</td>\n",
       "      <td>0.325175</td>\n",
       "      <td>3.075271</td>\n",
       "    </tr>\n",
       "    <tr>\n",
       "      <th>1</th>\n",
       "      <td>-0.119291</td>\n",
       "      <td>True</td>\n",
       "      <td>5.148743</td>\n",
       "      <td>0.476113</td>\n",
       "      <td>2.100342</td>\n",
       "    </tr>\n",
       "    <tr>\n",
       "      <th>2</th>\n",
       "      <td>0.039926</td>\n",
       "      <td>True</td>\n",
       "      <td>5.944262</td>\n",
       "      <td>0.502089</td>\n",
       "      <td>1.991678</td>\n",
       "    </tr>\n",
       "    <tr>\n",
       "      <th>3</th>\n",
       "      <td>-0.889429</td>\n",
       "      <td>True</td>\n",
       "      <td>6.015040</td>\n",
       "      <td>0.354672</td>\n",
       "      <td>2.819510</td>\n",
       "    </tr>\n",
       "    <tr>\n",
       "      <th>4</th>\n",
       "      <td>-1.107974</td>\n",
       "      <td>True</td>\n",
       "      <td>4.386551</td>\n",
       "      <td>0.322722</td>\n",
       "      <td>3.098641</td>\n",
       "    </tr>\n",
       "    <tr>\n",
       "      <th>...</th>\n",
       "      <td>...</td>\n",
       "      <td>...</td>\n",
       "      <td>...</td>\n",
       "      <td>...</td>\n",
       "      <td>...</td>\n",
       "    </tr>\n",
       "    <tr>\n",
       "      <th>995</th>\n",
       "      <td>0.655576</td>\n",
       "      <td>True</td>\n",
       "      <td>6.475409</td>\n",
       "      <td>0.601187</td>\n",
       "      <td>1.663376</td>\n",
       "    </tr>\n",
       "    <tr>\n",
       "      <th>996</th>\n",
       "      <td>-0.388833</td>\n",
       "      <td>True</td>\n",
       "      <td>4.203132</td>\n",
       "      <td>0.432503</td>\n",
       "      <td>2.312125</td>\n",
       "    </tr>\n",
       "    <tr>\n",
       "      <th>997</th>\n",
       "      <td>-1.108057</td>\n",
       "      <td>True</td>\n",
       "      <td>4.850227</td>\n",
       "      <td>0.322710</td>\n",
       "      <td>3.098755</td>\n",
       "    </tr>\n",
       "    <tr>\n",
       "      <th>998</th>\n",
       "      <td>-1.187630</td>\n",
       "      <td>True</td>\n",
       "      <td>6.577533</td>\n",
       "      <td>0.311458</td>\n",
       "      <td>3.210703</td>\n",
       "    </tr>\n",
       "    <tr>\n",
       "      <th>999</th>\n",
       "      <td>-1.536440</td>\n",
       "      <td>True</td>\n",
       "      <td>4.912388</td>\n",
       "      <td>0.264812</td>\n",
       "      <td>3.776258</td>\n",
       "    </tr>\n",
       "  </tbody>\n",
       "</table>\n",
       "<p>1000 rows × 5 columns</p>\n",
       "</div>"
      ],
      "text/plain": [
       "           W0    v0         y  propensity_score    weight\n",
       "0   -1.090826  True  2.554525          0.325175  3.075271\n",
       "1   -0.119291  True  5.148743          0.476113  2.100342\n",
       "2    0.039926  True  5.944262          0.502089  1.991678\n",
       "3   -0.889429  True  6.015040          0.354672  2.819510\n",
       "4   -1.107974  True  4.386551          0.322722  3.098641\n",
       "..        ...   ...       ...               ...       ...\n",
       "995  0.655576  True  6.475409          0.601187  1.663376\n",
       "996 -0.388833  True  4.203132          0.432503  2.312125\n",
       "997 -1.108057  True  4.850227          0.322710  3.098755\n",
       "998 -1.187630  True  6.577533          0.311458  3.210703\n",
       "999 -1.536440  True  4.912388          0.264812  3.776258\n",
       "\n",
       "[1000 rows x 5 columns]"
      ]
     },
     "execution_count": 7,
     "metadata": {},
     "output_type": "execute_result"
    }
   ],
   "source": [
    "cdf_1"
   ]
  },
  {
   "cell_type": "markdown",
   "metadata": {},
   "source": [
    "## Comparing the estimate to Linear Regression\n",
    "First, estimating the effect using the causal data frame, and the 95% confidence interval."
   ]
  },
  {
   "cell_type": "code",
   "execution_count": 8,
   "metadata": {
    "execution": {
     "iopub.execute_input": "2022-11-14T22:17:17.232485Z",
     "iopub.status.busy": "2022-11-14T22:17:17.231862Z",
     "iopub.status.idle": "2022-11-14T22:17:17.301217Z",
     "shell.execute_reply": "2022-11-14T22:17:17.300414Z"
    }
   },
   "outputs": [
    {
     "data": {
      "image/png": "[encoded data removed]",
      "text/latex": [
       "$\\displaystyle 4.99706640832054$"
      ],
      "text/plain": [
       "4.997066408320538"
      ]
     },
     "execution_count": 8,
     "metadata": {},
     "output_type": "execute_result"
    }
   ],
   "source": [
    "(cdf_1['y'] - cdf_0['y']).mean()"
   ]
  },
  {
   "cell_type": "code",
   "execution_count": 9,
   "metadata": {
    "execution": {
     "iopub.execute_input": "2022-11-14T22:17:17.305344Z",
     "iopub.status.busy": "2022-11-14T22:17:17.304672Z",
     "iopub.status.idle": "2022-11-14T22:17:17.329056Z",
     "shell.execute_reply": "2022-11-14T22:17:17.328284Z"
    }
   },
   "outputs": [
    {
     "data": {
      "image/png": "[encoded data removed]",
      "text/latex": [
       "$\\displaystyle 0.108137569104436$"
      ],
      "text/plain": [
       "0.1081375691044358"
      ]
     },
     "execution_count": 9,
     "metadata": {},
     "output_type": "execute_result"
    }
   ],
   "source": [
    "1.96*(cdf_1['y'] - cdf_0['y']).std() / np.sqrt(len(df))"
   ]
  },
  {
   "cell_type": "markdown",
   "metadata": {},
   "source": [
    "Comparing to the estimate from OLS."
   ]
  },
  {
   "cell_type": "code",
   "execution_count": 10,
   "metadata": {
    "execution": {
     "iopub.execute_input": "2022-11-14T22:17:17.332838Z",
     "iopub.status.busy": "2022-11-14T22:17:17.332251Z",
     "iopub.status.idle": "2022-11-14T22:17:17.351753Z",
     "shell.execute_reply": "2022-11-14T22:17:17.350935Z"
    }
   },
   "outputs": [
    {
     "data": {
      "text/html": [
       "<table class=\"simpletable\">\n",
       "<caption>OLS Regression Results</caption>\n",
       "<tr>\n",
       "  <th>Dep. Variable:</th>            <td>y</td>        <th>  R-squared (uncentered):</th>      <td>   0.912</td>\n",
       "</tr>\n",
       "<tr>\n",
       "  <th>Model:</th>                   <td>OLS</td>       <th>  Adj. R-squared (uncentered):</th> <td>   0.911</td>\n",
       "</tr>\n",
       "<tr>\n",
       "  <th>Method:</th>             <td>Least Squares</td>  <th>  F-statistic:       </th>          <td>   5146.</td>\n",
       "</tr>\n",
       "<tr>\n",
       "  <th>Date:</th>             <td>Mon, 14 Nov 2022</td> <th>  Prob (F-statistic):</th>           <td>  0.00</td> \n",
       "</tr>\n",
       "<tr>\n",
       "  <th>Time:</th>                 <td>22:17:17</td>     <th>  Log-Likelihood:    </th>          <td> -1412.2</td>\n",
       "</tr>\n",
       "<tr>\n",
       "  <th>No. Observations:</th>      <td>  1000</td>      <th>  AIC:               </th>          <td>   2828.</td>\n",
       "</tr>\n",
       "<tr>\n",
       "  <th>Df Residuals:</th>          <td>   998</td>      <th>  BIC:               </th>          <td>   2838.</td>\n",
       "</tr>\n",
       "<tr>\n",
       "  <th>Df Model:</th>              <td>     2</td>      <th>                     </th>              <td> </td>   \n",
       "</tr>\n",
       "<tr>\n",
       "  <th>Covariance Type:</th>      <td>nonrobust</td>    <th>                     </th>              <td> </td>   \n",
       "</tr>\n",
       "</table>\n",
       "<table class=\"simpletable\">\n",
       "<tr>\n",
       "   <td></td>     <th>coef</th>     <th>std err</th>      <th>t</th>      <th>P>|t|</th>  <th>[0.025</th>    <th>0.975]</th>  \n",
       "</tr>\n",
       "<tr>\n",
       "  <th>x1</th> <td>    0.6934</td> <td>    0.027</td> <td>   26.082</td> <td> 0.000</td> <td>    0.641</td> <td>    0.746</td>\n",
       "</tr>\n",
       "<tr>\n",
       "  <th>x2</th> <td>    4.9830</td> <td>    0.050</td> <td>  100.483</td> <td> 0.000</td> <td>    4.886</td> <td>    5.080</td>\n",
       "</tr>\n",
       "</table>\n",
       "<table class=\"simpletable\">\n",
       "<tr>\n",
       "  <th>Omnibus:</th>       <td> 0.116</td> <th>  Durbin-Watson:     </th> <td>   1.922</td>\n",
       "</tr>\n",
       "<tr>\n",
       "  <th>Prob(Omnibus):</th> <td> 0.944</td> <th>  Jarque-Bera (JB):  </th> <td>   0.064</td>\n",
       "</tr>\n",
       "<tr>\n",
       "  <th>Skew:</th>          <td>-0.015</td> <th>  Prob(JB):          </th> <td>   0.968</td>\n",
       "</tr>\n",
       "<tr>\n",
       "  <th>Kurtosis:</th>      <td> 3.026</td> <th>  Cond. No.          </th> <td>    1.89</td>\n",
       "</tr>\n",
       "</table><br/><br/>Notes:<br/>[1] R² is computed without centering (uncentered) since the model does not contain a constant.<br/>[2] Standard Errors assume that the covariance matrix of the errors is correctly specified."
      ],
      "text/plain": [
       "<class 'statsmodels.iolib.summary.Summary'>\n",
       "\"\"\"\n",
       "                                 OLS Regression Results                                \n",
       "=======================================================================================\n",
       "Dep. Variable:                      y   R-squared (uncentered):                   0.912\n",
       "Model:                            OLS   Adj. R-squared (uncentered):              0.911\n",
       "Method:                 Least Squares   F-statistic:                              5146.\n",
       "Date:                Mon, 14 Nov 2022   Prob (F-statistic):                        0.00\n",
       "Time:                        22:17:17   Log-Likelihood:                         -1412.2\n",
       "No. Observations:                1000   AIC:                                      2828.\n",
       "Df Residuals:                     998   BIC:                                      2838.\n",
       "Df Model:                           2                                                  \n",
       "Covariance Type:            nonrobust                                                  \n",
       "==============================================================================\n",
       "                 coef    std err          t      P>|t|      [0.025      0.975]\n",
       "------------------------------------------------------------------------------\n",
       "x1             0.6934      0.027     26.082      0.000       0.641       0.746\n",
       "x2             4.9830      0.050    100.483      0.000       4.886       5.080\n",
       "==============================================================================\n",
       "Omnibus:                        0.116   Durbin-Watson:                   1.922\n",
       "Prob(Omnibus):                  0.944   Jarque-Bera (JB):                0.064\n",
       "Skew:                          -0.015   Prob(JB):                        0.968\n",
       "Kurtosis:                       3.026   Cond. No.                         1.89\n",
       "==============================================================================\n",
       "\n",
       "Notes:\n",
       "[1] R² is computed without centering (uncentered) since the model does not contain a constant.\n",
       "[2] Standard Errors assume that the covariance matrix of the errors is correctly specified.\n",
       "\"\"\""
      ]
     },
     "execution_count": 10,
     "metadata": {},
     "output_type": "execute_result"
    }
   ],
   "source": [
    "model = OLS(np.asarray(df[outcome]), np.asarray(df[[common_cause, treatment]], dtype=np.float64))\n",
    "result = model.fit()\n",
    "result.summary()"
   ]
  }
 ],
 "metadata": {
  "kernelspec": {
   "display_name": "Python 3",
   "language": "python",
   "name": "python3"
  },
  "language_info": {
   "codemirror_mode": {
    "name": "ipython",
    "version": 3
   },
   "file_extension": ".py",
   "mimetype": "text/x-python",
   "name": "python",
   "nbconvert_exporter": "python",
   "pygments_lexer": "ipython3",
   "version": "3.8.10"
  },
  "toc": {
   "base_numbering": 1,
   "nav_menu": {},
   "number_sections": false,
   "sideBar": true,
   "skip_h1_title": true,
   "title_cell": "Table of Contents",
   "title_sidebar": "Contents",
   "toc_cell": false,
   "toc_position": {},
   "toc_section_display": true,
   "toc_window_display": false
  }
 },
 "nbformat": 4,
 "nbformat_minor": 4
}
