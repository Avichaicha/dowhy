{
 "cells": [
  {
   "cell_type": "markdown",
   "metadata": {},
   "source": [
    "# Demo for the DoWhy causal API\n",
    "We show a simple example of adding a causal extension to any dataframe. "
   ]
  },
  {
   "cell_type": "code",
   "execution_count": 1,
   "metadata": {
    "execution": {
     "iopub.execute_input": "2022-12-15T14:41:33.569098Z",
     "iopub.status.busy": "2022-12-15T14:41:33.568558Z",
     "iopub.status.idle": "2022-12-15T14:41:36.272827Z",
     "shell.execute_reply": "2022-12-15T14:41:36.271769Z"
    }
   },
   "outputs": [],
   "source": [
    "import dowhy.datasets\n",
    "import dowhy.api\n",
    "\n",
    "import numpy as np\n",
    "import pandas as pd\n",
    "\n",
    "from statsmodels.api import OLS"
   ]
  },
  {
   "cell_type": "code",
   "execution_count": 2,
   "metadata": {
    "execution": {
     "iopub.execute_input": "2022-12-15T14:41:36.277713Z",
     "iopub.status.busy": "2022-12-15T14:41:36.277186Z",
     "iopub.status.idle": "2022-12-15T14:41:36.351663Z",
     "shell.execute_reply": "2022-12-15T14:41:36.350657Z"
    }
   },
   "outputs": [
    {
     "data": {
      "text/html": [
       "<div>\n",
       "<style scoped>\n",
       "    .dataframe tbody tr th:only-of-type {\n",
       "        vertical-align: middle;\n",
       "    }\n",
       "\n",
       "    .dataframe tbody tr th {\n",
       "        vertical-align: top;\n",
       "    }\n",
       "\n",
       "    .dataframe thead th {\n",
       "        text-align: right;\n",
       "    }\n",
       "</style>\n",
       "<table border=\"1\" class=\"dataframe\">\n",
       "  <thead>\n",
       "    <tr style=\"text-align: right;\">\n",
       "      <th></th>\n",
       "      <th>W0</th>\n",
       "      <th>v0</th>\n",
       "      <th>y</th>\n",
       "    </tr>\n",
       "  </thead>\n",
       "  <tbody>\n",
       "    <tr>\n",
       "      <th>0</th>\n",
       "      <td>0.705702</td>\n",
       "      <td>False</td>\n",
       "      <td>0.777604</td>\n",
       "    </tr>\n",
       "    <tr>\n",
       "      <th>1</th>\n",
       "      <td>-0.722924</td>\n",
       "      <td>False</td>\n",
       "      <td>0.254183</td>\n",
       "    </tr>\n",
       "    <tr>\n",
       "      <th>2</th>\n",
       "      <td>-1.196482</td>\n",
       "      <td>False</td>\n",
       "      <td>-0.266708</td>\n",
       "    </tr>\n",
       "    <tr>\n",
       "      <th>3</th>\n",
       "      <td>0.208196</td>\n",
       "      <td>True</td>\n",
       "      <td>5.037153</td>\n",
       "    </tr>\n",
       "    <tr>\n",
       "      <th>4</th>\n",
       "      <td>-0.463076</td>\n",
       "      <td>False</td>\n",
       "      <td>0.448151</td>\n",
       "    </tr>\n",
       "    <tr>\n",
       "      <th>...</th>\n",
       "      <td>...</td>\n",
       "      <td>...</td>\n",
       "      <td>...</td>\n",
       "    </tr>\n",
       "    <tr>\n",
       "      <th>995</th>\n",
       "      <td>2.028265</td>\n",
       "      <td>True</td>\n",
       "      <td>6.113425</td>\n",
       "    </tr>\n",
       "    <tr>\n",
       "      <th>996</th>\n",
       "      <td>0.005487</td>\n",
       "      <td>True</td>\n",
       "      <td>5.582877</td>\n",
       "    </tr>\n",
       "    <tr>\n",
       "      <th>997</th>\n",
       "      <td>-0.841498</td>\n",
       "      <td>False</td>\n",
       "      <td>-0.535029</td>\n",
       "    </tr>\n",
       "    <tr>\n",
       "      <th>998</th>\n",
       "      <td>0.599228</td>\n",
       "      <td>False</td>\n",
       "      <td>-0.558594</td>\n",
       "    </tr>\n",
       "    <tr>\n",
       "      <th>999</th>\n",
       "      <td>-0.612069</td>\n",
       "      <td>False</td>\n",
       "      <td>1.178249</td>\n",
       "    </tr>\n",
       "  </tbody>\n",
       "</table>\n",
       "<p>1000 rows × 3 columns</p>\n",
       "</div>"
      ],
      "text/plain": [
       "           W0     v0         y\n",
       "0    0.705702  False  0.777604\n",
       "1   -0.722924  False  0.254183\n",
       "2   -1.196482  False -0.266708\n",
       "3    0.208196   True  5.037153\n",
       "4   -0.463076  False  0.448151\n",
       "..        ...    ...       ...\n",
       "995  2.028265   True  6.113425\n",
       "996  0.005487   True  5.582877\n",
       "997 -0.841498  False -0.535029\n",
       "998  0.599228  False -0.558594\n",
       "999 -0.612069  False  1.178249\n",
       "\n",
       "[1000 rows x 3 columns]"
      ]
     },
     "execution_count": 2,
     "metadata": {},
     "output_type": "execute_result"
    }
   ],
   "source": [
    "data = dowhy.datasets.linear_dataset(beta=5,\n",
    "        num_common_causes=1,\n",
    "        num_instruments = 0,\n",
    "        num_samples=1000,\n",
    "        treatment_is_binary=True)\n",
    "df = data['df']\n",
    "df['y'] = df['y'] + np.random.normal(size=len(df)) # Adding noise to data. Without noise, the variance in Y|X, Z is zero, and mcmc fails.\n",
    "#data['dot_graph'] = 'digraph { v ->y;X0-> v;X0-> y;}'\n",
    "\n",
    "treatment= data[\"treatment_name\"][0]\n",
    "outcome = data[\"outcome_name\"][0]\n",
    "common_cause = data[\"common_causes_names\"][0]\n",
    "df"
   ]
  },
  {
   "cell_type": "code",
   "execution_count": 3,
   "metadata": {
    "execution": {
     "iopub.execute_input": "2022-12-15T14:41:36.355214Z",
     "iopub.status.busy": "2022-12-15T14:41:36.354911Z",
     "iopub.status.idle": "2022-12-15T14:41:36.578721Z",
     "shell.execute_reply": "2022-12-15T14:41:36.577852Z"
    }
   },
   "outputs": [
    {
     "data": {
      "text/plain": [
       "<AxesSubplot: xlabel='v0'>"
      ]
     },
     "execution_count": 3,
     "metadata": {},
     "output_type": "execute_result"
    },
    {
     "data": {
      "image/png": "[encoded data removed]",
      "text/plain": [
       "<Figure size 640x480 with 1 Axes>"
      ]
     },
     "metadata": {},
     "output_type": "display_data"
    }
   ],
   "source": [
    "# data['df'] is just a regular pandas.DataFrame\n",
    "df.causal.do(x=treatment,\n",
    "                     variable_types={treatment: 'b', outcome: 'c', common_cause: 'c'},\n",
    "                     outcome=outcome,\n",
    "                     common_causes=[common_cause],\n",
    "                     proceed_when_unidentifiable=True).groupby(treatment).mean().plot(y=outcome, kind='bar')"
   ]
  },
  {
   "cell_type": "code",
   "execution_count": 4,
   "metadata": {
    "execution": {
     "iopub.execute_input": "2022-12-15T14:41:36.582432Z",
     "iopub.status.busy": "2022-12-15T14:41:36.581905Z",
     "iopub.status.idle": "2022-12-15T14:41:36.758715Z",
     "shell.execute_reply": "2022-12-15T14:41:36.757804Z"
    }
   },
   "outputs": [
    {
     "data": {
      "text/plain": [
       "<AxesSubplot: xlabel='v0'>"
      ]
     },
     "execution_count": 4,
     "metadata": {},
     "output_type": "execute_result"
    },
    {
     "data": {
      "image/png": "[encoded data removed]",
      "text/plain": [
       "<Figure size 640x480 with 1 Axes>"
      ]
     },
     "metadata": {},
     "output_type": "display_data"
    }
   ],
   "source": [
    "df.causal.do(x={treatment: 1}, \n",
    "              variable_types={treatment:'b', outcome: 'c', common_cause: 'c'}, \n",
    "              outcome=outcome,\n",
    "              method='weighting', \n",
    "              common_causes=[common_cause],\n",
    "              proceed_when_unidentifiable=True).groupby(treatment).mean().plot(y=outcome, kind='bar')"
   ]
  },
  {
   "cell_type": "code",
   "execution_count": 5,
   "metadata": {
    "execution": {
     "iopub.execute_input": "2022-12-15T14:41:36.762456Z",
     "iopub.status.busy": "2022-12-15T14:41:36.761923Z",
     "iopub.status.idle": "2022-12-15T14:41:36.808839Z",
     "shell.execute_reply": "2022-12-15T14:41:36.807834Z"
    }
   },
   "outputs": [],
   "source": [
    "cdf_1 = df.causal.do(x={treatment: 1}, \n",
    "              variable_types={treatment: 'b', outcome: 'c', common_cause: 'c'}, \n",
    "              outcome=outcome, \n",
    "              dot_graph=data['dot_graph'],\n",
    "              proceed_when_unidentifiable=True)\n",
    "\n",
    "cdf_0 = df.causal.do(x={treatment: 0}, \n",
    "              variable_types={treatment: 'b', outcome: 'c', common_cause: 'c'}, \n",
    "              outcome=outcome, \n",
    "              dot_graph=data['dot_graph'],\n",
    "              proceed_when_unidentifiable=True)\n"
   ]
  },
  {
   "cell_type": "code",
   "execution_count": 6,
   "metadata": {
    "execution": {
     "iopub.execute_input": "2022-12-15T14:41:36.813586Z",
     "iopub.status.busy": "2022-12-15T14:41:36.812910Z",
     "iopub.status.idle": "2022-12-15T14:41:36.828781Z",
     "shell.execute_reply": "2022-12-15T14:41:36.827569Z"
    },
    "scrolled": true
   },
   "outputs": [
    {
     "data": {
      "text/html": [
       "<div>\n",
       "<style scoped>\n",
       "    .dataframe tbody tr th:only-of-type {\n",
       "        vertical-align: middle;\n",
       "    }\n",
       "\n",
       "    .dataframe tbody tr th {\n",
       "        vertical-align: top;\n",
       "    }\n",
       "\n",
       "    .dataframe thead th {\n",
       "        text-align: right;\n",
       "    }\n",
       "</style>\n",
       "<table border=\"1\" class=\"dataframe\">\n",
       "  <thead>\n",
       "    <tr style=\"text-align: right;\">\n",
       "      <th></th>\n",
       "      <th>W0</th>\n",
       "      <th>v0</th>\n",
       "      <th>y</th>\n",
       "      <th>propensity_score</th>\n",
       "      <th>weight</th>\n",
       "    </tr>\n",
       "  </thead>\n",
       "  <tbody>\n",
       "    <tr>\n",
       "      <th>0</th>\n",
       "      <td>0.553711</td>\n",
       "      <td>False</td>\n",
       "      <td>-1.179089</td>\n",
       "      <td>0.310538</td>\n",
       "      <td>3.220219</td>\n",
       "    </tr>\n",
       "    <tr>\n",
       "      <th>1</th>\n",
       "      <td>-0.390818</td>\n",
       "      <td>False</td>\n",
       "      <td>-0.570843</td>\n",
       "      <td>0.651146</td>\n",
       "      <td>1.535755</td>\n",
       "    </tr>\n",
       "    <tr>\n",
       "      <th>2</th>\n",
       "      <td>-2.435624</td>\n",
       "      <td>False</td>\n",
       "      <td>-1.150935</td>\n",
       "      <td>0.975917</td>\n",
       "      <td>1.024677</td>\n",
       "    </tr>\n",
       "    <tr>\n",
       "      <th>3</th>\n",
       "      <td>-1.045019</td>\n",
       "      <td>False</td>\n",
       "      <td>0.018907</td>\n",
       "      <td>0.833241</td>\n",
       "      <td>1.200134</td>\n",
       "    </tr>\n",
       "    <tr>\n",
       "      <th>4</th>\n",
       "      <td>-1.483632</td>\n",
       "      <td>False</td>\n",
       "      <td>-1.642655</td>\n",
       "      <td>0.906274</td>\n",
       "      <td>1.103420</td>\n",
       "    </tr>\n",
       "    <tr>\n",
       "      <th>...</th>\n",
       "      <td>...</td>\n",
       "      <td>...</td>\n",
       "      <td>...</td>\n",
       "      <td>...</td>\n",
       "      <td>...</td>\n",
       "    </tr>\n",
       "    <tr>\n",
       "      <th>995</th>\n",
       "      <td>-1.196482</td>\n",
       "      <td>False</td>\n",
       "      <td>-0.266708</td>\n",
       "      <td>0.862564</td>\n",
       "      <td>1.159335</td>\n",
       "    </tr>\n",
       "    <tr>\n",
       "      <th>996</th>\n",
       "      <td>-0.936044</td>\n",
       "      <td>False</td>\n",
       "      <td>-0.679079</td>\n",
       "      <td>0.809188</td>\n",
       "      <td>1.235807</td>\n",
       "    </tr>\n",
       "    <tr>\n",
       "      <th>997</th>\n",
       "      <td>-0.796628</td>\n",
       "      <td>False</td>\n",
       "      <td>-1.472232</td>\n",
       "      <td>0.774674</td>\n",
       "      <td>1.290865</td>\n",
       "    </tr>\n",
       "    <tr>\n",
       "      <th>998</th>\n",
       "      <td>0.822705</td>\n",
       "      <td>False</td>\n",
       "      <td>0.056048</td>\n",
       "      <td>0.231032</td>\n",
       "      <td>4.328396</td>\n",
       "    </tr>\n",
       "    <tr>\n",
       "      <th>999</th>\n",
       "      <td>-0.318603</td>\n",
       "      <td>False</td>\n",
       "      <td>0.732548</td>\n",
       "      <td>0.626068</td>\n",
       "      <td>1.597271</td>\n",
       "    </tr>\n",
       "  </tbody>\n",
       "</table>\n",
       "<p>1000 rows × 5 columns</p>\n",
       "</div>"
      ],
      "text/plain": [
       "           W0     v0         y  propensity_score    weight\n",
       "0    0.553711  False -1.179089          0.310538  3.220219\n",
       "1   -0.390818  False -0.570843          0.651146  1.535755\n",
       "2   -2.435624  False -1.150935          0.975917  1.024677\n",
       "3   -1.045019  False  0.018907          0.833241  1.200134\n",
       "4   -1.483632  False -1.642655          0.906274  1.103420\n",
       "..        ...    ...       ...               ...       ...\n",
       "995 -1.196482  False -0.266708          0.862564  1.159335\n",
       "996 -0.936044  False -0.679079          0.809188  1.235807\n",
       "997 -0.796628  False -1.472232          0.774674  1.290865\n",
       "998  0.822705  False  0.056048          0.231032  4.328396\n",
       "999 -0.318603  False  0.732548          0.626068  1.597271\n",
       "\n",
       "[1000 rows x 5 columns]"
      ]
     },
     "execution_count": 6,
     "metadata": {},
     "output_type": "execute_result"
    }
   ],
   "source": [
    "cdf_0"
   ]
  },
  {
   "cell_type": "code",
   "execution_count": 7,
   "metadata": {
    "execution": {
     "iopub.execute_input": "2022-12-15T14:41:36.834127Z",
     "iopub.status.busy": "2022-12-15T14:41:36.833782Z",
     "iopub.status.idle": "2022-12-15T14:41:36.850314Z",
     "shell.execute_reply": "2022-12-15T14:41:36.849337Z"
    }
   },
   "outputs": [
    {
     "data": {
      "text/html": [
       "<div>\n",
       "<style scoped>\n",
       "    .dataframe tbody tr th:only-of-type {\n",
       "        vertical-align: middle;\n",
       "    }\n",
       "\n",
       "    .dataframe tbody tr th {\n",
       "        vertical-align: top;\n",
       "    }\n",
       "\n",
       "    .dataframe thead th {\n",
       "        text-align: right;\n",
       "    }\n",
       "</style>\n",
       "<table border=\"1\" class=\"dataframe\">\n",
       "  <thead>\n",
       "    <tr style=\"text-align: right;\">\n",
       "      <th></th>\n",
       "      <th>W0</th>\n",
       "      <th>v0</th>\n",
       "      <th>y</th>\n",
       "      <th>propensity_score</th>\n",
       "      <th>weight</th>\n",
       "    </tr>\n",
       "  </thead>\n",
       "  <tbody>\n",
       "    <tr>\n",
       "      <th>0</th>\n",
       "      <td>1.476455</td>\n",
       "      <td>True</td>\n",
       "      <td>4.874720</td>\n",
       "      <td>0.899031</td>\n",
       "      <td>1.112309</td>\n",
       "    </tr>\n",
       "    <tr>\n",
       "      <th>1</th>\n",
       "      <td>-0.180613</td>\n",
       "      <td>True</td>\n",
       "      <td>4.901348</td>\n",
       "      <td>0.423680</td>\n",
       "      <td>2.360270</td>\n",
       "    </tr>\n",
       "    <tr>\n",
       "      <th>2</th>\n",
       "      <td>0.903581</td>\n",
       "      <td>True</td>\n",
       "      <td>2.938442</td>\n",
       "      <td>0.789883</td>\n",
       "      <td>1.266010</td>\n",
       "    </tr>\n",
       "    <tr>\n",
       "      <th>3</th>\n",
       "      <td>0.335088</td>\n",
       "      <td>True</td>\n",
       "      <td>5.156702</td>\n",
       "      <td>0.615038</td>\n",
       "      <td>1.625916</td>\n",
       "    </tr>\n",
       "    <tr>\n",
       "      <th>4</th>\n",
       "      <td>0.922991</td>\n",
       "      <td>True</td>\n",
       "      <td>7.601631</td>\n",
       "      <td>0.794691</td>\n",
       "      <td>1.258350</td>\n",
       "    </tr>\n",
       "    <tr>\n",
       "      <th>...</th>\n",
       "      <td>...</td>\n",
       "      <td>...</td>\n",
       "      <td>...</td>\n",
       "      <td>...</td>\n",
       "      <td>...</td>\n",
       "    </tr>\n",
       "    <tr>\n",
       "      <th>995</th>\n",
       "      <td>-1.114014</td>\n",
       "      <td>True</td>\n",
       "      <td>2.918919</td>\n",
       "      <td>0.152824</td>\n",
       "      <td>6.543466</td>\n",
       "    </tr>\n",
       "    <tr>\n",
       "      <th>996</th>\n",
       "      <td>0.262943</td>\n",
       "      <td>True</td>\n",
       "      <td>4.524670</td>\n",
       "      <td>0.589028</td>\n",
       "      <td>1.697713</td>\n",
       "    </tr>\n",
       "    <tr>\n",
       "      <th>997</th>\n",
       "      <td>0.165627</td>\n",
       "      <td>True</td>\n",
       "      <td>5.638084</td>\n",
       "      <td>0.553166</td>\n",
       "      <td>1.807777</td>\n",
       "    </tr>\n",
       "    <tr>\n",
       "      <th>998</th>\n",
       "      <td>-0.004075</td>\n",
       "      <td>True</td>\n",
       "      <td>4.941065</td>\n",
       "      <td>0.489511</td>\n",
       "      <td>2.042855</td>\n",
       "    </tr>\n",
       "    <tr>\n",
       "      <th>999</th>\n",
       "      <td>0.386087</td>\n",
       "      <td>True</td>\n",
       "      <td>4.951860</td>\n",
       "      <td>0.633045</td>\n",
       "      <td>1.579667</td>\n",
       "    </tr>\n",
       "  </tbody>\n",
       "</table>\n",
       "<p>1000 rows × 5 columns</p>\n",
       "</div>"
      ],
      "text/plain": [
       "           W0    v0         y  propensity_score    weight\n",
       "0    1.476455  True  4.874720          0.899031  1.112309\n",
       "1   -0.180613  True  4.901348          0.423680  2.360270\n",
       "2    0.903581  True  2.938442          0.789883  1.266010\n",
       "3    0.335088  True  5.156702          0.615038  1.625916\n",
       "4    0.922991  True  7.601631          0.794691  1.258350\n",
       "..        ...   ...       ...               ...       ...\n",
       "995 -1.114014  True  2.918919          0.152824  6.543466\n",
       "996  0.262943  True  4.524670          0.589028  1.697713\n",
       "997  0.165627  True  5.638084          0.553166  1.807777\n",
       "998 -0.004075  True  4.941065          0.489511  2.042855\n",
       "999  0.386087  True  4.951860          0.633045  1.579667\n",
       "\n",
       "[1000 rows x 5 columns]"
      ]
     },
     "execution_count": 7,
     "metadata": {},
     "output_type": "execute_result"
    }
   ],
   "source": [
    "cdf_1"
   ]
  },
  {
   "cell_type": "markdown",
   "metadata": {},
   "source": [
    "## Comparing the estimate to Linear Regression\n",
    "First, estimating the effect using the causal data frame, and the 95% confidence interval."
   ]
  },
  {
   "cell_type": "code",
   "execution_count": 8,
   "metadata": {
    "execution": {
     "iopub.execute_input": "2022-12-15T14:41:36.855123Z",
     "iopub.status.busy": "2022-12-15T14:41:36.854817Z",
     "iopub.status.idle": "2022-12-15T14:41:36.931432Z",
     "shell.execute_reply": "2022-12-15T14:41:36.930445Z"
    }
   },
   "outputs": [
    {
     "data": {
      "image/png": "[encoded data removed]",
      "text/latex": [
       "$\\displaystyle 4.98547149862751$"
      ],
      "text/plain": [
       "4.985471498627506"
      ]
     },
     "execution_count": 8,
     "metadata": {},
     "output_type": "execute_result"
    }
   ],
   "source": [
    "(cdf_1['y'] - cdf_0['y']).mean()"
   ]
  },
  {
   "cell_type": "code",
   "execution_count": 9,
   "metadata": {
    "execution": {
     "iopub.execute_input": "2022-12-15T14:41:36.935197Z",
     "iopub.status.busy": "2022-12-15T14:41:36.934901Z",
     "iopub.status.idle": "2022-12-15T14:41:36.967441Z",
     "shell.execute_reply": "2022-12-15T14:41:36.966536Z"
    }
   },
   "outputs": [
    {
     "data": {
      "image/png": "[encoded data removed]",
      "text/latex": [
       "$\\displaystyle 0.0868703000069742$"
      ],
      "text/plain": [
       "0.08687030000697415"
      ]
     },
     "execution_count": 9,
     "metadata": {},
     "output_type": "execute_result"
    }
   ],
   "source": [
    "1.96*(cdf_1['y'] - cdf_0['y']).std() / np.sqrt(len(df))"
   ]
  },
  {
   "cell_type": "markdown",
   "metadata": {},
   "source": [
    "Comparing to the estimate from OLS."
   ]
  },
  {
   "cell_type": "code",
   "execution_count": 10,
   "metadata": {
    "execution": {
     "iopub.execute_input": "2022-12-15T14:41:36.971844Z",
     "iopub.status.busy": "2022-12-15T14:41:36.971380Z",
     "iopub.status.idle": "2022-12-15T14:41:36.995756Z",
     "shell.execute_reply": "2022-12-15T14:41:36.994850Z"
    }
   },
   "outputs": [
    {
     "data": {
      "text/html": [
       "<table class=\"simpletable\">\n",
       "<caption>OLS Regression Results</caption>\n",
       "<tr>\n",
       "  <th>Dep. Variable:</th>            <td>y</td>        <th>  R-squared (uncentered):</th>      <td>   0.924</td>\n",
       "</tr>\n",
       "<tr>\n",
       "  <th>Model:</th>                   <td>OLS</td>       <th>  Adj. R-squared (uncentered):</th> <td>   0.923</td>\n",
       "</tr>\n",
       "<tr>\n",
       "  <th>Method:</th>             <td>Least Squares</td>  <th>  F-statistic:       </th>          <td>   6036.</td>\n",
       "</tr>\n",
       "<tr>\n",
       "  <th>Date:</th>             <td>Thu, 15 Dec 2022</td> <th>  Prob (F-statistic):</th>           <td>  0.00</td> \n",
       "</tr>\n",
       "<tr>\n",
       "  <th>Time:</th>                 <td>14:41:36</td>     <th>  Log-Likelihood:    </th>          <td> -1378.8</td>\n",
       "</tr>\n",
       "<tr>\n",
       "  <th>No. Observations:</th>      <td>  1000</td>      <th>  AIC:               </th>          <td>   2762.</td>\n",
       "</tr>\n",
       "<tr>\n",
       "  <th>Df Residuals:</th>          <td>   998</td>      <th>  BIC:               </th>          <td>   2771.</td>\n",
       "</tr>\n",
       "<tr>\n",
       "  <th>Df Model:</th>              <td>     2</td>      <th>                     </th>              <td> </td>   \n",
       "</tr>\n",
       "<tr>\n",
       "  <th>Covariance Type:</th>      <td>nonrobust</td>    <th>                     </th>              <td> </td>   \n",
       "</tr>\n",
       "</table>\n",
       "<table class=\"simpletable\">\n",
       "<tr>\n",
       "   <td></td>     <th>coef</th>     <th>std err</th>      <th>t</th>      <th>P>|t|</th>  <th>[0.025</th>    <th>0.975]</th>  \n",
       "</tr>\n",
       "<tr>\n",
       "  <th>x1</th> <td>    0.4472</td> <td>    0.031</td> <td>   14.453</td> <td> 0.000</td> <td>    0.387</td> <td>    0.508</td>\n",
       "</tr>\n",
       "<tr>\n",
       "  <th>x2</th> <td>    4.8994</td> <td>    0.048</td> <td>  102.744</td> <td> 0.000</td> <td>    4.806</td> <td>    4.993</td>\n",
       "</tr>\n",
       "</table>\n",
       "<table class=\"simpletable\">\n",
       "<tr>\n",
       "  <th>Omnibus:</th>       <td> 2.729</td> <th>  Durbin-Watson:     </th> <td>   1.988</td>\n",
       "</tr>\n",
       "<tr>\n",
       "  <th>Prob(Omnibus):</th> <td> 0.256</td> <th>  Jarque-Bera (JB):  </th> <td>   2.685</td>\n",
       "</tr>\n",
       "<tr>\n",
       "  <th>Skew:</th>          <td> 0.090</td> <th>  Prob(JB):          </th> <td>   0.261</td>\n",
       "</tr>\n",
       "<tr>\n",
       "  <th>Kurtosis:</th>      <td> 2.820</td> <th>  Cond. No.          </th> <td>    1.64</td>\n",
       "</tr>\n",
       "</table><br/><br/>Notes:<br/>[1] R² is computed without centering (uncentered) since the model does not contain a constant.<br/>[2] Standard Errors assume that the covariance matrix of the errors is correctly specified."
      ],
      "text/plain": [
       "<class 'statsmodels.iolib.summary.Summary'>\n",
       "\"\"\"\n",
       "                                 OLS Regression Results                                \n",
       "=======================================================================================\n",
       "Dep. Variable:                      y   R-squared (uncentered):                   0.924\n",
       "Model:                            OLS   Adj. R-squared (uncentered):              0.923\n",
       "Method:                 Least Squares   F-statistic:                              6036.\n",
       "Date:                Thu, 15 Dec 2022   Prob (F-statistic):                        0.00\n",
       "Time:                        14:41:36   Log-Likelihood:                         -1378.8\n",
       "No. Observations:                1000   AIC:                                      2762.\n",
       "Df Residuals:                     998   BIC:                                      2771.\n",
       "Df Model:                           2                                                  \n",
       "Covariance Type:            nonrobust                                                  \n",
       "==============================================================================\n",
       "                 coef    std err          t      P>|t|      [0.025      0.975]\n",
       "------------------------------------------------------------------------------\n",
       "x1             0.4472      0.031     14.453      0.000       0.387       0.508\n",
       "x2             4.8994      0.048    102.744      0.000       4.806       4.993\n",
       "==============================================================================\n",
       "Omnibus:                        2.729   Durbin-Watson:                   1.988\n",
       "Prob(Omnibus):                  0.256   Jarque-Bera (JB):                2.685\n",
       "Skew:                           0.090   Prob(JB):                        0.261\n",
       "Kurtosis:                       2.820   Cond. No.                         1.64\n",
       "==============================================================================\n",
       "\n",
       "Notes:\n",
       "[1] R² is computed without centering (uncentered) since the model does not contain a constant.\n",
       "[2] Standard Errors assume that the covariance matrix of the errors is correctly specified.\n",
       "\"\"\""
      ]
     },
     "execution_count": 10,
     "metadata": {},
     "output_type": "execute_result"
    }
   ],
   "source": [
    "model = OLS(np.asarray(df[outcome]), np.asarray(df[[common_cause, treatment]], dtype=np.float64))\n",
    "result = model.fit()\n",
    "result.summary()"
   ]
  }
 ],
 "metadata": {
  "kernelspec": {
   "display_name": "Python 3",
   "language": "python",
   "name": "python3"
  },
  "language_info": {
   "codemirror_mode": {
    "name": "ipython",
    "version": 3
   },
   "file_extension": ".py",
   "mimetype": "text/x-python",
   "name": "python",
   "nbconvert_exporter": "python",
   "pygments_lexer": "ipython3",
   "version": "3.8.10"
  },
  "toc": {
   "base_numbering": 1,
   "nav_menu": {},
   "number_sections": false,
   "sideBar": true,
   "skip_h1_title": true,
   "title_cell": "Table of Contents",
   "title_sidebar": "Contents",
   "toc_cell": false,
   "toc_position": {},
   "toc_section_display": true,
   "toc_window_display": false
  }
 },
 "nbformat": 4,
 "nbformat_minor": 4
}
