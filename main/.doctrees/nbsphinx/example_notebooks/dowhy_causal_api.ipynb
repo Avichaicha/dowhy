{
 "cells": [
  {
   "cell_type": "markdown",
   "metadata": {},
   "source": [
    "# Demo for the DoWhy causal API\n",
    "We show a simple example of adding a causal extension to any dataframe. "
   ]
  },
  {
   "cell_type": "code",
   "execution_count": 1,
   "metadata": {
    "execution": {
     "iopub.execute_input": "2022-08-03T08:18:27.744092Z",
     "iopub.status.busy": "2022-08-03T08:18:27.743375Z",
     "iopub.status.idle": "2022-08-03T08:18:28.948509Z",
     "shell.execute_reply": "2022-08-03T08:18:28.947715Z"
    }
   },
   "outputs": [
    {
     "name": "stdout",
     "output_type": "stream",
     "text": [
      "keywords are unexpanded, not using\n"
     ]
    }
   ],
   "source": [
    "import dowhy.datasets\n",
    "import dowhy.api\n",
    "\n",
    "import numpy as np\n",
    "import pandas as pd\n",
    "\n",
    "from statsmodels.api import OLS"
   ]
  },
  {
   "cell_type": "code",
   "execution_count": 2,
   "metadata": {
    "execution": {
     "iopub.execute_input": "2022-08-03T08:18:28.952607Z",
     "iopub.status.busy": "2022-08-03T08:18:28.951895Z",
     "iopub.status.idle": "2022-08-03T08:18:29.000791Z",
     "shell.execute_reply": "2022-08-03T08:18:29.000126Z"
    }
   },
   "outputs": [
    {
     "data": {
      "text/html": [
       "<div>\n",
       "<style scoped>\n",
       "    .dataframe tbody tr th:only-of-type {\n",
       "        vertical-align: middle;\n",
       "    }\n",
       "\n",
       "    .dataframe tbody tr th {\n",
       "        vertical-align: top;\n",
       "    }\n",
       "\n",
       "    .dataframe thead th {\n",
       "        text-align: right;\n",
       "    }\n",
       "</style>\n",
       "<table border=\"1\" class=\"dataframe\">\n",
       "  <thead>\n",
       "    <tr style=\"text-align: right;\">\n",
       "      <th></th>\n",
       "      <th>W0</th>\n",
       "      <th>v0</th>\n",
       "      <th>y</th>\n",
       "    </tr>\n",
       "  </thead>\n",
       "  <tbody>\n",
       "    <tr>\n",
       "      <th>0</th>\n",
       "      <td>-0.079286</td>\n",
       "      <td>True</td>\n",
       "      <td>3.821434</td>\n",
       "    </tr>\n",
       "    <tr>\n",
       "      <th>1</th>\n",
       "      <td>-0.997988</td>\n",
       "      <td>False</td>\n",
       "      <td>-1.909692</td>\n",
       "    </tr>\n",
       "    <tr>\n",
       "      <th>2</th>\n",
       "      <td>-1.052842</td>\n",
       "      <td>False</td>\n",
       "      <td>-4.261521</td>\n",
       "    </tr>\n",
       "    <tr>\n",
       "      <th>3</th>\n",
       "      <td>-0.751767</td>\n",
       "      <td>False</td>\n",
       "      <td>-2.156837</td>\n",
       "    </tr>\n",
       "    <tr>\n",
       "      <th>4</th>\n",
       "      <td>-0.802909</td>\n",
       "      <td>False</td>\n",
       "      <td>-2.135282</td>\n",
       "    </tr>\n",
       "    <tr>\n",
       "      <th>...</th>\n",
       "      <td>...</td>\n",
       "      <td>...</td>\n",
       "      <td>...</td>\n",
       "    </tr>\n",
       "    <tr>\n",
       "      <th>995</th>\n",
       "      <td>-2.096780</td>\n",
       "      <td>False</td>\n",
       "      <td>-5.375187</td>\n",
       "    </tr>\n",
       "    <tr>\n",
       "      <th>996</th>\n",
       "      <td>-0.934955</td>\n",
       "      <td>True</td>\n",
       "      <td>2.484935</td>\n",
       "    </tr>\n",
       "    <tr>\n",
       "      <th>997</th>\n",
       "      <td>0.295682</td>\n",
       "      <td>True</td>\n",
       "      <td>4.772712</td>\n",
       "    </tr>\n",
       "    <tr>\n",
       "      <th>998</th>\n",
       "      <td>-0.035742</td>\n",
       "      <td>True</td>\n",
       "      <td>6.235342</td>\n",
       "    </tr>\n",
       "    <tr>\n",
       "      <th>999</th>\n",
       "      <td>0.662588</td>\n",
       "      <td>True</td>\n",
       "      <td>7.621716</td>\n",
       "    </tr>\n",
       "  </tbody>\n",
       "</table>\n",
       "<p>1000 rows × 3 columns</p>\n",
       "</div>"
      ],
      "text/plain": [
       "           W0     v0         y\n",
       "0   -0.079286   True  3.821434\n",
       "1   -0.997988  False -1.909692\n",
       "2   -1.052842  False -4.261521\n",
       "3   -0.751767  False -2.156837\n",
       "4   -0.802909  False -2.135282\n",
       "..        ...    ...       ...\n",
       "995 -2.096780  False -5.375187\n",
       "996 -0.934955   True  2.484935\n",
       "997  0.295682   True  4.772712\n",
       "998 -0.035742   True  6.235342\n",
       "999  0.662588   True  7.621716\n",
       "\n",
       "[1000 rows x 3 columns]"
      ]
     },
     "execution_count": 2,
     "metadata": {},
     "output_type": "execute_result"
    }
   ],
   "source": [
    "data = dowhy.datasets.linear_dataset(beta=5,\n",
    "        num_common_causes=1,\n",
    "        num_instruments = 0,\n",
    "        num_samples=1000,\n",
    "        treatment_is_binary=True)\n",
    "df = data['df']\n",
    "df['y'] = df['y'] + np.random.normal(size=len(df)) # Adding noise to data. Without noise, the variance in Y|X, Z is zero, and mcmc fails.\n",
    "#data['dot_graph'] = 'digraph { v ->y;X0-> v;X0-> y;}'\n",
    "\n",
    "treatment= data[\"treatment_name\"][0]\n",
    "outcome = data[\"outcome_name\"][0]\n",
    "common_cause = data[\"common_causes_names\"][0]\n",
    "df"
   ]
  },
  {
   "cell_type": "code",
   "execution_count": 3,
   "metadata": {
    "execution": {
     "iopub.execute_input": "2022-08-03T08:18:29.005055Z",
     "iopub.status.busy": "2022-08-03T08:18:29.003858Z",
     "iopub.status.idle": "2022-08-03T08:18:29.801283Z",
     "shell.execute_reply": "2022-08-03T08:18:29.800693Z"
    }
   },
   "outputs": [
    {
     "data": {
      "text/plain": [
       "<AxesSubplot:xlabel='v0'>"
      ]
     },
     "execution_count": 3,
     "metadata": {},
     "output_type": "execute_result"
    },
    {
     "data": {
      "image/png": "[encoded data removed]",
      "text/plain": [
       "<Figure size 432x288 with 1 Axes>"
      ]
     },
     "metadata": {
      "needs_background": "light"
     },
     "output_type": "display_data"
    }
   ],
   "source": [
    "# data['df'] is just a regular pandas.DataFrame\n",
    "df.causal.do(x=treatment,\n",
    "                     variable_types={treatment: 'b', outcome: 'c', common_cause: 'c'},\n",
    "                     outcome=outcome,\n",
    "                     common_causes=[common_cause],\n",
    "                     proceed_when_unidentifiable=True).groupby(treatment).mean().plot(y=outcome, kind='bar')"
   ]
  },
  {
   "cell_type": "code",
   "execution_count": 4,
   "metadata": {
    "execution": {
     "iopub.execute_input": "2022-08-03T08:18:29.805244Z",
     "iopub.status.busy": "2022-08-03T08:18:29.804674Z",
     "iopub.status.idle": "2022-08-03T08:18:29.896892Z",
     "shell.execute_reply": "2022-08-03T08:18:29.896311Z"
    }
   },
   "outputs": [
    {
     "data": {
      "text/plain": [
       "<AxesSubplot:xlabel='v0'>"
      ]
     },
     "execution_count": 4,
     "metadata": {},
     "output_type": "execute_result"
    },
    {
     "data": {
      "image/png": "[encoded data removed]",
      "text/plain": [
       "<Figure size 432x288 with 1 Axes>"
      ]
     },
     "metadata": {
      "needs_background": "light"
     },
     "output_type": "display_data"
    }
   ],
   "source": [
    "df.causal.do(x={treatment: 1}, \n",
    "              variable_types={treatment:'b', outcome: 'c', common_cause: 'c'}, \n",
    "              outcome=outcome,\n",
    "              method='weighting', \n",
    "              common_causes=[common_cause],\n",
    "              proceed_when_unidentifiable=True).groupby(treatment).mean().plot(y=outcome, kind='bar')"
   ]
  },
  {
   "cell_type": "code",
   "execution_count": 5,
   "metadata": {
    "execution": {
     "iopub.execute_input": "2022-08-03T08:18:29.901454Z",
     "iopub.status.busy": "2022-08-03T08:18:29.900371Z",
     "iopub.status.idle": "2022-08-03T08:18:29.934390Z",
     "shell.execute_reply": "2022-08-03T08:18:29.933765Z"
    }
   },
   "outputs": [],
   "source": [
    "cdf_1 = df.causal.do(x={treatment: 1}, \n",
    "              variable_types={treatment: 'b', outcome: 'c', common_cause: 'c'}, \n",
    "              outcome=outcome, \n",
    "              dot_graph=data['dot_graph'],\n",
    "              proceed_when_unidentifiable=True)\n",
    "\n",
    "cdf_0 = df.causal.do(x={treatment: 0}, \n",
    "              variable_types={treatment: 'b', outcome: 'c', common_cause: 'c'}, \n",
    "              outcome=outcome, \n",
    "              dot_graph=data['dot_graph'],\n",
    "              proceed_when_unidentifiable=True)\n"
   ]
  },
  {
   "cell_type": "code",
   "execution_count": 6,
   "metadata": {
    "execution": {
     "iopub.execute_input": "2022-08-03T08:18:29.939270Z",
     "iopub.status.busy": "2022-08-03T08:18:29.938161Z",
     "iopub.status.idle": "2022-08-03T08:18:29.950993Z",
     "shell.execute_reply": "2022-08-03T08:18:29.950411Z"
    },
    "scrolled": true
   },
   "outputs": [
    {
     "data": {
      "text/html": [
       "<div>\n",
       "<style scoped>\n",
       "    .dataframe tbody tr th:only-of-type {\n",
       "        vertical-align: middle;\n",
       "    }\n",
       "\n",
       "    .dataframe tbody tr th {\n",
       "        vertical-align: top;\n",
       "    }\n",
       "\n",
       "    .dataframe thead th {\n",
       "        text-align: right;\n",
       "    }\n",
       "</style>\n",
       "<table border=\"1\" class=\"dataframe\">\n",
       "  <thead>\n",
       "    <tr style=\"text-align: right;\">\n",
       "      <th></th>\n",
       "      <th>W0</th>\n",
       "      <th>v0</th>\n",
       "      <th>y</th>\n",
       "      <th>propensity_score</th>\n",
       "      <th>weight</th>\n",
       "    </tr>\n",
       "  </thead>\n",
       "  <tbody>\n",
       "    <tr>\n",
       "      <th>0</th>\n",
       "      <td>-0.722995</td>\n",
       "      <td>False</td>\n",
       "      <td>-1.534368</td>\n",
       "      <td>0.840766</td>\n",
       "      <td>1.189392</td>\n",
       "    </tr>\n",
       "    <tr>\n",
       "      <th>1</th>\n",
       "      <td>-1.065476</td>\n",
       "      <td>False</td>\n",
       "      <td>-0.485021</td>\n",
       "      <td>0.921337</td>\n",
       "      <td>1.085379</td>\n",
       "    </tr>\n",
       "    <tr>\n",
       "      <th>2</th>\n",
       "      <td>-1.644891</td>\n",
       "      <td>False</td>\n",
       "      <td>-0.579511</td>\n",
       "      <td>0.978301</td>\n",
       "      <td>1.022180</td>\n",
       "    </tr>\n",
       "    <tr>\n",
       "      <th>3</th>\n",
       "      <td>-0.681593</td>\n",
       "      <td>False</td>\n",
       "      <td>0.184384</td>\n",
       "      <td>0.827444</td>\n",
       "      <td>1.208540</td>\n",
       "    </tr>\n",
       "    <tr>\n",
       "      <th>4</th>\n",
       "      <td>0.541094</td>\n",
       "      <td>False</td>\n",
       "      <td>0.646150</td>\n",
       "      <td>0.218108</td>\n",
       "      <td>4.584886</td>\n",
       "    </tr>\n",
       "    <tr>\n",
       "      <th>...</th>\n",
       "      <td>...</td>\n",
       "      <td>...</td>\n",
       "      <td>...</td>\n",
       "      <td>...</td>\n",
       "      <td>...</td>\n",
       "    </tr>\n",
       "    <tr>\n",
       "      <th>995</th>\n",
       "      <td>0.690226</td>\n",
       "      <td>False</td>\n",
       "      <td>0.076791</td>\n",
       "      <td>0.164702</td>\n",
       "      <td>6.071585</td>\n",
       "    </tr>\n",
       "    <tr>\n",
       "      <th>996</th>\n",
       "      <td>0.355560</td>\n",
       "      <td>False</td>\n",
       "      <td>0.425776</td>\n",
       "      <td>0.300458</td>\n",
       "      <td>3.328250</td>\n",
       "    </tr>\n",
       "    <tr>\n",
       "      <th>997</th>\n",
       "      <td>-1.893135</td>\n",
       "      <td>False</td>\n",
       "      <td>-2.808480</td>\n",
       "      <td>0.987703</td>\n",
       "      <td>1.012450</td>\n",
       "    </tr>\n",
       "    <tr>\n",
       "      <th>998</th>\n",
       "      <td>-0.843561</td>\n",
       "      <td>False</td>\n",
       "      <td>-2.083766</td>\n",
       "      <td>0.874836</td>\n",
       "      <td>1.143072</td>\n",
       "    </tr>\n",
       "    <tr>\n",
       "      <th>999</th>\n",
       "      <td>0.003607</td>\n",
       "      <td>False</td>\n",
       "      <td>-0.664947</td>\n",
       "      <td>0.493409</td>\n",
       "      <td>2.026715</td>\n",
       "    </tr>\n",
       "  </tbody>\n",
       "</table>\n",
       "<p>1000 rows × 5 columns</p>\n",
       "</div>"
      ],
      "text/plain": [
       "           W0     v0         y  propensity_score    weight\n",
       "0   -0.722995  False -1.534368          0.840766  1.189392\n",
       "1   -1.065476  False -0.485021          0.921337  1.085379\n",
       "2   -1.644891  False -0.579511          0.978301  1.022180\n",
       "3   -0.681593  False  0.184384          0.827444  1.208540\n",
       "4    0.541094  False  0.646150          0.218108  4.584886\n",
       "..        ...    ...       ...               ...       ...\n",
       "995  0.690226  False  0.076791          0.164702  6.071585\n",
       "996  0.355560  False  0.425776          0.300458  3.328250\n",
       "997 -1.893135  False -2.808480          0.987703  1.012450\n",
       "998 -0.843561  False -2.083766          0.874836  1.143072\n",
       "999  0.003607  False -0.664947          0.493409  2.026715\n",
       "\n",
       "[1000 rows x 5 columns]"
      ]
     },
     "execution_count": 6,
     "metadata": {},
     "output_type": "execute_result"
    }
   ],
   "source": [
    "cdf_0"
   ]
  },
  {
   "cell_type": "code",
   "execution_count": 7,
   "metadata": {
    "execution": {
     "iopub.execute_input": "2022-08-03T08:18:29.954021Z",
     "iopub.status.busy": "2022-08-03T08:18:29.953466Z",
     "iopub.status.idle": "2022-08-03T08:18:29.965687Z",
     "shell.execute_reply": "2022-08-03T08:18:29.965116Z"
    }
   },
   "outputs": [
    {
     "data": {
      "text/html": [
       "<div>\n",
       "<style scoped>\n",
       "    .dataframe tbody tr th:only-of-type {\n",
       "        vertical-align: middle;\n",
       "    }\n",
       "\n",
       "    .dataframe tbody tr th {\n",
       "        vertical-align: top;\n",
       "    }\n",
       "\n",
       "    .dataframe thead th {\n",
       "        text-align: right;\n",
       "    }\n",
       "</style>\n",
       "<table border=\"1\" class=\"dataframe\">\n",
       "  <thead>\n",
       "    <tr style=\"text-align: right;\">\n",
       "      <th></th>\n",
       "      <th>W0</th>\n",
       "      <th>v0</th>\n",
       "      <th>y</th>\n",
       "      <th>propensity_score</th>\n",
       "      <th>weight</th>\n",
       "    </tr>\n",
       "  </thead>\n",
       "  <tbody>\n",
       "    <tr>\n",
       "      <th>0</th>\n",
       "      <td>-0.114115</td>\n",
       "      <td>True</td>\n",
       "      <td>7.265172</td>\n",
       "      <td>0.438441</td>\n",
       "      <td>2.280809</td>\n",
       "    </tr>\n",
       "    <tr>\n",
       "      <th>1</th>\n",
       "      <td>-1.294819</td>\n",
       "      <td>True</td>\n",
       "      <td>2.108284</td>\n",
       "      <td>0.047690</td>\n",
       "      <td>20.968848</td>\n",
       "    </tr>\n",
       "    <tr>\n",
       "      <th>2</th>\n",
       "      <td>-0.079459</td>\n",
       "      <td>True</td>\n",
       "      <td>3.628755</td>\n",
       "      <td>0.458378</td>\n",
       "      <td>2.181604</td>\n",
       "    </tr>\n",
       "    <tr>\n",
       "      <th>3</th>\n",
       "      <td>0.370500</td>\n",
       "      <td>True</td>\n",
       "      <td>3.707393</td>\n",
       "      <td>0.706796</td>\n",
       "      <td>1.414836</td>\n",
       "    </tr>\n",
       "    <tr>\n",
       "      <th>4</th>\n",
       "      <td>-0.475199</td>\n",
       "      <td>True</td>\n",
       "      <td>3.211706</td>\n",
       "      <td>0.252092</td>\n",
       "      <td>3.966804</td>\n",
       "    </tr>\n",
       "    <tr>\n",
       "      <th>...</th>\n",
       "      <td>...</td>\n",
       "      <td>...</td>\n",
       "      <td>...</td>\n",
       "      <td>...</td>\n",
       "      <td>...</td>\n",
       "    </tr>\n",
       "    <tr>\n",
       "      <th>995</th>\n",
       "      <td>-0.532449</td>\n",
       "      <td>True</td>\n",
       "      <td>2.823376</td>\n",
       "      <td>0.227819</td>\n",
       "      <td>4.389445</td>\n",
       "    </tr>\n",
       "    <tr>\n",
       "      <th>996</th>\n",
       "      <td>-0.967405</td>\n",
       "      <td>True</td>\n",
       "      <td>1.932767</td>\n",
       "      <td>0.096869</td>\n",
       "      <td>10.323225</td>\n",
       "    </tr>\n",
       "    <tr>\n",
       "      <th>997</th>\n",
       "      <td>-0.934955</td>\n",
       "      <td>True</td>\n",
       "      <td>2.484935</td>\n",
       "      <td>0.103677</td>\n",
       "      <td>9.645334</td>\n",
       "    </tr>\n",
       "    <tr>\n",
       "      <th>998</th>\n",
       "      <td>-0.165721</td>\n",
       "      <td>True</td>\n",
       "      <td>4.663051</td>\n",
       "      <td>0.409134</td>\n",
       "      <td>2.444185</td>\n",
       "    </tr>\n",
       "    <tr>\n",
       "      <th>999</th>\n",
       "      <td>-0.110981</td>\n",
       "      <td>True</td>\n",
       "      <td>5.235873</td>\n",
       "      <td>0.440237</td>\n",
       "      <td>2.271505</td>\n",
       "    </tr>\n",
       "  </tbody>\n",
       "</table>\n",
       "<p>1000 rows × 5 columns</p>\n",
       "</div>"
      ],
      "text/plain": [
       "           W0    v0         y  propensity_score     weight\n",
       "0   -0.114115  True  7.265172          0.438441   2.280809\n",
       "1   -1.294819  True  2.108284          0.047690  20.968848\n",
       "2   -0.079459  True  3.628755          0.458378   2.181604\n",
       "3    0.370500  True  3.707393          0.706796   1.414836\n",
       "4   -0.475199  True  3.211706          0.252092   3.966804\n",
       "..        ...   ...       ...               ...        ...\n",
       "995 -0.532449  True  2.823376          0.227819   4.389445\n",
       "996 -0.967405  True  1.932767          0.096869  10.323225\n",
       "997 -0.934955  True  2.484935          0.103677   9.645334\n",
       "998 -0.165721  True  4.663051          0.409134   2.444185\n",
       "999 -0.110981  True  5.235873          0.440237   2.271505\n",
       "\n",
       "[1000 rows x 5 columns]"
      ]
     },
     "execution_count": 7,
     "metadata": {},
     "output_type": "execute_result"
    }
   ],
   "source": [
    "cdf_1"
   ]
  },
  {
   "cell_type": "markdown",
   "metadata": {},
   "source": [
    "## Comparing the estimate to Linear Regression\n",
    "First, estimating the effect using the causal data frame, and the 95% confidence interval."
   ]
  },
  {
   "cell_type": "code",
   "execution_count": 8,
   "metadata": {
    "execution": {
     "iopub.execute_input": "2022-08-03T08:18:29.968348Z",
     "iopub.status.busy": "2022-08-03T08:18:29.968128Z",
     "iopub.status.idle": "2022-08-03T08:18:30.069252Z",
     "shell.execute_reply": "2022-08-03T08:18:30.068478Z"
    }
   },
   "outputs": [
    {
     "data": {
      "image/png": "[encoded data removed]",
      "text/latex": [
       "$\\displaystyle 5.65841036088036$"
      ],
      "text/plain": [
       "5.658410360880359"
      ]
     },
     "execution_count": 8,
     "metadata": {},
     "output_type": "execute_result"
    }
   ],
   "source": [
    "(cdf_1['y'] - cdf_0['y']).mean()"
   ]
  },
  {
   "cell_type": "code",
   "execution_count": 9,
   "metadata": {
    "execution": {
     "iopub.execute_input": "2022-08-03T08:18:30.072662Z",
     "iopub.status.busy": "2022-08-03T08:18:30.072280Z",
     "iopub.status.idle": "2022-08-03T08:18:30.097118Z",
     "shell.execute_reply": "2022-08-03T08:18:30.096455Z"
    }
   },
   "outputs": [
    {
     "data": {
      "image/png": "[encoded data removed]",
      "text/latex": [
       "$\\displaystyle 0.18240244621506$"
      ],
      "text/plain": [
       "0.1824024462150598"
      ]
     },
     "execution_count": 9,
     "metadata": {},
     "output_type": "execute_result"
    }
   ],
   "source": [
    "1.96*(cdf_1['y'] - cdf_0['y']).std() / np.sqrt(len(df))"
   ]
  },
  {
   "cell_type": "markdown",
   "metadata": {},
   "source": [
    "Comparing to the estimate from OLS."
   ]
  },
  {
   "cell_type": "code",
   "execution_count": 10,
   "metadata": {
    "execution": {
     "iopub.execute_input": "2022-08-03T08:18:30.100321Z",
     "iopub.status.busy": "2022-08-03T08:18:30.099919Z",
     "iopub.status.idle": "2022-08-03T08:18:30.116124Z",
     "shell.execute_reply": "2022-08-03T08:18:30.115408Z"
    }
   },
   "outputs": [
    {
     "data": {
      "text/html": [
       "<table class=\"simpletable\">\n",
       "<caption>OLS Regression Results</caption>\n",
       "<tr>\n",
       "  <th>Dep. Variable:</th>            <td>y</td>        <th>  R-squared (uncentered):</th>      <td>   0.939</td>\n",
       "</tr>\n",
       "<tr>\n",
       "  <th>Model:</th>                   <td>OLS</td>       <th>  Adj. R-squared (uncentered):</th> <td>   0.939</td>\n",
       "</tr>\n",
       "<tr>\n",
       "  <th>Method:</th>             <td>Least Squares</td>  <th>  F-statistic:       </th>          <td>   7717.</td>\n",
       "</tr>\n",
       "<tr>\n",
       "  <th>Date:</th>             <td>Wed, 03 Aug 2022</td> <th>  Prob (F-statistic):</th>           <td>  0.00</td> \n",
       "</tr>\n",
       "<tr>\n",
       "  <th>Time:</th>                 <td>08:18:30</td>     <th>  Log-Likelihood:    </th>          <td> -1427.5</td>\n",
       "</tr>\n",
       "<tr>\n",
       "  <th>No. Observations:</th>      <td>  1000</td>      <th>  AIC:               </th>          <td>   2859.</td>\n",
       "</tr>\n",
       "<tr>\n",
       "  <th>Df Residuals:</th>          <td>   998</td>      <th>  BIC:               </th>          <td>   2869.</td>\n",
       "</tr>\n",
       "<tr>\n",
       "  <th>Df Model:</th>              <td>     2</td>      <th>                     </th>              <td> </td>   \n",
       "</tr>\n",
       "<tr>\n",
       "  <th>Covariance Type:</th>      <td>nonrobust</td>    <th>                     </th>              <td> </td>   \n",
       "</tr>\n",
       "</table>\n",
       "<table class=\"simpletable\">\n",
       "<tr>\n",
       "   <td></td>     <th>coef</th>     <th>std err</th>      <th>t</th>      <th>P>|t|</th>  <th>[0.025</th>    <th>0.975]</th>  \n",
       "</tr>\n",
       "<tr>\n",
       "  <th>x1</th> <td>    2.0230</td> <td>    0.029</td> <td>   68.689</td> <td> 0.000</td> <td>    1.965</td> <td>    2.081</td>\n",
       "</tr>\n",
       "<tr>\n",
       "  <th>x2</th> <td>    4.9924</td> <td>    0.056</td> <td>   89.908</td> <td> 0.000</td> <td>    4.883</td> <td>    5.101</td>\n",
       "</tr>\n",
       "</table>\n",
       "<table class=\"simpletable\">\n",
       "<tr>\n",
       "  <th>Omnibus:</th>       <td> 0.859</td> <th>  Durbin-Watson:     </th> <td>   1.956</td>\n",
       "</tr>\n",
       "<tr>\n",
       "  <th>Prob(Omnibus):</th> <td> 0.651</td> <th>  Jarque-Bera (JB):  </th> <td>   0.856</td>\n",
       "</tr>\n",
       "<tr>\n",
       "  <th>Skew:</th>          <td>-0.071</td> <th>  Prob(JB):          </th> <td>   0.652</td>\n",
       "</tr>\n",
       "<tr>\n",
       "  <th>Kurtosis:</th>      <td> 2.987</td> <th>  Cond. No.          </th> <td>    1.94</td>\n",
       "</tr>\n",
       "</table><br/><br/>Notes:<br/>[1] R² is computed without centering (uncentered) since the model does not contain a constant.<br/>[2] Standard Errors assume that the covariance matrix of the errors is correctly specified."
      ],
      "text/plain": [
       "<class 'statsmodels.iolib.summary.Summary'>\n",
       "\"\"\"\n",
       "                                 OLS Regression Results                                \n",
       "=======================================================================================\n",
       "Dep. Variable:                      y   R-squared (uncentered):                   0.939\n",
       "Model:                            OLS   Adj. R-squared (uncentered):              0.939\n",
       "Method:                 Least Squares   F-statistic:                              7717.\n",
       "Date:                Wed, 03 Aug 2022   Prob (F-statistic):                        0.00\n",
       "Time:                        08:18:30   Log-Likelihood:                         -1427.5\n",
       "No. Observations:                1000   AIC:                                      2859.\n",
       "Df Residuals:                     998   BIC:                                      2869.\n",
       "Df Model:                           2                                                  \n",
       "Covariance Type:            nonrobust                                                  \n",
       "==============================================================================\n",
       "                 coef    std err          t      P>|t|      [0.025      0.975]\n",
       "------------------------------------------------------------------------------\n",
       "x1             2.0230      0.029     68.689      0.000       1.965       2.081\n",
       "x2             4.9924      0.056     89.908      0.000       4.883       5.101\n",
       "==============================================================================\n",
       "Omnibus:                        0.859   Durbin-Watson:                   1.956\n",
       "Prob(Omnibus):                  0.651   Jarque-Bera (JB):                0.856\n",
       "Skew:                          -0.071   Prob(JB):                        0.652\n",
       "Kurtosis:                       2.987   Cond. No.                         1.94\n",
       "==============================================================================\n",
       "\n",
       "Notes:\n",
       "[1] R² is computed without centering (uncentered) since the model does not contain a constant.\n",
       "[2] Standard Errors assume that the covariance matrix of the errors is correctly specified.\n",
       "\"\"\""
      ]
     },
     "execution_count": 10,
     "metadata": {},
     "output_type": "execute_result"
    }
   ],
   "source": [
    "model = OLS(np.asarray(df[outcome]), np.asarray(df[[common_cause, treatment]], dtype=np.float64))\n",
    "result = model.fit()\n",
    "result.summary()"
   ]
  }
 ],
 "metadata": {
  "kernelspec": {
   "display_name": "Python 3",
   "language": "python",
   "name": "python3"
  },
  "language_info": {
   "codemirror_mode": {
    "name": "ipython",
    "version": 3
   },
   "file_extension": ".py",
   "mimetype": "text/x-python",
   "name": "python",
   "nbconvert_exporter": "python",
   "pygments_lexer": "ipython3",
   "version": "3.8.10"
  },
  "toc": {
   "base_numbering": 1,
   "nav_menu": {},
   "number_sections": false,
   "sideBar": true,
   "skip_h1_title": true,
   "title_cell": "Table of Contents",
   "title_sidebar": "Contents",
   "toc_cell": false,
   "toc_position": {},
   "toc_section_display": true,
   "toc_window_display": false
  }
 },
 "nbformat": 4,
 "nbformat_minor": 4
}
