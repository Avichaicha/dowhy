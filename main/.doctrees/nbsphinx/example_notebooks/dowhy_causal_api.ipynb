{
 "cells": [
  {
   "cell_type": "markdown",
   "metadata": {},
   "source": [
    "# Demo for the DoWhy causal API\n",
    "We show a simple example of adding a causal extension to any dataframe. "
   ]
  },
  {
   "cell_type": "code",
   "execution_count": 1,
   "metadata": {
    "execution": {
     "iopub.execute_input": "2022-11-15T09:04:08.163149Z",
     "iopub.status.busy": "2022-11-15T09:04:08.162843Z",
     "iopub.status.idle": "2022-11-15T09:04:10.081147Z",
     "shell.execute_reply": "2022-11-15T09:04:10.080415Z"
    }
   },
   "outputs": [],
   "source": [
    "import dowhy.datasets\n",
    "import dowhy.api\n",
    "\n",
    "import numpy as np\n",
    "import pandas as pd\n",
    "\n",
    "from statsmodels.api import OLS"
   ]
  },
  {
   "cell_type": "code",
   "execution_count": 2,
   "metadata": {
    "execution": {
     "iopub.execute_input": "2022-11-15T09:04:10.085751Z",
     "iopub.status.busy": "2022-11-15T09:04:10.085022Z",
     "iopub.status.idle": "2022-11-15T09:04:10.128578Z",
     "shell.execute_reply": "2022-11-15T09:04:10.127306Z"
    }
   },
   "outputs": [
    {
     "data": {
      "text/html": [
       "<div>\n",
       "<style scoped>\n",
       "    .dataframe tbody tr th:only-of-type {\n",
       "        vertical-align: middle;\n",
       "    }\n",
       "\n",
       "    .dataframe tbody tr th {\n",
       "        vertical-align: top;\n",
       "    }\n",
       "\n",
       "    .dataframe thead th {\n",
       "        text-align: right;\n",
       "    }\n",
       "</style>\n",
       "<table border=\"1\" class=\"dataframe\">\n",
       "  <thead>\n",
       "    <tr style=\"text-align: right;\">\n",
       "      <th></th>\n",
       "      <th>W0</th>\n",
       "      <th>v0</th>\n",
       "      <th>y</th>\n",
       "    </tr>\n",
       "  </thead>\n",
       "  <tbody>\n",
       "    <tr>\n",
       "      <th>0</th>\n",
       "      <td>0.939086</td>\n",
       "      <td>True</td>\n",
       "      <td>7.187959</td>\n",
       "    </tr>\n",
       "    <tr>\n",
       "      <th>1</th>\n",
       "      <td>1.595018</td>\n",
       "      <td>True</td>\n",
       "      <td>7.167657</td>\n",
       "    </tr>\n",
       "    <tr>\n",
       "      <th>2</th>\n",
       "      <td>-1.845766</td>\n",
       "      <td>False</td>\n",
       "      <td>-2.850148</td>\n",
       "    </tr>\n",
       "    <tr>\n",
       "      <th>3</th>\n",
       "      <td>1.601548</td>\n",
       "      <td>True</td>\n",
       "      <td>6.820993</td>\n",
       "    </tr>\n",
       "    <tr>\n",
       "      <th>4</th>\n",
       "      <td>1.143279</td>\n",
       "      <td>True</td>\n",
       "      <td>6.574234</td>\n",
       "    </tr>\n",
       "    <tr>\n",
       "      <th>...</th>\n",
       "      <td>...</td>\n",
       "      <td>...</td>\n",
       "      <td>...</td>\n",
       "    </tr>\n",
       "    <tr>\n",
       "      <th>995</th>\n",
       "      <td>0.208281</td>\n",
       "      <td>True</td>\n",
       "      <td>4.484852</td>\n",
       "    </tr>\n",
       "    <tr>\n",
       "      <th>996</th>\n",
       "      <td>1.009224</td>\n",
       "      <td>False</td>\n",
       "      <td>0.549527</td>\n",
       "    </tr>\n",
       "    <tr>\n",
       "      <th>997</th>\n",
       "      <td>1.090765</td>\n",
       "      <td>True</td>\n",
       "      <td>5.079227</td>\n",
       "    </tr>\n",
       "    <tr>\n",
       "      <th>998</th>\n",
       "      <td>-0.373823</td>\n",
       "      <td>True</td>\n",
       "      <td>3.697504</td>\n",
       "    </tr>\n",
       "    <tr>\n",
       "      <th>999</th>\n",
       "      <td>-1.513248</td>\n",
       "      <td>True</td>\n",
       "      <td>4.314476</td>\n",
       "    </tr>\n",
       "  </tbody>\n",
       "</table>\n",
       "<p>1000 rows × 3 columns</p>\n",
       "</div>"
      ],
      "text/plain": [
       "           W0     v0         y\n",
       "0    0.939086   True  7.187959\n",
       "1    1.595018   True  7.167657\n",
       "2   -1.845766  False -2.850148\n",
       "3    1.601548   True  6.820993\n",
       "4    1.143279   True  6.574234\n",
       "..        ...    ...       ...\n",
       "995  0.208281   True  4.484852\n",
       "996  1.009224  False  0.549527\n",
       "997  1.090765   True  5.079227\n",
       "998 -0.373823   True  3.697504\n",
       "999 -1.513248   True  4.314476\n",
       "\n",
       "[1000 rows x 3 columns]"
      ]
     },
     "execution_count": 2,
     "metadata": {},
     "output_type": "execute_result"
    }
   ],
   "source": [
    "data = dowhy.datasets.linear_dataset(beta=5,\n",
    "        num_common_causes=1,\n",
    "        num_instruments = 0,\n",
    "        num_samples=1000,\n",
    "        treatment_is_binary=True)\n",
    "df = data['df']\n",
    "df['y'] = df['y'] + np.random.normal(size=len(df)) # Adding noise to data. Without noise, the variance in Y|X, Z is zero, and mcmc fails.\n",
    "#data['dot_graph'] = 'digraph { v ->y;X0-> v;X0-> y;}'\n",
    "\n",
    "treatment= data[\"treatment_name\"][0]\n",
    "outcome = data[\"outcome_name\"][0]\n",
    "common_cause = data[\"common_causes_names\"][0]\n",
    "df"
   ]
  },
  {
   "cell_type": "code",
   "execution_count": 3,
   "metadata": {
    "execution": {
     "iopub.execute_input": "2022-11-15T09:04:10.131894Z",
     "iopub.status.busy": "2022-11-15T09:04:10.131460Z",
     "iopub.status.idle": "2022-11-15T09:04:10.286672Z",
     "shell.execute_reply": "2022-11-15T09:04:10.286125Z"
    }
   },
   "outputs": [
    {
     "data": {
      "text/plain": [
       "<AxesSubplot: xlabel='v0'>"
      ]
     },
     "execution_count": 3,
     "metadata": {},
     "output_type": "execute_result"
    },
    {
     "data": {
      "image/png": "[encoded data removed]",
      "text/plain": [
       "<Figure size 640x480 with 1 Axes>"
      ]
     },
     "metadata": {},
     "output_type": "display_data"
    }
   ],
   "source": [
    "# data['df'] is just a regular pandas.DataFrame\n",
    "df.causal.do(x=treatment,\n",
    "                     variable_types={treatment: 'b', outcome: 'c', common_cause: 'c'},\n",
    "                     outcome=outcome,\n",
    "                     common_causes=[common_cause],\n",
    "                     proceed_when_unidentifiable=True).groupby(treatment).mean().plot(y=outcome, kind='bar')"
   ]
  },
  {
   "cell_type": "code",
   "execution_count": 4,
   "metadata": {
    "execution": {
     "iopub.execute_input": "2022-11-15T09:04:10.289855Z",
     "iopub.status.busy": "2022-11-15T09:04:10.289166Z",
     "iopub.status.idle": "2022-11-15T09:04:10.404602Z",
     "shell.execute_reply": "2022-11-15T09:04:10.404072Z"
    }
   },
   "outputs": [
    {
     "data": {
      "text/plain": [
       "<AxesSubplot: xlabel='v0'>"
      ]
     },
     "execution_count": 4,
     "metadata": {},
     "output_type": "execute_result"
    },
    {
     "data": {
      "image/png": "[encoded data removed]",
      "text/plain": [
       "<Figure size 640x480 with 1 Axes>"
      ]
     },
     "metadata": {},
     "output_type": "display_data"
    }
   ],
   "source": [
    "df.causal.do(x={treatment: 1}, \n",
    "              variable_types={treatment:'b', outcome: 'c', common_cause: 'c'}, \n",
    "              outcome=outcome,\n",
    "              method='weighting', \n",
    "              common_causes=[common_cause],\n",
    "              proceed_when_unidentifiable=True).groupby(treatment).mean().plot(y=outcome, kind='bar')"
   ]
  },
  {
   "cell_type": "code",
   "execution_count": 5,
   "metadata": {
    "execution": {
     "iopub.execute_input": "2022-11-15T09:04:10.407601Z",
     "iopub.status.busy": "2022-11-15T09:04:10.407157Z",
     "iopub.status.idle": "2022-11-15T09:04:10.437428Z",
     "shell.execute_reply": "2022-11-15T09:04:10.436848Z"
    }
   },
   "outputs": [],
   "source": [
    "cdf_1 = df.causal.do(x={treatment: 1}, \n",
    "              variable_types={treatment: 'b', outcome: 'c', common_cause: 'c'}, \n",
    "              outcome=outcome, \n",
    "              dot_graph=data['dot_graph'],\n",
    "              proceed_when_unidentifiable=True)\n",
    "\n",
    "cdf_0 = df.causal.do(x={treatment: 0}, \n",
    "              variable_types={treatment: 'b', outcome: 'c', common_cause: 'c'}, \n",
    "              outcome=outcome, \n",
    "              dot_graph=data['dot_graph'],\n",
    "              proceed_when_unidentifiable=True)\n"
   ]
  },
  {
   "cell_type": "code",
   "execution_count": 6,
   "metadata": {
    "execution": {
     "iopub.execute_input": "2022-11-15T09:04:10.440639Z",
     "iopub.status.busy": "2022-11-15T09:04:10.440228Z",
     "iopub.status.idle": "2022-11-15T09:04:10.452630Z",
     "shell.execute_reply": "2022-11-15T09:04:10.451811Z"
    },
    "scrolled": true
   },
   "outputs": [
    {
     "data": {
      "text/html": [
       "<div>\n",
       "<style scoped>\n",
       "    .dataframe tbody tr th:only-of-type {\n",
       "        vertical-align: middle;\n",
       "    }\n",
       "\n",
       "    .dataframe tbody tr th {\n",
       "        vertical-align: top;\n",
       "    }\n",
       "\n",
       "    .dataframe thead th {\n",
       "        text-align: right;\n",
       "    }\n",
       "</style>\n",
       "<table border=\"1\" class=\"dataframe\">\n",
       "  <thead>\n",
       "    <tr style=\"text-align: right;\">\n",
       "      <th></th>\n",
       "      <th>W0</th>\n",
       "      <th>v0</th>\n",
       "      <th>y</th>\n",
       "      <th>propensity_score</th>\n",
       "      <th>weight</th>\n",
       "    </tr>\n",
       "  </thead>\n",
       "  <tbody>\n",
       "    <tr>\n",
       "      <th>0</th>\n",
       "      <td>-1.024632</td>\n",
       "      <td>False</td>\n",
       "      <td>-4.848371</td>\n",
       "      <td>0.706372</td>\n",
       "      <td>1.415685</td>\n",
       "    </tr>\n",
       "    <tr>\n",
       "      <th>1</th>\n",
       "      <td>0.443066</td>\n",
       "      <td>False</td>\n",
       "      <td>-1.256884</td>\n",
       "      <td>0.443290</td>\n",
       "      <td>2.255860</td>\n",
       "    </tr>\n",
       "    <tr>\n",
       "      <th>2</th>\n",
       "      <td>-0.929474</td>\n",
       "      <td>False</td>\n",
       "      <td>-2.610624</td>\n",
       "      <td>0.691287</td>\n",
       "      <td>1.446576</td>\n",
       "    </tr>\n",
       "    <tr>\n",
       "      <th>3</th>\n",
       "      <td>0.518554</td>\n",
       "      <td>False</td>\n",
       "      <td>0.181877</td>\n",
       "      <td>0.429305</td>\n",
       "      <td>2.329346</td>\n",
       "    </tr>\n",
       "    <tr>\n",
       "      <th>4</th>\n",
       "      <td>0.797756</td>\n",
       "      <td>False</td>\n",
       "      <td>2.168026</td>\n",
       "      <td>0.378713</td>\n",
       "      <td>2.640524</td>\n",
       "    </tr>\n",
       "    <tr>\n",
       "      <th>...</th>\n",
       "      <td>...</td>\n",
       "      <td>...</td>\n",
       "      <td>...</td>\n",
       "      <td>...</td>\n",
       "      <td>...</td>\n",
       "    </tr>\n",
       "    <tr>\n",
       "      <th>995</th>\n",
       "      <td>0.628619</td>\n",
       "      <td>False</td>\n",
       "      <td>0.103182</td>\n",
       "      <td>0.409121</td>\n",
       "      <td>2.444266</td>\n",
       "    </tr>\n",
       "    <tr>\n",
       "      <th>996</th>\n",
       "      <td>1.120262</td>\n",
       "      <td>False</td>\n",
       "      <td>1.585079</td>\n",
       "      <td>0.323449</td>\n",
       "      <td>3.091679</td>\n",
       "    </tr>\n",
       "    <tr>\n",
       "      <th>997</th>\n",
       "      <td>-0.642075</td>\n",
       "      <td>False</td>\n",
       "      <td>-0.248202</td>\n",
       "      <td>0.643283</td>\n",
       "      <td>1.554527</td>\n",
       "    </tr>\n",
       "    <tr>\n",
       "      <th>998</th>\n",
       "      <td>-1.335336</td>\n",
       "      <td>False</td>\n",
       "      <td>-0.799718</td>\n",
       "      <td>0.752481</td>\n",
       "      <td>1.328937</td>\n",
       "    </tr>\n",
       "    <tr>\n",
       "      <th>999</th>\n",
       "      <td>0.007774</td>\n",
       "      <td>False</td>\n",
       "      <td>-1.288290</td>\n",
       "      <td>0.525003</td>\n",
       "      <td>1.904752</td>\n",
       "    </tr>\n",
       "  </tbody>\n",
       "</table>\n",
       "<p>1000 rows × 5 columns</p>\n",
       "</div>"
      ],
      "text/plain": [
       "           W0     v0         y  propensity_score    weight\n",
       "0   -1.024632  False -4.848371          0.706372  1.415685\n",
       "1    0.443066  False -1.256884          0.443290  2.255860\n",
       "2   -0.929474  False -2.610624          0.691287  1.446576\n",
       "3    0.518554  False  0.181877          0.429305  2.329346\n",
       "4    0.797756  False  2.168026          0.378713  2.640524\n",
       "..        ...    ...       ...               ...       ...\n",
       "995  0.628619  False  0.103182          0.409121  2.444266\n",
       "996  1.120262  False  1.585079          0.323449  3.091679\n",
       "997 -0.642075  False -0.248202          0.643283  1.554527\n",
       "998 -1.335336  False -0.799718          0.752481  1.328937\n",
       "999  0.007774  False -1.288290          0.525003  1.904752\n",
       "\n",
       "[1000 rows x 5 columns]"
      ]
     },
     "execution_count": 6,
     "metadata": {},
     "output_type": "execute_result"
    }
   ],
   "source": [
    "cdf_0"
   ]
  },
  {
   "cell_type": "code",
   "execution_count": 7,
   "metadata": {
    "execution": {
     "iopub.execute_input": "2022-11-15T09:04:10.455662Z",
     "iopub.status.busy": "2022-11-15T09:04:10.455315Z",
     "iopub.status.idle": "2022-11-15T09:04:10.467482Z",
     "shell.execute_reply": "2022-11-15T09:04:10.466797Z"
    }
   },
   "outputs": [
    {
     "data": {
      "text/html": [
       "<div>\n",
       "<style scoped>\n",
       "    .dataframe tbody tr th:only-of-type {\n",
       "        vertical-align: middle;\n",
       "    }\n",
       "\n",
       "    .dataframe tbody tr th {\n",
       "        vertical-align: top;\n",
       "    }\n",
       "\n",
       "    .dataframe thead th {\n",
       "        text-align: right;\n",
       "    }\n",
       "</style>\n",
       "<table border=\"1\" class=\"dataframe\">\n",
       "  <thead>\n",
       "    <tr style=\"text-align: right;\">\n",
       "      <th></th>\n",
       "      <th>W0</th>\n",
       "      <th>v0</th>\n",
       "      <th>y</th>\n",
       "      <th>propensity_score</th>\n",
       "      <th>weight</th>\n",
       "    </tr>\n",
       "  </thead>\n",
       "  <tbody>\n",
       "    <tr>\n",
       "      <th>0</th>\n",
       "      <td>-0.536080</td>\n",
       "      <td>True</td>\n",
       "      <td>4.641057</td>\n",
       "      <td>0.375242</td>\n",
       "      <td>2.664945</td>\n",
       "    </tr>\n",
       "    <tr>\n",
       "      <th>1</th>\n",
       "      <td>-0.148319</td>\n",
       "      <td>True</td>\n",
       "      <td>5.717439</td>\n",
       "      <td>0.445793</td>\n",
       "      <td>2.243193</td>\n",
       "    </tr>\n",
       "    <tr>\n",
       "      <th>2</th>\n",
       "      <td>0.075723</td>\n",
       "      <td>True</td>\n",
       "      <td>4.734738</td>\n",
       "      <td>0.487776</td>\n",
       "      <td>2.050123</td>\n",
       "    </tr>\n",
       "    <tr>\n",
       "      <th>3</th>\n",
       "      <td>2.235506</td>\n",
       "      <td>True</td>\n",
       "      <td>7.699969</td>\n",
       "      <td>0.828936</td>\n",
       "      <td>1.206366</td>\n",
       "    </tr>\n",
       "    <tr>\n",
       "      <th>4</th>\n",
       "      <td>1.975569</td>\n",
       "      <td>True</td>\n",
       "      <td>8.324647</td>\n",
       "      <td>0.799358</td>\n",
       "      <td>1.251003</td>\n",
       "    </tr>\n",
       "    <tr>\n",
       "      <th>...</th>\n",
       "      <td>...</td>\n",
       "      <td>...</td>\n",
       "      <td>...</td>\n",
       "      <td>...</td>\n",
       "      <td>...</td>\n",
       "    </tr>\n",
       "    <tr>\n",
       "      <th>995</th>\n",
       "      <td>0.290320</td>\n",
       "      <td>True</td>\n",
       "      <td>4.996485</td>\n",
       "      <td>0.528158</td>\n",
       "      <td>1.893371</td>\n",
       "    </tr>\n",
       "    <tr>\n",
       "      <th>996</th>\n",
       "      <td>-0.566760</td>\n",
       "      <td>True</td>\n",
       "      <td>4.914448</td>\n",
       "      <td>0.369840</td>\n",
       "      <td>2.703873</td>\n",
       "    </tr>\n",
       "    <tr>\n",
       "      <th>997</th>\n",
       "      <td>0.183012</td>\n",
       "      <td>True</td>\n",
       "      <td>4.900382</td>\n",
       "      <td>0.507978</td>\n",
       "      <td>1.968588</td>\n",
       "    </tr>\n",
       "    <tr>\n",
       "      <th>998</th>\n",
       "      <td>0.299458</td>\n",
       "      <td>True</td>\n",
       "      <td>5.427688</td>\n",
       "      <td>0.529874</td>\n",
       "      <td>1.887242</td>\n",
       "    </tr>\n",
       "    <tr>\n",
       "      <th>999</th>\n",
       "      <td>0.233481</td>\n",
       "      <td>True</td>\n",
       "      <td>7.070439</td>\n",
       "      <td>0.517477</td>\n",
       "      <td>1.932454</td>\n",
       "    </tr>\n",
       "  </tbody>\n",
       "</table>\n",
       "<p>1000 rows × 5 columns</p>\n",
       "</div>"
      ],
      "text/plain": [
       "           W0    v0         y  propensity_score    weight\n",
       "0   -0.536080  True  4.641057          0.375242  2.664945\n",
       "1   -0.148319  True  5.717439          0.445793  2.243193\n",
       "2    0.075723  True  4.734738          0.487776  2.050123\n",
       "3    2.235506  True  7.699969          0.828936  1.206366\n",
       "4    1.975569  True  8.324647          0.799358  1.251003\n",
       "..        ...   ...       ...               ...       ...\n",
       "995  0.290320  True  4.996485          0.528158  1.893371\n",
       "996 -0.566760  True  4.914448          0.369840  2.703873\n",
       "997  0.183012  True  4.900382          0.507978  1.968588\n",
       "998  0.299458  True  5.427688          0.529874  1.887242\n",
       "999  0.233481  True  7.070439          0.517477  1.932454\n",
       "\n",
       "[1000 rows x 5 columns]"
      ]
     },
     "execution_count": 7,
     "metadata": {},
     "output_type": "execute_result"
    }
   ],
   "source": [
    "cdf_1"
   ]
  },
  {
   "cell_type": "markdown",
   "metadata": {},
   "source": [
    "## Comparing the estimate to Linear Regression\n",
    "First, estimating the effect using the causal data frame, and the 95% confidence interval."
   ]
  },
  {
   "cell_type": "code",
   "execution_count": 8,
   "metadata": {
    "execution": {
     "iopub.execute_input": "2022-11-15T09:04:10.470217Z",
     "iopub.status.busy": "2022-11-15T09:04:10.469871Z",
     "iopub.status.idle": "2022-11-15T09:04:10.528148Z",
     "shell.execute_reply": "2022-11-15T09:04:10.527532Z"
    }
   },
   "outputs": [
    {
     "data": {
      "image/png": "[encoded data removed]",
      "text/latex": [
       "$\\displaystyle 5.17984017682742$"
      ],
      "text/plain": [
       "5.17984017682742"
      ]
     },
     "execution_count": 8,
     "metadata": {},
     "output_type": "execute_result"
    }
   ],
   "source": [
    "(cdf_1['y'] - cdf_0['y']).mean()"
   ]
  },
  {
   "cell_type": "code",
   "execution_count": 9,
   "metadata": {
    "execution": {
     "iopub.execute_input": "2022-11-15T09:04:10.532900Z",
     "iopub.status.busy": "2022-11-15T09:04:10.531956Z",
     "iopub.status.idle": "2022-11-15T09:04:10.551612Z",
     "shell.execute_reply": "2022-11-15T09:04:10.550959Z"
    }
   },
   "outputs": [
    {
     "data": {
      "image/png": "[encoded data removed]",
      "text/latex": [
       "$\\displaystyle 0.134903100672788$"
      ],
      "text/plain": [
       "0.1349031006727882"
      ]
     },
     "execution_count": 9,
     "metadata": {},
     "output_type": "execute_result"
    }
   ],
   "source": [
    "1.96*(cdf_1['y'] - cdf_0['y']).std() / np.sqrt(len(df))"
   ]
  },
  {
   "cell_type": "markdown",
   "metadata": {},
   "source": [
    "Comparing to the estimate from OLS."
   ]
  },
  {
   "cell_type": "code",
   "execution_count": 10,
   "metadata": {
    "execution": {
     "iopub.execute_input": "2022-11-15T09:04:10.554552Z",
     "iopub.status.busy": "2022-11-15T09:04:10.554143Z",
     "iopub.status.idle": "2022-11-15T09:04:10.570508Z",
     "shell.execute_reply": "2022-11-15T09:04:10.569847Z"
    }
   },
   "outputs": [
    {
     "data": {
      "text/html": [
       "<table class=\"simpletable\">\n",
       "<caption>OLS Regression Results</caption>\n",
       "<tr>\n",
       "  <th>Dep. Variable:</th>            <td>y</td>        <th>  R-squared (uncentered):</th>      <td>   0.944</td>\n",
       "</tr>\n",
       "<tr>\n",
       "  <th>Model:</th>                   <td>OLS</td>       <th>  Adj. R-squared (uncentered):</th> <td>   0.944</td>\n",
       "</tr>\n",
       "<tr>\n",
       "  <th>Method:</th>             <td>Least Squares</td>  <th>  F-statistic:       </th>          <td>   8396.</td>\n",
       "</tr>\n",
       "<tr>\n",
       "  <th>Date:</th>             <td>Tue, 15 Nov 2022</td> <th>  Prob (F-statistic):</th>           <td>  0.00</td> \n",
       "</tr>\n",
       "<tr>\n",
       "  <th>Time:</th>                 <td>09:04:10</td>     <th>  Log-Likelihood:    </th>          <td> -1458.7</td>\n",
       "</tr>\n",
       "<tr>\n",
       "  <th>No. Observations:</th>      <td>  1000</td>      <th>  AIC:               </th>          <td>   2921.</td>\n",
       "</tr>\n",
       "<tr>\n",
       "  <th>Df Residuals:</th>          <td>   998</td>      <th>  BIC:               </th>          <td>   2931.</td>\n",
       "</tr>\n",
       "<tr>\n",
       "  <th>Df Model:</th>              <td>     2</td>      <th>                     </th>              <td> </td>   \n",
       "</tr>\n",
       "<tr>\n",
       "  <th>Covariance Type:</th>      <td>nonrobust</td>    <th>                     </th>              <td> </td>   \n",
       "</tr>\n",
       "</table>\n",
       "<table class=\"simpletable\">\n",
       "<tr>\n",
       "   <td></td>     <th>coef</th>     <th>std err</th>      <th>t</th>      <th>P>|t|</th>  <th>[0.025</th>    <th>0.975]</th>  \n",
       "</tr>\n",
       "<tr>\n",
       "  <th>x1</th> <td>    1.1008</td> <td>    0.035</td> <td>   31.136</td> <td> 0.000</td> <td>    1.031</td> <td>    1.170</td>\n",
       "</tr>\n",
       "<tr>\n",
       "  <th>x2</th> <td>    5.0390</td> <td>    0.050</td> <td>  100.405</td> <td> 0.000</td> <td>    4.941</td> <td>    5.138</td>\n",
       "</tr>\n",
       "</table>\n",
       "<table class=\"simpletable\">\n",
       "<tr>\n",
       "  <th>Omnibus:</th>       <td> 8.547</td> <th>  Durbin-Watson:     </th> <td>   1.977</td>\n",
       "</tr>\n",
       "<tr>\n",
       "  <th>Prob(Omnibus):</th> <td> 0.014</td> <th>  Jarque-Bera (JB):  </th> <td>  11.036</td>\n",
       "</tr>\n",
       "<tr>\n",
       "  <th>Skew:</th>          <td>-0.092</td> <th>  Prob(JB):          </th> <td> 0.00401</td>\n",
       "</tr>\n",
       "<tr>\n",
       "  <th>Kurtosis:</th>      <td> 3.481</td> <th>  Cond. No.          </th> <td>    1.79</td>\n",
       "</tr>\n",
       "</table><br/><br/>Notes:<br/>[1] R² is computed without centering (uncentered) since the model does not contain a constant.<br/>[2] Standard Errors assume that the covariance matrix of the errors is correctly specified."
      ],
      "text/plain": [
       "<class 'statsmodels.iolib.summary.Summary'>\n",
       "\"\"\"\n",
       "                                 OLS Regression Results                                \n",
       "=======================================================================================\n",
       "Dep. Variable:                      y   R-squared (uncentered):                   0.944\n",
       "Model:                            OLS   Adj. R-squared (uncentered):              0.944\n",
       "Method:                 Least Squares   F-statistic:                              8396.\n",
       "Date:                Tue, 15 Nov 2022   Prob (F-statistic):                        0.00\n",
       "Time:                        09:04:10   Log-Likelihood:                         -1458.7\n",
       "No. Observations:                1000   AIC:                                      2921.\n",
       "Df Residuals:                     998   BIC:                                      2931.\n",
       "Df Model:                           2                                                  \n",
       "Covariance Type:            nonrobust                                                  \n",
       "==============================================================================\n",
       "                 coef    std err          t      P>|t|      [0.025      0.975]\n",
       "------------------------------------------------------------------------------\n",
       "x1             1.1008      0.035     31.136      0.000       1.031       1.170\n",
       "x2             5.0390      0.050    100.405      0.000       4.941       5.138\n",
       "==============================================================================\n",
       "Omnibus:                        8.547   Durbin-Watson:                   1.977\n",
       "Prob(Omnibus):                  0.014   Jarque-Bera (JB):               11.036\n",
       "Skew:                          -0.092   Prob(JB):                      0.00401\n",
       "Kurtosis:                       3.481   Cond. No.                         1.79\n",
       "==============================================================================\n",
       "\n",
       "Notes:\n",
       "[1] R² is computed without centering (uncentered) since the model does not contain a constant.\n",
       "[2] Standard Errors assume that the covariance matrix of the errors is correctly specified.\n",
       "\"\"\""
      ]
     },
     "execution_count": 10,
     "metadata": {},
     "output_type": "execute_result"
    }
   ],
   "source": [
    "model = OLS(np.asarray(df[outcome]), np.asarray(df[[common_cause, treatment]], dtype=np.float64))\n",
    "result = model.fit()\n",
    "result.summary()"
   ]
  }
 ],
 "metadata": {
  "kernelspec": {
   "display_name": "Python 3",
   "language": "python",
   "name": "python3"
  },
  "language_info": {
   "codemirror_mode": {
    "name": "ipython",
    "version": 3
   },
   "file_extension": ".py",
   "mimetype": "text/x-python",
   "name": "python",
   "nbconvert_exporter": "python",
   "pygments_lexer": "ipython3",
   "version": "3.8.10"
  },
  "toc": {
   "base_numbering": 1,
   "nav_menu": {},
   "number_sections": false,
   "sideBar": true,
   "skip_h1_title": true,
   "title_cell": "Table of Contents",
   "title_sidebar": "Contents",
   "toc_cell": false,
   "toc_position": {},
   "toc_section_display": true,
   "toc_window_display": false
  }
 },
 "nbformat": 4,
 "nbformat_minor": 4
}
