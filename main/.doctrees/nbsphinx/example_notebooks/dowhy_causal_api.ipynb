{
 "cells": [
  {
   "cell_type": "markdown",
   "metadata": {},
   "source": [
    "# Demo for the DoWhy causal API\n",
    "We show a simple example of adding a causal extension to any dataframe. "
   ]
  },
  {
   "cell_type": "code",
   "execution_count": 1,
   "metadata": {
    "execution": {
     "iopub.execute_input": "2022-08-03T14:47:07.240245Z",
     "iopub.status.busy": "2022-08-03T14:47:07.239472Z",
     "iopub.status.idle": "2022-08-03T14:47:08.756461Z",
     "shell.execute_reply": "2022-08-03T14:47:08.755258Z"
    }
   },
   "outputs": [
    {
     "name": "stdout",
     "output_type": "stream",
     "text": [
      "keywords are unexpanded, not using\n"
     ]
    }
   ],
   "source": [
    "import dowhy.datasets\n",
    "import dowhy.api\n",
    "\n",
    "import numpy as np\n",
    "import pandas as pd\n",
    "\n",
    "from statsmodels.api import OLS"
   ]
  },
  {
   "cell_type": "code",
   "execution_count": 2,
   "metadata": {
    "execution": {
     "iopub.execute_input": "2022-08-03T14:47:08.761777Z",
     "iopub.status.busy": "2022-08-03T14:47:08.761129Z",
     "iopub.status.idle": "2022-08-03T14:47:08.822401Z",
     "shell.execute_reply": "2022-08-03T14:47:08.820963Z"
    }
   },
   "outputs": [
    {
     "data": {
      "text/html": [
       "<div>\n",
       "<style scoped>\n",
       "    .dataframe tbody tr th:only-of-type {\n",
       "        vertical-align: middle;\n",
       "    }\n",
       "\n",
       "    .dataframe tbody tr th {\n",
       "        vertical-align: top;\n",
       "    }\n",
       "\n",
       "    .dataframe thead th {\n",
       "        text-align: right;\n",
       "    }\n",
       "</style>\n",
       "<table border=\"1\" class=\"dataframe\">\n",
       "  <thead>\n",
       "    <tr style=\"text-align: right;\">\n",
       "      <th></th>\n",
       "      <th>W0</th>\n",
       "      <th>v0</th>\n",
       "      <th>y</th>\n",
       "    </tr>\n",
       "  </thead>\n",
       "  <tbody>\n",
       "    <tr>\n",
       "      <th>0</th>\n",
       "      <td>-0.638399</td>\n",
       "      <td>False</td>\n",
       "      <td>-1.539089</td>\n",
       "    </tr>\n",
       "    <tr>\n",
       "      <th>1</th>\n",
       "      <td>-1.669650</td>\n",
       "      <td>False</td>\n",
       "      <td>-1.747974</td>\n",
       "    </tr>\n",
       "    <tr>\n",
       "      <th>2</th>\n",
       "      <td>-0.185080</td>\n",
       "      <td>False</td>\n",
       "      <td>1.376023</td>\n",
       "    </tr>\n",
       "    <tr>\n",
       "      <th>3</th>\n",
       "      <td>-1.272653</td>\n",
       "      <td>True</td>\n",
       "      <td>2.029094</td>\n",
       "    </tr>\n",
       "    <tr>\n",
       "      <th>4</th>\n",
       "      <td>-0.436445</td>\n",
       "      <td>False</td>\n",
       "      <td>-0.270088</td>\n",
       "    </tr>\n",
       "    <tr>\n",
       "      <th>...</th>\n",
       "      <td>...</td>\n",
       "      <td>...</td>\n",
       "      <td>...</td>\n",
       "    </tr>\n",
       "    <tr>\n",
       "      <th>995</th>\n",
       "      <td>-0.705248</td>\n",
       "      <td>True</td>\n",
       "      <td>3.450241</td>\n",
       "    </tr>\n",
       "    <tr>\n",
       "      <th>996</th>\n",
       "      <td>0.041453</td>\n",
       "      <td>False</td>\n",
       "      <td>0.955865</td>\n",
       "    </tr>\n",
       "    <tr>\n",
       "      <th>997</th>\n",
       "      <td>0.338293</td>\n",
       "      <td>True</td>\n",
       "      <td>4.703778</td>\n",
       "    </tr>\n",
       "    <tr>\n",
       "      <th>998</th>\n",
       "      <td>0.100989</td>\n",
       "      <td>True</td>\n",
       "      <td>4.153770</td>\n",
       "    </tr>\n",
       "    <tr>\n",
       "      <th>999</th>\n",
       "      <td>-0.532111</td>\n",
       "      <td>True</td>\n",
       "      <td>4.139260</td>\n",
       "    </tr>\n",
       "  </tbody>\n",
       "</table>\n",
       "<p>1000 rows × 3 columns</p>\n",
       "</div>"
      ],
      "text/plain": [
       "           W0     v0         y\n",
       "0   -0.638399  False -1.539089\n",
       "1   -1.669650  False -1.747974\n",
       "2   -0.185080  False  1.376023\n",
       "3   -1.272653   True  2.029094\n",
       "4   -0.436445  False -0.270088\n",
       "..        ...    ...       ...\n",
       "995 -0.705248   True  3.450241\n",
       "996  0.041453  False  0.955865\n",
       "997  0.338293   True  4.703778\n",
       "998  0.100989   True  4.153770\n",
       "999 -0.532111   True  4.139260\n",
       "\n",
       "[1000 rows x 3 columns]"
      ]
     },
     "execution_count": 2,
     "metadata": {},
     "output_type": "execute_result"
    }
   ],
   "source": [
    "data = dowhy.datasets.linear_dataset(beta=5,\n",
    "        num_common_causes=1,\n",
    "        num_instruments = 0,\n",
    "        num_samples=1000,\n",
    "        treatment_is_binary=True)\n",
    "df = data['df']\n",
    "df['y'] = df['y'] + np.random.normal(size=len(df)) # Adding noise to data. Without noise, the variance in Y|X, Z is zero, and mcmc fails.\n",
    "#data['dot_graph'] = 'digraph { v ->y;X0-> v;X0-> y;}'\n",
    "\n",
    "treatment= data[\"treatment_name\"][0]\n",
    "outcome = data[\"outcome_name\"][0]\n",
    "common_cause = data[\"common_causes_names\"][0]\n",
    "df"
   ]
  },
  {
   "cell_type": "code",
   "execution_count": 3,
   "metadata": {
    "execution": {
     "iopub.execute_input": "2022-08-03T14:47:08.826523Z",
     "iopub.status.busy": "2022-08-03T14:47:08.825641Z",
     "iopub.status.idle": "2022-08-03T14:47:09.825702Z",
     "shell.execute_reply": "2022-08-03T14:47:09.824722Z"
    }
   },
   "outputs": [
    {
     "data": {
      "text/plain": [
       "<AxesSubplot:xlabel='v0'>"
      ]
     },
     "execution_count": 3,
     "metadata": {},
     "output_type": "execute_result"
    },
    {
     "data": {
      "image/png": "[encoded data removed]",
      "text/plain": [
       "<Figure size 432x288 with 1 Axes>"
      ]
     },
     "metadata": {
      "needs_background": "light"
     },
     "output_type": "display_data"
    }
   ],
   "source": [
    "# data['df'] is just a regular pandas.DataFrame\n",
    "df.causal.do(x=treatment,\n",
    "                     variable_types={treatment: 'b', outcome: 'c', common_cause: 'c'},\n",
    "                     outcome=outcome,\n",
    "                     common_causes=[common_cause],\n",
    "                     proceed_when_unidentifiable=True).groupby(treatment).mean().plot(y=outcome, kind='bar')"
   ]
  },
  {
   "cell_type": "code",
   "execution_count": 4,
   "metadata": {
    "execution": {
     "iopub.execute_input": "2022-08-03T14:47:09.830510Z",
     "iopub.status.busy": "2022-08-03T14:47:09.829538Z",
     "iopub.status.idle": "2022-08-03T14:47:09.956875Z",
     "shell.execute_reply": "2022-08-03T14:47:09.956194Z"
    }
   },
   "outputs": [
    {
     "data": {
      "text/plain": [
       "<AxesSubplot:xlabel='v0'>"
      ]
     },
     "execution_count": 4,
     "metadata": {},
     "output_type": "execute_result"
    },
    {
     "data": {
      "image/png": "[encoded data removed]",
      "text/plain": [
       "<Figure size 432x288 with 1 Axes>"
      ]
     },
     "metadata": {
      "needs_background": "light"
     },
     "output_type": "display_data"
    }
   ],
   "source": [
    "df.causal.do(x={treatment: 1}, \n",
    "              variable_types={treatment:'b', outcome: 'c', common_cause: 'c'}, \n",
    "              outcome=outcome,\n",
    "              method='weighting', \n",
    "              common_causes=[common_cause],\n",
    "              proceed_when_unidentifiable=True).groupby(treatment).mean().plot(y=outcome, kind='bar')"
   ]
  },
  {
   "cell_type": "code",
   "execution_count": 5,
   "metadata": {
    "execution": {
     "iopub.execute_input": "2022-08-03T14:47:09.961720Z",
     "iopub.status.busy": "2022-08-03T14:47:09.960830Z",
     "iopub.status.idle": "2022-08-03T14:47:10.005350Z",
     "shell.execute_reply": "2022-08-03T14:47:10.004376Z"
    }
   },
   "outputs": [],
   "source": [
    "cdf_1 = df.causal.do(x={treatment: 1}, \n",
    "              variable_types={treatment: 'b', outcome: 'c', common_cause: 'c'}, \n",
    "              outcome=outcome, \n",
    "              dot_graph=data['dot_graph'],\n",
    "              proceed_when_unidentifiable=True)\n",
    "\n",
    "cdf_0 = df.causal.do(x={treatment: 0}, \n",
    "              variable_types={treatment: 'b', outcome: 'c', common_cause: 'c'}, \n",
    "              outcome=outcome, \n",
    "              dot_graph=data['dot_graph'],\n",
    "              proceed_when_unidentifiable=True)\n"
   ]
  },
  {
   "cell_type": "code",
   "execution_count": 6,
   "metadata": {
    "execution": {
     "iopub.execute_input": "2022-08-03T14:47:10.009296Z",
     "iopub.status.busy": "2022-08-03T14:47:10.008700Z",
     "iopub.status.idle": "2022-08-03T14:47:10.029699Z",
     "shell.execute_reply": "2022-08-03T14:47:10.028855Z"
    },
    "scrolled": true
   },
   "outputs": [
    {
     "data": {
      "text/html": [
       "<div>\n",
       "<style scoped>\n",
       "    .dataframe tbody tr th:only-of-type {\n",
       "        vertical-align: middle;\n",
       "    }\n",
       "\n",
       "    .dataframe tbody tr th {\n",
       "        vertical-align: top;\n",
       "    }\n",
       "\n",
       "    .dataframe thead th {\n",
       "        text-align: right;\n",
       "    }\n",
       "</style>\n",
       "<table border=\"1\" class=\"dataframe\">\n",
       "  <thead>\n",
       "    <tr style=\"text-align: right;\">\n",
       "      <th></th>\n",
       "      <th>W0</th>\n",
       "      <th>v0</th>\n",
       "      <th>y</th>\n",
       "      <th>propensity_score</th>\n",
       "      <th>weight</th>\n",
       "    </tr>\n",
       "  </thead>\n",
       "  <tbody>\n",
       "    <tr>\n",
       "      <th>0</th>\n",
       "      <td>0.654515</td>\n",
       "      <td>False</td>\n",
       "      <td>1.238388</td>\n",
       "      <td>0.467795</td>\n",
       "      <td>2.137687</td>\n",
       "    </tr>\n",
       "    <tr>\n",
       "      <th>1</th>\n",
       "      <td>-1.187864</td>\n",
       "      <td>False</td>\n",
       "      <td>-2.838297</td>\n",
       "      <td>0.653666</td>\n",
       "      <td>1.529832</td>\n",
       "    </tr>\n",
       "    <tr>\n",
       "      <th>2</th>\n",
       "      <td>0.061698</td>\n",
       "      <td>False</td>\n",
       "      <td>0.315042</td>\n",
       "      <td>0.529191</td>\n",
       "      <td>1.889678</td>\n",
       "    </tr>\n",
       "    <tr>\n",
       "      <th>3</th>\n",
       "      <td>-2.155726</td>\n",
       "      <td>False</td>\n",
       "      <td>-3.459667</td>\n",
       "      <td>0.738203</td>\n",
       "      <td>1.354641</td>\n",
       "    </tr>\n",
       "    <tr>\n",
       "      <th>4</th>\n",
       "      <td>0.893528</td>\n",
       "      <td>False</td>\n",
       "      <td>0.428021</td>\n",
       "      <td>0.443212</td>\n",
       "      <td>2.256256</td>\n",
       "    </tr>\n",
       "    <tr>\n",
       "      <th>...</th>\n",
       "      <td>...</td>\n",
       "      <td>...</td>\n",
       "      <td>...</td>\n",
       "      <td>...</td>\n",
       "      <td>...</td>\n",
       "    </tr>\n",
       "    <tr>\n",
       "      <th>995</th>\n",
       "      <td>-1.062081</td>\n",
       "      <td>False</td>\n",
       "      <td>-1.746029</td>\n",
       "      <td>0.641762</td>\n",
       "      <td>1.558209</td>\n",
       "    </tr>\n",
       "    <tr>\n",
       "      <th>996</th>\n",
       "      <td>0.195660</td>\n",
       "      <td>False</td>\n",
       "      <td>-0.463577</td>\n",
       "      <td>0.515328</td>\n",
       "      <td>1.940513</td>\n",
       "    </tr>\n",
       "    <tr>\n",
       "      <th>997</th>\n",
       "      <td>0.684818</td>\n",
       "      <td>False</td>\n",
       "      <td>1.131846</td>\n",
       "      <td>0.464667</td>\n",
       "      <td>2.152077</td>\n",
       "    </tr>\n",
       "    <tr>\n",
       "      <th>998</th>\n",
       "      <td>0.803412</td>\n",
       "      <td>False</td>\n",
       "      <td>2.683890</td>\n",
       "      <td>0.452455</td>\n",
       "      <td>2.210165</td>\n",
       "    </tr>\n",
       "    <tr>\n",
       "      <th>999</th>\n",
       "      <td>-1.524384</td>\n",
       "      <td>False</td>\n",
       "      <td>-2.436442</td>\n",
       "      <td>0.684554</td>\n",
       "      <td>1.460806</td>\n",
       "    </tr>\n",
       "  </tbody>\n",
       "</table>\n",
       "<p>1000 rows × 5 columns</p>\n",
       "</div>"
      ],
      "text/plain": [
       "           W0     v0         y  propensity_score    weight\n",
       "0    0.654515  False  1.238388          0.467795  2.137687\n",
       "1   -1.187864  False -2.838297          0.653666  1.529832\n",
       "2    0.061698  False  0.315042          0.529191  1.889678\n",
       "3   -2.155726  False -3.459667          0.738203  1.354641\n",
       "4    0.893528  False  0.428021          0.443212  2.256256\n",
       "..        ...    ...       ...               ...       ...\n",
       "995 -1.062081  False -1.746029          0.641762  1.558209\n",
       "996  0.195660  False -0.463577          0.515328  1.940513\n",
       "997  0.684818  False  1.131846          0.464667  2.152077\n",
       "998  0.803412  False  2.683890          0.452455  2.210165\n",
       "999 -1.524384  False -2.436442          0.684554  1.460806\n",
       "\n",
       "[1000 rows x 5 columns]"
      ]
     },
     "execution_count": 6,
     "metadata": {},
     "output_type": "execute_result"
    }
   ],
   "source": [
    "cdf_0"
   ]
  },
  {
   "cell_type": "code",
   "execution_count": 7,
   "metadata": {
    "execution": {
     "iopub.execute_input": "2022-08-03T14:47:10.034581Z",
     "iopub.status.busy": "2022-08-03T14:47:10.033378Z",
     "iopub.status.idle": "2022-08-03T14:47:10.049342Z",
     "shell.execute_reply": "2022-08-03T14:47:10.048589Z"
    }
   },
   "outputs": [
    {
     "data": {
      "text/html": [
       "<div>\n",
       "<style scoped>\n",
       "    .dataframe tbody tr th:only-of-type {\n",
       "        vertical-align: middle;\n",
       "    }\n",
       "\n",
       "    .dataframe tbody tr th {\n",
       "        vertical-align: top;\n",
       "    }\n",
       "\n",
       "    .dataframe thead th {\n",
       "        text-align: right;\n",
       "    }\n",
       "</style>\n",
       "<table border=\"1\" class=\"dataframe\">\n",
       "  <thead>\n",
       "    <tr style=\"text-align: right;\">\n",
       "      <th></th>\n",
       "      <th>W0</th>\n",
       "      <th>v0</th>\n",
       "      <th>y</th>\n",
       "      <th>propensity_score</th>\n",
       "      <th>weight</th>\n",
       "    </tr>\n",
       "  </thead>\n",
       "  <tbody>\n",
       "    <tr>\n",
       "      <th>0</th>\n",
       "      <td>-0.465502</td>\n",
       "      <td>True</td>\n",
       "      <td>4.556681</td>\n",
       "      <td>0.416886</td>\n",
       "      <td>2.398737</td>\n",
       "    </tr>\n",
       "    <tr>\n",
       "      <th>1</th>\n",
       "      <td>-1.319095</td>\n",
       "      <td>True</td>\n",
       "      <td>3.757468</td>\n",
       "      <td>0.334116</td>\n",
       "      <td>2.992973</td>\n",
       "    </tr>\n",
       "    <tr>\n",
       "      <th>2</th>\n",
       "      <td>-0.683383</td>\n",
       "      <td>True</td>\n",
       "      <td>4.541488</td>\n",
       "      <td>0.395095</td>\n",
       "      <td>2.531035</td>\n",
       "    </tr>\n",
       "    <tr>\n",
       "      <th>3</th>\n",
       "      <td>-2.232987</td>\n",
       "      <td>True</td>\n",
       "      <td>3.378431</td>\n",
       "      <td>0.255651</td>\n",
       "      <td>3.911582</td>\n",
       "    </tr>\n",
       "    <tr>\n",
       "      <th>4</th>\n",
       "      <td>-1.354086</td>\n",
       "      <td>True</td>\n",
       "      <td>3.161947</td>\n",
       "      <td>0.330895</td>\n",
       "      <td>3.022110</td>\n",
       "    </tr>\n",
       "    <tr>\n",
       "      <th>...</th>\n",
       "      <td>...</td>\n",
       "      <td>...</td>\n",
       "      <td>...</td>\n",
       "      <td>...</td>\n",
       "      <td>...</td>\n",
       "    </tr>\n",
       "    <tr>\n",
       "      <th>995</th>\n",
       "      <td>-1.455692</td>\n",
       "      <td>True</td>\n",
       "      <td>3.803380</td>\n",
       "      <td>0.321631</td>\n",
       "      <td>3.109152</td>\n",
       "    </tr>\n",
       "    <tr>\n",
       "      <th>996</th>\n",
       "      <td>-1.753653</td>\n",
       "      <td>True</td>\n",
       "      <td>1.958031</td>\n",
       "      <td>0.295280</td>\n",
       "      <td>3.386615</td>\n",
       "    </tr>\n",
       "    <tr>\n",
       "      <th>997</th>\n",
       "      <td>-1.381505</td>\n",
       "      <td>True</td>\n",
       "      <td>2.815076</td>\n",
       "      <td>0.328382</td>\n",
       "      <td>3.045239</td>\n",
       "    </tr>\n",
       "    <tr>\n",
       "      <th>998</th>\n",
       "      <td>-0.726373</td>\n",
       "      <td>True</td>\n",
       "      <td>4.206185</td>\n",
       "      <td>0.390842</td>\n",
       "      <td>2.558580</td>\n",
       "    </tr>\n",
       "    <tr>\n",
       "      <th>999</th>\n",
       "      <td>-1.175478</td>\n",
       "      <td>True</td>\n",
       "      <td>3.630388</td>\n",
       "      <td>0.347497</td>\n",
       "      <td>2.877719</td>\n",
       "    </tr>\n",
       "  </tbody>\n",
       "</table>\n",
       "<p>1000 rows × 5 columns</p>\n",
       "</div>"
      ],
      "text/plain": [
       "           W0    v0         y  propensity_score    weight\n",
       "0   -0.465502  True  4.556681          0.416886  2.398737\n",
       "1   -1.319095  True  3.757468          0.334116  2.992973\n",
       "2   -0.683383  True  4.541488          0.395095  2.531035\n",
       "3   -2.232987  True  3.378431          0.255651  3.911582\n",
       "4   -1.354086  True  3.161947          0.330895  3.022110\n",
       "..        ...   ...       ...               ...       ...\n",
       "995 -1.455692  True  3.803380          0.321631  3.109152\n",
       "996 -1.753653  True  1.958031          0.295280  3.386615\n",
       "997 -1.381505  True  2.815076          0.328382  3.045239\n",
       "998 -0.726373  True  4.206185          0.390842  2.558580\n",
       "999 -1.175478  True  3.630388          0.347497  2.877719\n",
       "\n",
       "[1000 rows x 5 columns]"
      ]
     },
     "execution_count": 7,
     "metadata": {},
     "output_type": "execute_result"
    }
   ],
   "source": [
    "cdf_1"
   ]
  },
  {
   "cell_type": "markdown",
   "metadata": {},
   "source": [
    "## Comparing the estimate to Linear Regression\n",
    "First, estimating the effect using the causal data frame, and the 95% confidence interval."
   ]
  },
  {
   "cell_type": "code",
   "execution_count": 8,
   "metadata": {
    "execution": {
     "iopub.execute_input": "2022-08-03T14:47:10.052800Z",
     "iopub.status.busy": "2022-08-03T14:47:10.052522Z",
     "iopub.status.idle": "2022-08-03T14:47:10.185361Z",
     "shell.execute_reply": "2022-08-03T14:47:10.184478Z"
    }
   },
   "outputs": [
    {
     "data": {
      "image/png": "[encoded data removed]",
      "text/latex": [
       "$\\displaystyle 4.77692488467675$"
      ],
      "text/plain": [
       "4.776924884676752"
      ]
     },
     "execution_count": 8,
     "metadata": {},
     "output_type": "execute_result"
    }
   ],
   "source": [
    "(cdf_1['y'] - cdf_0['y']).mean()"
   ]
  },
  {
   "cell_type": "code",
   "execution_count": 9,
   "metadata": {
    "execution": {
     "iopub.execute_input": "2022-08-03T14:47:10.189617Z",
     "iopub.status.busy": "2022-08-03T14:47:10.188913Z",
     "iopub.status.idle": "2022-08-03T14:47:10.221104Z",
     "shell.execute_reply": "2022-08-03T14:47:10.220430Z"
    }
   },
   "outputs": [
    {
     "data": {
      "image/png": "[encoded data removed]",
      "text/latex": [
       "$\\displaystyle 0.151952533618153$"
      ],
      "text/plain": [
       "0.151952533618153"
      ]
     },
     "execution_count": 9,
     "metadata": {},
     "output_type": "execute_result"
    }
   ],
   "source": [
    "1.96*(cdf_1['y'] - cdf_0['y']).std() / np.sqrt(len(df))"
   ]
  },
  {
   "cell_type": "markdown",
   "metadata": {},
   "source": [
    "Comparing to the estimate from OLS."
   ]
  },
  {
   "cell_type": "code",
   "execution_count": 10,
   "metadata": {
    "execution": {
     "iopub.execute_input": "2022-08-03T14:47:10.225244Z",
     "iopub.status.busy": "2022-08-03T14:47:10.224697Z",
     "iopub.status.idle": "2022-08-03T14:47:10.246478Z",
     "shell.execute_reply": "2022-08-03T14:47:10.245667Z"
    }
   },
   "outputs": [
    {
     "data": {
      "text/html": [
       "<table class=\"simpletable\">\n",
       "<caption>OLS Regression Results</caption>\n",
       "<tr>\n",
       "  <th>Dep. Variable:</th>            <td>y</td>        <th>  R-squared (uncentered):</th>      <td>   0.908</td>\n",
       "</tr>\n",
       "<tr>\n",
       "  <th>Model:</th>                   <td>OLS</td>       <th>  Adj. R-squared (uncentered):</th> <td>   0.908</td>\n",
       "</tr>\n",
       "<tr>\n",
       "  <th>Method:</th>             <td>Least Squares</td>  <th>  F-statistic:       </th>          <td>   4919.</td>\n",
       "</tr>\n",
       "<tr>\n",
       "  <th>Date:</th>             <td>Wed, 03 Aug 2022</td> <th>  Prob (F-statistic):</th>           <td>  0.00</td> \n",
       "</tr>\n",
       "<tr>\n",
       "  <th>Time:</th>                 <td>14:47:10</td>     <th>  Log-Likelihood:    </th>          <td> -1424.0</td>\n",
       "</tr>\n",
       "<tr>\n",
       "  <th>No. Observations:</th>      <td>  1000</td>      <th>  AIC:               </th>          <td>   2852.</td>\n",
       "</tr>\n",
       "<tr>\n",
       "  <th>Df Residuals:</th>          <td>   998</td>      <th>  BIC:               </th>          <td>   2862.</td>\n",
       "</tr>\n",
       "<tr>\n",
       "  <th>Df Model:</th>              <td>     2</td>      <th>                     </th>              <td> </td>   \n",
       "</tr>\n",
       "<tr>\n",
       "  <th>Covariance Type:</th>      <td>nonrobust</td>    <th>                     </th>              <td> </td>   \n",
       "</tr>\n",
       "</table>\n",
       "<table class=\"simpletable\">\n",
       "<tr>\n",
       "   <td></td>     <th>coef</th>     <th>std err</th>      <th>t</th>      <th>P>|t|</th>  <th>[0.025</th>    <th>0.975]</th>  \n",
       "</tr>\n",
       "<tr>\n",
       "  <th>x1</th> <td>    1.3933</td> <td>    0.025</td> <td>   55.201</td> <td> 0.000</td> <td>    1.344</td> <td>    1.443</td>\n",
       "</tr>\n",
       "<tr>\n",
       "  <th>x2</th> <td>    4.9239</td> <td>    0.053</td> <td>   93.587</td> <td> 0.000</td> <td>    4.821</td> <td>    5.027</td>\n",
       "</tr>\n",
       "</table>\n",
       "<table class=\"simpletable\">\n",
       "<tr>\n",
       "  <th>Omnibus:</th>       <td> 3.184</td> <th>  Durbin-Watson:     </th> <td>   2.089</td>\n",
       "</tr>\n",
       "<tr>\n",
       "  <th>Prob(Omnibus):</th> <td> 0.203</td> <th>  Jarque-Bera (JB):  </th> <td>   3.201</td>\n",
       "</tr>\n",
       "<tr>\n",
       "  <th>Skew:</th>          <td>-0.114</td> <th>  Prob(JB):          </th> <td>   0.202</td>\n",
       "</tr>\n",
       "<tr>\n",
       "  <th>Kurtosis:</th>      <td> 2.843</td> <th>  Cond. No.          </th> <td>    2.19</td>\n",
       "</tr>\n",
       "</table><br/><br/>Notes:<br/>[1] R² is computed without centering (uncentered) since the model does not contain a constant.<br/>[2] Standard Errors assume that the covariance matrix of the errors is correctly specified."
      ],
      "text/plain": [
       "<class 'statsmodels.iolib.summary.Summary'>\n",
       "\"\"\"\n",
       "                                 OLS Regression Results                                \n",
       "=======================================================================================\n",
       "Dep. Variable:                      y   R-squared (uncentered):                   0.908\n",
       "Model:                            OLS   Adj. R-squared (uncentered):              0.908\n",
       "Method:                 Least Squares   F-statistic:                              4919.\n",
       "Date:                Wed, 03 Aug 2022   Prob (F-statistic):                        0.00\n",
       "Time:                        14:47:10   Log-Likelihood:                         -1424.0\n",
       "No. Observations:                1000   AIC:                                      2852.\n",
       "Df Residuals:                     998   BIC:                                      2862.\n",
       "Df Model:                           2                                                  \n",
       "Covariance Type:            nonrobust                                                  \n",
       "==============================================================================\n",
       "                 coef    std err          t      P>|t|      [0.025      0.975]\n",
       "------------------------------------------------------------------------------\n",
       "x1             1.3933      0.025     55.201      0.000       1.344       1.443\n",
       "x2             4.9239      0.053     93.587      0.000       4.821       5.027\n",
       "==============================================================================\n",
       "Omnibus:                        3.184   Durbin-Watson:                   2.089\n",
       "Prob(Omnibus):                  0.203   Jarque-Bera (JB):                3.201\n",
       "Skew:                          -0.114   Prob(JB):                        0.202\n",
       "Kurtosis:                       2.843   Cond. No.                         2.19\n",
       "==============================================================================\n",
       "\n",
       "Notes:\n",
       "[1] R² is computed without centering (uncentered) since the model does not contain a constant.\n",
       "[2] Standard Errors assume that the covariance matrix of the errors is correctly specified.\n",
       "\"\"\""
      ]
     },
     "execution_count": 10,
     "metadata": {},
     "output_type": "execute_result"
    }
   ],
   "source": [
    "model = OLS(np.asarray(df[outcome]), np.asarray(df[[common_cause, treatment]], dtype=np.float64))\n",
    "result = model.fit()\n",
    "result.summary()"
   ]
  }
 ],
 "metadata": {
  "kernelspec": {
   "display_name": "Python 3",
   "language": "python",
   "name": "python3"
  },
  "language_info": {
   "codemirror_mode": {
    "name": "ipython",
    "version": 3
   },
   "file_extension": ".py",
   "mimetype": "text/x-python",
   "name": "python",
   "nbconvert_exporter": "python",
   "pygments_lexer": "ipython3",
   "version": "3.8.10"
  },
  "toc": {
   "base_numbering": 1,
   "nav_menu": {},
   "number_sections": false,
   "sideBar": true,
   "skip_h1_title": true,
   "title_cell": "Table of Contents",
   "title_sidebar": "Contents",
   "toc_cell": false,
   "toc_position": {},
   "toc_section_display": true,
   "toc_window_display": false
  }
 },
 "nbformat": 4,
 "nbformat_minor": 4
}
