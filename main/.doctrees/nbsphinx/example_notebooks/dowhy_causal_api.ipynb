{
 "cells": [
  {
   "cell_type": "markdown",
   "metadata": {},
   "source": [
    "# Demo for the DoWhy causal API\n",
    "We show a simple example of adding a causal extension to any dataframe. "
   ]
  },
  {
   "cell_type": "code",
   "execution_count": 1,
   "metadata": {
    "execution": {
     "iopub.execute_input": "2022-12-21T06:25:25.804308Z",
     "iopub.status.busy": "2022-12-21T06:25:25.803915Z",
     "iopub.status.idle": "2022-12-21T06:25:27.613034Z",
     "shell.execute_reply": "2022-12-21T06:25:27.612381Z"
    }
   },
   "outputs": [],
   "source": [
    "import dowhy.datasets\n",
    "import dowhy.api\n",
    "\n",
    "import numpy as np\n",
    "import pandas as pd\n",
    "\n",
    "from statsmodels.api import OLS"
   ]
  },
  {
   "cell_type": "code",
   "execution_count": 2,
   "metadata": {
    "execution": {
     "iopub.execute_input": "2022-12-21T06:25:27.616834Z",
     "iopub.status.busy": "2022-12-21T06:25:27.616172Z",
     "iopub.status.idle": "2022-12-21T06:25:27.660773Z",
     "shell.execute_reply": "2022-12-21T06:25:27.660186Z"
    }
   },
   "outputs": [
    {
     "data": {
      "text/html": [
       "<div>\n",
       "<style scoped>\n",
       "    .dataframe tbody tr th:only-of-type {\n",
       "        vertical-align: middle;\n",
       "    }\n",
       "\n",
       "    .dataframe tbody tr th {\n",
       "        vertical-align: top;\n",
       "    }\n",
       "\n",
       "    .dataframe thead th {\n",
       "        text-align: right;\n",
       "    }\n",
       "</style>\n",
       "<table border=\"1\" class=\"dataframe\">\n",
       "  <thead>\n",
       "    <tr style=\"text-align: right;\">\n",
       "      <th></th>\n",
       "      <th>W0</th>\n",
       "      <th>v0</th>\n",
       "      <th>y</th>\n",
       "    </tr>\n",
       "  </thead>\n",
       "  <tbody>\n",
       "    <tr>\n",
       "      <th>0</th>\n",
       "      <td>-1.767470</td>\n",
       "      <td>False</td>\n",
       "      <td>-4.425477</td>\n",
       "    </tr>\n",
       "    <tr>\n",
       "      <th>1</th>\n",
       "      <td>0.935056</td>\n",
       "      <td>True</td>\n",
       "      <td>7.371393</td>\n",
       "    </tr>\n",
       "    <tr>\n",
       "      <th>2</th>\n",
       "      <td>0.706875</td>\n",
       "      <td>True</td>\n",
       "      <td>9.480024</td>\n",
       "    </tr>\n",
       "    <tr>\n",
       "      <th>3</th>\n",
       "      <td>-0.186815</td>\n",
       "      <td>False</td>\n",
       "      <td>-0.162630</td>\n",
       "    </tr>\n",
       "    <tr>\n",
       "      <th>4</th>\n",
       "      <td>2.063223</td>\n",
       "      <td>True</td>\n",
       "      <td>10.379609</td>\n",
       "    </tr>\n",
       "    <tr>\n",
       "      <th>...</th>\n",
       "      <td>...</td>\n",
       "      <td>...</td>\n",
       "      <td>...</td>\n",
       "    </tr>\n",
       "    <tr>\n",
       "      <th>995</th>\n",
       "      <td>0.928645</td>\n",
       "      <td>True</td>\n",
       "      <td>8.088187</td>\n",
       "    </tr>\n",
       "    <tr>\n",
       "      <th>996</th>\n",
       "      <td>1.181780</td>\n",
       "      <td>True</td>\n",
       "      <td>9.637530</td>\n",
       "    </tr>\n",
       "    <tr>\n",
       "      <th>997</th>\n",
       "      <td>0.112258</td>\n",
       "      <td>True</td>\n",
       "      <td>4.141375</td>\n",
       "    </tr>\n",
       "    <tr>\n",
       "      <th>998</th>\n",
       "      <td>1.027307</td>\n",
       "      <td>True</td>\n",
       "      <td>6.947324</td>\n",
       "    </tr>\n",
       "    <tr>\n",
       "      <th>999</th>\n",
       "      <td>0.116601</td>\n",
       "      <td>True</td>\n",
       "      <td>6.410909</td>\n",
       "    </tr>\n",
       "  </tbody>\n",
       "</table>\n",
       "<p>1000 rows × 3 columns</p>\n",
       "</div>"
      ],
      "text/plain": [
       "           W0     v0          y\n",
       "0   -1.767470  False  -4.425477\n",
       "1    0.935056   True   7.371393\n",
       "2    0.706875   True   9.480024\n",
       "3   -0.186815  False  -0.162630\n",
       "4    2.063223   True  10.379609\n",
       "..        ...    ...        ...\n",
       "995  0.928645   True   8.088187\n",
       "996  1.181780   True   9.637530\n",
       "997  0.112258   True   4.141375\n",
       "998  1.027307   True   6.947324\n",
       "999  0.116601   True   6.410909\n",
       "\n",
       "[1000 rows x 3 columns]"
      ]
     },
     "execution_count": 2,
     "metadata": {},
     "output_type": "execute_result"
    }
   ],
   "source": [
    "data = dowhy.datasets.linear_dataset(beta=5,\n",
    "        num_common_causes=1,\n",
    "        num_instruments = 0,\n",
    "        num_samples=1000,\n",
    "        treatment_is_binary=True)\n",
    "df = data['df']\n",
    "df['y'] = df['y'] + np.random.normal(size=len(df)) # Adding noise to data. Without noise, the variance in Y|X, Z is zero, and mcmc fails.\n",
    "#data['dot_graph'] = 'digraph { v ->y;X0-> v;X0-> y;}'\n",
    "\n",
    "treatment= data[\"treatment_name\"][0]\n",
    "outcome = data[\"outcome_name\"][0]\n",
    "common_cause = data[\"common_causes_names\"][0]\n",
    "df"
   ]
  },
  {
   "cell_type": "code",
   "execution_count": 3,
   "metadata": {
    "execution": {
     "iopub.execute_input": "2022-12-21T06:25:27.663861Z",
     "iopub.status.busy": "2022-12-21T06:25:27.663374Z",
     "iopub.status.idle": "2022-12-21T06:25:27.817167Z",
     "shell.execute_reply": "2022-12-21T06:25:27.816535Z"
    }
   },
   "outputs": [
    {
     "data": {
      "text/plain": [
       "<AxesSubplot: xlabel='v0'>"
      ]
     },
     "execution_count": 3,
     "metadata": {},
     "output_type": "execute_result"
    },
    {
     "data": {
      "image/png": "[encoded data removed]",
      "text/plain": [
       "<Figure size 640x480 with 1 Axes>"
      ]
     },
     "metadata": {},
     "output_type": "display_data"
    }
   ],
   "source": [
    "# data['df'] is just a regular pandas.DataFrame\n",
    "df.causal.do(x=treatment,\n",
    "                     variable_types={treatment: 'b', outcome: 'c', common_cause: 'c'},\n",
    "                     outcome=outcome,\n",
    "                     common_causes=[common_cause],\n",
    "                     proceed_when_unidentifiable=True).groupby(treatment).mean().plot(y=outcome, kind='bar')"
   ]
  },
  {
   "cell_type": "code",
   "execution_count": 4,
   "metadata": {
    "execution": {
     "iopub.execute_input": "2022-12-21T06:25:27.820064Z",
     "iopub.status.busy": "2022-12-21T06:25:27.819714Z",
     "iopub.status.idle": "2022-12-21T06:25:27.934301Z",
     "shell.execute_reply": "2022-12-21T06:25:27.933757Z"
    }
   },
   "outputs": [
    {
     "data": {
      "text/plain": [
       "<AxesSubplot: xlabel='v0'>"
      ]
     },
     "execution_count": 4,
     "metadata": {},
     "output_type": "execute_result"
    },
    {
     "data": {
      "image/png": "[encoded data removed]",
      "text/plain": [
       "<Figure size 640x480 with 1 Axes>"
      ]
     },
     "metadata": {},
     "output_type": "display_data"
    }
   ],
   "source": [
    "df.causal.do(x={treatment: 1}, \n",
    "              variable_types={treatment:'b', outcome: 'c', common_cause: 'c'}, \n",
    "              outcome=outcome,\n",
    "              method='weighting', \n",
    "              common_causes=[common_cause],\n",
    "              proceed_when_unidentifiable=True).groupby(treatment).mean().plot(y=outcome, kind='bar')"
   ]
  },
  {
   "cell_type": "code",
   "execution_count": 5,
   "metadata": {
    "execution": {
     "iopub.execute_input": "2022-12-21T06:25:27.936843Z",
     "iopub.status.busy": "2022-12-21T06:25:27.936604Z",
     "iopub.status.idle": "2022-12-21T06:25:27.967170Z",
     "shell.execute_reply": "2022-12-21T06:25:27.966580Z"
    }
   },
   "outputs": [],
   "source": [
    "cdf_1 = df.causal.do(x={treatment: 1}, \n",
    "              variable_types={treatment: 'b', outcome: 'c', common_cause: 'c'}, \n",
    "              outcome=outcome, \n",
    "              dot_graph=data['dot_graph'],\n",
    "              proceed_when_unidentifiable=True)\n",
    "\n",
    "cdf_0 = df.causal.do(x={treatment: 0}, \n",
    "              variable_types={treatment: 'b', outcome: 'c', common_cause: 'c'}, \n",
    "              outcome=outcome, \n",
    "              dot_graph=data['dot_graph'],\n",
    "              proceed_when_unidentifiable=True)\n"
   ]
  },
  {
   "cell_type": "code",
   "execution_count": 6,
   "metadata": {
    "execution": {
     "iopub.execute_input": "2022-12-21T06:25:27.969925Z",
     "iopub.status.busy": "2022-12-21T06:25:27.969529Z",
     "iopub.status.idle": "2022-12-21T06:25:27.979322Z",
     "shell.execute_reply": "2022-12-21T06:25:27.978767Z"
    },
    "scrolled": true
   },
   "outputs": [
    {
     "data": {
      "text/html": [
       "<div>\n",
       "<style scoped>\n",
       "    .dataframe tbody tr th:only-of-type {\n",
       "        vertical-align: middle;\n",
       "    }\n",
       "\n",
       "    .dataframe tbody tr th {\n",
       "        vertical-align: top;\n",
       "    }\n",
       "\n",
       "    .dataframe thead th {\n",
       "        text-align: right;\n",
       "    }\n",
       "</style>\n",
       "<table border=\"1\" class=\"dataframe\">\n",
       "  <thead>\n",
       "    <tr style=\"text-align: right;\">\n",
       "      <th></th>\n",
       "      <th>W0</th>\n",
       "      <th>v0</th>\n",
       "      <th>y</th>\n",
       "      <th>propensity_score</th>\n",
       "      <th>weight</th>\n",
       "    </tr>\n",
       "  </thead>\n",
       "  <tbody>\n",
       "    <tr>\n",
       "      <th>0</th>\n",
       "      <td>-0.122192</td>\n",
       "      <td>False</td>\n",
       "      <td>0.248470</td>\n",
       "      <td>0.595881</td>\n",
       "      <td>1.678187</td>\n",
       "    </tr>\n",
       "    <tr>\n",
       "      <th>1</th>\n",
       "      <td>-0.145728</td>\n",
       "      <td>False</td>\n",
       "      <td>-0.765122</td>\n",
       "      <td>0.608696</td>\n",
       "      <td>1.642858</td>\n",
       "    </tr>\n",
       "    <tr>\n",
       "      <th>2</th>\n",
       "      <td>0.794498</td>\n",
       "      <td>False</td>\n",
       "      <td>2.041888</td>\n",
       "      <td>0.155058</td>\n",
       "      <td>6.449180</td>\n",
       "    </tr>\n",
       "    <tr>\n",
       "      <th>3</th>\n",
       "      <td>-1.147267</td>\n",
       "      <td>False</td>\n",
       "      <td>-1.411206</td>\n",
       "      <td>0.938110</td>\n",
       "      <td>1.065973</td>\n",
       "    </tr>\n",
       "    <tr>\n",
       "      <th>4</th>\n",
       "      <td>-1.368714</td>\n",
       "      <td>False</td>\n",
       "      <td>-3.508937</td>\n",
       "      <td>0.961650</td>\n",
       "      <td>1.039879</td>\n",
       "    </tr>\n",
       "    <tr>\n",
       "      <th>...</th>\n",
       "      <td>...</td>\n",
       "      <td>...</td>\n",
       "      <td>...</td>\n",
       "      <td>...</td>\n",
       "      <td>...</td>\n",
       "    </tr>\n",
       "    <tr>\n",
       "      <th>995</th>\n",
       "      <td>-0.252028</td>\n",
       "      <td>False</td>\n",
       "      <td>-1.857520</td>\n",
       "      <td>0.664513</td>\n",
       "      <td>1.504861</td>\n",
       "    </tr>\n",
       "    <tr>\n",
       "      <th>996</th>\n",
       "      <td>1.259455</td>\n",
       "      <td>False</td>\n",
       "      <td>3.212320</td>\n",
       "      <td>0.059952</td>\n",
       "      <td>16.680135</td>\n",
       "    </tr>\n",
       "    <tr>\n",
       "      <th>997</th>\n",
       "      <td>0.340491</td>\n",
       "      <td>False</td>\n",
       "      <td>-0.207070</td>\n",
       "      <td>0.339970</td>\n",
       "      <td>2.941435</td>\n",
       "    </tr>\n",
       "    <tr>\n",
       "      <th>998</th>\n",
       "      <td>0.832908</td>\n",
       "      <td>False</td>\n",
       "      <td>1.560564</td>\n",
       "      <td>0.143960</td>\n",
       "      <td>6.946358</td>\n",
       "    </tr>\n",
       "    <tr>\n",
       "      <th>999</th>\n",
       "      <td>0.014762</td>\n",
       "      <td>False</td>\n",
       "      <td>0.311481</td>\n",
       "      <td>0.519243</td>\n",
       "      <td>1.925880</td>\n",
       "    </tr>\n",
       "  </tbody>\n",
       "</table>\n",
       "<p>1000 rows × 5 columns</p>\n",
       "</div>"
      ],
      "text/plain": [
       "           W0     v0         y  propensity_score     weight\n",
       "0   -0.122192  False  0.248470          0.595881   1.678187\n",
       "1   -0.145728  False -0.765122          0.608696   1.642858\n",
       "2    0.794498  False  2.041888          0.155058   6.449180\n",
       "3   -1.147267  False -1.411206          0.938110   1.065973\n",
       "4   -1.368714  False -3.508937          0.961650   1.039879\n",
       "..        ...    ...       ...               ...        ...\n",
       "995 -0.252028  False -1.857520          0.664513   1.504861\n",
       "996  1.259455  False  3.212320          0.059952  16.680135\n",
       "997  0.340491  False -0.207070          0.339970   2.941435\n",
       "998  0.832908  False  1.560564          0.143960   6.946358\n",
       "999  0.014762  False  0.311481          0.519243   1.925880\n",
       "\n",
       "[1000 rows x 5 columns]"
      ]
     },
     "execution_count": 6,
     "metadata": {},
     "output_type": "execute_result"
    }
   ],
   "source": [
    "cdf_0"
   ]
  },
  {
   "cell_type": "code",
   "execution_count": 7,
   "metadata": {
    "execution": {
     "iopub.execute_input": "2022-12-21T06:25:27.982404Z",
     "iopub.status.busy": "2022-12-21T06:25:27.982087Z",
     "iopub.status.idle": "2022-12-21T06:25:27.991616Z",
     "shell.execute_reply": "2022-12-21T06:25:27.991059Z"
    }
   },
   "outputs": [
    {
     "data": {
      "text/html": [
       "<div>\n",
       "<style scoped>\n",
       "    .dataframe tbody tr th:only-of-type {\n",
       "        vertical-align: middle;\n",
       "    }\n",
       "\n",
       "    .dataframe tbody tr th {\n",
       "        vertical-align: top;\n",
       "    }\n",
       "\n",
       "    .dataframe thead th {\n",
       "        text-align: right;\n",
       "    }\n",
       "</style>\n",
       "<table border=\"1\" class=\"dataframe\">\n",
       "  <thead>\n",
       "    <tr style=\"text-align: right;\">\n",
       "      <th></th>\n",
       "      <th>W0</th>\n",
       "      <th>v0</th>\n",
       "      <th>y</th>\n",
       "      <th>propensity_score</th>\n",
       "      <th>weight</th>\n",
       "    </tr>\n",
       "  </thead>\n",
       "  <tbody>\n",
       "    <tr>\n",
       "      <th>0</th>\n",
       "      <td>-0.205223</td>\n",
       "      <td>True</td>\n",
       "      <td>5.520259</td>\n",
       "      <td>0.359606</td>\n",
       "      <td>2.780825</td>\n",
       "    </tr>\n",
       "    <tr>\n",
       "      <th>1</th>\n",
       "      <td>-0.676324</td>\n",
       "      <td>True</td>\n",
       "      <td>2.020135</td>\n",
       "      <td>0.161383</td>\n",
       "      <td>6.196433</td>\n",
       "    </tr>\n",
       "    <tr>\n",
       "      <th>2</th>\n",
       "      <td>2.223769</td>\n",
       "      <td>True</td>\n",
       "      <td>10.091707</td>\n",
       "      <td>0.992928</td>\n",
       "      <td>1.007123</td>\n",
       "    </tr>\n",
       "    <tr>\n",
       "      <th>3</th>\n",
       "      <td>0.514145</td>\n",
       "      <td>True</td>\n",
       "      <td>6.012353</td>\n",
       "      <td>0.742342</td>\n",
       "      <td>1.347089</td>\n",
       "    </tr>\n",
       "    <tr>\n",
       "      <th>4</th>\n",
       "      <td>0.795988</td>\n",
       "      <td>True</td>\n",
       "      <td>8.248792</td>\n",
       "      <td>0.845385</td>\n",
       "      <td>1.182893</td>\n",
       "    </tr>\n",
       "    <tr>\n",
       "      <th>...</th>\n",
       "      <td>...</td>\n",
       "      <td>...</td>\n",
       "      <td>...</td>\n",
       "      <td>...</td>\n",
       "      <td>...</td>\n",
       "    </tr>\n",
       "    <tr>\n",
       "      <th>995</th>\n",
       "      <td>0.544053</td>\n",
       "      <td>True</td>\n",
       "      <td>4.722093</td>\n",
       "      <td>0.755129</td>\n",
       "      <td>1.324276</td>\n",
       "    </tr>\n",
       "    <tr>\n",
       "      <th>996</th>\n",
       "      <td>-0.842433</td>\n",
       "      <td>True</td>\n",
       "      <td>3.162533</td>\n",
       "      <td>0.116545</td>\n",
       "      <td>8.580399</td>\n",
       "    </tr>\n",
       "    <tr>\n",
       "      <th>997</th>\n",
       "      <td>1.416302</td>\n",
       "      <td>True</td>\n",
       "      <td>8.819058</td>\n",
       "      <td>0.957260</td>\n",
       "      <td>1.044648</td>\n",
       "    </tr>\n",
       "    <tr>\n",
       "      <th>998</th>\n",
       "      <td>1.722746</td>\n",
       "      <td>True</td>\n",
       "      <td>6.690068</td>\n",
       "      <td>0.978237</td>\n",
       "      <td>1.022247</td>\n",
       "    </tr>\n",
       "    <tr>\n",
       "      <th>999</th>\n",
       "      <td>-0.190387</td>\n",
       "      <td>True</td>\n",
       "      <td>4.453777</td>\n",
       "      <td>0.367408</td>\n",
       "      <td>2.721767</td>\n",
       "    </tr>\n",
       "  </tbody>\n",
       "</table>\n",
       "<p>1000 rows × 5 columns</p>\n",
       "</div>"
      ],
      "text/plain": [
       "           W0    v0          y  propensity_score    weight\n",
       "0   -0.205223  True   5.520259          0.359606  2.780825\n",
       "1   -0.676324  True   2.020135          0.161383  6.196433\n",
       "2    2.223769  True  10.091707          0.992928  1.007123\n",
       "3    0.514145  True   6.012353          0.742342  1.347089\n",
       "4    0.795988  True   8.248792          0.845385  1.182893\n",
       "..        ...   ...        ...               ...       ...\n",
       "995  0.544053  True   4.722093          0.755129  1.324276\n",
       "996 -0.842433  True   3.162533          0.116545  8.580399\n",
       "997  1.416302  True   8.819058          0.957260  1.044648\n",
       "998  1.722746  True   6.690068          0.978237  1.022247\n",
       "999 -0.190387  True   4.453777          0.367408  2.721767\n",
       "\n",
       "[1000 rows x 5 columns]"
      ]
     },
     "execution_count": 7,
     "metadata": {},
     "output_type": "execute_result"
    }
   ],
   "source": [
    "cdf_1"
   ]
  },
  {
   "cell_type": "markdown",
   "metadata": {},
   "source": [
    "## Comparing the estimate to Linear Regression\n",
    "First, estimating the effect using the causal data frame, and the 95% confidence interval."
   ]
  },
  {
   "cell_type": "code",
   "execution_count": 8,
   "metadata": {
    "execution": {
     "iopub.execute_input": "2022-12-21T06:25:27.994869Z",
     "iopub.status.busy": "2022-12-21T06:25:27.994410Z",
     "iopub.status.idle": "2022-12-21T06:25:28.050198Z",
     "shell.execute_reply": "2022-12-21T06:25:28.049555Z"
    }
   },
   "outputs": [
    {
     "data": {
      "image/png": "[encoded data removed]",
      "text/latex": [
       "$\\displaystyle 4.65807701582998$"
      ],
      "text/plain": [
       "4.658077015829975"
      ]
     },
     "execution_count": 8,
     "metadata": {},
     "output_type": "execute_result"
    }
   ],
   "source": [
    "(cdf_1['y'] - cdf_0['y']).mean()"
   ]
  },
  {
   "cell_type": "code",
   "execution_count": 9,
   "metadata": {
    "execution": {
     "iopub.execute_input": "2022-12-21T06:25:28.053081Z",
     "iopub.status.busy": "2022-12-21T06:25:28.052537Z",
     "iopub.status.idle": "2022-12-21T06:25:28.075203Z",
     "shell.execute_reply": "2022-12-21T06:25:28.074652Z"
    }
   },
   "outputs": [
    {
     "data": {
      "image/png": "[encoded data removed]",
      "text/latex": [
       "$\\displaystyle 0.238853485568364$"
      ],
      "text/plain": [
       "0.2388534855683638"
      ]
     },
     "execution_count": 9,
     "metadata": {},
     "output_type": "execute_result"
    }
   ],
   "source": [
    "1.96*(cdf_1['y'] - cdf_0['y']).std() / np.sqrt(len(df))"
   ]
  },
  {
   "cell_type": "markdown",
   "metadata": {},
   "source": [
    "Comparing to the estimate from OLS."
   ]
  },
  {
   "cell_type": "code",
   "execution_count": 10,
   "metadata": {
    "execution": {
     "iopub.execute_input": "2022-12-21T06:25:28.078418Z",
     "iopub.status.busy": "2022-12-21T06:25:28.077916Z",
     "iopub.status.idle": "2022-12-21T06:25:28.095204Z",
     "shell.execute_reply": "2022-12-21T06:25:28.094674Z"
    }
   },
   "outputs": [
    {
     "data": {
      "text/html": [
       "<table class=\"simpletable\">\n",
       "<caption>OLS Regression Results</caption>\n",
       "<tr>\n",
       "  <th>Dep. Variable:</th>            <td>y</td>        <th>  R-squared (uncentered):</th>      <td>   0.972</td> \n",
       "</tr>\n",
       "<tr>\n",
       "  <th>Model:</th>                   <td>OLS</td>       <th>  Adj. R-squared (uncentered):</th> <td>   0.972</td> \n",
       "</tr>\n",
       "<tr>\n",
       "  <th>Method:</th>             <td>Least Squares</td>  <th>  F-statistic:       </th>          <td>1.729e+04</td>\n",
       "</tr>\n",
       "<tr>\n",
       "  <th>Date:</th>             <td>Wed, 21 Dec 2022</td> <th>  Prob (F-statistic):</th>           <td>  0.00</td>  \n",
       "</tr>\n",
       "<tr>\n",
       "  <th>Time:</th>                 <td>06:25:28</td>     <th>  Log-Likelihood:    </th>          <td> -1452.2</td> \n",
       "</tr>\n",
       "<tr>\n",
       "  <th>No. Observations:</th>      <td>  1000</td>      <th>  AIC:               </th>          <td>   2908.</td> \n",
       "</tr>\n",
       "<tr>\n",
       "  <th>Df Residuals:</th>          <td>   998</td>      <th>  BIC:               </th>          <td>   2918.</td> \n",
       "</tr>\n",
       "<tr>\n",
       "  <th>Df Model:</th>              <td>     2</td>      <th>                     </th>              <td> </td>    \n",
       "</tr>\n",
       "<tr>\n",
       "  <th>Covariance Type:</th>      <td>nonrobust</td>    <th>                     </th>              <td> </td>    \n",
       "</tr>\n",
       "</table>\n",
       "<table class=\"simpletable\">\n",
       "<tr>\n",
       "   <td></td>     <th>coef</th>     <th>std err</th>      <th>t</th>      <th>P>|t|</th>  <th>[0.025</th>    <th>0.975]</th>  \n",
       "</tr>\n",
       "<tr>\n",
       "  <th>x1</th> <td>    2.4271</td> <td>    0.041</td> <td>   59.279</td> <td> 0.000</td> <td>    2.347</td> <td>    2.507</td>\n",
       "</tr>\n",
       "<tr>\n",
       "  <th>x2</th> <td>    4.9769</td> <td>    0.056</td> <td>   88.382</td> <td> 0.000</td> <td>    4.866</td> <td>    5.087</td>\n",
       "</tr>\n",
       "</table>\n",
       "<table class=\"simpletable\">\n",
       "<tr>\n",
       "  <th>Omnibus:</th>       <td> 0.250</td> <th>  Durbin-Watson:     </th> <td>   2.152</td>\n",
       "</tr>\n",
       "<tr>\n",
       "  <th>Prob(Omnibus):</th> <td> 0.883</td> <th>  Jarque-Bera (JB):  </th> <td>   0.264</td>\n",
       "</tr>\n",
       "<tr>\n",
       "  <th>Skew:</th>          <td>-0.038</td> <th>  Prob(JB):          </th> <td>   0.876</td>\n",
       "</tr>\n",
       "<tr>\n",
       "  <th>Kurtosis:</th>      <td> 2.979</td> <th>  Cond. No.          </th> <td>    2.47</td>\n",
       "</tr>\n",
       "</table><br/><br/>Notes:<br/>[1] R² is computed without centering (uncentered) since the model does not contain a constant.<br/>[2] Standard Errors assume that the covariance matrix of the errors is correctly specified."
      ],
      "text/plain": [
       "<class 'statsmodels.iolib.summary.Summary'>\n",
       "\"\"\"\n",
       "                                 OLS Regression Results                                \n",
       "=======================================================================================\n",
       "Dep. Variable:                      y   R-squared (uncentered):                   0.972\n",
       "Model:                            OLS   Adj. R-squared (uncentered):              0.972\n",
       "Method:                 Least Squares   F-statistic:                          1.729e+04\n",
       "Date:                Wed, 21 Dec 2022   Prob (F-statistic):                        0.00\n",
       "Time:                        06:25:28   Log-Likelihood:                         -1452.2\n",
       "No. Observations:                1000   AIC:                                      2908.\n",
       "Df Residuals:                     998   BIC:                                      2918.\n",
       "Df Model:                           2                                                  \n",
       "Covariance Type:            nonrobust                                                  \n",
       "==============================================================================\n",
       "                 coef    std err          t      P>|t|      [0.025      0.975]\n",
       "------------------------------------------------------------------------------\n",
       "x1             2.4271      0.041     59.279      0.000       2.347       2.507\n",
       "x2             4.9769      0.056     88.382      0.000       4.866       5.087\n",
       "==============================================================================\n",
       "Omnibus:                        0.250   Durbin-Watson:                   2.152\n",
       "Prob(Omnibus):                  0.883   Jarque-Bera (JB):                0.264\n",
       "Skew:                          -0.038   Prob(JB):                        0.876\n",
       "Kurtosis:                       2.979   Cond. No.                         2.47\n",
       "==============================================================================\n",
       "\n",
       "Notes:\n",
       "[1] R² is computed without centering (uncentered) since the model does not contain a constant.\n",
       "[2] Standard Errors assume that the covariance matrix of the errors is correctly specified.\n",
       "\"\"\""
      ]
     },
     "execution_count": 10,
     "metadata": {},
     "output_type": "execute_result"
    }
   ],
   "source": [
    "model = OLS(np.asarray(df[outcome]), np.asarray(df[[common_cause, treatment]], dtype=np.float64))\n",
    "result = model.fit()\n",
    "result.summary()"
   ]
  }
 ],
 "metadata": {
  "kernelspec": {
   "display_name": "Python 3",
   "language": "python",
   "name": "python3"
  },
  "language_info": {
   "codemirror_mode": {
    "name": "ipython",
    "version": 3
   },
   "file_extension": ".py",
   "mimetype": "text/x-python",
   "name": "python",
   "nbconvert_exporter": "python",
   "pygments_lexer": "ipython3",
   "version": "3.8.10"
  },
  "toc": {
   "base_numbering": 1,
   "nav_menu": {},
   "number_sections": false,
   "sideBar": true,
   "skip_h1_title": true,
   "title_cell": "Table of Contents",
   "title_sidebar": "Contents",
   "toc_cell": false,
   "toc_position": {},
   "toc_section_display": true,
   "toc_window_display": false
  }
 },
 "nbformat": 4,
 "nbformat_minor": 4
}
