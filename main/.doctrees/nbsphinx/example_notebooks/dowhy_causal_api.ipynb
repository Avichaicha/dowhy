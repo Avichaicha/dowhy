{
 "cells": [
  {
   "cell_type": "markdown",
   "metadata": {},
   "source": [
    "# Demo for the DoWhy causal API\n",
    "We show a simple example of adding a causal extension to any dataframe. "
   ]
  },
  {
   "cell_type": "code",
   "execution_count": 1,
   "metadata": {
    "execution": {
     "iopub.execute_input": "2022-07-29T09:42:45.538511Z",
     "iopub.status.busy": "2022-07-29T09:42:45.538189Z",
     "iopub.status.idle": "2022-07-29T09:42:47.081470Z",
     "shell.execute_reply": "2022-07-29T09:42:47.080298Z"
    }
   },
   "outputs": [
    {
     "name": "stdout",
     "output_type": "stream",
     "text": [
      "keywords are unexpanded, not using\n"
     ]
    }
   ],
   "source": [
    "import dowhy.datasets\n",
    "import dowhy.api\n",
    "\n",
    "import numpy as np\n",
    "import pandas as pd\n",
    "\n",
    "from statsmodels.api import OLS"
   ]
  },
  {
   "cell_type": "code",
   "execution_count": 2,
   "metadata": {
    "execution": {
     "iopub.execute_input": "2022-07-29T09:42:47.086182Z",
     "iopub.status.busy": "2022-07-29T09:42:47.085599Z",
     "iopub.status.idle": "2022-07-29T09:42:47.161655Z",
     "shell.execute_reply": "2022-07-29T09:42:47.160416Z"
    }
   },
   "outputs": [
    {
     "data": {
      "text/html": [
       "<div>\n",
       "<style scoped>\n",
       "    .dataframe tbody tr th:only-of-type {\n",
       "        vertical-align: middle;\n",
       "    }\n",
       "\n",
       "    .dataframe tbody tr th {\n",
       "        vertical-align: top;\n",
       "    }\n",
       "\n",
       "    .dataframe thead th {\n",
       "        text-align: right;\n",
       "    }\n",
       "</style>\n",
       "<table border=\"1\" class=\"dataframe\">\n",
       "  <thead>\n",
       "    <tr style=\"text-align: right;\">\n",
       "      <th></th>\n",
       "      <th>W0</th>\n",
       "      <th>v0</th>\n",
       "      <th>y</th>\n",
       "    </tr>\n",
       "  </thead>\n",
       "  <tbody>\n",
       "    <tr>\n",
       "      <th>0</th>\n",
       "      <td>-0.056150</td>\n",
       "      <td>True</td>\n",
       "      <td>5.106488</td>\n",
       "    </tr>\n",
       "    <tr>\n",
       "      <th>1</th>\n",
       "      <td>0.860579</td>\n",
       "      <td>True</td>\n",
       "      <td>5.467471</td>\n",
       "    </tr>\n",
       "    <tr>\n",
       "      <th>2</th>\n",
       "      <td>1.043068</td>\n",
       "      <td>True</td>\n",
       "      <td>6.152948</td>\n",
       "    </tr>\n",
       "    <tr>\n",
       "      <th>3</th>\n",
       "      <td>-1.867052</td>\n",
       "      <td>False</td>\n",
       "      <td>-1.350485</td>\n",
       "    </tr>\n",
       "    <tr>\n",
       "      <th>4</th>\n",
       "      <td>-0.901729</td>\n",
       "      <td>False</td>\n",
       "      <td>-0.446397</td>\n",
       "    </tr>\n",
       "    <tr>\n",
       "      <th>...</th>\n",
       "      <td>...</td>\n",
       "      <td>...</td>\n",
       "      <td>...</td>\n",
       "    </tr>\n",
       "    <tr>\n",
       "      <th>995</th>\n",
       "      <td>-1.373709</td>\n",
       "      <td>False</td>\n",
       "      <td>-1.904501</td>\n",
       "    </tr>\n",
       "    <tr>\n",
       "      <th>996</th>\n",
       "      <td>-0.971277</td>\n",
       "      <td>False</td>\n",
       "      <td>-0.439460</td>\n",
       "    </tr>\n",
       "    <tr>\n",
       "      <th>997</th>\n",
       "      <td>0.371798</td>\n",
       "      <td>True</td>\n",
       "      <td>4.599150</td>\n",
       "    </tr>\n",
       "    <tr>\n",
       "      <th>998</th>\n",
       "      <td>-0.084764</td>\n",
       "      <td>True</td>\n",
       "      <td>3.801222</td>\n",
       "    </tr>\n",
       "    <tr>\n",
       "      <th>999</th>\n",
       "      <td>2.049114</td>\n",
       "      <td>True</td>\n",
       "      <td>6.385807</td>\n",
       "    </tr>\n",
       "  </tbody>\n",
       "</table>\n",
       "<p>1000 rows × 3 columns</p>\n",
       "</div>"
      ],
      "text/plain": [
       "           W0     v0         y\n",
       "0   -0.056150   True  5.106488\n",
       "1    0.860579   True  5.467471\n",
       "2    1.043068   True  6.152948\n",
       "3   -1.867052  False -1.350485\n",
       "4   -0.901729  False -0.446397\n",
       "..        ...    ...       ...\n",
       "995 -1.373709  False -1.904501\n",
       "996 -0.971277  False -0.439460\n",
       "997  0.371798   True  4.599150\n",
       "998 -0.084764   True  3.801222\n",
       "999  2.049114   True  6.385807\n",
       "\n",
       "[1000 rows x 3 columns]"
      ]
     },
     "execution_count": 2,
     "metadata": {},
     "output_type": "execute_result"
    }
   ],
   "source": [
    "data = dowhy.datasets.linear_dataset(beta=5,\n",
    "        num_common_causes=1,\n",
    "        num_instruments = 0,\n",
    "        num_samples=1000,\n",
    "        treatment_is_binary=True)\n",
    "df = data['df']\n",
    "df['y'] = df['y'] + np.random.normal(size=len(df)) # Adding noise to data. Without noise, the variance in Y|X, Z is zero, and mcmc fails.\n",
    "#data['dot_graph'] = 'digraph { v ->y;X0-> v;X0-> y;}'\n",
    "\n",
    "treatment= data[\"treatment_name\"][0]\n",
    "outcome = data[\"outcome_name\"][0]\n",
    "common_cause = data[\"common_causes_names\"][0]\n",
    "df"
   ]
  },
  {
   "cell_type": "code",
   "execution_count": 3,
   "metadata": {
    "execution": {
     "iopub.execute_input": "2022-07-29T09:42:47.165295Z",
     "iopub.status.busy": "2022-07-29T09:42:47.164986Z",
     "iopub.status.idle": "2022-07-29T09:42:48.178846Z",
     "shell.execute_reply": "2022-07-29T09:42:48.178020Z"
    }
   },
   "outputs": [
    {
     "data": {
      "text/plain": [
       "<AxesSubplot:xlabel='v0'>"
      ]
     },
     "execution_count": 3,
     "metadata": {},
     "output_type": "execute_result"
    },
    {
     "data": {
      "image/png": "[encoded data removed]",
      "text/plain": [
       "<Figure size 432x288 with 1 Axes>"
      ]
     },
     "metadata": {
      "needs_background": "light"
     },
     "output_type": "display_data"
    }
   ],
   "source": [
    "# data['df'] is just a regular pandas.DataFrame\n",
    "df.causal.do(x=treatment,\n",
    "                     variable_types={treatment: 'b', outcome: 'c', common_cause: 'c'},\n",
    "                     outcome=outcome,\n",
    "                     common_causes=[common_cause],\n",
    "                     proceed_when_unidentifiable=True).groupby(treatment).mean().plot(y=outcome, kind='bar')"
   ]
  },
  {
   "cell_type": "code",
   "execution_count": 4,
   "metadata": {
    "execution": {
     "iopub.execute_input": "2022-07-29T09:42:48.184239Z",
     "iopub.status.busy": "2022-07-29T09:42:48.182766Z",
     "iopub.status.idle": "2022-07-29T09:42:48.315677Z",
     "shell.execute_reply": "2022-07-29T09:42:48.314880Z"
    }
   },
   "outputs": [
    {
     "data": {
      "text/plain": [
       "<AxesSubplot:xlabel='v0'>"
      ]
     },
     "execution_count": 4,
     "metadata": {},
     "output_type": "execute_result"
    },
    {
     "data": {
      "image/png": "[encoded data removed]",
      "text/plain": [
       "<Figure size 432x288 with 1 Axes>"
      ]
     },
     "metadata": {
      "needs_background": "light"
     },
     "output_type": "display_data"
    }
   ],
   "source": [
    "df.causal.do(x={treatment: 1}, \n",
    "              variable_types={treatment:'b', outcome: 'c', common_cause: 'c'}, \n",
    "              outcome=outcome,\n",
    "              method='weighting', \n",
    "              common_causes=[common_cause],\n",
    "              proceed_when_unidentifiable=True).groupby(treatment).mean().plot(y=outcome, kind='bar')"
   ]
  },
  {
   "cell_type": "code",
   "execution_count": 5,
   "metadata": {
    "execution": {
     "iopub.execute_input": "2022-07-29T09:42:48.320791Z",
     "iopub.status.busy": "2022-07-29T09:42:48.319542Z",
     "iopub.status.idle": "2022-07-29T09:42:48.366424Z",
     "shell.execute_reply": "2022-07-29T09:42:48.365461Z"
    }
   },
   "outputs": [],
   "source": [
    "cdf_1 = df.causal.do(x={treatment: 1}, \n",
    "              variable_types={treatment: 'b', outcome: 'c', common_cause: 'c'}, \n",
    "              outcome=outcome, \n",
    "              dot_graph=data['dot_graph'],\n",
    "              proceed_when_unidentifiable=True)\n",
    "\n",
    "cdf_0 = df.causal.do(x={treatment: 0}, \n",
    "              variable_types={treatment: 'b', outcome: 'c', common_cause: 'c'}, \n",
    "              outcome=outcome, \n",
    "              dot_graph=data['dot_graph'],\n",
    "              proceed_when_unidentifiable=True)\n"
   ]
  },
  {
   "cell_type": "code",
   "execution_count": 6,
   "metadata": {
    "execution": {
     "iopub.execute_input": "2022-07-29T09:42:48.372104Z",
     "iopub.status.busy": "2022-07-29T09:42:48.370329Z",
     "iopub.status.idle": "2022-07-29T09:42:48.387833Z",
     "shell.execute_reply": "2022-07-29T09:42:48.386943Z"
    },
    "scrolled": true
   },
   "outputs": [
    {
     "data": {
      "text/html": [
       "<div>\n",
       "<style scoped>\n",
       "    .dataframe tbody tr th:only-of-type {\n",
       "        vertical-align: middle;\n",
       "    }\n",
       "\n",
       "    .dataframe tbody tr th {\n",
       "        vertical-align: top;\n",
       "    }\n",
       "\n",
       "    .dataframe thead th {\n",
       "        text-align: right;\n",
       "    }\n",
       "</style>\n",
       "<table border=\"1\" class=\"dataframe\">\n",
       "  <thead>\n",
       "    <tr style=\"text-align: right;\">\n",
       "      <th></th>\n",
       "      <th>W0</th>\n",
       "      <th>v0</th>\n",
       "      <th>y</th>\n",
       "      <th>propensity_score</th>\n",
       "      <th>weight</th>\n",
       "    </tr>\n",
       "  </thead>\n",
       "  <tbody>\n",
       "    <tr>\n",
       "      <th>0</th>\n",
       "      <td>-0.043842</td>\n",
       "      <td>False</td>\n",
       "      <td>-0.059877</td>\n",
       "      <td>0.511101</td>\n",
       "      <td>1.956559</td>\n",
       "    </tr>\n",
       "    <tr>\n",
       "      <th>1</th>\n",
       "      <td>-0.695678</td>\n",
       "      <td>False</td>\n",
       "      <td>-1.380021</td>\n",
       "      <td>0.819656</td>\n",
       "      <td>1.220024</td>\n",
       "    </tr>\n",
       "    <tr>\n",
       "      <th>2</th>\n",
       "      <td>-0.881935</td>\n",
       "      <td>False</td>\n",
       "      <td>-1.994652</td>\n",
       "      <td>0.873686</td>\n",
       "      <td>1.144577</td>\n",
       "    </tr>\n",
       "    <tr>\n",
       "      <th>3</th>\n",
       "      <td>0.416148</td>\n",
       "      <td>False</td>\n",
       "      <td>-0.421346</td>\n",
       "      <td>0.270386</td>\n",
       "      <td>3.698414</td>\n",
       "    </tr>\n",
       "    <tr>\n",
       "      <th>4</th>\n",
       "      <td>-0.064290</td>\n",
       "      <td>False</td>\n",
       "      <td>1.132985</td>\n",
       "      <td>0.522613</td>\n",
       "      <td>1.913461</td>\n",
       "    </tr>\n",
       "    <tr>\n",
       "      <th>...</th>\n",
       "      <td>...</td>\n",
       "      <td>...</td>\n",
       "      <td>...</td>\n",
       "      <td>...</td>\n",
       "      <td>...</td>\n",
       "    </tr>\n",
       "    <tr>\n",
       "      <th>995</th>\n",
       "      <td>-1.768236</td>\n",
       "      <td>False</td>\n",
       "      <td>-0.170388</td>\n",
       "      <td>0.980776</td>\n",
       "      <td>1.019601</td>\n",
       "    </tr>\n",
       "    <tr>\n",
       "      <th>996</th>\n",
       "      <td>-1.079218</td>\n",
       "      <td>False</td>\n",
       "      <td>-0.506579</td>\n",
       "      <td>0.915191</td>\n",
       "      <td>1.092668</td>\n",
       "    </tr>\n",
       "    <tr>\n",
       "      <th>997</th>\n",
       "      <td>0.719911</td>\n",
       "      <td>False</td>\n",
       "      <td>0.052587</td>\n",
       "      <td>0.157425</td>\n",
       "      <td>6.352245</td>\n",
       "    </tr>\n",
       "    <tr>\n",
       "      <th>998</th>\n",
       "      <td>0.520055</td>\n",
       "      <td>False</td>\n",
       "      <td>-0.174761</td>\n",
       "      <td>0.226720</td>\n",
       "      <td>4.410735</td>\n",
       "    </tr>\n",
       "    <tr>\n",
       "      <th>999</th>\n",
       "      <td>0.425098</td>\n",
       "      <td>False</td>\n",
       "      <td>1.790535</td>\n",
       "      <td>0.266424</td>\n",
       "      <td>3.753415</td>\n",
       "    </tr>\n",
       "  </tbody>\n",
       "</table>\n",
       "<p>1000 rows × 5 columns</p>\n",
       "</div>"
      ],
      "text/plain": [
       "           W0     v0         y  propensity_score    weight\n",
       "0   -0.043842  False -0.059877          0.511101  1.956559\n",
       "1   -0.695678  False -1.380021          0.819656  1.220024\n",
       "2   -0.881935  False -1.994652          0.873686  1.144577\n",
       "3    0.416148  False -0.421346          0.270386  3.698414\n",
       "4   -0.064290  False  1.132985          0.522613  1.913461\n",
       "..        ...    ...       ...               ...       ...\n",
       "995 -1.768236  False -0.170388          0.980776  1.019601\n",
       "996 -1.079218  False -0.506579          0.915191  1.092668\n",
       "997  0.719911  False  0.052587          0.157425  6.352245\n",
       "998  0.520055  False -0.174761          0.226720  4.410735\n",
       "999  0.425098  False  1.790535          0.266424  3.753415\n",
       "\n",
       "[1000 rows x 5 columns]"
      ]
     },
     "execution_count": 6,
     "metadata": {},
     "output_type": "execute_result"
    }
   ],
   "source": [
    "cdf_0"
   ]
  },
  {
   "cell_type": "code",
   "execution_count": 7,
   "metadata": {
    "execution": {
     "iopub.execute_input": "2022-07-29T09:42:48.392255Z",
     "iopub.status.busy": "2022-07-29T09:42:48.391590Z",
     "iopub.status.idle": "2022-07-29T09:42:48.405734Z",
     "shell.execute_reply": "2022-07-29T09:42:48.404904Z"
    }
   },
   "outputs": [
    {
     "data": {
      "text/html": [
       "<div>\n",
       "<style scoped>\n",
       "    .dataframe tbody tr th:only-of-type {\n",
       "        vertical-align: middle;\n",
       "    }\n",
       "\n",
       "    .dataframe tbody tr th {\n",
       "        vertical-align: top;\n",
       "    }\n",
       "\n",
       "    .dataframe thead th {\n",
       "        text-align: right;\n",
       "    }\n",
       "</style>\n",
       "<table border=\"1\" class=\"dataframe\">\n",
       "  <thead>\n",
       "    <tr style=\"text-align: right;\">\n",
       "      <th></th>\n",
       "      <th>W0</th>\n",
       "      <th>v0</th>\n",
       "      <th>y</th>\n",
       "      <th>propensity_score</th>\n",
       "      <th>weight</th>\n",
       "    </tr>\n",
       "  </thead>\n",
       "  <tbody>\n",
       "    <tr>\n",
       "      <th>0</th>\n",
       "      <td>-1.017847</td>\n",
       "      <td>True</td>\n",
       "      <td>5.511637</td>\n",
       "      <td>0.096183</td>\n",
       "      <td>10.396806</td>\n",
       "    </tr>\n",
       "    <tr>\n",
       "      <th>1</th>\n",
       "      <td>-0.564461</td>\n",
       "      <td>True</td>\n",
       "      <td>4.869968</td>\n",
       "      <td>0.228257</td>\n",
       "      <td>4.381033</td>\n",
       "    </tr>\n",
       "    <tr>\n",
       "      <th>2</th>\n",
       "      <td>-1.092108</td>\n",
       "      <td>True</td>\n",
       "      <td>4.096475</td>\n",
       "      <td>0.082580</td>\n",
       "      <td>12.109433</td>\n",
       "    </tr>\n",
       "    <tr>\n",
       "      <th>3</th>\n",
       "      <td>0.736229</td>\n",
       "      <td>True</td>\n",
       "      <td>4.670668</td>\n",
       "      <td>0.847394</td>\n",
       "      <td>1.180088</td>\n",
       "    </tr>\n",
       "    <tr>\n",
       "      <th>4</th>\n",
       "      <td>-0.904448</td>\n",
       "      <td>True</td>\n",
       "      <td>2.982361</td>\n",
       "      <td>0.120818</td>\n",
       "      <td>8.276898</td>\n",
       "    </tr>\n",
       "    <tr>\n",
       "      <th>...</th>\n",
       "      <td>...</td>\n",
       "      <td>...</td>\n",
       "      <td>...</td>\n",
       "      <td>...</td>\n",
       "      <td>...</td>\n",
       "    </tr>\n",
       "    <tr>\n",
       "      <th>995</th>\n",
       "      <td>-1.092108</td>\n",
       "      <td>True</td>\n",
       "      <td>4.096475</td>\n",
       "      <td>0.082580</td>\n",
       "      <td>12.109433</td>\n",
       "    </tr>\n",
       "    <tr>\n",
       "      <th>996</th>\n",
       "      <td>-0.387463</td>\n",
       "      <td>True</td>\n",
       "      <td>3.537784</td>\n",
       "      <td>0.305949</td>\n",
       "      <td>3.268521</td>\n",
       "    </tr>\n",
       "    <tr>\n",
       "      <th>997</th>\n",
       "      <td>0.284311</td>\n",
       "      <td>True</td>\n",
       "      <td>6.295199</td>\n",
       "      <td>0.667174</td>\n",
       "      <td>1.498860</td>\n",
       "    </tr>\n",
       "    <tr>\n",
       "      <th>998</th>\n",
       "      <td>-0.453987</td>\n",
       "      <td>True</td>\n",
       "      <td>5.747272</td>\n",
       "      <td>0.275058</td>\n",
       "      <td>3.635601</td>\n",
       "    </tr>\n",
       "    <tr>\n",
       "      <th>999</th>\n",
       "      <td>-0.840845</td>\n",
       "      <td>True</td>\n",
       "      <td>3.890450</td>\n",
       "      <td>0.136897</td>\n",
       "      <td>7.304764</td>\n",
       "    </tr>\n",
       "  </tbody>\n",
       "</table>\n",
       "<p>1000 rows × 5 columns</p>\n",
       "</div>"
      ],
      "text/plain": [
       "           W0    v0         y  propensity_score     weight\n",
       "0   -1.017847  True  5.511637          0.096183  10.396806\n",
       "1   -0.564461  True  4.869968          0.228257   4.381033\n",
       "2   -1.092108  True  4.096475          0.082580  12.109433\n",
       "3    0.736229  True  4.670668          0.847394   1.180088\n",
       "4   -0.904448  True  2.982361          0.120818   8.276898\n",
       "..        ...   ...       ...               ...        ...\n",
       "995 -1.092108  True  4.096475          0.082580  12.109433\n",
       "996 -0.387463  True  3.537784          0.305949   3.268521\n",
       "997  0.284311  True  6.295199          0.667174   1.498860\n",
       "998 -0.453987  True  5.747272          0.275058   3.635601\n",
       "999 -0.840845  True  3.890450          0.136897   7.304764\n",
       "\n",
       "[1000 rows x 5 columns]"
      ]
     },
     "execution_count": 7,
     "metadata": {},
     "output_type": "execute_result"
    }
   ],
   "source": [
    "cdf_1"
   ]
  },
  {
   "cell_type": "markdown",
   "metadata": {},
   "source": [
    "## Comparing the estimate to Linear Regression\n",
    "First, estimating the effect using the causal data frame, and the 95% confidence interval."
   ]
  },
  {
   "cell_type": "code",
   "execution_count": 8,
   "metadata": {
    "execution": {
     "iopub.execute_input": "2022-07-29T09:42:48.409959Z",
     "iopub.status.busy": "2022-07-29T09:42:48.409650Z",
     "iopub.status.idle": "2022-07-29T09:42:48.545743Z",
     "shell.execute_reply": "2022-07-29T09:42:48.544747Z"
    }
   },
   "outputs": [
    {
     "data": {
      "image/png": "[encoded data removed]",
      "text/latex": [
       "$\\displaystyle 4.98772523696039$"
      ],
      "text/plain": [
       "4.987725236960394"
      ]
     },
     "execution_count": 8,
     "metadata": {},
     "output_type": "execute_result"
    }
   ],
   "source": [
    "(cdf_1['y'] - cdf_0['y']).mean()"
   ]
  },
  {
   "cell_type": "code",
   "execution_count": 9,
   "metadata": {
    "execution": {
     "iopub.execute_input": "2022-07-29T09:42:48.550079Z",
     "iopub.status.busy": "2022-07-29T09:42:48.549213Z",
     "iopub.status.idle": "2022-07-29T09:42:48.585038Z",
     "shell.execute_reply": "2022-07-29T09:42:48.584098Z"
    }
   },
   "outputs": [
    {
     "data": {
      "image/png": "[encoded data removed]",
      "text/latex": [
       "$\\displaystyle 0.0974815838917865$"
      ],
      "text/plain": [
       "0.09748158389178654"
      ]
     },
     "execution_count": 9,
     "metadata": {},
     "output_type": "execute_result"
    }
   ],
   "source": [
    "1.96*(cdf_1['y'] - cdf_0['y']).std() / np.sqrt(len(df))"
   ]
  },
  {
   "cell_type": "markdown",
   "metadata": {},
   "source": [
    "Comparing to the estimate from OLS."
   ]
  },
  {
   "cell_type": "code",
   "execution_count": 10,
   "metadata": {
    "execution": {
     "iopub.execute_input": "2022-07-29T09:42:48.589374Z",
     "iopub.status.busy": "2022-07-29T09:42:48.588951Z",
     "iopub.status.idle": "2022-07-29T09:42:48.611880Z",
     "shell.execute_reply": "2022-07-29T09:42:48.610857Z"
    }
   },
   "outputs": [
    {
     "data": {
      "text/html": [
       "<table class=\"simpletable\">\n",
       "<caption>OLS Regression Results</caption>\n",
       "<tr>\n",
       "  <th>Dep. Variable:</th>            <td>y</td>        <th>  R-squared (uncentered):</th>      <td>   0.920</td>\n",
       "</tr>\n",
       "<tr>\n",
       "  <th>Model:</th>                   <td>OLS</td>       <th>  Adj. R-squared (uncentered):</th> <td>   0.920</td>\n",
       "</tr>\n",
       "<tr>\n",
       "  <th>Method:</th>             <td>Least Squares</td>  <th>  F-statistic:       </th>          <td>   5722.</td>\n",
       "</tr>\n",
       "<tr>\n",
       "  <th>Date:</th>             <td>Fri, 29 Jul 2022</td> <th>  Prob (F-statistic):</th>           <td>  0.00</td> \n",
       "</tr>\n",
       "<tr>\n",
       "  <th>Time:</th>                 <td>09:42:48</td>     <th>  Log-Likelihood:    </th>          <td> -1435.5</td>\n",
       "</tr>\n",
       "<tr>\n",
       "  <th>No. Observations:</th>      <td>  1000</td>      <th>  AIC:               </th>          <td>   2875.</td>\n",
       "</tr>\n",
       "<tr>\n",
       "  <th>Df Residuals:</th>          <td>   998</td>      <th>  BIC:               </th>          <td>   2885.</td>\n",
       "</tr>\n",
       "<tr>\n",
       "  <th>Df Model:</th>              <td>     2</td>      <th>                     </th>              <td> </td>   \n",
       "</tr>\n",
       "<tr>\n",
       "  <th>Covariance Type:</th>      <td>nonrobust</td>    <th>                     </th>              <td> </td>   \n",
       "</tr>\n",
       "</table>\n",
       "<table class=\"simpletable\">\n",
       "<tr>\n",
       "   <td></td>     <th>coef</th>     <th>std err</th>      <th>t</th>      <th>P>|t|</th>  <th>[0.025</th>    <th>0.975]</th>  \n",
       "</tr>\n",
       "<tr>\n",
       "  <th>x1</th> <td>    0.5402</td> <td>    0.033</td> <td>   16.414</td> <td> 0.000</td> <td>    0.476</td> <td>    0.605</td>\n",
       "</tr>\n",
       "<tr>\n",
       "  <th>x2</th> <td>    5.0260</td> <td>    0.052</td> <td>   97.004</td> <td> 0.000</td> <td>    4.924</td> <td>    5.128</td>\n",
       "</tr>\n",
       "</table>\n",
       "<table class=\"simpletable\">\n",
       "<tr>\n",
       "  <th>Omnibus:</th>       <td> 2.393</td> <th>  Durbin-Watson:     </th> <td>   2.027</td>\n",
       "</tr>\n",
       "<tr>\n",
       "  <th>Prob(Omnibus):</th> <td> 0.302</td> <th>  Jarque-Bera (JB):  </th> <td>   2.428</td>\n",
       "</tr>\n",
       "<tr>\n",
       "  <th>Skew:</th>          <td>-0.118</td> <th>  Prob(JB):          </th> <td>   0.297</td>\n",
       "</tr>\n",
       "<tr>\n",
       "  <th>Kurtosis:</th>      <td> 2.952</td> <th>  Cond. No.          </th> <td>    1.72</td>\n",
       "</tr>\n",
       "</table><br/><br/>Notes:<br/>[1] R² is computed without centering (uncentered) since the model does not contain a constant.<br/>[2] Standard Errors assume that the covariance matrix of the errors is correctly specified."
      ],
      "text/plain": [
       "<class 'statsmodels.iolib.summary.Summary'>\n",
       "\"\"\"\n",
       "                                 OLS Regression Results                                \n",
       "=======================================================================================\n",
       "Dep. Variable:                      y   R-squared (uncentered):                   0.920\n",
       "Model:                            OLS   Adj. R-squared (uncentered):              0.920\n",
       "Method:                 Least Squares   F-statistic:                              5722.\n",
       "Date:                Fri, 29 Jul 2022   Prob (F-statistic):                        0.00\n",
       "Time:                        09:42:48   Log-Likelihood:                         -1435.5\n",
       "No. Observations:                1000   AIC:                                      2875.\n",
       "Df Residuals:                     998   BIC:                                      2885.\n",
       "Df Model:                           2                                                  \n",
       "Covariance Type:            nonrobust                                                  \n",
       "==============================================================================\n",
       "                 coef    std err          t      P>|t|      [0.025      0.975]\n",
       "------------------------------------------------------------------------------\n",
       "x1             0.5402      0.033     16.414      0.000       0.476       0.605\n",
       "x2             5.0260      0.052     97.004      0.000       4.924       5.128\n",
       "==============================================================================\n",
       "Omnibus:                        2.393   Durbin-Watson:                   2.027\n",
       "Prob(Omnibus):                  0.302   Jarque-Bera (JB):                2.428\n",
       "Skew:                          -0.118   Prob(JB):                        0.297\n",
       "Kurtosis:                       2.952   Cond. No.                         1.72\n",
       "==============================================================================\n",
       "\n",
       "Notes:\n",
       "[1] R² is computed without centering (uncentered) since the model does not contain a constant.\n",
       "[2] Standard Errors assume that the covariance matrix of the errors is correctly specified.\n",
       "\"\"\""
      ]
     },
     "execution_count": 10,
     "metadata": {},
     "output_type": "execute_result"
    }
   ],
   "source": [
    "model = OLS(np.asarray(df[outcome]), np.asarray(df[[common_cause, treatment]], dtype=np.float64))\n",
    "result = model.fit()\n",
    "result.summary()"
   ]
  }
 ],
 "metadata": {
  "kernelspec": {
   "display_name": "Python 3",
   "language": "python",
   "name": "python3"
  },
  "language_info": {
   "codemirror_mode": {
    "name": "ipython",
    "version": 3
   },
   "file_extension": ".py",
   "mimetype": "text/x-python",
   "name": "python",
   "nbconvert_exporter": "python",
   "pygments_lexer": "ipython3",
   "version": "3.8.10"
  },
  "toc": {
   "base_numbering": 1,
   "nav_menu": {},
   "number_sections": false,
   "sideBar": true,
   "skip_h1_title": true,
   "title_cell": "Table of Contents",
   "title_sidebar": "Contents",
   "toc_cell": false,
   "toc_position": {},
   "toc_section_display": true,
   "toc_window_display": false
  }
 },
 "nbformat": 4,
 "nbformat_minor": 4
}
