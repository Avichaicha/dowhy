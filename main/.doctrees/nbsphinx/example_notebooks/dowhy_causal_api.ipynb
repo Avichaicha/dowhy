{
 "cells": [
  {
   "cell_type": "markdown",
   "metadata": {},
   "source": [
    "# Demo for the DoWhy causal API\n",
    "We show a simple example of adding a causal extension to any dataframe. "
   ]
  },
  {
   "cell_type": "code",
   "execution_count": 1,
   "metadata": {
    "execution": {
     "iopub.execute_input": "2022-11-22T18:13:52.738286Z",
     "iopub.status.busy": "2022-11-22T18:13:52.737928Z",
     "iopub.status.idle": "2022-11-22T18:13:54.495159Z",
     "shell.execute_reply": "2022-11-22T18:13:54.494525Z"
    }
   },
   "outputs": [],
   "source": [
    "import dowhy.datasets\n",
    "import dowhy.api\n",
    "\n",
    "import numpy as np\n",
    "import pandas as pd\n",
    "\n",
    "from statsmodels.api import OLS"
   ]
  },
  {
   "cell_type": "code",
   "execution_count": 2,
   "metadata": {
    "execution": {
     "iopub.execute_input": "2022-11-22T18:13:54.499323Z",
     "iopub.status.busy": "2022-11-22T18:13:54.498532Z",
     "iopub.status.idle": "2022-11-22T18:13:54.539657Z",
     "shell.execute_reply": "2022-11-22T18:13:54.539052Z"
    }
   },
   "outputs": [
    {
     "data": {
      "text/html": [
       "<div>\n",
       "<style scoped>\n",
       "    .dataframe tbody tr th:only-of-type {\n",
       "        vertical-align: middle;\n",
       "    }\n",
       "\n",
       "    .dataframe tbody tr th {\n",
       "        vertical-align: top;\n",
       "    }\n",
       "\n",
       "    .dataframe thead th {\n",
       "        text-align: right;\n",
       "    }\n",
       "</style>\n",
       "<table border=\"1\" class=\"dataframe\">\n",
       "  <thead>\n",
       "    <tr style=\"text-align: right;\">\n",
       "      <th></th>\n",
       "      <th>W0</th>\n",
       "      <th>v0</th>\n",
       "      <th>y</th>\n",
       "    </tr>\n",
       "  </thead>\n",
       "  <tbody>\n",
       "    <tr>\n",
       "      <th>0</th>\n",
       "      <td>-0.096557</td>\n",
       "      <td>True</td>\n",
       "      <td>5.134490</td>\n",
       "    </tr>\n",
       "    <tr>\n",
       "      <th>1</th>\n",
       "      <td>0.910054</td>\n",
       "      <td>False</td>\n",
       "      <td>1.737545</td>\n",
       "    </tr>\n",
       "    <tr>\n",
       "      <th>2</th>\n",
       "      <td>-0.114418</td>\n",
       "      <td>False</td>\n",
       "      <td>-0.044407</td>\n",
       "    </tr>\n",
       "    <tr>\n",
       "      <th>3</th>\n",
       "      <td>2.299936</td>\n",
       "      <td>True</td>\n",
       "      <td>8.618177</td>\n",
       "    </tr>\n",
       "    <tr>\n",
       "      <th>4</th>\n",
       "      <td>0.458496</td>\n",
       "      <td>True</td>\n",
       "      <td>4.136676</td>\n",
       "    </tr>\n",
       "    <tr>\n",
       "      <th>...</th>\n",
       "      <td>...</td>\n",
       "      <td>...</td>\n",
       "      <td>...</td>\n",
       "    </tr>\n",
       "    <tr>\n",
       "      <th>995</th>\n",
       "      <td>-0.000868</td>\n",
       "      <td>True</td>\n",
       "      <td>5.213156</td>\n",
       "    </tr>\n",
       "    <tr>\n",
       "      <th>996</th>\n",
       "      <td>0.072987</td>\n",
       "      <td>False</td>\n",
       "      <td>0.945850</td>\n",
       "    </tr>\n",
       "    <tr>\n",
       "      <th>997</th>\n",
       "      <td>1.376550</td>\n",
       "      <td>True</td>\n",
       "      <td>8.180010</td>\n",
       "    </tr>\n",
       "    <tr>\n",
       "      <th>998</th>\n",
       "      <td>0.227290</td>\n",
       "      <td>True</td>\n",
       "      <td>6.886411</td>\n",
       "    </tr>\n",
       "    <tr>\n",
       "      <th>999</th>\n",
       "      <td>1.333162</td>\n",
       "      <td>True</td>\n",
       "      <td>8.142973</td>\n",
       "    </tr>\n",
       "  </tbody>\n",
       "</table>\n",
       "<p>1000 rows × 3 columns</p>\n",
       "</div>"
      ],
      "text/plain": [
       "           W0     v0         y\n",
       "0   -0.096557   True  5.134490\n",
       "1    0.910054  False  1.737545\n",
       "2   -0.114418  False -0.044407\n",
       "3    2.299936   True  8.618177\n",
       "4    0.458496   True  4.136676\n",
       "..        ...    ...       ...\n",
       "995 -0.000868   True  5.213156\n",
       "996  0.072987  False  0.945850\n",
       "997  1.376550   True  8.180010\n",
       "998  0.227290   True  6.886411\n",
       "999  1.333162   True  8.142973\n",
       "\n",
       "[1000 rows x 3 columns]"
      ]
     },
     "execution_count": 2,
     "metadata": {},
     "output_type": "execute_result"
    }
   ],
   "source": [
    "data = dowhy.datasets.linear_dataset(beta=5,\n",
    "        num_common_causes=1,\n",
    "        num_instruments = 0,\n",
    "        num_samples=1000,\n",
    "        treatment_is_binary=True)\n",
    "df = data['df']\n",
    "df['y'] = df['y'] + np.random.normal(size=len(df)) # Adding noise to data. Without noise, the variance in Y|X, Z is zero, and mcmc fails.\n",
    "#data['dot_graph'] = 'digraph { v ->y;X0-> v;X0-> y;}'\n",
    "\n",
    "treatment= data[\"treatment_name\"][0]\n",
    "outcome = data[\"outcome_name\"][0]\n",
    "common_cause = data[\"common_causes_names\"][0]\n",
    "df"
   ]
  },
  {
   "cell_type": "code",
   "execution_count": 3,
   "metadata": {
    "execution": {
     "iopub.execute_input": "2022-11-22T18:13:54.542705Z",
     "iopub.status.busy": "2022-11-22T18:13:54.542376Z",
     "iopub.status.idle": "2022-11-22T18:13:54.690225Z",
     "shell.execute_reply": "2022-11-22T18:13:54.689612Z"
    }
   },
   "outputs": [
    {
     "data": {
      "text/plain": [
       "<AxesSubplot: xlabel='v0'>"
      ]
     },
     "execution_count": 3,
     "metadata": {},
     "output_type": "execute_result"
    },
    {
     "data": {
      "image/png": "[encoded data removed]",
      "text/plain": [
       "<Figure size 640x480 with 1 Axes>"
      ]
     },
     "metadata": {},
     "output_type": "display_data"
    }
   ],
   "source": [
    "# data['df'] is just a regular pandas.DataFrame\n",
    "df.causal.do(x=treatment,\n",
    "                     variable_types={treatment: 'b', outcome: 'c', common_cause: 'c'},\n",
    "                     outcome=outcome,\n",
    "                     common_causes=[common_cause],\n",
    "                     proceed_when_unidentifiable=True).groupby(treatment).mean().plot(y=outcome, kind='bar')"
   ]
  },
  {
   "cell_type": "code",
   "execution_count": 4,
   "metadata": {
    "execution": {
     "iopub.execute_input": "2022-11-22T18:13:54.693440Z",
     "iopub.status.busy": "2022-11-22T18:13:54.692879Z",
     "iopub.status.idle": "2022-11-22T18:13:54.808512Z",
     "shell.execute_reply": "2022-11-22T18:13:54.807873Z"
    }
   },
   "outputs": [
    {
     "data": {
      "text/plain": [
       "<AxesSubplot: xlabel='v0'>"
      ]
     },
     "execution_count": 4,
     "metadata": {},
     "output_type": "execute_result"
    },
    {
     "data": {
      "image/png": "[encoded data removed]",
      "text/plain": [
       "<Figure size 640x480 with 1 Axes>"
      ]
     },
     "metadata": {},
     "output_type": "display_data"
    }
   ],
   "source": [
    "df.causal.do(x={treatment: 1}, \n",
    "              variable_types={treatment:'b', outcome: 'c', common_cause: 'c'}, \n",
    "              outcome=outcome,\n",
    "              method='weighting', \n",
    "              common_causes=[common_cause],\n",
    "              proceed_when_unidentifiable=True).groupby(treatment).mean().plot(y=outcome, kind='bar')"
   ]
  },
  {
   "cell_type": "code",
   "execution_count": 5,
   "metadata": {
    "execution": {
     "iopub.execute_input": "2022-11-22T18:13:54.812649Z",
     "iopub.status.busy": "2022-11-22T18:13:54.811500Z",
     "iopub.status.idle": "2022-11-22T18:13:54.842284Z",
     "shell.execute_reply": "2022-11-22T18:13:54.841701Z"
    }
   },
   "outputs": [],
   "source": [
    "cdf_1 = df.causal.do(x={treatment: 1}, \n",
    "              variable_types={treatment: 'b', outcome: 'c', common_cause: 'c'}, \n",
    "              outcome=outcome, \n",
    "              dot_graph=data['dot_graph'],\n",
    "              proceed_when_unidentifiable=True)\n",
    "\n",
    "cdf_0 = df.causal.do(x={treatment: 0}, \n",
    "              variable_types={treatment: 'b', outcome: 'c', common_cause: 'c'}, \n",
    "              outcome=outcome, \n",
    "              dot_graph=data['dot_graph'],\n",
    "              proceed_when_unidentifiable=True)\n"
   ]
  },
  {
   "cell_type": "code",
   "execution_count": 6,
   "metadata": {
    "execution": {
     "iopub.execute_input": "2022-11-22T18:13:54.845664Z",
     "iopub.status.busy": "2022-11-22T18:13:54.845337Z",
     "iopub.status.idle": "2022-11-22T18:13:54.857829Z",
     "shell.execute_reply": "2022-11-22T18:13:54.857264Z"
    },
    "scrolled": true
   },
   "outputs": [
    {
     "data": {
      "text/html": [
       "<div>\n",
       "<style scoped>\n",
       "    .dataframe tbody tr th:only-of-type {\n",
       "        vertical-align: middle;\n",
       "    }\n",
       "\n",
       "    .dataframe tbody tr th {\n",
       "        vertical-align: top;\n",
       "    }\n",
       "\n",
       "    .dataframe thead th {\n",
       "        text-align: right;\n",
       "    }\n",
       "</style>\n",
       "<table border=\"1\" class=\"dataframe\">\n",
       "  <thead>\n",
       "    <tr style=\"text-align: right;\">\n",
       "      <th></th>\n",
       "      <th>W0</th>\n",
       "      <th>v0</th>\n",
       "      <th>y</th>\n",
       "      <th>propensity_score</th>\n",
       "      <th>weight</th>\n",
       "    </tr>\n",
       "  </thead>\n",
       "  <tbody>\n",
       "    <tr>\n",
       "      <th>0</th>\n",
       "      <td>-0.497564</td>\n",
       "      <td>False</td>\n",
       "      <td>-1.460581</td>\n",
       "      <td>0.609061</td>\n",
       "      <td>1.641871</td>\n",
       "    </tr>\n",
       "    <tr>\n",
       "      <th>1</th>\n",
       "      <td>-0.620101</td>\n",
       "      <td>False</td>\n",
       "      <td>-0.379875</td>\n",
       "      <td>0.639080</td>\n",
       "      <td>1.564748</td>\n",
       "    </tr>\n",
       "    <tr>\n",
       "      <th>2</th>\n",
       "      <td>0.861394</td>\n",
       "      <td>False</td>\n",
       "      <td>1.938675</td>\n",
       "      <td>0.273635</td>\n",
       "      <td>3.654506</td>\n",
       "    </tr>\n",
       "    <tr>\n",
       "      <th>3</th>\n",
       "      <td>0.384774</td>\n",
       "      <td>False</td>\n",
       "      <td>-0.493140</td>\n",
       "      <td>0.382639</td>\n",
       "      <td>2.613427</td>\n",
       "    </tr>\n",
       "    <tr>\n",
       "      <th>4</th>\n",
       "      <td>0.533555</td>\n",
       "      <td>False</td>\n",
       "      <td>0.872557</td>\n",
       "      <td>0.346653</td>\n",
       "      <td>2.884729</td>\n",
       "    </tr>\n",
       "    <tr>\n",
       "      <th>...</th>\n",
       "      <td>...</td>\n",
       "      <td>...</td>\n",
       "      <td>...</td>\n",
       "      <td>...</td>\n",
       "      <td>...</td>\n",
       "    </tr>\n",
       "    <tr>\n",
       "      <th>995</th>\n",
       "      <td>2.062752</td>\n",
       "      <td>False</td>\n",
       "      <td>4.580059</td>\n",
       "      <td>0.096979</td>\n",
       "      <td>10.311497</td>\n",
       "    </tr>\n",
       "    <tr>\n",
       "      <th>996</th>\n",
       "      <td>0.909462</td>\n",
       "      <td>False</td>\n",
       "      <td>3.419034</td>\n",
       "      <td>0.263769</td>\n",
       "      <td>3.791202</td>\n",
       "    </tr>\n",
       "    <tr>\n",
       "      <th>997</th>\n",
       "      <td>2.734418</td>\n",
       "      <td>False</td>\n",
       "      <td>7.680332</td>\n",
       "      <td>0.050551</td>\n",
       "      <td>19.782036</td>\n",
       "    </tr>\n",
       "    <tr>\n",
       "      <th>998</th>\n",
       "      <td>0.959045</td>\n",
       "      <td>False</td>\n",
       "      <td>0.596653</td>\n",
       "      <td>0.253834</td>\n",
       "      <td>3.939589</td>\n",
       "    </tr>\n",
       "    <tr>\n",
       "      <th>999</th>\n",
       "      <td>1.266281</td>\n",
       "      <td>False</td>\n",
       "      <td>2.617080</td>\n",
       "      <td>0.197940</td>\n",
       "      <td>5.052046</td>\n",
       "    </tr>\n",
       "  </tbody>\n",
       "</table>\n",
       "<p>1000 rows × 5 columns</p>\n",
       "</div>"
      ],
      "text/plain": [
       "           W0     v0         y  propensity_score     weight\n",
       "0   -0.497564  False -1.460581          0.609061   1.641871\n",
       "1   -0.620101  False -0.379875          0.639080   1.564748\n",
       "2    0.861394  False  1.938675          0.273635   3.654506\n",
       "3    0.384774  False -0.493140          0.382639   2.613427\n",
       "4    0.533555  False  0.872557          0.346653   2.884729\n",
       "..        ...    ...       ...               ...        ...\n",
       "995  2.062752  False  4.580059          0.096979  10.311497\n",
       "996  0.909462  False  3.419034          0.263769   3.791202\n",
       "997  2.734418  False  7.680332          0.050551  19.782036\n",
       "998  0.959045  False  0.596653          0.253834   3.939589\n",
       "999  1.266281  False  2.617080          0.197940   5.052046\n",
       "\n",
       "[1000 rows x 5 columns]"
      ]
     },
     "execution_count": 6,
     "metadata": {},
     "output_type": "execute_result"
    }
   ],
   "source": [
    "cdf_0"
   ]
  },
  {
   "cell_type": "code",
   "execution_count": 7,
   "metadata": {
    "execution": {
     "iopub.execute_input": "2022-11-22T18:13:54.860784Z",
     "iopub.status.busy": "2022-11-22T18:13:54.860472Z",
     "iopub.status.idle": "2022-11-22T18:13:54.871463Z",
     "shell.execute_reply": "2022-11-22T18:13:54.870907Z"
    }
   },
   "outputs": [
    {
     "data": {
      "text/html": [
       "<div>\n",
       "<style scoped>\n",
       "    .dataframe tbody tr th:only-of-type {\n",
       "        vertical-align: middle;\n",
       "    }\n",
       "\n",
       "    .dataframe tbody tr th {\n",
       "        vertical-align: top;\n",
       "    }\n",
       "\n",
       "    .dataframe thead th {\n",
       "        text-align: right;\n",
       "    }\n",
       "</style>\n",
       "<table border=\"1\" class=\"dataframe\">\n",
       "  <thead>\n",
       "    <tr style=\"text-align: right;\">\n",
       "      <th></th>\n",
       "      <th>W0</th>\n",
       "      <th>v0</th>\n",
       "      <th>y</th>\n",
       "      <th>propensity_score</th>\n",
       "      <th>weight</th>\n",
       "    </tr>\n",
       "  </thead>\n",
       "  <tbody>\n",
       "    <tr>\n",
       "      <th>0</th>\n",
       "      <td>0.569883</td>\n",
       "      <td>True</td>\n",
       "      <td>5.904845</td>\n",
       "      <td>0.661891</td>\n",
       "      <td>1.510822</td>\n",
       "    </tr>\n",
       "    <tr>\n",
       "      <th>1</th>\n",
       "      <td>1.193764</td>\n",
       "      <td>True</td>\n",
       "      <td>8.371878</td>\n",
       "      <td>0.789758</td>\n",
       "      <td>1.266211</td>\n",
       "    </tr>\n",
       "    <tr>\n",
       "      <th>2</th>\n",
       "      <td>1.820781</td>\n",
       "      <td>True</td>\n",
       "      <td>6.861884</td>\n",
       "      <td>0.878519</td>\n",
       "      <td>1.138280</td>\n",
       "    </tr>\n",
       "    <tr>\n",
       "      <th>3</th>\n",
       "      <td>0.159546</td>\n",
       "      <td>True</td>\n",
       "      <td>6.003763</td>\n",
       "      <td>0.560472</td>\n",
       "      <td>1.784210</td>\n",
       "    </tr>\n",
       "    <tr>\n",
       "      <th>4</th>\n",
       "      <td>-0.206398</td>\n",
       "      <td>True</td>\n",
       "      <td>5.643312</td>\n",
       "      <td>0.465255</td>\n",
       "      <td>2.149358</td>\n",
       "    </tr>\n",
       "    <tr>\n",
       "      <th>...</th>\n",
       "      <td>...</td>\n",
       "      <td>...</td>\n",
       "      <td>...</td>\n",
       "      <td>...</td>\n",
       "      <td>...</td>\n",
       "    </tr>\n",
       "    <tr>\n",
       "      <th>995</th>\n",
       "      <td>0.206462</td>\n",
       "      <td>True</td>\n",
       "      <td>6.540224</td>\n",
       "      <td>0.572507</td>\n",
       "      <td>1.746703</td>\n",
       "    </tr>\n",
       "    <tr>\n",
       "      <th>996</th>\n",
       "      <td>2.392158</td>\n",
       "      <td>True</td>\n",
       "      <td>10.554120</td>\n",
       "      <td>0.929259</td>\n",
       "      <td>1.076126</td>\n",
       "    </tr>\n",
       "    <tr>\n",
       "      <th>997</th>\n",
       "      <td>1.140164</td>\n",
       "      <td>True</td>\n",
       "      <td>7.527263</td>\n",
       "      <td>0.780310</td>\n",
       "      <td>1.281542</td>\n",
       "    </tr>\n",
       "    <tr>\n",
       "      <th>998</th>\n",
       "      <td>-1.048455</td>\n",
       "      <td>True</td>\n",
       "      <td>2.421080</td>\n",
       "      <td>0.265251</td>\n",
       "      <td>3.770014</td>\n",
       "    </tr>\n",
       "    <tr>\n",
       "      <th>999</th>\n",
       "      <td>-0.627569</td>\n",
       "      <td>True</td>\n",
       "      <td>4.820650</td>\n",
       "      <td>0.359122</td>\n",
       "      <td>2.784568</td>\n",
       "    </tr>\n",
       "  </tbody>\n",
       "</table>\n",
       "<p>1000 rows × 5 columns</p>\n",
       "</div>"
      ],
      "text/plain": [
       "           W0    v0          y  propensity_score    weight\n",
       "0    0.569883  True   5.904845          0.661891  1.510822\n",
       "1    1.193764  True   8.371878          0.789758  1.266211\n",
       "2    1.820781  True   6.861884          0.878519  1.138280\n",
       "3    0.159546  True   6.003763          0.560472  1.784210\n",
       "4   -0.206398  True   5.643312          0.465255  2.149358\n",
       "..        ...   ...        ...               ...       ...\n",
       "995  0.206462  True   6.540224          0.572507  1.746703\n",
       "996  2.392158  True  10.554120          0.929259  1.076126\n",
       "997  1.140164  True   7.527263          0.780310  1.281542\n",
       "998 -1.048455  True   2.421080          0.265251  3.770014\n",
       "999 -0.627569  True   4.820650          0.359122  2.784568\n",
       "\n",
       "[1000 rows x 5 columns]"
      ]
     },
     "execution_count": 7,
     "metadata": {},
     "output_type": "execute_result"
    }
   ],
   "source": [
    "cdf_1"
   ]
  },
  {
   "cell_type": "markdown",
   "metadata": {},
   "source": [
    "## Comparing the estimate to Linear Regression\n",
    "First, estimating the effect using the causal data frame, and the 95% confidence interval."
   ]
  },
  {
   "cell_type": "code",
   "execution_count": 8,
   "metadata": {
    "execution": {
     "iopub.execute_input": "2022-11-22T18:13:54.874156Z",
     "iopub.status.busy": "2022-11-22T18:13:54.873838Z",
     "iopub.status.idle": "2022-11-22T18:13:54.932897Z",
     "shell.execute_reply": "2022-11-22T18:13:54.932316Z"
    }
   },
   "outputs": [
    {
     "data": {
      "image/png": "[encoded data removed]",
      "text/latex": [
       "$\\displaystyle 5.16528889181892$"
      ],
      "text/plain": [
       "5.165288891818924"
      ]
     },
     "execution_count": 8,
     "metadata": {},
     "output_type": "execute_result"
    }
   ],
   "source": [
    "(cdf_1['y'] - cdf_0['y']).mean()"
   ]
  },
  {
   "cell_type": "code",
   "execution_count": 9,
   "metadata": {
    "execution": {
     "iopub.execute_input": "2022-11-22T18:13:54.936441Z",
     "iopub.status.busy": "2022-11-22T18:13:54.935931Z",
     "iopub.status.idle": "2022-11-22T18:13:54.956011Z",
     "shell.execute_reply": "2022-11-22T18:13:54.955481Z"
    }
   },
   "outputs": [
    {
     "data": {
      "image/png": "[encoded data removed]",
      "text/latex": [
       "$\\displaystyle 0.179492215153051$"
      ],
      "text/plain": [
       "0.17949221515305133"
      ]
     },
     "execution_count": 9,
     "metadata": {},
     "output_type": "execute_result"
    }
   ],
   "source": [
    "1.96*(cdf_1['y'] - cdf_0['y']).std() / np.sqrt(len(df))"
   ]
  },
  {
   "cell_type": "markdown",
   "metadata": {},
   "source": [
    "Comparing to the estimate from OLS."
   ]
  },
  {
   "cell_type": "code",
   "execution_count": 10,
   "metadata": {
    "execution": {
     "iopub.execute_input": "2022-11-22T18:13:54.958932Z",
     "iopub.status.busy": "2022-11-22T18:13:54.958608Z",
     "iopub.status.idle": "2022-11-22T18:13:54.975973Z",
     "shell.execute_reply": "2022-11-22T18:13:54.975413Z"
    }
   },
   "outputs": [
    {
     "data": {
      "text/html": [
       "<table class=\"simpletable\">\n",
       "<caption>OLS Regression Results</caption>\n",
       "<tr>\n",
       "  <th>Dep. Variable:</th>            <td>y</td>        <th>  R-squared (uncentered):</th>      <td>   0.971</td> \n",
       "</tr>\n",
       "<tr>\n",
       "  <th>Model:</th>                   <td>OLS</td>       <th>  Adj. R-squared (uncentered):</th> <td>   0.970</td> \n",
       "</tr>\n",
       "<tr>\n",
       "  <th>Method:</th>             <td>Least Squares</td>  <th>  F-statistic:       </th>          <td>1.644e+04</td>\n",
       "</tr>\n",
       "<tr>\n",
       "  <th>Date:</th>             <td>Tue, 22 Nov 2022</td> <th>  Prob (F-statistic):</th>           <td>  0.00</td>  \n",
       "</tr>\n",
       "<tr>\n",
       "  <th>Time:</th>                 <td>18:13:54</td>     <th>  Log-Likelihood:    </th>          <td> -1419.4</td> \n",
       "</tr>\n",
       "<tr>\n",
       "  <th>No. Observations:</th>      <td>  1000</td>      <th>  AIC:               </th>          <td>   2843.</td> \n",
       "</tr>\n",
       "<tr>\n",
       "  <th>Df Residuals:</th>          <td>   998</td>      <th>  BIC:               </th>          <td>   2853.</td> \n",
       "</tr>\n",
       "<tr>\n",
       "  <th>Df Model:</th>              <td>     2</td>      <th>                     </th>              <td> </td>    \n",
       "</tr>\n",
       "<tr>\n",
       "  <th>Covariance Type:</th>      <td>nonrobust</td>    <th>                     </th>              <td> </td>    \n",
       "</tr>\n",
       "</table>\n",
       "<table class=\"simpletable\">\n",
       "<tr>\n",
       "   <td></td>     <th>coef</th>     <th>std err</th>      <th>t</th>      <th>P>|t|</th>  <th>[0.025</th>    <th>0.975]</th>  \n",
       "</tr>\n",
       "<tr>\n",
       "  <th>x1</th> <td>    1.8770</td> <td>    0.035</td> <td>   53.470</td> <td> 0.000</td> <td>    1.808</td> <td>    1.946</td>\n",
       "</tr>\n",
       "<tr>\n",
       "  <th>x2</th> <td>    5.0406</td> <td>    0.051</td> <td>   98.230</td> <td> 0.000</td> <td>    4.940</td> <td>    5.141</td>\n",
       "</tr>\n",
       "</table>\n",
       "<table class=\"simpletable\">\n",
       "<tr>\n",
       "  <th>Omnibus:</th>       <td> 0.137</td> <th>  Durbin-Watson:     </th> <td>   2.116</td>\n",
       "</tr>\n",
       "<tr>\n",
       "  <th>Prob(Omnibus):</th> <td> 0.934</td> <th>  Jarque-Bera (JB):  </th> <td>   0.107</td>\n",
       "</tr>\n",
       "<tr>\n",
       "  <th>Skew:</th>          <td> 0.025</td> <th>  Prob(JB):          </th> <td>   0.948</td>\n",
       "</tr>\n",
       "<tr>\n",
       "  <th>Kurtosis:</th>      <td> 3.010</td> <th>  Cond. No.          </th> <td>    2.38</td>\n",
       "</tr>\n",
       "</table><br/><br/>Notes:<br/>[1] R² is computed without centering (uncentered) since the model does not contain a constant.<br/>[2] Standard Errors assume that the covariance matrix of the errors is correctly specified."
      ],
      "text/plain": [
       "<class 'statsmodels.iolib.summary.Summary'>\n",
       "\"\"\"\n",
       "                                 OLS Regression Results                                \n",
       "=======================================================================================\n",
       "Dep. Variable:                      y   R-squared (uncentered):                   0.971\n",
       "Model:                            OLS   Adj. R-squared (uncentered):              0.970\n",
       "Method:                 Least Squares   F-statistic:                          1.644e+04\n",
       "Date:                Tue, 22 Nov 2022   Prob (F-statistic):                        0.00\n",
       "Time:                        18:13:54   Log-Likelihood:                         -1419.4\n",
       "No. Observations:                1000   AIC:                                      2843.\n",
       "Df Residuals:                     998   BIC:                                      2853.\n",
       "Df Model:                           2                                                  \n",
       "Covariance Type:            nonrobust                                                  \n",
       "==============================================================================\n",
       "                 coef    std err          t      P>|t|      [0.025      0.975]\n",
       "------------------------------------------------------------------------------\n",
       "x1             1.8770      0.035     53.470      0.000       1.808       1.946\n",
       "x2             5.0406      0.051     98.230      0.000       4.940       5.141\n",
       "==============================================================================\n",
       "Omnibus:                        0.137   Durbin-Watson:                   2.116\n",
       "Prob(Omnibus):                  0.934   Jarque-Bera (JB):                0.107\n",
       "Skew:                           0.025   Prob(JB):                        0.948\n",
       "Kurtosis:                       3.010   Cond. No.                         2.38\n",
       "==============================================================================\n",
       "\n",
       "Notes:\n",
       "[1] R² is computed without centering (uncentered) since the model does not contain a constant.\n",
       "[2] Standard Errors assume that the covariance matrix of the errors is correctly specified.\n",
       "\"\"\""
      ]
     },
     "execution_count": 10,
     "metadata": {},
     "output_type": "execute_result"
    }
   ],
   "source": [
    "model = OLS(np.asarray(df[outcome]), np.asarray(df[[common_cause, treatment]], dtype=np.float64))\n",
    "result = model.fit()\n",
    "result.summary()"
   ]
  }
 ],
 "metadata": {
  "kernelspec": {
   "display_name": "Python 3",
   "language": "python",
   "name": "python3"
  },
  "language_info": {
   "codemirror_mode": {
    "name": "ipython",
    "version": 3
   },
   "file_extension": ".py",
   "mimetype": "text/x-python",
   "name": "python",
   "nbconvert_exporter": "python",
   "pygments_lexer": "ipython3",
   "version": "3.8.10"
  },
  "toc": {
   "base_numbering": 1,
   "nav_menu": {},
   "number_sections": false,
   "sideBar": true,
   "skip_h1_title": true,
   "title_cell": "Table of Contents",
   "title_sidebar": "Contents",
   "toc_cell": false,
   "toc_position": {},
   "toc_section_display": true,
   "toc_window_display": false
  }
 },
 "nbformat": 4,
 "nbformat_minor": 4
}
