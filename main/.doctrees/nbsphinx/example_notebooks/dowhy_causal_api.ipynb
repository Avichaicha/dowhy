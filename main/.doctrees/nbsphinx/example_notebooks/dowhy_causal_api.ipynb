{
 "cells": [
  {
   "cell_type": "markdown",
   "metadata": {},
   "source": [
    "# Demo for the DoWhy causal API\n",
    "We show a simple example of adding a causal extension to any dataframe. "
   ]
  },
  {
   "cell_type": "code",
   "execution_count": 1,
   "metadata": {
    "execution": {
     "iopub.execute_input": "2022-11-17T14:50:32.126883Z",
     "iopub.status.busy": "2022-11-17T14:50:32.126474Z",
     "iopub.status.idle": "2022-11-17T14:50:33.932981Z",
     "shell.execute_reply": "2022-11-17T14:50:33.932343Z"
    }
   },
   "outputs": [],
   "source": [
    "import dowhy.datasets\n",
    "import dowhy.api\n",
    "\n",
    "import numpy as np\n",
    "import pandas as pd\n",
    "\n",
    "from statsmodels.api import OLS"
   ]
  },
  {
   "cell_type": "code",
   "execution_count": 2,
   "metadata": {
    "execution": {
     "iopub.execute_input": "2022-11-17T14:50:33.936636Z",
     "iopub.status.busy": "2022-11-17T14:50:33.935827Z",
     "iopub.status.idle": "2022-11-17T14:50:33.974295Z",
     "shell.execute_reply": "2022-11-17T14:50:33.973664Z"
    }
   },
   "outputs": [
    {
     "data": {
      "text/html": [
       "<div>\n",
       "<style scoped>\n",
       "    .dataframe tbody tr th:only-of-type {\n",
       "        vertical-align: middle;\n",
       "    }\n",
       "\n",
       "    .dataframe tbody tr th {\n",
       "        vertical-align: top;\n",
       "    }\n",
       "\n",
       "    .dataframe thead th {\n",
       "        text-align: right;\n",
       "    }\n",
       "</style>\n",
       "<table border=\"1\" class=\"dataframe\">\n",
       "  <thead>\n",
       "    <tr style=\"text-align: right;\">\n",
       "      <th></th>\n",
       "      <th>W0</th>\n",
       "      <th>v0</th>\n",
       "      <th>y</th>\n",
       "    </tr>\n",
       "  </thead>\n",
       "  <tbody>\n",
       "    <tr>\n",
       "      <th>0</th>\n",
       "      <td>0.912658</td>\n",
       "      <td>True</td>\n",
       "      <td>5.694408</td>\n",
       "    </tr>\n",
       "    <tr>\n",
       "      <th>1</th>\n",
       "      <td>-0.900614</td>\n",
       "      <td>False</td>\n",
       "      <td>-0.591545</td>\n",
       "    </tr>\n",
       "    <tr>\n",
       "      <th>2</th>\n",
       "      <td>-0.043553</td>\n",
       "      <td>True</td>\n",
       "      <td>4.233569</td>\n",
       "    </tr>\n",
       "    <tr>\n",
       "      <th>3</th>\n",
       "      <td>-1.796172</td>\n",
       "      <td>False</td>\n",
       "      <td>-2.731980</td>\n",
       "    </tr>\n",
       "    <tr>\n",
       "      <th>4</th>\n",
       "      <td>-0.297849</td>\n",
       "      <td>False</td>\n",
       "      <td>-0.099592</td>\n",
       "    </tr>\n",
       "    <tr>\n",
       "      <th>...</th>\n",
       "      <td>...</td>\n",
       "      <td>...</td>\n",
       "      <td>...</td>\n",
       "    </tr>\n",
       "    <tr>\n",
       "      <th>995</th>\n",
       "      <td>-0.638019</td>\n",
       "      <td>False</td>\n",
       "      <td>0.559221</td>\n",
       "    </tr>\n",
       "    <tr>\n",
       "      <th>996</th>\n",
       "      <td>0.402586</td>\n",
       "      <td>True</td>\n",
       "      <td>4.448794</td>\n",
       "    </tr>\n",
       "    <tr>\n",
       "      <th>997</th>\n",
       "      <td>0.026179</td>\n",
       "      <td>False</td>\n",
       "      <td>0.361961</td>\n",
       "    </tr>\n",
       "    <tr>\n",
       "      <th>998</th>\n",
       "      <td>-2.104674</td>\n",
       "      <td>False</td>\n",
       "      <td>0.530919</td>\n",
       "    </tr>\n",
       "    <tr>\n",
       "      <th>999</th>\n",
       "      <td>0.062864</td>\n",
       "      <td>False</td>\n",
       "      <td>1.737613</td>\n",
       "    </tr>\n",
       "  </tbody>\n",
       "</table>\n",
       "<p>1000 rows × 3 columns</p>\n",
       "</div>"
      ],
      "text/plain": [
       "           W0     v0         y\n",
       "0    0.912658   True  5.694408\n",
       "1   -0.900614  False -0.591545\n",
       "2   -0.043553   True  4.233569\n",
       "3   -1.796172  False -2.731980\n",
       "4   -0.297849  False -0.099592\n",
       "..        ...    ...       ...\n",
       "995 -0.638019  False  0.559221\n",
       "996  0.402586   True  4.448794\n",
       "997  0.026179  False  0.361961\n",
       "998 -2.104674  False  0.530919\n",
       "999  0.062864  False  1.737613\n",
       "\n",
       "[1000 rows x 3 columns]"
      ]
     },
     "execution_count": 2,
     "metadata": {},
     "output_type": "execute_result"
    }
   ],
   "source": [
    "data = dowhy.datasets.linear_dataset(beta=5,\n",
    "        num_common_causes=1,\n",
    "        num_instruments = 0,\n",
    "        num_samples=1000,\n",
    "        treatment_is_binary=True)\n",
    "df = data['df']\n",
    "df['y'] = df['y'] + np.random.normal(size=len(df)) # Adding noise to data. Without noise, the variance in Y|X, Z is zero, and mcmc fails.\n",
    "#data['dot_graph'] = 'digraph { v ->y;X0-> v;X0-> y;}'\n",
    "\n",
    "treatment= data[\"treatment_name\"][0]\n",
    "outcome = data[\"outcome_name\"][0]\n",
    "common_cause = data[\"common_causes_names\"][0]\n",
    "df"
   ]
  },
  {
   "cell_type": "code",
   "execution_count": 3,
   "metadata": {
    "execution": {
     "iopub.execute_input": "2022-11-17T14:50:33.977700Z",
     "iopub.status.busy": "2022-11-17T14:50:33.977271Z",
     "iopub.status.idle": "2022-11-17T14:50:34.120707Z",
     "shell.execute_reply": "2022-11-17T14:50:34.120087Z"
    }
   },
   "outputs": [
    {
     "data": {
      "text/plain": [
       "<AxesSubplot: xlabel='v0'>"
      ]
     },
     "execution_count": 3,
     "metadata": {},
     "output_type": "execute_result"
    },
    {
     "data": {
      "image/png": "[encoded data removed]",
      "text/plain": [
       "<Figure size 640x480 with 1 Axes>"
      ]
     },
     "metadata": {},
     "output_type": "display_data"
    }
   ],
   "source": [
    "# data['df'] is just a regular pandas.DataFrame\n",
    "df.causal.do(x=treatment,\n",
    "                     variable_types={treatment: 'b', outcome: 'c', common_cause: 'c'},\n",
    "                     outcome=outcome,\n",
    "                     common_causes=[common_cause],\n",
    "                     proceed_when_unidentifiable=True).groupby(treatment).mean().plot(y=outcome, kind='bar')"
   ]
  },
  {
   "cell_type": "code",
   "execution_count": 4,
   "metadata": {
    "execution": {
     "iopub.execute_input": "2022-11-17T14:50:34.124211Z",
     "iopub.status.busy": "2022-11-17T14:50:34.123667Z",
     "iopub.status.idle": "2022-11-17T14:50:34.235231Z",
     "shell.execute_reply": "2022-11-17T14:50:34.234690Z"
    }
   },
   "outputs": [
    {
     "data": {
      "text/plain": [
       "<AxesSubplot: xlabel='v0'>"
      ]
     },
     "execution_count": 4,
     "metadata": {},
     "output_type": "execute_result"
    },
    {
     "data": {
      "image/png": "[encoded data removed]",
      "text/plain": [
       "<Figure size 640x480 with 1 Axes>"
      ]
     },
     "metadata": {},
     "output_type": "display_data"
    }
   ],
   "source": [
    "df.causal.do(x={treatment: 1}, \n",
    "              variable_types={treatment:'b', outcome: 'c', common_cause: 'c'}, \n",
    "              outcome=outcome,\n",
    "              method='weighting', \n",
    "              common_causes=[common_cause],\n",
    "              proceed_when_unidentifiable=True).groupby(treatment).mean().plot(y=outcome, kind='bar')"
   ]
  },
  {
   "cell_type": "code",
   "execution_count": 5,
   "metadata": {
    "execution": {
     "iopub.execute_input": "2022-11-17T14:50:34.238408Z",
     "iopub.status.busy": "2022-11-17T14:50:34.238047Z",
     "iopub.status.idle": "2022-11-17T14:50:34.267779Z",
     "shell.execute_reply": "2022-11-17T14:50:34.267173Z"
    }
   },
   "outputs": [],
   "source": [
    "cdf_1 = df.causal.do(x={treatment: 1}, \n",
    "              variable_types={treatment: 'b', outcome: 'c', common_cause: 'c'}, \n",
    "              outcome=outcome, \n",
    "              dot_graph=data['dot_graph'],\n",
    "              proceed_when_unidentifiable=True)\n",
    "\n",
    "cdf_0 = df.causal.do(x={treatment: 0}, \n",
    "              variable_types={treatment: 'b', outcome: 'c', common_cause: 'c'}, \n",
    "              outcome=outcome, \n",
    "              dot_graph=data['dot_graph'],\n",
    "              proceed_when_unidentifiable=True)\n"
   ]
  },
  {
   "cell_type": "code",
   "execution_count": 6,
   "metadata": {
    "execution": {
     "iopub.execute_input": "2022-11-17T14:50:34.270805Z",
     "iopub.status.busy": "2022-11-17T14:50:34.270285Z",
     "iopub.status.idle": "2022-11-17T14:50:34.280640Z",
     "shell.execute_reply": "2022-11-17T14:50:34.280064Z"
    },
    "scrolled": true
   },
   "outputs": [
    {
     "data": {
      "text/html": [
       "<div>\n",
       "<style scoped>\n",
       "    .dataframe tbody tr th:only-of-type {\n",
       "        vertical-align: middle;\n",
       "    }\n",
       "\n",
       "    .dataframe tbody tr th {\n",
       "        vertical-align: top;\n",
       "    }\n",
       "\n",
       "    .dataframe thead th {\n",
       "        text-align: right;\n",
       "    }\n",
       "</style>\n",
       "<table border=\"1\" class=\"dataframe\">\n",
       "  <thead>\n",
       "    <tr style=\"text-align: right;\">\n",
       "      <th></th>\n",
       "      <th>W0</th>\n",
       "      <th>v0</th>\n",
       "      <th>y</th>\n",
       "      <th>propensity_score</th>\n",
       "      <th>weight</th>\n",
       "    </tr>\n",
       "  </thead>\n",
       "  <tbody>\n",
       "    <tr>\n",
       "      <th>0</th>\n",
       "      <td>0.716986</td>\n",
       "      <td>False</td>\n",
       "      <td>0.853353</td>\n",
       "      <td>0.253359</td>\n",
       "      <td>3.946961</td>\n",
       "    </tr>\n",
       "    <tr>\n",
       "      <th>1</th>\n",
       "      <td>0.878501</td>\n",
       "      <td>False</td>\n",
       "      <td>1.005602</td>\n",
       "      <td>0.210469</td>\n",
       "      <td>4.751294</td>\n",
       "    </tr>\n",
       "    <tr>\n",
       "      <th>2</th>\n",
       "      <td>-0.557164</td>\n",
       "      <td>False</td>\n",
       "      <td>-0.901853</td>\n",
       "      <td>0.694870</td>\n",
       "      <td>1.439119</td>\n",
       "    </tr>\n",
       "    <tr>\n",
       "      <th>3</th>\n",
       "      <td>-0.220875</td>\n",
       "      <td>False</td>\n",
       "      <td>-0.930800</td>\n",
       "      <td>0.579451</td>\n",
       "      <td>1.725770</td>\n",
       "    </tr>\n",
       "    <tr>\n",
       "      <th>4</th>\n",
       "      <td>-1.252532</td>\n",
       "      <td>False</td>\n",
       "      <td>-1.471816</td>\n",
       "      <td>0.865526</td>\n",
       "      <td>1.155367</td>\n",
       "    </tr>\n",
       "    <tr>\n",
       "      <th>...</th>\n",
       "      <td>...</td>\n",
       "      <td>...</td>\n",
       "      <td>...</td>\n",
       "      <td>...</td>\n",
       "      <td>...</td>\n",
       "    </tr>\n",
       "    <tr>\n",
       "      <th>995</th>\n",
       "      <td>0.662193</td>\n",
       "      <td>False</td>\n",
       "      <td>-0.147111</td>\n",
       "      <td>0.269157</td>\n",
       "      <td>3.715310</td>\n",
       "    </tr>\n",
       "    <tr>\n",
       "      <th>996</th>\n",
       "      <td>-0.001361</td>\n",
       "      <td>False</td>\n",
       "      <td>2.042363</td>\n",
       "      <td>0.498134</td>\n",
       "      <td>2.007491</td>\n",
       "    </tr>\n",
       "    <tr>\n",
       "      <th>997</th>\n",
       "      <td>-1.478533</td>\n",
       "      <td>False</td>\n",
       "      <td>1.260399</td>\n",
       "      <td>0.900217</td>\n",
       "      <td>1.110843</td>\n",
       "    </tr>\n",
       "    <tr>\n",
       "      <th>998</th>\n",
       "      <td>-0.042659</td>\n",
       "      <td>False</td>\n",
       "      <td>-0.211783</td>\n",
       "      <td>0.513557</td>\n",
       "      <td>1.947203</td>\n",
       "    </tr>\n",
       "    <tr>\n",
       "      <th>999</th>\n",
       "      <td>-0.259438</td>\n",
       "      <td>False</td>\n",
       "      <td>1.331022</td>\n",
       "      <td>0.593425</td>\n",
       "      <td>1.685133</td>\n",
       "    </tr>\n",
       "  </tbody>\n",
       "</table>\n",
       "<p>1000 rows × 5 columns</p>\n",
       "</div>"
      ],
      "text/plain": [
       "           W0     v0         y  propensity_score    weight\n",
       "0    0.716986  False  0.853353          0.253359  3.946961\n",
       "1    0.878501  False  1.005602          0.210469  4.751294\n",
       "2   -0.557164  False -0.901853          0.694870  1.439119\n",
       "3   -0.220875  False -0.930800          0.579451  1.725770\n",
       "4   -1.252532  False -1.471816          0.865526  1.155367\n",
       "..        ...    ...       ...               ...       ...\n",
       "995  0.662193  False -0.147111          0.269157  3.715310\n",
       "996 -0.001361  False  2.042363          0.498134  2.007491\n",
       "997 -1.478533  False  1.260399          0.900217  1.110843\n",
       "998 -0.042659  False -0.211783          0.513557  1.947203\n",
       "999 -0.259438  False  1.331022          0.593425  1.685133\n",
       "\n",
       "[1000 rows x 5 columns]"
      ]
     },
     "execution_count": 6,
     "metadata": {},
     "output_type": "execute_result"
    }
   ],
   "source": [
    "cdf_0"
   ]
  },
  {
   "cell_type": "code",
   "execution_count": 7,
   "metadata": {
    "execution": {
     "iopub.execute_input": "2022-11-17T14:50:34.283468Z",
     "iopub.status.busy": "2022-11-17T14:50:34.282962Z",
     "iopub.status.idle": "2022-11-17T14:50:34.292688Z",
     "shell.execute_reply": "2022-11-17T14:50:34.292117Z"
    }
   },
   "outputs": [
    {
     "data": {
      "text/html": [
       "<div>\n",
       "<style scoped>\n",
       "    .dataframe tbody tr th:only-of-type {\n",
       "        vertical-align: middle;\n",
       "    }\n",
       "\n",
       "    .dataframe tbody tr th {\n",
       "        vertical-align: top;\n",
       "    }\n",
       "\n",
       "    .dataframe thead th {\n",
       "        text-align: right;\n",
       "    }\n",
       "</style>\n",
       "<table border=\"1\" class=\"dataframe\">\n",
       "  <thead>\n",
       "    <tr style=\"text-align: right;\">\n",
       "      <th></th>\n",
       "      <th>W0</th>\n",
       "      <th>v0</th>\n",
       "      <th>y</th>\n",
       "      <th>propensity_score</th>\n",
       "      <th>weight</th>\n",
       "    </tr>\n",
       "  </thead>\n",
       "  <tbody>\n",
       "    <tr>\n",
       "      <th>0</th>\n",
       "      <td>-0.259315</td>\n",
       "      <td>True</td>\n",
       "      <td>4.113292</td>\n",
       "      <td>0.406620</td>\n",
       "      <td>2.459300</td>\n",
       "    </tr>\n",
       "    <tr>\n",
       "      <th>1</th>\n",
       "      <td>0.391235</td>\n",
       "      <td>True</td>\n",
       "      <td>3.979037</td>\n",
       "      <td>0.644296</td>\n",
       "      <td>1.552083</td>\n",
       "    </tr>\n",
       "    <tr>\n",
       "      <th>2</th>\n",
       "      <td>-0.833256</td>\n",
       "      <td>True</td>\n",
       "      <td>4.429824</td>\n",
       "      <td>0.225219</td>\n",
       "      <td>4.440122</td>\n",
       "    </tr>\n",
       "    <tr>\n",
       "      <th>3</th>\n",
       "      <td>0.183443</td>\n",
       "      <td>True</td>\n",
       "      <td>7.342513</td>\n",
       "      <td>0.570425</td>\n",
       "      <td>1.753078</td>\n",
       "    </tr>\n",
       "    <tr>\n",
       "      <th>4</th>\n",
       "      <td>-0.976911</td>\n",
       "      <td>True</td>\n",
       "      <td>4.899268</td>\n",
       "      <td>0.189979</td>\n",
       "      <td>5.263740</td>\n",
       "    </tr>\n",
       "    <tr>\n",
       "      <th>...</th>\n",
       "      <td>...</td>\n",
       "      <td>...</td>\n",
       "      <td>...</td>\n",
       "      <td>...</td>\n",
       "      <td>...</td>\n",
       "    </tr>\n",
       "    <tr>\n",
       "      <th>995</th>\n",
       "      <td>-1.215434</td>\n",
       "      <td>True</td>\n",
       "      <td>3.481696</td>\n",
       "      <td>0.141058</td>\n",
       "      <td>7.089307</td>\n",
       "    </tr>\n",
       "    <tr>\n",
       "      <th>996</th>\n",
       "      <td>0.275913</td>\n",
       "      <td>True</td>\n",
       "      <td>5.332709</td>\n",
       "      <td>0.603902</td>\n",
       "      <td>1.655898</td>\n",
       "    </tr>\n",
       "    <tr>\n",
       "      <th>997</th>\n",
       "      <td>-0.543243</td>\n",
       "      <td>True</td>\n",
       "      <td>3.421775</td>\n",
       "      <td>0.309558</td>\n",
       "      <td>3.230410</td>\n",
       "    </tr>\n",
       "    <tr>\n",
       "      <th>998</th>\n",
       "      <td>-0.654070</td>\n",
       "      <td>True</td>\n",
       "      <td>5.237350</td>\n",
       "      <td>0.275324</td>\n",
       "      <td>3.632085</td>\n",
       "    </tr>\n",
       "    <tr>\n",
       "      <th>999</th>\n",
       "      <td>-1.446972</td>\n",
       "      <td>True</td>\n",
       "      <td>2.698129</td>\n",
       "      <td>0.104099</td>\n",
       "      <td>9.606218</td>\n",
       "    </tr>\n",
       "  </tbody>\n",
       "</table>\n",
       "<p>1000 rows × 5 columns</p>\n",
       "</div>"
      ],
      "text/plain": [
       "           W0    v0         y  propensity_score    weight\n",
       "0   -0.259315  True  4.113292          0.406620  2.459300\n",
       "1    0.391235  True  3.979037          0.644296  1.552083\n",
       "2   -0.833256  True  4.429824          0.225219  4.440122\n",
       "3    0.183443  True  7.342513          0.570425  1.753078\n",
       "4   -0.976911  True  4.899268          0.189979  5.263740\n",
       "..        ...   ...       ...               ...       ...\n",
       "995 -1.215434  True  3.481696          0.141058  7.089307\n",
       "996  0.275913  True  5.332709          0.603902  1.655898\n",
       "997 -0.543243  True  3.421775          0.309558  3.230410\n",
       "998 -0.654070  True  5.237350          0.275324  3.632085\n",
       "999 -1.446972  True  2.698129          0.104099  9.606218\n",
       "\n",
       "[1000 rows x 5 columns]"
      ]
     },
     "execution_count": 7,
     "metadata": {},
     "output_type": "execute_result"
    }
   ],
   "source": [
    "cdf_1"
   ]
  },
  {
   "cell_type": "markdown",
   "metadata": {},
   "source": [
    "## Comparing the estimate to Linear Regression\n",
    "First, estimating the effect using the causal data frame, and the 95% confidence interval."
   ]
  },
  {
   "cell_type": "code",
   "execution_count": 8,
   "metadata": {
    "execution": {
     "iopub.execute_input": "2022-11-17T14:50:34.296003Z",
     "iopub.status.busy": "2022-11-17T14:50:34.295674Z",
     "iopub.status.idle": "2022-11-17T14:50:34.354018Z",
     "shell.execute_reply": "2022-11-17T14:50:34.353416Z"
    }
   },
   "outputs": [
    {
     "data": {
      "image/png": "[encoded data removed]",
      "text/latex": [
       "$\\displaystyle 5.11329451346813$"
      ],
      "text/plain": [
       "5.113294513468132"
      ]
     },
     "execution_count": 8,
     "metadata": {},
     "output_type": "execute_result"
    }
   ],
   "source": [
    "(cdf_1['y'] - cdf_0['y']).mean()"
   ]
  },
  {
   "cell_type": "code",
   "execution_count": 9,
   "metadata": {
    "execution": {
     "iopub.execute_input": "2022-11-17T14:50:34.356855Z",
     "iopub.status.busy": "2022-11-17T14:50:34.356516Z",
     "iopub.status.idle": "2022-11-17T14:50:34.376844Z",
     "shell.execute_reply": "2022-11-17T14:50:34.376230Z"
    }
   },
   "outputs": [
    {
     "data": {
      "image/png": "[encoded data removed]",
      "text/latex": [
       "$\\displaystyle 0.0897958427063373$"
      ],
      "text/plain": [
       "0.08979584270633728"
      ]
     },
     "execution_count": 9,
     "metadata": {},
     "output_type": "execute_result"
    }
   ],
   "source": [
    "1.96*(cdf_1['y'] - cdf_0['y']).std() / np.sqrt(len(df))"
   ]
  },
  {
   "cell_type": "markdown",
   "metadata": {},
   "source": [
    "Comparing to the estimate from OLS."
   ]
  },
  {
   "cell_type": "code",
   "execution_count": 10,
   "metadata": {
    "execution": {
     "iopub.execute_input": "2022-11-17T14:50:34.380196Z",
     "iopub.status.busy": "2022-11-17T14:50:34.379786Z",
     "iopub.status.idle": "2022-11-17T14:50:34.394718Z",
     "shell.execute_reply": "2022-11-17T14:50:34.394142Z"
    }
   },
   "outputs": [
    {
     "data": {
      "text/html": [
       "<table class=\"simpletable\">\n",
       "<caption>OLS Regression Results</caption>\n",
       "<tr>\n",
       "  <th>Dep. Variable:</th>            <td>y</td>        <th>  R-squared (uncentered):</th>      <td>   0.912</td>\n",
       "</tr>\n",
       "<tr>\n",
       "  <th>Model:</th>                   <td>OLS</td>       <th>  Adj. R-squared (uncentered):</th> <td>   0.912</td>\n",
       "</tr>\n",
       "<tr>\n",
       "  <th>Method:</th>             <td>Least Squares</td>  <th>  F-statistic:       </th>          <td>   5169.</td>\n",
       "</tr>\n",
       "<tr>\n",
       "  <th>Date:</th>             <td>Thu, 17 Nov 2022</td> <th>  Prob (F-statistic):</th>           <td>  0.00</td> \n",
       "</tr>\n",
       "<tr>\n",
       "  <th>Time:</th>                 <td>14:50:34</td>     <th>  Log-Likelihood:    </th>          <td> -1404.2</td>\n",
       "</tr>\n",
       "<tr>\n",
       "  <th>No. Observations:</th>      <td>  1000</td>      <th>  AIC:               </th>          <td>   2812.</td>\n",
       "</tr>\n",
       "<tr>\n",
       "  <th>Df Residuals:</th>          <td>   998</td>      <th>  BIC:               </th>          <td>   2822.</td>\n",
       "</tr>\n",
       "<tr>\n",
       "  <th>Df Model:</th>              <td>     2</td>      <th>                     </th>              <td> </td>   \n",
       "</tr>\n",
       "<tr>\n",
       "  <th>Covariance Type:</th>      <td>nonrobust</td>    <th>                     </th>              <td> </td>   \n",
       "</tr>\n",
       "</table>\n",
       "<table class=\"simpletable\">\n",
       "<tr>\n",
       "   <td></td>     <th>coef</th>     <th>std err</th>      <th>t</th>      <th>P>|t|</th>  <th>[0.025</th>    <th>0.975]</th>  \n",
       "</tr>\n",
       "<tr>\n",
       "  <th>x1</th> <td>    0.2408</td> <td>    0.030</td> <td>    8.088</td> <td> 0.000</td> <td>    0.182</td> <td>    0.299</td>\n",
       "</tr>\n",
       "<tr>\n",
       "  <th>x2</th> <td>    4.9804</td> <td>    0.050</td> <td>   99.264</td> <td> 0.000</td> <td>    4.882</td> <td>    5.079</td>\n",
       "</tr>\n",
       "</table>\n",
       "<table class=\"simpletable\">\n",
       "<tr>\n",
       "  <th>Omnibus:</th>       <td> 0.643</td> <th>  Durbin-Watson:     </th> <td>   2.065</td>\n",
       "</tr>\n",
       "<tr>\n",
       "  <th>Prob(Omnibus):</th> <td> 0.725</td> <th>  Jarque-Bera (JB):  </th> <td>   0.719</td>\n",
       "</tr>\n",
       "<tr>\n",
       "  <th>Skew:</th>          <td> 0.005</td> <th>  Prob(JB):          </th> <td>   0.698</td>\n",
       "</tr>\n",
       "<tr>\n",
       "  <th>Kurtosis:</th>      <td> 2.869</td> <th>  Cond. No.          </th> <td>    1.72</td>\n",
       "</tr>\n",
       "</table><br/><br/>Notes:<br/>[1] R² is computed without centering (uncentered) since the model does not contain a constant.<br/>[2] Standard Errors assume that the covariance matrix of the errors is correctly specified."
      ],
      "text/plain": [
       "<class 'statsmodels.iolib.summary.Summary'>\n",
       "\"\"\"\n",
       "                                 OLS Regression Results                                \n",
       "=======================================================================================\n",
       "Dep. Variable:                      y   R-squared (uncentered):                   0.912\n",
       "Model:                            OLS   Adj. R-squared (uncentered):              0.912\n",
       "Method:                 Least Squares   F-statistic:                              5169.\n",
       "Date:                Thu, 17 Nov 2022   Prob (F-statistic):                        0.00\n",
       "Time:                        14:50:34   Log-Likelihood:                         -1404.2\n",
       "No. Observations:                1000   AIC:                                      2812.\n",
       "Df Residuals:                     998   BIC:                                      2822.\n",
       "Df Model:                           2                                                  \n",
       "Covariance Type:            nonrobust                                                  \n",
       "==============================================================================\n",
       "                 coef    std err          t      P>|t|      [0.025      0.975]\n",
       "------------------------------------------------------------------------------\n",
       "x1             0.2408      0.030      8.088      0.000       0.182       0.299\n",
       "x2             4.9804      0.050     99.264      0.000       4.882       5.079\n",
       "==============================================================================\n",
       "Omnibus:                        0.643   Durbin-Watson:                   2.065\n",
       "Prob(Omnibus):                  0.725   Jarque-Bera (JB):                0.719\n",
       "Skew:                           0.005   Prob(JB):                        0.698\n",
       "Kurtosis:                       2.869   Cond. No.                         1.72\n",
       "==============================================================================\n",
       "\n",
       "Notes:\n",
       "[1] R² is computed without centering (uncentered) since the model does not contain a constant.\n",
       "[2] Standard Errors assume that the covariance matrix of the errors is correctly specified.\n",
       "\"\"\""
      ]
     },
     "execution_count": 10,
     "metadata": {},
     "output_type": "execute_result"
    }
   ],
   "source": [
    "model = OLS(np.asarray(df[outcome]), np.asarray(df[[common_cause, treatment]], dtype=np.float64))\n",
    "result = model.fit()\n",
    "result.summary()"
   ]
  }
 ],
 "metadata": {
  "kernelspec": {
   "display_name": "Python 3",
   "language": "python",
   "name": "python3"
  },
  "language_info": {
   "codemirror_mode": {
    "name": "ipython",
    "version": 3
   },
   "file_extension": ".py",
   "mimetype": "text/x-python",
   "name": "python",
   "nbconvert_exporter": "python",
   "pygments_lexer": "ipython3",
   "version": "3.8.10"
  },
  "toc": {
   "base_numbering": 1,
   "nav_menu": {},
   "number_sections": false,
   "sideBar": true,
   "skip_h1_title": true,
   "title_cell": "Table of Contents",
   "title_sidebar": "Contents",
   "toc_cell": false,
   "toc_position": {},
   "toc_section_display": true,
   "toc_window_display": false
  }
 },
 "nbformat": 4,
 "nbformat_minor": 4
}
