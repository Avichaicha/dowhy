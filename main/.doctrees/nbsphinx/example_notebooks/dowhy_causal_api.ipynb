{
 "cells": [
  {
   "cell_type": "markdown",
   "metadata": {},
   "source": [
    "# Demo for the DoWhy causal API\n",
    "We show a simple example of adding a causal extension to any dataframe. "
   ]
  },
  {
   "cell_type": "code",
   "execution_count": 1,
   "metadata": {
    "execution": {
     "iopub.execute_input": "2022-08-22T07:48:57.851088Z",
     "iopub.status.busy": "2022-08-22T07:48:57.850687Z",
     "iopub.status.idle": "2022-08-22T07:48:59.241110Z",
     "shell.execute_reply": "2022-08-22T07:48:59.240062Z"
    }
   },
   "outputs": [],
   "source": [
    "import dowhy.datasets\n",
    "import dowhy.api\n",
    "\n",
    "import numpy as np\n",
    "import pandas as pd\n",
    "\n",
    "from statsmodels.api import OLS"
   ]
  },
  {
   "cell_type": "code",
   "execution_count": 2,
   "metadata": {
    "execution": {
     "iopub.execute_input": "2022-08-22T07:48:59.245567Z",
     "iopub.status.busy": "2022-08-22T07:48:59.245164Z",
     "iopub.status.idle": "2022-08-22T07:48:59.308768Z",
     "shell.execute_reply": "2022-08-22T07:48:59.307813Z"
    }
   },
   "outputs": [
    {
     "data": {
      "text/html": [
       "<div>\n",
       "<style scoped>\n",
       "    .dataframe tbody tr th:only-of-type {\n",
       "        vertical-align: middle;\n",
       "    }\n",
       "\n",
       "    .dataframe tbody tr th {\n",
       "        vertical-align: top;\n",
       "    }\n",
       "\n",
       "    .dataframe thead th {\n",
       "        text-align: right;\n",
       "    }\n",
       "</style>\n",
       "<table border=\"1\" class=\"dataframe\">\n",
       "  <thead>\n",
       "    <tr style=\"text-align: right;\">\n",
       "      <th></th>\n",
       "      <th>W0</th>\n",
       "      <th>v0</th>\n",
       "      <th>y</th>\n",
       "    </tr>\n",
       "  </thead>\n",
       "  <tbody>\n",
       "    <tr>\n",
       "      <th>0</th>\n",
       "      <td>0.766383</td>\n",
       "      <td>True</td>\n",
       "      <td>6.571865</td>\n",
       "    </tr>\n",
       "    <tr>\n",
       "      <th>1</th>\n",
       "      <td>1.611373</td>\n",
       "      <td>True</td>\n",
       "      <td>5.208257</td>\n",
       "    </tr>\n",
       "    <tr>\n",
       "      <th>2</th>\n",
       "      <td>0.204382</td>\n",
       "      <td>True</td>\n",
       "      <td>5.306437</td>\n",
       "    </tr>\n",
       "    <tr>\n",
       "      <th>3</th>\n",
       "      <td>0.167124</td>\n",
       "      <td>True</td>\n",
       "      <td>6.230993</td>\n",
       "    </tr>\n",
       "    <tr>\n",
       "      <th>4</th>\n",
       "      <td>1.444499</td>\n",
       "      <td>True</td>\n",
       "      <td>7.289832</td>\n",
       "    </tr>\n",
       "    <tr>\n",
       "      <th>...</th>\n",
       "      <td>...</td>\n",
       "      <td>...</td>\n",
       "      <td>...</td>\n",
       "    </tr>\n",
       "    <tr>\n",
       "      <th>995</th>\n",
       "      <td>1.008487</td>\n",
       "      <td>True</td>\n",
       "      <td>6.014519</td>\n",
       "    </tr>\n",
       "    <tr>\n",
       "      <th>996</th>\n",
       "      <td>-1.625459</td>\n",
       "      <td>False</td>\n",
       "      <td>-0.424256</td>\n",
       "    </tr>\n",
       "    <tr>\n",
       "      <th>997</th>\n",
       "      <td>0.537989</td>\n",
       "      <td>True</td>\n",
       "      <td>6.026046</td>\n",
       "    </tr>\n",
       "    <tr>\n",
       "      <th>998</th>\n",
       "      <td>0.373068</td>\n",
       "      <td>True</td>\n",
       "      <td>3.962064</td>\n",
       "    </tr>\n",
       "    <tr>\n",
       "      <th>999</th>\n",
       "      <td>0.353759</td>\n",
       "      <td>False</td>\n",
       "      <td>-0.358043</td>\n",
       "    </tr>\n",
       "  </tbody>\n",
       "</table>\n",
       "<p>1000 rows × 3 columns</p>\n",
       "</div>"
      ],
      "text/plain": [
       "           W0     v0         y\n",
       "0    0.766383   True  6.571865\n",
       "1    1.611373   True  5.208257\n",
       "2    0.204382   True  5.306437\n",
       "3    0.167124   True  6.230993\n",
       "4    1.444499   True  7.289832\n",
       "..        ...    ...       ...\n",
       "995  1.008487   True  6.014519\n",
       "996 -1.625459  False -0.424256\n",
       "997  0.537989   True  6.026046\n",
       "998  0.373068   True  3.962064\n",
       "999  0.353759  False -0.358043\n",
       "\n",
       "[1000 rows x 3 columns]"
      ]
     },
     "execution_count": 2,
     "metadata": {},
     "output_type": "execute_result"
    }
   ],
   "source": [
    "data = dowhy.datasets.linear_dataset(beta=5,\n",
    "        num_common_causes=1,\n",
    "        num_instruments = 0,\n",
    "        num_samples=1000,\n",
    "        treatment_is_binary=True)\n",
    "df = data['df']\n",
    "df['y'] = df['y'] + np.random.normal(size=len(df)) # Adding noise to data. Without noise, the variance in Y|X, Z is zero, and mcmc fails.\n",
    "#data['dot_graph'] = 'digraph { v ->y;X0-> v;X0-> y;}'\n",
    "\n",
    "treatment= data[\"treatment_name\"][0]\n",
    "outcome = data[\"outcome_name\"][0]\n",
    "common_cause = data[\"common_causes_names\"][0]\n",
    "df"
   ]
  },
  {
   "cell_type": "code",
   "execution_count": 3,
   "metadata": {
    "execution": {
     "iopub.execute_input": "2022-08-22T07:48:59.312051Z",
     "iopub.status.busy": "2022-08-22T07:48:59.311768Z",
     "iopub.status.idle": "2022-08-22T07:49:00.229405Z",
     "shell.execute_reply": "2022-08-22T07:49:00.228392Z"
    }
   },
   "outputs": [
    {
     "data": {
      "text/plain": [
       "<AxesSubplot:xlabel='v0'>"
      ]
     },
     "execution_count": 3,
     "metadata": {},
     "output_type": "execute_result"
    },
    {
     "data": {
      "image/png": "[encoded data removed]",
      "text/plain": [
       "<Figure size 640x480 with 1 Axes>"
      ]
     },
     "metadata": {},
     "output_type": "display_data"
    }
   ],
   "source": [
    "# data['df'] is just a regular pandas.DataFrame\n",
    "df.causal.do(x=treatment,\n",
    "                     variable_types={treatment: 'b', outcome: 'c', common_cause: 'c'},\n",
    "                     outcome=outcome,\n",
    "                     common_causes=[common_cause],\n",
    "                     proceed_when_unidentifiable=True).groupby(treatment).mean().plot(y=outcome, kind='bar')"
   ]
  },
  {
   "cell_type": "code",
   "execution_count": 4,
   "metadata": {
    "execution": {
     "iopub.execute_input": "2022-08-22T07:49:00.232898Z",
     "iopub.status.busy": "2022-08-22T07:49:00.232343Z",
     "iopub.status.idle": "2022-08-22T07:49:00.381469Z",
     "shell.execute_reply": "2022-08-22T07:49:00.380731Z"
    }
   },
   "outputs": [
    {
     "data": {
      "text/plain": [
       "<AxesSubplot:xlabel='v0'>"
      ]
     },
     "execution_count": 4,
     "metadata": {},
     "output_type": "execute_result"
    },
    {
     "data": {
      "image/png": "[encoded data removed]",
      "text/plain": [
       "<Figure size 640x480 with 1 Axes>"
      ]
     },
     "metadata": {},
     "output_type": "display_data"
    }
   ],
   "source": [
    "df.causal.do(x={treatment: 1}, \n",
    "              variable_types={treatment:'b', outcome: 'c', common_cause: 'c'}, \n",
    "              outcome=outcome,\n",
    "              method='weighting', \n",
    "              common_causes=[common_cause],\n",
    "              proceed_when_unidentifiable=True).groupby(treatment).mean().plot(y=outcome, kind='bar')"
   ]
  },
  {
   "cell_type": "code",
   "execution_count": 5,
   "metadata": {
    "execution": {
     "iopub.execute_input": "2022-08-22T07:49:00.384681Z",
     "iopub.status.busy": "2022-08-22T07:49:00.384420Z",
     "iopub.status.idle": "2022-08-22T07:49:00.424102Z",
     "shell.execute_reply": "2022-08-22T07:49:00.423248Z"
    }
   },
   "outputs": [],
   "source": [
    "cdf_1 = df.causal.do(x={treatment: 1}, \n",
    "              variable_types={treatment: 'b', outcome: 'c', common_cause: 'c'}, \n",
    "              outcome=outcome, \n",
    "              dot_graph=data['dot_graph'],\n",
    "              proceed_when_unidentifiable=True)\n",
    "\n",
    "cdf_0 = df.causal.do(x={treatment: 0}, \n",
    "              variable_types={treatment: 'b', outcome: 'c', common_cause: 'c'}, \n",
    "              outcome=outcome, \n",
    "              dot_graph=data['dot_graph'],\n",
    "              proceed_when_unidentifiable=True)\n"
   ]
  },
  {
   "cell_type": "code",
   "execution_count": 6,
   "metadata": {
    "execution": {
     "iopub.execute_input": "2022-08-22T07:49:00.427063Z",
     "iopub.status.busy": "2022-08-22T07:49:00.426809Z",
     "iopub.status.idle": "2022-08-22T07:49:00.441795Z",
     "shell.execute_reply": "2022-08-22T07:49:00.440754Z"
    },
    "scrolled": true
   },
   "outputs": [
    {
     "data": {
      "text/html": [
       "<div>\n",
       "<style scoped>\n",
       "    .dataframe tbody tr th:only-of-type {\n",
       "        vertical-align: middle;\n",
       "    }\n",
       "\n",
       "    .dataframe tbody tr th {\n",
       "        vertical-align: top;\n",
       "    }\n",
       "\n",
       "    .dataframe thead th {\n",
       "        text-align: right;\n",
       "    }\n",
       "</style>\n",
       "<table border=\"1\" class=\"dataframe\">\n",
       "  <thead>\n",
       "    <tr style=\"text-align: right;\">\n",
       "      <th></th>\n",
       "      <th>W0</th>\n",
       "      <th>v0</th>\n",
       "      <th>y</th>\n",
       "      <th>propensity_score</th>\n",
       "      <th>weight</th>\n",
       "    </tr>\n",
       "  </thead>\n",
       "  <tbody>\n",
       "    <tr>\n",
       "      <th>0</th>\n",
       "      <td>0.500429</td>\n",
       "      <td>False</td>\n",
       "      <td>-0.217267</td>\n",
       "      <td>0.246735</td>\n",
       "      <td>4.052932</td>\n",
       "    </tr>\n",
       "    <tr>\n",
       "      <th>1</th>\n",
       "      <td>1.477726</td>\n",
       "      <td>False</td>\n",
       "      <td>2.169214</td>\n",
       "      <td>0.031279</td>\n",
       "      <td>31.970035</td>\n",
       "    </tr>\n",
       "    <tr>\n",
       "      <th>2</th>\n",
       "      <td>-0.089597</td>\n",
       "      <td>False</td>\n",
       "      <td>-0.375493</td>\n",
       "      <td>0.570207</td>\n",
       "      <td>1.753749</td>\n",
       "    </tr>\n",
       "    <tr>\n",
       "      <th>3</th>\n",
       "      <td>0.373500</td>\n",
       "      <td>False</td>\n",
       "      <td>-1.025621</td>\n",
       "      <td>0.306786</td>\n",
       "      <td>3.259599</td>\n",
       "    </tr>\n",
       "    <tr>\n",
       "      <th>4</th>\n",
       "      <td>0.311624</td>\n",
       "      <td>False</td>\n",
       "      <td>3.128146</td>\n",
       "      <td>0.338834</td>\n",
       "      <td>2.951299</td>\n",
       "    </tr>\n",
       "    <tr>\n",
       "      <th>...</th>\n",
       "      <td>...</td>\n",
       "      <td>...</td>\n",
       "      <td>...</td>\n",
       "      <td>...</td>\n",
       "      <td>...</td>\n",
       "    </tr>\n",
       "    <tr>\n",
       "      <th>995</th>\n",
       "      <td>0.270245</td>\n",
       "      <td>False</td>\n",
       "      <td>-0.802712</td>\n",
       "      <td>0.361146</td>\n",
       "      <td>2.768967</td>\n",
       "    </tr>\n",
       "    <tr>\n",
       "      <th>996</th>\n",
       "      <td>1.762040</td>\n",
       "      <td>False</td>\n",
       "      <td>1.843801</td>\n",
       "      <td>0.016190</td>\n",
       "      <td>61.767478</td>\n",
       "    </tr>\n",
       "    <tr>\n",
       "      <th>997</th>\n",
       "      <td>0.311624</td>\n",
       "      <td>False</td>\n",
       "      <td>3.128146</td>\n",
       "      <td>0.338834</td>\n",
       "      <td>2.951299</td>\n",
       "    </tr>\n",
       "    <tr>\n",
       "      <th>998</th>\n",
       "      <td>-0.122994</td>\n",
       "      <td>False</td>\n",
       "      <td>1.830862</td>\n",
       "      <td>0.589494</td>\n",
       "      <td>1.696371</td>\n",
       "    </tr>\n",
       "    <tr>\n",
       "      <th>999</th>\n",
       "      <td>0.556018</td>\n",
       "      <td>False</td>\n",
       "      <td>-0.571659</td>\n",
       "      <td>0.223066</td>\n",
       "      <td>4.482982</td>\n",
       "    </tr>\n",
       "  </tbody>\n",
       "</table>\n",
       "<p>1000 rows × 5 columns</p>\n",
       "</div>"
      ],
      "text/plain": [
       "           W0     v0         y  propensity_score     weight\n",
       "0    0.500429  False -0.217267          0.246735   4.052932\n",
       "1    1.477726  False  2.169214          0.031279  31.970035\n",
       "2   -0.089597  False -0.375493          0.570207   1.753749\n",
       "3    0.373500  False -1.025621          0.306786   3.259599\n",
       "4    0.311624  False  3.128146          0.338834   2.951299\n",
       "..        ...    ...       ...               ...        ...\n",
       "995  0.270245  False -0.802712          0.361146   2.768967\n",
       "996  1.762040  False  1.843801          0.016190  61.767478\n",
       "997  0.311624  False  3.128146          0.338834   2.951299\n",
       "998 -0.122994  False  1.830862          0.589494   1.696371\n",
       "999  0.556018  False -0.571659          0.223066   4.482982\n",
       "\n",
       "[1000 rows x 5 columns]"
      ]
     },
     "execution_count": 6,
     "metadata": {},
     "output_type": "execute_result"
    }
   ],
   "source": [
    "cdf_0"
   ]
  },
  {
   "cell_type": "code",
   "execution_count": 7,
   "metadata": {
    "execution": {
     "iopub.execute_input": "2022-08-22T07:49:00.445181Z",
     "iopub.status.busy": "2022-08-22T07:49:00.444926Z",
     "iopub.status.idle": "2022-08-22T07:49:00.459776Z",
     "shell.execute_reply": "2022-08-22T07:49:00.458945Z"
    }
   },
   "outputs": [
    {
     "data": {
      "text/html": [
       "<div>\n",
       "<style scoped>\n",
       "    .dataframe tbody tr th:only-of-type {\n",
       "        vertical-align: middle;\n",
       "    }\n",
       "\n",
       "    .dataframe tbody tr th {\n",
       "        vertical-align: top;\n",
       "    }\n",
       "\n",
       "    .dataframe thead th {\n",
       "        text-align: right;\n",
       "    }\n",
       "</style>\n",
       "<table border=\"1\" class=\"dataframe\">\n",
       "  <thead>\n",
       "    <tr style=\"text-align: right;\">\n",
       "      <th></th>\n",
       "      <th>W0</th>\n",
       "      <th>v0</th>\n",
       "      <th>y</th>\n",
       "      <th>propensity_score</th>\n",
       "      <th>weight</th>\n",
       "    </tr>\n",
       "  </thead>\n",
       "  <tbody>\n",
       "    <tr>\n",
       "      <th>0</th>\n",
       "      <td>0.670854</td>\n",
       "      <td>True</td>\n",
       "      <td>5.519186</td>\n",
       "      <td>0.820558</td>\n",
       "      <td>1.218682</td>\n",
       "    </tr>\n",
       "    <tr>\n",
       "      <th>1</th>\n",
       "      <td>1.129559</td>\n",
       "      <td>True</td>\n",
       "      <td>5.373370</td>\n",
       "      <td>0.931349</td>\n",
       "      <td>1.073711</td>\n",
       "    </tr>\n",
       "    <tr>\n",
       "      <th>2</th>\n",
       "      <td>-0.919950</td>\n",
       "      <td>True</td>\n",
       "      <td>6.180006</td>\n",
       "      <td>0.095242</td>\n",
       "      <td>10.499590</td>\n",
       "    </tr>\n",
       "    <tr>\n",
       "      <th>3</th>\n",
       "      <td>0.142944</td>\n",
       "      <td>True</td>\n",
       "      <td>5.300825</td>\n",
       "      <td>0.566749</td>\n",
       "      <td>1.764450</td>\n",
       "    </tr>\n",
       "    <tr>\n",
       "      <th>4</th>\n",
       "      <td>2.212337</td>\n",
       "      <td>True</td>\n",
       "      <td>7.707445</td>\n",
       "      <td>0.994373</td>\n",
       "      <td>1.005659</td>\n",
       "    </tr>\n",
       "    <tr>\n",
       "      <th>...</th>\n",
       "      <td>...</td>\n",
       "      <td>...</td>\n",
       "      <td>...</td>\n",
       "      <td>...</td>\n",
       "      <td>...</td>\n",
       "    </tr>\n",
       "    <tr>\n",
       "      <th>995</th>\n",
       "      <td>1.012502</td>\n",
       "      <td>True</td>\n",
       "      <td>5.388092</td>\n",
       "      <td>0.911339</td>\n",
       "      <td>1.097287</td>\n",
       "    </tr>\n",
       "    <tr>\n",
       "      <th>996</th>\n",
       "      <td>1.717759</td>\n",
       "      <td>True</td>\n",
       "      <td>8.097627</td>\n",
       "      <td>0.982050</td>\n",
       "      <td>1.018278</td>\n",
       "    </tr>\n",
       "    <tr>\n",
       "      <th>997</th>\n",
       "      <td>0.577517</td>\n",
       "      <td>True</td>\n",
       "      <td>6.167154</td>\n",
       "      <td>0.785643</td>\n",
       "      <td>1.272843</td>\n",
       "    </tr>\n",
       "    <tr>\n",
       "      <th>998</th>\n",
       "      <td>1.311013</td>\n",
       "      <td>True</td>\n",
       "      <td>6.522356</td>\n",
       "      <td>0.954252</td>\n",
       "      <td>1.047941</td>\n",
       "    </tr>\n",
       "    <tr>\n",
       "      <th>999</th>\n",
       "      <td>1.077550</td>\n",
       "      <td>True</td>\n",
       "      <td>6.521665</td>\n",
       "      <td>0.923034</td>\n",
       "      <td>1.083383</td>\n",
       "    </tr>\n",
       "  </tbody>\n",
       "</table>\n",
       "<p>1000 rows × 5 columns</p>\n",
       "</div>"
      ],
      "text/plain": [
       "           W0    v0         y  propensity_score     weight\n",
       "0    0.670854  True  5.519186          0.820558   1.218682\n",
       "1    1.129559  True  5.373370          0.931349   1.073711\n",
       "2   -0.919950  True  6.180006          0.095242  10.499590\n",
       "3    0.142944  True  5.300825          0.566749   1.764450\n",
       "4    2.212337  True  7.707445          0.994373   1.005659\n",
       "..        ...   ...       ...               ...        ...\n",
       "995  1.012502  True  5.388092          0.911339   1.097287\n",
       "996  1.717759  True  8.097627          0.982050   1.018278\n",
       "997  0.577517  True  6.167154          0.785643   1.272843\n",
       "998  1.311013  True  6.522356          0.954252   1.047941\n",
       "999  1.077550  True  6.521665          0.923034   1.083383\n",
       "\n",
       "[1000 rows x 5 columns]"
      ]
     },
     "execution_count": 7,
     "metadata": {},
     "output_type": "execute_result"
    }
   ],
   "source": [
    "cdf_1"
   ]
  },
  {
   "cell_type": "markdown",
   "metadata": {},
   "source": [
    "## Comparing the estimate to Linear Regression\n",
    "First, estimating the effect using the causal data frame, and the 95% confidence interval."
   ]
  },
  {
   "cell_type": "code",
   "execution_count": 8,
   "metadata": {
    "execution": {
     "iopub.execute_input": "2022-08-22T07:49:00.463179Z",
     "iopub.status.busy": "2022-08-22T07:49:00.462718Z",
     "iopub.status.idle": "2022-08-22T07:49:00.582156Z",
     "shell.execute_reply": "2022-08-22T07:49:00.581209Z"
    }
   },
   "outputs": [
    {
     "data": {
      "image/png": "[encoded data removed]",
      "text/latex": [
       "$\\displaystyle 5.23579004889483$"
      ],
      "text/plain": [
       "5.2357900488948275"
      ]
     },
     "execution_count": 8,
     "metadata": {},
     "output_type": "execute_result"
    }
   ],
   "source": [
    "(cdf_1['y'] - cdf_0['y']).mean()"
   ]
  },
  {
   "cell_type": "code",
   "execution_count": 9,
   "metadata": {
    "execution": {
     "iopub.execute_input": "2022-08-22T07:49:00.585851Z",
     "iopub.status.busy": "2022-08-22T07:49:00.585566Z",
     "iopub.status.idle": "2022-08-22T07:49:00.615745Z",
     "shell.execute_reply": "2022-08-22T07:49:00.614936Z"
    }
   },
   "outputs": [
    {
     "data": {
      "image/png": "[encoded data removed]",
      "text/latex": [
       "$\\displaystyle 0.124431887590354$"
      ],
      "text/plain": [
       "0.12443188759035412"
      ]
     },
     "execution_count": 9,
     "metadata": {},
     "output_type": "execute_result"
    }
   ],
   "source": [
    "1.96*(cdf_1['y'] - cdf_0['y']).std() / np.sqrt(len(df))"
   ]
  },
  {
   "cell_type": "markdown",
   "metadata": {},
   "source": [
    "Comparing to the estimate from OLS."
   ]
  },
  {
   "cell_type": "code",
   "execution_count": 10,
   "metadata": {
    "execution": {
     "iopub.execute_input": "2022-08-22T07:49:00.618962Z",
     "iopub.status.busy": "2022-08-22T07:49:00.618694Z",
     "iopub.status.idle": "2022-08-22T07:49:00.640615Z",
     "shell.execute_reply": "2022-08-22T07:49:00.639541Z"
    }
   },
   "outputs": [
    {
     "data": {
      "text/html": [
       "<table class=\"simpletable\">\n",
       "<caption>OLS Regression Results</caption>\n",
       "<tr>\n",
       "  <th>Dep. Variable:</th>            <td>y</td>        <th>  R-squared (uncentered):</th>      <td>   0.968</td> \n",
       "</tr>\n",
       "<tr>\n",
       "  <th>Model:</th>                   <td>OLS</td>       <th>  Adj. R-squared (uncentered):</th> <td>   0.967</td> \n",
       "</tr>\n",
       "<tr>\n",
       "  <th>Method:</th>             <td>Least Squares</td>  <th>  F-statistic:       </th>          <td>1.487e+04</td>\n",
       "</tr>\n",
       "<tr>\n",
       "  <th>Date:</th>             <td>Mon, 22 Aug 2022</td> <th>  Prob (F-statistic):</th>           <td>  0.00</td>  \n",
       "</tr>\n",
       "<tr>\n",
       "  <th>Time:</th>                 <td>07:49:00</td>     <th>  Log-Likelihood:    </th>          <td> -1396.8</td> \n",
       "</tr>\n",
       "<tr>\n",
       "  <th>No. Observations:</th>      <td>  1000</td>      <th>  AIC:               </th>          <td>   2798.</td> \n",
       "</tr>\n",
       "<tr>\n",
       "  <th>Df Residuals:</th>          <td>   998</td>      <th>  BIC:               </th>          <td>   2807.</td> \n",
       "</tr>\n",
       "<tr>\n",
       "  <th>Df Model:</th>              <td>     2</td>      <th>                     </th>              <td> </td>    \n",
       "</tr>\n",
       "<tr>\n",
       "  <th>Covariance Type:</th>      <td>nonrobust</td>    <th>                     </th>              <td> </td>    \n",
       "</tr>\n",
       "</table>\n",
       "<table class=\"simpletable\">\n",
       "<tr>\n",
       "   <td></td>     <th>coef</th>     <th>std err</th>      <th>t</th>      <th>P>|t|</th>  <th>[0.025</th>    <th>0.975]</th>  \n",
       "</tr>\n",
       "<tr>\n",
       "  <th>x1</th> <td>    1.2346</td> <td>    0.038</td> <td>   32.138</td> <td> 0.000</td> <td>    1.159</td> <td>    1.310</td>\n",
       "</tr>\n",
       "<tr>\n",
       "  <th>x2</th> <td>    5.0422</td> <td>    0.055</td> <td>   91.020</td> <td> 0.000</td> <td>    4.933</td> <td>    5.151</td>\n",
       "</tr>\n",
       "</table>\n",
       "<table class=\"simpletable\">\n",
       "<tr>\n",
       "  <th>Omnibus:</th>       <td> 1.150</td> <th>  Durbin-Watson:     </th> <td>   1.947</td>\n",
       "</tr>\n",
       "<tr>\n",
       "  <th>Prob(Omnibus):</th> <td> 0.563</td> <th>  Jarque-Bera (JB):  </th> <td>   1.159</td>\n",
       "</tr>\n",
       "<tr>\n",
       "  <th>Skew:</th>          <td> 0.083</td> <th>  Prob(JB):          </th> <td>   0.560</td>\n",
       "</tr>\n",
       "<tr>\n",
       "  <th>Kurtosis:</th>      <td> 2.976</td> <th>  Cond. No.          </th> <td>    2.80</td>\n",
       "</tr>\n",
       "</table><br/><br/>Notes:<br/>[1] R² is computed without centering (uncentered) since the model does not contain a constant.<br/>[2] Standard Errors assume that the covariance matrix of the errors is correctly specified."
      ],
      "text/plain": [
       "<class 'statsmodels.iolib.summary.Summary'>\n",
       "\"\"\"\n",
       "                                 OLS Regression Results                                \n",
       "=======================================================================================\n",
       "Dep. Variable:                      y   R-squared (uncentered):                   0.968\n",
       "Model:                            OLS   Adj. R-squared (uncentered):              0.967\n",
       "Method:                 Least Squares   F-statistic:                          1.487e+04\n",
       "Date:                Mon, 22 Aug 2022   Prob (F-statistic):                        0.00\n",
       "Time:                        07:49:00   Log-Likelihood:                         -1396.8\n",
       "No. Observations:                1000   AIC:                                      2798.\n",
       "Df Residuals:                     998   BIC:                                      2807.\n",
       "Df Model:                           2                                                  \n",
       "Covariance Type:            nonrobust                                                  \n",
       "==============================================================================\n",
       "                 coef    std err          t      P>|t|      [0.025      0.975]\n",
       "------------------------------------------------------------------------------\n",
       "x1             1.2346      0.038     32.138      0.000       1.159       1.310\n",
       "x2             5.0422      0.055     91.020      0.000       4.933       5.151\n",
       "==============================================================================\n",
       "Omnibus:                        1.150   Durbin-Watson:                   1.947\n",
       "Prob(Omnibus):                  0.563   Jarque-Bera (JB):                1.159\n",
       "Skew:                           0.083   Prob(JB):                        0.560\n",
       "Kurtosis:                       2.976   Cond. No.                         2.80\n",
       "==============================================================================\n",
       "\n",
       "Notes:\n",
       "[1] R² is computed without centering (uncentered) since the model does not contain a constant.\n",
       "[2] Standard Errors assume that the covariance matrix of the errors is correctly specified.\n",
       "\"\"\""
      ]
     },
     "execution_count": 10,
     "metadata": {},
     "output_type": "execute_result"
    }
   ],
   "source": [
    "model = OLS(np.asarray(df[outcome]), np.asarray(df[[common_cause, treatment]], dtype=np.float64))\n",
    "result = model.fit()\n",
    "result.summary()"
   ]
  }
 ],
 "metadata": {
  "kernelspec": {
   "display_name": "Python 3",
   "language": "python",
   "name": "python3"
  },
  "language_info": {
   "codemirror_mode": {
    "name": "ipython",
    "version": 3
   },
   "file_extension": ".py",
   "mimetype": "text/x-python",
   "name": "python",
   "nbconvert_exporter": "python",
   "pygments_lexer": "ipython3",
   "version": "3.8.10"
  },
  "toc": {
   "base_numbering": 1,
   "nav_menu": {},
   "number_sections": false,
   "sideBar": true,
   "skip_h1_title": true,
   "title_cell": "Table of Contents",
   "title_sidebar": "Contents",
   "toc_cell": false,
   "toc_position": {},
   "toc_section_display": true,
   "toc_window_display": false
  }
 },
 "nbformat": 4,
 "nbformat_minor": 4
}
