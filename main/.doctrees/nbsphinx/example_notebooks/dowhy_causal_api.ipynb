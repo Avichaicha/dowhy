{
 "cells": [
  {
   "cell_type": "markdown",
   "metadata": {},
   "source": [
    "# Demo for the DoWhy causal API\n",
    "We show a simple example of adding a causal extension to any dataframe. "
   ]
  },
  {
   "cell_type": "code",
   "execution_count": 1,
   "metadata": {
    "execution": {
     "iopub.execute_input": "2022-11-09T17:17:05.946044Z",
     "iopub.status.busy": "2022-11-09T17:17:05.945679Z",
     "iopub.status.idle": "2022-11-09T17:17:08.322486Z",
     "shell.execute_reply": "2022-11-09T17:17:08.321408Z"
    }
   },
   "outputs": [],
   "source": [
    "import dowhy.datasets\n",
    "import dowhy.api\n",
    "\n",
    "import numpy as np\n",
    "import pandas as pd\n",
    "\n",
    "from statsmodels.api import OLS"
   ]
  },
  {
   "cell_type": "code",
   "execution_count": 2,
   "metadata": {
    "execution": {
     "iopub.execute_input": "2022-11-09T17:17:08.326968Z",
     "iopub.status.busy": "2022-11-09T17:17:08.326133Z",
     "iopub.status.idle": "2022-11-09T17:17:08.381640Z",
     "shell.execute_reply": "2022-11-09T17:17:08.380618Z"
    }
   },
   "outputs": [
    {
     "data": {
      "text/html": [
       "<div>\n",
       "<style scoped>\n",
       "    .dataframe tbody tr th:only-of-type {\n",
       "        vertical-align: middle;\n",
       "    }\n",
       "\n",
       "    .dataframe tbody tr th {\n",
       "        vertical-align: top;\n",
       "    }\n",
       "\n",
       "    .dataframe thead th {\n",
       "        text-align: right;\n",
       "    }\n",
       "</style>\n",
       "<table border=\"1\" class=\"dataframe\">\n",
       "  <thead>\n",
       "    <tr style=\"text-align: right;\">\n",
       "      <th></th>\n",
       "      <th>W0</th>\n",
       "      <th>v0</th>\n",
       "      <th>y</th>\n",
       "    </tr>\n",
       "  </thead>\n",
       "  <tbody>\n",
       "    <tr>\n",
       "      <th>0</th>\n",
       "      <td>0.896689</td>\n",
       "      <td>True</td>\n",
       "      <td>7.480525</td>\n",
       "    </tr>\n",
       "    <tr>\n",
       "      <th>1</th>\n",
       "      <td>0.735005</td>\n",
       "      <td>False</td>\n",
       "      <td>2.151096</td>\n",
       "    </tr>\n",
       "    <tr>\n",
       "      <th>2</th>\n",
       "      <td>1.225542</td>\n",
       "      <td>False</td>\n",
       "      <td>4.034264</td>\n",
       "    </tr>\n",
       "    <tr>\n",
       "      <th>3</th>\n",
       "      <td>1.292827</td>\n",
       "      <td>True</td>\n",
       "      <td>7.596582</td>\n",
       "    </tr>\n",
       "    <tr>\n",
       "      <th>4</th>\n",
       "      <td>1.529784</td>\n",
       "      <td>True</td>\n",
       "      <td>9.812034</td>\n",
       "    </tr>\n",
       "    <tr>\n",
       "      <th>...</th>\n",
       "      <td>...</td>\n",
       "      <td>...</td>\n",
       "      <td>...</td>\n",
       "    </tr>\n",
       "    <tr>\n",
       "      <th>995</th>\n",
       "      <td>0.204058</td>\n",
       "      <td>False</td>\n",
       "      <td>0.391702</td>\n",
       "    </tr>\n",
       "    <tr>\n",
       "      <th>996</th>\n",
       "      <td>0.433960</td>\n",
       "      <td>False</td>\n",
       "      <td>0.888125</td>\n",
       "    </tr>\n",
       "    <tr>\n",
       "      <th>997</th>\n",
       "      <td>1.488898</td>\n",
       "      <td>True</td>\n",
       "      <td>7.952415</td>\n",
       "    </tr>\n",
       "    <tr>\n",
       "      <th>998</th>\n",
       "      <td>0.420907</td>\n",
       "      <td>True</td>\n",
       "      <td>4.193046</td>\n",
       "    </tr>\n",
       "    <tr>\n",
       "      <th>999</th>\n",
       "      <td>2.499989</td>\n",
       "      <td>True</td>\n",
       "      <td>11.766179</td>\n",
       "    </tr>\n",
       "  </tbody>\n",
       "</table>\n",
       "<p>1000 rows × 3 columns</p>\n",
       "</div>"
      ],
      "text/plain": [
       "           W0     v0          y\n",
       "0    0.896689   True   7.480525\n",
       "1    0.735005  False   2.151096\n",
       "2    1.225542  False   4.034264\n",
       "3    1.292827   True   7.596582\n",
       "4    1.529784   True   9.812034\n",
       "..        ...    ...        ...\n",
       "995  0.204058  False   0.391702\n",
       "996  0.433960  False   0.888125\n",
       "997  1.488898   True   7.952415\n",
       "998  0.420907   True   4.193046\n",
       "999  2.499989   True  11.766179\n",
       "\n",
       "[1000 rows x 3 columns]"
      ]
     },
     "execution_count": 2,
     "metadata": {},
     "output_type": "execute_result"
    }
   ],
   "source": [
    "data = dowhy.datasets.linear_dataset(beta=5,\n",
    "        num_common_causes=1,\n",
    "        num_instruments = 0,\n",
    "        num_samples=1000,\n",
    "        treatment_is_binary=True)\n",
    "df = data['df']\n",
    "df['y'] = df['y'] + np.random.normal(size=len(df)) # Adding noise to data. Without noise, the variance in Y|X, Z is zero, and mcmc fails.\n",
    "#data['dot_graph'] = 'digraph { v ->y;X0-> v;X0-> y;}'\n",
    "\n",
    "treatment= data[\"treatment_name\"][0]\n",
    "outcome = data[\"outcome_name\"][0]\n",
    "common_cause = data[\"common_causes_names\"][0]\n",
    "df"
   ]
  },
  {
   "cell_type": "code",
   "execution_count": 3,
   "metadata": {
    "execution": {
     "iopub.execute_input": "2022-11-09T17:17:08.386736Z",
     "iopub.status.busy": "2022-11-09T17:17:08.386410Z",
     "iopub.status.idle": "2022-11-09T17:17:08.572577Z",
     "shell.execute_reply": "2022-11-09T17:17:08.571498Z"
    }
   },
   "outputs": [
    {
     "data": {
      "text/plain": [
       "<AxesSubplot: xlabel='v0'>"
      ]
     },
     "execution_count": 3,
     "metadata": {},
     "output_type": "execute_result"
    },
    {
     "data": {
      "image/png": "[encoded data removed]",
      "text/plain": [
       "<Figure size 640x480 with 1 Axes>"
      ]
     },
     "metadata": {},
     "output_type": "display_data"
    }
   ],
   "source": [
    "# data['df'] is just a regular pandas.DataFrame\n",
    "df.causal.do(x=treatment,\n",
    "                     variable_types={treatment: 'b', outcome: 'c', common_cause: 'c'},\n",
    "                     outcome=outcome,\n",
    "                     common_causes=[common_cause],\n",
    "                     proceed_when_unidentifiable=True).groupby(treatment).mean().plot(y=outcome, kind='bar')"
   ]
  },
  {
   "cell_type": "code",
   "execution_count": 4,
   "metadata": {
    "execution": {
     "iopub.execute_input": "2022-11-09T17:17:08.576640Z",
     "iopub.status.busy": "2022-11-09T17:17:08.576081Z",
     "iopub.status.idle": "2022-11-09T17:17:08.728325Z",
     "shell.execute_reply": "2022-11-09T17:17:08.727490Z"
    }
   },
   "outputs": [
    {
     "data": {
      "text/plain": [
       "<AxesSubplot: xlabel='v0'>"
      ]
     },
     "execution_count": 4,
     "metadata": {},
     "output_type": "execute_result"
    },
    {
     "data": {
      "image/png": "[encoded data removed]",
      "text/plain": [
       "<Figure size 640x480 with 1 Axes>"
      ]
     },
     "metadata": {},
     "output_type": "display_data"
    }
   ],
   "source": [
    "df.causal.do(x={treatment: 1}, \n",
    "              variable_types={treatment:'b', outcome: 'c', common_cause: 'c'}, \n",
    "              outcome=outcome,\n",
    "              method='weighting', \n",
    "              common_causes=[common_cause],\n",
    "              proceed_when_unidentifiable=True).groupby(treatment).mean().plot(y=outcome, kind='bar')"
   ]
  },
  {
   "cell_type": "code",
   "execution_count": 5,
   "metadata": {
    "execution": {
     "iopub.execute_input": "2022-11-09T17:17:08.732745Z",
     "iopub.status.busy": "2022-11-09T17:17:08.731848Z",
     "iopub.status.idle": "2022-11-09T17:17:08.770708Z",
     "shell.execute_reply": "2022-11-09T17:17:08.769950Z"
    }
   },
   "outputs": [],
   "source": [
    "cdf_1 = df.causal.do(x={treatment: 1}, \n",
    "              variable_types={treatment: 'b', outcome: 'c', common_cause: 'c'}, \n",
    "              outcome=outcome, \n",
    "              dot_graph=data['dot_graph'],\n",
    "              proceed_when_unidentifiable=True)\n",
    "\n",
    "cdf_0 = df.causal.do(x={treatment: 0}, \n",
    "              variable_types={treatment: 'b', outcome: 'c', common_cause: 'c'}, \n",
    "              outcome=outcome, \n",
    "              dot_graph=data['dot_graph'],\n",
    "              proceed_when_unidentifiable=True)\n"
   ]
  },
  {
   "cell_type": "code",
   "execution_count": 6,
   "metadata": {
    "execution": {
     "iopub.execute_input": "2022-11-09T17:17:08.774371Z",
     "iopub.status.busy": "2022-11-09T17:17:08.774092Z",
     "iopub.status.idle": "2022-11-09T17:17:08.788607Z",
     "shell.execute_reply": "2022-11-09T17:17:08.787941Z"
    },
    "scrolled": true
   },
   "outputs": [
    {
     "data": {
      "text/html": [
       "<div>\n",
       "<style scoped>\n",
       "    .dataframe tbody tr th:only-of-type {\n",
       "        vertical-align: middle;\n",
       "    }\n",
       "\n",
       "    .dataframe tbody tr th {\n",
       "        vertical-align: top;\n",
       "    }\n",
       "\n",
       "    .dataframe thead th {\n",
       "        text-align: right;\n",
       "    }\n",
       "</style>\n",
       "<table border=\"1\" class=\"dataframe\">\n",
       "  <thead>\n",
       "    <tr style=\"text-align: right;\">\n",
       "      <th></th>\n",
       "      <th>W0</th>\n",
       "      <th>v0</th>\n",
       "      <th>y</th>\n",
       "      <th>propensity_score</th>\n",
       "      <th>weight</th>\n",
       "    </tr>\n",
       "  </thead>\n",
       "  <tbody>\n",
       "    <tr>\n",
       "      <th>0</th>\n",
       "      <td>-0.386786</td>\n",
       "      <td>False</td>\n",
       "      <td>-0.845863</td>\n",
       "      <td>0.604997</td>\n",
       "      <td>1.652900</td>\n",
       "    </tr>\n",
       "    <tr>\n",
       "      <th>1</th>\n",
       "      <td>-1.244697</td>\n",
       "      <td>False</td>\n",
       "      <td>-3.146884</td>\n",
       "      <td>0.815670</td>\n",
       "      <td>1.225985</td>\n",
       "    </tr>\n",
       "    <tr>\n",
       "      <th>2</th>\n",
       "      <td>0.357329</td>\n",
       "      <td>False</td>\n",
       "      <td>0.334876</td>\n",
       "      <td>0.378976</td>\n",
       "      <td>2.638687</td>\n",
       "    </tr>\n",
       "    <tr>\n",
       "      <th>3</th>\n",
       "      <td>-0.000479</td>\n",
       "      <td>False</td>\n",
       "      <td>0.087074</td>\n",
       "      <td>0.487152</td>\n",
       "      <td>2.052749</td>\n",
       "    </tr>\n",
       "    <tr>\n",
       "      <th>4</th>\n",
       "      <td>1.470435</td>\n",
       "      <td>False</td>\n",
       "      <td>2.837609</td>\n",
       "      <td>0.133491</td>\n",
       "      <td>7.491165</td>\n",
       "    </tr>\n",
       "    <tr>\n",
       "      <th>...</th>\n",
       "      <td>...</td>\n",
       "      <td>...</td>\n",
       "      <td>...</td>\n",
       "      <td>...</td>\n",
       "      <td>...</td>\n",
       "    </tr>\n",
       "    <tr>\n",
       "      <th>995</th>\n",
       "      <td>3.318281</td>\n",
       "      <td>False</td>\n",
       "      <td>7.647591</td>\n",
       "      <td>0.015434</td>\n",
       "      <td>64.791523</td>\n",
       "    </tr>\n",
       "    <tr>\n",
       "      <th>996</th>\n",
       "      <td>1.414422</td>\n",
       "      <td>False</td>\n",
       "      <td>1.843760</td>\n",
       "      <td>0.141708</td>\n",
       "      <td>7.056743</td>\n",
       "    </tr>\n",
       "    <tr>\n",
       "      <th>997</th>\n",
       "      <td>-0.568303</td>\n",
       "      <td>False</td>\n",
       "      <td>-0.809275</td>\n",
       "      <td>0.657192</td>\n",
       "      <td>1.521624</td>\n",
       "    </tr>\n",
       "    <tr>\n",
       "      <th>998</th>\n",
       "      <td>-0.361781</td>\n",
       "      <td>False</td>\n",
       "      <td>-1.149120</td>\n",
       "      <td>0.597584</td>\n",
       "      <td>1.673405</td>\n",
       "    </tr>\n",
       "    <tr>\n",
       "      <th>999</th>\n",
       "      <td>1.614372</td>\n",
       "      <td>False</td>\n",
       "      <td>5.381943</td>\n",
       "      <td>0.114210</td>\n",
       "      <td>8.755833</td>\n",
       "    </tr>\n",
       "  </tbody>\n",
       "</table>\n",
       "<p>1000 rows × 5 columns</p>\n",
       "</div>"
      ],
      "text/plain": [
       "           W0     v0         y  propensity_score     weight\n",
       "0   -0.386786  False -0.845863          0.604997   1.652900\n",
       "1   -1.244697  False -3.146884          0.815670   1.225985\n",
       "2    0.357329  False  0.334876          0.378976   2.638687\n",
       "3   -0.000479  False  0.087074          0.487152   2.052749\n",
       "4    1.470435  False  2.837609          0.133491   7.491165\n",
       "..        ...    ...       ...               ...        ...\n",
       "995  3.318281  False  7.647591          0.015434  64.791523\n",
       "996  1.414422  False  1.843760          0.141708   7.056743\n",
       "997 -0.568303  False -0.809275          0.657192   1.521624\n",
       "998 -0.361781  False -1.149120          0.597584   1.673405\n",
       "999  1.614372  False  5.381943          0.114210   8.755833\n",
       "\n",
       "[1000 rows x 5 columns]"
      ]
     },
     "execution_count": 6,
     "metadata": {},
     "output_type": "execute_result"
    }
   ],
   "source": [
    "cdf_0"
   ]
  },
  {
   "cell_type": "code",
   "execution_count": 7,
   "metadata": {
    "execution": {
     "iopub.execute_input": "2022-11-09T17:17:08.791781Z",
     "iopub.status.busy": "2022-11-09T17:17:08.791520Z",
     "iopub.status.idle": "2022-11-09T17:17:08.804977Z",
     "shell.execute_reply": "2022-11-09T17:17:08.804278Z"
    }
   },
   "outputs": [
    {
     "data": {
      "text/html": [
       "<div>\n",
       "<style scoped>\n",
       "    .dataframe tbody tr th:only-of-type {\n",
       "        vertical-align: middle;\n",
       "    }\n",
       "\n",
       "    .dataframe tbody tr th {\n",
       "        vertical-align: top;\n",
       "    }\n",
       "\n",
       "    .dataframe thead th {\n",
       "        text-align: right;\n",
       "    }\n",
       "</style>\n",
       "<table border=\"1\" class=\"dataframe\">\n",
       "  <thead>\n",
       "    <tr style=\"text-align: right;\">\n",
       "      <th></th>\n",
       "      <th>W0</th>\n",
       "      <th>v0</th>\n",
       "      <th>y</th>\n",
       "      <th>propensity_score</th>\n",
       "      <th>weight</th>\n",
       "    </tr>\n",
       "  </thead>\n",
       "  <tbody>\n",
       "    <tr>\n",
       "      <th>0</th>\n",
       "      <td>0.617559</td>\n",
       "      <td>True</td>\n",
       "      <td>5.941462</td>\n",
       "      <td>0.693326</td>\n",
       "      <td>1.442323</td>\n",
       "    </tr>\n",
       "    <tr>\n",
       "      <th>1</th>\n",
       "      <td>0.479705</td>\n",
       "      <td>True</td>\n",
       "      <td>6.191235</td>\n",
       "      <td>0.655936</td>\n",
       "      <td>1.524540</td>\n",
       "    </tr>\n",
       "    <tr>\n",
       "      <th>2</th>\n",
       "      <td>1.268205</td>\n",
       "      <td>True</td>\n",
       "      <td>7.528418</td>\n",
       "      <td>0.834843</td>\n",
       "      <td>1.197830</td>\n",
       "    </tr>\n",
       "    <tr>\n",
       "      <th>3</th>\n",
       "      <td>0.695345</td>\n",
       "      <td>True</td>\n",
       "      <td>6.292742</td>\n",
       "      <td>0.713391</td>\n",
       "      <td>1.401756</td>\n",
       "    </tr>\n",
       "    <tr>\n",
       "      <th>4</th>\n",
       "      <td>-0.159351</td>\n",
       "      <td>True</td>\n",
       "      <td>4.031123</td>\n",
       "      <td>0.463796</td>\n",
       "      <td>2.156119</td>\n",
       "    </tr>\n",
       "    <tr>\n",
       "      <th>...</th>\n",
       "      <td>...</td>\n",
       "      <td>...</td>\n",
       "      <td>...</td>\n",
       "      <td>...</td>\n",
       "      <td>...</td>\n",
       "    </tr>\n",
       "    <tr>\n",
       "      <th>995</th>\n",
       "      <td>1.895147</td>\n",
       "      <td>True</td>\n",
       "      <td>9.925822</td>\n",
       "      <td>0.916497</td>\n",
       "      <td>1.091111</td>\n",
       "    </tr>\n",
       "    <tr>\n",
       "      <th>996</th>\n",
       "      <td>1.533858</td>\n",
       "      <td>True</td>\n",
       "      <td>6.937278</td>\n",
       "      <td>0.875324</td>\n",
       "      <td>1.142434</td>\n",
       "    </tr>\n",
       "    <tr>\n",
       "      <th>997</th>\n",
       "      <td>2.203397</td>\n",
       "      <td>True</td>\n",
       "      <td>13.414209</td>\n",
       "      <td>0.941413</td>\n",
       "      <td>1.062233</td>\n",
       "    </tr>\n",
       "    <tr>\n",
       "      <th>998</th>\n",
       "      <td>-0.033787</td>\n",
       "      <td>True</td>\n",
       "      <td>6.199631</td>\n",
       "      <td>0.502553</td>\n",
       "      <td>1.989839</td>\n",
       "    </tr>\n",
       "    <tr>\n",
       "      <th>999</th>\n",
       "      <td>1.697177</td>\n",
       "      <td>True</td>\n",
       "      <td>7.679677</td>\n",
       "      <td>0.895748</td>\n",
       "      <td>1.116386</td>\n",
       "    </tr>\n",
       "  </tbody>\n",
       "</table>\n",
       "<p>1000 rows × 5 columns</p>\n",
       "</div>"
      ],
      "text/plain": [
       "           W0    v0          y  propensity_score    weight\n",
       "0    0.617559  True   5.941462          0.693326  1.442323\n",
       "1    0.479705  True   6.191235          0.655936  1.524540\n",
       "2    1.268205  True   7.528418          0.834843  1.197830\n",
       "3    0.695345  True   6.292742          0.713391  1.401756\n",
       "4   -0.159351  True   4.031123          0.463796  2.156119\n",
       "..        ...   ...        ...               ...       ...\n",
       "995  1.895147  True   9.925822          0.916497  1.091111\n",
       "996  1.533858  True   6.937278          0.875324  1.142434\n",
       "997  2.203397  True  13.414209          0.941413  1.062233\n",
       "998 -0.033787  True   6.199631          0.502553  1.989839\n",
       "999  1.697177  True   7.679677          0.895748  1.116386\n",
       "\n",
       "[1000 rows x 5 columns]"
      ]
     },
     "execution_count": 7,
     "metadata": {},
     "output_type": "execute_result"
    }
   ],
   "source": [
    "cdf_1"
   ]
  },
  {
   "cell_type": "markdown",
   "metadata": {},
   "source": [
    "## Comparing the estimate to Linear Regression\n",
    "First, estimating the effect using the causal data frame, and the 95% confidence interval."
   ]
  },
  {
   "cell_type": "code",
   "execution_count": 8,
   "metadata": {
    "execution": {
     "iopub.execute_input": "2022-11-09T17:17:08.811042Z",
     "iopub.status.busy": "2022-11-09T17:17:08.810247Z",
     "iopub.status.idle": "2022-11-09T17:17:08.880897Z",
     "shell.execute_reply": "2022-11-09T17:17:08.880075Z"
    }
   },
   "outputs": [
    {
     "data": {
      "image/png": "[encoded data removed]",
      "text/latex": [
       "$\\displaystyle 4.78791229893158$"
      ],
      "text/plain": [
       "4.787912298931576"
      ]
     },
     "execution_count": 8,
     "metadata": {},
     "output_type": "execute_result"
    }
   ],
   "source": [
    "(cdf_1['y'] - cdf_0['y']).mean()"
   ]
  },
  {
   "cell_type": "code",
   "execution_count": 9,
   "metadata": {
    "execution": {
     "iopub.execute_input": "2022-11-09T17:17:08.884810Z",
     "iopub.status.busy": "2022-11-09T17:17:08.884191Z",
     "iopub.status.idle": "2022-11-09T17:17:08.907874Z",
     "shell.execute_reply": "2022-11-09T17:17:08.907034Z"
    }
   },
   "outputs": [
    {
     "data": {
      "image/png": "[encoded data removed]",
      "text/latex": [
       "$\\displaystyle 0.247989793270235$"
      ],
      "text/plain": [
       "0.2479897932702352"
      ]
     },
     "execution_count": 9,
     "metadata": {},
     "output_type": "execute_result"
    }
   ],
   "source": [
    "1.96*(cdf_1['y'] - cdf_0['y']).std() / np.sqrt(len(df))"
   ]
  },
  {
   "cell_type": "markdown",
   "metadata": {},
   "source": [
    "Comparing to the estimate from OLS."
   ]
  },
  {
   "cell_type": "code",
   "execution_count": 10,
   "metadata": {
    "execution": {
     "iopub.execute_input": "2022-11-09T17:17:08.911646Z",
     "iopub.status.busy": "2022-11-09T17:17:08.911079Z",
     "iopub.status.idle": "2022-11-09T17:17:08.932754Z",
     "shell.execute_reply": "2022-11-09T17:17:08.931728Z"
    }
   },
   "outputs": [
    {
     "data": {
      "text/html": [
       "<table class=\"simpletable\">\n",
       "<caption>OLS Regression Results</caption>\n",
       "<tr>\n",
       "  <th>Dep. Variable:</th>            <td>y</td>        <th>  R-squared (uncentered):</th>      <td>   0.978</td> \n",
       "</tr>\n",
       "<tr>\n",
       "  <th>Model:</th>                   <td>OLS</td>       <th>  Adj. R-squared (uncentered):</th> <td>   0.978</td> \n",
       "</tr>\n",
       "<tr>\n",
       "  <th>Method:</th>             <td>Least Squares</td>  <th>  F-statistic:       </th>          <td>2.195e+04</td>\n",
       "</tr>\n",
       "<tr>\n",
       "  <th>Date:</th>             <td>Wed, 09 Nov 2022</td> <th>  Prob (F-statistic):</th>           <td>  0.00</td>  \n",
       "</tr>\n",
       "<tr>\n",
       "  <th>Time:</th>                 <td>17:17:08</td>     <th>  Log-Likelihood:    </th>          <td> -1409.0</td> \n",
       "</tr>\n",
       "<tr>\n",
       "  <th>No. Observations:</th>      <td>  1000</td>      <th>  AIC:               </th>          <td>   2822.</td> \n",
       "</tr>\n",
       "<tr>\n",
       "  <th>Df Residuals:</th>          <td>   998</td>      <th>  BIC:               </th>          <td>   2832.</td> \n",
       "</tr>\n",
       "<tr>\n",
       "  <th>Df Model:</th>              <td>     2</td>      <th>                     </th>              <td> </td>    \n",
       "</tr>\n",
       "<tr>\n",
       "  <th>Covariance Type:</th>      <td>nonrobust</td>    <th>                     </th>              <td> </td>    \n",
       "</tr>\n",
       "</table>\n",
       "<table class=\"simpletable\">\n",
       "<tr>\n",
       "   <td></td>     <th>coef</th>     <th>std err</th>      <th>t</th>      <th>P>|t|</th>  <th>[0.025</th>    <th>0.975]</th>  \n",
       "</tr>\n",
       "<tr>\n",
       "  <th>x1</th> <td>    2.5051</td> <td>    0.035</td> <td>   72.488</td> <td> 0.000</td> <td>    2.437</td> <td>    2.573</td>\n",
       "</tr>\n",
       "<tr>\n",
       "  <th>x2</th> <td>    5.0413</td> <td>    0.052</td> <td>   96.971</td> <td> 0.000</td> <td>    4.939</td> <td>    5.143</td>\n",
       "</tr>\n",
       "</table>\n",
       "<table class=\"simpletable\">\n",
       "<tr>\n",
       "  <th>Omnibus:</th>       <td> 1.735</td> <th>  Durbin-Watson:     </th> <td>   1.998</td>\n",
       "</tr>\n",
       "<tr>\n",
       "  <th>Prob(Omnibus):</th> <td> 0.420</td> <th>  Jarque-Bera (JB):  </th> <td>   1.724</td>\n",
       "</tr>\n",
       "<tr>\n",
       "  <th>Skew:</th>          <td> 0.102</td> <th>  Prob(JB):          </th> <td>   0.422</td>\n",
       "</tr>\n",
       "<tr>\n",
       "  <th>Kurtosis:</th>      <td> 2.988</td> <th>  Cond. No.          </th> <td>    2.53</td>\n",
       "</tr>\n",
       "</table><br/><br/>Notes:<br/>[1] R² is computed without centering (uncentered) since the model does not contain a constant.<br/>[2] Standard Errors assume that the covariance matrix of the errors is correctly specified."
      ],
      "text/plain": [
       "<class 'statsmodels.iolib.summary.Summary'>\n",
       "\"\"\"\n",
       "                                 OLS Regression Results                                \n",
       "=======================================================================================\n",
       "Dep. Variable:                      y   R-squared (uncentered):                   0.978\n",
       "Model:                            OLS   Adj. R-squared (uncentered):              0.978\n",
       "Method:                 Least Squares   F-statistic:                          2.195e+04\n",
       "Date:                Wed, 09 Nov 2022   Prob (F-statistic):                        0.00\n",
       "Time:                        17:17:08   Log-Likelihood:                         -1409.0\n",
       "No. Observations:                1000   AIC:                                      2822.\n",
       "Df Residuals:                     998   BIC:                                      2832.\n",
       "Df Model:                           2                                                  \n",
       "Covariance Type:            nonrobust                                                  \n",
       "==============================================================================\n",
       "                 coef    std err          t      P>|t|      [0.025      0.975]\n",
       "------------------------------------------------------------------------------\n",
       "x1             2.5051      0.035     72.488      0.000       2.437       2.573\n",
       "x2             5.0413      0.052     96.971      0.000       4.939       5.143\n",
       "==============================================================================\n",
       "Omnibus:                        1.735   Durbin-Watson:                   1.998\n",
       "Prob(Omnibus):                  0.420   Jarque-Bera (JB):                1.724\n",
       "Skew:                           0.102   Prob(JB):                        0.422\n",
       "Kurtosis:                       2.988   Cond. No.                         2.53\n",
       "==============================================================================\n",
       "\n",
       "Notes:\n",
       "[1] R² is computed without centering (uncentered) since the model does not contain a constant.\n",
       "[2] Standard Errors assume that the covariance matrix of the errors is correctly specified.\n",
       "\"\"\""
      ]
     },
     "execution_count": 10,
     "metadata": {},
     "output_type": "execute_result"
    }
   ],
   "source": [
    "model = OLS(np.asarray(df[outcome]), np.asarray(df[[common_cause, treatment]], dtype=np.float64))\n",
    "result = model.fit()\n",
    "result.summary()"
   ]
  }
 ],
 "metadata": {
  "kernelspec": {
   "display_name": "Python 3",
   "language": "python",
   "name": "python3"
  },
  "language_info": {
   "codemirror_mode": {
    "name": "ipython",
    "version": 3
   },
   "file_extension": ".py",
   "mimetype": "text/x-python",
   "name": "python",
   "nbconvert_exporter": "python",
   "pygments_lexer": "ipython3",
   "version": "3.8.10"
  },
  "toc": {
   "base_numbering": 1,
   "nav_menu": {},
   "number_sections": false,
   "sideBar": true,
   "skip_h1_title": true,
   "title_cell": "Table of Contents",
   "title_sidebar": "Contents",
   "toc_cell": false,
   "toc_position": {},
   "toc_section_display": true,
   "toc_window_display": false
  }
 },
 "nbformat": 4,
 "nbformat_minor": 4
}
