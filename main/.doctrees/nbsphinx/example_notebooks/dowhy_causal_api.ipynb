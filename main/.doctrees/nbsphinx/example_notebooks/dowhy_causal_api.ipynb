{
 "cells": [
  {
   "cell_type": "markdown",
   "metadata": {},
   "source": [
    "# Demo for the DoWhy causal API\n",
    "We show a simple example of adding a causal extension to any dataframe. "
   ]
  },
  {
   "cell_type": "code",
   "execution_count": 1,
   "metadata": {
    "execution": {
     "iopub.execute_input": "2022-08-19T05:06:30.560092Z",
     "iopub.status.busy": "2022-08-19T05:06:30.559822Z",
     "iopub.status.idle": "2022-08-19T05:06:31.705669Z",
     "shell.execute_reply": "2022-08-19T05:06:31.704927Z"
    }
   },
   "outputs": [],
   "source": [
    "import dowhy.datasets\n",
    "import dowhy.api\n",
    "\n",
    "import numpy as np\n",
    "import pandas as pd\n",
    "\n",
    "from statsmodels.api import OLS"
   ]
  },
  {
   "cell_type": "code",
   "execution_count": 2,
   "metadata": {
    "execution": {
     "iopub.execute_input": "2022-08-19T05:06:31.709853Z",
     "iopub.status.busy": "2022-08-19T05:06:31.709483Z",
     "iopub.status.idle": "2022-08-19T05:06:31.755434Z",
     "shell.execute_reply": "2022-08-19T05:06:31.754779Z"
    }
   },
   "outputs": [
    {
     "data": {
      "text/html": [
       "<div>\n",
       "<style scoped>\n",
       "    .dataframe tbody tr th:only-of-type {\n",
       "        vertical-align: middle;\n",
       "    }\n",
       "\n",
       "    .dataframe tbody tr th {\n",
       "        vertical-align: top;\n",
       "    }\n",
       "\n",
       "    .dataframe thead th {\n",
       "        text-align: right;\n",
       "    }\n",
       "</style>\n",
       "<table border=\"1\" class=\"dataframe\">\n",
       "  <thead>\n",
       "    <tr style=\"text-align: right;\">\n",
       "      <th></th>\n",
       "      <th>W0</th>\n",
       "      <th>v0</th>\n",
       "      <th>y</th>\n",
       "    </tr>\n",
       "  </thead>\n",
       "  <tbody>\n",
       "    <tr>\n",
       "      <th>0</th>\n",
       "      <td>2.425914</td>\n",
       "      <td>True</td>\n",
       "      <td>10.401466</td>\n",
       "    </tr>\n",
       "    <tr>\n",
       "      <th>1</th>\n",
       "      <td>0.055485</td>\n",
       "      <td>False</td>\n",
       "      <td>-0.608075</td>\n",
       "    </tr>\n",
       "    <tr>\n",
       "      <th>2</th>\n",
       "      <td>-0.108928</td>\n",
       "      <td>True</td>\n",
       "      <td>3.233670</td>\n",
       "    </tr>\n",
       "    <tr>\n",
       "      <th>3</th>\n",
       "      <td>1.359787</td>\n",
       "      <td>True</td>\n",
       "      <td>8.879705</td>\n",
       "    </tr>\n",
       "    <tr>\n",
       "      <th>4</th>\n",
       "      <td>1.170015</td>\n",
       "      <td>True</td>\n",
       "      <td>8.832066</td>\n",
       "    </tr>\n",
       "    <tr>\n",
       "      <th>...</th>\n",
       "      <td>...</td>\n",
       "      <td>...</td>\n",
       "      <td>...</td>\n",
       "    </tr>\n",
       "    <tr>\n",
       "      <th>995</th>\n",
       "      <td>0.076541</td>\n",
       "      <td>True</td>\n",
       "      <td>4.946259</td>\n",
       "    </tr>\n",
       "    <tr>\n",
       "      <th>996</th>\n",
       "      <td>0.750941</td>\n",
       "      <td>True</td>\n",
       "      <td>8.754033</td>\n",
       "    </tr>\n",
       "    <tr>\n",
       "      <th>997</th>\n",
       "      <td>1.823980</td>\n",
       "      <td>True</td>\n",
       "      <td>12.314863</td>\n",
       "    </tr>\n",
       "    <tr>\n",
       "      <th>998</th>\n",
       "      <td>1.491028</td>\n",
       "      <td>True</td>\n",
       "      <td>9.198882</td>\n",
       "    </tr>\n",
       "    <tr>\n",
       "      <th>999</th>\n",
       "      <td>1.483341</td>\n",
       "      <td>True</td>\n",
       "      <td>6.317055</td>\n",
       "    </tr>\n",
       "  </tbody>\n",
       "</table>\n",
       "<p>1000 rows × 3 columns</p>\n",
       "</div>"
      ],
      "text/plain": [
       "           W0     v0          y\n",
       "0    2.425914   True  10.401466\n",
       "1    0.055485  False  -0.608075\n",
       "2   -0.108928   True   3.233670\n",
       "3    1.359787   True   8.879705\n",
       "4    1.170015   True   8.832066\n",
       "..        ...    ...        ...\n",
       "995  0.076541   True   4.946259\n",
       "996  0.750941   True   8.754033\n",
       "997  1.823980   True  12.314863\n",
       "998  1.491028   True   9.198882\n",
       "999  1.483341   True   6.317055\n",
       "\n",
       "[1000 rows x 3 columns]"
      ]
     },
     "execution_count": 2,
     "metadata": {},
     "output_type": "execute_result"
    }
   ],
   "source": [
    "data = dowhy.datasets.linear_dataset(beta=5,\n",
    "        num_common_causes=1,\n",
    "        num_instruments = 0,\n",
    "        num_samples=1000,\n",
    "        treatment_is_binary=True)\n",
    "df = data['df']\n",
    "df['y'] = df['y'] + np.random.normal(size=len(df)) # Adding noise to data. Without noise, the variance in Y|X, Z is zero, and mcmc fails.\n",
    "#data['dot_graph'] = 'digraph { v ->y;X0-> v;X0-> y;}'\n",
    "\n",
    "treatment= data[\"treatment_name\"][0]\n",
    "outcome = data[\"outcome_name\"][0]\n",
    "common_cause = data[\"common_causes_names\"][0]\n",
    "df"
   ]
  },
  {
   "cell_type": "code",
   "execution_count": 3,
   "metadata": {
    "execution": {
     "iopub.execute_input": "2022-08-19T05:06:31.759357Z",
     "iopub.status.busy": "2022-08-19T05:06:31.759008Z",
     "iopub.status.idle": "2022-08-19T05:06:32.532182Z",
     "shell.execute_reply": "2022-08-19T05:06:32.531580Z"
    }
   },
   "outputs": [
    {
     "data": {
      "text/plain": [
       "<AxesSubplot:xlabel='v0'>"
      ]
     },
     "execution_count": 3,
     "metadata": {},
     "output_type": "execute_result"
    },
    {
     "data": {
      "image/png": "[encoded data removed]",
      "text/plain": [
       "<Figure size 432x288 with 1 Axes>"
      ]
     },
     "metadata": {
      "needs_background": "light"
     },
     "output_type": "display_data"
    }
   ],
   "source": [
    "# data['df'] is just a regular pandas.DataFrame\n",
    "df.causal.do(x=treatment,\n",
    "                     variable_types={treatment: 'b', outcome: 'c', common_cause: 'c'},\n",
    "                     outcome=outcome,\n",
    "                     common_causes=[common_cause],\n",
    "                     proceed_when_unidentifiable=True).groupby(treatment).mean().plot(y=outcome, kind='bar')"
   ]
  },
  {
   "cell_type": "code",
   "execution_count": 4,
   "metadata": {
    "execution": {
     "iopub.execute_input": "2022-08-19T05:06:32.535698Z",
     "iopub.status.busy": "2022-08-19T05:06:32.535293Z",
     "iopub.status.idle": "2022-08-19T05:06:32.647560Z",
     "shell.execute_reply": "2022-08-19T05:06:32.646873Z"
    }
   },
   "outputs": [
    {
     "data": {
      "text/plain": [
       "<AxesSubplot:xlabel='v0'>"
      ]
     },
     "execution_count": 4,
     "metadata": {},
     "output_type": "execute_result"
    },
    {
     "data": {
      "image/png": "[encoded data removed]",
      "text/plain": [
       "<Figure size 432x288 with 1 Axes>"
      ]
     },
     "metadata": {
      "needs_background": "light"
     },
     "output_type": "display_data"
    }
   ],
   "source": [
    "df.causal.do(x={treatment: 1}, \n",
    "              variable_types={treatment:'b', outcome: 'c', common_cause: 'c'}, \n",
    "              outcome=outcome,\n",
    "              method='weighting', \n",
    "              common_causes=[common_cause],\n",
    "              proceed_when_unidentifiable=True).groupby(treatment).mean().plot(y=outcome, kind='bar')"
   ]
  },
  {
   "cell_type": "code",
   "execution_count": 5,
   "metadata": {
    "execution": {
     "iopub.execute_input": "2022-08-19T05:06:32.651232Z",
     "iopub.status.busy": "2022-08-19T05:06:32.650738Z",
     "iopub.status.idle": "2022-08-19T05:06:32.682824Z",
     "shell.execute_reply": "2022-08-19T05:06:32.682176Z"
    }
   },
   "outputs": [],
   "source": [
    "cdf_1 = df.causal.do(x={treatment: 1}, \n",
    "              variable_types={treatment: 'b', outcome: 'c', common_cause: 'c'}, \n",
    "              outcome=outcome, \n",
    "              dot_graph=data['dot_graph'],\n",
    "              proceed_when_unidentifiable=True)\n",
    "\n",
    "cdf_0 = df.causal.do(x={treatment: 0}, \n",
    "              variable_types={treatment: 'b', outcome: 'c', common_cause: 'c'}, \n",
    "              outcome=outcome, \n",
    "              dot_graph=data['dot_graph'],\n",
    "              proceed_when_unidentifiable=True)\n"
   ]
  },
  {
   "cell_type": "code",
   "execution_count": 6,
   "metadata": {
    "execution": {
     "iopub.execute_input": "2022-08-19T05:06:32.686541Z",
     "iopub.status.busy": "2022-08-19T05:06:32.686091Z",
     "iopub.status.idle": "2022-08-19T05:06:32.699679Z",
     "shell.execute_reply": "2022-08-19T05:06:32.699068Z"
    },
    "scrolled": true
   },
   "outputs": [
    {
     "data": {
      "text/html": [
       "<div>\n",
       "<style scoped>\n",
       "    .dataframe tbody tr th:only-of-type {\n",
       "        vertical-align: middle;\n",
       "    }\n",
       "\n",
       "    .dataframe tbody tr th {\n",
       "        vertical-align: top;\n",
       "    }\n",
       "\n",
       "    .dataframe thead th {\n",
       "        text-align: right;\n",
       "    }\n",
       "</style>\n",
       "<table border=\"1\" class=\"dataframe\">\n",
       "  <thead>\n",
       "    <tr style=\"text-align: right;\">\n",
       "      <th></th>\n",
       "      <th>W0</th>\n",
       "      <th>v0</th>\n",
       "      <th>y</th>\n",
       "      <th>propensity_score</th>\n",
       "      <th>weight</th>\n",
       "    </tr>\n",
       "  </thead>\n",
       "  <tbody>\n",
       "    <tr>\n",
       "      <th>0</th>\n",
       "      <td>1.344008</td>\n",
       "      <td>False</td>\n",
       "      <td>3.943839</td>\n",
       "      <td>0.138950</td>\n",
       "      <td>7.196827</td>\n",
       "    </tr>\n",
       "    <tr>\n",
       "      <th>1</th>\n",
       "      <td>-0.868102</td>\n",
       "      <td>False</td>\n",
       "      <td>-2.161497</td>\n",
       "      <td>0.718258</td>\n",
       "      <td>1.392258</td>\n",
       "    </tr>\n",
       "    <tr>\n",
       "      <th>2</th>\n",
       "      <td>1.206662</td>\n",
       "      <td>False</td>\n",
       "      <td>4.611390</td>\n",
       "      <td>0.160747</td>\n",
       "      <td>6.220966</td>\n",
       "    </tr>\n",
       "    <tr>\n",
       "      <th>3</th>\n",
       "      <td>0.464911</td>\n",
       "      <td>False</td>\n",
       "      <td>2.319090</td>\n",
       "      <td>0.325797</td>\n",
       "      <td>3.069401</td>\n",
       "    </tr>\n",
       "    <tr>\n",
       "      <th>4</th>\n",
       "      <td>0.624548</td>\n",
       "      <td>False</td>\n",
       "      <td>2.597544</td>\n",
       "      <td>0.283651</td>\n",
       "      <td>3.525465</td>\n",
       "    </tr>\n",
       "    <tr>\n",
       "      <th>...</th>\n",
       "      <td>...</td>\n",
       "      <td>...</td>\n",
       "      <td>...</td>\n",
       "      <td>...</td>\n",
       "      <td>...</td>\n",
       "    </tr>\n",
       "    <tr>\n",
       "      <th>995</th>\n",
       "      <td>0.726944</td>\n",
       "      <td>False</td>\n",
       "      <td>1.333480</td>\n",
       "      <td>0.258424</td>\n",
       "      <td>3.869610</td>\n",
       "    </tr>\n",
       "    <tr>\n",
       "      <th>996</th>\n",
       "      <td>0.716708</td>\n",
       "      <td>False</td>\n",
       "      <td>2.566960</td>\n",
       "      <td>0.260879</td>\n",
       "      <td>3.833195</td>\n",
       "    </tr>\n",
       "    <tr>\n",
       "      <th>997</th>\n",
       "      <td>1.054706</td>\n",
       "      <td>False</td>\n",
       "      <td>3.353966</td>\n",
       "      <td>0.187994</td>\n",
       "      <td>5.319322</td>\n",
       "    </tr>\n",
       "    <tr>\n",
       "      <th>998</th>\n",
       "      <td>0.910364</td>\n",
       "      <td>False</td>\n",
       "      <td>2.855147</td>\n",
       "      <td>0.217038</td>\n",
       "      <td>4.607497</td>\n",
       "    </tr>\n",
       "    <tr>\n",
       "      <th>999</th>\n",
       "      <td>0.631383</td>\n",
       "      <td>False</td>\n",
       "      <td>2.904382</td>\n",
       "      <td>0.281921</td>\n",
       "      <td>3.547091</td>\n",
       "    </tr>\n",
       "  </tbody>\n",
       "</table>\n",
       "<p>1000 rows × 5 columns</p>\n",
       "</div>"
      ],
      "text/plain": [
       "           W0     v0         y  propensity_score    weight\n",
       "0    1.344008  False  3.943839          0.138950  7.196827\n",
       "1   -0.868102  False -2.161497          0.718258  1.392258\n",
       "2    1.206662  False  4.611390          0.160747  6.220966\n",
       "3    0.464911  False  2.319090          0.325797  3.069401\n",
       "4    0.624548  False  2.597544          0.283651  3.525465\n",
       "..        ...    ...       ...               ...       ...\n",
       "995  0.726944  False  1.333480          0.258424  3.869610\n",
       "996  0.716708  False  2.566960          0.260879  3.833195\n",
       "997  1.054706  False  3.353966          0.187994  5.319322\n",
       "998  0.910364  False  2.855147          0.217038  4.607497\n",
       "999  0.631383  False  2.904382          0.281921  3.547091\n",
       "\n",
       "[1000 rows x 5 columns]"
      ]
     },
     "execution_count": 6,
     "metadata": {},
     "output_type": "execute_result"
    }
   ],
   "source": [
    "cdf_0"
   ]
  },
  {
   "cell_type": "code",
   "execution_count": 7,
   "metadata": {
    "execution": {
     "iopub.execute_input": "2022-08-19T05:06:32.702657Z",
     "iopub.status.busy": "2022-08-19T05:06:32.702410Z",
     "iopub.status.idle": "2022-08-19T05:06:32.714993Z",
     "shell.execute_reply": "2022-08-19T05:06:32.714386Z"
    }
   },
   "outputs": [
    {
     "data": {
      "text/html": [
       "<div>\n",
       "<style scoped>\n",
       "    .dataframe tbody tr th:only-of-type {\n",
       "        vertical-align: middle;\n",
       "    }\n",
       "\n",
       "    .dataframe tbody tr th {\n",
       "        vertical-align: top;\n",
       "    }\n",
       "\n",
       "    .dataframe thead th {\n",
       "        text-align: right;\n",
       "    }\n",
       "</style>\n",
       "<table border=\"1\" class=\"dataframe\">\n",
       "  <thead>\n",
       "    <tr style=\"text-align: right;\">\n",
       "      <th></th>\n",
       "      <th>W0</th>\n",
       "      <th>v0</th>\n",
       "      <th>y</th>\n",
       "      <th>propensity_score</th>\n",
       "      <th>weight</th>\n",
       "    </tr>\n",
       "  </thead>\n",
       "  <tbody>\n",
       "    <tr>\n",
       "      <th>0</th>\n",
       "      <td>0.034091</td>\n",
       "      <td>True</td>\n",
       "      <td>5.432921</td>\n",
       "      <td>0.547298</td>\n",
       "      <td>1.827159</td>\n",
       "    </tr>\n",
       "    <tr>\n",
       "      <th>1</th>\n",
       "      <td>0.482306</td>\n",
       "      <td>True</td>\n",
       "      <td>5.924023</td>\n",
       "      <td>0.678952</td>\n",
       "      <td>1.472858</td>\n",
       "    </tr>\n",
       "    <tr>\n",
       "      <th>2</th>\n",
       "      <td>-0.064927</td>\n",
       "      <td>True</td>\n",
       "      <td>4.262485</td>\n",
       "      <td>0.516550</td>\n",
       "      <td>1.935923</td>\n",
       "    </tr>\n",
       "    <tr>\n",
       "      <th>3</th>\n",
       "      <td>0.303600</td>\n",
       "      <td>True</td>\n",
       "      <td>7.542944</td>\n",
       "      <td>0.628551</td>\n",
       "      <td>1.590962</td>\n",
       "    </tr>\n",
       "    <tr>\n",
       "      <th>4</th>\n",
       "      <td>0.214954</td>\n",
       "      <td>True</td>\n",
       "      <td>6.942535</td>\n",
       "      <td>0.602384</td>\n",
       "      <td>1.660072</td>\n",
       "    </tr>\n",
       "    <tr>\n",
       "      <th>...</th>\n",
       "      <td>...</td>\n",
       "      <td>...</td>\n",
       "      <td>...</td>\n",
       "      <td>...</td>\n",
       "      <td>...</td>\n",
       "    </tr>\n",
       "    <tr>\n",
       "      <th>995</th>\n",
       "      <td>-0.824703</td>\n",
       "      <td>True</td>\n",
       "      <td>3.579179</td>\n",
       "      <td>0.292828</td>\n",
       "      <td>3.414977</td>\n",
       "    </tr>\n",
       "    <tr>\n",
       "      <th>996</th>\n",
       "      <td>0.096172</td>\n",
       "      <td>True</td>\n",
       "      <td>6.299307</td>\n",
       "      <td>0.566408</td>\n",
       "      <td>1.765511</td>\n",
       "    </tr>\n",
       "    <tr>\n",
       "      <th>997</th>\n",
       "      <td>2.521715</td>\n",
       "      <td>True</td>\n",
       "      <td>11.809094</td>\n",
       "      <td>0.964201</td>\n",
       "      <td>1.037129</td>\n",
       "    </tr>\n",
       "    <tr>\n",
       "      <th>998</th>\n",
       "      <td>0.240409</td>\n",
       "      <td>True</td>\n",
       "      <td>6.382080</td>\n",
       "      <td>0.609965</td>\n",
       "      <td>1.639438</td>\n",
       "    </tr>\n",
       "    <tr>\n",
       "      <th>999</th>\n",
       "      <td>1.743810</td>\n",
       "      <td>True</td>\n",
       "      <td>12.069838</td>\n",
       "      <td>0.910751</td>\n",
       "      <td>1.097995</td>\n",
       "    </tr>\n",
       "  </tbody>\n",
       "</table>\n",
       "<p>1000 rows × 5 columns</p>\n",
       "</div>"
      ],
      "text/plain": [
       "           W0    v0          y  propensity_score    weight\n",
       "0    0.034091  True   5.432921          0.547298  1.827159\n",
       "1    0.482306  True   5.924023          0.678952  1.472858\n",
       "2   -0.064927  True   4.262485          0.516550  1.935923\n",
       "3    0.303600  True   7.542944          0.628551  1.590962\n",
       "4    0.214954  True   6.942535          0.602384  1.660072\n",
       "..        ...   ...        ...               ...       ...\n",
       "995 -0.824703  True   3.579179          0.292828  3.414977\n",
       "996  0.096172  True   6.299307          0.566408  1.765511\n",
       "997  2.521715  True  11.809094          0.964201  1.037129\n",
       "998  0.240409  True   6.382080          0.609965  1.639438\n",
       "999  1.743810  True  12.069838          0.910751  1.097995\n",
       "\n",
       "[1000 rows x 5 columns]"
      ]
     },
     "execution_count": 7,
     "metadata": {},
     "output_type": "execute_result"
    }
   ],
   "source": [
    "cdf_1"
   ]
  },
  {
   "cell_type": "markdown",
   "metadata": {},
   "source": [
    "## Comparing the estimate to Linear Regression\n",
    "First, estimating the effect using the causal data frame, and the 95% confidence interval."
   ]
  },
  {
   "cell_type": "code",
   "execution_count": 8,
   "metadata": {
    "execution": {
     "iopub.execute_input": "2022-08-19T05:06:32.718286Z",
     "iopub.status.busy": "2022-08-19T05:06:32.717722Z",
     "iopub.status.idle": "2022-08-19T05:06:32.820346Z",
     "shell.execute_reply": "2022-08-19T05:06:32.819623Z"
    }
   },
   "outputs": [
    {
     "data": {
      "image/png": "[encoded data removed]",
      "text/latex": [
       "$\\displaystyle 5.40990233728453$"
      ],
      "text/plain": [
       "5.409902337284526"
      ]
     },
     "execution_count": 8,
     "metadata": {},
     "output_type": "execute_result"
    }
   ],
   "source": [
    "(cdf_1['y'] - cdf_0['y']).mean()"
   ]
  },
  {
   "cell_type": "code",
   "execution_count": 9,
   "metadata": {
    "execution": {
     "iopub.execute_input": "2022-08-19T05:06:32.823482Z",
     "iopub.status.busy": "2022-08-19T05:06:32.823238Z",
     "iopub.status.idle": "2022-08-19T05:06:32.850765Z",
     "shell.execute_reply": "2022-08-19T05:06:32.850098Z"
    }
   },
   "outputs": [
    {
     "data": {
      "image/png": "[encoded data removed]",
      "text/latex": [
       "$\\displaystyle 0.219986909569658$"
      ],
      "text/plain": [
       "0.21998690956965783"
      ]
     },
     "execution_count": 9,
     "metadata": {},
     "output_type": "execute_result"
    }
   ],
   "source": [
    "1.96*(cdf_1['y'] - cdf_0['y']).std() / np.sqrt(len(df))"
   ]
  },
  {
   "cell_type": "markdown",
   "metadata": {},
   "source": [
    "Comparing to the estimate from OLS."
   ]
  },
  {
   "cell_type": "code",
   "execution_count": 10,
   "metadata": {
    "execution": {
     "iopub.execute_input": "2022-08-19T05:06:32.854090Z",
     "iopub.status.busy": "2022-08-19T05:06:32.853849Z",
     "iopub.status.idle": "2022-08-19T05:06:32.871236Z",
     "shell.execute_reply": "2022-08-19T05:06:32.870655Z"
    }
   },
   "outputs": [
    {
     "data": {
      "text/html": [
       "<table class=\"simpletable\">\n",
       "<caption>OLS Regression Results</caption>\n",
       "<tr>\n",
       "  <th>Dep. Variable:</th>            <td>y</td>        <th>  R-squared (uncentered):</th>      <td>   0.980</td> \n",
       "</tr>\n",
       "<tr>\n",
       "  <th>Model:</th>                   <td>OLS</td>       <th>  Adj. R-squared (uncentered):</th> <td>   0.980</td> \n",
       "</tr>\n",
       "<tr>\n",
       "  <th>Method:</th>             <td>Least Squares</td>  <th>  F-statistic:       </th>          <td>2.394e+04</td>\n",
       "</tr>\n",
       "<tr>\n",
       "  <th>Date:</th>             <td>Fri, 19 Aug 2022</td> <th>  Prob (F-statistic):</th>           <td>  0.00</td>  \n",
       "</tr>\n",
       "<tr>\n",
       "  <th>Time:</th>                 <td>05:06:32</td>     <th>  Log-Likelihood:    </th>          <td> -1427.8</td> \n",
       "</tr>\n",
       "<tr>\n",
       "  <th>No. Observations:</th>      <td>  1000</td>      <th>  AIC:               </th>          <td>   2860.</td> \n",
       "</tr>\n",
       "<tr>\n",
       "  <th>Df Residuals:</th>          <td>   998</td>      <th>  BIC:               </th>          <td>   2869.</td> \n",
       "</tr>\n",
       "<tr>\n",
       "  <th>Df Model:</th>              <td>     2</td>      <th>                     </th>              <td> </td>    \n",
       "</tr>\n",
       "<tr>\n",
       "  <th>Covariance Type:</th>      <td>nonrobust</td>    <th>                     </th>              <td> </td>    \n",
       "</tr>\n",
       "</table>\n",
       "<table class=\"simpletable\">\n",
       "<tr>\n",
       "   <td></td>     <th>coef</th>     <th>std err</th>      <th>t</th>      <th>P>|t|</th>  <th>[0.025</th>    <th>0.975]</th>  \n",
       "</tr>\n",
       "<tr>\n",
       "  <th>x1</th> <td>    2.5737</td> <td>    0.035</td> <td>   72.720</td> <td> 0.000</td> <td>    2.504</td> <td>    2.643</td>\n",
       "</tr>\n",
       "<tr>\n",
       "  <th>x2</th> <td>    5.0266</td> <td>    0.054</td> <td>   92.865</td> <td> 0.000</td> <td>    4.920</td> <td>    5.133</td>\n",
       "</tr>\n",
       "</table>\n",
       "<table class=\"simpletable\">\n",
       "<tr>\n",
       "  <th>Omnibus:</th>       <td> 0.434</td> <th>  Durbin-Watson:     </th> <td>   2.055</td>\n",
       "</tr>\n",
       "<tr>\n",
       "  <th>Prob(Omnibus):</th> <td> 0.805</td> <th>  Jarque-Bera (JB):  </th> <td>   0.361</td>\n",
       "</tr>\n",
       "<tr>\n",
       "  <th>Skew:</th>          <td> 0.042</td> <th>  Prob(JB):          </th> <td>   0.835</td>\n",
       "</tr>\n",
       "<tr>\n",
       "  <th>Kurtosis:</th>      <td> 3.039</td> <th>  Cond. No.          </th> <td>    2.75</td>\n",
       "</tr>\n",
       "</table><br/><br/>Notes:<br/>[1] R² is computed without centering (uncentered) since the model does not contain a constant.<br/>[2] Standard Errors assume that the covariance matrix of the errors is correctly specified."
      ],
      "text/plain": [
       "<class 'statsmodels.iolib.summary.Summary'>\n",
       "\"\"\"\n",
       "                                 OLS Regression Results                                \n",
       "=======================================================================================\n",
       "Dep. Variable:                      y   R-squared (uncentered):                   0.980\n",
       "Model:                            OLS   Adj. R-squared (uncentered):              0.980\n",
       "Method:                 Least Squares   F-statistic:                          2.394e+04\n",
       "Date:                Fri, 19 Aug 2022   Prob (F-statistic):                        0.00\n",
       "Time:                        05:06:32   Log-Likelihood:                         -1427.8\n",
       "No. Observations:                1000   AIC:                                      2860.\n",
       "Df Residuals:                     998   BIC:                                      2869.\n",
       "Df Model:                           2                                                  \n",
       "Covariance Type:            nonrobust                                                  \n",
       "==============================================================================\n",
       "                 coef    std err          t      P>|t|      [0.025      0.975]\n",
       "------------------------------------------------------------------------------\n",
       "x1             2.5737      0.035     72.720      0.000       2.504       2.643\n",
       "x2             5.0266      0.054     92.865      0.000       4.920       5.133\n",
       "==============================================================================\n",
       "Omnibus:                        0.434   Durbin-Watson:                   2.055\n",
       "Prob(Omnibus):                  0.805   Jarque-Bera (JB):                0.361\n",
       "Skew:                           0.042   Prob(JB):                        0.835\n",
       "Kurtosis:                       3.039   Cond. No.                         2.75\n",
       "==============================================================================\n",
       "\n",
       "Notes:\n",
       "[1] R² is computed without centering (uncentered) since the model does not contain a constant.\n",
       "[2] Standard Errors assume that the covariance matrix of the errors is correctly specified.\n",
       "\"\"\""
      ]
     },
     "execution_count": 10,
     "metadata": {},
     "output_type": "execute_result"
    }
   ],
   "source": [
    "model = OLS(np.asarray(df[outcome]), np.asarray(df[[common_cause, treatment]], dtype=np.float64))\n",
    "result = model.fit()\n",
    "result.summary()"
   ]
  }
 ],
 "metadata": {
  "kernelspec": {
   "display_name": "Python 3",
   "language": "python",
   "name": "python3"
  },
  "language_info": {
   "codemirror_mode": {
    "name": "ipython",
    "version": 3
   },
   "file_extension": ".py",
   "mimetype": "text/x-python",
   "name": "python",
   "nbconvert_exporter": "python",
   "pygments_lexer": "ipython3",
   "version": "3.8.10"
  },
  "toc": {
   "base_numbering": 1,
   "nav_menu": {},
   "number_sections": false,
   "sideBar": true,
   "skip_h1_title": true,
   "title_cell": "Table of Contents",
   "title_sidebar": "Contents",
   "toc_cell": false,
   "toc_position": {},
   "toc_section_display": true,
   "toc_window_display": false
  }
 },
 "nbformat": 4,
 "nbformat_minor": 4
}
