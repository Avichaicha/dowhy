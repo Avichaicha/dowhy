{
 "cells": [
  {
   "cell_type": "markdown",
   "metadata": {},
   "source": [
    "# Demo for the DoWhy causal API\n",
    "We show a simple example of adding a causal extension to any dataframe. "
   ]
  },
  {
   "cell_type": "code",
   "execution_count": 1,
   "metadata": {
    "execution": {
     "iopub.execute_input": "2022-11-22T16:55:58.468600Z",
     "iopub.status.busy": "2022-11-22T16:55:58.467679Z",
     "iopub.status.idle": "2022-11-22T16:56:00.560478Z",
     "shell.execute_reply": "2022-11-22T16:56:00.559548Z"
    }
   },
   "outputs": [],
   "source": [
    "import dowhy.datasets\n",
    "import dowhy.api\n",
    "\n",
    "import numpy as np\n",
    "import pandas as pd\n",
    "\n",
    "from statsmodels.api import OLS"
   ]
  },
  {
   "cell_type": "code",
   "execution_count": 2,
   "metadata": {
    "execution": {
     "iopub.execute_input": "2022-11-22T16:56:00.564821Z",
     "iopub.status.busy": "2022-11-22T16:56:00.564251Z",
     "iopub.status.idle": "2022-11-22T16:56:00.625116Z",
     "shell.execute_reply": "2022-11-22T16:56:00.624038Z"
    }
   },
   "outputs": [
    {
     "data": {
      "text/html": [
       "<div>\n",
       "<style scoped>\n",
       "    .dataframe tbody tr th:only-of-type {\n",
       "        vertical-align: middle;\n",
       "    }\n",
       "\n",
       "    .dataframe tbody tr th {\n",
       "        vertical-align: top;\n",
       "    }\n",
       "\n",
       "    .dataframe thead th {\n",
       "        text-align: right;\n",
       "    }\n",
       "</style>\n",
       "<table border=\"1\" class=\"dataframe\">\n",
       "  <thead>\n",
       "    <tr style=\"text-align: right;\">\n",
       "      <th></th>\n",
       "      <th>W0</th>\n",
       "      <th>v0</th>\n",
       "      <th>y</th>\n",
       "    </tr>\n",
       "  </thead>\n",
       "  <tbody>\n",
       "    <tr>\n",
       "      <th>0</th>\n",
       "      <td>-1.022133</td>\n",
       "      <td>False</td>\n",
       "      <td>-2.807938</td>\n",
       "    </tr>\n",
       "    <tr>\n",
       "      <th>1</th>\n",
       "      <td>1.910251</td>\n",
       "      <td>True</td>\n",
       "      <td>8.002341</td>\n",
       "    </tr>\n",
       "    <tr>\n",
       "      <th>2</th>\n",
       "      <td>-0.950440</td>\n",
       "      <td>False</td>\n",
       "      <td>-0.737355</td>\n",
       "    </tr>\n",
       "    <tr>\n",
       "      <th>3</th>\n",
       "      <td>1.002854</td>\n",
       "      <td>True</td>\n",
       "      <td>7.391311</td>\n",
       "    </tr>\n",
       "    <tr>\n",
       "      <th>4</th>\n",
       "      <td>0.313097</td>\n",
       "      <td>False</td>\n",
       "      <td>0.241392</td>\n",
       "    </tr>\n",
       "    <tr>\n",
       "      <th>...</th>\n",
       "      <td>...</td>\n",
       "      <td>...</td>\n",
       "      <td>...</td>\n",
       "    </tr>\n",
       "    <tr>\n",
       "      <th>995</th>\n",
       "      <td>0.858785</td>\n",
       "      <td>True</td>\n",
       "      <td>6.046750</td>\n",
       "    </tr>\n",
       "    <tr>\n",
       "      <th>996</th>\n",
       "      <td>-2.289124</td>\n",
       "      <td>False</td>\n",
       "      <td>-4.572886</td>\n",
       "    </tr>\n",
       "    <tr>\n",
       "      <th>997</th>\n",
       "      <td>1.535708</td>\n",
       "      <td>True</td>\n",
       "      <td>7.733274</td>\n",
       "    </tr>\n",
       "    <tr>\n",
       "      <th>998</th>\n",
       "      <td>-1.522603</td>\n",
       "      <td>False</td>\n",
       "      <td>-2.224942</td>\n",
       "    </tr>\n",
       "    <tr>\n",
       "      <th>999</th>\n",
       "      <td>-0.431073</td>\n",
       "      <td>True</td>\n",
       "      <td>2.866008</td>\n",
       "    </tr>\n",
       "  </tbody>\n",
       "</table>\n",
       "<p>1000 rows × 3 columns</p>\n",
       "</div>"
      ],
      "text/plain": [
       "           W0     v0         y\n",
       "0   -1.022133  False -2.807938\n",
       "1    1.910251   True  8.002341\n",
       "2   -0.950440  False -0.737355\n",
       "3    1.002854   True  7.391311\n",
       "4    0.313097  False  0.241392\n",
       "..        ...    ...       ...\n",
       "995  0.858785   True  6.046750\n",
       "996 -2.289124  False -4.572886\n",
       "997  1.535708   True  7.733274\n",
       "998 -1.522603  False -2.224942\n",
       "999 -0.431073   True  2.866008\n",
       "\n",
       "[1000 rows x 3 columns]"
      ]
     },
     "execution_count": 2,
     "metadata": {},
     "output_type": "execute_result"
    }
   ],
   "source": [
    "data = dowhy.datasets.linear_dataset(beta=5,\n",
    "        num_common_causes=1,\n",
    "        num_instruments = 0,\n",
    "        num_samples=1000,\n",
    "        treatment_is_binary=True)\n",
    "df = data['df']\n",
    "df['y'] = df['y'] + np.random.normal(size=len(df)) # Adding noise to data. Without noise, the variance in Y|X, Z is zero, and mcmc fails.\n",
    "#data['dot_graph'] = 'digraph { v ->y;X0-> v;X0-> y;}'\n",
    "\n",
    "treatment= data[\"treatment_name\"][0]\n",
    "outcome = data[\"outcome_name\"][0]\n",
    "common_cause = data[\"common_causes_names\"][0]\n",
    "df"
   ]
  },
  {
   "cell_type": "code",
   "execution_count": 3,
   "metadata": {
    "execution": {
     "iopub.execute_input": "2022-11-22T16:56:00.628749Z",
     "iopub.status.busy": "2022-11-22T16:56:00.628481Z",
     "iopub.status.idle": "2022-11-22T16:56:00.816978Z",
     "shell.execute_reply": "2022-11-22T16:56:00.816192Z"
    }
   },
   "outputs": [
    {
     "data": {
      "text/plain": [
       "<AxesSubplot: xlabel='v0'>"
      ]
     },
     "execution_count": 3,
     "metadata": {},
     "output_type": "execute_result"
    },
    {
     "data": {
      "image/png": "[encoded data removed]",
      "text/plain": [
       "<Figure size 640x480 with 1 Axes>"
      ]
     },
     "metadata": {},
     "output_type": "display_data"
    }
   ],
   "source": [
    "# data['df'] is just a regular pandas.DataFrame\n",
    "df.causal.do(x=treatment,\n",
    "                     variable_types={treatment: 'b', outcome: 'c', common_cause: 'c'},\n",
    "                     outcome=outcome,\n",
    "                     common_causes=[common_cause],\n",
    "                     proceed_when_unidentifiable=True).groupby(treatment).mean().plot(y=outcome, kind='bar')"
   ]
  },
  {
   "cell_type": "code",
   "execution_count": 4,
   "metadata": {
    "execution": {
     "iopub.execute_input": "2022-11-22T16:56:00.820626Z",
     "iopub.status.busy": "2022-11-22T16:56:00.820241Z",
     "iopub.status.idle": "2022-11-22T16:56:00.978711Z",
     "shell.execute_reply": "2022-11-22T16:56:00.977850Z"
    }
   },
   "outputs": [
    {
     "data": {
      "text/plain": [
       "<AxesSubplot: xlabel='v0'>"
      ]
     },
     "execution_count": 4,
     "metadata": {},
     "output_type": "execute_result"
    },
    {
     "data": {
      "image/png": "[encoded data removed]",
      "text/plain": [
       "<Figure size 640x480 with 1 Axes>"
      ]
     },
     "metadata": {},
     "output_type": "display_data"
    }
   ],
   "source": [
    "df.causal.do(x={treatment: 1}, \n",
    "              variable_types={treatment:'b', outcome: 'c', common_cause: 'c'}, \n",
    "              outcome=outcome,\n",
    "              method='weighting', \n",
    "              common_causes=[common_cause],\n",
    "              proceed_when_unidentifiable=True).groupby(treatment).mean().plot(y=outcome, kind='bar')"
   ]
  },
  {
   "cell_type": "code",
   "execution_count": 5,
   "metadata": {
    "execution": {
     "iopub.execute_input": "2022-11-22T16:56:00.982736Z",
     "iopub.status.busy": "2022-11-22T16:56:00.982277Z",
     "iopub.status.idle": "2022-11-22T16:56:01.020433Z",
     "shell.execute_reply": "2022-11-22T16:56:01.019288Z"
    }
   },
   "outputs": [],
   "source": [
    "cdf_1 = df.causal.do(x={treatment: 1}, \n",
    "              variable_types={treatment: 'b', outcome: 'c', common_cause: 'c'}, \n",
    "              outcome=outcome, \n",
    "              dot_graph=data['dot_graph'],\n",
    "              proceed_when_unidentifiable=True)\n",
    "\n",
    "cdf_0 = df.causal.do(x={treatment: 0}, \n",
    "              variable_types={treatment: 'b', outcome: 'c', common_cause: 'c'}, \n",
    "              outcome=outcome, \n",
    "              dot_graph=data['dot_graph'],\n",
    "              proceed_when_unidentifiable=True)\n"
   ]
  },
  {
   "cell_type": "code",
   "execution_count": 6,
   "metadata": {
    "execution": {
     "iopub.execute_input": "2022-11-22T16:56:01.024159Z",
     "iopub.status.busy": "2022-11-22T16:56:01.023907Z",
     "iopub.status.idle": "2022-11-22T16:56:01.036121Z",
     "shell.execute_reply": "2022-11-22T16:56:01.035460Z"
    },
    "scrolled": true
   },
   "outputs": [
    {
     "data": {
      "text/html": [
       "<div>\n",
       "<style scoped>\n",
       "    .dataframe tbody tr th:only-of-type {\n",
       "        vertical-align: middle;\n",
       "    }\n",
       "\n",
       "    .dataframe tbody tr th {\n",
       "        vertical-align: top;\n",
       "    }\n",
       "\n",
       "    .dataframe thead th {\n",
       "        text-align: right;\n",
       "    }\n",
       "</style>\n",
       "<table border=\"1\" class=\"dataframe\">\n",
       "  <thead>\n",
       "    <tr style=\"text-align: right;\">\n",
       "      <th></th>\n",
       "      <th>W0</th>\n",
       "      <th>v0</th>\n",
       "      <th>y</th>\n",
       "      <th>propensity_score</th>\n",
       "      <th>weight</th>\n",
       "    </tr>\n",
       "  </thead>\n",
       "  <tbody>\n",
       "    <tr>\n",
       "      <th>0</th>\n",
       "      <td>-1.047703</td>\n",
       "      <td>False</td>\n",
       "      <td>-2.415828</td>\n",
       "      <td>0.751742</td>\n",
       "      <td>1.330244</td>\n",
       "    </tr>\n",
       "    <tr>\n",
       "      <th>1</th>\n",
       "      <td>-1.724963</td>\n",
       "      <td>False</td>\n",
       "      <td>-2.344152</td>\n",
       "      <td>0.871566</td>\n",
       "      <td>1.147360</td>\n",
       "    </tr>\n",
       "    <tr>\n",
       "      <th>2</th>\n",
       "      <td>-0.581874</td>\n",
       "      <td>False</td>\n",
       "      <td>-0.405660</td>\n",
       "      <td>0.634806</td>\n",
       "      <td>1.575284</td>\n",
       "    </tr>\n",
       "    <tr>\n",
       "      <th>3</th>\n",
       "      <td>-1.049929</td>\n",
       "      <td>False</td>\n",
       "      <td>-1.634423</td>\n",
       "      <td>0.752236</td>\n",
       "      <td>1.329369</td>\n",
       "    </tr>\n",
       "    <tr>\n",
       "      <th>4</th>\n",
       "      <td>-0.714619</td>\n",
       "      <td>False</td>\n",
       "      <td>-2.909711</td>\n",
       "      <td>0.670634</td>\n",
       "      <td>1.491125</td>\n",
       "    </tr>\n",
       "    <tr>\n",
       "      <th>...</th>\n",
       "      <td>...</td>\n",
       "      <td>...</td>\n",
       "      <td>...</td>\n",
       "      <td>...</td>\n",
       "      <td>...</td>\n",
       "    </tr>\n",
       "    <tr>\n",
       "      <th>995</th>\n",
       "      <td>0.696633</td>\n",
       "      <td>False</td>\n",
       "      <td>0.230988</td>\n",
       "      <td>0.274792</td>\n",
       "      <td>3.639116</td>\n",
       "    </tr>\n",
       "    <tr>\n",
       "      <th>996</th>\n",
       "      <td>2.047079</td>\n",
       "      <td>False</td>\n",
       "      <td>5.353177</td>\n",
       "      <td>0.070470</td>\n",
       "      <td>14.190451</td>\n",
       "    </tr>\n",
       "    <tr>\n",
       "      <th>997</th>\n",
       "      <td>0.710578</td>\n",
       "      <td>False</td>\n",
       "      <td>1.868756</td>\n",
       "      <td>0.271493</td>\n",
       "      <td>3.683333</td>\n",
       "    </tr>\n",
       "    <tr>\n",
       "      <th>998</th>\n",
       "      <td>-1.501589</td>\n",
       "      <td>False</td>\n",
       "      <td>-1.671420</td>\n",
       "      <td>0.838719</td>\n",
       "      <td>1.192295</td>\n",
       "    </tr>\n",
       "    <tr>\n",
       "      <th>999</th>\n",
       "      <td>1.128323</td>\n",
       "      <td>False</td>\n",
       "      <td>0.626769</td>\n",
       "      <td>0.184703</td>\n",
       "      <td>5.414085</td>\n",
       "    </tr>\n",
       "  </tbody>\n",
       "</table>\n",
       "<p>1000 rows × 5 columns</p>\n",
       "</div>"
      ],
      "text/plain": [
       "           W0     v0         y  propensity_score     weight\n",
       "0   -1.047703  False -2.415828          0.751742   1.330244\n",
       "1   -1.724963  False -2.344152          0.871566   1.147360\n",
       "2   -0.581874  False -0.405660          0.634806   1.575284\n",
       "3   -1.049929  False -1.634423          0.752236   1.329369\n",
       "4   -0.714619  False -2.909711          0.670634   1.491125\n",
       "..        ...    ...       ...               ...        ...\n",
       "995  0.696633  False  0.230988          0.274792   3.639116\n",
       "996  2.047079  False  5.353177          0.070470  14.190451\n",
       "997  0.710578  False  1.868756          0.271493   3.683333\n",
       "998 -1.501589  False -1.671420          0.838719   1.192295\n",
       "999  1.128323  False  0.626769          0.184703   5.414085\n",
       "\n",
       "[1000 rows x 5 columns]"
      ]
     },
     "execution_count": 6,
     "metadata": {},
     "output_type": "execute_result"
    }
   ],
   "source": [
    "cdf_0"
   ]
  },
  {
   "cell_type": "code",
   "execution_count": 7,
   "metadata": {
    "execution": {
     "iopub.execute_input": "2022-11-22T16:56:01.039759Z",
     "iopub.status.busy": "2022-11-22T16:56:01.039363Z",
     "iopub.status.idle": "2022-11-22T16:56:01.051682Z",
     "shell.execute_reply": "2022-11-22T16:56:01.050507Z"
    }
   },
   "outputs": [
    {
     "data": {
      "text/html": [
       "<div>\n",
       "<style scoped>\n",
       "    .dataframe tbody tr th:only-of-type {\n",
       "        vertical-align: middle;\n",
       "    }\n",
       "\n",
       "    .dataframe tbody tr th {\n",
       "        vertical-align: top;\n",
       "    }\n",
       "\n",
       "    .dataframe thead th {\n",
       "        text-align: right;\n",
       "    }\n",
       "</style>\n",
       "<table border=\"1\" class=\"dataframe\">\n",
       "  <thead>\n",
       "    <tr style=\"text-align: right;\">\n",
       "      <th></th>\n",
       "      <th>W0</th>\n",
       "      <th>v0</th>\n",
       "      <th>y</th>\n",
       "      <th>propensity_score</th>\n",
       "      <th>weight</th>\n",
       "    </tr>\n",
       "  </thead>\n",
       "  <tbody>\n",
       "    <tr>\n",
       "      <th>0</th>\n",
       "      <td>-0.224450</td>\n",
       "      <td>True</td>\n",
       "      <td>3.947551</td>\n",
       "      <td>0.468287</td>\n",
       "      <td>2.135442</td>\n",
       "    </tr>\n",
       "    <tr>\n",
       "      <th>1</th>\n",
       "      <td>-0.970893</td>\n",
       "      <td>True</td>\n",
       "      <td>1.012214</td>\n",
       "      <td>0.265728</td>\n",
       "      <td>3.763242</td>\n",
       "    </tr>\n",
       "    <tr>\n",
       "      <th>2</th>\n",
       "      <td>-2.597438</td>\n",
       "      <td>True</td>\n",
       "      <td>-0.455391</td>\n",
       "      <td>0.049528</td>\n",
       "      <td>20.190702</td>\n",
       "    </tr>\n",
       "    <tr>\n",
       "      <th>3</th>\n",
       "      <td>0.085176</td>\n",
       "      <td>True</td>\n",
       "      <td>6.946329</td>\n",
       "      <td>0.560181</td>\n",
       "      <td>1.785138</td>\n",
       "    </tr>\n",
       "    <tr>\n",
       "      <th>4</th>\n",
       "      <td>0.112593</td>\n",
       "      <td>True</td>\n",
       "      <td>5.026265</td>\n",
       "      <td>0.568213</td>\n",
       "      <td>1.759904</td>\n",
       "    </tr>\n",
       "    <tr>\n",
       "      <th>...</th>\n",
       "      <td>...</td>\n",
       "      <td>...</td>\n",
       "      <td>...</td>\n",
       "      <td>...</td>\n",
       "      <td>...</td>\n",
       "    </tr>\n",
       "    <tr>\n",
       "      <th>995</th>\n",
       "      <td>-0.733617</td>\n",
       "      <td>True</td>\n",
       "      <td>5.623811</td>\n",
       "      <td>0.324385</td>\n",
       "      <td>3.082757</td>\n",
       "    </tr>\n",
       "    <tr>\n",
       "      <th>996</th>\n",
       "      <td>1.466482</td>\n",
       "      <td>True</td>\n",
       "      <td>7.483716</td>\n",
       "      <td>0.868495</td>\n",
       "      <td>1.151417</td>\n",
       "    </tr>\n",
       "    <tr>\n",
       "      <th>997</th>\n",
       "      <td>1.282823</td>\n",
       "      <td>True</td>\n",
       "      <td>6.986208</td>\n",
       "      <td>0.841427</td>\n",
       "      <td>1.188457</td>\n",
       "    </tr>\n",
       "    <tr>\n",
       "      <th>998</th>\n",
       "      <td>1.160538</td>\n",
       "      <td>True</td>\n",
       "      <td>6.755879</td>\n",
       "      <td>0.821007</td>\n",
       "      <td>1.218017</td>\n",
       "    </tr>\n",
       "    <tr>\n",
       "      <th>999</th>\n",
       "      <td>0.307235</td>\n",
       "      <td>True</td>\n",
       "      <td>4.642218</td>\n",
       "      <td>0.623980</td>\n",
       "      <td>1.602614</td>\n",
       "    </tr>\n",
       "  </tbody>\n",
       "</table>\n",
       "<p>1000 rows × 5 columns</p>\n",
       "</div>"
      ],
      "text/plain": [
       "           W0    v0         y  propensity_score     weight\n",
       "0   -0.224450  True  3.947551          0.468287   2.135442\n",
       "1   -0.970893  True  1.012214          0.265728   3.763242\n",
       "2   -2.597438  True -0.455391          0.049528  20.190702\n",
       "3    0.085176  True  6.946329          0.560181   1.785138\n",
       "4    0.112593  True  5.026265          0.568213   1.759904\n",
       "..        ...   ...       ...               ...        ...\n",
       "995 -0.733617  True  5.623811          0.324385   3.082757\n",
       "996  1.466482  True  7.483716          0.868495   1.151417\n",
       "997  1.282823  True  6.986208          0.841427   1.188457\n",
       "998  1.160538  True  6.755879          0.821007   1.218017\n",
       "999  0.307235  True  4.642218          0.623980   1.602614\n",
       "\n",
       "[1000 rows x 5 columns]"
      ]
     },
     "execution_count": 7,
     "metadata": {},
     "output_type": "execute_result"
    }
   ],
   "source": [
    "cdf_1"
   ]
  },
  {
   "cell_type": "markdown",
   "metadata": {},
   "source": [
    "## Comparing the estimate to Linear Regression\n",
    "First, estimating the effect using the causal data frame, and the 95% confidence interval."
   ]
  },
  {
   "cell_type": "code",
   "execution_count": 8,
   "metadata": {
    "execution": {
     "iopub.execute_input": "2022-11-22T16:56:01.055437Z",
     "iopub.status.busy": "2022-11-22T16:56:01.055060Z",
     "iopub.status.idle": "2022-11-22T16:56:01.121404Z",
     "shell.execute_reply": "2022-11-22T16:56:01.120074Z"
    }
   },
   "outputs": [
    {
     "data": {
      "image/png": "[encoded data removed]",
      "text/latex": [
       "$\\displaystyle 4.96386817752943$"
      ],
      "text/plain": [
       "4.963868177529432"
      ]
     },
     "execution_count": 8,
     "metadata": {},
     "output_type": "execute_result"
    }
   ],
   "source": [
    "(cdf_1['y'] - cdf_0['y']).mean()"
   ]
  },
  {
   "cell_type": "code",
   "execution_count": 9,
   "metadata": {
    "execution": {
     "iopub.execute_input": "2022-11-22T16:56:01.124846Z",
     "iopub.status.busy": "2022-11-22T16:56:01.124482Z",
     "iopub.status.idle": "2022-11-22T16:56:01.149912Z",
     "shell.execute_reply": "2022-11-22T16:56:01.149048Z"
    }
   },
   "outputs": [
    {
     "data": {
      "image/png": "[encoded data removed]",
      "text/latex": [
       "$\\displaystyle 0.193986933054602$"
      ],
      "text/plain": [
       "0.19398693305460238"
      ]
     },
     "execution_count": 9,
     "metadata": {},
     "output_type": "execute_result"
    }
   ],
   "source": [
    "1.96*(cdf_1['y'] - cdf_0['y']).std() / np.sqrt(len(df))"
   ]
  },
  {
   "cell_type": "markdown",
   "metadata": {},
   "source": [
    "Comparing to the estimate from OLS."
   ]
  },
  {
   "cell_type": "code",
   "execution_count": 10,
   "metadata": {
    "execution": {
     "iopub.execute_input": "2022-11-22T16:56:01.153962Z",
     "iopub.status.busy": "2022-11-22T16:56:01.153527Z",
     "iopub.status.idle": "2022-11-22T16:56:01.175032Z",
     "shell.execute_reply": "2022-11-22T16:56:01.173967Z"
    }
   },
   "outputs": [
    {
     "data": {
      "text/html": [
       "<table class=\"simpletable\">\n",
       "<caption>OLS Regression Results</caption>\n",
       "<tr>\n",
       "  <th>Dep. Variable:</th>            <td>y</td>        <th>  R-squared (uncentered):</th>      <td>   0.964</td> \n",
       "</tr>\n",
       "<tr>\n",
       "  <th>Model:</th>                   <td>OLS</td>       <th>  Adj. R-squared (uncentered):</th> <td>   0.963</td> \n",
       "</tr>\n",
       "<tr>\n",
       "  <th>Method:</th>             <td>Least Squares</td>  <th>  F-statistic:       </th>          <td>1.319e+04</td>\n",
       "</tr>\n",
       "<tr>\n",
       "  <th>Date:</th>             <td>Tue, 22 Nov 2022</td> <th>  Prob (F-statistic):</th>           <td>  0.00</td>  \n",
       "</tr>\n",
       "<tr>\n",
       "  <th>Time:</th>                 <td>16:56:01</td>     <th>  Log-Likelihood:    </th>          <td> -1424.3</td> \n",
       "</tr>\n",
       "<tr>\n",
       "  <th>No. Observations:</th>      <td>  1000</td>      <th>  AIC:               </th>          <td>   2853.</td> \n",
       "</tr>\n",
       "<tr>\n",
       "  <th>Df Residuals:</th>          <td>   998</td>      <th>  BIC:               </th>          <td>   2862.</td> \n",
       "</tr>\n",
       "<tr>\n",
       "  <th>Df Model:</th>              <td>     2</td>      <th>                     </th>              <td> </td>    \n",
       "</tr>\n",
       "<tr>\n",
       "  <th>Covariance Type:</th>      <td>nonrobust</td>    <th>                     </th>              <td> </td>    \n",
       "</tr>\n",
       "</table>\n",
       "<table class=\"simpletable\">\n",
       "<tr>\n",
       "   <td></td>     <th>coef</th>     <th>std err</th>      <th>t</th>      <th>P>|t|</th>  <th>[0.025</th>    <th>0.975]</th>  \n",
       "</tr>\n",
       "<tr>\n",
       "  <th>x1</th> <td>    2.0192</td> <td>    0.035</td> <td>   56.887</td> <td> 0.000</td> <td>    1.950</td> <td>    2.089</td>\n",
       "</tr>\n",
       "<tr>\n",
       "  <th>x2</th> <td>    4.9670</td> <td>    0.047</td> <td>  104.646</td> <td> 0.000</td> <td>    4.874</td> <td>    5.060</td>\n",
       "</tr>\n",
       "</table>\n",
       "<table class=\"simpletable\">\n",
       "<tr>\n",
       "  <th>Omnibus:</th>       <td> 2.898</td> <th>  Durbin-Watson:     </th> <td>   2.031</td>\n",
       "</tr>\n",
       "<tr>\n",
       "  <th>Prob(Omnibus):</th> <td> 0.235</td> <th>  Jarque-Bera (JB):  </th> <td>   2.931</td>\n",
       "</tr>\n",
       "<tr>\n",
       "  <th>Skew:</th>          <td>-0.110</td> <th>  Prob(JB):          </th> <td>   0.231</td>\n",
       "</tr>\n",
       "<tr>\n",
       "  <th>Kurtosis:</th>      <td> 2.851</td> <th>  Cond. No.          </th> <td>    1.85</td>\n",
       "</tr>\n",
       "</table><br/><br/>Notes:<br/>[1] R² is computed without centering (uncentered) since the model does not contain a constant.<br/>[2] Standard Errors assume that the covariance matrix of the errors is correctly specified."
      ],
      "text/plain": [
       "<class 'statsmodels.iolib.summary.Summary'>\n",
       "\"\"\"\n",
       "                                 OLS Regression Results                                \n",
       "=======================================================================================\n",
       "Dep. Variable:                      y   R-squared (uncentered):                   0.964\n",
       "Model:                            OLS   Adj. R-squared (uncentered):              0.963\n",
       "Method:                 Least Squares   F-statistic:                          1.319e+04\n",
       "Date:                Tue, 22 Nov 2022   Prob (F-statistic):                        0.00\n",
       "Time:                        16:56:01   Log-Likelihood:                         -1424.3\n",
       "No. Observations:                1000   AIC:                                      2853.\n",
       "Df Residuals:                     998   BIC:                                      2862.\n",
       "Df Model:                           2                                                  \n",
       "Covariance Type:            nonrobust                                                  \n",
       "==============================================================================\n",
       "                 coef    std err          t      P>|t|      [0.025      0.975]\n",
       "------------------------------------------------------------------------------\n",
       "x1             2.0192      0.035     56.887      0.000       1.950       2.089\n",
       "x2             4.9670      0.047    104.646      0.000       4.874       5.060\n",
       "==============================================================================\n",
       "Omnibus:                        2.898   Durbin-Watson:                   2.031\n",
       "Prob(Omnibus):                  0.235   Jarque-Bera (JB):                2.931\n",
       "Skew:                          -0.110   Prob(JB):                        0.231\n",
       "Kurtosis:                       2.851   Cond. No.                         1.85\n",
       "==============================================================================\n",
       "\n",
       "Notes:\n",
       "[1] R² is computed without centering (uncentered) since the model does not contain a constant.\n",
       "[2] Standard Errors assume that the covariance matrix of the errors is correctly specified.\n",
       "\"\"\""
      ]
     },
     "execution_count": 10,
     "metadata": {},
     "output_type": "execute_result"
    }
   ],
   "source": [
    "model = OLS(np.asarray(df[outcome]), np.asarray(df[[common_cause, treatment]], dtype=np.float64))\n",
    "result = model.fit()\n",
    "result.summary()"
   ]
  }
 ],
 "metadata": {
  "kernelspec": {
   "display_name": "Python 3",
   "language": "python",
   "name": "python3"
  },
  "language_info": {
   "codemirror_mode": {
    "name": "ipython",
    "version": 3
   },
   "file_extension": ".py",
   "mimetype": "text/x-python",
   "name": "python",
   "nbconvert_exporter": "python",
   "pygments_lexer": "ipython3",
   "version": "3.8.10"
  },
  "toc": {
   "base_numbering": 1,
   "nav_menu": {},
   "number_sections": false,
   "sideBar": true,
   "skip_h1_title": true,
   "title_cell": "Table of Contents",
   "title_sidebar": "Contents",
   "toc_cell": false,
   "toc_position": {},
   "toc_section_display": true,
   "toc_window_display": false
  }
 },
 "nbformat": 4,
 "nbformat_minor": 4
}
