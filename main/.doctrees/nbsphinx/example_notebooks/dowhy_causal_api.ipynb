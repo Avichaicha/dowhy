{
 "cells": [
  {
   "cell_type": "markdown",
   "metadata": {},
   "source": [
    "# Demo for the DoWhy causal API\n",
    "We show a simple example of adding a causal extension to any dataframe. "
   ]
  },
  {
   "cell_type": "code",
   "execution_count": 1,
   "metadata": {
    "execution": {
     "iopub.execute_input": "2022-09-02T00:36:34.027293Z",
     "iopub.status.busy": "2022-09-02T00:36:34.026728Z",
     "iopub.status.idle": "2022-09-02T00:36:35.414940Z",
     "shell.execute_reply": "2022-09-02T00:36:35.414098Z"
    }
   },
   "outputs": [],
   "source": [
    "import dowhy.datasets\n",
    "import dowhy.api\n",
    "\n",
    "import numpy as np\n",
    "import pandas as pd\n",
    "\n",
    "from statsmodels.api import OLS"
   ]
  },
  {
   "cell_type": "code",
   "execution_count": 2,
   "metadata": {
    "execution": {
     "iopub.execute_input": "2022-09-02T00:36:35.419228Z",
     "iopub.status.busy": "2022-09-02T00:36:35.418611Z",
     "iopub.status.idle": "2022-09-02T00:36:35.469123Z",
     "shell.execute_reply": "2022-09-02T00:36:35.467473Z"
    }
   },
   "outputs": [
    {
     "data": {
      "text/html": [
       "<div>\n",
       "<style scoped>\n",
       "    .dataframe tbody tr th:only-of-type {\n",
       "        vertical-align: middle;\n",
       "    }\n",
       "\n",
       "    .dataframe tbody tr th {\n",
       "        vertical-align: top;\n",
       "    }\n",
       "\n",
       "    .dataframe thead th {\n",
       "        text-align: right;\n",
       "    }\n",
       "</style>\n",
       "<table border=\"1\" class=\"dataframe\">\n",
       "  <thead>\n",
       "    <tr style=\"text-align: right;\">\n",
       "      <th></th>\n",
       "      <th>W0</th>\n",
       "      <th>v0</th>\n",
       "      <th>y</th>\n",
       "    </tr>\n",
       "  </thead>\n",
       "  <tbody>\n",
       "    <tr>\n",
       "      <th>0</th>\n",
       "      <td>0.645309</td>\n",
       "      <td>False</td>\n",
       "      <td>-0.655669</td>\n",
       "    </tr>\n",
       "    <tr>\n",
       "      <th>1</th>\n",
       "      <td>-1.290024</td>\n",
       "      <td>False</td>\n",
       "      <td>0.897509</td>\n",
       "    </tr>\n",
       "    <tr>\n",
       "      <th>2</th>\n",
       "      <td>-0.516777</td>\n",
       "      <td>True</td>\n",
       "      <td>3.997399</td>\n",
       "    </tr>\n",
       "    <tr>\n",
       "      <th>3</th>\n",
       "      <td>-1.182173</td>\n",
       "      <td>False</td>\n",
       "      <td>1.066280</td>\n",
       "    </tr>\n",
       "    <tr>\n",
       "      <th>4</th>\n",
       "      <td>-0.110748</td>\n",
       "      <td>False</td>\n",
       "      <td>-0.296572</td>\n",
       "    </tr>\n",
       "    <tr>\n",
       "      <th>...</th>\n",
       "      <td>...</td>\n",
       "      <td>...</td>\n",
       "      <td>...</td>\n",
       "    </tr>\n",
       "    <tr>\n",
       "      <th>995</th>\n",
       "      <td>-0.984761</td>\n",
       "      <td>False</td>\n",
       "      <td>-2.126056</td>\n",
       "    </tr>\n",
       "    <tr>\n",
       "      <th>996</th>\n",
       "      <td>-2.216479</td>\n",
       "      <td>False</td>\n",
       "      <td>-1.178628</td>\n",
       "    </tr>\n",
       "    <tr>\n",
       "      <th>997</th>\n",
       "      <td>-0.157410</td>\n",
       "      <td>False</td>\n",
       "      <td>-0.535397</td>\n",
       "    </tr>\n",
       "    <tr>\n",
       "      <th>998</th>\n",
       "      <td>0.795193</td>\n",
       "      <td>True</td>\n",
       "      <td>5.496686</td>\n",
       "    </tr>\n",
       "    <tr>\n",
       "      <th>999</th>\n",
       "      <td>0.867856</td>\n",
       "      <td>True</td>\n",
       "      <td>5.155275</td>\n",
       "    </tr>\n",
       "  </tbody>\n",
       "</table>\n",
       "<p>1000 rows × 3 columns</p>\n",
       "</div>"
      ],
      "text/plain": [
       "           W0     v0         y\n",
       "0    0.645309  False -0.655669\n",
       "1   -1.290024  False  0.897509\n",
       "2   -0.516777   True  3.997399\n",
       "3   -1.182173  False  1.066280\n",
       "4   -0.110748  False -0.296572\n",
       "..        ...    ...       ...\n",
       "995 -0.984761  False -2.126056\n",
       "996 -2.216479  False -1.178628\n",
       "997 -0.157410  False -0.535397\n",
       "998  0.795193   True  5.496686\n",
       "999  0.867856   True  5.155275\n",
       "\n",
       "[1000 rows x 3 columns]"
      ]
     },
     "execution_count": 2,
     "metadata": {},
     "output_type": "execute_result"
    }
   ],
   "source": [
    "data = dowhy.datasets.linear_dataset(beta=5,\n",
    "        num_common_causes=1,\n",
    "        num_instruments = 0,\n",
    "        num_samples=1000,\n",
    "        treatment_is_binary=True)\n",
    "df = data['df']\n",
    "df['y'] = df['y'] + np.random.normal(size=len(df)) # Adding noise to data. Without noise, the variance in Y|X, Z is zero, and mcmc fails.\n",
    "#data['dot_graph'] = 'digraph { v ->y;X0-> v;X0-> y;}'\n",
    "\n",
    "treatment= data[\"treatment_name\"][0]\n",
    "outcome = data[\"outcome_name\"][0]\n",
    "common_cause = data[\"common_causes_names\"][0]\n",
    "df"
   ]
  },
  {
   "cell_type": "code",
   "execution_count": 3,
   "metadata": {
    "execution": {
     "iopub.execute_input": "2022-09-02T00:36:35.472838Z",
     "iopub.status.busy": "2022-09-02T00:36:35.472436Z",
     "iopub.status.idle": "2022-09-02T00:36:36.377098Z",
     "shell.execute_reply": "2022-09-02T00:36:36.376415Z"
    }
   },
   "outputs": [
    {
     "data": {
      "text/plain": [
       "<AxesSubplot:xlabel='v0'>"
      ]
     },
     "execution_count": 3,
     "metadata": {},
     "output_type": "execute_result"
    },
    {
     "data": {
      "image/png": "[encoded data removed]",
      "text/plain": [
       "<Figure size 640x480 with 1 Axes>"
      ]
     },
     "metadata": {},
     "output_type": "display_data"
    }
   ],
   "source": [
    "# data['df'] is just a regular pandas.DataFrame\n",
    "df.causal.do(x=treatment,\n",
    "                     variable_types={treatment: 'b', outcome: 'c', common_cause: 'c'},\n",
    "                     outcome=outcome,\n",
    "                     common_causes=[common_cause],\n",
    "                     proceed_when_unidentifiable=True).groupby(treatment).mean().plot(y=outcome, kind='bar')"
   ]
  },
  {
   "cell_type": "code",
   "execution_count": 4,
   "metadata": {
    "execution": {
     "iopub.execute_input": "2022-09-02T00:36:36.381301Z",
     "iopub.status.busy": "2022-09-02T00:36:36.380670Z",
     "iopub.status.idle": "2022-09-02T00:36:36.503162Z",
     "shell.execute_reply": "2022-09-02T00:36:36.502509Z"
    }
   },
   "outputs": [
    {
     "data": {
      "text/plain": [
       "<AxesSubplot:xlabel='v0'>"
      ]
     },
     "execution_count": 4,
     "metadata": {},
     "output_type": "execute_result"
    },
    {
     "data": {
      "image/png": "[encoded data removed]",
      "text/plain": [
       "<Figure size 640x480 with 1 Axes>"
      ]
     },
     "metadata": {},
     "output_type": "display_data"
    }
   ],
   "source": [
    "df.causal.do(x={treatment: 1}, \n",
    "              variable_types={treatment:'b', outcome: 'c', common_cause: 'c'}, \n",
    "              outcome=outcome,\n",
    "              method='weighting', \n",
    "              common_causes=[common_cause],\n",
    "              proceed_when_unidentifiable=True).groupby(treatment).mean().plot(y=outcome, kind='bar')"
   ]
  },
  {
   "cell_type": "code",
   "execution_count": 5,
   "metadata": {
    "execution": {
     "iopub.execute_input": "2022-09-02T00:36:36.506495Z",
     "iopub.status.busy": "2022-09-02T00:36:36.506060Z",
     "iopub.status.idle": "2022-09-02T00:36:36.544041Z",
     "shell.execute_reply": "2022-09-02T00:36:36.543237Z"
    }
   },
   "outputs": [],
   "source": [
    "cdf_1 = df.causal.do(x={treatment: 1}, \n",
    "              variable_types={treatment: 'b', outcome: 'c', common_cause: 'c'}, \n",
    "              outcome=outcome, \n",
    "              dot_graph=data['dot_graph'],\n",
    "              proceed_when_unidentifiable=True)\n",
    "\n",
    "cdf_0 = df.causal.do(x={treatment: 0}, \n",
    "              variable_types={treatment: 'b', outcome: 'c', common_cause: 'c'}, \n",
    "              outcome=outcome, \n",
    "              dot_graph=data['dot_graph'],\n",
    "              proceed_when_unidentifiable=True)\n"
   ]
  },
  {
   "cell_type": "code",
   "execution_count": 6,
   "metadata": {
    "execution": {
     "iopub.execute_input": "2022-09-02T00:36:36.548553Z",
     "iopub.status.busy": "2022-09-02T00:36:36.547869Z",
     "iopub.status.idle": "2022-09-02T00:36:36.561580Z",
     "shell.execute_reply": "2022-09-02T00:36:36.560838Z"
    },
    "scrolled": true
   },
   "outputs": [
    {
     "data": {
      "text/html": [
       "<div>\n",
       "<style scoped>\n",
       "    .dataframe tbody tr th:only-of-type {\n",
       "        vertical-align: middle;\n",
       "    }\n",
       "\n",
       "    .dataframe tbody tr th {\n",
       "        vertical-align: top;\n",
       "    }\n",
       "\n",
       "    .dataframe thead th {\n",
       "        text-align: right;\n",
       "    }\n",
       "</style>\n",
       "<table border=\"1\" class=\"dataframe\">\n",
       "  <thead>\n",
       "    <tr style=\"text-align: right;\">\n",
       "      <th></th>\n",
       "      <th>W0</th>\n",
       "      <th>v0</th>\n",
       "      <th>y</th>\n",
       "      <th>propensity_score</th>\n",
       "      <th>weight</th>\n",
       "    </tr>\n",
       "  </thead>\n",
       "  <tbody>\n",
       "    <tr>\n",
       "      <th>0</th>\n",
       "      <td>-2.290722</td>\n",
       "      <td>False</td>\n",
       "      <td>-0.694540</td>\n",
       "      <td>0.990941</td>\n",
       "      <td>1.009142</td>\n",
       "    </tr>\n",
       "    <tr>\n",
       "      <th>1</th>\n",
       "      <td>-1.661686</td>\n",
       "      <td>False</td>\n",
       "      <td>-0.982968</td>\n",
       "      <td>0.967802</td>\n",
       "      <td>1.033269</td>\n",
       "    </tr>\n",
       "    <tr>\n",
       "      <th>2</th>\n",
       "      <td>-1.862345</td>\n",
       "      <td>False</td>\n",
       "      <td>-1.569662</td>\n",
       "      <td>0.978442</td>\n",
       "      <td>1.022033</td>\n",
       "    </tr>\n",
       "    <tr>\n",
       "      <th>3</th>\n",
       "      <td>-2.017421</td>\n",
       "      <td>False</td>\n",
       "      <td>-1.584337</td>\n",
       "      <td>0.984229</td>\n",
       "      <td>1.016024</td>\n",
       "    </tr>\n",
       "    <tr>\n",
       "      <th>4</th>\n",
       "      <td>-1.984946</td>\n",
       "      <td>False</td>\n",
       "      <td>0.120211</td>\n",
       "      <td>0.983159</td>\n",
       "      <td>1.017129</td>\n",
       "    </tr>\n",
       "    <tr>\n",
       "      <th>...</th>\n",
       "      <td>...</td>\n",
       "      <td>...</td>\n",
       "      <td>...</td>\n",
       "      <td>...</td>\n",
       "      <td>...</td>\n",
       "    </tr>\n",
       "    <tr>\n",
       "      <th>995</th>\n",
       "      <td>-0.166894</td>\n",
       "      <td>False</td>\n",
       "      <td>0.634041</td>\n",
       "      <td>0.582593</td>\n",
       "      <td>1.716465</td>\n",
       "    </tr>\n",
       "    <tr>\n",
       "      <th>996</th>\n",
       "      <td>-0.055916</td>\n",
       "      <td>False</td>\n",
       "      <td>-0.886246</td>\n",
       "      <td>0.526356</td>\n",
       "      <td>1.899856</td>\n",
       "    </tr>\n",
       "    <tr>\n",
       "      <th>997</th>\n",
       "      <td>-1.149622</td>\n",
       "      <td>False</td>\n",
       "      <td>-0.273393</td>\n",
       "      <td>0.913058</td>\n",
       "      <td>1.095221</td>\n",
       "    </tr>\n",
       "    <tr>\n",
       "      <th>998</th>\n",
       "      <td>-1.705399</td>\n",
       "      <td>False</td>\n",
       "      <td>-2.125338</td>\n",
       "      <td>0.970485</td>\n",
       "      <td>1.030413</td>\n",
       "    </tr>\n",
       "    <tr>\n",
       "      <th>999</th>\n",
       "      <td>-0.142913</td>\n",
       "      <td>False</td>\n",
       "      <td>0.329076</td>\n",
       "      <td>0.570570</td>\n",
       "      <td>1.752633</td>\n",
       "    </tr>\n",
       "  </tbody>\n",
       "</table>\n",
       "<p>1000 rows × 5 columns</p>\n",
       "</div>"
      ],
      "text/plain": [
       "           W0     v0         y  propensity_score    weight\n",
       "0   -2.290722  False -0.694540          0.990941  1.009142\n",
       "1   -1.661686  False -0.982968          0.967802  1.033269\n",
       "2   -1.862345  False -1.569662          0.978442  1.022033\n",
       "3   -2.017421  False -1.584337          0.984229  1.016024\n",
       "4   -1.984946  False  0.120211          0.983159  1.017129\n",
       "..        ...    ...       ...               ...       ...\n",
       "995 -0.166894  False  0.634041          0.582593  1.716465\n",
       "996 -0.055916  False -0.886246          0.526356  1.899856\n",
       "997 -1.149622  False -0.273393          0.913058  1.095221\n",
       "998 -1.705399  False -2.125338          0.970485  1.030413\n",
       "999 -0.142913  False  0.329076          0.570570  1.752633\n",
       "\n",
       "[1000 rows x 5 columns]"
      ]
     },
     "execution_count": 6,
     "metadata": {},
     "output_type": "execute_result"
    }
   ],
   "source": [
    "cdf_0"
   ]
  },
  {
   "cell_type": "code",
   "execution_count": 7,
   "metadata": {
    "execution": {
     "iopub.execute_input": "2022-09-02T00:36:36.565028Z",
     "iopub.status.busy": "2022-09-02T00:36:36.564499Z",
     "iopub.status.idle": "2022-09-02T00:36:36.576525Z",
     "shell.execute_reply": "2022-09-02T00:36:36.575778Z"
    }
   },
   "outputs": [
    {
     "data": {
      "text/html": [
       "<div>\n",
       "<style scoped>\n",
       "    .dataframe tbody tr th:only-of-type {\n",
       "        vertical-align: middle;\n",
       "    }\n",
       "\n",
       "    .dataframe tbody tr th {\n",
       "        vertical-align: top;\n",
       "    }\n",
       "\n",
       "    .dataframe thead th {\n",
       "        text-align: right;\n",
       "    }\n",
       "</style>\n",
       "<table border=\"1\" class=\"dataframe\">\n",
       "  <thead>\n",
       "    <tr style=\"text-align: right;\">\n",
       "      <th></th>\n",
       "      <th>W0</th>\n",
       "      <th>v0</th>\n",
       "      <th>y</th>\n",
       "      <th>propensity_score</th>\n",
       "      <th>weight</th>\n",
       "    </tr>\n",
       "  </thead>\n",
       "  <tbody>\n",
       "    <tr>\n",
       "      <th>0</th>\n",
       "      <td>-1.418827</td>\n",
       "      <td>True</td>\n",
       "      <td>5.748499</td>\n",
       "      <td>0.051937</td>\n",
       "      <td>19.254172</td>\n",
       "    </tr>\n",
       "    <tr>\n",
       "      <th>1</th>\n",
       "      <td>0.164463</td>\n",
       "      <td>True</td>\n",
       "      <td>5.335115</td>\n",
       "      <td>0.585902</td>\n",
       "      <td>1.706771</td>\n",
       "    </tr>\n",
       "    <tr>\n",
       "      <th>2</th>\n",
       "      <td>-0.496322</td>\n",
       "      <td>True</td>\n",
       "      <td>5.600886</td>\n",
       "      <td>0.266992</td>\n",
       "      <td>3.745430</td>\n",
       "    </tr>\n",
       "    <tr>\n",
       "      <th>3</th>\n",
       "      <td>-0.769367</td>\n",
       "      <td>True</td>\n",
       "      <td>4.301246</td>\n",
       "      <td>0.172122</td>\n",
       "      <td>5.809838</td>\n",
       "    </tr>\n",
       "    <tr>\n",
       "      <th>4</th>\n",
       "      <td>-0.037251</td>\n",
       "      <td>True</td>\n",
       "      <td>5.158582</td>\n",
       "      <td>0.483209</td>\n",
       "      <td>2.069500</td>\n",
       "    </tr>\n",
       "    <tr>\n",
       "      <th>...</th>\n",
       "      <td>...</td>\n",
       "      <td>...</td>\n",
       "      <td>...</td>\n",
       "      <td>...</td>\n",
       "      <td>...</td>\n",
       "    </tr>\n",
       "    <tr>\n",
       "      <th>995</th>\n",
       "      <td>-0.604605</td>\n",
       "      <td>True</td>\n",
       "      <td>4.230409</td>\n",
       "      <td>0.225778</td>\n",
       "      <td>4.429134</td>\n",
       "    </tr>\n",
       "    <tr>\n",
       "      <th>996</th>\n",
       "      <td>-1.411608</td>\n",
       "      <td>True</td>\n",
       "      <td>5.585379</td>\n",
       "      <td>0.052672</td>\n",
       "      <td>18.985559</td>\n",
       "    </tr>\n",
       "    <tr>\n",
       "      <th>997</th>\n",
       "      <td>-0.105927</td>\n",
       "      <td>True</td>\n",
       "      <td>4.035850</td>\n",
       "      <td>0.448131</td>\n",
       "      <td>2.231489</td>\n",
       "    </tr>\n",
       "    <tr>\n",
       "      <th>998</th>\n",
       "      <td>0.047382</td>\n",
       "      <td>True</td>\n",
       "      <td>3.984477</td>\n",
       "      <td>0.526628</td>\n",
       "      <td>1.898875</td>\n",
       "    </tr>\n",
       "    <tr>\n",
       "      <th>999</th>\n",
       "      <td>-0.925501</td>\n",
       "      <td>True</td>\n",
       "      <td>4.719504</td>\n",
       "      <td>0.131096</td>\n",
       "      <td>7.627976</td>\n",
       "    </tr>\n",
       "  </tbody>\n",
       "</table>\n",
       "<p>1000 rows × 5 columns</p>\n",
       "</div>"
      ],
      "text/plain": [
       "           W0    v0         y  propensity_score     weight\n",
       "0   -1.418827  True  5.748499          0.051937  19.254172\n",
       "1    0.164463  True  5.335115          0.585902   1.706771\n",
       "2   -0.496322  True  5.600886          0.266992   3.745430\n",
       "3   -0.769367  True  4.301246          0.172122   5.809838\n",
       "4   -0.037251  True  5.158582          0.483209   2.069500\n",
       "..        ...   ...       ...               ...        ...\n",
       "995 -0.604605  True  4.230409          0.225778   4.429134\n",
       "996 -1.411608  True  5.585379          0.052672  18.985559\n",
       "997 -0.105927  True  4.035850          0.448131   2.231489\n",
       "998  0.047382  True  3.984477          0.526628   1.898875\n",
       "999 -0.925501  True  4.719504          0.131096   7.627976\n",
       "\n",
       "[1000 rows x 5 columns]"
      ]
     },
     "execution_count": 7,
     "metadata": {},
     "output_type": "execute_result"
    }
   ],
   "source": [
    "cdf_1"
   ]
  },
  {
   "cell_type": "markdown",
   "metadata": {},
   "source": [
    "## Comparing the estimate to Linear Regression\n",
    "First, estimating the effect using the causal data frame, and the 95% confidence interval."
   ]
  },
  {
   "cell_type": "code",
   "execution_count": 8,
   "metadata": {
    "execution": {
     "iopub.execute_input": "2022-09-02T00:36:36.580106Z",
     "iopub.status.busy": "2022-09-02T00:36:36.579701Z",
     "iopub.status.idle": "2022-09-02T00:36:36.702515Z",
     "shell.execute_reply": "2022-09-02T00:36:36.701350Z"
    }
   },
   "outputs": [
    {
     "data": {
      "image/png": "[encoded data removed]",
      "text/latex": [
       "$\\displaystyle 5.32548758218618$"
      ],
      "text/plain": [
       "5.325487582186184"
      ]
     },
     "execution_count": 8,
     "metadata": {},
     "output_type": "execute_result"
    }
   ],
   "source": [
    "(cdf_1['y'] - cdf_0['y']).mean()"
   ]
  },
  {
   "cell_type": "code",
   "execution_count": 9,
   "metadata": {
    "execution": {
     "iopub.execute_input": "2022-09-02T00:36:36.706579Z",
     "iopub.status.busy": "2022-09-02T00:36:36.706113Z",
     "iopub.status.idle": "2022-09-02T00:36:36.739689Z",
     "shell.execute_reply": "2022-09-02T00:36:36.738843Z"
    }
   },
   "outputs": [
    {
     "data": {
      "image/png": "[encoded data removed]",
      "text/latex": [
       "$\\displaystyle 0.0834586958629688$"
      ],
      "text/plain": [
       "0.08345869586296885"
      ]
     },
     "execution_count": 9,
     "metadata": {},
     "output_type": "execute_result"
    }
   ],
   "source": [
    "1.96*(cdf_1['y'] - cdf_0['y']).std() / np.sqrt(len(df))"
   ]
  },
  {
   "cell_type": "markdown",
   "metadata": {},
   "source": [
    "Comparing to the estimate from OLS."
   ]
  },
  {
   "cell_type": "code",
   "execution_count": 10,
   "metadata": {
    "execution": {
     "iopub.execute_input": "2022-09-02T00:36:36.743707Z",
     "iopub.status.busy": "2022-09-02T00:36:36.742994Z",
     "iopub.status.idle": "2022-09-02T00:36:36.765284Z",
     "shell.execute_reply": "2022-09-02T00:36:36.764577Z"
    }
   },
   "outputs": [
    {
     "data": {
      "text/html": [
       "<table class=\"simpletable\">\n",
       "<caption>OLS Regression Results</caption>\n",
       "<tr>\n",
       "  <th>Dep. Variable:</th>            <td>y</td>        <th>  R-squared (uncentered):</th>      <td>   0.888</td>\n",
       "</tr>\n",
       "<tr>\n",
       "  <th>Model:</th>                   <td>OLS</td>       <th>  Adj. R-squared (uncentered):</th> <td>   0.887</td>\n",
       "</tr>\n",
       "<tr>\n",
       "  <th>Method:</th>             <td>Least Squares</td>  <th>  F-statistic:       </th>          <td>   3938.</td>\n",
       "</tr>\n",
       "<tr>\n",
       "  <th>Date:</th>             <td>Fri, 02 Sep 2022</td> <th>  Prob (F-statistic):</th>           <td>  0.00</td> \n",
       "</tr>\n",
       "<tr>\n",
       "  <th>Time:</th>                 <td>00:36:36</td>     <th>  Log-Likelihood:    </th>          <td> -1374.7</td>\n",
       "</tr>\n",
       "<tr>\n",
       "  <th>No. Observations:</th>      <td>  1000</td>      <th>  AIC:               </th>          <td>   2753.</td>\n",
       "</tr>\n",
       "<tr>\n",
       "  <th>Df Residuals:</th>          <td>   998</td>      <th>  BIC:               </th>          <td>   2763.</td>\n",
       "</tr>\n",
       "<tr>\n",
       "  <th>Df Model:</th>              <td>     2</td>      <th>                     </th>              <td> </td>   \n",
       "</tr>\n",
       "<tr>\n",
       "  <th>Covariance Type:</th>      <td>nonrobust</td>    <th>                     </th>              <td> </td>   \n",
       "</tr>\n",
       "</table>\n",
       "<table class=\"simpletable\">\n",
       "<tr>\n",
       "   <td></td>     <th>coef</th>     <th>std err</th>      <th>t</th>      <th>P>|t|</th>  <th>[0.025</th>    <th>0.975]</th>  \n",
       "</tr>\n",
       "<tr>\n",
       "  <th>x1</th> <td>    0.3600</td> <td>    0.023</td> <td>   15.346</td> <td> 0.000</td> <td>    0.314</td> <td>    0.406</td>\n",
       "</tr>\n",
       "<tr>\n",
       "  <th>x2</th> <td>    4.9378</td> <td>    0.057</td> <td>   86.037</td> <td> 0.000</td> <td>    4.825</td> <td>    5.050</td>\n",
       "</tr>\n",
       "</table>\n",
       "<table class=\"simpletable\">\n",
       "<tr>\n",
       "  <th>Omnibus:</th>       <td> 1.367</td> <th>  Durbin-Watson:     </th> <td>   1.924</td>\n",
       "</tr>\n",
       "<tr>\n",
       "  <th>Prob(Omnibus):</th> <td> 0.505</td> <th>  Jarque-Bera (JB):  </th> <td>   1.387</td>\n",
       "</tr>\n",
       "<tr>\n",
       "  <th>Skew:</th>          <td>-0.042</td> <th>  Prob(JB):          </th> <td>   0.500</td>\n",
       "</tr>\n",
       "<tr>\n",
       "  <th>Kurtosis:</th>      <td> 2.838</td> <th>  Cond. No.          </th> <td>    2.46</td>\n",
       "</tr>\n",
       "</table><br/><br/>Notes:<br/>[1] R² is computed without centering (uncentered) since the model does not contain a constant.<br/>[2] Standard Errors assume that the covariance matrix of the errors is correctly specified."
      ],
      "text/plain": [
       "<class 'statsmodels.iolib.summary.Summary'>\n",
       "\"\"\"\n",
       "                                 OLS Regression Results                                \n",
       "=======================================================================================\n",
       "Dep. Variable:                      y   R-squared (uncentered):                   0.888\n",
       "Model:                            OLS   Adj. R-squared (uncentered):              0.887\n",
       "Method:                 Least Squares   F-statistic:                              3938.\n",
       "Date:                Fri, 02 Sep 2022   Prob (F-statistic):                        0.00\n",
       "Time:                        00:36:36   Log-Likelihood:                         -1374.7\n",
       "No. Observations:                1000   AIC:                                      2753.\n",
       "Df Residuals:                     998   BIC:                                      2763.\n",
       "Df Model:                           2                                                  \n",
       "Covariance Type:            nonrobust                                                  \n",
       "==============================================================================\n",
       "                 coef    std err          t      P>|t|      [0.025      0.975]\n",
       "------------------------------------------------------------------------------\n",
       "x1             0.3600      0.023     15.346      0.000       0.314       0.406\n",
       "x2             4.9378      0.057     86.037      0.000       4.825       5.050\n",
       "==============================================================================\n",
       "Omnibus:                        1.367   Durbin-Watson:                   1.924\n",
       "Prob(Omnibus):                  0.505   Jarque-Bera (JB):                1.387\n",
       "Skew:                          -0.042   Prob(JB):                        0.500\n",
       "Kurtosis:                       2.838   Cond. No.                         2.46\n",
       "==============================================================================\n",
       "\n",
       "Notes:\n",
       "[1] R² is computed without centering (uncentered) since the model does not contain a constant.\n",
       "[2] Standard Errors assume that the covariance matrix of the errors is correctly specified.\n",
       "\"\"\""
      ]
     },
     "execution_count": 10,
     "metadata": {},
     "output_type": "execute_result"
    }
   ],
   "source": [
    "model = OLS(np.asarray(df[outcome]), np.asarray(df[[common_cause, treatment]], dtype=np.float64))\n",
    "result = model.fit()\n",
    "result.summary()"
   ]
  }
 ],
 "metadata": {
  "kernelspec": {
   "display_name": "Python 3",
   "language": "python",
   "name": "python3"
  },
  "language_info": {
   "codemirror_mode": {
    "name": "ipython",
    "version": 3
   },
   "file_extension": ".py",
   "mimetype": "text/x-python",
   "name": "python",
   "nbconvert_exporter": "python",
   "pygments_lexer": "ipython3",
   "version": "3.8.10"
  },
  "toc": {
   "base_numbering": 1,
   "nav_menu": {},
   "number_sections": false,
   "sideBar": true,
   "skip_h1_title": true,
   "title_cell": "Table of Contents",
   "title_sidebar": "Contents",
   "toc_cell": false,
   "toc_position": {},
   "toc_section_display": true,
   "toc_window_display": false
  }
 },
 "nbformat": 4,
 "nbformat_minor": 4
}
