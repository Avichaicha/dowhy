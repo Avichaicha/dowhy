{
 "cells": [
  {
   "cell_type": "markdown",
   "metadata": {},
   "source": [
    "# Demo for the DoWhy causal API\n",
    "We show a simple example of adding a causal extension to any dataframe. "
   ]
  },
  {
   "cell_type": "code",
   "execution_count": 1,
   "metadata": {
    "execution": {
     "iopub.execute_input": "2022-08-20T00:15:07.398875Z",
     "iopub.status.busy": "2022-08-20T00:15:07.398570Z",
     "iopub.status.idle": "2022-08-20T00:15:08.485029Z",
     "shell.execute_reply": "2022-08-20T00:15:08.484333Z"
    }
   },
   "outputs": [],
   "source": [
    "import dowhy.datasets\n",
    "import dowhy.api\n",
    "\n",
    "import numpy as np\n",
    "import pandas as pd\n",
    "\n",
    "from statsmodels.api import OLS"
   ]
  },
  {
   "cell_type": "code",
   "execution_count": 2,
   "metadata": {
    "execution": {
     "iopub.execute_input": "2022-08-20T00:15:08.489273Z",
     "iopub.status.busy": "2022-08-20T00:15:08.488751Z",
     "iopub.status.idle": "2022-08-20T00:15:08.534367Z",
     "shell.execute_reply": "2022-08-20T00:15:08.533726Z"
    }
   },
   "outputs": [
    {
     "data": {
      "text/html": [
       "<div>\n",
       "<style scoped>\n",
       "    .dataframe tbody tr th:only-of-type {\n",
       "        vertical-align: middle;\n",
       "    }\n",
       "\n",
       "    .dataframe tbody tr th {\n",
       "        vertical-align: top;\n",
       "    }\n",
       "\n",
       "    .dataframe thead th {\n",
       "        text-align: right;\n",
       "    }\n",
       "</style>\n",
       "<table border=\"1\" class=\"dataframe\">\n",
       "  <thead>\n",
       "    <tr style=\"text-align: right;\">\n",
       "      <th></th>\n",
       "      <th>W0</th>\n",
       "      <th>v0</th>\n",
       "      <th>y</th>\n",
       "    </tr>\n",
       "  </thead>\n",
       "  <tbody>\n",
       "    <tr>\n",
       "      <th>0</th>\n",
       "      <td>0.499948</td>\n",
       "      <td>True</td>\n",
       "      <td>6.927137</td>\n",
       "    </tr>\n",
       "    <tr>\n",
       "      <th>1</th>\n",
       "      <td>1.736162</td>\n",
       "      <td>True</td>\n",
       "      <td>9.982982</td>\n",
       "    </tr>\n",
       "    <tr>\n",
       "      <th>2</th>\n",
       "      <td>1.481919</td>\n",
       "      <td>True</td>\n",
       "      <td>11.448882</td>\n",
       "    </tr>\n",
       "    <tr>\n",
       "      <th>3</th>\n",
       "      <td>0.138467</td>\n",
       "      <td>True</td>\n",
       "      <td>6.447027</td>\n",
       "    </tr>\n",
       "    <tr>\n",
       "      <th>4</th>\n",
       "      <td>2.542203</td>\n",
       "      <td>True</td>\n",
       "      <td>11.759851</td>\n",
       "    </tr>\n",
       "    <tr>\n",
       "      <th>...</th>\n",
       "      <td>...</td>\n",
       "      <td>...</td>\n",
       "      <td>...</td>\n",
       "    </tr>\n",
       "    <tr>\n",
       "      <th>995</th>\n",
       "      <td>-2.758366</td>\n",
       "      <td>False</td>\n",
       "      <td>-5.808798</td>\n",
       "    </tr>\n",
       "    <tr>\n",
       "      <th>996</th>\n",
       "      <td>-1.284312</td>\n",
       "      <td>True</td>\n",
       "      <td>1.767761</td>\n",
       "    </tr>\n",
       "    <tr>\n",
       "      <th>997</th>\n",
       "      <td>-0.245933</td>\n",
       "      <td>False</td>\n",
       "      <td>0.178994</td>\n",
       "    </tr>\n",
       "    <tr>\n",
       "      <th>998</th>\n",
       "      <td>2.004202</td>\n",
       "      <td>True</td>\n",
       "      <td>10.099123</td>\n",
       "    </tr>\n",
       "    <tr>\n",
       "      <th>999</th>\n",
       "      <td>2.302281</td>\n",
       "      <td>True</td>\n",
       "      <td>11.101475</td>\n",
       "    </tr>\n",
       "  </tbody>\n",
       "</table>\n",
       "<p>1000 rows × 3 columns</p>\n",
       "</div>"
      ],
      "text/plain": [
       "           W0     v0          y\n",
       "0    0.499948   True   6.927137\n",
       "1    1.736162   True   9.982982\n",
       "2    1.481919   True  11.448882\n",
       "3    0.138467   True   6.447027\n",
       "4    2.542203   True  11.759851\n",
       "..        ...    ...        ...\n",
       "995 -2.758366  False  -5.808798\n",
       "996 -1.284312   True   1.767761\n",
       "997 -0.245933  False   0.178994\n",
       "998  2.004202   True  10.099123\n",
       "999  2.302281   True  11.101475\n",
       "\n",
       "[1000 rows x 3 columns]"
      ]
     },
     "execution_count": 2,
     "metadata": {},
     "output_type": "execute_result"
    }
   ],
   "source": [
    "data = dowhy.datasets.linear_dataset(beta=5,\n",
    "        num_common_causes=1,\n",
    "        num_instruments = 0,\n",
    "        num_samples=1000,\n",
    "        treatment_is_binary=True)\n",
    "df = data['df']\n",
    "df['y'] = df['y'] + np.random.normal(size=len(df)) # Adding noise to data. Without noise, the variance in Y|X, Z is zero, and mcmc fails.\n",
    "#data['dot_graph'] = 'digraph { v ->y;X0-> v;X0-> y;}'\n",
    "\n",
    "treatment= data[\"treatment_name\"][0]\n",
    "outcome = data[\"outcome_name\"][0]\n",
    "common_cause = data[\"common_causes_names\"][0]\n",
    "df"
   ]
  },
  {
   "cell_type": "code",
   "execution_count": 3,
   "metadata": {
    "execution": {
     "iopub.execute_input": "2022-08-20T00:15:08.537516Z",
     "iopub.status.busy": "2022-08-20T00:15:08.537178Z",
     "iopub.status.idle": "2022-08-20T00:15:09.247687Z",
     "shell.execute_reply": "2022-08-20T00:15:09.247071Z"
    }
   },
   "outputs": [
    {
     "data": {
      "text/plain": [
       "<AxesSubplot:xlabel='v0'>"
      ]
     },
     "execution_count": 3,
     "metadata": {},
     "output_type": "execute_result"
    },
    {
     "data": {
      "image/png": "[encoded data removed]",
      "text/plain": [
       "<Figure size 640x480 with 1 Axes>"
      ]
     },
     "metadata": {},
     "output_type": "display_data"
    }
   ],
   "source": [
    "# data['df'] is just a regular pandas.DataFrame\n",
    "df.causal.do(x=treatment,\n",
    "                     variable_types={treatment: 'b', outcome: 'c', common_cause: 'c'},\n",
    "                     outcome=outcome,\n",
    "                     common_causes=[common_cause],\n",
    "                     proceed_when_unidentifiable=True).groupby(treatment).mean().plot(y=outcome, kind='bar')"
   ]
  },
  {
   "cell_type": "code",
   "execution_count": 4,
   "metadata": {
    "execution": {
     "iopub.execute_input": "2022-08-20T00:15:09.250943Z",
     "iopub.status.busy": "2022-08-20T00:15:09.250292Z",
     "iopub.status.idle": "2022-08-20T00:15:09.351684Z",
     "shell.execute_reply": "2022-08-20T00:15:09.351165Z"
    }
   },
   "outputs": [
    {
     "data": {
      "text/plain": [
       "<AxesSubplot:xlabel='v0'>"
      ]
     },
     "execution_count": 4,
     "metadata": {},
     "output_type": "execute_result"
    },
    {
     "data": {
      "image/png": "[encoded data removed]",
      "text/plain": [
       "<Figure size 640x480 with 1 Axes>"
      ]
     },
     "metadata": {},
     "output_type": "display_data"
    }
   ],
   "source": [
    "df.causal.do(x={treatment: 1}, \n",
    "              variable_types={treatment:'b', outcome: 'c', common_cause: 'c'}, \n",
    "              outcome=outcome,\n",
    "              method='weighting', \n",
    "              common_causes=[common_cause],\n",
    "              proceed_when_unidentifiable=True).groupby(treatment).mean().plot(y=outcome, kind='bar')"
   ]
  },
  {
   "cell_type": "code",
   "execution_count": 5,
   "metadata": {
    "execution": {
     "iopub.execute_input": "2022-08-20T00:15:09.354472Z",
     "iopub.status.busy": "2022-08-20T00:15:09.354033Z",
     "iopub.status.idle": "2022-08-20T00:15:09.383308Z",
     "shell.execute_reply": "2022-08-20T00:15:09.382743Z"
    }
   },
   "outputs": [],
   "source": [
    "cdf_1 = df.causal.do(x={treatment: 1}, \n",
    "              variable_types={treatment: 'b', outcome: 'c', common_cause: 'c'}, \n",
    "              outcome=outcome, \n",
    "              dot_graph=data['dot_graph'],\n",
    "              proceed_when_unidentifiable=True)\n",
    "\n",
    "cdf_0 = df.causal.do(x={treatment: 0}, \n",
    "              variable_types={treatment: 'b', outcome: 'c', common_cause: 'c'}, \n",
    "              outcome=outcome, \n",
    "              dot_graph=data['dot_graph'],\n",
    "              proceed_when_unidentifiable=True)\n"
   ]
  },
  {
   "cell_type": "code",
   "execution_count": 6,
   "metadata": {
    "execution": {
     "iopub.execute_input": "2022-08-20T00:15:09.386878Z",
     "iopub.status.busy": "2022-08-20T00:15:09.385693Z",
     "iopub.status.idle": "2022-08-20T00:15:09.397808Z",
     "shell.execute_reply": "2022-08-20T00:15:09.397284Z"
    },
    "scrolled": true
   },
   "outputs": [
    {
     "data": {
      "text/html": [
       "<div>\n",
       "<style scoped>\n",
       "    .dataframe tbody tr th:only-of-type {\n",
       "        vertical-align: middle;\n",
       "    }\n",
       "\n",
       "    .dataframe tbody tr th {\n",
       "        vertical-align: top;\n",
       "    }\n",
       "\n",
       "    .dataframe thead th {\n",
       "        text-align: right;\n",
       "    }\n",
       "</style>\n",
       "<table border=\"1\" class=\"dataframe\">\n",
       "  <thead>\n",
       "    <tr style=\"text-align: right;\">\n",
       "      <th></th>\n",
       "      <th>W0</th>\n",
       "      <th>v0</th>\n",
       "      <th>y</th>\n",
       "      <th>propensity_score</th>\n",
       "      <th>weight</th>\n",
       "    </tr>\n",
       "  </thead>\n",
       "  <tbody>\n",
       "    <tr>\n",
       "      <th>0</th>\n",
       "      <td>2.152626</td>\n",
       "      <td>False</td>\n",
       "      <td>5.179915</td>\n",
       "      <td>0.018129</td>\n",
       "      <td>55.161479</td>\n",
       "    </tr>\n",
       "    <tr>\n",
       "      <th>1</th>\n",
       "      <td>-0.118149</td>\n",
       "      <td>False</td>\n",
       "      <td>-0.546652</td>\n",
       "      <td>0.540961</td>\n",
       "      <td>1.848563</td>\n",
       "    </tr>\n",
       "    <tr>\n",
       "      <th>2</th>\n",
       "      <td>0.984111</td>\n",
       "      <td>False</td>\n",
       "      <td>2.248460</td>\n",
       "      <td>0.135492</td>\n",
       "      <td>7.380494</td>\n",
       "    </tr>\n",
       "    <tr>\n",
       "      <th>3</th>\n",
       "      <td>-0.835227</td>\n",
       "      <td>False</td>\n",
       "      <td>-1.299399</td>\n",
       "      <td>0.814070</td>\n",
       "      <td>1.228396</td>\n",
       "    </tr>\n",
       "    <tr>\n",
       "      <th>4</th>\n",
       "      <td>-0.189947</td>\n",
       "      <td>False</td>\n",
       "      <td>0.473350</td>\n",
       "      <td>0.573372</td>\n",
       "      <td>1.744068</td>\n",
       "    </tr>\n",
       "    <tr>\n",
       "      <th>...</th>\n",
       "      <td>...</td>\n",
       "      <td>...</td>\n",
       "      <td>...</td>\n",
       "      <td>...</td>\n",
       "      <td>...</td>\n",
       "    </tr>\n",
       "    <tr>\n",
       "      <th>995</th>\n",
       "      <td>1.053491</td>\n",
       "      <td>False</td>\n",
       "      <td>3.971282</td>\n",
       "      <td>0.121294</td>\n",
       "      <td>8.244418</td>\n",
       "    </tr>\n",
       "    <tr>\n",
       "      <th>996</th>\n",
       "      <td>1.019562</td>\n",
       "      <td>False</td>\n",
       "      <td>0.773551</td>\n",
       "      <td>0.128070</td>\n",
       "      <td>7.808222</td>\n",
       "    </tr>\n",
       "    <tr>\n",
       "      <th>997</th>\n",
       "      <td>1.489139</td>\n",
       "      <td>False</td>\n",
       "      <td>3.341834</td>\n",
       "      <td>0.058547</td>\n",
       "      <td>17.080302</td>\n",
       "    </tr>\n",
       "    <tr>\n",
       "      <th>998</th>\n",
       "      <td>2.152626</td>\n",
       "      <td>False</td>\n",
       "      <td>5.179915</td>\n",
       "      <td>0.018129</td>\n",
       "      <td>55.161479</td>\n",
       "    </tr>\n",
       "    <tr>\n",
       "      <th>999</th>\n",
       "      <td>0.102673</td>\n",
       "      <td>False</td>\n",
       "      <td>0.007612</td>\n",
       "      <td>0.440297</td>\n",
       "      <td>2.271195</td>\n",
       "    </tr>\n",
       "  </tbody>\n",
       "</table>\n",
       "<p>1000 rows × 5 columns</p>\n",
       "</div>"
      ],
      "text/plain": [
       "           W0     v0         y  propensity_score     weight\n",
       "0    2.152626  False  5.179915          0.018129  55.161479\n",
       "1   -0.118149  False -0.546652          0.540961   1.848563\n",
       "2    0.984111  False  2.248460          0.135492   7.380494\n",
       "3   -0.835227  False -1.299399          0.814070   1.228396\n",
       "4   -0.189947  False  0.473350          0.573372   1.744068\n",
       "..        ...    ...       ...               ...        ...\n",
       "995  1.053491  False  3.971282          0.121294   8.244418\n",
       "996  1.019562  False  0.773551          0.128070   7.808222\n",
       "997  1.489139  False  3.341834          0.058547  17.080302\n",
       "998  2.152626  False  5.179915          0.018129  55.161479\n",
       "999  0.102673  False  0.007612          0.440297   2.271195\n",
       "\n",
       "[1000 rows x 5 columns]"
      ]
     },
     "execution_count": 6,
     "metadata": {},
     "output_type": "execute_result"
    }
   ],
   "source": [
    "cdf_0"
   ]
  },
  {
   "cell_type": "code",
   "execution_count": 7,
   "metadata": {
    "execution": {
     "iopub.execute_input": "2022-08-20T00:15:09.400884Z",
     "iopub.status.busy": "2022-08-20T00:15:09.400415Z",
     "iopub.status.idle": "2022-08-20T00:15:09.411277Z",
     "shell.execute_reply": "2022-08-20T00:15:09.410767Z"
    }
   },
   "outputs": [
    {
     "data": {
      "text/html": [
       "<div>\n",
       "<style scoped>\n",
       "    .dataframe tbody tr th:only-of-type {\n",
       "        vertical-align: middle;\n",
       "    }\n",
       "\n",
       "    .dataframe tbody tr th {\n",
       "        vertical-align: top;\n",
       "    }\n",
       "\n",
       "    .dataframe thead th {\n",
       "        text-align: right;\n",
       "    }\n",
       "</style>\n",
       "<table border=\"1\" class=\"dataframe\">\n",
       "  <thead>\n",
       "    <tr style=\"text-align: right;\">\n",
       "      <th></th>\n",
       "      <th>W0</th>\n",
       "      <th>v0</th>\n",
       "      <th>y</th>\n",
       "      <th>propensity_score</th>\n",
       "      <th>weight</th>\n",
       "    </tr>\n",
       "  </thead>\n",
       "  <tbody>\n",
       "    <tr>\n",
       "      <th>0</th>\n",
       "      <td>1.088927</td>\n",
       "      <td>True</td>\n",
       "      <td>5.071500</td>\n",
       "      <td>0.885451</td>\n",
       "      <td>1.129368</td>\n",
       "    </tr>\n",
       "    <tr>\n",
       "      <th>1</th>\n",
       "      <td>2.009485</td>\n",
       "      <td>True</td>\n",
       "      <td>10.390127</td>\n",
       "      <td>0.976569</td>\n",
       "      <td>1.023993</td>\n",
       "    </tr>\n",
       "    <tr>\n",
       "      <th>2</th>\n",
       "      <td>-0.209408</td>\n",
       "      <td>True</td>\n",
       "      <td>5.174009</td>\n",
       "      <td>0.417939</td>\n",
       "      <td>2.392696</td>\n",
       "    </tr>\n",
       "    <tr>\n",
       "      <th>3</th>\n",
       "      <td>-0.240248</td>\n",
       "      <td>True</td>\n",
       "      <td>5.301204</td>\n",
       "      <td>0.404274</td>\n",
       "      <td>2.473570</td>\n",
       "    </tr>\n",
       "    <tr>\n",
       "      <th>4</th>\n",
       "      <td>0.096704</td>\n",
       "      <td>True</td>\n",
       "      <td>5.370860</td>\n",
       "      <td>0.557009</td>\n",
       "      <td>1.795303</td>\n",
       "    </tr>\n",
       "    <tr>\n",
       "      <th>...</th>\n",
       "      <td>...</td>\n",
       "      <td>...</td>\n",
       "      <td>...</td>\n",
       "      <td>...</td>\n",
       "      <td>...</td>\n",
       "    </tr>\n",
       "    <tr>\n",
       "      <th>995</th>\n",
       "      <td>0.084669</td>\n",
       "      <td>True</td>\n",
       "      <td>3.992247</td>\n",
       "      <td>0.551567</td>\n",
       "      <td>1.813016</td>\n",
       "    </tr>\n",
       "    <tr>\n",
       "      <th>996</th>\n",
       "      <td>1.911185</td>\n",
       "      <td>True</td>\n",
       "      <td>10.252614</td>\n",
       "      <td>0.972079</td>\n",
       "      <td>1.028723</td>\n",
       "    </tr>\n",
       "    <tr>\n",
       "      <th>997</th>\n",
       "      <td>1.099164</td>\n",
       "      <td>True</td>\n",
       "      <td>7.688774</td>\n",
       "      <td>0.887337</td>\n",
       "      <td>1.126967</td>\n",
       "    </tr>\n",
       "    <tr>\n",
       "      <th>998</th>\n",
       "      <td>-0.703012</td>\n",
       "      <td>True</td>\n",
       "      <td>3.335010</td>\n",
       "      <td>0.225363</td>\n",
       "      <td>4.437282</td>\n",
       "    </tr>\n",
       "    <tr>\n",
       "      <th>999</th>\n",
       "      <td>2.935699</td>\n",
       "      <td>True</td>\n",
       "      <td>9.609235</td>\n",
       "      <td>0.995615</td>\n",
       "      <td>1.004404</td>\n",
       "    </tr>\n",
       "  </tbody>\n",
       "</table>\n",
       "<p>1000 rows × 5 columns</p>\n",
       "</div>"
      ],
      "text/plain": [
       "           W0    v0          y  propensity_score    weight\n",
       "0    1.088927  True   5.071500          0.885451  1.129368\n",
       "1    2.009485  True  10.390127          0.976569  1.023993\n",
       "2   -0.209408  True   5.174009          0.417939  2.392696\n",
       "3   -0.240248  True   5.301204          0.404274  2.473570\n",
       "4    0.096704  True   5.370860          0.557009  1.795303\n",
       "..        ...   ...        ...               ...       ...\n",
       "995  0.084669  True   3.992247          0.551567  1.813016\n",
       "996  1.911185  True  10.252614          0.972079  1.028723\n",
       "997  1.099164  True   7.688774          0.887337  1.126967\n",
       "998 -0.703012  True   3.335010          0.225363  4.437282\n",
       "999  2.935699  True   9.609235          0.995615  1.004404\n",
       "\n",
       "[1000 rows x 5 columns]"
      ]
     },
     "execution_count": 7,
     "metadata": {},
     "output_type": "execute_result"
    }
   ],
   "source": [
    "cdf_1"
   ]
  },
  {
   "cell_type": "markdown",
   "metadata": {},
   "source": [
    "## Comparing the estimate to Linear Regression\n",
    "First, estimating the effect using the causal data frame, and the 95% confidence interval."
   ]
  },
  {
   "cell_type": "code",
   "execution_count": 8,
   "metadata": {
    "execution": {
     "iopub.execute_input": "2022-08-20T00:15:09.414297Z",
     "iopub.status.busy": "2022-08-20T00:15:09.413991Z",
     "iopub.status.idle": "2022-08-20T00:15:09.506560Z",
     "shell.execute_reply": "2022-08-20T00:15:09.505895Z"
    }
   },
   "outputs": [
    {
     "data": {
      "image/png": "[encoded data removed]",
      "text/latex": [
       "$\\displaystyle 5.32895509223767$"
      ],
      "text/plain": [
       "5.32895509223767"
      ]
     },
     "execution_count": 8,
     "metadata": {},
     "output_type": "execute_result"
    }
   ],
   "source": [
    "(cdf_1['y'] - cdf_0['y']).mean()"
   ]
  },
  {
   "cell_type": "code",
   "execution_count": 9,
   "metadata": {
    "execution": {
     "iopub.execute_input": "2022-08-20T00:15:09.509613Z",
     "iopub.status.busy": "2022-08-20T00:15:09.509395Z",
     "iopub.status.idle": "2022-08-20T00:15:09.535318Z",
     "shell.execute_reply": "2022-08-20T00:15:09.534749Z"
    }
   },
   "outputs": [
    {
     "data": {
      "image/png": "[encoded data removed]",
      "text/latex": [
       "$\\displaystyle 0.198624898777806$"
      ],
      "text/plain": [
       "0.19862489877780626"
      ]
     },
     "execution_count": 9,
     "metadata": {},
     "output_type": "execute_result"
    }
   ],
   "source": [
    "1.96*(cdf_1['y'] - cdf_0['y']).std() / np.sqrt(len(df))"
   ]
  },
  {
   "cell_type": "markdown",
   "metadata": {},
   "source": [
    "Comparing to the estimate from OLS."
   ]
  },
  {
   "cell_type": "code",
   "execution_count": 10,
   "metadata": {
    "execution": {
     "iopub.execute_input": "2022-08-20T00:15:09.538410Z",
     "iopub.status.busy": "2022-08-20T00:15:09.537945Z",
     "iopub.status.idle": "2022-08-20T00:15:09.554924Z",
     "shell.execute_reply": "2022-08-20T00:15:09.554372Z"
    }
   },
   "outputs": [
    {
     "data": {
      "text/html": [
       "<table class=\"simpletable\">\n",
       "<caption>OLS Regression Results</caption>\n",
       "<tr>\n",
       "  <th>Dep. Variable:</th>            <td>y</td>        <th>  R-squared (uncentered):</th>      <td>   0.974</td> \n",
       "</tr>\n",
       "<tr>\n",
       "  <th>Model:</th>                   <td>OLS</td>       <th>  Adj. R-squared (uncentered):</th> <td>   0.974</td> \n",
       "</tr>\n",
       "<tr>\n",
       "  <th>Method:</th>             <td>Least Squares</td>  <th>  F-statistic:       </th>          <td>1.849e+04</td>\n",
       "</tr>\n",
       "<tr>\n",
       "  <th>Date:</th>             <td>Sat, 20 Aug 2022</td> <th>  Prob (F-statistic):</th>           <td>  0.00</td>  \n",
       "</tr>\n",
       "<tr>\n",
       "  <th>Time:</th>                 <td>00:15:09</td>     <th>  Log-Likelihood:    </th>          <td> -1418.3</td> \n",
       "</tr>\n",
       "<tr>\n",
       "  <th>No. Observations:</th>      <td>  1000</td>      <th>  AIC:               </th>          <td>   2841.</td> \n",
       "</tr>\n",
       "<tr>\n",
       "  <th>Df Residuals:</th>          <td>   998</td>      <th>  BIC:               </th>          <td>   2850.</td> \n",
       "</tr>\n",
       "<tr>\n",
       "  <th>Df Model:</th>              <td>     2</td>      <th>                     </th>              <td> </td>    \n",
       "</tr>\n",
       "<tr>\n",
       "  <th>Covariance Type:</th>      <td>nonrobust</td>    <th>                     </th>              <td> </td>    \n",
       "</tr>\n",
       "</table>\n",
       "<table class=\"simpletable\">\n",
       "<tr>\n",
       "   <td></td>     <th>coef</th>     <th>std err</th>      <th>t</th>      <th>P>|t|</th>  <th>[0.025</th>    <th>0.975]</th>  \n",
       "</tr>\n",
       "<tr>\n",
       "  <th>x1</th> <td>    2.1688</td> <td>    0.039</td> <td>   56.279</td> <td> 0.000</td> <td>    2.093</td> <td>    2.244</td>\n",
       "</tr>\n",
       "<tr>\n",
       "  <th>x2</th> <td>    5.0155</td> <td>    0.053</td> <td>   93.839</td> <td> 0.000</td> <td>    4.911</td> <td>    5.120</td>\n",
       "</tr>\n",
       "</table>\n",
       "<table class=\"simpletable\">\n",
       "<tr>\n",
       "  <th>Omnibus:</th>       <td> 0.963</td> <th>  Durbin-Watson:     </th> <td>   1.976</td>\n",
       "</tr>\n",
       "<tr>\n",
       "  <th>Prob(Omnibus):</th> <td> 0.618</td> <th>  Jarque-Bera (JB):  </th> <td>   0.996</td>\n",
       "</tr>\n",
       "<tr>\n",
       "  <th>Skew:</th>          <td> 0.075</td> <th>  Prob(JB):          </th> <td>   0.608</td>\n",
       "</tr>\n",
       "<tr>\n",
       "  <th>Kurtosis:</th>      <td> 2.960</td> <th>  Cond. No.          </th> <td>    2.52</td>\n",
       "</tr>\n",
       "</table><br/><br/>Notes:<br/>[1] R² is computed without centering (uncentered) since the model does not contain a constant.<br/>[2] Standard Errors assume that the covariance matrix of the errors is correctly specified."
      ],
      "text/plain": [
       "<class 'statsmodels.iolib.summary.Summary'>\n",
       "\"\"\"\n",
       "                                 OLS Regression Results                                \n",
       "=======================================================================================\n",
       "Dep. Variable:                      y   R-squared (uncentered):                   0.974\n",
       "Model:                            OLS   Adj. R-squared (uncentered):              0.974\n",
       "Method:                 Least Squares   F-statistic:                          1.849e+04\n",
       "Date:                Sat, 20 Aug 2022   Prob (F-statistic):                        0.00\n",
       "Time:                        00:15:09   Log-Likelihood:                         -1418.3\n",
       "No. Observations:                1000   AIC:                                      2841.\n",
       "Df Residuals:                     998   BIC:                                      2850.\n",
       "Df Model:                           2                                                  \n",
       "Covariance Type:            nonrobust                                                  \n",
       "==============================================================================\n",
       "                 coef    std err          t      P>|t|      [0.025      0.975]\n",
       "------------------------------------------------------------------------------\n",
       "x1             2.1688      0.039     56.279      0.000       2.093       2.244\n",
       "x2             5.0155      0.053     93.839      0.000       4.911       5.120\n",
       "==============================================================================\n",
       "Omnibus:                        0.963   Durbin-Watson:                   1.976\n",
       "Prob(Omnibus):                  0.618   Jarque-Bera (JB):                0.996\n",
       "Skew:                           0.075   Prob(JB):                        0.608\n",
       "Kurtosis:                       2.960   Cond. No.                         2.52\n",
       "==============================================================================\n",
       "\n",
       "Notes:\n",
       "[1] R² is computed without centering (uncentered) since the model does not contain a constant.\n",
       "[2] Standard Errors assume that the covariance matrix of the errors is correctly specified.\n",
       "\"\"\""
      ]
     },
     "execution_count": 10,
     "metadata": {},
     "output_type": "execute_result"
    }
   ],
   "source": [
    "model = OLS(np.asarray(df[outcome]), np.asarray(df[[common_cause, treatment]], dtype=np.float64))\n",
    "result = model.fit()\n",
    "result.summary()"
   ]
  }
 ],
 "metadata": {
  "kernelspec": {
   "display_name": "Python 3",
   "language": "python",
   "name": "python3"
  },
  "language_info": {
   "codemirror_mode": {
    "name": "ipython",
    "version": 3
   },
   "file_extension": ".py",
   "mimetype": "text/x-python",
   "name": "python",
   "nbconvert_exporter": "python",
   "pygments_lexer": "ipython3",
   "version": "3.8.10"
  },
  "toc": {
   "base_numbering": 1,
   "nav_menu": {},
   "number_sections": false,
   "sideBar": true,
   "skip_h1_title": true,
   "title_cell": "Table of Contents",
   "title_sidebar": "Contents",
   "toc_cell": false,
   "toc_position": {},
   "toc_section_display": true,
   "toc_window_display": false
  }
 },
 "nbformat": 4,
 "nbformat_minor": 4
}
