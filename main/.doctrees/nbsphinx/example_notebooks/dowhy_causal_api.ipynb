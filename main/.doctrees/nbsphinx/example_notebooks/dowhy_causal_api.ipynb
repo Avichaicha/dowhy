{
 "cells": [
  {
   "cell_type": "markdown",
   "metadata": {},
   "source": [
    "# Demo for the DoWhy causal API\n",
    "We show a simple example of adding a causal extension to any dataframe. "
   ]
  },
  {
   "cell_type": "code",
   "execution_count": 1,
   "metadata": {
    "execution": {
     "iopub.execute_input": "2022-08-23T13:11:17.534958Z",
     "iopub.status.busy": "2022-08-23T13:11:17.534429Z",
     "iopub.status.idle": "2022-08-23T13:11:18.916583Z",
     "shell.execute_reply": "2022-08-23T13:11:18.915337Z"
    }
   },
   "outputs": [],
   "source": [
    "import dowhy.datasets\n",
    "import dowhy.api\n",
    "\n",
    "import numpy as np\n",
    "import pandas as pd\n",
    "\n",
    "from statsmodels.api import OLS"
   ]
  },
  {
   "cell_type": "code",
   "execution_count": 2,
   "metadata": {
    "execution": {
     "iopub.execute_input": "2022-08-23T13:11:18.920755Z",
     "iopub.status.busy": "2022-08-23T13:11:18.920320Z",
     "iopub.status.idle": "2022-08-23T13:11:18.973238Z",
     "shell.execute_reply": "2022-08-23T13:11:18.972350Z"
    }
   },
   "outputs": [
    {
     "data": {
      "text/html": [
       "<div>\n",
       "<style scoped>\n",
       "    .dataframe tbody tr th:only-of-type {\n",
       "        vertical-align: middle;\n",
       "    }\n",
       "\n",
       "    .dataframe tbody tr th {\n",
       "        vertical-align: top;\n",
       "    }\n",
       "\n",
       "    .dataframe thead th {\n",
       "        text-align: right;\n",
       "    }\n",
       "</style>\n",
       "<table border=\"1\" class=\"dataframe\">\n",
       "  <thead>\n",
       "    <tr style=\"text-align: right;\">\n",
       "      <th></th>\n",
       "      <th>W0</th>\n",
       "      <th>v0</th>\n",
       "      <th>y</th>\n",
       "    </tr>\n",
       "  </thead>\n",
       "  <tbody>\n",
       "    <tr>\n",
       "      <th>0</th>\n",
       "      <td>0.106541</td>\n",
       "      <td>False</td>\n",
       "      <td>2.077520</td>\n",
       "    </tr>\n",
       "    <tr>\n",
       "      <th>1</th>\n",
       "      <td>0.890946</td>\n",
       "      <td>False</td>\n",
       "      <td>1.391211</td>\n",
       "    </tr>\n",
       "    <tr>\n",
       "      <th>2</th>\n",
       "      <td>-1.286291</td>\n",
       "      <td>False</td>\n",
       "      <td>-1.313335</td>\n",
       "    </tr>\n",
       "    <tr>\n",
       "      <th>3</th>\n",
       "      <td>-0.184241</td>\n",
       "      <td>False</td>\n",
       "      <td>-0.593485</td>\n",
       "    </tr>\n",
       "    <tr>\n",
       "      <th>4</th>\n",
       "      <td>0.394889</td>\n",
       "      <td>False</td>\n",
       "      <td>-0.142599</td>\n",
       "    </tr>\n",
       "    <tr>\n",
       "      <th>...</th>\n",
       "      <td>...</td>\n",
       "      <td>...</td>\n",
       "      <td>...</td>\n",
       "    </tr>\n",
       "    <tr>\n",
       "      <th>995</th>\n",
       "      <td>0.042842</td>\n",
       "      <td>False</td>\n",
       "      <td>0.271499</td>\n",
       "    </tr>\n",
       "    <tr>\n",
       "      <th>996</th>\n",
       "      <td>-3.343183</td>\n",
       "      <td>True</td>\n",
       "      <td>2.246211</td>\n",
       "    </tr>\n",
       "    <tr>\n",
       "      <th>997</th>\n",
       "      <td>-1.990344</td>\n",
       "      <td>False</td>\n",
       "      <td>-2.025564</td>\n",
       "    </tr>\n",
       "    <tr>\n",
       "      <th>998</th>\n",
       "      <td>0.902961</td>\n",
       "      <td>True</td>\n",
       "      <td>5.604404</td>\n",
       "    </tr>\n",
       "    <tr>\n",
       "      <th>999</th>\n",
       "      <td>0.243158</td>\n",
       "      <td>False</td>\n",
       "      <td>-0.718027</td>\n",
       "    </tr>\n",
       "  </tbody>\n",
       "</table>\n",
       "<p>1000 rows × 3 columns</p>\n",
       "</div>"
      ],
      "text/plain": [
       "           W0     v0         y\n",
       "0    0.106541  False  2.077520\n",
       "1    0.890946  False  1.391211\n",
       "2   -1.286291  False -1.313335\n",
       "3   -0.184241  False -0.593485\n",
       "4    0.394889  False -0.142599\n",
       "..        ...    ...       ...\n",
       "995  0.042842  False  0.271499\n",
       "996 -3.343183   True  2.246211\n",
       "997 -1.990344  False -2.025564\n",
       "998  0.902961   True  5.604404\n",
       "999  0.243158  False -0.718027\n",
       "\n",
       "[1000 rows x 3 columns]"
      ]
     },
     "execution_count": 2,
     "metadata": {},
     "output_type": "execute_result"
    }
   ],
   "source": [
    "data = dowhy.datasets.linear_dataset(beta=5,\n",
    "        num_common_causes=1,\n",
    "        num_instruments = 0,\n",
    "        num_samples=1000,\n",
    "        treatment_is_binary=True)\n",
    "df = data['df']\n",
    "df['y'] = df['y'] + np.random.normal(size=len(df)) # Adding noise to data. Without noise, the variance in Y|X, Z is zero, and mcmc fails.\n",
    "#data['dot_graph'] = 'digraph { v ->y;X0-> v;X0-> y;}'\n",
    "\n",
    "treatment= data[\"treatment_name\"][0]\n",
    "outcome = data[\"outcome_name\"][0]\n",
    "common_cause = data[\"common_causes_names\"][0]\n",
    "df"
   ]
  },
  {
   "cell_type": "code",
   "execution_count": 3,
   "metadata": {
    "execution": {
     "iopub.execute_input": "2022-08-23T13:11:18.978056Z",
     "iopub.status.busy": "2022-08-23T13:11:18.977191Z",
     "iopub.status.idle": "2022-08-23T13:11:19.865167Z",
     "shell.execute_reply": "2022-08-23T13:11:19.864493Z"
    }
   },
   "outputs": [
    {
     "data": {
      "text/plain": [
       "<AxesSubplot:xlabel='v0'>"
      ]
     },
     "execution_count": 3,
     "metadata": {},
     "output_type": "execute_result"
    },
    {
     "data": {
      "image/png": "[encoded data removed]",
      "text/plain": [
       "<Figure size 640x480 with 1 Axes>"
      ]
     },
     "metadata": {},
     "output_type": "display_data"
    }
   ],
   "source": [
    "# data['df'] is just a regular pandas.DataFrame\n",
    "df.causal.do(x=treatment,\n",
    "                     variable_types={treatment: 'b', outcome: 'c', common_cause: 'c'},\n",
    "                     outcome=outcome,\n",
    "                     common_causes=[common_cause],\n",
    "                     proceed_when_unidentifiable=True).groupby(treatment).mean().plot(y=outcome, kind='bar')"
   ]
  },
  {
   "cell_type": "code",
   "execution_count": 4,
   "metadata": {
    "execution": {
     "iopub.execute_input": "2022-08-23T13:11:19.869171Z",
     "iopub.status.busy": "2022-08-23T13:11:19.868502Z",
     "iopub.status.idle": "2022-08-23T13:11:19.992205Z",
     "shell.execute_reply": "2022-08-23T13:11:19.991546Z"
    }
   },
   "outputs": [
    {
     "data": {
      "text/plain": [
       "<AxesSubplot:xlabel='v0'>"
      ]
     },
     "execution_count": 4,
     "metadata": {},
     "output_type": "execute_result"
    },
    {
     "data": {
      "image/png": "[encoded data removed]",
      "text/plain": [
       "<Figure size 640x480 with 1 Axes>"
      ]
     },
     "metadata": {},
     "output_type": "display_data"
    }
   ],
   "source": [
    "df.causal.do(x={treatment: 1}, \n",
    "              variable_types={treatment:'b', outcome: 'c', common_cause: 'c'}, \n",
    "              outcome=outcome,\n",
    "              method='weighting', \n",
    "              common_causes=[common_cause],\n",
    "              proceed_when_unidentifiable=True).groupby(treatment).mean().plot(y=outcome, kind='bar')"
   ]
  },
  {
   "cell_type": "code",
   "execution_count": 5,
   "metadata": {
    "execution": {
     "iopub.execute_input": "2022-08-23T13:11:19.995646Z",
     "iopub.status.busy": "2022-08-23T13:11:19.995205Z",
     "iopub.status.idle": "2022-08-23T13:11:20.032029Z",
     "shell.execute_reply": "2022-08-23T13:11:20.031295Z"
    }
   },
   "outputs": [],
   "source": [
    "cdf_1 = df.causal.do(x={treatment: 1}, \n",
    "              variable_types={treatment: 'b', outcome: 'c', common_cause: 'c'}, \n",
    "              outcome=outcome, \n",
    "              dot_graph=data['dot_graph'],\n",
    "              proceed_when_unidentifiable=True)\n",
    "\n",
    "cdf_0 = df.causal.do(x={treatment: 0}, \n",
    "              variable_types={treatment: 'b', outcome: 'c', common_cause: 'c'}, \n",
    "              outcome=outcome, \n",
    "              dot_graph=data['dot_graph'],\n",
    "              proceed_when_unidentifiable=True)\n"
   ]
  },
  {
   "cell_type": "code",
   "execution_count": 6,
   "metadata": {
    "execution": {
     "iopub.execute_input": "2022-08-23T13:11:20.035525Z",
     "iopub.status.busy": "2022-08-23T13:11:20.035028Z",
     "iopub.status.idle": "2022-08-23T13:11:20.049177Z",
     "shell.execute_reply": "2022-08-23T13:11:20.048533Z"
    },
    "scrolled": true
   },
   "outputs": [
    {
     "data": {
      "text/html": [
       "<div>\n",
       "<style scoped>\n",
       "    .dataframe tbody tr th:only-of-type {\n",
       "        vertical-align: middle;\n",
       "    }\n",
       "\n",
       "    .dataframe tbody tr th {\n",
       "        vertical-align: top;\n",
       "    }\n",
       "\n",
       "    .dataframe thead th {\n",
       "        text-align: right;\n",
       "    }\n",
       "</style>\n",
       "<table border=\"1\" class=\"dataframe\">\n",
       "  <thead>\n",
       "    <tr style=\"text-align: right;\">\n",
       "      <th></th>\n",
       "      <th>W0</th>\n",
       "      <th>v0</th>\n",
       "      <th>y</th>\n",
       "      <th>propensity_score</th>\n",
       "      <th>weight</th>\n",
       "    </tr>\n",
       "  </thead>\n",
       "  <tbody>\n",
       "    <tr>\n",
       "      <th>0</th>\n",
       "      <td>-0.894939</td>\n",
       "      <td>False</td>\n",
       "      <td>-0.957796</td>\n",
       "      <td>0.626580</td>\n",
       "      <td>1.595965</td>\n",
       "    </tr>\n",
       "    <tr>\n",
       "      <th>1</th>\n",
       "      <td>1.141137</td>\n",
       "      <td>False</td>\n",
       "      <td>0.106765</td>\n",
       "      <td>0.355790</td>\n",
       "      <td>2.810648</td>\n",
       "    </tr>\n",
       "    <tr>\n",
       "      <th>2</th>\n",
       "      <td>-0.937575</td>\n",
       "      <td>False</td>\n",
       "      <td>-0.501500</td>\n",
       "      <td>0.632009</td>\n",
       "      <td>1.582257</td>\n",
       "    </tr>\n",
       "    <tr>\n",
       "      <th>3</th>\n",
       "      <td>-1.612638</td>\n",
       "      <td>False</td>\n",
       "      <td>-1.728523</td>\n",
       "      <td>0.712853</td>\n",
       "      <td>1.402813</td>\n",
       "    </tr>\n",
       "    <tr>\n",
       "      <th>4</th>\n",
       "      <td>-0.502169</td>\n",
       "      <td>False</td>\n",
       "      <td>0.622750</td>\n",
       "      <td>0.575226</td>\n",
       "      <td>1.738447</td>\n",
       "    </tr>\n",
       "    <tr>\n",
       "      <th>...</th>\n",
       "      <td>...</td>\n",
       "      <td>...</td>\n",
       "      <td>...</td>\n",
       "      <td>...</td>\n",
       "      <td>...</td>\n",
       "    </tr>\n",
       "    <tr>\n",
       "      <th>995</th>\n",
       "      <td>-0.497913</td>\n",
       "      <td>False</td>\n",
       "      <td>0.814285</td>\n",
       "      <td>0.574658</td>\n",
       "      <td>1.740164</td>\n",
       "    </tr>\n",
       "    <tr>\n",
       "      <th>996</th>\n",
       "      <td>-0.194490</td>\n",
       "      <td>False</td>\n",
       "      <td>-0.429796</td>\n",
       "      <td>0.533768</td>\n",
       "      <td>1.873472</td>\n",
       "    </tr>\n",
       "    <tr>\n",
       "      <th>997</th>\n",
       "      <td>-1.449108</td>\n",
       "      <td>False</td>\n",
       "      <td>0.396493</td>\n",
       "      <td>0.694243</td>\n",
       "      <td>1.440418</td>\n",
       "    </tr>\n",
       "    <tr>\n",
       "      <th>998</th>\n",
       "      <td>-1.524722</td>\n",
       "      <td>False</td>\n",
       "      <td>-0.564488</td>\n",
       "      <td>0.702932</td>\n",
       "      <td>1.422613</td>\n",
       "    </tr>\n",
       "    <tr>\n",
       "      <th>999</th>\n",
       "      <td>-0.189186</td>\n",
       "      <td>False</td>\n",
       "      <td>-0.132424</td>\n",
       "      <td>0.533048</td>\n",
       "      <td>1.876004</td>\n",
       "    </tr>\n",
       "  </tbody>\n",
       "</table>\n",
       "<p>1000 rows × 5 columns</p>\n",
       "</div>"
      ],
      "text/plain": [
       "           W0     v0         y  propensity_score    weight\n",
       "0   -0.894939  False -0.957796          0.626580  1.595965\n",
       "1    1.141137  False  0.106765          0.355790  2.810648\n",
       "2   -0.937575  False -0.501500          0.632009  1.582257\n",
       "3   -1.612638  False -1.728523          0.712853  1.402813\n",
       "4   -0.502169  False  0.622750          0.575226  1.738447\n",
       "..        ...    ...       ...               ...       ...\n",
       "995 -0.497913  False  0.814285          0.574658  1.740164\n",
       "996 -0.194490  False -0.429796          0.533768  1.873472\n",
       "997 -1.449108  False  0.396493          0.694243  1.440418\n",
       "998 -1.524722  False -0.564488          0.702932  1.422613\n",
       "999 -0.189186  False -0.132424          0.533048  1.876004\n",
       "\n",
       "[1000 rows x 5 columns]"
      ]
     },
     "execution_count": 6,
     "metadata": {},
     "output_type": "execute_result"
    }
   ],
   "source": [
    "cdf_0"
   ]
  },
  {
   "cell_type": "code",
   "execution_count": 7,
   "metadata": {
    "execution": {
     "iopub.execute_input": "2022-08-23T13:11:20.052382Z",
     "iopub.status.busy": "2022-08-23T13:11:20.052117Z",
     "iopub.status.idle": "2022-08-23T13:11:20.063709Z",
     "shell.execute_reply": "2022-08-23T13:11:20.062997Z"
    }
   },
   "outputs": [
    {
     "data": {
      "text/html": [
       "<div>\n",
       "<style scoped>\n",
       "    .dataframe tbody tr th:only-of-type {\n",
       "        vertical-align: middle;\n",
       "    }\n",
       "\n",
       "    .dataframe tbody tr th {\n",
       "        vertical-align: top;\n",
       "    }\n",
       "\n",
       "    .dataframe thead th {\n",
       "        text-align: right;\n",
       "    }\n",
       "</style>\n",
       "<table border=\"1\" class=\"dataframe\">\n",
       "  <thead>\n",
       "    <tr style=\"text-align: right;\">\n",
       "      <th></th>\n",
       "      <th>W0</th>\n",
       "      <th>v0</th>\n",
       "      <th>y</th>\n",
       "      <th>propensity_score</th>\n",
       "      <th>weight</th>\n",
       "    </tr>\n",
       "  </thead>\n",
       "  <tbody>\n",
       "    <tr>\n",
       "      <th>0</th>\n",
       "      <td>-0.017836</td>\n",
       "      <td>True</td>\n",
       "      <td>4.851023</td>\n",
       "      <td>0.490285</td>\n",
       "      <td>2.039630</td>\n",
       "    </tr>\n",
       "    <tr>\n",
       "      <th>1</th>\n",
       "      <td>1.708278</td>\n",
       "      <td>True</td>\n",
       "      <td>6.026805</td>\n",
       "      <td>0.711611</td>\n",
       "      <td>1.405262</td>\n",
       "    </tr>\n",
       "    <tr>\n",
       "      <th>2</th>\n",
       "      <td>0.407381</td>\n",
       "      <td>True</td>\n",
       "      <td>6.382266</td>\n",
       "      <td>0.548153</td>\n",
       "      <td>1.824307</td>\n",
       "    </tr>\n",
       "    <tr>\n",
       "      <th>3</th>\n",
       "      <td>0.235990</td>\n",
       "      <td>True</td>\n",
       "      <td>5.496916</td>\n",
       "      <td>0.524897</td>\n",
       "      <td>1.905136</td>\n",
       "    </tr>\n",
       "    <tr>\n",
       "      <th>4</th>\n",
       "      <td>-2.106766</td>\n",
       "      <td>True</td>\n",
       "      <td>4.069689</td>\n",
       "      <td>0.235237</td>\n",
       "      <td>4.251024</td>\n",
       "    </tr>\n",
       "    <tr>\n",
       "      <th>...</th>\n",
       "      <td>...</td>\n",
       "      <td>...</td>\n",
       "      <td>...</td>\n",
       "      <td>...</td>\n",
       "      <td>...</td>\n",
       "    </tr>\n",
       "    <tr>\n",
       "      <th>995</th>\n",
       "      <td>-0.941768</td>\n",
       "      <td>True</td>\n",
       "      <td>5.748382</td>\n",
       "      <td>0.367459</td>\n",
       "      <td>2.721390</td>\n",
       "    </tr>\n",
       "    <tr>\n",
       "      <th>996</th>\n",
       "      <td>-0.034898</td>\n",
       "      <td>True</td>\n",
       "      <td>3.723432</td>\n",
       "      <td>0.487958</td>\n",
       "      <td>2.049356</td>\n",
       "    </tr>\n",
       "    <tr>\n",
       "      <th>997</th>\n",
       "      <td>0.097037</td>\n",
       "      <td>True</td>\n",
       "      <td>4.458147</td>\n",
       "      <td>0.505958</td>\n",
       "      <td>1.976450</td>\n",
       "    </tr>\n",
       "    <tr>\n",
       "      <th>998</th>\n",
       "      <td>-2.434455</td>\n",
       "      <td>True</td>\n",
       "      <td>3.941250</td>\n",
       "      <td>0.204595</td>\n",
       "      <td>4.887700</td>\n",
       "    </tr>\n",
       "    <tr>\n",
       "      <th>999</th>\n",
       "      <td>-1.640363</td>\n",
       "      <td>True</td>\n",
       "      <td>3.906182</td>\n",
       "      <td>0.284059</td>\n",
       "      <td>3.520393</td>\n",
       "    </tr>\n",
       "  </tbody>\n",
       "</table>\n",
       "<p>1000 rows × 5 columns</p>\n",
       "</div>"
      ],
      "text/plain": [
       "           W0    v0         y  propensity_score    weight\n",
       "0   -0.017836  True  4.851023          0.490285  2.039630\n",
       "1    1.708278  True  6.026805          0.711611  1.405262\n",
       "2    0.407381  True  6.382266          0.548153  1.824307\n",
       "3    0.235990  True  5.496916          0.524897  1.905136\n",
       "4   -2.106766  True  4.069689          0.235237  4.251024\n",
       "..        ...   ...       ...               ...       ...\n",
       "995 -0.941768  True  5.748382          0.367459  2.721390\n",
       "996 -0.034898  True  3.723432          0.487958  2.049356\n",
       "997  0.097037  True  4.458147          0.505958  1.976450\n",
       "998 -2.434455  True  3.941250          0.204595  4.887700\n",
       "999 -1.640363  True  3.906182          0.284059  3.520393\n",
       "\n",
       "[1000 rows x 5 columns]"
      ]
     },
     "execution_count": 7,
     "metadata": {},
     "output_type": "execute_result"
    }
   ],
   "source": [
    "cdf_1"
   ]
  },
  {
   "cell_type": "markdown",
   "metadata": {},
   "source": [
    "## Comparing the estimate to Linear Regression\n",
    "First, estimating the effect using the causal data frame, and the 95% confidence interval."
   ]
  },
  {
   "cell_type": "code",
   "execution_count": 8,
   "metadata": {
    "execution": {
     "iopub.execute_input": "2022-08-23T13:11:20.067967Z",
     "iopub.status.busy": "2022-08-23T13:11:20.067358Z",
     "iopub.status.idle": "2022-08-23T13:11:20.186665Z",
     "shell.execute_reply": "2022-08-23T13:11:20.185771Z"
    }
   },
   "outputs": [
    {
     "data": {
      "image/png": "[encoded data removed]",
      "text/latex": [
       "$\\displaystyle 5.04492983171018$"
      ],
      "text/plain": [
       "5.044929831710183"
      ]
     },
     "execution_count": 8,
     "metadata": {},
     "output_type": "execute_result"
    }
   ],
   "source": [
    "(cdf_1['y'] - cdf_0['y']).mean()"
   ]
  },
  {
   "cell_type": "code",
   "execution_count": 9,
   "metadata": {
    "execution": {
     "iopub.execute_input": "2022-08-23T13:11:20.190663Z",
     "iopub.status.busy": "2022-08-23T13:11:20.190009Z",
     "iopub.status.idle": "2022-08-23T13:11:20.220499Z",
     "shell.execute_reply": "2022-08-23T13:11:20.219554Z"
    }
   },
   "outputs": [
    {
     "data": {
      "image/png": "[encoded data removed]",
      "text/latex": [
       "$\\displaystyle 0.0941297108167319$"
      ],
      "text/plain": [
       "0.09412971081673194"
      ]
     },
     "execution_count": 9,
     "metadata": {},
     "output_type": "execute_result"
    }
   ],
   "source": [
    "1.96*(cdf_1['y'] - cdf_0['y']).std() / np.sqrt(len(df))"
   ]
  },
  {
   "cell_type": "markdown",
   "metadata": {},
   "source": [
    "Comparing to the estimate from OLS."
   ]
  },
  {
   "cell_type": "code",
   "execution_count": 10,
   "metadata": {
    "execution": {
     "iopub.execute_input": "2022-08-23T13:11:20.225469Z",
     "iopub.status.busy": "2022-08-23T13:11:20.224987Z",
     "iopub.status.idle": "2022-08-23T13:11:20.244491Z",
     "shell.execute_reply": "2022-08-23T13:11:20.243701Z"
    }
   },
   "outputs": [
    {
     "data": {
      "text/html": [
       "<table class=\"simpletable\">\n",
       "<caption>OLS Regression Results</caption>\n",
       "<tr>\n",
       "  <th>Dep. Variable:</th>            <td>y</td>        <th>  R-squared (uncentered):</th>      <td>   0.928</td>\n",
       "</tr>\n",
       "<tr>\n",
       "  <th>Model:</th>                   <td>OLS</td>       <th>  Adj. R-squared (uncentered):</th> <td>   0.928</td>\n",
       "</tr>\n",
       "<tr>\n",
       "  <th>Method:</th>             <td>Least Squares</td>  <th>  F-statistic:       </th>          <td>   6437.</td>\n",
       "</tr>\n",
       "<tr>\n",
       "  <th>Date:</th>             <td>Tue, 23 Aug 2022</td> <th>  Prob (F-statistic):</th>           <td>  0.00</td> \n",
       "</tr>\n",
       "<tr>\n",
       "  <th>Time:</th>                 <td>13:11:20</td>     <th>  Log-Likelihood:    </th>          <td> -1405.7</td>\n",
       "</tr>\n",
       "<tr>\n",
       "  <th>No. Observations:</th>      <td>  1000</td>      <th>  AIC:               </th>          <td>   2815.</td>\n",
       "</tr>\n",
       "<tr>\n",
       "  <th>Df Residuals:</th>          <td>   998</td>      <th>  BIC:               </th>          <td>   2825.</td>\n",
       "</tr>\n",
       "<tr>\n",
       "  <th>Df Model:</th>              <td>     2</td>      <th>                     </th>              <td> </td>   \n",
       "</tr>\n",
       "<tr>\n",
       "  <th>Covariance Type:</th>      <td>nonrobust</td>    <th>                     </th>              <td> </td>   \n",
       "</tr>\n",
       "</table>\n",
       "<table class=\"simpletable\">\n",
       "<tr>\n",
       "   <td></td>     <th>coef</th>     <th>std err</th>      <th>t</th>      <th>P>|t|</th>  <th>[0.025</th>    <th>0.975]</th>  \n",
       "</tr>\n",
       "<tr>\n",
       "  <th>x1</th> <td>    0.4727</td> <td>    0.032</td> <td>   14.977</td> <td> 0.000</td> <td>    0.411</td> <td>    0.535</td>\n",
       "</tr>\n",
       "<tr>\n",
       "  <th>x2</th> <td>    4.9688</td> <td>    0.045</td> <td>  109.638</td> <td> 0.000</td> <td>    4.880</td> <td>    5.058</td>\n",
       "</tr>\n",
       "</table>\n",
       "<table class=\"simpletable\">\n",
       "<tr>\n",
       "  <th>Omnibus:</th>       <td> 1.512</td> <th>  Durbin-Watson:     </th> <td>   1.870</td>\n",
       "</tr>\n",
       "<tr>\n",
       "  <th>Prob(Omnibus):</th> <td> 0.470</td> <th>  Jarque-Bera (JB):  </th> <td>   1.437</td>\n",
       "</tr>\n",
       "<tr>\n",
       "  <th>Skew:</th>          <td> 0.020</td> <th>  Prob(JB):          </th> <td>   0.487</td>\n",
       "</tr>\n",
       "<tr>\n",
       "  <th>Kurtosis:</th>      <td> 3.181</td> <th>  Cond. No.          </th> <td>    1.47</td>\n",
       "</tr>\n",
       "</table><br/><br/>Notes:<br/>[1] R² is computed without centering (uncentered) since the model does not contain a constant.<br/>[2] Standard Errors assume that the covariance matrix of the errors is correctly specified."
      ],
      "text/plain": [
       "<class 'statsmodels.iolib.summary.Summary'>\n",
       "\"\"\"\n",
       "                                 OLS Regression Results                                \n",
       "=======================================================================================\n",
       "Dep. Variable:                      y   R-squared (uncentered):                   0.928\n",
       "Model:                            OLS   Adj. R-squared (uncentered):              0.928\n",
       "Method:                 Least Squares   F-statistic:                              6437.\n",
       "Date:                Tue, 23 Aug 2022   Prob (F-statistic):                        0.00\n",
       "Time:                        13:11:20   Log-Likelihood:                         -1405.7\n",
       "No. Observations:                1000   AIC:                                      2815.\n",
       "Df Residuals:                     998   BIC:                                      2825.\n",
       "Df Model:                           2                                                  \n",
       "Covariance Type:            nonrobust                                                  \n",
       "==============================================================================\n",
       "                 coef    std err          t      P>|t|      [0.025      0.975]\n",
       "------------------------------------------------------------------------------\n",
       "x1             0.4727      0.032     14.977      0.000       0.411       0.535\n",
       "x2             4.9688      0.045    109.638      0.000       4.880       5.058\n",
       "==============================================================================\n",
       "Omnibus:                        1.512   Durbin-Watson:                   1.870\n",
       "Prob(Omnibus):                  0.470   Jarque-Bera (JB):                1.437\n",
       "Skew:                           0.020   Prob(JB):                        0.487\n",
       "Kurtosis:                       3.181   Cond. No.                         1.47\n",
       "==============================================================================\n",
       "\n",
       "Notes:\n",
       "[1] R² is computed without centering (uncentered) since the model does not contain a constant.\n",
       "[2] Standard Errors assume that the covariance matrix of the errors is correctly specified.\n",
       "\"\"\""
      ]
     },
     "execution_count": 10,
     "metadata": {},
     "output_type": "execute_result"
    }
   ],
   "source": [
    "model = OLS(np.asarray(df[outcome]), np.asarray(df[[common_cause, treatment]], dtype=np.float64))\n",
    "result = model.fit()\n",
    "result.summary()"
   ]
  }
 ],
 "metadata": {
  "kernelspec": {
   "display_name": "Python 3",
   "language": "python",
   "name": "python3"
  },
  "language_info": {
   "codemirror_mode": {
    "name": "ipython",
    "version": 3
   },
   "file_extension": ".py",
   "mimetype": "text/x-python",
   "name": "python",
   "nbconvert_exporter": "python",
   "pygments_lexer": "ipython3",
   "version": "3.8.10"
  },
  "toc": {
   "base_numbering": 1,
   "nav_menu": {},
   "number_sections": false,
   "sideBar": true,
   "skip_h1_title": true,
   "title_cell": "Table of Contents",
   "title_sidebar": "Contents",
   "toc_cell": false,
   "toc_position": {},
   "toc_section_display": true,
   "toc_window_display": false
  }
 },
 "nbformat": 4,
 "nbformat_minor": 4
}
