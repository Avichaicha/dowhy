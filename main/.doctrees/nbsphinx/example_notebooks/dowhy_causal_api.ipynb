{
 "cells": [
  {
   "cell_type": "markdown",
   "metadata": {},
   "source": [
    "# Demo for the DoWhy causal API\n",
    "We show a simple example of adding a causal extension to any dataframe. "
   ]
  },
  {
   "cell_type": "code",
   "execution_count": 1,
   "metadata": {
    "execution": {
     "iopub.execute_input": "2022-12-03T17:28:50.399442Z",
     "iopub.status.busy": "2022-12-03T17:28:50.399199Z",
     "iopub.status.idle": "2022-12-03T17:28:52.162223Z",
     "shell.execute_reply": "2022-12-03T17:28:52.161584Z"
    }
   },
   "outputs": [],
   "source": [
    "import dowhy.datasets\n",
    "import dowhy.api\n",
    "\n",
    "import numpy as np\n",
    "import pandas as pd\n",
    "\n",
    "from statsmodels.api import OLS"
   ]
  },
  {
   "cell_type": "code",
   "execution_count": 2,
   "metadata": {
    "execution": {
     "iopub.execute_input": "2022-12-03T17:28:52.165979Z",
     "iopub.status.busy": "2022-12-03T17:28:52.165432Z",
     "iopub.status.idle": "2022-12-03T17:28:52.203803Z",
     "shell.execute_reply": "2022-12-03T17:28:52.203230Z"
    }
   },
   "outputs": [
    {
     "data": {
      "text/html": [
       "<div>\n",
       "<style scoped>\n",
       "    .dataframe tbody tr th:only-of-type {\n",
       "        vertical-align: middle;\n",
       "    }\n",
       "\n",
       "    .dataframe tbody tr th {\n",
       "        vertical-align: top;\n",
       "    }\n",
       "\n",
       "    .dataframe thead th {\n",
       "        text-align: right;\n",
       "    }\n",
       "</style>\n",
       "<table border=\"1\" class=\"dataframe\">\n",
       "  <thead>\n",
       "    <tr style=\"text-align: right;\">\n",
       "      <th></th>\n",
       "      <th>W0</th>\n",
       "      <th>v0</th>\n",
       "      <th>y</th>\n",
       "    </tr>\n",
       "  </thead>\n",
       "  <tbody>\n",
       "    <tr>\n",
       "      <th>0</th>\n",
       "      <td>-2.833350</td>\n",
       "      <td>False</td>\n",
       "      <td>-5.537440</td>\n",
       "    </tr>\n",
       "    <tr>\n",
       "      <th>1</th>\n",
       "      <td>0.112280</td>\n",
       "      <td>True</td>\n",
       "      <td>3.618443</td>\n",
       "    </tr>\n",
       "    <tr>\n",
       "      <th>2</th>\n",
       "      <td>-0.917444</td>\n",
       "      <td>False</td>\n",
       "      <td>-0.093863</td>\n",
       "    </tr>\n",
       "    <tr>\n",
       "      <th>3</th>\n",
       "      <td>0.478427</td>\n",
       "      <td>True</td>\n",
       "      <td>5.187700</td>\n",
       "    </tr>\n",
       "    <tr>\n",
       "      <th>4</th>\n",
       "      <td>1.536326</td>\n",
       "      <td>True</td>\n",
       "      <td>8.979689</td>\n",
       "    </tr>\n",
       "    <tr>\n",
       "      <th>...</th>\n",
       "      <td>...</td>\n",
       "      <td>...</td>\n",
       "      <td>...</td>\n",
       "    </tr>\n",
       "    <tr>\n",
       "      <th>995</th>\n",
       "      <td>0.613221</td>\n",
       "      <td>True</td>\n",
       "      <td>7.049463</td>\n",
       "    </tr>\n",
       "    <tr>\n",
       "      <th>996</th>\n",
       "      <td>0.732101</td>\n",
       "      <td>True</td>\n",
       "      <td>6.793848</td>\n",
       "    </tr>\n",
       "    <tr>\n",
       "      <th>997</th>\n",
       "      <td>0.853697</td>\n",
       "      <td>True</td>\n",
       "      <td>6.377998</td>\n",
       "    </tr>\n",
       "    <tr>\n",
       "      <th>998</th>\n",
       "      <td>-0.988448</td>\n",
       "      <td>False</td>\n",
       "      <td>-1.282949</td>\n",
       "    </tr>\n",
       "    <tr>\n",
       "      <th>999</th>\n",
       "      <td>-1.452057</td>\n",
       "      <td>False</td>\n",
       "      <td>-3.686975</td>\n",
       "    </tr>\n",
       "  </tbody>\n",
       "</table>\n",
       "<p>1000 rows × 3 columns</p>\n",
       "</div>"
      ],
      "text/plain": [
       "           W0     v0         y\n",
       "0   -2.833350  False -5.537440\n",
       "1    0.112280   True  3.618443\n",
       "2   -0.917444  False -0.093863\n",
       "3    0.478427   True  5.187700\n",
       "4    1.536326   True  8.979689\n",
       "..        ...    ...       ...\n",
       "995  0.613221   True  7.049463\n",
       "996  0.732101   True  6.793848\n",
       "997  0.853697   True  6.377998\n",
       "998 -0.988448  False -1.282949\n",
       "999 -1.452057  False -3.686975\n",
       "\n",
       "[1000 rows x 3 columns]"
      ]
     },
     "execution_count": 2,
     "metadata": {},
     "output_type": "execute_result"
    }
   ],
   "source": [
    "data = dowhy.datasets.linear_dataset(beta=5,\n",
    "        num_common_causes=1,\n",
    "        num_instruments = 0,\n",
    "        num_samples=1000,\n",
    "        treatment_is_binary=True)\n",
    "df = data['df']\n",
    "df['y'] = df['y'] + np.random.normal(size=len(df)) # Adding noise to data. Without noise, the variance in Y|X, Z is zero, and mcmc fails.\n",
    "#data['dot_graph'] = 'digraph { v ->y;X0-> v;X0-> y;}'\n",
    "\n",
    "treatment= data[\"treatment_name\"][0]\n",
    "outcome = data[\"outcome_name\"][0]\n",
    "common_cause = data[\"common_causes_names\"][0]\n",
    "df"
   ]
  },
  {
   "cell_type": "code",
   "execution_count": 3,
   "metadata": {
    "execution": {
     "iopub.execute_input": "2022-12-03T17:28:52.206778Z",
     "iopub.status.busy": "2022-12-03T17:28:52.206571Z",
     "iopub.status.idle": "2022-12-03T17:28:52.352458Z",
     "shell.execute_reply": "2022-12-03T17:28:52.351910Z"
    }
   },
   "outputs": [
    {
     "data": {
      "text/plain": [
       "<AxesSubplot: xlabel='v0'>"
      ]
     },
     "execution_count": 3,
     "metadata": {},
     "output_type": "execute_result"
    },
    {
     "data": {
      "image/png": "[encoded data removed]",
      "text/plain": [
       "<Figure size 640x480 with 1 Axes>"
      ]
     },
     "metadata": {},
     "output_type": "display_data"
    }
   ],
   "source": [
    "# data['df'] is just a regular pandas.DataFrame\n",
    "df.causal.do(x=treatment,\n",
    "                     variable_types={treatment: 'b', outcome: 'c', common_cause: 'c'},\n",
    "                     outcome=outcome,\n",
    "                     common_causes=[common_cause],\n",
    "                     proceed_when_unidentifiable=True).groupby(treatment).mean().plot(y=outcome, kind='bar')"
   ]
  },
  {
   "cell_type": "code",
   "execution_count": 4,
   "metadata": {
    "execution": {
     "iopub.execute_input": "2022-12-03T17:28:52.355430Z",
     "iopub.status.busy": "2022-12-03T17:28:52.355047Z",
     "iopub.status.idle": "2022-12-03T17:28:52.464478Z",
     "shell.execute_reply": "2022-12-03T17:28:52.463982Z"
    }
   },
   "outputs": [
    {
     "data": {
      "text/plain": [
       "<AxesSubplot: xlabel='v0'>"
      ]
     },
     "execution_count": 4,
     "metadata": {},
     "output_type": "execute_result"
    },
    {
     "data": {
      "image/png": "[encoded data removed]",
      "text/plain": [
       "<Figure size 640x480 with 1 Axes>"
      ]
     },
     "metadata": {},
     "output_type": "display_data"
    }
   ],
   "source": [
    "df.causal.do(x={treatment: 1}, \n",
    "              variable_types={treatment:'b', outcome: 'c', common_cause: 'c'}, \n",
    "              outcome=outcome,\n",
    "              method='weighting', \n",
    "              common_causes=[common_cause],\n",
    "              proceed_when_unidentifiable=True).groupby(treatment).mean().plot(y=outcome, kind='bar')"
   ]
  },
  {
   "cell_type": "code",
   "execution_count": 5,
   "metadata": {
    "execution": {
     "iopub.execute_input": "2022-12-03T17:28:52.468406Z",
     "iopub.status.busy": "2022-12-03T17:28:52.467438Z",
     "iopub.status.idle": "2022-12-03T17:28:52.498494Z",
     "shell.execute_reply": "2022-12-03T17:28:52.498011Z"
    }
   },
   "outputs": [],
   "source": [
    "cdf_1 = df.causal.do(x={treatment: 1}, \n",
    "              variable_types={treatment: 'b', outcome: 'c', common_cause: 'c'}, \n",
    "              outcome=outcome, \n",
    "              dot_graph=data['dot_graph'],\n",
    "              proceed_when_unidentifiable=True)\n",
    "\n",
    "cdf_0 = df.causal.do(x={treatment: 0}, \n",
    "              variable_types={treatment: 'b', outcome: 'c', common_cause: 'c'}, \n",
    "              outcome=outcome, \n",
    "              dot_graph=data['dot_graph'],\n",
    "              proceed_when_unidentifiable=True)\n"
   ]
  },
  {
   "cell_type": "code",
   "execution_count": 6,
   "metadata": {
    "execution": {
     "iopub.execute_input": "2022-12-03T17:28:52.502391Z",
     "iopub.status.busy": "2022-12-03T17:28:52.501447Z",
     "iopub.status.idle": "2022-12-03T17:28:52.513207Z",
     "shell.execute_reply": "2022-12-03T17:28:52.512750Z"
    },
    "scrolled": true
   },
   "outputs": [
    {
     "data": {
      "text/html": [
       "<div>\n",
       "<style scoped>\n",
       "    .dataframe tbody tr th:only-of-type {\n",
       "        vertical-align: middle;\n",
       "    }\n",
       "\n",
       "    .dataframe tbody tr th {\n",
       "        vertical-align: top;\n",
       "    }\n",
       "\n",
       "    .dataframe thead th {\n",
       "        text-align: right;\n",
       "    }\n",
       "</style>\n",
       "<table border=\"1\" class=\"dataframe\">\n",
       "  <thead>\n",
       "    <tr style=\"text-align: right;\">\n",
       "      <th></th>\n",
       "      <th>W0</th>\n",
       "      <th>v0</th>\n",
       "      <th>y</th>\n",
       "      <th>propensity_score</th>\n",
       "      <th>weight</th>\n",
       "    </tr>\n",
       "  </thead>\n",
       "  <tbody>\n",
       "    <tr>\n",
       "      <th>0</th>\n",
       "      <td>0.661972</td>\n",
       "      <td>False</td>\n",
       "      <td>2.216604</td>\n",
       "      <td>0.178661</td>\n",
       "      <td>5.597193</td>\n",
       "    </tr>\n",
       "    <tr>\n",
       "      <th>1</th>\n",
       "      <td>-0.005500</td>\n",
       "      <td>False</td>\n",
       "      <td>0.548451</td>\n",
       "      <td>0.479988</td>\n",
       "      <td>2.083383</td>\n",
       "    </tr>\n",
       "    <tr>\n",
       "      <th>2</th>\n",
       "      <td>-0.311026</td>\n",
       "      <td>False</td>\n",
       "      <td>-0.224046</td>\n",
       "      <td>0.641414</td>\n",
       "      <td>1.559057</td>\n",
       "    </tr>\n",
       "    <tr>\n",
       "      <th>3</th>\n",
       "      <td>0.212942</td>\n",
       "      <td>False</td>\n",
       "      <td>1.019415</td>\n",
       "      <td>0.365144</td>\n",
       "      <td>2.738647</td>\n",
       "    </tr>\n",
       "    <tr>\n",
       "      <th>4</th>\n",
       "      <td>-1.018286</td>\n",
       "      <td>False</td>\n",
       "      <td>-3.171550</td>\n",
       "      <td>0.892162</td>\n",
       "      <td>1.120872</td>\n",
       "    </tr>\n",
       "    <tr>\n",
       "      <th>...</th>\n",
       "      <td>...</td>\n",
       "      <td>...</td>\n",
       "      <td>...</td>\n",
       "      <td>...</td>\n",
       "      <td>...</td>\n",
       "    </tr>\n",
       "    <tr>\n",
       "      <th>995</th>\n",
       "      <td>-1.107272</td>\n",
       "      <td>False</td>\n",
       "      <td>-2.029394</td>\n",
       "      <td>0.909349</td>\n",
       "      <td>1.099688</td>\n",
       "    </tr>\n",
       "    <tr>\n",
       "      <th>996</th>\n",
       "      <td>-1.526499</td>\n",
       "      <td>False</td>\n",
       "      <td>-2.918669</td>\n",
       "      <td>0.961340</td>\n",
       "      <td>1.040215</td>\n",
       "    </tr>\n",
       "    <tr>\n",
       "      <th>997</th>\n",
       "      <td>-1.365184</td>\n",
       "      <td>False</td>\n",
       "      <td>-2.502406</td>\n",
       "      <td>0.946048</td>\n",
       "      <td>1.057029</td>\n",
       "    </tr>\n",
       "    <tr>\n",
       "      <th>998</th>\n",
       "      <td>-0.706887</td>\n",
       "      <td>False</td>\n",
       "      <td>-1.809956</td>\n",
       "      <td>0.808255</td>\n",
       "      <td>1.237234</td>\n",
       "    </tr>\n",
       "    <tr>\n",
       "      <th>999</th>\n",
       "      <td>-0.031147</td>\n",
       "      <td>False</td>\n",
       "      <td>-1.678116</td>\n",
       "      <td>0.493863</td>\n",
       "      <td>2.024854</td>\n",
       "    </tr>\n",
       "  </tbody>\n",
       "</table>\n",
       "<p>1000 rows × 5 columns</p>\n",
       "</div>"
      ],
      "text/plain": [
       "           W0     v0         y  propensity_score    weight\n",
       "0    0.661972  False  2.216604          0.178661  5.597193\n",
       "1   -0.005500  False  0.548451          0.479988  2.083383\n",
       "2   -0.311026  False -0.224046          0.641414  1.559057\n",
       "3    0.212942  False  1.019415          0.365144  2.738647\n",
       "4   -1.018286  False -3.171550          0.892162  1.120872\n",
       "..        ...    ...       ...               ...       ...\n",
       "995 -1.107272  False -2.029394          0.909349  1.099688\n",
       "996 -1.526499  False -2.918669          0.961340  1.040215\n",
       "997 -1.365184  False -2.502406          0.946048  1.057029\n",
       "998 -0.706887  False -1.809956          0.808255  1.237234\n",
       "999 -0.031147  False -1.678116          0.493863  2.024854\n",
       "\n",
       "[1000 rows x 5 columns]"
      ]
     },
     "execution_count": 6,
     "metadata": {},
     "output_type": "execute_result"
    }
   ],
   "source": [
    "cdf_0"
   ]
  },
  {
   "cell_type": "code",
   "execution_count": 7,
   "metadata": {
    "execution": {
     "iopub.execute_input": "2022-12-03T17:28:52.516121Z",
     "iopub.status.busy": "2022-12-03T17:28:52.515708Z",
     "iopub.status.idle": "2022-12-03T17:28:52.525369Z",
     "shell.execute_reply": "2022-12-03T17:28:52.524785Z"
    }
   },
   "outputs": [
    {
     "data": {
      "text/html": [
       "<div>\n",
       "<style scoped>\n",
       "    .dataframe tbody tr th:only-of-type {\n",
       "        vertical-align: middle;\n",
       "    }\n",
       "\n",
       "    .dataframe tbody tr th {\n",
       "        vertical-align: top;\n",
       "    }\n",
       "\n",
       "    .dataframe thead th {\n",
       "        text-align: right;\n",
       "    }\n",
       "</style>\n",
       "<table border=\"1\" class=\"dataframe\">\n",
       "  <thead>\n",
       "    <tr style=\"text-align: right;\">\n",
       "      <th></th>\n",
       "      <th>W0</th>\n",
       "      <th>v0</th>\n",
       "      <th>y</th>\n",
       "      <th>propensity_score</th>\n",
       "      <th>weight</th>\n",
       "    </tr>\n",
       "  </thead>\n",
       "  <tbody>\n",
       "    <tr>\n",
       "      <th>0</th>\n",
       "      <td>0.607460</td>\n",
       "      <td>True</td>\n",
       "      <td>5.762749</td>\n",
       "      <td>0.803356</td>\n",
       "      <td>1.244778</td>\n",
       "    </tr>\n",
       "    <tr>\n",
       "      <th>1</th>\n",
       "      <td>0.901764</td>\n",
       "      <td>True</td>\n",
       "      <td>6.310603</td>\n",
       "      <td>0.885411</td>\n",
       "      <td>1.129419</td>\n",
       "    </tr>\n",
       "    <tr>\n",
       "      <th>2</th>\n",
       "      <td>-0.554129</td>\n",
       "      <td>True</td>\n",
       "      <td>3.487074</td>\n",
       "      <td>0.248258</td>\n",
       "      <td>4.028067</td>\n",
       "    </tr>\n",
       "    <tr>\n",
       "      <th>3</th>\n",
       "      <td>2.255206</td>\n",
       "      <td>True</td>\n",
       "      <td>9.941129</td>\n",
       "      <td>0.993142</td>\n",
       "      <td>1.006905</td>\n",
       "    </tr>\n",
       "    <tr>\n",
       "      <th>4</th>\n",
       "      <td>1.338642</td>\n",
       "      <td>True</td>\n",
       "      <td>9.145532</td>\n",
       "      <td>0.952153</td>\n",
       "      <td>1.050251</td>\n",
       "    </tr>\n",
       "    <tr>\n",
       "      <th>...</th>\n",
       "      <td>...</td>\n",
       "      <td>...</td>\n",
       "      <td>...</td>\n",
       "      <td>...</td>\n",
       "      <td>...</td>\n",
       "    </tr>\n",
       "    <tr>\n",
       "      <th>995</th>\n",
       "      <td>0.096872</td>\n",
       "      <td>True</td>\n",
       "      <td>7.112118</td>\n",
       "      <td>0.574874</td>\n",
       "      <td>1.739510</td>\n",
       "    </tr>\n",
       "    <tr>\n",
       "      <th>996</th>\n",
       "      <td>-0.850068</td>\n",
       "      <td>True</td>\n",
       "      <td>3.669570</td>\n",
       "      <td>0.148204</td>\n",
       "      <td>6.747452</td>\n",
       "    </tr>\n",
       "    <tr>\n",
       "      <th>997</th>\n",
       "      <td>-0.797255</td>\n",
       "      <td>True</td>\n",
       "      <td>4.464058</td>\n",
       "      <td>0.163229</td>\n",
       "      <td>6.126353</td>\n",
       "    </tr>\n",
       "    <tr>\n",
       "      <th>998</th>\n",
       "      <td>-0.000676</td>\n",
       "      <td>True</td>\n",
       "      <td>5.992398</td>\n",
       "      <td>0.522618</td>\n",
       "      <td>1.913443</td>\n",
       "    </tr>\n",
       "    <tr>\n",
       "      <th>999</th>\n",
       "      <td>-0.889675</td>\n",
       "      <td>True</td>\n",
       "      <td>1.580178</td>\n",
       "      <td>0.137700</td>\n",
       "      <td>7.262151</td>\n",
       "    </tr>\n",
       "  </tbody>\n",
       "</table>\n",
       "<p>1000 rows × 5 columns</p>\n",
       "</div>"
      ],
      "text/plain": [
       "           W0    v0         y  propensity_score    weight\n",
       "0    0.607460  True  5.762749          0.803356  1.244778\n",
       "1    0.901764  True  6.310603          0.885411  1.129419\n",
       "2   -0.554129  True  3.487074          0.248258  4.028067\n",
       "3    2.255206  True  9.941129          0.993142  1.006905\n",
       "4    1.338642  True  9.145532          0.952153  1.050251\n",
       "..        ...   ...       ...               ...       ...\n",
       "995  0.096872  True  7.112118          0.574874  1.739510\n",
       "996 -0.850068  True  3.669570          0.148204  6.747452\n",
       "997 -0.797255  True  4.464058          0.163229  6.126353\n",
       "998 -0.000676  True  5.992398          0.522618  1.913443\n",
       "999 -0.889675  True  1.580178          0.137700  7.262151\n",
       "\n",
       "[1000 rows x 5 columns]"
      ]
     },
     "execution_count": 7,
     "metadata": {},
     "output_type": "execute_result"
    }
   ],
   "source": [
    "cdf_1"
   ]
  },
  {
   "cell_type": "markdown",
   "metadata": {},
   "source": [
    "## Comparing the estimate to Linear Regression\n",
    "First, estimating the effect using the causal data frame, and the 95% confidence interval."
   ]
  },
  {
   "cell_type": "code",
   "execution_count": 8,
   "metadata": {
    "execution": {
     "iopub.execute_input": "2022-12-03T17:28:52.527862Z",
     "iopub.status.busy": "2022-12-03T17:28:52.527656Z",
     "iopub.status.idle": "2022-12-03T17:28:52.584809Z",
     "shell.execute_reply": "2022-12-03T17:28:52.584261Z"
    }
   },
   "outputs": [
    {
     "data": {
      "image/png": "[encoded data removed]",
      "text/latex": [
       "$\\displaystyle 5.58991986064135$"
      ],
      "text/plain": [
       "5.589919860641352"
      ]
     },
     "execution_count": 8,
     "metadata": {},
     "output_type": "execute_result"
    }
   ],
   "source": [
    "(cdf_1['y'] - cdf_0['y']).mean()"
   ]
  },
  {
   "cell_type": "code",
   "execution_count": 9,
   "metadata": {
    "execution": {
     "iopub.execute_input": "2022-12-03T17:28:52.587880Z",
     "iopub.status.busy": "2022-12-03T17:28:52.587406Z",
     "iopub.status.idle": "2022-12-03T17:28:52.606615Z",
     "shell.execute_reply": "2022-12-03T17:28:52.606010Z"
    }
   },
   "outputs": [
    {
     "data": {
      "image/png": "[encoded data removed]",
      "text/latex": [
       "$\\displaystyle 0.167423694413428$"
      ],
      "text/plain": [
       "0.1674236944134276"
      ]
     },
     "execution_count": 9,
     "metadata": {},
     "output_type": "execute_result"
    }
   ],
   "source": [
    "1.96*(cdf_1['y'] - cdf_0['y']).std() / np.sqrt(len(df))"
   ]
  },
  {
   "cell_type": "markdown",
   "metadata": {},
   "source": [
    "Comparing to the estimate from OLS."
   ]
  },
  {
   "cell_type": "code",
   "execution_count": 10,
   "metadata": {
    "execution": {
     "iopub.execute_input": "2022-12-03T17:28:52.609102Z",
     "iopub.status.busy": "2022-12-03T17:28:52.608895Z",
     "iopub.status.idle": "2022-12-03T17:28:52.623579Z",
     "shell.execute_reply": "2022-12-03T17:28:52.623015Z"
    }
   },
   "outputs": [
    {
     "data": {
      "text/html": [
       "<table class=\"simpletable\">\n",
       "<caption>OLS Regression Results</caption>\n",
       "<tr>\n",
       "  <th>Dep. Variable:</th>            <td>y</td>        <th>  R-squared (uncentered):</th>      <td>   0.956</td> \n",
       "</tr>\n",
       "<tr>\n",
       "  <th>Model:</th>                   <td>OLS</td>       <th>  Adj. R-squared (uncentered):</th> <td>   0.956</td> \n",
       "</tr>\n",
       "<tr>\n",
       "  <th>Method:</th>             <td>Least Squares</td>  <th>  F-statistic:       </th>          <td>1.087e+04</td>\n",
       "</tr>\n",
       "<tr>\n",
       "  <th>Date:</th>             <td>Sat, 03 Dec 2022</td> <th>  Prob (F-statistic):</th>           <td>  0.00</td>  \n",
       "</tr>\n",
       "<tr>\n",
       "  <th>Time:</th>                 <td>17:28:52</td>     <th>  Log-Likelihood:    </th>          <td> -1458.0</td> \n",
       "</tr>\n",
       "<tr>\n",
       "  <th>No. Observations:</th>      <td>  1000</td>      <th>  AIC:               </th>          <td>   2920.</td> \n",
       "</tr>\n",
       "<tr>\n",
       "  <th>Df Residuals:</th>          <td>   998</td>      <th>  BIC:               </th>          <td>   2930.</td> \n",
       "</tr>\n",
       "<tr>\n",
       "  <th>Df Model:</th>              <td>     2</td>      <th>                     </th>              <td> </td>    \n",
       "</tr>\n",
       "<tr>\n",
       "  <th>Covariance Type:</th>      <td>nonrobust</td>    <th>                     </th>              <td> </td>    \n",
       "</tr>\n",
       "</table>\n",
       "<table class=\"simpletable\">\n",
       "<tr>\n",
       "   <td></td>     <th>coef</th>     <th>std err</th>      <th>t</th>      <th>P>|t|</th>  <th>[0.025</th>    <th>0.975]</th>  \n",
       "</tr>\n",
       "<tr>\n",
       "  <th>x1</th> <td>    1.7974</td> <td>    0.036</td> <td>   50.120</td> <td> 0.000</td> <td>    1.727</td> <td>    1.868</td>\n",
       "</tr>\n",
       "<tr>\n",
       "  <th>x2</th> <td>    5.0578</td> <td>    0.051</td> <td>   98.486</td> <td> 0.000</td> <td>    4.957</td> <td>    5.159</td>\n",
       "</tr>\n",
       "</table>\n",
       "<table class=\"simpletable\">\n",
       "<tr>\n",
       "  <th>Omnibus:</th>       <td> 0.479</td> <th>  Durbin-Watson:     </th> <td>   2.004</td>\n",
       "</tr>\n",
       "<tr>\n",
       "  <th>Prob(Omnibus):</th> <td> 0.787</td> <th>  Jarque-Bera (JB):  </th> <td>   0.373</td>\n",
       "</tr>\n",
       "<tr>\n",
       "  <th>Skew:</th>          <td>-0.033</td> <th>  Prob(JB):          </th> <td>   0.830</td>\n",
       "</tr>\n",
       "<tr>\n",
       "  <th>Kurtosis:</th>      <td> 3.069</td> <th>  Cond. No.          </th> <td>    1.89</td>\n",
       "</tr>\n",
       "</table><br/><br/>Notes:<br/>[1] R² is computed without centering (uncentered) since the model does not contain a constant.<br/>[2] Standard Errors assume that the covariance matrix of the errors is correctly specified."
      ],
      "text/plain": [
       "<class 'statsmodels.iolib.summary.Summary'>\n",
       "\"\"\"\n",
       "                                 OLS Regression Results                                \n",
       "=======================================================================================\n",
       "Dep. Variable:                      y   R-squared (uncentered):                   0.956\n",
       "Model:                            OLS   Adj. R-squared (uncentered):              0.956\n",
       "Method:                 Least Squares   F-statistic:                          1.087e+04\n",
       "Date:                Sat, 03 Dec 2022   Prob (F-statistic):                        0.00\n",
       "Time:                        17:28:52   Log-Likelihood:                         -1458.0\n",
       "No. Observations:                1000   AIC:                                      2920.\n",
       "Df Residuals:                     998   BIC:                                      2930.\n",
       "Df Model:                           2                                                  \n",
       "Covariance Type:            nonrobust                                                  \n",
       "==============================================================================\n",
       "                 coef    std err          t      P>|t|      [0.025      0.975]\n",
       "------------------------------------------------------------------------------\n",
       "x1             1.7974      0.036     50.120      0.000       1.727       1.868\n",
       "x2             5.0578      0.051     98.486      0.000       4.957       5.159\n",
       "==============================================================================\n",
       "Omnibus:                        0.479   Durbin-Watson:                   2.004\n",
       "Prob(Omnibus):                  0.787   Jarque-Bera (JB):                0.373\n",
       "Skew:                          -0.033   Prob(JB):                        0.830\n",
       "Kurtosis:                       3.069   Cond. No.                         1.89\n",
       "==============================================================================\n",
       "\n",
       "Notes:\n",
       "[1] R² is computed without centering (uncentered) since the model does not contain a constant.\n",
       "[2] Standard Errors assume that the covariance matrix of the errors is correctly specified.\n",
       "\"\"\""
      ]
     },
     "execution_count": 10,
     "metadata": {},
     "output_type": "execute_result"
    }
   ],
   "source": [
    "model = OLS(np.asarray(df[outcome]), np.asarray(df[[common_cause, treatment]], dtype=np.float64))\n",
    "result = model.fit()\n",
    "result.summary()"
   ]
  }
 ],
 "metadata": {
  "kernelspec": {
   "display_name": "Python 3",
   "language": "python",
   "name": "python3"
  },
  "language_info": {
   "codemirror_mode": {
    "name": "ipython",
    "version": 3
   },
   "file_extension": ".py",
   "mimetype": "text/x-python",
   "name": "python",
   "nbconvert_exporter": "python",
   "pygments_lexer": "ipython3",
   "version": "3.8.10"
  },
  "toc": {
   "base_numbering": 1,
   "nav_menu": {},
   "number_sections": false,
   "sideBar": true,
   "skip_h1_title": true,
   "title_cell": "Table of Contents",
   "title_sidebar": "Contents",
   "toc_cell": false,
   "toc_position": {},
   "toc_section_display": true,
   "toc_window_display": false
  }
 },
 "nbformat": 4,
 "nbformat_minor": 4
}
