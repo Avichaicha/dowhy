{
 "cells": [
  {
   "cell_type": "markdown",
   "metadata": {},
   "source": [
    "# Demo for the DoWhy causal API\n",
    "We show a simple example of adding a causal extension to any dataframe. "
   ]
  },
  {
   "cell_type": "code",
   "execution_count": 1,
   "metadata": {
    "execution": {
     "iopub.execute_input": "2022-11-11T08:05:59.028351Z",
     "iopub.status.busy": "2022-11-11T08:05:59.027828Z",
     "iopub.status.idle": "2022-11-11T08:06:01.520542Z",
     "shell.execute_reply": "2022-11-11T08:06:01.519541Z"
    }
   },
   "outputs": [],
   "source": [
    "import dowhy.datasets\n",
    "import dowhy.api\n",
    "\n",
    "import numpy as np\n",
    "import pandas as pd\n",
    "\n",
    "from statsmodels.api import OLS"
   ]
  },
  {
   "cell_type": "code",
   "execution_count": 2,
   "metadata": {
    "execution": {
     "iopub.execute_input": "2022-11-11T08:06:01.525997Z",
     "iopub.status.busy": "2022-11-11T08:06:01.525349Z",
     "iopub.status.idle": "2022-11-11T08:06:01.599221Z",
     "shell.execute_reply": "2022-11-11T08:06:01.598116Z"
    }
   },
   "outputs": [
    {
     "data": {
      "text/html": [
       "<div>\n",
       "<style scoped>\n",
       "    .dataframe tbody tr th:only-of-type {\n",
       "        vertical-align: middle;\n",
       "    }\n",
       "\n",
       "    .dataframe tbody tr th {\n",
       "        vertical-align: top;\n",
       "    }\n",
       "\n",
       "    .dataframe thead th {\n",
       "        text-align: right;\n",
       "    }\n",
       "</style>\n",
       "<table border=\"1\" class=\"dataframe\">\n",
       "  <thead>\n",
       "    <tr style=\"text-align: right;\">\n",
       "      <th></th>\n",
       "      <th>W0</th>\n",
       "      <th>v0</th>\n",
       "      <th>y</th>\n",
       "    </tr>\n",
       "  </thead>\n",
       "  <tbody>\n",
       "    <tr>\n",
       "      <th>0</th>\n",
       "      <td>0.658181</td>\n",
       "      <td>True</td>\n",
       "      <td>3.797700</td>\n",
       "    </tr>\n",
       "    <tr>\n",
       "      <th>1</th>\n",
       "      <td>-0.964916</td>\n",
       "      <td>True</td>\n",
       "      <td>4.221896</td>\n",
       "    </tr>\n",
       "    <tr>\n",
       "      <th>2</th>\n",
       "      <td>-1.149944</td>\n",
       "      <td>False</td>\n",
       "      <td>0.729126</td>\n",
       "    </tr>\n",
       "    <tr>\n",
       "      <th>3</th>\n",
       "      <td>-1.390491</td>\n",
       "      <td>False</td>\n",
       "      <td>1.187985</td>\n",
       "    </tr>\n",
       "    <tr>\n",
       "      <th>4</th>\n",
       "      <td>0.720755</td>\n",
       "      <td>False</td>\n",
       "      <td>-0.689576</td>\n",
       "    </tr>\n",
       "    <tr>\n",
       "      <th>...</th>\n",
       "      <td>...</td>\n",
       "      <td>...</td>\n",
       "      <td>...</td>\n",
       "    </tr>\n",
       "    <tr>\n",
       "      <th>995</th>\n",
       "      <td>-0.074360</td>\n",
       "      <td>True</td>\n",
       "      <td>3.217280</td>\n",
       "    </tr>\n",
       "    <tr>\n",
       "      <th>996</th>\n",
       "      <td>0.460950</td>\n",
       "      <td>True</td>\n",
       "      <td>3.959319</td>\n",
       "    </tr>\n",
       "    <tr>\n",
       "      <th>997</th>\n",
       "      <td>-0.625575</td>\n",
       "      <td>True</td>\n",
       "      <td>5.542411</td>\n",
       "    </tr>\n",
       "    <tr>\n",
       "      <th>998</th>\n",
       "      <td>0.597749</td>\n",
       "      <td>False</td>\n",
       "      <td>-0.124861</td>\n",
       "    </tr>\n",
       "    <tr>\n",
       "      <th>999</th>\n",
       "      <td>-0.886195</td>\n",
       "      <td>True</td>\n",
       "      <td>4.881119</td>\n",
       "    </tr>\n",
       "  </tbody>\n",
       "</table>\n",
       "<p>1000 rows × 3 columns</p>\n",
       "</div>"
      ],
      "text/plain": [
       "           W0     v0         y\n",
       "0    0.658181   True  3.797700\n",
       "1   -0.964916   True  4.221896\n",
       "2   -1.149944  False  0.729126\n",
       "3   -1.390491  False  1.187985\n",
       "4    0.720755  False -0.689576\n",
       "..        ...    ...       ...\n",
       "995 -0.074360   True  3.217280\n",
       "996  0.460950   True  3.959319\n",
       "997 -0.625575   True  5.542411\n",
       "998  0.597749  False -0.124861\n",
       "999 -0.886195   True  4.881119\n",
       "\n",
       "[1000 rows x 3 columns]"
      ]
     },
     "execution_count": 2,
     "metadata": {},
     "output_type": "execute_result"
    }
   ],
   "source": [
    "data = dowhy.datasets.linear_dataset(beta=5,\n",
    "        num_common_causes=1,\n",
    "        num_instruments = 0,\n",
    "        num_samples=1000,\n",
    "        treatment_is_binary=True)\n",
    "df = data['df']\n",
    "df['y'] = df['y'] + np.random.normal(size=len(df)) # Adding noise to data. Without noise, the variance in Y|X, Z is zero, and mcmc fails.\n",
    "#data['dot_graph'] = 'digraph { v ->y;X0-> v;X0-> y;}'\n",
    "\n",
    "treatment= data[\"treatment_name\"][0]\n",
    "outcome = data[\"outcome_name\"][0]\n",
    "common_cause = data[\"common_causes_names\"][0]\n",
    "df"
   ]
  },
  {
   "cell_type": "code",
   "execution_count": 3,
   "metadata": {
    "execution": {
     "iopub.execute_input": "2022-11-11T08:06:01.602911Z",
     "iopub.status.busy": "2022-11-11T08:06:01.602596Z",
     "iopub.status.idle": "2022-11-11T08:06:01.816478Z",
     "shell.execute_reply": "2022-11-11T08:06:01.815553Z"
    }
   },
   "outputs": [
    {
     "data": {
      "text/plain": [
       "<AxesSubplot: xlabel='v0'>"
      ]
     },
     "execution_count": 3,
     "metadata": {},
     "output_type": "execute_result"
    },
    {
     "data": {
      "image/png": "[encoded data removed]",
      "text/plain": [
       "<Figure size 640x480 with 1 Axes>"
      ]
     },
     "metadata": {},
     "output_type": "display_data"
    }
   ],
   "source": [
    "# data['df'] is just a regular pandas.DataFrame\n",
    "df.causal.do(x=treatment,\n",
    "                     variable_types={treatment: 'b', outcome: 'c', common_cause: 'c'},\n",
    "                     outcome=outcome,\n",
    "                     common_causes=[common_cause],\n",
    "                     proceed_when_unidentifiable=True).groupby(treatment).mean().plot(y=outcome, kind='bar')"
   ]
  },
  {
   "cell_type": "code",
   "execution_count": 4,
   "metadata": {
    "execution": {
     "iopub.execute_input": "2022-11-11T08:06:01.821601Z",
     "iopub.status.busy": "2022-11-11T08:06:01.820659Z",
     "iopub.status.idle": "2022-11-11T08:06:01.984905Z",
     "shell.execute_reply": "2022-11-11T08:06:01.983964Z"
    }
   },
   "outputs": [
    {
     "data": {
      "text/plain": [
       "<AxesSubplot: xlabel='v0'>"
      ]
     },
     "execution_count": 4,
     "metadata": {},
     "output_type": "execute_result"
    },
    {
     "data": {
      "image/png": "[encoded data removed]",
      "text/plain": [
       "<Figure size 640x480 with 1 Axes>"
      ]
     },
     "metadata": {},
     "output_type": "display_data"
    }
   ],
   "source": [
    "df.causal.do(x={treatment: 1}, \n",
    "              variable_types={treatment:'b', outcome: 'c', common_cause: 'c'}, \n",
    "              outcome=outcome,\n",
    "              method='weighting', \n",
    "              common_causes=[common_cause],\n",
    "              proceed_when_unidentifiable=True).groupby(treatment).mean().plot(y=outcome, kind='bar')"
   ]
  },
  {
   "cell_type": "code",
   "execution_count": 5,
   "metadata": {
    "execution": {
     "iopub.execute_input": "2022-11-11T08:06:01.989391Z",
     "iopub.status.busy": "2022-11-11T08:06:01.988861Z",
     "iopub.status.idle": "2022-11-11T08:06:02.035281Z",
     "shell.execute_reply": "2022-11-11T08:06:02.034243Z"
    }
   },
   "outputs": [],
   "source": [
    "cdf_1 = df.causal.do(x={treatment: 1}, \n",
    "              variable_types={treatment: 'b', outcome: 'c', common_cause: 'c'}, \n",
    "              outcome=outcome, \n",
    "              dot_graph=data['dot_graph'],\n",
    "              proceed_when_unidentifiable=True)\n",
    "\n",
    "cdf_0 = df.causal.do(x={treatment: 0}, \n",
    "              variable_types={treatment: 'b', outcome: 'c', common_cause: 'c'}, \n",
    "              outcome=outcome, \n",
    "              dot_graph=data['dot_graph'],\n",
    "              proceed_when_unidentifiable=True)\n"
   ]
  },
  {
   "cell_type": "code",
   "execution_count": 6,
   "metadata": {
    "execution": {
     "iopub.execute_input": "2022-11-11T08:06:02.039981Z",
     "iopub.status.busy": "2022-11-11T08:06:02.039212Z",
     "iopub.status.idle": "2022-11-11T08:06:02.054651Z",
     "shell.execute_reply": "2022-11-11T08:06:02.053775Z"
    },
    "scrolled": true
   },
   "outputs": [
    {
     "data": {
      "text/html": [
       "<div>\n",
       "<style scoped>\n",
       "    .dataframe tbody tr th:only-of-type {\n",
       "        vertical-align: middle;\n",
       "    }\n",
       "\n",
       "    .dataframe tbody tr th {\n",
       "        vertical-align: top;\n",
       "    }\n",
       "\n",
       "    .dataframe thead th {\n",
       "        text-align: right;\n",
       "    }\n",
       "</style>\n",
       "<table border=\"1\" class=\"dataframe\">\n",
       "  <thead>\n",
       "    <tr style=\"text-align: right;\">\n",
       "      <th></th>\n",
       "      <th>W0</th>\n",
       "      <th>v0</th>\n",
       "      <th>y</th>\n",
       "      <th>propensity_score</th>\n",
       "      <th>weight</th>\n",
       "    </tr>\n",
       "  </thead>\n",
       "  <tbody>\n",
       "    <tr>\n",
       "      <th>0</th>\n",
       "      <td>-1.078120</td>\n",
       "      <td>False</td>\n",
       "      <td>-0.753277</td>\n",
       "      <td>0.643623</td>\n",
       "      <td>1.553705</td>\n",
       "    </tr>\n",
       "    <tr>\n",
       "      <th>1</th>\n",
       "      <td>0.297945</td>\n",
       "      <td>False</td>\n",
       "      <td>-1.508281</td>\n",
       "      <td>0.455125</td>\n",
       "      <td>2.197199</td>\n",
       "    </tr>\n",
       "    <tr>\n",
       "      <th>2</th>\n",
       "      <td>-0.398438</td>\n",
       "      <td>False</td>\n",
       "      <td>0.424240</td>\n",
       "      <td>0.552369</td>\n",
       "      <td>1.810382</td>\n",
       "    </tr>\n",
       "    <tr>\n",
       "      <th>3</th>\n",
       "      <td>-0.726278</td>\n",
       "      <td>False</td>\n",
       "      <td>-0.668687</td>\n",
       "      <td>0.597236</td>\n",
       "      <td>1.674380</td>\n",
       "    </tr>\n",
       "    <tr>\n",
       "      <th>4</th>\n",
       "      <td>-1.713187</td>\n",
       "      <td>False</td>\n",
       "      <td>-0.996911</td>\n",
       "      <td>0.720511</td>\n",
       "      <td>1.387904</td>\n",
       "    </tr>\n",
       "    <tr>\n",
       "      <th>...</th>\n",
       "      <td>...</td>\n",
       "      <td>...</td>\n",
       "      <td>...</td>\n",
       "      <td>...</td>\n",
       "      <td>...</td>\n",
       "    </tr>\n",
       "    <tr>\n",
       "      <th>995</th>\n",
       "      <td>-0.872171</td>\n",
       "      <td>False</td>\n",
       "      <td>-0.606667</td>\n",
       "      <td>0.616736</td>\n",
       "      <td>1.621440</td>\n",
       "    </tr>\n",
       "    <tr>\n",
       "      <th>996</th>\n",
       "      <td>-2.053883</td>\n",
       "      <td>False</td>\n",
       "      <td>-1.123060</td>\n",
       "      <td>0.757296</td>\n",
       "      <td>1.320487</td>\n",
       "    </tr>\n",
       "    <tr>\n",
       "      <th>997</th>\n",
       "      <td>-1.020677</td>\n",
       "      <td>False</td>\n",
       "      <td>-0.534842</td>\n",
       "      <td>0.636206</td>\n",
       "      <td>1.571818</td>\n",
       "    </tr>\n",
       "    <tr>\n",
       "      <th>998</th>\n",
       "      <td>-1.173023</td>\n",
       "      <td>False</td>\n",
       "      <td>0.109275</td>\n",
       "      <td>0.655726</td>\n",
       "      <td>1.525027</td>\n",
       "    </tr>\n",
       "    <tr>\n",
       "      <th>999</th>\n",
       "      <td>1.024143</td>\n",
       "      <td>False</td>\n",
       "      <td>-0.162392</td>\n",
       "      <td>0.357341</td>\n",
       "      <td>2.798450</td>\n",
       "    </tr>\n",
       "  </tbody>\n",
       "</table>\n",
       "<p>1000 rows × 5 columns</p>\n",
       "</div>"
      ],
      "text/plain": [
       "           W0     v0         y  propensity_score    weight\n",
       "0   -1.078120  False -0.753277          0.643623  1.553705\n",
       "1    0.297945  False -1.508281          0.455125  2.197199\n",
       "2   -0.398438  False  0.424240          0.552369  1.810382\n",
       "3   -0.726278  False -0.668687          0.597236  1.674380\n",
       "4   -1.713187  False -0.996911          0.720511  1.387904\n",
       "..        ...    ...       ...               ...       ...\n",
       "995 -0.872171  False -0.606667          0.616736  1.621440\n",
       "996 -2.053883  False -1.123060          0.757296  1.320487\n",
       "997 -1.020677  False -0.534842          0.636206  1.571818\n",
       "998 -1.173023  False  0.109275          0.655726  1.525027\n",
       "999  1.024143  False -0.162392          0.357341  2.798450\n",
       "\n",
       "[1000 rows x 5 columns]"
      ]
     },
     "execution_count": 6,
     "metadata": {},
     "output_type": "execute_result"
    }
   ],
   "source": [
    "cdf_0"
   ]
  },
  {
   "cell_type": "code",
   "execution_count": 7,
   "metadata": {
    "execution": {
     "iopub.execute_input": "2022-11-11T08:06:02.059641Z",
     "iopub.status.busy": "2022-11-11T08:06:02.057925Z",
     "iopub.status.idle": "2022-11-11T08:06:02.074958Z",
     "shell.execute_reply": "2022-11-11T08:06:02.074068Z"
    }
   },
   "outputs": [
    {
     "data": {
      "text/html": [
       "<div>\n",
       "<style scoped>\n",
       "    .dataframe tbody tr th:only-of-type {\n",
       "        vertical-align: middle;\n",
       "    }\n",
       "\n",
       "    .dataframe tbody tr th {\n",
       "        vertical-align: top;\n",
       "    }\n",
       "\n",
       "    .dataframe thead th {\n",
       "        text-align: right;\n",
       "    }\n",
       "</style>\n",
       "<table border=\"1\" class=\"dataframe\">\n",
       "  <thead>\n",
       "    <tr style=\"text-align: right;\">\n",
       "      <th></th>\n",
       "      <th>W0</th>\n",
       "      <th>v0</th>\n",
       "      <th>y</th>\n",
       "      <th>propensity_score</th>\n",
       "      <th>weight</th>\n",
       "    </tr>\n",
       "  </thead>\n",
       "  <tbody>\n",
       "    <tr>\n",
       "      <th>0</th>\n",
       "      <td>-0.625575</td>\n",
       "      <td>True</td>\n",
       "      <td>5.542411</td>\n",
       "      <td>0.416410</td>\n",
       "      <td>2.401482</td>\n",
       "    </tr>\n",
       "    <tr>\n",
       "      <th>1</th>\n",
       "      <td>0.447339</td>\n",
       "      <td>True</td>\n",
       "      <td>6.969588</td>\n",
       "      <td>0.565546</td>\n",
       "      <td>1.768204</td>\n",
       "    </tr>\n",
       "    <tr>\n",
       "      <th>2</th>\n",
       "      <td>-0.197379</td>\n",
       "      <td>True</td>\n",
       "      <td>3.499899</td>\n",
       "      <td>0.475624</td>\n",
       "      <td>2.102501</td>\n",
       "    </tr>\n",
       "    <tr>\n",
       "      <th>3</th>\n",
       "      <td>-0.665444</td>\n",
       "      <td>True</td>\n",
       "      <td>2.137374</td>\n",
       "      <td>0.410991</td>\n",
       "      <td>2.433145</td>\n",
       "    </tr>\n",
       "    <tr>\n",
       "      <th>4</th>\n",
       "      <td>-1.358920</td>\n",
       "      <td>True</td>\n",
       "      <td>3.581270</td>\n",
       "      <td>0.321153</td>\n",
       "      <td>3.113777</td>\n",
       "    </tr>\n",
       "    <tr>\n",
       "      <th>...</th>\n",
       "      <td>...</td>\n",
       "      <td>...</td>\n",
       "      <td>...</td>\n",
       "      <td>...</td>\n",
       "      <td>...</td>\n",
       "    </tr>\n",
       "    <tr>\n",
       "      <th>995</th>\n",
       "      <td>0.123778</td>\n",
       "      <td>True</td>\n",
       "      <td>4.624038</td>\n",
       "      <td>0.520585</td>\n",
       "      <td>1.920916</td>\n",
       "    </tr>\n",
       "    <tr>\n",
       "      <th>996</th>\n",
       "      <td>-0.703583</td>\n",
       "      <td>True</td>\n",
       "      <td>4.944342</td>\n",
       "      <td>0.405827</td>\n",
       "      <td>2.464105</td>\n",
       "    </tr>\n",
       "    <tr>\n",
       "      <th>997</th>\n",
       "      <td>-1.182729</td>\n",
       "      <td>True</td>\n",
       "      <td>4.844617</td>\n",
       "      <td>0.343047</td>\n",
       "      <td>2.915050</td>\n",
       "    </tr>\n",
       "    <tr>\n",
       "      <th>998</th>\n",
       "      <td>-0.048584</td>\n",
       "      <td>True</td>\n",
       "      <td>4.003350</td>\n",
       "      <td>0.496450</td>\n",
       "      <td>2.014302</td>\n",
       "    </tr>\n",
       "    <tr>\n",
       "      <th>999</th>\n",
       "      <td>-2.334432</td>\n",
       "      <td>True</td>\n",
       "      <td>3.235795</td>\n",
       "      <td>0.214987</td>\n",
       "      <td>4.651454</td>\n",
       "    </tr>\n",
       "  </tbody>\n",
       "</table>\n",
       "<p>1000 rows × 5 columns</p>\n",
       "</div>"
      ],
      "text/plain": [
       "           W0    v0         y  propensity_score    weight\n",
       "0   -0.625575  True  5.542411          0.416410  2.401482\n",
       "1    0.447339  True  6.969588          0.565546  1.768204\n",
       "2   -0.197379  True  3.499899          0.475624  2.102501\n",
       "3   -0.665444  True  2.137374          0.410991  2.433145\n",
       "4   -1.358920  True  3.581270          0.321153  3.113777\n",
       "..        ...   ...       ...               ...       ...\n",
       "995  0.123778  True  4.624038          0.520585  1.920916\n",
       "996 -0.703583  True  4.944342          0.405827  2.464105\n",
       "997 -1.182729  True  4.844617          0.343047  2.915050\n",
       "998 -0.048584  True  4.003350          0.496450  2.014302\n",
       "999 -2.334432  True  3.235795          0.214987  4.651454\n",
       "\n",
       "[1000 rows x 5 columns]"
      ]
     },
     "execution_count": 7,
     "metadata": {},
     "output_type": "execute_result"
    }
   ],
   "source": [
    "cdf_1"
   ]
  },
  {
   "cell_type": "markdown",
   "metadata": {},
   "source": [
    "## Comparing the estimate to Linear Regression\n",
    "First, estimating the effect using the causal data frame, and the 95% confidence interval."
   ]
  },
  {
   "cell_type": "code",
   "execution_count": 8,
   "metadata": {
    "execution": {
     "iopub.execute_input": "2022-11-11T08:06:02.078846Z",
     "iopub.status.busy": "2022-11-11T08:06:02.078518Z",
     "iopub.status.idle": "2022-11-11T08:06:02.154964Z",
     "shell.execute_reply": "2022-11-11T08:06:02.153985Z"
    }
   },
   "outputs": [
    {
     "data": {
      "image/png": "[encoded data removed]",
      "text/latex": [
       "$\\displaystyle 5.07180283920041$"
      ],
      "text/plain": [
       "5.071802839200412"
      ]
     },
     "execution_count": 8,
     "metadata": {},
     "output_type": "execute_result"
    }
   ],
   "source": [
    "(cdf_1['y'] - cdf_0['y']).mean()"
   ]
  },
  {
   "cell_type": "code",
   "execution_count": 9,
   "metadata": {
    "execution": {
     "iopub.execute_input": "2022-11-11T08:06:02.159034Z",
     "iopub.status.busy": "2022-11-11T08:06:02.158658Z",
     "iopub.status.idle": "2022-11-11T08:06:02.186785Z",
     "shell.execute_reply": "2022-11-11T08:06:02.185877Z"
    }
   },
   "outputs": [
    {
     "data": {
      "image/png": "[encoded data removed]",
      "text/latex": [
       "$\\displaystyle 0.100115494986169$"
      ],
      "text/plain": [
       "0.1001154949861691"
      ]
     },
     "execution_count": 9,
     "metadata": {},
     "output_type": "execute_result"
    }
   ],
   "source": [
    "1.96*(cdf_1['y'] - cdf_0['y']).std() / np.sqrt(len(df))"
   ]
  },
  {
   "cell_type": "markdown",
   "metadata": {},
   "source": [
    "Comparing to the estimate from OLS."
   ]
  },
  {
   "cell_type": "code",
   "execution_count": 10,
   "metadata": {
    "execution": {
     "iopub.execute_input": "2022-11-11T08:06:02.190744Z",
     "iopub.status.busy": "2022-11-11T08:06:02.190437Z",
     "iopub.status.idle": "2022-11-11T08:06:02.219129Z",
     "shell.execute_reply": "2022-11-11T08:06:02.218110Z"
    }
   },
   "outputs": [
    {
     "data": {
      "text/html": [
       "<table class=\"simpletable\">\n",
       "<caption>OLS Regression Results</caption>\n",
       "<tr>\n",
       "  <th>Dep. Variable:</th>            <td>y</td>        <th>  R-squared (uncentered):</th>      <td>   0.920</td>\n",
       "</tr>\n",
       "<tr>\n",
       "  <th>Model:</th>                   <td>OLS</td>       <th>  Adj. R-squared (uncentered):</th> <td>   0.920</td>\n",
       "</tr>\n",
       "<tr>\n",
       "  <th>Method:</th>             <td>Least Squares</td>  <th>  F-statistic:       </th>          <td>   5771.</td>\n",
       "</tr>\n",
       "<tr>\n",
       "  <th>Date:</th>             <td>Fri, 11 Nov 2022</td> <th>  Prob (F-statistic):</th>           <td>  0.00</td> \n",
       "</tr>\n",
       "<tr>\n",
       "  <th>Time:</th>                 <td>08:06:02</td>     <th>  Log-Likelihood:    </th>          <td> -1392.9</td>\n",
       "</tr>\n",
       "<tr>\n",
       "  <th>No. Observations:</th>      <td>  1000</td>      <th>  AIC:               </th>          <td>   2790.</td>\n",
       "</tr>\n",
       "<tr>\n",
       "  <th>Df Residuals:</th>          <td>   998</td>      <th>  BIC:               </th>          <td>   2800.</td>\n",
       "</tr>\n",
       "<tr>\n",
       "  <th>Df Model:</th>              <td>     2</td>      <th>                     </th>              <td> </td>   \n",
       "</tr>\n",
       "<tr>\n",
       "  <th>Covariance Type:</th>      <td>nonrobust</td>    <th>                     </th>              <td> </td>   \n",
       "</tr>\n",
       "</table>\n",
       "<table class=\"simpletable\">\n",
       "<tr>\n",
       "   <td></td>     <th>coef</th>     <th>std err</th>      <th>t</th>      <th>P>|t|</th>  <th>[0.025</th>    <th>0.975]</th>  \n",
       "</tr>\n",
       "<tr>\n",
       "  <th>x1</th> <td>    0.5926</td> <td>    0.027</td> <td>   22.121</td> <td> 0.000</td> <td>    0.540</td> <td>    0.645</td>\n",
       "</tr>\n",
       "<tr>\n",
       "  <th>x2</th> <td>    5.0101</td> <td>    0.047</td> <td>  106.892</td> <td> 0.000</td> <td>    4.918</td> <td>    5.102</td>\n",
       "</tr>\n",
       "</table>\n",
       "<table class=\"simpletable\">\n",
       "<tr>\n",
       "  <th>Omnibus:</th>       <td> 2.078</td> <th>  Durbin-Watson:     </th> <td>   2.020</td>\n",
       "</tr>\n",
       "<tr>\n",
       "  <th>Prob(Omnibus):</th> <td> 0.354</td> <th>  Jarque-Bera (JB):  </th> <td>   1.935</td>\n",
       "</tr>\n",
       "<tr>\n",
       "  <th>Skew:</th>          <td>-0.091</td> <th>  Prob(JB):          </th> <td>   0.380</td>\n",
       "</tr>\n",
       "<tr>\n",
       "  <th>Kurtosis:</th>      <td> 3.115</td> <th>  Cond. No.          </th> <td>    1.77</td>\n",
       "</tr>\n",
       "</table><br/><br/>Notes:<br/>[1] R² is computed without centering (uncentered) since the model does not contain a constant.<br/>[2] Standard Errors assume that the covariance matrix of the errors is correctly specified."
      ],
      "text/plain": [
       "<class 'statsmodels.iolib.summary.Summary'>\n",
       "\"\"\"\n",
       "                                 OLS Regression Results                                \n",
       "=======================================================================================\n",
       "Dep. Variable:                      y   R-squared (uncentered):                   0.920\n",
       "Model:                            OLS   Adj. R-squared (uncentered):              0.920\n",
       "Method:                 Least Squares   F-statistic:                              5771.\n",
       "Date:                Fri, 11 Nov 2022   Prob (F-statistic):                        0.00\n",
       "Time:                        08:06:02   Log-Likelihood:                         -1392.9\n",
       "No. Observations:                1000   AIC:                                      2790.\n",
       "Df Residuals:                     998   BIC:                                      2800.\n",
       "Df Model:                           2                                                  \n",
       "Covariance Type:            nonrobust                                                  \n",
       "==============================================================================\n",
       "                 coef    std err          t      P>|t|      [0.025      0.975]\n",
       "------------------------------------------------------------------------------\n",
       "x1             0.5926      0.027     22.121      0.000       0.540       0.645\n",
       "x2             5.0101      0.047    106.892      0.000       4.918       5.102\n",
       "==============================================================================\n",
       "Omnibus:                        2.078   Durbin-Watson:                   2.020\n",
       "Prob(Omnibus):                  0.354   Jarque-Bera (JB):                1.935\n",
       "Skew:                          -0.091   Prob(JB):                        0.380\n",
       "Kurtosis:                       3.115   Cond. No.                         1.77\n",
       "==============================================================================\n",
       "\n",
       "Notes:\n",
       "[1] R² is computed without centering (uncentered) since the model does not contain a constant.\n",
       "[2] Standard Errors assume that the covariance matrix of the errors is correctly specified.\n",
       "\"\"\""
      ]
     },
     "execution_count": 10,
     "metadata": {},
     "output_type": "execute_result"
    }
   ],
   "source": [
    "model = OLS(np.asarray(df[outcome]), np.asarray(df[[common_cause, treatment]], dtype=np.float64))\n",
    "result = model.fit()\n",
    "result.summary()"
   ]
  }
 ],
 "metadata": {
  "kernelspec": {
   "display_name": "Python 3",
   "language": "python",
   "name": "python3"
  },
  "language_info": {
   "codemirror_mode": {
    "name": "ipython",
    "version": 3
   },
   "file_extension": ".py",
   "mimetype": "text/x-python",
   "name": "python",
   "nbconvert_exporter": "python",
   "pygments_lexer": "ipython3",
   "version": "3.8.10"
  },
  "toc": {
   "base_numbering": 1,
   "nav_menu": {},
   "number_sections": false,
   "sideBar": true,
   "skip_h1_title": true,
   "title_cell": "Table of Contents",
   "title_sidebar": "Contents",
   "toc_cell": false,
   "toc_position": {},
   "toc_section_display": true,
   "toc_window_display": false
  }
 },
 "nbformat": 4,
 "nbformat_minor": 4
}
