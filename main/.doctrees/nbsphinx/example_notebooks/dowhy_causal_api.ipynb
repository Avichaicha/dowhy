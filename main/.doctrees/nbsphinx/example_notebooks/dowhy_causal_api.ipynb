{
 "cells": [
  {
   "cell_type": "markdown",
   "metadata": {},
   "source": [
    "# Demo for the DoWhy causal API\n",
    "We show a simple example of adding a causal extension to any dataframe. "
   ]
  },
  {
   "cell_type": "code",
   "execution_count": 1,
   "metadata": {
    "execution": {
     "iopub.execute_input": "2022-12-09T13:24:19.429608Z",
     "iopub.status.busy": "2022-12-09T13:24:19.429064Z",
     "iopub.status.idle": "2022-12-09T13:24:21.429049Z",
     "shell.execute_reply": "2022-12-09T13:24:21.428300Z"
    }
   },
   "outputs": [],
   "source": [
    "import dowhy.datasets\n",
    "import dowhy.api\n",
    "\n",
    "import numpy as np\n",
    "import pandas as pd\n",
    "\n",
    "from statsmodels.api import OLS"
   ]
  },
  {
   "cell_type": "code",
   "execution_count": 2,
   "metadata": {
    "execution": {
     "iopub.execute_input": "2022-12-09T13:24:21.432580Z",
     "iopub.status.busy": "2022-12-09T13:24:21.432026Z",
     "iopub.status.idle": "2022-12-09T13:24:21.481219Z",
     "shell.execute_reply": "2022-12-09T13:24:21.480590Z"
    }
   },
   "outputs": [
    {
     "data": {
      "text/html": [
       "<div>\n",
       "<style scoped>\n",
       "    .dataframe tbody tr th:only-of-type {\n",
       "        vertical-align: middle;\n",
       "    }\n",
       "\n",
       "    .dataframe tbody tr th {\n",
       "        vertical-align: top;\n",
       "    }\n",
       "\n",
       "    .dataframe thead th {\n",
       "        text-align: right;\n",
       "    }\n",
       "</style>\n",
       "<table border=\"1\" class=\"dataframe\">\n",
       "  <thead>\n",
       "    <tr style=\"text-align: right;\">\n",
       "      <th></th>\n",
       "      <th>W0</th>\n",
       "      <th>v0</th>\n",
       "      <th>y</th>\n",
       "    </tr>\n",
       "  </thead>\n",
       "  <tbody>\n",
       "    <tr>\n",
       "      <th>0</th>\n",
       "      <td>-0.475540</td>\n",
       "      <td>False</td>\n",
       "      <td>-0.430029</td>\n",
       "    </tr>\n",
       "    <tr>\n",
       "      <th>1</th>\n",
       "      <td>0.274892</td>\n",
       "      <td>True</td>\n",
       "      <td>3.120211</td>\n",
       "    </tr>\n",
       "    <tr>\n",
       "      <th>2</th>\n",
       "      <td>-0.729099</td>\n",
       "      <td>False</td>\n",
       "      <td>0.783892</td>\n",
       "    </tr>\n",
       "    <tr>\n",
       "      <th>3</th>\n",
       "      <td>-0.980458</td>\n",
       "      <td>False</td>\n",
       "      <td>-2.095295</td>\n",
       "    </tr>\n",
       "    <tr>\n",
       "      <th>4</th>\n",
       "      <td>-0.869158</td>\n",
       "      <td>False</td>\n",
       "      <td>0.179228</td>\n",
       "    </tr>\n",
       "    <tr>\n",
       "      <th>...</th>\n",
       "      <td>...</td>\n",
       "      <td>...</td>\n",
       "      <td>...</td>\n",
       "    </tr>\n",
       "    <tr>\n",
       "      <th>995</th>\n",
       "      <td>-0.057425</td>\n",
       "      <td>False</td>\n",
       "      <td>-1.512903</td>\n",
       "    </tr>\n",
       "    <tr>\n",
       "      <th>996</th>\n",
       "      <td>-0.000934</td>\n",
       "      <td>True</td>\n",
       "      <td>3.680080</td>\n",
       "    </tr>\n",
       "    <tr>\n",
       "      <th>997</th>\n",
       "      <td>0.961657</td>\n",
       "      <td>True</td>\n",
       "      <td>7.329537</td>\n",
       "    </tr>\n",
       "    <tr>\n",
       "      <th>998</th>\n",
       "      <td>-0.139440</td>\n",
       "      <td>False</td>\n",
       "      <td>0.104805</td>\n",
       "    </tr>\n",
       "    <tr>\n",
       "      <th>999</th>\n",
       "      <td>0.203828</td>\n",
       "      <td>False</td>\n",
       "      <td>0.061521</td>\n",
       "    </tr>\n",
       "  </tbody>\n",
       "</table>\n",
       "<p>1000 rows × 3 columns</p>\n",
       "</div>"
      ],
      "text/plain": [
       "           W0     v0         y\n",
       "0   -0.475540  False -0.430029\n",
       "1    0.274892   True  3.120211\n",
       "2   -0.729099  False  0.783892\n",
       "3   -0.980458  False -2.095295\n",
       "4   -0.869158  False  0.179228\n",
       "..        ...    ...       ...\n",
       "995 -0.057425  False -1.512903\n",
       "996 -0.000934   True  3.680080\n",
       "997  0.961657   True  7.329537\n",
       "998 -0.139440  False  0.104805\n",
       "999  0.203828  False  0.061521\n",
       "\n",
       "[1000 rows x 3 columns]"
      ]
     },
     "execution_count": 2,
     "metadata": {},
     "output_type": "execute_result"
    }
   ],
   "source": [
    "data = dowhy.datasets.linear_dataset(beta=5,\n",
    "        num_common_causes=1,\n",
    "        num_instruments = 0,\n",
    "        num_samples=1000,\n",
    "        treatment_is_binary=True)\n",
    "df = data['df']\n",
    "df['y'] = df['y'] + np.random.normal(size=len(df)) # Adding noise to data. Without noise, the variance in Y|X, Z is zero, and mcmc fails.\n",
    "#data['dot_graph'] = 'digraph { v ->y;X0-> v;X0-> y;}'\n",
    "\n",
    "treatment= data[\"treatment_name\"][0]\n",
    "outcome = data[\"outcome_name\"][0]\n",
    "common_cause = data[\"common_causes_names\"][0]\n",
    "df"
   ]
  },
  {
   "cell_type": "code",
   "execution_count": 3,
   "metadata": {
    "execution": {
     "iopub.execute_input": "2022-12-09T13:24:21.486052Z",
     "iopub.status.busy": "2022-12-09T13:24:21.485617Z",
     "iopub.status.idle": "2022-12-09T13:24:21.640300Z",
     "shell.execute_reply": "2022-12-09T13:24:21.639696Z"
    }
   },
   "outputs": [
    {
     "data": {
      "text/plain": [
       "<AxesSubplot: xlabel='v0'>"
      ]
     },
     "execution_count": 3,
     "metadata": {},
     "output_type": "execute_result"
    },
    {
     "data": {
      "image/png": "[encoded data removed]",
      "text/plain": [
       "<Figure size 640x480 with 1 Axes>"
      ]
     },
     "metadata": {},
     "output_type": "display_data"
    }
   ],
   "source": [
    "# data['df'] is just a regular pandas.DataFrame\n",
    "df.causal.do(x=treatment,\n",
    "                     variable_types={treatment: 'b', outcome: 'c', common_cause: 'c'},\n",
    "                     outcome=outcome,\n",
    "                     common_causes=[common_cause],\n",
    "                     proceed_when_unidentifiable=True).groupby(treatment).mean().plot(y=outcome, kind='bar')"
   ]
  },
  {
   "cell_type": "code",
   "execution_count": 4,
   "metadata": {
    "execution": {
     "iopub.execute_input": "2022-12-09T13:24:21.643700Z",
     "iopub.status.busy": "2022-12-09T13:24:21.643079Z",
     "iopub.status.idle": "2022-12-09T13:24:21.758396Z",
     "shell.execute_reply": "2022-12-09T13:24:21.757843Z"
    }
   },
   "outputs": [
    {
     "data": {
      "text/plain": [
       "<AxesSubplot: xlabel='v0'>"
      ]
     },
     "execution_count": 4,
     "metadata": {},
     "output_type": "execute_result"
    },
    {
     "data": {
      "image/png": "[encoded data removed]",
      "text/plain": [
       "<Figure size 640x480 with 1 Axes>"
      ]
     },
     "metadata": {},
     "output_type": "display_data"
    }
   ],
   "source": [
    "df.causal.do(x={treatment: 1}, \n",
    "              variable_types={treatment:'b', outcome: 'c', common_cause: 'c'}, \n",
    "              outcome=outcome,\n",
    "              method='weighting', \n",
    "              common_causes=[common_cause],\n",
    "              proceed_when_unidentifiable=True).groupby(treatment).mean().plot(y=outcome, kind='bar')"
   ]
  },
  {
   "cell_type": "code",
   "execution_count": 5,
   "metadata": {
    "execution": {
     "iopub.execute_input": "2022-12-09T13:24:21.761394Z",
     "iopub.status.busy": "2022-12-09T13:24:21.760928Z",
     "iopub.status.idle": "2022-12-09T13:24:21.795664Z",
     "shell.execute_reply": "2022-12-09T13:24:21.795041Z"
    }
   },
   "outputs": [],
   "source": [
    "cdf_1 = df.causal.do(x={treatment: 1}, \n",
    "              variable_types={treatment: 'b', outcome: 'c', common_cause: 'c'}, \n",
    "              outcome=outcome, \n",
    "              dot_graph=data['dot_graph'],\n",
    "              proceed_when_unidentifiable=True)\n",
    "\n",
    "cdf_0 = df.causal.do(x={treatment: 0}, \n",
    "              variable_types={treatment: 'b', outcome: 'c', common_cause: 'c'}, \n",
    "              outcome=outcome, \n",
    "              dot_graph=data['dot_graph'],\n",
    "              proceed_when_unidentifiable=True)\n"
   ]
  },
  {
   "cell_type": "code",
   "execution_count": 6,
   "metadata": {
    "execution": {
     "iopub.execute_input": "2022-12-09T13:24:21.799062Z",
     "iopub.status.busy": "2022-12-09T13:24:21.798692Z",
     "iopub.status.idle": "2022-12-09T13:24:21.808957Z",
     "shell.execute_reply": "2022-12-09T13:24:21.808472Z"
    },
    "scrolled": true
   },
   "outputs": [
    {
     "data": {
      "text/html": [
       "<div>\n",
       "<style scoped>\n",
       "    .dataframe tbody tr th:only-of-type {\n",
       "        vertical-align: middle;\n",
       "    }\n",
       "\n",
       "    .dataframe tbody tr th {\n",
       "        vertical-align: top;\n",
       "    }\n",
       "\n",
       "    .dataframe thead th {\n",
       "        text-align: right;\n",
       "    }\n",
       "</style>\n",
       "<table border=\"1\" class=\"dataframe\">\n",
       "  <thead>\n",
       "    <tr style=\"text-align: right;\">\n",
       "      <th></th>\n",
       "      <th>W0</th>\n",
       "      <th>v0</th>\n",
       "      <th>y</th>\n",
       "      <th>propensity_score</th>\n",
       "      <th>weight</th>\n",
       "    </tr>\n",
       "  </thead>\n",
       "  <tbody>\n",
       "    <tr>\n",
       "      <th>0</th>\n",
       "      <td>0.083333</td>\n",
       "      <td>False</td>\n",
       "      <td>0.099677</td>\n",
       "      <td>0.461673</td>\n",
       "      <td>2.166036</td>\n",
       "    </tr>\n",
       "    <tr>\n",
       "      <th>1</th>\n",
       "      <td>-0.296947</td>\n",
       "      <td>False</td>\n",
       "      <td>-1.194076</td>\n",
       "      <td>0.683077</td>\n",
       "      <td>1.463964</td>\n",
       "    </tr>\n",
       "    <tr>\n",
       "      <th>2</th>\n",
       "      <td>-0.870522</td>\n",
       "      <td>False</td>\n",
       "      <td>-1.576862</td>\n",
       "      <td>0.896408</td>\n",
       "      <td>1.115564</td>\n",
       "    </tr>\n",
       "    <tr>\n",
       "      <th>3</th>\n",
       "      <td>-0.489989</td>\n",
       "      <td>False</td>\n",
       "      <td>2.636055</td>\n",
       "      <td>0.774825</td>\n",
       "      <td>1.290614</td>\n",
       "    </tr>\n",
       "    <tr>\n",
       "      <th>4</th>\n",
       "      <td>-0.235192</td>\n",
       "      <td>False</td>\n",
       "      <td>-0.481885</td>\n",
       "      <td>0.649830</td>\n",
       "      <td>1.538864</td>\n",
       "    </tr>\n",
       "    <tr>\n",
       "      <th>...</th>\n",
       "      <td>...</td>\n",
       "      <td>...</td>\n",
       "      <td>...</td>\n",
       "      <td>...</td>\n",
       "      <td>...</td>\n",
       "    </tr>\n",
       "    <tr>\n",
       "      <th>995</th>\n",
       "      <td>-0.343122</td>\n",
       "      <td>False</td>\n",
       "      <td>-0.645327</td>\n",
       "      <td>0.706790</td>\n",
       "      <td>1.414846</td>\n",
       "    </tr>\n",
       "    <tr>\n",
       "      <th>996</th>\n",
       "      <td>-1.632213</td>\n",
       "      <td>False</td>\n",
       "      <td>0.761509</td>\n",
       "      <td>0.982081</td>\n",
       "      <td>1.018246</td>\n",
       "    </tr>\n",
       "    <tr>\n",
       "      <th>997</th>\n",
       "      <td>-1.738621</td>\n",
       "      <td>False</td>\n",
       "      <td>0.460024</td>\n",
       "      <td>0.986097</td>\n",
       "      <td>1.014099</td>\n",
       "    </tr>\n",
       "    <tr>\n",
       "      <th>998</th>\n",
       "      <td>-0.139440</td>\n",
       "      <td>False</td>\n",
       "      <td>0.104805</td>\n",
       "      <td>0.595379</td>\n",
       "      <td>1.679602</td>\n",
       "    </tr>\n",
       "    <tr>\n",
       "      <th>999</th>\n",
       "      <td>0.568333</td>\n",
       "      <td>False</td>\n",
       "      <td>-0.123706</td>\n",
       "      <td>0.209334</td>\n",
       "      <td>4.777056</td>\n",
       "    </tr>\n",
       "  </tbody>\n",
       "</table>\n",
       "<p>1000 rows × 5 columns</p>\n",
       "</div>"
      ],
      "text/plain": [
       "           W0     v0         y  propensity_score    weight\n",
       "0    0.083333  False  0.099677          0.461673  2.166036\n",
       "1   -0.296947  False -1.194076          0.683077  1.463964\n",
       "2   -0.870522  False -1.576862          0.896408  1.115564\n",
       "3   -0.489989  False  2.636055          0.774825  1.290614\n",
       "4   -0.235192  False -0.481885          0.649830  1.538864\n",
       "..        ...    ...       ...               ...       ...\n",
       "995 -0.343122  False -0.645327          0.706790  1.414846\n",
       "996 -1.632213  False  0.761509          0.982081  1.018246\n",
       "997 -1.738621  False  0.460024          0.986097  1.014099\n",
       "998 -0.139440  False  0.104805          0.595379  1.679602\n",
       "999  0.568333  False -0.123706          0.209334  4.777056\n",
       "\n",
       "[1000 rows x 5 columns]"
      ]
     },
     "execution_count": 6,
     "metadata": {},
     "output_type": "execute_result"
    }
   ],
   "source": [
    "cdf_0"
   ]
  },
  {
   "cell_type": "code",
   "execution_count": 7,
   "metadata": {
    "execution": {
     "iopub.execute_input": "2022-12-09T13:24:21.811657Z",
     "iopub.status.busy": "2022-12-09T13:24:21.811139Z",
     "iopub.status.idle": "2022-12-09T13:24:21.821153Z",
     "shell.execute_reply": "2022-12-09T13:24:21.820542Z"
    }
   },
   "outputs": [
    {
     "data": {
      "text/html": [
       "<div>\n",
       "<style scoped>\n",
       "    .dataframe tbody tr th:only-of-type {\n",
       "        vertical-align: middle;\n",
       "    }\n",
       "\n",
       "    .dataframe tbody tr th {\n",
       "        vertical-align: top;\n",
       "    }\n",
       "\n",
       "    .dataframe thead th {\n",
       "        text-align: right;\n",
       "    }\n",
       "</style>\n",
       "<table border=\"1\" class=\"dataframe\">\n",
       "  <thead>\n",
       "    <tr style=\"text-align: right;\">\n",
       "      <th></th>\n",
       "      <th>W0</th>\n",
       "      <th>v0</th>\n",
       "      <th>y</th>\n",
       "      <th>propensity_score</th>\n",
       "      <th>weight</th>\n",
       "    </tr>\n",
       "  </thead>\n",
       "  <tbody>\n",
       "    <tr>\n",
       "      <th>0</th>\n",
       "      <td>-0.500468</td>\n",
       "      <td>True</td>\n",
       "      <td>4.754557</td>\n",
       "      <td>0.220776</td>\n",
       "      <td>4.529487</td>\n",
       "    </tr>\n",
       "    <tr>\n",
       "      <th>1</th>\n",
       "      <td>-2.698252</td>\n",
       "      <td>True</td>\n",
       "      <td>4.668271</td>\n",
       "      <td>0.001376</td>\n",
       "      <td>726.739363</td>\n",
       "    </tr>\n",
       "    <tr>\n",
       "      <th>2</th>\n",
       "      <td>-2.698252</td>\n",
       "      <td>True</td>\n",
       "      <td>4.668271</td>\n",
       "      <td>0.001376</td>\n",
       "      <td>726.739363</td>\n",
       "    </tr>\n",
       "    <tr>\n",
       "      <th>3</th>\n",
       "      <td>-1.073412</td>\n",
       "      <td>True</td>\n",
       "      <td>3.503218</td>\n",
       "      <td>0.066013</td>\n",
       "      <td>15.148469</td>\n",
       "    </tr>\n",
       "    <tr>\n",
       "      <th>4</th>\n",
       "      <td>0.793381</td>\n",
       "      <td>True</td>\n",
       "      <td>5.836313</td>\n",
       "      <td>0.866957</td>\n",
       "      <td>1.153460</td>\n",
       "    </tr>\n",
       "    <tr>\n",
       "      <th>...</th>\n",
       "      <td>...</td>\n",
       "      <td>...</td>\n",
       "      <td>...</td>\n",
       "      <td>...</td>\n",
       "      <td>...</td>\n",
       "    </tr>\n",
       "    <tr>\n",
       "      <th>995</th>\n",
       "      <td>-0.500468</td>\n",
       "      <td>True</td>\n",
       "      <td>4.754557</td>\n",
       "      <td>0.220776</td>\n",
       "      <td>4.529487</td>\n",
       "    </tr>\n",
       "    <tr>\n",
       "      <th>996</th>\n",
       "      <td>-1.364857</td>\n",
       "      <td>True</td>\n",
       "      <td>5.646277</td>\n",
       "      <td>0.033703</td>\n",
       "      <td>29.670959</td>\n",
       "    </tr>\n",
       "    <tr>\n",
       "      <th>997</th>\n",
       "      <td>-0.761892</td>\n",
       "      <td>True</td>\n",
       "      <td>4.975959</td>\n",
       "      <td>0.130712</td>\n",
       "      <td>7.650423</td>\n",
       "    </tr>\n",
       "    <tr>\n",
       "      <th>998</th>\n",
       "      <td>-0.806989</td>\n",
       "      <td>True</td>\n",
       "      <td>6.438569</td>\n",
       "      <td>0.118787</td>\n",
       "      <td>8.418424</td>\n",
       "    </tr>\n",
       "    <tr>\n",
       "      <th>999</th>\n",
       "      <td>-0.778978</td>\n",
       "      <td>True</td>\n",
       "      <td>1.655225</td>\n",
       "      <td>0.126079</td>\n",
       "      <td>7.931562</td>\n",
       "    </tr>\n",
       "  </tbody>\n",
       "</table>\n",
       "<p>1000 rows × 5 columns</p>\n",
       "</div>"
      ],
      "text/plain": [
       "           W0    v0         y  propensity_score      weight\n",
       "0   -0.500468  True  4.754557          0.220776    4.529487\n",
       "1   -2.698252  True  4.668271          0.001376  726.739363\n",
       "2   -2.698252  True  4.668271          0.001376  726.739363\n",
       "3   -1.073412  True  3.503218          0.066013   15.148469\n",
       "4    0.793381  True  5.836313          0.866957    1.153460\n",
       "..        ...   ...       ...               ...         ...\n",
       "995 -0.500468  True  4.754557          0.220776    4.529487\n",
       "996 -1.364857  True  5.646277          0.033703   29.670959\n",
       "997 -0.761892  True  4.975959          0.130712    7.650423\n",
       "998 -0.806989  True  6.438569          0.118787    8.418424\n",
       "999 -0.778978  True  1.655225          0.126079    7.931562\n",
       "\n",
       "[1000 rows x 5 columns]"
      ]
     },
     "execution_count": 7,
     "metadata": {},
     "output_type": "execute_result"
    }
   ],
   "source": [
    "cdf_1"
   ]
  },
  {
   "cell_type": "markdown",
   "metadata": {},
   "source": [
    "## Comparing the estimate to Linear Regression\n",
    "First, estimating the effect using the causal data frame, and the 95% confidence interval."
   ]
  },
  {
   "cell_type": "code",
   "execution_count": 8,
   "metadata": {
    "execution": {
     "iopub.execute_input": "2022-12-09T13:24:21.824566Z",
     "iopub.status.busy": "2022-12-09T13:24:21.824323Z",
     "iopub.status.idle": "2022-12-09T13:24:21.881258Z",
     "shell.execute_reply": "2022-12-09T13:24:21.880559Z"
    }
   },
   "outputs": [
    {
     "data": {
      "image/png": "[encoded data removed]",
      "text/latex": [
       "$\\displaystyle 4.88260008991974$"
      ],
      "text/plain": [
       "4.882600089919739"
      ]
     },
     "execution_count": 8,
     "metadata": {},
     "output_type": "execute_result"
    }
   ],
   "source": [
    "(cdf_1['y'] - cdf_0['y']).mean()"
   ]
  },
  {
   "cell_type": "code",
   "execution_count": 9,
   "metadata": {
    "execution": {
     "iopub.execute_input": "2022-12-09T13:24:21.884588Z",
     "iopub.status.busy": "2022-12-09T13:24:21.884332Z",
     "iopub.status.idle": "2022-12-09T13:24:21.904586Z",
     "shell.execute_reply": "2022-12-09T13:24:21.903880Z"
    }
   },
   "outputs": [
    {
     "data": {
      "image/png": "[encoded data removed]",
      "text/latex": [
       "$\\displaystyle 0.082418335043815$"
      ],
      "text/plain": [
       "0.082418335043815"
      ]
     },
     "execution_count": 9,
     "metadata": {},
     "output_type": "execute_result"
    }
   ],
   "source": [
    "1.96*(cdf_1['y'] - cdf_0['y']).std() / np.sqrt(len(df))"
   ]
  },
  {
   "cell_type": "markdown",
   "metadata": {},
   "source": [
    "Comparing to the estimate from OLS."
   ]
  },
  {
   "cell_type": "code",
   "execution_count": 10,
   "metadata": {
    "execution": {
     "iopub.execute_input": "2022-12-09T13:24:21.907565Z",
     "iopub.status.busy": "2022-12-09T13:24:21.907139Z",
     "iopub.status.idle": "2022-12-09T13:24:21.923095Z",
     "shell.execute_reply": "2022-12-09T13:24:21.922440Z"
    }
   },
   "outputs": [
    {
     "data": {
      "text/html": [
       "<table class=\"simpletable\">\n",
       "<caption>OLS Regression Results</caption>\n",
       "<tr>\n",
       "  <th>Dep. Variable:</th>            <td>y</td>        <th>  R-squared (uncentered):</th>      <td>   0.890</td>\n",
       "</tr>\n",
       "<tr>\n",
       "  <th>Model:</th>                   <td>OLS</td>       <th>  Adj. R-squared (uncentered):</th> <td>   0.890</td>\n",
       "</tr>\n",
       "<tr>\n",
       "  <th>Method:</th>             <td>Least Squares</td>  <th>  F-statistic:       </th>          <td>   4043.</td>\n",
       "</tr>\n",
       "<tr>\n",
       "  <th>Date:</th>             <td>Fri, 09 Dec 2022</td> <th>  Prob (F-statistic):</th>           <td>  0.00</td> \n",
       "</tr>\n",
       "<tr>\n",
       "  <th>Time:</th>                 <td>13:24:21</td>     <th>  Log-Likelihood:    </th>          <td> -1455.9</td>\n",
       "</tr>\n",
       "<tr>\n",
       "  <th>No. Observations:</th>      <td>  1000</td>      <th>  AIC:               </th>          <td>   2916.</td>\n",
       "</tr>\n",
       "<tr>\n",
       "  <th>Df Residuals:</th>          <td>   998</td>      <th>  BIC:               </th>          <td>   2926.</td>\n",
       "</tr>\n",
       "<tr>\n",
       "  <th>Df Model:</th>              <td>     2</td>      <th>                     </th>              <td> </td>   \n",
       "</tr>\n",
       "<tr>\n",
       "  <th>Covariance Type:</th>      <td>nonrobust</td>    <th>                     </th>              <td> </td>   \n",
       "</tr>\n",
       "</table>\n",
       "<table class=\"simpletable\">\n",
       "<tr>\n",
       "   <td></td>     <th>coef</th>     <th>std err</th>      <th>t</th>      <th>P>|t|</th>  <th>[0.025</th>    <th>0.975]</th>  \n",
       "</tr>\n",
       "<tr>\n",
       "  <th>x1</th> <td>    0.2168</td> <td>    0.030</td> <td>    7.263</td> <td> 0.000</td> <td>    0.158</td> <td>    0.275</td>\n",
       "</tr>\n",
       "<tr>\n",
       "  <th>x2</th> <td>    5.0476</td> <td>    0.058</td> <td>   86.385</td> <td> 0.000</td> <td>    4.933</td> <td>    5.162</td>\n",
       "</tr>\n",
       "</table>\n",
       "<table class=\"simpletable\">\n",
       "<tr>\n",
       "  <th>Omnibus:</th>       <td> 1.346</td> <th>  Durbin-Watson:     </th> <td>   2.012</td>\n",
       "</tr>\n",
       "<tr>\n",
       "  <th>Prob(Omnibus):</th> <td> 0.510</td> <th>  Jarque-Bera (JB):  </th> <td>   1.386</td>\n",
       "</tr>\n",
       "<tr>\n",
       "  <th>Skew:</th>          <td> 0.088</td> <th>  Prob(JB):          </th> <td>   0.500</td>\n",
       "</tr>\n",
       "<tr>\n",
       "  <th>Kurtosis:</th>      <td> 2.951</td> <th>  Cond. No.          </th> <td>    2.02</td>\n",
       "</tr>\n",
       "</table><br/><br/>Notes:<br/>[1] R² is computed without centering (uncentered) since the model does not contain a constant.<br/>[2] Standard Errors assume that the covariance matrix of the errors is correctly specified."
      ],
      "text/plain": [
       "<class 'statsmodels.iolib.summary.Summary'>\n",
       "\"\"\"\n",
       "                                 OLS Regression Results                                \n",
       "=======================================================================================\n",
       "Dep. Variable:                      y   R-squared (uncentered):                   0.890\n",
       "Model:                            OLS   Adj. R-squared (uncentered):              0.890\n",
       "Method:                 Least Squares   F-statistic:                              4043.\n",
       "Date:                Fri, 09 Dec 2022   Prob (F-statistic):                        0.00\n",
       "Time:                        13:24:21   Log-Likelihood:                         -1455.9\n",
       "No. Observations:                1000   AIC:                                      2916.\n",
       "Df Residuals:                     998   BIC:                                      2926.\n",
       "Df Model:                           2                                                  \n",
       "Covariance Type:            nonrobust                                                  \n",
       "==============================================================================\n",
       "                 coef    std err          t      P>|t|      [0.025      0.975]\n",
       "------------------------------------------------------------------------------\n",
       "x1             0.2168      0.030      7.263      0.000       0.158       0.275\n",
       "x2             5.0476      0.058     86.385      0.000       4.933       5.162\n",
       "==============================================================================\n",
       "Omnibus:                        1.346   Durbin-Watson:                   2.012\n",
       "Prob(Omnibus):                  0.510   Jarque-Bera (JB):                1.386\n",
       "Skew:                           0.088   Prob(JB):                        0.500\n",
       "Kurtosis:                       2.951   Cond. No.                         2.02\n",
       "==============================================================================\n",
       "\n",
       "Notes:\n",
       "[1] R² is computed without centering (uncentered) since the model does not contain a constant.\n",
       "[2] Standard Errors assume that the covariance matrix of the errors is correctly specified.\n",
       "\"\"\""
      ]
     },
     "execution_count": 10,
     "metadata": {},
     "output_type": "execute_result"
    }
   ],
   "source": [
    "model = OLS(np.asarray(df[outcome]), np.asarray(df[[common_cause, treatment]], dtype=np.float64))\n",
    "result = model.fit()\n",
    "result.summary()"
   ]
  }
 ],
 "metadata": {
  "kernelspec": {
   "display_name": "Python 3",
   "language": "python",
   "name": "python3"
  },
  "language_info": {
   "codemirror_mode": {
    "name": "ipython",
    "version": 3
   },
   "file_extension": ".py",
   "mimetype": "text/x-python",
   "name": "python",
   "nbconvert_exporter": "python",
   "pygments_lexer": "ipython3",
   "version": "3.8.10"
  },
  "toc": {
   "base_numbering": 1,
   "nav_menu": {},
   "number_sections": false,
   "sideBar": true,
   "skip_h1_title": true,
   "title_cell": "Table of Contents",
   "title_sidebar": "Contents",
   "toc_cell": false,
   "toc_position": {},
   "toc_section_display": true,
   "toc_window_display": false
  }
 },
 "nbformat": 4,
 "nbformat_minor": 4
}
