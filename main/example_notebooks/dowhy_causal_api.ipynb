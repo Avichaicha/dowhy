{
 "cells": [
  {
   "cell_type": "markdown",
   "metadata": {},
   "source": [
    "# Demo for the DoWhy causal API\n",
    "We show a simple example of adding a causal extension to any dataframe. "
   ]
  },
  {
   "cell_type": "code",
   "execution_count": 1,
   "metadata": {
    "execution": {
     "iopub.execute_input": "2022-11-11T00:44:30.709814Z",
     "iopub.status.busy": "2022-11-11T00:44:30.709496Z",
     "iopub.status.idle": "2022-11-11T00:44:32.759610Z",
     "shell.execute_reply": "2022-11-11T00:44:32.758672Z"
    }
   },
   "outputs": [],
   "source": [
    "import dowhy.datasets\n",
    "import dowhy.api\n",
    "\n",
    "import numpy as np\n",
    "import pandas as pd\n",
    "\n",
    "from statsmodels.api import OLS"
   ]
  },
  {
   "cell_type": "code",
   "execution_count": 2,
   "metadata": {
    "execution": {
     "iopub.execute_input": "2022-11-11T00:44:32.763896Z",
     "iopub.status.busy": "2022-11-11T00:44:32.763096Z",
     "iopub.status.idle": "2022-11-11T00:44:32.812757Z",
     "shell.execute_reply": "2022-11-11T00:44:32.812021Z"
    }
   },
   "outputs": [
    {
     "data": {
      "text/html": [
       "<div>\n",
       "<style scoped>\n",
       "    .dataframe tbody tr th:only-of-type {\n",
       "        vertical-align: middle;\n",
       "    }\n",
       "\n",
       "    .dataframe tbody tr th {\n",
       "        vertical-align: top;\n",
       "    }\n",
       "\n",
       "    .dataframe thead th {\n",
       "        text-align: right;\n",
       "    }\n",
       "</style>\n",
       "<table border=\"1\" class=\"dataframe\">\n",
       "  <thead>\n",
       "    <tr style=\"text-align: right;\">\n",
       "      <th></th>\n",
       "      <th>W0</th>\n",
       "      <th>v0</th>\n",
       "      <th>y</th>\n",
       "    </tr>\n",
       "  </thead>\n",
       "  <tbody>\n",
       "    <tr>\n",
       "      <th>0</th>\n",
       "      <td>-1.501318</td>\n",
       "      <td>True</td>\n",
       "      <td>5.239554</td>\n",
       "    </tr>\n",
       "    <tr>\n",
       "      <th>1</th>\n",
       "      <td>0.225035</td>\n",
       "      <td>True</td>\n",
       "      <td>5.898899</td>\n",
       "    </tr>\n",
       "    <tr>\n",
       "      <th>2</th>\n",
       "      <td>1.104051</td>\n",
       "      <td>False</td>\n",
       "      <td>0.290492</td>\n",
       "    </tr>\n",
       "    <tr>\n",
       "      <th>3</th>\n",
       "      <td>0.394560</td>\n",
       "      <td>False</td>\n",
       "      <td>0.239665</td>\n",
       "    </tr>\n",
       "    <tr>\n",
       "      <th>4</th>\n",
       "      <td>0.103426</td>\n",
       "      <td>False</td>\n",
       "      <td>-0.213129</td>\n",
       "    </tr>\n",
       "    <tr>\n",
       "      <th>...</th>\n",
       "      <td>...</td>\n",
       "      <td>...</td>\n",
       "      <td>...</td>\n",
       "    </tr>\n",
       "    <tr>\n",
       "      <th>995</th>\n",
       "      <td>1.465602</td>\n",
       "      <td>False</td>\n",
       "      <td>0.523078</td>\n",
       "    </tr>\n",
       "    <tr>\n",
       "      <th>996</th>\n",
       "      <td>-1.748875</td>\n",
       "      <td>False</td>\n",
       "      <td>-1.043548</td>\n",
       "    </tr>\n",
       "    <tr>\n",
       "      <th>997</th>\n",
       "      <td>-0.858337</td>\n",
       "      <td>False</td>\n",
       "      <td>-0.929376</td>\n",
       "    </tr>\n",
       "    <tr>\n",
       "      <th>998</th>\n",
       "      <td>0.964788</td>\n",
       "      <td>False</td>\n",
       "      <td>-0.550164</td>\n",
       "    </tr>\n",
       "    <tr>\n",
       "      <th>999</th>\n",
       "      <td>-1.730798</td>\n",
       "      <td>True</td>\n",
       "      <td>5.072180</td>\n",
       "    </tr>\n",
       "  </tbody>\n",
       "</table>\n",
       "<p>1000 rows × 3 columns</p>\n",
       "</div>"
      ],
      "text/plain": [
       "           W0     v0         y\n",
       "0   -1.501318   True  5.239554\n",
       "1    0.225035   True  5.898899\n",
       "2    1.104051  False  0.290492\n",
       "3    0.394560  False  0.239665\n",
       "4    0.103426  False -0.213129\n",
       "..        ...    ...       ...\n",
       "995  1.465602  False  0.523078\n",
       "996 -1.748875  False -1.043548\n",
       "997 -0.858337  False -0.929376\n",
       "998  0.964788  False -0.550164\n",
       "999 -1.730798   True  5.072180\n",
       "\n",
       "[1000 rows x 3 columns]"
      ]
     },
     "execution_count": 2,
     "metadata": {},
     "output_type": "execute_result"
    }
   ],
   "source": [
    "data = dowhy.datasets.linear_dataset(beta=5,\n",
    "        num_common_causes=1,\n",
    "        num_instruments = 0,\n",
    "        num_samples=1000,\n",
    "        treatment_is_binary=True)\n",
    "df = data['df']\n",
    "df['y'] = df['y'] + np.random.normal(size=len(df)) # Adding noise to data. Without noise, the variance in Y|X, Z is zero, and mcmc fails.\n",
    "#data['dot_graph'] = 'digraph { v ->y;X0-> v;X0-> y;}'\n",
    "\n",
    "treatment= data[\"treatment_name\"][0]\n",
    "outcome = data[\"outcome_name\"][0]\n",
    "common_cause = data[\"common_causes_names\"][0]\n",
    "df"
   ]
  },
  {
   "cell_type": "code",
   "execution_count": 3,
   "metadata": {
    "execution": {
     "iopub.execute_input": "2022-11-11T00:44:32.816573Z",
     "iopub.status.busy": "2022-11-11T00:44:32.816157Z",
     "iopub.status.idle": "2022-11-11T00:44:32.976903Z",
     "shell.execute_reply": "2022-11-11T00:44:32.976180Z"
    }
   },
   "outputs": [
    {
     "data": {
      "text/plain": [
       "<AxesSubplot: xlabel='v0'>"
      ]
     },
     "execution_count": 3,
     "metadata": {},
     "output_type": "execute_result"
    },
    {
     "data": {
      "image/png": "[encoded data removed]",
      "text/plain": [
       "<Figure size 640x480 with 1 Axes>"
      ]
     },
     "metadata": {},
     "output_type": "display_data"
    }
   ],
   "source": [
    "# data['df'] is just a regular pandas.DataFrame\n",
    "df.causal.do(x=treatment,\n",
    "                     variable_types={treatment: 'b', outcome: 'c', common_cause: 'c'},\n",
    "                     outcome=outcome,\n",
    "                     common_causes=[common_cause],\n",
    "                     proceed_when_unidentifiable=True).groupby(treatment).mean().plot(y=outcome, kind='bar')"
   ]
  },
  {
   "cell_type": "code",
   "execution_count": 4,
   "metadata": {
    "execution": {
     "iopub.execute_input": "2022-11-11T00:44:32.980329Z",
     "iopub.status.busy": "2022-11-11T00:44:32.979934Z",
     "iopub.status.idle": "2022-11-11T00:44:33.102431Z",
     "shell.execute_reply": "2022-11-11T00:44:33.101838Z"
    }
   },
   "outputs": [
    {
     "data": {
      "text/plain": [
       "<AxesSubplot: xlabel='v0'>"
      ]
     },
     "execution_count": 4,
     "metadata": {},
     "output_type": "execute_result"
    },
    {
     "data": {
      "image/png": "[encoded data removed]",
      "text/plain": [
       "<Figure size 640x480 with 1 Axes>"
      ]
     },
     "metadata": {},
     "output_type": "display_data"
    }
   ],
   "source": [
    "df.causal.do(x={treatment: 1}, \n",
    "              variable_types={treatment:'b', outcome: 'c', common_cause: 'c'}, \n",
    "              outcome=outcome,\n",
    "              method='weighting', \n",
    "              common_causes=[common_cause],\n",
    "              proceed_when_unidentifiable=True).groupby(treatment).mean().plot(y=outcome, kind='bar')"
   ]
  },
  {
   "cell_type": "code",
   "execution_count": 5,
   "metadata": {
    "execution": {
     "iopub.execute_input": "2022-11-11T00:44:33.106944Z",
     "iopub.status.busy": "2022-11-11T00:44:33.105842Z",
     "iopub.status.idle": "2022-11-11T00:44:33.139712Z",
     "shell.execute_reply": "2022-11-11T00:44:33.138904Z"
    }
   },
   "outputs": [],
   "source": [
    "cdf_1 = df.causal.do(x={treatment: 1}, \n",
    "              variable_types={treatment: 'b', outcome: 'c', common_cause: 'c'}, \n",
    "              outcome=outcome, \n",
    "              dot_graph=data['dot_graph'],\n",
    "              proceed_when_unidentifiable=True)\n",
    "\n",
    "cdf_0 = df.causal.do(x={treatment: 0}, \n",
    "              variable_types={treatment: 'b', outcome: 'c', common_cause: 'c'}, \n",
    "              outcome=outcome, \n",
    "              dot_graph=data['dot_graph'],\n",
    "              proceed_when_unidentifiable=True)\n"
   ]
  },
  {
   "cell_type": "code",
   "execution_count": 6,
   "metadata": {
    "execution": {
     "iopub.execute_input": "2022-11-11T00:44:33.143882Z",
     "iopub.status.busy": "2022-11-11T00:44:33.143457Z",
     "iopub.status.idle": "2022-11-11T00:44:33.154772Z",
     "shell.execute_reply": "2022-11-11T00:44:33.154083Z"
    },
    "scrolled": true
   },
   "outputs": [
    {
     "data": {
      "text/html": [
       "<div>\n",
       "<style scoped>\n",
       "    .dataframe tbody tr th:only-of-type {\n",
       "        vertical-align: middle;\n",
       "    }\n",
       "\n",
       "    .dataframe tbody tr th {\n",
       "        vertical-align: top;\n",
       "    }\n",
       "\n",
       "    .dataframe thead th {\n",
       "        text-align: right;\n",
       "    }\n",
       "</style>\n",
       "<table border=\"1\" class=\"dataframe\">\n",
       "  <thead>\n",
       "    <tr style=\"text-align: right;\">\n",
       "      <th></th>\n",
       "      <th>W0</th>\n",
       "      <th>v0</th>\n",
       "      <th>y</th>\n",
       "      <th>propensity_score</th>\n",
       "      <th>weight</th>\n",
       "    </tr>\n",
       "  </thead>\n",
       "  <tbody>\n",
       "    <tr>\n",
       "      <th>0</th>\n",
       "      <td>0.506776</td>\n",
       "      <td>False</td>\n",
       "      <td>-1.974882</td>\n",
       "      <td>0.494821</td>\n",
       "      <td>2.020935</td>\n",
       "    </tr>\n",
       "    <tr>\n",
       "      <th>1</th>\n",
       "      <td>0.506776</td>\n",
       "      <td>False</td>\n",
       "      <td>-1.974882</td>\n",
       "      <td>0.494821</td>\n",
       "      <td>2.020935</td>\n",
       "    </tr>\n",
       "    <tr>\n",
       "      <th>2</th>\n",
       "      <td>-0.088124</td>\n",
       "      <td>False</td>\n",
       "      <td>0.227674</td>\n",
       "      <td>0.517415</td>\n",
       "      <td>1.932685</td>\n",
       "    </tr>\n",
       "    <tr>\n",
       "      <th>3</th>\n",
       "      <td>0.724955</td>\n",
       "      <td>False</td>\n",
       "      <td>1.216840</td>\n",
       "      <td>0.486535</td>\n",
       "      <td>2.055353</td>\n",
       "    </tr>\n",
       "    <tr>\n",
       "      <th>4</th>\n",
       "      <td>-0.422175</td>\n",
       "      <td>False</td>\n",
       "      <td>-0.476498</td>\n",
       "      <td>0.530077</td>\n",
       "      <td>1.886519</td>\n",
       "    </tr>\n",
       "    <tr>\n",
       "      <th>...</th>\n",
       "      <td>...</td>\n",
       "      <td>...</td>\n",
       "      <td>...</td>\n",
       "      <td>...</td>\n",
       "      <td>...</td>\n",
       "    </tr>\n",
       "    <tr>\n",
       "      <th>995</th>\n",
       "      <td>-1.273540</td>\n",
       "      <td>False</td>\n",
       "      <td>1.385775</td>\n",
       "      <td>0.562136</td>\n",
       "      <td>1.778930</td>\n",
       "    </tr>\n",
       "    <tr>\n",
       "      <th>996</th>\n",
       "      <td>-1.859840</td>\n",
       "      <td>False</td>\n",
       "      <td>-0.349501</td>\n",
       "      <td>0.583931</td>\n",
       "      <td>1.712530</td>\n",
       "    </tr>\n",
       "    <tr>\n",
       "      <th>997</th>\n",
       "      <td>-1.225802</td>\n",
       "      <td>False</td>\n",
       "      <td>2.061799</td>\n",
       "      <td>0.560349</td>\n",
       "      <td>1.784601</td>\n",
       "    </tr>\n",
       "    <tr>\n",
       "      <th>998</th>\n",
       "      <td>0.807053</td>\n",
       "      <td>False</td>\n",
       "      <td>0.007252</td>\n",
       "      <td>0.483418</td>\n",
       "      <td>2.068602</td>\n",
       "    </tr>\n",
       "    <tr>\n",
       "      <th>999</th>\n",
       "      <td>-0.291482</td>\n",
       "      <td>False</td>\n",
       "      <td>0.472471</td>\n",
       "      <td>0.525127</td>\n",
       "      <td>1.904302</td>\n",
       "    </tr>\n",
       "  </tbody>\n",
       "</table>\n",
       "<p>1000 rows × 5 columns</p>\n",
       "</div>"
      ],
      "text/plain": [
       "           W0     v0         y  propensity_score    weight\n",
       "0    0.506776  False -1.974882          0.494821  2.020935\n",
       "1    0.506776  False -1.974882          0.494821  2.020935\n",
       "2   -0.088124  False  0.227674          0.517415  1.932685\n",
       "3    0.724955  False  1.216840          0.486535  2.055353\n",
       "4   -0.422175  False -0.476498          0.530077  1.886519\n",
       "..        ...    ...       ...               ...       ...\n",
       "995 -1.273540  False  1.385775          0.562136  1.778930\n",
       "996 -1.859840  False -0.349501          0.583931  1.712530\n",
       "997 -1.225802  False  2.061799          0.560349  1.784601\n",
       "998  0.807053  False  0.007252          0.483418  2.068602\n",
       "999 -0.291482  False  0.472471          0.525127  1.904302\n",
       "\n",
       "[1000 rows x 5 columns]"
      ]
     },
     "execution_count": 6,
     "metadata": {},
     "output_type": "execute_result"
    }
   ],
   "source": [
    "cdf_0"
   ]
  },
  {
   "cell_type": "code",
   "execution_count": 7,
   "metadata": {
    "execution": {
     "iopub.execute_input": "2022-11-11T00:44:33.158025Z",
     "iopub.status.busy": "2022-11-11T00:44:33.157470Z",
     "iopub.status.idle": "2022-11-11T00:44:33.169514Z",
     "shell.execute_reply": "2022-11-11T00:44:33.168811Z"
    }
   },
   "outputs": [
    {
     "data": {
      "text/html": [
       "<div>\n",
       "<style scoped>\n",
       "    .dataframe tbody tr th:only-of-type {\n",
       "        vertical-align: middle;\n",
       "    }\n",
       "\n",
       "    .dataframe tbody tr th {\n",
       "        vertical-align: top;\n",
       "    }\n",
       "\n",
       "    .dataframe thead th {\n",
       "        text-align: right;\n",
       "    }\n",
       "</style>\n",
       "<table border=\"1\" class=\"dataframe\">\n",
       "  <thead>\n",
       "    <tr style=\"text-align: right;\">\n",
       "      <th></th>\n",
       "      <th>W0</th>\n",
       "      <th>v0</th>\n",
       "      <th>y</th>\n",
       "      <th>propensity_score</th>\n",
       "      <th>weight</th>\n",
       "    </tr>\n",
       "  </thead>\n",
       "  <tbody>\n",
       "    <tr>\n",
       "      <th>0</th>\n",
       "      <td>0.260607</td>\n",
       "      <td>True</td>\n",
       "      <td>4.048441</td>\n",
       "      <td>0.495827</td>\n",
       "      <td>2.016832</td>\n",
       "    </tr>\n",
       "    <tr>\n",
       "      <th>1</th>\n",
       "      <td>0.035172</td>\n",
       "      <td>True</td>\n",
       "      <td>5.524042</td>\n",
       "      <td>0.487265</td>\n",
       "      <td>2.052271</td>\n",
       "    </tr>\n",
       "    <tr>\n",
       "      <th>2</th>\n",
       "      <td>1.629947</td>\n",
       "      <td>True</td>\n",
       "      <td>8.213885</td>\n",
       "      <td>0.547706</td>\n",
       "      <td>1.825798</td>\n",
       "    </tr>\n",
       "    <tr>\n",
       "      <th>3</th>\n",
       "      <td>-1.295408</td>\n",
       "      <td>True</td>\n",
       "      <td>5.351842</td>\n",
       "      <td>0.437046</td>\n",
       "      <td>2.288086</td>\n",
       "    </tr>\n",
       "    <tr>\n",
       "      <th>4</th>\n",
       "      <td>1.227022</td>\n",
       "      <td>True</td>\n",
       "      <td>4.049410</td>\n",
       "      <td>0.532497</td>\n",
       "      <td>1.877943</td>\n",
       "    </tr>\n",
       "    <tr>\n",
       "      <th>...</th>\n",
       "      <td>...</td>\n",
       "      <td>...</td>\n",
       "      <td>...</td>\n",
       "      <td>...</td>\n",
       "      <td>...</td>\n",
       "    </tr>\n",
       "    <tr>\n",
       "      <th>995</th>\n",
       "      <td>0.614450</td>\n",
       "      <td>True</td>\n",
       "      <td>4.181939</td>\n",
       "      <td>0.509269</td>\n",
       "      <td>1.963598</td>\n",
       "    </tr>\n",
       "    <tr>\n",
       "      <th>996</th>\n",
       "      <td>1.345595</td>\n",
       "      <td>True</td>\n",
       "      <td>3.972045</td>\n",
       "      <td>0.536981</td>\n",
       "      <td>1.862265</td>\n",
       "    </tr>\n",
       "    <tr>\n",
       "      <th>997</th>\n",
       "      <td>0.030155</td>\n",
       "      <td>True</td>\n",
       "      <td>4.084837</td>\n",
       "      <td>0.487075</td>\n",
       "      <td>2.053074</td>\n",
       "    </tr>\n",
       "    <tr>\n",
       "      <th>998</th>\n",
       "      <td>-1.838236</td>\n",
       "      <td>True</td>\n",
       "      <td>4.053511</td>\n",
       "      <td>0.416866</td>\n",
       "      <td>2.398850</td>\n",
       "    </tr>\n",
       "    <tr>\n",
       "      <th>999</th>\n",
       "      <td>-0.255755</td>\n",
       "      <td>True</td>\n",
       "      <td>3.683944</td>\n",
       "      <td>0.476227</td>\n",
       "      <td>2.099838</td>\n",
       "    </tr>\n",
       "  </tbody>\n",
       "</table>\n",
       "<p>1000 rows × 5 columns</p>\n",
       "</div>"
      ],
      "text/plain": [
       "           W0    v0         y  propensity_score    weight\n",
       "0    0.260607  True  4.048441          0.495827  2.016832\n",
       "1    0.035172  True  5.524042          0.487265  2.052271\n",
       "2    1.629947  True  8.213885          0.547706  1.825798\n",
       "3   -1.295408  True  5.351842          0.437046  2.288086\n",
       "4    1.227022  True  4.049410          0.532497  1.877943\n",
       "..        ...   ...       ...               ...       ...\n",
       "995  0.614450  True  4.181939          0.509269  1.963598\n",
       "996  1.345595  True  3.972045          0.536981  1.862265\n",
       "997  0.030155  True  4.084837          0.487075  2.053074\n",
       "998 -1.838236  True  4.053511          0.416866  2.398850\n",
       "999 -0.255755  True  3.683944          0.476227  2.099838\n",
       "\n",
       "[1000 rows x 5 columns]"
      ]
     },
     "execution_count": 7,
     "metadata": {},
     "output_type": "execute_result"
    }
   ],
   "source": [
    "cdf_1"
   ]
  },
  {
   "cell_type": "markdown",
   "metadata": {},
   "source": [
    "## Comparing the estimate to Linear Regression\n",
    "First, estimating the effect using the causal data frame, and the 95% confidence interval."
   ]
  },
  {
   "cell_type": "code",
   "execution_count": 8,
   "metadata": {
    "execution": {
     "iopub.execute_input": "2022-11-11T00:44:33.172842Z",
     "iopub.status.busy": "2022-11-11T00:44:33.172288Z",
     "iopub.status.idle": "2022-11-11T00:44:33.231777Z",
     "shell.execute_reply": "2022-11-11T00:44:33.230988Z"
    }
   },
   "outputs": [
    {
     "data": {
      "image/png": "[encoded data removed]",
      "text/latex": [
       "$\\displaystyle 4.96549018817242$"
      ],
      "text/plain": [
       "4.965490188172423"
      ]
     },
     "execution_count": 8,
     "metadata": {},
     "output_type": "execute_result"
    }
   ],
   "source": [
    "(cdf_1['y'] - cdf_0['y']).mean()"
   ]
  },
  {
   "cell_type": "code",
   "execution_count": 9,
   "metadata": {
    "execution": {
     "iopub.execute_input": "2022-11-11T00:44:33.235494Z",
     "iopub.status.busy": "2022-11-11T00:44:33.235000Z",
     "iopub.status.idle": "2022-11-11T00:44:33.257555Z",
     "shell.execute_reply": "2022-11-11T00:44:33.256794Z"
    }
   },
   "outputs": [
    {
     "data": {
      "image/png": "[encoded data removed]",
      "text/latex": [
       "$\\displaystyle 0.0924486041030675$"
      ],
      "text/plain": [
       "0.09244860410306749"
      ]
     },
     "execution_count": 9,
     "metadata": {},
     "output_type": "execute_result"
    }
   ],
   "source": [
    "1.96*(cdf_1['y'] - cdf_0['y']).std() / np.sqrt(len(df))"
   ]
  },
  {
   "cell_type": "markdown",
   "metadata": {},
   "source": [
    "Comparing to the estimate from OLS."
   ]
  },
  {
   "cell_type": "code",
   "execution_count": 10,
   "metadata": {
    "execution": {
     "iopub.execute_input": "2022-11-11T00:44:33.261144Z",
     "iopub.status.busy": "2022-11-11T00:44:33.260725Z",
     "iopub.status.idle": "2022-11-11T00:44:33.278373Z",
     "shell.execute_reply": "2022-11-11T00:44:33.277633Z"
    }
   },
   "outputs": [
    {
     "data": {
      "text/html": [
       "<table class=\"simpletable\">\n",
       "<caption>OLS Regression Results</caption>\n",
       "<tr>\n",
       "  <th>Dep. Variable:</th>            <td>y</td>        <th>  R-squared (uncentered):</th>      <td>   0.917</td>\n",
       "</tr>\n",
       "<tr>\n",
       "  <th>Model:</th>                   <td>OLS</td>       <th>  Adj. R-squared (uncentered):</th> <td>   0.917</td>\n",
       "</tr>\n",
       "<tr>\n",
       "  <th>Method:</th>             <td>Least Squares</td>  <th>  F-statistic:       </th>          <td>   5516.</td>\n",
       "</tr>\n",
       "<tr>\n",
       "  <th>Date:</th>             <td>Fri, 11 Nov 2022</td> <th>  Prob (F-statistic):</th>           <td>  0.00</td> \n",
       "</tr>\n",
       "<tr>\n",
       "  <th>Time:</th>                 <td>00:44:33</td>     <th>  Log-Likelihood:    </th>          <td> -1457.6</td>\n",
       "</tr>\n",
       "<tr>\n",
       "  <th>No. Observations:</th>      <td>  1000</td>      <th>  AIC:               </th>          <td>   2919.</td>\n",
       "</tr>\n",
       "<tr>\n",
       "  <th>Df Residuals:</th>          <td>   998</td>      <th>  BIC:               </th>          <td>   2929.</td>\n",
       "</tr>\n",
       "<tr>\n",
       "  <th>Df Model:</th>              <td>     2</td>      <th>                     </th>              <td> </td>   \n",
       "</tr>\n",
       "<tr>\n",
       "  <th>Covariance Type:</th>      <td>nonrobust</td>    <th>                     </th>              <td> </td>   \n",
       "</tr>\n",
       "</table>\n",
       "<table class=\"simpletable\">\n",
       "<tr>\n",
       "   <td></td>     <th>coef</th>     <th>std err</th>      <th>t</th>      <th>P>|t|</th>  <th>[0.025</th>    <th>0.975]</th>  \n",
       "</tr>\n",
       "<tr>\n",
       "  <th>x1</th> <td>    0.1524</td> <td>    0.032</td> <td>    4.757</td> <td> 0.000</td> <td>    0.090</td> <td>    0.215</td>\n",
       "</tr>\n",
       "<tr>\n",
       "  <th>x2</th> <td>    5.0041</td> <td>    0.048</td> <td>  105.000</td> <td> 0.000</td> <td>    4.911</td> <td>    5.098</td>\n",
       "</tr>\n",
       "</table>\n",
       "<table class=\"simpletable\">\n",
       "<tr>\n",
       "  <th>Omnibus:</th>       <td> 0.998</td> <th>  Durbin-Watson:     </th> <td>   1.905</td>\n",
       "</tr>\n",
       "<tr>\n",
       "  <th>Prob(Omnibus):</th> <td> 0.607</td> <th>  Jarque-Bera (JB):  </th> <td>   0.865</td>\n",
       "</tr>\n",
       "<tr>\n",
       "  <th>Skew:</th>          <td> 0.045</td> <th>  Prob(JB):          </th> <td>   0.649</td>\n",
       "</tr>\n",
       "<tr>\n",
       "  <th>Kurtosis:</th>      <td> 3.112</td> <th>  Cond. No.          </th> <td>    1.50</td>\n",
       "</tr>\n",
       "</table><br/><br/>Notes:<br/>[1] R² is computed without centering (uncentered) since the model does not contain a constant.<br/>[2] Standard Errors assume that the covariance matrix of the errors is correctly specified."
      ],
      "text/plain": [
       "<class 'statsmodels.iolib.summary.Summary'>\n",
       "\"\"\"\n",
       "                                 OLS Regression Results                                \n",
       "=======================================================================================\n",
       "Dep. Variable:                      y   R-squared (uncentered):                   0.917\n",
       "Model:                            OLS   Adj. R-squared (uncentered):              0.917\n",
       "Method:                 Least Squares   F-statistic:                              5516.\n",
       "Date:                Fri, 11 Nov 2022   Prob (F-statistic):                        0.00\n",
       "Time:                        00:44:33   Log-Likelihood:                         -1457.6\n",
       "No. Observations:                1000   AIC:                                      2919.\n",
       "Df Residuals:                     998   BIC:                                      2929.\n",
       "Df Model:                           2                                                  \n",
       "Covariance Type:            nonrobust                                                  \n",
       "==============================================================================\n",
       "                 coef    std err          t      P>|t|      [0.025      0.975]\n",
       "------------------------------------------------------------------------------\n",
       "x1             0.1524      0.032      4.757      0.000       0.090       0.215\n",
       "x2             5.0041      0.048    105.000      0.000       4.911       5.098\n",
       "==============================================================================\n",
       "Omnibus:                        0.998   Durbin-Watson:                   1.905\n",
       "Prob(Omnibus):                  0.607   Jarque-Bera (JB):                0.865\n",
       "Skew:                           0.045   Prob(JB):                        0.649\n",
       "Kurtosis:                       3.112   Cond. No.                         1.50\n",
       "==============================================================================\n",
       "\n",
       "Notes:\n",
       "[1] R² is computed without centering (uncentered) since the model does not contain a constant.\n",
       "[2] Standard Errors assume that the covariance matrix of the errors is correctly specified.\n",
       "\"\"\""
      ]
     },
     "execution_count": 10,
     "metadata": {},
     "output_type": "execute_result"
    }
   ],
   "source": [
    "model = OLS(np.asarray(df[outcome]), np.asarray(df[[common_cause, treatment]], dtype=np.float64))\n",
    "result = model.fit()\n",
    "result.summary()"
   ]
  }
 ],
 "metadata": {
  "kernelspec": {
   "display_name": "Python 3",
   "language": "python",
   "name": "python3"
  },
  "language_info": {
   "codemirror_mode": {
    "name": "ipython",
    "version": 3
   },
   "file_extension": ".py",
   "mimetype": "text/x-python",
   "name": "python",
   "nbconvert_exporter": "python",
   "pygments_lexer": "ipython3",
   "version": "3.8.10"
  },
  "toc": {
   "base_numbering": 1,
   "nav_menu": {},
   "number_sections": false,
   "sideBar": true,
   "skip_h1_title": true,
   "title_cell": "Table of Contents",
   "title_sidebar": "Contents",
   "toc_cell": false,
   "toc_position": {},
   "toc_section_display": true,
   "toc_window_display": false
  }
 },
 "nbformat": 4,
 "nbformat_minor": 4
}
