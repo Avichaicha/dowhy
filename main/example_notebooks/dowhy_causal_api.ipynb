{
 "cells": [
  {
   "cell_type": "markdown",
   "metadata": {},
   "source": [
    "# Demo for the DoWhy causal API\n",
    "We show a simple example of adding a causal extension to any dataframe. "
   ]
  },
  {
   "cell_type": "code",
   "execution_count": 1,
   "metadata": {
    "execution": {
     "iopub.execute_input": "2022-12-16T19:54:26.135905Z",
     "iopub.status.busy": "2022-12-16T19:54:26.135336Z",
     "iopub.status.idle": "2022-12-16T19:54:28.456061Z",
     "shell.execute_reply": "2022-12-16T19:54:28.455011Z"
    }
   },
   "outputs": [],
   "source": [
    "import dowhy.datasets\n",
    "import dowhy.api\n",
    "\n",
    "import numpy as np\n",
    "import pandas as pd\n",
    "\n",
    "from statsmodels.api import OLS"
   ]
  },
  {
   "cell_type": "code",
   "execution_count": 2,
   "metadata": {
    "execution": {
     "iopub.execute_input": "2022-12-16T19:54:28.460255Z",
     "iopub.status.busy": "2022-12-16T19:54:28.459757Z",
     "iopub.status.idle": "2022-12-16T19:54:28.522296Z",
     "shell.execute_reply": "2022-12-16T19:54:28.521386Z"
    }
   },
   "outputs": [
    {
     "data": {
      "text/html": [
       "<div>\n",
       "<style scoped>\n",
       "    .dataframe tbody tr th:only-of-type {\n",
       "        vertical-align: middle;\n",
       "    }\n",
       "\n",
       "    .dataframe tbody tr th {\n",
       "        vertical-align: top;\n",
       "    }\n",
       "\n",
       "    .dataframe thead th {\n",
       "        text-align: right;\n",
       "    }\n",
       "</style>\n",
       "<table border=\"1\" class=\"dataframe\">\n",
       "  <thead>\n",
       "    <tr style=\"text-align: right;\">\n",
       "      <th></th>\n",
       "      <th>W0</th>\n",
       "      <th>v0</th>\n",
       "      <th>y</th>\n",
       "    </tr>\n",
       "  </thead>\n",
       "  <tbody>\n",
       "    <tr>\n",
       "      <th>0</th>\n",
       "      <td>-1.095266</td>\n",
       "      <td>False</td>\n",
       "      <td>-0.980755</td>\n",
       "    </tr>\n",
       "    <tr>\n",
       "      <th>1</th>\n",
       "      <td>-0.077687</td>\n",
       "      <td>False</td>\n",
       "      <td>-1.029517</td>\n",
       "    </tr>\n",
       "    <tr>\n",
       "      <th>2</th>\n",
       "      <td>-0.764927</td>\n",
       "      <td>False</td>\n",
       "      <td>-0.483828</td>\n",
       "    </tr>\n",
       "    <tr>\n",
       "      <th>3</th>\n",
       "      <td>-0.490037</td>\n",
       "      <td>False</td>\n",
       "      <td>-0.658410</td>\n",
       "    </tr>\n",
       "    <tr>\n",
       "      <th>4</th>\n",
       "      <td>-2.467743</td>\n",
       "      <td>False</td>\n",
       "      <td>-2.352241</td>\n",
       "    </tr>\n",
       "    <tr>\n",
       "      <th>...</th>\n",
       "      <td>...</td>\n",
       "      <td>...</td>\n",
       "      <td>...</td>\n",
       "    </tr>\n",
       "    <tr>\n",
       "      <th>995</th>\n",
       "      <td>-1.339400</td>\n",
       "      <td>False</td>\n",
       "      <td>0.184355</td>\n",
       "    </tr>\n",
       "    <tr>\n",
       "      <th>996</th>\n",
       "      <td>-0.650757</td>\n",
       "      <td>False</td>\n",
       "      <td>0.026498</td>\n",
       "    </tr>\n",
       "    <tr>\n",
       "      <th>997</th>\n",
       "      <td>0.169961</td>\n",
       "      <td>False</td>\n",
       "      <td>-1.095426</td>\n",
       "    </tr>\n",
       "    <tr>\n",
       "      <th>998</th>\n",
       "      <td>-0.734657</td>\n",
       "      <td>False</td>\n",
       "      <td>0.496390</td>\n",
       "    </tr>\n",
       "    <tr>\n",
       "      <th>999</th>\n",
       "      <td>-0.862673</td>\n",
       "      <td>False</td>\n",
       "      <td>-1.059211</td>\n",
       "    </tr>\n",
       "  </tbody>\n",
       "</table>\n",
       "<p>1000 rows × 3 columns</p>\n",
       "</div>"
      ],
      "text/plain": [
       "           W0     v0         y\n",
       "0   -1.095266  False -0.980755\n",
       "1   -0.077687  False -1.029517\n",
       "2   -0.764927  False -0.483828\n",
       "3   -0.490037  False -0.658410\n",
       "4   -2.467743  False -2.352241\n",
       "..        ...    ...       ...\n",
       "995 -1.339400  False  0.184355\n",
       "996 -0.650757  False  0.026498\n",
       "997  0.169961  False -1.095426\n",
       "998 -0.734657  False  0.496390\n",
       "999 -0.862673  False -1.059211\n",
       "\n",
       "[1000 rows x 3 columns]"
      ]
     },
     "execution_count": 2,
     "metadata": {},
     "output_type": "execute_result"
    }
   ],
   "source": [
    "data = dowhy.datasets.linear_dataset(beta=5,\n",
    "        num_common_causes=1,\n",
    "        num_instruments = 0,\n",
    "        num_samples=1000,\n",
    "        treatment_is_binary=True)\n",
    "df = data['df']\n",
    "df['y'] = df['y'] + np.random.normal(size=len(df)) # Adding noise to data. Without noise, the variance in Y|X, Z is zero, and mcmc fails.\n",
    "#data['dot_graph'] = 'digraph { v ->y;X0-> v;X0-> y;}'\n",
    "\n",
    "treatment= data[\"treatment_name\"][0]\n",
    "outcome = data[\"outcome_name\"][0]\n",
    "common_cause = data[\"common_causes_names\"][0]\n",
    "df"
   ]
  },
  {
   "cell_type": "code",
   "execution_count": 3,
   "metadata": {
    "execution": {
     "iopub.execute_input": "2022-12-16T19:54:28.525523Z",
     "iopub.status.busy": "2022-12-16T19:54:28.525272Z",
     "iopub.status.idle": "2022-12-16T19:54:28.731231Z",
     "shell.execute_reply": "2022-12-16T19:54:28.730253Z"
    }
   },
   "outputs": [
    {
     "data": {
      "text/plain": [
       "<AxesSubplot: xlabel='v0'>"
      ]
     },
     "execution_count": 3,
     "metadata": {},
     "output_type": "execute_result"
    },
    {
     "data": {
      "image/png": "[encoded data removed]",
      "text/plain": [
       "<Figure size 640x480 with 1 Axes>"
      ]
     },
     "metadata": {},
     "output_type": "display_data"
    }
   ],
   "source": [
    "# data['df'] is just a regular pandas.DataFrame\n",
    "df.causal.do(x=treatment,\n",
    "                     variable_types={treatment: 'b', outcome: 'c', common_cause: 'c'},\n",
    "                     outcome=outcome,\n",
    "                     common_causes=[common_cause],\n",
    "                     proceed_when_unidentifiable=True).groupby(treatment).mean().plot(y=outcome, kind='bar')"
   ]
  },
  {
   "cell_type": "code",
   "execution_count": 4,
   "metadata": {
    "execution": {
     "iopub.execute_input": "2022-12-16T19:54:28.734985Z",
     "iopub.status.busy": "2022-12-16T19:54:28.734310Z",
     "iopub.status.idle": "2022-12-16T19:54:28.893536Z",
     "shell.execute_reply": "2022-12-16T19:54:28.892824Z"
    }
   },
   "outputs": [
    {
     "data": {
      "text/plain": [
       "<AxesSubplot: xlabel='v0'>"
      ]
     },
     "execution_count": 4,
     "metadata": {},
     "output_type": "execute_result"
    },
    {
     "data": {
      "image/png": "[encoded data removed]",
      "text/plain": [
       "<Figure size 640x480 with 1 Axes>"
      ]
     },
     "metadata": {},
     "output_type": "display_data"
    }
   ],
   "source": [
    "df.causal.do(x={treatment: 1}, \n",
    "              variable_types={treatment:'b', outcome: 'c', common_cause: 'c'}, \n",
    "              outcome=outcome,\n",
    "              method='weighting', \n",
    "              common_causes=[common_cause],\n",
    "              proceed_when_unidentifiable=True).groupby(treatment).mean().plot(y=outcome, kind='bar')"
   ]
  },
  {
   "cell_type": "code",
   "execution_count": 5,
   "metadata": {
    "execution": {
     "iopub.execute_input": "2022-12-16T19:54:28.896646Z",
     "iopub.status.busy": "2022-12-16T19:54:28.896251Z",
     "iopub.status.idle": "2022-12-16T19:54:28.936346Z",
     "shell.execute_reply": "2022-12-16T19:54:28.935537Z"
    }
   },
   "outputs": [],
   "source": [
    "cdf_1 = df.causal.do(x={treatment: 1}, \n",
    "              variable_types={treatment: 'b', outcome: 'c', common_cause: 'c'}, \n",
    "              outcome=outcome, \n",
    "              dot_graph=data['dot_graph'],\n",
    "              proceed_when_unidentifiable=True)\n",
    "\n",
    "cdf_0 = df.causal.do(x={treatment: 0}, \n",
    "              variable_types={treatment: 'b', outcome: 'c', common_cause: 'c'}, \n",
    "              outcome=outcome, \n",
    "              dot_graph=data['dot_graph'],\n",
    "              proceed_when_unidentifiable=True)\n"
   ]
  },
  {
   "cell_type": "code",
   "execution_count": 6,
   "metadata": {
    "execution": {
     "iopub.execute_input": "2022-12-16T19:54:28.939624Z",
     "iopub.status.busy": "2022-12-16T19:54:28.939230Z",
     "iopub.status.idle": "2022-12-16T19:54:28.952373Z",
     "shell.execute_reply": "2022-12-16T19:54:28.951510Z"
    },
    "scrolled": true
   },
   "outputs": [
    {
     "data": {
      "text/html": [
       "<div>\n",
       "<style scoped>\n",
       "    .dataframe tbody tr th:only-of-type {\n",
       "        vertical-align: middle;\n",
       "    }\n",
       "\n",
       "    .dataframe tbody tr th {\n",
       "        vertical-align: top;\n",
       "    }\n",
       "\n",
       "    .dataframe thead th {\n",
       "        text-align: right;\n",
       "    }\n",
       "</style>\n",
       "<table border=\"1\" class=\"dataframe\">\n",
       "  <thead>\n",
       "    <tr style=\"text-align: right;\">\n",
       "      <th></th>\n",
       "      <th>W0</th>\n",
       "      <th>v0</th>\n",
       "      <th>y</th>\n",
       "      <th>propensity_score</th>\n",
       "      <th>weight</th>\n",
       "    </tr>\n",
       "  </thead>\n",
       "  <tbody>\n",
       "    <tr>\n",
       "      <th>0</th>\n",
       "      <td>0.365949</td>\n",
       "      <td>False</td>\n",
       "      <td>0.450098</td>\n",
       "      <td>0.286874</td>\n",
       "      <td>3.485848</td>\n",
       "    </tr>\n",
       "    <tr>\n",
       "      <th>1</th>\n",
       "      <td>-0.323103</td>\n",
       "      <td>False</td>\n",
       "      <td>0.017540</td>\n",
       "      <td>0.695813</td>\n",
       "      <td>1.437169</td>\n",
       "    </tr>\n",
       "    <tr>\n",
       "      <th>2</th>\n",
       "      <td>-0.926468</td>\n",
       "      <td>False</td>\n",
       "      <td>-2.508296</td>\n",
       "      <td>0.912882</td>\n",
       "      <td>1.095431</td>\n",
       "    </tr>\n",
       "    <tr>\n",
       "      <th>3</th>\n",
       "      <td>1.242039</td>\n",
       "      <td>False</td>\n",
       "      <td>0.264069</td>\n",
       "      <td>0.042272</td>\n",
       "      <td>23.656361</td>\n",
       "    </tr>\n",
       "    <tr>\n",
       "      <th>4</th>\n",
       "      <td>-1.212809</td>\n",
       "      <td>False</td>\n",
       "      <td>-1.292107</td>\n",
       "      <td>0.955706</td>\n",
       "      <td>1.046347</td>\n",
       "    </tr>\n",
       "    <tr>\n",
       "      <th>...</th>\n",
       "      <td>...</td>\n",
       "      <td>...</td>\n",
       "      <td>...</td>\n",
       "      <td>...</td>\n",
       "      <td>...</td>\n",
       "    </tr>\n",
       "    <tr>\n",
       "      <th>995</th>\n",
       "      <td>-1.678582</td>\n",
       "      <td>False</td>\n",
       "      <td>-2.947995</td>\n",
       "      <td>0.985887</td>\n",
       "      <td>1.014315</td>\n",
       "    </tr>\n",
       "    <tr>\n",
       "      <th>996</th>\n",
       "      <td>-2.238726</td>\n",
       "      <td>False</td>\n",
       "      <td>-3.140978</td>\n",
       "      <td>0.996527</td>\n",
       "      <td>1.003485</td>\n",
       "    </tr>\n",
       "    <tr>\n",
       "      <th>997</th>\n",
       "      <td>0.650247</td>\n",
       "      <td>False</td>\n",
       "      <td>1.572697</td>\n",
       "      <td>0.164143</td>\n",
       "      <td>6.092247</td>\n",
       "    </tr>\n",
       "    <tr>\n",
       "      <th>998</th>\n",
       "      <td>-0.133825</td>\n",
       "      <td>False</td>\n",
       "      <td>0.372732</td>\n",
       "      <td>0.586619</td>\n",
       "      <td>1.704685</td>\n",
       "    </tr>\n",
       "    <tr>\n",
       "      <th>999</th>\n",
       "      <td>0.183146</td>\n",
       "      <td>False</td>\n",
       "      <td>1.398555</td>\n",
       "      <td>0.389476</td>\n",
       "      <td>2.567551</td>\n",
       "    </tr>\n",
       "  </tbody>\n",
       "</table>\n",
       "<p>1000 rows × 5 columns</p>\n",
       "</div>"
      ],
      "text/plain": [
       "           W0     v0         y  propensity_score     weight\n",
       "0    0.365949  False  0.450098          0.286874   3.485848\n",
       "1   -0.323103  False  0.017540          0.695813   1.437169\n",
       "2   -0.926468  False -2.508296          0.912882   1.095431\n",
       "3    1.242039  False  0.264069          0.042272  23.656361\n",
       "4   -1.212809  False -1.292107          0.955706   1.046347\n",
       "..        ...    ...       ...               ...        ...\n",
       "995 -1.678582  False -2.947995          0.985887   1.014315\n",
       "996 -2.238726  False -3.140978          0.996527   1.003485\n",
       "997  0.650247  False  1.572697          0.164143   6.092247\n",
       "998 -0.133825  False  0.372732          0.586619   1.704685\n",
       "999  0.183146  False  1.398555          0.389476   2.567551\n",
       "\n",
       "[1000 rows x 5 columns]"
      ]
     },
     "execution_count": 6,
     "metadata": {},
     "output_type": "execute_result"
    }
   ],
   "source": [
    "cdf_0"
   ]
  },
  {
   "cell_type": "code",
   "execution_count": 7,
   "metadata": {
    "execution": {
     "iopub.execute_input": "2022-12-16T19:54:28.955714Z",
     "iopub.status.busy": "2022-12-16T19:54:28.955471Z",
     "iopub.status.idle": "2022-12-16T19:54:28.967878Z",
     "shell.execute_reply": "2022-12-16T19:54:28.967082Z"
    }
   },
   "outputs": [
    {
     "data": {
      "text/html": [
       "<div>\n",
       "<style scoped>\n",
       "    .dataframe tbody tr th:only-of-type {\n",
       "        vertical-align: middle;\n",
       "    }\n",
       "\n",
       "    .dataframe tbody tr th {\n",
       "        vertical-align: top;\n",
       "    }\n",
       "\n",
       "    .dataframe thead th {\n",
       "        text-align: right;\n",
       "    }\n",
       "</style>\n",
       "<table border=\"1\" class=\"dataframe\">\n",
       "  <thead>\n",
       "    <tr style=\"text-align: right;\">\n",
       "      <th></th>\n",
       "      <th>W0</th>\n",
       "      <th>v0</th>\n",
       "      <th>y</th>\n",
       "      <th>propensity_score</th>\n",
       "      <th>weight</th>\n",
       "    </tr>\n",
       "  </thead>\n",
       "  <tbody>\n",
       "    <tr>\n",
       "      <th>0</th>\n",
       "      <td>-1.089949</td>\n",
       "      <td>True</td>\n",
       "      <td>4.909434</td>\n",
       "      <td>0.059429</td>\n",
       "      <td>16.826857</td>\n",
       "    </tr>\n",
       "    <tr>\n",
       "      <th>1</th>\n",
       "      <td>-0.210546</td>\n",
       "      <td>True</td>\n",
       "      <td>4.061782</td>\n",
       "      <td>0.367368</td>\n",
       "      <td>2.722063</td>\n",
       "    </tr>\n",
       "    <tr>\n",
       "      <th>2</th>\n",
       "      <td>-0.672931</td>\n",
       "      <td>True</td>\n",
       "      <td>5.034633</td>\n",
       "      <td>0.153185</td>\n",
       "      <td>6.528035</td>\n",
       "    </tr>\n",
       "    <tr>\n",
       "      <th>3</th>\n",
       "      <td>0.310961</td>\n",
       "      <td>True</td>\n",
       "      <td>6.259056</td>\n",
       "      <td>0.683934</td>\n",
       "      <td>1.462128</td>\n",
       "    </tr>\n",
       "    <tr>\n",
       "      <th>4</th>\n",
       "      <td>-1.051818</td>\n",
       "      <td>True</td>\n",
       "      <td>4.599420</td>\n",
       "      <td>0.065038</td>\n",
       "      <td>15.375524</td>\n",
       "    </tr>\n",
       "    <tr>\n",
       "      <th>...</th>\n",
       "      <td>...</td>\n",
       "      <td>...</td>\n",
       "      <td>...</td>\n",
       "      <td>...</td>\n",
       "      <td>...</td>\n",
       "    </tr>\n",
       "    <tr>\n",
       "      <th>995</th>\n",
       "      <td>-0.516684</td>\n",
       "      <td>True</td>\n",
       "      <td>4.762790</td>\n",
       "      <td>0.211531</td>\n",
       "      <td>4.727432</td>\n",
       "    </tr>\n",
       "    <tr>\n",
       "      <th>996</th>\n",
       "      <td>0.500000</td>\n",
       "      <td>True</td>\n",
       "      <td>6.002840</td>\n",
       "      <td>0.777082</td>\n",
       "      <td>1.286866</td>\n",
       "    </tr>\n",
       "    <tr>\n",
       "      <th>997</th>\n",
       "      <td>-0.274189</td>\n",
       "      <td>True</td>\n",
       "      <td>6.363094</td>\n",
       "      <td>0.330914</td>\n",
       "      <td>3.021936</td>\n",
       "    </tr>\n",
       "    <tr>\n",
       "      <th>998</th>\n",
       "      <td>1.431154</td>\n",
       "      <td>True</td>\n",
       "      <td>7.878213</td>\n",
       "      <td>0.973337</td>\n",
       "      <td>1.027393</td>\n",
       "    </tr>\n",
       "    <tr>\n",
       "      <th>999</th>\n",
       "      <td>0.025995</td>\n",
       "      <td>True</td>\n",
       "      <td>4.871021</td>\n",
       "      <td>0.513277</td>\n",
       "      <td>1.948264</td>\n",
       "    </tr>\n",
       "  </tbody>\n",
       "</table>\n",
       "<p>1000 rows × 5 columns</p>\n",
       "</div>"
      ],
      "text/plain": [
       "           W0    v0         y  propensity_score     weight\n",
       "0   -1.089949  True  4.909434          0.059429  16.826857\n",
       "1   -0.210546  True  4.061782          0.367368   2.722063\n",
       "2   -0.672931  True  5.034633          0.153185   6.528035\n",
       "3    0.310961  True  6.259056          0.683934   1.462128\n",
       "4   -1.051818  True  4.599420          0.065038  15.375524\n",
       "..        ...   ...       ...               ...        ...\n",
       "995 -0.516684  True  4.762790          0.211531   4.727432\n",
       "996  0.500000  True  6.002840          0.777082   1.286866\n",
       "997 -0.274189  True  6.363094          0.330914   3.021936\n",
       "998  1.431154  True  7.878213          0.973337   1.027393\n",
       "999  0.025995  True  4.871021          0.513277   1.948264\n",
       "\n",
       "[1000 rows x 5 columns]"
      ]
     },
     "execution_count": 7,
     "metadata": {},
     "output_type": "execute_result"
    }
   ],
   "source": [
    "cdf_1"
   ]
  },
  {
   "cell_type": "markdown",
   "metadata": {},
   "source": [
    "## Comparing the estimate to Linear Regression\n",
    "First, estimating the effect using the causal data frame, and the 95% confidence interval."
   ]
  },
  {
   "cell_type": "code",
   "execution_count": 8,
   "metadata": {
    "execution": {
     "iopub.execute_input": "2022-12-16T19:54:28.971135Z",
     "iopub.status.busy": "2022-12-16T19:54:28.970808Z",
     "iopub.status.idle": "2022-12-16T19:54:29.037443Z",
     "shell.execute_reply": "2022-12-16T19:54:29.036644Z"
    }
   },
   "outputs": [
    {
     "data": {
      "image/png": "[encoded data removed]",
      "text/latex": [
       "$\\displaystyle 5.27938720891948$"
      ],
      "text/plain": [
       "5.279387208919482"
      ]
     },
     "execution_count": 8,
     "metadata": {},
     "output_type": "execute_result"
    }
   ],
   "source": [
    "(cdf_1['y'] - cdf_0['y']).mean()"
   ]
  },
  {
   "cell_type": "code",
   "execution_count": 9,
   "metadata": {
    "execution": {
     "iopub.execute_input": "2022-12-16T19:54:29.040613Z",
     "iopub.status.busy": "2022-12-16T19:54:29.040366Z",
     "iopub.status.idle": "2022-12-16T19:54:29.069790Z",
     "shell.execute_reply": "2022-12-16T19:54:29.068653Z"
    }
   },
   "outputs": [
    {
     "data": {
      "image/png": "[encoded data removed]",
      "text/latex": [
       "$\\displaystyle 0.102488370373949$"
      ],
      "text/plain": [
       "0.10248837037394855"
      ]
     },
     "execution_count": 9,
     "metadata": {},
     "output_type": "execute_result"
    }
   ],
   "source": [
    "1.96*(cdf_1['y'] - cdf_0['y']).std() / np.sqrt(len(df))"
   ]
  },
  {
   "cell_type": "markdown",
   "metadata": {},
   "source": [
    "Comparing to the estimate from OLS."
   ]
  },
  {
   "cell_type": "code",
   "execution_count": 10,
   "metadata": {
    "execution": {
     "iopub.execute_input": "2022-12-16T19:54:29.074602Z",
     "iopub.status.busy": "2022-12-16T19:54:29.074301Z",
     "iopub.status.idle": "2022-12-16T19:54:29.094833Z",
     "shell.execute_reply": "2022-12-16T19:54:29.093942Z"
    }
   },
   "outputs": [
    {
     "data": {
      "text/html": [
       "<table class=\"simpletable\">\n",
       "<caption>OLS Regression Results</caption>\n",
       "<tr>\n",
       "  <th>Dep. Variable:</th>            <td>y</td>        <th>  R-squared (uncentered):</th>      <td>   0.923</td>\n",
       "</tr>\n",
       "<tr>\n",
       "  <th>Model:</th>                   <td>OLS</td>       <th>  Adj. R-squared (uncentered):</th> <td>   0.923</td>\n",
       "</tr>\n",
       "<tr>\n",
       "  <th>Method:</th>             <td>Least Squares</td>  <th>  F-statistic:       </th>          <td>   5991.</td>\n",
       "</tr>\n",
       "<tr>\n",
       "  <th>Date:</th>             <td>Fri, 16 Dec 2022</td> <th>  Prob (F-statistic):</th>           <td>  0.00</td> \n",
       "</tr>\n",
       "<tr>\n",
       "  <th>Time:</th>                 <td>19:54:29</td>     <th>  Log-Likelihood:    </th>          <td> -1411.4</td>\n",
       "</tr>\n",
       "<tr>\n",
       "  <th>No. Observations:</th>      <td>  1000</td>      <th>  AIC:               </th>          <td>   2827.</td>\n",
       "</tr>\n",
       "<tr>\n",
       "  <th>Df Residuals:</th>          <td>   998</td>      <th>  BIC:               </th>          <td>   2837.</td>\n",
       "</tr>\n",
       "<tr>\n",
       "  <th>Df Model:</th>              <td>     2</td>      <th>                     </th>              <td> </td>   \n",
       "</tr>\n",
       "<tr>\n",
       "  <th>Covariance Type:</th>      <td>nonrobust</td>    <th>                     </th>              <td> </td>   \n",
       "</tr>\n",
       "</table>\n",
       "<table class=\"simpletable\">\n",
       "<tr>\n",
       "   <td></td>     <th>coef</th>     <th>std err</th>      <th>t</th>      <th>P>|t|</th>  <th>[0.025</th>    <th>0.975]</th>  \n",
       "</tr>\n",
       "<tr>\n",
       "  <th>x1</th> <td>    0.8843</td> <td>    0.031</td> <td>   28.181</td> <td> 0.000</td> <td>    0.823</td> <td>    0.946</td>\n",
       "</tr>\n",
       "<tr>\n",
       "  <th>x2</th> <td>    5.0753</td> <td>    0.053</td> <td>   95.194</td> <td> 0.000</td> <td>    4.971</td> <td>    5.180</td>\n",
       "</tr>\n",
       "</table>\n",
       "<table class=\"simpletable\">\n",
       "<tr>\n",
       "  <th>Omnibus:</th>       <td> 0.887</td> <th>  Durbin-Watson:     </th> <td>   1.957</td>\n",
       "</tr>\n",
       "<tr>\n",
       "  <th>Prob(Omnibus):</th> <td> 0.642</td> <th>  Jarque-Bera (JB):  </th> <td>   0.775</td>\n",
       "</tr>\n",
       "<tr>\n",
       "  <th>Skew:</th>          <td> 0.058</td> <th>  Prob(JB):          </th> <td>   0.679</td>\n",
       "</tr>\n",
       "<tr>\n",
       "  <th>Kurtosis:</th>      <td> 3.071</td> <th>  Cond. No.          </th> <td>    1.81</td>\n",
       "</tr>\n",
       "</table><br/><br/>Notes:<br/>[1] R² is computed without centering (uncentered) since the model does not contain a constant.<br/>[2] Standard Errors assume that the covariance matrix of the errors is correctly specified."
      ],
      "text/plain": [
       "<class 'statsmodels.iolib.summary.Summary'>\n",
       "\"\"\"\n",
       "                                 OLS Regression Results                                \n",
       "=======================================================================================\n",
       "Dep. Variable:                      y   R-squared (uncentered):                   0.923\n",
       "Model:                            OLS   Adj. R-squared (uncentered):              0.923\n",
       "Method:                 Least Squares   F-statistic:                              5991.\n",
       "Date:                Fri, 16 Dec 2022   Prob (F-statistic):                        0.00\n",
       "Time:                        19:54:29   Log-Likelihood:                         -1411.4\n",
       "No. Observations:                1000   AIC:                                      2827.\n",
       "Df Residuals:                     998   BIC:                                      2837.\n",
       "Df Model:                           2                                                  \n",
       "Covariance Type:            nonrobust                                                  \n",
       "==============================================================================\n",
       "                 coef    std err          t      P>|t|      [0.025      0.975]\n",
       "------------------------------------------------------------------------------\n",
       "x1             0.8843      0.031     28.181      0.000       0.823       0.946\n",
       "x2             5.0753      0.053     95.194      0.000       4.971       5.180\n",
       "==============================================================================\n",
       "Omnibus:                        0.887   Durbin-Watson:                   1.957\n",
       "Prob(Omnibus):                  0.642   Jarque-Bera (JB):                0.775\n",
       "Skew:                           0.058   Prob(JB):                        0.679\n",
       "Kurtosis:                       3.071   Cond. No.                         1.81\n",
       "==============================================================================\n",
       "\n",
       "Notes:\n",
       "[1] R² is computed without centering (uncentered) since the model does not contain a constant.\n",
       "[2] Standard Errors assume that the covariance matrix of the errors is correctly specified.\n",
       "\"\"\""
      ]
     },
     "execution_count": 10,
     "metadata": {},
     "output_type": "execute_result"
    }
   ],
   "source": [
    "model = OLS(np.asarray(df[outcome]), np.asarray(df[[common_cause, treatment]], dtype=np.float64))\n",
    "result = model.fit()\n",
    "result.summary()"
   ]
  }
 ],
 "metadata": {
  "kernelspec": {
   "display_name": "Python 3",
   "language": "python",
   "name": "python3"
  },
  "language_info": {
   "codemirror_mode": {
    "name": "ipython",
    "version": 3
   },
   "file_extension": ".py",
   "mimetype": "text/x-python",
   "name": "python",
   "nbconvert_exporter": "python",
   "pygments_lexer": "ipython3",
   "version": "3.8.10"
  },
  "toc": {
   "base_numbering": 1,
   "nav_menu": {},
   "number_sections": false,
   "sideBar": true,
   "skip_h1_title": true,
   "title_cell": "Table of Contents",
   "title_sidebar": "Contents",
   "toc_cell": false,
   "toc_position": {},
   "toc_section_display": true,
   "toc_window_display": false
  }
 },
 "nbformat": 4,
 "nbformat_minor": 4
}
