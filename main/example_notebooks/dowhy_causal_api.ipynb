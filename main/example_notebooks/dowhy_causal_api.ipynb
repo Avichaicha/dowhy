{
 "cells": [
  {
   "cell_type": "markdown",
   "metadata": {},
   "source": [
    "# Demo for the DoWhy causal API\n",
    "We show a simple example of adding a causal extension to any dataframe. "
   ]
  },
  {
   "cell_type": "code",
   "execution_count": 1,
   "metadata": {
    "execution": {
     "iopub.execute_input": "2022-11-10T08:39:24.049298Z",
     "iopub.status.busy": "2022-11-10T08:39:24.048938Z",
     "iopub.status.idle": "2022-11-10T08:39:26.499593Z",
     "shell.execute_reply": "2022-11-10T08:39:26.498564Z"
    }
   },
   "outputs": [],
   "source": [
    "import dowhy.datasets\n",
    "import dowhy.api\n",
    "\n",
    "import numpy as np\n",
    "import pandas as pd\n",
    "\n",
    "from statsmodels.api import OLS"
   ]
  },
  {
   "cell_type": "code",
   "execution_count": 2,
   "metadata": {
    "execution": {
     "iopub.execute_input": "2022-11-10T08:39:26.505088Z",
     "iopub.status.busy": "2022-11-10T08:39:26.504213Z",
     "iopub.status.idle": "2022-11-10T08:39:26.575761Z",
     "shell.execute_reply": "2022-11-10T08:39:26.574717Z"
    }
   },
   "outputs": [
    {
     "data": {
      "text/html": [
       "<div>\n",
       "<style scoped>\n",
       "    .dataframe tbody tr th:only-of-type {\n",
       "        vertical-align: middle;\n",
       "    }\n",
       "\n",
       "    .dataframe tbody tr th {\n",
       "        vertical-align: top;\n",
       "    }\n",
       "\n",
       "    .dataframe thead th {\n",
       "        text-align: right;\n",
       "    }\n",
       "</style>\n",
       "<table border=\"1\" class=\"dataframe\">\n",
       "  <thead>\n",
       "    <tr style=\"text-align: right;\">\n",
       "      <th></th>\n",
       "      <th>W0</th>\n",
       "      <th>v0</th>\n",
       "      <th>y</th>\n",
       "    </tr>\n",
       "  </thead>\n",
       "  <tbody>\n",
       "    <tr>\n",
       "      <th>0</th>\n",
       "      <td>-0.364046</td>\n",
       "      <td>True</td>\n",
       "      <td>3.010693</td>\n",
       "    </tr>\n",
       "    <tr>\n",
       "      <th>1</th>\n",
       "      <td>-0.164838</td>\n",
       "      <td>True</td>\n",
       "      <td>5.714681</td>\n",
       "    </tr>\n",
       "    <tr>\n",
       "      <th>2</th>\n",
       "      <td>-0.274911</td>\n",
       "      <td>False</td>\n",
       "      <td>2.042694</td>\n",
       "    </tr>\n",
       "    <tr>\n",
       "      <th>3</th>\n",
       "      <td>1.190484</td>\n",
       "      <td>True</td>\n",
       "      <td>6.563680</td>\n",
       "    </tr>\n",
       "    <tr>\n",
       "      <th>4</th>\n",
       "      <td>-0.501419</td>\n",
       "      <td>True</td>\n",
       "      <td>4.838374</td>\n",
       "    </tr>\n",
       "    <tr>\n",
       "      <th>...</th>\n",
       "      <td>...</td>\n",
       "      <td>...</td>\n",
       "      <td>...</td>\n",
       "    </tr>\n",
       "    <tr>\n",
       "      <th>995</th>\n",
       "      <td>0.153206</td>\n",
       "      <td>False</td>\n",
       "      <td>-0.583520</td>\n",
       "    </tr>\n",
       "    <tr>\n",
       "      <th>996</th>\n",
       "      <td>0.364438</td>\n",
       "      <td>True</td>\n",
       "      <td>4.679177</td>\n",
       "    </tr>\n",
       "    <tr>\n",
       "      <th>997</th>\n",
       "      <td>-0.628581</td>\n",
       "      <td>False</td>\n",
       "      <td>-1.075273</td>\n",
       "    </tr>\n",
       "    <tr>\n",
       "      <th>998</th>\n",
       "      <td>-2.349680</td>\n",
       "      <td>False</td>\n",
       "      <td>-1.636121</td>\n",
       "    </tr>\n",
       "    <tr>\n",
       "      <th>999</th>\n",
       "      <td>-0.744044</td>\n",
       "      <td>False</td>\n",
       "      <td>-0.226055</td>\n",
       "    </tr>\n",
       "  </tbody>\n",
       "</table>\n",
       "<p>1000 rows × 3 columns</p>\n",
       "</div>"
      ],
      "text/plain": [
       "           W0     v0         y\n",
       "0   -0.364046   True  3.010693\n",
       "1   -0.164838   True  5.714681\n",
       "2   -0.274911  False  2.042694\n",
       "3    1.190484   True  6.563680\n",
       "4   -0.501419   True  4.838374\n",
       "..        ...    ...       ...\n",
       "995  0.153206  False -0.583520\n",
       "996  0.364438   True  4.679177\n",
       "997 -0.628581  False -1.075273\n",
       "998 -2.349680  False -1.636121\n",
       "999 -0.744044  False -0.226055\n",
       "\n",
       "[1000 rows x 3 columns]"
      ]
     },
     "execution_count": 2,
     "metadata": {},
     "output_type": "execute_result"
    }
   ],
   "source": [
    "data = dowhy.datasets.linear_dataset(beta=5,\n",
    "        num_common_causes=1,\n",
    "        num_instruments = 0,\n",
    "        num_samples=1000,\n",
    "        treatment_is_binary=True)\n",
    "df = data['df']\n",
    "df['y'] = df['y'] + np.random.normal(size=len(df)) # Adding noise to data. Without noise, the variance in Y|X, Z is zero, and mcmc fails.\n",
    "#data['dot_graph'] = 'digraph { v ->y;X0-> v;X0-> y;}'\n",
    "\n",
    "treatment= data[\"treatment_name\"][0]\n",
    "outcome = data[\"outcome_name\"][0]\n",
    "common_cause = data[\"common_causes_names\"][0]\n",
    "df"
   ]
  },
  {
   "cell_type": "code",
   "execution_count": 3,
   "metadata": {
    "execution": {
     "iopub.execute_input": "2022-11-10T08:39:26.579919Z",
     "iopub.status.busy": "2022-11-10T08:39:26.579631Z",
     "iopub.status.idle": "2022-11-10T08:39:26.792706Z",
     "shell.execute_reply": "2022-11-10T08:39:26.791828Z"
    }
   },
   "outputs": [
    {
     "data": {
      "text/plain": [
       "<AxesSubplot: xlabel='v0'>"
      ]
     },
     "execution_count": 3,
     "metadata": {},
     "output_type": "execute_result"
    },
    {
     "data": {
      "image/png": "[encoded data removed]",
      "text/plain": [
       "<Figure size 640x480 with 1 Axes>"
      ]
     },
     "metadata": {},
     "output_type": "display_data"
    }
   ],
   "source": [
    "# data['df'] is just a regular pandas.DataFrame\n",
    "df.causal.do(x=treatment,\n",
    "                     variable_types={treatment: 'b', outcome: 'c', common_cause: 'c'},\n",
    "                     outcome=outcome,\n",
    "                     common_causes=[common_cause],\n",
    "                     proceed_when_unidentifiable=True).groupby(treatment).mean().plot(y=outcome, kind='bar')"
   ]
  },
  {
   "cell_type": "code",
   "execution_count": 4,
   "metadata": {
    "execution": {
     "iopub.execute_input": "2022-11-10T08:39:26.796902Z",
     "iopub.status.busy": "2022-11-10T08:39:26.796474Z",
     "iopub.status.idle": "2022-11-10T08:39:26.960756Z",
     "shell.execute_reply": "2022-11-10T08:39:26.959860Z"
    }
   },
   "outputs": [
    {
     "data": {
      "text/plain": [
       "<AxesSubplot: xlabel='v0'>"
      ]
     },
     "execution_count": 4,
     "metadata": {},
     "output_type": "execute_result"
    },
    {
     "data": {
      "image/png": "[encoded data removed]",
      "text/plain": [
       "<Figure size 640x480 with 1 Axes>"
      ]
     },
     "metadata": {},
     "output_type": "display_data"
    }
   ],
   "source": [
    "df.causal.do(x={treatment: 1}, \n",
    "              variable_types={treatment:'b', outcome: 'c', common_cause: 'c'}, \n",
    "              outcome=outcome,\n",
    "              method='weighting', \n",
    "              common_causes=[common_cause],\n",
    "              proceed_when_unidentifiable=True).groupby(treatment).mean().plot(y=outcome, kind='bar')"
   ]
  },
  {
   "cell_type": "code",
   "execution_count": 5,
   "metadata": {
    "execution": {
     "iopub.execute_input": "2022-11-10T08:39:26.965152Z",
     "iopub.status.busy": "2022-11-10T08:39:26.964702Z",
     "iopub.status.idle": "2022-11-10T08:39:27.008267Z",
     "shell.execute_reply": "2022-11-10T08:39:27.007305Z"
    }
   },
   "outputs": [],
   "source": [
    "cdf_1 = df.causal.do(x={treatment: 1}, \n",
    "              variable_types={treatment: 'b', outcome: 'c', common_cause: 'c'}, \n",
    "              outcome=outcome, \n",
    "              dot_graph=data['dot_graph'],\n",
    "              proceed_when_unidentifiable=True)\n",
    "\n",
    "cdf_0 = df.causal.do(x={treatment: 0}, \n",
    "              variable_types={treatment: 'b', outcome: 'c', common_cause: 'c'}, \n",
    "              outcome=outcome, \n",
    "              dot_graph=data['dot_graph'],\n",
    "              proceed_when_unidentifiable=True)\n"
   ]
  },
  {
   "cell_type": "code",
   "execution_count": 6,
   "metadata": {
    "execution": {
     "iopub.execute_input": "2022-11-10T08:39:27.012931Z",
     "iopub.status.busy": "2022-11-10T08:39:27.012634Z",
     "iopub.status.idle": "2022-11-10T08:39:27.029133Z",
     "shell.execute_reply": "2022-11-10T08:39:27.028230Z"
    },
    "scrolled": true
   },
   "outputs": [
    {
     "data": {
      "text/html": [
       "<div>\n",
       "<style scoped>\n",
       "    .dataframe tbody tr th:only-of-type {\n",
       "        vertical-align: middle;\n",
       "    }\n",
       "\n",
       "    .dataframe tbody tr th {\n",
       "        vertical-align: top;\n",
       "    }\n",
       "\n",
       "    .dataframe thead th {\n",
       "        text-align: right;\n",
       "    }\n",
       "</style>\n",
       "<table border=\"1\" class=\"dataframe\">\n",
       "  <thead>\n",
       "    <tr style=\"text-align: right;\">\n",
       "      <th></th>\n",
       "      <th>W0</th>\n",
       "      <th>v0</th>\n",
       "      <th>y</th>\n",
       "      <th>propensity_score</th>\n",
       "      <th>weight</th>\n",
       "    </tr>\n",
       "  </thead>\n",
       "  <tbody>\n",
       "    <tr>\n",
       "      <th>0</th>\n",
       "      <td>-1.890372</td>\n",
       "      <td>False</td>\n",
       "      <td>-1.125757</td>\n",
       "      <td>0.984071</td>\n",
       "      <td>1.016187</td>\n",
       "    </tr>\n",
       "    <tr>\n",
       "      <th>1</th>\n",
       "      <td>-1.299153</td>\n",
       "      <td>False</td>\n",
       "      <td>-0.839480</td>\n",
       "      <td>0.944648</td>\n",
       "      <td>1.058595</td>\n",
       "    </tr>\n",
       "    <tr>\n",
       "      <th>2</th>\n",
       "      <td>-0.622242</td>\n",
       "      <td>False</td>\n",
       "      <td>-3.550111</td>\n",
       "      <td>0.796442</td>\n",
       "      <td>1.255584</td>\n",
       "    </tr>\n",
       "    <tr>\n",
       "      <th>3</th>\n",
       "      <td>1.780212</td>\n",
       "      <td>False</td>\n",
       "      <td>2.022782</td>\n",
       "      <td>0.020566</td>\n",
       "      <td>48.624026</td>\n",
       "    </tr>\n",
       "    <tr>\n",
       "      <th>4</th>\n",
       "      <td>0.084085</td>\n",
       "      <td>False</td>\n",
       "      <td>-0.998754</td>\n",
       "      <td>0.456931</td>\n",
       "      <td>2.188516</td>\n",
       "    </tr>\n",
       "    <tr>\n",
       "      <th>...</th>\n",
       "      <td>...</td>\n",
       "      <td>...</td>\n",
       "      <td>...</td>\n",
       "      <td>...</td>\n",
       "      <td>...</td>\n",
       "    </tr>\n",
       "    <tr>\n",
       "      <th>995</th>\n",
       "      <td>-0.067513</td>\n",
       "      <td>False</td>\n",
       "      <td>-0.017701</td>\n",
       "      <td>0.539209</td>\n",
       "      <td>1.854568</td>\n",
       "    </tr>\n",
       "    <tr>\n",
       "      <th>996</th>\n",
       "      <td>0.446865</td>\n",
       "      <td>False</td>\n",
       "      <td>-1.998950</td>\n",
       "      <td>0.276461</td>\n",
       "      <td>3.617142</td>\n",
       "    </tr>\n",
       "    <tr>\n",
       "      <th>997</th>\n",
       "      <td>1.780212</td>\n",
       "      <td>False</td>\n",
       "      <td>2.022782</td>\n",
       "      <td>0.020566</td>\n",
       "      <td>48.624026</td>\n",
       "    </tr>\n",
       "    <tr>\n",
       "      <th>998</th>\n",
       "      <td>-0.976149</td>\n",
       "      <td>False</td>\n",
       "      <td>-0.012622</td>\n",
       "      <td>0.894190</td>\n",
       "      <td>1.118330</td>\n",
       "    </tr>\n",
       "    <tr>\n",
       "      <th>999</th>\n",
       "      <td>-1.156711</td>\n",
       "      <td>False</td>\n",
       "      <td>-0.414661</td>\n",
       "      <td>0.926024</td>\n",
       "      <td>1.079885</td>\n",
       "    </tr>\n",
       "  </tbody>\n",
       "</table>\n",
       "<p>1000 rows × 5 columns</p>\n",
       "</div>"
      ],
      "text/plain": [
       "           W0     v0         y  propensity_score     weight\n",
       "0   -1.890372  False -1.125757          0.984071   1.016187\n",
       "1   -1.299153  False -0.839480          0.944648   1.058595\n",
       "2   -0.622242  False -3.550111          0.796442   1.255584\n",
       "3    1.780212  False  2.022782          0.020566  48.624026\n",
       "4    0.084085  False -0.998754          0.456931   2.188516\n",
       "..        ...    ...       ...               ...        ...\n",
       "995 -0.067513  False -0.017701          0.539209   1.854568\n",
       "996  0.446865  False -1.998950          0.276461   3.617142\n",
       "997  1.780212  False  2.022782          0.020566  48.624026\n",
       "998 -0.976149  False -0.012622          0.894190   1.118330\n",
       "999 -1.156711  False -0.414661          0.926024   1.079885\n",
       "\n",
       "[1000 rows x 5 columns]"
      ]
     },
     "execution_count": 6,
     "metadata": {},
     "output_type": "execute_result"
    }
   ],
   "source": [
    "cdf_0"
   ]
  },
  {
   "cell_type": "code",
   "execution_count": 7,
   "metadata": {
    "execution": {
     "iopub.execute_input": "2022-11-10T08:39:27.032701Z",
     "iopub.status.busy": "2022-11-10T08:39:27.032437Z",
     "iopub.status.idle": "2022-11-10T08:39:27.048104Z",
     "shell.execute_reply": "2022-11-10T08:39:27.047231Z"
    }
   },
   "outputs": [
    {
     "data": {
      "text/html": [
       "<div>\n",
       "<style scoped>\n",
       "    .dataframe tbody tr th:only-of-type {\n",
       "        vertical-align: middle;\n",
       "    }\n",
       "\n",
       "    .dataframe tbody tr th {\n",
       "        vertical-align: top;\n",
       "    }\n",
       "\n",
       "    .dataframe thead th {\n",
       "        text-align: right;\n",
       "    }\n",
       "</style>\n",
       "<table border=\"1\" class=\"dataframe\">\n",
       "  <thead>\n",
       "    <tr style=\"text-align: right;\">\n",
       "      <th></th>\n",
       "      <th>W0</th>\n",
       "      <th>v0</th>\n",
       "      <th>y</th>\n",
       "      <th>propensity_score</th>\n",
       "      <th>weight</th>\n",
       "    </tr>\n",
       "  </thead>\n",
       "  <tbody>\n",
       "    <tr>\n",
       "      <th>0</th>\n",
       "      <td>1.258802</td>\n",
       "      <td>True</td>\n",
       "      <td>5.153557</td>\n",
       "      <td>0.938704</td>\n",
       "      <td>1.065298</td>\n",
       "    </tr>\n",
       "    <tr>\n",
       "      <th>1</th>\n",
       "      <td>1.376968</td>\n",
       "      <td>True</td>\n",
       "      <td>6.977646</td>\n",
       "      <td>0.951934</td>\n",
       "      <td>1.050493</td>\n",
       "    </tr>\n",
       "    <tr>\n",
       "      <th>2</th>\n",
       "      <td>0.784001</td>\n",
       "      <td>True</td>\n",
       "      <td>5.740126</td>\n",
       "      <td>0.844968</td>\n",
       "      <td>1.183477</td>\n",
       "    </tr>\n",
       "    <tr>\n",
       "      <th>3</th>\n",
       "      <td>-0.935740</td>\n",
       "      <td>True</td>\n",
       "      <td>4.276269</td>\n",
       "      <td>0.114422</td>\n",
       "      <td>8.739600</td>\n",
       "    </tr>\n",
       "    <tr>\n",
       "      <th>4</th>\n",
       "      <td>2.182757</td>\n",
       "      <td>True</td>\n",
       "      <td>6.543837</td>\n",
       "      <td>0.991331</td>\n",
       "      <td>1.008745</td>\n",
       "    </tr>\n",
       "    <tr>\n",
       "      <th>...</th>\n",
       "      <td>...</td>\n",
       "      <td>...</td>\n",
       "      <td>...</td>\n",
       "      <td>...</td>\n",
       "      <td>...</td>\n",
       "    </tr>\n",
       "    <tr>\n",
       "      <th>995</th>\n",
       "      <td>0.992650</td>\n",
       "      <td>True</td>\n",
       "      <td>6.848784</td>\n",
       "      <td>0.895638</td>\n",
       "      <td>1.116523</td>\n",
       "    </tr>\n",
       "    <tr>\n",
       "      <th>996</th>\n",
       "      <td>0.308151</td>\n",
       "      <td>True</td>\n",
       "      <td>5.562897</td>\n",
       "      <td>0.659317</td>\n",
       "      <td>1.516721</td>\n",
       "    </tr>\n",
       "    <tr>\n",
       "      <th>997</th>\n",
       "      <td>-0.501419</td>\n",
       "      <td>True</td>\n",
       "      <td>4.838374</td>\n",
       "      <td>0.249495</td>\n",
       "      <td>4.008089</td>\n",
       "    </tr>\n",
       "    <tr>\n",
       "      <th>998</th>\n",
       "      <td>0.233290</td>\n",
       "      <td>True</td>\n",
       "      <td>5.219962</td>\n",
       "      <td>0.621839</td>\n",
       "      <td>1.608132</td>\n",
       "    </tr>\n",
       "    <tr>\n",
       "      <th>999</th>\n",
       "      <td>-0.053175</td>\n",
       "      <td>True</td>\n",
       "      <td>7.094937</td>\n",
       "      <td>0.468551</td>\n",
       "      <td>2.134238</td>\n",
       "    </tr>\n",
       "  </tbody>\n",
       "</table>\n",
       "<p>1000 rows × 5 columns</p>\n",
       "</div>"
      ],
      "text/plain": [
       "           W0    v0         y  propensity_score    weight\n",
       "0    1.258802  True  5.153557          0.938704  1.065298\n",
       "1    1.376968  True  6.977646          0.951934  1.050493\n",
       "2    0.784001  True  5.740126          0.844968  1.183477\n",
       "3   -0.935740  True  4.276269          0.114422  8.739600\n",
       "4    2.182757  True  6.543837          0.991331  1.008745\n",
       "..        ...   ...       ...               ...       ...\n",
       "995  0.992650  True  6.848784          0.895638  1.116523\n",
       "996  0.308151  True  5.562897          0.659317  1.516721\n",
       "997 -0.501419  True  4.838374          0.249495  4.008089\n",
       "998  0.233290  True  5.219962          0.621839  1.608132\n",
       "999 -0.053175  True  7.094937          0.468551  2.134238\n",
       "\n",
       "[1000 rows x 5 columns]"
      ]
     },
     "execution_count": 7,
     "metadata": {},
     "output_type": "execute_result"
    }
   ],
   "source": [
    "cdf_1"
   ]
  },
  {
   "cell_type": "markdown",
   "metadata": {},
   "source": [
    "## Comparing the estimate to Linear Regression\n",
    "First, estimating the effect using the causal data frame, and the 95% confidence interval."
   ]
  },
  {
   "cell_type": "code",
   "execution_count": 8,
   "metadata": {
    "execution": {
     "iopub.execute_input": "2022-11-10T08:39:27.052776Z",
     "iopub.status.busy": "2022-11-10T08:39:27.052176Z",
     "iopub.status.idle": "2022-11-10T08:39:27.126668Z",
     "shell.execute_reply": "2022-11-10T08:39:27.125430Z"
    }
   },
   "outputs": [
    {
     "data": {
      "image/png": "[encoded data removed]",
      "text/latex": [
       "$\\displaystyle 5.19221266334717$"
      ],
      "text/plain": [
       "5.192212663347174"
      ]
     },
     "execution_count": 8,
     "metadata": {},
     "output_type": "execute_result"
    }
   ],
   "source": [
    "(cdf_1['y'] - cdf_0['y']).mean()"
   ]
  },
  {
   "cell_type": "code",
   "execution_count": 9,
   "metadata": {
    "execution": {
     "iopub.execute_input": "2022-11-10T08:39:27.132466Z",
     "iopub.status.busy": "2022-11-10T08:39:27.131793Z",
     "iopub.status.idle": "2022-11-10T08:39:27.160818Z",
     "shell.execute_reply": "2022-11-10T08:39:27.159847Z"
    }
   },
   "outputs": [
    {
     "data": {
      "image/png": "[encoded data removed]",
      "text/latex": [
       "$\\displaystyle 0.107889784238476$"
      ],
      "text/plain": [
       "0.10788978423847623"
      ]
     },
     "execution_count": 9,
     "metadata": {},
     "output_type": "execute_result"
    }
   ],
   "source": [
    "1.96*(cdf_1['y'] - cdf_0['y']).std() / np.sqrt(len(df))"
   ]
  },
  {
   "cell_type": "markdown",
   "metadata": {},
   "source": [
    "Comparing to the estimate from OLS."
   ]
  },
  {
   "cell_type": "code",
   "execution_count": 10,
   "metadata": {
    "execution": {
     "iopub.execute_input": "2022-11-10T08:39:27.164712Z",
     "iopub.status.busy": "2022-11-10T08:39:27.164252Z",
     "iopub.status.idle": "2022-11-10T08:39:27.185093Z",
     "shell.execute_reply": "2022-11-10T08:39:27.184191Z"
    }
   },
   "outputs": [
    {
     "data": {
      "text/html": [
       "<table class=\"simpletable\">\n",
       "<caption>OLS Regression Results</caption>\n",
       "<tr>\n",
       "  <th>Dep. Variable:</th>            <td>y</td>        <th>  R-squared (uncentered):</th>      <td>   0.933</td>\n",
       "</tr>\n",
       "<tr>\n",
       "  <th>Model:</th>                   <td>OLS</td>       <th>  Adj. R-squared (uncentered):</th> <td>   0.933</td>\n",
       "</tr>\n",
       "<tr>\n",
       "  <th>Method:</th>             <td>Least Squares</td>  <th>  F-statistic:       </th>          <td>   6986.</td>\n",
       "</tr>\n",
       "<tr>\n",
       "  <th>Date:</th>             <td>Thu, 10 Nov 2022</td> <th>  Prob (F-statistic):</th>           <td>  0.00</td> \n",
       "</tr>\n",
       "<tr>\n",
       "  <th>Time:</th>                 <td>08:39:27</td>     <th>  Log-Likelihood:    </th>          <td> -1389.1</td>\n",
       "</tr>\n",
       "<tr>\n",
       "  <th>No. Observations:</th>      <td>  1000</td>      <th>  AIC:               </th>          <td>   2782.</td>\n",
       "</tr>\n",
       "<tr>\n",
       "  <th>Df Residuals:</th>          <td>   998</td>      <th>  BIC:               </th>          <td>   2792.</td>\n",
       "</tr>\n",
       "<tr>\n",
       "  <th>Df Model:</th>              <td>     2</td>      <th>                     </th>              <td> </td>   \n",
       "</tr>\n",
       "<tr>\n",
       "  <th>Covariance Type:</th>      <td>nonrobust</td>    <th>                     </th>              <td> </td>   \n",
       "</tr>\n",
       "</table>\n",
       "<table class=\"simpletable\">\n",
       "<tr>\n",
       "   <td></td>     <th>coef</th>     <th>std err</th>      <th>t</th>      <th>P>|t|</th>  <th>[0.025</th>    <th>0.975]</th>  \n",
       "</tr>\n",
       "<tr>\n",
       "  <th>x1</th> <td>    0.8806</td> <td>    0.033</td> <td>   27.013</td> <td> 0.000</td> <td>    0.817</td> <td>    0.945</td>\n",
       "</tr>\n",
       "<tr>\n",
       "  <th>x2</th> <td>    4.9200</td> <td>    0.049</td> <td>   99.418</td> <td> 0.000</td> <td>    4.823</td> <td>    5.017</td>\n",
       "</tr>\n",
       "</table>\n",
       "<table class=\"simpletable\">\n",
       "<tr>\n",
       "  <th>Omnibus:</th>       <td> 6.931</td> <th>  Durbin-Watson:     </th> <td>   1.988</td>\n",
       "</tr>\n",
       "<tr>\n",
       "  <th>Prob(Omnibus):</th> <td> 0.031</td> <th>  Jarque-Bera (JB):  </th> <td>   8.675</td>\n",
       "</tr>\n",
       "<tr>\n",
       "  <th>Skew:</th>          <td>-0.074</td> <th>  Prob(JB):          </th> <td>  0.0131</td>\n",
       "</tr>\n",
       "<tr>\n",
       "  <th>Kurtosis:</th>      <td> 3.432</td> <th>  Cond. No.          </th> <td>    1.73</td>\n",
       "</tr>\n",
       "</table><br/><br/>Notes:<br/>[1] R² is computed without centering (uncentered) since the model does not contain a constant.<br/>[2] Standard Errors assume that the covariance matrix of the errors is correctly specified."
      ],
      "text/plain": [
       "<class 'statsmodels.iolib.summary.Summary'>\n",
       "\"\"\"\n",
       "                                 OLS Regression Results                                \n",
       "=======================================================================================\n",
       "Dep. Variable:                      y   R-squared (uncentered):                   0.933\n",
       "Model:                            OLS   Adj. R-squared (uncentered):              0.933\n",
       "Method:                 Least Squares   F-statistic:                              6986.\n",
       "Date:                Thu, 10 Nov 2022   Prob (F-statistic):                        0.00\n",
       "Time:                        08:39:27   Log-Likelihood:                         -1389.1\n",
       "No. Observations:                1000   AIC:                                      2782.\n",
       "Df Residuals:                     998   BIC:                                      2792.\n",
       "Df Model:                           2                                                  \n",
       "Covariance Type:            nonrobust                                                  \n",
       "==============================================================================\n",
       "                 coef    std err          t      P>|t|      [0.025      0.975]\n",
       "------------------------------------------------------------------------------\n",
       "x1             0.8806      0.033     27.013      0.000       0.817       0.945\n",
       "x2             4.9200      0.049     99.418      0.000       4.823       5.017\n",
       "==============================================================================\n",
       "Omnibus:                        6.931   Durbin-Watson:                   1.988\n",
       "Prob(Omnibus):                  0.031   Jarque-Bera (JB):                8.675\n",
       "Skew:                          -0.074   Prob(JB):                       0.0131\n",
       "Kurtosis:                       3.432   Cond. No.                         1.73\n",
       "==============================================================================\n",
       "\n",
       "Notes:\n",
       "[1] R² is computed without centering (uncentered) since the model does not contain a constant.\n",
       "[2] Standard Errors assume that the covariance matrix of the errors is correctly specified.\n",
       "\"\"\""
      ]
     },
     "execution_count": 10,
     "metadata": {},
     "output_type": "execute_result"
    }
   ],
   "source": [
    "model = OLS(np.asarray(df[outcome]), np.asarray(df[[common_cause, treatment]], dtype=np.float64))\n",
    "result = model.fit()\n",
    "result.summary()"
   ]
  }
 ],
 "metadata": {
  "kernelspec": {
   "display_name": "Python 3",
   "language": "python",
   "name": "python3"
  },
  "language_info": {
   "codemirror_mode": {
    "name": "ipython",
    "version": 3
   },
   "file_extension": ".py",
   "mimetype": "text/x-python",
   "name": "python",
   "nbconvert_exporter": "python",
   "pygments_lexer": "ipython3",
   "version": "3.8.10"
  },
  "toc": {
   "base_numbering": 1,
   "nav_menu": {},
   "number_sections": false,
   "sideBar": true,
   "skip_h1_title": true,
   "title_cell": "Table of Contents",
   "title_sidebar": "Contents",
   "toc_cell": false,
   "toc_position": {},
   "toc_section_display": true,
   "toc_window_display": false
  }
 },
 "nbformat": 4,
 "nbformat_minor": 4
}
