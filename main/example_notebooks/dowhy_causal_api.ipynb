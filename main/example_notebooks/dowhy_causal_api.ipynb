{
 "cells": [
  {
   "cell_type": "markdown",
   "metadata": {},
   "source": [
    "# Demo for the DoWhy causal API\n",
    "We show a simple example of adding a causal extension to any dataframe. "
   ]
  },
  {
   "cell_type": "code",
   "execution_count": 1,
   "metadata": {
    "execution": {
     "iopub.execute_input": "2022-11-10T23:43:08.050392Z",
     "iopub.status.busy": "2022-11-10T23:43:08.049822Z",
     "iopub.status.idle": "2022-11-10T23:43:10.327177Z",
     "shell.execute_reply": "2022-11-10T23:43:10.326210Z"
    }
   },
   "outputs": [],
   "source": [
    "import dowhy.datasets\n",
    "import dowhy.api\n",
    "\n",
    "import numpy as np\n",
    "import pandas as pd\n",
    "\n",
    "from statsmodels.api import OLS"
   ]
  },
  {
   "cell_type": "code",
   "execution_count": 2,
   "metadata": {
    "execution": {
     "iopub.execute_input": "2022-11-10T23:43:10.331538Z",
     "iopub.status.busy": "2022-11-10T23:43:10.330751Z",
     "iopub.status.idle": "2022-11-10T23:43:10.382470Z",
     "shell.execute_reply": "2022-11-10T23:43:10.381539Z"
    }
   },
   "outputs": [
    {
     "data": {
      "text/html": [
       "<div>\n",
       "<style scoped>\n",
       "    .dataframe tbody tr th:only-of-type {\n",
       "        vertical-align: middle;\n",
       "    }\n",
       "\n",
       "    .dataframe tbody tr th {\n",
       "        vertical-align: top;\n",
       "    }\n",
       "\n",
       "    .dataframe thead th {\n",
       "        text-align: right;\n",
       "    }\n",
       "</style>\n",
       "<table border=\"1\" class=\"dataframe\">\n",
       "  <thead>\n",
       "    <tr style=\"text-align: right;\">\n",
       "      <th></th>\n",
       "      <th>W0</th>\n",
       "      <th>v0</th>\n",
       "      <th>y</th>\n",
       "    </tr>\n",
       "  </thead>\n",
       "  <tbody>\n",
       "    <tr>\n",
       "      <th>0</th>\n",
       "      <td>1.194461</td>\n",
       "      <td>True</td>\n",
       "      <td>5.231419</td>\n",
       "    </tr>\n",
       "    <tr>\n",
       "      <th>1</th>\n",
       "      <td>0.630230</td>\n",
       "      <td>False</td>\n",
       "      <td>0.557614</td>\n",
       "    </tr>\n",
       "    <tr>\n",
       "      <th>2</th>\n",
       "      <td>-0.045291</td>\n",
       "      <td>False</td>\n",
       "      <td>-0.049267</td>\n",
       "    </tr>\n",
       "    <tr>\n",
       "      <th>3</th>\n",
       "      <td>0.875779</td>\n",
       "      <td>True</td>\n",
       "      <td>6.906012</td>\n",
       "    </tr>\n",
       "    <tr>\n",
       "      <th>4</th>\n",
       "      <td>0.206598</td>\n",
       "      <td>True</td>\n",
       "      <td>5.509871</td>\n",
       "    </tr>\n",
       "    <tr>\n",
       "      <th>...</th>\n",
       "      <td>...</td>\n",
       "      <td>...</td>\n",
       "      <td>...</td>\n",
       "    </tr>\n",
       "    <tr>\n",
       "      <th>995</th>\n",
       "      <td>0.947178</td>\n",
       "      <td>False</td>\n",
       "      <td>-0.462942</td>\n",
       "    </tr>\n",
       "    <tr>\n",
       "      <th>996</th>\n",
       "      <td>0.724123</td>\n",
       "      <td>False</td>\n",
       "      <td>0.583023</td>\n",
       "    </tr>\n",
       "    <tr>\n",
       "      <th>997</th>\n",
       "      <td>0.172512</td>\n",
       "      <td>True</td>\n",
       "      <td>5.357449</td>\n",
       "    </tr>\n",
       "    <tr>\n",
       "      <th>998</th>\n",
       "      <td>-0.535098</td>\n",
       "      <td>False</td>\n",
       "      <td>-0.621551</td>\n",
       "    </tr>\n",
       "    <tr>\n",
       "      <th>999</th>\n",
       "      <td>2.489982</td>\n",
       "      <td>True</td>\n",
       "      <td>6.301600</td>\n",
       "    </tr>\n",
       "  </tbody>\n",
       "</table>\n",
       "<p>1000 rows × 3 columns</p>\n",
       "</div>"
      ],
      "text/plain": [
       "           W0     v0         y\n",
       "0    1.194461   True  5.231419\n",
       "1    0.630230  False  0.557614\n",
       "2   -0.045291  False -0.049267\n",
       "3    0.875779   True  6.906012\n",
       "4    0.206598   True  5.509871\n",
       "..        ...    ...       ...\n",
       "995  0.947178  False -0.462942\n",
       "996  0.724123  False  0.583023\n",
       "997  0.172512   True  5.357449\n",
       "998 -0.535098  False -0.621551\n",
       "999  2.489982   True  6.301600\n",
       "\n",
       "[1000 rows x 3 columns]"
      ]
     },
     "execution_count": 2,
     "metadata": {},
     "output_type": "execute_result"
    }
   ],
   "source": [
    "data = dowhy.datasets.linear_dataset(beta=5,\n",
    "        num_common_causes=1,\n",
    "        num_instruments = 0,\n",
    "        num_samples=1000,\n",
    "        treatment_is_binary=True)\n",
    "df = data['df']\n",
    "df['y'] = df['y'] + np.random.normal(size=len(df)) # Adding noise to data. Without noise, the variance in Y|X, Z is zero, and mcmc fails.\n",
    "#data['dot_graph'] = 'digraph { v ->y;X0-> v;X0-> y;}'\n",
    "\n",
    "treatment= data[\"treatment_name\"][0]\n",
    "outcome = data[\"outcome_name\"][0]\n",
    "common_cause = data[\"common_causes_names\"][0]\n",
    "df"
   ]
  },
  {
   "cell_type": "code",
   "execution_count": 3,
   "metadata": {
    "execution": {
     "iopub.execute_input": "2022-11-10T23:43:10.386628Z",
     "iopub.status.busy": "2022-11-10T23:43:10.386123Z",
     "iopub.status.idle": "2022-11-10T23:43:10.568273Z",
     "shell.execute_reply": "2022-11-10T23:43:10.567622Z"
    }
   },
   "outputs": [
    {
     "data": {
      "text/plain": [
       "<AxesSubplot: xlabel='v0'>"
      ]
     },
     "execution_count": 3,
     "metadata": {},
     "output_type": "execute_result"
    },
    {
     "data": {
      "image/png": "[encoded data removed]",
      "text/plain": [
       "<Figure size 640x480 with 1 Axes>"
      ]
     },
     "metadata": {},
     "output_type": "display_data"
    }
   ],
   "source": [
    "# data['df'] is just a regular pandas.DataFrame\n",
    "df.causal.do(x=treatment,\n",
    "                     variable_types={treatment: 'b', outcome: 'c', common_cause: 'c'},\n",
    "                     outcome=outcome,\n",
    "                     common_causes=[common_cause],\n",
    "                     proceed_when_unidentifiable=True).groupby(treatment).mean().plot(y=outcome, kind='bar')"
   ]
  },
  {
   "cell_type": "code",
   "execution_count": 4,
   "metadata": {
    "execution": {
     "iopub.execute_input": "2022-11-10T23:43:10.573141Z",
     "iopub.status.busy": "2022-11-10T23:43:10.571886Z",
     "iopub.status.idle": "2022-11-10T23:43:10.716990Z",
     "shell.execute_reply": "2022-11-10T23:43:10.716293Z"
    }
   },
   "outputs": [
    {
     "data": {
      "text/plain": [
       "<AxesSubplot: xlabel='v0'>"
      ]
     },
     "execution_count": 4,
     "metadata": {},
     "output_type": "execute_result"
    },
    {
     "data": {
      "image/png": "[encoded data removed]",
      "text/plain": [
       "<Figure size 640x480 with 1 Axes>"
      ]
     },
     "metadata": {},
     "output_type": "display_data"
    }
   ],
   "source": [
    "df.causal.do(x={treatment: 1}, \n",
    "              variable_types={treatment:'b', outcome: 'c', common_cause: 'c'}, \n",
    "              outcome=outcome,\n",
    "              method='weighting', \n",
    "              common_causes=[common_cause],\n",
    "              proceed_when_unidentifiable=True).groupby(treatment).mean().plot(y=outcome, kind='bar')"
   ]
  },
  {
   "cell_type": "code",
   "execution_count": 5,
   "metadata": {
    "execution": {
     "iopub.execute_input": "2022-11-10T23:43:10.722335Z",
     "iopub.status.busy": "2022-11-10T23:43:10.721031Z",
     "iopub.status.idle": "2022-11-10T23:43:10.759151Z",
     "shell.execute_reply": "2022-11-10T23:43:10.758384Z"
    }
   },
   "outputs": [],
   "source": [
    "cdf_1 = df.causal.do(x={treatment: 1}, \n",
    "              variable_types={treatment: 'b', outcome: 'c', common_cause: 'c'}, \n",
    "              outcome=outcome, \n",
    "              dot_graph=data['dot_graph'],\n",
    "              proceed_when_unidentifiable=True)\n",
    "\n",
    "cdf_0 = df.causal.do(x={treatment: 0}, \n",
    "              variable_types={treatment: 'b', outcome: 'c', common_cause: 'c'}, \n",
    "              outcome=outcome, \n",
    "              dot_graph=data['dot_graph'],\n",
    "              proceed_when_unidentifiable=True)\n"
   ]
  },
  {
   "cell_type": "code",
   "execution_count": 6,
   "metadata": {
    "execution": {
     "iopub.execute_input": "2022-11-10T23:43:10.763017Z",
     "iopub.status.busy": "2022-11-10T23:43:10.762740Z",
     "iopub.status.idle": "2022-11-10T23:43:10.775207Z",
     "shell.execute_reply": "2022-11-10T23:43:10.774506Z"
    },
    "scrolled": true
   },
   "outputs": [
    {
     "data": {
      "text/html": [
       "<div>\n",
       "<style scoped>\n",
       "    .dataframe tbody tr th:only-of-type {\n",
       "        vertical-align: middle;\n",
       "    }\n",
       "\n",
       "    .dataframe tbody tr th {\n",
       "        vertical-align: top;\n",
       "    }\n",
       "\n",
       "    .dataframe thead th {\n",
       "        text-align: right;\n",
       "    }\n",
       "</style>\n",
       "<table border=\"1\" class=\"dataframe\">\n",
       "  <thead>\n",
       "    <tr style=\"text-align: right;\">\n",
       "      <th></th>\n",
       "      <th>W0</th>\n",
       "      <th>v0</th>\n",
       "      <th>y</th>\n",
       "      <th>propensity_score</th>\n",
       "      <th>weight</th>\n",
       "    </tr>\n",
       "  </thead>\n",
       "  <tbody>\n",
       "    <tr>\n",
       "      <th>0</th>\n",
       "      <td>2.187329</td>\n",
       "      <td>False</td>\n",
       "      <td>1.990026</td>\n",
       "      <td>0.223009</td>\n",
       "      <td>4.484129</td>\n",
       "    </tr>\n",
       "    <tr>\n",
       "      <th>1</th>\n",
       "      <td>1.466404</td>\n",
       "      <td>False</td>\n",
       "      <td>1.339850</td>\n",
       "      <td>0.294147</td>\n",
       "      <td>3.399664</td>\n",
       "    </tr>\n",
       "    <tr>\n",
       "      <th>2</th>\n",
       "      <td>-1.335961</td>\n",
       "      <td>False</td>\n",
       "      <td>0.147349</td>\n",
       "      <td>0.639722</td>\n",
       "      <td>1.563179</td>\n",
       "    </tr>\n",
       "    <tr>\n",
       "      <th>3</th>\n",
       "      <td>2.804793</td>\n",
       "      <td>False</td>\n",
       "      <td>1.705954</td>\n",
       "      <td>0.172560</td>\n",
       "      <td>5.795095</td>\n",
       "    </tr>\n",
       "    <tr>\n",
       "      <th>4</th>\n",
       "      <td>2.638258</td>\n",
       "      <td>False</td>\n",
       "      <td>1.294165</td>\n",
       "      <td>0.185208</td>\n",
       "      <td>5.399343</td>\n",
       "    </tr>\n",
       "    <tr>\n",
       "      <th>...</th>\n",
       "      <td>...</td>\n",
       "      <td>...</td>\n",
       "      <td>...</td>\n",
       "      <td>...</td>\n",
       "      <td>...</td>\n",
       "    </tr>\n",
       "    <tr>\n",
       "      <th>995</th>\n",
       "      <td>0.209194</td>\n",
       "      <td>False</td>\n",
       "      <td>-1.972994</td>\n",
       "      <td>0.443973</td>\n",
       "      <td>2.252389</td>\n",
       "    </tr>\n",
       "    <tr>\n",
       "      <th>996</th>\n",
       "      <td>1.188906</td>\n",
       "      <td>False</td>\n",
       "      <td>0.305349</td>\n",
       "      <td>0.324801</td>\n",
       "      <td>3.078812</td>\n",
       "    </tr>\n",
       "    <tr>\n",
       "      <th>997</th>\n",
       "      <td>-1.527157</td>\n",
       "      <td>False</td>\n",
       "      <td>-1.459267</td>\n",
       "      <td>0.662186</td>\n",
       "      <td>1.510149</td>\n",
       "    </tr>\n",
       "    <tr>\n",
       "      <th>998</th>\n",
       "      <td>-0.503434</td>\n",
       "      <td>False</td>\n",
       "      <td>0.326277</td>\n",
       "      <td>0.535825</td>\n",
       "      <td>1.866282</td>\n",
       "    </tr>\n",
       "    <tr>\n",
       "      <th>999</th>\n",
       "      <td>0.104497</td>\n",
       "      <td>False</td>\n",
       "      <td>2.201094</td>\n",
       "      <td>0.457379</td>\n",
       "      <td>2.186372</td>\n",
       "    </tr>\n",
       "  </tbody>\n",
       "</table>\n",
       "<p>1000 rows × 5 columns</p>\n",
       "</div>"
      ],
      "text/plain": [
       "           W0     v0         y  propensity_score    weight\n",
       "0    2.187329  False  1.990026          0.223009  4.484129\n",
       "1    1.466404  False  1.339850          0.294147  3.399664\n",
       "2   -1.335961  False  0.147349          0.639722  1.563179\n",
       "3    2.804793  False  1.705954          0.172560  5.795095\n",
       "4    2.638258  False  1.294165          0.185208  5.399343\n",
       "..        ...    ...       ...               ...       ...\n",
       "995  0.209194  False -1.972994          0.443973  2.252389\n",
       "996  1.188906  False  0.305349          0.324801  3.078812\n",
       "997 -1.527157  False -1.459267          0.662186  1.510149\n",
       "998 -0.503434  False  0.326277          0.535825  1.866282\n",
       "999  0.104497  False  2.201094          0.457379  2.186372\n",
       "\n",
       "[1000 rows x 5 columns]"
      ]
     },
     "execution_count": 6,
     "metadata": {},
     "output_type": "execute_result"
    }
   ],
   "source": [
    "cdf_0"
   ]
  },
  {
   "cell_type": "code",
   "execution_count": 7,
   "metadata": {
    "execution": {
     "iopub.execute_input": "2022-11-10T23:43:10.779167Z",
     "iopub.status.busy": "2022-11-10T23:43:10.778740Z",
     "iopub.status.idle": "2022-11-10T23:43:10.790218Z",
     "shell.execute_reply": "2022-11-10T23:43:10.789637Z"
    }
   },
   "outputs": [
    {
     "data": {
      "text/html": [
       "<div>\n",
       "<style scoped>\n",
       "    .dataframe tbody tr th:only-of-type {\n",
       "        vertical-align: middle;\n",
       "    }\n",
       "\n",
       "    .dataframe tbody tr th {\n",
       "        vertical-align: top;\n",
       "    }\n",
       "\n",
       "    .dataframe thead th {\n",
       "        text-align: right;\n",
       "    }\n",
       "</style>\n",
       "<table border=\"1\" class=\"dataframe\">\n",
       "  <thead>\n",
       "    <tr style=\"text-align: right;\">\n",
       "      <th></th>\n",
       "      <th>W0</th>\n",
       "      <th>v0</th>\n",
       "      <th>y</th>\n",
       "      <th>propensity_score</th>\n",
       "      <th>weight</th>\n",
       "    </tr>\n",
       "  </thead>\n",
       "  <tbody>\n",
       "    <tr>\n",
       "      <th>0</th>\n",
       "      <td>-0.054966</td>\n",
       "      <td>True</td>\n",
       "      <td>4.881615</td>\n",
       "      <td>0.522091</td>\n",
       "      <td>1.915376</td>\n",
       "    </tr>\n",
       "    <tr>\n",
       "      <th>1</th>\n",
       "      <td>0.243468</td>\n",
       "      <td>True</td>\n",
       "      <td>5.172156</td>\n",
       "      <td>0.560399</td>\n",
       "      <td>1.784443</td>\n",
       "    </tr>\n",
       "    <tr>\n",
       "      <th>2</th>\n",
       "      <td>1.712749</td>\n",
       "      <td>True</td>\n",
       "      <td>6.118565</td>\n",
       "      <td>0.731598</td>\n",
       "      <td>1.366870</td>\n",
       "    </tr>\n",
       "    <tr>\n",
       "      <th>3</th>\n",
       "      <td>0.896934</td>\n",
       "      <td>True</td>\n",
       "      <td>6.339926</td>\n",
       "      <td>0.641246</td>\n",
       "      <td>1.559463</td>\n",
       "    </tr>\n",
       "    <tr>\n",
       "      <th>4</th>\n",
       "      <td>0.169593</td>\n",
       "      <td>True</td>\n",
       "      <td>6.711903</td>\n",
       "      <td>0.550965</td>\n",
       "      <td>1.814998</td>\n",
       "    </tr>\n",
       "    <tr>\n",
       "      <th>...</th>\n",
       "      <td>...</td>\n",
       "      <td>...</td>\n",
       "      <td>...</td>\n",
       "      <td>...</td>\n",
       "      <td>...</td>\n",
       "    </tr>\n",
       "    <tr>\n",
       "      <th>995</th>\n",
       "      <td>1.141826</td>\n",
       "      <td>True</td>\n",
       "      <td>5.418417</td>\n",
       "      <td>0.669836</td>\n",
       "      <td>1.492902</td>\n",
       "    </tr>\n",
       "    <tr>\n",
       "      <th>996</th>\n",
       "      <td>-0.797502</td>\n",
       "      <td>True</td>\n",
       "      <td>2.494231</td>\n",
       "      <td>0.426622</td>\n",
       "      <td>2.343996</td>\n",
       "    </tr>\n",
       "    <tr>\n",
       "      <th>997</th>\n",
       "      <td>-0.132905</td>\n",
       "      <td>True</td>\n",
       "      <td>4.387969</td>\n",
       "      <td>0.512024</td>\n",
       "      <td>1.953032</td>\n",
       "    </tr>\n",
       "    <tr>\n",
       "      <th>998</th>\n",
       "      <td>2.072618</td>\n",
       "      <td>True</td>\n",
       "      <td>7.401623</td>\n",
       "      <td>0.766542</td>\n",
       "      <td>1.304561</td>\n",
       "    </tr>\n",
       "    <tr>\n",
       "      <th>999</th>\n",
       "      <td>0.684884</td>\n",
       "      <td>True</td>\n",
       "      <td>5.423395</td>\n",
       "      <td>0.615644</td>\n",
       "      <td>1.624317</td>\n",
       "    </tr>\n",
       "  </tbody>\n",
       "</table>\n",
       "<p>1000 rows × 5 columns</p>\n",
       "</div>"
      ],
      "text/plain": [
       "           W0    v0         y  propensity_score    weight\n",
       "0   -0.054966  True  4.881615          0.522091  1.915376\n",
       "1    0.243468  True  5.172156          0.560399  1.784443\n",
       "2    1.712749  True  6.118565          0.731598  1.366870\n",
       "3    0.896934  True  6.339926          0.641246  1.559463\n",
       "4    0.169593  True  6.711903          0.550965  1.814998\n",
       "..        ...   ...       ...               ...       ...\n",
       "995  1.141826  True  5.418417          0.669836  1.492902\n",
       "996 -0.797502  True  2.494231          0.426622  2.343996\n",
       "997 -0.132905  True  4.387969          0.512024  1.953032\n",
       "998  2.072618  True  7.401623          0.766542  1.304561\n",
       "999  0.684884  True  5.423395          0.615644  1.624317\n",
       "\n",
       "[1000 rows x 5 columns]"
      ]
     },
     "execution_count": 7,
     "metadata": {},
     "output_type": "execute_result"
    }
   ],
   "source": [
    "cdf_1"
   ]
  },
  {
   "cell_type": "markdown",
   "metadata": {},
   "source": [
    "## Comparing the estimate to Linear Regression\n",
    "First, estimating the effect using the causal data frame, and the 95% confidence interval."
   ]
  },
  {
   "cell_type": "code",
   "execution_count": 8,
   "metadata": {
    "execution": {
     "iopub.execute_input": "2022-11-10T23:43:10.794183Z",
     "iopub.status.busy": "2022-11-10T23:43:10.793671Z",
     "iopub.status.idle": "2022-11-10T23:43:10.862341Z",
     "shell.execute_reply": "2022-11-10T23:43:10.861430Z"
    }
   },
   "outputs": [
    {
     "data": {
      "image/png": "[encoded data removed]",
      "text/latex": [
       "$\\displaystyle 5.05549807991453$"
      ],
      "text/plain": [
       "5.055498079914528"
      ]
     },
     "execution_count": 8,
     "metadata": {},
     "output_type": "execute_result"
    }
   ],
   "source": [
    "(cdf_1['y'] - cdf_0['y']).mean()"
   ]
  },
  {
   "cell_type": "code",
   "execution_count": 9,
   "metadata": {
    "execution": {
     "iopub.execute_input": "2022-11-10T23:43:10.866042Z",
     "iopub.status.busy": "2022-11-10T23:43:10.865761Z",
     "iopub.status.idle": "2022-11-10T23:43:10.889848Z",
     "shell.execute_reply": "2022-11-10T23:43:10.889084Z"
    }
   },
   "outputs": [
    {
     "data": {
      "image/png": "[encoded data removed]",
      "text/latex": [
       "$\\displaystyle 0.11812283100073$"
      ],
      "text/plain": [
       "0.11812283100072977"
      ]
     },
     "execution_count": 9,
     "metadata": {},
     "output_type": "execute_result"
    }
   ],
   "source": [
    "1.96*(cdf_1['y'] - cdf_0['y']).std() / np.sqrt(len(df))"
   ]
  },
  {
   "cell_type": "markdown",
   "metadata": {},
   "source": [
    "Comparing to the estimate from OLS."
   ]
  },
  {
   "cell_type": "code",
   "execution_count": 10,
   "metadata": {
    "execution": {
     "iopub.execute_input": "2022-11-10T23:43:10.894248Z",
     "iopub.status.busy": "2022-11-10T23:43:10.893735Z",
     "iopub.status.idle": "2022-11-10T23:43:10.912479Z",
     "shell.execute_reply": "2022-11-10T23:43:10.911702Z"
    }
   },
   "outputs": [
    {
     "data": {
      "text/html": [
       "<table class=\"simpletable\">\n",
       "<caption>OLS Regression Results</caption>\n",
       "<tr>\n",
       "  <th>Dep. Variable:</th>            <td>y</td>        <th>  R-squared (uncentered):</th>      <td>   0.961</td> \n",
       "</tr>\n",
       "<tr>\n",
       "  <th>Model:</th>                   <td>OLS</td>       <th>  Adj. R-squared (uncentered):</th> <td>   0.961</td> \n",
       "</tr>\n",
       "<tr>\n",
       "  <th>Method:</th>             <td>Least Squares</td>  <th>  F-statistic:       </th>          <td>1.231e+04</td>\n",
       "</tr>\n",
       "<tr>\n",
       "  <th>Date:</th>             <td>Thu, 10 Nov 2022</td> <th>  Prob (F-statistic):</th>           <td>  0.00</td>  \n",
       "</tr>\n",
       "<tr>\n",
       "  <th>Time:</th>                 <td>23:43:10</td>     <th>  Log-Likelihood:    </th>          <td> -1384.7</td> \n",
       "</tr>\n",
       "<tr>\n",
       "  <th>No. Observations:</th>      <td>  1000</td>      <th>  AIC:               </th>          <td>   2773.</td> \n",
       "</tr>\n",
       "<tr>\n",
       "  <th>Df Residuals:</th>          <td>   998</td>      <th>  BIC:               </th>          <td>   2783.</td> \n",
       "</tr>\n",
       "<tr>\n",
       "  <th>Df Model:</th>              <td>     2</td>      <th>                     </th>              <td> </td>    \n",
       "</tr>\n",
       "<tr>\n",
       "  <th>Covariance Type:</th>      <td>nonrobust</td>    <th>                     </th>              <td> </td>    \n",
       "</tr>\n",
       "</table>\n",
       "<table class=\"simpletable\">\n",
       "<tr>\n",
       "   <td></td>     <th>coef</th>     <th>std err</th>      <th>t</th>      <th>P>|t|</th>  <th>[0.025</th>    <th>0.975]</th>  \n",
       "</tr>\n",
       "<tr>\n",
       "  <th>x1</th> <td>    0.8747</td> <td>    0.029</td> <td>   30.026</td> <td> 0.000</td> <td>    0.818</td> <td>    0.932</td>\n",
       "</tr>\n",
       "<tr>\n",
       "  <th>x2</th> <td>    5.0545</td> <td>    0.049</td> <td>  103.286</td> <td> 0.000</td> <td>    4.958</td> <td>    5.150</td>\n",
       "</tr>\n",
       "</table>\n",
       "<table class=\"simpletable\">\n",
       "<tr>\n",
       "  <th>Omnibus:</th>       <td> 2.125</td> <th>  Durbin-Watson:     </th> <td>   2.015</td>\n",
       "</tr>\n",
       "<tr>\n",
       "  <th>Prob(Omnibus):</th> <td> 0.346</td> <th>  Jarque-Bera (JB):  </th> <td>   2.152</td>\n",
       "</tr>\n",
       "<tr>\n",
       "  <th>Skew:</th>          <td>-0.083</td> <th>  Prob(JB):          </th> <td>   0.341</td>\n",
       "</tr>\n",
       "<tr>\n",
       "  <th>Kurtosis:</th>      <td> 2.845</td> <th>  Cond. No.          </th> <td>    2.48</td>\n",
       "</tr>\n",
       "</table><br/><br/>Notes:<br/>[1] R² is computed without centering (uncentered) since the model does not contain a constant.<br/>[2] Standard Errors assume that the covariance matrix of the errors is correctly specified."
      ],
      "text/plain": [
       "<class 'statsmodels.iolib.summary.Summary'>\n",
       "\"\"\"\n",
       "                                 OLS Regression Results                                \n",
       "=======================================================================================\n",
       "Dep. Variable:                      y   R-squared (uncentered):                   0.961\n",
       "Model:                            OLS   Adj. R-squared (uncentered):              0.961\n",
       "Method:                 Least Squares   F-statistic:                          1.231e+04\n",
       "Date:                Thu, 10 Nov 2022   Prob (F-statistic):                        0.00\n",
       "Time:                        23:43:10   Log-Likelihood:                         -1384.7\n",
       "No. Observations:                1000   AIC:                                      2773.\n",
       "Df Residuals:                     998   BIC:                                      2783.\n",
       "Df Model:                           2                                                  \n",
       "Covariance Type:            nonrobust                                                  \n",
       "==============================================================================\n",
       "                 coef    std err          t      P>|t|      [0.025      0.975]\n",
       "------------------------------------------------------------------------------\n",
       "x1             0.8747      0.029     30.026      0.000       0.818       0.932\n",
       "x2             5.0545      0.049    103.286      0.000       4.958       5.150\n",
       "==============================================================================\n",
       "Omnibus:                        2.125   Durbin-Watson:                   2.015\n",
       "Prob(Omnibus):                  0.346   Jarque-Bera (JB):                2.152\n",
       "Skew:                          -0.083   Prob(JB):                        0.341\n",
       "Kurtosis:                       2.845   Cond. No.                         2.48\n",
       "==============================================================================\n",
       "\n",
       "Notes:\n",
       "[1] R² is computed without centering (uncentered) since the model does not contain a constant.\n",
       "[2] Standard Errors assume that the covariance matrix of the errors is correctly specified.\n",
       "\"\"\""
      ]
     },
     "execution_count": 10,
     "metadata": {},
     "output_type": "execute_result"
    }
   ],
   "source": [
    "model = OLS(np.asarray(df[outcome]), np.asarray(df[[common_cause, treatment]], dtype=np.float64))\n",
    "result = model.fit()\n",
    "result.summary()"
   ]
  }
 ],
 "metadata": {
  "kernelspec": {
   "display_name": "Python 3",
   "language": "python",
   "name": "python3"
  },
  "language_info": {
   "codemirror_mode": {
    "name": "ipython",
    "version": 3
   },
   "file_extension": ".py",
   "mimetype": "text/x-python",
   "name": "python",
   "nbconvert_exporter": "python",
   "pygments_lexer": "ipython3",
   "version": "3.8.10"
  },
  "toc": {
   "base_numbering": 1,
   "nav_menu": {},
   "number_sections": false,
   "sideBar": true,
   "skip_h1_title": true,
   "title_cell": "Table of Contents",
   "title_sidebar": "Contents",
   "toc_cell": false,
   "toc_position": {},
   "toc_section_display": true,
   "toc_window_display": false
  }
 },
 "nbformat": 4,
 "nbformat_minor": 4
}
