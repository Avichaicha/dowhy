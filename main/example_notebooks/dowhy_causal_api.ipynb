{
 "cells": [
  {
   "cell_type": "markdown",
   "metadata": {},
   "source": [
    "# Demo for the DoWhy causal API\n",
    "We show a simple example of adding a causal extension to any dataframe. "
   ]
  },
  {
   "cell_type": "code",
   "execution_count": 1,
   "metadata": {
    "execution": {
     "iopub.execute_input": "2022-09-02T10:27:45.553944Z",
     "iopub.status.busy": "2022-09-02T10:27:45.553241Z",
     "iopub.status.idle": "2022-09-02T10:27:46.973281Z",
     "shell.execute_reply": "2022-09-02T10:27:46.972169Z"
    }
   },
   "outputs": [],
   "source": [
    "import dowhy.datasets\n",
    "import dowhy.api\n",
    "\n",
    "import numpy as np\n",
    "import pandas as pd\n",
    "\n",
    "from statsmodels.api import OLS"
   ]
  },
  {
   "cell_type": "code",
   "execution_count": 2,
   "metadata": {
    "execution": {
     "iopub.execute_input": "2022-09-02T10:27:46.978597Z",
     "iopub.status.busy": "2022-09-02T10:27:46.977939Z",
     "iopub.status.idle": "2022-09-02T10:27:47.031929Z",
     "shell.execute_reply": "2022-09-02T10:27:47.031040Z"
    }
   },
   "outputs": [
    {
     "data": {
      "text/html": [
       "<div>\n",
       "<style scoped>\n",
       "    .dataframe tbody tr th:only-of-type {\n",
       "        vertical-align: middle;\n",
       "    }\n",
       "\n",
       "    .dataframe tbody tr th {\n",
       "        vertical-align: top;\n",
       "    }\n",
       "\n",
       "    .dataframe thead th {\n",
       "        text-align: right;\n",
       "    }\n",
       "</style>\n",
       "<table border=\"1\" class=\"dataframe\">\n",
       "  <thead>\n",
       "    <tr style=\"text-align: right;\">\n",
       "      <th></th>\n",
       "      <th>W0</th>\n",
       "      <th>v0</th>\n",
       "      <th>y</th>\n",
       "    </tr>\n",
       "  </thead>\n",
       "  <tbody>\n",
       "    <tr>\n",
       "      <th>0</th>\n",
       "      <td>-0.509971</td>\n",
       "      <td>True</td>\n",
       "      <td>5.106935</td>\n",
       "    </tr>\n",
       "    <tr>\n",
       "      <th>1</th>\n",
       "      <td>-2.279580</td>\n",
       "      <td>False</td>\n",
       "      <td>-7.656264</td>\n",
       "    </tr>\n",
       "    <tr>\n",
       "      <th>2</th>\n",
       "      <td>0.090178</td>\n",
       "      <td>False</td>\n",
       "      <td>1.634287</td>\n",
       "    </tr>\n",
       "    <tr>\n",
       "      <th>3</th>\n",
       "      <td>-1.485591</td>\n",
       "      <td>False</td>\n",
       "      <td>-3.003357</td>\n",
       "    </tr>\n",
       "    <tr>\n",
       "      <th>4</th>\n",
       "      <td>-1.515771</td>\n",
       "      <td>False</td>\n",
       "      <td>-4.279850</td>\n",
       "    </tr>\n",
       "    <tr>\n",
       "      <th>...</th>\n",
       "      <td>...</td>\n",
       "      <td>...</td>\n",
       "      <td>...</td>\n",
       "    </tr>\n",
       "    <tr>\n",
       "      <th>995</th>\n",
       "      <td>-0.505698</td>\n",
       "      <td>False</td>\n",
       "      <td>-2.306869</td>\n",
       "    </tr>\n",
       "    <tr>\n",
       "      <th>996</th>\n",
       "      <td>-1.851319</td>\n",
       "      <td>False</td>\n",
       "      <td>-5.556046</td>\n",
       "    </tr>\n",
       "    <tr>\n",
       "      <th>997</th>\n",
       "      <td>-0.357219</td>\n",
       "      <td>True</td>\n",
       "      <td>4.697552</td>\n",
       "    </tr>\n",
       "    <tr>\n",
       "      <th>998</th>\n",
       "      <td>0.093507</td>\n",
       "      <td>True</td>\n",
       "      <td>5.261350</td>\n",
       "    </tr>\n",
       "    <tr>\n",
       "      <th>999</th>\n",
       "      <td>-0.147265</td>\n",
       "      <td>False</td>\n",
       "      <td>-0.609597</td>\n",
       "    </tr>\n",
       "  </tbody>\n",
       "</table>\n",
       "<p>1000 rows × 3 columns</p>\n",
       "</div>"
      ],
      "text/plain": [
       "           W0     v0         y\n",
       "0   -0.509971   True  5.106935\n",
       "1   -2.279580  False -7.656264\n",
       "2    0.090178  False  1.634287\n",
       "3   -1.485591  False -3.003357\n",
       "4   -1.515771  False -4.279850\n",
       "..        ...    ...       ...\n",
       "995 -0.505698  False -2.306869\n",
       "996 -1.851319  False -5.556046\n",
       "997 -0.357219   True  4.697552\n",
       "998  0.093507   True  5.261350\n",
       "999 -0.147265  False -0.609597\n",
       "\n",
       "[1000 rows x 3 columns]"
      ]
     },
     "execution_count": 2,
     "metadata": {},
     "output_type": "execute_result"
    }
   ],
   "source": [
    "data = dowhy.datasets.linear_dataset(beta=5,\n",
    "        num_common_causes=1,\n",
    "        num_instruments = 0,\n",
    "        num_samples=1000,\n",
    "        treatment_is_binary=True)\n",
    "df = data['df']\n",
    "df['y'] = df['y'] + np.random.normal(size=len(df)) # Adding noise to data. Without noise, the variance in Y|X, Z is zero, and mcmc fails.\n",
    "#data['dot_graph'] = 'digraph { v ->y;X0-> v;X0-> y;}'\n",
    "\n",
    "treatment= data[\"treatment_name\"][0]\n",
    "outcome = data[\"outcome_name\"][0]\n",
    "common_cause = data[\"common_causes_names\"][0]\n",
    "df"
   ]
  },
  {
   "cell_type": "code",
   "execution_count": 3,
   "metadata": {
    "execution": {
     "iopub.execute_input": "2022-09-02T10:27:47.036351Z",
     "iopub.status.busy": "2022-09-02T10:27:47.035874Z",
     "iopub.status.idle": "2022-09-02T10:27:48.110993Z",
     "shell.execute_reply": "2022-09-02T10:27:48.109929Z"
    }
   },
   "outputs": [
    {
     "data": {
      "text/plain": [
       "<AxesSubplot:xlabel='v0'>"
      ]
     },
     "execution_count": 3,
     "metadata": {},
     "output_type": "execute_result"
    },
    {
     "data": {
      "image/png": "[encoded data removed]",
      "text/plain": [
       "<Figure size 640x480 with 1 Axes>"
      ]
     },
     "metadata": {},
     "output_type": "display_data"
    }
   ],
   "source": [
    "# data['df'] is just a regular pandas.DataFrame\n",
    "df.causal.do(x=treatment,\n",
    "                     variable_types={treatment: 'b', outcome: 'c', common_cause: 'c'},\n",
    "                     outcome=outcome,\n",
    "                     common_causes=[common_cause],\n",
    "                     proceed_when_unidentifiable=True).groupby(treatment).mean().plot(y=outcome, kind='bar')"
   ]
  },
  {
   "cell_type": "code",
   "execution_count": 4,
   "metadata": {
    "execution": {
     "iopub.execute_input": "2022-09-02T10:27:48.116474Z",
     "iopub.status.busy": "2022-09-02T10:27:48.115532Z",
     "iopub.status.idle": "2022-09-02T10:27:48.260597Z",
     "shell.execute_reply": "2022-09-02T10:27:48.259897Z"
    }
   },
   "outputs": [
    {
     "data": {
      "text/plain": [
       "<AxesSubplot:xlabel='v0'>"
      ]
     },
     "execution_count": 4,
     "metadata": {},
     "output_type": "execute_result"
    },
    {
     "data": {
      "image/png": "[encoded data removed]",
      "text/plain": [
       "<Figure size 640x480 with 1 Axes>"
      ]
     },
     "metadata": {},
     "output_type": "display_data"
    }
   ],
   "source": [
    "df.causal.do(x={treatment: 1}, \n",
    "              variable_types={treatment:'b', outcome: 'c', common_cause: 'c'}, \n",
    "              outcome=outcome,\n",
    "              method='weighting', \n",
    "              common_causes=[common_cause],\n",
    "              proceed_when_unidentifiable=True).groupby(treatment).mean().plot(y=outcome, kind='bar')"
   ]
  },
  {
   "cell_type": "code",
   "execution_count": 5,
   "metadata": {
    "execution": {
     "iopub.execute_input": "2022-09-02T10:27:48.267570Z",
     "iopub.status.busy": "2022-09-02T10:27:48.266297Z",
     "iopub.status.idle": "2022-09-02T10:27:48.306374Z",
     "shell.execute_reply": "2022-09-02T10:27:48.305543Z"
    }
   },
   "outputs": [],
   "source": [
    "cdf_1 = df.causal.do(x={treatment: 1}, \n",
    "              variable_types={treatment: 'b', outcome: 'c', common_cause: 'c'}, \n",
    "              outcome=outcome, \n",
    "              dot_graph=data['dot_graph'],\n",
    "              proceed_when_unidentifiable=True)\n",
    "\n",
    "cdf_0 = df.causal.do(x={treatment: 0}, \n",
    "              variable_types={treatment: 'b', outcome: 'c', common_cause: 'c'}, \n",
    "              outcome=outcome, \n",
    "              dot_graph=data['dot_graph'],\n",
    "              proceed_when_unidentifiable=True)\n"
   ]
  },
  {
   "cell_type": "code",
   "execution_count": 6,
   "metadata": {
    "execution": {
     "iopub.execute_input": "2022-09-02T10:27:48.310838Z",
     "iopub.status.busy": "2022-09-02T10:27:48.310367Z",
     "iopub.status.idle": "2022-09-02T10:27:48.323913Z",
     "shell.execute_reply": "2022-09-02T10:27:48.323067Z"
    },
    "scrolled": true
   },
   "outputs": [
    {
     "data": {
      "text/html": [
       "<div>\n",
       "<style scoped>\n",
       "    .dataframe tbody tr th:only-of-type {\n",
       "        vertical-align: middle;\n",
       "    }\n",
       "\n",
       "    .dataframe tbody tr th {\n",
       "        vertical-align: top;\n",
       "    }\n",
       "\n",
       "    .dataframe thead th {\n",
       "        text-align: right;\n",
       "    }\n",
       "</style>\n",
       "<table border=\"1\" class=\"dataframe\">\n",
       "  <thead>\n",
       "    <tr style=\"text-align: right;\">\n",
       "      <th></th>\n",
       "      <th>W0</th>\n",
       "      <th>v0</th>\n",
       "      <th>y</th>\n",
       "      <th>propensity_score</th>\n",
       "      <th>weight</th>\n",
       "    </tr>\n",
       "  </thead>\n",
       "  <tbody>\n",
       "    <tr>\n",
       "      <th>0</th>\n",
       "      <td>-3.811132</td>\n",
       "      <td>False</td>\n",
       "      <td>-11.072421</td>\n",
       "      <td>0.963026</td>\n",
       "      <td>1.038393</td>\n",
       "    </tr>\n",
       "    <tr>\n",
       "      <th>1</th>\n",
       "      <td>-0.721071</td>\n",
       "      <td>False</td>\n",
       "      <td>-2.101885</td>\n",
       "      <td>0.663798</td>\n",
       "      <td>1.506482</td>\n",
       "    </tr>\n",
       "    <tr>\n",
       "      <th>2</th>\n",
       "      <td>1.831690</td>\n",
       "      <td>False</td>\n",
       "      <td>4.609552</td>\n",
       "      <td>0.189879</td>\n",
       "      <td>5.266514</td>\n",
       "    </tr>\n",
       "    <tr>\n",
       "      <th>3</th>\n",
       "      <td>-1.680660</td>\n",
       "      <td>False</td>\n",
       "      <td>-5.502894</td>\n",
       "      <td>0.814775</td>\n",
       "      <td>1.227333</td>\n",
       "    </tr>\n",
       "    <tr>\n",
       "      <th>4</th>\n",
       "      <td>-1.769194</td>\n",
       "      <td>False</td>\n",
       "      <td>-6.048841</td>\n",
       "      <td>0.825670</td>\n",
       "      <td>1.211137</td>\n",
       "    </tr>\n",
       "    <tr>\n",
       "      <th>...</th>\n",
       "      <td>...</td>\n",
       "      <td>...</td>\n",
       "      <td>...</td>\n",
       "      <td>...</td>\n",
       "      <td>...</td>\n",
       "    </tr>\n",
       "    <tr>\n",
       "      <th>995</th>\n",
       "      <td>-1.074855</td>\n",
       "      <td>False</td>\n",
       "      <td>-4.944021</td>\n",
       "      <td>0.726236</td>\n",
       "      <td>1.376963</td>\n",
       "    </tr>\n",
       "    <tr>\n",
       "      <th>996</th>\n",
       "      <td>-2.105776</td>\n",
       "      <td>False</td>\n",
       "      <td>-5.790628</td>\n",
       "      <td>0.862502</td>\n",
       "      <td>1.159417</td>\n",
       "    </tr>\n",
       "    <tr>\n",
       "      <th>997</th>\n",
       "      <td>0.631043</td>\n",
       "      <td>False</td>\n",
       "      <td>1.953076</td>\n",
       "      <td>0.389720</td>\n",
       "      <td>2.565942</td>\n",
       "    </tr>\n",
       "    <tr>\n",
       "      <th>998</th>\n",
       "      <td>-2.270395</td>\n",
       "      <td>False</td>\n",
       "      <td>-8.282369</td>\n",
       "      <td>0.878003</td>\n",
       "      <td>1.138948</td>\n",
       "    </tr>\n",
       "    <tr>\n",
       "      <th>999</th>\n",
       "      <td>0.140916</td>\n",
       "      <td>False</td>\n",
       "      <td>0.593989</td>\n",
       "      <td>0.490170</td>\n",
       "      <td>2.040110</td>\n",
       "    </tr>\n",
       "  </tbody>\n",
       "</table>\n",
       "<p>1000 rows × 5 columns</p>\n",
       "</div>"
      ],
      "text/plain": [
       "           W0     v0          y  propensity_score    weight\n",
       "0   -3.811132  False -11.072421          0.963026  1.038393\n",
       "1   -0.721071  False  -2.101885          0.663798  1.506482\n",
       "2    1.831690  False   4.609552          0.189879  5.266514\n",
       "3   -1.680660  False  -5.502894          0.814775  1.227333\n",
       "4   -1.769194  False  -6.048841          0.825670  1.211137\n",
       "..        ...    ...        ...               ...       ...\n",
       "995 -1.074855  False  -4.944021          0.726236  1.376963\n",
       "996 -2.105776  False  -5.790628          0.862502  1.159417\n",
       "997  0.631043  False   1.953076          0.389720  2.565942\n",
       "998 -2.270395  False  -8.282369          0.878003  1.138948\n",
       "999  0.140916  False   0.593989          0.490170  2.040110\n",
       "\n",
       "[1000 rows x 5 columns]"
      ]
     },
     "execution_count": 6,
     "metadata": {},
     "output_type": "execute_result"
    }
   ],
   "source": [
    "cdf_0"
   ]
  },
  {
   "cell_type": "code",
   "execution_count": 7,
   "metadata": {
    "execution": {
     "iopub.execute_input": "2022-09-02T10:27:48.327748Z",
     "iopub.status.busy": "2022-09-02T10:27:48.327043Z",
     "iopub.status.idle": "2022-09-02T10:27:48.340957Z",
     "shell.execute_reply": "2022-09-02T10:27:48.340299Z"
    }
   },
   "outputs": [
    {
     "data": {
      "text/html": [
       "<div>\n",
       "<style scoped>\n",
       "    .dataframe tbody tr th:only-of-type {\n",
       "        vertical-align: middle;\n",
       "    }\n",
       "\n",
       "    .dataframe tbody tr th {\n",
       "        vertical-align: top;\n",
       "    }\n",
       "\n",
       "    .dataframe thead th {\n",
       "        text-align: right;\n",
       "    }\n",
       "</style>\n",
       "<table border=\"1\" class=\"dataframe\">\n",
       "  <thead>\n",
       "    <tr style=\"text-align: right;\">\n",
       "      <th></th>\n",
       "      <th>W0</th>\n",
       "      <th>v0</th>\n",
       "      <th>y</th>\n",
       "      <th>propensity_score</th>\n",
       "      <th>weight</th>\n",
       "    </tr>\n",
       "  </thead>\n",
       "  <tbody>\n",
       "    <tr>\n",
       "      <th>0</th>\n",
       "      <td>-0.441962</td>\n",
       "      <td>True</td>\n",
       "      <td>4.224387</td>\n",
       "      <td>0.390011</td>\n",
       "      <td>2.564029</td>\n",
       "    </tr>\n",
       "    <tr>\n",
       "      <th>1</th>\n",
       "      <td>-1.254880</td>\n",
       "      <td>True</td>\n",
       "      <td>1.870187</td>\n",
       "      <td>0.244919</td>\n",
       "      <td>4.082975</td>\n",
       "    </tr>\n",
       "    <tr>\n",
       "      <th>2</th>\n",
       "      <td>-0.761666</td>\n",
       "      <td>True</td>\n",
       "      <td>3.070755</td>\n",
       "      <td>0.328681</td>\n",
       "      <td>3.042463</td>\n",
       "    </tr>\n",
       "    <tr>\n",
       "      <th>3</th>\n",
       "      <td>-2.258257</td>\n",
       "      <td>True</td>\n",
       "      <td>-2.094508</td>\n",
       "      <td>0.123086</td>\n",
       "      <td>8.124375</td>\n",
       "    </tr>\n",
       "    <tr>\n",
       "      <th>4</th>\n",
       "      <td>-1.565701</td>\n",
       "      <td>True</td>\n",
       "      <td>0.777448</td>\n",
       "      <td>0.200148</td>\n",
       "      <td>4.996308</td>\n",
       "    </tr>\n",
       "    <tr>\n",
       "      <th>...</th>\n",
       "      <td>...</td>\n",
       "      <td>...</td>\n",
       "      <td>...</td>\n",
       "      <td>...</td>\n",
       "      <td>...</td>\n",
       "    </tr>\n",
       "    <tr>\n",
       "      <th>995</th>\n",
       "      <td>-1.195692</td>\n",
       "      <td>True</td>\n",
       "      <td>0.271072</td>\n",
       "      <td>0.254172</td>\n",
       "      <td>3.934347</td>\n",
       "    </tr>\n",
       "    <tr>\n",
       "      <th>996</th>\n",
       "      <td>0.502046</td>\n",
       "      <td>True</td>\n",
       "      <td>6.946538</td>\n",
       "      <td>0.584385</td>\n",
       "      <td>1.711201</td>\n",
       "    </tr>\n",
       "    <tr>\n",
       "      <th>997</th>\n",
       "      <td>-2.052953</td>\n",
       "      <td>True</td>\n",
       "      <td>-1.339868</td>\n",
       "      <td>0.142812</td>\n",
       "      <td>7.002236</td>\n",
       "    </tr>\n",
       "    <tr>\n",
       "      <th>998</th>\n",
       "      <td>-1.348410</td>\n",
       "      <td>True</td>\n",
       "      <td>1.496327</td>\n",
       "      <td>0.230769</td>\n",
       "      <td>4.333340</td>\n",
       "    </tr>\n",
       "    <tr>\n",
       "      <th>999</th>\n",
       "      <td>-1.595718</td>\n",
       "      <td>True</td>\n",
       "      <td>0.974004</td>\n",
       "      <td>0.196166</td>\n",
       "      <td>5.097714</td>\n",
       "    </tr>\n",
       "  </tbody>\n",
       "</table>\n",
       "<p>1000 rows × 5 columns</p>\n",
       "</div>"
      ],
      "text/plain": [
       "           W0    v0         y  propensity_score    weight\n",
       "0   -0.441962  True  4.224387          0.390011  2.564029\n",
       "1   -1.254880  True  1.870187          0.244919  4.082975\n",
       "2   -0.761666  True  3.070755          0.328681  3.042463\n",
       "3   -2.258257  True -2.094508          0.123086  8.124375\n",
       "4   -1.565701  True  0.777448          0.200148  4.996308\n",
       "..        ...   ...       ...               ...       ...\n",
       "995 -1.195692  True  0.271072          0.254172  3.934347\n",
       "996  0.502046  True  6.946538          0.584385  1.711201\n",
       "997 -2.052953  True -1.339868          0.142812  7.002236\n",
       "998 -1.348410  True  1.496327          0.230769  4.333340\n",
       "999 -1.595718  True  0.974004          0.196166  5.097714\n",
       "\n",
       "[1000 rows x 5 columns]"
      ]
     },
     "execution_count": 7,
     "metadata": {},
     "output_type": "execute_result"
    }
   ],
   "source": [
    "cdf_1"
   ]
  },
  {
   "cell_type": "markdown",
   "metadata": {},
   "source": [
    "## Comparing the estimate to Linear Regression\n",
    "First, estimating the effect using the causal data frame, and the 95% confidence interval."
   ]
  },
  {
   "cell_type": "code",
   "execution_count": 8,
   "metadata": {
    "execution": {
     "iopub.execute_input": "2022-09-02T10:27:48.344413Z",
     "iopub.status.busy": "2022-09-02T10:27:48.344140Z",
     "iopub.status.idle": "2022-09-02T10:27:48.467363Z",
     "shell.execute_reply": "2022-09-02T10:27:48.466478Z"
    }
   },
   "outputs": [
    {
     "data": {
      "image/png": "[encoded data removed]",
      "text/latex": [
       "$\\displaystyle 5.10264760231324$"
      ],
      "text/plain": [
       "5.102647602313237"
      ]
     },
     "execution_count": 8,
     "metadata": {},
     "output_type": "execute_result"
    }
   ],
   "source": [
    "(cdf_1['y'] - cdf_0['y']).mean()"
   ]
  },
  {
   "cell_type": "code",
   "execution_count": 9,
   "metadata": {
    "execution": {
     "iopub.execute_input": "2022-09-02T10:27:48.471353Z",
     "iopub.status.busy": "2022-09-02T10:27:48.470839Z",
     "iopub.status.idle": "2022-09-02T10:27:48.502808Z",
     "shell.execute_reply": "2022-09-02T10:27:48.501971Z"
    }
   },
   "outputs": [
    {
     "data": {
      "image/png": "[encoded data removed]",
      "text/latex": [
       "$\\displaystyle 0.250859133746007$"
      ],
      "text/plain": [
       "0.2508591337460074"
      ]
     },
     "execution_count": 9,
     "metadata": {},
     "output_type": "execute_result"
    }
   ],
   "source": [
    "1.96*(cdf_1['y'] - cdf_0['y']).std() / np.sqrt(len(df))"
   ]
  },
  {
   "cell_type": "markdown",
   "metadata": {},
   "source": [
    "Comparing to the estimate from OLS."
   ]
  },
  {
   "cell_type": "code",
   "execution_count": 10,
   "metadata": {
    "execution": {
     "iopub.execute_input": "2022-09-02T10:27:48.507095Z",
     "iopub.status.busy": "2022-09-02T10:27:48.506541Z",
     "iopub.status.idle": "2022-09-02T10:27:48.528395Z",
     "shell.execute_reply": "2022-09-02T10:27:48.527620Z"
    }
   },
   "outputs": [
    {
     "data": {
      "text/html": [
       "<table class=\"simpletable\">\n",
       "<caption>OLS Regression Results</caption>\n",
       "<tr>\n",
       "  <th>Dep. Variable:</th>            <td>y</td>        <th>  R-squared (uncentered):</th>      <td>   0.946</td>\n",
       "</tr>\n",
       "<tr>\n",
       "  <th>Model:</th>                   <td>OLS</td>       <th>  Adj. R-squared (uncentered):</th> <td>   0.946</td>\n",
       "</tr>\n",
       "<tr>\n",
       "  <th>Method:</th>             <td>Least Squares</td>  <th>  F-statistic:       </th>          <td>   8741.</td>\n",
       "</tr>\n",
       "<tr>\n",
       "  <th>Date:</th>             <td>Fri, 02 Sep 2022</td> <th>  Prob (F-statistic):</th>           <td>  0.00</td> \n",
       "</tr>\n",
       "<tr>\n",
       "  <th>Time:</th>                 <td>10:27:48</td>     <th>  Log-Likelihood:    </th>          <td> -1430.2</td>\n",
       "</tr>\n",
       "<tr>\n",
       "  <th>No. Observations:</th>      <td>  1000</td>      <th>  AIC:               </th>          <td>   2864.</td>\n",
       "</tr>\n",
       "<tr>\n",
       "  <th>Df Residuals:</th>          <td>   998</td>      <th>  BIC:               </th>          <td>   2874.</td>\n",
       "</tr>\n",
       "<tr>\n",
       "  <th>Df Model:</th>              <td>     2</td>      <th>                     </th>              <td> </td>   \n",
       "</tr>\n",
       "<tr>\n",
       "  <th>Covariance Type:</th>      <td>nonrobust</td>    <th>                     </th>              <td> </td>   \n",
       "</tr>\n",
       "</table>\n",
       "<table class=\"simpletable\">\n",
       "<tr>\n",
       "   <td></td>     <th>coef</th>     <th>std err</th>      <th>t</th>      <th>P>|t|</th>  <th>[0.025</th>    <th>0.975]</th>  \n",
       "</tr>\n",
       "<tr>\n",
       "  <th>x1</th> <td>    2.8690</td> <td>    0.027</td> <td>  105.914</td> <td> 0.000</td> <td>    2.816</td> <td>    2.922</td>\n",
       "</tr>\n",
       "<tr>\n",
       "  <th>x2</th> <td>    5.0125</td> <td>    0.054</td> <td>   92.704</td> <td> 0.000</td> <td>    4.906</td> <td>    5.119</td>\n",
       "</tr>\n",
       "</table>\n",
       "<table class=\"simpletable\">\n",
       "<tr>\n",
       "  <th>Omnibus:</th>       <td> 0.964</td> <th>  Durbin-Watson:     </th> <td>   2.013</td>\n",
       "</tr>\n",
       "<tr>\n",
       "  <th>Prob(Omnibus):</th> <td> 0.617</td> <th>  Jarque-Bera (JB):  </th> <td>   0.832</td>\n",
       "</tr>\n",
       "<tr>\n",
       "  <th>Skew:</th>          <td>-0.040</td> <th>  Prob(JB):          </th> <td>   0.660</td>\n",
       "</tr>\n",
       "<tr>\n",
       "  <th>Kurtosis:</th>      <td> 3.117</td> <th>  Cond. No.          </th> <td>    2.03</td>\n",
       "</tr>\n",
       "</table><br/><br/>Notes:<br/>[1] R² is computed without centering (uncentered) since the model does not contain a constant.<br/>[2] Standard Errors assume that the covariance matrix of the errors is correctly specified."
      ],
      "text/plain": [
       "<class 'statsmodels.iolib.summary.Summary'>\n",
       "\"\"\"\n",
       "                                 OLS Regression Results                                \n",
       "=======================================================================================\n",
       "Dep. Variable:                      y   R-squared (uncentered):                   0.946\n",
       "Model:                            OLS   Adj. R-squared (uncentered):              0.946\n",
       "Method:                 Least Squares   F-statistic:                              8741.\n",
       "Date:                Fri, 02 Sep 2022   Prob (F-statistic):                        0.00\n",
       "Time:                        10:27:48   Log-Likelihood:                         -1430.2\n",
       "No. Observations:                1000   AIC:                                      2864.\n",
       "Df Residuals:                     998   BIC:                                      2874.\n",
       "Df Model:                           2                                                  \n",
       "Covariance Type:            nonrobust                                                  \n",
       "==============================================================================\n",
       "                 coef    std err          t      P>|t|      [0.025      0.975]\n",
       "------------------------------------------------------------------------------\n",
       "x1             2.8690      0.027    105.914      0.000       2.816       2.922\n",
       "x2             5.0125      0.054     92.704      0.000       4.906       5.119\n",
       "==============================================================================\n",
       "Omnibus:                        0.964   Durbin-Watson:                   2.013\n",
       "Prob(Omnibus):                  0.617   Jarque-Bera (JB):                0.832\n",
       "Skew:                          -0.040   Prob(JB):                        0.660\n",
       "Kurtosis:                       3.117   Cond. No.                         2.03\n",
       "==============================================================================\n",
       "\n",
       "Notes:\n",
       "[1] R² is computed without centering (uncentered) since the model does not contain a constant.\n",
       "[2] Standard Errors assume that the covariance matrix of the errors is correctly specified.\n",
       "\"\"\""
      ]
     },
     "execution_count": 10,
     "metadata": {},
     "output_type": "execute_result"
    }
   ],
   "source": [
    "model = OLS(np.asarray(df[outcome]), np.asarray(df[[common_cause, treatment]], dtype=np.float64))\n",
    "result = model.fit()\n",
    "result.summary()"
   ]
  }
 ],
 "metadata": {
  "kernelspec": {
   "display_name": "Python 3",
   "language": "python",
   "name": "python3"
  },
  "language_info": {
   "codemirror_mode": {
    "name": "ipython",
    "version": 3
   },
   "file_extension": ".py",
   "mimetype": "text/x-python",
   "name": "python",
   "nbconvert_exporter": "python",
   "pygments_lexer": "ipython3",
   "version": "3.8.10"
  },
  "toc": {
   "base_numbering": 1,
   "nav_menu": {},
   "number_sections": false,
   "sideBar": true,
   "skip_h1_title": true,
   "title_cell": "Table of Contents",
   "title_sidebar": "Contents",
   "toc_cell": false,
   "toc_position": {},
   "toc_section_display": true,
   "toc_window_display": false
  }
 },
 "nbformat": 4,
 "nbformat_minor": 4
}
