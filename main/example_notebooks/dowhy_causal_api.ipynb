{
 "cells": [
  {
   "cell_type": "markdown",
   "metadata": {},
   "source": [
    "# Demo for the DoWhy causal API\n",
    "We show a simple example of adding a causal extension to any dataframe. "
   ]
  },
  {
   "cell_type": "code",
   "execution_count": 1,
   "metadata": {
    "execution": {
     "iopub.execute_input": "2022-08-19T22:31:55.534010Z",
     "iopub.status.busy": "2022-08-19T22:31:55.533698Z",
     "iopub.status.idle": "2022-08-19T22:31:56.742704Z",
     "shell.execute_reply": "2022-08-19T22:31:56.741958Z"
    }
   },
   "outputs": [],
   "source": [
    "import dowhy.datasets\n",
    "import dowhy.api\n",
    "\n",
    "import numpy as np\n",
    "import pandas as pd\n",
    "\n",
    "from statsmodels.api import OLS"
   ]
  },
  {
   "cell_type": "code",
   "execution_count": 2,
   "metadata": {
    "execution": {
     "iopub.execute_input": "2022-08-19T22:31:56.746757Z",
     "iopub.status.busy": "2022-08-19T22:31:56.746166Z",
     "iopub.status.idle": "2022-08-19T22:31:56.790233Z",
     "shell.execute_reply": "2022-08-19T22:31:56.789495Z"
    }
   },
   "outputs": [
    {
     "data": {
      "text/html": [
       "<div>\n",
       "<style scoped>\n",
       "    .dataframe tbody tr th:only-of-type {\n",
       "        vertical-align: middle;\n",
       "    }\n",
       "\n",
       "    .dataframe tbody tr th {\n",
       "        vertical-align: top;\n",
       "    }\n",
       "\n",
       "    .dataframe thead th {\n",
       "        text-align: right;\n",
       "    }\n",
       "</style>\n",
       "<table border=\"1\" class=\"dataframe\">\n",
       "  <thead>\n",
       "    <tr style=\"text-align: right;\">\n",
       "      <th></th>\n",
       "      <th>W0</th>\n",
       "      <th>v0</th>\n",
       "      <th>y</th>\n",
       "    </tr>\n",
       "  </thead>\n",
       "  <tbody>\n",
       "    <tr>\n",
       "      <th>0</th>\n",
       "      <td>1.087236</td>\n",
       "      <td>True</td>\n",
       "      <td>3.289633</td>\n",
       "    </tr>\n",
       "    <tr>\n",
       "      <th>1</th>\n",
       "      <td>1.559715</td>\n",
       "      <td>True</td>\n",
       "      <td>9.004853</td>\n",
       "    </tr>\n",
       "    <tr>\n",
       "      <th>2</th>\n",
       "      <td>-1.404116</td>\n",
       "      <td>False</td>\n",
       "      <td>-0.595819</td>\n",
       "    </tr>\n",
       "    <tr>\n",
       "      <th>3</th>\n",
       "      <td>-1.618095</td>\n",
       "      <td>True</td>\n",
       "      <td>2.805538</td>\n",
       "    </tr>\n",
       "    <tr>\n",
       "      <th>4</th>\n",
       "      <td>0.612480</td>\n",
       "      <td>True</td>\n",
       "      <td>3.862305</td>\n",
       "    </tr>\n",
       "    <tr>\n",
       "      <th>...</th>\n",
       "      <td>...</td>\n",
       "      <td>...</td>\n",
       "      <td>...</td>\n",
       "    </tr>\n",
       "    <tr>\n",
       "      <th>995</th>\n",
       "      <td>-1.018656</td>\n",
       "      <td>False</td>\n",
       "      <td>-1.217888</td>\n",
       "    </tr>\n",
       "    <tr>\n",
       "      <th>996</th>\n",
       "      <td>-1.294135</td>\n",
       "      <td>False</td>\n",
       "      <td>-1.144360</td>\n",
       "    </tr>\n",
       "    <tr>\n",
       "      <th>997</th>\n",
       "      <td>-0.270946</td>\n",
       "      <td>False</td>\n",
       "      <td>-1.367526</td>\n",
       "    </tr>\n",
       "    <tr>\n",
       "      <th>998</th>\n",
       "      <td>0.854117</td>\n",
       "      <td>True</td>\n",
       "      <td>6.127323</td>\n",
       "    </tr>\n",
       "    <tr>\n",
       "      <th>999</th>\n",
       "      <td>-0.355870</td>\n",
       "      <td>False</td>\n",
       "      <td>-0.105926</td>\n",
       "    </tr>\n",
       "  </tbody>\n",
       "</table>\n",
       "<p>1000 rows × 3 columns</p>\n",
       "</div>"
      ],
      "text/plain": [
       "           W0     v0         y\n",
       "0    1.087236   True  3.289633\n",
       "1    1.559715   True  9.004853\n",
       "2   -1.404116  False -0.595819\n",
       "3   -1.618095   True  2.805538\n",
       "4    0.612480   True  3.862305\n",
       "..        ...    ...       ...\n",
       "995 -1.018656  False -1.217888\n",
       "996 -1.294135  False -1.144360\n",
       "997 -0.270946  False -1.367526\n",
       "998  0.854117   True  6.127323\n",
       "999 -0.355870  False -0.105926\n",
       "\n",
       "[1000 rows x 3 columns]"
      ]
     },
     "execution_count": 2,
     "metadata": {},
     "output_type": "execute_result"
    }
   ],
   "source": [
    "data = dowhy.datasets.linear_dataset(beta=5,\n",
    "        num_common_causes=1,\n",
    "        num_instruments = 0,\n",
    "        num_samples=1000,\n",
    "        treatment_is_binary=True)\n",
    "df = data['df']\n",
    "df['y'] = df['y'] + np.random.normal(size=len(df)) # Adding noise to data. Without noise, the variance in Y|X, Z is zero, and mcmc fails.\n",
    "#data['dot_graph'] = 'digraph { v ->y;X0-> v;X0-> y;}'\n",
    "\n",
    "treatment= data[\"treatment_name\"][0]\n",
    "outcome = data[\"outcome_name\"][0]\n",
    "common_cause = data[\"common_causes_names\"][0]\n",
    "df"
   ]
  },
  {
   "cell_type": "code",
   "execution_count": 3,
   "metadata": {
    "execution": {
     "iopub.execute_input": "2022-08-19T22:31:56.793782Z",
     "iopub.status.busy": "2022-08-19T22:31:56.793204Z",
     "iopub.status.idle": "2022-08-19T22:31:57.571152Z",
     "shell.execute_reply": "2022-08-19T22:31:57.570562Z"
    }
   },
   "outputs": [
    {
     "data": {
      "text/plain": [
       "<AxesSubplot:xlabel='v0'>"
      ]
     },
     "execution_count": 3,
     "metadata": {},
     "output_type": "execute_result"
    },
    {
     "data": {
      "image/png": "[encoded data removed]",
      "text/plain": [
       "<Figure size 640x480 with 1 Axes>"
      ]
     },
     "metadata": {},
     "output_type": "display_data"
    }
   ],
   "source": [
    "# data['df'] is just a regular pandas.DataFrame\n",
    "df.causal.do(x=treatment,\n",
    "                     variable_types={treatment: 'b', outcome: 'c', common_cause: 'c'},\n",
    "                     outcome=outcome,\n",
    "                     common_causes=[common_cause],\n",
    "                     proceed_when_unidentifiable=True).groupby(treatment).mean().plot(y=outcome, kind='bar')"
   ]
  },
  {
   "cell_type": "code",
   "execution_count": 4,
   "metadata": {
    "execution": {
     "iopub.execute_input": "2022-08-19T22:31:57.575624Z",
     "iopub.status.busy": "2022-08-19T22:31:57.574162Z",
     "iopub.status.idle": "2022-08-19T22:31:57.680469Z",
     "shell.execute_reply": "2022-08-19T22:31:57.679897Z"
    }
   },
   "outputs": [
    {
     "data": {
      "text/plain": [
       "<AxesSubplot:xlabel='v0'>"
      ]
     },
     "execution_count": 4,
     "metadata": {},
     "output_type": "execute_result"
    },
    {
     "data": {
      "image/png": "[encoded data removed]",
      "text/plain": [
       "<Figure size 640x480 with 1 Axes>"
      ]
     },
     "metadata": {},
     "output_type": "display_data"
    }
   ],
   "source": [
    "df.causal.do(x={treatment: 1}, \n",
    "              variable_types={treatment:'b', outcome: 'c', common_cause: 'c'}, \n",
    "              outcome=outcome,\n",
    "              method='weighting', \n",
    "              common_causes=[common_cause],\n",
    "              proceed_when_unidentifiable=True).groupby(treatment).mean().plot(y=outcome, kind='bar')"
   ]
  },
  {
   "cell_type": "code",
   "execution_count": 5,
   "metadata": {
    "execution": {
     "iopub.execute_input": "2022-08-19T22:31:57.684738Z",
     "iopub.status.busy": "2022-08-19T22:31:57.683706Z",
     "iopub.status.idle": "2022-08-19T22:31:57.716173Z",
     "shell.execute_reply": "2022-08-19T22:31:57.715558Z"
    }
   },
   "outputs": [],
   "source": [
    "cdf_1 = df.causal.do(x={treatment: 1}, \n",
    "              variable_types={treatment: 'b', outcome: 'c', common_cause: 'c'}, \n",
    "              outcome=outcome, \n",
    "              dot_graph=data['dot_graph'],\n",
    "              proceed_when_unidentifiable=True)\n",
    "\n",
    "cdf_0 = df.causal.do(x={treatment: 0}, \n",
    "              variable_types={treatment: 'b', outcome: 'c', common_cause: 'c'}, \n",
    "              outcome=outcome, \n",
    "              dot_graph=data['dot_graph'],\n",
    "              proceed_when_unidentifiable=True)\n"
   ]
  },
  {
   "cell_type": "code",
   "execution_count": 6,
   "metadata": {
    "execution": {
     "iopub.execute_input": "2022-08-19T22:31:57.719360Z",
     "iopub.status.busy": "2022-08-19T22:31:57.718973Z",
     "iopub.status.idle": "2022-08-19T22:31:57.730632Z",
     "shell.execute_reply": "2022-08-19T22:31:57.729949Z"
    },
    "scrolled": true
   },
   "outputs": [
    {
     "data": {
      "text/html": [
       "<div>\n",
       "<style scoped>\n",
       "    .dataframe tbody tr th:only-of-type {\n",
       "        vertical-align: middle;\n",
       "    }\n",
       "\n",
       "    .dataframe tbody tr th {\n",
       "        vertical-align: top;\n",
       "    }\n",
       "\n",
       "    .dataframe thead th {\n",
       "        text-align: right;\n",
       "    }\n",
       "</style>\n",
       "<table border=\"1\" class=\"dataframe\">\n",
       "  <thead>\n",
       "    <tr style=\"text-align: right;\">\n",
       "      <th></th>\n",
       "      <th>W0</th>\n",
       "      <th>v0</th>\n",
       "      <th>y</th>\n",
       "      <th>propensity_score</th>\n",
       "      <th>weight</th>\n",
       "    </tr>\n",
       "  </thead>\n",
       "  <tbody>\n",
       "    <tr>\n",
       "      <th>0</th>\n",
       "      <td>-1.661607</td>\n",
       "      <td>False</td>\n",
       "      <td>-1.480154</td>\n",
       "      <td>0.929650</td>\n",
       "      <td>1.075674</td>\n",
       "    </tr>\n",
       "    <tr>\n",
       "      <th>1</th>\n",
       "      <td>0.243404</td>\n",
       "      <td>False</td>\n",
       "      <td>0.586330</td>\n",
       "      <td>0.411918</td>\n",
       "      <td>2.427669</td>\n",
       "    </tr>\n",
       "    <tr>\n",
       "      <th>2</th>\n",
       "      <td>-0.512787</td>\n",
       "      <td>False</td>\n",
       "      <td>2.843137</td>\n",
       "      <td>0.692096</td>\n",
       "      <td>1.444886</td>\n",
       "    </tr>\n",
       "    <tr>\n",
       "      <th>3</th>\n",
       "      <td>0.034950</td>\n",
       "      <td>False</td>\n",
       "      <td>-0.344375</td>\n",
       "      <td>0.491345</td>\n",
       "      <td>2.035231</td>\n",
       "    </tr>\n",
       "    <tr>\n",
       "      <th>4</th>\n",
       "      <td>-1.609934</td>\n",
       "      <td>False</td>\n",
       "      <td>-2.852651</td>\n",
       "      <td>0.924257</td>\n",
       "      <td>1.081950</td>\n",
       "    </tr>\n",
       "    <tr>\n",
       "      <th>...</th>\n",
       "      <td>...</td>\n",
       "      <td>...</td>\n",
       "      <td>...</td>\n",
       "      <td>...</td>\n",
       "      <td>...</td>\n",
       "    </tr>\n",
       "    <tr>\n",
       "      <th>995</th>\n",
       "      <td>-0.252528</td>\n",
       "      <td>False</td>\n",
       "      <td>-0.495122</td>\n",
       "      <td>0.600762</td>\n",
       "      <td>1.664552</td>\n",
       "    </tr>\n",
       "    <tr>\n",
       "      <th>996</th>\n",
       "      <td>0.049268</td>\n",
       "      <td>False</td>\n",
       "      <td>-0.303527</td>\n",
       "      <td>0.485828</td>\n",
       "      <td>2.058340</td>\n",
       "    </tr>\n",
       "    <tr>\n",
       "      <th>997</th>\n",
       "      <td>0.849337</td>\n",
       "      <td>False</td>\n",
       "      <td>0.213610</td>\n",
       "      <td>0.215795</td>\n",
       "      <td>4.634022</td>\n",
       "    </tr>\n",
       "    <tr>\n",
       "      <th>998</th>\n",
       "      <td>-1.018656</td>\n",
       "      <td>False</td>\n",
       "      <td>-1.217888</td>\n",
       "      <td>0.830608</td>\n",
       "      <td>1.203937</td>\n",
       "    </tr>\n",
       "    <tr>\n",
       "      <th>999</th>\n",
       "      <td>-0.872121</td>\n",
       "      <td>False</td>\n",
       "      <td>0.784707</td>\n",
       "      <td>0.796409</td>\n",
       "      <td>1.255636</td>\n",
       "    </tr>\n",
       "  </tbody>\n",
       "</table>\n",
       "<p>1000 rows × 5 columns</p>\n",
       "</div>"
      ],
      "text/plain": [
       "           W0     v0         y  propensity_score    weight\n",
       "0   -1.661607  False -1.480154          0.929650  1.075674\n",
       "1    0.243404  False  0.586330          0.411918  2.427669\n",
       "2   -0.512787  False  2.843137          0.692096  1.444886\n",
       "3    0.034950  False -0.344375          0.491345  2.035231\n",
       "4   -1.609934  False -2.852651          0.924257  1.081950\n",
       "..        ...    ...       ...               ...       ...\n",
       "995 -0.252528  False -0.495122          0.600762  1.664552\n",
       "996  0.049268  False -0.303527          0.485828  2.058340\n",
       "997  0.849337  False  0.213610          0.215795  4.634022\n",
       "998 -1.018656  False -1.217888          0.830608  1.203937\n",
       "999 -0.872121  False  0.784707          0.796409  1.255636\n",
       "\n",
       "[1000 rows x 5 columns]"
      ]
     },
     "execution_count": 6,
     "metadata": {},
     "output_type": "execute_result"
    }
   ],
   "source": [
    "cdf_0"
   ]
  },
  {
   "cell_type": "code",
   "execution_count": 7,
   "metadata": {
    "execution": {
     "iopub.execute_input": "2022-08-19T22:31:57.733413Z",
     "iopub.status.busy": "2022-08-19T22:31:57.733190Z",
     "iopub.status.idle": "2022-08-19T22:31:57.742980Z",
     "shell.execute_reply": "2022-08-19T22:31:57.742351Z"
    }
   },
   "outputs": [
    {
     "data": {
      "text/html": [
       "<div>\n",
       "<style scoped>\n",
       "    .dataframe tbody tr th:only-of-type {\n",
       "        vertical-align: middle;\n",
       "    }\n",
       "\n",
       "    .dataframe tbody tr th {\n",
       "        vertical-align: top;\n",
       "    }\n",
       "\n",
       "    .dataframe thead th {\n",
       "        text-align: right;\n",
       "    }\n",
       "</style>\n",
       "<table border=\"1\" class=\"dataframe\">\n",
       "  <thead>\n",
       "    <tr style=\"text-align: right;\">\n",
       "      <th></th>\n",
       "      <th>W0</th>\n",
       "      <th>v0</th>\n",
       "      <th>y</th>\n",
       "      <th>propensity_score</th>\n",
       "      <th>weight</th>\n",
       "    </tr>\n",
       "  </thead>\n",
       "  <tbody>\n",
       "    <tr>\n",
       "      <th>0</th>\n",
       "      <td>-1.062857</td>\n",
       "      <td>True</td>\n",
       "      <td>2.804674</td>\n",
       "      <td>0.160017</td>\n",
       "      <td>6.249320</td>\n",
       "    </tr>\n",
       "    <tr>\n",
       "      <th>1</th>\n",
       "      <td>-1.684654</td>\n",
       "      <td>True</td>\n",
       "      <td>4.434849</td>\n",
       "      <td>0.068061</td>\n",
       "      <td>14.692610</td>\n",
       "    </tr>\n",
       "    <tr>\n",
       "      <th>2</th>\n",
       "      <td>-1.975129</td>\n",
       "      <td>True</td>\n",
       "      <td>4.797635</td>\n",
       "      <td>0.044585</td>\n",
       "      <td>22.428988</td>\n",
       "    </tr>\n",
       "    <tr>\n",
       "      <th>3</th>\n",
       "      <td>1.559437</td>\n",
       "      <td>True</td>\n",
       "      <td>5.997041</td>\n",
       "      <td>0.915696</td>\n",
       "      <td>1.092066</td>\n",
       "    </tr>\n",
       "    <tr>\n",
       "      <th>4</th>\n",
       "      <td>-0.259379</td>\n",
       "      <td>True</td>\n",
       "      <td>3.984840</td>\n",
       "      <td>0.396707</td>\n",
       "      <td>2.520753</td>\n",
       "    </tr>\n",
       "    <tr>\n",
       "      <th>...</th>\n",
       "      <td>...</td>\n",
       "      <td>...</td>\n",
       "      <td>...</td>\n",
       "      <td>...</td>\n",
       "      <td>...</td>\n",
       "    </tr>\n",
       "    <tr>\n",
       "      <th>995</th>\n",
       "      <td>0.100659</td>\n",
       "      <td>True</td>\n",
       "      <td>4.413851</td>\n",
       "      <td>0.533933</td>\n",
       "      <td>1.872893</td>\n",
       "    </tr>\n",
       "    <tr>\n",
       "      <th>996</th>\n",
       "      <td>-1.063797</td>\n",
       "      <td>True</td>\n",
       "      <td>2.483901</td>\n",
       "      <td>0.159823</td>\n",
       "      <td>6.256933</td>\n",
       "    </tr>\n",
       "    <tr>\n",
       "      <th>997</th>\n",
       "      <td>0.209994</td>\n",
       "      <td>True</td>\n",
       "      <td>5.298410</td>\n",
       "      <td>0.575549</td>\n",
       "      <td>1.737471</td>\n",
       "    </tr>\n",
       "    <tr>\n",
       "      <th>998</th>\n",
       "      <td>-0.194530</td>\n",
       "      <td>True</td>\n",
       "      <td>4.237870</td>\n",
       "      <td>0.420867</td>\n",
       "      <td>2.376046</td>\n",
       "    </tr>\n",
       "    <tr>\n",
       "      <th>999</th>\n",
       "      <td>-2.340936</td>\n",
       "      <td>True</td>\n",
       "      <td>2.897343</td>\n",
       "      <td>0.025862</td>\n",
       "      <td>38.667125</td>\n",
       "    </tr>\n",
       "  </tbody>\n",
       "</table>\n",
       "<p>1000 rows × 5 columns</p>\n",
       "</div>"
      ],
      "text/plain": [
       "           W0    v0         y  propensity_score     weight\n",
       "0   -1.062857  True  2.804674          0.160017   6.249320\n",
       "1   -1.684654  True  4.434849          0.068061  14.692610\n",
       "2   -1.975129  True  4.797635          0.044585  22.428988\n",
       "3    1.559437  True  5.997041          0.915696   1.092066\n",
       "4   -0.259379  True  3.984840          0.396707   2.520753\n",
       "..        ...   ...       ...               ...        ...\n",
       "995  0.100659  True  4.413851          0.533933   1.872893\n",
       "996 -1.063797  True  2.483901          0.159823   6.256933\n",
       "997  0.209994  True  5.298410          0.575549   1.737471\n",
       "998 -0.194530  True  4.237870          0.420867   2.376046\n",
       "999 -2.340936  True  2.897343          0.025862  38.667125\n",
       "\n",
       "[1000 rows x 5 columns]"
      ]
     },
     "execution_count": 7,
     "metadata": {},
     "output_type": "execute_result"
    }
   ],
   "source": [
    "cdf_1"
   ]
  },
  {
   "cell_type": "markdown",
   "metadata": {},
   "source": [
    "## Comparing the estimate to Linear Regression\n",
    "First, estimating the effect using the causal data frame, and the 95% confidence interval."
   ]
  },
  {
   "cell_type": "code",
   "execution_count": 8,
   "metadata": {
    "execution": {
     "iopub.execute_input": "2022-08-19T22:31:57.745721Z",
     "iopub.status.busy": "2022-08-19T22:31:57.745498Z",
     "iopub.status.idle": "2022-08-19T22:31:57.846294Z",
     "shell.execute_reply": "2022-08-19T22:31:57.845520Z"
    }
   },
   "outputs": [
    {
     "data": {
      "image/png": "[encoded data removed]",
      "text/latex": [
       "$\\displaystyle 4.98205937947859$"
      ],
      "text/plain": [
       "4.982059379478593"
      ]
     },
     "execution_count": 8,
     "metadata": {},
     "output_type": "execute_result"
    }
   ],
   "source": [
    "(cdf_1['y'] - cdf_0['y']).mean()"
   ]
  },
  {
   "cell_type": "code",
   "execution_count": 9,
   "metadata": {
    "execution": {
     "iopub.execute_input": "2022-08-19T22:31:57.850379Z",
     "iopub.status.busy": "2022-08-19T22:31:57.850138Z",
     "iopub.status.idle": "2022-08-19T22:31:57.875000Z",
     "shell.execute_reply": "2022-08-19T22:31:57.874311Z"
    }
   },
   "outputs": [
    {
     "data": {
      "image/png": "[encoded data removed]",
      "text/latex": [
       "$\\displaystyle 0.103865391987427$"
      ],
      "text/plain": [
       "0.10386539198742724"
      ]
     },
     "execution_count": 9,
     "metadata": {},
     "output_type": "execute_result"
    }
   ],
   "source": [
    "1.96*(cdf_1['y'] - cdf_0['y']).std() / np.sqrt(len(df))"
   ]
  },
  {
   "cell_type": "markdown",
   "metadata": {},
   "source": [
    "Comparing to the estimate from OLS."
   ]
  },
  {
   "cell_type": "code",
   "execution_count": 10,
   "metadata": {
    "execution": {
     "iopub.execute_input": "2022-08-19T22:31:57.878226Z",
     "iopub.status.busy": "2022-08-19T22:31:57.877846Z",
     "iopub.status.idle": "2022-08-19T22:31:57.894123Z",
     "shell.execute_reply": "2022-08-19T22:31:57.893422Z"
    }
   },
   "outputs": [
    {
     "data": {
      "text/html": [
       "<table class=\"simpletable\">\n",
       "<caption>OLS Regression Results</caption>\n",
       "<tr>\n",
       "  <th>Dep. Variable:</th>            <td>y</td>        <th>  R-squared (uncentered):</th>      <td>   0.920</td>\n",
       "</tr>\n",
       "<tr>\n",
       "  <th>Model:</th>                   <td>OLS</td>       <th>  Adj. R-squared (uncentered):</th> <td>   0.919</td>\n",
       "</tr>\n",
       "<tr>\n",
       "  <th>Method:</th>             <td>Least Squares</td>  <th>  F-statistic:       </th>          <td>   5708.</td>\n",
       "</tr>\n",
       "<tr>\n",
       "  <th>Date:</th>             <td>Fri, 19 Aug 2022</td> <th>  Prob (F-statistic):</th>           <td>  0.00</td> \n",
       "</tr>\n",
       "<tr>\n",
       "  <th>Time:</th>                 <td>22:31:57</td>     <th>  Log-Likelihood:    </th>          <td> -1369.0</td>\n",
       "</tr>\n",
       "<tr>\n",
       "  <th>No. Observations:</th>      <td>  1000</td>      <th>  AIC:               </th>          <td>   2742.</td>\n",
       "</tr>\n",
       "<tr>\n",
       "  <th>Df Residuals:</th>          <td>   998</td>      <th>  BIC:               </th>          <td>   2752.</td>\n",
       "</tr>\n",
       "<tr>\n",
       "  <th>Df Model:</th>              <td>     2</td>      <th>                     </th>              <td> </td>   \n",
       "</tr>\n",
       "<tr>\n",
       "  <th>Covariance Type:</th>      <td>nonrobust</td>    <th>                     </th>              <td> </td>   \n",
       "</tr>\n",
       "</table>\n",
       "<table class=\"simpletable\">\n",
       "<tr>\n",
       "   <td></td>     <th>coef</th>     <th>std err</th>      <th>t</th>      <th>P>|t|</th>  <th>[0.025</th>    <th>0.975]</th>  \n",
       "</tr>\n",
       "<tr>\n",
       "  <th>x1</th> <td>    0.7335</td> <td>    0.027</td> <td>   27.140</td> <td> 0.000</td> <td>    0.680</td> <td>    0.786</td>\n",
       "</tr>\n",
       "<tr>\n",
       "  <th>x2</th> <td>    4.8993</td> <td>    0.050</td> <td>   98.712</td> <td> 0.000</td> <td>    4.802</td> <td>    4.997</td>\n",
       "</tr>\n",
       "</table>\n",
       "<table class=\"simpletable\">\n",
       "<tr>\n",
       "  <th>Omnibus:</th>       <td> 0.862</td> <th>  Durbin-Watson:     </th> <td>   2.101</td>\n",
       "</tr>\n",
       "<tr>\n",
       "  <th>Prob(Omnibus):</th> <td> 0.650</td> <th>  Jarque-Bera (JB):  </th> <td>   0.842</td>\n",
       "</tr>\n",
       "<tr>\n",
       "  <th>Skew:</th>          <td>-0.071</td> <th>  Prob(JB):          </th> <td>   0.656</td>\n",
       "</tr>\n",
       "<tr>\n",
       "  <th>Kurtosis:</th>      <td> 2.998</td> <th>  Cond. No.          </th> <td>    1.87</td>\n",
       "</tr>\n",
       "</table><br/><br/>Notes:<br/>[1] R² is computed without centering (uncentered) since the model does not contain a constant.<br/>[2] Standard Errors assume that the covariance matrix of the errors is correctly specified."
      ],
      "text/plain": [
       "<class 'statsmodels.iolib.summary.Summary'>\n",
       "\"\"\"\n",
       "                                 OLS Regression Results                                \n",
       "=======================================================================================\n",
       "Dep. Variable:                      y   R-squared (uncentered):                   0.920\n",
       "Model:                            OLS   Adj. R-squared (uncentered):              0.919\n",
       "Method:                 Least Squares   F-statistic:                              5708.\n",
       "Date:                Fri, 19 Aug 2022   Prob (F-statistic):                        0.00\n",
       "Time:                        22:31:57   Log-Likelihood:                         -1369.0\n",
       "No. Observations:                1000   AIC:                                      2742.\n",
       "Df Residuals:                     998   BIC:                                      2752.\n",
       "Df Model:                           2                                                  \n",
       "Covariance Type:            nonrobust                                                  \n",
       "==============================================================================\n",
       "                 coef    std err          t      P>|t|      [0.025      0.975]\n",
       "------------------------------------------------------------------------------\n",
       "x1             0.7335      0.027     27.140      0.000       0.680       0.786\n",
       "x2             4.8993      0.050     98.712      0.000       4.802       4.997\n",
       "==============================================================================\n",
       "Omnibus:                        0.862   Durbin-Watson:                   2.101\n",
       "Prob(Omnibus):                  0.650   Jarque-Bera (JB):                0.842\n",
       "Skew:                          -0.071   Prob(JB):                        0.656\n",
       "Kurtosis:                       2.998   Cond. No.                         1.87\n",
       "==============================================================================\n",
       "\n",
       "Notes:\n",
       "[1] R² is computed without centering (uncentered) since the model does not contain a constant.\n",
       "[2] Standard Errors assume that the covariance matrix of the errors is correctly specified.\n",
       "\"\"\""
      ]
     },
     "execution_count": 10,
     "metadata": {},
     "output_type": "execute_result"
    }
   ],
   "source": [
    "model = OLS(np.asarray(df[outcome]), np.asarray(df[[common_cause, treatment]], dtype=np.float64))\n",
    "result = model.fit()\n",
    "result.summary()"
   ]
  }
 ],
 "metadata": {
  "kernelspec": {
   "display_name": "Python 3",
   "language": "python",
   "name": "python3"
  },
  "language_info": {
   "codemirror_mode": {
    "name": "ipython",
    "version": 3
   },
   "file_extension": ".py",
   "mimetype": "text/x-python",
   "name": "python",
   "nbconvert_exporter": "python",
   "pygments_lexer": "ipython3",
   "version": "3.8.10"
  },
  "toc": {
   "base_numbering": 1,
   "nav_menu": {},
   "number_sections": false,
   "sideBar": true,
   "skip_h1_title": true,
   "title_cell": "Table of Contents",
   "title_sidebar": "Contents",
   "toc_cell": false,
   "toc_position": {},
   "toc_section_display": true,
   "toc_window_display": false
  }
 },
 "nbformat": 4,
 "nbformat_minor": 4
}
