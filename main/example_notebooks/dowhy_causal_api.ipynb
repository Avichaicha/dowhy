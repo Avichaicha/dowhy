{
 "cells": [
  {
   "cell_type": "markdown",
   "metadata": {},
   "source": [
    "# Demo for the DoWhy causal API\n",
    "We show a simple example of adding a causal extension to any dataframe. "
   ]
  },
  {
   "cell_type": "code",
   "execution_count": 1,
   "metadata": {
    "execution": {
     "iopub.execute_input": "2022-11-15T09:16:33.837304Z",
     "iopub.status.busy": "2022-11-15T09:16:33.836693Z",
     "iopub.status.idle": "2022-11-15T09:16:36.240888Z",
     "shell.execute_reply": "2022-11-15T09:16:36.239931Z"
    }
   },
   "outputs": [],
   "source": [
    "import dowhy.datasets\n",
    "import dowhy.api\n",
    "\n",
    "import numpy as np\n",
    "import pandas as pd\n",
    "\n",
    "from statsmodels.api import OLS"
   ]
  },
  {
   "cell_type": "code",
   "execution_count": 2,
   "metadata": {
    "execution": {
     "iopub.execute_input": "2022-11-15T09:16:36.245924Z",
     "iopub.status.busy": "2022-11-15T09:16:36.245308Z",
     "iopub.status.idle": "2022-11-15T09:16:36.315282Z",
     "shell.execute_reply": "2022-11-15T09:16:36.314320Z"
    }
   },
   "outputs": [
    {
     "data": {
      "text/html": [
       "<div>\n",
       "<style scoped>\n",
       "    .dataframe tbody tr th:only-of-type {\n",
       "        vertical-align: middle;\n",
       "    }\n",
       "\n",
       "    .dataframe tbody tr th {\n",
       "        vertical-align: top;\n",
       "    }\n",
       "\n",
       "    .dataframe thead th {\n",
       "        text-align: right;\n",
       "    }\n",
       "</style>\n",
       "<table border=\"1\" class=\"dataframe\">\n",
       "  <thead>\n",
       "    <tr style=\"text-align: right;\">\n",
       "      <th></th>\n",
       "      <th>W0</th>\n",
       "      <th>v0</th>\n",
       "      <th>y</th>\n",
       "    </tr>\n",
       "  </thead>\n",
       "  <tbody>\n",
       "    <tr>\n",
       "      <th>0</th>\n",
       "      <td>-0.102756</td>\n",
       "      <td>False</td>\n",
       "      <td>-0.009900</td>\n",
       "    </tr>\n",
       "    <tr>\n",
       "      <th>1</th>\n",
       "      <td>0.969396</td>\n",
       "      <td>False</td>\n",
       "      <td>-0.357507</td>\n",
       "    </tr>\n",
       "    <tr>\n",
       "      <th>2</th>\n",
       "      <td>-1.320448</td>\n",
       "      <td>False</td>\n",
       "      <td>-1.597761</td>\n",
       "    </tr>\n",
       "    <tr>\n",
       "      <th>3</th>\n",
       "      <td>0.867252</td>\n",
       "      <td>False</td>\n",
       "      <td>2.129515</td>\n",
       "    </tr>\n",
       "    <tr>\n",
       "      <th>4</th>\n",
       "      <td>-0.618217</td>\n",
       "      <td>False</td>\n",
       "      <td>-0.907962</td>\n",
       "    </tr>\n",
       "    <tr>\n",
       "      <th>...</th>\n",
       "      <td>...</td>\n",
       "      <td>...</td>\n",
       "      <td>...</td>\n",
       "    </tr>\n",
       "    <tr>\n",
       "      <th>995</th>\n",
       "      <td>0.540772</td>\n",
       "      <td>True</td>\n",
       "      <td>6.075869</td>\n",
       "    </tr>\n",
       "    <tr>\n",
       "      <th>996</th>\n",
       "      <td>0.669285</td>\n",
       "      <td>True</td>\n",
       "      <td>5.225582</td>\n",
       "    </tr>\n",
       "    <tr>\n",
       "      <th>997</th>\n",
       "      <td>-1.837495</td>\n",
       "      <td>False</td>\n",
       "      <td>-2.277313</td>\n",
       "    </tr>\n",
       "    <tr>\n",
       "      <th>998</th>\n",
       "      <td>-1.433466</td>\n",
       "      <td>False</td>\n",
       "      <td>-0.604839</td>\n",
       "    </tr>\n",
       "    <tr>\n",
       "      <th>999</th>\n",
       "      <td>-0.170915</td>\n",
       "      <td>True</td>\n",
       "      <td>3.167641</td>\n",
       "    </tr>\n",
       "  </tbody>\n",
       "</table>\n",
       "<p>1000 rows × 3 columns</p>\n",
       "</div>"
      ],
      "text/plain": [
       "           W0     v0         y\n",
       "0   -0.102756  False -0.009900\n",
       "1    0.969396  False -0.357507\n",
       "2   -1.320448  False -1.597761\n",
       "3    0.867252  False  2.129515\n",
       "4   -0.618217  False -0.907962\n",
       "..        ...    ...       ...\n",
       "995  0.540772   True  6.075869\n",
       "996  0.669285   True  5.225582\n",
       "997 -1.837495  False -2.277313\n",
       "998 -1.433466  False -0.604839\n",
       "999 -0.170915   True  3.167641\n",
       "\n",
       "[1000 rows x 3 columns]"
      ]
     },
     "execution_count": 2,
     "metadata": {},
     "output_type": "execute_result"
    }
   ],
   "source": [
    "data = dowhy.datasets.linear_dataset(beta=5,\n",
    "        num_common_causes=1,\n",
    "        num_instruments = 0,\n",
    "        num_samples=1000,\n",
    "        treatment_is_binary=True)\n",
    "df = data['df']\n",
    "df['y'] = df['y'] + np.random.normal(size=len(df)) # Adding noise to data. Without noise, the variance in Y|X, Z is zero, and mcmc fails.\n",
    "#data['dot_graph'] = 'digraph { v ->y;X0-> v;X0-> y;}'\n",
    "\n",
    "treatment= data[\"treatment_name\"][0]\n",
    "outcome = data[\"outcome_name\"][0]\n",
    "common_cause = data[\"common_causes_names\"][0]\n",
    "df"
   ]
  },
  {
   "cell_type": "code",
   "execution_count": 3,
   "metadata": {
    "execution": {
     "iopub.execute_input": "2022-11-15T09:16:36.318938Z",
     "iopub.status.busy": "2022-11-15T09:16:36.318640Z",
     "iopub.status.idle": "2022-11-15T09:16:36.521971Z",
     "shell.execute_reply": "2022-11-15T09:16:36.521072Z"
    }
   },
   "outputs": [
    {
     "data": {
      "text/plain": [
       "<AxesSubplot: xlabel='v0'>"
      ]
     },
     "execution_count": 3,
     "metadata": {},
     "output_type": "execute_result"
    },
    {
     "data": {
      "image/png": "[encoded data removed]",
      "text/plain": [
       "<Figure size 640x480 with 1 Axes>"
      ]
     },
     "metadata": {},
     "output_type": "display_data"
    }
   ],
   "source": [
    "# data['df'] is just a regular pandas.DataFrame\n",
    "df.causal.do(x=treatment,\n",
    "                     variable_types={treatment: 'b', outcome: 'c', common_cause: 'c'},\n",
    "                     outcome=outcome,\n",
    "                     common_causes=[common_cause],\n",
    "                     proceed_when_unidentifiable=True).groupby(treatment).mean().plot(y=outcome, kind='bar')"
   ]
  },
  {
   "cell_type": "code",
   "execution_count": 4,
   "metadata": {
    "execution": {
     "iopub.execute_input": "2022-11-15T09:16:36.525647Z",
     "iopub.status.busy": "2022-11-15T09:16:36.525366Z",
     "iopub.status.idle": "2022-11-15T09:16:36.688448Z",
     "shell.execute_reply": "2022-11-15T09:16:36.687489Z"
    }
   },
   "outputs": [
    {
     "data": {
      "text/plain": [
       "<AxesSubplot: xlabel='v0'>"
      ]
     },
     "execution_count": 4,
     "metadata": {},
     "output_type": "execute_result"
    },
    {
     "data": {
      "image/png": "[encoded data removed]",
      "text/plain": [
       "<Figure size 640x480 with 1 Axes>"
      ]
     },
     "metadata": {},
     "output_type": "display_data"
    }
   ],
   "source": [
    "df.causal.do(x={treatment: 1}, \n",
    "              variable_types={treatment:'b', outcome: 'c', common_cause: 'c'}, \n",
    "              outcome=outcome,\n",
    "              method='weighting', \n",
    "              common_causes=[common_cause],\n",
    "              proceed_when_unidentifiable=True).groupby(treatment).mean().plot(y=outcome, kind='bar')"
   ]
  },
  {
   "cell_type": "code",
   "execution_count": 5,
   "metadata": {
    "execution": {
     "iopub.execute_input": "2022-11-15T09:16:36.692287Z",
     "iopub.status.busy": "2022-11-15T09:16:36.691903Z",
     "iopub.status.idle": "2022-11-15T09:16:36.733292Z",
     "shell.execute_reply": "2022-11-15T09:16:36.732292Z"
    }
   },
   "outputs": [],
   "source": [
    "cdf_1 = df.causal.do(x={treatment: 1}, \n",
    "              variable_types={treatment: 'b', outcome: 'c', common_cause: 'c'}, \n",
    "              outcome=outcome, \n",
    "              dot_graph=data['dot_graph'],\n",
    "              proceed_when_unidentifiable=True)\n",
    "\n",
    "cdf_0 = df.causal.do(x={treatment: 0}, \n",
    "              variable_types={treatment: 'b', outcome: 'c', common_cause: 'c'}, \n",
    "              outcome=outcome, \n",
    "              dot_graph=data['dot_graph'],\n",
    "              proceed_when_unidentifiable=True)\n"
   ]
  },
  {
   "cell_type": "code",
   "execution_count": 6,
   "metadata": {
    "execution": {
     "iopub.execute_input": "2022-11-15T09:16:36.739168Z",
     "iopub.status.busy": "2022-11-15T09:16:36.738779Z",
     "iopub.status.idle": "2022-11-15T09:16:36.754792Z",
     "shell.execute_reply": "2022-11-15T09:16:36.753721Z"
    },
    "scrolled": true
   },
   "outputs": [
    {
     "data": {
      "text/html": [
       "<div>\n",
       "<style scoped>\n",
       "    .dataframe tbody tr th:only-of-type {\n",
       "        vertical-align: middle;\n",
       "    }\n",
       "\n",
       "    .dataframe tbody tr th {\n",
       "        vertical-align: top;\n",
       "    }\n",
       "\n",
       "    .dataframe thead th {\n",
       "        text-align: right;\n",
       "    }\n",
       "</style>\n",
       "<table border=\"1\" class=\"dataframe\">\n",
       "  <thead>\n",
       "    <tr style=\"text-align: right;\">\n",
       "      <th></th>\n",
       "      <th>W0</th>\n",
       "      <th>v0</th>\n",
       "      <th>y</th>\n",
       "      <th>propensity_score</th>\n",
       "      <th>weight</th>\n",
       "    </tr>\n",
       "  </thead>\n",
       "  <tbody>\n",
       "    <tr>\n",
       "      <th>0</th>\n",
       "      <td>-0.027603</td>\n",
       "      <td>False</td>\n",
       "      <td>-2.470187</td>\n",
       "      <td>0.539601</td>\n",
       "      <td>1.853222</td>\n",
       "    </tr>\n",
       "    <tr>\n",
       "      <th>1</th>\n",
       "      <td>-0.665134</td>\n",
       "      <td>False</td>\n",
       "      <td>-0.440792</td>\n",
       "      <td>0.771136</td>\n",
       "      <td>1.296788</td>\n",
       "    </tr>\n",
       "    <tr>\n",
       "      <th>2</th>\n",
       "      <td>0.666552</td>\n",
       "      <td>False</td>\n",
       "      <td>1.484390</td>\n",
       "      <td>0.270703</td>\n",
       "      <td>3.694082</td>\n",
       "    </tr>\n",
       "    <tr>\n",
       "      <th>3</th>\n",
       "      <td>-1.129130</td>\n",
       "      <td>False</td>\n",
       "      <td>-2.188294</td>\n",
       "      <td>0.879032</td>\n",
       "      <td>1.137615</td>\n",
       "    </tr>\n",
       "    <tr>\n",
       "      <th>4</th>\n",
       "      <td>1.429656</td>\n",
       "      <td>False</td>\n",
       "      <td>3.073468</td>\n",
       "      <td>0.094914</td>\n",
       "      <td>10.535826</td>\n",
       "    </tr>\n",
       "    <tr>\n",
       "      <th>...</th>\n",
       "      <td>...</td>\n",
       "      <td>...</td>\n",
       "      <td>...</td>\n",
       "      <td>...</td>\n",
       "      <td>...</td>\n",
       "    </tr>\n",
       "    <tr>\n",
       "      <th>995</th>\n",
       "      <td>0.212999</td>\n",
       "      <td>False</td>\n",
       "      <td>0.274853</td>\n",
       "      <td>0.440336</td>\n",
       "      <td>2.270991</td>\n",
       "    </tr>\n",
       "    <tr>\n",
       "      <th>996</th>\n",
       "      <td>1.353336</td>\n",
       "      <td>False</td>\n",
       "      <td>2.310446</td>\n",
       "      <td>0.106344</td>\n",
       "      <td>9.403429</td>\n",
       "    </tr>\n",
       "    <tr>\n",
       "      <th>997</th>\n",
       "      <td>0.746924</td>\n",
       "      <td>False</td>\n",
       "      <td>-0.421500</td>\n",
       "      <td>0.245236</td>\n",
       "      <td>4.077707</td>\n",
       "    </tr>\n",
       "    <tr>\n",
       "      <th>998</th>\n",
       "      <td>0.719841</td>\n",
       "      <td>False</td>\n",
       "      <td>0.548963</td>\n",
       "      <td>0.253634</td>\n",
       "      <td>3.942692</td>\n",
       "    </tr>\n",
       "    <tr>\n",
       "      <th>999</th>\n",
       "      <td>0.073340</td>\n",
       "      <td>False</td>\n",
       "      <td>-1.694771</td>\n",
       "      <td>0.497884</td>\n",
       "      <td>2.008502</td>\n",
       "    </tr>\n",
       "  </tbody>\n",
       "</table>\n",
       "<p>1000 rows × 5 columns</p>\n",
       "</div>"
      ],
      "text/plain": [
       "           W0     v0         y  propensity_score     weight\n",
       "0   -0.027603  False -2.470187          0.539601   1.853222\n",
       "1   -0.665134  False -0.440792          0.771136   1.296788\n",
       "2    0.666552  False  1.484390          0.270703   3.694082\n",
       "3   -1.129130  False -2.188294          0.879032   1.137615\n",
       "4    1.429656  False  3.073468          0.094914  10.535826\n",
       "..        ...    ...       ...               ...        ...\n",
       "995  0.212999  False  0.274853          0.440336   2.270991\n",
       "996  1.353336  False  2.310446          0.106344   9.403429\n",
       "997  0.746924  False -0.421500          0.245236   4.077707\n",
       "998  0.719841  False  0.548963          0.253634   3.942692\n",
       "999  0.073340  False -1.694771          0.497884   2.008502\n",
       "\n",
       "[1000 rows x 5 columns]"
      ]
     },
     "execution_count": 6,
     "metadata": {},
     "output_type": "execute_result"
    }
   ],
   "source": [
    "cdf_0"
   ]
  },
  {
   "cell_type": "code",
   "execution_count": 7,
   "metadata": {
    "execution": {
     "iopub.execute_input": "2022-11-15T09:16:36.759491Z",
     "iopub.status.busy": "2022-11-15T09:16:36.758683Z",
     "iopub.status.idle": "2022-11-15T09:16:36.773765Z",
     "shell.execute_reply": "2022-11-15T09:16:36.772405Z"
    }
   },
   "outputs": [
    {
     "data": {
      "text/html": [
       "<div>\n",
       "<style scoped>\n",
       "    .dataframe tbody tr th:only-of-type {\n",
       "        vertical-align: middle;\n",
       "    }\n",
       "\n",
       "    .dataframe tbody tr th {\n",
       "        vertical-align: top;\n",
       "    }\n",
       "\n",
       "    .dataframe thead th {\n",
       "        text-align: right;\n",
       "    }\n",
       "</style>\n",
       "<table border=\"1\" class=\"dataframe\">\n",
       "  <thead>\n",
       "    <tr style=\"text-align: right;\">\n",
       "      <th></th>\n",
       "      <th>W0</th>\n",
       "      <th>v0</th>\n",
       "      <th>y</th>\n",
       "      <th>propensity_score</th>\n",
       "      <th>weight</th>\n",
       "    </tr>\n",
       "  </thead>\n",
       "  <tbody>\n",
       "    <tr>\n",
       "      <th>0</th>\n",
       "      <td>2.652974</td>\n",
       "      <td>True</td>\n",
       "      <td>8.405848</td>\n",
       "      <td>0.986364</td>\n",
       "      <td>1.013824</td>\n",
       "    </tr>\n",
       "    <tr>\n",
       "      <th>1</th>\n",
       "      <td>-1.431244</td>\n",
       "      <td>True</td>\n",
       "      <td>2.714301</td>\n",
       "      <td>0.077008</td>\n",
       "      <td>12.985693</td>\n",
       "    </tr>\n",
       "    <tr>\n",
       "      <th>2</th>\n",
       "      <td>-1.197635</td>\n",
       "      <td>True</td>\n",
       "      <td>4.322645</td>\n",
       "      <td>0.109412</td>\n",
       "      <td>9.139798</td>\n",
       "    </tr>\n",
       "    <tr>\n",
       "      <th>3</th>\n",
       "      <td>-1.651322</td>\n",
       "      <td>True</td>\n",
       "      <td>2.663955</td>\n",
       "      <td>0.054772</td>\n",
       "      <td>18.257509</td>\n",
       "    </tr>\n",
       "    <tr>\n",
       "      <th>4</th>\n",
       "      <td>1.546261</td>\n",
       "      <td>True</td>\n",
       "      <td>6.410227</td>\n",
       "      <td>0.920430</td>\n",
       "      <td>1.086449</td>\n",
       "    </tr>\n",
       "    <tr>\n",
       "      <th>...</th>\n",
       "      <td>...</td>\n",
       "      <td>...</td>\n",
       "      <td>...</td>\n",
       "      <td>...</td>\n",
       "      <td>...</td>\n",
       "    </tr>\n",
       "    <tr>\n",
       "      <th>995</th>\n",
       "      <td>-0.725673</td>\n",
       "      <td>True</td>\n",
       "      <td>4.786230</td>\n",
       "      <td>0.211649</td>\n",
       "      <td>4.724793</td>\n",
       "    </tr>\n",
       "    <tr>\n",
       "      <th>996</th>\n",
       "      <td>-2.410124</td>\n",
       "      <td>True</td>\n",
       "      <td>0.852103</td>\n",
       "      <td>0.016221</td>\n",
       "      <td>61.650102</td>\n",
       "    </tr>\n",
       "    <tr>\n",
       "      <th>997</th>\n",
       "      <td>1.287301</td>\n",
       "      <td>True</td>\n",
       "      <td>6.243488</td>\n",
       "      <td>0.882804</td>\n",
       "      <td>1.132754</td>\n",
       "    </tr>\n",
       "    <tr>\n",
       "      <th>998</th>\n",
       "      <td>-0.191803</td>\n",
       "      <td>True</td>\n",
       "      <td>6.500951</td>\n",
       "      <td>0.393956</td>\n",
       "      <td>2.538355</td>\n",
       "    </tr>\n",
       "    <tr>\n",
       "      <th>999</th>\n",
       "      <td>0.764323</td>\n",
       "      <td>True</td>\n",
       "      <td>6.711412</td>\n",
       "      <td>0.760059</td>\n",
       "      <td>1.315687</td>\n",
       "    </tr>\n",
       "  </tbody>\n",
       "</table>\n",
       "<p>1000 rows × 5 columns</p>\n",
       "</div>"
      ],
      "text/plain": [
       "           W0    v0         y  propensity_score     weight\n",
       "0    2.652974  True  8.405848          0.986364   1.013824\n",
       "1   -1.431244  True  2.714301          0.077008  12.985693\n",
       "2   -1.197635  True  4.322645          0.109412   9.139798\n",
       "3   -1.651322  True  2.663955          0.054772  18.257509\n",
       "4    1.546261  True  6.410227          0.920430   1.086449\n",
       "..        ...   ...       ...               ...        ...\n",
       "995 -0.725673  True  4.786230          0.211649   4.724793\n",
       "996 -2.410124  True  0.852103          0.016221  61.650102\n",
       "997  1.287301  True  6.243488          0.882804   1.132754\n",
       "998 -0.191803  True  6.500951          0.393956   2.538355\n",
       "999  0.764323  True  6.711412          0.760059   1.315687\n",
       "\n",
       "[1000 rows x 5 columns]"
      ]
     },
     "execution_count": 7,
     "metadata": {},
     "output_type": "execute_result"
    }
   ],
   "source": [
    "cdf_1"
   ]
  },
  {
   "cell_type": "markdown",
   "metadata": {},
   "source": [
    "## Comparing the estimate to Linear Regression\n",
    "First, estimating the effect using the causal data frame, and the 95% confidence interval."
   ]
  },
  {
   "cell_type": "code",
   "execution_count": 8,
   "metadata": {
    "execution": {
     "iopub.execute_input": "2022-11-15T09:16:36.778528Z",
     "iopub.status.busy": "2022-11-15T09:16:36.777714Z",
     "iopub.status.idle": "2022-11-15T09:16:36.849475Z",
     "shell.execute_reply": "2022-11-15T09:16:36.848547Z"
    }
   },
   "outputs": [
    {
     "data": {
      "image/png": "[encoded data removed]",
      "text/latex": [
       "$\\displaystyle 4.89155759517243$"
      ],
      "text/plain": [
       "4.891557595172433"
      ]
     },
     "execution_count": 8,
     "metadata": {},
     "output_type": "execute_result"
    }
   ],
   "source": [
    "(cdf_1['y'] - cdf_0['y']).mean()"
   ]
  },
  {
   "cell_type": "code",
   "execution_count": 9,
   "metadata": {
    "execution": {
     "iopub.execute_input": "2022-11-15T09:16:36.853520Z",
     "iopub.status.busy": "2022-11-15T09:16:36.853190Z",
     "iopub.status.idle": "2022-11-15T09:16:36.878912Z",
     "shell.execute_reply": "2022-11-15T09:16:36.877987Z"
    }
   },
   "outputs": [
    {
     "data": {
      "image/png": "[encoded data removed]",
      "text/latex": [
       "$\\displaystyle 0.151246540044241$"
      ],
      "text/plain": [
       "0.15124654004424107"
      ]
     },
     "execution_count": 9,
     "metadata": {},
     "output_type": "execute_result"
    }
   ],
   "source": [
    "1.96*(cdf_1['y'] - cdf_0['y']).std() / np.sqrt(len(df))"
   ]
  },
  {
   "cell_type": "markdown",
   "metadata": {},
   "source": [
    "Comparing to the estimate from OLS."
   ]
  },
  {
   "cell_type": "code",
   "execution_count": 10,
   "metadata": {
    "execution": {
     "iopub.execute_input": "2022-11-15T09:16:36.883984Z",
     "iopub.status.busy": "2022-11-15T09:16:36.883273Z",
     "iopub.status.idle": "2022-11-15T09:16:36.904149Z",
     "shell.execute_reply": "2022-11-15T09:16:36.903058Z"
    }
   },
   "outputs": [
    {
     "data": {
      "text/html": [
       "<table class=\"simpletable\">\n",
       "<caption>OLS Regression Results</caption>\n",
       "<tr>\n",
       "  <th>Dep. Variable:</th>            <td>y</td>        <th>  R-squared (uncentered):</th>      <td>   0.944</td>\n",
       "</tr>\n",
       "<tr>\n",
       "  <th>Model:</th>                   <td>OLS</td>       <th>  Adj. R-squared (uncentered):</th> <td>   0.944</td>\n",
       "</tr>\n",
       "<tr>\n",
       "  <th>Method:</th>             <td>Least Squares</td>  <th>  F-statistic:       </th>          <td>   8409.</td>\n",
       "</tr>\n",
       "<tr>\n",
       "  <th>Date:</th>             <td>Tue, 15 Nov 2022</td> <th>  Prob (F-statistic):</th>           <td>  0.00</td> \n",
       "</tr>\n",
       "<tr>\n",
       "  <th>Time:</th>                 <td>09:16:36</td>     <th>  Log-Likelihood:    </th>          <td> -1438.6</td>\n",
       "</tr>\n",
       "<tr>\n",
       "  <th>No. Observations:</th>      <td>  1000</td>      <th>  AIC:               </th>          <td>   2881.</td>\n",
       "</tr>\n",
       "<tr>\n",
       "  <th>Df Residuals:</th>          <td>   998</td>      <th>  BIC:               </th>          <td>   2891.</td>\n",
       "</tr>\n",
       "<tr>\n",
       "  <th>Df Model:</th>              <td>     2</td>      <th>                     </th>              <td> </td>   \n",
       "</tr>\n",
       "<tr>\n",
       "  <th>Covariance Type:</th>      <td>nonrobust</td>    <th>                     </th>              <td> </td>   \n",
       "</tr>\n",
       "</table>\n",
       "<table class=\"simpletable\">\n",
       "<tr>\n",
       "   <td></td>     <th>coef</th>     <th>std err</th>      <th>t</th>      <th>P>|t|</th>  <th>[0.025</th>    <th>0.975]</th>  \n",
       "</tr>\n",
       "<tr>\n",
       "  <th>x1</th> <td>    1.2487</td> <td>    0.036</td> <td>   34.235</td> <td> 0.000</td> <td>    1.177</td> <td>    1.320</td>\n",
       "</tr>\n",
       "<tr>\n",
       "  <th>x2</th> <td>    5.0163</td> <td>    0.051</td> <td>   98.863</td> <td> 0.000</td> <td>    4.917</td> <td>    5.116</td>\n",
       "</tr>\n",
       "</table>\n",
       "<table class=\"simpletable\">\n",
       "<tr>\n",
       "  <th>Omnibus:</th>       <td> 1.473</td> <th>  Durbin-Watson:     </th> <td>   2.011</td>\n",
       "</tr>\n",
       "<tr>\n",
       "  <th>Prob(Omnibus):</th> <td> 0.479</td> <th>  Jarque-Bera (JB):  </th> <td>   1.342</td>\n",
       "</tr>\n",
       "<tr>\n",
       "  <th>Skew:</th>          <td> 0.078</td> <th>  Prob(JB):          </th> <td>   0.511</td>\n",
       "</tr>\n",
       "<tr>\n",
       "  <th>Kurtosis:</th>      <td> 3.088</td> <th>  Cond. No.          </th> <td>    1.76</td>\n",
       "</tr>\n",
       "</table><br/><br/>Notes:<br/>[1] R² is computed without centering (uncentered) since the model does not contain a constant.<br/>[2] Standard Errors assume that the covariance matrix of the errors is correctly specified."
      ],
      "text/plain": [
       "<class 'statsmodels.iolib.summary.Summary'>\n",
       "\"\"\"\n",
       "                                 OLS Regression Results                                \n",
       "=======================================================================================\n",
       "Dep. Variable:                      y   R-squared (uncentered):                   0.944\n",
       "Model:                            OLS   Adj. R-squared (uncentered):              0.944\n",
       "Method:                 Least Squares   F-statistic:                              8409.\n",
       "Date:                Tue, 15 Nov 2022   Prob (F-statistic):                        0.00\n",
       "Time:                        09:16:36   Log-Likelihood:                         -1438.6\n",
       "No. Observations:                1000   AIC:                                      2881.\n",
       "Df Residuals:                     998   BIC:                                      2891.\n",
       "Df Model:                           2                                                  \n",
       "Covariance Type:            nonrobust                                                  \n",
       "==============================================================================\n",
       "                 coef    std err          t      P>|t|      [0.025      0.975]\n",
       "------------------------------------------------------------------------------\n",
       "x1             1.2487      0.036     34.235      0.000       1.177       1.320\n",
       "x2             5.0163      0.051     98.863      0.000       4.917       5.116\n",
       "==============================================================================\n",
       "Omnibus:                        1.473   Durbin-Watson:                   2.011\n",
       "Prob(Omnibus):                  0.479   Jarque-Bera (JB):                1.342\n",
       "Skew:                           0.078   Prob(JB):                        0.511\n",
       "Kurtosis:                       3.088   Cond. No.                         1.76\n",
       "==============================================================================\n",
       "\n",
       "Notes:\n",
       "[1] R² is computed without centering (uncentered) since the model does not contain a constant.\n",
       "[2] Standard Errors assume that the covariance matrix of the errors is correctly specified.\n",
       "\"\"\""
      ]
     },
     "execution_count": 10,
     "metadata": {},
     "output_type": "execute_result"
    }
   ],
   "source": [
    "model = OLS(np.asarray(df[outcome]), np.asarray(df[[common_cause, treatment]], dtype=np.float64))\n",
    "result = model.fit()\n",
    "result.summary()"
   ]
  }
 ],
 "metadata": {
  "kernelspec": {
   "display_name": "Python 3",
   "language": "python",
   "name": "python3"
  },
  "language_info": {
   "codemirror_mode": {
    "name": "ipython",
    "version": 3
   },
   "file_extension": ".py",
   "mimetype": "text/x-python",
   "name": "python",
   "nbconvert_exporter": "python",
   "pygments_lexer": "ipython3",
   "version": "3.8.10"
  },
  "toc": {
   "base_numbering": 1,
   "nav_menu": {},
   "number_sections": false,
   "sideBar": true,
   "skip_h1_title": true,
   "title_cell": "Table of Contents",
   "title_sidebar": "Contents",
   "toc_cell": false,
   "toc_position": {},
   "toc_section_display": true,
   "toc_window_display": false
  }
 },
 "nbformat": 4,
 "nbformat_minor": 4
}
