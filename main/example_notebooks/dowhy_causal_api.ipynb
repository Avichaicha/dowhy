{
 "cells": [
  {
   "cell_type": "markdown",
   "metadata": {},
   "source": [
    "# Demo for the DoWhy causal API\n",
    "We show a simple example of adding a causal extension to any dataframe. "
   ]
  },
  {
   "cell_type": "code",
   "execution_count": 1,
   "metadata": {
    "execution": {
     "iopub.execute_input": "2022-12-06T05:58:44.684573Z",
     "iopub.status.busy": "2022-12-06T05:58:44.683986Z",
     "iopub.status.idle": "2022-12-06T05:58:46.505470Z",
     "shell.execute_reply": "2022-12-06T05:58:46.504831Z"
    }
   },
   "outputs": [],
   "source": [
    "import dowhy.datasets\n",
    "import dowhy.api\n",
    "\n",
    "import numpy as np\n",
    "import pandas as pd\n",
    "\n",
    "from statsmodels.api import OLS"
   ]
  },
  {
   "cell_type": "code",
   "execution_count": 2,
   "metadata": {
    "execution": {
     "iopub.execute_input": "2022-12-06T05:58:46.508693Z",
     "iopub.status.busy": "2022-12-06T05:58:46.508337Z",
     "iopub.status.idle": "2022-12-06T05:58:46.552558Z",
     "shell.execute_reply": "2022-12-06T05:58:46.551971Z"
    }
   },
   "outputs": [
    {
     "data": {
      "text/html": [
       "<div>\n",
       "<style scoped>\n",
       "    .dataframe tbody tr th:only-of-type {\n",
       "        vertical-align: middle;\n",
       "    }\n",
       "\n",
       "    .dataframe tbody tr th {\n",
       "        vertical-align: top;\n",
       "    }\n",
       "\n",
       "    .dataframe thead th {\n",
       "        text-align: right;\n",
       "    }\n",
       "</style>\n",
       "<table border=\"1\" class=\"dataframe\">\n",
       "  <thead>\n",
       "    <tr style=\"text-align: right;\">\n",
       "      <th></th>\n",
       "      <th>W0</th>\n",
       "      <th>v0</th>\n",
       "      <th>y</th>\n",
       "    </tr>\n",
       "  </thead>\n",
       "  <tbody>\n",
       "    <tr>\n",
       "      <th>0</th>\n",
       "      <td>-1.427908</td>\n",
       "      <td>False</td>\n",
       "      <td>0.826740</td>\n",
       "    </tr>\n",
       "    <tr>\n",
       "      <th>1</th>\n",
       "      <td>-3.098414</td>\n",
       "      <td>False</td>\n",
       "      <td>0.914818</td>\n",
       "    </tr>\n",
       "    <tr>\n",
       "      <th>2</th>\n",
       "      <td>-1.378408</td>\n",
       "      <td>True</td>\n",
       "      <td>4.901519</td>\n",
       "    </tr>\n",
       "    <tr>\n",
       "      <th>3</th>\n",
       "      <td>-1.801252</td>\n",
       "      <td>False</td>\n",
       "      <td>-0.598690</td>\n",
       "    </tr>\n",
       "    <tr>\n",
       "      <th>4</th>\n",
       "      <td>-2.062157</td>\n",
       "      <td>False</td>\n",
       "      <td>-0.442767</td>\n",
       "    </tr>\n",
       "    <tr>\n",
       "      <th>...</th>\n",
       "      <td>...</td>\n",
       "      <td>...</td>\n",
       "      <td>...</td>\n",
       "    </tr>\n",
       "    <tr>\n",
       "      <th>995</th>\n",
       "      <td>-1.631790</td>\n",
       "      <td>False</td>\n",
       "      <td>-0.308988</td>\n",
       "    </tr>\n",
       "    <tr>\n",
       "      <th>996</th>\n",
       "      <td>-2.333037</td>\n",
       "      <td>False</td>\n",
       "      <td>-0.266096</td>\n",
       "    </tr>\n",
       "    <tr>\n",
       "      <th>997</th>\n",
       "      <td>-0.827494</td>\n",
       "      <td>False</td>\n",
       "      <td>-1.411976</td>\n",
       "    </tr>\n",
       "    <tr>\n",
       "      <th>998</th>\n",
       "      <td>0.427173</td>\n",
       "      <td>False</td>\n",
       "      <td>-0.391237</td>\n",
       "    </tr>\n",
       "    <tr>\n",
       "      <th>999</th>\n",
       "      <td>-1.151330</td>\n",
       "      <td>False</td>\n",
       "      <td>0.157405</td>\n",
       "    </tr>\n",
       "  </tbody>\n",
       "</table>\n",
       "<p>1000 rows × 3 columns</p>\n",
       "</div>"
      ],
      "text/plain": [
       "           W0     v0         y\n",
       "0   -1.427908  False  0.826740\n",
       "1   -3.098414  False  0.914818\n",
       "2   -1.378408   True  4.901519\n",
       "3   -1.801252  False -0.598690\n",
       "4   -2.062157  False -0.442767\n",
       "..        ...    ...       ...\n",
       "995 -1.631790  False -0.308988\n",
       "996 -2.333037  False -0.266096\n",
       "997 -0.827494  False -1.411976\n",
       "998  0.427173  False -0.391237\n",
       "999 -1.151330  False  0.157405\n",
       "\n",
       "[1000 rows x 3 columns]"
      ]
     },
     "execution_count": 2,
     "metadata": {},
     "output_type": "execute_result"
    }
   ],
   "source": [
    "data = dowhy.datasets.linear_dataset(beta=5,\n",
    "        num_common_causes=1,\n",
    "        num_instruments = 0,\n",
    "        num_samples=1000,\n",
    "        treatment_is_binary=True)\n",
    "df = data['df']\n",
    "df['y'] = df['y'] + np.random.normal(size=len(df)) # Adding noise to data. Without noise, the variance in Y|X, Z is zero, and mcmc fails.\n",
    "#data['dot_graph'] = 'digraph { v ->y;X0-> v;X0-> y;}'\n",
    "\n",
    "treatment= data[\"treatment_name\"][0]\n",
    "outcome = data[\"outcome_name\"][0]\n",
    "common_cause = data[\"common_causes_names\"][0]\n",
    "df"
   ]
  },
  {
   "cell_type": "code",
   "execution_count": 3,
   "metadata": {
    "execution": {
     "iopub.execute_input": "2022-12-06T05:58:46.555941Z",
     "iopub.status.busy": "2022-12-06T05:58:46.555419Z",
     "iopub.status.idle": "2022-12-06T05:58:46.704491Z",
     "shell.execute_reply": "2022-12-06T05:58:46.703882Z"
    }
   },
   "outputs": [
    {
     "data": {
      "text/plain": [
       "<AxesSubplot: xlabel='v0'>"
      ]
     },
     "execution_count": 3,
     "metadata": {},
     "output_type": "execute_result"
    },
    {
     "data": {
      "image/png": "[encoded data removed]",
      "text/plain": [
       "<Figure size 640x480 with 1 Axes>"
      ]
     },
     "metadata": {},
     "output_type": "display_data"
    }
   ],
   "source": [
    "# data['df'] is just a regular pandas.DataFrame\n",
    "df.causal.do(x=treatment,\n",
    "                     variable_types={treatment: 'b', outcome: 'c', common_cause: 'c'},\n",
    "                     outcome=outcome,\n",
    "                     common_causes=[common_cause],\n",
    "                     proceed_when_unidentifiable=True).groupby(treatment).mean().plot(y=outcome, kind='bar')"
   ]
  },
  {
   "cell_type": "code",
   "execution_count": 4,
   "metadata": {
    "execution": {
     "iopub.execute_input": "2022-12-06T05:58:46.707203Z",
     "iopub.status.busy": "2022-12-06T05:58:46.706988Z",
     "iopub.status.idle": "2022-12-06T05:58:46.818285Z",
     "shell.execute_reply": "2022-12-06T05:58:46.817767Z"
    }
   },
   "outputs": [
    {
     "data": {
      "text/plain": [
       "<AxesSubplot: xlabel='v0'>"
      ]
     },
     "execution_count": 4,
     "metadata": {},
     "output_type": "execute_result"
    },
    {
     "data": {
      "image/png": "[encoded data removed]",
      "text/plain": [
       "<Figure size 640x480 with 1 Axes>"
      ]
     },
     "metadata": {},
     "output_type": "display_data"
    }
   ],
   "source": [
    "df.causal.do(x={treatment: 1}, \n",
    "              variable_types={treatment:'b', outcome: 'c', common_cause: 'c'}, \n",
    "              outcome=outcome,\n",
    "              method='weighting', \n",
    "              common_causes=[common_cause],\n",
    "              proceed_when_unidentifiable=True).groupby(treatment).mean().plot(y=outcome, kind='bar')"
   ]
  },
  {
   "cell_type": "code",
   "execution_count": 5,
   "metadata": {
    "execution": {
     "iopub.execute_input": "2022-12-06T05:58:46.821281Z",
     "iopub.status.busy": "2022-12-06T05:58:46.820758Z",
     "iopub.status.idle": "2022-12-06T05:58:46.851560Z",
     "shell.execute_reply": "2022-12-06T05:58:46.851013Z"
    }
   },
   "outputs": [],
   "source": [
    "cdf_1 = df.causal.do(x={treatment: 1}, \n",
    "              variable_types={treatment: 'b', outcome: 'c', common_cause: 'c'}, \n",
    "              outcome=outcome, \n",
    "              dot_graph=data['dot_graph'],\n",
    "              proceed_when_unidentifiable=True)\n",
    "\n",
    "cdf_0 = df.causal.do(x={treatment: 0}, \n",
    "              variable_types={treatment: 'b', outcome: 'c', common_cause: 'c'}, \n",
    "              outcome=outcome, \n",
    "              dot_graph=data['dot_graph'],\n",
    "              proceed_when_unidentifiable=True)\n"
   ]
  },
  {
   "cell_type": "code",
   "execution_count": 6,
   "metadata": {
    "execution": {
     "iopub.execute_input": "2022-12-06T05:58:46.854782Z",
     "iopub.status.busy": "2022-12-06T05:58:46.854351Z",
     "iopub.status.idle": "2022-12-06T05:58:46.864056Z",
     "shell.execute_reply": "2022-12-06T05:58:46.863605Z"
    },
    "scrolled": true
   },
   "outputs": [
    {
     "data": {
      "text/html": [
       "<div>\n",
       "<style scoped>\n",
       "    .dataframe tbody tr th:only-of-type {\n",
       "        vertical-align: middle;\n",
       "    }\n",
       "\n",
       "    .dataframe tbody tr th {\n",
       "        vertical-align: top;\n",
       "    }\n",
       "\n",
       "    .dataframe thead th {\n",
       "        text-align: right;\n",
       "    }\n",
       "</style>\n",
       "<table border=\"1\" class=\"dataframe\">\n",
       "  <thead>\n",
       "    <tr style=\"text-align: right;\">\n",
       "      <th></th>\n",
       "      <th>W0</th>\n",
       "      <th>v0</th>\n",
       "      <th>y</th>\n",
       "      <th>propensity_score</th>\n",
       "      <th>weight</th>\n",
       "    </tr>\n",
       "  </thead>\n",
       "  <tbody>\n",
       "    <tr>\n",
       "      <th>0</th>\n",
       "      <td>-2.627675</td>\n",
       "      <td>False</td>\n",
       "      <td>-0.204526</td>\n",
       "      <td>0.987727</td>\n",
       "      <td>1.012425</td>\n",
       "    </tr>\n",
       "    <tr>\n",
       "      <th>1</th>\n",
       "      <td>-0.420912</td>\n",
       "      <td>False</td>\n",
       "      <td>1.508287</td>\n",
       "      <td>0.683522</td>\n",
       "      <td>1.463011</td>\n",
       "    </tr>\n",
       "    <tr>\n",
       "      <th>2</th>\n",
       "      <td>-0.752967</td>\n",
       "      <td>False</td>\n",
       "      <td>-1.143819</td>\n",
       "      <td>0.788251</td>\n",
       "      <td>1.268632</td>\n",
       "    </tr>\n",
       "    <tr>\n",
       "      <th>3</th>\n",
       "      <td>-1.486314</td>\n",
       "      <td>False</td>\n",
       "      <td>-1.960652</td>\n",
       "      <td>0.925308</td>\n",
       "      <td>1.080722</td>\n",
       "    </tr>\n",
       "    <tr>\n",
       "      <th>4</th>\n",
       "      <td>-0.914380</td>\n",
       "      <td>False</td>\n",
       "      <td>-1.743811</td>\n",
       "      <td>0.829070</td>\n",
       "      <td>1.206170</td>\n",
       "    </tr>\n",
       "    <tr>\n",
       "      <th>...</th>\n",
       "      <td>...</td>\n",
       "      <td>...</td>\n",
       "      <td>...</td>\n",
       "      <td>...</td>\n",
       "      <td>...</td>\n",
       "    </tr>\n",
       "    <tr>\n",
       "      <th>995</th>\n",
       "      <td>-1.501876</td>\n",
       "      <td>False</td>\n",
       "      <td>0.313705</td>\n",
       "      <td>0.927052</td>\n",
       "      <td>1.078688</td>\n",
       "    </tr>\n",
       "    <tr>\n",
       "      <th>996</th>\n",
       "      <td>-1.821080</td>\n",
       "      <td>False</td>\n",
       "      <td>-2.691016</td>\n",
       "      <td>0.955451</td>\n",
       "      <td>1.046626</td>\n",
       "    </tr>\n",
       "    <tr>\n",
       "      <th>997</th>\n",
       "      <td>0.171829</td>\n",
       "      <td>False</td>\n",
       "      <td>0.051843</td>\n",
       "      <td>0.449719</td>\n",
       "      <td>2.223610</td>\n",
       "    </tr>\n",
       "    <tr>\n",
       "      <th>998</th>\n",
       "      <td>-2.090794</td>\n",
       "      <td>False</td>\n",
       "      <td>-1.610544</td>\n",
       "      <td>0.970909</td>\n",
       "      <td>1.029963</td>\n",
       "    </tr>\n",
       "    <tr>\n",
       "      <th>999</th>\n",
       "      <td>-2.510817</td>\n",
       "      <td>False</td>\n",
       "      <td>0.108022</td>\n",
       "      <td>0.985174</td>\n",
       "      <td>1.015049</td>\n",
       "    </tr>\n",
       "  </tbody>\n",
       "</table>\n",
       "<p>1000 rows × 5 columns</p>\n",
       "</div>"
      ],
      "text/plain": [
       "           W0     v0         y  propensity_score    weight\n",
       "0   -2.627675  False -0.204526          0.987727  1.012425\n",
       "1   -0.420912  False  1.508287          0.683522  1.463011\n",
       "2   -0.752967  False -1.143819          0.788251  1.268632\n",
       "3   -1.486314  False -1.960652          0.925308  1.080722\n",
       "4   -0.914380  False -1.743811          0.829070  1.206170\n",
       "..        ...    ...       ...               ...       ...\n",
       "995 -1.501876  False  0.313705          0.927052  1.078688\n",
       "996 -1.821080  False -2.691016          0.955451  1.046626\n",
       "997  0.171829  False  0.051843          0.449719  2.223610\n",
       "998 -2.090794  False -1.610544          0.970909  1.029963\n",
       "999 -2.510817  False  0.108022          0.985174  1.015049\n",
       "\n",
       "[1000 rows x 5 columns]"
      ]
     },
     "execution_count": 6,
     "metadata": {},
     "output_type": "execute_result"
    }
   ],
   "source": [
    "cdf_0"
   ]
  },
  {
   "cell_type": "code",
   "execution_count": 7,
   "metadata": {
    "execution": {
     "iopub.execute_input": "2022-12-06T05:58:46.866719Z",
     "iopub.status.busy": "2022-12-06T05:58:46.866225Z",
     "iopub.status.idle": "2022-12-06T05:58:46.875829Z",
     "shell.execute_reply": "2022-12-06T05:58:46.875264Z"
    }
   },
   "outputs": [
    {
     "data": {
      "text/html": [
       "<div>\n",
       "<style scoped>\n",
       "    .dataframe tbody tr th:only-of-type {\n",
       "        vertical-align: middle;\n",
       "    }\n",
       "\n",
       "    .dataframe tbody tr th {\n",
       "        vertical-align: top;\n",
       "    }\n",
       "\n",
       "    .dataframe thead th {\n",
       "        text-align: right;\n",
       "    }\n",
       "</style>\n",
       "<table border=\"1\" class=\"dataframe\">\n",
       "  <thead>\n",
       "    <tr style=\"text-align: right;\">\n",
       "      <th></th>\n",
       "      <th>W0</th>\n",
       "      <th>v0</th>\n",
       "      <th>y</th>\n",
       "      <th>propensity_score</th>\n",
       "      <th>weight</th>\n",
       "    </tr>\n",
       "  </thead>\n",
       "  <tbody>\n",
       "    <tr>\n",
       "      <th>0</th>\n",
       "      <td>-0.782157</td>\n",
       "      <td>True</td>\n",
       "      <td>5.123821</td>\n",
       "      <td>0.203871</td>\n",
       "      <td>4.905056</td>\n",
       "    </tr>\n",
       "    <tr>\n",
       "      <th>1</th>\n",
       "      <td>0.663530</td>\n",
       "      <td>True</td>\n",
       "      <td>5.431037</td>\n",
       "      <td>0.732621</td>\n",
       "      <td>1.364963</td>\n",
       "    </tr>\n",
       "    <tr>\n",
       "      <th>2</th>\n",
       "      <td>-0.093743</td>\n",
       "      <td>True</td>\n",
       "      <td>4.058253</td>\n",
       "      <td>0.441863</td>\n",
       "      <td>2.263144</td>\n",
       "    </tr>\n",
       "    <tr>\n",
       "      <th>3</th>\n",
       "      <td>-2.083487</td>\n",
       "      <td>True</td>\n",
       "      <td>5.231844</td>\n",
       "      <td>0.029431</td>\n",
       "      <td>33.977558</td>\n",
       "    </tr>\n",
       "    <tr>\n",
       "      <th>4</th>\n",
       "      <td>-0.018318</td>\n",
       "      <td>True</td>\n",
       "      <td>5.665216</td>\n",
       "      <td>0.472542</td>\n",
       "      <td>2.116216</td>\n",
       "    </tr>\n",
       "    <tr>\n",
       "      <th>...</th>\n",
       "      <td>...</td>\n",
       "      <td>...</td>\n",
       "      <td>...</td>\n",
       "      <td>...</td>\n",
       "      <td>...</td>\n",
       "    </tr>\n",
       "    <tr>\n",
       "      <th>995</th>\n",
       "      <td>-0.809686</td>\n",
       "      <td>True</td>\n",
       "      <td>3.245916</td>\n",
       "      <td>0.196644</td>\n",
       "      <td>5.085343</td>\n",
       "    </tr>\n",
       "    <tr>\n",
       "      <th>996</th>\n",
       "      <td>-1.381814</td>\n",
       "      <td>True</td>\n",
       "      <td>2.883144</td>\n",
       "      <td>0.087430</td>\n",
       "      <td>11.437664</td>\n",
       "    </tr>\n",
       "    <tr>\n",
       "      <th>997</th>\n",
       "      <td>-0.073098</td>\n",
       "      <td>True</td>\n",
       "      <td>4.657697</td>\n",
       "      <td>0.450226</td>\n",
       "      <td>2.221106</td>\n",
       "    </tr>\n",
       "    <tr>\n",
       "      <th>998</th>\n",
       "      <td>-1.603361</td>\n",
       "      <td>True</td>\n",
       "      <td>3.963283</td>\n",
       "      <td>0.062465</td>\n",
       "      <td>16.009015</td>\n",
       "    </tr>\n",
       "    <tr>\n",
       "      <th>999</th>\n",
       "      <td>0.958818</td>\n",
       "      <td>True</td>\n",
       "      <td>5.452241</td>\n",
       "      <td>0.816392</td>\n",
       "      <td>1.224902</td>\n",
       "    </tr>\n",
       "  </tbody>\n",
       "</table>\n",
       "<p>1000 rows × 5 columns</p>\n",
       "</div>"
      ],
      "text/plain": [
       "           W0    v0         y  propensity_score     weight\n",
       "0   -0.782157  True  5.123821          0.203871   4.905056\n",
       "1    0.663530  True  5.431037          0.732621   1.364963\n",
       "2   -0.093743  True  4.058253          0.441863   2.263144\n",
       "3   -2.083487  True  5.231844          0.029431  33.977558\n",
       "4   -0.018318  True  5.665216          0.472542   2.116216\n",
       "..        ...   ...       ...               ...        ...\n",
       "995 -0.809686  True  3.245916          0.196644   5.085343\n",
       "996 -1.381814  True  2.883144          0.087430  11.437664\n",
       "997 -0.073098  True  4.657697          0.450226   2.221106\n",
       "998 -1.603361  True  3.963283          0.062465  16.009015\n",
       "999  0.958818  True  5.452241          0.816392   1.224902\n",
       "\n",
       "[1000 rows x 5 columns]"
      ]
     },
     "execution_count": 7,
     "metadata": {},
     "output_type": "execute_result"
    }
   ],
   "source": [
    "cdf_1"
   ]
  },
  {
   "cell_type": "markdown",
   "metadata": {},
   "source": [
    "## Comparing the estimate to Linear Regression\n",
    "First, estimating the effect using the causal data frame, and the 95% confidence interval."
   ]
  },
  {
   "cell_type": "code",
   "execution_count": 8,
   "metadata": {
    "execution": {
     "iopub.execute_input": "2022-12-06T05:58:46.879146Z",
     "iopub.status.busy": "2022-12-06T05:58:46.878946Z",
     "iopub.status.idle": "2022-12-06T05:58:46.935652Z",
     "shell.execute_reply": "2022-12-06T05:58:46.934994Z"
    }
   },
   "outputs": [
    {
     "data": {
      "image/png": "[encoded data removed]",
      "text/latex": [
       "$\\displaystyle 5.23359039913528$"
      ],
      "text/plain": [
       "5.233590399135283"
      ]
     },
     "execution_count": 8,
     "metadata": {},
     "output_type": "execute_result"
    }
   ],
   "source": [
    "(cdf_1['y'] - cdf_0['y']).mean()"
   ]
  },
  {
   "cell_type": "code",
   "execution_count": 9,
   "metadata": {
    "execution": {
     "iopub.execute_input": "2022-12-06T05:58:46.938467Z",
     "iopub.status.busy": "2022-12-06T05:58:46.938141Z",
     "iopub.status.idle": "2022-12-06T05:58:46.958748Z",
     "shell.execute_reply": "2022-12-06T05:58:46.958086Z"
    }
   },
   "outputs": [
    {
     "data": {
      "image/png": "[encoded data removed]",
      "text/latex": [
       "$\\displaystyle 0.0960099696473716$"
      ],
      "text/plain": [
       "0.09600996964737164"
      ]
     },
     "execution_count": 9,
     "metadata": {},
     "output_type": "execute_result"
    }
   ],
   "source": [
    "1.96*(cdf_1['y'] - cdf_0['y']).std() / np.sqrt(len(df))"
   ]
  },
  {
   "cell_type": "markdown",
   "metadata": {},
   "source": [
    "Comparing to the estimate from OLS."
   ]
  },
  {
   "cell_type": "code",
   "execution_count": 10,
   "metadata": {
    "execution": {
     "iopub.execute_input": "2022-12-06T05:58:46.962361Z",
     "iopub.status.busy": "2022-12-06T05:58:46.961839Z",
     "iopub.status.idle": "2022-12-06T05:58:46.977232Z",
     "shell.execute_reply": "2022-12-06T05:58:46.976621Z"
    }
   },
   "outputs": [
    {
     "data": {
      "text/html": [
       "<table class=\"simpletable\">\n",
       "<caption>OLS Regression Results</caption>\n",
       "<tr>\n",
       "  <th>Dep. Variable:</th>            <td>y</td>        <th>  R-squared (uncentered):</th>      <td>   0.870</td>\n",
       "</tr>\n",
       "<tr>\n",
       "  <th>Model:</th>                   <td>OLS</td>       <th>  Adj. R-squared (uncentered):</th> <td>   0.870</td>\n",
       "</tr>\n",
       "<tr>\n",
       "  <th>Method:</th>             <td>Least Squares</td>  <th>  F-statistic:       </th>          <td>   3336.</td>\n",
       "</tr>\n",
       "<tr>\n",
       "  <th>Date:</th>             <td>Tue, 06 Dec 2022</td> <th>  Prob (F-statistic):</th>           <td>  0.00</td> \n",
       "</tr>\n",
       "<tr>\n",
       "  <th>Time:</th>                 <td>05:58:46</td>     <th>  Log-Likelihood:    </th>          <td> -1430.1</td>\n",
       "</tr>\n",
       "<tr>\n",
       "  <th>No. Observations:</th>      <td>  1000</td>      <th>  AIC:               </th>          <td>   2864.</td>\n",
       "</tr>\n",
       "<tr>\n",
       "  <th>Df Residuals:</th>          <td>   998</td>      <th>  BIC:               </th>          <td>   2874.</td>\n",
       "</tr>\n",
       "<tr>\n",
       "  <th>Df Model:</th>              <td>     2</td>      <th>                     </th>              <td> </td>   \n",
       "</tr>\n",
       "<tr>\n",
       "  <th>Covariance Type:</th>      <td>nonrobust</td>    <th>                     </th>              <td> </td>   \n",
       "</tr>\n",
       "</table>\n",
       "<table class=\"simpletable\">\n",
       "<tr>\n",
       "   <td></td>     <th>coef</th>     <th>std err</th>      <th>t</th>      <th>P>|t|</th>  <th>[0.025</th>    <th>0.975]</th>  \n",
       "</tr>\n",
       "<tr>\n",
       "  <th>x1</th> <td>    0.4275</td> <td>    0.024</td> <td>   17.749</td> <td> 0.000</td> <td>    0.380</td> <td>    0.475</td>\n",
       "</tr>\n",
       "<tr>\n",
       "  <th>x2</th> <td>    5.0371</td> <td>    0.063</td> <td>   79.922</td> <td> 0.000</td> <td>    4.913</td> <td>    5.161</td>\n",
       "</tr>\n",
       "</table>\n",
       "<table class=\"simpletable\">\n",
       "<tr>\n",
       "  <th>Omnibus:</th>       <td> 8.029</td> <th>  Durbin-Watson:     </th> <td>   2.040</td>\n",
       "</tr>\n",
       "<tr>\n",
       "  <th>Prob(Omnibus):</th> <td> 0.018</td> <th>  Jarque-Bera (JB):  </th> <td>   7.544</td>\n",
       "</tr>\n",
       "<tr>\n",
       "  <th>Skew:</th>          <td>-0.171</td> <th>  Prob(JB):          </th> <td>  0.0230</td>\n",
       "</tr>\n",
       "<tr>\n",
       "  <th>Kurtosis:</th>      <td> 2.747</td> <th>  Cond. No.          </th> <td>    2.62</td>\n",
       "</tr>\n",
       "</table><br/><br/>Notes:<br/>[1] R² is computed without centering (uncentered) since the model does not contain a constant.<br/>[2] Standard Errors assume that the covariance matrix of the errors is correctly specified."
      ],
      "text/plain": [
       "<class 'statsmodels.iolib.summary.Summary'>\n",
       "\"\"\"\n",
       "                                 OLS Regression Results                                \n",
       "=======================================================================================\n",
       "Dep. Variable:                      y   R-squared (uncentered):                   0.870\n",
       "Model:                            OLS   Adj. R-squared (uncentered):              0.870\n",
       "Method:                 Least Squares   F-statistic:                              3336.\n",
       "Date:                Tue, 06 Dec 2022   Prob (F-statistic):                        0.00\n",
       "Time:                        05:58:46   Log-Likelihood:                         -1430.1\n",
       "No. Observations:                1000   AIC:                                      2864.\n",
       "Df Residuals:                     998   BIC:                                      2874.\n",
       "Df Model:                           2                                                  \n",
       "Covariance Type:            nonrobust                                                  \n",
       "==============================================================================\n",
       "                 coef    std err          t      P>|t|      [0.025      0.975]\n",
       "------------------------------------------------------------------------------\n",
       "x1             0.4275      0.024     17.749      0.000       0.380       0.475\n",
       "x2             5.0371      0.063     79.922      0.000       4.913       5.161\n",
       "==============================================================================\n",
       "Omnibus:                        8.029   Durbin-Watson:                   2.040\n",
       "Prob(Omnibus):                  0.018   Jarque-Bera (JB):                7.544\n",
       "Skew:                          -0.171   Prob(JB):                       0.0230\n",
       "Kurtosis:                       2.747   Cond. No.                         2.62\n",
       "==============================================================================\n",
       "\n",
       "Notes:\n",
       "[1] R² is computed without centering (uncentered) since the model does not contain a constant.\n",
       "[2] Standard Errors assume that the covariance matrix of the errors is correctly specified.\n",
       "\"\"\""
      ]
     },
     "execution_count": 10,
     "metadata": {},
     "output_type": "execute_result"
    }
   ],
   "source": [
    "model = OLS(np.asarray(df[outcome]), np.asarray(df[[common_cause, treatment]], dtype=np.float64))\n",
    "result = model.fit()\n",
    "result.summary()"
   ]
  }
 ],
 "metadata": {
  "kernelspec": {
   "display_name": "Python 3",
   "language": "python",
   "name": "python3"
  },
  "language_info": {
   "codemirror_mode": {
    "name": "ipython",
    "version": 3
   },
   "file_extension": ".py",
   "mimetype": "text/x-python",
   "name": "python",
   "nbconvert_exporter": "python",
   "pygments_lexer": "ipython3",
   "version": "3.8.10"
  },
  "toc": {
   "base_numbering": 1,
   "nav_menu": {},
   "number_sections": false,
   "sideBar": true,
   "skip_h1_title": true,
   "title_cell": "Table of Contents",
   "title_sidebar": "Contents",
   "toc_cell": false,
   "toc_position": {},
   "toc_section_display": true,
   "toc_window_display": false
  }
 },
 "nbformat": 4,
 "nbformat_minor": 4
}
