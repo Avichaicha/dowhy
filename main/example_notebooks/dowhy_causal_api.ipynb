{
 "cells": [
  {
   "cell_type": "markdown",
   "metadata": {},
   "source": [
    "# Demo for the DoWhy causal API\n",
    "We show a simple example of adding a causal extension to any dataframe. "
   ]
  },
  {
   "cell_type": "code",
   "execution_count": 1,
   "metadata": {
    "execution": {
     "iopub.execute_input": "2022-07-28T12:41:10.408441Z",
     "iopub.status.busy": "2022-07-28T12:41:10.408127Z",
     "iopub.status.idle": "2022-07-28T12:41:11.556296Z",
     "shell.execute_reply": "2022-07-28T12:41:11.555537Z"
    }
   },
   "outputs": [
    {
     "name": "stdout",
     "output_type": "stream",
     "text": [
      "keywords are unexpanded, not using\n"
     ]
    }
   ],
   "source": [
    "import dowhy.datasets\n",
    "import dowhy.api\n",
    "\n",
    "import numpy as np\n",
    "import pandas as pd\n",
    "\n",
    "from statsmodels.api import OLS"
   ]
  },
  {
   "cell_type": "code",
   "execution_count": 2,
   "metadata": {
    "execution": {
     "iopub.execute_input": "2022-07-28T12:41:11.560156Z",
     "iopub.status.busy": "2022-07-28T12:41:11.559640Z",
     "iopub.status.idle": "2022-07-28T12:41:11.606323Z",
     "shell.execute_reply": "2022-07-28T12:41:11.605626Z"
    }
   },
   "outputs": [
    {
     "data": {
      "text/html": [
       "<div>\n",
       "<style scoped>\n",
       "    .dataframe tbody tr th:only-of-type {\n",
       "        vertical-align: middle;\n",
       "    }\n",
       "\n",
       "    .dataframe tbody tr th {\n",
       "        vertical-align: top;\n",
       "    }\n",
       "\n",
       "    .dataframe thead th {\n",
       "        text-align: right;\n",
       "    }\n",
       "</style>\n",
       "<table border=\"1\" class=\"dataframe\">\n",
       "  <thead>\n",
       "    <tr style=\"text-align: right;\">\n",
       "      <th></th>\n",
       "      <th>W0</th>\n",
       "      <th>v0</th>\n",
       "      <th>y</th>\n",
       "    </tr>\n",
       "  </thead>\n",
       "  <tbody>\n",
       "    <tr>\n",
       "      <th>0</th>\n",
       "      <td>0.820886</td>\n",
       "      <td>False</td>\n",
       "      <td>2.324825</td>\n",
       "    </tr>\n",
       "    <tr>\n",
       "      <th>1</th>\n",
       "      <td>1.106981</td>\n",
       "      <td>False</td>\n",
       "      <td>1.541308</td>\n",
       "    </tr>\n",
       "    <tr>\n",
       "      <th>2</th>\n",
       "      <td>-0.228799</td>\n",
       "      <td>False</td>\n",
       "      <td>-0.176032</td>\n",
       "    </tr>\n",
       "    <tr>\n",
       "      <th>3</th>\n",
       "      <td>1.189786</td>\n",
       "      <td>True</td>\n",
       "      <td>9.061684</td>\n",
       "    </tr>\n",
       "    <tr>\n",
       "      <th>4</th>\n",
       "      <td>-0.048062</td>\n",
       "      <td>False</td>\n",
       "      <td>0.024091</td>\n",
       "    </tr>\n",
       "    <tr>\n",
       "      <th>...</th>\n",
       "      <td>...</td>\n",
       "      <td>...</td>\n",
       "      <td>...</td>\n",
       "    </tr>\n",
       "    <tr>\n",
       "      <th>995</th>\n",
       "      <td>0.344893</td>\n",
       "      <td>True</td>\n",
       "      <td>7.700737</td>\n",
       "    </tr>\n",
       "    <tr>\n",
       "      <th>996</th>\n",
       "      <td>-0.566948</td>\n",
       "      <td>False</td>\n",
       "      <td>-0.812752</td>\n",
       "    </tr>\n",
       "    <tr>\n",
       "      <th>997</th>\n",
       "      <td>0.780920</td>\n",
       "      <td>True</td>\n",
       "      <td>6.846733</td>\n",
       "    </tr>\n",
       "    <tr>\n",
       "      <th>998</th>\n",
       "      <td>-0.112680</td>\n",
       "      <td>True</td>\n",
       "      <td>4.861993</td>\n",
       "    </tr>\n",
       "    <tr>\n",
       "      <th>999</th>\n",
       "      <td>1.454738</td>\n",
       "      <td>False</td>\n",
       "      <td>2.477036</td>\n",
       "    </tr>\n",
       "  </tbody>\n",
       "</table>\n",
       "<p>1000 rows × 3 columns</p>\n",
       "</div>"
      ],
      "text/plain": [
       "           W0     v0         y\n",
       "0    0.820886  False  2.324825\n",
       "1    1.106981  False  1.541308\n",
       "2   -0.228799  False -0.176032\n",
       "3    1.189786   True  9.061684\n",
       "4   -0.048062  False  0.024091\n",
       "..        ...    ...       ...\n",
       "995  0.344893   True  7.700737\n",
       "996 -0.566948  False -0.812752\n",
       "997  0.780920   True  6.846733\n",
       "998 -0.112680   True  4.861993\n",
       "999  1.454738  False  2.477036\n",
       "\n",
       "[1000 rows x 3 columns]"
      ]
     },
     "execution_count": 2,
     "metadata": {},
     "output_type": "execute_result"
    }
   ],
   "source": [
    "data = dowhy.datasets.linear_dataset(beta=5,\n",
    "        num_common_causes=1,\n",
    "        num_instruments = 0,\n",
    "        num_samples=1000,\n",
    "        treatment_is_binary=True)\n",
    "df = data['df']\n",
    "df['y'] = df['y'] + np.random.normal(size=len(df)) # Adding noise to data. Without noise, the variance in Y|X, Z is zero, and mcmc fails.\n",
    "#data['dot_graph'] = 'digraph { v ->y;X0-> v;X0-> y;}'\n",
    "\n",
    "treatment= data[\"treatment_name\"][0]\n",
    "outcome = data[\"outcome_name\"][0]\n",
    "common_cause = data[\"common_causes_names\"][0]\n",
    "df"
   ]
  },
  {
   "cell_type": "code",
   "execution_count": 3,
   "metadata": {
    "execution": {
     "iopub.execute_input": "2022-07-28T12:41:11.609894Z",
     "iopub.status.busy": "2022-07-28T12:41:11.609531Z",
     "iopub.status.idle": "2022-07-28T12:41:12.376151Z",
     "shell.execute_reply": "2022-07-28T12:41:12.375581Z"
    }
   },
   "outputs": [
    {
     "data": {
      "text/plain": [
       "<AxesSubplot:xlabel='v0'>"
      ]
     },
     "execution_count": 3,
     "metadata": {},
     "output_type": "execute_result"
    },
    {
     "data": {
      "image/png": "[encoded data removed]",
      "text/plain": [
       "<Figure size 432x288 with 1 Axes>"
      ]
     },
     "metadata": {
      "needs_background": "light"
     },
     "output_type": "display_data"
    }
   ],
   "source": [
    "# data['df'] is just a regular pandas.DataFrame\n",
    "df.causal.do(x=treatment,\n",
    "                     variable_types={treatment: 'b', outcome: 'c', common_cause: 'c'},\n",
    "                     outcome=outcome,\n",
    "                     common_causes=[common_cause],\n",
    "                     proceed_when_unidentifiable=True).groupby(treatment).mean().plot(y=outcome, kind='bar')"
   ]
  },
  {
   "cell_type": "code",
   "execution_count": 4,
   "metadata": {
    "execution": {
     "iopub.execute_input": "2022-07-28T12:41:12.380948Z",
     "iopub.status.busy": "2022-07-28T12:41:12.379707Z",
     "iopub.status.idle": "2022-07-28T12:41:12.479201Z",
     "shell.execute_reply": "2022-07-28T12:41:12.478592Z"
    }
   },
   "outputs": [
    {
     "data": {
      "text/plain": [
       "<AxesSubplot:xlabel='v0'>"
      ]
     },
     "execution_count": 4,
     "metadata": {},
     "output_type": "execute_result"
    },
    {
     "data": {
      "image/png": "[encoded data removed]",
      "text/plain": [
       "<Figure size 432x288 with 1 Axes>"
      ]
     },
     "metadata": {
      "needs_background": "light"
     },
     "output_type": "display_data"
    }
   ],
   "source": [
    "df.causal.do(x={treatment: 1}, \n",
    "              variable_types={treatment:'b', outcome: 'c', common_cause: 'c'}, \n",
    "              outcome=outcome,\n",
    "              method='weighting', \n",
    "              common_causes=[common_cause],\n",
    "              proceed_when_unidentifiable=True).groupby(treatment).mean().plot(y=outcome, kind='bar')"
   ]
  },
  {
   "cell_type": "code",
   "execution_count": 5,
   "metadata": {
    "execution": {
     "iopub.execute_input": "2022-07-28T12:41:12.483810Z",
     "iopub.status.busy": "2022-07-28T12:41:12.482737Z",
     "iopub.status.idle": "2022-07-28T12:41:12.515835Z",
     "shell.execute_reply": "2022-07-28T12:41:12.514974Z"
    }
   },
   "outputs": [],
   "source": [
    "cdf_1 = df.causal.do(x={treatment: 1}, \n",
    "              variable_types={treatment: 'b', outcome: 'c', common_cause: 'c'}, \n",
    "              outcome=outcome, \n",
    "              dot_graph=data['dot_graph'],\n",
    "              proceed_when_unidentifiable=True)\n",
    "\n",
    "cdf_0 = df.causal.do(x={treatment: 0}, \n",
    "              variable_types={treatment: 'b', outcome: 'c', common_cause: 'c'}, \n",
    "              outcome=outcome, \n",
    "              dot_graph=data['dot_graph'],\n",
    "              proceed_when_unidentifiable=True)\n"
   ]
  },
  {
   "cell_type": "code",
   "execution_count": 6,
   "metadata": {
    "execution": {
     "iopub.execute_input": "2022-07-28T12:41:12.519524Z",
     "iopub.status.busy": "2022-07-28T12:41:12.519108Z",
     "iopub.status.idle": "2022-07-28T12:41:12.529845Z",
     "shell.execute_reply": "2022-07-28T12:41:12.529355Z"
    },
    "scrolled": true
   },
   "outputs": [
    {
     "data": {
      "text/html": [
       "<div>\n",
       "<style scoped>\n",
       "    .dataframe tbody tr th:only-of-type {\n",
       "        vertical-align: middle;\n",
       "    }\n",
       "\n",
       "    .dataframe tbody tr th {\n",
       "        vertical-align: top;\n",
       "    }\n",
       "\n",
       "    .dataframe thead th {\n",
       "        text-align: right;\n",
       "    }\n",
       "</style>\n",
       "<table border=\"1\" class=\"dataframe\">\n",
       "  <thead>\n",
       "    <tr style=\"text-align: right;\">\n",
       "      <th></th>\n",
       "      <th>W0</th>\n",
       "      <th>v0</th>\n",
       "      <th>y</th>\n",
       "      <th>propensity_score</th>\n",
       "      <th>weight</th>\n",
       "    </tr>\n",
       "  </thead>\n",
       "  <tbody>\n",
       "    <tr>\n",
       "      <th>0</th>\n",
       "      <td>0.943267</td>\n",
       "      <td>False</td>\n",
       "      <td>2.677810</td>\n",
       "      <td>0.377153</td>\n",
       "      <td>2.651441</td>\n",
       "    </tr>\n",
       "    <tr>\n",
       "      <th>1</th>\n",
       "      <td>0.636449</td>\n",
       "      <td>False</td>\n",
       "      <td>1.797115</td>\n",
       "      <td>0.404087</td>\n",
       "      <td>2.474712</td>\n",
       "    </tr>\n",
       "    <tr>\n",
       "      <th>2</th>\n",
       "      <td>1.067435</td>\n",
       "      <td>False</td>\n",
       "      <td>2.992690</td>\n",
       "      <td>0.366455</td>\n",
       "      <td>2.728845</td>\n",
       "    </tr>\n",
       "    <tr>\n",
       "      <th>3</th>\n",
       "      <td>2.178526</td>\n",
       "      <td>False</td>\n",
       "      <td>6.405540</td>\n",
       "      <td>0.277412</td>\n",
       "      <td>3.604749</td>\n",
       "    </tr>\n",
       "    <tr>\n",
       "      <th>4</th>\n",
       "      <td>-0.198299</td>\n",
       "      <td>False</td>\n",
       "      <td>-0.748255</td>\n",
       "      <td>0.479880</td>\n",
       "      <td>2.083854</td>\n",
       "    </tr>\n",
       "    <tr>\n",
       "      <th>...</th>\n",
       "      <td>...</td>\n",
       "      <td>...</td>\n",
       "      <td>...</td>\n",
       "      <td>...</td>\n",
       "      <td>...</td>\n",
       "    </tr>\n",
       "    <tr>\n",
       "      <th>995</th>\n",
       "      <td>1.832809</td>\n",
       "      <td>False</td>\n",
       "      <td>6.028243</td>\n",
       "      <td>0.303687</td>\n",
       "      <td>3.292862</td>\n",
       "    </tr>\n",
       "    <tr>\n",
       "      <th>996</th>\n",
       "      <td>1.692308</td>\n",
       "      <td>False</td>\n",
       "      <td>6.120216</td>\n",
       "      <td>0.314758</td>\n",
       "      <td>3.177048</td>\n",
       "    </tr>\n",
       "    <tr>\n",
       "      <th>997</th>\n",
       "      <td>0.326045</td>\n",
       "      <td>False</td>\n",
       "      <td>0.767598</td>\n",
       "      <td>0.431937</td>\n",
       "      <td>2.315155</td>\n",
       "    </tr>\n",
       "    <tr>\n",
       "      <th>998</th>\n",
       "      <td>0.303574</td>\n",
       "      <td>False</td>\n",
       "      <td>0.352244</td>\n",
       "      <td>0.433972</td>\n",
       "      <td>2.304298</td>\n",
       "    </tr>\n",
       "    <tr>\n",
       "      <th>999</th>\n",
       "      <td>-0.389751</td>\n",
       "      <td>False</td>\n",
       "      <td>0.023355</td>\n",
       "      <td>0.497526</td>\n",
       "      <td>2.009946</td>\n",
       "    </tr>\n",
       "  </tbody>\n",
       "</table>\n",
       "<p>1000 rows × 5 columns</p>\n",
       "</div>"
      ],
      "text/plain": [
       "           W0     v0         y  propensity_score    weight\n",
       "0    0.943267  False  2.677810          0.377153  2.651441\n",
       "1    0.636449  False  1.797115          0.404087  2.474712\n",
       "2    1.067435  False  2.992690          0.366455  2.728845\n",
       "3    2.178526  False  6.405540          0.277412  3.604749\n",
       "4   -0.198299  False -0.748255          0.479880  2.083854\n",
       "..        ...    ...       ...               ...       ...\n",
       "995  1.832809  False  6.028243          0.303687  3.292862\n",
       "996  1.692308  False  6.120216          0.314758  3.177048\n",
       "997  0.326045  False  0.767598          0.431937  2.315155\n",
       "998  0.303574  False  0.352244          0.433972  2.304298\n",
       "999 -0.389751  False  0.023355          0.497526  2.009946\n",
       "\n",
       "[1000 rows x 5 columns]"
      ]
     },
     "execution_count": 6,
     "metadata": {},
     "output_type": "execute_result"
    }
   ],
   "source": [
    "cdf_0"
   ]
  },
  {
   "cell_type": "code",
   "execution_count": 7,
   "metadata": {
    "execution": {
     "iopub.execute_input": "2022-07-28T12:41:12.532612Z",
     "iopub.status.busy": "2022-07-28T12:41:12.532175Z",
     "iopub.status.idle": "2022-07-28T12:41:12.542144Z",
     "shell.execute_reply": "2022-07-28T12:41:12.541497Z"
    }
   },
   "outputs": [
    {
     "data": {
      "text/html": [
       "<div>\n",
       "<style scoped>\n",
       "    .dataframe tbody tr th:only-of-type {\n",
       "        vertical-align: middle;\n",
       "    }\n",
       "\n",
       "    .dataframe tbody tr th {\n",
       "        vertical-align: top;\n",
       "    }\n",
       "\n",
       "    .dataframe thead th {\n",
       "        text-align: right;\n",
       "    }\n",
       "</style>\n",
       "<table border=\"1\" class=\"dataframe\">\n",
       "  <thead>\n",
       "    <tr style=\"text-align: right;\">\n",
       "      <th></th>\n",
       "      <th>W0</th>\n",
       "      <th>v0</th>\n",
       "      <th>y</th>\n",
       "      <th>propensity_score</th>\n",
       "      <th>weight</th>\n",
       "    </tr>\n",
       "  </thead>\n",
       "  <tbody>\n",
       "    <tr>\n",
       "      <th>0</th>\n",
       "      <td>-0.210585</td>\n",
       "      <td>True</td>\n",
       "      <td>5.146534</td>\n",
       "      <td>0.518989</td>\n",
       "      <td>1.926825</td>\n",
       "    </tr>\n",
       "    <tr>\n",
       "      <th>1</th>\n",
       "      <td>0.218551</td>\n",
       "      <td>True</td>\n",
       "      <td>5.698887</td>\n",
       "      <td>0.558308</td>\n",
       "      <td>1.791125</td>\n",
       "    </tr>\n",
       "    <tr>\n",
       "      <th>2</th>\n",
       "      <td>-0.113546</td>\n",
       "      <td>True</td>\n",
       "      <td>4.780393</td>\n",
       "      <td>0.527918</td>\n",
       "      <td>1.894233</td>\n",
       "    </tr>\n",
       "    <tr>\n",
       "      <th>3</th>\n",
       "      <td>0.727589</td>\n",
       "      <td>True</td>\n",
       "      <td>7.287106</td>\n",
       "      <td>0.603982</td>\n",
       "      <td>1.655679</td>\n",
       "    </tr>\n",
       "    <tr>\n",
       "      <th>4</th>\n",
       "      <td>1.498849</td>\n",
       "      <td>True</td>\n",
       "      <td>8.500817</td>\n",
       "      <td>0.669650</td>\n",
       "      <td>1.493317</td>\n",
       "    </tr>\n",
       "    <tr>\n",
       "      <th>...</th>\n",
       "      <td>...</td>\n",
       "      <td>...</td>\n",
       "      <td>...</td>\n",
       "      <td>...</td>\n",
       "      <td>...</td>\n",
       "    </tr>\n",
       "    <tr>\n",
       "      <th>995</th>\n",
       "      <td>0.164849</td>\n",
       "      <td>True</td>\n",
       "      <td>5.898366</td>\n",
       "      <td>0.553418</td>\n",
       "      <td>1.806954</td>\n",
       "    </tr>\n",
       "    <tr>\n",
       "      <th>996</th>\n",
       "      <td>1.402099</td>\n",
       "      <td>True</td>\n",
       "      <td>9.411331</td>\n",
       "      <td>0.661707</td>\n",
       "      <td>1.511242</td>\n",
       "    </tr>\n",
       "    <tr>\n",
       "      <th>997</th>\n",
       "      <td>0.677359</td>\n",
       "      <td>True</td>\n",
       "      <td>5.714381</td>\n",
       "      <td>0.599541</td>\n",
       "      <td>1.667942</td>\n",
       "    </tr>\n",
       "    <tr>\n",
       "      <th>998</th>\n",
       "      <td>1.390596</td>\n",
       "      <td>True</td>\n",
       "      <td>8.808935</td>\n",
       "      <td>0.660757</td>\n",
       "      <td>1.513416</td>\n",
       "    </tr>\n",
       "    <tr>\n",
       "      <th>999</th>\n",
       "      <td>0.776232</td>\n",
       "      <td>True</td>\n",
       "      <td>5.994690</td>\n",
       "      <td>0.608266</td>\n",
       "      <td>1.644018</td>\n",
       "    </tr>\n",
       "  </tbody>\n",
       "</table>\n",
       "<p>1000 rows × 5 columns</p>\n",
       "</div>"
      ],
      "text/plain": [
       "           W0    v0         y  propensity_score    weight\n",
       "0   -0.210585  True  5.146534          0.518989  1.926825\n",
       "1    0.218551  True  5.698887          0.558308  1.791125\n",
       "2   -0.113546  True  4.780393          0.527918  1.894233\n",
       "3    0.727589  True  7.287106          0.603982  1.655679\n",
       "4    1.498849  True  8.500817          0.669650  1.493317\n",
       "..        ...   ...       ...               ...       ...\n",
       "995  0.164849  True  5.898366          0.553418  1.806954\n",
       "996  1.402099  True  9.411331          0.661707  1.511242\n",
       "997  0.677359  True  5.714381          0.599541  1.667942\n",
       "998  1.390596  True  8.808935          0.660757  1.513416\n",
       "999  0.776232  True  5.994690          0.608266  1.644018\n",
       "\n",
       "[1000 rows x 5 columns]"
      ]
     },
     "execution_count": 7,
     "metadata": {},
     "output_type": "execute_result"
    }
   ],
   "source": [
    "cdf_1"
   ]
  },
  {
   "cell_type": "markdown",
   "metadata": {},
   "source": [
    "## Comparing the estimate to Linear Regression\n",
    "First, estimating the effect using the causal data frame, and the 95% confidence interval."
   ]
  },
  {
   "cell_type": "code",
   "execution_count": 8,
   "metadata": {
    "execution": {
     "iopub.execute_input": "2022-07-28T12:41:12.546009Z",
     "iopub.status.busy": "2022-07-28T12:41:12.545485Z",
     "iopub.status.idle": "2022-07-28T12:41:12.639114Z",
     "shell.execute_reply": "2022-07-28T12:41:12.638259Z"
    }
   },
   "outputs": [
    {
     "data": {
      "image/png": "[encoded data removed]",
      "text/latex": [
       "$\\displaystyle 5.02811170155744$"
      ],
      "text/plain": [
       "5.028111701557443"
      ]
     },
     "execution_count": 8,
     "metadata": {},
     "output_type": "execute_result"
    }
   ],
   "source": [
    "(cdf_1['y'] - cdf_0['y']).mean()"
   ]
  },
  {
   "cell_type": "code",
   "execution_count": 9,
   "metadata": {
    "execution": {
     "iopub.execute_input": "2022-07-28T12:41:12.642629Z",
     "iopub.status.busy": "2022-07-28T12:41:12.642226Z",
     "iopub.status.idle": "2022-07-28T12:41:12.670931Z",
     "shell.execute_reply": "2022-07-28T12:41:12.670232Z"
    }
   },
   "outputs": [
    {
     "data": {
      "image/png": "[encoded data removed]",
      "text/latex": [
       "$\\displaystyle 0.237979525499007$"
      ],
      "text/plain": [
       "0.23797952549900664"
      ]
     },
     "execution_count": 9,
     "metadata": {},
     "output_type": "execute_result"
    }
   ],
   "source": [
    "1.96*(cdf_1['y'] - cdf_0['y']).std() / np.sqrt(len(df))"
   ]
  },
  {
   "cell_type": "markdown",
   "metadata": {},
   "source": [
    "Comparing to the estimate from OLS."
   ]
  },
  {
   "cell_type": "code",
   "execution_count": 10,
   "metadata": {
    "execution": {
     "iopub.execute_input": "2022-07-28T12:41:12.674638Z",
     "iopub.status.busy": "2022-07-28T12:41:12.674180Z",
     "iopub.status.idle": "2022-07-28T12:41:12.692288Z",
     "shell.execute_reply": "2022-07-28T12:41:12.691657Z"
    }
   },
   "outputs": [
    {
     "data": {
      "text/html": [
       "<table class=\"simpletable\">\n",
       "<caption>OLS Regression Results</caption>\n",
       "<tr>\n",
       "  <th>Dep. Variable:</th>            <td>y</td>        <th>  R-squared (uncentered):</th>      <td>   0.973</td> \n",
       "</tr>\n",
       "<tr>\n",
       "  <th>Model:</th>                   <td>OLS</td>       <th>  Adj. R-squared (uncentered):</th> <td>   0.973</td> \n",
       "</tr>\n",
       "<tr>\n",
       "  <th>Method:</th>             <td>Least Squares</td>  <th>  F-statistic:       </th>          <td>1.808e+04</td>\n",
       "</tr>\n",
       "<tr>\n",
       "  <th>Date:</th>             <td>Thu, 28 Jul 2022</td> <th>  Prob (F-statistic):</th>           <td>  0.00</td>  \n",
       "</tr>\n",
       "<tr>\n",
       "  <th>Time:</th>                 <td>12:41:12</td>     <th>  Log-Likelihood:    </th>          <td> -1426.7</td> \n",
       "</tr>\n",
       "<tr>\n",
       "  <th>No. Observations:</th>      <td>  1000</td>      <th>  AIC:               </th>          <td>   2857.</td> \n",
       "</tr>\n",
       "<tr>\n",
       "  <th>Df Residuals:</th>          <td>   998</td>      <th>  BIC:               </th>          <td>   2867.</td> \n",
       "</tr>\n",
       "<tr>\n",
       "  <th>Df Model:</th>              <td>     2</td>      <th>                     </th>              <td> </td>    \n",
       "</tr>\n",
       "<tr>\n",
       "  <th>Covariance Type:</th>      <td>nonrobust</td>    <th>                     </th>              <td> </td>    \n",
       "</tr>\n",
       "</table>\n",
       "<table class=\"simpletable\">\n",
       "<tr>\n",
       "   <td></td>     <th>coef</th>     <th>std err</th>      <th>t</th>      <th>P>|t|</th>  <th>[0.025</th>    <th>0.975]</th>  \n",
       "</tr>\n",
       "<tr>\n",
       "  <th>x1</th> <td>    2.5871</td> <td>    0.032</td> <td>   80.992</td> <td> 0.000</td> <td>    2.524</td> <td>    2.650</td>\n",
       "</tr>\n",
       "<tr>\n",
       "  <th>x2</th> <td>    5.0237</td> <td>    0.049</td> <td>  103.195</td> <td> 0.000</td> <td>    4.928</td> <td>    5.119</td>\n",
       "</tr>\n",
       "</table>\n",
       "<table class=\"simpletable\">\n",
       "<tr>\n",
       "  <th>Omnibus:</th>       <td> 1.588</td> <th>  Durbin-Watson:     </th> <td>   1.989</td>\n",
       "</tr>\n",
       "<tr>\n",
       "  <th>Prob(Omnibus):</th> <td> 0.452</td> <th>  Jarque-Bera (JB):  </th> <td>   1.600</td>\n",
       "</tr>\n",
       "<tr>\n",
       "  <th>Skew:</th>          <td> 0.053</td> <th>  Prob(JB):          </th> <td>   0.449</td>\n",
       "</tr>\n",
       "<tr>\n",
       "  <th>Kurtosis:</th>      <td> 2.836</td> <th>  Cond. No.          </th> <td>    2.09</td>\n",
       "</tr>\n",
       "</table><br/><br/>Notes:<br/>[1] R² is computed without centering (uncentered) since the model does not contain a constant.<br/>[2] Standard Errors assume that the covariance matrix of the errors is correctly specified."
      ],
      "text/plain": [
       "<class 'statsmodels.iolib.summary.Summary'>\n",
       "\"\"\"\n",
       "                                 OLS Regression Results                                \n",
       "=======================================================================================\n",
       "Dep. Variable:                      y   R-squared (uncentered):                   0.973\n",
       "Model:                            OLS   Adj. R-squared (uncentered):              0.973\n",
       "Method:                 Least Squares   F-statistic:                          1.808e+04\n",
       "Date:                Thu, 28 Jul 2022   Prob (F-statistic):                        0.00\n",
       "Time:                        12:41:12   Log-Likelihood:                         -1426.7\n",
       "No. Observations:                1000   AIC:                                      2857.\n",
       "Df Residuals:                     998   BIC:                                      2867.\n",
       "Df Model:                           2                                                  \n",
       "Covariance Type:            nonrobust                                                  \n",
       "==============================================================================\n",
       "                 coef    std err          t      P>|t|      [0.025      0.975]\n",
       "------------------------------------------------------------------------------\n",
       "x1             2.5871      0.032     80.992      0.000       2.524       2.650\n",
       "x2             5.0237      0.049    103.195      0.000       4.928       5.119\n",
       "==============================================================================\n",
       "Omnibus:                        1.588   Durbin-Watson:                   1.989\n",
       "Prob(Omnibus):                  0.452   Jarque-Bera (JB):                1.600\n",
       "Skew:                           0.053   Prob(JB):                        0.449\n",
       "Kurtosis:                       2.836   Cond. No.                         2.09\n",
       "==============================================================================\n",
       "\n",
       "Notes:\n",
       "[1] R² is computed without centering (uncentered) since the model does not contain a constant.\n",
       "[2] Standard Errors assume that the covariance matrix of the errors is correctly specified.\n",
       "\"\"\""
      ]
     },
     "execution_count": 10,
     "metadata": {},
     "output_type": "execute_result"
    }
   ],
   "source": [
    "model = OLS(np.asarray(df[outcome]), np.asarray(df[[common_cause, treatment]], dtype=np.float64))\n",
    "result = model.fit()\n",
    "result.summary()"
   ]
  }
 ],
 "metadata": {
  "kernelspec": {
   "display_name": "Python 3",
   "language": "python",
   "name": "python3"
  },
  "language_info": {
   "codemirror_mode": {
    "name": "ipython",
    "version": 3
   },
   "file_extension": ".py",
   "mimetype": "text/x-python",
   "name": "python",
   "nbconvert_exporter": "python",
   "pygments_lexer": "ipython3",
   "version": "3.8.10"
  },
  "toc": {
   "base_numbering": 1,
   "nav_menu": {},
   "number_sections": false,
   "sideBar": true,
   "skip_h1_title": true,
   "title_cell": "Table of Contents",
   "title_sidebar": "Contents",
   "toc_cell": false,
   "toc_position": {},
   "toc_section_display": true,
   "toc_window_display": false
  }
 },
 "nbformat": 4,
 "nbformat_minor": 4
}
