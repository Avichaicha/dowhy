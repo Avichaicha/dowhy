{
 "cells": [
  {
   "cell_type": "markdown",
   "metadata": {},
   "source": [
    "# Demo for the DoWhy causal API\n",
    "We show a simple example of adding a causal extension to any dataframe. "
   ]
  },
  {
   "cell_type": "code",
   "execution_count": 1,
   "metadata": {
    "execution": {
     "iopub.execute_input": "2022-08-16T15:09:15.039923Z",
     "iopub.status.busy": "2022-08-16T15:09:15.039577Z",
     "iopub.status.idle": "2022-08-16T15:09:16.541591Z",
     "shell.execute_reply": "2022-08-16T15:09:16.540663Z"
    }
   },
   "outputs": [],
   "source": [
    "import dowhy.datasets\n",
    "import dowhy.api\n",
    "\n",
    "import numpy as np\n",
    "import pandas as pd\n",
    "\n",
    "from statsmodels.api import OLS"
   ]
  },
  {
   "cell_type": "code",
   "execution_count": 2,
   "metadata": {
    "execution": {
     "iopub.execute_input": "2022-08-16T15:09:16.546404Z",
     "iopub.status.busy": "2022-08-16T15:09:16.545850Z",
     "iopub.status.idle": "2022-08-16T15:09:16.612442Z",
     "shell.execute_reply": "2022-08-16T15:09:16.611541Z"
    }
   },
   "outputs": [
    {
     "data": {
      "text/html": [
       "<div>\n",
       "<style scoped>\n",
       "    .dataframe tbody tr th:only-of-type {\n",
       "        vertical-align: middle;\n",
       "    }\n",
       "\n",
       "    .dataframe tbody tr th {\n",
       "        vertical-align: top;\n",
       "    }\n",
       "\n",
       "    .dataframe thead th {\n",
       "        text-align: right;\n",
       "    }\n",
       "</style>\n",
       "<table border=\"1\" class=\"dataframe\">\n",
       "  <thead>\n",
       "    <tr style=\"text-align: right;\">\n",
       "      <th></th>\n",
       "      <th>W0</th>\n",
       "      <th>v0</th>\n",
       "      <th>y</th>\n",
       "    </tr>\n",
       "  </thead>\n",
       "  <tbody>\n",
       "    <tr>\n",
       "      <th>0</th>\n",
       "      <td>0.637590</td>\n",
       "      <td>True</td>\n",
       "      <td>6.520693</td>\n",
       "    </tr>\n",
       "    <tr>\n",
       "      <th>1</th>\n",
       "      <td>0.801579</td>\n",
       "      <td>True</td>\n",
       "      <td>5.108779</td>\n",
       "    </tr>\n",
       "    <tr>\n",
       "      <th>2</th>\n",
       "      <td>0.881458</td>\n",
       "      <td>True</td>\n",
       "      <td>6.467110</td>\n",
       "    </tr>\n",
       "    <tr>\n",
       "      <th>3</th>\n",
       "      <td>1.027056</td>\n",
       "      <td>True</td>\n",
       "      <td>7.864867</td>\n",
       "    </tr>\n",
       "    <tr>\n",
       "      <th>4</th>\n",
       "      <td>-0.413940</td>\n",
       "      <td>True</td>\n",
       "      <td>4.238949</td>\n",
       "    </tr>\n",
       "    <tr>\n",
       "      <th>...</th>\n",
       "      <td>...</td>\n",
       "      <td>...</td>\n",
       "      <td>...</td>\n",
       "    </tr>\n",
       "    <tr>\n",
       "      <th>995</th>\n",
       "      <td>-2.033826</td>\n",
       "      <td>False</td>\n",
       "      <td>-4.672260</td>\n",
       "    </tr>\n",
       "    <tr>\n",
       "      <th>996</th>\n",
       "      <td>0.365811</td>\n",
       "      <td>True</td>\n",
       "      <td>6.945674</td>\n",
       "    </tr>\n",
       "    <tr>\n",
       "      <th>997</th>\n",
       "      <td>0.578434</td>\n",
       "      <td>True</td>\n",
       "      <td>6.579019</td>\n",
       "    </tr>\n",
       "    <tr>\n",
       "      <th>998</th>\n",
       "      <td>-0.980167</td>\n",
       "      <td>True</td>\n",
       "      <td>2.991995</td>\n",
       "    </tr>\n",
       "    <tr>\n",
       "      <th>999</th>\n",
       "      <td>-1.437695</td>\n",
       "      <td>False</td>\n",
       "      <td>-2.970009</td>\n",
       "    </tr>\n",
       "  </tbody>\n",
       "</table>\n",
       "<p>1000 rows × 3 columns</p>\n",
       "</div>"
      ],
      "text/plain": [
       "           W0     v0         y\n",
       "0    0.637590   True  6.520693\n",
       "1    0.801579   True  5.108779\n",
       "2    0.881458   True  6.467110\n",
       "3    1.027056   True  7.864867\n",
       "4   -0.413940   True  4.238949\n",
       "..        ...    ...       ...\n",
       "995 -2.033826  False -4.672260\n",
       "996  0.365811   True  6.945674\n",
       "997  0.578434   True  6.579019\n",
       "998 -0.980167   True  2.991995\n",
       "999 -1.437695  False -2.970009\n",
       "\n",
       "[1000 rows x 3 columns]"
      ]
     },
     "execution_count": 2,
     "metadata": {},
     "output_type": "execute_result"
    }
   ],
   "source": [
    "data = dowhy.datasets.linear_dataset(beta=5,\n",
    "        num_common_causes=1,\n",
    "        num_instruments = 0,\n",
    "        num_samples=1000,\n",
    "        treatment_is_binary=True)\n",
    "df = data['df']\n",
    "df['y'] = df['y'] + np.random.normal(size=len(df)) # Adding noise to data. Without noise, the variance in Y|X, Z is zero, and mcmc fails.\n",
    "#data['dot_graph'] = 'digraph { v ->y;X0-> v;X0-> y;}'\n",
    "\n",
    "treatment= data[\"treatment_name\"][0]\n",
    "outcome = data[\"outcome_name\"][0]\n",
    "common_cause = data[\"common_causes_names\"][0]\n",
    "df"
   ]
  },
  {
   "cell_type": "code",
   "execution_count": 3,
   "metadata": {
    "execution": {
     "iopub.execute_input": "2022-08-16T15:09:16.616915Z",
     "iopub.status.busy": "2022-08-16T15:09:16.616524Z",
     "iopub.status.idle": "2022-08-16T15:09:17.622076Z",
     "shell.execute_reply": "2022-08-16T15:09:17.621163Z"
    }
   },
   "outputs": [
    {
     "data": {
      "text/plain": [
       "<AxesSubplot:xlabel='v0'>"
      ]
     },
     "execution_count": 3,
     "metadata": {},
     "output_type": "execute_result"
    },
    {
     "data": {
      "image/png": "[encoded data removed]",
      "text/plain": [
       "<Figure size 432x288 with 1 Axes>"
      ]
     },
     "metadata": {
      "needs_background": "light"
     },
     "output_type": "display_data"
    }
   ],
   "source": [
    "# data['df'] is just a regular pandas.DataFrame\n",
    "df.causal.do(x=treatment,\n",
    "                     variable_types={treatment: 'b', outcome: 'c', common_cause: 'c'},\n",
    "                     outcome=outcome,\n",
    "                     common_causes=[common_cause],\n",
    "                     proceed_when_unidentifiable=True).groupby(treatment).mean().plot(y=outcome, kind='bar')"
   ]
  },
  {
   "cell_type": "code",
   "execution_count": 4,
   "metadata": {
    "execution": {
     "iopub.execute_input": "2022-08-16T15:09:17.628005Z",
     "iopub.status.busy": "2022-08-16T15:09:17.627302Z",
     "iopub.status.idle": "2022-08-16T15:09:17.787122Z",
     "shell.execute_reply": "2022-08-16T15:09:17.786209Z"
    }
   },
   "outputs": [
    {
     "data": {
      "text/plain": [
       "<AxesSubplot:xlabel='v0'>"
      ]
     },
     "execution_count": 4,
     "metadata": {},
     "output_type": "execute_result"
    },
    {
     "data": {
      "image/png": "[encoded data removed]",
      "text/plain": [
       "<Figure size 432x288 with 1 Axes>"
      ]
     },
     "metadata": {
      "needs_background": "light"
     },
     "output_type": "display_data"
    }
   ],
   "source": [
    "df.causal.do(x={treatment: 1}, \n",
    "              variable_types={treatment:'b', outcome: 'c', common_cause: 'c'}, \n",
    "              outcome=outcome,\n",
    "              method='weighting', \n",
    "              common_causes=[common_cause],\n",
    "              proceed_when_unidentifiable=True).groupby(treatment).mean().plot(y=outcome, kind='bar')"
   ]
  },
  {
   "cell_type": "code",
   "execution_count": 5,
   "metadata": {
    "execution": {
     "iopub.execute_input": "2022-08-16T15:09:17.791438Z",
     "iopub.status.busy": "2022-08-16T15:09:17.790697Z",
     "iopub.status.idle": "2022-08-16T15:09:17.837171Z",
     "shell.execute_reply": "2022-08-16T15:09:17.836233Z"
    }
   },
   "outputs": [],
   "source": [
    "cdf_1 = df.causal.do(x={treatment: 1}, \n",
    "              variable_types={treatment: 'b', outcome: 'c', common_cause: 'c'}, \n",
    "              outcome=outcome, \n",
    "              dot_graph=data['dot_graph'],\n",
    "              proceed_when_unidentifiable=True)\n",
    "\n",
    "cdf_0 = df.causal.do(x={treatment: 0}, \n",
    "              variable_types={treatment: 'b', outcome: 'c', common_cause: 'c'}, \n",
    "              outcome=outcome, \n",
    "              dot_graph=data['dot_graph'],\n",
    "              proceed_when_unidentifiable=True)\n"
   ]
  },
  {
   "cell_type": "code",
   "execution_count": 6,
   "metadata": {
    "execution": {
     "iopub.execute_input": "2022-08-16T15:09:17.843175Z",
     "iopub.status.busy": "2022-08-16T15:09:17.841415Z",
     "iopub.status.idle": "2022-08-16T15:09:17.859211Z",
     "shell.execute_reply": "2022-08-16T15:09:17.858334Z"
    },
    "scrolled": true
   },
   "outputs": [
    {
     "data": {
      "text/html": [
       "<div>\n",
       "<style scoped>\n",
       "    .dataframe tbody tr th:only-of-type {\n",
       "        vertical-align: middle;\n",
       "    }\n",
       "\n",
       "    .dataframe tbody tr th {\n",
       "        vertical-align: top;\n",
       "    }\n",
       "\n",
       "    .dataframe thead th {\n",
       "        text-align: right;\n",
       "    }\n",
       "</style>\n",
       "<table border=\"1\" class=\"dataframe\">\n",
       "  <thead>\n",
       "    <tr style=\"text-align: right;\">\n",
       "      <th></th>\n",
       "      <th>W0</th>\n",
       "      <th>v0</th>\n",
       "      <th>y</th>\n",
       "      <th>propensity_score</th>\n",
       "      <th>weight</th>\n",
       "    </tr>\n",
       "  </thead>\n",
       "  <tbody>\n",
       "    <tr>\n",
       "      <th>0</th>\n",
       "      <td>1.579442</td>\n",
       "      <td>False</td>\n",
       "      <td>4.658501</td>\n",
       "      <td>0.030291</td>\n",
       "      <td>33.012818</td>\n",
       "    </tr>\n",
       "    <tr>\n",
       "      <th>1</th>\n",
       "      <td>0.554920</td>\n",
       "      <td>False</td>\n",
       "      <td>1.477736</td>\n",
       "      <td>0.221619</td>\n",
       "      <td>4.512239</td>\n",
       "    </tr>\n",
       "    <tr>\n",
       "      <th>2</th>\n",
       "      <td>-0.064982</td>\n",
       "      <td>False</td>\n",
       "      <td>-0.911863</td>\n",
       "      <td>0.520206</td>\n",
       "      <td>1.922316</td>\n",
       "    </tr>\n",
       "    <tr>\n",
       "      <th>3</th>\n",
       "      <td>-0.040639</td>\n",
       "      <td>False</td>\n",
       "      <td>0.488671</td>\n",
       "      <td>0.507089</td>\n",
       "      <td>1.972039</td>\n",
       "    </tr>\n",
       "    <tr>\n",
       "      <th>4</th>\n",
       "      <td>1.433814</td>\n",
       "      <td>False</td>\n",
       "      <td>3.050066</td>\n",
       "      <td>0.041012</td>\n",
       "      <td>24.383177</td>\n",
       "    </tr>\n",
       "    <tr>\n",
       "      <th>...</th>\n",
       "      <td>...</td>\n",
       "      <td>...</td>\n",
       "      <td>...</td>\n",
       "      <td>...</td>\n",
       "      <td>...</td>\n",
       "    </tr>\n",
       "    <tr>\n",
       "      <th>995</th>\n",
       "      <td>-0.497993</td>\n",
       "      <td>False</td>\n",
       "      <td>-0.110081</td>\n",
       "      <td>0.733971</td>\n",
       "      <td>1.362451</td>\n",
       "    </tr>\n",
       "    <tr>\n",
       "      <th>996</th>\n",
       "      <td>0.870370</td>\n",
       "      <td>False</td>\n",
       "      <td>-0.180057</td>\n",
       "      <td>0.126014</td>\n",
       "      <td>7.935650</td>\n",
       "    </tr>\n",
       "    <tr>\n",
       "      <th>997</th>\n",
       "      <td>1.822110</td>\n",
       "      <td>False</td>\n",
       "      <td>6.324910</td>\n",
       "      <td>0.018171</td>\n",
       "      <td>55.031483</td>\n",
       "    </tr>\n",
       "    <tr>\n",
       "      <th>998</th>\n",
       "      <td>0.300758</td>\n",
       "      <td>False</td>\n",
       "      <td>0.346585</td>\n",
       "      <td>0.330035</td>\n",
       "      <td>3.029985</td>\n",
       "    </tr>\n",
       "    <tr>\n",
       "      <th>999</th>\n",
       "      <td>1.242799</td>\n",
       "      <td>False</td>\n",
       "      <td>3.708571</td>\n",
       "      <td>0.060654</td>\n",
       "      <td>16.486994</td>\n",
       "    </tr>\n",
       "  </tbody>\n",
       "</table>\n",
       "<p>1000 rows × 5 columns</p>\n",
       "</div>"
      ],
      "text/plain": [
       "           W0     v0         y  propensity_score     weight\n",
       "0    1.579442  False  4.658501          0.030291  33.012818\n",
       "1    0.554920  False  1.477736          0.221619   4.512239\n",
       "2   -0.064982  False -0.911863          0.520206   1.922316\n",
       "3   -0.040639  False  0.488671          0.507089   1.972039\n",
       "4    1.433814  False  3.050066          0.041012  24.383177\n",
       "..        ...    ...       ...               ...        ...\n",
       "995 -0.497993  False -0.110081          0.733971   1.362451\n",
       "996  0.870370  False -0.180057          0.126014   7.935650\n",
       "997  1.822110  False  6.324910          0.018171  55.031483\n",
       "998  0.300758  False  0.346585          0.330035   3.029985\n",
       "999  1.242799  False  3.708571          0.060654  16.486994\n",
       "\n",
       "[1000 rows x 5 columns]"
      ]
     },
     "execution_count": 6,
     "metadata": {},
     "output_type": "execute_result"
    }
   ],
   "source": [
    "cdf_0"
   ]
  },
  {
   "cell_type": "code",
   "execution_count": 7,
   "metadata": {
    "execution": {
     "iopub.execute_input": "2022-08-16T15:09:17.862933Z",
     "iopub.status.busy": "2022-08-16T15:09:17.862577Z",
     "iopub.status.idle": "2022-08-16T15:09:17.878205Z",
     "shell.execute_reply": "2022-08-16T15:09:17.877251Z"
    }
   },
   "outputs": [
    {
     "data": {
      "text/html": [
       "<div>\n",
       "<style scoped>\n",
       "    .dataframe tbody tr th:only-of-type {\n",
       "        vertical-align: middle;\n",
       "    }\n",
       "\n",
       "    .dataframe tbody tr th {\n",
       "        vertical-align: top;\n",
       "    }\n",
       "\n",
       "    .dataframe thead th {\n",
       "        text-align: right;\n",
       "    }\n",
       "</style>\n",
       "<table border=\"1\" class=\"dataframe\">\n",
       "  <thead>\n",
       "    <tr style=\"text-align: right;\">\n",
       "      <th></th>\n",
       "      <th>W0</th>\n",
       "      <th>v0</th>\n",
       "      <th>y</th>\n",
       "      <th>propensity_score</th>\n",
       "      <th>weight</th>\n",
       "    </tr>\n",
       "  </thead>\n",
       "  <tbody>\n",
       "    <tr>\n",
       "      <th>0</th>\n",
       "      <td>-1.204140</td>\n",
       "      <td>True</td>\n",
       "      <td>2.215767</td>\n",
       "      <td>0.073236</td>\n",
       "      <td>13.654566</td>\n",
       "    </tr>\n",
       "    <tr>\n",
       "      <th>1</th>\n",
       "      <td>0.280433</td>\n",
       "      <td>True</td>\n",
       "      <td>5.303875</td>\n",
       "      <td>0.660201</td>\n",
       "      <td>1.514690</td>\n",
       "    </tr>\n",
       "    <tr>\n",
       "      <th>2</th>\n",
       "      <td>0.343850</td>\n",
       "      <td>True</td>\n",
       "      <td>4.687326</td>\n",
       "      <td>0.690184</td>\n",
       "      <td>1.448890</td>\n",
       "    </tr>\n",
       "    <tr>\n",
       "      <th>3</th>\n",
       "      <td>0.266575</td>\n",
       "      <td>True</td>\n",
       "      <td>5.723177</td>\n",
       "      <td>0.653463</td>\n",
       "      <td>1.530308</td>\n",
       "    </tr>\n",
       "    <tr>\n",
       "      <th>4</th>\n",
       "      <td>1.365876</td>\n",
       "      <td>True</td>\n",
       "      <td>7.593208</td>\n",
       "      <td>0.952821</td>\n",
       "      <td>1.049515</td>\n",
       "    </tr>\n",
       "    <tr>\n",
       "      <th>...</th>\n",
       "      <td>...</td>\n",
       "      <td>...</td>\n",
       "      <td>...</td>\n",
       "      <td>...</td>\n",
       "      <td>...</td>\n",
       "    </tr>\n",
       "    <tr>\n",
       "      <th>995</th>\n",
       "      <td>2.759252</td>\n",
       "      <td>True</td>\n",
       "      <td>10.195722</td>\n",
       "      <td>0.997554</td>\n",
       "      <td>1.002452</td>\n",
       "    </tr>\n",
       "    <tr>\n",
       "      <th>996</th>\n",
       "      <td>0.467647</td>\n",
       "      <td>True</td>\n",
       "      <td>4.917021</td>\n",
       "      <td>0.744218</td>\n",
       "      <td>1.343692</td>\n",
       "    </tr>\n",
       "    <tr>\n",
       "      <th>997</th>\n",
       "      <td>0.650123</td>\n",
       "      <td>True</td>\n",
       "      <td>5.974208</td>\n",
       "      <td>0.811778</td>\n",
       "      <td>1.231864</td>\n",
       "    </tr>\n",
       "    <tr>\n",
       "      <th>998</th>\n",
       "      <td>1.297095</td>\n",
       "      <td>True</td>\n",
       "      <td>7.577031</td>\n",
       "      <td>0.945685</td>\n",
       "      <td>1.057434</td>\n",
       "    </tr>\n",
       "    <tr>\n",
       "      <th>999</th>\n",
       "      <td>-0.396827</td>\n",
       "      <td>True</td>\n",
       "      <td>4.852280</td>\n",
       "      <td>0.310742</td>\n",
       "      <td>3.218104</td>\n",
       "    </tr>\n",
       "  </tbody>\n",
       "</table>\n",
       "<p>1000 rows × 5 columns</p>\n",
       "</div>"
      ],
      "text/plain": [
       "           W0    v0          y  propensity_score     weight\n",
       "0   -1.204140  True   2.215767          0.073236  13.654566\n",
       "1    0.280433  True   5.303875          0.660201   1.514690\n",
       "2    0.343850  True   4.687326          0.690184   1.448890\n",
       "3    0.266575  True   5.723177          0.653463   1.530308\n",
       "4    1.365876  True   7.593208          0.952821   1.049515\n",
       "..        ...   ...        ...               ...        ...\n",
       "995  2.759252  True  10.195722          0.997554   1.002452\n",
       "996  0.467647  True   4.917021          0.744218   1.343692\n",
       "997  0.650123  True   5.974208          0.811778   1.231864\n",
       "998  1.297095  True   7.577031          0.945685   1.057434\n",
       "999 -0.396827  True   4.852280          0.310742   3.218104\n",
       "\n",
       "[1000 rows x 5 columns]"
      ]
     },
     "execution_count": 7,
     "metadata": {},
     "output_type": "execute_result"
    }
   ],
   "source": [
    "cdf_1"
   ]
  },
  {
   "cell_type": "markdown",
   "metadata": {},
   "source": [
    "## Comparing the estimate to Linear Regression\n",
    "First, estimating the effect using the causal data frame, and the 95% confidence interval."
   ]
  },
  {
   "cell_type": "code",
   "execution_count": 8,
   "metadata": {
    "execution": {
     "iopub.execute_input": "2022-08-16T15:09:17.881936Z",
     "iopub.status.busy": "2022-08-16T15:09:17.881678Z",
     "iopub.status.idle": "2022-08-16T15:09:18.016230Z",
     "shell.execute_reply": "2022-08-16T15:09:18.015275Z"
    }
   },
   "outputs": [
    {
     "data": {
      "image/png": "[encoded data removed]",
      "text/latex": [
       "$\\displaystyle 5.22139833801877$"
      ],
      "text/plain": [
       "5.221398338018773"
      ]
     },
     "execution_count": 8,
     "metadata": {},
     "output_type": "execute_result"
    }
   ],
   "source": [
    "(cdf_1['y'] - cdf_0['y']).mean()"
   ]
  },
  {
   "cell_type": "code",
   "execution_count": 9,
   "metadata": {
    "execution": {
     "iopub.execute_input": "2022-08-16T15:09:18.020645Z",
     "iopub.status.busy": "2022-08-16T15:09:18.020041Z",
     "iopub.status.idle": "2022-08-16T15:09:18.054316Z",
     "shell.execute_reply": "2022-08-16T15:09:18.053469Z"
    }
   },
   "outputs": [
    {
     "data": {
      "image/png": "[encoded data removed]",
      "text/latex": [
       "$\\displaystyle 0.208167071403689$"
      ],
      "text/plain": [
       "0.20816707140368876"
      ]
     },
     "execution_count": 9,
     "metadata": {},
     "output_type": "execute_result"
    }
   ],
   "source": [
    "1.96*(cdf_1['y'] - cdf_0['y']).std() / np.sqrt(len(df))"
   ]
  },
  {
   "cell_type": "markdown",
   "metadata": {},
   "source": [
    "Comparing to the estimate from OLS."
   ]
  },
  {
   "cell_type": "code",
   "execution_count": 10,
   "metadata": {
    "execution": {
     "iopub.execute_input": "2022-08-16T15:09:18.058439Z",
     "iopub.status.busy": "2022-08-16T15:09:18.058152Z",
     "iopub.status.idle": "2022-08-16T15:09:18.081028Z",
     "shell.execute_reply": "2022-08-16T15:09:18.079951Z"
    }
   },
   "outputs": [
    {
     "data": {
      "text/html": [
       "<table class=\"simpletable\">\n",
       "<caption>OLS Regression Results</caption>\n",
       "<tr>\n",
       "  <th>Dep. Variable:</th>            <td>y</td>        <th>  R-squared (uncentered):</th>      <td>   0.971</td> \n",
       "</tr>\n",
       "<tr>\n",
       "  <th>Model:</th>                   <td>OLS</td>       <th>  Adj. R-squared (uncentered):</th> <td>   0.971</td> \n",
       "</tr>\n",
       "<tr>\n",
       "  <th>Method:</th>             <td>Least Squares</td>  <th>  F-statistic:       </th>          <td>1.662e+04</td>\n",
       "</tr>\n",
       "<tr>\n",
       "  <th>Date:</th>             <td>Tue, 16 Aug 2022</td> <th>  Prob (F-statistic):</th>           <td>  0.00</td>  \n",
       "</tr>\n",
       "<tr>\n",
       "  <th>Time:</th>                 <td>15:09:18</td>     <th>  Log-Likelihood:    </th>          <td> -1400.3</td> \n",
       "</tr>\n",
       "<tr>\n",
       "  <th>No. Observations:</th>      <td>  1000</td>      <th>  AIC:               </th>          <td>   2805.</td> \n",
       "</tr>\n",
       "<tr>\n",
       "  <th>Df Residuals:</th>          <td>   998</td>      <th>  BIC:               </th>          <td>   2814.</td> \n",
       "</tr>\n",
       "<tr>\n",
       "  <th>Df Model:</th>              <td>     2</td>      <th>                     </th>              <td> </td>    \n",
       "</tr>\n",
       "<tr>\n",
       "  <th>Covariance Type:</th>      <td>nonrobust</td>    <th>                     </th>              <td> </td>    \n",
       "</tr>\n",
       "</table>\n",
       "<table class=\"simpletable\">\n",
       "<tr>\n",
       "   <td></td>     <th>coef</th>     <th>std err</th>      <th>t</th>      <th>P>|t|</th>  <th>[0.025</th>    <th>0.975]</th>  \n",
       "</tr>\n",
       "<tr>\n",
       "  <th>x1</th> <td>    2.1617</td> <td>    0.038</td> <td>   56.876</td> <td> 0.000</td> <td>    2.087</td> <td>    2.236</td>\n",
       "</tr>\n",
       "<tr>\n",
       "  <th>x2</th> <td>    4.9499</td> <td>    0.051</td> <td>   97.982</td> <td> 0.000</td> <td>    4.851</td> <td>    5.049</td>\n",
       "</tr>\n",
       "</table>\n",
       "<table class=\"simpletable\">\n",
       "<tr>\n",
       "  <th>Omnibus:</th>       <td> 4.500</td> <th>  Durbin-Watson:     </th> <td>   2.095</td>\n",
       "</tr>\n",
       "<tr>\n",
       "  <th>Prob(Omnibus):</th> <td> 0.105</td> <th>  Jarque-Bera (JB):  </th> <td>   4.572</td>\n",
       "</tr>\n",
       "<tr>\n",
       "  <th>Skew:</th>          <td> 0.161</td> <th>  Prob(JB):          </th> <td>   0.102</td>\n",
       "</tr>\n",
       "<tr>\n",
       "  <th>Kurtosis:</th>      <td> 2.921</td> <th>  Cond. No.          </th> <td>    2.25</td>\n",
       "</tr>\n",
       "</table><br/><br/>Notes:<br/>[1] R² is computed without centering (uncentered) since the model does not contain a constant.<br/>[2] Standard Errors assume that the covariance matrix of the errors is correctly specified."
      ],
      "text/plain": [
       "<class 'statsmodels.iolib.summary.Summary'>\n",
       "\"\"\"\n",
       "                                 OLS Regression Results                                \n",
       "=======================================================================================\n",
       "Dep. Variable:                      y   R-squared (uncentered):                   0.971\n",
       "Model:                            OLS   Adj. R-squared (uncentered):              0.971\n",
       "Method:                 Least Squares   F-statistic:                          1.662e+04\n",
       "Date:                Tue, 16 Aug 2022   Prob (F-statistic):                        0.00\n",
       "Time:                        15:09:18   Log-Likelihood:                         -1400.3\n",
       "No. Observations:                1000   AIC:                                      2805.\n",
       "Df Residuals:                     998   BIC:                                      2814.\n",
       "Df Model:                           2                                                  \n",
       "Covariance Type:            nonrobust                                                  \n",
       "==============================================================================\n",
       "                 coef    std err          t      P>|t|      [0.025      0.975]\n",
       "------------------------------------------------------------------------------\n",
       "x1             2.1617      0.038     56.876      0.000       2.087       2.236\n",
       "x2             4.9499      0.051     97.982      0.000       4.851       5.049\n",
       "==============================================================================\n",
       "Omnibus:                        4.500   Durbin-Watson:                   2.095\n",
       "Prob(Omnibus):                  0.105   Jarque-Bera (JB):                4.572\n",
       "Skew:                           0.161   Prob(JB):                        0.102\n",
       "Kurtosis:                       2.921   Cond. No.                         2.25\n",
       "==============================================================================\n",
       "\n",
       "Notes:\n",
       "[1] R² is computed without centering (uncentered) since the model does not contain a constant.\n",
       "[2] Standard Errors assume that the covariance matrix of the errors is correctly specified.\n",
       "\"\"\""
      ]
     },
     "execution_count": 10,
     "metadata": {},
     "output_type": "execute_result"
    }
   ],
   "source": [
    "model = OLS(np.asarray(df[outcome]), np.asarray(df[[common_cause, treatment]], dtype=np.float64))\n",
    "result = model.fit()\n",
    "result.summary()"
   ]
  }
 ],
 "metadata": {
  "kernelspec": {
   "display_name": "Python 3",
   "language": "python",
   "name": "python3"
  },
  "language_info": {
   "codemirror_mode": {
    "name": "ipython",
    "version": 3
   },
   "file_extension": ".py",
   "mimetype": "text/x-python",
   "name": "python",
   "nbconvert_exporter": "python",
   "pygments_lexer": "ipython3",
   "version": "3.8.10"
  },
  "toc": {
   "base_numbering": 1,
   "nav_menu": {},
   "number_sections": false,
   "sideBar": true,
   "skip_h1_title": true,
   "title_cell": "Table of Contents",
   "title_sidebar": "Contents",
   "toc_cell": false,
   "toc_position": {},
   "toc_section_display": true,
   "toc_window_display": false
  }
 },
 "nbformat": 4,
 "nbformat_minor": 4
}
