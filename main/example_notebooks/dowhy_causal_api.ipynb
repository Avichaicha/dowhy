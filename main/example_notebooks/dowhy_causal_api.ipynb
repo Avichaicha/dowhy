{
 "cells": [
  {
   "cell_type": "markdown",
   "metadata": {},
   "source": [
    "# Demo for the DoWhy causal API\n",
    "We show a simple example of adding a causal extension to any dataframe. "
   ]
  },
  {
   "cell_type": "code",
   "execution_count": 1,
   "metadata": {
    "execution": {
     "iopub.execute_input": "2022-08-08T05:56:38.658520Z",
     "iopub.status.busy": "2022-08-08T05:56:38.657927Z",
     "iopub.status.idle": "2022-08-08T05:56:40.108990Z",
     "shell.execute_reply": "2022-08-08T05:56:40.107656Z"
    }
   },
   "outputs": [
    {
     "name": "stdout",
     "output_type": "stream",
     "text": [
      "keywords are unexpanded, not using\n"
     ]
    }
   ],
   "source": [
    "import dowhy.datasets\n",
    "import dowhy.api\n",
    "\n",
    "import numpy as np\n",
    "import pandas as pd\n",
    "\n",
    "from statsmodels.api import OLS"
   ]
  },
  {
   "cell_type": "code",
   "execution_count": 2,
   "metadata": {
    "execution": {
     "iopub.execute_input": "2022-08-08T05:56:40.115768Z",
     "iopub.status.busy": "2022-08-08T05:56:40.114757Z",
     "iopub.status.idle": "2022-08-08T05:56:40.173997Z",
     "shell.execute_reply": "2022-08-08T05:56:40.173082Z"
    }
   },
   "outputs": [
    {
     "data": {
      "text/html": [
       "<div>\n",
       "<style scoped>\n",
       "    .dataframe tbody tr th:only-of-type {\n",
       "        vertical-align: middle;\n",
       "    }\n",
       "\n",
       "    .dataframe tbody tr th {\n",
       "        vertical-align: top;\n",
       "    }\n",
       "\n",
       "    .dataframe thead th {\n",
       "        text-align: right;\n",
       "    }\n",
       "</style>\n",
       "<table border=\"1\" class=\"dataframe\">\n",
       "  <thead>\n",
       "    <tr style=\"text-align: right;\">\n",
       "      <th></th>\n",
       "      <th>W0</th>\n",
       "      <th>v0</th>\n",
       "      <th>y</th>\n",
       "    </tr>\n",
       "  </thead>\n",
       "  <tbody>\n",
       "    <tr>\n",
       "      <th>0</th>\n",
       "      <td>-0.679634</td>\n",
       "      <td>False</td>\n",
       "      <td>-2.593316</td>\n",
       "    </tr>\n",
       "    <tr>\n",
       "      <th>1</th>\n",
       "      <td>-0.441092</td>\n",
       "      <td>True</td>\n",
       "      <td>2.485349</td>\n",
       "    </tr>\n",
       "    <tr>\n",
       "      <th>2</th>\n",
       "      <td>1.145603</td>\n",
       "      <td>False</td>\n",
       "      <td>2.354726</td>\n",
       "    </tr>\n",
       "    <tr>\n",
       "      <th>3</th>\n",
       "      <td>-0.342231</td>\n",
       "      <td>True</td>\n",
       "      <td>5.452101</td>\n",
       "    </tr>\n",
       "    <tr>\n",
       "      <th>4</th>\n",
       "      <td>-1.336803</td>\n",
       "      <td>True</td>\n",
       "      <td>1.546126</td>\n",
       "    </tr>\n",
       "    <tr>\n",
       "      <th>...</th>\n",
       "      <td>...</td>\n",
       "      <td>...</td>\n",
       "      <td>...</td>\n",
       "    </tr>\n",
       "    <tr>\n",
       "      <th>995</th>\n",
       "      <td>-2.748101</td>\n",
       "      <td>False</td>\n",
       "      <td>-8.055462</td>\n",
       "    </tr>\n",
       "    <tr>\n",
       "      <th>996</th>\n",
       "      <td>2.153564</td>\n",
       "      <td>True</td>\n",
       "      <td>11.945566</td>\n",
       "    </tr>\n",
       "    <tr>\n",
       "      <th>997</th>\n",
       "      <td>1.272155</td>\n",
       "      <td>True</td>\n",
       "      <td>7.421047</td>\n",
       "    </tr>\n",
       "    <tr>\n",
       "      <th>998</th>\n",
       "      <td>-0.409430</td>\n",
       "      <td>True</td>\n",
       "      <td>4.439968</td>\n",
       "    </tr>\n",
       "    <tr>\n",
       "      <th>999</th>\n",
       "      <td>1.199533</td>\n",
       "      <td>True</td>\n",
       "      <td>8.728836</td>\n",
       "    </tr>\n",
       "  </tbody>\n",
       "</table>\n",
       "<p>1000 rows × 3 columns</p>\n",
       "</div>"
      ],
      "text/plain": [
       "           W0     v0          y\n",
       "0   -0.679634  False  -2.593316\n",
       "1   -0.441092   True   2.485349\n",
       "2    1.145603  False   2.354726\n",
       "3   -0.342231   True   5.452101\n",
       "4   -1.336803   True   1.546126\n",
       "..        ...    ...        ...\n",
       "995 -2.748101  False  -8.055462\n",
       "996  2.153564   True  11.945566\n",
       "997  1.272155   True   7.421047\n",
       "998 -0.409430   True   4.439968\n",
       "999  1.199533   True   8.728836\n",
       "\n",
       "[1000 rows x 3 columns]"
      ]
     },
     "execution_count": 2,
     "metadata": {},
     "output_type": "execute_result"
    }
   ],
   "source": [
    "data = dowhy.datasets.linear_dataset(beta=5,\n",
    "        num_common_causes=1,\n",
    "        num_instruments = 0,\n",
    "        num_samples=1000,\n",
    "        treatment_is_binary=True)\n",
    "df = data['df']\n",
    "df['y'] = df['y'] + np.random.normal(size=len(df)) # Adding noise to data. Without noise, the variance in Y|X, Z is zero, and mcmc fails.\n",
    "#data['dot_graph'] = 'digraph { v ->y;X0-> v;X0-> y;}'\n",
    "\n",
    "treatment= data[\"treatment_name\"][0]\n",
    "outcome = data[\"outcome_name\"][0]\n",
    "common_cause = data[\"common_causes_names\"][0]\n",
    "df"
   ]
  },
  {
   "cell_type": "code",
   "execution_count": 3,
   "metadata": {
    "execution": {
     "iopub.execute_input": "2022-08-08T05:56:40.177948Z",
     "iopub.status.busy": "2022-08-08T05:56:40.177171Z",
     "iopub.status.idle": "2022-08-08T05:56:41.122418Z",
     "shell.execute_reply": "2022-08-08T05:56:41.121742Z"
    }
   },
   "outputs": [
    {
     "data": {
      "text/plain": [
       "<AxesSubplot:xlabel='v0'>"
      ]
     },
     "execution_count": 3,
     "metadata": {},
     "output_type": "execute_result"
    },
    {
     "data": {
      "image/png": "[encoded data removed]",
      "text/plain": [
       "<Figure size 432x288 with 1 Axes>"
      ]
     },
     "metadata": {
      "needs_background": "light"
     },
     "output_type": "display_data"
    }
   ],
   "source": [
    "# data['df'] is just a regular pandas.DataFrame\n",
    "df.causal.do(x=treatment,\n",
    "                     variable_types={treatment: 'b', outcome: 'c', common_cause: 'c'},\n",
    "                     outcome=outcome,\n",
    "                     common_causes=[common_cause],\n",
    "                     proceed_when_unidentifiable=True).groupby(treatment).mean().plot(y=outcome, kind='bar')"
   ]
  },
  {
   "cell_type": "code",
   "execution_count": 4,
   "metadata": {
    "execution": {
     "iopub.execute_input": "2022-08-08T05:56:41.128062Z",
     "iopub.status.busy": "2022-08-08T05:56:41.126596Z",
     "iopub.status.idle": "2022-08-08T05:56:41.243125Z",
     "shell.execute_reply": "2022-08-08T05:56:41.242471Z"
    }
   },
   "outputs": [
    {
     "data": {
      "text/plain": [
       "<AxesSubplot:xlabel='v0'>"
      ]
     },
     "execution_count": 4,
     "metadata": {},
     "output_type": "execute_result"
    },
    {
     "data": {
      "image/png": "[encoded data removed]",
      "text/plain": [
       "<Figure size 432x288 with 1 Axes>"
      ]
     },
     "metadata": {
      "needs_background": "light"
     },
     "output_type": "display_data"
    }
   ],
   "source": [
    "df.causal.do(x={treatment: 1}, \n",
    "              variable_types={treatment:'b', outcome: 'c', common_cause: 'c'}, \n",
    "              outcome=outcome,\n",
    "              method='weighting', \n",
    "              common_causes=[common_cause],\n",
    "              proceed_when_unidentifiable=True).groupby(treatment).mean().plot(y=outcome, kind='bar')"
   ]
  },
  {
   "cell_type": "code",
   "execution_count": 5,
   "metadata": {
    "execution": {
     "iopub.execute_input": "2022-08-08T05:56:41.248281Z",
     "iopub.status.busy": "2022-08-08T05:56:41.246996Z",
     "iopub.status.idle": "2022-08-08T05:56:41.286485Z",
     "shell.execute_reply": "2022-08-08T05:56:41.285815Z"
    }
   },
   "outputs": [],
   "source": [
    "cdf_1 = df.causal.do(x={treatment: 1}, \n",
    "              variable_types={treatment: 'b', outcome: 'c', common_cause: 'c'}, \n",
    "              outcome=outcome, \n",
    "              dot_graph=data['dot_graph'],\n",
    "              proceed_when_unidentifiable=True)\n",
    "\n",
    "cdf_0 = df.causal.do(x={treatment: 0}, \n",
    "              variable_types={treatment: 'b', outcome: 'c', common_cause: 'c'}, \n",
    "              outcome=outcome, \n",
    "              dot_graph=data['dot_graph'],\n",
    "              proceed_when_unidentifiable=True)\n"
   ]
  },
  {
   "cell_type": "code",
   "execution_count": 6,
   "metadata": {
    "execution": {
     "iopub.execute_input": "2022-08-08T05:56:41.291651Z",
     "iopub.status.busy": "2022-08-08T05:56:41.290378Z",
     "iopub.status.idle": "2022-08-08T05:56:41.305469Z",
     "shell.execute_reply": "2022-08-08T05:56:41.304770Z"
    },
    "scrolled": true
   },
   "outputs": [
    {
     "data": {
      "text/html": [
       "<div>\n",
       "<style scoped>\n",
       "    .dataframe tbody tr th:only-of-type {\n",
       "        vertical-align: middle;\n",
       "    }\n",
       "\n",
       "    .dataframe tbody tr th {\n",
       "        vertical-align: top;\n",
       "    }\n",
       "\n",
       "    .dataframe thead th {\n",
       "        text-align: right;\n",
       "    }\n",
       "</style>\n",
       "<table border=\"1\" class=\"dataframe\">\n",
       "  <thead>\n",
       "    <tr style=\"text-align: right;\">\n",
       "      <th></th>\n",
       "      <th>W0</th>\n",
       "      <th>v0</th>\n",
       "      <th>y</th>\n",
       "      <th>propensity_score</th>\n",
       "      <th>weight</th>\n",
       "    </tr>\n",
       "  </thead>\n",
       "  <tbody>\n",
       "    <tr>\n",
       "      <th>0</th>\n",
       "      <td>-0.507299</td>\n",
       "      <td>False</td>\n",
       "      <td>-1.200376</td>\n",
       "      <td>0.713991</td>\n",
       "      <td>1.400579</td>\n",
       "    </tr>\n",
       "    <tr>\n",
       "      <th>1</th>\n",
       "      <td>0.003105</td>\n",
       "      <td>False</td>\n",
       "      <td>-1.482894</td>\n",
       "      <td>0.504084</td>\n",
       "      <td>1.983796</td>\n",
       "    </tr>\n",
       "    <tr>\n",
       "      <th>2</th>\n",
       "      <td>1.320254</td>\n",
       "      <td>False</td>\n",
       "      <td>5.186687</td>\n",
       "      <td>0.090928</td>\n",
       "      <td>10.997673</td>\n",
       "    </tr>\n",
       "    <tr>\n",
       "      <th>3</th>\n",
       "      <td>-0.544294</td>\n",
       "      <td>False</td>\n",
       "      <td>-1.838499</td>\n",
       "      <td>0.727102</td>\n",
       "      <td>1.375322</td>\n",
       "    </tr>\n",
       "    <tr>\n",
       "      <th>4</th>\n",
       "      <td>0.681023</td>\n",
       "      <td>False</td>\n",
       "      <td>1.395006</td>\n",
       "      <td>0.235581</td>\n",
       "      <td>4.244822</td>\n",
       "    </tr>\n",
       "    <tr>\n",
       "      <th>...</th>\n",
       "      <td>...</td>\n",
       "      <td>...</td>\n",
       "      <td>...</td>\n",
       "      <td>...</td>\n",
       "      <td>...</td>\n",
       "    </tr>\n",
       "    <tr>\n",
       "      <th>995</th>\n",
       "      <td>-0.362725</td>\n",
       "      <td>False</td>\n",
       "      <td>-0.841924</td>\n",
       "      <td>0.659336</td>\n",
       "      <td>1.516677</td>\n",
       "    </tr>\n",
       "    <tr>\n",
       "      <th>996</th>\n",
       "      <td>-0.667596</td>\n",
       "      <td>False</td>\n",
       "      <td>0.993312</td>\n",
       "      <td>0.767996</td>\n",
       "      <td>1.302090</td>\n",
       "    </tr>\n",
       "    <tr>\n",
       "      <th>997</th>\n",
       "      <td>1.320254</td>\n",
       "      <td>False</td>\n",
       "      <td>5.186687</td>\n",
       "      <td>0.090928</td>\n",
       "      <td>10.997673</td>\n",
       "    </tr>\n",
       "    <tr>\n",
       "      <th>998</th>\n",
       "      <td>-2.004134</td>\n",
       "      <td>False</td>\n",
       "      <td>-5.996709</td>\n",
       "      <td>0.972073</td>\n",
       "      <td>1.028729</td>\n",
       "    </tr>\n",
       "    <tr>\n",
       "      <th>999</th>\n",
       "      <td>0.778212</td>\n",
       "      <td>False</td>\n",
       "      <td>2.667596</td>\n",
       "      <td>0.206173</td>\n",
       "      <td>4.850294</td>\n",
       "    </tr>\n",
       "  </tbody>\n",
       "</table>\n",
       "<p>1000 rows × 5 columns</p>\n",
       "</div>"
      ],
      "text/plain": [
       "           W0     v0         y  propensity_score     weight\n",
       "0   -0.507299  False -1.200376          0.713991   1.400579\n",
       "1    0.003105  False -1.482894          0.504084   1.983796\n",
       "2    1.320254  False  5.186687          0.090928  10.997673\n",
       "3   -0.544294  False -1.838499          0.727102   1.375322\n",
       "4    0.681023  False  1.395006          0.235581   4.244822\n",
       "..        ...    ...       ...               ...        ...\n",
       "995 -0.362725  False -0.841924          0.659336   1.516677\n",
       "996 -0.667596  False  0.993312          0.767996   1.302090\n",
       "997  1.320254  False  5.186687          0.090928  10.997673\n",
       "998 -2.004134  False -5.996709          0.972073   1.028729\n",
       "999  0.778212  False  2.667596          0.206173   4.850294\n",
       "\n",
       "[1000 rows x 5 columns]"
      ]
     },
     "execution_count": 6,
     "metadata": {},
     "output_type": "execute_result"
    }
   ],
   "source": [
    "cdf_0"
   ]
  },
  {
   "cell_type": "code",
   "execution_count": 7,
   "metadata": {
    "execution": {
     "iopub.execute_input": "2022-08-08T05:56:41.308910Z",
     "iopub.status.busy": "2022-08-08T05:56:41.308283Z",
     "iopub.status.idle": "2022-08-08T05:56:41.324105Z",
     "shell.execute_reply": "2022-08-08T05:56:41.322938Z"
    }
   },
   "outputs": [
    {
     "data": {
      "text/html": [
       "<div>\n",
       "<style scoped>\n",
       "    .dataframe tbody tr th:only-of-type {\n",
       "        vertical-align: middle;\n",
       "    }\n",
       "\n",
       "    .dataframe tbody tr th {\n",
       "        vertical-align: top;\n",
       "    }\n",
       "\n",
       "    .dataframe thead th {\n",
       "        text-align: right;\n",
       "    }\n",
       "</style>\n",
       "<table border=\"1\" class=\"dataframe\">\n",
       "  <thead>\n",
       "    <tr style=\"text-align: right;\">\n",
       "      <th></th>\n",
       "      <th>W0</th>\n",
       "      <th>v0</th>\n",
       "      <th>y</th>\n",
       "      <th>propensity_score</th>\n",
       "      <th>weight</th>\n",
       "    </tr>\n",
       "  </thead>\n",
       "  <tbody>\n",
       "    <tr>\n",
       "      <th>0</th>\n",
       "      <td>-1.035684</td>\n",
       "      <td>True</td>\n",
       "      <td>3.322262</td>\n",
       "      <td>0.136460</td>\n",
       "      <td>7.328140</td>\n",
       "    </tr>\n",
       "    <tr>\n",
       "      <th>1</th>\n",
       "      <td>-0.296226</td>\n",
       "      <td>True</td>\n",
       "      <td>2.655621</td>\n",
       "      <td>0.367426</td>\n",
       "      <td>2.721637</td>\n",
       "    </tr>\n",
       "    <tr>\n",
       "      <th>2</th>\n",
       "      <td>0.330571</td>\n",
       "      <td>True</td>\n",
       "      <td>5.485500</td>\n",
       "      <td>0.636483</td>\n",
       "      <td>1.571135</td>\n",
       "    </tr>\n",
       "    <tr>\n",
       "      <th>3</th>\n",
       "      <td>1.327160</td>\n",
       "      <td>True</td>\n",
       "      <td>7.953465</td>\n",
       "      <td>0.910072</td>\n",
       "      <td>1.098815</td>\n",
       "    </tr>\n",
       "    <tr>\n",
       "      <th>4</th>\n",
       "      <td>1.153169</td>\n",
       "      <td>True</td>\n",
       "      <td>8.366079</td>\n",
       "      <td>0.881657</td>\n",
       "      <td>1.134228</td>\n",
       "    </tr>\n",
       "    <tr>\n",
       "      <th>...</th>\n",
       "      <td>...</td>\n",
       "      <td>...</td>\n",
       "      <td>...</td>\n",
       "      <td>...</td>\n",
       "      <td>...</td>\n",
       "    </tr>\n",
       "    <tr>\n",
       "      <th>995</th>\n",
       "      <td>-0.236399</td>\n",
       "      <td>True</td>\n",
       "      <td>4.904518</td>\n",
       "      <td>0.392228</td>\n",
       "      <td>2.549537</td>\n",
       "    </tr>\n",
       "    <tr>\n",
       "      <th>996</th>\n",
       "      <td>1.383050</td>\n",
       "      <td>True</td>\n",
       "      <td>9.043595</td>\n",
       "      <td>0.917806</td>\n",
       "      <td>1.089555</td>\n",
       "    </tr>\n",
       "    <tr>\n",
       "      <th>997</th>\n",
       "      <td>-0.789128</td>\n",
       "      <td>True</td>\n",
       "      <td>2.746434</td>\n",
       "      <td>0.196081</td>\n",
       "      <td>5.099938</td>\n",
       "    </tr>\n",
       "    <tr>\n",
       "      <th>998</th>\n",
       "      <td>0.176135</td>\n",
       "      <td>True</td>\n",
       "      <td>5.531430</td>\n",
       "      <td>0.571571</td>\n",
       "      <td>1.749565</td>\n",
       "    </tr>\n",
       "    <tr>\n",
       "      <th>999</th>\n",
       "      <td>-0.469100</td>\n",
       "      <td>True</td>\n",
       "      <td>4.632745</td>\n",
       "      <td>0.299937</td>\n",
       "      <td>3.334037</td>\n",
       "    </tr>\n",
       "  </tbody>\n",
       "</table>\n",
       "<p>1000 rows × 5 columns</p>\n",
       "</div>"
      ],
      "text/plain": [
       "           W0    v0         y  propensity_score    weight\n",
       "0   -1.035684  True  3.322262          0.136460  7.328140\n",
       "1   -0.296226  True  2.655621          0.367426  2.721637\n",
       "2    0.330571  True  5.485500          0.636483  1.571135\n",
       "3    1.327160  True  7.953465          0.910072  1.098815\n",
       "4    1.153169  True  8.366079          0.881657  1.134228\n",
       "..        ...   ...       ...               ...       ...\n",
       "995 -0.236399  True  4.904518          0.392228  2.549537\n",
       "996  1.383050  True  9.043595          0.917806  1.089555\n",
       "997 -0.789128  True  2.746434          0.196081  5.099938\n",
       "998  0.176135  True  5.531430          0.571571  1.749565\n",
       "999 -0.469100  True  4.632745          0.299937  3.334037\n",
       "\n",
       "[1000 rows x 5 columns]"
      ]
     },
     "execution_count": 7,
     "metadata": {},
     "output_type": "execute_result"
    }
   ],
   "source": [
    "cdf_1"
   ]
  },
  {
   "cell_type": "markdown",
   "metadata": {},
   "source": [
    "## Comparing the estimate to Linear Regression\n",
    "First, estimating the effect using the causal data frame, and the 95% confidence interval."
   ]
  },
  {
   "cell_type": "code",
   "execution_count": 8,
   "metadata": {
    "execution": {
     "iopub.execute_input": "2022-08-08T05:56:41.327724Z",
     "iopub.status.busy": "2022-08-08T05:56:41.327019Z",
     "iopub.status.idle": "2022-08-08T05:56:41.451257Z",
     "shell.execute_reply": "2022-08-08T05:56:41.450473Z"
    }
   },
   "outputs": [
    {
     "data": {
      "image/png": "[encoded data removed]",
      "text/latex": [
       "$\\displaystyle 5.5176580763654$"
      ],
      "text/plain": [
       "5.517658076365399"
      ]
     },
     "execution_count": 8,
     "metadata": {},
     "output_type": "execute_result"
    }
   ],
   "source": [
    "(cdf_1['y'] - cdf_0['y']).mean()"
   ]
  },
  {
   "cell_type": "code",
   "execution_count": 9,
   "metadata": {
    "execution": {
     "iopub.execute_input": "2022-08-08T05:56:41.455022Z",
     "iopub.status.busy": "2022-08-08T05:56:41.454726Z",
     "iopub.status.idle": "2022-08-08T05:56:41.485407Z",
     "shell.execute_reply": "2022-08-08T05:56:41.484476Z"
    }
   },
   "outputs": [
    {
     "data": {
      "image/png": "[encoded data removed]",
      "text/latex": [
       "$\\displaystyle 0.234775275401671$"
      ],
      "text/plain": [
       "0.23477527540167145"
      ]
     },
     "execution_count": 9,
     "metadata": {},
     "output_type": "execute_result"
    }
   ],
   "source": [
    "1.96*(cdf_1['y'] - cdf_0['y']).std() / np.sqrt(len(df))"
   ]
  },
  {
   "cell_type": "markdown",
   "metadata": {},
   "source": [
    "Comparing to the estimate from OLS."
   ]
  },
  {
   "cell_type": "code",
   "execution_count": 10,
   "metadata": {
    "execution": {
     "iopub.execute_input": "2022-08-08T05:56:41.489901Z",
     "iopub.status.busy": "2022-08-08T05:56:41.489608Z",
     "iopub.status.idle": "2022-08-08T05:56:41.509432Z",
     "shell.execute_reply": "2022-08-08T05:56:41.508627Z"
    }
   },
   "outputs": [
    {
     "data": {
      "text/html": [
       "<table class=\"simpletable\">\n",
       "<caption>OLS Regression Results</caption>\n",
       "<tr>\n",
       "  <th>Dep. Variable:</th>            <td>y</td>        <th>  R-squared (uncentered):</th>      <td>   0.974</td> \n",
       "</tr>\n",
       "<tr>\n",
       "  <th>Model:</th>                   <td>OLS</td>       <th>  Adj. R-squared (uncentered):</th> <td>   0.974</td> \n",
       "</tr>\n",
       "<tr>\n",
       "  <th>Method:</th>             <td>Least Squares</td>  <th>  F-statistic:       </th>          <td>1.903e+04</td>\n",
       "</tr>\n",
       "<tr>\n",
       "  <th>Date:</th>             <td>Mon, 08 Aug 2022</td> <th>  Prob (F-statistic):</th>           <td>  0.00</td>  \n",
       "</tr>\n",
       "<tr>\n",
       "  <th>Time:</th>                 <td>05:56:41</td>     <th>  Log-Likelihood:    </th>          <td> -1413.1</td> \n",
       "</tr>\n",
       "<tr>\n",
       "  <th>No. Observations:</th>      <td>  1000</td>      <th>  AIC:               </th>          <td>   2830.</td> \n",
       "</tr>\n",
       "<tr>\n",
       "  <th>Df Residuals:</th>          <td>   998</td>      <th>  BIC:               </th>          <td>   2840.</td> \n",
       "</tr>\n",
       "<tr>\n",
       "  <th>Df Model:</th>              <td>     2</td>      <th>                     </th>              <td> </td>    \n",
       "</tr>\n",
       "<tr>\n",
       "  <th>Covariance Type:</th>      <td>nonrobust</td>    <th>                     </th>              <td> </td>    \n",
       "</tr>\n",
       "</table>\n",
       "<table class=\"simpletable\">\n",
       "<tr>\n",
       "   <td></td>     <th>coef</th>     <th>std err</th>      <th>t</th>      <th>P>|t|</th>  <th>[0.025</th>    <th>0.975]</th>  \n",
       "</tr>\n",
       "<tr>\n",
       "  <th>x1</th> <td>    2.7855</td> <td>    0.036</td> <td>   76.546</td> <td> 0.000</td> <td>    2.714</td> <td>    2.857</td>\n",
       "</tr>\n",
       "<tr>\n",
       "  <th>x2</th> <td>    5.1361</td> <td>    0.051</td> <td>  101.456</td> <td> 0.000</td> <td>    5.037</td> <td>    5.235</td>\n",
       "</tr>\n",
       "</table>\n",
       "<table class=\"simpletable\">\n",
       "<tr>\n",
       "  <th>Omnibus:</th>       <td> 0.687</td> <th>  Durbin-Watson:     </th> <td>   1.983</td>\n",
       "</tr>\n",
       "<tr>\n",
       "  <th>Prob(Omnibus):</th> <td> 0.709</td> <th>  Jarque-Bera (JB):  </th> <td>   0.751</td>\n",
       "</tr>\n",
       "<tr>\n",
       "  <th>Skew:</th>          <td>-0.059</td> <th>  Prob(JB):          </th> <td>   0.687</td>\n",
       "</tr>\n",
       "<tr>\n",
       "  <th>Kurtosis:</th>      <td> 2.935</td> <th>  Cond. No.          </th> <td>    2.12</td>\n",
       "</tr>\n",
       "</table><br/><br/>Notes:<br/>[1] R² is computed without centering (uncentered) since the model does not contain a constant.<br/>[2] Standard Errors assume that the covariance matrix of the errors is correctly specified."
      ],
      "text/plain": [
       "<class 'statsmodels.iolib.summary.Summary'>\n",
       "\"\"\"\n",
       "                                 OLS Regression Results                                \n",
       "=======================================================================================\n",
       "Dep. Variable:                      y   R-squared (uncentered):                   0.974\n",
       "Model:                            OLS   Adj. R-squared (uncentered):              0.974\n",
       "Method:                 Least Squares   F-statistic:                          1.903e+04\n",
       "Date:                Mon, 08 Aug 2022   Prob (F-statistic):                        0.00\n",
       "Time:                        05:56:41   Log-Likelihood:                         -1413.1\n",
       "No. Observations:                1000   AIC:                                      2830.\n",
       "Df Residuals:                     998   BIC:                                      2840.\n",
       "Df Model:                           2                                                  \n",
       "Covariance Type:            nonrobust                                                  \n",
       "==============================================================================\n",
       "                 coef    std err          t      P>|t|      [0.025      0.975]\n",
       "------------------------------------------------------------------------------\n",
       "x1             2.7855      0.036     76.546      0.000       2.714       2.857\n",
       "x2             5.1361      0.051    101.456      0.000       5.037       5.235\n",
       "==============================================================================\n",
       "Omnibus:                        0.687   Durbin-Watson:                   1.983\n",
       "Prob(Omnibus):                  0.709   Jarque-Bera (JB):                0.751\n",
       "Skew:                          -0.059   Prob(JB):                        0.687\n",
       "Kurtosis:                       2.935   Cond. No.                         2.12\n",
       "==============================================================================\n",
       "\n",
       "Notes:\n",
       "[1] R² is computed without centering (uncentered) since the model does not contain a constant.\n",
       "[2] Standard Errors assume that the covariance matrix of the errors is correctly specified.\n",
       "\"\"\""
      ]
     },
     "execution_count": 10,
     "metadata": {},
     "output_type": "execute_result"
    }
   ],
   "source": [
    "model = OLS(np.asarray(df[outcome]), np.asarray(df[[common_cause, treatment]], dtype=np.float64))\n",
    "result = model.fit()\n",
    "result.summary()"
   ]
  }
 ],
 "metadata": {
  "kernelspec": {
   "display_name": "Python 3",
   "language": "python",
   "name": "python3"
  },
  "language_info": {
   "codemirror_mode": {
    "name": "ipython",
    "version": 3
   },
   "file_extension": ".py",
   "mimetype": "text/x-python",
   "name": "python",
   "nbconvert_exporter": "python",
   "pygments_lexer": "ipython3",
   "version": "3.8.10"
  },
  "toc": {
   "base_numbering": 1,
   "nav_menu": {},
   "number_sections": false,
   "sideBar": true,
   "skip_h1_title": true,
   "title_cell": "Table of Contents",
   "title_sidebar": "Contents",
   "toc_cell": false,
   "toc_position": {},
   "toc_section_display": true,
   "toc_window_display": false
  }
 },
 "nbformat": 4,
 "nbformat_minor": 4
}
