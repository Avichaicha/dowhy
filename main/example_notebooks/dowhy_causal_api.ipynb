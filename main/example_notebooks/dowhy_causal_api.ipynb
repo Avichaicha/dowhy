{
 "cells": [
  {
   "cell_type": "markdown",
   "metadata": {},
   "source": [
    "# Demo for the DoWhy causal API\n",
    "We show a simple example of adding a causal extension to any dataframe. "
   ]
  },
  {
   "cell_type": "code",
   "execution_count": 1,
   "metadata": {
    "execution": {
     "iopub.execute_input": "2022-12-12T19:13:18.721332Z",
     "iopub.status.busy": "2022-12-12T19:13:18.720914Z",
     "iopub.status.idle": "2022-12-12T19:13:20.685425Z",
     "shell.execute_reply": "2022-12-12T19:13:20.684736Z"
    }
   },
   "outputs": [],
   "source": [
    "import dowhy.datasets\n",
    "import dowhy.api\n",
    "\n",
    "import numpy as np\n",
    "import pandas as pd\n",
    "\n",
    "from statsmodels.api import OLS"
   ]
  },
  {
   "cell_type": "code",
   "execution_count": 2,
   "metadata": {
    "execution": {
     "iopub.execute_input": "2022-12-12T19:13:20.689131Z",
     "iopub.status.busy": "2022-12-12T19:13:20.688731Z",
     "iopub.status.idle": "2022-12-12T19:13:20.731747Z",
     "shell.execute_reply": "2022-12-12T19:13:20.731139Z"
    }
   },
   "outputs": [
    {
     "data": {
      "text/html": [
       "<div>\n",
       "<style scoped>\n",
       "    .dataframe tbody tr th:only-of-type {\n",
       "        vertical-align: middle;\n",
       "    }\n",
       "\n",
       "    .dataframe tbody tr th {\n",
       "        vertical-align: top;\n",
       "    }\n",
       "\n",
       "    .dataframe thead th {\n",
       "        text-align: right;\n",
       "    }\n",
       "</style>\n",
       "<table border=\"1\" class=\"dataframe\">\n",
       "  <thead>\n",
       "    <tr style=\"text-align: right;\">\n",
       "      <th></th>\n",
       "      <th>W0</th>\n",
       "      <th>v0</th>\n",
       "      <th>y</th>\n",
       "    </tr>\n",
       "  </thead>\n",
       "  <tbody>\n",
       "    <tr>\n",
       "      <th>0</th>\n",
       "      <td>0.061505</td>\n",
       "      <td>True</td>\n",
       "      <td>5.678408</td>\n",
       "    </tr>\n",
       "    <tr>\n",
       "      <th>1</th>\n",
       "      <td>-0.571968</td>\n",
       "      <td>False</td>\n",
       "      <td>0.182170</td>\n",
       "    </tr>\n",
       "    <tr>\n",
       "      <th>2</th>\n",
       "      <td>-0.442949</td>\n",
       "      <td>False</td>\n",
       "      <td>0.223714</td>\n",
       "    </tr>\n",
       "    <tr>\n",
       "      <th>3</th>\n",
       "      <td>0.081882</td>\n",
       "      <td>True</td>\n",
       "      <td>5.001486</td>\n",
       "    </tr>\n",
       "    <tr>\n",
       "      <th>4</th>\n",
       "      <td>0.320977</td>\n",
       "      <td>False</td>\n",
       "      <td>1.876747</td>\n",
       "    </tr>\n",
       "    <tr>\n",
       "      <th>...</th>\n",
       "      <td>...</td>\n",
       "      <td>...</td>\n",
       "      <td>...</td>\n",
       "    </tr>\n",
       "    <tr>\n",
       "      <th>995</th>\n",
       "      <td>0.852622</td>\n",
       "      <td>True</td>\n",
       "      <td>3.461659</td>\n",
       "    </tr>\n",
       "    <tr>\n",
       "      <th>996</th>\n",
       "      <td>-0.170277</td>\n",
       "      <td>False</td>\n",
       "      <td>-0.646575</td>\n",
       "    </tr>\n",
       "    <tr>\n",
       "      <th>997</th>\n",
       "      <td>-1.052003</td>\n",
       "      <td>False</td>\n",
       "      <td>0.169232</td>\n",
       "    </tr>\n",
       "    <tr>\n",
       "      <th>998</th>\n",
       "      <td>-0.726958</td>\n",
       "      <td>False</td>\n",
       "      <td>1.047659</td>\n",
       "    </tr>\n",
       "    <tr>\n",
       "      <th>999</th>\n",
       "      <td>-0.683169</td>\n",
       "      <td>False</td>\n",
       "      <td>-0.331443</td>\n",
       "    </tr>\n",
       "  </tbody>\n",
       "</table>\n",
       "<p>1000 rows × 3 columns</p>\n",
       "</div>"
      ],
      "text/plain": [
       "           W0     v0         y\n",
       "0    0.061505   True  5.678408\n",
       "1   -0.571968  False  0.182170\n",
       "2   -0.442949  False  0.223714\n",
       "3    0.081882   True  5.001486\n",
       "4    0.320977  False  1.876747\n",
       "..        ...    ...       ...\n",
       "995  0.852622   True  3.461659\n",
       "996 -0.170277  False -0.646575\n",
       "997 -1.052003  False  0.169232\n",
       "998 -0.726958  False  1.047659\n",
       "999 -0.683169  False -0.331443\n",
       "\n",
       "[1000 rows x 3 columns]"
      ]
     },
     "execution_count": 2,
     "metadata": {},
     "output_type": "execute_result"
    }
   ],
   "source": [
    "data = dowhy.datasets.linear_dataset(beta=5,\n",
    "        num_common_causes=1,\n",
    "        num_instruments = 0,\n",
    "        num_samples=1000,\n",
    "        treatment_is_binary=True)\n",
    "df = data['df']\n",
    "df['y'] = df['y'] + np.random.normal(size=len(df)) # Adding noise to data. Without noise, the variance in Y|X, Z is zero, and mcmc fails.\n",
    "#data['dot_graph'] = 'digraph { v ->y;X0-> v;X0-> y;}'\n",
    "\n",
    "treatment= data[\"treatment_name\"][0]\n",
    "outcome = data[\"outcome_name\"][0]\n",
    "common_cause = data[\"common_causes_names\"][0]\n",
    "df"
   ]
  },
  {
   "cell_type": "code",
   "execution_count": 3,
   "metadata": {
    "execution": {
     "iopub.execute_input": "2022-12-12T19:13:20.734673Z",
     "iopub.status.busy": "2022-12-12T19:13:20.734318Z",
     "iopub.status.idle": "2022-12-12T19:13:20.886152Z",
     "shell.execute_reply": "2022-12-12T19:13:20.885589Z"
    }
   },
   "outputs": [
    {
     "data": {
      "text/plain": [
       "<AxesSubplot: xlabel='v0'>"
      ]
     },
     "execution_count": 3,
     "metadata": {},
     "output_type": "execute_result"
    },
    {
     "data": {
      "image/png": "[encoded data removed]",
      "text/plain": [
       "<Figure size 640x480 with 1 Axes>"
      ]
     },
     "metadata": {},
     "output_type": "display_data"
    }
   ],
   "source": [
    "# data['df'] is just a regular pandas.DataFrame\n",
    "df.causal.do(x=treatment,\n",
    "                     variable_types={treatment: 'b', outcome: 'c', common_cause: 'c'},\n",
    "                     outcome=outcome,\n",
    "                     common_causes=[common_cause],\n",
    "                     proceed_when_unidentifiable=True).groupby(treatment).mean().plot(y=outcome, kind='bar')"
   ]
  },
  {
   "cell_type": "code",
   "execution_count": 4,
   "metadata": {
    "execution": {
     "iopub.execute_input": "2022-12-12T19:13:20.889143Z",
     "iopub.status.busy": "2022-12-12T19:13:20.888772Z",
     "iopub.status.idle": "2022-12-12T19:13:21.001872Z",
     "shell.execute_reply": "2022-12-12T19:13:21.001330Z"
    }
   },
   "outputs": [
    {
     "data": {
      "text/plain": [
       "<AxesSubplot: xlabel='v0'>"
      ]
     },
     "execution_count": 4,
     "metadata": {},
     "output_type": "execute_result"
    },
    {
     "data": {
      "image/png": "[encoded data removed]",
      "text/plain": [
       "<Figure size 640x480 with 1 Axes>"
      ]
     },
     "metadata": {},
     "output_type": "display_data"
    }
   ],
   "source": [
    "df.causal.do(x={treatment: 1}, \n",
    "              variable_types={treatment:'b', outcome: 'c', common_cause: 'c'}, \n",
    "              outcome=outcome,\n",
    "              method='weighting', \n",
    "              common_causes=[common_cause],\n",
    "              proceed_when_unidentifiable=True).groupby(treatment).mean().plot(y=outcome, kind='bar')"
   ]
  },
  {
   "cell_type": "code",
   "execution_count": 5,
   "metadata": {
    "execution": {
     "iopub.execute_input": "2022-12-12T19:13:21.004846Z",
     "iopub.status.busy": "2022-12-12T19:13:21.004477Z",
     "iopub.status.idle": "2022-12-12T19:13:21.035823Z",
     "shell.execute_reply": "2022-12-12T19:13:21.035290Z"
    }
   },
   "outputs": [],
   "source": [
    "cdf_1 = df.causal.do(x={treatment: 1}, \n",
    "              variable_types={treatment: 'b', outcome: 'c', common_cause: 'c'}, \n",
    "              outcome=outcome, \n",
    "              dot_graph=data['dot_graph'],\n",
    "              proceed_when_unidentifiable=True)\n",
    "\n",
    "cdf_0 = df.causal.do(x={treatment: 0}, \n",
    "              variable_types={treatment: 'b', outcome: 'c', common_cause: 'c'}, \n",
    "              outcome=outcome, \n",
    "              dot_graph=data['dot_graph'],\n",
    "              proceed_when_unidentifiable=True)\n"
   ]
  },
  {
   "cell_type": "code",
   "execution_count": 6,
   "metadata": {
    "execution": {
     "iopub.execute_input": "2022-12-12T19:13:21.038849Z",
     "iopub.status.busy": "2022-12-12T19:13:21.038471Z",
     "iopub.status.idle": "2022-12-12T19:13:21.048207Z",
     "shell.execute_reply": "2022-12-12T19:13:21.047718Z"
    },
    "scrolled": true
   },
   "outputs": [
    {
     "data": {
      "text/html": [
       "<div>\n",
       "<style scoped>\n",
       "    .dataframe tbody tr th:only-of-type {\n",
       "        vertical-align: middle;\n",
       "    }\n",
       "\n",
       "    .dataframe tbody tr th {\n",
       "        vertical-align: top;\n",
       "    }\n",
       "\n",
       "    .dataframe thead th {\n",
       "        text-align: right;\n",
       "    }\n",
       "</style>\n",
       "<table border=\"1\" class=\"dataframe\">\n",
       "  <thead>\n",
       "    <tr style=\"text-align: right;\">\n",
       "      <th></th>\n",
       "      <th>W0</th>\n",
       "      <th>v0</th>\n",
       "      <th>y</th>\n",
       "      <th>propensity_score</th>\n",
       "      <th>weight</th>\n",
       "    </tr>\n",
       "  </thead>\n",
       "  <tbody>\n",
       "    <tr>\n",
       "      <th>0</th>\n",
       "      <td>0.848749</td>\n",
       "      <td>False</td>\n",
       "      <td>0.811415</td>\n",
       "      <td>0.299530</td>\n",
       "      <td>3.338564</td>\n",
       "    </tr>\n",
       "    <tr>\n",
       "      <th>1</th>\n",
       "      <td>0.870071</td>\n",
       "      <td>False</td>\n",
       "      <td>1.565565</td>\n",
       "      <td>0.294277</td>\n",
       "      <td>3.398159</td>\n",
       "    </tr>\n",
       "    <tr>\n",
       "      <th>2</th>\n",
       "      <td>-1.281755</td>\n",
       "      <td>False</td>\n",
       "      <td>0.315402</td>\n",
       "      <td>0.840889</td>\n",
       "      <td>1.189218</td>\n",
       "    </tr>\n",
       "    <tr>\n",
       "      <th>3</th>\n",
       "      <td>0.505454</td>\n",
       "      <td>False</td>\n",
       "      <td>-0.863207</td>\n",
       "      <td>0.390697</td>\n",
       "      <td>2.559530</td>\n",
       "    </tr>\n",
       "    <tr>\n",
       "      <th>4</th>\n",
       "      <td>-1.582592</td>\n",
       "      <td>False</td>\n",
       "      <td>0.268038</td>\n",
       "      <td>0.882871</td>\n",
       "      <td>1.132668</td>\n",
       "    </tr>\n",
       "    <tr>\n",
       "      <th>...</th>\n",
       "      <td>...</td>\n",
       "      <td>...</td>\n",
       "      <td>...</td>\n",
       "      <td>...</td>\n",
       "      <td>...</td>\n",
       "    </tr>\n",
       "    <tr>\n",
       "      <th>995</th>\n",
       "      <td>-1.109200</td>\n",
       "      <td>False</td>\n",
       "      <td>-1.813000</td>\n",
       "      <td>0.811718</td>\n",
       "      <td>1.231955</td>\n",
       "    </tr>\n",
       "    <tr>\n",
       "      <th>996</th>\n",
       "      <td>1.144995</td>\n",
       "      <td>False</td>\n",
       "      <td>-0.059151</td>\n",
       "      <td>0.231624</td>\n",
       "      <td>4.317339</td>\n",
       "    </tr>\n",
       "    <tr>\n",
       "      <th>997</th>\n",
       "      <td>-1.485809</td>\n",
       "      <td>False</td>\n",
       "      <td>-0.937300</td>\n",
       "      <td>0.870533</td>\n",
       "      <td>1.148721</td>\n",
       "    </tr>\n",
       "    <tr>\n",
       "      <th>998</th>\n",
       "      <td>-0.464704</td>\n",
       "      <td>False</td>\n",
       "      <td>-0.637880</td>\n",
       "      <td>0.668317</td>\n",
       "      <td>1.496295</td>\n",
       "    </tr>\n",
       "    <tr>\n",
       "      <th>999</th>\n",
       "      <td>-0.295021</td>\n",
       "      <td>False</td>\n",
       "      <td>-0.817388</td>\n",
       "      <td>0.622536</td>\n",
       "      <td>1.606333</td>\n",
       "    </tr>\n",
       "  </tbody>\n",
       "</table>\n",
       "<p>1000 rows × 5 columns</p>\n",
       "</div>"
      ],
      "text/plain": [
       "           W0     v0         y  propensity_score    weight\n",
       "0    0.848749  False  0.811415          0.299530  3.338564\n",
       "1    0.870071  False  1.565565          0.294277  3.398159\n",
       "2   -1.281755  False  0.315402          0.840889  1.189218\n",
       "3    0.505454  False -0.863207          0.390697  2.559530\n",
       "4   -1.582592  False  0.268038          0.882871  1.132668\n",
       "..        ...    ...       ...               ...       ...\n",
       "995 -1.109200  False -1.813000          0.811718  1.231955\n",
       "996  1.144995  False -0.059151          0.231624  4.317339\n",
       "997 -1.485809  False -0.937300          0.870533  1.148721\n",
       "998 -0.464704  False -0.637880          0.668317  1.496295\n",
       "999 -0.295021  False -0.817388          0.622536  1.606333\n",
       "\n",
       "[1000 rows x 5 columns]"
      ]
     },
     "execution_count": 6,
     "metadata": {},
     "output_type": "execute_result"
    }
   ],
   "source": [
    "cdf_0"
   ]
  },
  {
   "cell_type": "code",
   "execution_count": 7,
   "metadata": {
    "execution": {
     "iopub.execute_input": "2022-12-12T19:13:21.050833Z",
     "iopub.status.busy": "2022-12-12T19:13:21.050455Z",
     "iopub.status.idle": "2022-12-12T19:13:21.059750Z",
     "shell.execute_reply": "2022-12-12T19:13:21.059260Z"
    }
   },
   "outputs": [
    {
     "data": {
      "text/html": [
       "<div>\n",
       "<style scoped>\n",
       "    .dataframe tbody tr th:only-of-type {\n",
       "        vertical-align: middle;\n",
       "    }\n",
       "\n",
       "    .dataframe tbody tr th {\n",
       "        vertical-align: top;\n",
       "    }\n",
       "\n",
       "    .dataframe thead th {\n",
       "        text-align: right;\n",
       "    }\n",
       "</style>\n",
       "<table border=\"1\" class=\"dataframe\">\n",
       "  <thead>\n",
       "    <tr style=\"text-align: right;\">\n",
       "      <th></th>\n",
       "      <th>W0</th>\n",
       "      <th>v0</th>\n",
       "      <th>y</th>\n",
       "      <th>propensity_score</th>\n",
       "      <th>weight</th>\n",
       "    </tr>\n",
       "  </thead>\n",
       "  <tbody>\n",
       "    <tr>\n",
       "      <th>0</th>\n",
       "      <td>-1.183905</td>\n",
       "      <td>True</td>\n",
       "      <td>4.595121</td>\n",
       "      <td>0.175176</td>\n",
       "      <td>5.708537</td>\n",
       "    </tr>\n",
       "    <tr>\n",
       "      <th>1</th>\n",
       "      <td>1.241459</td>\n",
       "      <td>True</td>\n",
       "      <td>5.138355</td>\n",
       "      <td>0.788016</td>\n",
       "      <td>1.269010</td>\n",
       "    </tr>\n",
       "    <tr>\n",
       "      <th>2</th>\n",
       "      <td>0.711120</td>\n",
       "      <td>True</td>\n",
       "      <td>4.159246</td>\n",
       "      <td>0.665323</td>\n",
       "      <td>1.503028</td>\n",
       "    </tr>\n",
       "    <tr>\n",
       "      <th>3</th>\n",
       "      <td>0.977236</td>\n",
       "      <td>True</td>\n",
       "      <td>6.000888</td>\n",
       "      <td>0.731290</td>\n",
       "      <td>1.367447</td>\n",
       "    </tr>\n",
       "    <tr>\n",
       "      <th>4</th>\n",
       "      <td>1.421338</td>\n",
       "      <td>True</td>\n",
       "      <td>5.332098</td>\n",
       "      <td>0.821318</td>\n",
       "      <td>1.217556</td>\n",
       "    </tr>\n",
       "    <tr>\n",
       "      <th>...</th>\n",
       "      <td>...</td>\n",
       "      <td>...</td>\n",
       "      <td>...</td>\n",
       "      <td>...</td>\n",
       "      <td>...</td>\n",
       "    </tr>\n",
       "    <tr>\n",
       "      <th>995</th>\n",
       "      <td>-0.275583</td>\n",
       "      <td>True</td>\n",
       "      <td>4.755949</td>\n",
       "      <td>0.382870</td>\n",
       "      <td>2.611856</td>\n",
       "    </tr>\n",
       "    <tr>\n",
       "      <th>996</th>\n",
       "      <td>0.070296</td>\n",
       "      <td>True</td>\n",
       "      <td>3.923744</td>\n",
       "      <td>0.482711</td>\n",
       "      <td>2.071633</td>\n",
       "    </tr>\n",
       "    <tr>\n",
       "      <th>997</th>\n",
       "      <td>0.722352</td>\n",
       "      <td>True</td>\n",
       "      <td>6.753931</td>\n",
       "      <td>0.668269</td>\n",
       "      <td>1.496404</td>\n",
       "    </tr>\n",
       "    <tr>\n",
       "      <th>998</th>\n",
       "      <td>1.551580</td>\n",
       "      <td>True</td>\n",
       "      <td>4.858910</td>\n",
       "      <td>0.842773</td>\n",
       "      <td>1.186559</td>\n",
       "    </tr>\n",
       "    <tr>\n",
       "      <th>999</th>\n",
       "      <td>-0.363651</td>\n",
       "      <td>True</td>\n",
       "      <td>3.795033</td>\n",
       "      <td>0.358628</td>\n",
       "      <td>2.788403</td>\n",
       "    </tr>\n",
       "  </tbody>\n",
       "</table>\n",
       "<p>1000 rows × 5 columns</p>\n",
       "</div>"
      ],
      "text/plain": [
       "           W0    v0         y  propensity_score    weight\n",
       "0   -1.183905  True  4.595121          0.175176  5.708537\n",
       "1    1.241459  True  5.138355          0.788016  1.269010\n",
       "2    0.711120  True  4.159246          0.665323  1.503028\n",
       "3    0.977236  True  6.000888          0.731290  1.367447\n",
       "4    1.421338  True  5.332098          0.821318  1.217556\n",
       "..        ...   ...       ...               ...       ...\n",
       "995 -0.275583  True  4.755949          0.382870  2.611856\n",
       "996  0.070296  True  3.923744          0.482711  2.071633\n",
       "997  0.722352  True  6.753931          0.668269  1.496404\n",
       "998  1.551580  True  4.858910          0.842773  1.186559\n",
       "999 -0.363651  True  3.795033          0.358628  2.788403\n",
       "\n",
       "[1000 rows x 5 columns]"
      ]
     },
     "execution_count": 7,
     "metadata": {},
     "output_type": "execute_result"
    }
   ],
   "source": [
    "cdf_1"
   ]
  },
  {
   "cell_type": "markdown",
   "metadata": {},
   "source": [
    "## Comparing the estimate to Linear Regression\n",
    "First, estimating the effect using the causal data frame, and the 95% confidence interval."
   ]
  },
  {
   "cell_type": "code",
   "execution_count": 8,
   "metadata": {
    "execution": {
     "iopub.execute_input": "2022-12-12T19:13:21.062360Z",
     "iopub.status.busy": "2022-12-12T19:13:21.062015Z",
     "iopub.status.idle": "2022-12-12T19:13:21.117893Z",
     "shell.execute_reply": "2022-12-12T19:13:21.117358Z"
    }
   },
   "outputs": [
    {
     "data": {
      "image/png": "[encoded data removed]",
      "text/latex": [
       "$\\displaystyle 4.82200650371937$"
      ],
      "text/plain": [
       "4.822006503719373"
      ]
     },
     "execution_count": 8,
     "metadata": {},
     "output_type": "execute_result"
    }
   ],
   "source": [
    "(cdf_1['y'] - cdf_0['y']).mean()"
   ]
  },
  {
   "cell_type": "code",
   "execution_count": 9,
   "metadata": {
    "execution": {
     "iopub.execute_input": "2022-12-12T19:13:21.120849Z",
     "iopub.status.busy": "2022-12-12T19:13:21.120479Z",
     "iopub.status.idle": "2022-12-12T19:13:21.140137Z",
     "shell.execute_reply": "2022-12-12T19:13:21.139454Z"
    }
   },
   "outputs": [
    {
     "data": {
      "image/png": "[encoded data removed]",
      "text/latex": [
       "$\\displaystyle 0.094884089355027$"
      ],
      "text/plain": [
       "0.09488408935502704"
      ]
     },
     "execution_count": 9,
     "metadata": {},
     "output_type": "execute_result"
    }
   ],
   "source": [
    "1.96*(cdf_1['y'] - cdf_0['y']).std() / np.sqrt(len(df))"
   ]
  },
  {
   "cell_type": "markdown",
   "metadata": {},
   "source": [
    "Comparing to the estimate from OLS."
   ]
  },
  {
   "cell_type": "code",
   "execution_count": 10,
   "metadata": {
    "execution": {
     "iopub.execute_input": "2022-12-12T19:13:21.143215Z",
     "iopub.status.busy": "2022-12-12T19:13:21.143002Z",
     "iopub.status.idle": "2022-12-12T19:13:21.157919Z",
     "shell.execute_reply": "2022-12-12T19:13:21.157290Z"
    }
   },
   "outputs": [
    {
     "data": {
      "text/html": [
       "<table class=\"simpletable\">\n",
       "<caption>OLS Regression Results</caption>\n",
       "<tr>\n",
       "  <th>Dep. Variable:</th>            <td>y</td>        <th>  R-squared (uncentered):</th>      <td>   0.930</td>\n",
       "</tr>\n",
       "<tr>\n",
       "  <th>Model:</th>                   <td>OLS</td>       <th>  Adj. R-squared (uncentered):</th> <td>   0.929</td>\n",
       "</tr>\n",
       "<tr>\n",
       "  <th>Method:</th>             <td>Least Squares</td>  <th>  F-statistic:       </th>          <td>   6585.</td>\n",
       "</tr>\n",
       "<tr>\n",
       "  <th>Date:</th>             <td>Mon, 12 Dec 2022</td> <th>  Prob (F-statistic):</th>           <td>  0.00</td> \n",
       "</tr>\n",
       "<tr>\n",
       "  <th>Time:</th>                 <td>19:13:21</td>     <th>  Log-Likelihood:    </th>          <td> -1437.9</td>\n",
       "</tr>\n",
       "<tr>\n",
       "  <th>No. Observations:</th>      <td>  1000</td>      <th>  AIC:               </th>          <td>   2880.</td>\n",
       "</tr>\n",
       "<tr>\n",
       "  <th>Df Residuals:</th>          <td>   998</td>      <th>  BIC:               </th>          <td>   2890.</td>\n",
       "</tr>\n",
       "<tr>\n",
       "  <th>Df Model:</th>              <td>     2</td>      <th>                     </th>              <td> </td>   \n",
       "</tr>\n",
       "<tr>\n",
       "  <th>Covariance Type:</th>      <td>nonrobust</td>    <th>                     </th>              <td> </td>   \n",
       "</tr>\n",
       "</table>\n",
       "<table class=\"simpletable\">\n",
       "<tr>\n",
       "   <td></td>     <th>coef</th>     <th>std err</th>      <th>t</th>      <th>P>|t|</th>  <th>[0.025</th>    <th>0.975]</th>  \n",
       "</tr>\n",
       "<tr>\n",
       "  <th>x1</th> <td>    0.3889</td> <td>    0.036</td> <td>   10.881</td> <td> 0.000</td> <td>    0.319</td> <td>    0.459</td>\n",
       "</tr>\n",
       "<tr>\n",
       "  <th>x2</th> <td>    4.9510</td> <td>    0.050</td> <td>   98.467</td> <td> 0.000</td> <td>    4.852</td> <td>    5.050</td>\n",
       "</tr>\n",
       "</table>\n",
       "<table class=\"simpletable\">\n",
       "<tr>\n",
       "  <th>Omnibus:</th>       <td> 1.152</td> <th>  Durbin-Watson:     </th> <td>   1.965</td>\n",
       "</tr>\n",
       "<tr>\n",
       "  <th>Prob(Omnibus):</th> <td> 0.562</td> <th>  Jarque-Bera (JB):  </th> <td>   1.212</td>\n",
       "</tr>\n",
       "<tr>\n",
       "  <th>Skew:</th>          <td> 0.048</td> <th>  Prob(JB):          </th> <td>   0.546</td>\n",
       "</tr>\n",
       "<tr>\n",
       "  <th>Kurtosis:</th>      <td> 2.860</td> <th>  Cond. No.          </th> <td>    1.79</td>\n",
       "</tr>\n",
       "</table><br/><br/>Notes:<br/>[1] R² is computed without centering (uncentered) since the model does not contain a constant.<br/>[2] Standard Errors assume that the covariance matrix of the errors is correctly specified."
      ],
      "text/plain": [
       "<class 'statsmodels.iolib.summary.Summary'>\n",
       "\"\"\"\n",
       "                                 OLS Regression Results                                \n",
       "=======================================================================================\n",
       "Dep. Variable:                      y   R-squared (uncentered):                   0.930\n",
       "Model:                            OLS   Adj. R-squared (uncentered):              0.929\n",
       "Method:                 Least Squares   F-statistic:                              6585.\n",
       "Date:                Mon, 12 Dec 2022   Prob (F-statistic):                        0.00\n",
       "Time:                        19:13:21   Log-Likelihood:                         -1437.9\n",
       "No. Observations:                1000   AIC:                                      2880.\n",
       "Df Residuals:                     998   BIC:                                      2890.\n",
       "Df Model:                           2                                                  \n",
       "Covariance Type:            nonrobust                                                  \n",
       "==============================================================================\n",
       "                 coef    std err          t      P>|t|      [0.025      0.975]\n",
       "------------------------------------------------------------------------------\n",
       "x1             0.3889      0.036     10.881      0.000       0.319       0.459\n",
       "x2             4.9510      0.050     98.467      0.000       4.852       5.050\n",
       "==============================================================================\n",
       "Omnibus:                        1.152   Durbin-Watson:                   1.965\n",
       "Prob(Omnibus):                  0.562   Jarque-Bera (JB):                1.212\n",
       "Skew:                           0.048   Prob(JB):                        0.546\n",
       "Kurtosis:                       2.860   Cond. No.                         1.79\n",
       "==============================================================================\n",
       "\n",
       "Notes:\n",
       "[1] R² is computed without centering (uncentered) since the model does not contain a constant.\n",
       "[2] Standard Errors assume that the covariance matrix of the errors is correctly specified.\n",
       "\"\"\""
      ]
     },
     "execution_count": 10,
     "metadata": {},
     "output_type": "execute_result"
    }
   ],
   "source": [
    "model = OLS(np.asarray(df[outcome]), np.asarray(df[[common_cause, treatment]], dtype=np.float64))\n",
    "result = model.fit()\n",
    "result.summary()"
   ]
  }
 ],
 "metadata": {
  "kernelspec": {
   "display_name": "Python 3",
   "language": "python",
   "name": "python3"
  },
  "language_info": {
   "codemirror_mode": {
    "name": "ipython",
    "version": 3
   },
   "file_extension": ".py",
   "mimetype": "text/x-python",
   "name": "python",
   "nbconvert_exporter": "python",
   "pygments_lexer": "ipython3",
   "version": "3.8.10"
  },
  "toc": {
   "base_numbering": 1,
   "nav_menu": {},
   "number_sections": false,
   "sideBar": true,
   "skip_h1_title": true,
   "title_cell": "Table of Contents",
   "title_sidebar": "Contents",
   "toc_cell": false,
   "toc_position": {},
   "toc_section_display": true,
   "toc_window_display": false
  }
 },
 "nbformat": 4,
 "nbformat_minor": 4
}
