{
 "cells": [
  {
   "cell_type": "markdown",
   "metadata": {},
   "source": [
    "# Demo for the DoWhy causal API\n",
    "We show a simple example of adding a causal extension to any dataframe. "
   ]
  },
  {
   "cell_type": "code",
   "execution_count": 1,
   "metadata": {
    "execution": {
     "iopub.execute_input": "2022-08-01T07:45:35.024598Z",
     "iopub.status.busy": "2022-08-01T07:45:35.024171Z",
     "iopub.status.idle": "2022-08-01T07:45:36.191726Z",
     "shell.execute_reply": "2022-08-01T07:45:36.190957Z"
    }
   },
   "outputs": [
    {
     "name": "stdout",
     "output_type": "stream",
     "text": [
      "keywords are unexpanded, not using\n"
     ]
    }
   ],
   "source": [
    "import dowhy.datasets\n",
    "import dowhy.api\n",
    "\n",
    "import numpy as np\n",
    "import pandas as pd\n",
    "\n",
    "from statsmodels.api import OLS"
   ]
  },
  {
   "cell_type": "code",
   "execution_count": 2,
   "metadata": {
    "execution": {
     "iopub.execute_input": "2022-08-01T07:45:36.195797Z",
     "iopub.status.busy": "2022-08-01T07:45:36.195076Z",
     "iopub.status.idle": "2022-08-01T07:45:36.243451Z",
     "shell.execute_reply": "2022-08-01T07:45:36.242861Z"
    }
   },
   "outputs": [
    {
     "data": {
      "text/html": [
       "<div>\n",
       "<style scoped>\n",
       "    .dataframe tbody tr th:only-of-type {\n",
       "        vertical-align: middle;\n",
       "    }\n",
       "\n",
       "    .dataframe tbody tr th {\n",
       "        vertical-align: top;\n",
       "    }\n",
       "\n",
       "    .dataframe thead th {\n",
       "        text-align: right;\n",
       "    }\n",
       "</style>\n",
       "<table border=\"1\" class=\"dataframe\">\n",
       "  <thead>\n",
       "    <tr style=\"text-align: right;\">\n",
       "      <th></th>\n",
       "      <th>W0</th>\n",
       "      <th>v0</th>\n",
       "      <th>y</th>\n",
       "    </tr>\n",
       "  </thead>\n",
       "  <tbody>\n",
       "    <tr>\n",
       "      <th>0</th>\n",
       "      <td>-0.259177</td>\n",
       "      <td>False</td>\n",
       "      <td>-0.908811</td>\n",
       "    </tr>\n",
       "    <tr>\n",
       "      <th>1</th>\n",
       "      <td>-1.217482</td>\n",
       "      <td>False</td>\n",
       "      <td>-3.337837</td>\n",
       "    </tr>\n",
       "    <tr>\n",
       "      <th>2</th>\n",
       "      <td>1.596389</td>\n",
       "      <td>True</td>\n",
       "      <td>10.081653</td>\n",
       "    </tr>\n",
       "    <tr>\n",
       "      <th>3</th>\n",
       "      <td>1.742959</td>\n",
       "      <td>True</td>\n",
       "      <td>10.200651</td>\n",
       "    </tr>\n",
       "    <tr>\n",
       "      <th>4</th>\n",
       "      <td>0.738901</td>\n",
       "      <td>True</td>\n",
       "      <td>7.021674</td>\n",
       "    </tr>\n",
       "    <tr>\n",
       "      <th>...</th>\n",
       "      <td>...</td>\n",
       "      <td>...</td>\n",
       "      <td>...</td>\n",
       "    </tr>\n",
       "    <tr>\n",
       "      <th>995</th>\n",
       "      <td>-0.266703</td>\n",
       "      <td>True</td>\n",
       "      <td>4.311289</td>\n",
       "    </tr>\n",
       "    <tr>\n",
       "      <th>996</th>\n",
       "      <td>1.030838</td>\n",
       "      <td>True</td>\n",
       "      <td>9.227912</td>\n",
       "    </tr>\n",
       "    <tr>\n",
       "      <th>997</th>\n",
       "      <td>0.067307</td>\n",
       "      <td>False</td>\n",
       "      <td>0.182366</td>\n",
       "    </tr>\n",
       "    <tr>\n",
       "      <th>998</th>\n",
       "      <td>-1.157805</td>\n",
       "      <td>False</td>\n",
       "      <td>-2.584106</td>\n",
       "    </tr>\n",
       "    <tr>\n",
       "      <th>999</th>\n",
       "      <td>0.085725</td>\n",
       "      <td>True</td>\n",
       "      <td>5.418982</td>\n",
       "    </tr>\n",
       "  </tbody>\n",
       "</table>\n",
       "<p>1000 rows × 3 columns</p>\n",
       "</div>"
      ],
      "text/plain": [
       "           W0     v0          y\n",
       "0   -0.259177  False  -0.908811\n",
       "1   -1.217482  False  -3.337837\n",
       "2    1.596389   True  10.081653\n",
       "3    1.742959   True  10.200651\n",
       "4    0.738901   True   7.021674\n",
       "..        ...    ...        ...\n",
       "995 -0.266703   True   4.311289\n",
       "996  1.030838   True   9.227912\n",
       "997  0.067307  False   0.182366\n",
       "998 -1.157805  False  -2.584106\n",
       "999  0.085725   True   5.418982\n",
       "\n",
       "[1000 rows x 3 columns]"
      ]
     },
     "execution_count": 2,
     "metadata": {},
     "output_type": "execute_result"
    }
   ],
   "source": [
    "data = dowhy.datasets.linear_dataset(beta=5,\n",
    "        num_common_causes=1,\n",
    "        num_instruments = 0,\n",
    "        num_samples=1000,\n",
    "        treatment_is_binary=True)\n",
    "df = data['df']\n",
    "df['y'] = df['y'] + np.random.normal(size=len(df)) # Adding noise to data. Without noise, the variance in Y|X, Z is zero, and mcmc fails.\n",
    "#data['dot_graph'] = 'digraph { v ->y;X0-> v;X0-> y;}'\n",
    "\n",
    "treatment= data[\"treatment_name\"][0]\n",
    "outcome = data[\"outcome_name\"][0]\n",
    "common_cause = data[\"common_causes_names\"][0]\n",
    "df"
   ]
  },
  {
   "cell_type": "code",
   "execution_count": 3,
   "metadata": {
    "execution": {
     "iopub.execute_input": "2022-08-01T07:45:36.246385Z",
     "iopub.status.busy": "2022-08-01T07:45:36.246156Z",
     "iopub.status.idle": "2022-08-01T07:45:37.020639Z",
     "shell.execute_reply": "2022-08-01T07:45:37.020080Z"
    }
   },
   "outputs": [
    {
     "data": {
      "text/plain": [
       "<AxesSubplot:xlabel='v0'>"
      ]
     },
     "execution_count": 3,
     "metadata": {},
     "output_type": "execute_result"
    },
    {
     "data": {
      "image/png": "[encoded data removed]",
      "text/plain": [
       "<Figure size 432x288 with 1 Axes>"
      ]
     },
     "metadata": {
      "needs_background": "light"
     },
     "output_type": "display_data"
    }
   ],
   "source": [
    "# data['df'] is just a regular pandas.DataFrame\n",
    "df.causal.do(x=treatment,\n",
    "                     variable_types={treatment: 'b', outcome: 'c', common_cause: 'c'},\n",
    "                     outcome=outcome,\n",
    "                     common_causes=[common_cause],\n",
    "                     proceed_when_unidentifiable=True).groupby(treatment).mean().plot(y=outcome, kind='bar')"
   ]
  },
  {
   "cell_type": "code",
   "execution_count": 4,
   "metadata": {
    "execution": {
     "iopub.execute_input": "2022-08-01T07:45:37.024892Z",
     "iopub.status.busy": "2022-08-01T07:45:37.023695Z",
     "iopub.status.idle": "2022-08-01T07:45:37.115033Z",
     "shell.execute_reply": "2022-08-01T07:45:37.114466Z"
    }
   },
   "outputs": [
    {
     "data": {
      "text/plain": [
       "<AxesSubplot:xlabel='v0'>"
      ]
     },
     "execution_count": 4,
     "metadata": {},
     "output_type": "execute_result"
    },
    {
     "data": {
      "image/png": "[encoded data removed]",
      "text/plain": [
       "<Figure size 432x288 with 1 Axes>"
      ]
     },
     "metadata": {
      "needs_background": "light"
     },
     "output_type": "display_data"
    }
   ],
   "source": [
    "df.causal.do(x={treatment: 1}, \n",
    "              variable_types={treatment:'b', outcome: 'c', common_cause: 'c'}, \n",
    "              outcome=outcome,\n",
    "              method='weighting', \n",
    "              common_causes=[common_cause],\n",
    "              proceed_when_unidentifiable=True).groupby(treatment).mean().plot(y=outcome, kind='bar')"
   ]
  },
  {
   "cell_type": "code",
   "execution_count": 5,
   "metadata": {
    "execution": {
     "iopub.execute_input": "2022-08-01T07:45:37.119405Z",
     "iopub.status.busy": "2022-08-01T07:45:37.118369Z",
     "iopub.status.idle": "2022-08-01T07:45:37.149754Z",
     "shell.execute_reply": "2022-08-01T07:45:37.149241Z"
    }
   },
   "outputs": [],
   "source": [
    "cdf_1 = df.causal.do(x={treatment: 1}, \n",
    "              variable_types={treatment: 'b', outcome: 'c', common_cause: 'c'}, \n",
    "              outcome=outcome, \n",
    "              dot_graph=data['dot_graph'],\n",
    "              proceed_when_unidentifiable=True)\n",
    "\n",
    "cdf_0 = df.causal.do(x={treatment: 0}, \n",
    "              variable_types={treatment: 'b', outcome: 'c', common_cause: 'c'}, \n",
    "              outcome=outcome, \n",
    "              dot_graph=data['dot_graph'],\n",
    "              proceed_when_unidentifiable=True)\n"
   ]
  },
  {
   "cell_type": "code",
   "execution_count": 6,
   "metadata": {
    "execution": {
     "iopub.execute_input": "2022-08-01T07:45:37.153802Z",
     "iopub.status.busy": "2022-08-01T07:45:37.152742Z",
     "iopub.status.idle": "2022-08-01T07:45:37.165019Z",
     "shell.execute_reply": "2022-08-01T07:45:37.164450Z"
    },
    "scrolled": true
   },
   "outputs": [
    {
     "data": {
      "text/html": [
       "<div>\n",
       "<style scoped>\n",
       "    .dataframe tbody tr th:only-of-type {\n",
       "        vertical-align: middle;\n",
       "    }\n",
       "\n",
       "    .dataframe tbody tr th {\n",
       "        vertical-align: top;\n",
       "    }\n",
       "\n",
       "    .dataframe thead th {\n",
       "        text-align: right;\n",
       "    }\n",
       "</style>\n",
       "<table border=\"1\" class=\"dataframe\">\n",
       "  <thead>\n",
       "    <tr style=\"text-align: right;\">\n",
       "      <th></th>\n",
       "      <th>W0</th>\n",
       "      <th>v0</th>\n",
       "      <th>y</th>\n",
       "      <th>propensity_score</th>\n",
       "      <th>weight</th>\n",
       "    </tr>\n",
       "  </thead>\n",
       "  <tbody>\n",
       "    <tr>\n",
       "      <th>0</th>\n",
       "      <td>-0.924300</td>\n",
       "      <td>False</td>\n",
       "      <td>-1.698171</td>\n",
       "      <td>0.707058</td>\n",
       "      <td>1.414311</td>\n",
       "    </tr>\n",
       "    <tr>\n",
       "      <th>1</th>\n",
       "      <td>-0.058899</td>\n",
       "      <td>False</td>\n",
       "      <td>0.425949</td>\n",
       "      <td>0.497546</td>\n",
       "      <td>2.009866</td>\n",
       "    </tr>\n",
       "    <tr>\n",
       "      <th>2</th>\n",
       "      <td>-1.195806</td>\n",
       "      <td>False</td>\n",
       "      <td>-2.124859</td>\n",
       "      <td>0.761453</td>\n",
       "      <td>1.313279</td>\n",
       "    </tr>\n",
       "    <tr>\n",
       "      <th>3</th>\n",
       "      <td>0.080706</td>\n",
       "      <td>False</td>\n",
       "      <td>1.201492</td>\n",
       "      <td>0.461689</td>\n",
       "      <td>2.165961</td>\n",
       "    </tr>\n",
       "    <tr>\n",
       "      <th>4</th>\n",
       "      <td>-0.554231</td>\n",
       "      <td>False</td>\n",
       "      <td>-2.311099</td>\n",
       "      <td>0.622493</td>\n",
       "      <td>1.606445</td>\n",
       "    </tr>\n",
       "    <tr>\n",
       "      <th>...</th>\n",
       "      <td>...</td>\n",
       "      <td>...</td>\n",
       "      <td>...</td>\n",
       "      <td>...</td>\n",
       "      <td>...</td>\n",
       "    </tr>\n",
       "    <tr>\n",
       "      <th>995</th>\n",
       "      <td>0.305905</td>\n",
       "      <td>False</td>\n",
       "      <td>1.398080</td>\n",
       "      <td>0.404827</td>\n",
       "      <td>2.470194</td>\n",
       "    </tr>\n",
       "    <tr>\n",
       "      <th>996</th>\n",
       "      <td>0.102170</td>\n",
       "      <td>False</td>\n",
       "      <td>-1.820377</td>\n",
       "      <td>0.456202</td>\n",
       "      <td>2.192013</td>\n",
       "    </tr>\n",
       "    <tr>\n",
       "      <th>997</th>\n",
       "      <td>-0.474058</td>\n",
       "      <td>False</td>\n",
       "      <td>-0.998808</td>\n",
       "      <td>0.602909</td>\n",
       "      <td>1.658625</td>\n",
       "    </tr>\n",
       "    <tr>\n",
       "      <th>998</th>\n",
       "      <td>-3.208118</td>\n",
       "      <td>False</td>\n",
       "      <td>-7.105793</td>\n",
       "      <td>0.962035</td>\n",
       "      <td>1.039463</td>\n",
       "    </tr>\n",
       "    <tr>\n",
       "      <th>999</th>\n",
       "      <td>-2.282650</td>\n",
       "      <td>False</td>\n",
       "      <td>-5.695839</td>\n",
       "      <td>0.907173</td>\n",
       "      <td>1.102325</td>\n",
       "    </tr>\n",
       "  </tbody>\n",
       "</table>\n",
       "<p>1000 rows × 5 columns</p>\n",
       "</div>"
      ],
      "text/plain": [
       "           W0     v0         y  propensity_score    weight\n",
       "0   -0.924300  False -1.698171          0.707058  1.414311\n",
       "1   -0.058899  False  0.425949          0.497546  2.009866\n",
       "2   -1.195806  False -2.124859          0.761453  1.313279\n",
       "3    0.080706  False  1.201492          0.461689  2.165961\n",
       "4   -0.554231  False -2.311099          0.622493  1.606445\n",
       "..        ...    ...       ...               ...       ...\n",
       "995  0.305905  False  1.398080          0.404827  2.470194\n",
       "996  0.102170  False -1.820377          0.456202  2.192013\n",
       "997 -0.474058  False -0.998808          0.602909  1.658625\n",
       "998 -3.208118  False -7.105793          0.962035  1.039463\n",
       "999 -2.282650  False -5.695839          0.907173  1.102325\n",
       "\n",
       "[1000 rows x 5 columns]"
      ]
     },
     "execution_count": 6,
     "metadata": {},
     "output_type": "execute_result"
    }
   ],
   "source": [
    "cdf_0"
   ]
  },
  {
   "cell_type": "code",
   "execution_count": 7,
   "metadata": {
    "execution": {
     "iopub.execute_input": "2022-08-01T07:45:37.167594Z",
     "iopub.status.busy": "2022-08-01T07:45:37.167373Z",
     "iopub.status.idle": "2022-08-01T07:45:37.178222Z",
     "shell.execute_reply": "2022-08-01T07:45:37.177604Z"
    }
   },
   "outputs": [
    {
     "data": {
      "text/html": [
       "<div>\n",
       "<style scoped>\n",
       "    .dataframe tbody tr th:only-of-type {\n",
       "        vertical-align: middle;\n",
       "    }\n",
       "\n",
       "    .dataframe tbody tr th {\n",
       "        vertical-align: top;\n",
       "    }\n",
       "\n",
       "    .dataframe thead th {\n",
       "        text-align: right;\n",
       "    }\n",
       "</style>\n",
       "<table border=\"1\" class=\"dataframe\">\n",
       "  <thead>\n",
       "    <tr style=\"text-align: right;\">\n",
       "      <th></th>\n",
       "      <th>W0</th>\n",
       "      <th>v0</th>\n",
       "      <th>y</th>\n",
       "      <th>propensity_score</th>\n",
       "      <th>weight</th>\n",
       "    </tr>\n",
       "  </thead>\n",
       "  <tbody>\n",
       "    <tr>\n",
       "      <th>0</th>\n",
       "      <td>1.267065</td>\n",
       "      <td>True</td>\n",
       "      <td>7.892920</td>\n",
       "      <td>0.798177</td>\n",
       "      <td>1.252855</td>\n",
       "    </tr>\n",
       "    <tr>\n",
       "      <th>1</th>\n",
       "      <td>1.246553</td>\n",
       "      <td>True</td>\n",
       "      <td>7.665516</td>\n",
       "      <td>0.794754</td>\n",
       "      <td>1.258252</td>\n",
       "    </tr>\n",
       "    <tr>\n",
       "      <th>2</th>\n",
       "      <td>0.478518</td>\n",
       "      <td>True</td>\n",
       "      <td>6.130661</td>\n",
       "      <td>0.637171</td>\n",
       "      <td>1.569438</td>\n",
       "    </tr>\n",
       "    <tr>\n",
       "      <th>3</th>\n",
       "      <td>-0.180794</td>\n",
       "      <td>True</td>\n",
       "      <td>6.142572</td>\n",
       "      <td>0.471113</td>\n",
       "      <td>2.122633</td>\n",
       "    </tr>\n",
       "    <tr>\n",
       "      <th>4</th>\n",
       "      <td>-2.056338</td>\n",
       "      <td>True</td>\n",
       "      <td>-1.258341</td>\n",
       "      <td>0.114396</td>\n",
       "      <td>8.741580</td>\n",
       "    </tr>\n",
       "    <tr>\n",
       "      <th>...</th>\n",
       "      <td>...</td>\n",
       "      <td>...</td>\n",
       "      <td>...</td>\n",
       "      <td>...</td>\n",
       "      <td>...</td>\n",
       "    </tr>\n",
       "    <tr>\n",
       "      <th>995</th>\n",
       "      <td>1.152061</td>\n",
       "      <td>True</td>\n",
       "      <td>9.300843</td>\n",
       "      <td>0.778430</td>\n",
       "      <td>1.284638</td>\n",
       "    </tr>\n",
       "    <tr>\n",
       "      <th>996</th>\n",
       "      <td>-1.613753</td>\n",
       "      <td>True</td>\n",
       "      <td>-0.586754</td>\n",
       "      <td>0.169250</td>\n",
       "      <td>5.908416</td>\n",
       "    </tr>\n",
       "    <tr>\n",
       "      <th>997</th>\n",
       "      <td>-1.284630</td>\n",
       "      <td>True</td>\n",
       "      <td>2.192241</td>\n",
       "      <td>0.222335</td>\n",
       "      <td>4.497711</td>\n",
       "    </tr>\n",
       "    <tr>\n",
       "      <th>998</th>\n",
       "      <td>2.245013</td>\n",
       "      <td>True</td>\n",
       "      <td>11.622917</td>\n",
       "      <td>0.915426</td>\n",
       "      <td>1.092387</td>\n",
       "    </tr>\n",
       "    <tr>\n",
       "      <th>999</th>\n",
       "      <td>0.521546</td>\n",
       "      <td>True</td>\n",
       "      <td>8.306054</td>\n",
       "      <td>0.647348</td>\n",
       "      <td>1.544763</td>\n",
       "    </tr>\n",
       "  </tbody>\n",
       "</table>\n",
       "<p>1000 rows × 5 columns</p>\n",
       "</div>"
      ],
      "text/plain": [
       "           W0    v0          y  propensity_score    weight\n",
       "0    1.267065  True   7.892920          0.798177  1.252855\n",
       "1    1.246553  True   7.665516          0.794754  1.258252\n",
       "2    0.478518  True   6.130661          0.637171  1.569438\n",
       "3   -0.180794  True   6.142572          0.471113  2.122633\n",
       "4   -2.056338  True  -1.258341          0.114396  8.741580\n",
       "..        ...   ...        ...               ...       ...\n",
       "995  1.152061  True   9.300843          0.778430  1.284638\n",
       "996 -1.613753  True  -0.586754          0.169250  5.908416\n",
       "997 -1.284630  True   2.192241          0.222335  4.497711\n",
       "998  2.245013  True  11.622917          0.915426  1.092387\n",
       "999  0.521546  True   8.306054          0.647348  1.544763\n",
       "\n",
       "[1000 rows x 5 columns]"
      ]
     },
     "execution_count": 7,
     "metadata": {},
     "output_type": "execute_result"
    }
   ],
   "source": [
    "cdf_1"
   ]
  },
  {
   "cell_type": "markdown",
   "metadata": {},
   "source": [
    "## Comparing the estimate to Linear Regression\n",
    "First, estimating the effect using the causal data frame, and the 95% confidence interval."
   ]
  },
  {
   "cell_type": "code",
   "execution_count": 8,
   "metadata": {
    "execution": {
     "iopub.execute_input": "2022-08-01T07:45:37.181010Z",
     "iopub.status.busy": "2022-08-01T07:45:37.180772Z",
     "iopub.status.idle": "2022-08-01T07:45:37.279320Z",
     "shell.execute_reply": "2022-08-01T07:45:37.278633Z"
    }
   },
   "outputs": [
    {
     "data": {
      "image/png": "[encoded data removed]",
      "text/latex": [
       "$\\displaystyle 5.03355771009608$"
      ],
      "text/plain": [
       "5.033557710096076"
      ]
     },
     "execution_count": 8,
     "metadata": {},
     "output_type": "execute_result"
    }
   ],
   "source": [
    "(cdf_1['y'] - cdf_0['y']).mean()"
   ]
  },
  {
   "cell_type": "code",
   "execution_count": 9,
   "metadata": {
    "execution": {
     "iopub.execute_input": "2022-08-01T07:45:37.282248Z",
     "iopub.status.busy": "2022-08-01T07:45:37.281834Z",
     "iopub.status.idle": "2022-08-01T07:45:37.306290Z",
     "shell.execute_reply": "2022-08-01T07:45:37.305647Z"
    }
   },
   "outputs": [
    {
     "data": {
      "image/png": "[encoded data removed]",
      "text/latex": [
       "$\\displaystyle 0.230438475723647$"
      ],
      "text/plain": [
       "0.23043847572364734"
      ]
     },
     "execution_count": 9,
     "metadata": {},
     "output_type": "execute_result"
    }
   ],
   "source": [
    "1.96*(cdf_1['y'] - cdf_0['y']).std() / np.sqrt(len(df))"
   ]
  },
  {
   "cell_type": "markdown",
   "metadata": {},
   "source": [
    "Comparing to the estimate from OLS."
   ]
  },
  {
   "cell_type": "code",
   "execution_count": 10,
   "metadata": {
    "execution": {
     "iopub.execute_input": "2022-08-01T07:45:37.309161Z",
     "iopub.status.busy": "2022-08-01T07:45:37.308726Z",
     "iopub.status.idle": "2022-08-01T07:45:37.326804Z",
     "shell.execute_reply": "2022-08-01T07:45:37.326243Z"
    }
   },
   "outputs": [
    {
     "data": {
      "text/html": [
       "<table class=\"simpletable\">\n",
       "<caption>OLS Regression Results</caption>\n",
       "<tr>\n",
       "  <th>Dep. Variable:</th>            <td>y</td>        <th>  R-squared (uncentered):</th>      <td>   0.958</td> \n",
       "</tr>\n",
       "<tr>\n",
       "  <th>Model:</th>                   <td>OLS</td>       <th>  Adj. R-squared (uncentered):</th> <td>   0.958</td> \n",
       "</tr>\n",
       "<tr>\n",
       "  <th>Method:</th>             <td>Least Squares</td>  <th>  F-statistic:       </th>          <td>1.133e+04</td>\n",
       "</tr>\n",
       "<tr>\n",
       "  <th>Date:</th>             <td>Mon, 01 Aug 2022</td> <th>  Prob (F-statistic):</th>           <td>  0.00</td>  \n",
       "</tr>\n",
       "<tr>\n",
       "  <th>Time:</th>                 <td>07:45:37</td>     <th>  Log-Likelihood:    </th>          <td> -1405.3</td> \n",
       "</tr>\n",
       "<tr>\n",
       "  <th>No. Observations:</th>      <td>  1000</td>      <th>  AIC:               </th>          <td>   2815.</td> \n",
       "</tr>\n",
       "<tr>\n",
       "  <th>Df Residuals:</th>          <td>   998</td>      <th>  BIC:               </th>          <td>   2824.</td> \n",
       "</tr>\n",
       "<tr>\n",
       "  <th>Df Model:</th>              <td>     2</td>      <th>                     </th>              <td> </td>    \n",
       "</tr>\n",
       "<tr>\n",
       "  <th>Covariance Type:</th>      <td>nonrobust</td>    <th>                     </th>              <td> </td>    \n",
       "</tr>\n",
       "</table>\n",
       "<table class=\"simpletable\">\n",
       "<tr>\n",
       "   <td></td>     <th>coef</th>     <th>std err</th>      <th>t</th>      <th>P>|t|</th>  <th>[0.025</th>    <th>0.975]</th>  \n",
       "</tr>\n",
       "<tr>\n",
       "  <th>x1</th> <td>    2.4717</td> <td>    0.032</td> <td>   78.138</td> <td> 0.000</td> <td>    2.410</td> <td>    2.534</td>\n",
       "</tr>\n",
       "<tr>\n",
       "  <th>x2</th> <td>    5.0003</td> <td>    0.046</td> <td>  109.380</td> <td> 0.000</td> <td>    4.911</td> <td>    5.090</td>\n",
       "</tr>\n",
       "</table>\n",
       "<table class=\"simpletable\">\n",
       "<tr>\n",
       "  <th>Omnibus:</th>       <td> 2.071</td> <th>  Durbin-Watson:     </th> <td>   2.128</td>\n",
       "</tr>\n",
       "<tr>\n",
       "  <th>Prob(Omnibus):</th> <td> 0.355</td> <th>  Jarque-Bera (JB):  </th> <td>   2.045</td>\n",
       "</tr>\n",
       "<tr>\n",
       "  <th>Skew:</th>          <td>-0.067</td> <th>  Prob(JB):          </th> <td>   0.360</td>\n",
       "</tr>\n",
       "<tr>\n",
       "  <th>Kurtosis:</th>      <td> 2.824</td> <th>  Cond. No.          </th> <td>    1.53</td>\n",
       "</tr>\n",
       "</table><br/><br/>Notes:<br/>[1] R² is computed without centering (uncentered) since the model does not contain a constant.<br/>[2] Standard Errors assume that the covariance matrix of the errors is correctly specified."
      ],
      "text/plain": [
       "<class 'statsmodels.iolib.summary.Summary'>\n",
       "\"\"\"\n",
       "                                 OLS Regression Results                                \n",
       "=======================================================================================\n",
       "Dep. Variable:                      y   R-squared (uncentered):                   0.958\n",
       "Model:                            OLS   Adj. R-squared (uncentered):              0.958\n",
       "Method:                 Least Squares   F-statistic:                          1.133e+04\n",
       "Date:                Mon, 01 Aug 2022   Prob (F-statistic):                        0.00\n",
       "Time:                        07:45:37   Log-Likelihood:                         -1405.3\n",
       "No. Observations:                1000   AIC:                                      2815.\n",
       "Df Residuals:                     998   BIC:                                      2824.\n",
       "Df Model:                           2                                                  \n",
       "Covariance Type:            nonrobust                                                  \n",
       "==============================================================================\n",
       "                 coef    std err          t      P>|t|      [0.025      0.975]\n",
       "------------------------------------------------------------------------------\n",
       "x1             2.4717      0.032     78.138      0.000       2.410       2.534\n",
       "x2             5.0003      0.046    109.380      0.000       4.911       5.090\n",
       "==============================================================================\n",
       "Omnibus:                        2.071   Durbin-Watson:                   2.128\n",
       "Prob(Omnibus):                  0.355   Jarque-Bera (JB):                2.045\n",
       "Skew:                          -0.067   Prob(JB):                        0.360\n",
       "Kurtosis:                       2.824   Cond. No.                         1.53\n",
       "==============================================================================\n",
       "\n",
       "Notes:\n",
       "[1] R² is computed without centering (uncentered) since the model does not contain a constant.\n",
       "[2] Standard Errors assume that the covariance matrix of the errors is correctly specified.\n",
       "\"\"\""
      ]
     },
     "execution_count": 10,
     "metadata": {},
     "output_type": "execute_result"
    }
   ],
   "source": [
    "model = OLS(np.asarray(df[outcome]), np.asarray(df[[common_cause, treatment]], dtype=np.float64))\n",
    "result = model.fit()\n",
    "result.summary()"
   ]
  }
 ],
 "metadata": {
  "kernelspec": {
   "display_name": "Python 3",
   "language": "python",
   "name": "python3"
  },
  "language_info": {
   "codemirror_mode": {
    "name": "ipython",
    "version": 3
   },
   "file_extension": ".py",
   "mimetype": "text/x-python",
   "name": "python",
   "nbconvert_exporter": "python",
   "pygments_lexer": "ipython3",
   "version": "3.8.10"
  },
  "toc": {
   "base_numbering": 1,
   "nav_menu": {},
   "number_sections": false,
   "sideBar": true,
   "skip_h1_title": true,
   "title_cell": "Table of Contents",
   "title_sidebar": "Contents",
   "toc_cell": false,
   "toc_position": {},
   "toc_section_display": true,
   "toc_window_display": false
  }
 },
 "nbformat": 4,
 "nbformat_minor": 4
}
