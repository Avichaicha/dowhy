{
 "cells": [
  {
   "cell_type": "markdown",
   "metadata": {},
   "source": [
    "# Demo for the DoWhy causal API\n",
    "We show a simple example of adding a causal extension to any dataframe. "
   ]
  },
  {
   "cell_type": "code",
   "execution_count": 1,
   "metadata": {
    "execution": {
     "iopub.execute_input": "2022-11-16T14:33:33.286359Z",
     "iopub.status.busy": "2022-11-16T14:33:33.286080Z",
     "iopub.status.idle": "2022-11-16T14:33:35.328244Z",
     "shell.execute_reply": "2022-11-16T14:33:35.327481Z"
    }
   },
   "outputs": [],
   "source": [
    "import dowhy.datasets\n",
    "import dowhy.api\n",
    "\n",
    "import numpy as np\n",
    "import pandas as pd\n",
    "\n",
    "from statsmodels.api import OLS"
   ]
  },
  {
   "cell_type": "code",
   "execution_count": 2,
   "metadata": {
    "execution": {
     "iopub.execute_input": "2022-11-16T14:33:35.332967Z",
     "iopub.status.busy": "2022-11-16T14:33:35.332314Z",
     "iopub.status.idle": "2022-11-16T14:33:35.377813Z",
     "shell.execute_reply": "2022-11-16T14:33:35.377080Z"
    }
   },
   "outputs": [
    {
     "data": {
      "text/html": [
       "<div>\n",
       "<style scoped>\n",
       "    .dataframe tbody tr th:only-of-type {\n",
       "        vertical-align: middle;\n",
       "    }\n",
       "\n",
       "    .dataframe tbody tr th {\n",
       "        vertical-align: top;\n",
       "    }\n",
       "\n",
       "    .dataframe thead th {\n",
       "        text-align: right;\n",
       "    }\n",
       "</style>\n",
       "<table border=\"1\" class=\"dataframe\">\n",
       "  <thead>\n",
       "    <tr style=\"text-align: right;\">\n",
       "      <th></th>\n",
       "      <th>W0</th>\n",
       "      <th>v0</th>\n",
       "      <th>y</th>\n",
       "    </tr>\n",
       "  </thead>\n",
       "  <tbody>\n",
       "    <tr>\n",
       "      <th>0</th>\n",
       "      <td>0.722221</td>\n",
       "      <td>True</td>\n",
       "      <td>5.071725</td>\n",
       "    </tr>\n",
       "    <tr>\n",
       "      <th>1</th>\n",
       "      <td>-0.856812</td>\n",
       "      <td>False</td>\n",
       "      <td>0.609465</td>\n",
       "    </tr>\n",
       "    <tr>\n",
       "      <th>2</th>\n",
       "      <td>-2.391374</td>\n",
       "      <td>False</td>\n",
       "      <td>-0.506651</td>\n",
       "    </tr>\n",
       "    <tr>\n",
       "      <th>3</th>\n",
       "      <td>-1.918036</td>\n",
       "      <td>False</td>\n",
       "      <td>-0.601452</td>\n",
       "    </tr>\n",
       "    <tr>\n",
       "      <th>4</th>\n",
       "      <td>0.882127</td>\n",
       "      <td>True</td>\n",
       "      <td>5.128811</td>\n",
       "    </tr>\n",
       "    <tr>\n",
       "      <th>...</th>\n",
       "      <td>...</td>\n",
       "      <td>...</td>\n",
       "      <td>...</td>\n",
       "    </tr>\n",
       "    <tr>\n",
       "      <th>995</th>\n",
       "      <td>-0.596721</td>\n",
       "      <td>False</td>\n",
       "      <td>-0.706700</td>\n",
       "    </tr>\n",
       "    <tr>\n",
       "      <th>996</th>\n",
       "      <td>-1.818413</td>\n",
       "      <td>False</td>\n",
       "      <td>1.128554</td>\n",
       "    </tr>\n",
       "    <tr>\n",
       "      <th>997</th>\n",
       "      <td>-3.046719</td>\n",
       "      <td>False</td>\n",
       "      <td>0.993531</td>\n",
       "    </tr>\n",
       "    <tr>\n",
       "      <th>998</th>\n",
       "      <td>-1.384053</td>\n",
       "      <td>False</td>\n",
       "      <td>0.371187</td>\n",
       "    </tr>\n",
       "    <tr>\n",
       "      <th>999</th>\n",
       "      <td>-0.039941</td>\n",
       "      <td>True</td>\n",
       "      <td>3.792480</td>\n",
       "    </tr>\n",
       "  </tbody>\n",
       "</table>\n",
       "<p>1000 rows × 3 columns</p>\n",
       "</div>"
      ],
      "text/plain": [
       "           W0     v0         y\n",
       "0    0.722221   True  5.071725\n",
       "1   -0.856812  False  0.609465\n",
       "2   -2.391374  False -0.506651\n",
       "3   -1.918036  False -0.601452\n",
       "4    0.882127   True  5.128811\n",
       "..        ...    ...       ...\n",
       "995 -0.596721  False -0.706700\n",
       "996 -1.818413  False  1.128554\n",
       "997 -3.046719  False  0.993531\n",
       "998 -1.384053  False  0.371187\n",
       "999 -0.039941   True  3.792480\n",
       "\n",
       "[1000 rows x 3 columns]"
      ]
     },
     "execution_count": 2,
     "metadata": {},
     "output_type": "execute_result"
    }
   ],
   "source": [
    "data = dowhy.datasets.linear_dataset(beta=5,\n",
    "        num_common_causes=1,\n",
    "        num_instruments = 0,\n",
    "        num_samples=1000,\n",
    "        treatment_is_binary=True)\n",
    "df = data['df']\n",
    "df['y'] = df['y'] + np.random.normal(size=len(df)) # Adding noise to data. Without noise, the variance in Y|X, Z is zero, and mcmc fails.\n",
    "#data['dot_graph'] = 'digraph { v ->y;X0-> v;X0-> y;}'\n",
    "\n",
    "treatment= data[\"treatment_name\"][0]\n",
    "outcome = data[\"outcome_name\"][0]\n",
    "common_cause = data[\"common_causes_names\"][0]\n",
    "df"
   ]
  },
  {
   "cell_type": "code",
   "execution_count": 3,
   "metadata": {
    "execution": {
     "iopub.execute_input": "2022-11-16T14:33:35.381376Z",
     "iopub.status.busy": "2022-11-16T14:33:35.380932Z",
     "iopub.status.idle": "2022-11-16T14:33:35.541840Z",
     "shell.execute_reply": "2022-11-16T14:33:35.541104Z"
    }
   },
   "outputs": [
    {
     "data": {
      "text/plain": [
       "<AxesSubplot: xlabel='v0'>"
      ]
     },
     "execution_count": 3,
     "metadata": {},
     "output_type": "execute_result"
    },
    {
     "data": {
      "image/png": "[encoded data removed]",
      "text/plain": [
       "<Figure size 640x480 with 1 Axes>"
      ]
     },
     "metadata": {},
     "output_type": "display_data"
    }
   ],
   "source": [
    "# data['df'] is just a regular pandas.DataFrame\n",
    "df.causal.do(x=treatment,\n",
    "                     variable_types={treatment: 'b', outcome: 'c', common_cause: 'c'},\n",
    "                     outcome=outcome,\n",
    "                     common_causes=[common_cause],\n",
    "                     proceed_when_unidentifiable=True).groupby(treatment).mean().plot(y=outcome, kind='bar')"
   ]
  },
  {
   "cell_type": "code",
   "execution_count": 4,
   "metadata": {
    "execution": {
     "iopub.execute_input": "2022-11-16T14:33:35.545266Z",
     "iopub.status.busy": "2022-11-16T14:33:35.544759Z",
     "iopub.status.idle": "2022-11-16T14:33:35.665373Z",
     "shell.execute_reply": "2022-11-16T14:33:35.664766Z"
    }
   },
   "outputs": [
    {
     "data": {
      "text/plain": [
       "<AxesSubplot: xlabel='v0'>"
      ]
     },
     "execution_count": 4,
     "metadata": {},
     "output_type": "execute_result"
    },
    {
     "data": {
      "image/png": "[encoded data removed]",
      "text/plain": [
       "<Figure size 640x480 with 1 Axes>"
      ]
     },
     "metadata": {},
     "output_type": "display_data"
    }
   ],
   "source": [
    "df.causal.do(x={treatment: 1}, \n",
    "              variable_types={treatment:'b', outcome: 'c', common_cause: 'c'}, \n",
    "              outcome=outcome,\n",
    "              method='weighting', \n",
    "              common_causes=[common_cause],\n",
    "              proceed_when_unidentifiable=True).groupby(treatment).mean().plot(y=outcome, kind='bar')"
   ]
  },
  {
   "cell_type": "code",
   "execution_count": 5,
   "metadata": {
    "execution": {
     "iopub.execute_input": "2022-11-16T14:33:35.669050Z",
     "iopub.status.busy": "2022-11-16T14:33:35.668552Z",
     "iopub.status.idle": "2022-11-16T14:33:35.702100Z",
     "shell.execute_reply": "2022-11-16T14:33:35.701370Z"
    }
   },
   "outputs": [],
   "source": [
    "cdf_1 = df.causal.do(x={treatment: 1}, \n",
    "              variable_types={treatment: 'b', outcome: 'c', common_cause: 'c'}, \n",
    "              outcome=outcome, \n",
    "              dot_graph=data['dot_graph'],\n",
    "              proceed_when_unidentifiable=True)\n",
    "\n",
    "cdf_0 = df.causal.do(x={treatment: 0}, \n",
    "              variable_types={treatment: 'b', outcome: 'c', common_cause: 'c'}, \n",
    "              outcome=outcome, \n",
    "              dot_graph=data['dot_graph'],\n",
    "              proceed_when_unidentifiable=True)\n"
   ]
  },
  {
   "cell_type": "code",
   "execution_count": 6,
   "metadata": {
    "execution": {
     "iopub.execute_input": "2022-11-16T14:33:35.706200Z",
     "iopub.status.busy": "2022-11-16T14:33:35.705791Z",
     "iopub.status.idle": "2022-11-16T14:33:35.719329Z",
     "shell.execute_reply": "2022-11-16T14:33:35.718737Z"
    },
    "scrolled": true
   },
   "outputs": [
    {
     "data": {
      "text/html": [
       "<div>\n",
       "<style scoped>\n",
       "    .dataframe tbody tr th:only-of-type {\n",
       "        vertical-align: middle;\n",
       "    }\n",
       "\n",
       "    .dataframe tbody tr th {\n",
       "        vertical-align: top;\n",
       "    }\n",
       "\n",
       "    .dataframe thead th {\n",
       "        text-align: right;\n",
       "    }\n",
       "</style>\n",
       "<table border=\"1\" class=\"dataframe\">\n",
       "  <thead>\n",
       "    <tr style=\"text-align: right;\">\n",
       "      <th></th>\n",
       "      <th>W0</th>\n",
       "      <th>v0</th>\n",
       "      <th>y</th>\n",
       "      <th>propensity_score</th>\n",
       "      <th>weight</th>\n",
       "    </tr>\n",
       "  </thead>\n",
       "  <tbody>\n",
       "    <tr>\n",
       "      <th>0</th>\n",
       "      <td>0.035343</td>\n",
       "      <td>False</td>\n",
       "      <td>-0.917536</td>\n",
       "      <td>0.449275</td>\n",
       "      <td>2.225808</td>\n",
       "    </tr>\n",
       "    <tr>\n",
       "      <th>1</th>\n",
       "      <td>-1.869314</td>\n",
       "      <td>False</td>\n",
       "      <td>0.543420</td>\n",
       "      <td>0.988948</td>\n",
       "      <td>1.011176</td>\n",
       "    </tr>\n",
       "    <tr>\n",
       "      <th>2</th>\n",
       "      <td>-0.991416</td>\n",
       "      <td>False</td>\n",
       "      <td>0.842189</td>\n",
       "      <td>0.911233</td>\n",
       "      <td>1.097414</td>\n",
       "    </tr>\n",
       "    <tr>\n",
       "      <th>3</th>\n",
       "      <td>0.063474</td>\n",
       "      <td>False</td>\n",
       "      <td>0.803343</td>\n",
       "      <td>0.432175</td>\n",
       "      <td>2.313878</td>\n",
       "    </tr>\n",
       "    <tr>\n",
       "      <th>4</th>\n",
       "      <td>-0.198865</td>\n",
       "      <td>False</td>\n",
       "      <td>2.422522</td>\n",
       "      <td>0.592436</td>\n",
       "      <td>1.687946</td>\n",
       "    </tr>\n",
       "    <tr>\n",
       "      <th>...</th>\n",
       "      <td>...</td>\n",
       "      <td>...</td>\n",
       "      <td>...</td>\n",
       "      <td>...</td>\n",
       "      <td>...</td>\n",
       "    </tr>\n",
       "    <tr>\n",
       "      <th>995</th>\n",
       "      <td>-3.340516</td>\n",
       "      <td>False</td>\n",
       "      <td>-1.751851</td>\n",
       "      <td>0.999703</td>\n",
       "      <td>1.000297</td>\n",
       "    </tr>\n",
       "    <tr>\n",
       "      <th>996</th>\n",
       "      <td>-1.990039</td>\n",
       "      <td>False</td>\n",
       "      <td>1.798673</td>\n",
       "      <td>0.991771</td>\n",
       "      <td>1.008298</td>\n",
       "    </tr>\n",
       "    <tr>\n",
       "      <th>997</th>\n",
       "      <td>-0.332246</td>\n",
       "      <td>False</td>\n",
       "      <td>0.252788</td>\n",
       "      <td>0.668856</td>\n",
       "      <td>1.495091</td>\n",
       "    </tr>\n",
       "    <tr>\n",
       "      <th>998</th>\n",
       "      <td>-2.192881</td>\n",
       "      <td>False</td>\n",
       "      <td>-0.233216</td>\n",
       "      <td>0.994994</td>\n",
       "      <td>1.005031</td>\n",
       "    </tr>\n",
       "    <tr>\n",
       "      <th>999</th>\n",
       "      <td>-0.922426</td>\n",
       "      <td>False</td>\n",
       "      <td>-0.455756</td>\n",
       "      <td>0.896472</td>\n",
       "      <td>1.115484</td>\n",
       "    </tr>\n",
       "  </tbody>\n",
       "</table>\n",
       "<p>1000 rows × 5 columns</p>\n",
       "</div>"
      ],
      "text/plain": [
       "           W0     v0         y  propensity_score    weight\n",
       "0    0.035343  False -0.917536          0.449275  2.225808\n",
       "1   -1.869314  False  0.543420          0.988948  1.011176\n",
       "2   -0.991416  False  0.842189          0.911233  1.097414\n",
       "3    0.063474  False  0.803343          0.432175  2.313878\n",
       "4   -0.198865  False  2.422522          0.592436  1.687946\n",
       "..        ...    ...       ...               ...       ...\n",
       "995 -3.340516  False -1.751851          0.999703  1.000297\n",
       "996 -1.990039  False  1.798673          0.991771  1.008298\n",
       "997 -0.332246  False  0.252788          0.668856  1.495091\n",
       "998 -2.192881  False -0.233216          0.994994  1.005031\n",
       "999 -0.922426  False -0.455756          0.896472  1.115484\n",
       "\n",
       "[1000 rows x 5 columns]"
      ]
     },
     "execution_count": 6,
     "metadata": {},
     "output_type": "execute_result"
    }
   ],
   "source": [
    "cdf_0"
   ]
  },
  {
   "cell_type": "code",
   "execution_count": 7,
   "metadata": {
    "execution": {
     "iopub.execute_input": "2022-11-16T14:33:35.722480Z",
     "iopub.status.busy": "2022-11-16T14:33:35.721847Z",
     "iopub.status.idle": "2022-11-16T14:33:35.734157Z",
     "shell.execute_reply": "2022-11-16T14:33:35.733573Z"
    }
   },
   "outputs": [
    {
     "data": {
      "text/html": [
       "<div>\n",
       "<style scoped>\n",
       "    .dataframe tbody tr th:only-of-type {\n",
       "        vertical-align: middle;\n",
       "    }\n",
       "\n",
       "    .dataframe tbody tr th {\n",
       "        vertical-align: top;\n",
       "    }\n",
       "\n",
       "    .dataframe thead th {\n",
       "        text-align: right;\n",
       "    }\n",
       "</style>\n",
       "<table border=\"1\" class=\"dataframe\">\n",
       "  <thead>\n",
       "    <tr style=\"text-align: right;\">\n",
       "      <th></th>\n",
       "      <th>W0</th>\n",
       "      <th>v0</th>\n",
       "      <th>y</th>\n",
       "      <th>propensity_score</th>\n",
       "      <th>weight</th>\n",
       "    </tr>\n",
       "  </thead>\n",
       "  <tbody>\n",
       "    <tr>\n",
       "      <th>0</th>\n",
       "      <td>-0.398696</td>\n",
       "      <td>True</td>\n",
       "      <td>6.202966</td>\n",
       "      <td>0.295899</td>\n",
       "      <td>3.379536</td>\n",
       "    </tr>\n",
       "    <tr>\n",
       "      <th>1</th>\n",
       "      <td>-1.319608</td>\n",
       "      <td>True</td>\n",
       "      <td>5.007641</td>\n",
       "      <td>0.041558</td>\n",
       "      <td>24.063004</td>\n",
       "    </tr>\n",
       "    <tr>\n",
       "      <th>2</th>\n",
       "      <td>-1.442337</td>\n",
       "      <td>True</td>\n",
       "      <td>2.537224</td>\n",
       "      <td>0.031041</td>\n",
       "      <td>32.215849</td>\n",
       "    </tr>\n",
       "    <tr>\n",
       "      <th>3</th>\n",
       "      <td>0.745408</td>\n",
       "      <td>True</td>\n",
       "      <td>5.927793</td>\n",
       "      <td>0.875979</td>\n",
       "      <td>1.141579</td>\n",
       "    </tr>\n",
       "    <tr>\n",
       "      <th>4</th>\n",
       "      <td>-1.043505</td>\n",
       "      <td>True</td>\n",
       "      <td>4.435077</td>\n",
       "      <td>0.078910</td>\n",
       "      <td>12.672713</td>\n",
       "    </tr>\n",
       "    <tr>\n",
       "      <th>...</th>\n",
       "      <td>...</td>\n",
       "      <td>...</td>\n",
       "      <td>...</td>\n",
       "      <td>...</td>\n",
       "      <td>...</td>\n",
       "    </tr>\n",
       "    <tr>\n",
       "      <th>995</th>\n",
       "      <td>-1.172192</td>\n",
       "      <td>True</td>\n",
       "      <td>4.394574</td>\n",
       "      <td>0.058710</td>\n",
       "      <td>17.032929</td>\n",
       "    </tr>\n",
       "    <tr>\n",
       "      <th>996</th>\n",
       "      <td>-0.127205</td>\n",
       "      <td>True</td>\n",
       "      <td>5.321446</td>\n",
       "      <td>0.450834</td>\n",
       "      <td>2.218114</td>\n",
       "    </tr>\n",
       "    <tr>\n",
       "      <th>997</th>\n",
       "      <td>-0.612088</td>\n",
       "      <td>True</td>\n",
       "      <td>4.648889</td>\n",
       "      <td>0.198896</td>\n",
       "      <td>5.027765</td>\n",
       "    </tr>\n",
       "    <tr>\n",
       "      <th>998</th>\n",
       "      <td>-1.693558</td>\n",
       "      <td>True</td>\n",
       "      <td>4.918941</td>\n",
       "      <td>0.016948</td>\n",
       "      <td>59.005295</td>\n",
       "    </tr>\n",
       "    <tr>\n",
       "      <th>999</th>\n",
       "      <td>-0.170770</td>\n",
       "      <td>True</td>\n",
       "      <td>5.131444</td>\n",
       "      <td>0.424396</td>\n",
       "      <td>2.356288</td>\n",
       "    </tr>\n",
       "  </tbody>\n",
       "</table>\n",
       "<p>1000 rows × 5 columns</p>\n",
       "</div>"
      ],
      "text/plain": [
       "           W0    v0         y  propensity_score     weight\n",
       "0   -0.398696  True  6.202966          0.295899   3.379536\n",
       "1   -1.319608  True  5.007641          0.041558  24.063004\n",
       "2   -1.442337  True  2.537224          0.031041  32.215849\n",
       "3    0.745408  True  5.927793          0.875979   1.141579\n",
       "4   -1.043505  True  4.435077          0.078910  12.672713\n",
       "..        ...   ...       ...               ...        ...\n",
       "995 -1.172192  True  4.394574          0.058710  17.032929\n",
       "996 -0.127205  True  5.321446          0.450834   2.218114\n",
       "997 -0.612088  True  4.648889          0.198896   5.027765\n",
       "998 -1.693558  True  4.918941          0.016948  59.005295\n",
       "999 -0.170770  True  5.131444          0.424396   2.356288\n",
       "\n",
       "[1000 rows x 5 columns]"
      ]
     },
     "execution_count": 7,
     "metadata": {},
     "output_type": "execute_result"
    }
   ],
   "source": [
    "cdf_1"
   ]
  },
  {
   "cell_type": "markdown",
   "metadata": {},
   "source": [
    "## Comparing the estimate to Linear Regression\n",
    "First, estimating the effect using the causal data frame, and the 95% confidence interval."
   ]
  },
  {
   "cell_type": "code",
   "execution_count": 8,
   "metadata": {
    "execution": {
     "iopub.execute_input": "2022-11-16T14:33:35.737518Z",
     "iopub.status.busy": "2022-11-16T14:33:35.737111Z",
     "iopub.status.idle": "2022-11-16T14:33:35.798812Z",
     "shell.execute_reply": "2022-11-16T14:33:35.798119Z"
    }
   },
   "outputs": [
    {
     "data": {
      "image/png": "[encoded data removed]",
      "text/latex": [
       "$\\displaystyle 5.00457602480349$"
      ],
      "text/plain": [
       "5.004576024803487"
      ]
     },
     "execution_count": 8,
     "metadata": {},
     "output_type": "execute_result"
    }
   ],
   "source": [
    "(cdf_1['y'] - cdf_0['y']).mean()"
   ]
  },
  {
   "cell_type": "code",
   "execution_count": 9,
   "metadata": {
    "execution": {
     "iopub.execute_input": "2022-11-16T14:33:35.802547Z",
     "iopub.status.busy": "2022-11-16T14:33:35.801959Z",
     "iopub.status.idle": "2022-11-16T14:33:35.826238Z",
     "shell.execute_reply": "2022-11-16T14:33:35.825561Z"
    }
   },
   "outputs": [
    {
     "data": {
      "image/png": "[encoded data removed]",
      "text/latex": [
       "$\\displaystyle 0.0892567202527266$"
      ],
      "text/plain": [
       "0.08925672025272663"
      ]
     },
     "execution_count": 9,
     "metadata": {},
     "output_type": "execute_result"
    }
   ],
   "source": [
    "1.96*(cdf_1['y'] - cdf_0['y']).std() / np.sqrt(len(df))"
   ]
  },
  {
   "cell_type": "markdown",
   "metadata": {},
   "source": [
    "Comparing to the estimate from OLS."
   ]
  },
  {
   "cell_type": "code",
   "execution_count": 10,
   "metadata": {
    "execution": {
     "iopub.execute_input": "2022-11-16T14:33:35.829618Z",
     "iopub.status.busy": "2022-11-16T14:33:35.829376Z",
     "iopub.status.idle": "2022-11-16T14:33:35.848002Z",
     "shell.execute_reply": "2022-11-16T14:33:35.847350Z"
    }
   },
   "outputs": [
    {
     "data": {
      "text/html": [
       "<table class=\"simpletable\">\n",
       "<caption>OLS Regression Results</caption>\n",
       "<tr>\n",
       "  <th>Dep. Variable:</th>            <td>y</td>        <th>  R-squared (uncentered):</th>      <td>   0.880</td>\n",
       "</tr>\n",
       "<tr>\n",
       "  <th>Model:</th>                   <td>OLS</td>       <th>  Adj. R-squared (uncentered):</th> <td>   0.880</td>\n",
       "</tr>\n",
       "<tr>\n",
       "  <th>Method:</th>             <td>Least Squares</td>  <th>  F-statistic:       </th>          <td>   3654.</td>\n",
       "</tr>\n",
       "<tr>\n",
       "  <th>Date:</th>             <td>Wed, 16 Nov 2022</td> <th>  Prob (F-statistic):</th>           <td>  0.00</td> \n",
       "</tr>\n",
       "<tr>\n",
       "  <th>Time:</th>                 <td>14:33:35</td>     <th>  Log-Likelihood:    </th>          <td> -1426.9</td>\n",
       "</tr>\n",
       "<tr>\n",
       "  <th>No. Observations:</th>      <td>  1000</td>      <th>  AIC:               </th>          <td>   2858.</td>\n",
       "</tr>\n",
       "<tr>\n",
       "  <th>Df Residuals:</th>          <td>   998</td>      <th>  BIC:               </th>          <td>   2868.</td>\n",
       "</tr>\n",
       "<tr>\n",
       "  <th>Df Model:</th>              <td>     2</td>      <th>                     </th>              <td> </td>   \n",
       "</tr>\n",
       "<tr>\n",
       "  <th>Covariance Type:</th>      <td>nonrobust</td>    <th>                     </th>              <td> </td>   \n",
       "</tr>\n",
       "</table>\n",
       "<table class=\"simpletable\">\n",
       "<tr>\n",
       "   <td></td>     <th>coef</th>     <th>std err</th>      <th>t</th>      <th>P>|t|</th>  <th>[0.025</th>    <th>0.975]</th>  \n",
       "</tr>\n",
       "<tr>\n",
       "  <th>x1</th> <td>    0.1225</td> <td>    0.027</td> <td>    4.552</td> <td> 0.000</td> <td>    0.070</td> <td>    0.175</td>\n",
       "</tr>\n",
       "<tr>\n",
       "  <th>x2</th> <td>    4.9189</td> <td>    0.058</td> <td>   84.330</td> <td> 0.000</td> <td>    4.804</td> <td>    5.033</td>\n",
       "</tr>\n",
       "</table>\n",
       "<table class=\"simpletable\">\n",
       "<tr>\n",
       "  <th>Omnibus:</th>       <td> 0.319</td> <th>  Durbin-Watson:     </th> <td>   2.128</td>\n",
       "</tr>\n",
       "<tr>\n",
       "  <th>Prob(Omnibus):</th> <td> 0.853</td> <th>  Jarque-Bera (JB):  </th> <td>   0.406</td>\n",
       "</tr>\n",
       "<tr>\n",
       "  <th>Skew:</th>          <td>-0.018</td> <th>  Prob(JB):          </th> <td>   0.816</td>\n",
       "</tr>\n",
       "<tr>\n",
       "  <th>Kurtosis:</th>      <td> 2.908</td> <th>  Cond. No.          </th> <td>    2.19</td>\n",
       "</tr>\n",
       "</table><br/><br/>Notes:<br/>[1] R² is computed without centering (uncentered) since the model does not contain a constant.<br/>[2] Standard Errors assume that the covariance matrix of the errors is correctly specified."
      ],
      "text/plain": [
       "<class 'statsmodels.iolib.summary.Summary'>\n",
       "\"\"\"\n",
       "                                 OLS Regression Results                                \n",
       "=======================================================================================\n",
       "Dep. Variable:                      y   R-squared (uncentered):                   0.880\n",
       "Model:                            OLS   Adj. R-squared (uncentered):              0.880\n",
       "Method:                 Least Squares   F-statistic:                              3654.\n",
       "Date:                Wed, 16 Nov 2022   Prob (F-statistic):                        0.00\n",
       "Time:                        14:33:35   Log-Likelihood:                         -1426.9\n",
       "No. Observations:                1000   AIC:                                      2858.\n",
       "Df Residuals:                     998   BIC:                                      2868.\n",
       "Df Model:                           2                                                  \n",
       "Covariance Type:            nonrobust                                                  \n",
       "==============================================================================\n",
       "                 coef    std err          t      P>|t|      [0.025      0.975]\n",
       "------------------------------------------------------------------------------\n",
       "x1             0.1225      0.027      4.552      0.000       0.070       0.175\n",
       "x2             4.9189      0.058     84.330      0.000       4.804       5.033\n",
       "==============================================================================\n",
       "Omnibus:                        0.319   Durbin-Watson:                   2.128\n",
       "Prob(Omnibus):                  0.853   Jarque-Bera (JB):                0.406\n",
       "Skew:                          -0.018   Prob(JB):                        0.816\n",
       "Kurtosis:                       2.908   Cond. No.                         2.19\n",
       "==============================================================================\n",
       "\n",
       "Notes:\n",
       "[1] R² is computed without centering (uncentered) since the model does not contain a constant.\n",
       "[2] Standard Errors assume that the covariance matrix of the errors is correctly specified.\n",
       "\"\"\""
      ]
     },
     "execution_count": 10,
     "metadata": {},
     "output_type": "execute_result"
    }
   ],
   "source": [
    "model = OLS(np.asarray(df[outcome]), np.asarray(df[[common_cause, treatment]], dtype=np.float64))\n",
    "result = model.fit()\n",
    "result.summary()"
   ]
  }
 ],
 "metadata": {
  "kernelspec": {
   "display_name": "Python 3",
   "language": "python",
   "name": "python3"
  },
  "language_info": {
   "codemirror_mode": {
    "name": "ipython",
    "version": 3
   },
   "file_extension": ".py",
   "mimetype": "text/x-python",
   "name": "python",
   "nbconvert_exporter": "python",
   "pygments_lexer": "ipython3",
   "version": "3.8.10"
  },
  "toc": {
   "base_numbering": 1,
   "nav_menu": {},
   "number_sections": false,
   "sideBar": true,
   "skip_h1_title": true,
   "title_cell": "Table of Contents",
   "title_sidebar": "Contents",
   "toc_cell": false,
   "toc_position": {},
   "toc_section_display": true,
   "toc_window_display": false
  }
 },
 "nbformat": 4,
 "nbformat_minor": 4
}
