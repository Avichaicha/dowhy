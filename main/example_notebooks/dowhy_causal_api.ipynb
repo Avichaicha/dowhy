{
 "cells": [
  {
   "cell_type": "markdown",
   "metadata": {},
   "source": [
    "# Demo for the DoWhy causal API\n",
    "We show a simple example of adding a causal extension to any dataframe. "
   ]
  },
  {
   "cell_type": "code",
   "execution_count": 1,
   "metadata": {
    "execution": {
     "iopub.execute_input": "2022-12-22T14:17:05.830521Z",
     "iopub.status.busy": "2022-12-22T14:17:05.830234Z",
     "iopub.status.idle": "2022-12-22T14:17:08.387585Z",
     "shell.execute_reply": "2022-12-22T14:17:08.386598Z"
    }
   },
   "outputs": [],
   "source": [
    "import dowhy.datasets\n",
    "import dowhy.api\n",
    "\n",
    "import numpy as np\n",
    "import pandas as pd\n",
    "\n",
    "from statsmodels.api import OLS"
   ]
  },
  {
   "cell_type": "code",
   "execution_count": 2,
   "metadata": {
    "execution": {
     "iopub.execute_input": "2022-12-22T14:17:08.392643Z",
     "iopub.status.busy": "2022-12-22T14:17:08.391739Z",
     "iopub.status.idle": "2022-12-22T14:17:08.464580Z",
     "shell.execute_reply": "2022-12-22T14:17:08.463331Z"
    }
   },
   "outputs": [
    {
     "data": {
      "text/html": [
       "<div>\n",
       "<style scoped>\n",
       "    .dataframe tbody tr th:only-of-type {\n",
       "        vertical-align: middle;\n",
       "    }\n",
       "\n",
       "    .dataframe tbody tr th {\n",
       "        vertical-align: top;\n",
       "    }\n",
       "\n",
       "    .dataframe thead th {\n",
       "        text-align: right;\n",
       "    }\n",
       "</style>\n",
       "<table border=\"1\" class=\"dataframe\">\n",
       "  <thead>\n",
       "    <tr style=\"text-align: right;\">\n",
       "      <th></th>\n",
       "      <th>W0</th>\n",
       "      <th>v0</th>\n",
       "      <th>y</th>\n",
       "    </tr>\n",
       "  </thead>\n",
       "  <tbody>\n",
       "    <tr>\n",
       "      <th>0</th>\n",
       "      <td>-0.948285</td>\n",
       "      <td>True</td>\n",
       "      <td>2.882150</td>\n",
       "    </tr>\n",
       "    <tr>\n",
       "      <th>1</th>\n",
       "      <td>-2.415717</td>\n",
       "      <td>True</td>\n",
       "      <td>0.770062</td>\n",
       "    </tr>\n",
       "    <tr>\n",
       "      <th>2</th>\n",
       "      <td>-1.382551</td>\n",
       "      <td>False</td>\n",
       "      <td>-2.610313</td>\n",
       "    </tr>\n",
       "    <tr>\n",
       "      <th>3</th>\n",
       "      <td>-2.102173</td>\n",
       "      <td>False</td>\n",
       "      <td>-2.845485</td>\n",
       "    </tr>\n",
       "    <tr>\n",
       "      <th>4</th>\n",
       "      <td>-1.985122</td>\n",
       "      <td>False</td>\n",
       "      <td>-4.040281</td>\n",
       "    </tr>\n",
       "    <tr>\n",
       "      <th>...</th>\n",
       "      <td>...</td>\n",
       "      <td>...</td>\n",
       "      <td>...</td>\n",
       "    </tr>\n",
       "    <tr>\n",
       "      <th>995</th>\n",
       "      <td>1.146055</td>\n",
       "      <td>True</td>\n",
       "      <td>5.640168</td>\n",
       "    </tr>\n",
       "    <tr>\n",
       "      <th>996</th>\n",
       "      <td>-1.377612</td>\n",
       "      <td>True</td>\n",
       "      <td>2.990113</td>\n",
       "    </tr>\n",
       "    <tr>\n",
       "      <th>997</th>\n",
       "      <td>-1.962740</td>\n",
       "      <td>False</td>\n",
       "      <td>-3.439705</td>\n",
       "    </tr>\n",
       "    <tr>\n",
       "      <th>998</th>\n",
       "      <td>-1.970949</td>\n",
       "      <td>False</td>\n",
       "      <td>-2.641655</td>\n",
       "    </tr>\n",
       "    <tr>\n",
       "      <th>999</th>\n",
       "      <td>-0.674800</td>\n",
       "      <td>True</td>\n",
       "      <td>3.427991</td>\n",
       "    </tr>\n",
       "  </tbody>\n",
       "</table>\n",
       "<p>1000 rows × 3 columns</p>\n",
       "</div>"
      ],
      "text/plain": [
       "           W0     v0         y\n",
       "0   -0.948285   True  2.882150\n",
       "1   -2.415717   True  0.770062\n",
       "2   -1.382551  False -2.610313\n",
       "3   -2.102173  False -2.845485\n",
       "4   -1.985122  False -4.040281\n",
       "..        ...    ...       ...\n",
       "995  1.146055   True  5.640168\n",
       "996 -1.377612   True  2.990113\n",
       "997 -1.962740  False -3.439705\n",
       "998 -1.970949  False -2.641655\n",
       "999 -0.674800   True  3.427991\n",
       "\n",
       "[1000 rows x 3 columns]"
      ]
     },
     "execution_count": 2,
     "metadata": {},
     "output_type": "execute_result"
    }
   ],
   "source": [
    "data = dowhy.datasets.linear_dataset(beta=5,\n",
    "        num_common_causes=1,\n",
    "        num_instruments = 0,\n",
    "        num_samples=1000,\n",
    "        treatment_is_binary=True)\n",
    "df = data['df']\n",
    "df['y'] = df['y'] + np.random.normal(size=len(df)) # Adding noise to data. Without noise, the variance in Y|X, Z is zero, and mcmc fails.\n",
    "#data['dot_graph'] = 'digraph { v ->y;X0-> v;X0-> y;}'\n",
    "\n",
    "treatment= data[\"treatment_name\"][0]\n",
    "outcome = data[\"outcome_name\"][0]\n",
    "common_cause = data[\"common_causes_names\"][0]\n",
    "df"
   ]
  },
  {
   "cell_type": "code",
   "execution_count": 3,
   "metadata": {
    "execution": {
     "iopub.execute_input": "2022-12-22T14:17:08.468877Z",
     "iopub.status.busy": "2022-12-22T14:17:08.468168Z",
     "iopub.status.idle": "2022-12-22T14:17:08.698083Z",
     "shell.execute_reply": "2022-12-22T14:17:08.696656Z"
    }
   },
   "outputs": [
    {
     "data": {
      "text/plain": [
       "<AxesSubplot: xlabel='v0'>"
      ]
     },
     "execution_count": 3,
     "metadata": {},
     "output_type": "execute_result"
    },
    {
     "data": {
      "image/png": "[encoded data removed]",
      "text/plain": [
       "<Figure size 640x480 with 1 Axes>"
      ]
     },
     "metadata": {},
     "output_type": "display_data"
    }
   ],
   "source": [
    "# data['df'] is just a regular pandas.DataFrame\n",
    "df.causal.do(x=treatment,\n",
    "                     variable_types={treatment: 'b', outcome: 'c', common_cause: 'c'},\n",
    "                     outcome=outcome,\n",
    "                     common_causes=[common_cause],\n",
    "                     proceed_when_unidentifiable=True).groupby(treatment).mean().plot(y=outcome, kind='bar')"
   ]
  },
  {
   "cell_type": "code",
   "execution_count": 4,
   "metadata": {
    "execution": {
     "iopub.execute_input": "2022-12-22T14:17:08.707447Z",
     "iopub.status.busy": "2022-12-22T14:17:08.706837Z",
     "iopub.status.idle": "2022-12-22T14:17:08.900772Z",
     "shell.execute_reply": "2022-12-22T14:17:08.899974Z"
    }
   },
   "outputs": [
    {
     "data": {
      "text/plain": [
       "<AxesSubplot: xlabel='v0'>"
      ]
     },
     "execution_count": 4,
     "metadata": {},
     "output_type": "execute_result"
    },
    {
     "data": {
      "image/png": "[encoded data removed]",
      "text/plain": [
       "<Figure size 640x480 with 1 Axes>"
      ]
     },
     "metadata": {},
     "output_type": "display_data"
    }
   ],
   "source": [
    "df.causal.do(x={treatment: 1}, \n",
    "              variable_types={treatment:'b', outcome: 'c', common_cause: 'c'}, \n",
    "              outcome=outcome,\n",
    "              method='weighting', \n",
    "              common_causes=[common_cause],\n",
    "              proceed_when_unidentifiable=True).groupby(treatment).mean().plot(y=outcome, kind='bar')"
   ]
  },
  {
   "cell_type": "code",
   "execution_count": 5,
   "metadata": {
    "execution": {
     "iopub.execute_input": "2022-12-22T14:17:08.904450Z",
     "iopub.status.busy": "2022-12-22T14:17:08.903849Z",
     "iopub.status.idle": "2022-12-22T14:17:08.948001Z",
     "shell.execute_reply": "2022-12-22T14:17:08.947119Z"
    }
   },
   "outputs": [],
   "source": [
    "cdf_1 = df.causal.do(x={treatment: 1}, \n",
    "              variable_types={treatment: 'b', outcome: 'c', common_cause: 'c'}, \n",
    "              outcome=outcome, \n",
    "              dot_graph=data['dot_graph'],\n",
    "              proceed_when_unidentifiable=True)\n",
    "\n",
    "cdf_0 = df.causal.do(x={treatment: 0}, \n",
    "              variable_types={treatment: 'b', outcome: 'c', common_cause: 'c'}, \n",
    "              outcome=outcome, \n",
    "              dot_graph=data['dot_graph'],\n",
    "              proceed_when_unidentifiable=True)\n"
   ]
  },
  {
   "cell_type": "code",
   "execution_count": 6,
   "metadata": {
    "execution": {
     "iopub.execute_input": "2022-12-22T14:17:08.951820Z",
     "iopub.status.busy": "2022-12-22T14:17:08.951327Z",
     "iopub.status.idle": "2022-12-22T14:17:08.966224Z",
     "shell.execute_reply": "2022-12-22T14:17:08.965344Z"
    },
    "scrolled": true
   },
   "outputs": [
    {
     "data": {
      "text/html": [
       "<div>\n",
       "<style scoped>\n",
       "    .dataframe tbody tr th:only-of-type {\n",
       "        vertical-align: middle;\n",
       "    }\n",
       "\n",
       "    .dataframe tbody tr th {\n",
       "        vertical-align: top;\n",
       "    }\n",
       "\n",
       "    .dataframe thead th {\n",
       "        text-align: right;\n",
       "    }\n",
       "</style>\n",
       "<table border=\"1\" class=\"dataframe\">\n",
       "  <thead>\n",
       "    <tr style=\"text-align: right;\">\n",
       "      <th></th>\n",
       "      <th>W0</th>\n",
       "      <th>v0</th>\n",
       "      <th>y</th>\n",
       "      <th>propensity_score</th>\n",
       "      <th>weight</th>\n",
       "    </tr>\n",
       "  </thead>\n",
       "  <tbody>\n",
       "    <tr>\n",
       "      <th>0</th>\n",
       "      <td>-0.993255</td>\n",
       "      <td>False</td>\n",
       "      <td>-0.006908</td>\n",
       "      <td>0.590904</td>\n",
       "      <td>1.692323</td>\n",
       "    </tr>\n",
       "    <tr>\n",
       "      <th>1</th>\n",
       "      <td>-1.131767</td>\n",
       "      <td>False</td>\n",
       "      <td>-1.739774</td>\n",
       "      <td>0.603068</td>\n",
       "      <td>1.658187</td>\n",
       "    </tr>\n",
       "    <tr>\n",
       "      <th>2</th>\n",
       "      <td>-2.023032</td>\n",
       "      <td>False</td>\n",
       "      <td>-2.209374</td>\n",
       "      <td>0.677789</td>\n",
       "      <td>1.475386</td>\n",
       "    </tr>\n",
       "    <tr>\n",
       "      <th>3</th>\n",
       "      <td>-0.093080</td>\n",
       "      <td>False</td>\n",
       "      <td>-0.324000</td>\n",
       "      <td>0.509771</td>\n",
       "      <td>1.961665</td>\n",
       "    </tr>\n",
       "    <tr>\n",
       "      <th>4</th>\n",
       "      <td>-2.127547</td>\n",
       "      <td>False</td>\n",
       "      <td>-2.225206</td>\n",
       "      <td>0.686064</td>\n",
       "      <td>1.457590</td>\n",
       "    </tr>\n",
       "    <tr>\n",
       "      <th>...</th>\n",
       "      <td>...</td>\n",
       "      <td>...</td>\n",
       "      <td>...</td>\n",
       "      <td>...</td>\n",
       "      <td>...</td>\n",
       "    </tr>\n",
       "    <tr>\n",
       "      <th>995</th>\n",
       "      <td>0.401115</td>\n",
       "      <td>False</td>\n",
       "      <td>1.392844</td>\n",
       "      <td>0.464729</td>\n",
       "      <td>2.151792</td>\n",
       "    </tr>\n",
       "    <tr>\n",
       "      <th>996</th>\n",
       "      <td>0.821832</td>\n",
       "      <td>False</td>\n",
       "      <td>0.654570</td>\n",
       "      <td>0.426804</td>\n",
       "      <td>2.342997</td>\n",
       "    </tr>\n",
       "    <tr>\n",
       "      <th>997</th>\n",
       "      <td>0.218222</td>\n",
       "      <td>False</td>\n",
       "      <td>0.092892</td>\n",
       "      <td>0.481370</td>\n",
       "      <td>2.077403</td>\n",
       "    </tr>\n",
       "    <tr>\n",
       "      <th>998</th>\n",
       "      <td>-1.161459</td>\n",
       "      <td>False</td>\n",
       "      <td>-2.270676</td>\n",
       "      <td>0.605660</td>\n",
       "      <td>1.651091</td>\n",
       "    </tr>\n",
       "    <tr>\n",
       "      <th>999</th>\n",
       "      <td>-0.135971</td>\n",
       "      <td>False</td>\n",
       "      <td>-0.535219</td>\n",
       "      <td>0.513683</td>\n",
       "      <td>1.946725</td>\n",
       "    </tr>\n",
       "  </tbody>\n",
       "</table>\n",
       "<p>1000 rows × 5 columns</p>\n",
       "</div>"
      ],
      "text/plain": [
       "           W0     v0         y  propensity_score    weight\n",
       "0   -0.993255  False -0.006908          0.590904  1.692323\n",
       "1   -1.131767  False -1.739774          0.603068  1.658187\n",
       "2   -2.023032  False -2.209374          0.677789  1.475386\n",
       "3   -0.093080  False -0.324000          0.509771  1.961665\n",
       "4   -2.127547  False -2.225206          0.686064  1.457590\n",
       "..        ...    ...       ...               ...       ...\n",
       "995  0.401115  False  1.392844          0.464729  2.151792\n",
       "996  0.821832  False  0.654570          0.426804  2.342997\n",
       "997  0.218222  False  0.092892          0.481370  2.077403\n",
       "998 -1.161459  False -2.270676          0.605660  1.651091\n",
       "999 -0.135971  False -0.535219          0.513683  1.946725\n",
       "\n",
       "[1000 rows x 5 columns]"
      ]
     },
     "execution_count": 6,
     "metadata": {},
     "output_type": "execute_result"
    }
   ],
   "source": [
    "cdf_0"
   ]
  },
  {
   "cell_type": "code",
   "execution_count": 7,
   "metadata": {
    "execution": {
     "iopub.execute_input": "2022-12-22T14:17:08.970634Z",
     "iopub.status.busy": "2022-12-22T14:17:08.970201Z",
     "iopub.status.idle": "2022-12-22T14:17:08.984022Z",
     "shell.execute_reply": "2022-12-22T14:17:08.983124Z"
    }
   },
   "outputs": [
    {
     "data": {
      "text/html": [
       "<div>\n",
       "<style scoped>\n",
       "    .dataframe tbody tr th:only-of-type {\n",
       "        vertical-align: middle;\n",
       "    }\n",
       "\n",
       "    .dataframe tbody tr th {\n",
       "        vertical-align: top;\n",
       "    }\n",
       "\n",
       "    .dataframe thead th {\n",
       "        text-align: right;\n",
       "    }\n",
       "</style>\n",
       "<table border=\"1\" class=\"dataframe\">\n",
       "  <thead>\n",
       "    <tr style=\"text-align: right;\">\n",
       "      <th></th>\n",
       "      <th>W0</th>\n",
       "      <th>v0</th>\n",
       "      <th>y</th>\n",
       "      <th>propensity_score</th>\n",
       "      <th>weight</th>\n",
       "    </tr>\n",
       "  </thead>\n",
       "  <tbody>\n",
       "    <tr>\n",
       "      <th>0</th>\n",
       "      <td>-2.415717</td>\n",
       "      <td>True</td>\n",
       "      <td>0.770062</td>\n",
       "      <td>0.291734</td>\n",
       "      <td>3.427784</td>\n",
       "    </tr>\n",
       "    <tr>\n",
       "      <th>1</th>\n",
       "      <td>-3.107685</td>\n",
       "      <td>True</td>\n",
       "      <td>0.105290</td>\n",
       "      <td>0.242397</td>\n",
       "      <td>4.125472</td>\n",
       "    </tr>\n",
       "    <tr>\n",
       "      <th>2</th>\n",
       "      <td>0.503368</td>\n",
       "      <td>True</td>\n",
       "      <td>5.162747</td>\n",
       "      <td>0.544543</td>\n",
       "      <td>1.836401</td>\n",
       "    </tr>\n",
       "    <tr>\n",
       "      <th>3</th>\n",
       "      <td>1.077202</td>\n",
       "      <td>True</td>\n",
       "      <td>6.707015</td>\n",
       "      <td>0.595832</td>\n",
       "      <td>1.678326</td>\n",
       "    </tr>\n",
       "    <tr>\n",
       "      <th>4</th>\n",
       "      <td>-1.096099</td>\n",
       "      <td>True</td>\n",
       "      <td>2.832889</td>\n",
       "      <td>0.400053</td>\n",
       "      <td>2.499671</td>\n",
       "    </tr>\n",
       "    <tr>\n",
       "      <th>...</th>\n",
       "      <td>...</td>\n",
       "      <td>...</td>\n",
       "      <td>...</td>\n",
       "      <td>...</td>\n",
       "      <td>...</td>\n",
       "    </tr>\n",
       "    <tr>\n",
       "      <th>995</th>\n",
       "      <td>0.229551</td>\n",
       "      <td>True</td>\n",
       "      <td>5.524582</td>\n",
       "      <td>0.519662</td>\n",
       "      <td>1.924327</td>\n",
       "    </tr>\n",
       "    <tr>\n",
       "      <th>996</th>\n",
       "      <td>0.082827</td>\n",
       "      <td>True</td>\n",
       "      <td>5.281356</td>\n",
       "      <td>0.506281</td>\n",
       "      <td>1.975186</td>\n",
       "    </tr>\n",
       "    <tr>\n",
       "      <th>997</th>\n",
       "      <td>-0.073521</td>\n",
       "      <td>True</td>\n",
       "      <td>3.225619</td>\n",
       "      <td>0.492013</td>\n",
       "      <td>2.032465</td>\n",
       "    </tr>\n",
       "    <tr>\n",
       "      <th>998</th>\n",
       "      <td>0.106791</td>\n",
       "      <td>True</td>\n",
       "      <td>5.624169</td>\n",
       "      <td>0.508468</td>\n",
       "      <td>1.966693</td>\n",
       "    </tr>\n",
       "    <tr>\n",
       "      <th>999</th>\n",
       "      <td>-0.121663</td>\n",
       "      <td>True</td>\n",
       "      <td>5.647140</td>\n",
       "      <td>0.487622</td>\n",
       "      <td>2.050770</td>\n",
       "    </tr>\n",
       "  </tbody>\n",
       "</table>\n",
       "<p>1000 rows × 5 columns</p>\n",
       "</div>"
      ],
      "text/plain": [
       "           W0    v0         y  propensity_score    weight\n",
       "0   -2.415717  True  0.770062          0.291734  3.427784\n",
       "1   -3.107685  True  0.105290          0.242397  4.125472\n",
       "2    0.503368  True  5.162747          0.544543  1.836401\n",
       "3    1.077202  True  6.707015          0.595832  1.678326\n",
       "4   -1.096099  True  2.832889          0.400053  2.499671\n",
       "..        ...   ...       ...               ...       ...\n",
       "995  0.229551  True  5.524582          0.519662  1.924327\n",
       "996  0.082827  True  5.281356          0.506281  1.975186\n",
       "997 -0.073521  True  3.225619          0.492013  2.032465\n",
       "998  0.106791  True  5.624169          0.508468  1.966693\n",
       "999 -0.121663  True  5.647140          0.487622  2.050770\n",
       "\n",
       "[1000 rows x 5 columns]"
      ]
     },
     "execution_count": 7,
     "metadata": {},
     "output_type": "execute_result"
    }
   ],
   "source": [
    "cdf_1"
   ]
  },
  {
   "cell_type": "markdown",
   "metadata": {},
   "source": [
    "## Comparing the estimate to Linear Regression\n",
    "First, estimating the effect using the causal data frame, and the 95% confidence interval."
   ]
  },
  {
   "cell_type": "code",
   "execution_count": 8,
   "metadata": {
    "execution": {
     "iopub.execute_input": "2022-12-22T14:17:08.988384Z",
     "iopub.status.busy": "2022-12-22T14:17:08.988062Z",
     "iopub.status.idle": "2022-12-22T14:17:09.063266Z",
     "shell.execute_reply": "2022-12-22T14:17:09.062349Z"
    }
   },
   "outputs": [
    {
     "data": {
      "image/png": "[encoded data removed]",
      "text/latex": [
       "$\\displaystyle 4.78835347213074$"
      ],
      "text/plain": [
       "4.788353472130741"
      ]
     },
     "execution_count": 8,
     "metadata": {},
     "output_type": "execute_result"
    }
   ],
   "source": [
    "(cdf_1['y'] - cdf_0['y']).mean()"
   ]
  },
  {
   "cell_type": "code",
   "execution_count": 9,
   "metadata": {
    "execution": {
     "iopub.execute_input": "2022-12-22T14:17:09.067157Z",
     "iopub.status.busy": "2022-12-22T14:17:09.066863Z",
     "iopub.status.idle": "2022-12-22T14:17:09.094432Z",
     "shell.execute_reply": "2022-12-22T14:17:09.093524Z"
    }
   },
   "outputs": [
    {
     "data": {
      "image/png": "[encoded data removed]",
      "text/latex": [
       "$\\displaystyle 0.170589948243524$"
      ],
      "text/plain": [
       "0.1705899482435238"
      ]
     },
     "execution_count": 9,
     "metadata": {},
     "output_type": "execute_result"
    }
   ],
   "source": [
    "1.96*(cdf_1['y'] - cdf_0['y']).std() / np.sqrt(len(df))"
   ]
  },
  {
   "cell_type": "markdown",
   "metadata": {},
   "source": [
    "Comparing to the estimate from OLS."
   ]
  },
  {
   "cell_type": "code",
   "execution_count": 10,
   "metadata": {
    "execution": {
     "iopub.execute_input": "2022-12-22T14:17:09.098238Z",
     "iopub.status.busy": "2022-12-22T14:17:09.097943Z",
     "iopub.status.idle": "2022-12-22T14:17:09.118970Z",
     "shell.execute_reply": "2022-12-22T14:17:09.118046Z"
    }
   },
   "outputs": [
    {
     "data": {
      "text/html": [
       "<table class=\"simpletable\">\n",
       "<caption>OLS Regression Results</caption>\n",
       "<tr>\n",
       "  <th>Dep. Variable:</th>            <td>y</td>        <th>  R-squared (uncentered):</th>      <td>   0.919</td>\n",
       "</tr>\n",
       "<tr>\n",
       "  <th>Model:</th>                   <td>OLS</td>       <th>  Adj. R-squared (uncentered):</th> <td>   0.919</td>\n",
       "</tr>\n",
       "<tr>\n",
       "  <th>Method:</th>             <td>Least Squares</td>  <th>  F-statistic:       </th>          <td>   5646.</td>\n",
       "</tr>\n",
       "<tr>\n",
       "  <th>Date:</th>             <td>Thu, 22 Dec 2022</td> <th>  Prob (F-statistic):</th>           <td>  0.00</td> \n",
       "</tr>\n",
       "<tr>\n",
       "  <th>Time:</th>                 <td>14:17:09</td>     <th>  Log-Likelihood:    </th>          <td> -1444.9</td>\n",
       "</tr>\n",
       "<tr>\n",
       "  <th>No. Observations:</th>      <td>  1000</td>      <th>  AIC:               </th>          <td>   2894.</td>\n",
       "</tr>\n",
       "<tr>\n",
       "  <th>Df Residuals:</th>          <td>   998</td>      <th>  BIC:               </th>          <td>   2904.</td>\n",
       "</tr>\n",
       "<tr>\n",
       "  <th>Df Model:</th>              <td>     2</td>      <th>                     </th>              <td> </td>   \n",
       "</tr>\n",
       "<tr>\n",
       "  <th>Covariance Type:</th>      <td>nonrobust</td>    <th>                     </th>              <td> </td>   \n",
       "</tr>\n",
       "</table>\n",
       "<table class=\"simpletable\">\n",
       "<tr>\n",
       "   <td></td>     <th>coef</th>     <th>std err</th>      <th>t</th>      <th>P>|t|</th>  <th>[0.025</th>    <th>0.975]</th>  \n",
       "</tr>\n",
       "<tr>\n",
       "  <th>x1</th> <td>    1.6970</td> <td>    0.028</td> <td>   60.953</td> <td> 0.000</td> <td>    1.642</td> <td>    1.752</td>\n",
       "</tr>\n",
       "<tr>\n",
       "  <th>x2</th> <td>    4.9522</td> <td>    0.050</td> <td>   98.808</td> <td> 0.000</td> <td>    4.854</td> <td>    5.051</td>\n",
       "</tr>\n",
       "</table>\n",
       "<table class=\"simpletable\">\n",
       "<tr>\n",
       "  <th>Omnibus:</th>       <td> 0.359</td> <th>  Durbin-Watson:     </th> <td>   2.003</td>\n",
       "</tr>\n",
       "<tr>\n",
       "  <th>Prob(Omnibus):</th> <td> 0.836</td> <th>  Jarque-Bera (JB):  </th> <td>   0.284</td>\n",
       "</tr>\n",
       "<tr>\n",
       "  <th>Skew:</th>          <td> 0.036</td> <th>  Prob(JB):          </th> <td>   0.868</td>\n",
       "</tr>\n",
       "<tr>\n",
       "  <th>Kurtosis:</th>      <td> 3.042</td> <th>  Cond. No.          </th> <td>    1.89</td>\n",
       "</tr>\n",
       "</table><br/><br/>Notes:<br/>[1] R² is computed without centering (uncentered) since the model does not contain a constant.<br/>[2] Standard Errors assume that the covariance matrix of the errors is correctly specified."
      ],
      "text/plain": [
       "<class 'statsmodels.iolib.summary.Summary'>\n",
       "\"\"\"\n",
       "                                 OLS Regression Results                                \n",
       "=======================================================================================\n",
       "Dep. Variable:                      y   R-squared (uncentered):                   0.919\n",
       "Model:                            OLS   Adj. R-squared (uncentered):              0.919\n",
       "Method:                 Least Squares   F-statistic:                              5646.\n",
       "Date:                Thu, 22 Dec 2022   Prob (F-statistic):                        0.00\n",
       "Time:                        14:17:09   Log-Likelihood:                         -1444.9\n",
       "No. Observations:                1000   AIC:                                      2894.\n",
       "Df Residuals:                     998   BIC:                                      2904.\n",
       "Df Model:                           2                                                  \n",
       "Covariance Type:            nonrobust                                                  \n",
       "==============================================================================\n",
       "                 coef    std err          t      P>|t|      [0.025      0.975]\n",
       "------------------------------------------------------------------------------\n",
       "x1             1.6970      0.028     60.953      0.000       1.642       1.752\n",
       "x2             4.9522      0.050     98.808      0.000       4.854       5.051\n",
       "==============================================================================\n",
       "Omnibus:                        0.359   Durbin-Watson:                   2.003\n",
       "Prob(Omnibus):                  0.836   Jarque-Bera (JB):                0.284\n",
       "Skew:                           0.036   Prob(JB):                        0.868\n",
       "Kurtosis:                       3.042   Cond. No.                         1.89\n",
       "==============================================================================\n",
       "\n",
       "Notes:\n",
       "[1] R² is computed without centering (uncentered) since the model does not contain a constant.\n",
       "[2] Standard Errors assume that the covariance matrix of the errors is correctly specified.\n",
       "\"\"\""
      ]
     },
     "execution_count": 10,
     "metadata": {},
     "output_type": "execute_result"
    }
   ],
   "source": [
    "model = OLS(np.asarray(df[outcome]), np.asarray(df[[common_cause, treatment]], dtype=np.float64))\n",
    "result = model.fit()\n",
    "result.summary()"
   ]
  }
 ],
 "metadata": {
  "kernelspec": {
   "display_name": "Python 3",
   "language": "python",
   "name": "python3"
  },
  "language_info": {
   "codemirror_mode": {
    "name": "ipython",
    "version": 3
   },
   "file_extension": ".py",
   "mimetype": "text/x-python",
   "name": "python",
   "nbconvert_exporter": "python",
   "pygments_lexer": "ipython3",
   "version": "3.8.10"
  },
  "toc": {
   "base_numbering": 1,
   "nav_menu": {},
   "number_sections": false,
   "sideBar": true,
   "skip_h1_title": true,
   "title_cell": "Table of Contents",
   "title_sidebar": "Contents",
   "toc_cell": false,
   "toc_position": {},
   "toc_section_display": true,
   "toc_window_display": false
  }
 },
 "nbformat": 4,
 "nbformat_minor": 4
}
