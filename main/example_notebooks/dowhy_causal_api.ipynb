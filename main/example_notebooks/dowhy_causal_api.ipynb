{
 "cells": [
  {
   "cell_type": "markdown",
   "metadata": {},
   "source": [
    "# Demo for the DoWhy causal API\n",
    "We show a simple example of adding a causal extension to any dataframe. "
   ]
  },
  {
   "cell_type": "code",
   "execution_count": 1,
   "metadata": {
    "execution": {
     "iopub.execute_input": "2022-09-07T08:23:32.308129Z",
     "iopub.status.busy": "2022-09-07T08:23:32.307898Z",
     "iopub.status.idle": "2022-09-07T08:23:33.349637Z",
     "shell.execute_reply": "2022-09-07T08:23:33.349015Z"
    }
   },
   "outputs": [],
   "source": [
    "import dowhy.datasets\n",
    "import dowhy.api\n",
    "\n",
    "import numpy as np\n",
    "import pandas as pd\n",
    "\n",
    "from statsmodels.api import OLS"
   ]
  },
  {
   "cell_type": "code",
   "execution_count": 2,
   "metadata": {
    "execution": {
     "iopub.execute_input": "2022-09-07T08:23:33.353446Z",
     "iopub.status.busy": "2022-09-07T08:23:33.352716Z",
     "iopub.status.idle": "2022-09-07T08:23:33.390843Z",
     "shell.execute_reply": "2022-09-07T08:23:33.390274Z"
    }
   },
   "outputs": [
    {
     "data": {
      "text/html": [
       "<div>\n",
       "<style scoped>\n",
       "    .dataframe tbody tr th:only-of-type {\n",
       "        vertical-align: middle;\n",
       "    }\n",
       "\n",
       "    .dataframe tbody tr th {\n",
       "        vertical-align: top;\n",
       "    }\n",
       "\n",
       "    .dataframe thead th {\n",
       "        text-align: right;\n",
       "    }\n",
       "</style>\n",
       "<table border=\"1\" class=\"dataframe\">\n",
       "  <thead>\n",
       "    <tr style=\"text-align: right;\">\n",
       "      <th></th>\n",
       "      <th>W0</th>\n",
       "      <th>v0</th>\n",
       "      <th>y</th>\n",
       "    </tr>\n",
       "  </thead>\n",
       "  <tbody>\n",
       "    <tr>\n",
       "      <th>0</th>\n",
       "      <td>2.136180</td>\n",
       "      <td>True</td>\n",
       "      <td>7.803248</td>\n",
       "    </tr>\n",
       "    <tr>\n",
       "      <th>1</th>\n",
       "      <td>1.708013</td>\n",
       "      <td>True</td>\n",
       "      <td>8.609767</td>\n",
       "    </tr>\n",
       "    <tr>\n",
       "      <th>2</th>\n",
       "      <td>0.387531</td>\n",
       "      <td>True</td>\n",
       "      <td>6.071246</td>\n",
       "    </tr>\n",
       "    <tr>\n",
       "      <th>3</th>\n",
       "      <td>-0.073044</td>\n",
       "      <td>False</td>\n",
       "      <td>0.732576</td>\n",
       "    </tr>\n",
       "    <tr>\n",
       "      <th>4</th>\n",
       "      <td>0.408200</td>\n",
       "      <td>False</td>\n",
       "      <td>1.728948</td>\n",
       "    </tr>\n",
       "    <tr>\n",
       "      <th>...</th>\n",
       "      <td>...</td>\n",
       "      <td>...</td>\n",
       "      <td>...</td>\n",
       "    </tr>\n",
       "    <tr>\n",
       "      <th>995</th>\n",
       "      <td>0.033866</td>\n",
       "      <td>False</td>\n",
       "      <td>-1.659663</td>\n",
       "    </tr>\n",
       "    <tr>\n",
       "      <th>996</th>\n",
       "      <td>1.463312</td>\n",
       "      <td>True</td>\n",
       "      <td>7.621977</td>\n",
       "    </tr>\n",
       "    <tr>\n",
       "      <th>997</th>\n",
       "      <td>0.049412</td>\n",
       "      <td>False</td>\n",
       "      <td>1.200057</td>\n",
       "    </tr>\n",
       "    <tr>\n",
       "      <th>998</th>\n",
       "      <td>-0.907189</td>\n",
       "      <td>False</td>\n",
       "      <td>-2.643674</td>\n",
       "    </tr>\n",
       "    <tr>\n",
       "      <th>999</th>\n",
       "      <td>1.276582</td>\n",
       "      <td>True</td>\n",
       "      <td>8.871205</td>\n",
       "    </tr>\n",
       "  </tbody>\n",
       "</table>\n",
       "<p>1000 rows × 3 columns</p>\n",
       "</div>"
      ],
      "text/plain": [
       "           W0     v0         y\n",
       "0    2.136180   True  7.803248\n",
       "1    1.708013   True  8.609767\n",
       "2    0.387531   True  6.071246\n",
       "3   -0.073044  False  0.732576\n",
       "4    0.408200  False  1.728948\n",
       "..        ...    ...       ...\n",
       "995  0.033866  False -1.659663\n",
       "996  1.463312   True  7.621977\n",
       "997  0.049412  False  1.200057\n",
       "998 -0.907189  False -2.643674\n",
       "999  1.276582   True  8.871205\n",
       "\n",
       "[1000 rows x 3 columns]"
      ]
     },
     "execution_count": 2,
     "metadata": {},
     "output_type": "execute_result"
    }
   ],
   "source": [
    "data = dowhy.datasets.linear_dataset(beta=5,\n",
    "        num_common_causes=1,\n",
    "        num_instruments = 0,\n",
    "        num_samples=1000,\n",
    "        treatment_is_binary=True)\n",
    "df = data['df']\n",
    "df['y'] = df['y'] + np.random.normal(size=len(df)) # Adding noise to data. Without noise, the variance in Y|X, Z is zero, and mcmc fails.\n",
    "#data['dot_graph'] = 'digraph { v ->y;X0-> v;X0-> y;}'\n",
    "\n",
    "treatment= data[\"treatment_name\"][0]\n",
    "outcome = data[\"outcome_name\"][0]\n",
    "common_cause = data[\"common_causes_names\"][0]\n",
    "df"
   ]
  },
  {
   "cell_type": "code",
   "execution_count": 3,
   "metadata": {
    "execution": {
     "iopub.execute_input": "2022-09-07T08:23:33.393901Z",
     "iopub.status.busy": "2022-09-07T08:23:33.393404Z",
     "iopub.status.idle": "2022-09-07T08:23:34.116517Z",
     "shell.execute_reply": "2022-09-07T08:23:34.116000Z"
    }
   },
   "outputs": [
    {
     "data": {
      "text/plain": [
       "<AxesSubplot:xlabel='v0'>"
      ]
     },
     "execution_count": 3,
     "metadata": {},
     "output_type": "execute_result"
    },
    {
     "data": {
      "image/png": "[encoded data removed]",
      "text/plain": [
       "<Figure size 640x480 with 1 Axes>"
      ]
     },
     "metadata": {},
     "output_type": "display_data"
    }
   ],
   "source": [
    "# data['df'] is just a regular pandas.DataFrame\n",
    "df.causal.do(x=treatment,\n",
    "                     variable_types={treatment: 'b', outcome: 'c', common_cause: 'c'},\n",
    "                     outcome=outcome,\n",
    "                     common_causes=[common_cause],\n",
    "                     proceed_when_unidentifiable=True).groupby(treatment).mean().plot(y=outcome, kind='bar')"
   ]
  },
  {
   "cell_type": "code",
   "execution_count": 4,
   "metadata": {
    "execution": {
     "iopub.execute_input": "2022-09-07T08:23:34.119719Z",
     "iopub.status.busy": "2022-09-07T08:23:34.119211Z",
     "iopub.status.idle": "2022-09-07T08:23:34.223786Z",
     "shell.execute_reply": "2022-09-07T08:23:34.223301Z"
    }
   },
   "outputs": [
    {
     "data": {
      "text/plain": [
       "<AxesSubplot:xlabel='v0'>"
      ]
     },
     "execution_count": 4,
     "metadata": {},
     "output_type": "execute_result"
    },
    {
     "data": {
      "image/png": "[encoded data removed]",
      "text/plain": [
       "<Figure size 640x480 with 1 Axes>"
      ]
     },
     "metadata": {},
     "output_type": "display_data"
    }
   ],
   "source": [
    "df.causal.do(x={treatment: 1}, \n",
    "              variable_types={treatment:'b', outcome: 'c', common_cause: 'c'}, \n",
    "              outcome=outcome,\n",
    "              method='weighting', \n",
    "              common_causes=[common_cause],\n",
    "              proceed_when_unidentifiable=True).groupby(treatment).mean().plot(y=outcome, kind='bar')"
   ]
  },
  {
   "cell_type": "code",
   "execution_count": 5,
   "metadata": {
    "execution": {
     "iopub.execute_input": "2022-09-07T08:23:34.227692Z",
     "iopub.status.busy": "2022-09-07T08:23:34.226516Z",
     "iopub.status.idle": "2022-09-07T08:23:34.256819Z",
     "shell.execute_reply": "2022-09-07T08:23:34.256265Z"
    }
   },
   "outputs": [],
   "source": [
    "cdf_1 = df.causal.do(x={treatment: 1}, \n",
    "              variable_types={treatment: 'b', outcome: 'c', common_cause: 'c'}, \n",
    "              outcome=outcome, \n",
    "              dot_graph=data['dot_graph'],\n",
    "              proceed_when_unidentifiable=True)\n",
    "\n",
    "cdf_0 = df.causal.do(x={treatment: 0}, \n",
    "              variable_types={treatment: 'b', outcome: 'c', common_cause: 'c'}, \n",
    "              outcome=outcome, \n",
    "              dot_graph=data['dot_graph'],\n",
    "              proceed_when_unidentifiable=True)\n"
   ]
  },
  {
   "cell_type": "code",
   "execution_count": 6,
   "metadata": {
    "execution": {
     "iopub.execute_input": "2022-09-07T08:23:34.259739Z",
     "iopub.status.busy": "2022-09-07T08:23:34.259428Z",
     "iopub.status.idle": "2022-09-07T08:23:34.272084Z",
     "shell.execute_reply": "2022-09-07T08:23:34.271033Z"
    },
    "scrolled": true
   },
   "outputs": [
    {
     "data": {
      "text/html": [
       "<div>\n",
       "<style scoped>\n",
       "    .dataframe tbody tr th:only-of-type {\n",
       "        vertical-align: middle;\n",
       "    }\n",
       "\n",
       "    .dataframe tbody tr th {\n",
       "        vertical-align: top;\n",
       "    }\n",
       "\n",
       "    .dataframe thead th {\n",
       "        text-align: right;\n",
       "    }\n",
       "</style>\n",
       "<table border=\"1\" class=\"dataframe\">\n",
       "  <thead>\n",
       "    <tr style=\"text-align: right;\">\n",
       "      <th></th>\n",
       "      <th>W0</th>\n",
       "      <th>v0</th>\n",
       "      <th>y</th>\n",
       "      <th>propensity_score</th>\n",
       "      <th>weight</th>\n",
       "    </tr>\n",
       "  </thead>\n",
       "  <tbody>\n",
       "    <tr>\n",
       "      <th>0</th>\n",
       "      <td>-0.356275</td>\n",
       "      <td>False</td>\n",
       "      <td>-2.405975</td>\n",
       "      <td>0.635965</td>\n",
       "      <td>1.572414</td>\n",
       "    </tr>\n",
       "    <tr>\n",
       "      <th>1</th>\n",
       "      <td>2.273736</td>\n",
       "      <td>False</td>\n",
       "      <td>5.247081</td>\n",
       "      <td>0.049246</td>\n",
       "      <td>20.306178</td>\n",
       "    </tr>\n",
       "    <tr>\n",
       "      <th>2</th>\n",
       "      <td>-0.655499</td>\n",
       "      <td>False</td>\n",
       "      <td>-1.506824</td>\n",
       "      <td>0.722758</td>\n",
       "      <td>1.383589</td>\n",
       "    </tr>\n",
       "    <tr>\n",
       "      <th>3</th>\n",
       "      <td>-1.313484</td>\n",
       "      <td>False</td>\n",
       "      <td>-1.589285</td>\n",
       "      <td>0.862760</td>\n",
       "      <td>1.159071</td>\n",
       "    </tr>\n",
       "    <tr>\n",
       "      <th>4</th>\n",
       "      <td>0.878017</td>\n",
       "      <td>False</td>\n",
       "      <td>1.768048</td>\n",
       "      <td>0.250999</td>\n",
       "      <td>3.984080</td>\n",
       "    </tr>\n",
       "    <tr>\n",
       "      <th>...</th>\n",
       "      <td>...</td>\n",
       "      <td>...</td>\n",
       "      <td>...</td>\n",
       "      <td>...</td>\n",
       "      <td>...</td>\n",
       "    </tr>\n",
       "    <tr>\n",
       "      <th>995</th>\n",
       "      <td>0.080819</td>\n",
       "      <td>False</td>\n",
       "      <td>1.711220</td>\n",
       "      <td>0.493292</td>\n",
       "      <td>2.027197</td>\n",
       "    </tr>\n",
       "    <tr>\n",
       "      <th>996</th>\n",
       "      <td>2.273736</td>\n",
       "      <td>False</td>\n",
       "      <td>5.247081</td>\n",
       "      <td>0.049246</td>\n",
       "      <td>20.306178</td>\n",
       "    </tr>\n",
       "    <tr>\n",
       "      <th>997</th>\n",
       "      <td>1.630578</td>\n",
       "      <td>False</td>\n",
       "      <td>2.183442</td>\n",
       "      <td>0.109093</td>\n",
       "      <td>9.166456</td>\n",
       "    </tr>\n",
       "    <tr>\n",
       "      <th>998</th>\n",
       "      <td>0.435961</td>\n",
       "      <td>False</td>\n",
       "      <td>1.936218</td>\n",
       "      <td>0.377088</td>\n",
       "      <td>2.651902</td>\n",
       "    </tr>\n",
       "    <tr>\n",
       "      <th>999</th>\n",
       "      <td>1.060828</td>\n",
       "      <td>False</td>\n",
       "      <td>1.693261</td>\n",
       "      <td>0.207864</td>\n",
       "      <td>4.810835</td>\n",
       "    </tr>\n",
       "  </tbody>\n",
       "</table>\n",
       "<p>1000 rows × 5 columns</p>\n",
       "</div>"
      ],
      "text/plain": [
       "           W0     v0         y  propensity_score     weight\n",
       "0   -0.356275  False -2.405975          0.635965   1.572414\n",
       "1    2.273736  False  5.247081          0.049246  20.306178\n",
       "2   -0.655499  False -1.506824          0.722758   1.383589\n",
       "3   -1.313484  False -1.589285          0.862760   1.159071\n",
       "4    0.878017  False  1.768048          0.250999   3.984080\n",
       "..        ...    ...       ...               ...        ...\n",
       "995  0.080819  False  1.711220          0.493292   2.027197\n",
       "996  2.273736  False  5.247081          0.049246  20.306178\n",
       "997  1.630578  False  2.183442          0.109093   9.166456\n",
       "998  0.435961  False  1.936218          0.377088   2.651902\n",
       "999  1.060828  False  1.693261          0.207864   4.810835\n",
       "\n",
       "[1000 rows x 5 columns]"
      ]
     },
     "execution_count": 6,
     "metadata": {},
     "output_type": "execute_result"
    }
   ],
   "source": [
    "cdf_0"
   ]
  },
  {
   "cell_type": "code",
   "execution_count": 7,
   "metadata": {
    "execution": {
     "iopub.execute_input": "2022-09-07T08:23:34.274524Z",
     "iopub.status.busy": "2022-09-07T08:23:34.274316Z",
     "iopub.status.idle": "2022-09-07T08:23:34.285711Z",
     "shell.execute_reply": "2022-09-07T08:23:34.284792Z"
    }
   },
   "outputs": [
    {
     "data": {
      "text/html": [
       "<div>\n",
       "<style scoped>\n",
       "    .dataframe tbody tr th:only-of-type {\n",
       "        vertical-align: middle;\n",
       "    }\n",
       "\n",
       "    .dataframe tbody tr th {\n",
       "        vertical-align: top;\n",
       "    }\n",
       "\n",
       "    .dataframe thead th {\n",
       "        text-align: right;\n",
       "    }\n",
       "</style>\n",
       "<table border=\"1\" class=\"dataframe\">\n",
       "  <thead>\n",
       "    <tr style=\"text-align: right;\">\n",
       "      <th></th>\n",
       "      <th>W0</th>\n",
       "      <th>v0</th>\n",
       "      <th>y</th>\n",
       "      <th>propensity_score</th>\n",
       "      <th>weight</th>\n",
       "    </tr>\n",
       "  </thead>\n",
       "  <tbody>\n",
       "    <tr>\n",
       "      <th>0</th>\n",
       "      <td>1.147530</td>\n",
       "      <td>True</td>\n",
       "      <td>6.613925</td>\n",
       "      <td>0.810588</td>\n",
       "      <td>1.233673</td>\n",
       "    </tr>\n",
       "    <tr>\n",
       "      <th>1</th>\n",
       "      <td>1.037683</td>\n",
       "      <td>True</td>\n",
       "      <td>8.316472</td>\n",
       "      <td>0.786992</td>\n",
       "      <td>1.270662</td>\n",
       "    </tr>\n",
       "    <tr>\n",
       "      <th>2</th>\n",
       "      <td>-0.240182</td>\n",
       "      <td>True</td>\n",
       "      <td>3.279081</td>\n",
       "      <td>0.400691</td>\n",
       "      <td>2.495692</td>\n",
       "    </tr>\n",
       "    <tr>\n",
       "      <th>3</th>\n",
       "      <td>0.856792</td>\n",
       "      <td>True</td>\n",
       "      <td>5.484787</td>\n",
       "      <td>0.743625</td>\n",
       "      <td>1.344763</td>\n",
       "    </tr>\n",
       "    <tr>\n",
       "      <th>4</th>\n",
       "      <td>1.739718</td>\n",
       "      <td>True</td>\n",
       "      <td>8.809481</td>\n",
       "      <td>0.904308</td>\n",
       "      <td>1.105818</td>\n",
       "    </tr>\n",
       "    <tr>\n",
       "      <th>...</th>\n",
       "      <td>...</td>\n",
       "      <td>...</td>\n",
       "      <td>...</td>\n",
       "      <td>...</td>\n",
       "      <td>...</td>\n",
       "    </tr>\n",
       "    <tr>\n",
       "      <th>995</th>\n",
       "      <td>0.086366</td>\n",
       "      <td>True</td>\n",
       "      <td>4.555544</td>\n",
       "      <td>0.508563</td>\n",
       "      <td>1.966326</td>\n",
       "    </tr>\n",
       "    <tr>\n",
       "      <th>996</th>\n",
       "      <td>0.387531</td>\n",
       "      <td>True</td>\n",
       "      <td>6.071246</td>\n",
       "      <td>0.607577</td>\n",
       "      <td>1.645881</td>\n",
       "    </tr>\n",
       "    <tr>\n",
       "      <th>997</th>\n",
       "      <td>-0.560397</td>\n",
       "      <td>True</td>\n",
       "      <td>4.002027</td>\n",
       "      <td>0.303442</td>\n",
       "      <td>3.295518</td>\n",
       "    </tr>\n",
       "    <tr>\n",
       "      <th>998</th>\n",
       "      <td>-1.281904</td>\n",
       "      <td>True</td>\n",
       "      <td>3.342529</td>\n",
       "      <td>0.142319</td>\n",
       "      <td>7.026464</td>\n",
       "    </tr>\n",
       "    <tr>\n",
       "      <th>999</th>\n",
       "      <td>-1.281904</td>\n",
       "      <td>True</td>\n",
       "      <td>3.342529</td>\n",
       "      <td>0.142319</td>\n",
       "      <td>7.026464</td>\n",
       "    </tr>\n",
       "  </tbody>\n",
       "</table>\n",
       "<p>1000 rows × 5 columns</p>\n",
       "</div>"
      ],
      "text/plain": [
       "           W0    v0         y  propensity_score    weight\n",
       "0    1.147530  True  6.613925          0.810588  1.233673\n",
       "1    1.037683  True  8.316472          0.786992  1.270662\n",
       "2   -0.240182  True  3.279081          0.400691  2.495692\n",
       "3    0.856792  True  5.484787          0.743625  1.344763\n",
       "4    1.739718  True  8.809481          0.904308  1.105818\n",
       "..        ...   ...       ...               ...       ...\n",
       "995  0.086366  True  4.555544          0.508563  1.966326\n",
       "996  0.387531  True  6.071246          0.607577  1.645881\n",
       "997 -0.560397  True  4.002027          0.303442  3.295518\n",
       "998 -1.281904  True  3.342529          0.142319  7.026464\n",
       "999 -1.281904  True  3.342529          0.142319  7.026464\n",
       "\n",
       "[1000 rows x 5 columns]"
      ]
     },
     "execution_count": 7,
     "metadata": {},
     "output_type": "execute_result"
    }
   ],
   "source": [
    "cdf_1"
   ]
  },
  {
   "cell_type": "markdown",
   "metadata": {},
   "source": [
    "## Comparing the estimate to Linear Regression\n",
    "First, estimating the effect using the causal data frame, and the 95% confidence interval."
   ]
  },
  {
   "cell_type": "code",
   "execution_count": 8,
   "metadata": {
    "execution": {
     "iopub.execute_input": "2022-09-07T08:23:34.288220Z",
     "iopub.status.busy": "2022-09-07T08:23:34.288024Z",
     "iopub.status.idle": "2022-09-07T08:23:34.383302Z",
     "shell.execute_reply": "2022-09-07T08:23:34.382467Z"
    }
   },
   "outputs": [
    {
     "data": {
      "image/png": "[encoded data removed]",
      "text/latex": [
       "$\\displaystyle 4.97423893142772$"
      ],
      "text/plain": [
       "4.9742389314277204"
      ]
     },
     "execution_count": 8,
     "metadata": {},
     "output_type": "execute_result"
    }
   ],
   "source": [
    "(cdf_1['y'] - cdf_0['y']).mean()"
   ]
  },
  {
   "cell_type": "code",
   "execution_count": 9,
   "metadata": {
    "execution": {
     "iopub.execute_input": "2022-09-07T08:23:34.386091Z",
     "iopub.status.busy": "2022-09-07T08:23:34.385564Z",
     "iopub.status.idle": "2022-09-07T08:23:34.408630Z",
     "shell.execute_reply": "2022-09-07T08:23:34.408067Z"
    }
   },
   "outputs": [
    {
     "data": {
      "image/png": "[encoded data removed]",
      "text/latex": [
       "$\\displaystyle 0.199706095020537$"
      ],
      "text/plain": [
       "0.199706095020537"
      ]
     },
     "execution_count": 9,
     "metadata": {},
     "output_type": "execute_result"
    }
   ],
   "source": [
    "1.96*(cdf_1['y'] - cdf_0['y']).std() / np.sqrt(len(df))"
   ]
  },
  {
   "cell_type": "markdown",
   "metadata": {},
   "source": [
    "Comparing to the estimate from OLS."
   ]
  },
  {
   "cell_type": "code",
   "execution_count": 10,
   "metadata": {
    "execution": {
     "iopub.execute_input": "2022-09-07T08:23:34.411581Z",
     "iopub.status.busy": "2022-09-07T08:23:34.411273Z",
     "iopub.status.idle": "2022-09-07T08:23:34.426910Z",
     "shell.execute_reply": "2022-09-07T08:23:34.426389Z"
    }
   },
   "outputs": [
    {
     "data": {
      "text/html": [
       "<table class=\"simpletable\">\n",
       "<caption>OLS Regression Results</caption>\n",
       "<tr>\n",
       "  <th>Dep. Variable:</th>            <td>y</td>        <th>  R-squared (uncentered):</th>      <td>   0.975</td> \n",
       "</tr>\n",
       "<tr>\n",
       "  <th>Model:</th>                   <td>OLS</td>       <th>  Adj. R-squared (uncentered):</th> <td>   0.975</td> \n",
       "</tr>\n",
       "<tr>\n",
       "  <th>Method:</th>             <td>Least Squares</td>  <th>  F-statistic:       </th>          <td>1.933e+04</td>\n",
       "</tr>\n",
       "<tr>\n",
       "  <th>Date:</th>             <td>Wed, 07 Sep 2022</td> <th>  Prob (F-statistic):</th>           <td>  0.00</td>  \n",
       "</tr>\n",
       "<tr>\n",
       "  <th>Time:</th>                 <td>08:23:34</td>     <th>  Log-Likelihood:    </th>          <td> -1428.1</td> \n",
       "</tr>\n",
       "<tr>\n",
       "  <th>No. Observations:</th>      <td>  1000</td>      <th>  AIC:               </th>          <td>   2860.</td> \n",
       "</tr>\n",
       "<tr>\n",
       "  <th>Df Residuals:</th>          <td>   998</td>      <th>  BIC:               </th>          <td>   2870.</td> \n",
       "</tr>\n",
       "<tr>\n",
       "  <th>Df Model:</th>              <td>     2</td>      <th>                     </th>              <td> </td>    \n",
       "</tr>\n",
       "<tr>\n",
       "  <th>Covariance Type:</th>      <td>nonrobust</td>    <th>                     </th>              <td> </td>    \n",
       "</tr>\n",
       "</table>\n",
       "<table class=\"simpletable\">\n",
       "<tr>\n",
       "   <td></td>     <th>coef</th>     <th>std err</th>      <th>t</th>      <th>P>|t|</th>  <th>[0.025</th>    <th>0.975]</th>  \n",
       "</tr>\n",
       "<tr>\n",
       "  <th>x1</th> <td>    2.1558</td> <td>    0.037</td> <td>   58.764</td> <td> 0.000</td> <td>    2.084</td> <td>    2.228</td>\n",
       "</tr>\n",
       "<tr>\n",
       "  <th>x2</th> <td>    5.0033</td> <td>    0.056</td> <td>   89.858</td> <td> 0.000</td> <td>    4.894</td> <td>    5.113</td>\n",
       "</tr>\n",
       "</table>\n",
       "<table class=\"simpletable\">\n",
       "<tr>\n",
       "  <th>Omnibus:</th>       <td> 0.972</td> <th>  Durbin-Watson:     </th> <td>   1.935</td>\n",
       "</tr>\n",
       "<tr>\n",
       "  <th>Prob(Omnibus):</th> <td> 0.615</td> <th>  Jarque-Bera (JB):  </th> <td>   0.846</td>\n",
       "</tr>\n",
       "<tr>\n",
       "  <th>Skew:</th>          <td>-0.055</td> <th>  Prob(JB):          </th> <td>   0.655</td>\n",
       "</tr>\n",
       "<tr>\n",
       "  <th>Kurtosis:</th>      <td> 3.090</td> <th>  Cond. No.          </th> <td>    2.74</td>\n",
       "</tr>\n",
       "</table><br/><br/>Notes:<br/>[1] R² is computed without centering (uncentered) since the model does not contain a constant.<br/>[2] Standard Errors assume that the covariance matrix of the errors is correctly specified."
      ],
      "text/plain": [
       "<class 'statsmodels.iolib.summary.Summary'>\n",
       "\"\"\"\n",
       "                                 OLS Regression Results                                \n",
       "=======================================================================================\n",
       "Dep. Variable:                      y   R-squared (uncentered):                   0.975\n",
       "Model:                            OLS   Adj. R-squared (uncentered):              0.975\n",
       "Method:                 Least Squares   F-statistic:                          1.933e+04\n",
       "Date:                Wed, 07 Sep 2022   Prob (F-statistic):                        0.00\n",
       "Time:                        08:23:34   Log-Likelihood:                         -1428.1\n",
       "No. Observations:                1000   AIC:                                      2860.\n",
       "Df Residuals:                     998   BIC:                                      2870.\n",
       "Df Model:                           2                                                  \n",
       "Covariance Type:            nonrobust                                                  \n",
       "==============================================================================\n",
       "                 coef    std err          t      P>|t|      [0.025      0.975]\n",
       "------------------------------------------------------------------------------\n",
       "x1             2.1558      0.037     58.764      0.000       2.084       2.228\n",
       "x2             5.0033      0.056     89.858      0.000       4.894       5.113\n",
       "==============================================================================\n",
       "Omnibus:                        0.972   Durbin-Watson:                   1.935\n",
       "Prob(Omnibus):                  0.615   Jarque-Bera (JB):                0.846\n",
       "Skew:                          -0.055   Prob(JB):                        0.655\n",
       "Kurtosis:                       3.090   Cond. No.                         2.74\n",
       "==============================================================================\n",
       "\n",
       "Notes:\n",
       "[1] R² is computed without centering (uncentered) since the model does not contain a constant.\n",
       "[2] Standard Errors assume that the covariance matrix of the errors is correctly specified.\n",
       "\"\"\""
      ]
     },
     "execution_count": 10,
     "metadata": {},
     "output_type": "execute_result"
    }
   ],
   "source": [
    "model = OLS(np.asarray(df[outcome]), np.asarray(df[[common_cause, treatment]], dtype=np.float64))\n",
    "result = model.fit()\n",
    "result.summary()"
   ]
  }
 ],
 "metadata": {
  "kernelspec": {
   "display_name": "Python 3",
   "language": "python",
   "name": "python3"
  },
  "language_info": {
   "codemirror_mode": {
    "name": "ipython",
    "version": 3
   },
   "file_extension": ".py",
   "mimetype": "text/x-python",
   "name": "python",
   "nbconvert_exporter": "python",
   "pygments_lexer": "ipython3",
   "version": "3.8.10"
  },
  "toc": {
   "base_numbering": 1,
   "nav_menu": {},
   "number_sections": false,
   "sideBar": true,
   "skip_h1_title": true,
   "title_cell": "Table of Contents",
   "title_sidebar": "Contents",
   "toc_cell": false,
   "toc_position": {},
   "toc_section_display": true,
   "toc_window_display": false
  }
 },
 "nbformat": 4,
 "nbformat_minor": 4
}
