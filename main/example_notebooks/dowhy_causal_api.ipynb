{
 "cells": [
  {
   "cell_type": "markdown",
   "metadata": {},
   "source": [
    "# Demo for the DoWhy causal API\n",
    "We show a simple example of adding a causal extension to any dataframe. "
   ]
  },
  {
   "cell_type": "code",
   "execution_count": 1,
   "metadata": {
    "execution": {
     "iopub.execute_input": "2022-12-03T17:35:36.551794Z",
     "iopub.status.busy": "2022-12-03T17:35:36.551347Z",
     "iopub.status.idle": "2022-12-03T17:35:39.210228Z",
     "shell.execute_reply": "2022-12-03T17:35:39.209184Z"
    }
   },
   "outputs": [],
   "source": [
    "import dowhy.datasets\n",
    "import dowhy.api\n",
    "\n",
    "import numpy as np\n",
    "import pandas as pd\n",
    "\n",
    "from statsmodels.api import OLS"
   ]
  },
  {
   "cell_type": "code",
   "execution_count": 2,
   "metadata": {
    "execution": {
     "iopub.execute_input": "2022-12-03T17:35:39.215307Z",
     "iopub.status.busy": "2022-12-03T17:35:39.214817Z",
     "iopub.status.idle": "2022-12-03T17:35:39.281406Z",
     "shell.execute_reply": "2022-12-03T17:35:39.280243Z"
    }
   },
   "outputs": [
    {
     "data": {
      "text/html": [
       "<div>\n",
       "<style scoped>\n",
       "    .dataframe tbody tr th:only-of-type {\n",
       "        vertical-align: middle;\n",
       "    }\n",
       "\n",
       "    .dataframe tbody tr th {\n",
       "        vertical-align: top;\n",
       "    }\n",
       "\n",
       "    .dataframe thead th {\n",
       "        text-align: right;\n",
       "    }\n",
       "</style>\n",
       "<table border=\"1\" class=\"dataframe\">\n",
       "  <thead>\n",
       "    <tr style=\"text-align: right;\">\n",
       "      <th></th>\n",
       "      <th>W0</th>\n",
       "      <th>v0</th>\n",
       "      <th>y</th>\n",
       "    </tr>\n",
       "  </thead>\n",
       "  <tbody>\n",
       "    <tr>\n",
       "      <th>0</th>\n",
       "      <td>-0.691097</td>\n",
       "      <td>False</td>\n",
       "      <td>0.691424</td>\n",
       "    </tr>\n",
       "    <tr>\n",
       "      <th>1</th>\n",
       "      <td>-0.448272</td>\n",
       "      <td>False</td>\n",
       "      <td>-0.217374</td>\n",
       "    </tr>\n",
       "    <tr>\n",
       "      <th>2</th>\n",
       "      <td>-2.412139</td>\n",
       "      <td>False</td>\n",
       "      <td>1.053742</td>\n",
       "    </tr>\n",
       "    <tr>\n",
       "      <th>3</th>\n",
       "      <td>-1.188220</td>\n",
       "      <td>False</td>\n",
       "      <td>1.074310</td>\n",
       "    </tr>\n",
       "    <tr>\n",
       "      <th>4</th>\n",
       "      <td>-2.212989</td>\n",
       "      <td>False</td>\n",
       "      <td>-0.361335</td>\n",
       "    </tr>\n",
       "    <tr>\n",
       "      <th>...</th>\n",
       "      <td>...</td>\n",
       "      <td>...</td>\n",
       "      <td>...</td>\n",
       "    </tr>\n",
       "    <tr>\n",
       "      <th>995</th>\n",
       "      <td>-0.463786</td>\n",
       "      <td>False</td>\n",
       "      <td>0.031443</td>\n",
       "    </tr>\n",
       "    <tr>\n",
       "      <th>996</th>\n",
       "      <td>-1.423323</td>\n",
       "      <td>False</td>\n",
       "      <td>1.171860</td>\n",
       "    </tr>\n",
       "    <tr>\n",
       "      <th>997</th>\n",
       "      <td>0.832790</td>\n",
       "      <td>True</td>\n",
       "      <td>3.520931</td>\n",
       "    </tr>\n",
       "    <tr>\n",
       "      <th>998</th>\n",
       "      <td>-0.071081</td>\n",
       "      <td>False</td>\n",
       "      <td>0.333575</td>\n",
       "    </tr>\n",
       "    <tr>\n",
       "      <th>999</th>\n",
       "      <td>-1.961324</td>\n",
       "      <td>False</td>\n",
       "      <td>-0.612003</td>\n",
       "    </tr>\n",
       "  </tbody>\n",
       "</table>\n",
       "<p>1000 rows × 3 columns</p>\n",
       "</div>"
      ],
      "text/plain": [
       "           W0     v0         y\n",
       "0   -0.691097  False  0.691424\n",
       "1   -0.448272  False -0.217374\n",
       "2   -2.412139  False  1.053742\n",
       "3   -1.188220  False  1.074310\n",
       "4   -2.212989  False -0.361335\n",
       "..        ...    ...       ...\n",
       "995 -0.463786  False  0.031443\n",
       "996 -1.423323  False  1.171860\n",
       "997  0.832790   True  3.520931\n",
       "998 -0.071081  False  0.333575\n",
       "999 -1.961324  False -0.612003\n",
       "\n",
       "[1000 rows x 3 columns]"
      ]
     },
     "execution_count": 2,
     "metadata": {},
     "output_type": "execute_result"
    }
   ],
   "source": [
    "data = dowhy.datasets.linear_dataset(beta=5,\n",
    "        num_common_causes=1,\n",
    "        num_instruments = 0,\n",
    "        num_samples=1000,\n",
    "        treatment_is_binary=True)\n",
    "df = data['df']\n",
    "df['y'] = df['y'] + np.random.normal(size=len(df)) # Adding noise to data. Without noise, the variance in Y|X, Z is zero, and mcmc fails.\n",
    "#data['dot_graph'] = 'digraph { v ->y;X0-> v;X0-> y;}'\n",
    "\n",
    "treatment= data[\"treatment_name\"][0]\n",
    "outcome = data[\"outcome_name\"][0]\n",
    "common_cause = data[\"common_causes_names\"][0]\n",
    "df"
   ]
  },
  {
   "cell_type": "code",
   "execution_count": 3,
   "metadata": {
    "execution": {
     "iopub.execute_input": "2022-12-03T17:35:39.285599Z",
     "iopub.status.busy": "2022-12-03T17:35:39.285137Z",
     "iopub.status.idle": "2022-12-03T17:35:39.516626Z",
     "shell.execute_reply": "2022-12-03T17:35:39.515921Z"
    }
   },
   "outputs": [
    {
     "data": {
      "text/plain": [
       "<AxesSubplot: xlabel='v0'>"
      ]
     },
     "execution_count": 3,
     "metadata": {},
     "output_type": "execute_result"
    },
    {
     "data": {
      "image/png": "[encoded data removed]",
      "text/plain": [
       "<Figure size 640x480 with 1 Axes>"
      ]
     },
     "metadata": {},
     "output_type": "display_data"
    }
   ],
   "source": [
    "# data['df'] is just a regular pandas.DataFrame\n",
    "df.causal.do(x=treatment,\n",
    "                     variable_types={treatment: 'b', outcome: 'c', common_cause: 'c'},\n",
    "                     outcome=outcome,\n",
    "                     common_causes=[common_cause],\n",
    "                     proceed_when_unidentifiable=True).groupby(treatment).mean().plot(y=outcome, kind='bar')"
   ]
  },
  {
   "cell_type": "code",
   "execution_count": 4,
   "metadata": {
    "execution": {
     "iopub.execute_input": "2022-12-03T17:35:39.520900Z",
     "iopub.status.busy": "2022-12-03T17:35:39.520343Z",
     "iopub.status.idle": "2022-12-03T17:35:39.709426Z",
     "shell.execute_reply": "2022-12-03T17:35:39.708561Z"
    }
   },
   "outputs": [
    {
     "data": {
      "text/plain": [
       "<AxesSubplot: xlabel='v0'>"
      ]
     },
     "execution_count": 4,
     "metadata": {},
     "output_type": "execute_result"
    },
    {
     "data": {
      "image/png": "[encoded data removed]",
      "text/plain": [
       "<Figure size 640x480 with 1 Axes>"
      ]
     },
     "metadata": {},
     "output_type": "display_data"
    }
   ],
   "source": [
    "df.causal.do(x={treatment: 1}, \n",
    "              variable_types={treatment:'b', outcome: 'c', common_cause: 'c'}, \n",
    "              outcome=outcome,\n",
    "              method='weighting', \n",
    "              common_causes=[common_cause],\n",
    "              proceed_when_unidentifiable=True).groupby(treatment).mean().plot(y=outcome, kind='bar')"
   ]
  },
  {
   "cell_type": "code",
   "execution_count": 5,
   "metadata": {
    "execution": {
     "iopub.execute_input": "2022-12-03T17:35:39.713888Z",
     "iopub.status.busy": "2022-12-03T17:35:39.713345Z",
     "iopub.status.idle": "2022-12-03T17:35:39.755031Z",
     "shell.execute_reply": "2022-12-03T17:35:39.754211Z"
    }
   },
   "outputs": [],
   "source": [
    "cdf_1 = df.causal.do(x={treatment: 1}, \n",
    "              variable_types={treatment: 'b', outcome: 'c', common_cause: 'c'}, \n",
    "              outcome=outcome, \n",
    "              dot_graph=data['dot_graph'],\n",
    "              proceed_when_unidentifiable=True)\n",
    "\n",
    "cdf_0 = df.causal.do(x={treatment: 0}, \n",
    "              variable_types={treatment: 'b', outcome: 'c', common_cause: 'c'}, \n",
    "              outcome=outcome, \n",
    "              dot_graph=data['dot_graph'],\n",
    "              proceed_when_unidentifiable=True)\n"
   ]
  },
  {
   "cell_type": "code",
   "execution_count": 6,
   "metadata": {
    "execution": {
     "iopub.execute_input": "2022-12-03T17:35:39.759253Z",
     "iopub.status.busy": "2022-12-03T17:35:39.758725Z",
     "iopub.status.idle": "2022-12-03T17:35:39.770808Z",
     "shell.execute_reply": "2022-12-03T17:35:39.770076Z"
    },
    "scrolled": true
   },
   "outputs": [
    {
     "data": {
      "text/html": [
       "<div>\n",
       "<style scoped>\n",
       "    .dataframe tbody tr th:only-of-type {\n",
       "        vertical-align: middle;\n",
       "    }\n",
       "\n",
       "    .dataframe tbody tr th {\n",
       "        vertical-align: top;\n",
       "    }\n",
       "\n",
       "    .dataframe thead th {\n",
       "        text-align: right;\n",
       "    }\n",
       "</style>\n",
       "<table border=\"1\" class=\"dataframe\">\n",
       "  <thead>\n",
       "    <tr style=\"text-align: right;\">\n",
       "      <th></th>\n",
       "      <th>W0</th>\n",
       "      <th>v0</th>\n",
       "      <th>y</th>\n",
       "      <th>propensity_score</th>\n",
       "      <th>weight</th>\n",
       "    </tr>\n",
       "  </thead>\n",
       "  <tbody>\n",
       "    <tr>\n",
       "      <th>0</th>\n",
       "      <td>2.133282</td>\n",
       "      <td>False</td>\n",
       "      <td>0.531365</td>\n",
       "      <td>0.233673</td>\n",
       "      <td>4.279487</td>\n",
       "    </tr>\n",
       "    <tr>\n",
       "      <th>1</th>\n",
       "      <td>0.536701</td>\n",
       "      <td>False</td>\n",
       "      <td>-0.239088</td>\n",
       "      <td>0.421442</td>\n",
       "      <td>2.372806</td>\n",
       "    </tr>\n",
       "    <tr>\n",
       "      <th>2</th>\n",
       "      <td>-0.662567</td>\n",
       "      <td>False</td>\n",
       "      <td>0.709526</td>\n",
       "      <td>0.583526</td>\n",
       "      <td>1.713719</td>\n",
       "    </tr>\n",
       "    <tr>\n",
       "      <th>3</th>\n",
       "      <td>0.305695</td>\n",
       "      <td>False</td>\n",
       "      <td>-1.023361</td>\n",
       "      <td>0.452430</td>\n",
       "      <td>2.210287</td>\n",
       "    </tr>\n",
       "    <tr>\n",
       "      <th>4</th>\n",
       "      <td>0.415776</td>\n",
       "      <td>False</td>\n",
       "      <td>0.795680</td>\n",
       "      <td>0.437602</td>\n",
       "      <td>2.285181</td>\n",
       "    </tr>\n",
       "    <tr>\n",
       "      <th>...</th>\n",
       "      <td>...</td>\n",
       "      <td>...</td>\n",
       "      <td>...</td>\n",
       "      <td>...</td>\n",
       "      <td>...</td>\n",
       "    </tr>\n",
       "    <tr>\n",
       "      <th>995</th>\n",
       "      <td>-0.621371</td>\n",
       "      <td>False</td>\n",
       "      <td>-0.952019</td>\n",
       "      <td>0.578056</td>\n",
       "      <td>1.729937</td>\n",
       "    </tr>\n",
       "    <tr>\n",
       "      <th>996</th>\n",
       "      <td>1.311267</td>\n",
       "      <td>False</td>\n",
       "      <td>1.252440</td>\n",
       "      <td>0.323150</td>\n",
       "      <td>3.094535</td>\n",
       "    </tr>\n",
       "    <tr>\n",
       "      <th>997</th>\n",
       "      <td>0.340126</td>\n",
       "      <td>False</td>\n",
       "      <td>1.395723</td>\n",
       "      <td>0.447782</td>\n",
       "      <td>2.233231</td>\n",
       "    </tr>\n",
       "    <tr>\n",
       "      <th>998</th>\n",
       "      <td>-0.495274</td>\n",
       "      <td>False</td>\n",
       "      <td>-0.950205</td>\n",
       "      <td>0.561196</td>\n",
       "      <td>1.781908</td>\n",
       "    </tr>\n",
       "    <tr>\n",
       "      <th>999</th>\n",
       "      <td>-0.365953</td>\n",
       "      <td>False</td>\n",
       "      <td>-1.827535</td>\n",
       "      <td>0.543758</td>\n",
       "      <td>1.839052</td>\n",
       "    </tr>\n",
       "  </tbody>\n",
       "</table>\n",
       "<p>1000 rows × 5 columns</p>\n",
       "</div>"
      ],
      "text/plain": [
       "           W0     v0         y  propensity_score    weight\n",
       "0    2.133282  False  0.531365          0.233673  4.279487\n",
       "1    0.536701  False -0.239088          0.421442  2.372806\n",
       "2   -0.662567  False  0.709526          0.583526  1.713719\n",
       "3    0.305695  False -1.023361          0.452430  2.210287\n",
       "4    0.415776  False  0.795680          0.437602  2.285181\n",
       "..        ...    ...       ...               ...       ...\n",
       "995 -0.621371  False -0.952019          0.578056  1.729937\n",
       "996  1.311267  False  1.252440          0.323150  3.094535\n",
       "997  0.340126  False  1.395723          0.447782  2.233231\n",
       "998 -0.495274  False -0.950205          0.561196  1.781908\n",
       "999 -0.365953  False -1.827535          0.543758  1.839052\n",
       "\n",
       "[1000 rows x 5 columns]"
      ]
     },
     "execution_count": 6,
     "metadata": {},
     "output_type": "execute_result"
    }
   ],
   "source": [
    "cdf_0"
   ]
  },
  {
   "cell_type": "code",
   "execution_count": 7,
   "metadata": {
    "execution": {
     "iopub.execute_input": "2022-12-03T17:35:39.774819Z",
     "iopub.status.busy": "2022-12-03T17:35:39.774219Z",
     "iopub.status.idle": "2022-12-03T17:35:39.786328Z",
     "shell.execute_reply": "2022-12-03T17:35:39.785737Z"
    }
   },
   "outputs": [
    {
     "data": {
      "text/html": [
       "<div>\n",
       "<style scoped>\n",
       "    .dataframe tbody tr th:only-of-type {\n",
       "        vertical-align: middle;\n",
       "    }\n",
       "\n",
       "    .dataframe tbody tr th {\n",
       "        vertical-align: top;\n",
       "    }\n",
       "\n",
       "    .dataframe thead th {\n",
       "        text-align: right;\n",
       "    }\n",
       "</style>\n",
       "<table border=\"1\" class=\"dataframe\">\n",
       "  <thead>\n",
       "    <tr style=\"text-align: right;\">\n",
       "      <th></th>\n",
       "      <th>W0</th>\n",
       "      <th>v0</th>\n",
       "      <th>y</th>\n",
       "      <th>propensity_score</th>\n",
       "      <th>weight</th>\n",
       "    </tr>\n",
       "  </thead>\n",
       "  <tbody>\n",
       "    <tr>\n",
       "      <th>0</th>\n",
       "      <td>-0.456924</td>\n",
       "      <td>True</td>\n",
       "      <td>4.439097</td>\n",
       "      <td>0.443961</td>\n",
       "      <td>2.252450</td>\n",
       "    </tr>\n",
       "    <tr>\n",
       "      <th>1</th>\n",
       "      <td>-2.963949</td>\n",
       "      <td>True</td>\n",
       "      <td>3.446003</td>\n",
       "      <td>0.169030</td>\n",
       "      <td>5.916122</td>\n",
       "    </tr>\n",
       "    <tr>\n",
       "      <th>2</th>\n",
       "      <td>0.923600</td>\n",
       "      <td>True</td>\n",
       "      <td>4.040224</td>\n",
       "      <td>0.628990</td>\n",
       "      <td>1.589852</td>\n",
       "    </tr>\n",
       "    <tr>\n",
       "      <th>3</th>\n",
       "      <td>-1.059315</td>\n",
       "      <td>True</td>\n",
       "      <td>4.918350</td>\n",
       "      <td>0.365014</td>\n",
       "      <td>2.739619</td>\n",
       "    </tr>\n",
       "    <tr>\n",
       "      <th>4</th>\n",
       "      <td>0.326443</td>\n",
       "      <td>True</td>\n",
       "      <td>5.527318</td>\n",
       "      <td>0.550372</td>\n",
       "      <td>1.816953</td>\n",
       "    </tr>\n",
       "    <tr>\n",
       "      <th>...</th>\n",
       "      <td>...</td>\n",
       "      <td>...</td>\n",
       "      <td>...</td>\n",
       "      <td>...</td>\n",
       "      <td>...</td>\n",
       "    </tr>\n",
       "    <tr>\n",
       "      <th>995</th>\n",
       "      <td>-0.483016</td>\n",
       "      <td>True</td>\n",
       "      <td>5.002124</td>\n",
       "      <td>0.440451</td>\n",
       "      <td>2.270401</td>\n",
       "    </tr>\n",
       "    <tr>\n",
       "      <th>996</th>\n",
       "      <td>-0.894778</td>\n",
       "      <td>True</td>\n",
       "      <td>5.644745</td>\n",
       "      <td>0.386056</td>\n",
       "      <td>2.590299</td>\n",
       "    </tr>\n",
       "    <tr>\n",
       "      <th>997</th>\n",
       "      <td>0.321376</td>\n",
       "      <td>True</td>\n",
       "      <td>4.571422</td>\n",
       "      <td>0.549688</td>\n",
       "      <td>1.819213</td>\n",
       "    </tr>\n",
       "    <tr>\n",
       "      <th>998</th>\n",
       "      <td>0.208873</td>\n",
       "      <td>True</td>\n",
       "      <td>4.420072</td>\n",
       "      <td>0.534457</td>\n",
       "      <td>1.871057</td>\n",
       "    </tr>\n",
       "    <tr>\n",
       "      <th>999</th>\n",
       "      <td>-0.040597</td>\n",
       "      <td>True</td>\n",
       "      <td>6.063609</td>\n",
       "      <td>0.500494</td>\n",
       "      <td>1.998024</td>\n",
       "    </tr>\n",
       "  </tbody>\n",
       "</table>\n",
       "<p>1000 rows × 5 columns</p>\n",
       "</div>"
      ],
      "text/plain": [
       "           W0    v0         y  propensity_score    weight\n",
       "0   -0.456924  True  4.439097          0.443961  2.252450\n",
       "1   -2.963949  True  3.446003          0.169030  5.916122\n",
       "2    0.923600  True  4.040224          0.628990  1.589852\n",
       "3   -1.059315  True  4.918350          0.365014  2.739619\n",
       "4    0.326443  True  5.527318          0.550372  1.816953\n",
       "..        ...   ...       ...               ...       ...\n",
       "995 -0.483016  True  5.002124          0.440451  2.270401\n",
       "996 -0.894778  True  5.644745          0.386056  2.590299\n",
       "997  0.321376  True  4.571422          0.549688  1.819213\n",
       "998  0.208873  True  4.420072          0.534457  1.871057\n",
       "999 -0.040597  True  6.063609          0.500494  1.998024\n",
       "\n",
       "[1000 rows x 5 columns]"
      ]
     },
     "execution_count": 7,
     "metadata": {},
     "output_type": "execute_result"
    }
   ],
   "source": [
    "cdf_1"
   ]
  },
  {
   "cell_type": "markdown",
   "metadata": {},
   "source": [
    "## Comparing the estimate to Linear Regression\n",
    "First, estimating the effect using the causal data frame, and the 95% confidence interval."
   ]
  },
  {
   "cell_type": "code",
   "execution_count": 8,
   "metadata": {
    "execution": {
     "iopub.execute_input": "2022-12-03T17:35:39.790508Z",
     "iopub.status.busy": "2022-12-03T17:35:39.789988Z",
     "iopub.status.idle": "2022-12-03T17:35:39.869360Z",
     "shell.execute_reply": "2022-12-03T17:35:39.868233Z"
    }
   },
   "outputs": [
    {
     "data": {
      "image/png": "[encoded data removed]",
      "text/latex": [
       "$\\displaystyle 4.94193271746408$"
      ],
      "text/plain": [
       "4.941932717464079"
      ]
     },
     "execution_count": 8,
     "metadata": {},
     "output_type": "execute_result"
    }
   ],
   "source": [
    "(cdf_1['y'] - cdf_0['y']).mean()"
   ]
  },
  {
   "cell_type": "code",
   "execution_count": 9,
   "metadata": {
    "execution": {
     "iopub.execute_input": "2022-12-03T17:35:39.874376Z",
     "iopub.status.busy": "2022-12-03T17:35:39.873948Z",
     "iopub.status.idle": "2022-12-03T17:35:39.911098Z",
     "shell.execute_reply": "2022-12-03T17:35:39.908002Z"
    }
   },
   "outputs": [
    {
     "data": {
      "image/png": "[encoded data removed]",
      "text/latex": [
       "$\\displaystyle 0.0880230785754371$"
      ],
      "text/plain": [
       "0.08802307857543712"
      ]
     },
     "execution_count": 9,
     "metadata": {},
     "output_type": "execute_result"
    }
   ],
   "source": [
    "1.96*(cdf_1['y'] - cdf_0['y']).std() / np.sqrt(len(df))"
   ]
  },
  {
   "cell_type": "markdown",
   "metadata": {},
   "source": [
    "Comparing to the estimate from OLS."
   ]
  },
  {
   "cell_type": "code",
   "execution_count": 10,
   "metadata": {
    "execution": {
     "iopub.execute_input": "2022-12-03T17:35:39.916608Z",
     "iopub.status.busy": "2022-12-03T17:35:39.916148Z",
     "iopub.status.idle": "2022-12-03T17:35:39.938643Z",
     "shell.execute_reply": "2022-12-03T17:35:39.937710Z"
    }
   },
   "outputs": [
    {
     "data": {
      "text/html": [
       "<table class=\"simpletable\">\n",
       "<caption>OLS Regression Results</caption>\n",
       "<tr>\n",
       "  <th>Dep. Variable:</th>            <td>y</td>        <th>  R-squared (uncentered):</th>      <td>   0.916</td>\n",
       "</tr>\n",
       "<tr>\n",
       "  <th>Model:</th>                   <td>OLS</td>       <th>  Adj. R-squared (uncentered):</th> <td>   0.916</td>\n",
       "</tr>\n",
       "<tr>\n",
       "  <th>Method:</th>             <td>Least Squares</td>  <th>  F-statistic:       </th>          <td>   5425.</td>\n",
       "</tr>\n",
       "<tr>\n",
       "  <th>Date:</th>             <td>Sat, 03 Dec 2022</td> <th>  Prob (F-statistic):</th>           <td>  0.00</td> \n",
       "</tr>\n",
       "<tr>\n",
       "  <th>Time:</th>                 <td>17:35:39</td>     <th>  Log-Likelihood:    </th>          <td> -1439.7</td>\n",
       "</tr>\n",
       "<tr>\n",
       "  <th>No. Observations:</th>      <td>  1000</td>      <th>  AIC:               </th>          <td>   2883.</td>\n",
       "</tr>\n",
       "<tr>\n",
       "  <th>Df Residuals:</th>          <td>   998</td>      <th>  BIC:               </th>          <td>   2893.</td>\n",
       "</tr>\n",
       "<tr>\n",
       "  <th>Df Model:</th>              <td>     2</td>      <th>                     </th>              <td> </td>   \n",
       "</tr>\n",
       "<tr>\n",
       "  <th>Covariance Type:</th>      <td>nonrobust</td>    <th>                     </th>              <td> </td>   \n",
       "</tr>\n",
       "</table>\n",
       "<table class=\"simpletable\">\n",
       "<tr>\n",
       "   <td></td>     <th>coef</th>     <th>std err</th>      <th>t</th>      <th>P>|t|</th>  <th>[0.025</th>    <th>0.975]</th>  \n",
       "</tr>\n",
       "<tr>\n",
       "  <th>x1</th> <td>    0.0823</td> <td>    0.030</td> <td>    2.711</td> <td> 0.007</td> <td>    0.023</td> <td>    0.142</td>\n",
       "</tr>\n",
       "<tr>\n",
       "  <th>x2</th> <td>    5.0053</td> <td>    0.048</td> <td>  103.975</td> <td> 0.000</td> <td>    4.911</td> <td>    5.100</td>\n",
       "</tr>\n",
       "</table>\n",
       "<table class=\"simpletable\">\n",
       "<tr>\n",
       "  <th>Omnibus:</th>       <td> 2.645</td> <th>  Durbin-Watson:     </th> <td>   1.903</td>\n",
       "</tr>\n",
       "<tr>\n",
       "  <th>Prob(Omnibus):</th> <td> 0.266</td> <th>  Jarque-Bera (JB):  </th> <td>   2.715</td>\n",
       "</tr>\n",
       "<tr>\n",
       "  <th>Skew:</th>          <td> 0.119</td> <th>  Prob(JB):          </th> <td>   0.257</td>\n",
       "</tr>\n",
       "<tr>\n",
       "  <th>Kurtosis:</th>      <td> 2.907</td> <th>  Cond. No.          </th> <td>    1.60</td>\n",
       "</tr>\n",
       "</table><br/><br/>Notes:<br/>[1] R² is computed without centering (uncentered) since the model does not contain a constant.<br/>[2] Standard Errors assume that the covariance matrix of the errors is correctly specified."
      ],
      "text/plain": [
       "<class 'statsmodels.iolib.summary.Summary'>\n",
       "\"\"\"\n",
       "                                 OLS Regression Results                                \n",
       "=======================================================================================\n",
       "Dep. Variable:                      y   R-squared (uncentered):                   0.916\n",
       "Model:                            OLS   Adj. R-squared (uncentered):              0.916\n",
       "Method:                 Least Squares   F-statistic:                              5425.\n",
       "Date:                Sat, 03 Dec 2022   Prob (F-statistic):                        0.00\n",
       "Time:                        17:35:39   Log-Likelihood:                         -1439.7\n",
       "No. Observations:                1000   AIC:                                      2883.\n",
       "Df Residuals:                     998   BIC:                                      2893.\n",
       "Df Model:                           2                                                  \n",
       "Covariance Type:            nonrobust                                                  \n",
       "==============================================================================\n",
       "                 coef    std err          t      P>|t|      [0.025      0.975]\n",
       "------------------------------------------------------------------------------\n",
       "x1             0.0823      0.030      2.711      0.007       0.023       0.142\n",
       "x2             5.0053      0.048    103.975      0.000       4.911       5.100\n",
       "==============================================================================\n",
       "Omnibus:                        2.645   Durbin-Watson:                   1.903\n",
       "Prob(Omnibus):                  0.266   Jarque-Bera (JB):                2.715\n",
       "Skew:                           0.119   Prob(JB):                        0.257\n",
       "Kurtosis:                       2.907   Cond. No.                         1.60\n",
       "==============================================================================\n",
       "\n",
       "Notes:\n",
       "[1] R² is computed without centering (uncentered) since the model does not contain a constant.\n",
       "[2] Standard Errors assume that the covariance matrix of the errors is correctly specified.\n",
       "\"\"\""
      ]
     },
     "execution_count": 10,
     "metadata": {},
     "output_type": "execute_result"
    }
   ],
   "source": [
    "model = OLS(np.asarray(df[outcome]), np.asarray(df[[common_cause, treatment]], dtype=np.float64))\n",
    "result = model.fit()\n",
    "result.summary()"
   ]
  }
 ],
 "metadata": {
  "kernelspec": {
   "display_name": "Python 3",
   "language": "python",
   "name": "python3"
  },
  "language_info": {
   "codemirror_mode": {
    "name": "ipython",
    "version": 3
   },
   "file_extension": ".py",
   "mimetype": "text/x-python",
   "name": "python",
   "nbconvert_exporter": "python",
   "pygments_lexer": "ipython3",
   "version": "3.8.10"
  },
  "toc": {
   "base_numbering": 1,
   "nav_menu": {},
   "number_sections": false,
   "sideBar": true,
   "skip_h1_title": true,
   "title_cell": "Table of Contents",
   "title_sidebar": "Contents",
   "toc_cell": false,
   "toc_position": {},
   "toc_section_display": true,
   "toc_window_display": false
  }
 },
 "nbformat": 4,
 "nbformat_minor": 4
}
