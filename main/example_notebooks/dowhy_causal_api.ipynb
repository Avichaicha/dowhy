{
 "cells": [
  {
   "cell_type": "markdown",
   "metadata": {},
   "source": [
    "# Demo for the DoWhy causal API\n",
    "We show a simple example of adding a causal extension to any dataframe. "
   ]
  },
  {
   "cell_type": "code",
   "execution_count": 1,
   "metadata": {
    "execution": {
     "iopub.execute_input": "2023-01-10T14:51:59.460210Z",
     "iopub.status.busy": "2023-01-10T14:51:59.459726Z",
     "iopub.status.idle": "2023-01-10T14:52:01.446759Z",
     "shell.execute_reply": "2023-01-10T14:52:01.446053Z"
    }
   },
   "outputs": [],
   "source": [
    "import dowhy.datasets\n",
    "import dowhy.api\n",
    "\n",
    "import numpy as np\n",
    "import pandas as pd\n",
    "\n",
    "from statsmodels.api import OLS"
   ]
  },
  {
   "cell_type": "code",
   "execution_count": 2,
   "metadata": {
    "execution": {
     "iopub.execute_input": "2023-01-10T14:52:01.450657Z",
     "iopub.status.busy": "2023-01-10T14:52:01.449931Z",
     "iopub.status.idle": "2023-01-10T14:52:01.492791Z",
     "shell.execute_reply": "2023-01-10T14:52:01.492151Z"
    }
   },
   "outputs": [
    {
     "data": {
      "text/html": [
       "<div>\n",
       "<style scoped>\n",
       "    .dataframe tbody tr th:only-of-type {\n",
       "        vertical-align: middle;\n",
       "    }\n",
       "\n",
       "    .dataframe tbody tr th {\n",
       "        vertical-align: top;\n",
       "    }\n",
       "\n",
       "    .dataframe thead th {\n",
       "        text-align: right;\n",
       "    }\n",
       "</style>\n",
       "<table border=\"1\" class=\"dataframe\">\n",
       "  <thead>\n",
       "    <tr style=\"text-align: right;\">\n",
       "      <th></th>\n",
       "      <th>W0</th>\n",
       "      <th>v0</th>\n",
       "      <th>y</th>\n",
       "    </tr>\n",
       "  </thead>\n",
       "  <tbody>\n",
       "    <tr>\n",
       "      <th>0</th>\n",
       "      <td>0.054752</td>\n",
       "      <td>True</td>\n",
       "      <td>4.018649</td>\n",
       "    </tr>\n",
       "    <tr>\n",
       "      <th>1</th>\n",
       "      <td>0.144189</td>\n",
       "      <td>False</td>\n",
       "      <td>-0.781169</td>\n",
       "    </tr>\n",
       "    <tr>\n",
       "      <th>2</th>\n",
       "      <td>2.868603</td>\n",
       "      <td>True</td>\n",
       "      <td>8.616429</td>\n",
       "    </tr>\n",
       "    <tr>\n",
       "      <th>3</th>\n",
       "      <td>-0.463310</td>\n",
       "      <td>False</td>\n",
       "      <td>-1.514361</td>\n",
       "    </tr>\n",
       "    <tr>\n",
       "      <th>4</th>\n",
       "      <td>0.776193</td>\n",
       "      <td>True</td>\n",
       "      <td>6.969184</td>\n",
       "    </tr>\n",
       "    <tr>\n",
       "      <th>...</th>\n",
       "      <td>...</td>\n",
       "      <td>...</td>\n",
       "      <td>...</td>\n",
       "    </tr>\n",
       "    <tr>\n",
       "      <th>995</th>\n",
       "      <td>1.706985</td>\n",
       "      <td>True</td>\n",
       "      <td>7.057593</td>\n",
       "    </tr>\n",
       "    <tr>\n",
       "      <th>996</th>\n",
       "      <td>0.458134</td>\n",
       "      <td>False</td>\n",
       "      <td>1.648011</td>\n",
       "    </tr>\n",
       "    <tr>\n",
       "      <th>997</th>\n",
       "      <td>-0.629482</td>\n",
       "      <td>True</td>\n",
       "      <td>4.457669</td>\n",
       "    </tr>\n",
       "    <tr>\n",
       "      <th>998</th>\n",
       "      <td>0.795582</td>\n",
       "      <td>True</td>\n",
       "      <td>7.531486</td>\n",
       "    </tr>\n",
       "    <tr>\n",
       "      <th>999</th>\n",
       "      <td>1.153153</td>\n",
       "      <td>True</td>\n",
       "      <td>6.078186</td>\n",
       "    </tr>\n",
       "  </tbody>\n",
       "</table>\n",
       "<p>1000 rows × 3 columns</p>\n",
       "</div>"
      ],
      "text/plain": [
       "           W0     v0         y\n",
       "0    0.054752   True  4.018649\n",
       "1    0.144189  False -0.781169\n",
       "2    2.868603   True  8.616429\n",
       "3   -0.463310  False -1.514361\n",
       "4    0.776193   True  6.969184\n",
       "..        ...    ...       ...\n",
       "995  1.706985   True  7.057593\n",
       "996  0.458134  False  1.648011\n",
       "997 -0.629482   True  4.457669\n",
       "998  0.795582   True  7.531486\n",
       "999  1.153153   True  6.078186\n",
       "\n",
       "[1000 rows x 3 columns]"
      ]
     },
     "execution_count": 2,
     "metadata": {},
     "output_type": "execute_result"
    }
   ],
   "source": [
    "data = dowhy.datasets.linear_dataset(beta=5,\n",
    "        num_common_causes=1,\n",
    "        num_instruments = 0,\n",
    "        num_samples=1000,\n",
    "        treatment_is_binary=True)\n",
    "df = data['df']\n",
    "df['y'] = df['y'] + np.random.normal(size=len(df)) # Adding noise to data. Without noise, the variance in Y|X, Z is zero, and mcmc fails.\n",
    "#data['dot_graph'] = 'digraph { v ->y;X0-> v;X0-> y;}'\n",
    "\n",
    "treatment= data[\"treatment_name\"][0]\n",
    "outcome = data[\"outcome_name\"][0]\n",
    "common_cause = data[\"common_causes_names\"][0]\n",
    "df"
   ]
  },
  {
   "cell_type": "code",
   "execution_count": 3,
   "metadata": {
    "execution": {
     "iopub.execute_input": "2023-01-10T14:52:01.496044Z",
     "iopub.status.busy": "2023-01-10T14:52:01.495646Z",
     "iopub.status.idle": "2023-01-10T14:52:01.666330Z",
     "shell.execute_reply": "2023-01-10T14:52:01.665745Z"
    }
   },
   "outputs": [
    {
     "data": {
      "text/plain": [
       "<AxesSubplot: xlabel='v0'>"
      ]
     },
     "execution_count": 3,
     "metadata": {},
     "output_type": "execute_result"
    },
    {
     "data": {
      "image/png": "[encoded data removed]",
      "text/plain": [
       "<Figure size 640x480 with 1 Axes>"
      ]
     },
     "metadata": {},
     "output_type": "display_data"
    }
   ],
   "source": [
    "# data['df'] is just a regular pandas.DataFrame\n",
    "df.causal.do(x=treatment,\n",
    "                     variable_types={treatment: 'b', outcome: 'c', common_cause: 'c'},\n",
    "                     outcome=outcome,\n",
    "                     common_causes=[common_cause],\n",
    "                     proceed_when_unidentifiable=True).groupby(treatment).mean().plot(y=outcome, kind='bar')"
   ]
  },
  {
   "cell_type": "code",
   "execution_count": 4,
   "metadata": {
    "execution": {
     "iopub.execute_input": "2023-01-10T14:52:01.669982Z",
     "iopub.status.busy": "2023-01-10T14:52:01.669497Z",
     "iopub.status.idle": "2023-01-10T14:52:01.790553Z",
     "shell.execute_reply": "2023-01-10T14:52:01.789967Z"
    }
   },
   "outputs": [
    {
     "data": {
      "text/plain": [
       "<AxesSubplot: xlabel='v0'>"
      ]
     },
     "execution_count": 4,
     "metadata": {},
     "output_type": "execute_result"
    },
    {
     "data": {
      "image/png": "[encoded data removed]",
      "text/plain": [
       "<Figure size 640x480 with 1 Axes>"
      ]
     },
     "metadata": {},
     "output_type": "display_data"
    }
   ],
   "source": [
    "df.causal.do(x={treatment: 1}, \n",
    "              variable_types={treatment:'b', outcome: 'c', common_cause: 'c'}, \n",
    "              outcome=outcome,\n",
    "              method='weighting', \n",
    "              common_causes=[common_cause],\n",
    "              proceed_when_unidentifiable=True).groupby(treatment).mean().plot(y=outcome, kind='bar')"
   ]
  },
  {
   "cell_type": "code",
   "execution_count": 5,
   "metadata": {
    "execution": {
     "iopub.execute_input": "2023-01-10T14:52:01.794231Z",
     "iopub.status.busy": "2023-01-10T14:52:01.793746Z",
     "iopub.status.idle": "2023-01-10T14:52:01.827392Z",
     "shell.execute_reply": "2023-01-10T14:52:01.826775Z"
    }
   },
   "outputs": [],
   "source": [
    "cdf_1 = df.causal.do(x={treatment: 1}, \n",
    "              variable_types={treatment: 'b', outcome: 'c', common_cause: 'c'}, \n",
    "              outcome=outcome, \n",
    "              dot_graph=data['dot_graph'],\n",
    "              proceed_when_unidentifiable=True)\n",
    "\n",
    "cdf_0 = df.causal.do(x={treatment: 0}, \n",
    "              variable_types={treatment: 'b', outcome: 'c', common_cause: 'c'}, \n",
    "              outcome=outcome, \n",
    "              dot_graph=data['dot_graph'],\n",
    "              proceed_when_unidentifiable=True)\n"
   ]
  },
  {
   "cell_type": "code",
   "execution_count": 6,
   "metadata": {
    "execution": {
     "iopub.execute_input": "2023-01-10T14:52:01.831038Z",
     "iopub.status.busy": "2023-01-10T14:52:01.830588Z",
     "iopub.status.idle": "2023-01-10T14:52:01.843170Z",
     "shell.execute_reply": "2023-01-10T14:52:01.842640Z"
    },
    "scrolled": true
   },
   "outputs": [
    {
     "data": {
      "text/html": [
       "<div>\n",
       "<style scoped>\n",
       "    .dataframe tbody tr th:only-of-type {\n",
       "        vertical-align: middle;\n",
       "    }\n",
       "\n",
       "    .dataframe tbody tr th {\n",
       "        vertical-align: top;\n",
       "    }\n",
       "\n",
       "    .dataframe thead th {\n",
       "        text-align: right;\n",
       "    }\n",
       "</style>\n",
       "<table border=\"1\" class=\"dataframe\">\n",
       "  <thead>\n",
       "    <tr style=\"text-align: right;\">\n",
       "      <th></th>\n",
       "      <th>W0</th>\n",
       "      <th>v0</th>\n",
       "      <th>y</th>\n",
       "      <th>propensity_score</th>\n",
       "      <th>weight</th>\n",
       "    </tr>\n",
       "  </thead>\n",
       "  <tbody>\n",
       "    <tr>\n",
       "      <th>0</th>\n",
       "      <td>1.593268</td>\n",
       "      <td>False</td>\n",
       "      <td>1.091660</td>\n",
       "      <td>0.119529</td>\n",
       "      <td>8.366180</td>\n",
       "    </tr>\n",
       "    <tr>\n",
       "      <th>1</th>\n",
       "      <td>1.162490</td>\n",
       "      <td>False</td>\n",
       "      <td>1.484875</td>\n",
       "      <td>0.190742</td>\n",
       "      <td>5.242682</td>\n",
       "    </tr>\n",
       "    <tr>\n",
       "      <th>2</th>\n",
       "      <td>1.105720</td>\n",
       "      <td>False</td>\n",
       "      <td>1.751896</td>\n",
       "      <td>0.202218</td>\n",
       "      <td>4.945163</td>\n",
       "    </tr>\n",
       "    <tr>\n",
       "      <th>3</th>\n",
       "      <td>1.329411</td>\n",
       "      <td>False</td>\n",
       "      <td>3.165570</td>\n",
       "      <td>0.159900</td>\n",
       "      <td>6.253918</td>\n",
       "    </tr>\n",
       "    <tr>\n",
       "      <th>4</th>\n",
       "      <td>0.029374</td>\n",
       "      <td>False</td>\n",
       "      <td>1.932450</td>\n",
       "      <td>0.501500</td>\n",
       "      <td>1.994017</td>\n",
       "    </tr>\n",
       "    <tr>\n",
       "      <th>...</th>\n",
       "      <td>...</td>\n",
       "      <td>...</td>\n",
       "      <td>...</td>\n",
       "      <td>...</td>\n",
       "      <td>...</td>\n",
       "    </tr>\n",
       "    <tr>\n",
       "      <th>995</th>\n",
       "      <td>-1.886579</td>\n",
       "      <td>False</td>\n",
       "      <td>-2.155550</td>\n",
       "      <td>0.921274</td>\n",
       "      <td>1.085453</td>\n",
       "    </tr>\n",
       "    <tr>\n",
       "      <th>996</th>\n",
       "      <td>0.196574</td>\n",
       "      <td>False</td>\n",
       "      <td>0.006092</td>\n",
       "      <td>0.448153</td>\n",
       "      <td>2.231379</td>\n",
       "    </tr>\n",
       "    <tr>\n",
       "      <th>997</th>\n",
       "      <td>-0.113802</td>\n",
       "      <td>False</td>\n",
       "      <td>0.757758</td>\n",
       "      <td>0.547201</td>\n",
       "      <td>1.827482</td>\n",
       "    </tr>\n",
       "    <tr>\n",
       "      <th>998</th>\n",
       "      <td>-0.338291</td>\n",
       "      <td>False</td>\n",
       "      <td>-2.089002</td>\n",
       "      <td>0.617010</td>\n",
       "      <td>1.620720</td>\n",
       "    </tr>\n",
       "    <tr>\n",
       "      <th>999</th>\n",
       "      <td>0.388851</td>\n",
       "      <td>False</td>\n",
       "      <td>0.947144</td>\n",
       "      <td>0.388318</td>\n",
       "      <td>2.575207</td>\n",
       "    </tr>\n",
       "  </tbody>\n",
       "</table>\n",
       "<p>1000 rows × 5 columns</p>\n",
       "</div>"
      ],
      "text/plain": [
       "           W0     v0         y  propensity_score    weight\n",
       "0    1.593268  False  1.091660          0.119529  8.366180\n",
       "1    1.162490  False  1.484875          0.190742  5.242682\n",
       "2    1.105720  False  1.751896          0.202218  4.945163\n",
       "3    1.329411  False  3.165570          0.159900  6.253918\n",
       "4    0.029374  False  1.932450          0.501500  1.994017\n",
       "..        ...    ...       ...               ...       ...\n",
       "995 -1.886579  False -2.155550          0.921274  1.085453\n",
       "996  0.196574  False  0.006092          0.448153  2.231379\n",
       "997 -0.113802  False  0.757758          0.547201  1.827482\n",
       "998 -0.338291  False -2.089002          0.617010  1.620720\n",
       "999  0.388851  False  0.947144          0.388318  2.575207\n",
       "\n",
       "[1000 rows x 5 columns]"
      ]
     },
     "execution_count": 6,
     "metadata": {},
     "output_type": "execute_result"
    }
   ],
   "source": [
    "cdf_0"
   ]
  },
  {
   "cell_type": "code",
   "execution_count": 7,
   "metadata": {
    "execution": {
     "iopub.execute_input": "2023-01-10T14:52:01.846325Z",
     "iopub.status.busy": "2023-01-10T14:52:01.845939Z",
     "iopub.status.idle": "2023-01-10T14:52:01.857796Z",
     "shell.execute_reply": "2023-01-10T14:52:01.857214Z"
    }
   },
   "outputs": [
    {
     "data": {
      "text/html": [
       "<div>\n",
       "<style scoped>\n",
       "    .dataframe tbody tr th:only-of-type {\n",
       "        vertical-align: middle;\n",
       "    }\n",
       "\n",
       "    .dataframe tbody tr th {\n",
       "        vertical-align: top;\n",
       "    }\n",
       "\n",
       "    .dataframe thead th {\n",
       "        text-align: right;\n",
       "    }\n",
       "</style>\n",
       "<table border=\"1\" class=\"dataframe\">\n",
       "  <thead>\n",
       "    <tr style=\"text-align: right;\">\n",
       "      <th></th>\n",
       "      <th>W0</th>\n",
       "      <th>v0</th>\n",
       "      <th>y</th>\n",
       "      <th>propensity_score</th>\n",
       "      <th>weight</th>\n",
       "    </tr>\n",
       "  </thead>\n",
       "  <tbody>\n",
       "    <tr>\n",
       "      <th>0</th>\n",
       "      <td>-0.382532</td>\n",
       "      <td>True</td>\n",
       "      <td>6.126781</td>\n",
       "      <td>0.369693</td>\n",
       "      <td>2.704947</td>\n",
       "    </tr>\n",
       "    <tr>\n",
       "      <th>1</th>\n",
       "      <td>-0.286197</td>\n",
       "      <td>True</td>\n",
       "      <td>7.072886</td>\n",
       "      <td>0.398875</td>\n",
       "      <td>2.507054</td>\n",
       "    </tr>\n",
       "    <tr>\n",
       "      <th>2</th>\n",
       "      <td>-0.776090</td>\n",
       "      <td>True</td>\n",
       "      <td>2.663328</td>\n",
       "      <td>0.261619</td>\n",
       "      <td>3.822347</td>\n",
       "    </tr>\n",
       "    <tr>\n",
       "      <th>3</th>\n",
       "      <td>0.824402</td>\n",
       "      <td>True</td>\n",
       "      <td>6.492423</td>\n",
       "      <td>0.733451</td>\n",
       "      <td>1.363418</td>\n",
       "    </tr>\n",
       "    <tr>\n",
       "      <th>4</th>\n",
       "      <td>0.073189</td>\n",
       "      <td>True</td>\n",
       "      <td>3.192765</td>\n",
       "      <td>0.512526</td>\n",
       "      <td>1.951121</td>\n",
       "    </tr>\n",
       "    <tr>\n",
       "      <th>...</th>\n",
       "      <td>...</td>\n",
       "      <td>...</td>\n",
       "      <td>...</td>\n",
       "      <td>...</td>\n",
       "      <td>...</td>\n",
       "    </tr>\n",
       "    <tr>\n",
       "      <th>995</th>\n",
       "      <td>1.949493</td>\n",
       "      <td>True</td>\n",
       "      <td>7.720540</td>\n",
       "      <td>0.920789</td>\n",
       "      <td>1.086025</td>\n",
       "    </tr>\n",
       "    <tr>\n",
       "      <th>996</th>\n",
       "      <td>0.445166</td>\n",
       "      <td>True</td>\n",
       "      <td>5.276328</td>\n",
       "      <td>0.628669</td>\n",
       "      <td>1.590663</td>\n",
       "    </tr>\n",
       "    <tr>\n",
       "      <th>997</th>\n",
       "      <td>1.287004</td>\n",
       "      <td>True</td>\n",
       "      <td>6.980185</td>\n",
       "      <td>0.832669</td>\n",
       "      <td>1.200957</td>\n",
       "    </tr>\n",
       "    <tr>\n",
       "      <th>998</th>\n",
       "      <td>0.365441</td>\n",
       "      <td>True</td>\n",
       "      <td>3.582050</td>\n",
       "      <td>0.604537</td>\n",
       "      <td>1.654159</td>\n",
       "    </tr>\n",
       "    <tr>\n",
       "      <th>999</th>\n",
       "      <td>1.145239</td>\n",
       "      <td>True</td>\n",
       "      <td>7.274193</td>\n",
       "      <td>0.805824</td>\n",
       "      <td>1.240965</td>\n",
       "    </tr>\n",
       "  </tbody>\n",
       "</table>\n",
       "<p>1000 rows × 5 columns</p>\n",
       "</div>"
      ],
      "text/plain": [
       "           W0    v0         y  propensity_score    weight\n",
       "0   -0.382532  True  6.126781          0.369693  2.704947\n",
       "1   -0.286197  True  7.072886          0.398875  2.507054\n",
       "2   -0.776090  True  2.663328          0.261619  3.822347\n",
       "3    0.824402  True  6.492423          0.733451  1.363418\n",
       "4    0.073189  True  3.192765          0.512526  1.951121\n",
       "..        ...   ...       ...               ...       ...\n",
       "995  1.949493  True  7.720540          0.920789  1.086025\n",
       "996  0.445166  True  5.276328          0.628669  1.590663\n",
       "997  1.287004  True  6.980185          0.832669  1.200957\n",
       "998  0.365441  True  3.582050          0.604537  1.654159\n",
       "999  1.145239  True  7.274193          0.805824  1.240965\n",
       "\n",
       "[1000 rows x 5 columns]"
      ]
     },
     "execution_count": 7,
     "metadata": {},
     "output_type": "execute_result"
    }
   ],
   "source": [
    "cdf_1"
   ]
  },
  {
   "cell_type": "markdown",
   "metadata": {},
   "source": [
    "## Comparing the estimate to Linear Regression\n",
    "First, estimating the effect using the causal data frame, and the 95% confidence interval."
   ]
  },
  {
   "cell_type": "code",
   "execution_count": 8,
   "metadata": {
    "execution": {
     "iopub.execute_input": "2023-01-10T14:52:01.860938Z",
     "iopub.status.busy": "2023-01-10T14:52:01.860633Z",
     "iopub.status.idle": "2023-01-10T14:52:01.920142Z",
     "shell.execute_reply": "2023-01-10T14:52:01.919465Z"
    }
   },
   "outputs": [
    {
     "data": {
      "image/png": "[encoded data removed]",
      "text/latex": [
       "$\\displaystyle 4.78194428826144$"
      ],
      "text/plain": [
       "4.7819442882614425"
      ]
     },
     "execution_count": 8,
     "metadata": {},
     "output_type": "execute_result"
    }
   ],
   "source": [
    "(cdf_1['y'] - cdf_0['y']).mean()"
   ]
  },
  {
   "cell_type": "code",
   "execution_count": 9,
   "metadata": {
    "execution": {
     "iopub.execute_input": "2023-01-10T14:52:01.923642Z",
     "iopub.status.busy": "2023-01-10T14:52:01.923150Z",
     "iopub.status.idle": "2023-01-10T14:52:01.945760Z",
     "shell.execute_reply": "2023-01-10T14:52:01.945159Z"
    }
   },
   "outputs": [
    {
     "data": {
      "image/png": "[encoded data removed]",
      "text/latex": [
       "$\\displaystyle 0.157326802785628$"
      ],
      "text/plain": [
       "0.1573268027856278"
      ]
     },
     "execution_count": 9,
     "metadata": {},
     "output_type": "execute_result"
    }
   ],
   "source": [
    "1.96*(cdf_1['y'] - cdf_0['y']).std() / np.sqrt(len(df))"
   ]
  },
  {
   "cell_type": "markdown",
   "metadata": {},
   "source": [
    "Comparing to the estimate from OLS."
   ]
  },
  {
   "cell_type": "code",
   "execution_count": 10,
   "metadata": {
    "execution": {
     "iopub.execute_input": "2023-01-10T14:52:01.949264Z",
     "iopub.status.busy": "2023-01-10T14:52:01.948828Z",
     "iopub.status.idle": "2023-01-10T14:52:01.967759Z",
     "shell.execute_reply": "2023-01-10T14:52:01.967160Z"
    }
   },
   "outputs": [
    {
     "data": {
      "text/html": [
       "<table class=\"simpletable\">\n",
       "<caption>OLS Regression Results</caption>\n",
       "<tr>\n",
       "  <th>Dep. Variable:</th>            <td>y</td>        <th>  R-squared (uncentered):</th>      <td>   0.959</td> \n",
       "</tr>\n",
       "<tr>\n",
       "  <th>Model:</th>                   <td>OLS</td>       <th>  Adj. R-squared (uncentered):</th> <td>   0.959</td> \n",
       "</tr>\n",
       "<tr>\n",
       "  <th>Method:</th>             <td>Least Squares</td>  <th>  F-statistic:       </th>          <td>1.163e+04</td>\n",
       "</tr>\n",
       "<tr>\n",
       "  <th>Date:</th>             <td>Tue, 10 Jan 2023</td> <th>  Prob (F-statistic):</th>           <td>  0.00</td>  \n",
       "</tr>\n",
       "<tr>\n",
       "  <th>Time:</th>                 <td>14:52:01</td>     <th>  Log-Likelihood:    </th>          <td> -1372.5</td> \n",
       "</tr>\n",
       "<tr>\n",
       "  <th>No. Observations:</th>      <td>  1000</td>      <th>  AIC:               </th>          <td>   2749.</td> \n",
       "</tr>\n",
       "<tr>\n",
       "  <th>Df Residuals:</th>          <td>   998</td>      <th>  BIC:               </th>          <td>   2759.</td> \n",
       "</tr>\n",
       "<tr>\n",
       "  <th>Df Model:</th>              <td>     2</td>      <th>                     </th>              <td> </td>    \n",
       "</tr>\n",
       "<tr>\n",
       "  <th>Covariance Type:</th>      <td>nonrobust</td>    <th>                     </th>              <td> </td>    \n",
       "</tr>\n",
       "</table>\n",
       "<table class=\"simpletable\">\n",
       "<tr>\n",
       "   <td></td>     <th>coef</th>     <th>std err</th>      <th>t</th>      <th>P>|t|</th>  <th>[0.025</th>    <th>0.975]</th>  \n",
       "</tr>\n",
       "<tr>\n",
       "  <th>x1</th> <td>    1.3819</td> <td>    0.035</td> <td>   39.901</td> <td> 0.000</td> <td>    1.314</td> <td>    1.450</td>\n",
       "</tr>\n",
       "<tr>\n",
       "  <th>x2</th> <td>    4.9676</td> <td>    0.047</td> <td>  105.435</td> <td> 0.000</td> <td>    4.875</td> <td>    5.060</td>\n",
       "</tr>\n",
       "</table>\n",
       "<table class=\"simpletable\">\n",
       "<tr>\n",
       "  <th>Omnibus:</th>       <td> 0.745</td> <th>  Durbin-Watson:     </th> <td>   2.068</td>\n",
       "</tr>\n",
       "<tr>\n",
       "  <th>Prob(Omnibus):</th> <td> 0.689</td> <th>  Jarque-Bera (JB):  </th> <td>   0.811</td>\n",
       "</tr>\n",
       "<tr>\n",
       "  <th>Skew:</th>          <td> 0.061</td> <th>  Prob(JB):          </th> <td>   0.666</td>\n",
       "</tr>\n",
       "<tr>\n",
       "  <th>Kurtosis:</th>      <td> 2.931</td> <th>  Cond. No.          </th> <td>    1.93</td>\n",
       "</tr>\n",
       "</table><br/><br/>Notes:<br/>[1] R² is computed without centering (uncentered) since the model does not contain a constant.<br/>[2] Standard Errors assume that the covariance matrix of the errors is correctly specified."
      ],
      "text/plain": [
       "<class 'statsmodels.iolib.summary.Summary'>\n",
       "\"\"\"\n",
       "                                 OLS Regression Results                                \n",
       "=======================================================================================\n",
       "Dep. Variable:                      y   R-squared (uncentered):                   0.959\n",
       "Model:                            OLS   Adj. R-squared (uncentered):              0.959\n",
       "Method:                 Least Squares   F-statistic:                          1.163e+04\n",
       "Date:                Tue, 10 Jan 2023   Prob (F-statistic):                        0.00\n",
       "Time:                        14:52:01   Log-Likelihood:                         -1372.5\n",
       "No. Observations:                1000   AIC:                                      2749.\n",
       "Df Residuals:                     998   BIC:                                      2759.\n",
       "Df Model:                           2                                                  \n",
       "Covariance Type:            nonrobust                                                  \n",
       "==============================================================================\n",
       "                 coef    std err          t      P>|t|      [0.025      0.975]\n",
       "------------------------------------------------------------------------------\n",
       "x1             1.3819      0.035     39.901      0.000       1.314       1.450\n",
       "x2             4.9676      0.047    105.435      0.000       4.875       5.060\n",
       "==============================================================================\n",
       "Omnibus:                        0.745   Durbin-Watson:                   2.068\n",
       "Prob(Omnibus):                  0.689   Jarque-Bera (JB):                0.811\n",
       "Skew:                           0.061   Prob(JB):                        0.666\n",
       "Kurtosis:                       2.931   Cond. No.                         1.93\n",
       "==============================================================================\n",
       "\n",
       "Notes:\n",
       "[1] R² is computed without centering (uncentered) since the model does not contain a constant.\n",
       "[2] Standard Errors assume that the covariance matrix of the errors is correctly specified.\n",
       "\"\"\""
      ]
     },
     "execution_count": 10,
     "metadata": {},
     "output_type": "execute_result"
    }
   ],
   "source": [
    "model = OLS(np.asarray(df[outcome]), np.asarray(df[[common_cause, treatment]], dtype=np.float64))\n",
    "result = model.fit()\n",
    "result.summary()"
   ]
  }
 ],
 "metadata": {
  "kernelspec": {
   "display_name": "Python 3",
   "language": "python",
   "name": "python3"
  },
  "language_info": {
   "codemirror_mode": {
    "name": "ipython",
    "version": 3
   },
   "file_extension": ".py",
   "mimetype": "text/x-python",
   "name": "python",
   "nbconvert_exporter": "python",
   "pygments_lexer": "ipython3",
   "version": "3.8.10"
  },
  "toc": {
   "base_numbering": 1,
   "nav_menu": {},
   "number_sections": false,
   "sideBar": true,
   "skip_h1_title": true,
   "title_cell": "Table of Contents",
   "title_sidebar": "Contents",
   "toc_cell": false,
   "toc_position": {},
   "toc_section_display": true,
   "toc_window_display": false
  }
 },
 "nbformat": 4,
 "nbformat_minor": 4
}
