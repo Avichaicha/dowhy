{
 "cells": [
  {
   "cell_type": "markdown",
   "metadata": {},
   "source": [
    "# Demo for the DoWhy causal API\n",
    "We show a simple example of adding a causal extension to any dataframe. "
   ]
  },
  {
   "cell_type": "code",
   "execution_count": 1,
   "metadata": {
    "execution": {
     "iopub.execute_input": "2022-11-11T08:02:01.806507Z",
     "iopub.status.busy": "2022-11-11T08:02:01.806215Z",
     "iopub.status.idle": "2022-11-11T08:02:04.249129Z",
     "shell.execute_reply": "2022-11-11T08:02:04.247866Z"
    }
   },
   "outputs": [],
   "source": [
    "import dowhy.datasets\n",
    "import dowhy.api\n",
    "\n",
    "import numpy as np\n",
    "import pandas as pd\n",
    "\n",
    "from statsmodels.api import OLS"
   ]
  },
  {
   "cell_type": "code",
   "execution_count": 2,
   "metadata": {
    "execution": {
     "iopub.execute_input": "2022-11-11T08:02:04.254873Z",
     "iopub.status.busy": "2022-11-11T08:02:04.253925Z",
     "iopub.status.idle": "2022-11-11T08:02:04.326602Z",
     "shell.execute_reply": "2022-11-11T08:02:04.325340Z"
    }
   },
   "outputs": [
    {
     "data": {
      "text/html": [
       "<div>\n",
       "<style scoped>\n",
       "    .dataframe tbody tr th:only-of-type {\n",
       "        vertical-align: middle;\n",
       "    }\n",
       "\n",
       "    .dataframe tbody tr th {\n",
       "        vertical-align: top;\n",
       "    }\n",
       "\n",
       "    .dataframe thead th {\n",
       "        text-align: right;\n",
       "    }\n",
       "</style>\n",
       "<table border=\"1\" class=\"dataframe\">\n",
       "  <thead>\n",
       "    <tr style=\"text-align: right;\">\n",
       "      <th></th>\n",
       "      <th>W0</th>\n",
       "      <th>v0</th>\n",
       "      <th>y</th>\n",
       "    </tr>\n",
       "  </thead>\n",
       "  <tbody>\n",
       "    <tr>\n",
       "      <th>0</th>\n",
       "      <td>0.744057</td>\n",
       "      <td>True</td>\n",
       "      <td>5.559694</td>\n",
       "    </tr>\n",
       "    <tr>\n",
       "      <th>1</th>\n",
       "      <td>-0.198492</td>\n",
       "      <td>True</td>\n",
       "      <td>3.202457</td>\n",
       "    </tr>\n",
       "    <tr>\n",
       "      <th>2</th>\n",
       "      <td>-0.038446</td>\n",
       "      <td>True</td>\n",
       "      <td>4.695087</td>\n",
       "    </tr>\n",
       "    <tr>\n",
       "      <th>3</th>\n",
       "      <td>0.336731</td>\n",
       "      <td>True</td>\n",
       "      <td>6.167892</td>\n",
       "    </tr>\n",
       "    <tr>\n",
       "      <th>4</th>\n",
       "      <td>-1.002073</td>\n",
       "      <td>False</td>\n",
       "      <td>-1.232013</td>\n",
       "    </tr>\n",
       "    <tr>\n",
       "      <th>...</th>\n",
       "      <td>...</td>\n",
       "      <td>...</td>\n",
       "      <td>...</td>\n",
       "    </tr>\n",
       "    <tr>\n",
       "      <th>995</th>\n",
       "      <td>-0.003614</td>\n",
       "      <td>True</td>\n",
       "      <td>5.402220</td>\n",
       "    </tr>\n",
       "    <tr>\n",
       "      <th>996</th>\n",
       "      <td>0.377980</td>\n",
       "      <td>False</td>\n",
       "      <td>0.698121</td>\n",
       "    </tr>\n",
       "    <tr>\n",
       "      <th>997</th>\n",
       "      <td>0.709293</td>\n",
       "      <td>True</td>\n",
       "      <td>4.429458</td>\n",
       "    </tr>\n",
       "    <tr>\n",
       "      <th>998</th>\n",
       "      <td>0.154723</td>\n",
       "      <td>False</td>\n",
       "      <td>1.398045</td>\n",
       "    </tr>\n",
       "    <tr>\n",
       "      <th>999</th>\n",
       "      <td>-0.793681</td>\n",
       "      <td>False</td>\n",
       "      <td>-0.610559</td>\n",
       "    </tr>\n",
       "  </tbody>\n",
       "</table>\n",
       "<p>1000 rows × 3 columns</p>\n",
       "</div>"
      ],
      "text/plain": [
       "           W0     v0         y\n",
       "0    0.744057   True  5.559694\n",
       "1   -0.198492   True  3.202457\n",
       "2   -0.038446   True  4.695087\n",
       "3    0.336731   True  6.167892\n",
       "4   -1.002073  False -1.232013\n",
       "..        ...    ...       ...\n",
       "995 -0.003614   True  5.402220\n",
       "996  0.377980  False  0.698121\n",
       "997  0.709293   True  4.429458\n",
       "998  0.154723  False  1.398045\n",
       "999 -0.793681  False -0.610559\n",
       "\n",
       "[1000 rows x 3 columns]"
      ]
     },
     "execution_count": 2,
     "metadata": {},
     "output_type": "execute_result"
    }
   ],
   "source": [
    "data = dowhy.datasets.linear_dataset(beta=5,\n",
    "        num_common_causes=1,\n",
    "        num_instruments = 0,\n",
    "        num_samples=1000,\n",
    "        treatment_is_binary=True)\n",
    "df = data['df']\n",
    "df['y'] = df['y'] + np.random.normal(size=len(df)) # Adding noise to data. Without noise, the variance in Y|X, Z is zero, and mcmc fails.\n",
    "#data['dot_graph'] = 'digraph { v ->y;X0-> v;X0-> y;}'\n",
    "\n",
    "treatment= data[\"treatment_name\"][0]\n",
    "outcome = data[\"outcome_name\"][0]\n",
    "common_cause = data[\"common_causes_names\"][0]\n",
    "df"
   ]
  },
  {
   "cell_type": "code",
   "execution_count": 3,
   "metadata": {
    "execution": {
     "iopub.execute_input": "2022-11-11T08:02:04.330886Z",
     "iopub.status.busy": "2022-11-11T08:02:04.330608Z",
     "iopub.status.idle": "2022-11-11T08:02:04.557689Z",
     "shell.execute_reply": "2022-11-11T08:02:04.556770Z"
    }
   },
   "outputs": [
    {
     "data": {
      "text/plain": [
       "<AxesSubplot: xlabel='v0'>"
      ]
     },
     "execution_count": 3,
     "metadata": {},
     "output_type": "execute_result"
    },
    {
     "data": {
      "image/png": "[encoded data removed]",
      "text/plain": [
       "<Figure size 640x480 with 1 Axes>"
      ]
     },
     "metadata": {},
     "output_type": "display_data"
    }
   ],
   "source": [
    "# data['df'] is just a regular pandas.DataFrame\n",
    "df.causal.do(x=treatment,\n",
    "                     variable_types={treatment: 'b', outcome: 'c', common_cause: 'c'},\n",
    "                     outcome=outcome,\n",
    "                     common_causes=[common_cause],\n",
    "                     proceed_when_unidentifiable=True).groupby(treatment).mean().plot(y=outcome, kind='bar')"
   ]
  },
  {
   "cell_type": "code",
   "execution_count": 4,
   "metadata": {
    "execution": {
     "iopub.execute_input": "2022-11-11T08:02:04.562223Z",
     "iopub.status.busy": "2022-11-11T08:02:04.561857Z",
     "iopub.status.idle": "2022-11-11T08:02:04.728090Z",
     "shell.execute_reply": "2022-11-11T08:02:04.727155Z"
    }
   },
   "outputs": [
    {
     "data": {
      "text/plain": [
       "<AxesSubplot: xlabel='v0'>"
      ]
     },
     "execution_count": 4,
     "metadata": {},
     "output_type": "execute_result"
    },
    {
     "data": {
      "image/png": "[encoded data removed]",
      "text/plain": [
       "<Figure size 640x480 with 1 Axes>"
      ]
     },
     "metadata": {},
     "output_type": "display_data"
    }
   ],
   "source": [
    "df.causal.do(x={treatment: 1}, \n",
    "              variable_types={treatment:'b', outcome: 'c', common_cause: 'c'}, \n",
    "              outcome=outcome,\n",
    "              method='weighting', \n",
    "              common_causes=[common_cause],\n",
    "              proceed_when_unidentifiable=True).groupby(treatment).mean().plot(y=outcome, kind='bar')"
   ]
  },
  {
   "cell_type": "code",
   "execution_count": 5,
   "metadata": {
    "execution": {
     "iopub.execute_input": "2022-11-11T08:02:04.731886Z",
     "iopub.status.busy": "2022-11-11T08:02:04.731321Z",
     "iopub.status.idle": "2022-11-11T08:02:04.776389Z",
     "shell.execute_reply": "2022-11-11T08:02:04.775330Z"
    }
   },
   "outputs": [],
   "source": [
    "cdf_1 = df.causal.do(x={treatment: 1}, \n",
    "              variable_types={treatment: 'b', outcome: 'c', common_cause: 'c'}, \n",
    "              outcome=outcome, \n",
    "              dot_graph=data['dot_graph'],\n",
    "              proceed_when_unidentifiable=True)\n",
    "\n",
    "cdf_0 = df.causal.do(x={treatment: 0}, \n",
    "              variable_types={treatment: 'b', outcome: 'c', common_cause: 'c'}, \n",
    "              outcome=outcome, \n",
    "              dot_graph=data['dot_graph'],\n",
    "              proceed_when_unidentifiable=True)\n"
   ]
  },
  {
   "cell_type": "code",
   "execution_count": 6,
   "metadata": {
    "execution": {
     "iopub.execute_input": "2022-11-11T08:02:04.780232Z",
     "iopub.status.busy": "2022-11-11T08:02:04.779978Z",
     "iopub.status.idle": "2022-11-11T08:02:04.795434Z",
     "shell.execute_reply": "2022-11-11T08:02:04.794516Z"
    },
    "scrolled": true
   },
   "outputs": [
    {
     "data": {
      "text/html": [
       "<div>\n",
       "<style scoped>\n",
       "    .dataframe tbody tr th:only-of-type {\n",
       "        vertical-align: middle;\n",
       "    }\n",
       "\n",
       "    .dataframe tbody tr th {\n",
       "        vertical-align: top;\n",
       "    }\n",
       "\n",
       "    .dataframe thead th {\n",
       "        text-align: right;\n",
       "    }\n",
       "</style>\n",
       "<table border=\"1\" class=\"dataframe\">\n",
       "  <thead>\n",
       "    <tr style=\"text-align: right;\">\n",
       "      <th></th>\n",
       "      <th>W0</th>\n",
       "      <th>v0</th>\n",
       "      <th>y</th>\n",
       "      <th>propensity_score</th>\n",
       "      <th>weight</th>\n",
       "    </tr>\n",
       "  </thead>\n",
       "  <tbody>\n",
       "    <tr>\n",
       "      <th>0</th>\n",
       "      <td>-1.210913</td>\n",
       "      <td>False</td>\n",
       "      <td>0.478034</td>\n",
       "      <td>0.794206</td>\n",
       "      <td>1.259120</td>\n",
       "    </tr>\n",
       "    <tr>\n",
       "      <th>1</th>\n",
       "      <td>-0.413131</td>\n",
       "      <td>False</td>\n",
       "      <td>-0.609083</td>\n",
       "      <td>0.590549</td>\n",
       "      <td>1.693341</td>\n",
       "    </tr>\n",
       "    <tr>\n",
       "      <th>2</th>\n",
       "      <td>-0.681177</td>\n",
       "      <td>False</td>\n",
       "      <td>-0.348365</td>\n",
       "      <td>0.667506</td>\n",
       "      <td>1.498115</td>\n",
       "    </tr>\n",
       "    <tr>\n",
       "      <th>3</th>\n",
       "      <td>-0.608580</td>\n",
       "      <td>False</td>\n",
       "      <td>-3.121269</td>\n",
       "      <td>0.647339</td>\n",
       "      <td>1.544786</td>\n",
       "    </tr>\n",
       "    <tr>\n",
       "      <th>4</th>\n",
       "      <td>0.002878</td>\n",
       "      <td>False</td>\n",
       "      <td>0.020567</td>\n",
       "      <td>0.463316</td>\n",
       "      <td>2.158355</td>\n",
       "    </tr>\n",
       "    <tr>\n",
       "      <th>...</th>\n",
       "      <td>...</td>\n",
       "      <td>...</td>\n",
       "      <td>...</td>\n",
       "      <td>...</td>\n",
       "      <td>...</td>\n",
       "    </tr>\n",
       "    <tr>\n",
       "      <th>995</th>\n",
       "      <td>0.440501</td>\n",
       "      <td>False</td>\n",
       "      <td>-0.244749</td>\n",
       "      <td>0.334723</td>\n",
       "      <td>2.987546</td>\n",
       "    </tr>\n",
       "    <tr>\n",
       "      <th>996</th>\n",
       "      <td>0.024040</td>\n",
       "      <td>False</td>\n",
       "      <td>2.203712</td>\n",
       "      <td>0.456831</td>\n",
       "      <td>2.188995</td>\n",
       "    </tr>\n",
       "    <tr>\n",
       "      <th>997</th>\n",
       "      <td>0.295594</td>\n",
       "      <td>False</td>\n",
       "      <td>-0.272972</td>\n",
       "      <td>0.375633</td>\n",
       "      <td>2.662176</td>\n",
       "    </tr>\n",
       "    <tr>\n",
       "      <th>998</th>\n",
       "      <td>0.619412</td>\n",
       "      <td>False</td>\n",
       "      <td>-0.768564</td>\n",
       "      <td>0.287486</td>\n",
       "      <td>3.478431</td>\n",
       "    </tr>\n",
       "    <tr>\n",
       "      <th>999</th>\n",
       "      <td>-1.429952</td>\n",
       "      <td>False</td>\n",
       "      <td>0.273576</td>\n",
       "      <td>0.834891</td>\n",
       "      <td>1.197761</td>\n",
       "    </tr>\n",
       "  </tbody>\n",
       "</table>\n",
       "<p>1000 rows × 5 columns</p>\n",
       "</div>"
      ],
      "text/plain": [
       "           W0     v0         y  propensity_score    weight\n",
       "0   -1.210913  False  0.478034          0.794206  1.259120\n",
       "1   -0.413131  False -0.609083          0.590549  1.693341\n",
       "2   -0.681177  False -0.348365          0.667506  1.498115\n",
       "3   -0.608580  False -3.121269          0.647339  1.544786\n",
       "4    0.002878  False  0.020567          0.463316  2.158355\n",
       "..        ...    ...       ...               ...       ...\n",
       "995  0.440501  False -0.244749          0.334723  2.987546\n",
       "996  0.024040  False  2.203712          0.456831  2.188995\n",
       "997  0.295594  False -0.272972          0.375633  2.662176\n",
       "998  0.619412  False -0.768564          0.287486  3.478431\n",
       "999 -1.429952  False  0.273576          0.834891  1.197761\n",
       "\n",
       "[1000 rows x 5 columns]"
      ]
     },
     "execution_count": 6,
     "metadata": {},
     "output_type": "execute_result"
    }
   ],
   "source": [
    "cdf_0"
   ]
  },
  {
   "cell_type": "code",
   "execution_count": 7,
   "metadata": {
    "execution": {
     "iopub.execute_input": "2022-11-11T08:02:04.799143Z",
     "iopub.status.busy": "2022-11-11T08:02:04.798743Z",
     "iopub.status.idle": "2022-11-11T08:02:04.813699Z",
     "shell.execute_reply": "2022-11-11T08:02:04.812734Z"
    }
   },
   "outputs": [
    {
     "data": {
      "text/html": [
       "<div>\n",
       "<style scoped>\n",
       "    .dataframe tbody tr th:only-of-type {\n",
       "        vertical-align: middle;\n",
       "    }\n",
       "\n",
       "    .dataframe tbody tr th {\n",
       "        vertical-align: top;\n",
       "    }\n",
       "\n",
       "    .dataframe thead th {\n",
       "        text-align: right;\n",
       "    }\n",
       "</style>\n",
       "<table border=\"1\" class=\"dataframe\">\n",
       "  <thead>\n",
       "    <tr style=\"text-align: right;\">\n",
       "      <th></th>\n",
       "      <th>W0</th>\n",
       "      <th>v0</th>\n",
       "      <th>y</th>\n",
       "      <th>propensity_score</th>\n",
       "      <th>weight</th>\n",
       "    </tr>\n",
       "  </thead>\n",
       "  <tbody>\n",
       "    <tr>\n",
       "      <th>0</th>\n",
       "      <td>-0.005606</td>\n",
       "      <td>True</td>\n",
       "      <td>5.232703</td>\n",
       "      <td>0.534081</td>\n",
       "      <td>1.872377</td>\n",
       "    </tr>\n",
       "    <tr>\n",
       "      <th>1</th>\n",
       "      <td>-0.491897</td>\n",
       "      <td>True</td>\n",
       "      <td>4.617018</td>\n",
       "      <td>0.386178</td>\n",
       "      <td>2.589482</td>\n",
       "    </tr>\n",
       "    <tr>\n",
       "      <th>2</th>\n",
       "      <td>0.716247</td>\n",
       "      <td>True</td>\n",
       "      <td>7.484314</td>\n",
       "      <td>0.736352</td>\n",
       "      <td>1.358047</td>\n",
       "    </tr>\n",
       "    <tr>\n",
       "      <th>3</th>\n",
       "      <td>-0.146622</td>\n",
       "      <td>True</td>\n",
       "      <td>5.384826</td>\n",
       "      <td>0.490642</td>\n",
       "      <td>2.038148</td>\n",
       "    </tr>\n",
       "    <tr>\n",
       "      <th>4</th>\n",
       "      <td>-1.491504</td>\n",
       "      <td>True</td>\n",
       "      <td>2.370634</td>\n",
       "      <td>0.154906</td>\n",
       "      <td>6.455547</td>\n",
       "    </tr>\n",
       "    <tr>\n",
       "      <th>...</th>\n",
       "      <td>...</td>\n",
       "      <td>...</td>\n",
       "      <td>...</td>\n",
       "      <td>...</td>\n",
       "      <td>...</td>\n",
       "    </tr>\n",
       "    <tr>\n",
       "      <th>995</th>\n",
       "      <td>0.169870</td>\n",
       "      <td>True</td>\n",
       "      <td>4.474222</td>\n",
       "      <td>0.587350</td>\n",
       "      <td>1.702563</td>\n",
       "    </tr>\n",
       "    <tr>\n",
       "      <th>996</th>\n",
       "      <td>-0.064628</td>\n",
       "      <td>True</td>\n",
       "      <td>4.153035</td>\n",
       "      <td>0.515924</td>\n",
       "      <td>1.938270</td>\n",
       "    </tr>\n",
       "    <tr>\n",
       "      <th>997</th>\n",
       "      <td>0.567429</td>\n",
       "      <td>True</td>\n",
       "      <td>5.934870</td>\n",
       "      <td>0.699200</td>\n",
       "      <td>1.430205</td>\n",
       "    </tr>\n",
       "    <tr>\n",
       "      <th>998</th>\n",
       "      <td>-0.077432</td>\n",
       "      <td>True</td>\n",
       "      <td>5.474245</td>\n",
       "      <td>0.511978</td>\n",
       "      <td>1.953208</td>\n",
       "    </tr>\n",
       "    <tr>\n",
       "      <th>999</th>\n",
       "      <td>-2.474681</td>\n",
       "      <td>True</td>\n",
       "      <td>2.622404</td>\n",
       "      <td>0.051682</td>\n",
       "      <td>19.349258</td>\n",
       "    </tr>\n",
       "  </tbody>\n",
       "</table>\n",
       "<p>1000 rows × 5 columns</p>\n",
       "</div>"
      ],
      "text/plain": [
       "           W0    v0         y  propensity_score     weight\n",
       "0   -0.005606  True  5.232703          0.534081   1.872377\n",
       "1   -0.491897  True  4.617018          0.386178   2.589482\n",
       "2    0.716247  True  7.484314          0.736352   1.358047\n",
       "3   -0.146622  True  5.384826          0.490642   2.038148\n",
       "4   -1.491504  True  2.370634          0.154906   6.455547\n",
       "..        ...   ...       ...               ...        ...\n",
       "995  0.169870  True  4.474222          0.587350   1.702563\n",
       "996 -0.064628  True  4.153035          0.515924   1.938270\n",
       "997  0.567429  True  5.934870          0.699200   1.430205\n",
       "998 -0.077432  True  5.474245          0.511978   1.953208\n",
       "999 -2.474681  True  2.622404          0.051682  19.349258\n",
       "\n",
       "[1000 rows x 5 columns]"
      ]
     },
     "execution_count": 7,
     "metadata": {},
     "output_type": "execute_result"
    }
   ],
   "source": [
    "cdf_1"
   ]
  },
  {
   "cell_type": "markdown",
   "metadata": {},
   "source": [
    "## Comparing the estimate to Linear Regression\n",
    "First, estimating the effect using the causal data frame, and the 95% confidence interval."
   ]
  },
  {
   "cell_type": "code",
   "execution_count": 8,
   "metadata": {
    "execution": {
     "iopub.execute_input": "2022-11-11T08:02:04.817832Z",
     "iopub.status.busy": "2022-11-11T08:02:04.817484Z",
     "iopub.status.idle": "2022-11-11T08:02:04.890112Z",
     "shell.execute_reply": "2022-11-11T08:02:04.889226Z"
    }
   },
   "outputs": [
    {
     "data": {
      "image/png": "[encoded data removed]",
      "text/latex": [
       "$\\displaystyle 4.93082592814321$"
      ],
      "text/plain": [
       "4.930825928143208"
      ]
     },
     "execution_count": 8,
     "metadata": {},
     "output_type": "execute_result"
    }
   ],
   "source": [
    "(cdf_1['y'] - cdf_0['y']).mean()"
   ]
  },
  {
   "cell_type": "code",
   "execution_count": 9,
   "metadata": {
    "execution": {
     "iopub.execute_input": "2022-11-11T08:02:04.898519Z",
     "iopub.status.busy": "2022-11-11T08:02:04.897584Z",
     "iopub.status.idle": "2022-11-11T08:02:04.925116Z",
     "shell.execute_reply": "2022-11-11T08:02:04.924124Z"
    }
   },
   "outputs": [
    {
     "data": {
      "image/png": "[encoded data removed]",
      "text/latex": [
       "$\\displaystyle 0.106288871501462$"
      ],
      "text/plain": [
       "0.10628887150146245"
      ]
     },
     "execution_count": 9,
     "metadata": {},
     "output_type": "execute_result"
    }
   ],
   "source": [
    "1.96*(cdf_1['y'] - cdf_0['y']).std() / np.sqrt(len(df))"
   ]
  },
  {
   "cell_type": "markdown",
   "metadata": {},
   "source": [
    "Comparing to the estimate from OLS."
   ]
  },
  {
   "cell_type": "code",
   "execution_count": 10,
   "metadata": {
    "execution": {
     "iopub.execute_input": "2022-11-11T08:02:04.929182Z",
     "iopub.status.busy": "2022-11-11T08:02:04.928842Z",
     "iopub.status.idle": "2022-11-11T08:02:04.951865Z",
     "shell.execute_reply": "2022-11-11T08:02:04.950969Z"
    }
   },
   "outputs": [
    {
     "data": {
      "text/html": [
       "<table class=\"simpletable\">\n",
       "<caption>OLS Regression Results</caption>\n",
       "<tr>\n",
       "  <th>Dep. Variable:</th>            <td>y</td>        <th>  R-squared (uncentered):</th>      <td>   0.924</td>\n",
       "</tr>\n",
       "<tr>\n",
       "  <th>Model:</th>                   <td>OLS</td>       <th>  Adj. R-squared (uncentered):</th> <td>   0.924</td>\n",
       "</tr>\n",
       "<tr>\n",
       "  <th>Method:</th>             <td>Least Squares</td>  <th>  F-statistic:       </th>          <td>   6110.</td>\n",
       "</tr>\n",
       "<tr>\n",
       "  <th>Date:</th>             <td>Fri, 11 Nov 2022</td> <th>  Prob (F-statistic):</th>           <td>  0.00</td> \n",
       "</tr>\n",
       "<tr>\n",
       "  <th>Time:</th>                 <td>08:02:04</td>     <th>  Log-Likelihood:    </th>          <td> -1409.5</td>\n",
       "</tr>\n",
       "<tr>\n",
       "  <th>No. Observations:</th>      <td>  1000</td>      <th>  AIC:               </th>          <td>   2823.</td>\n",
       "</tr>\n",
       "<tr>\n",
       "  <th>Df Residuals:</th>          <td>   998</td>      <th>  BIC:               </th>          <td>   2833.</td>\n",
       "</tr>\n",
       "<tr>\n",
       "  <th>Df Model:</th>              <td>     2</td>      <th>                     </th>              <td> </td>   \n",
       "</tr>\n",
       "<tr>\n",
       "  <th>Covariance Type:</th>      <td>nonrobust</td>    <th>                     </th>              <td> </td>   \n",
       "</tr>\n",
       "</table>\n",
       "<table class=\"simpletable\">\n",
       "<tr>\n",
       "   <td></td>     <th>coef</th>     <th>std err</th>      <th>t</th>      <th>P>|t|</th>  <th>[0.025</th>    <th>0.975]</th>  \n",
       "</tr>\n",
       "<tr>\n",
       "  <th>x1</th> <td>    0.5847</td> <td>    0.030</td> <td>   19.808</td> <td> 0.000</td> <td>    0.527</td> <td>    0.643</td>\n",
       "</tr>\n",
       "<tr>\n",
       "  <th>x2</th> <td>    4.9646</td> <td>    0.047</td> <td>  105.150</td> <td> 0.000</td> <td>    4.872</td> <td>    5.057</td>\n",
       "</tr>\n",
       "</table>\n",
       "<table class=\"simpletable\">\n",
       "<tr>\n",
       "  <th>Omnibus:</th>       <td> 0.208</td> <th>  Durbin-Watson:     </th> <td>   2.011</td>\n",
       "</tr>\n",
       "<tr>\n",
       "  <th>Prob(Omnibus):</th> <td> 0.901</td> <th>  Jarque-Bera (JB):  </th> <td>   0.291</td>\n",
       "</tr>\n",
       "<tr>\n",
       "  <th>Skew:</th>          <td>-0.009</td> <th>  Prob(JB):          </th> <td>   0.864</td>\n",
       "</tr>\n",
       "<tr>\n",
       "  <th>Kurtosis:</th>      <td> 2.918</td> <th>  Cond. No.          </th> <td>    1.63</td>\n",
       "</tr>\n",
       "</table><br/><br/>Notes:<br/>[1] R² is computed without centering (uncentered) since the model does not contain a constant.<br/>[2] Standard Errors assume that the covariance matrix of the errors is correctly specified."
      ],
      "text/plain": [
       "<class 'statsmodels.iolib.summary.Summary'>\n",
       "\"\"\"\n",
       "                                 OLS Regression Results                                \n",
       "=======================================================================================\n",
       "Dep. Variable:                      y   R-squared (uncentered):                   0.924\n",
       "Model:                            OLS   Adj. R-squared (uncentered):              0.924\n",
       "Method:                 Least Squares   F-statistic:                              6110.\n",
       "Date:                Fri, 11 Nov 2022   Prob (F-statistic):                        0.00\n",
       "Time:                        08:02:04   Log-Likelihood:                         -1409.5\n",
       "No. Observations:                1000   AIC:                                      2823.\n",
       "Df Residuals:                     998   BIC:                                      2833.\n",
       "Df Model:                           2                                                  \n",
       "Covariance Type:            nonrobust                                                  \n",
       "==============================================================================\n",
       "                 coef    std err          t      P>|t|      [0.025      0.975]\n",
       "------------------------------------------------------------------------------\n",
       "x1             0.5847      0.030     19.808      0.000       0.527       0.643\n",
       "x2             4.9646      0.047    105.150      0.000       4.872       5.057\n",
       "==============================================================================\n",
       "Omnibus:                        0.208   Durbin-Watson:                   2.011\n",
       "Prob(Omnibus):                  0.901   Jarque-Bera (JB):                0.291\n",
       "Skew:                          -0.009   Prob(JB):                        0.864\n",
       "Kurtosis:                       2.918   Cond. No.                         1.63\n",
       "==============================================================================\n",
       "\n",
       "Notes:\n",
       "[1] R² is computed without centering (uncentered) since the model does not contain a constant.\n",
       "[2] Standard Errors assume that the covariance matrix of the errors is correctly specified.\n",
       "\"\"\""
      ]
     },
     "execution_count": 10,
     "metadata": {},
     "output_type": "execute_result"
    }
   ],
   "source": [
    "model = OLS(np.asarray(df[outcome]), np.asarray(df[[common_cause, treatment]], dtype=np.float64))\n",
    "result = model.fit()\n",
    "result.summary()"
   ]
  }
 ],
 "metadata": {
  "kernelspec": {
   "display_name": "Python 3",
   "language": "python",
   "name": "python3"
  },
  "language_info": {
   "codemirror_mode": {
    "name": "ipython",
    "version": 3
   },
   "file_extension": ".py",
   "mimetype": "text/x-python",
   "name": "python",
   "nbconvert_exporter": "python",
   "pygments_lexer": "ipython3",
   "version": "3.8.10"
  },
  "toc": {
   "base_numbering": 1,
   "nav_menu": {},
   "number_sections": false,
   "sideBar": true,
   "skip_h1_title": true,
   "title_cell": "Table of Contents",
   "title_sidebar": "Contents",
   "toc_cell": false,
   "toc_position": {},
   "toc_section_display": true,
   "toc_window_display": false
  }
 },
 "nbformat": 4,
 "nbformat_minor": 4
}
