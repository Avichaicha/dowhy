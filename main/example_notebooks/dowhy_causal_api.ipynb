{
 "cells": [
  {
   "cell_type": "markdown",
   "metadata": {},
   "source": [
    "# Demo for the DoWhy causal API\n",
    "We show a simple example of adding a causal extension to any dataframe. "
   ]
  },
  {
   "cell_type": "code",
   "execution_count": 1,
   "metadata": {
    "execution": {
     "iopub.execute_input": "2022-12-16T19:59:14.238375Z",
     "iopub.status.busy": "2022-12-16T19:59:14.238112Z",
     "iopub.status.idle": "2022-12-16T19:59:16.393485Z",
     "shell.execute_reply": "2022-12-16T19:59:16.392696Z"
    }
   },
   "outputs": [],
   "source": [
    "import dowhy.datasets\n",
    "import dowhy.api\n",
    "\n",
    "import numpy as np\n",
    "import pandas as pd\n",
    "\n",
    "from statsmodels.api import OLS"
   ]
  },
  {
   "cell_type": "code",
   "execution_count": 2,
   "metadata": {
    "execution": {
     "iopub.execute_input": "2022-12-16T19:59:16.397462Z",
     "iopub.status.busy": "2022-12-16T19:59:16.397005Z",
     "iopub.status.idle": "2022-12-16T19:59:16.442015Z",
     "shell.execute_reply": "2022-12-16T19:59:16.441315Z"
    }
   },
   "outputs": [
    {
     "data": {
      "text/html": [
       "<div>\n",
       "<style scoped>\n",
       "    .dataframe tbody tr th:only-of-type {\n",
       "        vertical-align: middle;\n",
       "    }\n",
       "\n",
       "    .dataframe tbody tr th {\n",
       "        vertical-align: top;\n",
       "    }\n",
       "\n",
       "    .dataframe thead th {\n",
       "        text-align: right;\n",
       "    }\n",
       "</style>\n",
       "<table border=\"1\" class=\"dataframe\">\n",
       "  <thead>\n",
       "    <tr style=\"text-align: right;\">\n",
       "      <th></th>\n",
       "      <th>W0</th>\n",
       "      <th>v0</th>\n",
       "      <th>y</th>\n",
       "    </tr>\n",
       "  </thead>\n",
       "  <tbody>\n",
       "    <tr>\n",
       "      <th>0</th>\n",
       "      <td>-0.416892</td>\n",
       "      <td>False</td>\n",
       "      <td>-0.303953</td>\n",
       "    </tr>\n",
       "    <tr>\n",
       "      <th>1</th>\n",
       "      <td>0.589605</td>\n",
       "      <td>False</td>\n",
       "      <td>1.360962</td>\n",
       "    </tr>\n",
       "    <tr>\n",
       "      <th>2</th>\n",
       "      <td>-1.872921</td>\n",
       "      <td>True</td>\n",
       "      <td>0.010582</td>\n",
       "    </tr>\n",
       "    <tr>\n",
       "      <th>3</th>\n",
       "      <td>-0.687083</td>\n",
       "      <td>False</td>\n",
       "      <td>-1.498156</td>\n",
       "    </tr>\n",
       "    <tr>\n",
       "      <th>4</th>\n",
       "      <td>-1.003303</td>\n",
       "      <td>True</td>\n",
       "      <td>2.519704</td>\n",
       "    </tr>\n",
       "    <tr>\n",
       "      <th>...</th>\n",
       "      <td>...</td>\n",
       "      <td>...</td>\n",
       "      <td>...</td>\n",
       "    </tr>\n",
       "    <tr>\n",
       "      <th>995</th>\n",
       "      <td>-1.273668</td>\n",
       "      <td>True</td>\n",
       "      <td>3.952605</td>\n",
       "    </tr>\n",
       "    <tr>\n",
       "      <th>996</th>\n",
       "      <td>-2.046190</td>\n",
       "      <td>False</td>\n",
       "      <td>-4.578049</td>\n",
       "    </tr>\n",
       "    <tr>\n",
       "      <th>997</th>\n",
       "      <td>-0.124180</td>\n",
       "      <td>False</td>\n",
       "      <td>-0.721190</td>\n",
       "    </tr>\n",
       "    <tr>\n",
       "      <th>998</th>\n",
       "      <td>-0.054772</td>\n",
       "      <td>True</td>\n",
       "      <td>5.650987</td>\n",
       "    </tr>\n",
       "    <tr>\n",
       "      <th>999</th>\n",
       "      <td>-0.385410</td>\n",
       "      <td>False</td>\n",
       "      <td>-0.998428</td>\n",
       "    </tr>\n",
       "  </tbody>\n",
       "</table>\n",
       "<p>1000 rows × 3 columns</p>\n",
       "</div>"
      ],
      "text/plain": [
       "           W0     v0         y\n",
       "0   -0.416892  False -0.303953\n",
       "1    0.589605  False  1.360962\n",
       "2   -1.872921   True  0.010582\n",
       "3   -0.687083  False -1.498156\n",
       "4   -1.003303   True  2.519704\n",
       "..        ...    ...       ...\n",
       "995 -1.273668   True  3.952605\n",
       "996 -2.046190  False -4.578049\n",
       "997 -0.124180  False -0.721190\n",
       "998 -0.054772   True  5.650987\n",
       "999 -0.385410  False -0.998428\n",
       "\n",
       "[1000 rows x 3 columns]"
      ]
     },
     "execution_count": 2,
     "metadata": {},
     "output_type": "execute_result"
    }
   ],
   "source": [
    "data = dowhy.datasets.linear_dataset(beta=5,\n",
    "        num_common_causes=1,\n",
    "        num_instruments = 0,\n",
    "        num_samples=1000,\n",
    "        treatment_is_binary=True)\n",
    "df = data['df']\n",
    "df['y'] = df['y'] + np.random.normal(size=len(df)) # Adding noise to data. Without noise, the variance in Y|X, Z is zero, and mcmc fails.\n",
    "#data['dot_graph'] = 'digraph { v ->y;X0-> v;X0-> y;}'\n",
    "\n",
    "treatment= data[\"treatment_name\"][0]\n",
    "outcome = data[\"outcome_name\"][0]\n",
    "common_cause = data[\"common_causes_names\"][0]\n",
    "df"
   ]
  },
  {
   "cell_type": "code",
   "execution_count": 3,
   "metadata": {
    "execution": {
     "iopub.execute_input": "2022-12-16T19:59:16.445305Z",
     "iopub.status.busy": "2022-12-16T19:59:16.444872Z",
     "iopub.status.idle": "2022-12-16T19:59:16.638676Z",
     "shell.execute_reply": "2022-12-16T19:59:16.638054Z"
    }
   },
   "outputs": [
    {
     "data": {
      "text/plain": [
       "<AxesSubplot: xlabel='v0'>"
      ]
     },
     "execution_count": 3,
     "metadata": {},
     "output_type": "execute_result"
    },
    {
     "data": {
      "image/png": "[encoded data removed]",
      "text/plain": [
       "<Figure size 640x480 with 1 Axes>"
      ]
     },
     "metadata": {},
     "output_type": "display_data"
    }
   ],
   "source": [
    "# data['df'] is just a regular pandas.DataFrame\n",
    "df.causal.do(x=treatment,\n",
    "                     variable_types={treatment: 'b', outcome: 'c', common_cause: 'c'},\n",
    "                     outcome=outcome,\n",
    "                     common_causes=[common_cause],\n",
    "                     proceed_when_unidentifiable=True).groupby(treatment).mean().plot(y=outcome, kind='bar')"
   ]
  },
  {
   "cell_type": "code",
   "execution_count": 4,
   "metadata": {
    "execution": {
     "iopub.execute_input": "2022-12-16T19:59:16.641723Z",
     "iopub.status.busy": "2022-12-16T19:59:16.641212Z",
     "iopub.status.idle": "2022-12-16T19:59:16.773896Z",
     "shell.execute_reply": "2022-12-16T19:59:16.773275Z"
    }
   },
   "outputs": [
    {
     "data": {
      "text/plain": [
       "<AxesSubplot: xlabel='v0'>"
      ]
     },
     "execution_count": 4,
     "metadata": {},
     "output_type": "execute_result"
    },
    {
     "data": {
      "image/png": "[encoded data removed]",
      "text/plain": [
       "<Figure size 640x480 with 1 Axes>"
      ]
     },
     "metadata": {},
     "output_type": "display_data"
    }
   ],
   "source": [
    "df.causal.do(x={treatment: 1}, \n",
    "              variable_types={treatment:'b', outcome: 'c', common_cause: 'c'}, \n",
    "              outcome=outcome,\n",
    "              method='weighting', \n",
    "              common_causes=[common_cause],\n",
    "              proceed_when_unidentifiable=True).groupby(treatment).mean().plot(y=outcome, kind='bar')"
   ]
  },
  {
   "cell_type": "code",
   "execution_count": 5,
   "metadata": {
    "execution": {
     "iopub.execute_input": "2022-12-16T19:59:16.777133Z",
     "iopub.status.busy": "2022-12-16T19:59:16.776876Z",
     "iopub.status.idle": "2022-12-16T19:59:16.844587Z",
     "shell.execute_reply": "2022-12-16T19:59:16.843884Z"
    }
   },
   "outputs": [],
   "source": [
    "cdf_1 = df.causal.do(x={treatment: 1}, \n",
    "              variable_types={treatment: 'b', outcome: 'c', common_cause: 'c'}, \n",
    "              outcome=outcome, \n",
    "              dot_graph=data['dot_graph'],\n",
    "              proceed_when_unidentifiable=True)\n",
    "\n",
    "cdf_0 = df.causal.do(x={treatment: 0}, \n",
    "              variable_types={treatment: 'b', outcome: 'c', common_cause: 'c'}, \n",
    "              outcome=outcome, \n",
    "              dot_graph=data['dot_graph'],\n",
    "              proceed_when_unidentifiable=True)\n"
   ]
  },
  {
   "cell_type": "code",
   "execution_count": 6,
   "metadata": {
    "execution": {
     "iopub.execute_input": "2022-12-16T19:59:16.848627Z",
     "iopub.status.busy": "2022-12-16T19:59:16.847992Z",
     "iopub.status.idle": "2022-12-16T19:59:16.859693Z",
     "shell.execute_reply": "2022-12-16T19:59:16.859104Z"
    },
    "scrolled": true
   },
   "outputs": [
    {
     "data": {
      "text/html": [
       "<div>\n",
       "<style scoped>\n",
       "    .dataframe tbody tr th:only-of-type {\n",
       "        vertical-align: middle;\n",
       "    }\n",
       "\n",
       "    .dataframe tbody tr th {\n",
       "        vertical-align: top;\n",
       "    }\n",
       "\n",
       "    .dataframe thead th {\n",
       "        text-align: right;\n",
       "    }\n",
       "</style>\n",
       "<table border=\"1\" class=\"dataframe\">\n",
       "  <thead>\n",
       "    <tr style=\"text-align: right;\">\n",
       "      <th></th>\n",
       "      <th>W0</th>\n",
       "      <th>v0</th>\n",
       "      <th>y</th>\n",
       "      <th>propensity_score</th>\n",
       "      <th>weight</th>\n",
       "    </tr>\n",
       "  </thead>\n",
       "  <tbody>\n",
       "    <tr>\n",
       "      <th>0</th>\n",
       "      <td>-1.175812</td>\n",
       "      <td>False</td>\n",
       "      <td>-2.711317</td>\n",
       "      <td>0.609556</td>\n",
       "      <td>1.640538</td>\n",
       "    </tr>\n",
       "    <tr>\n",
       "      <th>1</th>\n",
       "      <td>-0.020282</td>\n",
       "      <td>False</td>\n",
       "      <td>0.362929</td>\n",
       "      <td>0.529505</td>\n",
       "      <td>1.888556</td>\n",
       "    </tr>\n",
       "    <tr>\n",
       "      <th>2</th>\n",
       "      <td>-0.184502</td>\n",
       "      <td>False</td>\n",
       "      <td>-2.535766</td>\n",
       "      <td>0.541075</td>\n",
       "      <td>1.848173</td>\n",
       "    </tr>\n",
       "    <tr>\n",
       "      <th>3</th>\n",
       "      <td>-1.350229</td>\n",
       "      <td>False</td>\n",
       "      <td>-0.777661</td>\n",
       "      <td>0.621248</td>\n",
       "      <td>1.609664</td>\n",
       "    </tr>\n",
       "    <tr>\n",
       "      <th>4</th>\n",
       "      <td>0.197769</td>\n",
       "      <td>False</td>\n",
       "      <td>-1.165499</td>\n",
       "      <td>0.514096</td>\n",
       "      <td>1.945163</td>\n",
       "    </tr>\n",
       "    <tr>\n",
       "      <th>...</th>\n",
       "      <td>...</td>\n",
       "      <td>...</td>\n",
       "      <td>...</td>\n",
       "      <td>...</td>\n",
       "      <td>...</td>\n",
       "    </tr>\n",
       "    <tr>\n",
       "      <th>995</th>\n",
       "      <td>-2.654519</td>\n",
       "      <td>False</td>\n",
       "      <td>-7.445148</td>\n",
       "      <td>0.703552</td>\n",
       "      <td>1.421359</td>\n",
       "    </tr>\n",
       "    <tr>\n",
       "      <th>996</th>\n",
       "      <td>0.950720</td>\n",
       "      <td>False</td>\n",
       "      <td>1.706549</td>\n",
       "      <td>0.460864</td>\n",
       "      <td>2.169839</td>\n",
       "    </tr>\n",
       "    <tr>\n",
       "      <th>997</th>\n",
       "      <td>-0.813902</td>\n",
       "      <td>False</td>\n",
       "      <td>-1.716534</td>\n",
       "      <td>0.584905</td>\n",
       "      <td>1.709681</td>\n",
       "    </tr>\n",
       "    <tr>\n",
       "      <th>998</th>\n",
       "      <td>-0.295869</td>\n",
       "      <td>False</td>\n",
       "      <td>-0.652319</td>\n",
       "      <td>0.548897</td>\n",
       "      <td>1.821836</td>\n",
       "    </tr>\n",
       "    <tr>\n",
       "      <th>999</th>\n",
       "      <td>-1.203700</td>\n",
       "      <td>False</td>\n",
       "      <td>-2.435220</td>\n",
       "      <td>0.611434</td>\n",
       "      <td>1.635499</td>\n",
       "    </tr>\n",
       "  </tbody>\n",
       "</table>\n",
       "<p>1000 rows × 5 columns</p>\n",
       "</div>"
      ],
      "text/plain": [
       "           W0     v0         y  propensity_score    weight\n",
       "0   -1.175812  False -2.711317          0.609556  1.640538\n",
       "1   -0.020282  False  0.362929          0.529505  1.888556\n",
       "2   -0.184502  False -2.535766          0.541075  1.848173\n",
       "3   -1.350229  False -0.777661          0.621248  1.609664\n",
       "4    0.197769  False -1.165499          0.514096  1.945163\n",
       "..        ...    ...       ...               ...       ...\n",
       "995 -2.654519  False -7.445148          0.703552  1.421359\n",
       "996  0.950720  False  1.706549          0.460864  2.169839\n",
       "997 -0.813902  False -1.716534          0.584905  1.709681\n",
       "998 -0.295869  False -0.652319          0.548897  1.821836\n",
       "999 -1.203700  False -2.435220          0.611434  1.635499\n",
       "\n",
       "[1000 rows x 5 columns]"
      ]
     },
     "execution_count": 6,
     "metadata": {},
     "output_type": "execute_result"
    }
   ],
   "source": [
    "cdf_0"
   ]
  },
  {
   "cell_type": "code",
   "execution_count": 7,
   "metadata": {
    "execution": {
     "iopub.execute_input": "2022-12-16T19:59:16.862496Z",
     "iopub.status.busy": "2022-12-16T19:59:16.862111Z",
     "iopub.status.idle": "2022-12-16T19:59:16.872860Z",
     "shell.execute_reply": "2022-12-16T19:59:16.872178Z"
    }
   },
   "outputs": [
    {
     "data": {
      "text/html": [
       "<div>\n",
       "<style scoped>\n",
       "    .dataframe tbody tr th:only-of-type {\n",
       "        vertical-align: middle;\n",
       "    }\n",
       "\n",
       "    .dataframe tbody tr th {\n",
       "        vertical-align: top;\n",
       "    }\n",
       "\n",
       "    .dataframe thead th {\n",
       "        text-align: right;\n",
       "    }\n",
       "</style>\n",
       "<table border=\"1\" class=\"dataframe\">\n",
       "  <thead>\n",
       "    <tr style=\"text-align: right;\">\n",
       "      <th></th>\n",
       "      <th>W0</th>\n",
       "      <th>v0</th>\n",
       "      <th>y</th>\n",
       "      <th>propensity_score</th>\n",
       "      <th>weight</th>\n",
       "    </tr>\n",
       "  </thead>\n",
       "  <tbody>\n",
       "    <tr>\n",
       "      <th>0</th>\n",
       "      <td>0.414105</td>\n",
       "      <td>True</td>\n",
       "      <td>6.374289</td>\n",
       "      <td>0.501219</td>\n",
       "      <td>1.995135</td>\n",
       "    </tr>\n",
       "    <tr>\n",
       "      <th>1</th>\n",
       "      <td>-1.591770</td>\n",
       "      <td>True</td>\n",
       "      <td>2.587951</td>\n",
       "      <td>0.362793</td>\n",
       "      <td>2.756391</td>\n",
       "    </tr>\n",
       "    <tr>\n",
       "      <th>2</th>\n",
       "      <td>0.586707</td>\n",
       "      <td>True</td>\n",
       "      <td>6.381971</td>\n",
       "      <td>0.513438</td>\n",
       "      <td>1.947656</td>\n",
       "    </tr>\n",
       "    <tr>\n",
       "      <th>3</th>\n",
       "      <td>-1.806623</td>\n",
       "      <td>True</td>\n",
       "      <td>0.483721</td>\n",
       "      <td>0.348846</td>\n",
       "      <td>2.866594</td>\n",
       "    </tr>\n",
       "    <tr>\n",
       "      <th>4</th>\n",
       "      <td>-0.850839</td>\n",
       "      <td>True</td>\n",
       "      <td>2.887332</td>\n",
       "      <td>0.412558</td>\n",
       "      <td>2.423904</td>\n",
       "    </tr>\n",
       "    <tr>\n",
       "      <th>...</th>\n",
       "      <td>...</td>\n",
       "      <td>...</td>\n",
       "      <td>...</td>\n",
       "      <td>...</td>\n",
       "      <td>...</td>\n",
       "    </tr>\n",
       "    <tr>\n",
       "      <th>995</th>\n",
       "      <td>-0.242870</td>\n",
       "      <td>True</td>\n",
       "      <td>5.544364</td>\n",
       "      <td>0.454823</td>\n",
       "      <td>2.198658</td>\n",
       "    </tr>\n",
       "    <tr>\n",
       "      <th>996</th>\n",
       "      <td>0.583435</td>\n",
       "      <td>True</td>\n",
       "      <td>5.810558</td>\n",
       "      <td>0.513206</td>\n",
       "      <td>1.948534</td>\n",
       "    </tr>\n",
       "    <tr>\n",
       "      <th>997</th>\n",
       "      <td>-0.494827</td>\n",
       "      <td>True</td>\n",
       "      <td>4.108218</td>\n",
       "      <td>0.437192</td>\n",
       "      <td>2.287325</td>\n",
       "    </tr>\n",
       "    <tr>\n",
       "      <th>998</th>\n",
       "      <td>-1.040138</td>\n",
       "      <td>True</td>\n",
       "      <td>3.239850</td>\n",
       "      <td>0.399627</td>\n",
       "      <td>2.502332</td>\n",
       "    </tr>\n",
       "    <tr>\n",
       "      <th>999</th>\n",
       "      <td>-0.459409</td>\n",
       "      <td>True</td>\n",
       "      <td>4.499226</td>\n",
       "      <td>0.439662</td>\n",
       "      <td>2.274475</td>\n",
       "    </tr>\n",
       "  </tbody>\n",
       "</table>\n",
       "<p>1000 rows × 5 columns</p>\n",
       "</div>"
      ],
      "text/plain": [
       "           W0    v0         y  propensity_score    weight\n",
       "0    0.414105  True  6.374289          0.501219  1.995135\n",
       "1   -1.591770  True  2.587951          0.362793  2.756391\n",
       "2    0.586707  True  6.381971          0.513438  1.947656\n",
       "3   -1.806623  True  0.483721          0.348846  2.866594\n",
       "4   -0.850839  True  2.887332          0.412558  2.423904\n",
       "..        ...   ...       ...               ...       ...\n",
       "995 -0.242870  True  5.544364          0.454823  2.198658\n",
       "996  0.583435  True  5.810558          0.513206  1.948534\n",
       "997 -0.494827  True  4.108218          0.437192  2.287325\n",
       "998 -1.040138  True  3.239850          0.399627  2.502332\n",
       "999 -0.459409  True  4.499226          0.439662  2.274475\n",
       "\n",
       "[1000 rows x 5 columns]"
      ]
     },
     "execution_count": 7,
     "metadata": {},
     "output_type": "execute_result"
    }
   ],
   "source": [
    "cdf_1"
   ]
  },
  {
   "cell_type": "markdown",
   "metadata": {},
   "source": [
    "## Comparing the estimate to Linear Regression\n",
    "First, estimating the effect using the causal data frame, and the 95% confidence interval."
   ]
  },
  {
   "cell_type": "code",
   "execution_count": 8,
   "metadata": {
    "execution": {
     "iopub.execute_input": "2022-12-16T19:59:16.876128Z",
     "iopub.status.busy": "2022-12-16T19:59:16.875583Z",
     "iopub.status.idle": "2022-12-16T19:59:16.934993Z",
     "shell.execute_reply": "2022-12-16T19:59:16.934208Z"
    }
   },
   "outputs": [
    {
     "data": {
      "image/png": "[encoded data removed]",
      "text/latex": [
       "$\\displaystyle 4.98736565155691$"
      ],
      "text/plain": [
       "4.987365651556909"
      ]
     },
     "execution_count": 8,
     "metadata": {},
     "output_type": "execute_result"
    }
   ],
   "source": [
    "(cdf_1['y'] - cdf_0['y']).mean()"
   ]
  },
  {
   "cell_type": "code",
   "execution_count": 9,
   "metadata": {
    "execution": {
     "iopub.execute_input": "2022-12-16T19:59:16.938841Z",
     "iopub.status.busy": "2022-12-16T19:59:16.938227Z",
     "iopub.status.idle": "2022-12-16T19:59:16.962089Z",
     "shell.execute_reply": "2022-12-16T19:59:16.961274Z"
    }
   },
   "outputs": [
    {
     "data": {
      "image/png": "[encoded data removed]",
      "text/latex": [
       "$\\displaystyle 0.184582520503407$"
      ],
      "text/plain": [
       "0.18458252050340665"
      ]
     },
     "execution_count": 9,
     "metadata": {},
     "output_type": "execute_result"
    }
   ],
   "source": [
    "1.96*(cdf_1['y'] - cdf_0['y']).std() / np.sqrt(len(df))"
   ]
  },
  {
   "cell_type": "markdown",
   "metadata": {},
   "source": [
    "Comparing to the estimate from OLS."
   ]
  },
  {
   "cell_type": "code",
   "execution_count": 10,
   "metadata": {
    "execution": {
     "iopub.execute_input": "2022-12-16T19:59:16.965618Z",
     "iopub.status.busy": "2022-12-16T19:59:16.964992Z",
     "iopub.status.idle": "2022-12-16T19:59:16.981911Z",
     "shell.execute_reply": "2022-12-16T19:59:16.981221Z"
    }
   },
   "outputs": [
    {
     "data": {
      "text/html": [
       "<table class=\"simpletable\">\n",
       "<caption>OLS Regression Results</caption>\n",
       "<tr>\n",
       "  <th>Dep. Variable:</th>            <td>y</td>        <th>  R-squared (uncentered):</th>      <td>   0.926</td>\n",
       "</tr>\n",
       "<tr>\n",
       "  <th>Model:</th>                   <td>OLS</td>       <th>  Adj. R-squared (uncentered):</th> <td>   0.925</td>\n",
       "</tr>\n",
       "<tr>\n",
       "  <th>Method:</th>             <td>Least Squares</td>  <th>  F-statistic:       </th>          <td>   6209.</td>\n",
       "</tr>\n",
       "<tr>\n",
       "  <th>Date:</th>             <td>Fri, 16 Dec 2022</td> <th>  Prob (F-statistic):</th>           <td>  0.00</td> \n",
       "</tr>\n",
       "<tr>\n",
       "  <th>Time:</th>                 <td>19:59:16</td>     <th>  Log-Likelihood:    </th>          <td> -1407.3</td>\n",
       "</tr>\n",
       "<tr>\n",
       "  <th>No. Observations:</th>      <td>  1000</td>      <th>  AIC:               </th>          <td>   2819.</td>\n",
       "</tr>\n",
       "<tr>\n",
       "  <th>Df Residuals:</th>          <td>   998</td>      <th>  BIC:               </th>          <td>   2828.</td>\n",
       "</tr>\n",
       "<tr>\n",
       "  <th>Df Model:</th>              <td>     2</td>      <th>                     </th>              <td> </td>   \n",
       "</tr>\n",
       "<tr>\n",
       "  <th>Covariance Type:</th>      <td>nonrobust</td>    <th>                     </th>              <td> </td>   \n",
       "</tr>\n",
       "</table>\n",
       "<table class=\"simpletable\">\n",
       "<tr>\n",
       "   <td></td>     <th>coef</th>     <th>std err</th>      <th>t</th>      <th>P>|t|</th>  <th>[0.025</th>    <th>0.975]</th>  \n",
       "</tr>\n",
       "<tr>\n",
       "  <th>x1</th> <td>    1.8246</td> <td>    0.029</td> <td>   63.547</td> <td> 0.000</td> <td>    1.768</td> <td>    1.881</td>\n",
       "</tr>\n",
       "<tr>\n",
       "  <th>x2</th> <td>    5.0253</td> <td>    0.049</td> <td>  103.393</td> <td> 0.000</td> <td>    4.930</td> <td>    5.121</td>\n",
       "</tr>\n",
       "</table>\n",
       "<table class=\"simpletable\">\n",
       "<tr>\n",
       "  <th>Omnibus:</th>       <td> 1.284</td> <th>  Durbin-Watson:     </th> <td>   2.009</td>\n",
       "</tr>\n",
       "<tr>\n",
       "  <th>Prob(Omnibus):</th> <td> 0.526</td> <th>  Jarque-Bera (JB):  </th> <td>   1.341</td>\n",
       "</tr>\n",
       "<tr>\n",
       "  <th>Skew:</th>          <td> 0.055</td> <th>  Prob(JB):          </th> <td>   0.511</td>\n",
       "</tr>\n",
       "<tr>\n",
       "  <th>Kurtosis:</th>      <td> 2.858</td> <th>  Cond. No.          </th> <td>    1.78</td>\n",
       "</tr>\n",
       "</table><br/><br/>Notes:<br/>[1] R² is computed without centering (uncentered) since the model does not contain a constant.<br/>[2] Standard Errors assume that the covariance matrix of the errors is correctly specified."
      ],
      "text/plain": [
       "<class 'statsmodels.iolib.summary.Summary'>\n",
       "\"\"\"\n",
       "                                 OLS Regression Results                                \n",
       "=======================================================================================\n",
       "Dep. Variable:                      y   R-squared (uncentered):                   0.926\n",
       "Model:                            OLS   Adj. R-squared (uncentered):              0.925\n",
       "Method:                 Least Squares   F-statistic:                              6209.\n",
       "Date:                Fri, 16 Dec 2022   Prob (F-statistic):                        0.00\n",
       "Time:                        19:59:16   Log-Likelihood:                         -1407.3\n",
       "No. Observations:                1000   AIC:                                      2819.\n",
       "Df Residuals:                     998   BIC:                                      2828.\n",
       "Df Model:                           2                                                  \n",
       "Covariance Type:            nonrobust                                                  \n",
       "==============================================================================\n",
       "                 coef    std err          t      P>|t|      [0.025      0.975]\n",
       "------------------------------------------------------------------------------\n",
       "x1             1.8246      0.029     63.547      0.000       1.768       1.881\n",
       "x2             5.0253      0.049    103.393      0.000       4.930       5.121\n",
       "==============================================================================\n",
       "Omnibus:                        1.284   Durbin-Watson:                   2.009\n",
       "Prob(Omnibus):                  0.526   Jarque-Bera (JB):                1.341\n",
       "Skew:                           0.055   Prob(JB):                        0.511\n",
       "Kurtosis:                       2.858   Cond. No.                         1.78\n",
       "==============================================================================\n",
       "\n",
       "Notes:\n",
       "[1] R² is computed without centering (uncentered) since the model does not contain a constant.\n",
       "[2] Standard Errors assume that the covariance matrix of the errors is correctly specified.\n",
       "\"\"\""
      ]
     },
     "execution_count": 10,
     "metadata": {},
     "output_type": "execute_result"
    }
   ],
   "source": [
    "model = OLS(np.asarray(df[outcome]), np.asarray(df[[common_cause, treatment]], dtype=np.float64))\n",
    "result = model.fit()\n",
    "result.summary()"
   ]
  }
 ],
 "metadata": {
  "kernelspec": {
   "display_name": "Python 3",
   "language": "python",
   "name": "python3"
  },
  "language_info": {
   "codemirror_mode": {
    "name": "ipython",
    "version": 3
   },
   "file_extension": ".py",
   "mimetype": "text/x-python",
   "name": "python",
   "nbconvert_exporter": "python",
   "pygments_lexer": "ipython3",
   "version": "3.8.10"
  },
  "toc": {
   "base_numbering": 1,
   "nav_menu": {},
   "number_sections": false,
   "sideBar": true,
   "skip_h1_title": true,
   "title_cell": "Table of Contents",
   "title_sidebar": "Contents",
   "toc_cell": false,
   "toc_position": {},
   "toc_section_display": true,
   "toc_window_display": false
  }
 },
 "nbformat": 4,
 "nbformat_minor": 4
}
