{
 "cells": [
  {
   "cell_type": "markdown",
   "metadata": {},
   "source": [
    "# Demo for the DoWhy causal API\n",
    "We show a simple example of adding a causal extension to any dataframe. "
   ]
  },
  {
   "cell_type": "code",
   "execution_count": 1,
   "metadata": {
    "execution": {
     "iopub.execute_input": "2022-11-17T13:35:45.037668Z",
     "iopub.status.busy": "2022-11-17T13:35:45.037178Z",
     "iopub.status.idle": "2022-11-17T13:35:47.090053Z",
     "shell.execute_reply": "2022-11-17T13:35:47.089299Z"
    }
   },
   "outputs": [],
   "source": [
    "import dowhy.datasets\n",
    "import dowhy.api\n",
    "\n",
    "import numpy as np\n",
    "import pandas as pd\n",
    "\n",
    "from statsmodels.api import OLS"
   ]
  },
  {
   "cell_type": "code",
   "execution_count": 2,
   "metadata": {
    "execution": {
     "iopub.execute_input": "2022-11-17T13:35:47.094349Z",
     "iopub.status.busy": "2022-11-17T13:35:47.093755Z",
     "iopub.status.idle": "2022-11-17T13:35:47.139197Z",
     "shell.execute_reply": "2022-11-17T13:35:47.138124Z"
    }
   },
   "outputs": [
    {
     "data": {
      "text/html": [
       "<div>\n",
       "<style scoped>\n",
       "    .dataframe tbody tr th:only-of-type {\n",
       "        vertical-align: middle;\n",
       "    }\n",
       "\n",
       "    .dataframe tbody tr th {\n",
       "        vertical-align: top;\n",
       "    }\n",
       "\n",
       "    .dataframe thead th {\n",
       "        text-align: right;\n",
       "    }\n",
       "</style>\n",
       "<table border=\"1\" class=\"dataframe\">\n",
       "  <thead>\n",
       "    <tr style=\"text-align: right;\">\n",
       "      <th></th>\n",
       "      <th>W0</th>\n",
       "      <th>v0</th>\n",
       "      <th>y</th>\n",
       "    </tr>\n",
       "  </thead>\n",
       "  <tbody>\n",
       "    <tr>\n",
       "      <th>0</th>\n",
       "      <td>0.042875</td>\n",
       "      <td>True</td>\n",
       "      <td>5.993663</td>\n",
       "    </tr>\n",
       "    <tr>\n",
       "      <th>1</th>\n",
       "      <td>1.194247</td>\n",
       "      <td>True</td>\n",
       "      <td>6.010046</td>\n",
       "    </tr>\n",
       "    <tr>\n",
       "      <th>2</th>\n",
       "      <td>-0.360612</td>\n",
       "      <td>False</td>\n",
       "      <td>1.077121</td>\n",
       "    </tr>\n",
       "    <tr>\n",
       "      <th>3</th>\n",
       "      <td>-0.408782</td>\n",
       "      <td>False</td>\n",
       "      <td>-1.348006</td>\n",
       "    </tr>\n",
       "    <tr>\n",
       "      <th>4</th>\n",
       "      <td>0.182474</td>\n",
       "      <td>False</td>\n",
       "      <td>0.330399</td>\n",
       "    </tr>\n",
       "    <tr>\n",
       "      <th>...</th>\n",
       "      <td>...</td>\n",
       "      <td>...</td>\n",
       "      <td>...</td>\n",
       "    </tr>\n",
       "    <tr>\n",
       "      <th>995</th>\n",
       "      <td>0.113291</td>\n",
       "      <td>False</td>\n",
       "      <td>0.599060</td>\n",
       "    </tr>\n",
       "    <tr>\n",
       "      <th>996</th>\n",
       "      <td>-1.837751</td>\n",
       "      <td>False</td>\n",
       "      <td>-0.843420</td>\n",
       "    </tr>\n",
       "    <tr>\n",
       "      <th>997</th>\n",
       "      <td>-0.262475</td>\n",
       "      <td>True</td>\n",
       "      <td>5.646766</td>\n",
       "    </tr>\n",
       "    <tr>\n",
       "      <th>998</th>\n",
       "      <td>0.531213</td>\n",
       "      <td>True</td>\n",
       "      <td>4.477897</td>\n",
       "    </tr>\n",
       "    <tr>\n",
       "      <th>999</th>\n",
       "      <td>-0.898405</td>\n",
       "      <td>False</td>\n",
       "      <td>-0.961374</td>\n",
       "    </tr>\n",
       "  </tbody>\n",
       "</table>\n",
       "<p>1000 rows × 3 columns</p>\n",
       "</div>"
      ],
      "text/plain": [
       "           W0     v0         y\n",
       "0    0.042875   True  5.993663\n",
       "1    1.194247   True  6.010046\n",
       "2   -0.360612  False  1.077121\n",
       "3   -0.408782  False -1.348006\n",
       "4    0.182474  False  0.330399\n",
       "..        ...    ...       ...\n",
       "995  0.113291  False  0.599060\n",
       "996 -1.837751  False -0.843420\n",
       "997 -0.262475   True  5.646766\n",
       "998  0.531213   True  4.477897\n",
       "999 -0.898405  False -0.961374\n",
       "\n",
       "[1000 rows x 3 columns]"
      ]
     },
     "execution_count": 2,
     "metadata": {},
     "output_type": "execute_result"
    }
   ],
   "source": [
    "data = dowhy.datasets.linear_dataset(beta=5,\n",
    "        num_common_causes=1,\n",
    "        num_instruments = 0,\n",
    "        num_samples=1000,\n",
    "        treatment_is_binary=True)\n",
    "df = data['df']\n",
    "df['y'] = df['y'] + np.random.normal(size=len(df)) # Adding noise to data. Without noise, the variance in Y|X, Z is zero, and mcmc fails.\n",
    "#data['dot_graph'] = 'digraph { v ->y;X0-> v;X0-> y;}'\n",
    "\n",
    "treatment= data[\"treatment_name\"][0]\n",
    "outcome = data[\"outcome_name\"][0]\n",
    "common_cause = data[\"common_causes_names\"][0]\n",
    "df"
   ]
  },
  {
   "cell_type": "code",
   "execution_count": 3,
   "metadata": {
    "execution": {
     "iopub.execute_input": "2022-11-17T13:35:47.142574Z",
     "iopub.status.busy": "2022-11-17T13:35:47.142332Z",
     "iopub.status.idle": "2022-11-17T13:35:47.300217Z",
     "shell.execute_reply": "2022-11-17T13:35:47.299619Z"
    }
   },
   "outputs": [
    {
     "data": {
      "text/plain": [
       "<AxesSubplot: xlabel='v0'>"
      ]
     },
     "execution_count": 3,
     "metadata": {},
     "output_type": "execute_result"
    },
    {
     "data": {
      "image/png": "[encoded data removed]",
      "text/plain": [
       "<Figure size 640x480 with 1 Axes>"
      ]
     },
     "metadata": {},
     "output_type": "display_data"
    }
   ],
   "source": [
    "# data['df'] is just a regular pandas.DataFrame\n",
    "df.causal.do(x=treatment,\n",
    "                     variable_types={treatment: 'b', outcome: 'c', common_cause: 'c'},\n",
    "                     outcome=outcome,\n",
    "                     common_causes=[common_cause],\n",
    "                     proceed_when_unidentifiable=True).groupby(treatment).mean().plot(y=outcome, kind='bar')"
   ]
  },
  {
   "cell_type": "code",
   "execution_count": 4,
   "metadata": {
    "execution": {
     "iopub.execute_input": "2022-11-17T13:35:47.303530Z",
     "iopub.status.busy": "2022-11-17T13:35:47.303245Z",
     "iopub.status.idle": "2022-11-17T13:35:47.426537Z",
     "shell.execute_reply": "2022-11-17T13:35:47.425922Z"
    }
   },
   "outputs": [
    {
     "data": {
      "text/plain": [
       "<AxesSubplot: xlabel='v0'>"
      ]
     },
     "execution_count": 4,
     "metadata": {},
     "output_type": "execute_result"
    },
    {
     "data": {
      "image/png": "[encoded data removed]",
      "text/plain": [
       "<Figure size 640x480 with 1 Axes>"
      ]
     },
     "metadata": {},
     "output_type": "display_data"
    }
   ],
   "source": [
    "df.causal.do(x={treatment: 1}, \n",
    "              variable_types={treatment:'b', outcome: 'c', common_cause: 'c'}, \n",
    "              outcome=outcome,\n",
    "              method='weighting', \n",
    "              common_causes=[common_cause],\n",
    "              proceed_when_unidentifiable=True).groupby(treatment).mean().plot(y=outcome, kind='bar')"
   ]
  },
  {
   "cell_type": "code",
   "execution_count": 5,
   "metadata": {
    "execution": {
     "iopub.execute_input": "2022-11-17T13:35:47.431024Z",
     "iopub.status.busy": "2022-11-17T13:35:47.429857Z",
     "iopub.status.idle": "2022-11-17T13:35:47.464488Z",
     "shell.execute_reply": "2022-11-17T13:35:47.463811Z"
    }
   },
   "outputs": [],
   "source": [
    "cdf_1 = df.causal.do(x={treatment: 1}, \n",
    "              variable_types={treatment: 'b', outcome: 'c', common_cause: 'c'}, \n",
    "              outcome=outcome, \n",
    "              dot_graph=data['dot_graph'],\n",
    "              proceed_when_unidentifiable=True)\n",
    "\n",
    "cdf_0 = df.causal.do(x={treatment: 0}, \n",
    "              variable_types={treatment: 'b', outcome: 'c', common_cause: 'c'}, \n",
    "              outcome=outcome, \n",
    "              dot_graph=data['dot_graph'],\n",
    "              proceed_when_unidentifiable=True)\n"
   ]
  },
  {
   "cell_type": "code",
   "execution_count": 6,
   "metadata": {
    "execution": {
     "iopub.execute_input": "2022-11-17T13:35:47.468228Z",
     "iopub.status.busy": "2022-11-17T13:35:47.467824Z",
     "iopub.status.idle": "2022-11-17T13:35:47.480659Z",
     "shell.execute_reply": "2022-11-17T13:35:47.480018Z"
    },
    "scrolled": true
   },
   "outputs": [
    {
     "data": {
      "text/html": [
       "<div>\n",
       "<style scoped>\n",
       "    .dataframe tbody tr th:only-of-type {\n",
       "        vertical-align: middle;\n",
       "    }\n",
       "\n",
       "    .dataframe tbody tr th {\n",
       "        vertical-align: top;\n",
       "    }\n",
       "\n",
       "    .dataframe thead th {\n",
       "        text-align: right;\n",
       "    }\n",
       "</style>\n",
       "<table border=\"1\" class=\"dataframe\">\n",
       "  <thead>\n",
       "    <tr style=\"text-align: right;\">\n",
       "      <th></th>\n",
       "      <th>W0</th>\n",
       "      <th>v0</th>\n",
       "      <th>y</th>\n",
       "      <th>propensity_score</th>\n",
       "      <th>weight</th>\n",
       "    </tr>\n",
       "  </thead>\n",
       "  <tbody>\n",
       "    <tr>\n",
       "      <th>0</th>\n",
       "      <td>0.194322</td>\n",
       "      <td>False</td>\n",
       "      <td>1.696410</td>\n",
       "      <td>0.398784</td>\n",
       "      <td>2.507623</td>\n",
       "    </tr>\n",
       "    <tr>\n",
       "      <th>1</th>\n",
       "      <td>2.090521</td>\n",
       "      <td>False</td>\n",
       "      <td>5.583034</td>\n",
       "      <td>0.027205</td>\n",
       "      <td>36.757799</td>\n",
       "    </tr>\n",
       "    <tr>\n",
       "      <th>2</th>\n",
       "      <td>-0.783734</td>\n",
       "      <td>False</td>\n",
       "      <td>-0.066315</td>\n",
       "      <td>0.772521</td>\n",
       "      <td>1.294463</td>\n",
       "    </tr>\n",
       "    <tr>\n",
       "      <th>3</th>\n",
       "      <td>-0.026846</td>\n",
       "      <td>False</td>\n",
       "      <td>-0.038221</td>\n",
       "      <td>0.489693</td>\n",
       "      <td>2.042094</td>\n",
       "    </tr>\n",
       "    <tr>\n",
       "      <th>4</th>\n",
       "      <td>-0.360025</td>\n",
       "      <td>False</td>\n",
       "      <td>-0.120628</td>\n",
       "      <td>0.626002</td>\n",
       "      <td>1.597440</td>\n",
       "    </tr>\n",
       "    <tr>\n",
       "      <th>...</th>\n",
       "      <td>...</td>\n",
       "      <td>...</td>\n",
       "      <td>...</td>\n",
       "      <td>...</td>\n",
       "      <td>...</td>\n",
       "    </tr>\n",
       "    <tr>\n",
       "      <th>995</th>\n",
       "      <td>-0.744784</td>\n",
       "      <td>False</td>\n",
       "      <td>-1.681380</td>\n",
       "      <td>0.760890</td>\n",
       "      <td>1.314250</td>\n",
       "    </tr>\n",
       "    <tr>\n",
       "      <th>996</th>\n",
       "      <td>-0.160477</td>\n",
       "      <td>False</td>\n",
       "      <td>0.646751</td>\n",
       "      <td>0.545351</td>\n",
       "      <td>1.833683</td>\n",
       "    </tr>\n",
       "    <tr>\n",
       "      <th>997</th>\n",
       "      <td>1.109014</td>\n",
       "      <td>False</td>\n",
       "      <td>2.205334</td>\n",
       "      <td>0.125882</td>\n",
       "      <td>7.943925</td>\n",
       "    </tr>\n",
       "    <tr>\n",
       "      <th>998</th>\n",
       "      <td>0.834040</td>\n",
       "      <td>False</td>\n",
       "      <td>1.112179</td>\n",
       "      <td>0.185621</td>\n",
       "      <td>5.387332</td>\n",
       "    </tr>\n",
       "    <tr>\n",
       "      <th>999</th>\n",
       "      <td>0.199666</td>\n",
       "      <td>False</td>\n",
       "      <td>-0.129561</td>\n",
       "      <td>0.396646</td>\n",
       "      <td>2.521137</td>\n",
       "    </tr>\n",
       "  </tbody>\n",
       "</table>\n",
       "<p>1000 rows × 5 columns</p>\n",
       "</div>"
      ],
      "text/plain": [
       "           W0     v0         y  propensity_score     weight\n",
       "0    0.194322  False  1.696410          0.398784   2.507623\n",
       "1    2.090521  False  5.583034          0.027205  36.757799\n",
       "2   -0.783734  False -0.066315          0.772521   1.294463\n",
       "3   -0.026846  False -0.038221          0.489693   2.042094\n",
       "4   -0.360025  False -0.120628          0.626002   1.597440\n",
       "..        ...    ...       ...               ...        ...\n",
       "995 -0.744784  False -1.681380          0.760890   1.314250\n",
       "996 -0.160477  False  0.646751          0.545351   1.833683\n",
       "997  1.109014  False  2.205334          0.125882   7.943925\n",
       "998  0.834040  False  1.112179          0.185621   5.387332\n",
       "999  0.199666  False -0.129561          0.396646   2.521137\n",
       "\n",
       "[1000 rows x 5 columns]"
      ]
     },
     "execution_count": 6,
     "metadata": {},
     "output_type": "execute_result"
    }
   ],
   "source": [
    "cdf_0"
   ]
  },
  {
   "cell_type": "code",
   "execution_count": 7,
   "metadata": {
    "execution": {
     "iopub.execute_input": "2022-11-17T13:35:47.483667Z",
     "iopub.status.busy": "2022-11-17T13:35:47.483434Z",
     "iopub.status.idle": "2022-11-17T13:35:47.495592Z",
     "shell.execute_reply": "2022-11-17T13:35:47.495015Z"
    }
   },
   "outputs": [
    {
     "data": {
      "text/html": [
       "<div>\n",
       "<style scoped>\n",
       "    .dataframe tbody tr th:only-of-type {\n",
       "        vertical-align: middle;\n",
       "    }\n",
       "\n",
       "    .dataframe tbody tr th {\n",
       "        vertical-align: top;\n",
       "    }\n",
       "\n",
       "    .dataframe thead th {\n",
       "        text-align: right;\n",
       "    }\n",
       "</style>\n",
       "<table border=\"1\" class=\"dataframe\">\n",
       "  <thead>\n",
       "    <tr style=\"text-align: right;\">\n",
       "      <th></th>\n",
       "      <th>W0</th>\n",
       "      <th>v0</th>\n",
       "      <th>y</th>\n",
       "      <th>propensity_score</th>\n",
       "      <th>weight</th>\n",
       "    </tr>\n",
       "  </thead>\n",
       "  <tbody>\n",
       "    <tr>\n",
       "      <th>0</th>\n",
       "      <td>-0.246041</td>\n",
       "      <td>True</td>\n",
       "      <td>5.731338</td>\n",
       "      <td>0.419513</td>\n",
       "      <td>2.383719</td>\n",
       "    </tr>\n",
       "    <tr>\n",
       "      <th>1</th>\n",
       "      <td>-0.902804</td>\n",
       "      <td>True</td>\n",
       "      <td>3.254270</td>\n",
       "      <td>0.194438</td>\n",
       "      <td>5.143015</td>\n",
       "    </tr>\n",
       "    <tr>\n",
       "      <th>2</th>\n",
       "      <td>0.700007</td>\n",
       "      <td>True</td>\n",
       "      <td>6.306237</td>\n",
       "      <td>0.778150</td>\n",
       "      <td>1.285100</td>\n",
       "    </tr>\n",
       "    <tr>\n",
       "      <th>3</th>\n",
       "      <td>1.723720</td>\n",
       "      <td>True</td>\n",
       "      <td>5.183097</td>\n",
       "      <td>0.950935</td>\n",
       "      <td>1.051597</td>\n",
       "    </tr>\n",
       "    <tr>\n",
       "      <th>4</th>\n",
       "      <td>0.472034</td>\n",
       "      <td>True</td>\n",
       "      <td>6.602181</td>\n",
       "      <td>0.705630</td>\n",
       "      <td>1.417174</td>\n",
       "    </tr>\n",
       "    <tr>\n",
       "      <th>...</th>\n",
       "      <td>...</td>\n",
       "      <td>...</td>\n",
       "      <td>...</td>\n",
       "      <td>...</td>\n",
       "      <td>...</td>\n",
       "    </tr>\n",
       "    <tr>\n",
       "      <th>995</th>\n",
       "      <td>-0.569535</td>\n",
       "      <td>True</td>\n",
       "      <td>3.394226</td>\n",
       "      <td>0.296309</td>\n",
       "      <td>3.374860</td>\n",
       "    </tr>\n",
       "    <tr>\n",
       "      <th>996</th>\n",
       "      <td>0.334803</td>\n",
       "      <td>True</td>\n",
       "      <td>5.457685</td>\n",
       "      <td>0.655907</td>\n",
       "      <td>1.524606</td>\n",
       "    </tr>\n",
       "    <tr>\n",
       "      <th>997</th>\n",
       "      <td>-0.421382</td>\n",
       "      <td>True</td>\n",
       "      <td>5.232371</td>\n",
       "      <td>0.350338</td>\n",
       "      <td>2.854390</td>\n",
       "    </tr>\n",
       "    <tr>\n",
       "      <th>998</th>\n",
       "      <td>-0.948877</td>\n",
       "      <td>True</td>\n",
       "      <td>4.412928</td>\n",
       "      <td>0.182671</td>\n",
       "      <td>5.474328</td>\n",
       "    </tr>\n",
       "    <tr>\n",
       "      <th>999</th>\n",
       "      <td>-0.806390</td>\n",
       "      <td>True</td>\n",
       "      <td>5.527229</td>\n",
       "      <td>0.220899</td>\n",
       "      <td>4.526950</td>\n",
       "    </tr>\n",
       "  </tbody>\n",
       "</table>\n",
       "<p>1000 rows × 5 columns</p>\n",
       "</div>"
      ],
      "text/plain": [
       "           W0    v0         y  propensity_score    weight\n",
       "0   -0.246041  True  5.731338          0.419513  2.383719\n",
       "1   -0.902804  True  3.254270          0.194438  5.143015\n",
       "2    0.700007  True  6.306237          0.778150  1.285100\n",
       "3    1.723720  True  5.183097          0.950935  1.051597\n",
       "4    0.472034  True  6.602181          0.705630  1.417174\n",
       "..        ...   ...       ...               ...       ...\n",
       "995 -0.569535  True  3.394226          0.296309  3.374860\n",
       "996  0.334803  True  5.457685          0.655907  1.524606\n",
       "997 -0.421382  True  5.232371          0.350338  2.854390\n",
       "998 -0.948877  True  4.412928          0.182671  5.474328\n",
       "999 -0.806390  True  5.527229          0.220899  4.526950\n",
       "\n",
       "[1000 rows x 5 columns]"
      ]
     },
     "execution_count": 7,
     "metadata": {},
     "output_type": "execute_result"
    }
   ],
   "source": [
    "cdf_1"
   ]
  },
  {
   "cell_type": "markdown",
   "metadata": {},
   "source": [
    "## Comparing the estimate to Linear Regression\n",
    "First, estimating the effect using the causal data frame, and the 95% confidence interval."
   ]
  },
  {
   "cell_type": "code",
   "execution_count": 8,
   "metadata": {
    "execution": {
     "iopub.execute_input": "2022-11-17T13:35:47.498849Z",
     "iopub.status.busy": "2022-11-17T13:35:47.498498Z",
     "iopub.status.idle": "2022-11-17T13:35:47.560967Z",
     "shell.execute_reply": "2022-11-17T13:35:47.560277Z"
    }
   },
   "outputs": [
    {
     "data": {
      "image/png": "[encoded data removed]",
      "text/latex": [
       "$\\displaystyle 4.93259791999761$"
      ],
      "text/plain": [
       "4.932597919997614"
      ]
     },
     "execution_count": 8,
     "metadata": {},
     "output_type": "execute_result"
    }
   ],
   "source": [
    "(cdf_1['y'] - cdf_0['y']).mean()"
   ]
  },
  {
   "cell_type": "code",
   "execution_count": 9,
   "metadata": {
    "execution": {
     "iopub.execute_input": "2022-11-17T13:35:47.564958Z",
     "iopub.status.busy": "2022-11-17T13:35:47.564216Z",
     "iopub.status.idle": "2022-11-17T13:35:47.586456Z",
     "shell.execute_reply": "2022-11-17T13:35:47.585869Z"
    }
   },
   "outputs": [
    {
     "data": {
      "image/png": "[encoded data removed]",
      "text/latex": [
       "$\\displaystyle 0.134506885626395$"
      ],
      "text/plain": [
       "0.13450688562639493"
      ]
     },
     "execution_count": 9,
     "metadata": {},
     "output_type": "execute_result"
    }
   ],
   "source": [
    "1.96*(cdf_1['y'] - cdf_0['y']).std() / np.sqrt(len(df))"
   ]
  },
  {
   "cell_type": "markdown",
   "metadata": {},
   "source": [
    "Comparing to the estimate from OLS."
   ]
  },
  {
   "cell_type": "code",
   "execution_count": 10,
   "metadata": {
    "execution": {
     "iopub.execute_input": "2022-11-17T13:35:47.589944Z",
     "iopub.status.busy": "2022-11-17T13:35:47.589518Z",
     "iopub.status.idle": "2022-11-17T13:35:47.607982Z",
     "shell.execute_reply": "2022-11-17T13:35:47.607388Z"
    }
   },
   "outputs": [
    {
     "data": {
      "text/html": [
       "<table class=\"simpletable\">\n",
       "<caption>OLS Regression Results</caption>\n",
       "<tr>\n",
       "  <th>Dep. Variable:</th>            <td>y</td>        <th>  R-squared (uncentered):</th>      <td>   0.943</td>\n",
       "</tr>\n",
       "<tr>\n",
       "  <th>Model:</th>                   <td>OLS</td>       <th>  Adj. R-squared (uncentered):</th> <td>   0.943</td>\n",
       "</tr>\n",
       "<tr>\n",
       "  <th>Method:</th>             <td>Least Squares</td>  <th>  F-statistic:       </th>          <td>   8267.</td>\n",
       "</tr>\n",
       "<tr>\n",
       "  <th>Date:</th>             <td>Thu, 17 Nov 2022</td> <th>  Prob (F-statistic):</th>           <td>  0.00</td> \n",
       "</tr>\n",
       "<tr>\n",
       "  <th>Time:</th>                 <td>13:35:47</td>     <th>  Log-Likelihood:    </th>          <td> -1396.2</td>\n",
       "</tr>\n",
       "<tr>\n",
       "  <th>No. Observations:</th>      <td>  1000</td>      <th>  AIC:               </th>          <td>   2796.</td>\n",
       "</tr>\n",
       "<tr>\n",
       "  <th>Df Residuals:</th>          <td>   998</td>      <th>  BIC:               </th>          <td>   2806.</td>\n",
       "</tr>\n",
       "<tr>\n",
       "  <th>Df Model:</th>              <td>     2</td>      <th>                     </th>              <td> </td>   \n",
       "</tr>\n",
       "<tr>\n",
       "  <th>Covariance Type:</th>      <td>nonrobust</td>    <th>                     </th>              <td> </td>   \n",
       "</tr>\n",
       "</table>\n",
       "<table class=\"simpletable\">\n",
       "<tr>\n",
       "   <td></td>     <th>coef</th>     <th>std err</th>      <th>t</th>      <th>P>|t|</th>  <th>[0.025</th>    <th>0.975]</th>  \n",
       "</tr>\n",
       "<tr>\n",
       "  <th>x1</th> <td>    0.9496</td> <td>    0.033</td> <td>   28.537</td> <td> 0.000</td> <td>    0.884</td> <td>    1.015</td>\n",
       "</tr>\n",
       "<tr>\n",
       "  <th>x2</th> <td>    4.9617</td> <td>    0.047</td> <td>  105.781</td> <td> 0.000</td> <td>    4.870</td> <td>    5.054</td>\n",
       "</tr>\n",
       "</table>\n",
       "<table class=\"simpletable\">\n",
       "<tr>\n",
       "  <th>Omnibus:</th>       <td> 4.663</td> <th>  Durbin-Watson:     </th> <td>   2.058</td>\n",
       "</tr>\n",
       "<tr>\n",
       "  <th>Prob(Omnibus):</th> <td> 0.097</td> <th>  Jarque-Bera (JB):  </th> <td>   4.701</td>\n",
       "</tr>\n",
       "<tr>\n",
       "  <th>Skew:</th>          <td> 0.123</td> <th>  Prob(JB):          </th> <td>  0.0953</td>\n",
       "</tr>\n",
       "<tr>\n",
       "  <th>Kurtosis:</th>      <td> 3.229</td> <th>  Cond. No.          </th> <td>    1.69</td>\n",
       "</tr>\n",
       "</table><br/><br/>Notes:<br/>[1] R² is computed without centering (uncentered) since the model does not contain a constant.<br/>[2] Standard Errors assume that the covariance matrix of the errors is correctly specified."
      ],
      "text/plain": [
       "<class 'statsmodels.iolib.summary.Summary'>\n",
       "\"\"\"\n",
       "                                 OLS Regression Results                                \n",
       "=======================================================================================\n",
       "Dep. Variable:                      y   R-squared (uncentered):                   0.943\n",
       "Model:                            OLS   Adj. R-squared (uncentered):              0.943\n",
       "Method:                 Least Squares   F-statistic:                              8267.\n",
       "Date:                Thu, 17 Nov 2022   Prob (F-statistic):                        0.00\n",
       "Time:                        13:35:47   Log-Likelihood:                         -1396.2\n",
       "No. Observations:                1000   AIC:                                      2796.\n",
       "Df Residuals:                     998   BIC:                                      2806.\n",
       "Df Model:                           2                                                  \n",
       "Covariance Type:            nonrobust                                                  \n",
       "==============================================================================\n",
       "                 coef    std err          t      P>|t|      [0.025      0.975]\n",
       "------------------------------------------------------------------------------\n",
       "x1             0.9496      0.033     28.537      0.000       0.884       1.015\n",
       "x2             4.9617      0.047    105.781      0.000       4.870       5.054\n",
       "==============================================================================\n",
       "Omnibus:                        4.663   Durbin-Watson:                   2.058\n",
       "Prob(Omnibus):                  0.097   Jarque-Bera (JB):                4.701\n",
       "Skew:                           0.123   Prob(JB):                       0.0953\n",
       "Kurtosis:                       3.229   Cond. No.                         1.69\n",
       "==============================================================================\n",
       "\n",
       "Notes:\n",
       "[1] R² is computed without centering (uncentered) since the model does not contain a constant.\n",
       "[2] Standard Errors assume that the covariance matrix of the errors is correctly specified.\n",
       "\"\"\""
      ]
     },
     "execution_count": 10,
     "metadata": {},
     "output_type": "execute_result"
    }
   ],
   "source": [
    "model = OLS(np.asarray(df[outcome]), np.asarray(df[[common_cause, treatment]], dtype=np.float64))\n",
    "result = model.fit()\n",
    "result.summary()"
   ]
  }
 ],
 "metadata": {
  "kernelspec": {
   "display_name": "Python 3",
   "language": "python",
   "name": "python3"
  },
  "language_info": {
   "codemirror_mode": {
    "name": "ipython",
    "version": 3
   },
   "file_extension": ".py",
   "mimetype": "text/x-python",
   "name": "python",
   "nbconvert_exporter": "python",
   "pygments_lexer": "ipython3",
   "version": "3.8.10"
  },
  "toc": {
   "base_numbering": 1,
   "nav_menu": {},
   "number_sections": false,
   "sideBar": true,
   "skip_h1_title": true,
   "title_cell": "Table of Contents",
   "title_sidebar": "Contents",
   "toc_cell": false,
   "toc_position": {},
   "toc_section_display": true,
   "toc_window_display": false
  }
 },
 "nbformat": 4,
 "nbformat_minor": 4
}
