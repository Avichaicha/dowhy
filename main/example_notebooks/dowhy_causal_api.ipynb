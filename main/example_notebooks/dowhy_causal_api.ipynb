{
 "cells": [
  {
   "cell_type": "markdown",
   "metadata": {},
   "source": [
    "# Demo for the DoWhy causal API\n",
    "We show a simple example of adding a causal extension to any dataframe. "
   ]
  },
  {
   "cell_type": "code",
   "execution_count": 1,
   "metadata": {
    "execution": {
     "iopub.execute_input": "2022-08-22T06:37:22.075583Z",
     "iopub.status.busy": "2022-08-22T06:37:22.075251Z",
     "iopub.status.idle": "2022-08-22T06:37:23.476383Z",
     "shell.execute_reply": "2022-08-22T06:37:23.475388Z"
    }
   },
   "outputs": [],
   "source": [
    "import dowhy.datasets\n",
    "import dowhy.api\n",
    "\n",
    "import numpy as np\n",
    "import pandas as pd\n",
    "\n",
    "from statsmodels.api import OLS"
   ]
  },
  {
   "cell_type": "code",
   "execution_count": 2,
   "metadata": {
    "execution": {
     "iopub.execute_input": "2022-08-22T06:37:23.481692Z",
     "iopub.status.busy": "2022-08-22T06:37:23.480988Z",
     "iopub.status.idle": "2022-08-22T06:37:23.541730Z",
     "shell.execute_reply": "2022-08-22T06:37:23.540716Z"
    }
   },
   "outputs": [
    {
     "data": {
      "text/html": [
       "<div>\n",
       "<style scoped>\n",
       "    .dataframe tbody tr th:only-of-type {\n",
       "        vertical-align: middle;\n",
       "    }\n",
       "\n",
       "    .dataframe tbody tr th {\n",
       "        vertical-align: top;\n",
       "    }\n",
       "\n",
       "    .dataframe thead th {\n",
       "        text-align: right;\n",
       "    }\n",
       "</style>\n",
       "<table border=\"1\" class=\"dataframe\">\n",
       "  <thead>\n",
       "    <tr style=\"text-align: right;\">\n",
       "      <th></th>\n",
       "      <th>W0</th>\n",
       "      <th>v0</th>\n",
       "      <th>y</th>\n",
       "    </tr>\n",
       "  </thead>\n",
       "  <tbody>\n",
       "    <tr>\n",
       "      <th>0</th>\n",
       "      <td>-0.003786</td>\n",
       "      <td>False</td>\n",
       "      <td>-0.449049</td>\n",
       "    </tr>\n",
       "    <tr>\n",
       "      <th>1</th>\n",
       "      <td>-1.111213</td>\n",
       "      <td>False</td>\n",
       "      <td>-0.566192</td>\n",
       "    </tr>\n",
       "    <tr>\n",
       "      <th>2</th>\n",
       "      <td>0.771729</td>\n",
       "      <td>True</td>\n",
       "      <td>5.487804</td>\n",
       "    </tr>\n",
       "    <tr>\n",
       "      <th>3</th>\n",
       "      <td>-1.316513</td>\n",
       "      <td>False</td>\n",
       "      <td>-3.118362</td>\n",
       "    </tr>\n",
       "    <tr>\n",
       "      <th>4</th>\n",
       "      <td>-1.661850</td>\n",
       "      <td>False</td>\n",
       "      <td>-3.290917</td>\n",
       "    </tr>\n",
       "    <tr>\n",
       "      <th>...</th>\n",
       "      <td>...</td>\n",
       "      <td>...</td>\n",
       "      <td>...</td>\n",
       "    </tr>\n",
       "    <tr>\n",
       "      <th>995</th>\n",
       "      <td>-1.646616</td>\n",
       "      <td>False</td>\n",
       "      <td>-2.564661</td>\n",
       "    </tr>\n",
       "    <tr>\n",
       "      <th>996</th>\n",
       "      <td>-2.079997</td>\n",
       "      <td>False</td>\n",
       "      <td>-1.348670</td>\n",
       "    </tr>\n",
       "    <tr>\n",
       "      <th>997</th>\n",
       "      <td>0.375676</td>\n",
       "      <td>False</td>\n",
       "      <td>0.981494</td>\n",
       "    </tr>\n",
       "    <tr>\n",
       "      <th>998</th>\n",
       "      <td>-0.117430</td>\n",
       "      <td>True</td>\n",
       "      <td>6.154845</td>\n",
       "    </tr>\n",
       "    <tr>\n",
       "      <th>999</th>\n",
       "      <td>-1.165740</td>\n",
       "      <td>False</td>\n",
       "      <td>-2.834031</td>\n",
       "    </tr>\n",
       "  </tbody>\n",
       "</table>\n",
       "<p>1000 rows × 3 columns</p>\n",
       "</div>"
      ],
      "text/plain": [
       "           W0     v0         y\n",
       "0   -0.003786  False -0.449049\n",
       "1   -1.111213  False -0.566192\n",
       "2    0.771729   True  5.487804\n",
       "3   -1.316513  False -3.118362\n",
       "4   -1.661850  False -3.290917\n",
       "..        ...    ...       ...\n",
       "995 -1.646616  False -2.564661\n",
       "996 -2.079997  False -1.348670\n",
       "997  0.375676  False  0.981494\n",
       "998 -0.117430   True  6.154845\n",
       "999 -1.165740  False -2.834031\n",
       "\n",
       "[1000 rows x 3 columns]"
      ]
     },
     "execution_count": 2,
     "metadata": {},
     "output_type": "execute_result"
    }
   ],
   "source": [
    "data = dowhy.datasets.linear_dataset(beta=5,\n",
    "        num_common_causes=1,\n",
    "        num_instruments = 0,\n",
    "        num_samples=1000,\n",
    "        treatment_is_binary=True)\n",
    "df = data['df']\n",
    "df['y'] = df['y'] + np.random.normal(size=len(df)) # Adding noise to data. Without noise, the variance in Y|X, Z is zero, and mcmc fails.\n",
    "#data['dot_graph'] = 'digraph { v ->y;X0-> v;X0-> y;}'\n",
    "\n",
    "treatment= data[\"treatment_name\"][0]\n",
    "outcome = data[\"outcome_name\"][0]\n",
    "common_cause = data[\"common_causes_names\"][0]\n",
    "df"
   ]
  },
  {
   "cell_type": "code",
   "execution_count": 3,
   "metadata": {
    "execution": {
     "iopub.execute_input": "2022-08-22T06:37:23.545757Z",
     "iopub.status.busy": "2022-08-22T06:37:23.545287Z",
     "iopub.status.idle": "2022-08-22T06:37:24.465422Z",
     "shell.execute_reply": "2022-08-22T06:37:24.464721Z"
    }
   },
   "outputs": [
    {
     "data": {
      "text/plain": [
       "<AxesSubplot:xlabel='v0'>"
      ]
     },
     "execution_count": 3,
     "metadata": {},
     "output_type": "execute_result"
    },
    {
     "data": {
      "image/png": "[encoded data removed]",
      "text/plain": [
       "<Figure size 640x480 with 1 Axes>"
      ]
     },
     "metadata": {},
     "output_type": "display_data"
    }
   ],
   "source": [
    "# data['df'] is just a regular pandas.DataFrame\n",
    "df.causal.do(x=treatment,\n",
    "                     variable_types={treatment: 'b', outcome: 'c', common_cause: 'c'},\n",
    "                     outcome=outcome,\n",
    "                     common_causes=[common_cause],\n",
    "                     proceed_when_unidentifiable=True).groupby(treatment).mean().plot(y=outcome, kind='bar')"
   ]
  },
  {
   "cell_type": "code",
   "execution_count": 4,
   "metadata": {
    "execution": {
     "iopub.execute_input": "2022-08-22T06:37:24.469746Z",
     "iopub.status.busy": "2022-08-22T06:37:24.469014Z",
     "iopub.status.idle": "2022-08-22T06:37:24.607379Z",
     "shell.execute_reply": "2022-08-22T06:37:24.606709Z"
    }
   },
   "outputs": [
    {
     "data": {
      "text/plain": [
       "<AxesSubplot:xlabel='v0'>"
      ]
     },
     "execution_count": 4,
     "metadata": {},
     "output_type": "execute_result"
    },
    {
     "data": {
      "image/png": "[encoded data removed]",
      "text/plain": [
       "<Figure size 640x480 with 1 Axes>"
      ]
     },
     "metadata": {},
     "output_type": "display_data"
    }
   ],
   "source": [
    "df.causal.do(x={treatment: 1}, \n",
    "              variable_types={treatment:'b', outcome: 'c', common_cause: 'c'}, \n",
    "              outcome=outcome,\n",
    "              method='weighting', \n",
    "              common_causes=[common_cause],\n",
    "              proceed_when_unidentifiable=True).groupby(treatment).mean().plot(y=outcome, kind='bar')"
   ]
  },
  {
   "cell_type": "code",
   "execution_count": 5,
   "metadata": {
    "execution": {
     "iopub.execute_input": "2022-08-22T06:37:24.610910Z",
     "iopub.status.busy": "2022-08-22T06:37:24.610472Z",
     "iopub.status.idle": "2022-08-22T06:37:24.649324Z",
     "shell.execute_reply": "2022-08-22T06:37:24.648570Z"
    }
   },
   "outputs": [],
   "source": [
    "cdf_1 = df.causal.do(x={treatment: 1}, \n",
    "              variable_types={treatment: 'b', outcome: 'c', common_cause: 'c'}, \n",
    "              outcome=outcome, \n",
    "              dot_graph=data['dot_graph'],\n",
    "              proceed_when_unidentifiable=True)\n",
    "\n",
    "cdf_0 = df.causal.do(x={treatment: 0}, \n",
    "              variable_types={treatment: 'b', outcome: 'c', common_cause: 'c'}, \n",
    "              outcome=outcome, \n",
    "              dot_graph=data['dot_graph'],\n",
    "              proceed_when_unidentifiable=True)\n"
   ]
  },
  {
   "cell_type": "code",
   "execution_count": 6,
   "metadata": {
    "execution": {
     "iopub.execute_input": "2022-08-22T06:37:24.653326Z",
     "iopub.status.busy": "2022-08-22T06:37:24.652786Z",
     "iopub.status.idle": "2022-08-22T06:37:24.667506Z",
     "shell.execute_reply": "2022-08-22T06:37:24.666847Z"
    },
    "scrolled": true
   },
   "outputs": [
    {
     "data": {
      "text/html": [
       "<div>\n",
       "<style scoped>\n",
       "    .dataframe tbody tr th:only-of-type {\n",
       "        vertical-align: middle;\n",
       "    }\n",
       "\n",
       "    .dataframe tbody tr th {\n",
       "        vertical-align: top;\n",
       "    }\n",
       "\n",
       "    .dataframe thead th {\n",
       "        text-align: right;\n",
       "    }\n",
       "</style>\n",
       "<table border=\"1\" class=\"dataframe\">\n",
       "  <thead>\n",
       "    <tr style=\"text-align: right;\">\n",
       "      <th></th>\n",
       "      <th>W0</th>\n",
       "      <th>v0</th>\n",
       "      <th>y</th>\n",
       "      <th>propensity_score</th>\n",
       "      <th>weight</th>\n",
       "    </tr>\n",
       "  </thead>\n",
       "  <tbody>\n",
       "    <tr>\n",
       "      <th>0</th>\n",
       "      <td>-0.430529</td>\n",
       "      <td>False</td>\n",
       "      <td>-1.822646</td>\n",
       "      <td>0.727452</td>\n",
       "      <td>1.374661</td>\n",
       "    </tr>\n",
       "    <tr>\n",
       "      <th>1</th>\n",
       "      <td>-0.745473</td>\n",
       "      <td>False</td>\n",
       "      <td>-2.539869</td>\n",
       "      <td>0.849647</td>\n",
       "      <td>1.176960</td>\n",
       "    </tr>\n",
       "    <tr>\n",
       "      <th>2</th>\n",
       "      <td>-0.678067</td>\n",
       "      <td>False</td>\n",
       "      <td>-0.337742</td>\n",
       "      <td>0.827968</td>\n",
       "      <td>1.207776</td>\n",
       "    </tr>\n",
       "    <tr>\n",
       "      <th>3</th>\n",
       "      <td>0.375676</td>\n",
       "      <td>False</td>\n",
       "      <td>0.981494</td>\n",
       "      <td>0.281224</td>\n",
       "      <td>3.555879</td>\n",
       "    </tr>\n",
       "    <tr>\n",
       "      <th>4</th>\n",
       "      <td>-0.394374</td>\n",
       "      <td>False</td>\n",
       "      <td>-1.695263</td>\n",
       "      <td>0.710049</td>\n",
       "      <td>1.408353</td>\n",
       "    </tr>\n",
       "    <tr>\n",
       "      <th>...</th>\n",
       "      <td>...</td>\n",
       "      <td>...</td>\n",
       "      <td>...</td>\n",
       "      <td>...</td>\n",
       "      <td>...</td>\n",
       "    </tr>\n",
       "    <tr>\n",
       "      <th>995</th>\n",
       "      <td>-0.244153</td>\n",
       "      <td>False</td>\n",
       "      <td>-0.393975</td>\n",
       "      <td>0.631311</td>\n",
       "      <td>1.584006</td>\n",
       "    </tr>\n",
       "    <tr>\n",
       "      <th>996</th>\n",
       "      <td>-0.394532</td>\n",
       "      <td>False</td>\n",
       "      <td>0.505836</td>\n",
       "      <td>0.710127</td>\n",
       "      <td>1.408199</td>\n",
       "    </tr>\n",
       "    <tr>\n",
       "      <th>997</th>\n",
       "      <td>0.793881</td>\n",
       "      <td>False</td>\n",
       "      <td>1.475256</td>\n",
       "      <td>0.126261</td>\n",
       "      <td>7.920112</td>\n",
       "    </tr>\n",
       "    <tr>\n",
       "      <th>998</th>\n",
       "      <td>-1.530155</td>\n",
       "      <td>False</td>\n",
       "      <td>-2.316429</td>\n",
       "      <td>0.973421</td>\n",
       "      <td>1.027305</td>\n",
       "    </tr>\n",
       "    <tr>\n",
       "      <th>999</th>\n",
       "      <td>-1.150804</td>\n",
       "      <td>False</td>\n",
       "      <td>-1.440553</td>\n",
       "      <td>0.936862</td>\n",
       "      <td>1.067394</td>\n",
       "    </tr>\n",
       "  </tbody>\n",
       "</table>\n",
       "<p>1000 rows × 5 columns</p>\n",
       "</div>"
      ],
      "text/plain": [
       "           W0     v0         y  propensity_score    weight\n",
       "0   -0.430529  False -1.822646          0.727452  1.374661\n",
       "1   -0.745473  False -2.539869          0.849647  1.176960\n",
       "2   -0.678067  False -0.337742          0.827968  1.207776\n",
       "3    0.375676  False  0.981494          0.281224  3.555879\n",
       "4   -0.394374  False -1.695263          0.710049  1.408353\n",
       "..        ...    ...       ...               ...       ...\n",
       "995 -0.244153  False -0.393975          0.631311  1.584006\n",
       "996 -0.394532  False  0.505836          0.710127  1.408199\n",
       "997  0.793881  False  1.475256          0.126261  7.920112\n",
       "998 -1.530155  False -2.316429          0.973421  1.027305\n",
       "999 -1.150804  False -1.440553          0.936862  1.067394\n",
       "\n",
       "[1000 rows x 5 columns]"
      ]
     },
     "execution_count": 6,
     "metadata": {},
     "output_type": "execute_result"
    }
   ],
   "source": [
    "cdf_0"
   ]
  },
  {
   "cell_type": "code",
   "execution_count": 7,
   "metadata": {
    "execution": {
     "iopub.execute_input": "2022-08-22T06:37:24.671252Z",
     "iopub.status.busy": "2022-08-22T06:37:24.670842Z",
     "iopub.status.idle": "2022-08-22T06:37:24.683178Z",
     "shell.execute_reply": "2022-08-22T06:37:24.682439Z"
    }
   },
   "outputs": [
    {
     "data": {
      "text/html": [
       "<div>\n",
       "<style scoped>\n",
       "    .dataframe tbody tr th:only-of-type {\n",
       "        vertical-align: middle;\n",
       "    }\n",
       "\n",
       "    .dataframe tbody tr th {\n",
       "        vertical-align: top;\n",
       "    }\n",
       "\n",
       "    .dataframe thead th {\n",
       "        text-align: right;\n",
       "    }\n",
       "</style>\n",
       "<table border=\"1\" class=\"dataframe\">\n",
       "  <thead>\n",
       "    <tr style=\"text-align: right;\">\n",
       "      <th></th>\n",
       "      <th>W0</th>\n",
       "      <th>v0</th>\n",
       "      <th>y</th>\n",
       "      <th>propensity_score</th>\n",
       "      <th>weight</th>\n",
       "    </tr>\n",
       "  </thead>\n",
       "  <tbody>\n",
       "    <tr>\n",
       "      <th>0</th>\n",
       "      <td>0.640266</td>\n",
       "      <td>True</td>\n",
       "      <td>4.220012</td>\n",
       "      <td>0.827579</td>\n",
       "      <td>1.208343</td>\n",
       "    </tr>\n",
       "    <tr>\n",
       "      <th>1</th>\n",
       "      <td>0.485978</td>\n",
       "      <td>True</td>\n",
       "      <td>6.372760</td>\n",
       "      <td>0.768721</td>\n",
       "      <td>1.300862</td>\n",
       "    </tr>\n",
       "    <tr>\n",
       "      <th>2</th>\n",
       "      <td>-0.914870</td>\n",
       "      <td>True</td>\n",
       "      <td>4.126758</td>\n",
       "      <td>0.105714</td>\n",
       "      <td>9.459449</td>\n",
       "    </tr>\n",
       "    <tr>\n",
       "      <th>3</th>\n",
       "      <td>-0.914870</td>\n",
       "      <td>True</td>\n",
       "      <td>4.126758</td>\n",
       "      <td>0.105714</td>\n",
       "      <td>9.459449</td>\n",
       "    </tr>\n",
       "    <tr>\n",
       "      <th>4</th>\n",
       "      <td>-0.066882</td>\n",
       "      <td>True</td>\n",
       "      <td>4.666756</td>\n",
       "      <td>0.471122</td>\n",
       "      <td>2.122591</td>\n",
       "    </tr>\n",
       "    <tr>\n",
       "      <th>...</th>\n",
       "      <td>...</td>\n",
       "      <td>...</td>\n",
       "      <td>...</td>\n",
       "      <td>...</td>\n",
       "      <td>...</td>\n",
       "    </tr>\n",
       "    <tr>\n",
       "      <th>995</th>\n",
       "      <td>0.232847</td>\n",
       "      <td>True</td>\n",
       "      <td>3.815552</td>\n",
       "      <td>0.645249</td>\n",
       "      <td>1.549789</td>\n",
       "    </tr>\n",
       "    <tr>\n",
       "      <th>996</th>\n",
       "      <td>-1.350949</td>\n",
       "      <td>True</td>\n",
       "      <td>2.311653</td>\n",
       "      <td>0.040160</td>\n",
       "      <td>24.900268</td>\n",
       "    </tr>\n",
       "    <tr>\n",
       "      <th>997</th>\n",
       "      <td>-1.536603</td>\n",
       "      <td>True</td>\n",
       "      <td>1.912730</td>\n",
       "      <td>0.026184</td>\n",
       "      <td>38.190694</td>\n",
       "    </tr>\n",
       "    <tr>\n",
       "      <th>998</th>\n",
       "      <td>-1.536603</td>\n",
       "      <td>True</td>\n",
       "      <td>1.912730</td>\n",
       "      <td>0.026184</td>\n",
       "      <td>38.190694</td>\n",
       "    </tr>\n",
       "    <tr>\n",
       "      <th>999</th>\n",
       "      <td>-0.814777</td>\n",
       "      <td>True</td>\n",
       "      <td>2.612765</td>\n",
       "      <td>0.130461</td>\n",
       "      <td>7.665151</td>\n",
       "    </tr>\n",
       "  </tbody>\n",
       "</table>\n",
       "<p>1000 rows × 5 columns</p>\n",
       "</div>"
      ],
      "text/plain": [
       "           W0    v0         y  propensity_score     weight\n",
       "0    0.640266  True  4.220012          0.827579   1.208343\n",
       "1    0.485978  True  6.372760          0.768721   1.300862\n",
       "2   -0.914870  True  4.126758          0.105714   9.459449\n",
       "3   -0.914870  True  4.126758          0.105714   9.459449\n",
       "4   -0.066882  True  4.666756          0.471122   2.122591\n",
       "..        ...   ...       ...               ...        ...\n",
       "995  0.232847  True  3.815552          0.645249   1.549789\n",
       "996 -1.350949  True  2.311653          0.040160  24.900268\n",
       "997 -1.536603  True  1.912730          0.026184  38.190694\n",
       "998 -1.536603  True  1.912730          0.026184  38.190694\n",
       "999 -0.814777  True  2.612765          0.130461   7.665151\n",
       "\n",
       "[1000 rows x 5 columns]"
      ]
     },
     "execution_count": 7,
     "metadata": {},
     "output_type": "execute_result"
    }
   ],
   "source": [
    "cdf_1"
   ]
  },
  {
   "cell_type": "markdown",
   "metadata": {},
   "source": [
    "## Comparing the estimate to Linear Regression\n",
    "First, estimating the effect using the causal data frame, and the 95% confidence interval."
   ]
  },
  {
   "cell_type": "code",
   "execution_count": 8,
   "metadata": {
    "execution": {
     "iopub.execute_input": "2022-08-22T06:37:24.687789Z",
     "iopub.status.busy": "2022-08-22T06:37:24.687171Z",
     "iopub.status.idle": "2022-08-22T06:37:24.808890Z",
     "shell.execute_reply": "2022-08-22T06:37:24.807920Z"
    }
   },
   "outputs": [
    {
     "data": {
      "image/png": "[encoded data removed]",
      "text/latex": [
       "$\\displaystyle 5.24916749761843$"
      ],
      "text/plain": [
       "5.2491674976184255"
      ]
     },
     "execution_count": 8,
     "metadata": {},
     "output_type": "execute_result"
    }
   ],
   "source": [
    "(cdf_1['y'] - cdf_0['y']).mean()"
   ]
  },
  {
   "cell_type": "code",
   "execution_count": 9,
   "metadata": {
    "execution": {
     "iopub.execute_input": "2022-08-22T06:37:24.813302Z",
     "iopub.status.busy": "2022-08-22T06:37:24.812720Z",
     "iopub.status.idle": "2022-08-22T06:37:24.843150Z",
     "shell.execute_reply": "2022-08-22T06:37:24.841721Z"
    }
   },
   "outputs": [
    {
     "data": {
      "image/png": "[encoded data removed]",
      "text/latex": [
       "$\\displaystyle 0.154376632990829$"
      ],
      "text/plain": [
       "0.15437663299082852"
      ]
     },
     "execution_count": 9,
     "metadata": {},
     "output_type": "execute_result"
    }
   ],
   "source": [
    "1.96*(cdf_1['y'] - cdf_0['y']).std() / np.sqrt(len(df))"
   ]
  },
  {
   "cell_type": "markdown",
   "metadata": {},
   "source": [
    "Comparing to the estimate from OLS."
   ]
  },
  {
   "cell_type": "code",
   "execution_count": 10,
   "metadata": {
    "execution": {
     "iopub.execute_input": "2022-08-22T06:37:24.846843Z",
     "iopub.status.busy": "2022-08-22T06:37:24.846350Z",
     "iopub.status.idle": "2022-08-22T06:37:24.866413Z",
     "shell.execute_reply": "2022-08-22T06:37:24.865743Z"
    }
   },
   "outputs": [
    {
     "data": {
      "text/html": [
       "<table class=\"simpletable\">\n",
       "<caption>OLS Regression Results</caption>\n",
       "<tr>\n",
       "  <th>Dep. Variable:</th>            <td>y</td>        <th>  R-squared (uncentered):</th>      <td>   0.921</td>\n",
       "</tr>\n",
       "<tr>\n",
       "  <th>Model:</th>                   <td>OLS</td>       <th>  Adj. R-squared (uncentered):</th> <td>   0.921</td>\n",
       "</tr>\n",
       "<tr>\n",
       "  <th>Method:</th>             <td>Least Squares</td>  <th>  F-statistic:       </th>          <td>   5807.</td>\n",
       "</tr>\n",
       "<tr>\n",
       "  <th>Date:</th>             <td>Mon, 22 Aug 2022</td> <th>  Prob (F-statistic):</th>           <td>  0.00</td> \n",
       "</tr>\n",
       "<tr>\n",
       "  <th>Time:</th>                 <td>06:37:24</td>     <th>  Log-Likelihood:    </th>          <td> -1455.9</td>\n",
       "</tr>\n",
       "<tr>\n",
       "  <th>No. Observations:</th>      <td>  1000</td>      <th>  AIC:               </th>          <td>   2916.</td>\n",
       "</tr>\n",
       "<tr>\n",
       "  <th>Df Residuals:</th>          <td>   998</td>      <th>  BIC:               </th>          <td>   2926.</td>\n",
       "</tr>\n",
       "<tr>\n",
       "  <th>Df Model:</th>              <td>     2</td>      <th>                     </th>              <td> </td>   \n",
       "</tr>\n",
       "<tr>\n",
       "  <th>Covariance Type:</th>      <td>nonrobust</td>    <th>                     </th>              <td> </td>   \n",
       "</tr>\n",
       "</table>\n",
       "<table class=\"simpletable\">\n",
       "<tr>\n",
       "   <td></td>     <th>coef</th>     <th>std err</th>      <th>t</th>      <th>P>|t|</th>  <th>[0.025</th>    <th>0.975]</th>  \n",
       "</tr>\n",
       "<tr>\n",
       "  <th>x1</th> <td>    1.6941</td> <td>    0.028</td> <td>   59.497</td> <td> 0.000</td> <td>    1.638</td> <td>    1.750</td>\n",
       "</tr>\n",
       "<tr>\n",
       "  <th>x2</th> <td>    4.8728</td> <td>    0.060</td> <td>   81.838</td> <td> 0.000</td> <td>    4.756</td> <td>    4.990</td>\n",
       "</tr>\n",
       "</table>\n",
       "<table class=\"simpletable\">\n",
       "<tr>\n",
       "  <th>Omnibus:</th>       <td> 5.302</td> <th>  Durbin-Watson:     </th> <td>   2.015</td>\n",
       "</tr>\n",
       "<tr>\n",
       "  <th>Prob(Omnibus):</th> <td> 0.071</td> <th>  Jarque-Bera (JB):  </th> <td>   5.269</td>\n",
       "</tr>\n",
       "<tr>\n",
       "  <th>Skew:</th>          <td>-0.154</td> <th>  Prob(JB):          </th> <td>  0.0718</td>\n",
       "</tr>\n",
       "<tr>\n",
       "  <th>Kurtosis:</th>      <td> 2.823</td> <th>  Cond. No.          </th> <td>    2.12</td>\n",
       "</tr>\n",
       "</table><br/><br/>Notes:<br/>[1] R² is computed without centering (uncentered) since the model does not contain a constant.<br/>[2] Standard Errors assume that the covariance matrix of the errors is correctly specified."
      ],
      "text/plain": [
       "<class 'statsmodels.iolib.summary.Summary'>\n",
       "\"\"\"\n",
       "                                 OLS Regression Results                                \n",
       "=======================================================================================\n",
       "Dep. Variable:                      y   R-squared (uncentered):                   0.921\n",
       "Model:                            OLS   Adj. R-squared (uncentered):              0.921\n",
       "Method:                 Least Squares   F-statistic:                              5807.\n",
       "Date:                Mon, 22 Aug 2022   Prob (F-statistic):                        0.00\n",
       "Time:                        06:37:24   Log-Likelihood:                         -1455.9\n",
       "No. Observations:                1000   AIC:                                      2916.\n",
       "Df Residuals:                     998   BIC:                                      2926.\n",
       "Df Model:                           2                                                  \n",
       "Covariance Type:            nonrobust                                                  \n",
       "==============================================================================\n",
       "                 coef    std err          t      P>|t|      [0.025      0.975]\n",
       "------------------------------------------------------------------------------\n",
       "x1             1.6941      0.028     59.497      0.000       1.638       1.750\n",
       "x2             4.8728      0.060     81.838      0.000       4.756       4.990\n",
       "==============================================================================\n",
       "Omnibus:                        5.302   Durbin-Watson:                   2.015\n",
       "Prob(Omnibus):                  0.071   Jarque-Bera (JB):                5.269\n",
       "Skew:                          -0.154   Prob(JB):                       0.0718\n",
       "Kurtosis:                       2.823   Cond. No.                         2.12\n",
       "==============================================================================\n",
       "\n",
       "Notes:\n",
       "[1] R² is computed without centering (uncentered) since the model does not contain a constant.\n",
       "[2] Standard Errors assume that the covariance matrix of the errors is correctly specified.\n",
       "\"\"\""
      ]
     },
     "execution_count": 10,
     "metadata": {},
     "output_type": "execute_result"
    }
   ],
   "source": [
    "model = OLS(np.asarray(df[outcome]), np.asarray(df[[common_cause, treatment]], dtype=np.float64))\n",
    "result = model.fit()\n",
    "result.summary()"
   ]
  }
 ],
 "metadata": {
  "kernelspec": {
   "display_name": "Python 3",
   "language": "python",
   "name": "python3"
  },
  "language_info": {
   "codemirror_mode": {
    "name": "ipython",
    "version": 3
   },
   "file_extension": ".py",
   "mimetype": "text/x-python",
   "name": "python",
   "nbconvert_exporter": "python",
   "pygments_lexer": "ipython3",
   "version": "3.8.10"
  },
  "toc": {
   "base_numbering": 1,
   "nav_menu": {},
   "number_sections": false,
   "sideBar": true,
   "skip_h1_title": true,
   "title_cell": "Table of Contents",
   "title_sidebar": "Contents",
   "toc_cell": false,
   "toc_position": {},
   "toc_section_display": true,
   "toc_window_display": false
  }
 },
 "nbformat": 4,
 "nbformat_minor": 4
}
