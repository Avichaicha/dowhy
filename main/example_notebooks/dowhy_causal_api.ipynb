{
 "cells": [
  {
   "cell_type": "markdown",
   "metadata": {},
   "source": [
    "# Demo for the DoWhy causal API\n",
    "We show a simple example of adding a causal extension to any dataframe. "
   ]
  },
  {
   "cell_type": "code",
   "execution_count": 1,
   "metadata": {
    "execution": {
     "iopub.execute_input": "2022-12-04T09:32:42.032811Z",
     "iopub.status.busy": "2022-12-04T09:32:42.032284Z",
     "iopub.status.idle": "2022-12-04T09:32:43.770684Z",
     "shell.execute_reply": "2022-12-04T09:32:43.770066Z"
    }
   },
   "outputs": [],
   "source": [
    "import dowhy.datasets\n",
    "import dowhy.api\n",
    "\n",
    "import numpy as np\n",
    "import pandas as pd\n",
    "\n",
    "from statsmodels.api import OLS"
   ]
  },
  {
   "cell_type": "code",
   "execution_count": 2,
   "metadata": {
    "execution": {
     "iopub.execute_input": "2022-12-04T09:32:43.774251Z",
     "iopub.status.busy": "2022-12-04T09:32:43.773902Z",
     "iopub.status.idle": "2022-12-04T09:32:43.816194Z",
     "shell.execute_reply": "2022-12-04T09:32:43.815313Z"
    }
   },
   "outputs": [
    {
     "data": {
      "text/html": [
       "<div>\n",
       "<style scoped>\n",
       "    .dataframe tbody tr th:only-of-type {\n",
       "        vertical-align: middle;\n",
       "    }\n",
       "\n",
       "    .dataframe tbody tr th {\n",
       "        vertical-align: top;\n",
       "    }\n",
       "\n",
       "    .dataframe thead th {\n",
       "        text-align: right;\n",
       "    }\n",
       "</style>\n",
       "<table border=\"1\" class=\"dataframe\">\n",
       "  <thead>\n",
       "    <tr style=\"text-align: right;\">\n",
       "      <th></th>\n",
       "      <th>W0</th>\n",
       "      <th>v0</th>\n",
       "      <th>y</th>\n",
       "    </tr>\n",
       "  </thead>\n",
       "  <tbody>\n",
       "    <tr>\n",
       "      <th>0</th>\n",
       "      <td>0.392822</td>\n",
       "      <td>True</td>\n",
       "      <td>8.810747</td>\n",
       "    </tr>\n",
       "    <tr>\n",
       "      <th>1</th>\n",
       "      <td>-0.304372</td>\n",
       "      <td>False</td>\n",
       "      <td>-2.969137</td>\n",
       "    </tr>\n",
       "    <tr>\n",
       "      <th>2</th>\n",
       "      <td>-0.286937</td>\n",
       "      <td>True</td>\n",
       "      <td>4.497802</td>\n",
       "    </tr>\n",
       "    <tr>\n",
       "      <th>3</th>\n",
       "      <td>0.306313</td>\n",
       "      <td>False</td>\n",
       "      <td>1.195031</td>\n",
       "    </tr>\n",
       "    <tr>\n",
       "      <th>4</th>\n",
       "      <td>-0.923261</td>\n",
       "      <td>False</td>\n",
       "      <td>-0.863731</td>\n",
       "    </tr>\n",
       "    <tr>\n",
       "      <th>...</th>\n",
       "      <td>...</td>\n",
       "      <td>...</td>\n",
       "      <td>...</td>\n",
       "    </tr>\n",
       "    <tr>\n",
       "      <th>995</th>\n",
       "      <td>1.030565</td>\n",
       "      <td>True</td>\n",
       "      <td>7.220006</td>\n",
       "    </tr>\n",
       "    <tr>\n",
       "      <th>996</th>\n",
       "      <td>-0.047610</td>\n",
       "      <td>False</td>\n",
       "      <td>-0.386622</td>\n",
       "    </tr>\n",
       "    <tr>\n",
       "      <th>997</th>\n",
       "      <td>-1.314791</td>\n",
       "      <td>False</td>\n",
       "      <td>-1.153460</td>\n",
       "    </tr>\n",
       "    <tr>\n",
       "      <th>998</th>\n",
       "      <td>-1.875311</td>\n",
       "      <td>False</td>\n",
       "      <td>-4.464416</td>\n",
       "    </tr>\n",
       "    <tr>\n",
       "      <th>999</th>\n",
       "      <td>-0.522554</td>\n",
       "      <td>False</td>\n",
       "      <td>0.679904</td>\n",
       "    </tr>\n",
       "  </tbody>\n",
       "</table>\n",
       "<p>1000 rows × 3 columns</p>\n",
       "</div>"
      ],
      "text/plain": [
       "           W0     v0         y\n",
       "0    0.392822   True  8.810747\n",
       "1   -0.304372  False -2.969137\n",
       "2   -0.286937   True  4.497802\n",
       "3    0.306313  False  1.195031\n",
       "4   -0.923261  False -0.863731\n",
       "..        ...    ...       ...\n",
       "995  1.030565   True  7.220006\n",
       "996 -0.047610  False -0.386622\n",
       "997 -1.314791  False -1.153460\n",
       "998 -1.875311  False -4.464416\n",
       "999 -0.522554  False  0.679904\n",
       "\n",
       "[1000 rows x 3 columns]"
      ]
     },
     "execution_count": 2,
     "metadata": {},
     "output_type": "execute_result"
    }
   ],
   "source": [
    "data = dowhy.datasets.linear_dataset(beta=5,\n",
    "        num_common_causes=1,\n",
    "        num_instruments = 0,\n",
    "        num_samples=1000,\n",
    "        treatment_is_binary=True)\n",
    "df = data['df']\n",
    "df['y'] = df['y'] + np.random.normal(size=len(df)) # Adding noise to data. Without noise, the variance in Y|X, Z is zero, and mcmc fails.\n",
    "#data['dot_graph'] = 'digraph { v ->y;X0-> v;X0-> y;}'\n",
    "\n",
    "treatment= data[\"treatment_name\"][0]\n",
    "outcome = data[\"outcome_name\"][0]\n",
    "common_cause = data[\"common_causes_names\"][0]\n",
    "df"
   ]
  },
  {
   "cell_type": "code",
   "execution_count": 3,
   "metadata": {
    "execution": {
     "iopub.execute_input": "2022-12-04T09:32:43.818762Z",
     "iopub.status.busy": "2022-12-04T09:32:43.818549Z",
     "iopub.status.idle": "2022-12-04T09:32:43.959827Z",
     "shell.execute_reply": "2022-12-04T09:32:43.959326Z"
    }
   },
   "outputs": [
    {
     "data": {
      "text/plain": [
       "<AxesSubplot: xlabel='v0'>"
      ]
     },
     "execution_count": 3,
     "metadata": {},
     "output_type": "execute_result"
    },
    {
     "data": {
      "image/png": "[encoded data removed]",
      "text/plain": [
       "<Figure size 640x480 with 1 Axes>"
      ]
     },
     "metadata": {},
     "output_type": "display_data"
    }
   ],
   "source": [
    "# data['df'] is just a regular pandas.DataFrame\n",
    "df.causal.do(x=treatment,\n",
    "                     variable_types={treatment: 'b', outcome: 'c', common_cause: 'c'},\n",
    "                     outcome=outcome,\n",
    "                     common_causes=[common_cause],\n",
    "                     proceed_when_unidentifiable=True).groupby(treatment).mean().plot(y=outcome, kind='bar')"
   ]
  },
  {
   "cell_type": "code",
   "execution_count": 4,
   "metadata": {
    "execution": {
     "iopub.execute_input": "2022-12-04T09:32:43.962741Z",
     "iopub.status.busy": "2022-12-04T09:32:43.962520Z",
     "iopub.status.idle": "2022-12-04T09:32:44.067236Z",
     "shell.execute_reply": "2022-12-04T09:32:44.066723Z"
    }
   },
   "outputs": [
    {
     "data": {
      "text/plain": [
       "<AxesSubplot: xlabel='v0'>"
      ]
     },
     "execution_count": 4,
     "metadata": {},
     "output_type": "execute_result"
    },
    {
     "data": {
      "image/png": "[encoded data removed]",
      "text/plain": [
       "<Figure size 640x480 with 1 Axes>"
      ]
     },
     "metadata": {},
     "output_type": "display_data"
    }
   ],
   "source": [
    "df.causal.do(x={treatment: 1}, \n",
    "              variable_types={treatment:'b', outcome: 'c', common_cause: 'c'}, \n",
    "              outcome=outcome,\n",
    "              method='weighting', \n",
    "              common_causes=[common_cause],\n",
    "              proceed_when_unidentifiable=True).groupby(treatment).mean().plot(y=outcome, kind='bar')"
   ]
  },
  {
   "cell_type": "code",
   "execution_count": 5,
   "metadata": {
    "execution": {
     "iopub.execute_input": "2022-12-04T09:32:44.070210Z",
     "iopub.status.busy": "2022-12-04T09:32:44.069797Z",
     "iopub.status.idle": "2022-12-04T09:32:44.099484Z",
     "shell.execute_reply": "2022-12-04T09:32:44.098975Z"
    }
   },
   "outputs": [],
   "source": [
    "cdf_1 = df.causal.do(x={treatment: 1}, \n",
    "              variable_types={treatment: 'b', outcome: 'c', common_cause: 'c'}, \n",
    "              outcome=outcome, \n",
    "              dot_graph=data['dot_graph'],\n",
    "              proceed_when_unidentifiable=True)\n",
    "\n",
    "cdf_0 = df.causal.do(x={treatment: 0}, \n",
    "              variable_types={treatment: 'b', outcome: 'c', common_cause: 'c'}, \n",
    "              outcome=outcome, \n",
    "              dot_graph=data['dot_graph'],\n",
    "              proceed_when_unidentifiable=True)\n"
   ]
  },
  {
   "cell_type": "code",
   "execution_count": 6,
   "metadata": {
    "execution": {
     "iopub.execute_input": "2022-12-04T09:32:44.102221Z",
     "iopub.status.busy": "2022-12-04T09:32:44.101829Z",
     "iopub.status.idle": "2022-12-04T09:32:44.111425Z",
     "shell.execute_reply": "2022-12-04T09:32:44.110970Z"
    },
    "scrolled": true
   },
   "outputs": [
    {
     "data": {
      "text/html": [
       "<div>\n",
       "<style scoped>\n",
       "    .dataframe tbody tr th:only-of-type {\n",
       "        vertical-align: middle;\n",
       "    }\n",
       "\n",
       "    .dataframe tbody tr th {\n",
       "        vertical-align: top;\n",
       "    }\n",
       "\n",
       "    .dataframe thead th {\n",
       "        text-align: right;\n",
       "    }\n",
       "</style>\n",
       "<table border=\"1\" class=\"dataframe\">\n",
       "  <thead>\n",
       "    <tr style=\"text-align: right;\">\n",
       "      <th></th>\n",
       "      <th>W0</th>\n",
       "      <th>v0</th>\n",
       "      <th>y</th>\n",
       "      <th>propensity_score</th>\n",
       "      <th>weight</th>\n",
       "    </tr>\n",
       "  </thead>\n",
       "  <tbody>\n",
       "    <tr>\n",
       "      <th>0</th>\n",
       "      <td>0.457946</td>\n",
       "      <td>False</td>\n",
       "      <td>0.456531</td>\n",
       "      <td>0.353042</td>\n",
       "      <td>2.832524</td>\n",
       "    </tr>\n",
       "    <tr>\n",
       "      <th>1</th>\n",
       "      <td>-1.199142</td>\n",
       "      <td>False</td>\n",
       "      <td>-1.833088</td>\n",
       "      <td>0.833501</td>\n",
       "      <td>1.199759</td>\n",
       "    </tr>\n",
       "    <tr>\n",
       "      <th>2</th>\n",
       "      <td>-2.015212</td>\n",
       "      <td>False</td>\n",
       "      <td>-5.495126</td>\n",
       "      <td>0.937152</td>\n",
       "      <td>1.067063</td>\n",
       "    </tr>\n",
       "    <tr>\n",
       "      <th>3</th>\n",
       "      <td>0.115679</td>\n",
       "      <td>False</td>\n",
       "      <td>0.680316</td>\n",
       "      <td>0.463089</td>\n",
       "      <td>2.159414</td>\n",
       "    </tr>\n",
       "    <tr>\n",
       "      <th>4</th>\n",
       "      <td>-1.134460</td>\n",
       "      <td>False</td>\n",
       "      <td>-2.981318</td>\n",
       "      <td>0.821146</td>\n",
       "      <td>1.217810</td>\n",
       "    </tr>\n",
       "    <tr>\n",
       "      <th>...</th>\n",
       "      <td>...</td>\n",
       "      <td>...</td>\n",
       "      <td>...</td>\n",
       "      <td>...</td>\n",
       "      <td>...</td>\n",
       "    </tr>\n",
       "    <tr>\n",
       "      <th>995</th>\n",
       "      <td>-1.193355</td>\n",
       "      <td>False</td>\n",
       "      <td>-3.384636</td>\n",
       "      <td>0.832424</td>\n",
       "      <td>1.201311</td>\n",
       "    </tr>\n",
       "    <tr>\n",
       "      <th>996</th>\n",
       "      <td>0.310917</td>\n",
       "      <td>False</td>\n",
       "      <td>1.120980</td>\n",
       "      <td>0.399141</td>\n",
       "      <td>2.505377</td>\n",
       "    </tr>\n",
       "    <tr>\n",
       "      <th>997</th>\n",
       "      <td>0.321507</td>\n",
       "      <td>False</td>\n",
       "      <td>0.041317</td>\n",
       "      <td>0.395749</td>\n",
       "      <td>2.526852</td>\n",
       "    </tr>\n",
       "    <tr>\n",
       "      <th>998</th>\n",
       "      <td>-0.226386</td>\n",
       "      <td>False</td>\n",
       "      <td>-1.229558</td>\n",
       "      <td>0.576786</td>\n",
       "      <td>1.733746</td>\n",
       "    </tr>\n",
       "    <tr>\n",
       "      <th>999</th>\n",
       "      <td>0.986486</td>\n",
       "      <td>False</td>\n",
       "      <td>1.509830</td>\n",
       "      <td>0.212050</td>\n",
       "      <td>4.715860</td>\n",
       "    </tr>\n",
       "  </tbody>\n",
       "</table>\n",
       "<p>1000 rows × 5 columns</p>\n",
       "</div>"
      ],
      "text/plain": [
       "           W0     v0         y  propensity_score    weight\n",
       "0    0.457946  False  0.456531          0.353042  2.832524\n",
       "1   -1.199142  False -1.833088          0.833501  1.199759\n",
       "2   -2.015212  False -5.495126          0.937152  1.067063\n",
       "3    0.115679  False  0.680316          0.463089  2.159414\n",
       "4   -1.134460  False -2.981318          0.821146  1.217810\n",
       "..        ...    ...       ...               ...       ...\n",
       "995 -1.193355  False -3.384636          0.832424  1.201311\n",
       "996  0.310917  False  1.120980          0.399141  2.505377\n",
       "997  0.321507  False  0.041317          0.395749  2.526852\n",
       "998 -0.226386  False -1.229558          0.576786  1.733746\n",
       "999  0.986486  False  1.509830          0.212050  4.715860\n",
       "\n",
       "[1000 rows x 5 columns]"
      ]
     },
     "execution_count": 6,
     "metadata": {},
     "output_type": "execute_result"
    }
   ],
   "source": [
    "cdf_0"
   ]
  },
  {
   "cell_type": "code",
   "execution_count": 7,
   "metadata": {
    "execution": {
     "iopub.execute_input": "2022-12-04T09:32:44.114012Z",
     "iopub.status.busy": "2022-12-04T09:32:44.113621Z",
     "iopub.status.idle": "2022-12-04T09:32:44.122693Z",
     "shell.execute_reply": "2022-12-04T09:32:44.122240Z"
    }
   },
   "outputs": [
    {
     "data": {
      "text/html": [
       "<div>\n",
       "<style scoped>\n",
       "    .dataframe tbody tr th:only-of-type {\n",
       "        vertical-align: middle;\n",
       "    }\n",
       "\n",
       "    .dataframe tbody tr th {\n",
       "        vertical-align: top;\n",
       "    }\n",
       "\n",
       "    .dataframe thead th {\n",
       "        text-align: right;\n",
       "    }\n",
       "</style>\n",
       "<table border=\"1\" class=\"dataframe\">\n",
       "  <thead>\n",
       "    <tr style=\"text-align: right;\">\n",
       "      <th></th>\n",
       "      <th>W0</th>\n",
       "      <th>v0</th>\n",
       "      <th>y</th>\n",
       "      <th>propensity_score</th>\n",
       "      <th>weight</th>\n",
       "    </tr>\n",
       "  </thead>\n",
       "  <tbody>\n",
       "    <tr>\n",
       "      <th>0</th>\n",
       "      <td>0.076595</td>\n",
       "      <td>True</td>\n",
       "      <td>5.988706</td>\n",
       "      <td>0.523892</td>\n",
       "      <td>1.908790</td>\n",
       "    </tr>\n",
       "    <tr>\n",
       "      <th>1</th>\n",
       "      <td>-0.818278</td>\n",
       "      <td>True</td>\n",
       "      <td>2.646413</td>\n",
       "      <td>0.249507</td>\n",
       "      <td>4.007898</td>\n",
       "    </tr>\n",
       "    <tr>\n",
       "      <th>2</th>\n",
       "      <td>-1.051352</td>\n",
       "      <td>True</td>\n",
       "      <td>4.196008</td>\n",
       "      <td>0.195765</td>\n",
       "      <td>5.108162</td>\n",
       "    </tr>\n",
       "    <tr>\n",
       "      <th>3</th>\n",
       "      <td>0.703028</td>\n",
       "      <td>True</td>\n",
       "      <td>6.939862</td>\n",
       "      <td>0.717782</td>\n",
       "      <td>1.393180</td>\n",
       "    </tr>\n",
       "    <tr>\n",
       "      <th>4</th>\n",
       "      <td>-0.377090</td>\n",
       "      <td>True</td>\n",
       "      <td>4.071257</td>\n",
       "      <td>0.374922</td>\n",
       "      <td>2.667221</td>\n",
       "    </tr>\n",
       "    <tr>\n",
       "      <th>...</th>\n",
       "      <td>...</td>\n",
       "      <td>...</td>\n",
       "      <td>...</td>\n",
       "      <td>...</td>\n",
       "      <td>...</td>\n",
       "    </tr>\n",
       "    <tr>\n",
       "      <th>995</th>\n",
       "      <td>-1.191720</td>\n",
       "      <td>True</td>\n",
       "      <td>4.244919</td>\n",
       "      <td>0.167881</td>\n",
       "      <td>5.956584</td>\n",
       "    </tr>\n",
       "    <tr>\n",
       "      <th>996</th>\n",
       "      <td>1.699409</td>\n",
       "      <td>True</td>\n",
       "      <td>8.494988</td>\n",
       "      <td>0.906033</td>\n",
       "      <td>1.103712</td>\n",
       "    </tr>\n",
       "    <tr>\n",
       "      <th>997</th>\n",
       "      <td>1.084022</td>\n",
       "      <td>True</td>\n",
       "      <td>6.290517</td>\n",
       "      <td>0.808928</td>\n",
       "      <td>1.236203</td>\n",
       "    </tr>\n",
       "    <tr>\n",
       "      <th>998</th>\n",
       "      <td>-0.458162</td>\n",
       "      <td>True</td>\n",
       "      <td>3.740624</td>\n",
       "      <td>0.349874</td>\n",
       "      <td>2.858168</td>\n",
       "    </tr>\n",
       "    <tr>\n",
       "      <th>999</th>\n",
       "      <td>1.084590</td>\n",
       "      <td>True</td>\n",
       "      <td>9.132613</td>\n",
       "      <td>0.809046</td>\n",
       "      <td>1.236024</td>\n",
       "    </tr>\n",
       "  </tbody>\n",
       "</table>\n",
       "<p>1000 rows × 5 columns</p>\n",
       "</div>"
      ],
      "text/plain": [
       "           W0    v0         y  propensity_score    weight\n",
       "0    0.076595  True  5.988706          0.523892  1.908790\n",
       "1   -0.818278  True  2.646413          0.249507  4.007898\n",
       "2   -1.051352  True  4.196008          0.195765  5.108162\n",
       "3    0.703028  True  6.939862          0.717782  1.393180\n",
       "4   -0.377090  True  4.071257          0.374922  2.667221\n",
       "..        ...   ...       ...               ...       ...\n",
       "995 -1.191720  True  4.244919          0.167881  5.956584\n",
       "996  1.699409  True  8.494988          0.906033  1.103712\n",
       "997  1.084022  True  6.290517          0.808928  1.236203\n",
       "998 -0.458162  True  3.740624          0.349874  2.858168\n",
       "999  1.084590  True  9.132613          0.809046  1.236024\n",
       "\n",
       "[1000 rows x 5 columns]"
      ]
     },
     "execution_count": 7,
     "metadata": {},
     "output_type": "execute_result"
    }
   ],
   "source": [
    "cdf_1"
   ]
  },
  {
   "cell_type": "markdown",
   "metadata": {},
   "source": [
    "## Comparing the estimate to Linear Regression\n",
    "First, estimating the effect using the causal data frame, and the 95% confidence interval."
   ]
  },
  {
   "cell_type": "code",
   "execution_count": 8,
   "metadata": {
    "execution": {
     "iopub.execute_input": "2022-12-04T09:32:44.125345Z",
     "iopub.status.busy": "2022-12-04T09:32:44.124966Z",
     "iopub.status.idle": "2022-12-04T09:32:44.180241Z",
     "shell.execute_reply": "2022-12-04T09:32:44.179784Z"
    }
   },
   "outputs": [
    {
     "data": {
      "image/png": "[encoded data removed]",
      "text/latex": [
       "$\\displaystyle 5.06301784193395$"
      ],
      "text/plain": [
       "5.0630178419339495"
      ]
     },
     "execution_count": 8,
     "metadata": {},
     "output_type": "execute_result"
    }
   ],
   "source": [
    "(cdf_1['y'] - cdf_0['y']).mean()"
   ]
  },
  {
   "cell_type": "code",
   "execution_count": 9,
   "metadata": {
    "execution": {
     "iopub.execute_input": "2022-12-04T09:32:44.182801Z",
     "iopub.status.busy": "2022-12-04T09:32:44.182399Z",
     "iopub.status.idle": "2022-12-04T09:32:44.201289Z",
     "shell.execute_reply": "2022-12-04T09:32:44.200705Z"
    }
   },
   "outputs": [
    {
     "data": {
      "image/png": "[encoded data removed]",
      "text/latex": [
       "$\\displaystyle 0.220900659960548$"
      ],
      "text/plain": [
       "0.22090065996054786"
      ]
     },
     "execution_count": 9,
     "metadata": {},
     "output_type": "execute_result"
    }
   ],
   "source": [
    "1.96*(cdf_1['y'] - cdf_0['y']).std() / np.sqrt(len(df))"
   ]
  },
  {
   "cell_type": "markdown",
   "metadata": {},
   "source": [
    "Comparing to the estimate from OLS."
   ]
  },
  {
   "cell_type": "code",
   "execution_count": 10,
   "metadata": {
    "execution": {
     "iopub.execute_input": "2022-12-04T09:32:44.203861Z",
     "iopub.status.busy": "2022-12-04T09:32:44.203648Z",
     "iopub.status.idle": "2022-12-04T09:32:44.218046Z",
     "shell.execute_reply": "2022-12-04T09:32:44.217463Z"
    }
   },
   "outputs": [
    {
     "data": {
      "text/html": [
       "<table class=\"simpletable\">\n",
       "<caption>OLS Regression Results</caption>\n",
       "<tr>\n",
       "  <th>Dep. Variable:</th>            <td>y</td>        <th>  R-squared (uncentered):</th>      <td>   0.955</td> \n",
       "</tr>\n",
       "<tr>\n",
       "  <th>Model:</th>                   <td>OLS</td>       <th>  Adj. R-squared (uncentered):</th> <td>   0.955</td> \n",
       "</tr>\n",
       "<tr>\n",
       "  <th>Method:</th>             <td>Least Squares</td>  <th>  F-statistic:       </th>          <td>1.071e+04</td>\n",
       "</tr>\n",
       "<tr>\n",
       "  <th>Date:</th>             <td>Sun, 04 Dec 2022</td> <th>  Prob (F-statistic):</th>           <td>  0.00</td>  \n",
       "</tr>\n",
       "<tr>\n",
       "  <th>Time:</th>                 <td>09:32:44</td>     <th>  Log-Likelihood:    </th>          <td> -1409.5</td> \n",
       "</tr>\n",
       "<tr>\n",
       "  <th>No. Observations:</th>      <td>  1000</td>      <th>  AIC:               </th>          <td>   2823.</td> \n",
       "</tr>\n",
       "<tr>\n",
       "  <th>Df Residuals:</th>          <td>   998</td>      <th>  BIC:               </th>          <td>   2833.</td> \n",
       "</tr>\n",
       "<tr>\n",
       "  <th>Df Model:</th>              <td>     2</td>      <th>                     </th>              <td> </td>    \n",
       "</tr>\n",
       "<tr>\n",
       "  <th>Covariance Type:</th>      <td>nonrobust</td>    <th>                     </th>              <td> </td>    \n",
       "</tr>\n",
       "</table>\n",
       "<table class=\"simpletable\">\n",
       "<tr>\n",
       "   <td></td>     <th>coef</th>     <th>std err</th>      <th>t</th>      <th>P>|t|</th>  <th>[0.025</th>    <th>0.975]</th>  \n",
       "</tr>\n",
       "<tr>\n",
       "  <th>x1</th> <td>    2.3926</td> <td>    0.032</td> <td>   74.505</td> <td> 0.000</td> <td>    2.330</td> <td>    2.456</td>\n",
       "</tr>\n",
       "<tr>\n",
       "  <th>x2</th> <td>    4.9167</td> <td>    0.048</td> <td>  102.831</td> <td> 0.000</td> <td>    4.823</td> <td>    5.011</td>\n",
       "</tr>\n",
       "</table>\n",
       "<table class=\"simpletable\">\n",
       "<tr>\n",
       "  <th>Omnibus:</th>       <td> 2.318</td> <th>  Durbin-Watson:     </th> <td>   1.991</td>\n",
       "</tr>\n",
       "<tr>\n",
       "  <th>Prob(Omnibus):</th> <td> 0.314</td> <th>  Jarque-Bera (JB):  </th> <td>   2.128</td>\n",
       "</tr>\n",
       "<tr>\n",
       "  <th>Skew:</th>          <td>-0.036</td> <th>  Prob(JB):          </th> <td>   0.345</td>\n",
       "</tr>\n",
       "<tr>\n",
       "  <th>Kurtosis:</th>      <td> 2.786</td> <th>  Cond. No.          </th> <td>    1.62</td>\n",
       "</tr>\n",
       "</table><br/><br/>Notes:<br/>[1] R² is computed without centering (uncentered) since the model does not contain a constant.<br/>[2] Standard Errors assume that the covariance matrix of the errors is correctly specified."
      ],
      "text/plain": [
       "<class 'statsmodels.iolib.summary.Summary'>\n",
       "\"\"\"\n",
       "                                 OLS Regression Results                                \n",
       "=======================================================================================\n",
       "Dep. Variable:                      y   R-squared (uncentered):                   0.955\n",
       "Model:                            OLS   Adj. R-squared (uncentered):              0.955\n",
       "Method:                 Least Squares   F-statistic:                          1.071e+04\n",
       "Date:                Sun, 04 Dec 2022   Prob (F-statistic):                        0.00\n",
       "Time:                        09:32:44   Log-Likelihood:                         -1409.5\n",
       "No. Observations:                1000   AIC:                                      2823.\n",
       "Df Residuals:                     998   BIC:                                      2833.\n",
       "Df Model:                           2                                                  \n",
       "Covariance Type:            nonrobust                                                  \n",
       "==============================================================================\n",
       "                 coef    std err          t      P>|t|      [0.025      0.975]\n",
       "------------------------------------------------------------------------------\n",
       "x1             2.3926      0.032     74.505      0.000       2.330       2.456\n",
       "x2             4.9167      0.048    102.831      0.000       4.823       5.011\n",
       "==============================================================================\n",
       "Omnibus:                        2.318   Durbin-Watson:                   1.991\n",
       "Prob(Omnibus):                  0.314   Jarque-Bera (JB):                2.128\n",
       "Skew:                          -0.036   Prob(JB):                        0.345\n",
       "Kurtosis:                       2.786   Cond. No.                         1.62\n",
       "==============================================================================\n",
       "\n",
       "Notes:\n",
       "[1] R² is computed without centering (uncentered) since the model does not contain a constant.\n",
       "[2] Standard Errors assume that the covariance matrix of the errors is correctly specified.\n",
       "\"\"\""
      ]
     },
     "execution_count": 10,
     "metadata": {},
     "output_type": "execute_result"
    }
   ],
   "source": [
    "model = OLS(np.asarray(df[outcome]), np.asarray(df[[common_cause, treatment]], dtype=np.float64))\n",
    "result = model.fit()\n",
    "result.summary()"
   ]
  }
 ],
 "metadata": {
  "kernelspec": {
   "display_name": "Python 3",
   "language": "python",
   "name": "python3"
  },
  "language_info": {
   "codemirror_mode": {
    "name": "ipython",
    "version": 3
   },
   "file_extension": ".py",
   "mimetype": "text/x-python",
   "name": "python",
   "nbconvert_exporter": "python",
   "pygments_lexer": "ipython3",
   "version": "3.8.10"
  },
  "toc": {
   "base_numbering": 1,
   "nav_menu": {},
   "number_sections": false,
   "sideBar": true,
   "skip_h1_title": true,
   "title_cell": "Table of Contents",
   "title_sidebar": "Contents",
   "toc_cell": false,
   "toc_position": {},
   "toc_section_display": true,
   "toc_window_display": false
  }
 },
 "nbformat": 4,
 "nbformat_minor": 4
}
