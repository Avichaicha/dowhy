{
 "cells": [
  {
   "cell_type": "markdown",
   "metadata": {},
   "source": [
    "# Demo for the DoWhy causal API\n",
    "We show a simple example of adding a causal extension to any dataframe. "
   ]
  },
  {
   "cell_type": "code",
   "execution_count": 1,
   "metadata": {
    "execution": {
     "iopub.execute_input": "2022-12-16T18:24:11.118338Z",
     "iopub.status.busy": "2022-12-16T18:24:11.117951Z",
     "iopub.status.idle": "2022-12-16T18:24:13.187188Z",
     "shell.execute_reply": "2022-12-16T18:24:13.186403Z"
    }
   },
   "outputs": [],
   "source": [
    "import dowhy.datasets\n",
    "import dowhy.api\n",
    "\n",
    "import numpy as np\n",
    "import pandas as pd\n",
    "\n",
    "from statsmodels.api import OLS"
   ]
  },
  {
   "cell_type": "code",
   "execution_count": 2,
   "metadata": {
    "execution": {
     "iopub.execute_input": "2022-12-16T18:24:13.191462Z",
     "iopub.status.busy": "2022-12-16T18:24:13.190917Z",
     "iopub.status.idle": "2022-12-16T18:24:13.239977Z",
     "shell.execute_reply": "2022-12-16T18:24:13.239383Z"
    }
   },
   "outputs": [
    {
     "data": {
      "text/html": [
       "<div>\n",
       "<style scoped>\n",
       "    .dataframe tbody tr th:only-of-type {\n",
       "        vertical-align: middle;\n",
       "    }\n",
       "\n",
       "    .dataframe tbody tr th {\n",
       "        vertical-align: top;\n",
       "    }\n",
       "\n",
       "    .dataframe thead th {\n",
       "        text-align: right;\n",
       "    }\n",
       "</style>\n",
       "<table border=\"1\" class=\"dataframe\">\n",
       "  <thead>\n",
       "    <tr style=\"text-align: right;\">\n",
       "      <th></th>\n",
       "      <th>W0</th>\n",
       "      <th>v0</th>\n",
       "      <th>y</th>\n",
       "    </tr>\n",
       "  </thead>\n",
       "  <tbody>\n",
       "    <tr>\n",
       "      <th>0</th>\n",
       "      <td>0.101864</td>\n",
       "      <td>True</td>\n",
       "      <td>5.706689</td>\n",
       "    </tr>\n",
       "    <tr>\n",
       "      <th>1</th>\n",
       "      <td>-1.180751</td>\n",
       "      <td>False</td>\n",
       "      <td>-1.442574</td>\n",
       "    </tr>\n",
       "    <tr>\n",
       "      <th>2</th>\n",
       "      <td>1.142004</td>\n",
       "      <td>True</td>\n",
       "      <td>4.478894</td>\n",
       "    </tr>\n",
       "    <tr>\n",
       "      <th>3</th>\n",
       "      <td>-0.940704</td>\n",
       "      <td>False</td>\n",
       "      <td>1.193336</td>\n",
       "    </tr>\n",
       "    <tr>\n",
       "      <th>4</th>\n",
       "      <td>-0.353198</td>\n",
       "      <td>False</td>\n",
       "      <td>-1.009174</td>\n",
       "    </tr>\n",
       "    <tr>\n",
       "      <th>...</th>\n",
       "      <td>...</td>\n",
       "      <td>...</td>\n",
       "      <td>...</td>\n",
       "    </tr>\n",
       "    <tr>\n",
       "      <th>995</th>\n",
       "      <td>-1.034259</td>\n",
       "      <td>False</td>\n",
       "      <td>-0.770315</td>\n",
       "    </tr>\n",
       "    <tr>\n",
       "      <th>996</th>\n",
       "      <td>0.840900</td>\n",
       "      <td>True</td>\n",
       "      <td>4.824461</td>\n",
       "    </tr>\n",
       "    <tr>\n",
       "      <th>997</th>\n",
       "      <td>0.820823</td>\n",
       "      <td>True</td>\n",
       "      <td>5.220251</td>\n",
       "    </tr>\n",
       "    <tr>\n",
       "      <th>998</th>\n",
       "      <td>0.179569</td>\n",
       "      <td>True</td>\n",
       "      <td>5.798508</td>\n",
       "    </tr>\n",
       "    <tr>\n",
       "      <th>999</th>\n",
       "      <td>-0.341998</td>\n",
       "      <td>False</td>\n",
       "      <td>-2.343360</td>\n",
       "    </tr>\n",
       "  </tbody>\n",
       "</table>\n",
       "<p>1000 rows × 3 columns</p>\n",
       "</div>"
      ],
      "text/plain": [
       "           W0     v0         y\n",
       "0    0.101864   True  5.706689\n",
       "1   -1.180751  False -1.442574\n",
       "2    1.142004   True  4.478894\n",
       "3   -0.940704  False  1.193336\n",
       "4   -0.353198  False -1.009174\n",
       "..        ...    ...       ...\n",
       "995 -1.034259  False -0.770315\n",
       "996  0.840900   True  4.824461\n",
       "997  0.820823   True  5.220251\n",
       "998  0.179569   True  5.798508\n",
       "999 -0.341998  False -2.343360\n",
       "\n",
       "[1000 rows x 3 columns]"
      ]
     },
     "execution_count": 2,
     "metadata": {},
     "output_type": "execute_result"
    }
   ],
   "source": [
    "data = dowhy.datasets.linear_dataset(beta=5,\n",
    "        num_common_causes=1,\n",
    "        num_instruments = 0,\n",
    "        num_samples=1000,\n",
    "        treatment_is_binary=True)\n",
    "df = data['df']\n",
    "df['y'] = df['y'] + np.random.normal(size=len(df)) # Adding noise to data. Without noise, the variance in Y|X, Z is zero, and mcmc fails.\n",
    "#data['dot_graph'] = 'digraph { v ->y;X0-> v;X0-> y;}'\n",
    "\n",
    "treatment= data[\"treatment_name\"][0]\n",
    "outcome = data[\"outcome_name\"][0]\n",
    "common_cause = data[\"common_causes_names\"][0]\n",
    "df"
   ]
  },
  {
   "cell_type": "code",
   "execution_count": 3,
   "metadata": {
    "execution": {
     "iopub.execute_input": "2022-12-16T18:24:13.243318Z",
     "iopub.status.busy": "2022-12-16T18:24:13.242867Z",
     "iopub.status.idle": "2022-12-16T18:24:13.389680Z",
     "shell.execute_reply": "2022-12-16T18:24:13.389140Z"
    }
   },
   "outputs": [
    {
     "data": {
      "text/plain": [
       "<AxesSubplot: xlabel='v0'>"
      ]
     },
     "execution_count": 3,
     "metadata": {},
     "output_type": "execute_result"
    },
    {
     "data": {
      "image/png": "[encoded data removed]",
      "text/plain": [
       "<Figure size 640x480 with 1 Axes>"
      ]
     },
     "metadata": {},
     "output_type": "display_data"
    }
   ],
   "source": [
    "# data['df'] is just a regular pandas.DataFrame\n",
    "df.causal.do(x=treatment,\n",
    "                     variable_types={treatment: 'b', outcome: 'c', common_cause: 'c'},\n",
    "                     outcome=outcome,\n",
    "                     common_causes=[common_cause],\n",
    "                     proceed_when_unidentifiable=True).groupby(treatment).mean().plot(y=outcome, kind='bar')"
   ]
  },
  {
   "cell_type": "code",
   "execution_count": 4,
   "metadata": {
    "execution": {
     "iopub.execute_input": "2022-12-16T18:24:13.392447Z",
     "iopub.status.busy": "2022-12-16T18:24:13.392085Z",
     "iopub.status.idle": "2022-12-16T18:24:13.503384Z",
     "shell.execute_reply": "2022-12-16T18:24:13.502745Z"
    }
   },
   "outputs": [
    {
     "data": {
      "text/plain": [
       "<AxesSubplot: xlabel='v0'>"
      ]
     },
     "execution_count": 4,
     "metadata": {},
     "output_type": "execute_result"
    },
    {
     "data": {
      "image/png": "[encoded data removed]",
      "text/plain": [
       "<Figure size 640x480 with 1 Axes>"
      ]
     },
     "metadata": {},
     "output_type": "display_data"
    }
   ],
   "source": [
    "df.causal.do(x={treatment: 1}, \n",
    "              variable_types={treatment:'b', outcome: 'c', common_cause: 'c'}, \n",
    "              outcome=outcome,\n",
    "              method='weighting', \n",
    "              common_causes=[common_cause],\n",
    "              proceed_when_unidentifiable=True).groupby(treatment).mean().plot(y=outcome, kind='bar')"
   ]
  },
  {
   "cell_type": "code",
   "execution_count": 5,
   "metadata": {
    "execution": {
     "iopub.execute_input": "2022-12-16T18:24:13.506473Z",
     "iopub.status.busy": "2022-12-16T18:24:13.506044Z",
     "iopub.status.idle": "2022-12-16T18:24:13.537644Z",
     "shell.execute_reply": "2022-12-16T18:24:13.537042Z"
    }
   },
   "outputs": [],
   "source": [
    "cdf_1 = df.causal.do(x={treatment: 1}, \n",
    "              variable_types={treatment: 'b', outcome: 'c', common_cause: 'c'}, \n",
    "              outcome=outcome, \n",
    "              dot_graph=data['dot_graph'],\n",
    "              proceed_when_unidentifiable=True)\n",
    "\n",
    "cdf_0 = df.causal.do(x={treatment: 0}, \n",
    "              variable_types={treatment: 'b', outcome: 'c', common_cause: 'c'}, \n",
    "              outcome=outcome, \n",
    "              dot_graph=data['dot_graph'],\n",
    "              proceed_when_unidentifiable=True)\n"
   ]
  },
  {
   "cell_type": "code",
   "execution_count": 6,
   "metadata": {
    "execution": {
     "iopub.execute_input": "2022-12-16T18:24:13.540634Z",
     "iopub.status.busy": "2022-12-16T18:24:13.540282Z",
     "iopub.status.idle": "2022-12-16T18:24:13.549960Z",
     "shell.execute_reply": "2022-12-16T18:24:13.549513Z"
    },
    "scrolled": true
   },
   "outputs": [
    {
     "data": {
      "text/html": [
       "<div>\n",
       "<style scoped>\n",
       "    .dataframe tbody tr th:only-of-type {\n",
       "        vertical-align: middle;\n",
       "    }\n",
       "\n",
       "    .dataframe tbody tr th {\n",
       "        vertical-align: top;\n",
       "    }\n",
       "\n",
       "    .dataframe thead th {\n",
       "        text-align: right;\n",
       "    }\n",
       "</style>\n",
       "<table border=\"1\" class=\"dataframe\">\n",
       "  <thead>\n",
       "    <tr style=\"text-align: right;\">\n",
       "      <th></th>\n",
       "      <th>W0</th>\n",
       "      <th>v0</th>\n",
       "      <th>y</th>\n",
       "      <th>propensity_score</th>\n",
       "      <th>weight</th>\n",
       "    </tr>\n",
       "  </thead>\n",
       "  <tbody>\n",
       "    <tr>\n",
       "      <th>0</th>\n",
       "      <td>1.035746</td>\n",
       "      <td>False</td>\n",
       "      <td>0.981922</td>\n",
       "      <td>0.055712</td>\n",
       "      <td>17.949374</td>\n",
       "    </tr>\n",
       "    <tr>\n",
       "      <th>1</th>\n",
       "      <td>1.130488</td>\n",
       "      <td>False</td>\n",
       "      <td>0.243994</td>\n",
       "      <td>0.044105</td>\n",
       "      <td>22.673017</td>\n",
       "    </tr>\n",
       "    <tr>\n",
       "      <th>2</th>\n",
       "      <td>-1.177293</td>\n",
       "      <td>False</td>\n",
       "      <td>-1.788099</td>\n",
       "      <td>0.948444</td>\n",
       "      <td>1.054359</td>\n",
       "    </tr>\n",
       "    <tr>\n",
       "      <th>3</th>\n",
       "      <td>-0.774397</td>\n",
       "      <td>False</td>\n",
       "      <td>-1.723342</td>\n",
       "      <td>0.866078</td>\n",
       "      <td>1.154630</td>\n",
       "    </tr>\n",
       "    <tr>\n",
       "      <th>4</th>\n",
       "      <td>0.065529</td>\n",
       "      <td>False</td>\n",
       "      <td>0.867803</td>\n",
       "      <td>0.422452</td>\n",
       "      <td>2.367135</td>\n",
       "    </tr>\n",
       "    <tr>\n",
       "      <th>...</th>\n",
       "      <td>...</td>\n",
       "      <td>...</td>\n",
       "      <td>...</td>\n",
       "      <td>...</td>\n",
       "      <td>...</td>\n",
       "    </tr>\n",
       "    <tr>\n",
       "      <th>995</th>\n",
       "      <td>-0.488466</td>\n",
       "      <td>False</td>\n",
       "      <td>-0.756769</td>\n",
       "      <td>0.754876</td>\n",
       "      <td>1.324722</td>\n",
       "    </tr>\n",
       "    <tr>\n",
       "      <th>996</th>\n",
       "      <td>-2.289265</td>\n",
       "      <td>False</td>\n",
       "      <td>0.885360</td>\n",
       "      <td>0.996974</td>\n",
       "      <td>1.003035</td>\n",
       "    </tr>\n",
       "    <tr>\n",
       "      <th>997</th>\n",
       "      <td>0.678382</td>\n",
       "      <td>False</td>\n",
       "      <td>-1.229648</td>\n",
       "      <td>0.129776</td>\n",
       "      <td>7.705612</td>\n",
       "    </tr>\n",
       "    <tr>\n",
       "      <th>998</th>\n",
       "      <td>0.863893</td>\n",
       "      <td>False</td>\n",
       "      <td>-0.410749</td>\n",
       "      <td>0.084377</td>\n",
       "      <td>11.851556</td>\n",
       "    </tr>\n",
       "    <tr>\n",
       "      <th>999</th>\n",
       "      <td>0.264245</td>\n",
       "      <td>False</td>\n",
       "      <td>0.838332</td>\n",
       "      <td>0.303995</td>\n",
       "      <td>3.289523</td>\n",
       "    </tr>\n",
       "  </tbody>\n",
       "</table>\n",
       "<p>1000 rows × 5 columns</p>\n",
       "</div>"
      ],
      "text/plain": [
       "           W0     v0         y  propensity_score     weight\n",
       "0    1.035746  False  0.981922          0.055712  17.949374\n",
       "1    1.130488  False  0.243994          0.044105  22.673017\n",
       "2   -1.177293  False -1.788099          0.948444   1.054359\n",
       "3   -0.774397  False -1.723342          0.866078   1.154630\n",
       "4    0.065529  False  0.867803          0.422452   2.367135\n",
       "..        ...    ...       ...               ...        ...\n",
       "995 -0.488466  False -0.756769          0.754876   1.324722\n",
       "996 -2.289265  False  0.885360          0.996974   1.003035\n",
       "997  0.678382  False -1.229648          0.129776   7.705612\n",
       "998  0.863893  False -0.410749          0.084377  11.851556\n",
       "999  0.264245  False  0.838332          0.303995   3.289523\n",
       "\n",
       "[1000 rows x 5 columns]"
      ]
     },
     "execution_count": 6,
     "metadata": {},
     "output_type": "execute_result"
    }
   ],
   "source": [
    "cdf_0"
   ]
  },
  {
   "cell_type": "code",
   "execution_count": 7,
   "metadata": {
    "execution": {
     "iopub.execute_input": "2022-12-16T18:24:13.552483Z",
     "iopub.status.busy": "2022-12-16T18:24:13.552153Z",
     "iopub.status.idle": "2022-12-16T18:24:13.561207Z",
     "shell.execute_reply": "2022-12-16T18:24:13.560758Z"
    }
   },
   "outputs": [
    {
     "data": {
      "text/html": [
       "<div>\n",
       "<style scoped>\n",
       "    .dataframe tbody tr th:only-of-type {\n",
       "        vertical-align: middle;\n",
       "    }\n",
       "\n",
       "    .dataframe tbody tr th {\n",
       "        vertical-align: top;\n",
       "    }\n",
       "\n",
       "    .dataframe thead th {\n",
       "        text-align: right;\n",
       "    }\n",
       "</style>\n",
       "<table border=\"1\" class=\"dataframe\">\n",
       "  <thead>\n",
       "    <tr style=\"text-align: right;\">\n",
       "      <th></th>\n",
       "      <th>W0</th>\n",
       "      <th>v0</th>\n",
       "      <th>y</th>\n",
       "      <th>propensity_score</th>\n",
       "      <th>weight</th>\n",
       "    </tr>\n",
       "  </thead>\n",
       "  <tbody>\n",
       "    <tr>\n",
       "      <th>0</th>\n",
       "      <td>0.755251</td>\n",
       "      <td>True</td>\n",
       "      <td>5.676761</td>\n",
       "      <td>0.891137</td>\n",
       "      <td>1.122162</td>\n",
       "    </tr>\n",
       "    <tr>\n",
       "      <th>1</th>\n",
       "      <td>-0.259723</td>\n",
       "      <td>True</td>\n",
       "      <td>4.749858</td>\n",
       "      <td>0.370226</td>\n",
       "      <td>2.701051</td>\n",
       "    </tr>\n",
       "    <tr>\n",
       "      <th>2</th>\n",
       "      <td>0.276677</td>\n",
       "      <td>True</td>\n",
       "      <td>5.039667</td>\n",
       "      <td>0.702787</td>\n",
       "      <td>1.422907</td>\n",
       "    </tr>\n",
       "    <tr>\n",
       "      <th>3</th>\n",
       "      <td>0.375314</td>\n",
       "      <td>True</td>\n",
       "      <td>5.474718</td>\n",
       "      <td>0.753347</td>\n",
       "      <td>1.327409</td>\n",
       "    </tr>\n",
       "    <tr>\n",
       "      <th>4</th>\n",
       "      <td>1.016223</td>\n",
       "      <td>True</td>\n",
       "      <td>6.633243</td>\n",
       "      <td>0.941562</td>\n",
       "      <td>1.062065</td>\n",
       "    </tr>\n",
       "    <tr>\n",
       "      <th>...</th>\n",
       "      <td>...</td>\n",
       "      <td>...</td>\n",
       "      <td>...</td>\n",
       "      <td>...</td>\n",
       "      <td>...</td>\n",
       "    </tr>\n",
       "    <tr>\n",
       "      <th>995</th>\n",
       "      <td>1.716627</td>\n",
       "      <td>True</td>\n",
       "      <td>4.924540</td>\n",
       "      <td>0.990018</td>\n",
       "      <td>1.010082</td>\n",
       "    </tr>\n",
       "    <tr>\n",
       "      <th>996</th>\n",
       "      <td>-1.073979</td>\n",
       "      <td>True</td>\n",
       "      <td>3.615461</td>\n",
       "      <td>0.066355</td>\n",
       "      <td>15.070415</td>\n",
       "    </tr>\n",
       "    <tr>\n",
       "      <th>997</th>\n",
       "      <td>0.748306</td>\n",
       "      <td>True</td>\n",
       "      <td>5.375911</td>\n",
       "      <td>0.889376</td>\n",
       "      <td>1.124384</td>\n",
       "    </tr>\n",
       "    <tr>\n",
       "      <th>998</th>\n",
       "      <td>0.685417</td>\n",
       "      <td>True</td>\n",
       "      <td>4.453182</td>\n",
       "      <td>0.872272</td>\n",
       "      <td>1.146431</td>\n",
       "    </tr>\n",
       "    <tr>\n",
       "      <th>999</th>\n",
       "      <td>-0.533253</td>\n",
       "      <td>True</td>\n",
       "      <td>5.364648</td>\n",
       "      <td>0.224262</td>\n",
       "      <td>4.459066</td>\n",
       "    </tr>\n",
       "  </tbody>\n",
       "</table>\n",
       "<p>1000 rows × 5 columns</p>\n",
       "</div>"
      ],
      "text/plain": [
       "           W0    v0         y  propensity_score     weight\n",
       "0    0.755251  True  5.676761          0.891137   1.122162\n",
       "1   -0.259723  True  4.749858          0.370226   2.701051\n",
       "2    0.276677  True  5.039667          0.702787   1.422907\n",
       "3    0.375314  True  5.474718          0.753347   1.327409\n",
       "4    1.016223  True  6.633243          0.941562   1.062065\n",
       "..        ...   ...       ...               ...        ...\n",
       "995  1.716627  True  4.924540          0.990018   1.010082\n",
       "996 -1.073979  True  3.615461          0.066355  15.070415\n",
       "997  0.748306  True  5.375911          0.889376   1.124384\n",
       "998  0.685417  True  4.453182          0.872272   1.146431\n",
       "999 -0.533253  True  5.364648          0.224262   4.459066\n",
       "\n",
       "[1000 rows x 5 columns]"
      ]
     },
     "execution_count": 7,
     "metadata": {},
     "output_type": "execute_result"
    }
   ],
   "source": [
    "cdf_1"
   ]
  },
  {
   "cell_type": "markdown",
   "metadata": {},
   "source": [
    "## Comparing the estimate to Linear Regression\n",
    "First, estimating the effect using the causal data frame, and the 95% confidence interval."
   ]
  },
  {
   "cell_type": "code",
   "execution_count": 8,
   "metadata": {
    "execution": {
     "iopub.execute_input": "2022-12-16T18:24:13.563808Z",
     "iopub.status.busy": "2022-12-16T18:24:13.563409Z",
     "iopub.status.idle": "2022-12-16T18:24:13.615141Z",
     "shell.execute_reply": "2022-12-16T18:24:13.614623Z"
    }
   },
   "outputs": [
    {
     "data": {
      "image/png": "[encoded data removed]",
      "text/latex": [
       "$\\displaystyle 4.9439416822474$"
      ],
      "text/plain": [
       "4.943941682247405"
      ]
     },
     "execution_count": 8,
     "metadata": {},
     "output_type": "execute_result"
    }
   ],
   "source": [
    "(cdf_1['y'] - cdf_0['y']).mean()"
   ]
  },
  {
   "cell_type": "code",
   "execution_count": 9,
   "metadata": {
    "execution": {
     "iopub.execute_input": "2022-12-16T18:24:13.617990Z",
     "iopub.status.busy": "2022-12-16T18:24:13.617618Z",
     "iopub.status.idle": "2022-12-16T18:24:13.637951Z",
     "shell.execute_reply": "2022-12-16T18:24:13.637280Z"
    }
   },
   "outputs": [
    {
     "data": {
      "image/png": "[encoded data removed]",
      "text/latex": [
       "$\\displaystyle 0.0915293675674021$"
      ],
      "text/plain": [
       "0.09152936756740207"
      ]
     },
     "execution_count": 9,
     "metadata": {},
     "output_type": "execute_result"
    }
   ],
   "source": [
    "1.96*(cdf_1['y'] - cdf_0['y']).std() / np.sqrt(len(df))"
   ]
  },
  {
   "cell_type": "markdown",
   "metadata": {},
   "source": [
    "Comparing to the estimate from OLS."
   ]
  },
  {
   "cell_type": "code",
   "execution_count": 10,
   "metadata": {
    "execution": {
     "iopub.execute_input": "2022-12-16T18:24:13.641000Z",
     "iopub.status.busy": "2022-12-16T18:24:13.640655Z",
     "iopub.status.idle": "2022-12-16T18:24:13.656530Z",
     "shell.execute_reply": "2022-12-16T18:24:13.655900Z"
    }
   },
   "outputs": [
    {
     "data": {
      "text/html": [
       "<table class=\"simpletable\">\n",
       "<caption>OLS Regression Results</caption>\n",
       "<tr>\n",
       "  <th>Dep. Variable:</th>            <td>y</td>        <th>  R-squared (uncentered):</th>      <td>   0.934</td>\n",
       "</tr>\n",
       "<tr>\n",
       "  <th>Model:</th>                   <td>OLS</td>       <th>  Adj. R-squared (uncentered):</th> <td>   0.934</td>\n",
       "</tr>\n",
       "<tr>\n",
       "  <th>Method:</th>             <td>Least Squares</td>  <th>  F-statistic:       </th>          <td>   7064.</td>\n",
       "</tr>\n",
       "<tr>\n",
       "  <th>Date:</th>             <td>Fri, 16 Dec 2022</td> <th>  Prob (F-statistic):</th>           <td>  0.00</td> \n",
       "</tr>\n",
       "<tr>\n",
       "  <th>Time:</th>                 <td>18:24:13</td>     <th>  Log-Likelihood:    </th>          <td> -1401.6</td>\n",
       "</tr>\n",
       "<tr>\n",
       "  <th>No. Observations:</th>      <td>  1000</td>      <th>  AIC:               </th>          <td>   2807.</td>\n",
       "</tr>\n",
       "<tr>\n",
       "  <th>Df Residuals:</th>          <td>   998</td>      <th>  BIC:               </th>          <td>   2817.</td>\n",
       "</tr>\n",
       "<tr>\n",
       "  <th>Df Model:</th>              <td>     2</td>      <th>                     </th>              <td> </td>   \n",
       "</tr>\n",
       "<tr>\n",
       "  <th>Covariance Type:</th>      <td>nonrobust</td>    <th>                     </th>              <td> </td>   \n",
       "</tr>\n",
       "</table>\n",
       "<table class=\"simpletable\">\n",
       "<tr>\n",
       "   <td></td>     <th>coef</th>     <th>std err</th>      <th>t</th>      <th>P>|t|</th>  <th>[0.025</th>    <th>0.975]</th>  \n",
       "</tr>\n",
       "<tr>\n",
       "  <th>x1</th> <td>    0.2130</td> <td>    0.036</td> <td>    5.939</td> <td> 0.000</td> <td>    0.143</td> <td>    0.283</td>\n",
       "</tr>\n",
       "<tr>\n",
       "  <th>x2</th> <td>    4.9560</td> <td>    0.049</td> <td>  101.842</td> <td> 0.000</td> <td>    4.860</td> <td>    5.051</td>\n",
       "</tr>\n",
       "</table>\n",
       "<table class=\"simpletable\">\n",
       "<tr>\n",
       "  <th>Omnibus:</th>       <td> 8.468</td> <th>  Durbin-Watson:     </th> <td>   2.046</td>\n",
       "</tr>\n",
       "<tr>\n",
       "  <th>Prob(Omnibus):</th> <td> 0.014</td> <th>  Jarque-Bera (JB):  </th> <td>  10.659</td>\n",
       "</tr>\n",
       "<tr>\n",
       "  <th>Skew:</th>          <td>-0.102</td> <th>  Prob(JB):          </th> <td> 0.00485</td>\n",
       "</tr>\n",
       "<tr>\n",
       "  <th>Kurtosis:</th>      <td> 3.462</td> <th>  Cond. No.          </th> <td>    1.83</td>\n",
       "</tr>\n",
       "</table><br/><br/>Notes:<br/>[1] R² is computed without centering (uncentered) since the model does not contain a constant.<br/>[2] Standard Errors assume that the covariance matrix of the errors is correctly specified."
      ],
      "text/plain": [
       "<class 'statsmodels.iolib.summary.Summary'>\n",
       "\"\"\"\n",
       "                                 OLS Regression Results                                \n",
       "=======================================================================================\n",
       "Dep. Variable:                      y   R-squared (uncentered):                   0.934\n",
       "Model:                            OLS   Adj. R-squared (uncentered):              0.934\n",
       "Method:                 Least Squares   F-statistic:                              7064.\n",
       "Date:                Fri, 16 Dec 2022   Prob (F-statistic):                        0.00\n",
       "Time:                        18:24:13   Log-Likelihood:                         -1401.6\n",
       "No. Observations:                1000   AIC:                                      2807.\n",
       "Df Residuals:                     998   BIC:                                      2817.\n",
       "Df Model:                           2                                                  \n",
       "Covariance Type:            nonrobust                                                  \n",
       "==============================================================================\n",
       "                 coef    std err          t      P>|t|      [0.025      0.975]\n",
       "------------------------------------------------------------------------------\n",
       "x1             0.2130      0.036      5.939      0.000       0.143       0.283\n",
       "x2             4.9560      0.049    101.842      0.000       4.860       5.051\n",
       "==============================================================================\n",
       "Omnibus:                        8.468   Durbin-Watson:                   2.046\n",
       "Prob(Omnibus):                  0.014   Jarque-Bera (JB):               10.659\n",
       "Skew:                          -0.102   Prob(JB):                      0.00485\n",
       "Kurtosis:                       3.462   Cond. No.                         1.83\n",
       "==============================================================================\n",
       "\n",
       "Notes:\n",
       "[1] R² is computed without centering (uncentered) since the model does not contain a constant.\n",
       "[2] Standard Errors assume that the covariance matrix of the errors is correctly specified.\n",
       "\"\"\""
      ]
     },
     "execution_count": 10,
     "metadata": {},
     "output_type": "execute_result"
    }
   ],
   "source": [
    "model = OLS(np.asarray(df[outcome]), np.asarray(df[[common_cause, treatment]], dtype=np.float64))\n",
    "result = model.fit()\n",
    "result.summary()"
   ]
  }
 ],
 "metadata": {
  "kernelspec": {
   "display_name": "Python 3",
   "language": "python",
   "name": "python3"
  },
  "language_info": {
   "codemirror_mode": {
    "name": "ipython",
    "version": 3
   },
   "file_extension": ".py",
   "mimetype": "text/x-python",
   "name": "python",
   "nbconvert_exporter": "python",
   "pygments_lexer": "ipython3",
   "version": "3.8.10"
  },
  "toc": {
   "base_numbering": 1,
   "nav_menu": {},
   "number_sections": false,
   "sideBar": true,
   "skip_h1_title": true,
   "title_cell": "Table of Contents",
   "title_sidebar": "Contents",
   "toc_cell": false,
   "toc_position": {},
   "toc_section_display": true,
   "toc_window_display": false
  }
 },
 "nbformat": 4,
 "nbformat_minor": 4
}
