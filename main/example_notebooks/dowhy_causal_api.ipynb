{
 "cells": [
  {
   "cell_type": "markdown",
   "metadata": {},
   "source": [
    "# Demo for the DoWhy causal API\n",
    "We show a simple example of adding a causal extension to any dataframe. "
   ]
  },
  {
   "cell_type": "code",
   "execution_count": 1,
   "metadata": {
    "execution": {
     "iopub.execute_input": "2022-11-09T17:21:05.214030Z",
     "iopub.status.busy": "2022-11-09T17:21:05.213602Z",
     "iopub.status.idle": "2022-11-09T17:21:07.674362Z",
     "shell.execute_reply": "2022-11-09T17:21:07.673137Z"
    }
   },
   "outputs": [],
   "source": [
    "import dowhy.datasets\n",
    "import dowhy.api\n",
    "\n",
    "import numpy as np\n",
    "import pandas as pd\n",
    "\n",
    "from statsmodels.api import OLS"
   ]
  },
  {
   "cell_type": "code",
   "execution_count": 2,
   "metadata": {
    "execution": {
     "iopub.execute_input": "2022-11-09T17:21:07.680573Z",
     "iopub.status.busy": "2022-11-09T17:21:07.679727Z",
     "iopub.status.idle": "2022-11-09T17:21:07.753250Z",
     "shell.execute_reply": "2022-11-09T17:21:07.750919Z"
    }
   },
   "outputs": [
    {
     "data": {
      "text/html": [
       "<div>\n",
       "<style scoped>\n",
       "    .dataframe tbody tr th:only-of-type {\n",
       "        vertical-align: middle;\n",
       "    }\n",
       "\n",
       "    .dataframe tbody tr th {\n",
       "        vertical-align: top;\n",
       "    }\n",
       "\n",
       "    .dataframe thead th {\n",
       "        text-align: right;\n",
       "    }\n",
       "</style>\n",
       "<table border=\"1\" class=\"dataframe\">\n",
       "  <thead>\n",
       "    <tr style=\"text-align: right;\">\n",
       "      <th></th>\n",
       "      <th>W0</th>\n",
       "      <th>v0</th>\n",
       "      <th>y</th>\n",
       "    </tr>\n",
       "  </thead>\n",
       "  <tbody>\n",
       "    <tr>\n",
       "      <th>0</th>\n",
       "      <td>1.699618</td>\n",
       "      <td>True</td>\n",
       "      <td>8.476413</td>\n",
       "    </tr>\n",
       "    <tr>\n",
       "      <th>1</th>\n",
       "      <td>0.164785</td>\n",
       "      <td>False</td>\n",
       "      <td>0.995393</td>\n",
       "    </tr>\n",
       "    <tr>\n",
       "      <th>2</th>\n",
       "      <td>1.446322</td>\n",
       "      <td>True</td>\n",
       "      <td>9.414950</td>\n",
       "    </tr>\n",
       "    <tr>\n",
       "      <th>3</th>\n",
       "      <td>1.858745</td>\n",
       "      <td>True</td>\n",
       "      <td>8.116729</td>\n",
       "    </tr>\n",
       "    <tr>\n",
       "      <th>4</th>\n",
       "      <td>2.339453</td>\n",
       "      <td>True</td>\n",
       "      <td>8.173810</td>\n",
       "    </tr>\n",
       "    <tr>\n",
       "      <th>...</th>\n",
       "      <td>...</td>\n",
       "      <td>...</td>\n",
       "      <td>...</td>\n",
       "    </tr>\n",
       "    <tr>\n",
       "      <th>995</th>\n",
       "      <td>0.428451</td>\n",
       "      <td>False</td>\n",
       "      <td>1.943005</td>\n",
       "    </tr>\n",
       "    <tr>\n",
       "      <th>996</th>\n",
       "      <td>0.041397</td>\n",
       "      <td>False</td>\n",
       "      <td>0.661395</td>\n",
       "    </tr>\n",
       "    <tr>\n",
       "      <th>997</th>\n",
       "      <td>1.839660</td>\n",
       "      <td>False</td>\n",
       "      <td>2.382140</td>\n",
       "    </tr>\n",
       "    <tr>\n",
       "      <th>998</th>\n",
       "      <td>0.156088</td>\n",
       "      <td>False</td>\n",
       "      <td>0.008426</td>\n",
       "    </tr>\n",
       "    <tr>\n",
       "      <th>999</th>\n",
       "      <td>-0.306350</td>\n",
       "      <td>True</td>\n",
       "      <td>5.855347</td>\n",
       "    </tr>\n",
       "  </tbody>\n",
       "</table>\n",
       "<p>1000 rows × 3 columns</p>\n",
       "</div>"
      ],
      "text/plain": [
       "           W0     v0         y\n",
       "0    1.699618   True  8.476413\n",
       "1    0.164785  False  0.995393\n",
       "2    1.446322   True  9.414950\n",
       "3    1.858745   True  8.116729\n",
       "4    2.339453   True  8.173810\n",
       "..        ...    ...       ...\n",
       "995  0.428451  False  1.943005\n",
       "996  0.041397  False  0.661395\n",
       "997  1.839660  False  2.382140\n",
       "998  0.156088  False  0.008426\n",
       "999 -0.306350   True  5.855347\n",
       "\n",
       "[1000 rows x 3 columns]"
      ]
     },
     "execution_count": 2,
     "metadata": {},
     "output_type": "execute_result"
    }
   ],
   "source": [
    "data = dowhy.datasets.linear_dataset(beta=5,\n",
    "        num_common_causes=1,\n",
    "        num_instruments = 0,\n",
    "        num_samples=1000,\n",
    "        treatment_is_binary=True)\n",
    "df = data['df']\n",
    "df['y'] = df['y'] + np.random.normal(size=len(df)) # Adding noise to data. Without noise, the variance in Y|X, Z is zero, and mcmc fails.\n",
    "#data['dot_graph'] = 'digraph { v ->y;X0-> v;X0-> y;}'\n",
    "\n",
    "treatment= data[\"treatment_name\"][0]\n",
    "outcome = data[\"outcome_name\"][0]\n",
    "common_cause = data[\"common_causes_names\"][0]\n",
    "df"
   ]
  },
  {
   "cell_type": "code",
   "execution_count": 3,
   "metadata": {
    "execution": {
     "iopub.execute_input": "2022-11-09T17:21:07.756708Z",
     "iopub.status.busy": "2022-11-09T17:21:07.756418Z",
     "iopub.status.idle": "2022-11-09T17:21:08.000887Z",
     "shell.execute_reply": "2022-11-09T17:21:08.000017Z"
    }
   },
   "outputs": [
    {
     "data": {
      "text/plain": [
       "<AxesSubplot: xlabel='v0'>"
      ]
     },
     "execution_count": 3,
     "metadata": {},
     "output_type": "execute_result"
    },
    {
     "data": {
      "image/png": "[encoded data removed]",
      "text/plain": [
       "<Figure size 640x480 with 1 Axes>"
      ]
     },
     "metadata": {},
     "output_type": "display_data"
    }
   ],
   "source": [
    "# data['df'] is just a regular pandas.DataFrame\n",
    "df.causal.do(x=treatment,\n",
    "                     variable_types={treatment: 'b', outcome: 'c', common_cause: 'c'},\n",
    "                     outcome=outcome,\n",
    "                     common_causes=[common_cause],\n",
    "                     proceed_when_unidentifiable=True).groupby(treatment).mean().plot(y=outcome, kind='bar')"
   ]
  },
  {
   "cell_type": "code",
   "execution_count": 4,
   "metadata": {
    "execution": {
     "iopub.execute_input": "2022-11-09T17:21:08.004964Z",
     "iopub.status.busy": "2022-11-09T17:21:08.004611Z",
     "iopub.status.idle": "2022-11-09T17:21:08.191887Z",
     "shell.execute_reply": "2022-11-09T17:21:08.190970Z"
    }
   },
   "outputs": [
    {
     "data": {
      "text/plain": [
       "<AxesSubplot: xlabel='v0'>"
      ]
     },
     "execution_count": 4,
     "metadata": {},
     "output_type": "execute_result"
    },
    {
     "data": {
      "image/png": "[encoded data removed]",
      "text/plain": [
       "<Figure size 640x480 with 1 Axes>"
      ]
     },
     "metadata": {},
     "output_type": "display_data"
    }
   ],
   "source": [
    "df.causal.do(x={treatment: 1}, \n",
    "              variable_types={treatment:'b', outcome: 'c', common_cause: 'c'}, \n",
    "              outcome=outcome,\n",
    "              method='weighting', \n",
    "              common_causes=[common_cause],\n",
    "              proceed_when_unidentifiable=True).groupby(treatment).mean().plot(y=outcome, kind='bar')"
   ]
  },
  {
   "cell_type": "code",
   "execution_count": 5,
   "metadata": {
    "execution": {
     "iopub.execute_input": "2022-11-09T17:21:08.195812Z",
     "iopub.status.busy": "2022-11-09T17:21:08.195524Z",
     "iopub.status.idle": "2022-11-09T17:21:08.242829Z",
     "shell.execute_reply": "2022-11-09T17:21:08.241802Z"
    }
   },
   "outputs": [],
   "source": [
    "cdf_1 = df.causal.do(x={treatment: 1}, \n",
    "              variable_types={treatment: 'b', outcome: 'c', common_cause: 'c'}, \n",
    "              outcome=outcome, \n",
    "              dot_graph=data['dot_graph'],\n",
    "              proceed_when_unidentifiable=True)\n",
    "\n",
    "cdf_0 = df.causal.do(x={treatment: 0}, \n",
    "              variable_types={treatment: 'b', outcome: 'c', common_cause: 'c'}, \n",
    "              outcome=outcome, \n",
    "              dot_graph=data['dot_graph'],\n",
    "              proceed_when_unidentifiable=True)\n"
   ]
  },
  {
   "cell_type": "code",
   "execution_count": 6,
   "metadata": {
    "execution": {
     "iopub.execute_input": "2022-11-09T17:21:08.247248Z",
     "iopub.status.busy": "2022-11-09T17:21:08.246896Z",
     "iopub.status.idle": "2022-11-09T17:21:08.260919Z",
     "shell.execute_reply": "2022-11-09T17:21:08.259976Z"
    },
    "scrolled": true
   },
   "outputs": [
    {
     "data": {
      "text/html": [
       "<div>\n",
       "<style scoped>\n",
       "    .dataframe tbody tr th:only-of-type {\n",
       "        vertical-align: middle;\n",
       "    }\n",
       "\n",
       "    .dataframe tbody tr th {\n",
       "        vertical-align: top;\n",
       "    }\n",
       "\n",
       "    .dataframe thead th {\n",
       "        text-align: right;\n",
       "    }\n",
       "</style>\n",
       "<table border=\"1\" class=\"dataframe\">\n",
       "  <thead>\n",
       "    <tr style=\"text-align: right;\">\n",
       "      <th></th>\n",
       "      <th>W0</th>\n",
       "      <th>v0</th>\n",
       "      <th>y</th>\n",
       "      <th>propensity_score</th>\n",
       "      <th>weight</th>\n",
       "    </tr>\n",
       "  </thead>\n",
       "  <tbody>\n",
       "    <tr>\n",
       "      <th>0</th>\n",
       "      <td>0.598707</td>\n",
       "      <td>False</td>\n",
       "      <td>1.520060</td>\n",
       "      <td>0.460447</td>\n",
       "      <td>2.171802</td>\n",
       "    </tr>\n",
       "    <tr>\n",
       "      <th>1</th>\n",
       "      <td>1.247679</td>\n",
       "      <td>False</td>\n",
       "      <td>2.178332</td>\n",
       "      <td>0.411907</td>\n",
       "      <td>2.427731</td>\n",
       "    </tr>\n",
       "    <tr>\n",
       "      <th>2</th>\n",
       "      <td>0.029824</td>\n",
       "      <td>False</td>\n",
       "      <td>1.029678</td>\n",
       "      <td>0.503655</td>\n",
       "      <td>1.985484</td>\n",
       "    </tr>\n",
       "    <tr>\n",
       "      <th>3</th>\n",
       "      <td>-0.206798</td>\n",
       "      <td>False</td>\n",
       "      <td>-1.496934</td>\n",
       "      <td>0.521649</td>\n",
       "      <td>1.916999</td>\n",
       "    </tr>\n",
       "    <tr>\n",
       "      <th>4</th>\n",
       "      <td>0.237217</td>\n",
       "      <td>False</td>\n",
       "      <td>-0.676592</td>\n",
       "      <td>0.487876</td>\n",
       "      <td>2.049703</td>\n",
       "    </tr>\n",
       "    <tr>\n",
       "      <th>...</th>\n",
       "      <td>...</td>\n",
       "      <td>...</td>\n",
       "      <td>...</td>\n",
       "      <td>...</td>\n",
       "      <td>...</td>\n",
       "    </tr>\n",
       "    <tr>\n",
       "      <th>995</th>\n",
       "      <td>1.339368</td>\n",
       "      <td>False</td>\n",
       "      <td>-0.052740</td>\n",
       "      <td>0.405163</td>\n",
       "      <td>2.468140</td>\n",
       "    </tr>\n",
       "    <tr>\n",
       "      <th>996</th>\n",
       "      <td>2.273854</td>\n",
       "      <td>False</td>\n",
       "      <td>3.744395</td>\n",
       "      <td>0.338844</td>\n",
       "      <td>2.951207</td>\n",
       "    </tr>\n",
       "    <tr>\n",
       "      <th>997</th>\n",
       "      <td>0.151600</td>\n",
       "      <td>False</td>\n",
       "      <td>-0.121714</td>\n",
       "      <td>0.494389</td>\n",
       "      <td>2.022700</td>\n",
       "    </tr>\n",
       "    <tr>\n",
       "      <th>998</th>\n",
       "      <td>1.638179</td>\n",
       "      <td>False</td>\n",
       "      <td>1.240243</td>\n",
       "      <td>0.383445</td>\n",
       "      <td>2.607938</td>\n",
       "    </tr>\n",
       "    <tr>\n",
       "      <th>999</th>\n",
       "      <td>2.429895</td>\n",
       "      <td>False</td>\n",
       "      <td>4.341983</td>\n",
       "      <td>0.328286</td>\n",
       "      <td>3.046122</td>\n",
       "    </tr>\n",
       "  </tbody>\n",
       "</table>\n",
       "<p>1000 rows × 5 columns</p>\n",
       "</div>"
      ],
      "text/plain": [
       "           W0     v0         y  propensity_score    weight\n",
       "0    0.598707  False  1.520060          0.460447  2.171802\n",
       "1    1.247679  False  2.178332          0.411907  2.427731\n",
       "2    0.029824  False  1.029678          0.503655  1.985484\n",
       "3   -0.206798  False -1.496934          0.521649  1.916999\n",
       "4    0.237217  False -0.676592          0.487876  2.049703\n",
       "..        ...    ...       ...               ...       ...\n",
       "995  1.339368  False -0.052740          0.405163  2.468140\n",
       "996  2.273854  False  3.744395          0.338844  2.951207\n",
       "997  0.151600  False -0.121714          0.494389  2.022700\n",
       "998  1.638179  False  1.240243          0.383445  2.607938\n",
       "999  2.429895  False  4.341983          0.328286  3.046122\n",
       "\n",
       "[1000 rows x 5 columns]"
      ]
     },
     "execution_count": 6,
     "metadata": {},
     "output_type": "execute_result"
    }
   ],
   "source": [
    "cdf_0"
   ]
  },
  {
   "cell_type": "code",
   "execution_count": 7,
   "metadata": {
    "execution": {
     "iopub.execute_input": "2022-11-09T17:21:08.265545Z",
     "iopub.status.busy": "2022-11-09T17:21:08.265112Z",
     "iopub.status.idle": "2022-11-09T17:21:08.278875Z",
     "shell.execute_reply": "2022-11-09T17:21:08.278052Z"
    }
   },
   "outputs": [
    {
     "data": {
      "text/html": [
       "<div>\n",
       "<style scoped>\n",
       "    .dataframe tbody tr th:only-of-type {\n",
       "        vertical-align: middle;\n",
       "    }\n",
       "\n",
       "    .dataframe tbody tr th {\n",
       "        vertical-align: top;\n",
       "    }\n",
       "\n",
       "    .dataframe thead th {\n",
       "        text-align: right;\n",
       "    }\n",
       "</style>\n",
       "<table border=\"1\" class=\"dataframe\">\n",
       "  <thead>\n",
       "    <tr style=\"text-align: right;\">\n",
       "      <th></th>\n",
       "      <th>W0</th>\n",
       "      <th>v0</th>\n",
       "      <th>y</th>\n",
       "      <th>propensity_score</th>\n",
       "      <th>weight</th>\n",
       "    </tr>\n",
       "  </thead>\n",
       "  <tbody>\n",
       "    <tr>\n",
       "      <th>0</th>\n",
       "      <td>1.280194</td>\n",
       "      <td>True</td>\n",
       "      <td>5.873533</td>\n",
       "      <td>0.590488</td>\n",
       "      <td>1.693514</td>\n",
       "    </tr>\n",
       "    <tr>\n",
       "      <th>1</th>\n",
       "      <td>2.482466</td>\n",
       "      <td>True</td>\n",
       "      <td>8.785363</td>\n",
       "      <td>0.675233</td>\n",
       "      <td>1.480971</td>\n",
       "    </tr>\n",
       "    <tr>\n",
       "      <th>2</th>\n",
       "      <td>1.462090</td>\n",
       "      <td>True</td>\n",
       "      <td>7.483441</td>\n",
       "      <td>0.603807</td>\n",
       "      <td>1.656159</td>\n",
       "    </tr>\n",
       "    <tr>\n",
       "      <th>3</th>\n",
       "      <td>-0.283367</td>\n",
       "      <td>True</td>\n",
       "      <td>3.869727</td>\n",
       "      <td>0.472539</td>\n",
       "      <td>2.116228</td>\n",
       "    </tr>\n",
       "    <tr>\n",
       "      <th>4</th>\n",
       "      <td>1.195127</td>\n",
       "      <td>True</td>\n",
       "      <td>6.940165</td>\n",
       "      <td>0.584212</td>\n",
       "      <td>1.711706</td>\n",
       "    </tr>\n",
       "    <tr>\n",
       "      <th>...</th>\n",
       "      <td>...</td>\n",
       "      <td>...</td>\n",
       "      <td>...</td>\n",
       "      <td>...</td>\n",
       "      <td>...</td>\n",
       "    </tr>\n",
       "    <tr>\n",
       "      <th>995</th>\n",
       "      <td>-0.746033</td>\n",
       "      <td>True</td>\n",
       "      <td>3.502553</td>\n",
       "      <td>0.437629</td>\n",
       "      <td>2.285038</td>\n",
       "    </tr>\n",
       "    <tr>\n",
       "      <th>996</th>\n",
       "      <td>-0.111351</td>\n",
       "      <td>True</td>\n",
       "      <td>4.197917</td>\n",
       "      <td>0.485605</td>\n",
       "      <td>2.059286</td>\n",
       "    </tr>\n",
       "    <tr>\n",
       "      <th>997</th>\n",
       "      <td>0.868924</td>\n",
       "      <td>True</td>\n",
       "      <td>8.249733</td>\n",
       "      <td>0.559910</td>\n",
       "      <td>1.786002</td>\n",
       "    </tr>\n",
       "    <tr>\n",
       "      <th>998</th>\n",
       "      <td>1.171077</td>\n",
       "      <td>True</td>\n",
       "      <td>6.601769</td>\n",
       "      <td>0.582433</td>\n",
       "      <td>1.716936</td>\n",
       "    </tr>\n",
       "    <tr>\n",
       "      <th>999</th>\n",
       "      <td>0.615763</td>\n",
       "      <td>True</td>\n",
       "      <td>5.240169</td>\n",
       "      <td>0.540842</td>\n",
       "      <td>1.848967</td>\n",
       "    </tr>\n",
       "  </tbody>\n",
       "</table>\n",
       "<p>1000 rows × 5 columns</p>\n",
       "</div>"
      ],
      "text/plain": [
       "           W0    v0         y  propensity_score    weight\n",
       "0    1.280194  True  5.873533          0.590488  1.693514\n",
       "1    2.482466  True  8.785363          0.675233  1.480971\n",
       "2    1.462090  True  7.483441          0.603807  1.656159\n",
       "3   -0.283367  True  3.869727          0.472539  2.116228\n",
       "4    1.195127  True  6.940165          0.584212  1.711706\n",
       "..        ...   ...       ...               ...       ...\n",
       "995 -0.746033  True  3.502553          0.437629  2.285038\n",
       "996 -0.111351  True  4.197917          0.485605  2.059286\n",
       "997  0.868924  True  8.249733          0.559910  1.786002\n",
       "998  1.171077  True  6.601769          0.582433  1.716936\n",
       "999  0.615763  True  5.240169          0.540842  1.848967\n",
       "\n",
       "[1000 rows x 5 columns]"
      ]
     },
     "execution_count": 7,
     "metadata": {},
     "output_type": "execute_result"
    }
   ],
   "source": [
    "cdf_1"
   ]
  },
  {
   "cell_type": "markdown",
   "metadata": {},
   "source": [
    "## Comparing the estimate to Linear Regression\n",
    "First, estimating the effect using the causal data frame, and the 95% confidence interval."
   ]
  },
  {
   "cell_type": "code",
   "execution_count": 8,
   "metadata": {
    "execution": {
     "iopub.execute_input": "2022-11-09T17:21:08.283298Z",
     "iopub.status.busy": "2022-11-09T17:21:08.282928Z",
     "iopub.status.idle": "2022-11-09T17:21:08.354340Z",
     "shell.execute_reply": "2022-11-09T17:21:08.353073Z"
    }
   },
   "outputs": [
    {
     "data": {
      "image/png": "[encoded data removed]",
      "text/latex": [
       "$\\displaystyle 4.97369632410009$"
      ],
      "text/plain": [
       "4.97369632410009"
      ]
     },
     "execution_count": 8,
     "metadata": {},
     "output_type": "execute_result"
    }
   ],
   "source": [
    "(cdf_1['y'] - cdf_0['y']).mean()"
   ]
  },
  {
   "cell_type": "code",
   "execution_count": 9,
   "metadata": {
    "execution": {
     "iopub.execute_input": "2022-11-09T17:21:08.358569Z",
     "iopub.status.busy": "2022-11-09T17:21:08.358266Z",
     "iopub.status.idle": "2022-11-09T17:21:08.382820Z",
     "shell.execute_reply": "2022-11-09T17:21:08.381988Z"
    }
   },
   "outputs": [
    {
     "data": {
      "image/png": "[encoded data removed]",
      "text/latex": [
       "$\\displaystyle 0.170702368951087$"
      ],
      "text/plain": [
       "0.1707023689510873"
      ]
     },
     "execution_count": 9,
     "metadata": {},
     "output_type": "execute_result"
    }
   ],
   "source": [
    "1.96*(cdf_1['y'] - cdf_0['y']).std() / np.sqrt(len(df))"
   ]
  },
  {
   "cell_type": "markdown",
   "metadata": {},
   "source": [
    "Comparing to the estimate from OLS."
   ]
  },
  {
   "cell_type": "code",
   "execution_count": 10,
   "metadata": {
    "execution": {
     "iopub.execute_input": "2022-11-09T17:21:08.386575Z",
     "iopub.status.busy": "2022-11-09T17:21:08.386316Z",
     "iopub.status.idle": "2022-11-09T17:21:08.406560Z",
     "shell.execute_reply": "2022-11-09T17:21:08.405701Z"
    }
   },
   "outputs": [
    {
     "data": {
      "text/html": [
       "<table class=\"simpletable\">\n",
       "<caption>OLS Regression Results</caption>\n",
       "<tr>\n",
       "  <th>Dep. Variable:</th>            <td>y</td>        <th>  R-squared (uncentered):</th>      <td>   0.960</td> \n",
       "</tr>\n",
       "<tr>\n",
       "  <th>Model:</th>                   <td>OLS</td>       <th>  Adj. R-squared (uncentered):</th> <td>   0.960</td> \n",
       "</tr>\n",
       "<tr>\n",
       "  <th>Method:</th>             <td>Least Squares</td>  <th>  F-statistic:       </th>          <td>1.187e+04</td>\n",
       "</tr>\n",
       "<tr>\n",
       "  <th>Date:</th>             <td>Wed, 09 Nov 2022</td> <th>  Prob (F-statistic):</th>           <td>  0.00</td>  \n",
       "</tr>\n",
       "<tr>\n",
       "  <th>Time:</th>                 <td>17:21:08</td>     <th>  Log-Likelihood:    </th>          <td> -1417.8</td> \n",
       "</tr>\n",
       "<tr>\n",
       "  <th>No. Observations:</th>      <td>  1000</td>      <th>  AIC:               </th>          <td>   2840.</td> \n",
       "</tr>\n",
       "<tr>\n",
       "  <th>Df Residuals:</th>          <td>   998</td>      <th>  BIC:               </th>          <td>   2849.</td> \n",
       "</tr>\n",
       "<tr>\n",
       "  <th>Df Model:</th>              <td>     2</td>      <th>                     </th>              <td> </td>    \n",
       "</tr>\n",
       "<tr>\n",
       "  <th>Covariance Type:</th>      <td>nonrobust</td>    <th>                     </th>              <td> </td>    \n",
       "</tr>\n",
       "</table>\n",
       "<table class=\"simpletable\">\n",
       "<tr>\n",
       "   <td></td>     <th>coef</th>     <th>std err</th>      <th>t</th>      <th>P>|t|</th>  <th>[0.025</th>    <th>0.975]</th>  \n",
       "</tr>\n",
       "<tr>\n",
       "  <th>x1</th> <td>    1.6660</td> <td>    0.031</td> <td>   53.420</td> <td> 0.000</td> <td>    1.605</td> <td>    1.727</td>\n",
       "</tr>\n",
       "<tr>\n",
       "  <th>x2</th> <td>    5.0013</td> <td>    0.049</td> <td>  102.532</td> <td> 0.000</td> <td>    4.906</td> <td>    5.097</td>\n",
       "</tr>\n",
       "</table>\n",
       "<table class=\"simpletable\">\n",
       "<tr>\n",
       "  <th>Omnibus:</th>       <td> 2.182</td> <th>  Durbin-Watson:     </th> <td>   1.959</td>\n",
       "</tr>\n",
       "<tr>\n",
       "  <th>Prob(Omnibus):</th> <td> 0.336</td> <th>  Jarque-Bera (JB):  </th> <td>   2.117</td>\n",
       "</tr>\n",
       "<tr>\n",
       "  <th>Skew:</th>          <td>-0.061</td> <th>  Prob(JB):          </th> <td>   0.347</td>\n",
       "</tr>\n",
       "<tr>\n",
       "  <th>Kurtosis:</th>      <td> 3.190</td> <th>  Cond. No.          </th> <td>    1.99</td>\n",
       "</tr>\n",
       "</table><br/><br/>Notes:<br/>[1] R² is computed without centering (uncentered) since the model does not contain a constant.<br/>[2] Standard Errors assume that the covariance matrix of the errors is correctly specified."
      ],
      "text/plain": [
       "<class 'statsmodels.iolib.summary.Summary'>\n",
       "\"\"\"\n",
       "                                 OLS Regression Results                                \n",
       "=======================================================================================\n",
       "Dep. Variable:                      y   R-squared (uncentered):                   0.960\n",
       "Model:                            OLS   Adj. R-squared (uncentered):              0.960\n",
       "Method:                 Least Squares   F-statistic:                          1.187e+04\n",
       "Date:                Wed, 09 Nov 2022   Prob (F-statistic):                        0.00\n",
       "Time:                        17:21:08   Log-Likelihood:                         -1417.8\n",
       "No. Observations:                1000   AIC:                                      2840.\n",
       "Df Residuals:                     998   BIC:                                      2849.\n",
       "Df Model:                           2                                                  \n",
       "Covariance Type:            nonrobust                                                  \n",
       "==============================================================================\n",
       "                 coef    std err          t      P>|t|      [0.025      0.975]\n",
       "------------------------------------------------------------------------------\n",
       "x1             1.6660      0.031     53.420      0.000       1.605       1.727\n",
       "x2             5.0013      0.049    102.532      0.000       4.906       5.097\n",
       "==============================================================================\n",
       "Omnibus:                        2.182   Durbin-Watson:                   1.959\n",
       "Prob(Omnibus):                  0.336   Jarque-Bera (JB):                2.117\n",
       "Skew:                          -0.061   Prob(JB):                        0.347\n",
       "Kurtosis:                       3.190   Cond. No.                         1.99\n",
       "==============================================================================\n",
       "\n",
       "Notes:\n",
       "[1] R² is computed without centering (uncentered) since the model does not contain a constant.\n",
       "[2] Standard Errors assume that the covariance matrix of the errors is correctly specified.\n",
       "\"\"\""
      ]
     },
     "execution_count": 10,
     "metadata": {},
     "output_type": "execute_result"
    }
   ],
   "source": [
    "model = OLS(np.asarray(df[outcome]), np.asarray(df[[common_cause, treatment]], dtype=np.float64))\n",
    "result = model.fit()\n",
    "result.summary()"
   ]
  }
 ],
 "metadata": {
  "kernelspec": {
   "display_name": "Python 3",
   "language": "python",
   "name": "python3"
  },
  "language_info": {
   "codemirror_mode": {
    "name": "ipython",
    "version": 3
   },
   "file_extension": ".py",
   "mimetype": "text/x-python",
   "name": "python",
   "nbconvert_exporter": "python",
   "pygments_lexer": "ipython3",
   "version": "3.8.10"
  },
  "toc": {
   "base_numbering": 1,
   "nav_menu": {},
   "number_sections": false,
   "sideBar": true,
   "skip_h1_title": true,
   "title_cell": "Table of Contents",
   "title_sidebar": "Contents",
   "toc_cell": false,
   "toc_position": {},
   "toc_section_display": true,
   "toc_window_display": false
  }
 },
 "nbformat": 4,
 "nbformat_minor": 4
}
