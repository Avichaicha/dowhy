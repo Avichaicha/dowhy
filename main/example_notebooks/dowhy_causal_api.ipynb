{
 "cells": [
  {
   "cell_type": "markdown",
   "metadata": {},
   "source": [
    "# Demo for the DoWhy causal API\n",
    "We show a simple example of adding a causal extension to any dataframe. "
   ]
  },
  {
   "cell_type": "code",
   "execution_count": 1,
   "metadata": {
    "execution": {
     "iopub.execute_input": "2022-09-14T20:10:16.950642Z",
     "iopub.status.busy": "2022-09-14T20:10:16.950098Z",
     "iopub.status.idle": "2022-09-14T20:10:18.295644Z",
     "shell.execute_reply": "2022-09-14T20:10:18.294584Z"
    }
   },
   "outputs": [],
   "source": [
    "import dowhy.datasets\n",
    "import dowhy.api\n",
    "\n",
    "import numpy as np\n",
    "import pandas as pd\n",
    "\n",
    "from statsmodels.api import OLS"
   ]
  },
  {
   "cell_type": "code",
   "execution_count": 2,
   "metadata": {
    "execution": {
     "iopub.execute_input": "2022-09-14T20:10:18.300508Z",
     "iopub.status.busy": "2022-09-14T20:10:18.299929Z",
     "iopub.status.idle": "2022-09-14T20:10:18.351078Z",
     "shell.execute_reply": "2022-09-14T20:10:18.350266Z"
    }
   },
   "outputs": [
    {
     "data": {
      "text/html": [
       "<div>\n",
       "<style scoped>\n",
       "    .dataframe tbody tr th:only-of-type {\n",
       "        vertical-align: middle;\n",
       "    }\n",
       "\n",
       "    .dataframe tbody tr th {\n",
       "        vertical-align: top;\n",
       "    }\n",
       "\n",
       "    .dataframe thead th {\n",
       "        text-align: right;\n",
       "    }\n",
       "</style>\n",
       "<table border=\"1\" class=\"dataframe\">\n",
       "  <thead>\n",
       "    <tr style=\"text-align: right;\">\n",
       "      <th></th>\n",
       "      <th>W0</th>\n",
       "      <th>v0</th>\n",
       "      <th>y</th>\n",
       "    </tr>\n",
       "  </thead>\n",
       "  <tbody>\n",
       "    <tr>\n",
       "      <th>0</th>\n",
       "      <td>0.283091</td>\n",
       "      <td>True</td>\n",
       "      <td>5.199643</td>\n",
       "    </tr>\n",
       "    <tr>\n",
       "      <th>1</th>\n",
       "      <td>-0.353235</td>\n",
       "      <td>False</td>\n",
       "      <td>-1.515609</td>\n",
       "    </tr>\n",
       "    <tr>\n",
       "      <th>2</th>\n",
       "      <td>-0.015820</td>\n",
       "      <td>False</td>\n",
       "      <td>-0.519809</td>\n",
       "    </tr>\n",
       "    <tr>\n",
       "      <th>3</th>\n",
       "      <td>1.821454</td>\n",
       "      <td>True</td>\n",
       "      <td>4.295236</td>\n",
       "    </tr>\n",
       "    <tr>\n",
       "      <th>4</th>\n",
       "      <td>1.612702</td>\n",
       "      <td>True</td>\n",
       "      <td>5.995519</td>\n",
       "    </tr>\n",
       "    <tr>\n",
       "      <th>...</th>\n",
       "      <td>...</td>\n",
       "      <td>...</td>\n",
       "      <td>...</td>\n",
       "    </tr>\n",
       "    <tr>\n",
       "      <th>995</th>\n",
       "      <td>-0.142148</td>\n",
       "      <td>False</td>\n",
       "      <td>-1.595339</td>\n",
       "    </tr>\n",
       "    <tr>\n",
       "      <th>996</th>\n",
       "      <td>0.942191</td>\n",
       "      <td>True</td>\n",
       "      <td>5.204843</td>\n",
       "    </tr>\n",
       "    <tr>\n",
       "      <th>997</th>\n",
       "      <td>2.382742</td>\n",
       "      <td>True</td>\n",
       "      <td>4.669635</td>\n",
       "    </tr>\n",
       "    <tr>\n",
       "      <th>998</th>\n",
       "      <td>0.899885</td>\n",
       "      <td>True</td>\n",
       "      <td>4.992588</td>\n",
       "    </tr>\n",
       "    <tr>\n",
       "      <th>999</th>\n",
       "      <td>-0.498500</td>\n",
       "      <td>False</td>\n",
       "      <td>-0.875079</td>\n",
       "    </tr>\n",
       "  </tbody>\n",
       "</table>\n",
       "<p>1000 rows × 3 columns</p>\n",
       "</div>"
      ],
      "text/plain": [
       "           W0     v0         y\n",
       "0    0.283091   True  5.199643\n",
       "1   -0.353235  False -1.515609\n",
       "2   -0.015820  False -0.519809\n",
       "3    1.821454   True  4.295236\n",
       "4    1.612702   True  5.995519\n",
       "..        ...    ...       ...\n",
       "995 -0.142148  False -1.595339\n",
       "996  0.942191   True  5.204843\n",
       "997  2.382742   True  4.669635\n",
       "998  0.899885   True  4.992588\n",
       "999 -0.498500  False -0.875079\n",
       "\n",
       "[1000 rows x 3 columns]"
      ]
     },
     "execution_count": 2,
     "metadata": {},
     "output_type": "execute_result"
    }
   ],
   "source": [
    "data = dowhy.datasets.linear_dataset(beta=5,\n",
    "        num_common_causes=1,\n",
    "        num_instruments = 0,\n",
    "        num_samples=1000,\n",
    "        treatment_is_binary=True)\n",
    "df = data['df']\n",
    "df['y'] = df['y'] + np.random.normal(size=len(df)) # Adding noise to data. Without noise, the variance in Y|X, Z is zero, and mcmc fails.\n",
    "#data['dot_graph'] = 'digraph { v ->y;X0-> v;X0-> y;}'\n",
    "\n",
    "treatment= data[\"treatment_name\"][0]\n",
    "outcome = data[\"outcome_name\"][0]\n",
    "common_cause = data[\"common_causes_names\"][0]\n",
    "df"
   ]
  },
  {
   "cell_type": "code",
   "execution_count": 3,
   "metadata": {
    "execution": {
     "iopub.execute_input": "2022-09-14T20:10:18.354485Z",
     "iopub.status.busy": "2022-09-14T20:10:18.354245Z",
     "iopub.status.idle": "2022-09-14T20:10:19.226654Z",
     "shell.execute_reply": "2022-09-14T20:10:19.226011Z"
    }
   },
   "outputs": [
    {
     "data": {
      "text/plain": [
       "<AxesSubplot:xlabel='v0'>"
      ]
     },
     "execution_count": 3,
     "metadata": {},
     "output_type": "execute_result"
    },
    {
     "data": {
      "image/png": "[encoded data removed]",
      "text/plain": [
       "<Figure size 640x480 with 1 Axes>"
      ]
     },
     "metadata": {},
     "output_type": "display_data"
    }
   ],
   "source": [
    "# data['df'] is just a regular pandas.DataFrame\n",
    "df.causal.do(x=treatment,\n",
    "                     variable_types={treatment: 'b', outcome: 'c', common_cause: 'c'},\n",
    "                     outcome=outcome,\n",
    "                     common_causes=[common_cause],\n",
    "                     proceed_when_unidentifiable=True).groupby(treatment).mean().plot(y=outcome, kind='bar')"
   ]
  },
  {
   "cell_type": "code",
   "execution_count": 4,
   "metadata": {
    "execution": {
     "iopub.execute_input": "2022-09-14T20:10:19.230665Z",
     "iopub.status.busy": "2022-09-14T20:10:19.230111Z",
     "iopub.status.idle": "2022-09-14T20:10:19.347804Z",
     "shell.execute_reply": "2022-09-14T20:10:19.347131Z"
    }
   },
   "outputs": [
    {
     "data": {
      "text/plain": [
       "<AxesSubplot:xlabel='v0'>"
      ]
     },
     "execution_count": 4,
     "metadata": {},
     "output_type": "execute_result"
    },
    {
     "data": {
      "image/png": "[encoded data removed]",
      "text/plain": [
       "<Figure size 640x480 with 1 Axes>"
      ]
     },
     "metadata": {},
     "output_type": "display_data"
    }
   ],
   "source": [
    "df.causal.do(x={treatment: 1}, \n",
    "              variable_types={treatment:'b', outcome: 'c', common_cause: 'c'}, \n",
    "              outcome=outcome,\n",
    "              method='weighting', \n",
    "              common_causes=[common_cause],\n",
    "              proceed_when_unidentifiable=True).groupby(treatment).mean().plot(y=outcome, kind='bar')"
   ]
  },
  {
   "cell_type": "code",
   "execution_count": 5,
   "metadata": {
    "execution": {
     "iopub.execute_input": "2022-09-14T20:10:19.351306Z",
     "iopub.status.busy": "2022-09-14T20:10:19.351038Z",
     "iopub.status.idle": "2022-09-14T20:10:19.385341Z",
     "shell.execute_reply": "2022-09-14T20:10:19.384696Z"
    }
   },
   "outputs": [],
   "source": [
    "cdf_1 = df.causal.do(x={treatment: 1}, \n",
    "              variable_types={treatment: 'b', outcome: 'c', common_cause: 'c'}, \n",
    "              outcome=outcome, \n",
    "              dot_graph=data['dot_graph'],\n",
    "              proceed_when_unidentifiable=True)\n",
    "\n",
    "cdf_0 = df.causal.do(x={treatment: 0}, \n",
    "              variable_types={treatment: 'b', outcome: 'c', common_cause: 'c'}, \n",
    "              outcome=outcome, \n",
    "              dot_graph=data['dot_graph'],\n",
    "              proceed_when_unidentifiable=True)\n"
   ]
  },
  {
   "cell_type": "code",
   "execution_count": 6,
   "metadata": {
    "execution": {
     "iopub.execute_input": "2022-09-14T20:10:19.388699Z",
     "iopub.status.busy": "2022-09-14T20:10:19.388442Z",
     "iopub.status.idle": "2022-09-14T20:10:19.401728Z",
     "shell.execute_reply": "2022-09-14T20:10:19.400986Z"
    },
    "scrolled": true
   },
   "outputs": [
    {
     "data": {
      "text/html": [
       "<div>\n",
       "<style scoped>\n",
       "    .dataframe tbody tr th:only-of-type {\n",
       "        vertical-align: middle;\n",
       "    }\n",
       "\n",
       "    .dataframe tbody tr th {\n",
       "        vertical-align: top;\n",
       "    }\n",
       "\n",
       "    .dataframe thead th {\n",
       "        text-align: right;\n",
       "    }\n",
       "</style>\n",
       "<table border=\"1\" class=\"dataframe\">\n",
       "  <thead>\n",
       "    <tr style=\"text-align: right;\">\n",
       "      <th></th>\n",
       "      <th>W0</th>\n",
       "      <th>v0</th>\n",
       "      <th>y</th>\n",
       "      <th>propensity_score</th>\n",
       "      <th>weight</th>\n",
       "    </tr>\n",
       "  </thead>\n",
       "  <tbody>\n",
       "    <tr>\n",
       "      <th>0</th>\n",
       "      <td>-0.557518</td>\n",
       "      <td>False</td>\n",
       "      <td>0.913513</td>\n",
       "      <td>0.599249</td>\n",
       "      <td>1.668756</td>\n",
       "    </tr>\n",
       "    <tr>\n",
       "      <th>1</th>\n",
       "      <td>1.813659</td>\n",
       "      <td>False</td>\n",
       "      <td>1.834664</td>\n",
       "      <td>0.218017</td>\n",
       "      <td>4.586802</td>\n",
       "    </tr>\n",
       "    <tr>\n",
       "      <th>2</th>\n",
       "      <td>2.476593</td>\n",
       "      <td>False</td>\n",
       "      <td>1.610868</td>\n",
       "      <td>0.148446</td>\n",
       "      <td>6.736466</td>\n",
       "    </tr>\n",
       "    <tr>\n",
       "      <th>3</th>\n",
       "      <td>0.187859</td>\n",
       "      <td>False</td>\n",
       "      <td>-1.028751</td>\n",
       "      <td>0.468630</td>\n",
       "      <td>2.133879</td>\n",
       "    </tr>\n",
       "    <tr>\n",
       "      <th>4</th>\n",
       "      <td>-0.655886</td>\n",
       "      <td>False</td>\n",
       "      <td>-0.697190</td>\n",
       "      <td>0.615860</td>\n",
       "      <td>1.623745</td>\n",
       "    </tr>\n",
       "    <tr>\n",
       "      <th>...</th>\n",
       "      <td>...</td>\n",
       "      <td>...</td>\n",
       "      <td>...</td>\n",
       "      <td>...</td>\n",
       "      <td>...</td>\n",
       "    </tr>\n",
       "    <tr>\n",
       "      <th>995</th>\n",
       "      <td>-0.001037</td>\n",
       "      <td>False</td>\n",
       "      <td>1.128471</td>\n",
       "      <td>0.502040</td>\n",
       "      <td>1.991875</td>\n",
       "    </tr>\n",
       "    <tr>\n",
       "      <th>996</th>\n",
       "      <td>2.281858</td>\n",
       "      <td>False</td>\n",
       "      <td>0.660271</td>\n",
       "      <td>0.166741</td>\n",
       "      <td>5.997336</td>\n",
       "    </tr>\n",
       "    <tr>\n",
       "      <th>997</th>\n",
       "      <td>2.238283</td>\n",
       "      <td>False</td>\n",
       "      <td>0.334788</td>\n",
       "      <td>0.171073</td>\n",
       "      <td>5.845446</td>\n",
       "    </tr>\n",
       "    <tr>\n",
       "      <th>998</th>\n",
       "      <td>2.191749</td>\n",
       "      <td>False</td>\n",
       "      <td>1.555940</td>\n",
       "      <td>0.175798</td>\n",
       "      <td>5.688332</td>\n",
       "    </tr>\n",
       "    <tr>\n",
       "      <th>999</th>\n",
       "      <td>0.380967</td>\n",
       "      <td>False</td>\n",
       "      <td>-0.156675</td>\n",
       "      <td>0.434766</td>\n",
       "      <td>2.300086</td>\n",
       "    </tr>\n",
       "  </tbody>\n",
       "</table>\n",
       "<p>1000 rows × 5 columns</p>\n",
       "</div>"
      ],
      "text/plain": [
       "           W0     v0         y  propensity_score    weight\n",
       "0   -0.557518  False  0.913513          0.599249  1.668756\n",
       "1    1.813659  False  1.834664          0.218017  4.586802\n",
       "2    2.476593  False  1.610868          0.148446  6.736466\n",
       "3    0.187859  False -1.028751          0.468630  2.133879\n",
       "4   -0.655886  False -0.697190          0.615860  1.623745\n",
       "..        ...    ...       ...               ...       ...\n",
       "995 -0.001037  False  1.128471          0.502040  1.991875\n",
       "996  2.281858  False  0.660271          0.166741  5.997336\n",
       "997  2.238283  False  0.334788          0.171073  5.845446\n",
       "998  2.191749  False  1.555940          0.175798  5.688332\n",
       "999  0.380967  False -0.156675          0.434766  2.300086\n",
       "\n",
       "[1000 rows x 5 columns]"
      ]
     },
     "execution_count": 6,
     "metadata": {},
     "output_type": "execute_result"
    }
   ],
   "source": [
    "cdf_0"
   ]
  },
  {
   "cell_type": "code",
   "execution_count": 7,
   "metadata": {
    "execution": {
     "iopub.execute_input": "2022-09-14T20:10:19.405055Z",
     "iopub.status.busy": "2022-09-14T20:10:19.404534Z",
     "iopub.status.idle": "2022-09-14T20:10:19.418451Z",
     "shell.execute_reply": "2022-09-14T20:10:19.417748Z"
    }
   },
   "outputs": [
    {
     "data": {
      "text/html": [
       "<div>\n",
       "<style scoped>\n",
       "    .dataframe tbody tr th:only-of-type {\n",
       "        vertical-align: middle;\n",
       "    }\n",
       "\n",
       "    .dataframe tbody tr th {\n",
       "        vertical-align: top;\n",
       "    }\n",
       "\n",
       "    .dataframe thead th {\n",
       "        text-align: right;\n",
       "    }\n",
       "</style>\n",
       "<table border=\"1\" class=\"dataframe\">\n",
       "  <thead>\n",
       "    <tr style=\"text-align: right;\">\n",
       "      <th></th>\n",
       "      <th>W0</th>\n",
       "      <th>v0</th>\n",
       "      <th>y</th>\n",
       "      <th>propensity_score</th>\n",
       "      <th>weight</th>\n",
       "    </tr>\n",
       "  </thead>\n",
       "  <tbody>\n",
       "    <tr>\n",
       "      <th>0</th>\n",
       "      <td>1.580402</td>\n",
       "      <td>True</td>\n",
       "      <td>6.212393</td>\n",
       "      <td>0.752509</td>\n",
       "      <td>1.328888</td>\n",
       "    </tr>\n",
       "    <tr>\n",
       "      <th>1</th>\n",
       "      <td>0.555505</td>\n",
       "      <td>True</td>\n",
       "      <td>5.437542</td>\n",
       "      <td>0.595334</td>\n",
       "      <td>1.679728</td>\n",
       "    </tr>\n",
       "    <tr>\n",
       "      <th>2</th>\n",
       "      <td>0.530545</td>\n",
       "      <td>True</td>\n",
       "      <td>4.743584</td>\n",
       "      <td>0.591068</td>\n",
       "      <td>1.691853</td>\n",
       "    </tr>\n",
       "    <tr>\n",
       "      <th>3</th>\n",
       "      <td>2.717871</td>\n",
       "      <td>True</td>\n",
       "      <td>5.844916</td>\n",
       "      <td>0.871887</td>\n",
       "      <td>1.146937</td>\n",
       "    </tr>\n",
       "    <tr>\n",
       "      <th>4</th>\n",
       "      <td>-0.606583</td>\n",
       "      <td>True</td>\n",
       "      <td>2.743568</td>\n",
       "      <td>0.392434</td>\n",
       "      <td>2.548196</td>\n",
       "    </tr>\n",
       "    <tr>\n",
       "      <th>...</th>\n",
       "      <td>...</td>\n",
       "      <td>...</td>\n",
       "      <td>...</td>\n",
       "      <td>...</td>\n",
       "      <td>...</td>\n",
       "    </tr>\n",
       "    <tr>\n",
       "      <th>995</th>\n",
       "      <td>0.728804</td>\n",
       "      <td>True</td>\n",
       "      <td>6.456612</td>\n",
       "      <td>0.624529</td>\n",
       "      <td>1.601207</td>\n",
       "    </tr>\n",
       "    <tr>\n",
       "      <th>996</th>\n",
       "      <td>-2.000898</td>\n",
       "      <td>True</td>\n",
       "      <td>2.180986</td>\n",
       "      <td>0.193920</td>\n",
       "      <td>5.156767</td>\n",
       "    </tr>\n",
       "    <tr>\n",
       "      <th>997</th>\n",
       "      <td>2.311058</td>\n",
       "      <td>True</td>\n",
       "      <td>7.053158</td>\n",
       "      <td>0.836113</td>\n",
       "      <td>1.196010</td>\n",
       "    </tr>\n",
       "    <tr>\n",
       "      <th>998</th>\n",
       "      <td>2.318176</td>\n",
       "      <td>True</td>\n",
       "      <td>7.168554</td>\n",
       "      <td>0.836803</td>\n",
       "      <td>1.195025</td>\n",
       "    </tr>\n",
       "    <tr>\n",
       "      <th>999</th>\n",
       "      <td>0.124819</td>\n",
       "      <td>True</td>\n",
       "      <td>4.127000</td>\n",
       "      <td>0.520237</td>\n",
       "      <td>1.922202</td>\n",
       "    </tr>\n",
       "  </tbody>\n",
       "</table>\n",
       "<p>1000 rows × 5 columns</p>\n",
       "</div>"
      ],
      "text/plain": [
       "           W0    v0         y  propensity_score    weight\n",
       "0    1.580402  True  6.212393          0.752509  1.328888\n",
       "1    0.555505  True  5.437542          0.595334  1.679728\n",
       "2    0.530545  True  4.743584          0.591068  1.691853\n",
       "3    2.717871  True  5.844916          0.871887  1.146937\n",
       "4   -0.606583  True  2.743568          0.392434  2.548196\n",
       "..        ...   ...       ...               ...       ...\n",
       "995  0.728804  True  6.456612          0.624529  1.601207\n",
       "996 -2.000898  True  2.180986          0.193920  5.156767\n",
       "997  2.311058  True  7.053158          0.836113  1.196010\n",
       "998  2.318176  True  7.168554          0.836803  1.195025\n",
       "999  0.124819  True  4.127000          0.520237  1.922202\n",
       "\n",
       "[1000 rows x 5 columns]"
      ]
     },
     "execution_count": 7,
     "metadata": {},
     "output_type": "execute_result"
    }
   ],
   "source": [
    "cdf_1"
   ]
  },
  {
   "cell_type": "markdown",
   "metadata": {},
   "source": [
    "## Comparing the estimate to Linear Regression\n",
    "First, estimating the effect using the causal data frame, and the 95% confidence interval."
   ]
  },
  {
   "cell_type": "code",
   "execution_count": 8,
   "metadata": {
    "execution": {
     "iopub.execute_input": "2022-09-14T20:10:19.422116Z",
     "iopub.status.busy": "2022-09-14T20:10:19.421374Z",
     "iopub.status.idle": "2022-09-14T20:10:19.538957Z",
     "shell.execute_reply": "2022-09-14T20:10:19.538036Z"
    }
   },
   "outputs": [
    {
     "data": {
      "image/png": "[encoded data removed]",
      "text/latex": [
       "$\\displaystyle 4.99816672846487$"
      ],
      "text/plain": [
       "4.998166728464868"
      ]
     },
     "execution_count": 8,
     "metadata": {},
     "output_type": "execute_result"
    }
   ],
   "source": [
    "(cdf_1['y'] - cdf_0['y']).mean()"
   ]
  },
  {
   "cell_type": "code",
   "execution_count": 9,
   "metadata": {
    "execution": {
     "iopub.execute_input": "2022-09-14T20:10:19.543256Z",
     "iopub.status.busy": "2022-09-14T20:10:19.542565Z",
     "iopub.status.idle": "2022-09-14T20:10:19.573430Z",
     "shell.execute_reply": "2022-09-14T20:10:19.572621Z"
    }
   },
   "outputs": [
    {
     "data": {
      "image/png": "[encoded data removed]",
      "text/latex": [
       "$\\displaystyle 0.0953120671398688$"
      ],
      "text/plain": [
       "0.0953120671398688"
      ]
     },
     "execution_count": 9,
     "metadata": {},
     "output_type": "execute_result"
    }
   ],
   "source": [
    "1.96*(cdf_1['y'] - cdf_0['y']).std() / np.sqrt(len(df))"
   ]
  },
  {
   "cell_type": "markdown",
   "metadata": {},
   "source": [
    "Comparing to the estimate from OLS."
   ]
  },
  {
   "cell_type": "code",
   "execution_count": 10,
   "metadata": {
    "execution": {
     "iopub.execute_input": "2022-09-14T20:10:19.577732Z",
     "iopub.status.busy": "2022-09-14T20:10:19.577094Z",
     "iopub.status.idle": "2022-09-14T20:10:19.596766Z",
     "shell.execute_reply": "2022-09-14T20:10:19.596116Z"
    }
   },
   "outputs": [
    {
     "data": {
      "text/html": [
       "<table class=\"simpletable\">\n",
       "<caption>OLS Regression Results</caption>\n",
       "<tr>\n",
       "  <th>Dep. Variable:</th>            <td>y</td>        <th>  R-squared (uncentered):</th>      <td>   0.943</td>\n",
       "</tr>\n",
       "<tr>\n",
       "  <th>Model:</th>                   <td>OLS</td>       <th>  Adj. R-squared (uncentered):</th> <td>   0.942</td>\n",
       "</tr>\n",
       "<tr>\n",
       "  <th>Method:</th>             <td>Least Squares</td>  <th>  F-statistic:       </th>          <td>   8191.</td>\n",
       "</tr>\n",
       "<tr>\n",
       "  <th>Date:</th>             <td>Wed, 14 Sep 2022</td> <th>  Prob (F-statistic):</th>           <td>  0.00</td> \n",
       "</tr>\n",
       "<tr>\n",
       "  <th>Time:</th>                 <td>20:10:19</td>     <th>  Log-Likelihood:    </th>          <td> -1460.9</td>\n",
       "</tr>\n",
       "<tr>\n",
       "  <th>No. Observations:</th>      <td>  1000</td>      <th>  AIC:               </th>          <td>   2926.</td>\n",
       "</tr>\n",
       "<tr>\n",
       "  <th>Df Residuals:</th>          <td>   998</td>      <th>  BIC:               </th>          <td>   2936.</td>\n",
       "</tr>\n",
       "<tr>\n",
       "  <th>Df Model:</th>              <td>     2</td>      <th>                     </th>              <td> </td>   \n",
       "</tr>\n",
       "<tr>\n",
       "  <th>Covariance Type:</th>      <td>nonrobust</td>    <th>                     </th>              <td> </td>   \n",
       "</tr>\n",
       "</table>\n",
       "<table class=\"simpletable\">\n",
       "<tr>\n",
       "   <td></td>     <th>coef</th>     <th>std err</th>      <th>t</th>      <th>P>|t|</th>  <th>[0.025</th>    <th>0.975]</th>  \n",
       "</tr>\n",
       "<tr>\n",
       "  <th>x1</th> <td>    0.3377</td> <td>    0.033</td> <td>   10.099</td> <td> 0.000</td> <td>    0.272</td> <td>    0.403</td>\n",
       "</tr>\n",
       "<tr>\n",
       "  <th>x2</th> <td>    5.0636</td> <td>    0.053</td> <td>   94.895</td> <td> 0.000</td> <td>    4.959</td> <td>    5.168</td>\n",
       "</tr>\n",
       "</table>\n",
       "<table class=\"simpletable\">\n",
       "<tr>\n",
       "  <th>Omnibus:</th>       <td> 5.173</td> <th>  Durbin-Watson:     </th> <td>   1.962</td>\n",
       "</tr>\n",
       "<tr>\n",
       "  <th>Prob(Omnibus):</th> <td> 0.075</td> <th>  Jarque-Bera (JB):  </th> <td>   4.178</td>\n",
       "</tr>\n",
       "<tr>\n",
       "  <th>Skew:</th>          <td>-0.056</td> <th>  Prob(JB):          </th> <td>   0.124</td>\n",
       "</tr>\n",
       "<tr>\n",
       "  <th>Kurtosis:</th>      <td> 2.703</td> <th>  Cond. No.          </th> <td>    2.39</td>\n",
       "</tr>\n",
       "</table><br/><br/>Notes:<br/>[1] R² is computed without centering (uncentered) since the model does not contain a constant.<br/>[2] Standard Errors assume that the covariance matrix of the errors is correctly specified."
      ],
      "text/plain": [
       "<class 'statsmodels.iolib.summary.Summary'>\n",
       "\"\"\"\n",
       "                                 OLS Regression Results                                \n",
       "=======================================================================================\n",
       "Dep. Variable:                      y   R-squared (uncentered):                   0.943\n",
       "Model:                            OLS   Adj. R-squared (uncentered):              0.942\n",
       "Method:                 Least Squares   F-statistic:                              8191.\n",
       "Date:                Wed, 14 Sep 2022   Prob (F-statistic):                        0.00\n",
       "Time:                        20:10:19   Log-Likelihood:                         -1460.9\n",
       "No. Observations:                1000   AIC:                                      2926.\n",
       "Df Residuals:                     998   BIC:                                      2936.\n",
       "Df Model:                           2                                                  \n",
       "Covariance Type:            nonrobust                                                  \n",
       "==============================================================================\n",
       "                 coef    std err          t      P>|t|      [0.025      0.975]\n",
       "------------------------------------------------------------------------------\n",
       "x1             0.3377      0.033     10.099      0.000       0.272       0.403\n",
       "x2             5.0636      0.053     94.895      0.000       4.959       5.168\n",
       "==============================================================================\n",
       "Omnibus:                        5.173   Durbin-Watson:                   1.962\n",
       "Prob(Omnibus):                  0.075   Jarque-Bera (JB):                4.178\n",
       "Skew:                          -0.056   Prob(JB):                        0.124\n",
       "Kurtosis:                       2.703   Cond. No.                         2.39\n",
       "==============================================================================\n",
       "\n",
       "Notes:\n",
       "[1] R² is computed without centering (uncentered) since the model does not contain a constant.\n",
       "[2] Standard Errors assume that the covariance matrix of the errors is correctly specified.\n",
       "\"\"\""
      ]
     },
     "execution_count": 10,
     "metadata": {},
     "output_type": "execute_result"
    }
   ],
   "source": [
    "model = OLS(np.asarray(df[outcome]), np.asarray(df[[common_cause, treatment]], dtype=np.float64))\n",
    "result = model.fit()\n",
    "result.summary()"
   ]
  }
 ],
 "metadata": {
  "kernelspec": {
   "display_name": "Python 3",
   "language": "python",
   "name": "python3"
  },
  "language_info": {
   "codemirror_mode": {
    "name": "ipython",
    "version": 3
   },
   "file_extension": ".py",
   "mimetype": "text/x-python",
   "name": "python",
   "nbconvert_exporter": "python",
   "pygments_lexer": "ipython3",
   "version": "3.8.10"
  },
  "toc": {
   "base_numbering": 1,
   "nav_menu": {},
   "number_sections": false,
   "sideBar": true,
   "skip_h1_title": true,
   "title_cell": "Table of Contents",
   "title_sidebar": "Contents",
   "toc_cell": false,
   "toc_position": {},
   "toc_section_display": true,
   "toc_window_display": false
  }
 },
 "nbformat": 4,
 "nbformat_minor": 4
}
