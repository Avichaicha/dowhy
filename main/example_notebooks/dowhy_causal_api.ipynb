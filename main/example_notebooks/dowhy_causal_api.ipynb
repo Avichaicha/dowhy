{
 "cells": [
  {
   "cell_type": "markdown",
   "metadata": {},
   "source": [
    "# Demo for the DoWhy causal API\n",
    "We show a simple example of adding a causal extension to any dataframe. "
   ]
  },
  {
   "cell_type": "code",
   "execution_count": 1,
   "metadata": {
    "execution": {
     "iopub.execute_input": "2022-11-23T09:30:01.215962Z",
     "iopub.status.busy": "2022-11-23T09:30:01.215441Z",
     "iopub.status.idle": "2022-11-23T09:30:03.225901Z",
     "shell.execute_reply": "2022-11-23T09:30:03.225144Z"
    }
   },
   "outputs": [],
   "source": [
    "import dowhy.datasets\n",
    "import dowhy.api\n",
    "\n",
    "import numpy as np\n",
    "import pandas as pd\n",
    "\n",
    "from statsmodels.api import OLS"
   ]
  },
  {
   "cell_type": "code",
   "execution_count": 2,
   "metadata": {
    "execution": {
     "iopub.execute_input": "2022-11-23T09:30:03.230376Z",
     "iopub.status.busy": "2022-11-23T09:30:03.229896Z",
     "iopub.status.idle": "2022-11-23T09:30:03.273298Z",
     "shell.execute_reply": "2022-11-23T09:30:03.272531Z"
    }
   },
   "outputs": [
    {
     "data": {
      "text/html": [
       "<div>\n",
       "<style scoped>\n",
       "    .dataframe tbody tr th:only-of-type {\n",
       "        vertical-align: middle;\n",
       "    }\n",
       "\n",
       "    .dataframe tbody tr th {\n",
       "        vertical-align: top;\n",
       "    }\n",
       "\n",
       "    .dataframe thead th {\n",
       "        text-align: right;\n",
       "    }\n",
       "</style>\n",
       "<table border=\"1\" class=\"dataframe\">\n",
       "  <thead>\n",
       "    <tr style=\"text-align: right;\">\n",
       "      <th></th>\n",
       "      <th>W0</th>\n",
       "      <th>v0</th>\n",
       "      <th>y</th>\n",
       "    </tr>\n",
       "  </thead>\n",
       "  <tbody>\n",
       "    <tr>\n",
       "      <th>0</th>\n",
       "      <td>-0.330599</td>\n",
       "      <td>False</td>\n",
       "      <td>0.672998</td>\n",
       "    </tr>\n",
       "    <tr>\n",
       "      <th>1</th>\n",
       "      <td>1.789237</td>\n",
       "      <td>True</td>\n",
       "      <td>4.940364</td>\n",
       "    </tr>\n",
       "    <tr>\n",
       "      <th>2</th>\n",
       "      <td>1.218110</td>\n",
       "      <td>True</td>\n",
       "      <td>6.731556</td>\n",
       "    </tr>\n",
       "    <tr>\n",
       "      <th>3</th>\n",
       "      <td>0.680724</td>\n",
       "      <td>False</td>\n",
       "      <td>0.309219</td>\n",
       "    </tr>\n",
       "    <tr>\n",
       "      <th>4</th>\n",
       "      <td>-0.176406</td>\n",
       "      <td>True</td>\n",
       "      <td>2.774351</td>\n",
       "    </tr>\n",
       "    <tr>\n",
       "      <th>...</th>\n",
       "      <td>...</td>\n",
       "      <td>...</td>\n",
       "      <td>...</td>\n",
       "    </tr>\n",
       "    <tr>\n",
       "      <th>995</th>\n",
       "      <td>-0.461752</td>\n",
       "      <td>False</td>\n",
       "      <td>-0.704051</td>\n",
       "    </tr>\n",
       "    <tr>\n",
       "      <th>996</th>\n",
       "      <td>-0.916287</td>\n",
       "      <td>False</td>\n",
       "      <td>-1.607504</td>\n",
       "    </tr>\n",
       "    <tr>\n",
       "      <th>997</th>\n",
       "      <td>2.252837</td>\n",
       "      <td>True</td>\n",
       "      <td>7.021005</td>\n",
       "    </tr>\n",
       "    <tr>\n",
       "      <th>998</th>\n",
       "      <td>0.955688</td>\n",
       "      <td>True</td>\n",
       "      <td>6.498294</td>\n",
       "    </tr>\n",
       "    <tr>\n",
       "      <th>999</th>\n",
       "      <td>0.881793</td>\n",
       "      <td>True</td>\n",
       "      <td>6.923792</td>\n",
       "    </tr>\n",
       "  </tbody>\n",
       "</table>\n",
       "<p>1000 rows × 3 columns</p>\n",
       "</div>"
      ],
      "text/plain": [
       "           W0     v0         y\n",
       "0   -0.330599  False  0.672998\n",
       "1    1.789237   True  4.940364\n",
       "2    1.218110   True  6.731556\n",
       "3    0.680724  False  0.309219\n",
       "4   -0.176406   True  2.774351\n",
       "..        ...    ...       ...\n",
       "995 -0.461752  False -0.704051\n",
       "996 -0.916287  False -1.607504\n",
       "997  2.252837   True  7.021005\n",
       "998  0.955688   True  6.498294\n",
       "999  0.881793   True  6.923792\n",
       "\n",
       "[1000 rows x 3 columns]"
      ]
     },
     "execution_count": 2,
     "metadata": {},
     "output_type": "execute_result"
    }
   ],
   "source": [
    "data = dowhy.datasets.linear_dataset(beta=5,\n",
    "        num_common_causes=1,\n",
    "        num_instruments = 0,\n",
    "        num_samples=1000,\n",
    "        treatment_is_binary=True)\n",
    "df = data['df']\n",
    "df['y'] = df['y'] + np.random.normal(size=len(df)) # Adding noise to data. Without noise, the variance in Y|X, Z is zero, and mcmc fails.\n",
    "#data['dot_graph'] = 'digraph { v ->y;X0-> v;X0-> y;}'\n",
    "\n",
    "treatment= data[\"treatment_name\"][0]\n",
    "outcome = data[\"outcome_name\"][0]\n",
    "common_cause = data[\"common_causes_names\"][0]\n",
    "df"
   ]
  },
  {
   "cell_type": "code",
   "execution_count": 3,
   "metadata": {
    "execution": {
     "iopub.execute_input": "2022-11-23T09:30:03.277214Z",
     "iopub.status.busy": "2022-11-23T09:30:03.276773Z",
     "iopub.status.idle": "2022-11-23T09:30:03.441878Z",
     "shell.execute_reply": "2022-11-23T09:30:03.441187Z"
    }
   },
   "outputs": [
    {
     "data": {
      "text/plain": [
       "<AxesSubplot: xlabel='v0'>"
      ]
     },
     "execution_count": 3,
     "metadata": {},
     "output_type": "execute_result"
    },
    {
     "data": {
      "image/png": "[encoded data removed]",
      "text/plain": [
       "<Figure size 640x480 with 1 Axes>"
      ]
     },
     "metadata": {},
     "output_type": "display_data"
    }
   ],
   "source": [
    "# data['df'] is just a regular pandas.DataFrame\n",
    "df.causal.do(x=treatment,\n",
    "                     variable_types={treatment: 'b', outcome: 'c', common_cause: 'c'},\n",
    "                     outcome=outcome,\n",
    "                     common_causes=[common_cause],\n",
    "                     proceed_when_unidentifiable=True).groupby(treatment).mean().plot(y=outcome, kind='bar')"
   ]
  },
  {
   "cell_type": "code",
   "execution_count": 4,
   "metadata": {
    "execution": {
     "iopub.execute_input": "2022-11-23T09:30:03.445368Z",
     "iopub.status.busy": "2022-11-23T09:30:03.444714Z",
     "iopub.status.idle": "2022-11-23T09:30:03.566276Z",
     "shell.execute_reply": "2022-11-23T09:30:03.565678Z"
    }
   },
   "outputs": [
    {
     "data": {
      "text/plain": [
       "<AxesSubplot: xlabel='v0'>"
      ]
     },
     "execution_count": 4,
     "metadata": {},
     "output_type": "execute_result"
    },
    {
     "data": {
      "image/png": "[encoded data removed]",
      "text/plain": [
       "<Figure size 640x480 with 1 Axes>"
      ]
     },
     "metadata": {},
     "output_type": "display_data"
    }
   ],
   "source": [
    "df.causal.do(x={treatment: 1}, \n",
    "              variable_types={treatment:'b', outcome: 'c', common_cause: 'c'}, \n",
    "              outcome=outcome,\n",
    "              method='weighting', \n",
    "              common_causes=[common_cause],\n",
    "              proceed_when_unidentifiable=True).groupby(treatment).mean().plot(y=outcome, kind='bar')"
   ]
  },
  {
   "cell_type": "code",
   "execution_count": 5,
   "metadata": {
    "execution": {
     "iopub.execute_input": "2022-11-23T09:30:03.569571Z",
     "iopub.status.busy": "2022-11-23T09:30:03.569096Z",
     "iopub.status.idle": "2022-11-23T09:30:03.602522Z",
     "shell.execute_reply": "2022-11-23T09:30:03.601808Z"
    }
   },
   "outputs": [],
   "source": [
    "cdf_1 = df.causal.do(x={treatment: 1}, \n",
    "              variable_types={treatment: 'b', outcome: 'c', common_cause: 'c'}, \n",
    "              outcome=outcome, \n",
    "              dot_graph=data['dot_graph'],\n",
    "              proceed_when_unidentifiable=True)\n",
    "\n",
    "cdf_0 = df.causal.do(x={treatment: 0}, \n",
    "              variable_types={treatment: 'b', outcome: 'c', common_cause: 'c'}, \n",
    "              outcome=outcome, \n",
    "              dot_graph=data['dot_graph'],\n",
    "              proceed_when_unidentifiable=True)\n"
   ]
  },
  {
   "cell_type": "code",
   "execution_count": 6,
   "metadata": {
    "execution": {
     "iopub.execute_input": "2022-11-23T09:30:03.606216Z",
     "iopub.status.busy": "2022-11-23T09:30:03.605963Z",
     "iopub.status.idle": "2022-11-23T09:30:03.618920Z",
     "shell.execute_reply": "2022-11-23T09:30:03.618327Z"
    },
    "scrolled": true
   },
   "outputs": [
    {
     "data": {
      "text/html": [
       "<div>\n",
       "<style scoped>\n",
       "    .dataframe tbody tr th:only-of-type {\n",
       "        vertical-align: middle;\n",
       "    }\n",
       "\n",
       "    .dataframe tbody tr th {\n",
       "        vertical-align: top;\n",
       "    }\n",
       "\n",
       "    .dataframe thead th {\n",
       "        text-align: right;\n",
       "    }\n",
       "</style>\n",
       "<table border=\"1\" class=\"dataframe\">\n",
       "  <thead>\n",
       "    <tr style=\"text-align: right;\">\n",
       "      <th></th>\n",
       "      <th>W0</th>\n",
       "      <th>v0</th>\n",
       "      <th>y</th>\n",
       "      <th>propensity_score</th>\n",
       "      <th>weight</th>\n",
       "    </tr>\n",
       "  </thead>\n",
       "  <tbody>\n",
       "    <tr>\n",
       "      <th>0</th>\n",
       "      <td>-0.034454</td>\n",
       "      <td>False</td>\n",
       "      <td>-0.550549</td>\n",
       "      <td>0.556332</td>\n",
       "      <td>1.797489</td>\n",
       "    </tr>\n",
       "    <tr>\n",
       "      <th>1</th>\n",
       "      <td>-0.967286</td>\n",
       "      <td>False</td>\n",
       "      <td>-1.816394</td>\n",
       "      <td>0.880959</td>\n",
       "      <td>1.135127</td>\n",
       "    </tr>\n",
       "    <tr>\n",
       "      <th>2</th>\n",
       "      <td>1.326094</td>\n",
       "      <td>False</td>\n",
       "      <td>1.571069</td>\n",
       "      <td>0.086042</td>\n",
       "      <td>11.622193</td>\n",
       "    </tr>\n",
       "    <tr>\n",
       "      <th>3</th>\n",
       "      <td>0.063416</td>\n",
       "      <td>False</td>\n",
       "      <td>0.919483</td>\n",
       "      <td>0.510007</td>\n",
       "      <td>1.960757</td>\n",
       "    </tr>\n",
       "    <tr>\n",
       "      <th>4</th>\n",
       "      <td>0.662117</td>\n",
       "      <td>False</td>\n",
       "      <td>0.313648</td>\n",
       "      <td>0.249863</td>\n",
       "      <td>4.002195</td>\n",
       "    </tr>\n",
       "    <tr>\n",
       "      <th>...</th>\n",
       "      <td>...</td>\n",
       "      <td>...</td>\n",
       "      <td>...</td>\n",
       "      <td>...</td>\n",
       "      <td>...</td>\n",
       "    </tr>\n",
       "    <tr>\n",
       "      <th>995</th>\n",
       "      <td>0.569640</td>\n",
       "      <td>False</td>\n",
       "      <td>1.110416</td>\n",
       "      <td>0.284275</td>\n",
       "      <td>3.517717</td>\n",
       "    </tr>\n",
       "    <tr>\n",
       "      <th>996</th>\n",
       "      <td>0.437994</td>\n",
       "      <td>False</td>\n",
       "      <td>2.423052</td>\n",
       "      <td>0.337866</td>\n",
       "      <td>2.959752</td>\n",
       "    </tr>\n",
       "    <tr>\n",
       "      <th>997</th>\n",
       "      <td>0.209768</td>\n",
       "      <td>False</td>\n",
       "      <td>0.783032</td>\n",
       "      <td>0.440659</td>\n",
       "      <td>2.269326</td>\n",
       "    </tr>\n",
       "    <tr>\n",
       "      <th>998</th>\n",
       "      <td>-0.427384</td>\n",
       "      <td>False</td>\n",
       "      <td>-0.055657</td>\n",
       "      <td>0.725929</td>\n",
       "      <td>1.377545</td>\n",
       "    </tr>\n",
       "    <tr>\n",
       "      <th>999</th>\n",
       "      <td>-0.294787</td>\n",
       "      <td>False</td>\n",
       "      <td>0.239559</td>\n",
       "      <td>0.672986</td>\n",
       "      <td>1.485914</td>\n",
       "    </tr>\n",
       "  </tbody>\n",
       "</table>\n",
       "<p>1000 rows × 5 columns</p>\n",
       "</div>"
      ],
      "text/plain": [
       "           W0     v0         y  propensity_score     weight\n",
       "0   -0.034454  False -0.550549          0.556332   1.797489\n",
       "1   -0.967286  False -1.816394          0.880959   1.135127\n",
       "2    1.326094  False  1.571069          0.086042  11.622193\n",
       "3    0.063416  False  0.919483          0.510007   1.960757\n",
       "4    0.662117  False  0.313648          0.249863   4.002195\n",
       "..        ...    ...       ...               ...        ...\n",
       "995  0.569640  False  1.110416          0.284275   3.517717\n",
       "996  0.437994  False  2.423052          0.337866   2.959752\n",
       "997  0.209768  False  0.783032          0.440659   2.269326\n",
       "998 -0.427384  False -0.055657          0.725929   1.377545\n",
       "999 -0.294787  False  0.239559          0.672986   1.485914\n",
       "\n",
       "[1000 rows x 5 columns]"
      ]
     },
     "execution_count": 6,
     "metadata": {},
     "output_type": "execute_result"
    }
   ],
   "source": [
    "cdf_0"
   ]
  },
  {
   "cell_type": "code",
   "execution_count": 7,
   "metadata": {
    "execution": {
     "iopub.execute_input": "2022-11-23T09:30:03.621745Z",
     "iopub.status.busy": "2022-11-23T09:30:03.621513Z",
     "iopub.status.idle": "2022-11-23T09:30:03.631501Z",
     "shell.execute_reply": "2022-11-23T09:30:03.630887Z"
    }
   },
   "outputs": [
    {
     "data": {
      "text/html": [
       "<div>\n",
       "<style scoped>\n",
       "    .dataframe tbody tr th:only-of-type {\n",
       "        vertical-align: middle;\n",
       "    }\n",
       "\n",
       "    .dataframe tbody tr th {\n",
       "        vertical-align: top;\n",
       "    }\n",
       "\n",
       "    .dataframe thead th {\n",
       "        text-align: right;\n",
       "    }\n",
       "</style>\n",
       "<table border=\"1\" class=\"dataframe\">\n",
       "  <thead>\n",
       "    <tr style=\"text-align: right;\">\n",
       "      <th></th>\n",
       "      <th>W0</th>\n",
       "      <th>v0</th>\n",
       "      <th>y</th>\n",
       "      <th>propensity_score</th>\n",
       "      <th>weight</th>\n",
       "    </tr>\n",
       "  </thead>\n",
       "  <tbody>\n",
       "    <tr>\n",
       "      <th>0</th>\n",
       "      <td>-0.396440</td>\n",
       "      <td>True</td>\n",
       "      <td>2.950645</td>\n",
       "      <td>0.285942</td>\n",
       "      <td>3.497216</td>\n",
       "    </tr>\n",
       "    <tr>\n",
       "      <th>1</th>\n",
       "      <td>1.509010</td>\n",
       "      <td>True</td>\n",
       "      <td>5.548437</td>\n",
       "      <td>0.937675</td>\n",
       "      <td>1.066467</td>\n",
       "    </tr>\n",
       "    <tr>\n",
       "      <th>2</th>\n",
       "      <td>0.760363</td>\n",
       "      <td>True</td>\n",
       "      <td>5.768622</td>\n",
       "      <td>0.783523</td>\n",
       "      <td>1.276288</td>\n",
       "    </tr>\n",
       "    <tr>\n",
       "      <th>3</th>\n",
       "      <td>2.019548</td>\n",
       "      <td>True</td>\n",
       "      <td>6.297034</td>\n",
       "      <td>0.975461</td>\n",
       "      <td>1.025156</td>\n",
       "    </tr>\n",
       "    <tr>\n",
       "      <th>4</th>\n",
       "      <td>1.340489</td>\n",
       "      <td>True</td>\n",
       "      <td>7.295292</td>\n",
       "      <td>0.916088</td>\n",
       "      <td>1.091599</td>\n",
       "    </tr>\n",
       "    <tr>\n",
       "      <th>...</th>\n",
       "      <td>...</td>\n",
       "      <td>...</td>\n",
       "      <td>...</td>\n",
       "      <td>...</td>\n",
       "      <td>...</td>\n",
       "    </tr>\n",
       "    <tr>\n",
       "      <th>995</th>\n",
       "      <td>0.915166</td>\n",
       "      <td>True</td>\n",
       "      <td>6.216560</td>\n",
       "      <td>0.829334</td>\n",
       "      <td>1.205786</td>\n",
       "    </tr>\n",
       "    <tr>\n",
       "      <th>996</th>\n",
       "      <td>1.666341</td>\n",
       "      <td>True</td>\n",
       "      <td>7.883486</td>\n",
       "      <td>0.953045</td>\n",
       "      <td>1.049269</td>\n",
       "    </tr>\n",
       "    <tr>\n",
       "      <th>997</th>\n",
       "      <td>0.020107</td>\n",
       "      <td>True</td>\n",
       "      <td>4.150595</td>\n",
       "      <td>0.469425</td>\n",
       "      <td>2.130268</td>\n",
       "    </tr>\n",
       "    <tr>\n",
       "      <th>998</th>\n",
       "      <td>0.741277</td>\n",
       "      <td>True</td>\n",
       "      <td>5.248017</td>\n",
       "      <td>0.777298</td>\n",
       "      <td>1.286507</td>\n",
       "    </tr>\n",
       "    <tr>\n",
       "      <th>999</th>\n",
       "      <td>0.488099</td>\n",
       "      <td>True</td>\n",
       "      <td>5.631818</td>\n",
       "      <td>0.683126</td>\n",
       "      <td>1.463860</td>\n",
       "    </tr>\n",
       "  </tbody>\n",
       "</table>\n",
       "<p>1000 rows × 5 columns</p>\n",
       "</div>"
      ],
      "text/plain": [
       "           W0    v0         y  propensity_score    weight\n",
       "0   -0.396440  True  2.950645          0.285942  3.497216\n",
       "1    1.509010  True  5.548437          0.937675  1.066467\n",
       "2    0.760363  True  5.768622          0.783523  1.276288\n",
       "3    2.019548  True  6.297034          0.975461  1.025156\n",
       "4    1.340489  True  7.295292          0.916088  1.091599\n",
       "..        ...   ...       ...               ...       ...\n",
       "995  0.915166  True  6.216560          0.829334  1.205786\n",
       "996  1.666341  True  7.883486          0.953045  1.049269\n",
       "997  0.020107  True  4.150595          0.469425  2.130268\n",
       "998  0.741277  True  5.248017          0.777298  1.286507\n",
       "999  0.488099  True  5.631818          0.683126  1.463860\n",
       "\n",
       "[1000 rows x 5 columns]"
      ]
     },
     "execution_count": 7,
     "metadata": {},
     "output_type": "execute_result"
    }
   ],
   "source": [
    "cdf_1"
   ]
  },
  {
   "cell_type": "markdown",
   "metadata": {},
   "source": [
    "## Comparing the estimate to Linear Regression\n",
    "First, estimating the effect using the causal data frame, and the 95% confidence interval."
   ]
  },
  {
   "cell_type": "code",
   "execution_count": 8,
   "metadata": {
    "execution": {
     "iopub.execute_input": "2022-11-23T09:30:03.635298Z",
     "iopub.status.busy": "2022-11-23T09:30:03.635068Z",
     "iopub.status.idle": "2022-11-23T09:30:03.695264Z",
     "shell.execute_reply": "2022-11-23T09:30:03.694408Z"
    }
   },
   "outputs": [
    {
     "data": {
      "image/png": "[encoded data removed]",
      "text/latex": [
       "$\\displaystyle 5.00152643212255$"
      ],
      "text/plain": [
       "5.001526432122548"
      ]
     },
     "execution_count": 8,
     "metadata": {},
     "output_type": "execute_result"
    }
   ],
   "source": [
    "(cdf_1['y'] - cdf_0['y']).mean()"
   ]
  },
  {
   "cell_type": "code",
   "execution_count": 9,
   "metadata": {
    "execution": {
     "iopub.execute_input": "2022-11-23T09:30:03.698761Z",
     "iopub.status.busy": "2022-11-23T09:30:03.698257Z",
     "iopub.status.idle": "2022-11-23T09:30:03.719556Z",
     "shell.execute_reply": "2022-11-23T09:30:03.718859Z"
    }
   },
   "outputs": [
    {
     "data": {
      "image/png": "[encoded data removed]",
      "text/latex": [
       "$\\displaystyle 0.124656294075583$"
      ],
      "text/plain": [
       "0.12465629407558348"
      ]
     },
     "execution_count": 9,
     "metadata": {},
     "output_type": "execute_result"
    }
   ],
   "source": [
    "1.96*(cdf_1['y'] - cdf_0['y']).std() / np.sqrt(len(df))"
   ]
  },
  {
   "cell_type": "markdown",
   "metadata": {},
   "source": [
    "Comparing to the estimate from OLS."
   ]
  },
  {
   "cell_type": "code",
   "execution_count": 10,
   "metadata": {
    "execution": {
     "iopub.execute_input": "2022-11-23T09:30:03.723434Z",
     "iopub.status.busy": "2022-11-23T09:30:03.723058Z",
     "iopub.status.idle": "2022-11-23T09:30:03.738204Z",
     "shell.execute_reply": "2022-11-23T09:30:03.737535Z"
    }
   },
   "outputs": [
    {
     "data": {
      "text/html": [
       "<table class=\"simpletable\">\n",
       "<caption>OLS Regression Results</caption>\n",
       "<tr>\n",
       "  <th>Dep. Variable:</th>            <td>y</td>        <th>  R-squared (uncentered):</th>      <td>   0.963</td> \n",
       "</tr>\n",
       "<tr>\n",
       "  <th>Model:</th>                   <td>OLS</td>       <th>  Adj. R-squared (uncentered):</th> <td>   0.963</td> \n",
       "</tr>\n",
       "<tr>\n",
       "  <th>Method:</th>             <td>Least Squares</td>  <th>  F-statistic:       </th>          <td>1.297e+04</td>\n",
       "</tr>\n",
       "<tr>\n",
       "  <th>Date:</th>             <td>Wed, 23 Nov 2022</td> <th>  Prob (F-statistic):</th>           <td>  0.00</td>  \n",
       "</tr>\n",
       "<tr>\n",
       "  <th>Time:</th>                 <td>09:30:03</td>     <th>  Log-Likelihood:    </th>          <td> -1409.0</td> \n",
       "</tr>\n",
       "<tr>\n",
       "  <th>No. Observations:</th>      <td>  1000</td>      <th>  AIC:               </th>          <td>   2822.</td> \n",
       "</tr>\n",
       "<tr>\n",
       "  <th>Df Residuals:</th>          <td>   998</td>      <th>  BIC:               </th>          <td>   2832.</td> \n",
       "</tr>\n",
       "<tr>\n",
       "  <th>Df Model:</th>              <td>     2</td>      <th>                     </th>              <td> </td>    \n",
       "</tr>\n",
       "<tr>\n",
       "  <th>Covariance Type:</th>      <td>nonrobust</td>    <th>                     </th>              <td> </td>    \n",
       "</tr>\n",
       "</table>\n",
       "<table class=\"simpletable\">\n",
       "<tr>\n",
       "   <td></td>     <th>coef</th>     <th>std err</th>      <th>t</th>      <th>P>|t|</th>  <th>[0.025</th>    <th>0.975]</th>  \n",
       "</tr>\n",
       "<tr>\n",
       "  <th>x1</th> <td>    1.1927</td> <td>    0.039</td> <td>   30.749</td> <td> 0.000</td> <td>    1.117</td> <td>    1.269</td>\n",
       "</tr>\n",
       "<tr>\n",
       "  <th>x2</th> <td>    4.9319</td> <td>    0.056</td> <td>   88.752</td> <td> 0.000</td> <td>    4.823</td> <td>    5.041</td>\n",
       "</tr>\n",
       "</table>\n",
       "<table class=\"simpletable\">\n",
       "<tr>\n",
       "  <th>Omnibus:</th>       <td> 4.302</td> <th>  Durbin-Watson:     </th> <td>   2.019</td>\n",
       "</tr>\n",
       "<tr>\n",
       "  <th>Prob(Omnibus):</th> <td> 0.116</td> <th>  Jarque-Bera (JB):  </th> <td>   4.339</td>\n",
       "</tr>\n",
       "<tr>\n",
       "  <th>Skew:</th>          <td>-0.143</td> <th>  Prob(JB):          </th> <td>   0.114</td>\n",
       "</tr>\n",
       "<tr>\n",
       "  <th>Kurtosis:</th>      <td> 2.852</td> <th>  Cond. No.          </th> <td>    2.67</td>\n",
       "</tr>\n",
       "</table><br/><br/>Notes:<br/>[1] R² is computed without centering (uncentered) since the model does not contain a constant.<br/>[2] Standard Errors assume that the covariance matrix of the errors is correctly specified."
      ],
      "text/plain": [
       "<class 'statsmodels.iolib.summary.Summary'>\n",
       "\"\"\"\n",
       "                                 OLS Regression Results                                \n",
       "=======================================================================================\n",
       "Dep. Variable:                      y   R-squared (uncentered):                   0.963\n",
       "Model:                            OLS   Adj. R-squared (uncentered):              0.963\n",
       "Method:                 Least Squares   F-statistic:                          1.297e+04\n",
       "Date:                Wed, 23 Nov 2022   Prob (F-statistic):                        0.00\n",
       "Time:                        09:30:03   Log-Likelihood:                         -1409.0\n",
       "No. Observations:                1000   AIC:                                      2822.\n",
       "Df Residuals:                     998   BIC:                                      2832.\n",
       "Df Model:                           2                                                  \n",
       "Covariance Type:            nonrobust                                                  \n",
       "==============================================================================\n",
       "                 coef    std err          t      P>|t|      [0.025      0.975]\n",
       "------------------------------------------------------------------------------\n",
       "x1             1.1927      0.039     30.749      0.000       1.117       1.269\n",
       "x2             4.9319      0.056     88.752      0.000       4.823       5.041\n",
       "==============================================================================\n",
       "Omnibus:                        4.302   Durbin-Watson:                   2.019\n",
       "Prob(Omnibus):                  0.116   Jarque-Bera (JB):                4.339\n",
       "Skew:                          -0.143   Prob(JB):                        0.114\n",
       "Kurtosis:                       2.852   Cond. No.                         2.67\n",
       "==============================================================================\n",
       "\n",
       "Notes:\n",
       "[1] R² is computed without centering (uncentered) since the model does not contain a constant.\n",
       "[2] Standard Errors assume that the covariance matrix of the errors is correctly specified.\n",
       "\"\"\""
      ]
     },
     "execution_count": 10,
     "metadata": {},
     "output_type": "execute_result"
    }
   ],
   "source": [
    "model = OLS(np.asarray(df[outcome]), np.asarray(df[[common_cause, treatment]], dtype=np.float64))\n",
    "result = model.fit()\n",
    "result.summary()"
   ]
  }
 ],
 "metadata": {
  "kernelspec": {
   "display_name": "Python 3",
   "language": "python",
   "name": "python3"
  },
  "language_info": {
   "codemirror_mode": {
    "name": "ipython",
    "version": 3
   },
   "file_extension": ".py",
   "mimetype": "text/x-python",
   "name": "python",
   "nbconvert_exporter": "python",
   "pygments_lexer": "ipython3",
   "version": "3.8.10"
  },
  "toc": {
   "base_numbering": 1,
   "nav_menu": {},
   "number_sections": false,
   "sideBar": true,
   "skip_h1_title": true,
   "title_cell": "Table of Contents",
   "title_sidebar": "Contents",
   "toc_cell": false,
   "toc_position": {},
   "toc_section_display": true,
   "toc_window_display": false
  }
 },
 "nbformat": 4,
 "nbformat_minor": 4
}
