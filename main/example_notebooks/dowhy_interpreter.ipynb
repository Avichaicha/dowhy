{
 "cells": [
  {
   "cell_type": "markdown",
   "id": "37aa5e6f",
   "metadata": {},
   "source": [
    "# DoWhy: Interpreters for Causal Estimators\n",
    "\n",
    "This is a quick introduction to the use of interpreters in the DoWhy causal inference library.\n",
    "We will load in a sample dataset, use different methods for estimating the causal effect of a (pre-specified)treatment variable on a (pre-specified) outcome variable and demonstrate how to interpret the obtained results.\n",
    "\n",
    "First, let us add the required path for Python to find the DoWhy code and load all required packages"
   ]
  },
  {
   "cell_type": "code",
   "execution_count": 1,
   "id": "268aec8a",
   "metadata": {
    "execution": {
     "iopub.execute_input": "2022-08-18T15:43:36.025311Z",
     "iopub.status.busy": "2022-08-18T15:43:36.024759Z",
     "iopub.status.idle": "2022-08-18T15:43:36.044057Z",
     "shell.execute_reply": "2022-08-18T15:43:36.043359Z"
    }
   },
   "outputs": [],
   "source": [
    "%load_ext autoreload\n",
    "%autoreload 2"
   ]
  },
  {
   "cell_type": "code",
   "execution_count": 2,
   "id": "dd0ef42c",
   "metadata": {
    "execution": {
     "iopub.execute_input": "2022-08-18T15:43:36.047806Z",
     "iopub.status.busy": "2022-08-18T15:43:36.047537Z",
     "iopub.status.idle": "2022-08-18T15:43:37.290858Z",
     "shell.execute_reply": "2022-08-18T15:43:37.289566Z"
    }
   },
   "outputs": [],
   "source": [
    "import numpy as np\n",
    "import pandas as pd\n",
    "import logging\n",
    "\n",
    "import dowhy\n",
    "from dowhy import CausalModel\n",
    "import dowhy.datasets "
   ]
  },
  {
   "cell_type": "markdown",
   "id": "38696ccc",
   "metadata": {},
   "source": [
    "Now, let us load a dataset. For simplicity, we simulate a dataset with linear relationships between common causes and treatment, and common causes and outcome.\n",
    "\n",
    "Beta is the true causal effect."
   ]
  },
  {
   "cell_type": "code",
   "execution_count": 3,
   "id": "45b8a186",
   "metadata": {
    "execution": {
     "iopub.execute_input": "2022-08-18T15:43:37.295546Z",
     "iopub.status.busy": "2022-08-18T15:43:37.294812Z",
     "iopub.status.idle": "2022-08-18T15:43:37.639176Z",
     "shell.execute_reply": "2022-08-18T15:43:37.638399Z"
    }
   },
   "outputs": [
    {
     "name": "stdout",
     "output_type": "stream",
     "text": [
      "7307\n"
     ]
    },
    {
     "data": {
      "text/html": [
       "<div>\n",
       "<style scoped>\n",
       "    .dataframe tbody tr th:only-of-type {\n",
       "        vertical-align: middle;\n",
       "    }\n",
       "\n",
       "    .dataframe tbody tr th {\n",
       "        vertical-align: top;\n",
       "    }\n",
       "\n",
       "    .dataframe thead th {\n",
       "        text-align: right;\n",
       "    }\n",
       "</style>\n",
       "<table border=\"1\" class=\"dataframe\">\n",
       "  <thead>\n",
       "    <tr style=\"text-align: right;\">\n",
       "      <th></th>\n",
       "      <th>Z0</th>\n",
       "      <th>Z1</th>\n",
       "      <th>W0</th>\n",
       "      <th>W1</th>\n",
       "      <th>W2</th>\n",
       "      <th>W3</th>\n",
       "      <th>W4</th>\n",
       "      <th>v0</th>\n",
       "      <th>y</th>\n",
       "    </tr>\n",
       "  </thead>\n",
       "  <tbody>\n",
       "    <tr>\n",
       "      <th>0</th>\n",
       "      <td>1.0</td>\n",
       "      <td>0.297230</td>\n",
       "      <td>0.273134</td>\n",
       "      <td>1.187443</td>\n",
       "      <td>-1.298912</td>\n",
       "      <td>-0.178156</td>\n",
       "      <td>2</td>\n",
       "      <td>True</td>\n",
       "      <td>2.516635</td>\n",
       "    </tr>\n",
       "    <tr>\n",
       "      <th>1</th>\n",
       "      <td>0.0</td>\n",
       "      <td>0.456338</td>\n",
       "      <td>-1.539619</td>\n",
       "      <td>1.487604</td>\n",
       "      <td>-1.615158</td>\n",
       "      <td>-0.812157</td>\n",
       "      <td>2</td>\n",
       "      <td>True</td>\n",
       "      <td>0.855429</td>\n",
       "    </tr>\n",
       "    <tr>\n",
       "      <th>2</th>\n",
       "      <td>1.0</td>\n",
       "      <td>0.315882</td>\n",
       "      <td>-2.521761</td>\n",
       "      <td>0.408108</td>\n",
       "      <td>-0.150294</td>\n",
       "      <td>-1.745920</td>\n",
       "      <td>2</td>\n",
       "      <td>False</td>\n",
       "      <td>-0.850765</td>\n",
       "    </tr>\n",
       "    <tr>\n",
       "      <th>3</th>\n",
       "      <td>1.0</td>\n",
       "      <td>0.443779</td>\n",
       "      <td>-1.188297</td>\n",
       "      <td>0.070030</td>\n",
       "      <td>-1.180396</td>\n",
       "      <td>-0.012796</td>\n",
       "      <td>3</td>\n",
       "      <td>False</td>\n",
       "      <td>0.567344</td>\n",
       "    </tr>\n",
       "    <tr>\n",
       "      <th>4</th>\n",
       "      <td>1.0</td>\n",
       "      <td>0.513299</td>\n",
       "      <td>0.360602</td>\n",
       "      <td>1.090573</td>\n",
       "      <td>-1.159448</td>\n",
       "      <td>-1.695893</td>\n",
       "      <td>0</td>\n",
       "      <td>True</td>\n",
       "      <td>0.561535</td>\n",
       "    </tr>\n",
       "    <tr>\n",
       "      <th>...</th>\n",
       "      <td>...</td>\n",
       "      <td>...</td>\n",
       "      <td>...</td>\n",
       "      <td>...</td>\n",
       "      <td>...</td>\n",
       "      <td>...</td>\n",
       "      <td>...</td>\n",
       "      <td>...</td>\n",
       "      <td>...</td>\n",
       "    </tr>\n",
       "    <tr>\n",
       "      <th>9995</th>\n",
       "      <td>0.0</td>\n",
       "      <td>0.316498</td>\n",
       "      <td>0.699603</td>\n",
       "      <td>-1.079992</td>\n",
       "      <td>-0.998880</td>\n",
       "      <td>-0.324230</td>\n",
       "      <td>1</td>\n",
       "      <td>False</td>\n",
       "      <td>-0.268949</td>\n",
       "    </tr>\n",
       "    <tr>\n",
       "      <th>9996</th>\n",
       "      <td>0.0</td>\n",
       "      <td>0.905569</td>\n",
       "      <td>-0.570215</td>\n",
       "      <td>-1.352687</td>\n",
       "      <td>0.072800</td>\n",
       "      <td>1.485035</td>\n",
       "      <td>3</td>\n",
       "      <td>True</td>\n",
       "      <td>2.539977</td>\n",
       "    </tr>\n",
       "    <tr>\n",
       "      <th>9997</th>\n",
       "      <td>0.0</td>\n",
       "      <td>0.867346</td>\n",
       "      <td>-1.176523</td>\n",
       "      <td>-0.425126</td>\n",
       "      <td>0.654666</td>\n",
       "      <td>-0.133521</td>\n",
       "      <td>3</td>\n",
       "      <td>True</td>\n",
       "      <td>2.553439</td>\n",
       "    </tr>\n",
       "    <tr>\n",
       "      <th>9998</th>\n",
       "      <td>1.0</td>\n",
       "      <td>0.410576</td>\n",
       "      <td>-0.889798</td>\n",
       "      <td>0.301383</td>\n",
       "      <td>0.491247</td>\n",
       "      <td>-1.090982</td>\n",
       "      <td>1</td>\n",
       "      <td>True</td>\n",
       "      <td>1.267301</td>\n",
       "    </tr>\n",
       "    <tr>\n",
       "      <th>9999</th>\n",
       "      <td>1.0</td>\n",
       "      <td>0.224592</td>\n",
       "      <td>-0.857918</td>\n",
       "      <td>-1.248385</td>\n",
       "      <td>-2.313139</td>\n",
       "      <td>-1.405454</td>\n",
       "      <td>0</td>\n",
       "      <td>False</td>\n",
       "      <td>-3.712551</td>\n",
       "    </tr>\n",
       "  </tbody>\n",
       "</table>\n",
       "<p>10000 rows × 9 columns</p>\n",
       "</div>"
      ],
      "text/plain": [
       "       Z0        Z1        W0        W1        W2        W3 W4     v0  \\\n",
       "0     1.0  0.297230  0.273134  1.187443 -1.298912 -0.178156  2   True   \n",
       "1     0.0  0.456338 -1.539619  1.487604 -1.615158 -0.812157  2   True   \n",
       "2     1.0  0.315882 -2.521761  0.408108 -0.150294 -1.745920  2  False   \n",
       "3     1.0  0.443779 -1.188297  0.070030 -1.180396 -0.012796  3  False   \n",
       "4     1.0  0.513299  0.360602  1.090573 -1.159448 -1.695893  0   True   \n",
       "...   ...       ...       ...       ...       ...       ... ..    ...   \n",
       "9995  0.0  0.316498  0.699603 -1.079992 -0.998880 -0.324230  1  False   \n",
       "9996  0.0  0.905569 -0.570215 -1.352687  0.072800  1.485035  3   True   \n",
       "9997  0.0  0.867346 -1.176523 -0.425126  0.654666 -0.133521  3   True   \n",
       "9998  1.0  0.410576 -0.889798  0.301383  0.491247 -1.090982  1   True   \n",
       "9999  1.0  0.224592 -0.857918 -1.248385 -2.313139 -1.405454  0  False   \n",
       "\n",
       "             y  \n",
       "0     2.516635  \n",
       "1     0.855429  \n",
       "2    -0.850765  \n",
       "3     0.567344  \n",
       "4     0.561535  \n",
       "...        ...  \n",
       "9995 -0.268949  \n",
       "9996  2.539977  \n",
       "9997  2.553439  \n",
       "9998  1.267301  \n",
       "9999 -3.712551  \n",
       "\n",
       "[10000 rows x 9 columns]"
      ]
     },
     "execution_count": 3,
     "metadata": {},
     "output_type": "execute_result"
    }
   ],
   "source": [
    "data = dowhy.datasets.linear_dataset(beta=1,\n",
    "        num_common_causes=5, \n",
    "        num_instruments = 2,\n",
    "        num_treatments=1,\n",
    "        num_discrete_common_causes=1,\n",
    "        num_samples=10000,\n",
    "        treatment_is_binary=True,\n",
    "        outcome_is_binary=False)\n",
    "df = data[\"df\"]\n",
    "print(df[df.v0==True].shape[0])\n",
    "df"
   ]
  },
  {
   "cell_type": "markdown",
   "id": "b5241e74",
   "metadata": {},
   "source": [
    "Note that we are using a pandas dataframe to load the data."
   ]
  },
  {
   "cell_type": "markdown",
   "id": "1099423b",
   "metadata": {},
   "source": [
    "## Identifying the causal estimand"
   ]
  },
  {
   "cell_type": "markdown",
   "id": "138d8b82",
   "metadata": {},
   "source": [
    "We now input a causal graph in the GML graph format."
   ]
  },
  {
   "cell_type": "code",
   "execution_count": 4,
   "id": "1977b349",
   "metadata": {
    "execution": {
     "iopub.execute_input": "2022-08-18T15:43:37.643117Z",
     "iopub.status.busy": "2022-08-18T15:43:37.642673Z",
     "iopub.status.idle": "2022-08-18T15:43:37.671484Z",
     "shell.execute_reply": "2022-08-18T15:43:37.670817Z"
    }
   },
   "outputs": [],
   "source": [
    "# With graph\n",
    "model=CausalModel(\n",
    "        data = df,\n",
    "        treatment=data[\"treatment_name\"],\n",
    "        outcome=data[\"outcome_name\"],\n",
    "        graph=data[\"gml_graph\"],\n",
    "        instruments=data[\"instrument_names\"]\n",
    "        )"
   ]
  },
  {
   "cell_type": "code",
   "execution_count": 5,
   "id": "48052b1c",
   "metadata": {
    "execution": {
     "iopub.execute_input": "2022-08-18T15:43:37.675494Z",
     "iopub.status.busy": "2022-08-18T15:43:37.674966Z",
     "iopub.status.idle": "2022-08-18T15:43:37.740799Z",
     "shell.execute_reply": "2022-08-18T15:43:37.739985Z"
    }
   },
   "outputs": [],
   "source": [
    "model.view_model()"
   ]
  },
  {
   "cell_type": "code",
   "execution_count": 6,
   "id": "6ca12f0d",
   "metadata": {
    "execution": {
     "iopub.execute_input": "2022-08-18T15:43:37.745039Z",
     "iopub.status.busy": "2022-08-18T15:43:37.744223Z",
     "iopub.status.idle": "2022-08-18T15:43:37.774032Z",
     "shell.execute_reply": "2022-08-18T15:43:37.773195Z"
    }
   },
   "outputs": [
    {
     "data": {
      "image/png": "[encoded data removed]",
      "text/plain": [
       "<IPython.core.display.Image object>"
      ]
     },
     "metadata": {},
     "output_type": "display_data"
    }
   ],
   "source": [
    "from IPython.display import Image, display\n",
    "display(Image(filename=\"causal_model.png\"))"
   ]
  },
  {
   "cell_type": "markdown",
   "id": "6799a34a",
   "metadata": {},
   "source": [
    "We get a causal graph. Now identification and estimation is done."
   ]
  },
  {
   "cell_type": "code",
   "execution_count": 7,
   "id": "913d910b",
   "metadata": {
    "execution": {
     "iopub.execute_input": "2022-08-18T15:43:37.778908Z",
     "iopub.status.busy": "2022-08-18T15:43:37.778349Z",
     "iopub.status.idle": "2022-08-18T15:43:38.044209Z",
     "shell.execute_reply": "2022-08-18T15:43:38.043298Z"
    }
   },
   "outputs": [
    {
     "name": "stdout",
     "output_type": "stream",
     "text": [
      "Estimand type: nonparametric-ate\n",
      "\n",
      "### Estimand : 1\n",
      "Estimand name: backdoor\n",
      "Estimand expression:\n",
      "  d                       \n",
      "─────(E[y|W0,W1,W2,W3,W4])\n",
      "d[v₀]                     \n",
      "Estimand assumption 1, Unconfoundedness: If U→{v0} and U→y then P(y|v0,W0,W1,W2,W3,W4,U) = P(y|v0,W0,W1,W2,W3,W4)\n",
      "\n",
      "### Estimand : 2\n",
      "Estimand name: iv\n",
      "Estimand expression:\n",
      " ⎡                              -1⎤\n",
      " ⎢    d        ⎛    d          ⎞  ⎥\n",
      "E⎢─────────(y)⋅⎜─────────([v₀])⎟  ⎥\n",
      " ⎣d[Z₁  Z₀]    ⎝d[Z₁  Z₀]      ⎠  ⎦\n",
      "Estimand assumption 1, As-if-random: If U→→y then ¬(U →→{Z1,Z0})\n",
      "Estimand assumption 2, Exclusion: If we remove {Z1,Z0}→{v0}, then ¬({Z1,Z0}→y)\n",
      "\n",
      "### Estimand : 3\n",
      "Estimand name: frontdoor\n",
      "No such variable(s) found!\n",
      "\n"
     ]
    }
   ],
   "source": [
    "identified_estimand = model.identify_effect(proceed_when_unidentifiable=True)\n",
    "print(identified_estimand)"
   ]
  },
  {
   "cell_type": "markdown",
   "id": "fa20b7c6",
   "metadata": {},
   "source": [
    "## Method 1: Propensity Score Stratification\n",
    "\n",
    "We will be using propensity scores to stratify units in the data."
   ]
  },
  {
   "cell_type": "code",
   "execution_count": 8,
   "id": "3479076e",
   "metadata": {
    "execution": {
     "iopub.execute_input": "2022-08-18T15:43:38.048807Z",
     "iopub.status.busy": "2022-08-18T15:43:38.048262Z",
     "iopub.status.idle": "2022-08-18T15:43:38.964033Z",
     "shell.execute_reply": "2022-08-18T15:43:38.963195Z"
    }
   },
   "outputs": [
    {
     "name": "stdout",
     "output_type": "stream",
     "text": [
      "propensity_score_stratification\n"
     ]
    },
    {
     "name": "stderr",
     "output_type": "stream",
     "text": [
      "/github/home/.cache/pypoetry/virtualenvs/dowhy-oN2hW5jr-py3.8/lib/python3.8/site-packages/sklearn/utils/validation.py:993: DataConversionWarning: A column-vector y was passed when a 1d array was expected. Please change the shape of y to (n_samples, ), for example using ravel().\n",
      "  y = column_or_1d(y, warn=True)\n"
     ]
    },
    {
     "name": "stdout",
     "output_type": "stream",
     "text": [
      "*** Causal Estimate ***\n",
      "\n",
      "## Identified estimand\n",
      "Estimand type: nonparametric-ate\n",
      "\n",
      "### Estimand : 1\n",
      "Estimand name: backdoor\n",
      "Estimand expression:\n",
      "  d                       \n",
      "─────(E[y|W0,W1,W2,W3,W4])\n",
      "d[v₀]                     \n",
      "Estimand assumption 1, Unconfoundedness: If U→{v0} and U→y then P(y|v0,W0,W1,W2,W3,W4,U) = P(y|v0,W0,W1,W2,W3,W4)\n",
      "\n",
      "## Realized estimand\n",
      "b: y~v0+W0+W1+W2+W3+W4\n",
      "Target units: att\n",
      "\n",
      "## Estimate\n",
      "Mean value: 0.9892029930276177\n",
      "\n",
      "Causal Estimate is 0.9892029930276177\n"
     ]
    }
   ],
   "source": [
    "causal_estimate_strat = model.estimate_effect(identified_estimand,\n",
    "                                              method_name=\"backdoor.propensity_score_stratification\",\n",
    "                                              target_units=\"att\")\n",
    "print(causal_estimate_strat)\n",
    "print(\"Causal Estimate is \" + str(causal_estimate_strat.value))"
   ]
  },
  {
   "cell_type": "markdown",
   "id": "1616d1be",
   "metadata": {},
   "source": [
    "### Textual Interpreter\n",
    "\n",
    "The textual Interpreter describes (in words) the effect of unit change in the treatment variable on the outcome variable."
   ]
  },
  {
   "cell_type": "code",
   "execution_count": 9,
   "id": "c433a957",
   "metadata": {
    "execution": {
     "iopub.execute_input": "2022-08-18T15:43:38.968203Z",
     "iopub.status.busy": "2022-08-18T15:43:38.967642Z",
     "iopub.status.idle": "2022-08-18T15:43:38.996911Z",
     "shell.execute_reply": "2022-08-18T15:43:38.995669Z"
    }
   },
   "outputs": [
    {
     "name": "stdout",
     "output_type": "stream",
     "text": [
      "Increasing the treatment variable(s) [v0] from 0 to 1 causes an increase of 0.9892029930276177 in the expected value of the outcome [y], over the data distribution/population represented by the dataset.\n"
     ]
    }
   ],
   "source": [
    "# Textual Interpreter\n",
    "interpretation = causal_estimate_strat.interpret(method_name=\"textual_effect_interpreter\")"
   ]
  },
  {
   "cell_type": "markdown",
   "id": "6eccda31",
   "metadata": {},
   "source": [
    "### Visual Interpreter\n",
    "\n",
    "The visual interpreter plots the change in the standardized mean difference (SMD) before and after Propensity Score based adjustment of the dataset. The formula for SMD is given below.\n",
    "\n",
    "\n",
    "$SMD = \\frac{\\bar X_{1} - \\bar X_{2}}{\\sqrt{(S_{1}^{2} + S_{2}^{2})/2}}$\n",
    "\n",
    "Here, $\\bar X_{1}$ and $\\bar X_{2}$ are the sample mean for the treated and control groups.\n"
   ]
  },
  {
   "cell_type": "code",
   "execution_count": 10,
   "id": "8891fb1f",
   "metadata": {
    "execution": {
     "iopub.execute_input": "2022-08-18T15:43:39.001464Z",
     "iopub.status.busy": "2022-08-18T15:43:39.000768Z",
     "iopub.status.idle": "2022-08-18T15:43:40.560401Z",
     "shell.execute_reply": "2022-08-18T15:43:40.559232Z"
    }
   },
   "outputs": [
    {
     "data": {
      "image/png": "[encoded data removed]",
      "text/plain": [
       "<Figure size 432x288 with 1 Axes>"
      ]
     },
     "metadata": {
      "needs_background": "light"
     },
     "output_type": "display_data"
    }
   ],
   "source": [
    "# Visual Interpreter\n",
    "interpretation = causal_estimate_strat.interpret(method_name=\"propensity_balance_interpreter\")"
   ]
  },
  {
   "cell_type": "markdown",
   "id": "7cb22e95",
   "metadata": {},
   "source": [
    "This plot shows how the SMD decreases from the unadjusted to the stratified units. "
   ]
  },
  {
   "cell_type": "markdown",
   "id": "190d288f",
   "metadata": {},
   "source": [
    "## Method 2: Propensity Score Matching\n",
    "\n",
    "We will be using propensity scores to match units in the data."
   ]
  },
  {
   "cell_type": "code",
   "execution_count": 11,
   "id": "8598e912",
   "metadata": {
    "execution": {
     "iopub.execute_input": "2022-08-18T15:43:40.564874Z",
     "iopub.status.busy": "2022-08-18T15:43:40.564380Z",
     "iopub.status.idle": "2022-08-18T15:43:45.971019Z",
     "shell.execute_reply": "2022-08-18T15:43:45.969740Z"
    }
   },
   "outputs": [
    {
     "name": "stdout",
     "output_type": "stream",
     "text": [
      "propensity_score_matching\n"
     ]
    },
    {
     "name": "stderr",
     "output_type": "stream",
     "text": [
      "/github/home/.cache/pypoetry/virtualenvs/dowhy-oN2hW5jr-py3.8/lib/python3.8/site-packages/sklearn/utils/validation.py:993: DataConversionWarning: A column-vector y was passed when a 1d array was expected. Please change the shape of y to (n_samples, ), for example using ravel().\n",
      "  y = column_or_1d(y, warn=True)\n"
     ]
    },
    {
     "name": "stdout",
     "output_type": "stream",
     "text": [
      "*** Causal Estimate ***\n",
      "\n",
      "## Identified estimand\n",
      "Estimand type: nonparametric-ate\n",
      "\n",
      "### Estimand : 1\n",
      "Estimand name: backdoor\n",
      "Estimand expression:\n",
      "  d                       \n",
      "─────(E[y|W0,W1,W2,W3,W4])\n",
      "d[v₀]                     \n",
      "Estimand assumption 1, Unconfoundedness: If U→{v0} and U→y then P(y|v0,W0,W1,W2,W3,W4,U) = P(y|v0,W0,W1,W2,W3,W4)\n",
      "\n",
      "## Realized estimand\n",
      "b: y~v0+W0+W1+W2+W3+W4\n",
      "Target units: atc\n",
      "\n",
      "## Estimate\n",
      "Mean value: 0.9997118882678107\n",
      "\n",
      "Causal Estimate is 0.9997118882678107\n"
     ]
    }
   ],
   "source": [
    "causal_estimate_match = model.estimate_effect(identified_estimand,\n",
    "                                              method_name=\"backdoor.propensity_score_matching\",\n",
    "                                              target_units=\"atc\")\n",
    "print(causal_estimate_match)\n",
    "print(\"Causal Estimate is \" + str(causal_estimate_match.value))"
   ]
  },
  {
   "cell_type": "code",
   "execution_count": 12,
   "id": "859dcfd9",
   "metadata": {
    "execution": {
     "iopub.execute_input": "2022-08-18T15:43:45.975533Z",
     "iopub.status.busy": "2022-08-18T15:43:45.974928Z",
     "iopub.status.idle": "2022-08-18T15:43:46.005027Z",
     "shell.execute_reply": "2022-08-18T15:43:46.004063Z"
    }
   },
   "outputs": [
    {
     "name": "stdout",
     "output_type": "stream",
     "text": [
      "Increasing the treatment variable(s) [v0] from 0 to 1 causes an increase of 0.9997118882678107 in the expected value of the outcome [y], over the data distribution/population represented by the dataset.\n"
     ]
    }
   ],
   "source": [
    "# Textual Interpreter\n",
    "interpretation = causal_estimate_match.interpret(method_name=\"textual_effect_interpreter\")"
   ]
  },
  {
   "cell_type": "markdown",
   "id": "a258013d",
   "metadata": {},
   "source": [
    "Cannot use propensity balance interpretor here since the interpreter method only supports propensity score stratification estimator."
   ]
  },
  {
   "cell_type": "markdown",
   "id": "5fec23fb",
   "metadata": {},
   "source": [
    "## Method 3: Weighting\n",
    "\n",
    "We will be using (inverse) propensity scores to assign weights to units in the data. DoWhy supports a few different weighting schemes:\n",
    "1. Vanilla Inverse Propensity Score weighting (IPS) (weighting_scheme=\"ips_weight\")\n",
    "2. Self-normalized IPS weighting (also known as the Hajek estimator) (weighting_scheme=\"ips_normalized_weight\")\n",
    "3. Stabilized IPS weighting (weighting_scheme = \"ips_stabilized_weight\")"
   ]
  },
  {
   "cell_type": "code",
   "execution_count": 13,
   "id": "7113d46c",
   "metadata": {
    "execution": {
     "iopub.execute_input": "2022-08-18T15:43:46.009461Z",
     "iopub.status.busy": "2022-08-18T15:43:46.008844Z",
     "iopub.status.idle": "2022-08-18T15:43:46.088291Z",
     "shell.execute_reply": "2022-08-18T15:43:46.087460Z"
    }
   },
   "outputs": [
    {
     "name": "stdout",
     "output_type": "stream",
     "text": [
      "propensity_score_weighting\n",
      "*** Causal Estimate ***\n",
      "\n",
      "## Identified estimand\n",
      "Estimand type: nonparametric-ate\n",
      "\n",
      "### Estimand : 1\n",
      "Estimand name: backdoor\n",
      "Estimand expression:\n",
      "  d                       \n",
      "─────(E[y|W0,W1,W2,W3,W4])\n",
      "d[v₀]                     \n",
      "Estimand assumption 1, Unconfoundedness: If U→{v0} and U→y then P(y|v0,W0,W1,W2,W3,W4,U) = P(y|v0,W0,W1,W2,W3,W4)\n",
      "\n",
      "## Realized estimand\n",
      "b: y~v0+W0+W1+W2+W3+W4\n",
      "Target units: ate\n",
      "\n",
      "## Estimate\n",
      "Mean value: 1.0169210164337945\n",
      "\n",
      "Causal Estimate is 1.0169210164337945\n"
     ]
    },
    {
     "name": "stderr",
     "output_type": "stream",
     "text": [
      "/github/home/.cache/pypoetry/virtualenvs/dowhy-oN2hW5jr-py3.8/lib/python3.8/site-packages/sklearn/utils/validation.py:993: DataConversionWarning: A column-vector y was passed when a 1d array was expected. Please change the shape of y to (n_samples, ), for example using ravel().\n",
      "  y = column_or_1d(y, warn=True)\n"
     ]
    }
   ],
   "source": [
    "causal_estimate_ipw = model.estimate_effect(identified_estimand,\n",
    "                                            method_name=\"backdoor.propensity_score_weighting\",\n",
    "                                            target_units = \"ate\",\n",
    "                                            method_params={\"weighting_scheme\":\"ips_weight\"})\n",
    "print(causal_estimate_ipw)\n",
    "print(\"Causal Estimate is \" + str(causal_estimate_ipw.value))"
   ]
  },
  {
   "cell_type": "code",
   "execution_count": 14,
   "id": "b991e8dc",
   "metadata": {
    "execution": {
     "iopub.execute_input": "2022-08-18T15:43:46.091876Z",
     "iopub.status.busy": "2022-08-18T15:43:46.091368Z",
     "iopub.status.idle": "2022-08-18T15:43:46.121044Z",
     "shell.execute_reply": "2022-08-18T15:43:46.120106Z"
    }
   },
   "outputs": [
    {
     "name": "stdout",
     "output_type": "stream",
     "text": [
      "Increasing the treatment variable(s) [v0] from 0 to 1 causes an increase of 1.0169210164337945 in the expected value of the outcome [y], over the data distribution/population represented by the dataset.\n"
     ]
    }
   ],
   "source": [
    "# Textual Interpreter\n",
    "interpretation = causal_estimate_ipw.interpret(method_name=\"textual_effect_interpreter\")"
   ]
  },
  {
   "cell_type": "code",
   "execution_count": 15,
   "id": "32c51910",
   "metadata": {
    "execution": {
     "iopub.execute_input": "2022-08-18T15:43:46.124723Z",
     "iopub.status.busy": "2022-08-18T15:43:46.124184Z",
     "iopub.status.idle": "2022-08-18T15:43:46.532501Z",
     "shell.execute_reply": "2022-08-18T15:43:46.531537Z"
    }
   },
   "outputs": [
    {
     "data": {
      "image/png": "[encoded data removed]",
      "text/plain": [
       "<Figure size 576x576 with 2 Axes>"
      ]
     },
     "metadata": {
      "needs_background": "light"
     },
     "output_type": "display_data"
    }
   ],
   "source": [
    "interpretation = causal_estimate_ipw.interpret(method_name=\"confounder_distribution_interpreter\", fig_size=(8,8), font_size=12, var_name='W4', var_type='discrete')"
   ]
  },
  {
   "cell_type": "code",
   "execution_count": null,
   "id": "abdb0f7c",
   "metadata": {},
   "outputs": [],
   "source": []
  }
 ],
 "metadata": {
  "kernelspec": {
   "display_name": "Python 3",
   "language": "python",
   "name": "python3"
  },
  "language_info": {
   "codemirror_mode": {
    "name": "ipython",
    "version": 3
   },
   "file_extension": ".py",
   "mimetype": "text/x-python",
   "name": "python",
   "nbconvert_exporter": "python",
   "pygments_lexer": "ipython3",
   "version": "3.8.10"
  },
  "toc": {
   "base_numbering": 1,
   "nav_menu": {},
   "number_sections": false,
   "sideBar": true,
   "skip_h1_title": true,
   "title_cell": "Table of Contents",
   "title_sidebar": "Contents",
   "toc_cell": false,
   "toc_position": {},
   "toc_section_display": true,
   "toc_window_display": false
  }
 },
 "nbformat": 4,
 "nbformat_minor": 5
}
