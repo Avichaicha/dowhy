{
 "cells": [
  {
   "cell_type": "markdown",
   "id": "90df0c00",
   "metadata": {},
   "source": [
    "# DoWhy: Interpreters for Causal Estimators\n",
    "\n",
    "This is a quick introduction to the use of interpreters in the DoWhy causal inference library.\n",
    "We will load in a sample dataset, use different methods for estimating the causal effect of a (pre-specified)treatment variable on a (pre-specified) outcome variable and demonstrate how to interpret the obtained results.\n",
    "\n",
    "First, let us add the required path for Python to find the DoWhy code and load all required packages"
   ]
  },
  {
   "cell_type": "code",
   "execution_count": 1,
   "id": "f52d1b1c",
   "metadata": {
    "execution": {
     "iopub.execute_input": "2022-12-09T13:26:24.938041Z",
     "iopub.status.busy": "2022-12-09T13:26:24.937734Z",
     "iopub.status.idle": "2022-12-09T13:26:24.953889Z",
     "shell.execute_reply": "2022-12-09T13:26:24.953286Z"
    }
   },
   "outputs": [],
   "source": [
    "%load_ext autoreload\n",
    "%autoreload 2"
   ]
  },
  {
   "cell_type": "code",
   "execution_count": 2,
   "id": "524bc5df",
   "metadata": {
    "execution": {
     "iopub.execute_input": "2022-12-09T13:26:24.956988Z",
     "iopub.status.busy": "2022-12-09T13:26:24.956644Z",
     "iopub.status.idle": "2022-12-09T13:26:26.954670Z",
     "shell.execute_reply": "2022-12-09T13:26:26.953962Z"
    }
   },
   "outputs": [],
   "source": [
    "import numpy as np\n",
    "import pandas as pd\n",
    "import logging\n",
    "\n",
    "import dowhy\n",
    "from dowhy import CausalModel\n",
    "import dowhy.datasets "
   ]
  },
  {
   "cell_type": "markdown",
   "id": "ef984e0c",
   "metadata": {},
   "source": [
    "Now, let us load a dataset. For simplicity, we simulate a dataset with linear relationships between common causes and treatment, and common causes and outcome.\n",
    "\n",
    "Beta is the true causal effect."
   ]
  },
  {
   "cell_type": "code",
   "execution_count": 3,
   "id": "372dd6ef",
   "metadata": {
    "execution": {
     "iopub.execute_input": "2022-12-09T13:26:26.959289Z",
     "iopub.status.busy": "2022-12-09T13:26:26.958346Z",
     "iopub.status.idle": "2022-12-09T13:26:27.257402Z",
     "shell.execute_reply": "2022-12-09T13:26:27.256474Z"
    }
   },
   "outputs": [
    {
     "name": "stdout",
     "output_type": "stream",
     "text": [
      "7850\n"
     ]
    },
    {
     "data": {
      "text/html": [
       "<div>\n",
       "<style scoped>\n",
       "    .dataframe tbody tr th:only-of-type {\n",
       "        vertical-align: middle;\n",
       "    }\n",
       "\n",
       "    .dataframe tbody tr th {\n",
       "        vertical-align: top;\n",
       "    }\n",
       "\n",
       "    .dataframe thead th {\n",
       "        text-align: right;\n",
       "    }\n",
       "</style>\n",
       "<table border=\"1\" class=\"dataframe\">\n",
       "  <thead>\n",
       "    <tr style=\"text-align: right;\">\n",
       "      <th></th>\n",
       "      <th>Z0</th>\n",
       "      <th>Z1</th>\n",
       "      <th>W0</th>\n",
       "      <th>W1</th>\n",
       "      <th>W2</th>\n",
       "      <th>W3</th>\n",
       "      <th>W4</th>\n",
       "      <th>v0</th>\n",
       "      <th>y</th>\n",
       "    </tr>\n",
       "  </thead>\n",
       "  <tbody>\n",
       "    <tr>\n",
       "      <th>0</th>\n",
       "      <td>0.0</td>\n",
       "      <td>0.460378</td>\n",
       "      <td>2.094645</td>\n",
       "      <td>-0.905356</td>\n",
       "      <td>2.107125</td>\n",
       "      <td>0.304680</td>\n",
       "      <td>2</td>\n",
       "      <td>True</td>\n",
       "      <td>3.491775</td>\n",
       "    </tr>\n",
       "    <tr>\n",
       "      <th>1</th>\n",
       "      <td>0.0</td>\n",
       "      <td>0.557058</td>\n",
       "      <td>0.984891</td>\n",
       "      <td>0.052343</td>\n",
       "      <td>-2.356974</td>\n",
       "      <td>0.388651</td>\n",
       "      <td>2</td>\n",
       "      <td>True</td>\n",
       "      <td>1.946582</td>\n",
       "    </tr>\n",
       "    <tr>\n",
       "      <th>2</th>\n",
       "      <td>0.0</td>\n",
       "      <td>0.138622</td>\n",
       "      <td>1.951349</td>\n",
       "      <td>-0.994447</td>\n",
       "      <td>-0.478163</td>\n",
       "      <td>-2.298892</td>\n",
       "      <td>2</td>\n",
       "      <td>False</td>\n",
       "      <td>-0.710191</td>\n",
       "    </tr>\n",
       "    <tr>\n",
       "      <th>3</th>\n",
       "      <td>0.0</td>\n",
       "      <td>0.861805</td>\n",
       "      <td>1.905029</td>\n",
       "      <td>-0.440510</td>\n",
       "      <td>-0.797274</td>\n",
       "      <td>0.126289</td>\n",
       "      <td>1</td>\n",
       "      <td>True</td>\n",
       "      <td>1.906560</td>\n",
       "    </tr>\n",
       "    <tr>\n",
       "      <th>4</th>\n",
       "      <td>0.0</td>\n",
       "      <td>0.955804</td>\n",
       "      <td>0.939168</td>\n",
       "      <td>-0.932713</td>\n",
       "      <td>1.915344</td>\n",
       "      <td>0.065516</td>\n",
       "      <td>0</td>\n",
       "      <td>True</td>\n",
       "      <td>1.682520</td>\n",
       "    </tr>\n",
       "    <tr>\n",
       "      <th>...</th>\n",
       "      <td>...</td>\n",
       "      <td>...</td>\n",
       "      <td>...</td>\n",
       "      <td>...</td>\n",
       "      <td>...</td>\n",
       "      <td>...</td>\n",
       "      <td>...</td>\n",
       "      <td>...</td>\n",
       "      <td>...</td>\n",
       "    </tr>\n",
       "    <tr>\n",
       "      <th>9995</th>\n",
       "      <td>0.0</td>\n",
       "      <td>0.897255</td>\n",
       "      <td>2.602081</td>\n",
       "      <td>-1.210694</td>\n",
       "      <td>-0.538842</td>\n",
       "      <td>0.787322</td>\n",
       "      <td>2</td>\n",
       "      <td>True</td>\n",
       "      <td>3.003193</td>\n",
       "    </tr>\n",
       "    <tr>\n",
       "      <th>9996</th>\n",
       "      <td>1.0</td>\n",
       "      <td>0.163925</td>\n",
       "      <td>2.251230</td>\n",
       "      <td>-0.758780</td>\n",
       "      <td>-0.342202</td>\n",
       "      <td>-0.333857</td>\n",
       "      <td>3</td>\n",
       "      <td>True</td>\n",
       "      <td>2.738098</td>\n",
       "    </tr>\n",
       "    <tr>\n",
       "      <th>9997</th>\n",
       "      <td>0.0</td>\n",
       "      <td>0.109675</td>\n",
       "      <td>-0.084126</td>\n",
       "      <td>-2.109960</td>\n",
       "      <td>0.061971</td>\n",
       "      <td>-0.198053</td>\n",
       "      <td>0</td>\n",
       "      <td>False</td>\n",
       "      <td>-1.155726</td>\n",
       "    </tr>\n",
       "    <tr>\n",
       "      <th>9998</th>\n",
       "      <td>0.0</td>\n",
       "      <td>0.522127</td>\n",
       "      <td>3.037286</td>\n",
       "      <td>-0.804982</td>\n",
       "      <td>-0.267289</td>\n",
       "      <td>-0.386048</td>\n",
       "      <td>1</td>\n",
       "      <td>True</td>\n",
       "      <td>1.953647</td>\n",
       "    </tr>\n",
       "    <tr>\n",
       "      <th>9999</th>\n",
       "      <td>1.0</td>\n",
       "      <td>0.360852</td>\n",
       "      <td>0.672488</td>\n",
       "      <td>0.314786</td>\n",
       "      <td>1.441065</td>\n",
       "      <td>-0.039670</td>\n",
       "      <td>0</td>\n",
       "      <td>True</td>\n",
       "      <td>1.907063</td>\n",
       "    </tr>\n",
       "  </tbody>\n",
       "</table>\n",
       "<p>10000 rows × 9 columns</p>\n",
       "</div>"
      ],
      "text/plain": [
       "       Z0        Z1        W0        W1        W2        W3 W4     v0  \\\n",
       "0     0.0  0.460378  2.094645 -0.905356  2.107125  0.304680  2   True   \n",
       "1     0.0  0.557058  0.984891  0.052343 -2.356974  0.388651  2   True   \n",
       "2     0.0  0.138622  1.951349 -0.994447 -0.478163 -2.298892  2  False   \n",
       "3     0.0  0.861805  1.905029 -0.440510 -0.797274  0.126289  1   True   \n",
       "4     0.0  0.955804  0.939168 -0.932713  1.915344  0.065516  0   True   \n",
       "...   ...       ...       ...       ...       ...       ... ..    ...   \n",
       "9995  0.0  0.897255  2.602081 -1.210694 -0.538842  0.787322  2   True   \n",
       "9996  1.0  0.163925  2.251230 -0.758780 -0.342202 -0.333857  3   True   \n",
       "9997  0.0  0.109675 -0.084126 -2.109960  0.061971 -0.198053  0  False   \n",
       "9998  0.0  0.522127  3.037286 -0.804982 -0.267289 -0.386048  1   True   \n",
       "9999  1.0  0.360852  0.672488  0.314786  1.441065 -0.039670  0   True   \n",
       "\n",
       "             y  \n",
       "0     3.491775  \n",
       "1     1.946582  \n",
       "2    -0.710191  \n",
       "3     1.906560  \n",
       "4     1.682520  \n",
       "...        ...  \n",
       "9995  3.003193  \n",
       "9996  2.738098  \n",
       "9997 -1.155726  \n",
       "9998  1.953647  \n",
       "9999  1.907063  \n",
       "\n",
       "[10000 rows x 9 columns]"
      ]
     },
     "execution_count": 3,
     "metadata": {},
     "output_type": "execute_result"
    }
   ],
   "source": [
    "data = dowhy.datasets.linear_dataset(beta=1,\n",
    "        num_common_causes=5, \n",
    "        num_instruments = 2,\n",
    "        num_treatments=1,\n",
    "        num_discrete_common_causes=1,\n",
    "        num_samples=10000,\n",
    "        treatment_is_binary=True,\n",
    "        outcome_is_binary=False)\n",
    "df = data[\"df\"]\n",
    "print(df[df.v0==True].shape[0])\n",
    "df"
   ]
  },
  {
   "cell_type": "markdown",
   "id": "4c6b9ba6",
   "metadata": {},
   "source": [
    "Note that we are using a pandas dataframe to load the data."
   ]
  },
  {
   "cell_type": "markdown",
   "id": "dea4d348",
   "metadata": {},
   "source": [
    "## Identifying the causal estimand"
   ]
  },
  {
   "cell_type": "markdown",
   "id": "493d24f9",
   "metadata": {},
   "source": [
    "We now input a causal graph in the GML graph format."
   ]
  },
  {
   "cell_type": "code",
   "execution_count": 4,
   "id": "5020d699",
   "metadata": {
    "execution": {
     "iopub.execute_input": "2022-12-09T13:26:27.260414Z",
     "iopub.status.busy": "2022-12-09T13:26:27.260095Z",
     "iopub.status.idle": "2022-12-09T13:26:27.292260Z",
     "shell.execute_reply": "2022-12-09T13:26:27.291677Z"
    }
   },
   "outputs": [],
   "source": [
    "# With graph\n",
    "model=CausalModel(\n",
    "        data = df,\n",
    "        treatment=data[\"treatment_name\"],\n",
    "        outcome=data[\"outcome_name\"],\n",
    "        graph=data[\"gml_graph\"],\n",
    "        instruments=data[\"instrument_names\"]\n",
    "        )"
   ]
  },
  {
   "cell_type": "code",
   "execution_count": 5,
   "id": "9ac7842a",
   "metadata": {
    "execution": {
     "iopub.execute_input": "2022-12-09T13:26:27.295397Z",
     "iopub.status.busy": "2022-12-09T13:26:27.294825Z",
     "iopub.status.idle": "2022-12-09T13:26:27.354482Z",
     "shell.execute_reply": "2022-12-09T13:26:27.353822Z"
    }
   },
   "outputs": [],
   "source": [
    "model.view_model()"
   ]
  },
  {
   "cell_type": "code",
   "execution_count": 6,
   "id": "e3ced3f4",
   "metadata": {
    "execution": {
     "iopub.execute_input": "2022-12-09T13:26:27.358116Z",
     "iopub.status.busy": "2022-12-09T13:26:27.357420Z",
     "iopub.status.idle": "2022-12-09T13:26:27.389370Z",
     "shell.execute_reply": "2022-12-09T13:26:27.388819Z"
    }
   },
   "outputs": [
    {
     "data": {
      "image/png": "[encoded data removed]",
      "text/plain": [
       "<IPython.core.display.Image object>"
      ]
     },
     "metadata": {},
     "output_type": "display_data"
    }
   ],
   "source": [
    "from IPython.display import Image, display\n",
    "display(Image(filename=\"causal_model.png\"))"
   ]
  },
  {
   "cell_type": "markdown",
   "id": "1827e49b",
   "metadata": {},
   "source": [
    "We get a causal graph. Now identification and estimation is done."
   ]
  },
  {
   "cell_type": "code",
   "execution_count": 7,
   "id": "75a78c4c",
   "metadata": {
    "execution": {
     "iopub.execute_input": "2022-12-09T13:26:27.392408Z",
     "iopub.status.busy": "2022-12-09T13:26:27.391947Z",
     "iopub.status.idle": "2022-12-09T13:26:27.627625Z",
     "shell.execute_reply": "2022-12-09T13:26:27.627025Z"
    }
   },
   "outputs": [
    {
     "name": "stdout",
     "output_type": "stream",
     "text": [
      "Estimand type: EstimandType.NONPARAMETRIC_ATE\n",
      "\n",
      "### Estimand : 1\n",
      "Estimand name: backdoor\n",
      "Estimand expression:\n",
      "  d                       \n",
      "─────(E[y|W4,W2,W1,W3,W0])\n",
      "d[v₀]                     \n",
      "Estimand assumption 1, Unconfoundedness: If U→{v0} and U→y then P(y|v0,W4,W2,W1,W3,W0,U) = P(y|v0,W4,W2,W1,W3,W0)\n",
      "\n",
      "### Estimand : 2\n",
      "Estimand name: iv\n",
      "Estimand expression:\n",
      " ⎡                              -1⎤\n",
      " ⎢    d        ⎛    d          ⎞  ⎥\n",
      "E⎢─────────(y)⋅⎜─────────([v₀])⎟  ⎥\n",
      " ⎣d[Z₀  Z₁]    ⎝d[Z₀  Z₁]      ⎠  ⎦\n",
      "Estimand assumption 1, As-if-random: If U→→y then ¬(U →→{Z0,Z1})\n",
      "Estimand assumption 2, Exclusion: If we remove {Z0,Z1}→{v0}, then ¬({Z0,Z1}→y)\n",
      "\n",
      "### Estimand : 3\n",
      "Estimand name: frontdoor\n",
      "No such variable(s) found!\n",
      "\n"
     ]
    }
   ],
   "source": [
    "identified_estimand = model.identify_effect(proceed_when_unidentifiable=True)\n",
    "print(identified_estimand)"
   ]
  },
  {
   "cell_type": "markdown",
   "id": "60e307a2",
   "metadata": {},
   "source": [
    "## Method 1: Propensity Score Stratification\n",
    "\n",
    "We will be using propensity scores to stratify units in the data."
   ]
  },
  {
   "cell_type": "code",
   "execution_count": 8,
   "id": "a50e131a",
   "metadata": {
    "execution": {
     "iopub.execute_input": "2022-12-09T13:26:27.630911Z",
     "iopub.status.busy": "2022-12-09T13:26:27.630483Z",
     "iopub.status.idle": "2022-12-09T13:26:28.365066Z",
     "shell.execute_reply": "2022-12-09T13:26:28.364199Z"
    }
   },
   "outputs": [
    {
     "name": "stdout",
     "output_type": "stream",
     "text": [
      "*** Causal Estimate ***\n",
      "\n",
      "## Identified estimand\n",
      "Estimand type: EstimandType.NONPARAMETRIC_ATE\n",
      "\n",
      "### Estimand : 1\n",
      "Estimand name: backdoor\n",
      "Estimand expression:\n",
      "  d                       \n",
      "─────(E[y|W4,W2,W1,W3,W0])\n",
      "d[v₀]                     \n",
      "Estimand assumption 1, Unconfoundedness: If U→{v0} and U→y then P(y|v0,W4,W2,W1,W3,W0,U) = P(y|v0,W4,W2,W1,W3,W0)\n",
      "\n",
      "## Realized estimand\n",
      "b: y~v0+W4+W2+W1+W3+W0\n",
      "Target units: att\n",
      "\n",
      "## Estimate\n",
      "Mean value: 1.0025586618920084\n",
      "\n",
      "Causal Estimate is 1.0025586618920084\n"
     ]
    }
   ],
   "source": [
    "causal_estimate_strat = model.estimate_effect(identified_estimand,\n",
    "                                              method_name=\"backdoor.propensity_score_stratification\",\n",
    "                                              target_units=\"att\")\n",
    "print(causal_estimate_strat)\n",
    "print(\"Causal Estimate is \" + str(causal_estimate_strat.value))"
   ]
  },
  {
   "cell_type": "markdown",
   "id": "d374765c",
   "metadata": {},
   "source": [
    "### Textual Interpreter\n",
    "\n",
    "The textual Interpreter describes (in words) the effect of unit change in the treatment variable on the outcome variable."
   ]
  },
  {
   "cell_type": "code",
   "execution_count": 9,
   "id": "4692986a",
   "metadata": {
    "execution": {
     "iopub.execute_input": "2022-12-09T13:26:28.368877Z",
     "iopub.status.busy": "2022-12-09T13:26:28.368229Z",
     "iopub.status.idle": "2022-12-09T13:26:28.406351Z",
     "shell.execute_reply": "2022-12-09T13:26:28.405689Z"
    }
   },
   "outputs": [
    {
     "name": "stdout",
     "output_type": "stream",
     "text": [
      "Increasing the treatment variable(s) [v0] from 0 to 1 causes an increase of 1.0025586618920084 in the expected value of the outcome [y], over the data distribution/population represented by the dataset.\n"
     ]
    }
   ],
   "source": [
    "# Textual Interpreter\n",
    "interpretation = causal_estimate_strat.interpret(method_name=\"textual_effect_interpreter\")"
   ]
  },
  {
   "cell_type": "markdown",
   "id": "b426a124",
   "metadata": {},
   "source": [
    "### Visual Interpreter\n",
    "\n",
    "The visual interpreter plots the change in the standardized mean difference (SMD) before and after Propensity Score based adjustment of the dataset. The formula for SMD is given below.\n",
    "\n",
    "\n",
    "$SMD = \\frac{\\bar X_{1} - \\bar X_{2}}{\\sqrt{(S_{1}^{2} + S_{2}^{2})/2}}$\n",
    "\n",
    "Here, $\\bar X_{1}$ and $\\bar X_{2}$ are the sample mean for the treated and control groups.\n"
   ]
  },
  {
   "cell_type": "code",
   "execution_count": 10,
   "id": "f72d4773",
   "metadata": {
    "execution": {
     "iopub.execute_input": "2022-12-09T13:26:28.409594Z",
     "iopub.status.busy": "2022-12-09T13:26:28.409219Z",
     "iopub.status.idle": "2022-12-09T13:26:29.461457Z",
     "shell.execute_reply": "2022-12-09T13:26:29.460682Z"
    }
   },
   "outputs": [
    {
     "data": {
      "image/png": "[encoded data removed]",
      "text/plain": [
       "<Figure size 640x480 with 1 Axes>"
      ]
     },
     "metadata": {},
     "output_type": "display_data"
    }
   ],
   "source": [
    "# Visual Interpreter\n",
    "interpretation = causal_estimate_strat.interpret(method_name=\"propensity_balance_interpreter\")"
   ]
  },
  {
   "cell_type": "markdown",
   "id": "53fe9a6b",
   "metadata": {},
   "source": [
    "This plot shows how the SMD decreases from the unadjusted to the stratified units. "
   ]
  },
  {
   "cell_type": "markdown",
   "id": "cf7f08e9",
   "metadata": {},
   "source": [
    "## Method 2: Propensity Score Matching\n",
    "\n",
    "We will be using propensity scores to match units in the data."
   ]
  },
  {
   "cell_type": "code",
   "execution_count": 11,
   "id": "0840d74a",
   "metadata": {
    "execution": {
     "iopub.execute_input": "2022-12-09T13:26:29.464824Z",
     "iopub.status.busy": "2022-12-09T13:26:29.464334Z",
     "iopub.status.idle": "2022-12-09T13:26:33.720145Z",
     "shell.execute_reply": "2022-12-09T13:26:33.719468Z"
    }
   },
   "outputs": [
    {
     "name": "stdout",
     "output_type": "stream",
     "text": [
      "*** Causal Estimate ***\n",
      "\n",
      "## Identified estimand\n",
      "Estimand type: EstimandType.NONPARAMETRIC_ATE\n",
      "\n",
      "### Estimand : 1\n",
      "Estimand name: backdoor\n",
      "Estimand expression:\n",
      "  d                       \n",
      "─────(E[y|W4,W2,W1,W3,W0])\n",
      "d[v₀]                     \n",
      "Estimand assumption 1, Unconfoundedness: If U→{v0} and U→y then P(y|v0,W4,W2,W1,W3,W0,U) = P(y|v0,W4,W2,W1,W3,W0)\n",
      "\n",
      "## Realized estimand\n",
      "b: y~v0+W4+W2+W1+W3+W0\n",
      "Target units: atc\n",
      "\n",
      "## Estimate\n",
      "Mean value: 0.9931491454496031\n",
      "\n",
      "Causal Estimate is 0.9931491454496031\n"
     ]
    }
   ],
   "source": [
    "causal_estimate_match = model.estimate_effect(identified_estimand,\n",
    "                                              method_name=\"backdoor.propensity_score_matching\",\n",
    "                                              target_units=\"atc\")\n",
    "print(causal_estimate_match)\n",
    "print(\"Causal Estimate is \" + str(causal_estimate_match.value))"
   ]
  },
  {
   "cell_type": "code",
   "execution_count": 12,
   "id": "da1a26a8",
   "metadata": {
    "execution": {
     "iopub.execute_input": "2022-12-09T13:26:33.723999Z",
     "iopub.status.busy": "2022-12-09T13:26:33.723408Z",
     "iopub.status.idle": "2022-12-09T13:26:33.755453Z",
     "shell.execute_reply": "2022-12-09T13:26:33.754807Z"
    }
   },
   "outputs": [
    {
     "name": "stdout",
     "output_type": "stream",
     "text": [
      "Increasing the treatment variable(s) [v0] from 0 to 1 causes an increase of 0.9931491454496031 in the expected value of the outcome [y], over the data distribution/population represented by the dataset.\n"
     ]
    }
   ],
   "source": [
    "# Textual Interpreter\n",
    "interpretation = causal_estimate_match.interpret(method_name=\"textual_effect_interpreter\")"
   ]
  },
  {
   "cell_type": "markdown",
   "id": "cde52a54",
   "metadata": {},
   "source": [
    "Cannot use propensity balance interpretor here since the interpreter method only supports propensity score stratification estimator."
   ]
  },
  {
   "cell_type": "markdown",
   "id": "a8d960cc",
   "metadata": {},
   "source": [
    "## Method 3: Weighting\n",
    "\n",
    "We will be using (inverse) propensity scores to assign weights to units in the data. DoWhy supports a few different weighting schemes:\n",
    "1. Vanilla Inverse Propensity Score weighting (IPS) (weighting_scheme=\"ips_weight\")\n",
    "2. Self-normalized IPS weighting (also known as the Hajek estimator) (weighting_scheme=\"ips_normalized_weight\")\n",
    "3. Stabilized IPS weighting (weighting_scheme = \"ips_stabilized_weight\")"
   ]
  },
  {
   "cell_type": "code",
   "execution_count": 13,
   "id": "1512ebb1",
   "metadata": {
    "execution": {
     "iopub.execute_input": "2022-12-09T13:26:33.758586Z",
     "iopub.status.busy": "2022-12-09T13:26:33.758063Z",
     "iopub.status.idle": "2022-12-09T13:26:33.811947Z",
     "shell.execute_reply": "2022-12-09T13:26:33.811198Z"
    }
   },
   "outputs": [
    {
     "name": "stdout",
     "output_type": "stream",
     "text": [
      "*** Causal Estimate ***\n",
      "\n",
      "## Identified estimand\n",
      "Estimand type: EstimandType.NONPARAMETRIC_ATE\n",
      "\n",
      "### Estimand : 1\n",
      "Estimand name: backdoor\n",
      "Estimand expression:\n",
      "  d                       \n",
      "─────(E[y|W4,W2,W1,W3,W0])\n",
      "d[v₀]                     \n",
      "Estimand assumption 1, Unconfoundedness: If U→{v0} and U→y then P(y|v0,W4,W2,W1,W3,W0,U) = P(y|v0,W4,W2,W1,W3,W0)\n",
      "\n",
      "## Realized estimand\n",
      "b: y~v0+W4+W2+W1+W3+W0\n",
      "Target units: ate\n",
      "\n",
      "## Estimate\n",
      "Mean value: 1.090769866653014\n",
      "\n",
      "Causal Estimate is 1.090769866653014\n"
     ]
    }
   ],
   "source": [
    "causal_estimate_ipw = model.estimate_effect(identified_estimand,\n",
    "                                            method_name=\"backdoor.propensity_score_weighting\",\n",
    "                                            target_units = \"ate\",\n",
    "                                            method_params={\"weighting_scheme\":\"ips_weight\"})\n",
    "print(causal_estimate_ipw)\n",
    "print(\"Causal Estimate is \" + str(causal_estimate_ipw.value))"
   ]
  },
  {
   "cell_type": "code",
   "execution_count": 14,
   "id": "ede719fb",
   "metadata": {
    "execution": {
     "iopub.execute_input": "2022-12-09T13:26:33.814923Z",
     "iopub.status.busy": "2022-12-09T13:26:33.814545Z",
     "iopub.status.idle": "2022-12-09T13:26:33.844813Z",
     "shell.execute_reply": "2022-12-09T13:26:33.844086Z"
    }
   },
   "outputs": [
    {
     "name": "stdout",
     "output_type": "stream",
     "text": [
      "Increasing the treatment variable(s) [v0] from 0 to 1 causes an increase of 1.090769866653014 in the expected value of the outcome [y], over the data distribution/population represented by the dataset.\n"
     ]
    }
   ],
   "source": [
    "# Textual Interpreter\n",
    "interpretation = causal_estimate_ipw.interpret(method_name=\"textual_effect_interpreter\")"
   ]
  },
  {
   "cell_type": "code",
   "execution_count": 15,
   "id": "80e263ab",
   "metadata": {
    "execution": {
     "iopub.execute_input": "2022-12-09T13:26:33.847681Z",
     "iopub.status.busy": "2022-12-09T13:26:33.847335Z",
     "iopub.status.idle": "2022-12-09T13:26:34.161802Z",
     "shell.execute_reply": "2022-12-09T13:26:34.161101Z"
    }
   },
   "outputs": [
    {
     "data": {
      "image/png": "[encoded data removed]",
      "text/plain": [
       "<Figure size 800x800 with 2 Axes>"
      ]
     },
     "metadata": {},
     "output_type": "display_data"
    }
   ],
   "source": [
    "interpretation = causal_estimate_ipw.interpret(method_name=\"confounder_distribution_interpreter\", fig_size=(8,8), font_size=12, var_name='W4', var_type='discrete')"
   ]
  },
  {
   "cell_type": "code",
   "execution_count": null,
   "id": "2b9e55a5",
   "metadata": {},
   "outputs": [],
   "source": []
  }
 ],
 "metadata": {
  "kernelspec": {
   "display_name": "Python 3",
   "language": "python",
   "name": "python3"
  },
  "language_info": {
   "codemirror_mode": {
    "name": "ipython",
    "version": 3
   },
   "file_extension": ".py",
   "mimetype": "text/x-python",
   "name": "python",
   "nbconvert_exporter": "python",
   "pygments_lexer": "ipython3",
   "version": "3.8.10"
  },
  "toc": {
   "base_numbering": 1,
   "nav_menu": {},
   "number_sections": false,
   "sideBar": true,
   "skip_h1_title": true,
   "title_cell": "Table of Contents",
   "title_sidebar": "Contents",
   "toc_cell": false,
   "toc_position": {},
   "toc_section_display": true,
   "toc_window_display": false
  }
 },
 "nbformat": 4,
 "nbformat_minor": 5
}
