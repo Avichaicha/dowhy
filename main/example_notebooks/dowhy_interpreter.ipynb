{
 "cells": [
  {
   "cell_type": "markdown",
   "id": "d86b2465",
   "metadata": {},
   "source": [
    "# DoWhy: Interpreters for Causal Estimators\n",
    "\n",
    "This is a quick introduction to the use of interpreters in the DoWhy causal inference library.\n",
    "We will load in a sample dataset, use different methods for estimating the causal effect of a (pre-specified)treatment variable on a (pre-specified) outcome variable and demonstrate how to interpret the obtained results.\n",
    "\n",
    "First, let us add the required path for Python to find the DoWhy code and load all required packages"
   ]
  },
  {
   "cell_type": "code",
   "execution_count": 1,
   "id": "aa62ff28",
   "metadata": {
    "execution": {
     "iopub.execute_input": "2022-08-03T08:19:14.696571Z",
     "iopub.status.busy": "2022-08-03T08:19:14.696303Z",
     "iopub.status.idle": "2022-08-03T08:19:14.712276Z",
     "shell.execute_reply": "2022-08-03T08:19:14.711694Z"
    }
   },
   "outputs": [],
   "source": [
    "%load_ext autoreload\n",
    "%autoreload 2"
   ]
  },
  {
   "cell_type": "code",
   "execution_count": 2,
   "id": "4b5e8e54",
   "metadata": {
    "execution": {
     "iopub.execute_input": "2022-08-03T08:19:14.715637Z",
     "iopub.status.busy": "2022-08-03T08:19:14.715199Z",
     "iopub.status.idle": "2022-08-03T08:19:15.791328Z",
     "shell.execute_reply": "2022-08-03T08:19:15.790589Z"
    }
   },
   "outputs": [
    {
     "name": "stdout",
     "output_type": "stream",
     "text": [
      "keywords are unexpanded, not using\n"
     ]
    }
   ],
   "source": [
    "import numpy as np\n",
    "import pandas as pd\n",
    "import logging\n",
    "\n",
    "import dowhy\n",
    "from dowhy import CausalModel\n",
    "import dowhy.datasets "
   ]
  },
  {
   "cell_type": "markdown",
   "id": "0d931fce",
   "metadata": {},
   "source": [
    "Now, let us load a dataset. For simplicity, we simulate a dataset with linear relationships between common causes and treatment, and common causes and outcome.\n",
    "\n",
    "Beta is the true causal effect."
   ]
  },
  {
   "cell_type": "code",
   "execution_count": 3,
   "id": "7ef37b9c",
   "metadata": {
    "execution": {
     "iopub.execute_input": "2022-08-03T08:19:15.795443Z",
     "iopub.status.busy": "2022-08-03T08:19:15.794679Z",
     "iopub.status.idle": "2022-08-03T08:19:16.121446Z",
     "shell.execute_reply": "2022-08-03T08:19:16.120855Z"
    }
   },
   "outputs": [
    {
     "name": "stdout",
     "output_type": "stream",
     "text": [
      "8261\n"
     ]
    },
    {
     "data": {
      "text/html": [
       "<div>\n",
       "<style scoped>\n",
       "    .dataframe tbody tr th:only-of-type {\n",
       "        vertical-align: middle;\n",
       "    }\n",
       "\n",
       "    .dataframe tbody tr th {\n",
       "        vertical-align: top;\n",
       "    }\n",
       "\n",
       "    .dataframe thead th {\n",
       "        text-align: right;\n",
       "    }\n",
       "</style>\n",
       "<table border=\"1\" class=\"dataframe\">\n",
       "  <thead>\n",
       "    <tr style=\"text-align: right;\">\n",
       "      <th></th>\n",
       "      <th>Z0</th>\n",
       "      <th>Z1</th>\n",
       "      <th>W0</th>\n",
       "      <th>W1</th>\n",
       "      <th>W2</th>\n",
       "      <th>W3</th>\n",
       "      <th>W4</th>\n",
       "      <th>v0</th>\n",
       "      <th>y</th>\n",
       "    </tr>\n",
       "  </thead>\n",
       "  <tbody>\n",
       "    <tr>\n",
       "      <th>0</th>\n",
       "      <td>0.0</td>\n",
       "      <td>0.523778</td>\n",
       "      <td>0.129807</td>\n",
       "      <td>0.015661</td>\n",
       "      <td>-1.008067</td>\n",
       "      <td>-0.177333</td>\n",
       "      <td>0</td>\n",
       "      <td>True</td>\n",
       "      <td>-0.128976</td>\n",
       "    </tr>\n",
       "    <tr>\n",
       "      <th>1</th>\n",
       "      <td>1.0</td>\n",
       "      <td>0.846517</td>\n",
       "      <td>-0.499679</td>\n",
       "      <td>-0.403526</td>\n",
       "      <td>0.024806</td>\n",
       "      <td>-0.404751</td>\n",
       "      <td>2</td>\n",
       "      <td>True</td>\n",
       "      <td>0.733150</td>\n",
       "    </tr>\n",
       "    <tr>\n",
       "      <th>2</th>\n",
       "      <td>1.0</td>\n",
       "      <td>0.524688</td>\n",
       "      <td>-0.811945</td>\n",
       "      <td>1.637120</td>\n",
       "      <td>-0.067636</td>\n",
       "      <td>1.261627</td>\n",
       "      <td>3</td>\n",
       "      <td>True</td>\n",
       "      <td>3.266337</td>\n",
       "    </tr>\n",
       "    <tr>\n",
       "      <th>3</th>\n",
       "      <td>0.0</td>\n",
       "      <td>0.151813</td>\n",
       "      <td>-0.659889</td>\n",
       "      <td>1.087312</td>\n",
       "      <td>-1.654922</td>\n",
       "      <td>0.490124</td>\n",
       "      <td>0</td>\n",
       "      <td>True</td>\n",
       "      <td>0.232663</td>\n",
       "    </tr>\n",
       "    <tr>\n",
       "      <th>4</th>\n",
       "      <td>0.0</td>\n",
       "      <td>0.209362</td>\n",
       "      <td>-1.324691</td>\n",
       "      <td>0.188795</td>\n",
       "      <td>-0.146464</td>\n",
       "      <td>0.386545</td>\n",
       "      <td>3</td>\n",
       "      <td>True</td>\n",
       "      <td>1.644992</td>\n",
       "    </tr>\n",
       "    <tr>\n",
       "      <th>...</th>\n",
       "      <td>...</td>\n",
       "      <td>...</td>\n",
       "      <td>...</td>\n",
       "      <td>...</td>\n",
       "      <td>...</td>\n",
       "      <td>...</td>\n",
       "      <td>...</td>\n",
       "      <td>...</td>\n",
       "      <td>...</td>\n",
       "    </tr>\n",
       "    <tr>\n",
       "      <th>9995</th>\n",
       "      <td>0.0</td>\n",
       "      <td>0.768588</td>\n",
       "      <td>1.061173</td>\n",
       "      <td>0.262016</td>\n",
       "      <td>1.343606</td>\n",
       "      <td>-0.319174</td>\n",
       "      <td>3</td>\n",
       "      <td>True</td>\n",
       "      <td>2.756417</td>\n",
       "    </tr>\n",
       "    <tr>\n",
       "      <th>9996</th>\n",
       "      <td>0.0</td>\n",
       "      <td>0.272097</td>\n",
       "      <td>-0.464674</td>\n",
       "      <td>1.675110</td>\n",
       "      <td>-0.178752</td>\n",
       "      <td>-0.786157</td>\n",
       "      <td>2</td>\n",
       "      <td>True</td>\n",
       "      <td>1.068393</td>\n",
       "    </tr>\n",
       "    <tr>\n",
       "      <th>9997</th>\n",
       "      <td>0.0</td>\n",
       "      <td>0.561283</td>\n",
       "      <td>-0.995211</td>\n",
       "      <td>0.727499</td>\n",
       "      <td>-2.045942</td>\n",
       "      <td>0.820046</td>\n",
       "      <td>0</td>\n",
       "      <td>True</td>\n",
       "      <td>-0.034876</td>\n",
       "    </tr>\n",
       "    <tr>\n",
       "      <th>9998</th>\n",
       "      <td>0.0</td>\n",
       "      <td>0.708628</td>\n",
       "      <td>0.080785</td>\n",
       "      <td>0.715546</td>\n",
       "      <td>-1.327651</td>\n",
       "      <td>-1.276250</td>\n",
       "      <td>0</td>\n",
       "      <td>False</td>\n",
       "      <td>-2.227335</td>\n",
       "    </tr>\n",
       "    <tr>\n",
       "      <th>9999</th>\n",
       "      <td>0.0</td>\n",
       "      <td>0.754862</td>\n",
       "      <td>-1.546413</td>\n",
       "      <td>0.778125</td>\n",
       "      <td>-0.195358</td>\n",
       "      <td>-0.752629</td>\n",
       "      <td>0</td>\n",
       "      <td>False</td>\n",
       "      <td>-0.761195</td>\n",
       "    </tr>\n",
       "  </tbody>\n",
       "</table>\n",
       "<p>10000 rows × 9 columns</p>\n",
       "</div>"
      ],
      "text/plain": [
       "       Z0        Z1        W0        W1        W2        W3 W4     v0  \\\n",
       "0     0.0  0.523778  0.129807  0.015661 -1.008067 -0.177333  0   True   \n",
       "1     1.0  0.846517 -0.499679 -0.403526  0.024806 -0.404751  2   True   \n",
       "2     1.0  0.524688 -0.811945  1.637120 -0.067636  1.261627  3   True   \n",
       "3     0.0  0.151813 -0.659889  1.087312 -1.654922  0.490124  0   True   \n",
       "4     0.0  0.209362 -1.324691  0.188795 -0.146464  0.386545  3   True   \n",
       "...   ...       ...       ...       ...       ...       ... ..    ...   \n",
       "9995  0.0  0.768588  1.061173  0.262016  1.343606 -0.319174  3   True   \n",
       "9996  0.0  0.272097 -0.464674  1.675110 -0.178752 -0.786157  2   True   \n",
       "9997  0.0  0.561283 -0.995211  0.727499 -2.045942  0.820046  0   True   \n",
       "9998  0.0  0.708628  0.080785  0.715546 -1.327651 -1.276250  0  False   \n",
       "9999  0.0  0.754862 -1.546413  0.778125 -0.195358 -0.752629  0  False   \n",
       "\n",
       "             y  \n",
       "0    -0.128976  \n",
       "1     0.733150  \n",
       "2     3.266337  \n",
       "3     0.232663  \n",
       "4     1.644992  \n",
       "...        ...  \n",
       "9995  2.756417  \n",
       "9996  1.068393  \n",
       "9997 -0.034876  \n",
       "9998 -2.227335  \n",
       "9999 -0.761195  \n",
       "\n",
       "[10000 rows x 9 columns]"
      ]
     },
     "execution_count": 3,
     "metadata": {},
     "output_type": "execute_result"
    }
   ],
   "source": [
    "data = dowhy.datasets.linear_dataset(beta=1,\n",
    "        num_common_causes=5, \n",
    "        num_instruments = 2,\n",
    "        num_treatments=1,\n",
    "        num_discrete_common_causes=1,\n",
    "        num_samples=10000,\n",
    "        treatment_is_binary=True,\n",
    "        outcome_is_binary=False)\n",
    "df = data[\"df\"]\n",
    "print(df[df.v0==True].shape[0])\n",
    "df"
   ]
  },
  {
   "cell_type": "markdown",
   "id": "ffc8c939",
   "metadata": {},
   "source": [
    "Note that we are using a pandas dataframe to load the data."
   ]
  },
  {
   "cell_type": "markdown",
   "id": "4e78cc53",
   "metadata": {},
   "source": [
    "## Identifying the causal estimand"
   ]
  },
  {
   "cell_type": "markdown",
   "id": "ee86dfcb",
   "metadata": {},
   "source": [
    "We now input a causal graph in the GML graph format."
   ]
  },
  {
   "cell_type": "code",
   "execution_count": 4,
   "id": "2f82b24d",
   "metadata": {
    "execution": {
     "iopub.execute_input": "2022-08-03T08:19:16.125587Z",
     "iopub.status.busy": "2022-08-03T08:19:16.125175Z",
     "iopub.status.idle": "2022-08-03T08:19:16.149972Z",
     "shell.execute_reply": "2022-08-03T08:19:16.149370Z"
    }
   },
   "outputs": [],
   "source": [
    "# With graph\n",
    "model=CausalModel(\n",
    "        data = df,\n",
    "        treatment=data[\"treatment_name\"],\n",
    "        outcome=data[\"outcome_name\"],\n",
    "        graph=data[\"gml_graph\"],\n",
    "        instruments=data[\"instrument_names\"]\n",
    "        )"
   ]
  },
  {
   "cell_type": "code",
   "execution_count": 5,
   "id": "1f0239a6",
   "metadata": {
    "execution": {
     "iopub.execute_input": "2022-08-03T08:19:16.154708Z",
     "iopub.status.busy": "2022-08-03T08:19:16.153450Z",
     "iopub.status.idle": "2022-08-03T08:19:16.213110Z",
     "shell.execute_reply": "2022-08-03T08:19:16.212394Z"
    }
   },
   "outputs": [],
   "source": [
    "model.view_model()"
   ]
  },
  {
   "cell_type": "code",
   "execution_count": 6,
   "id": "10d63d34",
   "metadata": {
    "execution": {
     "iopub.execute_input": "2022-08-03T08:19:16.217124Z",
     "iopub.status.busy": "2022-08-03T08:19:16.216468Z",
     "iopub.status.idle": "2022-08-03T08:19:16.244447Z",
     "shell.execute_reply": "2022-08-03T08:19:16.243772Z"
    }
   },
   "outputs": [
    {
     "data": {
      "image/png": "[encoded data removed]",
      "text/plain": [
       "<IPython.core.display.Image object>"
      ]
     },
     "metadata": {},
     "output_type": "display_data"
    }
   ],
   "source": [
    "from IPython.display import Image, display\n",
    "display(Image(filename=\"causal_model.png\"))"
   ]
  },
  {
   "cell_type": "markdown",
   "id": "b16dedb0",
   "metadata": {},
   "source": [
    "We get a causal graph. Now identification and estimation is done."
   ]
  },
  {
   "cell_type": "code",
   "execution_count": 7,
   "id": "aca66b93",
   "metadata": {
    "execution": {
     "iopub.execute_input": "2022-08-03T08:19:16.248159Z",
     "iopub.status.busy": "2022-08-03T08:19:16.247688Z",
     "iopub.status.idle": "2022-08-03T08:19:16.475214Z",
     "shell.execute_reply": "2022-08-03T08:19:16.474382Z"
    }
   },
   "outputs": [
    {
     "name": "stdout",
     "output_type": "stream",
     "text": [
      "Estimand type: nonparametric-ate\n",
      "\n",
      "### Estimand : 1\n",
      "Estimand name: backdoor\n",
      "Estimand expression:\n",
      "  d                       \n",
      "─────(E[y|W0,W1,W4,W3,W2])\n",
      "d[v₀]                     \n",
      "Estimand assumption 1, Unconfoundedness: If U→{v0} and U→y then P(y|v0,W0,W1,W4,W3,W2,U) = P(y|v0,W0,W1,W4,W3,W2)\n",
      "\n",
      "### Estimand : 2\n",
      "Estimand name: iv\n",
      "Estimand expression:\n",
      " ⎡                              -1⎤\n",
      " ⎢    d        ⎛    d          ⎞  ⎥\n",
      "E⎢─────────(y)⋅⎜─────────([v₀])⎟  ⎥\n",
      " ⎣d[Z₁  Z₀]    ⎝d[Z₁  Z₀]      ⎠  ⎦\n",
      "Estimand assumption 1, As-if-random: If U→→y then ¬(U →→{Z1,Z0})\n",
      "Estimand assumption 2, Exclusion: If we remove {Z1,Z0}→{v0}, then ¬({Z1,Z0}→y)\n",
      "\n",
      "### Estimand : 3\n",
      "Estimand name: frontdoor\n",
      "No such variable(s) found!\n",
      "\n"
     ]
    }
   ],
   "source": [
    "identified_estimand = model.identify_effect(proceed_when_unidentifiable=True)\n",
    "print(identified_estimand)"
   ]
  },
  {
   "cell_type": "markdown",
   "id": "131c1f58",
   "metadata": {},
   "source": [
    "## Method 1: Propensity Score Stratification\n",
    "\n",
    "We will be using propensity scores to stratify units in the data."
   ]
  },
  {
   "cell_type": "code",
   "execution_count": 8,
   "id": "419dc00a",
   "metadata": {
    "execution": {
     "iopub.execute_input": "2022-08-03T08:19:16.478860Z",
     "iopub.status.busy": "2022-08-03T08:19:16.478396Z",
     "iopub.status.idle": "2022-08-03T08:19:17.235672Z",
     "shell.execute_reply": "2022-08-03T08:19:17.234243Z"
    }
   },
   "outputs": [
    {
     "name": "stdout",
     "output_type": "stream",
     "text": [
      "propensity_score_stratification\n"
     ]
    },
    {
     "name": "stderr",
     "output_type": "stream",
     "text": [
      "/usr/local/lib/python3.8/dist-packages/sklearn/utils/validation.py:993: DataConversionWarning: A column-vector y was passed when a 1d array was expected. Please change the shape of y to (n_samples, ), for example using ravel().\n",
      "  y = column_or_1d(y, warn=True)\n"
     ]
    },
    {
     "name": "stdout",
     "output_type": "stream",
     "text": [
      "*** Causal Estimate ***\n",
      "\n",
      "## Identified estimand\n",
      "Estimand type: nonparametric-ate\n",
      "\n",
      "### Estimand : 1\n",
      "Estimand name: backdoor\n",
      "Estimand expression:\n",
      "  d                       \n",
      "─────(E[y|W0,W1,W4,W3,W2])\n",
      "d[v₀]                     \n",
      "Estimand assumption 1, Unconfoundedness: If U→{v0} and U→y then P(y|v0,W0,W1,W4,W3,W2,U) = P(y|v0,W0,W1,W4,W3,W2)\n",
      "\n",
      "## Realized estimand\n",
      "b: y~v0+W0+W1+W4+W3+W2\n",
      "Target units: att\n",
      "\n",
      "## Estimate\n",
      "Mean value: 0.9872412036242019\n",
      "\n",
      "Causal Estimate is 0.9872412036242019\n"
     ]
    }
   ],
   "source": [
    "causal_estimate_strat = model.estimate_effect(identified_estimand,\n",
    "                                              method_name=\"backdoor.propensity_score_stratification\",\n",
    "                                              target_units=\"att\")\n",
    "print(causal_estimate_strat)\n",
    "print(\"Causal Estimate is \" + str(causal_estimate_strat.value))"
   ]
  },
  {
   "cell_type": "markdown",
   "id": "fb51afe4",
   "metadata": {},
   "source": [
    "### Textual Interpreter\n",
    "\n",
    "The textual Interpreter describes (in words) the effect of unit change in the treatment variable on the outcome variable."
   ]
  },
  {
   "cell_type": "code",
   "execution_count": 9,
   "id": "ba5224a5",
   "metadata": {
    "execution": {
     "iopub.execute_input": "2022-08-03T08:19:17.239107Z",
     "iopub.status.busy": "2022-08-03T08:19:17.238856Z",
     "iopub.status.idle": "2022-08-03T08:19:17.264172Z",
     "shell.execute_reply": "2022-08-03T08:19:17.263384Z"
    }
   },
   "outputs": [
    {
     "name": "stdout",
     "output_type": "stream",
     "text": [
      "Increasing the treatment variable(s) [v0] from 0 to 1 causes an increase of 0.9872412036242019 in the expected value of the outcome [y], over the data distribution/population represented by the dataset.\n"
     ]
    }
   ],
   "source": [
    "# Textual Interpreter\n",
    "interpretation = causal_estimate_strat.interpret(method_name=\"textual_effect_interpreter\")"
   ]
  },
  {
   "cell_type": "markdown",
   "id": "aa0e2013",
   "metadata": {},
   "source": [
    "### Visual Interpreter\n",
    "\n",
    "The visual interpreter plots the change in the standardized mean difference (SMD) before and after Propensity Score based adjustment of the dataset. The formula for SMD is given below.\n",
    "\n",
    "\n",
    "$SMD = \\frac{\\bar X_{1} - \\bar X_{2}}{\\sqrt{(S_{1}^{2} + S_{2}^{2})/2}}$\n",
    "\n",
    "Here, $\\bar X_{1}$ and $\\bar X_{2}$ are the sample mean for the treated and control groups.\n"
   ]
  },
  {
   "cell_type": "code",
   "execution_count": 10,
   "id": "07a0720a",
   "metadata": {
    "execution": {
     "iopub.execute_input": "2022-08-03T08:19:17.267694Z",
     "iopub.status.busy": "2022-08-03T08:19:17.267435Z",
     "iopub.status.idle": "2022-08-03T08:19:18.355513Z",
     "shell.execute_reply": "2022-08-03T08:19:18.354849Z"
    }
   },
   "outputs": [
    {
     "data": {
      "image/png": "[encoded data removed]",
      "text/plain": [
       "<Figure size 432x288 with 1 Axes>"
      ]
     },
     "metadata": {
      "needs_background": "light"
     },
     "output_type": "display_data"
    }
   ],
   "source": [
    "# Visual Interpreter\n",
    "interpretation = causal_estimate_strat.interpret(method_name=\"propensity_balance_interpreter\")"
   ]
  },
  {
   "cell_type": "markdown",
   "id": "a820de48",
   "metadata": {},
   "source": [
    "This plot shows how the SMD decreases from the unadjusted to the stratified units. "
   ]
  },
  {
   "cell_type": "markdown",
   "id": "67d645b6",
   "metadata": {},
   "source": [
    "## Method 2: Propensity Score Matching\n",
    "\n",
    "We will be using propensity scores to match units in the data."
   ]
  },
  {
   "cell_type": "code",
   "execution_count": 11,
   "id": "90c888fe",
   "metadata": {
    "execution": {
     "iopub.execute_input": "2022-08-03T08:19:18.359497Z",
     "iopub.status.busy": "2022-08-03T08:19:18.358949Z",
     "iopub.status.idle": "2022-08-03T08:19:22.898475Z",
     "shell.execute_reply": "2022-08-03T08:19:22.897792Z"
    }
   },
   "outputs": [
    {
     "name": "stdout",
     "output_type": "stream",
     "text": [
      "propensity_score_matching\n"
     ]
    },
    {
     "name": "stderr",
     "output_type": "stream",
     "text": [
      "/usr/local/lib/python3.8/dist-packages/sklearn/utils/validation.py:993: DataConversionWarning: A column-vector y was passed when a 1d array was expected. Please change the shape of y to (n_samples, ), for example using ravel().\n",
      "  y = column_or_1d(y, warn=True)\n"
     ]
    },
    {
     "name": "stdout",
     "output_type": "stream",
     "text": [
      "*** Causal Estimate ***\n",
      "\n",
      "## Identified estimand\n",
      "Estimand type: nonparametric-ate\n",
      "\n",
      "### Estimand : 1\n",
      "Estimand name: backdoor\n",
      "Estimand expression:\n",
      "  d                       \n",
      "─────(E[y|W0,W1,W4,W3,W2])\n",
      "d[v₀]                     \n",
      "Estimand assumption 1, Unconfoundedness: If U→{v0} and U→y then P(y|v0,W0,W1,W4,W3,W2,U) = P(y|v0,W0,W1,W4,W3,W2)\n",
      "\n",
      "## Realized estimand\n",
      "b: y~v0+W0+W1+W4+W3+W2\n",
      "Target units: atc\n",
      "\n",
      "## Estimate\n",
      "Mean value: 1.0085604285491208\n",
      "\n",
      "Causal Estimate is 1.0085604285491208\n"
     ]
    }
   ],
   "source": [
    "causal_estimate_match = model.estimate_effect(identified_estimand,\n",
    "                                              method_name=\"backdoor.propensity_score_matching\",\n",
    "                                              target_units=\"atc\")\n",
    "print(causal_estimate_match)\n",
    "print(\"Causal Estimate is \" + str(causal_estimate_match.value))"
   ]
  },
  {
   "cell_type": "code",
   "execution_count": 12,
   "id": "3a8c8aff",
   "metadata": {
    "execution": {
     "iopub.execute_input": "2022-08-03T08:19:22.902026Z",
     "iopub.status.busy": "2022-08-03T08:19:22.901420Z",
     "iopub.status.idle": "2022-08-03T08:19:22.929131Z",
     "shell.execute_reply": "2022-08-03T08:19:22.928456Z"
    }
   },
   "outputs": [
    {
     "name": "stdout",
     "output_type": "stream",
     "text": [
      "Increasing the treatment variable(s) [v0] from 0 to 1 causes an increase of 1.0085604285491208 in the expected value of the outcome [y], over the data distribution/population represented by the dataset.\n"
     ]
    }
   ],
   "source": [
    "# Textual Interpreter\n",
    "interpretation = causal_estimate_match.interpret(method_name=\"textual_effect_interpreter\")"
   ]
  },
  {
   "cell_type": "markdown",
   "id": "8ac0517b",
   "metadata": {},
   "source": [
    "Cannot use propensity balance interpretor here since the interpreter method only supports propensity score stratification estimator."
   ]
  },
  {
   "cell_type": "markdown",
   "id": "18a977e6",
   "metadata": {},
   "source": [
    "## Method 3: Weighting\n",
    "\n",
    "We will be using (inverse) propensity scores to assign weights to units in the data. DoWhy supports a few different weighting schemes:\n",
    "1. Vanilla Inverse Propensity Score weighting (IPS) (weighting_scheme=\"ips_weight\")\n",
    "2. Self-normalized IPS weighting (also known as the Hajek estimator) (weighting_scheme=\"ips_normalized_weight\")\n",
    "3. Stabilized IPS weighting (weighting_scheme = \"ips_stabilized_weight\")"
   ]
  },
  {
   "cell_type": "code",
   "execution_count": 13,
   "id": "68afb856",
   "metadata": {
    "execution": {
     "iopub.execute_input": "2022-08-03T08:19:22.932738Z",
     "iopub.status.busy": "2022-08-03T08:19:22.932256Z",
     "iopub.status.idle": "2022-08-03T08:19:22.996565Z",
     "shell.execute_reply": "2022-08-03T08:19:22.995855Z"
    }
   },
   "outputs": [
    {
     "name": "stdout",
     "output_type": "stream",
     "text": [
      "propensity_score_weighting\n",
      "*** Causal Estimate ***\n",
      "\n",
      "## Identified estimand\n",
      "Estimand type: nonparametric-ate\n",
      "\n",
      "### Estimand : 1\n",
      "Estimand name: backdoor\n",
      "Estimand expression:\n",
      "  d                       \n",
      "─────(E[y|W0,W1,W4,W3,W2])\n",
      "d[v₀]                     \n",
      "Estimand assumption 1, Unconfoundedness: If U→{v0} and U→y then P(y|v0,W0,W1,W4,W3,W2,U) = P(y|v0,W0,W1,W4,W3,W2)\n",
      "\n",
      "## Realized estimand\n",
      "b: y~v0+W0+W1+W4+W3+W2\n",
      "Target units: ate\n",
      "\n",
      "## Estimate\n",
      "Mean value: 1.1486566699812875\n",
      "\n",
      "Causal Estimate is 1.1486566699812875\n"
     ]
    },
    {
     "name": "stderr",
     "output_type": "stream",
     "text": [
      "/usr/local/lib/python3.8/dist-packages/sklearn/utils/validation.py:993: DataConversionWarning: A column-vector y was passed when a 1d array was expected. Please change the shape of y to (n_samples, ), for example using ravel().\n",
      "  y = column_or_1d(y, warn=True)\n"
     ]
    }
   ],
   "source": [
    "causal_estimate_ipw = model.estimate_effect(identified_estimand,\n",
    "                                            method_name=\"backdoor.propensity_score_weighting\",\n",
    "                                            target_units = \"ate\",\n",
    "                                            method_params={\"weighting_scheme\":\"ips_weight\"})\n",
    "print(causal_estimate_ipw)\n",
    "print(\"Causal Estimate is \" + str(causal_estimate_ipw.value))"
   ]
  },
  {
   "cell_type": "code",
   "execution_count": 14,
   "id": "98372dd5",
   "metadata": {
    "execution": {
     "iopub.execute_input": "2022-08-03T08:19:23.000128Z",
     "iopub.status.busy": "2022-08-03T08:19:22.999547Z",
     "iopub.status.idle": "2022-08-03T08:19:23.025626Z",
     "shell.execute_reply": "2022-08-03T08:19:23.024366Z"
    }
   },
   "outputs": [
    {
     "name": "stdout",
     "output_type": "stream",
     "text": [
      "Increasing the treatment variable(s) [v0] from 0 to 1 causes an increase of 1.1486566699812875 in the expected value of the outcome [y], over the data distribution/population represented by the dataset.\n"
     ]
    }
   ],
   "source": [
    "# Textual Interpreter\n",
    "interpretation = causal_estimate_ipw.interpret(method_name=\"textual_effect_interpreter\")"
   ]
  },
  {
   "cell_type": "code",
   "execution_count": 15,
   "id": "9b10197a",
   "metadata": {
    "execution": {
     "iopub.execute_input": "2022-08-03T08:19:23.028782Z",
     "iopub.status.busy": "2022-08-03T08:19:23.028139Z",
     "iopub.status.idle": "2022-08-03T08:19:23.273225Z",
     "shell.execute_reply": "2022-08-03T08:19:23.272501Z"
    }
   },
   "outputs": [
    {
     "data": {
      "image/png": "[encoded data removed]",
      "text/plain": [
       "<Figure size 576x576 with 2 Axes>"
      ]
     },
     "metadata": {
      "needs_background": "light"
     },
     "output_type": "display_data"
    }
   ],
   "source": [
    "interpretation = causal_estimate_ipw.interpret(method_name=\"confounder_distribution_interpreter\", fig_size=(8,8), font_size=12, var_name='W4', var_type='discrete')"
   ]
  },
  {
   "cell_type": "code",
   "execution_count": null,
   "id": "2c3393a7",
   "metadata": {},
   "outputs": [],
   "source": []
  }
 ],
 "metadata": {
  "kernelspec": {
   "display_name": "Python 3",
   "language": "python",
   "name": "python3"
  },
  "language_info": {
   "codemirror_mode": {
    "name": "ipython",
    "version": 3
   },
   "file_extension": ".py",
   "mimetype": "text/x-python",
   "name": "python",
   "nbconvert_exporter": "python",
   "pygments_lexer": "ipython3",
   "version": "3.8.10"
  },
  "toc": {
   "base_numbering": 1,
   "nav_menu": {},
   "number_sections": false,
   "sideBar": true,
   "skip_h1_title": true,
   "title_cell": "Table of Contents",
   "title_sidebar": "Contents",
   "toc_cell": false,
   "toc_position": {},
   "toc_section_display": true,
   "toc_window_display": false
  }
 },
 "nbformat": 4,
 "nbformat_minor": 5
}
