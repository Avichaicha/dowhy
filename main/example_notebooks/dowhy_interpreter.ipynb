{
 "cells": [
  {
   "cell_type": "markdown",
   "id": "55e372a4",
   "metadata": {},
   "source": [
    "# DoWhy: Interpreters for Causal Estimators\n",
    "\n",
    "This is a quick introduction to the use of interpreters in the DoWhy causal inference library.\n",
    "We will load in a sample dataset, use different methods for estimating the causal effect of a (pre-specified)treatment variable on a (pre-specified) outcome variable and demonstrate how to interpret the obtained results.\n",
    "\n",
    "First, let us add the required path for Python to find the DoWhy code and load all required packages"
   ]
  },
  {
   "cell_type": "code",
   "execution_count": 1,
   "id": "7ac86c46",
   "metadata": {
    "execution": {
     "iopub.execute_input": "2022-11-22T18:15:47.748053Z",
     "iopub.status.busy": "2022-11-22T18:15:47.747639Z",
     "iopub.status.idle": "2022-11-22T18:15:47.763365Z",
     "shell.execute_reply": "2022-11-22T18:15:47.762815Z"
    }
   },
   "outputs": [],
   "source": [
    "%load_ext autoreload\n",
    "%autoreload 2"
   ]
  },
  {
   "cell_type": "code",
   "execution_count": 2,
   "id": "9440519b",
   "metadata": {
    "execution": {
     "iopub.execute_input": "2022-11-22T18:15:47.766154Z",
     "iopub.status.busy": "2022-11-22T18:15:47.765955Z",
     "iopub.status.idle": "2022-11-22T18:15:49.560136Z",
     "shell.execute_reply": "2022-11-22T18:15:49.559497Z"
    }
   },
   "outputs": [],
   "source": [
    "import numpy as np\n",
    "import pandas as pd\n",
    "import logging\n",
    "\n",
    "import dowhy\n",
    "from dowhy import CausalModel\n",
    "import dowhy.datasets "
   ]
  },
  {
   "cell_type": "markdown",
   "id": "8d218a85",
   "metadata": {},
   "source": [
    "Now, let us load a dataset. For simplicity, we simulate a dataset with linear relationships between common causes and treatment, and common causes and outcome.\n",
    "\n",
    "Beta is the true causal effect."
   ]
  },
  {
   "cell_type": "code",
   "execution_count": 3,
   "id": "b35aa635",
   "metadata": {
    "execution": {
     "iopub.execute_input": "2022-11-22T18:15:49.564027Z",
     "iopub.status.busy": "2022-11-22T18:15:49.563545Z",
     "iopub.status.idle": "2022-11-22T18:15:49.836305Z",
     "shell.execute_reply": "2022-11-22T18:15:49.835449Z"
    }
   },
   "outputs": [
    {
     "name": "stdout",
     "output_type": "stream",
     "text": [
      "6831\n"
     ]
    },
    {
     "data": {
      "text/html": [
       "<div>\n",
       "<style scoped>\n",
       "    .dataframe tbody tr th:only-of-type {\n",
       "        vertical-align: middle;\n",
       "    }\n",
       "\n",
       "    .dataframe tbody tr th {\n",
       "        vertical-align: top;\n",
       "    }\n",
       "\n",
       "    .dataframe thead th {\n",
       "        text-align: right;\n",
       "    }\n",
       "</style>\n",
       "<table border=\"1\" class=\"dataframe\">\n",
       "  <thead>\n",
       "    <tr style=\"text-align: right;\">\n",
       "      <th></th>\n",
       "      <th>Z0</th>\n",
       "      <th>Z1</th>\n",
       "      <th>W0</th>\n",
       "      <th>W1</th>\n",
       "      <th>W2</th>\n",
       "      <th>W3</th>\n",
       "      <th>W4</th>\n",
       "      <th>v0</th>\n",
       "      <th>y</th>\n",
       "    </tr>\n",
       "  </thead>\n",
       "  <tbody>\n",
       "    <tr>\n",
       "      <th>0</th>\n",
       "      <td>0.0</td>\n",
       "      <td>0.300188</td>\n",
       "      <td>-0.447341</td>\n",
       "      <td>0.408753</td>\n",
       "      <td>0.890966</td>\n",
       "      <td>-0.435085</td>\n",
       "      <td>1</td>\n",
       "      <td>False</td>\n",
       "      <td>0.531778</td>\n",
       "    </tr>\n",
       "    <tr>\n",
       "      <th>1</th>\n",
       "      <td>1.0</td>\n",
       "      <td>0.652756</td>\n",
       "      <td>0.264238</td>\n",
       "      <td>-1.348616</td>\n",
       "      <td>2.148772</td>\n",
       "      <td>-2.142444</td>\n",
       "      <td>1</td>\n",
       "      <td>False</td>\n",
       "      <td>-1.664352</td>\n",
       "    </tr>\n",
       "    <tr>\n",
       "      <th>2</th>\n",
       "      <td>0.0</td>\n",
       "      <td>0.412730</td>\n",
       "      <td>0.874584</td>\n",
       "      <td>0.118550</td>\n",
       "      <td>0.837370</td>\n",
       "      <td>-1.632495</td>\n",
       "      <td>2</td>\n",
       "      <td>True</td>\n",
       "      <td>1.184723</td>\n",
       "    </tr>\n",
       "    <tr>\n",
       "      <th>3</th>\n",
       "      <td>0.0</td>\n",
       "      <td>0.662807</td>\n",
       "      <td>-2.169526</td>\n",
       "      <td>-1.492687</td>\n",
       "      <td>0.811440</td>\n",
       "      <td>-0.718483</td>\n",
       "      <td>0</td>\n",
       "      <td>False</td>\n",
       "      <td>-2.389901</td>\n",
       "    </tr>\n",
       "    <tr>\n",
       "      <th>4</th>\n",
       "      <td>1.0</td>\n",
       "      <td>0.909288</td>\n",
       "      <td>-0.176122</td>\n",
       "      <td>-0.440419</td>\n",
       "      <td>1.446501</td>\n",
       "      <td>-1.403751</td>\n",
       "      <td>3</td>\n",
       "      <td>False</td>\n",
       "      <td>-0.041486</td>\n",
       "    </tr>\n",
       "    <tr>\n",
       "      <th>...</th>\n",
       "      <td>...</td>\n",
       "      <td>...</td>\n",
       "      <td>...</td>\n",
       "      <td>...</td>\n",
       "      <td>...</td>\n",
       "      <td>...</td>\n",
       "      <td>...</td>\n",
       "      <td>...</td>\n",
       "      <td>...</td>\n",
       "    </tr>\n",
       "    <tr>\n",
       "      <th>9995</th>\n",
       "      <td>1.0</td>\n",
       "      <td>0.918675</td>\n",
       "      <td>-0.226135</td>\n",
       "      <td>-1.303525</td>\n",
       "      <td>1.268811</td>\n",
       "      <td>-1.119196</td>\n",
       "      <td>3</td>\n",
       "      <td>True</td>\n",
       "      <td>0.256487</td>\n",
       "    </tr>\n",
       "    <tr>\n",
       "      <th>9996</th>\n",
       "      <td>0.0</td>\n",
       "      <td>0.708330</td>\n",
       "      <td>-0.231357</td>\n",
       "      <td>-2.130338</td>\n",
       "      <td>-0.189133</td>\n",
       "      <td>-0.101059</td>\n",
       "      <td>2</td>\n",
       "      <td>False</td>\n",
       "      <td>-1.663690</td>\n",
       "    </tr>\n",
       "    <tr>\n",
       "      <th>9997</th>\n",
       "      <td>1.0</td>\n",
       "      <td>0.334155</td>\n",
       "      <td>-1.592750</td>\n",
       "      <td>-0.733503</td>\n",
       "      <td>0.598614</td>\n",
       "      <td>-1.261681</td>\n",
       "      <td>2</td>\n",
       "      <td>True</td>\n",
       "      <td>-0.272825</td>\n",
       "    </tr>\n",
       "    <tr>\n",
       "      <th>9998</th>\n",
       "      <td>0.0</td>\n",
       "      <td>0.169883</td>\n",
       "      <td>-0.831565</td>\n",
       "      <td>-1.425920</td>\n",
       "      <td>-0.750293</td>\n",
       "      <td>-1.427083</td>\n",
       "      <td>3</td>\n",
       "      <td>False</td>\n",
       "      <td>-1.889745</td>\n",
       "    </tr>\n",
       "    <tr>\n",
       "      <th>9999</th>\n",
       "      <td>0.0</td>\n",
       "      <td>0.876310</td>\n",
       "      <td>-1.289331</td>\n",
       "      <td>0.223854</td>\n",
       "      <td>1.475142</td>\n",
       "      <td>0.076114</td>\n",
       "      <td>3</td>\n",
       "      <td>True</td>\n",
       "      <td>2.208616</td>\n",
       "    </tr>\n",
       "  </tbody>\n",
       "</table>\n",
       "<p>10000 rows × 9 columns</p>\n",
       "</div>"
      ],
      "text/plain": [
       "       Z0        Z1        W0        W1        W2        W3 W4     v0  \\\n",
       "0     0.0  0.300188 -0.447341  0.408753  0.890966 -0.435085  1  False   \n",
       "1     1.0  0.652756  0.264238 -1.348616  2.148772 -2.142444  1  False   \n",
       "2     0.0  0.412730  0.874584  0.118550  0.837370 -1.632495  2   True   \n",
       "3     0.0  0.662807 -2.169526 -1.492687  0.811440 -0.718483  0  False   \n",
       "4     1.0  0.909288 -0.176122 -0.440419  1.446501 -1.403751  3  False   \n",
       "...   ...       ...       ...       ...       ...       ... ..    ...   \n",
       "9995  1.0  0.918675 -0.226135 -1.303525  1.268811 -1.119196  3   True   \n",
       "9996  0.0  0.708330 -0.231357 -2.130338 -0.189133 -0.101059  2  False   \n",
       "9997  1.0  0.334155 -1.592750 -0.733503  0.598614 -1.261681  2   True   \n",
       "9998  0.0  0.169883 -0.831565 -1.425920 -0.750293 -1.427083  3  False   \n",
       "9999  0.0  0.876310 -1.289331  0.223854  1.475142  0.076114  3   True   \n",
       "\n",
       "             y  \n",
       "0     0.531778  \n",
       "1    -1.664352  \n",
       "2     1.184723  \n",
       "3    -2.389901  \n",
       "4    -0.041486  \n",
       "...        ...  \n",
       "9995  0.256487  \n",
       "9996 -1.663690  \n",
       "9997 -0.272825  \n",
       "9998 -1.889745  \n",
       "9999  2.208616  \n",
       "\n",
       "[10000 rows x 9 columns]"
      ]
     },
     "execution_count": 3,
     "metadata": {},
     "output_type": "execute_result"
    }
   ],
   "source": [
    "data = dowhy.datasets.linear_dataset(beta=1,\n",
    "        num_common_causes=5, \n",
    "        num_instruments = 2,\n",
    "        num_treatments=1,\n",
    "        num_discrete_common_causes=1,\n",
    "        num_samples=10000,\n",
    "        treatment_is_binary=True,\n",
    "        outcome_is_binary=False)\n",
    "df = data[\"df\"]\n",
    "print(df[df.v0==True].shape[0])\n",
    "df"
   ]
  },
  {
   "cell_type": "markdown",
   "id": "4212d811",
   "metadata": {},
   "source": [
    "Note that we are using a pandas dataframe to load the data."
   ]
  },
  {
   "cell_type": "markdown",
   "id": "96829396",
   "metadata": {},
   "source": [
    "## Identifying the causal estimand"
   ]
  },
  {
   "cell_type": "markdown",
   "id": "e513393a",
   "metadata": {},
   "source": [
    "We now input a causal graph in the GML graph format."
   ]
  },
  {
   "cell_type": "code",
   "execution_count": 4,
   "id": "de81fb56",
   "metadata": {
    "execution": {
     "iopub.execute_input": "2022-11-22T18:15:49.839600Z",
     "iopub.status.busy": "2022-11-22T18:15:49.839042Z",
     "iopub.status.idle": "2022-11-22T18:15:49.869253Z",
     "shell.execute_reply": "2022-11-22T18:15:49.868683Z"
    }
   },
   "outputs": [],
   "source": [
    "# With graph\n",
    "model=CausalModel(\n",
    "        data = df,\n",
    "        treatment=data[\"treatment_name\"],\n",
    "        outcome=data[\"outcome_name\"],\n",
    "        graph=data[\"gml_graph\"],\n",
    "        instruments=data[\"instrument_names\"]\n",
    "        )"
   ]
  },
  {
   "cell_type": "code",
   "execution_count": 5,
   "id": "486b8ad7",
   "metadata": {
    "execution": {
     "iopub.execute_input": "2022-11-22T18:15:49.872106Z",
     "iopub.status.busy": "2022-11-22T18:15:49.871734Z",
     "iopub.status.idle": "2022-11-22T18:15:49.932136Z",
     "shell.execute_reply": "2022-11-22T18:15:49.931509Z"
    }
   },
   "outputs": [],
   "source": [
    "model.view_model()"
   ]
  },
  {
   "cell_type": "code",
   "execution_count": 6,
   "id": "dfceb9a9",
   "metadata": {
    "execution": {
     "iopub.execute_input": "2022-11-22T18:15:49.934991Z",
     "iopub.status.busy": "2022-11-22T18:15:49.934636Z",
     "iopub.status.idle": "2022-11-22T18:15:49.965622Z",
     "shell.execute_reply": "2022-11-22T18:15:49.965013Z"
    }
   },
   "outputs": [
    {
     "data": {
      "image/png": "[encoded data removed]",
      "text/plain": [
       "<IPython.core.display.Image object>"
      ]
     },
     "metadata": {},
     "output_type": "display_data"
    }
   ],
   "source": [
    "from IPython.display import Image, display\n",
    "display(Image(filename=\"causal_model.png\"))"
   ]
  },
  {
   "cell_type": "markdown",
   "id": "7f18bf02",
   "metadata": {},
   "source": [
    "We get a causal graph. Now identification and estimation is done."
   ]
  },
  {
   "cell_type": "code",
   "execution_count": 7,
   "id": "b0e3fdd3",
   "metadata": {
    "execution": {
     "iopub.execute_input": "2022-11-22T18:15:49.969118Z",
     "iopub.status.busy": "2022-11-22T18:15:49.968564Z",
     "iopub.status.idle": "2022-11-22T18:15:50.194861Z",
     "shell.execute_reply": "2022-11-22T18:15:50.194332Z"
    }
   },
   "outputs": [
    {
     "name": "stdout",
     "output_type": "stream",
     "text": [
      "Estimand type: EstimandType.NONPARAMETRIC_ATE\n",
      "\n",
      "### Estimand : 1\n",
      "Estimand name: backdoor\n",
      "Estimand expression:\n",
      "  d                       \n",
      "─────(E[y|W0,W2,W3,W4,W1])\n",
      "d[v₀]                     \n",
      "Estimand assumption 1, Unconfoundedness: If U→{v0} and U→y then P(y|v0,W0,W2,W3,W4,W1,U) = P(y|v0,W0,W2,W3,W4,W1)\n",
      "\n",
      "### Estimand : 2\n",
      "Estimand name: iv\n",
      "Estimand expression:\n",
      " ⎡                              -1⎤\n",
      " ⎢    d        ⎛    d          ⎞  ⎥\n",
      "E⎢─────────(y)⋅⎜─────────([v₀])⎟  ⎥\n",
      " ⎣d[Z₀  Z₁]    ⎝d[Z₀  Z₁]      ⎠  ⎦\n",
      "Estimand assumption 1, As-if-random: If U→→y then ¬(U →→{Z0,Z1})\n",
      "Estimand assumption 2, Exclusion: If we remove {Z0,Z1}→{v0}, then ¬({Z0,Z1}→y)\n",
      "\n",
      "### Estimand : 3\n",
      "Estimand name: frontdoor\n",
      "No such variable(s) found!\n",
      "\n"
     ]
    }
   ],
   "source": [
    "identified_estimand = model.identify_effect(proceed_when_unidentifiable=True)\n",
    "print(identified_estimand)"
   ]
  },
  {
   "cell_type": "markdown",
   "id": "5796bfa9",
   "metadata": {},
   "source": [
    "## Method 1: Propensity Score Stratification\n",
    "\n",
    "We will be using propensity scores to stratify units in the data."
   ]
  },
  {
   "cell_type": "code",
   "execution_count": 8,
   "id": "1b4e81eb",
   "metadata": {
    "execution": {
     "iopub.execute_input": "2022-11-22T18:15:50.198010Z",
     "iopub.status.busy": "2022-11-22T18:15:50.197796Z",
     "iopub.status.idle": "2022-11-22T18:15:50.795748Z",
     "shell.execute_reply": "2022-11-22T18:15:50.794862Z"
    }
   },
   "outputs": [
    {
     "name": "stdout",
     "output_type": "stream",
     "text": [
      "*** Causal Estimate ***\n",
      "\n",
      "## Identified estimand\n",
      "Estimand type: EstimandType.NONPARAMETRIC_ATE\n",
      "\n",
      "### Estimand : 1\n",
      "Estimand name: backdoor\n",
      "Estimand expression:\n",
      "  d                       \n",
      "─────(E[y|W0,W2,W3,W4,W1])\n",
      "d[v₀]                     \n",
      "Estimand assumption 1, Unconfoundedness: If U→{v0} and U→y then P(y|v0,W0,W2,W3,W4,W1,U) = P(y|v0,W0,W2,W3,W4,W1)\n",
      "\n",
      "## Realized estimand\n",
      "b: y~v0+W0+W2+W3+W4+W1\n",
      "Target units: att\n",
      "\n",
      "## Estimate\n",
      "Mean value: 1.0050863803443084\n",
      "\n",
      "Causal Estimate is 1.0050863803443084\n"
     ]
    }
   ],
   "source": [
    "causal_estimate_strat = model.estimate_effect(identified_estimand,\n",
    "                                              method_name=\"backdoor.propensity_score_stratification\",\n",
    "                                              target_units=\"att\")\n",
    "print(causal_estimate_strat)\n",
    "print(\"Causal Estimate is \" + str(causal_estimate_strat.value))"
   ]
  },
  {
   "cell_type": "markdown",
   "id": "39cf1ef8",
   "metadata": {},
   "source": [
    "### Textual Interpreter\n",
    "\n",
    "The textual Interpreter describes (in words) the effect of unit change in the treatment variable on the outcome variable."
   ]
  },
  {
   "cell_type": "code",
   "execution_count": 9,
   "id": "f037d3ff",
   "metadata": {
    "execution": {
     "iopub.execute_input": "2022-11-22T18:15:50.799276Z",
     "iopub.status.busy": "2022-11-22T18:15:50.798762Z",
     "iopub.status.idle": "2022-11-22T18:15:50.830223Z",
     "shell.execute_reply": "2022-11-22T18:15:50.829637Z"
    }
   },
   "outputs": [
    {
     "name": "stdout",
     "output_type": "stream",
     "text": [
      "Increasing the treatment variable(s) [v0] from 0 to 1 causes an increase of 1.0050863803443084 in the expected value of the outcome [y], over the data distribution/population represented by the dataset.\n"
     ]
    }
   ],
   "source": [
    "# Textual Interpreter\n",
    "interpretation = causal_estimate_strat.interpret(method_name=\"textual_effect_interpreter\")"
   ]
  },
  {
   "cell_type": "markdown",
   "id": "cf7f9c2d",
   "metadata": {},
   "source": [
    "### Visual Interpreter\n",
    "\n",
    "The visual interpreter plots the change in the standardized mean difference (SMD) before and after Propensity Score based adjustment of the dataset. The formula for SMD is given below.\n",
    "\n",
    "\n",
    "$SMD = \\frac{\\bar X_{1} - \\bar X_{2}}{\\sqrt{(S_{1}^{2} + S_{2}^{2})/2}}$\n",
    "\n",
    "Here, $\\bar X_{1}$ and $\\bar X_{2}$ are the sample mean for the treated and control groups.\n"
   ]
  },
  {
   "cell_type": "code",
   "execution_count": 10,
   "id": "1d3778b9",
   "metadata": {
    "execution": {
     "iopub.execute_input": "2022-11-22T18:15:50.832986Z",
     "iopub.status.busy": "2022-11-22T18:15:50.832769Z",
     "iopub.status.idle": "2022-11-22T18:15:51.692102Z",
     "shell.execute_reply": "2022-11-22T18:15:51.691434Z"
    }
   },
   "outputs": [
    {
     "data": {
      "image/png": "[encoded data removed]",
      "text/plain": [
       "<Figure size 640x480 with 1 Axes>"
      ]
     },
     "metadata": {},
     "output_type": "display_data"
    }
   ],
   "source": [
    "# Visual Interpreter\n",
    "interpretation = causal_estimate_strat.interpret(method_name=\"propensity_balance_interpreter\")"
   ]
  },
  {
   "cell_type": "markdown",
   "id": "41f1fcfd",
   "metadata": {},
   "source": [
    "This plot shows how the SMD decreases from the unadjusted to the stratified units. "
   ]
  },
  {
   "cell_type": "markdown",
   "id": "bb0710e5",
   "metadata": {},
   "source": [
    "## Method 2: Propensity Score Matching\n",
    "\n",
    "We will be using propensity scores to match units in the data."
   ]
  },
  {
   "cell_type": "code",
   "execution_count": 11,
   "id": "41f1f07a",
   "metadata": {
    "execution": {
     "iopub.execute_input": "2022-11-22T18:15:51.695891Z",
     "iopub.status.busy": "2022-11-22T18:15:51.695509Z",
     "iopub.status.idle": "2022-11-22T18:15:54.980562Z",
     "shell.execute_reply": "2022-11-22T18:15:54.980023Z"
    }
   },
   "outputs": [
    {
     "name": "stdout",
     "output_type": "stream",
     "text": [
      "*** Causal Estimate ***\n",
      "\n",
      "## Identified estimand\n",
      "Estimand type: EstimandType.NONPARAMETRIC_ATE\n",
      "\n",
      "### Estimand : 1\n",
      "Estimand name: backdoor\n",
      "Estimand expression:\n",
      "  d                       \n",
      "─────(E[y|W0,W2,W3,W4,W1])\n",
      "d[v₀]                     \n",
      "Estimand assumption 1, Unconfoundedness: If U→{v0} and U→y then P(y|v0,W0,W2,W3,W4,W1,U) = P(y|v0,W0,W2,W3,W4,W1)\n",
      "\n",
      "## Realized estimand\n",
      "b: y~v0+W0+W2+W3+W4+W1\n",
      "Target units: atc\n",
      "\n",
      "## Estimate\n",
      "Mean value: 1.024312156612989\n",
      "\n",
      "Causal Estimate is 1.024312156612989\n"
     ]
    }
   ],
   "source": [
    "causal_estimate_match = model.estimate_effect(identified_estimand,\n",
    "                                              method_name=\"backdoor.propensity_score_matching\",\n",
    "                                              target_units=\"atc\")\n",
    "print(causal_estimate_match)\n",
    "print(\"Causal Estimate is \" + str(causal_estimate_match.value))"
   ]
  },
  {
   "cell_type": "code",
   "execution_count": 12,
   "id": "a8a3f8cf",
   "metadata": {
    "execution": {
     "iopub.execute_input": "2022-11-22T18:15:54.983532Z",
     "iopub.status.busy": "2022-11-22T18:15:54.983187Z",
     "iopub.status.idle": "2022-11-22T18:15:55.012305Z",
     "shell.execute_reply": "2022-11-22T18:15:55.011697Z"
    }
   },
   "outputs": [
    {
     "name": "stdout",
     "output_type": "stream",
     "text": [
      "Increasing the treatment variable(s) [v0] from 0 to 1 causes an increase of 1.024312156612989 in the expected value of the outcome [y], over the data distribution/population represented by the dataset.\n"
     ]
    }
   ],
   "source": [
    "# Textual Interpreter\n",
    "interpretation = causal_estimate_match.interpret(method_name=\"textual_effect_interpreter\")"
   ]
  },
  {
   "cell_type": "markdown",
   "id": "f56808db",
   "metadata": {},
   "source": [
    "Cannot use propensity balance interpretor here since the interpreter method only supports propensity score stratification estimator."
   ]
  },
  {
   "cell_type": "markdown",
   "id": "f55e7adc",
   "metadata": {},
   "source": [
    "## Method 3: Weighting\n",
    "\n",
    "We will be using (inverse) propensity scores to assign weights to units in the data. DoWhy supports a few different weighting schemes:\n",
    "1. Vanilla Inverse Propensity Score weighting (IPS) (weighting_scheme=\"ips_weight\")\n",
    "2. Self-normalized IPS weighting (also known as the Hajek estimator) (weighting_scheme=\"ips_normalized_weight\")\n",
    "3. Stabilized IPS weighting (weighting_scheme = \"ips_stabilized_weight\")"
   ]
  },
  {
   "cell_type": "code",
   "execution_count": 13,
   "id": "ed0552d9",
   "metadata": {
    "execution": {
     "iopub.execute_input": "2022-11-22T18:15:55.015192Z",
     "iopub.status.busy": "2022-11-22T18:15:55.014977Z",
     "iopub.status.idle": "2022-11-22T18:15:55.076410Z",
     "shell.execute_reply": "2022-11-22T18:15:55.075583Z"
    }
   },
   "outputs": [
    {
     "name": "stdout",
     "output_type": "stream",
     "text": [
      "*** Causal Estimate ***\n",
      "\n",
      "## Identified estimand\n",
      "Estimand type: EstimandType.NONPARAMETRIC_ATE\n",
      "\n",
      "### Estimand : 1\n",
      "Estimand name: backdoor\n",
      "Estimand expression:\n",
      "  d                       \n",
      "─────(E[y|W0,W2,W3,W4,W1])\n",
      "d[v₀]                     \n",
      "Estimand assumption 1, Unconfoundedness: If U→{v0} and U→y then P(y|v0,W0,W2,W3,W4,W1,U) = P(y|v0,W0,W2,W3,W4,W1)\n",
      "\n",
      "## Realized estimand\n",
      "b: y~v0+W0+W2+W3+W4+W1\n",
      "Target units: ate\n",
      "\n",
      "## Estimate\n",
      "Mean value: 1.0472494434688742\n",
      "\n",
      "Causal Estimate is 1.0472494434688742\n"
     ]
    }
   ],
   "source": [
    "causal_estimate_ipw = model.estimate_effect(identified_estimand,\n",
    "                                            method_name=\"backdoor.propensity_score_weighting\",\n",
    "                                            target_units = \"ate\",\n",
    "                                            method_params={\"weighting_scheme\":\"ips_weight\"})\n",
    "print(causal_estimate_ipw)\n",
    "print(\"Causal Estimate is \" + str(causal_estimate_ipw.value))"
   ]
  },
  {
   "cell_type": "code",
   "execution_count": 14,
   "id": "238e2577",
   "metadata": {
    "execution": {
     "iopub.execute_input": "2022-11-22T18:15:55.079353Z",
     "iopub.status.busy": "2022-11-22T18:15:55.079139Z",
     "iopub.status.idle": "2022-11-22T18:15:55.107892Z",
     "shell.execute_reply": "2022-11-22T18:15:55.107285Z"
    }
   },
   "outputs": [
    {
     "name": "stdout",
     "output_type": "stream",
     "text": [
      "Increasing the treatment variable(s) [v0] from 0 to 1 causes an increase of 1.0472494434688742 in the expected value of the outcome [y], over the data distribution/population represented by the dataset.\n"
     ]
    }
   ],
   "source": [
    "# Textual Interpreter\n",
    "interpretation = causal_estimate_ipw.interpret(method_name=\"textual_effect_interpreter\")"
   ]
  },
  {
   "cell_type": "code",
   "execution_count": 15,
   "id": "dec0a5ae",
   "metadata": {
    "execution": {
     "iopub.execute_input": "2022-11-22T18:15:55.110521Z",
     "iopub.status.busy": "2022-11-22T18:15:55.110308Z",
     "iopub.status.idle": "2022-11-22T18:15:55.420354Z",
     "shell.execute_reply": "2022-11-22T18:15:55.419769Z"
    }
   },
   "outputs": [
    {
     "data": {
      "image/png": "[encoded data removed]",
      "text/plain": [
       "<Figure size 800x800 with 2 Axes>"
      ]
     },
     "metadata": {},
     "output_type": "display_data"
    }
   ],
   "source": [
    "interpretation = causal_estimate_ipw.interpret(method_name=\"confounder_distribution_interpreter\", fig_size=(8,8), font_size=12, var_name='W4', var_type='discrete')"
   ]
  },
  {
   "cell_type": "code",
   "execution_count": null,
   "id": "d794ed10",
   "metadata": {},
   "outputs": [],
   "source": []
  }
 ],
 "metadata": {
  "kernelspec": {
   "display_name": "Python 3",
   "language": "python",
   "name": "python3"
  },
  "language_info": {
   "codemirror_mode": {
    "name": "ipython",
    "version": 3
   },
   "file_extension": ".py",
   "mimetype": "text/x-python",
   "name": "python",
   "nbconvert_exporter": "python",
   "pygments_lexer": "ipython3",
   "version": "3.8.10"
  },
  "toc": {
   "base_numbering": 1,
   "nav_menu": {},
   "number_sections": false,
   "sideBar": true,
   "skip_h1_title": true,
   "title_cell": "Table of Contents",
   "title_sidebar": "Contents",
   "toc_cell": false,
   "toc_position": {},
   "toc_section_display": true,
   "toc_window_display": false
  }
 },
 "nbformat": 4,
 "nbformat_minor": 5
}
