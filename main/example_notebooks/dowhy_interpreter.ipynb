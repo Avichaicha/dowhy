{
 "cells": [
  {
   "cell_type": "markdown",
   "id": "63f7e54f",
   "metadata": {},
   "source": [
    "# DoWhy: Interpreters for Causal Estimators\n",
    "\n",
    "This is a quick introduction to the use of interpreters in the DoWhy causal inference library.\n",
    "We will load in a sample dataset, use different methods for estimating the causal effect of a (pre-specified)treatment variable on a (pre-specified) outcome variable and demonstrate how to interpret the obtained results.\n",
    "\n",
    "First, let us add the required path for Python to find the DoWhy code and load all required packages"
   ]
  },
  {
   "cell_type": "code",
   "execution_count": 1,
   "id": "5c35f6de",
   "metadata": {
    "execution": {
     "iopub.execute_input": "2022-07-29T09:43:49.409122Z",
     "iopub.status.busy": "2022-07-29T09:43:49.408748Z",
     "iopub.status.idle": "2022-07-29T09:43:49.429201Z",
     "shell.execute_reply": "2022-07-29T09:43:49.428309Z"
    }
   },
   "outputs": [],
   "source": [
    "%load_ext autoreload\n",
    "%autoreload 2"
   ]
  },
  {
   "cell_type": "code",
   "execution_count": 2,
   "id": "6dd21bca",
   "metadata": {
    "execution": {
     "iopub.execute_input": "2022-07-29T09:43:49.432710Z",
     "iopub.status.busy": "2022-07-29T09:43:49.432433Z",
     "iopub.status.idle": "2022-07-29T09:43:50.726090Z",
     "shell.execute_reply": "2022-07-29T09:43:50.724778Z"
    }
   },
   "outputs": [
    {
     "name": "stdout",
     "output_type": "stream",
     "text": [
      "keywords are unexpanded, not using\n"
     ]
    }
   ],
   "source": [
    "import numpy as np\n",
    "import pandas as pd\n",
    "import logging\n",
    "\n",
    "import dowhy\n",
    "from dowhy import CausalModel\n",
    "import dowhy.datasets "
   ]
  },
  {
   "cell_type": "markdown",
   "id": "013f6ef7",
   "metadata": {},
   "source": [
    "Now, let us load a dataset. For simplicity, we simulate a dataset with linear relationships between common causes and treatment, and common causes and outcome.\n",
    "\n",
    "Beta is the true causal effect."
   ]
  },
  {
   "cell_type": "code",
   "execution_count": 3,
   "id": "fce963ce",
   "metadata": {
    "execution": {
     "iopub.execute_input": "2022-07-29T09:43:50.730883Z",
     "iopub.status.busy": "2022-07-29T09:43:50.730314Z",
     "iopub.status.idle": "2022-07-29T09:43:51.319504Z",
     "shell.execute_reply": "2022-07-29T09:43:51.318654Z"
    }
   },
   "outputs": [
    {
     "name": "stdout",
     "output_type": "stream",
     "text": [
      "9189\n"
     ]
    },
    {
     "data": {
      "text/html": [
       "<div>\n",
       "<style scoped>\n",
       "    .dataframe tbody tr th:only-of-type {\n",
       "        vertical-align: middle;\n",
       "    }\n",
       "\n",
       "    .dataframe tbody tr th {\n",
       "        vertical-align: top;\n",
       "    }\n",
       "\n",
       "    .dataframe thead th {\n",
       "        text-align: right;\n",
       "    }\n",
       "</style>\n",
       "<table border=\"1\" class=\"dataframe\">\n",
       "  <thead>\n",
       "    <tr style=\"text-align: right;\">\n",
       "      <th></th>\n",
       "      <th>Z0</th>\n",
       "      <th>Z1</th>\n",
       "      <th>W0</th>\n",
       "      <th>W1</th>\n",
       "      <th>W2</th>\n",
       "      <th>W3</th>\n",
       "      <th>W4</th>\n",
       "      <th>v0</th>\n",
       "      <th>y</th>\n",
       "    </tr>\n",
       "  </thead>\n",
       "  <tbody>\n",
       "    <tr>\n",
       "      <th>0</th>\n",
       "      <td>1.0</td>\n",
       "      <td>0.921739</td>\n",
       "      <td>-0.336427</td>\n",
       "      <td>-1.005761</td>\n",
       "      <td>-0.659763</td>\n",
       "      <td>1.216523</td>\n",
       "      <td>2</td>\n",
       "      <td>True</td>\n",
       "      <td>0.601612</td>\n",
       "    </tr>\n",
       "    <tr>\n",
       "      <th>1</th>\n",
       "      <td>1.0</td>\n",
       "      <td>0.437326</td>\n",
       "      <td>0.075839</td>\n",
       "      <td>-0.927953</td>\n",
       "      <td>-0.194352</td>\n",
       "      <td>-1.920663</td>\n",
       "      <td>2</td>\n",
       "      <td>True</td>\n",
       "      <td>-0.480703</td>\n",
       "    </tr>\n",
       "    <tr>\n",
       "      <th>2</th>\n",
       "      <td>1.0</td>\n",
       "      <td>0.909873</td>\n",
       "      <td>-0.647356</td>\n",
       "      <td>-0.733891</td>\n",
       "      <td>-0.916099</td>\n",
       "      <td>-0.985055</td>\n",
       "      <td>0</td>\n",
       "      <td>True</td>\n",
       "      <td>-1.064955</td>\n",
       "    </tr>\n",
       "    <tr>\n",
       "      <th>3</th>\n",
       "      <td>1.0</td>\n",
       "      <td>0.357528</td>\n",
       "      <td>0.468260</td>\n",
       "      <td>-0.585047</td>\n",
       "      <td>-0.066067</td>\n",
       "      <td>0.863824</td>\n",
       "      <td>0</td>\n",
       "      <td>True</td>\n",
       "      <td>1.093032</td>\n",
       "    </tr>\n",
       "    <tr>\n",
       "      <th>4</th>\n",
       "      <td>1.0</td>\n",
       "      <td>0.783762</td>\n",
       "      <td>1.103713</td>\n",
       "      <td>-1.085646</td>\n",
       "      <td>-1.061816</td>\n",
       "      <td>1.879565</td>\n",
       "      <td>2</td>\n",
       "      <td>True</td>\n",
       "      <td>1.140032</td>\n",
       "    </tr>\n",
       "    <tr>\n",
       "      <th>...</th>\n",
       "      <td>...</td>\n",
       "      <td>...</td>\n",
       "      <td>...</td>\n",
       "      <td>...</td>\n",
       "      <td>...</td>\n",
       "      <td>...</td>\n",
       "      <td>...</td>\n",
       "      <td>...</td>\n",
       "      <td>...</td>\n",
       "    </tr>\n",
       "    <tr>\n",
       "      <th>9995</th>\n",
       "      <td>1.0</td>\n",
       "      <td>0.683017</td>\n",
       "      <td>-0.195340</td>\n",
       "      <td>-0.872517</td>\n",
       "      <td>-1.210603</td>\n",
       "      <td>0.247277</td>\n",
       "      <td>1</td>\n",
       "      <td>True</td>\n",
       "      <td>-0.380825</td>\n",
       "    </tr>\n",
       "    <tr>\n",
       "      <th>9996</th>\n",
       "      <td>1.0</td>\n",
       "      <td>0.120817</td>\n",
       "      <td>-0.471321</td>\n",
       "      <td>-0.910296</td>\n",
       "      <td>-0.077677</td>\n",
       "      <td>1.240885</td>\n",
       "      <td>0</td>\n",
       "      <td>True</td>\n",
       "      <td>0.605243</td>\n",
       "    </tr>\n",
       "    <tr>\n",
       "      <th>9997</th>\n",
       "      <td>1.0</td>\n",
       "      <td>0.349352</td>\n",
       "      <td>-1.489288</td>\n",
       "      <td>-0.807921</td>\n",
       "      <td>-0.911561</td>\n",
       "      <td>-0.077422</td>\n",
       "      <td>1</td>\n",
       "      <td>True</td>\n",
       "      <td>-0.770100</td>\n",
       "    </tr>\n",
       "    <tr>\n",
       "      <th>9998</th>\n",
       "      <td>1.0</td>\n",
       "      <td>0.115483</td>\n",
       "      <td>-0.524530</td>\n",
       "      <td>-0.603321</td>\n",
       "      <td>-0.510959</td>\n",
       "      <td>0.464260</td>\n",
       "      <td>1</td>\n",
       "      <td>True</td>\n",
       "      <td>0.344780</td>\n",
       "    </tr>\n",
       "    <tr>\n",
       "      <th>9999</th>\n",
       "      <td>1.0</td>\n",
       "      <td>0.964993</td>\n",
       "      <td>-0.199015</td>\n",
       "      <td>-0.428351</td>\n",
       "      <td>-1.069226</td>\n",
       "      <td>0.282609</td>\n",
       "      <td>0</td>\n",
       "      <td>True</td>\n",
       "      <td>-0.083108</td>\n",
       "    </tr>\n",
       "  </tbody>\n",
       "</table>\n",
       "<p>10000 rows × 9 columns</p>\n",
       "</div>"
      ],
      "text/plain": [
       "       Z0        Z1        W0        W1        W2        W3 W4    v0         y\n",
       "0     1.0  0.921739 -0.336427 -1.005761 -0.659763  1.216523  2  True  0.601612\n",
       "1     1.0  0.437326  0.075839 -0.927953 -0.194352 -1.920663  2  True -0.480703\n",
       "2     1.0  0.909873 -0.647356 -0.733891 -0.916099 -0.985055  0  True -1.064955\n",
       "3     1.0  0.357528  0.468260 -0.585047 -0.066067  0.863824  0  True  1.093032\n",
       "4     1.0  0.783762  1.103713 -1.085646 -1.061816  1.879565  2  True  1.140032\n",
       "...   ...       ...       ...       ...       ...       ... ..   ...       ...\n",
       "9995  1.0  0.683017 -0.195340 -0.872517 -1.210603  0.247277  1  True -0.380825\n",
       "9996  1.0  0.120817 -0.471321 -0.910296 -0.077677  1.240885  0  True  0.605243\n",
       "9997  1.0  0.349352 -1.489288 -0.807921 -0.911561 -0.077422  1  True -0.770100\n",
       "9998  1.0  0.115483 -0.524530 -0.603321 -0.510959  0.464260  1  True  0.344780\n",
       "9999  1.0  0.964993 -0.199015 -0.428351 -1.069226  0.282609  0  True -0.083108\n",
       "\n",
       "[10000 rows x 9 columns]"
      ]
     },
     "execution_count": 3,
     "metadata": {},
     "output_type": "execute_result"
    }
   ],
   "source": [
    "data = dowhy.datasets.linear_dataset(beta=1,\n",
    "        num_common_causes=5, \n",
    "        num_instruments = 2,\n",
    "        num_treatments=1,\n",
    "        num_discrete_common_causes=1,\n",
    "        num_samples=10000,\n",
    "        treatment_is_binary=True,\n",
    "        outcome_is_binary=False)\n",
    "df = data[\"df\"]\n",
    "print(df[df.v0==True].shape[0])\n",
    "df"
   ]
  },
  {
   "cell_type": "markdown",
   "id": "00923920",
   "metadata": {},
   "source": [
    "Note that we are using a pandas dataframe to load the data."
   ]
  },
  {
   "cell_type": "markdown",
   "id": "429703aa",
   "metadata": {},
   "source": [
    "## Identifying the causal estimand"
   ]
  },
  {
   "cell_type": "markdown",
   "id": "662ec5b6",
   "metadata": {},
   "source": [
    "We now input a causal graph in the GML graph format."
   ]
  },
  {
   "cell_type": "code",
   "execution_count": 4,
   "id": "585ca35d",
   "metadata": {
    "execution": {
     "iopub.execute_input": "2022-07-29T09:43:51.326609Z",
     "iopub.status.busy": "2022-07-29T09:43:51.323377Z",
     "iopub.status.idle": "2022-07-29T09:43:51.360360Z",
     "shell.execute_reply": "2022-07-29T09:43:51.359163Z"
    }
   },
   "outputs": [],
   "source": [
    "# With graph\n",
    "model=CausalModel(\n",
    "        data = df,\n",
    "        treatment=data[\"treatment_name\"],\n",
    "        outcome=data[\"outcome_name\"],\n",
    "        graph=data[\"gml_graph\"],\n",
    "        instruments=data[\"instrument_names\"]\n",
    "        )"
   ]
  },
  {
   "cell_type": "code",
   "execution_count": 5,
   "id": "32fc179c",
   "metadata": {
    "execution": {
     "iopub.execute_input": "2022-07-29T09:43:51.364700Z",
     "iopub.status.busy": "2022-07-29T09:43:51.364407Z",
     "iopub.status.idle": "2022-07-29T09:43:51.429902Z",
     "shell.execute_reply": "2022-07-29T09:43:51.428868Z"
    }
   },
   "outputs": [],
   "source": [
    "model.view_model()"
   ]
  },
  {
   "cell_type": "code",
   "execution_count": 6,
   "id": "64d4e9df",
   "metadata": {
    "execution": {
     "iopub.execute_input": "2022-07-29T09:43:51.435101Z",
     "iopub.status.busy": "2022-07-29T09:43:51.433584Z",
     "iopub.status.idle": "2022-07-29T09:43:51.464728Z",
     "shell.execute_reply": "2022-07-29T09:43:51.463755Z"
    }
   },
   "outputs": [
    {
     "data": {
      "image/png": "[encoded data removed]",
      "text/plain": [
       "<IPython.core.display.Image object>"
      ]
     },
     "metadata": {},
     "output_type": "display_data"
    }
   ],
   "source": [
    "from IPython.display import Image, display\n",
    "display(Image(filename=\"causal_model.png\"))"
   ]
  },
  {
   "cell_type": "markdown",
   "id": "304d15f2",
   "metadata": {},
   "source": [
    "We get a causal graph. Now identification and estimation is done."
   ]
  },
  {
   "cell_type": "code",
   "execution_count": 7,
   "id": "f2bcd9e1",
   "metadata": {
    "execution": {
     "iopub.execute_input": "2022-07-29T09:43:51.468533Z",
     "iopub.status.busy": "2022-07-29T09:43:51.468248Z",
     "iopub.status.idle": "2022-07-29T09:43:51.777569Z",
     "shell.execute_reply": "2022-07-29T09:43:51.776613Z"
    }
   },
   "outputs": [
    {
     "name": "stdout",
     "output_type": "stream",
     "text": [
      "Estimand type: nonparametric-ate\n",
      "\n",
      "### Estimand : 1\n",
      "Estimand name: backdoor\n",
      "Estimand expression:\n",
      "  d                       \n",
      "─────(E[y|W2,W1,W3,W4,W0])\n",
      "d[v₀]                     \n",
      "Estimand assumption 1, Unconfoundedness: If U→{v0} and U→y then P(y|v0,W2,W1,W3,W4,W0,U) = P(y|v0,W2,W1,W3,W4,W0)\n",
      "\n",
      "### Estimand : 2\n",
      "Estimand name: iv\n",
      "Estimand expression:\n",
      " ⎡                              -1⎤\n",
      " ⎢    d        ⎛    d          ⎞  ⎥\n",
      "E⎢─────────(y)⋅⎜─────────([v₀])⎟  ⎥\n",
      " ⎣d[Z₁  Z₀]    ⎝d[Z₁  Z₀]      ⎠  ⎦\n",
      "Estimand assumption 1, As-if-random: If U→→y then ¬(U →→{Z1,Z0})\n",
      "Estimand assumption 2, Exclusion: If we remove {Z1,Z0}→{v0}, then ¬({Z1,Z0}→y)\n",
      "\n",
      "### Estimand : 3\n",
      "Estimand name: frontdoor\n",
      "No such variable(s) found!\n",
      "\n"
     ]
    }
   ],
   "source": [
    "identified_estimand = model.identify_effect(proceed_when_unidentifiable=True)\n",
    "print(identified_estimand)"
   ]
  },
  {
   "cell_type": "markdown",
   "id": "403c1280",
   "metadata": {},
   "source": [
    "## Method 1: Propensity Score Stratification\n",
    "\n",
    "We will be using propensity scores to stratify units in the data."
   ]
  },
  {
   "cell_type": "code",
   "execution_count": 8,
   "id": "9e1b17f7",
   "metadata": {
    "execution": {
     "iopub.execute_input": "2022-07-29T09:43:51.782620Z",
     "iopub.status.busy": "2022-07-29T09:43:51.782338Z",
     "iopub.status.idle": "2022-07-29T09:43:53.001456Z",
     "shell.execute_reply": "2022-07-29T09:43:53.000367Z"
    }
   },
   "outputs": [
    {
     "name": "stdout",
     "output_type": "stream",
     "text": [
      "propensity_score_stratification\n"
     ]
    },
    {
     "name": "stderr",
     "output_type": "stream",
     "text": [
      "/usr/local/lib/python3.8/dist-packages/sklearn/utils/validation.py:993: DataConversionWarning: A column-vector y was passed when a 1d array was expected. Please change the shape of y to (n_samples, ), for example using ravel().\n",
      "  y = column_or_1d(y, warn=True)\n"
     ]
    },
    {
     "name": "stdout",
     "output_type": "stream",
     "text": [
      "*** Causal Estimate ***\n",
      "\n",
      "## Identified estimand\n",
      "Estimand type: nonparametric-ate\n",
      "\n",
      "### Estimand : 1\n",
      "Estimand name: backdoor\n",
      "Estimand expression:\n",
      "  d                       \n",
      "─────(E[y|W2,W1,W3,W4,W0])\n",
      "d[v₀]                     \n",
      "Estimand assumption 1, Unconfoundedness: If U→{v0} and U→y then P(y|v0,W2,W1,W3,W4,W0,U) = P(y|v0,W2,W1,W3,W4,W0)\n",
      "\n",
      "## Realized estimand\n",
      "b: y~v0+W2+W1+W3+W4+W0\n",
      "Target units: att\n",
      "\n",
      "## Estimate\n",
      "Mean value: 0.9670313351884938\n",
      "\n",
      "Causal Estimate is 0.9670313351884938\n"
     ]
    }
   ],
   "source": [
    "causal_estimate_strat = model.estimate_effect(identified_estimand,\n",
    "                                              method_name=\"backdoor.propensity_score_stratification\",\n",
    "                                              target_units=\"att\")\n",
    "print(causal_estimate_strat)\n",
    "print(\"Causal Estimate is \" + str(causal_estimate_strat.value))"
   ]
  },
  {
   "cell_type": "markdown",
   "id": "3620f2ce",
   "metadata": {},
   "source": [
    "### Textual Interpreter\n",
    "\n",
    "The textual Interpreter describes (in words) the effect of unit change in the treatment variable on the outcome variable."
   ]
  },
  {
   "cell_type": "code",
   "execution_count": 9,
   "id": "72e89bb5",
   "metadata": {
    "execution": {
     "iopub.execute_input": "2022-07-29T09:43:53.005514Z",
     "iopub.status.busy": "2022-07-29T09:43:53.005199Z",
     "iopub.status.idle": "2022-07-29T09:43:53.036567Z",
     "shell.execute_reply": "2022-07-29T09:43:53.035559Z"
    }
   },
   "outputs": [
    {
     "name": "stdout",
     "output_type": "stream",
     "text": [
      "Increasing the treatment variable(s) [v0] from 0 to 1 causes an increase of 0.9670313351884938 in the expected value of the outcome [y], over the data distribution/population represented by the dataset.\n"
     ]
    }
   ],
   "source": [
    "# Textual Interpreter\n",
    "interpretation = causal_estimate_strat.interpret(method_name=\"textual_effect_interpreter\")"
   ]
  },
  {
   "cell_type": "markdown",
   "id": "6e9bf0a9",
   "metadata": {},
   "source": [
    "### Visual Interpreter\n",
    "\n",
    "The visual interpreter plots the change in the standardized mean difference (SMD) before and after Propensity Score based adjustment of the dataset. The formula for SMD is given below.\n",
    "\n",
    "\n",
    "$SMD = \\frac{\\bar X_{1} - \\bar X_{2}}{\\sqrt{(S_{1}^{2} + S_{2}^{2})/2}}$\n",
    "\n",
    "Here, $\\bar X_{1}$ and $\\bar X_{2}$ are the sample mean for the treated and control groups.\n"
   ]
  },
  {
   "cell_type": "code",
   "execution_count": 10,
   "id": "aca458f6",
   "metadata": {
    "execution": {
     "iopub.execute_input": "2022-07-29T09:43:53.040931Z",
     "iopub.status.busy": "2022-07-29T09:43:53.040023Z",
     "iopub.status.idle": "2022-07-29T09:43:54.349189Z",
     "shell.execute_reply": "2022-07-29T09:43:54.348089Z"
    }
   },
   "outputs": [
    {
     "data": {
      "image/png": "[encoded data removed]",
      "text/plain": [
       "<Figure size 432x288 with 1 Axes>"
      ]
     },
     "metadata": {
      "needs_background": "light"
     },
     "output_type": "display_data"
    }
   ],
   "source": [
    "# Visual Interpreter\n",
    "interpretation = causal_estimate_strat.interpret(method_name=\"propensity_balance_interpreter\")"
   ]
  },
  {
   "cell_type": "markdown",
   "id": "6c651ae1",
   "metadata": {},
   "source": [
    "This plot shows how the SMD decreases from the unadjusted to the stratified units. "
   ]
  },
  {
   "cell_type": "markdown",
   "id": "9f6ef420",
   "metadata": {},
   "source": [
    "## Method 2: Propensity Score Matching\n",
    "\n",
    "We will be using propensity scores to match units in the data."
   ]
  },
  {
   "cell_type": "code",
   "execution_count": 11,
   "id": "4e2bb63f",
   "metadata": {
    "execution": {
     "iopub.execute_input": "2022-07-29T09:43:54.353820Z",
     "iopub.status.busy": "2022-07-29T09:43:54.353329Z",
     "iopub.status.idle": "2022-07-29T09:44:00.826106Z",
     "shell.execute_reply": "2022-07-29T09:44:00.825279Z"
    }
   },
   "outputs": [
    {
     "name": "stdout",
     "output_type": "stream",
     "text": [
      "propensity_score_matching\n"
     ]
    },
    {
     "name": "stderr",
     "output_type": "stream",
     "text": [
      "/usr/local/lib/python3.8/dist-packages/sklearn/utils/validation.py:993: DataConversionWarning: A column-vector y was passed when a 1d array was expected. Please change the shape of y to (n_samples, ), for example using ravel().\n",
      "  y = column_or_1d(y, warn=True)\n"
     ]
    },
    {
     "name": "stdout",
     "output_type": "stream",
     "text": [
      "*** Causal Estimate ***\n",
      "\n",
      "## Identified estimand\n",
      "Estimand type: nonparametric-ate\n",
      "\n",
      "### Estimand : 1\n",
      "Estimand name: backdoor\n",
      "Estimand expression:\n",
      "  d                       \n",
      "─────(E[y|W2,W1,W3,W4,W0])\n",
      "d[v₀]                     \n",
      "Estimand assumption 1, Unconfoundedness: If U→{v0} and U→y then P(y|v0,W2,W1,W3,W4,W0,U) = P(y|v0,W2,W1,W3,W4,W0)\n",
      "\n",
      "## Realized estimand\n",
      "b: y~v0+W2+W1+W3+W4+W0\n",
      "Target units: atc\n",
      "\n",
      "## Estimate\n",
      "Mean value: 1.0268304218700814\n",
      "\n",
      "Causal Estimate is 1.0268304218700814\n"
     ]
    }
   ],
   "source": [
    "causal_estimate_match = model.estimate_effect(identified_estimand,\n",
    "                                              method_name=\"backdoor.propensity_score_matching\",\n",
    "                                              target_units=\"atc\")\n",
    "print(causal_estimate_match)\n",
    "print(\"Causal Estimate is \" + str(causal_estimate_match.value))"
   ]
  },
  {
   "cell_type": "code",
   "execution_count": 12,
   "id": "13f85f68",
   "metadata": {
    "execution": {
     "iopub.execute_input": "2022-07-29T09:44:00.830477Z",
     "iopub.status.busy": "2022-07-29T09:44:00.829777Z",
     "iopub.status.idle": "2022-07-29T09:44:00.858876Z",
     "shell.execute_reply": "2022-07-29T09:44:00.857960Z"
    }
   },
   "outputs": [
    {
     "name": "stdout",
     "output_type": "stream",
     "text": [
      "Increasing the treatment variable(s) [v0] from 0 to 1 causes an increase of 1.0268304218700814 in the expected value of the outcome [y], over the data distribution/population represented by the dataset.\n"
     ]
    }
   ],
   "source": [
    "# Textual Interpreter\n",
    "interpretation = causal_estimate_match.interpret(method_name=\"textual_effect_interpreter\")"
   ]
  },
  {
   "cell_type": "markdown",
   "id": "ccc00943",
   "metadata": {},
   "source": [
    "Cannot use propensity balance interpretor here since the interpreter method only supports propensity score stratification estimator."
   ]
  },
  {
   "cell_type": "markdown",
   "id": "b36dc842",
   "metadata": {},
   "source": [
    "## Method 3: Weighting\n",
    "\n",
    "We will be using (inverse) propensity scores to assign weights to units in the data. DoWhy supports a few different weighting schemes:\n",
    "1. Vanilla Inverse Propensity Score weighting (IPS) (weighting_scheme=\"ips_weight\")\n",
    "2. Self-normalized IPS weighting (also known as the Hajek estimator) (weighting_scheme=\"ips_normalized_weight\")\n",
    "3. Stabilized IPS weighting (weighting_scheme = \"ips_stabilized_weight\")"
   ]
  },
  {
   "cell_type": "code",
   "execution_count": 13,
   "id": "3b92d9a3",
   "metadata": {
    "execution": {
     "iopub.execute_input": "2022-07-29T09:44:00.862963Z",
     "iopub.status.busy": "2022-07-29T09:44:00.862604Z",
     "iopub.status.idle": "2022-07-29T09:44:00.948932Z",
     "shell.execute_reply": "2022-07-29T09:44:00.947963Z"
    }
   },
   "outputs": [
    {
     "name": "stdout",
     "output_type": "stream",
     "text": [
      "propensity_score_weighting\n",
      "*** Causal Estimate ***\n",
      "\n",
      "## Identified estimand\n",
      "Estimand type: nonparametric-ate\n",
      "\n",
      "### Estimand : 1\n",
      "Estimand name: backdoor\n",
      "Estimand expression:\n",
      "  d                       \n",
      "─────(E[y|W2,W1,W3,W4,W0])\n",
      "d[v₀]                     \n",
      "Estimand assumption 1, Unconfoundedness: If U→{v0} and U→y then P(y|v0,W2,W1,W3,W4,W0,U) = P(y|v0,W2,W1,W3,W4,W0)\n",
      "\n",
      "## Realized estimand\n",
      "b: y~v0+W2+W1+W3+W4+W0\n",
      "Target units: ate\n",
      "\n",
      "## Estimate\n",
      "Mean value: 1.2496267182354102\n",
      "\n",
      "Causal Estimate is 1.2496267182354102\n"
     ]
    },
    {
     "name": "stderr",
     "output_type": "stream",
     "text": [
      "/usr/local/lib/python3.8/dist-packages/sklearn/utils/validation.py:993: DataConversionWarning: A column-vector y was passed when a 1d array was expected. Please change the shape of y to (n_samples, ), for example using ravel().\n",
      "  y = column_or_1d(y, warn=True)\n"
     ]
    }
   ],
   "source": [
    "causal_estimate_ipw = model.estimate_effect(identified_estimand,\n",
    "                                            method_name=\"backdoor.propensity_score_weighting\",\n",
    "                                            target_units = \"ate\",\n",
    "                                            method_params={\"weighting_scheme\":\"ips_weight\"})\n",
    "print(causal_estimate_ipw)\n",
    "print(\"Causal Estimate is \" + str(causal_estimate_ipw.value))"
   ]
  },
  {
   "cell_type": "code",
   "execution_count": 14,
   "id": "38fbe535",
   "metadata": {
    "execution": {
     "iopub.execute_input": "2022-07-29T09:44:00.952613Z",
     "iopub.status.busy": "2022-07-29T09:44:00.952350Z",
     "iopub.status.idle": "2022-07-29T09:44:00.982931Z",
     "shell.execute_reply": "2022-07-29T09:44:00.982113Z"
    }
   },
   "outputs": [
    {
     "name": "stdout",
     "output_type": "stream",
     "text": [
      "Increasing the treatment variable(s) [v0] from 0 to 1 causes an increase of 1.2496267182354102 in the expected value of the outcome [y], over the data distribution/population represented by the dataset.\n"
     ]
    }
   ],
   "source": [
    "# Textual Interpreter\n",
    "interpretation = causal_estimate_ipw.interpret(method_name=\"textual_effect_interpreter\")"
   ]
  },
  {
   "cell_type": "code",
   "execution_count": 15,
   "id": "9b376884",
   "metadata": {
    "execution": {
     "iopub.execute_input": "2022-07-29T09:44:00.986607Z",
     "iopub.status.busy": "2022-07-29T09:44:00.986256Z",
     "iopub.status.idle": "2022-07-29T09:44:01.337761Z",
     "shell.execute_reply": "2022-07-29T09:44:01.336665Z"
    }
   },
   "outputs": [
    {
     "data": {
      "image/png": "[encoded data removed]",
      "text/plain": [
       "<Figure size 576x576 with 2 Axes>"
      ]
     },
     "metadata": {
      "needs_background": "light"
     },
     "output_type": "display_data"
    }
   ],
   "source": [
    "interpretation = causal_estimate_ipw.interpret(method_name=\"confounder_distribution_interpreter\", fig_size=(8,8), font_size=12, var_name='W4', var_type='discrete')"
   ]
  },
  {
   "cell_type": "code",
   "execution_count": null,
   "id": "cc0099d2",
   "metadata": {},
   "outputs": [],
   "source": []
  }
 ],
 "metadata": {
  "kernelspec": {
   "display_name": "Python 3",
   "language": "python",
   "name": "python3"
  },
  "language_info": {
   "codemirror_mode": {
    "name": "ipython",
    "version": 3
   },
   "file_extension": ".py",
   "mimetype": "text/x-python",
   "name": "python",
   "nbconvert_exporter": "python",
   "pygments_lexer": "ipython3",
   "version": "3.8.10"
  },
  "toc": {
   "base_numbering": 1,
   "nav_menu": {},
   "number_sections": false,
   "sideBar": true,
   "skip_h1_title": true,
   "title_cell": "Table of Contents",
   "title_sidebar": "Contents",
   "toc_cell": false,
   "toc_position": {},
   "toc_section_display": true,
   "toc_window_display": false
  }
 },
 "nbformat": 4,
 "nbformat_minor": 5
}
