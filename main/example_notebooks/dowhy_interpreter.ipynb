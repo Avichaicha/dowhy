{
 "cells": [
  {
   "cell_type": "markdown",
   "id": "c8d797d4",
   "metadata": {},
   "source": [
    "# DoWhy: Interpreters for Causal Estimators\n",
    "\n",
    "This is a quick introduction to the use of interpreters in the DoWhy causal inference library.\n",
    "We will load in a sample dataset, use different methods for estimating the causal effect of a (pre-specified)treatment variable on a (pre-specified) outcome variable and demonstrate how to interpret the obtained results.\n",
    "\n",
    "First, let us add the required path for Python to find the DoWhy code and load all required packages"
   ]
  },
  {
   "cell_type": "code",
   "execution_count": 1,
   "id": "4ae9ef86",
   "metadata": {
    "execution": {
     "iopub.execute_input": "2022-11-17T14:52:28.945607Z",
     "iopub.status.busy": "2022-11-17T14:52:28.945372Z",
     "iopub.status.idle": "2022-11-17T14:52:28.960930Z",
     "shell.execute_reply": "2022-11-17T14:52:28.960376Z"
    }
   },
   "outputs": [],
   "source": [
    "%load_ext autoreload\n",
    "%autoreload 2"
   ]
  },
  {
   "cell_type": "code",
   "execution_count": 2,
   "id": "a4df2b3d",
   "metadata": {
    "execution": {
     "iopub.execute_input": "2022-11-17T14:52:28.963647Z",
     "iopub.status.busy": "2022-11-17T14:52:28.963451Z",
     "iopub.status.idle": "2022-11-17T14:52:30.791342Z",
     "shell.execute_reply": "2022-11-17T14:52:30.790659Z"
    }
   },
   "outputs": [],
   "source": [
    "import numpy as np\n",
    "import pandas as pd\n",
    "import logging\n",
    "\n",
    "import dowhy\n",
    "from dowhy import CausalModel\n",
    "import dowhy.datasets "
   ]
  },
  {
   "cell_type": "markdown",
   "id": "74f2d5a2",
   "metadata": {},
   "source": [
    "Now, let us load a dataset. For simplicity, we simulate a dataset with linear relationships between common causes and treatment, and common causes and outcome.\n",
    "\n",
    "Beta is the true causal effect."
   ]
  },
  {
   "cell_type": "code",
   "execution_count": 3,
   "id": "8c858b90",
   "metadata": {
    "execution": {
     "iopub.execute_input": "2022-11-17T14:52:30.795276Z",
     "iopub.status.busy": "2022-11-17T14:52:30.794773Z",
     "iopub.status.idle": "2022-11-17T14:52:31.071714Z",
     "shell.execute_reply": "2022-11-17T14:52:31.071110Z"
    }
   },
   "outputs": [
    {
     "name": "stdout",
     "output_type": "stream",
     "text": [
      "7320\n"
     ]
    },
    {
     "data": {
      "text/html": [
       "<div>\n",
       "<style scoped>\n",
       "    .dataframe tbody tr th:only-of-type {\n",
       "        vertical-align: middle;\n",
       "    }\n",
       "\n",
       "    .dataframe tbody tr th {\n",
       "        vertical-align: top;\n",
       "    }\n",
       "\n",
       "    .dataframe thead th {\n",
       "        text-align: right;\n",
       "    }\n",
       "</style>\n",
       "<table border=\"1\" class=\"dataframe\">\n",
       "  <thead>\n",
       "    <tr style=\"text-align: right;\">\n",
       "      <th></th>\n",
       "      <th>Z0</th>\n",
       "      <th>Z1</th>\n",
       "      <th>W0</th>\n",
       "      <th>W1</th>\n",
       "      <th>W2</th>\n",
       "      <th>W3</th>\n",
       "      <th>W4</th>\n",
       "      <th>v0</th>\n",
       "      <th>y</th>\n",
       "    </tr>\n",
       "  </thead>\n",
       "  <tbody>\n",
       "    <tr>\n",
       "      <th>0</th>\n",
       "      <td>1.0</td>\n",
       "      <td>0.891021</td>\n",
       "      <td>0.341819</td>\n",
       "      <td>-0.175103</td>\n",
       "      <td>-0.257302</td>\n",
       "      <td>0.234829</td>\n",
       "      <td>0</td>\n",
       "      <td>True</td>\n",
       "      <td>1.105522</td>\n",
       "    </tr>\n",
       "    <tr>\n",
       "      <th>1</th>\n",
       "      <td>0.0</td>\n",
       "      <td>0.568701</td>\n",
       "      <td>0.545485</td>\n",
       "      <td>-0.832571</td>\n",
       "      <td>2.392292</td>\n",
       "      <td>0.745156</td>\n",
       "      <td>0</td>\n",
       "      <td>True</td>\n",
       "      <td>1.747921</td>\n",
       "    </tr>\n",
       "    <tr>\n",
       "      <th>2</th>\n",
       "      <td>0.0</td>\n",
       "      <td>0.988472</td>\n",
       "      <td>-0.054632</td>\n",
       "      <td>-1.236520</td>\n",
       "      <td>-0.807804</td>\n",
       "      <td>-1.310401</td>\n",
       "      <td>0</td>\n",
       "      <td>True</td>\n",
       "      <td>-0.116575</td>\n",
       "    </tr>\n",
       "    <tr>\n",
       "      <th>3</th>\n",
       "      <td>1.0</td>\n",
       "      <td>0.085662</td>\n",
       "      <td>-0.234383</td>\n",
       "      <td>-1.096969</td>\n",
       "      <td>-1.121179</td>\n",
       "      <td>-0.775041</td>\n",
       "      <td>1</td>\n",
       "      <td>False</td>\n",
       "      <td>-0.635387</td>\n",
       "    </tr>\n",
       "    <tr>\n",
       "      <th>4</th>\n",
       "      <td>1.0</td>\n",
       "      <td>0.525133</td>\n",
       "      <td>-1.856932</td>\n",
       "      <td>-1.031511</td>\n",
       "      <td>0.649450</td>\n",
       "      <td>2.536877</td>\n",
       "      <td>0</td>\n",
       "      <td>True</td>\n",
       "      <td>0.132864</td>\n",
       "    </tr>\n",
       "    <tr>\n",
       "      <th>...</th>\n",
       "      <td>...</td>\n",
       "      <td>...</td>\n",
       "      <td>...</td>\n",
       "      <td>...</td>\n",
       "      <td>...</td>\n",
       "      <td>...</td>\n",
       "      <td>...</td>\n",
       "      <td>...</td>\n",
       "      <td>...</td>\n",
       "    </tr>\n",
       "    <tr>\n",
       "      <th>9995</th>\n",
       "      <td>0.0</td>\n",
       "      <td>0.174235</td>\n",
       "      <td>0.128562</td>\n",
       "      <td>-1.043987</td>\n",
       "      <td>-0.909012</td>\n",
       "      <td>-0.837368</td>\n",
       "      <td>3</td>\n",
       "      <td>True</td>\n",
       "      <td>1.605360</td>\n",
       "    </tr>\n",
       "    <tr>\n",
       "      <th>9996</th>\n",
       "      <td>1.0</td>\n",
       "      <td>0.997434</td>\n",
       "      <td>-1.437760</td>\n",
       "      <td>-0.655633</td>\n",
       "      <td>-0.667462</td>\n",
       "      <td>-1.548390</td>\n",
       "      <td>0</td>\n",
       "      <td>False</td>\n",
       "      <td>-1.678761</td>\n",
       "    </tr>\n",
       "    <tr>\n",
       "      <th>9997</th>\n",
       "      <td>0.0</td>\n",
       "      <td>0.855257</td>\n",
       "      <td>-0.815809</td>\n",
       "      <td>-0.233085</td>\n",
       "      <td>-0.851152</td>\n",
       "      <td>1.052600</td>\n",
       "      <td>0</td>\n",
       "      <td>True</td>\n",
       "      <td>0.401243</td>\n",
       "    </tr>\n",
       "    <tr>\n",
       "      <th>9998</th>\n",
       "      <td>0.0</td>\n",
       "      <td>0.227252</td>\n",
       "      <td>0.357172</td>\n",
       "      <td>-1.764249</td>\n",
       "      <td>-0.476972</td>\n",
       "      <td>-1.138572</td>\n",
       "      <td>1</td>\n",
       "      <td>False</td>\n",
       "      <td>-0.503936</td>\n",
       "    </tr>\n",
       "    <tr>\n",
       "      <th>9999</th>\n",
       "      <td>1.0</td>\n",
       "      <td>0.256223</td>\n",
       "      <td>0.691499</td>\n",
       "      <td>-0.557421</td>\n",
       "      <td>-2.031063</td>\n",
       "      <td>-1.650479</td>\n",
       "      <td>0</td>\n",
       "      <td>True</td>\n",
       "      <td>0.219136</td>\n",
       "    </tr>\n",
       "  </tbody>\n",
       "</table>\n",
       "<p>10000 rows × 9 columns</p>\n",
       "</div>"
      ],
      "text/plain": [
       "       Z0        Z1        W0        W1        W2        W3 W4     v0  \\\n",
       "0     1.0  0.891021  0.341819 -0.175103 -0.257302  0.234829  0   True   \n",
       "1     0.0  0.568701  0.545485 -0.832571  2.392292  0.745156  0   True   \n",
       "2     0.0  0.988472 -0.054632 -1.236520 -0.807804 -1.310401  0   True   \n",
       "3     1.0  0.085662 -0.234383 -1.096969 -1.121179 -0.775041  1  False   \n",
       "4     1.0  0.525133 -1.856932 -1.031511  0.649450  2.536877  0   True   \n",
       "...   ...       ...       ...       ...       ...       ... ..    ...   \n",
       "9995  0.0  0.174235  0.128562 -1.043987 -0.909012 -0.837368  3   True   \n",
       "9996  1.0  0.997434 -1.437760 -0.655633 -0.667462 -1.548390  0  False   \n",
       "9997  0.0  0.855257 -0.815809 -0.233085 -0.851152  1.052600  0   True   \n",
       "9998  0.0  0.227252  0.357172 -1.764249 -0.476972 -1.138572  1  False   \n",
       "9999  1.0  0.256223  0.691499 -0.557421 -2.031063 -1.650479  0   True   \n",
       "\n",
       "             y  \n",
       "0     1.105522  \n",
       "1     1.747921  \n",
       "2    -0.116575  \n",
       "3    -0.635387  \n",
       "4     0.132864  \n",
       "...        ...  \n",
       "9995  1.605360  \n",
       "9996 -1.678761  \n",
       "9997  0.401243  \n",
       "9998 -0.503936  \n",
       "9999  0.219136  \n",
       "\n",
       "[10000 rows x 9 columns]"
      ]
     },
     "execution_count": 3,
     "metadata": {},
     "output_type": "execute_result"
    }
   ],
   "source": [
    "data = dowhy.datasets.linear_dataset(beta=1,\n",
    "        num_common_causes=5, \n",
    "        num_instruments = 2,\n",
    "        num_treatments=1,\n",
    "        num_discrete_common_causes=1,\n",
    "        num_samples=10000,\n",
    "        treatment_is_binary=True,\n",
    "        outcome_is_binary=False)\n",
    "df = data[\"df\"]\n",
    "print(df[df.v0==True].shape[0])\n",
    "df"
   ]
  },
  {
   "cell_type": "markdown",
   "id": "17349035",
   "metadata": {},
   "source": [
    "Note that we are using a pandas dataframe to load the data."
   ]
  },
  {
   "cell_type": "markdown",
   "id": "9445e80b",
   "metadata": {},
   "source": [
    "## Identifying the causal estimand"
   ]
  },
  {
   "cell_type": "markdown",
   "id": "47aca766",
   "metadata": {},
   "source": [
    "We now input a causal graph in the GML graph format."
   ]
  },
  {
   "cell_type": "code",
   "execution_count": 4,
   "id": "7409970c",
   "metadata": {
    "execution": {
     "iopub.execute_input": "2022-11-17T14:52:31.075206Z",
     "iopub.status.busy": "2022-11-17T14:52:31.074945Z",
     "iopub.status.idle": "2022-11-17T14:52:31.105746Z",
     "shell.execute_reply": "2022-11-17T14:52:31.105124Z"
    }
   },
   "outputs": [],
   "source": [
    "# With graph\n",
    "model=CausalModel(\n",
    "        data = df,\n",
    "        treatment=data[\"treatment_name\"],\n",
    "        outcome=data[\"outcome_name\"],\n",
    "        graph=data[\"gml_graph\"],\n",
    "        instruments=data[\"instrument_names\"]\n",
    "        )"
   ]
  },
  {
   "cell_type": "code",
   "execution_count": 5,
   "id": "7a3147ec",
   "metadata": {
    "execution": {
     "iopub.execute_input": "2022-11-17T14:52:31.109421Z",
     "iopub.status.busy": "2022-11-17T14:52:31.109157Z",
     "iopub.status.idle": "2022-11-17T14:52:31.168213Z",
     "shell.execute_reply": "2022-11-17T14:52:31.167572Z"
    }
   },
   "outputs": [],
   "source": [
    "model.view_model()"
   ]
  },
  {
   "cell_type": "code",
   "execution_count": 6,
   "id": "4adceda3",
   "metadata": {
    "execution": {
     "iopub.execute_input": "2022-11-17T14:52:31.171812Z",
     "iopub.status.busy": "2022-11-17T14:52:31.171254Z",
     "iopub.status.idle": "2022-11-17T14:52:31.203019Z",
     "shell.execute_reply": "2022-11-17T14:52:31.202435Z"
    }
   },
   "outputs": [
    {
     "data": {
      "image/png": "[encoded data removed]",
      "text/plain": [
       "<IPython.core.display.Image object>"
      ]
     },
     "metadata": {},
     "output_type": "display_data"
    }
   ],
   "source": [
    "from IPython.display import Image, display\n",
    "display(Image(filename=\"causal_model.png\"))"
   ]
  },
  {
   "cell_type": "markdown",
   "id": "8c652feb",
   "metadata": {},
   "source": [
    "We get a causal graph. Now identification and estimation is done."
   ]
  },
  {
   "cell_type": "code",
   "execution_count": 7,
   "id": "4026e764",
   "metadata": {
    "execution": {
     "iopub.execute_input": "2022-11-17T14:52:31.206387Z",
     "iopub.status.busy": "2022-11-17T14:52:31.205842Z",
     "iopub.status.idle": "2022-11-17T14:52:31.436330Z",
     "shell.execute_reply": "2022-11-17T14:52:31.435691Z"
    }
   },
   "outputs": [
    {
     "name": "stdout",
     "output_type": "stream",
     "text": [
      "Estimand type: EstimandType.NONPARAMETRIC_ATE\n",
      "\n",
      "### Estimand : 1\n",
      "Estimand name: backdoor\n",
      "Estimand expression:\n",
      "  d                       \n",
      "─────(E[y|W4,W0,W3,W2,W1])\n",
      "d[v₀]                     \n",
      "Estimand assumption 1, Unconfoundedness: If U→{v0} and U→y then P(y|v0,W4,W0,W3,W2,W1,U) = P(y|v0,W4,W0,W3,W2,W1)\n",
      "\n",
      "### Estimand : 2\n",
      "Estimand name: iv\n",
      "Estimand expression:\n",
      " ⎡                              -1⎤\n",
      " ⎢    d        ⎛    d          ⎞  ⎥\n",
      "E⎢─────────(y)⋅⎜─────────([v₀])⎟  ⎥\n",
      " ⎣d[Z₁  Z₀]    ⎝d[Z₁  Z₀]      ⎠  ⎦\n",
      "Estimand assumption 1, As-if-random: If U→→y then ¬(U →→{Z1,Z0})\n",
      "Estimand assumption 2, Exclusion: If we remove {Z1,Z0}→{v0}, then ¬({Z1,Z0}→y)\n",
      "\n",
      "### Estimand : 3\n",
      "Estimand name: frontdoor\n",
      "No such variable(s) found!\n",
      "\n"
     ]
    }
   ],
   "source": [
    "identified_estimand = model.identify_effect(proceed_when_unidentifiable=True)\n",
    "print(identified_estimand)"
   ]
  },
  {
   "cell_type": "markdown",
   "id": "b1800ee8",
   "metadata": {},
   "source": [
    "## Method 1: Propensity Score Stratification\n",
    "\n",
    "We will be using propensity scores to stratify units in the data."
   ]
  },
  {
   "cell_type": "code",
   "execution_count": 8,
   "id": "3b532b0c",
   "metadata": {
    "execution": {
     "iopub.execute_input": "2022-11-17T14:52:31.439350Z",
     "iopub.status.busy": "2022-11-17T14:52:31.439136Z",
     "iopub.status.idle": "2022-11-17T14:52:32.035046Z",
     "shell.execute_reply": "2022-11-17T14:52:32.034432Z"
    }
   },
   "outputs": [
    {
     "name": "stdout",
     "output_type": "stream",
     "text": [
      "*** Causal Estimate ***\n",
      "\n",
      "## Identified estimand\n",
      "Estimand type: EstimandType.NONPARAMETRIC_ATE\n",
      "\n",
      "### Estimand : 1\n",
      "Estimand name: backdoor\n",
      "Estimand expression:\n",
      "  d                       \n",
      "─────(E[y|W4,W0,W3,W2,W1])\n",
      "d[v₀]                     \n",
      "Estimand assumption 1, Unconfoundedness: If U→{v0} and U→y then P(y|v0,W4,W0,W3,W2,W1,U) = P(y|v0,W4,W0,W3,W2,W1)\n",
      "\n",
      "## Realized estimand\n",
      "b: y~v0+W4+W0+W3+W2+W1\n",
      "Target units: att\n",
      "\n",
      "## Estimate\n",
      "Mean value: 0.9925647692905133\n",
      "\n",
      "Causal Estimate is 0.9925647692905133\n"
     ]
    }
   ],
   "source": [
    "causal_estimate_strat = model.estimate_effect(identified_estimand,\n",
    "                                              method_name=\"backdoor.propensity_score_stratification\",\n",
    "                                              target_units=\"att\")\n",
    "print(causal_estimate_strat)\n",
    "print(\"Causal Estimate is \" + str(causal_estimate_strat.value))"
   ]
  },
  {
   "cell_type": "markdown",
   "id": "d49f44b4",
   "metadata": {},
   "source": [
    "### Textual Interpreter\n",
    "\n",
    "The textual Interpreter describes (in words) the effect of unit change in the treatment variable on the outcome variable."
   ]
  },
  {
   "cell_type": "code",
   "execution_count": 9,
   "id": "e2097642",
   "metadata": {
    "execution": {
     "iopub.execute_input": "2022-11-17T14:52:32.038405Z",
     "iopub.status.busy": "2022-11-17T14:52:32.037918Z",
     "iopub.status.idle": "2022-11-17T14:52:32.068326Z",
     "shell.execute_reply": "2022-11-17T14:52:32.067698Z"
    }
   },
   "outputs": [
    {
     "name": "stdout",
     "output_type": "stream",
     "text": [
      "Increasing the treatment variable(s) [v0] from 0 to 1 causes an increase of 0.9925647692905133 in the expected value of the outcome [y], over the data distribution/population represented by the dataset.\n"
     ]
    }
   ],
   "source": [
    "# Textual Interpreter\n",
    "interpretation = causal_estimate_strat.interpret(method_name=\"textual_effect_interpreter\")"
   ]
  },
  {
   "cell_type": "markdown",
   "id": "e34e1eda",
   "metadata": {},
   "source": [
    "### Visual Interpreter\n",
    "\n",
    "The visual interpreter plots the change in the standardized mean difference (SMD) before and after Propensity Score based adjustment of the dataset. The formula for SMD is given below.\n",
    "\n",
    "\n",
    "$SMD = \\frac{\\bar X_{1} - \\bar X_{2}}{\\sqrt{(S_{1}^{2} + S_{2}^{2})/2}}$\n",
    "\n",
    "Here, $\\bar X_{1}$ and $\\bar X_{2}$ are the sample mean for the treated and control groups.\n"
   ]
  },
  {
   "cell_type": "code",
   "execution_count": 10,
   "id": "4d0582f4",
   "metadata": {
    "execution": {
     "iopub.execute_input": "2022-11-17T14:52:32.071360Z",
     "iopub.status.busy": "2022-11-17T14:52:32.071147Z",
     "iopub.status.idle": "2022-11-17T14:52:32.943895Z",
     "shell.execute_reply": "2022-11-17T14:52:32.943276Z"
    }
   },
   "outputs": [
    {
     "data": {
      "image/png": "[encoded data removed]",
      "text/plain": [
       "<Figure size 640x480 with 1 Axes>"
      ]
     },
     "metadata": {},
     "output_type": "display_data"
    }
   ],
   "source": [
    "# Visual Interpreter\n",
    "interpretation = causal_estimate_strat.interpret(method_name=\"propensity_balance_interpreter\")"
   ]
  },
  {
   "cell_type": "markdown",
   "id": "89b321c9",
   "metadata": {},
   "source": [
    "This plot shows how the SMD decreases from the unadjusted to the stratified units. "
   ]
  },
  {
   "cell_type": "markdown",
   "id": "9cf2eab5",
   "metadata": {},
   "source": [
    "## Method 2: Propensity Score Matching\n",
    "\n",
    "We will be using propensity scores to match units in the data."
   ]
  },
  {
   "cell_type": "code",
   "execution_count": 11,
   "id": "9733ffe4",
   "metadata": {
    "execution": {
     "iopub.execute_input": "2022-11-17T14:52:32.947319Z",
     "iopub.status.busy": "2022-11-17T14:52:32.946958Z",
     "iopub.status.idle": "2022-11-17T14:52:36.246163Z",
     "shell.execute_reply": "2022-11-17T14:52:36.245252Z"
    }
   },
   "outputs": [
    {
     "name": "stdout",
     "output_type": "stream",
     "text": [
      "*** Causal Estimate ***\n",
      "\n",
      "## Identified estimand\n",
      "Estimand type: EstimandType.NONPARAMETRIC_ATE\n",
      "\n",
      "### Estimand : 1\n",
      "Estimand name: backdoor\n",
      "Estimand expression:\n",
      "  d                       \n",
      "─────(E[y|W4,W0,W3,W2,W1])\n",
      "d[v₀]                     \n",
      "Estimand assumption 1, Unconfoundedness: If U→{v0} and U→y then P(y|v0,W4,W0,W3,W2,W1,U) = P(y|v0,W4,W0,W3,W2,W1)\n",
      "\n",
      "## Realized estimand\n",
      "b: y~v0+W4+W0+W3+W2+W1\n",
      "Target units: atc\n",
      "\n",
      "## Estimate\n",
      "Mean value: 1.00490421472489\n",
      "\n",
      "Causal Estimate is 1.00490421472489\n"
     ]
    }
   ],
   "source": [
    "causal_estimate_match = model.estimate_effect(identified_estimand,\n",
    "                                              method_name=\"backdoor.propensity_score_matching\",\n",
    "                                              target_units=\"atc\")\n",
    "print(causal_estimate_match)\n",
    "print(\"Causal Estimate is \" + str(causal_estimate_match.value))"
   ]
  },
  {
   "cell_type": "code",
   "execution_count": 12,
   "id": "7f146a1c",
   "metadata": {
    "execution": {
     "iopub.execute_input": "2022-11-17T14:52:36.249603Z",
     "iopub.status.busy": "2022-11-17T14:52:36.249092Z",
     "iopub.status.idle": "2022-11-17T14:52:36.278807Z",
     "shell.execute_reply": "2022-11-17T14:52:36.278023Z"
    }
   },
   "outputs": [
    {
     "name": "stdout",
     "output_type": "stream",
     "text": [
      "Increasing the treatment variable(s) [v0] from 0 to 1 causes an increase of 1.00490421472489 in the expected value of the outcome [y], over the data distribution/population represented by the dataset.\n"
     ]
    }
   ],
   "source": [
    "# Textual Interpreter\n",
    "interpretation = causal_estimate_match.interpret(method_name=\"textual_effect_interpreter\")"
   ]
  },
  {
   "cell_type": "markdown",
   "id": "87279d7a",
   "metadata": {},
   "source": [
    "Cannot use propensity balance interpretor here since the interpreter method only supports propensity score stratification estimator."
   ]
  },
  {
   "cell_type": "markdown",
   "id": "03971603",
   "metadata": {},
   "source": [
    "## Method 3: Weighting\n",
    "\n",
    "We will be using (inverse) propensity scores to assign weights to units in the data. DoWhy supports a few different weighting schemes:\n",
    "1. Vanilla Inverse Propensity Score weighting (IPS) (weighting_scheme=\"ips_weight\")\n",
    "2. Self-normalized IPS weighting (also known as the Hajek estimator) (weighting_scheme=\"ips_normalized_weight\")\n",
    "3. Stabilized IPS weighting (weighting_scheme = \"ips_stabilized_weight\")"
   ]
  },
  {
   "cell_type": "code",
   "execution_count": 13,
   "id": "160989f9",
   "metadata": {
    "execution": {
     "iopub.execute_input": "2022-11-17T14:52:36.282075Z",
     "iopub.status.busy": "2022-11-17T14:52:36.281587Z",
     "iopub.status.idle": "2022-11-17T14:52:36.348021Z",
     "shell.execute_reply": "2022-11-17T14:52:36.347380Z"
    }
   },
   "outputs": [
    {
     "name": "stdout",
     "output_type": "stream",
     "text": [
      "*** Causal Estimate ***\n",
      "\n",
      "## Identified estimand\n",
      "Estimand type: EstimandType.NONPARAMETRIC_ATE\n",
      "\n",
      "### Estimand : 1\n",
      "Estimand name: backdoor\n",
      "Estimand expression:\n",
      "  d                       \n",
      "─────(E[y|W4,W0,W3,W2,W1])\n",
      "d[v₀]                     \n",
      "Estimand assumption 1, Unconfoundedness: If U→{v0} and U→y then P(y|v0,W4,W0,W3,W2,W1,U) = P(y|v0,W4,W0,W3,W2,W1)\n",
      "\n",
      "## Realized estimand\n",
      "b: y~v0+W4+W0+W3+W2+W1\n",
      "Target units: ate\n",
      "\n",
      "## Estimate\n",
      "Mean value: 1.0176698031512343\n",
      "\n",
      "Causal Estimate is 1.0176698031512343\n"
     ]
    }
   ],
   "source": [
    "causal_estimate_ipw = model.estimate_effect(identified_estimand,\n",
    "                                            method_name=\"backdoor.propensity_score_weighting\",\n",
    "                                            target_units = \"ate\",\n",
    "                                            method_params={\"weighting_scheme\":\"ips_weight\"})\n",
    "print(causal_estimate_ipw)\n",
    "print(\"Causal Estimate is \" + str(causal_estimate_ipw.value))"
   ]
  },
  {
   "cell_type": "code",
   "execution_count": 14,
   "id": "95640eb6",
   "metadata": {
    "execution": {
     "iopub.execute_input": "2022-11-17T14:52:36.351160Z",
     "iopub.status.busy": "2022-11-17T14:52:36.350546Z",
     "iopub.status.idle": "2022-11-17T14:52:36.380085Z",
     "shell.execute_reply": "2022-11-17T14:52:36.379428Z"
    }
   },
   "outputs": [
    {
     "name": "stdout",
     "output_type": "stream",
     "text": [
      "Increasing the treatment variable(s) [v0] from 0 to 1 causes an increase of 1.0176698031512343 in the expected value of the outcome [y], over the data distribution/population represented by the dataset.\n"
     ]
    }
   ],
   "source": [
    "# Textual Interpreter\n",
    "interpretation = causal_estimate_ipw.interpret(method_name=\"textual_effect_interpreter\")"
   ]
  },
  {
   "cell_type": "code",
   "execution_count": 15,
   "id": "c88e748e",
   "metadata": {
    "execution": {
     "iopub.execute_input": "2022-11-17T14:52:36.382668Z",
     "iopub.status.busy": "2022-11-17T14:52:36.382449Z",
     "iopub.status.idle": "2022-11-17T14:52:36.710533Z",
     "shell.execute_reply": "2022-11-17T14:52:36.709907Z"
    }
   },
   "outputs": [
    {
     "data": {
      "image/png": "[encoded data removed]",
      "text/plain": [
       "<Figure size 800x800 with 2 Axes>"
      ]
     },
     "metadata": {},
     "output_type": "display_data"
    }
   ],
   "source": [
    "interpretation = causal_estimate_ipw.interpret(method_name=\"confounder_distribution_interpreter\", fig_size=(8,8), font_size=12, var_name='W4', var_type='discrete')"
   ]
  },
  {
   "cell_type": "code",
   "execution_count": null,
   "id": "498922e6",
   "metadata": {},
   "outputs": [],
   "source": []
  }
 ],
 "metadata": {
  "kernelspec": {
   "display_name": "Python 3",
   "language": "python",
   "name": "python3"
  },
  "language_info": {
   "codemirror_mode": {
    "name": "ipython",
    "version": 3
   },
   "file_extension": ".py",
   "mimetype": "text/x-python",
   "name": "python",
   "nbconvert_exporter": "python",
   "pygments_lexer": "ipython3",
   "version": "3.8.10"
  },
  "toc": {
   "base_numbering": 1,
   "nav_menu": {},
   "number_sections": false,
   "sideBar": true,
   "skip_h1_title": true,
   "title_cell": "Table of Contents",
   "title_sidebar": "Contents",
   "toc_cell": false,
   "toc_position": {},
   "toc_section_display": true,
   "toc_window_display": false
  }
 },
 "nbformat": 4,
 "nbformat_minor": 5
}
