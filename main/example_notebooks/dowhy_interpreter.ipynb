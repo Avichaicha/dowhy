{
 "cells": [
  {
   "cell_type": "markdown",
   "id": "08843022",
   "metadata": {},
   "source": [
    "# DoWhy: Interpreters for Causal Estimators\n",
    "\n",
    "This is a quick introduction to the use of interpreters in the DoWhy causal inference library.\n",
    "We will load in a sample dataset, use different methods for estimating the causal effect of a (pre-specified)treatment variable on a (pre-specified) outcome variable and demonstrate how to interpret the obtained results.\n",
    "\n",
    "First, let us add the required path for Python to find the DoWhy code and load all required packages"
   ]
  },
  {
   "cell_type": "code",
   "execution_count": 1,
   "id": "595ff1d6",
   "metadata": {
    "execution": {
     "iopub.execute_input": "2022-11-16T14:35:39.794423Z",
     "iopub.status.busy": "2022-11-16T14:35:39.793897Z",
     "iopub.status.idle": "2022-11-16T14:35:39.810467Z",
     "shell.execute_reply": "2022-11-16T14:35:39.809681Z"
    }
   },
   "outputs": [],
   "source": [
    "%load_ext autoreload\n",
    "%autoreload 2"
   ]
  },
  {
   "cell_type": "code",
   "execution_count": 2,
   "id": "6418c94b",
   "metadata": {
    "execution": {
     "iopub.execute_input": "2022-11-16T14:35:39.813937Z",
     "iopub.status.busy": "2022-11-16T14:35:39.813418Z",
     "iopub.status.idle": "2022-11-16T14:35:41.834384Z",
     "shell.execute_reply": "2022-11-16T14:35:41.833634Z"
    }
   },
   "outputs": [],
   "source": [
    "import numpy as np\n",
    "import pandas as pd\n",
    "import logging\n",
    "\n",
    "import dowhy\n",
    "from dowhy import CausalModel\n",
    "import dowhy.datasets "
   ]
  },
  {
   "cell_type": "markdown",
   "id": "816b167a",
   "metadata": {},
   "source": [
    "Now, let us load a dataset. For simplicity, we simulate a dataset with linear relationships between common causes and treatment, and common causes and outcome.\n",
    "\n",
    "Beta is the true causal effect."
   ]
  },
  {
   "cell_type": "code",
   "execution_count": 3,
   "id": "d6167dc4",
   "metadata": {
    "execution": {
     "iopub.execute_input": "2022-11-16T14:35:41.839186Z",
     "iopub.status.busy": "2022-11-16T14:35:41.838338Z",
     "iopub.status.idle": "2022-11-16T14:35:42.141011Z",
     "shell.execute_reply": "2022-11-16T14:35:42.140359Z"
    }
   },
   "outputs": [
    {
     "name": "stdout",
     "output_type": "stream",
     "text": [
      "7802\n"
     ]
    },
    {
     "data": {
      "text/html": [
       "<div>\n",
       "<style scoped>\n",
       "    .dataframe tbody tr th:only-of-type {\n",
       "        vertical-align: middle;\n",
       "    }\n",
       "\n",
       "    .dataframe tbody tr th {\n",
       "        vertical-align: top;\n",
       "    }\n",
       "\n",
       "    .dataframe thead th {\n",
       "        text-align: right;\n",
       "    }\n",
       "</style>\n",
       "<table border=\"1\" class=\"dataframe\">\n",
       "  <thead>\n",
       "    <tr style=\"text-align: right;\">\n",
       "      <th></th>\n",
       "      <th>Z0</th>\n",
       "      <th>Z1</th>\n",
       "      <th>W0</th>\n",
       "      <th>W1</th>\n",
       "      <th>W2</th>\n",
       "      <th>W3</th>\n",
       "      <th>W4</th>\n",
       "      <th>v0</th>\n",
       "      <th>y</th>\n",
       "    </tr>\n",
       "  </thead>\n",
       "  <tbody>\n",
       "    <tr>\n",
       "      <th>0</th>\n",
       "      <td>1.0</td>\n",
       "      <td>0.359312</td>\n",
       "      <td>0.563026</td>\n",
       "      <td>1.292705</td>\n",
       "      <td>0.743563</td>\n",
       "      <td>-0.961889</td>\n",
       "      <td>3</td>\n",
       "      <td>True</td>\n",
       "      <td>2.877986</td>\n",
       "    </tr>\n",
       "    <tr>\n",
       "      <th>1</th>\n",
       "      <td>0.0</td>\n",
       "      <td>0.767575</td>\n",
       "      <td>0.392300</td>\n",
       "      <td>0.375610</td>\n",
       "      <td>1.196704</td>\n",
       "      <td>0.009766</td>\n",
       "      <td>1</td>\n",
       "      <td>True</td>\n",
       "      <td>2.376844</td>\n",
       "    </tr>\n",
       "    <tr>\n",
       "      <th>2</th>\n",
       "      <td>0.0</td>\n",
       "      <td>0.715279</td>\n",
       "      <td>0.894317</td>\n",
       "      <td>-0.079443</td>\n",
       "      <td>0.251544</td>\n",
       "      <td>-0.126172</td>\n",
       "      <td>1</td>\n",
       "      <td>True</td>\n",
       "      <td>1.706898</td>\n",
       "    </tr>\n",
       "    <tr>\n",
       "      <th>3</th>\n",
       "      <td>1.0</td>\n",
       "      <td>0.935641</td>\n",
       "      <td>1.315188</td>\n",
       "      <td>0.833210</td>\n",
       "      <td>-0.823098</td>\n",
       "      <td>-0.900302</td>\n",
       "      <td>3</td>\n",
       "      <td>True</td>\n",
       "      <td>2.067776</td>\n",
       "    </tr>\n",
       "    <tr>\n",
       "      <th>4</th>\n",
       "      <td>0.0</td>\n",
       "      <td>0.441640</td>\n",
       "      <td>1.000541</td>\n",
       "      <td>0.085222</td>\n",
       "      <td>-0.880522</td>\n",
       "      <td>-1.430324</td>\n",
       "      <td>0</td>\n",
       "      <td>False</td>\n",
       "      <td>-1.065192</td>\n",
       "    </tr>\n",
       "    <tr>\n",
       "      <th>...</th>\n",
       "      <td>...</td>\n",
       "      <td>...</td>\n",
       "      <td>...</td>\n",
       "      <td>...</td>\n",
       "      <td>...</td>\n",
       "      <td>...</td>\n",
       "      <td>...</td>\n",
       "      <td>...</td>\n",
       "      <td>...</td>\n",
       "    </tr>\n",
       "    <tr>\n",
       "      <th>9995</th>\n",
       "      <td>1.0</td>\n",
       "      <td>0.629422</td>\n",
       "      <td>-1.182405</td>\n",
       "      <td>-1.119115</td>\n",
       "      <td>-0.006118</td>\n",
       "      <td>-0.867453</td>\n",
       "      <td>2</td>\n",
       "      <td>True</td>\n",
       "      <td>0.319242</td>\n",
       "    </tr>\n",
       "    <tr>\n",
       "      <th>9996</th>\n",
       "      <td>0.0</td>\n",
       "      <td>0.407917</td>\n",
       "      <td>0.638892</td>\n",
       "      <td>-1.209226</td>\n",
       "      <td>0.461732</td>\n",
       "      <td>-2.095898</td>\n",
       "      <td>2</td>\n",
       "      <td>False</td>\n",
       "      <td>-0.721341</td>\n",
       "    </tr>\n",
       "    <tr>\n",
       "      <th>9997</th>\n",
       "      <td>1.0</td>\n",
       "      <td>0.665566</td>\n",
       "      <td>-0.083818</td>\n",
       "      <td>0.095815</td>\n",
       "      <td>-1.603370</td>\n",
       "      <td>-1.744841</td>\n",
       "      <td>3</td>\n",
       "      <td>True</td>\n",
       "      <td>0.281521</td>\n",
       "    </tr>\n",
       "    <tr>\n",
       "      <th>9998</th>\n",
       "      <td>1.0</td>\n",
       "      <td>0.174036</td>\n",
       "      <td>0.434544</td>\n",
       "      <td>-0.112076</td>\n",
       "      <td>0.840101</td>\n",
       "      <td>-1.482758</td>\n",
       "      <td>3</td>\n",
       "      <td>True</td>\n",
       "      <td>1.819886</td>\n",
       "    </tr>\n",
       "    <tr>\n",
       "      <th>9999</th>\n",
       "      <td>0.0</td>\n",
       "      <td>0.057016</td>\n",
       "      <td>1.087998</td>\n",
       "      <td>1.116736</td>\n",
       "      <td>0.137384</td>\n",
       "      <td>-0.412997</td>\n",
       "      <td>3</td>\n",
       "      <td>True</td>\n",
       "      <td>2.969025</td>\n",
       "    </tr>\n",
       "  </tbody>\n",
       "</table>\n",
       "<p>10000 rows × 9 columns</p>\n",
       "</div>"
      ],
      "text/plain": [
       "       Z0        Z1        W0        W1        W2        W3 W4     v0  \\\n",
       "0     1.0  0.359312  0.563026  1.292705  0.743563 -0.961889  3   True   \n",
       "1     0.0  0.767575  0.392300  0.375610  1.196704  0.009766  1   True   \n",
       "2     0.0  0.715279  0.894317 -0.079443  0.251544 -0.126172  1   True   \n",
       "3     1.0  0.935641  1.315188  0.833210 -0.823098 -0.900302  3   True   \n",
       "4     0.0  0.441640  1.000541  0.085222 -0.880522 -1.430324  0  False   \n",
       "...   ...       ...       ...       ...       ...       ... ..    ...   \n",
       "9995  1.0  0.629422 -1.182405 -1.119115 -0.006118 -0.867453  2   True   \n",
       "9996  0.0  0.407917  0.638892 -1.209226  0.461732 -2.095898  2  False   \n",
       "9997  1.0  0.665566 -0.083818  0.095815 -1.603370 -1.744841  3   True   \n",
       "9998  1.0  0.174036  0.434544 -0.112076  0.840101 -1.482758  3   True   \n",
       "9999  0.0  0.057016  1.087998  1.116736  0.137384 -0.412997  3   True   \n",
       "\n",
       "             y  \n",
       "0     2.877986  \n",
       "1     2.376844  \n",
       "2     1.706898  \n",
       "3     2.067776  \n",
       "4    -1.065192  \n",
       "...        ...  \n",
       "9995  0.319242  \n",
       "9996 -0.721341  \n",
       "9997  0.281521  \n",
       "9998  1.819886  \n",
       "9999  2.969025  \n",
       "\n",
       "[10000 rows x 9 columns]"
      ]
     },
     "execution_count": 3,
     "metadata": {},
     "output_type": "execute_result"
    }
   ],
   "source": [
    "data = dowhy.datasets.linear_dataset(beta=1,\n",
    "        num_common_causes=5, \n",
    "        num_instruments = 2,\n",
    "        num_treatments=1,\n",
    "        num_discrete_common_causes=1,\n",
    "        num_samples=10000,\n",
    "        treatment_is_binary=True,\n",
    "        outcome_is_binary=False)\n",
    "df = data[\"df\"]\n",
    "print(df[df.v0==True].shape[0])\n",
    "df"
   ]
  },
  {
   "cell_type": "markdown",
   "id": "94b9fa57",
   "metadata": {},
   "source": [
    "Note that we are using a pandas dataframe to load the data."
   ]
  },
  {
   "cell_type": "markdown",
   "id": "721376c4",
   "metadata": {},
   "source": [
    "## Identifying the causal estimand"
   ]
  },
  {
   "cell_type": "markdown",
   "id": "fe2441fd",
   "metadata": {},
   "source": [
    "We now input a causal graph in the GML graph format."
   ]
  },
  {
   "cell_type": "code",
   "execution_count": 4,
   "id": "2ee2b409",
   "metadata": {
    "execution": {
     "iopub.execute_input": "2022-11-16T14:35:42.144339Z",
     "iopub.status.busy": "2022-11-16T14:35:42.144094Z",
     "iopub.status.idle": "2022-11-16T14:35:42.175425Z",
     "shell.execute_reply": "2022-11-16T14:35:42.174823Z"
    }
   },
   "outputs": [],
   "source": [
    "# With graph\n",
    "model=CausalModel(\n",
    "        data = df,\n",
    "        treatment=data[\"treatment_name\"],\n",
    "        outcome=data[\"outcome_name\"],\n",
    "        graph=data[\"gml_graph\"],\n",
    "        instruments=data[\"instrument_names\"]\n",
    "        )"
   ]
  },
  {
   "cell_type": "code",
   "execution_count": 5,
   "id": "77cb9fed",
   "metadata": {
    "execution": {
     "iopub.execute_input": "2022-11-16T14:35:42.178490Z",
     "iopub.status.busy": "2022-11-16T14:35:42.178201Z",
     "iopub.status.idle": "2022-11-16T14:35:42.254643Z",
     "shell.execute_reply": "2022-11-16T14:35:42.253896Z"
    }
   },
   "outputs": [],
   "source": [
    "model.view_model()"
   ]
  },
  {
   "cell_type": "code",
   "execution_count": 6,
   "id": "0dfca26a",
   "metadata": {
    "execution": {
     "iopub.execute_input": "2022-11-16T14:35:42.258753Z",
     "iopub.status.busy": "2022-11-16T14:35:42.258307Z",
     "iopub.status.idle": "2022-11-16T14:35:42.291068Z",
     "shell.execute_reply": "2022-11-16T14:35:42.290324Z"
    }
   },
   "outputs": [
    {
     "data": {
      "image/png": "[encoded data removed]",
      "text/plain": [
       "<IPython.core.display.Image object>"
      ]
     },
     "metadata": {},
     "output_type": "display_data"
    }
   ],
   "source": [
    "from IPython.display import Image, display\n",
    "display(Image(filename=\"causal_model.png\"))"
   ]
  },
  {
   "cell_type": "markdown",
   "id": "249e2106",
   "metadata": {},
   "source": [
    "We get a causal graph. Now identification and estimation is done."
   ]
  },
  {
   "cell_type": "code",
   "execution_count": 7,
   "id": "68835895",
   "metadata": {
    "execution": {
     "iopub.execute_input": "2022-11-16T14:35:42.295269Z",
     "iopub.status.busy": "2022-11-16T14:35:42.295032Z",
     "iopub.status.idle": "2022-11-16T14:35:42.537777Z",
     "shell.execute_reply": "2022-11-16T14:35:42.537087Z"
    }
   },
   "outputs": [
    {
     "name": "stdout",
     "output_type": "stream",
     "text": [
      "Estimand type: EstimandType.NONPARAMETRIC_ATE\n",
      "\n",
      "### Estimand : 1\n",
      "Estimand name: backdoor\n",
      "Estimand expression:\n",
      "  d                       \n",
      "─────(E[y|W2,W1,W4,W3,W0])\n",
      "d[v₀]                     \n",
      "Estimand assumption 1, Unconfoundedness: If U→{v0} and U→y then P(y|v0,W2,W1,W4,W3,W0,U) = P(y|v0,W2,W1,W4,W3,W0)\n",
      "\n",
      "### Estimand : 2\n",
      "Estimand name: iv\n",
      "Estimand expression:\n",
      " ⎡                              -1⎤\n",
      " ⎢    d        ⎛    d          ⎞  ⎥\n",
      "E⎢─────────(y)⋅⎜─────────([v₀])⎟  ⎥\n",
      " ⎣d[Z₀  Z₁]    ⎝d[Z₀  Z₁]      ⎠  ⎦\n",
      "Estimand assumption 1, As-if-random: If U→→y then ¬(U →→{Z0,Z1})\n",
      "Estimand assumption 2, Exclusion: If we remove {Z0,Z1}→{v0}, then ¬({Z0,Z1}→y)\n",
      "\n",
      "### Estimand : 3\n",
      "Estimand name: frontdoor\n",
      "No such variable(s) found!\n",
      "\n"
     ]
    }
   ],
   "source": [
    "identified_estimand = model.identify_effect(proceed_when_unidentifiable=True)\n",
    "print(identified_estimand)"
   ]
  },
  {
   "cell_type": "markdown",
   "id": "7b43aba3",
   "metadata": {},
   "source": [
    "## Method 1: Propensity Score Stratification\n",
    "\n",
    "We will be using propensity scores to stratify units in the data."
   ]
  },
  {
   "cell_type": "code",
   "execution_count": 8,
   "id": "01028499",
   "metadata": {
    "execution": {
     "iopub.execute_input": "2022-11-16T14:35:42.541340Z",
     "iopub.status.busy": "2022-11-16T14:35:42.540976Z",
     "iopub.status.idle": "2022-11-16T14:35:43.274437Z",
     "shell.execute_reply": "2022-11-16T14:35:43.273571Z"
    }
   },
   "outputs": [
    {
     "name": "stdout",
     "output_type": "stream",
     "text": [
      "*** Causal Estimate ***\n",
      "\n",
      "## Identified estimand\n",
      "Estimand type: EstimandType.NONPARAMETRIC_ATE\n",
      "\n",
      "### Estimand : 1\n",
      "Estimand name: backdoor\n",
      "Estimand expression:\n",
      "  d                       \n",
      "─────(E[y|W2,W1,W4,W3,W0])\n",
      "d[v₀]                     \n",
      "Estimand assumption 1, Unconfoundedness: If U→{v0} and U→y then P(y|v0,W2,W1,W4,W3,W0,U) = P(y|v0,W2,W1,W4,W3,W0)\n",
      "\n",
      "## Realized estimand\n",
      "b: y~v0+W2+W1+W4+W3+W0\n",
      "Target units: att\n",
      "\n",
      "## Estimate\n",
      "Mean value: 0.984497079548396\n",
      "\n",
      "Causal Estimate is 0.984497079548396\n"
     ]
    }
   ],
   "source": [
    "causal_estimate_strat = model.estimate_effect(identified_estimand,\n",
    "                                              method_name=\"backdoor.propensity_score_stratification\",\n",
    "                                              target_units=\"att\")\n",
    "print(causal_estimate_strat)\n",
    "print(\"Causal Estimate is \" + str(causal_estimate_strat.value))"
   ]
  },
  {
   "cell_type": "markdown",
   "id": "9f83e40f",
   "metadata": {},
   "source": [
    "### Textual Interpreter\n",
    "\n",
    "The textual Interpreter describes (in words) the effect of unit change in the treatment variable on the outcome variable."
   ]
  },
  {
   "cell_type": "code",
   "execution_count": 9,
   "id": "718e8747",
   "metadata": {
    "execution": {
     "iopub.execute_input": "2022-11-16T14:35:43.277963Z",
     "iopub.status.busy": "2022-11-16T14:35:43.277720Z",
     "iopub.status.idle": "2022-11-16T14:35:43.309740Z",
     "shell.execute_reply": "2022-11-16T14:35:43.308969Z"
    }
   },
   "outputs": [
    {
     "name": "stdout",
     "output_type": "stream",
     "text": [
      "Increasing the treatment variable(s) [v0] from 0 to 1 causes an increase of 0.984497079548396 in the expected value of the outcome [y], over the data distribution/population represented by the dataset.\n"
     ]
    }
   ],
   "source": [
    "# Textual Interpreter\n",
    "interpretation = causal_estimate_strat.interpret(method_name=\"textual_effect_interpreter\")"
   ]
  },
  {
   "cell_type": "markdown",
   "id": "29718ff8",
   "metadata": {},
   "source": [
    "### Visual Interpreter\n",
    "\n",
    "The visual interpreter plots the change in the standardized mean difference (SMD) before and after Propensity Score based adjustment of the dataset. The formula for SMD is given below.\n",
    "\n",
    "\n",
    "$SMD = \\frac{\\bar X_{1} - \\bar X_{2}}{\\sqrt{(S_{1}^{2} + S_{2}^{2})/2}}$\n",
    "\n",
    "Here, $\\bar X_{1}$ and $\\bar X_{2}$ are the sample mean for the treated and control groups.\n"
   ]
  },
  {
   "cell_type": "code",
   "execution_count": 10,
   "id": "d2d8e8eb",
   "metadata": {
    "execution": {
     "iopub.execute_input": "2022-11-16T14:35:43.313210Z",
     "iopub.status.busy": "2022-11-16T14:35:43.312816Z",
     "iopub.status.idle": "2022-11-16T14:35:44.330694Z",
     "shell.execute_reply": "2022-11-16T14:35:44.329906Z"
    }
   },
   "outputs": [
    {
     "data": {
      "image/png": "[encoded data removed]",
      "text/plain": [
       "<Figure size 640x480 with 1 Axes>"
      ]
     },
     "metadata": {},
     "output_type": "display_data"
    }
   ],
   "source": [
    "# Visual Interpreter\n",
    "interpretation = causal_estimate_strat.interpret(method_name=\"propensity_balance_interpreter\")"
   ]
  },
  {
   "cell_type": "markdown",
   "id": "d6200ee6",
   "metadata": {},
   "source": [
    "This plot shows how the SMD decreases from the unadjusted to the stratified units. "
   ]
  },
  {
   "cell_type": "markdown",
   "id": "7509dd9f",
   "metadata": {},
   "source": [
    "## Method 2: Propensity Score Matching\n",
    "\n",
    "We will be using propensity scores to match units in the data."
   ]
  },
  {
   "cell_type": "code",
   "execution_count": 11,
   "id": "908f2f78",
   "metadata": {
    "execution": {
     "iopub.execute_input": "2022-11-16T14:35:44.334334Z",
     "iopub.status.busy": "2022-11-16T14:35:44.333945Z",
     "iopub.status.idle": "2022-11-16T14:35:48.747734Z",
     "shell.execute_reply": "2022-11-16T14:35:48.747053Z"
    }
   },
   "outputs": [
    {
     "name": "stdout",
     "output_type": "stream",
     "text": [
      "*** Causal Estimate ***\n",
      "\n",
      "## Identified estimand\n",
      "Estimand type: EstimandType.NONPARAMETRIC_ATE\n",
      "\n",
      "### Estimand : 1\n",
      "Estimand name: backdoor\n",
      "Estimand expression:\n",
      "  d                       \n",
      "─────(E[y|W2,W1,W4,W3,W0])\n",
      "d[v₀]                     \n",
      "Estimand assumption 1, Unconfoundedness: If U→{v0} and U→y then P(y|v0,W2,W1,W4,W3,W0,U) = P(y|v0,W2,W1,W4,W3,W0)\n",
      "\n",
      "## Realized estimand\n",
      "b: y~v0+W2+W1+W4+W3+W0\n",
      "Target units: atc\n",
      "\n",
      "## Estimate\n",
      "Mean value: 1.0430621222156764\n",
      "\n",
      "Causal Estimate is 1.0430621222156764\n"
     ]
    }
   ],
   "source": [
    "causal_estimate_match = model.estimate_effect(identified_estimand,\n",
    "                                              method_name=\"backdoor.propensity_score_matching\",\n",
    "                                              target_units=\"atc\")\n",
    "print(causal_estimate_match)\n",
    "print(\"Causal Estimate is \" + str(causal_estimate_match.value))"
   ]
  },
  {
   "cell_type": "code",
   "execution_count": 12,
   "id": "b0a8e7db",
   "metadata": {
    "execution": {
     "iopub.execute_input": "2022-11-16T14:35:48.751018Z",
     "iopub.status.busy": "2022-11-16T14:35:48.750557Z",
     "iopub.status.idle": "2022-11-16T14:35:48.781983Z",
     "shell.execute_reply": "2022-11-16T14:35:48.781181Z"
    }
   },
   "outputs": [
    {
     "name": "stdout",
     "output_type": "stream",
     "text": [
      "Increasing the treatment variable(s) [v0] from 0 to 1 causes an increase of 1.0430621222156764 in the expected value of the outcome [y], over the data distribution/population represented by the dataset.\n"
     ]
    }
   ],
   "source": [
    "# Textual Interpreter\n",
    "interpretation = causal_estimate_match.interpret(method_name=\"textual_effect_interpreter\")"
   ]
  },
  {
   "cell_type": "markdown",
   "id": "d0e651b4",
   "metadata": {},
   "source": [
    "Cannot use propensity balance interpretor here since the interpreter method only supports propensity score stratification estimator."
   ]
  },
  {
   "cell_type": "markdown",
   "id": "f985a9c9",
   "metadata": {},
   "source": [
    "## Method 3: Weighting\n",
    "\n",
    "We will be using (inverse) propensity scores to assign weights to units in the data. DoWhy supports a few different weighting schemes:\n",
    "1. Vanilla Inverse Propensity Score weighting (IPS) (weighting_scheme=\"ips_weight\")\n",
    "2. Self-normalized IPS weighting (also known as the Hajek estimator) (weighting_scheme=\"ips_normalized_weight\")\n",
    "3. Stabilized IPS weighting (weighting_scheme = \"ips_stabilized_weight\")"
   ]
  },
  {
   "cell_type": "code",
   "execution_count": 13,
   "id": "3e12b84d",
   "metadata": {
    "execution": {
     "iopub.execute_input": "2022-11-16T14:35:48.785636Z",
     "iopub.status.busy": "2022-11-16T14:35:48.785127Z",
     "iopub.status.idle": "2022-11-16T14:35:48.852506Z",
     "shell.execute_reply": "2022-11-16T14:35:48.851806Z"
    }
   },
   "outputs": [
    {
     "name": "stdout",
     "output_type": "stream",
     "text": [
      "*** Causal Estimate ***\n",
      "\n",
      "## Identified estimand\n",
      "Estimand type: EstimandType.NONPARAMETRIC_ATE\n",
      "\n",
      "### Estimand : 1\n",
      "Estimand name: backdoor\n",
      "Estimand expression:\n",
      "  d                       \n",
      "─────(E[y|W2,W1,W4,W3,W0])\n",
      "d[v₀]                     \n",
      "Estimand assumption 1, Unconfoundedness: If U→{v0} and U→y then P(y|v0,W2,W1,W4,W3,W0,U) = P(y|v0,W2,W1,W4,W3,W0)\n",
      "\n",
      "## Realized estimand\n",
      "b: y~v0+W2+W1+W4+W3+W0\n",
      "Target units: ate\n",
      "\n",
      "## Estimate\n",
      "Mean value: 1.0330504122587096\n",
      "\n",
      "Causal Estimate is 1.0330504122587096\n"
     ]
    }
   ],
   "source": [
    "causal_estimate_ipw = model.estimate_effect(identified_estimand,\n",
    "                                            method_name=\"backdoor.propensity_score_weighting\",\n",
    "                                            target_units = \"ate\",\n",
    "                                            method_params={\"weighting_scheme\":\"ips_weight\"})\n",
    "print(causal_estimate_ipw)\n",
    "print(\"Causal Estimate is \" + str(causal_estimate_ipw.value))"
   ]
  },
  {
   "cell_type": "code",
   "execution_count": 14,
   "id": "b05f9517",
   "metadata": {
    "execution": {
     "iopub.execute_input": "2022-11-16T14:35:48.856350Z",
     "iopub.status.busy": "2022-11-16T14:35:48.855710Z",
     "iopub.status.idle": "2022-11-16T14:35:48.886293Z",
     "shell.execute_reply": "2022-11-16T14:35:48.885635Z"
    }
   },
   "outputs": [
    {
     "name": "stdout",
     "output_type": "stream",
     "text": [
      "Increasing the treatment variable(s) [v0] from 0 to 1 causes an increase of 1.0330504122587096 in the expected value of the outcome [y], over the data distribution/population represented by the dataset.\n"
     ]
    }
   ],
   "source": [
    "# Textual Interpreter\n",
    "interpretation = causal_estimate_ipw.interpret(method_name=\"textual_effect_interpreter\")"
   ]
  },
  {
   "cell_type": "code",
   "execution_count": 15,
   "id": "fa9753f1",
   "metadata": {
    "execution": {
     "iopub.execute_input": "2022-11-16T14:35:48.889551Z",
     "iopub.status.busy": "2022-11-16T14:35:48.888877Z",
     "iopub.status.idle": "2022-11-16T14:35:49.222590Z",
     "shell.execute_reply": "2022-11-16T14:35:49.221807Z"
    }
   },
   "outputs": [
    {
     "data": {
      "image/png": "[encoded data removed]",
      "text/plain": [
       "<Figure size 800x800 with 2 Axes>"
      ]
     },
     "metadata": {},
     "output_type": "display_data"
    }
   ],
   "source": [
    "interpretation = causal_estimate_ipw.interpret(method_name=\"confounder_distribution_interpreter\", fig_size=(8,8), font_size=12, var_name='W4', var_type='discrete')"
   ]
  },
  {
   "cell_type": "code",
   "execution_count": null,
   "id": "20138ebc",
   "metadata": {},
   "outputs": [],
   "source": []
  }
 ],
 "metadata": {
  "kernelspec": {
   "display_name": "Python 3",
   "language": "python",
   "name": "python3"
  },
  "language_info": {
   "codemirror_mode": {
    "name": "ipython",
    "version": 3
   },
   "file_extension": ".py",
   "mimetype": "text/x-python",
   "name": "python",
   "nbconvert_exporter": "python",
   "pygments_lexer": "ipython3",
   "version": "3.8.10"
  },
  "toc": {
   "base_numbering": 1,
   "nav_menu": {},
   "number_sections": false,
   "sideBar": true,
   "skip_h1_title": true,
   "title_cell": "Table of Contents",
   "title_sidebar": "Contents",
   "toc_cell": false,
   "toc_position": {},
   "toc_section_display": true,
   "toc_window_display": false
  }
 },
 "nbformat": 4,
 "nbformat_minor": 5
}
