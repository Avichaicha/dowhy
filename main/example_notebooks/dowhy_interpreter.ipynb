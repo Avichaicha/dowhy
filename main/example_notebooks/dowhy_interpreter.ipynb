{
 "cells": [
  {
   "cell_type": "markdown",
   "id": "4983cb01",
   "metadata": {},
   "source": [
    "# DoWhy: Interpreters for Causal Estimators\n",
    "\n",
    "This is a quick introduction to the use of interpreters in the DoWhy causal inference library.\n",
    "We will load in a sample dataset, use different methods for estimating the causal effect of a (pre-specified)treatment variable on a (pre-specified) outcome variable and demonstrate how to interpret the obtained results.\n",
    "\n",
    "First, let us add the required path for Python to find the DoWhy code and load all required packages"
   ]
  },
  {
   "cell_type": "code",
   "execution_count": 1,
   "id": "1135f478",
   "metadata": {
    "execution": {
     "iopub.execute_input": "2022-08-19T22:32:48.754810Z",
     "iopub.status.busy": "2022-08-19T22:32:48.754490Z",
     "iopub.status.idle": "2022-08-19T22:32:48.772014Z",
     "shell.execute_reply": "2022-08-19T22:32:48.771395Z"
    }
   },
   "outputs": [],
   "source": [
    "%load_ext autoreload\n",
    "%autoreload 2"
   ]
  },
  {
   "cell_type": "code",
   "execution_count": 2,
   "id": "3eb9ed8c",
   "metadata": {
    "execution": {
     "iopub.execute_input": "2022-08-19T22:32:48.775439Z",
     "iopub.status.busy": "2022-08-19T22:32:48.775016Z",
     "iopub.status.idle": "2022-08-19T22:32:49.824816Z",
     "shell.execute_reply": "2022-08-19T22:32:49.824025Z"
    }
   },
   "outputs": [],
   "source": [
    "import numpy as np\n",
    "import pandas as pd\n",
    "import logging\n",
    "\n",
    "import dowhy\n",
    "from dowhy import CausalModel\n",
    "import dowhy.datasets "
   ]
  },
  {
   "cell_type": "markdown",
   "id": "d38e7707",
   "metadata": {},
   "source": [
    "Now, let us load a dataset. For simplicity, we simulate a dataset with linear relationships between common causes and treatment, and common causes and outcome.\n",
    "\n",
    "Beta is the true causal effect."
   ]
  },
  {
   "cell_type": "code",
   "execution_count": 3,
   "id": "efc4b5f6",
   "metadata": {
    "execution": {
     "iopub.execute_input": "2022-08-19T22:32:49.829462Z",
     "iopub.status.busy": "2022-08-19T22:32:49.828798Z",
     "iopub.status.idle": "2022-08-19T22:32:50.131815Z",
     "shell.execute_reply": "2022-08-19T22:32:50.131219Z"
    }
   },
   "outputs": [
    {
     "name": "stdout",
     "output_type": "stream",
     "text": [
      "7678\n"
     ]
    },
    {
     "data": {
      "text/html": [
       "<div>\n",
       "<style scoped>\n",
       "    .dataframe tbody tr th:only-of-type {\n",
       "        vertical-align: middle;\n",
       "    }\n",
       "\n",
       "    .dataframe tbody tr th {\n",
       "        vertical-align: top;\n",
       "    }\n",
       "\n",
       "    .dataframe thead th {\n",
       "        text-align: right;\n",
       "    }\n",
       "</style>\n",
       "<table border=\"1\" class=\"dataframe\">\n",
       "  <thead>\n",
       "    <tr style=\"text-align: right;\">\n",
       "      <th></th>\n",
       "      <th>Z0</th>\n",
       "      <th>Z1</th>\n",
       "      <th>W0</th>\n",
       "      <th>W1</th>\n",
       "      <th>W2</th>\n",
       "      <th>W3</th>\n",
       "      <th>W4</th>\n",
       "      <th>v0</th>\n",
       "      <th>y</th>\n",
       "    </tr>\n",
       "  </thead>\n",
       "  <tbody>\n",
       "    <tr>\n",
       "      <th>0</th>\n",
       "      <td>0.0</td>\n",
       "      <td>0.070545</td>\n",
       "      <td>0.201525</td>\n",
       "      <td>-0.523391</td>\n",
       "      <td>0.693143</td>\n",
       "      <td>1.866393</td>\n",
       "      <td>3</td>\n",
       "      <td>True</td>\n",
       "      <td>5.085460</td>\n",
       "    </tr>\n",
       "    <tr>\n",
       "      <th>1</th>\n",
       "      <td>0.0</td>\n",
       "      <td>0.226869</td>\n",
       "      <td>-1.707096</td>\n",
       "      <td>-1.055439</td>\n",
       "      <td>0.686363</td>\n",
       "      <td>0.728870</td>\n",
       "      <td>1</td>\n",
       "      <td>True</td>\n",
       "      <td>1.826462</td>\n",
       "    </tr>\n",
       "    <tr>\n",
       "      <th>2</th>\n",
       "      <td>0.0</td>\n",
       "      <td>0.943828</td>\n",
       "      <td>-0.176704</td>\n",
       "      <td>-1.299463</td>\n",
       "      <td>-0.124261</td>\n",
       "      <td>-0.489340</td>\n",
       "      <td>3</td>\n",
       "      <td>True</td>\n",
       "      <td>2.820112</td>\n",
       "    </tr>\n",
       "    <tr>\n",
       "      <th>3</th>\n",
       "      <td>1.0</td>\n",
       "      <td>0.736090</td>\n",
       "      <td>-0.243314</td>\n",
       "      <td>-0.485151</td>\n",
       "      <td>-0.743452</td>\n",
       "      <td>2.101707</td>\n",
       "      <td>2</td>\n",
       "      <td>True</td>\n",
       "      <td>3.805235</td>\n",
       "    </tr>\n",
       "    <tr>\n",
       "      <th>4</th>\n",
       "      <td>1.0</td>\n",
       "      <td>0.868413</td>\n",
       "      <td>0.350940</td>\n",
       "      <td>0.943785</td>\n",
       "      <td>-0.290945</td>\n",
       "      <td>0.699113</td>\n",
       "      <td>0</td>\n",
       "      <td>False</td>\n",
       "      <td>0.733687</td>\n",
       "    </tr>\n",
       "    <tr>\n",
       "      <th>...</th>\n",
       "      <td>...</td>\n",
       "      <td>...</td>\n",
       "      <td>...</td>\n",
       "      <td>...</td>\n",
       "      <td>...</td>\n",
       "      <td>...</td>\n",
       "      <td>...</td>\n",
       "      <td>...</td>\n",
       "      <td>...</td>\n",
       "    </tr>\n",
       "    <tr>\n",
       "      <th>9995</th>\n",
       "      <td>0.0</td>\n",
       "      <td>0.153856</td>\n",
       "      <td>-2.291416</td>\n",
       "      <td>-0.963111</td>\n",
       "      <td>0.934330</td>\n",
       "      <td>2.957179</td>\n",
       "      <td>3</td>\n",
       "      <td>True</td>\n",
       "      <td>5.055992</td>\n",
       "    </tr>\n",
       "    <tr>\n",
       "      <th>9996</th>\n",
       "      <td>1.0</td>\n",
       "      <td>0.481636</td>\n",
       "      <td>0.319221</td>\n",
       "      <td>-0.305883</td>\n",
       "      <td>0.070996</td>\n",
       "      <td>-2.100524</td>\n",
       "      <td>1</td>\n",
       "      <td>True</td>\n",
       "      <td>0.374720</td>\n",
       "    </tr>\n",
       "    <tr>\n",
       "      <th>9997</th>\n",
       "      <td>0.0</td>\n",
       "      <td>0.382156</td>\n",
       "      <td>-2.323132</td>\n",
       "      <td>0.184553</td>\n",
       "      <td>4.169062</td>\n",
       "      <td>-0.531034</td>\n",
       "      <td>1</td>\n",
       "      <td>False</td>\n",
       "      <td>1.094036</td>\n",
       "    </tr>\n",
       "    <tr>\n",
       "      <th>9998</th>\n",
       "      <td>0.0</td>\n",
       "      <td>0.603813</td>\n",
       "      <td>-1.366275</td>\n",
       "      <td>0.104347</td>\n",
       "      <td>0.955684</td>\n",
       "      <td>-0.194076</td>\n",
       "      <td>3</td>\n",
       "      <td>False</td>\n",
       "      <td>2.309619</td>\n",
       "    </tr>\n",
       "    <tr>\n",
       "      <th>9999</th>\n",
       "      <td>1.0</td>\n",
       "      <td>0.040962</td>\n",
       "      <td>-2.873872</td>\n",
       "      <td>-0.479286</td>\n",
       "      <td>0.601228</td>\n",
       "      <td>-1.226544</td>\n",
       "      <td>2</td>\n",
       "      <td>False</td>\n",
       "      <td>-0.033202</td>\n",
       "    </tr>\n",
       "  </tbody>\n",
       "</table>\n",
       "<p>10000 rows × 9 columns</p>\n",
       "</div>"
      ],
      "text/plain": [
       "       Z0        Z1        W0        W1        W2        W3 W4     v0  \\\n",
       "0     0.0  0.070545  0.201525 -0.523391  0.693143  1.866393  3   True   \n",
       "1     0.0  0.226869 -1.707096 -1.055439  0.686363  0.728870  1   True   \n",
       "2     0.0  0.943828 -0.176704 -1.299463 -0.124261 -0.489340  3   True   \n",
       "3     1.0  0.736090 -0.243314 -0.485151 -0.743452  2.101707  2   True   \n",
       "4     1.0  0.868413  0.350940  0.943785 -0.290945  0.699113  0  False   \n",
       "...   ...       ...       ...       ...       ...       ... ..    ...   \n",
       "9995  0.0  0.153856 -2.291416 -0.963111  0.934330  2.957179  3   True   \n",
       "9996  1.0  0.481636  0.319221 -0.305883  0.070996 -2.100524  1   True   \n",
       "9997  0.0  0.382156 -2.323132  0.184553  4.169062 -0.531034  1  False   \n",
       "9998  0.0  0.603813 -1.366275  0.104347  0.955684 -0.194076  3  False   \n",
       "9999  1.0  0.040962 -2.873872 -0.479286  0.601228 -1.226544  2  False   \n",
       "\n",
       "             y  \n",
       "0     5.085460  \n",
       "1     1.826462  \n",
       "2     2.820112  \n",
       "3     3.805235  \n",
       "4     0.733687  \n",
       "...        ...  \n",
       "9995  5.055992  \n",
       "9996  0.374720  \n",
       "9997  1.094036  \n",
       "9998  2.309619  \n",
       "9999 -0.033202  \n",
       "\n",
       "[10000 rows x 9 columns]"
      ]
     },
     "execution_count": 3,
     "metadata": {},
     "output_type": "execute_result"
    }
   ],
   "source": [
    "data = dowhy.datasets.linear_dataset(beta=1,\n",
    "        num_common_causes=5, \n",
    "        num_instruments = 2,\n",
    "        num_treatments=1,\n",
    "        num_discrete_common_causes=1,\n",
    "        num_samples=10000,\n",
    "        treatment_is_binary=True,\n",
    "        outcome_is_binary=False)\n",
    "df = data[\"df\"]\n",
    "print(df[df.v0==True].shape[0])\n",
    "df"
   ]
  },
  {
   "cell_type": "markdown",
   "id": "fd34130c",
   "metadata": {},
   "source": [
    "Note that we are using a pandas dataframe to load the data."
   ]
  },
  {
   "cell_type": "markdown",
   "id": "da81b712",
   "metadata": {},
   "source": [
    "## Identifying the causal estimand"
   ]
  },
  {
   "cell_type": "markdown",
   "id": "56adca75",
   "metadata": {},
   "source": [
    "We now input a causal graph in the GML graph format."
   ]
  },
  {
   "cell_type": "code",
   "execution_count": 4,
   "id": "dff1c785",
   "metadata": {
    "execution": {
     "iopub.execute_input": "2022-08-19T22:32:50.135564Z",
     "iopub.status.busy": "2022-08-19T22:32:50.135163Z",
     "iopub.status.idle": "2022-08-19T22:32:50.161529Z",
     "shell.execute_reply": "2022-08-19T22:32:50.160948Z"
    }
   },
   "outputs": [],
   "source": [
    "# With graph\n",
    "model=CausalModel(\n",
    "        data = df,\n",
    "        treatment=data[\"treatment_name\"],\n",
    "        outcome=data[\"outcome_name\"],\n",
    "        graph=data[\"gml_graph\"],\n",
    "        instruments=data[\"instrument_names\"]\n",
    "        )"
   ]
  },
  {
   "cell_type": "code",
   "execution_count": 5,
   "id": "8168e843",
   "metadata": {
    "execution": {
     "iopub.execute_input": "2022-08-19T22:32:50.165958Z",
     "iopub.status.busy": "2022-08-19T22:32:50.164904Z",
     "iopub.status.idle": "2022-08-19T22:32:50.220637Z",
     "shell.execute_reply": "2022-08-19T22:32:50.219879Z"
    }
   },
   "outputs": [],
   "source": [
    "model.view_model()"
   ]
  },
  {
   "cell_type": "code",
   "execution_count": 6,
   "id": "6d52888f",
   "metadata": {
    "execution": {
     "iopub.execute_input": "2022-08-19T22:32:50.224911Z",
     "iopub.status.busy": "2022-08-19T22:32:50.224209Z",
     "iopub.status.idle": "2022-08-19T22:32:50.252538Z",
     "shell.execute_reply": "2022-08-19T22:32:50.251894Z"
    }
   },
   "outputs": [
    {
     "data": {
      "image/png": "[encoded data removed]",
      "text/plain": [
       "<IPython.core.display.Image object>"
      ]
     },
     "metadata": {},
     "output_type": "display_data"
    }
   ],
   "source": [
    "from IPython.display import Image, display\n",
    "display(Image(filename=\"causal_model.png\"))"
   ]
  },
  {
   "cell_type": "markdown",
   "id": "985e6d6f",
   "metadata": {},
   "source": [
    "We get a causal graph. Now identification and estimation is done."
   ]
  },
  {
   "cell_type": "code",
   "execution_count": 7,
   "id": "f5f0fe16",
   "metadata": {
    "execution": {
     "iopub.execute_input": "2022-08-19T22:32:50.256102Z",
     "iopub.status.busy": "2022-08-19T22:32:50.255667Z",
     "iopub.status.idle": "2022-08-19T22:32:50.483139Z",
     "shell.execute_reply": "2022-08-19T22:32:50.482272Z"
    }
   },
   "outputs": [
    {
     "name": "stdout",
     "output_type": "stream",
     "text": [
      "Estimand type: nonparametric-ate\n",
      "\n",
      "### Estimand : 1\n",
      "Estimand name: backdoor\n",
      "Estimand expression:\n",
      "  d                       \n",
      "─────(E[y|W3,W2,W0,W1,W4])\n",
      "d[v₀]                     \n",
      "Estimand assumption 1, Unconfoundedness: If U→{v0} and U→y then P(y|v0,W3,W2,W0,W1,W4,U) = P(y|v0,W3,W2,W0,W1,W4)\n",
      "\n",
      "### Estimand : 2\n",
      "Estimand name: iv\n",
      "Estimand expression:\n",
      " ⎡                              -1⎤\n",
      " ⎢    d        ⎛    d          ⎞  ⎥\n",
      "E⎢─────────(y)⋅⎜─────────([v₀])⎟  ⎥\n",
      " ⎣d[Z₀  Z₁]    ⎝d[Z₀  Z₁]      ⎠  ⎦\n",
      "Estimand assumption 1, As-if-random: If U→→y then ¬(U →→{Z0,Z1})\n",
      "Estimand assumption 2, Exclusion: If we remove {Z0,Z1}→{v0}, then ¬({Z0,Z1}→y)\n",
      "\n",
      "### Estimand : 3\n",
      "Estimand name: frontdoor\n",
      "No such variable(s) found!\n",
      "\n"
     ]
    }
   ],
   "source": [
    "identified_estimand = model.identify_effect(proceed_when_unidentifiable=True)\n",
    "print(identified_estimand)"
   ]
  },
  {
   "cell_type": "markdown",
   "id": "e0d08b9c",
   "metadata": {},
   "source": [
    "## Method 1: Propensity Score Stratification\n",
    "\n",
    "We will be using propensity scores to stratify units in the data."
   ]
  },
  {
   "cell_type": "code",
   "execution_count": 8,
   "id": "d703fa84",
   "metadata": {
    "execution": {
     "iopub.execute_input": "2022-08-19T22:32:50.486724Z",
     "iopub.status.busy": "2022-08-19T22:32:50.486235Z",
     "iopub.status.idle": "2022-08-19T22:32:51.244880Z",
     "shell.execute_reply": "2022-08-19T22:32:51.244002Z"
    }
   },
   "outputs": [
    {
     "name": "stdout",
     "output_type": "stream",
     "text": [
      "propensity_score_stratification\n"
     ]
    },
    {
     "name": "stdout",
     "output_type": "stream",
     "text": [
      "*** Causal Estimate ***\n",
      "\n",
      "## Identified estimand\n",
      "Estimand type: nonparametric-ate\n",
      "\n",
      "### Estimand : 1\n",
      "Estimand name: backdoor\n",
      "Estimand expression:\n",
      "  d                       \n",
      "─────(E[y|W3,W2,W0,W1,W4])\n",
      "d[v₀]                     \n",
      "Estimand assumption 1, Unconfoundedness: If U→{v0} and U→y then P(y|v0,W3,W2,W0,W1,W4,U) = P(y|v0,W3,W2,W0,W1,W4)\n",
      "\n",
      "## Realized estimand\n",
      "b: y~v0+W3+W2+W0+W1+W4\n",
      "Target units: att\n",
      "\n",
      "## Estimate\n",
      "Mean value: 0.9924762521355351\n",
      "\n",
      "Causal Estimate is 0.9924762521355351\n"
     ]
    }
   ],
   "source": [
    "causal_estimate_strat = model.estimate_effect(identified_estimand,\n",
    "                                              method_name=\"backdoor.propensity_score_stratification\",\n",
    "                                              target_units=\"att\")\n",
    "print(causal_estimate_strat)\n",
    "print(\"Causal Estimate is \" + str(causal_estimate_strat.value))"
   ]
  },
  {
   "cell_type": "markdown",
   "id": "78ef7b11",
   "metadata": {},
   "source": [
    "### Textual Interpreter\n",
    "\n",
    "The textual Interpreter describes (in words) the effect of unit change in the treatment variable on the outcome variable."
   ]
  },
  {
   "cell_type": "code",
   "execution_count": 9,
   "id": "51380d39",
   "metadata": {
    "execution": {
     "iopub.execute_input": "2022-08-19T22:32:51.248698Z",
     "iopub.status.busy": "2022-08-19T22:32:51.248230Z",
     "iopub.status.idle": "2022-08-19T22:32:51.273927Z",
     "shell.execute_reply": "2022-08-19T22:32:51.273232Z"
    }
   },
   "outputs": [
    {
     "name": "stdout",
     "output_type": "stream",
     "text": [
      "Increasing the treatment variable(s) [v0] from 0 to 1 causes an increase of 0.9924762521355351 in the expected value of the outcome [y], over the data distribution/population represented by the dataset.\n"
     ]
    }
   ],
   "source": [
    "# Textual Interpreter\n",
    "interpretation = causal_estimate_strat.interpret(method_name=\"textual_effect_interpreter\")"
   ]
  },
  {
   "cell_type": "markdown",
   "id": "17b5fc73",
   "metadata": {},
   "source": [
    "### Visual Interpreter\n",
    "\n",
    "The visual interpreter plots the change in the standardized mean difference (SMD) before and after Propensity Score based adjustment of the dataset. The formula for SMD is given below.\n",
    "\n",
    "\n",
    "$SMD = \\frac{\\bar X_{1} - \\bar X_{2}}{\\sqrt{(S_{1}^{2} + S_{2}^{2})/2}}$\n",
    "\n",
    "Here, $\\bar X_{1}$ and $\\bar X_{2}$ are the sample mean for the treated and control groups.\n"
   ]
  },
  {
   "cell_type": "code",
   "execution_count": 10,
   "id": "498dfe24",
   "metadata": {
    "execution": {
     "iopub.execute_input": "2022-08-19T22:32:51.277209Z",
     "iopub.status.busy": "2022-08-19T22:32:51.276784Z",
     "iopub.status.idle": "2022-08-19T22:32:52.593987Z",
     "shell.execute_reply": "2022-08-19T22:32:52.593241Z"
    }
   },
   "outputs": [
    {
     "data": {
      "image/png": "[encoded data removed]",
      "text/plain": [
       "<Figure size 640x480 with 1 Axes>"
      ]
     },
     "metadata": {},
     "output_type": "display_data"
    }
   ],
   "source": [
    "# Visual Interpreter\n",
    "interpretation = causal_estimate_strat.interpret(method_name=\"propensity_balance_interpreter\")"
   ]
  },
  {
   "cell_type": "markdown",
   "id": "5cf10115",
   "metadata": {},
   "source": [
    "This plot shows how the SMD decreases from the unadjusted to the stratified units. "
   ]
  },
  {
   "cell_type": "markdown",
   "id": "9aa80706",
   "metadata": {},
   "source": [
    "## Method 2: Propensity Score Matching\n",
    "\n",
    "We will be using propensity scores to match units in the data."
   ]
  },
  {
   "cell_type": "code",
   "execution_count": 11,
   "id": "eb236ada",
   "metadata": {
    "execution": {
     "iopub.execute_input": "2022-08-19T22:32:52.598121Z",
     "iopub.status.busy": "2022-08-19T22:32:52.597490Z",
     "iopub.status.idle": "2022-08-19T22:32:57.710220Z",
     "shell.execute_reply": "2022-08-19T22:32:57.709546Z"
    }
   },
   "outputs": [
    {
     "name": "stdout",
     "output_type": "stream",
     "text": [
      "propensity_score_matching\n"
     ]
    },
    {
     "name": "stdout",
     "output_type": "stream",
     "text": [
      "*** Causal Estimate ***\n",
      "\n",
      "## Identified estimand\n",
      "Estimand type: nonparametric-ate\n",
      "\n",
      "### Estimand : 1\n",
      "Estimand name: backdoor\n",
      "Estimand expression:\n",
      "  d                       \n",
      "─────(E[y|W3,W2,W0,W1,W4])\n",
      "d[v₀]                     \n",
      "Estimand assumption 1, Unconfoundedness: If U→{v0} and U→y then P(y|v0,W3,W2,W0,W1,W4,U) = P(y|v0,W3,W2,W0,W1,W4)\n",
      "\n",
      "## Realized estimand\n",
      "b: y~v0+W3+W2+W0+W1+W4\n",
      "Target units: atc\n",
      "\n",
      "## Estimate\n",
      "Mean value: 0.9961787093520205\n",
      "\n",
      "Causal Estimate is 0.9961787093520205\n"
     ]
    }
   ],
   "source": [
    "causal_estimate_match = model.estimate_effect(identified_estimand,\n",
    "                                              method_name=\"backdoor.propensity_score_matching\",\n",
    "                                              target_units=\"atc\")\n",
    "print(causal_estimate_match)\n",
    "print(\"Causal Estimate is \" + str(causal_estimate_match.value))"
   ]
  },
  {
   "cell_type": "code",
   "execution_count": 12,
   "id": "029a47f9",
   "metadata": {
    "execution": {
     "iopub.execute_input": "2022-08-19T22:32:57.713895Z",
     "iopub.status.busy": "2022-08-19T22:32:57.713630Z",
     "iopub.status.idle": "2022-08-19T22:32:57.739871Z",
     "shell.execute_reply": "2022-08-19T22:32:57.739117Z"
    }
   },
   "outputs": [
    {
     "name": "stdout",
     "output_type": "stream",
     "text": [
      "Increasing the treatment variable(s) [v0] from 0 to 1 causes an increase of 0.9961787093520205 in the expected value of the outcome [y], over the data distribution/population represented by the dataset.\n"
     ]
    }
   ],
   "source": [
    "# Textual Interpreter\n",
    "interpretation = causal_estimate_match.interpret(method_name=\"textual_effect_interpreter\")"
   ]
  },
  {
   "cell_type": "markdown",
   "id": "6afbdfde",
   "metadata": {},
   "source": [
    "Cannot use propensity balance interpretor here since the interpreter method only supports propensity score stratification estimator."
   ]
  },
  {
   "cell_type": "markdown",
   "id": "f2245507",
   "metadata": {},
   "source": [
    "## Method 3: Weighting\n",
    "\n",
    "We will be using (inverse) propensity scores to assign weights to units in the data. DoWhy supports a few different weighting schemes:\n",
    "1. Vanilla Inverse Propensity Score weighting (IPS) (weighting_scheme=\"ips_weight\")\n",
    "2. Self-normalized IPS weighting (also known as the Hajek estimator) (weighting_scheme=\"ips_normalized_weight\")\n",
    "3. Stabilized IPS weighting (weighting_scheme = \"ips_stabilized_weight\")"
   ]
  },
  {
   "cell_type": "code",
   "execution_count": 13,
   "id": "c3e7f31d",
   "metadata": {
    "execution": {
     "iopub.execute_input": "2022-08-19T22:32:57.743264Z",
     "iopub.status.busy": "2022-08-19T22:32:57.742702Z",
     "iopub.status.idle": "2022-08-19T22:32:57.807732Z",
     "shell.execute_reply": "2022-08-19T22:32:57.806728Z"
    }
   },
   "outputs": [
    {
     "name": "stdout",
     "output_type": "stream",
     "text": [
      "propensity_score_weighting\n",
      "*** Causal Estimate ***\n",
      "\n",
      "## Identified estimand\n",
      "Estimand type: nonparametric-ate\n",
      "\n",
      "### Estimand : 1\n",
      "Estimand name: backdoor\n",
      "Estimand expression:\n",
      "  d                       \n",
      "─────(E[y|W3,W2,W0,W1,W4])\n",
      "d[v₀]                     \n",
      "Estimand assumption 1, Unconfoundedness: If U→{v0} and U→y then P(y|v0,W3,W2,W0,W1,W4,U) = P(y|v0,W3,W2,W0,W1,W4)\n",
      "\n",
      "## Realized estimand\n",
      "b: y~v0+W3+W2+W0+W1+W4\n",
      "Target units: ate\n",
      "\n",
      "## Estimate\n",
      "Mean value: 1.098693374148099\n",
      "\n",
      "Causal Estimate is 1.098693374148099\n"
     ]
    }
   ],
   "source": [
    "causal_estimate_ipw = model.estimate_effect(identified_estimand,\n",
    "                                            method_name=\"backdoor.propensity_score_weighting\",\n",
    "                                            target_units = \"ate\",\n",
    "                                            method_params={\"weighting_scheme\":\"ips_weight\"})\n",
    "print(causal_estimate_ipw)\n",
    "print(\"Causal Estimate is \" + str(causal_estimate_ipw.value))"
   ]
  },
  {
   "cell_type": "code",
   "execution_count": 14,
   "id": "4fa96065",
   "metadata": {
    "execution": {
     "iopub.execute_input": "2022-08-19T22:32:57.810644Z",
     "iopub.status.busy": "2022-08-19T22:32:57.810401Z",
     "iopub.status.idle": "2022-08-19T22:32:57.836206Z",
     "shell.execute_reply": "2022-08-19T22:32:57.835656Z"
    }
   },
   "outputs": [
    {
     "name": "stdout",
     "output_type": "stream",
     "text": [
      "Increasing the treatment variable(s) [v0] from 0 to 1 causes an increase of 1.098693374148099 in the expected value of the outcome [y], over the data distribution/population represented by the dataset.\n"
     ]
    }
   ],
   "source": [
    "# Textual Interpreter\n",
    "interpretation = causal_estimate_ipw.interpret(method_name=\"textual_effect_interpreter\")"
   ]
  },
  {
   "cell_type": "code",
   "execution_count": 15,
   "id": "fd95608e",
   "metadata": {
    "execution": {
     "iopub.execute_input": "2022-08-19T22:32:57.839528Z",
     "iopub.status.busy": "2022-08-19T22:32:57.838826Z",
     "iopub.status.idle": "2022-08-19T22:32:58.198112Z",
     "shell.execute_reply": "2022-08-19T22:32:58.197393Z"
    }
   },
   "outputs": [
    {
     "data": {
      "image/png": "[encoded data removed]",
      "text/plain": [
       "<Figure size 800x800 with 2 Axes>"
      ]
     },
     "metadata": {},
     "output_type": "display_data"
    }
   ],
   "source": [
    "interpretation = causal_estimate_ipw.interpret(method_name=\"confounder_distribution_interpreter\", fig_size=(8,8), font_size=12, var_name='W4', var_type='discrete')"
   ]
  },
  {
   "cell_type": "code",
   "execution_count": null,
   "id": "0191e9f3",
   "metadata": {},
   "outputs": [],
   "source": []
  }
 ],
 "metadata": {
  "kernelspec": {
   "display_name": "Python 3",
   "language": "python",
   "name": "python3"
  },
  "language_info": {
   "codemirror_mode": {
    "name": "ipython",
    "version": 3
   },
   "file_extension": ".py",
   "mimetype": "text/x-python",
   "name": "python",
   "nbconvert_exporter": "python",
   "pygments_lexer": "ipython3",
   "version": "3.8.10"
  },
  "toc": {
   "base_numbering": 1,
   "nav_menu": {},
   "number_sections": false,
   "sideBar": true,
   "skip_h1_title": true,
   "title_cell": "Table of Contents",
   "title_sidebar": "Contents",
   "toc_cell": false,
   "toc_position": {},
   "toc_section_display": true,
   "toc_window_display": false
  }
 },
 "nbformat": 4,
 "nbformat_minor": 5
}
