{
 "cells": [
  {
   "cell_type": "markdown",
   "id": "8a534f0d",
   "metadata": {},
   "source": [
    "# DoWhy: Interpreters for Causal Estimators\n",
    "\n",
    "This is a quick introduction to the use of interpreters in the DoWhy causal inference library.\n",
    "We will load in a sample dataset, use different methods for estimating the causal effect of a (pre-specified)treatment variable on a (pre-specified) outcome variable and demonstrate how to interpret the obtained results.\n",
    "\n",
    "First, let us add the required path for Python to find the DoWhy code and load all required packages"
   ]
  },
  {
   "cell_type": "code",
   "execution_count": 1,
   "id": "d74ee524",
   "metadata": {
    "execution": {
     "iopub.execute_input": "2022-08-22T07:50:07.496723Z",
     "iopub.status.busy": "2022-08-22T07:50:07.496059Z",
     "iopub.status.idle": "2022-08-22T07:50:07.523227Z",
     "shell.execute_reply": "2022-08-22T07:50:07.522025Z"
    }
   },
   "outputs": [],
   "source": [
    "%load_ext autoreload\n",
    "%autoreload 2"
   ]
  },
  {
   "cell_type": "code",
   "execution_count": 2,
   "id": "1e76a507",
   "metadata": {
    "execution": {
     "iopub.execute_input": "2022-08-22T07:50:07.528818Z",
     "iopub.status.busy": "2022-08-22T07:50:07.528526Z",
     "iopub.status.idle": "2022-08-22T07:50:08.761948Z",
     "shell.execute_reply": "2022-08-22T07:50:08.760886Z"
    }
   },
   "outputs": [],
   "source": [
    "import numpy as np\n",
    "import pandas as pd\n",
    "import logging\n",
    "\n",
    "import dowhy\n",
    "from dowhy import CausalModel\n",
    "import dowhy.datasets "
   ]
  },
  {
   "cell_type": "markdown",
   "id": "3da96895",
   "metadata": {},
   "source": [
    "Now, let us load a dataset. For simplicity, we simulate a dataset with linear relationships between common causes and treatment, and common causes and outcome.\n",
    "\n",
    "Beta is the true causal effect."
   ]
  },
  {
   "cell_type": "code",
   "execution_count": 3,
   "id": "e55cdc2d",
   "metadata": {
    "execution": {
     "iopub.execute_input": "2022-08-22T07:50:08.766230Z",
     "iopub.status.busy": "2022-08-22T07:50:08.765814Z",
     "iopub.status.idle": "2022-08-22T07:50:09.253680Z",
     "shell.execute_reply": "2022-08-22T07:50:09.252880Z"
    }
   },
   "outputs": [
    {
     "name": "stdout",
     "output_type": "stream",
     "text": [
      "9399\n"
     ]
    },
    {
     "data": {
      "text/html": [
       "<div>\n",
       "<style scoped>\n",
       "    .dataframe tbody tr th:only-of-type {\n",
       "        vertical-align: middle;\n",
       "    }\n",
       "\n",
       "    .dataframe tbody tr th {\n",
       "        vertical-align: top;\n",
       "    }\n",
       "\n",
       "    .dataframe thead th {\n",
       "        text-align: right;\n",
       "    }\n",
       "</style>\n",
       "<table border=\"1\" class=\"dataframe\">\n",
       "  <thead>\n",
       "    <tr style=\"text-align: right;\">\n",
       "      <th></th>\n",
       "      <th>Z0</th>\n",
       "      <th>Z1</th>\n",
       "      <th>W0</th>\n",
       "      <th>W1</th>\n",
       "      <th>W2</th>\n",
       "      <th>W3</th>\n",
       "      <th>W4</th>\n",
       "      <th>v0</th>\n",
       "      <th>y</th>\n",
       "    </tr>\n",
       "  </thead>\n",
       "  <tbody>\n",
       "    <tr>\n",
       "      <th>0</th>\n",
       "      <td>1.0</td>\n",
       "      <td>0.409579</td>\n",
       "      <td>-0.428071</td>\n",
       "      <td>-1.297590</td>\n",
       "      <td>1.796494</td>\n",
       "      <td>0.766292</td>\n",
       "      <td>0</td>\n",
       "      <td>True</td>\n",
       "      <td>2.428875</td>\n",
       "    </tr>\n",
       "    <tr>\n",
       "      <th>1</th>\n",
       "      <td>1.0</td>\n",
       "      <td>0.687977</td>\n",
       "      <td>0.065390</td>\n",
       "      <td>-1.204300</td>\n",
       "      <td>-0.094236</td>\n",
       "      <td>0.357138</td>\n",
       "      <td>0</td>\n",
       "      <td>True</td>\n",
       "      <td>0.878811</td>\n",
       "    </tr>\n",
       "    <tr>\n",
       "      <th>2</th>\n",
       "      <td>1.0</td>\n",
       "      <td>0.838040</td>\n",
       "      <td>0.362387</td>\n",
       "      <td>-1.463513</td>\n",
       "      <td>0.920730</td>\n",
       "      <td>-2.191764</td>\n",
       "      <td>3</td>\n",
       "      <td>True</td>\n",
       "      <td>1.682655</td>\n",
       "    </tr>\n",
       "    <tr>\n",
       "      <th>3</th>\n",
       "      <td>1.0</td>\n",
       "      <td>0.259123</td>\n",
       "      <td>0.968421</td>\n",
       "      <td>-1.020163</td>\n",
       "      <td>2.185758</td>\n",
       "      <td>-0.962210</td>\n",
       "      <td>2</td>\n",
       "      <td>True</td>\n",
       "      <td>3.562555</td>\n",
       "    </tr>\n",
       "    <tr>\n",
       "      <th>4</th>\n",
       "      <td>1.0</td>\n",
       "      <td>0.044633</td>\n",
       "      <td>0.986950</td>\n",
       "      <td>-1.136730</td>\n",
       "      <td>1.710988</td>\n",
       "      <td>0.629104</td>\n",
       "      <td>3</td>\n",
       "      <td>True</td>\n",
       "      <td>4.164816</td>\n",
       "    </tr>\n",
       "    <tr>\n",
       "      <th>...</th>\n",
       "      <td>...</td>\n",
       "      <td>...</td>\n",
       "      <td>...</td>\n",
       "      <td>...</td>\n",
       "      <td>...</td>\n",
       "      <td>...</td>\n",
       "      <td>...</td>\n",
       "      <td>...</td>\n",
       "      <td>...</td>\n",
       "    </tr>\n",
       "    <tr>\n",
       "      <th>9995</th>\n",
       "      <td>0.0</td>\n",
       "      <td>0.757626</td>\n",
       "      <td>2.022145</td>\n",
       "      <td>-1.138723</td>\n",
       "      <td>-1.844956</td>\n",
       "      <td>-0.032509</td>\n",
       "      <td>2</td>\n",
       "      <td>True</td>\n",
       "      <td>1.007104</td>\n",
       "    </tr>\n",
       "    <tr>\n",
       "      <th>9996</th>\n",
       "      <td>0.0</td>\n",
       "      <td>0.284301</td>\n",
       "      <td>2.250702</td>\n",
       "      <td>-1.774442</td>\n",
       "      <td>1.736969</td>\n",
       "      <td>0.778061</td>\n",
       "      <td>2</td>\n",
       "      <td>True</td>\n",
       "      <td>4.615183</td>\n",
       "    </tr>\n",
       "    <tr>\n",
       "      <th>9997</th>\n",
       "      <td>1.0</td>\n",
       "      <td>0.381566</td>\n",
       "      <td>0.827888</td>\n",
       "      <td>-0.165809</td>\n",
       "      <td>-0.048011</td>\n",
       "      <td>-1.400538</td>\n",
       "      <td>0</td>\n",
       "      <td>True</td>\n",
       "      <td>0.822040</td>\n",
       "    </tr>\n",
       "    <tr>\n",
       "      <th>9998</th>\n",
       "      <td>0.0</td>\n",
       "      <td>0.930251</td>\n",
       "      <td>2.114967</td>\n",
       "      <td>-2.373317</td>\n",
       "      <td>0.359908</td>\n",
       "      <td>0.167290</td>\n",
       "      <td>2</td>\n",
       "      <td>True</td>\n",
       "      <td>2.895008</td>\n",
       "    </tr>\n",
       "    <tr>\n",
       "      <th>9999</th>\n",
       "      <td>1.0</td>\n",
       "      <td>0.318622</td>\n",
       "      <td>1.248984</td>\n",
       "      <td>-2.713188</td>\n",
       "      <td>2.048299</td>\n",
       "      <td>-0.122450</td>\n",
       "      <td>1</td>\n",
       "      <td>True</td>\n",
       "      <td>3.371331</td>\n",
       "    </tr>\n",
       "  </tbody>\n",
       "</table>\n",
       "<p>10000 rows × 9 columns</p>\n",
       "</div>"
      ],
      "text/plain": [
       "       Z0        Z1        W0        W1        W2        W3 W4    v0         y\n",
       "0     1.0  0.409579 -0.428071 -1.297590  1.796494  0.766292  0  True  2.428875\n",
       "1     1.0  0.687977  0.065390 -1.204300 -0.094236  0.357138  0  True  0.878811\n",
       "2     1.0  0.838040  0.362387 -1.463513  0.920730 -2.191764  3  True  1.682655\n",
       "3     1.0  0.259123  0.968421 -1.020163  2.185758 -0.962210  2  True  3.562555\n",
       "4     1.0  0.044633  0.986950 -1.136730  1.710988  0.629104  3  True  4.164816\n",
       "...   ...       ...       ...       ...       ...       ... ..   ...       ...\n",
       "9995  0.0  0.757626  2.022145 -1.138723 -1.844956 -0.032509  2  True  1.007104\n",
       "9996  0.0  0.284301  2.250702 -1.774442  1.736969  0.778061  2  True  4.615183\n",
       "9997  1.0  0.381566  0.827888 -0.165809 -0.048011 -1.400538  0  True  0.822040\n",
       "9998  0.0  0.930251  2.114967 -2.373317  0.359908  0.167290  2  True  2.895008\n",
       "9999  1.0  0.318622  1.248984 -2.713188  2.048299 -0.122450  1  True  3.371331\n",
       "\n",
       "[10000 rows x 9 columns]"
      ]
     },
     "execution_count": 3,
     "metadata": {},
     "output_type": "execute_result"
    }
   ],
   "source": [
    "data = dowhy.datasets.linear_dataset(beta=1,\n",
    "        num_common_causes=5, \n",
    "        num_instruments = 2,\n",
    "        num_treatments=1,\n",
    "        num_discrete_common_causes=1,\n",
    "        num_samples=10000,\n",
    "        treatment_is_binary=True,\n",
    "        outcome_is_binary=False)\n",
    "df = data[\"df\"]\n",
    "print(df[df.v0==True].shape[0])\n",
    "df"
   ]
  },
  {
   "cell_type": "markdown",
   "id": "7527ca0c",
   "metadata": {},
   "source": [
    "Note that we are using a pandas dataframe to load the data."
   ]
  },
  {
   "cell_type": "markdown",
   "id": "432da6e1",
   "metadata": {},
   "source": [
    "## Identifying the causal estimand"
   ]
  },
  {
   "cell_type": "markdown",
   "id": "978fa6c2",
   "metadata": {},
   "source": [
    "We now input a causal graph in the GML graph format."
   ]
  },
  {
   "cell_type": "code",
   "execution_count": 4,
   "id": "75a317a0",
   "metadata": {
    "execution": {
     "iopub.execute_input": "2022-08-22T07:50:09.257584Z",
     "iopub.status.busy": "2022-08-22T07:50:09.257161Z",
     "iopub.status.idle": "2022-08-22T07:50:09.289830Z",
     "shell.execute_reply": "2022-08-22T07:50:09.289128Z"
    }
   },
   "outputs": [],
   "source": [
    "# With graph\n",
    "model=CausalModel(\n",
    "        data = df,\n",
    "        treatment=data[\"treatment_name\"],\n",
    "        outcome=data[\"outcome_name\"],\n",
    "        graph=data[\"gml_graph\"],\n",
    "        instruments=data[\"instrument_names\"]\n",
    "        )"
   ]
  },
  {
   "cell_type": "code",
   "execution_count": 5,
   "id": "b1f1bfc7",
   "metadata": {
    "execution": {
     "iopub.execute_input": "2022-08-22T07:50:09.295115Z",
     "iopub.status.busy": "2022-08-22T07:50:09.293941Z",
     "iopub.status.idle": "2022-08-22T07:50:09.349373Z",
     "shell.execute_reply": "2022-08-22T07:50:09.348469Z"
    }
   },
   "outputs": [],
   "source": [
    "model.view_model()"
   ]
  },
  {
   "cell_type": "code",
   "execution_count": 6,
   "id": "cc9bf25d",
   "metadata": {
    "execution": {
     "iopub.execute_input": "2022-08-22T07:50:09.353301Z",
     "iopub.status.busy": "2022-08-22T07:50:09.352706Z",
     "iopub.status.idle": "2022-08-22T07:50:09.381203Z",
     "shell.execute_reply": "2022-08-22T07:50:09.380196Z"
    }
   },
   "outputs": [
    {
     "data": {
      "image/png": "[encoded data removed]",
      "text/plain": [
       "<IPython.core.display.Image object>"
      ]
     },
     "metadata": {},
     "output_type": "display_data"
    }
   ],
   "source": [
    "from IPython.display import Image, display\n",
    "display(Image(filename=\"causal_model.png\"))"
   ]
  },
  {
   "cell_type": "markdown",
   "id": "1145b1c7",
   "metadata": {},
   "source": [
    "We get a causal graph. Now identification and estimation is done."
   ]
  },
  {
   "cell_type": "code",
   "execution_count": 7,
   "id": "6a36e2f0",
   "metadata": {
    "execution": {
     "iopub.execute_input": "2022-08-22T07:50:09.384626Z",
     "iopub.status.busy": "2022-08-22T07:50:09.384372Z",
     "iopub.status.idle": "2022-08-22T07:50:09.646850Z",
     "shell.execute_reply": "2022-08-22T07:50:09.645911Z"
    }
   },
   "outputs": [
    {
     "name": "stdout",
     "output_type": "stream",
     "text": [
      "Estimand type: nonparametric-ate\n",
      "\n",
      "### Estimand : 1\n",
      "Estimand name: backdoor\n",
      "Estimand expression:\n",
      "  d                       \n",
      "─────(E[y|W1,W0,W3,W4,W2])\n",
      "d[v₀]                     \n",
      "Estimand assumption 1, Unconfoundedness: If U→{v0} and U→y then P(y|v0,W1,W0,W3,W4,W2,U) = P(y|v0,W1,W0,W3,W4,W2)\n",
      "\n",
      "### Estimand : 2\n",
      "Estimand name: iv\n",
      "Estimand expression:\n",
      " ⎡                              -1⎤\n",
      " ⎢    d        ⎛    d          ⎞  ⎥\n",
      "E⎢─────────(y)⋅⎜─────────([v₀])⎟  ⎥\n",
      " ⎣d[Z₁  Z₀]    ⎝d[Z₁  Z₀]      ⎠  ⎦\n",
      "Estimand assumption 1, As-if-random: If U→→y then ¬(U →→{Z1,Z0})\n",
      "Estimand assumption 2, Exclusion: If we remove {Z1,Z0}→{v0}, then ¬({Z1,Z0}→y)\n",
      "\n",
      "### Estimand : 3\n",
      "Estimand name: frontdoor\n",
      "No such variable(s) found!\n",
      "\n"
     ]
    }
   ],
   "source": [
    "identified_estimand = model.identify_effect(proceed_when_unidentifiable=True)\n",
    "print(identified_estimand)"
   ]
  },
  {
   "cell_type": "markdown",
   "id": "2396e8b8",
   "metadata": {},
   "source": [
    "## Method 1: Propensity Score Stratification\n",
    "\n",
    "We will be using propensity scores to stratify units in the data."
   ]
  },
  {
   "cell_type": "code",
   "execution_count": 8,
   "id": "45993f79",
   "metadata": {
    "execution": {
     "iopub.execute_input": "2022-08-22T07:50:09.650509Z",
     "iopub.status.busy": "2022-08-22T07:50:09.650252Z",
     "iopub.status.idle": "2022-08-22T07:50:10.813826Z",
     "shell.execute_reply": "2022-08-22T07:50:10.813029Z"
    }
   },
   "outputs": [
    {
     "name": "stdout",
     "output_type": "stream",
     "text": [
      "propensity_score_stratification\n"
     ]
    },
    {
     "name": "stdout",
     "output_type": "stream",
     "text": [
      "*** Causal Estimate ***\n",
      "\n",
      "## Identified estimand\n",
      "Estimand type: nonparametric-ate\n",
      "\n",
      "### Estimand : 1\n",
      "Estimand name: backdoor\n",
      "Estimand expression:\n",
      "  d                       \n",
      "─────(E[y|W1,W0,W3,W4,W2])\n",
      "d[v₀]                     \n",
      "Estimand assumption 1, Unconfoundedness: If U→{v0} and U→y then P(y|v0,W1,W0,W3,W4,W2,U) = P(y|v0,W1,W0,W3,W4,W2)\n",
      "\n",
      "## Realized estimand\n",
      "b: y~v0+W1+W0+W3+W4+W2\n",
      "Target units: att\n",
      "\n",
      "## Estimate\n",
      "Mean value: 0.9822068579044027\n",
      "\n",
      "Causal Estimate is 0.9822068579044027\n"
     ]
    }
   ],
   "source": [
    "causal_estimate_strat = model.estimate_effect(identified_estimand,\n",
    "                                              method_name=\"backdoor.propensity_score_stratification\",\n",
    "                                              target_units=\"att\")\n",
    "print(causal_estimate_strat)\n",
    "print(\"Causal Estimate is \" + str(causal_estimate_strat.value))"
   ]
  },
  {
   "cell_type": "markdown",
   "id": "6ef9ab62",
   "metadata": {},
   "source": [
    "### Textual Interpreter\n",
    "\n",
    "The textual Interpreter describes (in words) the effect of unit change in the treatment variable on the outcome variable."
   ]
  },
  {
   "cell_type": "code",
   "execution_count": 9,
   "id": "0a3b58af",
   "metadata": {
    "execution": {
     "iopub.execute_input": "2022-08-22T07:50:10.819188Z",
     "iopub.status.busy": "2022-08-22T07:50:10.818744Z",
     "iopub.status.idle": "2022-08-22T07:50:10.847783Z",
     "shell.execute_reply": "2022-08-22T07:50:10.846792Z"
    }
   },
   "outputs": [
    {
     "name": "stdout",
     "output_type": "stream",
     "text": [
      "Increasing the treatment variable(s) [v0] from 0 to 1 causes an increase of 0.9822068579044027 in the expected value of the outcome [y], over the data distribution/population represented by the dataset.\n"
     ]
    }
   ],
   "source": [
    "# Textual Interpreter\n",
    "interpretation = causal_estimate_strat.interpret(method_name=\"textual_effect_interpreter\")"
   ]
  },
  {
   "cell_type": "markdown",
   "id": "ecfe1149",
   "metadata": {},
   "source": [
    "### Visual Interpreter\n",
    "\n",
    "The visual interpreter plots the change in the standardized mean difference (SMD) before and after Propensity Score based adjustment of the dataset. The formula for SMD is given below.\n",
    "\n",
    "\n",
    "$SMD = \\frac{\\bar X_{1} - \\bar X_{2}}{\\sqrt{(S_{1}^{2} + S_{2}^{2})/2}}$\n",
    "\n",
    "Here, $\\bar X_{1}$ and $\\bar X_{2}$ are the sample mean for the treated and control groups.\n"
   ]
  },
  {
   "cell_type": "code",
   "execution_count": 10,
   "id": "384bd2da",
   "metadata": {
    "execution": {
     "iopub.execute_input": "2022-08-22T07:50:10.851813Z",
     "iopub.status.busy": "2022-08-22T07:50:10.851420Z",
     "iopub.status.idle": "2022-08-22T07:50:12.064878Z",
     "shell.execute_reply": "2022-08-22T07:50:12.063855Z"
    }
   },
   "outputs": [
    {
     "data": {
      "image/png": "[encoded data removed]",
      "text/plain": [
       "<Figure size 640x480 with 1 Axes>"
      ]
     },
     "metadata": {},
     "output_type": "display_data"
    }
   ],
   "source": [
    "# Visual Interpreter\n",
    "interpretation = causal_estimate_strat.interpret(method_name=\"propensity_balance_interpreter\")"
   ]
  },
  {
   "cell_type": "markdown",
   "id": "b5e0511f",
   "metadata": {},
   "source": [
    "This plot shows how the SMD decreases from the unadjusted to the stratified units. "
   ]
  },
  {
   "cell_type": "markdown",
   "id": "ede6db7c",
   "metadata": {},
   "source": [
    "## Method 2: Propensity Score Matching\n",
    "\n",
    "We will be using propensity scores to match units in the data."
   ]
  },
  {
   "cell_type": "code",
   "execution_count": 11,
   "id": "3b8be445",
   "metadata": {
    "execution": {
     "iopub.execute_input": "2022-08-22T07:50:12.069005Z",
     "iopub.status.busy": "2022-08-22T07:50:12.068407Z",
     "iopub.status.idle": "2022-08-22T07:50:18.435109Z",
     "shell.execute_reply": "2022-08-22T07:50:18.434282Z"
    }
   },
   "outputs": [
    {
     "name": "stdout",
     "output_type": "stream",
     "text": [
      "propensity_score_matching\n"
     ]
    },
    {
     "name": "stdout",
     "output_type": "stream",
     "text": [
      "*** Causal Estimate ***\n",
      "\n",
      "## Identified estimand\n",
      "Estimand type: nonparametric-ate\n",
      "\n",
      "### Estimand : 1\n",
      "Estimand name: backdoor\n",
      "Estimand expression:\n",
      "  d                       \n",
      "─────(E[y|W1,W0,W3,W4,W2])\n",
      "d[v₀]                     \n",
      "Estimand assumption 1, Unconfoundedness: If U→{v0} and U→y then P(y|v0,W1,W0,W3,W4,W2,U) = P(y|v0,W1,W0,W3,W4,W2)\n",
      "\n",
      "## Realized estimand\n",
      "b: y~v0+W1+W0+W3+W4+W2\n",
      "Target units: atc\n",
      "\n",
      "## Estimate\n",
      "Mean value: 1.0341920935186666\n",
      "\n",
      "Causal Estimate is 1.0341920935186666\n"
     ]
    }
   ],
   "source": [
    "causal_estimate_match = model.estimate_effect(identified_estimand,\n",
    "                                              method_name=\"backdoor.propensity_score_matching\",\n",
    "                                              target_units=\"atc\")\n",
    "print(causal_estimate_match)\n",
    "print(\"Causal Estimate is \" + str(causal_estimate_match.value))"
   ]
  },
  {
   "cell_type": "code",
   "execution_count": 12,
   "id": "9c3a807a",
   "metadata": {
    "execution": {
     "iopub.execute_input": "2022-08-22T07:50:18.438750Z",
     "iopub.status.busy": "2022-08-22T07:50:18.438391Z",
     "iopub.status.idle": "2022-08-22T07:50:18.478262Z",
     "shell.execute_reply": "2022-08-22T07:50:18.477332Z"
    }
   },
   "outputs": [
    {
     "name": "stdout",
     "output_type": "stream",
     "text": [
      "Increasing the treatment variable(s) [v0] from 0 to 1 causes an increase of 1.0341920935186666 in the expected value of the outcome [y], over the data distribution/population represented by the dataset.\n"
     ]
    }
   ],
   "source": [
    "# Textual Interpreter\n",
    "interpretation = causal_estimate_match.interpret(method_name=\"textual_effect_interpreter\")"
   ]
  },
  {
   "cell_type": "markdown",
   "id": "949fd1b2",
   "metadata": {},
   "source": [
    "Cannot use propensity balance interpretor here since the interpreter method only supports propensity score stratification estimator."
   ]
  },
  {
   "cell_type": "markdown",
   "id": "32c09347",
   "metadata": {},
   "source": [
    "## Method 3: Weighting\n",
    "\n",
    "We will be using (inverse) propensity scores to assign weights to units in the data. DoWhy supports a few different weighting schemes:\n",
    "1. Vanilla Inverse Propensity Score weighting (IPS) (weighting_scheme=\"ips_weight\")\n",
    "2. Self-normalized IPS weighting (also known as the Hajek estimator) (weighting_scheme=\"ips_normalized_weight\")\n",
    "3. Stabilized IPS weighting (weighting_scheme = \"ips_stabilized_weight\")"
   ]
  },
  {
   "cell_type": "code",
   "execution_count": 13,
   "id": "8586604e",
   "metadata": {
    "execution": {
     "iopub.execute_input": "2022-08-22T07:50:18.482393Z",
     "iopub.status.busy": "2022-08-22T07:50:18.482095Z",
     "iopub.status.idle": "2022-08-22T07:50:18.563878Z",
     "shell.execute_reply": "2022-08-22T07:50:18.562925Z"
    }
   },
   "outputs": [
    {
     "name": "stdout",
     "output_type": "stream",
     "text": [
      "propensity_score_weighting\n",
      "*** Causal Estimate ***\n",
      "\n",
      "## Identified estimand\n",
      "Estimand type: nonparametric-ate\n",
      "\n",
      "### Estimand : 1\n",
      "Estimand name: backdoor\n",
      "Estimand expression:\n",
      "  d                       \n",
      "─────(E[y|W1,W0,W3,W4,W2])\n",
      "d[v₀]                     \n",
      "Estimand assumption 1, Unconfoundedness: If U→{v0} and U→y then P(y|v0,W1,W0,W3,W4,W2,U) = P(y|v0,W1,W0,W3,W4,W2)\n",
      "\n",
      "## Realized estimand\n",
      "b: y~v0+W1+W0+W3+W4+W2\n",
      "Target units: ate\n",
      "\n",
      "## Estimate\n",
      "Mean value: 1.5038305126940643\n",
      "\n",
      "Causal Estimate is 1.5038305126940643\n"
     ]
    }
   ],
   "source": [
    "causal_estimate_ipw = model.estimate_effect(identified_estimand,\n",
    "                                            method_name=\"backdoor.propensity_score_weighting\",\n",
    "                                            target_units = \"ate\",\n",
    "                                            method_params={\"weighting_scheme\":\"ips_weight\"})\n",
    "print(causal_estimate_ipw)\n",
    "print(\"Causal Estimate is \" + str(causal_estimate_ipw.value))"
   ]
  },
  {
   "cell_type": "code",
   "execution_count": 14,
   "id": "92edee64",
   "metadata": {
    "execution": {
     "iopub.execute_input": "2022-08-22T07:50:18.568397Z",
     "iopub.status.busy": "2022-08-22T07:50:18.568080Z",
     "iopub.status.idle": "2022-08-22T07:50:18.598475Z",
     "shell.execute_reply": "2022-08-22T07:50:18.597705Z"
    }
   },
   "outputs": [
    {
     "name": "stdout",
     "output_type": "stream",
     "text": [
      "Increasing the treatment variable(s) [v0] from 0 to 1 causes an increase of 1.5038305126940643 in the expected value of the outcome [y], over the data distribution/population represented by the dataset.\n"
     ]
    }
   ],
   "source": [
    "# Textual Interpreter\n",
    "interpretation = causal_estimate_ipw.interpret(method_name=\"textual_effect_interpreter\")"
   ]
  },
  {
   "cell_type": "code",
   "execution_count": 15,
   "id": "e82dc003",
   "metadata": {
    "execution": {
     "iopub.execute_input": "2022-08-22T07:50:18.602515Z",
     "iopub.status.busy": "2022-08-22T07:50:18.601873Z",
     "iopub.status.idle": "2022-08-22T07:50:18.947902Z",
     "shell.execute_reply": "2022-08-22T07:50:18.946934Z"
    }
   },
   "outputs": [
    {
     "data": {
      "image/png": "[encoded data removed]",
      "text/plain": [
       "<Figure size 800x800 with 2 Axes>"
      ]
     },
     "metadata": {},
     "output_type": "display_data"
    }
   ],
   "source": [
    "interpretation = causal_estimate_ipw.interpret(method_name=\"confounder_distribution_interpreter\", fig_size=(8,8), font_size=12, var_name='W4', var_type='discrete')"
   ]
  },
  {
   "cell_type": "code",
   "execution_count": null,
   "id": "c0e8eaf7",
   "metadata": {},
   "outputs": [],
   "source": []
  }
 ],
 "metadata": {
  "kernelspec": {
   "display_name": "Python 3",
   "language": "python",
   "name": "python3"
  },
  "language_info": {
   "codemirror_mode": {
    "name": "ipython",
    "version": 3
   },
   "file_extension": ".py",
   "mimetype": "text/x-python",
   "name": "python",
   "nbconvert_exporter": "python",
   "pygments_lexer": "ipython3",
   "version": "3.8.10"
  },
  "toc": {
   "base_numbering": 1,
   "nav_menu": {},
   "number_sections": false,
   "sideBar": true,
   "skip_h1_title": true,
   "title_cell": "Table of Contents",
   "title_sidebar": "Contents",
   "toc_cell": false,
   "toc_position": {},
   "toc_section_display": true,
   "toc_window_display": false
  }
 },
 "nbformat": 4,
 "nbformat_minor": 5
}
