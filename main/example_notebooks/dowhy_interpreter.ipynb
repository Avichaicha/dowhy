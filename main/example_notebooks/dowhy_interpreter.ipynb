{
 "cells": [
  {
   "cell_type": "markdown",
   "id": "40684612",
   "metadata": {},
   "source": [
    "# DoWhy: Interpreters for Causal Estimators\n",
    "\n",
    "This is a quick introduction to the use of interpreters in the DoWhy causal inference library.\n",
    "We will load in a sample dataset, use different methods for estimating the causal effect of a (pre-specified)treatment variable on a (pre-specified) outcome variable and demonstrate how to interpret the obtained results.\n",
    "\n",
    "First, let us add the required path for Python to find the DoWhy code and load all required packages"
   ]
  },
  {
   "cell_type": "code",
   "execution_count": 1,
   "id": "23e22b43",
   "metadata": {
    "execution": {
     "iopub.execute_input": "2022-11-10T08:42:36.757848Z",
     "iopub.status.busy": "2022-11-10T08:42:36.757262Z",
     "iopub.status.idle": "2022-11-10T08:42:36.776837Z",
     "shell.execute_reply": "2022-11-10T08:42:36.775704Z"
    }
   },
   "outputs": [],
   "source": [
    "%load_ext autoreload\n",
    "%autoreload 2"
   ]
  },
  {
   "cell_type": "code",
   "execution_count": 2,
   "id": "bfe1769c",
   "metadata": {
    "execution": {
     "iopub.execute_input": "2022-11-10T08:42:36.780354Z",
     "iopub.status.busy": "2022-11-10T08:42:36.780113Z",
     "iopub.status.idle": "2022-11-10T08:42:39.133544Z",
     "shell.execute_reply": "2022-11-10T08:42:39.132339Z"
    }
   },
   "outputs": [],
   "source": [
    "import numpy as np\n",
    "import pandas as pd\n",
    "import logging\n",
    "\n",
    "import dowhy\n",
    "from dowhy import CausalModel\n",
    "import dowhy.datasets "
   ]
  },
  {
   "cell_type": "markdown",
   "id": "ac2d3584",
   "metadata": {},
   "source": [
    "Now, let us load a dataset. For simplicity, we simulate a dataset with linear relationships between common causes and treatment, and common causes and outcome.\n",
    "\n",
    "Beta is the true causal effect."
   ]
  },
  {
   "cell_type": "code",
   "execution_count": 3,
   "id": "70b0d912",
   "metadata": {
    "execution": {
     "iopub.execute_input": "2022-11-10T08:42:39.138102Z",
     "iopub.status.busy": "2022-11-10T08:42:39.137661Z",
     "iopub.status.idle": "2022-11-10T08:42:39.613852Z",
     "shell.execute_reply": "2022-11-10T08:42:39.613019Z"
    }
   },
   "outputs": [
    {
     "name": "stdout",
     "output_type": "stream",
     "text": [
      "8430\n"
     ]
    },
    {
     "data": {
      "text/html": [
       "<div>\n",
       "<style scoped>\n",
       "    .dataframe tbody tr th:only-of-type {\n",
       "        vertical-align: middle;\n",
       "    }\n",
       "\n",
       "    .dataframe tbody tr th {\n",
       "        vertical-align: top;\n",
       "    }\n",
       "\n",
       "    .dataframe thead th {\n",
       "        text-align: right;\n",
       "    }\n",
       "</style>\n",
       "<table border=\"1\" class=\"dataframe\">\n",
       "  <thead>\n",
       "    <tr style=\"text-align: right;\">\n",
       "      <th></th>\n",
       "      <th>Z0</th>\n",
       "      <th>Z1</th>\n",
       "      <th>W0</th>\n",
       "      <th>W1</th>\n",
       "      <th>W2</th>\n",
       "      <th>W3</th>\n",
       "      <th>W4</th>\n",
       "      <th>v0</th>\n",
       "      <th>y</th>\n",
       "    </tr>\n",
       "  </thead>\n",
       "  <tbody>\n",
       "    <tr>\n",
       "      <th>0</th>\n",
       "      <td>1.0</td>\n",
       "      <td>0.022164</td>\n",
       "      <td>-0.087670</td>\n",
       "      <td>-1.325914</td>\n",
       "      <td>-0.543123</td>\n",
       "      <td>0.603574</td>\n",
       "      <td>1</td>\n",
       "      <td>True</td>\n",
       "      <td>0.579491</td>\n",
       "    </tr>\n",
       "    <tr>\n",
       "      <th>1</th>\n",
       "      <td>1.0</td>\n",
       "      <td>0.918905</td>\n",
       "      <td>-1.571865</td>\n",
       "      <td>-3.387812</td>\n",
       "      <td>1.033721</td>\n",
       "      <td>0.564123</td>\n",
       "      <td>3</td>\n",
       "      <td>True</td>\n",
       "      <td>0.297141</td>\n",
       "    </tr>\n",
       "    <tr>\n",
       "      <th>2</th>\n",
       "      <td>1.0</td>\n",
       "      <td>0.916503</td>\n",
       "      <td>-1.016270</td>\n",
       "      <td>-1.183903</td>\n",
       "      <td>0.395024</td>\n",
       "      <td>0.508630</td>\n",
       "      <td>0</td>\n",
       "      <td>True</td>\n",
       "      <td>0.778654</td>\n",
       "    </tr>\n",
       "    <tr>\n",
       "      <th>3</th>\n",
       "      <td>1.0</td>\n",
       "      <td>0.626507</td>\n",
       "      <td>0.326494</td>\n",
       "      <td>-0.773205</td>\n",
       "      <td>1.374082</td>\n",
       "      <td>-0.550725</td>\n",
       "      <td>3</td>\n",
       "      <td>False</td>\n",
       "      <td>0.574907</td>\n",
       "    </tr>\n",
       "    <tr>\n",
       "      <th>4</th>\n",
       "      <td>1.0</td>\n",
       "      <td>0.492907</td>\n",
       "      <td>0.038631</td>\n",
       "      <td>0.579792</td>\n",
       "      <td>0.297610</td>\n",
       "      <td>-1.315567</td>\n",
       "      <td>0</td>\n",
       "      <td>True</td>\n",
       "      <td>0.261775</td>\n",
       "    </tr>\n",
       "    <tr>\n",
       "      <th>...</th>\n",
       "      <td>...</td>\n",
       "      <td>...</td>\n",
       "      <td>...</td>\n",
       "      <td>...</td>\n",
       "      <td>...</td>\n",
       "      <td>...</td>\n",
       "      <td>...</td>\n",
       "      <td>...</td>\n",
       "      <td>...</td>\n",
       "    </tr>\n",
       "    <tr>\n",
       "      <th>9995</th>\n",
       "      <td>1.0</td>\n",
       "      <td>0.245556</td>\n",
       "      <td>0.564422</td>\n",
       "      <td>-0.752276</td>\n",
       "      <td>-0.062728</td>\n",
       "      <td>0.021186</td>\n",
       "      <td>3</td>\n",
       "      <td>True</td>\n",
       "      <td>1.144916</td>\n",
       "    </tr>\n",
       "    <tr>\n",
       "      <th>9996</th>\n",
       "      <td>1.0</td>\n",
       "      <td>0.480697</td>\n",
       "      <td>1.127131</td>\n",
       "      <td>0.239902</td>\n",
       "      <td>1.547465</td>\n",
       "      <td>-0.600692</td>\n",
       "      <td>3</td>\n",
       "      <td>True</td>\n",
       "      <td>2.469871</td>\n",
       "    </tr>\n",
       "    <tr>\n",
       "      <th>9997</th>\n",
       "      <td>1.0</td>\n",
       "      <td>0.153548</td>\n",
       "      <td>-1.426606</td>\n",
       "      <td>-1.386130</td>\n",
       "      <td>-0.051574</td>\n",
       "      <td>-0.244129</td>\n",
       "      <td>0</td>\n",
       "      <td>True</td>\n",
       "      <td>-0.527496</td>\n",
       "    </tr>\n",
       "    <tr>\n",
       "      <th>9998</th>\n",
       "      <td>0.0</td>\n",
       "      <td>0.592035</td>\n",
       "      <td>0.719575</td>\n",
       "      <td>-0.724738</td>\n",
       "      <td>-1.283145</td>\n",
       "      <td>-3.203790</td>\n",
       "      <td>3</td>\n",
       "      <td>False</td>\n",
       "      <td>-3.832156</td>\n",
       "    </tr>\n",
       "    <tr>\n",
       "      <th>9999</th>\n",
       "      <td>1.0</td>\n",
       "      <td>0.848979</td>\n",
       "      <td>0.966734</td>\n",
       "      <td>0.037701</td>\n",
       "      <td>0.587572</td>\n",
       "      <td>0.257155</td>\n",
       "      <td>3</td>\n",
       "      <td>True</td>\n",
       "      <td>2.448695</td>\n",
       "    </tr>\n",
       "  </tbody>\n",
       "</table>\n",
       "<p>10000 rows × 9 columns</p>\n",
       "</div>"
      ],
      "text/plain": [
       "       Z0        Z1        W0        W1        W2        W3 W4     v0  \\\n",
       "0     1.0  0.022164 -0.087670 -1.325914 -0.543123  0.603574  1   True   \n",
       "1     1.0  0.918905 -1.571865 -3.387812  1.033721  0.564123  3   True   \n",
       "2     1.0  0.916503 -1.016270 -1.183903  0.395024  0.508630  0   True   \n",
       "3     1.0  0.626507  0.326494 -0.773205  1.374082 -0.550725  3  False   \n",
       "4     1.0  0.492907  0.038631  0.579792  0.297610 -1.315567  0   True   \n",
       "...   ...       ...       ...       ...       ...       ... ..    ...   \n",
       "9995  1.0  0.245556  0.564422 -0.752276 -0.062728  0.021186  3   True   \n",
       "9996  1.0  0.480697  1.127131  0.239902  1.547465 -0.600692  3   True   \n",
       "9997  1.0  0.153548 -1.426606 -1.386130 -0.051574 -0.244129  0   True   \n",
       "9998  0.0  0.592035  0.719575 -0.724738 -1.283145 -3.203790  3  False   \n",
       "9999  1.0  0.848979  0.966734  0.037701  0.587572  0.257155  3   True   \n",
       "\n",
       "             y  \n",
       "0     0.579491  \n",
       "1     0.297141  \n",
       "2     0.778654  \n",
       "3     0.574907  \n",
       "4     0.261775  \n",
       "...        ...  \n",
       "9995  1.144916  \n",
       "9996  2.469871  \n",
       "9997 -0.527496  \n",
       "9998 -3.832156  \n",
       "9999  2.448695  \n",
       "\n",
       "[10000 rows x 9 columns]"
      ]
     },
     "execution_count": 3,
     "metadata": {},
     "output_type": "execute_result"
    }
   ],
   "source": [
    "data = dowhy.datasets.linear_dataset(beta=1,\n",
    "        num_common_causes=5, \n",
    "        num_instruments = 2,\n",
    "        num_treatments=1,\n",
    "        num_discrete_common_causes=1,\n",
    "        num_samples=10000,\n",
    "        treatment_is_binary=True,\n",
    "        outcome_is_binary=False)\n",
    "df = data[\"df\"]\n",
    "print(df[df.v0==True].shape[0])\n",
    "df"
   ]
  },
  {
   "cell_type": "markdown",
   "id": "1ff4a0b7",
   "metadata": {},
   "source": [
    "Note that we are using a pandas dataframe to load the data."
   ]
  },
  {
   "cell_type": "markdown",
   "id": "58900488",
   "metadata": {},
   "source": [
    "## Identifying the causal estimand"
   ]
  },
  {
   "cell_type": "markdown",
   "id": "7beb8548",
   "metadata": {},
   "source": [
    "We now input a causal graph in the GML graph format."
   ]
  },
  {
   "cell_type": "code",
   "execution_count": 4,
   "id": "22b36b5b",
   "metadata": {
    "execution": {
     "iopub.execute_input": "2022-11-10T08:42:39.618238Z",
     "iopub.status.busy": "2022-11-10T08:42:39.617926Z",
     "iopub.status.idle": "2022-11-10T08:42:39.656002Z",
     "shell.execute_reply": "2022-11-10T08:42:39.654872Z"
    }
   },
   "outputs": [],
   "source": [
    "# With graph\n",
    "model=CausalModel(\n",
    "        data = df,\n",
    "        treatment=data[\"treatment_name\"],\n",
    "        outcome=data[\"outcome_name\"],\n",
    "        graph=data[\"gml_graph\"],\n",
    "        instruments=data[\"instrument_names\"]\n",
    "        )"
   ]
  },
  {
   "cell_type": "code",
   "execution_count": 5,
   "id": "a428821a",
   "metadata": {
    "execution": {
     "iopub.execute_input": "2022-11-10T08:42:39.660474Z",
     "iopub.status.busy": "2022-11-10T08:42:39.660202Z",
     "iopub.status.idle": "2022-11-10T08:42:39.727770Z",
     "shell.execute_reply": "2022-11-10T08:42:39.726803Z"
    }
   },
   "outputs": [],
   "source": [
    "model.view_model()"
   ]
  },
  {
   "cell_type": "code",
   "execution_count": 6,
   "id": "4acc276f",
   "metadata": {
    "execution": {
     "iopub.execute_input": "2022-11-10T08:42:39.732337Z",
     "iopub.status.busy": "2022-11-10T08:42:39.731909Z",
     "iopub.status.idle": "2022-11-10T08:42:39.775477Z",
     "shell.execute_reply": "2022-11-10T08:42:39.774557Z"
    }
   },
   "outputs": [
    {
     "data": {
      "image/png": "[encoded data removed]",
      "text/plain": [
       "<IPython.core.display.Image object>"
      ]
     },
     "metadata": {},
     "output_type": "display_data"
    }
   ],
   "source": [
    "from IPython.display import Image, display\n",
    "display(Image(filename=\"causal_model.png\"))"
   ]
  },
  {
   "cell_type": "markdown",
   "id": "e5445d3a",
   "metadata": {},
   "source": [
    "We get a causal graph. Now identification and estimation is done."
   ]
  },
  {
   "cell_type": "code",
   "execution_count": 7,
   "id": "4303175d",
   "metadata": {
    "execution": {
     "iopub.execute_input": "2022-11-10T08:42:39.779468Z",
     "iopub.status.busy": "2022-11-10T08:42:39.779040Z",
     "iopub.status.idle": "2022-11-10T08:42:40.088221Z",
     "shell.execute_reply": "2022-11-10T08:42:40.087251Z"
    }
   },
   "outputs": [
    {
     "name": "stdout",
     "output_type": "stream",
     "text": [
      "Estimand type: EstimandType.NONPARAMETRIC_ATE\n",
      "\n",
      "### Estimand : 1\n",
      "Estimand name: backdoor\n",
      "Estimand expression:\n",
      "  d                       \n",
      "─────(E[y|W2,W1,W3,W4,W0])\n",
      "d[v₀]                     \n",
      "Estimand assumption 1, Unconfoundedness: If U→{v0} and U→y then P(y|v0,W2,W1,W3,W4,W0,U) = P(y|v0,W2,W1,W3,W4,W0)\n",
      "\n",
      "### Estimand : 2\n",
      "Estimand name: iv\n",
      "Estimand expression:\n",
      " ⎡                              -1⎤\n",
      " ⎢    d        ⎛    d          ⎞  ⎥\n",
      "E⎢─────────(y)⋅⎜─────────([v₀])⎟  ⎥\n",
      " ⎣d[Z₁  Z₀]    ⎝d[Z₁  Z₀]      ⎠  ⎦\n",
      "Estimand assumption 1, As-if-random: If U→→y then ¬(U →→{Z1,Z0})\n",
      "Estimand assumption 2, Exclusion: If we remove {Z1,Z0}→{v0}, then ¬({Z1,Z0}→y)\n",
      "\n",
      "### Estimand : 3\n",
      "Estimand name: frontdoor\n",
      "No such variable(s) found!\n",
      "\n"
     ]
    }
   ],
   "source": [
    "identified_estimand = model.identify_effect(proceed_when_unidentifiable=True)\n",
    "print(identified_estimand)"
   ]
  },
  {
   "cell_type": "markdown",
   "id": "ad5f0db2",
   "metadata": {},
   "source": [
    "## Method 1: Propensity Score Stratification\n",
    "\n",
    "We will be using propensity scores to stratify units in the data."
   ]
  },
  {
   "cell_type": "code",
   "execution_count": 8,
   "id": "18070012",
   "metadata": {
    "execution": {
     "iopub.execute_input": "2022-11-10T08:42:40.092533Z",
     "iopub.status.busy": "2022-11-10T08:42:40.092187Z",
     "iopub.status.idle": "2022-11-10T08:42:41.171846Z",
     "shell.execute_reply": "2022-11-10T08:42:41.170727Z"
    }
   },
   "outputs": [
    {
     "name": "stdout",
     "output_type": "stream",
     "text": [
      "*** Causal Estimate ***\n",
      "\n",
      "## Identified estimand\n",
      "Estimand type: EstimandType.NONPARAMETRIC_ATE\n",
      "\n",
      "### Estimand : 1\n",
      "Estimand name: backdoor\n",
      "Estimand expression:\n",
      "  d                       \n",
      "─────(E[y|W2,W1,W3,W4,W0])\n",
      "d[v₀]                     \n",
      "Estimand assumption 1, Unconfoundedness: If U→{v0} and U→y then P(y|v0,W2,W1,W3,W4,W0,U) = P(y|v0,W2,W1,W3,W4,W0)\n",
      "\n",
      "## Realized estimand\n",
      "b: y~v0+W2+W1+W3+W4+W0\n",
      "Target units: att\n",
      "\n",
      "## Estimate\n",
      "Mean value: 1.042786796150405\n",
      "\n",
      "Causal Estimate is 1.042786796150405\n"
     ]
    }
   ],
   "source": [
    "causal_estimate_strat = model.estimate_effect(identified_estimand,\n",
    "                                              method_name=\"backdoor.propensity_score_stratification\",\n",
    "                                              target_units=\"att\")\n",
    "print(causal_estimate_strat)\n",
    "print(\"Causal Estimate is \" + str(causal_estimate_strat.value))"
   ]
  },
  {
   "cell_type": "markdown",
   "id": "e342ec57",
   "metadata": {},
   "source": [
    "### Textual Interpreter\n",
    "\n",
    "The textual Interpreter describes (in words) the effect of unit change in the treatment variable on the outcome variable."
   ]
  },
  {
   "cell_type": "code",
   "execution_count": 9,
   "id": "2fc7e112",
   "metadata": {
    "execution": {
     "iopub.execute_input": "2022-11-10T08:42:41.175944Z",
     "iopub.status.busy": "2022-11-10T08:42:41.175635Z",
     "iopub.status.idle": "2022-11-10T08:42:41.219466Z",
     "shell.execute_reply": "2022-11-10T08:42:41.218285Z"
    }
   },
   "outputs": [
    {
     "name": "stdout",
     "output_type": "stream",
     "text": [
      "Increasing the treatment variable(s) [v0] from 0 to 1 causes an increase of 1.042786796150405 in the expected value of the outcome [y], over the data distribution/population represented by the dataset.\n"
     ]
    }
   ],
   "source": [
    "# Textual Interpreter\n",
    "interpretation = causal_estimate_strat.interpret(method_name=\"textual_effect_interpreter\")"
   ]
  },
  {
   "cell_type": "markdown",
   "id": "fb26925c",
   "metadata": {},
   "source": [
    "### Visual Interpreter\n",
    "\n",
    "The visual interpreter plots the change in the standardized mean difference (SMD) before and after Propensity Score based adjustment of the dataset. The formula for SMD is given below.\n",
    "\n",
    "\n",
    "$SMD = \\frac{\\bar X_{1} - \\bar X_{2}}{\\sqrt{(S_{1}^{2} + S_{2}^{2})/2}}$\n",
    "\n",
    "Here, $\\bar X_{1}$ and $\\bar X_{2}$ are the sample mean for the treated and control groups.\n"
   ]
  },
  {
   "cell_type": "code",
   "execution_count": 10,
   "id": "c4aadc62",
   "metadata": {
    "execution": {
     "iopub.execute_input": "2022-11-10T08:42:41.223150Z",
     "iopub.status.busy": "2022-11-10T08:42:41.222886Z",
     "iopub.status.idle": "2022-11-10T08:42:42.675704Z",
     "shell.execute_reply": "2022-11-10T08:42:42.674638Z"
    }
   },
   "outputs": [
    {
     "data": {
      "image/png": "[encoded data removed]",
      "text/plain": [
       "<Figure size 640x480 with 1 Axes>"
      ]
     },
     "metadata": {},
     "output_type": "display_data"
    }
   ],
   "source": [
    "# Visual Interpreter\n",
    "interpretation = causal_estimate_strat.interpret(method_name=\"propensity_balance_interpreter\")"
   ]
  },
  {
   "cell_type": "markdown",
   "id": "e99a9cc3",
   "metadata": {},
   "source": [
    "This plot shows how the SMD decreases from the unadjusted to the stratified units. "
   ]
  },
  {
   "cell_type": "markdown",
   "id": "ecb9a9b0",
   "metadata": {},
   "source": [
    "## Method 2: Propensity Score Matching\n",
    "\n",
    "We will be using propensity scores to match units in the data."
   ]
  },
  {
   "cell_type": "code",
   "execution_count": 11,
   "id": "138dbdf9",
   "metadata": {
    "execution": {
     "iopub.execute_input": "2022-11-10T08:42:42.680754Z",
     "iopub.status.busy": "2022-11-10T08:42:42.680096Z",
     "iopub.status.idle": "2022-11-10T08:42:49.393980Z",
     "shell.execute_reply": "2022-11-10T08:42:49.393096Z"
    }
   },
   "outputs": [
    {
     "name": "stdout",
     "output_type": "stream",
     "text": [
      "*** Causal Estimate ***\n",
      "\n",
      "## Identified estimand\n",
      "Estimand type: EstimandType.NONPARAMETRIC_ATE\n",
      "\n",
      "### Estimand : 1\n",
      "Estimand name: backdoor\n",
      "Estimand expression:\n",
      "  d                       \n",
      "─────(E[y|W2,W1,W3,W4,W0])\n",
      "d[v₀]                     \n",
      "Estimand assumption 1, Unconfoundedness: If U→{v0} and U→y then P(y|v0,W2,W1,W3,W4,W0,U) = P(y|v0,W2,W1,W3,W4,W0)\n",
      "\n",
      "## Realized estimand\n",
      "b: y~v0+W2+W1+W3+W4+W0\n",
      "Target units: atc\n",
      "\n",
      "## Estimate\n",
      "Mean value: 1.0505160313054946\n",
      "\n",
      "Causal Estimate is 1.0505160313054946\n"
     ]
    }
   ],
   "source": [
    "causal_estimate_match = model.estimate_effect(identified_estimand,\n",
    "                                              method_name=\"backdoor.propensity_score_matching\",\n",
    "                                              target_units=\"atc\")\n",
    "print(causal_estimate_match)\n",
    "print(\"Causal Estimate is \" + str(causal_estimate_match.value))"
   ]
  },
  {
   "cell_type": "code",
   "execution_count": 12,
   "id": "90af5b49",
   "metadata": {
    "execution": {
     "iopub.execute_input": "2022-11-10T08:42:49.398052Z",
     "iopub.status.busy": "2022-11-10T08:42:49.397463Z",
     "iopub.status.idle": "2022-11-10T08:42:49.436455Z",
     "shell.execute_reply": "2022-11-10T08:42:49.435257Z"
    }
   },
   "outputs": [
    {
     "name": "stdout",
     "output_type": "stream",
     "text": [
      "Increasing the treatment variable(s) [v0] from 0 to 1 causes an increase of 1.0505160313054946 in the expected value of the outcome [y], over the data distribution/population represented by the dataset.\n"
     ]
    }
   ],
   "source": [
    "# Textual Interpreter\n",
    "interpretation = causal_estimate_match.interpret(method_name=\"textual_effect_interpreter\")"
   ]
  },
  {
   "cell_type": "markdown",
   "id": "8dc5252e",
   "metadata": {},
   "source": [
    "Cannot use propensity balance interpretor here since the interpreter method only supports propensity score stratification estimator."
   ]
  },
  {
   "cell_type": "markdown",
   "id": "eff61c6f",
   "metadata": {},
   "source": [
    "## Method 3: Weighting\n",
    "\n",
    "We will be using (inverse) propensity scores to assign weights to units in the data. DoWhy supports a few different weighting schemes:\n",
    "1. Vanilla Inverse Propensity Score weighting (IPS) (weighting_scheme=\"ips_weight\")\n",
    "2. Self-normalized IPS weighting (also known as the Hajek estimator) (weighting_scheme=\"ips_normalized_weight\")\n",
    "3. Stabilized IPS weighting (weighting_scheme = \"ips_stabilized_weight\")"
   ]
  },
  {
   "cell_type": "code",
   "execution_count": 13,
   "id": "76943b32",
   "metadata": {
    "execution": {
     "iopub.execute_input": "2022-11-10T08:42:49.445878Z",
     "iopub.status.busy": "2022-11-10T08:42:49.445549Z",
     "iopub.status.idle": "2022-11-10T08:42:49.538945Z",
     "shell.execute_reply": "2022-11-10T08:42:49.538015Z"
    }
   },
   "outputs": [
    {
     "name": "stdout",
     "output_type": "stream",
     "text": [
      "*** Causal Estimate ***\n",
      "\n",
      "## Identified estimand\n",
      "Estimand type: EstimandType.NONPARAMETRIC_ATE\n",
      "\n",
      "### Estimand : 1\n",
      "Estimand name: backdoor\n",
      "Estimand expression:\n",
      "  d                       \n",
      "─────(E[y|W2,W1,W3,W4,W0])\n",
      "d[v₀]                     \n",
      "Estimand assumption 1, Unconfoundedness: If U→{v0} and U→y then P(y|v0,W2,W1,W3,W4,W0,U) = P(y|v0,W2,W1,W3,W4,W0)\n",
      "\n",
      "## Realized estimand\n",
      "b: y~v0+W2+W1+W3+W4+W0\n",
      "Target units: ate\n",
      "\n",
      "## Estimate\n",
      "Mean value: 1.0195922480587347\n",
      "\n",
      "Causal Estimate is 1.0195922480587347\n"
     ]
    }
   ],
   "source": [
    "causal_estimate_ipw = model.estimate_effect(identified_estimand,\n",
    "                                            method_name=\"backdoor.propensity_score_weighting\",\n",
    "                                            target_units = \"ate\",\n",
    "                                            method_params={\"weighting_scheme\":\"ips_weight\"})\n",
    "print(causal_estimate_ipw)\n",
    "print(\"Causal Estimate is \" + str(causal_estimate_ipw.value))"
   ]
  },
  {
   "cell_type": "code",
   "execution_count": 14,
   "id": "211b0fc9",
   "metadata": {
    "execution": {
     "iopub.execute_input": "2022-11-10T08:42:49.543373Z",
     "iopub.status.busy": "2022-11-10T08:42:49.542965Z",
     "iopub.status.idle": "2022-11-10T08:42:49.580772Z",
     "shell.execute_reply": "2022-11-10T08:42:49.579761Z"
    }
   },
   "outputs": [
    {
     "name": "stdout",
     "output_type": "stream",
     "text": [
      "Increasing the treatment variable(s) [v0] from 0 to 1 causes an increase of 1.0195922480587347 in the expected value of the outcome [y], over the data distribution/population represented by the dataset.\n"
     ]
    }
   ],
   "source": [
    "# Textual Interpreter\n",
    "interpretation = causal_estimate_ipw.interpret(method_name=\"textual_effect_interpreter\")"
   ]
  },
  {
   "cell_type": "code",
   "execution_count": 15,
   "id": "c4a1c4d8",
   "metadata": {
    "execution": {
     "iopub.execute_input": "2022-11-10T08:42:49.584483Z",
     "iopub.status.busy": "2022-11-10T08:42:49.584188Z",
     "iopub.status.idle": "2022-11-10T08:42:50.036214Z",
     "shell.execute_reply": "2022-11-10T08:42:50.034994Z"
    }
   },
   "outputs": [
    {
     "data": {
      "image/png": "[encoded data removed]",
      "text/plain": [
       "<Figure size 800x800 with 2 Axes>"
      ]
     },
     "metadata": {},
     "output_type": "display_data"
    }
   ],
   "source": [
    "interpretation = causal_estimate_ipw.interpret(method_name=\"confounder_distribution_interpreter\", fig_size=(8,8), font_size=12, var_name='W4', var_type='discrete')"
   ]
  },
  {
   "cell_type": "code",
   "execution_count": null,
   "id": "5b5ff2dc",
   "metadata": {},
   "outputs": [],
   "source": []
  }
 ],
 "metadata": {
  "kernelspec": {
   "display_name": "Python 3",
   "language": "python",
   "name": "python3"
  },
  "language_info": {
   "codemirror_mode": {
    "name": "ipython",
    "version": 3
   },
   "file_extension": ".py",
   "mimetype": "text/x-python",
   "name": "python",
   "nbconvert_exporter": "python",
   "pygments_lexer": "ipython3",
   "version": "3.8.10"
  },
  "toc": {
   "base_numbering": 1,
   "nav_menu": {},
   "number_sections": false,
   "sideBar": true,
   "skip_h1_title": true,
   "title_cell": "Table of Contents",
   "title_sidebar": "Contents",
   "toc_cell": false,
   "toc_position": {},
   "toc_section_display": true,
   "toc_window_display": false
  }
 },
 "nbformat": 4,
 "nbformat_minor": 5
}
