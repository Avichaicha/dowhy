{
 "cells": [
  {
   "cell_type": "markdown",
   "id": "479ebf88",
   "metadata": {},
   "source": [
    "# DoWhy: Interpreters for Causal Estimators\n",
    "\n",
    "This is a quick introduction to the use of interpreters in the DoWhy causal inference library.\n",
    "We will load in a sample dataset, use different methods for estimating the causal effect of a (pre-specified)treatment variable on a (pre-specified) outcome variable and demonstrate how to interpret the obtained results.\n",
    "\n",
    "First, let us add the required path for Python to find the DoWhy code and load all required packages"
   ]
  },
  {
   "cell_type": "code",
   "execution_count": 1,
   "id": "6ab726b6",
   "metadata": {
    "execution": {
     "iopub.execute_input": "2022-08-08T05:57:42.188413Z",
     "iopub.status.busy": "2022-08-08T05:57:42.188044Z",
     "iopub.status.idle": "2022-08-08T05:57:42.207538Z",
     "shell.execute_reply": "2022-08-08T05:57:42.206820Z"
    }
   },
   "outputs": [],
   "source": [
    "%load_ext autoreload\n",
    "%autoreload 2"
   ]
  },
  {
   "cell_type": "code",
   "execution_count": 2,
   "id": "9026a7cd",
   "metadata": {
    "execution": {
     "iopub.execute_input": "2022-08-08T05:57:42.211594Z",
     "iopub.status.busy": "2022-08-08T05:57:42.211098Z",
     "iopub.status.idle": "2022-08-08T05:57:43.481255Z",
     "shell.execute_reply": "2022-08-08T05:57:43.480063Z"
    }
   },
   "outputs": [
    {
     "name": "stdout",
     "output_type": "stream",
     "text": [
      "keywords are unexpanded, not using\n"
     ]
    }
   ],
   "source": [
    "import numpy as np\n",
    "import pandas as pd\n",
    "import logging\n",
    "\n",
    "import dowhy\n",
    "from dowhy import CausalModel\n",
    "import dowhy.datasets "
   ]
  },
  {
   "cell_type": "markdown",
   "id": "5d65b75b",
   "metadata": {},
   "source": [
    "Now, let us load a dataset. For simplicity, we simulate a dataset with linear relationships between common causes and treatment, and common causes and outcome.\n",
    "\n",
    "Beta is the true causal effect."
   ]
  },
  {
   "cell_type": "code",
   "execution_count": 3,
   "id": "19bbdd2b",
   "metadata": {
    "execution": {
     "iopub.execute_input": "2022-08-08T05:57:43.486282Z",
     "iopub.status.busy": "2022-08-08T05:57:43.485641Z",
     "iopub.status.idle": "2022-08-08T05:57:43.876352Z",
     "shell.execute_reply": "2022-08-08T05:57:43.875573Z"
    }
   },
   "outputs": [
    {
     "name": "stdout",
     "output_type": "stream",
     "text": [
      "8856\n"
     ]
    },
    {
     "data": {
      "text/html": [
       "<div>\n",
       "<style scoped>\n",
       "    .dataframe tbody tr th:only-of-type {\n",
       "        vertical-align: middle;\n",
       "    }\n",
       "\n",
       "    .dataframe tbody tr th {\n",
       "        vertical-align: top;\n",
       "    }\n",
       "\n",
       "    .dataframe thead th {\n",
       "        text-align: right;\n",
       "    }\n",
       "</style>\n",
       "<table border=\"1\" class=\"dataframe\">\n",
       "  <thead>\n",
       "    <tr style=\"text-align: right;\">\n",
       "      <th></th>\n",
       "      <th>Z0</th>\n",
       "      <th>Z1</th>\n",
       "      <th>W0</th>\n",
       "      <th>W1</th>\n",
       "      <th>W2</th>\n",
       "      <th>W3</th>\n",
       "      <th>W4</th>\n",
       "      <th>v0</th>\n",
       "      <th>y</th>\n",
       "    </tr>\n",
       "  </thead>\n",
       "  <tbody>\n",
       "    <tr>\n",
       "      <th>0</th>\n",
       "      <td>1.0</td>\n",
       "      <td>0.184793</td>\n",
       "      <td>-0.970631</td>\n",
       "      <td>-0.621598</td>\n",
       "      <td>-0.805306</td>\n",
       "      <td>1.421914</td>\n",
       "      <td>3</td>\n",
       "      <td>True</td>\n",
       "      <td>3.035168</td>\n",
       "    </tr>\n",
       "    <tr>\n",
       "      <th>1</th>\n",
       "      <td>1.0</td>\n",
       "      <td>0.373074</td>\n",
       "      <td>-0.529402</td>\n",
       "      <td>-1.546144</td>\n",
       "      <td>-0.711542</td>\n",
       "      <td>2.622934</td>\n",
       "      <td>0</td>\n",
       "      <td>True</td>\n",
       "      <td>0.889912</td>\n",
       "    </tr>\n",
       "    <tr>\n",
       "      <th>2</th>\n",
       "      <td>1.0</td>\n",
       "      <td>0.850538</td>\n",
       "      <td>-1.027590</td>\n",
       "      <td>-0.569593</td>\n",
       "      <td>-1.012563</td>\n",
       "      <td>2.085841</td>\n",
       "      <td>1</td>\n",
       "      <td>True</td>\n",
       "      <td>1.629369</td>\n",
       "    </tr>\n",
       "    <tr>\n",
       "      <th>3</th>\n",
       "      <td>1.0</td>\n",
       "      <td>0.047369</td>\n",
       "      <td>-0.448865</td>\n",
       "      <td>-1.134848</td>\n",
       "      <td>-0.586668</td>\n",
       "      <td>1.013018</td>\n",
       "      <td>1</td>\n",
       "      <td>True</td>\n",
       "      <td>1.361913</td>\n",
       "    </tr>\n",
       "    <tr>\n",
       "      <th>4</th>\n",
       "      <td>1.0</td>\n",
       "      <td>0.729434</td>\n",
       "      <td>0.060275</td>\n",
       "      <td>-1.162166</td>\n",
       "      <td>-2.604481</td>\n",
       "      <td>1.396082</td>\n",
       "      <td>3</td>\n",
       "      <td>True</td>\n",
       "      <td>2.596458</td>\n",
       "    </tr>\n",
       "    <tr>\n",
       "      <th>...</th>\n",
       "      <td>...</td>\n",
       "      <td>...</td>\n",
       "      <td>...</td>\n",
       "      <td>...</td>\n",
       "      <td>...</td>\n",
       "      <td>...</td>\n",
       "      <td>...</td>\n",
       "      <td>...</td>\n",
       "      <td>...</td>\n",
       "    </tr>\n",
       "    <tr>\n",
       "      <th>9995</th>\n",
       "      <td>1.0</td>\n",
       "      <td>0.433183</td>\n",
       "      <td>-0.324982</td>\n",
       "      <td>1.360589</td>\n",
       "      <td>-1.502567</td>\n",
       "      <td>0.404450</td>\n",
       "      <td>3</td>\n",
       "      <td>True</td>\n",
       "      <td>3.464997</td>\n",
       "    </tr>\n",
       "    <tr>\n",
       "      <th>9996</th>\n",
       "      <td>1.0</td>\n",
       "      <td>0.855952</td>\n",
       "      <td>-1.278796</td>\n",
       "      <td>0.074444</td>\n",
       "      <td>-2.692247</td>\n",
       "      <td>0.359307</td>\n",
       "      <td>1</td>\n",
       "      <td>True</td>\n",
       "      <td>0.837560</td>\n",
       "    </tr>\n",
       "    <tr>\n",
       "      <th>9997</th>\n",
       "      <td>1.0</td>\n",
       "      <td>0.171361</td>\n",
       "      <td>-0.624739</td>\n",
       "      <td>0.036692</td>\n",
       "      <td>-0.991557</td>\n",
       "      <td>0.368348</td>\n",
       "      <td>0</td>\n",
       "      <td>False</td>\n",
       "      <td>-0.317172</td>\n",
       "    </tr>\n",
       "    <tr>\n",
       "      <th>9998</th>\n",
       "      <td>1.0</td>\n",
       "      <td>0.211336</td>\n",
       "      <td>-2.700463</td>\n",
       "      <td>-2.178967</td>\n",
       "      <td>-0.173142</td>\n",
       "      <td>1.013070</td>\n",
       "      <td>0</td>\n",
       "      <td>False</td>\n",
       "      <td>-1.323491</td>\n",
       "    </tr>\n",
       "    <tr>\n",
       "      <th>9999</th>\n",
       "      <td>1.0</td>\n",
       "      <td>0.626707</td>\n",
       "      <td>-3.416608</td>\n",
       "      <td>0.219203</td>\n",
       "      <td>0.502391</td>\n",
       "      <td>0.827246</td>\n",
       "      <td>2</td>\n",
       "      <td>True</td>\n",
       "      <td>2.063932</td>\n",
       "    </tr>\n",
       "  </tbody>\n",
       "</table>\n",
       "<p>10000 rows × 9 columns</p>\n",
       "</div>"
      ],
      "text/plain": [
       "       Z0        Z1        W0        W1        W2        W3 W4     v0  \\\n",
       "0     1.0  0.184793 -0.970631 -0.621598 -0.805306  1.421914  3   True   \n",
       "1     1.0  0.373074 -0.529402 -1.546144 -0.711542  2.622934  0   True   \n",
       "2     1.0  0.850538 -1.027590 -0.569593 -1.012563  2.085841  1   True   \n",
       "3     1.0  0.047369 -0.448865 -1.134848 -0.586668  1.013018  1   True   \n",
       "4     1.0  0.729434  0.060275 -1.162166 -2.604481  1.396082  3   True   \n",
       "...   ...       ...       ...       ...       ...       ... ..    ...   \n",
       "9995  1.0  0.433183 -0.324982  1.360589 -1.502567  0.404450  3   True   \n",
       "9996  1.0  0.855952 -1.278796  0.074444 -2.692247  0.359307  1   True   \n",
       "9997  1.0  0.171361 -0.624739  0.036692 -0.991557  0.368348  0  False   \n",
       "9998  1.0  0.211336 -2.700463 -2.178967 -0.173142  1.013070  0  False   \n",
       "9999  1.0  0.626707 -3.416608  0.219203  0.502391  0.827246  2   True   \n",
       "\n",
       "             y  \n",
       "0     3.035168  \n",
       "1     0.889912  \n",
       "2     1.629369  \n",
       "3     1.361913  \n",
       "4     2.596458  \n",
       "...        ...  \n",
       "9995  3.464997  \n",
       "9996  0.837560  \n",
       "9997 -0.317172  \n",
       "9998 -1.323491  \n",
       "9999  2.063932  \n",
       "\n",
       "[10000 rows x 9 columns]"
      ]
     },
     "execution_count": 3,
     "metadata": {},
     "output_type": "execute_result"
    }
   ],
   "source": [
    "data = dowhy.datasets.linear_dataset(beta=1,\n",
    "        num_common_causes=5, \n",
    "        num_instruments = 2,\n",
    "        num_treatments=1,\n",
    "        num_discrete_common_causes=1,\n",
    "        num_samples=10000,\n",
    "        treatment_is_binary=True,\n",
    "        outcome_is_binary=False)\n",
    "df = data[\"df\"]\n",
    "print(df[df.v0==True].shape[0])\n",
    "df"
   ]
  },
  {
   "cell_type": "markdown",
   "id": "e53873dc",
   "metadata": {},
   "source": [
    "Note that we are using a pandas dataframe to load the data."
   ]
  },
  {
   "cell_type": "markdown",
   "id": "91fc85ce",
   "metadata": {},
   "source": [
    "## Identifying the causal estimand"
   ]
  },
  {
   "cell_type": "markdown",
   "id": "55d512d8",
   "metadata": {},
   "source": [
    "We now input a causal graph in the GML graph format."
   ]
  },
  {
   "cell_type": "code",
   "execution_count": 4,
   "id": "ab8dfea0",
   "metadata": {
    "execution": {
     "iopub.execute_input": "2022-08-08T05:57:43.880585Z",
     "iopub.status.busy": "2022-08-08T05:57:43.880296Z",
     "iopub.status.idle": "2022-08-08T05:57:43.910995Z",
     "shell.execute_reply": "2022-08-08T05:57:43.910283Z"
    }
   },
   "outputs": [],
   "source": [
    "# With graph\n",
    "model=CausalModel(\n",
    "        data = df,\n",
    "        treatment=data[\"treatment_name\"],\n",
    "        outcome=data[\"outcome_name\"],\n",
    "        graph=data[\"gml_graph\"],\n",
    "        instruments=data[\"instrument_names\"]\n",
    "        )"
   ]
  },
  {
   "cell_type": "code",
   "execution_count": 5,
   "id": "cd559619",
   "metadata": {
    "execution": {
     "iopub.execute_input": "2022-08-08T05:57:43.914886Z",
     "iopub.status.busy": "2022-08-08T05:57:43.914604Z",
     "iopub.status.idle": "2022-08-08T05:57:43.985386Z",
     "shell.execute_reply": "2022-08-08T05:57:43.984587Z"
    }
   },
   "outputs": [],
   "source": [
    "model.view_model()"
   ]
  },
  {
   "cell_type": "code",
   "execution_count": 6,
   "id": "f651d047",
   "metadata": {
    "execution": {
     "iopub.execute_input": "2022-08-08T05:57:43.990242Z",
     "iopub.status.busy": "2022-08-08T05:57:43.989494Z",
     "iopub.status.idle": "2022-08-08T05:57:44.021436Z",
     "shell.execute_reply": "2022-08-08T05:57:44.020621Z"
    }
   },
   "outputs": [
    {
     "data": {
      "image/png": "[encoded data removed]",
      "text/plain": [
       "<IPython.core.display.Image object>"
      ]
     },
     "metadata": {},
     "output_type": "display_data"
    }
   ],
   "source": [
    "from IPython.display import Image, display\n",
    "display(Image(filename=\"causal_model.png\"))"
   ]
  },
  {
   "cell_type": "markdown",
   "id": "b511e760",
   "metadata": {},
   "source": [
    "We get a causal graph. Now identification and estimation is done."
   ]
  },
  {
   "cell_type": "code",
   "execution_count": 7,
   "id": "d14df7f2",
   "metadata": {
    "execution": {
     "iopub.execute_input": "2022-08-08T05:57:44.025460Z",
     "iopub.status.busy": "2022-08-08T05:57:44.024764Z",
     "iopub.status.idle": "2022-08-08T05:57:44.303150Z",
     "shell.execute_reply": "2022-08-08T05:57:44.302034Z"
    }
   },
   "outputs": [
    {
     "name": "stdout",
     "output_type": "stream",
     "text": [
      "Estimand type: nonparametric-ate\n",
      "\n",
      "### Estimand : 1\n",
      "Estimand name: backdoor\n",
      "Estimand expression:\n",
      "  d                       \n",
      "─────(E[y|W4,W0,W1,W3,W2])\n",
      "d[v₀]                     \n",
      "Estimand assumption 1, Unconfoundedness: If U→{v0} and U→y then P(y|v0,W4,W0,W1,W3,W2,U) = P(y|v0,W4,W0,W1,W3,W2)\n",
      "\n",
      "### Estimand : 2\n",
      "Estimand name: iv\n",
      "Estimand expression:\n",
      " ⎡                              -1⎤\n",
      " ⎢    d        ⎛    d          ⎞  ⎥\n",
      "E⎢─────────(y)⋅⎜─────────([v₀])⎟  ⎥\n",
      " ⎣d[Z₁  Z₀]    ⎝d[Z₁  Z₀]      ⎠  ⎦\n",
      "Estimand assumption 1, As-if-random: If U→→y then ¬(U →→{Z1,Z0})\n",
      "Estimand assumption 2, Exclusion: If we remove {Z1,Z0}→{v0}, then ¬({Z1,Z0}→y)\n",
      "\n",
      "### Estimand : 3\n",
      "Estimand name: frontdoor\n",
      "No such variable(s) found!\n",
      "\n"
     ]
    }
   ],
   "source": [
    "identified_estimand = model.identify_effect(proceed_when_unidentifiable=True)\n",
    "print(identified_estimand)"
   ]
  },
  {
   "cell_type": "markdown",
   "id": "a9ee4bb2",
   "metadata": {},
   "source": [
    "## Method 1: Propensity Score Stratification\n",
    "\n",
    "We will be using propensity scores to stratify units in the data."
   ]
  },
  {
   "cell_type": "code",
   "execution_count": 8,
   "id": "f8f96768",
   "metadata": {
    "execution": {
     "iopub.execute_input": "2022-08-08T05:57:44.308144Z",
     "iopub.status.busy": "2022-08-08T05:57:44.307333Z",
     "iopub.status.idle": "2022-08-08T05:57:45.279238Z",
     "shell.execute_reply": "2022-08-08T05:57:45.277982Z"
    }
   },
   "outputs": [
    {
     "name": "stdout",
     "output_type": "stream",
     "text": [
      "propensity_score_stratification\n"
     ]
    },
    {
     "name": "stderr",
     "output_type": "stream",
     "text": [
      "/usr/local/lib/python3.8/dist-packages/sklearn/utils/validation.py:993: DataConversionWarning: A column-vector y was passed when a 1d array was expected. Please change the shape of y to (n_samples, ), for example using ravel().\n",
      "  y = column_or_1d(y, warn=True)\n"
     ]
    },
    {
     "name": "stdout",
     "output_type": "stream",
     "text": [
      "*** Causal Estimate ***\n",
      "\n",
      "## Identified estimand\n",
      "Estimand type: nonparametric-ate\n",
      "\n",
      "### Estimand : 1\n",
      "Estimand name: backdoor\n",
      "Estimand expression:\n",
      "  d                       \n",
      "─────(E[y|W4,W0,W1,W3,W2])\n",
      "d[v₀]                     \n",
      "Estimand assumption 1, Unconfoundedness: If U→{v0} and U→y then P(y|v0,W4,W0,W1,W3,W2,U) = P(y|v0,W4,W0,W1,W3,W2)\n",
      "\n",
      "## Realized estimand\n",
      "b: y~v0+W4+W0+W1+W3+W2\n",
      "Target units: att\n",
      "\n",
      "## Estimate\n",
      "Mean value: 0.9852976468506698\n",
      "\n",
      "Causal Estimate is 0.9852976468506698\n"
     ]
    }
   ],
   "source": [
    "causal_estimate_strat = model.estimate_effect(identified_estimand,\n",
    "                                              method_name=\"backdoor.propensity_score_stratification\",\n",
    "                                              target_units=\"att\")\n",
    "print(causal_estimate_strat)\n",
    "print(\"Causal Estimate is \" + str(causal_estimate_strat.value))"
   ]
  },
  {
   "cell_type": "markdown",
   "id": "d3db645f",
   "metadata": {},
   "source": [
    "### Textual Interpreter\n",
    "\n",
    "The textual Interpreter describes (in words) the effect of unit change in the treatment variable on the outcome variable."
   ]
  },
  {
   "cell_type": "code",
   "execution_count": 9,
   "id": "8f4768cb",
   "metadata": {
    "execution": {
     "iopub.execute_input": "2022-08-08T05:57:45.283396Z",
     "iopub.status.busy": "2022-08-08T05:57:45.282940Z",
     "iopub.status.idle": "2022-08-08T05:57:45.312626Z",
     "shell.execute_reply": "2022-08-08T05:57:45.311856Z"
    }
   },
   "outputs": [
    {
     "name": "stdout",
     "output_type": "stream",
     "text": [
      "Increasing the treatment variable(s) [v0] from 0 to 1 causes an increase of 0.9852976468506698 in the expected value of the outcome [y], over the data distribution/population represented by the dataset.\n"
     ]
    }
   ],
   "source": [
    "# Textual Interpreter\n",
    "interpretation = causal_estimate_strat.interpret(method_name=\"textual_effect_interpreter\")"
   ]
  },
  {
   "cell_type": "markdown",
   "id": "3f4e28af",
   "metadata": {},
   "source": [
    "### Visual Interpreter\n",
    "\n",
    "The visual interpreter plots the change in the standardized mean difference (SMD) before and after Propensity Score based adjustment of the dataset. The formula for SMD is given below.\n",
    "\n",
    "\n",
    "$SMD = \\frac{\\bar X_{1} - \\bar X_{2}}{\\sqrt{(S_{1}^{2} + S_{2}^{2})/2}}$\n",
    "\n",
    "Here, $\\bar X_{1}$ and $\\bar X_{2}$ are the sample mean for the treated and control groups.\n"
   ]
  },
  {
   "cell_type": "code",
   "execution_count": 10,
   "id": "0a4356fd",
   "metadata": {
    "execution": {
     "iopub.execute_input": "2022-08-08T05:57:45.316534Z",
     "iopub.status.busy": "2022-08-08T05:57:45.315994Z",
     "iopub.status.idle": "2022-08-08T05:57:46.619594Z",
     "shell.execute_reply": "2022-08-08T05:57:46.618706Z"
    }
   },
   "outputs": [
    {
     "data": {
      "image/png": "[encoded data removed]",
      "text/plain": [
       "<Figure size 432x288 with 1 Axes>"
      ]
     },
     "metadata": {
      "needs_background": "light"
     },
     "output_type": "display_data"
    }
   ],
   "source": [
    "# Visual Interpreter\n",
    "interpretation = causal_estimate_strat.interpret(method_name=\"propensity_balance_interpreter\")"
   ]
  },
  {
   "cell_type": "markdown",
   "id": "f516bf11",
   "metadata": {},
   "source": [
    "This plot shows how the SMD decreases from the unadjusted to the stratified units. "
   ]
  },
  {
   "cell_type": "markdown",
   "id": "6ffed1fc",
   "metadata": {},
   "source": [
    "## Method 2: Propensity Score Matching\n",
    "\n",
    "We will be using propensity scores to match units in the data."
   ]
  },
  {
   "cell_type": "code",
   "execution_count": 11,
   "id": "2affb5ec",
   "metadata": {
    "execution": {
     "iopub.execute_input": "2022-08-08T05:57:46.624343Z",
     "iopub.status.busy": "2022-08-08T05:57:46.623677Z",
     "iopub.status.idle": "2022-08-08T05:57:52.011676Z",
     "shell.execute_reply": "2022-08-08T05:57:52.010439Z"
    }
   },
   "outputs": [
    {
     "name": "stdout",
     "output_type": "stream",
     "text": [
      "propensity_score_matching\n"
     ]
    },
    {
     "name": "stderr",
     "output_type": "stream",
     "text": [
      "/usr/local/lib/python3.8/dist-packages/sklearn/utils/validation.py:993: DataConversionWarning: A column-vector y was passed when a 1d array was expected. Please change the shape of y to (n_samples, ), for example using ravel().\n",
      "  y = column_or_1d(y, warn=True)\n"
     ]
    },
    {
     "name": "stdout",
     "output_type": "stream",
     "text": [
      "*** Causal Estimate ***\n",
      "\n",
      "## Identified estimand\n",
      "Estimand type: nonparametric-ate\n",
      "\n",
      "### Estimand : 1\n",
      "Estimand name: backdoor\n",
      "Estimand expression:\n",
      "  d                       \n",
      "─────(E[y|W4,W0,W1,W3,W2])\n",
      "d[v₀]                     \n",
      "Estimand assumption 1, Unconfoundedness: If U→{v0} and U→y then P(y|v0,W4,W0,W1,W3,W2,U) = P(y|v0,W4,W0,W1,W3,W2)\n",
      "\n",
      "## Realized estimand\n",
      "b: y~v0+W4+W0+W1+W3+W2\n",
      "Target units: atc\n",
      "\n",
      "## Estimate\n",
      "Mean value: 0.9751068079629424\n",
      "\n",
      "Causal Estimate is 0.9751068079629424\n"
     ]
    }
   ],
   "source": [
    "causal_estimate_match = model.estimate_effect(identified_estimand,\n",
    "                                              method_name=\"backdoor.propensity_score_matching\",\n",
    "                                              target_units=\"atc\")\n",
    "print(causal_estimate_match)\n",
    "print(\"Causal Estimate is \" + str(causal_estimate_match.value))"
   ]
  },
  {
   "cell_type": "code",
   "execution_count": 12,
   "id": "cca683a0",
   "metadata": {
    "execution": {
     "iopub.execute_input": "2022-08-08T05:57:52.015713Z",
     "iopub.status.busy": "2022-08-08T05:57:52.015253Z",
     "iopub.status.idle": "2022-08-08T05:57:52.046882Z",
     "shell.execute_reply": "2022-08-08T05:57:52.045905Z"
    }
   },
   "outputs": [
    {
     "name": "stdout",
     "output_type": "stream",
     "text": [
      "Increasing the treatment variable(s) [v0] from 0 to 1 causes an increase of 0.9751068079629424 in the expected value of the outcome [y], over the data distribution/population represented by the dataset.\n"
     ]
    }
   ],
   "source": [
    "# Textual Interpreter\n",
    "interpretation = causal_estimate_match.interpret(method_name=\"textual_effect_interpreter\")"
   ]
  },
  {
   "cell_type": "markdown",
   "id": "bf9eb311",
   "metadata": {},
   "source": [
    "Cannot use propensity balance interpretor here since the interpreter method only supports propensity score stratification estimator."
   ]
  },
  {
   "cell_type": "markdown",
   "id": "95a2d1bc",
   "metadata": {},
   "source": [
    "## Method 3: Weighting\n",
    "\n",
    "We will be using (inverse) propensity scores to assign weights to units in the data. DoWhy supports a few different weighting schemes:\n",
    "1. Vanilla Inverse Propensity Score weighting (IPS) (weighting_scheme=\"ips_weight\")\n",
    "2. Self-normalized IPS weighting (also known as the Hajek estimator) (weighting_scheme=\"ips_normalized_weight\")\n",
    "3. Stabilized IPS weighting (weighting_scheme = \"ips_stabilized_weight\")"
   ]
  },
  {
   "cell_type": "code",
   "execution_count": 13,
   "id": "95a9ebac",
   "metadata": {
    "execution": {
     "iopub.execute_input": "2022-08-08T05:57:52.051295Z",
     "iopub.status.busy": "2022-08-08T05:57:52.050584Z",
     "iopub.status.idle": "2022-08-08T05:57:52.130460Z",
     "shell.execute_reply": "2022-08-08T05:57:52.128720Z"
    }
   },
   "outputs": [
    {
     "name": "stdout",
     "output_type": "stream",
     "text": [
      "propensity_score_weighting\n",
      "*** Causal Estimate ***\n",
      "\n",
      "## Identified estimand\n",
      "Estimand type: nonparametric-ate\n",
      "\n",
      "### Estimand : 1\n",
      "Estimand name: backdoor\n",
      "Estimand expression:\n",
      "  d                       \n",
      "─────(E[y|W4,W0,W1,W3,W2])\n",
      "d[v₀]                     \n",
      "Estimand assumption 1, Unconfoundedness: If U→{v0} and U→y then P(y|v0,W4,W0,W1,W3,W2,U) = P(y|v0,W4,W0,W1,W3,W2)\n",
      "\n",
      "## Realized estimand\n",
      "b: y~v0+W4+W0+W1+W3+W2\n",
      "Target units: ate\n",
      "\n",
      "## Estimate\n",
      "Mean value: 1.2117171780722598\n",
      "\n",
      "Causal Estimate is 1.2117171780722598\n"
     ]
    },
    {
     "name": "stderr",
     "output_type": "stream",
     "text": [
      "/usr/local/lib/python3.8/dist-packages/sklearn/utils/validation.py:993: DataConversionWarning: A column-vector y was passed when a 1d array was expected. Please change the shape of y to (n_samples, ), for example using ravel().\n",
      "  y = column_or_1d(y, warn=True)\n"
     ]
    }
   ],
   "source": [
    "causal_estimate_ipw = model.estimate_effect(identified_estimand,\n",
    "                                            method_name=\"backdoor.propensity_score_weighting\",\n",
    "                                            target_units = \"ate\",\n",
    "                                            method_params={\"weighting_scheme\":\"ips_weight\"})\n",
    "print(causal_estimate_ipw)\n",
    "print(\"Causal Estimate is \" + str(causal_estimate_ipw.value))"
   ]
  },
  {
   "cell_type": "code",
   "execution_count": 14,
   "id": "ed1da0cb",
   "metadata": {
    "execution": {
     "iopub.execute_input": "2022-08-08T05:57:52.133927Z",
     "iopub.status.busy": "2022-08-08T05:57:52.133568Z",
     "iopub.status.idle": "2022-08-08T05:57:52.168253Z",
     "shell.execute_reply": "2022-08-08T05:57:52.167592Z"
    }
   },
   "outputs": [
    {
     "name": "stdout",
     "output_type": "stream",
     "text": [
      "Increasing the treatment variable(s) [v0] from 0 to 1 causes an increase of 1.2117171780722598 in the expected value of the outcome [y], over the data distribution/population represented by the dataset.\n"
     ]
    }
   ],
   "source": [
    "# Textual Interpreter\n",
    "interpretation = causal_estimate_ipw.interpret(method_name=\"textual_effect_interpreter\")"
   ]
  },
  {
   "cell_type": "code",
   "execution_count": 15,
   "id": "eab42bc9",
   "metadata": {
    "execution": {
     "iopub.execute_input": "2022-08-08T05:57:52.173210Z",
     "iopub.status.busy": "2022-08-08T05:57:52.171936Z",
     "iopub.status.idle": "2022-08-08T05:57:52.465453Z",
     "shell.execute_reply": "2022-08-08T05:57:52.464184Z"
    }
   },
   "outputs": [
    {
     "data": {
      "image/png": "[encoded data removed]",
      "text/plain": [
       "<Figure size 576x576 with 2 Axes>"
      ]
     },
     "metadata": {
      "needs_background": "light"
     },
     "output_type": "display_data"
    }
   ],
   "source": [
    "interpretation = causal_estimate_ipw.interpret(method_name=\"confounder_distribution_interpreter\", fig_size=(8,8), font_size=12, var_name='W4', var_type='discrete')"
   ]
  },
  {
   "cell_type": "code",
   "execution_count": null,
   "id": "29933191",
   "metadata": {},
   "outputs": [],
   "source": []
  }
 ],
 "metadata": {
  "kernelspec": {
   "display_name": "Python 3",
   "language": "python",
   "name": "python3"
  },
  "language_info": {
   "codemirror_mode": {
    "name": "ipython",
    "version": 3
   },
   "file_extension": ".py",
   "mimetype": "text/x-python",
   "name": "python",
   "nbconvert_exporter": "python",
   "pygments_lexer": "ipython3",
   "version": "3.8.10"
  },
  "toc": {
   "base_numbering": 1,
   "nav_menu": {},
   "number_sections": false,
   "sideBar": true,
   "skip_h1_title": true,
   "title_cell": "Table of Contents",
   "title_sidebar": "Contents",
   "toc_cell": false,
   "toc_position": {},
   "toc_section_display": true,
   "toc_window_display": false
  }
 },
 "nbformat": 4,
 "nbformat_minor": 5
}
