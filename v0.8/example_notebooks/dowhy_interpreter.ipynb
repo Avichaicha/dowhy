{
 "cells": [
  {
   "cell_type": "markdown",
   "id": "71b79fb3",
   "metadata": {},
   "source": [
    "# DoWhy: Interpreters for Causal Estimators\n",
    "\n",
    "This is a quick introduction to the use of interpreters in the DoWhy causal inference library.\n",
    "We will load in a sample dataset, use different methods for estimating the causal effect of a (pre-specified)treatment variable on a (pre-specified) outcome variable and demonstrate how to interpret the obtained results.\n",
    "\n",
    "First, let us add the required path for Python to find the DoWhy code and load all required packages"
   ]
  },
  {
   "cell_type": "code",
   "execution_count": 1,
   "id": "af9aec3d",
   "metadata": {
    "execution": {
     "iopub.execute_input": "2022-07-28T11:35:20.560528Z",
     "iopub.status.busy": "2022-07-28T11:35:20.559581Z",
     "iopub.status.idle": "2022-07-28T11:35:20.579214Z",
     "shell.execute_reply": "2022-07-28T11:35:20.578471Z"
    }
   },
   "outputs": [],
   "source": [
    "%load_ext autoreload\n",
    "%autoreload 2"
   ]
  },
  {
   "cell_type": "code",
   "execution_count": 2,
   "id": "19d92fec",
   "metadata": {
    "execution": {
     "iopub.execute_input": "2022-07-28T11:35:20.583062Z",
     "iopub.status.busy": "2022-07-28T11:35:20.582638Z",
     "iopub.status.idle": "2022-07-28T11:35:21.805193Z",
     "shell.execute_reply": "2022-07-28T11:35:21.804150Z"
    }
   },
   "outputs": [
    {
     "name": "stdout",
     "output_type": "stream",
     "text": [
      "keywords are unexpanded, not using\n"
     ]
    }
   ],
   "source": [
    "import numpy as np\n",
    "import pandas as pd\n",
    "import logging\n",
    "\n",
    "import dowhy\n",
    "from dowhy import CausalModel\n",
    "import dowhy.datasets "
   ]
  },
  {
   "cell_type": "markdown",
   "id": "b726f468",
   "metadata": {},
   "source": [
    "Now, let us load a dataset. For simplicity, we simulate a dataset with linear relationships between common causes and treatment, and common causes and outcome.\n",
    "\n",
    "Beta is the true causal effect."
   ]
  },
  {
   "cell_type": "code",
   "execution_count": 3,
   "id": "d2c76c4a",
   "metadata": {
    "execution": {
     "iopub.execute_input": "2022-07-28T11:35:21.809896Z",
     "iopub.status.busy": "2022-07-28T11:35:21.809218Z",
     "iopub.status.idle": "2022-07-28T11:35:22.178401Z",
     "shell.execute_reply": "2022-07-28T11:35:22.177759Z"
    }
   },
   "outputs": [
    {
     "name": "stdout",
     "output_type": "stream",
     "text": [
      "8394\n"
     ]
    },
    {
     "data": {
      "text/html": [
       "<div>\n",
       "<style scoped>\n",
       "    .dataframe tbody tr th:only-of-type {\n",
       "        vertical-align: middle;\n",
       "    }\n",
       "\n",
       "    .dataframe tbody tr th {\n",
       "        vertical-align: top;\n",
       "    }\n",
       "\n",
       "    .dataframe thead th {\n",
       "        text-align: right;\n",
       "    }\n",
       "</style>\n",
       "<table border=\"1\" class=\"dataframe\">\n",
       "  <thead>\n",
       "    <tr style=\"text-align: right;\">\n",
       "      <th></th>\n",
       "      <th>Z0</th>\n",
       "      <th>Z1</th>\n",
       "      <th>W0</th>\n",
       "      <th>W1</th>\n",
       "      <th>W2</th>\n",
       "      <th>W3</th>\n",
       "      <th>W4</th>\n",
       "      <th>v0</th>\n",
       "      <th>y</th>\n",
       "    </tr>\n",
       "  </thead>\n",
       "  <tbody>\n",
       "    <tr>\n",
       "      <th>0</th>\n",
       "      <td>0.0</td>\n",
       "      <td>0.703592</td>\n",
       "      <td>-0.225590</td>\n",
       "      <td>-0.764692</td>\n",
       "      <td>-0.910302</td>\n",
       "      <td>0.001834</td>\n",
       "      <td>1</td>\n",
       "      <td>True</td>\n",
       "      <td>-0.236802</td>\n",
       "    </tr>\n",
       "    <tr>\n",
       "      <th>1</th>\n",
       "      <td>0.0</td>\n",
       "      <td>0.419924</td>\n",
       "      <td>-1.539046</td>\n",
       "      <td>-0.532040</td>\n",
       "      <td>1.103993</td>\n",
       "      <td>-0.727842</td>\n",
       "      <td>0</td>\n",
       "      <td>False</td>\n",
       "      <td>-1.200546</td>\n",
       "    </tr>\n",
       "    <tr>\n",
       "      <th>2</th>\n",
       "      <td>0.0</td>\n",
       "      <td>0.097639</td>\n",
       "      <td>0.237841</td>\n",
       "      <td>-1.370066</td>\n",
       "      <td>1.322165</td>\n",
       "      <td>0.248888</td>\n",
       "      <td>0</td>\n",
       "      <td>False</td>\n",
       "      <td>0.084992</td>\n",
       "    </tr>\n",
       "    <tr>\n",
       "      <th>3</th>\n",
       "      <td>1.0</td>\n",
       "      <td>0.528247</td>\n",
       "      <td>0.551271</td>\n",
       "      <td>-0.527725</td>\n",
       "      <td>1.859919</td>\n",
       "      <td>1.242551</td>\n",
       "      <td>3</td>\n",
       "      <td>False</td>\n",
       "      <td>2.235882</td>\n",
       "    </tr>\n",
       "    <tr>\n",
       "      <th>4</th>\n",
       "      <td>1.0</td>\n",
       "      <td>0.318963</td>\n",
       "      <td>2.139417</td>\n",
       "      <td>-1.174824</td>\n",
       "      <td>0.608376</td>\n",
       "      <td>-1.773671</td>\n",
       "      <td>2</td>\n",
       "      <td>True</td>\n",
       "      <td>0.306093</td>\n",
       "    </tr>\n",
       "    <tr>\n",
       "      <th>...</th>\n",
       "      <td>...</td>\n",
       "      <td>...</td>\n",
       "      <td>...</td>\n",
       "      <td>...</td>\n",
       "      <td>...</td>\n",
       "      <td>...</td>\n",
       "      <td>...</td>\n",
       "      <td>...</td>\n",
       "      <td>...</td>\n",
       "    </tr>\n",
       "    <tr>\n",
       "      <th>9995</th>\n",
       "      <td>1.0</td>\n",
       "      <td>0.607210</td>\n",
       "      <td>0.265691</td>\n",
       "      <td>-1.094489</td>\n",
       "      <td>0.933029</td>\n",
       "      <td>0.500516</td>\n",
       "      <td>2</td>\n",
       "      <td>True</td>\n",
       "      <td>1.412558</td>\n",
       "    </tr>\n",
       "    <tr>\n",
       "      <th>9996</th>\n",
       "      <td>0.0</td>\n",
       "      <td>0.696388</td>\n",
       "      <td>1.433522</td>\n",
       "      <td>0.310386</td>\n",
       "      <td>-0.264315</td>\n",
       "      <td>-0.746115</td>\n",
       "      <td>0</td>\n",
       "      <td>True</td>\n",
       "      <td>1.269499</td>\n",
       "    </tr>\n",
       "    <tr>\n",
       "      <th>9997</th>\n",
       "      <td>1.0</td>\n",
       "      <td>0.452292</td>\n",
       "      <td>-0.596357</td>\n",
       "      <td>1.422270</td>\n",
       "      <td>2.484963</td>\n",
       "      <td>0.351441</td>\n",
       "      <td>2</td>\n",
       "      <td>True</td>\n",
       "      <td>3.706840</td>\n",
       "    </tr>\n",
       "    <tr>\n",
       "      <th>9998</th>\n",
       "      <td>0.0</td>\n",
       "      <td>0.062764</td>\n",
       "      <td>0.614680</td>\n",
       "      <td>2.868558</td>\n",
       "      <td>0.562616</td>\n",
       "      <td>-1.039509</td>\n",
       "      <td>1</td>\n",
       "      <td>False</td>\n",
       "      <td>2.139405</td>\n",
       "    </tr>\n",
       "    <tr>\n",
       "      <th>9999</th>\n",
       "      <td>0.0</td>\n",
       "      <td>0.245388</td>\n",
       "      <td>-1.885661</td>\n",
       "      <td>-0.772779</td>\n",
       "      <td>0.473904</td>\n",
       "      <td>-0.109037</td>\n",
       "      <td>2</td>\n",
       "      <td>True</td>\n",
       "      <td>-0.328346</td>\n",
       "    </tr>\n",
       "  </tbody>\n",
       "</table>\n",
       "<p>10000 rows × 9 columns</p>\n",
       "</div>"
      ],
      "text/plain": [
       "       Z0        Z1        W0        W1        W2        W3 W4     v0  \\\n",
       "0     0.0  0.703592 -0.225590 -0.764692 -0.910302  0.001834  1   True   \n",
       "1     0.0  0.419924 -1.539046 -0.532040  1.103993 -0.727842  0  False   \n",
       "2     0.0  0.097639  0.237841 -1.370066  1.322165  0.248888  0  False   \n",
       "3     1.0  0.528247  0.551271 -0.527725  1.859919  1.242551  3  False   \n",
       "4     1.0  0.318963  2.139417 -1.174824  0.608376 -1.773671  2   True   \n",
       "...   ...       ...       ...       ...       ...       ... ..    ...   \n",
       "9995  1.0  0.607210  0.265691 -1.094489  0.933029  0.500516  2   True   \n",
       "9996  0.0  0.696388  1.433522  0.310386 -0.264315 -0.746115  0   True   \n",
       "9997  1.0  0.452292 -0.596357  1.422270  2.484963  0.351441  2   True   \n",
       "9998  0.0  0.062764  0.614680  2.868558  0.562616 -1.039509  1  False   \n",
       "9999  0.0  0.245388 -1.885661 -0.772779  0.473904 -0.109037  2   True   \n",
       "\n",
       "             y  \n",
       "0    -0.236802  \n",
       "1    -1.200546  \n",
       "2     0.084992  \n",
       "3     2.235882  \n",
       "4     0.306093  \n",
       "...        ...  \n",
       "9995  1.412558  \n",
       "9996  1.269499  \n",
       "9997  3.706840  \n",
       "9998  2.139405  \n",
       "9999 -0.328346  \n",
       "\n",
       "[10000 rows x 9 columns]"
      ]
     },
     "execution_count": 3,
     "metadata": {},
     "output_type": "execute_result"
    }
   ],
   "source": [
    "data = dowhy.datasets.linear_dataset(beta=1,\n",
    "        num_common_causes=5, \n",
    "        num_instruments = 2,\n",
    "        num_treatments=1,\n",
    "        num_discrete_common_causes=1,\n",
    "        num_samples=10000,\n",
    "        treatment_is_binary=True,\n",
    "        outcome_is_binary=False)\n",
    "df = data[\"df\"]\n",
    "print(df[df.v0==True].shape[0])\n",
    "df"
   ]
  },
  {
   "cell_type": "markdown",
   "id": "96a00566",
   "metadata": {},
   "source": [
    "Note that we are using a pandas dataframe to load the data."
   ]
  },
  {
   "cell_type": "markdown",
   "id": "3738d227",
   "metadata": {},
   "source": [
    "## Identifying the causal estimand"
   ]
  },
  {
   "cell_type": "markdown",
   "id": "8c207041",
   "metadata": {},
   "source": [
    "We now input a causal graph in the GML graph format."
   ]
  },
  {
   "cell_type": "code",
   "execution_count": 4,
   "id": "38dc3ccc",
   "metadata": {
    "execution": {
     "iopub.execute_input": "2022-07-28T11:35:22.182213Z",
     "iopub.status.busy": "2022-07-28T11:35:22.181637Z",
     "iopub.status.idle": "2022-07-28T11:35:22.209753Z",
     "shell.execute_reply": "2022-07-28T11:35:22.209071Z"
    }
   },
   "outputs": [],
   "source": [
    "# With graph\n",
    "model=CausalModel(\n",
    "        data = df,\n",
    "        treatment=data[\"treatment_name\"],\n",
    "        outcome=data[\"outcome_name\"],\n",
    "        graph=data[\"gml_graph\"],\n",
    "        instruments=data[\"instrument_names\"]\n",
    "        )"
   ]
  },
  {
   "cell_type": "code",
   "execution_count": 5,
   "id": "80e13fad",
   "metadata": {
    "execution": {
     "iopub.execute_input": "2022-07-28T11:35:22.214020Z",
     "iopub.status.busy": "2022-07-28T11:35:22.213305Z",
     "iopub.status.idle": "2022-07-28T11:35:22.275624Z",
     "shell.execute_reply": "2022-07-28T11:35:22.274875Z"
    }
   },
   "outputs": [],
   "source": [
    "model.view_model()"
   ]
  },
  {
   "cell_type": "code",
   "execution_count": 6,
   "id": "478e26cd",
   "metadata": {
    "execution": {
     "iopub.execute_input": "2022-07-28T11:35:22.279400Z",
     "iopub.status.busy": "2022-07-28T11:35:22.279103Z",
     "iopub.status.idle": "2022-07-28T11:35:22.306095Z",
     "shell.execute_reply": "2022-07-28T11:35:22.305443Z"
    }
   },
   "outputs": [
    {
     "data": {
      "image/png": "[encoded data removed]",
      "text/plain": [
       "<IPython.core.display.Image object>"
      ]
     },
     "metadata": {},
     "output_type": "display_data"
    }
   ],
   "source": [
    "from IPython.display import Image, display\n",
    "display(Image(filename=\"causal_model.png\"))"
   ]
  },
  {
   "cell_type": "markdown",
   "id": "b74150b0",
   "metadata": {},
   "source": [
    "We get a causal graph. Now identification and estimation is done."
   ]
  },
  {
   "cell_type": "code",
   "execution_count": 7,
   "id": "48a12303",
   "metadata": {
    "execution": {
     "iopub.execute_input": "2022-07-28T11:35:22.309630Z",
     "iopub.status.busy": "2022-07-28T11:35:22.309138Z",
     "iopub.status.idle": "2022-07-28T11:35:22.568671Z",
     "shell.execute_reply": "2022-07-28T11:35:22.567876Z"
    }
   },
   "outputs": [
    {
     "name": "stdout",
     "output_type": "stream",
     "text": [
      "Estimand type: nonparametric-ate\n",
      "\n",
      "### Estimand : 1\n",
      "Estimand name: backdoor\n",
      "Estimand expression:\n",
      "  d                       \n",
      "─────(E[y|W0,W4,W1,W3,W2])\n",
      "d[v₀]                     \n",
      "Estimand assumption 1, Unconfoundedness: If U→{v0} and U→y then P(y|v0,W0,W4,W1,W3,W2,U) = P(y|v0,W0,W4,W1,W3,W2)\n",
      "\n",
      "### Estimand : 2\n",
      "Estimand name: iv\n",
      "Estimand expression:\n",
      " ⎡                              -1⎤\n",
      " ⎢    d        ⎛    d          ⎞  ⎥\n",
      "E⎢─────────(y)⋅⎜─────────([v₀])⎟  ⎥\n",
      " ⎣d[Z₁  Z₀]    ⎝d[Z₁  Z₀]      ⎠  ⎦\n",
      "Estimand assumption 1, As-if-random: If U→→y then ¬(U →→{Z1,Z0})\n",
      "Estimand assumption 2, Exclusion: If we remove {Z1,Z0}→{v0}, then ¬({Z1,Z0}→y)\n",
      "\n",
      "### Estimand : 3\n",
      "Estimand name: frontdoor\n",
      "No such variable(s) found!\n",
      "\n"
     ]
    }
   ],
   "source": [
    "identified_estimand = model.identify_effect(proceed_when_unidentifiable=True)\n",
    "print(identified_estimand)"
   ]
  },
  {
   "cell_type": "markdown",
   "id": "40b37f01",
   "metadata": {},
   "source": [
    "## Method 1: Propensity Score Stratification\n",
    "\n",
    "We will be using propensity scores to stratify units in the data."
   ]
  },
  {
   "cell_type": "code",
   "execution_count": 8,
   "id": "1eb8edde",
   "metadata": {
    "execution": {
     "iopub.execute_input": "2022-07-28T11:35:22.572870Z",
     "iopub.status.busy": "2022-07-28T11:35:22.572237Z",
     "iopub.status.idle": "2022-07-28T11:35:23.411967Z",
     "shell.execute_reply": "2022-07-28T11:35:23.411299Z"
    }
   },
   "outputs": [
    {
     "name": "stdout",
     "output_type": "stream",
     "text": [
      "propensity_score_stratification\n"
     ]
    },
    {
     "name": "stderr",
     "output_type": "stream",
     "text": [
      "/usr/local/lib/python3.8/dist-packages/sklearn/utils/validation.py:993: DataConversionWarning: A column-vector y was passed when a 1d array was expected. Please change the shape of y to (n_samples, ), for example using ravel().\n",
      "  y = column_or_1d(y, warn=True)\n"
     ]
    },
    {
     "name": "stdout",
     "output_type": "stream",
     "text": [
      "*** Causal Estimate ***\n",
      "\n",
      "## Identified estimand\n",
      "Estimand type: nonparametric-ate\n",
      "\n",
      "### Estimand : 1\n",
      "Estimand name: backdoor\n",
      "Estimand expression:\n",
      "  d                       \n",
      "─────(E[y|W0,W4,W1,W3,W2])\n",
      "d[v₀]                     \n",
      "Estimand assumption 1, Unconfoundedness: If U→{v0} and U→y then P(y|v0,W0,W4,W1,W3,W2,U) = P(y|v0,W0,W4,W1,W3,W2)\n",
      "\n",
      "## Realized estimand\n",
      "b: y~v0+W0+W4+W1+W3+W2\n",
      "Target units: att\n",
      "\n",
      "## Estimate\n",
      "Mean value: 1.0350321135070542\n",
      "\n",
      "Causal Estimate is 1.0350321135070542\n"
     ]
    }
   ],
   "source": [
    "causal_estimate_strat = model.estimate_effect(identified_estimand,\n",
    "                                              method_name=\"backdoor.propensity_score_stratification\",\n",
    "                                              target_units=\"att\")\n",
    "print(causal_estimate_strat)\n",
    "print(\"Causal Estimate is \" + str(causal_estimate_strat.value))"
   ]
  },
  {
   "cell_type": "markdown",
   "id": "7bc6751a",
   "metadata": {},
   "source": [
    "### Textual Interpreter\n",
    "\n",
    "The textual Interpreter describes (in words) the effect of unit change in the treatment variable on the outcome variable."
   ]
  },
  {
   "cell_type": "code",
   "execution_count": 9,
   "id": "6dacb122",
   "metadata": {
    "execution": {
     "iopub.execute_input": "2022-07-28T11:35:23.415565Z",
     "iopub.status.busy": "2022-07-28T11:35:23.415294Z",
     "iopub.status.idle": "2022-07-28T11:35:23.441333Z",
     "shell.execute_reply": "2022-07-28T11:35:23.440512Z"
    }
   },
   "outputs": [
    {
     "name": "stdout",
     "output_type": "stream",
     "text": [
      "Increasing the treatment variable(s) [v0] from 0 to 1 causes an increase of 1.0350321135070542 in the expected value of the outcome [y], over the data distribution/population represented by the dataset.\n"
     ]
    }
   ],
   "source": [
    "# Textual Interpreter\n",
    "interpretation = causal_estimate_strat.interpret(method_name=\"textual_effect_interpreter\")"
   ]
  },
  {
   "cell_type": "markdown",
   "id": "ac5b8e87",
   "metadata": {},
   "source": [
    "### Visual Interpreter\n",
    "\n",
    "The visual interpreter plots the change in the standardized mean difference (SMD) before and after Propensity Score based adjustment of the dataset. The formula for SMD is given below.\n",
    "\n",
    "\n",
    "$SMD = \\frac{\\bar X_{1} - \\bar X_{2}}{\\sqrt{(S_{1}^{2} + S_{2}^{2})/2}}$\n",
    "\n",
    "Here, $\\bar X_{1}$ and $\\bar X_{2}$ are the sample mean for the treated and control groups.\n"
   ]
  },
  {
   "cell_type": "code",
   "execution_count": 10,
   "id": "d0467acc",
   "metadata": {
    "execution": {
     "iopub.execute_input": "2022-07-28T11:35:23.444783Z",
     "iopub.status.busy": "2022-07-28T11:35:23.444366Z",
     "iopub.status.idle": "2022-07-28T11:35:24.906231Z",
     "shell.execute_reply": "2022-07-28T11:35:24.905497Z"
    }
   },
   "outputs": [
    {
     "data": {
      "image/png": "[encoded data removed]",
      "text/plain": [
       "<Figure size 432x288 with 1 Axes>"
      ]
     },
     "metadata": {
      "needs_background": "light"
     },
     "output_type": "display_data"
    }
   ],
   "source": [
    "# Visual Interpreter\n",
    "interpretation = causal_estimate_strat.interpret(method_name=\"propensity_balance_interpreter\")"
   ]
  },
  {
   "cell_type": "markdown",
   "id": "47a04863",
   "metadata": {},
   "source": [
    "This plot shows how the SMD decreases from the unadjusted to the stratified units. "
   ]
  },
  {
   "cell_type": "markdown",
   "id": "a5cde10e",
   "metadata": {},
   "source": [
    "## Method 2: Propensity Score Matching\n",
    "\n",
    "We will be using propensity scores to match units in the data."
   ]
  },
  {
   "cell_type": "code",
   "execution_count": 11,
   "id": "e3e1a67d",
   "metadata": {
    "execution": {
     "iopub.execute_input": "2022-07-28T11:35:24.910569Z",
     "iopub.status.busy": "2022-07-28T11:35:24.909940Z",
     "iopub.status.idle": "2022-07-28T11:35:29.743387Z",
     "shell.execute_reply": "2022-07-28T11:35:29.741977Z"
    }
   },
   "outputs": [
    {
     "name": "stdout",
     "output_type": "stream",
     "text": [
      "propensity_score_matching\n"
     ]
    },
    {
     "name": "stderr",
     "output_type": "stream",
     "text": [
      "/usr/local/lib/python3.8/dist-packages/sklearn/utils/validation.py:993: DataConversionWarning: A column-vector y was passed when a 1d array was expected. Please change the shape of y to (n_samples, ), for example using ravel().\n",
      "  y = column_or_1d(y, warn=True)\n"
     ]
    },
    {
     "name": "stdout",
     "output_type": "stream",
     "text": [
      "*** Causal Estimate ***\n",
      "\n",
      "## Identified estimand\n",
      "Estimand type: nonparametric-ate\n",
      "\n",
      "### Estimand : 1\n",
      "Estimand name: backdoor\n",
      "Estimand expression:\n",
      "  d                       \n",
      "─────(E[y|W0,W4,W1,W3,W2])\n",
      "d[v₀]                     \n",
      "Estimand assumption 1, Unconfoundedness: If U→{v0} and U→y then P(y|v0,W0,W4,W1,W3,W2,U) = P(y|v0,W0,W4,W1,W3,W2)\n",
      "\n",
      "## Realized estimand\n",
      "b: y~v0+W0+W4+W1+W3+W2\n",
      "Target units: atc\n",
      "\n",
      "## Estimate\n",
      "Mean value: 0.9555380419128299\n",
      "\n",
      "Causal Estimate is 0.9555380419128299\n"
     ]
    }
   ],
   "source": [
    "causal_estimate_match = model.estimate_effect(identified_estimand,\n",
    "                                              method_name=\"backdoor.propensity_score_matching\",\n",
    "                                              target_units=\"atc\")\n",
    "print(causal_estimate_match)\n",
    "print(\"Causal Estimate is \" + str(causal_estimate_match.value))"
   ]
  },
  {
   "cell_type": "code",
   "execution_count": 12,
   "id": "28334c86",
   "metadata": {
    "execution": {
     "iopub.execute_input": "2022-07-28T11:35:29.746971Z",
     "iopub.status.busy": "2022-07-28T11:35:29.746694Z",
     "iopub.status.idle": "2022-07-28T11:35:29.776426Z",
     "shell.execute_reply": "2022-07-28T11:35:29.775565Z"
    }
   },
   "outputs": [
    {
     "name": "stdout",
     "output_type": "stream",
     "text": [
      "Increasing the treatment variable(s) [v0] from 0 to 1 causes an increase of 0.9555380419128299 in the expected value of the outcome [y], over the data distribution/population represented by the dataset.\n"
     ]
    }
   ],
   "source": [
    "# Textual Interpreter\n",
    "interpretation = causal_estimate_match.interpret(method_name=\"textual_effect_interpreter\")"
   ]
  },
  {
   "cell_type": "markdown",
   "id": "7e1d55b3",
   "metadata": {},
   "source": [
    "Cannot use propensity balance interpretor here since the interpreter method only supports propensity score stratification estimator."
   ]
  },
  {
   "cell_type": "markdown",
   "id": "0b880d16",
   "metadata": {},
   "source": [
    "## Method 3: Weighting\n",
    "\n",
    "We will be using (inverse) propensity scores to assign weights to units in the data. DoWhy supports a few different weighting schemes:\n",
    "1. Vanilla Inverse Propensity Score weighting (IPS) (weighting_scheme=\"ips_weight\")\n",
    "2. Self-normalized IPS weighting (also known as the Hajek estimator) (weighting_scheme=\"ips_normalized_weight\")\n",
    "3. Stabilized IPS weighting (weighting_scheme = \"ips_stabilized_weight\")"
   ]
  },
  {
   "cell_type": "code",
   "execution_count": 13,
   "id": "6f511f56",
   "metadata": {
    "execution": {
     "iopub.execute_input": "2022-07-28T11:35:29.780570Z",
     "iopub.status.busy": "2022-07-28T11:35:29.779930Z",
     "iopub.status.idle": "2022-07-28T11:35:29.851376Z",
     "shell.execute_reply": "2022-07-28T11:35:29.850627Z"
    }
   },
   "outputs": [
    {
     "name": "stdout",
     "output_type": "stream",
     "text": [
      "propensity_score_weighting\n",
      "*** Causal Estimate ***\n",
      "\n",
      "## Identified estimand\n",
      "Estimand type: nonparametric-ate\n",
      "\n",
      "### Estimand : 1\n",
      "Estimand name: backdoor\n",
      "Estimand expression:\n",
      "  d                       \n",
      "─────(E[y|W0,W4,W1,W3,W2])\n",
      "d[v₀]                     \n",
      "Estimand assumption 1, Unconfoundedness: If U→{v0} and U→y then P(y|v0,W0,W4,W1,W3,W2,U) = P(y|v0,W0,W4,W1,W3,W2)\n",
      "\n",
      "## Realized estimand\n",
      "b: y~v0+W0+W4+W1+W3+W2\n",
      "Target units: ate\n",
      "\n",
      "## Estimate\n",
      "Mean value: 1.0176043584480252\n",
      "\n",
      "Causal Estimate is 1.0176043584480252\n"
     ]
    },
    {
     "name": "stderr",
     "output_type": "stream",
     "text": [
      "/usr/local/lib/python3.8/dist-packages/sklearn/utils/validation.py:993: DataConversionWarning: A column-vector y was passed when a 1d array was expected. Please change the shape of y to (n_samples, ), for example using ravel().\n",
      "  y = column_or_1d(y, warn=True)\n"
     ]
    }
   ],
   "source": [
    "causal_estimate_ipw = model.estimate_effect(identified_estimand,\n",
    "                                            method_name=\"backdoor.propensity_score_weighting\",\n",
    "                                            target_units = \"ate\",\n",
    "                                            method_params={\"weighting_scheme\":\"ips_weight\"})\n",
    "print(causal_estimate_ipw)\n",
    "print(\"Causal Estimate is \" + str(causal_estimate_ipw.value))"
   ]
  },
  {
   "cell_type": "code",
   "execution_count": 14,
   "id": "486b2086",
   "metadata": {
    "execution": {
     "iopub.execute_input": "2022-07-28T11:35:29.855500Z",
     "iopub.status.busy": "2022-07-28T11:35:29.854902Z",
     "iopub.status.idle": "2022-07-28T11:35:29.883935Z",
     "shell.execute_reply": "2022-07-28T11:35:29.883244Z"
    }
   },
   "outputs": [
    {
     "name": "stdout",
     "output_type": "stream",
     "text": [
      "Increasing the treatment variable(s) [v0] from 0 to 1 causes an increase of 1.0176043584480252 in the expected value of the outcome [y], over the data distribution/population represented by the dataset.\n"
     ]
    }
   ],
   "source": [
    "# Textual Interpreter\n",
    "interpretation = causal_estimate_ipw.interpret(method_name=\"textual_effect_interpreter\")"
   ]
  },
  {
   "cell_type": "code",
   "execution_count": 15,
   "id": "85273361",
   "metadata": {
    "execution": {
     "iopub.execute_input": "2022-07-28T11:35:29.887455Z",
     "iopub.status.busy": "2022-07-28T11:35:29.887087Z",
     "iopub.status.idle": "2022-07-28T11:35:30.163611Z",
     "shell.execute_reply": "2022-07-28T11:35:30.162869Z"
    }
   },
   "outputs": [
    {
     "data": {
      "image/png": "[encoded data removed]",
      "text/plain": [
       "<Figure size 576x576 with 2 Axes>"
      ]
     },
     "metadata": {
      "needs_background": "light"
     },
     "output_type": "display_data"
    }
   ],
   "source": [
    "interpretation = causal_estimate_ipw.interpret(method_name=\"confounder_distribution_interpreter\", fig_size=(8,8), font_size=12, var_name='W4', var_type='discrete')"
   ]
  },
  {
   "cell_type": "code",
   "execution_count": null,
   "id": "1aff19c1",
   "metadata": {},
   "outputs": [],
   "source": []
  }
 ],
 "metadata": {
  "kernelspec": {
   "display_name": "Python 3",
   "language": "python",
   "name": "python3"
  },
  "language_info": {
   "codemirror_mode": {
    "name": "ipython",
    "version": 3
   },
   "file_extension": ".py",
   "mimetype": "text/x-python",
   "name": "python",
   "nbconvert_exporter": "python",
   "pygments_lexer": "ipython3",
   "version": "3.8.10"
  },
  "toc": {
   "base_numbering": 1,
   "nav_menu": {},
   "number_sections": false,
   "sideBar": true,
   "skip_h1_title": true,
   "title_cell": "Table of Contents",
   "title_sidebar": "Contents",
   "toc_cell": false,
   "toc_position": {},
   "toc_section_display": true,
   "toc_window_display": false
  }
 },
 "nbformat": 4,
 "nbformat_minor": 5
}
