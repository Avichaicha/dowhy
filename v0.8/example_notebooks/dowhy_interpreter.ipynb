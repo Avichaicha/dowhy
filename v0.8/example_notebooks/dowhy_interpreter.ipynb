{
 "cells": [
  {
   "cell_type": "markdown",
   "id": "6d0cd38c",
   "metadata": {},
   "source": [
    "# DoWhy: Interpreters for Causal Estimators\n",
    "\n",
    "This is a quick introduction to the use of interpreters in the DoWhy causal inference library.\n",
    "We will load in a sample dataset, use different methods for estimating the causal effect of a (pre-specified)treatment variable on a (pre-specified) outcome variable and demonstrate how to interpret the obtained results.\n",
    "\n",
    "First, let us add the required path for Python to find the DoWhy code and load all required packages"
   ]
  },
  {
   "cell_type": "code",
   "execution_count": 1,
   "id": "72c63487",
   "metadata": {
    "execution": {
     "iopub.execute_input": "2022-08-16T14:17:48.347691Z",
     "iopub.status.busy": "2022-08-16T14:17:48.347369Z",
     "iopub.status.idle": "2022-08-16T14:17:48.368073Z",
     "shell.execute_reply": "2022-08-16T14:17:48.367125Z"
    }
   },
   "outputs": [],
   "source": [
    "%load_ext autoreload\n",
    "%autoreload 2"
   ]
  },
  {
   "cell_type": "code",
   "execution_count": 2,
   "id": "b0b164c9",
   "metadata": {
    "execution": {
     "iopub.execute_input": "2022-08-16T14:17:48.372028Z",
     "iopub.status.busy": "2022-08-16T14:17:48.371770Z",
     "iopub.status.idle": "2022-08-16T14:17:49.729835Z",
     "shell.execute_reply": "2022-08-16T14:17:49.727586Z"
    }
   },
   "outputs": [],
   "source": [
    "import numpy as np\n",
    "import pandas as pd\n",
    "import logging\n",
    "\n",
    "import dowhy\n",
    "from dowhy import CausalModel\n",
    "import dowhy.datasets "
   ]
  },
  {
   "cell_type": "markdown",
   "id": "f4c4fdc2",
   "metadata": {},
   "source": [
    "Now, let us load a dataset. For simplicity, we simulate a dataset with linear relationships between common causes and treatment, and common causes and outcome.\n",
    "\n",
    "Beta is the true causal effect."
   ]
  },
  {
   "cell_type": "code",
   "execution_count": 3,
   "id": "43e1b470",
   "metadata": {
    "execution": {
     "iopub.execute_input": "2022-08-16T14:17:49.735478Z",
     "iopub.status.busy": "2022-08-16T14:17:49.734500Z",
     "iopub.status.idle": "2022-08-16T14:17:50.294427Z",
     "shell.execute_reply": "2022-08-16T14:17:50.293418Z"
    }
   },
   "outputs": [
    {
     "name": "stdout",
     "output_type": "stream",
     "text": [
      "7396\n"
     ]
    },
    {
     "data": {
      "text/html": [
       "<div>\n",
       "<style scoped>\n",
       "    .dataframe tbody tr th:only-of-type {\n",
       "        vertical-align: middle;\n",
       "    }\n",
       "\n",
       "    .dataframe tbody tr th {\n",
       "        vertical-align: top;\n",
       "    }\n",
       "\n",
       "    .dataframe thead th {\n",
       "        text-align: right;\n",
       "    }\n",
       "</style>\n",
       "<table border=\"1\" class=\"dataframe\">\n",
       "  <thead>\n",
       "    <tr style=\"text-align: right;\">\n",
       "      <th></th>\n",
       "      <th>Z0</th>\n",
       "      <th>Z1</th>\n",
       "      <th>W0</th>\n",
       "      <th>W1</th>\n",
       "      <th>W2</th>\n",
       "      <th>W3</th>\n",
       "      <th>W4</th>\n",
       "      <th>v0</th>\n",
       "      <th>y</th>\n",
       "    </tr>\n",
       "  </thead>\n",
       "  <tbody>\n",
       "    <tr>\n",
       "      <th>0</th>\n",
       "      <td>1.0</td>\n",
       "      <td>0.914711</td>\n",
       "      <td>-0.159599</td>\n",
       "      <td>-0.816366</td>\n",
       "      <td>-1.497889</td>\n",
       "      <td>-1.003791</td>\n",
       "      <td>3</td>\n",
       "      <td>True</td>\n",
       "      <td>1.767943</td>\n",
       "    </tr>\n",
       "    <tr>\n",
       "      <th>1</th>\n",
       "      <td>1.0</td>\n",
       "      <td>0.909591</td>\n",
       "      <td>1.455478</td>\n",
       "      <td>-0.303993</td>\n",
       "      <td>0.300939</td>\n",
       "      <td>-0.312666</td>\n",
       "      <td>3</td>\n",
       "      <td>True</td>\n",
       "      <td>4.574739</td>\n",
       "    </tr>\n",
       "    <tr>\n",
       "      <th>2</th>\n",
       "      <td>0.0</td>\n",
       "      <td>0.312498</td>\n",
       "      <td>0.376119</td>\n",
       "      <td>-0.127776</td>\n",
       "      <td>0.009961</td>\n",
       "      <td>-0.667175</td>\n",
       "      <td>1</td>\n",
       "      <td>False</td>\n",
       "      <td>1.001985</td>\n",
       "    </tr>\n",
       "    <tr>\n",
       "      <th>3</th>\n",
       "      <td>0.0</td>\n",
       "      <td>0.760513</td>\n",
       "      <td>0.347888</td>\n",
       "      <td>-1.762009</td>\n",
       "      <td>0.062725</td>\n",
       "      <td>-1.738737</td>\n",
       "      <td>3</td>\n",
       "      <td>False</td>\n",
       "      <td>1.185526</td>\n",
       "    </tr>\n",
       "    <tr>\n",
       "      <th>4</th>\n",
       "      <td>1.0</td>\n",
       "      <td>0.082330</td>\n",
       "      <td>-0.772176</td>\n",
       "      <td>1.700395</td>\n",
       "      <td>-0.349533</td>\n",
       "      <td>-1.103928</td>\n",
       "      <td>0</td>\n",
       "      <td>True</td>\n",
       "      <td>1.535027</td>\n",
       "    </tr>\n",
       "    <tr>\n",
       "      <th>...</th>\n",
       "      <td>...</td>\n",
       "      <td>...</td>\n",
       "      <td>...</td>\n",
       "      <td>...</td>\n",
       "      <td>...</td>\n",
       "      <td>...</td>\n",
       "      <td>...</td>\n",
       "      <td>...</td>\n",
       "      <td>...</td>\n",
       "    </tr>\n",
       "    <tr>\n",
       "      <th>9995</th>\n",
       "      <td>1.0</td>\n",
       "      <td>0.952748</td>\n",
       "      <td>0.681832</td>\n",
       "      <td>-1.410975</td>\n",
       "      <td>0.593297</td>\n",
       "      <td>-1.621405</td>\n",
       "      <td>2</td>\n",
       "      <td>True</td>\n",
       "      <td>2.252039</td>\n",
       "    </tr>\n",
       "    <tr>\n",
       "      <th>9996</th>\n",
       "      <td>1.0</td>\n",
       "      <td>0.703161</td>\n",
       "      <td>0.271251</td>\n",
       "      <td>-0.949963</td>\n",
       "      <td>-1.635136</td>\n",
       "      <td>-0.644649</td>\n",
       "      <td>0</td>\n",
       "      <td>True</td>\n",
       "      <td>-0.496556</td>\n",
       "    </tr>\n",
       "    <tr>\n",
       "      <th>9997</th>\n",
       "      <td>1.0</td>\n",
       "      <td>0.407714</td>\n",
       "      <td>2.405133</td>\n",
       "      <td>0.094894</td>\n",
       "      <td>-1.654979</td>\n",
       "      <td>0.496632</td>\n",
       "      <td>2</td>\n",
       "      <td>True</td>\n",
       "      <td>3.919279</td>\n",
       "    </tr>\n",
       "    <tr>\n",
       "      <th>9998</th>\n",
       "      <td>1.0</td>\n",
       "      <td>0.802120</td>\n",
       "      <td>-0.176191</td>\n",
       "      <td>0.487634</td>\n",
       "      <td>1.184471</td>\n",
       "      <td>-1.813468</td>\n",
       "      <td>3</td>\n",
       "      <td>True</td>\n",
       "      <td>4.261242</td>\n",
       "    </tr>\n",
       "    <tr>\n",
       "      <th>9999</th>\n",
       "      <td>1.0</td>\n",
       "      <td>0.878717</td>\n",
       "      <td>0.720380</td>\n",
       "      <td>-0.618689</td>\n",
       "      <td>-0.835796</td>\n",
       "      <td>-1.214126</td>\n",
       "      <td>1</td>\n",
       "      <td>True</td>\n",
       "      <td>1.385759</td>\n",
       "    </tr>\n",
       "  </tbody>\n",
       "</table>\n",
       "<p>10000 rows × 9 columns</p>\n",
       "</div>"
      ],
      "text/plain": [
       "       Z0        Z1        W0        W1        W2        W3 W4     v0  \\\n",
       "0     1.0  0.914711 -0.159599 -0.816366 -1.497889 -1.003791  3   True   \n",
       "1     1.0  0.909591  1.455478 -0.303993  0.300939 -0.312666  3   True   \n",
       "2     0.0  0.312498  0.376119 -0.127776  0.009961 -0.667175  1  False   \n",
       "3     0.0  0.760513  0.347888 -1.762009  0.062725 -1.738737  3  False   \n",
       "4     1.0  0.082330 -0.772176  1.700395 -0.349533 -1.103928  0   True   \n",
       "...   ...       ...       ...       ...       ...       ... ..    ...   \n",
       "9995  1.0  0.952748  0.681832 -1.410975  0.593297 -1.621405  2   True   \n",
       "9996  1.0  0.703161  0.271251 -0.949963 -1.635136 -0.644649  0   True   \n",
       "9997  1.0  0.407714  2.405133  0.094894 -1.654979  0.496632  2   True   \n",
       "9998  1.0  0.802120 -0.176191  0.487634  1.184471 -1.813468  3   True   \n",
       "9999  1.0  0.878717  0.720380 -0.618689 -0.835796 -1.214126  1   True   \n",
       "\n",
       "             y  \n",
       "0     1.767943  \n",
       "1     4.574739  \n",
       "2     1.001985  \n",
       "3     1.185526  \n",
       "4     1.535027  \n",
       "...        ...  \n",
       "9995  2.252039  \n",
       "9996 -0.496556  \n",
       "9997  3.919279  \n",
       "9998  4.261242  \n",
       "9999  1.385759  \n",
       "\n",
       "[10000 rows x 9 columns]"
      ]
     },
     "execution_count": 3,
     "metadata": {},
     "output_type": "execute_result"
    }
   ],
   "source": [
    "data = dowhy.datasets.linear_dataset(beta=1,\n",
    "        num_common_causes=5, \n",
    "        num_instruments = 2,\n",
    "        num_treatments=1,\n",
    "        num_discrete_common_causes=1,\n",
    "        num_samples=10000,\n",
    "        treatment_is_binary=True,\n",
    "        outcome_is_binary=False)\n",
    "df = data[\"df\"]\n",
    "print(df[df.v0==True].shape[0])\n",
    "df"
   ]
  },
  {
   "cell_type": "markdown",
   "id": "15d81f59",
   "metadata": {},
   "source": [
    "Note that we are using a pandas dataframe to load the data."
   ]
  },
  {
   "cell_type": "markdown",
   "id": "1af8ecd1",
   "metadata": {},
   "source": [
    "## Identifying the causal estimand"
   ]
  },
  {
   "cell_type": "markdown",
   "id": "dd85ce42",
   "metadata": {},
   "source": [
    "We now input a causal graph in the GML graph format."
   ]
  },
  {
   "cell_type": "code",
   "execution_count": 4,
   "id": "c47eea5d",
   "metadata": {
    "execution": {
     "iopub.execute_input": "2022-08-16T14:17:50.299412Z",
     "iopub.status.busy": "2022-08-16T14:17:50.298676Z",
     "iopub.status.idle": "2022-08-16T14:17:50.331475Z",
     "shell.execute_reply": "2022-08-16T14:17:50.330447Z"
    }
   },
   "outputs": [],
   "source": [
    "# With graph\n",
    "model=CausalModel(\n",
    "        data = df,\n",
    "        treatment=data[\"treatment_name\"],\n",
    "        outcome=data[\"outcome_name\"],\n",
    "        graph=data[\"gml_graph\"],\n",
    "        instruments=data[\"instrument_names\"]\n",
    "        )"
   ]
  },
  {
   "cell_type": "code",
   "execution_count": 5,
   "id": "d9ddfe86",
   "metadata": {
    "execution": {
     "iopub.execute_input": "2022-08-16T14:17:50.336160Z",
     "iopub.status.busy": "2022-08-16T14:17:50.335683Z",
     "iopub.status.idle": "2022-08-16T14:17:50.406010Z",
     "shell.execute_reply": "2022-08-16T14:17:50.405086Z"
    }
   },
   "outputs": [],
   "source": [
    "model.view_model()"
   ]
  },
  {
   "cell_type": "code",
   "execution_count": 6,
   "id": "f345f32a",
   "metadata": {
    "execution": {
     "iopub.execute_input": "2022-08-16T14:17:50.410446Z",
     "iopub.status.busy": "2022-08-16T14:17:50.409971Z",
     "iopub.status.idle": "2022-08-16T14:17:50.444479Z",
     "shell.execute_reply": "2022-08-16T14:17:50.443452Z"
    }
   },
   "outputs": [
    {
     "data": {
      "image/png": "[encoded data removed]",
      "text/plain": [
       "<IPython.core.display.Image object>"
      ]
     },
     "metadata": {},
     "output_type": "display_data"
    }
   ],
   "source": [
    "from IPython.display import Image, display\n",
    "display(Image(filename=\"causal_model.png\"))"
   ]
  },
  {
   "cell_type": "markdown",
   "id": "d04828ea",
   "metadata": {},
   "source": [
    "We get a causal graph. Now identification and estimation is done."
   ]
  },
  {
   "cell_type": "code",
   "execution_count": 7,
   "id": "8de2016a",
   "metadata": {
    "execution": {
     "iopub.execute_input": "2022-08-16T14:17:50.448308Z",
     "iopub.status.busy": "2022-08-16T14:17:50.448007Z",
     "iopub.status.idle": "2022-08-16T14:17:50.763107Z",
     "shell.execute_reply": "2022-08-16T14:17:50.762148Z"
    }
   },
   "outputs": [
    {
     "name": "stdout",
     "output_type": "stream",
     "text": [
      "Estimand type: nonparametric-ate\n",
      "\n",
      "### Estimand : 1\n",
      "Estimand name: backdoor\n",
      "Estimand expression:\n",
      "  d                       \n",
      "─────(E[y|W1,W3,W4,W2,W0])\n",
      "d[v₀]                     \n",
      "Estimand assumption 1, Unconfoundedness: If U→{v0} and U→y then P(y|v0,W1,W3,W4,W2,W0,U) = P(y|v0,W1,W3,W4,W2,W0)\n",
      "\n",
      "### Estimand : 2\n",
      "Estimand name: iv\n",
      "Estimand expression:\n",
      " ⎡                              -1⎤\n",
      " ⎢    d        ⎛    d          ⎞  ⎥\n",
      "E⎢─────────(y)⋅⎜─────────([v₀])⎟  ⎥\n",
      " ⎣d[Z₀  Z₁]    ⎝d[Z₀  Z₁]      ⎠  ⎦\n",
      "Estimand assumption 1, As-if-random: If U→→y then ¬(U →→{Z0,Z1})\n",
      "Estimand assumption 2, Exclusion: If we remove {Z0,Z1}→{v0}, then ¬({Z0,Z1}→y)\n",
      "\n",
      "### Estimand : 3\n",
      "Estimand name: frontdoor\n",
      "No such variable(s) found!\n",
      "\n"
     ]
    }
   ],
   "source": [
    "identified_estimand = model.identify_effect(proceed_when_unidentifiable=True)\n",
    "print(identified_estimand)"
   ]
  },
  {
   "cell_type": "markdown",
   "id": "a9397435",
   "metadata": {},
   "source": [
    "## Method 1: Propensity Score Stratification\n",
    "\n",
    "We will be using propensity scores to stratify units in the data."
   ]
  },
  {
   "cell_type": "code",
   "execution_count": 8,
   "id": "668f616c",
   "metadata": {
    "execution": {
     "iopub.execute_input": "2022-08-16T14:17:50.767341Z",
     "iopub.status.busy": "2022-08-16T14:17:50.767035Z",
     "iopub.status.idle": "2022-08-16T14:17:51.900120Z",
     "shell.execute_reply": "2022-08-16T14:17:51.899143Z"
    }
   },
   "outputs": [
    {
     "name": "stdout",
     "output_type": "stream",
     "text": [
      "propensity_score_stratification\n"
     ]
    },
    {
     "name": "stderr",
     "output_type": "stream",
     "text": [
      "/github/home/.cache/pypoetry/virtualenvs/dowhy-oN2hW5jr-py3.8/lib/python3.8/site-packages/sklearn/utils/validation.py:993: DataConversionWarning: A column-vector y was passed when a 1d array was expected. Please change the shape of y to (n_samples, ), for example using ravel().\n",
      "  y = column_or_1d(y, warn=True)\n"
     ]
    },
    {
     "name": "stdout",
     "output_type": "stream",
     "text": [
      "*** Causal Estimate ***\n",
      "\n",
      "## Identified estimand\n",
      "Estimand type: nonparametric-ate\n",
      "\n",
      "### Estimand : 1\n",
      "Estimand name: backdoor\n",
      "Estimand expression:\n",
      "  d                       \n",
      "─────(E[y|W1,W3,W4,W2,W0])\n",
      "d[v₀]                     \n",
      "Estimand assumption 1, Unconfoundedness: If U→{v0} and U→y then P(y|v0,W1,W3,W4,W2,W0,U) = P(y|v0,W1,W3,W4,W2,W0)\n",
      "\n",
      "## Realized estimand\n",
      "b: y~v0+W1+W3+W4+W2+W0\n",
      "Target units: att\n",
      "\n",
      "## Estimate\n",
      "Mean value: 0.9936228336354009\n",
      "\n",
      "Causal Estimate is 0.9936228336354009\n"
     ]
    }
   ],
   "source": [
    "causal_estimate_strat = model.estimate_effect(identified_estimand,\n",
    "                                              method_name=\"backdoor.propensity_score_stratification\",\n",
    "                                              target_units=\"att\")\n",
    "print(causal_estimate_strat)\n",
    "print(\"Causal Estimate is \" + str(causal_estimate_strat.value))"
   ]
  },
  {
   "cell_type": "markdown",
   "id": "332ea4f8",
   "metadata": {},
   "source": [
    "### Textual Interpreter\n",
    "\n",
    "The textual Interpreter describes (in words) the effect of unit change in the treatment variable on the outcome variable."
   ]
  },
  {
   "cell_type": "code",
   "execution_count": 9,
   "id": "ebfc8abe",
   "metadata": {
    "execution": {
     "iopub.execute_input": "2022-08-16T14:17:51.904789Z",
     "iopub.status.busy": "2022-08-16T14:17:51.904335Z",
     "iopub.status.idle": "2022-08-16T14:17:51.942884Z",
     "shell.execute_reply": "2022-08-16T14:17:51.942055Z"
    }
   },
   "outputs": [
    {
     "name": "stdout",
     "output_type": "stream",
     "text": [
      "Increasing the treatment variable(s) [v0] from 0 to 1 causes an increase of 0.9936228336354009 in the expected value of the outcome [y], over the data distribution/population represented by the dataset.\n"
     ]
    }
   ],
   "source": [
    "# Textual Interpreter\n",
    "interpretation = causal_estimate_strat.interpret(method_name=\"textual_effect_interpreter\")"
   ]
  },
  {
   "cell_type": "markdown",
   "id": "1b49882d",
   "metadata": {},
   "source": [
    "### Visual Interpreter\n",
    "\n",
    "The visual interpreter plots the change in the standardized mean difference (SMD) before and after Propensity Score based adjustment of the dataset. The formula for SMD is given below.\n",
    "\n",
    "\n",
    "$SMD = \\frac{\\bar X_{1} - \\bar X_{2}}{\\sqrt{(S_{1}^{2} + S_{2}^{2})/2}}$\n",
    "\n",
    "Here, $\\bar X_{1}$ and $\\bar X_{2}$ are the sample mean for the treated and control groups.\n"
   ]
  },
  {
   "cell_type": "code",
   "execution_count": 10,
   "id": "3be10c2f",
   "metadata": {
    "execution": {
     "iopub.execute_input": "2022-08-16T14:17:51.946899Z",
     "iopub.status.busy": "2022-08-16T14:17:51.946515Z",
     "iopub.status.idle": "2022-08-16T14:17:53.764566Z",
     "shell.execute_reply": "2022-08-16T14:17:53.763633Z"
    }
   },
   "outputs": [
    {
     "data": {
      "image/png": "[encoded data removed]",
      "text/plain": [
       "<Figure size 432x288 with 1 Axes>"
      ]
     },
     "metadata": {
      "needs_background": "light"
     },
     "output_type": "display_data"
    }
   ],
   "source": [
    "# Visual Interpreter\n",
    "interpretation = causal_estimate_strat.interpret(method_name=\"propensity_balance_interpreter\")"
   ]
  },
  {
   "cell_type": "markdown",
   "id": "83880b44",
   "metadata": {},
   "source": [
    "This plot shows how the SMD decreases from the unadjusted to the stratified units. "
   ]
  },
  {
   "cell_type": "markdown",
   "id": "309c90d2",
   "metadata": {},
   "source": [
    "## Method 2: Propensity Score Matching\n",
    "\n",
    "We will be using propensity scores to match units in the data."
   ]
  },
  {
   "cell_type": "code",
   "execution_count": 11,
   "id": "5181927a",
   "metadata": {
    "execution": {
     "iopub.execute_input": "2022-08-16T14:17:53.769709Z",
     "iopub.status.busy": "2022-08-16T14:17:53.768649Z",
     "iopub.status.idle": "2022-08-16T14:18:00.307047Z",
     "shell.execute_reply": "2022-08-16T14:18:00.306035Z"
    }
   },
   "outputs": [
    {
     "name": "stdout",
     "output_type": "stream",
     "text": [
      "propensity_score_matching\n"
     ]
    },
    {
     "name": "stderr",
     "output_type": "stream",
     "text": [
      "/github/home/.cache/pypoetry/virtualenvs/dowhy-oN2hW5jr-py3.8/lib/python3.8/site-packages/sklearn/utils/validation.py:993: DataConversionWarning: A column-vector y was passed when a 1d array was expected. Please change the shape of y to (n_samples, ), for example using ravel().\n",
      "  y = column_or_1d(y, warn=True)\n"
     ]
    },
    {
     "name": "stdout",
     "output_type": "stream",
     "text": [
      "*** Causal Estimate ***\n",
      "\n",
      "## Identified estimand\n",
      "Estimand type: nonparametric-ate\n",
      "\n",
      "### Estimand : 1\n",
      "Estimand name: backdoor\n",
      "Estimand expression:\n",
      "  d                       \n",
      "─────(E[y|W1,W3,W4,W2,W0])\n",
      "d[v₀]                     \n",
      "Estimand assumption 1, Unconfoundedness: If U→{v0} and U→y then P(y|v0,W1,W3,W4,W2,W0,U) = P(y|v0,W1,W3,W4,W2,W0)\n",
      "\n",
      "## Realized estimand\n",
      "b: y~v0+W1+W3+W4+W2+W0\n",
      "Target units: atc\n",
      "\n",
      "## Estimate\n",
      "Mean value: 0.9925986293977462\n",
      "\n",
      "Causal Estimate is 0.9925986293977462\n"
     ]
    }
   ],
   "source": [
    "causal_estimate_match = model.estimate_effect(identified_estimand,\n",
    "                                              method_name=\"backdoor.propensity_score_matching\",\n",
    "                                              target_units=\"atc\")\n",
    "print(causal_estimate_match)\n",
    "print(\"Causal Estimate is \" + str(causal_estimate_match.value))"
   ]
  },
  {
   "cell_type": "code",
   "execution_count": 12,
   "id": "e08dd334",
   "metadata": {
    "execution": {
     "iopub.execute_input": "2022-08-16T14:18:00.311295Z",
     "iopub.status.busy": "2022-08-16T14:18:00.310665Z",
     "iopub.status.idle": "2022-08-16T14:18:00.342450Z",
     "shell.execute_reply": "2022-08-16T14:18:00.341525Z"
    }
   },
   "outputs": [
    {
     "name": "stdout",
     "output_type": "stream",
     "text": [
      "Increasing the treatment variable(s) [v0] from 0 to 1 causes an increase of 0.9925986293977462 in the expected value of the outcome [y], over the data distribution/population represented by the dataset.\n"
     ]
    }
   ],
   "source": [
    "# Textual Interpreter\n",
    "interpretation = causal_estimate_match.interpret(method_name=\"textual_effect_interpreter\")"
   ]
  },
  {
   "cell_type": "markdown",
   "id": "8f48d319",
   "metadata": {},
   "source": [
    "Cannot use propensity balance interpretor here since the interpreter method only supports propensity score stratification estimator."
   ]
  },
  {
   "cell_type": "markdown",
   "id": "076b1847",
   "metadata": {},
   "source": [
    "## Method 3: Weighting\n",
    "\n",
    "We will be using (inverse) propensity scores to assign weights to units in the data. DoWhy supports a few different weighting schemes:\n",
    "1. Vanilla Inverse Propensity Score weighting (IPS) (weighting_scheme=\"ips_weight\")\n",
    "2. Self-normalized IPS weighting (also known as the Hajek estimator) (weighting_scheme=\"ips_normalized_weight\")\n",
    "3. Stabilized IPS weighting (weighting_scheme = \"ips_stabilized_weight\")"
   ]
  },
  {
   "cell_type": "code",
   "execution_count": 13,
   "id": "87b37192",
   "metadata": {
    "execution": {
     "iopub.execute_input": "2022-08-16T14:18:00.346555Z",
     "iopub.status.busy": "2022-08-16T14:18:00.345903Z",
     "iopub.status.idle": "2022-08-16T14:18:00.443061Z",
     "shell.execute_reply": "2022-08-16T14:18:00.441124Z"
    }
   },
   "outputs": [
    {
     "name": "stdout",
     "output_type": "stream",
     "text": [
      "propensity_score_weighting\n",
      "*** Causal Estimate ***\n",
      "\n",
      "## Identified estimand\n",
      "Estimand type: nonparametric-ate\n",
      "\n",
      "### Estimand : 1\n",
      "Estimand name: backdoor\n",
      "Estimand expression:\n",
      "  d                       \n",
      "─────(E[y|W1,W3,W4,W2,W0])\n",
      "d[v₀]                     \n",
      "Estimand assumption 1, Unconfoundedness: If U→{v0} and U→y then P(y|v0,W1,W3,W4,W2,W0,U) = P(y|v0,W1,W3,W4,W2,W0)\n",
      "\n",
      "## Realized estimand\n",
      "b: y~v0+W1+W3+W4+W2+W0\n",
      "Target units: ate\n",
      "\n",
      "## Estimate\n",
      "Mean value: 1.05845220851407\n",
      "\n",
      "Causal Estimate is 1.05845220851407\n"
     ]
    },
    {
     "name": "stderr",
     "output_type": "stream",
     "text": [
      "/github/home/.cache/pypoetry/virtualenvs/dowhy-oN2hW5jr-py3.8/lib/python3.8/site-packages/sklearn/utils/validation.py:993: DataConversionWarning: A column-vector y was passed when a 1d array was expected. Please change the shape of y to (n_samples, ), for example using ravel().\n",
      "  y = column_or_1d(y, warn=True)\n"
     ]
    }
   ],
   "source": [
    "causal_estimate_ipw = model.estimate_effect(identified_estimand,\n",
    "                                            method_name=\"backdoor.propensity_score_weighting\",\n",
    "                                            target_units = \"ate\",\n",
    "                                            method_params={\"weighting_scheme\":\"ips_weight\"})\n",
    "print(causal_estimate_ipw)\n",
    "print(\"Causal Estimate is \" + str(causal_estimate_ipw.value))"
   ]
  },
  {
   "cell_type": "code",
   "execution_count": 14,
   "id": "869a04b7",
   "metadata": {
    "execution": {
     "iopub.execute_input": "2022-08-16T14:18:00.447005Z",
     "iopub.status.busy": "2022-08-16T14:18:00.446484Z",
     "iopub.status.idle": "2022-08-16T14:18:00.481802Z",
     "shell.execute_reply": "2022-08-16T14:18:00.480616Z"
    }
   },
   "outputs": [
    {
     "name": "stdout",
     "output_type": "stream",
     "text": [
      "Increasing the treatment variable(s) [v0] from 0 to 1 causes an increase of 1.05845220851407 in the expected value of the outcome [y], over the data distribution/population represented by the dataset.\n"
     ]
    }
   ],
   "source": [
    "# Textual Interpreter\n",
    "interpretation = causal_estimate_ipw.interpret(method_name=\"textual_effect_interpreter\")"
   ]
  },
  {
   "cell_type": "code",
   "execution_count": 15,
   "id": "d7ca3564",
   "metadata": {
    "execution": {
     "iopub.execute_input": "2022-08-16T14:18:00.485752Z",
     "iopub.status.busy": "2022-08-16T14:18:00.485428Z",
     "iopub.status.idle": "2022-08-16T14:18:00.995664Z",
     "shell.execute_reply": "2022-08-16T14:18:00.994743Z"
    }
   },
   "outputs": [
    {
     "data": {
      "image/png": "[encoded data removed]",
      "text/plain": [
       "<Figure size 576x576 with 2 Axes>"
      ]
     },
     "metadata": {
      "needs_background": "light"
     },
     "output_type": "display_data"
    }
   ],
   "source": [
    "interpretation = causal_estimate_ipw.interpret(method_name=\"confounder_distribution_interpreter\", fig_size=(8,8), font_size=12, var_name='W4', var_type='discrete')"
   ]
  },
  {
   "cell_type": "code",
   "execution_count": null,
   "id": "e2f7f68a",
   "metadata": {},
   "outputs": [],
   "source": []
  }
 ],
 "metadata": {
  "kernelspec": {
   "display_name": "Python 3",
   "language": "python",
   "name": "python3"
  },
  "language_info": {
   "codemirror_mode": {
    "name": "ipython",
    "version": 3
   },
   "file_extension": ".py",
   "mimetype": "text/x-python",
   "name": "python",
   "nbconvert_exporter": "python",
   "pygments_lexer": "ipython3",
   "version": "3.8.10"
  },
  "toc": {
   "base_numbering": 1,
   "nav_menu": {},
   "number_sections": false,
   "sideBar": true,
   "skip_h1_title": true,
   "title_cell": "Table of Contents",
   "title_sidebar": "Contents",
   "toc_cell": false,
   "toc_position": {},
   "toc_section_display": true,
   "toc_window_display": false
  }
 },
 "nbformat": 4,
 "nbformat_minor": 5
}
