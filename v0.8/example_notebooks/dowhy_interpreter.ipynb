{
 "cells": [
  {
   "cell_type": "markdown",
   "id": "086d0a81",
   "metadata": {},
   "source": [
    "# DoWhy: Interpreters for Causal Estimators\n",
    "\n",
    "This is a quick introduction to the use of interpreters in the DoWhy causal inference library.\n",
    "We will load in a sample dataset, use different methods for estimating the causal effect of a (pre-specified)treatment variable on a (pre-specified) outcome variable and demonstrate how to interpret the obtained results.\n",
    "\n",
    "First, let us add the required path for Python to find the DoWhy code and load all required packages"
   ]
  },
  {
   "cell_type": "code",
   "execution_count": 1,
   "id": "d5ba2bd4",
   "metadata": {
    "execution": {
     "iopub.execute_input": "2022-07-28T13:53:50.335573Z",
     "iopub.status.busy": "2022-07-28T13:53:50.335060Z",
     "iopub.status.idle": "2022-07-28T13:53:50.352240Z",
     "shell.execute_reply": "2022-07-28T13:53:50.351583Z"
    }
   },
   "outputs": [],
   "source": [
    "%load_ext autoreload\n",
    "%autoreload 2"
   ]
  },
  {
   "cell_type": "code",
   "execution_count": 2,
   "id": "bbbc8dbf",
   "metadata": {
    "execution": {
     "iopub.execute_input": "2022-07-28T13:53:50.355897Z",
     "iopub.status.busy": "2022-07-28T13:53:50.355450Z",
     "iopub.status.idle": "2022-07-28T13:53:51.434315Z",
     "shell.execute_reply": "2022-07-28T13:53:51.433659Z"
    }
   },
   "outputs": [
    {
     "name": "stdout",
     "output_type": "stream",
     "text": [
      "keywords are unexpanded, not using\n"
     ]
    }
   ],
   "source": [
    "import numpy as np\n",
    "import pandas as pd\n",
    "import logging\n",
    "\n",
    "import dowhy\n",
    "from dowhy import CausalModel\n",
    "import dowhy.datasets "
   ]
  },
  {
   "cell_type": "markdown",
   "id": "01cc2f74",
   "metadata": {},
   "source": [
    "Now, let us load a dataset. For simplicity, we simulate a dataset with linear relationships between common causes and treatment, and common causes and outcome.\n",
    "\n",
    "Beta is the true causal effect."
   ]
  },
  {
   "cell_type": "code",
   "execution_count": 3,
   "id": "fd92b02a",
   "metadata": {
    "execution": {
     "iopub.execute_input": "2022-07-28T13:53:51.438267Z",
     "iopub.status.busy": "2022-07-28T13:53:51.437452Z",
     "iopub.status.idle": "2022-07-28T13:53:51.729831Z",
     "shell.execute_reply": "2022-07-28T13:53:51.729219Z"
    }
   },
   "outputs": [
    {
     "name": "stdout",
     "output_type": "stream",
     "text": [
      "8483\n"
     ]
    },
    {
     "data": {
      "text/html": [
       "<div>\n",
       "<style scoped>\n",
       "    .dataframe tbody tr th:only-of-type {\n",
       "        vertical-align: middle;\n",
       "    }\n",
       "\n",
       "    .dataframe tbody tr th {\n",
       "        vertical-align: top;\n",
       "    }\n",
       "\n",
       "    .dataframe thead th {\n",
       "        text-align: right;\n",
       "    }\n",
       "</style>\n",
       "<table border=\"1\" class=\"dataframe\">\n",
       "  <thead>\n",
       "    <tr style=\"text-align: right;\">\n",
       "      <th></th>\n",
       "      <th>Z0</th>\n",
       "      <th>Z1</th>\n",
       "      <th>W0</th>\n",
       "      <th>W1</th>\n",
       "      <th>W2</th>\n",
       "      <th>W3</th>\n",
       "      <th>W4</th>\n",
       "      <th>v0</th>\n",
       "      <th>y</th>\n",
       "    </tr>\n",
       "  </thead>\n",
       "  <tbody>\n",
       "    <tr>\n",
       "      <th>0</th>\n",
       "      <td>0.0</td>\n",
       "      <td>0.877300</td>\n",
       "      <td>0.877635</td>\n",
       "      <td>0.003455</td>\n",
       "      <td>0.900306</td>\n",
       "      <td>-0.292039</td>\n",
       "      <td>0</td>\n",
       "      <td>True</td>\n",
       "      <td>1.870179</td>\n",
       "    </tr>\n",
       "    <tr>\n",
       "      <th>1</th>\n",
       "      <td>1.0</td>\n",
       "      <td>0.662323</td>\n",
       "      <td>0.951707</td>\n",
       "      <td>2.604023</td>\n",
       "      <td>1.421005</td>\n",
       "      <td>-0.307152</td>\n",
       "      <td>2</td>\n",
       "      <td>True</td>\n",
       "      <td>6.279114</td>\n",
       "    </tr>\n",
       "    <tr>\n",
       "      <th>2</th>\n",
       "      <td>1.0</td>\n",
       "      <td>0.331537</td>\n",
       "      <td>1.620692</td>\n",
       "      <td>0.602702</td>\n",
       "      <td>-0.329246</td>\n",
       "      <td>-0.385856</td>\n",
       "      <td>3</td>\n",
       "      <td>True</td>\n",
       "      <td>4.449812</td>\n",
       "    </tr>\n",
       "    <tr>\n",
       "      <th>3</th>\n",
       "      <td>0.0</td>\n",
       "      <td>0.452142</td>\n",
       "      <td>1.578420</td>\n",
       "      <td>-0.454290</td>\n",
       "      <td>0.653534</td>\n",
       "      <td>0.158451</td>\n",
       "      <td>2</td>\n",
       "      <td>False</td>\n",
       "      <td>2.320074</td>\n",
       "    </tr>\n",
       "    <tr>\n",
       "      <th>4</th>\n",
       "      <td>0.0</td>\n",
       "      <td>0.199141</td>\n",
       "      <td>1.371579</td>\n",
       "      <td>-1.865014</td>\n",
       "      <td>-1.387639</td>\n",
       "      <td>-0.164993</td>\n",
       "      <td>0</td>\n",
       "      <td>False</td>\n",
       "      <td>-2.031289</td>\n",
       "    </tr>\n",
       "    <tr>\n",
       "      <th>...</th>\n",
       "      <td>...</td>\n",
       "      <td>...</td>\n",
       "      <td>...</td>\n",
       "      <td>...</td>\n",
       "      <td>...</td>\n",
       "      <td>...</td>\n",
       "      <td>...</td>\n",
       "      <td>...</td>\n",
       "      <td>...</td>\n",
       "    </tr>\n",
       "    <tr>\n",
       "      <th>9995</th>\n",
       "      <td>0.0</td>\n",
       "      <td>0.217910</td>\n",
       "      <td>-0.310881</td>\n",
       "      <td>0.075036</td>\n",
       "      <td>-0.661678</td>\n",
       "      <td>-2.225251</td>\n",
       "      <td>3</td>\n",
       "      <td>False</td>\n",
       "      <td>1.688398</td>\n",
       "    </tr>\n",
       "    <tr>\n",
       "      <th>9996</th>\n",
       "      <td>0.0</td>\n",
       "      <td>0.182525</td>\n",
       "      <td>0.049411</td>\n",
       "      <td>0.603993</td>\n",
       "      <td>1.111565</td>\n",
       "      <td>-0.590339</td>\n",
       "      <td>3</td>\n",
       "      <td>True</td>\n",
       "      <td>4.651412</td>\n",
       "    </tr>\n",
       "    <tr>\n",
       "      <th>9997</th>\n",
       "      <td>0.0</td>\n",
       "      <td>0.657438</td>\n",
       "      <td>-0.750431</td>\n",
       "      <td>1.599757</td>\n",
       "      <td>1.085636</td>\n",
       "      <td>-2.176752</td>\n",
       "      <td>3</td>\n",
       "      <td>True</td>\n",
       "      <td>4.996075</td>\n",
       "    </tr>\n",
       "    <tr>\n",
       "      <th>9998</th>\n",
       "      <td>1.0</td>\n",
       "      <td>0.914690</td>\n",
       "      <td>0.979573</td>\n",
       "      <td>0.027862</td>\n",
       "      <td>-0.843468</td>\n",
       "      <td>-1.144065</td>\n",
       "      <td>2</td>\n",
       "      <td>True</td>\n",
       "      <td>2.386539</td>\n",
       "    </tr>\n",
       "    <tr>\n",
       "      <th>9999</th>\n",
       "      <td>0.0</td>\n",
       "      <td>0.214703</td>\n",
       "      <td>1.104830</td>\n",
       "      <td>-0.661476</td>\n",
       "      <td>0.994596</td>\n",
       "      <td>-0.559871</td>\n",
       "      <td>3</td>\n",
       "      <td>True</td>\n",
       "      <td>3.866269</td>\n",
       "    </tr>\n",
       "  </tbody>\n",
       "</table>\n",
       "<p>10000 rows × 9 columns</p>\n",
       "</div>"
      ],
      "text/plain": [
       "       Z0        Z1        W0        W1        W2        W3 W4     v0  \\\n",
       "0     0.0  0.877300  0.877635  0.003455  0.900306 -0.292039  0   True   \n",
       "1     1.0  0.662323  0.951707  2.604023  1.421005 -0.307152  2   True   \n",
       "2     1.0  0.331537  1.620692  0.602702 -0.329246 -0.385856  3   True   \n",
       "3     0.0  0.452142  1.578420 -0.454290  0.653534  0.158451  2  False   \n",
       "4     0.0  0.199141  1.371579 -1.865014 -1.387639 -0.164993  0  False   \n",
       "...   ...       ...       ...       ...       ...       ... ..    ...   \n",
       "9995  0.0  0.217910 -0.310881  0.075036 -0.661678 -2.225251  3  False   \n",
       "9996  0.0  0.182525  0.049411  0.603993  1.111565 -0.590339  3   True   \n",
       "9997  0.0  0.657438 -0.750431  1.599757  1.085636 -2.176752  3   True   \n",
       "9998  1.0  0.914690  0.979573  0.027862 -0.843468 -1.144065  2   True   \n",
       "9999  0.0  0.214703  1.104830 -0.661476  0.994596 -0.559871  3   True   \n",
       "\n",
       "             y  \n",
       "0     1.870179  \n",
       "1     6.279114  \n",
       "2     4.449812  \n",
       "3     2.320074  \n",
       "4    -2.031289  \n",
       "...        ...  \n",
       "9995  1.688398  \n",
       "9996  4.651412  \n",
       "9997  4.996075  \n",
       "9998  2.386539  \n",
       "9999  3.866269  \n",
       "\n",
       "[10000 rows x 9 columns]"
      ]
     },
     "execution_count": 3,
     "metadata": {},
     "output_type": "execute_result"
    }
   ],
   "source": [
    "data = dowhy.datasets.linear_dataset(beta=1,\n",
    "        num_common_causes=5, \n",
    "        num_instruments = 2,\n",
    "        num_treatments=1,\n",
    "        num_discrete_common_causes=1,\n",
    "        num_samples=10000,\n",
    "        treatment_is_binary=True,\n",
    "        outcome_is_binary=False)\n",
    "df = data[\"df\"]\n",
    "print(df[df.v0==True].shape[0])\n",
    "df"
   ]
  },
  {
   "cell_type": "markdown",
   "id": "f10efe51",
   "metadata": {},
   "source": [
    "Note that we are using a pandas dataframe to load the data."
   ]
  },
  {
   "cell_type": "markdown",
   "id": "7948a4d3",
   "metadata": {},
   "source": [
    "## Identifying the causal estimand"
   ]
  },
  {
   "cell_type": "markdown",
   "id": "77d126cf",
   "metadata": {},
   "source": [
    "We now input a causal graph in the GML graph format."
   ]
  },
  {
   "cell_type": "code",
   "execution_count": 4,
   "id": "ccc72718",
   "metadata": {
    "execution": {
     "iopub.execute_input": "2022-07-28T13:53:51.733347Z",
     "iopub.status.busy": "2022-07-28T13:53:51.733128Z",
     "iopub.status.idle": "2022-07-28T13:53:51.756083Z",
     "shell.execute_reply": "2022-07-28T13:53:51.755497Z"
    }
   },
   "outputs": [],
   "source": [
    "# With graph\n",
    "model=CausalModel(\n",
    "        data = df,\n",
    "        treatment=data[\"treatment_name\"],\n",
    "        outcome=data[\"outcome_name\"],\n",
    "        graph=data[\"gml_graph\"],\n",
    "        instruments=data[\"instrument_names\"]\n",
    "        )"
   ]
  },
  {
   "cell_type": "code",
   "execution_count": 5,
   "id": "958a5925",
   "metadata": {
    "execution": {
     "iopub.execute_input": "2022-07-28T13:53:51.759124Z",
     "iopub.status.busy": "2022-07-28T13:53:51.758913Z",
     "iopub.status.idle": "2022-07-28T13:53:51.808086Z",
     "shell.execute_reply": "2022-07-28T13:53:51.807313Z"
    }
   },
   "outputs": [],
   "source": [
    "model.view_model()"
   ]
  },
  {
   "cell_type": "code",
   "execution_count": 6,
   "id": "e68ef3e6",
   "metadata": {
    "execution": {
     "iopub.execute_input": "2022-07-28T13:53:51.811914Z",
     "iopub.status.busy": "2022-07-28T13:53:51.811460Z",
     "iopub.status.idle": "2022-07-28T13:53:51.838187Z",
     "shell.execute_reply": "2022-07-28T13:53:51.837531Z"
    }
   },
   "outputs": [
    {
     "data": {
      "image/png": "[encoded data removed]",
      "text/plain": [
       "<IPython.core.display.Image object>"
      ]
     },
     "metadata": {},
     "output_type": "display_data"
    }
   ],
   "source": [
    "from IPython.display import Image, display\n",
    "display(Image(filename=\"causal_model.png\"))"
   ]
  },
  {
   "cell_type": "markdown",
   "id": "32dfe02f",
   "metadata": {},
   "source": [
    "We get a causal graph. Now identification and estimation is done."
   ]
  },
  {
   "cell_type": "code",
   "execution_count": 7,
   "id": "a87dcef5",
   "metadata": {
    "execution": {
     "iopub.execute_input": "2022-07-28T13:53:51.841464Z",
     "iopub.status.busy": "2022-07-28T13:53:51.841150Z",
     "iopub.status.idle": "2022-07-28T13:53:52.042206Z",
     "shell.execute_reply": "2022-07-28T13:53:52.041598Z"
    }
   },
   "outputs": [
    {
     "name": "stdout",
     "output_type": "stream",
     "text": [
      "Estimand type: nonparametric-ate\n",
      "\n",
      "### Estimand : 1\n",
      "Estimand name: backdoor\n",
      "Estimand expression:\n",
      "  d                       \n",
      "─────(E[y|W2,W4,W1,W0,W3])\n",
      "d[v₀]                     \n",
      "Estimand assumption 1, Unconfoundedness: If U→{v0} and U→y then P(y|v0,W2,W4,W1,W0,W3,U) = P(y|v0,W2,W4,W1,W0,W3)\n",
      "\n",
      "### Estimand : 2\n",
      "Estimand name: iv\n",
      "Estimand expression:\n",
      " ⎡                              -1⎤\n",
      " ⎢    d        ⎛    d          ⎞  ⎥\n",
      "E⎢─────────(y)⋅⎜─────────([v₀])⎟  ⎥\n",
      " ⎣d[Z₀  Z₁]    ⎝d[Z₀  Z₁]      ⎠  ⎦\n",
      "Estimand assumption 1, As-if-random: If U→→y then ¬(U →→{Z0,Z1})\n",
      "Estimand assumption 2, Exclusion: If we remove {Z0,Z1}→{v0}, then ¬({Z0,Z1}→y)\n",
      "\n",
      "### Estimand : 3\n",
      "Estimand name: frontdoor\n",
      "No such variable(s) found!\n",
      "\n"
     ]
    }
   ],
   "source": [
    "identified_estimand = model.identify_effect(proceed_when_unidentifiable=True)\n",
    "print(identified_estimand)"
   ]
  },
  {
   "cell_type": "markdown",
   "id": "84226cd7",
   "metadata": {},
   "source": [
    "## Method 1: Propensity Score Stratification\n",
    "\n",
    "We will be using propensity scores to stratify units in the data."
   ]
  },
  {
   "cell_type": "code",
   "execution_count": 8,
   "id": "843c0751",
   "metadata": {
    "execution": {
     "iopub.execute_input": "2022-07-28T13:53:52.045748Z",
     "iopub.status.busy": "2022-07-28T13:53:52.045363Z",
     "iopub.status.idle": "2022-07-28T13:53:52.819583Z",
     "shell.execute_reply": "2022-07-28T13:53:52.818749Z"
    }
   },
   "outputs": [
    {
     "name": "stdout",
     "output_type": "stream",
     "text": [
      "propensity_score_stratification\n"
     ]
    },
    {
     "name": "stderr",
     "output_type": "stream",
     "text": [
      "/usr/local/lib/python3.8/dist-packages/sklearn/utils/validation.py:993: DataConversionWarning: A column-vector y was passed when a 1d array was expected. Please change the shape of y to (n_samples, ), for example using ravel().\n",
      "  y = column_or_1d(y, warn=True)\n"
     ]
    },
    {
     "name": "stdout",
     "output_type": "stream",
     "text": [
      "*** Causal Estimate ***\n",
      "\n",
      "## Identified estimand\n",
      "Estimand type: nonparametric-ate\n",
      "\n",
      "### Estimand : 1\n",
      "Estimand name: backdoor\n",
      "Estimand expression:\n",
      "  d                       \n",
      "─────(E[y|W2,W4,W1,W0,W3])\n",
      "d[v₀]                     \n",
      "Estimand assumption 1, Unconfoundedness: If U→{v0} and U→y then P(y|v0,W2,W4,W1,W0,W3,U) = P(y|v0,W2,W4,W1,W0,W3)\n",
      "\n",
      "## Realized estimand\n",
      "b: y~v0+W2+W4+W1+W0+W3\n",
      "Target units: att\n",
      "\n",
      "## Estimate\n",
      "Mean value: 0.9854761060927409\n",
      "\n",
      "Causal Estimate is 0.9854761060927409\n"
     ]
    }
   ],
   "source": [
    "causal_estimate_strat = model.estimate_effect(identified_estimand,\n",
    "                                              method_name=\"backdoor.propensity_score_stratification\",\n",
    "                                              target_units=\"att\")\n",
    "print(causal_estimate_strat)\n",
    "print(\"Causal Estimate is \" + str(causal_estimate_strat.value))"
   ]
  },
  {
   "cell_type": "markdown",
   "id": "1a92ef19",
   "metadata": {},
   "source": [
    "### Textual Interpreter\n",
    "\n",
    "The textual Interpreter describes (in words) the effect of unit change in the treatment variable on the outcome variable."
   ]
  },
  {
   "cell_type": "code",
   "execution_count": 9,
   "id": "ec382003",
   "metadata": {
    "execution": {
     "iopub.execute_input": "2022-07-28T13:53:52.823699Z",
     "iopub.status.busy": "2022-07-28T13:53:52.823195Z",
     "iopub.status.idle": "2022-07-28T13:53:52.849909Z",
     "shell.execute_reply": "2022-07-28T13:53:52.849075Z"
    }
   },
   "outputs": [
    {
     "name": "stdout",
     "output_type": "stream",
     "text": [
      "Increasing the treatment variable(s) [v0] from 0 to 1 causes an increase of 0.9854761060927409 in the expected value of the outcome [y], over the data distribution/population represented by the dataset.\n"
     ]
    }
   ],
   "source": [
    "# Textual Interpreter\n",
    "interpretation = causal_estimate_strat.interpret(method_name=\"textual_effect_interpreter\")"
   ]
  },
  {
   "cell_type": "markdown",
   "id": "84d5297e",
   "metadata": {},
   "source": [
    "### Visual Interpreter\n",
    "\n",
    "The visual interpreter plots the change in the standardized mean difference (SMD) before and after Propensity Score based adjustment of the dataset. The formula for SMD is given below.\n",
    "\n",
    "\n",
    "$SMD = \\frac{\\bar X_{1} - \\bar X_{2}}{\\sqrt{(S_{1}^{2} + S_{2}^{2})/2}}$\n",
    "\n",
    "Here, $\\bar X_{1}$ and $\\bar X_{2}$ are the sample mean for the treated and control groups.\n"
   ]
  },
  {
   "cell_type": "code",
   "execution_count": 10,
   "id": "05746507",
   "metadata": {
    "execution": {
     "iopub.execute_input": "2022-07-28T13:53:52.853554Z",
     "iopub.status.busy": "2022-07-28T13:53:52.852884Z",
     "iopub.status.idle": "2022-07-28T13:53:53.958614Z",
     "shell.execute_reply": "2022-07-28T13:53:53.957574Z"
    }
   },
   "outputs": [
    {
     "data": {
      "image/png": "[encoded data removed]",
      "text/plain": [
       "<Figure size 432x288 with 1 Axes>"
      ]
     },
     "metadata": {
      "needs_background": "light"
     },
     "output_type": "display_data"
    }
   ],
   "source": [
    "# Visual Interpreter\n",
    "interpretation = causal_estimate_strat.interpret(method_name=\"propensity_balance_interpreter\")"
   ]
  },
  {
   "cell_type": "markdown",
   "id": "93dc589e",
   "metadata": {},
   "source": [
    "This plot shows how the SMD decreases from the unadjusted to the stratified units. "
   ]
  },
  {
   "cell_type": "markdown",
   "id": "430357f1",
   "metadata": {},
   "source": [
    "## Method 2: Propensity Score Matching\n",
    "\n",
    "We will be using propensity scores to match units in the data."
   ]
  },
  {
   "cell_type": "code",
   "execution_count": 11,
   "id": "99c31086",
   "metadata": {
    "execution": {
     "iopub.execute_input": "2022-07-28T13:53:53.962724Z",
     "iopub.status.busy": "2022-07-28T13:53:53.962169Z",
     "iopub.status.idle": "2022-07-28T13:53:57.991626Z",
     "shell.execute_reply": "2022-07-28T13:53:57.991004Z"
    }
   },
   "outputs": [
    {
     "name": "stdout",
     "output_type": "stream",
     "text": [
      "propensity_score_matching\n"
     ]
    },
    {
     "name": "stderr",
     "output_type": "stream",
     "text": [
      "/usr/local/lib/python3.8/dist-packages/sklearn/utils/validation.py:993: DataConversionWarning: A column-vector y was passed when a 1d array was expected. Please change the shape of y to (n_samples, ), for example using ravel().\n",
      "  y = column_or_1d(y, warn=True)\n"
     ]
    },
    {
     "name": "stdout",
     "output_type": "stream",
     "text": [
      "*** Causal Estimate ***\n",
      "\n",
      "## Identified estimand\n",
      "Estimand type: nonparametric-ate\n",
      "\n",
      "### Estimand : 1\n",
      "Estimand name: backdoor\n",
      "Estimand expression:\n",
      "  d                       \n",
      "─────(E[y|W2,W4,W1,W0,W3])\n",
      "d[v₀]                     \n",
      "Estimand assumption 1, Unconfoundedness: If U→{v0} and U→y then P(y|v0,W2,W4,W1,W0,W3,U) = P(y|v0,W2,W4,W1,W0,W3)\n",
      "\n",
      "## Realized estimand\n",
      "b: y~v0+W2+W4+W1+W0+W3\n",
      "Target units: atc\n",
      "\n",
      "## Estimate\n",
      "Mean value: 1.029290520721542\n",
      "\n",
      "Causal Estimate is 1.029290520721542\n"
     ]
    }
   ],
   "source": [
    "causal_estimate_match = model.estimate_effect(identified_estimand,\n",
    "                                              method_name=\"backdoor.propensity_score_matching\",\n",
    "                                              target_units=\"atc\")\n",
    "print(causal_estimate_match)\n",
    "print(\"Causal Estimate is \" + str(causal_estimate_match.value))"
   ]
  },
  {
   "cell_type": "code",
   "execution_count": 12,
   "id": "813aa3e0",
   "metadata": {
    "execution": {
     "iopub.execute_input": "2022-07-28T13:53:57.994964Z",
     "iopub.status.busy": "2022-07-28T13:53:57.994543Z",
     "iopub.status.idle": "2022-07-28T13:53:58.021494Z",
     "shell.execute_reply": "2022-07-28T13:53:58.020807Z"
    }
   },
   "outputs": [
    {
     "name": "stdout",
     "output_type": "stream",
     "text": [
      "Increasing the treatment variable(s) [v0] from 0 to 1 causes an increase of 1.029290520721542 in the expected value of the outcome [y], over the data distribution/population represented by the dataset.\n"
     ]
    }
   ],
   "source": [
    "# Textual Interpreter\n",
    "interpretation = causal_estimate_match.interpret(method_name=\"textual_effect_interpreter\")"
   ]
  },
  {
   "cell_type": "markdown",
   "id": "dbe44a39",
   "metadata": {},
   "source": [
    "Cannot use propensity balance interpretor here since the interpreter method only supports propensity score stratification estimator."
   ]
  },
  {
   "cell_type": "markdown",
   "id": "f21787ef",
   "metadata": {},
   "source": [
    "## Method 3: Weighting\n",
    "\n",
    "We will be using (inverse) propensity scores to assign weights to units in the data. DoWhy supports a few different weighting schemes:\n",
    "1. Vanilla Inverse Propensity Score weighting (IPS) (weighting_scheme=\"ips_weight\")\n",
    "2. Self-normalized IPS weighting (also known as the Hajek estimator) (weighting_scheme=\"ips_normalized_weight\")\n",
    "3. Stabilized IPS weighting (weighting_scheme = \"ips_stabilized_weight\")"
   ]
  },
  {
   "cell_type": "code",
   "execution_count": 13,
   "id": "4fbf29dd",
   "metadata": {
    "execution": {
     "iopub.execute_input": "2022-07-28T13:53:58.024916Z",
     "iopub.status.busy": "2022-07-28T13:53:58.024565Z",
     "iopub.status.idle": "2022-07-28T13:53:58.090502Z",
     "shell.execute_reply": "2022-07-28T13:53:58.089842Z"
    }
   },
   "outputs": [
    {
     "name": "stdout",
     "output_type": "stream",
     "text": [
      "propensity_score_weighting\n",
      "*** Causal Estimate ***\n",
      "\n",
      "## Identified estimand\n",
      "Estimand type: nonparametric-ate\n",
      "\n",
      "### Estimand : 1\n",
      "Estimand name: backdoor\n",
      "Estimand expression:\n",
      "  d                       \n",
      "─────(E[y|W2,W4,W1,W0,W3])\n",
      "d[v₀]                     \n",
      "Estimand assumption 1, Unconfoundedness: If U→{v0} and U→y then P(y|v0,W2,W4,W1,W0,W3,U) = P(y|v0,W2,W4,W1,W0,W3)\n",
      "\n",
      "## Realized estimand\n",
      "b: y~v0+W2+W4+W1+W0+W3\n",
      "Target units: ate\n",
      "\n",
      "## Estimate\n",
      "Mean value: 1.1131850248770674\n",
      "\n",
      "Causal Estimate is 1.1131850248770674\n"
     ]
    },
    {
     "name": "stderr",
     "output_type": "stream",
     "text": [
      "/usr/local/lib/python3.8/dist-packages/sklearn/utils/validation.py:993: DataConversionWarning: A column-vector y was passed when a 1d array was expected. Please change the shape of y to (n_samples, ), for example using ravel().\n",
      "  y = column_or_1d(y, warn=True)\n"
     ]
    }
   ],
   "source": [
    "causal_estimate_ipw = model.estimate_effect(identified_estimand,\n",
    "                                            method_name=\"backdoor.propensity_score_weighting\",\n",
    "                                            target_units = \"ate\",\n",
    "                                            method_params={\"weighting_scheme\":\"ips_weight\"})\n",
    "print(causal_estimate_ipw)\n",
    "print(\"Causal Estimate is \" + str(causal_estimate_ipw.value))"
   ]
  },
  {
   "cell_type": "code",
   "execution_count": 14,
   "id": "69f4d15f",
   "metadata": {
    "execution": {
     "iopub.execute_input": "2022-07-28T13:53:58.093976Z",
     "iopub.status.busy": "2022-07-28T13:53:58.093750Z",
     "iopub.status.idle": "2022-07-28T13:53:58.119587Z",
     "shell.execute_reply": "2022-07-28T13:53:58.118973Z"
    }
   },
   "outputs": [
    {
     "name": "stdout",
     "output_type": "stream",
     "text": [
      "Increasing the treatment variable(s) [v0] from 0 to 1 causes an increase of 1.1131850248770674 in the expected value of the outcome [y], over the data distribution/population represented by the dataset.\n"
     ]
    }
   ],
   "source": [
    "# Textual Interpreter\n",
    "interpretation = causal_estimate_ipw.interpret(method_name=\"textual_effect_interpreter\")"
   ]
  },
  {
   "cell_type": "code",
   "execution_count": 15,
   "id": "9c8fdf28",
   "metadata": {
    "execution": {
     "iopub.execute_input": "2022-07-28T13:53:58.122885Z",
     "iopub.status.busy": "2022-07-28T13:53:58.122671Z",
     "iopub.status.idle": "2022-07-28T13:53:58.349018Z",
     "shell.execute_reply": "2022-07-28T13:53:58.348304Z"
    }
   },
   "outputs": [
    {
     "data": {
      "image/png": "[encoded data removed]",
      "text/plain": [
       "<Figure size 576x576 with 2 Axes>"
      ]
     },
     "metadata": {
      "needs_background": "light"
     },
     "output_type": "display_data"
    }
   ],
   "source": [
    "interpretation = causal_estimate_ipw.interpret(method_name=\"confounder_distribution_interpreter\", fig_size=(8,8), font_size=12, var_name='W4', var_type='discrete')"
   ]
  },
  {
   "cell_type": "code",
   "execution_count": null,
   "id": "2a004972",
   "metadata": {},
   "outputs": [],
   "source": []
  }
 ],
 "metadata": {
  "kernelspec": {
   "display_name": "Python 3",
   "language": "python",
   "name": "python3"
  },
  "language_info": {
   "codemirror_mode": {
    "name": "ipython",
    "version": 3
   },
   "file_extension": ".py",
   "mimetype": "text/x-python",
   "name": "python",
   "nbconvert_exporter": "python",
   "pygments_lexer": "ipython3",
   "version": "3.8.10"
  },
  "toc": {
   "base_numbering": 1,
   "nav_menu": {},
   "number_sections": false,
   "sideBar": true,
   "skip_h1_title": true,
   "title_cell": "Table of Contents",
   "title_sidebar": "Contents",
   "toc_cell": false,
   "toc_position": {},
   "toc_section_display": true,
   "toc_window_display": false
  }
 },
 "nbformat": 4,
 "nbformat_minor": 5
}
