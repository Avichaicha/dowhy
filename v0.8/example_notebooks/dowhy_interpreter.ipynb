{
 "cells": [
  {
   "cell_type": "markdown",
   "id": "1108672c",
   "metadata": {},
   "source": [
    "# DoWhy: Interpreters for Causal Estimators\n",
    "\n",
    "This is a quick introduction to the use of interpreters in the DoWhy causal inference library.\n",
    "We will load in a sample dataset, use different methods for estimating the causal effect of a (pre-specified)treatment variable on a (pre-specified) outcome variable and demonstrate how to interpret the obtained results.\n",
    "\n",
    "First, let us add the required path for Python to find the DoWhy code and load all required packages"
   ]
  },
  {
   "cell_type": "code",
   "execution_count": 1,
   "id": "df3ceb0f",
   "metadata": {
    "execution": {
     "iopub.execute_input": "2022-08-13T02:02:48.094247Z",
     "iopub.status.busy": "2022-08-13T02:02:48.093954Z",
     "iopub.status.idle": "2022-08-13T02:02:48.110024Z",
     "shell.execute_reply": "2022-08-13T02:02:48.109357Z"
    }
   },
   "outputs": [],
   "source": [
    "%load_ext autoreload\n",
    "%autoreload 2"
   ]
  },
  {
   "cell_type": "code",
   "execution_count": 2,
   "id": "ddd49cab",
   "metadata": {
    "execution": {
     "iopub.execute_input": "2022-08-13T02:02:48.113692Z",
     "iopub.status.busy": "2022-08-13T02:02:48.113163Z",
     "iopub.status.idle": "2022-08-13T02:02:49.115759Z",
     "shell.execute_reply": "2022-08-13T02:02:49.114931Z"
    }
   },
   "outputs": [],
   "source": [
    "import numpy as np\n",
    "import pandas as pd\n",
    "import logging\n",
    "\n",
    "import dowhy\n",
    "from dowhy import CausalModel\n",
    "import dowhy.datasets "
   ]
  },
  {
   "cell_type": "markdown",
   "id": "6a90ca7d",
   "metadata": {},
   "source": [
    "Now, let us load a dataset. For simplicity, we simulate a dataset with linear relationships between common causes and treatment, and common causes and outcome.\n",
    "\n",
    "Beta is the true causal effect."
   ]
  },
  {
   "cell_type": "code",
   "execution_count": 3,
   "id": "a033afcc",
   "metadata": {
    "execution": {
     "iopub.execute_input": "2022-08-13T02:02:49.120233Z",
     "iopub.status.busy": "2022-08-13T02:02:49.119712Z",
     "iopub.status.idle": "2022-08-13T02:02:49.399975Z",
     "shell.execute_reply": "2022-08-13T02:02:49.399363Z"
    }
   },
   "outputs": [
    {
     "name": "stdout",
     "output_type": "stream",
     "text": [
      "9229\n"
     ]
    },
    {
     "data": {
      "text/html": [
       "<div>\n",
       "<style scoped>\n",
       "    .dataframe tbody tr th:only-of-type {\n",
       "        vertical-align: middle;\n",
       "    }\n",
       "\n",
       "    .dataframe tbody tr th {\n",
       "        vertical-align: top;\n",
       "    }\n",
       "\n",
       "    .dataframe thead th {\n",
       "        text-align: right;\n",
       "    }\n",
       "</style>\n",
       "<table border=\"1\" class=\"dataframe\">\n",
       "  <thead>\n",
       "    <tr style=\"text-align: right;\">\n",
       "      <th></th>\n",
       "      <th>Z0</th>\n",
       "      <th>Z1</th>\n",
       "      <th>W0</th>\n",
       "      <th>W1</th>\n",
       "      <th>W2</th>\n",
       "      <th>W3</th>\n",
       "      <th>W4</th>\n",
       "      <th>v0</th>\n",
       "      <th>y</th>\n",
       "    </tr>\n",
       "  </thead>\n",
       "  <tbody>\n",
       "    <tr>\n",
       "      <th>0</th>\n",
       "      <td>1.0</td>\n",
       "      <td>0.832951</td>\n",
       "      <td>-2.479538</td>\n",
       "      <td>-0.796437</td>\n",
       "      <td>-0.735061</td>\n",
       "      <td>0.801473</td>\n",
       "      <td>2</td>\n",
       "      <td>True</td>\n",
       "      <td>0.998251</td>\n",
       "    </tr>\n",
       "    <tr>\n",
       "      <th>1</th>\n",
       "      <td>1.0</td>\n",
       "      <td>0.451541</td>\n",
       "      <td>0.467495</td>\n",
       "      <td>-0.404018</td>\n",
       "      <td>0.493049</td>\n",
       "      <td>0.365127</td>\n",
       "      <td>3</td>\n",
       "      <td>True</td>\n",
       "      <td>4.441843</td>\n",
       "    </tr>\n",
       "    <tr>\n",
       "      <th>2</th>\n",
       "      <td>1.0</td>\n",
       "      <td>0.849879</td>\n",
       "      <td>0.897073</td>\n",
       "      <td>-0.995896</td>\n",
       "      <td>-1.034644</td>\n",
       "      <td>0.584186</td>\n",
       "      <td>3</td>\n",
       "      <td>True</td>\n",
       "      <td>4.737526</td>\n",
       "    </tr>\n",
       "    <tr>\n",
       "      <th>3</th>\n",
       "      <td>1.0</td>\n",
       "      <td>0.037344</td>\n",
       "      <td>1.500374</td>\n",
       "      <td>-2.294861</td>\n",
       "      <td>-1.321304</td>\n",
       "      <td>0.909758</td>\n",
       "      <td>1</td>\n",
       "      <td>True</td>\n",
       "      <td>3.430475</td>\n",
       "    </tr>\n",
       "    <tr>\n",
       "      <th>4</th>\n",
       "      <td>1.0</td>\n",
       "      <td>0.226200</td>\n",
       "      <td>-0.511350</td>\n",
       "      <td>-1.725332</td>\n",
       "      <td>-1.205042</td>\n",
       "      <td>-0.840334</td>\n",
       "      <td>2</td>\n",
       "      <td>True</td>\n",
       "      <td>1.271357</td>\n",
       "    </tr>\n",
       "    <tr>\n",
       "      <th>...</th>\n",
       "      <td>...</td>\n",
       "      <td>...</td>\n",
       "      <td>...</td>\n",
       "      <td>...</td>\n",
       "      <td>...</td>\n",
       "      <td>...</td>\n",
       "      <td>...</td>\n",
       "      <td>...</td>\n",
       "      <td>...</td>\n",
       "    </tr>\n",
       "    <tr>\n",
       "      <th>9995</th>\n",
       "      <td>1.0</td>\n",
       "      <td>0.090669</td>\n",
       "      <td>0.429962</td>\n",
       "      <td>-0.639593</td>\n",
       "      <td>-0.006138</td>\n",
       "      <td>0.978075</td>\n",
       "      <td>3</td>\n",
       "      <td>True</td>\n",
       "      <td>4.792380</td>\n",
       "    </tr>\n",
       "    <tr>\n",
       "      <th>9996</th>\n",
       "      <td>1.0</td>\n",
       "      <td>0.165464</td>\n",
       "      <td>1.921829</td>\n",
       "      <td>-0.814157</td>\n",
       "      <td>0.577515</td>\n",
       "      <td>0.009451</td>\n",
       "      <td>3</td>\n",
       "      <td>True</td>\n",
       "      <td>5.394441</td>\n",
       "    </tr>\n",
       "    <tr>\n",
       "      <th>9997</th>\n",
       "      <td>1.0</td>\n",
       "      <td>0.846082</td>\n",
       "      <td>-0.759612</td>\n",
       "      <td>1.756042</td>\n",
       "      <td>0.409052</td>\n",
       "      <td>1.759602</td>\n",
       "      <td>2</td>\n",
       "      <td>True</td>\n",
       "      <td>3.947908</td>\n",
       "    </tr>\n",
       "    <tr>\n",
       "      <th>9998</th>\n",
       "      <td>0.0</td>\n",
       "      <td>0.094807</td>\n",
       "      <td>1.491528</td>\n",
       "      <td>-0.366931</td>\n",
       "      <td>0.268298</td>\n",
       "      <td>1.755554</td>\n",
       "      <td>2</td>\n",
       "      <td>True</td>\n",
       "      <td>5.551370</td>\n",
       "    </tr>\n",
       "    <tr>\n",
       "      <th>9999</th>\n",
       "      <td>1.0</td>\n",
       "      <td>0.498916</td>\n",
       "      <td>-0.152879</td>\n",
       "      <td>-1.533130</td>\n",
       "      <td>-0.733596</td>\n",
       "      <td>-0.190408</td>\n",
       "      <td>0</td>\n",
       "      <td>True</td>\n",
       "      <td>0.334778</td>\n",
       "    </tr>\n",
       "  </tbody>\n",
       "</table>\n",
       "<p>10000 rows × 9 columns</p>\n",
       "</div>"
      ],
      "text/plain": [
       "       Z0        Z1        W0        W1        W2        W3 W4    v0         y\n",
       "0     1.0  0.832951 -2.479538 -0.796437 -0.735061  0.801473  2  True  0.998251\n",
       "1     1.0  0.451541  0.467495 -0.404018  0.493049  0.365127  3  True  4.441843\n",
       "2     1.0  0.849879  0.897073 -0.995896 -1.034644  0.584186  3  True  4.737526\n",
       "3     1.0  0.037344  1.500374 -2.294861 -1.321304  0.909758  1  True  3.430475\n",
       "4     1.0  0.226200 -0.511350 -1.725332 -1.205042 -0.840334  2  True  1.271357\n",
       "...   ...       ...       ...       ...       ...       ... ..   ...       ...\n",
       "9995  1.0  0.090669  0.429962 -0.639593 -0.006138  0.978075  3  True  4.792380\n",
       "9996  1.0  0.165464  1.921829 -0.814157  0.577515  0.009451  3  True  5.394441\n",
       "9997  1.0  0.846082 -0.759612  1.756042  0.409052  1.759602  2  True  3.947908\n",
       "9998  0.0  0.094807  1.491528 -0.366931  0.268298  1.755554  2  True  5.551370\n",
       "9999  1.0  0.498916 -0.152879 -1.533130 -0.733596 -0.190408  0  True  0.334778\n",
       "\n",
       "[10000 rows x 9 columns]"
      ]
     },
     "execution_count": 3,
     "metadata": {},
     "output_type": "execute_result"
    }
   ],
   "source": [
    "data = dowhy.datasets.linear_dataset(beta=1,\n",
    "        num_common_causes=5, \n",
    "        num_instruments = 2,\n",
    "        num_treatments=1,\n",
    "        num_discrete_common_causes=1,\n",
    "        num_samples=10000,\n",
    "        treatment_is_binary=True,\n",
    "        outcome_is_binary=False)\n",
    "df = data[\"df\"]\n",
    "print(df[df.v0==True].shape[0])\n",
    "df"
   ]
  },
  {
   "cell_type": "markdown",
   "id": "9777cacf",
   "metadata": {},
   "source": [
    "Note that we are using a pandas dataframe to load the data."
   ]
  },
  {
   "cell_type": "markdown",
   "id": "1e700805",
   "metadata": {},
   "source": [
    "## Identifying the causal estimand"
   ]
  },
  {
   "cell_type": "markdown",
   "id": "871b93e2",
   "metadata": {},
   "source": [
    "We now input a causal graph in the GML graph format."
   ]
  },
  {
   "cell_type": "code",
   "execution_count": 4,
   "id": "753595d2",
   "metadata": {
    "execution": {
     "iopub.execute_input": "2022-08-13T02:02:49.404302Z",
     "iopub.status.busy": "2022-08-13T02:02:49.403873Z",
     "iopub.status.idle": "2022-08-13T02:02:49.429138Z",
     "shell.execute_reply": "2022-08-13T02:02:49.428475Z"
    }
   },
   "outputs": [],
   "source": [
    "# With graph\n",
    "model=CausalModel(\n",
    "        data = df,\n",
    "        treatment=data[\"treatment_name\"],\n",
    "        outcome=data[\"outcome_name\"],\n",
    "        graph=data[\"gml_graph\"],\n",
    "        instruments=data[\"instrument_names\"]\n",
    "        )"
   ]
  },
  {
   "cell_type": "code",
   "execution_count": 5,
   "id": "53ce0ca5",
   "metadata": {
    "execution": {
     "iopub.execute_input": "2022-08-13T02:02:49.432801Z",
     "iopub.status.busy": "2022-08-13T02:02:49.432570Z",
     "iopub.status.idle": "2022-08-13T02:02:49.484157Z",
     "shell.execute_reply": "2022-08-13T02:02:49.483460Z"
    }
   },
   "outputs": [],
   "source": [
    "model.view_model()"
   ]
  },
  {
   "cell_type": "code",
   "execution_count": 6,
   "id": "1e0521b7",
   "metadata": {
    "execution": {
     "iopub.execute_input": "2022-08-13T02:02:49.487736Z",
     "iopub.status.busy": "2022-08-13T02:02:49.487368Z",
     "iopub.status.idle": "2022-08-13T02:02:49.513314Z",
     "shell.execute_reply": "2022-08-13T02:02:49.512723Z"
    }
   },
   "outputs": [
    {
     "data": {
      "image/png": "[encoded data removed]",
      "text/plain": [
       "<IPython.core.display.Image object>"
      ]
     },
     "metadata": {},
     "output_type": "display_data"
    }
   ],
   "source": [
    "from IPython.display import Image, display\n",
    "display(Image(filename=\"causal_model.png\"))"
   ]
  },
  {
   "cell_type": "markdown",
   "id": "16ec296d",
   "metadata": {},
   "source": [
    "We get a causal graph. Now identification and estimation is done."
   ]
  },
  {
   "cell_type": "code",
   "execution_count": 7,
   "id": "60baa4e4",
   "metadata": {
    "execution": {
     "iopub.execute_input": "2022-08-13T02:02:49.516745Z",
     "iopub.status.busy": "2022-08-13T02:02:49.516323Z",
     "iopub.status.idle": "2022-08-13T02:02:49.726031Z",
     "shell.execute_reply": "2022-08-13T02:02:49.725225Z"
    }
   },
   "outputs": [
    {
     "name": "stdout",
     "output_type": "stream",
     "text": [
      "Estimand type: nonparametric-ate\n",
      "\n",
      "### Estimand : 1\n",
      "Estimand name: backdoor\n",
      "Estimand expression:\n",
      "  d                       \n",
      "─────(E[y|W1,W4,W0,W3,W2])\n",
      "d[v₀]                     \n",
      "Estimand assumption 1, Unconfoundedness: If U→{v0} and U→y then P(y|v0,W1,W4,W0,W3,W2,U) = P(y|v0,W1,W4,W0,W3,W2)\n",
      "\n",
      "### Estimand : 2\n",
      "Estimand name: iv\n",
      "Estimand expression:\n",
      " ⎡                              -1⎤\n",
      " ⎢    d        ⎛    d          ⎞  ⎥\n",
      "E⎢─────────(y)⋅⎜─────────([v₀])⎟  ⎥\n",
      " ⎣d[Z₀  Z₁]    ⎝d[Z₀  Z₁]      ⎠  ⎦\n",
      "Estimand assumption 1, As-if-random: If U→→y then ¬(U →→{Z0,Z1})\n",
      "Estimand assumption 2, Exclusion: If we remove {Z0,Z1}→{v0}, then ¬({Z0,Z1}→y)\n",
      "\n",
      "### Estimand : 3\n",
      "Estimand name: frontdoor\n",
      "No such variable(s) found!\n",
      "\n"
     ]
    }
   ],
   "source": [
    "identified_estimand = model.identify_effect(proceed_when_unidentifiable=True)\n",
    "print(identified_estimand)"
   ]
  },
  {
   "cell_type": "markdown",
   "id": "9542065d",
   "metadata": {},
   "source": [
    "## Method 1: Propensity Score Stratification\n",
    "\n",
    "We will be using propensity scores to stratify units in the data."
   ]
  },
  {
   "cell_type": "code",
   "execution_count": 8,
   "id": "7debe126",
   "metadata": {
    "execution": {
     "iopub.execute_input": "2022-08-13T02:02:49.729706Z",
     "iopub.status.busy": "2022-08-13T02:02:49.729299Z",
     "iopub.status.idle": "2022-08-13T02:02:50.519873Z",
     "shell.execute_reply": "2022-08-13T02:02:50.519068Z"
    }
   },
   "outputs": [
    {
     "name": "stdout",
     "output_type": "stream",
     "text": [
      "propensity_score_stratification\n"
     ]
    },
    {
     "name": "stderr",
     "output_type": "stream",
     "text": [
      "/github/home/.cache/pypoetry/virtualenvs/dowhy-oN2hW5jr-py3.8/lib/python3.8/site-packages/sklearn/utils/validation.py:993: DataConversionWarning: A column-vector y was passed when a 1d array was expected. Please change the shape of y to (n_samples, ), for example using ravel().\n",
      "  y = column_or_1d(y, warn=True)\n"
     ]
    },
    {
     "name": "stdout",
     "output_type": "stream",
     "text": [
      "*** Causal Estimate ***\n",
      "\n",
      "## Identified estimand\n",
      "Estimand type: nonparametric-ate\n",
      "\n",
      "### Estimand : 1\n",
      "Estimand name: backdoor\n",
      "Estimand expression:\n",
      "  d                       \n",
      "─────(E[y|W1,W4,W0,W3,W2])\n",
      "d[v₀]                     \n",
      "Estimand assumption 1, Unconfoundedness: If U→{v0} and U→y then P(y|v0,W1,W4,W0,W3,W2,U) = P(y|v0,W1,W4,W0,W3,W2)\n",
      "\n",
      "## Realized estimand\n",
      "b: y~v0+W1+W4+W0+W3+W2\n",
      "Target units: att\n",
      "\n",
      "## Estimate\n",
      "Mean value: 0.9692122266840386\n",
      "\n",
      "Causal Estimate is 0.9692122266840386\n"
     ]
    }
   ],
   "source": [
    "causal_estimate_strat = model.estimate_effect(identified_estimand,\n",
    "                                              method_name=\"backdoor.propensity_score_stratification\",\n",
    "                                              target_units=\"att\")\n",
    "print(causal_estimate_strat)\n",
    "print(\"Causal Estimate is \" + str(causal_estimate_strat.value))"
   ]
  },
  {
   "cell_type": "markdown",
   "id": "8aa0a0b1",
   "metadata": {},
   "source": [
    "### Textual Interpreter\n",
    "\n",
    "The textual Interpreter describes (in words) the effect of unit change in the treatment variable on the outcome variable."
   ]
  },
  {
   "cell_type": "code",
   "execution_count": 9,
   "id": "4fd30de1",
   "metadata": {
    "execution": {
     "iopub.execute_input": "2022-08-13T02:02:50.523602Z",
     "iopub.status.busy": "2022-08-13T02:02:50.523020Z",
     "iopub.status.idle": "2022-08-13T02:02:50.547506Z",
     "shell.execute_reply": "2022-08-13T02:02:50.546777Z"
    }
   },
   "outputs": [
    {
     "name": "stdout",
     "output_type": "stream",
     "text": [
      "Increasing the treatment variable(s) [v0] from 0 to 1 causes an increase of 0.9692122266840386 in the expected value of the outcome [y], over the data distribution/population represented by the dataset.\n"
     ]
    }
   ],
   "source": [
    "# Textual Interpreter\n",
    "interpretation = causal_estimate_strat.interpret(method_name=\"textual_effect_interpreter\")"
   ]
  },
  {
   "cell_type": "markdown",
   "id": "ff9b8423",
   "metadata": {},
   "source": [
    "### Visual Interpreter\n",
    "\n",
    "The visual interpreter plots the change in the standardized mean difference (SMD) before and after Propensity Score based adjustment of the dataset. The formula for SMD is given below.\n",
    "\n",
    "\n",
    "$SMD = \\frac{\\bar X_{1} - \\bar X_{2}}{\\sqrt{(S_{1}^{2} + S_{2}^{2})/2}}$\n",
    "\n",
    "Here, $\\bar X_{1}$ and $\\bar X_{2}$ are the sample mean for the treated and control groups.\n"
   ]
  },
  {
   "cell_type": "code",
   "execution_count": 10,
   "id": "c8a81caa",
   "metadata": {
    "execution": {
     "iopub.execute_input": "2022-08-13T02:02:50.550872Z",
     "iopub.status.busy": "2022-08-13T02:02:50.550475Z",
     "iopub.status.idle": "2022-08-13T02:02:51.495034Z",
     "shell.execute_reply": "2022-08-13T02:02:51.494193Z"
    }
   },
   "outputs": [
    {
     "data": {
      "image/png": "[encoded data removed]",
      "text/plain": [
       "<Figure size 432x288 with 1 Axes>"
      ]
     },
     "metadata": {
      "needs_background": "light"
     },
     "output_type": "display_data"
    }
   ],
   "source": [
    "# Visual Interpreter\n",
    "interpretation = causal_estimate_strat.interpret(method_name=\"propensity_balance_interpreter\")"
   ]
  },
  {
   "cell_type": "markdown",
   "id": "e4dee5c1",
   "metadata": {},
   "source": [
    "This plot shows how the SMD decreases from the unadjusted to the stratified units. "
   ]
  },
  {
   "cell_type": "markdown",
   "id": "9c6d465d",
   "metadata": {},
   "source": [
    "## Method 2: Propensity Score Matching\n",
    "\n",
    "We will be using propensity scores to match units in the data."
   ]
  },
  {
   "cell_type": "code",
   "execution_count": 11,
   "id": "1929d413",
   "metadata": {
    "execution": {
     "iopub.execute_input": "2022-08-13T02:02:51.499265Z",
     "iopub.status.busy": "2022-08-13T02:02:51.498423Z",
     "iopub.status.idle": "2022-08-13T02:02:55.530351Z",
     "shell.execute_reply": "2022-08-13T02:02:55.529790Z"
    }
   },
   "outputs": [
    {
     "name": "stdout",
     "output_type": "stream",
     "text": [
      "propensity_score_matching\n"
     ]
    },
    {
     "name": "stderr",
     "output_type": "stream",
     "text": [
      "/github/home/.cache/pypoetry/virtualenvs/dowhy-oN2hW5jr-py3.8/lib/python3.8/site-packages/sklearn/utils/validation.py:993: DataConversionWarning: A column-vector y was passed when a 1d array was expected. Please change the shape of y to (n_samples, ), for example using ravel().\n",
      "  y = column_or_1d(y, warn=True)\n"
     ]
    },
    {
     "name": "stdout",
     "output_type": "stream",
     "text": [
      "*** Causal Estimate ***\n",
      "\n",
      "## Identified estimand\n",
      "Estimand type: nonparametric-ate\n",
      "\n",
      "### Estimand : 1\n",
      "Estimand name: backdoor\n",
      "Estimand expression:\n",
      "  d                       \n",
      "─────(E[y|W1,W4,W0,W3,W2])\n",
      "d[v₀]                     \n",
      "Estimand assumption 1, Unconfoundedness: If U→{v0} and U→y then P(y|v0,W1,W4,W0,W3,W2,U) = P(y|v0,W1,W4,W0,W3,W2)\n",
      "\n",
      "## Realized estimand\n",
      "b: y~v0+W1+W4+W0+W3+W2\n",
      "Target units: atc\n",
      "\n",
      "## Estimate\n",
      "Mean value: 1.0125425229316165\n",
      "\n",
      "Causal Estimate is 1.0125425229316165\n"
     ]
    }
   ],
   "source": [
    "causal_estimate_match = model.estimate_effect(identified_estimand,\n",
    "                                              method_name=\"backdoor.propensity_score_matching\",\n",
    "                                              target_units=\"atc\")\n",
    "print(causal_estimate_match)\n",
    "print(\"Causal Estimate is \" + str(causal_estimate_match.value))"
   ]
  },
  {
   "cell_type": "code",
   "execution_count": 12,
   "id": "0d28fce9",
   "metadata": {
    "execution": {
     "iopub.execute_input": "2022-08-13T02:02:55.533513Z",
     "iopub.status.busy": "2022-08-13T02:02:55.533042Z",
     "iopub.status.idle": "2022-08-13T02:02:55.558738Z",
     "shell.execute_reply": "2022-08-13T02:02:55.557854Z"
    }
   },
   "outputs": [
    {
     "name": "stdout",
     "output_type": "stream",
     "text": [
      "Increasing the treatment variable(s) [v0] from 0 to 1 causes an increase of 1.0125425229316165 in the expected value of the outcome [y], over the data distribution/population represented by the dataset.\n"
     ]
    }
   ],
   "source": [
    "# Textual Interpreter\n",
    "interpretation = causal_estimate_match.interpret(method_name=\"textual_effect_interpreter\")"
   ]
  },
  {
   "cell_type": "markdown",
   "id": "da32f3d5",
   "metadata": {},
   "source": [
    "Cannot use propensity balance interpretor here since the interpreter method only supports propensity score stratification estimator."
   ]
  },
  {
   "cell_type": "markdown",
   "id": "081f9318",
   "metadata": {},
   "source": [
    "## Method 3: Weighting\n",
    "\n",
    "We will be using (inverse) propensity scores to assign weights to units in the data. DoWhy supports a few different weighting schemes:\n",
    "1. Vanilla Inverse Propensity Score weighting (IPS) (weighting_scheme=\"ips_weight\")\n",
    "2. Self-normalized IPS weighting (also known as the Hajek estimator) (weighting_scheme=\"ips_normalized_weight\")\n",
    "3. Stabilized IPS weighting (weighting_scheme = \"ips_stabilized_weight\")"
   ]
  },
  {
   "cell_type": "code",
   "execution_count": 13,
   "id": "01a1fef9",
   "metadata": {
    "execution": {
     "iopub.execute_input": "2022-08-13T02:02:55.562295Z",
     "iopub.status.busy": "2022-08-13T02:02:55.561860Z",
     "iopub.status.idle": "2022-08-13T02:02:55.634121Z",
     "shell.execute_reply": "2022-08-13T02:02:55.633409Z"
    }
   },
   "outputs": [
    {
     "name": "stdout",
     "output_type": "stream",
     "text": [
      "propensity_score_weighting\n",
      "*** Causal Estimate ***\n",
      "\n",
      "## Identified estimand\n",
      "Estimand type: nonparametric-ate\n",
      "\n",
      "### Estimand : 1\n",
      "Estimand name: backdoor\n",
      "Estimand expression:\n",
      "  d                       \n",
      "─────(E[y|W1,W4,W0,W3,W2])\n",
      "d[v₀]                     \n",
      "Estimand assumption 1, Unconfoundedness: If U→{v0} and U→y then P(y|v0,W1,W4,W0,W3,W2,U) = P(y|v0,W1,W4,W0,W3,W2)\n",
      "\n",
      "## Realized estimand\n",
      "b: y~v0+W1+W4+W0+W3+W2\n",
      "Target units: ate\n",
      "\n",
      "## Estimate\n",
      "Mean value: 1.6093464024696837\n",
      "\n",
      "Causal Estimate is 1.6093464024696837\n"
     ]
    },
    {
     "name": "stderr",
     "output_type": "stream",
     "text": [
      "/github/home/.cache/pypoetry/virtualenvs/dowhy-oN2hW5jr-py3.8/lib/python3.8/site-packages/sklearn/utils/validation.py:993: DataConversionWarning: A column-vector y was passed when a 1d array was expected. Please change the shape of y to (n_samples, ), for example using ravel().\n",
      "  y = column_or_1d(y, warn=True)\n"
     ]
    }
   ],
   "source": [
    "causal_estimate_ipw = model.estimate_effect(identified_estimand,\n",
    "                                            method_name=\"backdoor.propensity_score_weighting\",\n",
    "                                            target_units = \"ate\",\n",
    "                                            method_params={\"weighting_scheme\":\"ips_weight\"})\n",
    "print(causal_estimate_ipw)\n",
    "print(\"Causal Estimate is \" + str(causal_estimate_ipw.value))"
   ]
  },
  {
   "cell_type": "code",
   "execution_count": 14,
   "id": "27fef484",
   "metadata": {
    "execution": {
     "iopub.execute_input": "2022-08-13T02:02:55.637516Z",
     "iopub.status.busy": "2022-08-13T02:02:55.637254Z",
     "iopub.status.idle": "2022-08-13T02:02:55.663201Z",
     "shell.execute_reply": "2022-08-13T02:02:55.662657Z"
    }
   },
   "outputs": [
    {
     "name": "stdout",
     "output_type": "stream",
     "text": [
      "Increasing the treatment variable(s) [v0] from 0 to 1 causes an increase of 1.6093464024696837 in the expected value of the outcome [y], over the data distribution/population represented by the dataset.\n"
     ]
    }
   ],
   "source": [
    "# Textual Interpreter\n",
    "interpretation = causal_estimate_ipw.interpret(method_name=\"textual_effect_interpreter\")"
   ]
  },
  {
   "cell_type": "code",
   "execution_count": 15,
   "id": "180ac53a",
   "metadata": {
    "execution": {
     "iopub.execute_input": "2022-08-13T02:02:55.666536Z",
     "iopub.status.busy": "2022-08-13T02:02:55.665824Z",
     "iopub.status.idle": "2022-08-13T02:02:55.900343Z",
     "shell.execute_reply": "2022-08-13T02:02:55.899686Z"
    }
   },
   "outputs": [
    {
     "data": {
      "image/png": "[encoded data removed]",
      "text/plain": [
       "<Figure size 576x576 with 2 Axes>"
      ]
     },
     "metadata": {
      "needs_background": "light"
     },
     "output_type": "display_data"
    }
   ],
   "source": [
    "interpretation = causal_estimate_ipw.interpret(method_name=\"confounder_distribution_interpreter\", fig_size=(8,8), font_size=12, var_name='W4', var_type='discrete')"
   ]
  },
  {
   "cell_type": "code",
   "execution_count": null,
   "id": "bb3962f7",
   "metadata": {},
   "outputs": [],
   "source": []
  }
 ],
 "metadata": {
  "kernelspec": {
   "display_name": "Python 3",
   "language": "python",
   "name": "python3"
  },
  "language_info": {
   "codemirror_mode": {
    "name": "ipython",
    "version": 3
   },
   "file_extension": ".py",
   "mimetype": "text/x-python",
   "name": "python",
   "nbconvert_exporter": "python",
   "pygments_lexer": "ipython3",
   "version": "3.8.10"
  },
  "toc": {
   "base_numbering": 1,
   "nav_menu": {},
   "number_sections": false,
   "sideBar": true,
   "skip_h1_title": true,
   "title_cell": "Table of Contents",
   "title_sidebar": "Contents",
   "toc_cell": false,
   "toc_position": {},
   "toc_section_display": true,
   "toc_window_display": false
  }
 },
 "nbformat": 4,
 "nbformat_minor": 5
}
