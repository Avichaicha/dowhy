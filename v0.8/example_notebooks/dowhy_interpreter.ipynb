{
 "cells": [
  {
   "cell_type": "markdown",
   "id": "ec12b2cb",
   "metadata": {},
   "source": [
    "# DoWhy: Interpreters for Causal Estimators\n",
    "\n",
    "This is a quick introduction to the use of interpreters in the DoWhy causal inference library.\n",
    "We will load in a sample dataset, use different methods for estimating the causal effect of a (pre-specified)treatment variable on a (pre-specified) outcome variable and demonstrate how to interpret the obtained results.\n",
    "\n",
    "First, let us add the required path for Python to find the DoWhy code and load all required packages"
   ]
  },
  {
   "cell_type": "code",
   "execution_count": 1,
   "id": "8e201d70",
   "metadata": {
    "execution": {
     "iopub.execute_input": "2022-08-19T04:28:04.142473Z",
     "iopub.status.busy": "2022-08-19T04:28:04.142051Z",
     "iopub.status.idle": "2022-08-19T04:28:04.158250Z",
     "shell.execute_reply": "2022-08-19T04:28:04.157657Z"
    }
   },
   "outputs": [],
   "source": [
    "%load_ext autoreload\n",
    "%autoreload 2"
   ]
  },
  {
   "cell_type": "code",
   "execution_count": 2,
   "id": "0c9d71de",
   "metadata": {
    "execution": {
     "iopub.execute_input": "2022-08-19T04:28:04.161735Z",
     "iopub.status.busy": "2022-08-19T04:28:04.161298Z",
     "iopub.status.idle": "2022-08-19T04:28:05.202529Z",
     "shell.execute_reply": "2022-08-19T04:28:05.201792Z"
    }
   },
   "outputs": [],
   "source": [
    "import numpy as np\n",
    "import pandas as pd\n",
    "import logging\n",
    "\n",
    "import dowhy\n",
    "from dowhy import CausalModel\n",
    "import dowhy.datasets "
   ]
  },
  {
   "cell_type": "markdown",
   "id": "d12ee9d6",
   "metadata": {},
   "source": [
    "Now, let us load a dataset. For simplicity, we simulate a dataset with linear relationships between common causes and treatment, and common causes and outcome.\n",
    "\n",
    "Beta is the true causal effect."
   ]
  },
  {
   "cell_type": "code",
   "execution_count": 3,
   "id": "99506e09",
   "metadata": {
    "execution": {
     "iopub.execute_input": "2022-08-19T04:28:05.206416Z",
     "iopub.status.busy": "2022-08-19T04:28:05.206037Z",
     "iopub.status.idle": "2022-08-19T04:28:05.499087Z",
     "shell.execute_reply": "2022-08-19T04:28:05.498432Z"
    }
   },
   "outputs": [
    {
     "name": "stdout",
     "output_type": "stream",
     "text": [
      "8552\n"
     ]
    },
    {
     "data": {
      "text/html": [
       "<div>\n",
       "<style scoped>\n",
       "    .dataframe tbody tr th:only-of-type {\n",
       "        vertical-align: middle;\n",
       "    }\n",
       "\n",
       "    .dataframe tbody tr th {\n",
       "        vertical-align: top;\n",
       "    }\n",
       "\n",
       "    .dataframe thead th {\n",
       "        text-align: right;\n",
       "    }\n",
       "</style>\n",
       "<table border=\"1\" class=\"dataframe\">\n",
       "  <thead>\n",
       "    <tr style=\"text-align: right;\">\n",
       "      <th></th>\n",
       "      <th>Z0</th>\n",
       "      <th>Z1</th>\n",
       "      <th>W0</th>\n",
       "      <th>W1</th>\n",
       "      <th>W2</th>\n",
       "      <th>W3</th>\n",
       "      <th>W4</th>\n",
       "      <th>v0</th>\n",
       "      <th>y</th>\n",
       "    </tr>\n",
       "  </thead>\n",
       "  <tbody>\n",
       "    <tr>\n",
       "      <th>0</th>\n",
       "      <td>1.0</td>\n",
       "      <td>0.772757</td>\n",
       "      <td>1.054573</td>\n",
       "      <td>-0.387121</td>\n",
       "      <td>-0.644504</td>\n",
       "      <td>-1.699274</td>\n",
       "      <td>2</td>\n",
       "      <td>False</td>\n",
       "      <td>-0.285148</td>\n",
       "    </tr>\n",
       "    <tr>\n",
       "      <th>1</th>\n",
       "      <td>1.0</td>\n",
       "      <td>0.104860</td>\n",
       "      <td>-0.270618</td>\n",
       "      <td>0.468608</td>\n",
       "      <td>0.361850</td>\n",
       "      <td>-0.690200</td>\n",
       "      <td>2</td>\n",
       "      <td>True</td>\n",
       "      <td>1.233416</td>\n",
       "    </tr>\n",
       "    <tr>\n",
       "      <th>2</th>\n",
       "      <td>1.0</td>\n",
       "      <td>0.574277</td>\n",
       "      <td>-0.935653</td>\n",
       "      <td>-0.083267</td>\n",
       "      <td>-1.402399</td>\n",
       "      <td>-0.929143</td>\n",
       "      <td>0</td>\n",
       "      <td>True</td>\n",
       "      <td>-0.348215</td>\n",
       "    </tr>\n",
       "    <tr>\n",
       "      <th>3</th>\n",
       "      <td>1.0</td>\n",
       "      <td>0.647357</td>\n",
       "      <td>-1.970790</td>\n",
       "      <td>0.042676</td>\n",
       "      <td>-0.860294</td>\n",
       "      <td>-0.399616</td>\n",
       "      <td>3</td>\n",
       "      <td>True</td>\n",
       "      <td>0.211770</td>\n",
       "    </tr>\n",
       "    <tr>\n",
       "      <th>4</th>\n",
       "      <td>1.0</td>\n",
       "      <td>0.015073</td>\n",
       "      <td>-1.773901</td>\n",
       "      <td>-1.287830</td>\n",
       "      <td>-0.774005</td>\n",
       "      <td>-0.277550</td>\n",
       "      <td>0</td>\n",
       "      <td>True</td>\n",
       "      <td>-0.754848</td>\n",
       "    </tr>\n",
       "    <tr>\n",
       "      <th>...</th>\n",
       "      <td>...</td>\n",
       "      <td>...</td>\n",
       "      <td>...</td>\n",
       "      <td>...</td>\n",
       "      <td>...</td>\n",
       "      <td>...</td>\n",
       "      <td>...</td>\n",
       "      <td>...</td>\n",
       "      <td>...</td>\n",
       "    </tr>\n",
       "    <tr>\n",
       "      <th>9995</th>\n",
       "      <td>0.0</td>\n",
       "      <td>0.438086</td>\n",
       "      <td>-1.427159</td>\n",
       "      <td>-0.368037</td>\n",
       "      <td>0.662749</td>\n",
       "      <td>0.718433</td>\n",
       "      <td>3</td>\n",
       "      <td>True</td>\n",
       "      <td>1.287250</td>\n",
       "    </tr>\n",
       "    <tr>\n",
       "      <th>9996</th>\n",
       "      <td>1.0</td>\n",
       "      <td>0.180684</td>\n",
       "      <td>0.809237</td>\n",
       "      <td>0.194829</td>\n",
       "      <td>0.396370</td>\n",
       "      <td>-0.313519</td>\n",
       "      <td>2</td>\n",
       "      <td>True</td>\n",
       "      <td>1.820633</td>\n",
       "    </tr>\n",
       "    <tr>\n",
       "      <th>9997</th>\n",
       "      <td>1.0</td>\n",
       "      <td>0.356458</td>\n",
       "      <td>-0.978852</td>\n",
       "      <td>-0.828353</td>\n",
       "      <td>0.357882</td>\n",
       "      <td>-0.125534</td>\n",
       "      <td>1</td>\n",
       "      <td>True</td>\n",
       "      <td>0.398162</td>\n",
       "    </tr>\n",
       "    <tr>\n",
       "      <th>9998</th>\n",
       "      <td>0.0</td>\n",
       "      <td>0.884906</td>\n",
       "      <td>-0.444923</td>\n",
       "      <td>-0.322219</td>\n",
       "      <td>0.323211</td>\n",
       "      <td>0.089148</td>\n",
       "      <td>0</td>\n",
       "      <td>True</td>\n",
       "      <td>0.793036</td>\n",
       "    </tr>\n",
       "    <tr>\n",
       "      <th>9999</th>\n",
       "      <td>0.0</td>\n",
       "      <td>0.091484</td>\n",
       "      <td>-0.380927</td>\n",
       "      <td>-1.112709</td>\n",
       "      <td>-0.524455</td>\n",
       "      <td>0.016247</td>\n",
       "      <td>0</td>\n",
       "      <td>True</td>\n",
       "      <td>0.208880</td>\n",
       "    </tr>\n",
       "  </tbody>\n",
       "</table>\n",
       "<p>10000 rows × 9 columns</p>\n",
       "</div>"
      ],
      "text/plain": [
       "       Z0        Z1        W0        W1        W2        W3 W4     v0  \\\n",
       "0     1.0  0.772757  1.054573 -0.387121 -0.644504 -1.699274  2  False   \n",
       "1     1.0  0.104860 -0.270618  0.468608  0.361850 -0.690200  2   True   \n",
       "2     1.0  0.574277 -0.935653 -0.083267 -1.402399 -0.929143  0   True   \n",
       "3     1.0  0.647357 -1.970790  0.042676 -0.860294 -0.399616  3   True   \n",
       "4     1.0  0.015073 -1.773901 -1.287830 -0.774005 -0.277550  0   True   \n",
       "...   ...       ...       ...       ...       ...       ... ..    ...   \n",
       "9995  0.0  0.438086 -1.427159 -0.368037  0.662749  0.718433  3   True   \n",
       "9996  1.0  0.180684  0.809237  0.194829  0.396370 -0.313519  2   True   \n",
       "9997  1.0  0.356458 -0.978852 -0.828353  0.357882 -0.125534  1   True   \n",
       "9998  0.0  0.884906 -0.444923 -0.322219  0.323211  0.089148  0   True   \n",
       "9999  0.0  0.091484 -0.380927 -1.112709 -0.524455  0.016247  0   True   \n",
       "\n",
       "             y  \n",
       "0    -0.285148  \n",
       "1     1.233416  \n",
       "2    -0.348215  \n",
       "3     0.211770  \n",
       "4    -0.754848  \n",
       "...        ...  \n",
       "9995  1.287250  \n",
       "9996  1.820633  \n",
       "9997  0.398162  \n",
       "9998  0.793036  \n",
       "9999  0.208880  \n",
       "\n",
       "[10000 rows x 9 columns]"
      ]
     },
     "execution_count": 3,
     "metadata": {},
     "output_type": "execute_result"
    }
   ],
   "source": [
    "data = dowhy.datasets.linear_dataset(beta=1,\n",
    "        num_common_causes=5, \n",
    "        num_instruments = 2,\n",
    "        num_treatments=1,\n",
    "        num_discrete_common_causes=1,\n",
    "        num_samples=10000,\n",
    "        treatment_is_binary=True,\n",
    "        outcome_is_binary=False)\n",
    "df = data[\"df\"]\n",
    "print(df[df.v0==True].shape[0])\n",
    "df"
   ]
  },
  {
   "cell_type": "markdown",
   "id": "50414315",
   "metadata": {},
   "source": [
    "Note that we are using a pandas dataframe to load the data."
   ]
  },
  {
   "cell_type": "markdown",
   "id": "226acc9e",
   "metadata": {},
   "source": [
    "## Identifying the causal estimand"
   ]
  },
  {
   "cell_type": "markdown",
   "id": "480e6602",
   "metadata": {},
   "source": [
    "We now input a causal graph in the GML graph format."
   ]
  },
  {
   "cell_type": "code",
   "execution_count": 4,
   "id": "03040e25",
   "metadata": {
    "execution": {
     "iopub.execute_input": "2022-08-19T04:28:05.503079Z",
     "iopub.status.busy": "2022-08-19T04:28:05.502838Z",
     "iopub.status.idle": "2022-08-19T04:28:05.528553Z",
     "shell.execute_reply": "2022-08-19T04:28:05.527899Z"
    }
   },
   "outputs": [],
   "source": [
    "# With graph\n",
    "model=CausalModel(\n",
    "        data = df,\n",
    "        treatment=data[\"treatment_name\"],\n",
    "        outcome=data[\"outcome_name\"],\n",
    "        graph=data[\"gml_graph\"],\n",
    "        instruments=data[\"instrument_names\"]\n",
    "        )"
   ]
  },
  {
   "cell_type": "code",
   "execution_count": 5,
   "id": "1af2e87e",
   "metadata": {
    "execution": {
     "iopub.execute_input": "2022-08-19T04:28:05.532321Z",
     "iopub.status.busy": "2022-08-19T04:28:05.532069Z",
     "iopub.status.idle": "2022-08-19T04:28:05.587980Z",
     "shell.execute_reply": "2022-08-19T04:28:05.587274Z"
    }
   },
   "outputs": [],
   "source": [
    "model.view_model()"
   ]
  },
  {
   "cell_type": "code",
   "execution_count": 6,
   "id": "377fdd29",
   "metadata": {
    "execution": {
     "iopub.execute_input": "2022-08-19T04:28:05.592744Z",
     "iopub.status.busy": "2022-08-19T04:28:05.592066Z",
     "iopub.status.idle": "2022-08-19T04:28:05.619555Z",
     "shell.execute_reply": "2022-08-19T04:28:05.618886Z"
    }
   },
   "outputs": [
    {
     "data": {
      "image/png": "[encoded data removed]",
      "text/plain": [
       "<IPython.core.display.Image object>"
      ]
     },
     "metadata": {},
     "output_type": "display_data"
    }
   ],
   "source": [
    "from IPython.display import Image, display\n",
    "display(Image(filename=\"causal_model.png\"))"
   ]
  },
  {
   "cell_type": "markdown",
   "id": "0699fb53",
   "metadata": {},
   "source": [
    "We get a causal graph. Now identification and estimation is done."
   ]
  },
  {
   "cell_type": "code",
   "execution_count": 7,
   "id": "28c70c69",
   "metadata": {
    "execution": {
     "iopub.execute_input": "2022-08-19T04:28:05.623219Z",
     "iopub.status.busy": "2022-08-19T04:28:05.622727Z",
     "iopub.status.idle": "2022-08-19T04:28:05.848215Z",
     "shell.execute_reply": "2022-08-19T04:28:05.847437Z"
    }
   },
   "outputs": [
    {
     "name": "stdout",
     "output_type": "stream",
     "text": [
      "Estimand type: nonparametric-ate\n",
      "\n",
      "### Estimand : 1\n",
      "Estimand name: backdoor\n",
      "Estimand expression:\n",
      "  d                       \n",
      "─────(E[y|W0,W2,W4,W1,W3])\n",
      "d[v₀]                     \n",
      "Estimand assumption 1, Unconfoundedness: If U→{v0} and U→y then P(y|v0,W0,W2,W4,W1,W3,U) = P(y|v0,W0,W2,W4,W1,W3)\n",
      "\n",
      "### Estimand : 2\n",
      "Estimand name: iv\n",
      "Estimand expression:\n",
      " ⎡                              -1⎤\n",
      " ⎢    d        ⎛    d          ⎞  ⎥\n",
      "E⎢─────────(y)⋅⎜─────────([v₀])⎟  ⎥\n",
      " ⎣d[Z₁  Z₀]    ⎝d[Z₁  Z₀]      ⎠  ⎦\n",
      "Estimand assumption 1, As-if-random: If U→→y then ¬(U →→{Z1,Z0})\n",
      "Estimand assumption 2, Exclusion: If we remove {Z1,Z0}→{v0}, then ¬({Z1,Z0}→y)\n",
      "\n",
      "### Estimand : 3\n",
      "Estimand name: frontdoor\n",
      "No such variable(s) found!\n",
      "\n"
     ]
    }
   ],
   "source": [
    "identified_estimand = model.identify_effect(proceed_when_unidentifiable=True)\n",
    "print(identified_estimand)"
   ]
  },
  {
   "cell_type": "markdown",
   "id": "fd0fc9c3",
   "metadata": {},
   "source": [
    "## Method 1: Propensity Score Stratification\n",
    "\n",
    "We will be using propensity scores to stratify units in the data."
   ]
  },
  {
   "cell_type": "code",
   "execution_count": 8,
   "id": "cc519068",
   "metadata": {
    "execution": {
     "iopub.execute_input": "2022-08-19T04:28:05.851682Z",
     "iopub.status.busy": "2022-08-19T04:28:05.851328Z",
     "iopub.status.idle": "2022-08-19T04:28:06.647530Z",
     "shell.execute_reply": "2022-08-19T04:28:06.646694Z"
    }
   },
   "outputs": [
    {
     "name": "stdout",
     "output_type": "stream",
     "text": [
      "propensity_score_stratification\n"
     ]
    },
    {
     "name": "stdout",
     "output_type": "stream",
     "text": [
      "*** Causal Estimate ***\n",
      "\n",
      "## Identified estimand\n",
      "Estimand type: nonparametric-ate\n",
      "\n",
      "### Estimand : 1\n",
      "Estimand name: backdoor\n",
      "Estimand expression:\n",
      "  d                       \n",
      "─────(E[y|W0,W2,W4,W1,W3])\n",
      "d[v₀]                     \n",
      "Estimand assumption 1, Unconfoundedness: If U→{v0} and U→y then P(y|v0,W0,W2,W4,W1,W3,U) = P(y|v0,W0,W2,W4,W1,W3)\n",
      "\n",
      "## Realized estimand\n",
      "b: y~v0+W0+W2+W4+W1+W3\n",
      "Target units: att\n",
      "\n",
      "## Estimate\n",
      "Mean value: 1.0029787929271605\n",
      "\n",
      "Causal Estimate is 1.0029787929271605\n"
     ]
    }
   ],
   "source": [
    "causal_estimate_strat = model.estimate_effect(identified_estimand,\n",
    "                                              method_name=\"backdoor.propensity_score_stratification\",\n",
    "                                              target_units=\"att\")\n",
    "print(causal_estimate_strat)\n",
    "print(\"Causal Estimate is \" + str(causal_estimate_strat.value))"
   ]
  },
  {
   "cell_type": "markdown",
   "id": "1d2598cf",
   "metadata": {},
   "source": [
    "### Textual Interpreter\n",
    "\n",
    "The textual Interpreter describes (in words) the effect of unit change in the treatment variable on the outcome variable."
   ]
  },
  {
   "cell_type": "code",
   "execution_count": 9,
   "id": "cd535fc8",
   "metadata": {
    "execution": {
     "iopub.execute_input": "2022-08-19T04:28:06.651048Z",
     "iopub.status.busy": "2022-08-19T04:28:06.650775Z",
     "iopub.status.idle": "2022-08-19T04:28:06.676631Z",
     "shell.execute_reply": "2022-08-19T04:28:06.676035Z"
    }
   },
   "outputs": [
    {
     "name": "stdout",
     "output_type": "stream",
     "text": [
      "Increasing the treatment variable(s) [v0] from 0 to 1 causes an increase of 1.0029787929271605 in the expected value of the outcome [y], over the data distribution/population represented by the dataset.\n"
     ]
    }
   ],
   "source": [
    "# Textual Interpreter\n",
    "interpretation = causal_estimate_strat.interpret(method_name=\"textual_effect_interpreter\")"
   ]
  },
  {
   "cell_type": "markdown",
   "id": "1b943d08",
   "metadata": {},
   "source": [
    "### Visual Interpreter\n",
    "\n",
    "The visual interpreter plots the change in the standardized mean difference (SMD) before and after Propensity Score based adjustment of the dataset. The formula for SMD is given below.\n",
    "\n",
    "\n",
    "$SMD = \\frac{\\bar X_{1} - \\bar X_{2}}{\\sqrt{(S_{1}^{2} + S_{2}^{2})/2}}$\n",
    "\n",
    "Here, $\\bar X_{1}$ and $\\bar X_{2}$ are the sample mean for the treated and control groups.\n"
   ]
  },
  {
   "cell_type": "code",
   "execution_count": 10,
   "id": "0180a3d6",
   "metadata": {
    "execution": {
     "iopub.execute_input": "2022-08-19T04:28:06.680229Z",
     "iopub.status.busy": "2022-08-19T04:28:06.679516Z",
     "iopub.status.idle": "2022-08-19T04:28:07.777582Z",
     "shell.execute_reply": "2022-08-19T04:28:07.776895Z"
    }
   },
   "outputs": [
    {
     "data": {
      "image/png": "[encoded data removed]",
      "text/plain": [
       "<Figure size 432x288 with 1 Axes>"
      ]
     },
     "metadata": {
      "needs_background": "light"
     },
     "output_type": "display_data"
    }
   ],
   "source": [
    "# Visual Interpreter\n",
    "interpretation = causal_estimate_strat.interpret(method_name=\"propensity_balance_interpreter\")"
   ]
  },
  {
   "cell_type": "markdown",
   "id": "7a0ab946",
   "metadata": {},
   "source": [
    "This plot shows how the SMD decreases from the unadjusted to the stratified units. "
   ]
  },
  {
   "cell_type": "markdown",
   "id": "61334c9a",
   "metadata": {},
   "source": [
    "## Method 2: Propensity Score Matching\n",
    "\n",
    "We will be using propensity scores to match units in the data."
   ]
  },
  {
   "cell_type": "code",
   "execution_count": 11,
   "id": "57ce2ae4",
   "metadata": {
    "execution": {
     "iopub.execute_input": "2022-08-19T04:28:07.781294Z",
     "iopub.status.busy": "2022-08-19T04:28:07.780904Z",
     "iopub.status.idle": "2022-08-19T04:28:12.298488Z",
     "shell.execute_reply": "2022-08-19T04:28:12.297888Z"
    }
   },
   "outputs": [
    {
     "name": "stdout",
     "output_type": "stream",
     "text": [
      "propensity_score_matching\n"
     ]
    },
    {
     "name": "stdout",
     "output_type": "stream",
     "text": [
      "*** Causal Estimate ***\n",
      "\n",
      "## Identified estimand\n",
      "Estimand type: nonparametric-ate\n",
      "\n",
      "### Estimand : 1\n",
      "Estimand name: backdoor\n",
      "Estimand expression:\n",
      "  d                       \n",
      "─────(E[y|W0,W2,W4,W1,W3])\n",
      "d[v₀]                     \n",
      "Estimand assumption 1, Unconfoundedness: If U→{v0} and U→y then P(y|v0,W0,W2,W4,W1,W3,U) = P(y|v0,W0,W2,W4,W1,W3)\n",
      "\n",
      "## Realized estimand\n",
      "b: y~v0+W0+W2+W4+W1+W3\n",
      "Target units: atc\n",
      "\n",
      "## Estimate\n",
      "Mean value: 0.975808045825229\n",
      "\n",
      "Causal Estimate is 0.975808045825229\n"
     ]
    }
   ],
   "source": [
    "causal_estimate_match = model.estimate_effect(identified_estimand,\n",
    "                                              method_name=\"backdoor.propensity_score_matching\",\n",
    "                                              target_units=\"atc\")\n",
    "print(causal_estimate_match)\n",
    "print(\"Causal Estimate is \" + str(causal_estimate_match.value))"
   ]
  },
  {
   "cell_type": "code",
   "execution_count": 12,
   "id": "602f8a1d",
   "metadata": {
    "execution": {
     "iopub.execute_input": "2022-08-19T04:28:12.301947Z",
     "iopub.status.busy": "2022-08-19T04:28:12.301693Z",
     "iopub.status.idle": "2022-08-19T04:28:12.326853Z",
     "shell.execute_reply": "2022-08-19T04:28:12.326063Z"
    }
   },
   "outputs": [
    {
     "name": "stdout",
     "output_type": "stream",
     "text": [
      "Increasing the treatment variable(s) [v0] from 0 to 1 causes an increase of 0.975808045825229 in the expected value of the outcome [y], over the data distribution/population represented by the dataset.\n"
     ]
    }
   ],
   "source": [
    "# Textual Interpreter\n",
    "interpretation = causal_estimate_match.interpret(method_name=\"textual_effect_interpreter\")"
   ]
  },
  {
   "cell_type": "markdown",
   "id": "57ea39ee",
   "metadata": {},
   "source": [
    "Cannot use propensity balance interpretor here since the interpreter method only supports propensity score stratification estimator."
   ]
  },
  {
   "cell_type": "markdown",
   "id": "4f2a63a6",
   "metadata": {},
   "source": [
    "## Method 3: Weighting\n",
    "\n",
    "We will be using (inverse) propensity scores to assign weights to units in the data. DoWhy supports a few different weighting schemes:\n",
    "1. Vanilla Inverse Propensity Score weighting (IPS) (weighting_scheme=\"ips_weight\")\n",
    "2. Self-normalized IPS weighting (also known as the Hajek estimator) (weighting_scheme=\"ips_normalized_weight\")\n",
    "3. Stabilized IPS weighting (weighting_scheme = \"ips_stabilized_weight\")"
   ]
  },
  {
   "cell_type": "code",
   "execution_count": 13,
   "id": "a4849fd7",
   "metadata": {
    "execution": {
     "iopub.execute_input": "2022-08-19T04:28:12.330326Z",
     "iopub.status.busy": "2022-08-19T04:28:12.330087Z",
     "iopub.status.idle": "2022-08-19T04:28:12.391536Z",
     "shell.execute_reply": "2022-08-19T04:28:12.390602Z"
    }
   },
   "outputs": [
    {
     "name": "stdout",
     "output_type": "stream",
     "text": [
      "propensity_score_weighting\n",
      "*** Causal Estimate ***\n",
      "\n",
      "## Identified estimand\n",
      "Estimand type: nonparametric-ate\n",
      "\n",
      "### Estimand : 1\n",
      "Estimand name: backdoor\n",
      "Estimand expression:\n",
      "  d                       \n",
      "─────(E[y|W0,W2,W4,W1,W3])\n",
      "d[v₀]                     \n",
      "Estimand assumption 1, Unconfoundedness: If U→{v0} and U→y then P(y|v0,W0,W2,W4,W1,W3,U) = P(y|v0,W0,W2,W4,W1,W3)\n",
      "\n",
      "## Realized estimand\n",
      "b: y~v0+W0+W2+W4+W1+W3\n",
      "Target units: ate\n",
      "\n",
      "## Estimate\n",
      "Mean value: 1.059656292478056\n",
      "\n",
      "Causal Estimate is 1.059656292478056\n"
     ]
    }
   ],
   "source": [
    "causal_estimate_ipw = model.estimate_effect(identified_estimand,\n",
    "                                            method_name=\"backdoor.propensity_score_weighting\",\n",
    "                                            target_units = \"ate\",\n",
    "                                            method_params={\"weighting_scheme\":\"ips_weight\"})\n",
    "print(causal_estimate_ipw)\n",
    "print(\"Causal Estimate is \" + str(causal_estimate_ipw.value))"
   ]
  },
  {
   "cell_type": "code",
   "execution_count": 14,
   "id": "31319629",
   "metadata": {
    "execution": {
     "iopub.execute_input": "2022-08-19T04:28:12.394552Z",
     "iopub.status.busy": "2022-08-19T04:28:12.394313Z",
     "iopub.status.idle": "2022-08-19T04:28:12.419168Z",
     "shell.execute_reply": "2022-08-19T04:28:12.418450Z"
    }
   },
   "outputs": [
    {
     "name": "stdout",
     "output_type": "stream",
     "text": [
      "Increasing the treatment variable(s) [v0] from 0 to 1 causes an increase of 1.059656292478056 in the expected value of the outcome [y], over the data distribution/population represented by the dataset.\n"
     ]
    }
   ],
   "source": [
    "# Textual Interpreter\n",
    "interpretation = causal_estimate_ipw.interpret(method_name=\"textual_effect_interpreter\")"
   ]
  },
  {
   "cell_type": "code",
   "execution_count": 15,
   "id": "0dd847ac",
   "metadata": {
    "execution": {
     "iopub.execute_input": "2022-08-19T04:28:12.422113Z",
     "iopub.status.busy": "2022-08-19T04:28:12.421869Z",
     "iopub.status.idle": "2022-08-19T04:28:12.667209Z",
     "shell.execute_reply": "2022-08-19T04:28:12.666509Z"
    }
   },
   "outputs": [
    {
     "data": {
      "image/png": "[encoded data removed]",
      "text/plain": [
       "<Figure size 576x576 with 2 Axes>"
      ]
     },
     "metadata": {
      "needs_background": "light"
     },
     "output_type": "display_data"
    }
   ],
   "source": [
    "interpretation = causal_estimate_ipw.interpret(method_name=\"confounder_distribution_interpreter\", fig_size=(8,8), font_size=12, var_name='W4', var_type='discrete')"
   ]
  },
  {
   "cell_type": "code",
   "execution_count": null,
   "id": "b20ba1b9",
   "metadata": {},
   "outputs": [],
   "source": []
  }
 ],
 "metadata": {
  "kernelspec": {
   "display_name": "Python 3",
   "language": "python",
   "name": "python3"
  },
  "language_info": {
   "codemirror_mode": {
    "name": "ipython",
    "version": 3
   },
   "file_extension": ".py",
   "mimetype": "text/x-python",
   "name": "python",
   "nbconvert_exporter": "python",
   "pygments_lexer": "ipython3",
   "version": "3.8.10"
  },
  "toc": {
   "base_numbering": 1,
   "nav_menu": {},
   "number_sections": false,
   "sideBar": true,
   "skip_h1_title": true,
   "title_cell": "Table of Contents",
   "title_sidebar": "Contents",
   "toc_cell": false,
   "toc_position": {},
   "toc_section_display": true,
   "toc_window_display": false
  }
 },
 "nbformat": 4,
 "nbformat_minor": 5
}
