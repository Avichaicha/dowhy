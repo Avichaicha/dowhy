{
 "cells": [
  {
   "cell_type": "markdown",
   "metadata": {},
   "source": [
    "# Impact of 401(k) eligibility on net financial assets\n",
    "\n",
    "In this case study, we will use real-world data from 401(k) analysis to explain how Causality library can be used to estimate average treatment effect (ATE) and conditional ATE (CATE)."
   ]
  },
  {
   "cell_type": "markdown",
   "metadata": {},
   "source": [
    "## Background\n",
    "\n",
    "In the early 1980s, the United States government introduced several tax deferred savings options for employees in an effort to increase individual saving for retirement. One popular option is the 401(k) plan, which allows employees to contribute a portion of their wages to individual accounts. The goal here is to understand the effect of 401(k) eligibility on net financial assets (which is a sum of 401(k) balances and non-401(k) assets) considering heterogeneity due to individual's characteristics (income in particular).\n",
    "\n",
    "Since 401(k) plans are provided by employers, only employees of companies that offer those plans are eligible for participation. As such, we are dealing with a non-randomized study. Several factors (e.g. education, preference for saving) affect 401(k) eligibility as well as net financial assets."
   ]
  },
  {
   "cell_type": "markdown",
   "metadata": {},
   "source": [
    "## Data\n",
    "\n",
    "We consider a sample from the Survey of Income and Program Participation in 1991. The sample consists of households where the reference individual is 25-64 years old, and at least one individual is employed but no one is self-employed. There are records of 9915 households in the sample. For each household, 44 variables are recorded that include the eligibility of the household reference person for the 401(k) plan (the treatment), net financial assets (the outcome), and other covariates, such as age, income, family size, education, marital status, etc. We consider 16 covariates in particular.\n",
    "\n",
    "We summarise the variables used for this case study in the table below.\n",
    "\n",
    "| Variable Name | Type | Details |\n",
    "| --- | --- | --- |\n",
    "|e401|Treatment|eligibility for the 401(k) plan|\n",
    "|net_tfa|Outcome|net financial assets (in USD)|\n",
    "|age|Covariate|Age|\n",
    "|inc|Covariate|income (in USD)|\n",
    "|fsize|Covariate|family size|\n",
    "|educ|Covariate|education (in years)|\n",
    "|male|Covariate|is a male?|\n",
    "|db|Covariate|defined benefit pension|\n",
    "|marr|Covariate|married?|\n",
    "|twoearn|Covariate|two earners|\n",
    "|pira|Covariate|participation in IRA|\n",
    "|hown|Covariate|home owner?|\n",
    "|hval|Covariate|home value (in USD)|\n",
    "|hequity|Covariate|home equity (in USD)|\n",
    "|hmort|Covariate|home mortgage (in USD)|\n",
    "|nohs|Covariate|no high-school? (one-hot encoded)|\n",
    "|hs|Covariate|high-school? (one-hot encoded)|\n",
    "|smcol|Covariate|some-college? (one-hot encoded)|\n",
    "\n",
    "\n",
    "The dataset is publicly available online from the [`hdm`](https://rdrr.io/cran/hdm/man/pension.html) R package. For more details about the data set, we refer the interested reader to the following paper:\n",
    "\n",
    "V. Chernohukov, C. Hansen (2004). [The impact of 401(k) participation on the wealth distribution: An instrumental quantile regression analysis](http://www.mit.edu/~vchern/papers/ch_401k.pdf). The Review of Economic and Statistics 86 (3), 735–751. \n",
    "\n",
    "Let's load and analyse the data first."
   ]
  },
  {
   "cell_type": "code",
   "execution_count": 1,
   "metadata": {
    "execution": {
     "iopub.execute_input": "2022-08-19T04:33:23.446733Z",
     "iopub.status.busy": "2022-08-19T04:33:23.446464Z",
     "iopub.status.idle": "2022-08-19T04:33:23.729773Z",
     "shell.execute_reply": "2022-08-19T04:33:23.729043Z"
    }
   },
   "outputs": [],
   "source": [
    "import pandas as pd\n",
    "df = pd.read_csv(\"pension.csv\")"
   ]
  },
  {
   "cell_type": "code",
   "execution_count": 2,
   "metadata": {
    "execution": {
     "iopub.execute_input": "2022-08-19T04:33:23.733814Z",
     "iopub.status.busy": "2022-08-19T04:33:23.733566Z",
     "iopub.status.idle": "2022-08-19T04:33:23.757176Z",
     "shell.execute_reply": "2022-08-19T04:33:23.756590Z"
    }
   },
   "outputs": [
    {
     "data": {
      "text/html": [
       "<div>\n",
       "<style scoped>\n",
       "    .dataframe tbody tr th:only-of-type {\n",
       "        vertical-align: middle;\n",
       "    }\n",
       "\n",
       "    .dataframe tbody tr th {\n",
       "        vertical-align: top;\n",
       "    }\n",
       "\n",
       "    .dataframe thead th {\n",
       "        text-align: right;\n",
       "    }\n",
       "</style>\n",
       "<table border=\"1\" class=\"dataframe\">\n",
       "  <thead>\n",
       "    <tr style=\"text-align: right;\">\n",
       "      <th></th>\n",
       "      <th>ira</th>\n",
       "      <th>a401</th>\n",
       "      <th>hval</th>\n",
       "      <th>hmort</th>\n",
       "      <th>hequity</th>\n",
       "      <th>nifa</th>\n",
       "      <th>net_nifa</th>\n",
       "      <th>tfa</th>\n",
       "      <th>net_tfa</th>\n",
       "      <th>tfa_he</th>\n",
       "      <th>...</th>\n",
       "      <th>i3</th>\n",
       "      <th>i4</th>\n",
       "      <th>i5</th>\n",
       "      <th>i6</th>\n",
       "      <th>i7</th>\n",
       "      <th>a1</th>\n",
       "      <th>a2</th>\n",
       "      <th>a3</th>\n",
       "      <th>a4</th>\n",
       "      <th>a5</th>\n",
       "    </tr>\n",
       "  </thead>\n",
       "  <tbody>\n",
       "    <tr>\n",
       "      <th>0</th>\n",
       "      <td>0</td>\n",
       "      <td>0</td>\n",
       "      <td>69000</td>\n",
       "      <td>60150</td>\n",
       "      <td>8850</td>\n",
       "      <td>100</td>\n",
       "      <td>-3300</td>\n",
       "      <td>100</td>\n",
       "      <td>-3300</td>\n",
       "      <td>5550</td>\n",
       "      <td>...</td>\n",
       "      <td>1.0</td>\n",
       "      <td>0.0</td>\n",
       "      <td>0.0</td>\n",
       "      <td>0.0</td>\n",
       "      <td>0.0</td>\n",
       "      <td>0.0</td>\n",
       "      <td>1.0</td>\n",
       "      <td>0.0</td>\n",
       "      <td>0.0</td>\n",
       "      <td>0.0</td>\n",
       "    </tr>\n",
       "    <tr>\n",
       "      <th>1</th>\n",
       "      <td>0</td>\n",
       "      <td>0</td>\n",
       "      <td>78000</td>\n",
       "      <td>20000</td>\n",
       "      <td>58000</td>\n",
       "      <td>61010</td>\n",
       "      <td>61010</td>\n",
       "      <td>61010</td>\n",
       "      <td>61010</td>\n",
       "      <td>119010</td>\n",
       "      <td>...</td>\n",
       "      <td>0.0</td>\n",
       "      <td>1.0</td>\n",
       "      <td>0.0</td>\n",
       "      <td>0.0</td>\n",
       "      <td>0.0</td>\n",
       "      <td>0.0</td>\n",
       "      <td>0.0</td>\n",
       "      <td>0.0</td>\n",
       "      <td>1.0</td>\n",
       "      <td>0.0</td>\n",
       "    </tr>\n",
       "    <tr>\n",
       "      <th>2</th>\n",
       "      <td>1800</td>\n",
       "      <td>0</td>\n",
       "      <td>200000</td>\n",
       "      <td>15900</td>\n",
       "      <td>184100</td>\n",
       "      <td>7549</td>\n",
       "      <td>7049</td>\n",
       "      <td>9349</td>\n",
       "      <td>8849</td>\n",
       "      <td>192949</td>\n",
       "      <td>...</td>\n",
       "      <td>0.0</td>\n",
       "      <td>0.0</td>\n",
       "      <td>0.0</td>\n",
       "      <td>1.0</td>\n",
       "      <td>0.0</td>\n",
       "      <td>0.0</td>\n",
       "      <td>0.0</td>\n",
       "      <td>0.0</td>\n",
       "      <td>1.0</td>\n",
       "      <td>0.0</td>\n",
       "    </tr>\n",
       "    <tr>\n",
       "      <th>3</th>\n",
       "      <td>0</td>\n",
       "      <td>0</td>\n",
       "      <td>0</td>\n",
       "      <td>0</td>\n",
       "      <td>0</td>\n",
       "      <td>2487</td>\n",
       "      <td>-6013</td>\n",
       "      <td>2487</td>\n",
       "      <td>-6013</td>\n",
       "      <td>-6013</td>\n",
       "      <td>...</td>\n",
       "      <td>0.0</td>\n",
       "      <td>0.0</td>\n",
       "      <td>1.0</td>\n",
       "      <td>0.0</td>\n",
       "      <td>0.0</td>\n",
       "      <td>1.0</td>\n",
       "      <td>0.0</td>\n",
       "      <td>0.0</td>\n",
       "      <td>0.0</td>\n",
       "      <td>0.0</td>\n",
       "    </tr>\n",
       "    <tr>\n",
       "      <th>4</th>\n",
       "      <td>0</td>\n",
       "      <td>0</td>\n",
       "      <td>300000</td>\n",
       "      <td>90000</td>\n",
       "      <td>210000</td>\n",
       "      <td>10625</td>\n",
       "      <td>-2375</td>\n",
       "      <td>10625</td>\n",
       "      <td>-2375</td>\n",
       "      <td>207625</td>\n",
       "      <td>...</td>\n",
       "      <td>0.0</td>\n",
       "      <td>1.0</td>\n",
       "      <td>0.0</td>\n",
       "      <td>0.0</td>\n",
       "      <td>0.0</td>\n",
       "      <td>0.0</td>\n",
       "      <td>0.0</td>\n",
       "      <td>1.0</td>\n",
       "      <td>0.0</td>\n",
       "      <td>0.0</td>\n",
       "    </tr>\n",
       "  </tbody>\n",
       "</table>\n",
       "<p>5 rows × 44 columns</p>\n",
       "</div>"
      ],
      "text/plain": [
       "    ira  a401    hval  hmort  hequity   nifa  net_nifa    tfa  net_tfa  \\\n",
       "0     0     0   69000  60150     8850    100     -3300    100    -3300   \n",
       "1     0     0   78000  20000    58000  61010     61010  61010    61010   \n",
       "2  1800     0  200000  15900   184100   7549      7049   9349     8849   \n",
       "3     0     0       0      0        0   2487     -6013   2487    -6013   \n",
       "4     0     0  300000  90000   210000  10625     -2375  10625    -2375   \n",
       "\n",
       "   tfa_he  ...   i3   i4   i5   i6   i7   a1   a2   a3   a4   a5  \n",
       "0    5550  ...  1.0  0.0  0.0  0.0  0.0  0.0  1.0  0.0  0.0  0.0  \n",
       "1  119010  ...  0.0  1.0  0.0  0.0  0.0  0.0  0.0  0.0  1.0  0.0  \n",
       "2  192949  ...  0.0  0.0  0.0  1.0  0.0  0.0  0.0  0.0  1.0  0.0  \n",
       "3   -6013  ...  0.0  0.0  1.0  0.0  0.0  1.0  0.0  0.0  0.0  0.0  \n",
       "4  207625  ...  0.0  1.0  0.0  0.0  0.0  0.0  0.0  1.0  0.0  0.0  \n",
       "\n",
       "[5 rows x 44 columns]"
      ]
     },
     "execution_count": 2,
     "metadata": {},
     "output_type": "execute_result"
    }
   ],
   "source": [
    "df.head()"
   ]
  },
  {
   "cell_type": "markdown",
   "metadata": {},
   "source": [
    "## Effect of 401(k) Eligibility on Net Financial Assets, Conditioned on Income\n",
    "\n",
    "First we construct a causal graph of 401(k) plan eligibility (the treatment $T$), net financial assets (the outcome $Y$), control variables $W$ we adjust for assuming that they block all back-door paths between $Y$ and $T$, and income $X$ (the covariate of interest based on which we want to study the heterogeneity of treatment effect)."
   ]
  },
  {
   "cell_type": "code",
   "execution_count": 3,
   "metadata": {
    "execution": {
     "iopub.execute_input": "2022-08-19T04:33:23.760242Z",
     "iopub.status.busy": "2022-08-19T04:33:23.760015Z",
     "iopub.status.idle": "2022-08-19T04:33:25.244471Z",
     "shell.execute_reply": "2022-08-19T04:33:25.243748Z"
    }
   },
   "outputs": [],
   "source": [
    "import networkx as nx\n",
    "import dowhy.gcm as gcm\n",
    "\n",
    "treatment_var = \"e401\"\n",
    "outcome_var = \"net_tfa\"\n",
    "covariates = [\"age\",\"inc\",\"fsize\",\"educ\",\"male\",\"db\",\n",
    "              \"marr\",\"twoearn\",\"pira\",\"hown\",\"hval\",\n",
    "              \"hequity\",\"hmort\",\"nohs\",\"hs\",\"smcol\"]\n",
    "\n",
    "edges = [(treatment_var, outcome_var)]\n",
    "edges.extend([(covariate, treatment_var) for covariate in covariates])\n",
    "edges.extend([(covariate, outcome_var) for covariate in covariates])\n",
    "\n",
    "causal_graph = nx.DiGraph(edges)"
   ]
  },
  {
   "cell_type": "code",
   "execution_count": 4,
   "metadata": {
    "execution": {
     "iopub.execute_input": "2022-08-19T04:33:25.248286Z",
     "iopub.status.busy": "2022-08-19T04:33:25.247901Z",
     "iopub.status.idle": "2022-08-19T04:33:25.451041Z",
     "shell.execute_reply": "2022-08-19T04:33:25.450443Z"
    }
   },
   "outputs": [
    {
     "data": {
      "image/png": "[encoded data removed]",
      "text/plain": [
       "<Figure size 432x288 with 1 Axes>"
      ]
     },
     "metadata": {
      "needs_background": "light"
     },
     "output_type": "display_data"
    }
   ],
   "source": [
    "import matplotlib.pyplot as plt\n",
    "\n",
    "plt.rcParams['figure.figsize'] = [20, 20] # Make plots larger\n",
    "\n",
    "gcm.util.plot(causal_graph)"
   ]
  },
  {
   "cell_type": "markdown",
   "metadata": {},
   "source": [
    "Here we created a simplified graph where there are no interactions between covariates (i.e. nodes in $X \\cup W$). Most likely, that is not the case in practice. However, as we take joint samples of the covariates—directly from the observed data—later to estimate CATEs, we can ignore their interactions. \n",
    " \n",
    "Before we assign causal models to variables, let's plot their histograms to get an idea on the distribution of variables."
   ]
  },
  {
   "cell_type": "code",
   "execution_count": 5,
   "metadata": {
    "execution": {
     "iopub.execute_input": "2022-08-19T04:33:25.454525Z",
     "iopub.status.busy": "2022-08-19T04:33:25.454065Z",
     "iopub.status.idle": "2022-08-19T04:33:26.787364Z",
     "shell.execute_reply": "2022-08-19T04:33:26.786524Z"
    }
   },
   "outputs": [
    {
     "data": {
      "image/png": "[encoded data removed]",
      "text/plain": [
       "<Figure size 720x360 with 18 Axes>"
      ]
     },
     "metadata": {
      "needs_background": "light"
     },
     "output_type": "display_data"
    }
   ],
   "source": [
    "cols = [treatment_var, outcome_var]\n",
    "cols.extend(covariates)\n",
    "plt.figure(figsize=(10,5))\n",
    "for i, col in enumerate(cols):\n",
    "    plt.subplot(3,6,i+1)\n",
    "    plt.grid(False)\n",
    "    plt.hist(df[col])\n",
    "    plt.xlabel(col)\n",
    "plt.tight_layout()\n",
    "plt.show()"
   ]
  },
  {
   "cell_type": "markdown",
   "metadata": {},
   "source": [
    "We observe that real-valued variables do not follow well-known parameteric distributions like Gaussian. Therefore, we fit empirical distributions whenever those variables do not have parents, which is also suitable for categorical variables. \n",
    "\n",
    "Let's assign causal models to variables. For the treatment variable, we assign a classifier functional causal model (FCM) with a random forest classifier. For the outcome variable, we assign an additive noise model with a random forest regression as a function and empirical distribution for the noise. We assign empirical distributions to other variables as they do not have parents in the causal graph."
   ]
  },
  {
   "cell_type": "code",
   "execution_count": 6,
   "metadata": {
    "execution": {
     "iopub.execute_input": "2022-08-19T04:33:26.791977Z",
     "iopub.status.busy": "2022-08-19T04:33:26.790631Z",
     "iopub.status.idle": "2022-08-19T04:33:26.795741Z",
     "shell.execute_reply": "2022-08-19T04:33:26.795116Z"
    }
   },
   "outputs": [],
   "source": [
    "causal_model = gcm.StructuralCausalModel(causal_graph)\n",
    "causal_model.set_causal_mechanism(treatment_var, gcm.ClassifierFCM(gcm.ml.create_random_forest_classifier()))\n",
    "causal_model.set_causal_mechanism(outcome_var, gcm.AdditiveNoiseModel(gcm.ml.create_random_forest_regressor()))\n",
    "for covariate in covariates:\n",
    "    causal_model.set_causal_mechanism(covariate, gcm.EmpiricalDistribution())"
   ]
  },
  {
   "cell_type": "markdown",
   "metadata": {},
   "source": [
    "To fit a classifier FCM, we cast the treatment column to string type."
   ]
  },
  {
   "cell_type": "code",
   "execution_count": 7,
   "metadata": {
    "execution": {
     "iopub.execute_input": "2022-08-19T04:33:26.798916Z",
     "iopub.status.busy": "2022-08-19T04:33:26.798383Z",
     "iopub.status.idle": "2022-08-19T04:33:26.810084Z",
     "shell.execute_reply": "2022-08-19T04:33:26.809505Z"
    }
   },
   "outputs": [],
   "source": [
    "df = df.astype({treatment_var: str})"
   ]
  },
  {
   "cell_type": "markdown",
   "metadata": {},
   "source": [
    "<div class=\"alert alert-block alert-info\">\n",
    "Instead of assigning the models manually, we can also automate this **if** we don't have prior knowledge or are not familiar with the statistical implications:\n",
    "    \n",
    "> gcm.auto.assign_causal_mechanisms(causal_model, df)\n",
    "</div>"
   ]
  },
  {
   "cell_type": "markdown",
   "metadata": {},
   "source": [
    "With that, we can now fit the learn the causal models from data."
   ]
  },
  {
   "cell_type": "code",
   "execution_count": 8,
   "metadata": {
    "execution": {
     "iopub.execute_input": "2022-08-19T04:33:26.813303Z",
     "iopub.status.busy": "2022-08-19T04:33:26.812949Z",
     "iopub.status.idle": "2022-08-19T04:33:33.134882Z",
     "shell.execute_reply": "2022-08-19T04:33:33.134300Z"
    }
   },
   "outputs": [
    {
     "name": "stderr",
     "output_type": "stream",
     "text": [
      "\r",
      "Fitting causal models:   0%|          | 0/18 [00:00<?, ?it/s]"
     ]
    },
    {
     "name": "stderr",
     "output_type": "stream",
     "text": [
      "\r",
      "Fitting causal mechanism of node e401:   0%|          | 0/18 [00:00<?, ?it/s]"
     ]
    },
    {
     "name": "stderr",
     "output_type": "stream",
     "text": [
      "\r",
      "Fitting causal mechanism of node e401:   6%|▌         | 1/18 [00:01<00:19,  1.17s/it]"
     ]
    },
    {
     "name": "stderr",
     "output_type": "stream",
     "text": [
      "\r",
      "Fitting causal mechanism of node net_tfa:   6%|▌         | 1/18 [00:01<00:19,  1.17s/it]"
     ]
    },
    {
     "name": "stderr",
     "output_type": "stream",
     "text": [
      "\r",
      "Fitting causal mechanism of node net_tfa:  11%|█         | 2/18 [00:06<00:55,  3.50s/it]"
     ]
    },
    {
     "name": "stderr",
     "output_type": "stream",
     "text": [
      "\r",
      "Fitting causal mechanism of node age:  11%|█         | 2/18 [00:06<00:55,  3.50s/it]    "
     ]
    },
    {
     "name": "stderr",
     "output_type": "stream",
     "text": [
      "\r",
      "Fitting causal mechanism of node inc:  11%|█         | 2/18 [00:06<00:55,  3.50s/it]"
     ]
    },
    {
     "name": "stderr",
     "output_type": "stream",
     "text": [
      "\r",
      "Fitting causal mechanism of node fsize:  11%|█         | 2/18 [00:06<00:55,  3.50s/it]"
     ]
    },
    {
     "name": "stderr",
     "output_type": "stream",
     "text": [
      "\r",
      "Fitting causal mechanism of node educ:  11%|█         | 2/18 [00:06<00:55,  3.50s/it] "
     ]
    },
    {
     "name": "stderr",
     "output_type": "stream",
     "text": [
      "\r",
      "Fitting causal mechanism of node male:  11%|█         | 2/18 [00:06<00:55,  3.50s/it]"
     ]
    },
    {
     "name": "stderr",
     "output_type": "stream",
     "text": [
      "\r",
      "Fitting causal mechanism of node db:  11%|█         | 2/18 [00:06<00:55,  3.50s/it]  "
     ]
    },
    {
     "name": "stderr",
     "output_type": "stream",
     "text": [
      "\r",
      "Fitting causal mechanism of node marr:  11%|█         | 2/18 [00:06<00:55,  3.50s/it]"
     ]
    },
    {
     "name": "stderr",
     "output_type": "stream",
     "text": [
      "\r",
      "Fitting causal mechanism of node twoearn:  11%|█         | 2/18 [00:06<00:55,  3.50s/it]"
     ]
    },
    {
     "name": "stderr",
     "output_type": "stream",
     "text": [
      "\r",
      "Fitting causal mechanism of node pira:  11%|█         | 2/18 [00:06<00:55,  3.50s/it]   "
     ]
    },
    {
     "name": "stderr",
     "output_type": "stream",
     "text": [
      "\r",
      "Fitting causal mechanism of node hown:  11%|█         | 2/18 [00:06<00:55,  3.50s/it]"
     ]
    },
    {
     "name": "stderr",
     "output_type": "stream",
     "text": [
      "\r",
      "Fitting causal mechanism of node hval:  11%|█         | 2/18 [00:06<00:55,  3.50s/it]"
     ]
    },
    {
     "name": "stderr",
     "output_type": "stream",
     "text": [
      "\r",
      "Fitting causal mechanism of node hequity:  11%|█         | 2/18 [00:06<00:55,  3.50s/it]"
     ]
    },
    {
     "name": "stderr",
     "output_type": "stream",
     "text": [
      "\r",
      "Fitting causal mechanism of node hmort:  11%|█         | 2/18 [00:06<00:55,  3.50s/it]  "
     ]
    },
    {
     "name": "stderr",
     "output_type": "stream",
     "text": [
      "\r",
      "Fitting causal mechanism of node nohs:  11%|█         | 2/18 [00:06<00:55,  3.50s/it] "
     ]
    },
    {
     "name": "stderr",
     "output_type": "stream",
     "text": [
      "\r",
      "Fitting causal mechanism of node hs:  11%|█         | 2/18 [00:06<00:55,  3.50s/it]  "
     ]
    },
    {
     "name": "stderr",
     "output_type": "stream",
     "text": [
      "\r",
      "Fitting causal mechanism of node smcol:  11%|█         | 2/18 [00:06<00:55,  3.50s/it]"
     ]
    },
    {
     "name": "stderr",
     "output_type": "stream",
     "text": [
      "\r",
      "Fitting causal mechanism of node smcol: 100%|██████████| 18/18 [00:06<00:00,  2.85it/s]"
     ]
    },
    {
     "name": "stderr",
     "output_type": "stream",
     "text": [
      "\n"
     ]
    }
   ],
   "source": [
    "gcm.fit(causal_model, df)"
   ]
  },
  {
   "cell_type": "markdown",
   "metadata": {},
   "source": [
    "Before computing CATE, we first divide households into equi-width bins of income percentiles. This allows us to study the impact on various income groups."
   ]
  },
  {
   "cell_type": "code",
   "execution_count": 9,
   "metadata": {
    "execution": {
     "iopub.execute_input": "2022-08-19T04:33:33.138494Z",
     "iopub.status.busy": "2022-08-19T04:33:33.137856Z",
     "iopub.status.idle": "2022-08-19T04:33:33.144527Z",
     "shell.execute_reply": "2022-08-19T04:33:33.143941Z"
    }
   },
   "outputs": [],
   "source": [
    "import numpy as np\n",
    "\n",
    "percentages = [0.0, 0.2, 0.4, 0.6, 0.8, 1.0]\n",
    "bin_edges = [0]\n",
    "bin_edges.extend(np.quantile(df.inc, percentages[1:]).tolist())\n",
    "bin_edges[-1] += 1 # adding 1 to the last edge as last edge is excluded by np.digitize\n",
    "\n",
    "groups = [f'{percentages[i]*100:.0f}%-{percentages[i+1]*100:.0f}%' for i in range(len(percentages)-1)]\n",
    "group_index_to_group_label = dict(zip(range(1, len(bin_edges)+1), groups))"
   ]
  },
  {
   "cell_type": "markdown",
   "metadata": {},
   "source": [
    "Now we can compute CATE. To this end, we perform a randomised intervention on the treatment variable in the fitted causal graph, draw samples from the interventional distribution, group observations by the income group, and then compute the treatment effect in each group. "
   ]
  },
  {
   "cell_type": "code",
   "execution_count": 10,
   "metadata": {
    "execution": {
     "iopub.execute_input": "2022-08-19T04:33:33.147886Z",
     "iopub.status.busy": "2022-08-19T04:33:33.147542Z",
     "iopub.status.idle": "2022-08-19T04:34:30.215350Z",
     "shell.execute_reply": "2022-08-19T04:34:30.214663Z"
    }
   },
   "outputs": [
    {
     "name": "stderr",
     "output_type": "stream",
     "text": [
      "\r",
      "Estimating boostrap interval...:   0%|          | 0/100 [00:00<?, ?it/s]"
     ]
    },
    {
     "name": "stderr",
     "output_type": "stream",
     "text": [
      "\r",
      "Estimating boostrap interval...:   1%|          | 1/100 [00:00<00:56,  1.75it/s]"
     ]
    },
    {
     "name": "stderr",
     "output_type": "stream",
     "text": [
      "\r",
      "Estimating boostrap interval...:   2%|▏         | 2/100 [00:01<00:55,  1.76it/s]"
     ]
    },
    {
     "name": "stderr",
     "output_type": "stream",
     "text": [
      "\r",
      "Estimating boostrap interval...:   3%|▎         | 3/100 [00:01<00:54,  1.77it/s]"
     ]
    },
    {
     "name": "stderr",
     "output_type": "stream",
     "text": [
      "\r",
      "Estimating boostrap interval...:   4%|▍         | 4/100 [00:02<00:54,  1.77it/s]"
     ]
    },
    {
     "name": "stderr",
     "output_type": "stream",
     "text": [
      "\r",
      "Estimating boostrap interval...:   5%|▌         | 5/100 [00:02<00:53,  1.77it/s]"
     ]
    },
    {
     "name": "stderr",
     "output_type": "stream",
     "text": [
      "\r",
      "Estimating boostrap interval...:   6%|▌         | 6/100 [00:03<00:53,  1.76it/s]"
     ]
    },
    {
     "name": "stderr",
     "output_type": "stream",
     "text": [
      "\r",
      "Estimating boostrap interval...:   7%|▋         | 7/100 [00:03<00:52,  1.76it/s]"
     ]
    },
    {
     "name": "stderr",
     "output_type": "stream",
     "text": [
      "\r",
      "Estimating boostrap interval...:   8%|▊         | 8/100 [00:04<00:52,  1.77it/s]"
     ]
    },
    {
     "name": "stderr",
     "output_type": "stream",
     "text": [
      "\r",
      "Estimating boostrap interval...:   9%|▉         | 9/100 [00:05<00:51,  1.78it/s]"
     ]
    },
    {
     "name": "stderr",
     "output_type": "stream",
     "text": [
      "\r",
      "Estimating boostrap interval...:  10%|█         | 10/100 [00:05<00:50,  1.78it/s]"
     ]
    },
    {
     "name": "stderr",
     "output_type": "stream",
     "text": [
      "\r",
      "Estimating boostrap interval...:  11%|█         | 11/100 [00:06<00:49,  1.78it/s]"
     ]
    },
    {
     "name": "stderr",
     "output_type": "stream",
     "text": [
      "\r",
      "Estimating boostrap interval...:  12%|█▏        | 12/100 [00:06<00:49,  1.78it/s]"
     ]
    },
    {
     "name": "stderr",
     "output_type": "stream",
     "text": [
      "\r",
      "Estimating boostrap interval...:  13%|█▎        | 13/100 [00:07<00:48,  1.78it/s]"
     ]
    },
    {
     "name": "stderr",
     "output_type": "stream",
     "text": [
      "\r",
      "Estimating boostrap interval...:  14%|█▍        | 14/100 [00:07<00:48,  1.78it/s]"
     ]
    },
    {
     "name": "stderr",
     "output_type": "stream",
     "text": [
      "\r",
      "Estimating boostrap interval...:  15%|█▌        | 15/100 [00:08<00:47,  1.78it/s]"
     ]
    },
    {
     "name": "stderr",
     "output_type": "stream",
     "text": [
      "\r",
      "Estimating boostrap interval...:  16%|█▌        | 16/100 [00:09<00:47,  1.78it/s]"
     ]
    },
    {
     "name": "stderr",
     "output_type": "stream",
     "text": [
      "\r",
      "Estimating boostrap interval...:  17%|█▋        | 17/100 [00:09<00:46,  1.79it/s]"
     ]
    },
    {
     "name": "stderr",
     "output_type": "stream",
     "text": [
      "\r",
      "Estimating boostrap interval...:  18%|█▊        | 18/100 [00:10<00:45,  1.79it/s]"
     ]
    },
    {
     "name": "stderr",
     "output_type": "stream",
     "text": [
      "\r",
      "Estimating boostrap interval...:  19%|█▉        | 19/100 [00:10<00:45,  1.79it/s]"
     ]
    },
    {
     "name": "stderr",
     "output_type": "stream",
     "text": [
      "\r",
      "Estimating boostrap interval...:  20%|██        | 20/100 [00:11<00:45,  1.76it/s]"
     ]
    },
    {
     "name": "stderr",
     "output_type": "stream",
     "text": [
      "\r",
      "Estimating boostrap interval...:  21%|██        | 21/100 [00:11<00:44,  1.77it/s]"
     ]
    },
    {
     "name": "stderr",
     "output_type": "stream",
     "text": [
      "\r",
      "Estimating boostrap interval...:  22%|██▏       | 22/100 [00:12<00:45,  1.72it/s]"
     ]
    },
    {
     "name": "stderr",
     "output_type": "stream",
     "text": [
      "\r",
      "Estimating boostrap interval...:  23%|██▎       | 23/100 [00:13<00:44,  1.74it/s]"
     ]
    },
    {
     "name": "stderr",
     "output_type": "stream",
     "text": [
      "\r",
      "Estimating boostrap interval...:  24%|██▍       | 24/100 [00:13<00:44,  1.73it/s]"
     ]
    },
    {
     "name": "stderr",
     "output_type": "stream",
     "text": [
      "\r",
      "Estimating boostrap interval...:  25%|██▌       | 25/100 [00:14<00:43,  1.72it/s]"
     ]
    },
    {
     "name": "stderr",
     "output_type": "stream",
     "text": [
      "\r",
      "Estimating boostrap interval...:  26%|██▌       | 26/100 [00:14<00:42,  1.74it/s]"
     ]
    },
    {
     "name": "stderr",
     "output_type": "stream",
     "text": [
      "\r",
      "Estimating boostrap interval...:  27%|██▋       | 27/100 [00:15<00:42,  1.71it/s]"
     ]
    },
    {
     "name": "stderr",
     "output_type": "stream",
     "text": [
      "\r",
      "Estimating boostrap interval...:  28%|██▊       | 28/100 [00:15<00:41,  1.73it/s]"
     ]
    },
    {
     "name": "stderr",
     "output_type": "stream",
     "text": [
      "\r",
      "Estimating boostrap interval...:  29%|██▉       | 29/100 [00:16<00:40,  1.74it/s]"
     ]
    },
    {
     "name": "stderr",
     "output_type": "stream",
     "text": [
      "\r",
      "Estimating boostrap interval...:  30%|███       | 30/100 [00:17<00:40,  1.73it/s]"
     ]
    },
    {
     "name": "stderr",
     "output_type": "stream",
     "text": [
      "\r",
      "Estimating boostrap interval...:  31%|███       | 31/100 [00:17<00:39,  1.75it/s]"
     ]
    },
    {
     "name": "stderr",
     "output_type": "stream",
     "text": [
      "\r",
      "Estimating boostrap interval...:  32%|███▏      | 32/100 [00:18<00:38,  1.75it/s]"
     ]
    },
    {
     "name": "stderr",
     "output_type": "stream",
     "text": [
      "\r",
      "Estimating boostrap interval...:  33%|███▎      | 33/100 [00:18<00:37,  1.76it/s]"
     ]
    },
    {
     "name": "stderr",
     "output_type": "stream",
     "text": [
      "\r",
      "Estimating boostrap interval...:  34%|███▍      | 34/100 [00:19<00:38,  1.73it/s]"
     ]
    },
    {
     "name": "stderr",
     "output_type": "stream",
     "text": [
      "\r",
      "Estimating boostrap interval...:  35%|███▌      | 35/100 [00:19<00:37,  1.72it/s]"
     ]
    },
    {
     "name": "stderr",
     "output_type": "stream",
     "text": [
      "\r",
      "Estimating boostrap interval...:  36%|███▌      | 36/100 [00:20<00:37,  1.73it/s]"
     ]
    },
    {
     "name": "stderr",
     "output_type": "stream",
     "text": [
      "\r",
      "Estimating boostrap interval...:  37%|███▋      | 37/100 [00:21<00:36,  1.73it/s]"
     ]
    },
    {
     "name": "stderr",
     "output_type": "stream",
     "text": [
      "\r",
      "Estimating boostrap interval...:  38%|███▊      | 38/100 [00:21<00:36,  1.72it/s]"
     ]
    },
    {
     "name": "stderr",
     "output_type": "stream",
     "text": [
      "\r",
      "Estimating boostrap interval...:  39%|███▉      | 39/100 [00:22<00:35,  1.70it/s]"
     ]
    },
    {
     "name": "stderr",
     "output_type": "stream",
     "text": [
      "\r",
      "Estimating boostrap interval...:  40%|████      | 40/100 [00:22<00:34,  1.73it/s]"
     ]
    },
    {
     "name": "stderr",
     "output_type": "stream",
     "text": [
      "\r",
      "Estimating boostrap interval...:  41%|████      | 41/100 [00:23<00:33,  1.75it/s]"
     ]
    },
    {
     "name": "stderr",
     "output_type": "stream",
     "text": [
      "\r",
      "Estimating boostrap interval...:  42%|████▏     | 42/100 [00:23<00:33,  1.74it/s]"
     ]
    },
    {
     "name": "stderr",
     "output_type": "stream",
     "text": [
      "\r",
      "Estimating boostrap interval...:  43%|████▎     | 43/100 [00:24<00:32,  1.76it/s]"
     ]
    },
    {
     "name": "stderr",
     "output_type": "stream",
     "text": [
      "\r",
      "Estimating boostrap interval...:  44%|████▍     | 44/100 [00:25<00:31,  1.76it/s]"
     ]
    },
    {
     "name": "stderr",
     "output_type": "stream",
     "text": [
      "\r",
      "Estimating boostrap interval...:  45%|████▌     | 45/100 [00:25<00:31,  1.74it/s]"
     ]
    },
    {
     "name": "stderr",
     "output_type": "stream",
     "text": [
      "\r",
      "Estimating boostrap interval...:  46%|████▌     | 46/100 [00:26<00:30,  1.75it/s]"
     ]
    },
    {
     "name": "stderr",
     "output_type": "stream",
     "text": [
      "\r",
      "Estimating boostrap interval...:  47%|████▋     | 47/100 [00:26<00:30,  1.76it/s]"
     ]
    },
    {
     "name": "stderr",
     "output_type": "stream",
     "text": [
      "\r",
      "Estimating boostrap interval...:  48%|████▊     | 48/100 [00:27<00:29,  1.77it/s]"
     ]
    },
    {
     "name": "stderr",
     "output_type": "stream",
     "text": [
      "\r",
      "Estimating boostrap interval...:  49%|████▉     | 49/100 [00:27<00:29,  1.76it/s]"
     ]
    },
    {
     "name": "stderr",
     "output_type": "stream",
     "text": [
      "\r",
      "Estimating boostrap interval...:  50%|█████     | 50/100 [00:28<00:28,  1.77it/s]"
     ]
    },
    {
     "name": "stderr",
     "output_type": "stream",
     "text": [
      "\r",
      "Estimating boostrap interval...:  51%|█████     | 51/100 [00:29<00:27,  1.77it/s]"
     ]
    },
    {
     "name": "stderr",
     "output_type": "stream",
     "text": [
      "\r",
      "Estimating boostrap interval...:  52%|█████▏    | 52/100 [00:29<00:27,  1.74it/s]"
     ]
    },
    {
     "name": "stderr",
     "output_type": "stream",
     "text": [
      "\r",
      "Estimating boostrap interval...:  53%|█████▎    | 53/100 [00:30<00:26,  1.75it/s]"
     ]
    },
    {
     "name": "stderr",
     "output_type": "stream",
     "text": [
      "\r",
      "Estimating boostrap interval...:  54%|█████▍    | 54/100 [00:30<00:26,  1.74it/s]"
     ]
    },
    {
     "name": "stderr",
     "output_type": "stream",
     "text": [
      "\r",
      "Estimating boostrap interval...:  55%|█████▌    | 55/100 [00:31<00:25,  1.73it/s]"
     ]
    },
    {
     "name": "stderr",
     "output_type": "stream",
     "text": [
      "\r",
      "Estimating boostrap interval...:  56%|█████▌    | 56/100 [00:31<00:25,  1.72it/s]"
     ]
    },
    {
     "name": "stderr",
     "output_type": "stream",
     "text": [
      "\r",
      "Estimating boostrap interval...:  57%|█████▋    | 57/100 [00:32<00:24,  1.74it/s]"
     ]
    },
    {
     "name": "stderr",
     "output_type": "stream",
     "text": [
      "\r",
      "Estimating boostrap interval...:  58%|█████▊    | 58/100 [00:33<00:23,  1.75it/s]"
     ]
    },
    {
     "name": "stderr",
     "output_type": "stream",
     "text": [
      "\r",
      "Estimating boostrap interval...:  59%|█████▉    | 59/100 [00:33<00:23,  1.76it/s]"
     ]
    },
    {
     "name": "stderr",
     "output_type": "stream",
     "text": [
      "\r",
      "Estimating boostrap interval...:  60%|██████    | 60/100 [00:34<00:22,  1.77it/s]"
     ]
    },
    {
     "name": "stderr",
     "output_type": "stream",
     "text": [
      "\r",
      "Estimating boostrap interval...:  61%|██████    | 61/100 [00:34<00:22,  1.77it/s]"
     ]
    },
    {
     "name": "stderr",
     "output_type": "stream",
     "text": [
      "\r",
      "Estimating boostrap interval...:  62%|██████▏   | 62/100 [00:35<00:22,  1.72it/s]"
     ]
    },
    {
     "name": "stderr",
     "output_type": "stream",
     "text": [
      "\r",
      "Estimating boostrap interval...:  63%|██████▎   | 63/100 [00:35<00:21,  1.74it/s]"
     ]
    },
    {
     "name": "stderr",
     "output_type": "stream",
     "text": [
      "\r",
      "Estimating boostrap interval...:  64%|██████▍   | 64/100 [00:36<00:20,  1.75it/s]"
     ]
    },
    {
     "name": "stderr",
     "output_type": "stream",
     "text": [
      "\r",
      "Estimating boostrap interval...:  65%|██████▌   | 65/100 [00:37<00:20,  1.71it/s]"
     ]
    },
    {
     "name": "stderr",
     "output_type": "stream",
     "text": [
      "\r",
      "Estimating boostrap interval...:  66%|██████▌   | 66/100 [00:37<00:19,  1.73it/s]"
     ]
    },
    {
     "name": "stderr",
     "output_type": "stream",
     "text": [
      "\r",
      "Estimating boostrap interval...:  67%|██████▋   | 67/100 [00:38<00:18,  1.75it/s]"
     ]
    },
    {
     "name": "stderr",
     "output_type": "stream",
     "text": [
      "\r",
      "Estimating boostrap interval...:  68%|██████▊   | 68/100 [00:38<00:18,  1.76it/s]"
     ]
    },
    {
     "name": "stderr",
     "output_type": "stream",
     "text": [
      "\r",
      "Estimating boostrap interval...:  69%|██████▉   | 69/100 [00:39<00:17,  1.77it/s]"
     ]
    },
    {
     "name": "stderr",
     "output_type": "stream",
     "text": [
      "\r",
      "Estimating boostrap interval...:  70%|███████   | 70/100 [00:39<00:16,  1.77it/s]"
     ]
    },
    {
     "name": "stderr",
     "output_type": "stream",
     "text": [
      "\r",
      "Estimating boostrap interval...:  71%|███████   | 71/100 [00:40<00:16,  1.76it/s]"
     ]
    },
    {
     "name": "stderr",
     "output_type": "stream",
     "text": [
      "\r",
      "Estimating boostrap interval...:  72%|███████▏  | 72/100 [00:41<00:15,  1.76it/s]"
     ]
    },
    {
     "name": "stderr",
     "output_type": "stream",
     "text": [
      "\r",
      "Estimating boostrap interval...:  73%|███████▎  | 73/100 [00:41<00:15,  1.75it/s]"
     ]
    },
    {
     "name": "stderr",
     "output_type": "stream",
     "text": [
      "\r",
      "Estimating boostrap interval...:  74%|███████▍  | 74/100 [00:42<00:14,  1.74it/s]"
     ]
    },
    {
     "name": "stderr",
     "output_type": "stream",
     "text": [
      "\r",
      "Estimating boostrap interval...:  75%|███████▌  | 75/100 [00:42<00:14,  1.73it/s]"
     ]
    },
    {
     "name": "stderr",
     "output_type": "stream",
     "text": [
      "\r",
      "Estimating boostrap interval...:  76%|███████▌  | 76/100 [00:43<00:13,  1.74it/s]"
     ]
    },
    {
     "name": "stderr",
     "output_type": "stream",
     "text": [
      "\r",
      "Estimating boostrap interval...:  77%|███████▋  | 77/100 [00:43<00:13,  1.75it/s]"
     ]
    },
    {
     "name": "stderr",
     "output_type": "stream",
     "text": [
      "\r",
      "Estimating boostrap interval...:  78%|███████▊  | 78/100 [00:44<00:12,  1.75it/s]"
     ]
    },
    {
     "name": "stderr",
     "output_type": "stream",
     "text": [
      "\r",
      "Estimating boostrap interval...:  79%|███████▉  | 79/100 [00:45<00:11,  1.76it/s]"
     ]
    },
    {
     "name": "stderr",
     "output_type": "stream",
     "text": [
      "\r",
      "Estimating boostrap interval...:  80%|████████  | 80/100 [00:45<00:11,  1.77it/s]"
     ]
    },
    {
     "name": "stderr",
     "output_type": "stream",
     "text": [
      "\r",
      "Estimating boostrap interval...:  81%|████████  | 81/100 [00:46<00:10,  1.77it/s]"
     ]
    },
    {
     "name": "stderr",
     "output_type": "stream",
     "text": [
      "\r",
      "Estimating boostrap interval...:  82%|████████▏ | 82/100 [00:46<00:10,  1.77it/s]"
     ]
    },
    {
     "name": "stderr",
     "output_type": "stream",
     "text": [
      "\r",
      "Estimating boostrap interval...:  83%|████████▎ | 83/100 [00:47<00:09,  1.77it/s]"
     ]
    },
    {
     "name": "stderr",
     "output_type": "stream",
     "text": [
      "\r",
      "Estimating boostrap interval...:  84%|████████▍ | 84/100 [00:47<00:09,  1.76it/s]"
     ]
    },
    {
     "name": "stderr",
     "output_type": "stream",
     "text": [
      "\r",
      "Estimating boostrap interval...:  85%|████████▌ | 85/100 [00:48<00:08,  1.76it/s]"
     ]
    },
    {
     "name": "stderr",
     "output_type": "stream",
     "text": [
      "\r",
      "Estimating boostrap interval...:  86%|████████▌ | 86/100 [00:49<00:07,  1.77it/s]"
     ]
    },
    {
     "name": "stderr",
     "output_type": "stream",
     "text": [
      "\r",
      "Estimating boostrap interval...:  87%|████████▋ | 87/100 [00:49<00:07,  1.77it/s]"
     ]
    },
    {
     "name": "stderr",
     "output_type": "stream",
     "text": [
      "\r",
      "Estimating boostrap interval...:  88%|████████▊ | 88/100 [00:50<00:06,  1.77it/s]"
     ]
    },
    {
     "name": "stderr",
     "output_type": "stream",
     "text": [
      "\r",
      "Estimating boostrap interval...:  89%|████████▉ | 89/100 [00:50<00:06,  1.76it/s]"
     ]
    },
    {
     "name": "stderr",
     "output_type": "stream",
     "text": [
      "\r",
      "Estimating boostrap interval...:  90%|█████████ | 90/100 [00:51<00:05,  1.72it/s]"
     ]
    },
    {
     "name": "stderr",
     "output_type": "stream",
     "text": [
      "\r",
      "Estimating boostrap interval...:  91%|█████████ | 91/100 [00:51<00:05,  1.72it/s]"
     ]
    },
    {
     "name": "stderr",
     "output_type": "stream",
     "text": [
      "\r",
      "Estimating boostrap interval...:  92%|█████████▏| 92/100 [00:52<00:04,  1.74it/s]"
     ]
    },
    {
     "name": "stderr",
     "output_type": "stream",
     "text": [
      "\r",
      "Estimating boostrap interval...:  93%|█████████▎| 93/100 [00:53<00:03,  1.75it/s]"
     ]
    },
    {
     "name": "stderr",
     "output_type": "stream",
     "text": [
      "\r",
      "Estimating boostrap interval...:  94%|█████████▍| 94/100 [00:53<00:03,  1.76it/s]"
     ]
    },
    {
     "name": "stderr",
     "output_type": "stream",
     "text": [
      "\r",
      "Estimating boostrap interval...:  95%|█████████▌| 95/100 [00:54<00:02,  1.76it/s]"
     ]
    },
    {
     "name": "stderr",
     "output_type": "stream",
     "text": [
      "\r",
      "Estimating boostrap interval...:  96%|█████████▌| 96/100 [00:54<00:02,  1.76it/s]"
     ]
    },
    {
     "name": "stderr",
     "output_type": "stream",
     "text": [
      "\r",
      "Estimating boostrap interval...:  97%|█████████▋| 97/100 [00:55<00:01,  1.77it/s]"
     ]
    },
    {
     "name": "stderr",
     "output_type": "stream",
     "text": [
      "\r",
      "Estimating boostrap interval...:  98%|█████████▊| 98/100 [00:55<00:01,  1.76it/s]"
     ]
    },
    {
     "name": "stderr",
     "output_type": "stream",
     "text": [
      "\r",
      "Estimating boostrap interval...:  99%|█████████▉| 99/100 [00:56<00:00,  1.76it/s]"
     ]
    },
    {
     "name": "stderr",
     "output_type": "stream",
     "text": [
      "\r",
      "Estimating boostrap interval...: 100%|██████████| 100/100 [00:57<00:00,  1.77it/s]"
     ]
    },
    {
     "name": "stderr",
     "output_type": "stream",
     "text": [
      "\r",
      "Estimating boostrap interval...: 100%|██████████| 100/100 [00:57<00:00,  1.75it/s]"
     ]
    },
    {
     "name": "stdout",
     "output_type": "stream",
     "text": [
      "{'ate': 6615.859409223795, '0%-20%': 4160.7304417723235, '20%-40%': 3438.042875575154, '40%-60%': 5760.98089326818, '60%-80%': 7881.044232106607, '80%-100%': 11632.68640951793}\n",
      "{'ate': array([4933.41204431, 8333.29389387]), '0%-20%': array([2721.82673942, 5747.16714576]), '20%-40%': array([1558.85887733, 5504.42699588]), '40%-60%': array([3523.59284719, 8342.32444345]), '60%-80%': array([ 5172.96473723, 10805.49723673]), '80%-100%': array([ 5126.26269074, 18343.63332037])}\n"
     ]
    },
    {
     "name": "stderr",
     "output_type": "stream",
     "text": [
      "\n"
     ]
    }
   ],
   "source": [
    "np.random.seed(47)\n",
    "\n",
    "def estimate_cate():\n",
    "    samples = gcm.interventional_samples(causal_model, \n",
    "                                         {treatment_var: lambda x: np.random.choice(['0', '1'])},\n",
    "                                         observed_data=df)\n",
    "    eligible = samples[treatment_var] == '1'\n",
    "    ate = samples[eligible][outcome_var].mean() - samples[~eligible][outcome_var].mean()\n",
    "    result = dict(ate = ate)\n",
    "    \n",
    "    group_indices = np.digitize(samples['inc'], bin_edges)\n",
    "    samples['group_index'] = group_indices\n",
    "    \n",
    "    for group_index in group_index_to_group_label:\n",
    "        group_samples = samples[samples['group_index'] == group_index]\n",
    "        eligible_in_group = group_samples[treatment_var] == '1'\n",
    "        cate = group_samples[eligible_in_group][outcome_var].mean() - group_samples[~eligible_in_group][outcome_var].mean()\n",
    "        result[group_index_to_group_label[group_index]] = cate\n",
    "        \n",
    "    return result\n",
    "\n",
    "group_to_median, group_to_ci = gcm.confidence_intervals(estimate_cate, num_bootstrap_resamples=100)\n",
    "print(group_to_median)\n",
    "print(group_to_ci)"
   ]
  },
  {
   "cell_type": "markdown",
   "metadata": {},
   "source": [
    "The average treatment effect of 401(k) eligibility on net financial assets is positive as indicated by the confidence interval $[4902.24, 8486.89]$. Now, let's plot CATEs of various income groups to get a clear picture."
   ]
  },
  {
   "cell_type": "code",
   "execution_count": 11,
   "metadata": {
    "execution": {
     "iopub.execute_input": "2022-08-19T04:34:30.218675Z",
     "iopub.status.busy": "2022-08-19T04:34:30.218340Z",
     "iopub.status.idle": "2022-08-19T04:34:30.312019Z",
     "shell.execute_reply": "2022-08-19T04:34:30.311394Z"
    }
   },
   "outputs": [
    {
     "name": "stderr",
     "output_type": "stream",
     "text": [
      "/tmp/ipykernel_20667/1344202636.py:4: UserWarning: color is redundantly defined by the 'color' keyword argument and the fmt string \"ro-\" (-> color='r'). The keyword argument will take precedence.\n",
      "  plt.plot((x, x), (ci[0], ci[1]), 'ro-', color='orange')\n"
     ]
    },
    {
     "data": {
      "image/png": "[encoded data removed]",
      "text/plain": [
       "<Figure size 576x288 with 1 Axes>"
      ]
     },
     "metadata": {
      "needs_background": "light"
     },
     "output_type": "display_data"
    }
   ],
   "source": [
    "fig = plt.figure(figsize=(8,4))\n",
    "for x, group in enumerate(groups):\n",
    "    ci = group_to_ci[group]\n",
    "    plt.plot((x, x), (ci[0], ci[1]), 'ro-', color='orange')\n",
    "ax = fig.axes[0]\n",
    "ax.spines['right'].set_visible(False)\n",
    "ax.spines['top'].set_visible(False)\n",
    "plt.xticks(range(len(groups)), groups)\n",
    "plt.xlabel('Income group')\n",
    "plt.ylabel('ATE of 401(k) eligibility on net financial assets')\n",
    "plt.show()"
   ]
  },
  {
   "cell_type": "markdown",
   "metadata": {},
   "source": [
    "The impact increases as one moves from lower to higher income groups. This result seems to be consistent with the resource constraints of the different income groups."
   ]
  }
 ],
 "metadata": {
  "kernelspec": {
   "display_name": "Python 3 (ipykernel)",
   "language": "python",
   "name": "python3"
  },
  "language_info": {
   "codemirror_mode": {
    "name": "ipython",
    "version": 3
   },
   "file_extension": ".py",
   "mimetype": "text/x-python",
   "name": "python",
   "nbconvert_exporter": "python",
   "pygments_lexer": "ipython3",
   "version": "3.8.10"
  }
 },
 "nbformat": 4,
 "nbformat_minor": 4
}
