{
 "cells": [
  {
   "cell_type": "markdown",
   "metadata": {},
   "source": [
    "# Demo for the DoWhy causal API\n",
    "We show a simple example of adding a causal extension to any dataframe. "
   ]
  },
  {
   "cell_type": "code",
   "execution_count": 1,
   "metadata": {
    "execution": {
     "iopub.execute_input": "2022-09-01T23:52:34.426500Z",
     "iopub.status.busy": "2022-09-01T23:52:34.426182Z",
     "iopub.status.idle": "2022-09-01T23:52:35.819047Z",
     "shell.execute_reply": "2022-09-01T23:52:35.818068Z"
    }
   },
   "outputs": [],
   "source": [
    "import dowhy.datasets\n",
    "import dowhy.api\n",
    "\n",
    "import numpy as np\n",
    "import pandas as pd\n",
    "\n",
    "from statsmodels.api import OLS"
   ]
  },
  {
   "cell_type": "code",
   "execution_count": 2,
   "metadata": {
    "execution": {
     "iopub.execute_input": "2022-09-01T23:52:35.823479Z",
     "iopub.status.busy": "2022-09-01T23:52:35.822782Z",
     "iopub.status.idle": "2022-09-01T23:52:35.880266Z",
     "shell.execute_reply": "2022-09-01T23:52:35.879546Z"
    }
   },
   "outputs": [
    {
     "data": {
      "text/html": [
       "<div>\n",
       "<style scoped>\n",
       "    .dataframe tbody tr th:only-of-type {\n",
       "        vertical-align: middle;\n",
       "    }\n",
       "\n",
       "    .dataframe tbody tr th {\n",
       "        vertical-align: top;\n",
       "    }\n",
       "\n",
       "    .dataframe thead th {\n",
       "        text-align: right;\n",
       "    }\n",
       "</style>\n",
       "<table border=\"1\" class=\"dataframe\">\n",
       "  <thead>\n",
       "    <tr style=\"text-align: right;\">\n",
       "      <th></th>\n",
       "      <th>W0</th>\n",
       "      <th>v0</th>\n",
       "      <th>y</th>\n",
       "    </tr>\n",
       "  </thead>\n",
       "  <tbody>\n",
       "    <tr>\n",
       "      <th>0</th>\n",
       "      <td>-1.427885</td>\n",
       "      <td>True</td>\n",
       "      <td>-0.132639</td>\n",
       "    </tr>\n",
       "    <tr>\n",
       "      <th>1</th>\n",
       "      <td>-1.633434</td>\n",
       "      <td>False</td>\n",
       "      <td>-4.257470</td>\n",
       "    </tr>\n",
       "    <tr>\n",
       "      <th>2</th>\n",
       "      <td>-0.183799</td>\n",
       "      <td>True</td>\n",
       "      <td>5.041262</td>\n",
       "    </tr>\n",
       "    <tr>\n",
       "      <th>3</th>\n",
       "      <td>0.166076</td>\n",
       "      <td>True</td>\n",
       "      <td>5.654281</td>\n",
       "    </tr>\n",
       "    <tr>\n",
       "      <th>4</th>\n",
       "      <td>-0.986367</td>\n",
       "      <td>True</td>\n",
       "      <td>2.859386</td>\n",
       "    </tr>\n",
       "    <tr>\n",
       "      <th>...</th>\n",
       "      <td>...</td>\n",
       "      <td>...</td>\n",
       "      <td>...</td>\n",
       "    </tr>\n",
       "    <tr>\n",
       "      <th>995</th>\n",
       "      <td>0.222462</td>\n",
       "      <td>True</td>\n",
       "      <td>4.403516</td>\n",
       "    </tr>\n",
       "    <tr>\n",
       "      <th>996</th>\n",
       "      <td>-0.556553</td>\n",
       "      <td>False</td>\n",
       "      <td>-2.077173</td>\n",
       "    </tr>\n",
       "    <tr>\n",
       "      <th>997</th>\n",
       "      <td>0.456314</td>\n",
       "      <td>False</td>\n",
       "      <td>2.475070</td>\n",
       "    </tr>\n",
       "    <tr>\n",
       "      <th>998</th>\n",
       "      <td>-0.859203</td>\n",
       "      <td>True</td>\n",
       "      <td>2.344173</td>\n",
       "    </tr>\n",
       "    <tr>\n",
       "      <th>999</th>\n",
       "      <td>0.536973</td>\n",
       "      <td>True</td>\n",
       "      <td>5.727648</td>\n",
       "    </tr>\n",
       "  </tbody>\n",
       "</table>\n",
       "<p>1000 rows × 3 columns</p>\n",
       "</div>"
      ],
      "text/plain": [
       "           W0     v0         y\n",
       "0   -1.427885   True -0.132639\n",
       "1   -1.633434  False -4.257470\n",
       "2   -0.183799   True  5.041262\n",
       "3    0.166076   True  5.654281\n",
       "4   -0.986367   True  2.859386\n",
       "..        ...    ...       ...\n",
       "995  0.222462   True  4.403516\n",
       "996 -0.556553  False -2.077173\n",
       "997  0.456314  False  2.475070\n",
       "998 -0.859203   True  2.344173\n",
       "999  0.536973   True  5.727648\n",
       "\n",
       "[1000 rows x 3 columns]"
      ]
     },
     "execution_count": 2,
     "metadata": {},
     "output_type": "execute_result"
    }
   ],
   "source": [
    "data = dowhy.datasets.linear_dataset(beta=5,\n",
    "        num_common_causes=1,\n",
    "        num_instruments = 0,\n",
    "        num_samples=1000,\n",
    "        treatment_is_binary=True)\n",
    "df = data['df']\n",
    "df['y'] = df['y'] + np.random.normal(size=len(df)) # Adding noise to data. Without noise, the variance in Y|X, Z is zero, and mcmc fails.\n",
    "#data['dot_graph'] = 'digraph { v ->y;X0-> v;X0-> y;}'\n",
    "\n",
    "treatment= data[\"treatment_name\"][0]\n",
    "outcome = data[\"outcome_name\"][0]\n",
    "common_cause = data[\"common_causes_names\"][0]\n",
    "df"
   ]
  },
  {
   "cell_type": "code",
   "execution_count": 3,
   "metadata": {
    "execution": {
     "iopub.execute_input": "2022-09-01T23:52:35.884095Z",
     "iopub.status.busy": "2022-09-01T23:52:35.883554Z",
     "iopub.status.idle": "2022-09-01T23:52:36.809312Z",
     "shell.execute_reply": "2022-09-01T23:52:36.808642Z"
    }
   },
   "outputs": [
    {
     "data": {
      "text/plain": [
       "<AxesSubplot:xlabel='v0'>"
      ]
     },
     "execution_count": 3,
     "metadata": {},
     "output_type": "execute_result"
    },
    {
     "data": {
      "image/png": "[encoded data removed]",
      "text/plain": [
       "<Figure size 640x480 with 1 Axes>"
      ]
     },
     "metadata": {},
     "output_type": "display_data"
    }
   ],
   "source": [
    "# data['df'] is just a regular pandas.DataFrame\n",
    "df.causal.do(x=treatment,\n",
    "                     variable_types={treatment: 'b', outcome: 'c', common_cause: 'c'},\n",
    "                     outcome=outcome,\n",
    "                     common_causes=[common_cause],\n",
    "                     proceed_when_unidentifiable=True).groupby(treatment).mean().plot(y=outcome, kind='bar')"
   ]
  },
  {
   "cell_type": "code",
   "execution_count": 4,
   "metadata": {
    "execution": {
     "iopub.execute_input": "2022-09-01T23:52:36.813152Z",
     "iopub.status.busy": "2022-09-01T23:52:36.812435Z",
     "iopub.status.idle": "2022-09-01T23:52:36.948406Z",
     "shell.execute_reply": "2022-09-01T23:52:36.947752Z"
    }
   },
   "outputs": [
    {
     "data": {
      "text/plain": [
       "<AxesSubplot:xlabel='v0'>"
      ]
     },
     "execution_count": 4,
     "metadata": {},
     "output_type": "execute_result"
    },
    {
     "data": {
      "image/png": "[encoded data removed]",
      "text/plain": [
       "<Figure size 640x480 with 1 Axes>"
      ]
     },
     "metadata": {},
     "output_type": "display_data"
    }
   ],
   "source": [
    "df.causal.do(x={treatment: 1}, \n",
    "              variable_types={treatment:'b', outcome: 'c', common_cause: 'c'}, \n",
    "              outcome=outcome,\n",
    "              method='weighting', \n",
    "              common_causes=[common_cause],\n",
    "              proceed_when_unidentifiable=True).groupby(treatment).mean().plot(y=outcome, kind='bar')"
   ]
  },
  {
   "cell_type": "code",
   "execution_count": 5,
   "metadata": {
    "execution": {
     "iopub.execute_input": "2022-09-01T23:52:36.952037Z",
     "iopub.status.busy": "2022-09-01T23:52:36.951508Z",
     "iopub.status.idle": "2022-09-01T23:52:36.987685Z",
     "shell.execute_reply": "2022-09-01T23:52:36.986977Z"
    }
   },
   "outputs": [],
   "source": [
    "cdf_1 = df.causal.do(x={treatment: 1}, \n",
    "              variable_types={treatment: 'b', outcome: 'c', common_cause: 'c'}, \n",
    "              outcome=outcome, \n",
    "              dot_graph=data['dot_graph'],\n",
    "              proceed_when_unidentifiable=True)\n",
    "\n",
    "cdf_0 = df.causal.do(x={treatment: 0}, \n",
    "              variable_types={treatment: 'b', outcome: 'c', common_cause: 'c'}, \n",
    "              outcome=outcome, \n",
    "              dot_graph=data['dot_graph'],\n",
    "              proceed_when_unidentifiable=True)\n"
   ]
  },
  {
   "cell_type": "code",
   "execution_count": 6,
   "metadata": {
    "execution": {
     "iopub.execute_input": "2022-09-01T23:52:36.991195Z",
     "iopub.status.busy": "2022-09-01T23:52:36.990825Z",
     "iopub.status.idle": "2022-09-01T23:52:37.005288Z",
     "shell.execute_reply": "2022-09-01T23:52:37.004622Z"
    },
    "scrolled": true
   },
   "outputs": [
    {
     "data": {
      "text/html": [
       "<div>\n",
       "<style scoped>\n",
       "    .dataframe tbody tr th:only-of-type {\n",
       "        vertical-align: middle;\n",
       "    }\n",
       "\n",
       "    .dataframe tbody tr th {\n",
       "        vertical-align: top;\n",
       "    }\n",
       "\n",
       "    .dataframe thead th {\n",
       "        text-align: right;\n",
       "    }\n",
       "</style>\n",
       "<table border=\"1\" class=\"dataframe\">\n",
       "  <thead>\n",
       "    <tr style=\"text-align: right;\">\n",
       "      <th></th>\n",
       "      <th>W0</th>\n",
       "      <th>v0</th>\n",
       "      <th>y</th>\n",
       "      <th>propensity_score</th>\n",
       "      <th>weight</th>\n",
       "    </tr>\n",
       "  </thead>\n",
       "  <tbody>\n",
       "    <tr>\n",
       "      <th>0</th>\n",
       "      <td>1.326868</td>\n",
       "      <td>False</td>\n",
       "      <td>2.490630</td>\n",
       "      <td>0.495777</td>\n",
       "      <td>2.017036</td>\n",
       "    </tr>\n",
       "    <tr>\n",
       "      <th>1</th>\n",
       "      <td>0.586008</td>\n",
       "      <td>False</td>\n",
       "      <td>2.229718</td>\n",
       "      <td>0.507674</td>\n",
       "      <td>1.969768</td>\n",
       "    </tr>\n",
       "    <tr>\n",
       "      <th>2</th>\n",
       "      <td>-0.029041</td>\n",
       "      <td>False</td>\n",
       "      <td>-0.746650</td>\n",
       "      <td>0.517545</td>\n",
       "      <td>1.932200</td>\n",
       "    </tr>\n",
       "    <tr>\n",
       "      <th>3</th>\n",
       "      <td>-0.390415</td>\n",
       "      <td>False</td>\n",
       "      <td>-4.618574</td>\n",
       "      <td>0.523338</td>\n",
       "      <td>1.910809</td>\n",
       "    </tr>\n",
       "    <tr>\n",
       "      <th>4</th>\n",
       "      <td>-0.280086</td>\n",
       "      <td>False</td>\n",
       "      <td>1.338244</td>\n",
       "      <td>0.521570</td>\n",
       "      <td>1.917288</td>\n",
       "    </tr>\n",
       "    <tr>\n",
       "      <th>...</th>\n",
       "      <td>...</td>\n",
       "      <td>...</td>\n",
       "      <td>...</td>\n",
       "      <td>...</td>\n",
       "      <td>...</td>\n",
       "    </tr>\n",
       "    <tr>\n",
       "      <th>995</th>\n",
       "      <td>1.439728</td>\n",
       "      <td>False</td>\n",
       "      <td>4.653882</td>\n",
       "      <td>0.493965</td>\n",
       "      <td>2.024436</td>\n",
       "    </tr>\n",
       "    <tr>\n",
       "      <th>996</th>\n",
       "      <td>-0.654531</td>\n",
       "      <td>False</td>\n",
       "      <td>-1.935915</td>\n",
       "      <td>0.527569</td>\n",
       "      <td>1.895487</td>\n",
       "    </tr>\n",
       "    <tr>\n",
       "      <th>997</th>\n",
       "      <td>-1.888698</td>\n",
       "      <td>False</td>\n",
       "      <td>-5.135424</td>\n",
       "      <td>0.547275</td>\n",
       "      <td>1.827234</td>\n",
       "    </tr>\n",
       "    <tr>\n",
       "      <th>998</th>\n",
       "      <td>-1.680658</td>\n",
       "      <td>False</td>\n",
       "      <td>-5.306728</td>\n",
       "      <td>0.543962</td>\n",
       "      <td>1.838363</td>\n",
       "    </tr>\n",
       "    <tr>\n",
       "      <th>999</th>\n",
       "      <td>-1.642211</td>\n",
       "      <td>False</td>\n",
       "      <td>-5.415756</td>\n",
       "      <td>0.543349</td>\n",
       "      <td>1.840437</td>\n",
       "    </tr>\n",
       "  </tbody>\n",
       "</table>\n",
       "<p>1000 rows × 5 columns</p>\n",
       "</div>"
      ],
      "text/plain": [
       "           W0     v0         y  propensity_score    weight\n",
       "0    1.326868  False  2.490630          0.495777  2.017036\n",
       "1    0.586008  False  2.229718          0.507674  1.969768\n",
       "2   -0.029041  False -0.746650          0.517545  1.932200\n",
       "3   -0.390415  False -4.618574          0.523338  1.910809\n",
       "4   -0.280086  False  1.338244          0.521570  1.917288\n",
       "..        ...    ...       ...               ...       ...\n",
       "995  1.439728  False  4.653882          0.493965  2.024436\n",
       "996 -0.654531  False -1.935915          0.527569  1.895487\n",
       "997 -1.888698  False -5.135424          0.547275  1.827234\n",
       "998 -1.680658  False -5.306728          0.543962  1.838363\n",
       "999 -1.642211  False -5.415756          0.543349  1.840437\n",
       "\n",
       "[1000 rows x 5 columns]"
      ]
     },
     "execution_count": 6,
     "metadata": {},
     "output_type": "execute_result"
    }
   ],
   "source": [
    "cdf_0"
   ]
  },
  {
   "cell_type": "code",
   "execution_count": 7,
   "metadata": {
    "execution": {
     "iopub.execute_input": "2022-09-01T23:52:37.009272Z",
     "iopub.status.busy": "2022-09-01T23:52:37.008879Z",
     "iopub.status.idle": "2022-09-01T23:52:37.023290Z",
     "shell.execute_reply": "2022-09-01T23:52:37.022625Z"
    }
   },
   "outputs": [
    {
     "data": {
      "text/html": [
       "<div>\n",
       "<style scoped>\n",
       "    .dataframe tbody tr th:only-of-type {\n",
       "        vertical-align: middle;\n",
       "    }\n",
       "\n",
       "    .dataframe tbody tr th {\n",
       "        vertical-align: top;\n",
       "    }\n",
       "\n",
       "    .dataframe thead th {\n",
       "        text-align: right;\n",
       "    }\n",
       "</style>\n",
       "<table border=\"1\" class=\"dataframe\">\n",
       "  <thead>\n",
       "    <tr style=\"text-align: right;\">\n",
       "      <th></th>\n",
       "      <th>W0</th>\n",
       "      <th>v0</th>\n",
       "      <th>y</th>\n",
       "      <th>propensity_score</th>\n",
       "      <th>weight</th>\n",
       "    </tr>\n",
       "  </thead>\n",
       "  <tbody>\n",
       "    <tr>\n",
       "      <th>0</th>\n",
       "      <td>0.822565</td>\n",
       "      <td>True</td>\n",
       "      <td>7.075019</td>\n",
       "      <td>0.496124</td>\n",
       "      <td>2.015623</td>\n",
       "    </tr>\n",
       "    <tr>\n",
       "      <th>1</th>\n",
       "      <td>1.034126</td>\n",
       "      <td>True</td>\n",
       "      <td>8.084047</td>\n",
       "      <td>0.499522</td>\n",
       "      <td>2.001914</td>\n",
       "    </tr>\n",
       "    <tr>\n",
       "      <th>2</th>\n",
       "      <td>-0.603509</td>\n",
       "      <td>True</td>\n",
       "      <td>5.845815</td>\n",
       "      <td>0.473248</td>\n",
       "      <td>2.113057</td>\n",
       "    </tr>\n",
       "    <tr>\n",
       "      <th>3</th>\n",
       "      <td>-0.986367</td>\n",
       "      <td>True</td>\n",
       "      <td>2.859386</td>\n",
       "      <td>0.467122</td>\n",
       "      <td>2.140771</td>\n",
       "    </tr>\n",
       "    <tr>\n",
       "      <th>4</th>\n",
       "      <td>-1.047201</td>\n",
       "      <td>True</td>\n",
       "      <td>1.783923</td>\n",
       "      <td>0.466149</td>\n",
       "      <td>2.145237</td>\n",
       "    </tr>\n",
       "    <tr>\n",
       "      <th>...</th>\n",
       "      <td>...</td>\n",
       "      <td>...</td>\n",
       "      <td>...</td>\n",
       "      <td>...</td>\n",
       "      <td>...</td>\n",
       "    </tr>\n",
       "    <tr>\n",
       "      <th>995</th>\n",
       "      <td>-1.183828</td>\n",
       "      <td>True</td>\n",
       "      <td>2.266641</td>\n",
       "      <td>0.463965</td>\n",
       "      <td>2.155333</td>\n",
       "    </tr>\n",
       "    <tr>\n",
       "      <th>996</th>\n",
       "      <td>-0.859203</td>\n",
       "      <td>True</td>\n",
       "      <td>2.344173</td>\n",
       "      <td>0.469155</td>\n",
       "      <td>2.131490</td>\n",
       "    </tr>\n",
       "    <tr>\n",
       "      <th>997</th>\n",
       "      <td>-1.542780</td>\n",
       "      <td>True</td>\n",
       "      <td>-1.019186</td>\n",
       "      <td>0.458236</td>\n",
       "      <td>2.182282</td>\n",
       "    </tr>\n",
       "    <tr>\n",
       "      <th>998</th>\n",
       "      <td>0.248934</td>\n",
       "      <td>True</td>\n",
       "      <td>7.733760</td>\n",
       "      <td>0.486915</td>\n",
       "      <td>2.053746</td>\n",
       "    </tr>\n",
       "    <tr>\n",
       "      <th>999</th>\n",
       "      <td>0.560958</td>\n",
       "      <td>True</td>\n",
       "      <td>7.600123</td>\n",
       "      <td>0.491924</td>\n",
       "      <td>2.032835</td>\n",
       "    </tr>\n",
       "  </tbody>\n",
       "</table>\n",
       "<p>1000 rows × 5 columns</p>\n",
       "</div>"
      ],
      "text/plain": [
       "           W0    v0         y  propensity_score    weight\n",
       "0    0.822565  True  7.075019          0.496124  2.015623\n",
       "1    1.034126  True  8.084047          0.499522  2.001914\n",
       "2   -0.603509  True  5.845815          0.473248  2.113057\n",
       "3   -0.986367  True  2.859386          0.467122  2.140771\n",
       "4   -1.047201  True  1.783923          0.466149  2.145237\n",
       "..        ...   ...       ...               ...       ...\n",
       "995 -1.183828  True  2.266641          0.463965  2.155333\n",
       "996 -0.859203  True  2.344173          0.469155  2.131490\n",
       "997 -1.542780  True -1.019186          0.458236  2.182282\n",
       "998  0.248934  True  7.733760          0.486915  2.053746\n",
       "999  0.560958  True  7.600123          0.491924  2.032835\n",
       "\n",
       "[1000 rows x 5 columns]"
      ]
     },
     "execution_count": 7,
     "metadata": {},
     "output_type": "execute_result"
    }
   ],
   "source": [
    "cdf_1"
   ]
  },
  {
   "cell_type": "markdown",
   "metadata": {},
   "source": [
    "## Comparing the estimate to Linear Regression\n",
    "First, estimating the effect using the causal data frame, and the 95% confidence interval."
   ]
  },
  {
   "cell_type": "code",
   "execution_count": 8,
   "metadata": {
    "execution": {
     "iopub.execute_input": "2022-09-01T23:52:37.026655Z",
     "iopub.status.busy": "2022-09-01T23:52:37.026205Z",
     "iopub.status.idle": "2022-09-01T23:52:37.146322Z",
     "shell.execute_reply": "2022-09-01T23:52:37.145463Z"
    }
   },
   "outputs": [
    {
     "data": {
      "image/png": "[encoded data removed]",
      "text/latex": [
       "$\\displaystyle 5.09885325128712$"
      ],
      "text/plain": [
       "5.098853251287117"
      ]
     },
     "execution_count": 8,
     "metadata": {},
     "output_type": "execute_result"
    }
   ],
   "source": [
    "(cdf_1['y'] - cdf_0['y']).mean()"
   ]
  },
  {
   "cell_type": "code",
   "execution_count": 9,
   "metadata": {
    "execution": {
     "iopub.execute_input": "2022-09-01T23:52:37.149871Z",
     "iopub.status.busy": "2022-09-01T23:52:37.149586Z",
     "iopub.status.idle": "2022-09-01T23:52:37.177473Z",
     "shell.execute_reply": "2022-09-01T23:52:37.176705Z"
    }
   },
   "outputs": [
    {
     "data": {
      "image/png": "[encoded data removed]",
      "text/latex": [
       "$\\displaystyle 0.25452532583741$"
      ],
      "text/plain": [
       "0.25452532583741033"
      ]
     },
     "execution_count": 9,
     "metadata": {},
     "output_type": "execute_result"
    }
   ],
   "source": [
    "1.96*(cdf_1['y'] - cdf_0['y']).std() / np.sqrt(len(df))"
   ]
  },
  {
   "cell_type": "markdown",
   "metadata": {},
   "source": [
    "Comparing to the estimate from OLS."
   ]
  },
  {
   "cell_type": "code",
   "execution_count": 10,
   "metadata": {
    "execution": {
     "iopub.execute_input": "2022-09-01T23:52:37.181049Z",
     "iopub.status.busy": "2022-09-01T23:52:37.180777Z",
     "iopub.status.idle": "2022-09-01T23:52:37.204979Z",
     "shell.execute_reply": "2022-09-01T23:52:37.199684Z"
    }
   },
   "outputs": [
    {
     "data": {
      "text/html": [
       "<table class=\"simpletable\">\n",
       "<caption>OLS Regression Results</caption>\n",
       "<tr>\n",
       "  <th>Dep. Variable:</th>            <td>y</td>        <th>  R-squared (uncentered):</th>      <td>   0.937</td>\n",
       "</tr>\n",
       "<tr>\n",
       "  <th>Model:</th>                   <td>OLS</td>       <th>  Adj. R-squared (uncentered):</th> <td>   0.937</td>\n",
       "</tr>\n",
       "<tr>\n",
       "  <th>Method:</th>             <td>Least Squares</td>  <th>  F-statistic:       </th>          <td>   7413.</td>\n",
       "</tr>\n",
       "<tr>\n",
       "  <th>Date:</th>             <td>Thu, 01 Sep 2022</td> <th>  Prob (F-statistic):</th>           <td>  0.00</td> \n",
       "</tr>\n",
       "<tr>\n",
       "  <th>Time:</th>                 <td>23:52:37</td>     <th>  Log-Likelihood:    </th>          <td> -1442.1</td>\n",
       "</tr>\n",
       "<tr>\n",
       "  <th>No. Observations:</th>      <td>  1000</td>      <th>  AIC:               </th>          <td>   2888.</td>\n",
       "</tr>\n",
       "<tr>\n",
       "  <th>Df Residuals:</th>          <td>   998</td>      <th>  BIC:               </th>          <td>   2898.</td>\n",
       "</tr>\n",
       "<tr>\n",
       "  <th>Df Model:</th>              <td>     2</td>      <th>                     </th>              <td> </td>   \n",
       "</tr>\n",
       "<tr>\n",
       "  <th>Covariance Type:</th>      <td>nonrobust</td>    <th>                     </th>              <td> </td>   \n",
       "</tr>\n",
       "</table>\n",
       "<table class=\"simpletable\">\n",
       "<tr>\n",
       "   <td></td>     <th>coef</th>     <th>std err</th>      <th>t</th>      <th>P>|t|</th>  <th>[0.025</th>    <th>0.975]</th>  \n",
       "</tr>\n",
       "<tr>\n",
       "  <th>x1</th> <td>    2.8586</td> <td>    0.030</td> <td>   95.667</td> <td> 0.000</td> <td>    2.800</td> <td>    2.917</td>\n",
       "</tr>\n",
       "<tr>\n",
       "  <th>x2</th> <td>    5.0436</td> <td>    0.050</td> <td>  101.697</td> <td> 0.000</td> <td>    4.946</td> <td>    5.141</td>\n",
       "</tr>\n",
       "</table>\n",
       "<table class=\"simpletable\">\n",
       "<tr>\n",
       "  <th>Omnibus:</th>       <td> 1.675</td> <th>  Durbin-Watson:     </th> <td>   1.959</td>\n",
       "</tr>\n",
       "<tr>\n",
       "  <th>Prob(Omnibus):</th> <td> 0.433</td> <th>  Jarque-Bera (JB):  </th> <td>   1.636</td>\n",
       "</tr>\n",
       "<tr>\n",
       "  <th>Skew:</th>          <td> 0.004</td> <th>  Prob(JB):          </th> <td>   0.441</td>\n",
       "</tr>\n",
       "<tr>\n",
       "  <th>Kurtosis:</th>      <td> 3.198</td> <th>  Cond. No.          </th> <td>    1.84</td>\n",
       "</tr>\n",
       "</table><br/><br/>Notes:<br/>[1] R² is computed without centering (uncentered) since the model does not contain a constant.<br/>[2] Standard Errors assume that the covariance matrix of the errors is correctly specified."
      ],
      "text/plain": [
       "<class 'statsmodels.iolib.summary.Summary'>\n",
       "\"\"\"\n",
       "                                 OLS Regression Results                                \n",
       "=======================================================================================\n",
       "Dep. Variable:                      y   R-squared (uncentered):                   0.937\n",
       "Model:                            OLS   Adj. R-squared (uncentered):              0.937\n",
       "Method:                 Least Squares   F-statistic:                              7413.\n",
       "Date:                Thu, 01 Sep 2022   Prob (F-statistic):                        0.00\n",
       "Time:                        23:52:37   Log-Likelihood:                         -1442.1\n",
       "No. Observations:                1000   AIC:                                      2888.\n",
       "Df Residuals:                     998   BIC:                                      2898.\n",
       "Df Model:                           2                                                  \n",
       "Covariance Type:            nonrobust                                                  \n",
       "==============================================================================\n",
       "                 coef    std err          t      P>|t|      [0.025      0.975]\n",
       "------------------------------------------------------------------------------\n",
       "x1             2.8586      0.030     95.667      0.000       2.800       2.917\n",
       "x2             5.0436      0.050    101.697      0.000       4.946       5.141\n",
       "==============================================================================\n",
       "Omnibus:                        1.675   Durbin-Watson:                   1.959\n",
       "Prob(Omnibus):                  0.433   Jarque-Bera (JB):                1.636\n",
       "Skew:                           0.004   Prob(JB):                        0.441\n",
       "Kurtosis:                       3.198   Cond. No.                         1.84\n",
       "==============================================================================\n",
       "\n",
       "Notes:\n",
       "[1] R² is computed without centering (uncentered) since the model does not contain a constant.\n",
       "[2] Standard Errors assume that the covariance matrix of the errors is correctly specified.\n",
       "\"\"\""
      ]
     },
     "execution_count": 10,
     "metadata": {},
     "output_type": "execute_result"
    }
   ],
   "source": [
    "model = OLS(np.asarray(df[outcome]), np.asarray(df[[common_cause, treatment]], dtype=np.float64))\n",
    "result = model.fit()\n",
    "result.summary()"
   ]
  }
 ],
 "metadata": {
  "kernelspec": {
   "display_name": "Python 3",
   "language": "python",
   "name": "python3"
  },
  "language_info": {
   "codemirror_mode": {
    "name": "ipython",
    "version": 3
   },
   "file_extension": ".py",
   "mimetype": "text/x-python",
   "name": "python",
   "nbconvert_exporter": "python",
   "pygments_lexer": "ipython3",
   "version": "3.8.10"
  },
  "toc": {
   "base_numbering": 1,
   "nav_menu": {},
   "number_sections": false,
   "sideBar": true,
   "skip_h1_title": true,
   "title_cell": "Table of Contents",
   "title_sidebar": "Contents",
   "toc_cell": false,
   "toc_position": {},
   "toc_section_display": true,
   "toc_window_display": false
  }
 },
 "nbformat": 4,
 "nbformat_minor": 4
}
