{
 "cells": [
  {
   "cell_type": "markdown",
   "metadata": {},
   "source": [
    "# Demo for the DoWhy causal API\n",
    "We show a simple example of adding a causal extension to any dataframe. "
   ]
  },
  {
   "cell_type": "code",
   "execution_count": 1,
   "metadata": {
    "execution": {
     "iopub.execute_input": "2022-08-01T08:54:37.207479Z",
     "iopub.status.busy": "2022-08-01T08:54:37.207055Z",
     "iopub.status.idle": "2022-08-01T08:54:38.404169Z",
     "shell.execute_reply": "2022-08-01T08:54:38.403132Z"
    }
   },
   "outputs": [
    {
     "name": "stdout",
     "output_type": "stream",
     "text": [
      "keywords are unexpanded, not using\n"
     ]
    }
   ],
   "source": [
    "import dowhy.datasets\n",
    "import dowhy.api\n",
    "\n",
    "import numpy as np\n",
    "import pandas as pd\n",
    "\n",
    "from statsmodels.api import OLS"
   ]
  },
  {
   "cell_type": "code",
   "execution_count": 2,
   "metadata": {
    "execution": {
     "iopub.execute_input": "2022-08-01T08:54:38.407991Z",
     "iopub.status.busy": "2022-08-01T08:54:38.407488Z",
     "iopub.status.idle": "2022-08-01T08:54:38.457222Z",
     "shell.execute_reply": "2022-08-01T08:54:38.456547Z"
    }
   },
   "outputs": [
    {
     "data": {
      "text/html": [
       "<div>\n",
       "<style scoped>\n",
       "    .dataframe tbody tr th:only-of-type {\n",
       "        vertical-align: middle;\n",
       "    }\n",
       "\n",
       "    .dataframe tbody tr th {\n",
       "        vertical-align: top;\n",
       "    }\n",
       "\n",
       "    .dataframe thead th {\n",
       "        text-align: right;\n",
       "    }\n",
       "</style>\n",
       "<table border=\"1\" class=\"dataframe\">\n",
       "  <thead>\n",
       "    <tr style=\"text-align: right;\">\n",
       "      <th></th>\n",
       "      <th>W0</th>\n",
       "      <th>v0</th>\n",
       "      <th>y</th>\n",
       "    </tr>\n",
       "  </thead>\n",
       "  <tbody>\n",
       "    <tr>\n",
       "      <th>0</th>\n",
       "      <td>1.185411</td>\n",
       "      <td>False</td>\n",
       "      <td>0.252183</td>\n",
       "    </tr>\n",
       "    <tr>\n",
       "      <th>1</th>\n",
       "      <td>-0.676288</td>\n",
       "      <td>True</td>\n",
       "      <td>5.241772</td>\n",
       "    </tr>\n",
       "    <tr>\n",
       "      <th>2</th>\n",
       "      <td>-0.220051</td>\n",
       "      <td>False</td>\n",
       "      <td>-1.795438</td>\n",
       "    </tr>\n",
       "    <tr>\n",
       "      <th>3</th>\n",
       "      <td>-0.114103</td>\n",
       "      <td>False</td>\n",
       "      <td>1.241739</td>\n",
       "    </tr>\n",
       "    <tr>\n",
       "      <th>4</th>\n",
       "      <td>-2.685925</td>\n",
       "      <td>False</td>\n",
       "      <td>-1.354243</td>\n",
       "    </tr>\n",
       "    <tr>\n",
       "      <th>...</th>\n",
       "      <td>...</td>\n",
       "      <td>...</td>\n",
       "      <td>...</td>\n",
       "    </tr>\n",
       "    <tr>\n",
       "      <th>995</th>\n",
       "      <td>1.140466</td>\n",
       "      <td>True</td>\n",
       "      <td>8.066491</td>\n",
       "    </tr>\n",
       "    <tr>\n",
       "      <th>996</th>\n",
       "      <td>0.521374</td>\n",
       "      <td>True</td>\n",
       "      <td>4.571258</td>\n",
       "    </tr>\n",
       "    <tr>\n",
       "      <th>997</th>\n",
       "      <td>-0.145125</td>\n",
       "      <td>False</td>\n",
       "      <td>0.749062</td>\n",
       "    </tr>\n",
       "    <tr>\n",
       "      <th>998</th>\n",
       "      <td>-0.770367</td>\n",
       "      <td>False</td>\n",
       "      <td>0.884067</td>\n",
       "    </tr>\n",
       "    <tr>\n",
       "      <th>999</th>\n",
       "      <td>0.242617</td>\n",
       "      <td>True</td>\n",
       "      <td>4.273814</td>\n",
       "    </tr>\n",
       "  </tbody>\n",
       "</table>\n",
       "<p>1000 rows × 3 columns</p>\n",
       "</div>"
      ],
      "text/plain": [
       "           W0     v0         y\n",
       "0    1.185411  False  0.252183\n",
       "1   -0.676288   True  5.241772\n",
       "2   -0.220051  False -1.795438\n",
       "3   -0.114103  False  1.241739\n",
       "4   -2.685925  False -1.354243\n",
       "..        ...    ...       ...\n",
       "995  1.140466   True  8.066491\n",
       "996  0.521374   True  4.571258\n",
       "997 -0.145125  False  0.749062\n",
       "998 -0.770367  False  0.884067\n",
       "999  0.242617   True  4.273814\n",
       "\n",
       "[1000 rows x 3 columns]"
      ]
     },
     "execution_count": 2,
     "metadata": {},
     "output_type": "execute_result"
    }
   ],
   "source": [
    "data = dowhy.datasets.linear_dataset(beta=5,\n",
    "        num_common_causes=1,\n",
    "        num_instruments = 0,\n",
    "        num_samples=1000,\n",
    "        treatment_is_binary=True)\n",
    "df = data['df']\n",
    "df['y'] = df['y'] + np.random.normal(size=len(df)) # Adding noise to data. Without noise, the variance in Y|X, Z is zero, and mcmc fails.\n",
    "#data['dot_graph'] = 'digraph { v ->y;X0-> v;X0-> y;}'\n",
    "\n",
    "treatment= data[\"treatment_name\"][0]\n",
    "outcome = data[\"outcome_name\"][0]\n",
    "common_cause = data[\"common_causes_names\"][0]\n",
    "df"
   ]
  },
  {
   "cell_type": "code",
   "execution_count": 3,
   "metadata": {
    "execution": {
     "iopub.execute_input": "2022-08-01T08:54:38.460269Z",
     "iopub.status.busy": "2022-08-01T08:54:38.460038Z",
     "iopub.status.idle": "2022-08-01T08:54:39.231705Z",
     "shell.execute_reply": "2022-08-01T08:54:39.231116Z"
    }
   },
   "outputs": [
    {
     "data": {
      "text/plain": [
       "<AxesSubplot:xlabel='v0'>"
      ]
     },
     "execution_count": 3,
     "metadata": {},
     "output_type": "execute_result"
    },
    {
     "data": {
      "image/png": "[encoded data removed]",
      "text/plain": [
       "<Figure size 432x288 with 1 Axes>"
      ]
     },
     "metadata": {
      "needs_background": "light"
     },
     "output_type": "display_data"
    }
   ],
   "source": [
    "# data['df'] is just a regular pandas.DataFrame\n",
    "df.causal.do(x=treatment,\n",
    "                     variable_types={treatment: 'b', outcome: 'c', common_cause: 'c'},\n",
    "                     outcome=outcome,\n",
    "                     common_causes=[common_cause],\n",
    "                     proceed_when_unidentifiable=True).groupby(treatment).mean().plot(y=outcome, kind='bar')"
   ]
  },
  {
   "cell_type": "code",
   "execution_count": 4,
   "metadata": {
    "execution": {
     "iopub.execute_input": "2022-08-01T08:54:39.235640Z",
     "iopub.status.busy": "2022-08-01T08:54:39.234230Z",
     "iopub.status.idle": "2022-08-01T08:54:39.327789Z",
     "shell.execute_reply": "2022-08-01T08:54:39.327195Z"
    }
   },
   "outputs": [
    {
     "data": {
      "text/plain": [
       "<AxesSubplot:xlabel='v0'>"
      ]
     },
     "execution_count": 4,
     "metadata": {},
     "output_type": "execute_result"
    },
    {
     "data": {
      "image/png": "[encoded data removed]",
      "text/plain": [
       "<Figure size 432x288 with 1 Axes>"
      ]
     },
     "metadata": {
      "needs_background": "light"
     },
     "output_type": "display_data"
    }
   ],
   "source": [
    "df.causal.do(x={treatment: 1}, \n",
    "              variable_types={treatment:'b', outcome: 'c', common_cause: 'c'}, \n",
    "              outcome=outcome,\n",
    "              method='weighting', \n",
    "              common_causes=[common_cause],\n",
    "              proceed_when_unidentifiable=True).groupby(treatment).mean().plot(y=outcome, kind='bar')"
   ]
  },
  {
   "cell_type": "code",
   "execution_count": 5,
   "metadata": {
    "execution": {
     "iopub.execute_input": "2022-08-01T08:54:39.332183Z",
     "iopub.status.busy": "2022-08-01T08:54:39.331128Z",
     "iopub.status.idle": "2022-08-01T08:54:39.363068Z",
     "shell.execute_reply": "2022-08-01T08:54:39.362540Z"
    }
   },
   "outputs": [],
   "source": [
    "cdf_1 = df.causal.do(x={treatment: 1}, \n",
    "              variable_types={treatment: 'b', outcome: 'c', common_cause: 'c'}, \n",
    "              outcome=outcome, \n",
    "              dot_graph=data['dot_graph'],\n",
    "              proceed_when_unidentifiable=True)\n",
    "\n",
    "cdf_0 = df.causal.do(x={treatment: 0}, \n",
    "              variable_types={treatment: 'b', outcome: 'c', common_cause: 'c'}, \n",
    "              outcome=outcome, \n",
    "              dot_graph=data['dot_graph'],\n",
    "              proceed_when_unidentifiable=True)\n"
   ]
  },
  {
   "cell_type": "code",
   "execution_count": 6,
   "metadata": {
    "execution": {
     "iopub.execute_input": "2022-08-01T08:54:39.367330Z",
     "iopub.status.busy": "2022-08-01T08:54:39.366279Z",
     "iopub.status.idle": "2022-08-01T08:54:39.378205Z",
     "shell.execute_reply": "2022-08-01T08:54:39.377562Z"
    },
    "scrolled": true
   },
   "outputs": [
    {
     "data": {
      "text/html": [
       "<div>\n",
       "<style scoped>\n",
       "    .dataframe tbody tr th:only-of-type {\n",
       "        vertical-align: middle;\n",
       "    }\n",
       "\n",
       "    .dataframe tbody tr th {\n",
       "        vertical-align: top;\n",
       "    }\n",
       "\n",
       "    .dataframe thead th {\n",
       "        text-align: right;\n",
       "    }\n",
       "</style>\n",
       "<table border=\"1\" class=\"dataframe\">\n",
       "  <thead>\n",
       "    <tr style=\"text-align: right;\">\n",
       "      <th></th>\n",
       "      <th>W0</th>\n",
       "      <th>v0</th>\n",
       "      <th>y</th>\n",
       "      <th>propensity_score</th>\n",
       "      <th>weight</th>\n",
       "    </tr>\n",
       "  </thead>\n",
       "  <tbody>\n",
       "    <tr>\n",
       "      <th>0</th>\n",
       "      <td>-0.429884</td>\n",
       "      <td>False</td>\n",
       "      <td>0.449563</td>\n",
       "      <td>0.551111</td>\n",
       "      <td>1.814516</td>\n",
       "    </tr>\n",
       "    <tr>\n",
       "      <th>1</th>\n",
       "      <td>-0.220621</td>\n",
       "      <td>False</td>\n",
       "      <td>-2.315930</td>\n",
       "      <td>0.528463</td>\n",
       "      <td>1.892281</td>\n",
       "    </tr>\n",
       "    <tr>\n",
       "      <th>2</th>\n",
       "      <td>-2.287906</td>\n",
       "      <td>False</td>\n",
       "      <td>-1.048880</td>\n",
       "      <td>0.733961</td>\n",
       "      <td>1.362470</td>\n",
       "    </tr>\n",
       "    <tr>\n",
       "      <th>3</th>\n",
       "      <td>-0.114639</td>\n",
       "      <td>False</td>\n",
       "      <td>0.456186</td>\n",
       "      <td>0.516941</td>\n",
       "      <td>1.934456</td>\n",
       "    </tr>\n",
       "    <tr>\n",
       "      <th>4</th>\n",
       "      <td>1.406420</td>\n",
       "      <td>False</td>\n",
       "      <td>2.302282</td>\n",
       "      <td>0.355482</td>\n",
       "      <td>2.813078</td>\n",
       "    </tr>\n",
       "    <tr>\n",
       "      <th>...</th>\n",
       "      <td>...</td>\n",
       "      <td>...</td>\n",
       "      <td>...</td>\n",
       "      <td>...</td>\n",
       "      <td>...</td>\n",
       "    </tr>\n",
       "    <tr>\n",
       "      <th>995</th>\n",
       "      <td>1.577663</td>\n",
       "      <td>False</td>\n",
       "      <td>-0.204587</td>\n",
       "      <td>0.338576</td>\n",
       "      <td>2.953547</td>\n",
       "    </tr>\n",
       "    <tr>\n",
       "      <th>996</th>\n",
       "      <td>0.843253</td>\n",
       "      <td>False</td>\n",
       "      <td>-0.685070</td>\n",
       "      <td>0.413475</td>\n",
       "      <td>2.418529</td>\n",
       "    </tr>\n",
       "    <tr>\n",
       "      <th>997</th>\n",
       "      <td>-0.186478</td>\n",
       "      <td>False</td>\n",
       "      <td>1.056377</td>\n",
       "      <td>0.524754</td>\n",
       "      <td>1.905656</td>\n",
       "    </tr>\n",
       "    <tr>\n",
       "      <th>998</th>\n",
       "      <td>-0.892383</td>\n",
       "      <td>False</td>\n",
       "      <td>0.459187</td>\n",
       "      <td>0.600296</td>\n",
       "      <td>1.665844</td>\n",
       "    </tr>\n",
       "    <tr>\n",
       "      <th>999</th>\n",
       "      <td>-0.497074</td>\n",
       "      <td>False</td>\n",
       "      <td>-1.101781</td>\n",
       "      <td>0.558343</td>\n",
       "      <td>1.791013</td>\n",
       "    </tr>\n",
       "  </tbody>\n",
       "</table>\n",
       "<p>1000 rows × 5 columns</p>\n",
       "</div>"
      ],
      "text/plain": [
       "           W0     v0         y  propensity_score    weight\n",
       "0   -0.429884  False  0.449563          0.551111  1.814516\n",
       "1   -0.220621  False -2.315930          0.528463  1.892281\n",
       "2   -2.287906  False -1.048880          0.733961  1.362470\n",
       "3   -0.114639  False  0.456186          0.516941  1.934456\n",
       "4    1.406420  False  2.302282          0.355482  2.813078\n",
       "..        ...    ...       ...               ...       ...\n",
       "995  1.577663  False -0.204587          0.338576  2.953547\n",
       "996  0.843253  False -0.685070          0.413475  2.418529\n",
       "997 -0.186478  False  1.056377          0.524754  1.905656\n",
       "998 -0.892383  False  0.459187          0.600296  1.665844\n",
       "999 -0.497074  False -1.101781          0.558343  1.791013\n",
       "\n",
       "[1000 rows x 5 columns]"
      ]
     },
     "execution_count": 6,
     "metadata": {},
     "output_type": "execute_result"
    }
   ],
   "source": [
    "cdf_0"
   ]
  },
  {
   "cell_type": "code",
   "execution_count": 7,
   "metadata": {
    "execution": {
     "iopub.execute_input": "2022-08-01T08:54:39.381162Z",
     "iopub.status.busy": "2022-08-01T08:54:39.380600Z",
     "iopub.status.idle": "2022-08-01T08:54:39.393131Z",
     "shell.execute_reply": "2022-08-01T08:54:39.391475Z"
    }
   },
   "outputs": [
    {
     "data": {
      "text/html": [
       "<div>\n",
       "<style scoped>\n",
       "    .dataframe tbody tr th:only-of-type {\n",
       "        vertical-align: middle;\n",
       "    }\n",
       "\n",
       "    .dataframe tbody tr th {\n",
       "        vertical-align: top;\n",
       "    }\n",
       "\n",
       "    .dataframe thead th {\n",
       "        text-align: right;\n",
       "    }\n",
       "</style>\n",
       "<table border=\"1\" class=\"dataframe\">\n",
       "  <thead>\n",
       "    <tr style=\"text-align: right;\">\n",
       "      <th></th>\n",
       "      <th>W0</th>\n",
       "      <th>v0</th>\n",
       "      <th>y</th>\n",
       "      <th>propensity_score</th>\n",
       "      <th>weight</th>\n",
       "    </tr>\n",
       "  </thead>\n",
       "  <tbody>\n",
       "    <tr>\n",
       "      <th>0</th>\n",
       "      <td>0.714833</td>\n",
       "      <td>True</td>\n",
       "      <td>3.896052</td>\n",
       "      <td>0.572892</td>\n",
       "      <td>1.745530</td>\n",
       "    </tr>\n",
       "    <tr>\n",
       "      <th>1</th>\n",
       "      <td>-0.380756</td>\n",
       "      <td>True</td>\n",
       "      <td>5.254550</td>\n",
       "      <td>0.454190</td>\n",
       "      <td>2.201720</td>\n",
       "    </tr>\n",
       "    <tr>\n",
       "      <th>2</th>\n",
       "      <td>-1.386157</td>\n",
       "      <td>True</td>\n",
       "      <td>5.381636</td>\n",
       "      <td>0.349357</td>\n",
       "      <td>2.862403</td>\n",
       "    </tr>\n",
       "    <tr>\n",
       "      <th>3</th>\n",
       "      <td>0.160349</td>\n",
       "      <td>True</td>\n",
       "      <td>5.975798</td>\n",
       "      <td>0.513007</td>\n",
       "      <td>1.949293</td>\n",
       "    </tr>\n",
       "    <tr>\n",
       "      <th>4</th>\n",
       "      <td>-0.473289</td>\n",
       "      <td>True</td>\n",
       "      <td>3.901127</td>\n",
       "      <td>0.444214</td>\n",
       "      <td>2.251166</td>\n",
       "    </tr>\n",
       "    <tr>\n",
       "      <th>...</th>\n",
       "      <td>...</td>\n",
       "      <td>...</td>\n",
       "      <td>...</td>\n",
       "      <td>...</td>\n",
       "      <td>...</td>\n",
       "    </tr>\n",
       "    <tr>\n",
       "      <th>995</th>\n",
       "      <td>1.012825</td>\n",
       "      <td>True</td>\n",
       "      <td>4.458636</td>\n",
       "      <td>0.604324</td>\n",
       "      <td>1.654743</td>\n",
       "    </tr>\n",
       "    <tr>\n",
       "      <th>996</th>\n",
       "      <td>-0.506199</td>\n",
       "      <td>True</td>\n",
       "      <td>5.135710</td>\n",
       "      <td>0.440677</td>\n",
       "      <td>2.269238</td>\n",
       "    </tr>\n",
       "    <tr>\n",
       "      <th>997</th>\n",
       "      <td>-1.121886</td>\n",
       "      <td>True</td>\n",
       "      <td>3.532041</td>\n",
       "      <td>0.375965</td>\n",
       "      <td>2.659819</td>\n",
       "    </tr>\n",
       "    <tr>\n",
       "      <th>998</th>\n",
       "      <td>-0.630965</td>\n",
       "      <td>True</td>\n",
       "      <td>4.777884</td>\n",
       "      <td>0.427322</td>\n",
       "      <td>2.340155</td>\n",
       "    </tr>\n",
       "    <tr>\n",
       "      <th>999</th>\n",
       "      <td>-0.697498</td>\n",
       "      <td>True</td>\n",
       "      <td>6.271615</td>\n",
       "      <td>0.420243</td>\n",
       "      <td>2.379578</td>\n",
       "    </tr>\n",
       "  </tbody>\n",
       "</table>\n",
       "<p>1000 rows × 5 columns</p>\n",
       "</div>"
      ],
      "text/plain": [
       "           W0    v0         y  propensity_score    weight\n",
       "0    0.714833  True  3.896052          0.572892  1.745530\n",
       "1   -0.380756  True  5.254550          0.454190  2.201720\n",
       "2   -1.386157  True  5.381636          0.349357  2.862403\n",
       "3    0.160349  True  5.975798          0.513007  1.949293\n",
       "4   -0.473289  True  3.901127          0.444214  2.251166\n",
       "..        ...   ...       ...               ...       ...\n",
       "995  1.012825  True  4.458636          0.604324  1.654743\n",
       "996 -0.506199  True  5.135710          0.440677  2.269238\n",
       "997 -1.121886  True  3.532041          0.375965  2.659819\n",
       "998 -0.630965  True  4.777884          0.427322  2.340155\n",
       "999 -0.697498  True  6.271615          0.420243  2.379578\n",
       "\n",
       "[1000 rows x 5 columns]"
      ]
     },
     "execution_count": 7,
     "metadata": {},
     "output_type": "execute_result"
    }
   ],
   "source": [
    "cdf_1"
   ]
  },
  {
   "cell_type": "markdown",
   "metadata": {},
   "source": [
    "## Comparing the estimate to Linear Regression\n",
    "First, estimating the effect using the causal data frame, and the 95% confidence interval."
   ]
  },
  {
   "cell_type": "code",
   "execution_count": 8,
   "metadata": {
    "execution": {
     "iopub.execute_input": "2022-08-01T08:54:39.396175Z",
     "iopub.status.busy": "2022-08-01T08:54:39.395646Z",
     "iopub.status.idle": "2022-08-01T08:54:39.495313Z",
     "shell.execute_reply": "2022-08-01T08:54:39.494535Z"
    }
   },
   "outputs": [
    {
     "data": {
      "image/png": "[encoded data removed]",
      "text/latex": [
       "$\\displaystyle 4.88914033917178$"
      ],
      "text/plain": [
       "4.889140339171779"
      ]
     },
     "execution_count": 8,
     "metadata": {},
     "output_type": "execute_result"
    }
   ],
   "source": [
    "(cdf_1['y'] - cdf_0['y']).mean()"
   ]
  },
  {
   "cell_type": "code",
   "execution_count": 9,
   "metadata": {
    "execution": {
     "iopub.execute_input": "2022-08-01T08:54:39.498497Z",
     "iopub.status.busy": "2022-08-01T08:54:39.498042Z",
     "iopub.status.idle": "2022-08-01T08:54:39.522768Z",
     "shell.execute_reply": "2022-08-01T08:54:39.522102Z"
    }
   },
   "outputs": [
    {
     "data": {
      "image/png": "[encoded data removed]",
      "text/latex": [
       "$\\displaystyle 0.0887565139609363$"
      ],
      "text/plain": [
       "0.08875651396093626"
      ]
     },
     "execution_count": 9,
     "metadata": {},
     "output_type": "execute_result"
    }
   ],
   "source": [
    "1.96*(cdf_1['y'] - cdf_0['y']).std() / np.sqrt(len(df))"
   ]
  },
  {
   "cell_type": "markdown",
   "metadata": {},
   "source": [
    "Comparing to the estimate from OLS."
   ]
  },
  {
   "cell_type": "code",
   "execution_count": 10,
   "metadata": {
    "execution": {
     "iopub.execute_input": "2022-08-01T08:54:39.528116Z",
     "iopub.status.busy": "2022-08-01T08:54:39.527757Z",
     "iopub.status.idle": "2022-08-01T08:54:39.544003Z",
     "shell.execute_reply": "2022-08-01T08:54:39.543360Z"
    }
   },
   "outputs": [
    {
     "data": {
      "text/html": [
       "<table class=\"simpletable\">\n",
       "<caption>OLS Regression Results</caption>\n",
       "<tr>\n",
       "  <th>Dep. Variable:</th>            <td>y</td>        <th>  R-squared (uncentered):</th>      <td>   0.926</td>\n",
       "</tr>\n",
       "<tr>\n",
       "  <th>Model:</th>                   <td>OLS</td>       <th>  Adj. R-squared (uncentered):</th> <td>   0.926</td>\n",
       "</tr>\n",
       "<tr>\n",
       "  <th>Method:</th>             <td>Least Squares</td>  <th>  F-statistic:       </th>          <td>   6228.</td>\n",
       "</tr>\n",
       "<tr>\n",
       "  <th>Date:</th>             <td>Mon, 01 Aug 2022</td> <th>  Prob (F-statistic):</th>           <td>  0.00</td> \n",
       "</tr>\n",
       "<tr>\n",
       "  <th>Time:</th>                 <td>08:54:39</td>     <th>  Log-Likelihood:    </th>          <td> -1386.1</td>\n",
       "</tr>\n",
       "<tr>\n",
       "  <th>No. Observations:</th>      <td>  1000</td>      <th>  AIC:               </th>          <td>   2776.</td>\n",
       "</tr>\n",
       "<tr>\n",
       "  <th>Df Residuals:</th>          <td>   998</td>      <th>  BIC:               </th>          <td>   2786.</td>\n",
       "</tr>\n",
       "<tr>\n",
       "  <th>Df Model:</th>              <td>     2</td>      <th>                     </th>              <td> </td>   \n",
       "</tr>\n",
       "<tr>\n",
       "  <th>Covariance Type:</th>      <td>nonrobust</td>    <th>                     </th>              <td> </td>   \n",
       "</tr>\n",
       "</table>\n",
       "<table class=\"simpletable\">\n",
       "<tr>\n",
       "   <td></td>     <th>coef</th>     <th>std err</th>      <th>t</th>      <th>P>|t|</th>  <th>[0.025</th>    <th>0.975]</th>  \n",
       "</tr>\n",
       "<tr>\n",
       "  <th>x1</th> <td>    0.3881</td> <td>    0.030</td> <td>   12.966</td> <td> 0.000</td> <td>    0.329</td> <td>    0.447</td>\n",
       "</tr>\n",
       "<tr>\n",
       "  <th>x2</th> <td>    4.9378</td> <td>    0.045</td> <td>  110.860</td> <td> 0.000</td> <td>    4.850</td> <td>    5.025</td>\n",
       "</tr>\n",
       "</table>\n",
       "<table class=\"simpletable\">\n",
       "<tr>\n",
       "  <th>Omnibus:</th>       <td> 1.354</td> <th>  Durbin-Watson:     </th> <td>   1.933</td>\n",
       "</tr>\n",
       "<tr>\n",
       "  <th>Prob(Omnibus):</th> <td> 0.508</td> <th>  Jarque-Bera (JB):  </th> <td>   1.419</td>\n",
       "</tr>\n",
       "<tr>\n",
       "  <th>Skew:</th>          <td> 0.064</td> <th>  Prob(JB):          </th> <td>   0.492</td>\n",
       "</tr>\n",
       "<tr>\n",
       "  <th>Kurtosis:</th>      <td> 2.867</td> <th>  Cond. No.          </th> <td>    1.49</td>\n",
       "</tr>\n",
       "</table><br/><br/>Notes:<br/>[1] R² is computed without centering (uncentered) since the model does not contain a constant.<br/>[2] Standard Errors assume that the covariance matrix of the errors is correctly specified."
      ],
      "text/plain": [
       "<class 'statsmodels.iolib.summary.Summary'>\n",
       "\"\"\"\n",
       "                                 OLS Regression Results                                \n",
       "=======================================================================================\n",
       "Dep. Variable:                      y   R-squared (uncentered):                   0.926\n",
       "Model:                            OLS   Adj. R-squared (uncentered):              0.926\n",
       "Method:                 Least Squares   F-statistic:                              6228.\n",
       "Date:                Mon, 01 Aug 2022   Prob (F-statistic):                        0.00\n",
       "Time:                        08:54:39   Log-Likelihood:                         -1386.1\n",
       "No. Observations:                1000   AIC:                                      2776.\n",
       "Df Residuals:                     998   BIC:                                      2786.\n",
       "Df Model:                           2                                                  \n",
       "Covariance Type:            nonrobust                                                  \n",
       "==============================================================================\n",
       "                 coef    std err          t      P>|t|      [0.025      0.975]\n",
       "------------------------------------------------------------------------------\n",
       "x1             0.3881      0.030     12.966      0.000       0.329       0.447\n",
       "x2             4.9378      0.045    110.860      0.000       4.850       5.025\n",
       "==============================================================================\n",
       "Omnibus:                        1.354   Durbin-Watson:                   1.933\n",
       "Prob(Omnibus):                  0.508   Jarque-Bera (JB):                1.419\n",
       "Skew:                           0.064   Prob(JB):                        0.492\n",
       "Kurtosis:                       2.867   Cond. No.                         1.49\n",
       "==============================================================================\n",
       "\n",
       "Notes:\n",
       "[1] R² is computed without centering (uncentered) since the model does not contain a constant.\n",
       "[2] Standard Errors assume that the covariance matrix of the errors is correctly specified.\n",
       "\"\"\""
      ]
     },
     "execution_count": 10,
     "metadata": {},
     "output_type": "execute_result"
    }
   ],
   "source": [
    "model = OLS(np.asarray(df[outcome]), np.asarray(df[[common_cause, treatment]], dtype=np.float64))\n",
    "result = model.fit()\n",
    "result.summary()"
   ]
  }
 ],
 "metadata": {
  "kernelspec": {
   "display_name": "Python 3",
   "language": "python",
   "name": "python3"
  },
  "language_info": {
   "codemirror_mode": {
    "name": "ipython",
    "version": 3
   },
   "file_extension": ".py",
   "mimetype": "text/x-python",
   "name": "python",
   "nbconvert_exporter": "python",
   "pygments_lexer": "ipython3",
   "version": "3.8.10"
  },
  "toc": {
   "base_numbering": 1,
   "nav_menu": {},
   "number_sections": false,
   "sideBar": true,
   "skip_h1_title": true,
   "title_cell": "Table of Contents",
   "title_sidebar": "Contents",
   "toc_cell": false,
   "toc_position": {},
   "toc_section_display": true,
   "toc_window_display": false
  }
 },
 "nbformat": 4,
 "nbformat_minor": 4
}
