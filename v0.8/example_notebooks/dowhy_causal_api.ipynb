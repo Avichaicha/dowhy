{
 "cells": [
  {
   "cell_type": "markdown",
   "metadata": {},
   "source": [
    "# Demo for the DoWhy causal API\n",
    "We show a simple example of adding a causal extension to any dataframe. "
   ]
  },
  {
   "cell_type": "code",
   "execution_count": 1,
   "metadata": {
    "execution": {
     "iopub.execute_input": "2022-08-18T14:56:36.340175Z",
     "iopub.status.busy": "2022-08-18T14:56:36.339640Z",
     "iopub.status.idle": "2022-08-18T14:56:37.708899Z",
     "shell.execute_reply": "2022-08-18T14:56:37.707622Z"
    }
   },
   "outputs": [],
   "source": [
    "import dowhy.datasets\n",
    "import dowhy.api\n",
    "\n",
    "import numpy as np\n",
    "import pandas as pd\n",
    "\n",
    "from statsmodels.api import OLS"
   ]
  },
  {
   "cell_type": "code",
   "execution_count": 2,
   "metadata": {
    "execution": {
     "iopub.execute_input": "2022-08-18T14:56:37.713793Z",
     "iopub.status.busy": "2022-08-18T14:56:37.713066Z",
     "iopub.status.idle": "2022-08-18T14:56:37.764329Z",
     "shell.execute_reply": "2022-08-18T14:56:37.763582Z"
    }
   },
   "outputs": [
    {
     "data": {
      "text/html": [
       "<div>\n",
       "<style scoped>\n",
       "    .dataframe tbody tr th:only-of-type {\n",
       "        vertical-align: middle;\n",
       "    }\n",
       "\n",
       "    .dataframe tbody tr th {\n",
       "        vertical-align: top;\n",
       "    }\n",
       "\n",
       "    .dataframe thead th {\n",
       "        text-align: right;\n",
       "    }\n",
       "</style>\n",
       "<table border=\"1\" class=\"dataframe\">\n",
       "  <thead>\n",
       "    <tr style=\"text-align: right;\">\n",
       "      <th></th>\n",
       "      <th>W0</th>\n",
       "      <th>v0</th>\n",
       "      <th>y</th>\n",
       "    </tr>\n",
       "  </thead>\n",
       "  <tbody>\n",
       "    <tr>\n",
       "      <th>0</th>\n",
       "      <td>1.872491</td>\n",
       "      <td>True</td>\n",
       "      <td>8.859297</td>\n",
       "    </tr>\n",
       "    <tr>\n",
       "      <th>1</th>\n",
       "      <td>2.527532</td>\n",
       "      <td>True</td>\n",
       "      <td>11.173802</td>\n",
       "    </tr>\n",
       "    <tr>\n",
       "      <th>2</th>\n",
       "      <td>0.781715</td>\n",
       "      <td>True</td>\n",
       "      <td>6.084841</td>\n",
       "    </tr>\n",
       "    <tr>\n",
       "      <th>3</th>\n",
       "      <td>0.572835</td>\n",
       "      <td>True</td>\n",
       "      <td>6.321202</td>\n",
       "    </tr>\n",
       "    <tr>\n",
       "      <th>4</th>\n",
       "      <td>2.885645</td>\n",
       "      <td>True</td>\n",
       "      <td>14.138499</td>\n",
       "    </tr>\n",
       "    <tr>\n",
       "      <th>...</th>\n",
       "      <td>...</td>\n",
       "      <td>...</td>\n",
       "      <td>...</td>\n",
       "    </tr>\n",
       "    <tr>\n",
       "      <th>995</th>\n",
       "      <td>0.351384</td>\n",
       "      <td>False</td>\n",
       "      <td>1.905925</td>\n",
       "    </tr>\n",
       "    <tr>\n",
       "      <th>996</th>\n",
       "      <td>0.162142</td>\n",
       "      <td>True</td>\n",
       "      <td>6.003013</td>\n",
       "    </tr>\n",
       "    <tr>\n",
       "      <th>997</th>\n",
       "      <td>2.616344</td>\n",
       "      <td>True</td>\n",
       "      <td>11.676704</td>\n",
       "    </tr>\n",
       "    <tr>\n",
       "      <th>998</th>\n",
       "      <td>0.945405</td>\n",
       "      <td>False</td>\n",
       "      <td>2.504836</td>\n",
       "    </tr>\n",
       "    <tr>\n",
       "      <th>999</th>\n",
       "      <td>-0.205444</td>\n",
       "      <td>False</td>\n",
       "      <td>0.271106</td>\n",
       "    </tr>\n",
       "  </tbody>\n",
       "</table>\n",
       "<p>1000 rows × 3 columns</p>\n",
       "</div>"
      ],
      "text/plain": [
       "           W0     v0          y\n",
       "0    1.872491   True   8.859297\n",
       "1    2.527532   True  11.173802\n",
       "2    0.781715   True   6.084841\n",
       "3    0.572835   True   6.321202\n",
       "4    2.885645   True  14.138499\n",
       "..        ...    ...        ...\n",
       "995  0.351384  False   1.905925\n",
       "996  0.162142   True   6.003013\n",
       "997  2.616344   True  11.676704\n",
       "998  0.945405  False   2.504836\n",
       "999 -0.205444  False   0.271106\n",
       "\n",
       "[1000 rows x 3 columns]"
      ]
     },
     "execution_count": 2,
     "metadata": {},
     "output_type": "execute_result"
    }
   ],
   "source": [
    "data = dowhy.datasets.linear_dataset(beta=5,\n",
    "        num_common_causes=1,\n",
    "        num_instruments = 0,\n",
    "        num_samples=1000,\n",
    "        treatment_is_binary=True)\n",
    "df = data['df']\n",
    "df['y'] = df['y'] + np.random.normal(size=len(df)) # Adding noise to data. Without noise, the variance in Y|X, Z is zero, and mcmc fails.\n",
    "#data['dot_graph'] = 'digraph { v ->y;X0-> v;X0-> y;}'\n",
    "\n",
    "treatment= data[\"treatment_name\"][0]\n",
    "outcome = data[\"outcome_name\"][0]\n",
    "common_cause = data[\"common_causes_names\"][0]\n",
    "df"
   ]
  },
  {
   "cell_type": "code",
   "execution_count": 3,
   "metadata": {
    "execution": {
     "iopub.execute_input": "2022-08-18T14:56:37.767929Z",
     "iopub.status.busy": "2022-08-18T14:56:37.767390Z",
     "iopub.status.idle": "2022-08-18T14:56:38.675365Z",
     "shell.execute_reply": "2022-08-18T14:56:38.674686Z"
    }
   },
   "outputs": [
    {
     "data": {
      "text/plain": [
       "<AxesSubplot:xlabel='v0'>"
      ]
     },
     "execution_count": 3,
     "metadata": {},
     "output_type": "execute_result"
    },
    {
     "data": {
      "image/png": "[encoded data removed]",
      "text/plain": [
       "<Figure size 432x288 with 1 Axes>"
      ]
     },
     "metadata": {
      "needs_background": "light"
     },
     "output_type": "display_data"
    }
   ],
   "source": [
    "# data['df'] is just a regular pandas.DataFrame\n",
    "df.causal.do(x=treatment,\n",
    "                     variable_types={treatment: 'b', outcome: 'c', common_cause: 'c'},\n",
    "                     outcome=outcome,\n",
    "                     common_causes=[common_cause],\n",
    "                     proceed_when_unidentifiable=True).groupby(treatment).mean().plot(y=outcome, kind='bar')"
   ]
  },
  {
   "cell_type": "code",
   "execution_count": 4,
   "metadata": {
    "execution": {
     "iopub.execute_input": "2022-08-18T14:56:38.679342Z",
     "iopub.status.busy": "2022-08-18T14:56:38.678299Z",
     "iopub.status.idle": "2022-08-18T14:56:38.804097Z",
     "shell.execute_reply": "2022-08-18T14:56:38.803430Z"
    }
   },
   "outputs": [
    {
     "data": {
      "text/plain": [
       "<AxesSubplot:xlabel='v0'>"
      ]
     },
     "execution_count": 4,
     "metadata": {},
     "output_type": "execute_result"
    },
    {
     "data": {
      "image/png": "[encoded data removed]",
      "text/plain": [
       "<Figure size 432x288 with 1 Axes>"
      ]
     },
     "metadata": {
      "needs_background": "light"
     },
     "output_type": "display_data"
    }
   ],
   "source": [
    "df.causal.do(x={treatment: 1}, \n",
    "              variable_types={treatment:'b', outcome: 'c', common_cause: 'c'}, \n",
    "              outcome=outcome,\n",
    "              method='weighting', \n",
    "              common_causes=[common_cause],\n",
    "              proceed_when_unidentifiable=True).groupby(treatment).mean().plot(y=outcome, kind='bar')"
   ]
  },
  {
   "cell_type": "code",
   "execution_count": 5,
   "metadata": {
    "execution": {
     "iopub.execute_input": "2022-08-18T14:56:38.807659Z",
     "iopub.status.busy": "2022-08-18T14:56:38.807107Z",
     "iopub.status.idle": "2022-08-18T14:56:38.844963Z",
     "shell.execute_reply": "2022-08-18T14:56:38.844200Z"
    }
   },
   "outputs": [],
   "source": [
    "cdf_1 = df.causal.do(x={treatment: 1}, \n",
    "              variable_types={treatment: 'b', outcome: 'c', common_cause: 'c'}, \n",
    "              outcome=outcome, \n",
    "              dot_graph=data['dot_graph'],\n",
    "              proceed_when_unidentifiable=True)\n",
    "\n",
    "cdf_0 = df.causal.do(x={treatment: 0}, \n",
    "              variable_types={treatment: 'b', outcome: 'c', common_cause: 'c'}, \n",
    "              outcome=outcome, \n",
    "              dot_graph=data['dot_graph'],\n",
    "              proceed_when_unidentifiable=True)\n"
   ]
  },
  {
   "cell_type": "code",
   "execution_count": 6,
   "metadata": {
    "execution": {
     "iopub.execute_input": "2022-08-18T14:56:38.848703Z",
     "iopub.status.busy": "2022-08-18T14:56:38.848257Z",
     "iopub.status.idle": "2022-08-18T14:56:38.863436Z",
     "shell.execute_reply": "2022-08-18T14:56:38.862619Z"
    },
    "scrolled": true
   },
   "outputs": [
    {
     "data": {
      "text/html": [
       "<div>\n",
       "<style scoped>\n",
       "    .dataframe tbody tr th:only-of-type {\n",
       "        vertical-align: middle;\n",
       "    }\n",
       "\n",
       "    .dataframe tbody tr th {\n",
       "        vertical-align: top;\n",
       "    }\n",
       "\n",
       "    .dataframe thead th {\n",
       "        text-align: right;\n",
       "    }\n",
       "</style>\n",
       "<table border=\"1\" class=\"dataframe\">\n",
       "  <thead>\n",
       "    <tr style=\"text-align: right;\">\n",
       "      <th></th>\n",
       "      <th>W0</th>\n",
       "      <th>v0</th>\n",
       "      <th>y</th>\n",
       "      <th>propensity_score</th>\n",
       "      <th>weight</th>\n",
       "    </tr>\n",
       "  </thead>\n",
       "  <tbody>\n",
       "    <tr>\n",
       "      <th>0</th>\n",
       "      <td>-0.377354</td>\n",
       "      <td>False</td>\n",
       "      <td>-2.179725</td>\n",
       "      <td>0.728951</td>\n",
       "      <td>1.371834</td>\n",
       "    </tr>\n",
       "    <tr>\n",
       "      <th>1</th>\n",
       "      <td>0.658244</td>\n",
       "      <td>False</td>\n",
       "      <td>2.450426</td>\n",
       "      <td>0.204242</td>\n",
       "      <td>4.896154</td>\n",
       "    </tr>\n",
       "    <tr>\n",
       "      <th>2</th>\n",
       "      <td>1.339822</td>\n",
       "      <td>False</td>\n",
       "      <td>4.008301</td>\n",
       "      <td>0.051849</td>\n",
       "      <td>19.286752</td>\n",
       "    </tr>\n",
       "    <tr>\n",
       "      <th>3</th>\n",
       "      <td>-1.178950</td>\n",
       "      <td>False</td>\n",
       "      <td>-3.543645</td>\n",
       "      <td>0.943094</td>\n",
       "      <td>1.060340</td>\n",
       "    </tr>\n",
       "    <tr>\n",
       "      <th>4</th>\n",
       "      <td>0.775466</td>\n",
       "      <td>False</td>\n",
       "      <td>3.380001</td>\n",
       "      <td>0.164391</td>\n",
       "      <td>6.083054</td>\n",
       "    </tr>\n",
       "    <tr>\n",
       "      <th>...</th>\n",
       "      <td>...</td>\n",
       "      <td>...</td>\n",
       "      <td>...</td>\n",
       "      <td>...</td>\n",
       "      <td>...</td>\n",
       "    </tr>\n",
       "    <tr>\n",
       "      <th>995</th>\n",
       "      <td>0.476792</td>\n",
       "      <td>False</td>\n",
       "      <td>-0.008731</td>\n",
       "      <td>0.279215</td>\n",
       "      <td>3.581467</td>\n",
       "    </tr>\n",
       "    <tr>\n",
       "      <th>996</th>\n",
       "      <td>0.076418</td>\n",
       "      <td>False</td>\n",
       "      <td>0.540386</td>\n",
       "      <td>0.489978</td>\n",
       "      <td>2.040909</td>\n",
       "    </tr>\n",
       "    <tr>\n",
       "      <th>997</th>\n",
       "      <td>1.114734</td>\n",
       "      <td>False</td>\n",
       "      <td>3.724939</td>\n",
       "      <td>0.083512</td>\n",
       "      <td>11.974299</td>\n",
       "    </tr>\n",
       "    <tr>\n",
       "      <th>998</th>\n",
       "      <td>0.879761</td>\n",
       "      <td>False</td>\n",
       "      <td>3.510798</td>\n",
       "      <td>0.134411</td>\n",
       "      <td>7.439887</td>\n",
       "    </tr>\n",
       "    <tr>\n",
       "      <th>999</th>\n",
       "      <td>0.006754</td>\n",
       "      <td>False</td>\n",
       "      <td>0.473197</td>\n",
       "      <td>0.529452</td>\n",
       "      <td>1.888747</td>\n",
       "    </tr>\n",
       "  </tbody>\n",
       "</table>\n",
       "<p>1000 rows × 5 columns</p>\n",
       "</div>"
      ],
      "text/plain": [
       "           W0     v0         y  propensity_score     weight\n",
       "0   -0.377354  False -2.179725          0.728951   1.371834\n",
       "1    0.658244  False  2.450426          0.204242   4.896154\n",
       "2    1.339822  False  4.008301          0.051849  19.286752\n",
       "3   -1.178950  False -3.543645          0.943094   1.060340\n",
       "4    0.775466  False  3.380001          0.164391   6.083054\n",
       "..        ...    ...       ...               ...        ...\n",
       "995  0.476792  False -0.008731          0.279215   3.581467\n",
       "996  0.076418  False  0.540386          0.489978   2.040909\n",
       "997  1.114734  False  3.724939          0.083512  11.974299\n",
       "998  0.879761  False  3.510798          0.134411   7.439887\n",
       "999  0.006754  False  0.473197          0.529452   1.888747\n",
       "\n",
       "[1000 rows x 5 columns]"
      ]
     },
     "execution_count": 6,
     "metadata": {},
     "output_type": "execute_result"
    }
   ],
   "source": [
    "cdf_0"
   ]
  },
  {
   "cell_type": "code",
   "execution_count": 7,
   "metadata": {
    "execution": {
     "iopub.execute_input": "2022-08-18T14:56:38.866714Z",
     "iopub.status.busy": "2022-08-18T14:56:38.866274Z",
     "iopub.status.idle": "2022-08-18T14:56:38.878264Z",
     "shell.execute_reply": "2022-08-18T14:56:38.877498Z"
    }
   },
   "outputs": [
    {
     "data": {
      "text/html": [
       "<div>\n",
       "<style scoped>\n",
       "    .dataframe tbody tr th:only-of-type {\n",
       "        vertical-align: middle;\n",
       "    }\n",
       "\n",
       "    .dataframe tbody tr th {\n",
       "        vertical-align: top;\n",
       "    }\n",
       "\n",
       "    .dataframe thead th {\n",
       "        text-align: right;\n",
       "    }\n",
       "</style>\n",
       "<table border=\"1\" class=\"dataframe\">\n",
       "  <thead>\n",
       "    <tr style=\"text-align: right;\">\n",
       "      <th></th>\n",
       "      <th>W0</th>\n",
       "      <th>v0</th>\n",
       "      <th>y</th>\n",
       "      <th>propensity_score</th>\n",
       "      <th>weight</th>\n",
       "    </tr>\n",
       "  </thead>\n",
       "  <tbody>\n",
       "    <tr>\n",
       "      <th>0</th>\n",
       "      <td>0.530887</td>\n",
       "      <td>True</td>\n",
       "      <td>5.832832</td>\n",
       "      <td>0.744802</td>\n",
       "      <td>1.342640</td>\n",
       "    </tr>\n",
       "    <tr>\n",
       "      <th>1</th>\n",
       "      <td>0.785266</td>\n",
       "      <td>True</td>\n",
       "      <td>7.059084</td>\n",
       "      <td>0.838640</td>\n",
       "      <td>1.192406</td>\n",
       "    </tr>\n",
       "    <tr>\n",
       "      <th>2</th>\n",
       "      <td>0.581882</td>\n",
       "      <td>True</td>\n",
       "      <td>6.089244</td>\n",
       "      <td>0.766161</td>\n",
       "      <td>1.305209</td>\n",
       "    </tr>\n",
       "    <tr>\n",
       "      <th>3</th>\n",
       "      <td>0.612638</td>\n",
       "      <td>True</td>\n",
       "      <td>7.821924</td>\n",
       "      <td>0.778428</td>\n",
       "      <td>1.284640</td>\n",
       "    </tr>\n",
       "    <tr>\n",
       "      <th>4</th>\n",
       "      <td>2.871021</td>\n",
       "      <td>True</td>\n",
       "      <td>12.262504</td>\n",
       "      <td>0.998307</td>\n",
       "      <td>1.001696</td>\n",
       "    </tr>\n",
       "    <tr>\n",
       "      <th>...</th>\n",
       "      <td>...</td>\n",
       "      <td>...</td>\n",
       "      <td>...</td>\n",
       "      <td>...</td>\n",
       "      <td>...</td>\n",
       "    </tr>\n",
       "    <tr>\n",
       "      <th>995</th>\n",
       "      <td>0.605350</td>\n",
       "      <td>True</td>\n",
       "      <td>6.438111</td>\n",
       "      <td>0.775564</td>\n",
       "      <td>1.289385</td>\n",
       "    </tr>\n",
       "    <tr>\n",
       "      <th>996</th>\n",
       "      <td>0.928937</td>\n",
       "      <td>True</td>\n",
       "      <td>7.858092</td>\n",
       "      <td>0.878047</td>\n",
       "      <td>1.138891</td>\n",
       "    </tr>\n",
       "    <tr>\n",
       "      <th>997</th>\n",
       "      <td>1.860863</td>\n",
       "      <td>True</td>\n",
       "      <td>10.730443</td>\n",
       "      <td>0.983507</td>\n",
       "      <td>1.016770</td>\n",
       "    </tr>\n",
       "    <tr>\n",
       "      <th>998</th>\n",
       "      <td>0.711692</td>\n",
       "      <td>True</td>\n",
       "      <td>8.810315</td>\n",
       "      <td>0.814759</td>\n",
       "      <td>1.227356</td>\n",
       "    </tr>\n",
       "    <tr>\n",
       "      <th>999</th>\n",
       "      <td>0.787254</td>\n",
       "      <td>True</td>\n",
       "      <td>7.908935</td>\n",
       "      <td>0.839250</td>\n",
       "      <td>1.191541</td>\n",
       "    </tr>\n",
       "  </tbody>\n",
       "</table>\n",
       "<p>1000 rows × 5 columns</p>\n",
       "</div>"
      ],
      "text/plain": [
       "           W0    v0          y  propensity_score    weight\n",
       "0    0.530887  True   5.832832          0.744802  1.342640\n",
       "1    0.785266  True   7.059084          0.838640  1.192406\n",
       "2    0.581882  True   6.089244          0.766161  1.305209\n",
       "3    0.612638  True   7.821924          0.778428  1.284640\n",
       "4    2.871021  True  12.262504          0.998307  1.001696\n",
       "..        ...   ...        ...               ...       ...\n",
       "995  0.605350  True   6.438111          0.775564  1.289385\n",
       "996  0.928937  True   7.858092          0.878047  1.138891\n",
       "997  1.860863  True  10.730443          0.983507  1.016770\n",
       "998  0.711692  True   8.810315          0.814759  1.227356\n",
       "999  0.787254  True   7.908935          0.839250  1.191541\n",
       "\n",
       "[1000 rows x 5 columns]"
      ]
     },
     "execution_count": 7,
     "metadata": {},
     "output_type": "execute_result"
    }
   ],
   "source": [
    "cdf_1"
   ]
  },
  {
   "cell_type": "markdown",
   "metadata": {},
   "source": [
    "## Comparing the estimate to Linear Regression\n",
    "First, estimating the effect using the causal data frame, and the 95% confidence interval."
   ]
  },
  {
   "cell_type": "code",
   "execution_count": 8,
   "metadata": {
    "execution": {
     "iopub.execute_input": "2022-08-18T14:56:38.882682Z",
     "iopub.status.busy": "2022-08-18T14:56:38.882054Z",
     "iopub.status.idle": "2022-08-18T14:56:39.003343Z",
     "shell.execute_reply": "2022-08-18T14:56:39.002133Z"
    }
   },
   "outputs": [
    {
     "data": {
      "image/png": "[encoded data removed]",
      "text/latex": [
       "$\\displaystyle 6.04985339537988$"
      ],
      "text/plain": [
       "6.049853395379876"
      ]
     },
     "execution_count": 8,
     "metadata": {},
     "output_type": "execute_result"
    }
   ],
   "source": [
    "(cdf_1['y'] - cdf_0['y']).mean()"
   ]
  },
  {
   "cell_type": "code",
   "execution_count": 9,
   "metadata": {
    "execution": {
     "iopub.execute_input": "2022-08-18T14:56:39.007449Z",
     "iopub.status.busy": "2022-08-18T14:56:39.006875Z",
     "iopub.status.idle": "2022-08-18T14:56:39.038136Z",
     "shell.execute_reply": "2022-08-18T14:56:39.037427Z"
    }
   },
   "outputs": [
    {
     "data": {
      "image/png": "[encoded data removed]",
      "text/latex": [
       "$\\displaystyle 0.231369670228716$"
      ],
      "text/plain": [
       "0.23136967022871635"
      ]
     },
     "execution_count": 9,
     "metadata": {},
     "output_type": "execute_result"
    }
   ],
   "source": [
    "1.96*(cdf_1['y'] - cdf_0['y']).std() / np.sqrt(len(df))"
   ]
  },
  {
   "cell_type": "markdown",
   "metadata": {},
   "source": [
    "Comparing to the estimate from OLS."
   ]
  },
  {
   "cell_type": "code",
   "execution_count": 10,
   "metadata": {
    "execution": {
     "iopub.execute_input": "2022-08-18T14:56:39.042442Z",
     "iopub.status.busy": "2022-08-18T14:56:39.041874Z",
     "iopub.status.idle": "2022-08-18T14:56:39.063861Z",
     "shell.execute_reply": "2022-08-18T14:56:39.063084Z"
    }
   },
   "outputs": [
    {
     "data": {
      "text/html": [
       "<table class=\"simpletable\">\n",
       "<caption>OLS Regression Results</caption>\n",
       "<tr>\n",
       "  <th>Dep. Variable:</th>            <td>y</td>        <th>  R-squared (uncentered):</th>      <td>   0.983</td> \n",
       "</tr>\n",
       "<tr>\n",
       "  <th>Model:</th>                   <td>OLS</td>       <th>  Adj. R-squared (uncentered):</th> <td>   0.983</td> \n",
       "</tr>\n",
       "<tr>\n",
       "  <th>Method:</th>             <td>Least Squares</td>  <th>  F-statistic:       </th>          <td>2.824e+04</td>\n",
       "</tr>\n",
       "<tr>\n",
       "  <th>Date:</th>             <td>Thu, 18 Aug 2022</td> <th>  Prob (F-statistic):</th>           <td>  0.00</td>  \n",
       "</tr>\n",
       "<tr>\n",
       "  <th>Time:</th>                 <td>14:56:39</td>     <th>  Log-Likelihood:    </th>          <td> -1428.4</td> \n",
       "</tr>\n",
       "<tr>\n",
       "  <th>No. Observations:</th>      <td>  1000</td>      <th>  AIC:               </th>          <td>   2861.</td> \n",
       "</tr>\n",
       "<tr>\n",
       "  <th>Df Residuals:</th>          <td>   998</td>      <th>  BIC:               </th>          <td>   2871.</td> \n",
       "</tr>\n",
       "<tr>\n",
       "  <th>Df Model:</th>              <td>     2</td>      <th>                     </th>              <td> </td>    \n",
       "</tr>\n",
       "<tr>\n",
       "  <th>Covariance Type:</th>      <td>nonrobust</td>    <th>                     </th>              <td> </td>    \n",
       "</tr>\n",
       "</table>\n",
       "<table class=\"simpletable\">\n",
       "<tr>\n",
       "   <td></td>     <th>coef</th>     <th>std err</th>      <th>t</th>      <th>P>|t|</th>  <th>[0.025</th>    <th>0.975]</th>  \n",
       "</tr>\n",
       "<tr>\n",
       "  <th>x1</th> <td>    2.8657</td> <td>    0.041</td> <td>   70.657</td> <td> 0.000</td> <td>    2.786</td> <td>    2.945</td>\n",
       "</tr>\n",
       "<tr>\n",
       "  <th>x2</th> <td>    4.9248</td> <td>    0.061</td> <td>   80.611</td> <td> 0.000</td> <td>    4.805</td> <td>    5.045</td>\n",
       "</tr>\n",
       "</table>\n",
       "<table class=\"simpletable\">\n",
       "<tr>\n",
       "  <th>Omnibus:</th>       <td> 8.065</td> <th>  Durbin-Watson:     </th> <td>   1.944</td>\n",
       "</tr>\n",
       "<tr>\n",
       "  <th>Prob(Omnibus):</th> <td> 0.018</td> <th>  Jarque-Bera (JB):  </th> <td>   7.157</td>\n",
       "</tr>\n",
       "<tr>\n",
       "  <th>Skew:</th>          <td> 0.148</td> <th>  Prob(JB):          </th> <td>  0.0279</td>\n",
       "</tr>\n",
       "<tr>\n",
       "  <th>Kurtosis:</th>      <td> 2.710</td> <th>  Cond. No.          </th> <td>    3.29</td>\n",
       "</tr>\n",
       "</table><br/><br/>Notes:<br/>[1] R² is computed without centering (uncentered) since the model does not contain a constant.<br/>[2] Standard Errors assume that the covariance matrix of the errors is correctly specified."
      ],
      "text/plain": [
       "<class 'statsmodels.iolib.summary.Summary'>\n",
       "\"\"\"\n",
       "                                 OLS Regression Results                                \n",
       "=======================================================================================\n",
       "Dep. Variable:                      y   R-squared (uncentered):                   0.983\n",
       "Model:                            OLS   Adj. R-squared (uncentered):              0.983\n",
       "Method:                 Least Squares   F-statistic:                          2.824e+04\n",
       "Date:                Thu, 18 Aug 2022   Prob (F-statistic):                        0.00\n",
       "Time:                        14:56:39   Log-Likelihood:                         -1428.4\n",
       "No. Observations:                1000   AIC:                                      2861.\n",
       "Df Residuals:                     998   BIC:                                      2871.\n",
       "Df Model:                           2                                                  \n",
       "Covariance Type:            nonrobust                                                  \n",
       "==============================================================================\n",
       "                 coef    std err          t      P>|t|      [0.025      0.975]\n",
       "------------------------------------------------------------------------------\n",
       "x1             2.8657      0.041     70.657      0.000       2.786       2.945\n",
       "x2             4.9248      0.061     80.611      0.000       4.805       5.045\n",
       "==============================================================================\n",
       "Omnibus:                        8.065   Durbin-Watson:                   1.944\n",
       "Prob(Omnibus):                  0.018   Jarque-Bera (JB):                7.157\n",
       "Skew:                           0.148   Prob(JB):                       0.0279\n",
       "Kurtosis:                       2.710   Cond. No.                         3.29\n",
       "==============================================================================\n",
       "\n",
       "Notes:\n",
       "[1] R² is computed without centering (uncentered) since the model does not contain a constant.\n",
       "[2] Standard Errors assume that the covariance matrix of the errors is correctly specified.\n",
       "\"\"\""
      ]
     },
     "execution_count": 10,
     "metadata": {},
     "output_type": "execute_result"
    }
   ],
   "source": [
    "model = OLS(np.asarray(df[outcome]), np.asarray(df[[common_cause, treatment]], dtype=np.float64))\n",
    "result = model.fit()\n",
    "result.summary()"
   ]
  }
 ],
 "metadata": {
  "kernelspec": {
   "display_name": "Python 3",
   "language": "python",
   "name": "python3"
  },
  "language_info": {
   "codemirror_mode": {
    "name": "ipython",
    "version": 3
   },
   "file_extension": ".py",
   "mimetype": "text/x-python",
   "name": "python",
   "nbconvert_exporter": "python",
   "pygments_lexer": "ipython3",
   "version": "3.8.10"
  },
  "toc": {
   "base_numbering": 1,
   "nav_menu": {},
   "number_sections": false,
   "sideBar": true,
   "skip_h1_title": true,
   "title_cell": "Table of Contents",
   "title_sidebar": "Contents",
   "toc_cell": false,
   "toc_position": {},
   "toc_section_display": true,
   "toc_window_display": false
  }
 },
 "nbformat": 4,
 "nbformat_minor": 4
}
