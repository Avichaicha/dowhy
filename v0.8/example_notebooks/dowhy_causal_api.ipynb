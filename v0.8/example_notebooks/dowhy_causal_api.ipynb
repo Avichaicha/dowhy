{
 "cells": [
  {
   "cell_type": "markdown",
   "metadata": {},
   "source": [
    "# Demo for the DoWhy causal API\n",
    "We show a simple example of adding a causal extension to any dataframe. "
   ]
  },
  {
   "cell_type": "code",
   "execution_count": 1,
   "metadata": {
    "execution": {
     "iopub.execute_input": "2022-08-22T05:50:08.882045Z",
     "iopub.status.busy": "2022-08-22T05:50:08.881715Z",
     "iopub.status.idle": "2022-08-22T05:50:10.335515Z",
     "shell.execute_reply": "2022-08-22T05:50:10.332216Z"
    }
   },
   "outputs": [],
   "source": [
    "import dowhy.datasets\n",
    "import dowhy.api\n",
    "\n",
    "import numpy as np\n",
    "import pandas as pd\n",
    "\n",
    "from statsmodels.api import OLS"
   ]
  },
  {
   "cell_type": "code",
   "execution_count": 2,
   "metadata": {
    "execution": {
     "iopub.execute_input": "2022-08-22T05:50:10.341484Z",
     "iopub.status.busy": "2022-08-22T05:50:10.340996Z",
     "iopub.status.idle": "2022-08-22T05:50:10.394652Z",
     "shell.execute_reply": "2022-08-22T05:50:10.393821Z"
    }
   },
   "outputs": [
    {
     "data": {
      "text/html": [
       "<div>\n",
       "<style scoped>\n",
       "    .dataframe tbody tr th:only-of-type {\n",
       "        vertical-align: middle;\n",
       "    }\n",
       "\n",
       "    .dataframe tbody tr th {\n",
       "        vertical-align: top;\n",
       "    }\n",
       "\n",
       "    .dataframe thead th {\n",
       "        text-align: right;\n",
       "    }\n",
       "</style>\n",
       "<table border=\"1\" class=\"dataframe\">\n",
       "  <thead>\n",
       "    <tr style=\"text-align: right;\">\n",
       "      <th></th>\n",
       "      <th>W0</th>\n",
       "      <th>v0</th>\n",
       "      <th>y</th>\n",
       "    </tr>\n",
       "  </thead>\n",
       "  <tbody>\n",
       "    <tr>\n",
       "      <th>0</th>\n",
       "      <td>-0.938991</td>\n",
       "      <td>False</td>\n",
       "      <td>-0.530803</td>\n",
       "    </tr>\n",
       "    <tr>\n",
       "      <th>1</th>\n",
       "      <td>-0.384510</td>\n",
       "      <td>True</td>\n",
       "      <td>3.778493</td>\n",
       "    </tr>\n",
       "    <tr>\n",
       "      <th>2</th>\n",
       "      <td>-1.970561</td>\n",
       "      <td>False</td>\n",
       "      <td>-2.886515</td>\n",
       "    </tr>\n",
       "    <tr>\n",
       "      <th>3</th>\n",
       "      <td>-0.419524</td>\n",
       "      <td>True</td>\n",
       "      <td>3.200540</td>\n",
       "    </tr>\n",
       "    <tr>\n",
       "      <th>4</th>\n",
       "      <td>-0.318488</td>\n",
       "      <td>False</td>\n",
       "      <td>-1.393982</td>\n",
       "    </tr>\n",
       "    <tr>\n",
       "      <th>...</th>\n",
       "      <td>...</td>\n",
       "      <td>...</td>\n",
       "      <td>...</td>\n",
       "    </tr>\n",
       "    <tr>\n",
       "      <th>995</th>\n",
       "      <td>-1.465312</td>\n",
       "      <td>False</td>\n",
       "      <td>-3.578865</td>\n",
       "    </tr>\n",
       "    <tr>\n",
       "      <th>996</th>\n",
       "      <td>-0.001051</td>\n",
       "      <td>False</td>\n",
       "      <td>-0.937668</td>\n",
       "    </tr>\n",
       "    <tr>\n",
       "      <th>997</th>\n",
       "      <td>0.589328</td>\n",
       "      <td>True</td>\n",
       "      <td>6.852108</td>\n",
       "    </tr>\n",
       "    <tr>\n",
       "      <th>998</th>\n",
       "      <td>-1.430820</td>\n",
       "      <td>False</td>\n",
       "      <td>-3.514041</td>\n",
       "    </tr>\n",
       "    <tr>\n",
       "      <th>999</th>\n",
       "      <td>-0.816026</td>\n",
       "      <td>True</td>\n",
       "      <td>3.825315</td>\n",
       "    </tr>\n",
       "  </tbody>\n",
       "</table>\n",
       "<p>1000 rows × 3 columns</p>\n",
       "</div>"
      ],
      "text/plain": [
       "           W0     v0         y\n",
       "0   -0.938991  False -0.530803\n",
       "1   -0.384510   True  3.778493\n",
       "2   -1.970561  False -2.886515\n",
       "3   -0.419524   True  3.200540\n",
       "4   -0.318488  False -1.393982\n",
       "..        ...    ...       ...\n",
       "995 -1.465312  False -3.578865\n",
       "996 -0.001051  False -0.937668\n",
       "997  0.589328   True  6.852108\n",
       "998 -1.430820  False -3.514041\n",
       "999 -0.816026   True  3.825315\n",
       "\n",
       "[1000 rows x 3 columns]"
      ]
     },
     "execution_count": 2,
     "metadata": {},
     "output_type": "execute_result"
    }
   ],
   "source": [
    "data = dowhy.datasets.linear_dataset(beta=5,\n",
    "        num_common_causes=1,\n",
    "        num_instruments = 0,\n",
    "        num_samples=1000,\n",
    "        treatment_is_binary=True)\n",
    "df = data['df']\n",
    "df['y'] = df['y'] + np.random.normal(size=len(df)) # Adding noise to data. Without noise, the variance in Y|X, Z is zero, and mcmc fails.\n",
    "#data['dot_graph'] = 'digraph { v ->y;X0-> v;X0-> y;}'\n",
    "\n",
    "treatment= data[\"treatment_name\"][0]\n",
    "outcome = data[\"outcome_name\"][0]\n",
    "common_cause = data[\"common_causes_names\"][0]\n",
    "df"
   ]
  },
  {
   "cell_type": "code",
   "execution_count": 3,
   "metadata": {
    "execution": {
     "iopub.execute_input": "2022-08-22T05:50:10.398302Z",
     "iopub.status.busy": "2022-08-22T05:50:10.398005Z",
     "iopub.status.idle": "2022-08-22T05:50:11.333976Z",
     "shell.execute_reply": "2022-08-22T05:50:11.333294Z"
    }
   },
   "outputs": [
    {
     "data": {
      "text/plain": [
       "<AxesSubplot:xlabel='v0'>"
      ]
     },
     "execution_count": 3,
     "metadata": {},
     "output_type": "execute_result"
    },
    {
     "data": {
      "image/png": "[encoded data removed]",
      "text/plain": [
       "<Figure size 640x480 with 1 Axes>"
      ]
     },
     "metadata": {},
     "output_type": "display_data"
    }
   ],
   "source": [
    "# data['df'] is just a regular pandas.DataFrame\n",
    "df.causal.do(x=treatment,\n",
    "                     variable_types={treatment: 'b', outcome: 'c', common_cause: 'c'},\n",
    "                     outcome=outcome,\n",
    "                     common_causes=[common_cause],\n",
    "                     proceed_when_unidentifiable=True).groupby(treatment).mean().plot(y=outcome, kind='bar')"
   ]
  },
  {
   "cell_type": "code",
   "execution_count": 4,
   "metadata": {
    "execution": {
     "iopub.execute_input": "2022-08-22T05:50:11.339219Z",
     "iopub.status.busy": "2022-08-22T05:50:11.337732Z",
     "iopub.status.idle": "2022-08-22T05:50:11.483830Z",
     "shell.execute_reply": "2022-08-22T05:50:11.483142Z"
    }
   },
   "outputs": [
    {
     "data": {
      "text/plain": [
       "<AxesSubplot:xlabel='v0'>"
      ]
     },
     "execution_count": 4,
     "metadata": {},
     "output_type": "execute_result"
    },
    {
     "data": {
      "image/png": "[encoded data removed]",
      "text/plain": [
       "<Figure size 640x480 with 1 Axes>"
      ]
     },
     "metadata": {},
     "output_type": "display_data"
    }
   ],
   "source": [
    "df.causal.do(x={treatment: 1}, \n",
    "              variable_types={treatment:'b', outcome: 'c', common_cause: 'c'}, \n",
    "              outcome=outcome,\n",
    "              method='weighting', \n",
    "              common_causes=[common_cause],\n",
    "              proceed_when_unidentifiable=True).groupby(treatment).mean().plot(y=outcome, kind='bar')"
   ]
  },
  {
   "cell_type": "code",
   "execution_count": 5,
   "metadata": {
    "execution": {
     "iopub.execute_input": "2022-08-22T05:50:11.489374Z",
     "iopub.status.busy": "2022-08-22T05:50:11.488042Z",
     "iopub.status.idle": "2022-08-22T05:50:11.529536Z",
     "shell.execute_reply": "2022-08-22T05:50:11.528533Z"
    }
   },
   "outputs": [],
   "source": [
    "cdf_1 = df.causal.do(x={treatment: 1}, \n",
    "              variable_types={treatment: 'b', outcome: 'c', common_cause: 'c'}, \n",
    "              outcome=outcome, \n",
    "              dot_graph=data['dot_graph'],\n",
    "              proceed_when_unidentifiable=True)\n",
    "\n",
    "cdf_0 = df.causal.do(x={treatment: 0}, \n",
    "              variable_types={treatment: 'b', outcome: 'c', common_cause: 'c'}, \n",
    "              outcome=outcome, \n",
    "              dot_graph=data['dot_graph'],\n",
    "              proceed_when_unidentifiable=True)\n"
   ]
  },
  {
   "cell_type": "code",
   "execution_count": 6,
   "metadata": {
    "execution": {
     "iopub.execute_input": "2022-08-22T05:50:11.535638Z",
     "iopub.status.busy": "2022-08-22T05:50:11.534895Z",
     "iopub.status.idle": "2022-08-22T05:50:11.549410Z",
     "shell.execute_reply": "2022-08-22T05:50:11.548581Z"
    },
    "scrolled": true
   },
   "outputs": [
    {
     "data": {
      "text/html": [
       "<div>\n",
       "<style scoped>\n",
       "    .dataframe tbody tr th:only-of-type {\n",
       "        vertical-align: middle;\n",
       "    }\n",
       "\n",
       "    .dataframe tbody tr th {\n",
       "        vertical-align: top;\n",
       "    }\n",
       "\n",
       "    .dataframe thead th {\n",
       "        text-align: right;\n",
       "    }\n",
       "</style>\n",
       "<table border=\"1\" class=\"dataframe\">\n",
       "  <thead>\n",
       "    <tr style=\"text-align: right;\">\n",
       "      <th></th>\n",
       "      <th>W0</th>\n",
       "      <th>v0</th>\n",
       "      <th>y</th>\n",
       "      <th>propensity_score</th>\n",
       "      <th>weight</th>\n",
       "    </tr>\n",
       "  </thead>\n",
       "  <tbody>\n",
       "    <tr>\n",
       "      <th>0</th>\n",
       "      <td>-0.957618</td>\n",
       "      <td>False</td>\n",
       "      <td>-1.661931</td>\n",
       "      <td>0.858353</td>\n",
       "      <td>1.165022</td>\n",
       "    </tr>\n",
       "    <tr>\n",
       "      <th>1</th>\n",
       "      <td>-1.337269</td>\n",
       "      <td>False</td>\n",
       "      <td>-1.984218</td>\n",
       "      <td>0.920246</td>\n",
       "      <td>1.086667</td>\n",
       "    </tr>\n",
       "    <tr>\n",
       "      <th>2</th>\n",
       "      <td>-2.350020</td>\n",
       "      <td>False</td>\n",
       "      <td>-5.203337</td>\n",
       "      <td>0.984687</td>\n",
       "      <td>1.015551</td>\n",
       "    </tr>\n",
       "    <tr>\n",
       "      <th>3</th>\n",
       "      <td>-1.199212</td>\n",
       "      <td>False</td>\n",
       "      <td>0.256079</td>\n",
       "      <td>0.901277</td>\n",
       "      <td>1.109536</td>\n",
       "    </tr>\n",
       "    <tr>\n",
       "      <th>4</th>\n",
       "      <td>-2.150552</td>\n",
       "      <td>False</td>\n",
       "      <td>-3.556233</td>\n",
       "      <td>0.978653</td>\n",
       "      <td>1.021812</td>\n",
       "    </tr>\n",
       "    <tr>\n",
       "      <th>...</th>\n",
       "      <td>...</td>\n",
       "      <td>...</td>\n",
       "      <td>...</td>\n",
       "      <td>...</td>\n",
       "      <td>...</td>\n",
       "    </tr>\n",
       "    <tr>\n",
       "      <th>995</th>\n",
       "      <td>-1.940980</td>\n",
       "      <td>False</td>\n",
       "      <td>-1.592219</td>\n",
       "      <td>0.969815</td>\n",
       "      <td>1.031124</td>\n",
       "    </tr>\n",
       "    <tr>\n",
       "      <th>996</th>\n",
       "      <td>-0.708231</td>\n",
       "      <td>False</td>\n",
       "      <td>0.567268</td>\n",
       "      <td>0.798772</td>\n",
       "      <td>1.251921</td>\n",
       "    </tr>\n",
       "    <tr>\n",
       "      <th>997</th>\n",
       "      <td>-1.661728</td>\n",
       "      <td>False</td>\n",
       "      <td>-1.820832</td>\n",
       "      <td>0.952396</td>\n",
       "      <td>1.049983</td>\n",
       "    </tr>\n",
       "    <tr>\n",
       "      <th>998</th>\n",
       "      <td>-0.594715</td>\n",
       "      <td>False</td>\n",
       "      <td>0.178311</td>\n",
       "      <td>0.766039</td>\n",
       "      <td>1.305416</td>\n",
       "    </tr>\n",
       "    <tr>\n",
       "      <th>999</th>\n",
       "      <td>-2.406438</td>\n",
       "      <td>False</td>\n",
       "      <td>-3.462931</td>\n",
       "      <td>0.986065</td>\n",
       "      <td>1.014132</td>\n",
       "    </tr>\n",
       "  </tbody>\n",
       "</table>\n",
       "<p>1000 rows × 5 columns</p>\n",
       "</div>"
      ],
      "text/plain": [
       "           W0     v0         y  propensity_score    weight\n",
       "0   -0.957618  False -1.661931          0.858353  1.165022\n",
       "1   -1.337269  False -1.984218          0.920246  1.086667\n",
       "2   -2.350020  False -5.203337          0.984687  1.015551\n",
       "3   -1.199212  False  0.256079          0.901277  1.109536\n",
       "4   -2.150552  False -3.556233          0.978653  1.021812\n",
       "..        ...    ...       ...               ...       ...\n",
       "995 -1.940980  False -1.592219          0.969815  1.031124\n",
       "996 -0.708231  False  0.567268          0.798772  1.251921\n",
       "997 -1.661728  False -1.820832          0.952396  1.049983\n",
       "998 -0.594715  False  0.178311          0.766039  1.305416\n",
       "999 -2.406438  False -3.462931          0.986065  1.014132\n",
       "\n",
       "[1000 rows x 5 columns]"
      ]
     },
     "execution_count": 6,
     "metadata": {},
     "output_type": "execute_result"
    }
   ],
   "source": [
    "cdf_0"
   ]
  },
  {
   "cell_type": "code",
   "execution_count": 7,
   "metadata": {
    "execution": {
     "iopub.execute_input": "2022-08-22T05:50:11.552960Z",
     "iopub.status.busy": "2022-08-22T05:50:11.552661Z",
     "iopub.status.idle": "2022-08-22T05:50:11.564690Z",
     "shell.execute_reply": "2022-08-22T05:50:11.563865Z"
    }
   },
   "outputs": [
    {
     "data": {
      "text/html": [
       "<div>\n",
       "<style scoped>\n",
       "    .dataframe tbody tr th:only-of-type {\n",
       "        vertical-align: middle;\n",
       "    }\n",
       "\n",
       "    .dataframe tbody tr th {\n",
       "        vertical-align: top;\n",
       "    }\n",
       "\n",
       "    .dataframe thead th {\n",
       "        text-align: right;\n",
       "    }\n",
       "</style>\n",
       "<table border=\"1\" class=\"dataframe\">\n",
       "  <thead>\n",
       "    <tr style=\"text-align: right;\">\n",
       "      <th></th>\n",
       "      <th>W0</th>\n",
       "      <th>v0</th>\n",
       "      <th>y</th>\n",
       "      <th>propensity_score</th>\n",
       "      <th>weight</th>\n",
       "    </tr>\n",
       "  </thead>\n",
       "  <tbody>\n",
       "    <tr>\n",
       "      <th>0</th>\n",
       "      <td>-1.687627</td>\n",
       "      <td>True</td>\n",
       "      <td>1.563862</td>\n",
       "      <td>0.045651</td>\n",
       "      <td>21.905369</td>\n",
       "    </tr>\n",
       "    <tr>\n",
       "      <th>1</th>\n",
       "      <td>1.049106</td>\n",
       "      <td>True</td>\n",
       "      <td>5.984378</td>\n",
       "      <td>0.832349</td>\n",
       "      <td>1.201419</td>\n",
       "    </tr>\n",
       "    <tr>\n",
       "      <th>2</th>\n",
       "      <td>-0.665308</td>\n",
       "      <td>True</td>\n",
       "      <td>3.971974</td>\n",
       "      <td>0.213186</td>\n",
       "      <td>4.690742</td>\n",
       "    </tr>\n",
       "    <tr>\n",
       "      <th>3</th>\n",
       "      <td>-0.896282</td>\n",
       "      <td>True</td>\n",
       "      <td>3.149537</td>\n",
       "      <td>0.154775</td>\n",
       "      <td>6.461007</td>\n",
       "    </tr>\n",
       "    <tr>\n",
       "      <th>4</th>\n",
       "      <td>-0.926165</td>\n",
       "      <td>True</td>\n",
       "      <td>3.131752</td>\n",
       "      <td>0.148259</td>\n",
       "      <td>6.744967</td>\n",
       "    </tr>\n",
       "    <tr>\n",
       "      <th>...</th>\n",
       "      <td>...</td>\n",
       "      <td>...</td>\n",
       "      <td>...</td>\n",
       "      <td>...</td>\n",
       "      <td>...</td>\n",
       "    </tr>\n",
       "    <tr>\n",
       "      <th>995</th>\n",
       "      <td>0.110133</td>\n",
       "      <td>True</td>\n",
       "      <td>5.452158</td>\n",
       "      <td>0.502392</td>\n",
       "      <td>1.990478</td>\n",
       "    </tr>\n",
       "    <tr>\n",
       "      <th>996</th>\n",
       "      <td>-1.822805</td>\n",
       "      <td>True</td>\n",
       "      <td>4.073160</td>\n",
       "      <td>0.036639</td>\n",
       "      <td>27.293245</td>\n",
       "    </tr>\n",
       "    <tr>\n",
       "      <th>997</th>\n",
       "      <td>-0.703548</td>\n",
       "      <td>True</td>\n",
       "      <td>5.809752</td>\n",
       "      <td>0.202508</td>\n",
       "      <td>4.938085</td>\n",
       "    </tr>\n",
       "    <tr>\n",
       "      <th>998</th>\n",
       "      <td>-0.887379</td>\n",
       "      <td>True</td>\n",
       "      <td>5.124439</td>\n",
       "      <td>0.156761</td>\n",
       "      <td>6.379153</td>\n",
       "    </tr>\n",
       "    <tr>\n",
       "      <th>999</th>\n",
       "      <td>-0.321395</td>\n",
       "      <td>True</td>\n",
       "      <td>4.583637</td>\n",
       "      <td>0.326856</td>\n",
       "      <td>3.059453</td>\n",
       "    </tr>\n",
       "  </tbody>\n",
       "</table>\n",
       "<p>1000 rows × 5 columns</p>\n",
       "</div>"
      ],
      "text/plain": [
       "           W0    v0         y  propensity_score     weight\n",
       "0   -1.687627  True  1.563862          0.045651  21.905369\n",
       "1    1.049106  True  5.984378          0.832349   1.201419\n",
       "2   -0.665308  True  3.971974          0.213186   4.690742\n",
       "3   -0.896282  True  3.149537          0.154775   6.461007\n",
       "4   -0.926165  True  3.131752          0.148259   6.744967\n",
       "..        ...   ...       ...               ...        ...\n",
       "995  0.110133  True  5.452158          0.502392   1.990478\n",
       "996 -1.822805  True  4.073160          0.036639  27.293245\n",
       "997 -0.703548  True  5.809752          0.202508   4.938085\n",
       "998 -0.887379  True  5.124439          0.156761   6.379153\n",
       "999 -0.321395  True  4.583637          0.326856   3.059453\n",
       "\n",
       "[1000 rows x 5 columns]"
      ]
     },
     "execution_count": 7,
     "metadata": {},
     "output_type": "execute_result"
    }
   ],
   "source": [
    "cdf_1"
   ]
  },
  {
   "cell_type": "markdown",
   "metadata": {},
   "source": [
    "## Comparing the estimate to Linear Regression\n",
    "First, estimating the effect using the causal data frame, and the 95% confidence interval."
   ]
  },
  {
   "cell_type": "code",
   "execution_count": 8,
   "metadata": {
    "execution": {
     "iopub.execute_input": "2022-08-22T05:50:11.569161Z",
     "iopub.status.busy": "2022-08-22T05:50:11.568613Z",
     "iopub.status.idle": "2022-08-22T05:50:11.689768Z",
     "shell.execute_reply": "2022-08-22T05:50:11.688268Z"
    }
   },
   "outputs": [
    {
     "data": {
      "image/png": "[encoded data removed]",
      "text/latex": [
       "$\\displaystyle 5.36333960785642$"
      ],
      "text/plain": [
       "5.363339607856416"
      ]
     },
     "execution_count": 8,
     "metadata": {},
     "output_type": "execute_result"
    }
   ],
   "source": [
    "(cdf_1['y'] - cdf_0['y']).mean()"
   ]
  },
  {
   "cell_type": "code",
   "execution_count": 9,
   "metadata": {
    "execution": {
     "iopub.execute_input": "2022-08-22T05:50:11.697791Z",
     "iopub.status.busy": "2022-08-22T05:50:11.697027Z",
     "iopub.status.idle": "2022-08-22T05:50:11.733245Z",
     "shell.execute_reply": "2022-08-22T05:50:11.732231Z"
    }
   },
   "outputs": [
    {
     "data": {
      "image/png": "[encoded data removed]",
      "text/latex": [
       "$\\displaystyle 0.132485486333866$"
      ],
      "text/plain": [
       "0.13248548633386556"
      ]
     },
     "execution_count": 9,
     "metadata": {},
     "output_type": "execute_result"
    }
   ],
   "source": [
    "1.96*(cdf_1['y'] - cdf_0['y']).std() / np.sqrt(len(df))"
   ]
  },
  {
   "cell_type": "markdown",
   "metadata": {},
   "source": [
    "Comparing to the estimate from OLS."
   ]
  },
  {
   "cell_type": "code",
   "execution_count": 10,
   "metadata": {
    "execution": {
     "iopub.execute_input": "2022-08-22T05:50:11.737232Z",
     "iopub.status.busy": "2022-08-22T05:50:11.736936Z",
     "iopub.status.idle": "2022-08-22T05:50:11.757408Z",
     "shell.execute_reply": "2022-08-22T05:50:11.756449Z"
    }
   },
   "outputs": [
    {
     "data": {
      "text/html": [
       "<table class=\"simpletable\">\n",
       "<caption>OLS Regression Results</caption>\n",
       "<tr>\n",
       "  <th>Dep. Variable:</th>            <td>y</td>        <th>  R-squared (uncentered):</th>      <td>   0.903</td>\n",
       "</tr>\n",
       "<tr>\n",
       "  <th>Model:</th>                   <td>OLS</td>       <th>  Adj. R-squared (uncentered):</th> <td>   0.902</td>\n",
       "</tr>\n",
       "<tr>\n",
       "  <th>Method:</th>             <td>Least Squares</td>  <th>  F-statistic:       </th>          <td>   4625.</td>\n",
       "</tr>\n",
       "<tr>\n",
       "  <th>Date:</th>             <td>Mon, 22 Aug 2022</td> <th>  Prob (F-statistic):</th>           <td>  0.00</td> \n",
       "</tr>\n",
       "<tr>\n",
       "  <th>Time:</th>                 <td>05:50:11</td>     <th>  Log-Likelihood:    </th>          <td> -1395.4</td>\n",
       "</tr>\n",
       "<tr>\n",
       "  <th>No. Observations:</th>      <td>  1000</td>      <th>  AIC:               </th>          <td>   2795.</td>\n",
       "</tr>\n",
       "<tr>\n",
       "  <th>Df Residuals:</th>          <td>   998</td>      <th>  BIC:               </th>          <td>   2805.</td>\n",
       "</tr>\n",
       "<tr>\n",
       "  <th>Df Model:</th>              <td>     2</td>      <th>                     </th>              <td> </td>   \n",
       "</tr>\n",
       "<tr>\n",
       "  <th>Covariance Type:</th>      <td>nonrobust</td>    <th>                     </th>              <td> </td>   \n",
       "</tr>\n",
       "</table>\n",
       "<table class=\"simpletable\">\n",
       "<tr>\n",
       "   <td></td>     <th>coef</th>     <th>std err</th>      <th>t</th>      <th>P>|t|</th>  <th>[0.025</th>    <th>0.975]</th>  \n",
       "</tr>\n",
       "<tr>\n",
       "  <th>x1</th> <td>    1.2797</td> <td>    0.023</td> <td>   54.966</td> <td> 0.000</td> <td>    1.234</td> <td>    1.325</td>\n",
       "</tr>\n",
       "<tr>\n",
       "  <th>x2</th> <td>    5.0605</td> <td>    0.064</td> <td>   79.340</td> <td> 0.000</td> <td>    4.935</td> <td>    5.186</td>\n",
       "</tr>\n",
       "</table>\n",
       "<table class=\"simpletable\">\n",
       "<tr>\n",
       "  <th>Omnibus:</th>       <td> 0.522</td> <th>  Durbin-Watson:     </th> <td>   2.081</td>\n",
       "</tr>\n",
       "<tr>\n",
       "  <th>Prob(Omnibus):</th> <td> 0.770</td> <th>  Jarque-Bera (JB):  </th> <td>   0.571</td>\n",
       "</tr>\n",
       "<tr>\n",
       "  <th>Skew:</th>          <td>-0.053</td> <th>  Prob(JB):          </th> <td>   0.752</td>\n",
       "</tr>\n",
       "<tr>\n",
       "  <th>Kurtosis:</th>      <td> 2.950</td> <th>  Cond. No.          </th> <td>    2.74</td>\n",
       "</tr>\n",
       "</table><br/><br/>Notes:<br/>[1] R² is computed without centering (uncentered) since the model does not contain a constant.<br/>[2] Standard Errors assume that the covariance matrix of the errors is correctly specified."
      ],
      "text/plain": [
       "<class 'statsmodels.iolib.summary.Summary'>\n",
       "\"\"\"\n",
       "                                 OLS Regression Results                                \n",
       "=======================================================================================\n",
       "Dep. Variable:                      y   R-squared (uncentered):                   0.903\n",
       "Model:                            OLS   Adj. R-squared (uncentered):              0.902\n",
       "Method:                 Least Squares   F-statistic:                              4625.\n",
       "Date:                Mon, 22 Aug 2022   Prob (F-statistic):                        0.00\n",
       "Time:                        05:50:11   Log-Likelihood:                         -1395.4\n",
       "No. Observations:                1000   AIC:                                      2795.\n",
       "Df Residuals:                     998   BIC:                                      2805.\n",
       "Df Model:                           2                                                  \n",
       "Covariance Type:            nonrobust                                                  \n",
       "==============================================================================\n",
       "                 coef    std err          t      P>|t|      [0.025      0.975]\n",
       "------------------------------------------------------------------------------\n",
       "x1             1.2797      0.023     54.966      0.000       1.234       1.325\n",
       "x2             5.0605      0.064     79.340      0.000       4.935       5.186\n",
       "==============================================================================\n",
       "Omnibus:                        0.522   Durbin-Watson:                   2.081\n",
       "Prob(Omnibus):                  0.770   Jarque-Bera (JB):                0.571\n",
       "Skew:                          -0.053   Prob(JB):                        0.752\n",
       "Kurtosis:                       2.950   Cond. No.                         2.74\n",
       "==============================================================================\n",
       "\n",
       "Notes:\n",
       "[1] R² is computed without centering (uncentered) since the model does not contain a constant.\n",
       "[2] Standard Errors assume that the covariance matrix of the errors is correctly specified.\n",
       "\"\"\""
      ]
     },
     "execution_count": 10,
     "metadata": {},
     "output_type": "execute_result"
    }
   ],
   "source": [
    "model = OLS(np.asarray(df[outcome]), np.asarray(df[[common_cause, treatment]], dtype=np.float64))\n",
    "result = model.fit()\n",
    "result.summary()"
   ]
  }
 ],
 "metadata": {
  "kernelspec": {
   "display_name": "Python 3",
   "language": "python",
   "name": "python3"
  },
  "language_info": {
   "codemirror_mode": {
    "name": "ipython",
    "version": 3
   },
   "file_extension": ".py",
   "mimetype": "text/x-python",
   "name": "python",
   "nbconvert_exporter": "python",
   "pygments_lexer": "ipython3",
   "version": "3.8.10"
  },
  "toc": {
   "base_numbering": 1,
   "nav_menu": {},
   "number_sections": false,
   "sideBar": true,
   "skip_h1_title": true,
   "title_cell": "Table of Contents",
   "title_sidebar": "Contents",
   "toc_cell": false,
   "toc_position": {},
   "toc_section_display": true,
   "toc_window_display": false
  }
 },
 "nbformat": 4,
 "nbformat_minor": 4
}
