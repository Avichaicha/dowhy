{
 "cells": [
  {
   "cell_type": "markdown",
   "metadata": {},
   "source": [
    "# Demo for the DoWhy causal API\n",
    "We show a simple example of adding a causal extension to any dataframe. "
   ]
  },
  {
   "cell_type": "code",
   "execution_count": 1,
   "metadata": {
    "execution": {
     "iopub.execute_input": "2022-08-16T14:16:42.837442Z",
     "iopub.status.busy": "2022-08-16T14:16:42.836604Z",
     "iopub.status.idle": "2022-08-16T14:16:44.289300Z",
     "shell.execute_reply": "2022-08-16T14:16:44.288205Z"
    }
   },
   "outputs": [],
   "source": [
    "import dowhy.datasets\n",
    "import dowhy.api\n",
    "\n",
    "import numpy as np\n",
    "import pandas as pd\n",
    "\n",
    "from statsmodels.api import OLS"
   ]
  },
  {
   "cell_type": "code",
   "execution_count": 2,
   "metadata": {
    "execution": {
     "iopub.execute_input": "2022-08-16T14:16:44.293864Z",
     "iopub.status.busy": "2022-08-16T14:16:44.293476Z",
     "iopub.status.idle": "2022-08-16T14:16:44.362390Z",
     "shell.execute_reply": "2022-08-16T14:16:44.361460Z"
    }
   },
   "outputs": [
    {
     "data": {
      "text/html": [
       "<div>\n",
       "<style scoped>\n",
       "    .dataframe tbody tr th:only-of-type {\n",
       "        vertical-align: middle;\n",
       "    }\n",
       "\n",
       "    .dataframe tbody tr th {\n",
       "        vertical-align: top;\n",
       "    }\n",
       "\n",
       "    .dataframe thead th {\n",
       "        text-align: right;\n",
       "    }\n",
       "</style>\n",
       "<table border=\"1\" class=\"dataframe\">\n",
       "  <thead>\n",
       "    <tr style=\"text-align: right;\">\n",
       "      <th></th>\n",
       "      <th>W0</th>\n",
       "      <th>v0</th>\n",
       "      <th>y</th>\n",
       "    </tr>\n",
       "  </thead>\n",
       "  <tbody>\n",
       "    <tr>\n",
       "      <th>0</th>\n",
       "      <td>1.001181</td>\n",
       "      <td>True</td>\n",
       "      <td>6.803203</td>\n",
       "    </tr>\n",
       "    <tr>\n",
       "      <th>1</th>\n",
       "      <td>1.578884</td>\n",
       "      <td>True</td>\n",
       "      <td>11.466826</td>\n",
       "    </tr>\n",
       "    <tr>\n",
       "      <th>2</th>\n",
       "      <td>-0.345001</td>\n",
       "      <td>False</td>\n",
       "      <td>-1.243146</td>\n",
       "    </tr>\n",
       "    <tr>\n",
       "      <th>3</th>\n",
       "      <td>-1.660052</td>\n",
       "      <td>True</td>\n",
       "      <td>-0.526224</td>\n",
       "    </tr>\n",
       "    <tr>\n",
       "      <th>4</th>\n",
       "      <td>0.591192</td>\n",
       "      <td>False</td>\n",
       "      <td>0.993845</td>\n",
       "    </tr>\n",
       "    <tr>\n",
       "      <th>...</th>\n",
       "      <td>...</td>\n",
       "      <td>...</td>\n",
       "      <td>...</td>\n",
       "    </tr>\n",
       "    <tr>\n",
       "      <th>995</th>\n",
       "      <td>-0.069820</td>\n",
       "      <td>True</td>\n",
       "      <td>2.770006</td>\n",
       "    </tr>\n",
       "    <tr>\n",
       "      <th>996</th>\n",
       "      <td>0.431811</td>\n",
       "      <td>True</td>\n",
       "      <td>6.883272</td>\n",
       "    </tr>\n",
       "    <tr>\n",
       "      <th>997</th>\n",
       "      <td>-1.277517</td>\n",
       "      <td>True</td>\n",
       "      <td>1.212094</td>\n",
       "    </tr>\n",
       "    <tr>\n",
       "      <th>998</th>\n",
       "      <td>-2.215399</td>\n",
       "      <td>True</td>\n",
       "      <td>-2.423150</td>\n",
       "    </tr>\n",
       "    <tr>\n",
       "      <th>999</th>\n",
       "      <td>-0.551970</td>\n",
       "      <td>False</td>\n",
       "      <td>-1.628181</td>\n",
       "    </tr>\n",
       "  </tbody>\n",
       "</table>\n",
       "<p>1000 rows × 3 columns</p>\n",
       "</div>"
      ],
      "text/plain": [
       "           W0     v0          y\n",
       "0    1.001181   True   6.803203\n",
       "1    1.578884   True  11.466826\n",
       "2   -0.345001  False  -1.243146\n",
       "3   -1.660052   True  -0.526224\n",
       "4    0.591192  False   0.993845\n",
       "..        ...    ...        ...\n",
       "995 -0.069820   True   2.770006\n",
       "996  0.431811   True   6.883272\n",
       "997 -1.277517   True   1.212094\n",
       "998 -2.215399   True  -2.423150\n",
       "999 -0.551970  False  -1.628181\n",
       "\n",
       "[1000 rows x 3 columns]"
      ]
     },
     "execution_count": 2,
     "metadata": {},
     "output_type": "execute_result"
    }
   ],
   "source": [
    "data = dowhy.datasets.linear_dataset(beta=5,\n",
    "        num_common_causes=1,\n",
    "        num_instruments = 0,\n",
    "        num_samples=1000,\n",
    "        treatment_is_binary=True)\n",
    "df = data['df']\n",
    "df['y'] = df['y'] + np.random.normal(size=len(df)) # Adding noise to data. Without noise, the variance in Y|X, Z is zero, and mcmc fails.\n",
    "#data['dot_graph'] = 'digraph { v ->y;X0-> v;X0-> y;}'\n",
    "\n",
    "treatment= data[\"treatment_name\"][0]\n",
    "outcome = data[\"outcome_name\"][0]\n",
    "common_cause = data[\"common_causes_names\"][0]\n",
    "df"
   ]
  },
  {
   "cell_type": "code",
   "execution_count": 3,
   "metadata": {
    "execution": {
     "iopub.execute_input": "2022-08-16T14:16:44.366084Z",
     "iopub.status.busy": "2022-08-16T14:16:44.365643Z",
     "iopub.status.idle": "2022-08-16T14:16:45.361082Z",
     "shell.execute_reply": "2022-08-16T14:16:45.360195Z"
    }
   },
   "outputs": [
    {
     "data": {
      "text/plain": [
       "<AxesSubplot:xlabel='v0'>"
      ]
     },
     "execution_count": 3,
     "metadata": {},
     "output_type": "execute_result"
    },
    {
     "data": {
      "image/png": "[encoded data removed]",
      "text/plain": [
       "<Figure size 432x288 with 1 Axes>"
      ]
     },
     "metadata": {
      "needs_background": "light"
     },
     "output_type": "display_data"
    }
   ],
   "source": [
    "# data['df'] is just a regular pandas.DataFrame\n",
    "df.causal.do(x=treatment,\n",
    "                     variable_types={treatment: 'b', outcome: 'c', common_cause: 'c'},\n",
    "                     outcome=outcome,\n",
    "                     common_causes=[common_cause],\n",
    "                     proceed_when_unidentifiable=True).groupby(treatment).mean().plot(y=outcome, kind='bar')"
   ]
  },
  {
   "cell_type": "code",
   "execution_count": 4,
   "metadata": {
    "execution": {
     "iopub.execute_input": "2022-08-16T14:16:45.365360Z",
     "iopub.status.busy": "2022-08-16T14:16:45.364816Z",
     "iopub.status.idle": "2022-08-16T14:16:45.528172Z",
     "shell.execute_reply": "2022-08-16T14:16:45.527169Z"
    }
   },
   "outputs": [
    {
     "data": {
      "text/plain": [
       "<AxesSubplot:xlabel='v0'>"
      ]
     },
     "execution_count": 4,
     "metadata": {},
     "output_type": "execute_result"
    },
    {
     "data": {
      "image/png": "[encoded data removed]",
      "text/plain": [
       "<Figure size 432x288 with 1 Axes>"
      ]
     },
     "metadata": {
      "needs_background": "light"
     },
     "output_type": "display_data"
    }
   ],
   "source": [
    "df.causal.do(x={treatment: 1}, \n",
    "              variable_types={treatment:'b', outcome: 'c', common_cause: 'c'}, \n",
    "              outcome=outcome,\n",
    "              method='weighting', \n",
    "              common_causes=[common_cause],\n",
    "              proceed_when_unidentifiable=True).groupby(treatment).mean().plot(y=outcome, kind='bar')"
   ]
  },
  {
   "cell_type": "code",
   "execution_count": 5,
   "metadata": {
    "execution": {
     "iopub.execute_input": "2022-08-16T14:16:45.532197Z",
     "iopub.status.busy": "2022-08-16T14:16:45.531700Z",
     "iopub.status.idle": "2022-08-16T14:16:45.572140Z",
     "shell.execute_reply": "2022-08-16T14:16:45.571142Z"
    }
   },
   "outputs": [],
   "source": [
    "cdf_1 = df.causal.do(x={treatment: 1}, \n",
    "              variable_types={treatment: 'b', outcome: 'c', common_cause: 'c'}, \n",
    "              outcome=outcome, \n",
    "              dot_graph=data['dot_graph'],\n",
    "              proceed_when_unidentifiable=True)\n",
    "\n",
    "cdf_0 = df.causal.do(x={treatment: 0}, \n",
    "              variable_types={treatment: 'b', outcome: 'c', common_cause: 'c'}, \n",
    "              outcome=outcome, \n",
    "              dot_graph=data['dot_graph'],\n",
    "              proceed_when_unidentifiable=True)\n"
   ]
  },
  {
   "cell_type": "code",
   "execution_count": 6,
   "metadata": {
    "execution": {
     "iopub.execute_input": "2022-08-16T14:16:45.575567Z",
     "iopub.status.busy": "2022-08-16T14:16:45.575317Z",
     "iopub.status.idle": "2022-08-16T14:16:45.589139Z",
     "shell.execute_reply": "2022-08-16T14:16:45.588347Z"
    },
    "scrolled": true
   },
   "outputs": [
    {
     "data": {
      "text/html": [
       "<div>\n",
       "<style scoped>\n",
       "    .dataframe tbody tr th:only-of-type {\n",
       "        vertical-align: middle;\n",
       "    }\n",
       "\n",
       "    .dataframe tbody tr th {\n",
       "        vertical-align: top;\n",
       "    }\n",
       "\n",
       "    .dataframe thead th {\n",
       "        text-align: right;\n",
       "    }\n",
       "</style>\n",
       "<table border=\"1\" class=\"dataframe\">\n",
       "  <thead>\n",
       "    <tr style=\"text-align: right;\">\n",
       "      <th></th>\n",
       "      <th>W0</th>\n",
       "      <th>v0</th>\n",
       "      <th>y</th>\n",
       "      <th>propensity_score</th>\n",
       "      <th>weight</th>\n",
       "    </tr>\n",
       "  </thead>\n",
       "  <tbody>\n",
       "    <tr>\n",
       "      <th>0</th>\n",
       "      <td>-1.513085</td>\n",
       "      <td>False</td>\n",
       "      <td>-3.857261</td>\n",
       "      <td>0.541607</td>\n",
       "      <td>1.846356</td>\n",
       "    </tr>\n",
       "    <tr>\n",
       "      <th>1</th>\n",
       "      <td>-1.529737</td>\n",
       "      <td>False</td>\n",
       "      <td>-3.684627</td>\n",
       "      <td>0.542003</td>\n",
       "      <td>1.845007</td>\n",
       "    </tr>\n",
       "    <tr>\n",
       "      <th>2</th>\n",
       "      <td>1.145438</td>\n",
       "      <td>False</td>\n",
       "      <td>3.636374</td>\n",
       "      <td>0.478034</td>\n",
       "      <td>2.091900</td>\n",
       "    </tr>\n",
       "    <tr>\n",
       "      <th>3</th>\n",
       "      <td>0.058904</td>\n",
       "      <td>False</td>\n",
       "      <td>0.255471</td>\n",
       "      <td>0.504047</td>\n",
       "      <td>1.983940</td>\n",
       "    </tr>\n",
       "    <tr>\n",
       "      <th>4</th>\n",
       "      <td>0.439149</td>\n",
       "      <td>False</td>\n",
       "      <td>1.718435</td>\n",
       "      <td>0.494939</td>\n",
       "      <td>2.020451</td>\n",
       "    </tr>\n",
       "    <tr>\n",
       "      <th>...</th>\n",
       "      <td>...</td>\n",
       "      <td>...</td>\n",
       "      <td>...</td>\n",
       "      <td>...</td>\n",
       "      <td>...</td>\n",
       "    </tr>\n",
       "    <tr>\n",
       "      <th>995</th>\n",
       "      <td>-0.500210</td>\n",
       "      <td>False</td>\n",
       "      <td>-2.749405</td>\n",
       "      <td>0.517434</td>\n",
       "      <td>1.932615</td>\n",
       "    </tr>\n",
       "    <tr>\n",
       "      <th>996</th>\n",
       "      <td>-0.772166</td>\n",
       "      <td>False</td>\n",
       "      <td>-2.993691</td>\n",
       "      <td>0.523937</td>\n",
       "      <td>1.908626</td>\n",
       "    </tr>\n",
       "    <tr>\n",
       "      <th>997</th>\n",
       "      <td>0.534231</td>\n",
       "      <td>False</td>\n",
       "      <td>1.355369</td>\n",
       "      <td>0.492662</td>\n",
       "      <td>2.029790</td>\n",
       "    </tr>\n",
       "    <tr>\n",
       "      <th>998</th>\n",
       "      <td>0.556730</td>\n",
       "      <td>False</td>\n",
       "      <td>1.238860</td>\n",
       "      <td>0.492123</td>\n",
       "      <td>2.032012</td>\n",
       "    </tr>\n",
       "    <tr>\n",
       "      <th>999</th>\n",
       "      <td>0.797040</td>\n",
       "      <td>False</td>\n",
       "      <td>0.615675</td>\n",
       "      <td>0.486369</td>\n",
       "      <td>2.056051</td>\n",
       "    </tr>\n",
       "  </tbody>\n",
       "</table>\n",
       "<p>1000 rows × 5 columns</p>\n",
       "</div>"
      ],
      "text/plain": [
       "           W0     v0         y  propensity_score    weight\n",
       "0   -1.513085  False -3.857261          0.541607  1.846356\n",
       "1   -1.529737  False -3.684627          0.542003  1.845007\n",
       "2    1.145438  False  3.636374          0.478034  2.091900\n",
       "3    0.058904  False  0.255471          0.504047  1.983940\n",
       "4    0.439149  False  1.718435          0.494939  2.020451\n",
       "..        ...    ...       ...               ...       ...\n",
       "995 -0.500210  False -2.749405          0.517434  1.932615\n",
       "996 -0.772166  False -2.993691          0.523937  1.908626\n",
       "997  0.534231  False  1.355369          0.492662  2.029790\n",
       "998  0.556730  False  1.238860          0.492123  2.032012\n",
       "999  0.797040  False  0.615675          0.486369  2.056051\n",
       "\n",
       "[1000 rows x 5 columns]"
      ]
     },
     "execution_count": 6,
     "metadata": {},
     "output_type": "execute_result"
    }
   ],
   "source": [
    "cdf_0"
   ]
  },
  {
   "cell_type": "code",
   "execution_count": 7,
   "metadata": {
    "execution": {
     "iopub.execute_input": "2022-08-16T14:16:45.593572Z",
     "iopub.status.busy": "2022-08-16T14:16:45.593330Z",
     "iopub.status.idle": "2022-08-16T14:16:45.608106Z",
     "shell.execute_reply": "2022-08-16T14:16:45.607249Z"
    }
   },
   "outputs": [
    {
     "data": {
      "text/html": [
       "<div>\n",
       "<style scoped>\n",
       "    .dataframe tbody tr th:only-of-type {\n",
       "        vertical-align: middle;\n",
       "    }\n",
       "\n",
       "    .dataframe tbody tr th {\n",
       "        vertical-align: top;\n",
       "    }\n",
       "\n",
       "    .dataframe thead th {\n",
       "        text-align: right;\n",
       "    }\n",
       "</style>\n",
       "<table border=\"1\" class=\"dataframe\">\n",
       "  <thead>\n",
       "    <tr style=\"text-align: right;\">\n",
       "      <th></th>\n",
       "      <th>W0</th>\n",
       "      <th>v0</th>\n",
       "      <th>y</th>\n",
       "      <th>propensity_score</th>\n",
       "      <th>weight</th>\n",
       "    </tr>\n",
       "  </thead>\n",
       "  <tbody>\n",
       "    <tr>\n",
       "      <th>0</th>\n",
       "      <td>-0.243258</td>\n",
       "      <td>True</td>\n",
       "      <td>4.898784</td>\n",
       "      <td>0.488716</td>\n",
       "      <td>2.046177</td>\n",
       "    </tr>\n",
       "    <tr>\n",
       "      <th>1</th>\n",
       "      <td>0.832950</td>\n",
       "      <td>True</td>\n",
       "      <td>7.403233</td>\n",
       "      <td>0.514490</td>\n",
       "      <td>1.943671</td>\n",
       "    </tr>\n",
       "    <tr>\n",
       "      <th>2</th>\n",
       "      <td>0.663686</td>\n",
       "      <td>True</td>\n",
       "      <td>6.832241</td>\n",
       "      <td>0.510438</td>\n",
       "      <td>1.959101</td>\n",
       "    </tr>\n",
       "    <tr>\n",
       "      <th>3</th>\n",
       "      <td>0.778061</td>\n",
       "      <td>True</td>\n",
       "      <td>9.368043</td>\n",
       "      <td>0.513176</td>\n",
       "      <td>1.948647</td>\n",
       "    </tr>\n",
       "    <tr>\n",
       "      <th>4</th>\n",
       "      <td>-0.283242</td>\n",
       "      <td>True</td>\n",
       "      <td>3.938525</td>\n",
       "      <td>0.487759</td>\n",
       "      <td>2.050193</td>\n",
       "    </tr>\n",
       "    <tr>\n",
       "      <th>...</th>\n",
       "      <td>...</td>\n",
       "      <td>...</td>\n",
       "      <td>...</td>\n",
       "      <td>...</td>\n",
       "      <td>...</td>\n",
       "    </tr>\n",
       "    <tr>\n",
       "      <th>995</th>\n",
       "      <td>-0.519643</td>\n",
       "      <td>True</td>\n",
       "      <td>3.521721</td>\n",
       "      <td>0.482101</td>\n",
       "      <td>2.074253</td>\n",
       "    </tr>\n",
       "    <tr>\n",
       "      <th>996</th>\n",
       "      <td>1.628627</td>\n",
       "      <td>True</td>\n",
       "      <td>11.150675</td>\n",
       "      <td>0.533504</td>\n",
       "      <td>1.874400</td>\n",
       "    </tr>\n",
       "    <tr>\n",
       "      <th>997</th>\n",
       "      <td>1.592212</td>\n",
       "      <td>True</td>\n",
       "      <td>9.630996</td>\n",
       "      <td>0.532636</td>\n",
       "      <td>1.877456</td>\n",
       "    </tr>\n",
       "    <tr>\n",
       "      <th>998</th>\n",
       "      <td>1.285854</td>\n",
       "      <td>True</td>\n",
       "      <td>7.551198</td>\n",
       "      <td>0.525322</td>\n",
       "      <td>1.903595</td>\n",
       "    </tr>\n",
       "    <tr>\n",
       "      <th>999</th>\n",
       "      <td>-1.442049</td>\n",
       "      <td>True</td>\n",
       "      <td>2.040714</td>\n",
       "      <td>0.460083</td>\n",
       "      <td>2.173521</td>\n",
       "    </tr>\n",
       "  </tbody>\n",
       "</table>\n",
       "<p>1000 rows × 5 columns</p>\n",
       "</div>"
      ],
      "text/plain": [
       "           W0    v0          y  propensity_score    weight\n",
       "0   -0.243258  True   4.898784          0.488716  2.046177\n",
       "1    0.832950  True   7.403233          0.514490  1.943671\n",
       "2    0.663686  True   6.832241          0.510438  1.959101\n",
       "3    0.778061  True   9.368043          0.513176  1.948647\n",
       "4   -0.283242  True   3.938525          0.487759  2.050193\n",
       "..        ...   ...        ...               ...       ...\n",
       "995 -0.519643  True   3.521721          0.482101  2.074253\n",
       "996  1.628627  True  11.150675          0.533504  1.874400\n",
       "997  1.592212  True   9.630996          0.532636  1.877456\n",
       "998  1.285854  True   7.551198          0.525322  1.903595\n",
       "999 -1.442049  True   2.040714          0.460083  2.173521\n",
       "\n",
       "[1000 rows x 5 columns]"
      ]
     },
     "execution_count": 7,
     "metadata": {},
     "output_type": "execute_result"
    }
   ],
   "source": [
    "cdf_1"
   ]
  },
  {
   "cell_type": "markdown",
   "metadata": {},
   "source": [
    "## Comparing the estimate to Linear Regression\n",
    "First, estimating the effect using the causal data frame, and the 95% confidence interval."
   ]
  },
  {
   "cell_type": "code",
   "execution_count": 8,
   "metadata": {
    "execution": {
     "iopub.execute_input": "2022-08-16T14:16:45.612046Z",
     "iopub.status.busy": "2022-08-16T14:16:45.611592Z",
     "iopub.status.idle": "2022-08-16T14:16:45.737232Z",
     "shell.execute_reply": "2022-08-16T14:16:45.736282Z"
    }
   },
   "outputs": [
    {
     "data": {
      "image/png": "[encoded data removed]",
      "text/latex": [
       "$\\displaystyle 5.15181603432136$"
      ],
      "text/plain": [
       "5.151816034321357"
      ]
     },
     "execution_count": 8,
     "metadata": {},
     "output_type": "execute_result"
    }
   ],
   "source": [
    "(cdf_1['y'] - cdf_0['y']).mean()"
   ]
  },
  {
   "cell_type": "code",
   "execution_count": 9,
   "metadata": {
    "execution": {
     "iopub.execute_input": "2022-08-16T14:16:45.740620Z",
     "iopub.status.busy": "2022-08-16T14:16:45.740256Z",
     "iopub.status.idle": "2022-08-16T14:16:45.774084Z",
     "shell.execute_reply": "2022-08-16T14:16:45.773215Z"
    }
   },
   "outputs": [
    {
     "data": {
      "image/png": "[encoded data removed]",
      "text/latex": [
       "$\\displaystyle 0.263466417201294$"
      ],
      "text/plain": [
       "0.26346641720129427"
      ]
     },
     "execution_count": 9,
     "metadata": {},
     "output_type": "execute_result"
    }
   ],
   "source": [
    "1.96*(cdf_1['y'] - cdf_0['y']).std() / np.sqrt(len(df))"
   ]
  },
  {
   "cell_type": "markdown",
   "metadata": {},
   "source": [
    "Comparing to the estimate from OLS."
   ]
  },
  {
   "cell_type": "code",
   "execution_count": 10,
   "metadata": {
    "execution": {
     "iopub.execute_input": "2022-08-16T14:16:45.777533Z",
     "iopub.status.busy": "2022-08-16T14:16:45.777059Z",
     "iopub.status.idle": "2022-08-16T14:16:45.801199Z",
     "shell.execute_reply": "2022-08-16T14:16:45.800262Z"
    }
   },
   "outputs": [
    {
     "data": {
      "text/html": [
       "<table class=\"simpletable\">\n",
       "<caption>OLS Regression Results</caption>\n",
       "<tr>\n",
       "  <th>Dep. Variable:</th>            <td>y</td>        <th>  R-squared (uncentered):</th>      <td>   0.960</td> \n",
       "</tr>\n",
       "<tr>\n",
       "  <th>Model:</th>                   <td>OLS</td>       <th>  Adj. R-squared (uncentered):</th> <td>   0.960</td> \n",
       "</tr>\n",
       "<tr>\n",
       "  <th>Method:</th>             <td>Least Squares</td>  <th>  F-statistic:       </th>          <td>1.205e+04</td>\n",
       "</tr>\n",
       "<tr>\n",
       "  <th>Date:</th>             <td>Tue, 16 Aug 2022</td> <th>  Prob (F-statistic):</th>           <td>  0.00</td>  \n",
       "</tr>\n",
       "<tr>\n",
       "  <th>Time:</th>                 <td>14:16:45</td>     <th>  Log-Likelihood:    </th>          <td> -1437.7</td> \n",
       "</tr>\n",
       "<tr>\n",
       "  <th>No. Observations:</th>      <td>  1000</td>      <th>  AIC:               </th>          <td>   2879.</td> \n",
       "</tr>\n",
       "<tr>\n",
       "  <th>Df Residuals:</th>          <td>   998</td>      <th>  BIC:               </th>          <td>   2889.</td> \n",
       "</tr>\n",
       "<tr>\n",
       "  <th>Df Model:</th>              <td>     2</td>      <th>                     </th>              <td> </td>    \n",
       "</tr>\n",
       "<tr>\n",
       "  <th>Covariance Type:</th>      <td>nonrobust</td>    <th>                     </th>              <td> </td>    \n",
       "</tr>\n",
       "</table>\n",
       "<table class=\"simpletable\">\n",
       "<tr>\n",
       "   <td></td>     <th>coef</th>     <th>std err</th>      <th>t</th>      <th>P>|t|</th>  <th>[0.025</th>    <th>0.975]</th>  \n",
       "</tr>\n",
       "<tr>\n",
       "  <th>x1</th> <td>    2.8905</td> <td>    0.034</td> <td>   86.228</td> <td> 0.000</td> <td>    2.825</td> <td>    2.956</td>\n",
       "</tr>\n",
       "<tr>\n",
       "  <th>x2</th> <td>    4.9777</td> <td>    0.047</td> <td>  106.449</td> <td> 0.000</td> <td>    4.886</td> <td>    5.069</td>\n",
       "</tr>\n",
       "</table>\n",
       "<table class=\"simpletable\">\n",
       "<tr>\n",
       "  <th>Omnibus:</th>       <td> 3.251</td> <th>  Durbin-Watson:     </th> <td>   1.971</td>\n",
       "</tr>\n",
       "<tr>\n",
       "  <th>Prob(Omnibus):</th> <td> 0.197</td> <th>  Jarque-Bera (JB):  </th> <td>   3.087</td>\n",
       "</tr>\n",
       "<tr>\n",
       "  <th>Skew:</th>          <td>-0.088</td> <th>  Prob(JB):          </th> <td>   0.214</td>\n",
       "</tr>\n",
       "<tr>\n",
       "  <th>Kurtosis:</th>      <td> 2.793</td> <th>  Cond. No.          </th> <td>    1.50</td>\n",
       "</tr>\n",
       "</table><br/><br/>Notes:<br/>[1] R² is computed without centering (uncentered) since the model does not contain a constant.<br/>[2] Standard Errors assume that the covariance matrix of the errors is correctly specified."
      ],
      "text/plain": [
       "<class 'statsmodels.iolib.summary.Summary'>\n",
       "\"\"\"\n",
       "                                 OLS Regression Results                                \n",
       "=======================================================================================\n",
       "Dep. Variable:                      y   R-squared (uncentered):                   0.960\n",
       "Model:                            OLS   Adj. R-squared (uncentered):              0.960\n",
       "Method:                 Least Squares   F-statistic:                          1.205e+04\n",
       "Date:                Tue, 16 Aug 2022   Prob (F-statistic):                        0.00\n",
       "Time:                        14:16:45   Log-Likelihood:                         -1437.7\n",
       "No. Observations:                1000   AIC:                                      2879.\n",
       "Df Residuals:                     998   BIC:                                      2889.\n",
       "Df Model:                           2                                                  \n",
       "Covariance Type:            nonrobust                                                  \n",
       "==============================================================================\n",
       "                 coef    std err          t      P>|t|      [0.025      0.975]\n",
       "------------------------------------------------------------------------------\n",
       "x1             2.8905      0.034     86.228      0.000       2.825       2.956\n",
       "x2             4.9777      0.047    106.449      0.000       4.886       5.069\n",
       "==============================================================================\n",
       "Omnibus:                        3.251   Durbin-Watson:                   1.971\n",
       "Prob(Omnibus):                  0.197   Jarque-Bera (JB):                3.087\n",
       "Skew:                          -0.088   Prob(JB):                        0.214\n",
       "Kurtosis:                       2.793   Cond. No.                         1.50\n",
       "==============================================================================\n",
       "\n",
       "Notes:\n",
       "[1] R² is computed without centering (uncentered) since the model does not contain a constant.\n",
       "[2] Standard Errors assume that the covariance matrix of the errors is correctly specified.\n",
       "\"\"\""
      ]
     },
     "execution_count": 10,
     "metadata": {},
     "output_type": "execute_result"
    }
   ],
   "source": [
    "model = OLS(np.asarray(df[outcome]), np.asarray(df[[common_cause, treatment]], dtype=np.float64))\n",
    "result = model.fit()\n",
    "result.summary()"
   ]
  }
 ],
 "metadata": {
  "kernelspec": {
   "display_name": "Python 3",
   "language": "python",
   "name": "python3"
  },
  "language_info": {
   "codemirror_mode": {
    "name": "ipython",
    "version": 3
   },
   "file_extension": ".py",
   "mimetype": "text/x-python",
   "name": "python",
   "nbconvert_exporter": "python",
   "pygments_lexer": "ipython3",
   "version": "3.8.10"
  },
  "toc": {
   "base_numbering": 1,
   "nav_menu": {},
   "number_sections": false,
   "sideBar": true,
   "skip_h1_title": true,
   "title_cell": "Table of Contents",
   "title_sidebar": "Contents",
   "toc_cell": false,
   "toc_position": {},
   "toc_section_display": true,
   "toc_window_display": false
  }
 },
 "nbformat": 4,
 "nbformat_minor": 4
}
