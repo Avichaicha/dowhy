{
 "cells": [
  {
   "cell_type": "markdown",
   "metadata": {},
   "source": [
    "# Demo for the DoWhy causal API\n",
    "We show a simple example of adding a causal extension to any dataframe. "
   ]
  },
  {
   "cell_type": "code",
   "execution_count": 1,
   "metadata": {
    "execution": {
     "iopub.execute_input": "2022-08-23T12:26:42.818278Z",
     "iopub.status.busy": "2022-08-23T12:26:42.817726Z",
     "iopub.status.idle": "2022-08-23T12:26:44.210502Z",
     "shell.execute_reply": "2022-08-23T12:26:44.209597Z"
    }
   },
   "outputs": [],
   "source": [
    "import dowhy.datasets\n",
    "import dowhy.api\n",
    "\n",
    "import numpy as np\n",
    "import pandas as pd\n",
    "\n",
    "from statsmodels.api import OLS"
   ]
  },
  {
   "cell_type": "code",
   "execution_count": 2,
   "metadata": {
    "execution": {
     "iopub.execute_input": "2022-08-23T12:26:44.215804Z",
     "iopub.status.busy": "2022-08-23T12:26:44.215120Z",
     "iopub.status.idle": "2022-08-23T12:26:44.267954Z",
     "shell.execute_reply": "2022-08-23T12:26:44.266880Z"
    }
   },
   "outputs": [
    {
     "data": {
      "text/html": [
       "<div>\n",
       "<style scoped>\n",
       "    .dataframe tbody tr th:only-of-type {\n",
       "        vertical-align: middle;\n",
       "    }\n",
       "\n",
       "    .dataframe tbody tr th {\n",
       "        vertical-align: top;\n",
       "    }\n",
       "\n",
       "    .dataframe thead th {\n",
       "        text-align: right;\n",
       "    }\n",
       "</style>\n",
       "<table border=\"1\" class=\"dataframe\">\n",
       "  <thead>\n",
       "    <tr style=\"text-align: right;\">\n",
       "      <th></th>\n",
       "      <th>W0</th>\n",
       "      <th>v0</th>\n",
       "      <th>y</th>\n",
       "    </tr>\n",
       "  </thead>\n",
       "  <tbody>\n",
       "    <tr>\n",
       "      <th>0</th>\n",
       "      <td>-2.228435</td>\n",
       "      <td>False</td>\n",
       "      <td>-5.717738</td>\n",
       "    </tr>\n",
       "    <tr>\n",
       "      <th>1</th>\n",
       "      <td>-3.003768</td>\n",
       "      <td>False</td>\n",
       "      <td>-7.057605</td>\n",
       "    </tr>\n",
       "    <tr>\n",
       "      <th>2</th>\n",
       "      <td>0.108753</td>\n",
       "      <td>False</td>\n",
       "      <td>1.422536</td>\n",
       "    </tr>\n",
       "    <tr>\n",
       "      <th>3</th>\n",
       "      <td>-0.791985</td>\n",
       "      <td>False</td>\n",
       "      <td>-1.524991</td>\n",
       "    </tr>\n",
       "    <tr>\n",
       "      <th>4</th>\n",
       "      <td>-2.897733</td>\n",
       "      <td>False</td>\n",
       "      <td>-5.088577</td>\n",
       "    </tr>\n",
       "    <tr>\n",
       "      <th>...</th>\n",
       "      <td>...</td>\n",
       "      <td>...</td>\n",
       "      <td>...</td>\n",
       "    </tr>\n",
       "    <tr>\n",
       "      <th>995</th>\n",
       "      <td>-1.484495</td>\n",
       "      <td>False</td>\n",
       "      <td>-1.908192</td>\n",
       "    </tr>\n",
       "    <tr>\n",
       "      <th>996</th>\n",
       "      <td>0.190978</td>\n",
       "      <td>True</td>\n",
       "      <td>5.846923</td>\n",
       "    </tr>\n",
       "    <tr>\n",
       "      <th>997</th>\n",
       "      <td>-0.436201</td>\n",
       "      <td>False</td>\n",
       "      <td>-0.381625</td>\n",
       "    </tr>\n",
       "    <tr>\n",
       "      <th>998</th>\n",
       "      <td>0.526986</td>\n",
       "      <td>True</td>\n",
       "      <td>5.633316</td>\n",
       "    </tr>\n",
       "    <tr>\n",
       "      <th>999</th>\n",
       "      <td>-0.720192</td>\n",
       "      <td>False</td>\n",
       "      <td>-2.162882</td>\n",
       "    </tr>\n",
       "  </tbody>\n",
       "</table>\n",
       "<p>1000 rows × 3 columns</p>\n",
       "</div>"
      ],
      "text/plain": [
       "           W0     v0         y\n",
       "0   -2.228435  False -5.717738\n",
       "1   -3.003768  False -7.057605\n",
       "2    0.108753  False  1.422536\n",
       "3   -0.791985  False -1.524991\n",
       "4   -2.897733  False -5.088577\n",
       "..        ...    ...       ...\n",
       "995 -1.484495  False -1.908192\n",
       "996  0.190978   True  5.846923\n",
       "997 -0.436201  False -0.381625\n",
       "998  0.526986   True  5.633316\n",
       "999 -0.720192  False -2.162882\n",
       "\n",
       "[1000 rows x 3 columns]"
      ]
     },
     "execution_count": 2,
     "metadata": {},
     "output_type": "execute_result"
    }
   ],
   "source": [
    "data = dowhy.datasets.linear_dataset(beta=5,\n",
    "        num_common_causes=1,\n",
    "        num_instruments = 0,\n",
    "        num_samples=1000,\n",
    "        treatment_is_binary=True)\n",
    "df = data['df']\n",
    "df['y'] = df['y'] + np.random.normal(size=len(df)) # Adding noise to data. Without noise, the variance in Y|X, Z is zero, and mcmc fails.\n",
    "#data['dot_graph'] = 'digraph { v ->y;X0-> v;X0-> y;}'\n",
    "\n",
    "treatment= data[\"treatment_name\"][0]\n",
    "outcome = data[\"outcome_name\"][0]\n",
    "common_cause = data[\"common_causes_names\"][0]\n",
    "df"
   ]
  },
  {
   "cell_type": "code",
   "execution_count": 3,
   "metadata": {
    "execution": {
     "iopub.execute_input": "2022-08-23T12:26:44.272083Z",
     "iopub.status.busy": "2022-08-23T12:26:44.271321Z",
     "iopub.status.idle": "2022-08-23T12:26:45.182771Z",
     "shell.execute_reply": "2022-08-23T12:26:45.182101Z"
    }
   },
   "outputs": [
    {
     "data": {
      "text/plain": [
       "<AxesSubplot:xlabel='v0'>"
      ]
     },
     "execution_count": 3,
     "metadata": {},
     "output_type": "execute_result"
    },
    {
     "data": {
      "image/png": "[encoded data removed]",
      "text/plain": [
       "<Figure size 640x480 with 1 Axes>"
      ]
     },
     "metadata": {},
     "output_type": "display_data"
    }
   ],
   "source": [
    "# data['df'] is just a regular pandas.DataFrame\n",
    "df.causal.do(x=treatment,\n",
    "                     variable_types={treatment: 'b', outcome: 'c', common_cause: 'c'},\n",
    "                     outcome=outcome,\n",
    "                     common_causes=[common_cause],\n",
    "                     proceed_when_unidentifiable=True).groupby(treatment).mean().plot(y=outcome, kind='bar')"
   ]
  },
  {
   "cell_type": "code",
   "execution_count": 4,
   "metadata": {
    "execution": {
     "iopub.execute_input": "2022-08-23T12:26:45.187045Z",
     "iopub.status.busy": "2022-08-23T12:26:45.186429Z",
     "iopub.status.idle": "2022-08-23T12:26:45.323270Z",
     "shell.execute_reply": "2022-08-23T12:26:45.322429Z"
    }
   },
   "outputs": [
    {
     "data": {
      "text/plain": [
       "<AxesSubplot:xlabel='v0'>"
      ]
     },
     "execution_count": 4,
     "metadata": {},
     "output_type": "execute_result"
    },
    {
     "data": {
      "image/png": "[encoded data removed]",
      "text/plain": [
       "<Figure size 640x480 with 1 Axes>"
      ]
     },
     "metadata": {},
     "output_type": "display_data"
    }
   ],
   "source": [
    "df.causal.do(x={treatment: 1}, \n",
    "              variable_types={treatment:'b', outcome: 'c', common_cause: 'c'}, \n",
    "              outcome=outcome,\n",
    "              method='weighting', \n",
    "              common_causes=[common_cause],\n",
    "              proceed_when_unidentifiable=True).groupby(treatment).mean().plot(y=outcome, kind='bar')"
   ]
  },
  {
   "cell_type": "code",
   "execution_count": 5,
   "metadata": {
    "execution": {
     "iopub.execute_input": "2022-08-23T12:26:45.328832Z",
     "iopub.status.busy": "2022-08-23T12:26:45.327400Z",
     "iopub.status.idle": "2022-08-23T12:26:45.366161Z",
     "shell.execute_reply": "2022-08-23T12:26:45.365420Z"
    }
   },
   "outputs": [],
   "source": [
    "cdf_1 = df.causal.do(x={treatment: 1}, \n",
    "              variable_types={treatment: 'b', outcome: 'c', common_cause: 'c'}, \n",
    "              outcome=outcome, \n",
    "              dot_graph=data['dot_graph'],\n",
    "              proceed_when_unidentifiable=True)\n",
    "\n",
    "cdf_0 = df.causal.do(x={treatment: 0}, \n",
    "              variable_types={treatment: 'b', outcome: 'c', common_cause: 'c'}, \n",
    "              outcome=outcome, \n",
    "              dot_graph=data['dot_graph'],\n",
    "              proceed_when_unidentifiable=True)\n"
   ]
  },
  {
   "cell_type": "code",
   "execution_count": 6,
   "metadata": {
    "execution": {
     "iopub.execute_input": "2022-08-23T12:26:45.369931Z",
     "iopub.status.busy": "2022-08-23T12:26:45.369506Z",
     "iopub.status.idle": "2022-08-23T12:26:45.381774Z",
     "shell.execute_reply": "2022-08-23T12:26:45.381068Z"
    },
    "scrolled": true
   },
   "outputs": [
    {
     "data": {
      "text/html": [
       "<div>\n",
       "<style scoped>\n",
       "    .dataframe tbody tr th:only-of-type {\n",
       "        vertical-align: middle;\n",
       "    }\n",
       "\n",
       "    .dataframe tbody tr th {\n",
       "        vertical-align: top;\n",
       "    }\n",
       "\n",
       "    .dataframe thead th {\n",
       "        text-align: right;\n",
       "    }\n",
       "</style>\n",
       "<table border=\"1\" class=\"dataframe\">\n",
       "  <thead>\n",
       "    <tr style=\"text-align: right;\">\n",
       "      <th></th>\n",
       "      <th>W0</th>\n",
       "      <th>v0</th>\n",
       "      <th>y</th>\n",
       "      <th>propensity_score</th>\n",
       "      <th>weight</th>\n",
       "    </tr>\n",
       "  </thead>\n",
       "  <tbody>\n",
       "    <tr>\n",
       "      <th>0</th>\n",
       "      <td>0.148031</td>\n",
       "      <td>False</td>\n",
       "      <td>0.875857</td>\n",
       "      <td>0.452595</td>\n",
       "      <td>2.209481</td>\n",
       "    </tr>\n",
       "    <tr>\n",
       "      <th>1</th>\n",
       "      <td>-0.600254</td>\n",
       "      <td>False</td>\n",
       "      <td>0.804159</td>\n",
       "      <td>0.793209</td>\n",
       "      <td>1.260701</td>\n",
       "    </tr>\n",
       "    <tr>\n",
       "      <th>2</th>\n",
       "      <td>-0.274073</td>\n",
       "      <td>False</td>\n",
       "      <td>0.665439</td>\n",
       "      <td>0.662723</td>\n",
       "      <td>1.508925</td>\n",
       "    </tr>\n",
       "    <tr>\n",
       "      <th>3</th>\n",
       "      <td>-2.808617</td>\n",
       "      <td>False</td>\n",
       "      <td>-6.992017</td>\n",
       "      <td>0.997194</td>\n",
       "      <td>1.002814</td>\n",
       "    </tr>\n",
       "    <tr>\n",
       "      <th>4</th>\n",
       "      <td>-0.319423</td>\n",
       "      <td>False</td>\n",
       "      <td>-0.390810</td>\n",
       "      <td>0.683187</td>\n",
       "      <td>1.463728</td>\n",
       "    </tr>\n",
       "    <tr>\n",
       "      <th>...</th>\n",
       "      <td>...</td>\n",
       "      <td>...</td>\n",
       "      <td>...</td>\n",
       "      <td>...</td>\n",
       "      <td>...</td>\n",
       "    </tr>\n",
       "    <tr>\n",
       "      <th>995</th>\n",
       "      <td>-0.007980</td>\n",
       "      <td>False</td>\n",
       "      <td>-1.414139</td>\n",
       "      <td>0.532393</td>\n",
       "      <td>1.878311</td>\n",
       "    </tr>\n",
       "    <tr>\n",
       "      <th>996</th>\n",
       "      <td>-0.115737</td>\n",
       "      <td>False</td>\n",
       "      <td>0.010407</td>\n",
       "      <td>0.586797</td>\n",
       "      <td>1.704166</td>\n",
       "    </tr>\n",
       "    <tr>\n",
       "      <th>997</th>\n",
       "      <td>-1.042557</td>\n",
       "      <td>False</td>\n",
       "      <td>-2.186134</td>\n",
       "      <td>0.904775</td>\n",
       "      <td>1.105247</td>\n",
       "    </tr>\n",
       "    <tr>\n",
       "      <th>998</th>\n",
       "      <td>-0.543355</td>\n",
       "      <td>False</td>\n",
       "      <td>-1.303044</td>\n",
       "      <td>0.773415</td>\n",
       "      <td>1.292968</td>\n",
       "    </tr>\n",
       "    <tr>\n",
       "      <th>999</th>\n",
       "      <td>-0.034152</td>\n",
       "      <td>False</td>\n",
       "      <td>1.316610</td>\n",
       "      <td>0.545729</td>\n",
       "      <td>1.832412</td>\n",
       "    </tr>\n",
       "  </tbody>\n",
       "</table>\n",
       "<p>1000 rows × 5 columns</p>\n",
       "</div>"
      ],
      "text/plain": [
       "           W0     v0         y  propensity_score    weight\n",
       "0    0.148031  False  0.875857          0.452595  2.209481\n",
       "1   -0.600254  False  0.804159          0.793209  1.260701\n",
       "2   -0.274073  False  0.665439          0.662723  1.508925\n",
       "3   -2.808617  False -6.992017          0.997194  1.002814\n",
       "4   -0.319423  False -0.390810          0.683187  1.463728\n",
       "..        ...    ...       ...               ...       ...\n",
       "995 -0.007980  False -1.414139          0.532393  1.878311\n",
       "996 -0.115737  False  0.010407          0.586797  1.704166\n",
       "997 -1.042557  False -2.186134          0.904775  1.105247\n",
       "998 -0.543355  False -1.303044          0.773415  1.292968\n",
       "999 -0.034152  False  1.316610          0.545729  1.832412\n",
       "\n",
       "[1000 rows x 5 columns]"
      ]
     },
     "execution_count": 6,
     "metadata": {},
     "output_type": "execute_result"
    }
   ],
   "source": [
    "cdf_0"
   ]
  },
  {
   "cell_type": "code",
   "execution_count": 7,
   "metadata": {
    "execution": {
     "iopub.execute_input": "2022-08-23T12:26:45.385283Z",
     "iopub.status.busy": "2022-08-23T12:26:45.384896Z",
     "iopub.status.idle": "2022-08-23T12:26:45.396669Z",
     "shell.execute_reply": "2022-08-23T12:26:45.395923Z"
    }
   },
   "outputs": [
    {
     "data": {
      "text/html": [
       "<div>\n",
       "<style scoped>\n",
       "    .dataframe tbody tr th:only-of-type {\n",
       "        vertical-align: middle;\n",
       "    }\n",
       "\n",
       "    .dataframe tbody tr th {\n",
       "        vertical-align: top;\n",
       "    }\n",
       "\n",
       "    .dataframe thead th {\n",
       "        text-align: right;\n",
       "    }\n",
       "</style>\n",
       "<table border=\"1\" class=\"dataframe\">\n",
       "  <thead>\n",
       "    <tr style=\"text-align: right;\">\n",
       "      <th></th>\n",
       "      <th>W0</th>\n",
       "      <th>v0</th>\n",
       "      <th>y</th>\n",
       "      <th>propensity_score</th>\n",
       "      <th>weight</th>\n",
       "    </tr>\n",
       "  </thead>\n",
       "  <tbody>\n",
       "    <tr>\n",
       "      <th>0</th>\n",
       "      <td>-1.512708</td>\n",
       "      <td>True</td>\n",
       "      <td>1.909793</td>\n",
       "      <td>0.038582</td>\n",
       "      <td>25.918873</td>\n",
       "    </tr>\n",
       "    <tr>\n",
       "      <th>1</th>\n",
       "      <td>-1.658949</td>\n",
       "      <td>True</td>\n",
       "      <td>0.506007</td>\n",
       "      <td>0.028873</td>\n",
       "      <td>34.633887</td>\n",
       "    </tr>\n",
       "    <tr>\n",
       "      <th>2</th>\n",
       "      <td>-0.818655</td>\n",
       "      <td>True</td>\n",
       "      <td>1.517149</td>\n",
       "      <td>0.142794</td>\n",
       "      <td>7.003085</td>\n",
       "    </tr>\n",
       "    <tr>\n",
       "      <th>3</th>\n",
       "      <td>0.699361</td>\n",
       "      <td>True</td>\n",
       "      <td>5.398955</td>\n",
       "      <td>0.789323</td>\n",
       "      <td>1.266909</td>\n",
       "    </tr>\n",
       "    <tr>\n",
       "      <th>4</th>\n",
       "      <td>0.666927</td>\n",
       "      <td>True</td>\n",
       "      <td>3.703586</td>\n",
       "      <td>0.778049</td>\n",
       "      <td>1.285266</td>\n",
       "    </tr>\n",
       "    <tr>\n",
       "      <th>...</th>\n",
       "      <td>...</td>\n",
       "      <td>...</td>\n",
       "      <td>...</td>\n",
       "      <td>...</td>\n",
       "      <td>...</td>\n",
       "    </tr>\n",
       "    <tr>\n",
       "      <th>995</th>\n",
       "      <td>-1.658949</td>\n",
       "      <td>True</td>\n",
       "      <td>0.506007</td>\n",
       "      <td>0.028873</td>\n",
       "      <td>34.633887</td>\n",
       "    </tr>\n",
       "    <tr>\n",
       "      <th>996</th>\n",
       "      <td>-0.015469</td>\n",
       "      <td>True</td>\n",
       "      <td>4.786290</td>\n",
       "      <td>0.463786</td>\n",
       "      <td>2.156169</td>\n",
       "    </tr>\n",
       "    <tr>\n",
       "      <th>997</th>\n",
       "      <td>-0.840291</td>\n",
       "      <td>True</td>\n",
       "      <td>3.210501</td>\n",
       "      <td>0.137449</td>\n",
       "      <td>7.275446</td>\n",
       "    </tr>\n",
       "    <tr>\n",
       "      <th>998</th>\n",
       "      <td>-0.881453</td>\n",
       "      <td>True</td>\n",
       "      <td>3.088680</td>\n",
       "      <td>0.127744</td>\n",
       "      <td>7.828180</td>\n",
       "    </tr>\n",
       "    <tr>\n",
       "      <th>999</th>\n",
       "      <td>-0.546120</td>\n",
       "      <td>True</td>\n",
       "      <td>4.689497</td>\n",
       "      <td>0.225593</td>\n",
       "      <td>4.432758</td>\n",
       "    </tr>\n",
       "  </tbody>\n",
       "</table>\n",
       "<p>1000 rows × 5 columns</p>\n",
       "</div>"
      ],
      "text/plain": [
       "           W0    v0         y  propensity_score     weight\n",
       "0   -1.512708  True  1.909793          0.038582  25.918873\n",
       "1   -1.658949  True  0.506007          0.028873  34.633887\n",
       "2   -0.818655  True  1.517149          0.142794   7.003085\n",
       "3    0.699361  True  5.398955          0.789323   1.266909\n",
       "4    0.666927  True  3.703586          0.778049   1.285266\n",
       "..        ...   ...       ...               ...        ...\n",
       "995 -1.658949  True  0.506007          0.028873  34.633887\n",
       "996 -0.015469  True  4.786290          0.463786   2.156169\n",
       "997 -0.840291  True  3.210501          0.137449   7.275446\n",
       "998 -0.881453  True  3.088680          0.127744   7.828180\n",
       "999 -0.546120  True  4.689497          0.225593   4.432758\n",
       "\n",
       "[1000 rows x 5 columns]"
      ]
     },
     "execution_count": 7,
     "metadata": {},
     "output_type": "execute_result"
    }
   ],
   "source": [
    "cdf_1"
   ]
  },
  {
   "cell_type": "markdown",
   "metadata": {},
   "source": [
    "## Comparing the estimate to Linear Regression\n",
    "First, estimating the effect using the causal data frame, and the 95% confidence interval."
   ]
  },
  {
   "cell_type": "code",
   "execution_count": 8,
   "metadata": {
    "execution": {
     "iopub.execute_input": "2022-08-23T12:26:45.400020Z",
     "iopub.status.busy": "2022-08-23T12:26:45.399758Z",
     "iopub.status.idle": "2022-08-23T12:26:45.520765Z",
     "shell.execute_reply": "2022-08-23T12:26:45.519674Z"
    }
   },
   "outputs": [
    {
     "data": {
      "image/png": "[encoded data removed]",
      "text/latex": [
       "$\\displaystyle 5.24615773022491$"
      ],
      "text/plain": [
       "5.246157730224914"
      ]
     },
     "execution_count": 8,
     "metadata": {},
     "output_type": "execute_result"
    }
   ],
   "source": [
    "(cdf_1['y'] - cdf_0['y']).mean()"
   ]
  },
  {
   "cell_type": "code",
   "execution_count": 9,
   "metadata": {
    "execution": {
     "iopub.execute_input": "2022-08-23T12:26:45.524840Z",
     "iopub.status.busy": "2022-08-23T12:26:45.524189Z",
     "iopub.status.idle": "2022-08-23T12:26:45.555202Z",
     "shell.execute_reply": "2022-08-23T12:26:45.554392Z"
    }
   },
   "outputs": [
    {
     "data": {
      "image/png": "[encoded data removed]",
      "text/latex": [
       "$\\displaystyle 0.171782803104937$"
      ],
      "text/plain": [
       "0.17178280310493685"
      ]
     },
     "execution_count": 9,
     "metadata": {},
     "output_type": "execute_result"
    }
   ],
   "source": [
    "1.96*(cdf_1['y'] - cdf_0['y']).std() / np.sqrt(len(df))"
   ]
  },
  {
   "cell_type": "markdown",
   "metadata": {},
   "source": [
    "Comparing to the estimate from OLS."
   ]
  },
  {
   "cell_type": "code",
   "execution_count": 10,
   "metadata": {
    "execution": {
     "iopub.execute_input": "2022-08-23T12:26:45.559654Z",
     "iopub.status.busy": "2022-08-23T12:26:45.559034Z",
     "iopub.status.idle": "2022-08-23T12:26:45.578797Z",
     "shell.execute_reply": "2022-08-23T12:26:45.578108Z"
    }
   },
   "outputs": [
    {
     "data": {
      "text/html": [
       "<table class=\"simpletable\">\n",
       "<caption>OLS Regression Results</caption>\n",
       "<tr>\n",
       "  <th>Dep. Variable:</th>            <td>y</td>        <th>  R-squared (uncentered):</th>      <td>   0.936</td>\n",
       "</tr>\n",
       "<tr>\n",
       "  <th>Model:</th>                   <td>OLS</td>       <th>  Adj. R-squared (uncentered):</th> <td>   0.936</td>\n",
       "</tr>\n",
       "<tr>\n",
       "  <th>Method:</th>             <td>Least Squares</td>  <th>  F-statistic:       </th>          <td>   7271.</td>\n",
       "</tr>\n",
       "<tr>\n",
       "  <th>Date:</th>             <td>Tue, 23 Aug 2022</td> <th>  Prob (F-statistic):</th>           <td>  0.00</td> \n",
       "</tr>\n",
       "<tr>\n",
       "  <th>Time:</th>                 <td>12:26:45</td>     <th>  Log-Likelihood:    </th>          <td> -1401.8</td>\n",
       "</tr>\n",
       "<tr>\n",
       "  <th>No. Observations:</th>      <td>  1000</td>      <th>  AIC:               </th>          <td>   2808.</td>\n",
       "</tr>\n",
       "<tr>\n",
       "  <th>Df Residuals:</th>          <td>   998</td>      <th>  BIC:               </th>          <td>   2817.</td>\n",
       "</tr>\n",
       "<tr>\n",
       "  <th>Df Model:</th>              <td>     2</td>      <th>                     </th>              <td> </td>   \n",
       "</tr>\n",
       "<tr>\n",
       "  <th>Covariance Type:</th>      <td>nonrobust</td>    <th>                     </th>              <td> </td>   \n",
       "</tr>\n",
       "</table>\n",
       "<table class=\"simpletable\">\n",
       "<tr>\n",
       "   <td></td>     <th>coef</th>     <th>std err</th>      <th>t</th>      <th>P>|t|</th>  <th>[0.025</th>    <th>0.975]</th>  \n",
       "</tr>\n",
       "<tr>\n",
       "  <th>x1</th> <td>    1.9373</td> <td>    0.026</td> <td>   74.164</td> <td> 0.000</td> <td>    1.886</td> <td>    1.989</td>\n",
       "</tr>\n",
       "<tr>\n",
       "  <th>x2</th> <td>    4.9980</td> <td>    0.058</td> <td>   86.753</td> <td> 0.000</td> <td>    4.885</td> <td>    5.111</td>\n",
       "</tr>\n",
       "</table>\n",
       "<table class=\"simpletable\">\n",
       "<tr>\n",
       "  <th>Omnibus:</th>       <td> 9.879</td> <th>  Durbin-Watson:     </th> <td>   1.989</td>\n",
       "</tr>\n",
       "<tr>\n",
       "  <th>Prob(Omnibus):</th> <td> 0.007</td> <th>  Jarque-Bera (JB):  </th> <td>  14.478</td>\n",
       "</tr>\n",
       "<tr>\n",
       "  <th>Skew:</th>          <td>-0.036</td> <th>  Prob(JB):          </th> <td>0.000718</td>\n",
       "</tr>\n",
       "<tr>\n",
       "  <th>Kurtosis:</th>      <td> 3.585</td> <th>  Cond. No.          </th> <td>    2.22</td>\n",
       "</tr>\n",
       "</table><br/><br/>Notes:<br/>[1] R² is computed without centering (uncentered) since the model does not contain a constant.<br/>[2] Standard Errors assume that the covariance matrix of the errors is correctly specified."
      ],
      "text/plain": [
       "<class 'statsmodels.iolib.summary.Summary'>\n",
       "\"\"\"\n",
       "                                 OLS Regression Results                                \n",
       "=======================================================================================\n",
       "Dep. Variable:                      y   R-squared (uncentered):                   0.936\n",
       "Model:                            OLS   Adj. R-squared (uncentered):              0.936\n",
       "Method:                 Least Squares   F-statistic:                              7271.\n",
       "Date:                Tue, 23 Aug 2022   Prob (F-statistic):                        0.00\n",
       "Time:                        12:26:45   Log-Likelihood:                         -1401.8\n",
       "No. Observations:                1000   AIC:                                      2808.\n",
       "Df Residuals:                     998   BIC:                                      2817.\n",
       "Df Model:                           2                                                  \n",
       "Covariance Type:            nonrobust                                                  \n",
       "==============================================================================\n",
       "                 coef    std err          t      P>|t|      [0.025      0.975]\n",
       "------------------------------------------------------------------------------\n",
       "x1             1.9373      0.026     74.164      0.000       1.886       1.989\n",
       "x2             4.9980      0.058     86.753      0.000       4.885       5.111\n",
       "==============================================================================\n",
       "Omnibus:                        9.879   Durbin-Watson:                   1.989\n",
       "Prob(Omnibus):                  0.007   Jarque-Bera (JB):               14.478\n",
       "Skew:                          -0.036   Prob(JB):                     0.000718\n",
       "Kurtosis:                       3.585   Cond. No.                         2.22\n",
       "==============================================================================\n",
       "\n",
       "Notes:\n",
       "[1] R² is computed without centering (uncentered) since the model does not contain a constant.\n",
       "[2] Standard Errors assume that the covariance matrix of the errors is correctly specified.\n",
       "\"\"\""
      ]
     },
     "execution_count": 10,
     "metadata": {},
     "output_type": "execute_result"
    }
   ],
   "source": [
    "model = OLS(np.asarray(df[outcome]), np.asarray(df[[common_cause, treatment]], dtype=np.float64))\n",
    "result = model.fit()\n",
    "result.summary()"
   ]
  }
 ],
 "metadata": {
  "kernelspec": {
   "display_name": "Python 3",
   "language": "python",
   "name": "python3"
  },
  "language_info": {
   "codemirror_mode": {
    "name": "ipython",
    "version": 3
   },
   "file_extension": ".py",
   "mimetype": "text/x-python",
   "name": "python",
   "nbconvert_exporter": "python",
   "pygments_lexer": "ipython3",
   "version": "3.8.10"
  },
  "toc": {
   "base_numbering": 1,
   "nav_menu": {},
   "number_sections": false,
   "sideBar": true,
   "skip_h1_title": true,
   "title_cell": "Table of Contents",
   "title_sidebar": "Contents",
   "toc_cell": false,
   "toc_position": {},
   "toc_section_display": true,
   "toc_window_display": false
  }
 },
 "nbformat": 4,
 "nbformat_minor": 4
}
