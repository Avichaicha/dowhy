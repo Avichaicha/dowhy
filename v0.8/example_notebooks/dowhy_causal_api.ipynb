{
 "cells": [
  {
   "cell_type": "markdown",
   "metadata": {},
   "source": [
    "# Demo for the DoWhy causal API\n",
    "We show a simple example of adding a causal extension to any dataframe. "
   ]
  },
  {
   "cell_type": "code",
   "execution_count": 1,
   "metadata": {
    "execution": {
     "iopub.execute_input": "2022-08-13T02:01:59.881798Z",
     "iopub.status.busy": "2022-08-13T02:01:59.881483Z",
     "iopub.status.idle": "2022-08-13T02:02:01.028542Z",
     "shell.execute_reply": "2022-08-13T02:02:01.027786Z"
    }
   },
   "outputs": [],
   "source": [
    "import dowhy.datasets\n",
    "import dowhy.api\n",
    "\n",
    "import numpy as np\n",
    "import pandas as pd\n",
    "\n",
    "from statsmodels.api import OLS"
   ]
  },
  {
   "cell_type": "code",
   "execution_count": 2,
   "metadata": {
    "execution": {
     "iopub.execute_input": "2022-08-13T02:02:01.032896Z",
     "iopub.status.busy": "2022-08-13T02:02:01.032499Z",
     "iopub.status.idle": "2022-08-13T02:02:01.076718Z",
     "shell.execute_reply": "2022-08-13T02:02:01.076041Z"
    }
   },
   "outputs": [
    {
     "data": {
      "text/html": [
       "<div>\n",
       "<style scoped>\n",
       "    .dataframe tbody tr th:only-of-type {\n",
       "        vertical-align: middle;\n",
       "    }\n",
       "\n",
       "    .dataframe tbody tr th {\n",
       "        vertical-align: top;\n",
       "    }\n",
       "\n",
       "    .dataframe thead th {\n",
       "        text-align: right;\n",
       "    }\n",
       "</style>\n",
       "<table border=\"1\" class=\"dataframe\">\n",
       "  <thead>\n",
       "    <tr style=\"text-align: right;\">\n",
       "      <th></th>\n",
       "      <th>W0</th>\n",
       "      <th>v0</th>\n",
       "      <th>y</th>\n",
       "    </tr>\n",
       "  </thead>\n",
       "  <tbody>\n",
       "    <tr>\n",
       "      <th>0</th>\n",
       "      <td>-0.112449</td>\n",
       "      <td>True</td>\n",
       "      <td>5.797450</td>\n",
       "    </tr>\n",
       "    <tr>\n",
       "      <th>1</th>\n",
       "      <td>-0.677125</td>\n",
       "      <td>True</td>\n",
       "      <td>3.838380</td>\n",
       "    </tr>\n",
       "    <tr>\n",
       "      <th>2</th>\n",
       "      <td>-0.695241</td>\n",
       "      <td>True</td>\n",
       "      <td>3.620365</td>\n",
       "    </tr>\n",
       "    <tr>\n",
       "      <th>3</th>\n",
       "      <td>2.075776</td>\n",
       "      <td>True</td>\n",
       "      <td>8.163674</td>\n",
       "    </tr>\n",
       "    <tr>\n",
       "      <th>4</th>\n",
       "      <td>3.092924</td>\n",
       "      <td>False</td>\n",
       "      <td>6.162368</td>\n",
       "    </tr>\n",
       "    <tr>\n",
       "      <th>...</th>\n",
       "      <td>...</td>\n",
       "      <td>...</td>\n",
       "      <td>...</td>\n",
       "    </tr>\n",
       "    <tr>\n",
       "      <th>995</th>\n",
       "      <td>0.531328</td>\n",
       "      <td>True</td>\n",
       "      <td>4.667746</td>\n",
       "    </tr>\n",
       "    <tr>\n",
       "      <th>996</th>\n",
       "      <td>1.426394</td>\n",
       "      <td>True</td>\n",
       "      <td>8.728339</td>\n",
       "    </tr>\n",
       "    <tr>\n",
       "      <th>997</th>\n",
       "      <td>1.185393</td>\n",
       "      <td>False</td>\n",
       "      <td>2.244934</td>\n",
       "    </tr>\n",
       "    <tr>\n",
       "      <th>998</th>\n",
       "      <td>-0.768561</td>\n",
       "      <td>True</td>\n",
       "      <td>4.260798</td>\n",
       "    </tr>\n",
       "    <tr>\n",
       "      <th>999</th>\n",
       "      <td>0.988640</td>\n",
       "      <td>True</td>\n",
       "      <td>5.572490</td>\n",
       "    </tr>\n",
       "  </tbody>\n",
       "</table>\n",
       "<p>1000 rows × 3 columns</p>\n",
       "</div>"
      ],
      "text/plain": [
       "           W0     v0         y\n",
       "0   -0.112449   True  5.797450\n",
       "1   -0.677125   True  3.838380\n",
       "2   -0.695241   True  3.620365\n",
       "3    2.075776   True  8.163674\n",
       "4    3.092924  False  6.162368\n",
       "..        ...    ...       ...\n",
       "995  0.531328   True  4.667746\n",
       "996  1.426394   True  8.728339\n",
       "997  1.185393  False  2.244934\n",
       "998 -0.768561   True  4.260798\n",
       "999  0.988640   True  5.572490\n",
       "\n",
       "[1000 rows x 3 columns]"
      ]
     },
     "execution_count": 2,
     "metadata": {},
     "output_type": "execute_result"
    }
   ],
   "source": [
    "data = dowhy.datasets.linear_dataset(beta=5,\n",
    "        num_common_causes=1,\n",
    "        num_instruments = 0,\n",
    "        num_samples=1000,\n",
    "        treatment_is_binary=True)\n",
    "df = data['df']\n",
    "df['y'] = df['y'] + np.random.normal(size=len(df)) # Adding noise to data. Without noise, the variance in Y|X, Z is zero, and mcmc fails.\n",
    "#data['dot_graph'] = 'digraph { v ->y;X0-> v;X0-> y;}'\n",
    "\n",
    "treatment= data[\"treatment_name\"][0]\n",
    "outcome = data[\"outcome_name\"][0]\n",
    "common_cause = data[\"common_causes_names\"][0]\n",
    "df"
   ]
  },
  {
   "cell_type": "code",
   "execution_count": 3,
   "metadata": {
    "execution": {
     "iopub.execute_input": "2022-08-13T02:02:01.080123Z",
     "iopub.status.busy": "2022-08-13T02:02:01.079715Z",
     "iopub.status.idle": "2022-08-13T02:02:01.824032Z",
     "shell.execute_reply": "2022-08-13T02:02:01.823370Z"
    }
   },
   "outputs": [
    {
     "data": {
      "text/plain": [
       "<AxesSubplot:xlabel='v0'>"
      ]
     },
     "execution_count": 3,
     "metadata": {},
     "output_type": "execute_result"
    },
    {
     "data": {
      "image/png": "[encoded data removed]",
      "text/plain": [
       "<Figure size 432x288 with 1 Axes>"
      ]
     },
     "metadata": {
      "needs_background": "light"
     },
     "output_type": "display_data"
    }
   ],
   "source": [
    "# data['df'] is just a regular pandas.DataFrame\n",
    "df.causal.do(x=treatment,\n",
    "                     variable_types={treatment: 'b', outcome: 'c', common_cause: 'c'},\n",
    "                     outcome=outcome,\n",
    "                     common_causes=[common_cause],\n",
    "                     proceed_when_unidentifiable=True).groupby(treatment).mean().plot(y=outcome, kind='bar')"
   ]
  },
  {
   "cell_type": "code",
   "execution_count": 4,
   "metadata": {
    "execution": {
     "iopub.execute_input": "2022-08-13T02:02:01.828015Z",
     "iopub.status.busy": "2022-08-13T02:02:01.827599Z",
     "iopub.status.idle": "2022-08-13T02:02:01.931069Z",
     "shell.execute_reply": "2022-08-13T02:02:01.930507Z"
    }
   },
   "outputs": [
    {
     "data": {
      "text/plain": [
       "<AxesSubplot:xlabel='v0'>"
      ]
     },
     "execution_count": 4,
     "metadata": {},
     "output_type": "execute_result"
    },
    {
     "data": {
      "image/png": "[encoded data removed]",
      "text/plain": [
       "<Figure size 432x288 with 1 Axes>"
      ]
     },
     "metadata": {
      "needs_background": "light"
     },
     "output_type": "display_data"
    }
   ],
   "source": [
    "df.causal.do(x={treatment: 1}, \n",
    "              variable_types={treatment:'b', outcome: 'c', common_cause: 'c'}, \n",
    "              outcome=outcome,\n",
    "              method='weighting', \n",
    "              common_causes=[common_cause],\n",
    "              proceed_when_unidentifiable=True).groupby(treatment).mean().plot(y=outcome, kind='bar')"
   ]
  },
  {
   "cell_type": "code",
   "execution_count": 5,
   "metadata": {
    "execution": {
     "iopub.execute_input": "2022-08-13T02:02:01.935465Z",
     "iopub.status.busy": "2022-08-13T02:02:01.934471Z",
     "iopub.status.idle": "2022-08-13T02:02:01.967454Z",
     "shell.execute_reply": "2022-08-13T02:02:01.966745Z"
    }
   },
   "outputs": [],
   "source": [
    "cdf_1 = df.causal.do(x={treatment: 1}, \n",
    "              variable_types={treatment: 'b', outcome: 'c', common_cause: 'c'}, \n",
    "              outcome=outcome, \n",
    "              dot_graph=data['dot_graph'],\n",
    "              proceed_when_unidentifiable=True)\n",
    "\n",
    "cdf_0 = df.causal.do(x={treatment: 0}, \n",
    "              variable_types={treatment: 'b', outcome: 'c', common_cause: 'c'}, \n",
    "              outcome=outcome, \n",
    "              dot_graph=data['dot_graph'],\n",
    "              proceed_when_unidentifiable=True)\n"
   ]
  },
  {
   "cell_type": "code",
   "execution_count": 6,
   "metadata": {
    "execution": {
     "iopub.execute_input": "2022-08-13T02:02:01.971381Z",
     "iopub.status.busy": "2022-08-13T02:02:01.970974Z",
     "iopub.status.idle": "2022-08-13T02:02:01.982758Z",
     "shell.execute_reply": "2022-08-13T02:02:01.982245Z"
    },
    "scrolled": true
   },
   "outputs": [
    {
     "data": {
      "text/html": [
       "<div>\n",
       "<style scoped>\n",
       "    .dataframe tbody tr th:only-of-type {\n",
       "        vertical-align: middle;\n",
       "    }\n",
       "\n",
       "    .dataframe tbody tr th {\n",
       "        vertical-align: top;\n",
       "    }\n",
       "\n",
       "    .dataframe thead th {\n",
       "        text-align: right;\n",
       "    }\n",
       "</style>\n",
       "<table border=\"1\" class=\"dataframe\">\n",
       "  <thead>\n",
       "    <tr style=\"text-align: right;\">\n",
       "      <th></th>\n",
       "      <th>W0</th>\n",
       "      <th>v0</th>\n",
       "      <th>y</th>\n",
       "      <th>propensity_score</th>\n",
       "      <th>weight</th>\n",
       "    </tr>\n",
       "  </thead>\n",
       "  <tbody>\n",
       "    <tr>\n",
       "      <th>0</th>\n",
       "      <td>0.171226</td>\n",
       "      <td>False</td>\n",
       "      <td>-0.210401</td>\n",
       "      <td>0.496312</td>\n",
       "      <td>2.014862</td>\n",
       "    </tr>\n",
       "    <tr>\n",
       "      <th>1</th>\n",
       "      <td>0.851290</td>\n",
       "      <td>False</td>\n",
       "      <td>2.565760</td>\n",
       "      <td>0.499079</td>\n",
       "      <td>2.003691</td>\n",
       "    </tr>\n",
       "    <tr>\n",
       "      <th>2</th>\n",
       "      <td>2.163313</td>\n",
       "      <td>False</td>\n",
       "      <td>3.018790</td>\n",
       "      <td>0.504417</td>\n",
       "      <td>1.982486</td>\n",
       "    </tr>\n",
       "    <tr>\n",
       "      <th>3</th>\n",
       "      <td>0.587099</td>\n",
       "      <td>False</td>\n",
       "      <td>2.439630</td>\n",
       "      <td>0.498004</td>\n",
       "      <td>2.008016</td>\n",
       "    </tr>\n",
       "    <tr>\n",
       "      <th>4</th>\n",
       "      <td>-0.536517</td>\n",
       "      <td>False</td>\n",
       "      <td>-0.615344</td>\n",
       "      <td>0.493433</td>\n",
       "      <td>2.026619</td>\n",
       "    </tr>\n",
       "    <tr>\n",
       "      <th>...</th>\n",
       "      <td>...</td>\n",
       "      <td>...</td>\n",
       "      <td>...</td>\n",
       "      <td>...</td>\n",
       "      <td>...</td>\n",
       "    </tr>\n",
       "    <tr>\n",
       "      <th>995</th>\n",
       "      <td>-0.292366</td>\n",
       "      <td>False</td>\n",
       "      <td>-1.129458</td>\n",
       "      <td>0.494426</td>\n",
       "      <td>2.022548</td>\n",
       "    </tr>\n",
       "    <tr>\n",
       "      <th>996</th>\n",
       "      <td>1.669871</td>\n",
       "      <td>False</td>\n",
       "      <td>1.499453</td>\n",
       "      <td>0.502409</td>\n",
       "      <td>1.990408</td>\n",
       "    </tr>\n",
       "    <tr>\n",
       "      <th>997</th>\n",
       "      <td>-1.021532</td>\n",
       "      <td>False</td>\n",
       "      <td>-0.876728</td>\n",
       "      <td>0.491460</td>\n",
       "      <td>2.034755</td>\n",
       "    </tr>\n",
       "    <tr>\n",
       "      <th>998</th>\n",
       "      <td>-0.725833</td>\n",
       "      <td>False</td>\n",
       "      <td>-2.131689</td>\n",
       "      <td>0.492662</td>\n",
       "      <td>2.029788</td>\n",
       "    </tr>\n",
       "    <tr>\n",
       "      <th>999</th>\n",
       "      <td>2.359010</td>\n",
       "      <td>False</td>\n",
       "      <td>3.311134</td>\n",
       "      <td>0.505213</td>\n",
       "      <td>1.979362</td>\n",
       "    </tr>\n",
       "  </tbody>\n",
       "</table>\n",
       "<p>1000 rows × 5 columns</p>\n",
       "</div>"
      ],
      "text/plain": [
       "           W0     v0         y  propensity_score    weight\n",
       "0    0.171226  False -0.210401          0.496312  2.014862\n",
       "1    0.851290  False  2.565760          0.499079  2.003691\n",
       "2    2.163313  False  3.018790          0.504417  1.982486\n",
       "3    0.587099  False  2.439630          0.498004  2.008016\n",
       "4   -0.536517  False -0.615344          0.493433  2.026619\n",
       "..        ...    ...       ...               ...       ...\n",
       "995 -0.292366  False -1.129458          0.494426  2.022548\n",
       "996  1.669871  False  1.499453          0.502409  1.990408\n",
       "997 -1.021532  False -0.876728          0.491460  2.034755\n",
       "998 -0.725833  False -2.131689          0.492662  2.029788\n",
       "999  2.359010  False  3.311134          0.505213  1.979362\n",
       "\n",
       "[1000 rows x 5 columns]"
      ]
     },
     "execution_count": 6,
     "metadata": {},
     "output_type": "execute_result"
    }
   ],
   "source": [
    "cdf_0"
   ]
  },
  {
   "cell_type": "code",
   "execution_count": 7,
   "metadata": {
    "execution": {
     "iopub.execute_input": "2022-08-13T02:02:01.985627Z",
     "iopub.status.busy": "2022-08-13T02:02:01.985169Z",
     "iopub.status.idle": "2022-08-13T02:02:01.995248Z",
     "shell.execute_reply": "2022-08-13T02:02:01.994630Z"
    }
   },
   "outputs": [
    {
     "data": {
      "text/html": [
       "<div>\n",
       "<style scoped>\n",
       "    .dataframe tbody tr th:only-of-type {\n",
       "        vertical-align: middle;\n",
       "    }\n",
       "\n",
       "    .dataframe tbody tr th {\n",
       "        vertical-align: top;\n",
       "    }\n",
       "\n",
       "    .dataframe thead th {\n",
       "        text-align: right;\n",
       "    }\n",
       "</style>\n",
       "<table border=\"1\" class=\"dataframe\">\n",
       "  <thead>\n",
       "    <tr style=\"text-align: right;\">\n",
       "      <th></th>\n",
       "      <th>W0</th>\n",
       "      <th>v0</th>\n",
       "      <th>y</th>\n",
       "      <th>propensity_score</th>\n",
       "      <th>weight</th>\n",
       "    </tr>\n",
       "  </thead>\n",
       "  <tbody>\n",
       "    <tr>\n",
       "      <th>0</th>\n",
       "      <td>0.540567</td>\n",
       "      <td>True</td>\n",
       "      <td>5.507358</td>\n",
       "      <td>0.502185</td>\n",
       "      <td>1.991296</td>\n",
       "    </tr>\n",
       "    <tr>\n",
       "      <th>1</th>\n",
       "      <td>1.670308</td>\n",
       "      <td>True</td>\n",
       "      <td>7.785939</td>\n",
       "      <td>0.497589</td>\n",
       "      <td>2.009692</td>\n",
       "    </tr>\n",
       "    <tr>\n",
       "      <th>2</th>\n",
       "      <td>1.797658</td>\n",
       "      <td>True</td>\n",
       "      <td>7.896187</td>\n",
       "      <td>0.497071</td>\n",
       "      <td>2.011787</td>\n",
       "    </tr>\n",
       "    <tr>\n",
       "      <th>3</th>\n",
       "      <td>2.484465</td>\n",
       "      <td>True</td>\n",
       "      <td>8.629853</td>\n",
       "      <td>0.494276</td>\n",
       "      <td>2.023160</td>\n",
       "    </tr>\n",
       "    <tr>\n",
       "      <th>4</th>\n",
       "      <td>-0.521330</td>\n",
       "      <td>True</td>\n",
       "      <td>3.454642</td>\n",
       "      <td>0.506506</td>\n",
       "      <td>1.974312</td>\n",
       "    </tr>\n",
       "    <tr>\n",
       "      <th>...</th>\n",
       "      <td>...</td>\n",
       "      <td>...</td>\n",
       "      <td>...</td>\n",
       "      <td>...</td>\n",
       "      <td>...</td>\n",
       "    </tr>\n",
       "    <tr>\n",
       "      <th>995</th>\n",
       "      <td>0.011707</td>\n",
       "      <td>True</td>\n",
       "      <td>4.584600</td>\n",
       "      <td>0.504337</td>\n",
       "      <td>1.982801</td>\n",
       "    </tr>\n",
       "    <tr>\n",
       "      <th>996</th>\n",
       "      <td>-0.027784</td>\n",
       "      <td>True</td>\n",
       "      <td>4.863627</td>\n",
       "      <td>0.504498</td>\n",
       "      <td>1.982169</td>\n",
       "    </tr>\n",
       "    <tr>\n",
       "      <th>997</th>\n",
       "      <td>0.474427</td>\n",
       "      <td>True</td>\n",
       "      <td>4.601139</td>\n",
       "      <td>0.502455</td>\n",
       "      <td>1.990230</td>\n",
       "    </tr>\n",
       "    <tr>\n",
       "      <th>998</th>\n",
       "      <td>-0.029462</td>\n",
       "      <td>True</td>\n",
       "      <td>7.075096</td>\n",
       "      <td>0.504505</td>\n",
       "      <td>1.982142</td>\n",
       "    </tr>\n",
       "    <tr>\n",
       "      <th>999</th>\n",
       "      <td>2.607127</td>\n",
       "      <td>True</td>\n",
       "      <td>8.820420</td>\n",
       "      <td>0.493777</td>\n",
       "      <td>2.025204</td>\n",
       "    </tr>\n",
       "  </tbody>\n",
       "</table>\n",
       "<p>1000 rows × 5 columns</p>\n",
       "</div>"
      ],
      "text/plain": [
       "           W0    v0         y  propensity_score    weight\n",
       "0    0.540567  True  5.507358          0.502185  1.991296\n",
       "1    1.670308  True  7.785939          0.497589  2.009692\n",
       "2    1.797658  True  7.896187          0.497071  2.011787\n",
       "3    2.484465  True  8.629853          0.494276  2.023160\n",
       "4   -0.521330  True  3.454642          0.506506  1.974312\n",
       "..        ...   ...       ...               ...       ...\n",
       "995  0.011707  True  4.584600          0.504337  1.982801\n",
       "996 -0.027784  True  4.863627          0.504498  1.982169\n",
       "997  0.474427  True  4.601139          0.502455  1.990230\n",
       "998 -0.029462  True  7.075096          0.504505  1.982142\n",
       "999  2.607127  True  8.820420          0.493777  2.025204\n",
       "\n",
       "[1000 rows x 5 columns]"
      ]
     },
     "execution_count": 7,
     "metadata": {},
     "output_type": "execute_result"
    }
   ],
   "source": [
    "cdf_1"
   ]
  },
  {
   "cell_type": "markdown",
   "metadata": {},
   "source": [
    "## Comparing the estimate to Linear Regression\n",
    "First, estimating the effect using the causal data frame, and the 95% confidence interval."
   ]
  },
  {
   "cell_type": "code",
   "execution_count": 8,
   "metadata": {
    "execution": {
     "iopub.execute_input": "2022-08-13T02:02:01.999252Z",
     "iopub.status.busy": "2022-08-13T02:02:01.998680Z",
     "iopub.status.idle": "2022-08-13T02:02:02.091188Z",
     "shell.execute_reply": "2022-08-13T02:02:02.090385Z"
    }
   },
   "outputs": [
    {
     "data": {
      "image/png": "[encoded data removed]",
      "text/latex": [
       "$\\displaystyle 4.94715227176054$"
      ],
      "text/plain": [
       "4.947152271760537"
      ]
     },
     "execution_count": 8,
     "metadata": {},
     "output_type": "execute_result"
    }
   ],
   "source": [
    "(cdf_1['y'] - cdf_0['y']).mean()"
   ]
  },
  {
   "cell_type": "code",
   "execution_count": 9,
   "metadata": {
    "execution": {
     "iopub.execute_input": "2022-08-13T02:02:02.095049Z",
     "iopub.status.busy": "2022-08-13T02:02:02.094612Z",
     "iopub.status.idle": "2022-08-13T02:02:02.119762Z",
     "shell.execute_reply": "2022-08-13T02:02:02.119054Z"
    }
   },
   "outputs": [
    {
     "data": {
      "image/png": "[encoded data removed]",
      "text/latex": [
       "$\\displaystyle 0.167999064370751$"
      ],
      "text/plain": [
       "0.16799906437075135"
      ]
     },
     "execution_count": 9,
     "metadata": {},
     "output_type": "execute_result"
    }
   ],
   "source": [
    "1.96*(cdf_1['y'] - cdf_0['y']).std() / np.sqrt(len(df))"
   ]
  },
  {
   "cell_type": "markdown",
   "metadata": {},
   "source": [
    "Comparing to the estimate from OLS."
   ]
  },
  {
   "cell_type": "code",
   "execution_count": 10,
   "metadata": {
    "execution": {
     "iopub.execute_input": "2022-08-13T02:02:02.123298Z",
     "iopub.status.busy": "2022-08-13T02:02:02.122916Z",
     "iopub.status.idle": "2022-08-13T02:02:02.140017Z",
     "shell.execute_reply": "2022-08-13T02:02:02.139339Z"
    }
   },
   "outputs": [
    {
     "data": {
      "text/html": [
       "<table class=\"simpletable\">\n",
       "<caption>OLS Regression Results</caption>\n",
       "<tr>\n",
       "  <th>Dep. Variable:</th>            <td>y</td>        <th>  R-squared (uncentered):</th>      <td>   0.957</td> \n",
       "</tr>\n",
       "<tr>\n",
       "  <th>Model:</th>                   <td>OLS</td>       <th>  Adj. R-squared (uncentered):</th> <td>   0.956</td> \n",
       "</tr>\n",
       "<tr>\n",
       "  <th>Method:</th>             <td>Least Squares</td>  <th>  F-statistic:       </th>          <td>1.098e+04</td>\n",
       "</tr>\n",
       "<tr>\n",
       "  <th>Date:</th>             <td>Sat, 13 Aug 2022</td> <th>  Prob (F-statistic):</th>           <td>  0.00</td>  \n",
       "</tr>\n",
       "<tr>\n",
       "  <th>Time:</th>                 <td>02:02:02</td>     <th>  Log-Likelihood:    </th>          <td> -1402.0</td> \n",
       "</tr>\n",
       "<tr>\n",
       "  <th>No. Observations:</th>      <td>  1000</td>      <th>  AIC:               </th>          <td>   2808.</td> \n",
       "</tr>\n",
       "<tr>\n",
       "  <th>Df Residuals:</th>          <td>   998</td>      <th>  BIC:               </th>          <td>   2818.</td> \n",
       "</tr>\n",
       "<tr>\n",
       "  <th>Df Model:</th>              <td>     2</td>      <th>                     </th>              <td> </td>    \n",
       "</tr>\n",
       "<tr>\n",
       "  <th>Covariance Type:</th>      <td>nonrobust</td>    <th>                     </th>              <td> </td>    \n",
       "</tr>\n",
       "</table>\n",
       "<table class=\"simpletable\">\n",
       "<tr>\n",
       "   <td></td>     <th>coef</th>     <th>std err</th>      <th>t</th>      <th>P>|t|</th>  <th>[0.025</th>    <th>0.975]</th>  \n",
       "</tr>\n",
       "<tr>\n",
       "  <th>x1</th> <td>    1.6402</td> <td>    0.028</td> <td>   57.919</td> <td> 0.000</td> <td>    1.585</td> <td>    1.696</td>\n",
       "</tr>\n",
       "<tr>\n",
       "  <th>x2</th> <td>    5.0445</td> <td>    0.047</td> <td>  107.614</td> <td> 0.000</td> <td>    4.952</td> <td>    5.136</td>\n",
       "</tr>\n",
       "</table>\n",
       "<table class=\"simpletable\">\n",
       "<tr>\n",
       "  <th>Omnibus:</th>       <td> 4.561</td> <th>  Durbin-Watson:     </th> <td>   2.023</td>\n",
       "</tr>\n",
       "<tr>\n",
       "  <th>Prob(Omnibus):</th> <td> 0.102</td> <th>  Jarque-Bera (JB):  </th> <td>   4.420</td>\n",
       "</tr>\n",
       "<tr>\n",
       "  <th>Skew:</th>          <td> 0.153</td> <th>  Prob(JB):          </th> <td>   0.110</td>\n",
       "</tr>\n",
       "<tr>\n",
       "  <th>Kurtosis:</th>      <td> 3.113</td> <th>  Cond. No.          </th> <td>    1.88</td>\n",
       "</tr>\n",
       "</table><br/><br/>Notes:<br/>[1] R² is computed without centering (uncentered) since the model does not contain a constant.<br/>[2] Standard Errors assume that the covariance matrix of the errors is correctly specified."
      ],
      "text/plain": [
       "<class 'statsmodels.iolib.summary.Summary'>\n",
       "\"\"\"\n",
       "                                 OLS Regression Results                                \n",
       "=======================================================================================\n",
       "Dep. Variable:                      y   R-squared (uncentered):                   0.957\n",
       "Model:                            OLS   Adj. R-squared (uncentered):              0.956\n",
       "Method:                 Least Squares   F-statistic:                          1.098e+04\n",
       "Date:                Sat, 13 Aug 2022   Prob (F-statistic):                        0.00\n",
       "Time:                        02:02:02   Log-Likelihood:                         -1402.0\n",
       "No. Observations:                1000   AIC:                                      2808.\n",
       "Df Residuals:                     998   BIC:                                      2818.\n",
       "Df Model:                           2                                                  \n",
       "Covariance Type:            nonrobust                                                  \n",
       "==============================================================================\n",
       "                 coef    std err          t      P>|t|      [0.025      0.975]\n",
       "------------------------------------------------------------------------------\n",
       "x1             1.6402      0.028     57.919      0.000       1.585       1.696\n",
       "x2             5.0445      0.047    107.614      0.000       4.952       5.136\n",
       "==============================================================================\n",
       "Omnibus:                        4.561   Durbin-Watson:                   2.023\n",
       "Prob(Omnibus):                  0.102   Jarque-Bera (JB):                4.420\n",
       "Skew:                           0.153   Prob(JB):                        0.110\n",
       "Kurtosis:                       3.113   Cond. No.                         1.88\n",
       "==============================================================================\n",
       "\n",
       "Notes:\n",
       "[1] R² is computed without centering (uncentered) since the model does not contain a constant.\n",
       "[2] Standard Errors assume that the covariance matrix of the errors is correctly specified.\n",
       "\"\"\""
      ]
     },
     "execution_count": 10,
     "metadata": {},
     "output_type": "execute_result"
    }
   ],
   "source": [
    "model = OLS(np.asarray(df[outcome]), np.asarray(df[[common_cause, treatment]], dtype=np.float64))\n",
    "result = model.fit()\n",
    "result.summary()"
   ]
  }
 ],
 "metadata": {
  "kernelspec": {
   "display_name": "Python 3",
   "language": "python",
   "name": "python3"
  },
  "language_info": {
   "codemirror_mode": {
    "name": "ipython",
    "version": 3
   },
   "file_extension": ".py",
   "mimetype": "text/x-python",
   "name": "python",
   "nbconvert_exporter": "python",
   "pygments_lexer": "ipython3",
   "version": "3.8.10"
  },
  "toc": {
   "base_numbering": 1,
   "nav_menu": {},
   "number_sections": false,
   "sideBar": true,
   "skip_h1_title": true,
   "title_cell": "Table of Contents",
   "title_sidebar": "Contents",
   "toc_cell": false,
   "toc_position": {},
   "toc_section_display": true,
   "toc_window_display": false
  }
 },
 "nbformat": 4,
 "nbformat_minor": 4
}
