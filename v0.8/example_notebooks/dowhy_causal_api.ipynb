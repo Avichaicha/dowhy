{
 "cells": [
  {
   "cell_type": "markdown",
   "metadata": {},
   "source": [
    "# Demo for the DoWhy causal API\n",
    "We show a simple example of adding a causal extension to any dataframe. "
   ]
  },
  {
   "cell_type": "code",
   "execution_count": 1,
   "metadata": {
    "execution": {
     "iopub.execute_input": "2022-08-03T13:59:34.805378Z",
     "iopub.status.busy": "2022-08-03T13:59:34.805058Z",
     "iopub.status.idle": "2022-08-03T13:59:36.390127Z",
     "shell.execute_reply": "2022-08-03T13:59:36.389139Z"
    }
   },
   "outputs": [
    {
     "name": "stdout",
     "output_type": "stream",
     "text": [
      "keywords are unexpanded, not using\n"
     ]
    }
   ],
   "source": [
    "import dowhy.datasets\n",
    "import dowhy.api\n",
    "\n",
    "import numpy as np\n",
    "import pandas as pd\n",
    "\n",
    "from statsmodels.api import OLS"
   ]
  },
  {
   "cell_type": "code",
   "execution_count": 2,
   "metadata": {
    "execution": {
     "iopub.execute_input": "2022-08-03T13:59:36.398834Z",
     "iopub.status.busy": "2022-08-03T13:59:36.397625Z",
     "iopub.status.idle": "2022-08-03T13:59:36.458290Z",
     "shell.execute_reply": "2022-08-03T13:59:36.457360Z"
    }
   },
   "outputs": [
    {
     "data": {
      "text/html": [
       "<div>\n",
       "<style scoped>\n",
       "    .dataframe tbody tr th:only-of-type {\n",
       "        vertical-align: middle;\n",
       "    }\n",
       "\n",
       "    .dataframe tbody tr th {\n",
       "        vertical-align: top;\n",
       "    }\n",
       "\n",
       "    .dataframe thead th {\n",
       "        text-align: right;\n",
       "    }\n",
       "</style>\n",
       "<table border=\"1\" class=\"dataframe\">\n",
       "  <thead>\n",
       "    <tr style=\"text-align: right;\">\n",
       "      <th></th>\n",
       "      <th>W0</th>\n",
       "      <th>v0</th>\n",
       "      <th>y</th>\n",
       "    </tr>\n",
       "  </thead>\n",
       "  <tbody>\n",
       "    <tr>\n",
       "      <th>0</th>\n",
       "      <td>-2.059921</td>\n",
       "      <td>False</td>\n",
       "      <td>-5.026718</td>\n",
       "    </tr>\n",
       "    <tr>\n",
       "      <th>1</th>\n",
       "      <td>0.330154</td>\n",
       "      <td>False</td>\n",
       "      <td>1.245369</td>\n",
       "    </tr>\n",
       "    <tr>\n",
       "      <th>2</th>\n",
       "      <td>-2.016059</td>\n",
       "      <td>False</td>\n",
       "      <td>-3.782159</td>\n",
       "    </tr>\n",
       "    <tr>\n",
       "      <th>3</th>\n",
       "      <td>-0.917518</td>\n",
       "      <td>False</td>\n",
       "      <td>-1.148860</td>\n",
       "    </tr>\n",
       "    <tr>\n",
       "      <th>4</th>\n",
       "      <td>-0.460827</td>\n",
       "      <td>True</td>\n",
       "      <td>4.071410</td>\n",
       "    </tr>\n",
       "    <tr>\n",
       "      <th>...</th>\n",
       "      <td>...</td>\n",
       "      <td>...</td>\n",
       "      <td>...</td>\n",
       "    </tr>\n",
       "    <tr>\n",
       "      <th>995</th>\n",
       "      <td>-0.438094</td>\n",
       "      <td>False</td>\n",
       "      <td>1.280133</td>\n",
       "    </tr>\n",
       "    <tr>\n",
       "      <th>996</th>\n",
       "      <td>-2.564824</td>\n",
       "      <td>False</td>\n",
       "      <td>-6.593288</td>\n",
       "    </tr>\n",
       "    <tr>\n",
       "      <th>997</th>\n",
       "      <td>-1.131360</td>\n",
       "      <td>False</td>\n",
       "      <td>-2.425343</td>\n",
       "    </tr>\n",
       "    <tr>\n",
       "      <th>998</th>\n",
       "      <td>0.078520</td>\n",
       "      <td>True</td>\n",
       "      <td>4.477583</td>\n",
       "    </tr>\n",
       "    <tr>\n",
       "      <th>999</th>\n",
       "      <td>-1.527099</td>\n",
       "      <td>False</td>\n",
       "      <td>-2.572772</td>\n",
       "    </tr>\n",
       "  </tbody>\n",
       "</table>\n",
       "<p>1000 rows × 3 columns</p>\n",
       "</div>"
      ],
      "text/plain": [
       "           W0     v0         y\n",
       "0   -2.059921  False -5.026718\n",
       "1    0.330154  False  1.245369\n",
       "2   -2.016059  False -3.782159\n",
       "3   -0.917518  False -1.148860\n",
       "4   -0.460827   True  4.071410\n",
       "..        ...    ...       ...\n",
       "995 -0.438094  False  1.280133\n",
       "996 -2.564824  False -6.593288\n",
       "997 -1.131360  False -2.425343\n",
       "998  0.078520   True  4.477583\n",
       "999 -1.527099  False -2.572772\n",
       "\n",
       "[1000 rows x 3 columns]"
      ]
     },
     "execution_count": 2,
     "metadata": {},
     "output_type": "execute_result"
    }
   ],
   "source": [
    "data = dowhy.datasets.linear_dataset(beta=5,\n",
    "        num_common_causes=1,\n",
    "        num_instruments = 0,\n",
    "        num_samples=1000,\n",
    "        treatment_is_binary=True)\n",
    "df = data['df']\n",
    "df['y'] = df['y'] + np.random.normal(size=len(df)) # Adding noise to data. Without noise, the variance in Y|X, Z is zero, and mcmc fails.\n",
    "#data['dot_graph'] = 'digraph { v ->y;X0-> v;X0-> y;}'\n",
    "\n",
    "treatment= data[\"treatment_name\"][0]\n",
    "outcome = data[\"outcome_name\"][0]\n",
    "common_cause = data[\"common_causes_names\"][0]\n",
    "df"
   ]
  },
  {
   "cell_type": "code",
   "execution_count": 3,
   "metadata": {
    "execution": {
     "iopub.execute_input": "2022-08-03T13:59:36.463719Z",
     "iopub.status.busy": "2022-08-03T13:59:36.463222Z",
     "iopub.status.idle": "2022-08-03T13:59:37.489401Z",
     "shell.execute_reply": "2022-08-03T13:59:37.488729Z"
    }
   },
   "outputs": [
    {
     "data": {
      "text/plain": [
       "<AxesSubplot:xlabel='v0'>"
      ]
     },
     "execution_count": 3,
     "metadata": {},
     "output_type": "execute_result"
    },
    {
     "data": {
      "image/png": "[encoded data removed]",
      "text/plain": [
       "<Figure size 432x288 with 1 Axes>"
      ]
     },
     "metadata": {
      "needs_background": "light"
     },
     "output_type": "display_data"
    }
   ],
   "source": [
    "# data['df'] is just a regular pandas.DataFrame\n",
    "df.causal.do(x=treatment,\n",
    "                     variable_types={treatment: 'b', outcome: 'c', common_cause: 'c'},\n",
    "                     outcome=outcome,\n",
    "                     common_causes=[common_cause],\n",
    "                     proceed_when_unidentifiable=True).groupby(treatment).mean().plot(y=outcome, kind='bar')"
   ]
  },
  {
   "cell_type": "code",
   "execution_count": 4,
   "metadata": {
    "execution": {
     "iopub.execute_input": "2022-08-03T13:59:37.493820Z",
     "iopub.status.busy": "2022-08-03T13:59:37.492930Z",
     "iopub.status.idle": "2022-08-03T13:59:37.609853Z",
     "shell.execute_reply": "2022-08-03T13:59:37.609039Z"
    }
   },
   "outputs": [
    {
     "data": {
      "text/plain": [
       "<AxesSubplot:xlabel='v0'>"
      ]
     },
     "execution_count": 4,
     "metadata": {},
     "output_type": "execute_result"
    },
    {
     "data": {
      "image/png": "[encoded data removed]",
      "text/plain": [
       "<Figure size 432x288 with 1 Axes>"
      ]
     },
     "metadata": {
      "needs_background": "light"
     },
     "output_type": "display_data"
    }
   ],
   "source": [
    "df.causal.do(x={treatment: 1}, \n",
    "              variable_types={treatment:'b', outcome: 'c', common_cause: 'c'}, \n",
    "              outcome=outcome,\n",
    "              method='weighting', \n",
    "              common_causes=[common_cause],\n",
    "              proceed_when_unidentifiable=True).groupby(treatment).mean().plot(y=outcome, kind='bar')"
   ]
  },
  {
   "cell_type": "code",
   "execution_count": 5,
   "metadata": {
    "execution": {
     "iopub.execute_input": "2022-08-03T13:59:37.613487Z",
     "iopub.status.busy": "2022-08-03T13:59:37.613203Z",
     "iopub.status.idle": "2022-08-03T13:59:37.665283Z",
     "shell.execute_reply": "2022-08-03T13:59:37.664484Z"
    }
   },
   "outputs": [],
   "source": [
    "cdf_1 = df.causal.do(x={treatment: 1}, \n",
    "              variable_types={treatment: 'b', outcome: 'c', common_cause: 'c'}, \n",
    "              outcome=outcome, \n",
    "              dot_graph=data['dot_graph'],\n",
    "              proceed_when_unidentifiable=True)\n",
    "\n",
    "cdf_0 = df.causal.do(x={treatment: 0}, \n",
    "              variable_types={treatment: 'b', outcome: 'c', common_cause: 'c'}, \n",
    "              outcome=outcome, \n",
    "              dot_graph=data['dot_graph'],\n",
    "              proceed_when_unidentifiable=True)\n"
   ]
  },
  {
   "cell_type": "code",
   "execution_count": 6,
   "metadata": {
    "execution": {
     "iopub.execute_input": "2022-08-03T13:59:37.670020Z",
     "iopub.status.busy": "2022-08-03T13:59:37.669724Z",
     "iopub.status.idle": "2022-08-03T13:59:37.687385Z",
     "shell.execute_reply": "2022-08-03T13:59:37.686573Z"
    },
    "scrolled": true
   },
   "outputs": [
    {
     "data": {
      "text/html": [
       "<div>\n",
       "<style scoped>\n",
       "    .dataframe tbody tr th:only-of-type {\n",
       "        vertical-align: middle;\n",
       "    }\n",
       "\n",
       "    .dataframe tbody tr th {\n",
       "        vertical-align: top;\n",
       "    }\n",
       "\n",
       "    .dataframe thead th {\n",
       "        text-align: right;\n",
       "    }\n",
       "</style>\n",
       "<table border=\"1\" class=\"dataframe\">\n",
       "  <thead>\n",
       "    <tr style=\"text-align: right;\">\n",
       "      <th></th>\n",
       "      <th>W0</th>\n",
       "      <th>v0</th>\n",
       "      <th>y</th>\n",
       "      <th>propensity_score</th>\n",
       "      <th>weight</th>\n",
       "    </tr>\n",
       "  </thead>\n",
       "  <tbody>\n",
       "    <tr>\n",
       "      <th>0</th>\n",
       "      <td>-0.851571</td>\n",
       "      <td>False</td>\n",
       "      <td>-3.234982</td>\n",
       "      <td>0.809244</td>\n",
       "      <td>1.235721</td>\n",
       "    </tr>\n",
       "    <tr>\n",
       "      <th>1</th>\n",
       "      <td>-1.435272</td>\n",
       "      <td>False</td>\n",
       "      <td>-3.721958</td>\n",
       "      <td>0.921187</td>\n",
       "      <td>1.085556</td>\n",
       "    </tr>\n",
       "    <tr>\n",
       "      <th>2</th>\n",
       "      <td>-1.179797</td>\n",
       "      <td>False</td>\n",
       "      <td>-3.603810</td>\n",
       "      <td>0.882364</td>\n",
       "      <td>1.133320</td>\n",
       "    </tr>\n",
       "    <tr>\n",
       "      <th>3</th>\n",
       "      <td>-1.703952</td>\n",
       "      <td>False</td>\n",
       "      <td>-5.023180</td>\n",
       "      <td>0.949073</td>\n",
       "      <td>1.053659</td>\n",
       "    </tr>\n",
       "    <tr>\n",
       "      <th>4</th>\n",
       "      <td>-1.275373</td>\n",
       "      <td>False</td>\n",
       "      <td>-3.069588</td>\n",
       "      <td>0.898526</td>\n",
       "      <td>1.112934</td>\n",
       "    </tr>\n",
       "    <tr>\n",
       "      <th>...</th>\n",
       "      <td>...</td>\n",
       "      <td>...</td>\n",
       "      <td>...</td>\n",
       "      <td>...</td>\n",
       "      <td>...</td>\n",
       "    </tr>\n",
       "    <tr>\n",
       "      <th>995</th>\n",
       "      <td>-1.542162</td>\n",
       "      <td>False</td>\n",
       "      <td>-6.069342</td>\n",
       "      <td>0.933651</td>\n",
       "      <td>1.071063</td>\n",
       "    </tr>\n",
       "    <tr>\n",
       "      <th>996</th>\n",
       "      <td>-0.293043</td>\n",
       "      <td>False</td>\n",
       "      <td>-0.759275</td>\n",
       "      <td>0.616644</td>\n",
       "      <td>1.621681</td>\n",
       "    </tr>\n",
       "    <tr>\n",
       "      <th>997</th>\n",
       "      <td>-0.315967</td>\n",
       "      <td>False</td>\n",
       "      <td>-1.334592</td>\n",
       "      <td>0.626009</td>\n",
       "      <td>1.597421</td>\n",
       "    </tr>\n",
       "    <tr>\n",
       "      <th>998</th>\n",
       "      <td>0.126174</td>\n",
       "      <td>False</td>\n",
       "      <td>-1.287428</td>\n",
       "      <td>0.437194</td>\n",
       "      <td>2.287317</td>\n",
       "    </tr>\n",
       "    <tr>\n",
       "      <th>999</th>\n",
       "      <td>-0.304728</td>\n",
       "      <td>False</td>\n",
       "      <td>-0.605440</td>\n",
       "      <td>0.621429</td>\n",
       "      <td>1.609194</td>\n",
       "    </tr>\n",
       "  </tbody>\n",
       "</table>\n",
       "<p>1000 rows × 5 columns</p>\n",
       "</div>"
      ],
      "text/plain": [
       "           W0     v0         y  propensity_score    weight\n",
       "0   -0.851571  False -3.234982          0.809244  1.235721\n",
       "1   -1.435272  False -3.721958          0.921187  1.085556\n",
       "2   -1.179797  False -3.603810          0.882364  1.133320\n",
       "3   -1.703952  False -5.023180          0.949073  1.053659\n",
       "4   -1.275373  False -3.069588          0.898526  1.112934\n",
       "..        ...    ...       ...               ...       ...\n",
       "995 -1.542162  False -6.069342          0.933651  1.071063\n",
       "996 -0.293043  False -0.759275          0.616644  1.621681\n",
       "997 -0.315967  False -1.334592          0.626009  1.597421\n",
       "998  0.126174  False -1.287428          0.437194  2.287317\n",
       "999 -0.304728  False -0.605440          0.621429  1.609194\n",
       "\n",
       "[1000 rows x 5 columns]"
      ]
     },
     "execution_count": 6,
     "metadata": {},
     "output_type": "execute_result"
    }
   ],
   "source": [
    "cdf_0"
   ]
  },
  {
   "cell_type": "code",
   "execution_count": 7,
   "metadata": {
    "execution": {
     "iopub.execute_input": "2022-08-03T13:59:37.692526Z",
     "iopub.status.busy": "2022-08-03T13:59:37.691019Z",
     "iopub.status.idle": "2022-08-03T13:59:37.708051Z",
     "shell.execute_reply": "2022-08-03T13:59:37.707149Z"
    }
   },
   "outputs": [
    {
     "data": {
      "text/html": [
       "<div>\n",
       "<style scoped>\n",
       "    .dataframe tbody tr th:only-of-type {\n",
       "        vertical-align: middle;\n",
       "    }\n",
       "\n",
       "    .dataframe tbody tr th {\n",
       "        vertical-align: top;\n",
       "    }\n",
       "\n",
       "    .dataframe thead th {\n",
       "        text-align: right;\n",
       "    }\n",
       "</style>\n",
       "<table border=\"1\" class=\"dataframe\">\n",
       "  <thead>\n",
       "    <tr style=\"text-align: right;\">\n",
       "      <th></th>\n",
       "      <th>W0</th>\n",
       "      <th>v0</th>\n",
       "      <th>y</th>\n",
       "      <th>propensity_score</th>\n",
       "      <th>weight</th>\n",
       "    </tr>\n",
       "  </thead>\n",
       "  <tbody>\n",
       "    <tr>\n",
       "      <th>0</th>\n",
       "      <td>-0.381571</td>\n",
       "      <td>True</td>\n",
       "      <td>3.005139</td>\n",
       "      <td>0.347728</td>\n",
       "      <td>2.875809</td>\n",
       "    </tr>\n",
       "    <tr>\n",
       "      <th>1</th>\n",
       "      <td>0.747031</td>\n",
       "      <td>True</td>\n",
       "      <td>5.108931</td>\n",
       "      <td>0.790933</td>\n",
       "      <td>1.264330</td>\n",
       "    </tr>\n",
       "    <tr>\n",
       "      <th>2</th>\n",
       "      <td>-1.145192</td>\n",
       "      <td>True</td>\n",
       "      <td>0.360264</td>\n",
       "      <td>0.124018</td>\n",
       "      <td>8.063357</td>\n",
       "    </tr>\n",
       "    <tr>\n",
       "      <th>3</th>\n",
       "      <td>-0.105434</td>\n",
       "      <td>True</td>\n",
       "      <td>4.943102</td>\n",
       "      <td>0.462674</td>\n",
       "      <td>2.161349</td>\n",
       "    </tr>\n",
       "    <tr>\n",
       "      <th>4</th>\n",
       "      <td>-0.961432</td>\n",
       "      <td>True</td>\n",
       "      <td>1.499297</td>\n",
       "      <td>0.163030</td>\n",
       "      <td>6.133854</td>\n",
       "    </tr>\n",
       "    <tr>\n",
       "      <th>...</th>\n",
       "      <td>...</td>\n",
       "      <td>...</td>\n",
       "      <td>...</td>\n",
       "      <td>...</td>\n",
       "      <td>...</td>\n",
       "    </tr>\n",
       "    <tr>\n",
       "      <th>995</th>\n",
       "      <td>-0.306174</td>\n",
       "      <td>True</td>\n",
       "      <td>3.241492</td>\n",
       "      <td>0.377980</td>\n",
       "      <td>2.645640</td>\n",
       "    </tr>\n",
       "    <tr>\n",
       "      <th>996</th>\n",
       "      <td>-2.280853</td>\n",
       "      <td>True</td>\n",
       "      <td>-0.565131</td>\n",
       "      <td>0.019326</td>\n",
       "      <td>51.743125</td>\n",
       "    </tr>\n",
       "    <tr>\n",
       "      <th>997</th>\n",
       "      <td>-0.481154</td>\n",
       "      <td>True</td>\n",
       "      <td>5.067285</td>\n",
       "      <td>0.309609</td>\n",
       "      <td>3.229877</td>\n",
       "    </tr>\n",
       "    <tr>\n",
       "      <th>998</th>\n",
       "      <td>0.823388</td>\n",
       "      <td>True</td>\n",
       "      <td>8.120757</td>\n",
       "      <td>0.812012</td>\n",
       "      <td>1.231509</td>\n",
       "    </tr>\n",
       "    <tr>\n",
       "      <th>999</th>\n",
       "      <td>-1.839062</td>\n",
       "      <td>True</td>\n",
       "      <td>0.886802</td>\n",
       "      <td>0.040711</td>\n",
       "      <td>24.563326</td>\n",
       "    </tr>\n",
       "  </tbody>\n",
       "</table>\n",
       "<p>1000 rows × 5 columns</p>\n",
       "</div>"
      ],
      "text/plain": [
       "           W0    v0         y  propensity_score     weight\n",
       "0   -0.381571  True  3.005139          0.347728   2.875809\n",
       "1    0.747031  True  5.108931          0.790933   1.264330\n",
       "2   -1.145192  True  0.360264          0.124018   8.063357\n",
       "3   -0.105434  True  4.943102          0.462674   2.161349\n",
       "4   -0.961432  True  1.499297          0.163030   6.133854\n",
       "..        ...   ...       ...               ...        ...\n",
       "995 -0.306174  True  3.241492          0.377980   2.645640\n",
       "996 -2.280853  True -0.565131          0.019326  51.743125\n",
       "997 -0.481154  True  5.067285          0.309609   3.229877\n",
       "998  0.823388  True  8.120757          0.812012   1.231509\n",
       "999 -1.839062  True  0.886802          0.040711  24.563326\n",
       "\n",
       "[1000 rows x 5 columns]"
      ]
     },
     "execution_count": 7,
     "metadata": {},
     "output_type": "execute_result"
    }
   ],
   "source": [
    "cdf_1"
   ]
  },
  {
   "cell_type": "markdown",
   "metadata": {},
   "source": [
    "## Comparing the estimate to Linear Regression\n",
    "First, estimating the effect using the causal data frame, and the 95% confidence interval."
   ]
  },
  {
   "cell_type": "code",
   "execution_count": 8,
   "metadata": {
    "execution": {
     "iopub.execute_input": "2022-08-03T13:59:37.712487Z",
     "iopub.status.busy": "2022-08-03T13:59:37.711798Z",
     "iopub.status.idle": "2022-08-03T13:59:37.844703Z",
     "shell.execute_reply": "2022-08-03T13:59:37.843699Z"
    }
   },
   "outputs": [
    {
     "data": {
      "image/png": "[encoded data removed]",
      "text/latex": [
       "$\\displaystyle 4.68527458792959$"
      ],
      "text/plain": [
       "4.685274587929587"
      ]
     },
     "execution_count": 8,
     "metadata": {},
     "output_type": "execute_result"
    }
   ],
   "source": [
    "(cdf_1['y'] - cdf_0['y']).mean()"
   ]
  },
  {
   "cell_type": "code",
   "execution_count": 9,
   "metadata": {
    "execution": {
     "iopub.execute_input": "2022-08-03T13:59:37.849648Z",
     "iopub.status.busy": "2022-08-03T13:59:37.848896Z",
     "iopub.status.idle": "2022-08-03T13:59:37.885861Z",
     "shell.execute_reply": "2022-08-03T13:59:37.884992Z"
    }
   },
   "outputs": [
    {
     "data": {
      "image/png": "[encoded data removed]",
      "text/latex": [
       "$\\displaystyle 0.219415465317597$"
      ],
      "text/plain": [
       "0.21941546531759692"
      ]
     },
     "execution_count": 9,
     "metadata": {},
     "output_type": "execute_result"
    }
   ],
   "source": [
    "1.96*(cdf_1['y'] - cdf_0['y']).std() / np.sqrt(len(df))"
   ]
  },
  {
   "cell_type": "markdown",
   "metadata": {},
   "source": [
    "Comparing to the estimate from OLS."
   ]
  },
  {
   "cell_type": "code",
   "execution_count": 10,
   "metadata": {
    "execution": {
     "iopub.execute_input": "2022-08-03T13:59:37.891326Z",
     "iopub.status.busy": "2022-08-03T13:59:37.891027Z",
     "iopub.status.idle": "2022-08-03T13:59:37.914202Z",
     "shell.execute_reply": "2022-08-03T13:59:37.913050Z"
    }
   },
   "outputs": [
    {
     "data": {
      "text/html": [
       "<table class=\"simpletable\">\n",
       "<caption>OLS Regression Results</caption>\n",
       "<tr>\n",
       "  <th>Dep. Variable:</th>            <td>y</td>        <th>  R-squared (uncentered):</th>      <td>   0.949</td>\n",
       "</tr>\n",
       "<tr>\n",
       "  <th>Model:</th>                   <td>OLS</td>       <th>  Adj. R-squared (uncentered):</th> <td>   0.949</td>\n",
       "</tr>\n",
       "<tr>\n",
       "  <th>Method:</th>             <td>Least Squares</td>  <th>  F-statistic:       </th>          <td>   9350.</td>\n",
       "</tr>\n",
       "<tr>\n",
       "  <th>Date:</th>             <td>Wed, 03 Aug 2022</td> <th>  Prob (F-statistic):</th>           <td>  0.00</td> \n",
       "</tr>\n",
       "<tr>\n",
       "  <th>Time:</th>                 <td>13:59:37</td>     <th>  Log-Likelihood:    </th>          <td> -1412.8</td>\n",
       "</tr>\n",
       "<tr>\n",
       "  <th>No. Observations:</th>      <td>  1000</td>      <th>  AIC:               </th>          <td>   2830.</td>\n",
       "</tr>\n",
       "<tr>\n",
       "  <th>Df Residuals:</th>          <td>   998</td>      <th>  BIC:               </th>          <td>   2839.</td>\n",
       "</tr>\n",
       "<tr>\n",
       "  <th>Df Model:</th>              <td>     2</td>      <th>                     </th>              <td> </td>   \n",
       "</tr>\n",
       "<tr>\n",
       "  <th>Covariance Type:</th>      <td>nonrobust</td>    <th>                     </th>              <td> </td>   \n",
       "</tr>\n",
       "</table>\n",
       "<table class=\"simpletable\">\n",
       "<tr>\n",
       "   <td></td>     <th>coef</th>     <th>std err</th>      <th>t</th>      <th>P>|t|</th>  <th>[0.025</th>    <th>0.975]</th>  \n",
       "</tr>\n",
       "<tr>\n",
       "  <th>x1</th> <td>    2.4814</td> <td>    0.023</td> <td>  105.717</td> <td> 0.000</td> <td>    2.435</td> <td>    2.527</td>\n",
       "</tr>\n",
       "<tr>\n",
       "  <th>x2</th> <td>    4.9367</td> <td>    0.059</td> <td>   83.433</td> <td> 0.000</td> <td>    4.821</td> <td>    5.053</td>\n",
       "</tr>\n",
       "</table>\n",
       "<table class=\"simpletable\">\n",
       "<tr>\n",
       "  <th>Omnibus:</th>       <td> 3.376</td> <th>  Durbin-Watson:     </th> <td>   2.057</td>\n",
       "</tr>\n",
       "<tr>\n",
       "  <th>Prob(Omnibus):</th> <td> 0.185</td> <th>  Jarque-Bera (JB):  </th> <td>   3.245</td>\n",
       "</tr>\n",
       "<tr>\n",
       "  <th>Skew:</th>          <td> 0.134</td> <th>  Prob(JB):          </th> <td>   0.197</td>\n",
       "</tr>\n",
       "<tr>\n",
       "  <th>Kurtosis:</th>      <td> 3.080</td> <th>  Cond. No.          </th> <td>    2.52</td>\n",
       "</tr>\n",
       "</table><br/><br/>Notes:<br/>[1] R² is computed without centering (uncentered) since the model does not contain a constant.<br/>[2] Standard Errors assume that the covariance matrix of the errors is correctly specified."
      ],
      "text/plain": [
       "<class 'statsmodels.iolib.summary.Summary'>\n",
       "\"\"\"\n",
       "                                 OLS Regression Results                                \n",
       "=======================================================================================\n",
       "Dep. Variable:                      y   R-squared (uncentered):                   0.949\n",
       "Model:                            OLS   Adj. R-squared (uncentered):              0.949\n",
       "Method:                 Least Squares   F-statistic:                              9350.\n",
       "Date:                Wed, 03 Aug 2022   Prob (F-statistic):                        0.00\n",
       "Time:                        13:59:37   Log-Likelihood:                         -1412.8\n",
       "No. Observations:                1000   AIC:                                      2830.\n",
       "Df Residuals:                     998   BIC:                                      2839.\n",
       "Df Model:                           2                                                  \n",
       "Covariance Type:            nonrobust                                                  \n",
       "==============================================================================\n",
       "                 coef    std err          t      P>|t|      [0.025      0.975]\n",
       "------------------------------------------------------------------------------\n",
       "x1             2.4814      0.023    105.717      0.000       2.435       2.527\n",
       "x2             4.9367      0.059     83.433      0.000       4.821       5.053\n",
       "==============================================================================\n",
       "Omnibus:                        3.376   Durbin-Watson:                   2.057\n",
       "Prob(Omnibus):                  0.185   Jarque-Bera (JB):                3.245\n",
       "Skew:                           0.134   Prob(JB):                        0.197\n",
       "Kurtosis:                       3.080   Cond. No.                         2.52\n",
       "==============================================================================\n",
       "\n",
       "Notes:\n",
       "[1] R² is computed without centering (uncentered) since the model does not contain a constant.\n",
       "[2] Standard Errors assume that the covariance matrix of the errors is correctly specified.\n",
       "\"\"\""
      ]
     },
     "execution_count": 10,
     "metadata": {},
     "output_type": "execute_result"
    }
   ],
   "source": [
    "model = OLS(np.asarray(df[outcome]), np.asarray(df[[common_cause, treatment]], dtype=np.float64))\n",
    "result = model.fit()\n",
    "result.summary()"
   ]
  }
 ],
 "metadata": {
  "kernelspec": {
   "display_name": "Python 3",
   "language": "python",
   "name": "python3"
  },
  "language_info": {
   "codemirror_mode": {
    "name": "ipython",
    "version": 3
   },
   "file_extension": ".py",
   "mimetype": "text/x-python",
   "name": "python",
   "nbconvert_exporter": "python",
   "pygments_lexer": "ipython3",
   "version": "3.8.10"
  },
  "toc": {
   "base_numbering": 1,
   "nav_menu": {},
   "number_sections": false,
   "sideBar": true,
   "skip_h1_title": true,
   "title_cell": "Table of Contents",
   "title_sidebar": "Contents",
   "toc_cell": false,
   "toc_position": {},
   "toc_section_display": true,
   "toc_window_display": false
  }
 },
 "nbformat": 4,
 "nbformat_minor": 4
}
