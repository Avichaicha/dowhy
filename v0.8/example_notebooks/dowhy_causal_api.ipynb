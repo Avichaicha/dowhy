{
 "cells": [
  {
   "cell_type": "markdown",
   "metadata": {},
   "source": [
    "# Demo for the DoWhy causal API\n",
    "We show a simple example of adding a causal extension to any dataframe. "
   ]
  },
  {
   "cell_type": "code",
   "execution_count": 1,
   "metadata": {
    "execution": {
     "iopub.execute_input": "2022-08-19T23:38:17.436570Z",
     "iopub.status.busy": "2022-08-19T23:38:17.436268Z",
     "iopub.status.idle": "2022-08-19T23:38:18.499856Z",
     "shell.execute_reply": "2022-08-19T23:38:18.499189Z"
    }
   },
   "outputs": [],
   "source": [
    "import dowhy.datasets\n",
    "import dowhy.api\n",
    "\n",
    "import numpy as np\n",
    "import pandas as pd\n",
    "\n",
    "from statsmodels.api import OLS"
   ]
  },
  {
   "cell_type": "code",
   "execution_count": 2,
   "metadata": {
    "execution": {
     "iopub.execute_input": "2022-08-19T23:38:18.503332Z",
     "iopub.status.busy": "2022-08-19T23:38:18.502881Z",
     "iopub.status.idle": "2022-08-19T23:38:18.544348Z",
     "shell.execute_reply": "2022-08-19T23:38:18.543598Z"
    }
   },
   "outputs": [
    {
     "data": {
      "text/html": [
       "<div>\n",
       "<style scoped>\n",
       "    .dataframe tbody tr th:only-of-type {\n",
       "        vertical-align: middle;\n",
       "    }\n",
       "\n",
       "    .dataframe tbody tr th {\n",
       "        vertical-align: top;\n",
       "    }\n",
       "\n",
       "    .dataframe thead th {\n",
       "        text-align: right;\n",
       "    }\n",
       "</style>\n",
       "<table border=\"1\" class=\"dataframe\">\n",
       "  <thead>\n",
       "    <tr style=\"text-align: right;\">\n",
       "      <th></th>\n",
       "      <th>W0</th>\n",
       "      <th>v0</th>\n",
       "      <th>y</th>\n",
       "    </tr>\n",
       "  </thead>\n",
       "  <tbody>\n",
       "    <tr>\n",
       "      <th>0</th>\n",
       "      <td>1.192461</td>\n",
       "      <td>True</td>\n",
       "      <td>5.905620</td>\n",
       "    </tr>\n",
       "    <tr>\n",
       "      <th>1</th>\n",
       "      <td>-0.650659</td>\n",
       "      <td>False</td>\n",
       "      <td>-1.580940</td>\n",
       "    </tr>\n",
       "    <tr>\n",
       "      <th>2</th>\n",
       "      <td>1.634266</td>\n",
       "      <td>True</td>\n",
       "      <td>7.301445</td>\n",
       "    </tr>\n",
       "    <tr>\n",
       "      <th>3</th>\n",
       "      <td>-0.073967</td>\n",
       "      <td>False</td>\n",
       "      <td>1.289995</td>\n",
       "    </tr>\n",
       "    <tr>\n",
       "      <th>4</th>\n",
       "      <td>1.011934</td>\n",
       "      <td>False</td>\n",
       "      <td>2.609897</td>\n",
       "    </tr>\n",
       "    <tr>\n",
       "      <th>...</th>\n",
       "      <td>...</td>\n",
       "      <td>...</td>\n",
       "      <td>...</td>\n",
       "    </tr>\n",
       "    <tr>\n",
       "      <th>995</th>\n",
       "      <td>-0.177530</td>\n",
       "      <td>True</td>\n",
       "      <td>3.624020</td>\n",
       "    </tr>\n",
       "    <tr>\n",
       "      <th>996</th>\n",
       "      <td>-1.312116</td>\n",
       "      <td>False</td>\n",
       "      <td>-3.316824</td>\n",
       "    </tr>\n",
       "    <tr>\n",
       "      <th>997</th>\n",
       "      <td>-0.911466</td>\n",
       "      <td>False</td>\n",
       "      <td>-2.108801</td>\n",
       "    </tr>\n",
       "    <tr>\n",
       "      <th>998</th>\n",
       "      <td>1.229815</td>\n",
       "      <td>True</td>\n",
       "      <td>6.461280</td>\n",
       "    </tr>\n",
       "    <tr>\n",
       "      <th>999</th>\n",
       "      <td>-2.105980</td>\n",
       "      <td>False</td>\n",
       "      <td>-3.240648</td>\n",
       "    </tr>\n",
       "  </tbody>\n",
       "</table>\n",
       "<p>1000 rows × 3 columns</p>\n",
       "</div>"
      ],
      "text/plain": [
       "           W0     v0         y\n",
       "0    1.192461   True  5.905620\n",
       "1   -0.650659  False -1.580940\n",
       "2    1.634266   True  7.301445\n",
       "3   -0.073967  False  1.289995\n",
       "4    1.011934  False  2.609897\n",
       "..        ...    ...       ...\n",
       "995 -0.177530   True  3.624020\n",
       "996 -1.312116  False -3.316824\n",
       "997 -0.911466  False -2.108801\n",
       "998  1.229815   True  6.461280\n",
       "999 -2.105980  False -3.240648\n",
       "\n",
       "[1000 rows x 3 columns]"
      ]
     },
     "execution_count": 2,
     "metadata": {},
     "output_type": "execute_result"
    }
   ],
   "source": [
    "data = dowhy.datasets.linear_dataset(beta=5,\n",
    "        num_common_causes=1,\n",
    "        num_instruments = 0,\n",
    "        num_samples=1000,\n",
    "        treatment_is_binary=True)\n",
    "df = data['df']\n",
    "df['y'] = df['y'] + np.random.normal(size=len(df)) # Adding noise to data. Without noise, the variance in Y|X, Z is zero, and mcmc fails.\n",
    "#data['dot_graph'] = 'digraph { v ->y;X0-> v;X0-> y;}'\n",
    "\n",
    "treatment= data[\"treatment_name\"][0]\n",
    "outcome = data[\"outcome_name\"][0]\n",
    "common_cause = data[\"common_causes_names\"][0]\n",
    "df"
   ]
  },
  {
   "cell_type": "code",
   "execution_count": 3,
   "metadata": {
    "execution": {
     "iopub.execute_input": "2022-08-19T23:38:18.547525Z",
     "iopub.status.busy": "2022-08-19T23:38:18.547131Z",
     "iopub.status.idle": "2022-08-19T23:38:19.254862Z",
     "shell.execute_reply": "2022-08-19T23:38:19.254194Z"
    }
   },
   "outputs": [
    {
     "data": {
      "text/plain": [
       "<AxesSubplot:xlabel='v0'>"
      ]
     },
     "execution_count": 3,
     "metadata": {},
     "output_type": "execute_result"
    },
    {
     "data": {
      "image/png": "[encoded data removed]",
      "text/plain": [
       "<Figure size 640x480 with 1 Axes>"
      ]
     },
     "metadata": {},
     "output_type": "display_data"
    }
   ],
   "source": [
    "# data['df'] is just a regular pandas.DataFrame\n",
    "df.causal.do(x=treatment,\n",
    "                     variable_types={treatment: 'b', outcome: 'c', common_cause: 'c'},\n",
    "                     outcome=outcome,\n",
    "                     common_causes=[common_cause],\n",
    "                     proceed_when_unidentifiable=True).groupby(treatment).mean().plot(y=outcome, kind='bar')"
   ]
  },
  {
   "cell_type": "code",
   "execution_count": 4,
   "metadata": {
    "execution": {
     "iopub.execute_input": "2022-08-19T23:38:19.258439Z",
     "iopub.status.busy": "2022-08-19T23:38:19.257944Z",
     "iopub.status.idle": "2022-08-19T23:38:19.361079Z",
     "shell.execute_reply": "2022-08-19T23:38:19.360464Z"
    }
   },
   "outputs": [
    {
     "data": {
      "text/plain": [
       "<AxesSubplot:xlabel='v0'>"
      ]
     },
     "execution_count": 4,
     "metadata": {},
     "output_type": "execute_result"
    },
    {
     "data": {
      "image/png": "[encoded data removed]",
      "text/plain": [
       "<Figure size 640x480 with 1 Axes>"
      ]
     },
     "metadata": {},
     "output_type": "display_data"
    }
   ],
   "source": [
    "df.causal.do(x={treatment: 1}, \n",
    "              variable_types={treatment:'b', outcome: 'c', common_cause: 'c'}, \n",
    "              outcome=outcome,\n",
    "              method='weighting', \n",
    "              common_causes=[common_cause],\n",
    "              proceed_when_unidentifiable=True).groupby(treatment).mean().plot(y=outcome, kind='bar')"
   ]
  },
  {
   "cell_type": "code",
   "execution_count": 5,
   "metadata": {
    "execution": {
     "iopub.execute_input": "2022-08-19T23:38:19.364612Z",
     "iopub.status.busy": "2022-08-19T23:38:19.364378Z",
     "iopub.status.idle": "2022-08-19T23:38:19.395129Z",
     "shell.execute_reply": "2022-08-19T23:38:19.394466Z"
    }
   },
   "outputs": [],
   "source": [
    "cdf_1 = df.causal.do(x={treatment: 1}, \n",
    "              variable_types={treatment: 'b', outcome: 'c', common_cause: 'c'}, \n",
    "              outcome=outcome, \n",
    "              dot_graph=data['dot_graph'],\n",
    "              proceed_when_unidentifiable=True)\n",
    "\n",
    "cdf_0 = df.causal.do(x={treatment: 0}, \n",
    "              variable_types={treatment: 'b', outcome: 'c', common_cause: 'c'}, \n",
    "              outcome=outcome, \n",
    "              dot_graph=data['dot_graph'],\n",
    "              proceed_when_unidentifiable=True)\n"
   ]
  },
  {
   "cell_type": "code",
   "execution_count": 6,
   "metadata": {
    "execution": {
     "iopub.execute_input": "2022-08-19T23:38:19.398609Z",
     "iopub.status.busy": "2022-08-19T23:38:19.398251Z",
     "iopub.status.idle": "2022-08-19T23:38:19.411084Z",
     "shell.execute_reply": "2022-08-19T23:38:19.410500Z"
    },
    "scrolled": true
   },
   "outputs": [
    {
     "data": {
      "text/html": [
       "<div>\n",
       "<style scoped>\n",
       "    .dataframe tbody tr th:only-of-type {\n",
       "        vertical-align: middle;\n",
       "    }\n",
       "\n",
       "    .dataframe tbody tr th {\n",
       "        vertical-align: top;\n",
       "    }\n",
       "\n",
       "    .dataframe thead th {\n",
       "        text-align: right;\n",
       "    }\n",
       "</style>\n",
       "<table border=\"1\" class=\"dataframe\">\n",
       "  <thead>\n",
       "    <tr style=\"text-align: right;\">\n",
       "      <th></th>\n",
       "      <th>W0</th>\n",
       "      <th>v0</th>\n",
       "      <th>y</th>\n",
       "      <th>propensity_score</th>\n",
       "      <th>weight</th>\n",
       "    </tr>\n",
       "  </thead>\n",
       "  <tbody>\n",
       "    <tr>\n",
       "      <th>0</th>\n",
       "      <td>0.702106</td>\n",
       "      <td>False</td>\n",
       "      <td>2.245385</td>\n",
       "      <td>0.222060</td>\n",
       "      <td>4.503283</td>\n",
       "    </tr>\n",
       "    <tr>\n",
       "      <th>1</th>\n",
       "      <td>-0.911515</td>\n",
       "      <td>False</td>\n",
       "      <td>-1.080701</td>\n",
       "      <td>0.812534</td>\n",
       "      <td>1.230717</td>\n",
       "    </tr>\n",
       "    <tr>\n",
       "      <th>2</th>\n",
       "      <td>-0.206246</td>\n",
       "      <td>False</td>\n",
       "      <td>-0.429327</td>\n",
       "      <td>0.568960</td>\n",
       "      <td>1.757591</td>\n",
       "    </tr>\n",
       "    <tr>\n",
       "      <th>3</th>\n",
       "      <td>-0.056223</td>\n",
       "      <td>False</td>\n",
       "      <td>0.049903</td>\n",
       "      <td>0.506175</td>\n",
       "      <td>1.975602</td>\n",
       "    </tr>\n",
       "    <tr>\n",
       "      <th>4</th>\n",
       "      <td>0.352553</td>\n",
       "      <td>False</td>\n",
       "      <td>0.008331</td>\n",
       "      <td>0.339748</td>\n",
       "      <td>2.943362</td>\n",
       "    </tr>\n",
       "    <tr>\n",
       "      <th>...</th>\n",
       "      <td>...</td>\n",
       "      <td>...</td>\n",
       "      <td>...</td>\n",
       "      <td>...</td>\n",
       "      <td>...</td>\n",
       "    </tr>\n",
       "    <tr>\n",
       "      <th>995</th>\n",
       "      <td>0.542807</td>\n",
       "      <td>False</td>\n",
       "      <td>2.115698</td>\n",
       "      <td>0.271871</td>\n",
       "      <td>3.678222</td>\n",
       "    </tr>\n",
       "    <tr>\n",
       "      <th>996</th>\n",
       "      <td>1.598840</td>\n",
       "      <td>False</td>\n",
       "      <td>4.358762</td>\n",
       "      <td>0.059221</td>\n",
       "      <td>16.885818</td>\n",
       "    </tr>\n",
       "    <tr>\n",
       "      <th>997</th>\n",
       "      <td>1.776042</td>\n",
       "      <td>False</td>\n",
       "      <td>3.460066</td>\n",
       "      <td>0.044610</td>\n",
       "      <td>22.416384</td>\n",
       "    </tr>\n",
       "    <tr>\n",
       "      <th>998</th>\n",
       "      <td>0.551450</td>\n",
       "      <td>False</td>\n",
       "      <td>-0.719643</td>\n",
       "      <td>0.268996</td>\n",
       "      <td>3.717527</td>\n",
       "    </tr>\n",
       "    <tr>\n",
       "      <th>999</th>\n",
       "      <td>0.722525</td>\n",
       "      <td>False</td>\n",
       "      <td>-0.325786</td>\n",
       "      <td>0.216171</td>\n",
       "      <td>4.625976</td>\n",
       "    </tr>\n",
       "  </tbody>\n",
       "</table>\n",
       "<p>1000 rows × 5 columns</p>\n",
       "</div>"
      ],
      "text/plain": [
       "           W0     v0         y  propensity_score     weight\n",
       "0    0.702106  False  2.245385          0.222060   4.503283\n",
       "1   -0.911515  False -1.080701          0.812534   1.230717\n",
       "2   -0.206246  False -0.429327          0.568960   1.757591\n",
       "3   -0.056223  False  0.049903          0.506175   1.975602\n",
       "4    0.352553  False  0.008331          0.339748   2.943362\n",
       "..        ...    ...       ...               ...        ...\n",
       "995  0.542807  False  2.115698          0.271871   3.678222\n",
       "996  1.598840  False  4.358762          0.059221  16.885818\n",
       "997  1.776042  False  3.460066          0.044610  22.416384\n",
       "998  0.551450  False -0.719643          0.268996   3.717527\n",
       "999  0.722525  False -0.325786          0.216171   4.625976\n",
       "\n",
       "[1000 rows x 5 columns]"
      ]
     },
     "execution_count": 6,
     "metadata": {},
     "output_type": "execute_result"
    }
   ],
   "source": [
    "cdf_0"
   ]
  },
  {
   "cell_type": "code",
   "execution_count": 7,
   "metadata": {
    "execution": {
     "iopub.execute_input": "2022-08-19T23:38:19.414209Z",
     "iopub.status.busy": "2022-08-19T23:38:19.413869Z",
     "iopub.status.idle": "2022-08-19T23:38:19.425985Z",
     "shell.execute_reply": "2022-08-19T23:38:19.425434Z"
    }
   },
   "outputs": [
    {
     "data": {
      "text/html": [
       "<div>\n",
       "<style scoped>\n",
       "    .dataframe tbody tr th:only-of-type {\n",
       "        vertical-align: middle;\n",
       "    }\n",
       "\n",
       "    .dataframe tbody tr th {\n",
       "        vertical-align: top;\n",
       "    }\n",
       "\n",
       "    .dataframe thead th {\n",
       "        text-align: right;\n",
       "    }\n",
       "</style>\n",
       "<table border=\"1\" class=\"dataframe\">\n",
       "  <thead>\n",
       "    <tr style=\"text-align: right;\">\n",
       "      <th></th>\n",
       "      <th>W0</th>\n",
       "      <th>v0</th>\n",
       "      <th>y</th>\n",
       "      <th>propensity_score</th>\n",
       "      <th>weight</th>\n",
       "    </tr>\n",
       "  </thead>\n",
       "  <tbody>\n",
       "    <tr>\n",
       "      <th>0</th>\n",
       "      <td>1.256487</td>\n",
       "      <td>True</td>\n",
       "      <td>9.298311</td>\n",
       "      <td>0.899193</td>\n",
       "      <td>1.112109</td>\n",
       "    </tr>\n",
       "    <tr>\n",
       "      <th>1</th>\n",
       "      <td>0.066093</td>\n",
       "      <td>True</td>\n",
       "      <td>4.718854</td>\n",
       "      <td>0.545251</td>\n",
       "      <td>1.834017</td>\n",
       "    </tr>\n",
       "    <tr>\n",
       "      <th>2</th>\n",
       "      <td>-1.648124</td>\n",
       "      <td>True</td>\n",
       "      <td>1.181225</td>\n",
       "      <td>0.062482</td>\n",
       "      <td>16.004484</td>\n",
       "    </tr>\n",
       "    <tr>\n",
       "      <th>3</th>\n",
       "      <td>0.704418</td>\n",
       "      <td>True</td>\n",
       "      <td>7.597190</td>\n",
       "      <td>0.778612</td>\n",
       "      <td>1.284336</td>\n",
       "    </tr>\n",
       "    <tr>\n",
       "      <th>4</th>\n",
       "      <td>-0.540044</td>\n",
       "      <td>True</td>\n",
       "      <td>3.046778</td>\n",
       "      <td>0.301465</td>\n",
       "      <td>3.317137</td>\n",
       "    </tr>\n",
       "    <tr>\n",
       "      <th>...</th>\n",
       "      <td>...</td>\n",
       "      <td>...</td>\n",
       "      <td>...</td>\n",
       "      <td>...</td>\n",
       "      <td>...</td>\n",
       "    </tr>\n",
       "    <tr>\n",
       "      <th>995</th>\n",
       "      <td>0.181573</td>\n",
       "      <td>True</td>\n",
       "      <td>4.595707</td>\n",
       "      <td>0.592951</td>\n",
       "      <td>1.686480</td>\n",
       "    </tr>\n",
       "    <tr>\n",
       "      <th>996</th>\n",
       "      <td>-0.200392</td>\n",
       "      <td>True</td>\n",
       "      <td>4.778308</td>\n",
       "      <td>0.433461</td>\n",
       "      <td>2.307010</td>\n",
       "    </tr>\n",
       "    <tr>\n",
       "      <th>997</th>\n",
       "      <td>-1.633903</td>\n",
       "      <td>True</td>\n",
       "      <td>1.140010</td>\n",
       "      <td>0.063902</td>\n",
       "      <td>15.649038</td>\n",
       "    </tr>\n",
       "    <tr>\n",
       "      <th>998</th>\n",
       "      <td>-0.072904</td>\n",
       "      <td>True</td>\n",
       "      <td>4.203184</td>\n",
       "      <td>0.486798</td>\n",
       "      <td>2.054241</td>\n",
       "    </tr>\n",
       "    <tr>\n",
       "      <th>999</th>\n",
       "      <td>-0.793025</td>\n",
       "      <td>True</td>\n",
       "      <td>4.425319</td>\n",
       "      <td>0.219804</td>\n",
       "      <td>4.549513</td>\n",
       "    </tr>\n",
       "  </tbody>\n",
       "</table>\n",
       "<p>1000 rows × 5 columns</p>\n",
       "</div>"
      ],
      "text/plain": [
       "           W0    v0         y  propensity_score     weight\n",
       "0    1.256487  True  9.298311          0.899193   1.112109\n",
       "1    0.066093  True  4.718854          0.545251   1.834017\n",
       "2   -1.648124  True  1.181225          0.062482  16.004484\n",
       "3    0.704418  True  7.597190          0.778612   1.284336\n",
       "4   -0.540044  True  3.046778          0.301465   3.317137\n",
       "..        ...   ...       ...               ...        ...\n",
       "995  0.181573  True  4.595707          0.592951   1.686480\n",
       "996 -0.200392  True  4.778308          0.433461   2.307010\n",
       "997 -1.633903  True  1.140010          0.063902  15.649038\n",
       "998 -0.072904  True  4.203184          0.486798   2.054241\n",
       "999 -0.793025  True  4.425319          0.219804   4.549513\n",
       "\n",
       "[1000 rows x 5 columns]"
      ]
     },
     "execution_count": 7,
     "metadata": {},
     "output_type": "execute_result"
    }
   ],
   "source": [
    "cdf_1"
   ]
  },
  {
   "cell_type": "markdown",
   "metadata": {},
   "source": [
    "## Comparing the estimate to Linear Regression\n",
    "First, estimating the effect using the causal data frame, and the 95% confidence interval."
   ]
  },
  {
   "cell_type": "code",
   "execution_count": 8,
   "metadata": {
    "execution": {
     "iopub.execute_input": "2022-08-19T23:38:19.428848Z",
     "iopub.status.busy": "2022-08-19T23:38:19.428621Z",
     "iopub.status.idle": "2022-08-19T23:38:19.531934Z",
     "shell.execute_reply": "2022-08-19T23:38:19.531244Z"
    }
   },
   "outputs": [
    {
     "data": {
      "image/png": "[encoded data removed]",
      "text/latex": [
       "$\\displaystyle 4.81339651019413$"
      ],
      "text/plain": [
       "4.813396510194134"
      ]
     },
     "execution_count": 8,
     "metadata": {},
     "output_type": "execute_result"
    }
   ],
   "source": [
    "(cdf_1['y'] - cdf_0['y']).mean()"
   ]
  },
  {
   "cell_type": "code",
   "execution_count": 9,
   "metadata": {
    "execution": {
     "iopub.execute_input": "2022-08-19T23:38:19.535610Z",
     "iopub.status.busy": "2022-08-19T23:38:19.535148Z",
     "iopub.status.idle": "2022-08-19T23:38:19.560244Z",
     "shell.execute_reply": "2022-08-19T23:38:19.559579Z"
    }
   },
   "outputs": [
    {
     "data": {
      "image/png": "[encoded data removed]",
      "text/latex": [
       "$\\displaystyle 0.200237671647733$"
      ],
      "text/plain": [
       "0.2002376716477333"
      ]
     },
     "execution_count": 9,
     "metadata": {},
     "output_type": "execute_result"
    }
   ],
   "source": [
    "1.96*(cdf_1['y'] - cdf_0['y']).std() / np.sqrt(len(df))"
   ]
  },
  {
   "cell_type": "markdown",
   "metadata": {},
   "source": [
    "Comparing to the estimate from OLS."
   ]
  },
  {
   "cell_type": "code",
   "execution_count": 10,
   "metadata": {
    "execution": {
     "iopub.execute_input": "2022-08-19T23:38:19.563484Z",
     "iopub.status.busy": "2022-08-19T23:38:19.563186Z",
     "iopub.status.idle": "2022-08-19T23:38:19.581140Z",
     "shell.execute_reply": "2022-08-19T23:38:19.580575Z"
    }
   },
   "outputs": [
    {
     "data": {
      "text/html": [
       "<table class=\"simpletable\">\n",
       "<caption>OLS Regression Results</caption>\n",
       "<tr>\n",
       "  <th>Dep. Variable:</th>            <td>y</td>        <th>  R-squared (uncentered):</th>      <td>   0.952</td>\n",
       "</tr>\n",
       "<tr>\n",
       "  <th>Model:</th>                   <td>OLS</td>       <th>  Adj. R-squared (uncentered):</th> <td>   0.952</td>\n",
       "</tr>\n",
       "<tr>\n",
       "  <th>Method:</th>             <td>Least Squares</td>  <th>  F-statistic:       </th>          <td>   9947.</td>\n",
       "</tr>\n",
       "<tr>\n",
       "  <th>Date:</th>             <td>Fri, 19 Aug 2022</td> <th>  Prob (F-statistic):</th>           <td>  0.00</td> \n",
       "</tr>\n",
       "<tr>\n",
       "  <th>Time:</th>                 <td>23:38:19</td>     <th>  Log-Likelihood:    </th>          <td> -1457.0</td>\n",
       "</tr>\n",
       "<tr>\n",
       "  <th>No. Observations:</th>      <td>  1000</td>      <th>  AIC:               </th>          <td>   2918.</td>\n",
       "</tr>\n",
       "<tr>\n",
       "  <th>Df Residuals:</th>          <td>   998</td>      <th>  BIC:               </th>          <td>   2928.</td>\n",
       "</tr>\n",
       "<tr>\n",
       "  <th>Df Model:</th>              <td>     2</td>      <th>                     </th>              <td> </td>   \n",
       "</tr>\n",
       "<tr>\n",
       "  <th>Covariance Type:</th>      <td>nonrobust</td>    <th>                     </th>              <td> </td>   \n",
       "</tr>\n",
       "</table>\n",
       "<table class=\"simpletable\">\n",
       "<tr>\n",
       "   <td></td>     <th>coef</th>     <th>std err</th>      <th>t</th>      <th>P>|t|</th>  <th>[0.025</th>    <th>0.975]</th>  \n",
       "</tr>\n",
       "<tr>\n",
       "  <th>x1</th> <td>    2.0626</td> <td>    0.037</td> <td>   55.709</td> <td> 0.000</td> <td>    1.990</td> <td>    2.135</td>\n",
       "</tr>\n",
       "<tr>\n",
       "  <th>x2</th> <td>    4.9812</td> <td>    0.050</td> <td>   99.511</td> <td> 0.000</td> <td>    4.883</td> <td>    5.079</td>\n",
       "</tr>\n",
       "</table>\n",
       "<table class=\"simpletable\">\n",
       "<tr>\n",
       "  <th>Omnibus:</th>       <td> 2.972</td> <th>  Durbin-Watson:     </th> <td>   2.058</td>\n",
       "</tr>\n",
       "<tr>\n",
       "  <th>Prob(Omnibus):</th> <td> 0.226</td> <th>  Jarque-Bera (JB):  </th> <td>   2.862</td>\n",
       "</tr>\n",
       "<tr>\n",
       "  <th>Skew:</th>          <td> 0.128</td> <th>  Prob(JB):          </th> <td>   0.239</td>\n",
       "</tr>\n",
       "<tr>\n",
       "  <th>Kurtosis:</th>      <td> 3.058</td> <th>  Cond. No.          </th> <td>    1.65</td>\n",
       "</tr>\n",
       "</table><br/><br/>Notes:<br/>[1] R² is computed without centering (uncentered) since the model does not contain a constant.<br/>[2] Standard Errors assume that the covariance matrix of the errors is correctly specified."
      ],
      "text/plain": [
       "<class 'statsmodels.iolib.summary.Summary'>\n",
       "\"\"\"\n",
       "                                 OLS Regression Results                                \n",
       "=======================================================================================\n",
       "Dep. Variable:                      y   R-squared (uncentered):                   0.952\n",
       "Model:                            OLS   Adj. R-squared (uncentered):              0.952\n",
       "Method:                 Least Squares   F-statistic:                              9947.\n",
       "Date:                Fri, 19 Aug 2022   Prob (F-statistic):                        0.00\n",
       "Time:                        23:38:19   Log-Likelihood:                         -1457.0\n",
       "No. Observations:                1000   AIC:                                      2918.\n",
       "Df Residuals:                     998   BIC:                                      2928.\n",
       "Df Model:                           2                                                  \n",
       "Covariance Type:            nonrobust                                                  \n",
       "==============================================================================\n",
       "                 coef    std err          t      P>|t|      [0.025      0.975]\n",
       "------------------------------------------------------------------------------\n",
       "x1             2.0626      0.037     55.709      0.000       1.990       2.135\n",
       "x2             4.9812      0.050     99.511      0.000       4.883       5.079\n",
       "==============================================================================\n",
       "Omnibus:                        2.972   Durbin-Watson:                   2.058\n",
       "Prob(Omnibus):                  0.226   Jarque-Bera (JB):                2.862\n",
       "Skew:                           0.128   Prob(JB):                        0.239\n",
       "Kurtosis:                       3.058   Cond. No.                         1.65\n",
       "==============================================================================\n",
       "\n",
       "Notes:\n",
       "[1] R² is computed without centering (uncentered) since the model does not contain a constant.\n",
       "[2] Standard Errors assume that the covariance matrix of the errors is correctly specified.\n",
       "\"\"\""
      ]
     },
     "execution_count": 10,
     "metadata": {},
     "output_type": "execute_result"
    }
   ],
   "source": [
    "model = OLS(np.asarray(df[outcome]), np.asarray(df[[common_cause, treatment]], dtype=np.float64))\n",
    "result = model.fit()\n",
    "result.summary()"
   ]
  }
 ],
 "metadata": {
  "kernelspec": {
   "display_name": "Python 3",
   "language": "python",
   "name": "python3"
  },
  "language_info": {
   "codemirror_mode": {
    "name": "ipython",
    "version": 3
   },
   "file_extension": ".py",
   "mimetype": "text/x-python",
   "name": "python",
   "nbconvert_exporter": "python",
   "pygments_lexer": "ipython3",
   "version": "3.8.10"
  },
  "toc": {
   "base_numbering": 1,
   "nav_menu": {},
   "number_sections": false,
   "sideBar": true,
   "skip_h1_title": true,
   "title_cell": "Table of Contents",
   "title_sidebar": "Contents",
   "toc_cell": false,
   "toc_position": {},
   "toc_section_display": true,
   "toc_window_display": false
  }
 },
 "nbformat": 4,
 "nbformat_minor": 4
}
