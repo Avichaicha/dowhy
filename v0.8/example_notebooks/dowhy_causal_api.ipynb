{
 "cells": [
  {
   "cell_type": "markdown",
   "metadata": {},
   "source": [
    "# Demo for the DoWhy causal API\n",
    "We show a simple example of adding a causal extension to any dataframe. "
   ]
  },
  {
   "cell_type": "code",
   "execution_count": 1,
   "metadata": {
    "execution": {
     "iopub.execute_input": "2022-08-03T09:25:58.557862Z",
     "iopub.status.busy": "2022-08-03T09:25:58.557324Z",
     "iopub.status.idle": "2022-08-03T09:25:59.726235Z",
     "shell.execute_reply": "2022-08-03T09:25:59.725498Z"
    }
   },
   "outputs": [
    {
     "name": "stdout",
     "output_type": "stream",
     "text": [
      "keywords are unexpanded, not using\n"
     ]
    }
   ],
   "source": [
    "import dowhy.datasets\n",
    "import dowhy.api\n",
    "\n",
    "import numpy as np\n",
    "import pandas as pd\n",
    "\n",
    "from statsmodels.api import OLS"
   ]
  },
  {
   "cell_type": "code",
   "execution_count": 2,
   "metadata": {
    "execution": {
     "iopub.execute_input": "2022-08-03T09:25:59.730415Z",
     "iopub.status.busy": "2022-08-03T09:25:59.729719Z",
     "iopub.status.idle": "2022-08-03T09:25:59.779430Z",
     "shell.execute_reply": "2022-08-03T09:25:59.778764Z"
    }
   },
   "outputs": [
    {
     "data": {
      "text/html": [
       "<div>\n",
       "<style scoped>\n",
       "    .dataframe tbody tr th:only-of-type {\n",
       "        vertical-align: middle;\n",
       "    }\n",
       "\n",
       "    .dataframe tbody tr th {\n",
       "        vertical-align: top;\n",
       "    }\n",
       "\n",
       "    .dataframe thead th {\n",
       "        text-align: right;\n",
       "    }\n",
       "</style>\n",
       "<table border=\"1\" class=\"dataframe\">\n",
       "  <thead>\n",
       "    <tr style=\"text-align: right;\">\n",
       "      <th></th>\n",
       "      <th>W0</th>\n",
       "      <th>v0</th>\n",
       "      <th>y</th>\n",
       "    </tr>\n",
       "  </thead>\n",
       "  <tbody>\n",
       "    <tr>\n",
       "      <th>0</th>\n",
       "      <td>-0.427512</td>\n",
       "      <td>False</td>\n",
       "      <td>-2.262526</td>\n",
       "    </tr>\n",
       "    <tr>\n",
       "      <th>1</th>\n",
       "      <td>-1.175922</td>\n",
       "      <td>True</td>\n",
       "      <td>3.268141</td>\n",
       "    </tr>\n",
       "    <tr>\n",
       "      <th>2</th>\n",
       "      <td>-0.442738</td>\n",
       "      <td>False</td>\n",
       "      <td>-1.743531</td>\n",
       "    </tr>\n",
       "    <tr>\n",
       "      <th>3</th>\n",
       "      <td>2.338681</td>\n",
       "      <td>True</td>\n",
       "      <td>9.126391</td>\n",
       "    </tr>\n",
       "    <tr>\n",
       "      <th>4</th>\n",
       "      <td>-1.380436</td>\n",
       "      <td>False</td>\n",
       "      <td>-1.133310</td>\n",
       "    </tr>\n",
       "    <tr>\n",
       "      <th>...</th>\n",
       "      <td>...</td>\n",
       "      <td>...</td>\n",
       "      <td>...</td>\n",
       "    </tr>\n",
       "    <tr>\n",
       "      <th>995</th>\n",
       "      <td>1.030371</td>\n",
       "      <td>True</td>\n",
       "      <td>8.334728</td>\n",
       "    </tr>\n",
       "    <tr>\n",
       "      <th>996</th>\n",
       "      <td>0.908083</td>\n",
       "      <td>True</td>\n",
       "      <td>6.124249</td>\n",
       "    </tr>\n",
       "    <tr>\n",
       "      <th>997</th>\n",
       "      <td>-0.525697</td>\n",
       "      <td>True</td>\n",
       "      <td>5.269022</td>\n",
       "    </tr>\n",
       "    <tr>\n",
       "      <th>998</th>\n",
       "      <td>-0.122099</td>\n",
       "      <td>True</td>\n",
       "      <td>5.592359</td>\n",
       "    </tr>\n",
       "    <tr>\n",
       "      <th>999</th>\n",
       "      <td>0.808636</td>\n",
       "      <td>True</td>\n",
       "      <td>4.954535</td>\n",
       "    </tr>\n",
       "  </tbody>\n",
       "</table>\n",
       "<p>1000 rows × 3 columns</p>\n",
       "</div>"
      ],
      "text/plain": [
       "           W0     v0         y\n",
       "0   -0.427512  False -2.262526\n",
       "1   -1.175922   True  3.268141\n",
       "2   -0.442738  False -1.743531\n",
       "3    2.338681   True  9.126391\n",
       "4   -1.380436  False -1.133310\n",
       "..        ...    ...       ...\n",
       "995  1.030371   True  8.334728\n",
       "996  0.908083   True  6.124249\n",
       "997 -0.525697   True  5.269022\n",
       "998 -0.122099   True  5.592359\n",
       "999  0.808636   True  4.954535\n",
       "\n",
       "[1000 rows x 3 columns]"
      ]
     },
     "execution_count": 2,
     "metadata": {},
     "output_type": "execute_result"
    }
   ],
   "source": [
    "data = dowhy.datasets.linear_dataset(beta=5,\n",
    "        num_common_causes=1,\n",
    "        num_instruments = 0,\n",
    "        num_samples=1000,\n",
    "        treatment_is_binary=True)\n",
    "df = data['df']\n",
    "df['y'] = df['y'] + np.random.normal(size=len(df)) # Adding noise to data. Without noise, the variance in Y|X, Z is zero, and mcmc fails.\n",
    "#data['dot_graph'] = 'digraph { v ->y;X0-> v;X0-> y;}'\n",
    "\n",
    "treatment= data[\"treatment_name\"][0]\n",
    "outcome = data[\"outcome_name\"][0]\n",
    "common_cause = data[\"common_causes_names\"][0]\n",
    "df"
   ]
  },
  {
   "cell_type": "code",
   "execution_count": 3,
   "metadata": {
    "execution": {
     "iopub.execute_input": "2022-08-03T09:25:59.782768Z",
     "iopub.status.busy": "2022-08-03T09:25:59.782377Z",
     "iopub.status.idle": "2022-08-03T09:26:00.561368Z",
     "shell.execute_reply": "2022-08-03T09:26:00.560808Z"
    }
   },
   "outputs": [
    {
     "data": {
      "text/plain": [
       "<AxesSubplot:xlabel='v0'>"
      ]
     },
     "execution_count": 3,
     "metadata": {},
     "output_type": "execute_result"
    },
    {
     "data": {
      "image/png": "[encoded data removed]",
      "text/plain": [
       "<Figure size 432x288 with 1 Axes>"
      ]
     },
     "metadata": {
      "needs_background": "light"
     },
     "output_type": "display_data"
    }
   ],
   "source": [
    "# data['df'] is just a regular pandas.DataFrame\n",
    "df.causal.do(x=treatment,\n",
    "                     variable_types={treatment: 'b', outcome: 'c', common_cause: 'c'},\n",
    "                     outcome=outcome,\n",
    "                     common_causes=[common_cause],\n",
    "                     proceed_when_unidentifiable=True).groupby(treatment).mean().plot(y=outcome, kind='bar')"
   ]
  },
  {
   "cell_type": "code",
   "execution_count": 4,
   "metadata": {
    "execution": {
     "iopub.execute_input": "2022-08-03T09:26:00.565758Z",
     "iopub.status.busy": "2022-08-03T09:26:00.564625Z",
     "iopub.status.idle": "2022-08-03T09:26:00.656540Z",
     "shell.execute_reply": "2022-08-03T09:26:00.655994Z"
    }
   },
   "outputs": [
    {
     "data": {
      "text/plain": [
       "<AxesSubplot:xlabel='v0'>"
      ]
     },
     "execution_count": 4,
     "metadata": {},
     "output_type": "execute_result"
    },
    {
     "data": {
      "image/png": "[encoded data removed]",
      "text/plain": [
       "<Figure size 432x288 with 1 Axes>"
      ]
     },
     "metadata": {
      "needs_background": "light"
     },
     "output_type": "display_data"
    }
   ],
   "source": [
    "df.causal.do(x={treatment: 1}, \n",
    "              variable_types={treatment:'b', outcome: 'c', common_cause: 'c'}, \n",
    "              outcome=outcome,\n",
    "              method='weighting', \n",
    "              common_causes=[common_cause],\n",
    "              proceed_when_unidentifiable=True).groupby(treatment).mean().plot(y=outcome, kind='bar')"
   ]
  },
  {
   "cell_type": "code",
   "execution_count": 5,
   "metadata": {
    "execution": {
     "iopub.execute_input": "2022-08-03T09:26:00.660672Z",
     "iopub.status.busy": "2022-08-03T09:26:00.659658Z",
     "iopub.status.idle": "2022-08-03T09:26:00.691094Z",
     "shell.execute_reply": "2022-08-03T09:26:00.690551Z"
    }
   },
   "outputs": [],
   "source": [
    "cdf_1 = df.causal.do(x={treatment: 1}, \n",
    "              variable_types={treatment: 'b', outcome: 'c', common_cause: 'c'}, \n",
    "              outcome=outcome, \n",
    "              dot_graph=data['dot_graph'],\n",
    "              proceed_when_unidentifiable=True)\n",
    "\n",
    "cdf_0 = df.causal.do(x={treatment: 0}, \n",
    "              variable_types={treatment: 'b', outcome: 'c', common_cause: 'c'}, \n",
    "              outcome=outcome, \n",
    "              dot_graph=data['dot_graph'],\n",
    "              proceed_when_unidentifiable=True)\n"
   ]
  },
  {
   "cell_type": "code",
   "execution_count": 6,
   "metadata": {
    "execution": {
     "iopub.execute_input": "2022-08-03T09:26:00.695219Z",
     "iopub.status.busy": "2022-08-03T09:26:00.694230Z",
     "iopub.status.idle": "2022-08-03T09:26:00.706739Z",
     "shell.execute_reply": "2022-08-03T09:26:00.706169Z"
    },
    "scrolled": true
   },
   "outputs": [
    {
     "data": {
      "text/html": [
       "<div>\n",
       "<style scoped>\n",
       "    .dataframe tbody tr th:only-of-type {\n",
       "        vertical-align: middle;\n",
       "    }\n",
       "\n",
       "    .dataframe tbody tr th {\n",
       "        vertical-align: top;\n",
       "    }\n",
       "\n",
       "    .dataframe thead th {\n",
       "        text-align: right;\n",
       "    }\n",
       "</style>\n",
       "<table border=\"1\" class=\"dataframe\">\n",
       "  <thead>\n",
       "    <tr style=\"text-align: right;\">\n",
       "      <th></th>\n",
       "      <th>W0</th>\n",
       "      <th>v0</th>\n",
       "      <th>y</th>\n",
       "      <th>propensity_score</th>\n",
       "      <th>weight</th>\n",
       "    </tr>\n",
       "  </thead>\n",
       "  <tbody>\n",
       "    <tr>\n",
       "      <th>0</th>\n",
       "      <td>-0.408141</td>\n",
       "      <td>False</td>\n",
       "      <td>-0.708645</td>\n",
       "      <td>0.609076</td>\n",
       "      <td>1.641831</td>\n",
       "    </tr>\n",
       "    <tr>\n",
       "      <th>1</th>\n",
       "      <td>0.502535</td>\n",
       "      <td>False</td>\n",
       "      <td>0.971443</td>\n",
       "      <td>0.340162</td>\n",
       "      <td>2.939776</td>\n",
       "    </tr>\n",
       "    <tr>\n",
       "      <th>2</th>\n",
       "      <td>-0.473671</td>\n",
       "      <td>False</td>\n",
       "      <td>0.296002</td>\n",
       "      <td>0.627853</td>\n",
       "      <td>1.592731</td>\n",
       "    </tr>\n",
       "    <tr>\n",
       "      <th>3</th>\n",
       "      <td>-0.904947</td>\n",
       "      <td>False</td>\n",
       "      <td>-0.652714</td>\n",
       "      <td>0.740159</td>\n",
       "      <td>1.351061</td>\n",
       "    </tr>\n",
       "    <tr>\n",
       "      <th>4</th>\n",
       "      <td>1.316463</td>\n",
       "      <td>False</td>\n",
       "      <td>0.773646</td>\n",
       "      <td>0.160963</td>\n",
       "      <td>6.212590</td>\n",
       "    </tr>\n",
       "    <tr>\n",
       "      <th>...</th>\n",
       "      <td>...</td>\n",
       "      <td>...</td>\n",
       "      <td>...</td>\n",
       "      <td>...</td>\n",
       "      <td>...</td>\n",
       "    </tr>\n",
       "    <tr>\n",
       "      <th>995</th>\n",
       "      <td>0.502972</td>\n",
       "      <td>False</td>\n",
       "      <td>-0.669703</td>\n",
       "      <td>0.340043</td>\n",
       "      <td>2.940806</td>\n",
       "    </tr>\n",
       "    <tr>\n",
       "      <th>996</th>\n",
       "      <td>0.886735</td>\n",
       "      <td>False</td>\n",
       "      <td>2.004691</td>\n",
       "      <td>0.244313</td>\n",
       "      <td>4.093113</td>\n",
       "    </tr>\n",
       "    <tr>\n",
       "      <th>997</th>\n",
       "      <td>0.110785</td>\n",
       "      <td>False</td>\n",
       "      <td>-0.061748</td>\n",
       "      <td>0.453436</td>\n",
       "      <td>2.205384</td>\n",
       "    </tr>\n",
       "    <tr>\n",
       "      <th>998</th>\n",
       "      <td>-0.238285</td>\n",
       "      <td>False</td>\n",
       "      <td>-1.109603</td>\n",
       "      <td>0.559009</td>\n",
       "      <td>1.788879</td>\n",
       "    </tr>\n",
       "    <tr>\n",
       "      <th>999</th>\n",
       "      <td>-1.411032</td>\n",
       "      <td>False</td>\n",
       "      <td>-2.700928</td>\n",
       "      <td>0.840429</td>\n",
       "      <td>1.189868</td>\n",
       "    </tr>\n",
       "  </tbody>\n",
       "</table>\n",
       "<p>1000 rows × 5 columns</p>\n",
       "</div>"
      ],
      "text/plain": [
       "           W0     v0         y  propensity_score    weight\n",
       "0   -0.408141  False -0.708645          0.609076  1.641831\n",
       "1    0.502535  False  0.971443          0.340162  2.939776\n",
       "2   -0.473671  False  0.296002          0.627853  1.592731\n",
       "3   -0.904947  False -0.652714          0.740159  1.351061\n",
       "4    1.316463  False  0.773646          0.160963  6.212590\n",
       "..        ...    ...       ...               ...       ...\n",
       "995  0.502972  False -0.669703          0.340043  2.940806\n",
       "996  0.886735  False  2.004691          0.244313  4.093113\n",
       "997  0.110785  False -0.061748          0.453436  2.205384\n",
       "998 -0.238285  False -1.109603          0.559009  1.788879\n",
       "999 -1.411032  False -2.700928          0.840429  1.189868\n",
       "\n",
       "[1000 rows x 5 columns]"
      ]
     },
     "execution_count": 6,
     "metadata": {},
     "output_type": "execute_result"
    }
   ],
   "source": [
    "cdf_0"
   ]
  },
  {
   "cell_type": "code",
   "execution_count": 7,
   "metadata": {
    "execution": {
     "iopub.execute_input": "2022-08-03T09:26:00.709836Z",
     "iopub.status.busy": "2022-08-03T09:26:00.709394Z",
     "iopub.status.idle": "2022-08-03T09:26:00.721308Z",
     "shell.execute_reply": "2022-08-03T09:26:00.720746Z"
    }
   },
   "outputs": [
    {
     "data": {
      "text/html": [
       "<div>\n",
       "<style scoped>\n",
       "    .dataframe tbody tr th:only-of-type {\n",
       "        vertical-align: middle;\n",
       "    }\n",
       "\n",
       "    .dataframe tbody tr th {\n",
       "        vertical-align: top;\n",
       "    }\n",
       "\n",
       "    .dataframe thead th {\n",
       "        text-align: right;\n",
       "    }\n",
       "</style>\n",
       "<table border=\"1\" class=\"dataframe\">\n",
       "  <thead>\n",
       "    <tr style=\"text-align: right;\">\n",
       "      <th></th>\n",
       "      <th>W0</th>\n",
       "      <th>v0</th>\n",
       "      <th>y</th>\n",
       "      <th>propensity_score</th>\n",
       "      <th>weight</th>\n",
       "    </tr>\n",
       "  </thead>\n",
       "  <tbody>\n",
       "    <tr>\n",
       "      <th>0</th>\n",
       "      <td>0.877692</td>\n",
       "      <td>True</td>\n",
       "      <td>6.739817</td>\n",
       "      <td>0.753654</td>\n",
       "      <td>1.326869</td>\n",
       "    </tr>\n",
       "    <tr>\n",
       "      <th>1</th>\n",
       "      <td>-0.747784</td>\n",
       "      <td>True</td>\n",
       "      <td>3.918564</td>\n",
       "      <td>0.298192</td>\n",
       "      <td>3.353543</td>\n",
       "    </tr>\n",
       "    <tr>\n",
       "      <th>2</th>\n",
       "      <td>-2.028673</td>\n",
       "      <td>True</td>\n",
       "      <td>2.653344</td>\n",
       "      <td>0.082297</td>\n",
       "      <td>12.151154</td>\n",
       "    </tr>\n",
       "    <tr>\n",
       "      <th>3</th>\n",
       "      <td>-0.788417</td>\n",
       "      <td>True</td>\n",
       "      <td>5.249544</td>\n",
       "      <td>0.287969</td>\n",
       "      <td>3.472600</td>\n",
       "    </tr>\n",
       "    <tr>\n",
       "      <th>4</th>\n",
       "      <td>0.127891</td>\n",
       "      <td>True</td>\n",
       "      <td>4.973631</td>\n",
       "      <td>0.551708</td>\n",
       "      <td>1.812554</td>\n",
       "    </tr>\n",
       "    <tr>\n",
       "      <th>...</th>\n",
       "      <td>...</td>\n",
       "      <td>...</td>\n",
       "      <td>...</td>\n",
       "      <td>...</td>\n",
       "      <td>...</td>\n",
       "    </tr>\n",
       "    <tr>\n",
       "      <th>995</th>\n",
       "      <td>0.435954</td>\n",
       "      <td>True</td>\n",
       "      <td>4.385570</td>\n",
       "      <td>0.641461</td>\n",
       "      <td>1.558941</td>\n",
       "    </tr>\n",
       "    <tr>\n",
       "      <th>996</th>\n",
       "      <td>-0.066559</td>\n",
       "      <td>True</td>\n",
       "      <td>4.313827</td>\n",
       "      <td>0.492855</td>\n",
       "      <td>2.028996</td>\n",
       "    </tr>\n",
       "    <tr>\n",
       "      <th>997</th>\n",
       "      <td>1.178407</td>\n",
       "      <td>True</td>\n",
       "      <td>5.414075</td>\n",
       "      <td>0.815087</td>\n",
       "      <td>1.226863</td>\n",
       "    </tr>\n",
       "    <tr>\n",
       "      <th>998</th>\n",
       "      <td>2.204274</td>\n",
       "      <td>True</td>\n",
       "      <td>7.907201</td>\n",
       "      <td>0.938734</td>\n",
       "      <td>1.065264</td>\n",
       "    </tr>\n",
       "    <tr>\n",
       "      <th>999</th>\n",
       "      <td>1.114790</td>\n",
       "      <td>True</td>\n",
       "      <td>7.893880</td>\n",
       "      <td>0.803158</td>\n",
       "      <td>1.245086</td>\n",
       "    </tr>\n",
       "  </tbody>\n",
       "</table>\n",
       "<p>1000 rows × 5 columns</p>\n",
       "</div>"
      ],
      "text/plain": [
       "           W0    v0         y  propensity_score     weight\n",
       "0    0.877692  True  6.739817          0.753654   1.326869\n",
       "1   -0.747784  True  3.918564          0.298192   3.353543\n",
       "2   -2.028673  True  2.653344          0.082297  12.151154\n",
       "3   -0.788417  True  5.249544          0.287969   3.472600\n",
       "4    0.127891  True  4.973631          0.551708   1.812554\n",
       "..        ...   ...       ...               ...        ...\n",
       "995  0.435954  True  4.385570          0.641461   1.558941\n",
       "996 -0.066559  True  4.313827          0.492855   2.028996\n",
       "997  1.178407  True  5.414075          0.815087   1.226863\n",
       "998  2.204274  True  7.907201          0.938734   1.065264\n",
       "999  1.114790  True  7.893880          0.803158   1.245086\n",
       "\n",
       "[1000 rows x 5 columns]"
      ]
     },
     "execution_count": 7,
     "metadata": {},
     "output_type": "execute_result"
    }
   ],
   "source": [
    "cdf_1"
   ]
  },
  {
   "cell_type": "markdown",
   "metadata": {},
   "source": [
    "## Comparing the estimate to Linear Regression\n",
    "First, estimating the effect using the causal data frame, and the 95% confidence interval."
   ]
  },
  {
   "cell_type": "code",
   "execution_count": 8,
   "metadata": {
    "execution": {
     "iopub.execute_input": "2022-08-03T09:26:00.724173Z",
     "iopub.status.busy": "2022-08-03T09:26:00.723823Z",
     "iopub.status.idle": "2022-08-03T09:26:00.825186Z",
     "shell.execute_reply": "2022-08-03T09:26:00.824479Z"
    }
   },
   "outputs": [
    {
     "data": {
      "image/png": "[encoded data removed]",
      "text/latex": [
       "$\\displaystyle 5.24583369298772$"
      ],
      "text/plain": [
       "5.2458336929877225"
      ]
     },
     "execution_count": 8,
     "metadata": {},
     "output_type": "execute_result"
    }
   ],
   "source": [
    "(cdf_1['y'] - cdf_0['y']).mean()"
   ]
  },
  {
   "cell_type": "code",
   "execution_count": 9,
   "metadata": {
    "execution": {
     "iopub.execute_input": "2022-08-03T09:26:00.828703Z",
     "iopub.status.busy": "2022-08-03T09:26:00.828162Z",
     "iopub.status.idle": "2022-08-03T09:26:00.852620Z",
     "shell.execute_reply": "2022-08-03T09:26:00.851965Z"
    }
   },
   "outputs": [
    {
     "data": {
      "image/png": "[encoded data removed]",
      "text/latex": [
       "$\\displaystyle 0.139077600266084$"
      ],
      "text/plain": [
       "0.139077600266084"
      ]
     },
     "execution_count": 9,
     "metadata": {},
     "output_type": "execute_result"
    }
   ],
   "source": [
    "1.96*(cdf_1['y'] - cdf_0['y']).std() / np.sqrt(len(df))"
   ]
  },
  {
   "cell_type": "markdown",
   "metadata": {},
   "source": [
    "Comparing to the estimate from OLS."
   ]
  },
  {
   "cell_type": "code",
   "execution_count": 10,
   "metadata": {
    "execution": {
     "iopub.execute_input": "2022-08-03T09:26:00.857725Z",
     "iopub.status.busy": "2022-08-03T09:26:00.857291Z",
     "iopub.status.idle": "2022-08-03T09:26:00.872953Z",
     "shell.execute_reply": "2022-08-03T09:26:00.872303Z"
    }
   },
   "outputs": [
    {
     "data": {
      "text/html": [
       "<table class=\"simpletable\">\n",
       "<caption>OLS Regression Results</caption>\n",
       "<tr>\n",
       "  <th>Dep. Variable:</th>            <td>y</td>        <th>  R-squared (uncentered):</th>      <td>   0.952</td>\n",
       "</tr>\n",
       "<tr>\n",
       "  <th>Model:</th>                   <td>OLS</td>       <th>  Adj. R-squared (uncentered):</th> <td>   0.952</td>\n",
       "</tr>\n",
       "<tr>\n",
       "  <th>Method:</th>             <td>Least Squares</td>  <th>  F-statistic:       </th>          <td>   9933.</td>\n",
       "</tr>\n",
       "<tr>\n",
       "  <th>Date:</th>             <td>Wed, 03 Aug 2022</td> <th>  Prob (F-statistic):</th>           <td>  0.00</td> \n",
       "</tr>\n",
       "<tr>\n",
       "  <th>Time:</th>                 <td>09:26:00</td>     <th>  Log-Likelihood:    </th>          <td> -1458.4</td>\n",
       "</tr>\n",
       "<tr>\n",
       "  <th>No. Observations:</th>      <td>  1000</td>      <th>  AIC:               </th>          <td>   2921.</td>\n",
       "</tr>\n",
       "<tr>\n",
       "  <th>Df Residuals:</th>          <td>   998</td>      <th>  BIC:               </th>          <td>   2931.</td>\n",
       "</tr>\n",
       "<tr>\n",
       "  <th>Df Model:</th>              <td>     2</td>      <th>                     </th>              <td> </td>   \n",
       "</tr>\n",
       "<tr>\n",
       "  <th>Covariance Type:</th>      <td>nonrobust</td>    <th>                     </th>              <td> </td>   \n",
       "</tr>\n",
       "</table>\n",
       "<table class=\"simpletable\">\n",
       "<tr>\n",
       "   <td></td>     <th>coef</th>     <th>std err</th>      <th>t</th>      <th>P>|t|</th>  <th>[0.025</th>    <th>0.975]</th>  \n",
       "</tr>\n",
       "<tr>\n",
       "  <th>x1</th> <td>    1.2643</td> <td>    0.036</td> <td>   34.848</td> <td> 0.000</td> <td>    1.193</td> <td>    1.335</td>\n",
       "</tr>\n",
       "<tr>\n",
       "  <th>x2</th> <td>    5.0804</td> <td>    0.050</td> <td>  101.554</td> <td> 0.000</td> <td>    4.982</td> <td>    5.179</td>\n",
       "</tr>\n",
       "</table>\n",
       "<table class=\"simpletable\">\n",
       "<tr>\n",
       "  <th>Omnibus:</th>       <td> 0.873</td> <th>  Durbin-Watson:     </th> <td>   2.034</td>\n",
       "</tr>\n",
       "<tr>\n",
       "  <th>Prob(Omnibus):</th> <td> 0.646</td> <th>  Jarque-Bera (JB):  </th> <td>   0.744</td>\n",
       "</tr>\n",
       "<tr>\n",
       "  <th>Skew:</th>          <td>-0.021</td> <th>  Prob(JB):          </th> <td>   0.689</td>\n",
       "</tr>\n",
       "<tr>\n",
       "  <th>Kurtosis:</th>      <td> 3.127</td> <th>  Cond. No.          </th> <td>    1.89</td>\n",
       "</tr>\n",
       "</table><br/><br/>Notes:<br/>[1] R² is computed without centering (uncentered) since the model does not contain a constant.<br/>[2] Standard Errors assume that the covariance matrix of the errors is correctly specified."
      ],
      "text/plain": [
       "<class 'statsmodels.iolib.summary.Summary'>\n",
       "\"\"\"\n",
       "                                 OLS Regression Results                                \n",
       "=======================================================================================\n",
       "Dep. Variable:                      y   R-squared (uncentered):                   0.952\n",
       "Model:                            OLS   Adj. R-squared (uncentered):              0.952\n",
       "Method:                 Least Squares   F-statistic:                              9933.\n",
       "Date:                Wed, 03 Aug 2022   Prob (F-statistic):                        0.00\n",
       "Time:                        09:26:00   Log-Likelihood:                         -1458.4\n",
       "No. Observations:                1000   AIC:                                      2921.\n",
       "Df Residuals:                     998   BIC:                                      2931.\n",
       "Df Model:                           2                                                  \n",
       "Covariance Type:            nonrobust                                                  \n",
       "==============================================================================\n",
       "                 coef    std err          t      P>|t|      [0.025      0.975]\n",
       "------------------------------------------------------------------------------\n",
       "x1             1.2643      0.036     34.848      0.000       1.193       1.335\n",
       "x2             5.0804      0.050    101.554      0.000       4.982       5.179\n",
       "==============================================================================\n",
       "Omnibus:                        0.873   Durbin-Watson:                   2.034\n",
       "Prob(Omnibus):                  0.646   Jarque-Bera (JB):                0.744\n",
       "Skew:                          -0.021   Prob(JB):                        0.689\n",
       "Kurtosis:                       3.127   Cond. No.                         1.89\n",
       "==============================================================================\n",
       "\n",
       "Notes:\n",
       "[1] R² is computed without centering (uncentered) since the model does not contain a constant.\n",
       "[2] Standard Errors assume that the covariance matrix of the errors is correctly specified.\n",
       "\"\"\""
      ]
     },
     "execution_count": 10,
     "metadata": {},
     "output_type": "execute_result"
    }
   ],
   "source": [
    "model = OLS(np.asarray(df[outcome]), np.asarray(df[[common_cause, treatment]], dtype=np.float64))\n",
    "result = model.fit()\n",
    "result.summary()"
   ]
  }
 ],
 "metadata": {
  "kernelspec": {
   "display_name": "Python 3",
   "language": "python",
   "name": "python3"
  },
  "language_info": {
   "codemirror_mode": {
    "name": "ipython",
    "version": 3
   },
   "file_extension": ".py",
   "mimetype": "text/x-python",
   "name": "python",
   "nbconvert_exporter": "python",
   "pygments_lexer": "ipython3",
   "version": "3.8.10"
  },
  "toc": {
   "base_numbering": 1,
   "nav_menu": {},
   "number_sections": false,
   "sideBar": true,
   "skip_h1_title": true,
   "title_cell": "Table of Contents",
   "title_sidebar": "Contents",
   "toc_cell": false,
   "toc_position": {},
   "toc_section_display": true,
   "toc_window_display": false
  }
 },
 "nbformat": 4,
 "nbformat_minor": 4
}
