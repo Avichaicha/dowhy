{
 "cells": [
  {
   "cell_type": "markdown",
   "metadata": {},
   "source": [
    "# Demo for the DoWhy causal API\n",
    "We show a simple example of adding a causal extension to any dataframe. "
   ]
  },
  {
   "cell_type": "code",
   "execution_count": 1,
   "metadata": {
    "execution": {
     "iopub.execute_input": "2022-09-07T07:45:27.520503Z",
     "iopub.status.busy": "2022-09-07T07:45:27.520095Z",
     "iopub.status.idle": "2022-09-07T07:45:28.574562Z",
     "shell.execute_reply": "2022-09-07T07:45:28.573416Z"
    }
   },
   "outputs": [],
   "source": [
    "import dowhy.datasets\n",
    "import dowhy.api\n",
    "\n",
    "import numpy as np\n",
    "import pandas as pd\n",
    "\n",
    "from statsmodels.api import OLS"
   ]
  },
  {
   "cell_type": "code",
   "execution_count": 2,
   "metadata": {
    "execution": {
     "iopub.execute_input": "2022-09-07T07:45:28.577815Z",
     "iopub.status.busy": "2022-09-07T07:45:28.577475Z",
     "iopub.status.idle": "2022-09-07T07:45:28.622259Z",
     "shell.execute_reply": "2022-09-07T07:45:28.621653Z"
    }
   },
   "outputs": [
    {
     "data": {
      "text/html": [
       "<div>\n",
       "<style scoped>\n",
       "    .dataframe tbody tr th:only-of-type {\n",
       "        vertical-align: middle;\n",
       "    }\n",
       "\n",
       "    .dataframe tbody tr th {\n",
       "        vertical-align: top;\n",
       "    }\n",
       "\n",
       "    .dataframe thead th {\n",
       "        text-align: right;\n",
       "    }\n",
       "</style>\n",
       "<table border=\"1\" class=\"dataframe\">\n",
       "  <thead>\n",
       "    <tr style=\"text-align: right;\">\n",
       "      <th></th>\n",
       "      <th>W0</th>\n",
       "      <th>v0</th>\n",
       "      <th>y</th>\n",
       "    </tr>\n",
       "  </thead>\n",
       "  <tbody>\n",
       "    <tr>\n",
       "      <th>0</th>\n",
       "      <td>0.797400</td>\n",
       "      <td>True</td>\n",
       "      <td>5.966527</td>\n",
       "    </tr>\n",
       "    <tr>\n",
       "      <th>1</th>\n",
       "      <td>-0.977541</td>\n",
       "      <td>False</td>\n",
       "      <td>-2.584024</td>\n",
       "    </tr>\n",
       "    <tr>\n",
       "      <th>2</th>\n",
       "      <td>0.929717</td>\n",
       "      <td>True</td>\n",
       "      <td>6.430714</td>\n",
       "    </tr>\n",
       "    <tr>\n",
       "      <th>3</th>\n",
       "      <td>-0.009700</td>\n",
       "      <td>True</td>\n",
       "      <td>6.410296</td>\n",
       "    </tr>\n",
       "    <tr>\n",
       "      <th>4</th>\n",
       "      <td>1.271270</td>\n",
       "      <td>True</td>\n",
       "      <td>7.191493</td>\n",
       "    </tr>\n",
       "    <tr>\n",
       "      <th>...</th>\n",
       "      <td>...</td>\n",
       "      <td>...</td>\n",
       "      <td>...</td>\n",
       "    </tr>\n",
       "    <tr>\n",
       "      <th>995</th>\n",
       "      <td>-0.291776</td>\n",
       "      <td>False</td>\n",
       "      <td>-0.866438</td>\n",
       "    </tr>\n",
       "    <tr>\n",
       "      <th>996</th>\n",
       "      <td>-0.537856</td>\n",
       "      <td>False</td>\n",
       "      <td>-0.216057</td>\n",
       "    </tr>\n",
       "    <tr>\n",
       "      <th>997</th>\n",
       "      <td>0.530300</td>\n",
       "      <td>True</td>\n",
       "      <td>8.019742</td>\n",
       "    </tr>\n",
       "    <tr>\n",
       "      <th>998</th>\n",
       "      <td>-1.632014</td>\n",
       "      <td>False</td>\n",
       "      <td>-4.037000</td>\n",
       "    </tr>\n",
       "    <tr>\n",
       "      <th>999</th>\n",
       "      <td>2.623773</td>\n",
       "      <td>True</td>\n",
       "      <td>11.939724</td>\n",
       "    </tr>\n",
       "  </tbody>\n",
       "</table>\n",
       "<p>1000 rows × 3 columns</p>\n",
       "</div>"
      ],
      "text/plain": [
       "           W0     v0          y\n",
       "0    0.797400   True   5.966527\n",
       "1   -0.977541  False  -2.584024\n",
       "2    0.929717   True   6.430714\n",
       "3   -0.009700   True   6.410296\n",
       "4    1.271270   True   7.191493\n",
       "..        ...    ...        ...\n",
       "995 -0.291776  False  -0.866438\n",
       "996 -0.537856  False  -0.216057\n",
       "997  0.530300   True   8.019742\n",
       "998 -1.632014  False  -4.037000\n",
       "999  2.623773   True  11.939724\n",
       "\n",
       "[1000 rows x 3 columns]"
      ]
     },
     "execution_count": 2,
     "metadata": {},
     "output_type": "execute_result"
    }
   ],
   "source": [
    "data = dowhy.datasets.linear_dataset(beta=5,\n",
    "        num_common_causes=1,\n",
    "        num_instruments = 0,\n",
    "        num_samples=1000,\n",
    "        treatment_is_binary=True)\n",
    "df = data['df']\n",
    "df['y'] = df['y'] + np.random.normal(size=len(df)) # Adding noise to data. Without noise, the variance in Y|X, Z is zero, and mcmc fails.\n",
    "#data['dot_graph'] = 'digraph { v ->y;X0-> v;X0-> y;}'\n",
    "\n",
    "treatment= data[\"treatment_name\"][0]\n",
    "outcome = data[\"outcome_name\"][0]\n",
    "common_cause = data[\"common_causes_names\"][0]\n",
    "df"
   ]
  },
  {
   "cell_type": "code",
   "execution_count": 3,
   "metadata": {
    "execution": {
     "iopub.execute_input": "2022-09-07T07:45:28.624773Z",
     "iopub.status.busy": "2022-09-07T07:45:28.624560Z",
     "iopub.status.idle": "2022-09-07T07:45:29.361646Z",
     "shell.execute_reply": "2022-09-07T07:45:29.361029Z"
    }
   },
   "outputs": [
    {
     "data": {
      "text/plain": [
       "<AxesSubplot:xlabel='v0'>"
      ]
     },
     "execution_count": 3,
     "metadata": {},
     "output_type": "execute_result"
    },
    {
     "data": {
      "image/png": "[encoded data removed]",
      "text/plain": [
       "<Figure size 640x480 with 1 Axes>"
      ]
     },
     "metadata": {},
     "output_type": "display_data"
    }
   ],
   "source": [
    "# data['df'] is just a regular pandas.DataFrame\n",
    "df.causal.do(x=treatment,\n",
    "                     variable_types={treatment: 'b', outcome: 'c', common_cause: 'c'},\n",
    "                     outcome=outcome,\n",
    "                     common_causes=[common_cause],\n",
    "                     proceed_when_unidentifiable=True).groupby(treatment).mean().plot(y=outcome, kind='bar')"
   ]
  },
  {
   "cell_type": "code",
   "execution_count": 4,
   "metadata": {
    "execution": {
     "iopub.execute_input": "2022-09-07T07:45:29.364526Z",
     "iopub.status.busy": "2022-09-07T07:45:29.364214Z",
     "iopub.status.idle": "2022-09-07T07:45:29.465847Z",
     "shell.execute_reply": "2022-09-07T07:45:29.465345Z"
    }
   },
   "outputs": [
    {
     "data": {
      "text/plain": [
       "<AxesSubplot:xlabel='v0'>"
      ]
     },
     "execution_count": 4,
     "metadata": {},
     "output_type": "execute_result"
    },
    {
     "data": {
      "image/png": "[encoded data removed]",
      "text/plain": [
       "<Figure size 640x480 with 1 Axes>"
      ]
     },
     "metadata": {},
     "output_type": "display_data"
    }
   ],
   "source": [
    "df.causal.do(x={treatment: 1}, \n",
    "              variable_types={treatment:'b', outcome: 'c', common_cause: 'c'}, \n",
    "              outcome=outcome,\n",
    "              method='weighting', \n",
    "              common_causes=[common_cause],\n",
    "              proceed_when_unidentifiable=True).groupby(treatment).mean().plot(y=outcome, kind='bar')"
   ]
  },
  {
   "cell_type": "code",
   "execution_count": 5,
   "metadata": {
    "execution": {
     "iopub.execute_input": "2022-09-07T07:45:29.468571Z",
     "iopub.status.busy": "2022-09-07T07:45:29.468166Z",
     "iopub.status.idle": "2022-09-07T07:45:29.497048Z",
     "shell.execute_reply": "2022-09-07T07:45:29.496447Z"
    }
   },
   "outputs": [],
   "source": [
    "cdf_1 = df.causal.do(x={treatment: 1}, \n",
    "              variable_types={treatment: 'b', outcome: 'c', common_cause: 'c'}, \n",
    "              outcome=outcome, \n",
    "              dot_graph=data['dot_graph'],\n",
    "              proceed_when_unidentifiable=True)\n",
    "\n",
    "cdf_0 = df.causal.do(x={treatment: 0}, \n",
    "              variable_types={treatment: 'b', outcome: 'c', common_cause: 'c'}, \n",
    "              outcome=outcome, \n",
    "              dot_graph=data['dot_graph'],\n",
    "              proceed_when_unidentifiable=True)\n"
   ]
  },
  {
   "cell_type": "code",
   "execution_count": 6,
   "metadata": {
    "execution": {
     "iopub.execute_input": "2022-09-07T07:45:29.500020Z",
     "iopub.status.busy": "2022-09-07T07:45:29.499796Z",
     "iopub.status.idle": "2022-09-07T07:45:29.511516Z",
     "shell.execute_reply": "2022-09-07T07:45:29.510969Z"
    },
    "scrolled": true
   },
   "outputs": [
    {
     "data": {
      "text/html": [
       "<div>\n",
       "<style scoped>\n",
       "    .dataframe tbody tr th:only-of-type {\n",
       "        vertical-align: middle;\n",
       "    }\n",
       "\n",
       "    .dataframe tbody tr th {\n",
       "        vertical-align: top;\n",
       "    }\n",
       "\n",
       "    .dataframe thead th {\n",
       "        text-align: right;\n",
       "    }\n",
       "</style>\n",
       "<table border=\"1\" class=\"dataframe\">\n",
       "  <thead>\n",
       "    <tr style=\"text-align: right;\">\n",
       "      <th></th>\n",
       "      <th>W0</th>\n",
       "      <th>v0</th>\n",
       "      <th>y</th>\n",
       "      <th>propensity_score</th>\n",
       "      <th>weight</th>\n",
       "    </tr>\n",
       "  </thead>\n",
       "  <tbody>\n",
       "    <tr>\n",
       "      <th>0</th>\n",
       "      <td>0.529929</td>\n",
       "      <td>False</td>\n",
       "      <td>1.774144</td>\n",
       "      <td>0.321879</td>\n",
       "      <td>3.106757</td>\n",
       "    </tr>\n",
       "    <tr>\n",
       "      <th>1</th>\n",
       "      <td>0.601083</td>\n",
       "      <td>False</td>\n",
       "      <td>0.311248</td>\n",
       "      <td>0.300136</td>\n",
       "      <td>3.331818</td>\n",
       "    </tr>\n",
       "    <tr>\n",
       "      <th>2</th>\n",
       "      <td>0.458131</td>\n",
       "      <td>False</td>\n",
       "      <td>-0.073143</td>\n",
       "      <td>0.344629</td>\n",
       "      <td>2.901670</td>\n",
       "    </tr>\n",
       "    <tr>\n",
       "      <th>3</th>\n",
       "      <td>1.512228</td>\n",
       "      <td>False</td>\n",
       "      <td>1.012716</td>\n",
       "      <td>0.104671</td>\n",
       "      <td>9.553751</td>\n",
       "    </tr>\n",
       "    <tr>\n",
       "      <th>4</th>\n",
       "      <td>1.222345</td>\n",
       "      <td>False</td>\n",
       "      <td>4.207092</td>\n",
       "      <td>0.150222</td>\n",
       "      <td>6.656811</td>\n",
       "    </tr>\n",
       "    <tr>\n",
       "      <th>...</th>\n",
       "      <td>...</td>\n",
       "      <td>...</td>\n",
       "      <td>...</td>\n",
       "      <td>...</td>\n",
       "      <td>...</td>\n",
       "    </tr>\n",
       "    <tr>\n",
       "      <th>995</th>\n",
       "      <td>1.318720</td>\n",
       "      <td>False</td>\n",
       "      <td>4.773735</td>\n",
       "      <td>0.133503</td>\n",
       "      <td>7.490483</td>\n",
       "    </tr>\n",
       "    <tr>\n",
       "      <th>996</th>\n",
       "      <td>1.992202</td>\n",
       "      <td>False</td>\n",
       "      <td>4.616561</td>\n",
       "      <td>0.055670</td>\n",
       "      <td>17.963054</td>\n",
       "    </tr>\n",
       "    <tr>\n",
       "      <th>997</th>\n",
       "      <td>-0.437050</td>\n",
       "      <td>False</td>\n",
       "      <td>-0.335827</td>\n",
       "      <td>0.653445</td>\n",
       "      <td>1.530351</td>\n",
       "    </tr>\n",
       "    <tr>\n",
       "      <th>998</th>\n",
       "      <td>0.529929</td>\n",
       "      <td>False</td>\n",
       "      <td>1.774144</td>\n",
       "      <td>0.321879</td>\n",
       "      <td>3.106757</td>\n",
       "    </tr>\n",
       "    <tr>\n",
       "      <th>999</th>\n",
       "      <td>0.734677</td>\n",
       "      <td>False</td>\n",
       "      <td>-0.071770</td>\n",
       "      <td>0.261687</td>\n",
       "      <td>3.821352</td>\n",
       "    </tr>\n",
       "  </tbody>\n",
       "</table>\n",
       "<p>1000 rows × 5 columns</p>\n",
       "</div>"
      ],
      "text/plain": [
       "           W0     v0         y  propensity_score     weight\n",
       "0    0.529929  False  1.774144          0.321879   3.106757\n",
       "1    0.601083  False  0.311248          0.300136   3.331818\n",
       "2    0.458131  False -0.073143          0.344629   2.901670\n",
       "3    1.512228  False  1.012716          0.104671   9.553751\n",
       "4    1.222345  False  4.207092          0.150222   6.656811\n",
       "..        ...    ...       ...               ...        ...\n",
       "995  1.318720  False  4.773735          0.133503   7.490483\n",
       "996  1.992202  False  4.616561          0.055670  17.963054\n",
       "997 -0.437050  False -0.335827          0.653445   1.530351\n",
       "998  0.529929  False  1.774144          0.321879   3.106757\n",
       "999  0.734677  False -0.071770          0.261687   3.821352\n",
       "\n",
       "[1000 rows x 5 columns]"
      ]
     },
     "execution_count": 6,
     "metadata": {},
     "output_type": "execute_result"
    }
   ],
   "source": [
    "cdf_0"
   ]
  },
  {
   "cell_type": "code",
   "execution_count": 7,
   "metadata": {
    "execution": {
     "iopub.execute_input": "2022-09-07T07:45:29.514088Z",
     "iopub.status.busy": "2022-09-07T07:45:29.513866Z",
     "iopub.status.idle": "2022-09-07T07:45:29.525274Z",
     "shell.execute_reply": "2022-09-07T07:45:29.524706Z"
    }
   },
   "outputs": [
    {
     "data": {
      "text/html": [
       "<div>\n",
       "<style scoped>\n",
       "    .dataframe tbody tr th:only-of-type {\n",
       "        vertical-align: middle;\n",
       "    }\n",
       "\n",
       "    .dataframe tbody tr th {\n",
       "        vertical-align: top;\n",
       "    }\n",
       "\n",
       "    .dataframe thead th {\n",
       "        text-align: right;\n",
       "    }\n",
       "</style>\n",
       "<table border=\"1\" class=\"dataframe\">\n",
       "  <thead>\n",
       "    <tr style=\"text-align: right;\">\n",
       "      <th></th>\n",
       "      <th>W0</th>\n",
       "      <th>v0</th>\n",
       "      <th>y</th>\n",
       "      <th>propensity_score</th>\n",
       "      <th>weight</th>\n",
       "    </tr>\n",
       "  </thead>\n",
       "  <tbody>\n",
       "    <tr>\n",
       "      <th>0</th>\n",
       "      <td>0.622134</td>\n",
       "      <td>True</td>\n",
       "      <td>6.369524</td>\n",
       "      <td>0.706133</td>\n",
       "      <td>1.416164</td>\n",
       "    </tr>\n",
       "    <tr>\n",
       "      <th>1</th>\n",
       "      <td>-1.423049</td>\n",
       "      <td>True</td>\n",
       "      <td>1.091703</td>\n",
       "      <td>0.114994</td>\n",
       "      <td>8.696098</td>\n",
       "    </tr>\n",
       "    <tr>\n",
       "      <th>2</th>\n",
       "      <td>1.426200</td>\n",
       "      <td>True</td>\n",
       "      <td>9.084295</td>\n",
       "      <td>0.883258</td>\n",
       "      <td>1.132172</td>\n",
       "    </tr>\n",
       "    <tr>\n",
       "      <th>3</th>\n",
       "      <td>1.969890</td>\n",
       "      <td>True</td>\n",
       "      <td>11.148711</td>\n",
       "      <td>0.942633</td>\n",
       "      <td>1.060858</td>\n",
       "    </tr>\n",
       "    <tr>\n",
       "      <th>4</th>\n",
       "      <td>0.797400</td>\n",
       "      <td>True</td>\n",
       "      <td>5.966527</td>\n",
       "      <td>0.755227</td>\n",
       "      <td>1.324104</td>\n",
       "    </tr>\n",
       "    <tr>\n",
       "      <th>...</th>\n",
       "      <td>...</td>\n",
       "      <td>...</td>\n",
       "      <td>...</td>\n",
       "      <td>...</td>\n",
       "      <td>...</td>\n",
       "    </tr>\n",
       "    <tr>\n",
       "      <th>995</th>\n",
       "      <td>0.475066</td>\n",
       "      <td>True</td>\n",
       "      <td>5.945687</td>\n",
       "      <td>0.660806</td>\n",
       "      <td>1.513302</td>\n",
       "    </tr>\n",
       "    <tr>\n",
       "      <th>996</th>\n",
       "      <td>0.392773</td>\n",
       "      <td>True</td>\n",
       "      <td>6.540254</td>\n",
       "      <td>0.634020</td>\n",
       "      <td>1.577238</td>\n",
       "    </tr>\n",
       "    <tr>\n",
       "      <th>997</th>\n",
       "      <td>0.337204</td>\n",
       "      <td>True</td>\n",
       "      <td>7.159499</td>\n",
       "      <td>0.615439</td>\n",
       "      <td>1.624856</td>\n",
       "    </tr>\n",
       "    <tr>\n",
       "      <th>998</th>\n",
       "      <td>0.327837</td>\n",
       "      <td>True</td>\n",
       "      <td>5.574532</td>\n",
       "      <td>0.612272</td>\n",
       "      <td>1.633262</td>\n",
       "    </tr>\n",
       "    <tr>\n",
       "      <th>999</th>\n",
       "      <td>-0.478781</td>\n",
       "      <td>True</td>\n",
       "      <td>3.517089</td>\n",
       "      <td>0.333201</td>\n",
       "      <td>3.001194</td>\n",
       "    </tr>\n",
       "  </tbody>\n",
       "</table>\n",
       "<p>1000 rows × 5 columns</p>\n",
       "</div>"
      ],
      "text/plain": [
       "           W0    v0          y  propensity_score    weight\n",
       "0    0.622134  True   6.369524          0.706133  1.416164\n",
       "1   -1.423049  True   1.091703          0.114994  8.696098\n",
       "2    1.426200  True   9.084295          0.883258  1.132172\n",
       "3    1.969890  True  11.148711          0.942633  1.060858\n",
       "4    0.797400  True   5.966527          0.755227  1.324104\n",
       "..        ...   ...        ...               ...       ...\n",
       "995  0.475066  True   5.945687          0.660806  1.513302\n",
       "996  0.392773  True   6.540254          0.634020  1.577238\n",
       "997  0.337204  True   7.159499          0.615439  1.624856\n",
       "998  0.327837  True   5.574532          0.612272  1.633262\n",
       "999 -0.478781  True   3.517089          0.333201  3.001194\n",
       "\n",
       "[1000 rows x 5 columns]"
      ]
     },
     "execution_count": 7,
     "metadata": {},
     "output_type": "execute_result"
    }
   ],
   "source": [
    "cdf_1"
   ]
  },
  {
   "cell_type": "markdown",
   "metadata": {},
   "source": [
    "## Comparing the estimate to Linear Regression\n",
    "First, estimating the effect using the causal data frame, and the 95% confidence interval."
   ]
  },
  {
   "cell_type": "code",
   "execution_count": 8,
   "metadata": {
    "execution": {
     "iopub.execute_input": "2022-09-07T07:45:29.527906Z",
     "iopub.status.busy": "2022-09-07T07:45:29.527701Z",
     "iopub.status.idle": "2022-09-07T07:45:29.623509Z",
     "shell.execute_reply": "2022-09-07T07:45:29.622436Z"
    }
   },
   "outputs": [
    {
     "data": {
      "image/png": "[encoded data removed]",
      "text/latex": [
       "$\\displaystyle 5.06284794746725$"
      ],
      "text/plain": [
       "5.062847947467247"
      ]
     },
     "execution_count": 8,
     "metadata": {},
     "output_type": "execute_result"
    }
   ],
   "source": [
    "(cdf_1['y'] - cdf_0['y']).mean()"
   ]
  },
  {
   "cell_type": "code",
   "execution_count": 9,
   "metadata": {
    "execution": {
     "iopub.execute_input": "2022-09-07T07:45:29.626390Z",
     "iopub.status.busy": "2022-09-07T07:45:29.625816Z",
     "iopub.status.idle": "2022-09-07T07:45:29.651208Z",
     "shell.execute_reply": "2022-09-07T07:45:29.650302Z"
    }
   },
   "outputs": [
    {
     "data": {
      "image/png": "[encoded data removed]",
      "text/latex": [
       "$\\displaystyle 0.248799333920274$"
      ],
      "text/plain": [
       "0.24879933392027404"
      ]
     },
     "execution_count": 9,
     "metadata": {},
     "output_type": "execute_result"
    }
   ],
   "source": [
    "1.96*(cdf_1['y'] - cdf_0['y']).std() / np.sqrt(len(df))"
   ]
  },
  {
   "cell_type": "markdown",
   "metadata": {},
   "source": [
    "Comparing to the estimate from OLS."
   ]
  },
  {
   "cell_type": "code",
   "execution_count": 10,
   "metadata": {
    "execution": {
     "iopub.execute_input": "2022-09-07T07:45:29.654054Z",
     "iopub.status.busy": "2022-09-07T07:45:29.653653Z",
     "iopub.status.idle": "2022-09-07T07:45:29.670652Z",
     "shell.execute_reply": "2022-09-07T07:45:29.669736Z"
    }
   },
   "outputs": [
    {
     "data": {
      "text/html": [
       "<table class=\"simpletable\">\n",
       "<caption>OLS Regression Results</caption>\n",
       "<tr>\n",
       "  <th>Dep. Variable:</th>            <td>y</td>        <th>  R-squared (uncentered):</th>      <td>   0.975</td> \n",
       "</tr>\n",
       "<tr>\n",
       "  <th>Model:</th>                   <td>OLS</td>       <th>  Adj. R-squared (uncentered):</th> <td>   0.975</td> \n",
       "</tr>\n",
       "<tr>\n",
       "  <th>Method:</th>             <td>Least Squares</td>  <th>  F-statistic:       </th>          <td>1.946e+04</td>\n",
       "</tr>\n",
       "<tr>\n",
       "  <th>Date:</th>             <td>Wed, 07 Sep 2022</td> <th>  Prob (F-statistic):</th>           <td>  0.00</td>  \n",
       "</tr>\n",
       "<tr>\n",
       "  <th>Time:</th>                 <td>07:45:29</td>     <th>  Log-Likelihood:    </th>          <td> -1407.6</td> \n",
       "</tr>\n",
       "<tr>\n",
       "  <th>No. Observations:</th>      <td>  1000</td>      <th>  AIC:               </th>          <td>   2819.</td> \n",
       "</tr>\n",
       "<tr>\n",
       "  <th>Df Residuals:</th>          <td>   998</td>      <th>  BIC:               </th>          <td>   2829.</td> \n",
       "</tr>\n",
       "<tr>\n",
       "  <th>Df Model:</th>              <td>     2</td>      <th>                     </th>              <td> </td>    \n",
       "</tr>\n",
       "<tr>\n",
       "  <th>Covariance Type:</th>      <td>nonrobust</td>    <th>                     </th>              <td> </td>    \n",
       "</tr>\n",
       "</table>\n",
       "<table class=\"simpletable\">\n",
       "<tr>\n",
       "   <td></td>     <th>coef</th>     <th>std err</th>      <th>t</th>      <th>P>|t|</th>  <th>[0.025</th>    <th>0.975]</th>  \n",
       "</tr>\n",
       "<tr>\n",
       "  <th>x1</th> <td>    2.5448</td> <td>    0.036</td> <td>   71.388</td> <td> 0.000</td> <td>    2.475</td> <td>    2.615</td>\n",
       "</tr>\n",
       "<tr>\n",
       "  <th>x2</th> <td>    4.9453</td> <td>    0.051</td> <td>   96.711</td> <td> 0.000</td> <td>    4.845</td> <td>    5.046</td>\n",
       "</tr>\n",
       "</table>\n",
       "<table class=\"simpletable\">\n",
       "<tr>\n",
       "  <th>Omnibus:</th>       <td> 2.718</td> <th>  Durbin-Watson:     </th> <td>   2.003</td>\n",
       "</tr>\n",
       "<tr>\n",
       "  <th>Prob(Omnibus):</th> <td> 0.257</td> <th>  Jarque-Bera (JB):  </th> <td>   2.918</td>\n",
       "</tr>\n",
       "<tr>\n",
       "  <th>Skew:</th>          <td> 0.016</td> <th>  Prob(JB):          </th> <td>   0.232</td>\n",
       "</tr>\n",
       "<tr>\n",
       "  <th>Kurtosis:</th>      <td> 3.263</td> <th>  Cond. No.          </th> <td>    2.33</td>\n",
       "</tr>\n",
       "</table><br/><br/>Notes:<br/>[1] R² is computed without centering (uncentered) since the model does not contain a constant.<br/>[2] Standard Errors assume that the covariance matrix of the errors is correctly specified."
      ],
      "text/plain": [
       "<class 'statsmodels.iolib.summary.Summary'>\n",
       "\"\"\"\n",
       "                                 OLS Regression Results                                \n",
       "=======================================================================================\n",
       "Dep. Variable:                      y   R-squared (uncentered):                   0.975\n",
       "Model:                            OLS   Adj. R-squared (uncentered):              0.975\n",
       "Method:                 Least Squares   F-statistic:                          1.946e+04\n",
       "Date:                Wed, 07 Sep 2022   Prob (F-statistic):                        0.00\n",
       "Time:                        07:45:29   Log-Likelihood:                         -1407.6\n",
       "No. Observations:                1000   AIC:                                      2819.\n",
       "Df Residuals:                     998   BIC:                                      2829.\n",
       "Df Model:                           2                                                  \n",
       "Covariance Type:            nonrobust                                                  \n",
       "==============================================================================\n",
       "                 coef    std err          t      P>|t|      [0.025      0.975]\n",
       "------------------------------------------------------------------------------\n",
       "x1             2.5448      0.036     71.388      0.000       2.475       2.615\n",
       "x2             4.9453      0.051     96.711      0.000       4.845       5.046\n",
       "==============================================================================\n",
       "Omnibus:                        2.718   Durbin-Watson:                   2.003\n",
       "Prob(Omnibus):                  0.257   Jarque-Bera (JB):                2.918\n",
       "Skew:                           0.016   Prob(JB):                        0.232\n",
       "Kurtosis:                       3.263   Cond. No.                         2.33\n",
       "==============================================================================\n",
       "\n",
       "Notes:\n",
       "[1] R² is computed without centering (uncentered) since the model does not contain a constant.\n",
       "[2] Standard Errors assume that the covariance matrix of the errors is correctly specified.\n",
       "\"\"\""
      ]
     },
     "execution_count": 10,
     "metadata": {},
     "output_type": "execute_result"
    }
   ],
   "source": [
    "model = OLS(np.asarray(df[outcome]), np.asarray(df[[common_cause, treatment]], dtype=np.float64))\n",
    "result = model.fit()\n",
    "result.summary()"
   ]
  }
 ],
 "metadata": {
  "kernelspec": {
   "display_name": "Python 3",
   "language": "python",
   "name": "python3"
  },
  "language_info": {
   "codemirror_mode": {
    "name": "ipython",
    "version": 3
   },
   "file_extension": ".py",
   "mimetype": "text/x-python",
   "name": "python",
   "nbconvert_exporter": "python",
   "pygments_lexer": "ipython3",
   "version": "3.8.10"
  },
  "toc": {
   "base_numbering": 1,
   "nav_menu": {},
   "number_sections": false,
   "sideBar": true,
   "skip_h1_title": true,
   "title_cell": "Table of Contents",
   "title_sidebar": "Contents",
   "toc_cell": false,
   "toc_position": {},
   "toc_section_display": true,
   "toc_window_display": false
  }
 },
 "nbformat": 4,
 "nbformat_minor": 4
}
