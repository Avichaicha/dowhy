{
 "cells": [
  {
   "cell_type": "markdown",
   "metadata": {},
   "source": [
    "# Demo for the DoWhy causal API\n",
    "We show a simple example of adding a causal extension to any dataframe. "
   ]
  },
  {
   "cell_type": "code",
   "execution_count": 1,
   "metadata": {
    "execution": {
     "iopub.execute_input": "2022-07-28T11:34:27.367533Z",
     "iopub.status.busy": "2022-07-28T11:34:27.367208Z",
     "iopub.status.idle": "2022-07-28T11:34:28.734210Z",
     "shell.execute_reply": "2022-07-28T11:34:28.733321Z"
    }
   },
   "outputs": [
    {
     "name": "stdout",
     "output_type": "stream",
     "text": [
      "keywords are unexpanded, not using\n"
     ]
    }
   ],
   "source": [
    "import dowhy.datasets\n",
    "import dowhy.api\n",
    "\n",
    "import numpy as np\n",
    "import pandas as pd\n",
    "\n",
    "from statsmodels.api import OLS"
   ]
  },
  {
   "cell_type": "code",
   "execution_count": 2,
   "metadata": {
    "execution": {
     "iopub.execute_input": "2022-07-28T11:34:28.739018Z",
     "iopub.status.busy": "2022-07-28T11:34:28.738145Z",
     "iopub.status.idle": "2022-07-28T11:34:28.799292Z",
     "shell.execute_reply": "2022-07-28T11:34:28.798566Z"
    }
   },
   "outputs": [
    {
     "data": {
      "text/html": [
       "<div>\n",
       "<style scoped>\n",
       "    .dataframe tbody tr th:only-of-type {\n",
       "        vertical-align: middle;\n",
       "    }\n",
       "\n",
       "    .dataframe tbody tr th {\n",
       "        vertical-align: top;\n",
       "    }\n",
       "\n",
       "    .dataframe thead th {\n",
       "        text-align: right;\n",
       "    }\n",
       "</style>\n",
       "<table border=\"1\" class=\"dataframe\">\n",
       "  <thead>\n",
       "    <tr style=\"text-align: right;\">\n",
       "      <th></th>\n",
       "      <th>W0</th>\n",
       "      <th>v0</th>\n",
       "      <th>y</th>\n",
       "    </tr>\n",
       "  </thead>\n",
       "  <tbody>\n",
       "    <tr>\n",
       "      <th>0</th>\n",
       "      <td>-1.222001</td>\n",
       "      <td>False</td>\n",
       "      <td>-3.485732</td>\n",
       "    </tr>\n",
       "    <tr>\n",
       "      <th>1</th>\n",
       "      <td>-0.933105</td>\n",
       "      <td>False</td>\n",
       "      <td>-2.074107</td>\n",
       "    </tr>\n",
       "    <tr>\n",
       "      <th>2</th>\n",
       "      <td>-0.813211</td>\n",
       "      <td>True</td>\n",
       "      <td>2.471221</td>\n",
       "    </tr>\n",
       "    <tr>\n",
       "      <th>3</th>\n",
       "      <td>-0.915939</td>\n",
       "      <td>False</td>\n",
       "      <td>-0.909618</td>\n",
       "    </tr>\n",
       "    <tr>\n",
       "      <th>4</th>\n",
       "      <td>-0.626387</td>\n",
       "      <td>False</td>\n",
       "      <td>-0.782156</td>\n",
       "    </tr>\n",
       "    <tr>\n",
       "      <th>...</th>\n",
       "      <td>...</td>\n",
       "      <td>...</td>\n",
       "      <td>...</td>\n",
       "    </tr>\n",
       "    <tr>\n",
       "      <th>995</th>\n",
       "      <td>-0.250806</td>\n",
       "      <td>False</td>\n",
       "      <td>-0.670440</td>\n",
       "    </tr>\n",
       "    <tr>\n",
       "      <th>996</th>\n",
       "      <td>1.082568</td>\n",
       "      <td>True</td>\n",
       "      <td>9.532965</td>\n",
       "    </tr>\n",
       "    <tr>\n",
       "      <th>997</th>\n",
       "      <td>-0.954456</td>\n",
       "      <td>False</td>\n",
       "      <td>-3.438873</td>\n",
       "    </tr>\n",
       "    <tr>\n",
       "      <th>998</th>\n",
       "      <td>-0.090437</td>\n",
       "      <td>True</td>\n",
       "      <td>4.728860</td>\n",
       "    </tr>\n",
       "    <tr>\n",
       "      <th>999</th>\n",
       "      <td>-1.125605</td>\n",
       "      <td>False</td>\n",
       "      <td>-3.442285</td>\n",
       "    </tr>\n",
       "  </tbody>\n",
       "</table>\n",
       "<p>1000 rows × 3 columns</p>\n",
       "</div>"
      ],
      "text/plain": [
       "           W0     v0         y\n",
       "0   -1.222001  False -3.485732\n",
       "1   -0.933105  False -2.074107\n",
       "2   -0.813211   True  2.471221\n",
       "3   -0.915939  False -0.909618\n",
       "4   -0.626387  False -0.782156\n",
       "..        ...    ...       ...\n",
       "995 -0.250806  False -0.670440\n",
       "996  1.082568   True  9.532965\n",
       "997 -0.954456  False -3.438873\n",
       "998 -0.090437   True  4.728860\n",
       "999 -1.125605  False -3.442285\n",
       "\n",
       "[1000 rows x 3 columns]"
      ]
     },
     "execution_count": 2,
     "metadata": {},
     "output_type": "execute_result"
    }
   ],
   "source": [
    "data = dowhy.datasets.linear_dataset(beta=5,\n",
    "        num_common_causes=1,\n",
    "        num_instruments = 0,\n",
    "        num_samples=1000,\n",
    "        treatment_is_binary=True)\n",
    "df = data['df']\n",
    "df['y'] = df['y'] + np.random.normal(size=len(df)) # Adding noise to data. Without noise, the variance in Y|X, Z is zero, and mcmc fails.\n",
    "#data['dot_graph'] = 'digraph { v ->y;X0-> v;X0-> y;}'\n",
    "\n",
    "treatment= data[\"treatment_name\"][0]\n",
    "outcome = data[\"outcome_name\"][0]\n",
    "common_cause = data[\"common_causes_names\"][0]\n",
    "df"
   ]
  },
  {
   "cell_type": "code",
   "execution_count": 3,
   "metadata": {
    "execution": {
     "iopub.execute_input": "2022-07-28T11:34:28.803180Z",
     "iopub.status.busy": "2022-07-28T11:34:28.802887Z",
     "iopub.status.idle": "2022-07-28T11:34:29.709863Z",
     "shell.execute_reply": "2022-07-28T11:34:29.709163Z"
    }
   },
   "outputs": [
    {
     "data": {
      "text/plain": [
       "<AxesSubplot:xlabel='v0'>"
      ]
     },
     "execution_count": 3,
     "metadata": {},
     "output_type": "execute_result"
    },
    {
     "data": {
      "image/png": "[encoded data removed]",
      "text/plain": [
       "<Figure size 432x288 with 1 Axes>"
      ]
     },
     "metadata": {
      "needs_background": "light"
     },
     "output_type": "display_data"
    }
   ],
   "source": [
    "# data['df'] is just a regular pandas.DataFrame\n",
    "df.causal.do(x=treatment,\n",
    "                     variable_types={treatment: 'b', outcome: 'c', common_cause: 'c'},\n",
    "                     outcome=outcome,\n",
    "                     common_causes=[common_cause],\n",
    "                     proceed_when_unidentifiable=True).groupby(treatment).mean().plot(y=outcome, kind='bar')"
   ]
  },
  {
   "cell_type": "code",
   "execution_count": 4,
   "metadata": {
    "execution": {
     "iopub.execute_input": "2022-07-28T11:34:29.713833Z",
     "iopub.status.busy": "2022-07-28T11:34:29.713096Z",
     "iopub.status.idle": "2022-07-28T11:34:29.824247Z",
     "shell.execute_reply": "2022-07-28T11:34:29.823590Z"
    }
   },
   "outputs": [
    {
     "data": {
      "text/plain": [
       "<AxesSubplot:xlabel='v0'>"
      ]
     },
     "execution_count": 4,
     "metadata": {},
     "output_type": "execute_result"
    },
    {
     "data": {
      "image/png": "[encoded data removed]",
      "text/plain": [
       "<Figure size 432x288 with 1 Axes>"
      ]
     },
     "metadata": {
      "needs_background": "light"
     },
     "output_type": "display_data"
    }
   ],
   "source": [
    "df.causal.do(x={treatment: 1}, \n",
    "              variable_types={treatment:'b', outcome: 'c', common_cause: 'c'}, \n",
    "              outcome=outcome,\n",
    "              method='weighting', \n",
    "              common_causes=[common_cause],\n",
    "              proceed_when_unidentifiable=True).groupby(treatment).mean().plot(y=outcome, kind='bar')"
   ]
  },
  {
   "cell_type": "code",
   "execution_count": 5,
   "metadata": {
    "execution": {
     "iopub.execute_input": "2022-07-28T11:34:29.827525Z",
     "iopub.status.busy": "2022-07-28T11:34:29.827102Z",
     "iopub.status.idle": "2022-07-28T11:34:29.864726Z",
     "shell.execute_reply": "2022-07-28T11:34:29.864003Z"
    }
   },
   "outputs": [],
   "source": [
    "cdf_1 = df.causal.do(x={treatment: 1}, \n",
    "              variable_types={treatment: 'b', outcome: 'c', common_cause: 'c'}, \n",
    "              outcome=outcome, \n",
    "              dot_graph=data['dot_graph'],\n",
    "              proceed_when_unidentifiable=True)\n",
    "\n",
    "cdf_0 = df.causal.do(x={treatment: 0}, \n",
    "              variable_types={treatment: 'b', outcome: 'c', common_cause: 'c'}, \n",
    "              outcome=outcome, \n",
    "              dot_graph=data['dot_graph'],\n",
    "              proceed_when_unidentifiable=True)\n"
   ]
  },
  {
   "cell_type": "code",
   "execution_count": 6,
   "metadata": {
    "execution": {
     "iopub.execute_input": "2022-07-28T11:34:29.868416Z",
     "iopub.status.busy": "2022-07-28T11:34:29.867990Z",
     "iopub.status.idle": "2022-07-28T11:34:29.881505Z",
     "shell.execute_reply": "2022-07-28T11:34:29.880846Z"
    },
    "scrolled": true
   },
   "outputs": [
    {
     "data": {
      "text/html": [
       "<div>\n",
       "<style scoped>\n",
       "    .dataframe tbody tr th:only-of-type {\n",
       "        vertical-align: middle;\n",
       "    }\n",
       "\n",
       "    .dataframe tbody tr th {\n",
       "        vertical-align: top;\n",
       "    }\n",
       "\n",
       "    .dataframe thead th {\n",
       "        text-align: right;\n",
       "    }\n",
       "</style>\n",
       "<table border=\"1\" class=\"dataframe\">\n",
       "  <thead>\n",
       "    <tr style=\"text-align: right;\">\n",
       "      <th></th>\n",
       "      <th>W0</th>\n",
       "      <th>v0</th>\n",
       "      <th>y</th>\n",
       "      <th>propensity_score</th>\n",
       "      <th>weight</th>\n",
       "    </tr>\n",
       "  </thead>\n",
       "  <tbody>\n",
       "    <tr>\n",
       "      <th>0</th>\n",
       "      <td>-1.182256</td>\n",
       "      <td>False</td>\n",
       "      <td>-3.623080</td>\n",
       "      <td>0.801734</td>\n",
       "      <td>1.247296</td>\n",
       "    </tr>\n",
       "    <tr>\n",
       "      <th>1</th>\n",
       "      <td>-0.487649</td>\n",
       "      <td>False</td>\n",
       "      <td>-2.121413</td>\n",
       "      <td>0.658217</td>\n",
       "      <td>1.519255</td>\n",
       "    </tr>\n",
       "    <tr>\n",
       "      <th>2</th>\n",
       "      <td>-0.904946</td>\n",
       "      <td>False</td>\n",
       "      <td>-2.846964</td>\n",
       "      <td>0.750450</td>\n",
       "      <td>1.332533</td>\n",
       "    </tr>\n",
       "    <tr>\n",
       "      <th>3</th>\n",
       "      <td>-0.859777</td>\n",
       "      <td>False</td>\n",
       "      <td>-3.200673</td>\n",
       "      <td>0.741308</td>\n",
       "      <td>1.348968</td>\n",
       "    </tr>\n",
       "    <tr>\n",
       "      <th>4</th>\n",
       "      <td>-0.148540</td>\n",
       "      <td>False</td>\n",
       "      <td>-1.170134</td>\n",
       "      <td>0.572781</td>\n",
       "      <td>1.745868</td>\n",
       "    </tr>\n",
       "    <tr>\n",
       "      <th>...</th>\n",
       "      <td>...</td>\n",
       "      <td>...</td>\n",
       "      <td>...</td>\n",
       "      <td>...</td>\n",
       "      <td>...</td>\n",
       "    </tr>\n",
       "    <tr>\n",
       "      <th>995</th>\n",
       "      <td>-0.336902</td>\n",
       "      <td>False</td>\n",
       "      <td>1.618981</td>\n",
       "      <td>0.621135</td>\n",
       "      <td>1.609956</td>\n",
       "    </tr>\n",
       "    <tr>\n",
       "      <th>996</th>\n",
       "      <td>-0.692316</td>\n",
       "      <td>False</td>\n",
       "      <td>-1.729917</td>\n",
       "      <td>0.705564</td>\n",
       "      <td>1.417306</td>\n",
       "    </tr>\n",
       "    <tr>\n",
       "      <th>997</th>\n",
       "      <td>-1.620600</td>\n",
       "      <td>False</td>\n",
       "      <td>-4.566993</td>\n",
       "      <td>0.865914</td>\n",
       "      <td>1.154849</td>\n",
       "    </tr>\n",
       "    <tr>\n",
       "      <th>998</th>\n",
       "      <td>-1.892528</td>\n",
       "      <td>False</td>\n",
       "      <td>-3.718492</td>\n",
       "      <td>0.896201</td>\n",
       "      <td>1.115821</td>\n",
       "    </tr>\n",
       "    <tr>\n",
       "      <th>999</th>\n",
       "      <td>-2.026637</td>\n",
       "      <td>False</td>\n",
       "      <td>-5.428421</td>\n",
       "      <td>0.908789</td>\n",
       "      <td>1.100366</td>\n",
       "    </tr>\n",
       "  </tbody>\n",
       "</table>\n",
       "<p>1000 rows × 5 columns</p>\n",
       "</div>"
      ],
      "text/plain": [
       "           W0     v0         y  propensity_score    weight\n",
       "0   -1.182256  False -3.623080          0.801734  1.247296\n",
       "1   -0.487649  False -2.121413          0.658217  1.519255\n",
       "2   -0.904946  False -2.846964          0.750450  1.332533\n",
       "3   -0.859777  False -3.200673          0.741308  1.348968\n",
       "4   -0.148540  False -1.170134          0.572781  1.745868\n",
       "..        ...    ...       ...               ...       ...\n",
       "995 -0.336902  False  1.618981          0.621135  1.609956\n",
       "996 -0.692316  False -1.729917          0.705564  1.417306\n",
       "997 -1.620600  False -4.566993          0.865914  1.154849\n",
       "998 -1.892528  False -3.718492          0.896201  1.115821\n",
       "999 -2.026637  False -5.428421          0.908789  1.100366\n",
       "\n",
       "[1000 rows x 5 columns]"
      ]
     },
     "execution_count": 6,
     "metadata": {},
     "output_type": "execute_result"
    }
   ],
   "source": [
    "cdf_0"
   ]
  },
  {
   "cell_type": "code",
   "execution_count": 7,
   "metadata": {
    "execution": {
     "iopub.execute_input": "2022-07-28T11:34:29.884740Z",
     "iopub.status.busy": "2022-07-28T11:34:29.884467Z",
     "iopub.status.idle": "2022-07-28T11:34:29.897105Z",
     "shell.execute_reply": "2022-07-28T11:34:29.896352Z"
    }
   },
   "outputs": [
    {
     "data": {
      "text/html": [
       "<div>\n",
       "<style scoped>\n",
       "    .dataframe tbody tr th:only-of-type {\n",
       "        vertical-align: middle;\n",
       "    }\n",
       "\n",
       "    .dataframe tbody tr th {\n",
       "        vertical-align: top;\n",
       "    }\n",
       "\n",
       "    .dataframe thead th {\n",
       "        text-align: right;\n",
       "    }\n",
       "</style>\n",
       "<table border=\"1\" class=\"dataframe\">\n",
       "  <thead>\n",
       "    <tr style=\"text-align: right;\">\n",
       "      <th></th>\n",
       "      <th>W0</th>\n",
       "      <th>v0</th>\n",
       "      <th>y</th>\n",
       "      <th>propensity_score</th>\n",
       "      <th>weight</th>\n",
       "    </tr>\n",
       "  </thead>\n",
       "  <tbody>\n",
       "    <tr>\n",
       "      <th>0</th>\n",
       "      <td>-0.475718</td>\n",
       "      <td>True</td>\n",
       "      <td>5.599699</td>\n",
       "      <td>0.344655</td>\n",
       "      <td>2.901452</td>\n",
       "    </tr>\n",
       "    <tr>\n",
       "      <th>1</th>\n",
       "      <td>-1.275431</td>\n",
       "      <td>True</td>\n",
       "      <td>2.667094</td>\n",
       "      <td>0.182922</td>\n",
       "      <td>5.466818</td>\n",
       "    </tr>\n",
       "    <tr>\n",
       "      <th>2</th>\n",
       "      <td>-1.705304</td>\n",
       "      <td>True</td>\n",
       "      <td>0.449158</td>\n",
       "      <td>0.123926</td>\n",
       "      <td>8.069303</td>\n",
       "    </tr>\n",
       "    <tr>\n",
       "      <th>3</th>\n",
       "      <td>-1.423017</td>\n",
       "      <td>True</td>\n",
       "      <td>1.696863</td>\n",
       "      <td>0.160530</td>\n",
       "      <td>6.229372</td>\n",
       "    </tr>\n",
       "    <tr>\n",
       "      <th>4</th>\n",
       "      <td>-2.539763</td>\n",
       "      <td>True</td>\n",
       "      <td>0.648335</td>\n",
       "      <td>0.054840</td>\n",
       "      <td>18.234739</td>\n",
       "    </tr>\n",
       "    <tr>\n",
       "      <th>...</th>\n",
       "      <td>...</td>\n",
       "      <td>...</td>\n",
       "      <td>...</td>\n",
       "      <td>...</td>\n",
       "      <td>...</td>\n",
       "    </tr>\n",
       "    <tr>\n",
       "      <th>995</th>\n",
       "      <td>-1.358155</td>\n",
       "      <td>True</td>\n",
       "      <td>2.322111</td>\n",
       "      <td>0.170085</td>\n",
       "      <td>5.879399</td>\n",
       "    </tr>\n",
       "    <tr>\n",
       "      <th>996</th>\n",
       "      <td>-0.637219</td>\n",
       "      <td>True</td>\n",
       "      <td>3.662956</td>\n",
       "      <td>0.306806</td>\n",
       "      <td>3.259387</td>\n",
       "    </tr>\n",
       "    <tr>\n",
       "      <th>997</th>\n",
       "      <td>-0.127172</td>\n",
       "      <td>True</td>\n",
       "      <td>3.909599</td>\n",
       "      <td>0.432812</td>\n",
       "      <td>2.310470</td>\n",
       "    </tr>\n",
       "    <tr>\n",
       "      <th>998</th>\n",
       "      <td>-0.939359</td>\n",
       "      <td>True</td>\n",
       "      <td>3.532489</td>\n",
       "      <td>0.242731</td>\n",
       "      <td>4.119793</td>\n",
       "    </tr>\n",
       "    <tr>\n",
       "      <th>999</th>\n",
       "      <td>-1.751836</td>\n",
       "      <td>True</td>\n",
       "      <td>2.595520</td>\n",
       "      <td>0.118631</td>\n",
       "      <td>8.429482</td>\n",
       "    </tr>\n",
       "  </tbody>\n",
       "</table>\n",
       "<p>1000 rows × 5 columns</p>\n",
       "</div>"
      ],
      "text/plain": [
       "           W0    v0         y  propensity_score     weight\n",
       "0   -0.475718  True  5.599699          0.344655   2.901452\n",
       "1   -1.275431  True  2.667094          0.182922   5.466818\n",
       "2   -1.705304  True  0.449158          0.123926   8.069303\n",
       "3   -1.423017  True  1.696863          0.160530   6.229372\n",
       "4   -2.539763  True  0.648335          0.054840  18.234739\n",
       "..        ...   ...       ...               ...        ...\n",
       "995 -1.358155  True  2.322111          0.170085   5.879399\n",
       "996 -0.637219  True  3.662956          0.306806   3.259387\n",
       "997 -0.127172  True  3.909599          0.432812   2.310470\n",
       "998 -0.939359  True  3.532489          0.242731   4.119793\n",
       "999 -1.751836  True  2.595520          0.118631   8.429482\n",
       "\n",
       "[1000 rows x 5 columns]"
      ]
     },
     "execution_count": 7,
     "metadata": {},
     "output_type": "execute_result"
    }
   ],
   "source": [
    "cdf_1"
   ]
  },
  {
   "cell_type": "markdown",
   "metadata": {},
   "source": [
    "## Comparing the estimate to Linear Regression\n",
    "First, estimating the effect using the causal data frame, and the 95% confidence interval."
   ]
  },
  {
   "cell_type": "code",
   "execution_count": 8,
   "metadata": {
    "execution": {
     "iopub.execute_input": "2022-07-28T11:34:29.900471Z",
     "iopub.status.busy": "2022-07-28T11:34:29.900079Z",
     "iopub.status.idle": "2022-07-28T11:34:30.018238Z",
     "shell.execute_reply": "2022-07-28T11:34:30.017350Z"
    }
   },
   "outputs": [
    {
     "data": {
      "image/png": "[encoded data removed]",
      "text/latex": [
       "$\\displaystyle 5.36907930127073$"
      ],
      "text/plain": [
       "5.36907930127073"
      ]
     },
     "execution_count": 8,
     "metadata": {},
     "output_type": "execute_result"
    }
   ],
   "source": [
    "(cdf_1['y'] - cdf_0['y']).mean()"
   ]
  },
  {
   "cell_type": "code",
   "execution_count": 9,
   "metadata": {
    "execution": {
     "iopub.execute_input": "2022-07-28T11:34:30.022022Z",
     "iopub.status.busy": "2022-07-28T11:34:30.021470Z",
     "iopub.status.idle": "2022-07-28T11:34:30.051672Z",
     "shell.execute_reply": "2022-07-28T11:34:30.050816Z"
    }
   },
   "outputs": [
    {
     "data": {
      "image/png": "[encoded data removed]",
      "text/latex": [
       "$\\displaystyle 0.212221518891183$"
      ],
      "text/plain": [
       "0.21222151889118307"
      ]
     },
     "execution_count": 9,
     "metadata": {},
     "output_type": "execute_result"
    }
   ],
   "source": [
    "1.96*(cdf_1['y'] - cdf_0['y']).std() / np.sqrt(len(df))"
   ]
  },
  {
   "cell_type": "markdown",
   "metadata": {},
   "source": [
    "Comparing to the estimate from OLS."
   ]
  },
  {
   "cell_type": "code",
   "execution_count": 10,
   "metadata": {
    "execution": {
     "iopub.execute_input": "2022-07-28T11:34:30.055844Z",
     "iopub.status.busy": "2022-07-28T11:34:30.055307Z",
     "iopub.status.idle": "2022-07-28T11:34:30.072501Z",
     "shell.execute_reply": "2022-07-28T11:34:30.071742Z"
    }
   },
   "outputs": [
    {
     "data": {
      "text/html": [
       "<table class=\"simpletable\">\n",
       "<caption>OLS Regression Results</caption>\n",
       "<tr>\n",
       "  <th>Dep. Variable:</th>            <td>y</td>        <th>  R-squared (uncentered):</th>      <td>   0.942</td>\n",
       "</tr>\n",
       "<tr>\n",
       "  <th>Model:</th>                   <td>OLS</td>       <th>  Adj. R-squared (uncentered):</th> <td>   0.942</td>\n",
       "</tr>\n",
       "<tr>\n",
       "  <th>Method:</th>             <td>Least Squares</td>  <th>  F-statistic:       </th>          <td>   8130.</td>\n",
       "</tr>\n",
       "<tr>\n",
       "  <th>Date:</th>             <td>Thu, 28 Jul 2022</td> <th>  Prob (F-statistic):</th>           <td>  0.00</td> \n",
       "</tr>\n",
       "<tr>\n",
       "  <th>Time:</th>                 <td>11:34:30</td>     <th>  Log-Likelihood:    </th>          <td> -1404.8</td>\n",
       "</tr>\n",
       "<tr>\n",
       "  <th>No. Observations:</th>      <td>  1000</td>      <th>  AIC:               </th>          <td>   2814.</td>\n",
       "</tr>\n",
       "<tr>\n",
       "  <th>Df Residuals:</th>          <td>   998</td>      <th>  BIC:               </th>          <td>   2823.</td>\n",
       "</tr>\n",
       "<tr>\n",
       "  <th>Df Model:</th>              <td>     2</td>      <th>                     </th>              <td> </td>   \n",
       "</tr>\n",
       "<tr>\n",
       "  <th>Covariance Type:</th>      <td>nonrobust</td>    <th>                     </th>              <td> </td>   \n",
       "</tr>\n",
       "</table>\n",
       "<table class=\"simpletable\">\n",
       "<tr>\n",
       "   <td></td>     <th>coef</th>     <th>std err</th>      <th>t</th>      <th>P>|t|</th>  <th>[0.025</th>    <th>0.975]</th>  \n",
       "</tr>\n",
       "<tr>\n",
       "  <th>x1</th> <td>    2.4655</td> <td>    0.023</td> <td>  106.251</td> <td> 0.000</td> <td>    2.420</td> <td>    2.511</td>\n",
       "</tr>\n",
       "<tr>\n",
       "  <th>x2</th> <td>    5.0233</td> <td>    0.060</td> <td>   84.099</td> <td> 0.000</td> <td>    4.906</td> <td>    5.141</td>\n",
       "</tr>\n",
       "</table>\n",
       "<table class=\"simpletable\">\n",
       "<tr>\n",
       "  <th>Omnibus:</th>       <td> 1.574</td> <th>  Durbin-Watson:     </th> <td>   1.930</td>\n",
       "</tr>\n",
       "<tr>\n",
       "  <th>Prob(Omnibus):</th> <td> 0.455</td> <th>  Jarque-Bera (JB):  </th> <td>   1.649</td>\n",
       "</tr>\n",
       "<tr>\n",
       "  <th>Skew:</th>          <td> 0.087</td> <th>  Prob(JB):          </th> <td>   0.439</td>\n",
       "</tr>\n",
       "<tr>\n",
       "  <th>Kurtosis:</th>      <td> 2.905</td> <th>  Cond. No.          </th> <td>    2.61</td>\n",
       "</tr>\n",
       "</table><br/><br/>Notes:<br/>[1] R² is computed without centering (uncentered) since the model does not contain a constant.<br/>[2] Standard Errors assume that the covariance matrix of the errors is correctly specified."
      ],
      "text/plain": [
       "<class 'statsmodels.iolib.summary.Summary'>\n",
       "\"\"\"\n",
       "                                 OLS Regression Results                                \n",
       "=======================================================================================\n",
       "Dep. Variable:                      y   R-squared (uncentered):                   0.942\n",
       "Model:                            OLS   Adj. R-squared (uncentered):              0.942\n",
       "Method:                 Least Squares   F-statistic:                              8130.\n",
       "Date:                Thu, 28 Jul 2022   Prob (F-statistic):                        0.00\n",
       "Time:                        11:34:30   Log-Likelihood:                         -1404.8\n",
       "No. Observations:                1000   AIC:                                      2814.\n",
       "Df Residuals:                     998   BIC:                                      2823.\n",
       "Df Model:                           2                                                  \n",
       "Covariance Type:            nonrobust                                                  \n",
       "==============================================================================\n",
       "                 coef    std err          t      P>|t|      [0.025      0.975]\n",
       "------------------------------------------------------------------------------\n",
       "x1             2.4655      0.023    106.251      0.000       2.420       2.511\n",
       "x2             5.0233      0.060     84.099      0.000       4.906       5.141\n",
       "==============================================================================\n",
       "Omnibus:                        1.574   Durbin-Watson:                   1.930\n",
       "Prob(Omnibus):                  0.455   Jarque-Bera (JB):                1.649\n",
       "Skew:                           0.087   Prob(JB):                        0.439\n",
       "Kurtosis:                       2.905   Cond. No.                         2.61\n",
       "==============================================================================\n",
       "\n",
       "Notes:\n",
       "[1] R² is computed without centering (uncentered) since the model does not contain a constant.\n",
       "[2] Standard Errors assume that the covariance matrix of the errors is correctly specified.\n",
       "\"\"\""
      ]
     },
     "execution_count": 10,
     "metadata": {},
     "output_type": "execute_result"
    }
   ],
   "source": [
    "model = OLS(np.asarray(df[outcome]), np.asarray(df[[common_cause, treatment]], dtype=np.float64))\n",
    "result = model.fit()\n",
    "result.summary()"
   ]
  }
 ],
 "metadata": {
  "kernelspec": {
   "display_name": "Python 3",
   "language": "python",
   "name": "python3"
  },
  "language_info": {
   "codemirror_mode": {
    "name": "ipython",
    "version": 3
   },
   "file_extension": ".py",
   "mimetype": "text/x-python",
   "name": "python",
   "nbconvert_exporter": "python",
   "pygments_lexer": "ipython3",
   "version": "3.8.10"
  },
  "toc": {
   "base_numbering": 1,
   "nav_menu": {},
   "number_sections": false,
   "sideBar": true,
   "skip_h1_title": true,
   "title_cell": "Table of Contents",
   "title_sidebar": "Contents",
   "toc_cell": false,
   "toc_position": {},
   "toc_section_display": true,
   "toc_window_display": false
  }
 },
 "nbformat": 4,
 "nbformat_minor": 4
}
