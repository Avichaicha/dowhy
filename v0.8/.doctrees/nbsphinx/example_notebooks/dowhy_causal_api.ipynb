{
 "cells": [
  {
   "cell_type": "markdown",
   "metadata": {},
   "source": [
    "# Demo for the DoWhy causal API\n",
    "We show a simple example of adding a causal extension to any dataframe. "
   ]
  },
  {
   "cell_type": "code",
   "execution_count": 1,
   "metadata": {
    "execution": {
     "iopub.execute_input": "2022-07-28T11:08:27.200363Z",
     "iopub.status.busy": "2022-07-28T11:08:27.199911Z",
     "iopub.status.idle": "2022-07-28T11:08:28.557254Z",
     "shell.execute_reply": "2022-07-28T11:08:28.555874Z"
    }
   },
   "outputs": [
    {
     "name": "stdout",
     "output_type": "stream",
     "text": [
      "keywords are unexpanded, not using\n"
     ]
    }
   ],
   "source": [
    "import dowhy.datasets\n",
    "import dowhy.api\n",
    "\n",
    "import numpy as np\n",
    "import pandas as pd\n",
    "\n",
    "from statsmodels.api import OLS"
   ]
  },
  {
   "cell_type": "code",
   "execution_count": 2,
   "metadata": {
    "execution": {
     "iopub.execute_input": "2022-07-28T11:08:28.562402Z",
     "iopub.status.busy": "2022-07-28T11:08:28.561814Z",
     "iopub.status.idle": "2022-07-28T11:08:28.618847Z",
     "shell.execute_reply": "2022-07-28T11:08:28.617532Z"
    }
   },
   "outputs": [
    {
     "data": {
      "text/html": [
       "<div>\n",
       "<style scoped>\n",
       "    .dataframe tbody tr th:only-of-type {\n",
       "        vertical-align: middle;\n",
       "    }\n",
       "\n",
       "    .dataframe tbody tr th {\n",
       "        vertical-align: top;\n",
       "    }\n",
       "\n",
       "    .dataframe thead th {\n",
       "        text-align: right;\n",
       "    }\n",
       "</style>\n",
       "<table border=\"1\" class=\"dataframe\">\n",
       "  <thead>\n",
       "    <tr style=\"text-align: right;\">\n",
       "      <th></th>\n",
       "      <th>W0</th>\n",
       "      <th>v0</th>\n",
       "      <th>y</th>\n",
       "    </tr>\n",
       "  </thead>\n",
       "  <tbody>\n",
       "    <tr>\n",
       "      <th>0</th>\n",
       "      <td>-1.486852</td>\n",
       "      <td>False</td>\n",
       "      <td>-6.932823</td>\n",
       "    </tr>\n",
       "    <tr>\n",
       "      <th>1</th>\n",
       "      <td>-0.957437</td>\n",
       "      <td>True</td>\n",
       "      <td>2.658591</td>\n",
       "    </tr>\n",
       "    <tr>\n",
       "      <th>2</th>\n",
       "      <td>-0.580901</td>\n",
       "      <td>False</td>\n",
       "      <td>-2.733626</td>\n",
       "    </tr>\n",
       "    <tr>\n",
       "      <th>3</th>\n",
       "      <td>-1.767096</td>\n",
       "      <td>False</td>\n",
       "      <td>-6.022463</td>\n",
       "    </tr>\n",
       "    <tr>\n",
       "      <th>4</th>\n",
       "      <td>-1.021941</td>\n",
       "      <td>False</td>\n",
       "      <td>-3.474791</td>\n",
       "    </tr>\n",
       "    <tr>\n",
       "      <th>...</th>\n",
       "      <td>...</td>\n",
       "      <td>...</td>\n",
       "      <td>...</td>\n",
       "    </tr>\n",
       "    <tr>\n",
       "      <th>995</th>\n",
       "      <td>-0.489841</td>\n",
       "      <td>False</td>\n",
       "      <td>-0.351721</td>\n",
       "    </tr>\n",
       "    <tr>\n",
       "      <th>996</th>\n",
       "      <td>-1.485929</td>\n",
       "      <td>False</td>\n",
       "      <td>-5.193868</td>\n",
       "    </tr>\n",
       "    <tr>\n",
       "      <th>997</th>\n",
       "      <td>-0.655330</td>\n",
       "      <td>False</td>\n",
       "      <td>-0.914420</td>\n",
       "    </tr>\n",
       "    <tr>\n",
       "      <th>998</th>\n",
       "      <td>-0.131957</td>\n",
       "      <td>False</td>\n",
       "      <td>-0.724904</td>\n",
       "    </tr>\n",
       "    <tr>\n",
       "      <th>999</th>\n",
       "      <td>-0.781808</td>\n",
       "      <td>False</td>\n",
       "      <td>-2.731794</td>\n",
       "    </tr>\n",
       "  </tbody>\n",
       "</table>\n",
       "<p>1000 rows × 3 columns</p>\n",
       "</div>"
      ],
      "text/plain": [
       "           W0     v0         y\n",
       "0   -1.486852  False -6.932823\n",
       "1   -0.957437   True  2.658591\n",
       "2   -0.580901  False -2.733626\n",
       "3   -1.767096  False -6.022463\n",
       "4   -1.021941  False -3.474791\n",
       "..        ...    ...       ...\n",
       "995 -0.489841  False -0.351721\n",
       "996 -1.485929  False -5.193868\n",
       "997 -0.655330  False -0.914420\n",
       "998 -0.131957  False -0.724904\n",
       "999 -0.781808  False -2.731794\n",
       "\n",
       "[1000 rows x 3 columns]"
      ]
     },
     "execution_count": 2,
     "metadata": {},
     "output_type": "execute_result"
    }
   ],
   "source": [
    "data = dowhy.datasets.linear_dataset(beta=5,\n",
    "        num_common_causes=1,\n",
    "        num_instruments = 0,\n",
    "        num_samples=1000,\n",
    "        treatment_is_binary=True)\n",
    "df = data['df']\n",
    "df['y'] = df['y'] + np.random.normal(size=len(df)) # Adding noise to data. Without noise, the variance in Y|X, Z is zero, and mcmc fails.\n",
    "#data['dot_graph'] = 'digraph { v ->y;X0-> v;X0-> y;}'\n",
    "\n",
    "treatment= data[\"treatment_name\"][0]\n",
    "outcome = data[\"outcome_name\"][0]\n",
    "common_cause = data[\"common_causes_names\"][0]\n",
    "df"
   ]
  },
  {
   "cell_type": "code",
   "execution_count": 3,
   "metadata": {
    "execution": {
     "iopub.execute_input": "2022-07-28T11:08:28.622502Z",
     "iopub.status.busy": "2022-07-28T11:08:28.621836Z",
     "iopub.status.idle": "2022-07-28T11:08:29.527153Z",
     "shell.execute_reply": "2022-07-28T11:08:29.526495Z"
    }
   },
   "outputs": [
    {
     "data": {
      "text/plain": [
       "<AxesSubplot:xlabel='v0'>"
      ]
     },
     "execution_count": 3,
     "metadata": {},
     "output_type": "execute_result"
    },
    {
     "data": {
      "image/png": "[encoded data removed]",
      "text/plain": [
       "<Figure size 432x288 with 1 Axes>"
      ]
     },
     "metadata": {
      "needs_background": "light"
     },
     "output_type": "display_data"
    }
   ],
   "source": [
    "# data['df'] is just a regular pandas.DataFrame\n",
    "df.causal.do(x=treatment,\n",
    "                     variable_types={treatment: 'b', outcome: 'c', common_cause: 'c'},\n",
    "                     outcome=outcome,\n",
    "                     common_causes=[common_cause],\n",
    "                     proceed_when_unidentifiable=True).groupby(treatment).mean().plot(y=outcome, kind='bar')"
   ]
  },
  {
   "cell_type": "code",
   "execution_count": 4,
   "metadata": {
    "execution": {
     "iopub.execute_input": "2022-07-28T11:08:29.531017Z",
     "iopub.status.busy": "2022-07-28T11:08:29.530588Z",
     "iopub.status.idle": "2022-07-28T11:08:29.642576Z",
     "shell.execute_reply": "2022-07-28T11:08:29.641931Z"
    }
   },
   "outputs": [
    {
     "data": {
      "text/plain": [
       "<AxesSubplot:xlabel='v0'>"
      ]
     },
     "execution_count": 4,
     "metadata": {},
     "output_type": "execute_result"
    },
    {
     "data": {
      "image/png": "[encoded data removed]",
      "text/plain": [
       "<Figure size 432x288 with 1 Axes>"
      ]
     },
     "metadata": {
      "needs_background": "light"
     },
     "output_type": "display_data"
    }
   ],
   "source": [
    "df.causal.do(x={treatment: 1}, \n",
    "              variable_types={treatment:'b', outcome: 'c', common_cause: 'c'}, \n",
    "              outcome=outcome,\n",
    "              method='weighting', \n",
    "              common_causes=[common_cause],\n",
    "              proceed_when_unidentifiable=True).groupby(treatment).mean().plot(y=outcome, kind='bar')"
   ]
  },
  {
   "cell_type": "code",
   "execution_count": 5,
   "metadata": {
    "execution": {
     "iopub.execute_input": "2022-07-28T11:08:29.647554Z",
     "iopub.status.busy": "2022-07-28T11:08:29.646327Z",
     "iopub.status.idle": "2022-07-28T11:08:29.683121Z",
     "shell.execute_reply": "2022-07-28T11:08:29.682501Z"
    }
   },
   "outputs": [],
   "source": [
    "cdf_1 = df.causal.do(x={treatment: 1}, \n",
    "              variable_types={treatment: 'b', outcome: 'c', common_cause: 'c'}, \n",
    "              outcome=outcome, \n",
    "              dot_graph=data['dot_graph'],\n",
    "              proceed_when_unidentifiable=True)\n",
    "\n",
    "cdf_0 = df.causal.do(x={treatment: 0}, \n",
    "              variable_types={treatment: 'b', outcome: 'c', common_cause: 'c'}, \n",
    "              outcome=outcome, \n",
    "              dot_graph=data['dot_graph'],\n",
    "              proceed_when_unidentifiable=True)\n"
   ]
  },
  {
   "cell_type": "code",
   "execution_count": 6,
   "metadata": {
    "execution": {
     "iopub.execute_input": "2022-07-28T11:08:29.687889Z",
     "iopub.status.busy": "2022-07-28T11:08:29.686673Z",
     "iopub.status.idle": "2022-07-28T11:08:29.700988Z",
     "shell.execute_reply": "2022-07-28T11:08:29.700313Z"
    },
    "scrolled": true
   },
   "outputs": [
    {
     "data": {
      "text/html": [
       "<div>\n",
       "<style scoped>\n",
       "    .dataframe tbody tr th:only-of-type {\n",
       "        vertical-align: middle;\n",
       "    }\n",
       "\n",
       "    .dataframe tbody tr th {\n",
       "        vertical-align: top;\n",
       "    }\n",
       "\n",
       "    .dataframe thead th {\n",
       "        text-align: right;\n",
       "    }\n",
       "</style>\n",
       "<table border=\"1\" class=\"dataframe\">\n",
       "  <thead>\n",
       "    <tr style=\"text-align: right;\">\n",
       "      <th></th>\n",
       "      <th>W0</th>\n",
       "      <th>v0</th>\n",
       "      <th>y</th>\n",
       "      <th>propensity_score</th>\n",
       "      <th>weight</th>\n",
       "    </tr>\n",
       "  </thead>\n",
       "  <tbody>\n",
       "    <tr>\n",
       "      <th>0</th>\n",
       "      <td>-0.382006</td>\n",
       "      <td>False</td>\n",
       "      <td>0.513533</td>\n",
       "      <td>0.614905</td>\n",
       "      <td>1.626268</td>\n",
       "    </tr>\n",
       "    <tr>\n",
       "      <th>1</th>\n",
       "      <td>-1.032307</td>\n",
       "      <td>False</td>\n",
       "      <td>-2.561423</td>\n",
       "      <td>0.762215</td>\n",
       "      <td>1.311966</td>\n",
       "    </tr>\n",
       "    <tr>\n",
       "      <th>2</th>\n",
       "      <td>-0.787120</td>\n",
       "      <td>False</td>\n",
       "      <td>-2.210785</td>\n",
       "      <td>0.711383</td>\n",
       "      <td>1.405712</td>\n",
       "    </tr>\n",
       "    <tr>\n",
       "      <th>3</th>\n",
       "      <td>-0.988054</td>\n",
       "      <td>False</td>\n",
       "      <td>-4.761852</td>\n",
       "      <td>0.753513</td>\n",
       "      <td>1.327116</td>\n",
       "    </tr>\n",
       "    <tr>\n",
       "      <th>4</th>\n",
       "      <td>-1.632724</td>\n",
       "      <td>False</td>\n",
       "      <td>-6.369655</td>\n",
       "      <td>0.859155</td>\n",
       "      <td>1.163934</td>\n",
       "    </tr>\n",
       "    <tr>\n",
       "      <th>...</th>\n",
       "      <td>...</td>\n",
       "      <td>...</td>\n",
       "      <td>...</td>\n",
       "      <td>...</td>\n",
       "      <td>...</td>\n",
       "    </tr>\n",
       "    <tr>\n",
       "      <th>995</th>\n",
       "      <td>-1.488386</td>\n",
       "      <td>False</td>\n",
       "      <td>-5.434311</td>\n",
       "      <td>0.839379</td>\n",
       "      <td>1.191358</td>\n",
       "    </tr>\n",
       "    <tr>\n",
       "      <th>996</th>\n",
       "      <td>-1.834066</td>\n",
       "      <td>False</td>\n",
       "      <td>-5.452918</td>\n",
       "      <td>0.883300</td>\n",
       "      <td>1.132119</td>\n",
       "    </tr>\n",
       "    <tr>\n",
       "      <th>997</th>\n",
       "      <td>-0.104747</td>\n",
       "      <td>False</td>\n",
       "      <td>-0.933714</td>\n",
       "      <td>0.542610</td>\n",
       "      <td>1.842944</td>\n",
       "    </tr>\n",
       "    <tr>\n",
       "      <th>998</th>\n",
       "      <td>-0.247487</td>\n",
       "      <td>False</td>\n",
       "      <td>0.436043</td>\n",
       "      <td>0.580255</td>\n",
       "      <td>1.723380</td>\n",
       "    </tr>\n",
       "    <tr>\n",
       "      <th>999</th>\n",
       "      <td>-1.859916</td>\n",
       "      <td>False</td>\n",
       "      <td>-4.806419</td>\n",
       "      <td>0.886125</td>\n",
       "      <td>1.128509</td>\n",
       "    </tr>\n",
       "  </tbody>\n",
       "</table>\n",
       "<p>1000 rows × 5 columns</p>\n",
       "</div>"
      ],
      "text/plain": [
       "           W0     v0         y  propensity_score    weight\n",
       "0   -0.382006  False  0.513533          0.614905  1.626268\n",
       "1   -1.032307  False -2.561423          0.762215  1.311966\n",
       "2   -0.787120  False -2.210785          0.711383  1.405712\n",
       "3   -0.988054  False -4.761852          0.753513  1.327116\n",
       "4   -1.632724  False -6.369655          0.859155  1.163934\n",
       "..        ...    ...       ...               ...       ...\n",
       "995 -1.488386  False -5.434311          0.839379  1.191358\n",
       "996 -1.834066  False -5.452918          0.883300  1.132119\n",
       "997 -0.104747  False -0.933714          0.542610  1.842944\n",
       "998 -0.247487  False  0.436043          0.580255  1.723380\n",
       "999 -1.859916  False -4.806419          0.886125  1.128509\n",
       "\n",
       "[1000 rows x 5 columns]"
      ]
     },
     "execution_count": 6,
     "metadata": {},
     "output_type": "execute_result"
    }
   ],
   "source": [
    "cdf_0"
   ]
  },
  {
   "cell_type": "code",
   "execution_count": 7,
   "metadata": {
    "execution": {
     "iopub.execute_input": "2022-07-28T11:08:29.704729Z",
     "iopub.status.busy": "2022-07-28T11:08:29.704085Z",
     "iopub.status.idle": "2022-07-28T11:08:29.717549Z",
     "shell.execute_reply": "2022-07-28T11:08:29.716893Z"
    }
   },
   "outputs": [
    {
     "data": {
      "text/html": [
       "<div>\n",
       "<style scoped>\n",
       "    .dataframe tbody tr th:only-of-type {\n",
       "        vertical-align: middle;\n",
       "    }\n",
       "\n",
       "    .dataframe tbody tr th {\n",
       "        vertical-align: top;\n",
       "    }\n",
       "\n",
       "    .dataframe thead th {\n",
       "        text-align: right;\n",
       "    }\n",
       "</style>\n",
       "<table border=\"1\" class=\"dataframe\">\n",
       "  <thead>\n",
       "    <tr style=\"text-align: right;\">\n",
       "      <th></th>\n",
       "      <th>W0</th>\n",
       "      <th>v0</th>\n",
       "      <th>y</th>\n",
       "      <th>propensity_score</th>\n",
       "      <th>weight</th>\n",
       "    </tr>\n",
       "  </thead>\n",
       "  <tbody>\n",
       "    <tr>\n",
       "      <th>0</th>\n",
       "      <td>0.291825</td>\n",
       "      <td>True</td>\n",
       "      <td>6.313530</td>\n",
       "      <td>0.563192</td>\n",
       "      <td>1.775595</td>\n",
       "    </tr>\n",
       "    <tr>\n",
       "      <th>1</th>\n",
       "      <td>0.829483</td>\n",
       "      <td>True</td>\n",
       "      <td>7.408275</td>\n",
       "      <td>0.696418</td>\n",
       "      <td>1.435919</td>\n",
       "    </tr>\n",
       "    <tr>\n",
       "      <th>2</th>\n",
       "      <td>-0.868414</td>\n",
       "      <td>True</td>\n",
       "      <td>1.558688</td>\n",
       "      <td>0.271065</td>\n",
       "      <td>3.689157</td>\n",
       "    </tr>\n",
       "    <tr>\n",
       "      <th>3</th>\n",
       "      <td>-1.507360</td>\n",
       "      <td>True</td>\n",
       "      <td>0.976104</td>\n",
       "      <td>0.157899</td>\n",
       "      <td>6.333170</td>\n",
       "    </tr>\n",
       "    <tr>\n",
       "      <th>4</th>\n",
       "      <td>-0.957437</td>\n",
       "      <td>True</td>\n",
       "      <td>2.658591</td>\n",
       "      <td>0.252631</td>\n",
       "      <td>3.958340</td>\n",
       "    </tr>\n",
       "    <tr>\n",
       "      <th>...</th>\n",
       "      <td>...</td>\n",
       "      <td>...</td>\n",
       "      <td>...</td>\n",
       "      <td>...</td>\n",
       "      <td>...</td>\n",
       "    </tr>\n",
       "    <tr>\n",
       "      <th>995</th>\n",
       "      <td>-0.308944</td>\n",
       "      <td>True</td>\n",
       "      <td>4.142326</td>\n",
       "      <td>0.403794</td>\n",
       "      <td>2.476509</td>\n",
       "    </tr>\n",
       "    <tr>\n",
       "      <th>996</th>\n",
       "      <td>-0.983130</td>\n",
       "      <td>True</td>\n",
       "      <td>2.151669</td>\n",
       "      <td>0.247468</td>\n",
       "      <td>4.040925</td>\n",
       "    </tr>\n",
       "    <tr>\n",
       "      <th>997</th>\n",
       "      <td>-0.209071</td>\n",
       "      <td>True</td>\n",
       "      <td>4.760823</td>\n",
       "      <td>0.429804</td>\n",
       "      <td>2.326644</td>\n",
       "    </tr>\n",
       "    <tr>\n",
       "      <th>998</th>\n",
       "      <td>0.135489</td>\n",
       "      <td>True</td>\n",
       "      <td>6.167573</td>\n",
       "      <td>0.521634</td>\n",
       "      <td>1.917053</td>\n",
       "    </tr>\n",
       "    <tr>\n",
       "      <th>999</th>\n",
       "      <td>0.040505</td>\n",
       "      <td>True</td>\n",
       "      <td>5.877142</td>\n",
       "      <td>0.496200</td>\n",
       "      <td>2.015315</td>\n",
       "    </tr>\n",
       "  </tbody>\n",
       "</table>\n",
       "<p>1000 rows × 5 columns</p>\n",
       "</div>"
      ],
      "text/plain": [
       "           W0    v0         y  propensity_score    weight\n",
       "0    0.291825  True  6.313530          0.563192  1.775595\n",
       "1    0.829483  True  7.408275          0.696418  1.435919\n",
       "2   -0.868414  True  1.558688          0.271065  3.689157\n",
       "3   -1.507360  True  0.976104          0.157899  6.333170\n",
       "4   -0.957437  True  2.658591          0.252631  3.958340\n",
       "..        ...   ...       ...               ...       ...\n",
       "995 -0.308944  True  4.142326          0.403794  2.476509\n",
       "996 -0.983130  True  2.151669          0.247468  4.040925\n",
       "997 -0.209071  True  4.760823          0.429804  2.326644\n",
       "998  0.135489  True  6.167573          0.521634  1.917053\n",
       "999  0.040505  True  5.877142          0.496200  2.015315\n",
       "\n",
       "[1000 rows x 5 columns]"
      ]
     },
     "execution_count": 7,
     "metadata": {},
     "output_type": "execute_result"
    }
   ],
   "source": [
    "cdf_1"
   ]
  },
  {
   "cell_type": "markdown",
   "metadata": {},
   "source": [
    "## Comparing the estimate to Linear Regression\n",
    "First, estimating the effect using the causal data frame, and the 95% confidence interval."
   ]
  },
  {
   "cell_type": "code",
   "execution_count": 8,
   "metadata": {
    "execution": {
     "iopub.execute_input": "2022-07-28T11:08:29.721309Z",
     "iopub.status.busy": "2022-07-28T11:08:29.720914Z",
     "iopub.status.idle": "2022-07-28T11:08:29.837956Z",
     "shell.execute_reply": "2022-07-28T11:08:29.837155Z"
    }
   },
   "outputs": [
    {
     "data": {
      "image/png": "[encoded data removed]",
      "text/latex": [
       "$\\displaystyle 5.24849688999042$"
      ],
      "text/plain": [
       "5.248496889990423"
      ]
     },
     "execution_count": 8,
     "metadata": {},
     "output_type": "execute_result"
    }
   ],
   "source": [
    "(cdf_1['y'] - cdf_0['y']).mean()"
   ]
  },
  {
   "cell_type": "code",
   "execution_count": 9,
   "metadata": {
    "execution": {
     "iopub.execute_input": "2022-07-28T11:08:29.841730Z",
     "iopub.status.busy": "2022-07-28T11:08:29.841280Z",
     "iopub.status.idle": "2022-07-28T11:08:29.871494Z",
     "shell.execute_reply": "2022-07-28T11:08:29.870726Z"
    }
   },
   "outputs": [
    {
     "data": {
      "image/png": "[encoded data removed]",
      "text/latex": [
       "$\\displaystyle 0.273528806975861$"
      ],
      "text/plain": [
       "0.2735288069758611"
      ]
     },
     "execution_count": 9,
     "metadata": {},
     "output_type": "execute_result"
    }
   ],
   "source": [
    "1.96*(cdf_1['y'] - cdf_0['y']).std() / np.sqrt(len(df))"
   ]
  },
  {
   "cell_type": "markdown",
   "metadata": {},
   "source": [
    "Comparing to the estimate from OLS."
   ]
  },
  {
   "cell_type": "code",
   "execution_count": 10,
   "metadata": {
    "execution": {
     "iopub.execute_input": "2022-07-28T11:08:29.875278Z",
     "iopub.status.busy": "2022-07-28T11:08:29.874869Z",
     "iopub.status.idle": "2022-07-28T11:08:29.894630Z",
     "shell.execute_reply": "2022-07-28T11:08:29.893526Z"
    }
   },
   "outputs": [
    {
     "data": {
      "text/html": [
       "<table class=\"simpletable\">\n",
       "<caption>OLS Regression Results</caption>\n",
       "<tr>\n",
       "  <th>Dep. Variable:</th>            <td>y</td>        <th>  R-squared (uncentered):</th>      <td>   0.956</td> \n",
       "</tr>\n",
       "<tr>\n",
       "  <th>Model:</th>                   <td>OLS</td>       <th>  Adj. R-squared (uncentered):</th> <td>   0.956</td> \n",
       "</tr>\n",
       "<tr>\n",
       "  <th>Method:</th>             <td>Least Squares</td>  <th>  F-statistic:       </th>          <td>1.076e+04</td>\n",
       "</tr>\n",
       "<tr>\n",
       "  <th>Date:</th>             <td>Thu, 28 Jul 2022</td> <th>  Prob (F-statistic):</th>           <td>  0.00</td>  \n",
       "</tr>\n",
       "<tr>\n",
       "  <th>Time:</th>                 <td>11:08:29</td>     <th>  Log-Likelihood:    </th>          <td> -1412.4</td> \n",
       "</tr>\n",
       "<tr>\n",
       "  <th>No. Observations:</th>      <td>  1000</td>      <th>  AIC:               </th>          <td>   2829.</td> \n",
       "</tr>\n",
       "<tr>\n",
       "  <th>Df Residuals:</th>          <td>   998</td>      <th>  BIC:               </th>          <td>   2839.</td> \n",
       "</tr>\n",
       "<tr>\n",
       "  <th>Df Model:</th>              <td>     2</td>      <th>                     </th>              <td> </td>    \n",
       "</tr>\n",
       "<tr>\n",
       "  <th>Covariance Type:</th>      <td>nonrobust</td>    <th>                     </th>              <td> </td>    \n",
       "</tr>\n",
       "</table>\n",
       "<table class=\"simpletable\">\n",
       "<tr>\n",
       "   <td></td>     <th>coef</th>     <th>std err</th>      <th>t</th>      <th>P>|t|</th>  <th>[0.025</th>    <th>0.975]</th>  \n",
       "</tr>\n",
       "<tr>\n",
       "  <th>x1</th> <td>    3.0085</td> <td>    0.026</td> <td>  116.043</td> <td> 0.000</td> <td>    2.958</td> <td>    3.059</td>\n",
       "</tr>\n",
       "<tr>\n",
       "  <th>x2</th> <td>    4.9934</td> <td>    0.053</td> <td>   93.746</td> <td> 0.000</td> <td>    4.889</td> <td>    5.098</td>\n",
       "</tr>\n",
       "</table>\n",
       "<table class=\"simpletable\">\n",
       "<tr>\n",
       "  <th>Omnibus:</th>       <td> 1.620</td> <th>  Durbin-Watson:     </th> <td>   1.960</td>\n",
       "</tr>\n",
       "<tr>\n",
       "  <th>Prob(Omnibus):</th> <td> 0.445</td> <th>  Jarque-Bera (JB):  </th> <td>   1.549</td>\n",
       "</tr>\n",
       "<tr>\n",
       "  <th>Skew:</th>          <td> 0.015</td> <th>  Prob(JB):          </th> <td>   0.461</td>\n",
       "</tr>\n",
       "<tr>\n",
       "  <th>Kurtosis:</th>      <td> 2.809</td> <th>  Cond. No.          </th> <td>    2.06</td>\n",
       "</tr>\n",
       "</table><br/><br/>Notes:<br/>[1] R² is computed without centering (uncentered) since the model does not contain a constant.<br/>[2] Standard Errors assume that the covariance matrix of the errors is correctly specified."
      ],
      "text/plain": [
       "<class 'statsmodels.iolib.summary.Summary'>\n",
       "\"\"\"\n",
       "                                 OLS Regression Results                                \n",
       "=======================================================================================\n",
       "Dep. Variable:                      y   R-squared (uncentered):                   0.956\n",
       "Model:                            OLS   Adj. R-squared (uncentered):              0.956\n",
       "Method:                 Least Squares   F-statistic:                          1.076e+04\n",
       "Date:                Thu, 28 Jul 2022   Prob (F-statistic):                        0.00\n",
       "Time:                        11:08:29   Log-Likelihood:                         -1412.4\n",
       "No. Observations:                1000   AIC:                                      2829.\n",
       "Df Residuals:                     998   BIC:                                      2839.\n",
       "Df Model:                           2                                                  \n",
       "Covariance Type:            nonrobust                                                  \n",
       "==============================================================================\n",
       "                 coef    std err          t      P>|t|      [0.025      0.975]\n",
       "------------------------------------------------------------------------------\n",
       "x1             3.0085      0.026    116.043      0.000       2.958       3.059\n",
       "x2             4.9934      0.053     93.746      0.000       4.889       5.098\n",
       "==============================================================================\n",
       "Omnibus:                        1.620   Durbin-Watson:                   1.960\n",
       "Prob(Omnibus):                  0.445   Jarque-Bera (JB):                1.549\n",
       "Skew:                           0.015   Prob(JB):                        0.461\n",
       "Kurtosis:                       2.809   Cond. No.                         2.06\n",
       "==============================================================================\n",
       "\n",
       "Notes:\n",
       "[1] R² is computed without centering (uncentered) since the model does not contain a constant.\n",
       "[2] Standard Errors assume that the covariance matrix of the errors is correctly specified.\n",
       "\"\"\""
      ]
     },
     "execution_count": 10,
     "metadata": {},
     "output_type": "execute_result"
    }
   ],
   "source": [
    "model = OLS(np.asarray(df[outcome]), np.asarray(df[[common_cause, treatment]], dtype=np.float64))\n",
    "result = model.fit()\n",
    "result.summary()"
   ]
  }
 ],
 "metadata": {
  "kernelspec": {
   "display_name": "Python 3",
   "language": "python",
   "name": "python3"
  },
  "language_info": {
   "codemirror_mode": {
    "name": "ipython",
    "version": 3
   },
   "file_extension": ".py",
   "mimetype": "text/x-python",
   "name": "python",
   "nbconvert_exporter": "python",
   "pygments_lexer": "ipython3",
   "version": "3.8.10"
  },
  "toc": {
   "base_numbering": 1,
   "nav_menu": {},
   "number_sections": false,
   "sideBar": true,
   "skip_h1_title": true,
   "title_cell": "Table of Contents",
   "title_sidebar": "Contents",
   "toc_cell": false,
   "toc_position": {},
   "toc_section_display": true,
   "toc_window_display": false
  }
 },
 "nbformat": 4,
 "nbformat_minor": 4
}
