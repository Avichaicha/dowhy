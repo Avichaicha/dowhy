{
 "cells": [
  {
   "cell_type": "markdown",
   "metadata": {},
   "source": [
    "# Demo for the DoWhy causal API\n",
    "We show a simple example of adding a causal extension to any dataframe. "
   ]
  },
  {
   "cell_type": "code",
   "execution_count": 1,
   "metadata": {
    "execution": {
     "iopub.execute_input": "2022-08-19T04:27:15.792162Z",
     "iopub.status.busy": "2022-08-19T04:27:15.791648Z",
     "iopub.status.idle": "2022-08-19T04:27:16.966944Z",
     "shell.execute_reply": "2022-08-19T04:27:16.966196Z"
    }
   },
   "outputs": [],
   "source": [
    "import dowhy.datasets\n",
    "import dowhy.api\n",
    "\n",
    "import numpy as np\n",
    "import pandas as pd\n",
    "\n",
    "from statsmodels.api import OLS"
   ]
  },
  {
   "cell_type": "code",
   "execution_count": 2,
   "metadata": {
    "execution": {
     "iopub.execute_input": "2022-08-19T04:27:16.970817Z",
     "iopub.status.busy": "2022-08-19T04:27:16.970235Z",
     "iopub.status.idle": "2022-08-19T04:27:17.015668Z",
     "shell.execute_reply": "2022-08-19T04:27:17.015038Z"
    }
   },
   "outputs": [
    {
     "data": {
      "text/html": [
       "<div>\n",
       "<style scoped>\n",
       "    .dataframe tbody tr th:only-of-type {\n",
       "        vertical-align: middle;\n",
       "    }\n",
       "\n",
       "    .dataframe tbody tr th {\n",
       "        vertical-align: top;\n",
       "    }\n",
       "\n",
       "    .dataframe thead th {\n",
       "        text-align: right;\n",
       "    }\n",
       "</style>\n",
       "<table border=\"1\" class=\"dataframe\">\n",
       "  <thead>\n",
       "    <tr style=\"text-align: right;\">\n",
       "      <th></th>\n",
       "      <th>W0</th>\n",
       "      <th>v0</th>\n",
       "      <th>y</th>\n",
       "    </tr>\n",
       "  </thead>\n",
       "  <tbody>\n",
       "    <tr>\n",
       "      <th>0</th>\n",
       "      <td>-0.435937</td>\n",
       "      <td>False</td>\n",
       "      <td>-2.602861</td>\n",
       "    </tr>\n",
       "    <tr>\n",
       "      <th>1</th>\n",
       "      <td>-0.023840</td>\n",
       "      <td>False</td>\n",
       "      <td>0.187520</td>\n",
       "    </tr>\n",
       "    <tr>\n",
       "      <th>2</th>\n",
       "      <td>1.144905</td>\n",
       "      <td>False</td>\n",
       "      <td>2.856077</td>\n",
       "    </tr>\n",
       "    <tr>\n",
       "      <th>3</th>\n",
       "      <td>-1.348634</td>\n",
       "      <td>False</td>\n",
       "      <td>-2.331157</td>\n",
       "    </tr>\n",
       "    <tr>\n",
       "      <th>4</th>\n",
       "      <td>0.821142</td>\n",
       "      <td>False</td>\n",
       "      <td>0.450725</td>\n",
       "    </tr>\n",
       "    <tr>\n",
       "      <th>...</th>\n",
       "      <td>...</td>\n",
       "      <td>...</td>\n",
       "      <td>...</td>\n",
       "    </tr>\n",
       "    <tr>\n",
       "      <th>995</th>\n",
       "      <td>0.262037</td>\n",
       "      <td>False</td>\n",
       "      <td>0.596452</td>\n",
       "    </tr>\n",
       "    <tr>\n",
       "      <th>996</th>\n",
       "      <td>-0.850738</td>\n",
       "      <td>False</td>\n",
       "      <td>-0.520455</td>\n",
       "    </tr>\n",
       "    <tr>\n",
       "      <th>997</th>\n",
       "      <td>0.438321</td>\n",
       "      <td>True</td>\n",
       "      <td>3.706115</td>\n",
       "    </tr>\n",
       "    <tr>\n",
       "      <th>998</th>\n",
       "      <td>0.196429</td>\n",
       "      <td>False</td>\n",
       "      <td>-0.889204</td>\n",
       "    </tr>\n",
       "    <tr>\n",
       "      <th>999</th>\n",
       "      <td>-0.710648</td>\n",
       "      <td>False</td>\n",
       "      <td>-2.150621</td>\n",
       "    </tr>\n",
       "  </tbody>\n",
       "</table>\n",
       "<p>1000 rows × 3 columns</p>\n",
       "</div>"
      ],
      "text/plain": [
       "           W0     v0         y\n",
       "0   -0.435937  False -2.602861\n",
       "1   -0.023840  False  0.187520\n",
       "2    1.144905  False  2.856077\n",
       "3   -1.348634  False -2.331157\n",
       "4    0.821142  False  0.450725\n",
       "..        ...    ...       ...\n",
       "995  0.262037  False  0.596452\n",
       "996 -0.850738  False -0.520455\n",
       "997  0.438321   True  3.706115\n",
       "998  0.196429  False -0.889204\n",
       "999 -0.710648  False -2.150621\n",
       "\n",
       "[1000 rows x 3 columns]"
      ]
     },
     "execution_count": 2,
     "metadata": {},
     "output_type": "execute_result"
    }
   ],
   "source": [
    "data = dowhy.datasets.linear_dataset(beta=5,\n",
    "        num_common_causes=1,\n",
    "        num_instruments = 0,\n",
    "        num_samples=1000,\n",
    "        treatment_is_binary=True)\n",
    "df = data['df']\n",
    "df['y'] = df['y'] + np.random.normal(size=len(df)) # Adding noise to data. Without noise, the variance in Y|X, Z is zero, and mcmc fails.\n",
    "#data['dot_graph'] = 'digraph { v ->y;X0-> v;X0-> y;}'\n",
    "\n",
    "treatment= data[\"treatment_name\"][0]\n",
    "outcome = data[\"outcome_name\"][0]\n",
    "common_cause = data[\"common_causes_names\"][0]\n",
    "df"
   ]
  },
  {
   "cell_type": "code",
   "execution_count": 3,
   "metadata": {
    "execution": {
     "iopub.execute_input": "2022-08-19T04:27:17.018739Z",
     "iopub.status.busy": "2022-08-19T04:27:17.018361Z",
     "iopub.status.idle": "2022-08-19T04:27:17.791489Z",
     "shell.execute_reply": "2022-08-19T04:27:17.790790Z"
    }
   },
   "outputs": [
    {
     "data": {
      "text/plain": [
       "<AxesSubplot:xlabel='v0'>"
      ]
     },
     "execution_count": 3,
     "metadata": {},
     "output_type": "execute_result"
    },
    {
     "data": {
      "image/png": "[encoded data removed]",
      "text/plain": [
       "<Figure size 432x288 with 1 Axes>"
      ]
     },
     "metadata": {
      "needs_background": "light"
     },
     "output_type": "display_data"
    }
   ],
   "source": [
    "# data['df'] is just a regular pandas.DataFrame\n",
    "df.causal.do(x=treatment,\n",
    "                     variable_types={treatment: 'b', outcome: 'c', common_cause: 'c'},\n",
    "                     outcome=outcome,\n",
    "                     common_causes=[common_cause],\n",
    "                     proceed_when_unidentifiable=True).groupby(treatment).mean().plot(y=outcome, kind='bar')"
   ]
  },
  {
   "cell_type": "code",
   "execution_count": 4,
   "metadata": {
    "execution": {
     "iopub.execute_input": "2022-08-19T04:27:17.794750Z",
     "iopub.status.busy": "2022-08-19T04:27:17.794247Z",
     "iopub.status.idle": "2022-08-19T04:27:17.894997Z",
     "shell.execute_reply": "2022-08-19T04:27:17.894385Z"
    }
   },
   "outputs": [
    {
     "data": {
      "text/plain": [
       "<AxesSubplot:xlabel='v0'>"
      ]
     },
     "execution_count": 4,
     "metadata": {},
     "output_type": "execute_result"
    },
    {
     "data": {
      "image/png": "[encoded data removed]",
      "text/plain": [
       "<Figure size 432x288 with 1 Axes>"
      ]
     },
     "metadata": {
      "needs_background": "light"
     },
     "output_type": "display_data"
    }
   ],
   "source": [
    "df.causal.do(x={treatment: 1}, \n",
    "              variable_types={treatment:'b', outcome: 'c', common_cause: 'c'}, \n",
    "              outcome=outcome,\n",
    "              method='weighting', \n",
    "              common_causes=[common_cause],\n",
    "              proceed_when_unidentifiable=True).groupby(treatment).mean().plot(y=outcome, kind='bar')"
   ]
  },
  {
   "cell_type": "code",
   "execution_count": 5,
   "metadata": {
    "execution": {
     "iopub.execute_input": "2022-08-19T04:27:17.898554Z",
     "iopub.status.busy": "2022-08-19T04:27:17.898062Z",
     "iopub.status.idle": "2022-08-19T04:27:17.931631Z",
     "shell.execute_reply": "2022-08-19T04:27:17.930959Z"
    }
   },
   "outputs": [],
   "source": [
    "cdf_1 = df.causal.do(x={treatment: 1}, \n",
    "              variable_types={treatment: 'b', outcome: 'c', common_cause: 'c'}, \n",
    "              outcome=outcome, \n",
    "              dot_graph=data['dot_graph'],\n",
    "              proceed_when_unidentifiable=True)\n",
    "\n",
    "cdf_0 = df.causal.do(x={treatment: 0}, \n",
    "              variable_types={treatment: 'b', outcome: 'c', common_cause: 'c'}, \n",
    "              outcome=outcome, \n",
    "              dot_graph=data['dot_graph'],\n",
    "              proceed_when_unidentifiable=True)\n"
   ]
  },
  {
   "cell_type": "code",
   "execution_count": 6,
   "metadata": {
    "execution": {
     "iopub.execute_input": "2022-08-19T04:27:17.934956Z",
     "iopub.status.busy": "2022-08-19T04:27:17.934557Z",
     "iopub.status.idle": "2022-08-19T04:27:17.945686Z",
     "shell.execute_reply": "2022-08-19T04:27:17.945023Z"
    },
    "scrolled": true
   },
   "outputs": [
    {
     "data": {
      "text/html": [
       "<div>\n",
       "<style scoped>\n",
       "    .dataframe tbody tr th:only-of-type {\n",
       "        vertical-align: middle;\n",
       "    }\n",
       "\n",
       "    .dataframe tbody tr th {\n",
       "        vertical-align: top;\n",
       "    }\n",
       "\n",
       "    .dataframe thead th {\n",
       "        text-align: right;\n",
       "    }\n",
       "</style>\n",
       "<table border=\"1\" class=\"dataframe\">\n",
       "  <thead>\n",
       "    <tr style=\"text-align: right;\">\n",
       "      <th></th>\n",
       "      <th>W0</th>\n",
       "      <th>v0</th>\n",
       "      <th>y</th>\n",
       "      <th>propensity_score</th>\n",
       "      <th>weight</th>\n",
       "    </tr>\n",
       "  </thead>\n",
       "  <tbody>\n",
       "    <tr>\n",
       "      <th>0</th>\n",
       "      <td>0.769647</td>\n",
       "      <td>False</td>\n",
       "      <td>1.946404</td>\n",
       "      <td>0.309126</td>\n",
       "      <td>3.234922</td>\n",
       "    </tr>\n",
       "    <tr>\n",
       "      <th>1</th>\n",
       "      <td>0.260487</td>\n",
       "      <td>False</td>\n",
       "      <td>1.187148</td>\n",
       "      <td>0.417213</td>\n",
       "      <td>2.396857</td>\n",
       "    </tr>\n",
       "    <tr>\n",
       "      <th>2</th>\n",
       "      <td>0.180027</td>\n",
       "      <td>False</td>\n",
       "      <td>-1.254071</td>\n",
       "      <td>0.435374</td>\n",
       "      <td>2.296873</td>\n",
       "    </tr>\n",
       "    <tr>\n",
       "      <th>3</th>\n",
       "      <td>0.567149</td>\n",
       "      <td>False</td>\n",
       "      <td>-0.165478</td>\n",
       "      <td>0.350398</td>\n",
       "      <td>2.853898</td>\n",
       "    </tr>\n",
       "    <tr>\n",
       "      <th>4</th>\n",
       "      <td>0.965659</td>\n",
       "      <td>False</td>\n",
       "      <td>1.116121</td>\n",
       "      <td>0.271874</td>\n",
       "      <td>3.678174</td>\n",
       "    </tr>\n",
       "    <tr>\n",
       "      <th>...</th>\n",
       "      <td>...</td>\n",
       "      <td>...</td>\n",
       "      <td>...</td>\n",
       "      <td>...</td>\n",
       "      <td>...</td>\n",
       "    </tr>\n",
       "    <tr>\n",
       "      <th>995</th>\n",
       "      <td>-0.190760</td>\n",
       "      <td>False</td>\n",
       "      <td>-0.611644</td>\n",
       "      <td>0.520563</td>\n",
       "      <td>1.920996</td>\n",
       "    </tr>\n",
       "    <tr>\n",
       "      <th>996</th>\n",
       "      <td>-0.496658</td>\n",
       "      <td>False</td>\n",
       "      <td>-1.372347</td>\n",
       "      <td>0.590168</td>\n",
       "      <td>1.694433</td>\n",
       "    </tr>\n",
       "    <tr>\n",
       "      <th>997</th>\n",
       "      <td>-0.484362</td>\n",
       "      <td>False</td>\n",
       "      <td>-0.411002</td>\n",
       "      <td>0.587420</td>\n",
       "      <td>1.702360</td>\n",
       "    </tr>\n",
       "    <tr>\n",
       "      <th>998</th>\n",
       "      <td>-0.290685</td>\n",
       "      <td>False</td>\n",
       "      <td>-0.351290</td>\n",
       "      <td>0.543524</td>\n",
       "      <td>1.839847</td>\n",
       "    </tr>\n",
       "    <tr>\n",
       "      <th>999</th>\n",
       "      <td>-0.600108</td>\n",
       "      <td>False</td>\n",
       "      <td>-0.683281</td>\n",
       "      <td>0.613050</td>\n",
       "      <td>1.631189</td>\n",
       "    </tr>\n",
       "  </tbody>\n",
       "</table>\n",
       "<p>1000 rows × 5 columns</p>\n",
       "</div>"
      ],
      "text/plain": [
       "           W0     v0         y  propensity_score    weight\n",
       "0    0.769647  False  1.946404          0.309126  3.234922\n",
       "1    0.260487  False  1.187148          0.417213  2.396857\n",
       "2    0.180027  False -1.254071          0.435374  2.296873\n",
       "3    0.567149  False -0.165478          0.350398  2.853898\n",
       "4    0.965659  False  1.116121          0.271874  3.678174\n",
       "..        ...    ...       ...               ...       ...\n",
       "995 -0.190760  False -0.611644          0.520563  1.920996\n",
       "996 -0.496658  False -1.372347          0.590168  1.694433\n",
       "997 -0.484362  False -0.411002          0.587420  1.702360\n",
       "998 -0.290685  False -0.351290          0.543524  1.839847\n",
       "999 -0.600108  False -0.683281          0.613050  1.631189\n",
       "\n",
       "[1000 rows x 5 columns]"
      ]
     },
     "execution_count": 6,
     "metadata": {},
     "output_type": "execute_result"
    }
   ],
   "source": [
    "cdf_0"
   ]
  },
  {
   "cell_type": "code",
   "execution_count": 7,
   "metadata": {
    "execution": {
     "iopub.execute_input": "2022-08-19T04:27:17.948598Z",
     "iopub.status.busy": "2022-08-19T04:27:17.948232Z",
     "iopub.status.idle": "2022-08-19T04:27:17.960039Z",
     "shell.execute_reply": "2022-08-19T04:27:17.959416Z"
    }
   },
   "outputs": [
    {
     "data": {
      "text/html": [
       "<div>\n",
       "<style scoped>\n",
       "    .dataframe tbody tr th:only-of-type {\n",
       "        vertical-align: middle;\n",
       "    }\n",
       "\n",
       "    .dataframe tbody tr th {\n",
       "        vertical-align: top;\n",
       "    }\n",
       "\n",
       "    .dataframe thead th {\n",
       "        text-align: right;\n",
       "    }\n",
       "</style>\n",
       "<table border=\"1\" class=\"dataframe\">\n",
       "  <thead>\n",
       "    <tr style=\"text-align: right;\">\n",
       "      <th></th>\n",
       "      <th>W0</th>\n",
       "      <th>v0</th>\n",
       "      <th>y</th>\n",
       "      <th>propensity_score</th>\n",
       "      <th>weight</th>\n",
       "    </tr>\n",
       "  </thead>\n",
       "  <tbody>\n",
       "    <tr>\n",
       "      <th>0</th>\n",
       "      <td>0.961217</td>\n",
       "      <td>True</td>\n",
       "      <td>6.449553</td>\n",
       "      <td>0.727314</td>\n",
       "      <td>1.374923</td>\n",
       "    </tr>\n",
       "    <tr>\n",
       "      <th>1</th>\n",
       "      <td>2.016325</td>\n",
       "      <td>True</td>\n",
       "      <td>11.071173</td>\n",
       "      <td>0.875986</td>\n",
       "      <td>1.141571</td>\n",
       "    </tr>\n",
       "    <tr>\n",
       "      <th>2</th>\n",
       "      <td>-0.379722</td>\n",
       "      <td>True</td>\n",
       "      <td>2.877682</td>\n",
       "      <td>0.436170</td>\n",
       "      <td>2.292685</td>\n",
       "    </tr>\n",
       "    <tr>\n",
       "      <th>3</th>\n",
       "      <td>-1.112959</td>\n",
       "      <td>True</td>\n",
       "      <td>3.322205</td>\n",
       "      <td>0.282208</td>\n",
       "      <td>3.543491</td>\n",
       "    </tr>\n",
       "    <tr>\n",
       "      <th>4</th>\n",
       "      <td>0.045757</td>\n",
       "      <td>True</td>\n",
       "      <td>5.945634</td>\n",
       "      <td>0.533952</td>\n",
       "      <td>1.872827</td>\n",
       "    </tr>\n",
       "    <tr>\n",
       "      <th>...</th>\n",
       "      <td>...</td>\n",
       "      <td>...</td>\n",
       "      <td>...</td>\n",
       "      <td>...</td>\n",
       "      <td>...</td>\n",
       "    </tr>\n",
       "    <tr>\n",
       "      <th>995</th>\n",
       "      <td>1.351583</td>\n",
       "      <td>True</td>\n",
       "      <td>6.850038</td>\n",
       "      <td>0.792714</td>\n",
       "      <td>1.261489</td>\n",
       "    </tr>\n",
       "    <tr>\n",
       "      <th>996</th>\n",
       "      <td>0.211928</td>\n",
       "      <td>True</td>\n",
       "      <td>4.702118</td>\n",
       "      <td>0.571850</td>\n",
       "      <td>1.748711</td>\n",
       "    </tr>\n",
       "    <tr>\n",
       "      <th>997</th>\n",
       "      <td>0.299511</td>\n",
       "      <td>True</td>\n",
       "      <td>5.834901</td>\n",
       "      <td>0.591519</td>\n",
       "      <td>1.690564</td>\n",
       "    </tr>\n",
       "    <tr>\n",
       "      <th>998</th>\n",
       "      <td>1.519091</td>\n",
       "      <td>True</td>\n",
       "      <td>7.682372</td>\n",
       "      <td>0.816974</td>\n",
       "      <td>1.224028</td>\n",
       "    </tr>\n",
       "    <tr>\n",
       "      <th>999</th>\n",
       "      <td>0.510755</td>\n",
       "      <td>True</td>\n",
       "      <td>5.945240</td>\n",
       "      <td>0.637663</td>\n",
       "      <td>1.568226</td>\n",
       "    </tr>\n",
       "  </tbody>\n",
       "</table>\n",
       "<p>1000 rows × 5 columns</p>\n",
       "</div>"
      ],
      "text/plain": [
       "           W0    v0          y  propensity_score    weight\n",
       "0    0.961217  True   6.449553          0.727314  1.374923\n",
       "1    2.016325  True  11.071173          0.875986  1.141571\n",
       "2   -0.379722  True   2.877682          0.436170  2.292685\n",
       "3   -1.112959  True   3.322205          0.282208  3.543491\n",
       "4    0.045757  True   5.945634          0.533952  1.872827\n",
       "..        ...   ...        ...               ...       ...\n",
       "995  1.351583  True   6.850038          0.792714  1.261489\n",
       "996  0.211928  True   4.702118          0.571850  1.748711\n",
       "997  0.299511  True   5.834901          0.591519  1.690564\n",
       "998  1.519091  True   7.682372          0.816974  1.224028\n",
       "999  0.510755  True   5.945240          0.637663  1.568226\n",
       "\n",
       "[1000 rows x 5 columns]"
      ]
     },
     "execution_count": 7,
     "metadata": {},
     "output_type": "execute_result"
    }
   ],
   "source": [
    "cdf_1"
   ]
  },
  {
   "cell_type": "markdown",
   "metadata": {},
   "source": [
    "## Comparing the estimate to Linear Regression\n",
    "First, estimating the effect using the causal data frame, and the 95% confidence interval."
   ]
  },
  {
   "cell_type": "code",
   "execution_count": 8,
   "metadata": {
    "execution": {
     "iopub.execute_input": "2022-08-19T04:27:17.963185Z",
     "iopub.status.busy": "2022-08-19T04:27:17.962657Z",
     "iopub.status.idle": "2022-08-19T04:27:18.064284Z",
     "shell.execute_reply": "2022-08-19T04:27:18.063509Z"
    }
   },
   "outputs": [
    {
     "data": {
      "image/png": "[encoded data removed]",
      "text/latex": [
       "$\\displaystyle 5.15170377114669$"
      ],
      "text/plain": [
       "5.151703771146693"
      ]
     },
     "execution_count": 8,
     "metadata": {},
     "output_type": "execute_result"
    }
   ],
   "source": [
    "(cdf_1['y'] - cdf_0['y']).mean()"
   ]
  },
  {
   "cell_type": "code",
   "execution_count": 9,
   "metadata": {
    "execution": {
     "iopub.execute_input": "2022-08-19T04:27:18.067853Z",
     "iopub.status.busy": "2022-08-19T04:27:18.067334Z",
     "iopub.status.idle": "2022-08-19T04:27:18.092586Z",
     "shell.execute_reply": "2022-08-19T04:27:18.091858Z"
    }
   },
   "outputs": [
    {
     "data": {
      "image/png": "[encoded data removed]",
      "text/latex": [
       "$\\displaystyle 0.17501873832873$"
      ],
      "text/plain": [
       "0.17501873832872997"
      ]
     },
     "execution_count": 9,
     "metadata": {},
     "output_type": "execute_result"
    }
   ],
   "source": [
    "1.96*(cdf_1['y'] - cdf_0['y']).std() / np.sqrt(len(df))"
   ]
  },
  {
   "cell_type": "markdown",
   "metadata": {},
   "source": [
    "Comparing to the estimate from OLS."
   ]
  },
  {
   "cell_type": "code",
   "execution_count": 10,
   "metadata": {
    "execution": {
     "iopub.execute_input": "2022-08-19T04:27:18.095904Z",
     "iopub.status.busy": "2022-08-19T04:27:18.095525Z",
     "iopub.status.idle": "2022-08-19T04:27:18.112814Z",
     "shell.execute_reply": "2022-08-19T04:27:18.112101Z"
    }
   },
   "outputs": [
    {
     "data": {
      "text/html": [
       "<table class=\"simpletable\">\n",
       "<caption>OLS Regression Results</caption>\n",
       "<tr>\n",
       "  <th>Dep. Variable:</th>            <td>y</td>        <th>  R-squared (uncentered):</th>      <td>   0.955</td> \n",
       "</tr>\n",
       "<tr>\n",
       "  <th>Model:</th>                   <td>OLS</td>       <th>  Adj. R-squared (uncentered):</th> <td>   0.955</td> \n",
       "</tr>\n",
       "<tr>\n",
       "  <th>Method:</th>             <td>Least Squares</td>  <th>  F-statistic:       </th>          <td>1.065e+04</td>\n",
       "</tr>\n",
       "<tr>\n",
       "  <th>Date:</th>             <td>Fri, 19 Aug 2022</td> <th>  Prob (F-statistic):</th>           <td>  0.00</td>  \n",
       "</tr>\n",
       "<tr>\n",
       "  <th>Time:</th>                 <td>04:27:18</td>     <th>  Log-Likelihood:    </th>          <td> -1468.3</td> \n",
       "</tr>\n",
       "<tr>\n",
       "  <th>No. Observations:</th>      <td>  1000</td>      <th>  AIC:               </th>          <td>   2941.</td> \n",
       "</tr>\n",
       "<tr>\n",
       "  <th>Df Residuals:</th>          <td>   998</td>      <th>  BIC:               </th>          <td>   2951.</td> \n",
       "</tr>\n",
       "<tr>\n",
       "  <th>Df Model:</th>              <td>     2</td>      <th>                     </th>              <td> </td>    \n",
       "</tr>\n",
       "<tr>\n",
       "  <th>Covariance Type:</th>      <td>nonrobust</td>    <th>                     </th>              <td> </td>    \n",
       "</tr>\n",
       "</table>\n",
       "<table class=\"simpletable\">\n",
       "<tr>\n",
       "   <td></td>     <th>coef</th>     <th>std err</th>      <th>t</th>      <th>P>|t|</th>  <th>[0.025</th>    <th>0.975]</th>  \n",
       "</tr>\n",
       "<tr>\n",
       "  <th>x1</th> <td>    1.8093</td> <td>    0.036</td> <td>   49.886</td> <td> 0.000</td> <td>    1.738</td> <td>    1.880</td>\n",
       "</tr>\n",
       "<tr>\n",
       "  <th>x2</th> <td>    4.9694</td> <td>    0.049</td> <td>  101.410</td> <td> 0.000</td> <td>    4.873</td> <td>    5.066</td>\n",
       "</tr>\n",
       "</table>\n",
       "<table class=\"simpletable\">\n",
       "<tr>\n",
       "  <th>Omnibus:</th>       <td> 0.964</td> <th>  Durbin-Watson:     </th> <td>   2.019</td>\n",
       "</tr>\n",
       "<tr>\n",
       "  <th>Prob(Omnibus):</th> <td> 0.617</td> <th>  Jarque-Bera (JB):  </th> <td>   0.842</td>\n",
       "</tr>\n",
       "<tr>\n",
       "  <th>Skew:</th>          <td>-0.007</td> <th>  Prob(JB):          </th> <td>   0.656</td>\n",
       "</tr>\n",
       "<tr>\n",
       "  <th>Kurtosis:</th>      <td> 3.141</td> <th>  Cond. No.          </th> <td>    1.76</td>\n",
       "</tr>\n",
       "</table><br/><br/>Notes:<br/>[1] R² is computed without centering (uncentered) since the model does not contain a constant.<br/>[2] Standard Errors assume that the covariance matrix of the errors is correctly specified."
      ],
      "text/plain": [
       "<class 'statsmodels.iolib.summary.Summary'>\n",
       "\"\"\"\n",
       "                                 OLS Regression Results                                \n",
       "=======================================================================================\n",
       "Dep. Variable:                      y   R-squared (uncentered):                   0.955\n",
       "Model:                            OLS   Adj. R-squared (uncentered):              0.955\n",
       "Method:                 Least Squares   F-statistic:                          1.065e+04\n",
       "Date:                Fri, 19 Aug 2022   Prob (F-statistic):                        0.00\n",
       "Time:                        04:27:18   Log-Likelihood:                         -1468.3\n",
       "No. Observations:                1000   AIC:                                      2941.\n",
       "Df Residuals:                     998   BIC:                                      2951.\n",
       "Df Model:                           2                                                  \n",
       "Covariance Type:            nonrobust                                                  \n",
       "==============================================================================\n",
       "                 coef    std err          t      P>|t|      [0.025      0.975]\n",
       "------------------------------------------------------------------------------\n",
       "x1             1.8093      0.036     49.886      0.000       1.738       1.880\n",
       "x2             4.9694      0.049    101.410      0.000       4.873       5.066\n",
       "==============================================================================\n",
       "Omnibus:                        0.964   Durbin-Watson:                   2.019\n",
       "Prob(Omnibus):                  0.617   Jarque-Bera (JB):                0.842\n",
       "Skew:                          -0.007   Prob(JB):                        0.656\n",
       "Kurtosis:                       3.141   Cond. No.                         1.76\n",
       "==============================================================================\n",
       "\n",
       "Notes:\n",
       "[1] R² is computed without centering (uncentered) since the model does not contain a constant.\n",
       "[2] Standard Errors assume that the covariance matrix of the errors is correctly specified.\n",
       "\"\"\""
      ]
     },
     "execution_count": 10,
     "metadata": {},
     "output_type": "execute_result"
    }
   ],
   "source": [
    "model = OLS(np.asarray(df[outcome]), np.asarray(df[[common_cause, treatment]], dtype=np.float64))\n",
    "result = model.fit()\n",
    "result.summary()"
   ]
  }
 ],
 "metadata": {
  "kernelspec": {
   "display_name": "Python 3",
   "language": "python",
   "name": "python3"
  },
  "language_info": {
   "codemirror_mode": {
    "name": "ipython",
    "version": 3
   },
   "file_extension": ".py",
   "mimetype": "text/x-python",
   "name": "python",
   "nbconvert_exporter": "python",
   "pygments_lexer": "ipython3",
   "version": "3.8.10"
  },
  "toc": {
   "base_numbering": 1,
   "nav_menu": {},
   "number_sections": false,
   "sideBar": true,
   "skip_h1_title": true,
   "title_cell": "Table of Contents",
   "title_sidebar": "Contents",
   "toc_cell": false,
   "toc_position": {},
   "toc_section_display": true,
   "toc_window_display": false
  }
 },
 "nbformat": 4,
 "nbformat_minor": 4
}
