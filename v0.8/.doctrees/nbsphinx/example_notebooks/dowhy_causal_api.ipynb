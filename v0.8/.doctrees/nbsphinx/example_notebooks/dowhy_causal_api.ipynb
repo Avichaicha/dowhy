{
 "cells": [
  {
   "cell_type": "markdown",
   "metadata": {},
   "source": [
    "# Demo for the DoWhy causal API\n",
    "We show a simple example of adding a causal extension to any dataframe. "
   ]
  },
  {
   "cell_type": "code",
   "execution_count": 1,
   "metadata": {
    "execution": {
     "iopub.execute_input": "2022-08-22T06:59:54.149473Z",
     "iopub.status.busy": "2022-08-22T06:59:54.148795Z",
     "iopub.status.idle": "2022-08-22T06:59:55.522121Z",
     "shell.execute_reply": "2022-08-22T06:59:55.521201Z"
    }
   },
   "outputs": [],
   "source": [
    "import dowhy.datasets\n",
    "import dowhy.api\n",
    "\n",
    "import numpy as np\n",
    "import pandas as pd\n",
    "\n",
    "from statsmodels.api import OLS"
   ]
  },
  {
   "cell_type": "code",
   "execution_count": 2,
   "metadata": {
    "execution": {
     "iopub.execute_input": "2022-08-22T06:59:55.526199Z",
     "iopub.status.busy": "2022-08-22T06:59:55.525796Z",
     "iopub.status.idle": "2022-08-22T06:59:55.584531Z",
     "shell.execute_reply": "2022-08-22T06:59:55.583650Z"
    }
   },
   "outputs": [
    {
     "data": {
      "text/html": [
       "<div>\n",
       "<style scoped>\n",
       "    .dataframe tbody tr th:only-of-type {\n",
       "        vertical-align: middle;\n",
       "    }\n",
       "\n",
       "    .dataframe tbody tr th {\n",
       "        vertical-align: top;\n",
       "    }\n",
       "\n",
       "    .dataframe thead th {\n",
       "        text-align: right;\n",
       "    }\n",
       "</style>\n",
       "<table border=\"1\" class=\"dataframe\">\n",
       "  <thead>\n",
       "    <tr style=\"text-align: right;\">\n",
       "      <th></th>\n",
       "      <th>W0</th>\n",
       "      <th>v0</th>\n",
       "      <th>y</th>\n",
       "    </tr>\n",
       "  </thead>\n",
       "  <tbody>\n",
       "    <tr>\n",
       "      <th>0</th>\n",
       "      <td>0.084971</td>\n",
       "      <td>True</td>\n",
       "      <td>5.082602</td>\n",
       "    </tr>\n",
       "    <tr>\n",
       "      <th>1</th>\n",
       "      <td>-0.396269</td>\n",
       "      <td>False</td>\n",
       "      <td>-1.438821</td>\n",
       "    </tr>\n",
       "    <tr>\n",
       "      <th>2</th>\n",
       "      <td>2.173867</td>\n",
       "      <td>True</td>\n",
       "      <td>11.479422</td>\n",
       "    </tr>\n",
       "    <tr>\n",
       "      <th>3</th>\n",
       "      <td>2.916317</td>\n",
       "      <td>True</td>\n",
       "      <td>12.012286</td>\n",
       "    </tr>\n",
       "    <tr>\n",
       "      <th>4</th>\n",
       "      <td>-0.235892</td>\n",
       "      <td>False</td>\n",
       "      <td>-1.628292</td>\n",
       "    </tr>\n",
       "    <tr>\n",
       "      <th>...</th>\n",
       "      <td>...</td>\n",
       "      <td>...</td>\n",
       "      <td>...</td>\n",
       "    </tr>\n",
       "    <tr>\n",
       "      <th>995</th>\n",
       "      <td>0.717345</td>\n",
       "      <td>False</td>\n",
       "      <td>3.224835</td>\n",
       "    </tr>\n",
       "    <tr>\n",
       "      <th>996</th>\n",
       "      <td>0.133643</td>\n",
       "      <td>True</td>\n",
       "      <td>6.297357</td>\n",
       "    </tr>\n",
       "    <tr>\n",
       "      <th>997</th>\n",
       "      <td>2.422548</td>\n",
       "      <td>True</td>\n",
       "      <td>9.256972</td>\n",
       "    </tr>\n",
       "    <tr>\n",
       "      <th>998</th>\n",
       "      <td>2.320712</td>\n",
       "      <td>True</td>\n",
       "      <td>9.223372</td>\n",
       "    </tr>\n",
       "    <tr>\n",
       "      <th>999</th>\n",
       "      <td>-0.219419</td>\n",
       "      <td>True</td>\n",
       "      <td>4.186390</td>\n",
       "    </tr>\n",
       "  </tbody>\n",
       "</table>\n",
       "<p>1000 rows × 3 columns</p>\n",
       "</div>"
      ],
      "text/plain": [
       "           W0     v0          y\n",
       "0    0.084971   True   5.082602\n",
       "1   -0.396269  False  -1.438821\n",
       "2    2.173867   True  11.479422\n",
       "3    2.916317   True  12.012286\n",
       "4   -0.235892  False  -1.628292\n",
       "..        ...    ...        ...\n",
       "995  0.717345  False   3.224835\n",
       "996  0.133643   True   6.297357\n",
       "997  2.422548   True   9.256972\n",
       "998  2.320712   True   9.223372\n",
       "999 -0.219419   True   4.186390\n",
       "\n",
       "[1000 rows x 3 columns]"
      ]
     },
     "execution_count": 2,
     "metadata": {},
     "output_type": "execute_result"
    }
   ],
   "source": [
    "data = dowhy.datasets.linear_dataset(beta=5,\n",
    "        num_common_causes=1,\n",
    "        num_instruments = 0,\n",
    "        num_samples=1000,\n",
    "        treatment_is_binary=True)\n",
    "df = data['df']\n",
    "df['y'] = df['y'] + np.random.normal(size=len(df)) # Adding noise to data. Without noise, the variance in Y|X, Z is zero, and mcmc fails.\n",
    "#data['dot_graph'] = 'digraph { v ->y;X0-> v;X0-> y;}'\n",
    "\n",
    "treatment= data[\"treatment_name\"][0]\n",
    "outcome = data[\"outcome_name\"][0]\n",
    "common_cause = data[\"common_causes_names\"][0]\n",
    "df"
   ]
  },
  {
   "cell_type": "code",
   "execution_count": 3,
   "metadata": {
    "execution": {
     "iopub.execute_input": "2022-08-22T06:59:55.587943Z",
     "iopub.status.busy": "2022-08-22T06:59:55.587697Z",
     "iopub.status.idle": "2022-08-22T06:59:56.493608Z",
     "shell.execute_reply": "2022-08-22T06:59:56.492567Z"
    }
   },
   "outputs": [
    {
     "data": {
      "text/plain": [
       "<AxesSubplot:xlabel='v0'>"
      ]
     },
     "execution_count": 3,
     "metadata": {},
     "output_type": "execute_result"
    },
    {
     "data": {
      "image/png": "[encoded data removed]",
      "text/plain": [
       "<Figure size 640x480 with 1 Axes>"
      ]
     },
     "metadata": {},
     "output_type": "display_data"
    }
   ],
   "source": [
    "# data['df'] is just a regular pandas.DataFrame\n",
    "df.causal.do(x=treatment,\n",
    "                     variable_types={treatment: 'b', outcome: 'c', common_cause: 'c'},\n",
    "                     outcome=outcome,\n",
    "                     common_causes=[common_cause],\n",
    "                     proceed_when_unidentifiable=True).groupby(treatment).mean().plot(y=outcome, kind='bar')"
   ]
  },
  {
   "cell_type": "code",
   "execution_count": 4,
   "metadata": {
    "execution": {
     "iopub.execute_input": "2022-08-22T06:59:56.497879Z",
     "iopub.status.busy": "2022-08-22T06:59:56.497325Z",
     "iopub.status.idle": "2022-08-22T06:59:56.643316Z",
     "shell.execute_reply": "2022-08-22T06:59:56.642369Z"
    }
   },
   "outputs": [
    {
     "data": {
      "text/plain": [
       "<AxesSubplot:xlabel='v0'>"
      ]
     },
     "execution_count": 4,
     "metadata": {},
     "output_type": "execute_result"
    },
    {
     "data": {
      "image/png": "[encoded data removed]",
      "text/plain": [
       "<Figure size 640x480 with 1 Axes>"
      ]
     },
     "metadata": {},
     "output_type": "display_data"
    }
   ],
   "source": [
    "df.causal.do(x={treatment: 1}, \n",
    "              variable_types={treatment:'b', outcome: 'c', common_cause: 'c'}, \n",
    "              outcome=outcome,\n",
    "              method='weighting', \n",
    "              common_causes=[common_cause],\n",
    "              proceed_when_unidentifiable=True).groupby(treatment).mean().plot(y=outcome, kind='bar')"
   ]
  },
  {
   "cell_type": "code",
   "execution_count": 5,
   "metadata": {
    "execution": {
     "iopub.execute_input": "2022-08-22T06:59:56.647344Z",
     "iopub.status.busy": "2022-08-22T06:59:56.646821Z",
     "iopub.status.idle": "2022-08-22T06:59:56.689236Z",
     "shell.execute_reply": "2022-08-22T06:59:56.688201Z"
    }
   },
   "outputs": [],
   "source": [
    "cdf_1 = df.causal.do(x={treatment: 1}, \n",
    "              variable_types={treatment: 'b', outcome: 'c', common_cause: 'c'}, \n",
    "              outcome=outcome, \n",
    "              dot_graph=data['dot_graph'],\n",
    "              proceed_when_unidentifiable=True)\n",
    "\n",
    "cdf_0 = df.causal.do(x={treatment: 0}, \n",
    "              variable_types={treatment: 'b', outcome: 'c', common_cause: 'c'}, \n",
    "              outcome=outcome, \n",
    "              dot_graph=data['dot_graph'],\n",
    "              proceed_when_unidentifiable=True)\n"
   ]
  },
  {
   "cell_type": "code",
   "execution_count": 6,
   "metadata": {
    "execution": {
     "iopub.execute_input": "2022-08-22T06:59:56.693500Z",
     "iopub.status.busy": "2022-08-22T06:59:56.693226Z",
     "iopub.status.idle": "2022-08-22T06:59:56.709906Z",
     "shell.execute_reply": "2022-08-22T06:59:56.708999Z"
    },
    "scrolled": true
   },
   "outputs": [
    {
     "data": {
      "text/html": [
       "<div>\n",
       "<style scoped>\n",
       "    .dataframe tbody tr th:only-of-type {\n",
       "        vertical-align: middle;\n",
       "    }\n",
       "\n",
       "    .dataframe tbody tr th {\n",
       "        vertical-align: top;\n",
       "    }\n",
       "\n",
       "    .dataframe thead th {\n",
       "        text-align: right;\n",
       "    }\n",
       "</style>\n",
       "<table border=\"1\" class=\"dataframe\">\n",
       "  <thead>\n",
       "    <tr style=\"text-align: right;\">\n",
       "      <th></th>\n",
       "      <th>W0</th>\n",
       "      <th>v0</th>\n",
       "      <th>y</th>\n",
       "      <th>propensity_score</th>\n",
       "      <th>weight</th>\n",
       "    </tr>\n",
       "  </thead>\n",
       "  <tbody>\n",
       "    <tr>\n",
       "      <th>0</th>\n",
       "      <td>2.733335</td>\n",
       "      <td>False</td>\n",
       "      <td>5.068516</td>\n",
       "      <td>0.236241</td>\n",
       "      <td>4.232967</td>\n",
       "    </tr>\n",
       "    <tr>\n",
       "      <th>1</th>\n",
       "      <td>0.744809</td>\n",
       "      <td>False</td>\n",
       "      <td>2.943351</td>\n",
       "      <td>0.429863</td>\n",
       "      <td>2.326321</td>\n",
       "    </tr>\n",
       "    <tr>\n",
       "      <th>2</th>\n",
       "      <td>-0.004642</td>\n",
       "      <td>False</td>\n",
       "      <td>-0.228659</td>\n",
       "      <td>0.513346</td>\n",
       "      <td>1.948005</td>\n",
       "    </tr>\n",
       "    <tr>\n",
       "      <th>3</th>\n",
       "      <td>-0.064713</td>\n",
       "      <td>False</td>\n",
       "      <td>0.487385</td>\n",
       "      <td>0.520067</td>\n",
       "      <td>1.922829</td>\n",
       "    </tr>\n",
       "    <tr>\n",
       "      <th>4</th>\n",
       "      <td>-0.247730</td>\n",
       "      <td>False</td>\n",
       "      <td>-1.324791</td>\n",
       "      <td>0.540490</td>\n",
       "      <td>1.850174</td>\n",
       "    </tr>\n",
       "    <tr>\n",
       "      <th>...</th>\n",
       "      <td>...</td>\n",
       "      <td>...</td>\n",
       "      <td>...</td>\n",
       "      <td>...</td>\n",
       "      <td>...</td>\n",
       "    </tr>\n",
       "    <tr>\n",
       "      <th>995</th>\n",
       "      <td>0.170275</td>\n",
       "      <td>False</td>\n",
       "      <td>1.072593</td>\n",
       "      <td>0.493756</td>\n",
       "      <td>2.025294</td>\n",
       "    </tr>\n",
       "    <tr>\n",
       "      <th>996</th>\n",
       "      <td>0.553883</td>\n",
       "      <td>False</td>\n",
       "      <td>-0.995414</td>\n",
       "      <td>0.450943</td>\n",
       "      <td>2.217575</td>\n",
       "    </tr>\n",
       "    <tr>\n",
       "      <th>997</th>\n",
       "      <td>1.060019</td>\n",
       "      <td>False</td>\n",
       "      <td>3.490726</td>\n",
       "      <td>0.395645</td>\n",
       "      <td>2.527517</td>\n",
       "    </tr>\n",
       "    <tr>\n",
       "      <th>998</th>\n",
       "      <td>0.026183</td>\n",
       "      <td>False</td>\n",
       "      <td>-0.845896</td>\n",
       "      <td>0.509895</td>\n",
       "      <td>1.961190</td>\n",
       "    </tr>\n",
       "    <tr>\n",
       "      <th>999</th>\n",
       "      <td>0.725838</td>\n",
       "      <td>False</td>\n",
       "      <td>2.352124</td>\n",
       "      <td>0.431948</td>\n",
       "      <td>2.315094</td>\n",
       "    </tr>\n",
       "  </tbody>\n",
       "</table>\n",
       "<p>1000 rows × 5 columns</p>\n",
       "</div>"
      ],
      "text/plain": [
       "           W0     v0         y  propensity_score    weight\n",
       "0    2.733335  False  5.068516          0.236241  4.232967\n",
       "1    0.744809  False  2.943351          0.429863  2.326321\n",
       "2   -0.004642  False -0.228659          0.513346  1.948005\n",
       "3   -0.064713  False  0.487385          0.520067  1.922829\n",
       "4   -0.247730  False -1.324791          0.540490  1.850174\n",
       "..        ...    ...       ...               ...       ...\n",
       "995  0.170275  False  1.072593          0.493756  2.025294\n",
       "996  0.553883  False -0.995414          0.450943  2.217575\n",
       "997  1.060019  False  3.490726          0.395645  2.527517\n",
       "998  0.026183  False -0.845896          0.509895  1.961190\n",
       "999  0.725838  False  2.352124          0.431948  2.315094\n",
       "\n",
       "[1000 rows x 5 columns]"
      ]
     },
     "execution_count": 6,
     "metadata": {},
     "output_type": "execute_result"
    }
   ],
   "source": [
    "cdf_0"
   ]
  },
  {
   "cell_type": "code",
   "execution_count": 7,
   "metadata": {
    "execution": {
     "iopub.execute_input": "2022-08-22T06:59:56.713907Z",
     "iopub.status.busy": "2022-08-22T06:59:56.713617Z",
     "iopub.status.idle": "2022-08-22T06:59:56.729914Z",
     "shell.execute_reply": "2022-08-22T06:59:56.729064Z"
    }
   },
   "outputs": [
    {
     "data": {
      "text/html": [
       "<div>\n",
       "<style scoped>\n",
       "    .dataframe tbody tr th:only-of-type {\n",
       "        vertical-align: middle;\n",
       "    }\n",
       "\n",
       "    .dataframe tbody tr th {\n",
       "        vertical-align: top;\n",
       "    }\n",
       "\n",
       "    .dataframe thead th {\n",
       "        text-align: right;\n",
       "    }\n",
       "</style>\n",
       "<table border=\"1\" class=\"dataframe\">\n",
       "  <thead>\n",
       "    <tr style=\"text-align: right;\">\n",
       "      <th></th>\n",
       "      <th>W0</th>\n",
       "      <th>v0</th>\n",
       "      <th>y</th>\n",
       "      <th>propensity_score</th>\n",
       "      <th>weight</th>\n",
       "    </tr>\n",
       "  </thead>\n",
       "  <tbody>\n",
       "    <tr>\n",
       "      <th>0</th>\n",
       "      <td>0.084104</td>\n",
       "      <td>True</td>\n",
       "      <td>6.224468</td>\n",
       "      <td>0.496592</td>\n",
       "      <td>2.013724</td>\n",
       "    </tr>\n",
       "    <tr>\n",
       "      <th>1</th>\n",
       "      <td>-0.084644</td>\n",
       "      <td>True</td>\n",
       "      <td>4.861105</td>\n",
       "      <td>0.477704</td>\n",
       "      <td>2.093344</td>\n",
       "    </tr>\n",
       "    <tr>\n",
       "      <th>2</th>\n",
       "      <td>0.540486</td>\n",
       "      <td>True</td>\n",
       "      <td>6.522998</td>\n",
       "      <td>0.547570</td>\n",
       "      <td>1.826250</td>\n",
       "    </tr>\n",
       "    <tr>\n",
       "      <th>3</th>\n",
       "      <td>-1.312062</td>\n",
       "      <td>True</td>\n",
       "      <td>2.110205</td>\n",
       "      <td>0.345426</td>\n",
       "      <td>2.894976</td>\n",
       "    </tr>\n",
       "    <tr>\n",
       "      <th>4</th>\n",
       "      <td>2.405567</td>\n",
       "      <td>True</td>\n",
       "      <td>10.119933</td>\n",
       "      <td>0.736244</td>\n",
       "      <td>1.358245</td>\n",
       "    </tr>\n",
       "    <tr>\n",
       "      <th>...</th>\n",
       "      <td>...</td>\n",
       "      <td>...</td>\n",
       "      <td>...</td>\n",
       "      <td>...</td>\n",
       "      <td>...</td>\n",
       "    </tr>\n",
       "    <tr>\n",
       "      <th>995</th>\n",
       "      <td>-0.303532</td>\n",
       "      <td>True</td>\n",
       "      <td>4.210682</td>\n",
       "      <td>0.453307</td>\n",
       "      <td>2.206011</td>\n",
       "    </tr>\n",
       "    <tr>\n",
       "      <th>996</th>\n",
       "      <td>-0.269328</td>\n",
       "      <td>True</td>\n",
       "      <td>3.019526</td>\n",
       "      <td>0.457108</td>\n",
       "      <td>2.187668</td>\n",
       "    </tr>\n",
       "    <tr>\n",
       "      <th>997</th>\n",
       "      <td>-0.084119</td>\n",
       "      <td>True</td>\n",
       "      <td>5.056662</td>\n",
       "      <td>0.477763</td>\n",
       "      <td>2.093088</td>\n",
       "    </tr>\n",
       "    <tr>\n",
       "      <th>998</th>\n",
       "      <td>0.899040</td>\n",
       "      <td>True</td>\n",
       "      <td>7.411560</td>\n",
       "      <td>0.586985</td>\n",
       "      <td>1.703622</td>\n",
       "    </tr>\n",
       "    <tr>\n",
       "      <th>999</th>\n",
       "      <td>-1.584507</td>\n",
       "      <td>True</td>\n",
       "      <td>1.120638</td>\n",
       "      <td>0.318369</td>\n",
       "      <td>3.141014</td>\n",
       "    </tr>\n",
       "  </tbody>\n",
       "</table>\n",
       "<p>1000 rows × 5 columns</p>\n",
       "</div>"
      ],
      "text/plain": [
       "           W0    v0          y  propensity_score    weight\n",
       "0    0.084104  True   6.224468          0.496592  2.013724\n",
       "1   -0.084644  True   4.861105          0.477704  2.093344\n",
       "2    0.540486  True   6.522998          0.547570  1.826250\n",
       "3   -1.312062  True   2.110205          0.345426  2.894976\n",
       "4    2.405567  True  10.119933          0.736244  1.358245\n",
       "..        ...   ...        ...               ...       ...\n",
       "995 -0.303532  True   4.210682          0.453307  2.206011\n",
       "996 -0.269328  True   3.019526          0.457108  2.187668\n",
       "997 -0.084119  True   5.056662          0.477763  2.093088\n",
       "998  0.899040  True   7.411560          0.586985  1.703622\n",
       "999 -1.584507  True   1.120638          0.318369  3.141014\n",
       "\n",
       "[1000 rows x 5 columns]"
      ]
     },
     "execution_count": 7,
     "metadata": {},
     "output_type": "execute_result"
    }
   ],
   "source": [
    "cdf_1"
   ]
  },
  {
   "cell_type": "markdown",
   "metadata": {},
   "source": [
    "## Comparing the estimate to Linear Regression\n",
    "First, estimating the effect using the causal data frame, and the 95% confidence interval."
   ]
  },
  {
   "cell_type": "code",
   "execution_count": 8,
   "metadata": {
    "execution": {
     "iopub.execute_input": "2022-08-22T06:59:56.734216Z",
     "iopub.status.busy": "2022-08-22T06:59:56.733786Z",
     "iopub.status.idle": "2022-08-22T06:59:56.862120Z",
     "shell.execute_reply": "2022-08-22T06:59:56.860982Z"
    }
   },
   "outputs": [
    {
     "data": {
      "image/png": "[encoded data removed]",
      "text/latex": [
       "$\\displaystyle 4.89054129152724$"
      ],
      "text/plain": [
       "4.890541291527235"
      ]
     },
     "execution_count": 8,
     "metadata": {},
     "output_type": "execute_result"
    }
   ],
   "source": [
    "(cdf_1['y'] - cdf_0['y']).mean()"
   ]
  },
  {
   "cell_type": "code",
   "execution_count": 9,
   "metadata": {
    "execution": {
     "iopub.execute_input": "2022-08-22T06:59:56.866087Z",
     "iopub.status.busy": "2022-08-22T06:59:56.865686Z",
     "iopub.status.idle": "2022-08-22T06:59:56.899787Z",
     "shell.execute_reply": "2022-08-22T06:59:56.898827Z"
    }
   },
   "outputs": [
    {
     "data": {
      "image/png": "[encoded data removed]",
      "text/latex": [
       "$\\displaystyle 0.206035451013098$"
      ],
      "text/plain": [
       "0.20603545101309784"
      ]
     },
     "execution_count": 9,
     "metadata": {},
     "output_type": "execute_result"
    }
   ],
   "source": [
    "1.96*(cdf_1['y'] - cdf_0['y']).std() / np.sqrt(len(df))"
   ]
  },
  {
   "cell_type": "markdown",
   "metadata": {},
   "source": [
    "Comparing to the estimate from OLS."
   ]
  },
  {
   "cell_type": "code",
   "execution_count": 10,
   "metadata": {
    "execution": {
     "iopub.execute_input": "2022-08-22T06:59:56.903805Z",
     "iopub.status.busy": "2022-08-22T06:59:56.903408Z",
     "iopub.status.idle": "2022-08-22T06:59:56.925734Z",
     "shell.execute_reply": "2022-08-22T06:59:56.924780Z"
    }
   },
   "outputs": [
    {
     "data": {
      "text/html": [
       "<table class=\"simpletable\">\n",
       "<caption>OLS Regression Results</caption>\n",
       "<tr>\n",
       "  <th>Dep. Variable:</th>            <td>y</td>        <th>  R-squared (uncentered):</th>      <td>   0.967</td> \n",
       "</tr>\n",
       "<tr>\n",
       "  <th>Model:</th>                   <td>OLS</td>       <th>  Adj. R-squared (uncentered):</th> <td>   0.967</td> \n",
       "</tr>\n",
       "<tr>\n",
       "  <th>Method:</th>             <td>Least Squares</td>  <th>  F-statistic:       </th>          <td>1.466e+04</td>\n",
       "</tr>\n",
       "<tr>\n",
       "  <th>Date:</th>             <td>Mon, 22 Aug 2022</td> <th>  Prob (F-statistic):</th>           <td>  0.00</td>  \n",
       "</tr>\n",
       "<tr>\n",
       "  <th>Time:</th>                 <td>06:59:56</td>     <th>  Log-Likelihood:    </th>          <td> -1402.5</td> \n",
       "</tr>\n",
       "<tr>\n",
       "  <th>No. Observations:</th>      <td>  1000</td>      <th>  AIC:               </th>          <td>   2809.</td> \n",
       "</tr>\n",
       "<tr>\n",
       "  <th>Df Residuals:</th>          <td>   998</td>      <th>  BIC:               </th>          <td>   2819.</td> \n",
       "</tr>\n",
       "<tr>\n",
       "  <th>Df Model:</th>              <td>     2</td>      <th>                     </th>              <td> </td>    \n",
       "</tr>\n",
       "<tr>\n",
       "  <th>Covariance Type:</th>      <td>nonrobust</td>    <th>                     </th>              <td> </td>    \n",
       "</tr>\n",
       "</table>\n",
       "<table class=\"simpletable\">\n",
       "<tr>\n",
       "   <td></td>     <th>coef</th>     <th>std err</th>      <th>t</th>      <th>P>|t|</th>  <th>[0.025</th>    <th>0.975]</th>  \n",
       "</tr>\n",
       "<tr>\n",
       "  <th>x1</th> <td>    2.1730</td> <td>    0.031</td> <td>   70.597</td> <td> 0.000</td> <td>    2.113</td> <td>    2.233</td>\n",
       "</tr>\n",
       "<tr>\n",
       "  <th>x2</th> <td>    4.8766</td> <td>    0.048</td> <td>  100.982</td> <td> 0.000</td> <td>    4.782</td> <td>    4.971</td>\n",
       "</tr>\n",
       "</table>\n",
       "<table class=\"simpletable\">\n",
       "<tr>\n",
       "  <th>Omnibus:</th>       <td> 2.971</td> <th>  Durbin-Watson:     </th> <td>   2.034</td>\n",
       "</tr>\n",
       "<tr>\n",
       "  <th>Prob(Omnibus):</th> <td> 0.226</td> <th>  Jarque-Bera (JB):  </th> <td>   3.029</td>\n",
       "</tr>\n",
       "<tr>\n",
       "  <th>Skew:</th>          <td>-0.130</td> <th>  Prob(JB):          </th> <td>   0.220</td>\n",
       "</tr>\n",
       "<tr>\n",
       "  <th>Kurtosis:</th>      <td> 2.929</td> <th>  Cond. No.          </th> <td>    2.05</td>\n",
       "</tr>\n",
       "</table><br/><br/>Notes:<br/>[1] R² is computed without centering (uncentered) since the model does not contain a constant.<br/>[2] Standard Errors assume that the covariance matrix of the errors is correctly specified."
      ],
      "text/plain": [
       "<class 'statsmodels.iolib.summary.Summary'>\n",
       "\"\"\"\n",
       "                                 OLS Regression Results                                \n",
       "=======================================================================================\n",
       "Dep. Variable:                      y   R-squared (uncentered):                   0.967\n",
       "Model:                            OLS   Adj. R-squared (uncentered):              0.967\n",
       "Method:                 Least Squares   F-statistic:                          1.466e+04\n",
       "Date:                Mon, 22 Aug 2022   Prob (F-statistic):                        0.00\n",
       "Time:                        06:59:56   Log-Likelihood:                         -1402.5\n",
       "No. Observations:                1000   AIC:                                      2809.\n",
       "Df Residuals:                     998   BIC:                                      2819.\n",
       "Df Model:                           2                                                  \n",
       "Covariance Type:            nonrobust                                                  \n",
       "==============================================================================\n",
       "                 coef    std err          t      P>|t|      [0.025      0.975]\n",
       "------------------------------------------------------------------------------\n",
       "x1             2.1730      0.031     70.597      0.000       2.113       2.233\n",
       "x2             4.8766      0.048    100.982      0.000       4.782       4.971\n",
       "==============================================================================\n",
       "Omnibus:                        2.971   Durbin-Watson:                   2.034\n",
       "Prob(Omnibus):                  0.226   Jarque-Bera (JB):                3.029\n",
       "Skew:                          -0.130   Prob(JB):                        0.220\n",
       "Kurtosis:                       2.929   Cond. No.                         2.05\n",
       "==============================================================================\n",
       "\n",
       "Notes:\n",
       "[1] R² is computed without centering (uncentered) since the model does not contain a constant.\n",
       "[2] Standard Errors assume that the covariance matrix of the errors is correctly specified.\n",
       "\"\"\""
      ]
     },
     "execution_count": 10,
     "metadata": {},
     "output_type": "execute_result"
    }
   ],
   "source": [
    "model = OLS(np.asarray(df[outcome]), np.asarray(df[[common_cause, treatment]], dtype=np.float64))\n",
    "result = model.fit()\n",
    "result.summary()"
   ]
  }
 ],
 "metadata": {
  "kernelspec": {
   "display_name": "Python 3",
   "language": "python",
   "name": "python3"
  },
  "language_info": {
   "codemirror_mode": {
    "name": "ipython",
    "version": 3
   },
   "file_extension": ".py",
   "mimetype": "text/x-python",
   "name": "python",
   "nbconvert_exporter": "python",
   "pygments_lexer": "ipython3",
   "version": "3.8.10"
  },
  "toc": {
   "base_numbering": 1,
   "nav_menu": {},
   "number_sections": false,
   "sideBar": true,
   "skip_h1_title": true,
   "title_cell": "Table of Contents",
   "title_sidebar": "Contents",
   "toc_cell": false,
   "toc_position": {},
   "toc_section_display": true,
   "toc_window_display": false
  }
 },
 "nbformat": 4,
 "nbformat_minor": 4
}
