{
 "cells": [
  {
   "cell_type": "markdown",
   "metadata": {},
   "source": [
    "# Demo for the DoWhy causal API\n",
    "We show a simple example of adding a causal extension to any dataframe. "
   ]
  },
  {
   "cell_type": "code",
   "execution_count": 1,
   "metadata": {
    "execution": {
     "iopub.execute_input": "2022-08-19T21:53:11.293194Z",
     "iopub.status.busy": "2022-08-19T21:53:11.292899Z",
     "iopub.status.idle": "2022-08-19T21:53:12.512177Z",
     "shell.execute_reply": "2022-08-19T21:53:12.511421Z"
    }
   },
   "outputs": [],
   "source": [
    "import dowhy.datasets\n",
    "import dowhy.api\n",
    "\n",
    "import numpy as np\n",
    "import pandas as pd\n",
    "\n",
    "from statsmodels.api import OLS"
   ]
  },
  {
   "cell_type": "code",
   "execution_count": 2,
   "metadata": {
    "execution": {
     "iopub.execute_input": "2022-08-19T21:53:12.516923Z",
     "iopub.status.busy": "2022-08-19T21:53:12.516281Z",
     "iopub.status.idle": "2022-08-19T21:53:12.564166Z",
     "shell.execute_reply": "2022-08-19T21:53:12.563446Z"
    }
   },
   "outputs": [
    {
     "data": {
      "text/html": [
       "<div>\n",
       "<style scoped>\n",
       "    .dataframe tbody tr th:only-of-type {\n",
       "        vertical-align: middle;\n",
       "    }\n",
       "\n",
       "    .dataframe tbody tr th {\n",
       "        vertical-align: top;\n",
       "    }\n",
       "\n",
       "    .dataframe thead th {\n",
       "        text-align: right;\n",
       "    }\n",
       "</style>\n",
       "<table border=\"1\" class=\"dataframe\">\n",
       "  <thead>\n",
       "    <tr style=\"text-align: right;\">\n",
       "      <th></th>\n",
       "      <th>W0</th>\n",
       "      <th>v0</th>\n",
       "      <th>y</th>\n",
       "    </tr>\n",
       "  </thead>\n",
       "  <tbody>\n",
       "    <tr>\n",
       "      <th>0</th>\n",
       "      <td>0.423843</td>\n",
       "      <td>True</td>\n",
       "      <td>4.236316</td>\n",
       "    </tr>\n",
       "    <tr>\n",
       "      <th>1</th>\n",
       "      <td>0.006768</td>\n",
       "      <td>False</td>\n",
       "      <td>0.430467</td>\n",
       "    </tr>\n",
       "    <tr>\n",
       "      <th>2</th>\n",
       "      <td>1.671409</td>\n",
       "      <td>False</td>\n",
       "      <td>0.557168</td>\n",
       "    </tr>\n",
       "    <tr>\n",
       "      <th>3</th>\n",
       "      <td>2.457992</td>\n",
       "      <td>True</td>\n",
       "      <td>6.022022</td>\n",
       "    </tr>\n",
       "    <tr>\n",
       "      <th>4</th>\n",
       "      <td>1.488913</td>\n",
       "      <td>False</td>\n",
       "      <td>0.741237</td>\n",
       "    </tr>\n",
       "    <tr>\n",
       "      <th>...</th>\n",
       "      <td>...</td>\n",
       "      <td>...</td>\n",
       "      <td>...</td>\n",
       "    </tr>\n",
       "    <tr>\n",
       "      <th>995</th>\n",
       "      <td>0.954228</td>\n",
       "      <td>True</td>\n",
       "      <td>5.646652</td>\n",
       "    </tr>\n",
       "    <tr>\n",
       "      <th>996</th>\n",
       "      <td>3.023105</td>\n",
       "      <td>True</td>\n",
       "      <td>6.453850</td>\n",
       "    </tr>\n",
       "    <tr>\n",
       "      <th>997</th>\n",
       "      <td>-0.363821</td>\n",
       "      <td>False</td>\n",
       "      <td>1.351973</td>\n",
       "    </tr>\n",
       "    <tr>\n",
       "      <th>998</th>\n",
       "      <td>1.932822</td>\n",
       "      <td>False</td>\n",
       "      <td>-2.334736</td>\n",
       "    </tr>\n",
       "    <tr>\n",
       "      <th>999</th>\n",
       "      <td>1.040679</td>\n",
       "      <td>True</td>\n",
       "      <td>5.359159</td>\n",
       "    </tr>\n",
       "  </tbody>\n",
       "</table>\n",
       "<p>1000 rows × 3 columns</p>\n",
       "</div>"
      ],
      "text/plain": [
       "           W0     v0         y\n",
       "0    0.423843   True  4.236316\n",
       "1    0.006768  False  0.430467\n",
       "2    1.671409  False  0.557168\n",
       "3    2.457992   True  6.022022\n",
       "4    1.488913  False  0.741237\n",
       "..        ...    ...       ...\n",
       "995  0.954228   True  5.646652\n",
       "996  3.023105   True  6.453850\n",
       "997 -0.363821  False  1.351973\n",
       "998  1.932822  False -2.334736\n",
       "999  1.040679   True  5.359159\n",
       "\n",
       "[1000 rows x 3 columns]"
      ]
     },
     "execution_count": 2,
     "metadata": {},
     "output_type": "execute_result"
    }
   ],
   "source": [
    "data = dowhy.datasets.linear_dataset(beta=5,\n",
    "        num_common_causes=1,\n",
    "        num_instruments = 0,\n",
    "        num_samples=1000,\n",
    "        treatment_is_binary=True)\n",
    "df = data['df']\n",
    "df['y'] = df['y'] + np.random.normal(size=len(df)) # Adding noise to data. Without noise, the variance in Y|X, Z is zero, and mcmc fails.\n",
    "#data['dot_graph'] = 'digraph { v ->y;X0-> v;X0-> y;}'\n",
    "\n",
    "treatment= data[\"treatment_name\"][0]\n",
    "outcome = data[\"outcome_name\"][0]\n",
    "common_cause = data[\"common_causes_names\"][0]\n",
    "df"
   ]
  },
  {
   "cell_type": "code",
   "execution_count": 3,
   "metadata": {
    "execution": {
     "iopub.execute_input": "2022-08-19T21:53:12.567419Z",
     "iopub.status.busy": "2022-08-19T21:53:12.567021Z",
     "iopub.status.idle": "2022-08-19T21:53:13.363509Z",
     "shell.execute_reply": "2022-08-19T21:53:13.362894Z"
    }
   },
   "outputs": [
    {
     "data": {
      "text/plain": [
       "<AxesSubplot:xlabel='v0'>"
      ]
     },
     "execution_count": 3,
     "metadata": {},
     "output_type": "execute_result"
    },
    {
     "data": {
      "image/png": "[encoded data removed]",
      "text/plain": [
       "<Figure size 640x480 with 1 Axes>"
      ]
     },
     "metadata": {},
     "output_type": "display_data"
    }
   ],
   "source": [
    "# data['df'] is just a regular pandas.DataFrame\n",
    "df.causal.do(x=treatment,\n",
    "                     variable_types={treatment: 'b', outcome: 'c', common_cause: 'c'},\n",
    "                     outcome=outcome,\n",
    "                     common_causes=[common_cause],\n",
    "                     proceed_when_unidentifiable=True).groupby(treatment).mean().plot(y=outcome, kind='bar')"
   ]
  },
  {
   "cell_type": "code",
   "execution_count": 4,
   "metadata": {
    "execution": {
     "iopub.execute_input": "2022-08-19T21:53:13.366652Z",
     "iopub.status.busy": "2022-08-19T21:53:13.366237Z",
     "iopub.status.idle": "2022-08-19T21:53:13.474589Z",
     "shell.execute_reply": "2022-08-19T21:53:13.474000Z"
    }
   },
   "outputs": [
    {
     "data": {
      "text/plain": [
       "<AxesSubplot:xlabel='v0'>"
      ]
     },
     "execution_count": 4,
     "metadata": {},
     "output_type": "execute_result"
    },
    {
     "data": {
      "image/png": "[encoded data removed]",
      "text/plain": [
       "<Figure size 640x480 with 1 Axes>"
      ]
     },
     "metadata": {},
     "output_type": "display_data"
    }
   ],
   "source": [
    "df.causal.do(x={treatment: 1}, \n",
    "              variable_types={treatment:'b', outcome: 'c', common_cause: 'c'}, \n",
    "              outcome=outcome,\n",
    "              method='weighting', \n",
    "              common_causes=[common_cause],\n",
    "              proceed_when_unidentifiable=True).groupby(treatment).mean().plot(y=outcome, kind='bar')"
   ]
  },
  {
   "cell_type": "code",
   "execution_count": 5,
   "metadata": {
    "execution": {
     "iopub.execute_input": "2022-08-19T21:53:13.478975Z",
     "iopub.status.busy": "2022-08-19T21:53:13.477898Z",
     "iopub.status.idle": "2022-08-19T21:53:13.512367Z",
     "shell.execute_reply": "2022-08-19T21:53:13.511674Z"
    }
   },
   "outputs": [],
   "source": [
    "cdf_1 = df.causal.do(x={treatment: 1}, \n",
    "              variable_types={treatment: 'b', outcome: 'c', common_cause: 'c'}, \n",
    "              outcome=outcome, \n",
    "              dot_graph=data['dot_graph'],\n",
    "              proceed_when_unidentifiable=True)\n",
    "\n",
    "cdf_0 = df.causal.do(x={treatment: 0}, \n",
    "              variable_types={treatment: 'b', outcome: 'c', common_cause: 'c'}, \n",
    "              outcome=outcome, \n",
    "              dot_graph=data['dot_graph'],\n",
    "              proceed_when_unidentifiable=True)\n"
   ]
  },
  {
   "cell_type": "code",
   "execution_count": 6,
   "metadata": {
    "execution": {
     "iopub.execute_input": "2022-08-19T21:53:13.516445Z",
     "iopub.status.busy": "2022-08-19T21:53:13.515993Z",
     "iopub.status.idle": "2022-08-19T21:53:13.528894Z",
     "shell.execute_reply": "2022-08-19T21:53:13.528253Z"
    },
    "scrolled": true
   },
   "outputs": [
    {
     "data": {
      "text/html": [
       "<div>\n",
       "<style scoped>\n",
       "    .dataframe tbody tr th:only-of-type {\n",
       "        vertical-align: middle;\n",
       "    }\n",
       "\n",
       "    .dataframe tbody tr th {\n",
       "        vertical-align: top;\n",
       "    }\n",
       "\n",
       "    .dataframe thead th {\n",
       "        text-align: right;\n",
       "    }\n",
       "</style>\n",
       "<table border=\"1\" class=\"dataframe\">\n",
       "  <thead>\n",
       "    <tr style=\"text-align: right;\">\n",
       "      <th></th>\n",
       "      <th>W0</th>\n",
       "      <th>v0</th>\n",
       "      <th>y</th>\n",
       "      <th>propensity_score</th>\n",
       "      <th>weight</th>\n",
       "    </tr>\n",
       "  </thead>\n",
       "  <tbody>\n",
       "    <tr>\n",
       "      <th>0</th>\n",
       "      <td>1.697916</td>\n",
       "      <td>False</td>\n",
       "      <td>1.468972</td>\n",
       "      <td>0.101582</td>\n",
       "      <td>9.844259</td>\n",
       "    </tr>\n",
       "    <tr>\n",
       "      <th>1</th>\n",
       "      <td>-0.341990</td>\n",
       "      <td>False</td>\n",
       "      <td>-0.059927</td>\n",
       "      <td>0.597120</td>\n",
       "      <td>1.674705</td>\n",
       "    </tr>\n",
       "    <tr>\n",
       "      <th>2</th>\n",
       "      <td>2.273554</td>\n",
       "      <td>False</td>\n",
       "      <td>2.619014</td>\n",
       "      <td>0.051862</td>\n",
       "      <td>19.281884</td>\n",
       "    </tr>\n",
       "    <tr>\n",
       "      <th>3</th>\n",
       "      <td>0.119804</td>\n",
       "      <td>False</td>\n",
       "      <td>-0.831116</td>\n",
       "      <td>0.452877</td>\n",
       "      <td>2.208104</td>\n",
       "    </tr>\n",
       "    <tr>\n",
       "      <th>4</th>\n",
       "      <td>1.643518</td>\n",
       "      <td>False</td>\n",
       "      <td>0.413432</td>\n",
       "      <td>0.108018</td>\n",
       "      <td>9.257723</td>\n",
       "    </tr>\n",
       "    <tr>\n",
       "      <th>...</th>\n",
       "      <td>...</td>\n",
       "      <td>...</td>\n",
       "      <td>...</td>\n",
       "      <td>...</td>\n",
       "      <td>...</td>\n",
       "    </tr>\n",
       "    <tr>\n",
       "      <th>995</th>\n",
       "      <td>1.594190</td>\n",
       "      <td>False</td>\n",
       "      <td>-0.076703</td>\n",
       "      <td>0.114161</td>\n",
       "      <td>8.759540</td>\n",
       "    </tr>\n",
       "    <tr>\n",
       "      <th>996</th>\n",
       "      <td>0.870639</td>\n",
       "      <td>False</td>\n",
       "      <td>1.636472</td>\n",
       "      <td>0.243019</td>\n",
       "      <td>4.114897</td>\n",
       "    </tr>\n",
       "    <tr>\n",
       "      <th>997</th>\n",
       "      <td>2.205635</td>\n",
       "      <td>False</td>\n",
       "      <td>-0.326551</td>\n",
       "      <td>0.056241</td>\n",
       "      <td>17.780780</td>\n",
       "    </tr>\n",
       "    <tr>\n",
       "      <th>998</th>\n",
       "      <td>0.296407</td>\n",
       "      <td>False</td>\n",
       "      <td>1.065887</td>\n",
       "      <td>0.398474</td>\n",
       "      <td>2.509576</td>\n",
       "    </tr>\n",
       "    <tr>\n",
       "      <th>999</th>\n",
       "      <td>-0.325706</td>\n",
       "      <td>False</td>\n",
       "      <td>1.133129</td>\n",
       "      <td>0.592169</td>\n",
       "      <td>1.688708</td>\n",
       "    </tr>\n",
       "  </tbody>\n",
       "</table>\n",
       "<p>1000 rows × 5 columns</p>\n",
       "</div>"
      ],
      "text/plain": [
       "           W0     v0         y  propensity_score     weight\n",
       "0    1.697916  False  1.468972          0.101582   9.844259\n",
       "1   -0.341990  False -0.059927          0.597120   1.674705\n",
       "2    2.273554  False  2.619014          0.051862  19.281884\n",
       "3    0.119804  False -0.831116          0.452877   2.208104\n",
       "4    1.643518  False  0.413432          0.108018   9.257723\n",
       "..        ...    ...       ...               ...        ...\n",
       "995  1.594190  False -0.076703          0.114161   8.759540\n",
       "996  0.870639  False  1.636472          0.243019   4.114897\n",
       "997  2.205635  False -0.326551          0.056241  17.780780\n",
       "998  0.296407  False  1.065887          0.398474   2.509576\n",
       "999 -0.325706  False  1.133129          0.592169   1.688708\n",
       "\n",
       "[1000 rows x 5 columns]"
      ]
     },
     "execution_count": 6,
     "metadata": {},
     "output_type": "execute_result"
    }
   ],
   "source": [
    "cdf_0"
   ]
  },
  {
   "cell_type": "code",
   "execution_count": 7,
   "metadata": {
    "execution": {
     "iopub.execute_input": "2022-08-19T21:53:13.532353Z",
     "iopub.status.busy": "2022-08-19T21:53:13.531786Z",
     "iopub.status.idle": "2022-08-19T21:53:13.542758Z",
     "shell.execute_reply": "2022-08-19T21:53:13.542080Z"
    }
   },
   "outputs": [
    {
     "data": {
      "text/html": [
       "<div>\n",
       "<style scoped>\n",
       "    .dataframe tbody tr th:only-of-type {\n",
       "        vertical-align: middle;\n",
       "    }\n",
       "\n",
       "    .dataframe tbody tr th {\n",
       "        vertical-align: top;\n",
       "    }\n",
       "\n",
       "    .dataframe thead th {\n",
       "        text-align: right;\n",
       "    }\n",
       "</style>\n",
       "<table border=\"1\" class=\"dataframe\">\n",
       "  <thead>\n",
       "    <tr style=\"text-align: right;\">\n",
       "      <th></th>\n",
       "      <th>W0</th>\n",
       "      <th>v0</th>\n",
       "      <th>y</th>\n",
       "      <th>propensity_score</th>\n",
       "      <th>weight</th>\n",
       "    </tr>\n",
       "  </thead>\n",
       "  <tbody>\n",
       "    <tr>\n",
       "      <th>0</th>\n",
       "      <td>1.609672</td>\n",
       "      <td>True</td>\n",
       "      <td>5.451182</td>\n",
       "      <td>0.887799</td>\n",
       "      <td>1.126381</td>\n",
       "    </tr>\n",
       "    <tr>\n",
       "      <th>1</th>\n",
       "      <td>0.540261</td>\n",
       "      <td>True</td>\n",
       "      <td>5.506882</td>\n",
       "      <td>0.672484</td>\n",
       "      <td>1.487025</td>\n",
       "    </tr>\n",
       "    <tr>\n",
       "      <th>2</th>\n",
       "      <td>-0.135107</td>\n",
       "      <td>True</td>\n",
       "      <td>5.727139</td>\n",
       "      <td>0.466922</td>\n",
       "      <td>2.141687</td>\n",
       "    </tr>\n",
       "    <tr>\n",
       "      <th>3</th>\n",
       "      <td>0.696171</td>\n",
       "      <td>True</td>\n",
       "      <td>4.460033</td>\n",
       "      <td>0.714249</td>\n",
       "      <td>1.400071</td>\n",
       "    </tr>\n",
       "    <tr>\n",
       "      <th>4</th>\n",
       "      <td>0.456202</td>\n",
       "      <td>True</td>\n",
       "      <td>4.756176</td>\n",
       "      <td>0.648717</td>\n",
       "      <td>1.541505</td>\n",
       "    </tr>\n",
       "    <tr>\n",
       "      <th>...</th>\n",
       "      <td>...</td>\n",
       "      <td>...</td>\n",
       "      <td>...</td>\n",
       "      <td>...</td>\n",
       "      <td>...</td>\n",
       "    </tr>\n",
       "    <tr>\n",
       "      <th>995</th>\n",
       "      <td>0.642677</td>\n",
       "      <td>True</td>\n",
       "      <td>4.559922</td>\n",
       "      <td>0.700280</td>\n",
       "      <td>1.427999</td>\n",
       "    </tr>\n",
       "    <tr>\n",
       "      <th>996</th>\n",
       "      <td>2.461847</td>\n",
       "      <td>True</td>\n",
       "      <td>3.886493</td>\n",
       "      <td>0.958649</td>\n",
       "      <td>1.043134</td>\n",
       "    </tr>\n",
       "    <tr>\n",
       "      <th>997</th>\n",
       "      <td>1.471927</td>\n",
       "      <td>True</td>\n",
       "      <td>6.394391</td>\n",
       "      <td>0.869290</td>\n",
       "      <td>1.150364</td>\n",
       "    </tr>\n",
       "    <tr>\n",
       "      <th>998</th>\n",
       "      <td>1.474978</td>\n",
       "      <td>True</td>\n",
       "      <td>4.236286</td>\n",
       "      <td>0.869727</td>\n",
       "      <td>1.149787</td>\n",
       "    </tr>\n",
       "    <tr>\n",
       "      <th>999</th>\n",
       "      <td>1.662334</td>\n",
       "      <td>True</td>\n",
       "      <td>3.820917</td>\n",
       "      <td>0.894248</td>\n",
       "      <td>1.118258</td>\n",
       "    </tr>\n",
       "  </tbody>\n",
       "</table>\n",
       "<p>1000 rows × 5 columns</p>\n",
       "</div>"
      ],
      "text/plain": [
       "           W0    v0         y  propensity_score    weight\n",
       "0    1.609672  True  5.451182          0.887799  1.126381\n",
       "1    0.540261  True  5.506882          0.672484  1.487025\n",
       "2   -0.135107  True  5.727139          0.466922  2.141687\n",
       "3    0.696171  True  4.460033          0.714249  1.400071\n",
       "4    0.456202  True  4.756176          0.648717  1.541505\n",
       "..        ...   ...       ...               ...       ...\n",
       "995  0.642677  True  4.559922          0.700280  1.427999\n",
       "996  2.461847  True  3.886493          0.958649  1.043134\n",
       "997  1.471927  True  6.394391          0.869290  1.150364\n",
       "998  1.474978  True  4.236286          0.869727  1.149787\n",
       "999  1.662334  True  3.820917          0.894248  1.118258\n",
       "\n",
       "[1000 rows x 5 columns]"
      ]
     },
     "execution_count": 7,
     "metadata": {},
     "output_type": "execute_result"
    }
   ],
   "source": [
    "cdf_1"
   ]
  },
  {
   "cell_type": "markdown",
   "metadata": {},
   "source": [
    "## Comparing the estimate to Linear Regression\n",
    "First, estimating the effect using the causal data frame, and the 95% confidence interval."
   ]
  },
  {
   "cell_type": "code",
   "execution_count": 8,
   "metadata": {
    "execution": {
     "iopub.execute_input": "2022-08-19T21:53:13.545915Z",
     "iopub.status.busy": "2022-08-19T21:53:13.545676Z",
     "iopub.status.idle": "2022-08-19T21:53:13.648560Z",
     "shell.execute_reply": "2022-08-19T21:53:13.647846Z"
    }
   },
   "outputs": [
    {
     "data": {
      "image/png": "[encoded data removed]",
      "text/latex": [
       "$\\displaystyle 5.02698890135955$"
      ],
      "text/plain": [
       "5.0269889013595455"
      ]
     },
     "execution_count": 8,
     "metadata": {},
     "output_type": "execute_result"
    }
   ],
   "source": [
    "(cdf_1['y'] - cdf_0['y']).mean()"
   ]
  },
  {
   "cell_type": "code",
   "execution_count": 9,
   "metadata": {
    "execution": {
     "iopub.execute_input": "2022-08-19T21:53:13.652436Z",
     "iopub.status.busy": "2022-08-19T21:53:13.651812Z",
     "iopub.status.idle": "2022-08-19T21:53:13.680663Z",
     "shell.execute_reply": "2022-08-19T21:53:13.679953Z"
    }
   },
   "outputs": [
    {
     "data": {
      "image/png": "[encoded data removed]",
      "text/latex": [
       "$\\displaystyle 0.0885075543050005$"
      ],
      "text/plain": [
       "0.08850755430500049"
      ]
     },
     "execution_count": 9,
     "metadata": {},
     "output_type": "execute_result"
    }
   ],
   "source": [
    "1.96*(cdf_1['y'] - cdf_0['y']).std() / np.sqrt(len(df))"
   ]
  },
  {
   "cell_type": "markdown",
   "metadata": {},
   "source": [
    "Comparing to the estimate from OLS."
   ]
  },
  {
   "cell_type": "code",
   "execution_count": 10,
   "metadata": {
    "execution": {
     "iopub.execute_input": "2022-08-19T21:53:13.684362Z",
     "iopub.status.busy": "2022-08-19T21:53:13.683877Z",
     "iopub.status.idle": "2022-08-19T21:53:13.702207Z",
     "shell.execute_reply": "2022-08-19T21:53:13.701544Z"
    }
   },
   "outputs": [
    {
     "data": {
      "text/html": [
       "<table class=\"simpletable\">\n",
       "<caption>OLS Regression Results</caption>\n",
       "<tr>\n",
       "  <th>Dep. Variable:</th>            <td>y</td>        <th>  R-squared (uncentered):</th>      <td>   0.957</td> \n",
       "</tr>\n",
       "<tr>\n",
       "  <th>Model:</th>                   <td>OLS</td>       <th>  Adj. R-squared (uncentered):</th> <td>   0.957</td> \n",
       "</tr>\n",
       "<tr>\n",
       "  <th>Method:</th>             <td>Least Squares</td>  <th>  F-statistic:       </th>          <td>1.120e+04</td>\n",
       "</tr>\n",
       "<tr>\n",
       "  <th>Date:</th>             <td>Fri, 19 Aug 2022</td> <th>  Prob (F-statistic):</th>           <td>  0.00</td>  \n",
       "</tr>\n",
       "<tr>\n",
       "  <th>Time:</th>                 <td>21:53:13</td>     <th>  Log-Likelihood:    </th>          <td> -1364.7</td> \n",
       "</tr>\n",
       "<tr>\n",
       "  <th>No. Observations:</th>      <td>  1000</td>      <th>  AIC:               </th>          <td>   2733.</td> \n",
       "</tr>\n",
       "<tr>\n",
       "  <th>Df Residuals:</th>          <td>   998</td>      <th>  BIC:               </th>          <td>   2743.</td> \n",
       "</tr>\n",
       "<tr>\n",
       "  <th>Df Model:</th>              <td>     2</td>      <th>                     </th>              <td> </td>    \n",
       "</tr>\n",
       "<tr>\n",
       "  <th>Covariance Type:</th>      <td>nonrobust</td>    <th>                     </th>              <td> </td>    \n",
       "</tr>\n",
       "</table>\n",
       "<table class=\"simpletable\">\n",
       "<tr>\n",
       "   <td></td>     <th>coef</th>     <th>std err</th>      <th>t</th>      <th>P>|t|</th>  <th>[0.025</th>    <th>0.975]</th>  \n",
       "</tr>\n",
       "<tr>\n",
       "  <th>x1</th> <td>    0.2188</td> <td>    0.033</td> <td>    6.603</td> <td> 0.000</td> <td>    0.154</td> <td>    0.284</td>\n",
       "</tr>\n",
       "<tr>\n",
       "  <th>x2</th> <td>    4.9770</td> <td>    0.054</td> <td>   91.449</td> <td> 0.000</td> <td>    4.870</td> <td>    5.084</td>\n",
       "</tr>\n",
       "</table>\n",
       "<table class=\"simpletable\">\n",
       "<tr>\n",
       "  <th>Omnibus:</th>       <td> 4.370</td> <th>  Durbin-Watson:     </th> <td>   1.989</td>\n",
       "</tr>\n",
       "<tr>\n",
       "  <th>Prob(Omnibus):</th> <td> 0.112</td> <th>  Jarque-Bera (JB):  </th> <td>   3.519</td>\n",
       "</tr>\n",
       "<tr>\n",
       "  <th>Skew:</th>          <td> 0.025</td> <th>  Prob(JB):          </th> <td>   0.172</td>\n",
       "</tr>\n",
       "<tr>\n",
       "  <th>Kurtosis:</th>      <td> 2.714</td> <th>  Cond. No.          </th> <td>    3.17</td>\n",
       "</tr>\n",
       "</table><br/><br/>Notes:<br/>[1] R² is computed without centering (uncentered) since the model does not contain a constant.<br/>[2] Standard Errors assume that the covariance matrix of the errors is correctly specified."
      ],
      "text/plain": [
       "<class 'statsmodels.iolib.summary.Summary'>\n",
       "\"\"\"\n",
       "                                 OLS Regression Results                                \n",
       "=======================================================================================\n",
       "Dep. Variable:                      y   R-squared (uncentered):                   0.957\n",
       "Model:                            OLS   Adj. R-squared (uncentered):              0.957\n",
       "Method:                 Least Squares   F-statistic:                          1.120e+04\n",
       "Date:                Fri, 19 Aug 2022   Prob (F-statistic):                        0.00\n",
       "Time:                        21:53:13   Log-Likelihood:                         -1364.7\n",
       "No. Observations:                1000   AIC:                                      2733.\n",
       "Df Residuals:                     998   BIC:                                      2743.\n",
       "Df Model:                           2                                                  \n",
       "Covariance Type:            nonrobust                                                  \n",
       "==============================================================================\n",
       "                 coef    std err          t      P>|t|      [0.025      0.975]\n",
       "------------------------------------------------------------------------------\n",
       "x1             0.2188      0.033      6.603      0.000       0.154       0.284\n",
       "x2             4.9770      0.054     91.449      0.000       4.870       5.084\n",
       "==============================================================================\n",
       "Omnibus:                        4.370   Durbin-Watson:                   1.989\n",
       "Prob(Omnibus):                  0.112   Jarque-Bera (JB):                3.519\n",
       "Skew:                           0.025   Prob(JB):                        0.172\n",
       "Kurtosis:                       2.714   Cond. No.                         3.17\n",
       "==============================================================================\n",
       "\n",
       "Notes:\n",
       "[1] R² is computed without centering (uncentered) since the model does not contain a constant.\n",
       "[2] Standard Errors assume that the covariance matrix of the errors is correctly specified.\n",
       "\"\"\""
      ]
     },
     "execution_count": 10,
     "metadata": {},
     "output_type": "execute_result"
    }
   ],
   "source": [
    "model = OLS(np.asarray(df[outcome]), np.asarray(df[[common_cause, treatment]], dtype=np.float64))\n",
    "result = model.fit()\n",
    "result.summary()"
   ]
  }
 ],
 "metadata": {
  "kernelspec": {
   "display_name": "Python 3",
   "language": "python",
   "name": "python3"
  },
  "language_info": {
   "codemirror_mode": {
    "name": "ipython",
    "version": 3
   },
   "file_extension": ".py",
   "mimetype": "text/x-python",
   "name": "python",
   "nbconvert_exporter": "python",
   "pygments_lexer": "ipython3",
   "version": "3.8.10"
  },
  "toc": {
   "base_numbering": 1,
   "nav_menu": {},
   "number_sections": false,
   "sideBar": true,
   "skip_h1_title": true,
   "title_cell": "Table of Contents",
   "title_sidebar": "Contents",
   "toc_cell": false,
   "toc_position": {},
   "toc_section_display": true,
   "toc_window_display": false
  }
 },
 "nbformat": 4,
 "nbformat_minor": 4
}
