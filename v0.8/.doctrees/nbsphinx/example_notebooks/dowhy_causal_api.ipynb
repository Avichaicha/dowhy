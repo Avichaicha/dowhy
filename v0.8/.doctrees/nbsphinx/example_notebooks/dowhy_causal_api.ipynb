{
 "cells": [
  {
   "cell_type": "markdown",
   "metadata": {},
   "source": [
    "# Demo for the DoWhy causal API\n",
    "We show a simple example of adding a causal extension to any dataframe. "
   ]
  },
  {
   "cell_type": "code",
   "execution_count": 1,
   "metadata": {
    "execution": {
     "iopub.execute_input": "2022-08-08T05:09:31.143812Z",
     "iopub.status.busy": "2022-08-08T05:09:31.143487Z",
     "iopub.status.idle": "2022-08-08T05:09:32.633188Z",
     "shell.execute_reply": "2022-08-08T05:09:32.631786Z"
    }
   },
   "outputs": [
    {
     "name": "stdout",
     "output_type": "stream",
     "text": [
      "keywords are unexpanded, not using\n"
     ]
    }
   ],
   "source": [
    "import dowhy.datasets\n",
    "import dowhy.api\n",
    "\n",
    "import numpy as np\n",
    "import pandas as pd\n",
    "\n",
    "from statsmodels.api import OLS"
   ]
  },
  {
   "cell_type": "code",
   "execution_count": 2,
   "metadata": {
    "execution": {
     "iopub.execute_input": "2022-08-08T05:09:32.638190Z",
     "iopub.status.busy": "2022-08-08T05:09:32.637440Z",
     "iopub.status.idle": "2022-08-08T05:09:32.697866Z",
     "shell.execute_reply": "2022-08-08T05:09:32.697059Z"
    }
   },
   "outputs": [
    {
     "data": {
      "text/html": [
       "<div>\n",
       "<style scoped>\n",
       "    .dataframe tbody tr th:only-of-type {\n",
       "        vertical-align: middle;\n",
       "    }\n",
       "\n",
       "    .dataframe tbody tr th {\n",
       "        vertical-align: top;\n",
       "    }\n",
       "\n",
       "    .dataframe thead th {\n",
       "        text-align: right;\n",
       "    }\n",
       "</style>\n",
       "<table border=\"1\" class=\"dataframe\">\n",
       "  <thead>\n",
       "    <tr style=\"text-align: right;\">\n",
       "      <th></th>\n",
       "      <th>W0</th>\n",
       "      <th>v0</th>\n",
       "      <th>y</th>\n",
       "    </tr>\n",
       "  </thead>\n",
       "  <tbody>\n",
       "    <tr>\n",
       "      <th>0</th>\n",
       "      <td>-0.963858</td>\n",
       "      <td>False</td>\n",
       "      <td>-3.074556</td>\n",
       "    </tr>\n",
       "    <tr>\n",
       "      <th>1</th>\n",
       "      <td>-0.655678</td>\n",
       "      <td>False</td>\n",
       "      <td>-1.833500</td>\n",
       "    </tr>\n",
       "    <tr>\n",
       "      <th>2</th>\n",
       "      <td>1.040697</td>\n",
       "      <td>False</td>\n",
       "      <td>2.101251</td>\n",
       "    </tr>\n",
       "    <tr>\n",
       "      <th>3</th>\n",
       "      <td>-4.055931</td>\n",
       "      <td>False</td>\n",
       "      <td>-10.338288</td>\n",
       "    </tr>\n",
       "    <tr>\n",
       "      <th>4</th>\n",
       "      <td>-1.228112</td>\n",
       "      <td>False</td>\n",
       "      <td>-2.094105</td>\n",
       "    </tr>\n",
       "    <tr>\n",
       "      <th>...</th>\n",
       "      <td>...</td>\n",
       "      <td>...</td>\n",
       "      <td>...</td>\n",
       "    </tr>\n",
       "    <tr>\n",
       "      <th>995</th>\n",
       "      <td>-0.332668</td>\n",
       "      <td>True</td>\n",
       "      <td>4.455656</td>\n",
       "    </tr>\n",
       "    <tr>\n",
       "      <th>996</th>\n",
       "      <td>-2.141019</td>\n",
       "      <td>False</td>\n",
       "      <td>-5.439277</td>\n",
       "    </tr>\n",
       "    <tr>\n",
       "      <th>997</th>\n",
       "      <td>-0.319915</td>\n",
       "      <td>False</td>\n",
       "      <td>-1.385808</td>\n",
       "    </tr>\n",
       "    <tr>\n",
       "      <th>998</th>\n",
       "      <td>-0.036504</td>\n",
       "      <td>False</td>\n",
       "      <td>0.351955</td>\n",
       "    </tr>\n",
       "    <tr>\n",
       "      <th>999</th>\n",
       "      <td>0.605043</td>\n",
       "      <td>False</td>\n",
       "      <td>2.840642</td>\n",
       "    </tr>\n",
       "  </tbody>\n",
       "</table>\n",
       "<p>1000 rows × 3 columns</p>\n",
       "</div>"
      ],
      "text/plain": [
       "           W0     v0          y\n",
       "0   -0.963858  False  -3.074556\n",
       "1   -0.655678  False  -1.833500\n",
       "2    1.040697  False   2.101251\n",
       "3   -4.055931  False -10.338288\n",
       "4   -1.228112  False  -2.094105\n",
       "..        ...    ...        ...\n",
       "995 -0.332668   True   4.455656\n",
       "996 -2.141019  False  -5.439277\n",
       "997 -0.319915  False  -1.385808\n",
       "998 -0.036504  False   0.351955\n",
       "999  0.605043  False   2.840642\n",
       "\n",
       "[1000 rows x 3 columns]"
      ]
     },
     "execution_count": 2,
     "metadata": {},
     "output_type": "execute_result"
    }
   ],
   "source": [
    "data = dowhy.datasets.linear_dataset(beta=5,\n",
    "        num_common_causes=1,\n",
    "        num_instruments = 0,\n",
    "        num_samples=1000,\n",
    "        treatment_is_binary=True)\n",
    "df = data['df']\n",
    "df['y'] = df['y'] + np.random.normal(size=len(df)) # Adding noise to data. Without noise, the variance in Y|X, Z is zero, and mcmc fails.\n",
    "#data['dot_graph'] = 'digraph { v ->y;X0-> v;X0-> y;}'\n",
    "\n",
    "treatment= data[\"treatment_name\"][0]\n",
    "outcome = data[\"outcome_name\"][0]\n",
    "common_cause = data[\"common_causes_names\"][0]\n",
    "df"
   ]
  },
  {
   "cell_type": "code",
   "execution_count": 3,
   "metadata": {
    "execution": {
     "iopub.execute_input": "2022-08-08T05:09:32.701704Z",
     "iopub.status.busy": "2022-08-08T05:09:32.701394Z",
     "iopub.status.idle": "2022-08-08T05:09:33.644572Z",
     "shell.execute_reply": "2022-08-08T05:09:33.643863Z"
    }
   },
   "outputs": [
    {
     "data": {
      "text/plain": [
       "<AxesSubplot:xlabel='v0'>"
      ]
     },
     "execution_count": 3,
     "metadata": {},
     "output_type": "execute_result"
    },
    {
     "data": {
      "image/png": "[encoded data removed]",
      "text/plain": [
       "<Figure size 432x288 with 1 Axes>"
      ]
     },
     "metadata": {
      "needs_background": "light"
     },
     "output_type": "display_data"
    }
   ],
   "source": [
    "# data['df'] is just a regular pandas.DataFrame\n",
    "df.causal.do(x=treatment,\n",
    "                     variable_types={treatment: 'b', outcome: 'c', common_cause: 'c'},\n",
    "                     outcome=outcome,\n",
    "                     common_causes=[common_cause],\n",
    "                     proceed_when_unidentifiable=True).groupby(treatment).mean().plot(y=outcome, kind='bar')"
   ]
  },
  {
   "cell_type": "code",
   "execution_count": 4,
   "metadata": {
    "execution": {
     "iopub.execute_input": "2022-08-08T05:09:33.650242Z",
     "iopub.status.busy": "2022-08-08T05:09:33.648767Z",
     "iopub.status.idle": "2022-08-08T05:09:33.766647Z",
     "shell.execute_reply": "2022-08-08T05:09:33.765962Z"
    }
   },
   "outputs": [
    {
     "data": {
      "text/plain": [
       "<AxesSubplot:xlabel='v0'>"
      ]
     },
     "execution_count": 4,
     "metadata": {},
     "output_type": "execute_result"
    },
    {
     "data": {
      "image/png": "[encoded data removed]",
      "text/plain": [
       "<Figure size 432x288 with 1 Axes>"
      ]
     },
     "metadata": {
      "needs_background": "light"
     },
     "output_type": "display_data"
    }
   ],
   "source": [
    "df.causal.do(x={treatment: 1}, \n",
    "              variable_types={treatment:'b', outcome: 'c', common_cause: 'c'}, \n",
    "              outcome=outcome,\n",
    "              method='weighting', \n",
    "              common_causes=[common_cause],\n",
    "              proceed_when_unidentifiable=True).groupby(treatment).mean().plot(y=outcome, kind='bar')"
   ]
  },
  {
   "cell_type": "code",
   "execution_count": 5,
   "metadata": {
    "execution": {
     "iopub.execute_input": "2022-08-08T05:09:33.772048Z",
     "iopub.status.busy": "2022-08-08T05:09:33.770752Z",
     "iopub.status.idle": "2022-08-08T05:09:33.810290Z",
     "shell.execute_reply": "2022-08-08T05:09:33.809599Z"
    }
   },
   "outputs": [],
   "source": [
    "cdf_1 = df.causal.do(x={treatment: 1}, \n",
    "              variable_types={treatment: 'b', outcome: 'c', common_cause: 'c'}, \n",
    "              outcome=outcome, \n",
    "              dot_graph=data['dot_graph'],\n",
    "              proceed_when_unidentifiable=True)\n",
    "\n",
    "cdf_0 = df.causal.do(x={treatment: 0}, \n",
    "              variable_types={treatment: 'b', outcome: 'c', common_cause: 'c'}, \n",
    "              outcome=outcome, \n",
    "              dot_graph=data['dot_graph'],\n",
    "              proceed_when_unidentifiable=True)\n"
   ]
  },
  {
   "cell_type": "code",
   "execution_count": 6,
   "metadata": {
    "execution": {
     "iopub.execute_input": "2022-08-08T05:09:33.815819Z",
     "iopub.status.busy": "2022-08-08T05:09:33.814510Z",
     "iopub.status.idle": "2022-08-08T05:09:33.829803Z",
     "shell.execute_reply": "2022-08-08T05:09:33.828983Z"
    },
    "scrolled": true
   },
   "outputs": [
    {
     "data": {
      "text/html": [
       "<div>\n",
       "<style scoped>\n",
       "    .dataframe tbody tr th:only-of-type {\n",
       "        vertical-align: middle;\n",
       "    }\n",
       "\n",
       "    .dataframe tbody tr th {\n",
       "        vertical-align: top;\n",
       "    }\n",
       "\n",
       "    .dataframe thead th {\n",
       "        text-align: right;\n",
       "    }\n",
       "</style>\n",
       "<table border=\"1\" class=\"dataframe\">\n",
       "  <thead>\n",
       "    <tr style=\"text-align: right;\">\n",
       "      <th></th>\n",
       "      <th>W0</th>\n",
       "      <th>v0</th>\n",
       "      <th>y</th>\n",
       "      <th>propensity_score</th>\n",
       "      <th>weight</th>\n",
       "    </tr>\n",
       "  </thead>\n",
       "  <tbody>\n",
       "    <tr>\n",
       "      <th>0</th>\n",
       "      <td>-1.425604</td>\n",
       "      <td>False</td>\n",
       "      <td>-4.256299</td>\n",
       "      <td>0.857225</td>\n",
       "      <td>1.166554</td>\n",
       "    </tr>\n",
       "    <tr>\n",
       "      <th>1</th>\n",
       "      <td>-1.561302</td>\n",
       "      <td>False</td>\n",
       "      <td>-3.065562</td>\n",
       "      <td>0.876265</td>\n",
       "      <td>1.141208</td>\n",
       "    </tr>\n",
       "    <tr>\n",
       "      <th>2</th>\n",
       "      <td>0.950987</td>\n",
       "      <td>False</td>\n",
       "      <td>2.095443</td>\n",
       "      <td>0.249943</td>\n",
       "      <td>4.000912</td>\n",
       "    </tr>\n",
       "    <tr>\n",
       "      <th>3</th>\n",
       "      <td>-0.145665</td>\n",
       "      <td>False</td>\n",
       "      <td>-0.298377</td>\n",
       "      <td>0.558547</td>\n",
       "      <td>1.790361</td>\n",
       "    </tr>\n",
       "    <tr>\n",
       "      <th>4</th>\n",
       "      <td>-1.051685</td>\n",
       "      <td>False</td>\n",
       "      <td>-2.957263</td>\n",
       "      <td>0.792083</td>\n",
       "      <td>1.262494</td>\n",
       "    </tr>\n",
       "    <tr>\n",
       "      <th>...</th>\n",
       "      <td>...</td>\n",
       "      <td>...</td>\n",
       "      <td>...</td>\n",
       "      <td>...</td>\n",
       "      <td>...</td>\n",
       "    </tr>\n",
       "    <tr>\n",
       "      <th>995</th>\n",
       "      <td>-0.061373</td>\n",
       "      <td>False</td>\n",
       "      <td>1.108853</td>\n",
       "      <td>0.533131</td>\n",
       "      <td>1.875713</td>\n",
       "    </tr>\n",
       "    <tr>\n",
       "      <th>996</th>\n",
       "      <td>-3.171785</td>\n",
       "      <td>False</td>\n",
       "      <td>-10.776395</td>\n",
       "      <td>0.980484</td>\n",
       "      <td>1.019904</td>\n",
       "    </tr>\n",
       "    <tr>\n",
       "      <th>997</th>\n",
       "      <td>-0.201144</td>\n",
       "      <td>False</td>\n",
       "      <td>-0.971216</td>\n",
       "      <td>0.575117</td>\n",
       "      <td>1.738776</td>\n",
       "    </tr>\n",
       "    <tr>\n",
       "      <th>998</th>\n",
       "      <td>-1.630449</td>\n",
       "      <td>False</td>\n",
       "      <td>-4.063032</td>\n",
       "      <td>0.885101</td>\n",
       "      <td>1.129815</td>\n",
       "    </tr>\n",
       "    <tr>\n",
       "      <th>999</th>\n",
       "      <td>-0.529998</td>\n",
       "      <td>False</td>\n",
       "      <td>-1.853960</td>\n",
       "      <td>0.668818</td>\n",
       "      <td>1.495175</td>\n",
       "    </tr>\n",
       "  </tbody>\n",
       "</table>\n",
       "<p>1000 rows × 5 columns</p>\n",
       "</div>"
      ],
      "text/plain": [
       "           W0     v0          y  propensity_score    weight\n",
       "0   -1.425604  False  -4.256299          0.857225  1.166554\n",
       "1   -1.561302  False  -3.065562          0.876265  1.141208\n",
       "2    0.950987  False   2.095443          0.249943  4.000912\n",
       "3   -0.145665  False  -0.298377          0.558547  1.790361\n",
       "4   -1.051685  False  -2.957263          0.792083  1.262494\n",
       "..        ...    ...        ...               ...       ...\n",
       "995 -0.061373  False   1.108853          0.533131  1.875713\n",
       "996 -3.171785  False -10.776395          0.980484  1.019904\n",
       "997 -0.201144  False  -0.971216          0.575117  1.738776\n",
       "998 -1.630449  False  -4.063032          0.885101  1.129815\n",
       "999 -0.529998  False  -1.853960          0.668818  1.495175\n",
       "\n",
       "[1000 rows x 5 columns]"
      ]
     },
     "execution_count": 6,
     "metadata": {},
     "output_type": "execute_result"
    }
   ],
   "source": [
    "cdf_0"
   ]
  },
  {
   "cell_type": "code",
   "execution_count": 7,
   "metadata": {
    "execution": {
     "iopub.execute_input": "2022-08-08T05:09:33.833439Z",
     "iopub.status.busy": "2022-08-08T05:09:33.832916Z",
     "iopub.status.idle": "2022-08-08T05:09:33.847570Z",
     "shell.execute_reply": "2022-08-08T05:09:33.846879Z"
    }
   },
   "outputs": [
    {
     "data": {
      "text/html": [
       "<div>\n",
       "<style scoped>\n",
       "    .dataframe tbody tr th:only-of-type {\n",
       "        vertical-align: middle;\n",
       "    }\n",
       "\n",
       "    .dataframe tbody tr th {\n",
       "        vertical-align: top;\n",
       "    }\n",
       "\n",
       "    .dataframe thead th {\n",
       "        text-align: right;\n",
       "    }\n",
       "</style>\n",
       "<table border=\"1\" class=\"dataframe\">\n",
       "  <thead>\n",
       "    <tr style=\"text-align: right;\">\n",
       "      <th></th>\n",
       "      <th>W0</th>\n",
       "      <th>v0</th>\n",
       "      <th>y</th>\n",
       "      <th>propensity_score</th>\n",
       "      <th>weight</th>\n",
       "    </tr>\n",
       "  </thead>\n",
       "  <tbody>\n",
       "    <tr>\n",
       "      <th>0</th>\n",
       "      <td>-0.948477</td>\n",
       "      <td>True</td>\n",
       "      <td>1.959687</td>\n",
       "      <td>0.229354</td>\n",
       "      <td>4.360073</td>\n",
       "    </tr>\n",
       "    <tr>\n",
       "      <th>1</th>\n",
       "      <td>-1.449386</td>\n",
       "      <td>True</td>\n",
       "      <td>1.458671</td>\n",
       "      <td>0.139270</td>\n",
       "      <td>7.180304</td>\n",
       "    </tr>\n",
       "    <tr>\n",
       "      <th>2</th>\n",
       "      <td>-1.145923</td>\n",
       "      <td>True</td>\n",
       "      <td>1.790601</td>\n",
       "      <td>0.189667</td>\n",
       "      <td>5.272395</td>\n",
       "    </tr>\n",
       "    <tr>\n",
       "      <th>3</th>\n",
       "      <td>-1.119400</td>\n",
       "      <td>True</td>\n",
       "      <td>1.997633</td>\n",
       "      <td>0.194676</td>\n",
       "      <td>5.136740</td>\n",
       "    </tr>\n",
       "    <tr>\n",
       "      <th>4</th>\n",
       "      <td>-1.081335</td>\n",
       "      <td>True</td>\n",
       "      <td>3.055659</td>\n",
       "      <td>0.202039</td>\n",
       "      <td>4.949533</td>\n",
       "    </tr>\n",
       "    <tr>\n",
       "      <th>...</th>\n",
       "      <td>...</td>\n",
       "      <td>...</td>\n",
       "      <td>...</td>\n",
       "      <td>...</td>\n",
       "      <td>...</td>\n",
       "    </tr>\n",
       "    <tr>\n",
       "      <th>995</th>\n",
       "      <td>-1.853064</td>\n",
       "      <td>True</td>\n",
       "      <td>-0.320868</td>\n",
       "      <td>0.090095</td>\n",
       "      <td>11.099434</td>\n",
       "    </tr>\n",
       "    <tr>\n",
       "      <th>996</th>\n",
       "      <td>-1.663637</td>\n",
       "      <td>True</td>\n",
       "      <td>0.209020</td>\n",
       "      <td>0.110856</td>\n",
       "      <td>9.020681</td>\n",
       "    </tr>\n",
       "    <tr>\n",
       "      <th>997</th>\n",
       "      <td>-1.399626</td>\n",
       "      <td>True</td>\n",
       "      <td>0.073670</td>\n",
       "      <td>0.146686</td>\n",
       "      <td>6.817262</td>\n",
       "    </tr>\n",
       "    <tr>\n",
       "      <th>998</th>\n",
       "      <td>-0.810837</td>\n",
       "      <td>True</td>\n",
       "      <td>1.188035</td>\n",
       "      <td>0.260280</td>\n",
       "      <td>3.842009</td>\n",
       "    </tr>\n",
       "    <tr>\n",
       "      <th>999</th>\n",
       "      <td>-1.119400</td>\n",
       "      <td>True</td>\n",
       "      <td>1.997633</td>\n",
       "      <td>0.194676</td>\n",
       "      <td>5.136740</td>\n",
       "    </tr>\n",
       "  </tbody>\n",
       "</table>\n",
       "<p>1000 rows × 5 columns</p>\n",
       "</div>"
      ],
      "text/plain": [
       "           W0    v0         y  propensity_score     weight\n",
       "0   -0.948477  True  1.959687          0.229354   4.360073\n",
       "1   -1.449386  True  1.458671          0.139270   7.180304\n",
       "2   -1.145923  True  1.790601          0.189667   5.272395\n",
       "3   -1.119400  True  1.997633          0.194676   5.136740\n",
       "4   -1.081335  True  3.055659          0.202039   4.949533\n",
       "..        ...   ...       ...               ...        ...\n",
       "995 -1.853064  True -0.320868          0.090095  11.099434\n",
       "996 -1.663637  True  0.209020          0.110856   9.020681\n",
       "997 -1.399626  True  0.073670          0.146686   6.817262\n",
       "998 -0.810837  True  1.188035          0.260280   3.842009\n",
       "999 -1.119400  True  1.997633          0.194676   5.136740\n",
       "\n",
       "[1000 rows x 5 columns]"
      ]
     },
     "execution_count": 7,
     "metadata": {},
     "output_type": "execute_result"
    }
   ],
   "source": [
    "cdf_1"
   ]
  },
  {
   "cell_type": "markdown",
   "metadata": {},
   "source": [
    "## Comparing the estimate to Linear Regression\n",
    "First, estimating the effect using the causal data frame, and the 95% confidence interval."
   ]
  },
  {
   "cell_type": "code",
   "execution_count": 8,
   "metadata": {
    "execution": {
     "iopub.execute_input": "2022-08-08T05:09:33.851180Z",
     "iopub.status.busy": "2022-08-08T05:09:33.850742Z",
     "iopub.status.idle": "2022-08-08T05:09:33.976877Z",
     "shell.execute_reply": "2022-08-08T05:09:33.975782Z"
    }
   },
   "outputs": [
    {
     "data": {
      "image/png": "[encoded data removed]",
      "text/latex": [
       "$\\displaystyle 5.30443868071637$"
      ],
      "text/plain": [
       "5.304438680716372"
      ]
     },
     "execution_count": 8,
     "metadata": {},
     "output_type": "execute_result"
    }
   ],
   "source": [
    "(cdf_1['y'] - cdf_0['y']).mean()"
   ]
  },
  {
   "cell_type": "code",
   "execution_count": 9,
   "metadata": {
    "execution": {
     "iopub.execute_input": "2022-08-08T05:09:33.981065Z",
     "iopub.status.busy": "2022-08-08T05:09:33.980393Z",
     "iopub.status.idle": "2022-08-08T05:09:34.014107Z",
     "shell.execute_reply": "2022-08-08T05:09:34.013256Z"
    }
   },
   "outputs": [
    {
     "data": {
      "image/png": "[encoded data removed]",
      "text/latex": [
       "$\\displaystyle 0.250668208378122$"
      ],
      "text/plain": [
       "0.2506682083781224"
      ]
     },
     "execution_count": 9,
     "metadata": {},
     "output_type": "execute_result"
    }
   ],
   "source": [
    "1.96*(cdf_1['y'] - cdf_0['y']).std() / np.sqrt(len(df))"
   ]
  },
  {
   "cell_type": "markdown",
   "metadata": {},
   "source": [
    "Comparing to the estimate from OLS."
   ]
  },
  {
   "cell_type": "code",
   "execution_count": 10,
   "metadata": {
    "execution": {
     "iopub.execute_input": "2022-08-08T05:09:34.017907Z",
     "iopub.status.busy": "2022-08-08T05:09:34.017605Z",
     "iopub.status.idle": "2022-08-08T05:09:34.039956Z",
     "shell.execute_reply": "2022-08-08T05:09:34.039242Z"
    }
   },
   "outputs": [
    {
     "data": {
      "text/html": [
       "<table class=\"simpletable\">\n",
       "<caption>OLS Regression Results</caption>\n",
       "<tr>\n",
       "  <th>Dep. Variable:</th>            <td>y</td>        <th>  R-squared (uncentered):</th>      <td>   0.952</td>\n",
       "</tr>\n",
       "<tr>\n",
       "  <th>Model:</th>                   <td>OLS</td>       <th>  Adj. R-squared (uncentered):</th> <td>   0.952</td>\n",
       "</tr>\n",
       "<tr>\n",
       "  <th>Method:</th>             <td>Least Squares</td>  <th>  F-statistic:       </th>          <td>   9909.</td>\n",
       "</tr>\n",
       "<tr>\n",
       "  <th>Date:</th>             <td>Mon, 08 Aug 2022</td> <th>  Prob (F-statistic):</th>           <td>  0.00</td> \n",
       "</tr>\n",
       "<tr>\n",
       "  <th>Time:</th>                 <td>05:09:34</td>     <th>  Log-Likelihood:    </th>          <td> -1415.7</td>\n",
       "</tr>\n",
       "<tr>\n",
       "  <th>No. Observations:</th>      <td>  1000</td>      <th>  AIC:               </th>          <td>   2835.</td>\n",
       "</tr>\n",
       "<tr>\n",
       "  <th>Df Residuals:</th>          <td>   998</td>      <th>  BIC:               </th>          <td>   2845.</td>\n",
       "</tr>\n",
       "<tr>\n",
       "  <th>Df Model:</th>              <td>     2</td>      <th>                     </th>              <td> </td>   \n",
       "</tr>\n",
       "<tr>\n",
       "  <th>Covariance Type:</th>      <td>nonrobust</td>    <th>                     </th>              <td> </td>   \n",
       "</tr>\n",
       "</table>\n",
       "<table class=\"simpletable\">\n",
       "<tr>\n",
       "   <td></td>     <th>coef</th>     <th>std err</th>      <th>t</th>      <th>P>|t|</th>  <th>[0.025</th>    <th>0.975]</th>  \n",
       "</tr>\n",
       "<tr>\n",
       "  <th>x1</th> <td>    2.7465</td> <td>    0.023</td> <td>  119.477</td> <td> 0.000</td> <td>    2.701</td> <td>    2.792</td>\n",
       "</tr>\n",
       "<tr>\n",
       "  <th>x2</th> <td>    4.9704</td> <td>    0.059</td> <td>   84.100</td> <td> 0.000</td> <td>    4.854</td> <td>    5.086</td>\n",
       "</tr>\n",
       "</table>\n",
       "<table class=\"simpletable\">\n",
       "<tr>\n",
       "  <th>Omnibus:</th>       <td> 0.211</td> <th>  Durbin-Watson:     </th> <td>   1.999</td>\n",
       "</tr>\n",
       "<tr>\n",
       "  <th>Prob(Omnibus):</th> <td> 0.900</td> <th>  Jarque-Bera (JB):  </th> <td>   0.290</td>\n",
       "</tr>\n",
       "<tr>\n",
       "  <th>Skew:</th>          <td>-0.018</td> <th>  Prob(JB):          </th> <td>   0.865</td>\n",
       "</tr>\n",
       "<tr>\n",
       "  <th>Kurtosis:</th>      <td> 2.924</td> <th>  Cond. No.          </th> <td>    2.58</td>\n",
       "</tr>\n",
       "</table><br/><br/>Notes:<br/>[1] R² is computed without centering (uncentered) since the model does not contain a constant.<br/>[2] Standard Errors assume that the covariance matrix of the errors is correctly specified."
      ],
      "text/plain": [
       "<class 'statsmodels.iolib.summary.Summary'>\n",
       "\"\"\"\n",
       "                                 OLS Regression Results                                \n",
       "=======================================================================================\n",
       "Dep. Variable:                      y   R-squared (uncentered):                   0.952\n",
       "Model:                            OLS   Adj. R-squared (uncentered):              0.952\n",
       "Method:                 Least Squares   F-statistic:                              9909.\n",
       "Date:                Mon, 08 Aug 2022   Prob (F-statistic):                        0.00\n",
       "Time:                        05:09:34   Log-Likelihood:                         -1415.7\n",
       "No. Observations:                1000   AIC:                                      2835.\n",
       "Df Residuals:                     998   BIC:                                      2845.\n",
       "Df Model:                           2                                                  \n",
       "Covariance Type:            nonrobust                                                  \n",
       "==============================================================================\n",
       "                 coef    std err          t      P>|t|      [0.025      0.975]\n",
       "------------------------------------------------------------------------------\n",
       "x1             2.7465      0.023    119.477      0.000       2.701       2.792\n",
       "x2             4.9704      0.059     84.100      0.000       4.854       5.086\n",
       "==============================================================================\n",
       "Omnibus:                        0.211   Durbin-Watson:                   1.999\n",
       "Prob(Omnibus):                  0.900   Jarque-Bera (JB):                0.290\n",
       "Skew:                          -0.018   Prob(JB):                        0.865\n",
       "Kurtosis:                       2.924   Cond. No.                         2.58\n",
       "==============================================================================\n",
       "\n",
       "Notes:\n",
       "[1] R² is computed without centering (uncentered) since the model does not contain a constant.\n",
       "[2] Standard Errors assume that the covariance matrix of the errors is correctly specified.\n",
       "\"\"\""
      ]
     },
     "execution_count": 10,
     "metadata": {},
     "output_type": "execute_result"
    }
   ],
   "source": [
    "model = OLS(np.asarray(df[outcome]), np.asarray(df[[common_cause, treatment]], dtype=np.float64))\n",
    "result = model.fit()\n",
    "result.summary()"
   ]
  }
 ],
 "metadata": {
  "kernelspec": {
   "display_name": "Python 3",
   "language": "python",
   "name": "python3"
  },
  "language_info": {
   "codemirror_mode": {
    "name": "ipython",
    "version": 3
   },
   "file_extension": ".py",
   "mimetype": "text/x-python",
   "name": "python",
   "nbconvert_exporter": "python",
   "pygments_lexer": "ipython3",
   "version": "3.8.10"
  },
  "toc": {
   "base_numbering": 1,
   "nav_menu": {},
   "number_sections": false,
   "sideBar": true,
   "skip_h1_title": true,
   "title_cell": "Table of Contents",
   "title_sidebar": "Contents",
   "toc_cell": false,
   "toc_position": {},
   "toc_section_display": true,
   "toc_window_display": false
  }
 },
 "nbformat": 4,
 "nbformat_minor": 4
}
