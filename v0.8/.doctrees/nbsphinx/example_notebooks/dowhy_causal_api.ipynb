{
 "cells": [
  {
   "cell_type": "markdown",
   "metadata": {},
   "source": [
    "# Demo for the DoWhy causal API\n",
    "We show a simple example of adding a causal extension to any dataframe. "
   ]
  },
  {
   "cell_type": "code",
   "execution_count": 1,
   "metadata": {
    "execution": {
     "iopub.execute_input": "2022-07-29T11:08:06.620490Z",
     "iopub.status.busy": "2022-07-29T11:08:06.619893Z",
     "iopub.status.idle": "2022-07-29T11:08:08.122012Z",
     "shell.execute_reply": "2022-07-29T11:08:08.120902Z"
    }
   },
   "outputs": [
    {
     "name": "stdout",
     "output_type": "stream",
     "text": [
      "keywords are unexpanded, not using\n"
     ]
    }
   ],
   "source": [
    "import dowhy.datasets\n",
    "import dowhy.api\n",
    "\n",
    "import numpy as np\n",
    "import pandas as pd\n",
    "\n",
    "from statsmodels.api import OLS"
   ]
  },
  {
   "cell_type": "code",
   "execution_count": 2,
   "metadata": {
    "execution": {
     "iopub.execute_input": "2022-07-29T11:08:08.126884Z",
     "iopub.status.busy": "2022-07-29T11:08:08.126327Z",
     "iopub.status.idle": "2022-07-29T11:08:08.199282Z",
     "shell.execute_reply": "2022-07-29T11:08:08.198428Z"
    }
   },
   "outputs": [
    {
     "data": {
      "text/html": [
       "<div>\n",
       "<style scoped>\n",
       "    .dataframe tbody tr th:only-of-type {\n",
       "        vertical-align: middle;\n",
       "    }\n",
       "\n",
       "    .dataframe tbody tr th {\n",
       "        vertical-align: top;\n",
       "    }\n",
       "\n",
       "    .dataframe thead th {\n",
       "        text-align: right;\n",
       "    }\n",
       "</style>\n",
       "<table border=\"1\" class=\"dataframe\">\n",
       "  <thead>\n",
       "    <tr style=\"text-align: right;\">\n",
       "      <th></th>\n",
       "      <th>W0</th>\n",
       "      <th>v0</th>\n",
       "      <th>y</th>\n",
       "    </tr>\n",
       "  </thead>\n",
       "  <tbody>\n",
       "    <tr>\n",
       "      <th>0</th>\n",
       "      <td>0.067701</td>\n",
       "      <td>True</td>\n",
       "      <td>4.668524</td>\n",
       "    </tr>\n",
       "    <tr>\n",
       "      <th>1</th>\n",
       "      <td>0.062282</td>\n",
       "      <td>True</td>\n",
       "      <td>4.955912</td>\n",
       "    </tr>\n",
       "    <tr>\n",
       "      <th>2</th>\n",
       "      <td>-1.663267</td>\n",
       "      <td>False</td>\n",
       "      <td>-2.663113</td>\n",
       "    </tr>\n",
       "    <tr>\n",
       "      <th>3</th>\n",
       "      <td>0.122808</td>\n",
       "      <td>True</td>\n",
       "      <td>5.518330</td>\n",
       "    </tr>\n",
       "    <tr>\n",
       "      <th>4</th>\n",
       "      <td>-0.027151</td>\n",
       "      <td>True</td>\n",
       "      <td>6.025264</td>\n",
       "    </tr>\n",
       "    <tr>\n",
       "      <th>...</th>\n",
       "      <td>...</td>\n",
       "      <td>...</td>\n",
       "      <td>...</td>\n",
       "    </tr>\n",
       "    <tr>\n",
       "      <th>995</th>\n",
       "      <td>-0.063197</td>\n",
       "      <td>True</td>\n",
       "      <td>3.936036</td>\n",
       "    </tr>\n",
       "    <tr>\n",
       "      <th>996</th>\n",
       "      <td>1.823367</td>\n",
       "      <td>True</td>\n",
       "      <td>7.378602</td>\n",
       "    </tr>\n",
       "    <tr>\n",
       "      <th>997</th>\n",
       "      <td>0.895647</td>\n",
       "      <td>True</td>\n",
       "      <td>7.131533</td>\n",
       "    </tr>\n",
       "    <tr>\n",
       "      <th>998</th>\n",
       "      <td>0.069219</td>\n",
       "      <td>True</td>\n",
       "      <td>5.462243</td>\n",
       "    </tr>\n",
       "    <tr>\n",
       "      <th>999</th>\n",
       "      <td>-0.189411</td>\n",
       "      <td>False</td>\n",
       "      <td>0.601150</td>\n",
       "    </tr>\n",
       "  </tbody>\n",
       "</table>\n",
       "<p>1000 rows × 3 columns</p>\n",
       "</div>"
      ],
      "text/plain": [
       "           W0     v0         y\n",
       "0    0.067701   True  4.668524\n",
       "1    0.062282   True  4.955912\n",
       "2   -1.663267  False -2.663113\n",
       "3    0.122808   True  5.518330\n",
       "4   -0.027151   True  6.025264\n",
       "..        ...    ...       ...\n",
       "995 -0.063197   True  3.936036\n",
       "996  1.823367   True  7.378602\n",
       "997  0.895647   True  7.131533\n",
       "998  0.069219   True  5.462243\n",
       "999 -0.189411  False  0.601150\n",
       "\n",
       "[1000 rows x 3 columns]"
      ]
     },
     "execution_count": 2,
     "metadata": {},
     "output_type": "execute_result"
    }
   ],
   "source": [
    "data = dowhy.datasets.linear_dataset(beta=5,\n",
    "        num_common_causes=1,\n",
    "        num_instruments = 0,\n",
    "        num_samples=1000,\n",
    "        treatment_is_binary=True)\n",
    "df = data['df']\n",
    "df['y'] = df['y'] + np.random.normal(size=len(df)) # Adding noise to data. Without noise, the variance in Y|X, Z is zero, and mcmc fails.\n",
    "#data['dot_graph'] = 'digraph { v ->y;X0-> v;X0-> y;}'\n",
    "\n",
    "treatment= data[\"treatment_name\"][0]\n",
    "outcome = data[\"outcome_name\"][0]\n",
    "common_cause = data[\"common_causes_names\"][0]\n",
    "df"
   ]
  },
  {
   "cell_type": "code",
   "execution_count": 3,
   "metadata": {
    "execution": {
     "iopub.execute_input": "2022-07-29T11:08:08.202763Z",
     "iopub.status.busy": "2022-07-29T11:08:08.202486Z",
     "iopub.status.idle": "2022-07-29T11:08:09.154878Z",
     "shell.execute_reply": "2022-07-29T11:08:09.144653Z"
    }
   },
   "outputs": [
    {
     "data": {
      "text/plain": [
       "<AxesSubplot:xlabel='v0'>"
      ]
     },
     "execution_count": 3,
     "metadata": {},
     "output_type": "execute_result"
    },
    {
     "data": {
      "image/png": "[encoded data removed]",
      "text/plain": [
       "<Figure size 432x288 with 1 Axes>"
      ]
     },
     "metadata": {
      "needs_background": "light"
     },
     "output_type": "display_data"
    }
   ],
   "source": [
    "# data['df'] is just a regular pandas.DataFrame\n",
    "df.causal.do(x=treatment,\n",
    "                     variable_types={treatment: 'b', outcome: 'c', common_cause: 'c'},\n",
    "                     outcome=outcome,\n",
    "                     common_causes=[common_cause],\n",
    "                     proceed_when_unidentifiable=True).groupby(treatment).mean().plot(y=outcome, kind='bar')"
   ]
  },
  {
   "cell_type": "code",
   "execution_count": 4,
   "metadata": {
    "execution": {
     "iopub.execute_input": "2022-07-29T11:08:09.163287Z",
     "iopub.status.busy": "2022-07-29T11:08:09.162849Z",
     "iopub.status.idle": "2022-07-29T11:08:09.298276Z",
     "shell.execute_reply": "2022-07-29T11:08:09.297496Z"
    }
   },
   "outputs": [
    {
     "data": {
      "text/plain": [
       "<AxesSubplot:xlabel='v0'>"
      ]
     },
     "execution_count": 4,
     "metadata": {},
     "output_type": "execute_result"
    },
    {
     "data": {
      "image/png": "[encoded data removed]",
      "text/plain": [
       "<Figure size 432x288 with 1 Axes>"
      ]
     },
     "metadata": {
      "needs_background": "light"
     },
     "output_type": "display_data"
    }
   ],
   "source": [
    "df.causal.do(x={treatment: 1}, \n",
    "              variable_types={treatment:'b', outcome: 'c', common_cause: 'c'}, \n",
    "              outcome=outcome,\n",
    "              method='weighting', \n",
    "              common_causes=[common_cause],\n",
    "              proceed_when_unidentifiable=True).groupby(treatment).mean().plot(y=outcome, kind='bar')"
   ]
  },
  {
   "cell_type": "code",
   "execution_count": 5,
   "metadata": {
    "execution": {
     "iopub.execute_input": "2022-07-29T11:08:09.302559Z",
     "iopub.status.busy": "2022-07-29T11:08:09.302086Z",
     "iopub.status.idle": "2022-07-29T11:08:09.345680Z",
     "shell.execute_reply": "2022-07-29T11:08:09.344758Z"
    }
   },
   "outputs": [],
   "source": [
    "cdf_1 = df.causal.do(x={treatment: 1}, \n",
    "              variable_types={treatment: 'b', outcome: 'c', common_cause: 'c'}, \n",
    "              outcome=outcome, \n",
    "              dot_graph=data['dot_graph'],\n",
    "              proceed_when_unidentifiable=True)\n",
    "\n",
    "cdf_0 = df.causal.do(x={treatment: 0}, \n",
    "              variable_types={treatment: 'b', outcome: 'c', common_cause: 'c'}, \n",
    "              outcome=outcome, \n",
    "              dot_graph=data['dot_graph'],\n",
    "              proceed_when_unidentifiable=True)\n"
   ]
  },
  {
   "cell_type": "code",
   "execution_count": 6,
   "metadata": {
    "execution": {
     "iopub.execute_input": "2022-07-29T11:08:09.350970Z",
     "iopub.status.busy": "2022-07-29T11:08:09.350678Z",
     "iopub.status.idle": "2022-07-29T11:08:09.368027Z",
     "shell.execute_reply": "2022-07-29T11:08:09.367111Z"
    },
    "scrolled": true
   },
   "outputs": [
    {
     "data": {
      "text/html": [
       "<div>\n",
       "<style scoped>\n",
       "    .dataframe tbody tr th:only-of-type {\n",
       "        vertical-align: middle;\n",
       "    }\n",
       "\n",
       "    .dataframe tbody tr th {\n",
       "        vertical-align: top;\n",
       "    }\n",
       "\n",
       "    .dataframe thead th {\n",
       "        text-align: right;\n",
       "    }\n",
       "</style>\n",
       "<table border=\"1\" class=\"dataframe\">\n",
       "  <thead>\n",
       "    <tr style=\"text-align: right;\">\n",
       "      <th></th>\n",
       "      <th>W0</th>\n",
       "      <th>v0</th>\n",
       "      <th>y</th>\n",
       "      <th>propensity_score</th>\n",
       "      <th>weight</th>\n",
       "    </tr>\n",
       "  </thead>\n",
       "  <tbody>\n",
       "    <tr>\n",
       "      <th>0</th>\n",
       "      <td>-0.323372</td>\n",
       "      <td>False</td>\n",
       "      <td>-2.005205</td>\n",
       "      <td>0.616171</td>\n",
       "      <td>1.622925</td>\n",
       "    </tr>\n",
       "    <tr>\n",
       "      <th>1</th>\n",
       "      <td>-0.474952</td>\n",
       "      <td>False</td>\n",
       "      <td>-1.001151</td>\n",
       "      <td>0.676658</td>\n",
       "      <td>1.477852</td>\n",
       "    </tr>\n",
       "    <tr>\n",
       "      <th>2</th>\n",
       "      <td>1.012438</td>\n",
       "      <td>False</td>\n",
       "      <td>2.679224</td>\n",
       "      <td>0.134343</td>\n",
       "      <td>7.443609</td>\n",
       "    </tr>\n",
       "    <tr>\n",
       "      <th>3</th>\n",
       "      <td>0.745103</td>\n",
       "      <td>False</td>\n",
       "      <td>2.621244</td>\n",
       "      <td>0.198531</td>\n",
       "      <td>5.037001</td>\n",
       "    </tr>\n",
       "    <tr>\n",
       "      <th>4</th>\n",
       "      <td>1.417781</td>\n",
       "      <td>False</td>\n",
       "      <td>4.199004</td>\n",
       "      <td>0.070958</td>\n",
       "      <td>14.092775</td>\n",
       "    </tr>\n",
       "    <tr>\n",
       "      <th>...</th>\n",
       "      <td>...</td>\n",
       "      <td>...</td>\n",
       "      <td>...</td>\n",
       "      <td>...</td>\n",
       "      <td>...</td>\n",
       "    </tr>\n",
       "    <tr>\n",
       "      <th>995</th>\n",
       "      <td>0.161603</td>\n",
       "      <td>False</td>\n",
       "      <td>-0.132310</td>\n",
       "      <td>0.407352</td>\n",
       "      <td>2.454879</td>\n",
       "    </tr>\n",
       "    <tr>\n",
       "      <th>996</th>\n",
       "      <td>0.136962</td>\n",
       "      <td>False</td>\n",
       "      <td>-1.089818</td>\n",
       "      <td>0.417797</td>\n",
       "      <td>2.393507</td>\n",
       "    </tr>\n",
       "    <tr>\n",
       "      <th>997</th>\n",
       "      <td>0.268117</td>\n",
       "      <td>False</td>\n",
       "      <td>-1.161410</td>\n",
       "      <td>0.363265</td>\n",
       "      <td>2.752815</td>\n",
       "    </tr>\n",
       "    <tr>\n",
       "      <th>998</th>\n",
       "      <td>-1.210246</td>\n",
       "      <td>False</td>\n",
       "      <td>-1.209380</td>\n",
       "      <td>0.883349</td>\n",
       "      <td>1.132056</td>\n",
       "    </tr>\n",
       "    <tr>\n",
       "      <th>999</th>\n",
       "      <td>-0.815531</td>\n",
       "      <td>False</td>\n",
       "      <td>-3.619147</td>\n",
       "      <td>0.791526</td>\n",
       "      <td>1.263382</td>\n",
       "    </tr>\n",
       "  </tbody>\n",
       "</table>\n",
       "<p>1000 rows × 5 columns</p>\n",
       "</div>"
      ],
      "text/plain": [
       "           W0     v0         y  propensity_score     weight\n",
       "0   -0.323372  False -2.005205          0.616171   1.622925\n",
       "1   -0.474952  False -1.001151          0.676658   1.477852\n",
       "2    1.012438  False  2.679224          0.134343   7.443609\n",
       "3    0.745103  False  2.621244          0.198531   5.037001\n",
       "4    1.417781  False  4.199004          0.070958  14.092775\n",
       "..        ...    ...       ...               ...        ...\n",
       "995  0.161603  False -0.132310          0.407352   2.454879\n",
       "996  0.136962  False -1.089818          0.417797   2.393507\n",
       "997  0.268117  False -1.161410          0.363265   2.752815\n",
       "998 -1.210246  False -1.209380          0.883349   1.132056\n",
       "999 -0.815531  False -3.619147          0.791526   1.263382\n",
       "\n",
       "[1000 rows x 5 columns]"
      ]
     },
     "execution_count": 6,
     "metadata": {},
     "output_type": "execute_result"
    }
   ],
   "source": [
    "cdf_0"
   ]
  },
  {
   "cell_type": "code",
   "execution_count": 7,
   "metadata": {
    "execution": {
     "iopub.execute_input": "2022-07-29T11:08:09.371640Z",
     "iopub.status.busy": "2022-07-29T11:08:09.371059Z",
     "iopub.status.idle": "2022-07-29T11:08:09.390039Z",
     "shell.execute_reply": "2022-07-29T11:08:09.388966Z"
    }
   },
   "outputs": [
    {
     "data": {
      "text/html": [
       "<div>\n",
       "<style scoped>\n",
       "    .dataframe tbody tr th:only-of-type {\n",
       "        vertical-align: middle;\n",
       "    }\n",
       "\n",
       "    .dataframe tbody tr th {\n",
       "        vertical-align: top;\n",
       "    }\n",
       "\n",
       "    .dataframe thead th {\n",
       "        text-align: right;\n",
       "    }\n",
       "</style>\n",
       "<table border=\"1\" class=\"dataframe\">\n",
       "  <thead>\n",
       "    <tr style=\"text-align: right;\">\n",
       "      <th></th>\n",
       "      <th>W0</th>\n",
       "      <th>v0</th>\n",
       "      <th>y</th>\n",
       "      <th>propensity_score</th>\n",
       "      <th>weight</th>\n",
       "    </tr>\n",
       "  </thead>\n",
       "  <tbody>\n",
       "    <tr>\n",
       "      <th>0</th>\n",
       "      <td>0.928112</td>\n",
       "      <td>True</td>\n",
       "      <td>9.068175</td>\n",
       "      <td>0.847561</td>\n",
       "      <td>1.179856</td>\n",
       "    </tr>\n",
       "    <tr>\n",
       "      <th>1</th>\n",
       "      <td>-0.353011</td>\n",
       "      <td>True</td>\n",
       "      <td>4.456920</td>\n",
       "      <td>0.371644</td>\n",
       "      <td>2.690746</td>\n",
       "    </tr>\n",
       "    <tr>\n",
       "      <th>2</th>\n",
       "      <td>1.160921</td>\n",
       "      <td>True</td>\n",
       "      <td>7.810720</td>\n",
       "      <td>0.893099</td>\n",
       "      <td>1.119697</td>\n",
       "    </tr>\n",
       "    <tr>\n",
       "      <th>3</th>\n",
       "      <td>0.279350</td>\n",
       "      <td>True</td>\n",
       "      <td>5.128045</td>\n",
       "      <td>0.641268</td>\n",
       "      <td>1.559411</td>\n",
       "    </tr>\n",
       "    <tr>\n",
       "      <th>4</th>\n",
       "      <td>0.521029</td>\n",
       "      <td>True</td>\n",
       "      <td>6.818470</td>\n",
       "      <td>0.731762</td>\n",
       "      <td>1.366564</td>\n",
       "    </tr>\n",
       "    <tr>\n",
       "      <th>...</th>\n",
       "      <td>...</td>\n",
       "      <td>...</td>\n",
       "      <td>...</td>\n",
       "      <td>...</td>\n",
       "      <td>...</td>\n",
       "    </tr>\n",
       "    <tr>\n",
       "      <th>995</th>\n",
       "      <td>-0.393867</td>\n",
       "      <td>True</td>\n",
       "      <td>4.231373</td>\n",
       "      <td>0.355115</td>\n",
       "      <td>2.815988</td>\n",
       "    </tr>\n",
       "    <tr>\n",
       "      <th>996</th>\n",
       "      <td>0.122808</td>\n",
       "      <td>True</td>\n",
       "      <td>5.518330</td>\n",
       "      <td>0.576170</td>\n",
       "      <td>1.735600</td>\n",
       "    </tr>\n",
       "    <tr>\n",
       "      <th>997</th>\n",
       "      <td>0.436431</td>\n",
       "      <td>True</td>\n",
       "      <td>7.415051</td>\n",
       "      <td>0.701744</td>\n",
       "      <td>1.425022</td>\n",
       "    </tr>\n",
       "    <tr>\n",
       "      <th>998</th>\n",
       "      <td>0.942143</td>\n",
       "      <td>True</td>\n",
       "      <td>8.007570</td>\n",
       "      <td>0.850705</td>\n",
       "      <td>1.175496</td>\n",
       "    </tr>\n",
       "    <tr>\n",
       "      <th>999</th>\n",
       "      <td>-0.613745</td>\n",
       "      <td>True</td>\n",
       "      <td>3.700260</td>\n",
       "      <td>0.272651</td>\n",
       "      <td>3.667687</td>\n",
       "    </tr>\n",
       "  </tbody>\n",
       "</table>\n",
       "<p>1000 rows × 5 columns</p>\n",
       "</div>"
      ],
      "text/plain": [
       "           W0    v0         y  propensity_score    weight\n",
       "0    0.928112  True  9.068175          0.847561  1.179856\n",
       "1   -0.353011  True  4.456920          0.371644  2.690746\n",
       "2    1.160921  True  7.810720          0.893099  1.119697\n",
       "3    0.279350  True  5.128045          0.641268  1.559411\n",
       "4    0.521029  True  6.818470          0.731762  1.366564\n",
       "..        ...   ...       ...               ...       ...\n",
       "995 -0.393867  True  4.231373          0.355115  2.815988\n",
       "996  0.122808  True  5.518330          0.576170  1.735600\n",
       "997  0.436431  True  7.415051          0.701744  1.425022\n",
       "998  0.942143  True  8.007570          0.850705  1.175496\n",
       "999 -0.613745  True  3.700260          0.272651  3.667687\n",
       "\n",
       "[1000 rows x 5 columns]"
      ]
     },
     "execution_count": 7,
     "metadata": {},
     "output_type": "execute_result"
    }
   ],
   "source": [
    "cdf_1"
   ]
  },
  {
   "cell_type": "markdown",
   "metadata": {},
   "source": [
    "## Comparing the estimate to Linear Regression\n",
    "First, estimating the effect using the causal data frame, and the 95% confidence interval."
   ]
  },
  {
   "cell_type": "code",
   "execution_count": 8,
   "metadata": {
    "execution": {
     "iopub.execute_input": "2022-07-29T11:08:09.393670Z",
     "iopub.status.busy": "2022-07-29T11:08:09.393019Z",
     "iopub.status.idle": "2022-07-29T11:08:09.533452Z",
     "shell.execute_reply": "2022-07-29T11:08:09.532544Z"
    }
   },
   "outputs": [
    {
     "data": {
      "image/png": "[encoded data removed]",
      "text/latex": [
       "$\\displaystyle 5.21665778326407$"
      ],
      "text/plain": [
       "5.21665778326407"
      ]
     },
     "execution_count": 8,
     "metadata": {},
     "output_type": "execute_result"
    }
   ],
   "source": [
    "(cdf_1['y'] - cdf_0['y']).mean()"
   ]
  },
  {
   "cell_type": "code",
   "execution_count": 9,
   "metadata": {
    "execution": {
     "iopub.execute_input": "2022-07-29T11:08:09.537384Z",
     "iopub.status.busy": "2022-07-29T11:08:09.537094Z",
     "iopub.status.idle": "2022-07-29T11:08:09.571817Z",
     "shell.execute_reply": "2022-07-29T11:08:09.570936Z"
    }
   },
   "outputs": [
    {
     "data": {
      "image/png": "[encoded data removed]",
      "text/latex": [
       "$\\displaystyle 0.242984576335437$"
      ],
      "text/plain": [
       "0.24298457633543716"
      ]
     },
     "execution_count": 9,
     "metadata": {},
     "output_type": "execute_result"
    }
   ],
   "source": [
    "1.96*(cdf_1['y'] - cdf_0['y']).std() / np.sqrt(len(df))"
   ]
  },
  {
   "cell_type": "markdown",
   "metadata": {},
   "source": [
    "Comparing to the estimate from OLS."
   ]
  },
  {
   "cell_type": "code",
   "execution_count": 10,
   "metadata": {
    "execution": {
     "iopub.execute_input": "2022-07-29T11:08:09.576495Z",
     "iopub.status.busy": "2022-07-29T11:08:09.575816Z",
     "iopub.status.idle": "2022-07-29T11:08:09.598147Z",
     "shell.execute_reply": "2022-07-29T11:08:09.597265Z"
    }
   },
   "outputs": [
    {
     "data": {
      "text/html": [
       "<table class=\"simpletable\">\n",
       "<caption>OLS Regression Results</caption>\n",
       "<tr>\n",
       "  <th>Dep. Variable:</th>            <td>y</td>        <th>  R-squared (uncentered):</th>      <td>   0.972</td> \n",
       "</tr>\n",
       "<tr>\n",
       "  <th>Model:</th>                   <td>OLS</td>       <th>  Adj. R-squared (uncentered):</th> <td>   0.972</td> \n",
       "</tr>\n",
       "<tr>\n",
       "  <th>Method:</th>             <td>Least Squares</td>  <th>  F-statistic:       </th>          <td>1.744e+04</td>\n",
       "</tr>\n",
       "<tr>\n",
       "  <th>Date:</th>             <td>Fri, 29 Jul 2022</td> <th>  Prob (F-statistic):</th>           <td>  0.00</td>  \n",
       "</tr>\n",
       "<tr>\n",
       "  <th>Time:</th>                 <td>11:08:09</td>     <th>  Log-Likelihood:    </th>          <td> -1379.9</td> \n",
       "</tr>\n",
       "<tr>\n",
       "  <th>No. Observations:</th>      <td>  1000</td>      <th>  AIC:               </th>          <td>   2764.</td> \n",
       "</tr>\n",
       "<tr>\n",
       "  <th>Df Residuals:</th>          <td>   998</td>      <th>  BIC:               </th>          <td>   2774.</td> \n",
       "</tr>\n",
       "<tr>\n",
       "  <th>Df Model:</th>              <td>     2</td>      <th>                     </th>              <td> </td>    \n",
       "</tr>\n",
       "<tr>\n",
       "  <th>Covariance Type:</th>      <td>nonrobust</td>    <th>                     </th>              <td> </td>    \n",
       "</tr>\n",
       "</table>\n",
       "<table class=\"simpletable\">\n",
       "<tr>\n",
       "   <td></td>     <th>coef</th>     <th>std err</th>      <th>t</th>      <th>P>|t|</th>  <th>[0.025</th>    <th>0.975]</th>  \n",
       "</tr>\n",
       "<tr>\n",
       "  <th>x1</th> <td>    2.5996</td> <td>    0.036</td> <td>   71.728</td> <td> 0.000</td> <td>    2.528</td> <td>    2.671</td>\n",
       "</tr>\n",
       "<tr>\n",
       "  <th>x2</th> <td>    4.9921</td> <td>    0.047</td> <td>  105.401</td> <td> 0.000</td> <td>    4.899</td> <td>    5.085</td>\n",
       "</tr>\n",
       "</table>\n",
       "<table class=\"simpletable\">\n",
       "<tr>\n",
       "  <th>Omnibus:</th>       <td> 0.081</td> <th>  Durbin-Watson:     </th> <td>   1.951</td>\n",
       "</tr>\n",
       "<tr>\n",
       "  <th>Prob(Omnibus):</th> <td> 0.961</td> <th>  Jarque-Bera (JB):  </th> <td>   0.146</td>\n",
       "</tr>\n",
       "<tr>\n",
       "  <th>Skew:</th>          <td> 0.003</td> <th>  Prob(JB):          </th> <td>   0.930</td>\n",
       "</tr>\n",
       "<tr>\n",
       "  <th>Kurtosis:</th>      <td> 2.941</td> <th>  Cond. No.          </th> <td>    1.96</td>\n",
       "</tr>\n",
       "</table><br/><br/>Notes:<br/>[1] R² is computed without centering (uncentered) since the model does not contain a constant.<br/>[2] Standard Errors assume that the covariance matrix of the errors is correctly specified."
      ],
      "text/plain": [
       "<class 'statsmodels.iolib.summary.Summary'>\n",
       "\"\"\"\n",
       "                                 OLS Regression Results                                \n",
       "=======================================================================================\n",
       "Dep. Variable:                      y   R-squared (uncentered):                   0.972\n",
       "Model:                            OLS   Adj. R-squared (uncentered):              0.972\n",
       "Method:                 Least Squares   F-statistic:                          1.744e+04\n",
       "Date:                Fri, 29 Jul 2022   Prob (F-statistic):                        0.00\n",
       "Time:                        11:08:09   Log-Likelihood:                         -1379.9\n",
       "No. Observations:                1000   AIC:                                      2764.\n",
       "Df Residuals:                     998   BIC:                                      2774.\n",
       "Df Model:                           2                                                  \n",
       "Covariance Type:            nonrobust                                                  \n",
       "==============================================================================\n",
       "                 coef    std err          t      P>|t|      [0.025      0.975]\n",
       "------------------------------------------------------------------------------\n",
       "x1             2.5996      0.036     71.728      0.000       2.528       2.671\n",
       "x2             4.9921      0.047    105.401      0.000       4.899       5.085\n",
       "==============================================================================\n",
       "Omnibus:                        0.081   Durbin-Watson:                   1.951\n",
       "Prob(Omnibus):                  0.961   Jarque-Bera (JB):                0.146\n",
       "Skew:                           0.003   Prob(JB):                        0.930\n",
       "Kurtosis:                       2.941   Cond. No.                         1.96\n",
       "==============================================================================\n",
       "\n",
       "Notes:\n",
       "[1] R² is computed without centering (uncentered) since the model does not contain a constant.\n",
       "[2] Standard Errors assume that the covariance matrix of the errors is correctly specified.\n",
       "\"\"\""
      ]
     },
     "execution_count": 10,
     "metadata": {},
     "output_type": "execute_result"
    }
   ],
   "source": [
    "model = OLS(np.asarray(df[outcome]), np.asarray(df[[common_cause, treatment]], dtype=np.float64))\n",
    "result = model.fit()\n",
    "result.summary()"
   ]
  }
 ],
 "metadata": {
  "kernelspec": {
   "display_name": "Python 3",
   "language": "python",
   "name": "python3"
  },
  "language_info": {
   "codemirror_mode": {
    "name": "ipython",
    "version": 3
   },
   "file_extension": ".py",
   "mimetype": "text/x-python",
   "name": "python",
   "nbconvert_exporter": "python",
   "pygments_lexer": "ipython3",
   "version": "3.8.10"
  },
  "toc": {
   "base_numbering": 1,
   "nav_menu": {},
   "number_sections": false,
   "sideBar": true,
   "skip_h1_title": true,
   "title_cell": "Table of Contents",
   "title_sidebar": "Contents",
   "toc_cell": false,
   "toc_position": {},
   "toc_section_display": true,
   "toc_window_display": false
  }
 },
 "nbformat": 4,
 "nbformat_minor": 4
}
