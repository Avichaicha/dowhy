{
 "cells": [
  {
   "cell_type": "markdown",
   "metadata": {},
   "source": [
    "# Demo for the DoWhy causal API\n",
    "We show a simple example of adding a causal extension to any dataframe. "
   ]
  },
  {
   "cell_type": "code",
   "execution_count": 1,
   "metadata": {
    "execution": {
     "iopub.execute_input": "2022-07-28T13:53:03.351859Z",
     "iopub.status.busy": "2022-07-28T13:53:03.351343Z",
     "iopub.status.idle": "2022-07-28T13:53:04.633858Z",
     "shell.execute_reply": "2022-07-28T13:53:04.632885Z"
    }
   },
   "outputs": [
    {
     "name": "stdout",
     "output_type": "stream",
     "text": [
      "keywords are unexpanded, not using\n"
     ]
    }
   ],
   "source": [
    "import dowhy.datasets\n",
    "import dowhy.api\n",
    "\n",
    "import numpy as np\n",
    "import pandas as pd\n",
    "\n",
    "from statsmodels.api import OLS"
   ]
  },
  {
   "cell_type": "code",
   "execution_count": 2,
   "metadata": {
    "execution": {
     "iopub.execute_input": "2022-07-28T13:53:04.638329Z",
     "iopub.status.busy": "2022-07-28T13:53:04.637409Z",
     "iopub.status.idle": "2022-07-28T13:53:04.688587Z",
     "shell.execute_reply": "2022-07-28T13:53:04.687476Z"
    }
   },
   "outputs": [
    {
     "data": {
      "text/html": [
       "<div>\n",
       "<style scoped>\n",
       "    .dataframe tbody tr th:only-of-type {\n",
       "        vertical-align: middle;\n",
       "    }\n",
       "\n",
       "    .dataframe tbody tr th {\n",
       "        vertical-align: top;\n",
       "    }\n",
       "\n",
       "    .dataframe thead th {\n",
       "        text-align: right;\n",
       "    }\n",
       "</style>\n",
       "<table border=\"1\" class=\"dataframe\">\n",
       "  <thead>\n",
       "    <tr style=\"text-align: right;\">\n",
       "      <th></th>\n",
       "      <th>W0</th>\n",
       "      <th>v0</th>\n",
       "      <th>y</th>\n",
       "    </tr>\n",
       "  </thead>\n",
       "  <tbody>\n",
       "    <tr>\n",
       "      <th>0</th>\n",
       "      <td>0.524761</td>\n",
       "      <td>False</td>\n",
       "      <td>-0.781031</td>\n",
       "    </tr>\n",
       "    <tr>\n",
       "      <th>1</th>\n",
       "      <td>-0.189978</td>\n",
       "      <td>False</td>\n",
       "      <td>0.900473</td>\n",
       "    </tr>\n",
       "    <tr>\n",
       "      <th>2</th>\n",
       "      <td>0.493943</td>\n",
       "      <td>True</td>\n",
       "      <td>6.274869</td>\n",
       "    </tr>\n",
       "    <tr>\n",
       "      <th>3</th>\n",
       "      <td>0.206764</td>\n",
       "      <td>True</td>\n",
       "      <td>5.490949</td>\n",
       "    </tr>\n",
       "    <tr>\n",
       "      <th>4</th>\n",
       "      <td>0.577285</td>\n",
       "      <td>True</td>\n",
       "      <td>6.438748</td>\n",
       "    </tr>\n",
       "    <tr>\n",
       "      <th>...</th>\n",
       "      <td>...</td>\n",
       "      <td>...</td>\n",
       "      <td>...</td>\n",
       "    </tr>\n",
       "    <tr>\n",
       "      <th>995</th>\n",
       "      <td>-0.143068</td>\n",
       "      <td>False</td>\n",
       "      <td>-1.012807</td>\n",
       "    </tr>\n",
       "    <tr>\n",
       "      <th>996</th>\n",
       "      <td>-1.271734</td>\n",
       "      <td>False</td>\n",
       "      <td>-4.360007</td>\n",
       "    </tr>\n",
       "    <tr>\n",
       "      <th>997</th>\n",
       "      <td>0.231597</td>\n",
       "      <td>True</td>\n",
       "      <td>5.952515</td>\n",
       "    </tr>\n",
       "    <tr>\n",
       "      <th>998</th>\n",
       "      <td>-1.258180</td>\n",
       "      <td>False</td>\n",
       "      <td>-2.561490</td>\n",
       "    </tr>\n",
       "    <tr>\n",
       "      <th>999</th>\n",
       "      <td>-1.117017</td>\n",
       "      <td>False</td>\n",
       "      <td>-2.488226</td>\n",
       "    </tr>\n",
       "  </tbody>\n",
       "</table>\n",
       "<p>1000 rows × 3 columns</p>\n",
       "</div>"
      ],
      "text/plain": [
       "           W0     v0         y\n",
       "0    0.524761  False -0.781031\n",
       "1   -0.189978  False  0.900473\n",
       "2    0.493943   True  6.274869\n",
       "3    0.206764   True  5.490949\n",
       "4    0.577285   True  6.438748\n",
       "..        ...    ...       ...\n",
       "995 -0.143068  False -1.012807\n",
       "996 -1.271734  False -4.360007\n",
       "997  0.231597   True  5.952515\n",
       "998 -1.258180  False -2.561490\n",
       "999 -1.117017  False -2.488226\n",
       "\n",
       "[1000 rows x 3 columns]"
      ]
     },
     "execution_count": 2,
     "metadata": {},
     "output_type": "execute_result"
    }
   ],
   "source": [
    "data = dowhy.datasets.linear_dataset(beta=5,\n",
    "        num_common_causes=1,\n",
    "        num_instruments = 0,\n",
    "        num_samples=1000,\n",
    "        treatment_is_binary=True)\n",
    "df = data['df']\n",
    "df['y'] = df['y'] + np.random.normal(size=len(df)) # Adding noise to data. Without noise, the variance in Y|X, Z is zero, and mcmc fails.\n",
    "#data['dot_graph'] = 'digraph { v ->y;X0-> v;X0-> y;}'\n",
    "\n",
    "treatment= data[\"treatment_name\"][0]\n",
    "outcome = data[\"outcome_name\"][0]\n",
    "common_cause = data[\"common_causes_names\"][0]\n",
    "df"
   ]
  },
  {
   "cell_type": "code",
   "execution_count": 3,
   "metadata": {
    "execution": {
     "iopub.execute_input": "2022-07-28T13:53:04.692429Z",
     "iopub.status.busy": "2022-07-28T13:53:04.691921Z",
     "iopub.status.idle": "2022-07-28T13:53:05.413497Z",
     "shell.execute_reply": "2022-07-28T13:53:05.412944Z"
    }
   },
   "outputs": [
    {
     "data": {
      "text/plain": [
       "<AxesSubplot:xlabel='v0'>"
      ]
     },
     "execution_count": 3,
     "metadata": {},
     "output_type": "execute_result"
    },
    {
     "data": {
      "image/png": "[encoded data removed]",
      "text/plain": [
       "<Figure size 432x288 with 1 Axes>"
      ]
     },
     "metadata": {
      "needs_background": "light"
     },
     "output_type": "display_data"
    }
   ],
   "source": [
    "# data['df'] is just a regular pandas.DataFrame\n",
    "df.causal.do(x=treatment,\n",
    "                     variable_types={treatment: 'b', outcome: 'c', common_cause: 'c'},\n",
    "                     outcome=outcome,\n",
    "                     common_causes=[common_cause],\n",
    "                     proceed_when_unidentifiable=True).groupby(treatment).mean().plot(y=outcome, kind='bar')"
   ]
  },
  {
   "cell_type": "code",
   "execution_count": 4,
   "metadata": {
    "execution": {
     "iopub.execute_input": "2022-07-28T13:53:05.417068Z",
     "iopub.status.busy": "2022-07-28T13:53:05.416514Z",
     "iopub.status.idle": "2022-07-28T13:53:05.501990Z",
     "shell.execute_reply": "2022-07-28T13:53:05.501454Z"
    }
   },
   "outputs": [
    {
     "data": {
      "text/plain": [
       "<AxesSubplot:xlabel='v0'>"
      ]
     },
     "execution_count": 4,
     "metadata": {},
     "output_type": "execute_result"
    },
    {
     "data": {
      "image/png": "[encoded data removed]",
      "text/plain": [
       "<Figure size 432x288 with 1 Axes>"
      ]
     },
     "metadata": {
      "needs_background": "light"
     },
     "output_type": "display_data"
    }
   ],
   "source": [
    "df.causal.do(x={treatment: 1}, \n",
    "              variable_types={treatment:'b', outcome: 'c', common_cause: 'c'}, \n",
    "              outcome=outcome,\n",
    "              method='weighting', \n",
    "              common_causes=[common_cause],\n",
    "              proceed_when_unidentifiable=True).groupby(treatment).mean().plot(y=outcome, kind='bar')"
   ]
  },
  {
   "cell_type": "code",
   "execution_count": 5,
   "metadata": {
    "execution": {
     "iopub.execute_input": "2022-07-28T13:53:05.504930Z",
     "iopub.status.busy": "2022-07-28T13:53:05.504569Z",
     "iopub.status.idle": "2022-07-28T13:53:05.534393Z",
     "shell.execute_reply": "2022-07-28T13:53:05.533838Z"
    }
   },
   "outputs": [],
   "source": [
    "cdf_1 = df.causal.do(x={treatment: 1}, \n",
    "              variable_types={treatment: 'b', outcome: 'c', common_cause: 'c'}, \n",
    "              outcome=outcome, \n",
    "              dot_graph=data['dot_graph'],\n",
    "              proceed_when_unidentifiable=True)\n",
    "\n",
    "cdf_0 = df.causal.do(x={treatment: 0}, \n",
    "              variable_types={treatment: 'b', outcome: 'c', common_cause: 'c'}, \n",
    "              outcome=outcome, \n",
    "              dot_graph=data['dot_graph'],\n",
    "              proceed_when_unidentifiable=True)\n"
   ]
  },
  {
   "cell_type": "code",
   "execution_count": 6,
   "metadata": {
    "execution": {
     "iopub.execute_input": "2022-07-28T13:53:05.538036Z",
     "iopub.status.busy": "2022-07-28T13:53:05.537676Z",
     "iopub.status.idle": "2022-07-28T13:53:05.547569Z",
     "shell.execute_reply": "2022-07-28T13:53:05.547086Z"
    },
    "scrolled": true
   },
   "outputs": [
    {
     "data": {
      "text/html": [
       "<div>\n",
       "<style scoped>\n",
       "    .dataframe tbody tr th:only-of-type {\n",
       "        vertical-align: middle;\n",
       "    }\n",
       "\n",
       "    .dataframe tbody tr th {\n",
       "        vertical-align: top;\n",
       "    }\n",
       "\n",
       "    .dataframe thead th {\n",
       "        text-align: right;\n",
       "    }\n",
       "</style>\n",
       "<table border=\"1\" class=\"dataframe\">\n",
       "  <thead>\n",
       "    <tr style=\"text-align: right;\">\n",
       "      <th></th>\n",
       "      <th>W0</th>\n",
       "      <th>v0</th>\n",
       "      <th>y</th>\n",
       "      <th>propensity_score</th>\n",
       "      <th>weight</th>\n",
       "    </tr>\n",
       "  </thead>\n",
       "  <tbody>\n",
       "    <tr>\n",
       "      <th>0</th>\n",
       "      <td>0.589072</td>\n",
       "      <td>False</td>\n",
       "      <td>2.699512</td>\n",
       "      <td>0.446664</td>\n",
       "      <td>2.238818</td>\n",
       "    </tr>\n",
       "    <tr>\n",
       "      <th>1</th>\n",
       "      <td>1.257905</td>\n",
       "      <td>False</td>\n",
       "      <td>3.689043</td>\n",
       "      <td>0.382813</td>\n",
       "      <td>2.612241</td>\n",
       "    </tr>\n",
       "    <tr>\n",
       "      <th>2</th>\n",
       "      <td>-0.608008</td>\n",
       "      <td>False</td>\n",
       "      <td>-0.766990</td>\n",
       "      <td>0.563996</td>\n",
       "      <td>1.773061</td>\n",
       "    </tr>\n",
       "    <tr>\n",
       "      <th>3</th>\n",
       "      <td>0.274294</td>\n",
       "      <td>False</td>\n",
       "      <td>-1.277265</td>\n",
       "      <td>0.477475</td>\n",
       "      <td>2.094349</td>\n",
       "    </tr>\n",
       "    <tr>\n",
       "      <th>4</th>\n",
       "      <td>-0.149603</td>\n",
       "      <td>False</td>\n",
       "      <td>0.470489</td>\n",
       "      <td>0.519196</td>\n",
       "      <td>1.926055</td>\n",
       "    </tr>\n",
       "    <tr>\n",
       "      <th>...</th>\n",
       "      <td>...</td>\n",
       "      <td>...</td>\n",
       "      <td>...</td>\n",
       "      <td>...</td>\n",
       "      <td>...</td>\n",
       "    </tr>\n",
       "    <tr>\n",
       "      <th>995</th>\n",
       "      <td>-0.968238</td>\n",
       "      <td>False</td>\n",
       "      <td>-4.100302</td>\n",
       "      <td>0.598519</td>\n",
       "      <td>1.670789</td>\n",
       "    </tr>\n",
       "    <tr>\n",
       "      <th>996</th>\n",
       "      <td>0.333799</td>\n",
       "      <td>False</td>\n",
       "      <td>-0.730733</td>\n",
       "      <td>0.471630</td>\n",
       "      <td>2.120304</td>\n",
       "    </tr>\n",
       "    <tr>\n",
       "      <th>997</th>\n",
       "      <td>-0.744930</td>\n",
       "      <td>False</td>\n",
       "      <td>-1.265624</td>\n",
       "      <td>0.577211</td>\n",
       "      <td>1.732469</td>\n",
       "    </tr>\n",
       "    <tr>\n",
       "      <th>998</th>\n",
       "      <td>-0.197642</td>\n",
       "      <td>False</td>\n",
       "      <td>0.713527</td>\n",
       "      <td>0.523918</td>\n",
       "      <td>1.908695</td>\n",
       "    </tr>\n",
       "    <tr>\n",
       "      <th>999</th>\n",
       "      <td>-0.132157</td>\n",
       "      <td>False</td>\n",
       "      <td>0.517466</td>\n",
       "      <td>0.517480</td>\n",
       "      <td>1.932441</td>\n",
       "    </tr>\n",
       "  </tbody>\n",
       "</table>\n",
       "<p>1000 rows × 5 columns</p>\n",
       "</div>"
      ],
      "text/plain": [
       "           W0     v0         y  propensity_score    weight\n",
       "0    0.589072  False  2.699512          0.446664  2.238818\n",
       "1    1.257905  False  3.689043          0.382813  2.612241\n",
       "2   -0.608008  False -0.766990          0.563996  1.773061\n",
       "3    0.274294  False -1.277265          0.477475  2.094349\n",
       "4   -0.149603  False  0.470489          0.519196  1.926055\n",
       "..        ...    ...       ...               ...       ...\n",
       "995 -0.968238  False -4.100302          0.598519  1.670789\n",
       "996  0.333799  False -0.730733          0.471630  2.120304\n",
       "997 -0.744930  False -1.265624          0.577211  1.732469\n",
       "998 -0.197642  False  0.713527          0.523918  1.908695\n",
       "999 -0.132157  False  0.517466          0.517480  1.932441\n",
       "\n",
       "[1000 rows x 5 columns]"
      ]
     },
     "execution_count": 6,
     "metadata": {},
     "output_type": "execute_result"
    }
   ],
   "source": [
    "cdf_0"
   ]
  },
  {
   "cell_type": "code",
   "execution_count": 7,
   "metadata": {
    "execution": {
     "iopub.execute_input": "2022-07-28T13:53:05.550151Z",
     "iopub.status.busy": "2022-07-28T13:53:05.549938Z",
     "iopub.status.idle": "2022-07-28T13:53:05.560909Z",
     "shell.execute_reply": "2022-07-28T13:53:05.560257Z"
    }
   },
   "outputs": [
    {
     "data": {
      "text/html": [
       "<div>\n",
       "<style scoped>\n",
       "    .dataframe tbody tr th:only-of-type {\n",
       "        vertical-align: middle;\n",
       "    }\n",
       "\n",
       "    .dataframe tbody tr th {\n",
       "        vertical-align: top;\n",
       "    }\n",
       "\n",
       "    .dataframe thead th {\n",
       "        text-align: right;\n",
       "    }\n",
       "</style>\n",
       "<table border=\"1\" class=\"dataframe\">\n",
       "  <thead>\n",
       "    <tr style=\"text-align: right;\">\n",
       "      <th></th>\n",
       "      <th>W0</th>\n",
       "      <th>v0</th>\n",
       "      <th>y</th>\n",
       "      <th>propensity_score</th>\n",
       "      <th>weight</th>\n",
       "    </tr>\n",
       "  </thead>\n",
       "  <tbody>\n",
       "    <tr>\n",
       "      <th>0</th>\n",
       "      <td>-1.540220</td>\n",
       "      <td>True</td>\n",
       "      <td>-0.221054</td>\n",
       "      <td>0.348732</td>\n",
       "      <td>2.867528</td>\n",
       "    </tr>\n",
       "    <tr>\n",
       "      <th>1</th>\n",
       "      <td>-1.071576</td>\n",
       "      <td>True</td>\n",
       "      <td>3.027461</td>\n",
       "      <td>0.391739</td>\n",
       "      <td>2.552718</td>\n",
       "    </tr>\n",
       "    <tr>\n",
       "      <th>2</th>\n",
       "      <td>0.579456</td>\n",
       "      <td>True</td>\n",
       "      <td>7.350370</td>\n",
       "      <td>0.552399</td>\n",
       "      <td>1.810285</td>\n",
       "    </tr>\n",
       "    <tr>\n",
       "      <th>3</th>\n",
       "      <td>-0.459629</td>\n",
       "      <td>True</td>\n",
       "      <td>4.588371</td>\n",
       "      <td>0.450426</td>\n",
       "      <td>2.220118</td>\n",
       "    </tr>\n",
       "    <tr>\n",
       "      <th>4</th>\n",
       "      <td>0.411197</td>\n",
       "      <td>True</td>\n",
       "      <td>6.370300</td>\n",
       "      <td>0.535960</td>\n",
       "      <td>1.865811</td>\n",
       "    </tr>\n",
       "    <tr>\n",
       "      <th>...</th>\n",
       "      <td>...</td>\n",
       "      <td>...</td>\n",
       "      <td>...</td>\n",
       "      <td>...</td>\n",
       "      <td>...</td>\n",
       "    </tr>\n",
       "    <tr>\n",
       "      <th>995</th>\n",
       "      <td>1.429528</td>\n",
       "      <td>True</td>\n",
       "      <td>9.918534</td>\n",
       "      <td>0.633029</td>\n",
       "      <td>1.579708</td>\n",
       "    </tr>\n",
       "    <tr>\n",
       "      <th>996</th>\n",
       "      <td>-0.723206</td>\n",
       "      <td>True</td>\n",
       "      <td>2.279503</td>\n",
       "      <td>0.424879</td>\n",
       "      <td>2.353612</td>\n",
       "    </tr>\n",
       "    <tr>\n",
       "      <th>997</th>\n",
       "      <td>1.101549</td>\n",
       "      <td>True</td>\n",
       "      <td>6.314732</td>\n",
       "      <td>0.602534</td>\n",
       "      <td>1.659658</td>\n",
       "    </tr>\n",
       "    <tr>\n",
       "      <th>998</th>\n",
       "      <td>0.430945</td>\n",
       "      <td>True</td>\n",
       "      <td>7.324590</td>\n",
       "      <td>0.537894</td>\n",
       "      <td>1.859101</td>\n",
       "    </tr>\n",
       "    <tr>\n",
       "      <th>999</th>\n",
       "      <td>-1.879648</td>\n",
       "      <td>True</td>\n",
       "      <td>0.722349</td>\n",
       "      <td>0.319010</td>\n",
       "      <td>3.134695</td>\n",
       "    </tr>\n",
       "  </tbody>\n",
       "</table>\n",
       "<p>1000 rows × 5 columns</p>\n",
       "</div>"
      ],
      "text/plain": [
       "           W0    v0         y  propensity_score    weight\n",
       "0   -1.540220  True -0.221054          0.348732  2.867528\n",
       "1   -1.071576  True  3.027461          0.391739  2.552718\n",
       "2    0.579456  True  7.350370          0.552399  1.810285\n",
       "3   -0.459629  True  4.588371          0.450426  2.220118\n",
       "4    0.411197  True  6.370300          0.535960  1.865811\n",
       "..        ...   ...       ...               ...       ...\n",
       "995  1.429528  True  9.918534          0.633029  1.579708\n",
       "996 -0.723206  True  2.279503          0.424879  2.353612\n",
       "997  1.101549  True  6.314732          0.602534  1.659658\n",
       "998  0.430945  True  7.324590          0.537894  1.859101\n",
       "999 -1.879648  True  0.722349          0.319010  3.134695\n",
       "\n",
       "[1000 rows x 5 columns]"
      ]
     },
     "execution_count": 7,
     "metadata": {},
     "output_type": "execute_result"
    }
   ],
   "source": [
    "cdf_1"
   ]
  },
  {
   "cell_type": "markdown",
   "metadata": {},
   "source": [
    "## Comparing the estimate to Linear Regression\n",
    "First, estimating the effect using the causal data frame, and the 95% confidence interval."
   ]
  },
  {
   "cell_type": "code",
   "execution_count": 8,
   "metadata": {
    "execution": {
     "iopub.execute_input": "2022-07-28T13:53:05.563846Z",
     "iopub.status.busy": "2022-07-28T13:53:05.563622Z",
     "iopub.status.idle": "2022-07-28T13:53:05.654588Z",
     "shell.execute_reply": "2022-07-28T13:53:05.653818Z"
    }
   },
   "outputs": [
    {
     "data": {
      "image/png": "[encoded data removed]",
      "text/latex": [
       "$\\displaystyle 5.04391060265327$"
      ],
      "text/plain": [
       "5.04391060265327"
      ]
     },
     "execution_count": 8,
     "metadata": {},
     "output_type": "execute_result"
    }
   ],
   "source": [
    "(cdf_1['y'] - cdf_0['y']).mean()"
   ]
  },
  {
   "cell_type": "code",
   "execution_count": 9,
   "metadata": {
    "execution": {
     "iopub.execute_input": "2022-07-28T13:53:05.658175Z",
     "iopub.status.busy": "2022-07-28T13:53:05.657952Z",
     "iopub.status.idle": "2022-07-28T13:53:05.681327Z",
     "shell.execute_reply": "2022-07-28T13:53:05.680665Z"
    }
   },
   "outputs": [
    {
     "data": {
      "image/png": "[encoded data removed]",
      "text/latex": [
       "$\\displaystyle 0.252446674187162$"
      ],
      "text/plain": [
       "0.2524466741871624"
      ]
     },
     "execution_count": 9,
     "metadata": {},
     "output_type": "execute_result"
    }
   ],
   "source": [
    "1.96*(cdf_1['y'] - cdf_0['y']).std() / np.sqrt(len(df))"
   ]
  },
  {
   "cell_type": "markdown",
   "metadata": {},
   "source": [
    "Comparing to the estimate from OLS."
   ]
  },
  {
   "cell_type": "code",
   "execution_count": 10,
   "metadata": {
    "execution": {
     "iopub.execute_input": "2022-07-28T13:53:05.684529Z",
     "iopub.status.busy": "2022-07-28T13:53:05.684314Z",
     "iopub.status.idle": "2022-07-28T13:53:05.697701Z",
     "shell.execute_reply": "2022-07-28T13:53:05.697109Z"
    }
   },
   "outputs": [
    {
     "data": {
      "text/html": [
       "<table class=\"simpletable\">\n",
       "<caption>OLS Regression Results</caption>\n",
       "<tr>\n",
       "  <th>Dep. Variable:</th>            <td>y</td>        <th>  R-squared (uncentered):</th>      <td>   0.958</td> \n",
       "</tr>\n",
       "<tr>\n",
       "  <th>Model:</th>                   <td>OLS</td>       <th>  Adj. R-squared (uncentered):</th> <td>   0.958</td> \n",
       "</tr>\n",
       "<tr>\n",
       "  <th>Method:</th>             <td>Least Squares</td>  <th>  F-statistic:       </th>          <td>1.135e+04</td>\n",
       "</tr>\n",
       "<tr>\n",
       "  <th>Date:</th>             <td>Thu, 28 Jul 2022</td> <th>  Prob (F-statistic):</th>           <td>  0.00</td>  \n",
       "</tr>\n",
       "<tr>\n",
       "  <th>Time:</th>                 <td>13:53:05</td>     <th>  Log-Likelihood:    </th>          <td> -1438.9</td> \n",
       "</tr>\n",
       "<tr>\n",
       "  <th>No. Observations:</th>      <td>  1000</td>      <th>  AIC:               </th>          <td>   2882.</td> \n",
       "</tr>\n",
       "<tr>\n",
       "  <th>Df Residuals:</th>          <td>   998</td>      <th>  BIC:               </th>          <td>   2892.</td> \n",
       "</tr>\n",
       "<tr>\n",
       "  <th>Df Model:</th>              <td>     2</td>      <th>                     </th>              <td> </td>    \n",
       "</tr>\n",
       "<tr>\n",
       "  <th>Covariance Type:</th>      <td>nonrobust</td>    <th>                     </th>              <td> </td>    \n",
       "</tr>\n",
       "</table>\n",
       "<table class=\"simpletable\">\n",
       "<tr>\n",
       "   <td></td>     <th>coef</th>     <th>std err</th>      <th>t</th>      <th>P>|t|</th>  <th>[0.025</th>    <th>0.975]</th>  \n",
       "</tr>\n",
       "<tr>\n",
       "  <th>x1</th> <td>    2.6640</td> <td>    0.033</td> <td>   81.948</td> <td> 0.000</td> <td>    2.600</td> <td>    2.728</td>\n",
       "</tr>\n",
       "<tr>\n",
       "  <th>x2</th> <td>    5.0702</td> <td>    0.046</td> <td>  109.391</td> <td> 0.000</td> <td>    4.979</td> <td>    5.161</td>\n",
       "</tr>\n",
       "</table>\n",
       "<table class=\"simpletable\">\n",
       "<tr>\n",
       "  <th>Omnibus:</th>       <td> 1.447</td> <th>  Durbin-Watson:     </th> <td>   2.039</td>\n",
       "</tr>\n",
       "<tr>\n",
       "  <th>Prob(Omnibus):</th> <td> 0.485</td> <th>  Jarque-Bera (JB):  </th> <td>   1.452</td>\n",
       "</tr>\n",
       "<tr>\n",
       "  <th>Skew:</th>          <td>-0.093</td> <th>  Prob(JB):          </th> <td>   0.484</td>\n",
       "</tr>\n",
       "<tr>\n",
       "  <th>Kurtosis:</th>      <td> 2.977</td> <th>  Cond. No.          </th> <td>    1.49</td>\n",
       "</tr>\n",
       "</table><br/><br/>Notes:<br/>[1] R² is computed without centering (uncentered) since the model does not contain a constant.<br/>[2] Standard Errors assume that the covariance matrix of the errors is correctly specified."
      ],
      "text/plain": [
       "<class 'statsmodels.iolib.summary.Summary'>\n",
       "\"\"\"\n",
       "                                 OLS Regression Results                                \n",
       "=======================================================================================\n",
       "Dep. Variable:                      y   R-squared (uncentered):                   0.958\n",
       "Model:                            OLS   Adj. R-squared (uncentered):              0.958\n",
       "Method:                 Least Squares   F-statistic:                          1.135e+04\n",
       "Date:                Thu, 28 Jul 2022   Prob (F-statistic):                        0.00\n",
       "Time:                        13:53:05   Log-Likelihood:                         -1438.9\n",
       "No. Observations:                1000   AIC:                                      2882.\n",
       "Df Residuals:                     998   BIC:                                      2892.\n",
       "Df Model:                           2                                                  \n",
       "Covariance Type:            nonrobust                                                  \n",
       "==============================================================================\n",
       "                 coef    std err          t      P>|t|      [0.025      0.975]\n",
       "------------------------------------------------------------------------------\n",
       "x1             2.6640      0.033     81.948      0.000       2.600       2.728\n",
       "x2             5.0702      0.046    109.391      0.000       4.979       5.161\n",
       "==============================================================================\n",
       "Omnibus:                        1.447   Durbin-Watson:                   2.039\n",
       "Prob(Omnibus):                  0.485   Jarque-Bera (JB):                1.452\n",
       "Skew:                          -0.093   Prob(JB):                        0.484\n",
       "Kurtosis:                       2.977   Cond. No.                         1.49\n",
       "==============================================================================\n",
       "\n",
       "Notes:\n",
       "[1] R² is computed without centering (uncentered) since the model does not contain a constant.\n",
       "[2] Standard Errors assume that the covariance matrix of the errors is correctly specified.\n",
       "\"\"\""
      ]
     },
     "execution_count": 10,
     "metadata": {},
     "output_type": "execute_result"
    }
   ],
   "source": [
    "model = OLS(np.asarray(df[outcome]), np.asarray(df[[common_cause, treatment]], dtype=np.float64))\n",
    "result = model.fit()\n",
    "result.summary()"
   ]
  }
 ],
 "metadata": {
  "kernelspec": {
   "display_name": "Python 3",
   "language": "python",
   "name": "python3"
  },
  "language_info": {
   "codemirror_mode": {
    "name": "ipython",
    "version": 3
   },
   "file_extension": ".py",
   "mimetype": "text/x-python",
   "name": "python",
   "nbconvert_exporter": "python",
   "pygments_lexer": "ipython3",
   "version": "3.8.10"
  },
  "toc": {
   "base_numbering": 1,
   "nav_menu": {},
   "number_sections": false,
   "sideBar": true,
   "skip_h1_title": true,
   "title_cell": "Table of Contents",
   "title_sidebar": "Contents",
   "toc_cell": false,
   "toc_position": {},
   "toc_section_display": true,
   "toc_window_display": false
  }
 },
 "nbformat": 4,
 "nbformat_minor": 4
}
