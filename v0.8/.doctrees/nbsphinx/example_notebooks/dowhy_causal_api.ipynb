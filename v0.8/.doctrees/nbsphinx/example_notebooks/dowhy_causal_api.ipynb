{
 "cells": [
  {
   "cell_type": "markdown",
   "metadata": {},
   "source": [
    "# Demo for the DoWhy causal API\n",
    "We show a simple example of adding a causal extension to any dataframe. "
   ]
  },
  {
   "cell_type": "code",
   "execution_count": 1,
   "metadata": {
    "execution": {
     "iopub.execute_input": "2022-09-02T09:41:17.311772Z",
     "iopub.status.busy": "2022-09-02T09:41:17.311281Z",
     "iopub.status.idle": "2022-09-02T09:41:18.871292Z",
     "shell.execute_reply": "2022-09-02T09:41:18.869778Z"
    }
   },
   "outputs": [],
   "source": [
    "import dowhy.datasets\n",
    "import dowhy.api\n",
    "\n",
    "import numpy as np\n",
    "import pandas as pd\n",
    "\n",
    "from statsmodels.api import OLS"
   ]
  },
  {
   "cell_type": "code",
   "execution_count": 2,
   "metadata": {
    "execution": {
     "iopub.execute_input": "2022-09-02T09:41:18.876531Z",
     "iopub.status.busy": "2022-09-02T09:41:18.875887Z",
     "iopub.status.idle": "2022-09-02T09:41:18.932661Z",
     "shell.execute_reply": "2022-09-02T09:41:18.931602Z"
    }
   },
   "outputs": [
    {
     "data": {
      "text/html": [
       "<div>\n",
       "<style scoped>\n",
       "    .dataframe tbody tr th:only-of-type {\n",
       "        vertical-align: middle;\n",
       "    }\n",
       "\n",
       "    .dataframe tbody tr th {\n",
       "        vertical-align: top;\n",
       "    }\n",
       "\n",
       "    .dataframe thead th {\n",
       "        text-align: right;\n",
       "    }\n",
       "</style>\n",
       "<table border=\"1\" class=\"dataframe\">\n",
       "  <thead>\n",
       "    <tr style=\"text-align: right;\">\n",
       "      <th></th>\n",
       "      <th>W0</th>\n",
       "      <th>v0</th>\n",
       "      <th>y</th>\n",
       "    </tr>\n",
       "  </thead>\n",
       "  <tbody>\n",
       "    <tr>\n",
       "      <th>0</th>\n",
       "      <td>-0.185891</td>\n",
       "      <td>True</td>\n",
       "      <td>4.242793</td>\n",
       "    </tr>\n",
       "    <tr>\n",
       "      <th>1</th>\n",
       "      <td>0.582213</td>\n",
       "      <td>False</td>\n",
       "      <td>3.464016</td>\n",
       "    </tr>\n",
       "    <tr>\n",
       "      <th>2</th>\n",
       "      <td>1.363114</td>\n",
       "      <td>False</td>\n",
       "      <td>3.662493</td>\n",
       "    </tr>\n",
       "    <tr>\n",
       "      <th>3</th>\n",
       "      <td>-1.019266</td>\n",
       "      <td>True</td>\n",
       "      <td>3.403171</td>\n",
       "    </tr>\n",
       "    <tr>\n",
       "      <th>4</th>\n",
       "      <td>0.681019</td>\n",
       "      <td>True</td>\n",
       "      <td>8.409808</td>\n",
       "    </tr>\n",
       "    <tr>\n",
       "      <th>...</th>\n",
       "      <td>...</td>\n",
       "      <td>...</td>\n",
       "      <td>...</td>\n",
       "    </tr>\n",
       "    <tr>\n",
       "      <th>995</th>\n",
       "      <td>-0.220522</td>\n",
       "      <td>True</td>\n",
       "      <td>5.022421</td>\n",
       "    </tr>\n",
       "    <tr>\n",
       "      <th>996</th>\n",
       "      <td>0.340400</td>\n",
       "      <td>False</td>\n",
       "      <td>1.319468</td>\n",
       "    </tr>\n",
       "    <tr>\n",
       "      <th>997</th>\n",
       "      <td>0.898718</td>\n",
       "      <td>True</td>\n",
       "      <td>7.132420</td>\n",
       "    </tr>\n",
       "    <tr>\n",
       "      <th>998</th>\n",
       "      <td>1.245058</td>\n",
       "      <td>False</td>\n",
       "      <td>4.040012</td>\n",
       "    </tr>\n",
       "    <tr>\n",
       "      <th>999</th>\n",
       "      <td>1.291149</td>\n",
       "      <td>True</td>\n",
       "      <td>7.909666</td>\n",
       "    </tr>\n",
       "  </tbody>\n",
       "</table>\n",
       "<p>1000 rows × 3 columns</p>\n",
       "</div>"
      ],
      "text/plain": [
       "           W0     v0         y\n",
       "0   -0.185891   True  4.242793\n",
       "1    0.582213  False  3.464016\n",
       "2    1.363114  False  3.662493\n",
       "3   -1.019266   True  3.403171\n",
       "4    0.681019   True  8.409808\n",
       "..        ...    ...       ...\n",
       "995 -0.220522   True  5.022421\n",
       "996  0.340400  False  1.319468\n",
       "997  0.898718   True  7.132420\n",
       "998  1.245058  False  4.040012\n",
       "999  1.291149   True  7.909666\n",
       "\n",
       "[1000 rows x 3 columns]"
      ]
     },
     "execution_count": 2,
     "metadata": {},
     "output_type": "execute_result"
    }
   ],
   "source": [
    "data = dowhy.datasets.linear_dataset(beta=5,\n",
    "        num_common_causes=1,\n",
    "        num_instruments = 0,\n",
    "        num_samples=1000,\n",
    "        treatment_is_binary=True)\n",
    "df = data['df']\n",
    "df['y'] = df['y'] + np.random.normal(size=len(df)) # Adding noise to data. Without noise, the variance in Y|X, Z is zero, and mcmc fails.\n",
    "#data['dot_graph'] = 'digraph { v ->y;X0-> v;X0-> y;}'\n",
    "\n",
    "treatment= data[\"treatment_name\"][0]\n",
    "outcome = data[\"outcome_name\"][0]\n",
    "common_cause = data[\"common_causes_names\"][0]\n",
    "df"
   ]
  },
  {
   "cell_type": "code",
   "execution_count": 3,
   "metadata": {
    "execution": {
     "iopub.execute_input": "2022-09-02T09:41:18.937127Z",
     "iopub.status.busy": "2022-09-02T09:41:18.936290Z",
     "iopub.status.idle": "2022-09-02T09:41:19.908327Z",
     "shell.execute_reply": "2022-09-02T09:41:19.907501Z"
    }
   },
   "outputs": [
    {
     "data": {
      "text/plain": [
       "<AxesSubplot:xlabel='v0'>"
      ]
     },
     "execution_count": 3,
     "metadata": {},
     "output_type": "execute_result"
    },
    {
     "data": {
      "image/png": "[encoded data removed]",
      "text/plain": [
       "<Figure size 640x480 with 1 Axes>"
      ]
     },
     "metadata": {},
     "output_type": "display_data"
    }
   ],
   "source": [
    "# data['df'] is just a regular pandas.DataFrame\n",
    "df.causal.do(x=treatment,\n",
    "                     variable_types={treatment: 'b', outcome: 'c', common_cause: 'c'},\n",
    "                     outcome=outcome,\n",
    "                     common_causes=[common_cause],\n",
    "                     proceed_when_unidentifiable=True).groupby(treatment).mean().plot(y=outcome, kind='bar')"
   ]
  },
  {
   "cell_type": "code",
   "execution_count": 4,
   "metadata": {
    "execution": {
     "iopub.execute_input": "2022-09-02T09:41:19.915436Z",
     "iopub.status.busy": "2022-09-02T09:41:19.913408Z",
     "iopub.status.idle": "2022-09-02T09:41:20.096020Z",
     "shell.execute_reply": "2022-09-02T09:41:20.095316Z"
    }
   },
   "outputs": [
    {
     "data": {
      "text/plain": [
       "<AxesSubplot:xlabel='v0'>"
      ]
     },
     "execution_count": 4,
     "metadata": {},
     "output_type": "execute_result"
    },
    {
     "data": {
      "image/png": "[encoded data removed]",
      "text/plain": [
       "<Figure size 640x480 with 1 Axes>"
      ]
     },
     "metadata": {},
     "output_type": "display_data"
    }
   ],
   "source": [
    "df.causal.do(x={treatment: 1}, \n",
    "              variable_types={treatment:'b', outcome: 'c', common_cause: 'c'}, \n",
    "              outcome=outcome,\n",
    "              method='weighting', \n",
    "              common_causes=[common_cause],\n",
    "              proceed_when_unidentifiable=True).groupby(treatment).mean().plot(y=outcome, kind='bar')"
   ]
  },
  {
   "cell_type": "code",
   "execution_count": 5,
   "metadata": {
    "execution": {
     "iopub.execute_input": "2022-09-02T09:41:20.100583Z",
     "iopub.status.busy": "2022-09-02T09:41:20.100274Z",
     "iopub.status.idle": "2022-09-02T09:41:20.140301Z",
     "shell.execute_reply": "2022-09-02T09:41:20.139431Z"
    }
   },
   "outputs": [],
   "source": [
    "cdf_1 = df.causal.do(x={treatment: 1}, \n",
    "              variable_types={treatment: 'b', outcome: 'c', common_cause: 'c'}, \n",
    "              outcome=outcome, \n",
    "              dot_graph=data['dot_graph'],\n",
    "              proceed_when_unidentifiable=True)\n",
    "\n",
    "cdf_0 = df.causal.do(x={treatment: 0}, \n",
    "              variable_types={treatment: 'b', outcome: 'c', common_cause: 'c'}, \n",
    "              outcome=outcome, \n",
    "              dot_graph=data['dot_graph'],\n",
    "              proceed_when_unidentifiable=True)\n"
   ]
  },
  {
   "cell_type": "code",
   "execution_count": 6,
   "metadata": {
    "execution": {
     "iopub.execute_input": "2022-09-02T09:41:20.144658Z",
     "iopub.status.busy": "2022-09-02T09:41:20.144038Z",
     "iopub.status.idle": "2022-09-02T09:41:20.158785Z",
     "shell.execute_reply": "2022-09-02T09:41:20.157930Z"
    },
    "scrolled": true
   },
   "outputs": [
    {
     "data": {
      "text/html": [
       "<div>\n",
       "<style scoped>\n",
       "    .dataframe tbody tr th:only-of-type {\n",
       "        vertical-align: middle;\n",
       "    }\n",
       "\n",
       "    .dataframe tbody tr th {\n",
       "        vertical-align: top;\n",
       "    }\n",
       "\n",
       "    .dataframe thead th {\n",
       "        text-align: right;\n",
       "    }\n",
       "</style>\n",
       "<table border=\"1\" class=\"dataframe\">\n",
       "  <thead>\n",
       "    <tr style=\"text-align: right;\">\n",
       "      <th></th>\n",
       "      <th>W0</th>\n",
       "      <th>v0</th>\n",
       "      <th>y</th>\n",
       "      <th>propensity_score</th>\n",
       "      <th>weight</th>\n",
       "    </tr>\n",
       "  </thead>\n",
       "  <tbody>\n",
       "    <tr>\n",
       "      <th>0</th>\n",
       "      <td>0.779295</td>\n",
       "      <td>False</td>\n",
       "      <td>2.065995</td>\n",
       "      <td>0.437917</td>\n",
       "      <td>2.283538</td>\n",
       "    </tr>\n",
       "    <tr>\n",
       "      <th>1</th>\n",
       "      <td>-0.112841</td>\n",
       "      <td>False</td>\n",
       "      <td>-1.440664</td>\n",
       "      <td>0.497885</td>\n",
       "      <td>2.008497</td>\n",
       "    </tr>\n",
       "    <tr>\n",
       "      <th>2</th>\n",
       "      <td>1.245058</td>\n",
       "      <td>False</td>\n",
       "      <td>4.040012</td>\n",
       "      <td>0.407207</td>\n",
       "      <td>2.455753</td>\n",
       "    </tr>\n",
       "    <tr>\n",
       "      <th>3</th>\n",
       "      <td>-1.885324</td>\n",
       "      <td>False</td>\n",
       "      <td>-4.766155</td>\n",
       "      <td>0.615542</td>\n",
       "      <td>1.624584</td>\n",
       "    </tr>\n",
       "    <tr>\n",
       "      <th>4</th>\n",
       "      <td>0.274947</td>\n",
       "      <td>False</td>\n",
       "      <td>0.029156</td>\n",
       "      <td>0.471709</td>\n",
       "      <td>2.119953</td>\n",
       "    </tr>\n",
       "    <tr>\n",
       "      <th>...</th>\n",
       "      <td>...</td>\n",
       "      <td>...</td>\n",
       "      <td>...</td>\n",
       "      <td>...</td>\n",
       "      <td>...</td>\n",
       "    </tr>\n",
       "    <tr>\n",
       "      <th>995</th>\n",
       "      <td>1.245058</td>\n",
       "      <td>False</td>\n",
       "      <td>4.040012</td>\n",
       "      <td>0.407207</td>\n",
       "      <td>2.455753</td>\n",
       "    </tr>\n",
       "    <tr>\n",
       "      <th>996</th>\n",
       "      <td>1.113786</td>\n",
       "      <td>False</td>\n",
       "      <td>2.542085</td>\n",
       "      <td>0.415800</td>\n",
       "      <td>2.405001</td>\n",
       "    </tr>\n",
       "    <tr>\n",
       "      <th>997</th>\n",
       "      <td>0.944141</td>\n",
       "      <td>False</td>\n",
       "      <td>1.644084</td>\n",
       "      <td>0.426981</td>\n",
       "      <td>2.342026</td>\n",
       "    </tr>\n",
       "    <tr>\n",
       "      <th>998</th>\n",
       "      <td>0.348456</td>\n",
       "      <td>False</td>\n",
       "      <td>2.214265</td>\n",
       "      <td>0.466760</td>\n",
       "      <td>2.142430</td>\n",
       "    </tr>\n",
       "    <tr>\n",
       "      <th>999</th>\n",
       "      <td>-1.528316</td>\n",
       "      <td>False</td>\n",
       "      <td>-4.037703</td>\n",
       "      <td>0.592465</td>\n",
       "      <td>1.687864</td>\n",
       "    </tr>\n",
       "  </tbody>\n",
       "</table>\n",
       "<p>1000 rows × 5 columns</p>\n",
       "</div>"
      ],
      "text/plain": [
       "           W0     v0         y  propensity_score    weight\n",
       "0    0.779295  False  2.065995          0.437917  2.283538\n",
       "1   -0.112841  False -1.440664          0.497885  2.008497\n",
       "2    1.245058  False  4.040012          0.407207  2.455753\n",
       "3   -1.885324  False -4.766155          0.615542  1.624584\n",
       "4    0.274947  False  0.029156          0.471709  2.119953\n",
       "..        ...    ...       ...               ...       ...\n",
       "995  1.245058  False  4.040012          0.407207  2.455753\n",
       "996  1.113786  False  2.542085          0.415800  2.405001\n",
       "997  0.944141  False  1.644084          0.426981  2.342026\n",
       "998  0.348456  False  2.214265          0.466760  2.142430\n",
       "999 -1.528316  False -4.037703          0.592465  1.687864\n",
       "\n",
       "[1000 rows x 5 columns]"
      ]
     },
     "execution_count": 6,
     "metadata": {},
     "output_type": "execute_result"
    }
   ],
   "source": [
    "cdf_0"
   ]
  },
  {
   "cell_type": "code",
   "execution_count": 7,
   "metadata": {
    "execution": {
     "iopub.execute_input": "2022-09-02T09:41:20.162217Z",
     "iopub.status.busy": "2022-09-02T09:41:20.161916Z",
     "iopub.status.idle": "2022-09-02T09:41:20.175203Z",
     "shell.execute_reply": "2022-09-02T09:41:20.174355Z"
    }
   },
   "outputs": [
    {
     "data": {
      "text/html": [
       "<div>\n",
       "<style scoped>\n",
       "    .dataframe tbody tr th:only-of-type {\n",
       "        vertical-align: middle;\n",
       "    }\n",
       "\n",
       "    .dataframe tbody tr th {\n",
       "        vertical-align: top;\n",
       "    }\n",
       "\n",
       "    .dataframe thead th {\n",
       "        text-align: right;\n",
       "    }\n",
       "</style>\n",
       "<table border=\"1\" class=\"dataframe\">\n",
       "  <thead>\n",
       "    <tr style=\"text-align: right;\">\n",
       "      <th></th>\n",
       "      <th>W0</th>\n",
       "      <th>v0</th>\n",
       "      <th>y</th>\n",
       "      <th>propensity_score</th>\n",
       "      <th>weight</th>\n",
       "    </tr>\n",
       "  </thead>\n",
       "  <tbody>\n",
       "    <tr>\n",
       "      <th>0</th>\n",
       "      <td>-0.885176</td>\n",
       "      <td>True</td>\n",
       "      <td>4.039159</td>\n",
       "      <td>0.450088</td>\n",
       "      <td>2.221786</td>\n",
       "    </tr>\n",
       "    <tr>\n",
       "      <th>1</th>\n",
       "      <td>1.824535</td>\n",
       "      <td>True</td>\n",
       "      <td>11.232219</td>\n",
       "      <td>0.629988</td>\n",
       "      <td>1.587332</td>\n",
       "    </tr>\n",
       "    <tr>\n",
       "      <th>2</th>\n",
       "      <td>0.121790</td>\n",
       "      <td>True</td>\n",
       "      <td>6.155407</td>\n",
       "      <td>0.517964</td>\n",
       "      <td>1.930637</td>\n",
       "    </tr>\n",
       "    <tr>\n",
       "      <th>3</th>\n",
       "      <td>-1.578728</td>\n",
       "      <td>True</td>\n",
       "      <td>1.945860</td>\n",
       "      <td>0.404249</td>\n",
       "      <td>2.473723</td>\n",
       "    </tr>\n",
       "    <tr>\n",
       "      <th>4</th>\n",
       "      <td>0.657885</td>\n",
       "      <td>True</td>\n",
       "      <td>6.884846</td>\n",
       "      <td>0.553989</td>\n",
       "      <td>1.805090</td>\n",
       "    </tr>\n",
       "    <tr>\n",
       "      <th>...</th>\n",
       "      <td>...</td>\n",
       "      <td>...</td>\n",
       "      <td>...</td>\n",
       "      <td>...</td>\n",
       "      <td>...</td>\n",
       "    </tr>\n",
       "    <tr>\n",
       "      <th>995</th>\n",
       "      <td>-0.799504</td>\n",
       "      <td>True</td>\n",
       "      <td>2.901983</td>\n",
       "      <td>0.455827</td>\n",
       "      <td>2.193816</td>\n",
       "    </tr>\n",
       "    <tr>\n",
       "      <th>996</th>\n",
       "      <td>-0.593804</td>\n",
       "      <td>True</td>\n",
       "      <td>2.709222</td>\n",
       "      <td>0.469650</td>\n",
       "      <td>2.129247</td>\n",
       "    </tr>\n",
       "    <tr>\n",
       "      <th>997</th>\n",
       "      <td>0.828322</td>\n",
       "      <td>True</td>\n",
       "      <td>8.555488</td>\n",
       "      <td>0.565342</td>\n",
       "      <td>1.768840</td>\n",
       "    </tr>\n",
       "    <tr>\n",
       "      <th>998</th>\n",
       "      <td>0.898718</td>\n",
       "      <td>True</td>\n",
       "      <td>7.132420</td>\n",
       "      <td>0.570012</td>\n",
       "      <td>1.754348</td>\n",
       "    </tr>\n",
       "    <tr>\n",
       "      <th>999</th>\n",
       "      <td>1.521427</td>\n",
       "      <td>True</td>\n",
       "      <td>10.335768</td>\n",
       "      <td>0.610694</td>\n",
       "      <td>1.637481</td>\n",
       "    </tr>\n",
       "  </tbody>\n",
       "</table>\n",
       "<p>1000 rows × 5 columns</p>\n",
       "</div>"
      ],
      "text/plain": [
       "           W0    v0          y  propensity_score    weight\n",
       "0   -0.885176  True   4.039159          0.450088  2.221786\n",
       "1    1.824535  True  11.232219          0.629988  1.587332\n",
       "2    0.121790  True   6.155407          0.517964  1.930637\n",
       "3   -1.578728  True   1.945860          0.404249  2.473723\n",
       "4    0.657885  True   6.884846          0.553989  1.805090\n",
       "..        ...   ...        ...               ...       ...\n",
       "995 -0.799504  True   2.901983          0.455827  2.193816\n",
       "996 -0.593804  True   2.709222          0.469650  2.129247\n",
       "997  0.828322  True   8.555488          0.565342  1.768840\n",
       "998  0.898718  True   7.132420          0.570012  1.754348\n",
       "999  1.521427  True  10.335768          0.610694  1.637481\n",
       "\n",
       "[1000 rows x 5 columns]"
      ]
     },
     "execution_count": 7,
     "metadata": {},
     "output_type": "execute_result"
    }
   ],
   "source": [
    "cdf_1"
   ]
  },
  {
   "cell_type": "markdown",
   "metadata": {},
   "source": [
    "## Comparing the estimate to Linear Regression\n",
    "First, estimating the effect using the causal data frame, and the 95% confidence interval."
   ]
  },
  {
   "cell_type": "code",
   "execution_count": 8,
   "metadata": {
    "execution": {
     "iopub.execute_input": "2022-09-02T09:41:20.179643Z",
     "iopub.status.busy": "2022-09-02T09:41:20.178842Z",
     "iopub.status.idle": "2022-09-02T09:41:20.303405Z",
     "shell.execute_reply": "2022-09-02T09:41:20.302537Z"
    }
   },
   "outputs": [
    {
     "data": {
      "image/png": "[encoded data removed]",
      "text/latex": [
       "$\\displaystyle 5.10754828393764$"
      ],
      "text/plain": [
       "5.107548283937642"
      ]
     },
     "execution_count": 8,
     "metadata": {},
     "output_type": "execute_result"
    }
   ],
   "source": [
    "(cdf_1['y'] - cdf_0['y']).mean()"
   ]
  },
  {
   "cell_type": "code",
   "execution_count": 9,
   "metadata": {
    "execution": {
     "iopub.execute_input": "2022-09-02T09:41:20.307584Z",
     "iopub.status.busy": "2022-09-02T09:41:20.307172Z",
     "iopub.status.idle": "2022-09-02T09:41:20.340442Z",
     "shell.execute_reply": "2022-09-02T09:41:20.339558Z"
    }
   },
   "outputs": [
    {
     "data": {
      "image/png": "[encoded data removed]",
      "text/latex": [
       "$\\displaystyle 0.248237531154551$"
      ],
      "text/plain": [
       "0.248237531154551"
      ]
     },
     "execution_count": 9,
     "metadata": {},
     "output_type": "execute_result"
    }
   ],
   "source": [
    "1.96*(cdf_1['y'] - cdf_0['y']).std() / np.sqrt(len(df))"
   ]
  },
  {
   "cell_type": "markdown",
   "metadata": {},
   "source": [
    "Comparing to the estimate from OLS."
   ]
  },
  {
   "cell_type": "code",
   "execution_count": 10,
   "metadata": {
    "execution": {
     "iopub.execute_input": "2022-09-02T09:41:20.344405Z",
     "iopub.status.busy": "2022-09-02T09:41:20.343681Z",
     "iopub.status.idle": "2022-09-02T09:41:20.366381Z",
     "shell.execute_reply": "2022-09-02T09:41:20.365616Z"
    }
   },
   "outputs": [
    {
     "data": {
      "text/html": [
       "<table class=\"simpletable\">\n",
       "<caption>OLS Regression Results</caption>\n",
       "<tr>\n",
       "  <th>Dep. Variable:</th>            <td>y</td>        <th>  R-squared (uncentered):</th>      <td>   0.961</td> \n",
       "</tr>\n",
       "<tr>\n",
       "  <th>Model:</th>                   <td>OLS</td>       <th>  Adj. R-squared (uncentered):</th> <td>   0.961</td> \n",
       "</tr>\n",
       "<tr>\n",
       "  <th>Method:</th>             <td>Least Squares</td>  <th>  F-statistic:       </th>          <td>1.234e+04</td>\n",
       "</tr>\n",
       "<tr>\n",
       "  <th>Date:</th>             <td>Fri, 02 Sep 2022</td> <th>  Prob (F-statistic):</th>           <td>  0.00</td>  \n",
       "</tr>\n",
       "<tr>\n",
       "  <th>Time:</th>                 <td>09:41:20</td>     <th>  Log-Likelihood:    </th>          <td> -1444.0</td> \n",
       "</tr>\n",
       "<tr>\n",
       "  <th>No. Observations:</th>      <td>  1000</td>      <th>  AIC:               </th>          <td>   2892.</td> \n",
       "</tr>\n",
       "<tr>\n",
       "  <th>Df Residuals:</th>          <td>   998</td>      <th>  BIC:               </th>          <td>   2902.</td> \n",
       "</tr>\n",
       "<tr>\n",
       "  <th>Df Model:</th>              <td>     2</td>      <th>                     </th>              <td> </td>    \n",
       "</tr>\n",
       "<tr>\n",
       "  <th>Covariance Type:</th>      <td>nonrobust</td>    <th>                     </th>              <td> </td>    \n",
       "</tr>\n",
       "</table>\n",
       "<table class=\"simpletable\">\n",
       "<tr>\n",
       "   <td></td>     <th>coef</th>     <th>std err</th>      <th>t</th>      <th>P>|t|</th>  <th>[0.025</th>    <th>0.975]</th>  \n",
       "</tr>\n",
       "<tr>\n",
       "  <th>x1</th> <td>    2.7057</td> <td>    0.033</td> <td>   82.877</td> <td> 0.000</td> <td>    2.642</td> <td>    2.770</td>\n",
       "</tr>\n",
       "<tr>\n",
       "  <th>x2</th> <td>    4.9575</td> <td>    0.046</td> <td>  106.857</td> <td> 0.000</td> <td>    4.866</td> <td>    5.048</td>\n",
       "</tr>\n",
       "</table>\n",
       "<table class=\"simpletable\">\n",
       "<tr>\n",
       "  <th>Omnibus:</th>       <td> 0.209</td> <th>  Durbin-Watson:     </th> <td>   2.000</td>\n",
       "</tr>\n",
       "<tr>\n",
       "  <th>Prob(Omnibus):</th> <td> 0.901</td> <th>  Jarque-Bera (JB):  </th> <td>   0.146</td>\n",
       "</tr>\n",
       "<tr>\n",
       "  <th>Skew:</th>          <td> 0.024</td> <th>  Prob(JB):          </th> <td>   0.930</td>\n",
       "</tr>\n",
       "<tr>\n",
       "  <th>Kurtosis:</th>      <td> 3.034</td> <th>  Cond. No.          </th> <td>    1.56</td>\n",
       "</tr>\n",
       "</table><br/><br/>Notes:<br/>[1] R² is computed without centering (uncentered) since the model does not contain a constant.<br/>[2] Standard Errors assume that the covariance matrix of the errors is correctly specified."
      ],
      "text/plain": [
       "<class 'statsmodels.iolib.summary.Summary'>\n",
       "\"\"\"\n",
       "                                 OLS Regression Results                                \n",
       "=======================================================================================\n",
       "Dep. Variable:                      y   R-squared (uncentered):                   0.961\n",
       "Model:                            OLS   Adj. R-squared (uncentered):              0.961\n",
       "Method:                 Least Squares   F-statistic:                          1.234e+04\n",
       "Date:                Fri, 02 Sep 2022   Prob (F-statistic):                        0.00\n",
       "Time:                        09:41:20   Log-Likelihood:                         -1444.0\n",
       "No. Observations:                1000   AIC:                                      2892.\n",
       "Df Residuals:                     998   BIC:                                      2902.\n",
       "Df Model:                           2                                                  \n",
       "Covariance Type:            nonrobust                                                  \n",
       "==============================================================================\n",
       "                 coef    std err          t      P>|t|      [0.025      0.975]\n",
       "------------------------------------------------------------------------------\n",
       "x1             2.7057      0.033     82.877      0.000       2.642       2.770\n",
       "x2             4.9575      0.046    106.857      0.000       4.866       5.048\n",
       "==============================================================================\n",
       "Omnibus:                        0.209   Durbin-Watson:                   2.000\n",
       "Prob(Omnibus):                  0.901   Jarque-Bera (JB):                0.146\n",
       "Skew:                           0.024   Prob(JB):                        0.930\n",
       "Kurtosis:                       3.034   Cond. No.                         1.56\n",
       "==============================================================================\n",
       "\n",
       "Notes:\n",
       "[1] R² is computed without centering (uncentered) since the model does not contain a constant.\n",
       "[2] Standard Errors assume that the covariance matrix of the errors is correctly specified.\n",
       "\"\"\""
      ]
     },
     "execution_count": 10,
     "metadata": {},
     "output_type": "execute_result"
    }
   ],
   "source": [
    "model = OLS(np.asarray(df[outcome]), np.asarray(df[[common_cause, treatment]], dtype=np.float64))\n",
    "result = model.fit()\n",
    "result.summary()"
   ]
  }
 ],
 "metadata": {
  "kernelspec": {
   "display_name": "Python 3",
   "language": "python",
   "name": "python3"
  },
  "language_info": {
   "codemirror_mode": {
    "name": "ipython",
    "version": 3
   },
   "file_extension": ".py",
   "mimetype": "text/x-python",
   "name": "python",
   "nbconvert_exporter": "python",
   "pygments_lexer": "ipython3",
   "version": "3.8.10"
  },
  "toc": {
   "base_numbering": 1,
   "nav_menu": {},
   "number_sections": false,
   "sideBar": true,
   "skip_h1_title": true,
   "title_cell": "Table of Contents",
   "title_sidebar": "Contents",
   "toc_cell": false,
   "toc_position": {},
   "toc_section_display": true,
   "toc_window_display": false
  }
 },
 "nbformat": 4,
 "nbformat_minor": 4
}
