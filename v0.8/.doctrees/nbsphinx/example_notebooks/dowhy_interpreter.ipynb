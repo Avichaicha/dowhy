{
 "cells": [
  {
   "cell_type": "markdown",
   "id": "6bc793a0",
   "metadata": {},
   "source": [
    "# DoWhy: Interpreters for Causal Estimators\n",
    "\n",
    "This is a quick introduction to the use of interpreters in the DoWhy causal inference library.\n",
    "We will load in a sample dataset, use different methods for estimating the causal effect of a (pre-specified)treatment variable on a (pre-specified) outcome variable and demonstrate how to interpret the obtained results.\n",
    "\n",
    "First, let us add the required path for Python to find the DoWhy code and load all required packages"
   ]
  },
  {
   "cell_type": "code",
   "execution_count": 1,
   "id": "c358fa0a",
   "metadata": {
    "execution": {
     "iopub.execute_input": "2022-08-03T14:00:38.036717Z",
     "iopub.status.busy": "2022-08-03T14:00:38.035971Z",
     "iopub.status.idle": "2022-08-03T14:00:38.058111Z",
     "shell.execute_reply": "2022-08-03T14:00:38.057329Z"
    }
   },
   "outputs": [],
   "source": [
    "%load_ext autoreload\n",
    "%autoreload 2"
   ]
  },
  {
   "cell_type": "code",
   "execution_count": 2,
   "id": "9957f159",
   "metadata": {
    "execution": {
     "iopub.execute_input": "2022-08-03T14:00:38.061945Z",
     "iopub.status.busy": "2022-08-03T14:00:38.061443Z",
     "iopub.status.idle": "2022-08-03T14:00:39.401295Z",
     "shell.execute_reply": "2022-08-03T14:00:39.400240Z"
    }
   },
   "outputs": [
    {
     "name": "stdout",
     "output_type": "stream",
     "text": [
      "keywords are unexpanded, not using\n"
     ]
    }
   ],
   "source": [
    "import numpy as np\n",
    "import pandas as pd\n",
    "import logging\n",
    "\n",
    "import dowhy\n",
    "from dowhy import CausalModel\n",
    "import dowhy.datasets "
   ]
  },
  {
   "cell_type": "markdown",
   "id": "772de072",
   "metadata": {},
   "source": [
    "Now, let us load a dataset. For simplicity, we simulate a dataset with linear relationships between common causes and treatment, and common causes and outcome.\n",
    "\n",
    "Beta is the true causal effect."
   ]
  },
  {
   "cell_type": "code",
   "execution_count": 3,
   "id": "e42e4f76",
   "metadata": {
    "execution": {
     "iopub.execute_input": "2022-08-03T14:00:39.406123Z",
     "iopub.status.busy": "2022-08-03T14:00:39.405219Z",
     "iopub.status.idle": "2022-08-03T14:00:39.832439Z",
     "shell.execute_reply": "2022-08-03T14:00:39.831730Z"
    }
   },
   "outputs": [
    {
     "name": "stdout",
     "output_type": "stream",
     "text": [
      "8201\n"
     ]
    },
    {
     "data": {
      "text/html": [
       "<div>\n",
       "<style scoped>\n",
       "    .dataframe tbody tr th:only-of-type {\n",
       "        vertical-align: middle;\n",
       "    }\n",
       "\n",
       "    .dataframe tbody tr th {\n",
       "        vertical-align: top;\n",
       "    }\n",
       "\n",
       "    .dataframe thead th {\n",
       "        text-align: right;\n",
       "    }\n",
       "</style>\n",
       "<table border=\"1\" class=\"dataframe\">\n",
       "  <thead>\n",
       "    <tr style=\"text-align: right;\">\n",
       "      <th></th>\n",
       "      <th>Z0</th>\n",
       "      <th>Z1</th>\n",
       "      <th>W0</th>\n",
       "      <th>W1</th>\n",
       "      <th>W2</th>\n",
       "      <th>W3</th>\n",
       "      <th>W4</th>\n",
       "      <th>v0</th>\n",
       "      <th>y</th>\n",
       "    </tr>\n",
       "  </thead>\n",
       "  <tbody>\n",
       "    <tr>\n",
       "      <th>0</th>\n",
       "      <td>0.0</td>\n",
       "      <td>0.944587</td>\n",
       "      <td>-0.324096</td>\n",
       "      <td>1.781153</td>\n",
       "      <td>0.374579</td>\n",
       "      <td>0.008091</td>\n",
       "      <td>3</td>\n",
       "      <td>True</td>\n",
       "      <td>3.962819</td>\n",
       "    </tr>\n",
       "    <tr>\n",
       "      <th>1</th>\n",
       "      <td>0.0</td>\n",
       "      <td>0.108811</td>\n",
       "      <td>-1.102586</td>\n",
       "      <td>-0.724973</td>\n",
       "      <td>0.748965</td>\n",
       "      <td>-2.914777</td>\n",
       "      <td>2</td>\n",
       "      <td>True</td>\n",
       "      <td>0.815129</td>\n",
       "    </tr>\n",
       "    <tr>\n",
       "      <th>2</th>\n",
       "      <td>0.0</td>\n",
       "      <td>0.035020</td>\n",
       "      <td>0.154112</td>\n",
       "      <td>-1.456367</td>\n",
       "      <td>0.425859</td>\n",
       "      <td>-0.512330</td>\n",
       "      <td>1</td>\n",
       "      <td>True</td>\n",
       "      <td>1.881669</td>\n",
       "    </tr>\n",
       "    <tr>\n",
       "      <th>3</th>\n",
       "      <td>1.0</td>\n",
       "      <td>0.883834</td>\n",
       "      <td>-1.816497</td>\n",
       "      <td>0.241219</td>\n",
       "      <td>-0.294500</td>\n",
       "      <td>-1.343315</td>\n",
       "      <td>2</td>\n",
       "      <td>True</td>\n",
       "      <td>1.071860</td>\n",
       "    </tr>\n",
       "    <tr>\n",
       "      <th>4</th>\n",
       "      <td>0.0</td>\n",
       "      <td>0.410829</td>\n",
       "      <td>-2.811654</td>\n",
       "      <td>-1.353445</td>\n",
       "      <td>0.673388</td>\n",
       "      <td>-1.799283</td>\n",
       "      <td>2</td>\n",
       "      <td>True</td>\n",
       "      <td>1.138069</td>\n",
       "    </tr>\n",
       "    <tr>\n",
       "      <th>...</th>\n",
       "      <td>...</td>\n",
       "      <td>...</td>\n",
       "      <td>...</td>\n",
       "      <td>...</td>\n",
       "      <td>...</td>\n",
       "      <td>...</td>\n",
       "      <td>...</td>\n",
       "      <td>...</td>\n",
       "      <td>...</td>\n",
       "    </tr>\n",
       "    <tr>\n",
       "      <th>9995</th>\n",
       "      <td>1.0</td>\n",
       "      <td>0.615214</td>\n",
       "      <td>2.673084</td>\n",
       "      <td>0.094087</td>\n",
       "      <td>1.271346</td>\n",
       "      <td>-0.721664</td>\n",
       "      <td>2</td>\n",
       "      <td>True</td>\n",
       "      <td>3.957754</td>\n",
       "    </tr>\n",
       "    <tr>\n",
       "      <th>9996</th>\n",
       "      <td>0.0</td>\n",
       "      <td>0.960093</td>\n",
       "      <td>-0.514157</td>\n",
       "      <td>1.111787</td>\n",
       "      <td>0.912860</td>\n",
       "      <td>1.678371</td>\n",
       "      <td>2</td>\n",
       "      <td>True</td>\n",
       "      <td>4.685712</td>\n",
       "    </tr>\n",
       "    <tr>\n",
       "      <th>9997</th>\n",
       "      <td>1.0</td>\n",
       "      <td>0.716220</td>\n",
       "      <td>0.968174</td>\n",
       "      <td>-0.931431</td>\n",
       "      <td>0.681049</td>\n",
       "      <td>-0.962106</td>\n",
       "      <td>2</td>\n",
       "      <td>True</td>\n",
       "      <td>2.840387</td>\n",
       "    </tr>\n",
       "    <tr>\n",
       "      <th>9998</th>\n",
       "      <td>0.0</td>\n",
       "      <td>0.683789</td>\n",
       "      <td>-0.243391</td>\n",
       "      <td>-1.269788</td>\n",
       "      <td>0.149838</td>\n",
       "      <td>-0.603110</td>\n",
       "      <td>3</td>\n",
       "      <td>True</td>\n",
       "      <td>3.327713</td>\n",
       "    </tr>\n",
       "    <tr>\n",
       "      <th>9999</th>\n",
       "      <td>1.0</td>\n",
       "      <td>0.697079</td>\n",
       "      <td>-1.608493</td>\n",
       "      <td>-0.364577</td>\n",
       "      <td>1.185480</td>\n",
       "      <td>-1.543398</td>\n",
       "      <td>2</td>\n",
       "      <td>True</td>\n",
       "      <td>2.052513</td>\n",
       "    </tr>\n",
       "  </tbody>\n",
       "</table>\n",
       "<p>10000 rows × 9 columns</p>\n",
       "</div>"
      ],
      "text/plain": [
       "       Z0        Z1        W0        W1        W2        W3 W4    v0         y\n",
       "0     0.0  0.944587 -0.324096  1.781153  0.374579  0.008091  3  True  3.962819\n",
       "1     0.0  0.108811 -1.102586 -0.724973  0.748965 -2.914777  2  True  0.815129\n",
       "2     0.0  0.035020  0.154112 -1.456367  0.425859 -0.512330  1  True  1.881669\n",
       "3     1.0  0.883834 -1.816497  0.241219 -0.294500 -1.343315  2  True  1.071860\n",
       "4     0.0  0.410829 -2.811654 -1.353445  0.673388 -1.799283  2  True  1.138069\n",
       "...   ...       ...       ...       ...       ...       ... ..   ...       ...\n",
       "9995  1.0  0.615214  2.673084  0.094087  1.271346 -0.721664  2  True  3.957754\n",
       "9996  0.0  0.960093 -0.514157  1.111787  0.912860  1.678371  2  True  4.685712\n",
       "9997  1.0  0.716220  0.968174 -0.931431  0.681049 -0.962106  2  True  2.840387\n",
       "9998  0.0  0.683789 -0.243391 -1.269788  0.149838 -0.603110  3  True  3.327713\n",
       "9999  1.0  0.697079 -1.608493 -0.364577  1.185480 -1.543398  2  True  2.052513\n",
       "\n",
       "[10000 rows x 9 columns]"
      ]
     },
     "execution_count": 3,
     "metadata": {},
     "output_type": "execute_result"
    }
   ],
   "source": [
    "data = dowhy.datasets.linear_dataset(beta=1,\n",
    "        num_common_causes=5, \n",
    "        num_instruments = 2,\n",
    "        num_treatments=1,\n",
    "        num_discrete_common_causes=1,\n",
    "        num_samples=10000,\n",
    "        treatment_is_binary=True,\n",
    "        outcome_is_binary=False)\n",
    "df = data[\"df\"]\n",
    "print(df[df.v0==True].shape[0])\n",
    "df"
   ]
  },
  {
   "cell_type": "markdown",
   "id": "92c456ef",
   "metadata": {},
   "source": [
    "Note that we are using a pandas dataframe to load the data."
   ]
  },
  {
   "cell_type": "markdown",
   "id": "663b8549",
   "metadata": {},
   "source": [
    "## Identifying the causal estimand"
   ]
  },
  {
   "cell_type": "markdown",
   "id": "6cae2823",
   "metadata": {},
   "source": [
    "We now input a causal graph in the GML graph format."
   ]
  },
  {
   "cell_type": "code",
   "execution_count": 4,
   "id": "849263b5",
   "metadata": {
    "execution": {
     "iopub.execute_input": "2022-08-03T14:00:39.837811Z",
     "iopub.status.busy": "2022-08-03T14:00:39.837336Z",
     "iopub.status.idle": "2022-08-03T14:00:39.869818Z",
     "shell.execute_reply": "2022-08-03T14:00:39.869046Z"
    }
   },
   "outputs": [],
   "source": [
    "# With graph\n",
    "model=CausalModel(\n",
    "        data = df,\n",
    "        treatment=data[\"treatment_name\"],\n",
    "        outcome=data[\"outcome_name\"],\n",
    "        graph=data[\"gml_graph\"],\n",
    "        instruments=data[\"instrument_names\"]\n",
    "        )"
   ]
  },
  {
   "cell_type": "code",
   "execution_count": 5,
   "id": "e831b846",
   "metadata": {
    "execution": {
     "iopub.execute_input": "2022-08-03T14:00:39.874802Z",
     "iopub.status.busy": "2022-08-03T14:00:39.874526Z",
     "iopub.status.idle": "2022-08-03T14:00:39.946922Z",
     "shell.execute_reply": "2022-08-03T14:00:39.946074Z"
    }
   },
   "outputs": [],
   "source": [
    "model.view_model()"
   ]
  },
  {
   "cell_type": "code",
   "execution_count": 6,
   "id": "21a9ea11",
   "metadata": {
    "execution": {
     "iopub.execute_input": "2022-08-03T14:00:39.951681Z",
     "iopub.status.busy": "2022-08-03T14:00:39.951128Z",
     "iopub.status.idle": "2022-08-03T14:00:39.984535Z",
     "shell.execute_reply": "2022-08-03T14:00:39.983608Z"
    }
   },
   "outputs": [
    {
     "data": {
      "image/png": "[encoded data removed]",
      "text/plain": [
       "<IPython.core.display.Image object>"
      ]
     },
     "metadata": {},
     "output_type": "display_data"
    }
   ],
   "source": [
    "from IPython.display import Image, display\n",
    "display(Image(filename=\"causal_model.png\"))"
   ]
  },
  {
   "cell_type": "markdown",
   "id": "c4dedde8",
   "metadata": {},
   "source": [
    "We get a causal graph. Now identification and estimation is done."
   ]
  },
  {
   "cell_type": "code",
   "execution_count": 7,
   "id": "29a478c1",
   "metadata": {
    "execution": {
     "iopub.execute_input": "2022-08-03T14:00:39.988567Z",
     "iopub.status.busy": "2022-08-03T14:00:39.988297Z",
     "iopub.status.idle": "2022-08-03T14:00:40.277773Z",
     "shell.execute_reply": "2022-08-03T14:00:40.276841Z"
    }
   },
   "outputs": [
    {
     "name": "stdout",
     "output_type": "stream",
     "text": [
      "Estimand type: nonparametric-ate\n",
      "\n",
      "### Estimand : 1\n",
      "Estimand name: backdoor\n",
      "Estimand expression:\n",
      "  d                       \n",
      "─────(E[y|W3,W2,W4,W0,W1])\n",
      "d[v₀]                     \n",
      "Estimand assumption 1, Unconfoundedness: If U→{v0} and U→y then P(y|v0,W3,W2,W4,W0,W1,U) = P(y|v0,W3,W2,W4,W0,W1)\n",
      "\n",
      "### Estimand : 2\n",
      "Estimand name: iv\n",
      "Estimand expression:\n",
      " ⎡                              -1⎤\n",
      " ⎢    d        ⎛    d          ⎞  ⎥\n",
      "E⎢─────────(y)⋅⎜─────────([v₀])⎟  ⎥\n",
      " ⎣d[Z₁  Z₀]    ⎝d[Z₁  Z₀]      ⎠  ⎦\n",
      "Estimand assumption 1, As-if-random: If U→→y then ¬(U →→{Z1,Z0})\n",
      "Estimand assumption 2, Exclusion: If we remove {Z1,Z0}→{v0}, then ¬({Z1,Z0}→y)\n",
      "\n",
      "### Estimand : 3\n",
      "Estimand name: frontdoor\n",
      "No such variable(s) found!\n",
      "\n"
     ]
    }
   ],
   "source": [
    "identified_estimand = model.identify_effect(proceed_when_unidentifiable=True)\n",
    "print(identified_estimand)"
   ]
  },
  {
   "cell_type": "markdown",
   "id": "cc852d84",
   "metadata": {},
   "source": [
    "## Method 1: Propensity Score Stratification\n",
    "\n",
    "We will be using propensity scores to stratify units in the data."
   ]
  },
  {
   "cell_type": "code",
   "execution_count": 8,
   "id": "9739dd70",
   "metadata": {
    "execution": {
     "iopub.execute_input": "2022-08-03T14:00:40.282601Z",
     "iopub.status.busy": "2022-08-03T14:00:40.282008Z",
     "iopub.status.idle": "2022-08-03T14:00:41.254091Z",
     "shell.execute_reply": "2022-08-03T14:00:41.253261Z"
    }
   },
   "outputs": [
    {
     "name": "stdout",
     "output_type": "stream",
     "text": [
      "propensity_score_stratification\n"
     ]
    },
    {
     "name": "stderr",
     "output_type": "stream",
     "text": [
      "/usr/local/lib/python3.8/dist-packages/sklearn/utils/validation.py:993: DataConversionWarning: A column-vector y was passed when a 1d array was expected. Please change the shape of y to (n_samples, ), for example using ravel().\n",
      "  y = column_or_1d(y, warn=True)\n"
     ]
    },
    {
     "name": "stdout",
     "output_type": "stream",
     "text": [
      "*** Causal Estimate ***\n",
      "\n",
      "## Identified estimand\n",
      "Estimand type: nonparametric-ate\n",
      "\n",
      "### Estimand : 1\n",
      "Estimand name: backdoor\n",
      "Estimand expression:\n",
      "  d                       \n",
      "─────(E[y|W3,W2,W4,W0,W1])\n",
      "d[v₀]                     \n",
      "Estimand assumption 1, Unconfoundedness: If U→{v0} and U→y then P(y|v0,W3,W2,W4,W0,W1,U) = P(y|v0,W3,W2,W4,W0,W1)\n",
      "\n",
      "## Realized estimand\n",
      "b: y~v0+W3+W2+W4+W0+W1\n",
      "Target units: att\n",
      "\n",
      "## Estimate\n",
      "Mean value: 0.9776221335934366\n",
      "\n",
      "Causal Estimate is 0.9776221335934366\n"
     ]
    }
   ],
   "source": [
    "causal_estimate_strat = model.estimate_effect(identified_estimand,\n",
    "                                              method_name=\"backdoor.propensity_score_stratification\",\n",
    "                                              target_units=\"att\")\n",
    "print(causal_estimate_strat)\n",
    "print(\"Causal Estimate is \" + str(causal_estimate_strat.value))"
   ]
  },
  {
   "cell_type": "markdown",
   "id": "9e92eef1",
   "metadata": {},
   "source": [
    "### Textual Interpreter\n",
    "\n",
    "The textual Interpreter describes (in words) the effect of unit change in the treatment variable on the outcome variable."
   ]
  },
  {
   "cell_type": "code",
   "execution_count": 9,
   "id": "7280843f",
   "metadata": {
    "execution": {
     "iopub.execute_input": "2022-08-03T14:00:41.258281Z",
     "iopub.status.busy": "2022-08-03T14:00:41.257852Z",
     "iopub.status.idle": "2022-08-03T14:00:41.286792Z",
     "shell.execute_reply": "2022-08-03T14:00:41.285925Z"
    }
   },
   "outputs": [
    {
     "name": "stdout",
     "output_type": "stream",
     "text": [
      "Increasing the treatment variable(s) [v0] from 0 to 1 causes an increase of 0.9776221335934366 in the expected value of the outcome [y], over the data distribution/population represented by the dataset.\n"
     ]
    }
   ],
   "source": [
    "# Textual Interpreter\n",
    "interpretation = causal_estimate_strat.interpret(method_name=\"textual_effect_interpreter\")"
   ]
  },
  {
   "cell_type": "markdown",
   "id": "19230595",
   "metadata": {},
   "source": [
    "### Visual Interpreter\n",
    "\n",
    "The visual interpreter plots the change in the standardized mean difference (SMD) before and after Propensity Score based adjustment of the dataset. The formula for SMD is given below.\n",
    "\n",
    "\n",
    "$SMD = \\frac{\\bar X_{1} - \\bar X_{2}}{\\sqrt{(S_{1}^{2} + S_{2}^{2})/2}}$\n",
    "\n",
    "Here, $\\bar X_{1}$ and $\\bar X_{2}$ are the sample mean for the treated and control groups.\n"
   ]
  },
  {
   "cell_type": "code",
   "execution_count": 10,
   "id": "1b0bf22c",
   "metadata": {
    "execution": {
     "iopub.execute_input": "2022-08-03T14:00:41.290275Z",
     "iopub.status.busy": "2022-08-03T14:00:41.289728Z",
     "iopub.status.idle": "2022-08-03T14:00:42.949409Z",
     "shell.execute_reply": "2022-08-03T14:00:42.948523Z"
    }
   },
   "outputs": [
    {
     "data": {
      "image/png": "[encoded data removed]",
      "text/plain": [
       "<Figure size 432x288 with 1 Axes>"
      ]
     },
     "metadata": {
      "needs_background": "light"
     },
     "output_type": "display_data"
    }
   ],
   "source": [
    "# Visual Interpreter\n",
    "interpretation = causal_estimate_strat.interpret(method_name=\"propensity_balance_interpreter\")"
   ]
  },
  {
   "cell_type": "markdown",
   "id": "726557c1",
   "metadata": {},
   "source": [
    "This plot shows how the SMD decreases from the unadjusted to the stratified units. "
   ]
  },
  {
   "cell_type": "markdown",
   "id": "09e05f43",
   "metadata": {},
   "source": [
    "## Method 2: Propensity Score Matching\n",
    "\n",
    "We will be using propensity scores to match units in the data."
   ]
  },
  {
   "cell_type": "code",
   "execution_count": 11,
   "id": "cb0d6b98",
   "metadata": {
    "execution": {
     "iopub.execute_input": "2022-08-03T14:00:42.954576Z",
     "iopub.status.busy": "2022-08-03T14:00:42.953530Z",
     "iopub.status.idle": "2022-08-03T14:00:48.441192Z",
     "shell.execute_reply": "2022-08-03T14:00:48.439530Z"
    }
   },
   "outputs": [
    {
     "name": "stdout",
     "output_type": "stream",
     "text": [
      "propensity_score_matching\n"
     ]
    },
    {
     "name": "stderr",
     "output_type": "stream",
     "text": [
      "/usr/local/lib/python3.8/dist-packages/sklearn/utils/validation.py:993: DataConversionWarning: A column-vector y was passed when a 1d array was expected. Please change the shape of y to (n_samples, ), for example using ravel().\n",
      "  y = column_or_1d(y, warn=True)\n"
     ]
    },
    {
     "name": "stdout",
     "output_type": "stream",
     "text": [
      "*** Causal Estimate ***\n",
      "\n",
      "## Identified estimand\n",
      "Estimand type: nonparametric-ate\n",
      "\n",
      "### Estimand : 1\n",
      "Estimand name: backdoor\n",
      "Estimand expression:\n",
      "  d                       \n",
      "─────(E[y|W3,W2,W4,W0,W1])\n",
      "d[v₀]                     \n",
      "Estimand assumption 1, Unconfoundedness: If U→{v0} and U→y then P(y|v0,W3,W2,W4,W0,W1,U) = P(y|v0,W3,W2,W4,W0,W1)\n",
      "\n",
      "## Realized estimand\n",
      "b: y~v0+W3+W2+W4+W0+W1\n",
      "Target units: atc\n",
      "\n",
      "## Estimate\n",
      "Mean value: 0.9785442789193888\n",
      "\n",
      "Causal Estimate is 0.9785442789193888\n"
     ]
    }
   ],
   "source": [
    "causal_estimate_match = model.estimate_effect(identified_estimand,\n",
    "                                              method_name=\"backdoor.propensity_score_matching\",\n",
    "                                              target_units=\"atc\")\n",
    "print(causal_estimate_match)\n",
    "print(\"Causal Estimate is \" + str(causal_estimate_match.value))"
   ]
  },
  {
   "cell_type": "code",
   "execution_count": 12,
   "id": "70fb3b38",
   "metadata": {
    "execution": {
     "iopub.execute_input": "2022-08-03T14:00:48.446193Z",
     "iopub.status.busy": "2022-08-03T14:00:48.445730Z",
     "iopub.status.idle": "2022-08-03T14:00:48.477950Z",
     "shell.execute_reply": "2022-08-03T14:00:48.477004Z"
    }
   },
   "outputs": [
    {
     "name": "stdout",
     "output_type": "stream",
     "text": [
      "Increasing the treatment variable(s) [v0] from 0 to 1 causes an increase of 0.9785442789193888 in the expected value of the outcome [y], over the data distribution/population represented by the dataset.\n"
     ]
    }
   ],
   "source": [
    "# Textual Interpreter\n",
    "interpretation = causal_estimate_match.interpret(method_name=\"textual_effect_interpreter\")"
   ]
  },
  {
   "cell_type": "markdown",
   "id": "bac119ed",
   "metadata": {},
   "source": [
    "Cannot use propensity balance interpretor here since the interpreter method only supports propensity score stratification estimator."
   ]
  },
  {
   "cell_type": "markdown",
   "id": "58b92efb",
   "metadata": {},
   "source": [
    "## Method 3: Weighting\n",
    "\n",
    "We will be using (inverse) propensity scores to assign weights to units in the data. DoWhy supports a few different weighting schemes:\n",
    "1. Vanilla Inverse Propensity Score weighting (IPS) (weighting_scheme=\"ips_weight\")\n",
    "2. Self-normalized IPS weighting (also known as the Hajek estimator) (weighting_scheme=\"ips_normalized_weight\")\n",
    "3. Stabilized IPS weighting (weighting_scheme = \"ips_stabilized_weight\")"
   ]
  },
  {
   "cell_type": "code",
   "execution_count": 13,
   "id": "109d5727",
   "metadata": {
    "execution": {
     "iopub.execute_input": "2022-08-03T14:00:48.482673Z",
     "iopub.status.busy": "2022-08-03T14:00:48.482395Z",
     "iopub.status.idle": "2022-08-03T14:00:48.570707Z",
     "shell.execute_reply": "2022-08-03T14:00:48.569294Z"
    }
   },
   "outputs": [
    {
     "name": "stdout",
     "output_type": "stream",
     "text": [
      "propensity_score_weighting\n",
      "*** Causal Estimate ***\n",
      "\n",
      "## Identified estimand\n",
      "Estimand type: nonparametric-ate\n",
      "\n",
      "### Estimand : 1\n",
      "Estimand name: backdoor\n",
      "Estimand expression:\n",
      "  d                       \n",
      "─────(E[y|W3,W2,W4,W0,W1])\n",
      "d[v₀]                     \n",
      "Estimand assumption 1, Unconfoundedness: If U→{v0} and U→y then P(y|v0,W3,W2,W4,W0,W1,U) = P(y|v0,W3,W2,W4,W0,W1)\n",
      "\n",
      "## Realized estimand\n",
      "b: y~v0+W3+W2+W4+W0+W1\n",
      "Target units: ate\n",
      "\n",
      "## Estimate\n",
      "Mean value: 1.154753686677926\n",
      "\n",
      "Causal Estimate is 1.154753686677926\n"
     ]
    },
    {
     "name": "stderr",
     "output_type": "stream",
     "text": [
      "/usr/local/lib/python3.8/dist-packages/sklearn/utils/validation.py:993: DataConversionWarning: A column-vector y was passed when a 1d array was expected. Please change the shape of y to (n_samples, ), for example using ravel().\n",
      "  y = column_or_1d(y, warn=True)\n"
     ]
    }
   ],
   "source": [
    "causal_estimate_ipw = model.estimate_effect(identified_estimand,\n",
    "                                            method_name=\"backdoor.propensity_score_weighting\",\n",
    "                                            target_units = \"ate\",\n",
    "                                            method_params={\"weighting_scheme\":\"ips_weight\"})\n",
    "print(causal_estimate_ipw)\n",
    "print(\"Causal Estimate is \" + str(causal_estimate_ipw.value))"
   ]
  },
  {
   "cell_type": "code",
   "execution_count": 14,
   "id": "907a6094",
   "metadata": {
    "execution": {
     "iopub.execute_input": "2022-08-03T14:00:48.574247Z",
     "iopub.status.busy": "2022-08-03T14:00:48.573957Z",
     "iopub.status.idle": "2022-08-03T14:00:48.605790Z",
     "shell.execute_reply": "2022-08-03T14:00:48.605151Z"
    }
   },
   "outputs": [
    {
     "name": "stdout",
     "output_type": "stream",
     "text": [
      "Increasing the treatment variable(s) [v0] from 0 to 1 causes an increase of 1.154753686677926 in the expected value of the outcome [y], over the data distribution/population represented by the dataset.\n"
     ]
    }
   ],
   "source": [
    "# Textual Interpreter\n",
    "interpretation = causal_estimate_ipw.interpret(method_name=\"textual_effect_interpreter\")"
   ]
  },
  {
   "cell_type": "code",
   "execution_count": 15,
   "id": "b5321928",
   "metadata": {
    "execution": {
     "iopub.execute_input": "2022-08-03T14:00:48.609637Z",
     "iopub.status.busy": "2022-08-03T14:00:48.609128Z",
     "iopub.status.idle": "2022-08-03T14:00:48.931631Z",
     "shell.execute_reply": "2022-08-03T14:00:48.930853Z"
    }
   },
   "outputs": [
    {
     "data": {
      "image/png": "[encoded data removed]",
      "text/plain": [
       "<Figure size 576x576 with 2 Axes>"
      ]
     },
     "metadata": {
      "needs_background": "light"
     },
     "output_type": "display_data"
    }
   ],
   "source": [
    "interpretation = causal_estimate_ipw.interpret(method_name=\"confounder_distribution_interpreter\", fig_size=(8,8), font_size=12, var_name='W4', var_type='discrete')"
   ]
  },
  {
   "cell_type": "code",
   "execution_count": null,
   "id": "3bcd5638",
   "metadata": {},
   "outputs": [],
   "source": []
  }
 ],
 "metadata": {
  "kernelspec": {
   "display_name": "Python 3",
   "language": "python",
   "name": "python3"
  },
  "language_info": {
   "codemirror_mode": {
    "name": "ipython",
    "version": 3
   },
   "file_extension": ".py",
   "mimetype": "text/x-python",
   "name": "python",
   "nbconvert_exporter": "python",
   "pygments_lexer": "ipython3",
   "version": "3.8.10"
  },
  "toc": {
   "base_numbering": 1,
   "nav_menu": {},
   "number_sections": false,
   "sideBar": true,
   "skip_h1_title": true,
   "title_cell": "Table of Contents",
   "title_sidebar": "Contents",
   "toc_cell": false,
   "toc_position": {},
   "toc_section_display": true,
   "toc_window_display": false
  }
 },
 "nbformat": 4,
 "nbformat_minor": 5
}
