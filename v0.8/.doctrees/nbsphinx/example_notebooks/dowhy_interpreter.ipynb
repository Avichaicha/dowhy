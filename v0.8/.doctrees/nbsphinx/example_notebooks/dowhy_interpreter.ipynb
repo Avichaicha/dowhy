{
 "cells": [
  {
   "cell_type": "markdown",
   "id": "8cd65e2b",
   "metadata": {},
   "source": [
    "# DoWhy: Interpreters for Causal Estimators\n",
    "\n",
    "This is a quick introduction to the use of interpreters in the DoWhy causal inference library.\n",
    "We will load in a sample dataset, use different methods for estimating the causal effect of a (pre-specified)treatment variable on a (pre-specified) outcome variable and demonstrate how to interpret the obtained results.\n",
    "\n",
    "First, let us add the required path for Python to find the DoWhy code and load all required packages"
   ]
  },
  {
   "cell_type": "code",
   "execution_count": 1,
   "id": "5f112402",
   "metadata": {
    "execution": {
     "iopub.execute_input": "2022-08-01T08:55:24.517508Z",
     "iopub.status.busy": "2022-08-01T08:55:24.517204Z",
     "iopub.status.idle": "2022-08-01T08:55:24.533647Z",
     "shell.execute_reply": "2022-08-01T08:55:24.533061Z"
    }
   },
   "outputs": [],
   "source": [
    "%load_ext autoreload\n",
    "%autoreload 2"
   ]
  },
  {
   "cell_type": "code",
   "execution_count": 2,
   "id": "5bdcc6b7",
   "metadata": {
    "execution": {
     "iopub.execute_input": "2022-08-01T08:55:24.536863Z",
     "iopub.status.busy": "2022-08-01T08:55:24.536430Z",
     "iopub.status.idle": "2022-08-01T08:55:25.583032Z",
     "shell.execute_reply": "2022-08-01T08:55:25.582302Z"
    }
   },
   "outputs": [
    {
     "name": "stdout",
     "output_type": "stream",
     "text": [
      "keywords are unexpanded, not using\n"
     ]
    }
   ],
   "source": [
    "import numpy as np\n",
    "import pandas as pd\n",
    "import logging\n",
    "\n",
    "import dowhy\n",
    "from dowhy import CausalModel\n",
    "import dowhy.datasets "
   ]
  },
  {
   "cell_type": "markdown",
   "id": "c9fa0855",
   "metadata": {},
   "source": [
    "Now, let us load a dataset. For simplicity, we simulate a dataset with linear relationships between common causes and treatment, and common causes and outcome.\n",
    "\n",
    "Beta is the true causal effect."
   ]
  },
  {
   "cell_type": "code",
   "execution_count": 3,
   "id": "1f7ee4d4",
   "metadata": {
    "execution": {
     "iopub.execute_input": "2022-08-01T08:55:25.587068Z",
     "iopub.status.busy": "2022-08-01T08:55:25.586126Z",
     "iopub.status.idle": "2022-08-01T08:55:25.900751Z",
     "shell.execute_reply": "2022-08-01T08:55:25.899816Z"
    }
   },
   "outputs": [
    {
     "name": "stdout",
     "output_type": "stream",
     "text": [
      "9415\n"
     ]
    },
    {
     "data": {
      "text/html": [
       "<div>\n",
       "<style scoped>\n",
       "    .dataframe tbody tr th:only-of-type {\n",
       "        vertical-align: middle;\n",
       "    }\n",
       "\n",
       "    .dataframe tbody tr th {\n",
       "        vertical-align: top;\n",
       "    }\n",
       "\n",
       "    .dataframe thead th {\n",
       "        text-align: right;\n",
       "    }\n",
       "</style>\n",
       "<table border=\"1\" class=\"dataframe\">\n",
       "  <thead>\n",
       "    <tr style=\"text-align: right;\">\n",
       "      <th></th>\n",
       "      <th>Z0</th>\n",
       "      <th>Z1</th>\n",
       "      <th>W0</th>\n",
       "      <th>W1</th>\n",
       "      <th>W2</th>\n",
       "      <th>W3</th>\n",
       "      <th>W4</th>\n",
       "      <th>v0</th>\n",
       "      <th>y</th>\n",
       "    </tr>\n",
       "  </thead>\n",
       "  <tbody>\n",
       "    <tr>\n",
       "      <th>0</th>\n",
       "      <td>1.0</td>\n",
       "      <td>0.027343</td>\n",
       "      <td>1.089351</td>\n",
       "      <td>0.607960</td>\n",
       "      <td>0.833697</td>\n",
       "      <td>-0.297440</td>\n",
       "      <td>3</td>\n",
       "      <td>False</td>\n",
       "      <td>3.708346</td>\n",
       "    </tr>\n",
       "    <tr>\n",
       "      <th>1</th>\n",
       "      <td>1.0</td>\n",
       "      <td>0.318598</td>\n",
       "      <td>2.033458</td>\n",
       "      <td>1.260689</td>\n",
       "      <td>2.448659</td>\n",
       "      <td>-1.303239</td>\n",
       "      <td>0</td>\n",
       "      <td>True</td>\n",
       "      <td>2.876217</td>\n",
       "    </tr>\n",
       "    <tr>\n",
       "      <th>2</th>\n",
       "      <td>1.0</td>\n",
       "      <td>0.963635</td>\n",
       "      <td>0.398684</td>\n",
       "      <td>0.451972</td>\n",
       "      <td>1.259445</td>\n",
       "      <td>-0.985890</td>\n",
       "      <td>2</td>\n",
       "      <td>True</td>\n",
       "      <td>2.887788</td>\n",
       "    </tr>\n",
       "    <tr>\n",
       "      <th>3</th>\n",
       "      <td>1.0</td>\n",
       "      <td>0.756013</td>\n",
       "      <td>2.357946</td>\n",
       "      <td>-0.201871</td>\n",
       "      <td>-0.839494</td>\n",
       "      <td>-1.819536</td>\n",
       "      <td>1</td>\n",
       "      <td>True</td>\n",
       "      <td>1.296608</td>\n",
       "    </tr>\n",
       "    <tr>\n",
       "      <th>4</th>\n",
       "      <td>0.0</td>\n",
       "      <td>0.922462</td>\n",
       "      <td>2.673966</td>\n",
       "      <td>0.976147</td>\n",
       "      <td>1.387662</td>\n",
       "      <td>0.459091</td>\n",
       "      <td>1</td>\n",
       "      <td>True</td>\n",
       "      <td>5.263499</td>\n",
       "    </tr>\n",
       "    <tr>\n",
       "      <th>...</th>\n",
       "      <td>...</td>\n",
       "      <td>...</td>\n",
       "      <td>...</td>\n",
       "      <td>...</td>\n",
       "      <td>...</td>\n",
       "      <td>...</td>\n",
       "      <td>...</td>\n",
       "      <td>...</td>\n",
       "      <td>...</td>\n",
       "    </tr>\n",
       "    <tr>\n",
       "      <th>9995</th>\n",
       "      <td>1.0</td>\n",
       "      <td>0.587886</td>\n",
       "      <td>-0.125504</td>\n",
       "      <td>1.043975</td>\n",
       "      <td>0.337887</td>\n",
       "      <td>-1.097330</td>\n",
       "      <td>1</td>\n",
       "      <td>True</td>\n",
       "      <td>1.169921</td>\n",
       "    </tr>\n",
       "    <tr>\n",
       "      <th>9996</th>\n",
       "      <td>1.0</td>\n",
       "      <td>0.520904</td>\n",
       "      <td>0.902547</td>\n",
       "      <td>0.282366</td>\n",
       "      <td>0.527361</td>\n",
       "      <td>-1.169669</td>\n",
       "      <td>3</td>\n",
       "      <td>True</td>\n",
       "      <td>3.483855</td>\n",
       "    </tr>\n",
       "    <tr>\n",
       "      <th>9997</th>\n",
       "      <td>1.0</td>\n",
       "      <td>0.815193</td>\n",
       "      <td>1.049804</td>\n",
       "      <td>1.368102</td>\n",
       "      <td>1.101031</td>\n",
       "      <td>-1.884083</td>\n",
       "      <td>0</td>\n",
       "      <td>True</td>\n",
       "      <td>0.897693</td>\n",
       "    </tr>\n",
       "    <tr>\n",
       "      <th>9998</th>\n",
       "      <td>1.0</td>\n",
       "      <td>0.790277</td>\n",
       "      <td>1.342756</td>\n",
       "      <td>1.610343</td>\n",
       "      <td>-0.126650</td>\n",
       "      <td>-1.975476</td>\n",
       "      <td>1</td>\n",
       "      <td>True</td>\n",
       "      <td>1.259168</td>\n",
       "    </tr>\n",
       "    <tr>\n",
       "      <th>9999</th>\n",
       "      <td>1.0</td>\n",
       "      <td>0.590242</td>\n",
       "      <td>1.691702</td>\n",
       "      <td>0.341945</td>\n",
       "      <td>-0.708631</td>\n",
       "      <td>0.395841</td>\n",
       "      <td>3</td>\n",
       "      <td>True</td>\n",
       "      <td>4.859647</td>\n",
       "    </tr>\n",
       "  </tbody>\n",
       "</table>\n",
       "<p>10000 rows × 9 columns</p>\n",
       "</div>"
      ],
      "text/plain": [
       "       Z0        Z1        W0        W1        W2        W3 W4     v0  \\\n",
       "0     1.0  0.027343  1.089351  0.607960  0.833697 -0.297440  3  False   \n",
       "1     1.0  0.318598  2.033458  1.260689  2.448659 -1.303239  0   True   \n",
       "2     1.0  0.963635  0.398684  0.451972  1.259445 -0.985890  2   True   \n",
       "3     1.0  0.756013  2.357946 -0.201871 -0.839494 -1.819536  1   True   \n",
       "4     0.0  0.922462  2.673966  0.976147  1.387662  0.459091  1   True   \n",
       "...   ...       ...       ...       ...       ...       ... ..    ...   \n",
       "9995  1.0  0.587886 -0.125504  1.043975  0.337887 -1.097330  1   True   \n",
       "9996  1.0  0.520904  0.902547  0.282366  0.527361 -1.169669  3   True   \n",
       "9997  1.0  0.815193  1.049804  1.368102  1.101031 -1.884083  0   True   \n",
       "9998  1.0  0.790277  1.342756  1.610343 -0.126650 -1.975476  1   True   \n",
       "9999  1.0  0.590242  1.691702  0.341945 -0.708631  0.395841  3   True   \n",
       "\n",
       "             y  \n",
       "0     3.708346  \n",
       "1     2.876217  \n",
       "2     2.887788  \n",
       "3     1.296608  \n",
       "4     5.263499  \n",
       "...        ...  \n",
       "9995  1.169921  \n",
       "9996  3.483855  \n",
       "9997  0.897693  \n",
       "9998  1.259168  \n",
       "9999  4.859647  \n",
       "\n",
       "[10000 rows x 9 columns]"
      ]
     },
     "execution_count": 3,
     "metadata": {},
     "output_type": "execute_result"
    }
   ],
   "source": [
    "data = dowhy.datasets.linear_dataset(beta=1,\n",
    "        num_common_causes=5, \n",
    "        num_instruments = 2,\n",
    "        num_treatments=1,\n",
    "        num_discrete_common_causes=1,\n",
    "        num_samples=10000,\n",
    "        treatment_is_binary=True,\n",
    "        outcome_is_binary=False)\n",
    "df = data[\"df\"]\n",
    "print(df[df.v0==True].shape[0])\n",
    "df"
   ]
  },
  {
   "cell_type": "markdown",
   "id": "9eb296cc",
   "metadata": {},
   "source": [
    "Note that we are using a pandas dataframe to load the data."
   ]
  },
  {
   "cell_type": "markdown",
   "id": "ee265ab2",
   "metadata": {},
   "source": [
    "## Identifying the causal estimand"
   ]
  },
  {
   "cell_type": "markdown",
   "id": "492792ad",
   "metadata": {},
   "source": [
    "We now input a causal graph in the GML graph format."
   ]
  },
  {
   "cell_type": "code",
   "execution_count": 4,
   "id": "941f38ac",
   "metadata": {
    "execution": {
     "iopub.execute_input": "2022-08-01T08:55:25.903988Z",
     "iopub.status.busy": "2022-08-01T08:55:25.903632Z",
     "iopub.status.idle": "2022-08-01T08:55:25.928537Z",
     "shell.execute_reply": "2022-08-01T08:55:25.927936Z"
    }
   },
   "outputs": [],
   "source": [
    "# With graph\n",
    "model=CausalModel(\n",
    "        data = df,\n",
    "        treatment=data[\"treatment_name\"],\n",
    "        outcome=data[\"outcome_name\"],\n",
    "        graph=data[\"gml_graph\"],\n",
    "        instruments=data[\"instrument_names\"]\n",
    "        )"
   ]
  },
  {
   "cell_type": "code",
   "execution_count": 5,
   "id": "aa36a99d",
   "metadata": {
    "execution": {
     "iopub.execute_input": "2022-08-01T08:55:25.931449Z",
     "iopub.status.busy": "2022-08-01T08:55:25.931220Z",
     "iopub.status.idle": "2022-08-01T08:55:25.985280Z",
     "shell.execute_reply": "2022-08-01T08:55:25.984630Z"
    }
   },
   "outputs": [],
   "source": [
    "model.view_model()"
   ]
  },
  {
   "cell_type": "code",
   "execution_count": 6,
   "id": "55336dd3",
   "metadata": {
    "execution": {
     "iopub.execute_input": "2022-08-01T08:55:25.988212Z",
     "iopub.status.busy": "2022-08-01T08:55:25.987981Z",
     "iopub.status.idle": "2022-08-01T08:55:26.011563Z",
     "shell.execute_reply": "2022-08-01T08:55:26.010882Z"
    }
   },
   "outputs": [
    {
     "data": {
      "image/png": "[encoded data removed]",
      "text/plain": [
       "<IPython.core.display.Image object>"
      ]
     },
     "metadata": {},
     "output_type": "display_data"
    }
   ],
   "source": [
    "from IPython.display import Image, display\n",
    "display(Image(filename=\"causal_model.png\"))"
   ]
  },
  {
   "cell_type": "markdown",
   "id": "e1d3657d",
   "metadata": {},
   "source": [
    "We get a causal graph. Now identification and estimation is done."
   ]
  },
  {
   "cell_type": "code",
   "execution_count": 7,
   "id": "abe4f8f8",
   "metadata": {
    "execution": {
     "iopub.execute_input": "2022-08-01T08:55:26.014904Z",
     "iopub.status.busy": "2022-08-01T08:55:26.014547Z",
     "iopub.status.idle": "2022-08-01T08:55:26.239087Z",
     "shell.execute_reply": "2022-08-01T08:55:26.238423Z"
    }
   },
   "outputs": [
    {
     "name": "stdout",
     "output_type": "stream",
     "text": [
      "Estimand type: nonparametric-ate\n",
      "\n",
      "### Estimand : 1\n",
      "Estimand name: backdoor\n",
      "Estimand expression:\n",
      "  d                       \n",
      "─────(E[y|W2,W1,W4,W0,W3])\n",
      "d[v₀]                     \n",
      "Estimand assumption 1, Unconfoundedness: If U→{v0} and U→y then P(y|v0,W2,W1,W4,W0,W3,U) = P(y|v0,W2,W1,W4,W0,W3)\n",
      "\n",
      "### Estimand : 2\n",
      "Estimand name: iv\n",
      "Estimand expression:\n",
      " ⎡                              -1⎤\n",
      " ⎢    d        ⎛    d          ⎞  ⎥\n",
      "E⎢─────────(y)⋅⎜─────────([v₀])⎟  ⎥\n",
      " ⎣d[Z₀  Z₁]    ⎝d[Z₀  Z₁]      ⎠  ⎦\n",
      "Estimand assumption 1, As-if-random: If U→→y then ¬(U →→{Z0,Z1})\n",
      "Estimand assumption 2, Exclusion: If we remove {Z0,Z1}→{v0}, then ¬({Z0,Z1}→y)\n",
      "\n",
      "### Estimand : 3\n",
      "Estimand name: frontdoor\n",
      "No such variable(s) found!\n",
      "\n"
     ]
    }
   ],
   "source": [
    "identified_estimand = model.identify_effect(proceed_when_unidentifiable=True)\n",
    "print(identified_estimand)"
   ]
  },
  {
   "cell_type": "markdown",
   "id": "fee98c62",
   "metadata": {},
   "source": [
    "## Method 1: Propensity Score Stratification\n",
    "\n",
    "We will be using propensity scores to stratify units in the data."
   ]
  },
  {
   "cell_type": "code",
   "execution_count": 8,
   "id": "c6cf9cf1",
   "metadata": {
    "execution": {
     "iopub.execute_input": "2022-08-01T08:55:26.242663Z",
     "iopub.status.busy": "2022-08-01T08:55:26.242178Z",
     "iopub.status.idle": "2022-08-01T08:55:27.055945Z",
     "shell.execute_reply": "2022-08-01T08:55:27.055165Z"
    }
   },
   "outputs": [
    {
     "name": "stdout",
     "output_type": "stream",
     "text": [
      "propensity_score_stratification\n"
     ]
    },
    {
     "name": "stderr",
     "output_type": "stream",
     "text": [
      "/usr/local/lib/python3.8/dist-packages/sklearn/utils/validation.py:993: DataConversionWarning: A column-vector y was passed when a 1d array was expected. Please change the shape of y to (n_samples, ), for example using ravel().\n",
      "  y = column_or_1d(y, warn=True)\n"
     ]
    },
    {
     "name": "stdout",
     "output_type": "stream",
     "text": [
      "*** Causal Estimate ***\n",
      "\n",
      "## Identified estimand\n",
      "Estimand type: nonparametric-ate\n",
      "\n",
      "### Estimand : 1\n",
      "Estimand name: backdoor\n",
      "Estimand expression:\n",
      "  d                       \n",
      "─────(E[y|W2,W1,W4,W0,W3])\n",
      "d[v₀]                     \n",
      "Estimand assumption 1, Unconfoundedness: If U→{v0} and U→y then P(y|v0,W2,W1,W4,W0,W3,U) = P(y|v0,W2,W1,W4,W0,W3)\n",
      "\n",
      "## Realized estimand\n",
      "b: y~v0+W2+W1+W4+W0+W3\n",
      "Target units: att\n",
      "\n",
      "## Estimate\n",
      "Mean value: 0.9274342201542162\n",
      "\n",
      "Causal Estimate is 0.9274342201542162\n"
     ]
    }
   ],
   "source": [
    "causal_estimate_strat = model.estimate_effect(identified_estimand,\n",
    "                                              method_name=\"backdoor.propensity_score_stratification\",\n",
    "                                              target_units=\"att\")\n",
    "print(causal_estimate_strat)\n",
    "print(\"Causal Estimate is \" + str(causal_estimate_strat.value))"
   ]
  },
  {
   "cell_type": "markdown",
   "id": "5f4a39b9",
   "metadata": {},
   "source": [
    "### Textual Interpreter\n",
    "\n",
    "The textual Interpreter describes (in words) the effect of unit change in the treatment variable on the outcome variable."
   ]
  },
  {
   "cell_type": "code",
   "execution_count": 9,
   "id": "5e5ebaca",
   "metadata": {
    "execution": {
     "iopub.execute_input": "2022-08-01T08:55:27.059600Z",
     "iopub.status.busy": "2022-08-01T08:55:27.058970Z",
     "iopub.status.idle": "2022-08-01T08:55:27.084847Z",
     "shell.execute_reply": "2022-08-01T08:55:27.084164Z"
    }
   },
   "outputs": [
    {
     "name": "stdout",
     "output_type": "stream",
     "text": [
      "Increasing the treatment variable(s) [v0] from 0 to 1 causes an increase of 0.9274342201542162 in the expected value of the outcome [y], over the data distribution/population represented by the dataset.\n"
     ]
    }
   ],
   "source": [
    "# Textual Interpreter\n",
    "interpretation = causal_estimate_strat.interpret(method_name=\"textual_effect_interpreter\")"
   ]
  },
  {
   "cell_type": "markdown",
   "id": "9f736839",
   "metadata": {},
   "source": [
    "### Visual Interpreter\n",
    "\n",
    "The visual interpreter plots the change in the standardized mean difference (SMD) before and after Propensity Score based adjustment of the dataset. The formula for SMD is given below.\n",
    "\n",
    "\n",
    "$SMD = \\frac{\\bar X_{1} - \\bar X_{2}}{\\sqrt{(S_{1}^{2} + S_{2}^{2})/2}}$\n",
    "\n",
    "Here, $\\bar X_{1}$ and $\\bar X_{2}$ are the sample mean for the treated and control groups.\n"
   ]
  },
  {
   "cell_type": "code",
   "execution_count": 10,
   "id": "e7c02cda",
   "metadata": {
    "execution": {
     "iopub.execute_input": "2022-08-01T08:55:27.088317Z",
     "iopub.status.busy": "2022-08-01T08:55:27.087879Z",
     "iopub.status.idle": "2022-08-01T08:55:28.052767Z",
     "shell.execute_reply": "2022-08-01T08:55:28.052119Z"
    }
   },
   "outputs": [
    {
     "data": {
      "image/png": "[encoded data removed]",
      "text/plain": [
       "<Figure size 432x288 with 1 Axes>"
      ]
     },
     "metadata": {
      "needs_background": "light"
     },
     "output_type": "display_data"
    }
   ],
   "source": [
    "# Visual Interpreter\n",
    "interpretation = causal_estimate_strat.interpret(method_name=\"propensity_balance_interpreter\")"
   ]
  },
  {
   "cell_type": "markdown",
   "id": "c528e197",
   "metadata": {},
   "source": [
    "This plot shows how the SMD decreases from the unadjusted to the stratified units. "
   ]
  },
  {
   "cell_type": "markdown",
   "id": "750ce021",
   "metadata": {},
   "source": [
    "## Method 2: Propensity Score Matching\n",
    "\n",
    "We will be using propensity scores to match units in the data."
   ]
  },
  {
   "cell_type": "code",
   "execution_count": 11,
   "id": "d09b8990",
   "metadata": {
    "execution": {
     "iopub.execute_input": "2022-08-01T08:55:28.056177Z",
     "iopub.status.busy": "2022-08-01T08:55:28.055791Z",
     "iopub.status.idle": "2022-08-01T08:55:32.461625Z",
     "shell.execute_reply": "2022-08-01T08:55:32.460967Z"
    }
   },
   "outputs": [
    {
     "name": "stdout",
     "output_type": "stream",
     "text": [
      "propensity_score_matching\n"
     ]
    },
    {
     "name": "stderr",
     "output_type": "stream",
     "text": [
      "/usr/local/lib/python3.8/dist-packages/sklearn/utils/validation.py:993: DataConversionWarning: A column-vector y was passed when a 1d array was expected. Please change the shape of y to (n_samples, ), for example using ravel().\n",
      "  y = column_or_1d(y, warn=True)\n"
     ]
    },
    {
     "name": "stdout",
     "output_type": "stream",
     "text": [
      "*** Causal Estimate ***\n",
      "\n",
      "## Identified estimand\n",
      "Estimand type: nonparametric-ate\n",
      "\n",
      "### Estimand : 1\n",
      "Estimand name: backdoor\n",
      "Estimand expression:\n",
      "  d                       \n",
      "─────(E[y|W2,W1,W4,W0,W3])\n",
      "d[v₀]                     \n",
      "Estimand assumption 1, Unconfoundedness: If U→{v0} and U→y then P(y|v0,W2,W1,W4,W0,W3,U) = P(y|v0,W2,W1,W4,W0,W3)\n",
      "\n",
      "## Realized estimand\n",
      "b: y~v0+W2+W1+W4+W0+W3\n",
      "Target units: atc\n",
      "\n",
      "## Estimate\n",
      "Mean value: 0.9584845903595982\n",
      "\n",
      "Causal Estimate is 0.9584845903595982\n"
     ]
    }
   ],
   "source": [
    "causal_estimate_match = model.estimate_effect(identified_estimand,\n",
    "                                              method_name=\"backdoor.propensity_score_matching\",\n",
    "                                              target_units=\"atc\")\n",
    "print(causal_estimate_match)\n",
    "print(\"Causal Estimate is \" + str(causal_estimate_match.value))"
   ]
  },
  {
   "cell_type": "code",
   "execution_count": 12,
   "id": "52d17f50",
   "metadata": {
    "execution": {
     "iopub.execute_input": "2022-08-01T08:55:32.465107Z",
     "iopub.status.busy": "2022-08-01T08:55:32.464864Z",
     "iopub.status.idle": "2022-08-01T08:55:32.489834Z",
     "shell.execute_reply": "2022-08-01T08:55:32.489103Z"
    }
   },
   "outputs": [
    {
     "name": "stdout",
     "output_type": "stream",
     "text": [
      "Increasing the treatment variable(s) [v0] from 0 to 1 causes an increase of 0.9584845903595982 in the expected value of the outcome [y], over the data distribution/population represented by the dataset.\n"
     ]
    }
   ],
   "source": [
    "# Textual Interpreter\n",
    "interpretation = causal_estimate_match.interpret(method_name=\"textual_effect_interpreter\")"
   ]
  },
  {
   "cell_type": "markdown",
   "id": "e7c0b3e7",
   "metadata": {},
   "source": [
    "Cannot use propensity balance interpretor here since the interpreter method only supports propensity score stratification estimator."
   ]
  },
  {
   "cell_type": "markdown",
   "id": "d9389238",
   "metadata": {},
   "source": [
    "## Method 3: Weighting\n",
    "\n",
    "We will be using (inverse) propensity scores to assign weights to units in the data. DoWhy supports a few different weighting schemes:\n",
    "1. Vanilla Inverse Propensity Score weighting (IPS) (weighting_scheme=\"ips_weight\")\n",
    "2. Self-normalized IPS weighting (also known as the Hajek estimator) (weighting_scheme=\"ips_normalized_weight\")\n",
    "3. Stabilized IPS weighting (weighting_scheme = \"ips_stabilized_weight\")"
   ]
  },
  {
   "cell_type": "code",
   "execution_count": 13,
   "id": "b8b8b383",
   "metadata": {
    "execution": {
     "iopub.execute_input": "2022-08-01T08:55:32.493568Z",
     "iopub.status.busy": "2022-08-01T08:55:32.493335Z",
     "iopub.status.idle": "2022-08-01T08:55:32.559015Z",
     "shell.execute_reply": "2022-08-01T08:55:32.557732Z"
    }
   },
   "outputs": [
    {
     "name": "stdout",
     "output_type": "stream",
     "text": [
      "propensity_score_weighting\n",
      "*** Causal Estimate ***\n",
      "\n",
      "## Identified estimand\n",
      "Estimand type: nonparametric-ate\n",
      "\n",
      "### Estimand : 1\n",
      "Estimand name: backdoor\n",
      "Estimand expression:\n",
      "  d                       \n",
      "─────(E[y|W2,W1,W4,W0,W3])\n",
      "d[v₀]                     \n",
      "Estimand assumption 1, Unconfoundedness: If U→{v0} and U→y then P(y|v0,W2,W1,W4,W0,W3,U) = P(y|v0,W2,W1,W4,W0,W3)\n",
      "\n",
      "## Realized estimand\n",
      "b: y~v0+W2+W1+W4+W0+W3\n",
      "Target units: ate\n",
      "\n",
      "## Estimate\n",
      "Mean value: 1.3346702524687637\n",
      "\n",
      "Causal Estimate is 1.3346702524687637\n"
     ]
    },
    {
     "name": "stderr",
     "output_type": "stream",
     "text": [
      "/usr/local/lib/python3.8/dist-packages/sklearn/utils/validation.py:993: DataConversionWarning: A column-vector y was passed when a 1d array was expected. Please change the shape of y to (n_samples, ), for example using ravel().\n",
      "  y = column_or_1d(y, warn=True)\n"
     ]
    }
   ],
   "source": [
    "causal_estimate_ipw = model.estimate_effect(identified_estimand,\n",
    "                                            method_name=\"backdoor.propensity_score_weighting\",\n",
    "                                            target_units = \"ate\",\n",
    "                                            method_params={\"weighting_scheme\":\"ips_weight\"})\n",
    "print(causal_estimate_ipw)\n",
    "print(\"Causal Estimate is \" + str(causal_estimate_ipw.value))"
   ]
  },
  {
   "cell_type": "code",
   "execution_count": 14,
   "id": "6bd2beab",
   "metadata": {
    "execution": {
     "iopub.execute_input": "2022-08-01T08:55:32.562346Z",
     "iopub.status.busy": "2022-08-01T08:55:32.562088Z",
     "iopub.status.idle": "2022-08-01T08:55:32.588078Z",
     "shell.execute_reply": "2022-08-01T08:55:32.587260Z"
    }
   },
   "outputs": [
    {
     "name": "stdout",
     "output_type": "stream",
     "text": [
      "Increasing the treatment variable(s) [v0] from 0 to 1 causes an increase of 1.3346702524687637 in the expected value of the outcome [y], over the data distribution/population represented by the dataset.\n"
     ]
    }
   ],
   "source": [
    "# Textual Interpreter\n",
    "interpretation = causal_estimate_ipw.interpret(method_name=\"textual_effect_interpreter\")"
   ]
  },
  {
   "cell_type": "code",
   "execution_count": 15,
   "id": "deb82dc1",
   "metadata": {
    "execution": {
     "iopub.execute_input": "2022-08-01T08:55:32.591186Z",
     "iopub.status.busy": "2022-08-01T08:55:32.590739Z",
     "iopub.status.idle": "2022-08-01T08:55:32.833897Z",
     "shell.execute_reply": "2022-08-01T08:55:32.833235Z"
    }
   },
   "outputs": [
    {
     "data": {
      "image/png": "[encoded data removed]",
      "text/plain": [
       "<Figure size 576x576 with 2 Axes>"
      ]
     },
     "metadata": {
      "needs_background": "light"
     },
     "output_type": "display_data"
    }
   ],
   "source": [
    "interpretation = causal_estimate_ipw.interpret(method_name=\"confounder_distribution_interpreter\", fig_size=(8,8), font_size=12, var_name='W4', var_type='discrete')"
   ]
  },
  {
   "cell_type": "code",
   "execution_count": null,
   "id": "08b0ca35",
   "metadata": {},
   "outputs": [],
   "source": []
  }
 ],
 "metadata": {
  "kernelspec": {
   "display_name": "Python 3",
   "language": "python",
   "name": "python3"
  },
  "language_info": {
   "codemirror_mode": {
    "name": "ipython",
    "version": 3
   },
   "file_extension": ".py",
   "mimetype": "text/x-python",
   "name": "python",
   "nbconvert_exporter": "python",
   "pygments_lexer": "ipython3",
   "version": "3.8.10"
  },
  "toc": {
   "base_numbering": 1,
   "nav_menu": {},
   "number_sections": false,
   "sideBar": true,
   "skip_h1_title": true,
   "title_cell": "Table of Contents",
   "title_sidebar": "Contents",
   "toc_cell": false,
   "toc_position": {},
   "toc_section_display": true,
   "toc_window_display": false
  }
 },
 "nbformat": 4,
 "nbformat_minor": 5
}
