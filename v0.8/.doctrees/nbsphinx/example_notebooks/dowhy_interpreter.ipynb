{
 "cells": [
  {
   "cell_type": "markdown",
   "id": "c09fb4b3",
   "metadata": {},
   "source": [
    "# DoWhy: Interpreters for Causal Estimators\n",
    "\n",
    "This is a quick introduction to the use of interpreters in the DoWhy causal inference library.\n",
    "We will load in a sample dataset, use different methods for estimating the causal effect of a (pre-specified)treatment variable on a (pre-specified) outcome variable and demonstrate how to interpret the obtained results.\n",
    "\n",
    "First, let us add the required path for Python to find the DoWhy code and load all required packages"
   ]
  },
  {
   "cell_type": "code",
   "execution_count": 1,
   "id": "bd2d103f",
   "metadata": {
    "execution": {
     "iopub.execute_input": "2022-08-18T14:57:32.795800Z",
     "iopub.status.busy": "2022-08-18T14:57:32.795474Z",
     "iopub.status.idle": "2022-08-18T14:57:32.814325Z",
     "shell.execute_reply": "2022-08-18T14:57:32.813582Z"
    }
   },
   "outputs": [],
   "source": [
    "%load_ext autoreload\n",
    "%autoreload 2"
   ]
  },
  {
   "cell_type": "code",
   "execution_count": 2,
   "id": "c88fd9e5",
   "metadata": {
    "execution": {
     "iopub.execute_input": "2022-08-18T14:57:32.817996Z",
     "iopub.status.busy": "2022-08-18T14:57:32.817578Z",
     "iopub.status.idle": "2022-08-18T14:57:34.030176Z",
     "shell.execute_reply": "2022-08-18T14:57:34.029173Z"
    }
   },
   "outputs": [],
   "source": [
    "import numpy as np\n",
    "import pandas as pd\n",
    "import logging\n",
    "\n",
    "import dowhy\n",
    "from dowhy import CausalModel\n",
    "import dowhy.datasets "
   ]
  },
  {
   "cell_type": "markdown",
   "id": "bf0a7f66",
   "metadata": {},
   "source": [
    "Now, let us load a dataset. For simplicity, we simulate a dataset with linear relationships between common causes and treatment, and common causes and outcome.\n",
    "\n",
    "Beta is the true causal effect."
   ]
  },
  {
   "cell_type": "code",
   "execution_count": 3,
   "id": "d9179c28",
   "metadata": {
    "execution": {
     "iopub.execute_input": "2022-08-18T14:57:34.035228Z",
     "iopub.status.busy": "2022-08-18T14:57:34.034410Z",
     "iopub.status.idle": "2022-08-18T14:57:34.380637Z",
     "shell.execute_reply": "2022-08-18T14:57:34.379818Z"
    }
   },
   "outputs": [
    {
     "name": "stdout",
     "output_type": "stream",
     "text": [
      "9378\n"
     ]
    },
    {
     "data": {
      "text/html": [
       "<div>\n",
       "<style scoped>\n",
       "    .dataframe tbody tr th:only-of-type {\n",
       "        vertical-align: middle;\n",
       "    }\n",
       "\n",
       "    .dataframe tbody tr th {\n",
       "        vertical-align: top;\n",
       "    }\n",
       "\n",
       "    .dataframe thead th {\n",
       "        text-align: right;\n",
       "    }\n",
       "</style>\n",
       "<table border=\"1\" class=\"dataframe\">\n",
       "  <thead>\n",
       "    <tr style=\"text-align: right;\">\n",
       "      <th></th>\n",
       "      <th>Z0</th>\n",
       "      <th>Z1</th>\n",
       "      <th>W0</th>\n",
       "      <th>W1</th>\n",
       "      <th>W2</th>\n",
       "      <th>W3</th>\n",
       "      <th>W4</th>\n",
       "      <th>v0</th>\n",
       "      <th>y</th>\n",
       "    </tr>\n",
       "  </thead>\n",
       "  <tbody>\n",
       "    <tr>\n",
       "      <th>0</th>\n",
       "      <td>1.0</td>\n",
       "      <td>0.908854</td>\n",
       "      <td>0.218392</td>\n",
       "      <td>0.481693</td>\n",
       "      <td>0.693109</td>\n",
       "      <td>3.467671</td>\n",
       "      <td>2</td>\n",
       "      <td>True</td>\n",
       "      <td>5.026744</td>\n",
       "    </tr>\n",
       "    <tr>\n",
       "      <th>1</th>\n",
       "      <td>1.0</td>\n",
       "      <td>0.340571</td>\n",
       "      <td>0.791389</td>\n",
       "      <td>0.086080</td>\n",
       "      <td>0.198719</td>\n",
       "      <td>-0.904736</td>\n",
       "      <td>0</td>\n",
       "      <td>True</td>\n",
       "      <td>1.395771</td>\n",
       "    </tr>\n",
       "    <tr>\n",
       "      <th>2</th>\n",
       "      <td>0.0</td>\n",
       "      <td>0.159334</td>\n",
       "      <td>1.021940</td>\n",
       "      <td>2.339564</td>\n",
       "      <td>0.739225</td>\n",
       "      <td>-0.214606</td>\n",
       "      <td>3</td>\n",
       "      <td>True</td>\n",
       "      <td>6.558981</td>\n",
       "    </tr>\n",
       "    <tr>\n",
       "      <th>3</th>\n",
       "      <td>1.0</td>\n",
       "      <td>0.860929</td>\n",
       "      <td>1.066681</td>\n",
       "      <td>1.157272</td>\n",
       "      <td>2.686042</td>\n",
       "      <td>1.538001</td>\n",
       "      <td>0</td>\n",
       "      <td>True</td>\n",
       "      <td>4.930517</td>\n",
       "    </tr>\n",
       "    <tr>\n",
       "      <th>4</th>\n",
       "      <td>0.0</td>\n",
       "      <td>0.416501</td>\n",
       "      <td>1.345436</td>\n",
       "      <td>2.232700</td>\n",
       "      <td>2.164976</td>\n",
       "      <td>-1.581217</td>\n",
       "      <td>2</td>\n",
       "      <td>True</td>\n",
       "      <td>6.315140</td>\n",
       "    </tr>\n",
       "    <tr>\n",
       "      <th>...</th>\n",
       "      <td>...</td>\n",
       "      <td>...</td>\n",
       "      <td>...</td>\n",
       "      <td>...</td>\n",
       "      <td>...</td>\n",
       "      <td>...</td>\n",
       "      <td>...</td>\n",
       "      <td>...</td>\n",
       "      <td>...</td>\n",
       "    </tr>\n",
       "    <tr>\n",
       "      <th>9995</th>\n",
       "      <td>1.0</td>\n",
       "      <td>0.604113</td>\n",
       "      <td>0.449729</td>\n",
       "      <td>-1.015457</td>\n",
       "      <td>1.250835</td>\n",
       "      <td>1.927868</td>\n",
       "      <td>3</td>\n",
       "      <td>True</td>\n",
       "      <td>4.944901</td>\n",
       "    </tr>\n",
       "    <tr>\n",
       "      <th>9996</th>\n",
       "      <td>0.0</td>\n",
       "      <td>0.530765</td>\n",
       "      <td>-1.481189</td>\n",
       "      <td>-0.419743</td>\n",
       "      <td>0.720436</td>\n",
       "      <td>0.815675</td>\n",
       "      <td>3</td>\n",
       "      <td>True</td>\n",
       "      <td>3.420552</td>\n",
       "    </tr>\n",
       "    <tr>\n",
       "      <th>9997</th>\n",
       "      <td>1.0</td>\n",
       "      <td>0.306501</td>\n",
       "      <td>1.210625</td>\n",
       "      <td>0.746826</td>\n",
       "      <td>2.097456</td>\n",
       "      <td>-0.004261</td>\n",
       "      <td>1</td>\n",
       "      <td>True</td>\n",
       "      <td>4.750153</td>\n",
       "    </tr>\n",
       "    <tr>\n",
       "      <th>9998</th>\n",
       "      <td>0.0</td>\n",
       "      <td>0.282549</td>\n",
       "      <td>0.248031</td>\n",
       "      <td>1.355904</td>\n",
       "      <td>1.655591</td>\n",
       "      <td>0.465641</td>\n",
       "      <td>3</td>\n",
       "      <td>True</td>\n",
       "      <td>6.270490</td>\n",
       "    </tr>\n",
       "    <tr>\n",
       "      <th>9999</th>\n",
       "      <td>1.0</td>\n",
       "      <td>0.040114</td>\n",
       "      <td>1.137319</td>\n",
       "      <td>0.195405</td>\n",
       "      <td>0.074506</td>\n",
       "      <td>0.989287</td>\n",
       "      <td>0</td>\n",
       "      <td>True</td>\n",
       "      <td>2.240147</td>\n",
       "    </tr>\n",
       "  </tbody>\n",
       "</table>\n",
       "<p>10000 rows × 9 columns</p>\n",
       "</div>"
      ],
      "text/plain": [
       "       Z0        Z1        W0        W1        W2        W3 W4    v0         y\n",
       "0     1.0  0.908854  0.218392  0.481693  0.693109  3.467671  2  True  5.026744\n",
       "1     1.0  0.340571  0.791389  0.086080  0.198719 -0.904736  0  True  1.395771\n",
       "2     0.0  0.159334  1.021940  2.339564  0.739225 -0.214606  3  True  6.558981\n",
       "3     1.0  0.860929  1.066681  1.157272  2.686042  1.538001  0  True  4.930517\n",
       "4     0.0  0.416501  1.345436  2.232700  2.164976 -1.581217  2  True  6.315140\n",
       "...   ...       ...       ...       ...       ...       ... ..   ...       ...\n",
       "9995  1.0  0.604113  0.449729 -1.015457  1.250835  1.927868  3  True  4.944901\n",
       "9996  0.0  0.530765 -1.481189 -0.419743  0.720436  0.815675  3  True  3.420552\n",
       "9997  1.0  0.306501  1.210625  0.746826  2.097456 -0.004261  1  True  4.750153\n",
       "9998  0.0  0.282549  0.248031  1.355904  1.655591  0.465641  3  True  6.270490\n",
       "9999  1.0  0.040114  1.137319  0.195405  0.074506  0.989287  0  True  2.240147\n",
       "\n",
       "[10000 rows x 9 columns]"
      ]
     },
     "execution_count": 3,
     "metadata": {},
     "output_type": "execute_result"
    }
   ],
   "source": [
    "data = dowhy.datasets.linear_dataset(beta=1,\n",
    "        num_common_causes=5, \n",
    "        num_instruments = 2,\n",
    "        num_treatments=1,\n",
    "        num_discrete_common_causes=1,\n",
    "        num_samples=10000,\n",
    "        treatment_is_binary=True,\n",
    "        outcome_is_binary=False)\n",
    "df = data[\"df\"]\n",
    "print(df[df.v0==True].shape[0])\n",
    "df"
   ]
  },
  {
   "cell_type": "markdown",
   "id": "be11f884",
   "metadata": {},
   "source": [
    "Note that we are using a pandas dataframe to load the data."
   ]
  },
  {
   "cell_type": "markdown",
   "id": "ccd85175",
   "metadata": {},
   "source": [
    "## Identifying the causal estimand"
   ]
  },
  {
   "cell_type": "markdown",
   "id": "9f7d98a5",
   "metadata": {},
   "source": [
    "We now input a causal graph in the GML graph format."
   ]
  },
  {
   "cell_type": "code",
   "execution_count": 4,
   "id": "c141e816",
   "metadata": {
    "execution": {
     "iopub.execute_input": "2022-08-18T14:57:34.386124Z",
     "iopub.status.busy": "2022-08-18T14:57:34.384648Z",
     "iopub.status.idle": "2022-08-18T14:57:34.415204Z",
     "shell.execute_reply": "2022-08-18T14:57:34.414444Z"
    }
   },
   "outputs": [],
   "source": [
    "# With graph\n",
    "model=CausalModel(\n",
    "        data = df,\n",
    "        treatment=data[\"treatment_name\"],\n",
    "        outcome=data[\"outcome_name\"],\n",
    "        graph=data[\"gml_graph\"],\n",
    "        instruments=data[\"instrument_names\"]\n",
    "        )"
   ]
  },
  {
   "cell_type": "code",
   "execution_count": 5,
   "id": "edf76cdc",
   "metadata": {
    "execution": {
     "iopub.execute_input": "2022-08-18T14:57:34.419406Z",
     "iopub.status.busy": "2022-08-18T14:57:34.418854Z",
     "iopub.status.idle": "2022-08-18T14:57:34.488332Z",
     "shell.execute_reply": "2022-08-18T14:57:34.487502Z"
    }
   },
   "outputs": [],
   "source": [
    "model.view_model()"
   ]
  },
  {
   "cell_type": "code",
   "execution_count": 6,
   "id": "b6869517",
   "metadata": {
    "execution": {
     "iopub.execute_input": "2022-08-18T14:57:34.492237Z",
     "iopub.status.busy": "2022-08-18T14:57:34.491926Z",
     "iopub.status.idle": "2022-08-18T14:57:34.522261Z",
     "shell.execute_reply": "2022-08-18T14:57:34.521551Z"
    }
   },
   "outputs": [
    {
     "data": {
      "image/png": "[encoded data removed]",
      "text/plain": [
       "<IPython.core.display.Image object>"
      ]
     },
     "metadata": {},
     "output_type": "display_data"
    }
   ],
   "source": [
    "from IPython.display import Image, display\n",
    "display(Image(filename=\"causal_model.png\"))"
   ]
  },
  {
   "cell_type": "markdown",
   "id": "e5b1bad8",
   "metadata": {},
   "source": [
    "We get a causal graph. Now identification and estimation is done."
   ]
  },
  {
   "cell_type": "code",
   "execution_count": 7,
   "id": "fc624a3a",
   "metadata": {
    "execution": {
     "iopub.execute_input": "2022-08-18T14:57:34.526732Z",
     "iopub.status.busy": "2022-08-18T14:57:34.525939Z",
     "iopub.status.idle": "2022-08-18T14:57:34.793151Z",
     "shell.execute_reply": "2022-08-18T14:57:34.792034Z"
    }
   },
   "outputs": [
    {
     "name": "stdout",
     "output_type": "stream",
     "text": [
      "Estimand type: nonparametric-ate\n",
      "\n",
      "### Estimand : 1\n",
      "Estimand name: backdoor\n",
      "Estimand expression:\n",
      "  d                       \n",
      "─────(E[y|W1,W2,W3,W0,W4])\n",
      "d[v₀]                     \n",
      "Estimand assumption 1, Unconfoundedness: If U→{v0} and U→y then P(y|v0,W1,W2,W3,W0,W4,U) = P(y|v0,W1,W2,W3,W0,W4)\n",
      "\n",
      "### Estimand : 2\n",
      "Estimand name: iv\n",
      "Estimand expression:\n",
      " ⎡                              -1⎤\n",
      " ⎢    d        ⎛    d          ⎞  ⎥\n",
      "E⎢─────────(y)⋅⎜─────────([v₀])⎟  ⎥\n",
      " ⎣d[Z₀  Z₁]    ⎝d[Z₀  Z₁]      ⎠  ⎦\n",
      "Estimand assumption 1, As-if-random: If U→→y then ¬(U →→{Z0,Z1})\n",
      "Estimand assumption 2, Exclusion: If we remove {Z0,Z1}→{v0}, then ¬({Z0,Z1}→y)\n",
      "\n",
      "### Estimand : 3\n",
      "Estimand name: frontdoor\n",
      "No such variable(s) found!\n",
      "\n"
     ]
    }
   ],
   "source": [
    "identified_estimand = model.identify_effect(proceed_when_unidentifiable=True)\n",
    "print(identified_estimand)"
   ]
  },
  {
   "cell_type": "markdown",
   "id": "486f392e",
   "metadata": {},
   "source": [
    "## Method 1: Propensity Score Stratification\n",
    "\n",
    "We will be using propensity scores to stratify units in the data."
   ]
  },
  {
   "cell_type": "code",
   "execution_count": 8,
   "id": "22d47a76",
   "metadata": {
    "execution": {
     "iopub.execute_input": "2022-08-18T14:57:34.798185Z",
     "iopub.status.busy": "2022-08-18T14:57:34.797367Z",
     "iopub.status.idle": "2022-08-18T14:57:35.780035Z",
     "shell.execute_reply": "2022-08-18T14:57:35.779198Z"
    }
   },
   "outputs": [
    {
     "name": "stdout",
     "output_type": "stream",
     "text": [
      "propensity_score_stratification\n"
     ]
    },
    {
     "name": "stderr",
     "output_type": "stream",
     "text": [
      "/github/home/.cache/pypoetry/virtualenvs/dowhy-oN2hW5jr-py3.8/lib/python3.8/site-packages/sklearn/utils/validation.py:993: DataConversionWarning: A column-vector y was passed when a 1d array was expected. Please change the shape of y to (n_samples, ), for example using ravel().\n",
      "  y = column_or_1d(y, warn=True)\n"
     ]
    },
    {
     "name": "stdout",
     "output_type": "stream",
     "text": [
      "*** Causal Estimate ***\n",
      "\n",
      "## Identified estimand\n",
      "Estimand type: nonparametric-ate\n",
      "\n",
      "### Estimand : 1\n",
      "Estimand name: backdoor\n",
      "Estimand expression:\n",
      "  d                       \n",
      "─────(E[y|W1,W2,W3,W0,W4])\n",
      "d[v₀]                     \n",
      "Estimand assumption 1, Unconfoundedness: If U→{v0} and U→y then P(y|v0,W1,W2,W3,W0,W4,U) = P(y|v0,W1,W2,W3,W0,W4)\n",
      "\n",
      "## Realized estimand\n",
      "b: y~v0+W1+W2+W3+W0+W4\n",
      "Target units: att\n",
      "\n",
      "## Estimate\n",
      "Mean value: 1.0070854941444918\n",
      "\n",
      "Causal Estimate is 1.0070854941444918\n"
     ]
    }
   ],
   "source": [
    "causal_estimate_strat = model.estimate_effect(identified_estimand,\n",
    "                                              method_name=\"backdoor.propensity_score_stratification\",\n",
    "                                              target_units=\"att\")\n",
    "print(causal_estimate_strat)\n",
    "print(\"Causal Estimate is \" + str(causal_estimate_strat.value))"
   ]
  },
  {
   "cell_type": "markdown",
   "id": "a14748c6",
   "metadata": {},
   "source": [
    "### Textual Interpreter\n",
    "\n",
    "The textual Interpreter describes (in words) the effect of unit change in the treatment variable on the outcome variable."
   ]
  },
  {
   "cell_type": "code",
   "execution_count": 9,
   "id": "5c4463fe",
   "metadata": {
    "execution": {
     "iopub.execute_input": "2022-08-18T14:57:35.784419Z",
     "iopub.status.busy": "2022-08-18T14:57:35.783963Z",
     "iopub.status.idle": "2022-08-18T14:57:35.813220Z",
     "shell.execute_reply": "2022-08-18T14:57:35.812530Z"
    }
   },
   "outputs": [
    {
     "name": "stdout",
     "output_type": "stream",
     "text": [
      "Increasing the treatment variable(s) [v0] from 0 to 1 causes an increase of 1.0070854941444918 in the expected value of the outcome [y], over the data distribution/population represented by the dataset.\n"
     ]
    }
   ],
   "source": [
    "# Textual Interpreter\n",
    "interpretation = causal_estimate_strat.interpret(method_name=\"textual_effect_interpreter\")"
   ]
  },
  {
   "cell_type": "markdown",
   "id": "acb7f661",
   "metadata": {},
   "source": [
    "### Visual Interpreter\n",
    "\n",
    "The visual interpreter plots the change in the standardized mean difference (SMD) before and after Propensity Score based adjustment of the dataset. The formula for SMD is given below.\n",
    "\n",
    "\n",
    "$SMD = \\frac{\\bar X_{1} - \\bar X_{2}}{\\sqrt{(S_{1}^{2} + S_{2}^{2})/2}}$\n",
    "\n",
    "Here, $\\bar X_{1}$ and $\\bar X_{2}$ are the sample mean for the treated and control groups.\n"
   ]
  },
  {
   "cell_type": "code",
   "execution_count": 10,
   "id": "00160d03",
   "metadata": {
    "execution": {
     "iopub.execute_input": "2022-08-18T14:57:35.817301Z",
     "iopub.status.busy": "2022-08-18T14:57:35.817018Z",
     "iopub.status.idle": "2022-08-18T14:57:36.973843Z",
     "shell.execute_reply": "2022-08-18T14:57:36.972740Z"
    }
   },
   "outputs": [
    {
     "data": {
      "image/png": "[encoded data removed]",
      "text/plain": [
       "<Figure size 432x288 with 1 Axes>"
      ]
     },
     "metadata": {
      "needs_background": "light"
     },
     "output_type": "display_data"
    }
   ],
   "source": [
    "# Visual Interpreter\n",
    "interpretation = causal_estimate_strat.interpret(method_name=\"propensity_balance_interpreter\")"
   ]
  },
  {
   "cell_type": "markdown",
   "id": "84094d98",
   "metadata": {},
   "source": [
    "This plot shows how the SMD decreases from the unadjusted to the stratified units. "
   ]
  },
  {
   "cell_type": "markdown",
   "id": "eb415ca5",
   "metadata": {},
   "source": [
    "## Method 2: Propensity Score Matching\n",
    "\n",
    "We will be using propensity scores to match units in the data."
   ]
  },
  {
   "cell_type": "code",
   "execution_count": 11,
   "id": "ec979664",
   "metadata": {
    "execution": {
     "iopub.execute_input": "2022-08-18T14:57:36.978960Z",
     "iopub.status.busy": "2022-08-18T14:57:36.978349Z",
     "iopub.status.idle": "2022-08-18T14:57:42.135248Z",
     "shell.execute_reply": "2022-08-18T14:57:42.134451Z"
    }
   },
   "outputs": [
    {
     "name": "stdout",
     "output_type": "stream",
     "text": [
      "propensity_score_matching\n"
     ]
    },
    {
     "name": "stderr",
     "output_type": "stream",
     "text": [
      "/github/home/.cache/pypoetry/virtualenvs/dowhy-oN2hW5jr-py3.8/lib/python3.8/site-packages/sklearn/utils/validation.py:993: DataConversionWarning: A column-vector y was passed when a 1d array was expected. Please change the shape of y to (n_samples, ), for example using ravel().\n",
      "  y = column_or_1d(y, warn=True)\n"
     ]
    },
    {
     "name": "stdout",
     "output_type": "stream",
     "text": [
      "*** Causal Estimate ***\n",
      "\n",
      "## Identified estimand\n",
      "Estimand type: nonparametric-ate\n",
      "\n",
      "### Estimand : 1\n",
      "Estimand name: backdoor\n",
      "Estimand expression:\n",
      "  d                       \n",
      "─────(E[y|W1,W2,W3,W0,W4])\n",
      "d[v₀]                     \n",
      "Estimand assumption 1, Unconfoundedness: If U→{v0} and U→y then P(y|v0,W1,W2,W3,W0,W4,U) = P(y|v0,W1,W2,W3,W0,W4)\n",
      "\n",
      "## Realized estimand\n",
      "b: y~v0+W1+W2+W3+W0+W4\n",
      "Target units: atc\n",
      "\n",
      "## Estimate\n",
      "Mean value: 1.006148408843827\n",
      "\n",
      "Causal Estimate is 1.006148408843827\n"
     ]
    }
   ],
   "source": [
    "causal_estimate_match = model.estimate_effect(identified_estimand,\n",
    "                                              method_name=\"backdoor.propensity_score_matching\",\n",
    "                                              target_units=\"atc\")\n",
    "print(causal_estimate_match)\n",
    "print(\"Causal Estimate is \" + str(causal_estimate_match.value))"
   ]
  },
  {
   "cell_type": "code",
   "execution_count": 12,
   "id": "026dfc5a",
   "metadata": {
    "execution": {
     "iopub.execute_input": "2022-08-18T14:57:42.139522Z",
     "iopub.status.busy": "2022-08-18T14:57:42.138961Z",
     "iopub.status.idle": "2022-08-18T14:57:42.172088Z",
     "shell.execute_reply": "2022-08-18T14:57:42.171198Z"
    }
   },
   "outputs": [
    {
     "name": "stdout",
     "output_type": "stream",
     "text": [
      "Increasing the treatment variable(s) [v0] from 0 to 1 causes an increase of 1.006148408843827 in the expected value of the outcome [y], over the data distribution/population represented by the dataset.\n"
     ]
    }
   ],
   "source": [
    "# Textual Interpreter\n",
    "interpretation = causal_estimate_match.interpret(method_name=\"textual_effect_interpreter\")"
   ]
  },
  {
   "cell_type": "markdown",
   "id": "2ce3d6ae",
   "metadata": {},
   "source": [
    "Cannot use propensity balance interpretor here since the interpreter method only supports propensity score stratification estimator."
   ]
  },
  {
   "cell_type": "markdown",
   "id": "64a61033",
   "metadata": {},
   "source": [
    "## Method 3: Weighting\n",
    "\n",
    "We will be using (inverse) propensity scores to assign weights to units in the data. DoWhy supports a few different weighting schemes:\n",
    "1. Vanilla Inverse Propensity Score weighting (IPS) (weighting_scheme=\"ips_weight\")\n",
    "2. Self-normalized IPS weighting (also known as the Hajek estimator) (weighting_scheme=\"ips_normalized_weight\")\n",
    "3. Stabilized IPS weighting (weighting_scheme = \"ips_stabilized_weight\")"
   ]
  },
  {
   "cell_type": "code",
   "execution_count": 13,
   "id": "f82b02c1",
   "metadata": {
    "execution": {
     "iopub.execute_input": "2022-08-18T14:57:42.176368Z",
     "iopub.status.busy": "2022-08-18T14:57:42.175834Z",
     "iopub.status.idle": "2022-08-18T14:57:42.255670Z",
     "shell.execute_reply": "2022-08-18T14:57:42.254858Z"
    }
   },
   "outputs": [
    {
     "name": "stdout",
     "output_type": "stream",
     "text": [
      "propensity_score_weighting\n",
      "*** Causal Estimate ***\n",
      "\n",
      "## Identified estimand\n",
      "Estimand type: nonparametric-ate\n",
      "\n",
      "### Estimand : 1\n",
      "Estimand name: backdoor\n",
      "Estimand expression:\n",
      "  d                       \n",
      "─────(E[y|W1,W2,W3,W0,W4])\n",
      "d[v₀]                     \n",
      "Estimand assumption 1, Unconfoundedness: If U→{v0} and U→y then P(y|v0,W1,W2,W3,W0,W4,U) = P(y|v0,W1,W2,W3,W0,W4)\n",
      "\n",
      "## Realized estimand\n",
      "b: y~v0+W1+W2+W3+W0+W4\n",
      "Target units: ate\n",
      "\n",
      "## Estimate\n",
      "Mean value: 1.770093011208624\n",
      "\n",
      "Causal Estimate is 1.770093011208624\n"
     ]
    },
    {
     "name": "stderr",
     "output_type": "stream",
     "text": [
      "/github/home/.cache/pypoetry/virtualenvs/dowhy-oN2hW5jr-py3.8/lib/python3.8/site-packages/sklearn/utils/validation.py:993: DataConversionWarning: A column-vector y was passed when a 1d array was expected. Please change the shape of y to (n_samples, ), for example using ravel().\n",
      "  y = column_or_1d(y, warn=True)\n"
     ]
    }
   ],
   "source": [
    "causal_estimate_ipw = model.estimate_effect(identified_estimand,\n",
    "                                            method_name=\"backdoor.propensity_score_weighting\",\n",
    "                                            target_units = \"ate\",\n",
    "                                            method_params={\"weighting_scheme\":\"ips_weight\"})\n",
    "print(causal_estimate_ipw)\n",
    "print(\"Causal Estimate is \" + str(causal_estimate_ipw.value))"
   ]
  },
  {
   "cell_type": "code",
   "execution_count": 14,
   "id": "ce7ef4e6",
   "metadata": {
    "execution": {
     "iopub.execute_input": "2022-08-18T14:57:42.259906Z",
     "iopub.status.busy": "2022-08-18T14:57:42.259209Z",
     "iopub.status.idle": "2022-08-18T14:57:42.289778Z",
     "shell.execute_reply": "2022-08-18T14:57:42.288975Z"
    }
   },
   "outputs": [
    {
     "name": "stdout",
     "output_type": "stream",
     "text": [
      "Increasing the treatment variable(s) [v0] from 0 to 1 causes an increase of 1.770093011208624 in the expected value of the outcome [y], over the data distribution/population represented by the dataset.\n"
     ]
    }
   ],
   "source": [
    "# Textual Interpreter\n",
    "interpretation = causal_estimate_ipw.interpret(method_name=\"textual_effect_interpreter\")"
   ]
  },
  {
   "cell_type": "code",
   "execution_count": 15,
   "id": "43f228a7",
   "metadata": {
    "execution": {
     "iopub.execute_input": "2022-08-18T14:57:42.293890Z",
     "iopub.status.busy": "2022-08-18T14:57:42.293375Z",
     "iopub.status.idle": "2022-08-18T14:57:42.580224Z",
     "shell.execute_reply": "2022-08-18T14:57:42.579218Z"
    }
   },
   "outputs": [
    {
     "data": {
      "image/png": "[encoded data removed]",
      "text/plain": [
       "<Figure size 576x576 with 2 Axes>"
      ]
     },
     "metadata": {
      "needs_background": "light"
     },
     "output_type": "display_data"
    }
   ],
   "source": [
    "interpretation = causal_estimate_ipw.interpret(method_name=\"confounder_distribution_interpreter\", fig_size=(8,8), font_size=12, var_name='W4', var_type='discrete')"
   ]
  },
  {
   "cell_type": "code",
   "execution_count": null,
   "id": "4368e98b",
   "metadata": {},
   "outputs": [],
   "source": []
  }
 ],
 "metadata": {
  "kernelspec": {
   "display_name": "Python 3",
   "language": "python",
   "name": "python3"
  },
  "language_info": {
   "codemirror_mode": {
    "name": "ipython",
    "version": 3
   },
   "file_extension": ".py",
   "mimetype": "text/x-python",
   "name": "python",
   "nbconvert_exporter": "python",
   "pygments_lexer": "ipython3",
   "version": "3.8.10"
  },
  "toc": {
   "base_numbering": 1,
   "nav_menu": {},
   "number_sections": false,
   "sideBar": true,
   "skip_h1_title": true,
   "title_cell": "Table of Contents",
   "title_sidebar": "Contents",
   "toc_cell": false,
   "toc_position": {},
   "toc_section_display": true,
   "toc_window_display": false
  }
 },
 "nbformat": 4,
 "nbformat_minor": 5
}
