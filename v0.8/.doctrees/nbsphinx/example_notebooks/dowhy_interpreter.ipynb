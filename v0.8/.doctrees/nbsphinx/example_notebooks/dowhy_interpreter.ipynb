{
 "cells": [
  {
   "cell_type": "markdown",
   "id": "f18d5236",
   "metadata": {},
   "source": [
    "# DoWhy: Interpreters for Causal Estimators\n",
    "\n",
    "This is a quick introduction to the use of interpreters in the DoWhy causal inference library.\n",
    "We will load in a sample dataset, use different methods for estimating the causal effect of a (pre-specified)treatment variable on a (pre-specified) outcome variable and demonstrate how to interpret the obtained results.\n",
    "\n",
    "First, let us add the required path for Python to find the DoWhy code and load all required packages"
   ]
  },
  {
   "cell_type": "code",
   "execution_count": 1,
   "id": "d8c8b243",
   "metadata": {
    "execution": {
     "iopub.execute_input": "2022-08-19T23:39:02.234063Z",
     "iopub.status.busy": "2022-08-19T23:39:02.233528Z",
     "iopub.status.idle": "2022-08-19T23:39:02.248898Z",
     "shell.execute_reply": "2022-08-19T23:39:02.248378Z"
    }
   },
   "outputs": [],
   "source": [
    "%load_ext autoreload\n",
    "%autoreload 2"
   ]
  },
  {
   "cell_type": "code",
   "execution_count": 2,
   "id": "d9957aee",
   "metadata": {
    "execution": {
     "iopub.execute_input": "2022-08-19T23:39:02.251712Z",
     "iopub.status.busy": "2022-08-19T23:39:02.251502Z",
     "iopub.status.idle": "2022-08-19T23:39:03.206271Z",
     "shell.execute_reply": "2022-08-19T23:39:03.205494Z"
    }
   },
   "outputs": [],
   "source": [
    "import numpy as np\n",
    "import pandas as pd\n",
    "import logging\n",
    "\n",
    "import dowhy\n",
    "from dowhy import CausalModel\n",
    "import dowhy.datasets "
   ]
  },
  {
   "cell_type": "markdown",
   "id": "27b10cf7",
   "metadata": {},
   "source": [
    "Now, let us load a dataset. For simplicity, we simulate a dataset with linear relationships between common causes and treatment, and common causes and outcome.\n",
    "\n",
    "Beta is the true causal effect."
   ]
  },
  {
   "cell_type": "code",
   "execution_count": 3,
   "id": "65b5b6d3",
   "metadata": {
    "execution": {
     "iopub.execute_input": "2022-08-19T23:39:03.210568Z",
     "iopub.status.busy": "2022-08-19T23:39:03.210068Z",
     "iopub.status.idle": "2022-08-19T23:39:03.480933Z",
     "shell.execute_reply": "2022-08-19T23:39:03.480404Z"
    }
   },
   "outputs": [
    {
     "name": "stdout",
     "output_type": "stream",
     "text": [
      "8214\n"
     ]
    },
    {
     "data": {
      "text/html": [
       "<div>\n",
       "<style scoped>\n",
       "    .dataframe tbody tr th:only-of-type {\n",
       "        vertical-align: middle;\n",
       "    }\n",
       "\n",
       "    .dataframe tbody tr th {\n",
       "        vertical-align: top;\n",
       "    }\n",
       "\n",
       "    .dataframe thead th {\n",
       "        text-align: right;\n",
       "    }\n",
       "</style>\n",
       "<table border=\"1\" class=\"dataframe\">\n",
       "  <thead>\n",
       "    <tr style=\"text-align: right;\">\n",
       "      <th></th>\n",
       "      <th>Z0</th>\n",
       "      <th>Z1</th>\n",
       "      <th>W0</th>\n",
       "      <th>W1</th>\n",
       "      <th>W2</th>\n",
       "      <th>W3</th>\n",
       "      <th>W4</th>\n",
       "      <th>v0</th>\n",
       "      <th>y</th>\n",
       "    </tr>\n",
       "  </thead>\n",
       "  <tbody>\n",
       "    <tr>\n",
       "      <th>0</th>\n",
       "      <td>1.0</td>\n",
       "      <td>0.308776</td>\n",
       "      <td>-0.395543</td>\n",
       "      <td>1.181884</td>\n",
       "      <td>1.177647</td>\n",
       "      <td>-0.436531</td>\n",
       "      <td>1</td>\n",
       "      <td>True</td>\n",
       "      <td>1.568051</td>\n",
       "    </tr>\n",
       "    <tr>\n",
       "      <th>1</th>\n",
       "      <td>1.0</td>\n",
       "      <td>0.327710</td>\n",
       "      <td>0.359759</td>\n",
       "      <td>-1.111330</td>\n",
       "      <td>3.436044</td>\n",
       "      <td>-1.451841</td>\n",
       "      <td>2</td>\n",
       "      <td>False</td>\n",
       "      <td>1.518019</td>\n",
       "    </tr>\n",
       "    <tr>\n",
       "      <th>2</th>\n",
       "      <td>0.0</td>\n",
       "      <td>0.943163</td>\n",
       "      <td>2.549076</td>\n",
       "      <td>-1.543221</td>\n",
       "      <td>1.439641</td>\n",
       "      <td>-0.605741</td>\n",
       "      <td>3</td>\n",
       "      <td>True</td>\n",
       "      <td>3.277127</td>\n",
       "    </tr>\n",
       "    <tr>\n",
       "      <th>3</th>\n",
       "      <td>1.0</td>\n",
       "      <td>0.287322</td>\n",
       "      <td>0.387718</td>\n",
       "      <td>0.967023</td>\n",
       "      <td>-0.366354</td>\n",
       "      <td>-2.266728</td>\n",
       "      <td>3</td>\n",
       "      <td>True</td>\n",
       "      <td>0.945797</td>\n",
       "    </tr>\n",
       "    <tr>\n",
       "      <th>4</th>\n",
       "      <td>0.0</td>\n",
       "      <td>0.835718</td>\n",
       "      <td>1.234981</td>\n",
       "      <td>-1.175996</td>\n",
       "      <td>-0.008180</td>\n",
       "      <td>1.731120</td>\n",
       "      <td>1</td>\n",
       "      <td>True</td>\n",
       "      <td>2.790465</td>\n",
       "    </tr>\n",
       "    <tr>\n",
       "      <th>...</th>\n",
       "      <td>...</td>\n",
       "      <td>...</td>\n",
       "      <td>...</td>\n",
       "      <td>...</td>\n",
       "      <td>...</td>\n",
       "      <td>...</td>\n",
       "      <td>...</td>\n",
       "      <td>...</td>\n",
       "      <td>...</td>\n",
       "    </tr>\n",
       "    <tr>\n",
       "      <th>9995</th>\n",
       "      <td>0.0</td>\n",
       "      <td>0.079031</td>\n",
       "      <td>-0.547250</td>\n",
       "      <td>-0.680985</td>\n",
       "      <td>2.071409</td>\n",
       "      <td>-1.858471</td>\n",
       "      <td>3</td>\n",
       "      <td>False</td>\n",
       "      <td>0.833953</td>\n",
       "    </tr>\n",
       "    <tr>\n",
       "      <th>9996</th>\n",
       "      <td>0.0</td>\n",
       "      <td>0.958438</td>\n",
       "      <td>0.563888</td>\n",
       "      <td>-0.958311</td>\n",
       "      <td>-1.373511</td>\n",
       "      <td>-0.475400</td>\n",
       "      <td>2</td>\n",
       "      <td>True</td>\n",
       "      <td>1.155147</td>\n",
       "    </tr>\n",
       "    <tr>\n",
       "      <th>9997</th>\n",
       "      <td>0.0</td>\n",
       "      <td>0.569339</td>\n",
       "      <td>0.650425</td>\n",
       "      <td>-2.637492</td>\n",
       "      <td>0.144825</td>\n",
       "      <td>0.992049</td>\n",
       "      <td>3</td>\n",
       "      <td>True</td>\n",
       "      <td>3.039270</td>\n",
       "    </tr>\n",
       "    <tr>\n",
       "      <th>9998</th>\n",
       "      <td>0.0</td>\n",
       "      <td>0.271125</td>\n",
       "      <td>0.838326</td>\n",
       "      <td>-1.585167</td>\n",
       "      <td>1.601310</td>\n",
       "      <td>1.911617</td>\n",
       "      <td>3</td>\n",
       "      <td>True</td>\n",
       "      <td>4.284967</td>\n",
       "    </tr>\n",
       "    <tr>\n",
       "      <th>9999</th>\n",
       "      <td>0.0</td>\n",
       "      <td>0.983302</td>\n",
       "      <td>-0.007793</td>\n",
       "      <td>0.800051</td>\n",
       "      <td>0.270950</td>\n",
       "      <td>-1.082909</td>\n",
       "      <td>1</td>\n",
       "      <td>True</td>\n",
       "      <td>0.929332</td>\n",
       "    </tr>\n",
       "  </tbody>\n",
       "</table>\n",
       "<p>10000 rows × 9 columns</p>\n",
       "</div>"
      ],
      "text/plain": [
       "       Z0        Z1        W0        W1        W2        W3 W4     v0  \\\n",
       "0     1.0  0.308776 -0.395543  1.181884  1.177647 -0.436531  1   True   \n",
       "1     1.0  0.327710  0.359759 -1.111330  3.436044 -1.451841  2  False   \n",
       "2     0.0  0.943163  2.549076 -1.543221  1.439641 -0.605741  3   True   \n",
       "3     1.0  0.287322  0.387718  0.967023 -0.366354 -2.266728  3   True   \n",
       "4     0.0  0.835718  1.234981 -1.175996 -0.008180  1.731120  1   True   \n",
       "...   ...       ...       ...       ...       ...       ... ..    ...   \n",
       "9995  0.0  0.079031 -0.547250 -0.680985  2.071409 -1.858471  3  False   \n",
       "9996  0.0  0.958438  0.563888 -0.958311 -1.373511 -0.475400  2   True   \n",
       "9997  0.0  0.569339  0.650425 -2.637492  0.144825  0.992049  3   True   \n",
       "9998  0.0  0.271125  0.838326 -1.585167  1.601310  1.911617  3   True   \n",
       "9999  0.0  0.983302 -0.007793  0.800051  0.270950 -1.082909  1   True   \n",
       "\n",
       "             y  \n",
       "0     1.568051  \n",
       "1     1.518019  \n",
       "2     3.277127  \n",
       "3     0.945797  \n",
       "4     2.790465  \n",
       "...        ...  \n",
       "9995  0.833953  \n",
       "9996  1.155147  \n",
       "9997  3.039270  \n",
       "9998  4.284967  \n",
       "9999  0.929332  \n",
       "\n",
       "[10000 rows x 9 columns]"
      ]
     },
     "execution_count": 3,
     "metadata": {},
     "output_type": "execute_result"
    }
   ],
   "source": [
    "data = dowhy.datasets.linear_dataset(beta=1,\n",
    "        num_common_causes=5, \n",
    "        num_instruments = 2,\n",
    "        num_treatments=1,\n",
    "        num_discrete_common_causes=1,\n",
    "        num_samples=10000,\n",
    "        treatment_is_binary=True,\n",
    "        outcome_is_binary=False)\n",
    "df = data[\"df\"]\n",
    "print(df[df.v0==True].shape[0])\n",
    "df"
   ]
  },
  {
   "cell_type": "markdown",
   "id": "aee95d36",
   "metadata": {},
   "source": [
    "Note that we are using a pandas dataframe to load the data."
   ]
  },
  {
   "cell_type": "markdown",
   "id": "3071cd58",
   "metadata": {},
   "source": [
    "## Identifying the causal estimand"
   ]
  },
  {
   "cell_type": "markdown",
   "id": "aaf8350a",
   "metadata": {},
   "source": [
    "We now input a causal graph in the GML graph format."
   ]
  },
  {
   "cell_type": "code",
   "execution_count": 4,
   "id": "64019cfc",
   "metadata": {
    "execution": {
     "iopub.execute_input": "2022-08-19T23:39:03.483863Z",
     "iopub.status.busy": "2022-08-19T23:39:03.483510Z",
     "iopub.status.idle": "2022-08-19T23:39:03.507005Z",
     "shell.execute_reply": "2022-08-19T23:39:03.506415Z"
    }
   },
   "outputs": [],
   "source": [
    "# With graph\n",
    "model=CausalModel(\n",
    "        data = df,\n",
    "        treatment=data[\"treatment_name\"],\n",
    "        outcome=data[\"outcome_name\"],\n",
    "        graph=data[\"gml_graph\"],\n",
    "        instruments=data[\"instrument_names\"]\n",
    "        )"
   ]
  },
  {
   "cell_type": "code",
   "execution_count": 5,
   "id": "e6acae35",
   "metadata": {
    "execution": {
     "iopub.execute_input": "2022-08-19T23:39:03.509847Z",
     "iopub.status.busy": "2022-08-19T23:39:03.509537Z",
     "iopub.status.idle": "2022-08-19T23:39:03.560318Z",
     "shell.execute_reply": "2022-08-19T23:39:03.559767Z"
    }
   },
   "outputs": [],
   "source": [
    "model.view_model()"
   ]
  },
  {
   "cell_type": "code",
   "execution_count": 6,
   "id": "3bd40a9f",
   "metadata": {
    "execution": {
     "iopub.execute_input": "2022-08-19T23:39:03.563696Z",
     "iopub.status.busy": "2022-08-19T23:39:03.563162Z",
     "iopub.status.idle": "2022-08-19T23:39:03.586919Z",
     "shell.execute_reply": "2022-08-19T23:39:03.586371Z"
    }
   },
   "outputs": [
    {
     "data": {
      "image/png": "[encoded data removed]",
      "text/plain": [
       "<IPython.core.display.Image object>"
      ]
     },
     "metadata": {},
     "output_type": "display_data"
    }
   ],
   "source": [
    "from IPython.display import Image, display\n",
    "display(Image(filename=\"causal_model.png\"))"
   ]
  },
  {
   "cell_type": "markdown",
   "id": "67e5d79e",
   "metadata": {},
   "source": [
    "We get a causal graph. Now identification and estimation is done."
   ]
  },
  {
   "cell_type": "code",
   "execution_count": 7,
   "id": "6e373f95",
   "metadata": {
    "execution": {
     "iopub.execute_input": "2022-08-19T23:39:03.589723Z",
     "iopub.status.busy": "2022-08-19T23:39:03.589312Z",
     "iopub.status.idle": "2022-08-19T23:39:03.790126Z",
     "shell.execute_reply": "2022-08-19T23:39:03.789309Z"
    }
   },
   "outputs": [
    {
     "name": "stdout",
     "output_type": "stream",
     "text": [
      "Estimand type: nonparametric-ate\n",
      "\n",
      "### Estimand : 1\n",
      "Estimand name: backdoor\n",
      "Estimand expression:\n",
      "  d                       \n",
      "─────(E[y|W4,W3,W1,W0,W2])\n",
      "d[v₀]                     \n",
      "Estimand assumption 1, Unconfoundedness: If U→{v0} and U→y then P(y|v0,W4,W3,W1,W0,W2,U) = P(y|v0,W4,W3,W1,W0,W2)\n",
      "\n",
      "### Estimand : 2\n",
      "Estimand name: iv\n",
      "Estimand expression:\n",
      " ⎡                              -1⎤\n",
      " ⎢    d        ⎛    d          ⎞  ⎥\n",
      "E⎢─────────(y)⋅⎜─────────([v₀])⎟  ⎥\n",
      " ⎣d[Z₁  Z₀]    ⎝d[Z₁  Z₀]      ⎠  ⎦\n",
      "Estimand assumption 1, As-if-random: If U→→y then ¬(U →→{Z1,Z0})\n",
      "Estimand assumption 2, Exclusion: If we remove {Z1,Z0}→{v0}, then ¬({Z1,Z0}→y)\n",
      "\n",
      "### Estimand : 3\n",
      "Estimand name: frontdoor\n",
      "No such variable(s) found!\n",
      "\n"
     ]
    }
   ],
   "source": [
    "identified_estimand = model.identify_effect(proceed_when_unidentifiable=True)\n",
    "print(identified_estimand)"
   ]
  },
  {
   "cell_type": "markdown",
   "id": "bd10b9ad",
   "metadata": {},
   "source": [
    "## Method 1: Propensity Score Stratification\n",
    "\n",
    "We will be using propensity scores to stratify units in the data."
   ]
  },
  {
   "cell_type": "code",
   "execution_count": 8,
   "id": "fa8f69bc",
   "metadata": {
    "execution": {
     "iopub.execute_input": "2022-08-19T23:39:03.793341Z",
     "iopub.status.busy": "2022-08-19T23:39:03.792961Z",
     "iopub.status.idle": "2022-08-19T23:39:04.555237Z",
     "shell.execute_reply": "2022-08-19T23:39:04.554437Z"
    }
   },
   "outputs": [
    {
     "name": "stdout",
     "output_type": "stream",
     "text": [
      "propensity_score_stratification\n"
     ]
    },
    {
     "name": "stdout",
     "output_type": "stream",
     "text": [
      "*** Causal Estimate ***\n",
      "\n",
      "## Identified estimand\n",
      "Estimand type: nonparametric-ate\n",
      "\n",
      "### Estimand : 1\n",
      "Estimand name: backdoor\n",
      "Estimand expression:\n",
      "  d                       \n",
      "─────(E[y|W4,W3,W1,W0,W2])\n",
      "d[v₀]                     \n",
      "Estimand assumption 1, Unconfoundedness: If U→{v0} and U→y then P(y|v0,W4,W3,W1,W0,W2,U) = P(y|v0,W4,W3,W1,W0,W2)\n",
      "\n",
      "## Realized estimand\n",
      "b: y~v0+W4+W3+W1+W0+W2\n",
      "Target units: att\n",
      "\n",
      "## Estimate\n",
      "Mean value: 1.0145872022087319\n",
      "\n",
      "Causal Estimate is 1.0145872022087319\n"
     ]
    }
   ],
   "source": [
    "causal_estimate_strat = model.estimate_effect(identified_estimand,\n",
    "                                              method_name=\"backdoor.propensity_score_stratification\",\n",
    "                                              target_units=\"att\")\n",
    "print(causal_estimate_strat)\n",
    "print(\"Causal Estimate is \" + str(causal_estimate_strat.value))"
   ]
  },
  {
   "cell_type": "markdown",
   "id": "fab8fe8d",
   "metadata": {},
   "source": [
    "### Textual Interpreter\n",
    "\n",
    "The textual Interpreter describes (in words) the effect of unit change in the treatment variable on the outcome variable."
   ]
  },
  {
   "cell_type": "code",
   "execution_count": 9,
   "id": "2e3f007c",
   "metadata": {
    "execution": {
     "iopub.execute_input": "2022-08-19T23:39:04.558634Z",
     "iopub.status.busy": "2022-08-19T23:39:04.558401Z",
     "iopub.status.idle": "2022-08-19T23:39:04.587450Z",
     "shell.execute_reply": "2022-08-19T23:39:04.586526Z"
    }
   },
   "outputs": [
    {
     "name": "stdout",
     "output_type": "stream",
     "text": [
      "Increasing the treatment variable(s) [v0] from 0 to 1 causes an increase of 1.0145872022087319 in the expected value of the outcome [y], over the data distribution/population represented by the dataset.\n"
     ]
    }
   ],
   "source": [
    "# Textual Interpreter\n",
    "interpretation = causal_estimate_strat.interpret(method_name=\"textual_effect_interpreter\")"
   ]
  },
  {
   "cell_type": "markdown",
   "id": "9ffa050c",
   "metadata": {},
   "source": [
    "### Visual Interpreter\n",
    "\n",
    "The visual interpreter plots the change in the standardized mean difference (SMD) before and after Propensity Score based adjustment of the dataset. The formula for SMD is given below.\n",
    "\n",
    "\n",
    "$SMD = \\frac{\\bar X_{1} - \\bar X_{2}}{\\sqrt{(S_{1}^{2} + S_{2}^{2})/2}}$\n",
    "\n",
    "Here, $\\bar X_{1}$ and $\\bar X_{2}$ are the sample mean for the treated and control groups.\n"
   ]
  },
  {
   "cell_type": "code",
   "execution_count": 10,
   "id": "402105ea",
   "metadata": {
    "execution": {
     "iopub.execute_input": "2022-08-19T23:39:04.591385Z",
     "iopub.status.busy": "2022-08-19T23:39:04.590782Z",
     "iopub.status.idle": "2022-08-19T23:39:05.893854Z",
     "shell.execute_reply": "2022-08-19T23:39:05.893189Z"
    }
   },
   "outputs": [
    {
     "data": {
      "image/png": "[encoded data removed]",
      "text/plain": [
       "<Figure size 640x480 with 1 Axes>"
      ]
     },
     "metadata": {},
     "output_type": "display_data"
    }
   ],
   "source": [
    "# Visual Interpreter\n",
    "interpretation = causal_estimate_strat.interpret(method_name=\"propensity_balance_interpreter\")"
   ]
  },
  {
   "cell_type": "markdown",
   "id": "9cc9ad13",
   "metadata": {},
   "source": [
    "This plot shows how the SMD decreases from the unadjusted to the stratified units. "
   ]
  },
  {
   "cell_type": "markdown",
   "id": "d347fa19",
   "metadata": {},
   "source": [
    "## Method 2: Propensity Score Matching\n",
    "\n",
    "We will be using propensity scores to match units in the data."
   ]
  },
  {
   "cell_type": "code",
   "execution_count": 11,
   "id": "7fb4ee91",
   "metadata": {
    "execution": {
     "iopub.execute_input": "2022-08-19T23:39:05.898401Z",
     "iopub.status.busy": "2022-08-19T23:39:05.897827Z",
     "iopub.status.idle": "2022-08-19T23:39:10.707540Z",
     "shell.execute_reply": "2022-08-19T23:39:10.706785Z"
    }
   },
   "outputs": [
    {
     "name": "stdout",
     "output_type": "stream",
     "text": [
      "propensity_score_matching\n"
     ]
    },
    {
     "name": "stdout",
     "output_type": "stream",
     "text": [
      "*** Causal Estimate ***\n",
      "\n",
      "## Identified estimand\n",
      "Estimand type: nonparametric-ate\n",
      "\n",
      "### Estimand : 1\n",
      "Estimand name: backdoor\n",
      "Estimand expression:\n",
      "  d                       \n",
      "─────(E[y|W4,W3,W1,W0,W2])\n",
      "d[v₀]                     \n",
      "Estimand assumption 1, Unconfoundedness: If U→{v0} and U→y then P(y|v0,W4,W3,W1,W0,W2,U) = P(y|v0,W4,W3,W1,W0,W2)\n",
      "\n",
      "## Realized estimand\n",
      "b: y~v0+W4+W3+W1+W0+W2\n",
      "Target units: atc\n",
      "\n",
      "## Estimate\n",
      "Mean value: 1.0112565601764905\n",
      "\n",
      "Causal Estimate is 1.0112565601764905\n"
     ]
    }
   ],
   "source": [
    "causal_estimate_match = model.estimate_effect(identified_estimand,\n",
    "                                              method_name=\"backdoor.propensity_score_matching\",\n",
    "                                              target_units=\"atc\")\n",
    "print(causal_estimate_match)\n",
    "print(\"Causal Estimate is \" + str(causal_estimate_match.value))"
   ]
  },
  {
   "cell_type": "code",
   "execution_count": 12,
   "id": "6ed90d06",
   "metadata": {
    "execution": {
     "iopub.execute_input": "2022-08-19T23:39:10.711828Z",
     "iopub.status.busy": "2022-08-19T23:39:10.710564Z",
     "iopub.status.idle": "2022-08-19T23:39:10.738728Z",
     "shell.execute_reply": "2022-08-19T23:39:10.737931Z"
    }
   },
   "outputs": [
    {
     "name": "stdout",
     "output_type": "stream",
     "text": [
      "Increasing the treatment variable(s) [v0] from 0 to 1 causes an increase of 1.0112565601764905 in the expected value of the outcome [y], over the data distribution/population represented by the dataset.\n"
     ]
    }
   ],
   "source": [
    "# Textual Interpreter\n",
    "interpretation = causal_estimate_match.interpret(method_name=\"textual_effect_interpreter\")"
   ]
  },
  {
   "cell_type": "markdown",
   "id": "adf9d232",
   "metadata": {},
   "source": [
    "Cannot use propensity balance interpretor here since the interpreter method only supports propensity score stratification estimator."
   ]
  },
  {
   "cell_type": "markdown",
   "id": "729dd1f5",
   "metadata": {},
   "source": [
    "## Method 3: Weighting\n",
    "\n",
    "We will be using (inverse) propensity scores to assign weights to units in the data. DoWhy supports a few different weighting schemes:\n",
    "1. Vanilla Inverse Propensity Score weighting (IPS) (weighting_scheme=\"ips_weight\")\n",
    "2. Self-normalized IPS weighting (also known as the Hajek estimator) (weighting_scheme=\"ips_normalized_weight\")\n",
    "3. Stabilized IPS weighting (weighting_scheme = \"ips_stabilized_weight\")"
   ]
  },
  {
   "cell_type": "code",
   "execution_count": 13,
   "id": "0c131290",
   "metadata": {
    "execution": {
     "iopub.execute_input": "2022-08-19T23:39:10.742504Z",
     "iopub.status.busy": "2022-08-19T23:39:10.741928Z",
     "iopub.status.idle": "2022-08-19T23:39:10.805975Z",
     "shell.execute_reply": "2022-08-19T23:39:10.805304Z"
    }
   },
   "outputs": [
    {
     "name": "stdout",
     "output_type": "stream",
     "text": [
      "propensity_score_weighting\n",
      "*** Causal Estimate ***\n",
      "\n",
      "## Identified estimand\n",
      "Estimand type: nonparametric-ate\n",
      "\n",
      "### Estimand : 1\n",
      "Estimand name: backdoor\n",
      "Estimand expression:\n",
      "  d                       \n",
      "─────(E[y|W4,W3,W1,W0,W2])\n",
      "d[v₀]                     \n",
      "Estimand assumption 1, Unconfoundedness: If U→{v0} and U→y then P(y|v0,W4,W3,W1,W0,W2,U) = P(y|v0,W4,W3,W1,W0,W2)\n",
      "\n",
      "## Realized estimand\n",
      "b: y~v0+W4+W3+W1+W0+W2\n",
      "Target units: ate\n",
      "\n",
      "## Estimate\n",
      "Mean value: 1.1229259497220752\n",
      "\n",
      "Causal Estimate is 1.1229259497220752\n"
     ]
    }
   ],
   "source": [
    "causal_estimate_ipw = model.estimate_effect(identified_estimand,\n",
    "                                            method_name=\"backdoor.propensity_score_weighting\",\n",
    "                                            target_units = \"ate\",\n",
    "                                            method_params={\"weighting_scheme\":\"ips_weight\"})\n",
    "print(causal_estimate_ipw)\n",
    "print(\"Causal Estimate is \" + str(causal_estimate_ipw.value))"
   ]
  },
  {
   "cell_type": "code",
   "execution_count": 14,
   "id": "498f2741",
   "metadata": {
    "execution": {
     "iopub.execute_input": "2022-08-19T23:39:10.809666Z",
     "iopub.status.busy": "2022-08-19T23:39:10.809121Z",
     "iopub.status.idle": "2022-08-19T23:39:10.836411Z",
     "shell.execute_reply": "2022-08-19T23:39:10.835775Z"
    }
   },
   "outputs": [
    {
     "name": "stdout",
     "output_type": "stream",
     "text": [
      "Increasing the treatment variable(s) [v0] from 0 to 1 causes an increase of 1.1229259497220752 in the expected value of the outcome [y], over the data distribution/population represented by the dataset.\n"
     ]
    }
   ],
   "source": [
    "# Textual Interpreter\n",
    "interpretation = causal_estimate_ipw.interpret(method_name=\"textual_effect_interpreter\")"
   ]
  },
  {
   "cell_type": "code",
   "execution_count": 15,
   "id": "ca577e81",
   "metadata": {
    "execution": {
     "iopub.execute_input": "2022-08-19T23:39:10.840365Z",
     "iopub.status.busy": "2022-08-19T23:39:10.839169Z",
     "iopub.status.idle": "2022-08-19T23:39:11.187118Z",
     "shell.execute_reply": "2022-08-19T23:39:11.186238Z"
    }
   },
   "outputs": [
    {
     "data": {
      "image/png": "[encoded data removed]",
      "text/plain": [
       "<Figure size 800x800 with 2 Axes>"
      ]
     },
     "metadata": {},
     "output_type": "display_data"
    }
   ],
   "source": [
    "interpretation = causal_estimate_ipw.interpret(method_name=\"confounder_distribution_interpreter\", fig_size=(8,8), font_size=12, var_name='W4', var_type='discrete')"
   ]
  },
  {
   "cell_type": "code",
   "execution_count": null,
   "id": "0d12ba5c",
   "metadata": {},
   "outputs": [],
   "source": []
  }
 ],
 "metadata": {
  "kernelspec": {
   "display_name": "Python 3",
   "language": "python",
   "name": "python3"
  },
  "language_info": {
   "codemirror_mode": {
    "name": "ipython",
    "version": 3
   },
   "file_extension": ".py",
   "mimetype": "text/x-python",
   "name": "python",
   "nbconvert_exporter": "python",
   "pygments_lexer": "ipython3",
   "version": "3.8.10"
  },
  "toc": {
   "base_numbering": 1,
   "nav_menu": {},
   "number_sections": false,
   "sideBar": true,
   "skip_h1_title": true,
   "title_cell": "Table of Contents",
   "title_sidebar": "Contents",
   "toc_cell": false,
   "toc_position": {},
   "toc_section_display": true,
   "toc_window_display": false
  }
 },
 "nbformat": 4,
 "nbformat_minor": 5
}
