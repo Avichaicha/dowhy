{
 "cells": [
  {
   "cell_type": "markdown",
   "id": "9f0b80fe",
   "metadata": {},
   "source": [
    "# DoWhy: Interpreters for Causal Estimators\n",
    "\n",
    "This is a quick introduction to the use of interpreters in the DoWhy causal inference library.\n",
    "We will load in a sample dataset, use different methods for estimating the causal effect of a (pre-specified)treatment variable on a (pre-specified) outcome variable and demonstrate how to interpret the obtained results.\n",
    "\n",
    "First, let us add the required path for Python to find the DoWhy code and load all required packages"
   ]
  },
  {
   "cell_type": "code",
   "execution_count": 1,
   "id": "66511fe0",
   "metadata": {
    "execution": {
     "iopub.execute_input": "2022-08-08T05:10:28.211914Z",
     "iopub.status.busy": "2022-08-08T05:10:28.211585Z",
     "iopub.status.idle": "2022-08-08T05:10:28.230755Z",
     "shell.execute_reply": "2022-08-08T05:10:28.230068Z"
    }
   },
   "outputs": [],
   "source": [
    "%load_ext autoreload\n",
    "%autoreload 2"
   ]
  },
  {
   "cell_type": "code",
   "execution_count": 2,
   "id": "06b38aee",
   "metadata": {
    "execution": {
     "iopub.execute_input": "2022-08-08T05:10:28.234603Z",
     "iopub.status.busy": "2022-08-08T05:10:28.234115Z",
     "iopub.status.idle": "2022-08-08T05:10:29.501802Z",
     "shell.execute_reply": "2022-08-08T05:10:29.500740Z"
    }
   },
   "outputs": [
    {
     "name": "stdout",
     "output_type": "stream",
     "text": [
      "keywords are unexpanded, not using\n"
     ]
    }
   ],
   "source": [
    "import numpy as np\n",
    "import pandas as pd\n",
    "import logging\n",
    "\n",
    "import dowhy\n",
    "from dowhy import CausalModel\n",
    "import dowhy.datasets "
   ]
  },
  {
   "cell_type": "markdown",
   "id": "286cdbd9",
   "metadata": {},
   "source": [
    "Now, let us load a dataset. For simplicity, we simulate a dataset with linear relationships between common causes and treatment, and common causes and outcome.\n",
    "\n",
    "Beta is the true causal effect."
   ]
  },
  {
   "cell_type": "code",
   "execution_count": 3,
   "id": "780f313d",
   "metadata": {
    "execution": {
     "iopub.execute_input": "2022-08-08T05:10:29.507005Z",
     "iopub.status.busy": "2022-08-08T05:10:29.506027Z",
     "iopub.status.idle": "2022-08-08T05:10:29.896993Z",
     "shell.execute_reply": "2022-08-08T05:10:29.896309Z"
    }
   },
   "outputs": [
    {
     "name": "stdout",
     "output_type": "stream",
     "text": [
      "8314\n"
     ]
    },
    {
     "data": {
      "text/html": [
       "<div>\n",
       "<style scoped>\n",
       "    .dataframe tbody tr th:only-of-type {\n",
       "        vertical-align: middle;\n",
       "    }\n",
       "\n",
       "    .dataframe tbody tr th {\n",
       "        vertical-align: top;\n",
       "    }\n",
       "\n",
       "    .dataframe thead th {\n",
       "        text-align: right;\n",
       "    }\n",
       "</style>\n",
       "<table border=\"1\" class=\"dataframe\">\n",
       "  <thead>\n",
       "    <tr style=\"text-align: right;\">\n",
       "      <th></th>\n",
       "      <th>Z0</th>\n",
       "      <th>Z1</th>\n",
       "      <th>W0</th>\n",
       "      <th>W1</th>\n",
       "      <th>W2</th>\n",
       "      <th>W3</th>\n",
       "      <th>W4</th>\n",
       "      <th>v0</th>\n",
       "      <th>y</th>\n",
       "    </tr>\n",
       "  </thead>\n",
       "  <tbody>\n",
       "    <tr>\n",
       "      <th>0</th>\n",
       "      <td>0.0</td>\n",
       "      <td>0.419736</td>\n",
       "      <td>1.272773</td>\n",
       "      <td>2.149248</td>\n",
       "      <td>-0.585157</td>\n",
       "      <td>-1.552515</td>\n",
       "      <td>2</td>\n",
       "      <td>True</td>\n",
       "      <td>0.762798</td>\n",
       "    </tr>\n",
       "    <tr>\n",
       "      <th>1</th>\n",
       "      <td>0.0</td>\n",
       "      <td>0.757602</td>\n",
       "      <td>-1.208451</td>\n",
       "      <td>0.853743</td>\n",
       "      <td>0.264812</td>\n",
       "      <td>-1.009766</td>\n",
       "      <td>3</td>\n",
       "      <td>True</td>\n",
       "      <td>1.288251</td>\n",
       "    </tr>\n",
       "    <tr>\n",
       "      <th>2</th>\n",
       "      <td>0.0</td>\n",
       "      <td>0.023916</td>\n",
       "      <td>-0.746119</td>\n",
       "      <td>1.750293</td>\n",
       "      <td>1.048975</td>\n",
       "      <td>2.014581</td>\n",
       "      <td>1</td>\n",
       "      <td>True</td>\n",
       "      <td>3.652049</td>\n",
       "    </tr>\n",
       "    <tr>\n",
       "      <th>3</th>\n",
       "      <td>0.0</td>\n",
       "      <td>0.272852</td>\n",
       "      <td>2.480382</td>\n",
       "      <td>-1.353507</td>\n",
       "      <td>0.820249</td>\n",
       "      <td>-0.488886</td>\n",
       "      <td>1</td>\n",
       "      <td>True</td>\n",
       "      <td>1.219158</td>\n",
       "    </tr>\n",
       "    <tr>\n",
       "      <th>4</th>\n",
       "      <td>0.0</td>\n",
       "      <td>0.866498</td>\n",
       "      <td>-0.184762</td>\n",
       "      <td>1.935065</td>\n",
       "      <td>-1.686125</td>\n",
       "      <td>-1.966809</td>\n",
       "      <td>0</td>\n",
       "      <td>True</td>\n",
       "      <td>-0.877265</td>\n",
       "    </tr>\n",
       "    <tr>\n",
       "      <th>...</th>\n",
       "      <td>...</td>\n",
       "      <td>...</td>\n",
       "      <td>...</td>\n",
       "      <td>...</td>\n",
       "      <td>...</td>\n",
       "      <td>...</td>\n",
       "      <td>...</td>\n",
       "      <td>...</td>\n",
       "      <td>...</td>\n",
       "    </tr>\n",
       "    <tr>\n",
       "      <th>9995</th>\n",
       "      <td>0.0</td>\n",
       "      <td>0.262785</td>\n",
       "      <td>-0.243772</td>\n",
       "      <td>1.757735</td>\n",
       "      <td>-0.173423</td>\n",
       "      <td>-0.841020</td>\n",
       "      <td>0</td>\n",
       "      <td>False</td>\n",
       "      <td>-0.600926</td>\n",
       "    </tr>\n",
       "    <tr>\n",
       "      <th>9996</th>\n",
       "      <td>0.0</td>\n",
       "      <td>0.337917</td>\n",
       "      <td>-0.613426</td>\n",
       "      <td>-0.916425</td>\n",
       "      <td>-1.185986</td>\n",
       "      <td>0.656060</td>\n",
       "      <td>2</td>\n",
       "      <td>False</td>\n",
       "      <td>1.047516</td>\n",
       "    </tr>\n",
       "    <tr>\n",
       "      <th>9997</th>\n",
       "      <td>1.0</td>\n",
       "      <td>0.280356</td>\n",
       "      <td>0.403430</td>\n",
       "      <td>-1.307800</td>\n",
       "      <td>0.793331</td>\n",
       "      <td>-1.069946</td>\n",
       "      <td>3</td>\n",
       "      <td>True</td>\n",
       "      <td>1.222089</td>\n",
       "    </tr>\n",
       "    <tr>\n",
       "      <th>9998</th>\n",
       "      <td>0.0</td>\n",
       "      <td>0.359011</td>\n",
       "      <td>-0.047278</td>\n",
       "      <td>1.711016</td>\n",
       "      <td>1.423125</td>\n",
       "      <td>-1.412173</td>\n",
       "      <td>2</td>\n",
       "      <td>True</td>\n",
       "      <td>0.964614</td>\n",
       "    </tr>\n",
       "    <tr>\n",
       "      <th>9999</th>\n",
       "      <td>0.0</td>\n",
       "      <td>0.593426</td>\n",
       "      <td>0.038470</td>\n",
       "      <td>2.788247</td>\n",
       "      <td>1.412505</td>\n",
       "      <td>0.299841</td>\n",
       "      <td>1</td>\n",
       "      <td>True</td>\n",
       "      <td>2.339594</td>\n",
       "    </tr>\n",
       "  </tbody>\n",
       "</table>\n",
       "<p>10000 rows × 9 columns</p>\n",
       "</div>"
      ],
      "text/plain": [
       "       Z0        Z1        W0        W1        W2        W3 W4     v0  \\\n",
       "0     0.0  0.419736  1.272773  2.149248 -0.585157 -1.552515  2   True   \n",
       "1     0.0  0.757602 -1.208451  0.853743  0.264812 -1.009766  3   True   \n",
       "2     0.0  0.023916 -0.746119  1.750293  1.048975  2.014581  1   True   \n",
       "3     0.0  0.272852  2.480382 -1.353507  0.820249 -0.488886  1   True   \n",
       "4     0.0  0.866498 -0.184762  1.935065 -1.686125 -1.966809  0   True   \n",
       "...   ...       ...       ...       ...       ...       ... ..    ...   \n",
       "9995  0.0  0.262785 -0.243772  1.757735 -0.173423 -0.841020  0  False   \n",
       "9996  0.0  0.337917 -0.613426 -0.916425 -1.185986  0.656060  2  False   \n",
       "9997  1.0  0.280356  0.403430 -1.307800  0.793331 -1.069946  3   True   \n",
       "9998  0.0  0.359011 -0.047278  1.711016  1.423125 -1.412173  2   True   \n",
       "9999  0.0  0.593426  0.038470  2.788247  1.412505  0.299841  1   True   \n",
       "\n",
       "             y  \n",
       "0     0.762798  \n",
       "1     1.288251  \n",
       "2     3.652049  \n",
       "3     1.219158  \n",
       "4    -0.877265  \n",
       "...        ...  \n",
       "9995 -0.600926  \n",
       "9996  1.047516  \n",
       "9997  1.222089  \n",
       "9998  0.964614  \n",
       "9999  2.339594  \n",
       "\n",
       "[10000 rows x 9 columns]"
      ]
     },
     "execution_count": 3,
     "metadata": {},
     "output_type": "execute_result"
    }
   ],
   "source": [
    "data = dowhy.datasets.linear_dataset(beta=1,\n",
    "        num_common_causes=5, \n",
    "        num_instruments = 2,\n",
    "        num_treatments=1,\n",
    "        num_discrete_common_causes=1,\n",
    "        num_samples=10000,\n",
    "        treatment_is_binary=True,\n",
    "        outcome_is_binary=False)\n",
    "df = data[\"df\"]\n",
    "print(df[df.v0==True].shape[0])\n",
    "df"
   ]
  },
  {
   "cell_type": "markdown",
   "id": "0a8816f3",
   "metadata": {},
   "source": [
    "Note that we are using a pandas dataframe to load the data."
   ]
  },
  {
   "cell_type": "markdown",
   "id": "7a61575b",
   "metadata": {},
   "source": [
    "## Identifying the causal estimand"
   ]
  },
  {
   "cell_type": "markdown",
   "id": "5da09e54",
   "metadata": {},
   "source": [
    "We now input a causal graph in the GML graph format."
   ]
  },
  {
   "cell_type": "code",
   "execution_count": 4,
   "id": "7db3333c",
   "metadata": {
    "execution": {
     "iopub.execute_input": "2022-08-08T05:10:29.900869Z",
     "iopub.status.busy": "2022-08-08T05:10:29.900411Z",
     "iopub.status.idle": "2022-08-08T05:10:29.929886Z",
     "shell.execute_reply": "2022-08-08T05:10:29.929239Z"
    }
   },
   "outputs": [],
   "source": [
    "# With graph\n",
    "model=CausalModel(\n",
    "        data = df,\n",
    "        treatment=data[\"treatment_name\"],\n",
    "        outcome=data[\"outcome_name\"],\n",
    "        graph=data[\"gml_graph\"],\n",
    "        instruments=data[\"instrument_names\"]\n",
    "        )"
   ]
  },
  {
   "cell_type": "code",
   "execution_count": 5,
   "id": "b1def2e4",
   "metadata": {
    "execution": {
     "iopub.execute_input": "2022-08-08T05:10:29.933716Z",
     "iopub.status.busy": "2022-08-08T05:10:29.933287Z",
     "iopub.status.idle": "2022-08-08T05:10:30.010127Z",
     "shell.execute_reply": "2022-08-08T05:10:30.009307Z"
    }
   },
   "outputs": [],
   "source": [
    "model.view_model()"
   ]
  },
  {
   "cell_type": "code",
   "execution_count": 6,
   "id": "7d250424",
   "metadata": {
    "execution": {
     "iopub.execute_input": "2022-08-08T05:10:30.014704Z",
     "iopub.status.busy": "2022-08-08T05:10:30.014139Z",
     "iopub.status.idle": "2022-08-08T05:10:30.046005Z",
     "shell.execute_reply": "2022-08-08T05:10:30.045070Z"
    }
   },
   "outputs": [
    {
     "data": {
      "image/png": "[encoded data removed]",
      "text/plain": [
       "<IPython.core.display.Image object>"
      ]
     },
     "metadata": {},
     "output_type": "display_data"
    }
   ],
   "source": [
    "from IPython.display import Image, display\n",
    "display(Image(filename=\"causal_model.png\"))"
   ]
  },
  {
   "cell_type": "markdown",
   "id": "ae10f6de",
   "metadata": {},
   "source": [
    "We get a causal graph. Now identification and estimation is done."
   ]
  },
  {
   "cell_type": "code",
   "execution_count": 7,
   "id": "1a71e983",
   "metadata": {
    "execution": {
     "iopub.execute_input": "2022-08-08T05:10:30.049987Z",
     "iopub.status.busy": "2022-08-08T05:10:30.049693Z",
     "iopub.status.idle": "2022-08-08T05:10:30.326567Z",
     "shell.execute_reply": "2022-08-08T05:10:30.325858Z"
    }
   },
   "outputs": [
    {
     "name": "stdout",
     "output_type": "stream",
     "text": [
      "Estimand type: nonparametric-ate\n",
      "\n",
      "### Estimand : 1\n",
      "Estimand name: backdoor\n",
      "Estimand expression:\n",
      "  d                       \n",
      "─────(E[y|W3,W2,W1,W0,W4])\n",
      "d[v₀]                     \n",
      "Estimand assumption 1, Unconfoundedness: If U→{v0} and U→y then P(y|v0,W3,W2,W1,W0,W4,U) = P(y|v0,W3,W2,W1,W0,W4)\n",
      "\n",
      "### Estimand : 2\n",
      "Estimand name: iv\n",
      "Estimand expression:\n",
      " ⎡                              -1⎤\n",
      " ⎢    d        ⎛    d          ⎞  ⎥\n",
      "E⎢─────────(y)⋅⎜─────────([v₀])⎟  ⎥\n",
      " ⎣d[Z₁  Z₀]    ⎝d[Z₁  Z₀]      ⎠  ⎦\n",
      "Estimand assumption 1, As-if-random: If U→→y then ¬(U →→{Z1,Z0})\n",
      "Estimand assumption 2, Exclusion: If we remove {Z1,Z0}→{v0}, then ¬({Z1,Z0}→y)\n",
      "\n",
      "### Estimand : 3\n",
      "Estimand name: frontdoor\n",
      "No such variable(s) found!\n",
      "\n"
     ]
    }
   ],
   "source": [
    "identified_estimand = model.identify_effect(proceed_when_unidentifiable=True)\n",
    "print(identified_estimand)"
   ]
  },
  {
   "cell_type": "markdown",
   "id": "28ac8f0b",
   "metadata": {},
   "source": [
    "## Method 1: Propensity Score Stratification\n",
    "\n",
    "We will be using propensity scores to stratify units in the data."
   ]
  },
  {
   "cell_type": "code",
   "execution_count": 8,
   "id": "6a9a0002",
   "metadata": {
    "execution": {
     "iopub.execute_input": "2022-08-08T05:10:30.330543Z",
     "iopub.status.busy": "2022-08-08T05:10:30.329973Z",
     "iopub.status.idle": "2022-08-08T05:10:31.250818Z",
     "shell.execute_reply": "2022-08-08T05:10:31.249719Z"
    }
   },
   "outputs": [
    {
     "name": "stdout",
     "output_type": "stream",
     "text": [
      "propensity_score_stratification\n"
     ]
    },
    {
     "name": "stderr",
     "output_type": "stream",
     "text": [
      "/usr/local/lib/python3.8/dist-packages/sklearn/utils/validation.py:993: DataConversionWarning: A column-vector y was passed when a 1d array was expected. Please change the shape of y to (n_samples, ), for example using ravel().\n",
      "  y = column_or_1d(y, warn=True)\n"
     ]
    },
    {
     "name": "stdout",
     "output_type": "stream",
     "text": [
      "*** Causal Estimate ***\n",
      "\n",
      "## Identified estimand\n",
      "Estimand type: nonparametric-ate\n",
      "\n",
      "### Estimand : 1\n",
      "Estimand name: backdoor\n",
      "Estimand expression:\n",
      "  d                       \n",
      "─────(E[y|W3,W2,W1,W0,W4])\n",
      "d[v₀]                     \n",
      "Estimand assumption 1, Unconfoundedness: If U→{v0} and U→y then P(y|v0,W3,W2,W1,W0,W4,U) = P(y|v0,W3,W2,W1,W0,W4)\n",
      "\n",
      "## Realized estimand\n",
      "b: y~v0+W3+W2+W1+W0+W4\n",
      "Target units: att\n",
      "\n",
      "## Estimate\n",
      "Mean value: 0.9970019352451199\n",
      "\n",
      "Causal Estimate is 0.9970019352451199\n"
     ]
    }
   ],
   "source": [
    "causal_estimate_strat = model.estimate_effect(identified_estimand,\n",
    "                                              method_name=\"backdoor.propensity_score_stratification\",\n",
    "                                              target_units=\"att\")\n",
    "print(causal_estimate_strat)\n",
    "print(\"Causal Estimate is \" + str(causal_estimate_strat.value))"
   ]
  },
  {
   "cell_type": "markdown",
   "id": "525bb44c",
   "metadata": {},
   "source": [
    "### Textual Interpreter\n",
    "\n",
    "The textual Interpreter describes (in words) the effect of unit change in the treatment variable on the outcome variable."
   ]
  },
  {
   "cell_type": "code",
   "execution_count": 9,
   "id": "059dd011",
   "metadata": {
    "execution": {
     "iopub.execute_input": "2022-08-08T05:10:31.255941Z",
     "iopub.status.busy": "2022-08-08T05:10:31.255251Z",
     "iopub.status.idle": "2022-08-08T05:10:31.285412Z",
     "shell.execute_reply": "2022-08-08T05:10:31.284380Z"
    }
   },
   "outputs": [
    {
     "name": "stdout",
     "output_type": "stream",
     "text": [
      "Increasing the treatment variable(s) [v0] from 0 to 1 causes an increase of 0.9970019352451199 in the expected value of the outcome [y], over the data distribution/population represented by the dataset.\n"
     ]
    }
   ],
   "source": [
    "# Textual Interpreter\n",
    "interpretation = causal_estimate_strat.interpret(method_name=\"textual_effect_interpreter\")"
   ]
  },
  {
   "cell_type": "markdown",
   "id": "b4752e76",
   "metadata": {},
   "source": [
    "### Visual Interpreter\n",
    "\n",
    "The visual interpreter plots the change in the standardized mean difference (SMD) before and after Propensity Score based adjustment of the dataset. The formula for SMD is given below.\n",
    "\n",
    "\n",
    "$SMD = \\frac{\\bar X_{1} - \\bar X_{2}}{\\sqrt{(S_{1}^{2} + S_{2}^{2})/2}}$\n",
    "\n",
    "Here, $\\bar X_{1}$ and $\\bar X_{2}$ are the sample mean for the treated and control groups.\n"
   ]
  },
  {
   "cell_type": "code",
   "execution_count": 10,
   "id": "41e9d212",
   "metadata": {
    "execution": {
     "iopub.execute_input": "2022-08-08T05:10:31.289371Z",
     "iopub.status.busy": "2022-08-08T05:10:31.288996Z",
     "iopub.status.idle": "2022-08-08T05:10:32.876793Z",
     "shell.execute_reply": "2022-08-08T05:10:32.875910Z"
    }
   },
   "outputs": [
    {
     "data": {
      "image/png": "[encoded data removed]",
      "text/plain": [
       "<Figure size 432x288 with 1 Axes>"
      ]
     },
     "metadata": {
      "needs_background": "light"
     },
     "output_type": "display_data"
    }
   ],
   "source": [
    "# Visual Interpreter\n",
    "interpretation = causal_estimate_strat.interpret(method_name=\"propensity_balance_interpreter\")"
   ]
  },
  {
   "cell_type": "markdown",
   "id": "5eec54ba",
   "metadata": {},
   "source": [
    "This plot shows how the SMD decreases from the unadjusted to the stratified units. "
   ]
  },
  {
   "cell_type": "markdown",
   "id": "e8a6902b",
   "metadata": {},
   "source": [
    "## Method 2: Propensity Score Matching\n",
    "\n",
    "We will be using propensity scores to match units in the data."
   ]
  },
  {
   "cell_type": "code",
   "execution_count": 11,
   "id": "256b605f",
   "metadata": {
    "execution": {
     "iopub.execute_input": "2022-08-08T05:10:32.880998Z",
     "iopub.status.busy": "2022-08-08T05:10:32.880536Z",
     "iopub.status.idle": "2022-08-08T05:10:38.290882Z",
     "shell.execute_reply": "2022-08-08T05:10:38.290173Z"
    }
   },
   "outputs": [
    {
     "name": "stdout",
     "output_type": "stream",
     "text": [
      "propensity_score_matching\n"
     ]
    },
    {
     "name": "stderr",
     "output_type": "stream",
     "text": [
      "/usr/local/lib/python3.8/dist-packages/sklearn/utils/validation.py:993: DataConversionWarning: A column-vector y was passed when a 1d array was expected. Please change the shape of y to (n_samples, ), for example using ravel().\n",
      "  y = column_or_1d(y, warn=True)\n"
     ]
    },
    {
     "name": "stdout",
     "output_type": "stream",
     "text": [
      "*** Causal Estimate ***\n",
      "\n",
      "## Identified estimand\n",
      "Estimand type: nonparametric-ate\n",
      "\n",
      "### Estimand : 1\n",
      "Estimand name: backdoor\n",
      "Estimand expression:\n",
      "  d                       \n",
      "─────(E[y|W3,W2,W1,W0,W4])\n",
      "d[v₀]                     \n",
      "Estimand assumption 1, Unconfoundedness: If U→{v0} and U→y then P(y|v0,W3,W2,W1,W0,W4,U) = P(y|v0,W3,W2,W1,W0,W4)\n",
      "\n",
      "## Realized estimand\n",
      "b: y~v0+W3+W2+W1+W0+W4\n",
      "Target units: atc\n",
      "\n",
      "## Estimate\n",
      "Mean value: 1.0016033325947842\n",
      "\n",
      "Causal Estimate is 1.0016033325947842\n"
     ]
    }
   ],
   "source": [
    "causal_estimate_match = model.estimate_effect(identified_estimand,\n",
    "                                              method_name=\"backdoor.propensity_score_matching\",\n",
    "                                              target_units=\"atc\")\n",
    "print(causal_estimate_match)\n",
    "print(\"Causal Estimate is \" + str(causal_estimate_match.value))"
   ]
  },
  {
   "cell_type": "code",
   "execution_count": 12,
   "id": "9f821537",
   "metadata": {
    "execution": {
     "iopub.execute_input": "2022-08-08T05:10:38.295019Z",
     "iopub.status.busy": "2022-08-08T05:10:38.294295Z",
     "iopub.status.idle": "2022-08-08T05:10:38.325252Z",
     "shell.execute_reply": "2022-08-08T05:10:38.324241Z"
    }
   },
   "outputs": [
    {
     "name": "stdout",
     "output_type": "stream",
     "text": [
      "Increasing the treatment variable(s) [v0] from 0 to 1 causes an increase of 1.0016033325947842 in the expected value of the outcome [y], over the data distribution/population represented by the dataset.\n"
     ]
    }
   ],
   "source": [
    "# Textual Interpreter\n",
    "interpretation = causal_estimate_match.interpret(method_name=\"textual_effect_interpreter\")"
   ]
  },
  {
   "cell_type": "markdown",
   "id": "e3707397",
   "metadata": {},
   "source": [
    "Cannot use propensity balance interpretor here since the interpreter method only supports propensity score stratification estimator."
   ]
  },
  {
   "cell_type": "markdown",
   "id": "874580ca",
   "metadata": {},
   "source": [
    "## Method 3: Weighting\n",
    "\n",
    "We will be using (inverse) propensity scores to assign weights to units in the data. DoWhy supports a few different weighting schemes:\n",
    "1. Vanilla Inverse Propensity Score weighting (IPS) (weighting_scheme=\"ips_weight\")\n",
    "2. Self-normalized IPS weighting (also known as the Hajek estimator) (weighting_scheme=\"ips_normalized_weight\")\n",
    "3. Stabilized IPS weighting (weighting_scheme = \"ips_stabilized_weight\")"
   ]
  },
  {
   "cell_type": "code",
   "execution_count": 13,
   "id": "9b7eb050",
   "metadata": {
    "execution": {
     "iopub.execute_input": "2022-08-08T05:10:38.329388Z",
     "iopub.status.busy": "2022-08-08T05:10:38.328934Z",
     "iopub.status.idle": "2022-08-08T05:10:38.408604Z",
     "shell.execute_reply": "2022-08-08T05:10:38.407749Z"
    }
   },
   "outputs": [
    {
     "name": "stdout",
     "output_type": "stream",
     "text": [
      "propensity_score_weighting\n",
      "*** Causal Estimate ***\n",
      "\n",
      "## Identified estimand\n",
      "Estimand type: nonparametric-ate\n",
      "\n",
      "### Estimand : 1\n",
      "Estimand name: backdoor\n",
      "Estimand expression:\n",
      "  d                       \n",
      "─────(E[y|W3,W2,W1,W0,W4])\n",
      "d[v₀]                     \n",
      "Estimand assumption 1, Unconfoundedness: If U→{v0} and U→y then P(y|v0,W3,W2,W1,W0,W4,U) = P(y|v0,W3,W2,W1,W0,W4)\n",
      "\n",
      "## Realized estimand\n",
      "b: y~v0+W3+W2+W1+W0+W4\n",
      "Target units: ate\n",
      "\n",
      "## Estimate\n",
      "Mean value: 1.0440782528039283\n",
      "\n",
      "Causal Estimate is 1.0440782528039283\n"
     ]
    },
    {
     "name": "stderr",
     "output_type": "stream",
     "text": [
      "/usr/local/lib/python3.8/dist-packages/sklearn/utils/validation.py:993: DataConversionWarning: A column-vector y was passed when a 1d array was expected. Please change the shape of y to (n_samples, ), for example using ravel().\n",
      "  y = column_or_1d(y, warn=True)\n"
     ]
    }
   ],
   "source": [
    "causal_estimate_ipw = model.estimate_effect(identified_estimand,\n",
    "                                            method_name=\"backdoor.propensity_score_weighting\",\n",
    "                                            target_units = \"ate\",\n",
    "                                            method_params={\"weighting_scheme\":\"ips_weight\"})\n",
    "print(causal_estimate_ipw)\n",
    "print(\"Causal Estimate is \" + str(causal_estimate_ipw.value))"
   ]
  },
  {
   "cell_type": "code",
   "execution_count": 14,
   "id": "62ed3fbc",
   "metadata": {
    "execution": {
     "iopub.execute_input": "2022-08-08T05:10:38.412583Z",
     "iopub.status.busy": "2022-08-08T05:10:38.412298Z",
     "iopub.status.idle": "2022-08-08T05:10:38.442570Z",
     "shell.execute_reply": "2022-08-08T05:10:38.441565Z"
    }
   },
   "outputs": [
    {
     "name": "stdout",
     "output_type": "stream",
     "text": [
      "Increasing the treatment variable(s) [v0] from 0 to 1 causes an increase of 1.0440782528039283 in the expected value of the outcome [y], over the data distribution/population represented by the dataset.\n"
     ]
    }
   ],
   "source": [
    "# Textual Interpreter\n",
    "interpretation = causal_estimate_ipw.interpret(method_name=\"textual_effect_interpreter\")"
   ]
  },
  {
   "cell_type": "code",
   "execution_count": 15,
   "id": "cdd9196b",
   "metadata": {
    "execution": {
     "iopub.execute_input": "2022-08-08T05:10:38.446156Z",
     "iopub.status.busy": "2022-08-08T05:10:38.445856Z",
     "iopub.status.idle": "2022-08-08T05:10:38.744394Z",
     "shell.execute_reply": "2022-08-08T05:10:38.743617Z"
    }
   },
   "outputs": [
    {
     "data": {
      "image/png": "[encoded data removed]",
      "text/plain": [
       "<Figure size 576x576 with 2 Axes>"
      ]
     },
     "metadata": {
      "needs_background": "light"
     },
     "output_type": "display_data"
    }
   ],
   "source": [
    "interpretation = causal_estimate_ipw.interpret(method_name=\"confounder_distribution_interpreter\", fig_size=(8,8), font_size=12, var_name='W4', var_type='discrete')"
   ]
  },
  {
   "cell_type": "code",
   "execution_count": null,
   "id": "b52563cd",
   "metadata": {},
   "outputs": [],
   "source": []
  }
 ],
 "metadata": {
  "kernelspec": {
   "display_name": "Python 3",
   "language": "python",
   "name": "python3"
  },
  "language_info": {
   "codemirror_mode": {
    "name": "ipython",
    "version": 3
   },
   "file_extension": ".py",
   "mimetype": "text/x-python",
   "name": "python",
   "nbconvert_exporter": "python",
   "pygments_lexer": "ipython3",
   "version": "3.8.10"
  },
  "toc": {
   "base_numbering": 1,
   "nav_menu": {},
   "number_sections": false,
   "sideBar": true,
   "skip_h1_title": true,
   "title_cell": "Table of Contents",
   "title_sidebar": "Contents",
   "toc_cell": false,
   "toc_position": {},
   "toc_section_display": true,
   "toc_window_display": false
  }
 },
 "nbformat": 4,
 "nbformat_minor": 5
}
