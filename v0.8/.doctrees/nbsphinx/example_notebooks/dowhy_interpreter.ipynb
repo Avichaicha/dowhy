{
 "cells": [
  {
   "cell_type": "markdown",
   "id": "af096ba9",
   "metadata": {},
   "source": [
    "# DoWhy: Interpreters for Causal Estimators\n",
    "\n",
    "This is a quick introduction to the use of interpreters in the DoWhy causal inference library.\n",
    "We will load in a sample dataset, use different methods for estimating the causal effect of a (pre-specified)treatment variable on a (pre-specified) outcome variable and demonstrate how to interpret the obtained results.\n",
    "\n",
    "First, let us add the required path for Python to find the DoWhy code and load all required packages"
   ]
  },
  {
   "cell_type": "code",
   "execution_count": 1,
   "id": "162dbcf1",
   "metadata": {
    "execution": {
     "iopub.execute_input": "2022-07-28T11:09:20.499739Z",
     "iopub.status.busy": "2022-07-28T11:09:20.499424Z",
     "iopub.status.idle": "2022-07-28T11:09:20.517560Z",
     "shell.execute_reply": "2022-07-28T11:09:20.516893Z"
    }
   },
   "outputs": [],
   "source": [
    "%load_ext autoreload\n",
    "%autoreload 2"
   ]
  },
  {
   "cell_type": "code",
   "execution_count": 2,
   "id": "cb9aaa09",
   "metadata": {
    "execution": {
     "iopub.execute_input": "2022-07-28T11:09:20.520965Z",
     "iopub.status.busy": "2022-07-28T11:09:20.520563Z",
     "iopub.status.idle": "2022-07-28T11:09:21.758978Z",
     "shell.execute_reply": "2022-07-28T11:09:21.758117Z"
    }
   },
   "outputs": [
    {
     "name": "stdout",
     "output_type": "stream",
     "text": [
      "keywords are unexpanded, not using\n"
     ]
    }
   ],
   "source": [
    "import numpy as np\n",
    "import pandas as pd\n",
    "import logging\n",
    "\n",
    "import dowhy\n",
    "from dowhy import CausalModel\n",
    "import dowhy.datasets "
   ]
  },
  {
   "cell_type": "markdown",
   "id": "a5c32728",
   "metadata": {},
   "source": [
    "Now, let us load a dataset. For simplicity, we simulate a dataset with linear relationships between common causes and treatment, and common causes and outcome.\n",
    "\n",
    "Beta is the true causal effect."
   ]
  },
  {
   "cell_type": "code",
   "execution_count": 3,
   "id": "3973179c",
   "metadata": {
    "execution": {
     "iopub.execute_input": "2022-07-28T11:09:21.763449Z",
     "iopub.status.busy": "2022-07-28T11:09:21.762624Z",
     "iopub.status.idle": "2022-07-28T11:09:22.143936Z",
     "shell.execute_reply": "2022-07-28T11:09:22.143281Z"
    }
   },
   "outputs": [
    {
     "name": "stdout",
     "output_type": "stream",
     "text": [
      "9104\n"
     ]
    },
    {
     "data": {
      "text/html": [
       "<div>\n",
       "<style scoped>\n",
       "    .dataframe tbody tr th:only-of-type {\n",
       "        vertical-align: middle;\n",
       "    }\n",
       "\n",
       "    .dataframe tbody tr th {\n",
       "        vertical-align: top;\n",
       "    }\n",
       "\n",
       "    .dataframe thead th {\n",
       "        text-align: right;\n",
       "    }\n",
       "</style>\n",
       "<table border=\"1\" class=\"dataframe\">\n",
       "  <thead>\n",
       "    <tr style=\"text-align: right;\">\n",
       "      <th></th>\n",
       "      <th>Z0</th>\n",
       "      <th>Z1</th>\n",
       "      <th>W0</th>\n",
       "      <th>W1</th>\n",
       "      <th>W2</th>\n",
       "      <th>W3</th>\n",
       "      <th>W4</th>\n",
       "      <th>v0</th>\n",
       "      <th>y</th>\n",
       "    </tr>\n",
       "  </thead>\n",
       "  <tbody>\n",
       "    <tr>\n",
       "      <th>0</th>\n",
       "      <td>1.0</td>\n",
       "      <td>0.190974</td>\n",
       "      <td>-2.768761</td>\n",
       "      <td>0.366802</td>\n",
       "      <td>2.448702</td>\n",
       "      <td>1.457580</td>\n",
       "      <td>1</td>\n",
       "      <td>True</td>\n",
       "      <td>3.602622</td>\n",
       "    </tr>\n",
       "    <tr>\n",
       "      <th>1</th>\n",
       "      <td>1.0</td>\n",
       "      <td>0.393002</td>\n",
       "      <td>0.121993</td>\n",
       "      <td>0.383816</td>\n",
       "      <td>1.867687</td>\n",
       "      <td>0.822303</td>\n",
       "      <td>1</td>\n",
       "      <td>True</td>\n",
       "      <td>3.920412</td>\n",
       "    </tr>\n",
       "    <tr>\n",
       "      <th>2</th>\n",
       "      <td>1.0</td>\n",
       "      <td>0.620068</td>\n",
       "      <td>-1.147341</td>\n",
       "      <td>2.116698</td>\n",
       "      <td>-0.333082</td>\n",
       "      <td>2.951582</td>\n",
       "      <td>1</td>\n",
       "      <td>True</td>\n",
       "      <td>4.209475</td>\n",
       "    </tr>\n",
       "    <tr>\n",
       "      <th>3</th>\n",
       "      <td>1.0</td>\n",
       "      <td>0.508783</td>\n",
       "      <td>1.600893</td>\n",
       "      <td>1.337124</td>\n",
       "      <td>-1.072240</td>\n",
       "      <td>0.470601</td>\n",
       "      <td>3</td>\n",
       "      <td>True</td>\n",
       "      <td>2.607585</td>\n",
       "    </tr>\n",
       "    <tr>\n",
       "      <th>4</th>\n",
       "      <td>1.0</td>\n",
       "      <td>0.613652</td>\n",
       "      <td>-0.031305</td>\n",
       "      <td>0.058168</td>\n",
       "      <td>0.959579</td>\n",
       "      <td>0.878128</td>\n",
       "      <td>1</td>\n",
       "      <td>True</td>\n",
       "      <td>2.735142</td>\n",
       "    </tr>\n",
       "    <tr>\n",
       "      <th>...</th>\n",
       "      <td>...</td>\n",
       "      <td>...</td>\n",
       "      <td>...</td>\n",
       "      <td>...</td>\n",
       "      <td>...</td>\n",
       "      <td>...</td>\n",
       "      <td>...</td>\n",
       "      <td>...</td>\n",
       "      <td>...</td>\n",
       "    </tr>\n",
       "    <tr>\n",
       "      <th>9995</th>\n",
       "      <td>1.0</td>\n",
       "      <td>0.371644</td>\n",
       "      <td>-1.458388</td>\n",
       "      <td>0.258114</td>\n",
       "      <td>1.561140</td>\n",
       "      <td>2.547792</td>\n",
       "      <td>2</td>\n",
       "      <td>True</td>\n",
       "      <td>4.155292</td>\n",
       "    </tr>\n",
       "    <tr>\n",
       "      <th>9996</th>\n",
       "      <td>1.0</td>\n",
       "      <td>0.621301</td>\n",
       "      <td>0.283894</td>\n",
       "      <td>-0.311771</td>\n",
       "      <td>1.124637</td>\n",
       "      <td>-0.685917</td>\n",
       "      <td>0</td>\n",
       "      <td>True</td>\n",
       "      <td>1.472794</td>\n",
       "    </tr>\n",
       "    <tr>\n",
       "      <th>9997</th>\n",
       "      <td>1.0</td>\n",
       "      <td>0.640023</td>\n",
       "      <td>0.299294</td>\n",
       "      <td>-0.908423</td>\n",
       "      <td>1.072393</td>\n",
       "      <td>0.983835</td>\n",
       "      <td>0</td>\n",
       "      <td>True</td>\n",
       "      <td>2.076241</td>\n",
       "    </tr>\n",
       "    <tr>\n",
       "      <th>9998</th>\n",
       "      <td>1.0</td>\n",
       "      <td>0.204209</td>\n",
       "      <td>-0.303207</td>\n",
       "      <td>0.427697</td>\n",
       "      <td>0.733884</td>\n",
       "      <td>0.970407</td>\n",
       "      <td>1</td>\n",
       "      <td>True</td>\n",
       "      <td>2.776467</td>\n",
       "    </tr>\n",
       "    <tr>\n",
       "      <th>9999</th>\n",
       "      <td>1.0</td>\n",
       "      <td>0.043683</td>\n",
       "      <td>-0.755106</td>\n",
       "      <td>-0.376803</td>\n",
       "      <td>0.734418</td>\n",
       "      <td>1.218950</td>\n",
       "      <td>3</td>\n",
       "      <td>True</td>\n",
       "      <td>2.342060</td>\n",
       "    </tr>\n",
       "  </tbody>\n",
       "</table>\n",
       "<p>10000 rows × 9 columns</p>\n",
       "</div>"
      ],
      "text/plain": [
       "       Z0        Z1        W0        W1        W2        W3 W4    v0         y\n",
       "0     1.0  0.190974 -2.768761  0.366802  2.448702  1.457580  1  True  3.602622\n",
       "1     1.0  0.393002  0.121993  0.383816  1.867687  0.822303  1  True  3.920412\n",
       "2     1.0  0.620068 -1.147341  2.116698 -0.333082  2.951582  1  True  4.209475\n",
       "3     1.0  0.508783  1.600893  1.337124 -1.072240  0.470601  3  True  2.607585\n",
       "4     1.0  0.613652 -0.031305  0.058168  0.959579  0.878128  1  True  2.735142\n",
       "...   ...       ...       ...       ...       ...       ... ..   ...       ...\n",
       "9995  1.0  0.371644 -1.458388  0.258114  1.561140  2.547792  2  True  4.155292\n",
       "9996  1.0  0.621301  0.283894 -0.311771  1.124637 -0.685917  0  True  1.472794\n",
       "9997  1.0  0.640023  0.299294 -0.908423  1.072393  0.983835  0  True  2.076241\n",
       "9998  1.0  0.204209 -0.303207  0.427697  0.733884  0.970407  1  True  2.776467\n",
       "9999  1.0  0.043683 -0.755106 -0.376803  0.734418  1.218950  3  True  2.342060\n",
       "\n",
       "[10000 rows x 9 columns]"
      ]
     },
     "execution_count": 3,
     "metadata": {},
     "output_type": "execute_result"
    }
   ],
   "source": [
    "data = dowhy.datasets.linear_dataset(beta=1,\n",
    "        num_common_causes=5, \n",
    "        num_instruments = 2,\n",
    "        num_treatments=1,\n",
    "        num_discrete_common_causes=1,\n",
    "        num_samples=10000,\n",
    "        treatment_is_binary=True,\n",
    "        outcome_is_binary=False)\n",
    "df = data[\"df\"]\n",
    "print(df[df.v0==True].shape[0])\n",
    "df"
   ]
  },
  {
   "cell_type": "markdown",
   "id": "be1dcafb",
   "metadata": {},
   "source": [
    "Note that we are using a pandas dataframe to load the data."
   ]
  },
  {
   "cell_type": "markdown",
   "id": "2acb97fa",
   "metadata": {},
   "source": [
    "## Identifying the causal estimand"
   ]
  },
  {
   "cell_type": "markdown",
   "id": "7ad6c06a",
   "metadata": {},
   "source": [
    "We now input a causal graph in the GML graph format."
   ]
  },
  {
   "cell_type": "code",
   "execution_count": 4,
   "id": "738550a0",
   "metadata": {
    "execution": {
     "iopub.execute_input": "2022-07-28T11:09:22.148467Z",
     "iopub.status.busy": "2022-07-28T11:09:22.147733Z",
     "iopub.status.idle": "2022-07-28T11:09:22.176882Z",
     "shell.execute_reply": "2022-07-28T11:09:22.176251Z"
    }
   },
   "outputs": [],
   "source": [
    "# With graph\n",
    "model=CausalModel(\n",
    "        data = df,\n",
    "        treatment=data[\"treatment_name\"],\n",
    "        outcome=data[\"outcome_name\"],\n",
    "        graph=data[\"gml_graph\"],\n",
    "        instruments=data[\"instrument_names\"]\n",
    "        )"
   ]
  },
  {
   "cell_type": "code",
   "execution_count": 5,
   "id": "c8d42f99",
   "metadata": {
    "execution": {
     "iopub.execute_input": "2022-07-28T11:09:22.181515Z",
     "iopub.status.busy": "2022-07-28T11:09:22.180057Z",
     "iopub.status.idle": "2022-07-28T11:09:22.241250Z",
     "shell.execute_reply": "2022-07-28T11:09:22.240594Z"
    }
   },
   "outputs": [],
   "source": [
    "model.view_model()"
   ]
  },
  {
   "cell_type": "code",
   "execution_count": 6,
   "id": "2b65872e",
   "metadata": {
    "execution": {
     "iopub.execute_input": "2022-07-28T11:09:22.245187Z",
     "iopub.status.busy": "2022-07-28T11:09:22.244570Z",
     "iopub.status.idle": "2022-07-28T11:09:22.272931Z",
     "shell.execute_reply": "2022-07-28T11:09:22.271647Z"
    }
   },
   "outputs": [
    {
     "data": {
      "image/png": "[encoded data removed]",
      "text/plain": [
       "<IPython.core.display.Image object>"
      ]
     },
     "metadata": {},
     "output_type": "display_data"
    }
   ],
   "source": [
    "from IPython.display import Image, display\n",
    "display(Image(filename=\"causal_model.png\"))"
   ]
  },
  {
   "cell_type": "markdown",
   "id": "99e306bf",
   "metadata": {},
   "source": [
    "We get a causal graph. Now identification and estimation is done."
   ]
  },
  {
   "cell_type": "code",
   "execution_count": 7,
   "id": "1bf6aade",
   "metadata": {
    "execution": {
     "iopub.execute_input": "2022-07-28T11:09:22.276936Z",
     "iopub.status.busy": "2022-07-28T11:09:22.276539Z",
     "iopub.status.idle": "2022-07-28T11:09:22.539522Z",
     "shell.execute_reply": "2022-07-28T11:09:22.537522Z"
    }
   },
   "outputs": [
    {
     "name": "stdout",
     "output_type": "stream",
     "text": [
      "Estimand type: nonparametric-ate\n",
      "\n",
      "### Estimand : 1\n",
      "Estimand name: backdoor\n",
      "Estimand expression:\n",
      "  d                       \n",
      "─────(E[y|W0,W3,W4,W2,W1])\n",
      "d[v₀]                     \n",
      "Estimand assumption 1, Unconfoundedness: If U→{v0} and U→y then P(y|v0,W0,W3,W4,W2,W1,U) = P(y|v0,W0,W3,W4,W2,W1)\n",
      "\n",
      "### Estimand : 2\n",
      "Estimand name: iv\n",
      "Estimand expression:\n",
      " ⎡                              -1⎤\n",
      " ⎢    d        ⎛    d          ⎞  ⎥\n",
      "E⎢─────────(y)⋅⎜─────────([v₀])⎟  ⎥\n",
      " ⎣d[Z₀  Z₁]    ⎝d[Z₀  Z₁]      ⎠  ⎦\n",
      "Estimand assumption 1, As-if-random: If U→→y then ¬(U →→{Z0,Z1})\n",
      "Estimand assumption 2, Exclusion: If we remove {Z0,Z1}→{v0}, then ¬({Z0,Z1}→y)\n",
      "\n",
      "### Estimand : 3\n",
      "Estimand name: frontdoor\n",
      "No such variable(s) found!\n",
      "\n"
     ]
    }
   ],
   "source": [
    "identified_estimand = model.identify_effect(proceed_when_unidentifiable=True)\n",
    "print(identified_estimand)"
   ]
  },
  {
   "cell_type": "markdown",
   "id": "de97a95f",
   "metadata": {},
   "source": [
    "## Method 1: Propensity Score Stratification\n",
    "\n",
    "We will be using propensity scores to stratify units in the data."
   ]
  },
  {
   "cell_type": "code",
   "execution_count": 8,
   "id": "93679945",
   "metadata": {
    "execution": {
     "iopub.execute_input": "2022-07-28T11:09:22.543258Z",
     "iopub.status.busy": "2022-07-28T11:09:22.542786Z",
     "iopub.status.idle": "2022-07-28T11:09:23.502142Z",
     "shell.execute_reply": "2022-07-28T11:09:23.501369Z"
    }
   },
   "outputs": [
    {
     "name": "stdout",
     "output_type": "stream",
     "text": [
      "propensity_score_stratification\n"
     ]
    },
    {
     "name": "stderr",
     "output_type": "stream",
     "text": [
      "/usr/local/lib/python3.8/dist-packages/sklearn/utils/validation.py:993: DataConversionWarning: A column-vector y was passed when a 1d array was expected. Please change the shape of y to (n_samples, ), for example using ravel().\n",
      "  y = column_or_1d(y, warn=True)\n"
     ]
    },
    {
     "name": "stdout",
     "output_type": "stream",
     "text": [
      "*** Causal Estimate ***\n",
      "\n",
      "## Identified estimand\n",
      "Estimand type: nonparametric-ate\n",
      "\n",
      "### Estimand : 1\n",
      "Estimand name: backdoor\n",
      "Estimand expression:\n",
      "  d                       \n",
      "─────(E[y|W0,W3,W4,W2,W1])\n",
      "d[v₀]                     \n",
      "Estimand assumption 1, Unconfoundedness: If U→{v0} and U→y then P(y|v0,W0,W3,W4,W2,W1,U) = P(y|v0,W0,W3,W4,W2,W1)\n",
      "\n",
      "## Realized estimand\n",
      "b: y~v0+W0+W3+W4+W2+W1\n",
      "Target units: att\n",
      "\n",
      "## Estimate\n",
      "Mean value: 1.0113832498255388\n",
      "\n",
      "Causal Estimate is 1.0113832498255388\n"
     ]
    }
   ],
   "source": [
    "causal_estimate_strat = model.estimate_effect(identified_estimand,\n",
    "                                              method_name=\"backdoor.propensity_score_stratification\",\n",
    "                                              target_units=\"att\")\n",
    "print(causal_estimate_strat)\n",
    "print(\"Causal Estimate is \" + str(causal_estimate_strat.value))"
   ]
  },
  {
   "cell_type": "markdown",
   "id": "00efe65b",
   "metadata": {},
   "source": [
    "### Textual Interpreter\n",
    "\n",
    "The textual Interpreter describes (in words) the effect of unit change in the treatment variable on the outcome variable."
   ]
  },
  {
   "cell_type": "code",
   "execution_count": 9,
   "id": "ad043a99",
   "metadata": {
    "execution": {
     "iopub.execute_input": "2022-07-28T11:09:23.507285Z",
     "iopub.status.busy": "2022-07-28T11:09:23.505798Z",
     "iopub.status.idle": "2022-07-28T11:09:23.536031Z",
     "shell.execute_reply": "2022-07-28T11:09:23.535010Z"
    }
   },
   "outputs": [
    {
     "name": "stdout",
     "output_type": "stream",
     "text": [
      "Increasing the treatment variable(s) [v0] from 0 to 1 causes an increase of 1.0113832498255388 in the expected value of the outcome [y], over the data distribution/population represented by the dataset.\n"
     ]
    }
   ],
   "source": [
    "# Textual Interpreter\n",
    "interpretation = causal_estimate_strat.interpret(method_name=\"textual_effect_interpreter\")"
   ]
  },
  {
   "cell_type": "markdown",
   "id": "db465b6f",
   "metadata": {},
   "source": [
    "### Visual Interpreter\n",
    "\n",
    "The visual interpreter plots the change in the standardized mean difference (SMD) before and after Propensity Score based adjustment of the dataset. The formula for SMD is given below.\n",
    "\n",
    "\n",
    "$SMD = \\frac{\\bar X_{1} - \\bar X_{2}}{\\sqrt{(S_{1}^{2} + S_{2}^{2})/2}}$\n",
    "\n",
    "Here, $\\bar X_{1}$ and $\\bar X_{2}$ are the sample mean for the treated and control groups.\n"
   ]
  },
  {
   "cell_type": "code",
   "execution_count": 10,
   "id": "3e5d459c",
   "metadata": {
    "execution": {
     "iopub.execute_input": "2022-07-28T11:09:23.539966Z",
     "iopub.status.busy": "2022-07-28T11:09:23.539487Z",
     "iopub.status.idle": "2022-07-28T11:09:24.668149Z",
     "shell.execute_reply": "2022-07-28T11:09:24.667367Z"
    }
   },
   "outputs": [
    {
     "data": {
      "image/png": "[encoded data removed]",
      "text/plain": [
       "<Figure size 432x288 with 1 Axes>"
      ]
     },
     "metadata": {
      "needs_background": "light"
     },
     "output_type": "display_data"
    }
   ],
   "source": [
    "# Visual Interpreter\n",
    "interpretation = causal_estimate_strat.interpret(method_name=\"propensity_balance_interpreter\")"
   ]
  },
  {
   "cell_type": "markdown",
   "id": "aaae1d8b",
   "metadata": {},
   "source": [
    "This plot shows how the SMD decreases from the unadjusted to the stratified units. "
   ]
  },
  {
   "cell_type": "markdown",
   "id": "0b8790dd",
   "metadata": {},
   "source": [
    "## Method 2: Propensity Score Matching\n",
    "\n",
    "We will be using propensity scores to match units in the data."
   ]
  },
  {
   "cell_type": "code",
   "execution_count": 11,
   "id": "0b792e1c",
   "metadata": {
    "execution": {
     "iopub.execute_input": "2022-07-28T11:09:24.672696Z",
     "iopub.status.busy": "2022-07-28T11:09:24.672055Z",
     "iopub.status.idle": "2022-07-28T11:09:29.596651Z",
     "shell.execute_reply": "2022-07-28T11:09:29.595415Z"
    }
   },
   "outputs": [
    {
     "name": "stdout",
     "output_type": "stream",
     "text": [
      "propensity_score_matching\n"
     ]
    },
    {
     "name": "stderr",
     "output_type": "stream",
     "text": [
      "/usr/local/lib/python3.8/dist-packages/sklearn/utils/validation.py:993: DataConversionWarning: A column-vector y was passed when a 1d array was expected. Please change the shape of y to (n_samples, ), for example using ravel().\n",
      "  y = column_or_1d(y, warn=True)\n"
     ]
    },
    {
     "name": "stdout",
     "output_type": "stream",
     "text": [
      "*** Causal Estimate ***\n",
      "\n",
      "## Identified estimand\n",
      "Estimand type: nonparametric-ate\n",
      "\n",
      "### Estimand : 1\n",
      "Estimand name: backdoor\n",
      "Estimand expression:\n",
      "  d                       \n",
      "─────(E[y|W0,W3,W4,W2,W1])\n",
      "d[v₀]                     \n",
      "Estimand assumption 1, Unconfoundedness: If U→{v0} and U→y then P(y|v0,W0,W3,W4,W2,W1,U) = P(y|v0,W0,W3,W4,W2,W1)\n",
      "\n",
      "## Realized estimand\n",
      "b: y~v0+W0+W3+W4+W2+W1\n",
      "Target units: atc\n",
      "\n",
      "## Estimate\n",
      "Mean value: 1.013618279101866\n",
      "\n",
      "Causal Estimate is 1.013618279101866\n"
     ]
    }
   ],
   "source": [
    "causal_estimate_match = model.estimate_effect(identified_estimand,\n",
    "                                              method_name=\"backdoor.propensity_score_matching\",\n",
    "                                              target_units=\"atc\")\n",
    "print(causal_estimate_match)\n",
    "print(\"Causal Estimate is \" + str(causal_estimate_match.value))"
   ]
  },
  {
   "cell_type": "code",
   "execution_count": 12,
   "id": "e8dae226",
   "metadata": {
    "execution": {
     "iopub.execute_input": "2022-07-28T11:09:29.600941Z",
     "iopub.status.busy": "2022-07-28T11:09:29.600386Z",
     "iopub.status.idle": "2022-07-28T11:09:29.629449Z",
     "shell.execute_reply": "2022-07-28T11:09:29.628161Z"
    }
   },
   "outputs": [
    {
     "name": "stdout",
     "output_type": "stream",
     "text": [
      "Increasing the treatment variable(s) [v0] from 0 to 1 causes an increase of 1.013618279101866 in the expected value of the outcome [y], over the data distribution/population represented by the dataset.\n"
     ]
    }
   ],
   "source": [
    "# Textual Interpreter\n",
    "interpretation = causal_estimate_match.interpret(method_name=\"textual_effect_interpreter\")"
   ]
  },
  {
   "cell_type": "markdown",
   "id": "3a7899f8",
   "metadata": {},
   "source": [
    "Cannot use propensity balance interpretor here since the interpreter method only supports propensity score stratification estimator."
   ]
  },
  {
   "cell_type": "markdown",
   "id": "5095bd30",
   "metadata": {},
   "source": [
    "## Method 3: Weighting\n",
    "\n",
    "We will be using (inverse) propensity scores to assign weights to units in the data. DoWhy supports a few different weighting schemes:\n",
    "1. Vanilla Inverse Propensity Score weighting (IPS) (weighting_scheme=\"ips_weight\")\n",
    "2. Self-normalized IPS weighting (also known as the Hajek estimator) (weighting_scheme=\"ips_normalized_weight\")\n",
    "3. Stabilized IPS weighting (weighting_scheme = \"ips_stabilized_weight\")"
   ]
  },
  {
   "cell_type": "code",
   "execution_count": 13,
   "id": "5958dfca",
   "metadata": {
    "execution": {
     "iopub.execute_input": "2022-07-28T11:09:29.633236Z",
     "iopub.status.busy": "2022-07-28T11:09:29.632849Z",
     "iopub.status.idle": "2022-07-28T11:09:29.704550Z",
     "shell.execute_reply": "2022-07-28T11:09:29.703167Z"
    }
   },
   "outputs": [
    {
     "name": "stdout",
     "output_type": "stream",
     "text": [
      "propensity_score_weighting\n",
      "*** Causal Estimate ***\n",
      "\n",
      "## Identified estimand\n",
      "Estimand type: nonparametric-ate\n",
      "\n",
      "### Estimand : 1\n",
      "Estimand name: backdoor\n",
      "Estimand expression:\n",
      "  d                       \n",
      "─────(E[y|W0,W3,W4,W2,W1])\n",
      "d[v₀]                     \n",
      "Estimand assumption 1, Unconfoundedness: If U→{v0} and U→y then P(y|v0,W0,W3,W4,W2,W1,U) = P(y|v0,W0,W3,W4,W2,W1)\n",
      "\n",
      "## Realized estimand\n",
      "b: y~v0+W0+W3+W4+W2+W1\n",
      "Target units: ate\n",
      "\n",
      "## Estimate\n",
      "Mean value: 1.4076667418351023\n",
      "\n",
      "Causal Estimate is 1.4076667418351023\n"
     ]
    },
    {
     "name": "stderr",
     "output_type": "stream",
     "text": [
      "/usr/local/lib/python3.8/dist-packages/sklearn/utils/validation.py:993: DataConversionWarning: A column-vector y was passed when a 1d array was expected. Please change the shape of y to (n_samples, ), for example using ravel().\n",
      "  y = column_or_1d(y, warn=True)\n"
     ]
    }
   ],
   "source": [
    "causal_estimate_ipw = model.estimate_effect(identified_estimand,\n",
    "                                            method_name=\"backdoor.propensity_score_weighting\",\n",
    "                                            target_units = \"ate\",\n",
    "                                            method_params={\"weighting_scheme\":\"ips_weight\"})\n",
    "print(causal_estimate_ipw)\n",
    "print(\"Causal Estimate is \" + str(causal_estimate_ipw.value))"
   ]
  },
  {
   "cell_type": "code",
   "execution_count": 14,
   "id": "178eb273",
   "metadata": {
    "execution": {
     "iopub.execute_input": "2022-07-28T11:09:29.708022Z",
     "iopub.status.busy": "2022-07-28T11:09:29.707769Z",
     "iopub.status.idle": "2022-07-28T11:09:29.735491Z",
     "shell.execute_reply": "2022-07-28T11:09:29.734567Z"
    }
   },
   "outputs": [
    {
     "name": "stdout",
     "output_type": "stream",
     "text": [
      "Increasing the treatment variable(s) [v0] from 0 to 1 causes an increase of 1.4076667418351023 in the expected value of the outcome [y], over the data distribution/population represented by the dataset.\n"
     ]
    }
   ],
   "source": [
    "# Textual Interpreter\n",
    "interpretation = causal_estimate_ipw.interpret(method_name=\"textual_effect_interpreter\")"
   ]
  },
  {
   "cell_type": "code",
   "execution_count": 15,
   "id": "252432a3",
   "metadata": {
    "execution": {
     "iopub.execute_input": "2022-07-28T11:09:29.738926Z",
     "iopub.status.busy": "2022-07-28T11:09:29.738639Z",
     "iopub.status.idle": "2022-07-28T11:09:30.026419Z",
     "shell.execute_reply": "2022-07-28T11:09:30.025379Z"
    }
   },
   "outputs": [
    {
     "data": {
      "image/png": "[encoded data removed]",
      "text/plain": [
       "<Figure size 576x576 with 2 Axes>"
      ]
     },
     "metadata": {
      "needs_background": "light"
     },
     "output_type": "display_data"
    }
   ],
   "source": [
    "interpretation = causal_estimate_ipw.interpret(method_name=\"confounder_distribution_interpreter\", fig_size=(8,8), font_size=12, var_name='W4', var_type='discrete')"
   ]
  },
  {
   "cell_type": "code",
   "execution_count": null,
   "id": "46a6d0bc",
   "metadata": {},
   "outputs": [],
   "source": []
  }
 ],
 "metadata": {
  "kernelspec": {
   "display_name": "Python 3",
   "language": "python",
   "name": "python3"
  },
  "language_info": {
   "codemirror_mode": {
    "name": "ipython",
    "version": 3
   },
   "file_extension": ".py",
   "mimetype": "text/x-python",
   "name": "python",
   "nbconvert_exporter": "python",
   "pygments_lexer": "ipython3",
   "version": "3.8.10"
  },
  "toc": {
   "base_numbering": 1,
   "nav_menu": {},
   "number_sections": false,
   "sideBar": true,
   "skip_h1_title": true,
   "title_cell": "Table of Contents",
   "title_sidebar": "Contents",
   "toc_cell": false,
   "toc_position": {},
   "toc_section_display": true,
   "toc_window_display": false
  }
 },
 "nbformat": 4,
 "nbformat_minor": 5
}
