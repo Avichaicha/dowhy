{
 "cells": [
  {
   "cell_type": "markdown",
   "id": "7272e99b",
   "metadata": {},
   "source": [
    "# DoWhy: Interpreters for Causal Estimators\n",
    "\n",
    "This is a quick introduction to the use of interpreters in the DoWhy causal inference library.\n",
    "We will load in a sample dataset, use different methods for estimating the causal effect of a (pre-specified)treatment variable on a (pre-specified) outcome variable and demonstrate how to interpret the obtained results.\n",
    "\n",
    "First, let us add the required path for Python to find the DoWhy code and load all required packages"
   ]
  },
  {
   "cell_type": "code",
   "execution_count": 1,
   "id": "41143c7a",
   "metadata": {
    "execution": {
     "iopub.execute_input": "2022-07-29T11:09:07.816027Z",
     "iopub.status.busy": "2022-07-29T11:09:07.815678Z",
     "iopub.status.idle": "2022-07-29T11:09:07.837310Z",
     "shell.execute_reply": "2022-07-29T11:09:07.836302Z"
    }
   },
   "outputs": [],
   "source": [
    "%load_ext autoreload\n",
    "%autoreload 2"
   ]
  },
  {
   "cell_type": "code",
   "execution_count": 2,
   "id": "a8d70855",
   "metadata": {
    "execution": {
     "iopub.execute_input": "2022-07-29T11:09:07.841436Z",
     "iopub.status.busy": "2022-07-29T11:09:07.841146Z",
     "iopub.status.idle": "2022-07-29T11:09:09.159199Z",
     "shell.execute_reply": "2022-07-29T11:09:09.158018Z"
    }
   },
   "outputs": [
    {
     "name": "stdout",
     "output_type": "stream",
     "text": [
      "keywords are unexpanded, not using\n"
     ]
    }
   ],
   "source": [
    "import numpy as np\n",
    "import pandas as pd\n",
    "import logging\n",
    "\n",
    "import dowhy\n",
    "from dowhy import CausalModel\n",
    "import dowhy.datasets "
   ]
  },
  {
   "cell_type": "markdown",
   "id": "f12ef9ee",
   "metadata": {},
   "source": [
    "Now, let us load a dataset. For simplicity, we simulate a dataset with linear relationships between common causes and treatment, and common causes and outcome.\n",
    "\n",
    "Beta is the true causal effect."
   ]
  },
  {
   "cell_type": "code",
   "execution_count": 3,
   "id": "6558638c",
   "metadata": {
    "execution": {
     "iopub.execute_input": "2022-07-29T11:09:09.164259Z",
     "iopub.status.busy": "2022-07-29T11:09:09.163369Z",
     "iopub.status.idle": "2022-07-29T11:09:09.681562Z",
     "shell.execute_reply": "2022-07-29T11:09:09.680611Z"
    }
   },
   "outputs": [
    {
     "name": "stdout",
     "output_type": "stream",
     "text": [
      "7455\n"
     ]
    },
    {
     "data": {
      "text/html": [
       "<div>\n",
       "<style scoped>\n",
       "    .dataframe tbody tr th:only-of-type {\n",
       "        vertical-align: middle;\n",
       "    }\n",
       "\n",
       "    .dataframe tbody tr th {\n",
       "        vertical-align: top;\n",
       "    }\n",
       "\n",
       "    .dataframe thead th {\n",
       "        text-align: right;\n",
       "    }\n",
       "</style>\n",
       "<table border=\"1\" class=\"dataframe\">\n",
       "  <thead>\n",
       "    <tr style=\"text-align: right;\">\n",
       "      <th></th>\n",
       "      <th>Z0</th>\n",
       "      <th>Z1</th>\n",
       "      <th>W0</th>\n",
       "      <th>W1</th>\n",
       "      <th>W2</th>\n",
       "      <th>W3</th>\n",
       "      <th>W4</th>\n",
       "      <th>v0</th>\n",
       "      <th>y</th>\n",
       "    </tr>\n",
       "  </thead>\n",
       "  <tbody>\n",
       "    <tr>\n",
       "      <th>0</th>\n",
       "      <td>1.0</td>\n",
       "      <td>0.425257</td>\n",
       "      <td>0.639553</td>\n",
       "      <td>-0.490779</td>\n",
       "      <td>-0.678492</td>\n",
       "      <td>0.651740</td>\n",
       "      <td>0</td>\n",
       "      <td>True</td>\n",
       "      <td>0.681746</td>\n",
       "    </tr>\n",
       "    <tr>\n",
       "      <th>1</th>\n",
       "      <td>0.0</td>\n",
       "      <td>0.883667</td>\n",
       "      <td>-0.163135</td>\n",
       "      <td>0.104301</td>\n",
       "      <td>0.386826</td>\n",
       "      <td>2.581324</td>\n",
       "      <td>2</td>\n",
       "      <td>True</td>\n",
       "      <td>3.274405</td>\n",
       "    </tr>\n",
       "    <tr>\n",
       "      <th>2</th>\n",
       "      <td>0.0</td>\n",
       "      <td>0.695510</td>\n",
       "      <td>1.129266</td>\n",
       "      <td>-1.168802</td>\n",
       "      <td>0.111224</td>\n",
       "      <td>-0.745950</td>\n",
       "      <td>0</td>\n",
       "      <td>True</td>\n",
       "      <td>0.789618</td>\n",
       "    </tr>\n",
       "    <tr>\n",
       "      <th>3</th>\n",
       "      <td>0.0</td>\n",
       "      <td>0.930179</td>\n",
       "      <td>0.037757</td>\n",
       "      <td>-1.037151</td>\n",
       "      <td>2.401945</td>\n",
       "      <td>-1.348042</td>\n",
       "      <td>1</td>\n",
       "      <td>True</td>\n",
       "      <td>2.700164</td>\n",
       "    </tr>\n",
       "    <tr>\n",
       "      <th>4</th>\n",
       "      <td>0.0</td>\n",
       "      <td>0.482012</td>\n",
       "      <td>0.925755</td>\n",
       "      <td>-0.389801</td>\n",
       "      <td>0.162583</td>\n",
       "      <td>0.825677</td>\n",
       "      <td>2</td>\n",
       "      <td>True</td>\n",
       "      <td>2.791557</td>\n",
       "    </tr>\n",
       "    <tr>\n",
       "      <th>...</th>\n",
       "      <td>...</td>\n",
       "      <td>...</td>\n",
       "      <td>...</td>\n",
       "      <td>...</td>\n",
       "      <td>...</td>\n",
       "      <td>...</td>\n",
       "      <td>...</td>\n",
       "      <td>...</td>\n",
       "      <td>...</td>\n",
       "    </tr>\n",
       "    <tr>\n",
       "      <th>9995</th>\n",
       "      <td>0.0</td>\n",
       "      <td>0.138238</td>\n",
       "      <td>0.317154</td>\n",
       "      <td>0.719788</td>\n",
       "      <td>-1.532187</td>\n",
       "      <td>-0.909061</td>\n",
       "      <td>3</td>\n",
       "      <td>True</td>\n",
       "      <td>2.447111</td>\n",
       "    </tr>\n",
       "    <tr>\n",
       "      <th>9996</th>\n",
       "      <td>0.0</td>\n",
       "      <td>0.671870</td>\n",
       "      <td>0.462544</td>\n",
       "      <td>-2.106865</td>\n",
       "      <td>-0.900530</td>\n",
       "      <td>-0.609162</td>\n",
       "      <td>3</td>\n",
       "      <td>True</td>\n",
       "      <td>2.278177</td>\n",
       "    </tr>\n",
       "    <tr>\n",
       "      <th>9997</th>\n",
       "      <td>0.0</td>\n",
       "      <td>0.200642</td>\n",
       "      <td>-0.091396</td>\n",
       "      <td>0.775857</td>\n",
       "      <td>-2.235302</td>\n",
       "      <td>1.287555</td>\n",
       "      <td>1</td>\n",
       "      <td>True</td>\n",
       "      <td>0.862198</td>\n",
       "    </tr>\n",
       "    <tr>\n",
       "      <th>9998</th>\n",
       "      <td>0.0</td>\n",
       "      <td>0.875690</td>\n",
       "      <td>0.031047</td>\n",
       "      <td>-2.234509</td>\n",
       "      <td>-2.476494</td>\n",
       "      <td>1.013645</td>\n",
       "      <td>2</td>\n",
       "      <td>True</td>\n",
       "      <td>0.819976</td>\n",
       "    </tr>\n",
       "    <tr>\n",
       "      <th>9999</th>\n",
       "      <td>1.0</td>\n",
       "      <td>0.179157</td>\n",
       "      <td>-0.799684</td>\n",
       "      <td>-0.388966</td>\n",
       "      <td>-1.458802</td>\n",
       "      <td>1.397534</td>\n",
       "      <td>3</td>\n",
       "      <td>True</td>\n",
       "      <td>2.575071</td>\n",
       "    </tr>\n",
       "  </tbody>\n",
       "</table>\n",
       "<p>10000 rows × 9 columns</p>\n",
       "</div>"
      ],
      "text/plain": [
       "       Z0        Z1        W0        W1        W2        W3 W4    v0         y\n",
       "0     1.0  0.425257  0.639553 -0.490779 -0.678492  0.651740  0  True  0.681746\n",
       "1     0.0  0.883667 -0.163135  0.104301  0.386826  2.581324  2  True  3.274405\n",
       "2     0.0  0.695510  1.129266 -1.168802  0.111224 -0.745950  0  True  0.789618\n",
       "3     0.0  0.930179  0.037757 -1.037151  2.401945 -1.348042  1  True  2.700164\n",
       "4     0.0  0.482012  0.925755 -0.389801  0.162583  0.825677  2  True  2.791557\n",
       "...   ...       ...       ...       ...       ...       ... ..   ...       ...\n",
       "9995  0.0  0.138238  0.317154  0.719788 -1.532187 -0.909061  3  True  2.447111\n",
       "9996  0.0  0.671870  0.462544 -2.106865 -0.900530 -0.609162  3  True  2.278177\n",
       "9997  0.0  0.200642 -0.091396  0.775857 -2.235302  1.287555  1  True  0.862198\n",
       "9998  0.0  0.875690  0.031047 -2.234509 -2.476494  1.013645  2  True  0.819976\n",
       "9999  1.0  0.179157 -0.799684 -0.388966 -1.458802  1.397534  3  True  2.575071\n",
       "\n",
       "[10000 rows x 9 columns]"
      ]
     },
     "execution_count": 3,
     "metadata": {},
     "output_type": "execute_result"
    }
   ],
   "source": [
    "data = dowhy.datasets.linear_dataset(beta=1,\n",
    "        num_common_causes=5, \n",
    "        num_instruments = 2,\n",
    "        num_treatments=1,\n",
    "        num_discrete_common_causes=1,\n",
    "        num_samples=10000,\n",
    "        treatment_is_binary=True,\n",
    "        outcome_is_binary=False)\n",
    "df = data[\"df\"]\n",
    "print(df[df.v0==True].shape[0])\n",
    "df"
   ]
  },
  {
   "cell_type": "markdown",
   "id": "b293ed6a",
   "metadata": {},
   "source": [
    "Note that we are using a pandas dataframe to load the data."
   ]
  },
  {
   "cell_type": "markdown",
   "id": "ba1a4fbc",
   "metadata": {},
   "source": [
    "## Identifying the causal estimand"
   ]
  },
  {
   "cell_type": "markdown",
   "id": "a75e9609",
   "metadata": {},
   "source": [
    "We now input a causal graph in the GML graph format."
   ]
  },
  {
   "cell_type": "code",
   "execution_count": 4,
   "id": "97f36207",
   "metadata": {
    "execution": {
     "iopub.execute_input": "2022-07-29T11:09:09.685442Z",
     "iopub.status.busy": "2022-07-29T11:09:09.685119Z",
     "iopub.status.idle": "2022-07-29T11:09:09.712031Z",
     "shell.execute_reply": "2022-07-29T11:09:09.710994Z"
    }
   },
   "outputs": [],
   "source": [
    "# With graph\n",
    "model=CausalModel(\n",
    "        data = df,\n",
    "        treatment=data[\"treatment_name\"],\n",
    "        outcome=data[\"outcome_name\"],\n",
    "        graph=data[\"gml_graph\"],\n",
    "        instruments=data[\"instrument_names\"]\n",
    "        )"
   ]
  },
  {
   "cell_type": "code",
   "execution_count": 5,
   "id": "09350be0",
   "metadata": {
    "execution": {
     "iopub.execute_input": "2022-07-29T11:09:09.716087Z",
     "iopub.status.busy": "2022-07-29T11:09:09.715220Z",
     "iopub.status.idle": "2022-07-29T11:09:09.769289Z",
     "shell.execute_reply": "2022-07-29T11:09:09.768520Z"
    }
   },
   "outputs": [],
   "source": [
    "model.view_model()"
   ]
  },
  {
   "cell_type": "code",
   "execution_count": 6,
   "id": "28fed374",
   "metadata": {
    "execution": {
     "iopub.execute_input": "2022-07-29T11:09:09.773311Z",
     "iopub.status.busy": "2022-07-29T11:09:09.772518Z",
     "iopub.status.idle": "2022-07-29T11:09:09.799958Z",
     "shell.execute_reply": "2022-07-29T11:09:09.799158Z"
    }
   },
   "outputs": [
    {
     "data": {
      "image/png": "[encoded data removed]",
      "text/plain": [
       "<IPython.core.display.Image object>"
      ]
     },
     "metadata": {},
     "output_type": "display_data"
    }
   ],
   "source": [
    "from IPython.display import Image, display\n",
    "display(Image(filename=\"causal_model.png\"))"
   ]
  },
  {
   "cell_type": "markdown",
   "id": "59b8417d",
   "metadata": {},
   "source": [
    "We get a causal graph. Now identification and estimation is done."
   ]
  },
  {
   "cell_type": "code",
   "execution_count": 7,
   "id": "205f7b26",
   "metadata": {
    "execution": {
     "iopub.execute_input": "2022-07-29T11:09:09.803619Z",
     "iopub.status.busy": "2022-07-29T11:09:09.803255Z",
     "iopub.status.idle": "2022-07-29T11:09:10.083163Z",
     "shell.execute_reply": "2022-07-29T11:09:10.082041Z"
    }
   },
   "outputs": [
    {
     "name": "stdout",
     "output_type": "stream",
     "text": [
      "Estimand type: nonparametric-ate\n",
      "\n",
      "### Estimand : 1\n",
      "Estimand name: backdoor\n",
      "Estimand expression:\n",
      "  d                       \n",
      "─────(E[y|W4,W3,W1,W0,W2])\n",
      "d[v₀]                     \n",
      "Estimand assumption 1, Unconfoundedness: If U→{v0} and U→y then P(y|v0,W4,W3,W1,W0,W2,U) = P(y|v0,W4,W3,W1,W0,W2)\n",
      "\n",
      "### Estimand : 2\n",
      "Estimand name: iv\n",
      "Estimand expression:\n",
      " ⎡                              -1⎤\n",
      " ⎢    d        ⎛    d          ⎞  ⎥\n",
      "E⎢─────────(y)⋅⎜─────────([v₀])⎟  ⎥\n",
      " ⎣d[Z₁  Z₀]    ⎝d[Z₁  Z₀]      ⎠  ⎦\n",
      "Estimand assumption 1, As-if-random: If U→→y then ¬(U →→{Z1,Z0})\n",
      "Estimand assumption 2, Exclusion: If we remove {Z1,Z0}→{v0}, then ¬({Z1,Z0}→y)\n",
      "\n",
      "### Estimand : 3\n",
      "Estimand name: frontdoor\n",
      "No such variable(s) found!\n",
      "\n"
     ]
    }
   ],
   "source": [
    "identified_estimand = model.identify_effect(proceed_when_unidentifiable=True)\n",
    "print(identified_estimand)"
   ]
  },
  {
   "cell_type": "markdown",
   "id": "b261f7a7",
   "metadata": {},
   "source": [
    "## Method 1: Propensity Score Stratification\n",
    "\n",
    "We will be using propensity scores to stratify units in the data."
   ]
  },
  {
   "cell_type": "code",
   "execution_count": 8,
   "id": "c932da5f",
   "metadata": {
    "execution": {
     "iopub.execute_input": "2022-07-29T11:09:10.087734Z",
     "iopub.status.busy": "2022-07-29T11:09:10.087453Z",
     "iopub.status.idle": "2022-07-29T11:09:11.117670Z",
     "shell.execute_reply": "2022-07-29T11:09:11.116705Z"
    }
   },
   "outputs": [
    {
     "name": "stdout",
     "output_type": "stream",
     "text": [
      "propensity_score_stratification\n"
     ]
    },
    {
     "name": "stderr",
     "output_type": "stream",
     "text": [
      "/usr/local/lib/python3.8/dist-packages/sklearn/utils/validation.py:993: DataConversionWarning: A column-vector y was passed when a 1d array was expected. Please change the shape of y to (n_samples, ), for example using ravel().\n",
      "  y = column_or_1d(y, warn=True)\n"
     ]
    },
    {
     "name": "stdout",
     "output_type": "stream",
     "text": [
      "*** Causal Estimate ***\n",
      "\n",
      "## Identified estimand\n",
      "Estimand type: nonparametric-ate\n",
      "\n",
      "### Estimand : 1\n",
      "Estimand name: backdoor\n",
      "Estimand expression:\n",
      "  d                       \n",
      "─────(E[y|W4,W3,W1,W0,W2])\n",
      "d[v₀]                     \n",
      "Estimand assumption 1, Unconfoundedness: If U→{v0} and U→y then P(y|v0,W4,W3,W1,W0,W2,U) = P(y|v0,W4,W3,W1,W0,W2)\n",
      "\n",
      "## Realized estimand\n",
      "b: y~v0+W4+W3+W1+W0+W2\n",
      "Target units: att\n",
      "\n",
      "## Estimate\n",
      "Mean value: 1.0217512858330946\n",
      "\n",
      "Causal Estimate is 1.0217512858330946\n"
     ]
    }
   ],
   "source": [
    "causal_estimate_strat = model.estimate_effect(identified_estimand,\n",
    "                                              method_name=\"backdoor.propensity_score_stratification\",\n",
    "                                              target_units=\"att\")\n",
    "print(causal_estimate_strat)\n",
    "print(\"Causal Estimate is \" + str(causal_estimate_strat.value))"
   ]
  },
  {
   "cell_type": "markdown",
   "id": "0fe8f267",
   "metadata": {},
   "source": [
    "### Textual Interpreter\n",
    "\n",
    "The textual Interpreter describes (in words) the effect of unit change in the treatment variable on the outcome variable."
   ]
  },
  {
   "cell_type": "code",
   "execution_count": 9,
   "id": "26744fe3",
   "metadata": {
    "execution": {
     "iopub.execute_input": "2022-07-29T11:09:11.121792Z",
     "iopub.status.busy": "2022-07-29T11:09:11.121465Z",
     "iopub.status.idle": "2022-07-29T11:09:11.146924Z",
     "shell.execute_reply": "2022-07-29T11:09:11.145960Z"
    }
   },
   "outputs": [
    {
     "name": "stdout",
     "output_type": "stream",
     "text": [
      "Increasing the treatment variable(s) [v0] from 0 to 1 causes an increase of 1.0217512858330946 in the expected value of the outcome [y], over the data distribution/population represented by the dataset.\n"
     ]
    }
   ],
   "source": [
    "# Textual Interpreter\n",
    "interpretation = causal_estimate_strat.interpret(method_name=\"textual_effect_interpreter\")"
   ]
  },
  {
   "cell_type": "markdown",
   "id": "ad3575b9",
   "metadata": {},
   "source": [
    "### Visual Interpreter\n",
    "\n",
    "The visual interpreter plots the change in the standardized mean difference (SMD) before and after Propensity Score based adjustment of the dataset. The formula for SMD is given below.\n",
    "\n",
    "\n",
    "$SMD = \\frac{\\bar X_{1} - \\bar X_{2}}{\\sqrt{(S_{1}^{2} + S_{2}^{2})/2}}$\n",
    "\n",
    "Here, $\\bar X_{1}$ and $\\bar X_{2}$ are the sample mean for the treated and control groups.\n"
   ]
  },
  {
   "cell_type": "code",
   "execution_count": 10,
   "id": "f5bd846a",
   "metadata": {
    "execution": {
     "iopub.execute_input": "2022-07-29T11:09:11.150326Z",
     "iopub.status.busy": "2022-07-29T11:09:11.149923Z",
     "iopub.status.idle": "2022-07-29T11:09:12.796648Z",
     "shell.execute_reply": "2022-07-29T11:09:12.795667Z"
    }
   },
   "outputs": [
    {
     "data": {
      "image/png": "[encoded data removed]",
      "text/plain": [
       "<Figure size 432x288 with 1 Axes>"
      ]
     },
     "metadata": {
      "needs_background": "light"
     },
     "output_type": "display_data"
    }
   ],
   "source": [
    "# Visual Interpreter\n",
    "interpretation = causal_estimate_strat.interpret(method_name=\"propensity_balance_interpreter\")"
   ]
  },
  {
   "cell_type": "markdown",
   "id": "0b4e23bb",
   "metadata": {},
   "source": [
    "This plot shows how the SMD decreases from the unadjusted to the stratified units. "
   ]
  },
  {
   "cell_type": "markdown",
   "id": "bc37ae1d",
   "metadata": {},
   "source": [
    "## Method 2: Propensity Score Matching\n",
    "\n",
    "We will be using propensity scores to match units in the data."
   ]
  },
  {
   "cell_type": "code",
   "execution_count": 11,
   "id": "efbaef51",
   "metadata": {
    "execution": {
     "iopub.execute_input": "2022-07-29T11:09:12.800851Z",
     "iopub.status.busy": "2022-07-29T11:09:12.800401Z",
     "iopub.status.idle": "2022-07-29T11:09:19.083694Z",
     "shell.execute_reply": "2022-07-29T11:09:19.082800Z"
    }
   },
   "outputs": [
    {
     "name": "stdout",
     "output_type": "stream",
     "text": [
      "propensity_score_matching\n"
     ]
    },
    {
     "name": "stderr",
     "output_type": "stream",
     "text": [
      "/usr/local/lib/python3.8/dist-packages/sklearn/utils/validation.py:993: DataConversionWarning: A column-vector y was passed when a 1d array was expected. Please change the shape of y to (n_samples, ), for example using ravel().\n",
      "  y = column_or_1d(y, warn=True)\n"
     ]
    },
    {
     "name": "stdout",
     "output_type": "stream",
     "text": [
      "*** Causal Estimate ***\n",
      "\n",
      "## Identified estimand\n",
      "Estimand type: nonparametric-ate\n",
      "\n",
      "### Estimand : 1\n",
      "Estimand name: backdoor\n",
      "Estimand expression:\n",
      "  d                       \n",
      "─────(E[y|W4,W3,W1,W0,W2])\n",
      "d[v₀]                     \n",
      "Estimand assumption 1, Unconfoundedness: If U→{v0} and U→y then P(y|v0,W4,W3,W1,W0,W2,U) = P(y|v0,W4,W3,W1,W0,W2)\n",
      "\n",
      "## Realized estimand\n",
      "b: y~v0+W4+W3+W1+W0+W2\n",
      "Target units: atc\n",
      "\n",
      "## Estimate\n",
      "Mean value: 1.0399123852890828\n",
      "\n",
      "Causal Estimate is 1.0399123852890828\n"
     ]
    }
   ],
   "source": [
    "causal_estimate_match = model.estimate_effect(identified_estimand,\n",
    "                                              method_name=\"backdoor.propensity_score_matching\",\n",
    "                                              target_units=\"atc\")\n",
    "print(causal_estimate_match)\n",
    "print(\"Causal Estimate is \" + str(causal_estimate_match.value))"
   ]
  },
  {
   "cell_type": "code",
   "execution_count": 12,
   "id": "81f48405",
   "metadata": {
    "execution": {
     "iopub.execute_input": "2022-07-29T11:09:19.088187Z",
     "iopub.status.busy": "2022-07-29T11:09:19.087655Z",
     "iopub.status.idle": "2022-07-29T11:09:19.118044Z",
     "shell.execute_reply": "2022-07-29T11:09:19.117048Z"
    }
   },
   "outputs": [
    {
     "name": "stdout",
     "output_type": "stream",
     "text": [
      "Increasing the treatment variable(s) [v0] from 0 to 1 causes an increase of 1.0399123852890828 in the expected value of the outcome [y], over the data distribution/population represented by the dataset.\n"
     ]
    }
   ],
   "source": [
    "# Textual Interpreter\n",
    "interpretation = causal_estimate_match.interpret(method_name=\"textual_effect_interpreter\")"
   ]
  },
  {
   "cell_type": "markdown",
   "id": "4568da16",
   "metadata": {},
   "source": [
    "Cannot use propensity balance interpretor here since the interpreter method only supports propensity score stratification estimator."
   ]
  },
  {
   "cell_type": "markdown",
   "id": "cfa95a65",
   "metadata": {},
   "source": [
    "## Method 3: Weighting\n",
    "\n",
    "We will be using (inverse) propensity scores to assign weights to units in the data. DoWhy supports a few different weighting schemes:\n",
    "1. Vanilla Inverse Propensity Score weighting (IPS) (weighting_scheme=\"ips_weight\")\n",
    "2. Self-normalized IPS weighting (also known as the Hajek estimator) (weighting_scheme=\"ips_normalized_weight\")\n",
    "3. Stabilized IPS weighting (weighting_scheme = \"ips_stabilized_weight\")"
   ]
  },
  {
   "cell_type": "code",
   "execution_count": 13,
   "id": "e48c9833",
   "metadata": {
    "execution": {
     "iopub.execute_input": "2022-07-29T11:09:19.122267Z",
     "iopub.status.busy": "2022-07-29T11:09:19.121773Z",
     "iopub.status.idle": "2022-07-29T11:09:19.200444Z",
     "shell.execute_reply": "2022-07-29T11:09:19.198827Z"
    }
   },
   "outputs": [
    {
     "name": "stdout",
     "output_type": "stream",
     "text": [
      "propensity_score_weighting\n",
      "*** Causal Estimate ***\n",
      "\n",
      "## Identified estimand\n",
      "Estimand type: nonparametric-ate\n",
      "\n",
      "### Estimand : 1\n",
      "Estimand name: backdoor\n",
      "Estimand expression:\n",
      "  d                       \n",
      "─────(E[y|W4,W3,W1,W0,W2])\n",
      "d[v₀]                     \n",
      "Estimand assumption 1, Unconfoundedness: If U→{v0} and U→y then P(y|v0,W4,W3,W1,W0,W2,U) = P(y|v0,W4,W3,W1,W0,W2)\n",
      "\n",
      "## Realized estimand\n",
      "b: y~v0+W4+W3+W1+W0+W2\n",
      "Target units: ate\n",
      "\n",
      "## Estimate\n",
      "Mean value: 0.998054642639079\n",
      "\n",
      "Causal Estimate is 0.998054642639079\n"
     ]
    },
    {
     "name": "stderr",
     "output_type": "stream",
     "text": [
      "/usr/local/lib/python3.8/dist-packages/sklearn/utils/validation.py:993: DataConversionWarning: A column-vector y was passed when a 1d array was expected. Please change the shape of y to (n_samples, ), for example using ravel().\n",
      "  y = column_or_1d(y, warn=True)\n"
     ]
    }
   ],
   "source": [
    "causal_estimate_ipw = model.estimate_effect(identified_estimand,\n",
    "                                            method_name=\"backdoor.propensity_score_weighting\",\n",
    "                                            target_units = \"ate\",\n",
    "                                            method_params={\"weighting_scheme\":\"ips_weight\"})\n",
    "print(causal_estimate_ipw)\n",
    "print(\"Causal Estimate is \" + str(causal_estimate_ipw.value))"
   ]
  },
  {
   "cell_type": "code",
   "execution_count": 14,
   "id": "bd601907",
   "metadata": {
    "execution": {
     "iopub.execute_input": "2022-07-29T11:09:19.204388Z",
     "iopub.status.busy": "2022-07-29T11:09:19.203928Z",
     "iopub.status.idle": "2022-07-29T11:09:19.239266Z",
     "shell.execute_reply": "2022-07-29T11:09:19.238409Z"
    }
   },
   "outputs": [
    {
     "name": "stdout",
     "output_type": "stream",
     "text": [
      "Increasing the treatment variable(s) [v0] from 0 to 1 causes an increase of 0.998054642639079 in the expected value of the outcome [y], over the data distribution/population represented by the dataset.\n"
     ]
    }
   ],
   "source": [
    "# Textual Interpreter\n",
    "interpretation = causal_estimate_ipw.interpret(method_name=\"textual_effect_interpreter\")"
   ]
  },
  {
   "cell_type": "code",
   "execution_count": 15,
   "id": "7d55fa7e",
   "metadata": {
    "execution": {
     "iopub.execute_input": "2022-07-29T11:09:19.245062Z",
     "iopub.status.busy": "2022-07-29T11:09:19.243716Z",
     "iopub.status.idle": "2022-07-29T11:09:19.597941Z",
     "shell.execute_reply": "2022-07-29T11:09:19.597016Z"
    }
   },
   "outputs": [
    {
     "data": {
      "image/png": "[encoded data removed]",
      "text/plain": [
       "<Figure size 576x576 with 2 Axes>"
      ]
     },
     "metadata": {
      "needs_background": "light"
     },
     "output_type": "display_data"
    }
   ],
   "source": [
    "interpretation = causal_estimate_ipw.interpret(method_name=\"confounder_distribution_interpreter\", fig_size=(8,8), font_size=12, var_name='W4', var_type='discrete')"
   ]
  },
  {
   "cell_type": "code",
   "execution_count": null,
   "id": "1f253a50",
   "metadata": {},
   "outputs": [],
   "source": []
  }
 ],
 "metadata": {
  "kernelspec": {
   "display_name": "Python 3",
   "language": "python",
   "name": "python3"
  },
  "language_info": {
   "codemirror_mode": {
    "name": "ipython",
    "version": 3
   },
   "file_extension": ".py",
   "mimetype": "text/x-python",
   "name": "python",
   "nbconvert_exporter": "python",
   "pygments_lexer": "ipython3",
   "version": "3.8.10"
  },
  "toc": {
   "base_numbering": 1,
   "nav_menu": {},
   "number_sections": false,
   "sideBar": true,
   "skip_h1_title": true,
   "title_cell": "Table of Contents",
   "title_sidebar": "Contents",
   "toc_cell": false,
   "toc_position": {},
   "toc_section_display": true,
   "toc_window_display": false
  }
 },
 "nbformat": 4,
 "nbformat_minor": 5
}
